{
  "nbformat": 4,
  "nbformat_minor": 0,
  "metadata": {
    "colab": {
      "name": "Textfooler.ipynb",
      "provenance": [],
      "collapsed_sections": [],
      "include_colab_link": true
    },
    "kernelspec": {
      "name": "python3",
      "display_name": "Python 3"
    },
    "language_info": {
      "name": "python"
    },
    "accelerator": "GPU",
    "widgets": {
      "application/vnd.jupyter.widget-state+json": {
        "775cfc6868184ef08c78b33e267b4c4d": {
          "model_module": "@jupyter-widgets/controls",
          "model_name": "HBoxModel",
          "state": {
            "_view_name": "HBoxView",
            "_dom_classes": [],
            "_model_name": "HBoxModel",
            "_view_module": "@jupyter-widgets/controls",
            "_model_module_version": "1.5.0",
            "_view_count": null,
            "_view_module_version": "1.5.0",
            "box_style": "",
            "layout": "IPY_MODEL_1fc48d758c29452592b2c82ef94fa816",
            "_model_module": "@jupyter-widgets/controls",
            "children": [
              "IPY_MODEL_e509b973576740f3b1c8819a68c7a13f",
              "IPY_MODEL_3f9be6aab6c341e3a6c0756740f4d286"
            ]
          }
        },
        "1fc48d758c29452592b2c82ef94fa816": {
          "model_module": "@jupyter-widgets/base",
          "model_name": "LayoutModel",
          "state": {
            "_view_name": "LayoutView",
            "grid_template_rows": null,
            "right": null,
            "justify_content": null,
            "_view_module": "@jupyter-widgets/base",
            "overflow": null,
            "_model_module_version": "1.2.0",
            "_view_count": null,
            "flex_flow": null,
            "width": null,
            "min_width": null,
            "border": null,
            "align_items": null,
            "bottom": null,
            "_model_module": "@jupyter-widgets/base",
            "top": null,
            "grid_column": null,
            "overflow_y": null,
            "overflow_x": null,
            "grid_auto_flow": null,
            "grid_area": null,
            "grid_template_columns": null,
            "flex": null,
            "_model_name": "LayoutModel",
            "justify_items": null,
            "grid_row": null,
            "max_height": null,
            "align_content": null,
            "visibility": null,
            "align_self": null,
            "height": null,
            "min_height": null,
            "padding": null,
            "grid_auto_rows": null,
            "grid_gap": null,
            "max_width": null,
            "order": null,
            "_view_module_version": "1.2.0",
            "grid_template_areas": null,
            "object_position": null,
            "object_fit": null,
            "grid_auto_columns": null,
            "margin": null,
            "display": null,
            "left": null
          }
        },
        "e509b973576740f3b1c8819a68c7a13f": {
          "model_module": "@jupyter-widgets/controls",
          "model_name": "FloatProgressModel",
          "state": {
            "_view_name": "ProgressView",
            "style": "IPY_MODEL_b340b43884514dbabeab4ed99ee7ce2b",
            "_dom_classes": [],
            "description": "Downloading: 100%",
            "_model_name": "FloatProgressModel",
            "bar_style": "success",
            "max": 520,
            "_view_module": "@jupyter-widgets/controls",
            "_model_module_version": "1.5.0",
            "value": 520,
            "_view_count": null,
            "_view_module_version": "1.5.0",
            "orientation": "horizontal",
            "min": 0,
            "description_tooltip": null,
            "_model_module": "@jupyter-widgets/controls",
            "layout": "IPY_MODEL_419e449dba0346358799ec3950c97a7b"
          }
        },
        "3f9be6aab6c341e3a6c0756740f4d286": {
          "model_module": "@jupyter-widgets/controls",
          "model_name": "HTMLModel",
          "state": {
            "_view_name": "HTMLView",
            "style": "IPY_MODEL_ae57e85ffd634ba7aad47b97e10818a5",
            "_dom_classes": [],
            "description": "",
            "_model_name": "HTMLModel",
            "placeholder": "​",
            "_view_module": "@jupyter-widgets/controls",
            "_model_module_version": "1.5.0",
            "value": " 520/520 [00:00&lt;00:00, 3.50kB/s]",
            "_view_count": null,
            "_view_module_version": "1.5.0",
            "description_tooltip": null,
            "_model_module": "@jupyter-widgets/controls",
            "layout": "IPY_MODEL_ed01332c4da2472dbf9a2446e16aaf44"
          }
        },
        "b340b43884514dbabeab4ed99ee7ce2b": {
          "model_module": "@jupyter-widgets/controls",
          "model_name": "ProgressStyleModel",
          "state": {
            "_view_name": "StyleView",
            "_model_name": "ProgressStyleModel",
            "description_width": "initial",
            "_view_module": "@jupyter-widgets/base",
            "_model_module_version": "1.5.0",
            "_view_count": null,
            "_view_module_version": "1.2.0",
            "bar_color": null,
            "_model_module": "@jupyter-widgets/controls"
          }
        },
        "419e449dba0346358799ec3950c97a7b": {
          "model_module": "@jupyter-widgets/base",
          "model_name": "LayoutModel",
          "state": {
            "_view_name": "LayoutView",
            "grid_template_rows": null,
            "right": null,
            "justify_content": null,
            "_view_module": "@jupyter-widgets/base",
            "overflow": null,
            "_model_module_version": "1.2.0",
            "_view_count": null,
            "flex_flow": null,
            "width": null,
            "min_width": null,
            "border": null,
            "align_items": null,
            "bottom": null,
            "_model_module": "@jupyter-widgets/base",
            "top": null,
            "grid_column": null,
            "overflow_y": null,
            "overflow_x": null,
            "grid_auto_flow": null,
            "grid_area": null,
            "grid_template_columns": null,
            "flex": null,
            "_model_name": "LayoutModel",
            "justify_items": null,
            "grid_row": null,
            "max_height": null,
            "align_content": null,
            "visibility": null,
            "align_self": null,
            "height": null,
            "min_height": null,
            "padding": null,
            "grid_auto_rows": null,
            "grid_gap": null,
            "max_width": null,
            "order": null,
            "_view_module_version": "1.2.0",
            "grid_template_areas": null,
            "object_position": null,
            "object_fit": null,
            "grid_auto_columns": null,
            "margin": null,
            "display": null,
            "left": null
          }
        },
        "ae57e85ffd634ba7aad47b97e10818a5": {
          "model_module": "@jupyter-widgets/controls",
          "model_name": "DescriptionStyleModel",
          "state": {
            "_view_name": "StyleView",
            "_model_name": "DescriptionStyleModel",
            "description_width": "",
            "_view_module": "@jupyter-widgets/base",
            "_model_module_version": "1.5.0",
            "_view_count": null,
            "_view_module_version": "1.2.0",
            "_model_module": "@jupyter-widgets/controls"
          }
        },
        "ed01332c4da2472dbf9a2446e16aaf44": {
          "model_module": "@jupyter-widgets/base",
          "model_name": "LayoutModel",
          "state": {
            "_view_name": "LayoutView",
            "grid_template_rows": null,
            "right": null,
            "justify_content": null,
            "_view_module": "@jupyter-widgets/base",
            "overflow": null,
            "_model_module_version": "1.2.0",
            "_view_count": null,
            "flex_flow": null,
            "width": null,
            "min_width": null,
            "border": null,
            "align_items": null,
            "bottom": null,
            "_model_module": "@jupyter-widgets/base",
            "top": null,
            "grid_column": null,
            "overflow_y": null,
            "overflow_x": null,
            "grid_auto_flow": null,
            "grid_area": null,
            "grid_template_columns": null,
            "flex": null,
            "_model_name": "LayoutModel",
            "justify_items": null,
            "grid_row": null,
            "max_height": null,
            "align_content": null,
            "visibility": null,
            "align_self": null,
            "height": null,
            "min_height": null,
            "padding": null,
            "grid_auto_rows": null,
            "grid_gap": null,
            "max_width": null,
            "order": null,
            "_view_module_version": "1.2.0",
            "grid_template_areas": null,
            "object_position": null,
            "object_fit": null,
            "grid_auto_columns": null,
            "margin": null,
            "display": null,
            "left": null
          }
        },
        "a17b8dd2fde244259a9ad28e104bb678": {
          "model_module": "@jupyter-widgets/controls",
          "model_name": "HBoxModel",
          "state": {
            "_view_name": "HBoxView",
            "_dom_classes": [],
            "_model_name": "HBoxModel",
            "_view_module": "@jupyter-widgets/controls",
            "_model_module_version": "1.5.0",
            "_view_count": null,
            "_view_module_version": "1.5.0",
            "box_style": "",
            "layout": "IPY_MODEL_3fe624c529fa4f78805500a47a20a12f",
            "_model_module": "@jupyter-widgets/controls",
            "children": [
              "IPY_MODEL_410e11b22afe4c979ab6625abc70e873",
              "IPY_MODEL_44bf9e4b6aad4e0fadb861f71b6d988e"
            ]
          }
        },
        "3fe624c529fa4f78805500a47a20a12f": {
          "model_module": "@jupyter-widgets/base",
          "model_name": "LayoutModel",
          "state": {
            "_view_name": "LayoutView",
            "grid_template_rows": null,
            "right": null,
            "justify_content": null,
            "_view_module": "@jupyter-widgets/base",
            "overflow": null,
            "_model_module_version": "1.2.0",
            "_view_count": null,
            "flex_flow": null,
            "width": null,
            "min_width": null,
            "border": null,
            "align_items": null,
            "bottom": null,
            "_model_module": "@jupyter-widgets/base",
            "top": null,
            "grid_column": null,
            "overflow_y": null,
            "overflow_x": null,
            "grid_auto_flow": null,
            "grid_area": null,
            "grid_template_columns": null,
            "flex": null,
            "_model_name": "LayoutModel",
            "justify_items": null,
            "grid_row": null,
            "max_height": null,
            "align_content": null,
            "visibility": null,
            "align_self": null,
            "height": null,
            "min_height": null,
            "padding": null,
            "grid_auto_rows": null,
            "grid_gap": null,
            "max_width": null,
            "order": null,
            "_view_module_version": "1.2.0",
            "grid_template_areas": null,
            "object_position": null,
            "object_fit": null,
            "grid_auto_columns": null,
            "margin": null,
            "display": null,
            "left": null
          }
        },
        "410e11b22afe4c979ab6625abc70e873": {
          "model_module": "@jupyter-widgets/controls",
          "model_name": "FloatProgressModel",
          "state": {
            "_view_name": "ProgressView",
            "style": "IPY_MODEL_7278d8dd27a141d6aa08b979bc9097dc",
            "_dom_classes": [],
            "description": "Downloading: 100%",
            "_model_name": "FloatProgressModel",
            "bar_style": "success",
            "max": 437985387,
            "_view_module": "@jupyter-widgets/controls",
            "_model_module_version": "1.5.0",
            "value": 437985387,
            "_view_count": null,
            "_view_module_version": "1.5.0",
            "orientation": "horizontal",
            "min": 0,
            "description_tooltip": null,
            "_model_module": "@jupyter-widgets/controls",
            "layout": "IPY_MODEL_8b00f0a4b1a3471386191b0a976bbca7"
          }
        },
        "44bf9e4b6aad4e0fadb861f71b6d988e": {
          "model_module": "@jupyter-widgets/controls",
          "model_name": "HTMLModel",
          "state": {
            "_view_name": "HTMLView",
            "style": "IPY_MODEL_39b5be0ac96c40e296c5fe857479314c",
            "_dom_classes": [],
            "description": "",
            "_model_name": "HTMLModel",
            "placeholder": "​",
            "_view_module": "@jupyter-widgets/controls",
            "_model_module_version": "1.5.0",
            "value": " 438M/438M [00:10&lt;00:00, 42.7MB/s]",
            "_view_count": null,
            "_view_module_version": "1.5.0",
            "description_tooltip": null,
            "_model_module": "@jupyter-widgets/controls",
            "layout": "IPY_MODEL_ff896a19507644a781117da5253b5cf5"
          }
        },
        "7278d8dd27a141d6aa08b979bc9097dc": {
          "model_module": "@jupyter-widgets/controls",
          "model_name": "ProgressStyleModel",
          "state": {
            "_view_name": "StyleView",
            "_model_name": "ProgressStyleModel",
            "description_width": "initial",
            "_view_module": "@jupyter-widgets/base",
            "_model_module_version": "1.5.0",
            "_view_count": null,
            "_view_module_version": "1.2.0",
            "bar_color": null,
            "_model_module": "@jupyter-widgets/controls"
          }
        },
        "8b00f0a4b1a3471386191b0a976bbca7": {
          "model_module": "@jupyter-widgets/base",
          "model_name": "LayoutModel",
          "state": {
            "_view_name": "LayoutView",
            "grid_template_rows": null,
            "right": null,
            "justify_content": null,
            "_view_module": "@jupyter-widgets/base",
            "overflow": null,
            "_model_module_version": "1.2.0",
            "_view_count": null,
            "flex_flow": null,
            "width": null,
            "min_width": null,
            "border": null,
            "align_items": null,
            "bottom": null,
            "_model_module": "@jupyter-widgets/base",
            "top": null,
            "grid_column": null,
            "overflow_y": null,
            "overflow_x": null,
            "grid_auto_flow": null,
            "grid_area": null,
            "grid_template_columns": null,
            "flex": null,
            "_model_name": "LayoutModel",
            "justify_items": null,
            "grid_row": null,
            "max_height": null,
            "align_content": null,
            "visibility": null,
            "align_self": null,
            "height": null,
            "min_height": null,
            "padding": null,
            "grid_auto_rows": null,
            "grid_gap": null,
            "max_width": null,
            "order": null,
            "_view_module_version": "1.2.0",
            "grid_template_areas": null,
            "object_position": null,
            "object_fit": null,
            "grid_auto_columns": null,
            "margin": null,
            "display": null,
            "left": null
          }
        },
        "39b5be0ac96c40e296c5fe857479314c": {
          "model_module": "@jupyter-widgets/controls",
          "model_name": "DescriptionStyleModel",
          "state": {
            "_view_name": "StyleView",
            "_model_name": "DescriptionStyleModel",
            "description_width": "",
            "_view_module": "@jupyter-widgets/base",
            "_model_module_version": "1.5.0",
            "_view_count": null,
            "_view_module_version": "1.2.0",
            "_model_module": "@jupyter-widgets/controls"
          }
        },
        "ff896a19507644a781117da5253b5cf5": {
          "model_module": "@jupyter-widgets/base",
          "model_name": "LayoutModel",
          "state": {
            "_view_name": "LayoutView",
            "grid_template_rows": null,
            "right": null,
            "justify_content": null,
            "_view_module": "@jupyter-widgets/base",
            "overflow": null,
            "_model_module_version": "1.2.0",
            "_view_count": null,
            "flex_flow": null,
            "width": null,
            "min_width": null,
            "border": null,
            "align_items": null,
            "bottom": null,
            "_model_module": "@jupyter-widgets/base",
            "top": null,
            "grid_column": null,
            "overflow_y": null,
            "overflow_x": null,
            "grid_auto_flow": null,
            "grid_area": null,
            "grid_template_columns": null,
            "flex": null,
            "_model_name": "LayoutModel",
            "justify_items": null,
            "grid_row": null,
            "max_height": null,
            "align_content": null,
            "visibility": null,
            "align_self": null,
            "height": null,
            "min_height": null,
            "padding": null,
            "grid_auto_rows": null,
            "grid_gap": null,
            "max_width": null,
            "order": null,
            "_view_module_version": "1.2.0",
            "grid_template_areas": null,
            "object_position": null,
            "object_fit": null,
            "grid_auto_columns": null,
            "margin": null,
            "display": null,
            "left": null
          }
        },
        "d8dcc34374a2416088d76aea2c215277": {
          "model_module": "@jupyter-widgets/controls",
          "model_name": "HBoxModel",
          "state": {
            "_view_name": "HBoxView",
            "_dom_classes": [],
            "_model_name": "HBoxModel",
            "_view_module": "@jupyter-widgets/controls",
            "_model_module_version": "1.5.0",
            "_view_count": null,
            "_view_module_version": "1.5.0",
            "box_style": "",
            "layout": "IPY_MODEL_3cde440fa6f5437d8d835044c37ac686",
            "_model_module": "@jupyter-widgets/controls",
            "children": [
              "IPY_MODEL_f36ae71c468c4130b7f7e6944edbcede",
              "IPY_MODEL_10abf71d192d4abcbeecbcc032185e11"
            ]
          }
        },
        "3cde440fa6f5437d8d835044c37ac686": {
          "model_module": "@jupyter-widgets/base",
          "model_name": "LayoutModel",
          "state": {
            "_view_name": "LayoutView",
            "grid_template_rows": null,
            "right": null,
            "justify_content": null,
            "_view_module": "@jupyter-widgets/base",
            "overflow": null,
            "_model_module_version": "1.2.0",
            "_view_count": null,
            "flex_flow": null,
            "width": null,
            "min_width": null,
            "border": null,
            "align_items": null,
            "bottom": null,
            "_model_module": "@jupyter-widgets/base",
            "top": null,
            "grid_column": null,
            "overflow_y": null,
            "overflow_x": null,
            "grid_auto_flow": null,
            "grid_area": null,
            "grid_template_columns": null,
            "flex": null,
            "_model_name": "LayoutModel",
            "justify_items": null,
            "grid_row": null,
            "max_height": null,
            "align_content": null,
            "visibility": null,
            "align_self": null,
            "height": null,
            "min_height": null,
            "padding": null,
            "grid_auto_rows": null,
            "grid_gap": null,
            "max_width": null,
            "order": null,
            "_view_module_version": "1.2.0",
            "grid_template_areas": null,
            "object_position": null,
            "object_fit": null,
            "grid_auto_columns": null,
            "margin": null,
            "display": null,
            "left": null
          }
        },
        "f36ae71c468c4130b7f7e6944edbcede": {
          "model_module": "@jupyter-widgets/controls",
          "model_name": "FloatProgressModel",
          "state": {
            "_view_name": "ProgressView",
            "style": "IPY_MODEL_ffa5b6ec4d8a4b0d8135fa35a234d117",
            "_dom_classes": [],
            "description": "Downloading: 100%",
            "_model_name": "FloatProgressModel",
            "bar_style": "success",
            "max": 231508,
            "_view_module": "@jupyter-widgets/controls",
            "_model_module_version": "1.5.0",
            "value": 231508,
            "_view_count": null,
            "_view_module_version": "1.5.0",
            "orientation": "horizontal",
            "min": 0,
            "description_tooltip": null,
            "_model_module": "@jupyter-widgets/controls",
            "layout": "IPY_MODEL_77ce4aeb562d455697618b240708f04b"
          }
        },
        "10abf71d192d4abcbeecbcc032185e11": {
          "model_module": "@jupyter-widgets/controls",
          "model_name": "HTMLModel",
          "state": {
            "_view_name": "HTMLView",
            "style": "IPY_MODEL_dd5f378f49a141f8b5cae650d808c8b3",
            "_dom_classes": [],
            "description": "",
            "_model_name": "HTMLModel",
            "placeholder": "​",
            "_view_module": "@jupyter-widgets/controls",
            "_model_module_version": "1.5.0",
            "value": " 232k/232k [00:00&lt;00:00, 264kB/s]",
            "_view_count": null,
            "_view_module_version": "1.5.0",
            "description_tooltip": null,
            "_model_module": "@jupyter-widgets/controls",
            "layout": "IPY_MODEL_19a97031e07d4c97b6869860fb4b86f1"
          }
        },
        "ffa5b6ec4d8a4b0d8135fa35a234d117": {
          "model_module": "@jupyter-widgets/controls",
          "model_name": "ProgressStyleModel",
          "state": {
            "_view_name": "StyleView",
            "_model_name": "ProgressStyleModel",
            "description_width": "initial",
            "_view_module": "@jupyter-widgets/base",
            "_model_module_version": "1.5.0",
            "_view_count": null,
            "_view_module_version": "1.2.0",
            "bar_color": null,
            "_model_module": "@jupyter-widgets/controls"
          }
        },
        "77ce4aeb562d455697618b240708f04b": {
          "model_module": "@jupyter-widgets/base",
          "model_name": "LayoutModel",
          "state": {
            "_view_name": "LayoutView",
            "grid_template_rows": null,
            "right": null,
            "justify_content": null,
            "_view_module": "@jupyter-widgets/base",
            "overflow": null,
            "_model_module_version": "1.2.0",
            "_view_count": null,
            "flex_flow": null,
            "width": null,
            "min_width": null,
            "border": null,
            "align_items": null,
            "bottom": null,
            "_model_module": "@jupyter-widgets/base",
            "top": null,
            "grid_column": null,
            "overflow_y": null,
            "overflow_x": null,
            "grid_auto_flow": null,
            "grid_area": null,
            "grid_template_columns": null,
            "flex": null,
            "_model_name": "LayoutModel",
            "justify_items": null,
            "grid_row": null,
            "max_height": null,
            "align_content": null,
            "visibility": null,
            "align_self": null,
            "height": null,
            "min_height": null,
            "padding": null,
            "grid_auto_rows": null,
            "grid_gap": null,
            "max_width": null,
            "order": null,
            "_view_module_version": "1.2.0",
            "grid_template_areas": null,
            "object_position": null,
            "object_fit": null,
            "grid_auto_columns": null,
            "margin": null,
            "display": null,
            "left": null
          }
        },
        "dd5f378f49a141f8b5cae650d808c8b3": {
          "model_module": "@jupyter-widgets/controls",
          "model_name": "DescriptionStyleModel",
          "state": {
            "_view_name": "StyleView",
            "_model_name": "DescriptionStyleModel",
            "description_width": "",
            "_view_module": "@jupyter-widgets/base",
            "_model_module_version": "1.5.0",
            "_view_count": null,
            "_view_module_version": "1.2.0",
            "_model_module": "@jupyter-widgets/controls"
          }
        },
        "19a97031e07d4c97b6869860fb4b86f1": {
          "model_module": "@jupyter-widgets/base",
          "model_name": "LayoutModel",
          "state": {
            "_view_name": "LayoutView",
            "grid_template_rows": null,
            "right": null,
            "justify_content": null,
            "_view_module": "@jupyter-widgets/base",
            "overflow": null,
            "_model_module_version": "1.2.0",
            "_view_count": null,
            "flex_flow": null,
            "width": null,
            "min_width": null,
            "border": null,
            "align_items": null,
            "bottom": null,
            "_model_module": "@jupyter-widgets/base",
            "top": null,
            "grid_column": null,
            "overflow_y": null,
            "overflow_x": null,
            "grid_auto_flow": null,
            "grid_area": null,
            "grid_template_columns": null,
            "flex": null,
            "_model_name": "LayoutModel",
            "justify_items": null,
            "grid_row": null,
            "max_height": null,
            "align_content": null,
            "visibility": null,
            "align_self": null,
            "height": null,
            "min_height": null,
            "padding": null,
            "grid_auto_rows": null,
            "grid_gap": null,
            "max_width": null,
            "order": null,
            "_view_module_version": "1.2.0",
            "grid_template_areas": null,
            "object_position": null,
            "object_fit": null,
            "grid_auto_columns": null,
            "margin": null,
            "display": null,
            "left": null
          }
        },
        "178796a3656f43159a2a4e514fe68d8a": {
          "model_module": "@jupyter-widgets/controls",
          "model_name": "HBoxModel",
          "state": {
            "_view_name": "HBoxView",
            "_dom_classes": [],
            "_model_name": "HBoxModel",
            "_view_module": "@jupyter-widgets/controls",
            "_model_module_version": "1.5.0",
            "_view_count": null,
            "_view_module_version": "1.5.0",
            "box_style": "",
            "layout": "IPY_MODEL_4777720b37a14eafa92cff249d9b72c4",
            "_model_module": "@jupyter-widgets/controls",
            "children": [
              "IPY_MODEL_fe8c82b967ea41bba10e9883c91a18d6",
              "IPY_MODEL_f29de12a72414771923fe44a295793ae"
            ]
          }
        },
        "4777720b37a14eafa92cff249d9b72c4": {
          "model_module": "@jupyter-widgets/base",
          "model_name": "LayoutModel",
          "state": {
            "_view_name": "LayoutView",
            "grid_template_rows": null,
            "right": null,
            "justify_content": null,
            "_view_module": "@jupyter-widgets/base",
            "overflow": null,
            "_model_module_version": "1.2.0",
            "_view_count": null,
            "flex_flow": null,
            "width": null,
            "min_width": null,
            "border": null,
            "align_items": null,
            "bottom": null,
            "_model_module": "@jupyter-widgets/base",
            "top": null,
            "grid_column": null,
            "overflow_y": null,
            "overflow_x": null,
            "grid_auto_flow": null,
            "grid_area": null,
            "grid_template_columns": null,
            "flex": null,
            "_model_name": "LayoutModel",
            "justify_items": null,
            "grid_row": null,
            "max_height": null,
            "align_content": null,
            "visibility": null,
            "align_self": null,
            "height": null,
            "min_height": null,
            "padding": null,
            "grid_auto_rows": null,
            "grid_gap": null,
            "max_width": null,
            "order": null,
            "_view_module_version": "1.2.0",
            "grid_template_areas": null,
            "object_position": null,
            "object_fit": null,
            "grid_auto_columns": null,
            "margin": null,
            "display": null,
            "left": null
          }
        },
        "fe8c82b967ea41bba10e9883c91a18d6": {
          "model_module": "@jupyter-widgets/controls",
          "model_name": "FloatProgressModel",
          "state": {
            "_view_name": "ProgressView",
            "style": "IPY_MODEL_66b423f8800e460ea1c80c49eb8276ea",
            "_dom_classes": [],
            "description": "Downloading: 100%",
            "_model_name": "FloatProgressModel",
            "bar_style": "success",
            "max": 112,
            "_view_module": "@jupyter-widgets/controls",
            "_model_module_version": "1.5.0",
            "value": 112,
            "_view_count": null,
            "_view_module_version": "1.5.0",
            "orientation": "horizontal",
            "min": 0,
            "description_tooltip": null,
            "_model_module": "@jupyter-widgets/controls",
            "layout": "IPY_MODEL_dd3481f4326e469987e6ca37ccf3ec17"
          }
        },
        "f29de12a72414771923fe44a295793ae": {
          "model_module": "@jupyter-widgets/controls",
          "model_name": "HTMLModel",
          "state": {
            "_view_name": "HTMLView",
            "style": "IPY_MODEL_867c0561a6a0428c8e7b969c6b422b72",
            "_dom_classes": [],
            "description": "",
            "_model_name": "HTMLModel",
            "placeholder": "​",
            "_view_module": "@jupyter-widgets/controls",
            "_model_module_version": "1.5.0",
            "value": " 112/112 [00:00&lt;00:00, 337B/s]",
            "_view_count": null,
            "_view_module_version": "1.5.0",
            "description_tooltip": null,
            "_model_module": "@jupyter-widgets/controls",
            "layout": "IPY_MODEL_855a5e435741436b9d29b8d61b3f3586"
          }
        },
        "66b423f8800e460ea1c80c49eb8276ea": {
          "model_module": "@jupyter-widgets/controls",
          "model_name": "ProgressStyleModel",
          "state": {
            "_view_name": "StyleView",
            "_model_name": "ProgressStyleModel",
            "description_width": "initial",
            "_view_module": "@jupyter-widgets/base",
            "_model_module_version": "1.5.0",
            "_view_count": null,
            "_view_module_version": "1.2.0",
            "bar_color": null,
            "_model_module": "@jupyter-widgets/controls"
          }
        },
        "dd3481f4326e469987e6ca37ccf3ec17": {
          "model_module": "@jupyter-widgets/base",
          "model_name": "LayoutModel",
          "state": {
            "_view_name": "LayoutView",
            "grid_template_rows": null,
            "right": null,
            "justify_content": null,
            "_view_module": "@jupyter-widgets/base",
            "overflow": null,
            "_model_module_version": "1.2.0",
            "_view_count": null,
            "flex_flow": null,
            "width": null,
            "min_width": null,
            "border": null,
            "align_items": null,
            "bottom": null,
            "_model_module": "@jupyter-widgets/base",
            "top": null,
            "grid_column": null,
            "overflow_y": null,
            "overflow_x": null,
            "grid_auto_flow": null,
            "grid_area": null,
            "grid_template_columns": null,
            "flex": null,
            "_model_name": "LayoutModel",
            "justify_items": null,
            "grid_row": null,
            "max_height": null,
            "align_content": null,
            "visibility": null,
            "align_self": null,
            "height": null,
            "min_height": null,
            "padding": null,
            "grid_auto_rows": null,
            "grid_gap": null,
            "max_width": null,
            "order": null,
            "_view_module_version": "1.2.0",
            "grid_template_areas": null,
            "object_position": null,
            "object_fit": null,
            "grid_auto_columns": null,
            "margin": null,
            "display": null,
            "left": null
          }
        },
        "867c0561a6a0428c8e7b969c6b422b72": {
          "model_module": "@jupyter-widgets/controls",
          "model_name": "DescriptionStyleModel",
          "state": {
            "_view_name": "StyleView",
            "_model_name": "DescriptionStyleModel",
            "description_width": "",
            "_view_module": "@jupyter-widgets/base",
            "_model_module_version": "1.5.0",
            "_view_count": null,
            "_view_module_version": "1.2.0",
            "_model_module": "@jupyter-widgets/controls"
          }
        },
        "855a5e435741436b9d29b8d61b3f3586": {
          "model_module": "@jupyter-widgets/base",
          "model_name": "LayoutModel",
          "state": {
            "_view_name": "LayoutView",
            "grid_template_rows": null,
            "right": null,
            "justify_content": null,
            "_view_module": "@jupyter-widgets/base",
            "overflow": null,
            "_model_module_version": "1.2.0",
            "_view_count": null,
            "flex_flow": null,
            "width": null,
            "min_width": null,
            "border": null,
            "align_items": null,
            "bottom": null,
            "_model_module": "@jupyter-widgets/base",
            "top": null,
            "grid_column": null,
            "overflow_y": null,
            "overflow_x": null,
            "grid_auto_flow": null,
            "grid_area": null,
            "grid_template_columns": null,
            "flex": null,
            "_model_name": "LayoutModel",
            "justify_items": null,
            "grid_row": null,
            "max_height": null,
            "align_content": null,
            "visibility": null,
            "align_self": null,
            "height": null,
            "min_height": null,
            "padding": null,
            "grid_auto_rows": null,
            "grid_gap": null,
            "max_width": null,
            "order": null,
            "_view_module_version": "1.2.0",
            "grid_template_areas": null,
            "object_position": null,
            "object_fit": null,
            "grid_auto_columns": null,
            "margin": null,
            "display": null,
            "left": null
          }
        },
        "a839c770cc944ae79dd68f4457a60a8c": {
          "model_module": "@jupyter-widgets/controls",
          "model_name": "HBoxModel",
          "state": {
            "_view_name": "HBoxView",
            "_dom_classes": [],
            "_model_name": "HBoxModel",
            "_view_module": "@jupyter-widgets/controls",
            "_model_module_version": "1.5.0",
            "_view_count": null,
            "_view_module_version": "1.5.0",
            "box_style": "",
            "layout": "IPY_MODEL_2e790f38247d44f89fd7e0047a2bbb33",
            "_model_module": "@jupyter-widgets/controls",
            "children": [
              "IPY_MODEL_965bf7d7276442b2bd617bd08fb6bd77",
              "IPY_MODEL_dfcf94bda46b4443b6bc9de8a9aa0936"
            ]
          }
        },
        "2e790f38247d44f89fd7e0047a2bbb33": {
          "model_module": "@jupyter-widgets/base",
          "model_name": "LayoutModel",
          "state": {
            "_view_name": "LayoutView",
            "grid_template_rows": null,
            "right": null,
            "justify_content": null,
            "_view_module": "@jupyter-widgets/base",
            "overflow": null,
            "_model_module_version": "1.2.0",
            "_view_count": null,
            "flex_flow": null,
            "width": null,
            "min_width": null,
            "border": null,
            "align_items": null,
            "bottom": null,
            "_model_module": "@jupyter-widgets/base",
            "top": null,
            "grid_column": null,
            "overflow_y": null,
            "overflow_x": null,
            "grid_auto_flow": null,
            "grid_area": null,
            "grid_template_columns": null,
            "flex": null,
            "_model_name": "LayoutModel",
            "justify_items": null,
            "grid_row": null,
            "max_height": null,
            "align_content": null,
            "visibility": null,
            "align_self": null,
            "height": null,
            "min_height": null,
            "padding": null,
            "grid_auto_rows": null,
            "grid_gap": null,
            "max_width": null,
            "order": null,
            "_view_module_version": "1.2.0",
            "grid_template_areas": null,
            "object_position": null,
            "object_fit": null,
            "grid_auto_columns": null,
            "margin": null,
            "display": null,
            "left": null
          }
        },
        "965bf7d7276442b2bd617bd08fb6bd77": {
          "model_module": "@jupyter-widgets/controls",
          "model_name": "FloatProgressModel",
          "state": {
            "_view_name": "ProgressView",
            "style": "IPY_MODEL_096cbf52ecf340098ba2e096408400f2",
            "_dom_classes": [],
            "description": "Downloading: 100%",
            "_model_name": "FloatProgressModel",
            "bar_style": "success",
            "max": 48,
            "_view_module": "@jupyter-widgets/controls",
            "_model_module_version": "1.5.0",
            "value": 48,
            "_view_count": null,
            "_view_module_version": "1.5.0",
            "orientation": "horizontal",
            "min": 0,
            "description_tooltip": null,
            "_model_module": "@jupyter-widgets/controls",
            "layout": "IPY_MODEL_734b53f8cb64439e830700a6d8ce0fd4"
          }
        },
        "dfcf94bda46b4443b6bc9de8a9aa0936": {
          "model_module": "@jupyter-widgets/controls",
          "model_name": "HTMLModel",
          "state": {
            "_view_name": "HTMLView",
            "style": "IPY_MODEL_b6c5fd0ae4624a8bb32ad511b66cfc14",
            "_dom_classes": [],
            "description": "",
            "_model_name": "HTMLModel",
            "placeholder": "​",
            "_view_module": "@jupyter-widgets/controls",
            "_model_module_version": "1.5.0",
            "value": " 48.0/48.0 [00:00&lt;00:00, 561B/s]",
            "_view_count": null,
            "_view_module_version": "1.5.0",
            "description_tooltip": null,
            "_model_module": "@jupyter-widgets/controls",
            "layout": "IPY_MODEL_0faeda0119bc48f6ba2f7e8d8bf9f12b"
          }
        },
        "096cbf52ecf340098ba2e096408400f2": {
          "model_module": "@jupyter-widgets/controls",
          "model_name": "ProgressStyleModel",
          "state": {
            "_view_name": "StyleView",
            "_model_name": "ProgressStyleModel",
            "description_width": "initial",
            "_view_module": "@jupyter-widgets/base",
            "_model_module_version": "1.5.0",
            "_view_count": null,
            "_view_module_version": "1.2.0",
            "bar_color": null,
            "_model_module": "@jupyter-widgets/controls"
          }
        },
        "734b53f8cb64439e830700a6d8ce0fd4": {
          "model_module": "@jupyter-widgets/base",
          "model_name": "LayoutModel",
          "state": {
            "_view_name": "LayoutView",
            "grid_template_rows": null,
            "right": null,
            "justify_content": null,
            "_view_module": "@jupyter-widgets/base",
            "overflow": null,
            "_model_module_version": "1.2.0",
            "_view_count": null,
            "flex_flow": null,
            "width": null,
            "min_width": null,
            "border": null,
            "align_items": null,
            "bottom": null,
            "_model_module": "@jupyter-widgets/base",
            "top": null,
            "grid_column": null,
            "overflow_y": null,
            "overflow_x": null,
            "grid_auto_flow": null,
            "grid_area": null,
            "grid_template_columns": null,
            "flex": null,
            "_model_name": "LayoutModel",
            "justify_items": null,
            "grid_row": null,
            "max_height": null,
            "align_content": null,
            "visibility": null,
            "align_self": null,
            "height": null,
            "min_height": null,
            "padding": null,
            "grid_auto_rows": null,
            "grid_gap": null,
            "max_width": null,
            "order": null,
            "_view_module_version": "1.2.0",
            "grid_template_areas": null,
            "object_position": null,
            "object_fit": null,
            "grid_auto_columns": null,
            "margin": null,
            "display": null,
            "left": null
          }
        },
        "b6c5fd0ae4624a8bb32ad511b66cfc14": {
          "model_module": "@jupyter-widgets/controls",
          "model_name": "DescriptionStyleModel",
          "state": {
            "_view_name": "StyleView",
            "_model_name": "DescriptionStyleModel",
            "description_width": "",
            "_view_module": "@jupyter-widgets/base",
            "_model_module_version": "1.5.0",
            "_view_count": null,
            "_view_module_version": "1.2.0",
            "_model_module": "@jupyter-widgets/controls"
          }
        },
        "0faeda0119bc48f6ba2f7e8d8bf9f12b": {
          "model_module": "@jupyter-widgets/base",
          "model_name": "LayoutModel",
          "state": {
            "_view_name": "LayoutView",
            "grid_template_rows": null,
            "right": null,
            "justify_content": null,
            "_view_module": "@jupyter-widgets/base",
            "overflow": null,
            "_model_module_version": "1.2.0",
            "_view_count": null,
            "flex_flow": null,
            "width": null,
            "min_width": null,
            "border": null,
            "align_items": null,
            "bottom": null,
            "_model_module": "@jupyter-widgets/base",
            "top": null,
            "grid_column": null,
            "overflow_y": null,
            "overflow_x": null,
            "grid_auto_flow": null,
            "grid_area": null,
            "grid_template_columns": null,
            "flex": null,
            "_model_name": "LayoutModel",
            "justify_items": null,
            "grid_row": null,
            "max_height": null,
            "align_content": null,
            "visibility": null,
            "align_self": null,
            "height": null,
            "min_height": null,
            "padding": null,
            "grid_auto_rows": null,
            "grid_gap": null,
            "max_width": null,
            "order": null,
            "_view_module_version": "1.2.0",
            "grid_template_areas": null,
            "object_position": null,
            "object_fit": null,
            "grid_auto_columns": null,
            "margin": null,
            "display": null,
            "left": null
          }
        },
        "31b6090fa42049ffbd25865eb0003116": {
          "model_module": "@jupyter-widgets/controls",
          "model_name": "HBoxModel",
          "state": {
            "_view_name": "HBoxView",
            "_dom_classes": [],
            "_model_name": "HBoxModel",
            "_view_module": "@jupyter-widgets/controls",
            "_model_module_version": "1.5.0",
            "_view_count": null,
            "_view_module_version": "1.5.0",
            "box_style": "",
            "layout": "IPY_MODEL_917deb5435854be4a6354187f3faf521",
            "_model_module": "@jupyter-widgets/controls",
            "children": [
              "IPY_MODEL_bce474807da34d96bc2ecc172d7a44c4",
              "IPY_MODEL_3be8b3346c44462e9f0eb543440b676f"
            ]
          }
        },
        "917deb5435854be4a6354187f3faf521": {
          "model_module": "@jupyter-widgets/base",
          "model_name": "LayoutModel",
          "state": {
            "_view_name": "LayoutView",
            "grid_template_rows": null,
            "right": null,
            "justify_content": null,
            "_view_module": "@jupyter-widgets/base",
            "overflow": null,
            "_model_module_version": "1.2.0",
            "_view_count": null,
            "flex_flow": null,
            "width": null,
            "min_width": null,
            "border": null,
            "align_items": null,
            "bottom": null,
            "_model_module": "@jupyter-widgets/base",
            "top": null,
            "grid_column": null,
            "overflow_y": null,
            "overflow_x": null,
            "grid_auto_flow": null,
            "grid_area": null,
            "grid_template_columns": null,
            "flex": null,
            "_model_name": "LayoutModel",
            "justify_items": null,
            "grid_row": null,
            "max_height": null,
            "align_content": null,
            "visibility": null,
            "align_self": null,
            "height": null,
            "min_height": null,
            "padding": null,
            "grid_auto_rows": null,
            "grid_gap": null,
            "max_width": null,
            "order": null,
            "_view_module_version": "1.2.0",
            "grid_template_areas": null,
            "object_position": null,
            "object_fit": null,
            "grid_auto_columns": null,
            "margin": null,
            "display": null,
            "left": null
          }
        },
        "bce474807da34d96bc2ecc172d7a44c4": {
          "model_module": "@jupyter-widgets/controls",
          "model_name": "FloatProgressModel",
          "state": {
            "_view_name": "ProgressView",
            "style": "IPY_MODEL_637fae28497448788f944b3ca11c529f",
            "_dom_classes": [],
            "description": "Downloading: ",
            "_model_name": "FloatProgressModel",
            "bar_style": "success",
            "max": 2313,
            "_view_module": "@jupyter-widgets/controls",
            "_model_module_version": "1.5.0",
            "value": 2313,
            "_view_count": null,
            "_view_module_version": "1.5.0",
            "orientation": "horizontal",
            "min": 0,
            "description_tooltip": null,
            "_model_module": "@jupyter-widgets/controls",
            "layout": "IPY_MODEL_cf7d7001d75b449d95ea1c141c541b3a"
          }
        },
        "3be8b3346c44462e9f0eb543440b676f": {
          "model_module": "@jupyter-widgets/controls",
          "model_name": "HTMLModel",
          "state": {
            "_view_name": "HTMLView",
            "style": "IPY_MODEL_c7764d3bc80645698eb147a872fee653",
            "_dom_classes": [],
            "description": "",
            "_model_name": "HTMLModel",
            "placeholder": "​",
            "_view_module": "@jupyter-widgets/controls",
            "_model_module_version": "1.5.0",
            "value": " 5.88k/? [00:00&lt;00:00, 15.5kB/s]",
            "_view_count": null,
            "_view_module_version": "1.5.0",
            "description_tooltip": null,
            "_model_module": "@jupyter-widgets/controls",
            "layout": "IPY_MODEL_f505296c7a4e4139bbd28c5c695181ce"
          }
        },
        "637fae28497448788f944b3ca11c529f": {
          "model_module": "@jupyter-widgets/controls",
          "model_name": "ProgressStyleModel",
          "state": {
            "_view_name": "StyleView",
            "_model_name": "ProgressStyleModel",
            "description_width": "initial",
            "_view_module": "@jupyter-widgets/base",
            "_model_module_version": "1.5.0",
            "_view_count": null,
            "_view_module_version": "1.2.0",
            "bar_color": null,
            "_model_module": "@jupyter-widgets/controls"
          }
        },
        "cf7d7001d75b449d95ea1c141c541b3a": {
          "model_module": "@jupyter-widgets/base",
          "model_name": "LayoutModel",
          "state": {
            "_view_name": "LayoutView",
            "grid_template_rows": null,
            "right": null,
            "justify_content": null,
            "_view_module": "@jupyter-widgets/base",
            "overflow": null,
            "_model_module_version": "1.2.0",
            "_view_count": null,
            "flex_flow": null,
            "width": null,
            "min_width": null,
            "border": null,
            "align_items": null,
            "bottom": null,
            "_model_module": "@jupyter-widgets/base",
            "top": null,
            "grid_column": null,
            "overflow_y": null,
            "overflow_x": null,
            "grid_auto_flow": null,
            "grid_area": null,
            "grid_template_columns": null,
            "flex": null,
            "_model_name": "LayoutModel",
            "justify_items": null,
            "grid_row": null,
            "max_height": null,
            "align_content": null,
            "visibility": null,
            "align_self": null,
            "height": null,
            "min_height": null,
            "padding": null,
            "grid_auto_rows": null,
            "grid_gap": null,
            "max_width": null,
            "order": null,
            "_view_module_version": "1.2.0",
            "grid_template_areas": null,
            "object_position": null,
            "object_fit": null,
            "grid_auto_columns": null,
            "margin": null,
            "display": null,
            "left": null
          }
        },
        "c7764d3bc80645698eb147a872fee653": {
          "model_module": "@jupyter-widgets/controls",
          "model_name": "DescriptionStyleModel",
          "state": {
            "_view_name": "StyleView",
            "_model_name": "DescriptionStyleModel",
            "description_width": "",
            "_view_module": "@jupyter-widgets/base",
            "_model_module_version": "1.5.0",
            "_view_count": null,
            "_view_module_version": "1.2.0",
            "_model_module": "@jupyter-widgets/controls"
          }
        },
        "f505296c7a4e4139bbd28c5c695181ce": {
          "model_module": "@jupyter-widgets/base",
          "model_name": "LayoutModel",
          "state": {
            "_view_name": "LayoutView",
            "grid_template_rows": null,
            "right": null,
            "justify_content": null,
            "_view_module": "@jupyter-widgets/base",
            "overflow": null,
            "_model_module_version": "1.2.0",
            "_view_count": null,
            "flex_flow": null,
            "width": null,
            "min_width": null,
            "border": null,
            "align_items": null,
            "bottom": null,
            "_model_module": "@jupyter-widgets/base",
            "top": null,
            "grid_column": null,
            "overflow_y": null,
            "overflow_x": null,
            "grid_auto_flow": null,
            "grid_area": null,
            "grid_template_columns": null,
            "flex": null,
            "_model_name": "LayoutModel",
            "justify_items": null,
            "grid_row": null,
            "max_height": null,
            "align_content": null,
            "visibility": null,
            "align_self": null,
            "height": null,
            "min_height": null,
            "padding": null,
            "grid_auto_rows": null,
            "grid_gap": null,
            "max_width": null,
            "order": null,
            "_view_module_version": "1.2.0",
            "grid_template_areas": null,
            "object_position": null,
            "object_fit": null,
            "grid_auto_columns": null,
            "margin": null,
            "display": null,
            "left": null
          }
        },
        "d954a94fb4404790a4bae5cfce32601a": {
          "model_module": "@jupyter-widgets/controls",
          "model_name": "HBoxModel",
          "state": {
            "_view_name": "HBoxView",
            "_dom_classes": [],
            "_model_name": "HBoxModel",
            "_view_module": "@jupyter-widgets/controls",
            "_model_module_version": "1.5.0",
            "_view_count": null,
            "_view_module_version": "1.5.0",
            "box_style": "",
            "layout": "IPY_MODEL_55dfe30d28a84fafa30ffdc4a8ef4783",
            "_model_module": "@jupyter-widgets/controls",
            "children": [
              "IPY_MODEL_9caf8808ab3d4dcc8e0ff0d03611e38b",
              "IPY_MODEL_858d0eeb71624322a53b684b0a9d0569"
            ]
          }
        },
        "55dfe30d28a84fafa30ffdc4a8ef4783": {
          "model_module": "@jupyter-widgets/base",
          "model_name": "LayoutModel",
          "state": {
            "_view_name": "LayoutView",
            "grid_template_rows": null,
            "right": null,
            "justify_content": null,
            "_view_module": "@jupyter-widgets/base",
            "overflow": null,
            "_model_module_version": "1.2.0",
            "_view_count": null,
            "flex_flow": null,
            "width": null,
            "min_width": null,
            "border": null,
            "align_items": null,
            "bottom": null,
            "_model_module": "@jupyter-widgets/base",
            "top": null,
            "grid_column": null,
            "overflow_y": null,
            "overflow_x": null,
            "grid_auto_flow": null,
            "grid_area": null,
            "grid_template_columns": null,
            "flex": null,
            "_model_name": "LayoutModel",
            "justify_items": null,
            "grid_row": null,
            "max_height": null,
            "align_content": null,
            "visibility": null,
            "align_self": null,
            "height": null,
            "min_height": null,
            "padding": null,
            "grid_auto_rows": null,
            "grid_gap": null,
            "max_width": null,
            "order": null,
            "_view_module_version": "1.2.0",
            "grid_template_areas": null,
            "object_position": null,
            "object_fit": null,
            "grid_auto_columns": null,
            "margin": null,
            "display": null,
            "left": null
          }
        },
        "9caf8808ab3d4dcc8e0ff0d03611e38b": {
          "model_module": "@jupyter-widgets/controls",
          "model_name": "FloatProgressModel",
          "state": {
            "_view_name": "ProgressView",
            "style": "IPY_MODEL_fe77173f26ed400688c5134fc0763042",
            "_dom_classes": [],
            "description": "Downloading: ",
            "_model_name": "FloatProgressModel",
            "bar_style": "success",
            "max": 1609,
            "_view_module": "@jupyter-widgets/controls",
            "_model_module_version": "1.5.0",
            "value": 1609,
            "_view_count": null,
            "_view_module_version": "1.5.0",
            "orientation": "horizontal",
            "min": 0,
            "description_tooltip": null,
            "_model_module": "@jupyter-widgets/controls",
            "layout": "IPY_MODEL_ef09454696804d96969ca891d1c27579"
          }
        },
        "858d0eeb71624322a53b684b0a9d0569": {
          "model_module": "@jupyter-widgets/controls",
          "model_name": "HTMLModel",
          "state": {
            "_view_name": "HTMLView",
            "style": "IPY_MODEL_46e894ac33f44dad9d7fef4ce6259674",
            "_dom_classes": [],
            "description": "",
            "_model_name": "HTMLModel",
            "placeholder": "​",
            "_view_module": "@jupyter-widgets/controls",
            "_model_module_version": "1.5.0",
            "value": " 3.37k/? [00:00&lt;00:00, 33.4kB/s]",
            "_view_count": null,
            "_view_module_version": "1.5.0",
            "description_tooltip": null,
            "_model_module": "@jupyter-widgets/controls",
            "layout": "IPY_MODEL_5ad6fd5e536c48499b3c7b00d4b4941d"
          }
        },
        "fe77173f26ed400688c5134fc0763042": {
          "model_module": "@jupyter-widgets/controls",
          "model_name": "ProgressStyleModel",
          "state": {
            "_view_name": "StyleView",
            "_model_name": "ProgressStyleModel",
            "description_width": "initial",
            "_view_module": "@jupyter-widgets/base",
            "_model_module_version": "1.5.0",
            "_view_count": null,
            "_view_module_version": "1.2.0",
            "bar_color": null,
            "_model_module": "@jupyter-widgets/controls"
          }
        },
        "ef09454696804d96969ca891d1c27579": {
          "model_module": "@jupyter-widgets/base",
          "model_name": "LayoutModel",
          "state": {
            "_view_name": "LayoutView",
            "grid_template_rows": null,
            "right": null,
            "justify_content": null,
            "_view_module": "@jupyter-widgets/base",
            "overflow": null,
            "_model_module_version": "1.2.0",
            "_view_count": null,
            "flex_flow": null,
            "width": null,
            "min_width": null,
            "border": null,
            "align_items": null,
            "bottom": null,
            "_model_module": "@jupyter-widgets/base",
            "top": null,
            "grid_column": null,
            "overflow_y": null,
            "overflow_x": null,
            "grid_auto_flow": null,
            "grid_area": null,
            "grid_template_columns": null,
            "flex": null,
            "_model_name": "LayoutModel",
            "justify_items": null,
            "grid_row": null,
            "max_height": null,
            "align_content": null,
            "visibility": null,
            "align_self": null,
            "height": null,
            "min_height": null,
            "padding": null,
            "grid_auto_rows": null,
            "grid_gap": null,
            "max_width": null,
            "order": null,
            "_view_module_version": "1.2.0",
            "grid_template_areas": null,
            "object_position": null,
            "object_fit": null,
            "grid_auto_columns": null,
            "margin": null,
            "display": null,
            "left": null
          }
        },
        "46e894ac33f44dad9d7fef4ce6259674": {
          "model_module": "@jupyter-widgets/controls",
          "model_name": "DescriptionStyleModel",
          "state": {
            "_view_name": "StyleView",
            "_model_name": "DescriptionStyleModel",
            "description_width": "",
            "_view_module": "@jupyter-widgets/base",
            "_model_module_version": "1.5.0",
            "_view_count": null,
            "_view_module_version": "1.2.0",
            "_model_module": "@jupyter-widgets/controls"
          }
        },
        "5ad6fd5e536c48499b3c7b00d4b4941d": {
          "model_module": "@jupyter-widgets/base",
          "model_name": "LayoutModel",
          "state": {
            "_view_name": "LayoutView",
            "grid_template_rows": null,
            "right": null,
            "justify_content": null,
            "_view_module": "@jupyter-widgets/base",
            "overflow": null,
            "_model_module_version": "1.2.0",
            "_view_count": null,
            "flex_flow": null,
            "width": null,
            "min_width": null,
            "border": null,
            "align_items": null,
            "bottom": null,
            "_model_module": "@jupyter-widgets/base",
            "top": null,
            "grid_column": null,
            "overflow_y": null,
            "overflow_x": null,
            "grid_auto_flow": null,
            "grid_area": null,
            "grid_template_columns": null,
            "flex": null,
            "_model_name": "LayoutModel",
            "justify_items": null,
            "grid_row": null,
            "max_height": null,
            "align_content": null,
            "visibility": null,
            "align_self": null,
            "height": null,
            "min_height": null,
            "padding": null,
            "grid_auto_rows": null,
            "grid_gap": null,
            "max_width": null,
            "order": null,
            "_view_module_version": "1.2.0",
            "grid_template_areas": null,
            "object_position": null,
            "object_fit": null,
            "grid_auto_columns": null,
            "margin": null,
            "display": null,
            "left": null
          }
        },
        "ff45a3f61b5f4f16a0830bce7dcf7339": {
          "model_module": "@jupyter-widgets/controls",
          "model_name": "HBoxModel",
          "state": {
            "_view_name": "HBoxView",
            "_dom_classes": [],
            "_model_name": "HBoxModel",
            "_view_module": "@jupyter-widgets/controls",
            "_model_module_version": "1.5.0",
            "_view_count": null,
            "_view_module_version": "1.5.0",
            "box_style": "",
            "layout": "IPY_MODEL_a13e5ee88ab94ec3a7c7ec241f6db5fd",
            "_model_module": "@jupyter-widgets/controls",
            "children": [
              "IPY_MODEL_547a1888a8ca409aa0316359ec3a8ee0",
              "IPY_MODEL_c8f1a2970111458fa776149f43224749"
            ]
          }
        },
        "a13e5ee88ab94ec3a7c7ec241f6db5fd": {
          "model_module": "@jupyter-widgets/base",
          "model_name": "LayoutModel",
          "state": {
            "_view_name": "LayoutView",
            "grid_template_rows": null,
            "right": null,
            "justify_content": null,
            "_view_module": "@jupyter-widgets/base",
            "overflow": null,
            "_model_module_version": "1.2.0",
            "_view_count": null,
            "flex_flow": null,
            "width": null,
            "min_width": null,
            "border": null,
            "align_items": null,
            "bottom": null,
            "_model_module": "@jupyter-widgets/base",
            "top": null,
            "grid_column": null,
            "overflow_y": null,
            "overflow_x": null,
            "grid_auto_flow": null,
            "grid_area": null,
            "grid_template_columns": null,
            "flex": null,
            "_model_name": "LayoutModel",
            "justify_items": null,
            "grid_row": null,
            "max_height": null,
            "align_content": null,
            "visibility": null,
            "align_self": null,
            "height": null,
            "min_height": null,
            "padding": null,
            "grid_auto_rows": null,
            "grid_gap": null,
            "max_width": null,
            "order": null,
            "_view_module_version": "1.2.0",
            "grid_template_areas": null,
            "object_position": null,
            "object_fit": null,
            "grid_auto_columns": null,
            "margin": null,
            "display": null,
            "left": null
          }
        },
        "547a1888a8ca409aa0316359ec3a8ee0": {
          "model_module": "@jupyter-widgets/controls",
          "model_name": "FloatProgressModel",
          "state": {
            "_view_name": "ProgressView",
            "style": "IPY_MODEL_2c8404e068e240a4b3f425acefd3140c",
            "_dom_classes": [],
            "description": "Downloading: 100%",
            "_model_name": "FloatProgressModel",
            "bar_style": "success",
            "max": 166373201,
            "_view_module": "@jupyter-widgets/controls",
            "_model_module_version": "1.5.0",
            "value": 166373201,
            "_view_count": null,
            "_view_module_version": "1.5.0",
            "orientation": "horizontal",
            "min": 0,
            "description_tooltip": null,
            "_model_module": "@jupyter-widgets/controls",
            "layout": "IPY_MODEL_a05efa03e29a4850a024c908663be9c0"
          }
        },
        "c8f1a2970111458fa776149f43224749": {
          "model_module": "@jupyter-widgets/controls",
          "model_name": "HTMLModel",
          "state": {
            "_view_name": "HTMLView",
            "style": "IPY_MODEL_4ee4ce37c2c84c3c842c6954121266fd",
            "_dom_classes": [],
            "description": "",
            "_model_name": "HTMLModel",
            "placeholder": "​",
            "_view_module": "@jupyter-widgets/controls",
            "_model_module_version": "1.5.0",
            "value": " 166M/166M [00:09&lt;00:00, 17.8MB/s]",
            "_view_count": null,
            "_view_module_version": "1.5.0",
            "description_tooltip": null,
            "_model_module": "@jupyter-widgets/controls",
            "layout": "IPY_MODEL_7fe728f00d12461fa460d29179881200"
          }
        },
        "2c8404e068e240a4b3f425acefd3140c": {
          "model_module": "@jupyter-widgets/controls",
          "model_name": "ProgressStyleModel",
          "state": {
            "_view_name": "StyleView",
            "_model_name": "ProgressStyleModel",
            "description_width": "initial",
            "_view_module": "@jupyter-widgets/base",
            "_model_module_version": "1.5.0",
            "_view_count": null,
            "_view_module_version": "1.2.0",
            "bar_color": null,
            "_model_module": "@jupyter-widgets/controls"
          }
        },
        "a05efa03e29a4850a024c908663be9c0": {
          "model_module": "@jupyter-widgets/base",
          "model_name": "LayoutModel",
          "state": {
            "_view_name": "LayoutView",
            "grid_template_rows": null,
            "right": null,
            "justify_content": null,
            "_view_module": "@jupyter-widgets/base",
            "overflow": null,
            "_model_module_version": "1.2.0",
            "_view_count": null,
            "flex_flow": null,
            "width": null,
            "min_width": null,
            "border": null,
            "align_items": null,
            "bottom": null,
            "_model_module": "@jupyter-widgets/base",
            "top": null,
            "grid_column": null,
            "overflow_y": null,
            "overflow_x": null,
            "grid_auto_flow": null,
            "grid_area": null,
            "grid_template_columns": null,
            "flex": null,
            "_model_name": "LayoutModel",
            "justify_items": null,
            "grid_row": null,
            "max_height": null,
            "align_content": null,
            "visibility": null,
            "align_self": null,
            "height": null,
            "min_height": null,
            "padding": null,
            "grid_auto_rows": null,
            "grid_gap": null,
            "max_width": null,
            "order": null,
            "_view_module_version": "1.2.0",
            "grid_template_areas": null,
            "object_position": null,
            "object_fit": null,
            "grid_auto_columns": null,
            "margin": null,
            "display": null,
            "left": null
          }
        },
        "4ee4ce37c2c84c3c842c6954121266fd": {
          "model_module": "@jupyter-widgets/controls",
          "model_name": "DescriptionStyleModel",
          "state": {
            "_view_name": "StyleView",
            "_model_name": "DescriptionStyleModel",
            "description_width": "",
            "_view_module": "@jupyter-widgets/base",
            "_model_module_version": "1.5.0",
            "_view_count": null,
            "_view_module_version": "1.2.0",
            "_model_module": "@jupyter-widgets/controls"
          }
        },
        "7fe728f00d12461fa460d29179881200": {
          "model_module": "@jupyter-widgets/base",
          "model_name": "LayoutModel",
          "state": {
            "_view_name": "LayoutView",
            "grid_template_rows": null,
            "right": null,
            "justify_content": null,
            "_view_module": "@jupyter-widgets/base",
            "overflow": null,
            "_model_module_version": "1.2.0",
            "_view_count": null,
            "flex_flow": null,
            "width": null,
            "min_width": null,
            "border": null,
            "align_items": null,
            "bottom": null,
            "_model_module": "@jupyter-widgets/base",
            "top": null,
            "grid_column": null,
            "overflow_y": null,
            "overflow_x": null,
            "grid_auto_flow": null,
            "grid_area": null,
            "grid_template_columns": null,
            "flex": null,
            "_model_name": "LayoutModel",
            "justify_items": null,
            "grid_row": null,
            "max_height": null,
            "align_content": null,
            "visibility": null,
            "align_self": null,
            "height": null,
            "min_height": null,
            "padding": null,
            "grid_auto_rows": null,
            "grid_gap": null,
            "max_width": null,
            "order": null,
            "_view_module_version": "1.2.0",
            "grid_template_areas": null,
            "object_position": null,
            "object_fit": null,
            "grid_auto_columns": null,
            "margin": null,
            "display": null,
            "left": null
          }
        },
        "e57d3995a9a34fbf83640e6e232ec7bc": {
          "model_module": "@jupyter-widgets/controls",
          "model_name": "HBoxModel",
          "state": {
            "_view_name": "HBoxView",
            "_dom_classes": [],
            "_model_name": "HBoxModel",
            "_view_module": "@jupyter-widgets/controls",
            "_model_module_version": "1.5.0",
            "_view_count": null,
            "_view_module_version": "1.5.0",
            "box_style": "",
            "layout": "IPY_MODEL_18d3a7b27c674b499e02412a72a19161",
            "_model_module": "@jupyter-widgets/controls",
            "children": [
              "IPY_MODEL_b0ff5676bdea46a683f81c0c15d5481d",
              "IPY_MODEL_fa50a4f8f0344ba2b5fa0b6c897165bf"
            ]
          }
        },
        "18d3a7b27c674b499e02412a72a19161": {
          "model_module": "@jupyter-widgets/base",
          "model_name": "LayoutModel",
          "state": {
            "_view_name": "LayoutView",
            "grid_template_rows": null,
            "right": null,
            "justify_content": null,
            "_view_module": "@jupyter-widgets/base",
            "overflow": null,
            "_model_module_version": "1.2.0",
            "_view_count": null,
            "flex_flow": null,
            "width": null,
            "min_width": null,
            "border": null,
            "align_items": null,
            "bottom": null,
            "_model_module": "@jupyter-widgets/base",
            "top": null,
            "grid_column": null,
            "overflow_y": null,
            "overflow_x": null,
            "grid_auto_flow": null,
            "grid_area": null,
            "grid_template_columns": null,
            "flex": null,
            "_model_name": "LayoutModel",
            "justify_items": null,
            "grid_row": null,
            "max_height": null,
            "align_content": null,
            "visibility": null,
            "align_self": null,
            "height": null,
            "min_height": null,
            "padding": null,
            "grid_auto_rows": null,
            "grid_gap": null,
            "max_width": null,
            "order": null,
            "_view_module_version": "1.2.0",
            "grid_template_areas": null,
            "object_position": null,
            "object_fit": null,
            "grid_auto_columns": null,
            "margin": null,
            "display": null,
            "left": null
          }
        },
        "b0ff5676bdea46a683f81c0c15d5481d": {
          "model_module": "@jupyter-widgets/controls",
          "model_name": "FloatProgressModel",
          "state": {
            "_view_name": "ProgressView",
            "style": "IPY_MODEL_4b3cea24944f4835954422b04dfb8b99",
            "_dom_classes": [],
            "description": "",
            "_model_name": "FloatProgressModel",
            "bar_style": "info",
            "max": 1,
            "_view_module": "@jupyter-widgets/controls",
            "_model_module_version": "1.5.0",
            "value": 1,
            "_view_count": null,
            "_view_module_version": "1.5.0",
            "orientation": "horizontal",
            "min": 0,
            "description_tooltip": null,
            "_model_module": "@jupyter-widgets/controls",
            "layout": "IPY_MODEL_db87d69aa22149ac9ab464d1e8da7dc0"
          }
        },
        "fa50a4f8f0344ba2b5fa0b6c897165bf": {
          "model_module": "@jupyter-widgets/controls",
          "model_name": "HTMLModel",
          "state": {
            "_view_name": "HTMLView",
            "style": "IPY_MODEL_935a3f161ac64651b96f41dba2fcfca5",
            "_dom_classes": [],
            "description": "",
            "_model_name": "HTMLModel",
            "placeholder": "​",
            "_view_module": "@jupyter-widgets/controls",
            "_model_module_version": "1.5.0",
            "value": " 560000/0 [00:13&lt;00:00, 47491.74 examples/s]",
            "_view_count": null,
            "_view_module_version": "1.5.0",
            "description_tooltip": null,
            "_model_module": "@jupyter-widgets/controls",
            "layout": "IPY_MODEL_d7b5a50d92c1465e92ffcd9eb7c3ff26"
          }
        },
        "4b3cea24944f4835954422b04dfb8b99": {
          "model_module": "@jupyter-widgets/controls",
          "model_name": "ProgressStyleModel",
          "state": {
            "_view_name": "StyleView",
            "_model_name": "ProgressStyleModel",
            "description_width": "initial",
            "_view_module": "@jupyter-widgets/base",
            "_model_module_version": "1.5.0",
            "_view_count": null,
            "_view_module_version": "1.2.0",
            "bar_color": null,
            "_model_module": "@jupyter-widgets/controls"
          }
        },
        "db87d69aa22149ac9ab464d1e8da7dc0": {
          "model_module": "@jupyter-widgets/base",
          "model_name": "LayoutModel",
          "state": {
            "_view_name": "LayoutView",
            "grid_template_rows": null,
            "right": null,
            "justify_content": null,
            "_view_module": "@jupyter-widgets/base",
            "overflow": null,
            "_model_module_version": "1.2.0",
            "_view_count": null,
            "flex_flow": null,
            "width": null,
            "min_width": null,
            "border": null,
            "align_items": null,
            "bottom": null,
            "_model_module": "@jupyter-widgets/base",
            "top": null,
            "grid_column": null,
            "overflow_y": null,
            "overflow_x": null,
            "grid_auto_flow": null,
            "grid_area": null,
            "grid_template_columns": null,
            "flex": null,
            "_model_name": "LayoutModel",
            "justify_items": null,
            "grid_row": null,
            "max_height": null,
            "align_content": null,
            "visibility": null,
            "align_self": null,
            "height": null,
            "min_height": null,
            "padding": null,
            "grid_auto_rows": null,
            "grid_gap": null,
            "max_width": null,
            "order": null,
            "_view_module_version": "1.2.0",
            "grid_template_areas": null,
            "object_position": null,
            "object_fit": null,
            "grid_auto_columns": null,
            "margin": null,
            "display": null,
            "left": null
          }
        },
        "935a3f161ac64651b96f41dba2fcfca5": {
          "model_module": "@jupyter-widgets/controls",
          "model_name": "DescriptionStyleModel",
          "state": {
            "_view_name": "StyleView",
            "_model_name": "DescriptionStyleModel",
            "description_width": "",
            "_view_module": "@jupyter-widgets/base",
            "_model_module_version": "1.5.0",
            "_view_count": null,
            "_view_module_version": "1.2.0",
            "_model_module": "@jupyter-widgets/controls"
          }
        },
        "d7b5a50d92c1465e92ffcd9eb7c3ff26": {
          "model_module": "@jupyter-widgets/base",
          "model_name": "LayoutModel",
          "state": {
            "_view_name": "LayoutView",
            "grid_template_rows": null,
            "right": null,
            "justify_content": null,
            "_view_module": "@jupyter-widgets/base",
            "overflow": null,
            "_model_module_version": "1.2.0",
            "_view_count": null,
            "flex_flow": null,
            "width": null,
            "min_width": null,
            "border": null,
            "align_items": null,
            "bottom": null,
            "_model_module": "@jupyter-widgets/base",
            "top": null,
            "grid_column": null,
            "overflow_y": null,
            "overflow_x": null,
            "grid_auto_flow": null,
            "grid_area": null,
            "grid_template_columns": null,
            "flex": null,
            "_model_name": "LayoutModel",
            "justify_items": null,
            "grid_row": null,
            "max_height": null,
            "align_content": null,
            "visibility": null,
            "align_self": null,
            "height": null,
            "min_height": null,
            "padding": null,
            "grid_auto_rows": null,
            "grid_gap": null,
            "max_width": null,
            "order": null,
            "_view_module_version": "1.2.0",
            "grid_template_areas": null,
            "object_position": null,
            "object_fit": null,
            "grid_auto_columns": null,
            "margin": null,
            "display": null,
            "left": null
          }
        },
        "e9da34bfbc99446780e3455a13db4059": {
          "model_module": "@jupyter-widgets/controls",
          "model_name": "HBoxModel",
          "state": {
            "_view_name": "HBoxView",
            "_dom_classes": [],
            "_model_name": "HBoxModel",
            "_view_module": "@jupyter-widgets/controls",
            "_model_module_version": "1.5.0",
            "_view_count": null,
            "_view_module_version": "1.5.0",
            "box_style": "",
            "layout": "IPY_MODEL_264265072c0e4b9996f5801dcdcdd554",
            "_model_module": "@jupyter-widgets/controls",
            "children": [
              "IPY_MODEL_95409a763cc54d35b3c2f9858880612e",
              "IPY_MODEL_eec5c4b4f1a54e4988945244776f7352"
            ]
          }
        },
        "264265072c0e4b9996f5801dcdcdd554": {
          "model_module": "@jupyter-widgets/base",
          "model_name": "LayoutModel",
          "state": {
            "_view_name": "LayoutView",
            "grid_template_rows": null,
            "right": null,
            "justify_content": null,
            "_view_module": "@jupyter-widgets/base",
            "overflow": null,
            "_model_module_version": "1.2.0",
            "_view_count": null,
            "flex_flow": null,
            "width": null,
            "min_width": null,
            "border": null,
            "align_items": null,
            "bottom": null,
            "_model_module": "@jupyter-widgets/base",
            "top": null,
            "grid_column": null,
            "overflow_y": null,
            "overflow_x": null,
            "grid_auto_flow": null,
            "grid_area": null,
            "grid_template_columns": null,
            "flex": null,
            "_model_name": "LayoutModel",
            "justify_items": null,
            "grid_row": null,
            "max_height": null,
            "align_content": null,
            "visibility": null,
            "align_self": null,
            "height": null,
            "min_height": null,
            "padding": null,
            "grid_auto_rows": null,
            "grid_gap": null,
            "max_width": null,
            "order": null,
            "_view_module_version": "1.2.0",
            "grid_template_areas": null,
            "object_position": null,
            "object_fit": null,
            "grid_auto_columns": null,
            "margin": null,
            "display": null,
            "left": null
          }
        },
        "95409a763cc54d35b3c2f9858880612e": {
          "model_module": "@jupyter-widgets/controls",
          "model_name": "FloatProgressModel",
          "state": {
            "_view_name": "ProgressView",
            "style": "IPY_MODEL_d4522934992e4a56b6144a28d16070ae",
            "_dom_classes": [],
            "description": "",
            "_model_name": "FloatProgressModel",
            "bar_style": "info",
            "max": 1,
            "_view_module": "@jupyter-widgets/controls",
            "_model_module_version": "1.5.0",
            "value": 1,
            "_view_count": null,
            "_view_module_version": "1.5.0",
            "orientation": "horizontal",
            "min": 0,
            "description_tooltip": null,
            "_model_module": "@jupyter-widgets/controls",
            "layout": "IPY_MODEL_6de4ac3e8f62483aa950629e53152ef4"
          }
        },
        "eec5c4b4f1a54e4988945244776f7352": {
          "model_module": "@jupyter-widgets/controls",
          "model_name": "HTMLModel",
          "state": {
            "_view_name": "HTMLView",
            "style": "IPY_MODEL_8f14d3325c994d45bb9d85246cf640f5",
            "_dom_classes": [],
            "description": "",
            "_model_name": "HTMLModel",
            "placeholder": "​",
            "_view_module": "@jupyter-widgets/controls",
            "_model_module_version": "1.5.0",
            "value": " 38000/0 [00:00&lt;00:00, 45628.49 examples/s]",
            "_view_count": null,
            "_view_module_version": "1.5.0",
            "description_tooltip": null,
            "_model_module": "@jupyter-widgets/controls",
            "layout": "IPY_MODEL_be773b281f3c40f086821572d394885e"
          }
        },
        "d4522934992e4a56b6144a28d16070ae": {
          "model_module": "@jupyter-widgets/controls",
          "model_name": "ProgressStyleModel",
          "state": {
            "_view_name": "StyleView",
            "_model_name": "ProgressStyleModel",
            "description_width": "initial",
            "_view_module": "@jupyter-widgets/base",
            "_model_module_version": "1.5.0",
            "_view_count": null,
            "_view_module_version": "1.2.0",
            "bar_color": null,
            "_model_module": "@jupyter-widgets/controls"
          }
        },
        "6de4ac3e8f62483aa950629e53152ef4": {
          "model_module": "@jupyter-widgets/base",
          "model_name": "LayoutModel",
          "state": {
            "_view_name": "LayoutView",
            "grid_template_rows": null,
            "right": null,
            "justify_content": null,
            "_view_module": "@jupyter-widgets/base",
            "overflow": null,
            "_model_module_version": "1.2.0",
            "_view_count": null,
            "flex_flow": null,
            "width": null,
            "min_width": null,
            "border": null,
            "align_items": null,
            "bottom": null,
            "_model_module": "@jupyter-widgets/base",
            "top": null,
            "grid_column": null,
            "overflow_y": null,
            "overflow_x": null,
            "grid_auto_flow": null,
            "grid_area": null,
            "grid_template_columns": null,
            "flex": null,
            "_model_name": "LayoutModel",
            "justify_items": null,
            "grid_row": null,
            "max_height": null,
            "align_content": null,
            "visibility": null,
            "align_self": null,
            "height": null,
            "min_height": null,
            "padding": null,
            "grid_auto_rows": null,
            "grid_gap": null,
            "max_width": null,
            "order": null,
            "_view_module_version": "1.2.0",
            "grid_template_areas": null,
            "object_position": null,
            "object_fit": null,
            "grid_auto_columns": null,
            "margin": null,
            "display": null,
            "left": null
          }
        },
        "8f14d3325c994d45bb9d85246cf640f5": {
          "model_module": "@jupyter-widgets/controls",
          "model_name": "DescriptionStyleModel",
          "state": {
            "_view_name": "StyleView",
            "_model_name": "DescriptionStyleModel",
            "description_width": "",
            "_view_module": "@jupyter-widgets/base",
            "_model_module_version": "1.5.0",
            "_view_count": null,
            "_view_module_version": "1.2.0",
            "_model_module": "@jupyter-widgets/controls"
          }
        },
        "be773b281f3c40f086821572d394885e": {
          "model_module": "@jupyter-widgets/base",
          "model_name": "LayoutModel",
          "state": {
            "_view_name": "LayoutView",
            "grid_template_rows": null,
            "right": null,
            "justify_content": null,
            "_view_module": "@jupyter-widgets/base",
            "overflow": null,
            "_model_module_version": "1.2.0",
            "_view_count": null,
            "flex_flow": null,
            "width": null,
            "min_width": null,
            "border": null,
            "align_items": null,
            "bottom": null,
            "_model_module": "@jupyter-widgets/base",
            "top": null,
            "grid_column": null,
            "overflow_y": null,
            "overflow_x": null,
            "grid_auto_flow": null,
            "grid_area": null,
            "grid_template_columns": null,
            "flex": null,
            "_model_name": "LayoutModel",
            "justify_items": null,
            "grid_row": null,
            "max_height": null,
            "align_content": null,
            "visibility": null,
            "align_self": null,
            "height": null,
            "min_height": null,
            "padding": null,
            "grid_auto_rows": null,
            "grid_gap": null,
            "max_width": null,
            "order": null,
            "_view_module_version": "1.2.0",
            "grid_template_areas": null,
            "object_position": null,
            "object_fit": null,
            "grid_auto_columns": null,
            "margin": null,
            "display": null,
            "left": null
          }
        },
        "6906573a7e4b4111be67311b52877577": {
          "model_module": "@jupyter-widgets/controls",
          "model_name": "HBoxModel",
          "state": {
            "_view_name": "HBoxView",
            "_dom_classes": [],
            "_model_name": "HBoxModel",
            "_view_module": "@jupyter-widgets/controls",
            "_model_module_version": "1.5.0",
            "_view_count": null,
            "_view_module_version": "1.5.0",
            "box_style": "",
            "layout": "IPY_MODEL_c6f8c0757b0b47269617487ca9fed633",
            "_model_module": "@jupyter-widgets/controls",
            "children": [
              "IPY_MODEL_267aa1936ee94c9d814337338073f02c",
              "IPY_MODEL_f2535fc1c23d4bc68364e55ca61a5a20"
            ]
          }
        },
        "c6f8c0757b0b47269617487ca9fed633": {
          "model_module": "@jupyter-widgets/base",
          "model_name": "LayoutModel",
          "state": {
            "_view_name": "LayoutView",
            "grid_template_rows": null,
            "right": null,
            "justify_content": null,
            "_view_module": "@jupyter-widgets/base",
            "overflow": null,
            "_model_module_version": "1.2.0",
            "_view_count": null,
            "flex_flow": null,
            "width": null,
            "min_width": null,
            "border": null,
            "align_items": null,
            "bottom": null,
            "_model_module": "@jupyter-widgets/base",
            "top": null,
            "grid_column": null,
            "overflow_y": null,
            "overflow_x": null,
            "grid_auto_flow": null,
            "grid_area": null,
            "grid_template_columns": null,
            "flex": null,
            "_model_name": "LayoutModel",
            "justify_items": null,
            "grid_row": null,
            "max_height": null,
            "align_content": null,
            "visibility": null,
            "align_self": null,
            "height": null,
            "min_height": null,
            "padding": null,
            "grid_auto_rows": null,
            "grid_gap": null,
            "max_width": null,
            "order": null,
            "_view_module_version": "1.2.0",
            "grid_template_areas": null,
            "object_position": null,
            "object_fit": null,
            "grid_auto_columns": null,
            "margin": null,
            "display": null,
            "left": null
          }
        },
        "267aa1936ee94c9d814337338073f02c": {
          "model_module": "@jupyter-widgets/controls",
          "model_name": "FloatProgressModel",
          "state": {
            "_view_name": "ProgressView",
            "style": "IPY_MODEL_a06b61705cc34becbcc9a91483f73f0f",
            "_dom_classes": [],
            "description": "Downloading: 100%",
            "_model_name": "FloatProgressModel",
            "bar_style": "success",
            "max": 511,
            "_view_module": "@jupyter-widgets/controls",
            "_model_module_version": "1.5.0",
            "value": 511,
            "_view_count": null,
            "_view_module_version": "1.5.0",
            "orientation": "horizontal",
            "min": 0,
            "description_tooltip": null,
            "_model_module": "@jupyter-widgets/controls",
            "layout": "IPY_MODEL_f1a53eb7a56c489793e67d4e0a0d0415"
          }
        },
        "f2535fc1c23d4bc68364e55ca61a5a20": {
          "model_module": "@jupyter-widgets/controls",
          "model_name": "HTMLModel",
          "state": {
            "_view_name": "HTMLView",
            "style": "IPY_MODEL_baab7a01021d4591923ebbae4e6cf12c",
            "_dom_classes": [],
            "description": "",
            "_model_name": "HTMLModel",
            "placeholder": "​",
            "_view_module": "@jupyter-widgets/controls",
            "_model_module_version": "1.5.0",
            "value": " 511/511 [00:16&lt;00:00, 31.6B/s]",
            "_view_count": null,
            "_view_module_version": "1.5.0",
            "description_tooltip": null,
            "_model_module": "@jupyter-widgets/controls",
            "layout": "IPY_MODEL_c557cc551a8641c9ac0bd21b96bf0f47"
          }
        },
        "a06b61705cc34becbcc9a91483f73f0f": {
          "model_module": "@jupyter-widgets/controls",
          "model_name": "ProgressStyleModel",
          "state": {
            "_view_name": "StyleView",
            "_model_name": "ProgressStyleModel",
            "description_width": "initial",
            "_view_module": "@jupyter-widgets/base",
            "_model_module_version": "1.5.0",
            "_view_count": null,
            "_view_module_version": "1.2.0",
            "bar_color": null,
            "_model_module": "@jupyter-widgets/controls"
          }
        },
        "f1a53eb7a56c489793e67d4e0a0d0415": {
          "model_module": "@jupyter-widgets/base",
          "model_name": "LayoutModel",
          "state": {
            "_view_name": "LayoutView",
            "grid_template_rows": null,
            "right": null,
            "justify_content": null,
            "_view_module": "@jupyter-widgets/base",
            "overflow": null,
            "_model_module_version": "1.2.0",
            "_view_count": null,
            "flex_flow": null,
            "width": null,
            "min_width": null,
            "border": null,
            "align_items": null,
            "bottom": null,
            "_model_module": "@jupyter-widgets/base",
            "top": null,
            "grid_column": null,
            "overflow_y": null,
            "overflow_x": null,
            "grid_auto_flow": null,
            "grid_area": null,
            "grid_template_columns": null,
            "flex": null,
            "_model_name": "LayoutModel",
            "justify_items": null,
            "grid_row": null,
            "max_height": null,
            "align_content": null,
            "visibility": null,
            "align_self": null,
            "height": null,
            "min_height": null,
            "padding": null,
            "grid_auto_rows": null,
            "grid_gap": null,
            "max_width": null,
            "order": null,
            "_view_module_version": "1.2.0",
            "grid_template_areas": null,
            "object_position": null,
            "object_fit": null,
            "grid_auto_columns": null,
            "margin": null,
            "display": null,
            "left": null
          }
        },
        "baab7a01021d4591923ebbae4e6cf12c": {
          "model_module": "@jupyter-widgets/controls",
          "model_name": "DescriptionStyleModel",
          "state": {
            "_view_name": "StyleView",
            "_model_name": "DescriptionStyleModel",
            "description_width": "",
            "_view_module": "@jupyter-widgets/base",
            "_model_module_version": "1.5.0",
            "_view_count": null,
            "_view_module_version": "1.2.0",
            "_model_module": "@jupyter-widgets/controls"
          }
        },
        "c557cc551a8641c9ac0bd21b96bf0f47": {
          "model_module": "@jupyter-widgets/base",
          "model_name": "LayoutModel",
          "state": {
            "_view_name": "LayoutView",
            "grid_template_rows": null,
            "right": null,
            "justify_content": null,
            "_view_module": "@jupyter-widgets/base",
            "overflow": null,
            "_model_module_version": "1.2.0",
            "_view_count": null,
            "flex_flow": null,
            "width": null,
            "min_width": null,
            "border": null,
            "align_items": null,
            "bottom": null,
            "_model_module": "@jupyter-widgets/base",
            "top": null,
            "grid_column": null,
            "overflow_y": null,
            "overflow_x": null,
            "grid_auto_flow": null,
            "grid_area": null,
            "grid_template_columns": null,
            "flex": null,
            "_model_name": "LayoutModel",
            "justify_items": null,
            "grid_row": null,
            "max_height": null,
            "align_content": null,
            "visibility": null,
            "align_self": null,
            "height": null,
            "min_height": null,
            "padding": null,
            "grid_auto_rows": null,
            "grid_gap": null,
            "max_width": null,
            "order": null,
            "_view_module_version": "1.2.0",
            "grid_template_areas": null,
            "object_position": null,
            "object_fit": null,
            "grid_auto_columns": null,
            "margin": null,
            "display": null,
            "left": null
          }
        },
        "4f1ed0d847044de69848a196ea1e61c6": {
          "model_module": "@jupyter-widgets/controls",
          "model_name": "HBoxModel",
          "state": {
            "_view_name": "HBoxView",
            "_dom_classes": [],
            "_model_name": "HBoxModel",
            "_view_module": "@jupyter-widgets/controls",
            "_model_module_version": "1.5.0",
            "_view_count": null,
            "_view_module_version": "1.5.0",
            "box_style": "",
            "layout": "IPY_MODEL_a0f6d5de3ea64378a47942dd96117148",
            "_model_module": "@jupyter-widgets/controls",
            "children": [
              "IPY_MODEL_5c59be5a2d5046cd84b0cbf9b1e3aab0",
              "IPY_MODEL_a24b39e87ca641509bca5e325423345d"
            ]
          }
        },
        "a0f6d5de3ea64378a47942dd96117148": {
          "model_module": "@jupyter-widgets/base",
          "model_name": "LayoutModel",
          "state": {
            "_view_name": "LayoutView",
            "grid_template_rows": null,
            "right": null,
            "justify_content": null,
            "_view_module": "@jupyter-widgets/base",
            "overflow": null,
            "_model_module_version": "1.2.0",
            "_view_count": null,
            "flex_flow": null,
            "width": null,
            "min_width": null,
            "border": null,
            "align_items": null,
            "bottom": null,
            "_model_module": "@jupyter-widgets/base",
            "top": null,
            "grid_column": null,
            "overflow_y": null,
            "overflow_x": null,
            "grid_auto_flow": null,
            "grid_area": null,
            "grid_template_columns": null,
            "flex": null,
            "_model_name": "LayoutModel",
            "justify_items": null,
            "grid_row": null,
            "max_height": null,
            "align_content": null,
            "visibility": null,
            "align_self": null,
            "height": null,
            "min_height": null,
            "padding": null,
            "grid_auto_rows": null,
            "grid_gap": null,
            "max_width": null,
            "order": null,
            "_view_module_version": "1.2.0",
            "grid_template_areas": null,
            "object_position": null,
            "object_fit": null,
            "grid_auto_columns": null,
            "margin": null,
            "display": null,
            "left": null
          }
        },
        "5c59be5a2d5046cd84b0cbf9b1e3aab0": {
          "model_module": "@jupyter-widgets/controls",
          "model_name": "FloatProgressModel",
          "state": {
            "_view_name": "ProgressView",
            "style": "IPY_MODEL_5e8410175b8749f18b4d2ab10f04db2a",
            "_dom_classes": [],
            "description": "Downloading: 100%",
            "_model_name": "FloatProgressModel",
            "bar_style": "success",
            "max": 437985387,
            "_view_module": "@jupyter-widgets/controls",
            "_model_module_version": "1.5.0",
            "value": 437985387,
            "_view_count": null,
            "_view_module_version": "1.5.0",
            "orientation": "horizontal",
            "min": 0,
            "description_tooltip": null,
            "_model_module": "@jupyter-widgets/controls",
            "layout": "IPY_MODEL_686781e06b12466485776295a2761385"
          }
        },
        "a24b39e87ca641509bca5e325423345d": {
          "model_module": "@jupyter-widgets/controls",
          "model_name": "HTMLModel",
          "state": {
            "_view_name": "HTMLView",
            "style": "IPY_MODEL_5addde97aeca40bb8116f005197bdef4",
            "_dom_classes": [],
            "description": "",
            "_model_name": "HTMLModel",
            "placeholder": "​",
            "_view_module": "@jupyter-widgets/controls",
            "_model_module_version": "1.5.0",
            "value": " 438M/438M [00:11&lt;00:00, 37.8MB/s]",
            "_view_count": null,
            "_view_module_version": "1.5.0",
            "description_tooltip": null,
            "_model_module": "@jupyter-widgets/controls",
            "layout": "IPY_MODEL_49bbe746b60041a68833b10c031db524"
          }
        },
        "5e8410175b8749f18b4d2ab10f04db2a": {
          "model_module": "@jupyter-widgets/controls",
          "model_name": "ProgressStyleModel",
          "state": {
            "_view_name": "StyleView",
            "_model_name": "ProgressStyleModel",
            "description_width": "initial",
            "_view_module": "@jupyter-widgets/base",
            "_model_module_version": "1.5.0",
            "_view_count": null,
            "_view_module_version": "1.2.0",
            "bar_color": null,
            "_model_module": "@jupyter-widgets/controls"
          }
        },
        "686781e06b12466485776295a2761385": {
          "model_module": "@jupyter-widgets/base",
          "model_name": "LayoutModel",
          "state": {
            "_view_name": "LayoutView",
            "grid_template_rows": null,
            "right": null,
            "justify_content": null,
            "_view_module": "@jupyter-widgets/base",
            "overflow": null,
            "_model_module_version": "1.2.0",
            "_view_count": null,
            "flex_flow": null,
            "width": null,
            "min_width": null,
            "border": null,
            "align_items": null,
            "bottom": null,
            "_model_module": "@jupyter-widgets/base",
            "top": null,
            "grid_column": null,
            "overflow_y": null,
            "overflow_x": null,
            "grid_auto_flow": null,
            "grid_area": null,
            "grid_template_columns": null,
            "flex": null,
            "_model_name": "LayoutModel",
            "justify_items": null,
            "grid_row": null,
            "max_height": null,
            "align_content": null,
            "visibility": null,
            "align_self": null,
            "height": null,
            "min_height": null,
            "padding": null,
            "grid_auto_rows": null,
            "grid_gap": null,
            "max_width": null,
            "order": null,
            "_view_module_version": "1.2.0",
            "grid_template_areas": null,
            "object_position": null,
            "object_fit": null,
            "grid_auto_columns": null,
            "margin": null,
            "display": null,
            "left": null
          }
        },
        "5addde97aeca40bb8116f005197bdef4": {
          "model_module": "@jupyter-widgets/controls",
          "model_name": "DescriptionStyleModel",
          "state": {
            "_view_name": "StyleView",
            "_model_name": "DescriptionStyleModel",
            "description_width": "",
            "_view_module": "@jupyter-widgets/base",
            "_model_module_version": "1.5.0",
            "_view_count": null,
            "_view_module_version": "1.2.0",
            "_model_module": "@jupyter-widgets/controls"
          }
        },
        "49bbe746b60041a68833b10c031db524": {
          "model_module": "@jupyter-widgets/base",
          "model_name": "LayoutModel",
          "state": {
            "_view_name": "LayoutView",
            "grid_template_rows": null,
            "right": null,
            "justify_content": null,
            "_view_module": "@jupyter-widgets/base",
            "overflow": null,
            "_model_module_version": "1.2.0",
            "_view_count": null,
            "flex_flow": null,
            "width": null,
            "min_width": null,
            "border": null,
            "align_items": null,
            "bottom": null,
            "_model_module": "@jupyter-widgets/base",
            "top": null,
            "grid_column": null,
            "overflow_y": null,
            "overflow_x": null,
            "grid_auto_flow": null,
            "grid_area": null,
            "grid_template_columns": null,
            "flex": null,
            "_model_name": "LayoutModel",
            "justify_items": null,
            "grid_row": null,
            "max_height": null,
            "align_content": null,
            "visibility": null,
            "align_self": null,
            "height": null,
            "min_height": null,
            "padding": null,
            "grid_auto_rows": null,
            "grid_gap": null,
            "max_width": null,
            "order": null,
            "_view_module_version": "1.2.0",
            "grid_template_areas": null,
            "object_position": null,
            "object_fit": null,
            "grid_auto_columns": null,
            "margin": null,
            "display": null,
            "left": null
          }
        },
        "755ee1ab0a5f4093aa76cc21dbccc49c": {
          "model_module": "@jupyter-widgets/controls",
          "model_name": "HBoxModel",
          "state": {
            "_view_name": "HBoxView",
            "_dom_classes": [],
            "_model_name": "HBoxModel",
            "_view_module": "@jupyter-widgets/controls",
            "_model_module_version": "1.5.0",
            "_view_count": null,
            "_view_module_version": "1.5.0",
            "box_style": "",
            "layout": "IPY_MODEL_c663089174a742c29b489f277c3da43a",
            "_model_module": "@jupyter-widgets/controls",
            "children": [
              "IPY_MODEL_83609ec3ec214815a5a5b2a8513891f6",
              "IPY_MODEL_f5eaf00b163c4cca90544c5a5808cb92"
            ]
          }
        },
        "c663089174a742c29b489f277c3da43a": {
          "model_module": "@jupyter-widgets/base",
          "model_name": "LayoutModel",
          "state": {
            "_view_name": "LayoutView",
            "grid_template_rows": null,
            "right": null,
            "justify_content": null,
            "_view_module": "@jupyter-widgets/base",
            "overflow": null,
            "_model_module_version": "1.2.0",
            "_view_count": null,
            "flex_flow": null,
            "width": null,
            "min_width": null,
            "border": null,
            "align_items": null,
            "bottom": null,
            "_model_module": "@jupyter-widgets/base",
            "top": null,
            "grid_column": null,
            "overflow_y": null,
            "overflow_x": null,
            "grid_auto_flow": null,
            "grid_area": null,
            "grid_template_columns": null,
            "flex": null,
            "_model_name": "LayoutModel",
            "justify_items": null,
            "grid_row": null,
            "max_height": null,
            "align_content": null,
            "visibility": null,
            "align_self": null,
            "height": null,
            "min_height": null,
            "padding": null,
            "grid_auto_rows": null,
            "grid_gap": null,
            "max_width": null,
            "order": null,
            "_view_module_version": "1.2.0",
            "grid_template_areas": null,
            "object_position": null,
            "object_fit": null,
            "grid_auto_columns": null,
            "margin": null,
            "display": null,
            "left": null
          }
        },
        "83609ec3ec214815a5a5b2a8513891f6": {
          "model_module": "@jupyter-widgets/controls",
          "model_name": "FloatProgressModel",
          "state": {
            "_view_name": "ProgressView",
            "style": "IPY_MODEL_ececc69854a7488e832eba3f11a55a3f",
            "_dom_classes": [],
            "description": "Downloading: 100%",
            "_model_name": "FloatProgressModel",
            "bar_style": "success",
            "max": 231508,
            "_view_module": "@jupyter-widgets/controls",
            "_model_module_version": "1.5.0",
            "value": 231508,
            "_view_count": null,
            "_view_module_version": "1.5.0",
            "orientation": "horizontal",
            "min": 0,
            "description_tooltip": null,
            "_model_module": "@jupyter-widgets/controls",
            "layout": "IPY_MODEL_85f53ada6c9c4c38bb8bf20e963a09e2"
          }
        },
        "f5eaf00b163c4cca90544c5a5808cb92": {
          "model_module": "@jupyter-widgets/controls",
          "model_name": "HTMLModel",
          "state": {
            "_view_name": "HTMLView",
            "style": "IPY_MODEL_148eca4026f044818ab74e3aacbab524",
            "_dom_classes": [],
            "description": "",
            "_model_name": "HTMLModel",
            "placeholder": "​",
            "_view_module": "@jupyter-widgets/controls",
            "_model_module_version": "1.5.0",
            "value": " 232k/232k [00:00&lt;00:00, 415kB/s]",
            "_view_count": null,
            "_view_module_version": "1.5.0",
            "description_tooltip": null,
            "_model_module": "@jupyter-widgets/controls",
            "layout": "IPY_MODEL_65727ed81609499abfff96f3ef5bf65f"
          }
        },
        "ececc69854a7488e832eba3f11a55a3f": {
          "model_module": "@jupyter-widgets/controls",
          "model_name": "ProgressStyleModel",
          "state": {
            "_view_name": "StyleView",
            "_model_name": "ProgressStyleModel",
            "description_width": "initial",
            "_view_module": "@jupyter-widgets/base",
            "_model_module_version": "1.5.0",
            "_view_count": null,
            "_view_module_version": "1.2.0",
            "bar_color": null,
            "_model_module": "@jupyter-widgets/controls"
          }
        },
        "85f53ada6c9c4c38bb8bf20e963a09e2": {
          "model_module": "@jupyter-widgets/base",
          "model_name": "LayoutModel",
          "state": {
            "_view_name": "LayoutView",
            "grid_template_rows": null,
            "right": null,
            "justify_content": null,
            "_view_module": "@jupyter-widgets/base",
            "overflow": null,
            "_model_module_version": "1.2.0",
            "_view_count": null,
            "flex_flow": null,
            "width": null,
            "min_width": null,
            "border": null,
            "align_items": null,
            "bottom": null,
            "_model_module": "@jupyter-widgets/base",
            "top": null,
            "grid_column": null,
            "overflow_y": null,
            "overflow_x": null,
            "grid_auto_flow": null,
            "grid_area": null,
            "grid_template_columns": null,
            "flex": null,
            "_model_name": "LayoutModel",
            "justify_items": null,
            "grid_row": null,
            "max_height": null,
            "align_content": null,
            "visibility": null,
            "align_self": null,
            "height": null,
            "min_height": null,
            "padding": null,
            "grid_auto_rows": null,
            "grid_gap": null,
            "max_width": null,
            "order": null,
            "_view_module_version": "1.2.0",
            "grid_template_areas": null,
            "object_position": null,
            "object_fit": null,
            "grid_auto_columns": null,
            "margin": null,
            "display": null,
            "left": null
          }
        },
        "148eca4026f044818ab74e3aacbab524": {
          "model_module": "@jupyter-widgets/controls",
          "model_name": "DescriptionStyleModel",
          "state": {
            "_view_name": "StyleView",
            "_model_name": "DescriptionStyleModel",
            "description_width": "",
            "_view_module": "@jupyter-widgets/base",
            "_model_module_version": "1.5.0",
            "_view_count": null,
            "_view_module_version": "1.2.0",
            "_model_module": "@jupyter-widgets/controls"
          }
        },
        "65727ed81609499abfff96f3ef5bf65f": {
          "model_module": "@jupyter-widgets/base",
          "model_name": "LayoutModel",
          "state": {
            "_view_name": "LayoutView",
            "grid_template_rows": null,
            "right": null,
            "justify_content": null,
            "_view_module": "@jupyter-widgets/base",
            "overflow": null,
            "_model_module_version": "1.2.0",
            "_view_count": null,
            "flex_flow": null,
            "width": null,
            "min_width": null,
            "border": null,
            "align_items": null,
            "bottom": null,
            "_model_module": "@jupyter-widgets/base",
            "top": null,
            "grid_column": null,
            "overflow_y": null,
            "overflow_x": null,
            "grid_auto_flow": null,
            "grid_area": null,
            "grid_template_columns": null,
            "flex": null,
            "_model_name": "LayoutModel",
            "justify_items": null,
            "grid_row": null,
            "max_height": null,
            "align_content": null,
            "visibility": null,
            "align_self": null,
            "height": null,
            "min_height": null,
            "padding": null,
            "grid_auto_rows": null,
            "grid_gap": null,
            "max_width": null,
            "order": null,
            "_view_module_version": "1.2.0",
            "grid_template_areas": null,
            "object_position": null,
            "object_fit": null,
            "grid_auto_columns": null,
            "margin": null,
            "display": null,
            "left": null
          }
        },
        "0875864a0c344bcab1ff4feac50f9414": {
          "model_module": "@jupyter-widgets/controls",
          "model_name": "HBoxModel",
          "state": {
            "_view_name": "HBoxView",
            "_dom_classes": [],
            "_model_name": "HBoxModel",
            "_view_module": "@jupyter-widgets/controls",
            "_model_module_version": "1.5.0",
            "_view_count": null,
            "_view_module_version": "1.5.0",
            "box_style": "",
            "layout": "IPY_MODEL_c1caaf80c90d4e318bc8239465dc58ff",
            "_model_module": "@jupyter-widgets/controls",
            "children": [
              "IPY_MODEL_39c771e8c595495584968dba275a9c9e",
              "IPY_MODEL_6a75b42464ea4fa9bd34f2b04662a9ff"
            ]
          }
        },
        "c1caaf80c90d4e318bc8239465dc58ff": {
          "model_module": "@jupyter-widgets/base",
          "model_name": "LayoutModel",
          "state": {
            "_view_name": "LayoutView",
            "grid_template_rows": null,
            "right": null,
            "justify_content": null,
            "_view_module": "@jupyter-widgets/base",
            "overflow": null,
            "_model_module_version": "1.2.0",
            "_view_count": null,
            "flex_flow": null,
            "width": null,
            "min_width": null,
            "border": null,
            "align_items": null,
            "bottom": null,
            "_model_module": "@jupyter-widgets/base",
            "top": null,
            "grid_column": null,
            "overflow_y": null,
            "overflow_x": null,
            "grid_auto_flow": null,
            "grid_area": null,
            "grid_template_columns": null,
            "flex": null,
            "_model_name": "LayoutModel",
            "justify_items": null,
            "grid_row": null,
            "max_height": null,
            "align_content": null,
            "visibility": null,
            "align_self": null,
            "height": null,
            "min_height": null,
            "padding": null,
            "grid_auto_rows": null,
            "grid_gap": null,
            "max_width": null,
            "order": null,
            "_view_module_version": "1.2.0",
            "grid_template_areas": null,
            "object_position": null,
            "object_fit": null,
            "grid_auto_columns": null,
            "margin": null,
            "display": null,
            "left": null
          }
        },
        "39c771e8c595495584968dba275a9c9e": {
          "model_module": "@jupyter-widgets/controls",
          "model_name": "FloatProgressModel",
          "state": {
            "_view_name": "ProgressView",
            "style": "IPY_MODEL_903dd3ba3c4d4ddcb6bd7f397971983f",
            "_dom_classes": [],
            "description": "Downloading: 100%",
            "_model_name": "FloatProgressModel",
            "bar_style": "success",
            "max": 112,
            "_view_module": "@jupyter-widgets/controls",
            "_model_module_version": "1.5.0",
            "value": 112,
            "_view_count": null,
            "_view_module_version": "1.5.0",
            "orientation": "horizontal",
            "min": 0,
            "description_tooltip": null,
            "_model_module": "@jupyter-widgets/controls",
            "layout": "IPY_MODEL_cc9b39e7e143475a9da0f9878a545eca"
          }
        },
        "6a75b42464ea4fa9bd34f2b04662a9ff": {
          "model_module": "@jupyter-widgets/controls",
          "model_name": "HTMLModel",
          "state": {
            "_view_name": "HTMLView",
            "style": "IPY_MODEL_407dbeeff3994a53bc05d9a31a5640cb",
            "_dom_classes": [],
            "description": "",
            "_model_name": "HTMLModel",
            "placeholder": "​",
            "_view_module": "@jupyter-widgets/controls",
            "_model_module_version": "1.5.0",
            "value": " 112/112 [00:23&lt;00:00, 4.75B/s]",
            "_view_count": null,
            "_view_module_version": "1.5.0",
            "description_tooltip": null,
            "_model_module": "@jupyter-widgets/controls",
            "layout": "IPY_MODEL_4e25a1bef6f24e41ac05a898e4f36c2b"
          }
        },
        "903dd3ba3c4d4ddcb6bd7f397971983f": {
          "model_module": "@jupyter-widgets/controls",
          "model_name": "ProgressStyleModel",
          "state": {
            "_view_name": "StyleView",
            "_model_name": "ProgressStyleModel",
            "description_width": "initial",
            "_view_module": "@jupyter-widgets/base",
            "_model_module_version": "1.5.0",
            "_view_count": null,
            "_view_module_version": "1.2.0",
            "bar_color": null,
            "_model_module": "@jupyter-widgets/controls"
          }
        },
        "cc9b39e7e143475a9da0f9878a545eca": {
          "model_module": "@jupyter-widgets/base",
          "model_name": "LayoutModel",
          "state": {
            "_view_name": "LayoutView",
            "grid_template_rows": null,
            "right": null,
            "justify_content": null,
            "_view_module": "@jupyter-widgets/base",
            "overflow": null,
            "_model_module_version": "1.2.0",
            "_view_count": null,
            "flex_flow": null,
            "width": null,
            "min_width": null,
            "border": null,
            "align_items": null,
            "bottom": null,
            "_model_module": "@jupyter-widgets/base",
            "top": null,
            "grid_column": null,
            "overflow_y": null,
            "overflow_x": null,
            "grid_auto_flow": null,
            "grid_area": null,
            "grid_template_columns": null,
            "flex": null,
            "_model_name": "LayoutModel",
            "justify_items": null,
            "grid_row": null,
            "max_height": null,
            "align_content": null,
            "visibility": null,
            "align_self": null,
            "height": null,
            "min_height": null,
            "padding": null,
            "grid_auto_rows": null,
            "grid_gap": null,
            "max_width": null,
            "order": null,
            "_view_module_version": "1.2.0",
            "grid_template_areas": null,
            "object_position": null,
            "object_fit": null,
            "grid_auto_columns": null,
            "margin": null,
            "display": null,
            "left": null
          }
        },
        "407dbeeff3994a53bc05d9a31a5640cb": {
          "model_module": "@jupyter-widgets/controls",
          "model_name": "DescriptionStyleModel",
          "state": {
            "_view_name": "StyleView",
            "_model_name": "DescriptionStyleModel",
            "description_width": "",
            "_view_module": "@jupyter-widgets/base",
            "_model_module_version": "1.5.0",
            "_view_count": null,
            "_view_module_version": "1.2.0",
            "_model_module": "@jupyter-widgets/controls"
          }
        },
        "4e25a1bef6f24e41ac05a898e4f36c2b": {
          "model_module": "@jupyter-widgets/base",
          "model_name": "LayoutModel",
          "state": {
            "_view_name": "LayoutView",
            "grid_template_rows": null,
            "right": null,
            "justify_content": null,
            "_view_module": "@jupyter-widgets/base",
            "overflow": null,
            "_model_module_version": "1.2.0",
            "_view_count": null,
            "flex_flow": null,
            "width": null,
            "min_width": null,
            "border": null,
            "align_items": null,
            "bottom": null,
            "_model_module": "@jupyter-widgets/base",
            "top": null,
            "grid_column": null,
            "overflow_y": null,
            "overflow_x": null,
            "grid_auto_flow": null,
            "grid_area": null,
            "grid_template_columns": null,
            "flex": null,
            "_model_name": "LayoutModel",
            "justify_items": null,
            "grid_row": null,
            "max_height": null,
            "align_content": null,
            "visibility": null,
            "align_self": null,
            "height": null,
            "min_height": null,
            "padding": null,
            "grid_auto_rows": null,
            "grid_gap": null,
            "max_width": null,
            "order": null,
            "_view_module_version": "1.2.0",
            "grid_template_areas": null,
            "object_position": null,
            "object_fit": null,
            "grid_auto_columns": null,
            "margin": null,
            "display": null,
            "left": null
          }
        },
        "712fd82a2807445e87d8c338e4492882": {
          "model_module": "@jupyter-widgets/controls",
          "model_name": "HBoxModel",
          "state": {
            "_view_name": "HBoxView",
            "_dom_classes": [],
            "_model_name": "HBoxModel",
            "_view_module": "@jupyter-widgets/controls",
            "_model_module_version": "1.5.0",
            "_view_count": null,
            "_view_module_version": "1.5.0",
            "box_style": "",
            "layout": "IPY_MODEL_f382a0926e4746759dd9f4fa0341ae44",
            "_model_module": "@jupyter-widgets/controls",
            "children": [
              "IPY_MODEL_c56cff22533a47e8831debb98ec8199a",
              "IPY_MODEL_51d23e215f5c4ab4990f842f7e66af84"
            ]
          }
        },
        "f382a0926e4746759dd9f4fa0341ae44": {
          "model_module": "@jupyter-widgets/base",
          "model_name": "LayoutModel",
          "state": {
            "_view_name": "LayoutView",
            "grid_template_rows": null,
            "right": null,
            "justify_content": null,
            "_view_module": "@jupyter-widgets/base",
            "overflow": null,
            "_model_module_version": "1.2.0",
            "_view_count": null,
            "flex_flow": null,
            "width": null,
            "min_width": null,
            "border": null,
            "align_items": null,
            "bottom": null,
            "_model_module": "@jupyter-widgets/base",
            "top": null,
            "grid_column": null,
            "overflow_y": null,
            "overflow_x": null,
            "grid_auto_flow": null,
            "grid_area": null,
            "grid_template_columns": null,
            "flex": null,
            "_model_name": "LayoutModel",
            "justify_items": null,
            "grid_row": null,
            "max_height": null,
            "align_content": null,
            "visibility": null,
            "align_self": null,
            "height": null,
            "min_height": null,
            "padding": null,
            "grid_auto_rows": null,
            "grid_gap": null,
            "max_width": null,
            "order": null,
            "_view_module_version": "1.2.0",
            "grid_template_areas": null,
            "object_position": null,
            "object_fit": null,
            "grid_auto_columns": null,
            "margin": null,
            "display": null,
            "left": null
          }
        },
        "c56cff22533a47e8831debb98ec8199a": {
          "model_module": "@jupyter-widgets/controls",
          "model_name": "FloatProgressModel",
          "state": {
            "_view_name": "ProgressView",
            "style": "IPY_MODEL_a2b3676251d44ad998cf4df44874489c",
            "_dom_classes": [],
            "description": "Downloading: 100%",
            "_model_name": "FloatProgressModel",
            "bar_style": "success",
            "max": 48,
            "_view_module": "@jupyter-widgets/controls",
            "_model_module_version": "1.5.0",
            "value": 48,
            "_view_count": null,
            "_view_module_version": "1.5.0",
            "orientation": "horizontal",
            "min": 0,
            "description_tooltip": null,
            "_model_module": "@jupyter-widgets/controls",
            "layout": "IPY_MODEL_6a6412ece9684290879349ad93df6b75"
          }
        },
        "51d23e215f5c4ab4990f842f7e66af84": {
          "model_module": "@jupyter-widgets/controls",
          "model_name": "HTMLModel",
          "state": {
            "_view_name": "HTMLView",
            "style": "IPY_MODEL_6f4ed346108b4b1394dca7e797956095",
            "_dom_classes": [],
            "description": "",
            "_model_name": "HTMLModel",
            "placeholder": "​",
            "_view_module": "@jupyter-widgets/controls",
            "_model_module_version": "1.5.0",
            "value": " 48.0/48.0 [00:00&lt;00:00, 550B/s]",
            "_view_count": null,
            "_view_module_version": "1.5.0",
            "description_tooltip": null,
            "_model_module": "@jupyter-widgets/controls",
            "layout": "IPY_MODEL_97116582f2064ad494cfa4bfd2640782"
          }
        },
        "a2b3676251d44ad998cf4df44874489c": {
          "model_module": "@jupyter-widgets/controls",
          "model_name": "ProgressStyleModel",
          "state": {
            "_view_name": "StyleView",
            "_model_name": "ProgressStyleModel",
            "description_width": "initial",
            "_view_module": "@jupyter-widgets/base",
            "_model_module_version": "1.5.0",
            "_view_count": null,
            "_view_module_version": "1.2.0",
            "bar_color": null,
            "_model_module": "@jupyter-widgets/controls"
          }
        },
        "6a6412ece9684290879349ad93df6b75": {
          "model_module": "@jupyter-widgets/base",
          "model_name": "LayoutModel",
          "state": {
            "_view_name": "LayoutView",
            "grid_template_rows": null,
            "right": null,
            "justify_content": null,
            "_view_module": "@jupyter-widgets/base",
            "overflow": null,
            "_model_module_version": "1.2.0",
            "_view_count": null,
            "flex_flow": null,
            "width": null,
            "min_width": null,
            "border": null,
            "align_items": null,
            "bottom": null,
            "_model_module": "@jupyter-widgets/base",
            "top": null,
            "grid_column": null,
            "overflow_y": null,
            "overflow_x": null,
            "grid_auto_flow": null,
            "grid_area": null,
            "grid_template_columns": null,
            "flex": null,
            "_model_name": "LayoutModel",
            "justify_items": null,
            "grid_row": null,
            "max_height": null,
            "align_content": null,
            "visibility": null,
            "align_self": null,
            "height": null,
            "min_height": null,
            "padding": null,
            "grid_auto_rows": null,
            "grid_gap": null,
            "max_width": null,
            "order": null,
            "_view_module_version": "1.2.0",
            "grid_template_areas": null,
            "object_position": null,
            "object_fit": null,
            "grid_auto_columns": null,
            "margin": null,
            "display": null,
            "left": null
          }
        },
        "6f4ed346108b4b1394dca7e797956095": {
          "model_module": "@jupyter-widgets/controls",
          "model_name": "DescriptionStyleModel",
          "state": {
            "_view_name": "StyleView",
            "_model_name": "DescriptionStyleModel",
            "description_width": "",
            "_view_module": "@jupyter-widgets/base",
            "_model_module_version": "1.5.0",
            "_view_count": null,
            "_view_module_version": "1.2.0",
            "_model_module": "@jupyter-widgets/controls"
          }
        },
        "97116582f2064ad494cfa4bfd2640782": {
          "model_module": "@jupyter-widgets/base",
          "model_name": "LayoutModel",
          "state": {
            "_view_name": "LayoutView",
            "grid_template_rows": null,
            "right": null,
            "justify_content": null,
            "_view_module": "@jupyter-widgets/base",
            "overflow": null,
            "_model_module_version": "1.2.0",
            "_view_count": null,
            "flex_flow": null,
            "width": null,
            "min_width": null,
            "border": null,
            "align_items": null,
            "bottom": null,
            "_model_module": "@jupyter-widgets/base",
            "top": null,
            "grid_column": null,
            "overflow_y": null,
            "overflow_x": null,
            "grid_auto_flow": null,
            "grid_area": null,
            "grid_template_columns": null,
            "flex": null,
            "_model_name": "LayoutModel",
            "justify_items": null,
            "grid_row": null,
            "max_height": null,
            "align_content": null,
            "visibility": null,
            "align_self": null,
            "height": null,
            "min_height": null,
            "padding": null,
            "grid_auto_rows": null,
            "grid_gap": null,
            "max_width": null,
            "order": null,
            "_view_module_version": "1.2.0",
            "grid_template_areas": null,
            "object_position": null,
            "object_fit": null,
            "grid_auto_columns": null,
            "margin": null,
            "display": null,
            "left": null
          }
        },
        "e391c6df70e0445e96a2ca870d94a857": {
          "model_module": "@jupyter-widgets/controls",
          "model_name": "HBoxModel",
          "state": {
            "_view_name": "HBoxView",
            "_dom_classes": [],
            "_model_name": "HBoxModel",
            "_view_module": "@jupyter-widgets/controls",
            "_model_module_version": "1.5.0",
            "_view_count": null,
            "_view_module_version": "1.5.0",
            "box_style": "",
            "layout": "IPY_MODEL_b99db16f16b34beb9f7925316a594af0",
            "_model_module": "@jupyter-widgets/controls",
            "children": [
              "IPY_MODEL_f78bbe9c6f134dcfbc311174c074da0e",
              "IPY_MODEL_00c4ea7a3b424a97ac12acae2b568b00"
            ]
          }
        },
        "b99db16f16b34beb9f7925316a594af0": {
          "model_module": "@jupyter-widgets/base",
          "model_name": "LayoutModel",
          "state": {
            "_view_name": "LayoutView",
            "grid_template_rows": null,
            "right": null,
            "justify_content": null,
            "_view_module": "@jupyter-widgets/base",
            "overflow": null,
            "_model_module_version": "1.2.0",
            "_view_count": null,
            "flex_flow": null,
            "width": null,
            "min_width": null,
            "border": null,
            "align_items": null,
            "bottom": null,
            "_model_module": "@jupyter-widgets/base",
            "top": null,
            "grid_column": null,
            "overflow_y": null,
            "overflow_x": null,
            "grid_auto_flow": null,
            "grid_area": null,
            "grid_template_columns": null,
            "flex": null,
            "_model_name": "LayoutModel",
            "justify_items": null,
            "grid_row": null,
            "max_height": null,
            "align_content": null,
            "visibility": null,
            "align_self": null,
            "height": null,
            "min_height": null,
            "padding": null,
            "grid_auto_rows": null,
            "grid_gap": null,
            "max_width": null,
            "order": null,
            "_view_module_version": "1.2.0",
            "grid_template_areas": null,
            "object_position": null,
            "object_fit": null,
            "grid_auto_columns": null,
            "margin": null,
            "display": null,
            "left": null
          }
        },
        "f78bbe9c6f134dcfbc311174c074da0e": {
          "model_module": "@jupyter-widgets/controls",
          "model_name": "FloatProgressModel",
          "state": {
            "_view_name": "ProgressView",
            "style": "IPY_MODEL_0b7abf69657f4e05b9062fdb3e518634",
            "_dom_classes": [],
            "description": "Downloading: 100%",
            "_model_name": "FloatProgressModel",
            "bar_style": "success",
            "max": 727,
            "_view_module": "@jupyter-widgets/controls",
            "_model_module_version": "1.5.0",
            "value": 727,
            "_view_count": null,
            "_view_module_version": "1.5.0",
            "orientation": "horizontal",
            "min": 0,
            "description_tooltip": null,
            "_model_module": "@jupyter-widgets/controls",
            "layout": "IPY_MODEL_4ff68bf7c4f64bae88755693f01d2d5c"
          }
        },
        "00c4ea7a3b424a97ac12acae2b568b00": {
          "model_module": "@jupyter-widgets/controls",
          "model_name": "HTMLModel",
          "state": {
            "_view_name": "HTMLView",
            "style": "IPY_MODEL_0410410af8a04c7091262eb77d512d2c",
            "_dom_classes": [],
            "description": "",
            "_model_name": "HTMLModel",
            "placeholder": "​",
            "_view_module": "@jupyter-widgets/controls",
            "_model_module_version": "1.5.0",
            "value": " 727/727 [00:01&lt;00:00, 406B/s]",
            "_view_count": null,
            "_view_module_version": "1.5.0",
            "description_tooltip": null,
            "_model_module": "@jupyter-widgets/controls",
            "layout": "IPY_MODEL_0e2fe96087524ecc87d95e1ab3b0f478"
          }
        },
        "0b7abf69657f4e05b9062fdb3e518634": {
          "model_module": "@jupyter-widgets/controls",
          "model_name": "ProgressStyleModel",
          "state": {
            "_view_name": "StyleView",
            "_model_name": "ProgressStyleModel",
            "description_width": "initial",
            "_view_module": "@jupyter-widgets/base",
            "_model_module_version": "1.5.0",
            "_view_count": null,
            "_view_module_version": "1.2.0",
            "bar_color": null,
            "_model_module": "@jupyter-widgets/controls"
          }
        },
        "4ff68bf7c4f64bae88755693f01d2d5c": {
          "model_module": "@jupyter-widgets/base",
          "model_name": "LayoutModel",
          "state": {
            "_view_name": "LayoutView",
            "grid_template_rows": null,
            "right": null,
            "justify_content": null,
            "_view_module": "@jupyter-widgets/base",
            "overflow": null,
            "_model_module_version": "1.2.0",
            "_view_count": null,
            "flex_flow": null,
            "width": null,
            "min_width": null,
            "border": null,
            "align_items": null,
            "bottom": null,
            "_model_module": "@jupyter-widgets/base",
            "top": null,
            "grid_column": null,
            "overflow_y": null,
            "overflow_x": null,
            "grid_auto_flow": null,
            "grid_area": null,
            "grid_template_columns": null,
            "flex": null,
            "_model_name": "LayoutModel",
            "justify_items": null,
            "grid_row": null,
            "max_height": null,
            "align_content": null,
            "visibility": null,
            "align_self": null,
            "height": null,
            "min_height": null,
            "padding": null,
            "grid_auto_rows": null,
            "grid_gap": null,
            "max_width": null,
            "order": null,
            "_view_module_version": "1.2.0",
            "grid_template_areas": null,
            "object_position": null,
            "object_fit": null,
            "grid_auto_columns": null,
            "margin": null,
            "display": null,
            "left": null
          }
        },
        "0410410af8a04c7091262eb77d512d2c": {
          "model_module": "@jupyter-widgets/controls",
          "model_name": "DescriptionStyleModel",
          "state": {
            "_view_name": "StyleView",
            "_model_name": "DescriptionStyleModel",
            "description_width": "",
            "_view_module": "@jupyter-widgets/base",
            "_model_module_version": "1.5.0",
            "_view_count": null,
            "_view_module_version": "1.2.0",
            "_model_module": "@jupyter-widgets/controls"
          }
        },
        "0e2fe96087524ecc87d95e1ab3b0f478": {
          "model_module": "@jupyter-widgets/base",
          "model_name": "LayoutModel",
          "state": {
            "_view_name": "LayoutView",
            "grid_template_rows": null,
            "right": null,
            "justify_content": null,
            "_view_module": "@jupyter-widgets/base",
            "overflow": null,
            "_model_module_version": "1.2.0",
            "_view_count": null,
            "flex_flow": null,
            "width": null,
            "min_width": null,
            "border": null,
            "align_items": null,
            "bottom": null,
            "_model_module": "@jupyter-widgets/base",
            "top": null,
            "grid_column": null,
            "overflow_y": null,
            "overflow_x": null,
            "grid_auto_flow": null,
            "grid_area": null,
            "grid_template_columns": null,
            "flex": null,
            "_model_name": "LayoutModel",
            "justify_items": null,
            "grid_row": null,
            "max_height": null,
            "align_content": null,
            "visibility": null,
            "align_self": null,
            "height": null,
            "min_height": null,
            "padding": null,
            "grid_auto_rows": null,
            "grid_gap": null,
            "max_width": null,
            "order": null,
            "_view_module_version": "1.2.0",
            "grid_template_areas": null,
            "object_position": null,
            "object_fit": null,
            "grid_auto_columns": null,
            "margin": null,
            "display": null,
            "left": null
          }
        },
        "458dbcff17174552b9de7583fc771813": {
          "model_module": "@jupyter-widgets/controls",
          "model_name": "HBoxModel",
          "state": {
            "_view_name": "HBoxView",
            "_dom_classes": [],
            "_model_name": "HBoxModel",
            "_view_module": "@jupyter-widgets/controls",
            "_model_module_version": "1.5.0",
            "_view_count": null,
            "_view_module_version": "1.5.0",
            "box_style": "",
            "layout": "IPY_MODEL_3d17cdaba2d446ce8f014935ef8926e1",
            "_model_module": "@jupyter-widgets/controls",
            "children": [
              "IPY_MODEL_7511d7d8cce34795aff98afe77e3a605",
              "IPY_MODEL_d1d7a15ffaad4c599e8fd900fd135af5"
            ]
          }
        },
        "3d17cdaba2d446ce8f014935ef8926e1": {
          "model_module": "@jupyter-widgets/base",
          "model_name": "LayoutModel",
          "state": {
            "_view_name": "LayoutView",
            "grid_template_rows": null,
            "right": null,
            "justify_content": null,
            "_view_module": "@jupyter-widgets/base",
            "overflow": null,
            "_model_module_version": "1.2.0",
            "_view_count": null,
            "flex_flow": null,
            "width": null,
            "min_width": null,
            "border": null,
            "align_items": null,
            "bottom": null,
            "_model_module": "@jupyter-widgets/base",
            "top": null,
            "grid_column": null,
            "overflow_y": null,
            "overflow_x": null,
            "grid_auto_flow": null,
            "grid_area": null,
            "grid_template_columns": null,
            "flex": null,
            "_model_name": "LayoutModel",
            "justify_items": null,
            "grid_row": null,
            "max_height": null,
            "align_content": null,
            "visibility": null,
            "align_self": null,
            "height": null,
            "min_height": null,
            "padding": null,
            "grid_auto_rows": null,
            "grid_gap": null,
            "max_width": null,
            "order": null,
            "_view_module_version": "1.2.0",
            "grid_template_areas": null,
            "object_position": null,
            "object_fit": null,
            "grid_auto_columns": null,
            "margin": null,
            "display": null,
            "left": null
          }
        },
        "7511d7d8cce34795aff98afe77e3a605": {
          "model_module": "@jupyter-widgets/controls",
          "model_name": "FloatProgressModel",
          "state": {
            "_view_name": "ProgressView",
            "style": "IPY_MODEL_0b5019cdab5142faab4bcb227b90b297",
            "_dom_classes": [],
            "description": "Downloading: 100%",
            "_model_name": "FloatProgressModel",
            "bar_style": "success",
            "max": 46747112,
            "_view_module": "@jupyter-widgets/controls",
            "_model_module_version": "1.5.0",
            "value": 46747112,
            "_view_count": null,
            "_view_module_version": "1.5.0",
            "orientation": "horizontal",
            "min": 0,
            "description_tooltip": null,
            "_model_module": "@jupyter-widgets/controls",
            "layout": "IPY_MODEL_950961d79ba24170b922c10bfe340644"
          }
        },
        "d1d7a15ffaad4c599e8fd900fd135af5": {
          "model_module": "@jupyter-widgets/controls",
          "model_name": "HTMLModel",
          "state": {
            "_view_name": "HTMLView",
            "style": "IPY_MODEL_b6d101b8c017446285b2f5b36695a867",
            "_dom_classes": [],
            "description": "",
            "_model_name": "HTMLModel",
            "placeholder": "​",
            "_view_module": "@jupyter-widgets/controls",
            "_model_module_version": "1.5.0",
            "value": " 46.7M/46.7M [00:01&lt;00:00, 37.7MB/s]",
            "_view_count": null,
            "_view_module_version": "1.5.0",
            "description_tooltip": null,
            "_model_module": "@jupyter-widgets/controls",
            "layout": "IPY_MODEL_1e05e2615d164c1d9ad1a416cf21574f"
          }
        },
        "0b5019cdab5142faab4bcb227b90b297": {
          "model_module": "@jupyter-widgets/controls",
          "model_name": "ProgressStyleModel",
          "state": {
            "_view_name": "StyleView",
            "_model_name": "ProgressStyleModel",
            "description_width": "initial",
            "_view_module": "@jupyter-widgets/base",
            "_model_module_version": "1.5.0",
            "_view_count": null,
            "_view_module_version": "1.2.0",
            "bar_color": null,
            "_model_module": "@jupyter-widgets/controls"
          }
        },
        "950961d79ba24170b922c10bfe340644": {
          "model_module": "@jupyter-widgets/base",
          "model_name": "LayoutModel",
          "state": {
            "_view_name": "LayoutView",
            "grid_template_rows": null,
            "right": null,
            "justify_content": null,
            "_view_module": "@jupyter-widgets/base",
            "overflow": null,
            "_model_module_version": "1.2.0",
            "_view_count": null,
            "flex_flow": null,
            "width": null,
            "min_width": null,
            "border": null,
            "align_items": null,
            "bottom": null,
            "_model_module": "@jupyter-widgets/base",
            "top": null,
            "grid_column": null,
            "overflow_y": null,
            "overflow_x": null,
            "grid_auto_flow": null,
            "grid_area": null,
            "grid_template_columns": null,
            "flex": null,
            "_model_name": "LayoutModel",
            "justify_items": null,
            "grid_row": null,
            "max_height": null,
            "align_content": null,
            "visibility": null,
            "align_self": null,
            "height": null,
            "min_height": null,
            "padding": null,
            "grid_auto_rows": null,
            "grid_gap": null,
            "max_width": null,
            "order": null,
            "_view_module_version": "1.2.0",
            "grid_template_areas": null,
            "object_position": null,
            "object_fit": null,
            "grid_auto_columns": null,
            "margin": null,
            "display": null,
            "left": null
          }
        },
        "b6d101b8c017446285b2f5b36695a867": {
          "model_module": "@jupyter-widgets/controls",
          "model_name": "DescriptionStyleModel",
          "state": {
            "_view_name": "StyleView",
            "_model_name": "DescriptionStyleModel",
            "description_width": "",
            "_view_module": "@jupyter-widgets/base",
            "_model_module_version": "1.5.0",
            "_view_count": null,
            "_view_module_version": "1.2.0",
            "_model_module": "@jupyter-widgets/controls"
          }
        },
        "1e05e2615d164c1d9ad1a416cf21574f": {
          "model_module": "@jupyter-widgets/base",
          "model_name": "LayoutModel",
          "state": {
            "_view_name": "LayoutView",
            "grid_template_rows": null,
            "right": null,
            "justify_content": null,
            "_view_module": "@jupyter-widgets/base",
            "overflow": null,
            "_model_module_version": "1.2.0",
            "_view_count": null,
            "flex_flow": null,
            "width": null,
            "min_width": null,
            "border": null,
            "align_items": null,
            "bottom": null,
            "_model_module": "@jupyter-widgets/base",
            "top": null,
            "grid_column": null,
            "overflow_y": null,
            "overflow_x": null,
            "grid_auto_flow": null,
            "grid_area": null,
            "grid_template_columns": null,
            "flex": null,
            "_model_name": "LayoutModel",
            "justify_items": null,
            "grid_row": null,
            "max_height": null,
            "align_content": null,
            "visibility": null,
            "align_self": null,
            "height": null,
            "min_height": null,
            "padding": null,
            "grid_auto_rows": null,
            "grid_gap": null,
            "max_width": null,
            "order": null,
            "_view_module_version": "1.2.0",
            "grid_template_areas": null,
            "object_position": null,
            "object_fit": null,
            "grid_auto_columns": null,
            "margin": null,
            "display": null,
            "left": null
          }
        },
        "c2ef778e4f674bea991140ce68d797cf": {
          "model_module": "@jupyter-widgets/controls",
          "model_name": "HBoxModel",
          "state": {
            "_view_name": "HBoxView",
            "_dom_classes": [],
            "_model_name": "HBoxModel",
            "_view_module": "@jupyter-widgets/controls",
            "_model_module_version": "1.5.0",
            "_view_count": null,
            "_view_module_version": "1.5.0",
            "box_style": "",
            "layout": "IPY_MODEL_b018e3fc39e748f585346b5969924d24",
            "_model_module": "@jupyter-widgets/controls",
            "children": [
              "IPY_MODEL_af9a100da05d4e39859748992b91ac59",
              "IPY_MODEL_ba45ba7ee453475f83191a6f3d7911dc"
            ]
          }
        },
        "b018e3fc39e748f585346b5969924d24": {
          "model_module": "@jupyter-widgets/base",
          "model_name": "LayoutModel",
          "state": {
            "_view_name": "LayoutView",
            "grid_template_rows": null,
            "right": null,
            "justify_content": null,
            "_view_module": "@jupyter-widgets/base",
            "overflow": null,
            "_model_module_version": "1.2.0",
            "_view_count": null,
            "flex_flow": null,
            "width": null,
            "min_width": null,
            "border": null,
            "align_items": null,
            "bottom": null,
            "_model_module": "@jupyter-widgets/base",
            "top": null,
            "grid_column": null,
            "overflow_y": null,
            "overflow_x": null,
            "grid_auto_flow": null,
            "grid_area": null,
            "grid_template_columns": null,
            "flex": null,
            "_model_name": "LayoutModel",
            "justify_items": null,
            "grid_row": null,
            "max_height": null,
            "align_content": null,
            "visibility": null,
            "align_self": null,
            "height": null,
            "min_height": null,
            "padding": null,
            "grid_auto_rows": null,
            "grid_gap": null,
            "max_width": null,
            "order": null,
            "_view_module_version": "1.2.0",
            "grid_template_areas": null,
            "object_position": null,
            "object_fit": null,
            "grid_auto_columns": null,
            "margin": null,
            "display": null,
            "left": null
          }
        },
        "af9a100da05d4e39859748992b91ac59": {
          "model_module": "@jupyter-widgets/controls",
          "model_name": "FloatProgressModel",
          "state": {
            "_view_name": "ProgressView",
            "style": "IPY_MODEL_be959034bf144cc3b03680c57aab1d42",
            "_dom_classes": [],
            "description": "Downloading: 100%",
            "_model_name": "FloatProgressModel",
            "bar_style": "success",
            "max": 760289,
            "_view_module": "@jupyter-widgets/controls",
            "_model_module_version": "1.5.0",
            "value": 760289,
            "_view_count": null,
            "_view_module_version": "1.5.0",
            "orientation": "horizontal",
            "min": 0,
            "description_tooltip": null,
            "_model_module": "@jupyter-widgets/controls",
            "layout": "IPY_MODEL_ad6caf1874e3471a95882b2d8f0e1146"
          }
        },
        "ba45ba7ee453475f83191a6f3d7911dc": {
          "model_module": "@jupyter-widgets/controls",
          "model_name": "HTMLModel",
          "state": {
            "_view_name": "HTMLView",
            "style": "IPY_MODEL_d3f671af63eb4fccad097f9db1726e50",
            "_dom_classes": [],
            "description": "",
            "_model_name": "HTMLModel",
            "placeholder": "​",
            "_view_module": "@jupyter-widgets/controls",
            "_model_module_version": "1.5.0",
            "value": " 760k/760k [00:00&lt;00:00, 1.25MB/s]",
            "_view_count": null,
            "_view_module_version": "1.5.0",
            "description_tooltip": null,
            "_model_module": "@jupyter-widgets/controls",
            "layout": "IPY_MODEL_b0a324b8dff9426c9c7b232d79e3857c"
          }
        },
        "be959034bf144cc3b03680c57aab1d42": {
          "model_module": "@jupyter-widgets/controls",
          "model_name": "ProgressStyleModel",
          "state": {
            "_view_name": "StyleView",
            "_model_name": "ProgressStyleModel",
            "description_width": "initial",
            "_view_module": "@jupyter-widgets/base",
            "_model_module_version": "1.5.0",
            "_view_count": null,
            "_view_module_version": "1.2.0",
            "bar_color": null,
            "_model_module": "@jupyter-widgets/controls"
          }
        },
        "ad6caf1874e3471a95882b2d8f0e1146": {
          "model_module": "@jupyter-widgets/base",
          "model_name": "LayoutModel",
          "state": {
            "_view_name": "LayoutView",
            "grid_template_rows": null,
            "right": null,
            "justify_content": null,
            "_view_module": "@jupyter-widgets/base",
            "overflow": null,
            "_model_module_version": "1.2.0",
            "_view_count": null,
            "flex_flow": null,
            "width": null,
            "min_width": null,
            "border": null,
            "align_items": null,
            "bottom": null,
            "_model_module": "@jupyter-widgets/base",
            "top": null,
            "grid_column": null,
            "overflow_y": null,
            "overflow_x": null,
            "grid_auto_flow": null,
            "grid_area": null,
            "grid_template_columns": null,
            "flex": null,
            "_model_name": "LayoutModel",
            "justify_items": null,
            "grid_row": null,
            "max_height": null,
            "align_content": null,
            "visibility": null,
            "align_self": null,
            "height": null,
            "min_height": null,
            "padding": null,
            "grid_auto_rows": null,
            "grid_gap": null,
            "max_width": null,
            "order": null,
            "_view_module_version": "1.2.0",
            "grid_template_areas": null,
            "object_position": null,
            "object_fit": null,
            "grid_auto_columns": null,
            "margin": null,
            "display": null,
            "left": null
          }
        },
        "d3f671af63eb4fccad097f9db1726e50": {
          "model_module": "@jupyter-widgets/controls",
          "model_name": "DescriptionStyleModel",
          "state": {
            "_view_name": "StyleView",
            "_model_name": "DescriptionStyleModel",
            "description_width": "",
            "_view_module": "@jupyter-widgets/base",
            "_model_module_version": "1.5.0",
            "_view_count": null,
            "_view_module_version": "1.2.0",
            "_model_module": "@jupyter-widgets/controls"
          }
        },
        "b0a324b8dff9426c9c7b232d79e3857c": {
          "model_module": "@jupyter-widgets/base",
          "model_name": "LayoutModel",
          "state": {
            "_view_name": "LayoutView",
            "grid_template_rows": null,
            "right": null,
            "justify_content": null,
            "_view_module": "@jupyter-widgets/base",
            "overflow": null,
            "_model_module_version": "1.2.0",
            "_view_count": null,
            "flex_flow": null,
            "width": null,
            "min_width": null,
            "border": null,
            "align_items": null,
            "bottom": null,
            "_model_module": "@jupyter-widgets/base",
            "top": null,
            "grid_column": null,
            "overflow_y": null,
            "overflow_x": null,
            "grid_auto_flow": null,
            "grid_area": null,
            "grid_template_columns": null,
            "flex": null,
            "_model_name": "LayoutModel",
            "justify_items": null,
            "grid_row": null,
            "max_height": null,
            "align_content": null,
            "visibility": null,
            "align_self": null,
            "height": null,
            "min_height": null,
            "padding": null,
            "grid_auto_rows": null,
            "grid_gap": null,
            "max_width": null,
            "order": null,
            "_view_module_version": "1.2.0",
            "grid_template_areas": null,
            "object_position": null,
            "object_fit": null,
            "grid_auto_columns": null,
            "margin": null,
            "display": null,
            "left": null
          }
        },
        "a8fc5ea2af0a41c090799d3642984cdf": {
          "model_module": "@jupyter-widgets/controls",
          "model_name": "HBoxModel",
          "state": {
            "_view_name": "HBoxView",
            "_dom_classes": [],
            "_model_name": "HBoxModel",
            "_view_module": "@jupyter-widgets/controls",
            "_model_module_version": "1.5.0",
            "_view_count": null,
            "_view_module_version": "1.5.0",
            "box_style": "",
            "layout": "IPY_MODEL_ad5d3f22c8284d3cb18239a04026ea00",
            "_model_module": "@jupyter-widgets/controls",
            "children": [
              "IPY_MODEL_11272e105efb43aabb7456bc4059f5d1",
              "IPY_MODEL_20e01bb84d2c4432b7413e1f34119a07"
            ]
          }
        },
        "ad5d3f22c8284d3cb18239a04026ea00": {
          "model_module": "@jupyter-widgets/base",
          "model_name": "LayoutModel",
          "state": {
            "_view_name": "LayoutView",
            "grid_template_rows": null,
            "right": null,
            "justify_content": null,
            "_view_module": "@jupyter-widgets/base",
            "overflow": null,
            "_model_module_version": "1.2.0",
            "_view_count": null,
            "flex_flow": null,
            "width": null,
            "min_width": null,
            "border": null,
            "align_items": null,
            "bottom": null,
            "_model_module": "@jupyter-widgets/base",
            "top": null,
            "grid_column": null,
            "overflow_y": null,
            "overflow_x": null,
            "grid_auto_flow": null,
            "grid_area": null,
            "grid_template_columns": null,
            "flex": null,
            "_model_name": "LayoutModel",
            "justify_items": null,
            "grid_row": null,
            "max_height": null,
            "align_content": null,
            "visibility": null,
            "align_self": null,
            "height": null,
            "min_height": null,
            "padding": null,
            "grid_auto_rows": null,
            "grid_gap": null,
            "max_width": null,
            "order": null,
            "_view_module_version": "1.2.0",
            "grid_template_areas": null,
            "object_position": null,
            "object_fit": null,
            "grid_auto_columns": null,
            "margin": null,
            "display": null,
            "left": null
          }
        },
        "11272e105efb43aabb7456bc4059f5d1": {
          "model_module": "@jupyter-widgets/controls",
          "model_name": "FloatProgressModel",
          "state": {
            "_view_name": "ProgressView",
            "style": "IPY_MODEL_6678e9b25ba744de9ca9b48010a13489",
            "_dom_classes": [],
            "description": "Downloading: 100%",
            "_model_name": "FloatProgressModel",
            "bar_style": "success",
            "max": 156,
            "_view_module": "@jupyter-widgets/controls",
            "_model_module_version": "1.5.0",
            "value": 156,
            "_view_count": null,
            "_view_module_version": "1.5.0",
            "orientation": "horizontal",
            "min": 0,
            "description_tooltip": null,
            "_model_module": "@jupyter-widgets/controls",
            "layout": "IPY_MODEL_48835cca735247bf94e3e8cf7691e2f8"
          }
        },
        "20e01bb84d2c4432b7413e1f34119a07": {
          "model_module": "@jupyter-widgets/controls",
          "model_name": "HTMLModel",
          "state": {
            "_view_name": "HTMLView",
            "style": "IPY_MODEL_a13a8dc9f30d4f02b15d0b67a801fb0d",
            "_dom_classes": [],
            "description": "",
            "_model_name": "HTMLModel",
            "placeholder": "​",
            "_view_module": "@jupyter-widgets/controls",
            "_model_module_version": "1.5.0",
            "value": " 156/156 [00:00&lt;00:00, 384B/s]",
            "_view_count": null,
            "_view_module_version": "1.5.0",
            "description_tooltip": null,
            "_model_module": "@jupyter-widgets/controls",
            "layout": "IPY_MODEL_82bb4fcb9b5e40eda8e79f1e54beca71"
          }
        },
        "6678e9b25ba744de9ca9b48010a13489": {
          "model_module": "@jupyter-widgets/controls",
          "model_name": "ProgressStyleModel",
          "state": {
            "_view_name": "StyleView",
            "_model_name": "ProgressStyleModel",
            "description_width": "initial",
            "_view_module": "@jupyter-widgets/base",
            "_model_module_version": "1.5.0",
            "_view_count": null,
            "_view_module_version": "1.2.0",
            "bar_color": null,
            "_model_module": "@jupyter-widgets/controls"
          }
        },
        "48835cca735247bf94e3e8cf7691e2f8": {
          "model_module": "@jupyter-widgets/base",
          "model_name": "LayoutModel",
          "state": {
            "_view_name": "LayoutView",
            "grid_template_rows": null,
            "right": null,
            "justify_content": null,
            "_view_module": "@jupyter-widgets/base",
            "overflow": null,
            "_model_module_version": "1.2.0",
            "_view_count": null,
            "flex_flow": null,
            "width": null,
            "min_width": null,
            "border": null,
            "align_items": null,
            "bottom": null,
            "_model_module": "@jupyter-widgets/base",
            "top": null,
            "grid_column": null,
            "overflow_y": null,
            "overflow_x": null,
            "grid_auto_flow": null,
            "grid_area": null,
            "grid_template_columns": null,
            "flex": null,
            "_model_name": "LayoutModel",
            "justify_items": null,
            "grid_row": null,
            "max_height": null,
            "align_content": null,
            "visibility": null,
            "align_self": null,
            "height": null,
            "min_height": null,
            "padding": null,
            "grid_auto_rows": null,
            "grid_gap": null,
            "max_width": null,
            "order": null,
            "_view_module_version": "1.2.0",
            "grid_template_areas": null,
            "object_position": null,
            "object_fit": null,
            "grid_auto_columns": null,
            "margin": null,
            "display": null,
            "left": null
          }
        },
        "a13a8dc9f30d4f02b15d0b67a801fb0d": {
          "model_module": "@jupyter-widgets/controls",
          "model_name": "DescriptionStyleModel",
          "state": {
            "_view_name": "StyleView",
            "_model_name": "DescriptionStyleModel",
            "description_width": "",
            "_view_module": "@jupyter-widgets/base",
            "_model_module_version": "1.5.0",
            "_view_count": null,
            "_view_module_version": "1.2.0",
            "_model_module": "@jupyter-widgets/controls"
          }
        },
        "82bb4fcb9b5e40eda8e79f1e54beca71": {
          "model_module": "@jupyter-widgets/base",
          "model_name": "LayoutModel",
          "state": {
            "_view_name": "LayoutView",
            "grid_template_rows": null,
            "right": null,
            "justify_content": null,
            "_view_module": "@jupyter-widgets/base",
            "overflow": null,
            "_model_module_version": "1.2.0",
            "_view_count": null,
            "flex_flow": null,
            "width": null,
            "min_width": null,
            "border": null,
            "align_items": null,
            "bottom": null,
            "_model_module": "@jupyter-widgets/base",
            "top": null,
            "grid_column": null,
            "overflow_y": null,
            "overflow_x": null,
            "grid_auto_flow": null,
            "grid_area": null,
            "grid_template_columns": null,
            "flex": null,
            "_model_name": "LayoutModel",
            "justify_items": null,
            "grid_row": null,
            "max_height": null,
            "align_content": null,
            "visibility": null,
            "align_self": null,
            "height": null,
            "min_height": null,
            "padding": null,
            "grid_auto_rows": null,
            "grid_gap": null,
            "max_width": null,
            "order": null,
            "_view_module_version": "1.2.0",
            "grid_template_areas": null,
            "object_position": null,
            "object_fit": null,
            "grid_auto_columns": null,
            "margin": null,
            "display": null,
            "left": null
          }
        },
        "338b15d6c606472fa694ef6ccbdab44b": {
          "model_module": "@jupyter-widgets/controls",
          "model_name": "HBoxModel",
          "state": {
            "_view_name": "HBoxView",
            "_dom_classes": [],
            "_model_name": "HBoxModel",
            "_view_module": "@jupyter-widgets/controls",
            "_model_module_version": "1.5.0",
            "_view_count": null,
            "_view_module_version": "1.5.0",
            "box_style": "",
            "layout": "IPY_MODEL_27357b0451a9466688ad4eb76478b24c",
            "_model_module": "@jupyter-widgets/controls",
            "children": [
              "IPY_MODEL_c21410fec4124546b9c0a0ec75c0314a",
              "IPY_MODEL_63d77e7c20e24871bc99f86fd2cc6896"
            ]
          }
        },
        "27357b0451a9466688ad4eb76478b24c": {
          "model_module": "@jupyter-widgets/base",
          "model_name": "LayoutModel",
          "state": {
            "_view_name": "LayoutView",
            "grid_template_rows": null,
            "right": null,
            "justify_content": null,
            "_view_module": "@jupyter-widgets/base",
            "overflow": null,
            "_model_module_version": "1.2.0",
            "_view_count": null,
            "flex_flow": null,
            "width": null,
            "min_width": null,
            "border": null,
            "align_items": null,
            "bottom": null,
            "_model_module": "@jupyter-widgets/base",
            "top": null,
            "grid_column": null,
            "overflow_y": null,
            "overflow_x": null,
            "grid_auto_flow": null,
            "grid_area": null,
            "grid_template_columns": null,
            "flex": null,
            "_model_name": "LayoutModel",
            "justify_items": null,
            "grid_row": null,
            "max_height": null,
            "align_content": null,
            "visibility": null,
            "align_self": null,
            "height": null,
            "min_height": null,
            "padding": null,
            "grid_auto_rows": null,
            "grid_gap": null,
            "max_width": null,
            "order": null,
            "_view_module_version": "1.2.0",
            "grid_template_areas": null,
            "object_position": null,
            "object_fit": null,
            "grid_auto_columns": null,
            "margin": null,
            "display": null,
            "left": null
          }
        },
        "c21410fec4124546b9c0a0ec75c0314a": {
          "model_module": "@jupyter-widgets/controls",
          "model_name": "FloatProgressModel",
          "state": {
            "_view_name": "ProgressView",
            "style": "IPY_MODEL_9aecfae7fdb1483b917261e543885fda",
            "_dom_classes": [],
            "description": "Downloading: 100%",
            "_model_name": "FloatProgressModel",
            "bar_style": "success",
            "max": 25,
            "_view_module": "@jupyter-widgets/controls",
            "_model_module_version": "1.5.0",
            "value": 25,
            "_view_count": null,
            "_view_module_version": "1.5.0",
            "orientation": "horizontal",
            "min": 0,
            "description_tooltip": null,
            "_model_module": "@jupyter-widgets/controls",
            "layout": "IPY_MODEL_c77afa637f3942509a878f38e069536c"
          }
        },
        "63d77e7c20e24871bc99f86fd2cc6896": {
          "model_module": "@jupyter-widgets/controls",
          "model_name": "HTMLModel",
          "state": {
            "_view_name": "HTMLView",
            "style": "IPY_MODEL_cf5df3afdc5a48b8a4b664ddcc11f3fb",
            "_dom_classes": [],
            "description": "",
            "_model_name": "HTMLModel",
            "placeholder": "​",
            "_view_module": "@jupyter-widgets/controls",
            "_model_module_version": "1.5.0",
            "value": " 25.0/25.0 [00:00&lt;00:00, 185B/s]",
            "_view_count": null,
            "_view_module_version": "1.5.0",
            "description_tooltip": null,
            "_model_module": "@jupyter-widgets/controls",
            "layout": "IPY_MODEL_2276e640fc89470989dfa41e88309a08"
          }
        },
        "9aecfae7fdb1483b917261e543885fda": {
          "model_module": "@jupyter-widgets/controls",
          "model_name": "ProgressStyleModel",
          "state": {
            "_view_name": "StyleView",
            "_model_name": "ProgressStyleModel",
            "description_width": "initial",
            "_view_module": "@jupyter-widgets/base",
            "_model_module_version": "1.5.0",
            "_view_count": null,
            "_view_module_version": "1.2.0",
            "bar_color": null,
            "_model_module": "@jupyter-widgets/controls"
          }
        },
        "c77afa637f3942509a878f38e069536c": {
          "model_module": "@jupyter-widgets/base",
          "model_name": "LayoutModel",
          "state": {
            "_view_name": "LayoutView",
            "grid_template_rows": null,
            "right": null,
            "justify_content": null,
            "_view_module": "@jupyter-widgets/base",
            "overflow": null,
            "_model_module_version": "1.2.0",
            "_view_count": null,
            "flex_flow": null,
            "width": null,
            "min_width": null,
            "border": null,
            "align_items": null,
            "bottom": null,
            "_model_module": "@jupyter-widgets/base",
            "top": null,
            "grid_column": null,
            "overflow_y": null,
            "overflow_x": null,
            "grid_auto_flow": null,
            "grid_area": null,
            "grid_template_columns": null,
            "flex": null,
            "_model_name": "LayoutModel",
            "justify_items": null,
            "grid_row": null,
            "max_height": null,
            "align_content": null,
            "visibility": null,
            "align_self": null,
            "height": null,
            "min_height": null,
            "padding": null,
            "grid_auto_rows": null,
            "grid_gap": null,
            "max_width": null,
            "order": null,
            "_view_module_version": "1.2.0",
            "grid_template_areas": null,
            "object_position": null,
            "object_fit": null,
            "grid_auto_columns": null,
            "margin": null,
            "display": null,
            "left": null
          }
        },
        "cf5df3afdc5a48b8a4b664ddcc11f3fb": {
          "model_module": "@jupyter-widgets/controls",
          "model_name": "DescriptionStyleModel",
          "state": {
            "_view_name": "StyleView",
            "_model_name": "DescriptionStyleModel",
            "description_width": "",
            "_view_module": "@jupyter-widgets/base",
            "_model_module_version": "1.5.0",
            "_view_count": null,
            "_view_module_version": "1.2.0",
            "_model_module": "@jupyter-widgets/controls"
          }
        },
        "2276e640fc89470989dfa41e88309a08": {
          "model_module": "@jupyter-widgets/base",
          "model_name": "LayoutModel",
          "state": {
            "_view_name": "LayoutView",
            "grid_template_rows": null,
            "right": null,
            "justify_content": null,
            "_view_module": "@jupyter-widgets/base",
            "overflow": null,
            "_model_module_version": "1.2.0",
            "_view_count": null,
            "flex_flow": null,
            "width": null,
            "min_width": null,
            "border": null,
            "align_items": null,
            "bottom": null,
            "_model_module": "@jupyter-widgets/base",
            "top": null,
            "grid_column": null,
            "overflow_y": null,
            "overflow_x": null,
            "grid_auto_flow": null,
            "grid_area": null,
            "grid_template_columns": null,
            "flex": null,
            "_model_name": "LayoutModel",
            "justify_items": null,
            "grid_row": null,
            "max_height": null,
            "align_content": null,
            "visibility": null,
            "align_self": null,
            "height": null,
            "min_height": null,
            "padding": null,
            "grid_auto_rows": null,
            "grid_gap": null,
            "max_width": null,
            "order": null,
            "_view_module_version": "1.2.0",
            "grid_template_areas": null,
            "object_position": null,
            "object_fit": null,
            "grid_auto_columns": null,
            "margin": null,
            "display": null,
            "left": null
          }
        }
      }
    }
  },
  "cells": [
    {
      "cell_type": "markdown",
      "metadata": {
        "id": "view-in-github",
        "colab_type": "text"
      },
      "source": [
        "<a href=\"https://colab.research.google.com/github/maurya-bitlegacy/FastAttack/blob/main/Textfooler.ipynb\" target=\"_parent\"><img src=\"https://colab.research.google.com/assets/colab-badge.svg\" alt=\"Open In Colab\"/></a>"
      ]
    },
    {
      "cell_type": "code",
      "metadata": {
        "id": "hZeIFn6iC9FF"
      },
      "source": [
        "!pip install -U gensim==4.0.0\n",
        "!pip install python-Levenshtein\n",
        "!pip install textattack"
      ],
      "execution_count": null,
      "outputs": []
    },
    {
      "cell_type": "code",
      "metadata": {
        "colab": {
          "base_uri": "https://localhost:8080/"
        },
        "id": "Ld1SWP9mLs5H",
        "outputId": "637153b1-a9f8-4346-9741-e3c96a636136"
      },
      "source": [
        "from google.colab import drive\n",
        "drive.mount('/content/drive')"
      ],
      "execution_count": 2,
      "outputs": [
        {
          "output_type": "stream",
          "text": [
            "Mounted at /content/drive\n"
          ],
          "name": "stdout"
        }
      ]
    },
    {
      "cell_type": "code",
      "metadata": {
        "id": "ZCLiyaHYDBk1"
      },
      "source": [
        "from gensim.test.utils import get_tmpfile\n",
        "from gensim.models.fasttext import FastText\n",
        "#fname = get_tmpfile(\"/models/fasttext.model\") \n",
        "model1 = FastText.load(\"./drive/MyDrive/models/fasttext.model\") # Change this location"
      ],
      "execution_count": 3,
      "outputs": []
    },
    {
      "cell_type": "code",
      "metadata": {
        "id": "l1xXXw5tFbuM",
        "colab": {
          "base_uri": "https://localhost:8080/"
        },
        "outputId": "e8928577-0614-4339-9681-6a5ab31a686c"
      },
      "source": [
        "model1.wv.most_similar('dog')"
      ],
      "execution_count": 22,
      "outputs": [
        {
          "output_type": "execute_result",
          "data": {
            "text/plain": [
              "[('foxhound', 0.8222606182098389),\n",
              " ('hound', 0.8159233927726746),\n",
              " ('wolfhound', 0.7827266454696655),\n",
              " ('horehound', 0.7729225158691406),\n",
              " ('sheepdog', 0.7700775265693665),\n",
              " ('bloodhound', 0.7668366432189941),\n",
              " ('greyhound', 0.7553040981292725),\n",
              " ('hounds', 0.7417516708374023),\n",
              " ('bulldog', 0.7402377724647522),\n",
              " ('coonhound', 0.7356321215629578)]"
            ]
          },
          "metadata": {
            "tags": []
          },
          "execution_count": 22
        }
      ]
    },
    {
      "cell_type": "markdown",
      "metadata": {
        "id": "Lpj_Y5l2xi8T"
      },
      "source": [
        "# Attacking BERT-base-uncased-yelp-polarity model"
      ]
    },
    {
      "cell_type": "code",
      "metadata": {
        "id": "QfecgI6BExUJ",
        "colab": {
          "base_uri": "https://localhost:8080/",
          "height": 585,
          "referenced_widgets": [
            "775cfc6868184ef08c78b33e267b4c4d",
            "1fc48d758c29452592b2c82ef94fa816",
            "e509b973576740f3b1c8819a68c7a13f",
            "3f9be6aab6c341e3a6c0756740f4d286",
            "b340b43884514dbabeab4ed99ee7ce2b",
            "419e449dba0346358799ec3950c97a7b",
            "ae57e85ffd634ba7aad47b97e10818a5",
            "ed01332c4da2472dbf9a2446e16aaf44",
            "a17b8dd2fde244259a9ad28e104bb678",
            "3fe624c529fa4f78805500a47a20a12f",
            "410e11b22afe4c979ab6625abc70e873",
            "44bf9e4b6aad4e0fadb861f71b6d988e",
            "7278d8dd27a141d6aa08b979bc9097dc",
            "8b00f0a4b1a3471386191b0a976bbca7",
            "39b5be0ac96c40e296c5fe857479314c",
            "ff896a19507644a781117da5253b5cf5",
            "d8dcc34374a2416088d76aea2c215277",
            "3cde440fa6f5437d8d835044c37ac686",
            "f36ae71c468c4130b7f7e6944edbcede",
            "10abf71d192d4abcbeecbcc032185e11",
            "ffa5b6ec4d8a4b0d8135fa35a234d117",
            "77ce4aeb562d455697618b240708f04b",
            "dd5f378f49a141f8b5cae650d808c8b3",
            "19a97031e07d4c97b6869860fb4b86f1",
            "178796a3656f43159a2a4e514fe68d8a",
            "4777720b37a14eafa92cff249d9b72c4",
            "fe8c82b967ea41bba10e9883c91a18d6",
            "f29de12a72414771923fe44a295793ae",
            "66b423f8800e460ea1c80c49eb8276ea",
            "dd3481f4326e469987e6ca37ccf3ec17",
            "867c0561a6a0428c8e7b969c6b422b72",
            "855a5e435741436b9d29b8d61b3f3586",
            "a839c770cc944ae79dd68f4457a60a8c",
            "2e790f38247d44f89fd7e0047a2bbb33",
            "965bf7d7276442b2bd617bd08fb6bd77",
            "dfcf94bda46b4443b6bc9de8a9aa0936",
            "096cbf52ecf340098ba2e096408400f2",
            "734b53f8cb64439e830700a6d8ce0fd4",
            "b6c5fd0ae4624a8bb32ad511b66cfc14",
            "0faeda0119bc48f6ba2f7e8d8bf9f12b"
          ]
        },
        "outputId": "7f517559-0632-4214-b578-618fb3314243"
      },
      "source": [
        "# Import the model\n",
        "import transformers\n",
        "from textattack.models.tokenizers import AutoTokenizer\n",
        "from textattack.models.wrappers import HuggingFaceModelWrapper\n",
        "\n",
        "model = transformers.AutoModelForSequenceClassification.from_pretrained(\"textattack/bert-base-uncased-yelp-polarity\")\n",
        "tokenizer = AutoTokenizer(\"textattack/bert-base-uncased-yelp-polarity\")\n",
        "\n",
        "\n",
        "model_wrapper = HuggingFaceModelWrapper(model, tokenizer) # Defining our target model"
      ],
      "execution_count": 4,
      "outputs": [
        {
          "output_type": "stream",
          "text": [
            "\u001b[34;1mtextattack\u001b[0m: Updating TextAttack package dependencies.\n",
            "\u001b[34;1mtextattack\u001b[0m: Downloading NLTK required packages.\n"
          ],
          "name": "stderr"
        },
        {
          "output_type": "stream",
          "text": [
            "[nltk_data] Downloading package averaged_perceptron_tagger to\n",
            "[nltk_data]     /root/nltk_data...\n",
            "[nltk_data]   Unzipping taggers/averaged_perceptron_tagger.zip.\n",
            "[nltk_data] Downloading package stopwords to /root/nltk_data...\n",
            "[nltk_data]   Unzipping corpora/stopwords.zip.\n",
            "[nltk_data] Downloading package omw to /root/nltk_data...\n",
            "[nltk_data]   Unzipping corpora/omw.zip.\n",
            "[nltk_data] Downloading package universal_tagset to /root/nltk_data...\n",
            "[nltk_data]   Unzipping taggers/universal_tagset.zip.\n",
            "[nltk_data] Downloading package wordnet to /root/nltk_data...\n",
            "[nltk_data]   Unzipping corpora/wordnet.zip.\n",
            "[nltk_data] Downloading package punkt to /root/nltk_data...\n",
            "[nltk_data]   Unzipping tokenizers/punkt.zip.\n"
          ],
          "name": "stdout"
        },
        {
          "output_type": "stream",
          "text": [
            "\u001b[34;1mtextattack\u001b[0m: Downloading https://textattack.s3.amazonaws.com/word_embeddings/paragramcf.\n",
            "100%|██████████| 481M/481M [00:09<00:00, 49.8MB/s]\n",
            "\u001b[34;1mtextattack\u001b[0m: Unzipping file /root/.cache/textattack/tmp4nuzx0e3.zip to /root/.cache/textattack/word_embeddings/paragramcf.\n",
            "\u001b[34;1mtextattack\u001b[0m: Successfully saved word_embeddings/paragramcf to cache.\n"
          ],
          "name": "stderr"
        },
        {
          "output_type": "display_data",
          "data": {
            "application/vnd.jupyter.widget-view+json": {
              "model_id": "775cfc6868184ef08c78b33e267b4c4d",
              "version_minor": 0,
              "version_major": 2
            },
            "text/plain": [
              "HBox(children=(FloatProgress(value=0.0, description='Downloading', max=520.0, style=ProgressStyle(description_…"
            ]
          },
          "metadata": {
            "tags": []
          }
        },
        {
          "output_type": "stream",
          "text": [
            "\n"
          ],
          "name": "stdout"
        },
        {
          "output_type": "display_data",
          "data": {
            "application/vnd.jupyter.widget-view+json": {
              "model_id": "a17b8dd2fde244259a9ad28e104bb678",
              "version_minor": 0,
              "version_major": 2
            },
            "text/plain": [
              "HBox(children=(FloatProgress(value=0.0, description='Downloading', max=437985387.0, style=ProgressStyle(descri…"
            ]
          },
          "metadata": {
            "tags": []
          }
        },
        {
          "output_type": "stream",
          "text": [
            "\n"
          ],
          "name": "stdout"
        },
        {
          "output_type": "display_data",
          "data": {
            "application/vnd.jupyter.widget-view+json": {
              "model_id": "d8dcc34374a2416088d76aea2c215277",
              "version_minor": 0,
              "version_major": 2
            },
            "text/plain": [
              "HBox(children=(FloatProgress(value=0.0, description='Downloading', max=231508.0, style=ProgressStyle(descripti…"
            ]
          },
          "metadata": {
            "tags": []
          }
        },
        {
          "output_type": "stream",
          "text": [
            "\n"
          ],
          "name": "stdout"
        },
        {
          "output_type": "display_data",
          "data": {
            "application/vnd.jupyter.widget-view+json": {
              "model_id": "178796a3656f43159a2a4e514fe68d8a",
              "version_minor": 0,
              "version_major": 2
            },
            "text/plain": [
              "HBox(children=(FloatProgress(value=0.0, description='Downloading', max=112.0, style=ProgressStyle(description_…"
            ]
          },
          "metadata": {
            "tags": []
          }
        },
        {
          "output_type": "stream",
          "text": [
            "\n"
          ],
          "name": "stdout"
        },
        {
          "output_type": "display_data",
          "data": {
            "application/vnd.jupyter.widget-view+json": {
              "model_id": "a839c770cc944ae79dd68f4457a60a8c",
              "version_minor": 0,
              "version_major": 2
            },
            "text/plain": [
              "HBox(children=(FloatProgress(value=0.0, description='Downloading', max=48.0, style=ProgressStyle(description_w…"
            ]
          },
          "metadata": {
            "tags": []
          }
        },
        {
          "output_type": "stream",
          "text": [
            "\n"
          ],
          "name": "stdout"
        }
      ]
    },
    {
      "cell_type": "markdown",
      "metadata": {
        "id": "TvRkJdbDvSzl"
      },
      "source": [
        "## Framing the attack with our recipe"
      ]
    },
    {
      "cell_type": "markdown",
      "metadata": {
        "id": "HPj8fvaOFDAD"
      },
      "source": [
        "Defining our transformation"
      ]
    },
    {
      "cell_type": "code",
      "metadata": {
        "id": "SHezFH9jE3Z2"
      },
      "source": [
        "# Defining our transformation\n",
        "from textattack.transformations import WordSwap\n",
        "\n",
        "class Swapper(WordSwap): #Fasttext\n",
        "    \"\"\" Transforms an input by replacing any word with its most similar counterpart\n",
        "    \"\"\"\n",
        "\n",
        "    # We don't need a constructor, since our class doesn't require any parameters.\n",
        "\n",
        "    def _get_replacement_words(self, word):\n",
        "        for i in range(10):\n",
        "            if word.lower() in model1.wv.most_similar(word)[i][0].lower():\n",
        "                continue # Don't return a word containing the exact word\n",
        "            elif word.isupper():\n",
        "                return [model1.wv.most_similar(word)[i][0].upper()] # Preserving case\n",
        "            elif word[0].isupper():\n",
        "                return [model1.wv.most_similar(word)[i][0].capitalize()] # Preserving Capitalization in words\n",
        "            else:\n",
        "                return [model1.wv.most_similar(word)[i][0]]\n",
        "            \n",
        "        return [model1.wv.most_similar(word)[0][0]] # If all candidates words contain the input word"
      ],
      "execution_count": 5,
      "outputs": []
    },
    {
      "cell_type": "markdown",
      "metadata": {
        "id": "0VzpW4dMu4u7"
      },
      "source": [
        "### Defining our attack recipe:"
      ]
    },
    {
      "cell_type": "code",
      "metadata": {
        "id": "Sm04Ri8WFGHy",
        "colab": {
          "base_uri": "https://localhost:8080/",
          "height": 252,
          "referenced_widgets": [
            "31b6090fa42049ffbd25865eb0003116",
            "917deb5435854be4a6354187f3faf521",
            "bce474807da34d96bc2ecc172d7a44c4",
            "3be8b3346c44462e9f0eb543440b676f",
            "637fae28497448788f944b3ca11c529f",
            "cf7d7001d75b449d95ea1c141c541b3a",
            "c7764d3bc80645698eb147a872fee653",
            "f505296c7a4e4139bbd28c5c695181ce",
            "d954a94fb4404790a4bae5cfce32601a",
            "55dfe30d28a84fafa30ffdc4a8ef4783",
            "9caf8808ab3d4dcc8e0ff0d03611e38b",
            "858d0eeb71624322a53b684b0a9d0569",
            "fe77173f26ed400688c5134fc0763042",
            "ef09454696804d96969ca891d1c27579",
            "46e894ac33f44dad9d7fef4ce6259674",
            "5ad6fd5e536c48499b3c7b00d4b4941d",
            "ff45a3f61b5f4f16a0830bce7dcf7339",
            "a13e5ee88ab94ec3a7c7ec241f6db5fd",
            "547a1888a8ca409aa0316359ec3a8ee0",
            "c8f1a2970111458fa776149f43224749",
            "2c8404e068e240a4b3f425acefd3140c",
            "a05efa03e29a4850a024c908663be9c0",
            "4ee4ce37c2c84c3c842c6954121266fd",
            "7fe728f00d12461fa460d29179881200",
            "e57d3995a9a34fbf83640e6e232ec7bc",
            "18d3a7b27c674b499e02412a72a19161",
            "b0ff5676bdea46a683f81c0c15d5481d",
            "fa50a4f8f0344ba2b5fa0b6c897165bf",
            "4b3cea24944f4835954422b04dfb8b99",
            "db87d69aa22149ac9ab464d1e8da7dc0",
            "935a3f161ac64651b96f41dba2fcfca5",
            "d7b5a50d92c1465e92ffcd9eb7c3ff26",
            "e9da34bfbc99446780e3455a13db4059",
            "264265072c0e4b9996f5801dcdcdd554",
            "95409a763cc54d35b3c2f9858880612e",
            "eec5c4b4f1a54e4988945244776f7352",
            "d4522934992e4a56b6144a28d16070ae",
            "6de4ac3e8f62483aa950629e53152ef4",
            "8f14d3325c994d45bb9d85246cf640f5",
            "be773b281f3c40f086821572d394885e"
          ]
        },
        "outputId": "fd314e0e-fe33-4080-9d14-85ca8ddf256e"
      },
      "source": [
        "from textattack.constraints.grammaticality import PartOfSpeech\n",
        "from textattack.constraints.pre_transformation import (\n",
        "    InputColumnModification,\n",
        "    RepeatModification,\n",
        "    StopwordModification,\n",
        ")\n",
        "from textattack.constraints.overlap import MaxWordsPerturbed\n",
        "from textattack.constraints.semantics import WordEmbeddingDistance\n",
        "from textattack.constraints.semantics.sentence_encoders import UniversalSentenceEncoder\n",
        "from textattack.search_methods import GreedyWordSwapWIR\n",
        "from textattack.constraints.pre_transformation import RepeatModification, StopwordModification\n",
        "from textattack.shared import Attack\n",
        "from textattack.goal_functions import UntargetedClassification\n",
        "from textattack.datasets import HuggingFaceDataset\n",
        "\n",
        "# We're going to use our word swap class as the attack transformation.\n",
        "transformation = Swapper()\n",
        "# We'll constrain modification of already modified indices and stopwords\n",
        "constraints = [RepeatModification(), StopwordModification()]\n",
        "# # We'll use the Greedy search method\n",
        "search_method = GreedyWordSwapWIR(\"weighted-saliency\")\n",
        "# Create the goal function using the model\n",
        "\n",
        "goal_function = UntargetedClassification(model_wrapper)\n",
        "\n",
        "# Now, let's make the attack from the 4 components:\n",
        "attack = Attack(goal_function, constraints, transformation, search_method)\n",
        "\n",
        "dataset = HuggingFaceDataset(\"yelp_polarity\", None, \"test\") # Using this dataset for the attack"
      ],
      "execution_count": null,
      "outputs": [
        {
          "output_type": "stream",
          "text": [
            "\u001b[34;1mtextattack\u001b[0m: Unknown if model of class <class 'transformers.models.bert.modeling_bert.BertForSequenceClassification'> compatible with goal function <class 'textattack.goal_functions.classification.untargeted_classification.UntargetedClassification'>.\n"
          ],
          "name": "stderr"
        },
        {
          "output_type": "display_data",
          "data": {
            "application/vnd.jupyter.widget-view+json": {
              "model_id": "31b6090fa42049ffbd25865eb0003116",
              "version_minor": 0,
              "version_major": 2
            },
            "text/plain": [
              "HBox(children=(FloatProgress(value=0.0, description='Downloading', max=2313.0, style=ProgressStyle(description…"
            ]
          },
          "metadata": {
            "tags": []
          }
        },
        {
          "output_type": "stream",
          "text": [
            "\n"
          ],
          "name": "stdout"
        },
        {
          "output_type": "display_data",
          "data": {
            "application/vnd.jupyter.widget-view+json": {
              "model_id": "d954a94fb4404790a4bae5cfce32601a",
              "version_minor": 0,
              "version_major": 2
            },
            "text/plain": [
              "HBox(children=(FloatProgress(value=0.0, description='Downloading', max=1609.0, style=ProgressStyle(description…"
            ]
          },
          "metadata": {
            "tags": []
          }
        },
        {
          "output_type": "stream",
          "text": [
            "\n",
            "Downloading and preparing dataset yelp_polarity/plain_text (download: 158.67 MiB, generated: 421.28 MiB, post-processed: Unknown size, total: 579.95 MiB) to /root/.cache/huggingface/datasets/yelp_polarity/plain_text/1.0.0/591dc79cb354c6f051b5bf61c77a446205c98156e01669c6218c9bd6aa15f581...\n"
          ],
          "name": "stdout"
        },
        {
          "output_type": "display_data",
          "data": {
            "application/vnd.jupyter.widget-view+json": {
              "model_id": "ff45a3f61b5f4f16a0830bce7dcf7339",
              "version_minor": 0,
              "version_major": 2
            },
            "text/plain": [
              "HBox(children=(FloatProgress(value=0.0, description='Downloading', max=166373201.0, style=ProgressStyle(descri…"
            ]
          },
          "metadata": {
            "tags": []
          }
        },
        {
          "output_type": "stream",
          "text": [
            "\n"
          ],
          "name": "stdout"
        },
        {
          "output_type": "display_data",
          "data": {
            "application/vnd.jupyter.widget-view+json": {
              "model_id": "e57d3995a9a34fbf83640e6e232ec7bc",
              "version_minor": 0,
              "version_major": 2
            },
            "text/plain": [
              "HBox(children=(FloatProgress(value=1.0, bar_style='info', max=1.0), HTML(value='')))"
            ]
          },
          "metadata": {
            "tags": []
          }
        },
        {
          "output_type": "stream",
          "text": [
            "\r"
          ],
          "name": "stdout"
        },
        {
          "output_type": "display_data",
          "data": {
            "application/vnd.jupyter.widget-view+json": {
              "model_id": "e9da34bfbc99446780e3455a13db4059",
              "version_minor": 0,
              "version_major": 2
            },
            "text/plain": [
              "HBox(children=(FloatProgress(value=1.0, bar_style='info', max=1.0), HTML(value='')))"
            ]
          },
          "metadata": {
            "tags": []
          }
        },
        {
          "output_type": "stream",
          "text": [
            "\u001b[34;1mtextattack\u001b[0m: Loading \u001b[94mdatasets\u001b[0m dataset \u001b[94myelp_polarity\u001b[0m, split \u001b[94mtest\u001b[0m.\n"
          ],
          "name": "stderr"
        },
        {
          "output_type": "stream",
          "text": [
            "\rDataset yelp_polarity downloaded and prepared to /root/.cache/huggingface/datasets/yelp_polarity/plain_text/1.0.0/591dc79cb354c6f051b5bf61c77a446205c98156e01669c6218c9bd6aa15f581. Subsequent calls will reuse this data.\n"
          ],
          "name": "stdout"
        }
      ]
    },
    {
      "cell_type": "code",
      "metadata": {
        "id": "a578fNbVFII3",
        "colab": {
          "base_uri": "https://localhost:8080/"
        },
        "outputId": "92a9f203-e40b-4636-9a74-196cdac3a958"
      },
      "source": [
        "print(attack)"
      ],
      "execution_count": null,
      "outputs": [
        {
          "output_type": "stream",
          "text": [
            "Attack(\n",
            "  (search_method): GreedyWordSwapWIR(\n",
            "    (wir_method):  weighted-saliency\n",
            "  )\n",
            "  (goal_function):  UntargetedClassification\n",
            "  (transformation):  Swapper\n",
            "  (constraints): \n",
            "    (0): RepeatModification\n",
            "    (1): StopwordModification\n",
            "  (is_black_box):  True\n",
            ")\n"
          ],
          "name": "stdout"
        }
      ]
    },
    {
      "cell_type": "markdown",
      "metadata": {
        "id": "CDSg7RGdvEGK"
      },
      "source": [
        "### Attacking and displaying results:"
      ]
    },
    {
      "cell_type": "code",
      "metadata": {
        "id": "fClGtuFxFM5f",
        "colab": {
          "base_uri": "https://localhost:8080/",
          "height": 1000
        },
        "outputId": "b153f5ae-abb2-4e96-ab38-a9a9ea7c8b7b"
      },
      "source": [
        "from collections import deque\n",
        "\n",
        "import textattack\n",
        "import tqdm\n",
        "import time\n",
        "from IPython.display import display, HTML\n",
        "num_examples = 25\n",
        "num_remaining_attacks = num_examples\n",
        "pbar = tqdm.tqdm(total=num_remaining_attacks, smoothing=0)\n",
        "\n",
        "worklist = deque(range(0, num_examples))\n",
        "worklist_tail = worklist[-1]\n",
        "\n",
        "attack_log_manager = textattack.loggers.AttackLogManager()\n",
        "\n",
        "load_time = time.time()\n",
        "        \n",
        "num_results = 0\n",
        "num_failures = 0\n",
        "num_successes = 0\n",
        "for result in attack.attack_dataset(dataset, indices=worklist):\n",
        "    result_html_str = result.__str__(color_method=\"html\").replace(\"\\n\\n\", \"<br>\")\n",
        "    display(HTML(result_html_str))\n",
        "    attack_log_manager.log_result(result)\n",
        "            \n",
        "    if not isinstance(result, textattack.attack_results.SkippedAttackResult):\n",
        "        pbar.update(1)\n",
        "    else:\n",
        "        worklist_tail += 1\n",
        "        pbar.update(1)\n",
        "        worklist.append(worklist_tail)\n",
        "\n",
        "    num_results += 1\n",
        "\n",
        "    if (\n",
        "        type(result) == textattack.attack_results.SuccessfulAttackResult\n",
        "        or type(result) == textattack.attack_results.MaximizedAttackResult\n",
        "    ):\n",
        "        num_successes += 1\n",
        "                \n",
        "    if type(result) == textattack.attack_results.FailedAttackResult:\n",
        "        num_failures += 1\n",
        "    pbar.set_description(\n",
        "        \"[Succeeded / Failed / Total] {} / {} / {}\".format(\n",
        "            num_successes, num_failures, num_results\n",
        "        )\n",
        "    )\n",
        "\n",
        "pbar.close()\n",
        "\n",
        "attack_log_manager.enable_stdout()\n",
        "attack_log_manager.log_summary()\n",
        "attack_log_manager.flush()\n",
        "        \n",
        "textattack.shared.logger.info(f\"Attack time: {time.time() - load_time}s\")"
      ],
      "execution_count": null,
      "outputs": [
        {
          "output_type": "stream",
          "text": [
            "\r  0%|          | 0/25 [00:00<?, ?it/s]"
          ],
          "name": "stderr"
        },
        {
          "output_type": "display_data",
          "data": {
            "text/html": [
              "<font color = green>2 (100%)</font> --> <font color = red>1 (61%)</font><br>Contrary to other reviews, I have <font color = green>zero</font> complaints about the service or the prices. I have been getting tire service here for the past 5 years now, and compared to my experience with places like Pep Boys, these <font color = green>guys</font> are experienced and <font color = green>know</font> what they're doing. \\nAlso, this is one place that I do not feel like I am being taken advantage of, just because of my gender. Other <font color = green>auto</font> mechanics have been notorious for capitalizing on my ignorance of cars, and have sucked my bank account dry. But here, my service and road coverage has all been <font color = green>well</font> explained - and let up to me to <font color = green>decide</font>. \\nAnd they just renovated the <font color = green>waiting</font> room. <font color = green>It</font> looks a lot better than it did in previous years.<br>Contrary to other reviews, I have <font color = red>five</font> complaints about the service or the prices. I have been getting tire service here for the past 5 years now, and compared to my experience with places like Pep Boys, these <font color = red>goodnight</font> are experienced and <font color = red>think</font> what they're doing. \\nAlso, this is one place that I do not feel like I am being taken advantage of, just because of my gender. Other <font color = red>theft</font> mechanics have been notorious for capitalizing on my ignorance of cars, and have sucked my bank account dry. But here, my service and road coverage has all been <font color = red>such</font> explained - and let up to me to <font color = red>deciding</font>. \\nAnd they just renovated the <font color = red>baiting</font> room. <font color = red>Hibernian</font> looks a lot better than it did in previous years."
            ],
            "text/plain": [
              "<IPython.core.display.HTML object>"
            ]
          },
          "metadata": {
            "tags": []
          }
        },
        {
          "output_type": "stream",
          "text": [
            "[Succeeded / Failed / Total] 1 / 0 / 1:   4%|▍         | 1/25 [00:04<01:44,  4.35s/it]"
          ],
          "name": "stderr"
        },
        {
          "output_type": "display_data",
          "data": {
            "text/html": [
              "<font color = red>1 (100%)</font> --> <font color = green>2 (76%)</font><br>Last <font color = red>summer</font> I had an <font color = red>appointment</font> to get <font color = red>new</font> <font color = red>tires</font> and had to wait a super <font color = red>long</font> <font color = red>time</font>. I <font color = red>also</font> <font color = red>went</font> in this week for them to <font color = red>fix</font> a minor problem with a tire they <font color = red>put</font> on. They \\\"\"<font color = red>fixed</font>\\\"\" it for free, and the very next morning I had the same issue. I called to complain, and the \\\"\"<font color = red>manager</font>\\\"\" didn't <font color = red>even</font> apologize!!! So <font color = red>frustrated</font>. Never going <font color = red>back</font>.  They seem overpriced, too.<br>Last <font color = green>winter</font> I had an <font color = green>appointing</font> to get <font color = green>york</font> <font color = green>tire</font> and had to wait a super <font color = green>short</font> <font color = green>period</font>. I <font color = green>sometimes</font> <font color = green>started</font> in this week for them to <font color = green>restart</font> a minor problem with a tire they <font color = green>brought</font> on. They \\\"\"<font color = green>rotational</font>\\\"\" it for free, and the very next morning I had the same issue. I called to complain, and the \\\"\"<font color = green>coach</font>\\\"\" didn't <font color = green>indeed</font> apologize!!! So <font color = green>castrated</font>. Never going <font color = green>down</font>.  They seem overpriced, too."
            ],
            "text/plain": [
              "<IPython.core.display.HTML object>"
            ]
          },
          "metadata": {
            "tags": []
          }
        },
        {
          "output_type": "stream",
          "text": [
            "[Succeeded / Failed / Total] 2 / 0 / 2:   8%|▊         | 2/25 [00:07<01:27,  3.80s/it]"
          ],
          "name": "stderr"
        },
        {
          "output_type": "display_data",
          "data": {
            "text/html": [
              "<font color = green>2 (100%)</font> --> <font color = red>1 (71%)</font><br>Friendly staff, same <font color = green>starbucks</font> fair you <font color = green>get</font> <font color = green>anywhere</font> else.  Sometimes the <font color = green>lines</font> can <font color = green>get</font> long.<br>Friendly staff, same <font color = red>starbuck</font> fair you <font color = red>give</font> <font color = red>nowhere</font> else.  Sometimes the <font color = red>linens</font> can <font color = red>give</font> long."
            ],
            "text/plain": [
              "<IPython.core.display.HTML object>"
            ]
          },
          "metadata": {
            "tags": []
          }
        },
        {
          "output_type": "stream",
          "text": [
            "[Succeeded / Failed / Total] 3 / 0 / 3:  12%|█▏        | 3/25 [00:08<01:00,  2.77s/it]"
          ],
          "name": "stderr"
        },
        {
          "output_type": "display_data",
          "data": {
            "text/html": [
              "<font color = red>1 (99%)</font> --> <font color = green>2 (86%)</font><br>The food is good. <font color = red>Unfortunately</font> the service is very hit or miss. The main <font color = red>issue</font> seems to be with the kitchen, the waiters and waitresses are often very <font color = red>apologetic</font> for the long waits and it's pretty obvious that some of them avoid the tables after taking the initial order to avoid hearing complaints.<br>The food is good. <font color = green>Fortunately</font> the service is very hit or miss. The main <font color = green>issuance</font> seems to be with the kitchen, the waiters and waitresses are often very <font color = green>apology</font> for the long waits and it's pretty obvious that some of them avoid the tables after taking the initial order to avoid hearing complaints."
            ],
            "text/plain": [
              "<IPython.core.display.HTML object>"
            ]
          },
          "metadata": {
            "tags": []
          }
        },
        {
          "output_type": "stream",
          "text": [
            "[Succeeded / Failed / Total] 4 / 0 / 4:  16%|█▌        | 4/25 [00:09<00:52,  2.48s/it]"
          ],
          "name": "stderr"
        },
        {
          "output_type": "display_data",
          "data": {
            "text/html": [
              "<font color = green>2 (100%)</font> --> <font color = red>[FAILED]</font><br>Even when we didn't have a car Filene's Basement was worth the bus trip to the Waterfront. I always find something (usually I find 3-4 things and spend about $60) and better still, I am always still wearing the clothes and shoes 3 months later. \\n\\nI kind of suspect this is the best shopping in Pittsburgh; it's much better than the usual department stores, better than Marshall's and TJ Maxx and better than the Saks downtown, even when it has a sale. Selection, bargains AND quality.\\n\\nI like this Filene's better than Gabriel Brothers, which are harder to get to. Gabriel Brothers are a real discount shopper's challenge and I'm afraid I didn't live in Pittsburgh long enough to develop the necessary skills . . . Filene's was still up and running in June 2007 when I left town."
            ],
            "text/plain": [
              "<IPython.core.display.HTML object>"
            ]
          },
          "metadata": {
            "tags": []
          }
        },
        {
          "output_type": "stream",
          "text": [
            "[Succeeded / Failed / Total] 4 / 1 / 5:  20%|██        | 5/25 [00:17<01:08,  3.42s/it]"
          ],
          "name": "stderr"
        },
        {
          "output_type": "display_data",
          "data": {
            "text/html": [
              "<font color = green>2 (100%)</font> --> <font color = red>1 (64%)</font><br>Picture Billy <font color = green>Joel's</font> \\\"\"Piano Man\\\"\" DOUBLED mixed with beer, a rowdy crowd, and comedy - Welcome to Sing Sing!  A unique musical experience found in Homestead.\\n\\nIf you're looking to grab a bite to eat or a beer, come on in!  Serving food and brews from Rock Bottom Brewery, Sing Sing keeps your tummy full while you listen to two (or more) amazingly talented pianists take your musical requests.  They'll play <font color = green>anything</font> you'd <font color = green>like</font>, for tips of course.  Wanting to hear Britney Spears?  Toto?  Duran Duran?  Yep, they play that... new or old.\\n\\nThe crowd makes the show, so make sure you come ready for a good time.  If the crowd is dead, it's harder for the Guys to get a <font color = green>reaction</font>.  <font color = green>If</font> you're wanting to have some fun, it can be a GREAT time!  It's the perfect place for Birthday parties - especially if you want to embarrass a friend.  The guys will bring them up to the pianos and perform a little ditty.  For being a good sport, you <font color = green>get</font> the <font color = green>coveted</font> Sing Sing bumper sticker.  Now who wouldn't want that?\\n\\nDueling Pianos and brews... time to Shut Up & Sing Sing!<br>Picture Billy <font color = red>Hyatt</font> \\\"\"Piano Man\\\"\" DOUBLED mixed with beer, a rowdy crowd, and comedy - Welcome to Sing Sing!  A unique musical experience found in Homestead.\\n\\nIf you're looking to grab a bite to eat or a beer, come on in!  Serving food and brews from Rock Bottom Brewery, Sing Sing keeps your tummy full while you listen to two (or more) amazingly talented pianists take your musical requests.  They'll play <font color = red>nothing</font> you'd <font color = red>resembling</font>, for tips of course.  Wanting to hear Britney Spears?  Toto?  Duran Duran?  Yep, they play that... new or old.\\n\\nThe crowd makes the show, so make sure you come ready for a good time.  If the crowd is dead, it's harder for the Guys to get a <font color = red>reacting</font>.  <font color = red>Sun</font> you're wanting to have some fun, it can be a GREAT time!  It's the perfect place for Birthday parties - especially if you want to embarrass a friend.  The guys will bring them up to the pianos and perform a little ditty.  For being a good sport, you <font color = red>give</font> the <font color = red>riveted</font> Sing Sing bumper sticker.  Now who wouldn't want that?\\n\\nDueling Pianos and brews... time to Shut Up & Sing Sing!"
            ],
            "text/plain": [
              "<IPython.core.display.HTML object>"
            ]
          },
          "metadata": {
            "tags": []
          }
        },
        {
          "output_type": "stream",
          "text": [
            "[Succeeded / Failed / Total] 5 / 1 / 6:  24%|██▍       | 6/25 [00:24<01:16,  4.04s/it]"
          ],
          "name": "stderr"
        },
        {
          "output_type": "display_data",
          "data": {
            "text/html": [
              "<font color = red>1 (100%)</font> --> <font color = red>[FAILED]</font><br>Mediocre service. COLD food! Our food waited so long the lettuce & pickles wilted. Bland food. Crazy overpriced. Long waits in the arcade. 1 beer per hour maximum.  Avoid at all costs. Fair manager."
            ],
            "text/plain": [
              "<IPython.core.display.HTML object>"
            ]
          },
          "metadata": {
            "tags": []
          }
        },
        {
          "output_type": "stream",
          "text": [
            "[Succeeded / Failed / Total] 5 / 2 / 7:  28%|██▊       | 7/25 [00:26<01:07,  3.74s/it]"
          ],
          "name": "stderr"
        },
        {
          "output_type": "display_data",
          "data": {
            "text/html": [
              "<font color = red>1 (100%)</font> --> <font color = green>2 (62%)</font><br><font color = red>Ok</font>! Let me tell you about my bad <font color = red>experience</font> first. I went to D&B last night for a post wedding party - which, side note, is a <font color = red>great</font> idea!\\n\\nIt was around midnight and the bar wasn't really populated. There were three bartenders and only one was actually making rounds to see if anyone needed anything. The two other bartenders were chatting on the far side of the bar that no one was sitting at. Kind of counter productive if you ask me. \\n\\nI stood there for about 5 minutes, which for a busy bar is fine but when I am the only one with my card out then, it just seems a little ridiculous. I made eye contact with the one girl twice and gave her a smile and she literally turned away. I finally had to walk to them to get their attention.  I was standing right in front of them smiling and they didn't ask if i need anything. I finally said, \\\"\"Are you working?\\\"\" and they gave each other a weird look. I felt like i was the crazy one. I asked for a beer/got the beer.\\n\\nIn between that time, the other bartender brought food over and set it down. She took a fry from the plate (right in front of me) and then served it to someone on the other side of the bar. What the hell! I felt like i was in some grimy bar in out in the sticks - not an established D&B. \\n\\nI was just really turned off from that experience. \\n\\nThe good is that D&B provides a different type of entertainment when you want to mix things up. I remember going here with my grandparents when I was a kid and it was the best treat ever! We would eat at the restaurant and then spend hours playing games. This place holds some really good memories for me. \\n\\nIt's a shame that my experience last night has spoiled the high standards I held for it.<br><font color = green>Naval</font>! Let me tell you about my bad <font color = green>experiencing</font> first. I went to D&B last night for a post wedding party - which, side note, is a <font color = green>greasy</font> idea!\\n\\nIt was around midnight and the bar wasn't really populated. There were three bartenders and only one was actually making rounds to see if anyone needed anything. The two other bartenders were chatting on the far side of the bar that no one was sitting at. Kind of counter productive if you ask me. \\n\\nI stood there for about 5 minutes, which for a busy bar is fine but when I am the only one with my card out then, it just seems a little ridiculous. I made eye contact with the one girl twice and gave her a smile and she literally turned away. I finally had to walk to them to get their attention.  I was standing right in front of them smiling and they didn't ask if i need anything. I finally said, \\\"\"Are you working?\\\"\" and they gave each other a weird look. I felt like i was the crazy one. I asked for a beer/got the beer.\\n\\nIn between that time, the other bartender brought food over and set it down. She took a fry from the plate (right in front of me) and then served it to someone on the other side of the bar. What the hell! I felt like i was in some grimy bar in out in the sticks - not an established D&B. \\n\\nI was just really turned off from that experience. \\n\\nThe good is that D&B provides a different type of entertainment when you want to mix things up. I remember going here with my grandparents when I was a kid and it was the best treat ever! We would eat at the restaurant and then spend hours playing games. This place holds some really good memories for me. \\n\\nIt's a shame that my experience last night has spoiled the high standards I held for it."
            ],
            "text/plain": [
              "<IPython.core.display.HTML object>"
            ]
          },
          "metadata": {
            "tags": []
          }
        },
        {
          "output_type": "stream",
          "text": [
            "[Succeeded / Failed / Total] 6 / 2 / 8:  32%|███▏      | 8/25 [00:38<01:21,  4.81s/it]"
          ],
          "name": "stderr"
        },
        {
          "output_type": "display_data",
          "data": {
            "text/html": [
              "<font color = red>1 (100%)</font> --> <font color = green>2 (99%)</font><br>I used to <font color = red>love</font> D&B when it <font color = red>first</font> <font color = red>opened</font> in the Waterfront, but it has <font color = red>gone</font> down <font color = red>hill</font> over the years. The <font color = red>games</font> are not as fun and do not <font color = red>give</font> you as <font color = red>many</font> <font color = red>tickets</font> and the <font color = red>prizes</font> have gotten cheaper in quality. It takes a <font color = red>whole</font> heck of a lot of tickets for you to <font color = red>even</font> get a pencil! The <font color = red>atmosphere</font> is <font color = red>okay</font> but it used to be so <font color = red>much</font> better with the funnest <font color = red>games</font> and diverse groups of people! Now, it is <font color = red>run</font> down and <font color = red>many</font> of the <font color = red>games</font> are app related <font color = red>games</font> (Fruit Ninja) and 3D <font color = red>Experience</font> rides. With such \\\"\"<font color = red>games</font>\\\"\", you <font color = red>can't</font> <font color = red>even</font> earn <font color = red>tickets</font> and they <font color = red>take</font> a lot of <font color = red>tokens</font>! Last <font color = red>time</font> I <font color = red>went</font>, <font color = red>back</font> in the winter, <font color = red>many</font> of the <font color = red>games</font> were <font color = red>broken</font>, which made for a <font color = red>negative</font> player experience. I would <font color = red>go</font> to D&B to <font color = red>play</font> some games again in the future, but it is no longer <font color = red>one</font> of my favorite places to go due to the decline of fun games where you can earn <font color = red>tickets</font>.<br>I used to <font color = green>dreamy</font> D&B when it <font color = green>last</font> <font color = green>opens</font> in the Waterfront, but it has <font color = green>fallen</font> down <font color = green>clifton</font> over the years. The <font color = green>game</font> are not as fun and do not <font color = green>make</font> you as <font color = green>some</font> <font color = green>ticket</font> and the <font color = green>prize</font> have gotten cheaper in quality. It takes a <font color = green>entire</font> heck of a lot of tickets for you to <font color = green>indeed</font> get a pencil! The <font color = green>atmospheric</font> is <font color = green>anymore</font> but it used to be so <font color = green>considerably</font> better with the funnest <font color = green>game</font> and diverse groups of people! Now, it is <font color = green>driveway</font> down and <font color = green>some</font> of the <font color = green>game</font> are app related <font color = green>game</font> (Fruit Ninja) and 3D <font color = green>Experiencing</font> rides. With such \\\"\"<font color = green>game</font>\\\"\", you <font color = green>canr</font> <font color = green>indeed</font> earn <font color = green>ticket</font> and they <font color = green>give</font> a lot of <font color = green>shuffles</font>! Last <font color = green>period</font> I <font color = green>started</font>, <font color = green>down</font> in the winter, <font color = green>some</font> of the <font color = green>game</font> were <font color = green>woken</font>, which made for a <font color = green>positive</font> player experience. I would <font color = green>get</font> to D&B to <font color = green>plays</font> some games again in the future, but it is no longer <font color = green>nine</font> of my favorite places to go due to the decline of fun games where you can earn <font color = green>ticket</font>."
            ],
            "text/plain": [
              "<IPython.core.display.HTML object>"
            ]
          },
          "metadata": {
            "tags": []
          }
        },
        {
          "output_type": "stream",
          "text": [
            "[Succeeded / Failed / Total] 7 / 2 / 9:  36%|███▌      | 9/25 [00:45<01:21,  5.10s/it]"
          ],
          "name": "stderr"
        },
        {
          "output_type": "display_data",
          "data": {
            "text/html": [
              "<font color = green>2 (100%)</font> --> <font color = red>1 (59%)</font><br>Like any Barnes & Noble, it has a nice comfy cafe, and a <font color = green>large</font> selection of <font color = green>books</font>.  <font color = green>The</font> staff is very <font color = green>friendly</font> and helpful.  They stock a decent selection, and the prices are pretty reasonable.  Obviously it's hard for them to compete with Amazon.  However since all the small shop bookstores are gone, it's <font color = green>nice</font> to <font color = green>walk</font> into one every once in a while.<br>Like any Barnes & Noble, it has a nice comfy cafe, and a <font color = red>small</font> selection of <font color = red>reprints</font>.  <font color = red>Gauche</font> staff is very <font color = red>friendliness</font> and helpful.  They stock a decent selection, and the prices are pretty reasonable.  Obviously it's hard for them to compete with Amazon.  However since all the small shop bookstores are gone, it's <font color = red>loin</font> to <font color = red>shook</font> into one every once in a while."
            ],
            "text/plain": [
              "<IPython.core.display.HTML object>"
            ]
          },
          "metadata": {
            "tags": []
          }
        },
        {
          "output_type": "stream",
          "text": [
            "[Succeeded / Failed / Total] 8 / 2 / 10:  40%|████      | 10/25 [00:48<01:12,  4.82s/it]"
          ],
          "name": "stderr"
        },
        {
          "output_type": "display_data",
          "data": {
            "text/html": [
              "<font color = red>1 (100%)</font> --> <font color = red>[FAILED]</font><br>Meh, I've experienced better is an understatement.\\n\\nFriday's is like the \\\"\"fine dining chain\\\"\" for every yinzer in Pittsburgh...\\n\\n1.  When we were seated, it was quick which was a surprise.  Somehow this restaurant gets packed and I never understand why.  I was happy about that.\\n2.  I ordered one of their \\\"\"skinny margaritas\\\"\", blackberry to be exact.  It was a nice size, however, at $6.00/pop, that was half of my food bill.\\n3.  The waitress started off attentive, but after our food came out she was gone.  I ordered a turkey burger with pickle and mustard.  Loaded mashed potato on the side because I wanted heartburn ha!\\n4.  Food came.  My burger had lettuce on it only.  Waitress was supposed to go and get our next round of drinks.  I had to wait to ask for my pickle.\\n5.  The loaded potatoes were more like rubber than potatoes and not what I was expecting.  Disappointment.\\n6.  The waitress then went into oblivion and only returned with our check.  \\n\\nNever again will I eat at Friday's.  I will, however, go should a happy hour arise..."
            ],
            "text/plain": [
              "<IPython.core.display.HTML object>"
            ]
          },
          "metadata": {
            "tags": []
          }
        },
        {
          "output_type": "stream",
          "text": [
            "[Succeeded / Failed / Total] 8 / 3 / 11:  44%|████▍     | 11/25 [00:58<01:14,  5.30s/it]"
          ],
          "name": "stderr"
        },
        {
          "output_type": "display_data",
          "data": {
            "text/html": [
              "<font color = green>2 (100%)</font> --> <font color = red>1 (97%)</font><br>Unos has been around for ever, & I feel <font color = green>like</font> this restaurant chain peak in popularity in the 80's. Honestly the decor inside still kind of looks 80s to me even though its nice with sleek booth and exposed brick.\\n\\nIf you haven't died and he recently I ordered you to come back and have a meal here again because honestly the food is really quite <font color = green>good</font>!\\n\\nThey have the best chicken salad wrap ever! I love that rap so much I want agreed to walk the south side River Trail from where the Steelers practice all the way to the damn waterfront just because I knew that I could convince my boyfriend to go to Unos with me for lunch.  Full disclosure:  I made him call is a cab and we took a taxi back to the parking lot after lunch.\\n\\nListen... <font color = green>The</font> food and pizza and service are very <font color = green>good</font>, surprisingly so! I don't know why this place is not busier but next time you're down at the Waterfront please do consider dining here!<br>Unos has been around for ever, & I feel <font color = red>resembling</font> this restaurant chain peak in popularity in the 80's. Honestly the decor inside still kind of looks 80s to me even though its nice with sleek booth and exposed brick.\\n\\nIf you haven't died and he recently I ordered you to come back and have a meal here again because honestly the food is really quite <font color = red>bad</font>!\\n\\nThey have the best chicken salad wrap ever! I love that rap so much I want agreed to walk the south side River Trail from where the Steelers practice all the way to the damn waterfront just because I knew that I could convince my boyfriend to go to Unos with me for lunch.  Full disclosure:  I made him call is a cab and we took a taxi back to the parking lot after lunch.\\n\\nListen... <font color = red>Gauche</font> food and pizza and service are very <font color = red>bad</font>, surprisingly so! I don't know why this place is not busier but next time you're down at the Waterfront please do consider dining here!"
            ],
            "text/plain": [
              "<IPython.core.display.HTML object>"
            ]
          },
          "metadata": {
            "tags": []
          }
        },
        {
          "output_type": "stream",
          "text": [
            "[Succeeded / Failed / Total] 9 / 3 / 12:  48%|████▊     | 12/25 [01:04<01:09,  5.37s/it]"
          ],
          "name": "stderr"
        },
        {
          "output_type": "display_data",
          "data": {
            "text/html": [
              "<font color = red>1 (100%)</font> --> <font color = green>2 (50%)</font><br>Stars are for the food only.    <font color = red>2</font>.5 rating\\n\\nGot there at 8pm on Saturday night, they told us it was an hour wait which was expected, but it only took 30minutes to be seated so that was a bonus.  Started off with the lettuce wraps and i used to be a fan of these but they just <font color = red>seem</font> to bore me now(<font color = red>FYI-love</font> the <font color = red>lettuce</font> wraps at the cheesecake factory).  I had the Singapore rice noodles.  This was so so as i <font color = red>thought</font> immediately that lu lu noodles and asian cafe are better.  The fried rice was disappointing and the vegetables <font color = red>tasted</font> <font color = red>raw</font>.   Some good notes were the Dynamite shrimp, plump, juicy, <font color = red>tangy</font> with a small kick.    Sweet and sour chicken was just the same minus the kick. \\n\\nThe service was annoying.   We were there less than <font color = red>45</font> <font color = red>minutes</font> and it <font color = red>seemed</font> like our waiter was in a rush to get us out of there.   Constantly asking if he could remove my plate.  I had to <font color = red>sternly</font> say at one point that I will let you know when i am finished.  I found it <font color = red>rude</font> especially since  there wasn't <font color = red>even</font> a line at this point.  \\n\\nI think we will travel elsewhere following a movie.  The result never quite met the anticipation.<br>Stars are for the food only.    <font color = green>campaign</font>.5 rating\\n\\nGot there at 8pm on Saturday night, they told us it was an hour wait which was expected, but it only took 30minutes to be seated so that was a bonus.  Started off with the lettuce wraps and i used to be a fan of these but they just <font color = green>tend</font> to bore me now(<font color = green>Love</font> the <font color = green>gingerbread</font> wraps at the cheesecake factory).  I had the Singapore rice noodles.  This was so so as i <font color = green>believed</font> immediately that lu lu noodles and asian cafe are better.  The fried rice was disappointing and the vegetables <font color = green>pasted</font> <font color = green>grain</font>.   Some good notes were the Dynamite shrimp, plump, juicy, <font color = green>yangtze</font> with a small kick.    Sweet and sour chicken was just the same minus the kick. \\n\\nThe service was annoying.   We were there less than <font color = green>likely</font> <font color = green>minute</font> and it <font color = green>seems</font> like our waiter was in a rush to get us out of there.   Constantly asking if he could remove my plate.  I had to <font color = green>stubbornly</font> say at one point that I will let you know when i am finished.  I found it <font color = green>dude</font> especially since  there wasn't <font color = green>indeed</font> a line at this point.  \\n\\nI think we will travel elsewhere following a movie.  The result never quite met the anticipation."
            ],
            "text/plain": [
              "<IPython.core.display.HTML object>"
            ]
          },
          "metadata": {
            "tags": []
          }
        },
        {
          "output_type": "stream",
          "text": [
            "[Succeeded / Failed / Total] 10 / 3 / 13:  52%|█████▏    | 13/25 [01:12<01:07,  5.61s/it]"
          ],
          "name": "stderr"
        },
        {
          "output_type": "display_data",
          "data": {
            "text/html": [
              "<font color = red>1 (100%)</font> --> <font color = green>2 (52%)</font><br><font color = red>Our</font> <font color = red>last</font> few <font color = red>visits</font> have <font color = red>left</font> something to desire, One of the things <font color = red>I</font> always notice is the demeanor of an <font color = red>establishments</font> employees. <font color = red>These</font> people look miserable, no one smiles or greets you appropriately, it's more like get in, get out, turn the tables,\\n\\nThe food has remained consistently good... when we can <font color = red>order</font> it. the last time JB and I came for a quick dinner, the place was not <font color = red>busy</font> yet we were passed by 6 frowning waitstaff without getting drinks... for 15 <font color = red>minutes</font> we were left suiting at our table with our menus closed and sitting on the edge of the table (HINT, HINT) so we left and most <font color = red>likely</font> will not be returning.<br><font color = green>Zur</font> <font color = green>next</font> few <font color = green>visit</font> have <font color = green>right</font> something to desire, One of the things <font color = green>ENCHANTER</font> always notice is the demeanor of an <font color = green>reestablishment</font> employees. <font color = green>Yapese</font> people look miserable, no one smiles or greets you appropriately, it's more like get in, get out, turn the tables,\\n\\nThe food has remained consistently good... when we can <font color = green>addition</font> it. the last time JB and I came for a quick dinner, the place was not <font color = green>roadside</font> yet we were passed by 6 frowning waitstaff without getting drinks... for 15 <font color = green>minute</font> we were left suiting at our table with our menus closed and sitting on the edge of the table (HINT, HINT) so we left and most <font color = green>probable</font> will not be returning."
            ],
            "text/plain": [
              "<IPython.core.display.HTML object>"
            ]
          },
          "metadata": {
            "tags": []
          }
        },
        {
          "output_type": "stream",
          "text": [
            "[Succeeded / Failed / Total] 11 / 3 / 14:  56%|█████▌    | 14/25 [01:17<01:00,  5.51s/it]"
          ],
          "name": "stderr"
        },
        {
          "output_type": "display_data",
          "data": {
            "text/html": [
              "<font color = green>2 (100%)</font> --> <font color = red>1 (94%)</font><br>Good <font color = green>quality</font> pork fried dumpling and mongo beef.  Bar service was fast and <font color = green>Efficent</font>.   <font color = green>Good</font> value.  Not a <font color = green>5</font> cause dragon eye tea was cold first time around and beef had minor amount of fat.   Fortune was even Postive!<br>Good <font color = red>durability</font> pork fried dumpling and mongo beef.  Bar service was fast and <font color = red>Workhouse</font>.   <font color = red>Bewilderment</font> value.  Not a <font color = red>occupy</font> cause dragon eye tea was cold first time around and beef had minor amount of fat.   Fortune was even Postive!"
            ],
            "text/plain": [
              "<IPython.core.display.HTML object>"
            ]
          },
          "metadata": {
            "tags": []
          }
        },
        {
          "output_type": "stream",
          "text": [
            "[Succeeded / Failed / Total] 12 / 3 / 15:  60%|██████    | 15/25 [01:18<00:52,  5.24s/it]"
          ],
          "name": "stderr"
        },
        {
          "output_type": "display_data",
          "data": {
            "text/html": [
              "<font color = red>1 (100%)</font> --> <font color = green>2 (84%)</font><br>Very <font color = red>bad</font> <font color = red>purchase</font> experience. <font color = red>I</font> bought a shirt with a hole covered in the rolled up sleeves, but they <font color = red>denied</font> my request to return it. I am so angery at this and will never shop their chothes anymore.<br>Very <font color = green>good</font> <font color = green>purchasing</font> experience. <font color = green>ENCHANTER</font> bought a shirt with a hole covered in the rolled up sleeves, but they <font color = green>asserted</font> my request to return it. I am so angery at this and will never shop their chothes anymore."
            ],
            "text/plain": [
              "<IPython.core.display.HTML object>"
            ]
          },
          "metadata": {
            "tags": []
          }
        },
        {
          "output_type": "stream",
          "text": [
            "[Succeeded / Failed / Total] 13 / 3 / 16:  64%|██████▍   | 16/25 [01:20<00:45,  5.00s/it]"
          ],
          "name": "stderr"
        },
        {
          "output_type": "display_data",
          "data": {
            "text/html": [
              "<font color = red>1 (100%)</font> --> <font color = green>2 (60%)</font><br>When I think <font color = red>BBB</font>... I think the days of simply bringing your bike in for a quick and relatively inexpensive tune-up and a few fixes are long gone.    \\n\\nThis review is more for the repair end of BBB. In their defense BBB does appear to carry some amazing brands of bike (ie Colnago) that you just don't find anywhere else in Pittsburgh. \\n\\nAt BBB I was charged $250 for a tune up and a few other things. Granted this included installing a sew up tire (which I can understand would cost approx $50), Swapping out a left side (big ring) shifter on my down tube (this should have cost approx. $20 at most) and installing new bar tape (cost of tape $20 and $20 to install?).. SO WHAT\\\"\"S WITH $140 FOR A TUNE UP? Well the story goes like this:\\n\\nI bring the bike into BBB prior to the nice weather hitting Pittsburgh in <font color = red>hopes</font> of trying what people have said is a <font color = red>great</font> bike shop and getting my OCLV TREK 5900 ready for the season. Turns out I don't hear from these guys. A week goes by ...two weeks...I think that's ok I have two or three other bike I can turn to for a ride. Then I wind up going out of town for a week thinking for sure I'll get a call from them re: my bike is ready to roll...but no dice. So I call. Turns out a screw snapped when the mechanic was re-installing the down tube shifter and it had to be tapped out (is that my fault?). He says \\\"\"Should be ready in a few days\\\"\". So I come in a few days later to this mammoth bill. I ask if I am paying for the labor of taping out the screw? I don't think I ever got a straight answer? I look at the bill and can't see a good breakdown of the charges. Normally I would \\\"\"duke it over\\\"\" a bill like this but I figured...I had somewhere I to be 10 minutes ago and at least I finally have my bike. I would expect that for that money my bike could have been stripped down to the frame and totally gone over (overhauled). But it wasn't.  Well BBB I'll give you a star because the mechanic did do a good job in that my cycle shifts well and the tape job on the bars looks great (nice wrap). Plus I'll toss in a star for your outstanding selection of high end cycles. Maybe I would have rated BBB higher if I was in the market for a purchase instead of a simple repair?<br>When I think <font color = green>FANTASIA</font>... I think the days of simply bringing your bike in for a quick and relatively inexpensive tune-up and a few fixes are long gone.    \\n\\nThis review is more for the repair end of BBB. In their defense BBB does appear to carry some amazing brands of bike (ie Colnago) that you just don't find anywhere else in Pittsburgh. \\n\\nAt BBB I was charged $250 for a tune up and a few other things. Granted this included installing a sew up tire (which I can understand would cost approx $50), Swapping out a left side (big ring) shifter on my down tube (this should have cost approx. $20 at most) and installing new bar tape (cost of tape $20 and $20 to install?).. SO WHAT\\\"\"S WITH $140 FOR A TUNE UP? Well the story goes like this:\\n\\nI bring the bike into BBB prior to the nice weather hitting Pittsburgh in <font color = green>fears</font> of trying what people have said is a <font color = green>greasy</font> bike shop and getting my OCLV TREK 5900 ready for the season. Turns out I don't hear from these guys. A week goes by ...two weeks...I think that's ok I have two or three other bike I can turn to for a ride. Then I wind up going out of town for a week thinking for sure I'll get a call from them re: my bike is ready to roll...but no dice. So I call. Turns out a screw snapped when the mechanic was re-installing the down tube shifter and it had to be tapped out (is that my fault?). He says \\\"\"Should be ready in a few days\\\"\". So I come in a few days later to this mammoth bill. I ask if I am paying for the labor of taping out the screw? I don't think I ever got a straight answer? I look at the bill and can't see a good breakdown of the charges. Normally I would \\\"\"duke it over\\\"\" a bill like this but I figured...I had somewhere I to be 10 minutes ago and at least I finally have my bike. I would expect that for that money my bike could have been stripped down to the frame and totally gone over (overhauled). But it wasn't.  Well BBB I'll give you a star because the mechanic did do a good job in that my cycle shifts well and the tape job on the bars looks great (nice wrap). Plus I'll toss in a star for your outstanding selection of high end cycles. Maybe I would have rated BBB higher if I was in the market for a purchase instead of a simple repair?"
            ],
            "text/plain": [
              "<IPython.core.display.HTML object>"
            ]
          },
          "metadata": {
            "tags": []
          }
        },
        {
          "output_type": "stream",
          "text": [
            "[Succeeded / Failed / Total] 14 / 3 / 17:  68%|██████▊   | 17/25 [01:38<00:46,  5.80s/it]"
          ],
          "name": "stderr"
        },
        {
          "output_type": "display_data",
          "data": {
            "text/html": [
              "<font color = red>1 (100%)</font> --> <font color = green>2 (89%)</font><br>My orders have <font color = red>come</font> out <font color = red>bad</font> pretty much <font color = red>every</font> time I have <font color = red>ordered</font> from here. The chicken <font color = red>nuggets</font> come out under <font color = red>par</font>. I'm <font color = red>lucky</font> if the fries come out <font color = red>right</font>. <font color = red>My</font> last <font color = red>experience</font> is the <font color = red>last</font> <font color = red>straw</font>. <font color = red>I</font> recently posted a photo of my <font color = red>Chicken</font> Ranch <font color = red>Club</font>. That has no chicken. This is <font color = red>ridiculous</font>. I am <font color = red>done</font> <font color = red>going</font> to this Mcd's.<br>My orders have <font color = green>coming</font> out <font color = green>good</font> pretty much <font color = green>each</font> time I have <font color = green>convoked</font> from here. The chicken <font color = green>nugget</font> come out under <font color = green>livres</font>. I'm <font color = green>luck</font> if the fries come out <font color = green>left</font>. <font color = green>Marriage</font> last <font color = green>experiencing</font> is the <font color = green>next</font> <font color = green>strap</font>. <font color = green>ENCHANTER</font> recently posted a photo of my <font color = green>Thickens</font> Ranch <font color = green>Spool</font>. That has no chicken. This is <font color = green>ridicule</font>. I am <font color = green>duplicated</font> <font color = green>getting</font> to this Mcd's."
            ],
            "text/plain": [
              "<IPython.core.display.HTML object>"
            ]
          },
          "metadata": {
            "tags": []
          }
        },
        {
          "output_type": "stream",
          "text": [
            "[Succeeded / Failed / Total] 15 / 3 / 18:  72%|███████▏  | 18/25 [01:41<00:39,  5.65s/it]"
          ],
          "name": "stderr"
        },
        {
          "output_type": "display_data",
          "data": {
            "text/html": [
              "<font color = red>1 (100%)</font> --> <font color = green>2 (63%)</font><br>Wow. <font color = red>What</font> a shame. <font color = red>My</font> family just <font color = red>moved</font> to the <font color = red>area</font> and have been sampling the <font color = red>local</font> cuisine. We are a very <font color = red>large</font> <font color = red>family</font> and love foods of all kind. We've <font color = red>eaten</font> Chinese food from a hundred different places in a dozen different <font color = red>cities</font>. Hands down, this was the <font color = red>worst</font> we've ever had. Cold, tough, <font color = red>congealed</font>, and <font color = red>tasteless</font> - that's the only way to describe it. I'll <font color = red>never</font> order from here again. Quite frankly, the fact that <font color = red>I</font> <font color = red>took</font> <font color = red>time</font> away from my kids to <font color = red>type</font> this out should <font color = red>tell</font> you how awful it was. <font color = red>My</font> complaints <font color = red>fell</font> on <font color = red>deaf</font> ears. I guess they were shocked that someone thought that they were <font color = red>serving</font> low grade dog food. <font color = red>I</font> <font color = red>understand</font> that sometimes restaurants crank out bad food. It happens. But when it does, you bend over <font color = red>backwards</font> to <font color = red>make</font> it right. <font color = red>Not</font> at this place. I was <font color = red>told</font> that he would have to <font color = red>speak</font> with the owner in <font color = red>order</font> to <font color = red>help</font> me. I <font color = red>guess</font> that's how they deflect complaints - blame it on the <font color = red>owners</font> that aren't there and make the customer for away <font color = red>angry</font>.  Too <font color = red>bad</font>. Because we will be <font color = red>visiting</font> a <font color = red>competitor</font> in the future. <font color = red>This</font> family of 7 won't be visiting China Sea ever again. Oh, and by the way, why can't I give this place zero stars?<br>Wow. <font color = green>Hihat</font> a shame. <font color = green>Marriage</font> family just <font color = green>returned</font> to the <font color = green>metropolitan</font> and have been sampling the <font color = green>regional</font> cuisine. We are a very <font color = green>small</font> <font color = green>families</font> and love foods of all kind. We've <font color = green>roasted</font> Chinese food from a hundred different places in a dozen different <font color = green>towns</font>. Hands down, this was the <font color = green>deadliest</font> we've ever had. Cold, tough, <font color = green>pronged</font>, and <font color = green>eyeless</font> - that's the only way to describe it. I'll <font color = green>ever</font> order from here again. Quite frankly, the fact that <font color = green>ENCHANTER</font> <font color = green>gave</font> <font color = green>period</font> away from my kids to <font color = green>kind</font> this out should <font color = green>know</font> you how awful it was. <font color = green>Marriage</font> complaints <font color = green>broke</font> on <font color = green>prostitute</font> ears. I guess they were shocked that someone thought that they were <font color = green>served</font> low grade dog food. <font color = green>ENCHANTER</font> <font color = green>understudy</font> that sometimes restaurants crank out bad food. It happens. But when it does, you bend over <font color = green>backward</font> to <font color = green>give</font> it right. <font color = green>Nnrot</font> at this place. I was <font color = green>replied</font> that he would have to <font color = green>spoke</font> with the owner in <font color = green>addition</font> to <font color = green>assist</font> me. I <font color = green>remember</font> that's how they deflect complaints - blame it on the <font color = green>buyers</font> that aren't there and make the customer for away <font color = green>hungry</font>.  Too <font color = green>good</font>. Because we will be <font color = green>visited</font> a <font color = green>competition</font> in the future. <font color = green>Colchis</font> family of 7 won't be visiting China Sea ever again. Oh, and by the way, why can't I give this place zero stars?"
            ],
            "text/plain": [
              "<IPython.core.display.HTML object>"
            ]
          },
          "metadata": {
            "tags": []
          }
        },
        {
          "output_type": "stream",
          "text": [
            "[Succeeded / Failed / Total] 16 / 3 / 19:  76%|███████▌  | 19/25 [01:52<00:35,  5.93s/it]"
          ],
          "name": "stderr"
        },
        {
          "output_type": "display_data",
          "data": {
            "text/html": [
              "<font color = green>2 (100%)</font> --> <font color = red>[FAILED]</font><br>I fell in love with this place as soon as we pulled up and saw the lights strung up and  oldies coming from the speakers! \\n\\nI tried the banana cream pie hard ice cream, their scoops are very generous!! \\n\\nMy bf got the peach cobbler hard ice cream and that was to die for! We got 4 servings of ice cream for $10, which nowadays is a steal IMO! :) \\n\\nI'll definitely be heading back with my coworkers this week!"
            ],
            "text/plain": [
              "<IPython.core.display.HTML object>"
            ]
          },
          "metadata": {
            "tags": []
          }
        },
        {
          "output_type": "stream",
          "text": [
            "[Succeeded / Failed / Total] 16 / 4 / 20:  80%|████████  | 20/25 [01:56<00:29,  5.85s/it]"
          ],
          "name": "stderr"
        },
        {
          "output_type": "display_data",
          "data": {
            "text/html": [
              "<font color = green>2 (100%)</font> --> <font color = red>1 (76%)</font><br>This is by far, the <font color = green>BEST</font> soft serve ice cream place in southwestern PA. The \\\"\"flavor of the week\\\"\" is always interesting-and tasty! Though, I am somewhat disappointed that <font color = green>they've</font> switched to a lower grade ice milk, for their vanilla and chocolate offerings. I don't know if this is a matter of cutting corners, or if the better stuff simply isn't available any longer. Either way, this place is still leaps and bounds ahead of DQ, Tastee Freeze, etc. It's <font color = green>definitely</font> worth the trip. It's mostly street parking, though they do have about 3-4 parking spaces off to the side. Serving sizes are huge! The small cone here, is the same size as a DQ large. And the large is SO big, they can't fit it through the window-they hand it out the side door.\\n\\nIf you want a real \\\"\"Kodak moment\\\"\"-order a large cone for the kids, and keep the camera, and wet wipes handy!<br>This is by far, the <font color = red>WAS</font> soft serve ice cream place in southwestern PA. The \\\"\"flavor of the week\\\"\" is always interesting-and tasty! Though, I am somewhat disappointed that <font color = red>they</font> switched to a lower grade ice milk, for their vanilla and chocolate offerings. I don't know if this is a matter of cutting corners, or if the better stuff simply isn't available any longer. Either way, this place is still leaps and bounds ahead of DQ, Tastee Freeze, etc. It's <font color = red>finitely</font> worth the trip. It's mostly street parking, though they do have about 3-4 parking spaces off to the side. Serving sizes are huge! The small cone here, is the same size as a DQ large. And the large is SO big, they can't fit it through the window-they hand it out the side door.\\n\\nIf you want a real \\\"\"Kodak moment\\\"\"-order a large cone for the kids, and keep the camera, and wet wipes handy!"
            ],
            "text/plain": [
              "<IPython.core.display.HTML object>"
            ]
          },
          "metadata": {
            "tags": []
          }
        },
        {
          "output_type": "stream",
          "text": [
            "[Succeeded / Failed / Total] 17 / 4 / 21:  84%|████████▍ | 21/25 [02:02<00:23,  5.85s/it]"
          ],
          "name": "stderr"
        },
        {
          "output_type": "display_data",
          "data": {
            "text/html": [
              "<font color = green>2 (100%)</font> --> <font color = red>1 (79%)</font><br>This is my <font color = green>go-to</font> distributer. They have a <font color = green>great</font> selection and lots of hard to <font color = green>find</font> brews. I haven't noticed that it's any more expensive than going elsewhere but honestly if I don't buy here then I'm buying six packs which as we all know are a huuugggge rip off. <font color = green>So</font> any time I have a case of something I love <font color = green>I</font> feel <font color = green>like</font> I'm getting a <font color = green>bargain</font>. <font color = green>The</font> cold selection does suck so I try to plan <font color = green>ahead</font> and have what I <font color = green>need</font> already cold. Staff here are all very helpful- and will have recommendations if you <font color = green>ask</font>.<br>This is my <font color = red>kto</font> distributer. They have a <font color = red>greasy</font> selection and lots of hard to <font color = red>prove</font> brews. I haven't noticed that it's any more expensive than going elsewhere but honestly if I don't buy here then I'm buying six packs which as we all know are a huuugggge rip off. <font color = red>Scheduled</font> any time I have a case of something I love <font color = red>ENCHANTER</font> feel <font color = red>resembling</font> I'm getting a <font color = red>debtor</font>. <font color = red>Gauche</font> cold selection does suck so I try to plan <font color = red>quickest</font> and have what I <font color = red>necessary</font> already cold. Staff here are all very helpful- and will have recommendations if you <font color = red>know</font>."
            ],
            "text/plain": [
              "<IPython.core.display.HTML object>"
            ]
          },
          "metadata": {
            "tags": []
          }
        },
        {
          "output_type": "stream",
          "text": [
            "[Succeeded / Failed / Total] 18 / 4 / 22:  88%|████████▊ | 22/25 [02:06<00:17,  5.75s/it]"
          ],
          "name": "stderr"
        },
        {
          "output_type": "display_data",
          "data": {
            "text/html": [
              "<font color = green>2 (100%)</font> --> <font color = red>1 (80%)</font><br><font color = green>Love</font> this beer <font color = green>distributor</font>.  They always have what I'm <font color = green>looking</font> for. <font color = green>The</font> workers are extremely <font color = green>nice</font> and <font color = green>always</font> willing to help. <font color = green>Best</font> one I've seen by far.<br><font color = red>Wove</font> this beer <font color = red>distributive</font>.  They always have what I'm <font color = red>lookin</font> for. <font color = red>Gauche</font> workers are extremely <font color = red>loin</font> and <font color = red>actually</font> willing to help. <font color = red>Sexiest</font> one I've seen by far."
            ],
            "text/plain": [
              "<IPython.core.display.HTML object>"
            ]
          },
          "metadata": {
            "tags": []
          }
        },
        {
          "output_type": "stream",
          "text": [
            "[Succeeded / Failed / Total] 19 / 4 / 23:  92%|█████████▏| 23/25 [02:07<00:11,  5.56s/it]"
          ],
          "name": "stderr"
        },
        {
          "output_type": "display_data",
          "data": {
            "text/html": [
              "<font color = red>1 (100%)</font> --> <font color = green>2 (64%)</font><br><font color = red>Went</font> here with a <font color = red>gift</font> card from the restaurant week photo competition. \\n\\nWe were one of two tables there and a bunch of staff showing up during the meal. \\n\\nOur waitress was good, but that couldn't save the <font color = red>food</font>.\\n\\nThe meal started out with some what I guess used to be foccacia.  I say used to be because it no longer represented anything other than long pieces of brick or bark very stale and tasteless.\\n\\nWe ordered the vegetable board which was probably the best thing we ordered with light and bright vegetables perfectly cooked and paired with two delicious sauces. \\n\\nThen we ordered the octopus which was fine, but very <font color = red>cold</font> and the octopus had little to no flavor, being overwhelmed by the citrus in the dish. \\n\\nThe tuscan <font color = red>wings</font> were ok, but they were really <font color = red>ordered</font> for my husband who seemed to enjoy them. \\n\\nFinally the diver scallops.  This dish was indeible.  The scallops were very <font color = red>overcooked</font> and the pea puree was so minty I was <font color = red>unable</font> to eat it. We sent it back and they did take off half of the price (weren't expecting anything just didn't want to eat it). \\n\\nAfter that we decided against dessert and left.  I probably will not return.<br><font color = green>Tent</font> here with a <font color = green>solemnity</font> card from the restaurant week photo competition. \\n\\nWe were one of two tables there and a bunch of staff showing up during the meal. \\n\\nOur waitress was good, but that couldn't save the <font color = green>dairy</font>.\\n\\nThe meal started out with some what I guess used to be foccacia.  I say used to be because it no longer represented anything other than long pieces of brick or bark very stale and tasteless.\\n\\nWe ordered the vegetable board which was probably the best thing we ordered with light and bright vegetables perfectly cooked and paired with two delicious sauces. \\n\\nThen we ordered the octopus which was fine, but very <font color = green>cool</font> and the octopus had little to no flavor, being overwhelmed by the citrus in the dish. \\n\\nThe tuscan <font color = green>wingtips</font> were ok, but they were really <font color = green>convoked</font> for my husband who seemed to enjoy them. \\n\\nFinally the diver scallops.  This dish was indeible.  The scallops were very <font color = green>quickened</font> and the pea puree was so minty I was <font color = green>able</font> to eat it. We sent it back and they did take off half of the price (weren't expecting anything just didn't want to eat it). \\n\\nAfter that we decided against dessert and left.  I probably will not return."
            ],
            "text/plain": [
              "<IPython.core.display.HTML object>"
            ]
          },
          "metadata": {
            "tags": []
          }
        },
        {
          "output_type": "stream",
          "text": [
            "[Succeeded / Failed / Total] 20 / 4 / 24:  96%|█████████▌| 24/25 [02:15<00:05,  5.65s/it]"
          ],
          "name": "stderr"
        },
        {
          "output_type": "display_data",
          "data": {
            "text/html": [
              "<font color = red>1 (100%)</font> --> <font color = green>2 (57%)</font><br>I went there <font color = red>today</font>! The <font color = red>cut</font> was terrible! <font color = red>I</font> have an <font color = red>awful</font> experience. They <font color = red>lady</font> that <font color = red>cut</font> my <font color = red>hair</font> was <font color = red>nice</font> but she wanted to leave <font color = red>early</font> so she <font color = red>made</font> a <font color = red>disaster</font> in my head!<br>I went there <font color = green>now</font>! The <font color = green>scrubbed</font> was terrible! <font color = green>ENCHANTER</font> have an <font color = green>sorrowful</font> experience. They <font color = green>mary</font> that <font color = green>scrubbed</font> my <font color = green>skin</font> was <font color = green>loin</font> but she wanted to leave <font color = green>late</font> so she <font color = green>making</font> a <font color = green>disastrous</font> in my head!"
            ],
            "text/plain": [
              "<IPython.core.display.HTML object>"
            ]
          },
          "metadata": {
            "tags": []
          }
        },
        {
          "output_type": "stream",
          "text": [
            "[Succeeded / Failed / Total] 21 / 4 / 25: 100%|██████████| 25/25 [02:17<00:00,  5.49s/it]"
          ],
          "name": "stderr"
        },
        {
          "output_type": "stream",
          "text": [
            "+-------------------------------+--------+\n",
            "| Attack Results                |        |\n",
            "+-------------------------------+--------+\n",
            "| Number of successful attacks: | 21     |\n",
            "| Number of failed attacks:     | 4      |\n",
            "| Number of skipped attacks:    | 0      |\n",
            "| Original accuracy:            | 100.0% |\n",
            "| Accuracy under attack:        | 16.0%  |\n",
            "| Attack success rate:          | 84.0%  |\n",
            "| Average perturbed word %:     | 12.51% |\n",
            "| Average num. words per input: | 133.36 |\n",
            "| Avg num queries:              | 238.84 |\n",
            "+-------------------------------+--------+"
          ],
          "name": "stdout"
        },
        {
          "output_type": "stream",
          "text": [
            "\n",
            "\u001b[34;1mtextattack\u001b[0m: Attack time: 137.2645184993744s\n"
          ],
          "name": "stderr"
        }
      ]
    },
    {
      "cell_type": "markdown",
      "metadata": {
        "id": "JjjKuY91FPqf"
      },
      "source": [
        "## Framing the attack using Textfooler attack recipe"
      ]
    },
    {
      "cell_type": "code",
      "metadata": {
        "colab": {
          "base_uri": "https://localhost:8080/"
        },
        "id": "b8Q7AvhK9Dnw",
        "outputId": "ee1f94c7-74d5-401d-cb33-09b29bd69f41"
      },
      "source": [
        "!pip install torchfile"
      ],
      "execution_count": 9,
      "outputs": [
        {
          "output_type": "stream",
          "text": [
            "Collecting torchfile\n",
            "  Downloading https://files.pythonhosted.org/packages/91/af/5b305f86f2d218091af657ddb53f984ecbd9518ca9fe8ef4103a007252c9/torchfile-0.1.0.tar.gz\n",
            "Building wheels for collected packages: torchfile\n",
            "  Building wheel for torchfile (setup.py) ... \u001b[?25l\u001b[?25hdone\n",
            "  Created wheel for torchfile: filename=torchfile-0.1.0-cp37-none-any.whl size=5713 sha256=f3a5a5a28ad599c3b03862dcd7defb2220f06578196125a1c549d5d3d802cd8c\n",
            "  Stored in directory: /root/.cache/pip/wheels/b1/c3/d6/9a1cc8f3a99a0fc1124cae20153f36af59a6e683daca0a0814\n",
            "Successfully built torchfile\n",
            "Installing collected packages: torchfile\n",
            "Successfully installed torchfile-0.1.0\n"
          ],
          "name": "stdout"
        }
      ]
    },
    {
      "cell_type": "markdown",
      "metadata": {
        "id": "XUyQTytn0SIO"
      },
      "source": [
        "### Declaring Textfoooler's recipe:"
      ]
    },
    {
      "cell_type": "code",
      "metadata": {
        "id": "enY5C3DDBwlo",
        "colab": {
          "base_uri": "https://localhost:8080/"
        },
        "outputId": "94ac2df8-50a6-45b6-ce01-a7712537274c"
      },
      "source": [
        "from textattack.constraints.grammaticality import PartOfSpeech\n",
        "from textattack.constraints.pre_transformation import (\n",
        "    InputColumnModification,\n",
        "    RepeatModification,\n",
        "    StopwordModification,\n",
        ")\n",
        "from textattack.constraints.semantics import WordEmbeddingDistance\n",
        "from textattack.constraints.semantics.sentence_encoders import UniversalSentenceEncoder\n",
        "from textattack.goal_functions import UntargetedClassification\n",
        "from textattack.search_methods import GreedyWordSwapWIR\n",
        "from textattack.shared.attack import Attack\n",
        "from textattack.transformations import WordSwapEmbedding\n",
        "\n",
        "from textattack.shared import Attack\n",
        "from textattack.goal_functions import UntargetedClassification\n",
        "from textattack.datasets import HuggingFaceDataset\n",
        "\n",
        "transformation = WordSwapEmbedding(max_candidates=50)\n",
        "        #\n",
        "        # Don't modify the same word twice or the stopwords defined\n",
        "        # in the TextFooler public implementation.\n",
        "        #\n",
        "        # fmt: off\n",
        "stopwords = set(\n",
        "            [\"a\", \"about\", \"above\", \"across\", \"after\", \"afterwards\", \"again\", \"against\", \"ain\", \"all\", \"almost\", \"alone\", \"along\", \"already\", \"also\", \"although\", \"am\", \"among\", \"amongst\", \"an\", \"and\", \"another\", \"any\", \"anyhow\", \"anyone\", \"anything\", \"anyway\", \"anywhere\", \"are\", \"aren\", \"aren't\", \"around\", \"as\", \"at\", \"back\", \"been\", \"before\", \"beforehand\", \"behind\", \"being\", \"below\", \"beside\", \"besides\", \"between\", \"beyond\", \"both\", \"but\", \"by\", \"can\", \"cannot\", \"could\", \"couldn\", \"couldn't\", \"d\", \"didn\", \"didn't\", \"doesn\", \"doesn't\", \"don\", \"don't\", \"down\", \"due\", \"during\", \"either\", \"else\", \"elsewhere\", \"empty\", \"enough\", \"even\", \"ever\", \"everyone\", \"everything\", \"everywhere\", \"except\", \"first\", \"for\", \"former\", \"formerly\", \"from\", \"hadn\", \"hadn't\", \"hasn\", \"hasn't\", \"haven\", \"haven't\", \"he\", \"hence\", \"her\", \"here\", \"hereafter\", \"hereby\", \"herein\", \"hereupon\", \"hers\", \"herself\", \"him\", \"himself\", \"his\", \"how\", \"however\", \"hundred\", \"i\", \"if\", \"in\", \"indeed\", \"into\", \"is\", \"isn\", \"isn't\", \"it\", \"it's\", \"its\", \"itself\", \"just\", \"latter\", \"latterly\", \"least\", \"ll\", \"may\", \"me\", \"meanwhile\", \"mightn\", \"mightn't\", \"mine\", \"more\", \"moreover\", \"most\", \"mostly\", \"must\", \"mustn\", \"mustn't\", \"my\", \"myself\", \"namely\", \"needn\", \"needn't\", \"neither\", \"never\", \"nevertheless\", \"next\", \"no\", \"nobody\", \"none\", \"noone\", \"nor\", \"not\", \"nothing\", \"now\", \"nowhere\", \"o\", \"of\", \"off\", \"on\", \"once\", \"one\", \"only\", \"onto\", \"or\", \"other\", \"others\", \"otherwise\", \"our\", \"ours\", \"ourselves\", \"out\", \"over\", \"per\", \"please\", \"s\", \"same\", \"shan\", \"shan't\", \"she\", \"she's\", \"should've\", \"shouldn\", \"shouldn't\", \"somehow\", \"something\", \"sometime\", \"somewhere\", \"such\", \"t\", \"than\", \"that\", \"that'll\", \"the\", \"their\", \"theirs\", \"them\", \"themselves\", \"then\", \"thence\", \"there\", \"thereafter\", \"thereby\", \"therefore\", \"therein\", \"thereupon\", \"these\", \"they\", \"this\", \"those\", \"through\", \"throughout\", \"thru\", \"thus\", \"to\", \"too\", \"toward\", \"towards\", \"under\", \"unless\", \"until\", \"up\", \"upon\", \"used\", \"ve\", \"was\", \"wasn\", \"wasn't\", \"we\", \"were\", \"weren\", \"weren't\", \"what\", \"whatever\", \"when\", \"whence\", \"whenever\", \"where\", \"whereafter\", \"whereas\", \"whereby\", \"wherein\", \"whereupon\", \"wherever\", \"whether\", \"which\", \"while\", \"whither\", \"who\", \"whoever\", \"whole\", \"whom\", \"whose\", \"why\", \"with\", \"within\", \"without\", \"won\", \"won't\", \"would\", \"wouldn\", \"wouldn't\", \"y\", \"yet\", \"you\", \"you'd\", \"you'll\", \"you're\", \"you've\", \"your\", \"yours\", \"yourself\", \"yourselves\"]\n",
        "        )\n",
        "        # fmt: on\n",
        "constraints = [RepeatModification(), StopwordModification(stopwords=stopwords)]\n",
        "        #\n",
        "        # During entailment, we should only edit the hypothesis - keep the premise\n",
        "        # the same.\n",
        "        #\n",
        "input_column_modification = InputColumnModification(\n",
        "            [\"premise\", \"hypothesis\"], {\"premise\"}\n",
        "        )\n",
        "constraints.append(input_column_modification)\n",
        "        # Minimum word embedding cosine similarity of 0.5.\n",
        "        # (The paper claims 0.7, but analysis of the released code and some empirical\n",
        "        # results show that it's 0.5.)\n",
        "        #\n",
        "constraints.append(WordEmbeddingDistance(min_cos_sim=0.5))\n",
        "        #\n",
        "        # Only replace words with the same part of speech (or nouns with verbs)\n",
        "        #\n",
        "constraints.append(PartOfSpeech(allow_verb_noun_swap=True))\n",
        "        #\n",
        "        # Universal Sentence Encoder with a minimum angular similarity of ε = 0.5.\n",
        "        #\n",
        "        # In the TextFooler code, they forget to divide the angle between the two\n",
        "        # embeddings by pi. So if the original threshold was that 1 - sim >= 0.5, the\n",
        "        # new threshold is 1 - (0.5) / pi = 0.840845057\n",
        "        #\n",
        "use_constraint = UniversalSentenceEncoder(\n",
        "            threshold=0.840845057,\n",
        "            metric=\"angular\",\n",
        "            compare_against_original=False,\n",
        "            window_size=15,\n",
        "            skip_text_shorter_than_window=True,\n",
        "        )\n",
        "constraints.append(use_constraint)\n",
        "        #\n",
        "        # Goal is untargeted classification\n",
        "        #\n",
        "goal_function = UntargetedClassification(model_wrapper)\n",
        "        #\n",
        "        # Greedily swap words with \"Word Importance Ranking\".\n",
        "        #\n",
        "search_method = GreedyWordSwapWIR(wir_method=\"delete\")\n",
        "\n",
        "# Now, let's make the attack from the 4 components:\n",
        "attack1 = Attack(goal_function, constraints, transformation, search_method)\n",
        "\n",
        "dataset = HuggingFaceDataset(\"yelp_polarity\", None, \"test\") # Change the dataset"
      ],
      "execution_count": null,
      "outputs": [
        {
          "output_type": "stream",
          "text": [
            "\u001b[34;1mtextattack\u001b[0m: Unknown if model of class <class 'transformers.models.bert.modeling_bert.BertForSequenceClassification'> compatible with goal function <class 'textattack.goal_functions.classification.untargeted_classification.UntargetedClassification'>.\n",
            "Reusing dataset yelp_polarity (/root/.cache/huggingface/datasets/yelp_polarity/plain_text/1.0.0/591dc79cb354c6f051b5bf61c77a446205c98156e01669c6218c9bd6aa15f581)\n",
            "\u001b[34;1mtextattack\u001b[0m: Loading \u001b[94mdatasets\u001b[0m dataset \u001b[94myelp_polarity\u001b[0m, split \u001b[94mtest\u001b[0m.\n"
          ],
          "name": "stderr"
        }
      ]
    },
    {
      "cell_type": "markdown",
      "metadata": {
        "id": "N_B3nxA6yLbw"
      },
      "source": [
        "### Attacking and printing results"
      ]
    },
    {
      "cell_type": "code",
      "metadata": {
        "id": "FhK7my9wFTcj",
        "colab": {
          "base_uri": "https://localhost:8080/",
          "height": 1000
        },
        "outputId": "f38d7b25-8df0-42f3-acbb-0fdeee06f469"
      },
      "source": [
        "from collections import deque\n",
        "\n",
        "import textattack\n",
        "import tqdm\n",
        "import time\n",
        "from IPython.display import display, HTML\n",
        "num_examples = 25\n",
        "num_remaining_attacks = num_examples\n",
        "pbar = tqdm.tqdm(total=num_remaining_attacks, smoothing=0)\n",
        "\n",
        "worklist = deque(range(0, num_examples))\n",
        "worklist_tail = worklist[-1]\n",
        "\n",
        "attack_log_manager = textattack.loggers.AttackLogManager()\n",
        "\n",
        "load_time = time.time()\n",
        "        \n",
        "num_results = 0\n",
        "num_failures = 0\n",
        "num_successes = 0\n",
        "for result in attack1.attack_dataset(dataset, indices=worklist):\n",
        "    result_html_str = result.__str__(color_method=\"html\").replace(\"\\n\\n\", \"<br>\")\n",
        "    display(HTML(result_html_str))\n",
        "    attack_log_manager.log_result(result)\n",
        "            \n",
        "    if not isinstance(result, textattack.attack_results.SkippedAttackResult):\n",
        "        pbar.update(1)\n",
        "    else:\n",
        "        worklist_tail += 1\n",
        "        pbar.update(1)\n",
        "        worklist.append(worklist_tail)\n",
        "\n",
        "    num_results += 1\n",
        "\n",
        "    if (\n",
        "        type(result) == textattack.attack_results.SuccessfulAttackResult\n",
        "        or type(result) == textattack.attack_results.MaximizedAttackResult\n",
        "    ):\n",
        "        num_successes += 1\n",
        "                \n",
        "    if type(result) == textattack.attack_results.FailedAttackResult:\n",
        "        num_failures += 1\n",
        "    pbar.set_description(\n",
        "        \"[Succeeded / Failed / Total] {} / {} / {}\".format(\n",
        "            num_successes, num_failures, num_results\n",
        "        )\n",
        "    )\n",
        "\n",
        "pbar.close()\n",
        "\n",
        "attack_log_manager.enable_stdout()\n",
        "attack_log_manager.log_summary()\n",
        "attack_log_manager.flush()\n",
        "        \n",
        "textattack.shared.logger.info(f\"Attack time: {time.time() - load_time}s\")"
      ],
      "execution_count": null,
      "outputs": [
        {
          "output_type": "stream",
          "text": [
            "\r  0%|          | 0/25 [00:00<?, ?it/s]5 out of the last 5 calls to <function recreate_function.<locals>.restored_function_body at 0x7fe9d9ab3710> triggered tf.function retracing. Tracing is expensive and the excessive number of tracings could be due to (1) creating @tf.function repeatedly in a loop, (2) passing tensors with different shapes, (3) passing Python objects instead of tensors. For (1), please define your @tf.function outside of the loop. For (2), @tf.function has experimental_relax_shapes=True option that relaxes argument shapes that can avoid unnecessary retracing. For (3), please refer to https://www.tensorflow.org/guide/function#controlling_retracing and https://www.tensorflow.org/api_docs/python/tf/function for  more details.\n"
          ],
          "name": "stderr"
        },
        {
          "output_type": "display_data",
          "data": {
            "text/html": [
              "<font color = green>2 (100%)</font> --> <font color = red>1 (58%)</font><br>Contrary to other reviews, I have <font color = green>zero</font> <font color = green>complaints</font> about the service or the prices. I have been getting tire service here for the past 5 years now, and compared to my experience with places like Pep Boys, these guys are experienced and know what they're doing. \\nAlso, this is one place that I do not feel like I am being taken advantage of, just because of my gender. Other auto mechanics have been notorious for capitalizing on my ignorance of cars, and have sucked my bank account dry. But here, my service and road coverage has all been <font color = green>well</font> explained - and let up to me to decide. \\nAnd they just <font color = green>renovated</font> the waiting room. It looks a lot better than it <font color = green>did</font> in previous years.<br>Contrary to other reviews, I have <font color = red>zilch</font> <font color = red>plaintiffs</font> about the service or the prices. I have been getting tire service here for the past 5 years now, and compared to my experience with places like Pep Boys, these guys are experienced and know what they're doing. \\nAlso, this is one place that I do not feel like I am being taken advantage of, just because of my gender. Other auto mechanics have been notorious for capitalizing on my ignorance of cars, and have sucked my bank account dry. But here, my service and road coverage has all been <font color = red>too</font> explained - and let up to me to decide. \\nAnd they just <font color = red>reconstituted</font> the waiting room. It looks a lot better than it <font color = red>became</font> in previous years."
            ],
            "text/plain": [
              "<IPython.core.display.HTML object>"
            ]
          },
          "metadata": {
            "tags": []
          }
        },
        {
          "output_type": "stream",
          "text": [
            "[Succeeded / Failed / Total] 1 / 0 / 1:   4%|▍         | 1/25 [00:07<03:11,  7.97s/it]"
          ],
          "name": "stderr"
        },
        {
          "output_type": "display_data",
          "data": {
            "text/html": [
              "<font color = red>1 (100%)</font> --> <font color = green>2 (92%)</font><br>Last summer I had an appointment to get new tires and had to wait a super long time. I also went in this week for them to fix a minor problem with a tire they put on. They \\\"\"fixed\\\"\" it for free, and the very next morning I had the same issue. I <font color = red>called</font> to complain, and the \\\"\"manager\\\"\" didn't even <font color = red>apologize</font>!!! So <font color = red>frustrated</font>. <font color = red>Never</font> going back.  They seem overpriced, too.<br>Last summer I had an appointment to get new tires and had to wait a super long time. I also went in this week for them to fix a minor problem with a tire they put on. They \\\"\"fixed\\\"\" it for free, and the very next morning I had the same issue. I <font color = green>drew</font> to complain, and the \\\"\"manager\\\"\" didn't even <font color = green>sorry</font>!!! So <font color = green>bemused</font>. <font color = green>Cuando</font> going back.  They seem overpriced, too."
            ],
            "text/plain": [
              "<IPython.core.display.HTML object>"
            ]
          },
          "metadata": {
            "tags": []
          }
        },
        {
          "output_type": "stream",
          "text": [
            "[Succeeded / Failed / Total] 2 / 0 / 2:   8%|▊         | 2/25 [00:11<02:10,  5.67s/it]"
          ],
          "name": "stderr"
        },
        {
          "output_type": "display_data",
          "data": {
            "text/html": [
              "<font color = green>2 (100%)</font> --> <font color = red>1 (87%)</font><br><font color = green>Friendly</font> staff, same starbucks fair you get anywhere else.  Sometimes the lines can get long.<br><font color = red>Empathetic</font> staff, same starbucks fair you get anywhere else.  Sometimes the lines can get long."
            ],
            "text/plain": [
              "<IPython.core.display.HTML object>"
            ]
          },
          "metadata": {
            "tags": []
          }
        },
        {
          "output_type": "stream",
          "text": [
            "[Succeeded / Failed / Total] 3 / 0 / 3:  12%|█▏        | 3/25 [00:12<01:28,  4.03s/it]"
          ],
          "name": "stderr"
        },
        {
          "output_type": "display_data",
          "data": {
            "text/html": [
              "<font color = red>1 (99%)</font> --> <font color = green>2 (65%)</font><br>The food is good. <font color = red>Unfortunately</font> the service is very hit or miss. The main <font color = red>issue</font> seems to be with the kitchen, the <font color = red>waiters</font> and waitresses are often very apologetic for the long waits and it's pretty obvious that some of them avoid the tables after taking the initial order to avoid hearing complaints.<br>The food is good. <font color = green>Sadly</font> the service is very hit or miss. The main <font color = green>edition</font> seems to be with the kitchen, the <font color = green>waiter</font> and waitresses are often very apologetic for the long waits and it's pretty obvious that some of them avoid the tables after taking the initial order to avoid hearing complaints."
            ],
            "text/plain": [
              "<IPython.core.display.HTML object>"
            ]
          },
          "metadata": {
            "tags": []
          }
        },
        {
          "output_type": "stream",
          "text": [
            "[Succeeded / Failed / Total] 4 / 0 / 4:  16%|█▌        | 4/25 [00:14<01:14,  3.53s/it]"
          ],
          "name": "stderr"
        },
        {
          "output_type": "display_data",
          "data": {
            "text/html": [
              "<font color = green>2 (100%)</font> --> <font color = red>1 (56%)</font><br><font color = green>Even</font> when we didn't have a car Filene's Basement was worth the bus trip to the Waterfront. I always find something (usually I find 3-4 things and spend about $60) and better still, I am always still wearing the clothes and shoes 3 months later. \\n\\nI kind of suspect this is the <font color = green>best</font> shopping in Pittsburgh; it's <font color = green>much</font> <font color = green>better</font> than the <font color = green>usual</font> <font color = green>department</font> <font color = green>stores</font>, <font color = green>better</font> than Marshall's and <font color = green>TJ</font> Maxx and <font color = green>better</font> than the <font color = green>Saks</font> <font color = green>downtown</font>, even when it has a sale. <font color = green>Selection</font>, <font color = green>bargains</font> AND <font color = green>quality</font>.\\n\\nI like this Filene's <font color = green>better</font> than Gabriel <font color = green>Brothers</font>, which are harder to <font color = green>get</font> to. <font color = green>Gabriel</font> <font color = green>Brothers</font> are a real discount shopper's <font color = green>challenge</font> and I'm afraid I didn't <font color = green>live</font> in Pittsburgh long enough to develop the necessary skills . . . Filene's was still up and running in June 2007 when I left town.<br><font color = red>Incidentally</font> when we didn't have a car Filene's Basement was worth the bus trip to the Waterfront. I always find something (usually I find 3-4 things and spend about $60) and better still, I am always still wearing the clothes and shoes 3 months later. \\n\\nI kind of suspect this is the <font color = red>alright</font> shopping in Pittsburgh; it's <font color = red>largely</font> <font color = red>higher</font> than the <font color = red>normally</font> <font color = red>management</font> <font color = red>malls</font>, <font color = red>decent</font> than Marshall's and <font color = red>TW</font> Maxx and <font color = red>lighter</font> than the <font color = red>Barneys</font> <font color = red>towns</font>, even when it has a sale. <font color = red>Decide</font>, <font color = red>negotiates</font> AND <font color = red>calibre</font>.\\n\\nI like this Filene's <font color = red>higher</font> than Gabriel <font color = red>Mates</font>, which are harder to <font color = red>receives</font> to. <font color = red>Gabrielle</font> <font color = red>Sisters</font> are a real discount shopper's <font color = red>disputed</font> and I'm afraid I didn't <font color = red>survive</font> in Pittsburgh long enough to develop the necessary skills . . . Filene's was still up and running in June 2007 when I left town."
            ],
            "text/plain": [
              "<IPython.core.display.HTML object>"
            ]
          },
          "metadata": {
            "tags": []
          }
        },
        {
          "output_type": "stream",
          "text": [
            "[Succeeded / Failed / Total] 5 / 0 / 5:  20%|██        | 5/25 [00:27<01:50,  5.54s/it]"
          ],
          "name": "stderr"
        },
        {
          "output_type": "display_data",
          "data": {
            "text/html": [
              "<font color = green>2 (100%)</font> --> <font color = red>1 (63%)</font><br>Picture Billy Joel's \\\"\"Piano Man\\\"\" DOUBLED mixed with beer, a rowdy crowd, and comedy - Welcome to Sing Sing!  A unique musical experience found in Homestead.\\n\\nIf you're looking to grab a bite to eat or a beer, come on in!  Serving food and brews from Rock Bottom Brewery, Sing Sing keeps your tummy full while you listen to two (or more) amazingly talented pianists take your musical requests.  They'll play anything you'd like, for tips of course.  Wanting to hear Britney Spears?  Toto?  Duran Duran?  Yep, they play that... new or old.\\n\\nThe crowd makes the show, so make sure you come ready for a good time.  <font color = green>If</font> the crowd is dead, it's harder for the Guys to get a reaction.  <font color = green>If</font> you're wanting to have some fun, it can be a GREAT time!  It's the perfect place for Birthday parties - especially if you want to embarrass a friend.  The guys will bring them up to the pianos and perform a little ditty.  For being a good sport, you get the <font color = green>coveted</font> <font color = green>Sing</font> <font color = green>Sing</font> bumper sticker.  Now who wouldn't want that?\\n\\nDueling Pianos and brews... time to Shut Up & Sing Sing!<br>Picture Billy Joel's \\\"\"Piano Man\\\"\" DOUBLED mixed with beer, a rowdy crowd, and comedy - Welcome to Sing Sing!  A unique musical experience found in Homestead.\\n\\nIf you're looking to grab a bite to eat or a beer, come on in!  Serving food and brews from Rock Bottom Brewery, Sing Sing keeps your tummy full while you listen to two (or more) amazingly talented pianists take your musical requests.  They'll play anything you'd like, for tips of course.  Wanting to hear Britney Spears?  Toto?  Duran Duran?  Yep, they play that... new or old.\\n\\nThe crowd makes the show, so make sure you come ready for a good time.  <font color = red>Except</font> the crowd is dead, it's harder for the Guys to get a reaction.  <font color = red>Until</font> you're wanting to have some fun, it can be a GREAT time!  It's the perfect place for Birthday parties - especially if you want to embarrass a friend.  The guys will bring them up to the pianos and perform a little ditty.  For being a good sport, you get the <font color = red>proverbial</font> <font color = red>Singh</font> <font color = red>Seng</font> bumper sticker.  Now who wouldn't want that?\\n\\nDueling Pianos and brews... time to Shut Up & Sing Sing!"
            ],
            "text/plain": [
              "<IPython.core.display.HTML object>"
            ]
          },
          "metadata": {
            "tags": []
          }
        },
        {
          "output_type": "stream",
          "text": [
            "[Succeeded / Failed / Total] 6 / 0 / 6:  24%|██▍       | 6/25 [00:33<01:46,  5.60s/it]"
          ],
          "name": "stderr"
        },
        {
          "output_type": "display_data",
          "data": {
            "text/html": [
              "<font color = red>1 (100%)</font> --> <font color = green>2 (75%)</font><br><font color = red>Mediocre</font> <font color = red>service</font>. <font color = red>COLD</font> <font color = red>food</font>! <font color = red>Our</font> <font color = red>food</font> waited <font color = red>so</font> long the <font color = red>lettuce</font> & <font color = red>pickles</font> wilted. Bland <font color = red>food</font>. Crazy <font color = red>overpriced</font>. <font color = red>Long</font> <font color = red>waits</font> in the arcade. 1 <font color = red>beer</font> per <font color = red>hour</font> <font color = red>maximum</font>.  Avoid at all costs. <font color = red>Fair</font> manager.<br><font color = green>Lethargic</font> <font color = green>serves</font>. <font color = green>COOL</font> <font color = green>meal</font>! <font color = green>Ourselves</font> <font color = green>nourishment</font> waited <font color = green>tad</font> long the <font color = green>cauliflower</font> & <font color = green>kimchee</font> wilted. Bland <font color = green>foods</font>. Crazy <font color = green>inaccessible</font>. <font color = green>Longer</font> <font color = green>impatience</font> in the arcade. 1 <font color = green>keg</font> per <font color = green>temps</font> <font color = green>uppermost</font>.  Avoid at all costs. <font color = green>Just</font> manager."
            ],
            "text/plain": [
              "<IPython.core.display.HTML object>"
            ]
          },
          "metadata": {
            "tags": []
          }
        },
        {
          "output_type": "stream",
          "text": [
            "[Succeeded / Failed / Total] 7 / 0 / 7:  28%|██▊       | 7/25 [00:42<01:50,  6.14s/it]"
          ],
          "name": "stderr"
        },
        {
          "output_type": "display_data",
          "data": {
            "text/html": [
              "<font color = red>1 (100%)</font> --> <font color = green>2 (77%)</font><br>Ok! <font color = red>Let</font> me <font color = red>tell</font> you about my bad <font color = red>experience</font> first. I went to D&B last night for a post wedding party - which, side note, is a <font color = red>great</font> <font color = red>idea</font>!\\n\\nIt was around midnight and the bar wasn't really populated. There were three bartenders and only one was actually making rounds to see if anyone needed anything. The two other bartenders were chatting on the far side of the bar that no one was sitting at. Kind of counter productive if you ask me. \\n\\nI stood there for about 5 minutes, which for a busy bar is fine but when I am the only one with my card out then, it just seems a little ridiculous. I made eye contact with the one girl twice and gave her a smile and she literally turned away. I finally had to walk to them to get their attention.  I was standing right in front of them smiling and they didn't ask if i need anything. I finally said, \\\"\"Are you working?\\\"\" and they gave each other a weird look. I felt like i was the crazy one. I asked for a beer/got the beer.\\n\\nIn between that time, the other bartender brought food over and set it down. She took a fry from the plate (right in front of me) and then served it to someone on the other side of the bar. What the hell! I felt like i was in some grimy bar in out in the sticks - not an established D&B. \\n\\nI was just really turned off from that experience. \\n\\nThe good is that D&B provides a different type of entertainment when you want to mix things up. I remember going here with my grandparents when I was a kid and it was the best treat ever! We would eat at the restaurant and then spend hours playing games. This place holds some really good memories for me. \\n\\nIt's a shame that my experience last night has spoiled the high standards I held for it.<br>Ok! <font color = green>Allows</font> me <font color = green>talking</font> you about my bad <font color = green>savoring</font> first. I went to D&B last night for a post wedding party - which, side note, is a <font color = green>fantastic</font> <font color = green>insights</font>!\\n\\nIt was around midnight and the bar wasn't really populated. There were three bartenders and only one was actually making rounds to see if anyone needed anything. The two other bartenders were chatting on the far side of the bar that no one was sitting at. Kind of counter productive if you ask me. \\n\\nI stood there for about 5 minutes, which for a busy bar is fine but when I am the only one with my card out then, it just seems a little ridiculous. I made eye contact with the one girl twice and gave her a smile and she literally turned away. I finally had to walk to them to get their attention.  I was standing right in front of them smiling and they didn't ask if i need anything. I finally said, \\\"\"Are you working?\\\"\" and they gave each other a weird look. I felt like i was the crazy one. I asked for a beer/got the beer.\\n\\nIn between that time, the other bartender brought food over and set it down. She took a fry from the plate (right in front of me) and then served it to someone on the other side of the bar. What the hell! I felt like i was in some grimy bar in out in the sticks - not an established D&B. \\n\\nI was just really turned off from that experience. \\n\\nThe good is that D&B provides a different type of entertainment when you want to mix things up. I remember going here with my grandparents when I was a kid and it was the best treat ever! We would eat at the restaurant and then spend hours playing games. This place holds some really good memories for me. \\n\\nIt's a shame that my experience last night has spoiled the high standards I held for it."
            ],
            "text/plain": [
              "<IPython.core.display.HTML object>"
            ]
          },
          "metadata": {
            "tags": []
          }
        },
        {
          "output_type": "stream",
          "text": [
            "[Succeeded / Failed / Total] 8 / 0 / 8:  32%|███▏      | 8/25 [00:53<01:54,  6.74s/it]"
          ],
          "name": "stderr"
        },
        {
          "output_type": "display_data",
          "data": {
            "text/html": [
              "<font color = red>1 (100%)</font> --> <font color = green>2 (65%)</font><br>I used to <font color = red>love</font> D&B when it first opened in the <font color = red>Waterfront</font>, but it <font color = red>has</font> <font color = red>gone</font> down <font color = red>hill</font> over the years. The <font color = red>games</font> are not as <font color = red>fun</font> and <font color = red>do</font> not <font color = red>give</font> you as many tickets and the prizes have gotten cheaper in quality. It <font color = red>takes</font> a whole heck of a lot of tickets for you to even get a pencil! The atmosphere is okay but it used to be so much better with the funnest games and diverse groups of people! Now, it is <font color = red>run</font> down and many of the games are app related games (Fruit Ninja) and 3D Experience rides. With such \\\"\"games\\\"\", you can't even <font color = red>earn</font> tickets and they take a lot of tokens! Last time I went, back in the winter, many of the games were <font color = red>broken</font>, which <font color = red>made</font> for a <font color = red>negative</font> player <font color = red>experience</font>. I would <font color = red>go</font> to D&<font color = red>B</font> to play some <font color = red>games</font> again in the future, but it is no longer one of my favorite places to go due to the decline of fun games where you can earn tickets.<br>I used to <font color = green>amar</font> D&B when it first opened in the <font color = green>Shores</font>, but it <font color = green>did</font> <font color = green>fade</font> down <font color = green>hilltop</font> over the years. The <font color = green>plays</font> are not as <font color = green>goofy</font> and <font color = green>wo</font> not <font color = green>rendering</font> you as many tickets and the prizes have gotten cheaper in quality. It <font color = green>selects</font> a whole heck of a lot of tickets for you to even get a pencil! The atmosphere is okay but it used to be so much better with the funnest games and diverse groups of people! Now, it is <font color = green>manages</font> down and many of the games are app related games (Fruit Ninja) and 3D Experience rides. With such \\\"\"games\\\"\", you can't even <font color = green>profit</font> tickets and they take a lot of tokens! Last time I went, back in the winter, many of the games were <font color = green>breached</font>, which <font color = green>yielded</font> for a <font color = green>wicked</font> player <font color = green>enjoyed</font>. I would <font color = green>budge</font> to D&<font color = green>ii</font> to play some <font color = green>plays</font> again in the future, but it is no longer one of my favorite places to go due to the decline of fun games where you can earn tickets."
            ],
            "text/plain": [
              "<IPython.core.display.HTML object>"
            ]
          },
          "metadata": {
            "tags": []
          }
        },
        {
          "output_type": "stream",
          "text": [
            "[Succeeded / Failed / Total] 9 / 0 / 9:  36%|███▌      | 9/25 [01:06<01:58,  7.43s/it]"
          ],
          "name": "stderr"
        },
        {
          "output_type": "display_data",
          "data": {
            "text/html": [
              "<font color = green>2 (100%)</font> --> <font color = red>1 (90%)</font><br><font color = green>Like</font> any Barnes & Noble, it has a nice comfy cafe, and a large selection of <font color = green>books</font>.  The staff is very friendly and helpful.  They stock a decent selection, and the prices are pretty reasonable.  Obviously it's <font color = green>hard</font> for them to compete with Amazon.  However since all the small shop bookstores are gone, it's <font color = green>nice</font> to walk into one <font color = green>every</font> once in a while.<br><font color = red>Iike</font> any Barnes & Noble, it has a nice comfy cafe, and a large selection of <font color = red>ledgers</font>.  The staff is very friendly and helpful.  They stock a decent selection, and the prices are pretty reasonable.  Obviously it's <font color = red>harshly</font> for them to compete with Amazon.  However since all the small shop bookstores are gone, it's <font color = red>pretty</font> to walk into one <font color = red>whatsoever</font> once in a while."
            ],
            "text/plain": [
              "<IPython.core.display.HTML object>"
            ]
          },
          "metadata": {
            "tags": []
          }
        },
        {
          "output_type": "stream",
          "text": [
            "[Succeeded / Failed / Total] 10 / 0 / 10:  40%|████      | 10/25 [01:09<01:44,  6.94s/it]"
          ],
          "name": "stderr"
        },
        {
          "output_type": "display_data",
          "data": {
            "text/html": [
              "<font color = red>1 (100%)</font> --> <font color = green>2 (55%)</font><br><font color = red>Meh</font>, I've <font color = red>experienced</font> better is an understatement.\\n\\nFriday's is like the \\\"\"fine dining chain\\\"\" for every yinzer in Pittsburgh...\\n\\n1.  When we were seated, it was quick which was a surprise.  Somehow this restaurant gets packed and I never understand why.  I was happy about that.\\n2.  I ordered one of their \\\"\"skinny margaritas\\\"\", blackberry to be exact.  It was a nice size, however, at $6.00/pop, that was half of my food bill.\\n3.  The waitress started off attentive, but after our food came out she was gone.  I ordered a turkey burger with pickle and mustard.  Loaded mashed potato on the side because I <font color = red>wanted</font> heartburn ha!\\n4.  Food came.  <font color = red>My</font> burger <font color = red>had</font> <font color = red>lettuce</font> on it only.  Waitress was <font color = red>supposed</font> to go and get our next <font color = red>round</font> of <font color = red>drinks</font>.  I <font color = red>had</font> to wait to <font color = red>ask</font> for my pickle.\\n5.  The loaded potatoes were more like <font color = red>rubber</font> than potatoes and not what I was expecting.  Disappointment.\\n6.  The waitress then went into oblivion and only returned with our check.  \\n\\nNever again will I eat at Friday's.  I will, however, go should a happy hour arise...<br><font color = green>Alittle</font>, I've <font color = green>realised</font> better is an understatement.\\n\\nFriday's is like the \\\"\"fine dining chain\\\"\" for every yinzer in Pittsburgh...\\n\\n1.  When we were seated, it was quick which was a surprise.  Somehow this restaurant gets packed and I never understand why.  I was happy about that.\\n2.  I ordered one of their \\\"\"skinny margaritas\\\"\", blackberry to be exact.  It was a nice size, however, at $6.00/pop, that was half of my food bill.\\n3.  The waitress started off attentive, but after our food came out she was gone.  I ordered a turkey burger with pickle and mustard.  Loaded mashed potato on the side because I <font color = green>wished</font> heartburn ha!\\n4.  Food came.  <font color = green>Mana</font> burger <font color = green>made</font> <font color = green>sauteed</font> on it only.  Waitress was <font color = green>asserted</font> to go and get our next <font color = green>tower</font> of <font color = green>drunken</font>.  I <font color = green>lasted</font> to wait to <font color = green>sought</font> for my pickle.\\n5.  The loaded potatoes were more like <font color = green>booby</font> than potatoes and not what I was expecting.  Disappointment.\\n6.  The waitress then went into oblivion and only returned with our check.  \\n\\nNever again will I eat at Friday's.  I will, however, go should a happy hour arise..."
            ],
            "text/plain": [
              "<IPython.core.display.HTML object>"
            ]
          },
          "metadata": {
            "tags": []
          }
        },
        {
          "output_type": "stream",
          "text": [
            "[Succeeded / Failed / Total] 11 / 0 / 11:  44%|████▍     | 11/25 [01:20<01:42,  7.29s/it]"
          ],
          "name": "stderr"
        },
        {
          "output_type": "display_data",
          "data": {
            "text/html": [
              "<font color = green>2 (100%)</font> --> <font color = red>1 (55%)</font><br><font color = green>Unos</font> has been around for ever, & I feel like this restaurant chain peak in popularity in the 80's. Honestly the decor inside still kind of looks 80s to me even though its nice with sleek booth and exposed brick.\\n\\nIf you haven't died and he recently I ordered you to come back and have a meal here again because honestly the food is really quite good!\\n\\nThey have the best chicken salad wrap ever! I love that rap so much I want agreed to walk the south side River Trail from where the Steelers practice all the way to the damn waterfront just because I knew that I could convince my boyfriend to go to <font color = green>Unos</font> with me for lunch.  Full disclosure:  I made him call is a cab and we took a taxi back to the parking lot after lunch.\\n\\nListen... The food and pizza and <font color = green>service</font> are <font color = green>very</font> <font color = green>good</font>, <font color = green>surprisingly</font> so! I don't know why this place is not <font color = green>busier</font> but next time you're down at the Waterfront please do consider dining here!<br><font color = red>Ustedes</font> has been around for ever, & I feel like this restaurant chain peak in popularity in the 80's. Honestly the decor inside still kind of looks 80s to me even though its nice with sleek booth and exposed brick.\\n\\nIf you haven't died and he recently I ordered you to come back and have a meal here again because honestly the food is really quite good!\\n\\nThey have the best chicken salad wrap ever! I love that rap so much I want agreed to walk the south side River Trail from where the Steelers practice all the way to the damn waterfront just because I knew that I could convince my boyfriend to go to <font color = red>Cabrones</font> with me for lunch.  Full disclosure:  I made him call is a cab and we took a taxi back to the parking lot after lunch.\\n\\nListen... The food and pizza and <font color = red>serves</font> are <font color = red>terribly</font> <font color = red>ok</font>, <font color = red>ironically</font> so! I don't know why this place is not <font color = red>duller</font> but next time you're down at the Waterfront please do consider dining here!"
            ],
            "text/plain": [
              "<IPython.core.display.HTML object>"
            ]
          },
          "metadata": {
            "tags": []
          }
        },
        {
          "output_type": "stream",
          "text": [
            "[Succeeded / Failed / Total] 12 / 0 / 12:  48%|████▊     | 12/25 [01:28<01:35,  7.34s/it]"
          ],
          "name": "stderr"
        },
        {
          "output_type": "display_data",
          "data": {
            "text/html": [
              "<font color = red>1 (100%)</font> --> <font color = green>2 (61%)</font><br><font color = red>Stars</font> are for the food only.    2.5 <font color = red>rating</font>\\<font color = red>n</font>\\nGot there at 8pm on <font color = red>Saturday</font> <font color = red>night</font>, they <font color = red>told</font> us it was an <font color = red>hour</font> <font color = red>wait</font> which was <font color = red>expected</font>, but it only took 30minutes to be seated so that was a bonus.  Started off with the lettuce wraps and i used to be a fan of these but they just seem to bore me now(FYI-love the lettuce wraps at the cheesecake factory).  I had the Singapore rice noodles.  This was so so as i <font color = red>thought</font> immediately that <font color = red>lu</font> lu noodles and asian cafe are <font color = red>better</font>.  The fried rice was disappointing and the <font color = red>vegetables</font> <font color = red>tasted</font> <font color = red>raw</font>.   Some good <font color = red>notes</font> were the Dynamite shrimp, <font color = red>plump</font>, juicy, tangy with a <font color = red>small</font> <font color = red>kick</font>.    <font color = red>Sweet</font> and sour chicken was just the same minus the kick. \\<font color = red>n</font>\\nThe <font color = red>service</font> was <font color = red>annoying</font>.   We were there less than 45 minutes and it seemed like our waiter was in a rush to get us out of there.   Constantly asking if he could remove my plate.  I had to sternly say at one point that I will let you know when i am finished.  I found it rude especially since  there wasn't even a line at this point.  \\n\\nI think we will travel elsewhere following a movie.  The result never quite met the anticipation.<br><font color = green>Star</font> are for the food only.    2.5 <font color = green>ratings</font>\\<font color = green>nth</font>\\nGot there at 8pm on <font color = green>Sonntag</font> <font color = green>dusk</font>, they <font color = green>cautioned</font> us it was an <font color = green>moments</font> <font color = green>anticipated</font> which was <font color = green>expectations</font>, but it only took 30minutes to be seated so that was a bonus.  Started off with the lettuce wraps and i used to be a fan of these but they just seem to bore me now(FYI-love the lettuce wraps at the cheesecake factory).  I had the Singapore rice noodles.  This was so so as i <font color = green>insights</font> immediately that <font color = green>lo</font> lu noodles and asian cafe are <font color = green>more</font>.  The fried rice was disappointing and the <font color = green>vegetation</font> <font color = green>coma</font> <font color = green>unrefined</font>.   Some good <font color = green>finds</font> were the Dynamite shrimp, <font color = green>breasts</font>, juicy, tangy with a <font color = green>restrained</font> <font color = green>downstairs</font>.    <font color = green>Jolie</font> and sour chicken was just the same minus the kick. \\<font color = green>pp</font>\\nThe <font color = green>department</font> was <font color = green>exasperating</font>.   We were there less than 45 minutes and it seemed like our waiter was in a rush to get us out of there.   Constantly asking if he could remove my plate.  I had to sternly say at one point that I will let you know when i am finished.  I found it rude especially since  there wasn't even a line at this point.  \\n\\nI think we will travel elsewhere following a movie.  The result never quite met the anticipation."
            ],
            "text/plain": [
              "<IPython.core.display.HTML object>"
            ]
          },
          "metadata": {
            "tags": []
          }
        },
        {
          "output_type": "stream",
          "text": [
            "[Succeeded / Failed / Total] 13 / 0 / 13:  52%|█████▏    | 13/25 [01:45<01:37,  8.10s/it]"
          ],
          "name": "stderr"
        },
        {
          "output_type": "display_data",
          "data": {
            "text/html": [
              "<font color = red>1 (100%)</font> --> <font color = green>2 (51%)</font><br>Our <font color = red>last</font> few <font color = red>visits</font> <font color = red>have</font> <font color = red>left</font> something to <font color = red>desire</font>, One of the <font color = red>things</font> I <font color = red>always</font> notice is the demeanor of an <font color = red>establishments</font> <font color = red>employees</font>. <font color = red>These</font> people look miserable, no one <font color = red>smiles</font> or <font color = red>greets</font> you appropriately, it's more like get in, get out, turn the tables,\\n\\nThe food has remained consistently good... when we can order it. the last time JB and I came for a quick dinner, the place was not busy yet we were passed by 6 frowning waitstaff without getting drinks... for 15 minutes we were left suiting at our table with our menus closed and sitting on the edge of the table (HINT, HINT) so we left and most likely will not be returning.<br>Our <font color = green>yesteryear</font> few <font color = green>visitor</font> <font color = green>es</font> <font color = green>going</font> something to <font color = green>seeks</font>, One of the <font color = green>matters</font> I <font color = green>unceasingly</font> notice is the demeanor of an <font color = green>institution</font> <font color = green>officials</font>. <font color = green>Those</font> people look miserable, no one <font color = green>smiling</font> or <font color = green>acclaimed</font> you appropriately, it's more like get in, get out, turn the tables,\\n\\nThe food has remained consistently good... when we can order it. the last time JB and I came for a quick dinner, the place was not busy yet we were passed by 6 frowning waitstaff without getting drinks... for 15 minutes we were left suiting at our table with our menus closed and sitting on the edge of the table (HINT, HINT) so we left and most likely will not be returning."
            ],
            "text/plain": [
              "<IPython.core.display.HTML object>"
            ]
          },
          "metadata": {
            "tags": []
          }
        },
        {
          "output_type": "stream",
          "text": [
            "[Succeeded / Failed / Total] 14 / 0 / 14:  56%|█████▌    | 14/25 [01:54<01:30,  8.21s/it]"
          ],
          "name": "stderr"
        },
        {
          "output_type": "display_data",
          "data": {
            "text/html": [
              "<font color = green>2 (100%)</font> --> <font color = red>1 (54%)</font><br>Good <font color = green>quality</font> pork fried dumpling and mongo beef.  Bar service was fast and Efficent.   Good value.  Not a 5 <font color = green>cause</font> dragon eye tea was cold first <font color = green>time</font> around and beef had <font color = green>minor</font> amount of fat.   Fortune was even Postive!<br>Good <font color = red>qualities</font> pork fried dumpling and mongo beef.  Bar service was fast and Efficent.   Good value.  Not a 5 <font color = red>justification</font> dragon eye tea was cold first <font color = red>chronology</font> around and beef had <font color = red>child</font> amount of fat.   Fortune was even Postive!"
            ],
            "text/plain": [
              "<IPython.core.display.HTML object>"
            ]
          },
          "metadata": {
            "tags": []
          }
        },
        {
          "output_type": "stream",
          "text": [
            "[Succeeded / Failed / Total] 15 / 0 / 15:  60%|██████    | 15/25 [01:57<01:18,  7.86s/it]"
          ],
          "name": "stderr"
        },
        {
          "output_type": "display_data",
          "data": {
            "text/html": [
              "<font color = red>1 (100%)</font> --> <font color = green>2 (66%)</font><br>Very <font color = red>bad</font> purchase experience. I bought a shirt with a hole covered in the rolled up sleeves, but they denied my <font color = red>request</font> to return it. I am so angery at this and will never shop their chothes anymore.<br>Very <font color = green>wicked</font> purchase experience. I bought a shirt with a hole covered in the rolled up sleeves, but they denied my <font color = green>poser</font> to return it. I am so angery at this and will never shop their chothes anymore."
            ],
            "text/plain": [
              "<IPython.core.display.HTML object>"
            ]
          },
          "metadata": {
            "tags": []
          }
        },
        {
          "output_type": "stream",
          "text": [
            "[Succeeded / Failed / Total] 16 / 0 / 16:  64%|██████▍   | 16/25 [02:00<01:07,  7.51s/it]"
          ],
          "name": "stderr"
        },
        {
          "output_type": "display_data",
          "data": {
            "text/html": [
              "<font color = red>1 (100%)</font> --> <font color = green>2 (67%)</font><br>When I think BBB... I think the days of simply bringing your bike in for a quick and relatively inexpensive tune-up and a few fixes are <font color = red>long</font> <font color = red>gone</font>.    \\n\\nThis review is more for the repair end of BBB. In their defense BBB does appear to carry some <font color = red>amazing</font> brands of bike (ie Colnago) that you just don't find anywhere else in Pittsburgh. \\n\\nAt BBB I was <font color = red>charged</font> $250 for a tune up and a few other things. Granted this included installing a sew up tire (which I can understand would cost approx $50), Swapping out a left side (big ring) shifter on my down tube (this should have cost approx. $20 at most) and installing new bar tape (cost of tape $20 and $20 to install?).. SO WHAT\\\"\"S WITH $140 FOR A TUNE UP? Well the story goes like this:\\n\\nI bring the bike into BBB prior to the nice weather hitting Pittsburgh in <font color = red>hopes</font> of trying what people have said is a great bike shop and getting my OCLV TREK 5900 ready for the season. Turns out I don't hear from these guys. A week goes by ...two weeks...I think that's ok I have two or three other bike I can turn to for a ride. Then I wind up going out of town for a week thinking for sure I'll get a call from them re: my bike is ready to roll...but no dice. So I call. Turns out a screw snapped when the mechanic was re-installing the down tube shifter and it had to be tapped out (is that my fault?). He says \\\"\"Should be ready in a few days\\\"\". So I come in a few days later to this mammoth bill. I ask if I am paying for the labor of taping out the screw? I don't think I ever got a straight answer? I look at the bill and can't see a good breakdown of the charges. Normally I would \\\"\"duke it over\\\"\" a bill like this but I figured...I had somewhere I to be 10 minutes ago and at least I finally have my bike. I would expect that for that money my bike could have been stripped down to the frame and totally gone over (overhauled). But it wasn't.  Well BBB I'll give you a star because the mechanic did do a good job in that my cycle shifts well and the tape job on the bars looks great (nice wrap). Plus I'll toss in a star for your outstanding selection of high end cycles. Maybe I would have rated BBB higher if I was in the market for a purchase instead of a simple repair?<br>When I think BBB... I think the days of simply bringing your bike in for a quick and relatively inexpensive tune-up and a few fixes are <font color = green>lang</font> <font color = green>going</font>.    \\n\\nThis review is more for the repair end of BBB. In their defense BBB does appear to carry some <font color = green>dramatic</font> brands of bike (ie Colnago) that you just don't find anywhere else in Pittsburgh. \\n\\nAt BBB I was <font color = green>loaded</font> $250 for a tune up and a few other things. Granted this included installing a sew up tire (which I can understand would cost approx $50), Swapping out a left side (big ring) shifter on my down tube (this should have cost approx. $20 at most) and installing new bar tape (cost of tape $20 and $20 to install?).. SO WHAT\\\"\"S WITH $140 FOR A TUNE UP? Well the story goes like this:\\n\\nI bring the bike into BBB prior to the nice weather hitting Pittsburgh in <font color = green>amal</font> of trying what people have said is a great bike shop and getting my OCLV TREK 5900 ready for the season. Turns out I don't hear from these guys. A week goes by ...two weeks...I think that's ok I have two or three other bike I can turn to for a ride. Then I wind up going out of town for a week thinking for sure I'll get a call from them re: my bike is ready to roll...but no dice. So I call. Turns out a screw snapped when the mechanic was re-installing the down tube shifter and it had to be tapped out (is that my fault?). He says \\\"\"Should be ready in a few days\\\"\". So I come in a few days later to this mammoth bill. I ask if I am paying for the labor of taping out the screw? I don't think I ever got a straight answer? I look at the bill and can't see a good breakdown of the charges. Normally I would \\\"\"duke it over\\\"\" a bill like this but I figured...I had somewhere I to be 10 minutes ago and at least I finally have my bike. I would expect that for that money my bike could have been stripped down to the frame and totally gone over (overhauled). But it wasn't.  Well BBB I'll give you a star because the mechanic did do a good job in that my cycle shifts well and the tape job on the bars looks great (nice wrap). Plus I'll toss in a star for your outstanding selection of high end cycles. Maybe I would have rated BBB higher if I was in the market for a purchase instead of a simple repair?"
            ],
            "text/plain": [
              "<IPython.core.display.HTML object>"
            ]
          },
          "metadata": {
            "tags": []
          }
        },
        {
          "output_type": "stream",
          "text": [
            "[Succeeded / Failed / Total] 17 / 0 / 17:  68%|██████▊   | 17/25 [02:13<01:02,  7.83s/it]"
          ],
          "name": "stderr"
        },
        {
          "output_type": "display_data",
          "data": {
            "text/html": [
              "<font color = red>1 (100%)</font> --> <font color = green>2 (72%)</font><br>My orders <font color = red>have</font> <font color = red>come</font> out <font color = red>bad</font> <font color = red>pretty</font> <font color = red>much</font> <font color = red>every</font> time I <font color = red>have</font> <font color = red>ordered</font> from here. The chicken nuggets <font color = red>come</font> out under par. I'm <font color = red>lucky</font> if the fries <font color = red>come</font> out right. <font color = red>My</font> <font color = red>last</font> experience is the <font color = red>last</font> straw. I recently posted a <font color = red>photo</font> of my <font color = red>Chicken</font> Ranch <font color = red>Club</font>. <font color = red>That</font> has no <font color = red>chicken</font>. This is ridiculous. I am done going to this Mcd's.<br>My orders <font color = green>enjoys</font> <font color = green>future</font> out <font color = green>naughty</font> <font color = green>perfectly</font> <font color = green>plenty</font> <font color = green>each</font> time I <font color = green>enjoy</font> <font color = green>ordering</font> from here. The chicken nuggets <font color = green>forthcoming</font> out under par. I'm <font color = green>jubilant</font> if the fries <font color = green>inbound</font> out right. <font color = green>Mano</font> <font color = green>latest</font> experience is the <font color = green>lately</font> straw. I recently posted a <font color = green>photographing</font> of my <font color = green>Chick</font> Ranch <font color = green>Cabaret</font>. <font color = green>This</font> has no <font color = green>rooster</font>. This is ridiculous. I am done going to this Mcd's."
            ],
            "text/plain": [
              "<IPython.core.display.HTML object>"
            ]
          },
          "metadata": {
            "tags": []
          }
        },
        {
          "output_type": "stream",
          "text": [
            "[Succeeded / Failed / Total] 18 / 0 / 18:  72%|███████▏  | 18/25 [02:25<00:56,  8.08s/it]"
          ],
          "name": "stderr"
        },
        {
          "output_type": "display_data",
          "data": {
            "text/html": [
              "<font color = red>1 (100%)</font> --> <font color = green>2 (57%)</font><br>Wow. What a <font color = red>shame</font>. My family just <font color = red>moved</font> to the area and have been <font color = red>sampling</font> the local cuisine. We are a <font color = red>very</font> large <font color = red>family</font> and love foods of all <font color = red>kind</font>. We've eaten Chinese food from a hundred different places in a dozen different <font color = red>cities</font>. <font color = red>Hands</font> down, this was the <font color = red>worst</font> we've ever <font color = red>had</font>. Cold, <font color = red>tough</font>, congealed, and tasteless - that's the only <font color = red>way</font> to <font color = red>describe</font> it. I'll never order from here again. <font color = red>Quite</font> frankly, the <font color = red>fact</font> that I took <font color = red>time</font> away from my kids to type this out should <font color = red>tell</font> you how awful it was. <font color = red>My</font> <font color = red>complaints</font> <font color = red>fell</font> on deaf <font color = red>ears</font>. I <font color = red>guess</font> they were shocked that <font color = red>someone</font> <font color = red>thought</font> that they were <font color = red>serving</font> <font color = red>low</font> <font color = red>grade</font> <font color = red>dog</font> <font color = red>food</font>. I <font color = red>understand</font> that <font color = red>sometimes</font> <font color = red>restaurants</font> crank out <font color = red>bad</font> <font color = red>food</font>. <font color = red>It</font> <font color = red>happens</font>. <font color = red>But</font> when it <font color = red>does</font>, you bend over <font color = red>backwards</font> to <font color = red>make</font> it right. Not at this place. I was told that he would have to <font color = red>speak</font> with the <font color = red>owner</font> in <font color = red>order</font> to <font color = red>help</font> me. I guess that's how they deflect <font color = red>complaints</font> - <font color = red>blame</font> it on the owners that aren't there and <font color = red>make</font> the customer for <font color = red>away</font> <font color = red>angry</font>.  <font color = red>Too</font> <font color = red>bad</font>. <font color = red>Because</font> we <font color = red>will</font> be <font color = red>visiting</font> a competitor in the future. This family of 7 won't be visiting China <font color = red>Sea</font> ever again. Oh, and by the way, why can't I give this place zero stars?<br>Wow. What a <font color = green>pity</font>. My family just <font color = green>budge</font> to the area and have been <font color = green>collected</font> the local cuisine. We are a <font color = green>perfectly</font> large <font color = green>home</font> and love foods of all <font color = green>categories</font>. We've eaten Chinese food from a hundred different places in a dozen different <font color = green>borough</font>. <font color = green>Hand</font> down, this was the <font color = green>finest</font> we've ever <font color = green>received</font>. Cold, <font color = green>onerous</font>, congealed, and tasteless - that's the only <font color = green>method</font> to <font color = green>denotes</font> it. I'll never order from here again. <font color = green>Adequately</font> frankly, the <font color = green>doing</font> that I took <font color = green>moment</font> away from my kids to type this out should <font color = green>announces</font> you how awful it was. <font color = green>Mon</font> <font color = green>affirmation</font> <font color = green>faltered</font> on deaf <font color = green>ear</font>. I <font color = green>assume</font> they were shocked that <font color = green>everybody</font> <font color = green>reflections</font> that they were <font color = green>contributed</font> <font color = green>few</font> <font color = green>class</font> <font color = green>pup</font> <font color = green>feeding</font>. I <font color = green>realizing</font> that <font color = green>recurring</font> <font color = green>ate</font> crank out <font color = green>wrong</font> <font color = green>feeding</font>. <font color = green>He</font> <font color = green>originate</font>. <font color = green>Yet</font> when it <font color = green>desires</font>, you bend over <font color = green>aft</font> to <font color = green>giving</font> it right. Not at this place. I was told that he would have to <font color = green>discourse</font> with the <font color = green>owning</font> in <font color = green>fin</font> to <font color = green>allows</font> me. I guess that's how they deflect <font color = green>requisitions</font> - <font color = green>responsability</font> it on the owners that aren't there and <font color = green>engender</font> the customer for <font color = green>remotely</font> <font color = green>frantic</font>.  <font color = green>Than</font> <font color = green>adverse</font>. <font color = green>For</font> we <font color = green>dedication</font> be <font color = green>guests</font> a competitor in the future. This family of 7 won't be visiting China <font color = green>Mer</font> ever again. Oh, and by the way, why can't I give this place zero stars?"
            ],
            "text/plain": [
              "<IPython.core.display.HTML object>"
            ]
          },
          "metadata": {
            "tags": []
          }
        },
        {
          "output_type": "stream",
          "text": [
            "[Succeeded / Failed / Total] 19 / 0 / 19:  76%|███████▌  | 19/25 [03:20<01:03, 10.58s/it]"
          ],
          "name": "stderr"
        },
        {
          "output_type": "display_data",
          "data": {
            "text/html": [
              "<font color = green>2 (100%)</font> --> <font color = red>1 (59%)</font><br>I <font color = green>fell</font> in <font color = green>love</font> with this place as <font color = green>soon</font> as we <font color = green>pulled</font> up and saw the <font color = green>lights</font> <font color = green>strung</font> up and  oldies coming from the speakers! \\n\\nI tried the <font color = green>banana</font> cream pie <font color = green>hard</font> ice cream, their scoops are very generous!! \\<font color = green>n</font>\\nMy bf got the peach cobbler hard ice cream and that was to die for! We got 4 servings of ice <font color = green>cream</font> for $10, which <font color = green>nowadays</font> is a <font color = green>steal</font> IMO! :) \\n\\nI'll definitely be <font color = green>heading</font> back with my coworkers this <font color = green>week</font>!<br>I <font color = red>lowered</font> in <font color = red>adore</font> with this place as <font color = red>prematurely</font> as we <font color = red>fired</font> up and saw the <font color = red>lighting</font> <font color = red>string</font> up and  oldies coming from the speakers! \\n\\nI tried the <font color = red>peach</font> cream pie <font color = red>problematic</font> ice cream, their scoops are very generous!! \\<font color = red>nitrogen</font>\\nMy bf got the peach cobbler hard ice cream and that was to die for! We got 4 servings of ice <font color = red>kreme</font> for $10, which <font color = red>moment</font> is a <font color = red>thefts</font> IMO! :) \\n\\nI'll definitely be <font color = red>headlines</font> back with my coworkers this <font color = red>mois</font>!"
            ],
            "text/plain": [
              "<IPython.core.display.HTML object>"
            ]
          },
          "metadata": {
            "tags": []
          }
        },
        {
          "output_type": "stream",
          "text": [
            "[Succeeded / Failed / Total] 20 / 0 / 20:  80%|████████  | 20/25 [03:33<00:53, 10.65s/it]"
          ],
          "name": "stderr"
        },
        {
          "output_type": "display_data",
          "data": {
            "text/html": [
              "<font color = green>2 (100%)</font> --> <font color = red>1 (51%)</font><br>This is by <font color = green>far</font>, the <font color = green>BEST</font> soft serve ice cream place in southwestern PA. The \\\"\"flavor of the week\\\"\" is always interesting-and tasty! <font color = green>Though</font>, I am somewhat disappointed that they've <font color = green>switched</font> to a <font color = green>lower</font> grade ice milk, for their <font color = green>vanilla</font> and chocolate offerings. I don't know if this is a matter of cutting <font color = green>corners</font>, or if the better stuff simply isn't available any longer. Either way, this place is still leaps and bounds ahead of DQ, Tastee Freeze, etc. It's definitely <font color = green>worth</font> the trip. It's mostly street parking, though they do have about 3-4 parking spaces off to the side. Serving sizes are huge! The small cone here, is the same size as a DQ large. And the large is SO big, they can't fit it through the window-they hand it out the side door.\\n\\nIf you want a real \\\"\"Kodak moment\\\"\"-order a large cone for the kids, and keep the camera, and wet wipes handy!<br>This is by <font color = red>acutely</font>, the <font color = red>ALRIGHT</font> soft serve ice cream place in southwestern PA. The \\\"\"flavor of the week\\\"\" is always interesting-and tasty! <font color = red>Besides</font>, I am somewhat disappointed that they've <font color = red>share</font> to a <font color = red>diminished</font> grade ice milk, for their <font color = red>chocolate</font> and chocolate offerings. I don't know if this is a matter of cutting <font color = red>corner</font>, or if the better stuff simply isn't available any longer. Either way, this place is still leaps and bounds ahead of DQ, Tastee Freeze, etc. It's definitely <font color = red>worthwhile</font> the trip. It's mostly street parking, though they do have about 3-4 parking spaces off to the side. Serving sizes are huge! The small cone here, is the same size as a DQ large. And the large is SO big, they can't fit it through the window-they hand it out the side door.\\n\\nIf you want a real \\\"\"Kodak moment\\\"\"-order a large cone for the kids, and keep the camera, and wet wipes handy!"
            ],
            "text/plain": [
              "<IPython.core.display.HTML object>"
            ]
          },
          "metadata": {
            "tags": []
          }
        },
        {
          "output_type": "stream",
          "text": [
            "[Succeeded / Failed / Total] 21 / 0 / 21:  84%|████████▍ | 21/25 [03:39<00:41, 10.45s/it]"
          ],
          "name": "stderr"
        },
        {
          "output_type": "display_data",
          "data": {
            "text/html": [
              "<font color = green>2 (100%)</font> --> <font color = red>1 (51%)</font><br>This is my go-to distributer. They have a great selection and lots of hard to find brews. I haven't noticed that it's any more expensive than going elsewhere but honestly if I don't buy here then I'm buying six packs which as we all know are a huuugggge rip off. So any time I have a case of something I love I feel like I'm getting a <font color = green>bargain</font>. The cold selection <font color = green>does</font> suck <font color = green>so</font> I <font color = green>try</font> to plan <font color = green>ahead</font> and <font color = green>have</font> what I need already cold. Staff here are all very helpful- and will have recommendations if you <font color = green>ask</font>.<br>This is my go-to distributer. They have a great selection and lots of hard to find brews. I haven't noticed that it's any more expensive than going elsewhere but honestly if I don't buy here then I'm buying six packs which as we all know are a huuugggge rip off. So any time I have a case of something I love I feel like I'm getting a <font color = red>dealings</font>. The cold selection <font color = red>fact</font> suck <font color = red>again</font> I <font color = red>persecute</font> to plan <font color = red>impatiently</font> and <font color = red>receive</font> what I need already cold. Staff here are all very helpful- and will have recommendations if you <font color = red>inquired</font>."
            ],
            "text/plain": [
              "<IPython.core.display.HTML object>"
            ]
          },
          "metadata": {
            "tags": []
          }
        },
        {
          "output_type": "stream",
          "text": [
            "[Succeeded / Failed / Total] 22 / 0 / 22:  88%|████████▊ | 22/25 [03:44<00:30, 10.22s/it]"
          ],
          "name": "stderr"
        },
        {
          "output_type": "display_data",
          "data": {
            "text/html": [
              "<font color = green>2 (100%)</font> --> <font color = red>1 (99%)</font><br><font color = green>Love</font> this beer distributor.  They always have what I'm looking for. The workers are extremely <font color = green>nice</font> and <font color = green>always</font> willing to help. <font color = green>Best</font> one I've <font color = green>seen</font> by far.<br><font color = red>Worshipped</font> this beer distributor.  They always have what I'm looking for. The workers are extremely <font color = red>alright</font> and <font color = red>ever</font> willing to help. <font color = red>Verywell</font> one I've <font color = red>interpreted</font> by far."
            ],
            "text/plain": [
              "<IPython.core.display.HTML object>"
            ]
          },
          "metadata": {
            "tags": []
          }
        },
        {
          "output_type": "stream",
          "text": [
            "[Succeeded / Failed / Total] 23 / 0 / 23:  92%|█████████▏| 23/25 [03:48<00:19,  9.94s/it]"
          ],
          "name": "stderr"
        },
        {
          "output_type": "display_data",
          "data": {
            "text/html": [
              "<font color = red>1 (100%)</font> --> <font color = green>2 (62%)</font><br>Went here with a gift card from the restaurant week photo competition. \\n\\nWe were one of two tables there and a bunch of staff showing up during the meal. \\n\\nOur waitress was good, but that couldn't <font color = red>save</font> the food.\\n\\nThe meal started out with some what I guess used to be foccacia.  I say used to be because it no longer represented anything other than long pieces of brick or bark very stale and <font color = red>tasteless</font>.\\n\\nWe ordered the vegetable board which was probably the best thing we ordered with light and bright vegetables perfectly cooked and paired with two delicious sauces. \\n\\nThen we ordered the octopus which was fine, but very cold and the octopus had little to no flavor, being overwhelmed by the citrus in the dish. \\n\\nThe tuscan wings were ok, but they were really ordered for my husband who seemed to enjoy them. \\n\\nFinally the diver scallops.  <font color = red>This</font> dish was indeible.  The scallops were <font color = red>very</font> overcooked and the pea puree was so minty I was <font color = red>unable</font> to eat it. We sent it back and they did take off half of the price (weren't expecting anything just didn't want to eat it). \\n\\nAfter that we decided against dessert and left.  I probably will not return.<br>Went here with a gift card from the restaurant week photo competition. \\n\\nWe were one of two tables there and a bunch of staff showing up during the meal. \\n\\nOur waitress was good, but that couldn't <font color = green>spare</font> the food.\\n\\nThe meal started out with some what I guess used to be foccacia.  I say used to be because it no longer represented anything other than long pieces of brick or bark very stale and <font color = green>banal</font>.\\n\\nWe ordered the vegetable board which was probably the best thing we ordered with light and bright vegetables perfectly cooked and paired with two delicious sauces. \\n\\nThen we ordered the octopus which was fine, but very cold and the octopus had little to no flavor, being overwhelmed by the citrus in the dish. \\n\\nThe tuscan wings were ok, but they were really ordered for my husband who seemed to enjoy them. \\n\\nFinally the diver scallops.  <font color = green>These</font> dish was indeible.  The scallops were <font color = green>immensely</font> overcooked and the pea puree was so minty I was <font color = green>imaginable</font> to eat it. We sent it back and they did take off half of the price (weren't expecting anything just didn't want to eat it). \\n\\nAfter that we decided against dessert and left.  I probably will not return."
            ],
            "text/plain": [
              "<IPython.core.display.HTML object>"
            ]
          },
          "metadata": {
            "tags": []
          }
        },
        {
          "output_type": "stream",
          "text": [
            "[Succeeded / Failed / Total] 24 / 0 / 24:  96%|█████████▌| 24/25 [03:55<00:09,  9.81s/it]"
          ],
          "name": "stderr"
        },
        {
          "output_type": "display_data",
          "data": {
            "text/html": [
              "<font color = red>1 (100%)</font> --> <font color = green>2 (61%)</font><br>I went there today! The cut was <font color = red>terrible</font>! I have an awful experience. They lady that cut my hair was <font color = red>nice</font> but she wanted to leave early so she made a disaster in my head!<br>I went there today! The cut was <font color = green>monstrous</font>! I have an awful experience. They lady that cut my hair was <font color = green>fantastic</font> but she wanted to leave early so she made a disaster in my head!"
            ],
            "text/plain": [
              "<IPython.core.display.HTML object>"
            ]
          },
          "metadata": {
            "tags": []
          }
        },
        {
          "output_type": "stream",
          "text": [
            "[Succeeded / Failed / Total] 25 / 0 / 25: 100%|██████████| 25/25 [03:57<00:00,  9.48s/it]"
          ],
          "name": "stderr"
        },
        {
          "output_type": "stream",
          "text": [
            "+-------------------------------+--------+\n",
            "| Attack Results                |        |\n",
            "+-------------------------------+--------+\n",
            "| Number of successful attacks: | 25     |\n",
            "| Number of failed attacks:     | 0      |\n",
            "| Number of skipped attacks:    | 0      |\n",
            "| Original accuracy:            | 100.0% |\n",
            "| Accuracy under attack:        | 0.0%   |\n",
            "| Attack success rate:          | 100.0% |\n",
            "| Average perturbed word %:     | 10.89% |\n",
            "| Average num. words per input: | 133.36 |\n",
            "| Avg num queries:              | 479.08 |\n",
            "+-------------------------------+--------+"
          ],
          "name": "stdout"
        },
        {
          "output_type": "stream",
          "text": [
            "\n",
            "\u001b[34;1mtextattack\u001b[0m: Attack time: 237.07913446426392s\n"
          ],
          "name": "stderr"
        }
      ]
    },
    {
      "cell_type": "markdown",
      "metadata": {
        "id": "jnhz0CZWyPOA"
      },
      "source": [
        "# Attacking bert-base-uncased-imdb model"
      ]
    },
    {
      "cell_type": "code",
      "metadata": {
        "colab": {
          "base_uri": "https://localhost:8080/",
          "height": 262,
          "referenced_widgets": [
            "6906573a7e4b4111be67311b52877577",
            "c6f8c0757b0b47269617487ca9fed633",
            "267aa1936ee94c9d814337338073f02c",
            "f2535fc1c23d4bc68364e55ca61a5a20",
            "a06b61705cc34becbcc9a91483f73f0f",
            "f1a53eb7a56c489793e67d4e0a0d0415",
            "baab7a01021d4591923ebbae4e6cf12c",
            "c557cc551a8641c9ac0bd21b96bf0f47",
            "4f1ed0d847044de69848a196ea1e61c6",
            "a0f6d5de3ea64378a47942dd96117148",
            "5c59be5a2d5046cd84b0cbf9b1e3aab0",
            "a24b39e87ca641509bca5e325423345d",
            "5e8410175b8749f18b4d2ab10f04db2a",
            "686781e06b12466485776295a2761385",
            "5addde97aeca40bb8116f005197bdef4",
            "49bbe746b60041a68833b10c031db524",
            "755ee1ab0a5f4093aa76cc21dbccc49c",
            "c663089174a742c29b489f277c3da43a",
            "83609ec3ec214815a5a5b2a8513891f6",
            "f5eaf00b163c4cca90544c5a5808cb92",
            "ececc69854a7488e832eba3f11a55a3f",
            "85f53ada6c9c4c38bb8bf20e963a09e2",
            "148eca4026f044818ab74e3aacbab524",
            "65727ed81609499abfff96f3ef5bf65f",
            "0875864a0c344bcab1ff4feac50f9414",
            "c1caaf80c90d4e318bc8239465dc58ff",
            "39c771e8c595495584968dba275a9c9e",
            "6a75b42464ea4fa9bd34f2b04662a9ff",
            "903dd3ba3c4d4ddcb6bd7f397971983f",
            "cc9b39e7e143475a9da0f9878a545eca",
            "407dbeeff3994a53bc05d9a31a5640cb",
            "4e25a1bef6f24e41ac05a898e4f36c2b",
            "712fd82a2807445e87d8c338e4492882",
            "f382a0926e4746759dd9f4fa0341ae44",
            "c56cff22533a47e8831debb98ec8199a",
            "51d23e215f5c4ab4990f842f7e66af84",
            "a2b3676251d44ad998cf4df44874489c",
            "6a6412ece9684290879349ad93df6b75",
            "6f4ed346108b4b1394dca7e797956095",
            "97116582f2064ad494cfa4bfd2640782"
          ]
        },
        "id": "aTMkwmUxebod",
        "outputId": "71738c15-2170-47b0-e276-1711a8fd2884"
      },
      "source": [
        "# Import the model\n",
        "import transformers\n",
        "from textattack.models.tokenizers import AutoTokenizer\n",
        "from textattack.models.wrappers import HuggingFaceModelWrapper\n",
        "\n",
        "model = transformers.AutoModelForSequenceClassification.from_pretrained(\"textattack/bert-base-uncased-imdb\")\n",
        "tokenizer = AutoTokenizer(\"textattack/bert-base-uncased-imdb\")\n",
        "# Change these\n",
        "\n",
        "model_wrapper = HuggingFaceModelWrapper(model, tokenizer)\n",
        "\n",
        "dataset = HuggingFaceDataset(\"imdb\", None, \"test\") # Change the dataset"
      ],
      "execution_count": 6,
      "outputs": [
        {
          "output_type": "display_data",
          "data": {
            "application/vnd.jupyter.widget-view+json": {
              "model_id": "6906573a7e4b4111be67311b52877577",
              "version_minor": 0,
              "version_major": 2
            },
            "text/plain": [
              "HBox(children=(FloatProgress(value=0.0, description='Downloading', max=511.0, style=ProgressStyle(description_…"
            ]
          },
          "metadata": {
            "tags": []
          }
        },
        {
          "output_type": "stream",
          "text": [
            "\n"
          ],
          "name": "stdout"
        },
        {
          "output_type": "display_data",
          "data": {
            "application/vnd.jupyter.widget-view+json": {
              "model_id": "4f1ed0d847044de69848a196ea1e61c6",
              "version_minor": 0,
              "version_major": 2
            },
            "text/plain": [
              "HBox(children=(FloatProgress(value=0.0, description='Downloading', max=437985387.0, style=ProgressStyle(descri…"
            ]
          },
          "metadata": {
            "tags": []
          }
        },
        {
          "output_type": "stream",
          "text": [
            "\n"
          ],
          "name": "stdout"
        },
        {
          "output_type": "display_data",
          "data": {
            "application/vnd.jupyter.widget-view+json": {
              "model_id": "755ee1ab0a5f4093aa76cc21dbccc49c",
              "version_minor": 0,
              "version_major": 2
            },
            "text/plain": [
              "HBox(children=(FloatProgress(value=0.0, description='Downloading', max=231508.0, style=ProgressStyle(descripti…"
            ]
          },
          "metadata": {
            "tags": []
          }
        },
        {
          "output_type": "stream",
          "text": [
            "\n"
          ],
          "name": "stdout"
        },
        {
          "output_type": "display_data",
          "data": {
            "application/vnd.jupyter.widget-view+json": {
              "model_id": "0875864a0c344bcab1ff4feac50f9414",
              "version_minor": 0,
              "version_major": 2
            },
            "text/plain": [
              "HBox(children=(FloatProgress(value=0.0, description='Downloading', max=112.0, style=ProgressStyle(description_…"
            ]
          },
          "metadata": {
            "tags": []
          }
        },
        {
          "output_type": "stream",
          "text": [
            "\n"
          ],
          "name": "stdout"
        },
        {
          "output_type": "display_data",
          "data": {
            "application/vnd.jupyter.widget-view+json": {
              "model_id": "712fd82a2807445e87d8c338e4492882",
              "version_minor": 0,
              "version_major": 2
            },
            "text/plain": [
              "HBox(children=(FloatProgress(value=0.0, description='Downloading', max=48.0, style=ProgressStyle(description_w…"
            ]
          },
          "metadata": {
            "tags": []
          }
        },
        {
          "output_type": "stream",
          "text": [
            "\n"
          ],
          "name": "stdout"
        }
      ]
    },
    {
      "cell_type": "markdown",
      "metadata": {
        "id": "qQAcZREazUh6"
      },
      "source": [
        "## Attacking using our attack recipe:"
      ]
    },
    {
      "cell_type": "code",
      "metadata": {
        "colab": {
          "base_uri": "https://localhost:8080/",
          "height": 1000
        },
        "id": "C0SLajvZeoGe",
        "outputId": "e8e84d57-2521-4932-976a-c06eed40bf3d"
      },
      "source": [
        "# Attacking and printing results\n",
        "from collections import deque\n",
        "\n",
        "import textattack\n",
        "import tqdm\n",
        "import time\n",
        "from IPython.display import display, HTML\n",
        "num_examples = 25\n",
        "num_remaining_attacks = num_examples\n",
        "pbar = tqdm.tqdm(total=num_remaining_attacks, smoothing=0)\n",
        "\n",
        "worklist = deque(range(0, num_examples))\n",
        "worklist_tail = worklist[-1]\n",
        "\n",
        "attack_log_manager = textattack.loggers.AttackLogManager()\n",
        "\n",
        "load_time = time.time()\n",
        "        \n",
        "num_results = 0\n",
        "num_failures = 0\n",
        "num_successes = 0\n",
        "for result in attack.attack_dataset(dataset, indices=worklist):\n",
        "    result_html_str = result.__str__(color_method=\"html\").replace(\"\\n\\n\", \"<br>\")\n",
        "    display(HTML(result_html_str))\n",
        "    attack_log_manager.log_result(result)\n",
        "            \n",
        "    if not isinstance(result, textattack.attack_results.SkippedAttackResult):\n",
        "        pbar.update(1)\n",
        "    else:\n",
        "        worklist_tail += 1\n",
        "        pbar.update(1)\n",
        "        worklist.append(worklist_tail)\n",
        "\n",
        "    num_results += 1\n",
        "\n",
        "    if (\n",
        "        type(result) == textattack.attack_results.SuccessfulAttackResult\n",
        "        or type(result) == textattack.attack_results.MaximizedAttackResult\n",
        "    ):\n",
        "        num_successes += 1\n",
        "                \n",
        "    if type(result) == textattack.attack_results.FailedAttackResult:\n",
        "        num_failures += 1\n",
        "    pbar.set_description(\n",
        "        \"[Succeeded / Failed / Total] {} / {} / {}\".format(\n",
        "            num_successes, num_failures, num_results\n",
        "        )\n",
        "    )\n",
        "\n",
        "pbar.close()\n",
        "\n",
        "attack_log_manager.enable_stdout()\n",
        "attack_log_manager.log_summary()\n",
        "attack_log_manager.flush()\n",
        "        \n",
        "textattack.shared.logger.info(f\"Attack time: {time.time() - load_time}s\")"
      ],
      "execution_count": 8,
      "outputs": [
        {
          "output_type": "stream",
          "text": [
            "\r  0%|          | 0/25 [00:00<?, ?it/s]"
          ],
          "name": "stderr"
        },
        {
          "output_type": "display_data",
          "data": {
            "text/html": [
              "<font color = green>Positive (100%)</font> --> <font color = red>Negative (92%)</font><br>I went and saw this movie last night after being coaxed to by a few friends of mine. I'll admit that I was reluctant to see it because from what I knew of Ashton Kutcher he was only able to do comedy. I was wrong. Kutcher played the character of Jake Fischer very well, and Kevin Costner played Ben Randall with such professionalism. The sign of a good movie is that it can toy with our emotions. <font color = green>This</font> one did exactly that. The entire theater (which was sold out) was overcome by laughter during the first half of the movie, and were moved to tears during the second half. While exiting the theater I not only saw many women in tears, but many full grown men as well, trying desperately not to let anyone see them crying. This movie was <font color = green>great</font>, and I suggest that you go see it before you judge.<br>I went and saw this movie last night after being coaxed to by a few friends of mine. I'll admit that I was reluctant to see it because from what I knew of Ashton Kutcher he was only able to do comedy. I was wrong. Kutcher played the character of Jake Fischer very well, and Kevin Costner played Ben Randall with such professionalism. The sign of a good movie is that it can toy with our emotions. <font color = red>Colchis</font> one did exactly that. The entire theater (which was sold out) was overcome by laughter during the first half of the movie, and were moved to tears during the second half. While exiting the theater I not only saw many women in tears, but many full grown men as well, trying desperately not to let anyone see them crying. This movie was <font color = red>greasy</font>, and I suggest that you go see it before you judge."
            ],
            "text/plain": [
              "<IPython.core.display.HTML object>"
            ]
          },
          "metadata": {
            "tags": []
          }
        },
        {
          "output_type": "stream",
          "text": [
            "[Succeeded / Failed / Total] 1 / 0 / 1:   4%|▍         | 1/25 [00:06<02:39,  6.65s/it]"
          ],
          "name": "stderr"
        },
        {
          "output_type": "display_data",
          "data": {
            "text/html": [
              "<font color = green>Positive (100%)</font> --> <font color = red>Negative (92%)</font><br>Actor turned director Bill Paxton follows up his promising debut, the Gothic-horror \"Frailty\", with this family friendly sports drama about the 1913 U.S. Open where a young American caddy rises from his humble background to play against his Bristish idol in what was dubbed as \"The Greatest Game Ever Played.\" I'm no fan of golf, and these scrappy underdog sports flicks are a dime a dozen (most recently done to grand effect with \"Miracle\" and \"Cinderella Man\"), but some how this film was enthralling all the same.<br /><br />The film starts with some creative opening credits (imagine a Disneyfied version of the animated opening credits of HBO's \"Carnivale\" and \"Rome\"), but lumbers along slowly for its first by-the-numbers hour. Once the action moves to the U.S. Open things pick up very well. Paxton does a nice <font color = green>job</font> and shows a knack for effective directorial flourishes (I loved the rain-soaked montage of the action on day two of the open) that <font color = green>propel</font> the plot further or add some <font color = green>unexpected</font> psychological depth to the proceedings. There's some compelling character development when the British Harry Vardon is haunted by images of the aristocrats in black suits and top hats who destroyed his family cottage as a child to make way for a golf course. He also does a good job of visually depicting what goes on in the players' heads under pressure. Golf, a painfully boring sport, is brought vividly alive here. Credit should also be given the set designers and costume department for creating an engaging period-piece atmosphere of London and Boston at the beginning of the twentieth century.<br /><br />You know how this is going to end not only because it's based on a true story but also because films in this genre follow the same template over and over, but Paxton puts on a better than average show and perhaps indicates more talent behind the camera than he ever had in front of it. Despite the formulaic nature, this is a nice and easy film to root for that deserves to find an audience.<br>Actor turned director Bill Paxton follows up his promising debut, the Gothic-horror \"Frailty\", with this family friendly sports drama about the 1913 U.S. Open where a young American caddy rises from his humble background to play against his Bristish idol in what was dubbed as \"The Greatest Game Ever Played.\" I'm no fan of golf, and these scrappy underdog sports flicks are a dime a dozen (most recently done to grand effect with \"Miracle\" and \"Cinderella Man\"), but some how this film was enthralling all the same.<br /><br />The film starts with some creative opening credits (imagine a Disneyfied version of the animated opening credits of HBO's \"Carnivale\" and \"Rome\"), but lumbers along slowly for its first by-the-numbers hour. Once the action moves to the U.S. Open things pick up very well. Paxton does a nice <font color = red>offeree</font> and shows a knack for effective directorial flourishes (I loved the rain-soaked montage of the action on day two of the open) that <font color = red>ramjet</font> the plot further or add some <font color = red>unexposed</font> psychological depth to the proceedings. There's some compelling character development when the British Harry Vardon is haunted by images of the aristocrats in black suits and top hats who destroyed his family cottage as a child to make way for a golf course. He also does a good job of visually depicting what goes on in the players' heads under pressure. Golf, a painfully boring sport, is brought vividly alive here. Credit should also be given the set designers and costume department for creating an engaging period-piece atmosphere of London and Boston at the beginning of the twentieth century.<br /><br />You know how this is going to end not only because it's based on a true story but also because films in this genre follow the same template over and over, but Paxton puts on a better than average show and perhaps indicates more talent behind the camera than he ever had in front of it. Despite the formulaic nature, this is a nice and easy film to root for that deserves to find an audience."
            ],
            "text/plain": [
              "<IPython.core.display.HTML object>"
            ]
          },
          "metadata": {
            "tags": []
          }
        },
        {
          "output_type": "stream",
          "text": [
            "[Succeeded / Failed / Total] 2 / 0 / 2:   8%|▊         | 2/25 [00:23<04:34, 11.94s/it]"
          ],
          "name": "stderr"
        },
        {
          "output_type": "display_data",
          "data": {
            "text/html": [
              "<font color = green>Positive (100%)</font> --> <font color = red>[FAILED]</font><br>As a recreational golfer with some knowledge of the sport's history, I was pleased with Disney's sensitivity to the issues of class in golf in the early twentieth century. The movie depicted well the psychological battles that Harry Vardon fought within himself, from his childhood trauma of being evicted to his own inability to break that glass ceiling that prevents him from being accepted as an equal in English golf society. Likewise, the young Ouimet goes through his own class struggles, being a mere caddie in the eyes of the upper crust Americans who scoff at his attempts to rise above his standing. <br /><br />What I loved best, however, is how this theme of class is manifested in the characters of Ouimet's parents. His father is a working-class drone who sees the value of hard work but is intimidated by the upper class; his mother, however, recognizes her son's talent and desire and encourages him to pursue his dream of competing against those who think he is inferior.<br /><br />Finally, the golf scenes are well photographed. Although the course used in the movie was not the actual site of the historical tournament, the little liberties taken by Disney do not detract from the beauty of the film. There's one little Disney moment at the pool table; otherwise, the viewer does not really think Disney. The ending, as in \"Miracle,\" is not some Disney creation, but one that only human history could have written."
            ],
            "text/plain": [
              "<IPython.core.display.HTML object>"
            ]
          },
          "metadata": {
            "tags": []
          }
        },
        {
          "output_type": "stream",
          "text": [
            "[Succeeded / Failed / Total] 2 / 1 / 3:  12%|█▏        | 3/25 [00:41<05:02, 13.77s/it]"
          ],
          "name": "stderr"
        },
        {
          "output_type": "display_data",
          "data": {
            "text/html": [
              "<font color = green>Positive (100%)</font> --> <font color = red>Negative (92%)</font><br>I saw this film in a sneak preview, and it is delightful. <font color = green>The</font> cinematography is <font color = green>unusually</font> creative, the acting is <font color = green>good</font>, and the story is <font color = green>fabulous</font>. <font color = green>If</font> this <font color = green>movie</font> does not do <font color = green>well</font>, it won't be because it doesn't deserve to. Before this film, I didn't realize how charming Shia Lebouf <font color = green>could</font> be. He does a marvelous, self-contained, job as the lead. There's something incredibly <font color = green>sweet</font> about him, and it makes the movie even <font color = green>better</font>. <font color = green>The</font> other actors do a <font color = green>good</font> job as well, and the film contains <font color = green>moments</font> of really <font color = green>high</font> suspense, more than one might <font color = green>expect</font> from a movie about <font color = green>golf</font>. Sports movies are a dime a dozen, but this one stands out. <br /><br />This is one I'd <font color = green>recommend</font> to anyone.<br>I saw this film in a sneak preview, and it is delightful. <font color = red>Gauche</font> cinematography is <font color = red>unusual</font> creative, the acting is <font color = red>bad</font>, and the story is <font color = red>nebulous</font>. <font color = red>Sun</font> this <font color = red>film</font> does not do <font color = red>such</font>, it won't be because it doesn't deserve to. Before this film, I didn't realize how charming Shia Lebouf <font color = red>might</font> be. He does a marvelous, self-contained, job as the lead. There's something incredibly <font color = red>creamy</font> about him, and it makes the movie even <font color = red>getter</font>. <font color = red>Gauche</font> other actors do a <font color = red>bad</font> job as well, and the film contains <font color = red>motions</font> of really <font color = red>low</font> suspense, more than one might <font color = red>want</font> from a movie about <font color = red>volleyball</font>. Sports movies are a dime a dozen, but this one stands out. <br /><br />This is one I'd <font color = red>commend</font> to anyone."
            ],
            "text/plain": [
              "<IPython.core.display.HTML object>"
            ]
          },
          "metadata": {
            "tags": []
          }
        },
        {
          "output_type": "stream",
          "text": [
            "[Succeeded / Failed / Total] 3 / 1 / 4:  16%|█▌        | 4/25 [00:47<04:08, 11.85s/it]"
          ],
          "name": "stderr"
        },
        {
          "output_type": "display_data",
          "data": {
            "text/html": [
              "<font color = green>Positive (100%)</font> --> <font color = red>Negative (90%)</font><br>Bill Paxton has taken the <font color = green>true</font> <font color = green>story</font> of the <font color = green>1913</font> US <font color = green>golf</font> open and made a <font color = green>film</font> that is about much more than an extra-ordinary game of golf. The <font color = green>film</font> also <font color = green>deals</font> <font color = green>directly</font> with the class tensions of the early <font color = green>twentieth</font> century and touches upon the <font color = green>profound</font> anti-Catholic <font color = green>prejudices</font> of both the British and American establishments. But at <font color = green>heart</font> the film is about that perennial <font color = green>favourite</font> of triumph against the odds.<<font color = green>br</font> /><br />The <font color = green>acting</font> is exemplary throughout. Stephen Dillane is <font color = green>excellent</font> as usual, but the <font color = green>revelation</font> of the movie is Shia LaBoeuf who delivers a disciplined, <font color = green>dignified</font> and <font color = green>highly</font> <font color = green>sympathetic</font> performance as a working <font color = green>class</font> Franco-Irish kid fighting his <font color = green>way</font> through the <font color = green>prejudices</font> of the New <font color = green>England</font> WASP <font color = green>establishment</font>. For those who are only familiar with his slap-stick <font color = green>performances</font> in \"Even Stevens\" this demonstration of his <font color = green>maturity</font> is a <font color = green>delightful</font> <font color = green>surprise</font>. <font color = green>And</font> Josh Flitter as the <font color = green>ten</font> <font color = green>year</font> old caddy <font color = green>threatens</font> to steal every scene in which he <font color = green>appears</font>.<br /><br /><font color = green>A</font> old fashioned movie in the <font color = green>best</font> sense of the <font color = green>word</font>: <font color = green>fine</font> acting, <font color = green>clear</font> <font color = green>directing</font> and a <font color = green>great</font> story that <font color = green>grips</font> to the end - the <font color = green>final</font> scene an affectionate nod to Casablanca is just <font color = green>one</font> of the many <font color = green>pleasures</font> that fill a <font color = green>great</font> movie.<br>Bill Paxton has taken the <font color = red>believable</font> <font color = red>novel</font> of the <font color = red>mold</font> US <font color = red>volleyball</font> open and made a <font color = red>movie</font> that is about much more than an extra-ordinary game of golf. The <font color = red>movie</font> also <font color = red>dealing</font> <font color = red>correctly</font> with the class tensions of the early <font color = red>nineteenth</font> century and touches upon the <font color = red>tremendous</font> anti-Catholic <font color = red>prejudice</font> of both the British and American establishments. But at <font color = red>hemorrhage</font> the film is about that perennial <font color = red>favorite</font> of triumph against the odds.<<font color = red>ck</font> /><br />The <font color = red>directing</font> is exemplary throughout. Stephen Dillane is <font color = red>excelling</font> as usual, but the <font color = red>prophecy</font> of the movie is Shia LaBoeuf who delivers a disciplined, <font color = red>signified</font> and <font color = red>fairly</font> <font color = red>apathetic</font> performance as a working <font color = red>clasp</font> Franco-Irish kid fighting his <font color = red>thing</font> through the <font color = red>prejudice</font> of the New <font color = red>Scotland</font> WASP <font color = red>abolishment</font>. For those who are only familiar with his slap-stick <font color = red>performance</font> in \"Even Stevens\" this demonstration of his <font color = red>mature</font> is a <font color = red>artful</font> <font color = red>surprising</font>. <font color = red>Tell</font> Josh Flitter as the <font color = red>fifteen</font> <font color = red>month</font> old caddy <font color = red>threaten</font> to steal every scene in which he <font color = red>appeared</font>.<br /><br /><font color = red>SESS</font> old fashioned movie in the <font color = red>finest</font> sense of the <font color = red>meaning</font>: <font color = red>glasses</font> acting, <font color = red>regrettable</font> <font color = red>direction</font> and a <font color = red>greasy</font> story that <font color = red>rips</font> to the end - the <font color = red>penultimate</font> scene an affectionate nod to Casablanca is just <font color = red>nine</font> of the many <font color = red>pleasure</font> that fill a <font color = red>greasy</font> movie."
            ],
            "text/plain": [
              "<IPython.core.display.HTML object>"
            ]
          },
          "metadata": {
            "tags": []
          }
        },
        {
          "output_type": "stream",
          "text": [
            "[Succeeded / Failed / Total] 4 / 1 / 5:  20%|██        | 5/25 [01:02<04:08, 12.42s/it]"
          ],
          "name": "stderr"
        },
        {
          "output_type": "display_data",
          "data": {
            "text/html": [
              "<font color = green>Positive (100%)</font> --> <font color = red>Negative (63%)</font><br>I saw this film on September 1st, 2005 in Indianapolis. I am one of the <font color = green>judges</font> for the Heartland Film Festival that screens films for their Truly Moving Picture Award. A Truly Moving Picture \"...explores the human journey by artistically expressing hope and respect for the positive values of life.\" Heartland gave that award to this film.<br /><br />This is a <font color = green>story</font> of golf in the early part of the 20th century. At that time, it was the game of upper class and rich \"gentlemen\", and working people could only participate by being caddies at country clubs. With this <font color = green>backdrop</font>, this <font color = green>based-on-a-true-story</font> unfolds with a young, working class <font color = green>boy</font> who takes on the golf establishment and the greatest golfer in the world, Harry Vardon.<br /><br />And the <font color = green>story</font> is <font color = green>inspirational</font>. Against all odds, Francis Ouimet (played by Shia LaBeouf of \"Holes\") gets to compete against the greatest golfers of the U.S. and Great Britain at the 1913 U.S. Open. Francis is <font color = green>ill-prepared</font>, and has a child for a caddy. (The caddy is hilarious and motivational and steals every scene he appears in.) But despite these handicaps, Francis displays courage, spirit, heroism, and humility at this world class event.<br /><br />And, we learn a lot about the early years of golf; for example, the use of small wooden clubs, the layout of the short holes, the manual scoreboard, the golfers swinging with pipes in their mouths, the terrible conditions of the greens and fairways, and the play not being canceled even in torrential rain.<br /><br />This film has stunning cinematography and art direction and editing. And with no big movie stars, the story is somehow more believable.<br /><br />This adds to the inventory of great sports movies in the vein of \"Miracle\" and \"Remember the Titans.\"<br /><br />FYI - There is a Truly Moving Pictures web site where there is a listing of past winners going back 70 years.<br>I saw this film on September 1st, 2005 in Indianapolis. I am one of the <font color = red>magistrates</font> for the Heartland Film Festival that screens films for their Truly Moving Picture Award. A Truly Moving Picture \"...explores the human journey by artistically expressing hope and respect for the positive values of life.\" Heartland gave that award to this film.<br /><br />This is a <font color = red>novel</font> of golf in the early part of the 20th century. At that time, it was the game of upper class and rich \"gentlemen\", and working people could only participate by being caddies at country clubs. With this <font color = red>backdoor</font>, this <font color = red>purview</font> unfolds with a young, working class <font color = red>booji</font> who takes on the golf establishment and the greatest golfer in the world, Harry Vardon.<br /><br />And the <font color = red>novel</font> is <font color = red>inspiration</font>. Against all odds, Francis Ouimet (played by Shia LaBeouf of \"Holes\") gets to compete against the greatest golfers of the U.S. and Great Britain at the 1913 U.S. Open. Francis is <font color = red>prepared</font>, and has a child for a caddy. (The caddy is hilarious and motivational and steals every scene he appears in.) But despite these handicaps, Francis displays courage, spirit, heroism, and humility at this world class event.<br /><br />And, we learn a lot about the early years of golf; for example, the use of small wooden clubs, the layout of the short holes, the manual scoreboard, the golfers swinging with pipes in their mouths, the terrible conditions of the greens and fairways, and the play not being canceled even in torrential rain.<br /><br />This film has stunning cinematography and art direction and editing. And with no big movie stars, the story is somehow more believable.<br /><br />This adds to the inventory of great sports movies in the vein of \"Miracle\" and \"Remember the Titans.\"<br /><br />FYI - There is a Truly Moving Pictures web site where there is a listing of past winners going back 70 years."
            ],
            "text/plain": [
              "<IPython.core.display.HTML object>"
            ]
          },
          "metadata": {
            "tags": []
          }
        },
        {
          "output_type": "stream",
          "text": [
            "[Succeeded / Failed / Total] 5 / 1 / 6:  24%|██▍       | 6/25 [01:18<04:09, 13.15s/it]"
          ],
          "name": "stderr"
        },
        {
          "output_type": "display_data",
          "data": {
            "text/html": [
              "<font color = red>Negative (99%)</font> --> <font color = gray>[SKIPPED]</font><br>Maybe I'm reading into this too much, but I wonder how much of a hand Hongsheng had in developing the film. I mean, when a story is told casting the main character as himself, I would think he would be a heavy hand in writing, documenting, etc. and that would make it a little biased.<br /><br />But...his family and friends also may have had a hand in getting the actual details about Hongsheng's life. I think the best view would have been told from Hongsheng's family and friends' perspectives. They saw his transformation and weren't so messed up on drugs that they remember everything.<br /><br />As for Hongsheng being full of himself, the consistencies of the Jesus Christ pose make him appear as a martyr who sacrificed his life (metaphorically, of course, he's obviously still alive as he was cast as himself) for his family's happiness. Huh?<br /><br />The viewer sees him at his lowest points while still maintaining a superiority complex. He lies on the grass coming down from (during?) a high by himself and with his father, he contemplates life and has visions of dragons at his window, he celebrates his freedom on a bicycle all while outstretching his arms, his head cocked to the side.<br /><br />It's fabulous that he's off of drugs now, but he's no hero. He went from a high point in his career in acting to his most vulnerable point while on drugs to come back somewhere in the middle.<br /><br />This same device is used in Ted Demme's \"Blow\" where the audience empathizes with the main character who is shown as a flawed hero.<br /><br />However, \"Quitting\" (\"Zuotian\") is a film that is recommended, mostly for its haunting soundtrack, superb acting, and landscapes. But, the best part is the feeling that one gets when what we presume to be the house of Jia Hongsheng is actually a stage setting for a play. It makes the viewer feel as if Hongsheng's life was merely a play told in many difficult parts."
            ],
            "text/plain": [
              "<IPython.core.display.HTML object>"
            ]
          },
          "metadata": {
            "tags": []
          }
        },
        {
          "output_type": "stream",
          "text": [
            "\r[Succeeded / Failed / Total] 5 / 1 / 7:  28%|██▊       | 7/25 [01:18<03:22, 11.27s/it]"
          ],
          "name": "stderr"
        },
        {
          "output_type": "display_data",
          "data": {
            "text/html": [
              "<font color = green>Positive (100%)</font> --> <font color = red>Negative (82%)</font><br>I felt this film did have many <font color = green>good</font> qualities. The cinematography was certainly different exposing the stage aspect of the set and story. <font color = green>The</font> original characters as actors was certainly an achievement and I felt most played quite convincingly, of course they are playing themselves, but <font color = green>definitely</font> unique. The cultural aspects may leave many disappointed as a familiarity with the Chinese and Oriental culture will answer a lot of questions regarding parent/child relationships and the stigma that goes with any drug use. I found the Jia Hongsheng story interesting. On a down note, the story is in Beijing and some of the fashion and music reek of early 90s even though this was made in 2001, so it's really cheesy sometimes (the Beatles crap, etc). Whatever, not a top ten or twenty but if it's on the television, check it out.<br>I felt this film did have many <font color = red>bad</font> qualities. The cinematography was certainly different exposing the stage aspect of the set and story. <font color = red>Gauche</font> original characters as actors was certainly an achievement and I felt most played quite convincingly, of course they are playing themselves, but <font color = red>finitely</font> unique. The cultural aspects may leave many disappointed as a familiarity with the Chinese and Oriental culture will answer a lot of questions regarding parent/child relationships and the stigma that goes with any drug use. I found the Jia Hongsheng story interesting. On a down note, the story is in Beijing and some of the fashion and music reek of early 90s even though this was made in 2001, so it's really cheesy sometimes (the Beatles crap, etc). Whatever, not a top ten or twenty but if it's on the television, check it out."
            ],
            "text/plain": [
              "<IPython.core.display.HTML object>"
            ]
          },
          "metadata": {
            "tags": []
          }
        },
        {
          "output_type": "stream",
          "text": [
            "[Succeeded / Failed / Total] 6 / 1 / 8:  32%|███▏      | 8/25 [01:25<03:01, 10.65s/it]"
          ],
          "name": "stderr"
        },
        {
          "output_type": "display_data",
          "data": {
            "text/html": [
              "<font color = green>Positive (100%)</font> --> <font color = red>Negative (100%)</font><br>This movie is amazing because the fact that the real people portray themselves and their real life experience and do such a <font color = green>good</font> job it's like they're almost living the past over again. Jia Hongsheng plays himself an actor who quit everything except music and drugs struggling with depression and searching for the meaning of life while being angry at everyone especially the people who care for him most. There's moments in the movie that will make you wanna cry because the family especially the father did such a good job. However, this movie is not for everyone. Many people who suffer from depression will understand Hongsheng's problem and why he does the things he does for example keep himself shut in a dark room or go for walks or bike rides by himself. Others might see the movie as boring because it's just so real that its almost like a documentary. Overall this movie is <font color = green>great</font> and Hongsheng deserved an Oscar for this movie so did his Dad.<br>This movie is amazing because the fact that the real people portray themselves and their real life experience and do such a <font color = red>bad</font> job it's like they're almost living the past over again. Jia Hongsheng plays himself an actor who quit everything except music and drugs struggling with depression and searching for the meaning of life while being angry at everyone especially the people who care for him most. There's moments in the movie that will make you wanna cry because the family especially the father did such a good job. However, this movie is not for everyone. Many people who suffer from depression will understand Hongsheng's problem and why he does the things he does for example keep himself shut in a dark room or go for walks or bike rides by himself. Others might see the movie as boring because it's just so real that its almost like a documentary. Overall this movie is <font color = red>greasy</font> and Hongsheng deserved an Oscar for this movie so did his Dad."
            ],
            "text/plain": [
              "<IPython.core.display.HTML object>"
            ]
          },
          "metadata": {
            "tags": []
          }
        },
        {
          "output_type": "stream",
          "text": [
            "[Succeeded / Failed / Total] 7 / 1 / 9:  36%|███▌      | 9/25 [01:36<02:52, 10.77s/it]"
          ],
          "name": "stderr"
        },
        {
          "output_type": "display_data",
          "data": {
            "text/html": [
              "<font color = green>Positive (100%)</font> --> <font color = red>Negative (90%)</font><br>\"Quitting\" may be as much about exiting a pre-ordained identity as about drug withdrawal. As a rural guy coming to Beijing, class and success must have struck this young artist face on as an appeal to separate from his roots and far surpass his peasant parents' <font color = green>acting</font> success. <font color = green>Troubles</font> arise, however, when the new man is too new, when it demands too big a departure from family, history, nature, and personal identity. <font color = green>The</font> ensuing splits, and confusion between the imaginary and the real and the dissonance between the ordinary and the heroic are the <font color = green>stuff</font> of a gut check on the one hand or a complete escape from <font color = green>self</font> on the other. Hongshen slips into the latter and his long and lonely road back to <font color = green>self</font> can be grim.<br /><br /><font color = green>But</font> what an <font color = green>exceptionally</font> <font color = green>convincing</font> particularity, honesty, and sensuousness director Zhang Yang, and his actors, bring to this journey. No clichés, no stereotypes, no rigid gender roles, no requisite sex, romance or violence scenes, no requisite street language and, to boot, no assumed money to float character acts and whims. <br /><br />Hongshen Jia is in his mid-twenties. He's a talented actor, impressionable, vain, idealistic, and perhaps emotionally starved. The perfect recipe for his enablers. Soon he's the \"cool\" actor, idolized by youth. \"He was hot in the early nineties.\" \"He always had to be the most fashionable.\" He needs extremes, and goes in for heavy metal, adopts earrings and a scarf. His acting means the arts, friends--and roles, But not the kind that offer any personal challenge or input. And his self-criticism, dulled by the immediacy of success, opens the doors to an irrational self-doubt, self-hatred-- \"I didn't know how to act\" \"I felt like a phony\"--and to readily available drugs to counter them. He says \"I had to get high to do what director wanted.\" So, his shallow identity as an actor becomes, via drugs, an escape from identity. <br /><br />Hongshen's disengagement from drugs and his false life is very gradual, intermittent--and doggedly his own. Solitude, space, meditative thinking, speech refusal, replace therapy. The abstract is out. And a great deal of his change occurs outdoors---not in idealized locations but mainly on green patches under the freeways, bridges, and high-rises of Beijing. The physicality is almost romantic, but is not. The bike rides to Ritan Park, the long spontaneous walks, the drenching sun and rain, grassy picnics, the sky patterns and kites that absorb his musing are very specific. He drifts in order to arrive, all the while picking up cues to a more real and realistic identity. \"I started to open up\" he says of this period in retrospect. And the contact seems to start with his lanky body which projects a kind of dancer's positioning (clumsy, graceful, humorous, telling) in a current circumstance. If mind or spirit is lacking, his legs can compel him to walk all night. <br /><br />Central to his comeback is the rejection of set roles. To punctuate his end to acting and his determination to a new identity, he smashes his videos and TV, and bangs his head till bloody against his \"John Lennon Forever\" poster. He has let down his iconic anti-establishment artist---but he's the only viable guide he knows. He even imagines himself as John's son (Yoko Ono), and adopts his \"Mother Mary\" as an intercessor in his \"hour of darkness\" and \"time of trouble.\" (the wrenching, shaking pain in the park--hallucinatory and skitzoid ordeals) \"Music is so much more real than acting\" he says. And speaks of Lennon's influence as \"showing me a new way.\" In the mental institute, the life-saving apples (resistance, nourishment) reflect Lennon's presence, as does Hongshen's need to re-hang his hero's poster in his redecorated room.<br /><br />If Lennon's influence is spiriting, Hongshen's father's influence is grounding. Although father and son are both actors and users (drugs and drink), it is Fegsen's differences from his son that underwrites his change. For the father is more secure in himself: he accepts that he's Chinese, a peasant in a line of peasants, a rural theater director. And he exercises control over both his habit and his emotions. It's this recognizable identity that drives Hongshen to treat him like a sounding board, sometimes with anger and rage, sometimes with humor (the blue jeans, Beatles) and passivity. In his most crazed, and violent exchange with his father in which he accuses him of being a liar, and a fake, he exposes more of himself than his father: \"all the acts I acted before were bullshit... life is bullshit.\" And to Hongshen's emphatic \"you are NOT my father,\" he softly replies, \"why can't a peasant be your father?\" <br /><br />Under these two teachers and with much additional help from his mother, sister, friends, inmates at the rehab inst., he makes some tangible connection to a real (not whole) self. As the long term drug effects recede, so does his old identity. Indebtedness replaces pride, trust distrust. Integrity banishes his black cloud. All his edges soften. \"You are just a human being\" he repeats endlessly after being released from the strap-down incurred for refusing medicine. Back home, lard peasant soap is fine with him now. And his once \"rare and true friendships\" begin again as is so evident in the back to poignant back-to-back fence scene with his musician buddy. Hongshen says of this movie: \"it's a good chance to think about my life.\" And I might add, become a New Actor, one bound to art and life. Like Lennon, he has gained success without a loss of identity.<br>\"Quitting\" may be as much about exiting a pre-ordained identity as about drug withdrawal. As a rural guy coming to Beijing, class and success must have struck this young artist face on as an appeal to separate from his roots and far surpass his peasant parents' <font color = red>directing</font> success. <font color = red>Rouble</font> arise, however, when the new man is too new, when it demands too big a departure from family, history, nature, and personal identity. <font color = red>Gauche</font> ensuing splits, and confusion between the imaginary and the real and the dissonance between the ordinary and the heroic are the <font color = red>tuff</font> of a gut check on the one hand or a complete escape from <font color = red>purposeful</font> on the other. Hongshen slips into the latter and his long and lonely road back to <font color = red>purposeful</font> can be grim.<br /><br /><font color = red>Zut</font> what an <font color = red>optionally</font> <font color = red>deeming</font> particularity, honesty, and sensuousness director Zhang Yang, and his actors, bring to this journey. No clichés, no stereotypes, no rigid gender roles, no requisite sex, romance or violence scenes, no requisite street language and, to boot, no assumed money to float character acts and whims. <br /><br />Hongshen Jia is in his mid-twenties. He's a talented actor, impressionable, vain, idealistic, and perhaps emotionally starved. The perfect recipe for his enablers. Soon he's the \"cool\" actor, idolized by youth. \"He was hot in the early nineties.\" \"He always had to be the most fashionable.\" He needs extremes, and goes in for heavy metal, adopts earrings and a scarf. His acting means the arts, friends--and roles, But not the kind that offer any personal challenge or input. And his self-criticism, dulled by the immediacy of success, opens the doors to an irrational self-doubt, self-hatred-- \"I didn't know how to act\" \"I felt like a phony\"--and to readily available drugs to counter them. He says \"I had to get high to do what director wanted.\" So, his shallow identity as an actor becomes, via drugs, an escape from identity. <br /><br />Hongshen's disengagement from drugs and his false life is very gradual, intermittent--and doggedly his own. Solitude, space, meditative thinking, speech refusal, replace therapy. The abstract is out. And a great deal of his change occurs outdoors---not in idealized locations but mainly on green patches under the freeways, bridges, and high-rises of Beijing. The physicality is almost romantic, but is not. The bike rides to Ritan Park, the long spontaneous walks, the drenching sun and rain, grassy picnics, the sky patterns and kites that absorb his musing are very specific. He drifts in order to arrive, all the while picking up cues to a more real and realistic identity. \"I started to open up\" he says of this period in retrospect. And the contact seems to start with his lanky body which projects a kind of dancer's positioning (clumsy, graceful, humorous, telling) in a current circumstance. If mind or spirit is lacking, his legs can compel him to walk all night. <br /><br />Central to his comeback is the rejection of set roles. To punctuate his end to acting and his determination to a new identity, he smashes his videos and TV, and bangs his head till bloody against his \"John Lennon Forever\" poster. He has let down his iconic anti-establishment artist---but he's the only viable guide he knows. He even imagines himself as John's son (Yoko Ono), and adopts his \"Mother Mary\" as an intercessor in his \"hour of darkness\" and \"time of trouble.\" (the wrenching, shaking pain in the park--hallucinatory and skitzoid ordeals) \"Music is so much more real than acting\" he says. And speaks of Lennon's influence as \"showing me a new way.\" In the mental institute, the life-saving apples (resistance, nourishment) reflect Lennon's presence, as does Hongshen's need to re-hang his hero's poster in his redecorated room.<br /><br />If Lennon's influence is spiriting, Hongshen's father's influence is grounding. Although father and son are both actors and users (drugs and drink), it is Fegsen's differences from his son that underwrites his change. For the father is more secure in himself: he accepts that he's Chinese, a peasant in a line of peasants, a rural theater director. And he exercises control over both his habit and his emotions. It's this recognizable identity that drives Hongshen to treat him like a sounding board, sometimes with anger and rage, sometimes with humor (the blue jeans, Beatles) and passivity. In his most crazed, and violent exchange with his father in which he accuses him of being a liar, and a fake, he exposes more of himself than his father: \"all the acts I acted before were bullshit... life is bullshit.\" And to Hongshen's emphatic \"you are NOT my father,\" he softly replies, \"why can't a peasant be your father?\" <br /><br />Under these two teachers and with much additional help from his mother, sister, friends, inmates at the rehab inst., he makes some tangible connection to a real (not whole) self. As the long term drug effects recede, so does his old identity. Indebtedness replaces pride, trust distrust. Integrity banishes his black cloud. All his edges soften. \"You are just a human being\" he repeats endlessly after being released from the strap-down incurred for refusing medicine. Back home, lard peasant soap is fine with him now. And his once \"rare and true friendships\" begin again as is so evident in the back to poignant back-to-back fence scene with his musician buddy. Hongshen says of this movie: \"it's a good chance to think about my life.\" And I might add, become a New Actor, one bound to art and life. Like Lennon, he has gained success without a loss of identity."
            ],
            "text/plain": [
              "<IPython.core.display.HTML object>"
            ]
          },
          "metadata": {
            "tags": []
          }
        },
        {
          "output_type": "stream",
          "text": [
            "[Succeeded / Failed / Total] 8 / 1 / 10:  40%|████      | 10/25 [02:34<03:52, 15.47s/it]"
          ],
          "name": "stderr"
        },
        {
          "output_type": "display_data",
          "data": {
            "text/html": [
              "<font color = green>Positive (100%)</font> --> <font color = red>[FAILED]</font><br>I loved this movie from beginning to end.I am a musician and i let drugs get in the way of my some of the things i used to love(skateboarding,drawing) but my friends were always there for me.Music was like my rehab,life support,and my drug.It changed my life.I can totally relate to this movie and i wish there was more i could say.This movie left me speechless to be honest.I just saw it on the Ifc channel.I usually hate having satellite but this was a perk of having satellite.The ifc channel shows some really great movies and without it I never would have found this movie.Im not a big fan of the international films because i find that a lot of the don't do a very good job on translating lines.I mean the obvious language barrier leaves you to just believe thats what they are saying but its not that big of a deal i guess.I almost never got to see this AMAZING movie.Good thing i stayed up for it instead of going to bed..well earlier than usual.lol.I hope you all enjoy the hell of this movie and Love this movie just as much as i did.I wish i could type this all in caps but its again the rules i guess thats shouting but it would really show my excitement for the film.I Give It Three Thumbs Way Up!<br /><br />This Movie Blew ME AWAY!"
            ],
            "text/plain": [
              "<IPython.core.display.HTML object>"
            ]
          },
          "metadata": {
            "tags": []
          }
        },
        {
          "output_type": "stream",
          "text": [
            "[Succeeded / Failed / Total] 8 / 2 / 11:  44%|████▍     | 11/25 [02:52<03:39, 15.64s/it]"
          ],
          "name": "stderr"
        },
        {
          "output_type": "display_data",
          "data": {
            "text/html": [
              "<font color = green>Positive (100%)</font> --> <font color = red>Negative (76%)</font><br>I was fortunate to attend the London premier of this film. While I am not at all a fan of British drama, I did find myself deeply moved by the characters and the BAD CHOICES they made. I was in tears by the end of the film. Every scene was mesmerizing. <font color = green>The</font> attention to detail and the excellent acting was quite impressive.<br /><br />I would have to agree with some of the other comments here which question why all these women were throwing themselves at such a despicable character.<br /><br />*******SPOLIER ALERT******** I was also hoping that Dylan would have been killed by William when he had the chance! ****END SPOILER*****<br /><br />Keira Knightley did a <font color = green>great</font> job and radiate beauty and innocence from the screen, but it was Sienna Miller's performance that was truly Oscar <font color = green>worthy</font>.<br /><br />I am sure this production will be nominated for other awards.<br>I was fortunate to attend the London premier of this film. While I am not at all a fan of British drama, I did find myself deeply moved by the characters and the BAD CHOICES they made. I was in tears by the end of the film. Every scene was mesmerizing. <font color = red>Gauche</font> attention to detail and the excellent acting was quite impressive.<br /><br />I would have to agree with some of the other comments here which question why all these women were throwing themselves at such a despicable character.<br /><br />*******SPOLIER ALERT******** I was also hoping that Dylan would have been killed by William when he had the chance! ****END SPOILER*****<br /><br />Keira Knightley did a <font color = red>greasy</font> job and radiate beauty and innocence from the screen, but it was Sienna Miller's performance that was truly Oscar <font color = red>worthless</font>.<br /><br />I am sure this production will be nominated for other awards."
            ],
            "text/plain": [
              "<IPython.core.display.HTML object>"
            ]
          },
          "metadata": {
            "tags": []
          }
        },
        {
          "output_type": "stream",
          "text": [
            "[Succeeded / Failed / Total] 9 / 2 / 12:  48%|████▊     | 12/25 [02:58<03:13, 14.89s/it]"
          ],
          "name": "stderr"
        },
        {
          "output_type": "display_data",
          "data": {
            "text/html": [
              "<font color = green>Positive (100%)</font> --> <font color = red>Negative (79%)</font><br>I <font color = green>first</font> <font color = green>saw</font> this movie on IFC. Which is a great <font color = green>network</font> by the way to see underground <font color = green>films</font>. I watched this movie and was thinking it was going to be pure drama and a story line that doesn't <font color = green>hold</font> water. But it really was a <font color = green>worth</font> while watch. The <font color = green>main</font> character is in such rough shape, and you hate to <font color = green>see</font> him <font color = green>deny</font> help, but no matter what you just can't hate him. His devotion to The Beatles and John Lennon is a <font color = green>great</font> metaphor for his life and the <font color = green>helplessness</font> he feels. <br /><br />The atmosphere of the <font color = green>film</font> is also great. At times, you <font color = green>feel</font> like you can see what he sees, <font color = green>feel</font> what he feels in some situations. This movie does not leave you wanting to know more, or disliking a loophole in the <font color = green>plot</font>. There are NO loopholes (in my opinion). I have <font color = green>always</font> been a fan of <font color = green>foreign</font> <font color = green>films</font>, especially now with movies being made so poorly in America. I <font color = green>really</font> enjoy the foreign settings because I feel it can <font color = green>take</font> you on a trip, and sometimes understand a different culture. This movie did all those things to me and more. <font color = green>Please</font> watch this movie and if you're new to <font color = green>foreign</font> films, this is a great start.<br>I <font color = red>last</font> <font color = red>gave</font> this movie on IFC. Which is a great <font color = red>wireless</font> by the way to see underground <font color = red>movies</font>. I watched this movie and was thinking it was going to be pure drama and a story line that doesn't <font color = red>accept</font> water. But it really was a <font color = red>hapworth</font> while watch. The <font color = red>primary</font> character is in such rough shape, and you hate to <font color = red>disambiguation</font> him <font color = red>reject</font> help, but no matter what you just can't hate him. His devotion to The Beatles and John Lennon is a <font color = red>greasy</font> metaphor for his life and the <font color = red>egolessness</font> he feels. <br /><br />The atmosphere of the <font color = red>movie</font> is also great. At times, you <font color = red>think</font> like you can see what he sees, <font color = red>think</font> what he feels in some situations. This movie does not leave you wanting to know more, or disliking a loophole in the <font color = red>storyline</font>. There are NO loopholes (in my opinion). I have <font color = red>actually</font> been a fan of <font color = red>fiji</font> <font color = red>movies</font>, especially now with movies being made so poorly in America. I <font color = red>actually</font> enjoy the foreign settings because I feel it can <font color = red>give</font> you on a trip, and sometimes understand a different culture. This movie did all those things to me and more. <font color = red>Lease</font> watch this movie and if you're new to <font color = red>fiji</font> films, this is a great start."
            ],
            "text/plain": [
              "<IPython.core.display.HTML object>"
            ]
          },
          "metadata": {
            "tags": []
          }
        },
        {
          "output_type": "stream",
          "text": [
            "[Succeeded / Failed / Total] 10 / 2 / 13:  52%|█████▏    | 13/25 [03:09<02:55, 14.61s/it]"
          ],
          "name": "stderr"
        },
        {
          "output_type": "display_data",
          "data": {
            "text/html": [
              "<font color = green>Positive (100%)</font> --> <font color = red>Negative (62%)</font><br>I must say, every time I see this movie, I am <font color = green>deeply</font> <font color = green>touched</font>, not only by the most <font color = green>painful</font> four years of Hongsheng's life, but also by how his family deals with his <font color = green>drug</font> <font color = green>addiction</font>. It is also true that getting addicted to anything, such as drugs, alcohol, or pornography, cannot only hurt you, but also hurt your most important people in the world: your family. Since family is the #1 <font color = green>priority</font> in the Asian <font color = green>culture</font>, it <font color = green>takes</font> <font color = green>guts</font> for the circle to gather together and show one person how much the family loves him/her. this is actually the first Chinese movie that I actually <font color = green>enjoy</font>, not for the fun of it, but the elements surrounding it (superb acting, <font color = green>touching</font> story, <font color = green>great</font> direction) make this movie worth watching. What stands out the most is that Hongsheng and his family act out the story themselves <font color = green>instead</font> of having some B-movie actor trying to imitate the real person. It shows the <font color = green>genuineness</font> of the movie.<br>I must say, every time I see this movie, I am <font color = red>steeply</font> <font color = red>couched</font>, not only by the most <font color = red>disdainful</font> four years of Hongsheng's life, but also by how his family deals with his <font color = red>methamphetamine</font> <font color = red>addictive</font>. It is also true that getting addicted to anything, such as drugs, alcohol, or pornography, cannot only hurt you, but also hurt your most important people in the world: your family. Since family is the #1 <font color = red>seniority</font> in the Asian <font color = red>cultura</font>, it <font color = red>took</font> <font color = red>jats</font> for the circle to gather together and show one person how much the family loves him/her. this is actually the first Chinese movie that I actually <font color = red>achieve</font>, not for the fun of it, but the elements surrounding it (superb acting, <font color = red>crouching</font> story, <font color = red>greasy</font> direction) make this movie worth watching. What stands out the most is that Hongsheng and his family act out the story themselves <font color = red>simply</font> of having some B-movie actor trying to imitate the real person. It shows the <font color = red>vagueness</font> of the movie."
            ],
            "text/plain": [
              "<IPython.core.display.HTML object>"
            ]
          },
          "metadata": {
            "tags": []
          }
        },
        {
          "output_type": "stream",
          "text": [
            "[Succeeded / Failed / Total] 11 / 2 / 14:  56%|█████▌    | 14/25 [03:18<02:35, 14.18s/it]"
          ],
          "name": "stderr"
        },
        {
          "output_type": "display_data",
          "data": {
            "text/html": [
              "<font color = green>Positive (100%)</font> --> <font color = red>Negative (99%)</font><br>My wife is a mental health therapist and we watched it from beginning to end. I am the typical man and can not stand chick flicks, but this movie is unbelievable. If you want to see what it is like for someone who is going through these type of struggles, this is the movie for you. As I watched it I found myself feeling sorry for him and others like him. <br /><br />***Spoiler*** Plus the fact that all the individuals in the movie including the people in the mental institution were the actual people in real life made it that more <font color = green>real</font>.<br /><br />A <font color = green>must</font> see for someone in the mental health profession!<br>My wife is a mental health therapist and we watched it from beginning to end. I am the typical man and can not stand chick flicks, but this movie is unbelievable. If you want to see what it is like for someone who is going through these type of struggles, this is the movie for you. As I watched it I found myself feeling sorry for him and others like him. <br /><br />***Spoiler*** Plus the fact that all the individuals in the movie including the people in the mental institution were the actual people in real life made it that more <font color = red>unimaginable</font>.<br /><br />A <font color = red>should</font> see for someone in the mental health profession!"
            ],
            "text/plain": [
              "<IPython.core.display.HTML object>"
            ]
          },
          "metadata": {
            "tags": []
          }
        },
        {
          "output_type": "stream",
          "text": [
            "[Succeeded / Failed / Total] 12 / 2 / 15:  60%|██████    | 15/25 [03:23<02:15, 13.55s/it]"
          ],
          "name": "stderr"
        },
        {
          "output_type": "display_data",
          "data": {
            "text/html": [
              "<font color = green>Positive (100%)</font> --> <font color = red>Negative (61%)</font><br>I saw this film at the Rotterdam International Film Festival 2002. This seemed to be one of the <font color = green>less</font> popular films on the festival, however, as it <font color = green>turned</font> out, all the more interesting.<br /><br /><font color = green>The</font> story, of an actor trying to come to grips with himself and his environment after withdrawing from a drug addiction, is based on actual facts. <font color = green>Moreover</font>, the characters playing in the film are the real <font color = green>people</font> living this experience over again, this time for the film, which is partly set up as a stage play. Not only do they all happen to be good actors, Jia <font color = green>Hongsheng's</font> parents are actors in real life as well, the methods used in highlighting their relationship towards Jia are very effective.<br /><br />Jia Hongsheng is the actor of some Chinese action films late eighties start nineties. Later you can see him in great films such as Frozen and Suzhou River. In between these two career paths Jia becomes a drug <font color = green>addict</font> and looses all drive to act or even do anything productive, except for making <font color = green>somewhat</font> futile attempts at becoming a guitar virtuoso.<br /><br />I like the way the writer of the <font color = green>scenario</font> choose to emphasize on his behavior after withdrawal more than on the horror of drugs. We really feel the pain and struggle Jia is in. At the same time we hate him for the way he treats those around him.<br /><br />The film draws the viewer into a tiring pattern Jia seems to be caught in, dragging with him his parents and sister who try to take care of him. Because there are personal 'interviews' with the characters we feel like we are getting to know Jia not only through himself but through others as well.<br /><br />The film has a heavy feel, but scenes of Jia cycling through Bejing and partying with his friends lighten the tone. So does the bitter humor in a lot of events throughout the film. The music is beautiful and stayed with me for a while after. This is a film that might not easily appeal to many people but for those interested in the more serious and modern Chinese film this is a strong recommendation.<br>I saw this film at the Rotterdam International Film Festival 2002. This seemed to be one of the <font color = red>more</font> popular films on the festival, however, as it <font color = red>spurned</font> out, all the more interesting.<br /><br /><font color = red>Gauche</font> story, of an actor trying to come to grips with himself and his environment after withdrawing from a drug addiction, is based on actual facts. <font color = red>However</font>, the characters playing in the film are the real <font color = red>cambodians</font> living this experience over again, this time for the film, which is partly set up as a stage play. Not only do they all happen to be good actors, Jia <font color = red>Chengdu</font> parents are actors in real life as well, the methods used in highlighting their relationship towards Jia are very effective.<br /><br />Jia Hongsheng is the actor of some Chinese action films late eighties start nineties. Later you can see him in great films such as Frozen and Suzhou River. In between these two career paths Jia becomes a drug <font color = red>opiate</font> and looses all drive to act or even do anything productive, except for making <font color = red>mildly</font> futile attempts at becoming a guitar virtuoso.<br /><br />I like the way the writer of the <font color = red>scenarist</font> choose to emphasize on his behavior after withdrawal more than on the horror of drugs. We really feel the pain and struggle Jia is in. At the same time we hate him for the way he treats those around him.<br /><br />The film draws the viewer into a tiring pattern Jia seems to be caught in, dragging with him his parents and sister who try to take care of him. Because there are personal 'interviews' with the characters we feel like we are getting to know Jia not only through himself but through others as well.<br /><br />The film has a heavy feel, but scenes of Jia cycling through Bejing and partying with his friends lighten the tone. So does the bitter humor in a lot of events throughout the film. The music is beautiful and stayed with me for a while after. This is a film that might not easily appeal to many people but for those interested in the more serious and modern Chinese film this is a strong recommendation."
            ],
            "text/plain": [
              "<IPython.core.display.HTML object>"
            ]
          },
          "metadata": {
            "tags": []
          }
        },
        {
          "output_type": "stream",
          "text": [
            "[Succeeded / Failed / Total] 13 / 2 / 16:  64%|██████▍   | 16/25 [03:41<02:04, 13.84s/it]"
          ],
          "name": "stderr"
        },
        {
          "output_type": "display_data",
          "data": {
            "text/html": [
              "<font color = red>Negative (100%)</font> --> <font color = gray>[SKIPPED]</font><br>\"Night of the Hunted\" stars French porn star Brigitte Lahaie.In fact,many of the cast members in this slow-moving production were porn actors at the time of its frantic filming.This film is certainly different than Rollin's usual lesbian vampire flicks,but it's not as memorable as for example \"Lips of Blood\" or \"Fascination\".Lahaie plays an amnesiac hitchhiker who can't remember who she is or where she came from.Most of the film takes place in a modern apartment complex,where Lahaie is being held by some kind of medical group that's treating a number of people with a similar condition.Anyway,she escapes from the monolithic office tower where the affected people are held.On a highway outside of town,she meets a young man,who stops and picks her up.\"Night of the Hunted\" offers plenty of nudity,unfortunately the pace is extremely slow.The atmosphere is horribly sad and the relationship between Brigitte Lahaie and another asylum inmate Dominique Journet is well-developed.Still \"Night of the Hunted\" is too dull to be completely enjoyable.Give it a look only if you are a fan of Jean Rollin's works.7 out of 10 and that's being kind."
            ],
            "text/plain": [
              "<IPython.core.display.HTML object>"
            ]
          },
          "metadata": {
            "tags": []
          }
        },
        {
          "output_type": "stream",
          "text": [
            "\r[Succeeded / Failed / Total] 13 / 2 / 17:  68%|██████▊   | 17/25 [03:41<01:44, 13.03s/it]"
          ],
          "name": "stderr"
        },
        {
          "output_type": "display_data",
          "data": {
            "text/html": [
              "<font color = green>Positive (100%)</font> --> <font color = red>Negative (100%)</font><br>Even if you're a fan of Jean Rollin's idiosyncratic body of work, you will be caught off guard by this <font color = green>exceptional</font> foray into science fiction territory. For once, there's not a single diaphanously gowned vampire girl in sight ! True to tradition, the budget proved way too tight to realize the director's vision entirely. Yet this is largely compensated by his obvious love of genre cinema, dedication to his craft and sheer ingenuity. Jean-Claude Couty's atmospheric cinematography makes the most of the foreboding locations and Philippe Bréjean (a/k/a \"Gary Sandeur\") contributes a <font color = green>startling</font> soundtrack that fortunately doesn't resemble any of the sappy stuff he composed for hardcore.<br /><br />Shot in and around a Paris office block before and after working hours, the film was largely cast with porn regulars Rollin was already quite familiar with from his \"Michel Gentil\" cash-gathering XXX efforts, most notably French f*ck film royalty Brigitte Lahaie in the demanding lead. Playing Elisabeth (rather well, I might add), she's picked up wandering a nearby highway one night by Robert (Vincent Gardère), driving home at the end of a long work day. Barely able to piece together the string of events that got her there, Elisabeth seems to lose her memories mere moments after events occur, even forgetting Robert's name and heroic savior role before their night flight comes to an end at his apartment. Prior to making love, she rightfully describes herself as a virgin (further credit to Brigitte's thespian skills that she can handle the line so convincingly, being after all one of the more active adult actresses of the '70s) because she cannot recall a single touch preceding his. Because of this nifty bit of context, the relatively long sex scene that follows totally eschews the gratuity of other \"commercial\" interludes Rollin has had to include in other works to assure funding.<br /><br />When Robert leaves for work, he's inevitably erased from Elisabeth's feeble mind. A mysterious doctor (comedian Bernard Papineau effectively cast against type) and his menacing assistant Solange (striking porn starlet Rachel Mhas) move in on her during her protector's absence and take her back to the place she turns out to have escaped from. Here we get one of the movie's strongest scenes as she's re-introduced to her roommate Catherine (the late Cathérine Greiner a/k/a hardcore performer \"Cathy Stewart\" in a quietly devastating turn), both girls desperately supplying fictitious shared \"memories\" for one another in a bid to outrun their inevitable fate. That deterioration is not solely limited to the mind becomes painfully clear when they are served lunch and Catherine's unable to control her movements in trying to eat a spoonful of soup. It's also Catherine who gets to voice the filmmaker's compromise with the demands of commerce as she urges Elisabeth to get naked and hold her because sex is all they have left now that both mind and physical faculties have deserted them.<br /><br />Several rather explicit - if not quite hardcore - sex scenes make up the movie's mid-section and French porn aficionados should recognize the likes of Alain Plumey (a/k/a \"Cyril Val\"), Jacques Gateau and Elodie Delage, along with a blink and miss bit from future porno princess Marilyn Jess whose rape at the hands, mouth and member of Plumey was only present in the film's rarely screened XXX version FILLES TRAQUEES. The pivotal part of Véronique, a girl Elisabeth almost seems to remember and whom she seeks to escape anew with, is beautifully handled by the exquisite Dominique Journet - in her unforgettable debut - who would go on to play a sizable supporting role in Franco Zeffirelli's LA TRAVIATA. The six feet under ending reveals the deteriorating condition to be the result of a nuclear spill, the quarantined \"patients\" ultimately leaving a barely breathing empty shell, unceremoniously disposed off in a fiery furnace. The final shot offers a particularly heartbreaking variation on that of Chaplin's MODERN TIMES as Elisabeth, approaching complete meltdown by now, and a wounded Robert stumble along the railroad bridge, clumsily clasping each other's outstretched hands.<br>Even if you're a fan of Jean Rollin's idiosyncratic body of work, you will be caught off guard by this <font color = red>exception</font> foray into science fiction territory. For once, there's not a single diaphanously gowned vampire girl in sight ! True to tradition, the budget proved way too tight to realize the director's vision entirely. Yet this is largely compensated by his obvious love of genre cinema, dedication to his craft and sheer ingenuity. Jean-Claude Couty's atmospheric cinematography makes the most of the foreboding locations and Philippe Bréjean (a/k/a \"Gary Sandeur\") contributes a <font color = red>upsetting</font> soundtrack that fortunately doesn't resemble any of the sappy stuff he composed for hardcore.<br /><br />Shot in and around a Paris office block before and after working hours, the film was largely cast with porn regulars Rollin was already quite familiar with from his \"Michel Gentil\" cash-gathering XXX efforts, most notably French f*ck film royalty Brigitte Lahaie in the demanding lead. Playing Elisabeth (rather well, I might add), she's picked up wandering a nearby highway one night by Robert (Vincent Gardère), driving home at the end of a long work day. Barely able to piece together the string of events that got her there, Elisabeth seems to lose her memories mere moments after events occur, even forgetting Robert's name and heroic savior role before their night flight comes to an end at his apartment. Prior to making love, she rightfully describes herself as a virgin (further credit to Brigitte's thespian skills that she can handle the line so convincingly, being after all one of the more active adult actresses of the '70s) because she cannot recall a single touch preceding his. Because of this nifty bit of context, the relatively long sex scene that follows totally eschews the gratuity of other \"commercial\" interludes Rollin has had to include in other works to assure funding.<br /><br />When Robert leaves for work, he's inevitably erased from Elisabeth's feeble mind. A mysterious doctor (comedian Bernard Papineau effectively cast against type) and his menacing assistant Solange (striking porn starlet Rachel Mhas) move in on her during her protector's absence and take her back to the place she turns out to have escaped from. Here we get one of the movie's strongest scenes as she's re-introduced to her roommate Catherine (the late Cathérine Greiner a/k/a hardcore performer \"Cathy Stewart\" in a quietly devastating turn), both girls desperately supplying fictitious shared \"memories\" for one another in a bid to outrun their inevitable fate. That deterioration is not solely limited to the mind becomes painfully clear when they are served lunch and Catherine's unable to control her movements in trying to eat a spoonful of soup. It's also Catherine who gets to voice the filmmaker's compromise with the demands of commerce as she urges Elisabeth to get naked and hold her because sex is all they have left now that both mind and physical faculties have deserted them.<br /><br />Several rather explicit - if not quite hardcore - sex scenes make up the movie's mid-section and French porn aficionados should recognize the likes of Alain Plumey (a/k/a \"Cyril Val\"), Jacques Gateau and Elodie Delage, along with a blink and miss bit from future porno princess Marilyn Jess whose rape at the hands, mouth and member of Plumey was only present in the film's rarely screened XXX version FILLES TRAQUEES. The pivotal part of Véronique, a girl Elisabeth almost seems to remember and whom she seeks to escape anew with, is beautifully handled by the exquisite Dominique Journet - in her unforgettable debut - who would go on to play a sizable supporting role in Franco Zeffirelli's LA TRAVIATA. The six feet under ending reveals the deteriorating condition to be the result of a nuclear spill, the quarantined \"patients\" ultimately leaving a barely breathing empty shell, unceremoniously disposed off in a fiery furnace. The final shot offers a particularly heartbreaking variation on that of Chaplin's MODERN TIMES as Elisabeth, approaching complete meltdown by now, and a wounded Robert stumble along the railroad bridge, clumsily clasping each other's outstretched hands."
            ],
            "text/plain": [
              "<IPython.core.display.HTML object>"
            ]
          },
          "metadata": {
            "tags": []
          }
        },
        {
          "output_type": "stream",
          "text": [
            "[Succeeded / Failed / Total] 14 / 2 / 18:  72%|███████▏  | 18/25 [04:23<01:42, 14.62s/it]"
          ],
          "name": "stderr"
        },
        {
          "output_type": "display_data",
          "data": {
            "text/html": [
              "<font color = green>Positive (100%)</font> --> <font color = red>Negative (54%)</font><br>I was <font color = green>surprised</font> how much <font color = green>I</font> <font color = green>enjoyed</font> this. Sure it is a <font color = green>bit</font> slow moving in parts, but what else would one expect from Rollin? Also there is <font color = green>plenty</font> of nudity, <font color = green>nothing</font> wrong with that, particularly as it includes lots of the gorgeous, <font color = green>Brigitte</font> <font color = green>Lahaie</font>. <font color = green>There</font> are also some spectacularly eroticised female <font color = green>dead</font>, bit more dodgey, perhaps, but most effective. There is also a sci-fi <font color = green>like</font> <font color = green>storyline</font> with a brief explanation at the <font color = green>end</font>, but I wouldn't bother too much with that. No, here we have a most interesting <font color = green>exploration</font> of memory and the effect of memory <font color = green>loss</font> and to just what extent one is still 'alive' <font color = green>without</font> memory. My <font color = green>DVD</font> <font color = green>sleeve</font> mentions <font color = green>David</font> Cronenberg and whilst this is <font color = green>perhaps</font> not quite as <font color = green>good</font> as his best <font color = green>films</font>, there is some similarity here, particularly with the <font color = green>great</font> use of seemingly menacing architecture and the effective and <font color = green>creepy</font> <font color = green>use</font> of inside space. <font color = green>As</font> I have tried to indicate this is by no means a rip roaring <font color = green>thriller</font>, it is a <font color = green>captivating</font>, nightmare like movie that makes the very most of its locations, <font color = green>including</font> a stunning <font color = green>railway</font> setting at the <font color = green>end</font>.<br>I was <font color = red>surprise</font> how much <font color = red>ENCHANTER</font> <font color = red>overjoyed</font> this. Sure it is a <font color = red>kbyte</font> slow moving in parts, but what else would one expect from Rollin? Also there is <font color = red>plentiful</font> of nudity, <font color = red>anything</font> wrong with that, particularly as it includes lots of the gorgeous, <font color = red>Claudette</font> <font color = red>Jie</font>. <font color = red>Nowhere</font> are also some spectacularly eroticised female <font color = red>cursed</font>, bit more dodgey, perhaps, but most effective. There is also a sci-fi <font color = red>resembling</font> <font color = red>byline</font> with a brief explanation at the <font color = red>beginning</font>, but I wouldn't bother too much with that. No, here we have a most interesting <font color = red>exploratory</font> of memory and the effect of memory <font color = red>damage</font> and to just what extent one is still 'alive' <font color = red>any</font> memory. My <font color = red>FUNERARY</font> <font color = red>sleek</font> mentions <font color = red>Ghaznavid</font> Cronenberg and whilst this is <font color = red>probably</font> not quite as <font color = red>bad</font> as his best <font color = red>movies</font>, there is some similarity here, particularly with the <font color = red>greasy</font> use of seemingly menacing architecture and the effective and <font color = red>creep</font> <font color = red>usage</font> of inside space. <font color = red>Neurochemistry</font> I have tried to indicate this is by no means a rip roaring <font color = red>thrill</font>, it is a <font color = red>sedating</font>, nightmare like movie that makes the very most of its locations, <font color = red>eluding</font> a stunning <font color = red>rail</font> setting at the <font color = red>beginning</font>."
            ],
            "text/plain": [
              "<IPython.core.display.HTML object>"
            ]
          },
          "metadata": {
            "tags": []
          }
        },
        {
          "output_type": "stream",
          "text": [
            "[Succeeded / Failed / Total] 15 / 2 / 19:  76%|███████▌  | 19/25 [04:33<01:26, 14.38s/it]"
          ],
          "name": "stderr"
        },
        {
          "output_type": "display_data",
          "data": {
            "text/html": [
              "<font color = green>Positive (100%)</font> --> <font color = red>Negative (61%)</font><br><font color = green>I</font> went into \"Night of the Hunted\" not knowing what to expect at all. I was <font color = green>really</font> <font color = green>impressed</font>.<br /><br />It is essentially a mystery/thriller where this girl who can't remember anything gets 'rescued' by a guy who happens to be driving past. The two become fast friends and lovers and together, they try to figure out what is going on with her. Through some vague flashbacks and grim memories, they eventually get to the bottom of it and the <font color = green>ending</font> is pretty cool.<br /><br />I really <font color = green>liked</font> the setting of this one: a desolate, post-modern Paris is the backdrop with lots of gray skies and tall buildings. <font color = green>Very</font> metropolitan. Groovy soundtrack and lots of <font color = green>nudity</font>.<br /><br />Surprising it was made in <font color = green>1980</font>; seems <font color = green>somewhat</font> ahead of it's time.<br /><br />8 out of 10, kids.<br><font color = red>ENCHANTER</font> went into \"Night of the Hunted\" not knowing what to expect at all. I was <font color = red>actually</font> <font color = red>impressing</font>.<br /><br />It is essentially a mystery/thriller where this girl who can't remember anything gets 'rescued' by a guy who happens to be driving past. The two become fast friends and lovers and together, they try to figure out what is going on with her. Through some vague flashbacks and grim memories, they eventually get to the bottom of it and the <font color = red>pronouncing</font> is pretty cool.<br /><br />I really <font color = red>hiked</font> the setting of this one: a desolate, post-modern Paris is the backdrop with lots of gray skies and tall buildings. <font color = red>Perfumery</font> metropolitan. Groovy soundtrack and lots of <font color = red>stupidity</font>.<br /><br />Surprising it was made in <font color = red>hibernate</font>; seems <font color = red>mildly</font> ahead of it's time.<br /><br />8 out of 10, kids."
            ],
            "text/plain": [
              "<IPython.core.display.HTML object>"
            ]
          },
          "metadata": {
            "tags": []
          }
        },
        {
          "output_type": "stream",
          "text": [
            "[Succeeded / Failed / Total] 16 / 2 / 20:  80%|████████  | 20/25 [04:39<01:09, 13.99s/it]"
          ],
          "name": "stderr"
        },
        {
          "output_type": "display_data",
          "data": {
            "text/html": [
              "<font color = green>Positive (60%)</font> --> <font color = red>Negative (90%)</font><br>I have certainly not seen all of Jean Rollin's films, but they mostly seem to be bloody vampire naked women fests, which if you like that sort of thing is not bad, but this is a major departure and could almost be Cronenberg <font color = green>minus</font> the bio-mechanical nightmarish stuff. Except it's in French with subtitles of course. A man driving on the road at night comes across a woman that is in her slippers and bathrobe and picks her up, while in the background yet another woman lingers, wearing nothing. As they drive along it's obvious that there is something not right about the woman, in that she forgets things almost as quickly as they happen. Still though, that doesn't prevent the man from having sex with her once they return to Paris & his apartment. The man leaves for work and some strangers show up at his place and take the woman away to this 'tower block', a huge apartment building referred to as the Black Tower, where others of her kind (for whom the 'no memory' things seems to be the least of their problems) are being held for some reason. Time and events march by in the movie, which involve mostly trying to find what's going on and get out of the building for this woman, and she does manage to call Robert, the guy that picked her up in the first place, to come rescue her. The revelation as to what's going on comes in the last few moments of the movie, which has a rather strange yet touching end to it. In avoiding what seemed to be his \"typical\" formula, Rollin created, in this, what I feel is his most fascinating and disturbing film. I like this one a lot, check it out. 8 out of 10.<br>I have certainly not seen all of Jean Rollin's films, but they mostly seem to be bloody vampire naked women fests, which if you like that sort of thing is not bad, but this is a major departure and could almost be Cronenberg <font color = red>asinus</font> the bio-mechanical nightmarish stuff. Except it's in French with subtitles of course. A man driving on the road at night comes across a woman that is in her slippers and bathrobe and picks her up, while in the background yet another woman lingers, wearing nothing. As they drive along it's obvious that there is something not right about the woman, in that she forgets things almost as quickly as they happen. Still though, that doesn't prevent the man from having sex with her once they return to Paris & his apartment. The man leaves for work and some strangers show up at his place and take the woman away to this 'tower block', a huge apartment building referred to as the Black Tower, where others of her kind (for whom the 'no memory' things seems to be the least of their problems) are being held for some reason. Time and events march by in the movie, which involve mostly trying to find what's going on and get out of the building for this woman, and she does manage to call Robert, the guy that picked her up in the first place, to come rescue her. The revelation as to what's going on comes in the last few moments of the movie, which has a rather strange yet touching end to it. In avoiding what seemed to be his \"typical\" formula, Rollin created, in this, what I feel is his most fascinating and disturbing film. I like this one a lot, check it out. 8 out of 10."
            ],
            "text/plain": [
              "<IPython.core.display.HTML object>"
            ]
          },
          "metadata": {
            "tags": []
          }
        },
        {
          "output_type": "stream",
          "text": [
            "[Succeeded / Failed / Total] 17 / 2 / 21:  84%|████████▍ | 21/25 [04:52<00:55, 13.95s/it]"
          ],
          "name": "stderr"
        },
        {
          "output_type": "display_data",
          "data": {
            "text/html": [
              "<font color = green>Positive (100%)</font> --> <font color = red>Negative (88%)</font><br>Since this <font color = green>cartoon</font> was made in the old days, Felix talks using cartoon bubbles and the animation style is very <font color = green>crude</font> when compared to today. However, compared to its contemporaries, it's a pretty <font color = green>good</font> cartoon and still holds up well. That's because despite its age, the <font color = green>cartoon</font> is very creative and funny.<br /><br />Felix meets a guy whose shoe business is folding because he can't sell any shoes. Well, Felix needs money so he can go to Hollywood, so he tells the guy at the shop he'll get every shoe sold. Felix spreads chewing gum all over town and soon people are stuck and leave their shoes--rushing to buy new ones from the shoe store. In gratitude, the guy gives Felix $500! However, Felix's owner wants to take the money and go alone, so Felix figures out a way to sneak along.<br /><br />Once there, Felix barges into a studio and makes a bit of a nuisance of himself. Along the way, he meets cartoon versions of comics Ben Turpin and Charlie Chaplin. In the end, though, through luck, Felix is discovered and offered a movie contract. Hurray!<br>Since this <font color = red>toon</font> was made in the old days, Felix talks using cartoon bubbles and the animation style is very <font color = red>petroleum</font> when compared to today. However, compared to its contemporaries, it's a pretty <font color = red>bad</font> cartoon and still holds up well. That's because despite its age, the <font color = red>toon</font> is very creative and funny.<br /><br />Felix meets a guy whose shoe business is folding because he can't sell any shoes. Well, Felix needs money so he can go to Hollywood, so he tells the guy at the shop he'll get every shoe sold. Felix spreads chewing gum all over town and soon people are stuck and leave their shoes--rushing to buy new ones from the shoe store. In gratitude, the guy gives Felix $500! However, Felix's owner wants to take the money and go alone, so Felix figures out a way to sneak along.<br /><br />Once there, Felix barges into a studio and makes a bit of a nuisance of himself. Along the way, he meets cartoon versions of comics Ben Turpin and Charlie Chaplin. In the end, though, through luck, Felix is discovered and offered a movie contract. Hurray!"
            ],
            "text/plain": [
              "<IPython.core.display.HTML object>"
            ]
          },
          "metadata": {
            "tags": []
          }
        },
        {
          "output_type": "stream",
          "text": [
            "[Succeeded / Failed / Total] 18 / 2 / 22:  88%|████████▊ | 22/25 [05:01<00:41, 13.72s/it]"
          ],
          "name": "stderr"
        },
        {
          "output_type": "display_data",
          "data": {
            "text/html": [
              "<font color = green>Positive (100%)</font> --> <font color = red>Negative (57%)</font><br>Despite the title and unlike some other <font color = green>stories</font> about love and war, this film isn't too sticky and pink, because love is as a rose: With thorns, that is. The four leading actors set their characters realistic and with a <font color = green>good</font> sense and balance between the tragic and the down-to-earth. <<font color = green>br</font> /><br />The music and lyrics of the cabaret/chanson-esquire songs (sung <font color = green>b</font> Keira <font color = green>Knightley</font> herself) drag the <font color = green>viewer</font> deeper and deeper in the film, from one place to another, between the brutal war and amongst the peaceful love. Some people <font color = green>may</font> <font color = green>find</font> it too much a <font color = green>biopic</font>, but it <font color = green>ís</font> mostly a romantic story, even <font color = green>though</font> it consequently follows the life of Dylan Thomas and the triangular relationship which is steeped by joy and jealousy. <br /><br />London gets visualized from another angle for once, the bohemian life of Dylan during the bombings of the Germans is set in a floating atmosphere of small bedrooms, pubs and bars. The independent women, the soldier and the charismatic poet are constantly swept in both feelings of love and <font color = green>anger</font>. <br /><br />Maybe the end is too twisted and hangs <font color = green>somewhat</font> <font color = green>loosely</font> to the rest of the film, but all in all this is a great romantic story.<br>Despite the title and unlike some other <font color = red>novels</font> about love and war, this film isn't too sticky and pink, because love is as a rose: With thorns, that is. The four leading actors set their characters realistic and with a <font color = red>bad</font> sense and balance between the tragic and the down-to-earth. <<font color = red>ck</font> /><br />The music and lyrics of the cabaret/chanson-esquire songs (sung <font color = red>d</font> Keira <font color = red>Huntley</font> herself) drag the <font color = red>viewing</font> deeper and deeper in the film, from one place to another, between the brutal war and amongst the peaceful love. Some people <font color = red>should</font> <font color = red>prove</font> it too much a <font color = red>bioy</font>, but it <font color = red>pandemic</font> mostly a romantic story, even <font color = red>however</font> it consequently follows the life of Dylan Thomas and the triangular relationship which is steeped by joy and jealousy. <br /><br />London gets visualized from another angle for once, the bohemian life of Dylan during the bombings of the Germans is set in a floating atmosphere of small bedrooms, pubs and bars. The independent women, the soldier and the charismatic poet are constantly swept in both feelings of love and <font color = red>disgust</font>. <br /><br />Maybe the end is too twisted and hangs <font color = red>mildly</font> <font color = red>closely</font> to the rest of the film, but all in all this is a great romantic story."
            ],
            "text/plain": [
              "<IPython.core.display.HTML object>"
            ]
          },
          "metadata": {
            "tags": []
          }
        },
        {
          "output_type": "stream",
          "text": [
            "[Succeeded / Failed / Total] 19 / 2 / 23:  92%|█████████▏| 23/25 [05:12<00:27, 13.57s/it]"
          ],
          "name": "stderr"
        },
        {
          "output_type": "display_data",
          "data": {
            "text/html": [
              "<font color = green>Positive (100%)</font> --> <font color = red>[FAILED]</font><br>Felix in Hollywood is a great film. The version I viewed was very well restored, which is sometimes a problem with these silent era animated films. It has some of Hollywood's most famous stars making cameo animated appearances. A must for any silent film or animation enthusiast."
            ],
            "text/plain": [
              "<IPython.core.display.HTML object>"
            ]
          },
          "metadata": {
            "tags": []
          }
        },
        {
          "output_type": "stream",
          "text": [
            "[Succeeded / Failed / Total] 19 / 3 / 24:  96%|█████████▌| 24/25 [05:15<00:13, 13.13s/it]"
          ],
          "name": "stderr"
        },
        {
          "output_type": "display_data",
          "data": {
            "text/html": [
              "<font color = green>Positive (100%)</font> --> <font color = red>Negative (64%)</font><br><font color = green>A</font> gem of a <font color = green>cartoon</font> from the silent era---it was re-discovered by CARTOON NETWORK, and was broadcast for likely the first time in decades, if ever.<br /><br /><font color = green>What</font> makes this so enjoyable are the varied <font color = green>cameos</font>...Douglas Fairbanks is <font color = green>attacked</font> by giant mosquitos; Will Hays pays a visit as 'boss' of Static Studios; as <font color = green>well</font> as appearances by Chaplin, Keaton, and William S. Hart. The image of chewing gum decimating the shoes of the <font color = green>populace</font> (a money-making idea for Felix's near-bankrupt shoe-=salesman boss) cannot be described--it must be viewed. A <font color = green>terrific</font> cultural gem.<br><font color = red>SESS</font> gem of a <font color = red>toon</font> from the silent era---it was re-discovered by CARTOON NETWORK, and was broadcast for likely the first time in decades, if ever.<br /><br /><font color = red>Hihat</font> makes this so enjoyable are the varied <font color = red>cameo</font>...Douglas Fairbanks is <font color = red>repelled</font> by giant mosquitos; Will Hays pays a visit as 'boss' of Static Studios; as <font color = red>such</font> as appearances by Chaplin, Keaton, and William S. Hart. The image of chewing gum decimating the shoes of the <font color = red>populate</font> (a money-making idea for Felix's near-bankrupt shoe-=salesman boss) cannot be described--it must be viewed. A <font color = red>horrific</font> cultural gem."
            ],
            "text/plain": [
              "<IPython.core.display.HTML object>"
            ]
          },
          "metadata": {
            "tags": []
          }
        },
        {
          "output_type": "stream",
          "text": [
            "[Succeeded / Failed / Total] 20 / 3 / 25: 100%|██████████| 25/25 [05:20<00:00, 12.81s/it]"
          ],
          "name": "stderr"
        },
        {
          "output_type": "display_data",
          "data": {
            "text/html": [
              "<font color = green>Positive (100%)</font> --> <font color = red>[FAILED]</font><br>This short is one of the best of all time and is proof (just like most of Charlie Chaplin's work) that sound and color are not requirements for quality work. In fact, this cartoon uses (and may have started) some of the gags and devices that became standard in animation in later years, like caricatures of celebrities (including the afore-mentioned Chaplin. While the characters are silent, they do \"speak\", by use of word balloons, just like in the comics. Given that Felix started out in newspapers as a comic strip, this device is a natural. The atmosphere and style of the short is completely harmonious with that of the comic strip while adding another dimension (literally and figuratively) and makes this short a delight to watch. Well worth taking the time and effort to get. Most highly recommended."
            ],
            "text/plain": [
              "<IPython.core.display.HTML object>"
            ]
          },
          "metadata": {
            "tags": []
          }
        },
        {
          "output_type": "stream",
          "text": [
            "[Succeeded / Failed / Total] 20 / 4 / 26: : 26it [05:29, 12.69s/it]"
          ],
          "name": "stderr"
        },
        {
          "output_type": "display_data",
          "data": {
            "text/html": [
              "<font color = green>Positive (86%)</font> --> <font color = red>Negative (58%)</font><br>Felix is watching an actor rehearse his lines: \"A ham, A ham! My kingdom for a ham sandwich!!!\" The dramatic guy that tells Felix he'll \"have to sacrifice my art and go into the movies.\" He's in tears. Felix just looks at him like he's nuts, and shrugs his shoulders. The old guy tells Felix to \"go ye forth\" and find money to finance a trip to Hollywood. Felix thinks, \"How does he expect me to get the money?\"<br /><br />In minutes, of course (this is a cartoon), he spots a shoe business owner putting up a \"bankrupt\" sale on his store. Felix comes up with a plan to bail him out and the man promises the cat $500 if it works.<br /><br />Well, it does but the man wants to go alone and leave Felix at home. In an outrageous scene, Felix transforms himself into a briefcase and that's how he gets to Hollywood, transforming himself back to cat when they get there.<br /><br />We then witness Felix's attempts at getting into show business. His audition scenes are very <font color = green>funny</font>, especially with his imitation of Charlie Chaplin. In addition there are caricatures of some famous silent film stars and executives. In all, quite a bit of material is in this 9.5- minute cartoon. It's amazing how much more you can get in an extra 2.5 minutes, assuming most animated shorts are seven minutes in length.<br /><br />At any rate, there were a number of laughs in here and more zany things you could only see in a cartoon, like Felix have a sword duel with giant mosquitoes! Crazy stuff.<br>Felix is watching an actor rehearse his lines: \"A ham, A ham! My kingdom for a ham sandwich!!!\" The dramatic guy that tells Felix he'll \"have to sacrifice my art and go into the movies.\" He's in tears. Felix just looks at him like he's nuts, and shrugs his shoulders. The old guy tells Felix to \"go ye forth\" and find money to finance a trip to Hollywood. Felix thinks, \"How does he expect me to get the money?\"<br /><br />In minutes, of course (this is a cartoon), he spots a shoe business owner putting up a \"bankrupt\" sale on his store. Felix comes up with a plan to bail him out and the man promises the cat $500 if it works.<br /><br />Well, it does but the man wants to go alone and leave Felix at home. In an outrageous scene, Felix transforms himself into a briefcase and that's how he gets to Hollywood, transforming himself back to cat when they get there.<br /><br />We then witness Felix's attempts at getting into show business. His audition scenes are very <font color = red>bunny</font>, especially with his imitation of Charlie Chaplin. In addition there are caricatures of some famous silent film stars and executives. In all, quite a bit of material is in this 9.5- minute cartoon. It's amazing how much more you can get in an extra 2.5 minutes, assuming most animated shorts are seven minutes in length.<br /><br />At any rate, there were a number of laughs in here and more zany things you could only see in a cartoon, like Felix have a sword duel with giant mosquitoes! Crazy stuff."
            ],
            "text/plain": [
              "<IPython.core.display.HTML object>"
            ]
          },
          "metadata": {
            "tags": []
          }
        },
        {
          "output_type": "stream",
          "text": [
            "[Succeeded / Failed / Total] 21 / 4 / 27: : 27it [05:42, 12.70s/it]"
          ],
          "name": "stderr"
        },
        {
          "output_type": "stream",
          "text": [
            "+-------------------------------+--------+\n",
            "| Attack Results                |        |\n",
            "+-------------------------------+--------+\n",
            "| Number of successful attacks: | 21     |\n",
            "| Number of failed attacks:     | 4      |\n",
            "| Number of skipped attacks:    | 2      |\n",
            "| Original accuracy:            | 92.59% |\n",
            "| Accuracy under attack:        | 14.81% |\n",
            "| Attack success rate:          | 84.0%  |\n",
            "| Average perturbed word %:     | 5.29%  |\n",
            "| Average num. words per input: | 248.96 |\n",
            "| Avg num queries:              | 419.72 |\n",
            "+-------------------------------+--------+"
          ],
          "name": "stdout"
        },
        {
          "output_type": "stream",
          "text": [
            "\n",
            "\u001b[34;1mtextattack\u001b[0m: Attack time: 342.94589352607727s\n"
          ],
          "name": "stderr"
        }
      ]
    },
    {
      "cell_type": "markdown",
      "metadata": {
        "id": "viHIBEZDyg2q"
      },
      "source": [
        "## Attacking using textfooler's recipe"
      ]
    },
    {
      "cell_type": "code",
      "metadata": {
        "colab": {
          "base_uri": "https://localhost:8080/",
          "height": 1000
        },
        "id": "sOpteyr5e1E2",
        "outputId": "f0e92f02-50a1-46a8-beff-8c1ccb900a11"
      },
      "source": [
        "# Attacking and printing results\n",
        "from collections import deque\n",
        "\n",
        "import textattack\n",
        "import tqdm\n",
        "import time\n",
        "from IPython.display import display, HTML\n",
        "num_examples = 25\n",
        "num_remaining_attacks = num_examples\n",
        "pbar = tqdm.tqdm(total=num_remaining_attacks, smoothing=0)\n",
        "\n",
        "worklist = deque(range(0, num_examples))\n",
        "worklist_tail = worklist[-1]\n",
        "\n",
        "attack_log_manager = textattack.loggers.AttackLogManager()\n",
        "\n",
        "load_time = time.time()\n",
        "        \n",
        "num_results = 0\n",
        "num_failures = 0\n",
        "num_successes = 0\n",
        "for result in attack1.attack_dataset(dataset, indices=worklist):\n",
        "    result_html_str = result.__str__(color_method=\"html\").replace(\"\\n\\n\", \"<br>\")\n",
        "    display(HTML(result_html_str))\n",
        "    attack_log_manager.log_result(result)\n",
        "            \n",
        "    if not isinstance(result, textattack.attack_results.SkippedAttackResult):\n",
        "        pbar.update(1)\n",
        "    else:\n",
        "        worklist_tail += 1\n",
        "        pbar.update(1)\n",
        "        worklist.append(worklist_tail)\n",
        "\n",
        "    num_results += 1\n",
        "\n",
        "    if (\n",
        "        type(result) == textattack.attack_results.SuccessfulAttackResult\n",
        "        or type(result) == textattack.attack_results.MaximizedAttackResult\n",
        "    ):\n",
        "        num_successes += 1\n",
        "                \n",
        "    if type(result) == textattack.attack_results.FailedAttackResult:\n",
        "        num_failures += 1\n",
        "    pbar.set_description(\n",
        "        \"[Succeeded / Failed / Total] {} / {} / {}\".format(\n",
        "            num_successes, num_failures, num_results\n",
        "        )\n",
        "    )\n",
        "\n",
        "pbar.close()\n",
        "\n",
        "attack_log_manager.enable_stdout()\n",
        "attack_log_manager.log_summary()\n",
        "attack_log_manager.flush()\n",
        "        \n",
        "textattack.shared.logger.info(f\"Attack time: {time.time() - load_time}s\")"
      ],
      "execution_count": 11,
      "outputs": [
        {
          "output_type": "stream",
          "text": [
            "\r  0%|          | 0/25 [00:00<?, ?it/s]"
          ],
          "name": "stderr"
        },
        {
          "output_type": "display_data",
          "data": {
            "text/html": [
              "<font color = green>Positive (100%)</font> --> <font color = red>Negative (98%)</font><br>I went and <font color = green>saw</font> this movie last night after being coaxed to by a few friends of mine. I'll admit that I was reluctant to see it because from what I knew of Ashton Kutcher he was only able to do <font color = green>comedy</font>. I was wrong. Kutcher played the character of Jake Fischer very well, and Kevin Costner played Ben Randall with such professionalism. The sign of a <font color = green>good</font> movie is that it can toy with our <font color = green>emotions</font>. <font color = green>This</font> one <font color = green>did</font> exactly that. The entire <font color = green>theater</font> (which was sold out) was overcome by laughter during the first half of the movie, and were moved to tears during the second half. While exiting the theater I not only saw many women in tears, but many full grown men as well, trying desperately not to let anyone see them crying. This movie was great, and I suggest that you go see it before you judge.<br>I went and <font color = red>endured</font> this movie last night after being coaxed to by a few friends of mine. I'll admit that I was reluctant to see it because from what I knew of Ashton Kutcher he was only able to do <font color = red>travesty</font>. I was wrong. Kutcher played the character of Jake Fischer very well, and Kevin Costner played Ben Randall with such professionalism. The sign of a <font color = red>adequate</font> movie is that it can toy with our <font color = red>sentiments</font>. <font color = red>These</font> one <font color = red>suis</font> exactly that. The entire <font color = red>filmmaking</font> (which was sold out) was overcome by laughter during the first half of the movie, and were moved to tears during the second half. While exiting the theater I not only saw many women in tears, but many full grown men as well, trying desperately not to let anyone see them crying. This movie was great, and I suggest that you go see it before you judge."
            ],
            "text/plain": [
              "<IPython.core.display.HTML object>"
            ]
          },
          "metadata": {
            "tags": []
          }
        },
        {
          "output_type": "stream",
          "text": [
            "[Succeeded / Failed / Total] 1 / 0 / 1:   4%|▍         | 1/25 [00:09<03:48,  9.52s/it]"
          ],
          "name": "stderr"
        },
        {
          "output_type": "display_data",
          "data": {
            "text/html": [
              "<font color = green>Positive (100%)</font> --> <font color = red>Negative (81%)</font><br>Actor turned director Bill Paxton follows up his promising debut, the Gothic-horror \"Frailty\", with this family friendly sports drama about the 1913 U.S. Open where a young American caddy rises from his humble background to play against his Bristish idol in what was dubbed as \"The Greatest Game Ever Played.\" I'm no fan of golf, and these scrappy <font color = green>underdog</font> sports flicks are a dime a dozen (most recently done to grand effect with \"Miracle\" and \"Cinderella Man\"), but some how this film was enthralling all the same.<br /><br />The film starts with some creative opening credits (imagine a Disneyfied version of the animated opening credits of HBO's \"Carnivale\" and \"Rome\"), but lumbers along slowly for its first by-the-numbers hour. Once the action moves to the U.S. Open things pick up very well. Paxton does a nice <font color = green>job</font> and shows a knack for effective directorial flourishes (I loved the rain-soaked montage of the action on day two of the open) that propel the plot further or add some unexpected psychological depth to the proceedings. There's some compelling character development when the British Harry Vardon is haunted by images of the aristocrats in black suits and top hats who destroyed his family cottage as a child to make way for a golf course. He also does a good job of visually depicting what goes on in the players' heads under pressure. Golf, a painfully boring sport, is brought vividly alive here. Credit should also be given the set designers and costume department for creating an engaging period-piece atmosphere of London and Boston at the beginning of the twentieth century.<br /><br />You know how this is going to end not only because it's based on a true story but also because films in this genre follow the same template over and over, but Paxton puts on a better than average show and perhaps indicates more talent behind the camera than he ever had in front of it. Despite the formulaic nature, this is a nice and easy film to root for that deserves to find an audience.<br>Actor turned director Bill Paxton follows up his promising debut, the Gothic-horror \"Frailty\", with this family friendly sports drama about the 1913 U.S. Open where a young American caddy rises from his humble background to play against his Bristish idol in what was dubbed as \"The Greatest Game Ever Played.\" I'm no fan of golf, and these scrappy <font color = red>downtrodden</font> sports flicks are a dime a dozen (most recently done to grand effect with \"Miracle\" and \"Cinderella Man\"), but some how this film was enthralling all the same.<br /><br />The film starts with some creative opening credits (imagine a Disneyfied version of the animated opening credits of HBO's \"Carnivale\" and \"Rome\"), but lumbers along slowly for its first by-the-numbers hour. Once the action moves to the U.S. Open things pick up very well. Paxton does a nice <font color = red>worksite</font> and shows a knack for effective directorial flourishes (I loved the rain-soaked montage of the action on day two of the open) that propel the plot further or add some unexpected psychological depth to the proceedings. There's some compelling character development when the British Harry Vardon is haunted by images of the aristocrats in black suits and top hats who destroyed his family cottage as a child to make way for a golf course. He also does a good job of visually depicting what goes on in the players' heads under pressure. Golf, a painfully boring sport, is brought vividly alive here. Credit should also be given the set designers and costume department for creating an engaging period-piece atmosphere of London and Boston at the beginning of the twentieth century.<br /><br />You know how this is going to end not only because it's based on a true story but also because films in this genre follow the same template over and over, but Paxton puts on a better than average show and perhaps indicates more talent behind the camera than he ever had in front of it. Despite the formulaic nature, this is a nice and easy film to root for that deserves to find an audience."
            ],
            "text/plain": [
              "<IPython.core.display.HTML object>"
            ]
          },
          "metadata": {
            "tags": []
          }
        },
        {
          "output_type": "stream",
          "text": [
            "[Succeeded / Failed / Total] 2 / 0 / 2:   8%|▊         | 2/25 [00:18<03:32,  9.23s/it]"
          ],
          "name": "stderr"
        },
        {
          "output_type": "display_data",
          "data": {
            "text/html": [
              "<font color = green>Positive (100%)</font> --> <font color = red>Negative (93%)</font><br>As a recreational golfer with some knowledge of the sport's history, <font color = green>I</font> was pleased with Disney's sensitivity to the issues of class in golf in the early twentieth century. The <font color = green>movie</font> depicted well the psychological battles that Harry Vardon fought within himself, from his childhood trauma of being evicted to his own inability to break that glass ceiling that prevents him from being accepted as an equal in English golf society. Likewise, the young Ouimet goes through his own class struggles, being a mere caddie in the eyes of the upper crust Americans who scoff at his attempts to rise above his standing. <br /><br />What I loved best, however, is how this theme of class is manifested in the characters of Ouimet's parents. His father is a working-class drone who sees the value of hard work but is intimidated by the upper class; his mother, however, recognizes her son's talent and desire and encourages him to pursue his dream of competing against those who think he is inferior.<br /><br /><font color = green>Finally</font>, the golf <font color = green>scenes</font> are well photographed. Although the course used in the movie was not the actual site of the historical tournament, the little liberties taken by Disney <font color = green>do</font> not <font color = green>detract</font> from the <font color = green>beauty</font> of the film. There's one little Disney moment at the pool table; otherwise, the viewer does not really think Disney. The ending, as in \"Miracle,\" is not some Disney creation, but one that only human history could have written.<br>As a recreational golfer with some knowledge of the sport's history, <font color = red>me</font> was pleased with Disney's sensitivity to the issues of class in golf in the early twentieth century. The <font color = red>theaters</font> depicted well the psychological battles that Harry Vardon fought within himself, from his childhood trauma of being evicted to his own inability to break that glass ceiling that prevents him from being accepted as an equal in English golf society. Likewise, the young Ouimet goes through his own class struggles, being a mere caddie in the eyes of the upper crust Americans who scoff at his attempts to rise above his standing. <br /><br />What I loved best, however, is how this theme of class is manifested in the characters of Ouimet's parents. His father is a working-class drone who sees the value of hard work but is intimidated by the upper class; his mother, however, recognizes her son's talent and desire and encourages him to pursue his dream of competing against those who think he is inferior.<br /><br /><font color = red>Anyway</font>, the golf <font color = red>photographing</font> are well photographed. Although the course used in the movie was not the actual site of the historical tournament, the little liberties taken by Disney <font color = red>get</font> not <font color = red>entertain</font> from the <font color = red>hotness</font> of the film. There's one little Disney moment at the pool table; otherwise, the viewer does not really think Disney. The ending, as in \"Miracle,\" is not some Disney creation, but one that only human history could have written."
            ],
            "text/plain": [
              "<IPython.core.display.HTML object>"
            ]
          },
          "metadata": {
            "tags": []
          }
        },
        {
          "output_type": "stream",
          "text": [
            "[Succeeded / Failed / Total] 3 / 0 / 3:  12%|█▏        | 3/25 [00:27<03:25,  9.33s/it]"
          ],
          "name": "stderr"
        },
        {
          "output_type": "display_data",
          "data": {
            "text/html": [
              "<font color = green>Positive (100%)</font> --> <font color = red>Negative (61%)</font><br>I saw this film in a sneak preview, and it is delightful. The cinematography is <font color = green>unusually</font> creative, the acting is good, and the <font color = green>story</font> is fabulous. If this movie does not do <font color = green>well</font>, it won't be because it doesn't deserve to. Before this film, I didn't realize how charming <font color = green>Shia</font> Lebouf could be. He does a <font color = green>marvelous</font>, self-contained, job as the lead. There's something incredibly sweet about him, and it makes the movie even <font color = green>better</font>. <font color = green>The</font> other <font color = green>actors</font> do a good <font color = green>job</font> as well, and the film contains moments of really high <font color = green>suspense</font>, more than one might <font color = green>expect</font> from a movie about <font color = green>golf</font>. Sports movies are a <font color = green>dime</font> a <font color = green>dozen</font>, but this one stands out. <<font color = green>br</font> /><br />This is one I'd <font color = green>recommend</font> to anyone.<br>I saw this film in a sneak preview, and it is delightful. The cinematography is <font color = red>horribly</font> creative, the acting is good, and the <font color = red>stories</font> is fabulous. If this movie does not do <font color = red>satisfactorily</font>, it won't be because it doesn't deserve to. Before this film, I didn't realize how charming <font color = red>Sunni</font> Lebouf could be. He does a <font color = red>sumptuous</font>, self-contained, job as the lead. There's something incredibly sweet about him, and it makes the movie even <font color = red>fatter</font>. <font color = red>Both</font> other <font color = red>participant</font> do a good <font color = red>manpower</font> as well, and the film contains moments of really high <font color = red>wait</font>, more than one might <font color = red>esperanza</font> from a movie about <font color = red>beach</font>. Sports movies are a <font color = red>exhibits</font> a <font color = red>tio</font>, but this one stands out. <<font color = red>brit</font> /><br />This is one I'd <font color = red>advise</font> to anyone."
            ],
            "text/plain": [
              "<IPython.core.display.HTML object>"
            ]
          },
          "metadata": {
            "tags": []
          }
        },
        {
          "output_type": "stream",
          "text": [
            "[Succeeded / Failed / Total] 4 / 0 / 4:  16%|█▌        | 4/25 [00:37<03:18,  9.46s/it]"
          ],
          "name": "stderr"
        },
        {
          "output_type": "display_data",
          "data": {
            "text/html": [
              "<font color = green>Positive (100%)</font> --> <font color = red>Negative (71%)</font><br>Bill Paxton has taken the true story of the 1913 US golf open and made a film that is about much more than an extra-ordinary game of golf. The <font color = green>film</font> also deals directly with the class tensions of the early twentieth century and touches upon the profound anti-Catholic prejudices of both the British and American establishments. But at heart the film is about that perennial <font color = green>favourite</font> of triumph against the odds.<br /><br />The acting is exemplary throughout. Stephen Dillane is excellent as usual, but the revelation of the movie is <font color = green>Shia</font> LaBoeuf who delivers a disciplined, dignified and highly <font color = green>sympathetic</font> <font color = green>performance</font> as a working class Franco-Irish kid fighting his way through the prejudices of the New England WASP establishment. For those who are only familiar with his slap-stick performances in \"Even Stevens\" this demonstration of his maturity is a delightful surprise. And Josh Flitter as the <font color = green>ten</font> year <font color = green>old</font> caddy <font color = green>threatens</font> to steal <font color = green>every</font> <font color = green>scene</font> in which he <font color = green>appears</font>.<<font color = green>br</font> /><br /><font color = green>A</font> <font color = green>old</font> fashioned movie in the <font color = green>best</font> <font color = green>sense</font> of the <font color = green>word</font>: <font color = green>fine</font> <font color = green>acting</font>, <font color = green>clear</font> <font color = green>directing</font> and a <font color = green>great</font> story that <font color = green>grips</font> to the <font color = green>end</font> - the final <font color = green>scene</font> an <font color = green>affectionate</font> <font color = green>nod</font> to Casablanca is just one of the <font color = green>many</font> pleasures that <font color = green>fill</font> a great movie.<br>Bill Paxton has taken the true story of the 1913 US golf open and made a film that is about much more than an extra-ordinary game of golf. The <font color = red>video</font> also deals directly with the class tensions of the early twentieth century and touches upon the profound anti-Catholic prejudices of both the British and American establishments. But at heart the film is about that perennial <font color = red>predilection</font> of triumph against the odds.<br /><br />The acting is exemplary throughout. Stephen Dillane is excellent as usual, but the revelation of the movie is <font color = red>Sunni</font> LaBoeuf who delivers a disciplined, dignified and highly <font color = red>favorable</font> <font color = red>efficacy</font> as a working class Franco-Irish kid fighting his way through the prejudices of the New England WASP establishment. For those who are only familiar with his slap-stick performances in \"Even Stevens\" this demonstration of his maturity is a delightful surprise. And Josh Flitter as the <font color = red>tenth</font> year <font color = red>senior</font> caddy <font color = red>menaces</font> to steal <font color = red>all</font> <font color = red>theatrical</font> in which he <font color = red>showed</font>.<<font color = red>brit</font> /><br /><font color = red>para</font> <font color = red>tattered</font> fashioned movie in the <font color = red>upper</font> <font color = red>meaning</font> of the <font color = red>phrases</font>: <font color = red>alright</font> <font color = red>behaving</font>, <font color = red>unmistakable</font> <font color = red>directed</font> and a <font color = red>gargantuan</font> story that <font color = red>gripped</font> to the <font color = red>finish</font> - the final <font color = red>imaging</font> an <font color = red>romantic</font> <font color = red>adi</font> to Casablanca is just one of the <font color = red>sundry</font> pleasures that <font color = red>completing</font> a great movie."
            ],
            "text/plain": [
              "<IPython.core.display.HTML object>"
            ]
          },
          "metadata": {
            "tags": []
          }
        },
        {
          "output_type": "stream",
          "text": [
            "[Succeeded / Failed / Total] 5 / 0 / 5:  20%|██        | 5/25 [00:59<03:57, 11.85s/it]"
          ],
          "name": "stderr"
        },
        {
          "output_type": "display_data",
          "data": {
            "text/html": [
              "<font color = green>Positive (100%)</font> --> <font color = red>Negative (88%)</font><br>I saw this <font color = green>film</font> on September 1st, 2005 in Indianapolis. I am one of the <font color = green>judges</font> for the Heartland Film Festival that screens <font color = green>films</font> for their Truly Moving Picture Award. <font color = green>A</font> <font color = green>Truly</font> Moving Picture \"...explores the human journey by <font color = green>artistically</font> expressing hope and respect for the positive values of life.\" Heartland gave that award to this film.<br /><br />This is a <font color = green>story</font> of golf in the early part of the 20th century. At that time, it was the game of upper class and rich \"gentlemen\", and working people could only participate by being caddies at country clubs. With this backdrop, this based-on-a-true-story unfolds with a young, working class boy who takes on the golf establishment and the greatest golfer in the world, Harry Vardon.<br /><br />And the story is <font color = green>inspirational</font>. Against all odds, Francis Ouimet (played by Shia LaBeouf of \"Holes\") gets to compete against the greatest <font color = green>golfers</font> of the U.S. and Great Britain at the 1913 U.S. Open. Francis is ill-prepared, and has a child for a caddy. (The caddy is hilarious and <font color = green>motivational</font> and steals every <font color = green>scene</font> he appears in.) But despite these handicaps, Francis displays courage, spirit, heroism, and humility at this world class event.<br /><br />And, we learn a lot about the early years of golf; for example, the use of small wooden clubs, the layout of the short holes, the manual scoreboard, the golfers swinging with pipes in their mouths, the terrible conditions of the greens and fairways, and the play not being canceled even in torrential rain.<br /><br />This film has stunning cinematography and art direction and editing. And with no big movie stars, the story is somehow more believable.<br /><br />This adds to the inventory of great sports movies in the vein of \"Miracle\" and \"Remember the Titans.\"<br /><br />FYI - There is a Truly Moving Pictures web site where there is a listing of past winners going back 70 years.<br>I saw this <font color = red>filming</font> on September 1st, 2005 in Indianapolis. I am one of the <font color = red>trial</font> for the Heartland Film Festival that screens <font color = red>stills</font> for their Truly Moving Picture Award. <font color = red>une</font> <font color = red>Awfully</font> Moving Picture \"...explores the human journey by <font color = red>impeccably</font> expressing hope and respect for the positive values of life.\" Heartland gave that award to this film.<br /><br />This is a <font color = red>histories</font> of golf in the early part of the 20th century. At that time, it was the game of upper class and rich \"gentlemen\", and working people could only participate by being caddies at country clubs. With this backdrop, this based-on-a-true-story unfolds with a young, working class boy who takes on the golf establishment and the greatest golfer in the world, Harry Vardon.<br /><br />And the story is <font color = red>incite</font>. Against all odds, Francis Ouimet (played by Shia LaBeouf of \"Holes\") gets to compete against the greatest <font color = red>golfer</font> of the U.S. and Great Britain at the 1913 U.S. Open. Francis is ill-prepared, and has a child for a caddy. (The caddy is hilarious and <font color = red>inducement</font> and steals every <font color = red>theater</font> he appears in.) But despite these handicaps, Francis displays courage, spirit, heroism, and humility at this world class event.<br /><br />And, we learn a lot about the early years of golf; for example, the use of small wooden clubs, the layout of the short holes, the manual scoreboard, the golfers swinging with pipes in their mouths, the terrible conditions of the greens and fairways, and the play not being canceled even in torrential rain.<br /><br />This film has stunning cinematography and art direction and editing. And with no big movie stars, the story is somehow more believable.<br /><br />This adds to the inventory of great sports movies in the vein of \"Miracle\" and \"Remember the Titans.\"<br /><br />FYI - There is a Truly Moving Pictures web site where there is a listing of past winners going back 70 years."
            ],
            "text/plain": [
              "<IPython.core.display.HTML object>"
            ]
          },
          "metadata": {
            "tags": []
          }
        },
        {
          "output_type": "stream",
          "text": [
            "[Succeeded / Failed / Total] 6 / 0 / 6:  24%|██▍       | 6/25 [01:13<03:54, 12.32s/it]"
          ],
          "name": "stderr"
        },
        {
          "output_type": "display_data",
          "data": {
            "text/html": [
              "<font color = red>Negative (99%)</font> --> <font color = gray>[SKIPPED]</font><br>Maybe I'm reading into this too much, but I wonder how much of a hand Hongsheng had in developing the film. I mean, when a story is told casting the main character as himself, I would think he would be a heavy hand in writing, documenting, etc. and that would make it a little biased.<br /><br />But...his family and friends also may have had a hand in getting the actual details about Hongsheng's life. I think the best view would have been told from Hongsheng's family and friends' perspectives. They saw his transformation and weren't so messed up on drugs that they remember everything.<br /><br />As for Hongsheng being full of himself, the consistencies of the Jesus Christ pose make him appear as a martyr who sacrificed his life (metaphorically, of course, he's obviously still alive as he was cast as himself) for his family's happiness. Huh?<br /><br />The viewer sees him at his lowest points while still maintaining a superiority complex. He lies on the grass coming down from (during?) a high by himself and with his father, he contemplates life and has visions of dragons at his window, he celebrates his freedom on a bicycle all while outstretching his arms, his head cocked to the side.<br /><br />It's fabulous that he's off of drugs now, but he's no hero. He went from a high point in his career in acting to his most vulnerable point while on drugs to come back somewhere in the middle.<br /><br />This same device is used in Ted Demme's \"Blow\" where the audience empathizes with the main character who is shown as a flawed hero.<br /><br />However, \"Quitting\" (\"Zuotian\") is a film that is recommended, mostly for its haunting soundtrack, superb acting, and landscapes. But, the best part is the feeling that one gets when what we presume to be the house of Jia Hongsheng is actually a stage setting for a play. It makes the viewer feel as if Hongsheng's life was merely a play told in many difficult parts."
            ],
            "text/plain": [
              "<IPython.core.display.HTML object>"
            ]
          },
          "metadata": {
            "tags": []
          }
        },
        {
          "output_type": "stream",
          "text": [
            "\r[Succeeded / Failed / Total] 6 / 0 / 7:  28%|██▊       | 7/25 [01:13<03:10, 10.57s/it]"
          ],
          "name": "stderr"
        },
        {
          "output_type": "display_data",
          "data": {
            "text/html": [
              "<font color = green>Positive (100%)</font> --> <font color = red>Negative (53%)</font><br>I felt this film did have many good qualities. The cinematography was certainly different exposing the stage aspect of the set and story. The original characters as actors was certainly an achievement and I felt most played quite convincingly, of course they are playing themselves, but definitely <font color = green>unique</font>. The cultural aspects may leave many disappointed as a familiarity with the Chinese and Oriental culture will answer a lot of questions regarding parent/child relationships and the stigma that goes with any drug use. I found the Jia Hongsheng story interesting. On a down note, the story is in Beijing and some of the fashion and music reek of early 90s even though this was made in 2001, so it's really cheesy sometimes (the Beatles crap, etc). Whatever, not a top ten or twenty but if it's on the television, check it out.<br>I felt this film did have many good qualities. The cinematography was certainly different exposing the stage aspect of the set and story. The original characters as actors was certainly an achievement and I felt most played quite convincingly, of course they are playing themselves, but definitely <font color = red>idiosyncratic</font>. The cultural aspects may leave many disappointed as a familiarity with the Chinese and Oriental culture will answer a lot of questions regarding parent/child relationships and the stigma that goes with any drug use. I found the Jia Hongsheng story interesting. On a down note, the story is in Beijing and some of the fashion and music reek of early 90s even though this was made in 2001, so it's really cheesy sometimes (the Beatles crap, etc). Whatever, not a top ten or twenty but if it's on the television, check it out."
            ],
            "text/plain": [
              "<IPython.core.display.HTML object>"
            ]
          },
          "metadata": {
            "tags": []
          }
        },
        {
          "output_type": "stream",
          "text": [
            "[Succeeded / Failed / Total] 7 / 0 / 8:  32%|███▏      | 8/25 [01:28<03:07, 11.03s/it]"
          ],
          "name": "stderr"
        },
        {
          "output_type": "display_data",
          "data": {
            "text/html": [
              "<font color = green>Positive (100%)</font> --> <font color = red>Negative (98%)</font><br><font color = green>This</font> movie is <font color = green>amazing</font> <font color = green>because</font> the <font color = green>fact</font> that the <font color = green>real</font> <font color = green>people</font> <font color = green>portray</font> themselves and their <font color = green>real</font> life experience and <font color = green>do</font> such a <font color = green>good</font> <font color = green>job</font> it's like they're almost <font color = green>living</font> the <font color = green>past</font> over again. <font color = green>Jia</font> Hongsheng <font color = green>plays</font> himself an actor who <font color = green>quit</font> everything except <font color = green>music</font> and <font color = green>drugs</font> <font color = green>struggling</font> with depression and <font color = green>searching</font> for the <font color = green>meaning</font> of <font color = green>life</font> while being <font color = green>angry</font> at everyone <font color = green>especially</font> the <font color = green>people</font> who <font color = green>care</font> for him most. There's <font color = green>moments</font> in the movie that <font color = green>will</font> <font color = green>make</font> you <font color = green>wanna</font> <font color = green>cry</font> because the <font color = green>family</font> especially the <font color = green>father</font> <font color = green>did</font> such a <font color = green>good</font> <font color = green>job</font>. <font color = green>However</font>, this movie is not for everyone. Many <font color = green>people</font> who <font color = green>suffer</font> from <font color = green>depression</font> <font color = green>will</font> <font color = green>understand</font> Hongsheng's <font color = green>problem</font> and why he <font color = green>does</font> the <font color = green>things</font> he does for example keep himself <font color = green>shut</font> in a <font color = green>dark</font> <font color = green>room</font> or <font color = green>go</font> for walks or <font color = green>bike</font> <font color = green>rides</font> by himself. Others <font color = green>might</font> see the <font color = green>movie</font> as <font color = green>boring</font> <font color = green>because</font> it's just <font color = green>so</font> <font color = green>real</font> that its almost <font color = green>like</font> a documentary. <font color = green>Overall</font> this movie is <font color = green>great</font> and Hongsheng deserved an <font color = green>Oscar</font> for this movie <font color = green>so</font> <font color = green>did</font> his <font color = green>Dad</font>.<br><font color = red>That</font> movie is <font color = red>awesome</font> <font color = red>since</font> the <font color = red>done</font> that the <font color = red>precise</font> <font color = red>countries</font> <font color = red>depict</font> themselves and their <font color = red>actual</font> life experience and <font color = red>got</font> such a <font color = red>super</font> <font color = red>posting</font> it's like they're almost <font color = red>residents</font> the <font color = red>passed</font> over again. <font color = red>Kin</font> Hongsheng <font color = red>is</font> himself an actor who <font color = red>terminated</font> everything except <font color = red>cappella</font> and <font color = red>doctors</font> <font color = red>combat</font> with depression and <font color = red>researching</font> for the <font color = red>impression</font> of <font color = red>lifespan</font> while being <font color = red>mad</font> at everyone <font color = red>basically</font> the <font color = red>countries</font> who <font color = red>attention</font> for him most. There's <font color = red>days</font> in the movie that <font color = red>wishing</font> <font color = red>making</font> you <font color = red>wishes</font> <font color = red>howling</font> because the <font color = red>households</font> especially the <font color = red>grandpa</font> <font color = red>gets</font> such a <font color = red>super</font> <font color = red>posting</font>. <font color = red>Encore</font>, this movie is not for everyone. Many <font color = red>countries</font> who <font color = red>suffers</font> from <font color = red>depressed</font> <font color = red>readiness</font> <font color = red>include</font> Hongsheng's <font color = red>boredom</font> and why he <font color = red>wishes</font> the <font color = red>stuff</font> he does for example keep himself <font color = red>terminates</font> in a <font color = red>shady</font> <font color = red>halls</font> or <font color = red>goes</font> for walks or <font color = red>biker</font> <font color = red>walks</font> by himself. Others <font color = red>opportunities</font> see the <font color = red>cinemas</font> as <font color = red>boredom</font> <font color = red>since</font> it's just <font color = red>also</font> <font color = red>precise</font> that its almost <font color = red>lover</font> a documentary. <font color = red>International</font> this movie is <font color = red>sumptuous</font> and Hongsheng deserved an <font color = red>Academy</font> for this movie <font color = red>also</font> <font color = red>gets</font> his <font color = red>Grandpa</font>."
            ],
            "text/plain": [
              "<IPython.core.display.HTML object>"
            ]
          },
          "metadata": {
            "tags": []
          }
        },
        {
          "output_type": "stream",
          "text": [
            "[Succeeded / Failed / Total] 8 / 0 / 9:  36%|███▌      | 9/25 [02:10<03:51, 14.50s/it]"
          ],
          "name": "stderr"
        },
        {
          "output_type": "display_data",
          "data": {
            "text/html": [
              "<font color = green>Positive (100%)</font> --> <font color = red>Negative (53%)</font><br>\"Quitting\" may be as much about exiting a pre-ordained identity as about drug withdrawal. As a rural guy coming to Beijing, class and success must have struck this young artist face on as an appeal to separate from his roots and far surpass his peasant parents' acting success. <font color = green>Troubles</font> arise, however, when the new man is too new, when it demands too big a departure from family, history, nature, and personal identity. The ensuing splits, and confusion between the imaginary and the real and the dissonance between the ordinary and the heroic are the stuff of a gut check on the one hand or a complete <font color = green>escape</font> from self on the other. Hongshen slips into the latter and his long and lonely road back to self can <font color = green>be</font> grim.<br /><br />But what an exceptionally <font color = green>convincing</font> particularity, honesty, and sensuousness director Zhang Yang, and his actors, bring to this <font color = green>journey</font>. <font color = green>No</font> <font color = green>clichés</font>, no <font color = green>stereotypes</font>, no rigid gender roles, no requisite sex, romance or violence scenes, no requisite street language and, to boot, no assumed money to float character acts and whims. <br /><br />Hongshen Jia is in his mid-twenties. He's a talented actor, impressionable, vain, idealistic, and perhaps emotionally starved. The perfect recipe for his enablers. Soon he's the \"cool\" actor, idolized by youth. \"He was hot in the early nineties.\" \"He always had to be the most fashionable.\" He needs extremes, and goes in for heavy metal, adopts earrings and a scarf. His acting means the arts, friends--and roles, But not the kind that offer any personal challenge or input. And his self-criticism, dulled by the immediacy of success, opens the doors to an irrational self-doubt, self-hatred-- \"I didn't know how to act\" \"I felt like a phony\"--and to readily available drugs to counter them. He says \"I had to get high to do what director wanted.\" So, his shallow identity as an actor becomes, via drugs, an escape from identity. <br /><br />Hongshen's disengagement from drugs and his false life is very gradual, intermittent--and doggedly his own. Solitude, space, meditative thinking, speech refusal, replace therapy. The abstract is out. And a great deal of his change occurs outdoors---not in idealized locations but mainly on green patches under the freeways, bridges, and high-rises of Beijing. The physicality is almost romantic, but is not. The bike rides to Ritan Park, the long spontaneous walks, the drenching sun and rain, grassy picnics, the sky patterns and kites that absorb his musing are very specific. He drifts in order to arrive, all the while picking up cues to a more real and realistic identity. \"I started to open up\" he says of this period in retrospect. And the contact seems to start with his lanky body which projects a kind of dancer's positioning (clumsy, graceful, humorous, telling) in a current circumstance. If mind or spirit is lacking, his legs can compel him to walk all night. <br /><br />Central to his comeback is the rejection of set roles. To punctuate his end to acting and his determination to a new identity, he smashes his videos and TV, and bangs his head till bloody against his \"John Lennon Forever\" poster. He has let down his iconic anti-establishment artist---but he's the only viable guide he knows. He even imagines himself as John's son (Yoko Ono), and adopts his \"Mother Mary\" as an intercessor in his \"hour of darkness\" and \"time of trouble.\" (the wrenching, shaking pain in the park--hallucinatory and skitzoid ordeals) \"Music is so much more real than acting\" he says. And speaks of Lennon's influence as \"showing me a new way.\" In the mental institute, the life-saving apples (resistance, nourishment) reflect Lennon's presence, as does Hongshen's need to re-hang his hero's poster in his redecorated room.<br /><br />If Lennon's influence is spiriting, Hongshen's father's influence is grounding. Although father and son are both actors and users (drugs and drink), it is Fegsen's differences from his son that underwrites his change. For the father is more secure in himself: he accepts that he's Chinese, a peasant in a line of peasants, a rural theater director. And he exercises control over both his habit and his emotions. It's this recognizable identity that drives Hongshen to treat him like a sounding board, sometimes with anger and rage, sometimes with humor (the blue jeans, Beatles) and passivity. In his most crazed, and violent exchange with his father in which he accuses him of being a liar, and a fake, he exposes more of himself than his father: \"all the acts I acted before were bullshit... life is bullshit.\" And to Hongshen's emphatic \"you are NOT my father,\" he softly replies, \"why can't a peasant be your father?\" <br /><br />Under these two teachers and with much additional help from his mother, sister, friends, inmates at the rehab inst., he makes some tangible connection to a real (not whole) self. As the long term drug effects recede, so does his old identity. Indebtedness replaces pride, trust distrust. Integrity banishes his black cloud. All his edges soften. \"You are just a human being\" he repeats endlessly after being released from the strap-down incurred for refusing medicine. Back home, lard peasant soap is fine with him now. And his once \"rare and true friendships\" begin again as is so evident in the back to poignant back-to-back fence scene with his musician buddy. Hongshen says of this movie: \"it's a good chance to think about my life.\" And I might add, become a New Actor, one bound to art and life. Like Lennon, he has gained success without a loss of identity.<br>\"Quitting\" may be as much about exiting a pre-ordained identity as about drug withdrawal. As a rural guy coming to Beijing, class and success must have struck this young artist face on as an appeal to separate from his roots and far surpass his peasant parents' acting success. <font color = red>Annoyance</font> arise, however, when the new man is too new, when it demands too big a departure from family, history, nature, and personal identity. The ensuing splits, and confusion between the imaginary and the real and the dissonance between the ordinary and the heroic are the stuff of a gut check on the one hand or a complete <font color = red>fugue</font> from self on the other. Hongshen slips into the latter and his long and lonely road back to self can <font color = red>was</font> grim.<br /><br />But what an exceptionally <font color = red>convinced</font> particularity, honesty, and sensuousness director Zhang Yang, and his actors, bring to this <font color = red>jaunt</font>. <font color = red>Nor</font> <font color = red>melodrama</font>, no <font color = red>bigotry</font>, no rigid gender roles, no requisite sex, romance or violence scenes, no requisite street language and, to boot, no assumed money to float character acts and whims. <br /><br />Hongshen Jia is in his mid-twenties. He's a talented actor, impressionable, vain, idealistic, and perhaps emotionally starved. The perfect recipe for his enablers. Soon he's the \"cool\" actor, idolized by youth. \"He was hot in the early nineties.\" \"He always had to be the most fashionable.\" He needs extremes, and goes in for heavy metal, adopts earrings and a scarf. His acting means the arts, friends--and roles, But not the kind that offer any personal challenge or input. And his self-criticism, dulled by the immediacy of success, opens the doors to an irrational self-doubt, self-hatred-- \"I didn't know how to act\" \"I felt like a phony\"--and to readily available drugs to counter them. He says \"I had to get high to do what director wanted.\" So, his shallow identity as an actor becomes, via drugs, an escape from identity. <br /><br />Hongshen's disengagement from drugs and his false life is very gradual, intermittent--and doggedly his own. Solitude, space, meditative thinking, speech refusal, replace therapy. The abstract is out. And a great deal of his change occurs outdoors---not in idealized locations but mainly on green patches under the freeways, bridges, and high-rises of Beijing. The physicality is almost romantic, but is not. The bike rides to Ritan Park, the long spontaneous walks, the drenching sun and rain, grassy picnics, the sky patterns and kites that absorb his musing are very specific. He drifts in order to arrive, all the while picking up cues to a more real and realistic identity. \"I started to open up\" he says of this period in retrospect. And the contact seems to start with his lanky body which projects a kind of dancer's positioning (clumsy, graceful, humorous, telling) in a current circumstance. If mind or spirit is lacking, his legs can compel him to walk all night. <br /><br />Central to his comeback is the rejection of set roles. To punctuate his end to acting and his determination to a new identity, he smashes his videos and TV, and bangs his head till bloody against his \"John Lennon Forever\" poster. He has let down his iconic anti-establishment artist---but he's the only viable guide he knows. He even imagines himself as John's son (Yoko Ono), and adopts his \"Mother Mary\" as an intercessor in his \"hour of darkness\" and \"time of trouble.\" (the wrenching, shaking pain in the park--hallucinatory and skitzoid ordeals) \"Music is so much more real than acting\" he says. And speaks of Lennon's influence as \"showing me a new way.\" In the mental institute, the life-saving apples (resistance, nourishment) reflect Lennon's presence, as does Hongshen's need to re-hang his hero's poster in his redecorated room.<br /><br />If Lennon's influence is spiriting, Hongshen's father's influence is grounding. Although father and son are both actors and users (drugs and drink), it is Fegsen's differences from his son that underwrites his change. For the father is more secure in himself: he accepts that he's Chinese, a peasant in a line of peasants, a rural theater director. And he exercises control over both his habit and his emotions. It's this recognizable identity that drives Hongshen to treat him like a sounding board, sometimes with anger and rage, sometimes with humor (the blue jeans, Beatles) and passivity. In his most crazed, and violent exchange with his father in which he accuses him of being a liar, and a fake, he exposes more of himself than his father: \"all the acts I acted before were bullshit... life is bullshit.\" And to Hongshen's emphatic \"you are NOT my father,\" he softly replies, \"why can't a peasant be your father?\" <br /><br />Under these two teachers and with much additional help from his mother, sister, friends, inmates at the rehab inst., he makes some tangible connection to a real (not whole) self. As the long term drug effects recede, so does his old identity. Indebtedness replaces pride, trust distrust. Integrity banishes his black cloud. All his edges soften. \"You are just a human being\" he repeats endlessly after being released from the strap-down incurred for refusing medicine. Back home, lard peasant soap is fine with him now. And his once \"rare and true friendships\" begin again as is so evident in the back to poignant back-to-back fence scene with his musician buddy. Hongshen says of this movie: \"it's a good chance to think about my life.\" And I might add, become a New Actor, one bound to art and life. Like Lennon, he has gained success without a loss of identity."
            ],
            "text/plain": [
              "<IPython.core.display.HTML object>"
            ]
          },
          "metadata": {
            "tags": []
          }
        },
        {
          "output_type": "stream",
          "text": [
            "[Succeeded / Failed / Total] 9 / 0 / 10:  40%|████      | 10/25 [02:48<04:13, 16.89s/it]"
          ],
          "name": "stderr"
        },
        {
          "output_type": "display_data",
          "data": {
            "text/html": [
              "<font color = green>Positive (100%)</font> --> <font color = red>Negative (56%)</font><br>I loved this movie from beginning to end.I am a musician and i <font color = green>let</font> drugs get in the way of my some of the things i used to <font color = green>love</font>(skateboarding,<font color = green>drawing</font>) but my friends were always there for me.Music was like my rehab,life support,and my <font color = green>drug</font>.<font color = green>It</font> changed my life.I can totally relate to this movie and i wish there was more i could say.This movie left me speechless to be honest.I just saw it on the Ifc channel.I usually hate having satellite but this was a perk of having satellite.The ifc channel shows some really great movies and without it I never would have found this movie.Im not a big fan of the international films because i find that a lot of the don't do a very good job on translating lines.I mean the obvious language barrier leaves you to just believe thats what they are saying but its not that big of a deal i guess.I almost never got to see this <font color = green>AMAZING</font> movie.<font color = green>Good</font> thing i <font color = green>stayed</font> up for it <font color = green>instead</font> of going to <font color = green>bed</font>..<font color = green>well</font> earlier than <font color = green>usual</font>.lol.I hope you all <font color = green>enjoy</font> the <font color = green>hell</font> of this movie and Love this movie just as much as i did.I wish i could type this all in caps but its again the rules i guess thats shouting but it would really show my excitement for the film.I Give It Three Thumbs Way Up!<br /><br />This Movie Blew ME AWAY!<br>I loved this movie from beginning to end.I am a musician and i <font color = red>authorizes</font> drugs get in the way of my some of the things i used to <font color = red>loved</font>(skateboarding,<font color = red>pictures</font>) but my friends were always there for me.Music was like my rehab,life support,and my <font color = red>medicines</font>.<font color = red>His</font> changed my life.I can totally relate to this movie and i wish there was more i could say.This movie left me speechless to be honest.I just saw it on the Ifc channel.I usually hate having satellite but this was a perk of having satellite.The ifc channel shows some really great movies and without it I never would have found this movie.Im not a big fan of the international films because i find that a lot of the don't do a very good job on translating lines.I mean the obvious language barrier leaves you to just believe thats what they are saying but its not that big of a deal i guess.I almost never got to see this <font color = red>WHOPPING</font> movie.<font color = red>Suitable</font> thing i <font color = red>stay</font> up for it <font color = red>otherwise</font> of going to <font color = red>futon</font>..<font color = red>successfully</font> earlier than <font color = red>frequent</font>.lol.I hope you all <font color = red>iike</font> the <font color = red>mess</font> of this movie and Love this movie just as much as i did.I wish i could type this all in caps but its again the rules i guess thats shouting but it would really show my excitement for the film.I Give It Three Thumbs Way Up!<br /><br />This Movie Blew ME AWAY!"
            ],
            "text/plain": [
              "<IPython.core.display.HTML object>"
            ]
          },
          "metadata": {
            "tags": []
          }
        },
        {
          "output_type": "stream",
          "text": [
            "[Succeeded / Failed / Total] 10 / 0 / 11:  44%|████▍     | 11/25 [03:02<03:52, 16.63s/it]"
          ],
          "name": "stderr"
        },
        {
          "output_type": "display_data",
          "data": {
            "text/html": [
              "<font color = green>Positive (100%)</font> --> <font color = red>Negative (52%)</font><br>I was fortunate to attend the London premier of this film. While I am not at all a fan of British drama, I did find myself deeply moved by the characters and the BAD <font color = green>CHOICES</font> they made. I was in <font color = green>tears</font> by the <font color = green>end</font> of the film. Every scene was mesmerizing. The attention to detail and the excellent acting was quite impressive.<br /><br />I would have to agree with some of the other comments here which question why all these women were throwing themselves at such a despicable character.<br /><br />*******SPOLIER ALERT******** I was also hoping that Dylan would have been killed by William when he had the chance! ****END SPOILER*****<br /><br />Keira Knightley did a great job and radiate beauty and innocence from the screen, but it was Sienna Miller's performance that was truly Oscar worthy.<br /><br />I am sure this production will be nominated for other awards.<br>I was fortunate to attend the London premier of this film. While I am not at all a fan of British drama, I did find myself deeply moved by the characters and the BAD <font color = red>TAKES</font> they made. I was in <font color = red>torn</font> by the <font color = red>culminates</font> of the film. Every scene was mesmerizing. The attention to detail and the excellent acting was quite impressive.<br /><br />I would have to agree with some of the other comments here which question why all these women were throwing themselves at such a despicable character.<br /><br />*******SPOLIER ALERT******** I was also hoping that Dylan would have been killed by William when he had the chance! ****END SPOILER*****<br /><br />Keira Knightley did a great job and radiate beauty and innocence from the screen, but it was Sienna Miller's performance that was truly Oscar worthy.<br /><br />I am sure this production will be nominated for other awards."
            ],
            "text/plain": [
              "<IPython.core.display.HTML object>"
            ]
          },
          "metadata": {
            "tags": []
          }
        },
        {
          "output_type": "stream",
          "text": [
            "[Succeeded / Failed / Total] 11 / 0 / 12:  48%|████▊     | 12/25 [03:08<03:24, 15.70s/it]"
          ],
          "name": "stderr"
        },
        {
          "output_type": "display_data",
          "data": {
            "text/html": [
              "<font color = green>Positive (100%)</font> --> <font color = red>Negative (77%)</font><br>I first saw this movie on IFC. Which is a great <font color = green>network</font> by the way to see underground films. I watched this movie and was thinking it was going to be pure drama and a story line that doesn't hold water. <font color = green>But</font> it really was a worth while <font color = green>watch</font>. The main character is in such rough <font color = green>shape</font>, and you hate to see him deny help, but no matter what you just can't hate him. His devotion to The Beatles and John <font color = green>Lennon</font> is a great metaphor for his life and the helplessness he feels. <br /><br />The atmosphere of the film is also great. <font color = green>At</font> times, you feel like you can see what he sees, feel what he feels in some situations. This movie <font color = green>does</font> not leave you wanting to know more, or disliking a loophole in the plot. There are NO loopholes (in my opinion). I have always been a fan of foreign films, especially now with movies being made so poorly in <font color = green>America</font>. I really enjoy the <font color = green>foreign</font> settings because I feel it can take you on a trip, and sometimes understand a different <font color = green>culture</font>. This <font color = green>movie</font> <font color = green>did</font> all those things to me and more. Please <font color = green>watch</font> this movie and if you're new to foreign films, this is a great start.<br>I first saw this movie on IFC. Which is a great <font color = red>networking</font> by the way to see underground films. I watched this movie and was thinking it was going to be pure drama and a story line that doesn't hold water. <font color = red>Yet</font> it really was a worth while <font color = red>overseeing</font>. The main character is in such rough <font color = red>formatted</font>, and you hate to see him deny help, but no matter what you just can't hate him. His devotion to The Beatles and John <font color = red>Garfunkel</font> is a great metaphor for his life and the helplessness he feels. <br /><br />The atmosphere of the film is also great. <font color = red>Of</font> times, you feel like you can see what he sees, feel what he feels in some situations. This movie <font color = red>gonna</font> not leave you wanting to know more, or disliking a loophole in the plot. There are NO loopholes (in my opinion). I have always been a fan of foreign films, especially now with movies being made so poorly in <font color = red>Usa</font>. I really enjoy the <font color = red>overseas</font> settings because I feel it can take you on a trip, and sometimes understand a different <font color = red>cropping</font>. This <font color = red>filmmaking</font> <font color = red>wo</font> all those things to me and more. Please <font color = red>oversaw</font> this movie and if you're new to foreign films, this is a great start."
            ],
            "text/plain": [
              "<IPython.core.display.HTML object>"
            ]
          },
          "metadata": {
            "tags": []
          }
        },
        {
          "output_type": "stream",
          "text": [
            "[Succeeded / Failed / Total] 12 / 0 / 13:  52%|█████▏    | 13/25 [03:19<03:04, 15.34s/it]"
          ],
          "name": "stderr"
        },
        {
          "output_type": "display_data",
          "data": {
            "text/html": [
              "<font color = green>Positive (100%)</font> --> <font color = red>Negative (68%)</font><br>I must <font color = green>say</font>, every <font color = green>time</font> I see this <font color = green>movie</font>, I am <font color = green>deeply</font> <font color = green>touched</font>, not only by the most <font color = green>painful</font> four <font color = green>years</font> of Hongsheng's <font color = green>life</font>, but also by how his <font color = green>family</font> <font color = green>deals</font> with his <font color = green>drug</font> <font color = green>addiction</font>. It is also <font color = green>true</font> that <font color = green>getting</font> addicted to anything, such as drugs, <font color = green>alcohol</font>, or <font color = green>pornography</font>, cannot only <font color = green>hurt</font> you, but also <font color = green>hurt</font> your most <font color = green>important</font> <font color = green>people</font> in the <font color = green>world</font>: your family. <font color = green>Since</font> <font color = green>family</font> is the #1 <font color = green>priority</font> in the Asian <font color = green>culture</font>, it <font color = green>takes</font> <font color = green>guts</font> for the <font color = green>circle</font> to gather <font color = green>together</font> and show one <font color = green>person</font> how <font color = green>much</font> the family <font color = green>loves</font> him/her. this is <font color = green>actually</font> the first Chinese movie that I <font color = green>actually</font> enjoy, not for the <font color = green>fun</font> of it, but the <font color = green>elements</font> <font color = green>surrounding</font> it (<font color = green>superb</font> acting, touching story, great <font color = green>direction</font>) <font color = green>make</font> this movie <font color = green>worth</font> watching. What stands out the most is that Hongsheng and his family act out the story themselves <font color = green>instead</font> of having some B-movie actor trying to imitate the real person. It shows the genuineness of the movie.<br>I must <font color = red>talked</font>, every <font color = red>minute</font> I see this <font color = red>film</font>, I am <font color = red>bitterly</font> <font color = red>impacting</font>, not only by the most <font color = red>agonizing</font> four <font color = red>annum</font> of Hongsheng's <font color = red>sustenance</font>, but also by how his <font color = red>kinship</font> <font color = red>refers</font> with his <font color = red>opiate</font> <font color = red>drugs</font>. It is also <font color = red>meaningful</font> that <font color = red>fetch</font> addicted to anything, such as drugs, <font color = red>ethanol</font>, or <font color = red>sex</font>, cannot only <font color = red>harms</font> you, but also <font color = red>rotten</font> your most <font color = red>notable</font> <font color = red>population</font> in the <font color = red>cosmos</font>: your family. <font color = red>Unless</font> <font color = red>clans</font> is the #1 <font color = red>concentrating</font> in the Asian <font color = red>culturally</font>, it <font color = red>toma</font> <font color = red>glands</font> for the <font color = red>hovers</font> to gather <font color = red>along</font> and show one <font color = red>nobody</font> how <font color = red>quite</font> the family <font color = red>likes</font> him/her. this is <font color = red>exactly</font> the first Chinese movie that I <font color = red>literally</font> enjoy, not for the <font color = red>kidding</font> of it, but the <font color = red>things</font> <font color = red>besieging</font> it (<font color = red>wondrous</font> acting, touching story, great <font color = red>directorate</font>) <font color = red>get</font> this movie <font color = red>sentence</font> watching. What stands out the most is that Hongsheng and his family act out the story themselves <font color = red>anyway</font> of having some B-movie actor trying to imitate the real person. It shows the genuineness of the movie."
            ],
            "text/plain": [
              "<IPython.core.display.HTML object>"
            ]
          },
          "metadata": {
            "tags": []
          }
        },
        {
          "output_type": "stream",
          "text": [
            "[Succeeded / Failed / Total] 13 / 0 / 14:  56%|█████▌    | 14/25 [03:51<03:01, 16.51s/it]"
          ],
          "name": "stderr"
        },
        {
          "output_type": "display_data",
          "data": {
            "text/html": [
              "<font color = green>Positive (100%)</font> --> <font color = red>Negative (73%)</font><br>My wife is a mental health therapist and we watched it from beginning to end. I am the typical man and can not stand chick flicks, but this movie is unbelievable. If you want to see what it is like for someone who is going through these type of <font color = green>struggles</font>, this is the <font color = green>movie</font> for you. As I watched it I found myself <font color = green>feeling</font> sorry for him and others like him. <br /><br />***Spoiler*** Plus the fact that all the individuals in the movie including the people in the mental institution were the actual people in real life made it that more real.<br /><br /><font color = green>A</font> must see for <font color = green>someone</font> in the mental health profession!<br>My wife is a mental health therapist and we watched it from beginning to end. I am the typical man and can not stand chick flicks, but this movie is unbelievable. If you want to see what it is like for someone who is going through these type of <font color = red>battaglia</font>, this is the <font color = red>movies</font> for you. As I watched it I found myself <font color = red>impression</font> sorry for him and others like him. <br /><br />***Spoiler*** Plus the fact that all the individuals in the movie including the people in the mental institution were the actual people in real life made it that more real.<br /><br /><font color = red>another</font> must see for <font color = red>nobody</font> in the mental health profession!"
            ],
            "text/plain": [
              "<IPython.core.display.HTML object>"
            ]
          },
          "metadata": {
            "tags": []
          }
        },
        {
          "output_type": "stream",
          "text": [
            "[Succeeded / Failed / Total] 14 / 0 / 15:  60%|██████    | 15/25 [03:54<02:36, 15.66s/it]"
          ],
          "name": "stderr"
        },
        {
          "output_type": "display_data",
          "data": {
            "text/html": [
              "<font color = green>Positive (100%)</font> --> <font color = red>Negative (80%)</font><br>I saw this film at the Rotterdam International Film Festival 2002. This seemed to be one of the <font color = green>less</font> popular films on the festival, however, as it turned out, all the more interesting.<br /><br />The story, of an actor trying to come to grips with himself and his environment after withdrawing from a drug addiction, is based on actual facts. Moreover, the characters playing in the film are the real people living this <font color = green>experience</font> over again, this time for the film, which is partly set up as a stage play. Not only do they all happen to be good actors, Jia Hongsheng's parents are actors in real life as well, the methods used in highlighting their relationship towards Jia are very effective.<br /><br />Jia Hongsheng is the actor of some Chinese action films late eighties start nineties. Later you can see him in great films such as Frozen and <font color = green>Suzhou</font> River. In between these two career paths Jia becomes a drug addict and <font color = green>looses</font> all drive to act or even do anything productive, except for making <font color = green>somewhat</font> futile attempts at becoming a guitar <font color = green>virtuoso</font>.<br /><br />I like the <font color = green>way</font> the writer of the scenario choose to emphasize on his behavior after withdrawal more than on the horror of drugs. We really feel the pain and struggle Jia is in. At the same time we hate him for the way he treats those around him.<br /><br />The film draws the viewer into a tiring pattern Jia seems to be caught in, dragging with him his parents and sister who try to take care of him. Because there are personal 'interviews' with the characters we feel like we are getting to know Jia not only through himself but through others as well.<br /><br />The film has a heavy feel, but scenes of Jia cycling through Bejing and partying with his friends lighten the tone. So does the bitter humor in a lot of events throughout the film. The music is beautiful and stayed with me for a while after. This is a film that might not easily appeal to many people but for those interested in the more serious and modern Chinese film this is a strong recommendation.<br>I saw this film at the Rotterdam International Film Festival 2002. This seemed to be one of the <font color = red>tiniest</font> popular films on the festival, however, as it turned out, all the more interesting.<br /><br />The story, of an actor trying to come to grips with himself and his environment after withdrawing from a drug addiction, is based on actual facts. Moreover, the characters playing in the film are the real people living this <font color = red>experimented</font> over again, this time for the film, which is partly set up as a stage play. Not only do they all happen to be good actors, Jia Hongsheng's parents are actors in real life as well, the methods used in highlighting their relationship towards Jia are very effective.<br /><br />Jia Hongsheng is the actor of some Chinese action films late eighties start nineties. Later you can see him in great films such as Frozen and <font color = red>Chongqing</font> River. In between these two career paths Jia becomes a drug addict and <font color = red>forfeits</font> all drive to act or even do anything productive, except for making <font color = red>abundantly</font> futile attempts at becoming a guitar <font color = red>virtuosity</font>.<br /><br />I like the <font color = red>routed</font> the writer of the scenario choose to emphasize on his behavior after withdrawal more than on the horror of drugs. We really feel the pain and struggle Jia is in. At the same time we hate him for the way he treats those around him.<br /><br />The film draws the viewer into a tiring pattern Jia seems to be caught in, dragging with him his parents and sister who try to take care of him. Because there are personal 'interviews' with the characters we feel like we are getting to know Jia not only through himself but through others as well.<br /><br />The film has a heavy feel, but scenes of Jia cycling through Bejing and partying with his friends lighten the tone. So does the bitter humor in a lot of events throughout the film. The music is beautiful and stayed with me for a while after. This is a film that might not easily appeal to many people but for those interested in the more serious and modern Chinese film this is a strong recommendation."
            ],
            "text/plain": [
              "<IPython.core.display.HTML object>"
            ]
          },
          "metadata": {
            "tags": []
          }
        },
        {
          "output_type": "stream",
          "text": [
            "[Succeeded / Failed / Total] 15 / 0 / 16:  64%|██████▍   | 16/25 [05:00<02:48, 18.76s/it]"
          ],
          "name": "stderr"
        },
        {
          "output_type": "display_data",
          "data": {
            "text/html": [
              "<font color = red>Negative (100%)</font> --> <font color = gray>[SKIPPED]</font><br>\"Night of the Hunted\" stars French porn star Brigitte Lahaie.In fact,many of the cast members in this slow-moving production were porn actors at the time of its frantic filming.This film is certainly different than Rollin's usual lesbian vampire flicks,but it's not as memorable as for example \"Lips of Blood\" or \"Fascination\".Lahaie plays an amnesiac hitchhiker who can't remember who she is or where she came from.Most of the film takes place in a modern apartment complex,where Lahaie is being held by some kind of medical group that's treating a number of people with a similar condition.Anyway,she escapes from the monolithic office tower where the affected people are held.On a highway outside of town,she meets a young man,who stops and picks her up.\"Night of the Hunted\" offers plenty of nudity,unfortunately the pace is extremely slow.The atmosphere is horribly sad and the relationship between Brigitte Lahaie and another asylum inmate Dominique Journet is well-developed.Still \"Night of the Hunted\" is too dull to be completely enjoyable.Give it a look only if you are a fan of Jean Rollin's works.7 out of 10 and that's being kind."
            ],
            "text/plain": [
              "<IPython.core.display.HTML object>"
            ]
          },
          "metadata": {
            "tags": []
          }
        },
        {
          "output_type": "stream",
          "text": [
            "\r[Succeeded / Failed / Total] 15 / 0 / 17:  68%|██████▊   | 17/25 [05:00<02:21, 17.66s/it]"
          ],
          "name": "stderr"
        },
        {
          "output_type": "display_data",
          "data": {
            "text/html": [
              "<font color = green>Positive (100%)</font> --> <font color = red>Negative (99%)</font><br>Even if you're a fan of Jean Rollin's idiosyncratic body of work, you will be caught off guard by this <font color = green>exceptional</font> foray into science fiction territory. For once, there's not a single diaphanously gowned vampire girl in sight ! True to tradition, the budget proved way too tight to realize the director's vision entirely. Yet this is largely compensated by his obvious love of genre cinema, dedication to his craft and sheer ingenuity. Jean-Claude Couty's atmospheric cinematography makes the most of the foreboding locations and Philippe Bréjean (a/k/a \"Gary Sandeur\") contributes a startling soundtrack that fortunately doesn't resemble any of the sappy stuff he composed for hardcore.<br /><br />Shot in and around a Paris office block before and after working hours, the film was largely cast with porn regulars Rollin was already quite familiar with from his \"Michel Gentil\" cash-gathering XXX efforts, most notably French f*ck film royalty Brigitte Lahaie in the demanding lead. Playing Elisabeth (rather well, I might add), she's picked up wandering a nearby highway one night by Robert (Vincent Gardère), driving home at the end of a long work day. Barely able to piece together the string of events that got her there, Elisabeth seems to lose her memories mere moments after events occur, even forgetting Robert's name and heroic savior role before their night flight comes to an end at his apartment. Prior to making love, she rightfully describes herself as a virgin (further credit to Brigitte's thespian skills that she can handle the line so convincingly, being after all one of the more active adult actresses of the '70s) because she cannot recall a single touch preceding his. Because of this nifty bit of context, the relatively long sex scene that follows totally eschews the gratuity of other \"commercial\" interludes Rollin has had to include in other works to assure funding.<br /><br />When Robert leaves for work, he's inevitably erased from Elisabeth's feeble mind. A mysterious doctor (comedian Bernard Papineau effectively cast against type) and his menacing assistant Solange (striking porn starlet Rachel Mhas) move in on her during her protector's absence and take her back to the place she turns out to have escaped from. Here we get one of the movie's strongest scenes as she's re-introduced to her roommate Catherine (the late Cathérine Greiner a/k/a hardcore performer \"Cathy Stewart\" in a quietly devastating turn), both girls desperately supplying fictitious shared \"memories\" for one another in a bid to outrun their inevitable fate. That deterioration is not solely limited to the mind becomes painfully clear when they are served lunch and Catherine's unable to control her movements in trying to eat a spoonful of soup. It's also Catherine who gets to voice the filmmaker's compromise with the demands of commerce as she urges Elisabeth to get naked and hold her because sex is all they have left now that both mind and physical faculties have deserted them.<br /><br />Several rather explicit - if not quite hardcore - sex scenes make up the movie's mid-section and French porn aficionados should recognize the likes of Alain Plumey (a/k/a \"Cyril Val\"), Jacques Gateau and Elodie Delage, along with a blink and miss bit from future porno princess Marilyn Jess whose rape at the hands, mouth and member of Plumey was only present in the film's rarely screened XXX version FILLES TRAQUEES. The pivotal part of Véronique, a girl Elisabeth almost seems to remember and whom she seeks to escape anew with, is beautifully handled by the exquisite Dominique Journet - in her unforgettable debut - who would go on to play a sizable supporting role in Franco Zeffirelli's LA TRAVIATA. The six feet under ending reveals the deteriorating condition to be the result of a nuclear spill, the quarantined \"patients\" ultimately leaving a barely breathing empty shell, unceremoniously disposed off in a fiery furnace. The final shot offers a particularly heartbreaking variation on that of Chaplin's MODERN TIMES as Elisabeth, approaching complete meltdown by now, and a wounded Robert stumble along the railroad bridge, clumsily clasping each other's outstretched hands.<br>Even if you're a fan of Jean Rollin's idiosyncratic body of work, you will be caught off guard by this <font color = red>sumptuous</font> foray into science fiction territory. For once, there's not a single diaphanously gowned vampire girl in sight ! True to tradition, the budget proved way too tight to realize the director's vision entirely. Yet this is largely compensated by his obvious love of genre cinema, dedication to his craft and sheer ingenuity. Jean-Claude Couty's atmospheric cinematography makes the most of the foreboding locations and Philippe Bréjean (a/k/a \"Gary Sandeur\") contributes a startling soundtrack that fortunately doesn't resemble any of the sappy stuff he composed for hardcore.<br /><br />Shot in and around a Paris office block before and after working hours, the film was largely cast with porn regulars Rollin was already quite familiar with from his \"Michel Gentil\" cash-gathering XXX efforts, most notably French f*ck film royalty Brigitte Lahaie in the demanding lead. Playing Elisabeth (rather well, I might add), she's picked up wandering a nearby highway one night by Robert (Vincent Gardère), driving home at the end of a long work day. Barely able to piece together the string of events that got her there, Elisabeth seems to lose her memories mere moments after events occur, even forgetting Robert's name and heroic savior role before their night flight comes to an end at his apartment. Prior to making love, she rightfully describes herself as a virgin (further credit to Brigitte's thespian skills that she can handle the line so convincingly, being after all one of the more active adult actresses of the '70s) because she cannot recall a single touch preceding his. Because of this nifty bit of context, the relatively long sex scene that follows totally eschews the gratuity of other \"commercial\" interludes Rollin has had to include in other works to assure funding.<br /><br />When Robert leaves for work, he's inevitably erased from Elisabeth's feeble mind. A mysterious doctor (comedian Bernard Papineau effectively cast against type) and his menacing assistant Solange (striking porn starlet Rachel Mhas) move in on her during her protector's absence and take her back to the place she turns out to have escaped from. Here we get one of the movie's strongest scenes as she's re-introduced to her roommate Catherine (the late Cathérine Greiner a/k/a hardcore performer \"Cathy Stewart\" in a quietly devastating turn), both girls desperately supplying fictitious shared \"memories\" for one another in a bid to outrun their inevitable fate. That deterioration is not solely limited to the mind becomes painfully clear when they are served lunch and Catherine's unable to control her movements in trying to eat a spoonful of soup. It's also Catherine who gets to voice the filmmaker's compromise with the demands of commerce as she urges Elisabeth to get naked and hold her because sex is all they have left now that both mind and physical faculties have deserted them.<br /><br />Several rather explicit - if not quite hardcore - sex scenes make up the movie's mid-section and French porn aficionados should recognize the likes of Alain Plumey (a/k/a \"Cyril Val\"), Jacques Gateau and Elodie Delage, along with a blink and miss bit from future porno princess Marilyn Jess whose rape at the hands, mouth and member of Plumey was only present in the film's rarely screened XXX version FILLES TRAQUEES. The pivotal part of Véronique, a girl Elisabeth almost seems to remember and whom she seeks to escape anew with, is beautifully handled by the exquisite Dominique Journet - in her unforgettable debut - who would go on to play a sizable supporting role in Franco Zeffirelli's LA TRAVIATA. The six feet under ending reveals the deteriorating condition to be the result of a nuclear spill, the quarantined \"patients\" ultimately leaving a barely breathing empty shell, unceremoniously disposed off in a fiery furnace. The final shot offers a particularly heartbreaking variation on that of Chaplin's MODERN TIMES as Elisabeth, approaching complete meltdown by now, and a wounded Robert stumble along the railroad bridge, clumsily clasping each other's outstretched hands."
            ],
            "text/plain": [
              "<IPython.core.display.HTML object>"
            ]
          },
          "metadata": {
            "tags": []
          }
        },
        {
          "output_type": "stream",
          "text": [
            "[Succeeded / Failed / Total] 16 / 0 / 18:  72%|███████▏  | 18/25 [05:19<02:04, 17.74s/it]"
          ],
          "name": "stderr"
        },
        {
          "output_type": "display_data",
          "data": {
            "text/html": [
              "<font color = green>Positive (100%)</font> --> <font color = red>Negative (64%)</font><br>I was <font color = green>surprised</font> how <font color = green>much</font> I <font color = green>enjoyed</font> this. Sure it is a <font color = green>bit</font> <font color = green>slow</font> moving in parts, but what else would one expect from Rollin? <font color = green>Also</font> there is plenty of nudity, nothing wrong with that, particularly as it includes lots of the gorgeous, Brigitte Lahaie. There are also some spectacularly eroticised female dead, bit more dodgey, perhaps, but most effective. There is also a sci-fi like storyline with a brief explanation at the end, but I wouldn't bother too much with that. No, here we have a most interesting <font color = green>exploration</font> of memory and the effect of memory loss and to just what extent one is still 'alive' without memory. My DVD sleeve mentions David Cronenberg and <font color = green>whilst</font> this is perhaps not quite as good as his best films, there is some similarity here, particularly with the great use of seemingly menacing architecture and the effective and creepy use of inside space. As I have tried to indicate this is by no means a rip roaring thriller, it is a <font color = green>captivating</font>, nightmare like movie that makes the very most of its locations, including a stunning railway setting at the end.<br>I was <font color = red>dismayed</font> how <font color = red>sizeable</font> I <font color = red>undergone</font> this. Sure it is a <font color = red>hunk</font> <font color = red>lethargic</font> moving in parts, but what else would one expect from Rollin? <font color = red>Then</font> there is plenty of nudity, nothing wrong with that, particularly as it includes lots of the gorgeous, Brigitte Lahaie. There are also some spectacularly eroticised female dead, bit more dodgey, perhaps, but most effective. There is also a sci-fi like storyline with a brief explanation at the end, but I wouldn't bother too much with that. No, here we have a most interesting <font color = red>exploratory</font> of memory and the effect of memory loss and to just what extent one is still 'alive' without memory. My DVD sleeve mentions David Cronenberg and <font color = red>wheres</font> this is perhaps not quite as good as his best films, there is some similarity here, particularly with the great use of seemingly menacing architecture and the effective and creepy use of inside space. As I have tried to indicate this is by no means a rip roaring thriller, it is a <font color = red>scintillating</font>, nightmare like movie that makes the very most of its locations, including a stunning railway setting at the end."
            ],
            "text/plain": [
              "<IPython.core.display.HTML object>"
            ]
          },
          "metadata": {
            "tags": []
          }
        },
        {
          "output_type": "stream",
          "text": [
            "[Succeeded / Failed / Total] 17 / 0 / 19:  76%|███████▌  | 19/25 [05:27<01:43, 17.22s/it]"
          ],
          "name": "stderr"
        },
        {
          "output_type": "display_data",
          "data": {
            "text/html": [
              "<font color = green>Positive (100%)</font> --> <font color = red>Negative (100%)</font><br>I went into \"Night of the Hunted\" not knowing what to expect at all. I was really <font color = green>impressed</font>.<br /><br />It is essentially a mystery/thriller where this girl who can't remember anything gets 'rescued' by a guy who happens to be driving past. The two become fast friends and lovers and together, they try to figure out what is going on with her. Through some vague flashbacks and grim memories, they eventually get to the bottom of it and the ending is pretty cool.<br /><br />I really liked the setting of this one: a desolate, post-modern Paris is the backdrop with lots of gray skies and tall buildings. Very metropolitan. Groovy soundtrack and lots of nudity.<br /><br />Surprising it was made in 1980; seems somewhat ahead of it's time.<br /><br />8 out of 10, kids.<br>I went into \"Night of the Hunted\" not knowing what to expect at all. I was really <font color = red>appalled</font>.<br /><br />It is essentially a mystery/thriller where this girl who can't remember anything gets 'rescued' by a guy who happens to be driving past. The two become fast friends and lovers and together, they try to figure out what is going on with her. Through some vague flashbacks and grim memories, they eventually get to the bottom of it and the ending is pretty cool.<br /><br />I really liked the setting of this one: a desolate, post-modern Paris is the backdrop with lots of gray skies and tall buildings. Very metropolitan. Groovy soundtrack and lots of nudity.<br /><br />Surprising it was made in 1980; seems somewhat ahead of it's time.<br /><br />8 out of 10, kids."
            ],
            "text/plain": [
              "<IPython.core.display.HTML object>"
            ]
          },
          "metadata": {
            "tags": []
          }
        },
        {
          "output_type": "stream",
          "text": [
            "[Succeeded / Failed / Total] 18 / 0 / 20:  80%|████████  | 20/25 [05:30<01:22, 16.54s/it]"
          ],
          "name": "stderr"
        },
        {
          "output_type": "display_data",
          "data": {
            "text/html": [
              "<font color = green>Positive (60%)</font> --> <font color = red>Negative (80%)</font><br>I have certainly not seen all of Jean Rollin's films, but they mostly seem to be bloody vampire naked women fests, which if you like that sort of thing is not bad, but this is a major departure and could almost be Cronenberg minus the bio-mechanical nightmarish stuff. Except it's in French with subtitles of course. A man driving on the road at night comes across a woman that is in her slippers and bathrobe and picks her up, while in the background yet another woman lingers, wearing nothing. As they drive along it's obvious that there is something not right about the woman, in that she forgets things almost as quickly as they happen. Still though, that doesn't prevent the man from having sex with her once they return to Paris & his apartment. The man leaves for work and some strangers show up at his place and take the woman away to this 'tower block', a huge apartment building referred to as the Black Tower, where others of her kind (for whom the 'no memory' things seems to be the least of their problems) are being held for some reason. Time and <font color = green>events</font> march by in the movie, which involve mostly trying to find what's going on and get out of the building for this woman, and she does manage to call Robert, the guy that picked her up in the first place, to come rescue her. The revelation as to what's going on comes in the last few moments of the movie, which has a rather strange yet touching end to it. In avoiding what seemed to be his \"typical\" formula, Rollin created, in this, what I feel is his most fascinating and disturbing film. I like this one a lot, check it out. 8 out of 10.<br>I have certainly not seen all of Jean Rollin's films, but they mostly seem to be bloody vampire naked women fests, which if you like that sort of thing is not bad, but this is a major departure and could almost be Cronenberg minus the bio-mechanical nightmarish stuff. Except it's in French with subtitles of course. A man driving on the road at night comes across a woman that is in her slippers and bathrobe and picks her up, while in the background yet another woman lingers, wearing nothing. As they drive along it's obvious that there is something not right about the woman, in that she forgets things almost as quickly as they happen. Still though, that doesn't prevent the man from having sex with her once they return to Paris & his apartment. The man leaves for work and some strangers show up at his place and take the woman away to this 'tower block', a huge apartment building referred to as the Black Tower, where others of her kind (for whom the 'no memory' things seems to be the least of their problems) are being held for some reason. Time and <font color = red>manifestations</font> march by in the movie, which involve mostly trying to find what's going on and get out of the building for this woman, and she does manage to call Robert, the guy that picked her up in the first place, to come rescue her. The revelation as to what's going on comes in the last few moments of the movie, which has a rather strange yet touching end to it. In avoiding what seemed to be his \"typical\" formula, Rollin created, in this, what I feel is his most fascinating and disturbing film. I like this one a lot, check it out. 8 out of 10."
            ],
            "text/plain": [
              "<IPython.core.display.HTML object>"
            ]
          },
          "metadata": {
            "tags": []
          }
        },
        {
          "output_type": "stream",
          "text": [
            "[Succeeded / Failed / Total] 19 / 0 / 21:  84%|████████▍ | 21/25 [05:37<01:04, 16.08s/it]"
          ],
          "name": "stderr"
        },
        {
          "output_type": "display_data",
          "data": {
            "text/html": [
              "<font color = green>Positive (100%)</font> --> <font color = red>Negative (62%)</font><br>Since this cartoon was made in the old days, Felix talks using cartoon bubbles and the animation style is very crude when compared to today. <font color = green>However</font>, compared to its contemporaries, it's a pretty good cartoon and still holds up well. That's because <font color = green>despite</font> its age, the cartoon is very creative and <font color = green>funny</font>.<br /><br />Felix meets a guy whose shoe business is folding because he can't sell any shoes. Well, Felix needs money so he can go to Hollywood, so he tells the guy at the shop he'll get every shoe sold. Felix spreads chewing <font color = green>gum</font> all over town and soon people are stuck and leave their shoes--rushing to buy new ones from the shoe store. In gratitude, the guy gives Felix $500! However, Felix's owner wants to take the money and go alone, so Felix figures out a way to sneak along.<br /><br />Once there, Felix barges into a studio and makes a bit of a nuisance of himself. Along the way, he meets cartoon versions of comics Ben Turpin and Charlie Chaplin. In the end, though, through luck, Felix is discovered and offered a movie contract. Hurray!<br>Since this cartoon was made in the old days, Felix talks using cartoon bubbles and the animation style is very crude when compared to today. <font color = red>Once</font>, compared to its contemporaries, it's a pretty good cartoon and still holds up well. That's because <font color = red>unless</font> its age, the cartoon is very creative and <font color = red>droll</font>.<br /><br />Felix meets a guy whose shoe business is folding because he can't sell any shoes. Well, Felix needs money so he can go to Hollywood, so he tells the guy at the shop he'll get every shoe sold. Felix spreads chewing <font color = red>chewing</font> all over town and soon people are stuck and leave their shoes--rushing to buy new ones from the shoe store. In gratitude, the guy gives Felix $500! However, Felix's owner wants to take the money and go alone, so Felix figures out a way to sneak along.<br /><br />Once there, Felix barges into a studio and makes a bit of a nuisance of himself. Along the way, he meets cartoon versions of comics Ben Turpin and Charlie Chaplin. In the end, though, through luck, Felix is discovered and offered a movie contract. Hurray!"
            ],
            "text/plain": [
              "<IPython.core.display.HTML object>"
            ]
          },
          "metadata": {
            "tags": []
          }
        },
        {
          "output_type": "stream",
          "text": [
            "[Succeeded / Failed / Total] 20 / 0 / 22:  88%|████████▊ | 22/25 [05:43<00:46, 15.60s/it]"
          ],
          "name": "stderr"
        },
        {
          "output_type": "display_data",
          "data": {
            "text/html": [
              "<font color = green>Positive (100%)</font> --> <font color = red>Negative (52%)</font><br>Despite the title and unlike some other stories about love and war, this film isn't too sticky and pink, because love is as a rose: With thorns, that is. The four leading actors set their characters realistic and with a good sense and <font color = green>balance</font> between the tragic and the down-to-earth. <br /><br />The music and lyrics of the cabaret/chanson-esquire songs (sung b <font color = green>Keira</font> <font color = green>Knightley</font> herself) drag the <font color = green>viewer</font> <font color = green>deeper</font> and deeper in the film, from one place to another, between the brutal war and amongst the peaceful love. Some people may find it too much a biopic, but it ís mostly a romantic story, even though it consequently follows the life of Dylan Thomas and the triangular relationship which is <font color = green>steeped</font> by joy and jealousy. <br /><br />London gets <font color = green>visualized</font> from another <font color = green>angle</font> for once, the bohemian life of Dylan during the bombings of the Germans is set in a floating atmosphere of small bedrooms, pubs and bars. The independent women, the soldier and the charismatic poet are constantly swept in both feelings of love and anger. <br /><br />Maybe the end is too <font color = green>twisted</font> and hangs <font color = green>somewhat</font> loosely to the rest of the <font color = green>film</font>, but all in all this is a great romantic story.<br>Despite the title and unlike some other stories about love and war, this film isn't too sticky and pink, because love is as a rose: With thorns, that is. The four leading actors set their characters realistic and with a good sense and <font color = red>reconciled</font> between the tragic and the down-to-earth. <br /><br />The music and lyrics of the cabaret/chanson-esquire songs (sung b <font color = red>Gemma</font> <font color = red>Cate</font> herself) drag the <font color = red>visor</font> <font color = red>fatter</font> and deeper in the film, from one place to another, between the brutal war and amongst the peaceful love. Some people may find it too much a biopic, but it ís mostly a romantic story, even though it consequently follows the life of Dylan Thomas and the triangular relationship which is <font color = red>bathed</font> by joy and jealousy. <br /><br />London gets <font color = red>noticed</font> from another <font color = red>turning</font> for once, the bohemian life of Dylan during the bombings of the Germans is set in a floating atmosphere of small bedrooms, pubs and bars. The independent women, the soldier and the charismatic poet are constantly swept in both feelings of love and anger. <br /><br />Maybe the end is too <font color = red>madwoman</font> and hangs <font color = red>sufficiently</font> loosely to the rest of the <font color = red>filmmakers</font>, but all in all this is a great romantic story."
            ],
            "text/plain": [
              "<IPython.core.display.HTML object>"
            ]
          },
          "metadata": {
            "tags": []
          }
        },
        {
          "output_type": "stream",
          "text": [
            "[Succeeded / Failed / Total] 21 / 0 / 23:  92%|█████████▏| 23/25 [05:55<00:30, 15.46s/it]"
          ],
          "name": "stderr"
        },
        {
          "output_type": "display_data",
          "data": {
            "text/html": [
              "<font color = green>Positive (100%)</font> --> <font color = red>Negative (56%)</font><br><font color = green>Felix</font> in Hollywood is a great film. The version I viewed was very <font color = green>well</font> <font color = green>restored</font>, which is <font color = green>sometimes</font> a problem with these silent <font color = green>era</font> <font color = green>animated</font> <font color = green>films</font>. It has some of Hollywood's most famous <font color = green>stars</font> <font color = green>making</font> cameo animated appearances. A must for any <font color = green>silent</font> film or animation enthusiast.<br><font color = red>Emilio</font> in Hollywood is a great film. The version I viewed was very <font color = red>okay</font> <font color = red>restoring</font>, which is <font color = red>someday</font> a problem with these silent <font color = red>moment</font> <font color = red>plucky</font> <font color = red>movie</font>. It has some of Hollywood's most famous <font color = red>fame</font> <font color = red>having</font> cameo animated appearances. A must for any <font color = red>shhh</font> film or animation enthusiast."
            ],
            "text/plain": [
              "<IPython.core.display.HTML object>"
            ]
          },
          "metadata": {
            "tags": []
          }
        },
        {
          "output_type": "stream",
          "text": [
            "[Succeeded / Failed / Total] 22 / 0 / 24:  96%|█████████▌| 24/25 [06:01<00:15, 15.05s/it]"
          ],
          "name": "stderr"
        },
        {
          "output_type": "display_data",
          "data": {
            "text/html": [
              "<font color = green>Positive (100%)</font> --> <font color = red>Negative (92%)</font><br><font color = green>A</font> gem of a <font color = green>cartoon</font> from the silent era---it was re-discovered by CARTOON <font color = green>NETWORK</font>, and was broadcast for likely the first time in decades, if ever.<br /><br />What <font color = green>makes</font> this so enjoyable are the <font color = green>varied</font> cameos...Douglas Fairbanks is attacked by giant mosquitos; Will Hays <font color = green>pays</font> a visit as 'boss' of Static <font color = green>Studios</font>; as well as appearances by <font color = green>Chaplin</font>, Keaton, and William <font color = green>S</font>. <font color = green>Hart</font>. The image of <font color = green>chewing</font> gum decimating the shoes of the <font color = green>populace</font> (a money-making idea for Felix's near-bankrupt shoe-=salesman boss) cannot <font color = green>be</font> described--it must be viewed. A <font color = green>terrific</font> cultural gem.<br><font color = red>another</font> gem of a <font color = red>travesty</font> from the silent era---it was re-discovered by CARTOON <font color = red>LNTERNET</font>, and was broadcast for likely the first time in decades, if ever.<br /><br />What <font color = red>paid</font> this so enjoyable are the <font color = red>many</font> cameos...Douglas Fairbanks is attacked by giant mosquitos; Will Hays <font color = red>treatment</font> a visit as 'boss' of Static <font color = red>Studies</font>; as well as appearances by <font color = red>Hepburn</font>, Keaton, and William <font color = red>rs</font>. <font color = red>Randy</font>. The image of <font color = red>mince</font> gum decimating the shoes of the <font color = red>inhabitant</font> (a money-making idea for Felix's near-bankrupt shoe-=salesman boss) cannot <font color = red>was</font> described--it must be viewed. A <font color = red>sumptuous</font> cultural gem."
            ],
            "text/plain": [
              "<IPython.core.display.HTML object>"
            ]
          },
          "metadata": {
            "tags": []
          }
        },
        {
          "output_type": "stream",
          "text": [
            "[Succeeded / Failed / Total] 23 / 0 / 25: 100%|██████████| 25/25 [06:09<00:00, 14.79s/it]"
          ],
          "name": "stderr"
        },
        {
          "output_type": "display_data",
          "data": {
            "text/html": [
              "<font color = green>Positive (100%)</font> --> <font color = red>Negative (59%)</font><br>This short is one of the best of all <font color = green>time</font> and is proof (just like most of <font color = green>Charlie</font> Chaplin's work) that <font color = green>sound</font> and <font color = green>color</font> are not <font color = green>requirements</font> for <font color = green>quality</font> <font color = green>work</font>. <font color = green>In</font> fact, this <font color = green>cartoon</font> <font color = green>uses</font> (and may have started) some of the <font color = green>gags</font> and <font color = green>devices</font> that <font color = green>became</font> <font color = green>standard</font> in <font color = green>animation</font> in <font color = green>later</font> <font color = green>years</font>, like caricatures of <font color = green>celebrities</font> (including the afore-mentioned Chaplin. <font color = green>While</font> the <font color = green>characters</font> are silent, they <font color = green>do</font> \"<font color = green>speak</font>\", by <font color = green>use</font> of <font color = green>word</font> balloons, just like in the comics. Given that Felix started out in newspapers as a <font color = green>comic</font> strip, this device is a natural. The <font color = green>atmosphere</font> and style of the short is <font color = green>completely</font> <font color = green>harmonious</font> with that of the comic <font color = green>strip</font> while <font color = green>adding</font> another <font color = green>dimension</font> (<font color = green>literally</font> and <font color = green>figuratively</font>) and <font color = green>makes</font> this <font color = green>short</font> a delight to <font color = green>watch</font>. Well worth taking the time and effort to <font color = green>get</font>. Most highly recommended.<br>This short is one of the best of all <font color = red>minute</font> and is proof (just like most of <font color = red>Charley</font> Chaplin's work) that <font color = red>noise</font> and <font color = red>stain</font> are not <font color = red>duties</font> for <font color = red>qualities</font> <font color = red>works</font>. <font color = red>During</font> fact, this <font color = red>caricature</font> <font color = red>consuming</font> (and may have started) some of the <font color = red>giggles</font> and <font color = red>hardware</font> that <font color = red>walked</font> <font color = red>spec</font> in <font color = red>liven</font> in <font color = red>thereafter</font> <font color = red>aging</font>, like caricatures of <font color = red>star</font> (including the afore-mentioned Chaplin. <font color = red>Despite</font> the <font color = red>trait</font> are silent, they <font color = red>could</font> \"<font color = red>talk</font>\", by <font color = red>utilizes</font> of <font color = red>wording</font> balloons, just like in the comics. Given that Felix started out in newspapers as a <font color = red>humorous</font> strip, this device is a natural. The <font color = red>vibe</font> and style of the short is <font color = red>pretty</font> <font color = red>coherent</font> with that of the comic <font color = red>bands</font> while <font color = red>additions</font> another <font color = red>elements</font> (<font color = red>basically</font> and <font color = red>indifferently</font>) and <font color = red>brings</font> this <font color = red>brief</font> a delight to <font color = red>supervising</font>. Well worth taking the time and effort to <font color = red>did</font>. Most highly recommended."
            ],
            "text/plain": [
              "<IPython.core.display.HTML object>"
            ]
          },
          "metadata": {
            "tags": []
          }
        },
        {
          "output_type": "stream",
          "text": [
            "[Succeeded / Failed / Total] 24 / 0 / 26: : 26it [06:33, 15.13s/it]"
          ],
          "name": "stderr"
        },
        {
          "output_type": "display_data",
          "data": {
            "text/html": [
              "<font color = green>Positive (86%)</font> --> <font color = red>Negative (55%)</font><br><font color = green>Felix</font> is watching an actor rehearse his lines: \"A ham, A ham! My kingdom for a ham sandwich!!!\" The dramatic guy that tells Felix he'll \"have to sacrifice my art and go into the movies.\" He's in tears. Felix just looks at him like he's nuts, and shrugs his shoulders. The old guy tells Felix to \"go ye forth\" and find money to finance a trip to Hollywood. Felix thinks, \"How does he expect me to get the money?\"<br /><br />In minutes, of course (this is a cartoon), he spots a shoe business owner putting up a \"bankrupt\" sale on his store. Felix comes up with a plan to bail him out and the man promises the cat $500 if it works.<br /><br />Well, it does but the man wants to go alone and leave Felix at home. In an outrageous scene, Felix transforms himself into a briefcase and that's how he gets to Hollywood, transforming himself back to cat when they get there.<br /><br />We then witness Felix's attempts at getting into show business. His audition scenes are very funny, especially with his imitation of Charlie Chaplin. In addition there are caricatures of some famous silent film stars and executives. In all, quite a bit of material is in this 9.5- minute cartoon. It's amazing how much more you can get in an extra 2.5 minutes, assuming most animated shorts are seven minutes in length.<br /><br />At any rate, there were a number of laughs in here and more zany things you could only see in a cartoon, like Felix have a sword duel with giant mosquitoes! Crazy stuff.<br><font color = red>Duran</font> is watching an actor rehearse his lines: \"A ham, A ham! My kingdom for a ham sandwich!!!\" The dramatic guy that tells Felix he'll \"have to sacrifice my art and go into the movies.\" He's in tears. Felix just looks at him like he's nuts, and shrugs his shoulders. The old guy tells Felix to \"go ye forth\" and find money to finance a trip to Hollywood. Felix thinks, \"How does he expect me to get the money?\"<br /><br />In minutes, of course (this is a cartoon), he spots a shoe business owner putting up a \"bankrupt\" sale on his store. Felix comes up with a plan to bail him out and the man promises the cat $500 if it works.<br /><br />Well, it does but the man wants to go alone and leave Felix at home. In an outrageous scene, Felix transforms himself into a briefcase and that's how he gets to Hollywood, transforming himself back to cat when they get there.<br /><br />We then witness Felix's attempts at getting into show business. His audition scenes are very funny, especially with his imitation of Charlie Chaplin. In addition there are caricatures of some famous silent film stars and executives. In all, quite a bit of material is in this 9.5- minute cartoon. It's amazing how much more you can get in an extra 2.5 minutes, assuming most animated shorts are seven minutes in length.<br /><br />At any rate, there were a number of laughs in here and more zany things you could only see in a cartoon, like Felix have a sword duel with giant mosquitoes! Crazy stuff."
            ],
            "text/plain": [
              "<IPython.core.display.HTML object>"
            ]
          },
          "metadata": {
            "tags": []
          }
        },
        {
          "output_type": "stream",
          "text": [
            "[Succeeded / Failed / Total] 25 / 0 / 27: : 27it [06:40, 14.82s/it]"
          ],
          "name": "stderr"
        },
        {
          "output_type": "stream",
          "text": [
            "+-------------------------------+--------+\n",
            "| Attack Results                |        |\n",
            "+-------------------------------+--------+\n",
            "| Number of successful attacks: | 25     |\n",
            "| Number of failed attacks:     | 0      |\n",
            "| Number of skipped attacks:    | 2      |\n",
            "| Original accuracy:            | 92.59% |\n",
            "| Accuracy under attack:        | 0.0%   |\n",
            "| Attack success rate:          | 100.0% |\n",
            "| Average perturbed word %:     | 7.99%  |\n",
            "| Average num. words per input: | 248.96 |\n",
            "| Avg num queries:              | 663.64 |\n",
            "+-------------------------------+--------+"
          ],
          "name": "stdout"
        },
        {
          "output_type": "stream",
          "text": [
            "\n",
            "\u001b[34;1mtextattack\u001b[0m: Attack time: 400.18313431739807s\n"
          ],
          "name": "stderr"
        }
      ]
    },
    {
      "cell_type": "markdown",
      "metadata": {
        "id": "ETFWdZoeyru2"
      },
      "source": [
        "# Attacking AlBERT-base-v2-yelp-polarity model"
      ]
    },
    {
      "cell_type": "code",
      "metadata": {
        "id": "tQrtOvpRhQSA"
      },
      "source": [
        "# Import the model\n",
        "import transformers\n",
        "from textattack.models.tokenizers import AutoTokenizer\n",
        "from textattack.models.wrappers import HuggingFaceModelWrapper\n",
        "\n",
        "model = transformers.AutoModelForSequenceClassification.from_pretrained(\"textattack/albert-base-v2-yelp-polarity\")\n",
        "tokenizer = AutoTokenizer(\"textattack/albert-base-v2-yelp-polarity\")\n",
        "# Change these\n",
        "\n",
        "model_wrapper = HuggingFaceModelWrapper(model, tokenizer)\n",
        "\n",
        "dataset = HuggingFaceDataset(\"yelp_polarity\", None, \"test\") # Change the dataset"
      ],
      "execution_count": 23,
      "outputs": []
    },
    {
      "cell_type": "markdown",
      "metadata": {
        "id": "EbxIc-QWy1Zk"
      },
      "source": [
        "## Attacking using our attack recipe"
      ]
    },
    {
      "cell_type": "code",
      "metadata": {
        "colab": {
          "base_uri": "https://localhost:8080/",
          "height": 1000
        },
        "id": "GXtYHSCKwMfY",
        "outputId": "0660a82b-a4a3-4da5-f802-cc7f958c921a"
      },
      "source": [
        "# Attacking and printing results\n",
        "from collections import deque\n",
        "\n",
        "import textattack\n",
        "import tqdm\n",
        "import time\n",
        "from IPython.display import display, HTML\n",
        "num_examples = 25\n",
        "num_remaining_attacks = num_examples\n",
        "pbar = tqdm.tqdm(total=num_remaining_attacks, smoothing=0)\n",
        "\n",
        "worklist = deque(range(0, num_examples))\n",
        "worklist_tail = worklist[-1]\n",
        "\n",
        "attack_log_manager = textattack.loggers.AttackLogManager()\n",
        "\n",
        "load_time = time.time()\n",
        "        \n",
        "num_results = 0\n",
        "num_failures = 0\n",
        "num_successes = 0\n",
        "for result in attack.attack_dataset(dataset, indices=worklist):\n",
        "    result_html_str = result.__str__(color_method=\"html\").replace(\"\\n\\n\", \"<br>\")\n",
        "    display(HTML(result_html_str))\n",
        "    attack_log_manager.log_result(result)\n",
        "            \n",
        "    if not isinstance(result, textattack.attack_results.SkippedAttackResult):\n",
        "        pbar.update(1)\n",
        "    else:\n",
        "        worklist_tail += 1\n",
        "        pbar.update(1)\n",
        "        worklist.append(worklist_tail)\n",
        "\n",
        "    num_results += 1\n",
        "\n",
        "    if (\n",
        "        type(result) == textattack.attack_results.SuccessfulAttackResult\n",
        "        or type(result) == textattack.attack_results.MaximizedAttackResult\n",
        "    ):\n",
        "        num_successes += 1\n",
        "                \n",
        "    if type(result) == textattack.attack_results.FailedAttackResult:\n",
        "        num_failures += 1\n",
        "    pbar.set_description(\n",
        "        \"[Succeeded / Failed / Total] {} / {} / {}\".format(\n",
        "            num_successes, num_failures, num_results\n",
        "        )\n",
        "    )\n",
        "\n",
        "pbar.close()\n",
        "\n",
        "attack_log_manager.enable_stdout()\n",
        "attack_log_manager.log_summary()\n",
        "attack_log_manager.flush()\n",
        "        \n",
        "textattack.shared.logger.info(f\"Attack time: {time.time() - load_time}s\")"
      ],
      "execution_count": 25,
      "outputs": [
        {
          "output_type": "stream",
          "text": [
            "\r  0%|          | 0/25 [00:00<?, ?it/s]"
          ],
          "name": "stderr"
        },
        {
          "output_type": "display_data",
          "data": {
            "text/html": [
              "<font color = green>2 (100%)</font> --> <font color = red>1 (92%)</font><br>Contrary to other reviews, I have <font color = green>zero</font> complaints about the service or the prices. I have been getting tire <font color = green>service</font> here for the past 5 years now, and compared to my experience with places like Pep Boys, these guys are experienced and <font color = green>know</font> what they're doing. \\nAlso, this is one place that I do not feel like I am being taken advantage of, just because of my gender. Other <font color = green>auto</font> mechanics have been notorious for capitalizing on my ignorance of cars, and have sucked my <font color = green>bank</font> account dry. <font color = green>But</font> here, my service and road coverage has all been well <font color = green>explained</font> - and let up to me to decide. \\<font color = green>nAnd</font> they just renovated the <font color = green>waiting</font> room. It looks a lot <font color = green>better</font> than it did in <font color = green>previous</font> years.<br>Contrary to other reviews, I have <font color = red>five</font> complaints about the service or the prices. I have been getting tire <font color = red>serviciul</font> here for the past 5 years now, and compared to my experience with places like Pep Boys, these guys are experienced and <font color = red>think</font> what they're doing. \\nAlso, this is one place that I do not feel like I am being taken advantage of, just because of my gender. Other <font color = red>theft</font> mechanics have been notorious for capitalizing on my ignorance of cars, and have sucked my <font color = red>monetary</font> account dry. <font color = red>Zut</font> here, my service and road coverage has all been well <font color = red>falsified</font> - and let up to me to decide. \\<font color = red>tell</font> they just renovated the <font color = red>baiting</font> room. It looks a lot <font color = red>getter</font> than it did in <font color = red>earlier</font> years."
            ],
            "text/plain": [
              "<IPython.core.display.HTML object>"
            ]
          },
          "metadata": {
            "tags": []
          }
        },
        {
          "output_type": "stream",
          "text": [
            "[Succeeded / Failed / Total] 1 / 0 / 1:   4%|▍         | 1/25 [00:06<02:34,  6.42s/it]"
          ],
          "name": "stderr"
        },
        {
          "output_type": "display_data",
          "data": {
            "text/html": [
              "<font color = red>1 (100%)</font> --> <font color = green>2 (63%)</font><br>Last summer I had an appointment to <font color = red>get</font> new <font color = red>tires</font> and had to wait a <font color = red>super</font> long <font color = red>time</font>. I <font color = red>also</font> went in this week for them to <font color = red>fix</font> a <font color = red>minor</font> problem with a tire they put on. They \\\"\"fixed\\\"\" it for free, and the very next morning I had the same issue. I called to complain, and the \\\"\"<font color = red>manager</font>\\\"\" didn't <font color = red>even</font> <font color = red>apologize</font>!!! So frustrated. Never <font color = red>going</font> <font color = red>back</font>.  They <font color = red>seem</font> <font color = red>overpriced</font>, too.<br>Last summer I had an appointment to <font color = green>give</font> new <font color = green>tire</font> and had to wait a <font color = green>superbike</font> long <font color = green>period</font>. I <font color = green>sometimes</font> went in this week for them to <font color = green>restart</font> a <font color = green>major</font> problem with a tire they put on. They \\\"\"fixed\\\"\" it for free, and the very next morning I had the same issue. I called to complain, and the \\\"\"<font color = green>coach</font>\\\"\" didn't <font color = green>indeed</font> <font color = green>apologise</font>!!! So frustrated. Never <font color = green>getting</font> <font color = green>down</font>.  They <font color = green>tend</font> <font color = green>priced</font>, too."
            ],
            "text/plain": [
              "<IPython.core.display.HTML object>"
            ]
          },
          "metadata": {
            "tags": []
          }
        },
        {
          "output_type": "stream",
          "text": [
            "[Succeeded / Failed / Total] 2 / 0 / 2:   8%|▊         | 2/25 [00:10<02:05,  5.45s/it]"
          ],
          "name": "stderr"
        },
        {
          "output_type": "display_data",
          "data": {
            "text/html": [
              "<font color = green>2 (73%)</font> --> <font color = red>1 (52%)</font><br>Friendly staff, same starbucks fair you <font color = green>get</font> anywhere else.  Sometimes the lines can get long.<br>Friendly staff, same starbucks fair you <font color = red>give</font> anywhere else.  Sometimes the lines can get long."
            ],
            "text/plain": [
              "<IPython.core.display.HTML object>"
            ]
          },
          "metadata": {
            "tags": []
          }
        },
        {
          "output_type": "stream",
          "text": [
            "[Succeeded / Failed / Total] 3 / 0 / 3:  12%|█▏        | 3/25 [00:11<01:26,  3.92s/it]"
          ],
          "name": "stderr"
        },
        {
          "output_type": "display_data",
          "data": {
            "text/html": [
              "<font color = red>1 (98%)</font> --> <font color = green>2 (51%)</font><br><font color = red>The</font> food is good. <font color = red>Unfortunately</font> the service is very hit or miss. The main issue seems to be with the kitchen, the waiters and waitresses are often very apologetic for the long waits and it's pretty obvious that some of them avoid the tables after taking the initial order to avoid hearing complaints.<br><font color = green>Gauche</font> food is good. <font color = green>Fortunately</font> the service is very hit or miss. The main issue seems to be with the kitchen, the waiters and waitresses are often very apologetic for the long waits and it's pretty obvious that some of them avoid the tables after taking the initial order to avoid hearing complaints."
            ],
            "text/plain": [
              "<IPython.core.display.HTML object>"
            ]
          },
          "metadata": {
            "tags": []
          }
        },
        {
          "output_type": "stream",
          "text": [
            "[Succeeded / Failed / Total] 4 / 0 / 4:  16%|█▌        | 4/25 [00:14<01:14,  3.57s/it]"
          ],
          "name": "stderr"
        },
        {
          "output_type": "display_data",
          "data": {
            "text/html": [
              "<font color = green>2 (100%)</font> --> <font color = red>[FAILED]</font><br>Even when we didn't have a car Filene's Basement was worth the bus trip to the Waterfront. I always find something (usually I find 3-4 things and spend about $60) and better still, I am always still wearing the clothes and shoes 3 months later. \\n\\nI kind of suspect this is the best shopping in Pittsburgh; it's much better than the usual department stores, better than Marshall's and TJ Maxx and better than the Saks downtown, even when it has a sale. Selection, bargains AND quality.\\n\\nI like this Filene's better than Gabriel Brothers, which are harder to get to. Gabriel Brothers are a real discount shopper's challenge and I'm afraid I didn't live in Pittsburgh long enough to develop the necessary skills . . . Filene's was still up and running in June 2007 when I left town."
            ],
            "text/plain": [
              "<IPython.core.display.HTML object>"
            ]
          },
          "metadata": {
            "tags": []
          }
        },
        {
          "output_type": "stream",
          "text": [
            "[Succeeded / Failed / Total] 4 / 1 / 5:  20%|██        | 5/25 [00:25<01:42,  5.11s/it]"
          ],
          "name": "stderr"
        },
        {
          "output_type": "display_data",
          "data": {
            "text/html": [
              "<font color = green>2 (100%)</font> --> <font color = red>1 (51%)</font><br>Picture Billy Joel's \\\"\"Piano Man\\\"\" DOUBLED mixed with beer, a <font color = green>rowdy</font> crowd, and <font color = green>comedy</font> - Welcome to Sing Sing!  A <font color = green>unique</font> musical experience <font color = green>found</font> in Homestead.\\<font color = green>n</font>\\nIf you're looking to grab a bite to eat or a beer, come on in!  Serving food and brews from Rock Bottom Brewery, Sing Sing keeps your tummy full while you listen to two (or more) amazingly <font color = green>talented</font> <font color = green>pianists</font> <font color = green>take</font> your musical requests.  They'll play <font color = green>anything</font> you'd like, for tips of course.  Wanting to hear Britney Spears?  Toto?  Duran Duran?  Yep, they play that... new or old.\\n\\<font color = green>nThe</font> crowd makes the show, so make <font color = green>sure</font> you come ready for a <font color = green>good</font> time.  <font color = green>If</font> the crowd is dead, it's harder for the Guys to get a reaction.  If you're wanting to have some fun, it can be a GREAT time!  <font color = green>It's</font> the perfect place for Birthday parties - especially if you want to embarrass a friend.  The guys will bring them up to the <font color = green>pianos</font> and perform a little ditty.  For being a good sport, you get the coveted Sing Sing bumper sticker.  Now who wouldn't want that?\\n\\nDueling Pianos and brews... time to Shut Up & Sing Sing!<br>Picture Billy Joel's \\\"\"Piano Man\\\"\" DOUBLED mixed with beer, a <font color = red>howdy</font> crowd, and <font color = red>comedies</font> - Welcome to Sing Sing!  A <font color = red>distinctive</font> musical experience <font color = red>corroborated</font> in Homestead.\\<font color = red>y</font>\\nIf you're looking to grab a bite to eat or a beer, come on in!  Serving food and brews from Rock Bottom Brewery, Sing Sing keeps your tummy full while you listen to two (or more) amazingly <font color = red>talent</font> <font color = red>lutenists</font> <font color = red>give</font> your musical requests.  They'll play <font color = red>nothing</font> you'd like, for tips of course.  Wanting to hear Britney Spears?  Toto?  Duran Duran?  Yep, they play that... new or old.\\n\\<font color = red>bouche</font> crowd makes the show, so make <font color = red>forget</font> you come ready for a <font color = red>bad</font> time.  <font color = red>Sun</font> the crowd is dead, it's harder for the Guys to get a reaction.  If you're wanting to have some fun, it can be a GREAT time!  <font color = red>Aeneas</font> the perfect place for Birthday parties - especially if you want to embarrass a friend.  The guys will bring them up to the <font color = red>piano</font> and perform a little ditty.  For being a good sport, you get the coveted Sing Sing bumper sticker.  Now who wouldn't want that?\\n\\nDueling Pianos and brews... time to Shut Up & Sing Sing!"
            ],
            "text/plain": [
              "<IPython.core.display.HTML object>"
            ]
          },
          "metadata": {
            "tags": []
          }
        },
        {
          "output_type": "stream",
          "text": [
            "[Succeeded / Failed / Total] 5 / 1 / 6:  24%|██▍       | 6/25 [00:38<02:03,  6.49s/it]"
          ],
          "name": "stderr"
        },
        {
          "output_type": "display_data",
          "data": {
            "text/html": [
              "<font color = red>1 (100%)</font> --> <font color = red>[FAILED]</font><br>Mediocre service. COLD food! Our food waited so long the lettuce & pickles wilted. Bland food. Crazy overpriced. Long waits in the arcade. 1 beer per hour maximum.  Avoid at all costs. Fair manager."
            ],
            "text/plain": [
              "<IPython.core.display.HTML object>"
            ]
          },
          "metadata": {
            "tags": []
          }
        },
        {
          "output_type": "stream",
          "text": [
            "[Succeeded / Failed / Total] 5 / 2 / 7:  28%|██▊       | 7/25 [00:42<01:48,  6.01s/it]"
          ],
          "name": "stderr"
        },
        {
          "output_type": "display_data",
          "data": {
            "text/html": [
              "<font color = red>1 (100%)</font> --> <font color = green>2 (55%)</font><br>Ok! Let me tell you about my bad <font color = red>experience</font> first. I went to D&B last night for a post wedding party - which, side note, is a great idea!\\n\\nIt was around midnight and the bar wasn't really populated. There were three bartenders and only one was actually making rounds to see if anyone needed anything. The two other bartenders were chatting on the far side of the bar that no one was sitting at. Kind of counter productive if you ask me. \\n\\nI stood there for about 5 minutes, which for a busy bar is fine but when I am the only one with my card out then, it just seems a little ridiculous. I made eye contact with the one girl twice and gave her a smile and she literally turned away. I finally had to walk to them to get their attention.  I was standing right in front of them smiling and they didn't ask if i need anything. I finally said, \\\"\"Are you working?\\\"\" and they gave each other a <font color = red>weird</font> look. I felt like i was the crazy one. I asked for a beer/got the beer.\\n\\nIn between that time, the other bartender brought food over and set it down. She took a fry from the plate (right in front of me) and then served it to someone on the other side of the bar. What the hell! I felt like i was in some grimy bar in out in the sticks - not an established D&B. \\n\\nI was just really turned off from that experience. \\n\\nThe good is that D&B provides a different type of entertainment when you want to mix things up. I remember going here with my grandparents when I was a kid and it was the best treat ever! We would eat at the restaurant and then spend hours playing games. This place holds some really good memories for me. \\n\\nIt's a shame that my experience last night has spoiled the high standards I held for it.<br>Ok! Let me tell you about my bad <font color = green>experiencing</font> first. I went to D&B last night for a post wedding party - which, side note, is a great idea!\\n\\nIt was around midnight and the bar wasn't really populated. There were three bartenders and only one was actually making rounds to see if anyone needed anything. The two other bartenders were chatting on the far side of the bar that no one was sitting at. Kind of counter productive if you ask me. \\n\\nI stood there for about 5 minutes, which for a busy bar is fine but when I am the only one with my card out then, it just seems a little ridiculous. I made eye contact with the one girl twice and gave her a smile and she literally turned away. I finally had to walk to them to get their attention.  I was standing right in front of them smiling and they didn't ask if i need anything. I finally said, \\\"\"Are you working?\\\"\" and they gave each other a <font color = green>weir</font> look. I felt like i was the crazy one. I asked for a beer/got the beer.\\n\\nIn between that time, the other bartender brought food over and set it down. She took a fry from the plate (right in front of me) and then served it to someone on the other side of the bar. What the hell! I felt like i was in some grimy bar in out in the sticks - not an established D&B. \\n\\nI was just really turned off from that experience. \\n\\nThe good is that D&B provides a different type of entertainment when you want to mix things up. I remember going here with my grandparents when I was a kid and it was the best treat ever! We would eat at the restaurant and then spend hours playing games. This place holds some really good memories for me. \\n\\nIt's a shame that my experience last night has spoiled the high standards I held for it."
            ],
            "text/plain": [
              "<IPython.core.display.HTML object>"
            ]
          },
          "metadata": {
            "tags": []
          }
        },
        {
          "output_type": "stream",
          "text": [
            "[Succeeded / Failed / Total] 6 / 2 / 8:  32%|███▏      | 8/25 [01:00<02:08,  7.55s/it]"
          ],
          "name": "stderr"
        },
        {
          "output_type": "display_data",
          "data": {
            "text/html": [
              "<font color = red>1 (100%)</font> --> <font color = green>2 (52%)</font><br><font color = red>I</font> used to love D&<font color = red>B</font> when it <font color = red>first</font> opened in the Waterfront, but it has gone down <font color = red>hill</font> over the years. The <font color = red>games</font> are not as fun and do not <font color = red>give</font> you as many <font color = red>tickets</font> and the prizes have gotten cheaper in quality. It takes a whole heck of a lot of tickets for you to <font color = red>even</font> get a <font color = red>pencil</font>! The <font color = red>atmosphere</font> is <font color = red>okay</font> but it used to be so much better with the funnest games and diverse groups of people! Now, it is <font color = red>run</font> down and many of the games are app related <font color = red>games</font> (Fruit Ninja) and 3D <font color = red>Experience</font> rides. With such \\\"\"games\\\"\", you can't even <font color = red>earn</font> tickets and they take a lot of tokens! Last time I went, back in the winter, many of the games were broken, which made for a <font color = red>negative</font> player experience. I would go to D&B to play some games again in the future, but it is no <font color = red>longer</font> <font color = red>one</font> of my favorite places to go due to the decline of fun games where you can earn tickets.<br><font color = green>ENCHANTER</font> used to love D&<font color = green>HAIR</font> when it <font color = green>last</font> opened in the Waterfront, but it has gone down <font color = green>clifton</font> over the years. The <font color = green>game</font> are not as fun and do not <font color = green>make</font> you as many <font color = green>ticket</font> and the prizes have gotten cheaper in quality. It takes a whole heck of a lot of tickets for you to <font color = green>indeed</font> get a <font color = green>stencil</font>! The <font color = green>atmospheric</font> is <font color = green>anymore</font> but it used to be so much better with the funnest games and diverse groups of people! Now, it is <font color = green>driveway</font> down and many of the games are app related <font color = green>game</font> (Fruit Ninja) and 3D <font color = green>Experiencing</font> rides. With such \\\"\"games\\\"\", you can't even <font color = green>paying</font> tickets and they take a lot of tokens! Last time I went, back in the winter, many of the games were broken, which made for a <font color = green>positive</font> player experience. I would go to D&B to play some games again in the future, but it is no <font color = green>longew</font> <font color = green>nine</font> of my favorite places to go due to the decline of fun games where you can earn tickets."
            ],
            "text/plain": [
              "<IPython.core.display.HTML object>"
            ]
          },
          "metadata": {
            "tags": []
          }
        },
        {
          "output_type": "stream",
          "text": [
            "[Succeeded / Failed / Total] 7 / 2 / 9:  36%|███▌      | 9/25 [01:11<02:06,  7.89s/it]"
          ],
          "name": "stderr"
        },
        {
          "output_type": "display_data",
          "data": {
            "text/html": [
              "<font color = green>2 (100%)</font> --> <font color = red>1 (86%)</font><br><font color = green>Like</font> any Barnes & Noble, it has a nice comfy cafe, and a <font color = green>large</font> selection of books.  The staff is very <font color = green>friendly</font> and <font color = green>helpful</font>.  They <font color = green>stock</font> a decent selection, and the prices are pretty <font color = green>reasonable</font>.  Obviously it's <font color = green>hard</font> for them to compete with Amazon.  However <font color = green>since</font> all the small shop <font color = green>bookstores</font> are gone, it's <font color = green>nice</font> to <font color = green>walk</font> into one every once in a while.<br><font color = red>Ike</font> any Barnes & Noble, it has a nice comfy cafe, and a <font color = red>small</font> selection of books.  The staff is very <font color = red>friendliness</font> and <font color = red>useful</font>.  They <font color = red>market</font> a decent selection, and the prices are pretty <font color = red>reasonably</font>.  Obviously it's <font color = red>soften</font> for them to compete with Amazon.  However <font color = red>until</font> all the small shop <font color = red>bookstore</font> are gone, it's <font color = red>loin</font> to <font color = red>shook</font> into one every once in a while."
            ],
            "text/plain": [
              "<IPython.core.display.HTML object>"
            ]
          },
          "metadata": {
            "tags": []
          }
        },
        {
          "output_type": "stream",
          "text": [
            "[Succeeded / Failed / Total] 8 / 2 / 10:  40%|████      | 10/25 [01:14<01:52,  7.50s/it]"
          ],
          "name": "stderr"
        },
        {
          "output_type": "display_data",
          "data": {
            "text/html": [
              "<font color = red>1 (100%)</font> --> <font color = red>[FAILED]</font><br>Meh, I've experienced better is an understatement.\\n\\nFriday's is like the \\\"\"fine dining chain\\\"\" for every yinzer in Pittsburgh...\\n\\n1.  When we were seated, it was quick which was a surprise.  Somehow this restaurant gets packed and I never understand why.  I was happy about that.\\n2.  I ordered one of their \\\"\"skinny margaritas\\\"\", blackberry to be exact.  It was a nice size, however, at $6.00/pop, that was half of my food bill.\\n3.  The waitress started off attentive, but after our food came out she was gone.  I ordered a turkey burger with pickle and mustard.  Loaded mashed potato on the side because I wanted heartburn ha!\\n4.  Food came.  My burger had lettuce on it only.  Waitress was supposed to go and get our next round of drinks.  I had to wait to ask for my pickle.\\n5.  The loaded potatoes were more like rubber than potatoes and not what I was expecting.  Disappointment.\\n6.  The waitress then went into oblivion and only returned with our check.  \\n\\nNever again will I eat at Friday's.  I will, however, go should a happy hour arise..."
            ],
            "text/plain": [
              "<IPython.core.display.HTML object>"
            ]
          },
          "metadata": {
            "tags": []
          }
        },
        {
          "output_type": "stream",
          "text": [
            "[Succeeded / Failed / Total] 8 / 3 / 11:  44%|████▍     | 11/25 [01:30<01:55,  8.23s/it]"
          ],
          "name": "stderr"
        },
        {
          "output_type": "display_data",
          "data": {
            "text/html": [
              "<font color = green>2 (100%)</font> --> <font color = red>1 (93%)</font><br>Unos has been around for ever, & I feel like this restaurant chain peak in popularity in the 80's. Honestly the decor inside still kind of looks 80s to me even though its nice with sleek booth and exposed brick.\\n\\nIf you haven't died and he recently I ordered you to come back and have a meal here again because honestly the food is really quite <font color = green>good</font>!\\n\\nThey have the best chicken salad wrap ever! I love that rap so much I want agreed to walk the south side River Trail from where the Steelers practice all the way to the damn waterfront just because I knew that I could convince my boyfriend to go to Unos with me for lunch.  Full disclosure:  I made him call is a cab and we took a taxi back to the parking lot after lunch.\\n\\nListen... The food and pizza and service are very <font color = green>good</font>, surprisingly so! I don't know why this place is not busier but next time you're down at the Waterfront please do consider dining here!<br>Unos has been around for ever, & I feel like this restaurant chain peak in popularity in the 80's. Honestly the decor inside still kind of looks 80s to me even though its nice with sleek booth and exposed brick.\\n\\nIf you haven't died and he recently I ordered you to come back and have a meal here again because honestly the food is really quite <font color = red>bad</font>!\\n\\nThey have the best chicken salad wrap ever! I love that rap so much I want agreed to walk the south side River Trail from where the Steelers practice all the way to the damn waterfront just because I knew that I could convince my boyfriend to go to Unos with me for lunch.  Full disclosure:  I made him call is a cab and we took a taxi back to the parking lot after lunch.\\n\\nListen... The food and pizza and service are very <font color = red>bad</font>, surprisingly so! I don't know why this place is not busier but next time you're down at the Waterfront please do consider dining here!"
            ],
            "text/plain": [
              "<IPython.core.display.HTML object>"
            ]
          },
          "metadata": {
            "tags": []
          }
        },
        {
          "output_type": "stream",
          "text": [
            "[Succeeded / Failed / Total] 9 / 3 / 12:  48%|████▊     | 12/25 [01:39<01:48,  8.31s/it]"
          ],
          "name": "stderr"
        },
        {
          "output_type": "display_data",
          "data": {
            "text/html": [
              "<font color = red>1 (100%)</font> --> <font color = green>2 (52%)</font><br>Stars are for the food only.    <font color = red>2</font>.5 rating\\n\\nGot there at 8pm on Saturday night, they told us it was an hour wait which was expected, but it only took <font color = red>30minutes</font> to be seated so that was a bonus.  Started off with the lettuce wraps and i used to be a fan of these but they just seem to <font color = red>bore</font> me now(FYI-love the lettuce wraps at the cheesecake factory).  I had the Singapore rice noodles.  This was so so as i thought immediately that lu lu <font color = red>noodles</font> and <font color = red>asian</font> cafe are better.  The <font color = red>fried</font> rice was <font color = red>disappointing</font> and the <font color = red>vegetables</font> tasted raw.   Some <font color = red>good</font> notes were the Dynamite <font color = red>shrimp</font>, plump, juicy, tangy with a <font color = red>small</font> kick.    Sweet and sour chicken was just the same minus the kick. \\<font color = red>n</font>\\nThe service was annoying.   <font color = red>We</font> were there less than 45 minutes and it seemed like our waiter was in a rush to get us out of there.   Constantly asking if he could remove my plate.  I had to <font color = red>sternly</font> say at one point that I will let you <font color = red>know</font> when i am finished.  I found it <font color = red>rude</font> especially since  there wasn't even a line at this point.  \\n\\nI think we will travel elsewhere following a movie.  The result never quite met the anticipation.<br>Stars are for the food only.    <font color = green>campaign</font>.5 rating\\n\\nGot there at 8pm on Saturday night, they told us it was an hour wait which was expected, but it only took <font color = green>minutes</font> to be seated so that was a bonus.  Started off with the lettuce wraps and i used to be a fan of these but they just seem to <font color = green>bearing</font> me now(FYI-love the lettuce wraps at the cheesecake factory).  I had the Singapore rice noodles.  This was so so as i thought immediately that lu lu <font color = green>noodle</font> and <font color = green>african</font> cafe are better.  The <font color = green>fries</font> rice was <font color = green>disappointed</font> and the <font color = green>vegetable</font> tasted raw.   Some <font color = green>bad</font> notes were the Dynamite <font color = green>seafood</font>, plump, juicy, tangy with a <font color = green>large</font> kick.    Sweet and sour chicken was just the same minus the kick. \\<font color = green>y</font>\\nThe service was annoying.   <font color = green>User</font> were there less than 45 minutes and it seemed like our waiter was in a rush to get us out of there.   Constantly asking if he could remove my plate.  I had to <font color = green>stubbornly</font> say at one point that I will let you <font color = green>think</font> when i am finished.  I found it <font color = green>dude</font> especially since  there wasn't even a line at this point.  \\n\\nI think we will travel elsewhere following a movie.  The result never quite met the anticipation."
            ],
            "text/plain": [
              "<IPython.core.display.HTML object>"
            ]
          },
          "metadata": {
            "tags": []
          }
        },
        {
          "output_type": "stream",
          "text": [
            "[Succeeded / Failed / Total] 10 / 3 / 13:  52%|█████▏    | 13/25 [01:52<01:44,  8.68s/it]"
          ],
          "name": "stderr"
        },
        {
          "output_type": "display_data",
          "data": {
            "text/html": [
              "<font color = red>1 (100%)</font> --> <font color = green>2 (52%)</font><br><font color = red>Our</font> <font color = red>last</font> few visits have <font color = red>left</font> something to desire, One of the things <font color = red>I</font> <font color = red>always</font> notice is the demeanor of an establishments <font color = red>employees</font>. <font color = red>These</font> people <font color = red>look</font> miserable, no one <font color = red>smiles</font> or greets you appropriately, it's more like get in, get out, turn the tables,\\n\\nThe food has remained consistently good... when we can <font color = red>order</font> it. the <font color = red>last</font> time JB and I came for a quick dinner, the <font color = red>place</font> was not <font color = red>busy</font> <font color = red>yet</font> we were <font color = red>passed</font> by 6 frowning waitstaff without getting <font color = red>drinks</font>... for 15 <font color = red>minutes</font> we were <font color = red>left</font> suiting at our table with our <font color = red>menus</font> closed and sitting on the edge of the table (HINT, <font color = red>HINT</font>) so we <font color = red>left</font> and most likely will not be <font color = red>returning</font>.<br><font color = green>Zur</font> <font color = green>next</font> few visits have <font color = green>right</font> something to desire, One of the things <font color = green>ENCHANTER</font> <font color = green>actually</font> notice is the demeanor of an establishments <font color = green>employee</font>. <font color = green>Yapese</font> people <font color = green>beginner</font> miserable, no one <font color = green>smile</font> or greets you appropriately, it's more like get in, get out, turn the tables,\\n\\nThe food has remained consistently good... when we can <font color = green>addition</font> it. the <font color = green>next</font> time JB and I came for a quick dinner, the <font color = green>placard</font> was not <font color = green>roadside</font> <font color = green>obviously</font> we were <font color = green>enacted</font> by 6 frowning waitstaff without getting <font color = green>drink</font>... for 15 <font color = green>minute</font> we were <font color = green>right</font> suiting at our table with our <font color = green>fpus</font> closed and sitting on the edge of the table (HINT, <font color = green>SPOROZOITES</font>) so we <font color = green>right</font> and most likely will not be <font color = green>returned</font>."
            ],
            "text/plain": [
              "<IPython.core.display.HTML object>"
            ]
          },
          "metadata": {
            "tags": []
          }
        },
        {
          "output_type": "stream",
          "text": [
            "[Succeeded / Failed / Total] 11 / 3 / 14:  56%|█████▌    | 14/25 [02:00<01:34,  8.60s/it]"
          ],
          "name": "stderr"
        },
        {
          "output_type": "display_data",
          "data": {
            "text/html": [
              "<font color = green>2 (100%)</font> --> <font color = red>1 (92%)</font><br>Good quality <font color = green>pork</font> fried <font color = green>dumpling</font> and mongo beef.  Bar service was fast and Efficent.   <font color = green>Good</font> <font color = green>value</font>.  Not a 5 <font color = green>cause</font> dragon <font color = green>eye</font> tea was cold <font color = green>first</font> <font color = green>time</font> <font color = green>around</font> and <font color = green>beef</font> had <font color = green>minor</font> <font color = green>amount</font> of fat.   <font color = green>Fortune</font> was even Postive!<br>Good quality <font color = red>potatoes</font> fried <font color = red>pickling</font> and mongo beef.  Bar service was fast and Efficent.   <font color = red>Bewilderment</font> <font color = red>quantity</font>.  Not a 5 <font color = red>causing</font> dragon <font color = red>skin</font> tea was cold <font color = red>last</font> <font color = red>period</font> <font color = red>across</font> and <font color = red>potatoes</font> had <font color = red>major</font> <font color = red>quantity</font> of fat.   <font color = red>Opportune</font> was even Postive!"
            ],
            "text/plain": [
              "<IPython.core.display.HTML object>"
            ]
          },
          "metadata": {
            "tags": []
          }
        },
        {
          "output_type": "stream",
          "text": [
            "[Succeeded / Failed / Total] 12 / 3 / 15:  60%|██████    | 15/25 [02:03<01:22,  8.24s/it]"
          ],
          "name": "stderr"
        },
        {
          "output_type": "display_data",
          "data": {
            "text/html": [
              "<font color = red>1 (100%)</font> --> <font color = green>2 (75%)</font><br>Very <font color = red>bad</font> purchase experience. I bought a shirt with a hole covered in the rolled up sleeves, but they denied my request to return it. I am so <font color = red>angery</font> at this and will never shop their chothes anymore.<br>Very <font color = green>good</font> purchase experience. I bought a shirt with a hole covered in the rolled up sleeves, but they denied my request to return it. I am so <font color = green>drunkenness</font> at this and will never shop their chothes anymore."
            ],
            "text/plain": [
              "<IPython.core.display.HTML object>"
            ]
          },
          "metadata": {
            "tags": []
          }
        },
        {
          "output_type": "stream",
          "text": [
            "[Succeeded / Failed / Total] 13 / 3 / 16:  64%|██████▍   | 16/25 [02:05<01:10,  7.84s/it]"
          ],
          "name": "stderr"
        },
        {
          "output_type": "display_data",
          "data": {
            "text/html": [
              "<font color = red>1 (100%)</font> --> <font color = green>2 (79%)</font><br>When I think BBB... I think the days of simply bringing your bike in for a quick and relatively inexpensive tune-up and a few fixes are long gone.    \\n\\nThis review is more for the repair end of <font color = red>BBB</font>. In their defense BBB does appear to carry some amazing brands of bike (ie Colnago) that you just don't find anywhere else in Pittsburgh. \\n\\nAt BBB I was charged $<font color = red>250</font> for a tune up and a few other things. Granted this included installing a sew up tire (which I can understand would cost approx $50), Swapping out a left side (big ring) shifter on my down tube (this should have cost approx. $20 at most) and installing new bar <font color = red>tape</font> (cost of tape $20 and $20 to install?).. SO WHAT\\\"\"S WITH $140 FOR A TUNE UP? Well the story goes like this:\\n\\nI bring the bike into BBB prior to the nice weather hitting Pittsburgh in hopes of trying what people have said is a great bike shop and getting my OCLV TREK 5900 ready for the season. Turns out I don't hear from these guys. A week goes by ...two weeks...I think that's ok I have two or three other bike I can turn to for a ride. Then I wind up going out of town for a week thinking for sure I'll get a call from them re: my bike is ready to roll...but no dice. So I call. Turns out a screw snapped when the mechanic was re-installing the down tube shifter and it had to be tapped out (is that my fault?). He says \\\"\"Should be ready in a few days\\\"\". So I come in a few days later to this mammoth bill. I ask if I am paying for the labor of taping out the screw? I don't think I ever got a straight answer? I look at the bill and can't see a good breakdown of the charges. Normally I would \\\"\"duke it over\\\"\" a bill like this but I figured...I had somewhere I to be 10 minutes ago and at least I finally have my bike. I would expect that for that money my bike could have been stripped down to the frame and totally gone over (overhauled). But it wasn't.  Well BBB I'll give you a star because the mechanic did do a good job in that my cycle shifts well and the tape job on the bars looks great (nice wrap). Plus I'll toss in a star for your outstanding selection of high end cycles. Maybe I would have rated BBB higher if I was in the market for a purchase instead of a simple repair?<br>When I think BBB... I think the days of simply bringing your bike in for a quick and relatively inexpensive tune-up and a few fixes are long gone.    \\n\\nThis review is more for the repair end of <font color = green>FANTASIA</font>. In their defense BBB does appear to carry some amazing brands of bike (ie Colnago) that you just don't find anywhere else in Pittsburgh. \\n\\nAt BBB I was charged $<font color = green>ethnology</font> for a tune up and a few other things. Granted this included installing a sew up tire (which I can understand would cost approx $50), Swapping out a left side (big ring) shifter on my down tube (this should have cost approx. $20 at most) and installing new bar <font color = green>videocassette</font> (cost of tape $20 and $20 to install?).. SO WHAT\\\"\"S WITH $140 FOR A TUNE UP? Well the story goes like this:\\n\\nI bring the bike into BBB prior to the nice weather hitting Pittsburgh in hopes of trying what people have said is a great bike shop and getting my OCLV TREK 5900 ready for the season. Turns out I don't hear from these guys. A week goes by ...two weeks...I think that's ok I have two or three other bike I can turn to for a ride. Then I wind up going out of town for a week thinking for sure I'll get a call from them re: my bike is ready to roll...but no dice. So I call. Turns out a screw snapped when the mechanic was re-installing the down tube shifter and it had to be tapped out (is that my fault?). He says \\\"\"Should be ready in a few days\\\"\". So I come in a few days later to this mammoth bill. I ask if I am paying for the labor of taping out the screw? I don't think I ever got a straight answer? I look at the bill and can't see a good breakdown of the charges. Normally I would \\\"\"duke it over\\\"\" a bill like this but I figured...I had somewhere I to be 10 minutes ago and at least I finally have my bike. I would expect that for that money my bike could have been stripped down to the frame and totally gone over (overhauled). But it wasn't.  Well BBB I'll give you a star because the mechanic did do a good job in that my cycle shifts well and the tape job on the bars looks great (nice wrap). Plus I'll toss in a star for your outstanding selection of high end cycles. Maybe I would have rated BBB higher if I was in the market for a purchase instead of a simple repair?"
            ],
            "text/plain": [
              "<IPython.core.display.HTML object>"
            ]
          },
          "metadata": {
            "tags": []
          }
        },
        {
          "output_type": "stream",
          "text": [
            "[Succeeded / Failed / Total] 14 / 3 / 17:  68%|██████▊   | 17/25 [02:32<01:11,  8.95s/it]"
          ],
          "name": "stderr"
        },
        {
          "output_type": "display_data",
          "data": {
            "text/html": [
              "<font color = red>1 (100%)</font> --> <font color = green>2 (72%)</font><br>My orders have come out <font color = red>bad</font> pretty much every time I have ordered from here. <font color = red>The</font> <font color = red>chicken</font> nuggets come out under <font color = red>par</font>. I'm lucky if the fries come out right. <font color = red>My</font> last <font color = red>experience</font> is the last <font color = red>straw</font>. I recently posted a photo of my Chicken Ranch Club. That has no chicken. This is ridiculous. I am done going to this Mcd's.<br>My orders have come out <font color = green>good</font> pretty much every time I have ordered from here. <font color = green>Gauche</font> <font color = green>chickpea</font> nuggets come out under <font color = green>livres</font>. I'm lucky if the fries come out right. <font color = green>Marriage</font> last <font color = green>experiencing</font> is the last <font color = green>strap</font>. I recently posted a photo of my Chicken Ranch Club. That has no chicken. This is ridiculous. I am done going to this Mcd's."
            ],
            "text/plain": [
              "<IPython.core.display.HTML object>"
            ]
          },
          "metadata": {
            "tags": []
          }
        },
        {
          "output_type": "stream",
          "text": [
            "[Succeeded / Failed / Total] 15 / 3 / 18:  72%|███████▏  | 18/25 [02:35<01:00,  8.65s/it]"
          ],
          "name": "stderr"
        },
        {
          "output_type": "display_data",
          "data": {
            "text/html": [
              "<font color = red>1 (100%)</font> --> <font color = red>[FAILED]</font><br>Wow. What a shame. My family just moved to the area and have been sampling the local cuisine. We are a very large family and love foods of all kind. We've eaten Chinese food from a hundred different places in a dozen different cities. Hands down, this was the worst we've ever had. Cold, tough, congealed, and tasteless - that's the only way to describe it. I'll never order from here again. Quite frankly, the fact that I took time away from my kids to type this out should tell you how awful it was. My complaints fell on deaf ears. I guess they were shocked that someone thought that they were serving low grade dog food. I understand that sometimes restaurants crank out bad food. It happens. But when it does, you bend over backwards to make it right. Not at this place. I was told that he would have to speak with the owner in order to help me. I guess that's how they deflect complaints - blame it on the owners that aren't there and make the customer for away angry.  Too bad. Because we will be visiting a competitor in the future. This family of 7 won't be visiting China Sea ever again. Oh, and by the way, why can't I give this place zero stars?"
            ],
            "text/plain": [
              "<IPython.core.display.HTML object>"
            ]
          },
          "metadata": {
            "tags": []
          }
        },
        {
          "output_type": "stream",
          "text": [
            "[Succeeded / Failed / Total] 15 / 4 / 19:  76%|███████▌  | 19/25 [02:52<00:54,  9.09s/it]"
          ],
          "name": "stderr"
        },
        {
          "output_type": "display_data",
          "data": {
            "text/html": [
              "<font color = green>2 (100%)</font> --> <font color = red>[FAILED]</font><br>I fell in love with this place as soon as we pulled up and saw the lights strung up and  oldies coming from the speakers! \\n\\nI tried the banana cream pie hard ice cream, their scoops are very generous!! \\n\\nMy bf got the peach cobbler hard ice cream and that was to die for! We got 4 servings of ice cream for $10, which nowadays is a steal IMO! :) \\n\\nI'll definitely be heading back with my coworkers this week!"
            ],
            "text/plain": [
              "<IPython.core.display.HTML object>"
            ]
          },
          "metadata": {
            "tags": []
          }
        },
        {
          "output_type": "stream",
          "text": [
            "[Succeeded / Failed / Total] 15 / 5 / 20:  80%|████████  | 20/25 [02:59<00:44,  8.95s/it]"
          ],
          "name": "stderr"
        },
        {
          "output_type": "display_data",
          "data": {
            "text/html": [
              "<font color = green>2 (100%)</font> --> <font color = red>1 (63%)</font><br><font color = green>This</font> is by far, the <font color = green>BEST</font> soft <font color = green>serve</font> ice cream place in southwestern PA. The \\\"\"flavor of the <font color = green>week</font>\\\"\" is always interesting-and tasty! Though, <font color = green>I</font> am somewhat disappointed that they've <font color = green>switched</font> to a lower grade ice milk, for their vanilla and chocolate offerings. I don't know if this is a matter of cutting corners, or if the better stuff simply isn't available any longer. Either way, this place is still <font color = green>leaps</font> and bounds ahead of DQ, Tastee Freeze, etc. It's <font color = green>definitely</font> <font color = green>worth</font> the trip. It's mostly street parking, though they do have about 3-4 parking spaces off to the side. Serving sizes are huge! The small <font color = green>cone</font> here, is the same size as a DQ large. And the large is SO big, they can't <font color = green>fit</font> it through the window-they hand it out the side door.\\n\\nIf you want a real \\\"\"Kodak <font color = green>moment</font>\\\"\"-order a large cone for the kids, and keep the camera, and wet wipes <font color = green>handy</font>!<br><font color = red>Colchis</font> is by far, the <font color = red>WAS</font> soft <font color = red>serv</font> ice cream place in southwestern PA. The \\\"\"flavor of the <font color = red>month</font>\\\"\" is always interesting-and tasty! Though, <font color = red>ENCHANTER</font> am somewhat disappointed that they've <font color = red>switch</font> to a lower grade ice milk, for their vanilla and chocolate offerings. I don't know if this is a matter of cutting corners, or if the better stuff simply isn't available any longer. Either way, this place is still <font color = red>faps</font> and bounds ahead of DQ, Tastee Freeze, etc. It's <font color = red>finitely</font> <font color = red>hapworth</font> the trip. It's mostly street parking, though they do have about 3-4 parking spaces off to the side. Serving sizes are huge! The small <font color = red>waxy</font> here, is the same size as a DQ large. And the large is SO big, they can't <font color = red>manpower</font> it through the window-they hand it out the side door.\\n\\nIf you want a real \\\"\"Kodak <font color = red>foment</font>\\\"\"-order a large cone for the kids, and keep the camera, and wet wipes <font color = red>tandy</font>!"
            ],
            "text/plain": [
              "<IPython.core.display.HTML object>"
            ]
          },
          "metadata": {
            "tags": []
          }
        },
        {
          "output_type": "stream",
          "text": [
            "[Succeeded / Failed / Total] 16 / 5 / 21:  84%|████████▍ | 21/25 [03:08<00:35,  8.99s/it]"
          ],
          "name": "stderr"
        },
        {
          "output_type": "display_data",
          "data": {
            "text/html": [
              "<font color = green>2 (100%)</font> --> <font color = red>1 (66%)</font><br>This is my <font color = green>go-to</font> <font color = green>distributer</font>. They have a <font color = green>great</font> selection and lots of hard to find brews. I haven't noticed that it's any more expensive than going elsewhere but honestly if I don't buy here then I'm <font color = green>buying</font> six packs which as we all know are a huuugggge rip off. <font color = green>So</font> any time I have a <font color = green>case</font> of something I love I feel <font color = green>like</font> I'm getting a <font color = green>bargain</font>. The cold selection does suck so I try to plan ahead and have what I need already cold. Staff here are all very helpful- and will have recommendations if you ask.<br>This is my <font color = red>kto</font> <font color = red>distribute</font>. They have a <font color = red>greasy</font> selection and lots of hard to find brews. I haven't noticed that it's any more expensive than going elsewhere but honestly if I don't buy here then I'm <font color = red>profiting</font> six packs which as we all know are a huuugggge rip off. <font color = red>Scheduled</font> any time I have a <font color = red>counterexample</font> of something I love I feel <font color = red>resembling</font> I'm getting a <font color = red>debtor</font>. The cold selection does suck so I try to plan ahead and have what I need already cold. Staff here are all very helpful- and will have recommendations if you ask."
            ],
            "text/plain": [
              "<IPython.core.display.HTML object>"
            ]
          },
          "metadata": {
            "tags": []
          }
        },
        {
          "output_type": "stream",
          "text": [
            "[Succeeded / Failed / Total] 17 / 5 / 22:  88%|████████▊ | 22/25 [03:13<00:26,  8.81s/it]"
          ],
          "name": "stderr"
        },
        {
          "output_type": "display_data",
          "data": {
            "text/html": [
              "<font color = green>2 (100%)</font> --> <font color = red>1 (89%)</font><br><font color = green>Love</font> this beer <font color = green>distributor</font>.  <font color = green>They</font> <font color = green>always</font> have what <font color = green>I'm</font> looking for. The <font color = green>workers</font> are extremely nice and <font color = green>always</font> willing to help. <font color = green>Best</font> <font color = green>one</font> <font color = green>I've</font> <font color = green>seen</font> by <font color = green>far</font>.<br><font color = red>Wove</font> this beer <font color = red>distributive</font>.  <font color = red>Murphey</font> <font color = red>actually</font> have what <font color = red>Animations</font> looking for. The <font color = red>yorkers</font> are extremely nice and <font color = red>actually</font> willing to help. <font color = red>Sexiest</font> <font color = red>nine</font> <font color = red>Give</font> <font color = red>viewed</font> by <font color = red>much</font>."
            ],
            "text/plain": [
              "<IPython.core.display.HTML object>"
            ]
          },
          "metadata": {
            "tags": []
          }
        },
        {
          "output_type": "stream",
          "text": [
            "[Succeeded / Failed / Total] 18 / 5 / 23:  92%|█████████▏| 23/25 [03:16<00:17,  8.53s/it]"
          ],
          "name": "stderr"
        },
        {
          "output_type": "display_data",
          "data": {
            "text/html": [
              "<font color = red>1 (100%)</font> --> <font color = green>2 (63%)</font><br>Went here with a gift card from the restaurant week photo competition. \\n\\nWe were one of two tables there and a bunch of staff showing up during the meal. \\n\\nOur <font color = red>waitress</font> was good, but that couldn't save the food.\\n\\nThe meal started out with some what I guess used to be <font color = red>foccacia</font>.  I say used to be because it no longer represented anything other than long pieces of brick or bark very stale and <font color = red>tasteless</font>.\\n\\nWe ordered the vegetable board which was probably the best thing we ordered with light and bright vegetables perfectly cooked and paired with two delicious sauces. \\n\\<font color = red>nThen</font> we ordered the octopus which was fine, but very <font color = red>cold</font> and the octopus had little to no flavor, being overwhelmed by the citrus in the dish. \\n\\nThe tuscan wings were ok, but they were really ordered for my husband who seemed to enjoy them. \\n\\nFinally the diver scallops.  This dish was <font color = red>indeible</font>.  The scallops were very <font color = red>overcooked</font> and the pea puree was so minty I was unable to eat it. We sent it back and they did take off half of the price (weren't expecting anything just didn't want to eat it). \\n\\nAfter that we decided against dessert and left.  I probably will not return.<br>Went here with a gift card from the restaurant week photo competition. \\n\\nWe were one of two tables there and a bunch of staff showing up during the meal. \\n\\nOur <font color = green>tress</font> was good, but that couldn't save the food.\\n\\nThe meal started out with some what I guess used to be <font color = green>acacia</font>.  I say used to be because it no longer represented anything other than long pieces of brick or bark very stale and <font color = green>eyeless</font>.\\n\\nWe ordered the vegetable board which was probably the best thing we ordered with light and bright vegetables perfectly cooked and paired with two delicious sauces. \\n\\<font color = green>zhen</font> we ordered the octopus which was fine, but very <font color = green>cool</font> and the octopus had little to no flavor, being overwhelmed by the citrus in the dish. \\n\\nThe tuscan wings were ok, but they were really ordered for my husband who seemed to enjoy them. \\n\\nFinally the diver scallops.  This dish was <font color = green>unthinkable</font>.  The scallops were very <font color = green>quickened</font> and the pea puree was so minty I was unable to eat it. We sent it back and they did take off half of the price (weren't expecting anything just didn't want to eat it). \\n\\nAfter that we decided against dessert and left.  I probably will not return."
            ],
            "text/plain": [
              "<IPython.core.display.HTML object>"
            ]
          },
          "metadata": {
            "tags": []
          }
        },
        {
          "output_type": "stream",
          "text": [
            "[Succeeded / Failed / Total] 19 / 5 / 24:  96%|█████████▌| 24/25 [03:27<00:08,  8.65s/it]"
          ],
          "name": "stderr"
        },
        {
          "output_type": "display_data",
          "data": {
            "text/html": [
              "<font color = red>1 (100%)</font> --> <font color = red>[FAILED]</font><br>I went there today! The cut was terrible! I have an awful experience. They lady that cut my hair was nice but she wanted to leave early so she made a disaster in my head!"
            ],
            "text/plain": [
              "<IPython.core.display.HTML object>"
            ]
          },
          "metadata": {
            "tags": []
          }
        },
        {
          "output_type": "stream",
          "text": [
            "[Succeeded / Failed / Total] 19 / 6 / 25: 100%|██████████| 25/25 [03:30<00:00,  8.41s/it]"
          ],
          "name": "stderr"
        },
        {
          "output_type": "stream",
          "text": [
            "+-------------------------------+--------+\n",
            "| Attack Results                |        |\n",
            "+-------------------------------+--------+\n",
            "| Number of successful attacks: | 19     |\n",
            "| Number of failed attacks:     | 6      |\n",
            "| Number of skipped attacks:    | 0      |\n",
            "| Original accuracy:            | 100.0% |\n",
            "| Accuracy under attack:        | 24.0%  |\n",
            "| Attack success rate:          | 76.0%  |\n",
            "| Average perturbed word %:     | 11.43% |\n",
            "| Average num. words per input: | 133.36 |\n",
            "| Avg num queries:              | 242.76 |\n",
            "+-------------------------------+--------+"
          ],
          "name": "stdout"
        },
        {
          "output_type": "stream",
          "text": [
            "\n",
            "\u001b[34;1mtextattack\u001b[0m: Attack time: 210.15210342407227s\n"
          ],
          "name": "stderr"
        }
      ]
    },
    {
      "cell_type": "markdown",
      "metadata": {
        "id": "BFGC91pszzRT"
      },
      "source": [
        "## Attacking using Textfooler's recipe"
      ]
    },
    {
      "cell_type": "code",
      "metadata": {
        "colab": {
          "base_uri": "https://localhost:8080/",
          "height": 1000
        },
        "id": "WOpFAa7ohrwF",
        "outputId": "6a300a3f-d229-40dd-971b-3352aae2c333"
      },
      "source": [
        "from collections import deque\n",
        "\n",
        "import textattack\n",
        "import tqdm\n",
        "import time\n",
        "from IPython.display import display, HTML\n",
        "num_examples = 25\n",
        "num_remaining_attacks = num_examples\n",
        "pbar = tqdm.tqdm(total=num_remaining_attacks, smoothing=0)\n",
        "\n",
        "worklist = deque(range(0, num_examples))\n",
        "worklist_tail = worklist[-1]\n",
        "\n",
        "attack_log_manager = textattack.loggers.AttackLogManager()\n",
        "\n",
        "load_time = time.time()\n",
        "        \n",
        "num_results = 0\n",
        "num_failures = 0\n",
        "num_successes = 0\n",
        "for result in attack1.attack_dataset(dataset, indices=worklist):\n",
        "    result_html_str = result.__str__(color_method=\"html\").replace(\"\\n\\n\", \"<br>\")\n",
        "    display(HTML(result_html_str))\n",
        "    attack_log_manager.log_result(result)\n",
        "            \n",
        "    if not isinstance(result, textattack.attack_results.SkippedAttackResult):\n",
        "        pbar.update(1)\n",
        "    else:\n",
        "        worklist_tail += 1\n",
        "        pbar.update(1)\n",
        "        worklist.append(worklist_tail)\n",
        "\n",
        "    num_results += 1\n",
        "\n",
        "    if (\n",
        "        type(result) == textattack.attack_results.SuccessfulAttackResult\n",
        "        or type(result) == textattack.attack_results.MaximizedAttackResult\n",
        "    ):\n",
        "        num_successes += 1\n",
        "                \n",
        "    if type(result) == textattack.attack_results.FailedAttackResult:\n",
        "        num_failures += 1\n",
        "    pbar.set_description(\n",
        "        \"[Succeeded / Failed / Total] {} / {} / {}\".format(\n",
        "            num_successes, num_failures, num_results\n",
        "        )\n",
        "    )\n",
        "\n",
        "pbar.close()\n",
        "\n",
        "attack_log_manager.enable_stdout()\n",
        "attack_log_manager.log_summary()\n",
        "attack_log_manager.flush()\n",
        "        \n",
        "textattack.shared.logger.info(f\"Attack time: {time.time() - load_time}s\")"
      ],
      "execution_count": 15,
      "outputs": [
        {
          "output_type": "stream",
          "text": [
            "\r  0%|          | 0/25 [00:00<?, ?it/s]"
          ],
          "name": "stderr"
        },
        {
          "output_type": "display_data",
          "data": {
            "text/html": [
              "<font color = green>2 (100%)</font> --> <font color = red>1 (56%)</font><br>Contrary to other reviews, I have zero <font color = green>complaints</font> about the service or the prices. I have been getting tire service here for the past 5 years now, and compared to my experience with places like Pep Boys, these <font color = green>guys</font> are experienced and <font color = green>know</font> what they're doing. \\nAlso, this is one place that I do not feel like I am being taken advantage of, just because of my gender. Other auto mechanics have been notorious for capitalizing on my ignorance of cars, and have sucked my bank account dry. But here, my service and road coverage has all been <font color = green>well</font> explained - and let up to me to decide. \\nAnd they just renovated the waiting room. It looks a lot better than it did in <font color = green>previous</font> years.<br>Contrary to other reviews, I have zero <font color = red>assertion</font> about the service or the prices. I have been getting tire service here for the past 5 years now, and compared to my experience with places like Pep Boys, these <font color = red>males</font> are experienced and <font color = red>savoir</font> what they're doing. \\nAlso, this is one place that I do not feel like I am being taken advantage of, just because of my gender. Other auto mechanics have been notorious for capitalizing on my ignorance of cars, and have sucked my bank account dry. But here, my service and road coverage has all been <font color = red>too</font> explained - and let up to me to decide. \\nAnd they just renovated the waiting room. It looks a lot better than it did in <font color = red>senior</font> years."
            ],
            "text/plain": [
              "<IPython.core.display.HTML object>"
            ]
          },
          "metadata": {
            "tags": []
          }
        },
        {
          "output_type": "stream",
          "text": [
            "[Succeeded / Failed / Total] 1 / 0 / 1:   4%|▍         | 1/25 [00:06<02:42,  6.77s/it]"
          ],
          "name": "stderr"
        },
        {
          "output_type": "display_data",
          "data": {
            "text/html": [
              "<font color = red>1 (100%)</font> --> <font color = green>2 (57%)</font><br>Last summer I had an appointment to get new tires and had to wait a super long time. I also went in this week for them to fix a minor problem with a tire they put on. They \\\"\"<font color = red>fixed</font>\\\"\" it for free, and the very next morning I had the same issue. I called to complain, and the \\\"\"manager\\\"\" didn't even apologize!!! <font color = red>So</font> <font color = red>frustrated</font>. <font color = red>Never</font> <font color = red>going</font> back.  They seem overpriced, too.<br>Last summer I had an appointment to get new tires and had to wait a super long time. I also went in this week for them to fix a minor problem with a tire they put on. They \\\"\"<font color = green>fixes</font>\\\"\" it for free, and the very next morning I had the same issue. I called to complain, and the \\\"\"manager\\\"\" didn't even apologize!!! <font color = green>However</font> <font color = green>thwart</font>. <font color = green>Nadie</font> <font color = green>will</font> back.  They seem overpriced, too."
            ],
            "text/plain": [
              "<IPython.core.display.HTML object>"
            ]
          },
          "metadata": {
            "tags": []
          }
        },
        {
          "output_type": "stream",
          "text": [
            "[Succeeded / Failed / Total] 2 / 0 / 2:   8%|▊         | 2/25 [00:11<02:13,  5.82s/it]"
          ],
          "name": "stderr"
        },
        {
          "output_type": "display_data",
          "data": {
            "text/html": [
              "<font color = green>2 (73%)</font> --> <font color = red>1 (59%)</font><br><font color = green>Friendly</font> staff, same starbucks fair you get anywhere else.  Sometimes the lines can get long.<br><font color = red>Hospitable</font> staff, same starbucks fair you get anywhere else.  Sometimes the lines can get long."
            ],
            "text/plain": [
              "<IPython.core.display.HTML object>"
            ]
          },
          "metadata": {
            "tags": []
          }
        },
        {
          "output_type": "stream",
          "text": [
            "[Succeeded / Failed / Total] 3 / 0 / 3:  12%|█▏        | 3/25 [00:12<01:32,  4.21s/it]"
          ],
          "name": "stderr"
        },
        {
          "output_type": "display_data",
          "data": {
            "text/html": [
              "<font color = red>1 (98%)</font> --> <font color = green>2 (73%)</font><br>The <font color = red>food</font> is good. <font color = red>Unfortunately</font> the service is very hit or miss. The main issue seems to be with the kitchen, the waiters and waitresses are often very apologetic for the long waits and it's pretty obvious that some of them avoid the tables after taking the initial order to avoid hearing complaints.<br>The <font color = green>nourishment</font> is good. <font color = green>Sadly</font> the service is very hit or miss. The main issue seems to be with the kitchen, the waiters and waitresses are often very apologetic for the long waits and it's pretty obvious that some of them avoid the tables after taking the initial order to avoid hearing complaints."
            ],
            "text/plain": [
              "<IPython.core.display.HTML object>"
            ]
          },
          "metadata": {
            "tags": []
          }
        },
        {
          "output_type": "stream",
          "text": [
            "[Succeeded / Failed / Total] 4 / 0 / 4:  16%|█▌        | 4/25 [00:14<01:18,  3.74s/it]"
          ],
          "name": "stderr"
        },
        {
          "output_type": "display_data",
          "data": {
            "text/html": [
              "<font color = green>2 (100%)</font> --> <font color = red>1 (60%)</font><br>Even when we didn't have a car Filene's Basement was worth the bus trip to the Waterfront. I always find something (usually I find 3-4 things and spend about $60) and better still, I am always still wearing the clothes and shoes 3 months later. \\n\\nI <font color = green>kind</font> of suspect this is the <font color = green>best</font> shopping in Pittsburgh; it's much better than the usual department stores, <font color = green>better</font> than Marshall's and <font color = green>TJ</font> Maxx and better than the <font color = green>Saks</font> downtown, even when it has a sale. Selection, <font color = green>bargains</font> AND quality.\\n\\nI <font color = green>like</font> this Filene's <font color = green>better</font> than Gabriel Brothers, which are harder to get to. Gabriel Brothers are a real discount shopper's challenge and I'm afraid I didn't live in Pittsburgh long enough to develop the necessary skills . . . Filene's was still up and running in June 2007 when I left <font color = green>town</font>.<br>Even when we didn't have a car Filene's Basement was worth the bus trip to the Waterfront. I always find something (usually I find 3-4 things and spend about $60) and better still, I am always still wearing the clothes and shoes 3 months later. \\n\\nI <font color = red>ranks</font> of suspect this is the <font color = red>alright</font> shopping in Pittsburgh; it's much better than the usual department stores, <font color = red>preferable</font> than Marshall's and <font color = red>TIJUANA</font> Maxx and better than the <font color = red>Sachs</font> downtown, even when it has a sale. Selection, <font color = red>relates</font> AND quality.\\n\\nI <font color = red>iike</font> this Filene's <font color = red>more</font> than Gabriel Brothers, which are harder to get to. Gabriel Brothers are a real discount shopper's challenge and I'm afraid I didn't live in Pittsburgh long enough to develop the necessary skills . . . Filene's was still up and running in June 2007 when I left <font color = red>mayor</font>."
            ],
            "text/plain": [
              "<IPython.core.display.HTML object>"
            ]
          },
          "metadata": {
            "tags": []
          }
        },
        {
          "output_type": "stream",
          "text": [
            "[Succeeded / Failed / Total] 5 / 0 / 5:  20%|██        | 5/25 [00:23<01:33,  4.65s/it]"
          ],
          "name": "stderr"
        },
        {
          "output_type": "display_data",
          "data": {
            "text/html": [
              "<font color = green>2 (100%)</font> --> <font color = red>1 (57%)</font><br>Picture Billy Joel's \\\"\"Piano Man\\\"\" DOUBLED mixed with beer, a rowdy crowd, and comedy - Welcome to Sing Sing!  A <font color = green>unique</font> musical <font color = green>experience</font> found in <font color = green>Homestead</font>.\\n\\nIf you're looking to grab a bite to eat or a beer, come on in!  Serving food and brews from Rock Bottom Brewery, Sing Sing keeps your tummy full while you listen to two (or more) amazingly <font color = green>talented</font> pianists take your <font color = green>musical</font> requests.  They'll play anything you'd like, for tips of course.  Wanting to hear Britney Spears?  Toto?  Duran Duran?  Yep, they play that... new or old.\\n\\nThe crowd <font color = green>makes</font> the show, so make sure you come ready for a good time.  <font color = green>If</font> the crowd is dead, it's harder for the Guys to get a reaction.  If you're wanting to have some fun, it can be a GREAT time!  It's the <font color = green>perfect</font> place for Birthday parties - especially if you want to embarrass a friend.  The guys will bring them up to the pianos and perform a little ditty.  For being a good sport, you get the coveted Sing Sing bumper sticker.  Now who wouldn't want that?\\n\\nDueling Pianos and brews... time to Shut Up & Sing Sing!<br>Picture Billy Joel's \\\"\"Piano Man\\\"\" DOUBLED mixed with beer, a rowdy crowd, and comedy - Welcome to Sing Sing!  A <font color = red>unequaled</font> musical <font color = red>experienced</font> found in <font color = red>Townsville</font>.\\n\\nIf you're looking to grab a bite to eat or a beer, come on in!  Serving food and brews from Rock Bottom Brewery, Sing Sing keeps your tummy full while you listen to two (or more) amazingly <font color = red>prodigy</font> pianists take your <font color = red>musician</font> requests.  They'll play anything you'd like, for tips of course.  Wanting to hear Britney Spears?  Toto?  Duran Duran?  Yep, they play that... new or old.\\n\\nThe crowd <font color = red>facto</font> the show, so make sure you come ready for a good time.  <font color = red>Except</font> the crowd is dead, it's harder for the Guys to get a reaction.  If you're wanting to have some fun, it can be a GREAT time!  It's the <font color = red>innocent</font> place for Birthday parties - especially if you want to embarrass a friend.  The guys will bring them up to the pianos and perform a little ditty.  For being a good sport, you get the coveted Sing Sing bumper sticker.  Now who wouldn't want that?\\n\\nDueling Pianos and brews... time to Shut Up & Sing Sing!"
            ],
            "text/plain": [
              "<IPython.core.display.HTML object>"
            ]
          },
          "metadata": {
            "tags": []
          }
        },
        {
          "output_type": "stream",
          "text": [
            "[Succeeded / Failed / Total] 6 / 0 / 6:  24%|██▍       | 6/25 [00:32<01:44,  5.49s/it]"
          ],
          "name": "stderr"
        },
        {
          "output_type": "display_data",
          "data": {
            "text/html": [
              "<font color = red>1 (100%)</font> --> <font color = red>[FAILED]</font><br>Mediocre service. COLD food! Our food waited so long the lettuce & pickles wilted. Bland food. Crazy overpriced. Long waits in the arcade. 1 beer per hour maximum.  Avoid at all costs. Fair manager."
            ],
            "text/plain": [
              "<IPython.core.display.HTML object>"
            ]
          },
          "metadata": {
            "tags": []
          }
        },
        {
          "output_type": "stream",
          "text": [
            "[Succeeded / Failed / Total] 6 / 1 / 7:  28%|██▊       | 7/25 [00:51<02:12,  7.38s/it]"
          ],
          "name": "stderr"
        },
        {
          "output_type": "display_data",
          "data": {
            "text/html": [
              "<font color = red>1 (100%)</font> --> <font color = green>2 (99%)</font><br>Ok! Let me tell you about my <font color = red>bad</font> <font color = red>experience</font> first. I went to D&B last night for a post wedding party - which, side note, is a great idea!\\n\\nIt was around midnight and the bar wasn't really populated. There were three bartenders and only one was actually making rounds to see if anyone needed anything. The two other bartenders were chatting on the far side of the bar that no one was sitting at. Kind of counter productive if you ask me. \\n\\nI stood there for about 5 minutes, which for a busy bar is fine but when I am the only one with my card out then, it just seems a little ridiculous. I made eye contact with the one girl twice and gave her a smile and she literally turned away. I finally had to walk to them to get their attention.  I was standing right in front of them smiling and they didn't ask if i need anything. I finally said, \\\"\"Are you working?\\\"\" and they gave each other a weird look. I felt like i was the crazy one. I asked for a beer/got the beer.\\n\\nIn between that time, the other bartender brought food over and set it down. She took a fry from the plate (right in front of me) and then served it to someone on the other side of the bar. What the hell! I felt like i was in some grimy bar in out in the sticks - not an established D&B. \\n\\nI was just really turned off from that experience. \\n\\nThe good is that D&B provides a different type of entertainment when you want to mix things up. I remember going here with my grandparents when I was a kid and it was the best treat ever! We would eat at the restaurant and then spend hours playing games. This place holds some really good memories for me. \\n\\nIt's a shame that my experience last night has spoiled the high standards I held for it.<br>Ok! Let me tell you about my <font color = green>untoward</font> <font color = green>savoring</font> first. I went to D&B last night for a post wedding party - which, side note, is a great idea!\\n\\nIt was around midnight and the bar wasn't really populated. There were three bartenders and only one was actually making rounds to see if anyone needed anything. The two other bartenders were chatting on the far side of the bar that no one was sitting at. Kind of counter productive if you ask me. \\n\\nI stood there for about 5 minutes, which for a busy bar is fine but when I am the only one with my card out then, it just seems a little ridiculous. I made eye contact with the one girl twice and gave her a smile and she literally turned away. I finally had to walk to them to get their attention.  I was standing right in front of them smiling and they didn't ask if i need anything. I finally said, \\\"\"Are you working?\\\"\" and they gave each other a weird look. I felt like i was the crazy one. I asked for a beer/got the beer.\\n\\nIn between that time, the other bartender brought food over and set it down. She took a fry from the plate (right in front of me) and then served it to someone on the other side of the bar. What the hell! I felt like i was in some grimy bar in out in the sticks - not an established D&B. \\n\\nI was just really turned off from that experience. \\n\\nThe good is that D&B provides a different type of entertainment when you want to mix things up. I remember going here with my grandparents when I was a kid and it was the best treat ever! We would eat at the restaurant and then spend hours playing games. This place holds some really good memories for me. \\n\\nIt's a shame that my experience last night has spoiled the high standards I held for it."
            ],
            "text/plain": [
              "<IPython.core.display.HTML object>"
            ]
          },
          "metadata": {
            "tags": []
          }
        },
        {
          "output_type": "stream",
          "text": [
            "[Succeeded / Failed / Total] 7 / 1 / 8:  32%|███▏      | 8/25 [01:01<02:10,  7.65s/it]"
          ],
          "name": "stderr"
        },
        {
          "output_type": "display_data",
          "data": {
            "text/html": [
              "<font color = red>1 (100%)</font> --> <font color = green>2 (51%)</font><br><font color = red>I</font> used to <font color = red>love</font> D&B when it first opened in the Waterfront, but it <font color = red>has</font> <font color = red>gone</font> down hill over the years. The <font color = red>games</font> are not as fun and do not give you as many tickets and the prizes have gotten cheaper in quality. It takes a whole heck of a lot of tickets for you to even <font color = red>get</font> a pencil! The <font color = red>atmosphere</font> is okay but it used to be so much better with the funnest games and diverse groups of people! Now, it is <font color = red>run</font> down and many of the games are app related games (Fruit Ninja) and 3D Experience rides. With such \\\"\"games\\\"\", you can't even earn tickets and they take a lot of tokens! Last time I went, back in the winter, many of the games were broken, which made for a <font color = red>negative</font> player experience. I would go to D&B to play some games again in the future, but it is no longer one of my favorite places to go due to the decline of fun games where you can earn tickets.<br><font color = green>me</font> used to <font color = green>dear</font> D&B when it first opened in the Waterfront, but it <font color = green>possesses</font> <font color = green>outof</font> down hill over the years. The <font color = green>jeux</font> are not as fun and do not give you as many tickets and the prizes have gotten cheaper in quality. It takes a whole heck of a lot of tickets for you to even <font color = green>do</font> a pencil! The <font color = green>atmospheric</font> is okay but it used to be so much better with the funnest games and diverse groups of people! Now, it is <font color = green>executed</font> down and many of the games are app related games (Fruit Ninja) and 3D Experience rides. With such \\\"\"games\\\"\", you can't even earn tickets and they take a lot of tokens! Last time I went, back in the winter, many of the games were broken, which made for a <font color = green>devastating</font> player experience. I would go to D&B to play some games again in the future, but it is no longer one of my favorite places to go due to the decline of fun games where you can earn tickets."
            ],
            "text/plain": [
              "<IPython.core.display.HTML object>"
            ]
          },
          "metadata": {
            "tags": []
          }
        },
        {
          "output_type": "stream",
          "text": [
            "[Succeeded / Failed / Total] 8 / 1 / 9:  36%|███▌      | 9/25 [01:10<02:06,  7.88s/it]"
          ],
          "name": "stderr"
        },
        {
          "output_type": "display_data",
          "data": {
            "text/html": [
              "<font color = green>2 (100%)</font> --> <font color = red>1 (60%)</font><br><font color = green>Like</font> any Barnes & Noble, it has a nice <font color = green>comfy</font> cafe, and a large selection of books.  The staff is very friendly and <font color = green>helpful</font>.  They stock a decent selection, and the <font color = green>prices</font> are <font color = green>pretty</font> <font color = green>reasonable</font>.  Obviously it's <font color = green>hard</font> for them to compete with Amazon.  However since all the small shop <font color = green>bookstores</font> are gone, it's nice to walk into one every once in a while.<br><font color = red>Iike</font> any Barnes & Noble, it has a nice <font color = red>roomy</font> cafe, and a large selection of books.  The staff is very friendly and <font color = red>affirmative</font>.  They stock a decent selection, and the <font color = red>prize</font> are <font color = red>somewhat</font> <font color = red>satisfactory</font>.  Obviously it's <font color = red>harsh</font> for them to compete with Amazon.  However since all the small shop <font color = red>bookshelf</font> are gone, it's nice to walk into one every once in a while."
            ],
            "text/plain": [
              "<IPython.core.display.HTML object>"
            ]
          },
          "metadata": {
            "tags": []
          }
        },
        {
          "output_type": "stream",
          "text": [
            "[Succeeded / Failed / Total] 9 / 1 / 10:  40%|████      | 10/25 [01:16<01:55,  7.68s/it]"
          ],
          "name": "stderr"
        },
        {
          "output_type": "display_data",
          "data": {
            "text/html": [
              "<font color = red>1 (100%)</font> --> <font color = green>2 (51%)</font><br><font color = red>Meh</font>, I've <font color = red>experienced</font> <font color = red>better</font> is an understatement.\\n\\nFriday's is <font color = red>like</font> the \\\"\"<font color = red>fine</font> <font color = red>dining</font> <font color = red>chain</font>\\\"\" for every yinzer in Pittsburgh...\\n\\n1.  When we were <font color = red>seated</font>, it was quick which was a <font color = red>surprise</font>.  Somehow this <font color = red>restaurant</font> <font color = red>gets</font> <font color = red>packed</font> and <font color = red>I</font> never <font color = red>understand</font> why.  I was <font color = red>happy</font> about that.\\n2.  <font color = red>I</font> <font color = red>ordered</font> one of their \\\"\"skinny margaritas\\\"\", blackberry to be <font color = red>exact</font>.  It was a nice size, however, at $6.00/pop, that was half of my food bill.\\n3.  The waitress started off attentive, but after our food came out she was gone.  I ordered a turkey burger with <font color = red>pickle</font> and mustard.  Loaded mashed potato on the side <font color = red>because</font> I wanted heartburn <font color = red>ha</font>!\\n4.  Food <font color = red>came</font>.  My burger had lettuce on it only.  Waitress was supposed to <font color = red>go</font> and <font color = red>get</font> our next <font color = red>round</font> of drinks.  I had to <font color = red>wait</font> to <font color = red>ask</font> for my <font color = red>pickle</font>.\\n5.  The loaded potatoes were more like rubber than potatoes and not what I was expecting.  Disappointment.\\n6.  The <font color = red>waitress</font> then went into oblivion and only returned with our check.  \\n\\nNever again will I eat at Friday's.  I will, however, go should a happy hour arise...<br><font color = green>Gots</font>, I've <font color = green>realised</font> <font color = green>higher</font> is an understatement.\\n\\nFriday's is <font color = green>adore</font> the \\\"\"<font color = green>sumptuous</font> <font color = green>dinning</font> <font color = green>fetters</font>\\\"\" for every yinzer in Pittsburgh...\\n\\n1.  When we were <font color = green>seat</font>, it was quick which was a <font color = green>amazement</font>.  Somehow this <font color = green>luncheon</font> <font color = green>perceive</font> <font color = green>enveloped</font> and <font color = green>yo</font> never <font color = green>encompasses</font> why.  I was <font color = green>fortunate</font> about that.\\n2.  <font color = green>me</font> <font color = green>ordained</font> one of their \\\"\"skinny margaritas\\\"\", blackberry to be <font color = green>meticulous</font>.  It was a nice size, however, at $6.00/pop, that was half of my food bill.\\n3.  The waitress started off attentive, but after our food came out she was gone.  I ordered a turkey burger with <font color = green>cucumber</font> and mustard.  Loaded mashed potato on the side <font color = green>since</font> I wanted heartburn <font color = green>acres</font>!\\n4.  Food <font color = green>entry</font>.  My burger had lettuce on it only.  Waitress was supposed to <font color = green>skip</font> and <font color = green>learns</font> our next <font color = green>rounded</font> of drinks.  I had to <font color = green>expectancy</font> to <font color = green>pose</font> for my <font color = green>cider</font>.\\n5.  The loaded potatoes were more like rubber than potatoes and not what I was expecting.  Disappointment.\\n6.  The <font color = green>waiter</font> then went into oblivion and only returned with our check.  \\n\\nNever again will I eat at Friday's.  I will, however, go should a happy hour arise..."
            ],
            "text/plain": [
              "<IPython.core.display.HTML object>"
            ]
          },
          "metadata": {
            "tags": []
          }
        },
        {
          "output_type": "stream",
          "text": [
            "[Succeeded / Failed / Total] 10 / 1 / 11:  44%|████▍     | 11/25 [01:42<02:10,  9.32s/it]"
          ],
          "name": "stderr"
        },
        {
          "output_type": "display_data",
          "data": {
            "text/html": [
              "<font color = green>2 (100%)</font> --> <font color = red>1 (56%)</font><br>Unos <font color = green>has</font> been around for ever, & I feel like this <font color = green>restaurant</font> chain <font color = green>peak</font> in <font color = green>popularity</font> in the 80's. <font color = green>Honestly</font> the decor inside <font color = green>still</font> <font color = green>kind</font> of <font color = green>looks</font> 80s to me even <font color = green>though</font> its nice with <font color = green>sleek</font> booth and <font color = green>exposed</font> <font color = green>brick</font>.\\n\\nIf you haven't <font color = green>died</font> and he recently I ordered you to come back and have a meal here again because honestly the food is really quite good!\\n\\nThey have the <font color = green>best</font> chicken salad wrap ever! I love that rap so much I want agreed to walk the south side River Trail from where the Steelers practice all the way to the damn waterfront just because I knew that I could convince my boyfriend to go to Unos with me for lunch.  Full disclosure:  I made him call is a cab and we took a taxi back to the parking lot after lunch.\\n\\nListen... The food and pizza and service are very good, surprisingly so! I don't know why this place is not busier but next time you're down at the Waterfront please do consider dining here!<br>Unos <font color = red>had</font> been around for ever, & I feel like this <font color = red>cafeteria</font> chain <font color = red>culmination</font> in <font color = red>trendy</font> in the 80's. <font color = red>Outright</font> the decor inside <font color = red>instead</font> <font color = red>ranking</font> of <font color = red>appears</font> 80s to me even <font color = red>unless</font> its nice with <font color = red>chic</font> booth and <font color = red>disclosed</font> <font color = red>mah</font>.\\n\\nIf you haven't <font color = red>succumb</font> and he recently I ordered you to come back and have a meal here again because honestly the food is really quite good!\\n\\nThey have the <font color = red>happiest</font> chicken salad wrap ever! I love that rap so much I want agreed to walk the south side River Trail from where the Steelers practice all the way to the damn waterfront just because I knew that I could convince my boyfriend to go to Unos with me for lunch.  Full disclosure:  I made him call is a cab and we took a taxi back to the parking lot after lunch.\\n\\nListen... The food and pizza and service are very good, surprisingly so! I don't know why this place is not busier but next time you're down at the Waterfront please do consider dining here!"
            ],
            "text/plain": [
              "<IPython.core.display.HTML object>"
            ]
          },
          "metadata": {
            "tags": []
          }
        },
        {
          "output_type": "stream",
          "text": [
            "[Succeeded / Failed / Total] 11 / 1 / 12:  48%|████▊     | 12/25 [01:56<02:06,  9.74s/it]"
          ],
          "name": "stderr"
        },
        {
          "output_type": "display_data",
          "data": {
            "text/html": [
              "<font color = red>1 (100%)</font> --> <font color = green>2 (61%)</font><br>Stars are for the food only.    2.5 rating\\<font color = red>n</font>\\nGot there at 8pm on Saturday <font color = red>night</font>, they told <font color = red>us</font> it was an hour <font color = red>wait</font> which was <font color = red>expected</font>, but it only took 30minutes to <font color = red>be</font> <font color = red>seated</font> <font color = red>so</font> that was a bonus.  <font color = red>Started</font> off with the lettuce <font color = red>wraps</font> and i used to <font color = red>be</font> a fan of these but they just seem to bore me now(FYI-love the lettuce <font color = red>wraps</font> at the <font color = red>cheesecake</font> factory).  I <font color = red>had</font> the Singapore <font color = red>rice</font> noodles.  <font color = red>This</font> was <font color = red>so</font> <font color = red>so</font> as i thought immediately that lu lu noodles and asian cafe are <font color = red>better</font>.  The <font color = red>fried</font> rice was disappointing and the <font color = red>vegetables</font> <font color = red>tasted</font> <font color = red>raw</font>.   Some good notes were the Dynamite shrimp, plump, juicy, <font color = red>tangy</font> with a <font color = red>small</font> kick.    Sweet and sour chicken was just the same minus the kick. \\<font color = red>n</font>\\nThe service was <font color = red>annoying</font>.   We were there less than 45 minutes and it <font color = red>seemed</font> like our <font color = red>waiter</font> was in a <font color = red>rush</font> to <font color = red>get</font> us out of there.   <font color = red>Constantly</font> <font color = red>asking</font> if he could <font color = red>remove</font> my <font color = red>plate</font>.  I <font color = red>had</font> to sternly <font color = red>say</font> at one <font color = red>point</font> that I <font color = red>will</font> <font color = red>let</font> you <font color = red>know</font> when i am <font color = red>finished</font>.  I <font color = red>found</font> it <font color = red>rude</font> <font color = red>especially</font> <font color = red>since</font>  there wasn't even a <font color = red>line</font> at this <font color = red>point</font>.  \\n\\nI think we will travel elsewhere following a movie.  The result never quite met the anticipation.<br>Stars are for the food only.    2.5 rating\\<font color = green>nth</font>\\nGot there at 8pm on Saturday <font color = green>nights</font>, they told <font color = green>ourselves</font> it was an hour <font color = green>anticipation</font> which was <font color = green>expectations</font>, but it only took 30minutes to <font color = green>get</font> <font color = green>seats</font> <font color = green>why</font> that was a bonus.  <font color = green>Starts</font> off with the lettuce <font color = green>adapts</font> and i used to <font color = green>remain</font> a fan of these but they just seem to bore me now(FYI-love the lettuce <font color = green>envelops</font> at the <font color = green>pastries</font> factory).  I <font color = green>acres</font> the Singapore <font color = green>reyes</font> noodles.  <font color = green>These</font> was <font color = green>till</font> <font color = green>furthermore</font> as i thought immediately that lu lu noodles and asian cafe are <font color = green>more</font>.  The <font color = green>shaved</font> rice was disappointing and the <font color = green>kale</font> <font color = green>devour</font> <font color = green>coarse</font>.   Some good notes were the Dynamite shrimp, plump, juicy, <font color = green>stewed</font> with a <font color = green>restrained</font> kick.    Sweet and sour chicken was just the same minus the kick. \\<font color = green>ies</font>\\nThe service was <font color = green>exasperating</font>.   We were there less than 45 minutes and it <font color = green>noticed</font> like our <font color = green>waitress</font> was in a <font color = green>quicker</font> to <font color = green>getting</font> us out of there.   <font color = green>Continual</font> <font color = green>inviting</font> if he could <font color = green>suppress</font> my <font color = green>plates</font>.  I <font color = green>ha</font> to sternly <font color = green>explaining</font> at one <font color = green>aspect</font> that I <font color = green>goes</font> <font color = green>enables</font> you <font color = green>see</font> when i am <font color = green>closing</font>.  I <font color = green>discovering</font> it <font color = green>impolite</font> <font color = green>mainly</font> <font color = green>before</font>  there wasn't even a <font color = green>lines</font> at this <font color = green>dot</font>.  \\n\\nI think we will travel elsewhere following a movie.  The result never quite met the anticipation."
            ],
            "text/plain": [
              "<IPython.core.display.HTML object>"
            ]
          },
          "metadata": {
            "tags": []
          }
        },
        {
          "output_type": "stream",
          "text": [
            "[Succeeded / Failed / Total] 12 / 1 / 13:  52%|█████▏    | 13/25 [02:47<02:34, 12.87s/it]"
          ],
          "name": "stderr"
        },
        {
          "output_type": "display_data",
          "data": {
            "text/html": [
              "<font color = red>1 (100%)</font> --> <font color = green>2 (93%)</font><br>Our <font color = red>last</font> few <font color = red>visits</font> have <font color = red>left</font> something to desire, One of the things I always notice is the demeanor of an establishments employees. These people look <font color = red>miserable</font>, no one <font color = red>smiles</font> or greets you appropriately, it's more like get in, get out, turn the tables,\\n\\nThe food has remained consistently good... when we can order it. the last time JB and I came for a quick dinner, the place was not busy yet we were passed by 6 frowning waitstaff without getting drinks... for 15 minutes we were left suiting at our table with our menus closed and sitting on the edge of the table (HINT, HINT) so we left and most likely will not be <font color = red>returning</font>.<br>Our <font color = green>ultimate</font> few <font color = green>visitations</font> have <font color = green>gauche</font> something to desire, One of the things I always notice is the demeanor of an establishments employees. These people look <font color = green>woeful</font>, no one <font color = green>stares</font> or greets you appropriately, it's more like get in, get out, turn the tables,\\n\\nThe food has remained consistently good... when we can order it. the last time JB and I came for a quick dinner, the place was not busy yet we were passed by 6 frowning waitstaff without getting drinks... for 15 minutes we were left suiting at our table with our menus closed and sitting on the edge of the table (HINT, HINT) so we left and most likely will not be <font color = green>setback</font>."
            ],
            "text/plain": [
              "<IPython.core.display.HTML object>"
            ]
          },
          "metadata": {
            "tags": []
          }
        },
        {
          "output_type": "stream",
          "text": [
            "[Succeeded / Failed / Total] 13 / 1 / 14:  56%|█████▌    | 14/25 [02:53<02:16, 12.41s/it]"
          ],
          "name": "stderr"
        },
        {
          "output_type": "display_data",
          "data": {
            "text/html": [
              "<font color = green>2 (100%)</font> --> <font color = red>1 (52%)</font><br>Good <font color = green>quality</font> pork fried dumpling and mongo beef.  Bar service was fast and Efficent.   <font color = green>Good</font> value.  Not a 5 cause dragon eye tea was cold first time around and beef had minor amount of <font color = green>fat</font>.   <font color = green>Fortune</font> was even Postive!<br>Good <font color = red>qualifications</font> pork fried dumpling and mongo beef.  Bar service was fast and Efficent.   <font color = red>Fine</font> value.  Not a 5 cause dragon eye tea was cold first time around and beef had minor amount of <font color = red>fatty</font>.   <font color = red>Luck</font> was even Postive!"
            ],
            "text/plain": [
              "<IPython.core.display.HTML object>"
            ]
          },
          "metadata": {
            "tags": []
          }
        },
        {
          "output_type": "stream",
          "text": [
            "[Succeeded / Failed / Total] 14 / 1 / 15:  60%|██████    | 15/25 [02:56<01:57, 11.76s/it]"
          ],
          "name": "stderr"
        },
        {
          "output_type": "display_data",
          "data": {
            "text/html": [
              "<font color = red>1 (100%)</font> --> <font color = green>2 (91%)</font><br>Very <font color = red>bad</font> purchase experience. I bought a shirt with a hole covered in the rolled up sleeves, but they <font color = red>denied</font> my request to return it. I am so angery at this and will never shop their chothes anymore.<br>Very <font color = green>wicked</font> purchase experience. I bought a shirt with a hole covered in the rolled up sleeves, but they <font color = green>repudiate</font> my request to return it. I am so angery at this and will never shop their chothes anymore."
            ],
            "text/plain": [
              "<IPython.core.display.HTML object>"
            ]
          },
          "metadata": {
            "tags": []
          }
        },
        {
          "output_type": "stream",
          "text": [
            "[Succeeded / Failed / Total] 15 / 1 / 16:  64%|██████▍   | 16/25 [02:59<01:40, 11.21s/it]"
          ],
          "name": "stderr"
        },
        {
          "output_type": "display_data",
          "data": {
            "text/html": [
              "<font color = red>1 (100%)</font> --> <font color = green>2 (75%)</font><br>When I think BBB... I think the days of simply bringing your bike in for a quick and relatively inexpensive tune-up and a few <font color = red>fixes</font> are long gone.    \\n\\nThis review is more for the repair end of BBB. <font color = red>In</font> their defense BBB does <font color = red>appear</font> to carry some amazing brands of bike (ie Colnago) that you just don't find anywhere else in Pittsburgh. \\n\\nAt BBB I was <font color = red>charged</font> $250 for a tune up and a few other things. Granted this included installing a sew up tire (which I can understand would cost approx $50), Swapping out a left side (big ring) shifter on my down tube (this should have cost approx. $20 at most) and installing new bar tape (cost of tape $20 and $20 to install?).. SO WHAT\\\"\"S WITH $140 FOR A TUNE UP? Well the story goes like this:\\n\\nI bring the bike into BBB prior to the nice weather hitting Pittsburgh in hopes of trying what people have said is a great bike shop and getting my OCLV TREK 5900 ready for the season. Turns out I don't hear from these guys. A week goes by ...two weeks...I think that's ok I have two or three other bike I can turn to for a ride. Then I wind up going out of town for a week thinking for sure I'll get a call from them re: my bike is ready to roll...but no dice. So I call. Turns out a screw snapped when the mechanic was re-installing the down tube shifter and it had to be tapped out (is that my fault?). He says \\\"\"Should be ready in a few days\\\"\". So I come in a few days later to this mammoth bill. I ask if I am paying for the labor of taping out the screw? I don't think I ever got a straight answer? I look at the bill and can't see a good breakdown of the charges. Normally I would \\\"\"duke it over\\\"\" a bill like this but I figured...I had somewhere I to be 10 minutes ago and at least I finally have my bike. I would expect that for that money my bike could have been stripped down to the frame and totally gone over (overhauled). But it wasn't.  Well BBB I'll give you a star because the mechanic did do a good job in that my cycle shifts well and the tape job on the bars looks great (nice wrap). Plus I'll toss in a star for your outstanding selection of high end cycles. Maybe I would have rated BBB higher if I was in the market for a purchase instead of a simple repair?<br>When I think BBB... I think the days of simply bringing your bike in for a quick and relatively inexpensive tune-up and a few <font color = green>repaired</font> are long gone.    \\n\\nThis review is more for the repair end of BBB. <font color = green>At</font> their defense BBB does <font color = green>demonstrates</font> to carry some amazing brands of bike (ie Colnago) that you just don't find anywhere else in Pittsburgh. \\n\\nAt BBB I was <font color = green>convicts</font> $250 for a tune up and a few other things. Granted this included installing a sew up tire (which I can understand would cost approx $50), Swapping out a left side (big ring) shifter on my down tube (this should have cost approx. $20 at most) and installing new bar tape (cost of tape $20 and $20 to install?).. SO WHAT\\\"\"S WITH $140 FOR A TUNE UP? Well the story goes like this:\\n\\nI bring the bike into BBB prior to the nice weather hitting Pittsburgh in hopes of trying what people have said is a great bike shop and getting my OCLV TREK 5900 ready for the season. Turns out I don't hear from these guys. A week goes by ...two weeks...I think that's ok I have two or three other bike I can turn to for a ride. Then I wind up going out of town for a week thinking for sure I'll get a call from them re: my bike is ready to roll...but no dice. So I call. Turns out a screw snapped when the mechanic was re-installing the down tube shifter and it had to be tapped out (is that my fault?). He says \\\"\"Should be ready in a few days\\\"\". So I come in a few days later to this mammoth bill. I ask if I am paying for the labor of taping out the screw? I don't think I ever got a straight answer? I look at the bill and can't see a good breakdown of the charges. Normally I would \\\"\"duke it over\\\"\" a bill like this but I figured...I had somewhere I to be 10 minutes ago and at least I finally have my bike. I would expect that for that money my bike could have been stripped down to the frame and totally gone over (overhauled). But it wasn't.  Well BBB I'll give you a star because the mechanic did do a good job in that my cycle shifts well and the tape job on the bars looks great (nice wrap). Plus I'll toss in a star for your outstanding selection of high end cycles. Maybe I would have rated BBB higher if I was in the market for a purchase instead of a simple repair?"
            ],
            "text/plain": [
              "<IPython.core.display.HTML object>"
            ]
          },
          "metadata": {
            "tags": []
          }
        },
        {
          "output_type": "stream",
          "text": [
            "[Succeeded / Failed / Total] 16 / 1 / 17:  68%|██████▊   | 17/25 [03:15<01:31, 11.48s/it]"
          ],
          "name": "stderr"
        },
        {
          "output_type": "display_data",
          "data": {
            "text/html": [
              "<font color = red>1 (100%)</font> --> <font color = green>2 (74%)</font><br>My orders have <font color = red>come</font> out <font color = red>bad</font> pretty much every time I have ordered from here. The chicken <font color = red>nuggets</font> come out under <font color = red>par</font>. I'm lucky if the <font color = red>fries</font> come out right. My <font color = red>last</font> experience is the last straw. I recently posted a photo of my Chicken Ranch Club. That has no chicken. This is ridiculous. I am done going to this Mcd's.<br>My orders have <font color = green>arriving</font> out <font color = green>wicked</font> pretty much every time I have ordered from here. The chicken <font color = green>fries</font> come out under <font color = green>para</font>. I'm lucky if the <font color = green>frites</font> come out right. My <font color = green>former</font> experience is the last straw. I recently posted a photo of my Chicken Ranch Club. That has no chicken. This is ridiculous. I am done going to this Mcd's."
            ],
            "text/plain": [
              "<IPython.core.display.HTML object>"
            ]
          },
          "metadata": {
            "tags": []
          }
        },
        {
          "output_type": "stream",
          "text": [
            "[Succeeded / Failed / Total] 17 / 1 / 18:  72%|███████▏  | 18/25 [03:19<01:17, 11.08s/it]"
          ],
          "name": "stderr"
        },
        {
          "output_type": "display_data",
          "data": {
            "text/html": [
              "<font color = red>1 (100%)</font> --> <font color = green>2 (65%)</font><br>Wow. What a shame. My <font color = red>family</font> just moved to the area and <font color = red>have</font> been <font color = red>sampling</font> the local <font color = red>cuisine</font>. We are a <font color = red>very</font> <font color = red>large</font> <font color = red>family</font> and <font color = red>love</font> <font color = red>foods</font> of all <font color = red>kind</font>. We've <font color = red>eaten</font> <font color = red>Chinese</font> <font color = red>food</font> from a hundred <font color = red>different</font> <font color = red>places</font> in a dozen different <font color = red>cities</font>. Hands down, this was the <font color = red>worst</font> we've ever <font color = red>had</font>. <font color = red>Cold</font>, <font color = red>tough</font>, congealed, and tasteless - that's the only <font color = red>way</font> to <font color = red>describe</font> it. I'll never <font color = red>order</font> from here again. <font color = red>Quite</font> frankly, the fact that I <font color = red>took</font> <font color = red>time</font> <font color = red>away</font> from my <font color = red>kids</font> to <font color = red>type</font> this out <font color = red>should</font> <font color = red>tell</font> you how awful it was. My <font color = red>complaints</font> <font color = red>fell</font> on deaf <font color = red>ears</font>. I <font color = red>guess</font> they were <font color = red>shocked</font> that someone <font color = red>thought</font> that they were <font color = red>serving</font> <font color = red>low</font> grade <font color = red>dog</font> food. <font color = red>I</font> <font color = red>understand</font> that <font color = red>sometimes</font> <font color = red>restaurants</font> crank out <font color = red>bad</font> <font color = red>food</font>. <font color = red>It</font> <font color = red>happens</font>. But when it <font color = red>does</font>, you <font color = red>bend</font> over <font color = red>backwards</font> to <font color = red>make</font> it <font color = red>right</font>. Not at this <font color = red>place</font>. <font color = red>I</font> was <font color = red>told</font> that he would <font color = red>have</font> to <font color = red>speak</font> with the <font color = red>owner</font> in <font color = red>order</font> to <font color = red>help</font> me. I <font color = red>guess</font> that's how they deflect <font color = red>complaints</font> - <font color = red>blame</font> it on the <font color = red>owners</font> that aren't there and <font color = red>make</font> the customer for away angry.  Too bad. Because we will be visiting a <font color = red>competitor</font> in the <font color = red>future</font>. <font color = red>This</font> family of 7 won't be visiting <font color = red>China</font> Sea ever again. Oh, and by the way, why can't I give this place zero stars?<br>Wow. What a shame. My <font color = green>relatives</font> just moved to the area and <font color = green>could</font> been <font color = green>specimen</font> the local <font color = green>galley</font>. We are a <font color = green>severely</font> <font color = green>phenomenal</font> <font color = green>parents</font> and <font color = green>beloved</font> <font color = green>edible</font> of all <font color = green>categorized</font>. We've <font color = green>meals</font> <font color = green>Cantonese</font> <font color = green>meals</font> from a hundred <font color = green>other</font> <font color = green>venue</font> in a dozen different <font color = green>precinct</font>. Hands down, this was the <font color = green>finest</font> we've ever <font color = green>received</font>. <font color = green>Icy</font>, <font color = green>inhospitable</font>, congealed, and tasteless - that's the only <font color = green>shape</font> to <font color = green>indicating</font> it. I'll never <font color = green>ordinance</font> from here again. <font color = green>Perfectly</font> frankly, the fact that I <font color = green>conducted</font> <font color = green>moment</font> <font color = green>aside</font> from my <font color = green>boys</font> to <font color = green>dude</font> this out <font color = green>envisioned</font> <font color = green>chatter</font> you how awful it was. My <font color = green>claiming</font> <font color = green>stumbled</font> on deaf <font color = green>armbands</font>. I <font color = green>reckon</font> they were <font color = green>terrified</font> that someone <font color = green>perception</font> that they were <font color = green>service</font> <font color = green>feeble</font> grade <font color = green>mutt</font> food. <font color = green>me</font> <font color = green>embrace</font> that <font color = green>recurrent</font> <font color = green>eat</font> crank out <font color = green>malicious</font> <font color = green>lunch</font>. <font color = green>His</font> <font color = green>arrived</font>. But when it <font color = green>gonna</font>, you <font color = green>twisted</font> over <font color = green>backward</font> to <font color = green>pose</font> it <font color = green>correctly</font>. Not at this <font color = green>placement</font>. <font color = green>me</font> was <font color = green>proclaimed</font> that he would <font color = green>haya</font> to <font color = green>speeches</font> with the <font color = green>landowner</font> in <font color = green>edict</font> to <font color = green>attend</font> me. I <font color = green>guessing</font> that's how they deflect <font color = green>requisitions</font> - <font color = green>accuse</font> it on the <font color = green>landowner</font> that aren't there and <font color = green>accomplish</font> the customer for away angry.  Too bad. Because we will be visiting a <font color = green>competitors</font> in the <font color = green>posterior</font>. <font color = green>These</font> family of 7 won't be visiting <font color = green>Chine</font> Sea ever again. Oh, and by the way, why can't I give this place zero stars?"
            ],
            "text/plain": [
              "<IPython.core.display.HTML object>"
            ]
          },
          "metadata": {
            "tags": []
          }
        },
        {
          "output_type": "stream",
          "text": [
            "[Succeeded / Failed / Total] 18 / 1 / 19:  76%|███████▌  | 19/25 [04:22<01:22, 13.79s/it]"
          ],
          "name": "stderr"
        },
        {
          "output_type": "display_data",
          "data": {
            "text/html": [
              "<font color = green>2 (100%)</font> --> <font color = red>1 (93%)</font><br>I fell in <font color = green>love</font> with this place as soon as we pulled up and saw the lights strung up and  oldies coming from the speakers! \\n\\nI tried the banana cream pie hard ice cream, their scoops are very <font color = green>generous</font>!! \\n\\nMy bf got the peach cobbler hard ice cream and that was to die for! We got 4 servings of ice cream for $10, which nowadays is a steal IMO! :) \\n\\nI'll <font color = green>definitely</font> be heading back with my coworkers this week!<br>I fell in <font color = red>luv</font> with this place as soon as we pulled up and saw the lights strung up and  oldies coming from the speakers! \\n\\nI tried the banana cream pie hard ice cream, their scoops are very <font color = red>unselfish</font>!! \\n\\nMy bf got the peach cobbler hard ice cream and that was to die for! We got 4 servings of ice cream for $10, which nowadays is a steal IMO! :) \\n\\nI'll <font color = red>vehemently</font> be heading back with my coworkers this week!"
            ],
            "text/plain": [
              "<IPython.core.display.HTML object>"
            ]
          },
          "metadata": {
            "tags": []
          }
        },
        {
          "output_type": "stream",
          "text": [
            "[Succeeded / Failed / Total] 19 / 1 / 20:  80%|████████  | 20/25 [04:25<01:06, 13.29s/it]"
          ],
          "name": "stderr"
        },
        {
          "output_type": "display_data",
          "data": {
            "text/html": [
              "<font color = green>2 (100%)</font> --> <font color = red>1 (53%)</font><br><font color = green>This</font> is by far, the <font color = green>BEST</font> soft <font color = green>serve</font> <font color = green>ice</font> <font color = green>cream</font> <font color = green>place</font> in <font color = green>southwestern</font> PA. The \\\"\"flavor of the week\\\"\" is always interesting-and <font color = green>tasty</font>! Though, I am somewhat disappointed that they've switched to a lower grade ice milk, for their vanilla and chocolate offerings. I don't know if this is a matter of cutting corners, or if the better stuff simply isn't available any longer. <font color = green>Either</font> way, this <font color = green>place</font> is still <font color = green>leaps</font> and bounds ahead of DQ, Tastee Freeze, etc. It's definitely <font color = green>worth</font> the trip. It's mostly street parking, though they do have about 3-4 parking spaces off to the side. Serving sizes are huge! The small cone here, is the same size as a DQ large. And the large is SO big, they can't fit it through the window-they hand it out the side door.\\n\\nIf you want a real \\\"\"Kodak moment\\\"\"-order a large cone for the kids, and keep the camera, and wet wipes handy!<br><font color = red>These</font> is by far, the <font color = red>ALRIGHT</font> soft <font color = red>respond</font> <font color = red>snow</font> <font color = red>chocolate</font> <font color = red>venue</font> in <font color = red>southerly</font> PA. The \\\"\"flavor of the week\\\"\" is always interesting-and <font color = red>fleshy</font>! Though, I am somewhat disappointed that they've switched to a lower grade ice milk, for their vanilla and chocolate offerings. I don't know if this is a matter of cutting corners, or if the better stuff simply isn't available any longer. <font color = red>No</font> way, this <font color = red>stead</font> is still <font color = red>skip</font> and bounds ahead of DQ, Tastee Freeze, etc. It's definitely <font color = red>worthwhile</font> the trip. It's mostly street parking, though they do have about 3-4 parking spaces off to the side. Serving sizes are huge! The small cone here, is the same size as a DQ large. And the large is SO big, they can't fit it through the window-they hand it out the side door.\\n\\nIf you want a real \\\"\"Kodak moment\\\"\"-order a large cone for the kids, and keep the camera, and wet wipes handy!"
            ],
            "text/plain": [
              "<IPython.core.display.HTML object>"
            ]
          },
          "metadata": {
            "tags": []
          }
        },
        {
          "output_type": "stream",
          "text": [
            "[Succeeded / Failed / Total] 20 / 1 / 21:  84%|████████▍ | 21/25 [04:37<00:52, 13.19s/it]"
          ],
          "name": "stderr"
        },
        {
          "output_type": "display_data",
          "data": {
            "text/html": [
              "<font color = green>2 (100%)</font> --> <font color = red>1 (70%)</font><br><font color = green>This</font> is my go-to distributer. They have a <font color = green>great</font> selection and <font color = green>lots</font> of hard to find brews. I haven't noticed that it's any more expensive than going elsewhere but honestly if I don't buy here then I'm buying six packs which as we all <font color = green>know</font> are a huuugggge rip off. <font color = green>So</font> any time I have a case of something I <font color = green>love</font> I feel like I'm getting a bargain. The cold selection <font color = green>does</font> suck <font color = green>so</font> I try to plan ahead and have what I need already cold. Staff here are all very helpful- and will have recommendations if you <font color = green>ask</font>.<br><font color = red>That</font> is my go-to distributer. They have a <font color = red>whopping</font> selection and <font color = red>afar</font> of hard to find brews. I haven't noticed that it's any more expensive than going elsewhere but honestly if I don't buy here then I'm buying six packs which as we all <font color = red>acknowledge</font> are a huuugggge rip off. <font color = red>Unless</font> any time I have a case of something I <font color = red>enjoy</font> I feel like I'm getting a bargain. The cold selection <font color = red>got</font> suck <font color = red>additionally</font> I try to plan ahead and have what I need already cold. Staff here are all very helpful- and will have recommendations if you <font color = red>pose</font>."
            ],
            "text/plain": [
              "<IPython.core.display.HTML object>"
            ]
          },
          "metadata": {
            "tags": []
          }
        },
        {
          "output_type": "stream",
          "text": [
            "[Succeeded / Failed / Total] 21 / 1 / 22:  88%|████████▊ | 22/25 [04:45<00:38, 12.98s/it]"
          ],
          "name": "stderr"
        },
        {
          "output_type": "display_data",
          "data": {
            "text/html": [
              "<font color = green>2 (100%)</font> --> <font color = red>1 (94%)</font><br>Love this beer distributor.  They always <font color = green>have</font> what I'm looking for. The workers are <font color = green>extremely</font> <font color = green>nice</font> and always willing to help. Best one I've <font color = green>seen</font> by <font color = green>far</font>.<br>Love this beer distributor.  They always <font color = red>hectare</font> what I'm looking for. The workers are <font color = red>horribly</font> <font color = red>gentil</font> and always willing to help. Best one I've <font color = red>sawthe</font> by <font color = red>sharply</font>."
            ],
            "text/plain": [
              "<IPython.core.display.HTML object>"
            ]
          },
          "metadata": {
            "tags": []
          }
        },
        {
          "output_type": "stream",
          "text": [
            "[Succeeded / Failed / Total] 22 / 1 / 23:  92%|█████████▏| 23/25 [04:50<00:25, 12.64s/it]"
          ],
          "name": "stderr"
        },
        {
          "output_type": "display_data",
          "data": {
            "text/html": [
              "<font color = red>1 (100%)</font> --> <font color = green>2 (78%)</font><br><font color = red>Went</font> here with a <font color = red>gift</font> <font color = red>card</font> from the <font color = red>restaurant</font> <font color = red>week</font> <font color = red>photo</font> <font color = red>competition</font>. \\n\\nWe were one of two tables there and a <font color = red>bunch</font> of <font color = red>staff</font> <font color = red>showing</font> up during the <font color = red>meal</font>. \\n\\nOur <font color = red>waitress</font> was <font color = red>good</font>, but that couldn't <font color = red>save</font> the <font color = red>food</font>.\\n\\nThe <font color = red>meal</font> started out with some what I <font color = red>guess</font> used to <font color = red>be</font> foccacia.  I say used to be because it no longer represented anything other than long pieces of brick or bark very stale and <font color = red>tasteless</font>.\\n\\nWe ordered the vegetable board which was probably the best thing we ordered with light and bright vegetables perfectly cooked and paired with two delicious sauces. \\n\\nThen we <font color = red>ordered</font> the octopus which was fine, but very <font color = red>cold</font> and the octopus <font color = red>had</font> <font color = red>little</font> to no <font color = red>flavor</font>, being overwhelmed by the citrus in the dish. \\n\\nThe tuscan wings were ok, but they were really ordered for my husband who seemed to enjoy them. \\n\\nFinally the diver scallops.  <font color = red>This</font> dish was indeible.  The scallops were very overcooked and the pea puree was so minty I was unable to eat it. We sent it back and they did take off half of the price (weren't expecting anything just didn't want to eat it). \\n\\nAfter that we decided against dessert and left.  I probably will not return.<br><font color = green>Toured</font> here with a <font color = green>knack</font> <font color = green>cards</font> from the <font color = green>banquets</font> <font color = green>weekend</font> <font color = green>panorama</font> <font color = green>competes</font>. \\n\\nWe were one of two tables there and a <font color = green>strips</font> of <font color = green>personnel</font> <font color = green>demonstrates</font> up during the <font color = green>banquet</font>. \\n\\nOur <font color = green>wench</font> was <font color = green>exemplary</font>, but that couldn't <font color = green>spare</font> the <font color = green>foodstuffs</font>.\\n\\nThe <font color = green>eating</font> started out with some what I <font color = green>reckon</font> used to <font color = green>fi</font> foccacia.  I say used to be because it no longer represented anything other than long pieces of brick or bark very stale and <font color = green>vacuous</font>.\\n\\nWe ordered the vegetable board which was probably the best thing we ordered with light and bright vegetables perfectly cooked and paired with two delicious sauces. \\n\\nThen we <font color = green>commanded</font> the octopus which was fine, but very <font color = green>chilled</font> and the octopus <font color = green>enjoys</font> <font color = green>low</font> to no <font color = green>stink</font>, being overwhelmed by the citrus in the dish. \\n\\nThe tuscan wings were ok, but they were really ordered for my husband who seemed to enjoy them. \\n\\nFinally the diver scallops.  <font color = green>These</font> dish was indeible.  The scallops were very overcooked and the pea puree was so minty I was unable to eat it. We sent it back and they did take off half of the price (weren't expecting anything just didn't want to eat it). \\n\\nAfter that we decided against dessert and left.  I probably will not return."
            ],
            "text/plain": [
              "<IPython.core.display.HTML object>"
            ]
          },
          "metadata": {
            "tags": []
          }
        },
        {
          "output_type": "stream",
          "text": [
            "[Succeeded / Failed / Total] 23 / 1 / 24:  96%|█████████▌| 24/25 [05:13<00:13, 13.08s/it]"
          ],
          "name": "stderr"
        },
        {
          "output_type": "display_data",
          "data": {
            "text/html": [
              "<font color = red>1 (100%)</font> --> <font color = green>2 (86%)</font><br>I went there today! The cut was <font color = red>terrible</font>! I have an <font color = red>awful</font> experience. They lady that cut my hair was nice but she wanted to leave early so she made a <font color = red>disaster</font> in my head!<br>I went there today! The cut was <font color = green>calamitous</font>! I have an <font color = green>monstrous</font> experience. They lady that cut my hair was nice but she wanted to leave early so she made a <font color = green>ravages</font> in my head!"
            ],
            "text/plain": [
              "<IPython.core.display.HTML object>"
            ]
          },
          "metadata": {
            "tags": []
          }
        },
        {
          "output_type": "stream",
          "text": [
            "[Succeeded / Failed / Total] 24 / 1 / 25: 100%|██████████| 25/25 [05:16<00:00, 12.67s/it]"
          ],
          "name": "stderr"
        },
        {
          "output_type": "stream",
          "text": [
            "+-------------------------------+--------+\n",
            "| Attack Results                |        |\n",
            "+-------------------------------+--------+\n",
            "| Number of successful attacks: | 24     |\n",
            "| Number of failed attacks:     | 1      |\n",
            "| Number of skipped attacks:    | 0      |\n",
            "| Original accuracy:            | 100.0% |\n",
            "| Accuracy under attack:        | 4.0%   |\n",
            "| Attack success rate:          | 96.0%  |\n",
            "| Average perturbed word %:     | 9.11%  |\n",
            "| Average num. words per input: | 133.36 |\n",
            "| Avg num queries:              | 480.92 |\n",
            "+-------------------------------+--------+"
          ],
          "name": "stdout"
        },
        {
          "output_type": "stream",
          "text": [
            "\n",
            "\u001b[34;1mtextattack\u001b[0m: Attack time: 316.8039469718933s\n"
          ],
          "name": "stderr"
        }
      ]
    },
    {
      "cell_type": "markdown",
      "metadata": {
        "id": "x5gJcbgVz4iK"
      },
      "source": [
        "# Attacking AlBERT-base-v2-IMDB model"
      ]
    },
    {
      "cell_type": "code",
      "metadata": {
        "colab": {
          "base_uri": "https://localhost:8080/",
          "height": 262,
          "referenced_widgets": [
            "e391c6df70e0445e96a2ca870d94a857",
            "b99db16f16b34beb9f7925316a594af0",
            "f78bbe9c6f134dcfbc311174c074da0e",
            "00c4ea7a3b424a97ac12acae2b568b00",
            "0b7abf69657f4e05b9062fdb3e518634",
            "4ff68bf7c4f64bae88755693f01d2d5c",
            "0410410af8a04c7091262eb77d512d2c",
            "0e2fe96087524ecc87d95e1ab3b0f478",
            "458dbcff17174552b9de7583fc771813",
            "3d17cdaba2d446ce8f014935ef8926e1",
            "7511d7d8cce34795aff98afe77e3a605",
            "d1d7a15ffaad4c599e8fd900fd135af5",
            "0b5019cdab5142faab4bcb227b90b297",
            "950961d79ba24170b922c10bfe340644",
            "b6d101b8c017446285b2f5b36695a867",
            "1e05e2615d164c1d9ad1a416cf21574f",
            "c2ef778e4f674bea991140ce68d797cf",
            "b018e3fc39e748f585346b5969924d24",
            "af9a100da05d4e39859748992b91ac59",
            "ba45ba7ee453475f83191a6f3d7911dc",
            "be959034bf144cc3b03680c57aab1d42",
            "ad6caf1874e3471a95882b2d8f0e1146",
            "d3f671af63eb4fccad097f9db1726e50",
            "b0a324b8dff9426c9c7b232d79e3857c",
            "a8fc5ea2af0a41c090799d3642984cdf",
            "ad5d3f22c8284d3cb18239a04026ea00",
            "11272e105efb43aabb7456bc4059f5d1",
            "20e01bb84d2c4432b7413e1f34119a07",
            "6678e9b25ba744de9ca9b48010a13489",
            "48835cca735247bf94e3e8cf7691e2f8",
            "a13a8dc9f30d4f02b15d0b67a801fb0d",
            "82bb4fcb9b5e40eda8e79f1e54beca71",
            "338b15d6c606472fa694ef6ccbdab44b",
            "27357b0451a9466688ad4eb76478b24c",
            "c21410fec4124546b9c0a0ec75c0314a",
            "63d77e7c20e24871bc99f86fd2cc6896",
            "9aecfae7fdb1483b917261e543885fda",
            "c77afa637f3942509a878f38e069536c",
            "cf5df3afdc5a48b8a4b664ddcc11f3fb",
            "2276e640fc89470989dfa41e88309a08"
          ]
        },
        "id": "7QU7zMlvjRwW",
        "outputId": "a6f741b1-1ef9-4431-ede8-a18774faf525"
      },
      "source": [
        "# Import the model\n",
        "import transformers\n",
        "from textattack.models.tokenizers import AutoTokenizer\n",
        "from textattack.models.wrappers import HuggingFaceModelWrapper\n",
        "\n",
        "model = transformers.AutoModelForSequenceClassification.from_pretrained(\"textattack/albert-base-v2-imdb\")\n",
        "tokenizer = AutoTokenizer(\"textattack/albert-base-v2-imdb\")\n",
        "# Change these\n",
        "\n",
        "model_wrapper = HuggingFaceModelWrapper(model, tokenizer)\n",
        "\n",
        "dataset = HuggingFaceDataset(\"imdb\", None, \"test\") # Change the dataset"
      ],
      "execution_count": 16,
      "outputs": [
        {
          "output_type": "display_data",
          "data": {
            "application/vnd.jupyter.widget-view+json": {
              "model_id": "e391c6df70e0445e96a2ca870d94a857",
              "version_minor": 0,
              "version_major": 2
            },
            "text/plain": [
              "HBox(children=(FloatProgress(value=0.0, description='Downloading', max=727.0, style=ProgressStyle(description_…"
            ]
          },
          "metadata": {
            "tags": []
          }
        },
        {
          "output_type": "stream",
          "text": [
            "\n"
          ],
          "name": "stdout"
        },
        {
          "output_type": "display_data",
          "data": {
            "application/vnd.jupyter.widget-view+json": {
              "model_id": "458dbcff17174552b9de7583fc771813",
              "version_minor": 0,
              "version_major": 2
            },
            "text/plain": [
              "HBox(children=(FloatProgress(value=0.0, description='Downloading', max=46747112.0, style=ProgressStyle(descrip…"
            ]
          },
          "metadata": {
            "tags": []
          }
        },
        {
          "output_type": "stream",
          "text": [
            "\n"
          ],
          "name": "stdout"
        },
        {
          "output_type": "display_data",
          "data": {
            "application/vnd.jupyter.widget-view+json": {
              "model_id": "c2ef778e4f674bea991140ce68d797cf",
              "version_minor": 0,
              "version_major": 2
            },
            "text/plain": [
              "HBox(children=(FloatProgress(value=0.0, description='Downloading', max=760289.0, style=ProgressStyle(descripti…"
            ]
          },
          "metadata": {
            "tags": []
          }
        },
        {
          "output_type": "stream",
          "text": [
            "\n"
          ],
          "name": "stdout"
        },
        {
          "output_type": "display_data",
          "data": {
            "application/vnd.jupyter.widget-view+json": {
              "model_id": "a8fc5ea2af0a41c090799d3642984cdf",
              "version_minor": 0,
              "version_major": 2
            },
            "text/plain": [
              "HBox(children=(FloatProgress(value=0.0, description='Downloading', max=156.0, style=ProgressStyle(description_…"
            ]
          },
          "metadata": {
            "tags": []
          }
        },
        {
          "output_type": "stream",
          "text": [
            "\n"
          ],
          "name": "stdout"
        },
        {
          "output_type": "display_data",
          "data": {
            "application/vnd.jupyter.widget-view+json": {
              "model_id": "338b15d6c606472fa694ef6ccbdab44b",
              "version_minor": 0,
              "version_major": 2
            },
            "text/plain": [
              "HBox(children=(FloatProgress(value=0.0, description='Downloading', max=25.0, style=ProgressStyle(description_w…"
            ]
          },
          "metadata": {
            "tags": []
          }
        },
        {
          "output_type": "stream",
          "text": [
            "\n"
          ],
          "name": "stdout"
        }
      ]
    },
    {
      "cell_type": "markdown",
      "metadata": {
        "id": "SXpru0G60Afy"
      },
      "source": [
        "## Attacking using our recipe:"
      ]
    },
    {
      "cell_type": "code",
      "metadata": {
        "colab": {
          "base_uri": "https://localhost:8080/",
          "height": 1000
        },
        "id": "ItouOy3cjs6c",
        "outputId": "87a4ad69-16b3-43da-c715-1143b7bc9932"
      },
      "source": [
        "from collections import deque\n",
        "\n",
        "import textattack\n",
        "import tqdm\n",
        "import time\n",
        "from IPython.display import display, HTML\n",
        "num_examples = 25\n",
        "num_remaining_attacks = num_examples\n",
        "pbar = tqdm.tqdm(total=num_remaining_attacks, smoothing=0)\n",
        "\n",
        "worklist = deque(range(0, num_examples))\n",
        "worklist_tail = worklist[-1]\n",
        "\n",
        "attack_log_manager = textattack.loggers.AttackLogManager()\n",
        "\n",
        "load_time = time.time()\n",
        "        \n",
        "num_results = 0\n",
        "num_failures = 0\n",
        "num_successes = 0\n",
        "for result in attack.attack_dataset(dataset, indices=worklist):\n",
        "    result_html_str = result.__str__(color_method=\"html\").replace(\"\\n\\n\", \"<br>\")\n",
        "    display(HTML(result_html_str))\n",
        "    attack_log_manager.log_result(result)\n",
        "            \n",
        "    if not isinstance(result, textattack.attack_results.SkippedAttackResult):\n",
        "        pbar.update(1)\n",
        "    else:\n",
        "        worklist_tail += 1\n",
        "        pbar.update(1)\n",
        "        worklist.append(worklist_tail)\n",
        "\n",
        "    num_results += 1\n",
        "\n",
        "    if (\n",
        "        type(result) == textattack.attack_results.SuccessfulAttackResult\n",
        "        or type(result) == textattack.attack_results.MaximizedAttackResult\n",
        "    ):\n",
        "        num_successes += 1\n",
        "                \n",
        "    if type(result) == textattack.attack_results.FailedAttackResult:\n",
        "        num_failures += 1\n",
        "    pbar.set_description(\n",
        "        \"[Succeeded / Failed / Total] {} / {} / {}\".format(\n",
        "            num_successes, num_failures, num_results\n",
        "        )\n",
        "    )\n",
        "\n",
        "pbar.close()\n",
        "\n",
        "attack_log_manager.enable_stdout()\n",
        "attack_log_manager.log_summary()\n",
        "attack_log_manager.flush()\n",
        "        \n",
        "textattack.shared.logger.info(f\"Attack time: {time.time() - load_time}s\")"
      ],
      "execution_count": 18,
      "outputs": [
        {
          "output_type": "stream",
          "text": [
            "\r  0%|          | 0/25 [00:00<?, ?it/s]"
          ],
          "name": "stderr"
        },
        {
          "output_type": "display_data",
          "data": {
            "text/html": [
              "<font color = green>Positive (100%)</font> --> <font color = red>Negative (99%)</font><br>I went and saw this movie last night after being coaxed to by a few friends of mine. I'll admit that I was reluctant to see it because from what I knew of Ashton Kutcher he was only able to do comedy. I was wrong. Kutcher played the character of Jake Fischer very well, and Kevin Costner played Ben Randall with such professionalism. The sign of a <font color = green>good</font> movie is that it can toy with our emotions. This one did exactly that. The entire theater (which was sold out) was overcome by laughter during the first half of the movie, and were moved to tears during the second half. While exiting the theater I not only saw many women in tears, but many full grown men as well, trying desperately not to let anyone see them crying. This movie was <font color = green>great</font>, and I suggest that you go see it before you judge.<br>I went and saw this movie last night after being coaxed to by a few friends of mine. I'll admit that I was reluctant to see it because from what I knew of Ashton Kutcher he was only able to do comedy. I was wrong. Kutcher played the character of Jake Fischer very well, and Kevin Costner played Ben Randall with such professionalism. The sign of a <font color = red>bad</font> movie is that it can toy with our emotions. This one did exactly that. The entire theater (which was sold out) was overcome by laughter during the first half of the movie, and were moved to tears during the second half. While exiting the theater I not only saw many women in tears, but many full grown men as well, trying desperately not to let anyone see them crying. This movie was <font color = red>greasy</font>, and I suggest that you go see it before you judge."
            ],
            "text/plain": [
              "<IPython.core.display.HTML object>"
            ]
          },
          "metadata": {
            "tags": []
          }
        },
        {
          "output_type": "stream",
          "text": [
            "[Succeeded / Failed / Total] 1 / 0 / 1:   4%|▍         | 1/25 [00:07<02:59,  7.46s/it]"
          ],
          "name": "stderr"
        },
        {
          "output_type": "display_data",
          "data": {
            "text/html": [
              "<font color = green>Positive (94%)</font> --> <font color = red>Negative (99%)</font><br>Actor turned director Bill Paxton follows up his promising debut, the Gothic-horror \"Frailty\", with this family friendly sports drama about the 1913 U.S. Open where a young American caddy rises from his humble background to play against his Bristish idol in what was dubbed as \"The Greatest Game Ever Played.\" I'm no fan of golf, and these scrappy underdog sports flicks are a dime a dozen (most recently done to grand effect with \"Miracle\" and \"Cinderella Man\"), but some how this film was <font color = green>enthralling</font> all the same.<br /><br />The film starts with some creative opening credits (imagine a Disneyfied version of the animated opening credits of HBO's \"Carnivale\" and \"Rome\"), but lumbers along slowly for its first by-the-numbers hour. Once the action moves to the U.S. Open things pick up very well. Paxton does a nice job and shows a knack for effective directorial flourishes (I loved the rain-soaked montage of the action on day two of the open) that propel the plot further or add some unexpected psychological depth to the proceedings. There's some compelling character development when the British Harry Vardon is haunted by images of the aristocrats in black suits and top hats who destroyed his family cottage as a child to make way for a golf course. He also does a good job of visually depicting what goes on in the players' heads under pressure. Golf, a painfully boring sport, is brought vividly alive here. Credit should also be given the set designers and costume department for creating an engaging period-piece atmosphere of London and Boston at the beginning of the twentieth century.<br /><br />You know how this is going to end not only because it's based on a true story but also because films in this genre follow the same template over and over, but Paxton puts on a better than average show and perhaps indicates more talent behind the camera than he ever had in front of it. Despite the formulaic nature, this is a nice and easy film to root for that deserves to find an audience.<br>Actor turned director Bill Paxton follows up his promising debut, the Gothic-horror \"Frailty\", with this family friendly sports drama about the 1913 U.S. Open where a young American caddy rises from his humble background to play against his Bristish idol in what was dubbed as \"The Greatest Game Ever Played.\" I'm no fan of golf, and these scrappy underdog sports flicks are a dime a dozen (most recently done to grand effect with \"Miracle\" and \"Cinderella Man\"), but some how this film was <font color = red>appalling</font> all the same.<br /><br />The film starts with some creative opening credits (imagine a Disneyfied version of the animated opening credits of HBO's \"Carnivale\" and \"Rome\"), but lumbers along slowly for its first by-the-numbers hour. Once the action moves to the U.S. Open things pick up very well. Paxton does a nice job and shows a knack for effective directorial flourishes (I loved the rain-soaked montage of the action on day two of the open) that propel the plot further or add some unexpected psychological depth to the proceedings. There's some compelling character development when the British Harry Vardon is haunted by images of the aristocrats in black suits and top hats who destroyed his family cottage as a child to make way for a golf course. He also does a good job of visually depicting what goes on in the players' heads under pressure. Golf, a painfully boring sport, is brought vividly alive here. Credit should also be given the set designers and costume department for creating an engaging period-piece atmosphere of London and Boston at the beginning of the twentieth century.<br /><br />You know how this is going to end not only because it's based on a true story but also because films in this genre follow the same template over and over, but Paxton puts on a better than average show and perhaps indicates more talent behind the camera than he ever had in front of it. Despite the formulaic nature, this is a nice and easy film to root for that deserves to find an audience."
            ],
            "text/plain": [
              "<IPython.core.display.HTML object>"
            ]
          },
          "metadata": {
            "tags": []
          }
        },
        {
          "output_type": "stream",
          "text": [
            "[Succeeded / Failed / Total] 2 / 0 / 2:   8%|▊         | 2/25 [00:26<05:06, 13.31s/it]"
          ],
          "name": "stderr"
        },
        {
          "output_type": "display_data",
          "data": {
            "text/html": [
              "<font color = green>Positive (100%)</font> --> <font color = red>Negative (83%)</font><br>As a recreational golfer with some knowledge of the sport's history, I was <font color = green>pleased</font> with Disney's sensitivity to the issues of class in golf in the early twentieth century. The movie depicted well the psychological battles that Harry <font color = green>Vardon</font> fought within himself, from his childhood trauma of being evicted to his own inability to break that glass ceiling that prevents him from being accepted as an equal in English golf society. Likewise, the young Ouimet goes through his own class struggles, being a mere caddie in the eyes of the upper crust Americans who scoff at his attempts to rise above his standing. <br /><br />What I <font color = green>loved</font> best, however, is how this theme of class is manifested in the characters of Ouimet's parents. His father is a working-class drone who sees the value of hard work but is intimidated by the upper class; his mother, however, recognizes her <font color = green>son's</font> talent and desire and encourages him to pursue his dream of competing against those who think he is inferior.<br /><br />Finally, the <font color = green>golf</font> scenes are <font color = green>well</font> photographed. Although the course used in the movie was not the actual site of the historical tournament, the little liberties <font color = green>taken</font> by Disney do not detract from the beauty of the film. There's one little Disney moment at the pool table; otherwise, the viewer does not really think Disney. The ending, as in \"Miracle,\" is not some Disney creation, but one that only human history could have written.<br>As a recreational golfer with some knowledge of the sport's history, I was <font color = red>leased</font> with Disney's sensitivity to the issues of class in golf in the early twentieth century. The movie depicted well the psychological battles that Harry <font color = red>Pardon</font> fought within himself, from his childhood trauma of being evicted to his own inability to break that glass ceiling that prevents him from being accepted as an equal in English golf society. Likewise, the young Ouimet goes through his own class struggles, being a mere caddie in the eyes of the upper crust Americans who scoff at his attempts to rise above his standing. <br /><br />What I <font color = red>liked</font> best, however, is how this theme of class is manifested in the characters of Ouimet's parents. His father is a working-class drone who sees the value of hard work but is intimidated by the upper class; his mother, however, recognizes her <font color = red>sonny</font> talent and desire and encourages him to pursue his dream of competing against those who think he is inferior.<br /><br />Finally, the <font color = red>volleyball</font> scenes are <font color = red>such</font> photographed. Although the course used in the movie was not the actual site of the historical tournament, the little liberties <font color = red>carried</font> by Disney do not detract from the beauty of the film. There's one little Disney moment at the pool table; otherwise, the viewer does not really think Disney. The ending, as in \"Miracle,\" is not some Disney creation, but one that only human history could have written."
            ],
            "text/plain": [
              "<IPython.core.display.HTML object>"
            ]
          },
          "metadata": {
            "tags": []
          }
        },
        {
          "output_type": "stream",
          "text": [
            "[Succeeded / Failed / Total] 3 / 0 / 3:  12%|█▏        | 3/25 [00:39<04:53, 13.33s/it]"
          ],
          "name": "stderr"
        },
        {
          "output_type": "display_data",
          "data": {
            "text/html": [
              "<font color = green>Positive (100%)</font> --> <font color = red>Negative (64%)</font><br>I saw this film in a sneak preview, and it is delightful. The cinematography is unusually creative, the acting is good, and the story is <font color = green>fabulous</font>. <font color = green>If</font> this movie does not do <font color = green>well</font>, it won't be because it doesn't deserve to. Before this film, I didn't realize how <font color = green>charming</font> Shia Lebouf could be. He does a marvelous, self-contained, job as the lead. There's something incredibly sweet about him, and it makes the movie even better. The other actors do a <font color = green>good</font> job as well, and the film contains moments of really high <font color = green>suspense</font>, more than one might expect from a movie about golf. Sports movies are a dime a <font color = green>dozen</font>, but this one stands out. <br /><br />This is one I'd recommend to anyone.<br>I saw this film in a sneak preview, and it is delightful. The cinematography is unusually creative, the acting is good, and the story is <font color = red>nebulous</font>. <font color = red>Sun</font> this movie does not do <font color = red>such</font>, it won't be because it doesn't deserve to. Before this film, I didn't realize how <font color = red>harming</font> Shia Lebouf could be. He does a marvelous, self-contained, job as the lead. There's something incredibly sweet about him, and it makes the movie even better. The other actors do a <font color = red>bad</font> job as well, and the film contains moments of really high <font color = red>suspension</font>, more than one might expect from a movie about golf. Sports movies are a dime a <font color = red>hundred</font>, but this one stands out. <br /><br />This is one I'd recommend to anyone."
            ],
            "text/plain": [
              "<IPython.core.display.HTML object>"
            ]
          },
          "metadata": {
            "tags": []
          }
        },
        {
          "output_type": "stream",
          "text": [
            "[Succeeded / Failed / Total] 4 / 0 / 4:  16%|█▌        | 4/25 [00:46<04:03, 11.58s/it]"
          ],
          "name": "stderr"
        },
        {
          "output_type": "display_data",
          "data": {
            "text/html": [
              "<font color = green>Positive (100%)</font> --> <font color = red>Negative (72%)</font><br>Bill Paxton has taken the true story of the 1913 US golf open and made a film that is about much more than an extra-ordinary game of golf. <font color = green>The</font> film also deals <font color = green>directly</font> with the class tensions of the early twentieth century and <font color = green>touches</font> upon the profound anti-Catholic prejudices of both the British and <font color = green>American</font> establishments. But at <font color = green>heart</font> the film is about that perennial favourite of <font color = green>triumph</font> against the <font color = green>odds</font>.<br /><br />The acting is <font color = green>exemplary</font> throughout. Stephen Dillane is excellent as <font color = green>usual</font>, but the revelation of the movie is Shia LaBoeuf who delivers a disciplined, dignified and highly sympathetic performance as a working class Franco-Irish kid fighting his way through the prejudices of the New England <font color = green>WASP</font> <font color = green>establishment</font>. For those who are only familiar with his slap-stick performances in \"Even Stevens\" this demonstration of his maturity is a delightful surprise. And Josh Flitter as the ten year <font color = green>old</font> caddy threatens to steal every scene in which he appears.<br /><br />A old <font color = green>fashioned</font> movie in the best sense of the <font color = green>word</font>: fine <font color = green>acting</font>, <font color = green>clear</font> <font color = green>directing</font> and a <font color = green>great</font> <font color = green>story</font> that grips to the end - the final scene an affectionate nod to Casablanca is just one of the many pleasures that fill a great movie.<br>Bill Paxton has taken the true story of the 1913 US golf open and made a film that is about much more than an extra-ordinary game of golf. <font color = red>Gauche</font> film also deals <font color = red>correctly</font> with the class tensions of the early twentieth century and <font color = red>couches</font> upon the profound anti-Catholic prejudices of both the British and <font color = red>Rican</font> establishments. But at <font color = red>hemorrhage</font> the film is about that perennial favourite of <font color = red>triumvirs</font> against the <font color = red>bets</font>.<br /><br />The acting is <font color = red>exemplar</font> throughout. Stephen Dillane is excellent as <font color = red>inconvenient</font>, but the revelation of the movie is Shia LaBoeuf who delivers a disciplined, dignified and highly sympathetic performance as a working class Franco-Irish kid fighting his way through the prejudices of the New England <font color = red>WOUNDS</font> <font color = red>abolishment</font>. For those who are only familiar with his slap-stick performances in \"Even Stevens\" this demonstration of his maturity is a delightful surprise. And Josh Flitter as the ten year <font color = red>gutnish</font> caddy threatens to steal every scene in which he appears.<br /><br />A old <font color = red>cushioned</font> movie in the best sense of the <font color = red>meaning</font>: fine <font color = red>directing</font>, <font color = red>regrettable</font> <font color = red>direction</font> and a <font color = red>greasy</font> <font color = red>novel</font> that grips to the end - the final scene an affectionate nod to Casablanca is just one of the many pleasures that fill a great movie."
            ],
            "text/plain": [
              "<IPython.core.display.HTML object>"
            ]
          },
          "metadata": {
            "tags": []
          }
        },
        {
          "output_type": "stream",
          "text": [
            "[Succeeded / Failed / Total] 5 / 0 / 5:  20%|██        | 5/25 [01:00<04:01, 12.07s/it]"
          ],
          "name": "stderr"
        },
        {
          "output_type": "display_data",
          "data": {
            "text/html": [
              "<font color = green>Positive (100%)</font> --> <font color = red>[FAILED]</font><br>I saw this film on September 1st, 2005 in Indianapolis. I am one of the judges for the Heartland Film Festival that screens films for their Truly Moving Picture Award. A Truly Moving Picture \"...explores the human journey by artistically expressing hope and respect for the positive values of life.\" Heartland gave that award to this film.<br /><br />This is a story of golf in the early part of the 20th century. At that time, it was the game of upper class and rich \"gentlemen\", and working people could only participate by being caddies at country clubs. With this backdrop, this based-on-a-true-story unfolds with a young, working class boy who takes on the golf establishment and the greatest golfer in the world, Harry Vardon.<br /><br />And the story is inspirational. Against all odds, Francis Ouimet (played by Shia LaBeouf of \"Holes\") gets to compete against the greatest golfers of the U.S. and Great Britain at the 1913 U.S. Open. Francis is ill-prepared, and has a child for a caddy. (The caddy is hilarious and motivational and steals every scene he appears in.) But despite these handicaps, Francis displays courage, spirit, heroism, and humility at this world class event.<br /><br />And, we learn a lot about the early years of golf; for example, the use of small wooden clubs, the layout of the short holes, the manual scoreboard, the golfers swinging with pipes in their mouths, the terrible conditions of the greens and fairways, and the play not being canceled even in torrential rain.<br /><br />This film has stunning cinematography and art direction and editing. And with no big movie stars, the story is somehow more believable.<br /><br />This adds to the inventory of great sports movies in the vein of \"Miracle\" and \"Remember the Titans.\"<br /><br />FYI - There is a Truly Moving Pictures web site where there is a listing of past winners going back 70 years."
            ],
            "text/plain": [
              "<IPython.core.display.HTML object>"
            ]
          },
          "metadata": {
            "tags": []
          }
        },
        {
          "output_type": "stream",
          "text": [
            "[Succeeded / Failed / Total] 5 / 1 / 6:  24%|██▍       | 6/25 [01:29<04:42, 14.89s/it]"
          ],
          "name": "stderr"
        },
        {
          "output_type": "display_data",
          "data": {
            "text/html": [
              "<font color = green>Positive (97%)</font> --> <font color = red>Negative (77%)</font><br><font color = green>Maybe</font> I'm reading into this too much, but I wonder how much of a hand Hongsheng had in developing the film. I mean, when a story is told casting the main character as himself, I would think he would be a heavy hand in writing, documenting, etc. and that would make it a little biased.<br /><br />But...his family and friends also may have had a hand in getting the actual details about Hongsheng's life. I think the best <font color = green>view</font> would have been told from Hongsheng's family and friends' perspectives. They saw his transformation and weren't so messed up on drugs that they remember everything.<br /><br />As for Hongsheng being full of himself, the consistencies of the Jesus Christ pose make him appear as a martyr who sacrificed his life (metaphorically, of course, he's obviously still alive as he was cast as himself) for his family's happiness. Huh?<br /><br />The viewer sees him at his lowest points while still maintaining a superiority complex. He lies on the grass coming down from (during?) a high by himself and with his father, he contemplates life and has visions of dragons at his window, he celebrates his freedom on a bicycle all while outstretching his arms, his head cocked to the side.<br /><br />It's fabulous that he's off of drugs now, but he's no hero. He went from a high point in his career in acting to his most vulnerable point while on drugs to come back somewhere in the middle.<br /><br />This same device is used in Ted Demme's \"Blow\" where the audience empathizes with the main character who is shown as a flawed hero.<br /><br />However, \"Quitting\" (\"Zuotian\") is a film that is recommended, mostly for its haunting soundtrack, superb acting, and landscapes. But, the best part is the feeling that one gets when what we presume to be the house of Jia Hongsheng is actually a stage setting for a play. It makes the viewer feel as if Hongsheng's life was merely a play told in many difficult parts.<br><font color = red>Farthing</font> I'm reading into this too much, but I wonder how much of a hand Hongsheng had in developing the film. I mean, when a story is told casting the main character as himself, I would think he would be a heavy hand in writing, documenting, etc. and that would make it a little biased.<br /><br />But...his family and friends also may have had a hand in getting the actual details about Hongsheng's life. I think the best <font color = red>misinterpretation</font> would have been told from Hongsheng's family and friends' perspectives. They saw his transformation and weren't so messed up on drugs that they remember everything.<br /><br />As for Hongsheng being full of himself, the consistencies of the Jesus Christ pose make him appear as a martyr who sacrificed his life (metaphorically, of course, he's obviously still alive as he was cast as himself) for his family's happiness. Huh?<br /><br />The viewer sees him at his lowest points while still maintaining a superiority complex. He lies on the grass coming down from (during?) a high by himself and with his father, he contemplates life and has visions of dragons at his window, he celebrates his freedom on a bicycle all while outstretching his arms, his head cocked to the side.<br /><br />It's fabulous that he's off of drugs now, but he's no hero. He went from a high point in his career in acting to his most vulnerable point while on drugs to come back somewhere in the middle.<br /><br />This same device is used in Ted Demme's \"Blow\" where the audience empathizes with the main character who is shown as a flawed hero.<br /><br />However, \"Quitting\" (\"Zuotian\") is a film that is recommended, mostly for its haunting soundtrack, superb acting, and landscapes. But, the best part is the feeling that one gets when what we presume to be the house of Jia Hongsheng is actually a stage setting for a play. It makes the viewer feel as if Hongsheng's life was merely a play told in many difficult parts."
            ],
            "text/plain": [
              "<IPython.core.display.HTML object>"
            ]
          },
          "metadata": {
            "tags": []
          }
        },
        {
          "output_type": "stream",
          "text": [
            "[Succeeded / Failed / Total] 6 / 1 / 7:  28%|██▊       | 7/25 [01:48<04:38, 15.47s/it]"
          ],
          "name": "stderr"
        },
        {
          "output_type": "display_data",
          "data": {
            "text/html": [
              "<font color = green>Positive (97%)</font> --> <font color = red>Negative (60%)</font><br>I felt this film did have <font color = green>many</font> good qualities. The cinematography was certainly different exposing the stage aspect of the set and story. The original characters as actors was certainly an achievement and I felt most played quite convincingly, of course they are playing themselves, but definitely unique. The cultural aspects may leave many disappointed as a familiarity with the Chinese and Oriental culture will answer a lot of questions regarding parent/child relationships and the stigma that goes with any drug use. I found the Jia Hongsheng story interesting. On a down note, the story is in Beijing and some of the <font color = green>fashion</font> and music reek of early 90s even though this was made in 2001, so it's really cheesy sometimes (the Beatles crap, etc). <font color = green>Whatever</font>, not a top ten or twenty but if it's on the television, check it out.<br>I felt this film did have <font color = red>some</font> good qualities. The cinematography was certainly different exposing the stage aspect of the set and story. The original characters as actors was certainly an achievement and I felt most played quite convincingly, of course they are playing themselves, but definitely unique. The cultural aspects may leave many disappointed as a familiarity with the Chinese and Oriental culture will answer a lot of questions regarding parent/child relationships and the stigma that goes with any drug use. I found the Jia Hongsheng story interesting. On a down note, the story is in Beijing and some of the <font color = red>manner</font> and music reek of early 90s even though this was made in 2001, so it's really cheesy sometimes (the Beatles crap, etc). <font color = red>Whosoever</font>, not a top ten or twenty but if it's on the television, check it out."
            ],
            "text/plain": [
              "<IPython.core.display.HTML object>"
            ]
          },
          "metadata": {
            "tags": []
          }
        },
        {
          "output_type": "stream",
          "text": [
            "[Succeeded / Failed / Total] 7 / 1 / 8:  32%|███▏      | 8/25 [01:55<04:05, 14.47s/it]"
          ],
          "name": "stderr"
        },
        {
          "output_type": "display_data",
          "data": {
            "text/html": [
              "<font color = green>Positive (100%)</font> --> <font color = red>Negative (91%)</font><br>This movie is amazing because the fact that the <font color = green>real</font> people portray themselves and their real life experience and do such a good job it's like they're almost living the past over again. Jia Hongsheng plays himself an actor who quit everything except music and drugs struggling with depression and searching for the meaning of life while being angry at everyone especially the people who care for him most. There's moments in the movie that will make you wanna cry because the family especially the <font color = green>father</font> did such a good job. <font color = green>However</font>, this movie is not for everyone. Many people who suffer from depression will understand Hongsheng's problem and why he does the things he does for example keep himself shut in a dark room or go for walks or bike rides by himself. <font color = green>Others</font> might <font color = green>see</font> the movie as boring because it's just so <font color = green>real</font> that its almost like a <font color = green>documentary</font>. <font color = green>Overall</font> this movie is <font color = green>great</font> and <font color = green>Hongsheng</font> deserved an Oscar for this movie so did his Dad.<br>This movie is amazing because the fact that the <font color = red>unimaginable</font> people portray themselves and their real life experience and do such a good job it's like they're almost living the past over again. Jia Hongsheng plays himself an actor who quit everything except music and drugs struggling with depression and searching for the meaning of life while being angry at everyone especially the people who care for him most. There's moments in the movie that will make you wanna cry because the family especially the <font color = red>mother</font> did such a good job. <font color = red>Indeed</font>, this movie is not for everyone. Many people who suffer from depression will understand Hongsheng's problem and why he does the things he does for example keep himself shut in a dark room or go for walks or bike rides by himself. <font color = red>Withers</font> might <font color = red>disambiguation</font> the movie as boring because it's just so <font color = red>unimaginable</font> that its almost like a <font color = red>mockumentary</font>. <font color = red>Adderall</font> this movie is <font color = red>greasy</font> and <font color = red>Zhongzheng</font> deserved an Oscar for this movie so did his Dad."
            ],
            "text/plain": [
              "<IPython.core.display.HTML object>"
            ]
          },
          "metadata": {
            "tags": []
          }
        },
        {
          "output_type": "stream",
          "text": [
            "[Succeeded / Failed / Total] 8 / 1 / 9:  36%|███▌      | 9/25 [02:04<03:42, 13.89s/it]"
          ],
          "name": "stderr"
        },
        {
          "output_type": "display_data",
          "data": {
            "text/html": [
              "<font color = green>Positive (100%)</font> --> <font color = red>Negative (52%)</font><br>\"Quitting\" <font color = green>may</font> be as much about exiting a <font color = green>pre-ordained</font> identity as about drug withdrawal. As a rural guy coming to Beijing, <font color = green>class</font> and success must have struck this <font color = green>young</font> <font color = green>artist</font> <font color = green>face</font> on as an appeal to separate from his <font color = green>roots</font> and far surpass his <font color = green>peasant</font> parents' acting <font color = green>success</font>. Troubles arise, however, when the <font color = green>new</font> man is too <font color = green>new</font>, when it demands too <font color = green>big</font> a departure from <font color = green>family</font>, history, nature, and personal identity. The ensuing splits, and confusion between the imaginary and the <font color = green>real</font> and the dissonance between the ordinary and the heroic are the stuff of a gut check on the <font color = green>one</font> hand or a <font color = green>complete</font> escape from self on the other. Hongshen slips into the latter and his long and lonely road <font color = green>back</font> to self can be grim.<br /><br />But what an <font color = green>exceptionally</font> convincing particularity, <font color = green>honesty</font>, and sensuousness director Zhang Yang, and his actors, bring to this journey. <font color = green>No</font> clichés, no <font color = green>stereotypes</font>, no <font color = green>rigid</font> gender <font color = green>roles</font>, no requisite <font color = green>sex</font>, romance or <font color = green>violence</font> <font color = green>scenes</font>, no <font color = green>requisite</font> street language and, to <font color = green>boot</font>, no <font color = green>assumed</font> money to float character <font color = green>acts</font> and whims. <br /><br />Hongshen Jia is in his mid-twenties. He's a talented actor, impressionable, vain, idealistic, and perhaps emotionally starved. The perfect recipe for his enablers. Soon he's the \"cool\" actor, idolized by youth. \"He was hot in the early nineties.\" \"He always had to be the most fashionable.\" He needs extremes, and goes in for heavy metal, adopts earrings and a scarf. His acting means the arts, friends--and roles, But not the kind that offer any personal challenge or input. And his self-criticism, dulled by the immediacy of success, opens the doors to an irrational self-doubt, self-hatred-- \"I didn't know how to act\" \"I felt like a phony\"--and to readily available drugs to counter them. He says \"I had to get high to do what director wanted.\" So, his shallow identity as an actor becomes, via drugs, an escape from identity. <br /><br />Hongshen's disengagement from drugs and his false life is very gradual, intermittent--and doggedly his own. Solitude, space, meditative thinking, speech refusal, replace therapy. The abstract is out. And a great deal of his change occurs outdoors---not in idealized locations but mainly on green patches under the freeways, bridges, and high-rises of Beijing. The physicality is almost romantic, but is not. The bike rides to Ritan Park, the long spontaneous walks, the drenching sun and rain, grassy picnics, the sky patterns and kites that absorb his musing are very specific. He drifts in order to arrive, all the while picking up cues to a more real and realistic identity. \"I started to open up\" he says of this period in retrospect. And the contact seems to start with his lanky body which projects a kind of dancer's positioning (clumsy, graceful, humorous, telling) in a current circumstance. If mind or spirit is lacking, his legs can compel him to walk all night. <br /><br />Central to his comeback is the rejection of set roles. To punctuate his end to acting and his determination to a new identity, he smashes his videos and TV, and bangs his head till bloody against his \"John Lennon Forever\" poster. He has let down his iconic anti-establishment artist---but he's the only viable guide he knows. He even imagines himself as John's son (Yoko Ono), and adopts his \"Mother Mary\" as an intercessor in his \"hour of darkness\" and \"time of trouble.\" (the wrenching, shaking pain in the park--hallucinatory and skitzoid ordeals) \"Music is so much more real than acting\" he says. And speaks of Lennon's influence as \"showing me a new way.\" In the mental institute, the life-saving apples (resistance, nourishment) reflect Lennon's presence, as does Hongshen's need to re-hang his hero's poster in his redecorated room.<br /><br />If Lennon's influence is spiriting, Hongshen's father's influence is grounding. Although father and son are both actors and users (drugs and drink), it is Fegsen's differences from his son that underwrites his change. For the father is more secure in himself: he accepts that he's Chinese, a peasant in a line of peasants, a rural theater director. And he exercises control over both his habit and his emotions. It's this recognizable identity that drives Hongshen to treat him like a sounding board, sometimes with anger and rage, sometimes with humor (the blue jeans, Beatles) and passivity. In his most crazed, and violent exchange with his father in which he accuses him of being a liar, and a fake, he exposes more of himself than his father: \"all the acts I acted before were bullshit... life is bullshit.\" And to Hongshen's emphatic \"you are NOT my father,\" he softly replies, \"why can't a peasant be your father?\" <br /><br />Under these two teachers and with much additional help from his mother, sister, friends, inmates at the rehab inst., he makes some tangible connection to a real (not whole) self. As the long term drug effects recede, so does his old identity. Indebtedness replaces pride, trust distrust. Integrity banishes his black cloud. All his edges soften. \"You are just a human being\" he repeats endlessly after being released from the strap-down incurred for refusing medicine. Back home, lard peasant soap is fine with him now. And his once \"rare and true friendships\" begin again as is so evident in the back to poignant back-to-back fence scene with his musician buddy. Hongshen says of this movie: \"it's a good chance to think about my life.\" And I might add, become a New Actor, one bound to art and life. Like Lennon, he has gained success without a loss of identity.<br>\"Quitting\" <font color = red>should</font> be as much about exiting a <font color = red>preordained</font> identity as about drug withdrawal. As a rural guy coming to Beijing, <font color = red>clasp</font> and success must have struck this <font color = red>teenager</font> <font color = red>composer</font> <font color = red>eyes</font> on as an appeal to separate from his <font color = red>origins</font> and far surpass his <font color = red>pheasant</font> parents' acting <font color = red>popularity</font>. Troubles arise, however, when the <font color = red>york</font> man is too <font color = red>york</font>, when it demands too <font color = red>bang</font> a departure from <font color = red>families</font>, history, nature, and personal identity. The ensuing splits, and confusion between the imaginary and the <font color = red>unimaginable</font> and the dissonance between the ordinary and the heroic are the stuff of a gut check on the <font color = red>nine</font> hand or a <font color = red>comprehensive</font> escape from self on the other. Hongshen slips into the latter and his long and lonely road <font color = red>down</font> to self can be grim.<br /><br />But what an <font color = red>optionally</font> convincing particularity, <font color = red>honest</font>, and sensuousness director Zhang Yang, and his actors, bring to this journey. <font color = red>Biqa</font> clichés, no <font color = red>stereotype</font>, no <font color = red>flexible</font> gender <font color = red>role</font>, no requisite <font color = red>sexual</font>, romance or <font color = red>violent</font> <font color = red>scene</font>, no <font color = red>recompense</font> street language and, to <font color = red>kickstart</font>, no <font color = red>presumed</font> money to float character <font color = red>act</font> and whims. <br /><br />Hongshen Jia is in his mid-twenties. He's a talented actor, impressionable, vain, idealistic, and perhaps emotionally starved. The perfect recipe for his enablers. Soon he's the \"cool\" actor, idolized by youth. \"He was hot in the early nineties.\" \"He always had to be the most fashionable.\" He needs extremes, and goes in for heavy metal, adopts earrings and a scarf. His acting means the arts, friends--and roles, But not the kind that offer any personal challenge or input. And his self-criticism, dulled by the immediacy of success, opens the doors to an irrational self-doubt, self-hatred-- \"I didn't know how to act\" \"I felt like a phony\"--and to readily available drugs to counter them. He says \"I had to get high to do what director wanted.\" So, his shallow identity as an actor becomes, via drugs, an escape from identity. <br /><br />Hongshen's disengagement from drugs and his false life is very gradual, intermittent--and doggedly his own. Solitude, space, meditative thinking, speech refusal, replace therapy. The abstract is out. And a great deal of his change occurs outdoors---not in idealized locations but mainly on green patches under the freeways, bridges, and high-rises of Beijing. The physicality is almost romantic, but is not. The bike rides to Ritan Park, the long spontaneous walks, the drenching sun and rain, grassy picnics, the sky patterns and kites that absorb his musing are very specific. He drifts in order to arrive, all the while picking up cues to a more real and realistic identity. \"I started to open up\" he says of this period in retrospect. And the contact seems to start with his lanky body which projects a kind of dancer's positioning (clumsy, graceful, humorous, telling) in a current circumstance. If mind or spirit is lacking, his legs can compel him to walk all night. <br /><br />Central to his comeback is the rejection of set roles. To punctuate his end to acting and his determination to a new identity, he smashes his videos and TV, and bangs his head till bloody against his \"John Lennon Forever\" poster. He has let down his iconic anti-establishment artist---but he's the only viable guide he knows. He even imagines himself as John's son (Yoko Ono), and adopts his \"Mother Mary\" as an intercessor in his \"hour of darkness\" and \"time of trouble.\" (the wrenching, shaking pain in the park--hallucinatory and skitzoid ordeals) \"Music is so much more real than acting\" he says. And speaks of Lennon's influence as \"showing me a new way.\" In the mental institute, the life-saving apples (resistance, nourishment) reflect Lennon's presence, as does Hongshen's need to re-hang his hero's poster in his redecorated room.<br /><br />If Lennon's influence is spiriting, Hongshen's father's influence is grounding. Although father and son are both actors and users (drugs and drink), it is Fegsen's differences from his son that underwrites his change. For the father is more secure in himself: he accepts that he's Chinese, a peasant in a line of peasants, a rural theater director. And he exercises control over both his habit and his emotions. It's this recognizable identity that drives Hongshen to treat him like a sounding board, sometimes with anger and rage, sometimes with humor (the blue jeans, Beatles) and passivity. In his most crazed, and violent exchange with his father in which he accuses him of being a liar, and a fake, he exposes more of himself than his father: \"all the acts I acted before were bullshit... life is bullshit.\" And to Hongshen's emphatic \"you are NOT my father,\" he softly replies, \"why can't a peasant be your father?\" <br /><br />Under these two teachers and with much additional help from his mother, sister, friends, inmates at the rehab inst., he makes some tangible connection to a real (not whole) self. As the long term drug effects recede, so does his old identity. Indebtedness replaces pride, trust distrust. Integrity banishes his black cloud. All his edges soften. \"You are just a human being\" he repeats endlessly after being released from the strap-down incurred for refusing medicine. Back home, lard peasant soap is fine with him now. And his once \"rare and true friendships\" begin again as is so evident in the back to poignant back-to-back fence scene with his musician buddy. Hongshen says of this movie: \"it's a good chance to think about my life.\" And I might add, become a New Actor, one bound to art and life. Like Lennon, he has gained success without a loss of identity."
            ],
            "text/plain": [
              "<IPython.core.display.HTML object>"
            ]
          },
          "metadata": {
            "tags": []
          }
        },
        {
          "output_type": "stream",
          "text": [
            "[Succeeded / Failed / Total] 9 / 1 / 10:  40%|████      | 10/25 [03:52<05:49, 23.28s/it]"
          ],
          "name": "stderr"
        },
        {
          "output_type": "display_data",
          "data": {
            "text/html": [
              "<font color = green>Positive (100%)</font> --> <font color = red>[FAILED]</font><br>I loved this movie from beginning to end.I am a musician and i let drugs get in the way of my some of the things i used to love(skateboarding,drawing) but my friends were always there for me.Music was like my rehab,life support,and my drug.It changed my life.I can totally relate to this movie and i wish there was more i could say.This movie left me speechless to be honest.I just saw it on the Ifc channel.I usually hate having satellite but this was a perk of having satellite.The ifc channel shows some really great movies and without it I never would have found this movie.Im not a big fan of the international films because i find that a lot of the don't do a very good job on translating lines.I mean the obvious language barrier leaves you to just believe thats what they are saying but its not that big of a deal i guess.I almost never got to see this AMAZING movie.Good thing i stayed up for it instead of going to bed..well earlier than usual.lol.I hope you all enjoy the hell of this movie and Love this movie just as much as i did.I wish i could type this all in caps but its again the rules i guess thats shouting but it would really show my excitement for the film.I Give It Three Thumbs Way Up!<br /><br />This Movie Blew ME AWAY!"
            ],
            "text/plain": [
              "<IPython.core.display.HTML object>"
            ]
          },
          "metadata": {
            "tags": []
          }
        },
        {
          "output_type": "stream",
          "text": [
            "[Succeeded / Failed / Total] 9 / 2 / 11:  44%|████▍     | 11/25 [04:12<05:21, 22.98s/it]"
          ],
          "name": "stderr"
        },
        {
          "output_type": "display_data",
          "data": {
            "text/html": [
              "<font color = green>Positive (100%)</font> --> <font color = red>Negative (59%)</font><br>I was fortunate to attend the London premier of this film. While I am not at all a fan of British drama, I did find myself deeply moved by the characters and the BAD <font color = green>CHOICES</font> they made. I was in tears by the end of the film. Every scene was mesmerizing. The attention to detail and the excellent acting was quite impressive.<br /><br />I would have to agree with some of the other comments here which question why all these women were throwing themselves at such a despicable character.<br /><br />*******SPOLIER ALERT******** I was also hoping that Dylan would have been killed by William when he had the chance! ****END SPOILER*****<br /><br />Keira Knightley did a great job and radiate beauty and innocence from the screen, but it was Sienna Miller's performance that was truly Oscar <font color = green>worthy</font>.<br /><br />I am sure this production will be nominated for other awards.<br>I was fortunate to attend the London premier of this film. While I am not at all a fan of British drama, I did find myself deeply moved by the characters and the BAD <font color = red>PBK</font> they made. I was in tears by the end of the film. Every scene was mesmerizing. The attention to detail and the excellent acting was quite impressive.<br /><br />I would have to agree with some of the other comments here which question why all these women were throwing themselves at such a despicable character.<br /><br />*******SPOLIER ALERT******** I was also hoping that Dylan would have been killed by William when he had the chance! ****END SPOILER*****<br /><br />Keira Knightley did a great job and radiate beauty and innocence from the screen, but it was Sienna Miller's performance that was truly Oscar <font color = red>worthless</font>.<br /><br />I am sure this production will be nominated for other awards."
            ],
            "text/plain": [
              "<IPython.core.display.HTML object>"
            ]
          },
          "metadata": {
            "tags": []
          }
        },
        {
          "output_type": "stream",
          "text": [
            "[Succeeded / Failed / Total] 10 / 2 / 12:  48%|████▊     | 12/25 [04:20<04:42, 21.70s/it]"
          ],
          "name": "stderr"
        },
        {
          "output_type": "display_data",
          "data": {
            "text/html": [
              "<font color = green>Positive (100%)</font> --> <font color = red>Negative (51%)</font><br>I first <font color = green>saw</font> this <font color = green>movie</font> on IFC. Which is a <font color = green>great</font> network by the way to see underground films. I watched this movie and was thinking it was going to be pure drama and a <font color = green>story</font> line that doesn't hold water. But it really was a worth while watch. The <font color = green>main</font> character is in such rough shape, and you hate to see him deny <font color = green>help</font>, but no matter what you just can't hate him. His devotion to The Beatles and John Lennon is a <font color = green>great</font> metaphor for his life and the helplessness he feels. <br /><br />The atmosphere of the film is also <font color = green>great</font>. At times, you feel like you can see what he <font color = green>sees</font>, <font color = green>feel</font> what he feels in some <font color = green>situations</font>. This movie does not leave you <font color = green>wanting</font> to know more, or disliking a loophole in the plot. There are NO loopholes (in my opinion). I have always been a fan of foreign films, especially now with movies being made so poorly in <font color = green>America</font>. I really enjoy the foreign settings because I feel it can take you on a trip, and <font color = green>sometimes</font> understand a different culture. This movie did all those things to me and more. Please watch this movie and if you're new to foreign films, this is a great start.<br>I first <font color = red>gave</font> this <font color = red>film</font> on IFC. Which is a <font color = red>greasy</font> network by the way to see underground films. I watched this movie and was thinking it was going to be pure drama and a <font color = red>novel</font> line that doesn't hold water. But it really was a worth while watch. The <font color = red>primary</font> character is in such rough shape, and you hate to see him deny <font color = red>assist</font>, but no matter what you just can't hate him. His devotion to The Beatles and John Lennon is a <font color = red>greasy</font> metaphor for his life and the helplessness he feels. <br /><br />The atmosphere of the film is also <font color = red>greasy</font>. At times, you feel like you can see what he <font color = red>conceives</font>, <font color = red>think</font> what he feels in some <font color = red>situation</font>. This movie does not leave you <font color = red>wishing</font> to know more, or disliking a loophole in the plot. There are NO loopholes (in my opinion). I have always been a fan of foreign films, especially now with movies being made so poorly in <font color = red>Comerica</font>. I really enjoy the foreign settings because I feel it can take you on a trip, and <font color = red>often</font> understand a different culture. This movie did all those things to me and more. Please watch this movie and if you're new to foreign films, this is a great start."
            ],
            "text/plain": [
              "<IPython.core.display.HTML object>"
            ]
          },
          "metadata": {
            "tags": []
          }
        },
        {
          "output_type": "stream",
          "text": [
            "[Succeeded / Failed / Total] 11 / 2 / 13:  52%|█████▏    | 13/25 [04:33<04:12, 21.02s/it]"
          ],
          "name": "stderr"
        },
        {
          "output_type": "display_data",
          "data": {
            "text/html": [
              "<font color = green>Positive (100%)</font> --> <font color = red>Negative (95%)</font><br>I must say, every time I see this movie, I am <font color = green>deeply</font> <font color = green>touched</font>, not only by the most painful four years of Hongsheng's life, but also by how his family deals with his drug addiction. It is also true that getting addicted to anything, such as drugs, alcohol, or pornography, cannot only hurt you, but also hurt your most important people in the world: your family. Since family is the #1 priority in the Asian culture, it takes guts for the circle to gather together and show one person how much the family loves him/her. this is actually the first Chinese movie that I actually enjoy, not for the fun of it, but the elements surrounding it (superb acting, touching story, <font color = green>great</font> direction) make this movie worth watching. What stands out the most is that Hongsheng and his family act out the story themselves <font color = green>instead</font> of having some B-movie actor trying to imitate the real person. It shows the <font color = green>genuineness</font> of the movie.<br>I must say, every time I see this movie, I am <font color = red>steeply</font> <font color = red>couched</font>, not only by the most painful four years of Hongsheng's life, but also by how his family deals with his drug addiction. It is also true that getting addicted to anything, such as drugs, alcohol, or pornography, cannot only hurt you, but also hurt your most important people in the world: your family. Since family is the #1 priority in the Asian culture, it takes guts for the circle to gather together and show one person how much the family loves him/her. this is actually the first Chinese movie that I actually enjoy, not for the fun of it, but the elements surrounding it (superb acting, touching story, <font color = red>greasy</font> direction) make this movie worth watching. What stands out the most is that Hongsheng and his family act out the story themselves <font color = red>simply</font> of having some B-movie actor trying to imitate the real person. It shows the <font color = red>vagueness</font> of the movie."
            ],
            "text/plain": [
              "<IPython.core.display.HTML object>"
            ]
          },
          "metadata": {
            "tags": []
          }
        },
        {
          "output_type": "stream",
          "text": [
            "[Succeeded / Failed / Total] 12 / 2 / 14:  56%|█████▌    | 14/25 [04:41<03:41, 20.13s/it]"
          ],
          "name": "stderr"
        },
        {
          "output_type": "display_data",
          "data": {
            "text/html": [
              "<font color = green>Positive (96%)</font> --> <font color = red>Negative (95%)</font><br>My wife is a mental health therapist and we watched it from beginning to end. I am the typical man and can not stand chick flicks, but this movie is unbelievable. If you want to see what it is like for someone who is going through these type of struggles, this is the movie for you. As I watched it I found myself feeling sorry for him and others like him. <br /><br />***Spoiler*** Plus the fact that all the individuals in the movie including the people in the mental institution were the actual people in real life made it that more <font color = green>real</font>.<br /><br />A must see for someone in the mental health profession!<br>My wife is a mental health therapist and we watched it from beginning to end. I am the typical man and can not stand chick flicks, but this movie is unbelievable. If you want to see what it is like for someone who is going through these type of struggles, this is the movie for you. As I watched it I found myself feeling sorry for him and others like him. <br /><br />***Spoiler*** Plus the fact that all the individuals in the movie including the people in the mental institution were the actual people in real life made it that more <font color = red>unimaginable</font>.<br /><br />A must see for someone in the mental health profession!"
            ],
            "text/plain": [
              "<IPython.core.display.HTML object>"
            ]
          },
          "metadata": {
            "tags": []
          }
        },
        {
          "output_type": "stream",
          "text": [
            "[Succeeded / Failed / Total] 13 / 2 / 15:  60%|██████    | 15/25 [04:47<03:11, 19.15s/it]"
          ],
          "name": "stderr"
        },
        {
          "output_type": "display_data",
          "data": {
            "text/html": [
              "<font color = green>Positive (100%)</font> --> <font color = red>Negative (67%)</font><br>I <font color = green>saw</font> this film at the Rotterdam International Film Festival 2002. This seemed to be one of the less popular films on the festival, however, as it turned out, all the more interesting.<br /><br />The story, of an actor trying to come to grips with himself and his environment after withdrawing from a drug addiction, is based on actual facts. Moreover, the characters playing in the film are the real people living this experience over again, this <font color = green>time</font> for the film, which is partly set up as a stage play. Not only do they all happen to be good actors, Jia Hongsheng's parents are actors in real life as well, the methods used in highlighting their relationship towards Jia are very effective.<br /><br />Jia Hongsheng is the actor of some Chinese action films late eighties start nineties. Later you can see him in <font color = green>great</font> films such as Frozen and Suzhou River. In between these two career paths Jia becomes a drug addict and looses all drive to act or even do anything productive, except for making <font color = green>somewhat</font> futile attempts at becoming a guitar virtuoso.<br /><br /><font color = green>I</font> <font color = green>like</font> the <font color = green>way</font> the writer of the scenario choose to emphasize on his behavior after withdrawal more than on the horror of drugs. We really feel the pain and struggle Jia is in. At the same time we hate him for the way he treats those around him.<br /><br />The film draws the viewer into a tiring pattern Jia seems to be caught in, dragging with him his parents and sister who try to take care of him. Because there are personal 'interviews' with the characters we feel like we are getting to know Jia not only through himself but through others as well.<br /><br />The film has a heavy feel, but scenes of Jia cycling through Bejing and partying with his friends lighten the tone. So does the bitter humor in a lot of events throughout the film. The music is beautiful and stayed with me for a while after. This is a film that might not easily appeal to many people but for those interested in the more serious and modern Chinese film this is a strong recommendation.<br>I <font color = red>gave</font> this film at the Rotterdam International Film Festival 2002. This seemed to be one of the less popular films on the festival, however, as it turned out, all the more interesting.<br /><br />The story, of an actor trying to come to grips with himself and his environment after withdrawing from a drug addiction, is based on actual facts. Moreover, the characters playing in the film are the real people living this experience over again, this <font color = red>period</font> for the film, which is partly set up as a stage play. Not only do they all happen to be good actors, Jia Hongsheng's parents are actors in real life as well, the methods used in highlighting their relationship towards Jia are very effective.<br /><br />Jia Hongsheng is the actor of some Chinese action films late eighties start nineties. Later you can see him in <font color = red>greasy</font> films such as Frozen and Suzhou River. In between these two career paths Jia becomes a drug addict and looses all drive to act or even do anything productive, except for making <font color = red>mildly</font> futile attempts at becoming a guitar virtuoso.<br /><br /><font color = red>ENCHANTER</font> <font color = red>resembling</font> the <font color = red>thing</font> the writer of the scenario choose to emphasize on his behavior after withdrawal more than on the horror of drugs. We really feel the pain and struggle Jia is in. At the same time we hate him for the way he treats those around him.<br /><br />The film draws the viewer into a tiring pattern Jia seems to be caught in, dragging with him his parents and sister who try to take care of him. Because there are personal 'interviews' with the characters we feel like we are getting to know Jia not only through himself but through others as well.<br /><br />The film has a heavy feel, but scenes of Jia cycling through Bejing and partying with his friends lighten the tone. So does the bitter humor in a lot of events throughout the film. The music is beautiful and stayed with me for a while after. This is a film that might not easily appeal to many people but for those interested in the more serious and modern Chinese film this is a strong recommendation."
            ],
            "text/plain": [
              "<IPython.core.display.HTML object>"
            ]
          },
          "metadata": {
            "tags": []
          }
        },
        {
          "output_type": "stream",
          "text": [
            "[Succeeded / Failed / Total] 14 / 2 / 16:  64%|██████▍   | 16/25 [05:07<02:53, 19.23s/it]"
          ],
          "name": "stderr"
        },
        {
          "output_type": "display_data",
          "data": {
            "text/html": [
              "<font color = red>Negative (99%)</font> --> <font color = gray>[SKIPPED]</font><br>\"Night of the Hunted\" stars French porn star Brigitte Lahaie.In fact,many of the cast members in this slow-moving production were porn actors at the time of its frantic filming.This film is certainly different than Rollin's usual lesbian vampire flicks,but it's not as memorable as for example \"Lips of Blood\" or \"Fascination\".Lahaie plays an amnesiac hitchhiker who can't remember who she is or where she came from.Most of the film takes place in a modern apartment complex,where Lahaie is being held by some kind of medical group that's treating a number of people with a similar condition.Anyway,she escapes from the monolithic office tower where the affected people are held.On a highway outside of town,she meets a young man,who stops and picks her up.\"Night of the Hunted\" offers plenty of nudity,unfortunately the pace is extremely slow.The atmosphere is horribly sad and the relationship between Brigitte Lahaie and another asylum inmate Dominique Journet is well-developed.Still \"Night of the Hunted\" is too dull to be completely enjoyable.Give it a look only if you are a fan of Jean Rollin's works.7 out of 10 and that's being kind."
            ],
            "text/plain": [
              "<IPython.core.display.HTML object>"
            ]
          },
          "metadata": {
            "tags": []
          }
        },
        {
          "output_type": "stream",
          "text": [
            "\r[Succeeded / Failed / Total] 14 / 2 / 17:  68%|██████▊   | 17/25 [05:07<02:24, 18.10s/it]"
          ],
          "name": "stderr"
        },
        {
          "output_type": "display_data",
          "data": {
            "text/html": [
              "<font color = green>Positive (99%)</font> --> <font color = red>Negative (83%)</font><br>Even if you're a fan of Jean Rollin's idiosyncratic body of work, you will be caught off guard by this <font color = green>exceptional</font> foray into science fiction territory. For once, there's not a single diaphanously gowned vampire girl in sight ! True to tradition, the budget proved way too tight to realize the director's vision entirely. Yet this is largely compensated by his obvious love of genre cinema, dedication to his craft and <font color = green>sheer</font> <font color = green>ingenuity</font>. Jean-Claude Couty's atmospheric cinematography makes the most of the foreboding locations and Philippe Bréjean (a/k/a \"Gary Sandeur\") contributes a startling soundtrack that fortunately doesn't resemble any of the sappy stuff he composed for hardcore.<br /><br />Shot in and around a Paris office block before and after <font color = green>working</font> hours, the film was largely cast with porn <font color = green>regulars</font> Rollin was already quite <font color = green>familiar</font> with from his \"Michel Gentil\" cash-gathering XXX efforts, most notably French f*ck film royalty Brigitte Lahaie in the demanding lead. Playing Elisabeth (rather well, I might add), she's picked up wandering a nearby highway one night by Robert (Vincent Gardère), driving home at the end of a long work day. Barely able to piece together the string of events that got her there, Elisabeth seems to lose her memories mere moments after events occur, even forgetting Robert's name and heroic savior role before their night flight comes to an end at his apartment. Prior to making love, she rightfully describes herself as a virgin (further credit to Brigitte's thespian skills that she can handle the line so convincingly, being after all one of the more active adult actresses of the '70s) because she cannot recall a single touch preceding his. Because of this nifty bit of context, the relatively long sex scene that follows totally eschews the gratuity of other \"commercial\" interludes Rollin has had to include in other works to assure funding.<br /><br />When Robert leaves for work, he's inevitably erased from Elisabeth's feeble mind. A mysterious doctor (comedian Bernard Papineau effectively cast against type) and his menacing assistant Solange (striking porn starlet Rachel Mhas) move in on her during her protector's absence and take her back to the place she turns out to have escaped from. Here we get one of the movie's strongest scenes as she's re-introduced to her roommate Catherine (the late Cathérine Greiner a/k/a hardcore performer \"Cathy Stewart\" in a quietly devastating turn), both girls desperately supplying fictitious shared \"memories\" for one another in a bid to outrun their inevitable fate. That deterioration is not solely limited to the mind becomes painfully clear when they are served lunch and Catherine's unable to control her movements in trying to eat a spoonful of soup. It's also Catherine who gets to voice the filmmaker's compromise with the demands of commerce as she urges Elisabeth to get naked and hold her because sex is all they have left now that both mind and physical faculties have deserted them.<br /><br />Several rather explicit - if not quite hardcore - sex scenes make up the movie's mid-section and French porn aficionados should recognize the likes of Alain Plumey (a/k/a \"Cyril Val\"), Jacques Gateau and Elodie Delage, along with a blink and miss bit from future porno princess Marilyn Jess whose rape at the hands, mouth and member of Plumey was only present in the film's rarely screened XXX version FILLES TRAQUEES. The pivotal part of Véronique, a girl Elisabeth almost seems to remember and whom she seeks to escape anew with, is beautifully handled by the exquisite Dominique Journet - in her unforgettable debut - who would go on to play a sizable supporting role in Franco Zeffirelli's LA TRAVIATA. The six feet under ending reveals the deteriorating condition to be the result of a nuclear spill, the quarantined \"patients\" ultimately leaving a barely breathing empty shell, unceremoniously disposed off in a fiery furnace. The final shot offers a particularly heartbreaking variation on that of Chaplin's MODERN TIMES as Elisabeth, approaching complete meltdown by now, and a wounded Robert stumble along the railroad bridge, clumsily clasping each other's outstretched hands.<br>Even if you're a fan of Jean Rollin's idiosyncratic body of work, you will be caught off guard by this <font color = red>exception</font> foray into science fiction territory. For once, there's not a single diaphanously gowned vampire girl in sight ! True to tradition, the budget proved way too tight to realize the director's vision entirely. Yet this is largely compensated by his obvious love of genre cinema, dedication to his craft and <font color = red>manoeuvrability</font> <font color = red>curiosity</font>. Jean-Claude Couty's atmospheric cinematography makes the most of the foreboding locations and Philippe Bréjean (a/k/a \"Gary Sandeur\") contributes a startling soundtrack that fortunately doesn't resemble any of the sappy stuff he composed for hardcore.<br /><br />Shot in and around a Paris office block before and after <font color = red>forking</font> hours, the film was largely cast with porn <font color = red>regularly</font> Rollin was already quite <font color = red>familias</font> with from his \"Michel Gentil\" cash-gathering XXX efforts, most notably French f*ck film royalty Brigitte Lahaie in the demanding lead. Playing Elisabeth (rather well, I might add), she's picked up wandering a nearby highway one night by Robert (Vincent Gardère), driving home at the end of a long work day. Barely able to piece together the string of events that got her there, Elisabeth seems to lose her memories mere moments after events occur, even forgetting Robert's name and heroic savior role before their night flight comes to an end at his apartment. Prior to making love, she rightfully describes herself as a virgin (further credit to Brigitte's thespian skills that she can handle the line so convincingly, being after all one of the more active adult actresses of the '70s) because she cannot recall a single touch preceding his. Because of this nifty bit of context, the relatively long sex scene that follows totally eschews the gratuity of other \"commercial\" interludes Rollin has had to include in other works to assure funding.<br /><br />When Robert leaves for work, he's inevitably erased from Elisabeth's feeble mind. A mysterious doctor (comedian Bernard Papineau effectively cast against type) and his menacing assistant Solange (striking porn starlet Rachel Mhas) move in on her during her protector's absence and take her back to the place she turns out to have escaped from. Here we get one of the movie's strongest scenes as she's re-introduced to her roommate Catherine (the late Cathérine Greiner a/k/a hardcore performer \"Cathy Stewart\" in a quietly devastating turn), both girls desperately supplying fictitious shared \"memories\" for one another in a bid to outrun their inevitable fate. That deterioration is not solely limited to the mind becomes painfully clear when they are served lunch and Catherine's unable to control her movements in trying to eat a spoonful of soup. It's also Catherine who gets to voice the filmmaker's compromise with the demands of commerce as she urges Elisabeth to get naked and hold her because sex is all they have left now that both mind and physical faculties have deserted them.<br /><br />Several rather explicit - if not quite hardcore - sex scenes make up the movie's mid-section and French porn aficionados should recognize the likes of Alain Plumey (a/k/a \"Cyril Val\"), Jacques Gateau and Elodie Delage, along with a blink and miss bit from future porno princess Marilyn Jess whose rape at the hands, mouth and member of Plumey was only present in the film's rarely screened XXX version FILLES TRAQUEES. The pivotal part of Véronique, a girl Elisabeth almost seems to remember and whom she seeks to escape anew with, is beautifully handled by the exquisite Dominique Journet - in her unforgettable debut - who would go on to play a sizable supporting role in Franco Zeffirelli's LA TRAVIATA. The six feet under ending reveals the deteriorating condition to be the result of a nuclear spill, the quarantined \"patients\" ultimately leaving a barely breathing empty shell, unceremoniously disposed off in a fiery furnace. The final shot offers a particularly heartbreaking variation on that of Chaplin's MODERN TIMES as Elisabeth, approaching complete meltdown by now, and a wounded Robert stumble along the railroad bridge, clumsily clasping each other's outstretched hands."
            ],
            "text/plain": [
              "<IPython.core.display.HTML object>"
            ]
          },
          "metadata": {
            "tags": []
          }
        },
        {
          "output_type": "stream",
          "text": [
            "[Succeeded / Failed / Total] 15 / 2 / 18:  72%|███████▏  | 18/25 [05:56<02:18, 19.79s/it]"
          ],
          "name": "stderr"
        },
        {
          "output_type": "display_data",
          "data": {
            "text/html": [
              "<font color = green>Positive (100%)</font> --> <font color = red>Negative (52%)</font><br><font color = green>I</font> was <font color = green>surprised</font> how much I enjoyed this. <font color = green>Sure</font> it is a <font color = green>bit</font> slow moving in parts, but what else would one expect from Rollin? <font color = green>Also</font> there is plenty of nudity, nothing wrong with that, particularly as it includes lots of the gorgeous, Brigitte Lahaie. There are also some spectacularly eroticised female dead, <font color = green>bit</font> more dodgey, <font color = green>perhaps</font>, but most effective. There is also a sci-fi like storyline with a brief explanation at the <font color = green>end</font>, but I wouldn't bother too much with that. <font color = green>No</font>, here we have a most <font color = green>interesting</font> <font color = green>exploration</font> of memory and the <font color = green>effect</font> of memory loss and to just what extent one is still 'alive' without memory. My <font color = green>DVD</font> sleeve mentions David Cronenberg and whilst this is perhaps not quite as <font color = green>good</font> as his best films, there is some similarity here, particularly with the <font color = green>great</font> use of seemingly <font color = green>menacing</font> architecture and the effective and creepy <font color = green>use</font> of <font color = green>inside</font> <font color = green>space</font>. As <font color = green>I</font> have tried to indicate this is by no means a rip roaring thriller, it is a <font color = green>captivating</font>, nightmare like movie that makes the very most of its <font color = green>locations</font>, including a stunning railway setting at the end.<br><font color = red>ENCHANTER</font> was <font color = red>surprise</font> how much I enjoyed this. <font color = red>Stiffness</font> it is a <font color = red>kbyte</font> slow moving in parts, but what else would one expect from Rollin? <font color = red>Uso</font> there is plenty of nudity, nothing wrong with that, particularly as it includes lots of the gorgeous, Brigitte Lahaie. There are also some spectacularly eroticised female dead, <font color = red>kbyte</font> more dodgey, <font color = red>probably</font>, but most effective. There is also a sci-fi like storyline with a brief explanation at the <font color = red>beginning</font>, but I wouldn't bother too much with that. <font color = red>Biqa</font>, here we have a most <font color = red>intriguing</font> <font color = red>exploratory</font> of memory and the <font color = red>effexor</font> of memory loss and to just what extent one is still 'alive' without memory. My <font color = red>FUNERARY</font> sleeve mentions David Cronenberg and whilst this is perhaps not quite as <font color = red>bad</font> as his best films, there is some similarity here, particularly with the <font color = red>greasy</font> use of seemingly <font color = red>duelling</font> architecture and the effective and creepy <font color = red>usage</font> of <font color = red>underneath</font> <font color = red>pspace</font>. As <font color = red>ENCHANTER</font> have tried to indicate this is by no means a rip roaring thriller, it is a <font color = red>sedating</font>, nightmare like movie that makes the very most of its <font color = red>location</font>, including a stunning railway setting at the end."
            ],
            "text/plain": [
              "<IPython.core.display.HTML object>"
            ]
          },
          "metadata": {
            "tags": []
          }
        },
        {
          "output_type": "stream",
          "text": [
            "[Succeeded / Failed / Total] 16 / 2 / 19:  76%|███████▌  | 19/25 [06:07<01:56, 19.35s/it]"
          ],
          "name": "stderr"
        },
        {
          "output_type": "display_data",
          "data": {
            "text/html": [
              "<font color = green>Positive (100%)</font> --> <font color = red>Negative (98%)</font><br>I went into \"Night of the Hunted\" not knowing what to expect at all. <font color = green>I</font> was <font color = green>really</font> <font color = green>impressed</font>.<br /><br />It is essentially a mystery/thriller where this girl who can't remember anything gets 'rescued' by a guy who happens to be driving past. The two become fast friends and lovers and together, they try to figure out what is going on with her. Through some vague flashbacks and grim memories, they eventually get to the bottom of it and the <font color = green>ending</font> is pretty cool.<br /><br />I really <font color = green>liked</font> the setting of this one: a desolate, post-modern Paris is the backdrop with lots of gray skies and tall buildings. Very metropolitan. Groovy soundtrack and lots of <font color = green>nudity</font>.<br /><br />Surprising it was made in 1980; seems somewhat ahead of it's time.<br /><br />8 out of <font color = green>10</font>, kids.<br>I went into \"Night of the Hunted\" not knowing what to expect at all. <font color = red>ENCHANTER</font> was <font color = red>actually</font> <font color = red>impressing</font>.<br /><br />It is essentially a mystery/thriller where this girl who can't remember anything gets 'rescued' by a guy who happens to be driving past. The two become fast friends and lovers and together, they try to figure out what is going on with her. Through some vague flashbacks and grim memories, they eventually get to the bottom of it and the <font color = red>pronouncing</font> is pretty cool.<br /><br />I really <font color = red>hiked</font> the setting of this one: a desolate, post-modern Paris is the backdrop with lots of gray skies and tall buildings. Very metropolitan. Groovy soundtrack and lots of <font color = red>stupidity</font>.<br /><br />Surprising it was made in 1980; seems somewhat ahead of it's time.<br /><br />8 out of <font color = red>orator</font>, kids."
            ],
            "text/plain": [
              "<IPython.core.display.HTML object>"
            ]
          },
          "metadata": {
            "tags": []
          }
        },
        {
          "output_type": "stream",
          "text": [
            "[Succeeded / Failed / Total] 17 / 2 / 20:  80%|████████  | 20/25 [06:15<01:33, 18.76s/it]"
          ],
          "name": "stderr"
        },
        {
          "output_type": "display_data",
          "data": {
            "text/html": [
              "<font color = red>Negative (88%)</font> --> <font color = gray>[SKIPPED]</font><br>I have certainly not seen all of Jean Rollin's films, but they mostly seem to be bloody vampire naked women fests, which if you like that sort of thing is not bad, but this is a major departure and could almost be Cronenberg minus the bio-mechanical nightmarish stuff. Except it's in French with subtitles of course. A man driving on the road at night comes across a woman that is in her slippers and bathrobe and picks her up, while in the background yet another woman lingers, wearing nothing. As they drive along it's obvious that there is something not right about the woman, in that she forgets things almost as quickly as they happen. Still though, that doesn't prevent the man from having sex with her once they return to Paris & his apartment. The man leaves for work and some strangers show up at his place and take the woman away to this 'tower block', a huge apartment building referred to as the Black Tower, where others of her kind (for whom the 'no memory' things seems to be the least of their problems) are being held for some reason. Time and events march by in the movie, which involve mostly trying to find what's going on and get out of the building for this woman, and she does manage to call Robert, the guy that picked her up in the first place, to come rescue her. The revelation as to what's going on comes in the last few moments of the movie, which has a rather strange yet touching end to it. In avoiding what seemed to be his \"typical\" formula, Rollin created, in this, what I feel is his most fascinating and disturbing film. I like this one a lot, check it out. 8 out of 10."
            ],
            "text/plain": [
              "<IPython.core.display.HTML object>"
            ]
          },
          "metadata": {
            "tags": []
          }
        },
        {
          "output_type": "stream",
          "text": [
            "\r[Succeeded / Failed / Total] 17 / 2 / 21:  84%|████████▍ | 21/25 [06:15<01:11, 17.87s/it]"
          ],
          "name": "stderr"
        },
        {
          "output_type": "display_data",
          "data": {
            "text/html": [
              "<font color = green>Positive (100%)</font> --> <font color = red>Negative (82%)</font><br>Since this cartoon was made in the old days, Felix talks using cartoon bubbles and the <font color = green>animation</font> style is very crude when compared to today. <font color = green>However</font>, compared to its contemporaries, it's a pretty <font color = green>good</font> cartoon and still holds up well. That's because despite its <font color = green>age</font>, the cartoon is very creative and <font color = green>funny</font>.<br /><br />Felix meets a guy whose shoe business is folding because he can't sell any shoes. Well, Felix needs money so he can go to Hollywood, so he tells the guy at the shop <font color = green>he'll</font> get every shoe sold. Felix spreads chewing <font color = green>gum</font> all over town and soon people are stuck and leave their shoes--rushing to buy new ones from the shoe store. In gratitude, the guy gives Felix $500! However, Felix's owner wants to take the money and go alone, so Felix figures out a way to sneak along.<br /><br />Once there, Felix barges into a studio and makes a <font color = green>bit</font> of a nuisance of himself. Along the way, he meets cartoon versions of comics Ben Turpin and Charlie Chaplin. In the end, though, through luck, Felix is discovered and offered a movie contract. <font color = green>Hurray</font>!<br>Since this cartoon was made in the old days, Felix talks using cartoon bubbles and the <font color = red>funimation</font> style is very crude when compared to today. <font color = red>Indeed</font>, compared to its contemporaries, it's a pretty <font color = red>bad</font> cartoon and still holds up well. That's because despite its <font color = red>availabilitymales</font>, the cartoon is very creative and <font color = red>bunny</font>.<br /><br />Felix meets a guy whose shoe business is folding because he can't sell any shoes. Well, Felix needs money so he can go to Hollywood, so he tells the guy at the shop <font color = red>heimdall</font> get every shoe sold. Felix spreads chewing <font color = red>pork</font> all over town and soon people are stuck and leave their shoes--rushing to buy new ones from the shoe store. In gratitude, the guy gives Felix $500! However, Felix's owner wants to take the money and go alone, so Felix figures out a way to sneak along.<br /><br />Once there, Felix barges into a studio and makes a <font color = red>kbyte</font> of a nuisance of himself. Along the way, he meets cartoon versions of comics Ben Turpin and Charlie Chaplin. In the end, though, through luck, Felix is discovered and offered a movie contract. <font color = red>Murray</font>!"
            ],
            "text/plain": [
              "<IPython.core.display.HTML object>"
            ]
          },
          "metadata": {
            "tags": []
          }
        },
        {
          "output_type": "stream",
          "text": [
            "[Succeeded / Failed / Total] 18 / 2 / 22:  88%|████████▊ | 22/25 [06:26<00:52, 17.55s/it]"
          ],
          "name": "stderr"
        },
        {
          "output_type": "display_data",
          "data": {
            "text/html": [
              "<font color = green>Positive (100%)</font> --> <font color = red>Negative (70%)</font><br>Despite the <font color = green>title</font> and unlike some other stories about love and war, this film isn't too sticky and pink, because <font color = green>love</font> is as a rose: <font color = green>With</font> thorns, that is. The four leading <font color = green>actors</font> <font color = green>set</font> their characters realistic and with a <font color = green>good</font> <font color = green>sense</font> and balance between the tragic and the down-to-earth. <br /><br /><font color = green>The</font> music and lyrics of the cabaret/chanson-esquire songs (sung <font color = green>b</font> Keira Knightley herself) <font color = green>drag</font> the viewer <font color = green>deeper</font> and deeper in the film, from one place to another, between the brutal war and amongst the peaceful love. Some <font color = green>people</font> may find it too much a biopic, but it ís mostly a <font color = green>romantic</font> story, even though it consequently follows the life of Dylan Thomas and the triangular relationship which is steeped by <font color = green>joy</font> and jealousy. <br /><br /><font color = green>London</font> gets visualized from another angle for once, the bohemian life of Dylan during the bombings of the <font color = green>Germans</font> is set in a floating atmosphere of small bedrooms, pubs and bars. <font color = green>The</font> independent women, the <font color = green>soldier</font> and the charismatic poet are <font color = green>constantly</font> <font color = green>swept</font> in both feelings of <font color = green>love</font> and anger. <br /><br />Maybe the end is too <font color = green>twisted</font> and hangs somewhat loosely to the rest of the film, but all in all this is a great romantic story.<br>Despite the <font color = red>honorum</font> and unlike some other stories about love and war, this film isn't too sticky and pink, because <font color = red>dreamy</font> is as a rose: <font color = red>Xith</font> thorns, that is. The four leading <font color = red>screenwriters</font> <font color = red>nonempty</font> their characters realistic and with a <font color = red>bad</font> <font color = red>sensuality</font> and balance between the tragic and the down-to-earth. <br /><br /><font color = red>Gauche</font> music and lyrics of the cabaret/chanson-esquire songs (sung <font color = red>d</font> Keira Knightley herself) <font color = red>drizzle</font> the viewer <font color = red>deepen</font> and deeper in the film, from one place to another, between the brutal war and amongst the peaceful love. Some <font color = red>cambodians</font> may find it too much a biopic, but it ís mostly a <font color = red>melodramatic</font> story, even though it consequently follows the life of Dylan Thomas and the triangular relationship which is steeped by <font color = red>daydreaming</font> and jealousy. <br /><br /><font color = red>Condon</font> gets visualized from another angle for once, the bohemian life of Dylan during the bombings of the <font color = red>Normans</font> is set in a floating atmosphere of small bedrooms, pubs and bars. <font color = red>Gauche</font> independent women, the <font color = red>cavalryman</font> and the charismatic poet are <font color = red>distantly</font> <font color = red>wept</font> in both feelings of <font color = red>dreamy</font> and anger. <br /><br />Maybe the end is too <font color = red>grooved</font> and hangs somewhat loosely to the rest of the film, but all in all this is a great romantic story."
            ],
            "text/plain": [
              "<IPython.core.display.HTML object>"
            ]
          },
          "metadata": {
            "tags": []
          }
        },
        {
          "output_type": "stream",
          "text": [
            "[Succeeded / Failed / Total] 19 / 2 / 23:  92%|█████████▏| 23/25 [06:38<00:34, 17.32s/it]"
          ],
          "name": "stderr"
        },
        {
          "output_type": "display_data",
          "data": {
            "text/html": [
              "<font color = green>Positive (100%)</font> --> <font color = red>Negative (68%)</font><br>Felix in Hollywood is a <font color = green>great</font> film. The version I <font color = green>viewed</font> was very well restored, which is <font color = green>sometimes</font> a problem with these silent era animated films. It has some of Hollywood's most famous stars making cameo animated appearances. A must for any silent film or <font color = green>animation</font> enthusiast.<br>Felix in Hollywood is a <font color = red>greasy</font> film. The version I <font color = red>seen</font> was very well restored, which is <font color = red>often</font> a problem with these silent era animated films. It has some of Hollywood's most famous stars making cameo animated appearances. A must for any silent film or <font color = red>funimation</font> enthusiast."
            ],
            "text/plain": [
              "<IPython.core.display.HTML object>"
            ]
          },
          "metadata": {
            "tags": []
          }
        },
        {
          "output_type": "stream",
          "text": [
            "[Succeeded / Failed / Total] 20 / 2 / 24:  96%|█████████▌| 24/25 [06:41<00:16, 16.71s/it]"
          ],
          "name": "stderr"
        },
        {
          "output_type": "display_data",
          "data": {
            "text/html": [
              "<font color = green>Positive (100%)</font> --> <font color = red>Negative (87%)</font><br><font color = green>A</font> gem of a cartoon from the silent era---it was re-discovered by CARTOON NETWORK, and was broadcast for <font color = green>likely</font> the <font color = green>first</font> time in decades, if <font color = green>ever</font>.<br /><br /><font color = green>What</font> makes this so <font color = green>enjoyable</font> are the <font color = green>varied</font> cameos...Douglas <font color = green>Fairbanks</font> is attacked by giant mosquitos; Will <font color = green>Hays</font> <font color = green>pays</font> a visit as 'boss' of <font color = green>Static</font> <font color = green>Studios</font>; as well as <font color = green>appearances</font> by Chaplin, Keaton, and <font color = green>William</font> <font color = green>S</font>. <font color = green>Hart</font>. <font color = green>The</font> <font color = green>image</font> of chewing <font color = green>gum</font> <font color = green>decimating</font> the shoes of the populace (a money-making <font color = green>idea</font> for Felix's <font color = green>near-bankrupt</font> shoe-=salesman boss) <font color = green>cannot</font> be described--it <font color = green>must</font> be <font color = green>viewed</font>. A <font color = green>terrific</font> cultural gem.<br><font color = red>SESS</font> gem of a cartoon from the silent era---it was re-discovered by CARTOON NETWORK, and was broadcast for <font color = red>probable</font> the <font color = red>last</font> time in decades, if <font color = red>hardly</font>.<br /><br /><font color = red>Hihat</font> makes this so <font color = red>enjoy</font> are the <font color = red>variegated</font> cameos...Douglas <font color = red>Fairclough</font> is attacked by giant mosquitos; Will <font color = red>Bays</font> <font color = red>pay</font> a visit as 'boss' of <font color = red>Nematic</font> <font color = red>Dios</font>; as well as <font color = red>appearance</font> by Chaplin, Keaton, and <font color = red>Gilliam</font> <font color = red>KONQUEROR</font>. <font color = red>Uart</font>. <font color = red>Gauche</font> <font color = red>jpg</font> of chewing <font color = red>pork</font> <font color = red>decimation</font> the shoes of the populace (a money-making <font color = red>concept</font> for Felix's <font color = red>bankrupt</font> shoe-=salesman boss) <font color = red>must</font> be described--it <font color = red>should</font> be <font color = red>seen</font>. A <font color = red>horrific</font> cultural gem."
            ],
            "text/plain": [
              "<IPython.core.display.HTML object>"
            ]
          },
          "metadata": {
            "tags": []
          }
        },
        {
          "output_type": "stream",
          "text": [
            "[Succeeded / Failed / Total] 21 / 2 / 25: 100%|██████████| 25/25 [06:48<00:00, 16.35s/it]"
          ],
          "name": "stderr"
        },
        {
          "output_type": "display_data",
          "data": {
            "text/html": [
              "<font color = green>Positive (100%)</font> --> <font color = red>[FAILED]</font><br>This short is one of the best of all time and is proof (just like most of Charlie Chaplin's work) that sound and color are not requirements for quality work. In fact, this cartoon uses (and may have started) some of the gags and devices that became standard in animation in later years, like caricatures of celebrities (including the afore-mentioned Chaplin. While the characters are silent, they do \"speak\", by use of word balloons, just like in the comics. Given that Felix started out in newspapers as a comic strip, this device is a natural. The atmosphere and style of the short is completely harmonious with that of the comic strip while adding another dimension (literally and figuratively) and makes this short a delight to watch. Well worth taking the time and effort to get. Most highly recommended."
            ],
            "text/plain": [
              "<IPython.core.display.HTML object>"
            ]
          },
          "metadata": {
            "tags": []
          }
        },
        {
          "output_type": "stream",
          "text": [
            "[Succeeded / Failed / Total] 21 / 3 / 26: : 26it [06:59, 16.13s/it]"
          ],
          "name": "stderr"
        },
        {
          "output_type": "display_data",
          "data": {
            "text/html": [
              "<font color = red>Negative (70%)</font> --> <font color = gray>[SKIPPED]</font><br>Felix is watching an actor rehearse his lines: \"A ham, A ham! My kingdom for a ham sandwich!!!\" The dramatic guy that tells Felix he'll \"have to sacrifice my art and go into the movies.\" He's in tears. Felix just looks at him like he's nuts, and shrugs his shoulders. The old guy tells Felix to \"go ye forth\" and find money to finance a trip to Hollywood. Felix thinks, \"How does he expect me to get the money?\"<br /><br />In minutes, of course (this is a cartoon), he spots a shoe business owner putting up a \"bankrupt\" sale on his store. Felix comes up with a plan to bail him out and the man promises the cat $500 if it works.<br /><br />Well, it does but the man wants to go alone and leave Felix at home. In an outrageous scene, Felix transforms himself into a briefcase and that's how he gets to Hollywood, transforming himself back to cat when they get there.<br /><br />We then witness Felix's attempts at getting into show business. His audition scenes are very funny, especially with his imitation of Charlie Chaplin. In addition there are caricatures of some famous silent film stars and executives. In all, quite a bit of material is in this 9.5- minute cartoon. It's amazing how much more you can get in an extra 2.5 minutes, assuming most animated shorts are seven minutes in length.<br /><br />At any rate, there were a number of laughs in here and more zany things you could only see in a cartoon, like Felix have a sword duel with giant mosquitoes! Crazy stuff."
            ],
            "text/plain": [
              "<IPython.core.display.HTML object>"
            ]
          },
          "metadata": {
            "tags": []
          }
        },
        {
          "output_type": "stream",
          "text": [
            "\r[Succeeded / Failed / Total] 21 / 3 / 27: : 27it [06:59, 15.53s/it]"
          ],
          "name": "stderr"
        },
        {
          "output_type": "display_data",
          "data": {
            "text/html": [
              "<font color = green>Positive (98%)</font> --> <font color = red>Negative (100%)</font><br>While I can't say whether or not Larry Hama ever saw any of the old cartoons, I would think that writing said cartoons, file cards, and some of the comics would count for something.<br /><br />For fans of the old cartoon, this is pretty much a continuation of the same, except with a few new characters - and a more insane Cobra Commander.<br /><br />We still have all the old favorites too, but on a personal note, one thing that always irritated me was this \"Duke in charge\" stuff, when there are tons of other *officers* around instead.<br /><br />The battle sequences are similar to the old series as well; the main trick here seems to be the CGI. It's overall pretty <font color = green>good</font>, if not a little over-the-top.<br>While I can't say whether or not Larry Hama ever saw any of the old cartoons, I would think that writing said cartoons, file cards, and some of the comics would count for something.<br /><br />For fans of the old cartoon, this is pretty much a continuation of the same, except with a few new characters - and a more insane Cobra Commander.<br /><br />We still have all the old favorites too, but on a personal note, one thing that always irritated me was this \"Duke in charge\" stuff, when there are tons of other *officers* around instead.<br /><br />The battle sequences are similar to the old series as well; the main trick here seems to be the CGI. It's overall pretty <font color = red>bad</font>, if not a little over-the-top."
            ],
            "text/plain": [
              "<IPython.core.display.HTML object>"
            ]
          },
          "metadata": {
            "tags": []
          }
        },
        {
          "output_type": "stream",
          "text": [
            "[Succeeded / Failed / Total] 22 / 3 / 28: : 28it [07:06, 15.22s/it]"
          ],
          "name": "stderr"
        },
        {
          "output_type": "stream",
          "text": [
            "+-------------------------------+--------+\n",
            "| Attack Results                |        |\n",
            "+-------------------------------+--------+\n",
            "| Number of successful attacks: | 22     |\n",
            "| Number of failed attacks:     | 3      |\n",
            "| Number of skipped attacks:    | 3      |\n",
            "| Original accuracy:            | 89.29% |\n",
            "| Accuracy under attack:        | 10.71% |\n",
            "| Attack success rate:          | 88.0%  |\n",
            "| Average perturbed word %:     | 5.2%   |\n",
            "| Average num. words per input: | 244.71 |\n",
            "| Avg num queries:              | 434.92 |\n",
            "+-------------------------------+--------+"
          ],
          "name": "stdout"
        },
        {
          "output_type": "stream",
          "text": [
            "\n",
            "\u001b[34;1mtextattack\u001b[0m: Attack time: 426.0297956466675s\n"
          ],
          "name": "stderr"
        }
      ]
    },
    {
      "cell_type": "markdown",
      "metadata": {
        "id": "QIX9bat80FLW"
      },
      "source": [
        "## Attacking using Textfooler's recipe:"
      ]
    },
    {
      "cell_type": "code",
      "metadata": {
        "colab": {
          "base_uri": "https://localhost:8080/",
          "height": 1000
        },
        "id": "tf6fXfRDjzsa",
        "outputId": "e3fb5296-e2cf-48b3-d489-ba1de3b60e33"
      },
      "source": [
        "# Attacking and printing results\n",
        "from collections import deque\n",
        "\n",
        "import textattack\n",
        "import tqdm\n",
        "import time\n",
        "from IPython.display import display, HTML\n",
        "num_examples = 25\n",
        "num_remaining_attacks = num_examples\n",
        "pbar = tqdm.tqdm(total=num_remaining_attacks, smoothing=0)\n",
        "\n",
        "worklist = deque(range(0, num_examples))\n",
        "worklist_tail = worklist[-1]\n",
        "\n",
        "attack_log_manager = textattack.loggers.AttackLogManager()\n",
        "\n",
        "load_time = time.time()\n",
        "        \n",
        "num_results = 0\n",
        "num_failures = 0\n",
        "num_successes = 0\n",
        "for result in attack1.attack_dataset(dataset, indices=worklist):\n",
        "    result_html_str = result.__str__(color_method=\"html\").replace(\"\\n\\n\", \"<br>\")\n",
        "    display(HTML(result_html_str))\n",
        "    attack_log_manager.log_result(result)\n",
        "            \n",
        "    if not isinstance(result, textattack.attack_results.SkippedAttackResult):\n",
        "        pbar.update(1)\n",
        "    else:\n",
        "        worklist_tail += 1\n",
        "        pbar.update(1)\n",
        "        worklist.append(worklist_tail)\n",
        "\n",
        "    num_results += 1\n",
        "\n",
        "    if (\n",
        "        type(result) == textattack.attack_results.SuccessfulAttackResult\n",
        "        or type(result) == textattack.attack_results.MaximizedAttackResult\n",
        "    ):\n",
        "        num_successes += 1\n",
        "                \n",
        "    if type(result) == textattack.attack_results.FailedAttackResult:\n",
        "        num_failures += 1\n",
        "    pbar.set_description(\n",
        "        \"[Succeeded / Failed / Total] {} / {} / {}\".format(\n",
        "            num_successes, num_failures, num_results\n",
        "        )\n",
        "    )\n",
        "\n",
        "pbar.close()\n",
        "\n",
        "attack_log_manager.enable_stdout()\n",
        "attack_log_manager.log_summary()\n",
        "attack_log_manager.flush()\n",
        "        \n",
        "textattack.shared.logger.info(f\"Attack time: {time.time() - load_time}s\")"
      ],
      "execution_count": 20,
      "outputs": [
        {
          "output_type": "stream",
          "text": [
            "\r  0%|          | 0/25 [00:00<?, ?it/s]"
          ],
          "name": "stderr"
        },
        {
          "output_type": "display_data",
          "data": {
            "text/html": [
              "<font color = green>Positive (100%)</font> --> <font color = red>Negative (64%)</font><br>I went and saw this movie last night after being coaxed to by a few friends of mine. I'll admit that I was <font color = green>reluctant</font> to <font color = green>see</font> it because from what I knew of Ashton Kutcher he was only able to do comedy. I was wrong. Kutcher played the character of Jake Fischer very well, and Kevin Costner played Ben Randall with such professionalism. The sign of a <font color = green>good</font> movie is that it can toy with our <font color = green>emotions</font>. This one did exactly that. The entire theater (which was sold out) was <font color = green>overcome</font> by laughter during the first half of the movie, and were moved to tears during the second half. While exiting the theater I not only saw many women in tears, but many full grown men as well, trying desperately not to let anyone see them crying. This movie was <font color = green>great</font>, and I suggest that you go see it before you <font color = green>judge</font>.<br>I went and saw this movie last night after being coaxed to by a few friends of mine. I'll admit that I was <font color = red>impervious</font> to <font color = red>consult</font> it because from what I knew of Ashton Kutcher he was only able to do comedy. I was wrong. Kutcher played the character of Jake Fischer very well, and Kevin Costner played Ben Randall with such professionalism. The sign of a <font color = red>adequate</font> movie is that it can toy with our <font color = red>sentiments</font>. This one did exactly that. The entire theater (which was sold out) was <font color = red>overcoming</font> by laughter during the first half of the movie, and were moved to tears during the second half. While exiting the theater I not only saw many women in tears, but many full grown men as well, trying desperately not to let anyone see them crying. This movie was <font color = red>gargantuan</font>, and I suggest that you go see it before you <font color = red>deem</font>."
            ],
            "text/plain": [
              "<IPython.core.display.HTML object>"
            ]
          },
          "metadata": {
            "tags": []
          }
        },
        {
          "output_type": "stream",
          "text": [
            "[Succeeded / Failed / Total] 1 / 0 / 1:   4%|▍         | 1/25 [00:08<03:23,  8.47s/it]"
          ],
          "name": "stderr"
        },
        {
          "output_type": "display_data",
          "data": {
            "text/html": [
              "<font color = green>Positive (94%)</font> --> <font color = red>Negative (96%)</font><br>Actor turned director Bill Paxton follows up his promising debut, the Gothic-horror \"Frailty\", with this family friendly sports drama about the 1913 U.S. Open where a young American caddy rises from his humble background to play against his Bristish idol in what was dubbed as \"The Greatest Game Ever Played.\" I'm no fan of golf, and these scrappy underdog sports flicks are a dime a dozen (most recently done to grand effect with \"Miracle\" and \"Cinderella Man\"), but some how this film was <font color = green>enthralling</font> all the same.<br /><br />The film starts with some creative opening credits (imagine a Disneyfied version of the animated opening credits of HBO's \"Carnivale\" and \"Rome\"), but lumbers along slowly for its first by-the-numbers hour. Once the action moves to the U.S. Open things pick up very well. Paxton does a nice job and shows a knack for effective directorial flourishes (I loved the rain-soaked montage of the action on day two of the open) that propel the plot further or add some unexpected psychological depth to the proceedings. There's some compelling character development when the British Harry Vardon is haunted by images of the aristocrats in black suits and top hats who destroyed his family cottage as a child to make way for a golf course. He also does a good job of visually depicting what goes on in the players' heads under pressure. Golf, a painfully boring sport, is brought vividly alive here. Credit should also be given the set designers and costume department for creating an engaging period-piece atmosphere of London and Boston at the beginning of the twentieth century.<br /><br />You know how this is going to end not only because it's based on a true story but also because films in this genre follow the same template over and over, but Paxton puts on a better than average show and perhaps indicates more talent behind the camera than he ever had in front of it. Despite the formulaic nature, this is a nice and easy film to root for that deserves to find an audience.<br>Actor turned director Bill Paxton follows up his promising debut, the Gothic-horror \"Frailty\", with this family friendly sports drama about the 1913 U.S. Open where a young American caddy rises from his humble background to play against his Bristish idol in what was dubbed as \"The Greatest Game Ever Played.\" I'm no fan of golf, and these scrappy underdog sports flicks are a dime a dozen (most recently done to grand effect with \"Miracle\" and \"Cinderella Man\"), but some how this film was <font color = red>entrancing</font> all the same.<br /><br />The film starts with some creative opening credits (imagine a Disneyfied version of the animated opening credits of HBO's \"Carnivale\" and \"Rome\"), but lumbers along slowly for its first by-the-numbers hour. Once the action moves to the U.S. Open things pick up very well. Paxton does a nice job and shows a knack for effective directorial flourishes (I loved the rain-soaked montage of the action on day two of the open) that propel the plot further or add some unexpected psychological depth to the proceedings. There's some compelling character development when the British Harry Vardon is haunted by images of the aristocrats in black suits and top hats who destroyed his family cottage as a child to make way for a golf course. He also does a good job of visually depicting what goes on in the players' heads under pressure. Golf, a painfully boring sport, is brought vividly alive here. Credit should also be given the set designers and costume department for creating an engaging period-piece atmosphere of London and Boston at the beginning of the twentieth century.<br /><br />You know how this is going to end not only because it's based on a true story but also because films in this genre follow the same template over and over, but Paxton puts on a better than average show and perhaps indicates more talent behind the camera than he ever had in front of it. Despite the formulaic nature, this is a nice and easy film to root for that deserves to find an audience."
            ],
            "text/plain": [
              "<IPython.core.display.HTML object>"
            ]
          },
          "metadata": {
            "tags": []
          }
        },
        {
          "output_type": "stream",
          "text": [
            "[Succeeded / Failed / Total] 2 / 0 / 2:   8%|▊         | 2/25 [00:18<03:32,  9.25s/it]"
          ],
          "name": "stderr"
        },
        {
          "output_type": "display_data",
          "data": {
            "text/html": [
              "<font color = green>Positive (100%)</font> --> <font color = red>Negative (74%)</font><br>As a recreational golfer with some knowledge of the sport's history, I was pleased with Disney's <font color = green>sensitivity</font> to the issues of class in golf in the early twentieth century. The movie depicted well the psychological battles that Harry Vardon fought within himself, from his childhood trauma of being evicted to his own inability to break that glass ceiling that prevents him from being accepted as an equal in English golf society. Likewise, the young Ouimet goes through his own class struggles, being a mere caddie in the eyes of the upper crust Americans who <font color = green>scoff</font> at his attempts to rise above his standing. <br /><br />What I loved best, however, is how this theme of class is manifested in the characters of Ouimet's parents. His father is a working-class drone who sees the value of hard work but is intimidated by the upper class; his mother, however, recognizes her son's talent and desire and encourages him to pursue his dream of competing against those who think he is inferior.<br /><br /><font color = green>Finally</font>, the golf scenes are well photographed. Although the course used in the movie was not the actual site of the historical tournament, the little liberties <font color = green>taken</font> by Disney do not detract from the beauty of the film. There's one little Disney moment at the pool table; otherwise, the viewer does not really think Disney. The ending, as in \"Miracle,\" is not some Disney creation, but one that only human history could have written.<br>As a recreational golfer with some knowledge of the sport's history, I was pleased with Disney's <font color = red>receptive</font> to the issues of class in golf in the early twentieth century. The movie depicted well the psychological battles that Harry Vardon fought within himself, from his childhood trauma of being evicted to his own inability to break that glass ceiling that prevents him from being accepted as an equal in English golf society. Likewise, the young Ouimet goes through his own class struggles, being a mere caddie in the eyes of the upper crust Americans who <font color = red>mocked</font> at his attempts to rise above his standing. <br /><br />What I loved best, however, is how this theme of class is manifested in the characters of Ouimet's parents. His father is a working-class drone who sees the value of hard work but is intimidated by the upper class; his mother, however, recognizes her son's talent and desire and encourages him to pursue his dream of competing against those who think he is inferior.<br /><br /><font color = red>Trailing</font>, the golf scenes are well photographed. Although the course used in the movie was not the actual site of the historical tournament, the little liberties <font color = red>made</font> by Disney do not detract from the beauty of the film. There's one little Disney moment at the pool table; otherwise, the viewer does not really think Disney. The ending, as in \"Miracle,\" is not some Disney creation, but one that only human history could have written."
            ],
            "text/plain": [
              "<IPython.core.display.HTML object>"
            ]
          },
          "metadata": {
            "tags": []
          }
        },
        {
          "output_type": "stream",
          "text": [
            "[Succeeded / Failed / Total] 3 / 0 / 3:  12%|█▏        | 3/25 [00:28<03:26,  9.38s/it]"
          ],
          "name": "stderr"
        },
        {
          "output_type": "display_data",
          "data": {
            "text/html": [
              "<font color = green>Positive (100%)</font> --> <font color = red>Negative (59%)</font><br>I saw this film in a sneak preview, and it is delightful. The <font color = green>cinematography</font> is unusually creative, the acting is good, and the story is fabulous. <font color = green>If</font> this movie <font color = green>does</font> not do well, it won't be because it doesn't deserve to. Before this film, I didn't realize how charming Shia Lebouf could be. He does a marvelous, self-contained, job as the lead. There's something incredibly sweet about him, and it makes the movie even better. The other actors do a good job as well, and the film contains moments of really high suspense, more than one might expect from a movie about golf. Sports movies are a dime a dozen, but this one <font color = green>stands</font> out. <br /><br />This is one I'd recommend to anyone.<br>I saw this film in a sneak preview, and it is delightful. The <font color = red>cinematographer</font> is unusually creative, the acting is good, and the story is fabulous. <font color = red>So</font> this movie <font color = red>did</font> not do well, it won't be because it doesn't deserve to. Before this film, I didn't realize how charming Shia Lebouf could be. He does a marvelous, self-contained, job as the lead. There's something incredibly sweet about him, and it makes the movie even better. The other actors do a good job as well, and the film contains moments of really high suspense, more than one might expect from a movie about golf. Sports movies are a dime a dozen, but this one <font color = red>newsstands</font> out. <br /><br />This is one I'd recommend to anyone."
            ],
            "text/plain": [
              "<IPython.core.display.HTML object>"
            ]
          },
          "metadata": {
            "tags": []
          }
        },
        {
          "output_type": "stream",
          "text": [
            "[Succeeded / Failed / Total] 4 / 0 / 4:  16%|█▌        | 4/25 [00:33<02:54,  8.29s/it]"
          ],
          "name": "stderr"
        },
        {
          "output_type": "display_data",
          "data": {
            "text/html": [
              "<font color = green>Positive (100%)</font> --> <font color = red>Negative (52%)</font><br><font color = green>Bill</font> Paxton has taken the true <font color = green>story</font> of the 1913 <font color = green>US</font> golf open and made a film that is about much more than an extra-ordinary game of golf. The film also deals directly with the <font color = green>class</font> tensions of the <font color = green>early</font> <font color = green>twentieth</font> century and touches upon the profound anti-Catholic prejudices of both the British and <font color = green>American</font> <font color = green>establishments</font>. <font color = green>But</font> at <font color = green>heart</font> the <font color = green>film</font> is about that perennial favourite of <font color = green>triumph</font> against the odds.<br /><br />The acting is exemplary throughout. <font color = green>Stephen</font> Dillane is excellent as <font color = green>usual</font>, but the <font color = green>revelation</font> of the movie is Shia LaBoeuf who <font color = green>delivers</font> a <font color = green>disciplined</font>, dignified and <font color = green>highly</font> <font color = green>sympathetic</font> <font color = green>performance</font> as a <font color = green>working</font> <font color = green>class</font> Franco-Irish <font color = green>kid</font> <font color = green>fighting</font> his <font color = green>way</font> through the <font color = green>prejudices</font> of the <font color = green>New</font> England WASP <font color = green>establishment</font>. <font color = green>For</font> those who are only <font color = green>familiar</font> with his slap-stick <font color = green>performances</font> in \"<font color = green>Even</font> Stevens\" this <font color = green>demonstration</font> of his maturity is a delightful surprise. And Josh Flitter as the ten year <font color = green>old</font> caddy threatens to steal every scene in which he <font color = green>appears</font>.<br /><br />A <font color = green>old</font> fashioned <font color = green>movie</font> in the best <font color = green>sense</font> of the <font color = green>word</font>: fine acting, clear <font color = green>directing</font> and a <font color = green>great</font> <font color = green>story</font> that grips to the end - the <font color = green>final</font> scene an <font color = green>affectionate</font> nod to Casablanca is just one of the many pleasures that fill a great movie.<br><font color = red>Laws</font> Paxton has taken the true <font color = red>narratives</font> of the 1913 <font color = red>AMERICAS</font> golf open and made a film that is about much more than an extra-ordinary game of golf. The film also deals directly with the <font color = red>kind</font> tensions of the <font color = red>rapid</font> <font color = red>thirtieth</font> century and touches upon the profound anti-Catholic prejudices of both the British and <font color = red>Us</font> <font color = red>centre</font>. <font color = red>Yet</font> at <font color = red>crux</font> the <font color = red>filmmaking</font> is about that perennial favourite of <font color = red>gaining</font> against the odds.<br /><br />The acting is exemplary throughout. <font color = red>Steven</font> Dillane is excellent as <font color = red>daily</font>, but the <font color = red>apocalypse</font> of the movie is Shia LaBoeuf who <font color = red>delivering</font> a <font color = red>regimented</font>, dignified and <font color = red>impossibly</font> <font color = red>favourable</font> <font color = red>execute</font> as a <font color = red>collaborative</font> <font color = red>classes</font> Franco-Irish <font color = red>children</font> <font color = red>hostilities</font> his <font color = red>trajectory</font> through the <font color = red>endanger</font> of the <font color = red>Nouveau</font> England WASP <font color = red>established</font>. <font color = red>Among</font> those who are only <font color = red>customary</font> with his slap-stick <font color = red>representations</font> in \"<font color = red>Indeed</font> Stevens\" this <font color = red>displayed</font> of his maturity is a delightful surprise. And Josh Flitter as the ten year <font color = red>ancestral</font> caddy threatens to steal every scene in which he <font color = red>appear</font>.<br /><br />A <font color = red>lapsed</font> fashioned <font color = red>films</font> in the best <font color = red>premonition</font> of the <font color = red>nutshell</font>: fine acting, clear <font color = red>instructing</font> and a <font color = red>vast</font> <font color = red>history</font> that grips to the end - the <font color = red>past</font> scene an <font color = red>oi</font> nod to Casablanca is just one of the many pleasures that fill a great movie."
            ],
            "text/plain": [
              "<IPython.core.display.HTML object>"
            ]
          },
          "metadata": {
            "tags": []
          }
        },
        {
          "output_type": "stream",
          "text": [
            "[Succeeded / Failed / Total] 5 / 0 / 5:  20%|██        | 5/25 [01:12<04:48, 14.44s/it]"
          ],
          "name": "stderr"
        },
        {
          "output_type": "display_data",
          "data": {
            "text/html": [
              "<font color = green>Positive (100%)</font> --> <font color = red>Negative (65%)</font><br>I <font color = green>saw</font> this film on September 1st, 2005 in Indianapolis. I am one of the judges for the <font color = green>Heartland</font> Film Festival that screens films for their Truly Moving Picture Award. <font color = green>A</font> <font color = green>Truly</font> Moving Picture \"...<font color = green>explores</font> the human journey by <font color = green>artistically</font> expressing hope and respect for the positive values of life.\" Heartland gave that award to this film.<br /><br />This is a story of golf in the early part of the 20th century. At that time, it was the game of upper class and rich \"<font color = green>gentlemen</font>\", and working people could only participate by being caddies at country clubs. With this backdrop, this based-on-a-true-story unfolds with a young, working class boy who takes on the golf establishment and the greatest golfer in the world, Harry Vardon.<br /><br />And the story is <font color = green>inspirational</font>. Against all odds, Francis Ouimet (played by Shia LaBeouf of \"<font color = green>Holes</font>\") gets to compete against the greatest <font color = green>golfers</font> of the U.S. and Great Britain at the 1913 U.S. Open. Francis is ill-prepared, and has a child for a caddy. (The caddy is hilarious and motivational and steals every scene he appears in.) But despite these handicaps, Francis displays courage, spirit, heroism, and humility at this world class event.<br /><br />And, we learn a lot about the early years of golf; for example, the use of small wooden clubs, the layout of the short holes, the <font color = green>manual</font> scoreboard, the golfers swinging with pipes in their mouths, the terrible conditions of the greens and fairways, and the play not being canceled even in torrential rain.<br /><br />This film has stunning cinematography and art direction and editing. And with no big movie stars, the story is somehow more believable.<br /><br />This adds to the inventory of great sports movies in the vein of \"Miracle\" and \"Remember the Titans.\"<br /><br />FYI - There is a Truly Moving Pictures web site where there is a listing of past winners going back 70 years.<br>I <font color = red>complied</font> this film on September 1st, 2005 in Indianapolis. I am one of the judges for the <font color = red>Centre</font> Film Festival that screens films for their Truly Moving Picture Award. <font color = red>una</font> <font color = red>Awfully</font> Moving Picture \"...<font color = red>reviewed</font> the human journey by <font color = red>tastefully</font> expressing hope and respect for the positive values of life.\" Heartland gave that award to this film.<br /><br />This is a story of golf in the early part of the 20th century. At that time, it was the game of upper class and rich \"<font color = red>sir</font>\", and working people could only participate by being caddies at country clubs. With this backdrop, this based-on-a-true-story unfolds with a young, working class boy who takes on the golf establishment and the greatest golfer in the world, Harry Vardon.<br /><br />And the story is <font color = red>soulful</font>. Against all odds, Francis Ouimet (played by Shia LaBeouf of \"<font color = red>Voids</font>\") gets to compete against the greatest <font color = red>putter</font> of the U.S. and Great Britain at the 1913 U.S. Open. Francis is ill-prepared, and has a child for a caddy. (The caddy is hilarious and motivational and steals every scene he appears in.) But despite these handicaps, Francis displays courage, spirit, heroism, and humility at this world class event.<br /><br />And, we learn a lot about the early years of golf; for example, the use of small wooden clubs, the layout of the short holes, the <font color = red>buch</font> scoreboard, the golfers swinging with pipes in their mouths, the terrible conditions of the greens and fairways, and the play not being canceled even in torrential rain.<br /><br />This film has stunning cinematography and art direction and editing. And with no big movie stars, the story is somehow more believable.<br /><br />This adds to the inventory of great sports movies in the vein of \"Miracle\" and \"Remember the Titans.\"<br /><br />FYI - There is a Truly Moving Pictures web site where there is a listing of past winners going back 70 years."
            ],
            "text/plain": [
              "<IPython.core.display.HTML object>"
            ]
          },
          "metadata": {
            "tags": []
          }
        },
        {
          "output_type": "stream",
          "text": [
            "[Succeeded / Failed / Total] 6 / 0 / 6:  24%|██▍       | 6/25 [02:26<07:44, 24.44s/it]"
          ],
          "name": "stderr"
        },
        {
          "output_type": "display_data",
          "data": {
            "text/html": [
              "<font color = green>Positive (97%)</font> --> <font color = red>Negative (51%)</font><br><font color = green>Maybe</font> I'm reading into this too much, but I wonder how much of a hand Hongsheng had in developing the film. I mean, when a story is told casting the main character as himself, I would think he would be a heavy hand in writing, documenting, etc. and that would make it a little biased.<br /><br />But...his family and friends also may have had a hand in getting the actual details about Hongsheng's life. I think the best view would have been <font color = green>told</font> from Hongsheng's family and friends' perspectives. They saw his transformation and weren't so messed up on drugs that they remember everything.<br /><br />As for Hongsheng being full of himself, the consistencies of the Jesus Christ pose make him appear as a martyr who sacrificed his life (metaphorically, of course, he's obviously still alive as he was cast as himself) for his family's happiness. Huh?<br /><br />The viewer sees him at his lowest points while still maintaining a superiority complex. He lies on the grass coming down from (during?) a high by himself and with his father, he contemplates life and has visions of dragons at his window, he celebrates his freedom on a bicycle all while outstretching his arms, his head cocked to the side.<br /><br />It's fabulous that he's off of drugs now, but he's no hero. He went from a high point in his career in acting to his most vulnerable point while on drugs to come back somewhere in the middle.<br /><br />This same device is used in Ted Demme's \"Blow\" where the audience empathizes with the main character who is shown as a flawed hero.<br /><br />However, \"Quitting\" (\"Zuotian\") is a film that is recommended, mostly for its haunting soundtrack, superb acting, and landscapes. But, the best part is the feeling that one gets when what we presume to be the house of Jia Hongsheng is actually a stage setting for a play. It makes the viewer feel as if Hongsheng's life was merely a play told in many difficult parts.<br><font color = red>Ultimately</font> I'm reading into this too much, but I wonder how much of a hand Hongsheng had in developing the film. I mean, when a story is told casting the main character as himself, I would think he would be a heavy hand in writing, documenting, etc. and that would make it a little biased.<br /><br />But...his family and friends also may have had a hand in getting the actual details about Hongsheng's life. I think the best view would have been <font color = red>said</font> from Hongsheng's family and friends' perspectives. They saw his transformation and weren't so messed up on drugs that they remember everything.<br /><br />As for Hongsheng being full of himself, the consistencies of the Jesus Christ pose make him appear as a martyr who sacrificed his life (metaphorically, of course, he's obviously still alive as he was cast as himself) for his family's happiness. Huh?<br /><br />The viewer sees him at his lowest points while still maintaining a superiority complex. He lies on the grass coming down from (during?) a high by himself and with his father, he contemplates life and has visions of dragons at his window, he celebrates his freedom on a bicycle all while outstretching his arms, his head cocked to the side.<br /><br />It's fabulous that he's off of drugs now, but he's no hero. He went from a high point in his career in acting to his most vulnerable point while on drugs to come back somewhere in the middle.<br /><br />This same device is used in Ted Demme's \"Blow\" where the audience empathizes with the main character who is shown as a flawed hero.<br /><br />However, \"Quitting\" (\"Zuotian\") is a film that is recommended, mostly for its haunting soundtrack, superb acting, and landscapes. But, the best part is the feeling that one gets when what we presume to be the house of Jia Hongsheng is actually a stage setting for a play. It makes the viewer feel as if Hongsheng's life was merely a play told in many difficult parts."
            ],
            "text/plain": [
              "<IPython.core.display.HTML object>"
            ]
          },
          "metadata": {
            "tags": []
          }
        },
        {
          "output_type": "stream",
          "text": [
            "[Succeeded / Failed / Total] 7 / 0 / 7:  28%|██▊       | 7/25 [02:37<06:45, 22.52s/it]"
          ],
          "name": "stderr"
        },
        {
          "output_type": "display_data",
          "data": {
            "text/html": [
              "<font color = green>Positive (97%)</font> --> <font color = red>Negative (52%)</font><br>I <font color = green>felt</font> this film did have many good qualities. The cinematography was certainly different exposing the stage aspect of the set and story. The original characters as actors was certainly an achievement and I felt most played quite convincingly, of course they are playing themselves, but definitely unique. The cultural aspects may leave many disappointed as a familiarity with the Chinese and Oriental culture will answer a lot of questions regarding parent/child relationships and the stigma that goes with any drug use. I found the Jia Hongsheng story interesting. On a down note, the story is in Beijing and some of the fashion and music reek of early 90s even though this was made in 2001, so it's really cheesy sometimes (the Beatles crap, etc). Whatever, not a top ten or twenty but if it's on the television, <font color = green>check</font> it out.<br>I <font color = red>supposed</font> this film did have many good qualities. The cinematography was certainly different exposing the stage aspect of the set and story. The original characters as actors was certainly an achievement and I felt most played quite convincingly, of course they are playing themselves, but definitely unique. The cultural aspects may leave many disappointed as a familiarity with the Chinese and Oriental culture will answer a lot of questions regarding parent/child relationships and the stigma that goes with any drug use. I found the Jia Hongsheng story interesting. On a down note, the story is in Beijing and some of the fashion and music reek of early 90s even though this was made in 2001, so it's really cheesy sometimes (the Beatles crap, etc). Whatever, not a top ten or twenty but if it's on the television, <font color = red>monitored</font> it out."
            ],
            "text/plain": [
              "<IPython.core.display.HTML object>"
            ]
          },
          "metadata": {
            "tags": []
          }
        },
        {
          "output_type": "stream",
          "text": [
            "[Succeeded / Failed / Total] 8 / 0 / 8:  32%|███▏      | 8/25 [02:42<05:46, 20.37s/it]"
          ],
          "name": "stderr"
        },
        {
          "output_type": "display_data",
          "data": {
            "text/html": [
              "<font color = green>Positive (100%)</font> --> <font color = red>Negative (84%)</font><br>This movie is <font color = green>amazing</font> <font color = green>because</font> the <font color = green>fact</font> that the <font color = green>real</font> people portray themselves and their <font color = green>real</font> life experience and <font color = green>do</font> such a good job it's like they're almost living the past over again. <font color = green>Jia</font> Hongsheng plays himself an <font color = green>actor</font> who quit everything except music and drugs struggling with depression and searching for the meaning of life while being angry at everyone especially the people who care for him most. There's moments in the movie that will make you wanna cry because the family especially the <font color = green>father</font> did such a good job. <font color = green>However</font>, this movie is not for everyone. Many people who suffer from depression will understand Hongsheng's problem and why he does the things he does for example keep himself shut in a dark room or go for walks or bike rides by himself. <font color = green>Others</font> <font color = green>might</font> <font color = green>see</font> the <font color = green>movie</font> as boring <font color = green>because</font> it's just so real that its almost like a documentary. <font color = green>Overall</font> this movie is great and Hongsheng deserved an Oscar for this movie <font color = green>so</font> did his <font color = green>Dad</font>.<br>This movie is <font color = red>unbelievable</font> <font color = red>than</font> the <font color = red>fait</font> that the <font color = red>veritable</font> people portray themselves and their <font color = red>factual</font> life experience and <font color = red>know</font> such a good job it's like they're almost living the past over again. <font color = red>Kin</font> Hongsheng plays himself an <font color = red>performers</font> who quit everything except music and drugs struggling with depression and searching for the meaning of life while being angry at everyone especially the people who care for him most. There's moments in the movie that will make you wanna cry because the family especially the <font color = red>dadda</font> did such a good job. <font color = red>Similarly</font>, this movie is not for everyone. Many people who suffer from depression will understand Hongsheng's problem and why he does the things he does for example keep himself shut in a dark room or go for walks or bike rides by himself. <font color = red>Wounds</font> <font color = red>perils</font> <font color = red>know</font> the <font color = red>teatro</font> as boring <font color = red>for</font> it's just so real that its almost like a documentary. <font color = red>Amounting</font> this movie is great and Hongsheng deserved an Oscar for this movie <font color = red>again</font> did his <font color = red>Papi</font>."
            ],
            "text/plain": [
              "<IPython.core.display.HTML object>"
            ]
          },
          "metadata": {
            "tags": []
          }
        },
        {
          "output_type": "stream",
          "text": [
            "[Succeeded / Failed / Total] 9 / 0 / 9:  36%|███▌      | 9/25 [02:58<05:16, 19.79s/it]"
          ],
          "name": "stderr"
        },
        {
          "output_type": "display_data",
          "data": {
            "text/html": [
              "<font color = green>Positive (100%)</font> --> <font color = red>Negative (63%)</font><br>\"<font color = green>Quitting</font>\" may be as much about exiting a pre-ordained identity as about drug withdrawal. As a rural guy coming to Beijing, class and success must have struck this young artist face on as an appeal to separate from his roots and far <font color = green>surpass</font> his peasant parents' acting success. Troubles arise, however, when the new man is too new, when it demands too big a departure from family, history, nature, and personal identity. The ensuing splits, and confusion between the imaginary and the real and the dissonance between the ordinary and the heroic are the stuff of a gut check on the one hand or a complete escape from self on the other. Hongshen slips into the latter and his long and lonely road back to self can be grim.<br /><br />But what an exceptionally convincing particularity, honesty, and sensuousness director Zhang Yang, and his actors, <font color = green>bring</font> to this journey. <font color = green>No</font> clichés, no stereotypes, no rigid gender roles, no requisite sex, romance or violence scenes, no requisite <font color = green>street</font> language and, to boot, no assumed money to float character acts and whims. <br /><br />Hongshen Jia is in his mid-twenties. He's a talented actor, impressionable, vain, idealistic, and perhaps emotionally starved. The perfect recipe for his enablers. Soon he's the \"cool\" actor, idolized by youth. \"He was hot in the early nineties.\" \"He always had to be the most fashionable.\" He needs extremes, and goes in for heavy metal, adopts earrings and a scarf. His acting means the arts, friends--and roles, But not the kind that offer any personal challenge or input. And his self-criticism, dulled by the immediacy of success, opens the doors to an irrational self-doubt, self-hatred-- \"I didn't know how to act\" \"I felt like a phony\"--and to readily available drugs to counter them. He says \"I had to get high to do what director wanted.\" So, his shallow identity as an actor becomes, via drugs, an escape from identity. <br /><br />Hongshen's disengagement from drugs and his false life is very gradual, intermittent--and doggedly his own. Solitude, space, meditative thinking, speech refusal, replace therapy. The abstract is out. And a great deal of his change occurs outdoors---not in idealized locations but mainly on green patches under the freeways, bridges, and high-rises of Beijing. The physicality is almost romantic, but is not. The bike rides to Ritan Park, the long spontaneous walks, the drenching sun and rain, grassy picnics, the sky patterns and kites that absorb his musing are very specific. He drifts in order to arrive, all the while picking up cues to a more real and realistic identity. \"I started to open up\" he says of this period in retrospect. And the contact seems to start with his lanky body which projects a kind of dancer's positioning (clumsy, graceful, humorous, telling) in a current circumstance. If mind or spirit is lacking, his legs can compel him to walk all night. <br /><br />Central to his comeback is the rejection of set roles. To punctuate his end to acting and his determination to a new identity, he smashes his videos and TV, and bangs his head till bloody against his \"John Lennon Forever\" poster. He has let down his iconic anti-establishment artist---but he's the only viable guide he knows. He even imagines himself as John's son (Yoko Ono), and adopts his \"Mother Mary\" as an intercessor in his \"hour of darkness\" and \"time of trouble.\" (the wrenching, shaking pain in the park--hallucinatory and skitzoid ordeals) \"Music is so much more real than acting\" he says. And speaks of Lennon's influence as \"showing me a new way.\" In the mental institute, the life-saving apples (resistance, nourishment) reflect Lennon's presence, as does Hongshen's need to re-hang his hero's poster in his redecorated room.<br /><br />If Lennon's influence is spiriting, Hongshen's father's influence is grounding. Although father and son are both actors and users (drugs and drink), it is Fegsen's differences from his son that underwrites his change. For the father is more secure in himself: he accepts that he's Chinese, a peasant in a line of peasants, a rural theater director. And he exercises control over both his habit and his emotions. It's this recognizable identity that drives Hongshen to treat him like a sounding board, sometimes with anger and rage, sometimes with humor (the blue jeans, Beatles) and passivity. In his most crazed, and violent exchange with his father in which he accuses him of being a liar, and a fake, he exposes more of himself than his father: \"all the acts I acted before were bullshit... life is bullshit.\" And to Hongshen's emphatic \"you are NOT my father,\" he softly replies, \"why can't a peasant be your father?\" <br /><br />Under these two teachers and with much additional help from his mother, sister, friends, inmates at the rehab inst., he makes some tangible connection to a real (not whole) self. As the long term drug effects recede, so does his old identity. Indebtedness replaces pride, trust distrust. Integrity banishes his black cloud. All his edges soften. \"You are just a human being\" he repeats endlessly after being released from the strap-down incurred for refusing medicine. Back home, lard peasant soap is fine with him now. And his once \"rare and true friendships\" begin again as is so evident in the back to poignant back-to-back fence scene with his musician buddy. Hongshen says of this movie: \"it's a good chance to think about my life.\" And I might add, become a New Actor, one bound to art and life. Like Lennon, he has gained success without a loss of identity.<br>\"<font color = red>Smoke</font>\" may be as much about exiting a pre-ordained identity as about drug withdrawal. As a rural guy coming to Beijing, class and success must have struck this young artist face on as an appeal to separate from his roots and far <font color = red>outrun</font> his peasant parents' acting success. Troubles arise, however, when the new man is too new, when it demands too big a departure from family, history, nature, and personal identity. The ensuing splits, and confusion between the imaginary and the real and the dissonance between the ordinary and the heroic are the stuff of a gut check on the one hand or a complete escape from self on the other. Hongshen slips into the latter and his long and lonely road back to self can be grim.<br /><br />But what an exceptionally convincing particularity, honesty, and sensuousness director Zhang Yang, and his actors, <font color = red>worn</font> to this journey. <font color = red>Nada</font> clichés, no stereotypes, no rigid gender roles, no requisite sex, romance or violence scenes, no requisite <font color = red>saint</font> language and, to boot, no assumed money to float character acts and whims. <br /><br />Hongshen Jia is in his mid-twenties. He's a talented actor, impressionable, vain, idealistic, and perhaps emotionally starved. The perfect recipe for his enablers. Soon he's the \"cool\" actor, idolized by youth. \"He was hot in the early nineties.\" \"He always had to be the most fashionable.\" He needs extremes, and goes in for heavy metal, adopts earrings and a scarf. His acting means the arts, friends--and roles, But not the kind that offer any personal challenge or input. And his self-criticism, dulled by the immediacy of success, opens the doors to an irrational self-doubt, self-hatred-- \"I didn't know how to act\" \"I felt like a phony\"--and to readily available drugs to counter them. He says \"I had to get high to do what director wanted.\" So, his shallow identity as an actor becomes, via drugs, an escape from identity. <br /><br />Hongshen's disengagement from drugs and his false life is very gradual, intermittent--and doggedly his own. Solitude, space, meditative thinking, speech refusal, replace therapy. The abstract is out. And a great deal of his change occurs outdoors---not in idealized locations but mainly on green patches under the freeways, bridges, and high-rises of Beijing. The physicality is almost romantic, but is not. The bike rides to Ritan Park, the long spontaneous walks, the drenching sun and rain, grassy picnics, the sky patterns and kites that absorb his musing are very specific. He drifts in order to arrive, all the while picking up cues to a more real and realistic identity. \"I started to open up\" he says of this period in retrospect. And the contact seems to start with his lanky body which projects a kind of dancer's positioning (clumsy, graceful, humorous, telling) in a current circumstance. If mind or spirit is lacking, his legs can compel him to walk all night. <br /><br />Central to his comeback is the rejection of set roles. To punctuate his end to acting and his determination to a new identity, he smashes his videos and TV, and bangs his head till bloody against his \"John Lennon Forever\" poster. He has let down his iconic anti-establishment artist---but he's the only viable guide he knows. He even imagines himself as John's son (Yoko Ono), and adopts his \"Mother Mary\" as an intercessor in his \"hour of darkness\" and \"time of trouble.\" (the wrenching, shaking pain in the park--hallucinatory and skitzoid ordeals) \"Music is so much more real than acting\" he says. And speaks of Lennon's influence as \"showing me a new way.\" In the mental institute, the life-saving apples (resistance, nourishment) reflect Lennon's presence, as does Hongshen's need to re-hang his hero's poster in his redecorated room.<br /><br />If Lennon's influence is spiriting, Hongshen's father's influence is grounding. Although father and son are both actors and users (drugs and drink), it is Fegsen's differences from his son that underwrites his change. For the father is more secure in himself: he accepts that he's Chinese, a peasant in a line of peasants, a rural theater director. And he exercises control over both his habit and his emotions. It's this recognizable identity that drives Hongshen to treat him like a sounding board, sometimes with anger and rage, sometimes with humor (the blue jeans, Beatles) and passivity. In his most crazed, and violent exchange with his father in which he accuses him of being a liar, and a fake, he exposes more of himself than his father: \"all the acts I acted before were bullshit... life is bullshit.\" And to Hongshen's emphatic \"you are NOT my father,\" he softly replies, \"why can't a peasant be your father?\" <br /><br />Under these two teachers and with much additional help from his mother, sister, friends, inmates at the rehab inst., he makes some tangible connection to a real (not whole) self. As the long term drug effects recede, so does his old identity. Indebtedness replaces pride, trust distrust. Integrity banishes his black cloud. All his edges soften. \"You are just a human being\" he repeats endlessly after being released from the strap-down incurred for refusing medicine. Back home, lard peasant soap is fine with him now. And his once \"rare and true friendships\" begin again as is so evident in the back to poignant back-to-back fence scene with his musician buddy. Hongshen says of this movie: \"it's a good chance to think about my life.\" And I might add, become a New Actor, one bound to art and life. Like Lennon, he has gained success without a loss of identity."
            ],
            "text/plain": [
              "<IPython.core.display.HTML object>"
            ]
          },
          "metadata": {
            "tags": []
          }
        },
        {
          "output_type": "stream",
          "text": [
            "[Succeeded / Failed / Total] 10 / 0 / 10:  40%|████      | 10/25 [03:36<05:25, 21.68s/it]"
          ],
          "name": "stderr"
        },
        {
          "output_type": "display_data",
          "data": {
            "text/html": [
              "<font color = green>Positive (100%)</font> --> <font color = red>Negative (54%)</font><br>I <font color = green>loved</font> this movie from beginning to end.<font color = green>I</font> am a musician and i let drugs get in the way of my some of the things i used to love(<font color = green>skateboarding</font>,<font color = green>drawing</font>) but my friends were always there for me.Music was like my rehab,life support,and my drug.<font color = green>It</font> <font color = green>changed</font> my life.I can <font color = green>totally</font> relate to this movie and i <font color = green>wish</font> there was more i could say.This movie <font color = green>left</font> me speechless to be honest.I just <font color = green>saw</font> it on the Ifc channel.I usually <font color = green>hate</font> <font color = green>having</font> <font color = green>satellite</font> but this was a perk of having satellite.The ifc channel <font color = green>shows</font> some really great movies and without it I never would have found this <font color = green>movie</font>.Im not a big fan of the international <font color = green>films</font> because i find that a lot of the don't do a very good job on <font color = green>translating</font> <font color = green>lines</font>.I mean the <font color = green>obvious</font> language barrier leaves you to just believe <font color = green>thats</font> what they are <font color = green>saying</font> but its not that <font color = green>big</font> of a <font color = green>deal</font> i guess.<font color = green>I</font> almost never got to <font color = green>see</font> this AMAZING movie.Good thing i stayed up for it <font color = green>instead</font> of going to bed..<font color = green>well</font> earlier than <font color = green>usual</font>.lol.I hope you all enjoy the hell of this movie and Love this movie just as much as i <font color = green>did</font>.I <font color = green>wish</font> i could type this all in caps but its again the rules i guess thats shouting but it would really show my excitement for the film.I Give It Three Thumbs Way Up!<br /><br />This Movie Blew ME AWAY!<br>I <font color = red>iove</font> this movie from beginning to end.<font color = red>me</font> am a musician and i let drugs get in the way of my some of the things i used to love(<font color = red>snowboarding</font>,<font color = red>sketch</font>) but my friends were always there for me.Music was like my rehab,life support,and my drug.<font color = red>His</font> <font color = red>alteration</font> my life.I can <font color = red>keenly</font> relate to this movie and i <font color = red>yearns</font> there was more i could say.This movie <font color = red>exiting</font> me speechless to be honest.I just <font color = red>seemed</font> it on the Ifc channel.I usually <font color = red>disgust</font> <font color = red>bearing</font> <font color = red>satellites</font> but this was a perk of having satellite.The ifc channel <font color = red>expo</font> some really great movies and without it I never would have found this <font color = red>images</font>.Im not a big fan of the international <font color = red>filmmakers</font> because i find that a lot of the don't do a very good job on <font color = red>translates</font> <font color = red>tube</font>.I mean the <font color = red>blatant</font> language barrier leaves you to just believe <font color = red>actualy</font> what they are <font color = red>told</font> but its not that <font color = red>larger</font> of a <font color = red>deals</font> i guess.<font color = red>me</font> almost never got to <font color = red>heed</font> this AMAZING movie.Good thing i stayed up for it <font color = red>rather</font> of going to bed..<font color = red>okay</font> earlier than <font color = red>mundane</font>.lol.I hope you all enjoy the hell of this movie and Love this movie just as much as i <font color = red>got</font>.I <font color = red>wanted</font> i could type this all in caps but its again the rules i guess thats shouting but it would really show my excitement for the film.I Give It Three Thumbs Way Up!<br /><br />This Movie Blew ME AWAY!"
            ],
            "text/plain": [
              "<IPython.core.display.HTML object>"
            ]
          },
          "metadata": {
            "tags": []
          }
        },
        {
          "output_type": "stream",
          "text": [
            "[Succeeded / Failed / Total] 11 / 0 / 11:  44%|████▍     | 11/25 [04:08<05:16, 22.60s/it]"
          ],
          "name": "stderr"
        },
        {
          "output_type": "display_data",
          "data": {
            "text/html": [
              "<font color = green>Positive (100%)</font> --> <font color = red>Negative (52%)</font><br>I was fortunate to attend the London premier of this film. While I am not at all a fan of British drama, I did find myself <font color = green>deeply</font> moved by the <font color = green>characters</font> and the BAD <font color = green>CHOICES</font> they made. I was in <font color = green>tears</font> by the end of the film. Every scene was mesmerizing. The attention to <font color = green>detail</font> and the excellent acting was quite impressive.<br /><br />I would have to agree with some of the other comments here which question why all these women were throwing themselves at such a despicable character.<br /><br />*******SPOLIER ALERT******** I was also hoping that Dylan would have been killed by William when he had the chance! ****END SPOILER*****<br /><br />Keira Knightley did a great job and radiate beauty and innocence from the screen, but it was Sienna Miller's performance that was truly Oscar worthy.<br /><br />I am sure this production will be nominated for other awards.<br>I was fortunate to attend the London premier of this film. While I am not at all a fan of British drama, I did find myself <font color = red>intensively</font> moved by the <font color = red>character</font> and the BAD <font color = red>SELECTIONS</font> they made. I was in <font color = red>whimpering</font> by the end of the film. Every scene was mesmerizing. The attention to <font color = red>exhaustive</font> and the excellent acting was quite impressive.<br /><br />I would have to agree with some of the other comments here which question why all these women were throwing themselves at such a despicable character.<br /><br />*******SPOLIER ALERT******** I was also hoping that Dylan would have been killed by William when he had the chance! ****END SPOILER*****<br /><br />Keira Knightley did a great job and radiate beauty and innocence from the screen, but it was Sienna Miller's performance that was truly Oscar worthy.<br /><br />I am sure this production will be nominated for other awards."
            ],
            "text/plain": [
              "<IPython.core.display.HTML object>"
            ]
          },
          "metadata": {
            "tags": []
          }
        },
        {
          "output_type": "stream",
          "text": [
            "[Succeeded / Failed / Total] 12 / 0 / 12:  48%|████▊     | 12/25 [04:16<04:37, 21.37s/it]"
          ],
          "name": "stderr"
        },
        {
          "output_type": "display_data",
          "data": {
            "text/html": [
              "<font color = green>Positive (100%)</font> --> <font color = red>Negative (54%)</font><br>I first saw this movie on IFC. Which is a <font color = green>great</font> network by the <font color = green>way</font> to see <font color = green>underground</font> <font color = green>films</font>. I watched this movie and was thinking it was going to be pure drama and a story line that doesn't hold water. But it <font color = green>really</font> was a worth while watch. The main character is in such rough shape, and you hate to see him <font color = green>deny</font> <font color = green>help</font>, but no matter what you just can't hate him. His devotion to The <font color = green>Beatles</font> and John Lennon is a great metaphor for his life and the helplessness he feels. <br /><br />The <font color = green>atmosphere</font> of the film is also great. <font color = green>At</font> <font color = green>times</font>, you <font color = green>feel</font> like you can <font color = green>see</font> what he <font color = green>sees</font>, <font color = green>feel</font> what he <font color = green>feels</font> in some <font color = green>situations</font>. This movie <font color = green>does</font> not <font color = green>leave</font> you wanting to <font color = green>know</font> more, or disliking a loophole in the plot. There are NO loopholes (in my opinion). <font color = green>I</font> have always been a fan of foreign films, especially now with <font color = green>movies</font> being made so poorly in <font color = green>America</font>. I really enjoy the foreign settings because I feel it can take you on a trip, and sometimes understand a different culture. This movie did all those things to me and more. Please watch this movie and if you're new to foreign films, this is a great start.<br>I first saw this movie on IFC. Which is a <font color = red>sizable</font> network by the <font color = red>arteries</font> to see <font color = red>burrow</font> <font color = red>cinematographer</font>. I watched this movie and was thinking it was going to be pure drama and a story line that doesn't hold water. But it <font color = red>earnestly</font> was a worth while watch. The main character is in such rough shape, and you hate to see him <font color = red>dismiss</font> <font color = red>supports</font>, but no matter what you just can't hate him. His devotion to The <font color = red>Musician</font> and John Lennon is a great metaphor for his life and the helplessness he feels. <br /><br />The <font color = red>sentiment</font> of the film is also great. <font color = red>With</font> <font color = red>episodes</font>, you <font color = red>thinks</font> like you can <font color = red>consider</font> what he <font color = red>expect</font>, <font color = red>imagining</font> what he <font color = red>discovers</font> in some <font color = red>screenplay</font>. This movie <font color = red>did</font> not <font color = red>permit</font> you wanting to <font color = red>listened</font> more, or disliking a loophole in the plot. There are NO loopholes (in my opinion). <font color = red>me</font> have always been a fan of foreign films, especially now with <font color = red>drama</font> being made so poorly in <font color = red>Nous</font>. I really enjoy the foreign settings because I feel it can take you on a trip, and sometimes understand a different culture. This movie did all those things to me and more. Please watch this movie and if you're new to foreign films, this is a great start."
            ],
            "text/plain": [
              "<IPython.core.display.HTML object>"
            ]
          },
          "metadata": {
            "tags": []
          }
        },
        {
          "output_type": "stream",
          "text": [
            "[Succeeded / Failed / Total] 13 / 0 / 13:  52%|█████▏    | 13/25 [04:43<04:21, 21.82s/it]"
          ],
          "name": "stderr"
        },
        {
          "output_type": "display_data",
          "data": {
            "text/html": [
              "<font color = green>Positive (100%)</font> --> <font color = red>Negative (61%)</font><br>I must say, <font color = green>every</font> <font color = green>time</font> <font color = green>I</font> see this movie, I am <font color = green>deeply</font> <font color = green>touched</font>, not only by the most painful four years of Hongsheng's life, but also by how his family <font color = green>deals</font> with his drug addiction. It is also true that getting addicted to anything, such as drugs, alcohol, or pornography, cannot only hurt you, but also hurt your most important people in the world: your family. Since family is the #1 priority in the Asian culture, it takes guts for the circle to gather together and show one person how much the family loves him/her. this is <font color = green>actually</font> the first Chinese movie that I <font color = green>actually</font> <font color = green>enjoy</font>, not for the fun of it, but the elements surrounding it (superb <font color = green>acting</font>, <font color = green>touching</font> story, <font color = green>great</font> direction) make this movie worth watching. What stands out the most is that Hongsheng and his family act out the story themselves <font color = green>instead</font> of having some B-movie actor trying to <font color = green>imitate</font> the real <font color = green>person</font>. It shows the genuineness of the movie.<br>I must say, <font color = red>any</font> <font color = red>timetable</font> <font color = red>me</font> see this movie, I am <font color = red>heavily</font> <font color = red>afflicted</font>, not only by the most painful four years of Hongsheng's life, but also by how his family <font color = red>discuss</font> with his drug addiction. It is also true that getting addicted to anything, such as drugs, alcohol, or pornography, cannot only hurt you, but also hurt your most important people in the world: your family. Since family is the #1 priority in the Asian culture, it takes guts for the circle to gather together and show one person how much the family loves him/her. this is <font color = red>downright</font> the first Chinese movie that I <font color = red>essentially</font> <font color = red>enjoying</font>, not for the fun of it, but the elements surrounding it (superb <font color = red>behaved</font>, <font color = red>impact</font> story, <font color = red>super</font> direction) make this movie worth watching. What stands out the most is that Hongsheng and his family act out the story themselves <font color = red>again</font> of having some B-movie actor trying to <font color = red>reproduce</font> the real <font color = red>personnel</font>. It shows the genuineness of the movie."
            ],
            "text/plain": [
              "<IPython.core.display.HTML object>"
            ]
          },
          "metadata": {
            "tags": []
          }
        },
        {
          "output_type": "stream",
          "text": [
            "[Succeeded / Failed / Total] 14 / 0 / 14:  56%|█████▌    | 14/25 [04:58<03:54, 21.30s/it]"
          ],
          "name": "stderr"
        },
        {
          "output_type": "display_data",
          "data": {
            "text/html": [
              "<font color = green>Positive (96%)</font> --> <font color = red>Negative (78%)</font><br>My wife is a mental health therapist and we watched it from beginning to end. I am the typical man and can not stand chick flicks, but this movie is unbelievable. If you want to see what it is like for someone who is going through these type of struggles, this is the movie for you. As I watched it I found myself feeling sorry for him and others like him. <br /><br />***Spoiler*** Plus the fact that all the individuals in the movie including the people in the mental institution were the actual people in real life made it that more <font color = green>real</font>.<br /><br />A must see for someone in the mental health profession!<br>My wife is a mental health therapist and we watched it from beginning to end. I am the typical man and can not stand chick flicks, but this movie is unbelievable. If you want to see what it is like for someone who is going through these type of struggles, this is the movie for you. As I watched it I found myself feeling sorry for him and others like him. <br /><br />***Spoiler*** Plus the fact that all the individuals in the movie including the people in the mental institution were the actual people in real life made it that more <font color = red>rem</font>.<br /><br />A must see for someone in the mental health profession!"
            ],
            "text/plain": [
              "<IPython.core.display.HTML object>"
            ]
          },
          "metadata": {
            "tags": []
          }
        },
        {
          "output_type": "stream",
          "text": [
            "[Succeeded / Failed / Total] 15 / 0 / 15:  60%|██████    | 15/25 [05:01<03:20, 20.09s/it]"
          ],
          "name": "stderr"
        },
        {
          "output_type": "display_data",
          "data": {
            "text/html": [
              "<font color = green>Positive (100%)</font> --> <font color = red>Negative (99%)</font><br>I saw this film at the Rotterdam International Film Festival 2002. This seemed to be one of the less popular films on the festival, however, as it turned out, all the more <font color = green>interesting</font>.<br /><br />The story, of an actor trying to come to grips with himself and his environment after withdrawing from a drug addiction, is based on actual facts. Moreover, the characters playing in the film are the real people living this experience over again, this time for the film, which is partly set up as a stage play. Not only do they all happen to be good actors, Jia Hongsheng's parents are actors in real life as well, the methods used in highlighting their relationship towards Jia are very effective.<br /><br />Jia Hongsheng is the actor of some Chinese action films late eighties start nineties. Later you can see him in great films such as Frozen and Suzhou River. In between these two career paths Jia <font color = green>becomes</font> a drug addict and looses all drive to act or even do anything productive, except for making somewhat futile attempts at becoming a guitar virtuoso.<br /><br />I like the <font color = green>way</font> the writer of the scenario choose to emphasize on his behavior after withdrawal more than on the horror of drugs. We really feel the pain and struggle Jia is in. At the same time we hate him for the way he treats those around him.<br /><br />The film draws the viewer into a tiring pattern Jia seems to be caught in, dragging with him his parents and sister who try to take care of him. Because there are personal 'interviews' with the characters we feel like we are getting to know Jia not only through himself but through others as well.<br /><br />The film has a heavy feel, but scenes of Jia cycling through Bejing and partying with his friends lighten the tone. So does the bitter humor in a lot of events throughout the film. The music is beautiful and stayed with me for a while after. This is a film that might not easily appeal to many people but for those interested in the more serious and modern Chinese film this is a strong recommendation.<br>I saw this film at the Rotterdam International Film Festival 2002. This seemed to be one of the less popular films on the festival, however, as it turned out, all the more <font color = red>outlandish</font>.<br /><br />The story, of an actor trying to come to grips with himself and his environment after withdrawing from a drug addiction, is based on actual facts. Moreover, the characters playing in the film are the real people living this experience over again, this time for the film, which is partly set up as a stage play. Not only do they all happen to be good actors, Jia Hongsheng's parents are actors in real life as well, the methods used in highlighting their relationship towards Jia are very effective.<br /><br />Jia Hongsheng is the actor of some Chinese action films late eighties start nineties. Later you can see him in great films such as Frozen and Suzhou River. In between these two career paths Jia <font color = red>becoming</font> a drug addict and looses all drive to act or even do anything productive, except for making somewhat futile attempts at becoming a guitar virtuoso.<br /><br />I like the <font color = red>runways</font> the writer of the scenario choose to emphasize on his behavior after withdrawal more than on the horror of drugs. We really feel the pain and struggle Jia is in. At the same time we hate him for the way he treats those around him.<br /><br />The film draws the viewer into a tiring pattern Jia seems to be caught in, dragging with him his parents and sister who try to take care of him. Because there are personal 'interviews' with the characters we feel like we are getting to know Jia not only through himself but through others as well.<br /><br />The film has a heavy feel, but scenes of Jia cycling through Bejing and partying with his friends lighten the tone. So does the bitter humor in a lot of events throughout the film. The music is beautiful and stayed with me for a while after. This is a film that might not easily appeal to many people but for those interested in the more serious and modern Chinese film this is a strong recommendation."
            ],
            "text/plain": [
              "<IPython.core.display.HTML object>"
            ]
          },
          "metadata": {
            "tags": []
          }
        },
        {
          "output_type": "stream",
          "text": [
            "[Succeeded / Failed / Total] 16 / 0 / 16:  64%|██████▍   | 16/25 [05:14<02:56, 19.64s/it]"
          ],
          "name": "stderr"
        },
        {
          "output_type": "display_data",
          "data": {
            "text/html": [
              "<font color = red>Negative (99%)</font> --> <font color = gray>[SKIPPED]</font><br>\"Night of the Hunted\" stars French porn star Brigitte Lahaie.In fact,many of the cast members in this slow-moving production were porn actors at the time of its frantic filming.This film is certainly different than Rollin's usual lesbian vampire flicks,but it's not as memorable as for example \"Lips of Blood\" or \"Fascination\".Lahaie plays an amnesiac hitchhiker who can't remember who she is or where she came from.Most of the film takes place in a modern apartment complex,where Lahaie is being held by some kind of medical group that's treating a number of people with a similar condition.Anyway,she escapes from the monolithic office tower where the affected people are held.On a highway outside of town,she meets a young man,who stops and picks her up.\"Night of the Hunted\" offers plenty of nudity,unfortunately the pace is extremely slow.The atmosphere is horribly sad and the relationship between Brigitte Lahaie and another asylum inmate Dominique Journet is well-developed.Still \"Night of the Hunted\" is too dull to be completely enjoyable.Give it a look only if you are a fan of Jean Rollin's works.7 out of 10 and that's being kind."
            ],
            "text/plain": [
              "<IPython.core.display.HTML object>"
            ]
          },
          "metadata": {
            "tags": []
          }
        },
        {
          "output_type": "stream",
          "text": [
            "\r[Succeeded / Failed / Total] 16 / 0 / 17:  68%|██████▊   | 17/25 [05:14<02:27, 18.49s/it]"
          ],
          "name": "stderr"
        },
        {
          "output_type": "display_data",
          "data": {
            "text/html": [
              "<font color = green>Positive (99%)</font> --> <font color = red>Negative (74%)</font><br>Even if you're a fan of Jean Rollin's idiosyncratic body of work, you will be caught off guard by this <font color = green>exceptional</font> foray into science fiction territory. For once, there's not a single diaphanously gowned vampire girl in sight ! True to tradition, the budget proved way too tight to realize the director's vision entirely. Yet this is largely compensated by his obvious love of genre cinema, dedication to his craft and sheer ingenuity. Jean-Claude Couty's atmospheric cinematography makes the most of the foreboding locations and Philippe Bréjean (a/k/a \"Gary Sandeur\") contributes a startling soundtrack that fortunately doesn't resemble any of the sappy stuff he composed for hardcore.<br /><br />Shot in and around a Paris office block before and after <font color = green>working</font> hours, the film was largely cast with porn regulars Rollin was already quite familiar with from his \"Michel Gentil\" cash-gathering XXX efforts, most notably French f*ck film royalty Brigitte Lahaie in the demanding lead. Playing Elisabeth (rather well, I might add), she's picked up wandering a nearby highway one night by Robert (Vincent Gardère), driving home at the end of a long work day. Barely able to piece together the string of events that got her there, Elisabeth seems to lose her memories mere moments after events occur, even forgetting Robert's name and heroic savior role before their night flight comes to an end at his apartment. Prior to making love, she rightfully describes herself as a virgin (further credit to Brigitte's thespian skills that she can handle the line so convincingly, being after all one of the more active adult actresses of the '70s) because she cannot recall a single touch preceding his. Because of this nifty bit of context, the relatively long sex scene that follows totally eschews the gratuity of other \"commercial\" interludes Rollin has had to include in other works to assure funding.<br /><br />When Robert leaves for work, he's inevitably erased from Elisabeth's feeble mind. A mysterious doctor (comedian Bernard Papineau effectively cast against type) and his menacing assistant Solange (striking porn starlet Rachel Mhas) move in on her during her protector's absence and take her back to the place she turns out to have escaped from. Here we get one of the movie's strongest scenes as she's re-introduced to her roommate Catherine (the late Cathérine Greiner a/k/a hardcore performer \"Cathy Stewart\" in a quietly devastating turn), both girls desperately supplying fictitious shared \"memories\" for one another in a bid to outrun their inevitable fate. That deterioration is not solely limited to the mind becomes painfully clear when they are served lunch and Catherine's unable to control her movements in trying to eat a spoonful of soup. It's also Catherine who gets to voice the filmmaker's compromise with the demands of commerce as she urges Elisabeth to get naked and hold her because sex is all they have left now that both mind and physical faculties have deserted them.<br /><br />Several rather explicit - if not quite hardcore - sex scenes make up the movie's mid-section and French porn aficionados should recognize the likes of Alain Plumey (a/k/a \"Cyril Val\"), Jacques Gateau and Elodie Delage, along with a blink and miss bit from future porno princess Marilyn Jess whose rape at the hands, mouth and member of Plumey was only present in the film's rarely screened XXX version FILLES TRAQUEES. The pivotal part of Véronique, a girl Elisabeth almost seems to remember and whom she seeks to escape anew with, is beautifully handled by the exquisite Dominique Journet - in her unforgettable debut - who would go on to play a sizable supporting role in Franco Zeffirelli's LA TRAVIATA. The six feet under ending reveals the deteriorating condition to be the result of a nuclear spill, the quarantined \"patients\" ultimately leaving a barely breathing empty shell, unceremoniously disposed off in a fiery furnace. The final shot offers a particularly heartbreaking variation on that of Chaplin's MODERN TIMES as Elisabeth, approaching complete meltdown by now, and a wounded Robert stumble along the railroad bridge, clumsily clasping each other's outstretched hands.<br>Even if you're a fan of Jean Rollin's idiosyncratic body of work, you will be caught off guard by this <font color = red>unbelievable</font> foray into science fiction territory. For once, there's not a single diaphanously gowned vampire girl in sight ! True to tradition, the budget proved way too tight to realize the director's vision entirely. Yet this is largely compensated by his obvious love of genre cinema, dedication to his craft and sheer ingenuity. Jean-Claude Couty's atmospheric cinematography makes the most of the foreboding locations and Philippe Bréjean (a/k/a \"Gary Sandeur\") contributes a startling soundtrack that fortunately doesn't resemble any of the sappy stuff he composed for hardcore.<br /><br />Shot in and around a Paris office block before and after <font color = red>functioning</font> hours, the film was largely cast with porn regulars Rollin was already quite familiar with from his \"Michel Gentil\" cash-gathering XXX efforts, most notably French f*ck film royalty Brigitte Lahaie in the demanding lead. Playing Elisabeth (rather well, I might add), she's picked up wandering a nearby highway one night by Robert (Vincent Gardère), driving home at the end of a long work day. Barely able to piece together the string of events that got her there, Elisabeth seems to lose her memories mere moments after events occur, even forgetting Robert's name and heroic savior role before their night flight comes to an end at his apartment. Prior to making love, she rightfully describes herself as a virgin (further credit to Brigitte's thespian skills that she can handle the line so convincingly, being after all one of the more active adult actresses of the '70s) because she cannot recall a single touch preceding his. Because of this nifty bit of context, the relatively long sex scene that follows totally eschews the gratuity of other \"commercial\" interludes Rollin has had to include in other works to assure funding.<br /><br />When Robert leaves for work, he's inevitably erased from Elisabeth's feeble mind. A mysterious doctor (comedian Bernard Papineau effectively cast against type) and his menacing assistant Solange (striking porn starlet Rachel Mhas) move in on her during her protector's absence and take her back to the place she turns out to have escaped from. Here we get one of the movie's strongest scenes as she's re-introduced to her roommate Catherine (the late Cathérine Greiner a/k/a hardcore performer \"Cathy Stewart\" in a quietly devastating turn), both girls desperately supplying fictitious shared \"memories\" for one another in a bid to outrun their inevitable fate. That deterioration is not solely limited to the mind becomes painfully clear when they are served lunch and Catherine's unable to control her movements in trying to eat a spoonful of soup. It's also Catherine who gets to voice the filmmaker's compromise with the demands of commerce as she urges Elisabeth to get naked and hold her because sex is all they have left now that both mind and physical faculties have deserted them.<br /><br />Several rather explicit - if not quite hardcore - sex scenes make up the movie's mid-section and French porn aficionados should recognize the likes of Alain Plumey (a/k/a \"Cyril Val\"), Jacques Gateau and Elodie Delage, along with a blink and miss bit from future porno princess Marilyn Jess whose rape at the hands, mouth and member of Plumey was only present in the film's rarely screened XXX version FILLES TRAQUEES. The pivotal part of Véronique, a girl Elisabeth almost seems to remember and whom she seeks to escape anew with, is beautifully handled by the exquisite Dominique Journet - in her unforgettable debut - who would go on to play a sizable supporting role in Franco Zeffirelli's LA TRAVIATA. The six feet under ending reveals the deteriorating condition to be the result of a nuclear spill, the quarantined \"patients\" ultimately leaving a barely breathing empty shell, unceremoniously disposed off in a fiery furnace. The final shot offers a particularly heartbreaking variation on that of Chaplin's MODERN TIMES as Elisabeth, approaching complete meltdown by now, and a wounded Robert stumble along the railroad bridge, clumsily clasping each other's outstretched hands."
            ],
            "text/plain": [
              "<IPython.core.display.HTML object>"
            ]
          },
          "metadata": {
            "tags": []
          }
        },
        {
          "output_type": "stream",
          "text": [
            "[Succeeded / Failed / Total] 17 / 0 / 18:  72%|███████▏  | 18/25 [05:37<02:11, 18.77s/it]"
          ],
          "name": "stderr"
        },
        {
          "output_type": "display_data",
          "data": {
            "text/html": [
              "<font color = green>Positive (100%)</font> --> <font color = red>Negative (51%)</font><br>I was <font color = green>surprised</font> how much I enjoyed this. Sure it is a bit <font color = green>slow</font> moving in parts, but what else would one expect from Rollin? <font color = green>Also</font> there is plenty of nudity, nothing wrong with that, particularly as it includes lots of the gorgeous, Brigitte Lahaie. There are also some spectacularly eroticised female dead, bit more dodgey, perhaps, but most effective. There is also a sci-fi like storyline with a brief explanation at the end, but I wouldn't bother too much with that. No, here we have a most interesting <font color = green>exploration</font> of memory and the effect of memory loss and to just what <font color = green>extent</font> one is still 'alive' without memory. My <font color = green>DVD</font> sleeve <font color = green>mentions</font> David Cronenberg and whilst this is <font color = green>perhaps</font> not quite as good as his best films, there is some <font color = green>similarity</font> here, particularly with the great use of seemingly menacing architecture and the effective and creepy use of <font color = green>inside</font> space. <font color = green>As</font> <font color = green>I</font> <font color = green>have</font> tried to indicate this is by no <font color = green>means</font> a <font color = green>rip</font> roaring thriller, it is a captivating, <font color = green>nightmare</font> like movie that makes the <font color = green>very</font> most of its <font color = green>locations</font>, <font color = green>including</font> a stunning <font color = green>railway</font> setting at the end.<br>I was <font color = red>transfixed</font> how much I enjoyed this. Sure it is a bit <font color = red>doldrums</font> moving in parts, but what else would one expect from Rollin? <font color = red>Instead</font> there is plenty of nudity, nothing wrong with that, particularly as it includes lots of the gorgeous, Brigitte Lahaie. There are also some spectacularly eroticised female dead, bit more dodgey, perhaps, but most effective. There is also a sci-fi like storyline with a brief explanation at the end, but I wouldn't bother too much with that. No, here we have a most interesting <font color = red>crawl</font> of memory and the effect of memory loss and to just what <font color = red>scale</font> one is still 'alive' without memory. My <font color = red>BLURAY</font> sleeve <font color = red>resembles</font> David Cronenberg and whilst this is <font color = red>allegedly</font> not quite as good as his best films, there is some <font color = red>parallels</font> here, particularly with the great use of seemingly menacing architecture and the effective and creepy use of <font color = red>internal</font> space. <font color = red>Because</font> <font color = red>me</font> <font color = red>possesses</font> tried to indicate this is by no <font color = red>technique</font> a <font color = red>rips</font> roaring thriller, it is a captivating, <font color = red>curse</font> like movie that makes the <font color = red>terribly</font> most of its <font color = red>microfilm</font>, <font color = red>involve</font> a stunning <font color = red>trains</font> setting at the end."
            ],
            "text/plain": [
              "<IPython.core.display.HTML object>"
            ]
          },
          "metadata": {
            "tags": []
          }
        },
        {
          "output_type": "stream",
          "text": [
            "[Succeeded / Failed / Total] 18 / 0 / 19:  76%|███████▌  | 19/25 [05:53<01:51, 18.60s/it]"
          ],
          "name": "stderr"
        },
        {
          "output_type": "display_data",
          "data": {
            "text/html": [
              "<font color = green>Positive (100%)</font> --> <font color = red>Negative (86%)</font><br>I went into \"Night of the Hunted\" not knowing what to expect at all. I was really <font color = green>impressed</font>.<br /><br />It is essentially a mystery/thriller where this girl who can't remember anything gets 'rescued' by a guy who happens to be driving past. The two become fast friends and lovers and together, they try to figure out what is going on with her. Through some vague flashbacks and grim memories, they eventually get to the bottom of it and the ending is pretty cool.<br /><br />I really liked the setting of this one: a desolate, post-modern Paris is the backdrop with lots of gray skies and tall buildings. Very metropolitan. Groovy soundtrack and lots of nudity.<br /><br />Surprising it was made in 1980; seems somewhat ahead of it's time.<br /><br />8 out of 10, kids.<br>I went into \"Night of the Hunted\" not knowing what to expect at all. I was really <font color = red>appalled</font>.<br /><br />It is essentially a mystery/thriller where this girl who can't remember anything gets 'rescued' by a guy who happens to be driving past. The two become fast friends and lovers and together, they try to figure out what is going on with her. Through some vague flashbacks and grim memories, they eventually get to the bottom of it and the ending is pretty cool.<br /><br />I really liked the setting of this one: a desolate, post-modern Paris is the backdrop with lots of gray skies and tall buildings. Very metropolitan. Groovy soundtrack and lots of nudity.<br /><br />Surprising it was made in 1980; seems somewhat ahead of it's time.<br /><br />8 out of 10, kids."
            ],
            "text/plain": [
              "<IPython.core.display.HTML object>"
            ]
          },
          "metadata": {
            "tags": []
          }
        },
        {
          "output_type": "stream",
          "text": [
            "[Succeeded / Failed / Total] 19 / 0 / 20:  80%|████████  | 20/25 [05:57<01:29, 17.88s/it]"
          ],
          "name": "stderr"
        },
        {
          "output_type": "display_data",
          "data": {
            "text/html": [
              "<font color = red>Negative (88%)</font> --> <font color = gray>[SKIPPED]</font><br>I have certainly not seen all of Jean Rollin's films, but they mostly seem to be bloody vampire naked women fests, which if you like that sort of thing is not bad, but this is a major departure and could almost be Cronenberg minus the bio-mechanical nightmarish stuff. Except it's in French with subtitles of course. A man driving on the road at night comes across a woman that is in her slippers and bathrobe and picks her up, while in the background yet another woman lingers, wearing nothing. As they drive along it's obvious that there is something not right about the woman, in that she forgets things almost as quickly as they happen. Still though, that doesn't prevent the man from having sex with her once they return to Paris & his apartment. The man leaves for work and some strangers show up at his place and take the woman away to this 'tower block', a huge apartment building referred to as the Black Tower, where others of her kind (for whom the 'no memory' things seems to be the least of their problems) are being held for some reason. Time and events march by in the movie, which involve mostly trying to find what's going on and get out of the building for this woman, and she does manage to call Robert, the guy that picked her up in the first place, to come rescue her. The revelation as to what's going on comes in the last few moments of the movie, which has a rather strange yet touching end to it. In avoiding what seemed to be his \"typical\" formula, Rollin created, in this, what I feel is his most fascinating and disturbing film. I like this one a lot, check it out. 8 out of 10."
            ],
            "text/plain": [
              "<IPython.core.display.HTML object>"
            ]
          },
          "metadata": {
            "tags": []
          }
        },
        {
          "output_type": "stream",
          "text": [
            "\r[Succeeded / Failed / Total] 19 / 0 / 21:  84%|████████▍ | 21/25 [05:57<01:08, 17.03s/it]"
          ],
          "name": "stderr"
        },
        {
          "output_type": "display_data",
          "data": {
            "text/html": [
              "<font color = green>Positive (100%)</font> --> <font color = red>Negative (74%)</font><br><font color = green>Since</font> this <font color = green>cartoon</font> was made in the old days, Felix talks using <font color = green>cartoon</font> bubbles and the animation <font color = green>style</font> is very crude when compared to today. However, compared to its contemporaries, it's a pretty good cartoon and still holds up well. That's because despite its <font color = green>age</font>, the cartoon is very <font color = green>creative</font> and funny.<br /><br />Felix <font color = green>meets</font> a guy whose shoe business is folding because he can't sell any shoes. Well, Felix needs money so he can go to Hollywood, so he tells the guy at the shop he'll get every shoe sold. Felix spreads chewing <font color = green>gum</font> all over town and soon people are stuck and leave their shoes--rushing to buy new ones from the shoe store. In gratitude, the guy gives Felix $500! However, Felix's owner wants to take the money and go alone, so Felix figures out a way to sneak along.<br /><br />Once there, Felix barges into a studio and makes a <font color = green>bit</font> of a nuisance of himself. Along the way, he <font color = green>meets</font> cartoon versions of comics Ben Turpin and Charlie Chaplin. In the end, though, through luck, Felix is discovered and offered a movie contract. Hurray!<br><font color = red>Unless</font> this <font color = red>travesty</font> was made in the old days, Felix talks using <font color = red>caricature</font> bubbles and the animation <font color = red>shape</font> is very crude when compared to today. However, compared to its contemporaries, it's a pretty good cartoon and still holds up well. That's because despite its <font color = red>yrs</font>, the cartoon is very <font color = red>establishment</font> and funny.<br /><br />Felix <font color = red>convenes</font> a guy whose shoe business is folding because he can't sell any shoes. Well, Felix needs money so he can go to Hollywood, so he tells the guy at the shop he'll get every shoe sold. Felix spreads chewing <font color = red>chewing</font> all over town and soon people are stuck and leave their shoes--rushing to buy new ones from the shoe store. In gratitude, the guy gives Felix $500! However, Felix's owner wants to take the money and go alone, so Felix figures out a way to sneak along.<br /><br />Once there, Felix barges into a studio and makes a <font color = red>dick</font> of a nuisance of himself. Along the way, he <font color = red>react</font> cartoon versions of comics Ben Turpin and Charlie Chaplin. In the end, though, through luck, Felix is discovered and offered a movie contract. Hurray!"
            ],
            "text/plain": [
              "<IPython.core.display.HTML object>"
            ]
          },
          "metadata": {
            "tags": []
          }
        },
        {
          "output_type": "stream",
          "text": [
            "[Succeeded / Failed / Total] 20 / 0 / 22:  88%|████████▊ | 22/25 [06:08<00:50, 16.74s/it]"
          ],
          "name": "stderr"
        },
        {
          "output_type": "display_data",
          "data": {
            "text/html": [
              "<font color = green>Positive (100%)</font> --> <font color = red>Negative (98%)</font><br><font color = green>Despite</font> the <font color = green>title</font> and unlike some other stories about love and <font color = green>war</font>, this film isn't too <font color = green>sticky</font> and pink, <font color = green>because</font> <font color = green>love</font> is as a rose: <font color = green>With</font> <font color = green>thorns</font>, that is. <font color = green>The</font> four leading <font color = green>actors</font> <font color = green>set</font> their <font color = green>characters</font> <font color = green>realistic</font> and with a <font color = green>good</font> <font color = green>sense</font> and <font color = green>balance</font> between the <font color = green>tragic</font> and the down-to-earth. <br /><br />The music and <font color = green>lyrics</font> of the <font color = green>cabaret</font>/chanson-esquire <font color = green>songs</font> (<font color = green>sung</font> b <font color = green>Keira</font> <font color = green>Knightley</font> herself) <font color = green>drag</font> the viewer <font color = green>deeper</font> and <font color = green>deeper</font> in the <font color = green>film</font>, from one place to another, between the <font color = green>brutal</font> war and amongst the peaceful <font color = green>love</font>. Some <font color = green>people</font> may find it too <font color = green>much</font> a biopic, but it ís mostly a romantic story, even <font color = green>though</font> it consequently <font color = green>follows</font> the <font color = green>life</font> of Dylan Thomas and the triangular relationship which is <font color = green>steeped</font> by <font color = green>joy</font> and jealousy. <br /><br />London <font color = green>gets</font> <font color = green>visualized</font> from another <font color = green>angle</font> for once, the bohemian life of <font color = green>Dylan</font> during the <font color = green>bombings</font> of the Germans is set in a <font color = green>floating</font> atmosphere of <font color = green>small</font> <font color = green>bedrooms</font>, <font color = green>pubs</font> and bars. The independent <font color = green>women</font>, the soldier and the charismatic poet are constantly swept in both <font color = green>feelings</font> of <font color = green>love</font> and anger. <br /><br /><font color = green>Maybe</font> the <font color = green>end</font> is too twisted and hangs somewhat loosely to the rest of the film, but all in all this is a great romantic story.<br><font color = red>Albeit</font> the <font color = red>headline</font> and unlike some other stories about love and <font color = red>hostilities</font>, this film isn't too <font color = red>clumsy</font> and pink, <font color = red>than</font> <font color = red>amar</font> is as a rose: <font color = red>For</font> <font color = red>thistles</font>, that is. <font color = red>Both</font> four leading <font color = red>protagonists</font> <font color = red>setting</font> their <font color = red>letters</font> <font color = red>pragmatic</font> and with a <font color = red>buenos</font> <font color = red>hunch</font> and <font color = red>reconcile</font> between the <font color = red>sad</font> and the down-to-earth. <br /><br />The music and <font color = red>melody</font> of the <font color = red>nightclub</font>/chanson-esquire <font color = red>musician</font> (<font color = red>melodies</font> b <font color = red>Pippa</font> <font color = red>Cate</font> herself) <font color = red>floozy</font> the viewer <font color = red>narrower</font> and <font color = red>closer</font> in the <font color = red>cinemas</font>, from one place to another, between the <font color = red>cruel</font> war and amongst the peaceful <font color = red>sweetheart</font>. Some <font color = red>countries</font> may find it too <font color = red>widely</font> a biopic, but it ís mostly a romantic story, even <font color = red>nevertheless</font> it consequently <font color = red>persisted</font> the <font color = red>survival</font> of Dylan Thomas and the triangular relationship which is <font color = red>dunked</font> by <font color = red>joyful</font> and jealousy. <br /><br />London <font color = red>possesses</font> <font color = red>manifested</font> from another <font color = red>wedge</font> for once, the bohemian life of <font color = red>Guthrie</font> during the <font color = red>bombardments</font> of the Germans is set in a <font color = red>variables</font> atmosphere of <font color = red>few</font> <font color = red>haus</font>, <font color = red>taverns</font> and bars. The independent <font color = red>wives</font>, the soldier and the charismatic poet are constantly swept in both <font color = red>ideas</font> of <font color = red>enjoy</font> and anger. <br /><br /><font color = red>Possibly</font> the <font color = red>fin</font> is too twisted and hangs somewhat loosely to the rest of the film, but all in all this is a great romantic story."
            ],
            "text/plain": [
              "<IPython.core.display.HTML object>"
            ]
          },
          "metadata": {
            "tags": []
          }
        },
        {
          "output_type": "stream",
          "text": [
            "[Succeeded / Failed / Total] 21 / 0 / 23:  92%|█████████▏| 23/25 [06:53<00:35, 17.96s/it]"
          ],
          "name": "stderr"
        },
        {
          "output_type": "display_data",
          "data": {
            "text/html": [
              "<font color = green>Positive (100%)</font> --> <font color = red>Negative (82%)</font><br>Felix in Hollywood is a <font color = green>great</font> film. <font color = green>The</font> version I viewed was <font color = green>very</font> <font color = green>well</font> <font color = green>restored</font>, which is sometimes a problem with these <font color = green>silent</font> <font color = green>era</font> animated <font color = green>films</font>. It has some of Hollywood's most <font color = green>famous</font> <font color = green>stars</font> making cameo animated appearances. A must for any <font color = green>silent</font> <font color = green>film</font> or <font color = green>animation</font> <font color = green>enthusiast</font>.<br>Felix in Hollywood is a <font color = red>excellent</font> film. <font color = red>Both</font> version I viewed was <font color = red>deeply</font> <font color = red>too</font> <font color = red>resetting</font>, which is sometimes a problem with these <font color = red>unspoken</font> <font color = red>timeframe</font> animated <font color = red>photo</font>. It has some of Hollywood's most <font color = red>proverbial</font> <font color = red>celebrities</font> making cameo animated appearances. A must for any <font color = red>dumb</font> <font color = red>movie</font> or <font color = red>encouraged</font> <font color = red>admirer</font>."
            ],
            "text/plain": [
              "<IPython.core.display.HTML object>"
            ]
          },
          "metadata": {
            "tags": []
          }
        },
        {
          "output_type": "stream",
          "text": [
            "[Succeeded / Failed / Total] 22 / 0 / 24:  96%|█████████▌| 24/25 [07:04<00:17, 17.69s/it]"
          ],
          "name": "stderr"
        },
        {
          "output_type": "display_data",
          "data": {
            "text/html": [
              "<font color = green>Positive (100%)</font> --> <font color = red>Negative (62%)</font><br><font color = green>A</font> <font color = green>gem</font> of a <font color = green>cartoon</font> from the silent era---it was re-discovered by CARTOON <font color = green>NETWORK</font>, and was broadcast for <font color = green>likely</font> the first time in decades, if ever.<br /><<font color = green>br</font> />What makes this <font color = green>so</font> <font color = green>enjoyable</font> are the <font color = green>varied</font> cameos...Douglas Fairbanks is <font color = green>attacked</font> by <font color = green>giant</font> <font color = green>mosquitos</font>; Will <font color = green>Hays</font> pays a visit as 'boss' of Static <font color = green>Studios</font>; as <font color = green>well</font> as appearances by <font color = green>Chaplin</font>, <font color = green>Keaton</font>, and William <font color = green>S</font>. Hart. The <font color = green>image</font> of chewing <font color = green>gum</font> decimating the shoes of the <font color = green>populace</font> (a money-making <font color = green>idea</font> for Felix's near-bankrupt shoe-=<font color = green>salesman</font> boss) cannot <font color = green>be</font> described--it must be viewed. A terrific cultural gem.<br><font color = red>another</font> <font color = red>perla</font> of a <font color = red>travesty</font> from the silent era---it was re-discovered by CARTOON <font color = red>NET</font>, and was broadcast for <font color = red>supposedly</font> the first time in decades, if ever.<br /><<font color = red>brit</font> />What makes this <font color = red>then</font> <font color = red>agreeable</font> are the <font color = red>dissimilar</font> cameos...Douglas Fairbanks is <font color = red>bombed</font> by <font color = red>gargantuan</font> <font color = red>mosquito</font>; Will <font color = red>Hes</font> pays a visit as 'boss' of Static <font color = red>Studio</font>; as <font color = red>even</font> as appearances by <font color = red>Chapin</font>, <font color = red>Starred</font>, and William <font color = red>avec</font>. Hart. The <font color = red>photographer</font> of chewing <font color = red>chewing</font> decimating the shoes of the <font color = red>villagers</font> (a money-making <font color = red>thinks</font> for Felix's near-bankrupt shoe-=<font color = red>providers</font> boss) cannot <font color = red>got</font> described--it must be viewed. A terrific cultural gem."
            ],
            "text/plain": [
              "<IPython.core.display.HTML object>"
            ]
          },
          "metadata": {
            "tags": []
          }
        },
        {
          "output_type": "stream",
          "text": [
            "[Succeeded / Failed / Total] 23 / 0 / 25: 100%|██████████| 25/25 [07:22<00:00, 17.69s/it]"
          ],
          "name": "stderr"
        },
        {
          "output_type": "display_data",
          "data": {
            "text/html": [
              "<font color = green>Positive (100%)</font> --> <font color = red>Negative (70%)</font><br>This <font color = green>short</font> is one of the best of all <font color = green>time</font> and is proof (just like most of Charlie Chaplin's <font color = green>work</font>) that sound and color are not requirements for quality work. In fact, this cartoon <font color = green>uses</font> (and may <font color = green>have</font> <font color = green>started</font>) some of the gags and <font color = green>devices</font> that <font color = green>became</font> <font color = green>standard</font> in animation in later years, like caricatures of celebrities (including the afore-mentioned <font color = green>Chaplin</font>. While the <font color = green>characters</font> are <font color = green>silent</font>, they <font color = green>do</font> \"speak\", by <font color = green>use</font> of <font color = green>word</font> <font color = green>balloons</font>, just like in the <font color = green>comics</font>. Given that Felix <font color = green>started</font> out in <font color = green>newspapers</font> as a comic strip, this <font color = green>device</font> is a <font color = green>natural</font>. The <font color = green>atmosphere</font> and <font color = green>style</font> of the <font color = green>short</font> is <font color = green>completely</font> harmonious with that of the <font color = green>comic</font> <font color = green>strip</font> while <font color = green>adding</font> another <font color = green>dimension</font> (<font color = green>literally</font> and figuratively) and <font color = green>makes</font> this short a <font color = green>delight</font> to <font color = green>watch</font>. Well <font color = green>worth</font> taking the <font color = green>time</font> and <font color = green>effort</font> to get. Most highly <font color = green>recommended</font>.<br>This <font color = red>little</font> is one of the best of all <font color = red>zeit</font> and is proof (just like most of Charlie Chaplin's <font color = red>operate</font>) that sound and color are not requirements for quality work. In fact, this cartoon <font color = red>accustomed</font> (and may <font color = red>fi</font> <font color = red>commences</font>) some of the gags and <font color = red>installing</font> that <font color = red>gets</font> <font color = red>spec</font> in animation in later years, like caricatures of celebrities (including the afore-mentioned <font color = red>Wilder</font>. While the <font color = red>characteristics</font> are <font color = red>dumb</font>, they <font color = red>fact</font> \"speak\", by <font color = red>relies</font> of <font color = red>mots</font> <font color = red>balloon</font>, just like in the <font color = red>caricature</font>. Given that Felix <font color = red>initiate</font> out in <font color = red>paper</font> as a comic strip, this <font color = red>computers</font> is a <font color = red>inherent</font>. The <font color = red>climate</font> and <font color = red>elegance</font> of the <font color = red>few</font> is <font color = red>sincerely</font> harmonious with that of the <font color = red>unfunny</font> <font color = red>bandwidth</font> while <font color = red>inscribe</font> another <font color = red>elements</font> (<font color = red>virtually</font> and figuratively) and <font color = red>implies</font> this short a <font color = red>happy</font> to <font color = red>gaze</font>. Well <font color = red>prized</font> taking the <font color = red>hours</font> and <font color = red>tried</font> to get. Most highly <font color = red>insinuated</font>."
            ],
            "text/plain": [
              "<IPython.core.display.HTML object>"
            ]
          },
          "metadata": {
            "tags": []
          }
        },
        {
          "output_type": "stream",
          "text": [
            "[Succeeded / Failed / Total] 24 / 0 / 26: : 26it [07:49, 18.08s/it]"
          ],
          "name": "stderr"
        },
        {
          "output_type": "display_data",
          "data": {
            "text/html": [
              "<font color = red>Negative (70%)</font> --> <font color = gray>[SKIPPED]</font><br>Felix is watching an actor rehearse his lines: \"A ham, A ham! My kingdom for a ham sandwich!!!\" The dramatic guy that tells Felix he'll \"have to sacrifice my art and go into the movies.\" He's in tears. Felix just looks at him like he's nuts, and shrugs his shoulders. The old guy tells Felix to \"go ye forth\" and find money to finance a trip to Hollywood. Felix thinks, \"How does he expect me to get the money?\"<br /><br />In minutes, of course (this is a cartoon), he spots a shoe business owner putting up a \"bankrupt\" sale on his store. Felix comes up with a plan to bail him out and the man promises the cat $500 if it works.<br /><br />Well, it does but the man wants to go alone and leave Felix at home. In an outrageous scene, Felix transforms himself into a briefcase and that's how he gets to Hollywood, transforming himself back to cat when they get there.<br /><br />We then witness Felix's attempts at getting into show business. His audition scenes are very funny, especially with his imitation of Charlie Chaplin. In addition there are caricatures of some famous silent film stars and executives. In all, quite a bit of material is in this 9.5- minute cartoon. It's amazing how much more you can get in an extra 2.5 minutes, assuming most animated shorts are seven minutes in length.<br /><br />At any rate, there were a number of laughs in here and more zany things you could only see in a cartoon, like Felix have a sword duel with giant mosquitoes! Crazy stuff."
            ],
            "text/plain": [
              "<IPython.core.display.HTML object>"
            ]
          },
          "metadata": {
            "tags": []
          }
        },
        {
          "output_type": "stream",
          "text": [
            "\r[Succeeded / Failed / Total] 24 / 0 / 27: : 27it [07:50, 17.41s/it]"
          ],
          "name": "stderr"
        },
        {
          "output_type": "display_data",
          "data": {
            "text/html": [
              "<font color = green>Positive (98%)</font> --> <font color = red>Negative (60%)</font><br>While I can't say whether or not Larry Hama ever saw any of the old cartoons, I would think that writing said cartoons, file cards, and some of the comics would count for something.<br /><br />For fans of the old cartoon, this is pretty much a continuation of the same, except with a few new characters - and a more insane Cobra Commander.<br /><br />We still have all the old <font color = green>favorites</font> too, but on a personal note, one thing that always irritated me was this \"Duke in charge\" stuff, when there are tons of other *officers* around instead.<br /><br />The battle sequences are similar to the old series as well; the main trick here seems to be the CGI. It's overall pretty <font color = green>good</font>, if not a little over-the-top.<br>While I can't say whether or not Larry Hama ever saw any of the old cartoons, I would think that writing said cartoons, file cards, and some of the comics would count for something.<br /><br />For fans of the old cartoon, this is pretty much a continuation of the same, except with a few new characters - and a more insane Cobra Commander.<br /><br />We still have all the old <font color = red>liked</font> too, but on a personal note, one thing that always irritated me was this \"Duke in charge\" stuff, when there are tons of other *officers* around instead.<br /><br />The battle sequences are similar to the old series as well; the main trick here seems to be the CGI. It's overall pretty <font color = red>advisable</font>, if not a little over-the-top."
            ],
            "text/plain": [
              "<IPython.core.display.HTML object>"
            ]
          },
          "metadata": {
            "tags": []
          }
        },
        {
          "output_type": "stream",
          "text": [
            "[Succeeded / Failed / Total] 25 / 0 / 28: : 28it [07:53, 16.93s/it]"
          ],
          "name": "stderr"
        },
        {
          "output_type": "stream",
          "text": [
            "+-------------------------------+--------+\n",
            "| Attack Results                |        |\n",
            "+-------------------------------+--------+\n",
            "| Number of successful attacks: | 25     |\n",
            "| Number of failed attacks:     | 0      |\n",
            "| Number of skipped attacks:    | 3      |\n",
            "| Original accuracy:            | 89.29% |\n",
            "| Accuracy under attack:        | 0.0%   |\n",
            "| Attack success rate:          | 100.0% |\n",
            "| Average perturbed word %:     | 8.35%  |\n",
            "| Average num. words per input: | 244.71 |\n",
            "| Avg num queries:              | 674.2  |\n",
            "+-------------------------------+--------+"
          ],
          "name": "stdout"
        },
        {
          "output_type": "stream",
          "text": [
            "\n",
            "\u001b[34;1mtextattack\u001b[0m: Attack time: 473.955806016922s\n"
          ],
          "name": "stderr"
        }
      ]
    }
  ]
}