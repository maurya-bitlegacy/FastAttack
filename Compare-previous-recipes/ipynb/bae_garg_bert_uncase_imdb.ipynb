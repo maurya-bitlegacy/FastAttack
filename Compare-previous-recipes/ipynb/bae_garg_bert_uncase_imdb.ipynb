{
  "nbformat": 4,
  "nbformat_minor": 0,
  "metadata": {
    "colab": {
      "name": "bae_garg_bert_uncase_imdb",
      "provenance": [],
      "collapsed_sections": []
    },
    "kernelspec": {
      "name": "python3",
      "display_name": "Python 3"
    },
    "language_info": {
      "name": "python"
    },
    "accelerator": "GPU",
    "widgets": {
      "application/vnd.jupyter.widget-state+json": {
        "51f5fcf43baa4ab8b0736864f596b280": {
          "model_module": "@jupyter-widgets/controls",
          "model_name": "HBoxModel",
          "state": {
            "_view_name": "HBoxView",
            "_dom_classes": [],
            "_model_name": "HBoxModel",
            "_view_module": "@jupyter-widgets/controls",
            "_model_module_version": "1.5.0",
            "_view_count": null,
            "_view_module_version": "1.5.0",
            "box_style": "",
            "layout": "IPY_MODEL_36c0eb3772c14f97b3ca21160cb3a928",
            "_model_module": "@jupyter-widgets/controls",
            "children": [
              "IPY_MODEL_92217e8256c444b58d9335698b330cad",
              "IPY_MODEL_d9c7b80e266e45e89589d1d9695a493c"
            ]
          }
        },
        "36c0eb3772c14f97b3ca21160cb3a928": {
          "model_module": "@jupyter-widgets/base",
          "model_name": "LayoutModel",
          "state": {
            "_view_name": "LayoutView",
            "grid_template_rows": null,
            "right": null,
            "justify_content": null,
            "_view_module": "@jupyter-widgets/base",
            "overflow": null,
            "_model_module_version": "1.2.0",
            "_view_count": null,
            "flex_flow": null,
            "width": null,
            "min_width": null,
            "border": null,
            "align_items": null,
            "bottom": null,
            "_model_module": "@jupyter-widgets/base",
            "top": null,
            "grid_column": null,
            "overflow_y": null,
            "overflow_x": null,
            "grid_auto_flow": null,
            "grid_area": null,
            "grid_template_columns": null,
            "flex": null,
            "_model_name": "LayoutModel",
            "justify_items": null,
            "grid_row": null,
            "max_height": null,
            "align_content": null,
            "visibility": null,
            "align_self": null,
            "height": null,
            "min_height": null,
            "padding": null,
            "grid_auto_rows": null,
            "grid_gap": null,
            "max_width": null,
            "order": null,
            "_view_module_version": "1.2.0",
            "grid_template_areas": null,
            "object_position": null,
            "object_fit": null,
            "grid_auto_columns": null,
            "margin": null,
            "display": null,
            "left": null
          }
        },
        "92217e8256c444b58d9335698b330cad": {
          "model_module": "@jupyter-widgets/controls",
          "model_name": "FloatProgressModel",
          "state": {
            "_view_name": "ProgressView",
            "style": "IPY_MODEL_f313d3656cc54dbc94437046d11c4a52",
            "_dom_classes": [],
            "description": "Downloading: 100%",
            "_model_name": "FloatProgressModel",
            "bar_style": "success",
            "max": 511,
            "_view_module": "@jupyter-widgets/controls",
            "_model_module_version": "1.5.0",
            "value": 511,
            "_view_count": null,
            "_view_module_version": "1.5.0",
            "orientation": "horizontal",
            "min": 0,
            "description_tooltip": null,
            "_model_module": "@jupyter-widgets/controls",
            "layout": "IPY_MODEL_bc800b25bd93485c9eb61bce35534cb6"
          }
        },
        "d9c7b80e266e45e89589d1d9695a493c": {
          "model_module": "@jupyter-widgets/controls",
          "model_name": "HTMLModel",
          "state": {
            "_view_name": "HTMLView",
            "style": "IPY_MODEL_dc29b26fbc78436a94e88d0458d63c38",
            "_dom_classes": [],
            "description": "",
            "_model_name": "HTMLModel",
            "placeholder": "​",
            "_view_module": "@jupyter-widgets/controls",
            "_model_module_version": "1.5.0",
            "value": " 511/511 [00:00&lt;00:00, 2.17kB/s]",
            "_view_count": null,
            "_view_module_version": "1.5.0",
            "description_tooltip": null,
            "_model_module": "@jupyter-widgets/controls",
            "layout": "IPY_MODEL_cabfc74cfc6442bd9a0b6a78fafdb61e"
          }
        },
        "f313d3656cc54dbc94437046d11c4a52": {
          "model_module": "@jupyter-widgets/controls",
          "model_name": "ProgressStyleModel",
          "state": {
            "_view_name": "StyleView",
            "_model_name": "ProgressStyleModel",
            "description_width": "initial",
            "_view_module": "@jupyter-widgets/base",
            "_model_module_version": "1.5.0",
            "_view_count": null,
            "_view_module_version": "1.2.0",
            "bar_color": null,
            "_model_module": "@jupyter-widgets/controls"
          }
        },
        "bc800b25bd93485c9eb61bce35534cb6": {
          "model_module": "@jupyter-widgets/base",
          "model_name": "LayoutModel",
          "state": {
            "_view_name": "LayoutView",
            "grid_template_rows": null,
            "right": null,
            "justify_content": null,
            "_view_module": "@jupyter-widgets/base",
            "overflow": null,
            "_model_module_version": "1.2.0",
            "_view_count": null,
            "flex_flow": null,
            "width": null,
            "min_width": null,
            "border": null,
            "align_items": null,
            "bottom": null,
            "_model_module": "@jupyter-widgets/base",
            "top": null,
            "grid_column": null,
            "overflow_y": null,
            "overflow_x": null,
            "grid_auto_flow": null,
            "grid_area": null,
            "grid_template_columns": null,
            "flex": null,
            "_model_name": "LayoutModel",
            "justify_items": null,
            "grid_row": null,
            "max_height": null,
            "align_content": null,
            "visibility": null,
            "align_self": null,
            "height": null,
            "min_height": null,
            "padding": null,
            "grid_auto_rows": null,
            "grid_gap": null,
            "max_width": null,
            "order": null,
            "_view_module_version": "1.2.0",
            "grid_template_areas": null,
            "object_position": null,
            "object_fit": null,
            "grid_auto_columns": null,
            "margin": null,
            "display": null,
            "left": null
          }
        },
        "dc29b26fbc78436a94e88d0458d63c38": {
          "model_module": "@jupyter-widgets/controls",
          "model_name": "DescriptionStyleModel",
          "state": {
            "_view_name": "StyleView",
            "_model_name": "DescriptionStyleModel",
            "description_width": "",
            "_view_module": "@jupyter-widgets/base",
            "_model_module_version": "1.5.0",
            "_view_count": null,
            "_view_module_version": "1.2.0",
            "_model_module": "@jupyter-widgets/controls"
          }
        },
        "cabfc74cfc6442bd9a0b6a78fafdb61e": {
          "model_module": "@jupyter-widgets/base",
          "model_name": "LayoutModel",
          "state": {
            "_view_name": "LayoutView",
            "grid_template_rows": null,
            "right": null,
            "justify_content": null,
            "_view_module": "@jupyter-widgets/base",
            "overflow": null,
            "_model_module_version": "1.2.0",
            "_view_count": null,
            "flex_flow": null,
            "width": null,
            "min_width": null,
            "border": null,
            "align_items": null,
            "bottom": null,
            "_model_module": "@jupyter-widgets/base",
            "top": null,
            "grid_column": null,
            "overflow_y": null,
            "overflow_x": null,
            "grid_auto_flow": null,
            "grid_area": null,
            "grid_template_columns": null,
            "flex": null,
            "_model_name": "LayoutModel",
            "justify_items": null,
            "grid_row": null,
            "max_height": null,
            "align_content": null,
            "visibility": null,
            "align_self": null,
            "height": null,
            "min_height": null,
            "padding": null,
            "grid_auto_rows": null,
            "grid_gap": null,
            "max_width": null,
            "order": null,
            "_view_module_version": "1.2.0",
            "grid_template_areas": null,
            "object_position": null,
            "object_fit": null,
            "grid_auto_columns": null,
            "margin": null,
            "display": null,
            "left": null
          }
        },
        "ecafb96a2bab411b823096cdd8108c48": {
          "model_module": "@jupyter-widgets/controls",
          "model_name": "HBoxModel",
          "state": {
            "_view_name": "HBoxView",
            "_dom_classes": [],
            "_model_name": "HBoxModel",
            "_view_module": "@jupyter-widgets/controls",
            "_model_module_version": "1.5.0",
            "_view_count": null,
            "_view_module_version": "1.5.0",
            "box_style": "",
            "layout": "IPY_MODEL_f54ee18225fa467dbe97d8d4e3472302",
            "_model_module": "@jupyter-widgets/controls",
            "children": [
              "IPY_MODEL_5e31d200ad5545629bceadba35cfc8eb",
              "IPY_MODEL_c688d243ec3e4b78856176b1f7602072"
            ]
          }
        },
        "f54ee18225fa467dbe97d8d4e3472302": {
          "model_module": "@jupyter-widgets/base",
          "model_name": "LayoutModel",
          "state": {
            "_view_name": "LayoutView",
            "grid_template_rows": null,
            "right": null,
            "justify_content": null,
            "_view_module": "@jupyter-widgets/base",
            "overflow": null,
            "_model_module_version": "1.2.0",
            "_view_count": null,
            "flex_flow": null,
            "width": null,
            "min_width": null,
            "border": null,
            "align_items": null,
            "bottom": null,
            "_model_module": "@jupyter-widgets/base",
            "top": null,
            "grid_column": null,
            "overflow_y": null,
            "overflow_x": null,
            "grid_auto_flow": null,
            "grid_area": null,
            "grid_template_columns": null,
            "flex": null,
            "_model_name": "LayoutModel",
            "justify_items": null,
            "grid_row": null,
            "max_height": null,
            "align_content": null,
            "visibility": null,
            "align_self": null,
            "height": null,
            "min_height": null,
            "padding": null,
            "grid_auto_rows": null,
            "grid_gap": null,
            "max_width": null,
            "order": null,
            "_view_module_version": "1.2.0",
            "grid_template_areas": null,
            "object_position": null,
            "object_fit": null,
            "grid_auto_columns": null,
            "margin": null,
            "display": null,
            "left": null
          }
        },
        "5e31d200ad5545629bceadba35cfc8eb": {
          "model_module": "@jupyter-widgets/controls",
          "model_name": "FloatProgressModel",
          "state": {
            "_view_name": "ProgressView",
            "style": "IPY_MODEL_c2bf662db5e94a60afebd40bcce41005",
            "_dom_classes": [],
            "description": "Downloading: 100%",
            "_model_name": "FloatProgressModel",
            "bar_style": "success",
            "max": 437985387,
            "_view_module": "@jupyter-widgets/controls",
            "_model_module_version": "1.5.0",
            "value": 437985387,
            "_view_count": null,
            "_view_module_version": "1.5.0",
            "orientation": "horizontal",
            "min": 0,
            "description_tooltip": null,
            "_model_module": "@jupyter-widgets/controls",
            "layout": "IPY_MODEL_8b3a7be8e9ff4a32ac4e95d281d1d513"
          }
        },
        "c688d243ec3e4b78856176b1f7602072": {
          "model_module": "@jupyter-widgets/controls",
          "model_name": "HTMLModel",
          "state": {
            "_view_name": "HTMLView",
            "style": "IPY_MODEL_0c6db8aebd734517807add6609db3f9c",
            "_dom_classes": [],
            "description": "",
            "_model_name": "HTMLModel",
            "placeholder": "​",
            "_view_module": "@jupyter-widgets/controls",
            "_model_module_version": "1.5.0",
            "value": " 438M/438M [00:08&lt;00:00, 52.4MB/s]",
            "_view_count": null,
            "_view_module_version": "1.5.0",
            "description_tooltip": null,
            "_model_module": "@jupyter-widgets/controls",
            "layout": "IPY_MODEL_51a2fe2e25c24ed79ada322588dd0b67"
          }
        },
        "c2bf662db5e94a60afebd40bcce41005": {
          "model_module": "@jupyter-widgets/controls",
          "model_name": "ProgressStyleModel",
          "state": {
            "_view_name": "StyleView",
            "_model_name": "ProgressStyleModel",
            "description_width": "initial",
            "_view_module": "@jupyter-widgets/base",
            "_model_module_version": "1.5.0",
            "_view_count": null,
            "_view_module_version": "1.2.0",
            "bar_color": null,
            "_model_module": "@jupyter-widgets/controls"
          }
        },
        "8b3a7be8e9ff4a32ac4e95d281d1d513": {
          "model_module": "@jupyter-widgets/base",
          "model_name": "LayoutModel",
          "state": {
            "_view_name": "LayoutView",
            "grid_template_rows": null,
            "right": null,
            "justify_content": null,
            "_view_module": "@jupyter-widgets/base",
            "overflow": null,
            "_model_module_version": "1.2.0",
            "_view_count": null,
            "flex_flow": null,
            "width": null,
            "min_width": null,
            "border": null,
            "align_items": null,
            "bottom": null,
            "_model_module": "@jupyter-widgets/base",
            "top": null,
            "grid_column": null,
            "overflow_y": null,
            "overflow_x": null,
            "grid_auto_flow": null,
            "grid_area": null,
            "grid_template_columns": null,
            "flex": null,
            "_model_name": "LayoutModel",
            "justify_items": null,
            "grid_row": null,
            "max_height": null,
            "align_content": null,
            "visibility": null,
            "align_self": null,
            "height": null,
            "min_height": null,
            "padding": null,
            "grid_auto_rows": null,
            "grid_gap": null,
            "max_width": null,
            "order": null,
            "_view_module_version": "1.2.0",
            "grid_template_areas": null,
            "object_position": null,
            "object_fit": null,
            "grid_auto_columns": null,
            "margin": null,
            "display": null,
            "left": null
          }
        },
        "0c6db8aebd734517807add6609db3f9c": {
          "model_module": "@jupyter-widgets/controls",
          "model_name": "DescriptionStyleModel",
          "state": {
            "_view_name": "StyleView",
            "_model_name": "DescriptionStyleModel",
            "description_width": "",
            "_view_module": "@jupyter-widgets/base",
            "_model_module_version": "1.5.0",
            "_view_count": null,
            "_view_module_version": "1.2.0",
            "_model_module": "@jupyter-widgets/controls"
          }
        },
        "51a2fe2e25c24ed79ada322588dd0b67": {
          "model_module": "@jupyter-widgets/base",
          "model_name": "LayoutModel",
          "state": {
            "_view_name": "LayoutView",
            "grid_template_rows": null,
            "right": null,
            "justify_content": null,
            "_view_module": "@jupyter-widgets/base",
            "overflow": null,
            "_model_module_version": "1.2.0",
            "_view_count": null,
            "flex_flow": null,
            "width": null,
            "min_width": null,
            "border": null,
            "align_items": null,
            "bottom": null,
            "_model_module": "@jupyter-widgets/base",
            "top": null,
            "grid_column": null,
            "overflow_y": null,
            "overflow_x": null,
            "grid_auto_flow": null,
            "grid_area": null,
            "grid_template_columns": null,
            "flex": null,
            "_model_name": "LayoutModel",
            "justify_items": null,
            "grid_row": null,
            "max_height": null,
            "align_content": null,
            "visibility": null,
            "align_self": null,
            "height": null,
            "min_height": null,
            "padding": null,
            "grid_auto_rows": null,
            "grid_gap": null,
            "max_width": null,
            "order": null,
            "_view_module_version": "1.2.0",
            "grid_template_areas": null,
            "object_position": null,
            "object_fit": null,
            "grid_auto_columns": null,
            "margin": null,
            "display": null,
            "left": null
          }
        },
        "31e4469f6f124da1a3a978ab7492f390": {
          "model_module": "@jupyter-widgets/controls",
          "model_name": "HBoxModel",
          "state": {
            "_view_name": "HBoxView",
            "_dom_classes": [],
            "_model_name": "HBoxModel",
            "_view_module": "@jupyter-widgets/controls",
            "_model_module_version": "1.5.0",
            "_view_count": null,
            "_view_module_version": "1.5.0",
            "box_style": "",
            "layout": "IPY_MODEL_8dc2d9a40d384f3a975cb820f4bace49",
            "_model_module": "@jupyter-widgets/controls",
            "children": [
              "IPY_MODEL_3b5137c9aba841c5b19f6517c4601d08",
              "IPY_MODEL_140403a3cc5648588a4ff0f4e0f6b841"
            ]
          }
        },
        "8dc2d9a40d384f3a975cb820f4bace49": {
          "model_module": "@jupyter-widgets/base",
          "model_name": "LayoutModel",
          "state": {
            "_view_name": "LayoutView",
            "grid_template_rows": null,
            "right": null,
            "justify_content": null,
            "_view_module": "@jupyter-widgets/base",
            "overflow": null,
            "_model_module_version": "1.2.0",
            "_view_count": null,
            "flex_flow": null,
            "width": null,
            "min_width": null,
            "border": null,
            "align_items": null,
            "bottom": null,
            "_model_module": "@jupyter-widgets/base",
            "top": null,
            "grid_column": null,
            "overflow_y": null,
            "overflow_x": null,
            "grid_auto_flow": null,
            "grid_area": null,
            "grid_template_columns": null,
            "flex": null,
            "_model_name": "LayoutModel",
            "justify_items": null,
            "grid_row": null,
            "max_height": null,
            "align_content": null,
            "visibility": null,
            "align_self": null,
            "height": null,
            "min_height": null,
            "padding": null,
            "grid_auto_rows": null,
            "grid_gap": null,
            "max_width": null,
            "order": null,
            "_view_module_version": "1.2.0",
            "grid_template_areas": null,
            "object_position": null,
            "object_fit": null,
            "grid_auto_columns": null,
            "margin": null,
            "display": null,
            "left": null
          }
        },
        "3b5137c9aba841c5b19f6517c4601d08": {
          "model_module": "@jupyter-widgets/controls",
          "model_name": "FloatProgressModel",
          "state": {
            "_view_name": "ProgressView",
            "style": "IPY_MODEL_771e1c39a8394c86803c6a4783270ff6",
            "_dom_classes": [],
            "description": "Downloading: 100%",
            "_model_name": "FloatProgressModel",
            "bar_style": "success",
            "max": 231508,
            "_view_module": "@jupyter-widgets/controls",
            "_model_module_version": "1.5.0",
            "value": 231508,
            "_view_count": null,
            "_view_module_version": "1.5.0",
            "orientation": "horizontal",
            "min": 0,
            "description_tooltip": null,
            "_model_module": "@jupyter-widgets/controls",
            "layout": "IPY_MODEL_9bb63c301aa542adba6d58ad8dbec451"
          }
        },
        "140403a3cc5648588a4ff0f4e0f6b841": {
          "model_module": "@jupyter-widgets/controls",
          "model_name": "HTMLModel",
          "state": {
            "_view_name": "HTMLView",
            "style": "IPY_MODEL_ebaa37ef6d604a538d9224b31c16c2af",
            "_dom_classes": [],
            "description": "",
            "_model_name": "HTMLModel",
            "placeholder": "​",
            "_view_module": "@jupyter-widgets/controls",
            "_model_module_version": "1.5.0",
            "value": " 232k/232k [00:01&lt;00:00, 212kB/s]",
            "_view_count": null,
            "_view_module_version": "1.5.0",
            "description_tooltip": null,
            "_model_module": "@jupyter-widgets/controls",
            "layout": "IPY_MODEL_cf2d1d7f684840d7be6d0270fce21abe"
          }
        },
        "771e1c39a8394c86803c6a4783270ff6": {
          "model_module": "@jupyter-widgets/controls",
          "model_name": "ProgressStyleModel",
          "state": {
            "_view_name": "StyleView",
            "_model_name": "ProgressStyleModel",
            "description_width": "initial",
            "_view_module": "@jupyter-widgets/base",
            "_model_module_version": "1.5.0",
            "_view_count": null,
            "_view_module_version": "1.2.0",
            "bar_color": null,
            "_model_module": "@jupyter-widgets/controls"
          }
        },
        "9bb63c301aa542adba6d58ad8dbec451": {
          "model_module": "@jupyter-widgets/base",
          "model_name": "LayoutModel",
          "state": {
            "_view_name": "LayoutView",
            "grid_template_rows": null,
            "right": null,
            "justify_content": null,
            "_view_module": "@jupyter-widgets/base",
            "overflow": null,
            "_model_module_version": "1.2.0",
            "_view_count": null,
            "flex_flow": null,
            "width": null,
            "min_width": null,
            "border": null,
            "align_items": null,
            "bottom": null,
            "_model_module": "@jupyter-widgets/base",
            "top": null,
            "grid_column": null,
            "overflow_y": null,
            "overflow_x": null,
            "grid_auto_flow": null,
            "grid_area": null,
            "grid_template_columns": null,
            "flex": null,
            "_model_name": "LayoutModel",
            "justify_items": null,
            "grid_row": null,
            "max_height": null,
            "align_content": null,
            "visibility": null,
            "align_self": null,
            "height": null,
            "min_height": null,
            "padding": null,
            "grid_auto_rows": null,
            "grid_gap": null,
            "max_width": null,
            "order": null,
            "_view_module_version": "1.2.0",
            "grid_template_areas": null,
            "object_position": null,
            "object_fit": null,
            "grid_auto_columns": null,
            "margin": null,
            "display": null,
            "left": null
          }
        },
        "ebaa37ef6d604a538d9224b31c16c2af": {
          "model_module": "@jupyter-widgets/controls",
          "model_name": "DescriptionStyleModel",
          "state": {
            "_view_name": "StyleView",
            "_model_name": "DescriptionStyleModel",
            "description_width": "",
            "_view_module": "@jupyter-widgets/base",
            "_model_module_version": "1.5.0",
            "_view_count": null,
            "_view_module_version": "1.2.0",
            "_model_module": "@jupyter-widgets/controls"
          }
        },
        "cf2d1d7f684840d7be6d0270fce21abe": {
          "model_module": "@jupyter-widgets/base",
          "model_name": "LayoutModel",
          "state": {
            "_view_name": "LayoutView",
            "grid_template_rows": null,
            "right": null,
            "justify_content": null,
            "_view_module": "@jupyter-widgets/base",
            "overflow": null,
            "_model_module_version": "1.2.0",
            "_view_count": null,
            "flex_flow": null,
            "width": null,
            "min_width": null,
            "border": null,
            "align_items": null,
            "bottom": null,
            "_model_module": "@jupyter-widgets/base",
            "top": null,
            "grid_column": null,
            "overflow_y": null,
            "overflow_x": null,
            "grid_auto_flow": null,
            "grid_area": null,
            "grid_template_columns": null,
            "flex": null,
            "_model_name": "LayoutModel",
            "justify_items": null,
            "grid_row": null,
            "max_height": null,
            "align_content": null,
            "visibility": null,
            "align_self": null,
            "height": null,
            "min_height": null,
            "padding": null,
            "grid_auto_rows": null,
            "grid_gap": null,
            "max_width": null,
            "order": null,
            "_view_module_version": "1.2.0",
            "grid_template_areas": null,
            "object_position": null,
            "object_fit": null,
            "grid_auto_columns": null,
            "margin": null,
            "display": null,
            "left": null
          }
        },
        "3d8ef116696b4e9883745e7f76df3fca": {
          "model_module": "@jupyter-widgets/controls",
          "model_name": "HBoxModel",
          "state": {
            "_view_name": "HBoxView",
            "_dom_classes": [],
            "_model_name": "HBoxModel",
            "_view_module": "@jupyter-widgets/controls",
            "_model_module_version": "1.5.0",
            "_view_count": null,
            "_view_module_version": "1.5.0",
            "box_style": "",
            "layout": "IPY_MODEL_7f114928a9eb4900afb754beae8cd69b",
            "_model_module": "@jupyter-widgets/controls",
            "children": [
              "IPY_MODEL_18e1b054bb044b418de2fd494d47083b",
              "IPY_MODEL_7c6b1bf338a8445d89aa4439f8397205"
            ]
          }
        },
        "7f114928a9eb4900afb754beae8cd69b": {
          "model_module": "@jupyter-widgets/base",
          "model_name": "LayoutModel",
          "state": {
            "_view_name": "LayoutView",
            "grid_template_rows": null,
            "right": null,
            "justify_content": null,
            "_view_module": "@jupyter-widgets/base",
            "overflow": null,
            "_model_module_version": "1.2.0",
            "_view_count": null,
            "flex_flow": null,
            "width": null,
            "min_width": null,
            "border": null,
            "align_items": null,
            "bottom": null,
            "_model_module": "@jupyter-widgets/base",
            "top": null,
            "grid_column": null,
            "overflow_y": null,
            "overflow_x": null,
            "grid_auto_flow": null,
            "grid_area": null,
            "grid_template_columns": null,
            "flex": null,
            "_model_name": "LayoutModel",
            "justify_items": null,
            "grid_row": null,
            "max_height": null,
            "align_content": null,
            "visibility": null,
            "align_self": null,
            "height": null,
            "min_height": null,
            "padding": null,
            "grid_auto_rows": null,
            "grid_gap": null,
            "max_width": null,
            "order": null,
            "_view_module_version": "1.2.0",
            "grid_template_areas": null,
            "object_position": null,
            "object_fit": null,
            "grid_auto_columns": null,
            "margin": null,
            "display": null,
            "left": null
          }
        },
        "18e1b054bb044b418de2fd494d47083b": {
          "model_module": "@jupyter-widgets/controls",
          "model_name": "FloatProgressModel",
          "state": {
            "_view_name": "ProgressView",
            "style": "IPY_MODEL_f5c68739f1c34fd6a02aa5cb57e47d7b",
            "_dom_classes": [],
            "description": "Downloading: 100%",
            "_model_name": "FloatProgressModel",
            "bar_style": "success",
            "max": 112,
            "_view_module": "@jupyter-widgets/controls",
            "_model_module_version": "1.5.0",
            "value": 112,
            "_view_count": null,
            "_view_module_version": "1.5.0",
            "orientation": "horizontal",
            "min": 0,
            "description_tooltip": null,
            "_model_module": "@jupyter-widgets/controls",
            "layout": "IPY_MODEL_e205ed6ec3bf4443a4cb364e41b731cd"
          }
        },
        "7c6b1bf338a8445d89aa4439f8397205": {
          "model_module": "@jupyter-widgets/controls",
          "model_name": "HTMLModel",
          "state": {
            "_view_name": "HTMLView",
            "style": "IPY_MODEL_81ea2daecd0e487990a20fb2d81fbc86",
            "_dom_classes": [],
            "description": "",
            "_model_name": "HTMLModel",
            "placeholder": "​",
            "_view_module": "@jupyter-widgets/controls",
            "_model_module_version": "1.5.0",
            "value": " 112/112 [00:00&lt;00:00, 213B/s]",
            "_view_count": null,
            "_view_module_version": "1.5.0",
            "description_tooltip": null,
            "_model_module": "@jupyter-widgets/controls",
            "layout": "IPY_MODEL_a81e0182b4dc4e96ae55cbea7e77d102"
          }
        },
        "f5c68739f1c34fd6a02aa5cb57e47d7b": {
          "model_module": "@jupyter-widgets/controls",
          "model_name": "ProgressStyleModel",
          "state": {
            "_view_name": "StyleView",
            "_model_name": "ProgressStyleModel",
            "description_width": "initial",
            "_view_module": "@jupyter-widgets/base",
            "_model_module_version": "1.5.0",
            "_view_count": null,
            "_view_module_version": "1.2.0",
            "bar_color": null,
            "_model_module": "@jupyter-widgets/controls"
          }
        },
        "e205ed6ec3bf4443a4cb364e41b731cd": {
          "model_module": "@jupyter-widgets/base",
          "model_name": "LayoutModel",
          "state": {
            "_view_name": "LayoutView",
            "grid_template_rows": null,
            "right": null,
            "justify_content": null,
            "_view_module": "@jupyter-widgets/base",
            "overflow": null,
            "_model_module_version": "1.2.0",
            "_view_count": null,
            "flex_flow": null,
            "width": null,
            "min_width": null,
            "border": null,
            "align_items": null,
            "bottom": null,
            "_model_module": "@jupyter-widgets/base",
            "top": null,
            "grid_column": null,
            "overflow_y": null,
            "overflow_x": null,
            "grid_auto_flow": null,
            "grid_area": null,
            "grid_template_columns": null,
            "flex": null,
            "_model_name": "LayoutModel",
            "justify_items": null,
            "grid_row": null,
            "max_height": null,
            "align_content": null,
            "visibility": null,
            "align_self": null,
            "height": null,
            "min_height": null,
            "padding": null,
            "grid_auto_rows": null,
            "grid_gap": null,
            "max_width": null,
            "order": null,
            "_view_module_version": "1.2.0",
            "grid_template_areas": null,
            "object_position": null,
            "object_fit": null,
            "grid_auto_columns": null,
            "margin": null,
            "display": null,
            "left": null
          }
        },
        "81ea2daecd0e487990a20fb2d81fbc86": {
          "model_module": "@jupyter-widgets/controls",
          "model_name": "DescriptionStyleModel",
          "state": {
            "_view_name": "StyleView",
            "_model_name": "DescriptionStyleModel",
            "description_width": "",
            "_view_module": "@jupyter-widgets/base",
            "_model_module_version": "1.5.0",
            "_view_count": null,
            "_view_module_version": "1.2.0",
            "_model_module": "@jupyter-widgets/controls"
          }
        },
        "a81e0182b4dc4e96ae55cbea7e77d102": {
          "model_module": "@jupyter-widgets/base",
          "model_name": "LayoutModel",
          "state": {
            "_view_name": "LayoutView",
            "grid_template_rows": null,
            "right": null,
            "justify_content": null,
            "_view_module": "@jupyter-widgets/base",
            "overflow": null,
            "_model_module_version": "1.2.0",
            "_view_count": null,
            "flex_flow": null,
            "width": null,
            "min_width": null,
            "border": null,
            "align_items": null,
            "bottom": null,
            "_model_module": "@jupyter-widgets/base",
            "top": null,
            "grid_column": null,
            "overflow_y": null,
            "overflow_x": null,
            "grid_auto_flow": null,
            "grid_area": null,
            "grid_template_columns": null,
            "flex": null,
            "_model_name": "LayoutModel",
            "justify_items": null,
            "grid_row": null,
            "max_height": null,
            "align_content": null,
            "visibility": null,
            "align_self": null,
            "height": null,
            "min_height": null,
            "padding": null,
            "grid_auto_rows": null,
            "grid_gap": null,
            "max_width": null,
            "order": null,
            "_view_module_version": "1.2.0",
            "grid_template_areas": null,
            "object_position": null,
            "object_fit": null,
            "grid_auto_columns": null,
            "margin": null,
            "display": null,
            "left": null
          }
        },
        "1548de0e2a404de686d67459493155a0": {
          "model_module": "@jupyter-widgets/controls",
          "model_name": "HBoxModel",
          "state": {
            "_view_name": "HBoxView",
            "_dom_classes": [],
            "_model_name": "HBoxModel",
            "_view_module": "@jupyter-widgets/controls",
            "_model_module_version": "1.5.0",
            "_view_count": null,
            "_view_module_version": "1.5.0",
            "box_style": "",
            "layout": "IPY_MODEL_8090dac674be4d68ab0b19957f958e19",
            "_model_module": "@jupyter-widgets/controls",
            "children": [
              "IPY_MODEL_aae3b141bed145598038dc7ccab7810c",
              "IPY_MODEL_a4a7ec75f6c1433fae06f6f4a11eb3bc"
            ]
          }
        },
        "8090dac674be4d68ab0b19957f958e19": {
          "model_module": "@jupyter-widgets/base",
          "model_name": "LayoutModel",
          "state": {
            "_view_name": "LayoutView",
            "grid_template_rows": null,
            "right": null,
            "justify_content": null,
            "_view_module": "@jupyter-widgets/base",
            "overflow": null,
            "_model_module_version": "1.2.0",
            "_view_count": null,
            "flex_flow": null,
            "width": null,
            "min_width": null,
            "border": null,
            "align_items": null,
            "bottom": null,
            "_model_module": "@jupyter-widgets/base",
            "top": null,
            "grid_column": null,
            "overflow_y": null,
            "overflow_x": null,
            "grid_auto_flow": null,
            "grid_area": null,
            "grid_template_columns": null,
            "flex": null,
            "_model_name": "LayoutModel",
            "justify_items": null,
            "grid_row": null,
            "max_height": null,
            "align_content": null,
            "visibility": null,
            "align_self": null,
            "height": null,
            "min_height": null,
            "padding": null,
            "grid_auto_rows": null,
            "grid_gap": null,
            "max_width": null,
            "order": null,
            "_view_module_version": "1.2.0",
            "grid_template_areas": null,
            "object_position": null,
            "object_fit": null,
            "grid_auto_columns": null,
            "margin": null,
            "display": null,
            "left": null
          }
        },
        "aae3b141bed145598038dc7ccab7810c": {
          "model_module": "@jupyter-widgets/controls",
          "model_name": "FloatProgressModel",
          "state": {
            "_view_name": "ProgressView",
            "style": "IPY_MODEL_d829e8704fc2412a885bf2d07f5dacec",
            "_dom_classes": [],
            "description": "Downloading: 100%",
            "_model_name": "FloatProgressModel",
            "bar_style": "success",
            "max": 48,
            "_view_module": "@jupyter-widgets/controls",
            "_model_module_version": "1.5.0",
            "value": 48,
            "_view_count": null,
            "_view_module_version": "1.5.0",
            "orientation": "horizontal",
            "min": 0,
            "description_tooltip": null,
            "_model_module": "@jupyter-widgets/controls",
            "layout": "IPY_MODEL_2d199c27082540e9b1adbfed968697e8"
          }
        },
        "a4a7ec75f6c1433fae06f6f4a11eb3bc": {
          "model_module": "@jupyter-widgets/controls",
          "model_name": "HTMLModel",
          "state": {
            "_view_name": "HTMLView",
            "style": "IPY_MODEL_563f374bbd5848939a24773153475bbc",
            "_dom_classes": [],
            "description": "",
            "_model_name": "HTMLModel",
            "placeholder": "​",
            "_view_module": "@jupyter-widgets/controls",
            "_model_module_version": "1.5.0",
            "value": " 48.0/48.0 [00:00&lt;00:00, 629B/s]",
            "_view_count": null,
            "_view_module_version": "1.5.0",
            "description_tooltip": null,
            "_model_module": "@jupyter-widgets/controls",
            "layout": "IPY_MODEL_c29dcde83a744eda9cbf901f22256c92"
          }
        },
        "d829e8704fc2412a885bf2d07f5dacec": {
          "model_module": "@jupyter-widgets/controls",
          "model_name": "ProgressStyleModel",
          "state": {
            "_view_name": "StyleView",
            "_model_name": "ProgressStyleModel",
            "description_width": "initial",
            "_view_module": "@jupyter-widgets/base",
            "_model_module_version": "1.5.0",
            "_view_count": null,
            "_view_module_version": "1.2.0",
            "bar_color": null,
            "_model_module": "@jupyter-widgets/controls"
          }
        },
        "2d199c27082540e9b1adbfed968697e8": {
          "model_module": "@jupyter-widgets/base",
          "model_name": "LayoutModel",
          "state": {
            "_view_name": "LayoutView",
            "grid_template_rows": null,
            "right": null,
            "justify_content": null,
            "_view_module": "@jupyter-widgets/base",
            "overflow": null,
            "_model_module_version": "1.2.0",
            "_view_count": null,
            "flex_flow": null,
            "width": null,
            "min_width": null,
            "border": null,
            "align_items": null,
            "bottom": null,
            "_model_module": "@jupyter-widgets/base",
            "top": null,
            "grid_column": null,
            "overflow_y": null,
            "overflow_x": null,
            "grid_auto_flow": null,
            "grid_area": null,
            "grid_template_columns": null,
            "flex": null,
            "_model_name": "LayoutModel",
            "justify_items": null,
            "grid_row": null,
            "max_height": null,
            "align_content": null,
            "visibility": null,
            "align_self": null,
            "height": null,
            "min_height": null,
            "padding": null,
            "grid_auto_rows": null,
            "grid_gap": null,
            "max_width": null,
            "order": null,
            "_view_module_version": "1.2.0",
            "grid_template_areas": null,
            "object_position": null,
            "object_fit": null,
            "grid_auto_columns": null,
            "margin": null,
            "display": null,
            "left": null
          }
        },
        "563f374bbd5848939a24773153475bbc": {
          "model_module": "@jupyter-widgets/controls",
          "model_name": "DescriptionStyleModel",
          "state": {
            "_view_name": "StyleView",
            "_model_name": "DescriptionStyleModel",
            "description_width": "",
            "_view_module": "@jupyter-widgets/base",
            "_model_module_version": "1.5.0",
            "_view_count": null,
            "_view_module_version": "1.2.0",
            "_model_module": "@jupyter-widgets/controls"
          }
        },
        "c29dcde83a744eda9cbf901f22256c92": {
          "model_module": "@jupyter-widgets/base",
          "model_name": "LayoutModel",
          "state": {
            "_view_name": "LayoutView",
            "grid_template_rows": null,
            "right": null,
            "justify_content": null,
            "_view_module": "@jupyter-widgets/base",
            "overflow": null,
            "_model_module_version": "1.2.0",
            "_view_count": null,
            "flex_flow": null,
            "width": null,
            "min_width": null,
            "border": null,
            "align_items": null,
            "bottom": null,
            "_model_module": "@jupyter-widgets/base",
            "top": null,
            "grid_column": null,
            "overflow_y": null,
            "overflow_x": null,
            "grid_auto_flow": null,
            "grid_area": null,
            "grid_template_columns": null,
            "flex": null,
            "_model_name": "LayoutModel",
            "justify_items": null,
            "grid_row": null,
            "max_height": null,
            "align_content": null,
            "visibility": null,
            "align_self": null,
            "height": null,
            "min_height": null,
            "padding": null,
            "grid_auto_rows": null,
            "grid_gap": null,
            "max_width": null,
            "order": null,
            "_view_module_version": "1.2.0",
            "grid_template_areas": null,
            "object_position": null,
            "object_fit": null,
            "grid_auto_columns": null,
            "margin": null,
            "display": null,
            "left": null
          }
        },
        "b7d146a40a7843bf863f25ae64915579": {
          "model_module": "@jupyter-widgets/controls",
          "model_name": "HBoxModel",
          "state": {
            "_view_name": "HBoxView",
            "_dom_classes": [],
            "_model_name": "HBoxModel",
            "_view_module": "@jupyter-widgets/controls",
            "_model_module_version": "1.5.0",
            "_view_count": null,
            "_view_module_version": "1.5.0",
            "box_style": "",
            "layout": "IPY_MODEL_87275221119f4bb695f0247ae8348b6b",
            "_model_module": "@jupyter-widgets/controls",
            "children": [
              "IPY_MODEL_52f53b434b59499bbe07103d6f0a1ce3",
              "IPY_MODEL_dfb28ed16aa14e348a6edb3da23dc4e0"
            ]
          }
        },
        "87275221119f4bb695f0247ae8348b6b": {
          "model_module": "@jupyter-widgets/base",
          "model_name": "LayoutModel",
          "state": {
            "_view_name": "LayoutView",
            "grid_template_rows": null,
            "right": null,
            "justify_content": null,
            "_view_module": "@jupyter-widgets/base",
            "overflow": null,
            "_model_module_version": "1.2.0",
            "_view_count": null,
            "flex_flow": null,
            "width": null,
            "min_width": null,
            "border": null,
            "align_items": null,
            "bottom": null,
            "_model_module": "@jupyter-widgets/base",
            "top": null,
            "grid_column": null,
            "overflow_y": null,
            "overflow_x": null,
            "grid_auto_flow": null,
            "grid_area": null,
            "grid_template_columns": null,
            "flex": null,
            "_model_name": "LayoutModel",
            "justify_items": null,
            "grid_row": null,
            "max_height": null,
            "align_content": null,
            "visibility": null,
            "align_self": null,
            "height": null,
            "min_height": null,
            "padding": null,
            "grid_auto_rows": null,
            "grid_gap": null,
            "max_width": null,
            "order": null,
            "_view_module_version": "1.2.0",
            "grid_template_areas": null,
            "object_position": null,
            "object_fit": null,
            "grid_auto_columns": null,
            "margin": null,
            "display": null,
            "left": null
          }
        },
        "52f53b434b59499bbe07103d6f0a1ce3": {
          "model_module": "@jupyter-widgets/controls",
          "model_name": "FloatProgressModel",
          "state": {
            "_view_name": "ProgressView",
            "style": "IPY_MODEL_98eb1bad018f4a04885a329b2d83d9c6",
            "_dom_classes": [],
            "description": "Downloading: ",
            "_model_name": "FloatProgressModel",
            "bar_style": "success",
            "max": 1867,
            "_view_module": "@jupyter-widgets/controls",
            "_model_module_version": "1.5.0",
            "value": 1867,
            "_view_count": null,
            "_view_module_version": "1.5.0",
            "orientation": "horizontal",
            "min": 0,
            "description_tooltip": null,
            "_model_module": "@jupyter-widgets/controls",
            "layout": "IPY_MODEL_af669f4f461948b5adf73f2d18630247"
          }
        },
        "dfb28ed16aa14e348a6edb3da23dc4e0": {
          "model_module": "@jupyter-widgets/controls",
          "model_name": "HTMLModel",
          "state": {
            "_view_name": "HTMLView",
            "style": "IPY_MODEL_80fdc3beaf9b44c8ba5bd03e524eaaf2",
            "_dom_classes": [],
            "description": "",
            "_model_name": "HTMLModel",
            "placeholder": "​",
            "_view_module": "@jupyter-widgets/controls",
            "_model_module_version": "1.5.0",
            "value": " 4.61k/? [00:00&lt;00:00, 14.6kB/s]",
            "_view_count": null,
            "_view_module_version": "1.5.0",
            "description_tooltip": null,
            "_model_module": "@jupyter-widgets/controls",
            "layout": "IPY_MODEL_51fe1d3e478e4d04a7f76ad0cf5a36ad"
          }
        },
        "98eb1bad018f4a04885a329b2d83d9c6": {
          "model_module": "@jupyter-widgets/controls",
          "model_name": "ProgressStyleModel",
          "state": {
            "_view_name": "StyleView",
            "_model_name": "ProgressStyleModel",
            "description_width": "initial",
            "_view_module": "@jupyter-widgets/base",
            "_model_module_version": "1.5.0",
            "_view_count": null,
            "_view_module_version": "1.2.0",
            "bar_color": null,
            "_model_module": "@jupyter-widgets/controls"
          }
        },
        "af669f4f461948b5adf73f2d18630247": {
          "model_module": "@jupyter-widgets/base",
          "model_name": "LayoutModel",
          "state": {
            "_view_name": "LayoutView",
            "grid_template_rows": null,
            "right": null,
            "justify_content": null,
            "_view_module": "@jupyter-widgets/base",
            "overflow": null,
            "_model_module_version": "1.2.0",
            "_view_count": null,
            "flex_flow": null,
            "width": null,
            "min_width": null,
            "border": null,
            "align_items": null,
            "bottom": null,
            "_model_module": "@jupyter-widgets/base",
            "top": null,
            "grid_column": null,
            "overflow_y": null,
            "overflow_x": null,
            "grid_auto_flow": null,
            "grid_area": null,
            "grid_template_columns": null,
            "flex": null,
            "_model_name": "LayoutModel",
            "justify_items": null,
            "grid_row": null,
            "max_height": null,
            "align_content": null,
            "visibility": null,
            "align_self": null,
            "height": null,
            "min_height": null,
            "padding": null,
            "grid_auto_rows": null,
            "grid_gap": null,
            "max_width": null,
            "order": null,
            "_view_module_version": "1.2.0",
            "grid_template_areas": null,
            "object_position": null,
            "object_fit": null,
            "grid_auto_columns": null,
            "margin": null,
            "display": null,
            "left": null
          }
        },
        "80fdc3beaf9b44c8ba5bd03e524eaaf2": {
          "model_module": "@jupyter-widgets/controls",
          "model_name": "DescriptionStyleModel",
          "state": {
            "_view_name": "StyleView",
            "_model_name": "DescriptionStyleModel",
            "description_width": "",
            "_view_module": "@jupyter-widgets/base",
            "_model_module_version": "1.5.0",
            "_view_count": null,
            "_view_module_version": "1.2.0",
            "_model_module": "@jupyter-widgets/controls"
          }
        },
        "51fe1d3e478e4d04a7f76ad0cf5a36ad": {
          "model_module": "@jupyter-widgets/base",
          "model_name": "LayoutModel",
          "state": {
            "_view_name": "LayoutView",
            "grid_template_rows": null,
            "right": null,
            "justify_content": null,
            "_view_module": "@jupyter-widgets/base",
            "overflow": null,
            "_model_module_version": "1.2.0",
            "_view_count": null,
            "flex_flow": null,
            "width": null,
            "min_width": null,
            "border": null,
            "align_items": null,
            "bottom": null,
            "_model_module": "@jupyter-widgets/base",
            "top": null,
            "grid_column": null,
            "overflow_y": null,
            "overflow_x": null,
            "grid_auto_flow": null,
            "grid_area": null,
            "grid_template_columns": null,
            "flex": null,
            "_model_name": "LayoutModel",
            "justify_items": null,
            "grid_row": null,
            "max_height": null,
            "align_content": null,
            "visibility": null,
            "align_self": null,
            "height": null,
            "min_height": null,
            "padding": null,
            "grid_auto_rows": null,
            "grid_gap": null,
            "max_width": null,
            "order": null,
            "_view_module_version": "1.2.0",
            "grid_template_areas": null,
            "object_position": null,
            "object_fit": null,
            "grid_auto_columns": null,
            "margin": null,
            "display": null,
            "left": null
          }
        },
        "d360d2af207c46499eee5a195edd1a13": {
          "model_module": "@jupyter-widgets/controls",
          "model_name": "HBoxModel",
          "state": {
            "_view_name": "HBoxView",
            "_dom_classes": [],
            "_model_name": "HBoxModel",
            "_view_module": "@jupyter-widgets/controls",
            "_model_module_version": "1.5.0",
            "_view_count": null,
            "_view_module_version": "1.5.0",
            "box_style": "",
            "layout": "IPY_MODEL_3785d262b8674c728aefa7493bc27979",
            "_model_module": "@jupyter-widgets/controls",
            "children": [
              "IPY_MODEL_55313f1078fc400aa5a21bd236afcba3",
              "IPY_MODEL_b1ed6a9a4cfe4473bded37d94b73a8b1"
            ]
          }
        },
        "3785d262b8674c728aefa7493bc27979": {
          "model_module": "@jupyter-widgets/base",
          "model_name": "LayoutModel",
          "state": {
            "_view_name": "LayoutView",
            "grid_template_rows": null,
            "right": null,
            "justify_content": null,
            "_view_module": "@jupyter-widgets/base",
            "overflow": null,
            "_model_module_version": "1.2.0",
            "_view_count": null,
            "flex_flow": null,
            "width": null,
            "min_width": null,
            "border": null,
            "align_items": null,
            "bottom": null,
            "_model_module": "@jupyter-widgets/base",
            "top": null,
            "grid_column": null,
            "overflow_y": null,
            "overflow_x": null,
            "grid_auto_flow": null,
            "grid_area": null,
            "grid_template_columns": null,
            "flex": null,
            "_model_name": "LayoutModel",
            "justify_items": null,
            "grid_row": null,
            "max_height": null,
            "align_content": null,
            "visibility": null,
            "align_self": null,
            "height": null,
            "min_height": null,
            "padding": null,
            "grid_auto_rows": null,
            "grid_gap": null,
            "max_width": null,
            "order": null,
            "_view_module_version": "1.2.0",
            "grid_template_areas": null,
            "object_position": null,
            "object_fit": null,
            "grid_auto_columns": null,
            "margin": null,
            "display": null,
            "left": null
          }
        },
        "55313f1078fc400aa5a21bd236afcba3": {
          "model_module": "@jupyter-widgets/controls",
          "model_name": "FloatProgressModel",
          "state": {
            "_view_name": "ProgressView",
            "style": "IPY_MODEL_c200dbb5db914ab0b2bec7ac0a55cbb6",
            "_dom_classes": [],
            "description": "Downloading: ",
            "_model_name": "FloatProgressModel",
            "bar_style": "success",
            "max": 1004,
            "_view_module": "@jupyter-widgets/controls",
            "_model_module_version": "1.5.0",
            "value": 1004,
            "_view_count": null,
            "_view_module_version": "1.5.0",
            "orientation": "horizontal",
            "min": 0,
            "description_tooltip": null,
            "_model_module": "@jupyter-widgets/controls",
            "layout": "IPY_MODEL_1761def77aa24b24baec80e5c9c927c8"
          }
        },
        "b1ed6a9a4cfe4473bded37d94b73a8b1": {
          "model_module": "@jupyter-widgets/controls",
          "model_name": "HTMLModel",
          "state": {
            "_view_name": "HTMLView",
            "style": "IPY_MODEL_c1c269848b77431b862ab8694c76479c",
            "_dom_classes": [],
            "description": "",
            "_model_name": "HTMLModel",
            "placeholder": "​",
            "_view_module": "@jupyter-widgets/controls",
            "_model_module_version": "1.5.0",
            "value": " 2.02k/? [00:00&lt;00:00, 31.7kB/s]",
            "_view_count": null,
            "_view_module_version": "1.5.0",
            "description_tooltip": null,
            "_model_module": "@jupyter-widgets/controls",
            "layout": "IPY_MODEL_4b4e83b99c614193bf756fa8072a099c"
          }
        },
        "c200dbb5db914ab0b2bec7ac0a55cbb6": {
          "model_module": "@jupyter-widgets/controls",
          "model_name": "ProgressStyleModel",
          "state": {
            "_view_name": "StyleView",
            "_model_name": "ProgressStyleModel",
            "description_width": "initial",
            "_view_module": "@jupyter-widgets/base",
            "_model_module_version": "1.5.0",
            "_view_count": null,
            "_view_module_version": "1.2.0",
            "bar_color": null,
            "_model_module": "@jupyter-widgets/controls"
          }
        },
        "1761def77aa24b24baec80e5c9c927c8": {
          "model_module": "@jupyter-widgets/base",
          "model_name": "LayoutModel",
          "state": {
            "_view_name": "LayoutView",
            "grid_template_rows": null,
            "right": null,
            "justify_content": null,
            "_view_module": "@jupyter-widgets/base",
            "overflow": null,
            "_model_module_version": "1.2.0",
            "_view_count": null,
            "flex_flow": null,
            "width": null,
            "min_width": null,
            "border": null,
            "align_items": null,
            "bottom": null,
            "_model_module": "@jupyter-widgets/base",
            "top": null,
            "grid_column": null,
            "overflow_y": null,
            "overflow_x": null,
            "grid_auto_flow": null,
            "grid_area": null,
            "grid_template_columns": null,
            "flex": null,
            "_model_name": "LayoutModel",
            "justify_items": null,
            "grid_row": null,
            "max_height": null,
            "align_content": null,
            "visibility": null,
            "align_self": null,
            "height": null,
            "min_height": null,
            "padding": null,
            "grid_auto_rows": null,
            "grid_gap": null,
            "max_width": null,
            "order": null,
            "_view_module_version": "1.2.0",
            "grid_template_areas": null,
            "object_position": null,
            "object_fit": null,
            "grid_auto_columns": null,
            "margin": null,
            "display": null,
            "left": null
          }
        },
        "c1c269848b77431b862ab8694c76479c": {
          "model_module": "@jupyter-widgets/controls",
          "model_name": "DescriptionStyleModel",
          "state": {
            "_view_name": "StyleView",
            "_model_name": "DescriptionStyleModel",
            "description_width": "",
            "_view_module": "@jupyter-widgets/base",
            "_model_module_version": "1.5.0",
            "_view_count": null,
            "_view_module_version": "1.2.0",
            "_model_module": "@jupyter-widgets/controls"
          }
        },
        "4b4e83b99c614193bf756fa8072a099c": {
          "model_module": "@jupyter-widgets/base",
          "model_name": "LayoutModel",
          "state": {
            "_view_name": "LayoutView",
            "grid_template_rows": null,
            "right": null,
            "justify_content": null,
            "_view_module": "@jupyter-widgets/base",
            "overflow": null,
            "_model_module_version": "1.2.0",
            "_view_count": null,
            "flex_flow": null,
            "width": null,
            "min_width": null,
            "border": null,
            "align_items": null,
            "bottom": null,
            "_model_module": "@jupyter-widgets/base",
            "top": null,
            "grid_column": null,
            "overflow_y": null,
            "overflow_x": null,
            "grid_auto_flow": null,
            "grid_area": null,
            "grid_template_columns": null,
            "flex": null,
            "_model_name": "LayoutModel",
            "justify_items": null,
            "grid_row": null,
            "max_height": null,
            "align_content": null,
            "visibility": null,
            "align_self": null,
            "height": null,
            "min_height": null,
            "padding": null,
            "grid_auto_rows": null,
            "grid_gap": null,
            "max_width": null,
            "order": null,
            "_view_module_version": "1.2.0",
            "grid_template_areas": null,
            "object_position": null,
            "object_fit": null,
            "grid_auto_columns": null,
            "margin": null,
            "display": null,
            "left": null
          }
        },
        "7f3906a084004100bc0961cac2597d05": {
          "model_module": "@jupyter-widgets/controls",
          "model_name": "HBoxModel",
          "state": {
            "_view_name": "HBoxView",
            "_dom_classes": [],
            "_model_name": "HBoxModel",
            "_view_module": "@jupyter-widgets/controls",
            "_model_module_version": "1.5.0",
            "_view_count": null,
            "_view_module_version": "1.5.0",
            "box_style": "",
            "layout": "IPY_MODEL_ac05a2a10b5e45e6b7c56dd5e816a701",
            "_model_module": "@jupyter-widgets/controls",
            "children": [
              "IPY_MODEL_8cb76673716648af985fe5728b0f30ef",
              "IPY_MODEL_f6876032a474457283e10f3b96bf5fca"
            ]
          }
        },
        "ac05a2a10b5e45e6b7c56dd5e816a701": {
          "model_module": "@jupyter-widgets/base",
          "model_name": "LayoutModel",
          "state": {
            "_view_name": "LayoutView",
            "grid_template_rows": null,
            "right": null,
            "justify_content": null,
            "_view_module": "@jupyter-widgets/base",
            "overflow": null,
            "_model_module_version": "1.2.0",
            "_view_count": null,
            "flex_flow": null,
            "width": null,
            "min_width": null,
            "border": null,
            "align_items": null,
            "bottom": null,
            "_model_module": "@jupyter-widgets/base",
            "top": null,
            "grid_column": null,
            "overflow_y": null,
            "overflow_x": null,
            "grid_auto_flow": null,
            "grid_area": null,
            "grid_template_columns": null,
            "flex": null,
            "_model_name": "LayoutModel",
            "justify_items": null,
            "grid_row": null,
            "max_height": null,
            "align_content": null,
            "visibility": null,
            "align_self": null,
            "height": null,
            "min_height": null,
            "padding": null,
            "grid_auto_rows": null,
            "grid_gap": null,
            "max_width": null,
            "order": null,
            "_view_module_version": "1.2.0",
            "grid_template_areas": null,
            "object_position": null,
            "object_fit": null,
            "grid_auto_columns": null,
            "margin": null,
            "display": null,
            "left": null
          }
        },
        "8cb76673716648af985fe5728b0f30ef": {
          "model_module": "@jupyter-widgets/controls",
          "model_name": "FloatProgressModel",
          "state": {
            "_view_name": "ProgressView",
            "style": "IPY_MODEL_692754fc09bf40b9b2955ec257992b30",
            "_dom_classes": [],
            "description": "Downloading: 100%",
            "_model_name": "FloatProgressModel",
            "bar_style": "success",
            "max": 84125825,
            "_view_module": "@jupyter-widgets/controls",
            "_model_module_version": "1.5.0",
            "value": 84125825,
            "_view_count": null,
            "_view_module_version": "1.5.0",
            "orientation": "horizontal",
            "min": 0,
            "description_tooltip": null,
            "_model_module": "@jupyter-widgets/controls",
            "layout": "IPY_MODEL_06e33c3c5f9a44d2bf1ed048b8e9cbab"
          }
        },
        "f6876032a474457283e10f3b96bf5fca": {
          "model_module": "@jupyter-widgets/controls",
          "model_name": "HTMLModel",
          "state": {
            "_view_name": "HTMLView",
            "style": "IPY_MODEL_4e689a7d34b34ffaa7ed80576c55d7e2",
            "_dom_classes": [],
            "description": "",
            "_model_name": "HTMLModel",
            "placeholder": "​",
            "_view_module": "@jupyter-widgets/controls",
            "_model_module_version": "1.5.0",
            "value": " 84.1M/84.1M [00:03&lt;00:00, 25.9MB/s]",
            "_view_count": null,
            "_view_module_version": "1.5.0",
            "description_tooltip": null,
            "_model_module": "@jupyter-widgets/controls",
            "layout": "IPY_MODEL_18b55a24cbcc4d85b2e26f409130291d"
          }
        },
        "692754fc09bf40b9b2955ec257992b30": {
          "model_module": "@jupyter-widgets/controls",
          "model_name": "ProgressStyleModel",
          "state": {
            "_view_name": "StyleView",
            "_model_name": "ProgressStyleModel",
            "description_width": "initial",
            "_view_module": "@jupyter-widgets/base",
            "_model_module_version": "1.5.0",
            "_view_count": null,
            "_view_module_version": "1.2.0",
            "bar_color": null,
            "_model_module": "@jupyter-widgets/controls"
          }
        },
        "06e33c3c5f9a44d2bf1ed048b8e9cbab": {
          "model_module": "@jupyter-widgets/base",
          "model_name": "LayoutModel",
          "state": {
            "_view_name": "LayoutView",
            "grid_template_rows": null,
            "right": null,
            "justify_content": null,
            "_view_module": "@jupyter-widgets/base",
            "overflow": null,
            "_model_module_version": "1.2.0",
            "_view_count": null,
            "flex_flow": null,
            "width": null,
            "min_width": null,
            "border": null,
            "align_items": null,
            "bottom": null,
            "_model_module": "@jupyter-widgets/base",
            "top": null,
            "grid_column": null,
            "overflow_y": null,
            "overflow_x": null,
            "grid_auto_flow": null,
            "grid_area": null,
            "grid_template_columns": null,
            "flex": null,
            "_model_name": "LayoutModel",
            "justify_items": null,
            "grid_row": null,
            "max_height": null,
            "align_content": null,
            "visibility": null,
            "align_self": null,
            "height": null,
            "min_height": null,
            "padding": null,
            "grid_auto_rows": null,
            "grid_gap": null,
            "max_width": null,
            "order": null,
            "_view_module_version": "1.2.0",
            "grid_template_areas": null,
            "object_position": null,
            "object_fit": null,
            "grid_auto_columns": null,
            "margin": null,
            "display": null,
            "left": null
          }
        },
        "4e689a7d34b34ffaa7ed80576c55d7e2": {
          "model_module": "@jupyter-widgets/controls",
          "model_name": "DescriptionStyleModel",
          "state": {
            "_view_name": "StyleView",
            "_model_name": "DescriptionStyleModel",
            "description_width": "",
            "_view_module": "@jupyter-widgets/base",
            "_model_module_version": "1.5.0",
            "_view_count": null,
            "_view_module_version": "1.2.0",
            "_model_module": "@jupyter-widgets/controls"
          }
        },
        "18b55a24cbcc4d85b2e26f409130291d": {
          "model_module": "@jupyter-widgets/base",
          "model_name": "LayoutModel",
          "state": {
            "_view_name": "LayoutView",
            "grid_template_rows": null,
            "right": null,
            "justify_content": null,
            "_view_module": "@jupyter-widgets/base",
            "overflow": null,
            "_model_module_version": "1.2.0",
            "_view_count": null,
            "flex_flow": null,
            "width": null,
            "min_width": null,
            "border": null,
            "align_items": null,
            "bottom": null,
            "_model_module": "@jupyter-widgets/base",
            "top": null,
            "grid_column": null,
            "overflow_y": null,
            "overflow_x": null,
            "grid_auto_flow": null,
            "grid_area": null,
            "grid_template_columns": null,
            "flex": null,
            "_model_name": "LayoutModel",
            "justify_items": null,
            "grid_row": null,
            "max_height": null,
            "align_content": null,
            "visibility": null,
            "align_self": null,
            "height": null,
            "min_height": null,
            "padding": null,
            "grid_auto_rows": null,
            "grid_gap": null,
            "max_width": null,
            "order": null,
            "_view_module_version": "1.2.0",
            "grid_template_areas": null,
            "object_position": null,
            "object_fit": null,
            "grid_auto_columns": null,
            "margin": null,
            "display": null,
            "left": null
          }
        },
        "258b05bff825410e95f12419d0e74a65": {
          "model_module": "@jupyter-widgets/controls",
          "model_name": "HBoxModel",
          "state": {
            "_view_name": "HBoxView",
            "_dom_classes": [],
            "_model_name": "HBoxModel",
            "_view_module": "@jupyter-widgets/controls",
            "_model_module_version": "1.5.0",
            "_view_count": null,
            "_view_module_version": "1.5.0",
            "box_style": "",
            "layout": "IPY_MODEL_d6d40392deae43f1b0c5c0d4e21c757c",
            "_model_module": "@jupyter-widgets/controls",
            "children": [
              "IPY_MODEL_9f106892601f4cdf9d7bcf27ab660f19",
              "IPY_MODEL_8696305c1fcd4d7a9b3857ebd9964a3a"
            ]
          }
        },
        "d6d40392deae43f1b0c5c0d4e21c757c": {
          "model_module": "@jupyter-widgets/base",
          "model_name": "LayoutModel",
          "state": {
            "_view_name": "LayoutView",
            "grid_template_rows": null,
            "right": null,
            "justify_content": null,
            "_view_module": "@jupyter-widgets/base",
            "overflow": null,
            "_model_module_version": "1.2.0",
            "_view_count": null,
            "flex_flow": null,
            "width": null,
            "min_width": null,
            "border": null,
            "align_items": null,
            "bottom": null,
            "_model_module": "@jupyter-widgets/base",
            "top": null,
            "grid_column": null,
            "overflow_y": null,
            "overflow_x": null,
            "grid_auto_flow": null,
            "grid_area": null,
            "grid_template_columns": null,
            "flex": null,
            "_model_name": "LayoutModel",
            "justify_items": null,
            "grid_row": null,
            "max_height": null,
            "align_content": null,
            "visibility": null,
            "align_self": null,
            "height": null,
            "min_height": null,
            "padding": null,
            "grid_auto_rows": null,
            "grid_gap": null,
            "max_width": null,
            "order": null,
            "_view_module_version": "1.2.0",
            "grid_template_areas": null,
            "object_position": null,
            "object_fit": null,
            "grid_auto_columns": null,
            "margin": null,
            "display": null,
            "left": null
          }
        },
        "9f106892601f4cdf9d7bcf27ab660f19": {
          "model_module": "@jupyter-widgets/controls",
          "model_name": "FloatProgressModel",
          "state": {
            "_view_name": "ProgressView",
            "style": "IPY_MODEL_4c870d440005415685b5a1445553972c",
            "_dom_classes": [],
            "description": "",
            "_model_name": "FloatProgressModel",
            "bar_style": "info",
            "max": 1,
            "_view_module": "@jupyter-widgets/controls",
            "_model_module_version": "1.5.0",
            "value": 1,
            "_view_count": null,
            "_view_module_version": "1.5.0",
            "orientation": "horizontal",
            "min": 0,
            "description_tooltip": null,
            "_model_module": "@jupyter-widgets/controls",
            "layout": "IPY_MODEL_49f98b5ce5b54214bcc0bcc04d9bb1da"
          }
        },
        "8696305c1fcd4d7a9b3857ebd9964a3a": {
          "model_module": "@jupyter-widgets/controls",
          "model_name": "HTMLModel",
          "state": {
            "_view_name": "HTMLView",
            "style": "IPY_MODEL_1aca9855b5344034af4806f2e4da21e8",
            "_dom_classes": [],
            "description": "",
            "_model_name": "HTMLModel",
            "placeholder": "​",
            "_view_module": "@jupyter-widgets/controls",
            "_model_module_version": "1.5.0",
            "value": " 25000/0 [00:02&lt;00:00, 30.37 examples/s]",
            "_view_count": null,
            "_view_module_version": "1.5.0",
            "description_tooltip": null,
            "_model_module": "@jupyter-widgets/controls",
            "layout": "IPY_MODEL_6c7318421a004537bc5d72ae283c167b"
          }
        },
        "4c870d440005415685b5a1445553972c": {
          "model_module": "@jupyter-widgets/controls",
          "model_name": "ProgressStyleModel",
          "state": {
            "_view_name": "StyleView",
            "_model_name": "ProgressStyleModel",
            "description_width": "initial",
            "_view_module": "@jupyter-widgets/base",
            "_model_module_version": "1.5.0",
            "_view_count": null,
            "_view_module_version": "1.2.0",
            "bar_color": null,
            "_model_module": "@jupyter-widgets/controls"
          }
        },
        "49f98b5ce5b54214bcc0bcc04d9bb1da": {
          "model_module": "@jupyter-widgets/base",
          "model_name": "LayoutModel",
          "state": {
            "_view_name": "LayoutView",
            "grid_template_rows": null,
            "right": null,
            "justify_content": null,
            "_view_module": "@jupyter-widgets/base",
            "overflow": null,
            "_model_module_version": "1.2.0",
            "_view_count": null,
            "flex_flow": null,
            "width": null,
            "min_width": null,
            "border": null,
            "align_items": null,
            "bottom": null,
            "_model_module": "@jupyter-widgets/base",
            "top": null,
            "grid_column": null,
            "overflow_y": null,
            "overflow_x": null,
            "grid_auto_flow": null,
            "grid_area": null,
            "grid_template_columns": null,
            "flex": null,
            "_model_name": "LayoutModel",
            "justify_items": null,
            "grid_row": null,
            "max_height": null,
            "align_content": null,
            "visibility": null,
            "align_self": null,
            "height": null,
            "min_height": null,
            "padding": null,
            "grid_auto_rows": null,
            "grid_gap": null,
            "max_width": null,
            "order": null,
            "_view_module_version": "1.2.0",
            "grid_template_areas": null,
            "object_position": null,
            "object_fit": null,
            "grid_auto_columns": null,
            "margin": null,
            "display": null,
            "left": null
          }
        },
        "1aca9855b5344034af4806f2e4da21e8": {
          "model_module": "@jupyter-widgets/controls",
          "model_name": "DescriptionStyleModel",
          "state": {
            "_view_name": "StyleView",
            "_model_name": "DescriptionStyleModel",
            "description_width": "",
            "_view_module": "@jupyter-widgets/base",
            "_model_module_version": "1.5.0",
            "_view_count": null,
            "_view_module_version": "1.2.0",
            "_model_module": "@jupyter-widgets/controls"
          }
        },
        "6c7318421a004537bc5d72ae283c167b": {
          "model_module": "@jupyter-widgets/base",
          "model_name": "LayoutModel",
          "state": {
            "_view_name": "LayoutView",
            "grid_template_rows": null,
            "right": null,
            "justify_content": null,
            "_view_module": "@jupyter-widgets/base",
            "overflow": null,
            "_model_module_version": "1.2.0",
            "_view_count": null,
            "flex_flow": null,
            "width": null,
            "min_width": null,
            "border": null,
            "align_items": null,
            "bottom": null,
            "_model_module": "@jupyter-widgets/base",
            "top": null,
            "grid_column": null,
            "overflow_y": null,
            "overflow_x": null,
            "grid_auto_flow": null,
            "grid_area": null,
            "grid_template_columns": null,
            "flex": null,
            "_model_name": "LayoutModel",
            "justify_items": null,
            "grid_row": null,
            "max_height": null,
            "align_content": null,
            "visibility": null,
            "align_self": null,
            "height": null,
            "min_height": null,
            "padding": null,
            "grid_auto_rows": null,
            "grid_gap": null,
            "max_width": null,
            "order": null,
            "_view_module_version": "1.2.0",
            "grid_template_areas": null,
            "object_position": null,
            "object_fit": null,
            "grid_auto_columns": null,
            "margin": null,
            "display": null,
            "left": null
          }
        },
        "040abb3843c14adc8c3c67782f32574f": {
          "model_module": "@jupyter-widgets/controls",
          "model_name": "HBoxModel",
          "state": {
            "_view_name": "HBoxView",
            "_dom_classes": [],
            "_model_name": "HBoxModel",
            "_view_module": "@jupyter-widgets/controls",
            "_model_module_version": "1.5.0",
            "_view_count": null,
            "_view_module_version": "1.5.0",
            "box_style": "",
            "layout": "IPY_MODEL_2102527bac054311977b275a055ea31f",
            "_model_module": "@jupyter-widgets/controls",
            "children": [
              "IPY_MODEL_82d812ea55c64ae4be961917f3f3f262",
              "IPY_MODEL_dae4830de8d7401f9ec7efe8fda4642e"
            ]
          }
        },
        "2102527bac054311977b275a055ea31f": {
          "model_module": "@jupyter-widgets/base",
          "model_name": "LayoutModel",
          "state": {
            "_view_name": "LayoutView",
            "grid_template_rows": null,
            "right": null,
            "justify_content": null,
            "_view_module": "@jupyter-widgets/base",
            "overflow": null,
            "_model_module_version": "1.2.0",
            "_view_count": null,
            "flex_flow": null,
            "width": null,
            "min_width": null,
            "border": null,
            "align_items": null,
            "bottom": null,
            "_model_module": "@jupyter-widgets/base",
            "top": null,
            "grid_column": null,
            "overflow_y": null,
            "overflow_x": null,
            "grid_auto_flow": null,
            "grid_area": null,
            "grid_template_columns": null,
            "flex": null,
            "_model_name": "LayoutModel",
            "justify_items": null,
            "grid_row": null,
            "max_height": null,
            "align_content": null,
            "visibility": null,
            "align_self": null,
            "height": null,
            "min_height": null,
            "padding": null,
            "grid_auto_rows": null,
            "grid_gap": null,
            "max_width": null,
            "order": null,
            "_view_module_version": "1.2.0",
            "grid_template_areas": null,
            "object_position": null,
            "object_fit": null,
            "grid_auto_columns": null,
            "margin": null,
            "display": null,
            "left": null
          }
        },
        "82d812ea55c64ae4be961917f3f3f262": {
          "model_module": "@jupyter-widgets/controls",
          "model_name": "FloatProgressModel",
          "state": {
            "_view_name": "ProgressView",
            "style": "IPY_MODEL_a745e895b89d4e2fa3ecd6ede79eaf55",
            "_dom_classes": [],
            "description": "",
            "_model_name": "FloatProgressModel",
            "bar_style": "info",
            "max": 1,
            "_view_module": "@jupyter-widgets/controls",
            "_model_module_version": "1.5.0",
            "value": 1,
            "_view_count": null,
            "_view_module_version": "1.5.0",
            "orientation": "horizontal",
            "min": 0,
            "description_tooltip": null,
            "_model_module": "@jupyter-widgets/controls",
            "layout": "IPY_MODEL_23449fcb9133475caac4b779289ee440"
          }
        },
        "dae4830de8d7401f9ec7efe8fda4642e": {
          "model_module": "@jupyter-widgets/controls",
          "model_name": "HTMLModel",
          "state": {
            "_view_name": "HTMLView",
            "style": "IPY_MODEL_e949832d73da4c94869c23fa1c1021dd",
            "_dom_classes": [],
            "description": "",
            "_model_name": "HTMLModel",
            "placeholder": "​",
            "_view_module": "@jupyter-widgets/controls",
            "_model_module_version": "1.5.0",
            "value": " 25000/0 [00:01&lt;00:00, 17435.48 examples/s]",
            "_view_count": null,
            "_view_module_version": "1.5.0",
            "description_tooltip": null,
            "_model_module": "@jupyter-widgets/controls",
            "layout": "IPY_MODEL_d543625571cf4b4f8743468a812732e7"
          }
        },
        "a745e895b89d4e2fa3ecd6ede79eaf55": {
          "model_module": "@jupyter-widgets/controls",
          "model_name": "ProgressStyleModel",
          "state": {
            "_view_name": "StyleView",
            "_model_name": "ProgressStyleModel",
            "description_width": "initial",
            "_view_module": "@jupyter-widgets/base",
            "_model_module_version": "1.5.0",
            "_view_count": null,
            "_view_module_version": "1.2.0",
            "bar_color": null,
            "_model_module": "@jupyter-widgets/controls"
          }
        },
        "23449fcb9133475caac4b779289ee440": {
          "model_module": "@jupyter-widgets/base",
          "model_name": "LayoutModel",
          "state": {
            "_view_name": "LayoutView",
            "grid_template_rows": null,
            "right": null,
            "justify_content": null,
            "_view_module": "@jupyter-widgets/base",
            "overflow": null,
            "_model_module_version": "1.2.0",
            "_view_count": null,
            "flex_flow": null,
            "width": null,
            "min_width": null,
            "border": null,
            "align_items": null,
            "bottom": null,
            "_model_module": "@jupyter-widgets/base",
            "top": null,
            "grid_column": null,
            "overflow_y": null,
            "overflow_x": null,
            "grid_auto_flow": null,
            "grid_area": null,
            "grid_template_columns": null,
            "flex": null,
            "_model_name": "LayoutModel",
            "justify_items": null,
            "grid_row": null,
            "max_height": null,
            "align_content": null,
            "visibility": null,
            "align_self": null,
            "height": null,
            "min_height": null,
            "padding": null,
            "grid_auto_rows": null,
            "grid_gap": null,
            "max_width": null,
            "order": null,
            "_view_module_version": "1.2.0",
            "grid_template_areas": null,
            "object_position": null,
            "object_fit": null,
            "grid_auto_columns": null,
            "margin": null,
            "display": null,
            "left": null
          }
        },
        "e949832d73da4c94869c23fa1c1021dd": {
          "model_module": "@jupyter-widgets/controls",
          "model_name": "DescriptionStyleModel",
          "state": {
            "_view_name": "StyleView",
            "_model_name": "DescriptionStyleModel",
            "description_width": "",
            "_view_module": "@jupyter-widgets/base",
            "_model_module_version": "1.5.0",
            "_view_count": null,
            "_view_module_version": "1.2.0",
            "_model_module": "@jupyter-widgets/controls"
          }
        },
        "d543625571cf4b4f8743468a812732e7": {
          "model_module": "@jupyter-widgets/base",
          "model_name": "LayoutModel",
          "state": {
            "_view_name": "LayoutView",
            "grid_template_rows": null,
            "right": null,
            "justify_content": null,
            "_view_module": "@jupyter-widgets/base",
            "overflow": null,
            "_model_module_version": "1.2.0",
            "_view_count": null,
            "flex_flow": null,
            "width": null,
            "min_width": null,
            "border": null,
            "align_items": null,
            "bottom": null,
            "_model_module": "@jupyter-widgets/base",
            "top": null,
            "grid_column": null,
            "overflow_y": null,
            "overflow_x": null,
            "grid_auto_flow": null,
            "grid_area": null,
            "grid_template_columns": null,
            "flex": null,
            "_model_name": "LayoutModel",
            "justify_items": null,
            "grid_row": null,
            "max_height": null,
            "align_content": null,
            "visibility": null,
            "align_self": null,
            "height": null,
            "min_height": null,
            "padding": null,
            "grid_auto_rows": null,
            "grid_gap": null,
            "max_width": null,
            "order": null,
            "_view_module_version": "1.2.0",
            "grid_template_areas": null,
            "object_position": null,
            "object_fit": null,
            "grid_auto_columns": null,
            "margin": null,
            "display": null,
            "left": null
          }
        },
        "11ef06a8583e4712a58d453eacbabc57": {
          "model_module": "@jupyter-widgets/controls",
          "model_name": "HBoxModel",
          "state": {
            "_view_name": "HBoxView",
            "_dom_classes": [],
            "_model_name": "HBoxModel",
            "_view_module": "@jupyter-widgets/controls",
            "_model_module_version": "1.5.0",
            "_view_count": null,
            "_view_module_version": "1.5.0",
            "box_style": "",
            "layout": "IPY_MODEL_b3160f6add974d819bdb89f04e09aae5",
            "_model_module": "@jupyter-widgets/controls",
            "children": [
              "IPY_MODEL_760a9168ac61459388b381b883deec48",
              "IPY_MODEL_223c984b3bc541698709ddee21b602a0"
            ]
          }
        },
        "b3160f6add974d819bdb89f04e09aae5": {
          "model_module": "@jupyter-widgets/base",
          "model_name": "LayoutModel",
          "state": {
            "_view_name": "LayoutView",
            "grid_template_rows": null,
            "right": null,
            "justify_content": null,
            "_view_module": "@jupyter-widgets/base",
            "overflow": null,
            "_model_module_version": "1.2.0",
            "_view_count": null,
            "flex_flow": null,
            "width": null,
            "min_width": null,
            "border": null,
            "align_items": null,
            "bottom": null,
            "_model_module": "@jupyter-widgets/base",
            "top": null,
            "grid_column": null,
            "overflow_y": null,
            "overflow_x": null,
            "grid_auto_flow": null,
            "grid_area": null,
            "grid_template_columns": null,
            "flex": null,
            "_model_name": "LayoutModel",
            "justify_items": null,
            "grid_row": null,
            "max_height": null,
            "align_content": null,
            "visibility": null,
            "align_self": null,
            "height": null,
            "min_height": null,
            "padding": null,
            "grid_auto_rows": null,
            "grid_gap": null,
            "max_width": null,
            "order": null,
            "_view_module_version": "1.2.0",
            "grid_template_areas": null,
            "object_position": null,
            "object_fit": null,
            "grid_auto_columns": null,
            "margin": null,
            "display": null,
            "left": null
          }
        },
        "760a9168ac61459388b381b883deec48": {
          "model_module": "@jupyter-widgets/controls",
          "model_name": "FloatProgressModel",
          "state": {
            "_view_name": "ProgressView",
            "style": "IPY_MODEL_4a729a45a1c34d53884ceb01002d3041",
            "_dom_classes": [],
            "description": "",
            "_model_name": "FloatProgressModel",
            "bar_style": "info",
            "max": 1,
            "_view_module": "@jupyter-widgets/controls",
            "_model_module_version": "1.5.0",
            "value": 1,
            "_view_count": null,
            "_view_module_version": "1.5.0",
            "orientation": "horizontal",
            "min": 0,
            "description_tooltip": null,
            "_model_module": "@jupyter-widgets/controls",
            "layout": "IPY_MODEL_4e22e17d102243d0a88fda3c915a9fa3"
          }
        },
        "223c984b3bc541698709ddee21b602a0": {
          "model_module": "@jupyter-widgets/controls",
          "model_name": "HTMLModel",
          "state": {
            "_view_name": "HTMLView",
            "style": "IPY_MODEL_d3eb46d274b84248ae5c4b3e75f89272",
            "_dom_classes": [],
            "description": "",
            "_model_name": "HTMLModel",
            "placeholder": "​",
            "_view_module": "@jupyter-widgets/controls",
            "_model_module_version": "1.5.0",
            "value": " 50000/0 [00:02&lt;00:00, 22583.59 examples/s]",
            "_view_count": null,
            "_view_module_version": "1.5.0",
            "description_tooltip": null,
            "_model_module": "@jupyter-widgets/controls",
            "layout": "IPY_MODEL_3dc92cb718a6483ba93f6b41710289da"
          }
        },
        "4a729a45a1c34d53884ceb01002d3041": {
          "model_module": "@jupyter-widgets/controls",
          "model_name": "ProgressStyleModel",
          "state": {
            "_view_name": "StyleView",
            "_model_name": "ProgressStyleModel",
            "description_width": "initial",
            "_view_module": "@jupyter-widgets/base",
            "_model_module_version": "1.5.0",
            "_view_count": null,
            "_view_module_version": "1.2.0",
            "bar_color": null,
            "_model_module": "@jupyter-widgets/controls"
          }
        },
        "4e22e17d102243d0a88fda3c915a9fa3": {
          "model_module": "@jupyter-widgets/base",
          "model_name": "LayoutModel",
          "state": {
            "_view_name": "LayoutView",
            "grid_template_rows": null,
            "right": null,
            "justify_content": null,
            "_view_module": "@jupyter-widgets/base",
            "overflow": null,
            "_model_module_version": "1.2.0",
            "_view_count": null,
            "flex_flow": null,
            "width": null,
            "min_width": null,
            "border": null,
            "align_items": null,
            "bottom": null,
            "_model_module": "@jupyter-widgets/base",
            "top": null,
            "grid_column": null,
            "overflow_y": null,
            "overflow_x": null,
            "grid_auto_flow": null,
            "grid_area": null,
            "grid_template_columns": null,
            "flex": null,
            "_model_name": "LayoutModel",
            "justify_items": null,
            "grid_row": null,
            "max_height": null,
            "align_content": null,
            "visibility": null,
            "align_self": null,
            "height": null,
            "min_height": null,
            "padding": null,
            "grid_auto_rows": null,
            "grid_gap": null,
            "max_width": null,
            "order": null,
            "_view_module_version": "1.2.0",
            "grid_template_areas": null,
            "object_position": null,
            "object_fit": null,
            "grid_auto_columns": null,
            "margin": null,
            "display": null,
            "left": null
          }
        },
        "d3eb46d274b84248ae5c4b3e75f89272": {
          "model_module": "@jupyter-widgets/controls",
          "model_name": "DescriptionStyleModel",
          "state": {
            "_view_name": "StyleView",
            "_model_name": "DescriptionStyleModel",
            "description_width": "",
            "_view_module": "@jupyter-widgets/base",
            "_model_module_version": "1.5.0",
            "_view_count": null,
            "_view_module_version": "1.2.0",
            "_model_module": "@jupyter-widgets/controls"
          }
        },
        "3dc92cb718a6483ba93f6b41710289da": {
          "model_module": "@jupyter-widgets/base",
          "model_name": "LayoutModel",
          "state": {
            "_view_name": "LayoutView",
            "grid_template_rows": null,
            "right": null,
            "justify_content": null,
            "_view_module": "@jupyter-widgets/base",
            "overflow": null,
            "_model_module_version": "1.2.0",
            "_view_count": null,
            "flex_flow": null,
            "width": null,
            "min_width": null,
            "border": null,
            "align_items": null,
            "bottom": null,
            "_model_module": "@jupyter-widgets/base",
            "top": null,
            "grid_column": null,
            "overflow_y": null,
            "overflow_x": null,
            "grid_auto_flow": null,
            "grid_area": null,
            "grid_template_columns": null,
            "flex": null,
            "_model_name": "LayoutModel",
            "justify_items": null,
            "grid_row": null,
            "max_height": null,
            "align_content": null,
            "visibility": null,
            "align_self": null,
            "height": null,
            "min_height": null,
            "padding": null,
            "grid_auto_rows": null,
            "grid_gap": null,
            "max_width": null,
            "order": null,
            "_view_module_version": "1.2.0",
            "grid_template_areas": null,
            "object_position": null,
            "object_fit": null,
            "grid_auto_columns": null,
            "margin": null,
            "display": null,
            "left": null
          }
        },
        "38a76d0b50cc4278ae98acc82eb59820": {
          "model_module": "@jupyter-widgets/controls",
          "model_name": "HBoxModel",
          "state": {
            "_view_name": "HBoxView",
            "_dom_classes": [],
            "_model_name": "HBoxModel",
            "_view_module": "@jupyter-widgets/controls",
            "_model_module_version": "1.5.0",
            "_view_count": null,
            "_view_module_version": "1.5.0",
            "box_style": "",
            "layout": "IPY_MODEL_393201d4f03f44e494cc8dfd4163989b",
            "_model_module": "@jupyter-widgets/controls",
            "children": [
              "IPY_MODEL_962e4775cf904b39bb0a6b70e5cd6ee7",
              "IPY_MODEL_35f5ef54df684d2aaf192109f4cce7cd"
            ]
          }
        },
        "393201d4f03f44e494cc8dfd4163989b": {
          "model_module": "@jupyter-widgets/base",
          "model_name": "LayoutModel",
          "state": {
            "_view_name": "LayoutView",
            "grid_template_rows": null,
            "right": null,
            "justify_content": null,
            "_view_module": "@jupyter-widgets/base",
            "overflow": null,
            "_model_module_version": "1.2.0",
            "_view_count": null,
            "flex_flow": null,
            "width": null,
            "min_width": null,
            "border": null,
            "align_items": null,
            "bottom": null,
            "_model_module": "@jupyter-widgets/base",
            "top": null,
            "grid_column": null,
            "overflow_y": null,
            "overflow_x": null,
            "grid_auto_flow": null,
            "grid_area": null,
            "grid_template_columns": null,
            "flex": null,
            "_model_name": "LayoutModel",
            "justify_items": null,
            "grid_row": null,
            "max_height": null,
            "align_content": null,
            "visibility": null,
            "align_self": null,
            "height": null,
            "min_height": null,
            "padding": null,
            "grid_auto_rows": null,
            "grid_gap": null,
            "max_width": null,
            "order": null,
            "_view_module_version": "1.2.0",
            "grid_template_areas": null,
            "object_position": null,
            "object_fit": null,
            "grid_auto_columns": null,
            "margin": null,
            "display": null,
            "left": null
          }
        },
        "962e4775cf904b39bb0a6b70e5cd6ee7": {
          "model_module": "@jupyter-widgets/controls",
          "model_name": "FloatProgressModel",
          "state": {
            "_view_name": "ProgressView",
            "style": "IPY_MODEL_c7ed51e6d1bd47169b707dc649a69e48",
            "_dom_classes": [],
            "description": "Downloading: 100%",
            "_model_name": "FloatProgressModel",
            "bar_style": "success",
            "max": 440473133,
            "_view_module": "@jupyter-widgets/controls",
            "_model_module_version": "1.5.0",
            "value": 440473133,
            "_view_count": null,
            "_view_module_version": "1.5.0",
            "orientation": "horizontal",
            "min": 0,
            "description_tooltip": null,
            "_model_module": "@jupyter-widgets/controls",
            "layout": "IPY_MODEL_57797ceea3094cebac08ad79801c4e8f"
          }
        },
        "35f5ef54df684d2aaf192109f4cce7cd": {
          "model_module": "@jupyter-widgets/controls",
          "model_name": "HTMLModel",
          "state": {
            "_view_name": "HTMLView",
            "style": "IPY_MODEL_154a89933d2545dbbfe4a54571a1b60f",
            "_dom_classes": [],
            "description": "",
            "_model_name": "HTMLModel",
            "placeholder": "​",
            "_view_module": "@jupyter-widgets/controls",
            "_model_module_version": "1.5.0",
            "value": " 440M/440M [00:08&lt;00:00, 51.6MB/s]",
            "_view_count": null,
            "_view_module_version": "1.5.0",
            "description_tooltip": null,
            "_model_module": "@jupyter-widgets/controls",
            "layout": "IPY_MODEL_bbf919d435f24b80a656266b6566be34"
          }
        },
        "c7ed51e6d1bd47169b707dc649a69e48": {
          "model_module": "@jupyter-widgets/controls",
          "model_name": "ProgressStyleModel",
          "state": {
            "_view_name": "StyleView",
            "_model_name": "ProgressStyleModel",
            "description_width": "initial",
            "_view_module": "@jupyter-widgets/base",
            "_model_module_version": "1.5.0",
            "_view_count": null,
            "_view_module_version": "1.2.0",
            "bar_color": null,
            "_model_module": "@jupyter-widgets/controls"
          }
        },
        "57797ceea3094cebac08ad79801c4e8f": {
          "model_module": "@jupyter-widgets/base",
          "model_name": "LayoutModel",
          "state": {
            "_view_name": "LayoutView",
            "grid_template_rows": null,
            "right": null,
            "justify_content": null,
            "_view_module": "@jupyter-widgets/base",
            "overflow": null,
            "_model_module_version": "1.2.0",
            "_view_count": null,
            "flex_flow": null,
            "width": null,
            "min_width": null,
            "border": null,
            "align_items": null,
            "bottom": null,
            "_model_module": "@jupyter-widgets/base",
            "top": null,
            "grid_column": null,
            "overflow_y": null,
            "overflow_x": null,
            "grid_auto_flow": null,
            "grid_area": null,
            "grid_template_columns": null,
            "flex": null,
            "_model_name": "LayoutModel",
            "justify_items": null,
            "grid_row": null,
            "max_height": null,
            "align_content": null,
            "visibility": null,
            "align_self": null,
            "height": null,
            "min_height": null,
            "padding": null,
            "grid_auto_rows": null,
            "grid_gap": null,
            "max_width": null,
            "order": null,
            "_view_module_version": "1.2.0",
            "grid_template_areas": null,
            "object_position": null,
            "object_fit": null,
            "grid_auto_columns": null,
            "margin": null,
            "display": null,
            "left": null
          }
        },
        "154a89933d2545dbbfe4a54571a1b60f": {
          "model_module": "@jupyter-widgets/controls",
          "model_name": "DescriptionStyleModel",
          "state": {
            "_view_name": "StyleView",
            "_model_name": "DescriptionStyleModel",
            "description_width": "",
            "_view_module": "@jupyter-widgets/base",
            "_model_module_version": "1.5.0",
            "_view_count": null,
            "_view_module_version": "1.2.0",
            "_model_module": "@jupyter-widgets/controls"
          }
        },
        "bbf919d435f24b80a656266b6566be34": {
          "model_module": "@jupyter-widgets/base",
          "model_name": "LayoutModel",
          "state": {
            "_view_name": "LayoutView",
            "grid_template_rows": null,
            "right": null,
            "justify_content": null,
            "_view_module": "@jupyter-widgets/base",
            "overflow": null,
            "_model_module_version": "1.2.0",
            "_view_count": null,
            "flex_flow": null,
            "width": null,
            "min_width": null,
            "border": null,
            "align_items": null,
            "bottom": null,
            "_model_module": "@jupyter-widgets/base",
            "top": null,
            "grid_column": null,
            "overflow_y": null,
            "overflow_x": null,
            "grid_auto_flow": null,
            "grid_area": null,
            "grid_template_columns": null,
            "flex": null,
            "_model_name": "LayoutModel",
            "justify_items": null,
            "grid_row": null,
            "max_height": null,
            "align_content": null,
            "visibility": null,
            "align_self": null,
            "height": null,
            "min_height": null,
            "padding": null,
            "grid_auto_rows": null,
            "grid_gap": null,
            "max_width": null,
            "order": null,
            "_view_module_version": "1.2.0",
            "grid_template_areas": null,
            "object_position": null,
            "object_fit": null,
            "grid_auto_columns": null,
            "margin": null,
            "display": null,
            "left": null
          }
        },
        "5c7547822f2e45ff8d4d4660f798c8bb": {
          "model_module": "@jupyter-widgets/controls",
          "model_name": "HBoxModel",
          "state": {
            "_view_name": "HBoxView",
            "_dom_classes": [],
            "_model_name": "HBoxModel",
            "_view_module": "@jupyter-widgets/controls",
            "_model_module_version": "1.5.0",
            "_view_count": null,
            "_view_module_version": "1.5.0",
            "box_style": "",
            "layout": "IPY_MODEL_7e2c64461c9b46b6b297911e366d2c74",
            "_model_module": "@jupyter-widgets/controls",
            "children": [
              "IPY_MODEL_f792d68267c94ec6826f7f89b14d0b84",
              "IPY_MODEL_84eb903d24134e7981c745292fcc0874"
            ]
          }
        },
        "7e2c64461c9b46b6b297911e366d2c74": {
          "model_module": "@jupyter-widgets/base",
          "model_name": "LayoutModel",
          "state": {
            "_view_name": "LayoutView",
            "grid_template_rows": null,
            "right": null,
            "justify_content": null,
            "_view_module": "@jupyter-widgets/base",
            "overflow": null,
            "_model_module_version": "1.2.0",
            "_view_count": null,
            "flex_flow": null,
            "width": null,
            "min_width": null,
            "border": null,
            "align_items": null,
            "bottom": null,
            "_model_module": "@jupyter-widgets/base",
            "top": null,
            "grid_column": null,
            "overflow_y": null,
            "overflow_x": null,
            "grid_auto_flow": null,
            "grid_area": null,
            "grid_template_columns": null,
            "flex": null,
            "_model_name": "LayoutModel",
            "justify_items": null,
            "grid_row": null,
            "max_height": null,
            "align_content": null,
            "visibility": null,
            "align_self": null,
            "height": null,
            "min_height": null,
            "padding": null,
            "grid_auto_rows": null,
            "grid_gap": null,
            "max_width": null,
            "order": null,
            "_view_module_version": "1.2.0",
            "grid_template_areas": null,
            "object_position": null,
            "object_fit": null,
            "grid_auto_columns": null,
            "margin": null,
            "display": null,
            "left": null
          }
        },
        "f792d68267c94ec6826f7f89b14d0b84": {
          "model_module": "@jupyter-widgets/controls",
          "model_name": "FloatProgressModel",
          "state": {
            "_view_name": "ProgressView",
            "style": "IPY_MODEL_52e0135820da4f0b9a72f564d10c94b4",
            "_dom_classes": [],
            "description": "Downloading: 100%",
            "_model_name": "FloatProgressModel",
            "bar_style": "success",
            "max": 231508,
            "_view_module": "@jupyter-widgets/controls",
            "_model_module_version": "1.5.0",
            "value": 231508,
            "_view_count": null,
            "_view_module_version": "1.5.0",
            "orientation": "horizontal",
            "min": 0,
            "description_tooltip": null,
            "_model_module": "@jupyter-widgets/controls",
            "layout": "IPY_MODEL_7182c4ba81224e2db6520b982dc07a91"
          }
        },
        "84eb903d24134e7981c745292fcc0874": {
          "model_module": "@jupyter-widgets/controls",
          "model_name": "HTMLModel",
          "state": {
            "_view_name": "HTMLView",
            "style": "IPY_MODEL_ab828e39b47343fe833634e479b6a70c",
            "_dom_classes": [],
            "description": "",
            "_model_name": "HTMLModel",
            "placeholder": "​",
            "_view_module": "@jupyter-widgets/controls",
            "_model_module_version": "1.5.0",
            "value": " 232k/232k [00:01&lt;00:00, 126kB/s]",
            "_view_count": null,
            "_view_module_version": "1.5.0",
            "description_tooltip": null,
            "_model_module": "@jupyter-widgets/controls",
            "layout": "IPY_MODEL_ed35c66ca16d4a1eaaecc390412cdaca"
          }
        },
        "52e0135820da4f0b9a72f564d10c94b4": {
          "model_module": "@jupyter-widgets/controls",
          "model_name": "ProgressStyleModel",
          "state": {
            "_view_name": "StyleView",
            "_model_name": "ProgressStyleModel",
            "description_width": "initial",
            "_view_module": "@jupyter-widgets/base",
            "_model_module_version": "1.5.0",
            "_view_count": null,
            "_view_module_version": "1.2.0",
            "bar_color": null,
            "_model_module": "@jupyter-widgets/controls"
          }
        },
        "7182c4ba81224e2db6520b982dc07a91": {
          "model_module": "@jupyter-widgets/base",
          "model_name": "LayoutModel",
          "state": {
            "_view_name": "LayoutView",
            "grid_template_rows": null,
            "right": null,
            "justify_content": null,
            "_view_module": "@jupyter-widgets/base",
            "overflow": null,
            "_model_module_version": "1.2.0",
            "_view_count": null,
            "flex_flow": null,
            "width": null,
            "min_width": null,
            "border": null,
            "align_items": null,
            "bottom": null,
            "_model_module": "@jupyter-widgets/base",
            "top": null,
            "grid_column": null,
            "overflow_y": null,
            "overflow_x": null,
            "grid_auto_flow": null,
            "grid_area": null,
            "grid_template_columns": null,
            "flex": null,
            "_model_name": "LayoutModel",
            "justify_items": null,
            "grid_row": null,
            "max_height": null,
            "align_content": null,
            "visibility": null,
            "align_self": null,
            "height": null,
            "min_height": null,
            "padding": null,
            "grid_auto_rows": null,
            "grid_gap": null,
            "max_width": null,
            "order": null,
            "_view_module_version": "1.2.0",
            "grid_template_areas": null,
            "object_position": null,
            "object_fit": null,
            "grid_auto_columns": null,
            "margin": null,
            "display": null,
            "left": null
          }
        },
        "ab828e39b47343fe833634e479b6a70c": {
          "model_module": "@jupyter-widgets/controls",
          "model_name": "DescriptionStyleModel",
          "state": {
            "_view_name": "StyleView",
            "_model_name": "DescriptionStyleModel",
            "description_width": "",
            "_view_module": "@jupyter-widgets/base",
            "_model_module_version": "1.5.0",
            "_view_count": null,
            "_view_module_version": "1.2.0",
            "_model_module": "@jupyter-widgets/controls"
          }
        },
        "ed35c66ca16d4a1eaaecc390412cdaca": {
          "model_module": "@jupyter-widgets/base",
          "model_name": "LayoutModel",
          "state": {
            "_view_name": "LayoutView",
            "grid_template_rows": null,
            "right": null,
            "justify_content": null,
            "_view_module": "@jupyter-widgets/base",
            "overflow": null,
            "_model_module_version": "1.2.0",
            "_view_count": null,
            "flex_flow": null,
            "width": null,
            "min_width": null,
            "border": null,
            "align_items": null,
            "bottom": null,
            "_model_module": "@jupyter-widgets/base",
            "top": null,
            "grid_column": null,
            "overflow_y": null,
            "overflow_x": null,
            "grid_auto_flow": null,
            "grid_area": null,
            "grid_template_columns": null,
            "flex": null,
            "_model_name": "LayoutModel",
            "justify_items": null,
            "grid_row": null,
            "max_height": null,
            "align_content": null,
            "visibility": null,
            "align_self": null,
            "height": null,
            "min_height": null,
            "padding": null,
            "grid_auto_rows": null,
            "grid_gap": null,
            "max_width": null,
            "order": null,
            "_view_module_version": "1.2.0",
            "grid_template_areas": null,
            "object_position": null,
            "object_fit": null,
            "grid_auto_columns": null,
            "margin": null,
            "display": null,
            "left": null
          }
        },
        "0c00bfcbf5e34244b310b210d7cdfb3b": {
          "model_module": "@jupyter-widgets/controls",
          "model_name": "HBoxModel",
          "state": {
            "_view_name": "HBoxView",
            "_dom_classes": [],
            "_model_name": "HBoxModel",
            "_view_module": "@jupyter-widgets/controls",
            "_model_module_version": "1.5.0",
            "_view_count": null,
            "_view_module_version": "1.5.0",
            "box_style": "",
            "layout": "IPY_MODEL_9b9a7838a6ec4afdb7e5ac5f2f19b31a",
            "_model_module": "@jupyter-widgets/controls",
            "children": [
              "IPY_MODEL_1268bc9f849042418be5531afb4b76e5",
              "IPY_MODEL_2ff169ca01104bbaae3cb2c3d175f26a"
            ]
          }
        },
        "9b9a7838a6ec4afdb7e5ac5f2f19b31a": {
          "model_module": "@jupyter-widgets/base",
          "model_name": "LayoutModel",
          "state": {
            "_view_name": "LayoutView",
            "grid_template_rows": null,
            "right": null,
            "justify_content": null,
            "_view_module": "@jupyter-widgets/base",
            "overflow": null,
            "_model_module_version": "1.2.0",
            "_view_count": null,
            "flex_flow": null,
            "width": null,
            "min_width": null,
            "border": null,
            "align_items": null,
            "bottom": null,
            "_model_module": "@jupyter-widgets/base",
            "top": null,
            "grid_column": null,
            "overflow_y": null,
            "overflow_x": null,
            "grid_auto_flow": null,
            "grid_area": null,
            "grid_template_columns": null,
            "flex": null,
            "_model_name": "LayoutModel",
            "justify_items": null,
            "grid_row": null,
            "max_height": null,
            "align_content": null,
            "visibility": null,
            "align_self": null,
            "height": null,
            "min_height": null,
            "padding": null,
            "grid_auto_rows": null,
            "grid_gap": null,
            "max_width": null,
            "order": null,
            "_view_module_version": "1.2.0",
            "grid_template_areas": null,
            "object_position": null,
            "object_fit": null,
            "grid_auto_columns": null,
            "margin": null,
            "display": null,
            "left": null
          }
        },
        "1268bc9f849042418be5531afb4b76e5": {
          "model_module": "@jupyter-widgets/controls",
          "model_name": "FloatProgressModel",
          "state": {
            "_view_name": "ProgressView",
            "style": "IPY_MODEL_e46c091dc1bc424f88003988b0b85e0e",
            "_dom_classes": [],
            "description": "Downloading: 100%",
            "_model_name": "FloatProgressModel",
            "bar_style": "success",
            "max": 466062,
            "_view_module": "@jupyter-widgets/controls",
            "_model_module_version": "1.5.0",
            "value": 466062,
            "_view_count": null,
            "_view_module_version": "1.5.0",
            "orientation": "horizontal",
            "min": 0,
            "description_tooltip": null,
            "_model_module": "@jupyter-widgets/controls",
            "layout": "IPY_MODEL_eaf716854bd24514a8add0b7480aa3db"
          }
        },
        "2ff169ca01104bbaae3cb2c3d175f26a": {
          "model_module": "@jupyter-widgets/controls",
          "model_name": "HTMLModel",
          "state": {
            "_view_name": "HTMLView",
            "style": "IPY_MODEL_ef6da58da0d84727816ef62f27f21e78",
            "_dom_classes": [],
            "description": "",
            "_model_name": "HTMLModel",
            "placeholder": "​",
            "_view_module": "@jupyter-widgets/controls",
            "_model_module_version": "1.5.0",
            "value": " 466k/466k [00:01&lt;00:00, 408kB/s]",
            "_view_count": null,
            "_view_module_version": "1.5.0",
            "description_tooltip": null,
            "_model_module": "@jupyter-widgets/controls",
            "layout": "IPY_MODEL_98a1191bcf834a0bae79b2182bbb4ec8"
          }
        },
        "e46c091dc1bc424f88003988b0b85e0e": {
          "model_module": "@jupyter-widgets/controls",
          "model_name": "ProgressStyleModel",
          "state": {
            "_view_name": "StyleView",
            "_model_name": "ProgressStyleModel",
            "description_width": "initial",
            "_view_module": "@jupyter-widgets/base",
            "_model_module_version": "1.5.0",
            "_view_count": null,
            "_view_module_version": "1.2.0",
            "bar_color": null,
            "_model_module": "@jupyter-widgets/controls"
          }
        },
        "eaf716854bd24514a8add0b7480aa3db": {
          "model_module": "@jupyter-widgets/base",
          "model_name": "LayoutModel",
          "state": {
            "_view_name": "LayoutView",
            "grid_template_rows": null,
            "right": null,
            "justify_content": null,
            "_view_module": "@jupyter-widgets/base",
            "overflow": null,
            "_model_module_version": "1.2.0",
            "_view_count": null,
            "flex_flow": null,
            "width": null,
            "min_width": null,
            "border": null,
            "align_items": null,
            "bottom": null,
            "_model_module": "@jupyter-widgets/base",
            "top": null,
            "grid_column": null,
            "overflow_y": null,
            "overflow_x": null,
            "grid_auto_flow": null,
            "grid_area": null,
            "grid_template_columns": null,
            "flex": null,
            "_model_name": "LayoutModel",
            "justify_items": null,
            "grid_row": null,
            "max_height": null,
            "align_content": null,
            "visibility": null,
            "align_self": null,
            "height": null,
            "min_height": null,
            "padding": null,
            "grid_auto_rows": null,
            "grid_gap": null,
            "max_width": null,
            "order": null,
            "_view_module_version": "1.2.0",
            "grid_template_areas": null,
            "object_position": null,
            "object_fit": null,
            "grid_auto_columns": null,
            "margin": null,
            "display": null,
            "left": null
          }
        },
        "ef6da58da0d84727816ef62f27f21e78": {
          "model_module": "@jupyter-widgets/controls",
          "model_name": "DescriptionStyleModel",
          "state": {
            "_view_name": "StyleView",
            "_model_name": "DescriptionStyleModel",
            "description_width": "",
            "_view_module": "@jupyter-widgets/base",
            "_model_module_version": "1.5.0",
            "_view_count": null,
            "_view_module_version": "1.2.0",
            "_model_module": "@jupyter-widgets/controls"
          }
        },
        "98a1191bcf834a0bae79b2182bbb4ec8": {
          "model_module": "@jupyter-widgets/base",
          "model_name": "LayoutModel",
          "state": {
            "_view_name": "LayoutView",
            "grid_template_rows": null,
            "right": null,
            "justify_content": null,
            "_view_module": "@jupyter-widgets/base",
            "overflow": null,
            "_model_module_version": "1.2.0",
            "_view_count": null,
            "flex_flow": null,
            "width": null,
            "min_width": null,
            "border": null,
            "align_items": null,
            "bottom": null,
            "_model_module": "@jupyter-widgets/base",
            "top": null,
            "grid_column": null,
            "overflow_y": null,
            "overflow_x": null,
            "grid_auto_flow": null,
            "grid_area": null,
            "grid_template_columns": null,
            "flex": null,
            "_model_name": "LayoutModel",
            "justify_items": null,
            "grid_row": null,
            "max_height": null,
            "align_content": null,
            "visibility": null,
            "align_self": null,
            "height": null,
            "min_height": null,
            "padding": null,
            "grid_auto_rows": null,
            "grid_gap": null,
            "max_width": null,
            "order": null,
            "_view_module_version": "1.2.0",
            "grid_template_areas": null,
            "object_position": null,
            "object_fit": null,
            "grid_auto_columns": null,
            "margin": null,
            "display": null,
            "left": null
          }
        },
        "703dd16fe7b541eb81002e02e733a275": {
          "model_module": "@jupyter-widgets/controls",
          "model_name": "HBoxModel",
          "state": {
            "_view_name": "HBoxView",
            "_dom_classes": [],
            "_model_name": "HBoxModel",
            "_view_module": "@jupyter-widgets/controls",
            "_model_module_version": "1.5.0",
            "_view_count": null,
            "_view_module_version": "1.5.0",
            "box_style": "",
            "layout": "IPY_MODEL_4ec4aec74faa4476afe85cd23a8b8206",
            "_model_module": "@jupyter-widgets/controls",
            "children": [
              "IPY_MODEL_c68c65edbc0e4b78888d376e38cef66c",
              "IPY_MODEL_1e3199e54f094c52b373fe51cbe98cea"
            ]
          }
        },
        "4ec4aec74faa4476afe85cd23a8b8206": {
          "model_module": "@jupyter-widgets/base",
          "model_name": "LayoutModel",
          "state": {
            "_view_name": "LayoutView",
            "grid_template_rows": null,
            "right": null,
            "justify_content": null,
            "_view_module": "@jupyter-widgets/base",
            "overflow": null,
            "_model_module_version": "1.2.0",
            "_view_count": null,
            "flex_flow": null,
            "width": null,
            "min_width": null,
            "border": null,
            "align_items": null,
            "bottom": null,
            "_model_module": "@jupyter-widgets/base",
            "top": null,
            "grid_column": null,
            "overflow_y": null,
            "overflow_x": null,
            "grid_auto_flow": null,
            "grid_area": null,
            "grid_template_columns": null,
            "flex": null,
            "_model_name": "LayoutModel",
            "justify_items": null,
            "grid_row": null,
            "max_height": null,
            "align_content": null,
            "visibility": null,
            "align_self": null,
            "height": null,
            "min_height": null,
            "padding": null,
            "grid_auto_rows": null,
            "grid_gap": null,
            "max_width": null,
            "order": null,
            "_view_module_version": "1.2.0",
            "grid_template_areas": null,
            "object_position": null,
            "object_fit": null,
            "grid_auto_columns": null,
            "margin": null,
            "display": null,
            "left": null
          }
        },
        "c68c65edbc0e4b78888d376e38cef66c": {
          "model_module": "@jupyter-widgets/controls",
          "model_name": "FloatProgressModel",
          "state": {
            "_view_name": "ProgressView",
            "style": "IPY_MODEL_1d48760a6af1446bb6da458c6590c3a1",
            "_dom_classes": [],
            "description": "Downloading: 100%",
            "_model_name": "FloatProgressModel",
            "bar_style": "success",
            "max": 28,
            "_view_module": "@jupyter-widgets/controls",
            "_model_module_version": "1.5.0",
            "value": 28,
            "_view_count": null,
            "_view_module_version": "1.5.0",
            "orientation": "horizontal",
            "min": 0,
            "description_tooltip": null,
            "_model_module": "@jupyter-widgets/controls",
            "layout": "IPY_MODEL_8635865093144a949d3ffd1da3eed6fe"
          }
        },
        "1e3199e54f094c52b373fe51cbe98cea": {
          "model_module": "@jupyter-widgets/controls",
          "model_name": "HTMLModel",
          "state": {
            "_view_name": "HTMLView",
            "style": "IPY_MODEL_420c8865905d42738da4738c8218a7e7",
            "_dom_classes": [],
            "description": "",
            "_model_name": "HTMLModel",
            "placeholder": "​",
            "_view_module": "@jupyter-widgets/controls",
            "_model_module_version": "1.5.0",
            "value": " 28.0/28.0 [00:00&lt;00:00, 79.1B/s]",
            "_view_count": null,
            "_view_module_version": "1.5.0",
            "description_tooltip": null,
            "_model_module": "@jupyter-widgets/controls",
            "layout": "IPY_MODEL_148d9182180841a29d718763c7f42e2a"
          }
        },
        "1d48760a6af1446bb6da458c6590c3a1": {
          "model_module": "@jupyter-widgets/controls",
          "model_name": "ProgressStyleModel",
          "state": {
            "_view_name": "StyleView",
            "_model_name": "ProgressStyleModel",
            "description_width": "initial",
            "_view_module": "@jupyter-widgets/base",
            "_model_module_version": "1.5.0",
            "_view_count": null,
            "_view_module_version": "1.2.0",
            "bar_color": null,
            "_model_module": "@jupyter-widgets/controls"
          }
        },
        "8635865093144a949d3ffd1da3eed6fe": {
          "model_module": "@jupyter-widgets/base",
          "model_name": "LayoutModel",
          "state": {
            "_view_name": "LayoutView",
            "grid_template_rows": null,
            "right": null,
            "justify_content": null,
            "_view_module": "@jupyter-widgets/base",
            "overflow": null,
            "_model_module_version": "1.2.0",
            "_view_count": null,
            "flex_flow": null,
            "width": null,
            "min_width": null,
            "border": null,
            "align_items": null,
            "bottom": null,
            "_model_module": "@jupyter-widgets/base",
            "top": null,
            "grid_column": null,
            "overflow_y": null,
            "overflow_x": null,
            "grid_auto_flow": null,
            "grid_area": null,
            "grid_template_columns": null,
            "flex": null,
            "_model_name": "LayoutModel",
            "justify_items": null,
            "grid_row": null,
            "max_height": null,
            "align_content": null,
            "visibility": null,
            "align_self": null,
            "height": null,
            "min_height": null,
            "padding": null,
            "grid_auto_rows": null,
            "grid_gap": null,
            "max_width": null,
            "order": null,
            "_view_module_version": "1.2.0",
            "grid_template_areas": null,
            "object_position": null,
            "object_fit": null,
            "grid_auto_columns": null,
            "margin": null,
            "display": null,
            "left": null
          }
        },
        "420c8865905d42738da4738c8218a7e7": {
          "model_module": "@jupyter-widgets/controls",
          "model_name": "DescriptionStyleModel",
          "state": {
            "_view_name": "StyleView",
            "_model_name": "DescriptionStyleModel",
            "description_width": "",
            "_view_module": "@jupyter-widgets/base",
            "_model_module_version": "1.5.0",
            "_view_count": null,
            "_view_module_version": "1.2.0",
            "_model_module": "@jupyter-widgets/controls"
          }
        },
        "148d9182180841a29d718763c7f42e2a": {
          "model_module": "@jupyter-widgets/base",
          "model_name": "LayoutModel",
          "state": {
            "_view_name": "LayoutView",
            "grid_template_rows": null,
            "right": null,
            "justify_content": null,
            "_view_module": "@jupyter-widgets/base",
            "overflow": null,
            "_model_module_version": "1.2.0",
            "_view_count": null,
            "flex_flow": null,
            "width": null,
            "min_width": null,
            "border": null,
            "align_items": null,
            "bottom": null,
            "_model_module": "@jupyter-widgets/base",
            "top": null,
            "grid_column": null,
            "overflow_y": null,
            "overflow_x": null,
            "grid_auto_flow": null,
            "grid_area": null,
            "grid_template_columns": null,
            "flex": null,
            "_model_name": "LayoutModel",
            "justify_items": null,
            "grid_row": null,
            "max_height": null,
            "align_content": null,
            "visibility": null,
            "align_self": null,
            "height": null,
            "min_height": null,
            "padding": null,
            "grid_auto_rows": null,
            "grid_gap": null,
            "max_width": null,
            "order": null,
            "_view_module_version": "1.2.0",
            "grid_template_areas": null,
            "object_position": null,
            "object_fit": null,
            "grid_auto_columns": null,
            "margin": null,
            "display": null,
            "left": null
          }
        }
      }
    }
  },
  "cells": [
    {
      "cell_type": "code",
      "metadata": {
        "colab": {
          "base_uri": "https://localhost:8080/"
        },
        "id": "Tjsl5_TPD5p-",
        "outputId": "6e189f97-9760-4d56-f687-dae3d352f60e"
      },
      "source": [
        "from google.colab import drive\n",
        "drive.mount('/content/drive')"
      ],
      "execution_count": 1,
      "outputs": [
        {
          "output_type": "stream",
          "text": [
            "Drive already mounted at /content/drive; to attempt to forcibly remount, call drive.mount(\"/content/drive\", force_remount=True).\n"
          ],
          "name": "stdout"
        }
      ]
    },
    {
      "cell_type": "code",
      "metadata": {
        "id": "hZeIFn6iC9FF",
        "colab": {
          "base_uri": "https://localhost:8080/"
        },
        "outputId": "cc59906e-ff01-482a-977c-950631d63ad3"
      },
      "source": [
        "!pip install textattack\n",
        "!pip install -U gensim==4.0.0\n",
        "!pip install python-Levenshtein"
      ],
      "execution_count": 2,
      "outputs": [
        {
          "output_type": "stream",
          "text": [
            "Requirement already satisfied: textattack in /usr/local/lib/python3.7/dist-packages (0.2.15)\n",
            "Requirement already satisfied: num2words in /usr/local/lib/python3.7/dist-packages (from textattack) (0.5.10)\n",
            "Requirement already satisfied: torch in /usr/local/lib/python3.7/dist-packages (from textattack) (1.8.1+cu101)\n",
            "Requirement already satisfied: more-itertools in /usr/local/lib/python3.7/dist-packages (from textattack) (8.7.0)\n",
            "Requirement already satisfied: bert-score>=0.3.5 in /usr/local/lib/python3.7/dist-packages (from textattack) (0.3.9)\n",
            "Requirement already satisfied: tqdm<4.50.0,>=4.27 in /usr/local/lib/python3.7/dist-packages (from textattack) (4.41.1)\n",
            "Requirement already satisfied: pandas>=1.0.1 in /usr/local/lib/python3.7/dist-packages (from textattack) (1.1.5)\n",
            "Requirement already satisfied: numpy<1.19.0 in /usr/local/lib/python3.7/dist-packages (from textattack) (1.18.5)\n",
            "Requirement already satisfied: transformers>=3.3.0 in /usr/local/lib/python3.7/dist-packages (from textattack) (4.5.1)\n",
            "Requirement already satisfied: PySocks!=1.5.7,>=1.5.6 in /usr/local/lib/python3.7/dist-packages (from textattack) (1.7.1)\n",
            "Requirement already satisfied: scipy==1.4.1 in /usr/local/lib/python3.7/dist-packages (from textattack) (1.4.1)\n",
            "Requirement already satisfied: lemminflect in /usr/local/lib/python3.7/dist-packages (from textattack) (0.2.2)\n",
            "Requirement already satisfied: editdistance in /usr/local/lib/python3.7/dist-packages (from textattack) (0.5.3)\n",
            "Requirement already satisfied: filelock in /usr/local/lib/python3.7/dist-packages (from textattack) (3.0.12)\n",
            "Requirement already satisfied: terminaltables in /usr/local/lib/python3.7/dist-packages (from textattack) (3.1.0)\n",
            "Requirement already satisfied: datasets in /usr/local/lib/python3.7/dist-packages (from textattack) (1.6.2)\n",
            "Requirement already satisfied: word2number in /usr/local/lib/python3.7/dist-packages (from textattack) (1.1)\n",
            "Requirement already satisfied: lru-dict in /usr/local/lib/python3.7/dist-packages (from textattack) (1.1.7)\n",
            "Requirement already satisfied: nltk in /usr/local/lib/python3.7/dist-packages (from textattack) (3.2.5)\n",
            "Requirement already satisfied: flair==0.6.1.post1 in /usr/local/lib/python3.7/dist-packages (from textattack) (0.6.1.post1)\n",
            "Requirement already satisfied: language-tool-python in /usr/local/lib/python3.7/dist-packages (from textattack) (2.5.3)\n",
            "Requirement already satisfied: docopt>=0.6.2 in /usr/local/lib/python3.7/dist-packages (from num2words->textattack) (0.6.2)\n",
            "Requirement already satisfied: typing-extensions in /usr/local/lib/python3.7/dist-packages (from torch->textattack) (3.7.4.3)\n",
            "Requirement already satisfied: matplotlib in /usr/local/lib/python3.7/dist-packages (from bert-score>=0.3.5->textattack) (3.2.2)\n",
            "Requirement already satisfied: requests in /usr/local/lib/python3.7/dist-packages (from bert-score>=0.3.5->textattack) (2.23.0)\n",
            "Requirement already satisfied: pytz>=2017.2 in /usr/local/lib/python3.7/dist-packages (from pandas>=1.0.1->textattack) (2018.9)\n",
            "Requirement already satisfied: python-dateutil>=2.7.3 in /usr/local/lib/python3.7/dist-packages (from pandas>=1.0.1->textattack) (2.8.1)\n",
            "Requirement already satisfied: tokenizers<0.11,>=0.10.1 in /usr/local/lib/python3.7/dist-packages (from transformers>=3.3.0->textattack) (0.10.2)\n",
            "Requirement already satisfied: importlib-metadata; python_version < \"3.8\" in /usr/local/lib/python3.7/dist-packages (from transformers>=3.3.0->textattack) (3.10.1)\n",
            "Requirement already satisfied: packaging in /usr/local/lib/python3.7/dist-packages (from transformers>=3.3.0->textattack) (20.9)\n",
            "Requirement already satisfied: regex!=2019.12.17 in /usr/local/lib/python3.7/dist-packages (from transformers>=3.3.0->textattack) (2019.12.20)\n",
            "Requirement already satisfied: sacremoses in /usr/local/lib/python3.7/dist-packages (from transformers>=3.3.0->textattack) (0.0.45)\n",
            "Requirement already satisfied: xxhash in /usr/local/lib/python3.7/dist-packages (from datasets->textattack) (2.0.2)\n",
            "Requirement already satisfied: dill in /usr/local/lib/python3.7/dist-packages (from datasets->textattack) (0.3.3)\n",
            "Requirement already satisfied: fsspec in /usr/local/lib/python3.7/dist-packages (from datasets->textattack) (2021.4.0)\n",
            "Requirement already satisfied: multiprocess in /usr/local/lib/python3.7/dist-packages (from datasets->textattack) (0.70.11.1)\n",
            "Requirement already satisfied: huggingface-hub<0.1.0 in /usr/local/lib/python3.7/dist-packages (from datasets->textattack) (0.0.8)\n",
            "Requirement already satisfied: pyarrow>=1.0.0<4.0.0 in /usr/local/lib/python3.7/dist-packages (from datasets->textattack) (3.0.0)\n",
            "Requirement already satisfied: six in /usr/local/lib/python3.7/dist-packages (from nltk->textattack) (1.15.0)\n",
            "Requirement already satisfied: mpld3==0.3 in /usr/local/lib/python3.7/dist-packages (from flair==0.6.1.post1->textattack) (0.3)\n",
            "Requirement already satisfied: langdetect in /usr/local/lib/python3.7/dist-packages (from flair==0.6.1.post1->textattack) (1.0.8)\n",
            "Requirement already satisfied: sentencepiece!=0.1.92 in /usr/local/lib/python3.7/dist-packages (from flair==0.6.1.post1->textattack) (0.1.95)\n",
            "Requirement already satisfied: gensim>=3.4.0 in /usr/local/lib/python3.7/dist-packages (from flair==0.6.1.post1->textattack) (4.0.0)\n",
            "Requirement already satisfied: bpemb>=0.3.2 in /usr/local/lib/python3.7/dist-packages (from flair==0.6.1.post1->textattack) (0.3.3)\n",
            "Requirement already satisfied: scikit-learn>=0.21.3 in /usr/local/lib/python3.7/dist-packages (from flair==0.6.1.post1->textattack) (0.22.2.post1)\n",
            "Requirement already satisfied: lxml in /usr/local/lib/python3.7/dist-packages (from flair==0.6.1.post1->textattack) (4.2.6)\n",
            "Requirement already satisfied: tabulate in /usr/local/lib/python3.7/dist-packages (from flair==0.6.1.post1->textattack) (0.8.9)\n",
            "Requirement already satisfied: ftfy in /usr/local/lib/python3.7/dist-packages (from flair==0.6.1.post1->textattack) (6.0.1)\n",
            "Requirement already satisfied: gdown in /usr/local/lib/python3.7/dist-packages (from flair==0.6.1.post1->textattack) (3.6.4)\n",
            "Requirement already satisfied: sqlitedict>=1.6.0 in /usr/local/lib/python3.7/dist-packages (from flair==0.6.1.post1->textattack) (1.7.0)\n",
            "Requirement already satisfied: segtok>=1.5.7 in /usr/local/lib/python3.7/dist-packages (from flair==0.6.1.post1->textattack) (1.5.10)\n",
            "Requirement already satisfied: hyperopt>=0.1.1 in /usr/local/lib/python3.7/dist-packages (from flair==0.6.1.post1->textattack) (0.1.2)\n",
            "Requirement already satisfied: deprecated>=1.2.4 in /usr/local/lib/python3.7/dist-packages (from flair==0.6.1.post1->textattack) (1.2.12)\n",
            "Requirement already satisfied: konoha<5.0.0,>=4.0.0 in /usr/local/lib/python3.7/dist-packages (from flair==0.6.1.post1->textattack) (4.6.4)\n",
            "Requirement already satisfied: janome in /usr/local/lib/python3.7/dist-packages (from flair==0.6.1.post1->textattack) (0.4.1)\n",
            "Requirement already satisfied: kiwisolver>=1.0.1 in /usr/local/lib/python3.7/dist-packages (from matplotlib->bert-score>=0.3.5->textattack) (1.3.1)\n",
            "Requirement already satisfied: pyparsing!=2.0.4,!=2.1.2,!=2.1.6,>=2.0.1 in /usr/local/lib/python3.7/dist-packages (from matplotlib->bert-score>=0.3.5->textattack) (2.4.7)\n",
            "Requirement already satisfied: cycler>=0.10 in /usr/local/lib/python3.7/dist-packages (from matplotlib->bert-score>=0.3.5->textattack) (0.10.0)\n",
            "Requirement already satisfied: idna<3,>=2.5 in /usr/local/lib/python3.7/dist-packages (from requests->bert-score>=0.3.5->textattack) (2.10)\n",
            "Requirement already satisfied: chardet<4,>=3.0.2 in /usr/local/lib/python3.7/dist-packages (from requests->bert-score>=0.3.5->textattack) (3.0.4)\n",
            "Requirement already satisfied: urllib3!=1.25.0,!=1.25.1,<1.26,>=1.21.1 in /usr/local/lib/python3.7/dist-packages (from requests->bert-score>=0.3.5->textattack) (1.24.3)\n",
            "Requirement already satisfied: certifi>=2017.4.17 in /usr/local/lib/python3.7/dist-packages (from requests->bert-score>=0.3.5->textattack) (2020.12.5)\n",
            "Requirement already satisfied: zipp>=0.5 in /usr/local/lib/python3.7/dist-packages (from importlib-metadata; python_version < \"3.8\"->transformers>=3.3.0->textattack) (3.4.1)\n",
            "Requirement already satisfied: joblib in /usr/local/lib/python3.7/dist-packages (from sacremoses->transformers>=3.3.0->textattack) (1.0.1)\n",
            "Requirement already satisfied: click in /usr/local/lib/python3.7/dist-packages (from sacremoses->transformers>=3.3.0->textattack) (7.1.2)\n",
            "Requirement already satisfied: smart-open>=1.8.1 in /usr/local/lib/python3.7/dist-packages (from gensim>=3.4.0->flair==0.6.1.post1->textattack) (5.0.0)\n",
            "Requirement already satisfied: wcwidth in /usr/local/lib/python3.7/dist-packages (from ftfy->flair==0.6.1.post1->textattack) (0.2.5)\n",
            "Requirement already satisfied: pymongo in /usr/local/lib/python3.7/dist-packages (from hyperopt>=0.1.1->flair==0.6.1.post1->textattack) (3.11.3)\n",
            "Requirement already satisfied: networkx in /usr/local/lib/python3.7/dist-packages (from hyperopt>=0.1.1->flair==0.6.1.post1->textattack) (2.5.1)\n",
            "Requirement already satisfied: future in /usr/local/lib/python3.7/dist-packages (from hyperopt>=0.1.1->flair==0.6.1.post1->textattack) (0.16.0)\n",
            "Requirement already satisfied: wrapt<2,>=1.10 in /usr/local/lib/python3.7/dist-packages (from deprecated>=1.2.4->flair==0.6.1.post1->textattack) (1.12.1)\n",
            "Requirement already satisfied: overrides<4.0.0,>=3.0.0 in /usr/local/lib/python3.7/dist-packages (from konoha<5.0.0,>=4.0.0->flair==0.6.1.post1->textattack) (3.1.0)\n",
            "Requirement already satisfied: decorator<5,>=4.3 in /usr/local/lib/python3.7/dist-packages (from networkx->hyperopt>=0.1.1->flair==0.6.1.post1->textattack) (4.4.2)\n",
            "Requirement already up-to-date: gensim==4.0.0 in /usr/local/lib/python3.7/dist-packages (4.0.0)\n",
            "Requirement already satisfied, skipping upgrade: numpy>=1.11.3 in /usr/local/lib/python3.7/dist-packages (from gensim==4.0.0) (1.18.5)\n",
            "Requirement already satisfied, skipping upgrade: scipy>=0.18.1 in /usr/local/lib/python3.7/dist-packages (from gensim==4.0.0) (1.4.1)\n",
            "Requirement already satisfied, skipping upgrade: smart-open>=1.8.1 in /usr/local/lib/python3.7/dist-packages (from gensim==4.0.0) (5.0.0)\n",
            "Requirement already satisfied: python-Levenshtein in /usr/local/lib/python3.7/dist-packages (0.12.2)\n",
            "Requirement already satisfied: setuptools in /usr/local/lib/python3.7/dist-packages (from python-Levenshtein) (56.0.0)\n"
          ],
          "name": "stdout"
        }
      ]
    },
    {
      "cell_type": "code",
      "metadata": {
        "id": "XbSBo02xDGO2"
      },
      "source": [
        "# import gensim.downloader as api\n",
        "# corpus = api.load('text8')\n",
        "# from gensim.models.fasttext import FastText\n",
        "# model1 = FastText(corpus, sample = 0, sg = 1)"
      ],
      "execution_count": null,
      "outputs": []
    },
    {
      "cell_type": "code",
      "metadata": {
        "id": "jLiSrpmTErOs"
      },
      "source": [
        "# import gensim.downloader as api\n",
        "# corpus = api.load('text8')\n",
        "# from gensim.models.word2vec import Word2Vec\n",
        "# model2 = Word2Vec(corpus, sample = 0, sg = 1)"
      ],
      "execution_count": null,
      "outputs": []
    },
    {
      "cell_type": "code",
      "metadata": {
        "id": "ZCLiyaHYDBk1"
      },
      "source": [
        "from gensim.test.utils import get_tmpfile\n",
        "from gensim.models.fasttext import FastText\n",
        "#fname = get_tmpfile(\"/models/fasttext.model\") \n",
        "model1 = FastText.load(\"/content/drive/MyDrive/models/fasttext.model\") # Change this location"
      ],
      "execution_count": 3,
      "outputs": []
    },
    {
      "cell_type": "code",
      "metadata": {
        "id": "e4jwSL5YDvPy"
      },
      "source": [
        "from gensim.test.utils import get_tmpfile\n",
        "from gensim.models.word2vec import Word2Vec\n",
        "#fname1 = get_tmpfile(\"/models/word2vec.model\") \n",
        "model2 = Word2Vec.load(\"/content/drive/MyDrive/models/word2vec.model\") # Change this location"
      ],
      "execution_count": 4,
      "outputs": []
    },
    {
      "cell_type": "code",
      "metadata": {
        "id": "l1xXXw5tFbuM",
        "colab": {
          "base_uri": "https://localhost:8080/"
        },
        "outputId": "2ba7b039-35af-4a70-b495-8f6453dc96f5"
      },
      "source": [
        "print(model1.wv.most_similar('cat'))\n",
        "print(model2.wv.most_similar('cat'))"
      ],
      "execution_count": 5,
      "outputs": [
        {
          "output_type": "stream",
          "text": [
            "[('bobcat', 0.759185791015625), ('dog', 0.7208123803138733), ('foxglove', 0.7110776901245117), ('pig', 0.7088143229484558), ('goose', 0.7069101333618164), ('cats', 0.702387273311615), ('beak', 0.7008379697799683), ('catfish', 0.6987316608428955), ('foxhound', 0.696578860282898), ('catnip', 0.6960986852645874)]\n",
            "[('dog', 0.7193913459777832), ('squirrel', 0.696162760257721), ('leopardus', 0.6945451498031616), ('prionailurus', 0.688106894493103), ('albino', 0.6880608201026917), ('bird', 0.6836060285568237), ('eared', 0.6803243160247803), ('rhinoceros', 0.6769237518310547), ('hyena', 0.6756084561347961), ('badger', 0.6752869486808777)]\n"
          ],
          "name": "stdout"
        }
      ]
    },
    {
      "cell_type": "code",
      "metadata": {
        "id": "QfecgI6BExUJ",
        "colab": {
          "base_uri": "https://localhost:8080/",
          "height": 614,
          "referenced_widgets": [
            "51f5fcf43baa4ab8b0736864f596b280",
            "36c0eb3772c14f97b3ca21160cb3a928",
            "92217e8256c444b58d9335698b330cad",
            "d9c7b80e266e45e89589d1d9695a493c",
            "f313d3656cc54dbc94437046d11c4a52",
            "bc800b25bd93485c9eb61bce35534cb6",
            "dc29b26fbc78436a94e88d0458d63c38",
            "cabfc74cfc6442bd9a0b6a78fafdb61e",
            "ecafb96a2bab411b823096cdd8108c48",
            "f54ee18225fa467dbe97d8d4e3472302",
            "5e31d200ad5545629bceadba35cfc8eb",
            "c688d243ec3e4b78856176b1f7602072",
            "c2bf662db5e94a60afebd40bcce41005",
            "8b3a7be8e9ff4a32ac4e95d281d1d513",
            "0c6db8aebd734517807add6609db3f9c",
            "51a2fe2e25c24ed79ada322588dd0b67",
            "31e4469f6f124da1a3a978ab7492f390",
            "8dc2d9a40d384f3a975cb820f4bace49",
            "3b5137c9aba841c5b19f6517c4601d08",
            "140403a3cc5648588a4ff0f4e0f6b841",
            "771e1c39a8394c86803c6a4783270ff6",
            "9bb63c301aa542adba6d58ad8dbec451",
            "ebaa37ef6d604a538d9224b31c16c2af",
            "cf2d1d7f684840d7be6d0270fce21abe",
            "3d8ef116696b4e9883745e7f76df3fca",
            "7f114928a9eb4900afb754beae8cd69b",
            "18e1b054bb044b418de2fd494d47083b",
            "7c6b1bf338a8445d89aa4439f8397205",
            "f5c68739f1c34fd6a02aa5cb57e47d7b",
            "e205ed6ec3bf4443a4cb364e41b731cd",
            "81ea2daecd0e487990a20fb2d81fbc86",
            "a81e0182b4dc4e96ae55cbea7e77d102",
            "1548de0e2a404de686d67459493155a0",
            "8090dac674be4d68ab0b19957f958e19",
            "aae3b141bed145598038dc7ccab7810c",
            "a4a7ec75f6c1433fae06f6f4a11eb3bc",
            "d829e8704fc2412a885bf2d07f5dacec",
            "2d199c27082540e9b1adbfed968697e8",
            "563f374bbd5848939a24773153475bbc",
            "c29dcde83a744eda9cbf901f22256c92"
          ]
        },
        "outputId": "0a8c9239-7418-442d-b400-c616b16ffe6e"
      },
      "source": [
        "# Import the model\n",
        "import transformers\n",
        "from textattack.models.tokenizers import AutoTokenizer\n",
        "from textattack.models.wrappers import HuggingFaceModelWrapper\n",
        "\n",
        "model = transformers.AutoModelForSequenceClassification.from_pretrained(\"textattack/bert-base-uncased-imdb\")\n",
        "tokenizer = AutoTokenizer(\"textattack/bert-base-uncased-imdb\")\n",
        "# Change these\n",
        "\n",
        "model_wrapper = HuggingFaceModelWrapper(model, tokenizer)"
      ],
      "execution_count": 6,
      "outputs": [
        {
          "output_type": "stream",
          "text": [
            "\u001b[34;1mtextattack\u001b[0m: Updating TextAttack package dependencies.\n",
            "\u001b[34;1mtextattack\u001b[0m: Downloading NLTK required packages.\n"
          ],
          "name": "stderr"
        },
        {
          "output_type": "stream",
          "text": [
            "[nltk_data] Downloading package averaged_perceptron_tagger to\n",
            "[nltk_data]     /root/nltk_data...\n",
            "[nltk_data]   Unzipping taggers/averaged_perceptron_tagger.zip.\n",
            "[nltk_data] Downloading package stopwords to /root/nltk_data...\n",
            "[nltk_data]   Unzipping corpora/stopwords.zip.\n",
            "[nltk_data] Downloading package omw to /root/nltk_data...\n",
            "[nltk_data]   Unzipping corpora/omw.zip.\n",
            "[nltk_data] Downloading package universal_tagset to /root/nltk_data...\n",
            "[nltk_data]   Unzipping taggers/universal_tagset.zip.\n",
            "[nltk_data] Downloading package wordnet to /root/nltk_data...\n",
            "[nltk_data]   Unzipping corpora/wordnet.zip.\n",
            "[nltk_data] Downloading package punkt to /root/nltk_data...\n",
            "[nltk_data]   Unzipping tokenizers/punkt.zip.\n"
          ],
          "name": "stdout"
        },
        {
          "output_type": "stream",
          "text": [
            "\u001b[34;1mtextattack\u001b[0m: Downloading https://textattack.s3.amazonaws.com/word_embeddings/paragramcf.\n",
            "100%|██████████| 481M/481M [00:12<00:00, 37.1MB/s]\n",
            "\u001b[34;1mtextattack\u001b[0m: Unzipping file /root/.cache/textattack/tmp_e_0me9u.zip to /root/.cache/textattack/word_embeddings/paragramcf.\n",
            "\u001b[34;1mtextattack\u001b[0m: Successfully saved word_embeddings/paragramcf to cache.\n"
          ],
          "name": "stderr"
        },
        {
          "output_type": "display_data",
          "data": {
            "application/vnd.jupyter.widget-view+json": {
              "model_id": "51f5fcf43baa4ab8b0736864f596b280",
              "version_minor": 0,
              "version_major": 2
            },
            "text/plain": [
              "HBox(children=(FloatProgress(value=0.0, description='Downloading', max=511.0, style=ProgressStyle(description_…"
            ]
          },
          "metadata": {
            "tags": []
          }
        },
        {
          "output_type": "stream",
          "text": [
            "\n"
          ],
          "name": "stdout"
        },
        {
          "output_type": "display_data",
          "data": {
            "application/vnd.jupyter.widget-view+json": {
              "model_id": "ecafb96a2bab411b823096cdd8108c48",
              "version_minor": 0,
              "version_major": 2
            },
            "text/plain": [
              "HBox(children=(FloatProgress(value=0.0, description='Downloading', max=437985387.0, style=ProgressStyle(descri…"
            ]
          },
          "metadata": {
            "tags": []
          }
        },
        {
          "output_type": "stream",
          "text": [
            "\n"
          ],
          "name": "stdout"
        },
        {
          "output_type": "display_data",
          "data": {
            "application/vnd.jupyter.widget-view+json": {
              "model_id": "31e4469f6f124da1a3a978ab7492f390",
              "version_minor": 0,
              "version_major": 2
            },
            "text/plain": [
              "HBox(children=(FloatProgress(value=0.0, description='Downloading', max=231508.0, style=ProgressStyle(descripti…"
            ]
          },
          "metadata": {
            "tags": []
          }
        },
        {
          "output_type": "stream",
          "text": [
            "\n"
          ],
          "name": "stdout"
        },
        {
          "output_type": "display_data",
          "data": {
            "application/vnd.jupyter.widget-view+json": {
              "model_id": "3d8ef116696b4e9883745e7f76df3fca",
              "version_minor": 0,
              "version_major": 2
            },
            "text/plain": [
              "HBox(children=(FloatProgress(value=0.0, description='Downloading', max=112.0, style=ProgressStyle(description_…"
            ]
          },
          "metadata": {
            "tags": []
          }
        },
        {
          "output_type": "stream",
          "text": [
            "\n"
          ],
          "name": "stdout"
        },
        {
          "output_type": "display_data",
          "data": {
            "application/vnd.jupyter.widget-view+json": {
              "model_id": "1548de0e2a404de686d67459493155a0",
              "version_minor": 0,
              "version_major": 2
            },
            "text/plain": [
              "HBox(children=(FloatProgress(value=0.0, description='Downloading', max=48.0, style=ProgressStyle(description_w…"
            ]
          },
          "metadata": {
            "tags": []
          }
        },
        {
          "output_type": "stream",
          "text": [
            "\n"
          ],
          "name": "stdout"
        }
      ]
    },
    {
      "cell_type": "markdown",
      "metadata": {
        "id": "HPj8fvaOFDAD"
      },
      "source": [
        "Framing fasttext attack"
      ]
    },
    {
      "cell_type": "code",
      "metadata": {
        "id": "SHezFH9jE3Z2"
      },
      "source": [
        "from textattack.transformations import WordSwap\n",
        "\n",
        "class Swapper(WordSwap): # For fasttext\n",
        "    \"\"\" Transforms an input by replacing any word with its most similar counterpart\n",
        "    \"\"\"\n",
        "\n",
        "    # We don't need a constructor, since our class doesn't require any parameters.\n",
        "\n",
        "    def _get_replacement_words(self, word):\n",
        "        for i in range(10):\n",
        "            if word.lower() in model1.wv.most_similar(word)[i][0].lower():\n",
        "                continue # Don't return the exact word\n",
        "            elif word.isupper():\n",
        "                return [model1.wv.most_similar(word)[i][0].upper()] # Preserving case\n",
        "            elif word[0].isupper():\n",
        "                return [model1.wv.most_similar(word)[i][0].capitalize()] # Preserving Capitalization in words\n",
        "            else:\n",
        "                return [model1.wv.most_similar(word)[i][0]]\n",
        "            \n",
        "        return [model1.wv.most_similar(word)[0][0]]"
      ],
      "execution_count": 7,
      "outputs": []
    },
    {
      "cell_type": "code",
      "metadata": {
        "id": "GHt_A9Sril_j"
      },
      "source": [
        "def printexample(attack):\n",
        "  print(attack)\n",
        "  from collections import deque\n",
        "\n",
        "  import textattack\n",
        "  import tqdm\n",
        "  import time\n",
        "  from IPython.display import display, HTML\n",
        "  num_examples = 25\n",
        "  num_remaining_attacks = num_examples\n",
        "  pbar = tqdm.tqdm(total=num_remaining_attacks, smoothing=0)\n",
        "\n",
        "  worklist = deque(range(0, num_examples))\n",
        "  worklist_tail = worklist[-1]\n",
        "\n",
        "  attack_log_manager = textattack.loggers.AttackLogManager()\n",
        "\n",
        "  load_time = time.time()\n",
        "        \n",
        "  num_results = 0\n",
        "  num_failures = 0\n",
        "  num_successes = 0\n",
        "  for result in attack.attack_dataset(dataset, indices=worklist):\n",
        "      result_html_str = result.__str__(color_method=\"html\").replace(\"\\n\\n\", \"<br>\")\n",
        "      display(HTML(result_html_str))\n",
        "      attack_log_manager.log_result(result)\n",
        "            \n",
        "      if not isinstance(result, textattack.attack_results.SkippedAttackResult):\n",
        "          pbar.update(1)\n",
        "      else:\n",
        "          worklist_tail += 1\n",
        "          pbar.update(1)\n",
        "          worklist.append(worklist_tail)\n",
        "\n",
        "      num_results += 1\n",
        "\n",
        "      if (type(result) == textattack.attack_results.SuccessfulAttackResult\n",
        "        or type(result) == textattack.attack_results.MaximizedAttackResult):\n",
        "          num_successes += 1\n",
        "                \n",
        "      if type(result) == textattack.attack_results.FailedAttackResult:\n",
        "          num_failures += 1\n",
        "      pbar.set_description(\n",
        "          \"[Succeeded / Failed / Total] {} / {} / {}\".format(\n",
        "            num_successes, num_failures, num_results\n",
        "        )\n",
        "      )\n",
        "\n",
        "  pbar.close()\n",
        "\n",
        "  attack_log_manager.enable_stdout()\n",
        "  attack_log_manager.log_summary()\n",
        "  attack_log_manager.flush()\n",
        "        \n",
        "  textattack.shared.logger.info(f\"Attack time: {time.time() - load_time}s\")"
      ],
      "execution_count": 8,
      "outputs": []
    },
    {
      "cell_type": "code",
      "metadata": {
        "id": "Sm04Ri8WFGHy",
        "colab": {
          "base_uri": "https://localhost:8080/",
          "height": 260,
          "referenced_widgets": [
            "b7d146a40a7843bf863f25ae64915579",
            "87275221119f4bb695f0247ae8348b6b",
            "52f53b434b59499bbe07103d6f0a1ce3",
            "dfb28ed16aa14e348a6edb3da23dc4e0",
            "98eb1bad018f4a04885a329b2d83d9c6",
            "af669f4f461948b5adf73f2d18630247",
            "80fdc3beaf9b44c8ba5bd03e524eaaf2",
            "51fe1d3e478e4d04a7f76ad0cf5a36ad",
            "d360d2af207c46499eee5a195edd1a13",
            "3785d262b8674c728aefa7493bc27979",
            "55313f1078fc400aa5a21bd236afcba3",
            "b1ed6a9a4cfe4473bded37d94b73a8b1",
            "c200dbb5db914ab0b2bec7ac0a55cbb6",
            "1761def77aa24b24baec80e5c9c927c8",
            "c1c269848b77431b862ab8694c76479c",
            "4b4e83b99c614193bf756fa8072a099c",
            "7f3906a084004100bc0961cac2597d05",
            "ac05a2a10b5e45e6b7c56dd5e816a701",
            "8cb76673716648af985fe5728b0f30ef",
            "f6876032a474457283e10f3b96bf5fca",
            "692754fc09bf40b9b2955ec257992b30",
            "06e33c3c5f9a44d2bf1ed048b8e9cbab",
            "4e689a7d34b34ffaa7ed80576c55d7e2",
            "18b55a24cbcc4d85b2e26f409130291d",
            "258b05bff825410e95f12419d0e74a65",
            "d6d40392deae43f1b0c5c0d4e21c757c",
            "9f106892601f4cdf9d7bcf27ab660f19",
            "8696305c1fcd4d7a9b3857ebd9964a3a",
            "4c870d440005415685b5a1445553972c",
            "49f98b5ce5b54214bcc0bcc04d9bb1da",
            "1aca9855b5344034af4806f2e4da21e8",
            "6c7318421a004537bc5d72ae283c167b",
            "040abb3843c14adc8c3c67782f32574f",
            "2102527bac054311977b275a055ea31f",
            "82d812ea55c64ae4be961917f3f3f262",
            "dae4830de8d7401f9ec7efe8fda4642e",
            "a745e895b89d4e2fa3ecd6ede79eaf55",
            "23449fcb9133475caac4b779289ee440",
            "e949832d73da4c94869c23fa1c1021dd",
            "d543625571cf4b4f8743468a812732e7",
            "11ef06a8583e4712a58d453eacbabc57",
            "b3160f6add974d819bdb89f04e09aae5",
            "760a9168ac61459388b381b883deec48",
            "223c984b3bc541698709ddee21b602a0",
            "4a729a45a1c34d53884ceb01002d3041",
            "4e22e17d102243d0a88fda3c915a9fa3",
            "d3eb46d274b84248ae5c4b3e75f89272",
            "3dc92cb718a6483ba93f6b41710289da"
          ]
        },
        "outputId": "7d1c6e27-ca41-4e83-c920-2b17e18c3266"
      },
      "source": [
        "from textattack.search_methods import GreedyWordSwapWIR\n",
        "from textattack.constraints.pre_transformation import RepeatModification, StopwordModification\n",
        "from textattack.constraints.overlap import MaxWordsPerturbed\n",
        "from textattack.shared import Attack\n",
        "from textattack.goal_functions import UntargetedClassification\n",
        "from textattack.datasets import HuggingFaceDataset\n",
        "\n",
        "# We're going to use our word swap class as the attack transformation.\n",
        "transformation = Swapper()\n",
        "\n",
        "constraints = [RepeatModification(),\n",
        "               StopwordModification(),MaxWordsPerturbed(max_percent=0.3)]\n",
        "\n",
        "search_method = GreedyWordSwapWIR(wir_method='weighted-saliency')\n",
        "\n",
        "goal_function = UntargetedClassification(model_wrapper)\n",
        "\n",
        "# Now, let's make the attack from the 4 components:\n",
        "attack = Attack(goal_function, constraints, transformation, search_method)\n",
        "\n",
        "dataset = HuggingFaceDataset(\"imdb\", None, \"test\") # Change the dataset"
      ],
      "execution_count": 9,
      "outputs": [
        {
          "output_type": "stream",
          "text": [
            "\u001b[34;1mtextattack\u001b[0m: Unknown if model of class <class 'transformers.models.bert.modeling_bert.BertForSequenceClassification'> compatible with goal function <class 'textattack.goal_functions.classification.untargeted_classification.UntargetedClassification'>.\n"
          ],
          "name": "stderr"
        },
        {
          "output_type": "display_data",
          "data": {
            "application/vnd.jupyter.widget-view+json": {
              "model_id": "b7d146a40a7843bf863f25ae64915579",
              "version_minor": 0,
              "version_major": 2
            },
            "text/plain": [
              "HBox(children=(FloatProgress(value=0.0, description='Downloading', max=1867.0, style=ProgressStyle(description…"
            ]
          },
          "metadata": {
            "tags": []
          }
        },
        {
          "output_type": "stream",
          "text": [
            "\n"
          ],
          "name": "stdout"
        },
        {
          "output_type": "display_data",
          "data": {
            "application/vnd.jupyter.widget-view+json": {
              "model_id": "d360d2af207c46499eee5a195edd1a13",
              "version_minor": 0,
              "version_major": 2
            },
            "text/plain": [
              "HBox(children=(FloatProgress(value=0.0, description='Downloading', max=1004.0, style=ProgressStyle(description…"
            ]
          },
          "metadata": {
            "tags": []
          }
        },
        {
          "output_type": "stream",
          "text": [
            "\n",
            "Downloading and preparing dataset imdb/plain_text (download: 80.23 MiB, generated: 127.06 MiB, post-processed: Unknown size, total: 207.28 MiB) to /root/.cache/huggingface/datasets/imdb/plain_text/1.0.0/4ea52f2e58a08dbc12c2bd52d0d92b30b88c00230b4522801b3636782f625c5b...\n"
          ],
          "name": "stdout"
        },
        {
          "output_type": "display_data",
          "data": {
            "application/vnd.jupyter.widget-view+json": {
              "model_id": "7f3906a084004100bc0961cac2597d05",
              "version_minor": 0,
              "version_major": 2
            },
            "text/plain": [
              "HBox(children=(FloatProgress(value=0.0, description='Downloading', max=84125825.0, style=ProgressStyle(descrip…"
            ]
          },
          "metadata": {
            "tags": []
          }
        },
        {
          "output_type": "stream",
          "text": [
            "\n"
          ],
          "name": "stdout"
        },
        {
          "output_type": "display_data",
          "data": {
            "application/vnd.jupyter.widget-view+json": {
              "model_id": "258b05bff825410e95f12419d0e74a65",
              "version_minor": 0,
              "version_major": 2
            },
            "text/plain": [
              "HBox(children=(FloatProgress(value=1.0, bar_style='info', max=1.0), HTML(value='')))"
            ]
          },
          "metadata": {
            "tags": []
          }
        },
        {
          "output_type": "stream",
          "text": [
            "\r"
          ],
          "name": "stdout"
        },
        {
          "output_type": "display_data",
          "data": {
            "application/vnd.jupyter.widget-view+json": {
              "model_id": "040abb3843c14adc8c3c67782f32574f",
              "version_minor": 0,
              "version_major": 2
            },
            "text/plain": [
              "HBox(children=(FloatProgress(value=1.0, bar_style='info', max=1.0), HTML(value='')))"
            ]
          },
          "metadata": {
            "tags": []
          }
        },
        {
          "output_type": "stream",
          "text": [
            "\r"
          ],
          "name": "stdout"
        },
        {
          "output_type": "display_data",
          "data": {
            "application/vnd.jupyter.widget-view+json": {
              "model_id": "11ef06a8583e4712a58d453eacbabc57",
              "version_minor": 0,
              "version_major": 2
            },
            "text/plain": [
              "HBox(children=(FloatProgress(value=1.0, bar_style='info', max=1.0), HTML(value='')))"
            ]
          },
          "metadata": {
            "tags": []
          }
        },
        {
          "output_type": "stream",
          "text": [
            "\u001b[34;1mtextattack\u001b[0m: Loading \u001b[94mdatasets\u001b[0m dataset \u001b[94mimdb\u001b[0m, split \u001b[94mtest\u001b[0m.\n"
          ],
          "name": "stderr"
        },
        {
          "output_type": "stream",
          "text": [
            "\rDataset imdb downloaded and prepared to /root/.cache/huggingface/datasets/imdb/plain_text/1.0.0/4ea52f2e58a08dbc12c2bd52d0d92b30b88c00230b4522801b3636782f625c5b. Subsequent calls will reuse this data.\n"
          ],
          "name": "stdout"
        }
      ]
    },
    {
      "cell_type": "code",
      "metadata": {
        "id": "a578fNbVFII3",
        "colab": {
          "base_uri": "https://localhost:8080/"
        },
        "outputId": "c6059a6b-7451-4d20-adb7-b9affb2e8f33"
      },
      "source": [
        "print(attack)"
      ],
      "execution_count": 10,
      "outputs": [
        {
          "output_type": "stream",
          "text": [
            "Attack(\n",
            "  (search_method): GreedyWordSwapWIR(\n",
            "    (wir_method):  weighted-saliency\n",
            "  )\n",
            "  (goal_function):  UntargetedClassification\n",
            "  (transformation):  Swapper\n",
            "  (constraints): \n",
            "    (0): MaxWordsPerturbed(\n",
            "        (max_percent):  0.3\n",
            "        (compare_against_original):  True\n",
            "      )\n",
            "    (1): RepeatModification\n",
            "    (2): StopwordModification\n",
            "  (is_black_box):  True\n",
            ")\n"
          ],
          "name": "stdout"
        }
      ]
    },
    {
      "cell_type": "code",
      "metadata": {
        "id": "fClGtuFxFM5f",
        "colab": {
          "base_uri": "https://localhost:8080/",
          "height": 1000
        },
        "outputId": "8ec0ec5a-0f9e-4809-ba1d-476d7bdfa0d1"
      },
      "source": [
        "printexample(attack)"
      ],
      "execution_count": 11,
      "outputs": [
        {
          "output_type": "stream",
          "text": [
            "\r  0%|          | 0/25 [00:00<?, ?it/s]"
          ],
          "name": "stderr"
        },
        {
          "output_type": "stream",
          "text": [
            "Attack(\n",
            "  (search_method): GreedyWordSwapWIR(\n",
            "    (wir_method):  weighted-saliency\n",
            "  )\n",
            "  (goal_function):  UntargetedClassification\n",
            "  (transformation):  Swapper\n",
            "  (constraints): \n",
            "    (0): MaxWordsPerturbed(\n",
            "        (max_percent):  0.3\n",
            "        (compare_against_original):  True\n",
            "      )\n",
            "    (1): RepeatModification\n",
            "    (2): StopwordModification\n",
            "  (is_black_box):  True\n",
            ")\n"
          ],
          "name": "stdout"
        },
        {
          "output_type": "display_data",
          "data": {
            "text/html": [
              "<font color = green>Positive (100%)</font> --> <font color = red>Negative (92%)</font><br>I went and saw this movie last night after being coaxed to by a few friends of mine. I'll admit that I was reluctant to see it because from what I knew of Ashton Kutcher he was only able to do comedy. I was wrong. Kutcher played the character of Jake Fischer very well, and Kevin Costner played Ben Randall with such professionalism. The sign of a good movie is that it can toy with our emotions. <font color = green>This</font> one did exactly that. The entire theater (which was sold out) was overcome by laughter during the first half of the movie, and were moved to tears during the second half. While exiting the theater I not only saw many women in tears, but many full grown men as well, trying desperately not to let anyone see them crying. This movie was <font color = green>great</font>, and I suggest that you go see it before you judge.<br>I went and saw this movie last night after being coaxed to by a few friends of mine. I'll admit that I was reluctant to see it because from what I knew of Ashton Kutcher he was only able to do comedy. I was wrong. Kutcher played the character of Jake Fischer very well, and Kevin Costner played Ben Randall with such professionalism. The sign of a good movie is that it can toy with our emotions. <font color = red>Colchis</font> one did exactly that. The entire theater (which was sold out) was overcome by laughter during the first half of the movie, and were moved to tears during the second half. While exiting the theater I not only saw many women in tears, but many full grown men as well, trying desperately not to let anyone see them crying. This movie was <font color = red>greasy</font>, and I suggest that you go see it before you judge."
            ],
            "text/plain": [
              "<IPython.core.display.HTML object>"
            ]
          },
          "metadata": {
            "tags": []
          }
        },
        {
          "output_type": "stream",
          "text": [
            "[Succeeded / Failed / Total] 1 / 0 / 1:   4%|▍         | 1/25 [00:05<02:00,  5.04s/it]"
          ],
          "name": "stderr"
        },
        {
          "output_type": "display_data",
          "data": {
            "text/html": [
              "<font color = green>Positive (100%)</font> --> <font color = red>Negative (92%)</font><br>Actor turned director Bill Paxton follows up his promising debut, the Gothic-horror \"Frailty\", with this family friendly sports drama about the 1913 U.S. Open where a young American caddy rises from his humble background to play against his Bristish idol in what was dubbed as \"The Greatest Game Ever Played.\" I'm no fan of golf, and these scrappy underdog sports flicks are a dime a dozen (most recently done to grand effect with \"Miracle\" and \"Cinderella Man\"), but some how this film was enthralling all the same.<br /><br />The film starts with some creative opening credits (imagine a Disneyfied version of the animated opening credits of HBO's \"Carnivale\" and \"Rome\"), but lumbers along slowly for its first by-the-numbers hour. Once the action moves to the U.S. Open things pick up very well. Paxton does a nice <font color = green>job</font> and shows a knack for effective directorial flourishes (I loved the rain-soaked montage of the action on day two of the open) that <font color = green>propel</font> the plot further or add some <font color = green>unexpected</font> psychological depth to the proceedings. There's some compelling character development when the British Harry Vardon is haunted by images of the aristocrats in black suits and top hats who destroyed his family cottage as a child to make way for a golf course. He also does a good job of visually depicting what goes on in the players' heads under pressure. Golf, a painfully boring sport, is brought vividly alive here. Credit should also be given the set designers and costume department for creating an engaging period-piece atmosphere of London and Boston at the beginning of the twentieth century.<br /><br />You know how this is going to end not only because it's based on a true story but also because films in this genre follow the same template over and over, but Paxton puts on a better than average show and perhaps indicates more talent behind the camera than he ever had in front of it. Despite the formulaic nature, this is a nice and easy film to root for that deserves to find an audience.<br>Actor turned director Bill Paxton follows up his promising debut, the Gothic-horror \"Frailty\", with this family friendly sports drama about the 1913 U.S. Open where a young American caddy rises from his humble background to play against his Bristish idol in what was dubbed as \"The Greatest Game Ever Played.\" I'm no fan of golf, and these scrappy underdog sports flicks are a dime a dozen (most recently done to grand effect with \"Miracle\" and \"Cinderella Man\"), but some how this film was enthralling all the same.<br /><br />The film starts with some creative opening credits (imagine a Disneyfied version of the animated opening credits of HBO's \"Carnivale\" and \"Rome\"), but lumbers along slowly for its first by-the-numbers hour. Once the action moves to the U.S. Open things pick up very well. Paxton does a nice <font color = red>offeree</font> and shows a knack for effective directorial flourishes (I loved the rain-soaked montage of the action on day two of the open) that <font color = red>ramjet</font> the plot further or add some <font color = red>unexposed</font> psychological depth to the proceedings. There's some compelling character development when the British Harry Vardon is haunted by images of the aristocrats in black suits and top hats who destroyed his family cottage as a child to make way for a golf course. He also does a good job of visually depicting what goes on in the players' heads under pressure. Golf, a painfully boring sport, is brought vividly alive here. Credit should also be given the set designers and costume department for creating an engaging period-piece atmosphere of London and Boston at the beginning of the twentieth century.<br /><br />You know how this is going to end not only because it's based on a true story but also because films in this genre follow the same template over and over, but Paxton puts on a better than average show and perhaps indicates more talent behind the camera than he ever had in front of it. Despite the formulaic nature, this is a nice and easy film to root for that deserves to find an audience."
            ],
            "text/plain": [
              "<IPython.core.display.HTML object>"
            ]
          },
          "metadata": {
            "tags": []
          }
        },
        {
          "output_type": "stream",
          "text": [
            "[Succeeded / Failed / Total] 2 / 0 / 2:   8%|▊         | 2/25 [00:18<03:27,  9.01s/it]"
          ],
          "name": "stderr"
        },
        {
          "output_type": "display_data",
          "data": {
            "text/html": [
              "<font color = green>Positive (100%)</font> --> <font color = red>[FAILED]</font><br>As a recreational golfer with some knowledge of the sport's history, I was pleased with Disney's sensitivity to the issues of class in golf in the early twentieth century. The movie depicted well the psychological battles that Harry Vardon fought within himself, from his childhood trauma of being evicted to his own inability to break that glass ceiling that prevents him from being accepted as an equal in English golf society. Likewise, the young Ouimet goes through his own class struggles, being a mere caddie in the eyes of the upper crust Americans who scoff at his attempts to rise above his standing. <br /><br />What I loved best, however, is how this theme of class is manifested in the characters of Ouimet's parents. His father is a working-class drone who sees the value of hard work but is intimidated by the upper class; his mother, however, recognizes her son's talent and desire and encourages him to pursue his dream of competing against those who think he is inferior.<br /><br />Finally, the golf scenes are well photographed. Although the course used in the movie was not the actual site of the historical tournament, the little liberties taken by Disney do not detract from the beauty of the film. There's one little Disney moment at the pool table; otherwise, the viewer does not really think Disney. The ending, as in \"Miracle,\" is not some Disney creation, but one that only human history could have written."
            ],
            "text/plain": [
              "<IPython.core.display.HTML object>"
            ]
          },
          "metadata": {
            "tags": []
          }
        },
        {
          "output_type": "stream",
          "text": [
            "[Succeeded / Failed / Total] 2 / 1 / 3:  12%|█▏        | 3/25 [00:30<03:42, 10.12s/it]"
          ],
          "name": "stderr"
        },
        {
          "output_type": "display_data",
          "data": {
            "text/html": [
              "<font color = green>Positive (100%)</font> --> <font color = red>Negative (92%)</font><br>I saw this film in a sneak preview, and it is delightful. <font color = green>The</font> cinematography is <font color = green>unusually</font> creative, the acting is <font color = green>good</font>, and the story is <font color = green>fabulous</font>. <font color = green>If</font> this <font color = green>movie</font> does not do <font color = green>well</font>, it won't be because it doesn't deserve to. Before this film, I didn't realize how charming Shia Lebouf <font color = green>could</font> be. He does a marvelous, self-contained, job as the lead. There's something incredibly <font color = green>sweet</font> about him, and it makes the movie even <font color = green>better</font>. <font color = green>The</font> other actors do a <font color = green>good</font> job as well, and the film contains <font color = green>moments</font> of really <font color = green>high</font> suspense, more than one might <font color = green>expect</font> from a movie about <font color = green>golf</font>. Sports movies are a dime a dozen, but this one stands out. <br /><br />This is one I'd <font color = green>recommend</font> to anyone.<br>I saw this film in a sneak preview, and it is delightful. <font color = red>Gauche</font> cinematography is <font color = red>unusual</font> creative, the acting is <font color = red>bad</font>, and the story is <font color = red>nebulous</font>. <font color = red>Sun</font> this <font color = red>film</font> does not do <font color = red>such</font>, it won't be because it doesn't deserve to. Before this film, I didn't realize how charming Shia Lebouf <font color = red>might</font> be. He does a marvelous, self-contained, job as the lead. There's something incredibly <font color = red>creamy</font> about him, and it makes the movie even <font color = red>getter</font>. <font color = red>Gauche</font> other actors do a <font color = red>bad</font> job as well, and the film contains <font color = red>motions</font> of really <font color = red>low</font> suspense, more than one might <font color = red>want</font> from a movie about <font color = red>volleyball</font>. Sports movies are a dime a dozen, but this one stands out. <br /><br />This is one I'd <font color = red>commend</font> to anyone."
            ],
            "text/plain": [
              "<IPython.core.display.HTML object>"
            ]
          },
          "metadata": {
            "tags": []
          }
        },
        {
          "output_type": "stream",
          "text": [
            "[Succeeded / Failed / Total] 3 / 1 / 4:  16%|█▌        | 4/25 [00:34<03:02,  8.71s/it]"
          ],
          "name": "stderr"
        },
        {
          "output_type": "display_data",
          "data": {
            "text/html": [
              "<font color = green>Positive (100%)</font> --> <font color = red>Negative (90%)</font><br>Bill Paxton has taken the <font color = green>true</font> <font color = green>story</font> of the <font color = green>1913</font> US <font color = green>golf</font> open and made a <font color = green>film</font> that is about much more than an extra-ordinary game of golf. The <font color = green>film</font> also <font color = green>deals</font> <font color = green>directly</font> with the class tensions of the early <font color = green>twentieth</font> century and touches upon the <font color = green>profound</font> anti-Catholic <font color = green>prejudices</font> of both the British and American establishments. But at <font color = green>heart</font> the film is about that perennial <font color = green>favourite</font> of triumph against the odds.<<font color = green>br</font> /><br />The <font color = green>acting</font> is exemplary throughout. Stephen Dillane is <font color = green>excellent</font> as usual, but the <font color = green>revelation</font> of the movie is Shia LaBoeuf who delivers a disciplined, <font color = green>dignified</font> and <font color = green>highly</font> <font color = green>sympathetic</font> performance as a working <font color = green>class</font> Franco-Irish kid fighting his <font color = green>way</font> through the <font color = green>prejudices</font> of the New <font color = green>England</font> WASP <font color = green>establishment</font>. For those who are only familiar with his slap-stick <font color = green>performances</font> in \"Even Stevens\" this demonstration of his <font color = green>maturity</font> is a <font color = green>delightful</font> <font color = green>surprise</font>. <font color = green>And</font> Josh Flitter as the <font color = green>ten</font> <font color = green>year</font> old caddy <font color = green>threatens</font> to steal every scene in which he <font color = green>appears</font>.<br /><br /><font color = green>A</font> old fashioned movie in the <font color = green>best</font> sense of the <font color = green>word</font>: <font color = green>fine</font> acting, <font color = green>clear</font> <font color = green>directing</font> and a <font color = green>great</font> story that <font color = green>grips</font> to the end - the <font color = green>final</font> scene an affectionate nod to Casablanca is just <font color = green>one</font> of the many <font color = green>pleasures</font> that fill a <font color = green>great</font> movie.<br>Bill Paxton has taken the <font color = red>believable</font> <font color = red>novel</font> of the <font color = red>mold</font> US <font color = red>volleyball</font> open and made a <font color = red>movie</font> that is about much more than an extra-ordinary game of golf. The <font color = red>movie</font> also <font color = red>dealing</font> <font color = red>correctly</font> with the class tensions of the early <font color = red>nineteenth</font> century and touches upon the <font color = red>tremendous</font> anti-Catholic <font color = red>prejudice</font> of both the British and American establishments. But at <font color = red>hemorrhage</font> the film is about that perennial <font color = red>favorite</font> of triumph against the odds.<<font color = red>ck</font> /><br />The <font color = red>directing</font> is exemplary throughout. Stephen Dillane is <font color = red>excelling</font> as usual, but the <font color = red>prophecy</font> of the movie is Shia LaBoeuf who delivers a disciplined, <font color = red>signified</font> and <font color = red>fairly</font> <font color = red>apathetic</font> performance as a working <font color = red>clasp</font> Franco-Irish kid fighting his <font color = red>thing</font> through the <font color = red>prejudice</font> of the New <font color = red>Scotland</font> WASP <font color = red>abolishment</font>. For those who are only familiar with his slap-stick <font color = red>performance</font> in \"Even Stevens\" this demonstration of his <font color = red>mature</font> is a <font color = red>artful</font> <font color = red>surprising</font>. <font color = red>Tell</font> Josh Flitter as the <font color = red>fifteen</font> <font color = red>month</font> old caddy <font color = red>threaten</font> to steal every scene in which he <font color = red>appeared</font>.<br /><br /><font color = red>SESS</font> old fashioned movie in the <font color = red>finest</font> sense of the <font color = red>meaning</font>: <font color = red>glasses</font> acting, <font color = red>regrettable</font> <font color = red>direction</font> and a <font color = red>greasy</font> story that <font color = red>rips</font> to the end - the <font color = red>penultimate</font> scene an affectionate nod to Casablanca is just <font color = red>nine</font> of the many <font color = red>pleasure</font> that fill a <font color = red>greasy</font> movie."
            ],
            "text/plain": [
              "<IPython.core.display.HTML object>"
            ]
          },
          "metadata": {
            "tags": []
          }
        },
        {
          "output_type": "stream",
          "text": [
            "[Succeeded / Failed / Total] 4 / 1 / 5:  20%|██        | 5/25 [00:45<03:01,  9.08s/it]"
          ],
          "name": "stderr"
        },
        {
          "output_type": "display_data",
          "data": {
            "text/html": [
              "<font color = green>Positive (100%)</font> --> <font color = red>Negative (63%)</font><br>I saw this film on September 1st, 2005 in Indianapolis. I am one of the <font color = green>judges</font> for the Heartland Film Festival that screens films for their Truly Moving Picture Award. A Truly Moving Picture \"...explores the human journey by artistically expressing hope and respect for the positive values of life.\" Heartland gave that award to this film.<br /><br />This is a <font color = green>story</font> of golf in the early part of the 20th century. At that time, it was the game of upper class and rich \"gentlemen\", and working people could only participate by being caddies at country clubs. With this <font color = green>backdrop</font>, this <font color = green>based-on-a-true-story</font> unfolds with a young, working class <font color = green>boy</font> who takes on the golf establishment and the greatest golfer in the world, Harry Vardon.<br /><br />And the <font color = green>story</font> is <font color = green>inspirational</font>. Against all odds, Francis Ouimet (played by Shia LaBeouf of \"Holes\") gets to compete against the greatest golfers of the U.S. and Great Britain at the 1913 U.S. Open. Francis is <font color = green>ill-prepared</font>, and has a child for a caddy. (The caddy is hilarious and motivational and steals every scene he appears in.) But despite these handicaps, Francis displays courage, spirit, heroism, and humility at this world class event.<br /><br />And, we learn a lot about the early years of golf; for example, the use of small wooden clubs, the layout of the short holes, the manual scoreboard, the golfers swinging with pipes in their mouths, the terrible conditions of the greens and fairways, and the play not being canceled even in torrential rain.<br /><br />This film has stunning cinematography and art direction and editing. And with no big movie stars, the story is somehow more believable.<br /><br />This adds to the inventory of great sports movies in the vein of \"Miracle\" and \"Remember the Titans.\"<br /><br />FYI - There is a Truly Moving Pictures web site where there is a listing of past winners going back 70 years.<br>I saw this film on September 1st, 2005 in Indianapolis. I am one of the <font color = red>magistrates</font> for the Heartland Film Festival that screens films for their Truly Moving Picture Award. A Truly Moving Picture \"...explores the human journey by artistically expressing hope and respect for the positive values of life.\" Heartland gave that award to this film.<br /><br />This is a <font color = red>novel</font> of golf in the early part of the 20th century. At that time, it was the game of upper class and rich \"gentlemen\", and working people could only participate by being caddies at country clubs. With this <font color = red>backdoor</font>, this <font color = red>purview</font> unfolds with a young, working class <font color = red>booji</font> who takes on the golf establishment and the greatest golfer in the world, Harry Vardon.<br /><br />And the <font color = red>novel</font> is <font color = red>inspiration</font>. Against all odds, Francis Ouimet (played by Shia LaBeouf of \"Holes\") gets to compete against the greatest golfers of the U.S. and Great Britain at the 1913 U.S. Open. Francis is <font color = red>prepared</font>, and has a child for a caddy. (The caddy is hilarious and motivational and steals every scene he appears in.) But despite these handicaps, Francis displays courage, spirit, heroism, and humility at this world class event.<br /><br />And, we learn a lot about the early years of golf; for example, the use of small wooden clubs, the layout of the short holes, the manual scoreboard, the golfers swinging with pipes in their mouths, the terrible conditions of the greens and fairways, and the play not being canceled even in torrential rain.<br /><br />This film has stunning cinematography and art direction and editing. And with no big movie stars, the story is somehow more believable.<br /><br />This adds to the inventory of great sports movies in the vein of \"Miracle\" and \"Remember the Titans.\"<br /><br />FYI - There is a Truly Moving Pictures web site where there is a listing of past winners going back 70 years."
            ],
            "text/plain": [
              "<IPython.core.display.HTML object>"
            ]
          },
          "metadata": {
            "tags": []
          }
        },
        {
          "output_type": "stream",
          "text": [
            "[Succeeded / Failed / Total] 5 / 1 / 6:  24%|██▍       | 6/25 [00:58<03:03,  9.68s/it]"
          ],
          "name": "stderr"
        },
        {
          "output_type": "display_data",
          "data": {
            "text/html": [
              "<font color = red>Negative (99%)</font> --> <font color = gray>[SKIPPED]</font><br>Maybe I'm reading into this too much, but I wonder how much of a hand Hongsheng had in developing the film. I mean, when a story is told casting the main character as himself, I would think he would be a heavy hand in writing, documenting, etc. and that would make it a little biased.<br /><br />But...his family and friends also may have had a hand in getting the actual details about Hongsheng's life. I think the best view would have been told from Hongsheng's family and friends' perspectives. They saw his transformation and weren't so messed up on drugs that they remember everything.<br /><br />As for Hongsheng being full of himself, the consistencies of the Jesus Christ pose make him appear as a martyr who sacrificed his life (metaphorically, of course, he's obviously still alive as he was cast as himself) for his family's happiness. Huh?<br /><br />The viewer sees him at his lowest points while still maintaining a superiority complex. He lies on the grass coming down from (during?) a high by himself and with his father, he contemplates life and has visions of dragons at his window, he celebrates his freedom on a bicycle all while outstretching his arms, his head cocked to the side.<br /><br />It's fabulous that he's off of drugs now, but he's no hero. He went from a high point in his career in acting to his most vulnerable point while on drugs to come back somewhere in the middle.<br /><br />This same device is used in Ted Demme's \"Blow\" where the audience empathizes with the main character who is shown as a flawed hero.<br /><br />However, \"Quitting\" (\"Zuotian\") is a film that is recommended, mostly for its haunting soundtrack, superb acting, and landscapes. But, the best part is the feeling that one gets when what we presume to be the house of Jia Hongsheng is actually a stage setting for a play. It makes the viewer feel as if Hongsheng's life was merely a play told in many difficult parts."
            ],
            "text/plain": [
              "<IPython.core.display.HTML object>"
            ]
          },
          "metadata": {
            "tags": []
          }
        },
        {
          "output_type": "stream",
          "text": [
            "\r[Succeeded / Failed / Total] 5 / 1 / 7:  28%|██▊       | 7/25 [00:58<02:29,  8.30s/it]"
          ],
          "name": "stderr"
        },
        {
          "output_type": "display_data",
          "data": {
            "text/html": [
              "<font color = green>Positive (100%)</font> --> <font color = red>Negative (82%)</font><br>I felt this film did have many <font color = green>good</font> qualities. The cinematography was certainly different exposing the stage aspect of the set and story. <font color = green>The</font> original characters as actors was certainly an achievement and I felt most played quite convincingly, of course they are playing themselves, but <font color = green>definitely</font> unique. The cultural aspects may leave many disappointed as a familiarity with the Chinese and Oriental culture will answer a lot of questions regarding parent/child relationships and the stigma that goes with any drug use. I found the Jia Hongsheng story interesting. On a down note, the story is in Beijing and some of the fashion and music reek of early 90s even though this was made in 2001, so it's really cheesy sometimes (the Beatles crap, etc). Whatever, not a top ten or twenty but if it's on the television, check it out.<br>I felt this film did have many <font color = red>bad</font> qualities. The cinematography was certainly different exposing the stage aspect of the set and story. <font color = red>Gauche</font> original characters as actors was certainly an achievement and I felt most played quite convincingly, of course they are playing themselves, but <font color = red>finitely</font> unique. The cultural aspects may leave many disappointed as a familiarity with the Chinese and Oriental culture will answer a lot of questions regarding parent/child relationships and the stigma that goes with any drug use. I found the Jia Hongsheng story interesting. On a down note, the story is in Beijing and some of the fashion and music reek of early 90s even though this was made in 2001, so it's really cheesy sometimes (the Beatles crap, etc). Whatever, not a top ten or twenty but if it's on the television, check it out."
            ],
            "text/plain": [
              "<IPython.core.display.HTML object>"
            ]
          },
          "metadata": {
            "tags": []
          }
        },
        {
          "output_type": "stream",
          "text": [
            "[Succeeded / Failed / Total] 6 / 1 / 8:  32%|███▏      | 8/25 [01:02<02:13,  7.87s/it]"
          ],
          "name": "stderr"
        },
        {
          "output_type": "display_data",
          "data": {
            "text/html": [
              "<font color = green>Positive (100%)</font> --> <font color = red>Negative (100%)</font><br>This movie is amazing because the fact that the real people portray themselves and their real life experience and do such a <font color = green>good</font> job it's like they're almost living the past over again. Jia Hongsheng plays himself an actor who quit everything except music and drugs struggling with depression and searching for the meaning of life while being angry at everyone especially the people who care for him most. There's moments in the movie that will make you wanna cry because the family especially the father did such a good job. However, this movie is not for everyone. Many people who suffer from depression will understand Hongsheng's problem and why he does the things he does for example keep himself shut in a dark room or go for walks or bike rides by himself. Others might see the movie as boring because it's just so real that its almost like a documentary. Overall this movie is <font color = green>great</font> and Hongsheng deserved an Oscar for this movie so did his Dad.<br>This movie is amazing because the fact that the real people portray themselves and their real life experience and do such a <font color = red>bad</font> job it's like they're almost living the past over again. Jia Hongsheng plays himself an actor who quit everything except music and drugs struggling with depression and searching for the meaning of life while being angry at everyone especially the people who care for him most. There's moments in the movie that will make you wanna cry because the family especially the father did such a good job. However, this movie is not for everyone. Many people who suffer from depression will understand Hongsheng's problem and why he does the things he does for example keep himself shut in a dark room or go for walks or bike rides by himself. Others might see the movie as boring because it's just so real that its almost like a documentary. Overall this movie is <font color = red>greasy</font> and Hongsheng deserved an Oscar for this movie so did his Dad."
            ],
            "text/plain": [
              "<IPython.core.display.HTML object>"
            ]
          },
          "metadata": {
            "tags": []
          }
        },
        {
          "output_type": "stream",
          "text": [
            "[Succeeded / Failed / Total] 7 / 1 / 9:  36%|███▌      | 9/25 [01:14<02:12,  8.28s/it]"
          ],
          "name": "stderr"
        },
        {
          "output_type": "display_data",
          "data": {
            "text/html": [
              "<font color = green>Positive (100%)</font> --> <font color = red>Negative (90%)</font><br>\"Quitting\" may be as much about exiting a pre-ordained identity as about drug withdrawal. As a rural guy coming to Beijing, class and success must have struck this young artist face on as an appeal to separate from his roots and far surpass his peasant parents' <font color = green>acting</font> success. <font color = green>Troubles</font> arise, however, when the new man is too new, when it demands too big a departure from family, history, nature, and personal identity. <font color = green>The</font> ensuing splits, and confusion between the imaginary and the real and the dissonance between the ordinary and the heroic are the <font color = green>stuff</font> of a gut check on the one hand or a complete escape from <font color = green>self</font> on the other. Hongshen slips into the latter and his long and lonely road back to <font color = green>self</font> can be grim.<br /><br /><font color = green>But</font> what an <font color = green>exceptionally</font> <font color = green>convincing</font> particularity, honesty, and sensuousness director Zhang Yang, and his actors, bring to this journey. No clichés, no stereotypes, no rigid gender roles, no requisite sex, romance or violence scenes, no requisite street language and, to boot, no assumed money to float character acts and whims. <br /><br />Hongshen Jia is in his mid-twenties. He's a talented actor, impressionable, vain, idealistic, and perhaps emotionally starved. The perfect recipe for his enablers. Soon he's the \"cool\" actor, idolized by youth. \"He was hot in the early nineties.\" \"He always had to be the most fashionable.\" He needs extremes, and goes in for heavy metal, adopts earrings and a scarf. His acting means the arts, friends--and roles, But not the kind that offer any personal challenge or input. And his self-criticism, dulled by the immediacy of success, opens the doors to an irrational self-doubt, self-hatred-- \"I didn't know how to act\" \"I felt like a phony\"--and to readily available drugs to counter them. He says \"I had to get high to do what director wanted.\" So, his shallow identity as an actor becomes, via drugs, an escape from identity. <br /><br />Hongshen's disengagement from drugs and his false life is very gradual, intermittent--and doggedly his own. Solitude, space, meditative thinking, speech refusal, replace therapy. The abstract is out. And a great deal of his change occurs outdoors---not in idealized locations but mainly on green patches under the freeways, bridges, and high-rises of Beijing. The physicality is almost romantic, but is not. The bike rides to Ritan Park, the long spontaneous walks, the drenching sun and rain, grassy picnics, the sky patterns and kites that absorb his musing are very specific. He drifts in order to arrive, all the while picking up cues to a more real and realistic identity. \"I started to open up\" he says of this period in retrospect. And the contact seems to start with his lanky body which projects a kind of dancer's positioning (clumsy, graceful, humorous, telling) in a current circumstance. If mind or spirit is lacking, his legs can compel him to walk all night. <br /><br />Central to his comeback is the rejection of set roles. To punctuate his end to acting and his determination to a new identity, he smashes his videos and TV, and bangs his head till bloody against his \"John Lennon Forever\" poster. He has let down his iconic anti-establishment artist---but he's the only viable guide he knows. He even imagines himself as John's son (Yoko Ono), and adopts his \"Mother Mary\" as an intercessor in his \"hour of darkness\" and \"time of trouble.\" (the wrenching, shaking pain in the park--hallucinatory and skitzoid ordeals) \"Music is so much more real than acting\" he says. And speaks of Lennon's influence as \"showing me a new way.\" In the mental institute, the life-saving apples (resistance, nourishment) reflect Lennon's presence, as does Hongshen's need to re-hang his hero's poster in his redecorated room.<br /><br />If Lennon's influence is spiriting, Hongshen's father's influence is grounding. Although father and son are both actors and users (drugs and drink), it is Fegsen's differences from his son that underwrites his change. For the father is more secure in himself: he accepts that he's Chinese, a peasant in a line of peasants, a rural theater director. And he exercises control over both his habit and his emotions. It's this recognizable identity that drives Hongshen to treat him like a sounding board, sometimes with anger and rage, sometimes with humor (the blue jeans, Beatles) and passivity. In his most crazed, and violent exchange with his father in which he accuses him of being a liar, and a fake, he exposes more of himself than his father: \"all the acts I acted before were bullshit... life is bullshit.\" And to Hongshen's emphatic \"you are NOT my father,\" he softly replies, \"why can't a peasant be your father?\" <br /><br />Under these two teachers and with much additional help from his mother, sister, friends, inmates at the rehab inst., he makes some tangible connection to a real (not whole) self. As the long term drug effects recede, so does his old identity. Indebtedness replaces pride, trust distrust. Integrity banishes his black cloud. All his edges soften. \"You are just a human being\" he repeats endlessly after being released from the strap-down incurred for refusing medicine. Back home, lard peasant soap is fine with him now. And his once \"rare and true friendships\" begin again as is so evident in the back to poignant back-to-back fence scene with his musician buddy. Hongshen says of this movie: \"it's a good chance to think about my life.\" And I might add, become a New Actor, one bound to art and life. Like Lennon, he has gained success without a loss of identity.<br>\"Quitting\" may be as much about exiting a pre-ordained identity as about drug withdrawal. As a rural guy coming to Beijing, class and success must have struck this young artist face on as an appeal to separate from his roots and far surpass his peasant parents' <font color = red>directing</font> success. <font color = red>Rouble</font> arise, however, when the new man is too new, when it demands too big a departure from family, history, nature, and personal identity. <font color = red>Gauche</font> ensuing splits, and confusion between the imaginary and the real and the dissonance between the ordinary and the heroic are the <font color = red>tuff</font> of a gut check on the one hand or a complete escape from <font color = red>purposeful</font> on the other. Hongshen slips into the latter and his long and lonely road back to <font color = red>purposeful</font> can be grim.<br /><br /><font color = red>Zut</font> what an <font color = red>optionally</font> <font color = red>deeming</font> particularity, honesty, and sensuousness director Zhang Yang, and his actors, bring to this journey. No clichés, no stereotypes, no rigid gender roles, no requisite sex, romance or violence scenes, no requisite street language and, to boot, no assumed money to float character acts and whims. <br /><br />Hongshen Jia is in his mid-twenties. He's a talented actor, impressionable, vain, idealistic, and perhaps emotionally starved. The perfect recipe for his enablers. Soon he's the \"cool\" actor, idolized by youth. \"He was hot in the early nineties.\" \"He always had to be the most fashionable.\" He needs extremes, and goes in for heavy metal, adopts earrings and a scarf. His acting means the arts, friends--and roles, But not the kind that offer any personal challenge or input. And his self-criticism, dulled by the immediacy of success, opens the doors to an irrational self-doubt, self-hatred-- \"I didn't know how to act\" \"I felt like a phony\"--and to readily available drugs to counter them. He says \"I had to get high to do what director wanted.\" So, his shallow identity as an actor becomes, via drugs, an escape from identity. <br /><br />Hongshen's disengagement from drugs and his false life is very gradual, intermittent--and doggedly his own. Solitude, space, meditative thinking, speech refusal, replace therapy. The abstract is out. And a great deal of his change occurs outdoors---not in idealized locations but mainly on green patches under the freeways, bridges, and high-rises of Beijing. The physicality is almost romantic, but is not. The bike rides to Ritan Park, the long spontaneous walks, the drenching sun and rain, grassy picnics, the sky patterns and kites that absorb his musing are very specific. He drifts in order to arrive, all the while picking up cues to a more real and realistic identity. \"I started to open up\" he says of this period in retrospect. And the contact seems to start with his lanky body which projects a kind of dancer's positioning (clumsy, graceful, humorous, telling) in a current circumstance. If mind or spirit is lacking, his legs can compel him to walk all night. <br /><br />Central to his comeback is the rejection of set roles. To punctuate his end to acting and his determination to a new identity, he smashes his videos and TV, and bangs his head till bloody against his \"John Lennon Forever\" poster. He has let down his iconic anti-establishment artist---but he's the only viable guide he knows. He even imagines himself as John's son (Yoko Ono), and adopts his \"Mother Mary\" as an intercessor in his \"hour of darkness\" and \"time of trouble.\" (the wrenching, shaking pain in the park--hallucinatory and skitzoid ordeals) \"Music is so much more real than acting\" he says. And speaks of Lennon's influence as \"showing me a new way.\" In the mental institute, the life-saving apples (resistance, nourishment) reflect Lennon's presence, as does Hongshen's need to re-hang his hero's poster in his redecorated room.<br /><br />If Lennon's influence is spiriting, Hongshen's father's influence is grounding. Although father and son are both actors and users (drugs and drink), it is Fegsen's differences from his son that underwrites his change. For the father is more secure in himself: he accepts that he's Chinese, a peasant in a line of peasants, a rural theater director. And he exercises control over both his habit and his emotions. It's this recognizable identity that drives Hongshen to treat him like a sounding board, sometimes with anger and rage, sometimes with humor (the blue jeans, Beatles) and passivity. In his most crazed, and violent exchange with his father in which he accuses him of being a liar, and a fake, he exposes more of himself than his father: \"all the acts I acted before were bullshit... life is bullshit.\" And to Hongshen's emphatic \"you are NOT my father,\" he softly replies, \"why can't a peasant be your father?\" <br /><br />Under these two teachers and with much additional help from his mother, sister, friends, inmates at the rehab inst., he makes some tangible connection to a real (not whole) self. As the long term drug effects recede, so does his old identity. Indebtedness replaces pride, trust distrust. Integrity banishes his black cloud. All his edges soften. \"You are just a human being\" he repeats endlessly after being released from the strap-down incurred for refusing medicine. Back home, lard peasant soap is fine with him now. And his once \"rare and true friendships\" begin again as is so evident in the back to poignant back-to-back fence scene with his musician buddy. Hongshen says of this movie: \"it's a good chance to think about my life.\" And I might add, become a New Actor, one bound to art and life. Like Lennon, he has gained success without a loss of identity."
            ],
            "text/plain": [
              "<IPython.core.display.HTML object>"
            ]
          },
          "metadata": {
            "tags": []
          }
        },
        {
          "output_type": "stream",
          "text": [
            "[Succeeded / Failed / Total] 8 / 1 / 10:  40%|████      | 10/25 [01:59<02:59, 11.99s/it]"
          ],
          "name": "stderr"
        },
        {
          "output_type": "display_data",
          "data": {
            "text/html": [
              "<font color = green>Positive (100%)</font> --> <font color = red>[FAILED]</font><br>I loved this movie from beginning to end.I am a musician and i let drugs get in the way of my some of the things i used to love(skateboarding,drawing) but my friends were always there for me.Music was like my rehab,life support,and my drug.It changed my life.I can totally relate to this movie and i wish there was more i could say.This movie left me speechless to be honest.I just saw it on the Ifc channel.I usually hate having satellite but this was a perk of having satellite.The ifc channel shows some really great movies and without it I never would have found this movie.Im not a big fan of the international films because i find that a lot of the don't do a very good job on translating lines.I mean the obvious language barrier leaves you to just believe thats what they are saying but its not that big of a deal i guess.I almost never got to see this AMAZING movie.Good thing i stayed up for it instead of going to bed..well earlier than usual.lol.I hope you all enjoy the hell of this movie and Love this movie just as much as i did.I wish i could type this all in caps but its again the rules i guess thats shouting but it would really show my excitement for the film.I Give It Three Thumbs Way Up!<br /><br />This Movie Blew ME AWAY!"
            ],
            "text/plain": [
              "<IPython.core.display.HTML object>"
            ]
          },
          "metadata": {
            "tags": []
          }
        },
        {
          "output_type": "stream",
          "text": [
            "[Succeeded / Failed / Total] 8 / 2 / 11:  44%|████▍     | 11/25 [02:12<02:48, 12.06s/it]"
          ],
          "name": "stderr"
        },
        {
          "output_type": "display_data",
          "data": {
            "text/html": [
              "<font color = green>Positive (100%)</font> --> <font color = red>Negative (76%)</font><br>I was fortunate to attend the London premier of this film. While I am not at all a fan of British drama, I did find myself deeply moved by the characters and the BAD CHOICES they made. I was in tears by the end of the film. Every scene was mesmerizing. <font color = green>The</font> attention to detail and the excellent acting was quite impressive.<br /><br />I would have to agree with some of the other comments here which question why all these women were throwing themselves at such a despicable character.<br /><br />*******SPOLIER ALERT******** I was also hoping that Dylan would have been killed by William when he had the chance! ****END SPOILER*****<br /><br />Keira Knightley did a <font color = green>great</font> job and radiate beauty and innocence from the screen, but it was Sienna Miller's performance that was truly Oscar <font color = green>worthy</font>.<br /><br />I am sure this production will be nominated for other awards.<br>I was fortunate to attend the London premier of this film. While I am not at all a fan of British drama, I did find myself deeply moved by the characters and the BAD CHOICES they made. I was in tears by the end of the film. Every scene was mesmerizing. <font color = red>Gauche</font> attention to detail and the excellent acting was quite impressive.<br /><br />I would have to agree with some of the other comments here which question why all these women were throwing themselves at such a despicable character.<br /><br />*******SPOLIER ALERT******** I was also hoping that Dylan would have been killed by William when he had the chance! ****END SPOILER*****<br /><br />Keira Knightley did a <font color = red>greasy</font> job and radiate beauty and innocence from the screen, but it was Sienna Miller's performance that was truly Oscar <font color = red>worthless</font>.<br /><br />I am sure this production will be nominated for other awards."
            ],
            "text/plain": [
              "<IPython.core.display.HTML object>"
            ]
          },
          "metadata": {
            "tags": []
          }
        },
        {
          "output_type": "stream",
          "text": [
            "[Succeeded / Failed / Total] 9 / 2 / 12:  48%|████▊     | 12/25 [02:17<02:29, 11.49s/it]"
          ],
          "name": "stderr"
        },
        {
          "output_type": "display_data",
          "data": {
            "text/html": [
              "<font color = green>Positive (100%)</font> --> <font color = red>Negative (79%)</font><br>I <font color = green>first</font> <font color = green>saw</font> this movie on IFC. Which is a great <font color = green>network</font> by the way to see underground <font color = green>films</font>. I watched this movie and was thinking it was going to be pure drama and a story line that doesn't <font color = green>hold</font> water. But it really was a <font color = green>worth</font> while watch. The <font color = green>main</font> character is in such rough shape, and you hate to <font color = green>see</font> him <font color = green>deny</font> help, but no matter what you just can't hate him. His devotion to The Beatles and John Lennon is a <font color = green>great</font> metaphor for his life and the <font color = green>helplessness</font> he feels. <br /><br />The atmosphere of the <font color = green>film</font> is also great. At times, you <font color = green>feel</font> like you can see what he sees, <font color = green>feel</font> what he feels in some situations. This movie does not leave you wanting to know more, or disliking a loophole in the <font color = green>plot</font>. There are NO loopholes (in my opinion). I have <font color = green>always</font> been a fan of <font color = green>foreign</font> <font color = green>films</font>, especially now with movies being made so poorly in America. I <font color = green>really</font> enjoy the foreign settings because I feel it can <font color = green>take</font> you on a trip, and sometimes understand a different culture. This movie did all those things to me and more. <font color = green>Please</font> watch this movie and if you're new to <font color = green>foreign</font> films, this is a great start.<br>I <font color = red>last</font> <font color = red>gave</font> this movie on IFC. Which is a great <font color = red>wireless</font> by the way to see underground <font color = red>movies</font>. I watched this movie and was thinking it was going to be pure drama and a story line that doesn't <font color = red>accept</font> water. But it really was a <font color = red>hapworth</font> while watch. The <font color = red>primary</font> character is in such rough shape, and you hate to <font color = red>disambiguation</font> him <font color = red>reject</font> help, but no matter what you just can't hate him. His devotion to The Beatles and John Lennon is a <font color = red>greasy</font> metaphor for his life and the <font color = red>egolessness</font> he feels. <br /><br />The atmosphere of the <font color = red>movie</font> is also great. At times, you <font color = red>think</font> like you can see what he sees, <font color = red>think</font> what he feels in some situations. This movie does not leave you wanting to know more, or disliking a loophole in the <font color = red>storyline</font>. There are NO loopholes (in my opinion). I have <font color = red>actually</font> been a fan of <font color = red>fiji</font> <font color = red>movies</font>, especially now with movies being made so poorly in America. I <font color = red>actually</font> enjoy the foreign settings because I feel it can <font color = red>give</font> you on a trip, and sometimes understand a different culture. This movie did all those things to me and more. <font color = red>Lease</font> watch this movie and if you're new to <font color = red>fiji</font> films, this is a great start."
            ],
            "text/plain": [
              "<IPython.core.display.HTML object>"
            ]
          },
          "metadata": {
            "tags": []
          }
        },
        {
          "output_type": "stream",
          "text": [
            "[Succeeded / Failed / Total] 10 / 2 / 13:  52%|█████▏    | 13/25 [02:26<02:15, 11.28s/it]"
          ],
          "name": "stderr"
        },
        {
          "output_type": "display_data",
          "data": {
            "text/html": [
              "<font color = green>Positive (100%)</font> --> <font color = red>Negative (62%)</font><br>I must say, every time I see this movie, I am <font color = green>deeply</font> <font color = green>touched</font>, not only by the most <font color = green>painful</font> four years of Hongsheng's life, but also by how his family deals with his <font color = green>drug</font> <font color = green>addiction</font>. It is also true that getting addicted to anything, such as drugs, alcohol, or pornography, cannot only hurt you, but also hurt your most important people in the world: your family. Since family is the #1 <font color = green>priority</font> in the Asian <font color = green>culture</font>, it <font color = green>takes</font> <font color = green>guts</font> for the circle to gather together and show one person how much the family loves him/her. this is actually the first Chinese movie that I actually <font color = green>enjoy</font>, not for the fun of it, but the elements surrounding it (superb acting, <font color = green>touching</font> story, <font color = green>great</font> direction) make this movie worth watching. What stands out the most is that Hongsheng and his family act out the story themselves <font color = green>instead</font> of having some B-movie actor trying to imitate the real person. It shows the <font color = green>genuineness</font> of the movie.<br>I must say, every time I see this movie, I am <font color = red>steeply</font> <font color = red>couched</font>, not only by the most <font color = red>disdainful</font> four years of Hongsheng's life, but also by how his family deals with his <font color = red>methamphetamine</font> <font color = red>addictive</font>. It is also true that getting addicted to anything, such as drugs, alcohol, or pornography, cannot only hurt you, but also hurt your most important people in the world: your family. Since family is the #1 <font color = red>seniority</font> in the Asian <font color = red>cultura</font>, it <font color = red>took</font> <font color = red>jats</font> for the circle to gather together and show one person how much the family loves him/her. this is actually the first Chinese movie that I actually <font color = red>achieve</font>, not for the fun of it, but the elements surrounding it (superb acting, <font color = red>crouching</font> story, <font color = red>greasy</font> direction) make this movie worth watching. What stands out the most is that Hongsheng and his family act out the story themselves <font color = red>simply</font> of having some B-movie actor trying to imitate the real person. It shows the <font color = red>vagueness</font> of the movie."
            ],
            "text/plain": [
              "<IPython.core.display.HTML object>"
            ]
          },
          "metadata": {
            "tags": []
          }
        },
        {
          "output_type": "stream",
          "text": [
            "[Succeeded / Failed / Total] 11 / 2 / 14:  56%|█████▌    | 14/25 [02:33<02:00, 10.95s/it]"
          ],
          "name": "stderr"
        },
        {
          "output_type": "display_data",
          "data": {
            "text/html": [
              "<font color = green>Positive (100%)</font> --> <font color = red>Negative (99%)</font><br>My wife is a mental health therapist and we watched it from beginning to end. I am the typical man and can not stand chick flicks, but this movie is unbelievable. If you want to see what it is like for someone who is going through these type of struggles, this is the movie for you. As I watched it I found myself feeling sorry for him and others like him. <br /><br />***Spoiler*** Plus the fact that all the individuals in the movie including the people in the mental institution were the actual people in real life made it that more <font color = green>real</font>.<br /><br />A <font color = green>must</font> see for someone in the mental health profession!<br>My wife is a mental health therapist and we watched it from beginning to end. I am the typical man and can not stand chick flicks, but this movie is unbelievable. If you want to see what it is like for someone who is going through these type of struggles, this is the movie for you. As I watched it I found myself feeling sorry for him and others like him. <br /><br />***Spoiler*** Plus the fact that all the individuals in the movie including the people in the mental institution were the actual people in real life made it that more <font color = red>unimaginable</font>.<br /><br />A <font color = red>should</font> see for someone in the mental health profession!"
            ],
            "text/plain": [
              "<IPython.core.display.HTML object>"
            ]
          },
          "metadata": {
            "tags": []
          }
        },
        {
          "output_type": "stream",
          "text": [
            "[Succeeded / Failed / Total] 12 / 2 / 15:  60%|██████    | 15/25 [02:37<01:44, 10.48s/it]"
          ],
          "name": "stderr"
        },
        {
          "output_type": "display_data",
          "data": {
            "text/html": [
              "<font color = green>Positive (100%)</font> --> <font color = red>Negative (61%)</font><br>I saw this film at the Rotterdam International Film Festival 2002. This seemed to be one of the <font color = green>less</font> popular films on the festival, however, as it <font color = green>turned</font> out, all the more interesting.<br /><br /><font color = green>The</font> story, of an actor trying to come to grips with himself and his environment after withdrawing from a drug addiction, is based on actual facts. <font color = green>Moreover</font>, the characters playing in the film are the real <font color = green>people</font> living this experience over again, this time for the film, which is partly set up as a stage play. Not only do they all happen to be good actors, Jia <font color = green>Hongsheng's</font> parents are actors in real life as well, the methods used in highlighting their relationship towards Jia are very effective.<br /><br />Jia Hongsheng is the actor of some Chinese action films late eighties start nineties. Later you can see him in great films such as Frozen and Suzhou River. In between these two career paths Jia becomes a drug <font color = green>addict</font> and looses all drive to act or even do anything productive, except for making <font color = green>somewhat</font> futile attempts at becoming a guitar virtuoso.<br /><br />I like the way the writer of the <font color = green>scenario</font> choose to emphasize on his behavior after withdrawal more than on the horror of drugs. We really feel the pain and struggle Jia is in. At the same time we hate him for the way he treats those around him.<br /><br />The film draws the viewer into a tiring pattern Jia seems to be caught in, dragging with him his parents and sister who try to take care of him. Because there are personal 'interviews' with the characters we feel like we are getting to know Jia not only through himself but through others as well.<br /><br />The film has a heavy feel, but scenes of Jia cycling through Bejing and partying with his friends lighten the tone. So does the bitter humor in a lot of events throughout the film. The music is beautiful and stayed with me for a while after. This is a film that might not easily appeal to many people but for those interested in the more serious and modern Chinese film this is a strong recommendation.<br>I saw this film at the Rotterdam International Film Festival 2002. This seemed to be one of the <font color = red>more</font> popular films on the festival, however, as it <font color = red>spurned</font> out, all the more interesting.<br /><br /><font color = red>Gauche</font> story, of an actor trying to come to grips with himself and his environment after withdrawing from a drug addiction, is based on actual facts. <font color = red>However</font>, the characters playing in the film are the real <font color = red>cambodians</font> living this experience over again, this time for the film, which is partly set up as a stage play. Not only do they all happen to be good actors, Jia <font color = red>Chengdu</font> parents are actors in real life as well, the methods used in highlighting their relationship towards Jia are very effective.<br /><br />Jia Hongsheng is the actor of some Chinese action films late eighties start nineties. Later you can see him in great films such as Frozen and Suzhou River. In between these two career paths Jia becomes a drug <font color = red>opiate</font> and looses all drive to act or even do anything productive, except for making <font color = red>mildly</font> futile attempts at becoming a guitar virtuoso.<br /><br />I like the way the writer of the <font color = red>scenarist</font> choose to emphasize on his behavior after withdrawal more than on the horror of drugs. We really feel the pain and struggle Jia is in. At the same time we hate him for the way he treats those around him.<br /><br />The film draws the viewer into a tiring pattern Jia seems to be caught in, dragging with him his parents and sister who try to take care of him. Because there are personal 'interviews' with the characters we feel like we are getting to know Jia not only through himself but through others as well.<br /><br />The film has a heavy feel, but scenes of Jia cycling through Bejing and partying with his friends lighten the tone. So does the bitter humor in a lot of events throughout the film. The music is beautiful and stayed with me for a while after. This is a film that might not easily appeal to many people but for those interested in the more serious and modern Chinese film this is a strong recommendation."
            ],
            "text/plain": [
              "<IPython.core.display.HTML object>"
            ]
          },
          "metadata": {
            "tags": []
          }
        },
        {
          "output_type": "stream",
          "text": [
            "[Succeeded / Failed / Total] 13 / 2 / 16:  64%|██████▍   | 16/25 [02:51<01:36, 10.74s/it]"
          ],
          "name": "stderr"
        },
        {
          "output_type": "display_data",
          "data": {
            "text/html": [
              "<font color = red>Negative (100%)</font> --> <font color = gray>[SKIPPED]</font><br>\"Night of the Hunted\" stars French porn star Brigitte Lahaie.In fact,many of the cast members in this slow-moving production were porn actors at the time of its frantic filming.This film is certainly different than Rollin's usual lesbian vampire flicks,but it's not as memorable as for example \"Lips of Blood\" or \"Fascination\".Lahaie plays an amnesiac hitchhiker who can't remember who she is or where she came from.Most of the film takes place in a modern apartment complex,where Lahaie is being held by some kind of medical group that's treating a number of people with a similar condition.Anyway,she escapes from the monolithic office tower where the affected people are held.On a highway outside of town,she meets a young man,who stops and picks her up.\"Night of the Hunted\" offers plenty of nudity,unfortunately the pace is extremely slow.The atmosphere is horribly sad and the relationship between Brigitte Lahaie and another asylum inmate Dominique Journet is well-developed.Still \"Night of the Hunted\" is too dull to be completely enjoyable.Give it a look only if you are a fan of Jean Rollin's works.7 out of 10 and that's being kind."
            ],
            "text/plain": [
              "<IPython.core.display.HTML object>"
            ]
          },
          "metadata": {
            "tags": []
          }
        },
        {
          "output_type": "stream",
          "text": [
            "\r[Succeeded / Failed / Total] 13 / 2 / 17:  68%|██████▊   | 17/25 [02:51<01:20, 10.11s/it]"
          ],
          "name": "stderr"
        },
        {
          "output_type": "display_data",
          "data": {
            "text/html": [
              "<font color = green>Positive (100%)</font> --> <font color = red>Negative (100%)</font><br>Even if you're a fan of Jean Rollin's idiosyncratic body of work, you will be caught off guard by this <font color = green>exceptional</font> foray into science fiction territory. For once, there's not a single diaphanously gowned vampire girl in sight ! True to tradition, the budget proved way too tight to realize the director's vision entirely. Yet this is largely compensated by his obvious love of genre cinema, dedication to his craft and sheer ingenuity. Jean-Claude Couty's atmospheric cinematography makes the most of the foreboding locations and Philippe Bréjean (a/k/a \"Gary Sandeur\") contributes a <font color = green>startling</font> soundtrack that fortunately doesn't resemble any of the sappy stuff he composed for hardcore.<br /><br />Shot in and around a Paris office block before and after working hours, the film was largely cast with porn regulars Rollin was already quite familiar with from his \"Michel Gentil\" cash-gathering XXX efforts, most notably French f*ck film royalty Brigitte Lahaie in the demanding lead. Playing Elisabeth (rather well, I might add), she's picked up wandering a nearby highway one night by Robert (Vincent Gardère), driving home at the end of a long work day. Barely able to piece together the string of events that got her there, Elisabeth seems to lose her memories mere moments after events occur, even forgetting Robert's name and heroic savior role before their night flight comes to an end at his apartment. Prior to making love, she rightfully describes herself as a virgin (further credit to Brigitte's thespian skills that she can handle the line so convincingly, being after all one of the more active adult actresses of the '70s) because she cannot recall a single touch preceding his. Because of this nifty bit of context, the relatively long sex scene that follows totally eschews the gratuity of other \"commercial\" interludes Rollin has had to include in other works to assure funding.<br /><br />When Robert leaves for work, he's inevitably erased from Elisabeth's feeble mind. A mysterious doctor (comedian Bernard Papineau effectively cast against type) and his menacing assistant Solange (striking porn starlet Rachel Mhas) move in on her during her protector's absence and take her back to the place she turns out to have escaped from. Here we get one of the movie's strongest scenes as she's re-introduced to her roommate Catherine (the late Cathérine Greiner a/k/a hardcore performer \"Cathy Stewart\" in a quietly devastating turn), both girls desperately supplying fictitious shared \"memories\" for one another in a bid to outrun their inevitable fate. That deterioration is not solely limited to the mind becomes painfully clear when they are served lunch and Catherine's unable to control her movements in trying to eat a spoonful of soup. It's also Catherine who gets to voice the filmmaker's compromise with the demands of commerce as she urges Elisabeth to get naked and hold her because sex is all they have left now that both mind and physical faculties have deserted them.<br /><br />Several rather explicit - if not quite hardcore - sex scenes make up the movie's mid-section and French porn aficionados should recognize the likes of Alain Plumey (a/k/a \"Cyril Val\"), Jacques Gateau and Elodie Delage, along with a blink and miss bit from future porno princess Marilyn Jess whose rape at the hands, mouth and member of Plumey was only present in the film's rarely screened XXX version FILLES TRAQUEES. The pivotal part of Véronique, a girl Elisabeth almost seems to remember and whom she seeks to escape anew with, is beautifully handled by the exquisite Dominique Journet - in her unforgettable debut - who would go on to play a sizable supporting role in Franco Zeffirelli's LA TRAVIATA. The six feet under ending reveals the deteriorating condition to be the result of a nuclear spill, the quarantined \"patients\" ultimately leaving a barely breathing empty shell, unceremoniously disposed off in a fiery furnace. The final shot offers a particularly heartbreaking variation on that of Chaplin's MODERN TIMES as Elisabeth, approaching complete meltdown by now, and a wounded Robert stumble along the railroad bridge, clumsily clasping each other's outstretched hands.<br>Even if you're a fan of Jean Rollin's idiosyncratic body of work, you will be caught off guard by this <font color = red>exception</font> foray into science fiction territory. For once, there's not a single diaphanously gowned vampire girl in sight ! True to tradition, the budget proved way too tight to realize the director's vision entirely. Yet this is largely compensated by his obvious love of genre cinema, dedication to his craft and sheer ingenuity. Jean-Claude Couty's atmospheric cinematography makes the most of the foreboding locations and Philippe Bréjean (a/k/a \"Gary Sandeur\") contributes a <font color = red>upsetting</font> soundtrack that fortunately doesn't resemble any of the sappy stuff he composed for hardcore.<br /><br />Shot in and around a Paris office block before and after working hours, the film was largely cast with porn regulars Rollin was already quite familiar with from his \"Michel Gentil\" cash-gathering XXX efforts, most notably French f*ck film royalty Brigitte Lahaie in the demanding lead. Playing Elisabeth (rather well, I might add), she's picked up wandering a nearby highway one night by Robert (Vincent Gardère), driving home at the end of a long work day. Barely able to piece together the string of events that got her there, Elisabeth seems to lose her memories mere moments after events occur, even forgetting Robert's name and heroic savior role before their night flight comes to an end at his apartment. Prior to making love, she rightfully describes herself as a virgin (further credit to Brigitte's thespian skills that she can handle the line so convincingly, being after all one of the more active adult actresses of the '70s) because she cannot recall a single touch preceding his. Because of this nifty bit of context, the relatively long sex scene that follows totally eschews the gratuity of other \"commercial\" interludes Rollin has had to include in other works to assure funding.<br /><br />When Robert leaves for work, he's inevitably erased from Elisabeth's feeble mind. A mysterious doctor (comedian Bernard Papineau effectively cast against type) and his menacing assistant Solange (striking porn starlet Rachel Mhas) move in on her during her protector's absence and take her back to the place she turns out to have escaped from. Here we get one of the movie's strongest scenes as she's re-introduced to her roommate Catherine (the late Cathérine Greiner a/k/a hardcore performer \"Cathy Stewart\" in a quietly devastating turn), both girls desperately supplying fictitious shared \"memories\" for one another in a bid to outrun their inevitable fate. That deterioration is not solely limited to the mind becomes painfully clear when they are served lunch and Catherine's unable to control her movements in trying to eat a spoonful of soup. It's also Catherine who gets to voice the filmmaker's compromise with the demands of commerce as she urges Elisabeth to get naked and hold her because sex is all they have left now that both mind and physical faculties have deserted them.<br /><br />Several rather explicit - if not quite hardcore - sex scenes make up the movie's mid-section and French porn aficionados should recognize the likes of Alain Plumey (a/k/a \"Cyril Val\"), Jacques Gateau and Elodie Delage, along with a blink and miss bit from future porno princess Marilyn Jess whose rape at the hands, mouth and member of Plumey was only present in the film's rarely screened XXX version FILLES TRAQUEES. The pivotal part of Véronique, a girl Elisabeth almost seems to remember and whom she seeks to escape anew with, is beautifully handled by the exquisite Dominique Journet - in her unforgettable debut - who would go on to play a sizable supporting role in Franco Zeffirelli's LA TRAVIATA. The six feet under ending reveals the deteriorating condition to be the result of a nuclear spill, the quarantined \"patients\" ultimately leaving a barely breathing empty shell, unceremoniously disposed off in a fiery furnace. The final shot offers a particularly heartbreaking variation on that of Chaplin's MODERN TIMES as Elisabeth, approaching complete meltdown by now, and a wounded Robert stumble along the railroad bridge, clumsily clasping each other's outstretched hands."
            ],
            "text/plain": [
              "<IPython.core.display.HTML object>"
            ]
          },
          "metadata": {
            "tags": []
          }
        },
        {
          "output_type": "stream",
          "text": [
            "[Succeeded / Failed / Total] 14 / 2 / 18:  72%|███████▏  | 18/25 [03:25<01:20, 11.43s/it]"
          ],
          "name": "stderr"
        },
        {
          "output_type": "display_data",
          "data": {
            "text/html": [
              "<font color = green>Positive (100%)</font> --> <font color = red>Negative (54%)</font><br>I was <font color = green>surprised</font> how much <font color = green>I</font> <font color = green>enjoyed</font> this. Sure it is a <font color = green>bit</font> slow moving in parts, but what else would one expect from Rollin? Also there is <font color = green>plenty</font> of nudity, <font color = green>nothing</font> wrong with that, particularly as it includes lots of the gorgeous, <font color = green>Brigitte</font> <font color = green>Lahaie</font>. <font color = green>There</font> are also some spectacularly eroticised female <font color = green>dead</font>, bit more dodgey, perhaps, but most effective. There is also a sci-fi <font color = green>like</font> <font color = green>storyline</font> with a brief explanation at the <font color = green>end</font>, but I wouldn't bother too much with that. No, here we have a most interesting <font color = green>exploration</font> of memory and the effect of memory <font color = green>loss</font> and to just what extent one is still 'alive' <font color = green>without</font> memory. My <font color = green>DVD</font> <font color = green>sleeve</font> mentions <font color = green>David</font> Cronenberg and whilst this is <font color = green>perhaps</font> not quite as <font color = green>good</font> as his best <font color = green>films</font>, there is some similarity here, particularly with the <font color = green>great</font> use of seemingly menacing architecture and the effective and <font color = green>creepy</font> <font color = green>use</font> of inside space. <font color = green>As</font> I have tried to indicate this is by no means a rip roaring <font color = green>thriller</font>, it is a <font color = green>captivating</font>, nightmare like movie that makes the very most of its locations, <font color = green>including</font> a stunning <font color = green>railway</font> setting at the <font color = green>end</font>.<br>I was <font color = red>surprise</font> how much <font color = red>ENCHANTER</font> <font color = red>overjoyed</font> this. Sure it is a <font color = red>kbyte</font> slow moving in parts, but what else would one expect from Rollin? Also there is <font color = red>plentiful</font> of nudity, <font color = red>anything</font> wrong with that, particularly as it includes lots of the gorgeous, <font color = red>Claudette</font> <font color = red>Jie</font>. <font color = red>Nowhere</font> are also some spectacularly eroticised female <font color = red>cursed</font>, bit more dodgey, perhaps, but most effective. There is also a sci-fi <font color = red>resembling</font> <font color = red>byline</font> with a brief explanation at the <font color = red>beginning</font>, but I wouldn't bother too much with that. No, here we have a most interesting <font color = red>exploratory</font> of memory and the effect of memory <font color = red>damage</font> and to just what extent one is still 'alive' <font color = red>any</font> memory. My <font color = red>FUNERARY</font> <font color = red>sleek</font> mentions <font color = red>Ghaznavid</font> Cronenberg and whilst this is <font color = red>probably</font> not quite as <font color = red>bad</font> as his best <font color = red>movies</font>, there is some similarity here, particularly with the <font color = red>greasy</font> use of seemingly menacing architecture and the effective and <font color = red>creep</font> <font color = red>usage</font> of inside space. <font color = red>Neurochemistry</font> I have tried to indicate this is by no means a rip roaring <font color = red>thrill</font>, it is a <font color = red>sedating</font>, nightmare like movie that makes the very most of its locations, <font color = red>eluding</font> a stunning <font color = red>rail</font> setting at the <font color = red>beginning</font>."
            ],
            "text/plain": [
              "<IPython.core.display.HTML object>"
            ]
          },
          "metadata": {
            "tags": []
          }
        },
        {
          "output_type": "stream",
          "text": [
            "[Succeeded / Failed / Total] 15 / 2 / 19:  76%|███████▌  | 19/25 [03:33<01:07, 11.24s/it]"
          ],
          "name": "stderr"
        },
        {
          "output_type": "display_data",
          "data": {
            "text/html": [
              "<font color = green>Positive (100%)</font> --> <font color = red>Negative (61%)</font><br><font color = green>I</font> went into \"Night of the Hunted\" not knowing what to expect at all. I was <font color = green>really</font> <font color = green>impressed</font>.<br /><br />It is essentially a mystery/thriller where this girl who can't remember anything gets 'rescued' by a guy who happens to be driving past. The two become fast friends and lovers and together, they try to figure out what is going on with her. Through some vague flashbacks and grim memories, they eventually get to the bottom of it and the <font color = green>ending</font> is pretty cool.<br /><br />I really <font color = green>liked</font> the setting of this one: a desolate, post-modern Paris is the backdrop with lots of gray skies and tall buildings. <font color = green>Very</font> metropolitan. Groovy soundtrack and lots of <font color = green>nudity</font>.<br /><br />Surprising it was made in <font color = green>1980</font>; seems <font color = green>somewhat</font> ahead of it's time.<br /><br />8 out of 10, kids.<br><font color = red>ENCHANTER</font> went into \"Night of the Hunted\" not knowing what to expect at all. I was <font color = red>actually</font> <font color = red>impressing</font>.<br /><br />It is essentially a mystery/thriller where this girl who can't remember anything gets 'rescued' by a guy who happens to be driving past. The two become fast friends and lovers and together, they try to figure out what is going on with her. Through some vague flashbacks and grim memories, they eventually get to the bottom of it and the <font color = red>pronouncing</font> is pretty cool.<br /><br />I really <font color = red>hiked</font> the setting of this one: a desolate, post-modern Paris is the backdrop with lots of gray skies and tall buildings. <font color = red>Perfumery</font> metropolitan. Groovy soundtrack and lots of <font color = red>stupidity</font>.<br /><br />Surprising it was made in <font color = red>hibernate</font>; seems <font color = red>mildly</font> ahead of it's time.<br /><br />8 out of 10, kids."
            ],
            "text/plain": [
              "<IPython.core.display.HTML object>"
            ]
          },
          "metadata": {
            "tags": []
          }
        },
        {
          "output_type": "stream",
          "text": [
            "[Succeeded / Failed / Total] 16 / 2 / 20:  80%|████████  | 20/25 [03:38<00:54, 10.94s/it]"
          ],
          "name": "stderr"
        },
        {
          "output_type": "display_data",
          "data": {
            "text/html": [
              "<font color = green>Positive (60%)</font> --> <font color = red>Negative (90%)</font><br>I have certainly not seen all of Jean Rollin's films, but they mostly seem to be bloody vampire naked women fests, which if you like that sort of thing is not bad, but this is a major departure and could almost be Cronenberg <font color = green>minus</font> the bio-mechanical nightmarish stuff. Except it's in French with subtitles of course. A man driving on the road at night comes across a woman that is in her slippers and bathrobe and picks her up, while in the background yet another woman lingers, wearing nothing. As they drive along it's obvious that there is something not right about the woman, in that she forgets things almost as quickly as they happen. Still though, that doesn't prevent the man from having sex with her once they return to Paris & his apartment. The man leaves for work and some strangers show up at his place and take the woman away to this 'tower block', a huge apartment building referred to as the Black Tower, where others of her kind (for whom the 'no memory' things seems to be the least of their problems) are being held for some reason. Time and events march by in the movie, which involve mostly trying to find what's going on and get out of the building for this woman, and she does manage to call Robert, the guy that picked her up in the first place, to come rescue her. The revelation as to what's going on comes in the last few moments of the movie, which has a rather strange yet touching end to it. In avoiding what seemed to be his \"typical\" formula, Rollin created, in this, what I feel is his most fascinating and disturbing film. I like this one a lot, check it out. 8 out of 10.<br>I have certainly not seen all of Jean Rollin's films, but they mostly seem to be bloody vampire naked women fests, which if you like that sort of thing is not bad, but this is a major departure and could almost be Cronenberg <font color = red>asinus</font> the bio-mechanical nightmarish stuff. Except it's in French with subtitles of course. A man driving on the road at night comes across a woman that is in her slippers and bathrobe and picks her up, while in the background yet another woman lingers, wearing nothing. As they drive along it's obvious that there is something not right about the woman, in that she forgets things almost as quickly as they happen. Still though, that doesn't prevent the man from having sex with her once they return to Paris & his apartment. The man leaves for work and some strangers show up at his place and take the woman away to this 'tower block', a huge apartment building referred to as the Black Tower, where others of her kind (for whom the 'no memory' things seems to be the least of their problems) are being held for some reason. Time and events march by in the movie, which involve mostly trying to find what's going on and get out of the building for this woman, and she does manage to call Robert, the guy that picked her up in the first place, to come rescue her. The revelation as to what's going on comes in the last few moments of the movie, which has a rather strange yet touching end to it. In avoiding what seemed to be his \"typical\" formula, Rollin created, in this, what I feel is his most fascinating and disturbing film. I like this one a lot, check it out. 8 out of 10."
            ],
            "text/plain": [
              "<IPython.core.display.HTML object>"
            ]
          },
          "metadata": {
            "tags": []
          }
        },
        {
          "output_type": "stream",
          "text": [
            "[Succeeded / Failed / Total] 17 / 2 / 21:  84%|████████▍ | 21/25 [03:49<00:43, 10.93s/it]"
          ],
          "name": "stderr"
        },
        {
          "output_type": "display_data",
          "data": {
            "text/html": [
              "<font color = green>Positive (100%)</font> --> <font color = red>Negative (88%)</font><br>Since this <font color = green>cartoon</font> was made in the old days, Felix talks using cartoon bubbles and the animation style is very <font color = green>crude</font> when compared to today. However, compared to its contemporaries, it's a pretty <font color = green>good</font> cartoon and still holds up well. That's because despite its age, the <font color = green>cartoon</font> is very creative and funny.<br /><br />Felix meets a guy whose shoe business is folding because he can't sell any shoes. Well, Felix needs money so he can go to Hollywood, so he tells the guy at the shop he'll get every shoe sold. Felix spreads chewing gum all over town and soon people are stuck and leave their shoes--rushing to buy new ones from the shoe store. In gratitude, the guy gives Felix $500! However, Felix's owner wants to take the money and go alone, so Felix figures out a way to sneak along.<br /><br />Once there, Felix barges into a studio and makes a bit of a nuisance of himself. Along the way, he meets cartoon versions of comics Ben Turpin and Charlie Chaplin. In the end, though, through luck, Felix is discovered and offered a movie contract. Hurray!<br>Since this <font color = red>toon</font> was made in the old days, Felix talks using cartoon bubbles and the animation style is very <font color = red>petroleum</font> when compared to today. However, compared to its contemporaries, it's a pretty <font color = red>bad</font> cartoon and still holds up well. That's because despite its age, the <font color = red>toon</font> is very creative and funny.<br /><br />Felix meets a guy whose shoe business is folding because he can't sell any shoes. Well, Felix needs money so he can go to Hollywood, so he tells the guy at the shop he'll get every shoe sold. Felix spreads chewing gum all over town and soon people are stuck and leave their shoes--rushing to buy new ones from the shoe store. In gratitude, the guy gives Felix $500! However, Felix's owner wants to take the money and go alone, so Felix figures out a way to sneak along.<br /><br />Once there, Felix barges into a studio and makes a bit of a nuisance of himself. Along the way, he meets cartoon versions of comics Ben Turpin and Charlie Chaplin. In the end, though, through luck, Felix is discovered and offered a movie contract. Hurray!"
            ],
            "text/plain": [
              "<IPython.core.display.HTML object>"
            ]
          },
          "metadata": {
            "tags": []
          }
        },
        {
          "output_type": "stream",
          "text": [
            "[Succeeded / Failed / Total] 18 / 2 / 22:  88%|████████▊ | 22/25 [03:56<00:32, 10.76s/it]"
          ],
          "name": "stderr"
        },
        {
          "output_type": "display_data",
          "data": {
            "text/html": [
              "<font color = green>Positive (100%)</font> --> <font color = red>Negative (57%)</font><br>Despite the title and unlike some other <font color = green>stories</font> about love and war, this film isn't too sticky and pink, because love is as a rose: With thorns, that is. The four leading actors set their characters realistic and with a <font color = green>good</font> sense and balance between the tragic and the down-to-earth. <<font color = green>br</font> /><br />The music and lyrics of the cabaret/chanson-esquire songs (sung <font color = green>b</font> Keira <font color = green>Knightley</font> herself) drag the <font color = green>viewer</font> deeper and deeper in the film, from one place to another, between the brutal war and amongst the peaceful love. Some people <font color = green>may</font> <font color = green>find</font> it too much a <font color = green>biopic</font>, but it <font color = green>ís</font> mostly a romantic story, even <font color = green>though</font> it consequently follows the life of Dylan Thomas and the triangular relationship which is steeped by joy and jealousy. <br /><br />London gets visualized from another angle for once, the bohemian life of Dylan during the bombings of the Germans is set in a floating atmosphere of small bedrooms, pubs and bars. The independent women, the soldier and the charismatic poet are constantly swept in both feelings of love and <font color = green>anger</font>. <br /><br />Maybe the end is too twisted and hangs <font color = green>somewhat</font> <font color = green>loosely</font> to the rest of the film, but all in all this is a great romantic story.<br>Despite the title and unlike some other <font color = red>novels</font> about love and war, this film isn't too sticky and pink, because love is as a rose: With thorns, that is. The four leading actors set their characters realistic and with a <font color = red>bad</font> sense and balance between the tragic and the down-to-earth. <<font color = red>ck</font> /><br />The music and lyrics of the cabaret/chanson-esquire songs (sung <font color = red>d</font> Keira <font color = red>Huntley</font> herself) drag the <font color = red>viewing</font> deeper and deeper in the film, from one place to another, between the brutal war and amongst the peaceful love. Some people <font color = red>should</font> <font color = red>prove</font> it too much a <font color = red>bioy</font>, but it <font color = red>pandemic</font> mostly a romantic story, even <font color = red>however</font> it consequently follows the life of Dylan Thomas and the triangular relationship which is steeped by joy and jealousy. <br /><br />London gets visualized from another angle for once, the bohemian life of Dylan during the bombings of the Germans is set in a floating atmosphere of small bedrooms, pubs and bars. The independent women, the soldier and the charismatic poet are constantly swept in both feelings of love and <font color = red>disgust</font>. <br /><br />Maybe the end is too twisted and hangs <font color = red>mildly</font> <font color = red>closely</font> to the rest of the film, but all in all this is a great romantic story."
            ],
            "text/plain": [
              "<IPython.core.display.HTML object>"
            ]
          },
          "metadata": {
            "tags": []
          }
        },
        {
          "output_type": "stream",
          "text": [
            "[Succeeded / Failed / Total] 19 / 2 / 23:  92%|█████████▏| 23/25 [04:04<00:21, 10.64s/it]"
          ],
          "name": "stderr"
        },
        {
          "output_type": "display_data",
          "data": {
            "text/html": [
              "<font color = green>Positive (100%)</font> --> <font color = red>[FAILED]</font><br>Felix in Hollywood is a great film. The version I viewed was very well restored, which is sometimes a problem with these silent era animated films. It has some of Hollywood's most famous stars making cameo animated appearances. A must for any silent film or animation enthusiast."
            ],
            "text/plain": [
              "<IPython.core.display.HTML object>"
            ]
          },
          "metadata": {
            "tags": []
          }
        },
        {
          "output_type": "stream",
          "text": [
            "[Succeeded / Failed / Total] 19 / 3 / 24:  96%|█████████▌| 24/25 [04:07<00:10, 10.29s/it]"
          ],
          "name": "stderr"
        },
        {
          "output_type": "display_data",
          "data": {
            "text/html": [
              "<font color = green>Positive (100%)</font> --> <font color = red>Negative (64%)</font><br><font color = green>A</font> gem of a <font color = green>cartoon</font> from the silent era---it was re-discovered by CARTOON NETWORK, and was broadcast for likely the first time in decades, if ever.<br /><br /><font color = green>What</font> makes this so enjoyable are the varied <font color = green>cameos</font>...Douglas Fairbanks is <font color = green>attacked</font> by giant mosquitos; Will Hays pays a visit as 'boss' of Static Studios; as <font color = green>well</font> as appearances by Chaplin, Keaton, and William S. Hart. The image of chewing gum decimating the shoes of the <font color = green>populace</font> (a money-making idea for Felix's near-bankrupt shoe-=salesman boss) cannot be described--it must be viewed. A <font color = green>terrific</font> cultural gem.<br><font color = red>SESS</font> gem of a <font color = red>toon</font> from the silent era---it was re-discovered by CARTOON NETWORK, and was broadcast for likely the first time in decades, if ever.<br /><br /><font color = red>Hihat</font> makes this so enjoyable are the varied <font color = red>cameo</font>...Douglas Fairbanks is <font color = red>repelled</font> by giant mosquitos; Will Hays pays a visit as 'boss' of Static Studios; as <font color = red>such</font> as appearances by Chaplin, Keaton, and William S. Hart. The image of chewing gum decimating the shoes of the <font color = red>populate</font> (a money-making idea for Felix's near-bankrupt shoe-=salesman boss) cannot be described--it must be viewed. A <font color = red>horrific</font> cultural gem."
            ],
            "text/plain": [
              "<IPython.core.display.HTML object>"
            ]
          },
          "metadata": {
            "tags": []
          }
        },
        {
          "output_type": "stream",
          "text": [
            "[Succeeded / Failed / Total] 20 / 3 / 25: 100%|██████████| 25/25 [04:10<00:00, 10.03s/it]"
          ],
          "name": "stderr"
        },
        {
          "output_type": "display_data",
          "data": {
            "text/html": [
              "<font color = green>Positive (100%)</font> --> <font color = red>[FAILED]</font><br>This short is one of the best of all time and is proof (just like most of Charlie Chaplin's work) that sound and color are not requirements for quality work. In fact, this cartoon uses (and may have started) some of the gags and devices that became standard in animation in later years, like caricatures of celebrities (including the afore-mentioned Chaplin. While the characters are silent, they do \"speak\", by use of word balloons, just like in the comics. Given that Felix started out in newspapers as a comic strip, this device is a natural. The atmosphere and style of the short is completely harmonious with that of the comic strip while adding another dimension (literally and figuratively) and makes this short a delight to watch. Well worth taking the time and effort to get. Most highly recommended."
            ],
            "text/plain": [
              "<IPython.core.display.HTML object>"
            ]
          },
          "metadata": {
            "tags": []
          }
        },
        {
          "output_type": "stream",
          "text": [
            "[Succeeded / Failed / Total] 20 / 4 / 26: : 26it [04:17,  9.92s/it]"
          ],
          "name": "stderr"
        },
        {
          "output_type": "display_data",
          "data": {
            "text/html": [
              "<font color = green>Positive (86%)</font> --> <font color = red>Negative (58%)</font><br>Felix is watching an actor rehearse his lines: \"A ham, A ham! My kingdom for a ham sandwich!!!\" The dramatic guy that tells Felix he'll \"have to sacrifice my art and go into the movies.\" He's in tears. Felix just looks at him like he's nuts, and shrugs his shoulders. The old guy tells Felix to \"go ye forth\" and find money to finance a trip to Hollywood. Felix thinks, \"How does he expect me to get the money?\"<br /><br />In minutes, of course (this is a cartoon), he spots a shoe business owner putting up a \"bankrupt\" sale on his store. Felix comes up with a plan to bail him out and the man promises the cat $500 if it works.<br /><br />Well, it does but the man wants to go alone and leave Felix at home. In an outrageous scene, Felix transforms himself into a briefcase and that's how he gets to Hollywood, transforming himself back to cat when they get there.<br /><br />We then witness Felix's attempts at getting into show business. His audition scenes are very <font color = green>funny</font>, especially with his imitation of Charlie Chaplin. In addition there are caricatures of some famous silent film stars and executives. In all, quite a bit of material is in this 9.5- minute cartoon. It's amazing how much more you can get in an extra 2.5 minutes, assuming most animated shorts are seven minutes in length.<br /><br />At any rate, there were a number of laughs in here and more zany things you could only see in a cartoon, like Felix have a sword duel with giant mosquitoes! Crazy stuff.<br>Felix is watching an actor rehearse his lines: \"A ham, A ham! My kingdom for a ham sandwich!!!\" The dramatic guy that tells Felix he'll \"have to sacrifice my art and go into the movies.\" He's in tears. Felix just looks at him like he's nuts, and shrugs his shoulders. The old guy tells Felix to \"go ye forth\" and find money to finance a trip to Hollywood. Felix thinks, \"How does he expect me to get the money?\"<br /><br />In minutes, of course (this is a cartoon), he spots a shoe business owner putting up a \"bankrupt\" sale on his store. Felix comes up with a plan to bail him out and the man promises the cat $500 if it works.<br /><br />Well, it does but the man wants to go alone and leave Felix at home. In an outrageous scene, Felix transforms himself into a briefcase and that's how he gets to Hollywood, transforming himself back to cat when they get there.<br /><br />We then witness Felix's attempts at getting into show business. His audition scenes are very <font color = red>bunny</font>, especially with his imitation of Charlie Chaplin. In addition there are caricatures of some famous silent film stars and executives. In all, quite a bit of material is in this 9.5- minute cartoon. It's amazing how much more you can get in an extra 2.5 minutes, assuming most animated shorts are seven minutes in length.<br /><br />At any rate, there were a number of laughs in here and more zany things you could only see in a cartoon, like Felix have a sword duel with giant mosquitoes! Crazy stuff."
            ],
            "text/plain": [
              "<IPython.core.display.HTML object>"
            ]
          },
          "metadata": {
            "tags": []
          }
        },
        {
          "output_type": "stream",
          "text": [
            "[Succeeded / Failed / Total] 21 / 4 / 27: : 27it [04:28,  9.94s/it]"
          ],
          "name": "stderr"
        },
        {
          "output_type": "stream",
          "text": [
            "+-------------------------------+--------+\n",
            "| Attack Results                |        |\n",
            "+-------------------------------+--------+\n",
            "| Number of successful attacks: | 21     |\n",
            "| Number of failed attacks:     | 4      |\n",
            "| Number of skipped attacks:    | 2      |\n",
            "| Original accuracy:            | 92.59% |\n",
            "| Accuracy under attack:        | 14.81% |\n",
            "| Attack success rate:          | 84.0%  |\n",
            "| Average perturbed word %:     | 5.29%  |\n",
            "| Average num. words per input: | 248.96 |\n",
            "| Avg num queries:              | 419.72 |\n",
            "+-------------------------------+--------+"
          ],
          "name": "stdout"
        },
        {
          "output_type": "stream",
          "text": [
            "\n",
            "\u001b[34;1mtextattack\u001b[0m: Attack time: 268.29629945755005s\n"
          ],
          "name": "stderr"
        }
      ]
    },
    {
      "cell_type": "code",
      "metadata": {
        "id": "enY5C3DDBwlo",
        "colab": {
          "base_uri": "https://localhost:8080/",
          "height": 419,
          "referenced_widgets": [
            "38a76d0b50cc4278ae98acc82eb59820",
            "393201d4f03f44e494cc8dfd4163989b",
            "962e4775cf904b39bb0a6b70e5cd6ee7",
            "35f5ef54df684d2aaf192109f4cce7cd",
            "c7ed51e6d1bd47169b707dc649a69e48",
            "57797ceea3094cebac08ad79801c4e8f",
            "154a89933d2545dbbfe4a54571a1b60f",
            "bbf919d435f24b80a656266b6566be34",
            "5c7547822f2e45ff8d4d4660f798c8bb",
            "7e2c64461c9b46b6b297911e366d2c74",
            "f792d68267c94ec6826f7f89b14d0b84",
            "84eb903d24134e7981c745292fcc0874",
            "52e0135820da4f0b9a72f564d10c94b4",
            "7182c4ba81224e2db6520b982dc07a91",
            "ab828e39b47343fe833634e479b6a70c",
            "ed35c66ca16d4a1eaaecc390412cdaca",
            "0c00bfcbf5e34244b310b210d7cdfb3b",
            "9b9a7838a6ec4afdb7e5ac5f2f19b31a",
            "1268bc9f849042418be5531afb4b76e5",
            "2ff169ca01104bbaae3cb2c3d175f26a",
            "e46c091dc1bc424f88003988b0b85e0e",
            "eaf716854bd24514a8add0b7480aa3db",
            "ef6da58da0d84727816ef62f27f21e78",
            "98a1191bcf834a0bae79b2182bbb4ec8",
            "703dd16fe7b541eb81002e02e733a275",
            "4ec4aec74faa4476afe85cd23a8b8206",
            "c68c65edbc0e4b78888d376e38cef66c",
            "1e3199e54f094c52b373fe51cbe98cea",
            "1d48760a6af1446bb6da458c6590c3a1",
            "8635865093144a949d3ffd1da3eed6fe",
            "420c8865905d42738da4738c8218a7e7",
            "148d9182180841a29d718763c7f42e2a"
          ]
        },
        "outputId": "08fa1c99-179b-43f0-8a99-3ed44b0cd3c6"
      },
      "source": [
        "from textattack.constraints.grammaticality import PartOfSpeech\n",
        "from textattack.constraints.pre_transformation import (\n",
        "    RepeatModification,\n",
        "    StopwordModification,\n",
        ")\n",
        "from textattack.constraints.semantics.sentence_encoders import UniversalSentenceEncoder\n",
        "from textattack.goal_functions import UntargetedClassification\n",
        "from textattack.search_methods import GreedyWordSwapWIR\n",
        "from textattack.transformations import WordSwapMaskedLM\n",
        "from textattack.shared import Attack\n",
        "from textattack.datasets import HuggingFaceDataset\n",
        "transformation = WordSwapMaskedLM(\n",
        "            method=\"bae\", max_candidates=50, min_confidence=0.0\n",
        "        )\n",
        "        #\n",
        "        # Don't modify the same word twice or stopwords.\n",
        "        #\n",
        "constraints = [RepeatModification(), StopwordModification()]\n",
        "\n",
        "        # For the R operations we add an additional check for\n",
        "        # grammatical correctness of the generated adversarial example by filtering\n",
        "        # out predicted tokens that do not form the same part of speech (POS) as the\n",
        "        # original token t_i in the sentence.\n",
        "constraints.append(PartOfSpeech(allow_verb_noun_swap=True))\n",
        "\n",
        "        # \"To ensure semantic similarity on introducing perturbations in the input\n",
        "        # text, we filter the set of top-K masked tokens (K is a pre-defined\n",
        "        # constant) predicted by BERT-MLM using a Universal Sentence Encoder (USE)\n",
        "        # (Cer et al., 2018)-based sentence similarity scorer.\"\n",
        "        #\n",
        "        # \"[We] set a threshold of 0.8 for the cosine similarity between USE-based\n",
        "        # embeddings of the adversarial and input text.\"\n",
        "        #\n",
        "        # [from email correspondence with the author]\n",
        "        # \"For a fair comparison of the benefits of using a BERT-MLM in our paper,\n",
        "        # we retained the majority of TextFooler's specifications. Thus we:\n",
        "        # 1. Use the USE for comparison within a window of size 15 around the word\n",
        "        # being replaced/inserted.\n",
        "        # 2. Set the similarity score threshold to 0.1 for inputs shorter than the\n",
        "        # window size (this translates roughly to almost always accepting the new text).\n",
        "        # 3. Perform the USE similarity thresholding of 0.8 with respect to the text\n",
        "        # just before the replacement/insertion and not the original text (For\n",
        "        # example: at the 3rd R/I operation, we compute the USE score on a window\n",
        "        # of size 15 of the text obtained after the first 2 R/I operations and not\n",
        "        # the original text).\n",
        "        # ...\n",
        "        # To address point (3) from above, compare the USE with the original text\n",
        "        # at each iteration instead of the current one (While doing this change\n",
        "        # for the R-operation is trivial, doing it for the I-operation with the\n",
        "        # window based USE comparison might be more involved).\"\n",
        "        #\n",
        "        # Finally, since the BAE code is based on the TextFooler code, we need to\n",
        "        # adjust the threshold to account for the missing / pi in the cosine\n",
        "        # similarity comparison. So the final threshold is 1 - (1 - 0.8) / pi\n",
        "        # = 1 - (0.2 / pi) = 0.936338023.\n",
        "use_constraint = UniversalSentenceEncoder(\n",
        "            threshold=0.936338023,\n",
        "            metric=\"cosine\",\n",
        "            compare_against_original=True,\n",
        "            window_size=15,\n",
        "            skip_text_shorter_than_window=True,\n",
        "        )\n",
        "constraints.append(use_constraint)\n",
        "        #\n",
        "        # Goal is untargeted classification.\n",
        "        #\n",
        "goal_function = UntargetedClassification(model_wrapper)\n",
        "        #\n",
        "        # \"We estimate the token importance Ii of each token\n",
        "        # t_i ∈ S = [t1, . . . , tn], by deleting ti from S and computing the\n",
        "        # decrease in probability of predicting the correct label y, similar\n",
        "        # to (Jin et al., 2019).\n",
        "        #\n",
        "        # • \"If there are multiple tokens can cause C to misclassify S when they\n",
        "        # replace the mask, we choose the token which makes Sadv most similar to\n",
        "        # the original S based on the USE score.\"\n",
        "        # • \"If no token causes misclassification, we choose the perturbation that\n",
        "        # decreases the prediction probability P(C(Sadv)=y) the most.\"\n",
        "        #\n",
        "search_method = GreedyWordSwapWIR(wir_method=\"delete\")\n",
        "\n",
        "attack=Attack(goal_function, constraints, transformation, search_method)\n",
        "\n",
        "dataset = HuggingFaceDataset(\"imdb\", None, \"test\") # Change the dataset"
      ],
      "execution_count": 13,
      "outputs": [
        {
          "output_type": "display_data",
          "data": {
            "application/vnd.jupyter.widget-view+json": {
              "model_id": "38a76d0b50cc4278ae98acc82eb59820",
              "version_minor": 0,
              "version_major": 2
            },
            "text/plain": [
              "HBox(children=(FloatProgress(value=0.0, description='Downloading', max=440473133.0, style=ProgressStyle(descri…"
            ]
          },
          "metadata": {
            "tags": []
          }
        },
        {
          "output_type": "stream",
          "text": [
            "\n"
          ],
          "name": "stdout"
        },
        {
          "output_type": "stream",
          "text": [
            "Some weights of the model checkpoint at bert-base-uncased were not used when initializing BertForMaskedLM: ['cls.seq_relationship.weight', 'cls.seq_relationship.bias']\n",
            "- This IS expected if you are initializing BertForMaskedLM from the checkpoint of a model trained on another task or with another architecture (e.g. initializing a BertForSequenceClassification model from a BertForPreTraining model).\n",
            "- This IS NOT expected if you are initializing BertForMaskedLM from the checkpoint of a model that you expect to be exactly identical (initializing a BertForSequenceClassification model from a BertForSequenceClassification model).\n"
          ],
          "name": "stderr"
        },
        {
          "output_type": "display_data",
          "data": {
            "application/vnd.jupyter.widget-view+json": {
              "model_id": "5c7547822f2e45ff8d4d4660f798c8bb",
              "version_minor": 0,
              "version_major": 2
            },
            "text/plain": [
              "HBox(children=(FloatProgress(value=0.0, description='Downloading', max=231508.0, style=ProgressStyle(descripti…"
            ]
          },
          "metadata": {
            "tags": []
          }
        },
        {
          "output_type": "stream",
          "text": [
            "\n"
          ],
          "name": "stdout"
        },
        {
          "output_type": "display_data",
          "data": {
            "application/vnd.jupyter.widget-view+json": {
              "model_id": "0c00bfcbf5e34244b310b210d7cdfb3b",
              "version_minor": 0,
              "version_major": 2
            },
            "text/plain": [
              "HBox(children=(FloatProgress(value=0.0, description='Downloading', max=466062.0, style=ProgressStyle(descripti…"
            ]
          },
          "metadata": {
            "tags": []
          }
        },
        {
          "output_type": "stream",
          "text": [
            "\n"
          ],
          "name": "stdout"
        },
        {
          "output_type": "display_data",
          "data": {
            "application/vnd.jupyter.widget-view+json": {
              "model_id": "703dd16fe7b541eb81002e02e733a275",
              "version_minor": 0,
              "version_major": 2
            },
            "text/plain": [
              "HBox(children=(FloatProgress(value=0.0, description='Downloading', max=28.0, style=ProgressStyle(description_w…"
            ]
          },
          "metadata": {
            "tags": []
          }
        },
        {
          "output_type": "stream",
          "text": [
            "\n"
          ],
          "name": "stdout"
        },
        {
          "output_type": "stream",
          "text": [
            "Using /tmp/tfhub_modules to cache modules.\n",
            "Downloading TF-Hub Module 'https://tfhub.dev/google/universal-sentence-encoder/4'.\n",
            "Downloaded https://tfhub.dev/google/universal-sentence-encoder/4, Total size: 987.47MB\n",
            "Downloaded TF-Hub Module 'https://tfhub.dev/google/universal-sentence-encoder/4'.\n",
            "\u001b[34;1mtextattack\u001b[0m: Unknown if model of class <class 'transformers.models.bert.modeling_bert.BertForSequenceClassification'> compatible with goal function <class 'textattack.goal_functions.classification.untargeted_classification.UntargetedClassification'>.\n",
            "Reusing dataset imdb (/root/.cache/huggingface/datasets/imdb/plain_text/1.0.0/4ea52f2e58a08dbc12c2bd52d0d92b30b88c00230b4522801b3636782f625c5b)\n",
            "\u001b[34;1mtextattack\u001b[0m: Loading \u001b[94mdatasets\u001b[0m dataset \u001b[94mimdb\u001b[0m, split \u001b[94mtest\u001b[0m.\n"
          ],
          "name": "stderr"
        }
      ]
    },
    {
      "cell_type": "code",
      "metadata": {
        "colab": {
          "base_uri": "https://localhost:8080/"
        },
        "id": "axfmmqOUlwtU",
        "outputId": "a0ee1e4c-46ec-4432-cb8e-014a700204e9"
      },
      "source": [
        "print(attack)"
      ],
      "execution_count": 14,
      "outputs": [
        {
          "output_type": "stream",
          "text": [
            "Attack(\n",
            "  (search_method): GreedyWordSwapWIR(\n",
            "    (wir_method):  delete\n",
            "  )\n",
            "  (goal_function):  UntargetedClassification\n",
            "  (transformation):  WordSwapMaskedLM(\n",
            "    (method):  bae\n",
            "    (masked_lm_name):  BertForMaskedLM\n",
            "    (max_length):  512\n",
            "    (max_candidates):  50\n",
            "    (min_confidence):  0.0\n",
            "  )\n",
            "  (constraints): \n",
            "    (0): PartOfSpeech(\n",
            "        (tagger_type):  nltk\n",
            "        (tagset):  universal\n",
            "        (allow_verb_noun_swap):  True\n",
            "        (compare_against_original):  True\n",
            "      )\n",
            "    (1): UniversalSentenceEncoder(\n",
            "        (metric):  cosine\n",
            "        (threshold):  0.936338023\n",
            "        (window_size):  15\n",
            "        (skip_text_shorter_than_window):  True\n",
            "        (compare_against_original):  True\n",
            "      )\n",
            "    (2): RepeatModification\n",
            "    (3): StopwordModification\n",
            "  (is_black_box):  True\n",
            ")\n"
          ],
          "name": "stdout"
        }
      ]
    },
    {
      "cell_type": "code",
      "metadata": {
        "id": "FhK7my9wFTcj",
        "colab": {
          "base_uri": "https://localhost:8080/",
          "height": 1000
        },
        "outputId": "dcdd64ec-92e0-4586-84dc-a14696b4449b"
      },
      "source": [
        "printexample(attack)"
      ],
      "execution_count": 15,
      "outputs": [
        {
          "output_type": "stream",
          "text": [
            "\n",
            "  0%|          | 0/25 [00:00<?, ?it/s]\u001b[A"
          ],
          "name": "stderr"
        },
        {
          "output_type": "stream",
          "text": [
            "Attack(\n",
            "  (search_method): GreedyWordSwapWIR(\n",
            "    (wir_method):  delete\n",
            "  )\n",
            "  (goal_function):  UntargetedClassification\n",
            "  (transformation):  WordSwapMaskedLM(\n",
            "    (method):  bae\n",
            "    (masked_lm_name):  BertForMaskedLM\n",
            "    (max_length):  512\n",
            "    (max_candidates):  50\n",
            "    (min_confidence):  0.0\n",
            "  )\n",
            "  (constraints): \n",
            "    (0): PartOfSpeech(\n",
            "        (tagger_type):  nltk\n",
            "        (tagset):  universal\n",
            "        (allow_verb_noun_swap):  True\n",
            "        (compare_against_original):  True\n",
            "      )\n",
            "    (1): UniversalSentenceEncoder(\n",
            "        (metric):  cosine\n",
            "        (threshold):  0.936338023\n",
            "        (window_size):  15\n",
            "        (skip_text_shorter_than_window):  True\n",
            "        (compare_against_original):  True\n",
            "      )\n",
            "    (2): RepeatModification\n",
            "    (3): StopwordModification\n",
            "  (is_black_box):  True\n",
            ")\n"
          ],
          "name": "stdout"
        },
        {
          "output_type": "display_data",
          "data": {
            "text/html": [
              "<font color = green>Positive (100%)</font> --> <font color = red>[FAILED]</font><br>I went and saw this movie last night after being coaxed to by a few friends of mine. I'll admit that I was reluctant to see it because from what I knew of Ashton Kutcher he was only able to do comedy. I was wrong. Kutcher played the character of Jake Fischer very well, and Kevin Costner played Ben Randall with such professionalism. The sign of a good movie is that it can toy with our emotions. This one did exactly that. The entire theater (which was sold out) was overcome by laughter during the first half of the movie, and were moved to tears during the second half. While exiting the theater I not only saw many women in tears, but many full grown men as well, trying desperately not to let anyone see them crying. This movie was great, and I suggest that you go see it before you judge."
            ],
            "text/plain": [
              "<IPython.core.display.HTML object>"
            ]
          },
          "metadata": {
            "tags": []
          }
        },
        {
          "output_type": "stream",
          "text": [
            "\n",
            "  4%|▍         | 1/25 [02:04<49:50, 124.60s/it]\u001b[A\n",
            "[Succeeded / Failed / Total] 0 / 1 / 1:   4%|▍         | 1/25 [02:04<49:50, 124.60s/it]\u001b[A"
          ],
          "name": "stderr"
        },
        {
          "output_type": "display_data",
          "data": {
            "text/html": [
              "<font color = green>Positive (100%)</font> --> <font color = red>Negative (83%)</font><br>Actor turned director Bill Paxton follows up his promising debut, the Gothic-horror \"Frailty\", with this family friendly sports drama about the 1913 U.S. Open where a young American caddy rises from his humble background to play against his Bristish idol in what was dubbed as \"The Greatest Game Ever Played.\" I'm no fan of golf, and these scrappy underdog sports flicks are a dime a dozen (most recently done to grand effect with \"Miracle\" and \"Cinderella Man\"), but some how this film was enthralling all the same.<br /><br />The film starts with some creative opening credits (imagine a Disneyfied version of the animated opening credits of HBO's \"Carnivale\" and \"Rome\"), but lumbers along slowly for its first by-the-numbers hour. <font color = green>Once</font> the action moves to the U.S. Open things pick up very well. Paxton does a nice <font color = green>job</font> and shows a knack for effective directorial flourishes (I loved the rain-soaked montage of the action on day two of the open) that propel the plot further or add some unexpected psychological depth to the proceedings. There's some compelling character development when the British Harry Vardon is haunted by images of the aristocrats in black suits and top hats who destroyed his family cottage as a child to make way for a golf course. He also does a good job of visually depicting what goes on in the players' heads under pressure. Golf, a painfully boring sport, is brought vividly alive here. Credit should also be given the set designers and costume department for creating an engaging period-piece atmosphere of London and Boston at the beginning of the twentieth century.<br /><br />You know how this is going to end not only because it's based on a true story but also because films in this genre follow the same template over and over, but Paxton puts on a better than average show and perhaps indicates more talent behind the camera than he ever had in front of it. Despite the formulaic nature, this is a nice and easy film to root for that deserves to find an audience.<br>Actor turned director Bill Paxton follows up his promising debut, the Gothic-horror \"Frailty\", with this family friendly sports drama about the 1913 U.S. Open where a young American caddy rises from his humble background to play against his Bristish idol in what was dubbed as \"The Greatest Game Ever Played.\" I'm no fan of golf, and these scrappy underdog sports flicks are a dime a dozen (most recently done to grand effect with \"Miracle\" and \"Cinderella Man\"), but some how this film was enthralling all the same.<br /><br />The film starts with some creative opening credits (imagine a Disneyfied version of the animated opening credits of HBO's \"Carnivale\" and \"Rome\"), but lumbers along slowly for its first by-the-numbers hour. <font color = red>of</font> the action moves to the U.S. Open things pick up very well. Paxton does a nice <font color = red>rkin</font> and shows a knack for effective directorial flourishes (I loved the rain-soaked montage of the action on day two of the open) that propel the plot further or add some unexpected psychological depth to the proceedings. There's some compelling character development when the British Harry Vardon is haunted by images of the aristocrats in black suits and top hats who destroyed his family cottage as a child to make way for a golf course. He also does a good job of visually depicting what goes on in the players' heads under pressure. Golf, a painfully boring sport, is brought vividly alive here. Credit should also be given the set designers and costume department for creating an engaging period-piece atmosphere of London and Boston at the beginning of the twentieth century.<br /><br />You know how this is going to end not only because it's based on a true story but also because films in this genre follow the same template over and over, but Paxton puts on a better than average show and perhaps indicates more talent behind the camera than he ever had in front of it. Despite the formulaic nature, this is a nice and easy film to root for that deserves to find an audience."
            ],
            "text/plain": [
              "<IPython.core.display.HTML object>"
            ]
          },
          "metadata": {
            "tags": []
          }
        },
        {
          "output_type": "stream",
          "text": [
            "\n",
            "[Succeeded / Failed / Total] 0 / 1 / 1:   8%|▊         | 2/25 [02:12<25:28, 66.47s/it] \u001b[A\n",
            "[Succeeded / Failed / Total] 1 / 1 / 2:   8%|▊         | 2/25 [02:12<25:29, 66.48s/it]\u001b[A"
          ],
          "name": "stderr"
        },
        {
          "output_type": "display_data",
          "data": {
            "text/html": [
              "<font color = green>Positive (100%)</font> --> <font color = red>[FAILED]</font><br>As a recreational golfer with some knowledge of the sport's history, I was pleased with Disney's sensitivity to the issues of class in golf in the early twentieth century. The movie depicted well the psychological battles that Harry Vardon fought within himself, from his childhood trauma of being evicted to his own inability to break that glass ceiling that prevents him from being accepted as an equal in English golf society. Likewise, the young Ouimet goes through his own class struggles, being a mere caddie in the eyes of the upper crust Americans who scoff at his attempts to rise above his standing. <br /><br />What I loved best, however, is how this theme of class is manifested in the characters of Ouimet's parents. His father is a working-class drone who sees the value of hard work but is intimidated by the upper class; his mother, however, recognizes her son's talent and desire and encourages him to pursue his dream of competing against those who think he is inferior.<br /><br />Finally, the golf scenes are well photographed. Although the course used in the movie was not the actual site of the historical tournament, the little liberties taken by Disney do not detract from the beauty of the film. There's one little Disney moment at the pool table; otherwise, the viewer does not really think Disney. The ending, as in \"Miracle,\" is not some Disney creation, but one that only human history could have written."
            ],
            "text/plain": [
              "<IPython.core.display.HTML object>"
            ]
          },
          "metadata": {
            "tags": []
          }
        },
        {
          "output_type": "stream",
          "text": [
            "\n",
            "[Succeeded / Failed / Total] 1 / 1 / 2:  12%|█▏        | 3/25 [04:58<36:31, 99.63s/it]\u001b[A\n",
            "[Succeeded / Failed / Total] 1 / 2 / 3:  12%|█▏        | 3/25 [04:58<36:31, 99.63s/it]\u001b[A"
          ],
          "name": "stderr"
        },
        {
          "output_type": "display_data",
          "data": {
            "text/html": [
              "<font color = green>Positive (100%)</font> --> <font color = red>[FAILED]</font><br>I saw this film in a sneak preview, and it is delightful. The cinematography is unusually creative, the acting is good, and the story is fabulous. If this movie does not do well, it won't be because it doesn't deserve to. Before this film, I didn't realize how charming Shia Lebouf could be. He does a marvelous, self-contained, job as the lead. There's something incredibly sweet about him, and it makes the movie even better. The other actors do a good job as well, and the film contains moments of really high suspense, more than one might expect from a movie about golf. Sports movies are a dime a dozen, but this one stands out. <br /><br />This is one I'd recommend to anyone."
            ],
            "text/plain": [
              "<IPython.core.display.HTML object>"
            ]
          },
          "metadata": {
            "tags": []
          }
        },
        {
          "output_type": "stream",
          "text": [
            "\n",
            "[Succeeded / Failed / Total] 1 / 2 / 3:  16%|█▌        | 4/25 [05:24<28:22, 81.06s/it]\u001b[A\n",
            "[Succeeded / Failed / Total] 1 / 3 / 4:  16%|█▌        | 4/25 [05:24<28:22, 81.07s/it]\u001b[A"
          ],
          "name": "stderr"
        },
        {
          "output_type": "display_data",
          "data": {
            "text/html": [
              "<font color = green>Positive (100%)</font> --> <font color = red>[FAILED]</font><br>Bill Paxton has taken the true story of the 1913 US golf open and made a film that is about much more than an extra-ordinary game of golf. The film also deals directly with the class tensions of the early twentieth century and touches upon the profound anti-Catholic prejudices of both the British and American establishments. But at heart the film is about that perennial favourite of triumph against the odds.<br /><br />The acting is exemplary throughout. Stephen Dillane is excellent as usual, but the revelation of the movie is Shia LaBoeuf who delivers a disciplined, dignified and highly sympathetic performance as a working class Franco-Irish kid fighting his way through the prejudices of the New England WASP establishment. For those who are only familiar with his slap-stick performances in \"Even Stevens\" this demonstration of his maturity is a delightful surprise. And Josh Flitter as the ten year old caddy threatens to steal every scene in which he appears.<br /><br />A old fashioned movie in the best sense of the word: fine acting, clear directing and a great story that grips to the end - the final scene an affectionate nod to Casablanca is just one of the many pleasures that fill a great movie."
            ],
            "text/plain": [
              "<IPython.core.display.HTML object>"
            ]
          },
          "metadata": {
            "tags": []
          }
        },
        {
          "output_type": "stream",
          "text": [
            "\n",
            "[Succeeded / Failed / Total] 1 / 3 / 4:  20%|██        | 5/25 [06:13<24:55, 74.77s/it]\u001b[A\n",
            "[Succeeded / Failed / Total] 1 / 4 / 5:  20%|██        | 5/25 [06:13<24:55, 74.77s/it]\u001b[A"
          ],
          "name": "stderr"
        },
        {
          "output_type": "display_data",
          "data": {
            "text/html": [
              "<font color = green>Positive (100%)</font> --> <font color = red>Negative (96%)</font><br>I saw this film on September 1st, 2005 in Indianapolis. I am one of the judges for the Heartland Film Festival that screens films for their Truly Moving Picture Award. <font color = green>A</font> <font color = green>Truly</font> Moving Picture \"...explores the human journey by artistically expressing hope and respect for the positive values of life.\" Heartland gave that award to this film.<br /><br />This is a story of golf in the early part of the 20th century. At that time, it was the game of upper class and rich \"gentlemen\", and working people could only participate by being <font color = green>caddies</font> at country clubs. With this backdrop, this <font color = green>based-on-a-true-story</font> <font color = green>unfolds</font> with a young, working class boy who takes on the golf establishment and the greatest golfer in the world, Harry <font color = green>Vardon</font>.<br /><br />And the story is inspirational. Against all odds, Francis Ouimet (played by Shia LaBeouf of \"Holes\") gets to compete against the greatest golfers of the U.S. and Great Britain at the 1913 U.S. Open. Francis is ill-prepared, and has a child for a caddy. (The <font color = green>caddy</font> is hilarious and motivational and steals every scene he appears in.) But despite these handicaps, Francis displays courage, spirit, heroism, and humility at this world class event.<br /><br />And, we learn a lot about the early years of golf; for example, the use of small wooden clubs, the layout of the short holes, the manual scoreboard, the golfers swinging with pipes in their mouths, the terrible conditions of the greens and fairways, and the play not being canceled even in torrential rain.<br /><br />This film has stunning cinematography and art direction and editing. And with no big movie stars, the story is somehow more believable.<br /><br />This adds to the inventory of great sports movies in the vein of \"Miracle\" and \"Remember the Titans.\"<br /><br />FYI - There is a Truly Moving Pictures web site where there is a listing of past winners going back 70 years.<br>I saw this film on September 1st, 2005 in Indianapolis. I am one of the judges for the Heartland Film Festival that screens films for their Truly Moving Picture Award. <font color = red>u</font> <font color = red>fr</font> Moving Picture \"...explores the human journey by artistically expressing hope and respect for the positive values of life.\" Heartland gave that award to this film.<br /><br />This is a story of golf in the early part of the 20th century. At that time, it was the game of upper class and rich \"gentlemen\", and working people could only participate by being <font color = red>cens</font> at country clubs. With this backdrop, this <font color = red>ude</font> <font color = red>inates</font> with a young, working class boy who takes on the golf establishment and the greatest golfer in the world, Harry <font color = red>hausen</font>.<br /><br />And the story is inspirational. Against all odds, Francis Ouimet (played by Shia LaBeouf of \"Holes\") gets to compete against the greatest golfers of the U.S. and Great Britain at the 1913 U.S. Open. Francis is ill-prepared, and has a child for a caddy. (The <font color = red>igan</font> is hilarious and motivational and steals every scene he appears in.) But despite these handicaps, Francis displays courage, spirit, heroism, and humility at this world class event.<br /><br />And, we learn a lot about the early years of golf; for example, the use of small wooden clubs, the layout of the short holes, the manual scoreboard, the golfers swinging with pipes in their mouths, the terrible conditions of the greens and fairways, and the play not being canceled even in torrential rain.<br /><br />This film has stunning cinematography and art direction and editing. And with no big movie stars, the story is somehow more believable.<br /><br />This adds to the inventory of great sports movies in the vein of \"Miracle\" and \"Remember the Titans.\"<br /><br />FYI - There is a Truly Moving Pictures web site where there is a listing of past winners going back 70 years."
            ],
            "text/plain": [
              "<IPython.core.display.HTML object>"
            ]
          },
          "metadata": {
            "tags": []
          }
        },
        {
          "output_type": "stream",
          "text": [
            "\n",
            "[Succeeded / Failed / Total] 1 / 4 / 5:  24%|██▍       | 6/25 [06:30<20:36, 65.09s/it]\u001b[A\n",
            "[Succeeded / Failed / Total] 2 / 4 / 6:  24%|██▍       | 6/25 [06:30<20:36, 65.09s/it]\u001b[A"
          ],
          "name": "stderr"
        },
        {
          "output_type": "display_data",
          "data": {
            "text/html": [
              "<font color = red>Negative (99%)</font> --> <font color = gray>[SKIPPED]</font><br>Maybe I'm reading into this too much, but I wonder how much of a hand Hongsheng had in developing the film. I mean, when a story is told casting the main character as himself, I would think he would be a heavy hand in writing, documenting, etc. and that would make it a little biased.<br /><br />But...his family and friends also may have had a hand in getting the actual details about Hongsheng's life. I think the best view would have been told from Hongsheng's family and friends' perspectives. They saw his transformation and weren't so messed up on drugs that they remember everything.<br /><br />As for Hongsheng being full of himself, the consistencies of the Jesus Christ pose make him appear as a martyr who sacrificed his life (metaphorically, of course, he's obviously still alive as he was cast as himself) for his family's happiness. Huh?<br /><br />The viewer sees him at his lowest points while still maintaining a superiority complex. He lies on the grass coming down from (during?) a high by himself and with his father, he contemplates life and has visions of dragons at his window, he celebrates his freedom on a bicycle all while outstretching his arms, his head cocked to the side.<br /><br />It's fabulous that he's off of drugs now, but he's no hero. He went from a high point in his career in acting to his most vulnerable point while on drugs to come back somewhere in the middle.<br /><br />This same device is used in Ted Demme's \"Blow\" where the audience empathizes with the main character who is shown as a flawed hero.<br /><br />However, \"Quitting\" (\"Zuotian\") is a film that is recommended, mostly for its haunting soundtrack, superb acting, and landscapes. But, the best part is the feeling that one gets when what we presume to be the house of Jia Hongsheng is actually a stage setting for a play. It makes the viewer feel as if Hongsheng's life was merely a play told in many difficult parts."
            ],
            "text/plain": [
              "<IPython.core.display.HTML object>"
            ]
          },
          "metadata": {
            "tags": []
          }
        },
        {
          "output_type": "stream",
          "text": [
            "\n",
            "[Succeeded / Failed / Total] 2 / 4 / 7:  28%|██▊       | 7/25 [06:30<16:44, 55.80s/it]\u001b[A"
          ],
          "name": "stderr"
        },
        {
          "output_type": "display_data",
          "data": {
            "text/html": [
              "<font color = green>Positive (100%)</font> --> <font color = red>[FAILED]</font><br>I felt this film did have many good qualities. The cinematography was certainly different exposing the stage aspect of the set and story. The original characters as actors was certainly an achievement and I felt most played quite convincingly, of course they are playing themselves, but definitely unique. The cultural aspects may leave many disappointed as a familiarity with the Chinese and Oriental culture will answer a lot of questions regarding parent/child relationships and the stigma that goes with any drug use. I found the Jia Hongsheng story interesting. On a down note, the story is in Beijing and some of the fashion and music reek of early 90s even though this was made in 2001, so it's really cheesy sometimes (the Beatles crap, etc). Whatever, not a top ten or twenty but if it's on the television, check it out."
            ],
            "text/plain": [
              "<IPython.core.display.HTML object>"
            ]
          },
          "metadata": {
            "tags": []
          }
        },
        {
          "output_type": "stream",
          "text": [
            "\n",
            "[Succeeded / Failed / Total] 2 / 4 / 7:  32%|███▏      | 8/25 [07:02<14:57, 52.80s/it]\u001b[A\n",
            "[Succeeded / Failed / Total] 2 / 5 / 8:  32%|███▏      | 8/25 [07:02<14:57, 52.80s/it]\u001b[A"
          ],
          "name": "stderr"
        },
        {
          "output_type": "display_data",
          "data": {
            "text/html": [
              "<font color = green>Positive (100%)</font> --> <font color = red>[FAILED]</font><br>This movie is amazing because the fact that the real people portray themselves and their real life experience and do such a good job it's like they're almost living the past over again. Jia Hongsheng plays himself an actor who quit everything except music and drugs struggling with depression and searching for the meaning of life while being angry at everyone especially the people who care for him most. There's moments in the movie that will make you wanna cry because the family especially the father did such a good job. However, this movie is not for everyone. Many people who suffer from depression will understand Hongsheng's problem and why he does the things he does for example keep himself shut in a dark room or go for walks or bike rides by himself. Others might see the movie as boring because it's just so real that its almost like a documentary. Overall this movie is great and Hongsheng deserved an Oscar for this movie so did his Dad."
            ],
            "text/plain": [
              "<IPython.core.display.HTML object>"
            ]
          },
          "metadata": {
            "tags": []
          }
        },
        {
          "output_type": "stream",
          "text": [
            "\n",
            "[Succeeded / Failed / Total] 2 / 5 / 8:  36%|███▌      | 9/25 [07:38<13:34, 50.93s/it]\u001b[A\n",
            "[Succeeded / Failed / Total] 2 / 6 / 9:  36%|███▌      | 9/25 [07:38<13:34, 50.93s/it]\u001b[A"
          ],
          "name": "stderr"
        },
        {
          "output_type": "display_data",
          "data": {
            "text/html": [
              "<font color = green>Positive (100%)</font> --> <font color = red>Negative (63%)</font><br>\"Quitting\" may be as much about exiting a pre-ordained identity as about drug withdrawal. As a rural guy coming to Beijing, class and success must have struck this young artist <font color = green>face</font> on as an appeal to separate from his roots and far surpass his peasant parents' acting success. <font color = green>Troubles</font> arise, however, when the new man is too new, when it demands too big a departure from family, history, nature, and personal identity. The ensuing splits, and confusion between the imaginary and the <font color = green>real</font> and the dissonance between the ordinary and the heroic are the stuff of a gut check on the one hand or a complete escape from <font color = green>self</font> on the other. Hongshen slips into the latter and his long and lonely road back to self can be grim.<br /><br />But what an exceptionally <font color = green>convincing</font> particularity, honesty, and sensuousness director Zhang Yang, and his actors, bring to this journey. No <font color = green>clichés</font>, no stereotypes, no rigid gender roles, no <font color = green>requisite</font> sex, <font color = green>romance</font> or violence scenes, no requisite <font color = green>street</font> language and, to boot, no <font color = green>assumed</font> money to float character acts and whims. <br /><br />Hongshen Jia is in his <font color = green>mid-twenties</font>. He's a talented actor, impressionable, vain, idealistic, and perhaps emotionally starved. The perfect recipe for his enablers. Soon he's the \"cool\" actor, idolized by youth. \"He was hot in the early nineties.\" \"He always had to be the most fashionable.\" He needs extremes, and goes in for heavy metal, adopts earrings and a scarf. His acting means the arts, friends--and roles, But not the kind that offer any personal challenge or input. And his self-criticism, dulled by the immediacy of success, opens the doors to an irrational self-doubt, self-hatred-- \"I didn't know how to act\" \"I felt <font color = green>like</font> a phony\"--and to readily available drugs to counter them. He says \"I had to get high to do what director wanted.\" So, his shallow identity as an actor becomes, via drugs, an escape from identity. <br /><br />Hongshen's disengagement from drugs and his false life is very gradual, intermittent--and doggedly his own. Solitude, space, meditative thinking, speech refusal, replace therapy. The abstract is out. And a great deal of his change occurs outdoors---not in idealized locations but mainly on green patches under the freeways, bridges, and high-rises of Beijing. The physicality is almost romantic, but is not. The bike rides to Ritan Park, the long spontaneous walks, the drenching sun and rain, grassy picnics, the sky patterns and kites that absorb his musing are very specific. He drifts in order to arrive, all the while picking up cues to a more real and realistic identity. \"I started to open up\" he says of this period in retrospect. And the contact seems to start with his lanky body which projects a kind of dancer's positioning (clumsy, graceful, humorous, telling) in a current circumstance. If mind or spirit is lacking, his legs can compel him to walk all night. <br /><br />Central to his comeback is the rejection of set roles. To punctuate his end to acting and his determination to a new identity, he smashes his videos and TV, and bangs his head till bloody against his \"John Lennon Forever\" poster. He has let down his iconic anti-establishment artist---but he's the only viable guide he knows. He even imagines himself as John's son (Yoko Ono), and adopts his \"Mother Mary\" as an intercessor in his \"hour of darkness\" and \"time of trouble.\" (the wrenching, shaking pain in the park--hallucinatory and skitzoid ordeals) \"Music is so much more real than acting\" he says. And speaks of Lennon's influence as \"showing me a new way.\" In the mental institute, the life-saving apples (resistance, nourishment) reflect Lennon's presence, as does Hongshen's need to re-hang his hero's poster in his redecorated room.<br /><br />If Lennon's influence is spiriting, Hongshen's father's influence is grounding. Although father and son are both actors and users (drugs and drink), it is Fegsen's differences from his son that underwrites his change. For the father is more secure in himself: he accepts that he's Chinese, a peasant in a line of peasants, a rural theater director. And he exercises control over both his habit and his emotions. It's this recognizable identity that drives Hongshen to treat him like a sounding board, sometimes with anger and rage, sometimes with humor (the blue jeans, Beatles) and passivity. In his most crazed, and violent exchange with his father in which he accuses him of being a liar, and a fake, he exposes more of himself than his father: \"all the acts I acted before were bullshit... life is bullshit.\" And to Hongshen's emphatic \"you are NOT my father,\" he softly replies, \"why can't a peasant be your father?\" <br /><br />Under these two teachers and with much additional help from his mother, sister, friends, inmates at the rehab inst., he makes some tangible connection to a real (not whole) self. As the long term drug effects recede, so does his old identity. Indebtedness replaces pride, trust distrust. Integrity banishes his black cloud. All his edges soften. \"You are just a human being\" he repeats endlessly after being released from the strap-down incurred for refusing medicine. Back home, lard peasant soap is fine with him now. And his once \"rare and true friendships\" begin again as is so evident in the back to poignant back-to-back fence scene with his musician buddy. Hongshen says of this movie: \"it's a good chance to think about my life.\" And I might add, become a New Actor, one bound to art and life. Like Lennon, he has gained success without a loss of identity.<br>\"Quitting\" may be as much about exiting a pre-ordained identity as about drug withdrawal. As a rural guy coming to Beijing, class and success must have struck this young artist <font color = red>le</font> on as an appeal to separate from his roots and far surpass his peasant parents' acting success. <font color = red>raus</font> arise, however, when the new man is too new, when it demands too big a departure from family, history, nature, and personal identity. The ensuing splits, and confusion between the imaginary and the <font color = red>like</font> and the dissonance between the ordinary and the heroic are the stuff of a gut check on the one hand or a complete escape from <font color = red>uration</font> on the other. Hongshen slips into the latter and his long and lonely road back to self can be grim.<br /><br />But what an exceptionally <font color = red>mal</font> particularity, honesty, and sensuousness director Zhang Yang, and his actors, bring to this journey. No <font color = red>ness</font>, no stereotypes, no rigid gender roles, no <font color = red>ential</font> sex, <font color = red>lova</font> or violence scenes, no requisite <font color = red>atory</font> language and, to boot, no <font color = red>ental</font> money to float character acts and whims. <br /><br />Hongshen Jia is in his <font color = red>ad</font>. He's a talented actor, impressionable, vain, idealistic, and perhaps emotionally starved. The perfect recipe for his enablers. Soon he's the \"cool\" actor, idolized by youth. \"He was hot in the early nineties.\" \"He always had to be the most fashionable.\" He needs extremes, and goes in for heavy metal, adopts earrings and a scarf. His acting means the arts, friends--and roles, But not the kind that offer any personal challenge or input. And his self-criticism, dulled by the immediacy of success, opens the doors to an irrational self-doubt, self-hatred-- \"I didn't know how to act\" \"I felt <font color = red>for</font> a phony\"--and to readily available drugs to counter them. He says \"I had to get high to do what director wanted.\" So, his shallow identity as an actor becomes, via drugs, an escape from identity. <br /><br />Hongshen's disengagement from drugs and his false life is very gradual, intermittent--and doggedly his own. Solitude, space, meditative thinking, speech refusal, replace therapy. The abstract is out. And a great deal of his change occurs outdoors---not in idealized locations but mainly on green patches under the freeways, bridges, and high-rises of Beijing. The physicality is almost romantic, but is not. The bike rides to Ritan Park, the long spontaneous walks, the drenching sun and rain, grassy picnics, the sky patterns and kites that absorb his musing are very specific. He drifts in order to arrive, all the while picking up cues to a more real and realistic identity. \"I started to open up\" he says of this period in retrospect. And the contact seems to start with his lanky body which projects a kind of dancer's positioning (clumsy, graceful, humorous, telling) in a current circumstance. If mind or spirit is lacking, his legs can compel him to walk all night. <br /><br />Central to his comeback is the rejection of set roles. To punctuate his end to acting and his determination to a new identity, he smashes his videos and TV, and bangs his head till bloody against his \"John Lennon Forever\" poster. He has let down his iconic anti-establishment artist---but he's the only viable guide he knows. He even imagines himself as John's son (Yoko Ono), and adopts his \"Mother Mary\" as an intercessor in his \"hour of darkness\" and \"time of trouble.\" (the wrenching, shaking pain in the park--hallucinatory and skitzoid ordeals) \"Music is so much more real than acting\" he says. And speaks of Lennon's influence as \"showing me a new way.\" In the mental institute, the life-saving apples (resistance, nourishment) reflect Lennon's presence, as does Hongshen's need to re-hang his hero's poster in his redecorated room.<br /><br />If Lennon's influence is spiriting, Hongshen's father's influence is grounding. Although father and son are both actors and users (drugs and drink), it is Fegsen's differences from his son that underwrites his change. For the father is more secure in himself: he accepts that he's Chinese, a peasant in a line of peasants, a rural theater director. And he exercises control over both his habit and his emotions. It's this recognizable identity that drives Hongshen to treat him like a sounding board, sometimes with anger and rage, sometimes with humor (the blue jeans, Beatles) and passivity. In his most crazed, and violent exchange with his father in which he accuses him of being a liar, and a fake, he exposes more of himself than his father: \"all the acts I acted before were bullshit... life is bullshit.\" And to Hongshen's emphatic \"you are NOT my father,\" he softly replies, \"why can't a peasant be your father?\" <br /><br />Under these two teachers and with much additional help from his mother, sister, friends, inmates at the rehab inst., he makes some tangible connection to a real (not whole) self. As the long term drug effects recede, so does his old identity. Indebtedness replaces pride, trust distrust. Integrity banishes his black cloud. All his edges soften. \"You are just a human being\" he repeats endlessly after being released from the strap-down incurred for refusing medicine. Back home, lard peasant soap is fine with him now. And his once \"rare and true friendships\" begin again as is so evident in the back to poignant back-to-back fence scene with his musician buddy. Hongshen says of this movie: \"it's a good chance to think about my life.\" And I might add, become a New Actor, one bound to art and life. Like Lennon, he has gained success without a loss of identity."
            ],
            "text/plain": [
              "<IPython.core.display.HTML object>"
            ]
          },
          "metadata": {
            "tags": []
          }
        },
        {
          "output_type": "stream",
          "text": [
            "\n",
            "[Succeeded / Failed / Total] 2 / 6 / 9:  40%|████      | 10/25 [11:44<17:36, 70.44s/it]\u001b[A\n",
            "[Succeeded / Failed / Total] 3 / 6 / 10:  40%|████      | 10/25 [11:44<17:36, 70.44s/it]\u001b[A"
          ],
          "name": "stderr"
        },
        {
          "output_type": "display_data",
          "data": {
            "text/html": [
              "<font color = green>Positive (100%)</font> --> <font color = red>[FAILED]</font><br>I loved this movie from beginning to end.I am a musician and i let drugs get in the way of my some of the things i used to love(skateboarding,drawing) but my friends were always there for me.Music was like my rehab,life support,and my drug.It changed my life.I can totally relate to this movie and i wish there was more i could say.This movie left me speechless to be honest.I just saw it on the Ifc channel.I usually hate having satellite but this was a perk of having satellite.The ifc channel shows some really great movies and without it I never would have found this movie.Im not a big fan of the international films because i find that a lot of the don't do a very good job on translating lines.I mean the obvious language barrier leaves you to just believe thats what they are saying but its not that big of a deal i guess.I almost never got to see this AMAZING movie.Good thing i stayed up for it instead of going to bed..well earlier than usual.lol.I hope you all enjoy the hell of this movie and Love this movie just as much as i did.I wish i could type this all in caps but its again the rules i guess thats shouting but it would really show my excitement for the film.I Give It Three Thumbs Way Up!<br /><br />This Movie Blew ME AWAY!"
            ],
            "text/plain": [
              "<IPython.core.display.HTML object>"
            ]
          },
          "metadata": {
            "tags": []
          }
        },
        {
          "output_type": "stream",
          "text": [
            "\n",
            "[Succeeded / Failed / Total] 3 / 6 / 10:  44%|████▍     | 11/25 [12:47<16:17, 69.79s/it]\u001b[A\n",
            "[Succeeded / Failed / Total] 3 / 7 / 11:  44%|████▍     | 11/25 [12:47<16:17, 69.79s/it]\u001b[A"
          ],
          "name": "stderr"
        },
        {
          "output_type": "display_data",
          "data": {
            "text/html": [
              "<font color = green>Positive (100%)</font> --> <font color = red>Negative (64%)</font><br>I was fortunate to attend the London premier of this film. While I am not at all a fan of British drama, I did find myself deeply moved by the characters and the BAD CHOICES they made. I was in tears by the <font color = green>end</font> of the film. Every scene was mesmerizing. The attention to detail and the excellent acting was quite impressive.<br /><br />I would have to agree with some of the other <font color = green>comments</font> here which question why all these women were throwing themselves at such a despicable character.<br /><br />*******SPOLIER ALERT******** I was also hoping that Dylan would have been killed by William when he had the chance! ****END SPOILER*****<br /><br />Keira Knightley did a great job and radiate beauty and innocence from the screen, but it was Sienna Miller's performance that was truly Oscar worthy.<br /><br />I am sure this production will be nominated for other awards.<br>I was fortunate to attend the London premier of this film. While I am not at all a fan of British drama, I did find myself deeply moved by the characters and the BAD CHOICES they made. I was in tears by the <font color = red>vation</font> of the film. Every scene was mesmerizing. The attention to detail and the excellent acting was quite impressive.<br /><br />I would have to agree with some of the other <font color = red>ctors</font> here which question why all these women were throwing themselves at such a despicable character.<br /><br />*******SPOLIER ALERT******** I was also hoping that Dylan would have been killed by William when he had the chance! ****END SPOILER*****<br /><br />Keira Knightley did a great job and radiate beauty and innocence from the screen, but it was Sienna Miller's performance that was truly Oscar worthy.<br /><br />I am sure this production will be nominated for other awards."
            ],
            "text/plain": [
              "<IPython.core.display.HTML object>"
            ]
          },
          "metadata": {
            "tags": []
          }
        },
        {
          "output_type": "stream",
          "text": [
            "\n",
            "[Succeeded / Failed / Total] 3 / 7 / 11:  48%|████▊     | 12/25 [12:52<13:56, 64.35s/it]\u001b[A\n",
            "[Succeeded / Failed / Total] 4 / 7 / 12:  48%|████▊     | 12/25 [12:52<13:56, 64.35s/it]\u001b[A"
          ],
          "name": "stderr"
        },
        {
          "output_type": "display_data",
          "data": {
            "text/html": [
              "<font color = green>Positive (100%)</font> --> <font color = red>[FAILED]</font><br>I first saw this movie on IFC. Which is a great network by the way to see underground films. I watched this movie and was thinking it was going to be pure drama and a story line that doesn't hold water. But it really was a worth while watch. The main character is in such rough shape, and you hate to see him deny help, but no matter what you just can't hate him. His devotion to The Beatles and John Lennon is a great metaphor for his life and the helplessness he feels. <br /><br />The atmosphere of the film is also great. At times, you feel like you can see what he sees, feel what he feels in some situations. This movie does not leave you wanting to know more, or disliking a loophole in the plot. There are NO loopholes (in my opinion). I have always been a fan of foreign films, especially now with movies being made so poorly in America. I really enjoy the foreign settings because I feel it can take you on a trip, and sometimes understand a different culture. This movie did all those things to me and more. Please watch this movie and if you're new to foreign films, this is a great start."
            ],
            "text/plain": [
              "<IPython.core.display.HTML object>"
            ]
          },
          "metadata": {
            "tags": []
          }
        },
        {
          "output_type": "stream",
          "text": [
            "\n",
            "[Succeeded / Failed / Total] 4 / 7 / 12:  52%|█████▏    | 13/25 [13:38<12:35, 62.98s/it]\u001b[A\n",
            "[Succeeded / Failed / Total] 4 / 8 / 13:  52%|█████▏    | 13/25 [13:38<12:35, 62.98s/it]\u001b[A"
          ],
          "name": "stderr"
        },
        {
          "output_type": "display_data",
          "data": {
            "text/html": [
              "<font color = green>Positive (100%)</font> --> <font color = red>[FAILED]</font><br>I must say, every time I see this movie, I am deeply touched, not only by the most painful four years of Hongsheng's life, but also by how his family deals with his drug addiction. It is also true that getting addicted to anything, such as drugs, alcohol, or pornography, cannot only hurt you, but also hurt your most important people in the world: your family. Since family is the #1 priority in the Asian culture, it takes guts for the circle to gather together and show one person how much the family loves him/her. this is actually the first Chinese movie that I actually enjoy, not for the fun of it, but the elements surrounding it (superb acting, touching story, great direction) make this movie worth watching. What stands out the most is that Hongsheng and his family act out the story themselves instead of having some B-movie actor trying to imitate the real person. It shows the genuineness of the movie."
            ],
            "text/plain": [
              "<IPython.core.display.HTML object>"
            ]
          },
          "metadata": {
            "tags": []
          }
        },
        {
          "output_type": "stream",
          "text": [
            "\n",
            "[Succeeded / Failed / Total] 4 / 8 / 13:  56%|█████▌    | 14/25 [14:16<11:13, 61.21s/it]\u001b[A\n",
            "[Succeeded / Failed / Total] 4 / 9 / 14:  56%|█████▌    | 14/25 [14:16<11:13, 61.21s/it]\u001b[A"
          ],
          "name": "stderr"
        },
        {
          "output_type": "display_data",
          "data": {
            "text/html": [
              "<font color = green>Positive (100%)</font> --> <font color = red>Negative (56%)</font><br>My wife is a mental <font color = green>health</font> therapist and we watched it from beginning to end. I am the <font color = green>typical</font> man and can not stand chick flicks, but this movie is unbelievable. <font color = green>If</font> you want to <font color = green>see</font> what it is like for someone who is <font color = green>going</font> through these type of struggles, this is the movie for you. As I watched it I <font color = green>found</font> myself feeling sorry for him and others like him. <br /><br />***Spoiler*** Plus the <font color = green>fact</font> that all the individuals in the movie <font color = green>including</font> the people in the mental institution were the actual people in real <font color = green>life</font> made it that more real.<br /><br /><font color = green>A</font> must see for <font color = green>someone</font> in the mental health profession!<br>My wife is a mental <font color = red>ist</font> therapist and we watched it from beginning to end. I am the <font color = red>uro</font> man and can not stand chick flicks, but this movie is unbelievable. <font color = red>of</font> you want to <font color = red>point</font> what it is like for someone who is <font color = red>working</font> through these type of struggles, this is the movie for you. As I watched it I <font color = red>ection</font> myself feeling sorry for him and others like him. <br /><br />***Spoiler*** Plus the <font color = red>au</font> that all the individuals in the movie <font color = red>rized</font> the people in the mental institution were the actual people in real <font color = red>world</font> made it that more real.<br /><br /><font color = red>the</font> must see for <font color = red>ays</font> in the mental health profession!"
            ],
            "text/plain": [
              "<IPython.core.display.HTML object>"
            ]
          },
          "metadata": {
            "tags": []
          }
        },
        {
          "output_type": "stream",
          "text": [
            "\n",
            "[Succeeded / Failed / Total] 4 / 9 / 14:  60%|██████    | 15/25 [14:34<09:42, 58.27s/it]\u001b[A\n",
            "[Succeeded / Failed / Total] 5 / 9 / 15:  60%|██████    | 15/25 [14:34<09:42, 58.27s/it]\u001b[A"
          ],
          "name": "stderr"
        },
        {
          "output_type": "display_data",
          "data": {
            "text/html": [
              "<font color = green>Positive (100%)</font> --> <font color = red>Negative (87%)</font><br>I saw this film at the Rotterdam International Film Festival 2002. This seemed to be one of the <font color = green>less</font> popular films on the festival, however, as it turned out, all the more interesting.<br /><br />The story, of an actor trying to come to grips with himself and his environment after withdrawing from a drug addiction, is based on actual <font color = green>facts</font>. Moreover, the characters playing in the film are the <font color = green>real</font> people living this experience over again, this time for the film, which is partly set up as a stage play. Not only do they all happen to be good actors, Jia <font color = green>Hongsheng's</font> parents are actors in real life as well, the <font color = green>methods</font> used in highlighting their relationship towards Jia are very effective.<br /><br />Jia <font color = green>Hongsheng</font> is the actor of some Chinese action films late eighties start <font color = green>nineties</font>. Later you can see him in great films such as Frozen and Suzhou River. In between these two career <font color = green>paths</font> Jia becomes a drug addict and <font color = green>looses</font> all drive to act or even do anything productive, except for making <font color = green>somewhat</font> futile attempts at becoming a guitar virtuoso.<br /><br />I like the <font color = green>way</font> the writer of the scenario choose to emphasize on his behavior after withdrawal more than on the horror of drugs. We really feel the pain and struggle Jia is in. At the same time we hate him for the way he treats those around him.<br /><br />The film draws the viewer into a tiring pattern Jia seems to be caught in, dragging with him his parents and sister who try to take care of him. Because there are personal 'interviews' with the characters we feel like we are getting to know Jia not only through himself but through others as well.<br /><br />The film has a heavy feel, but scenes of Jia cycling through Bejing and partying with his friends lighten the tone. So does the bitter humor in a lot of events throughout the film. The music is beautiful and stayed with me for a while after. This is a film that might not easily appeal to many people but for those interested in the more serious and modern Chinese film this is a strong recommendation.<br>I saw this film at the Rotterdam International Film Festival 2002. This seemed to be one of the <font color = red>est</font> popular films on the festival, however, as it turned out, all the more interesting.<br /><br />The story, of an actor trying to come to grips with himself and his environment after withdrawing from a drug addiction, is based on actual <font color = red>s</font>. Moreover, the characters playing in the film are the <font color = red>uh</font> people living this experience over again, this time for the film, which is partly set up as a stage play. Not only do they all happen to be good actors, Jia <font color = red>say</font> parents are actors in real life as well, the <font color = red>tures</font> used in highlighting their relationship towards Jia are very effective.<br /><br />Jia <font color = red>i</font> is the actor of some Chinese action films late eighties start <font color = red>ners</font>. Later you can see him in great films such as Frozen and Suzhou River. In between these two career <font color = red>ing</font> Jia becomes a drug addict and <font color = red>zano</font> all drive to act or even do anything productive, except for making <font color = red>fully</font> futile attempts at becoming a guitar virtuoso.<br /><br />I like the <font color = red>e</font> the writer of the scenario choose to emphasize on his behavior after withdrawal more than on the horror of drugs. We really feel the pain and struggle Jia is in. At the same time we hate him for the way he treats those around him.<br /><br />The film draws the viewer into a tiring pattern Jia seems to be caught in, dragging with him his parents and sister who try to take care of him. Because there are personal 'interviews' with the characters we feel like we are getting to know Jia not only through himself but through others as well.<br /><br />The film has a heavy feel, but scenes of Jia cycling through Bejing and partying with his friends lighten the tone. So does the bitter humor in a lot of events throughout the film. The music is beautiful and stayed with me for a while after. This is a film that might not easily appeal to many people but for those interested in the more serious and modern Chinese film this is a strong recommendation."
            ],
            "text/plain": [
              "<IPython.core.display.HTML object>"
            ]
          },
          "metadata": {
            "tags": []
          }
        },
        {
          "output_type": "stream",
          "text": [
            "\n",
            "[Succeeded / Failed / Total] 5 / 9 / 15:  64%|██████▍   | 16/25 [15:41<08:49, 58.87s/it]\u001b[A\n",
            "[Succeeded / Failed / Total] 6 / 9 / 16:  64%|██████▍   | 16/25 [15:41<08:49, 58.87s/it]\u001b[A"
          ],
          "name": "stderr"
        },
        {
          "output_type": "display_data",
          "data": {
            "text/html": [
              "<font color = red>Negative (100%)</font> --> <font color = gray>[SKIPPED]</font><br>\"Night of the Hunted\" stars French porn star Brigitte Lahaie.In fact,many of the cast members in this slow-moving production were porn actors at the time of its frantic filming.This film is certainly different than Rollin's usual lesbian vampire flicks,but it's not as memorable as for example \"Lips of Blood\" or \"Fascination\".Lahaie plays an amnesiac hitchhiker who can't remember who she is or where she came from.Most of the film takes place in a modern apartment complex,where Lahaie is being held by some kind of medical group that's treating a number of people with a similar condition.Anyway,she escapes from the monolithic office tower where the affected people are held.On a highway outside of town,she meets a young man,who stops and picks her up.\"Night of the Hunted\" offers plenty of nudity,unfortunately the pace is extremely slow.The atmosphere is horribly sad and the relationship between Brigitte Lahaie and another asylum inmate Dominique Journet is well-developed.Still \"Night of the Hunted\" is too dull to be completely enjoyable.Give it a look only if you are a fan of Jean Rollin's works.7 out of 10 and that's being kind."
            ],
            "text/plain": [
              "<IPython.core.display.HTML object>"
            ]
          },
          "metadata": {
            "tags": []
          }
        },
        {
          "output_type": "stream",
          "text": [
            "\n",
            "[Succeeded / Failed / Total] 6 / 9 / 17:  68%|██████▊   | 17/25 [15:41<07:23, 55.41s/it]\u001b[A"
          ],
          "name": "stderr"
        },
        {
          "output_type": "display_data",
          "data": {
            "text/html": [
              "<font color = green>Positive (100%)</font> --> <font color = red>Negative (84%)</font><br>Even if you're a fan of Jean Rollin's idiosyncratic body of work, you will be caught off guard by this exceptional <font color = green>foray</font> into science fiction territory. For once, there's not a single diaphanously <font color = green>gowned</font> vampire girl in sight ! True to tradition, the budget proved way too <font color = green>tight</font> to realize the director's vision entirely. Yet this is largely <font color = green>compensated</font> by his obvious love of genre cinema, dedication to his craft and sheer ingenuity. Jean-Claude Couty's <font color = green>atmospheric</font> cinematography makes the most of the foreboding <font color = green>locations</font> and Philippe Bréjean (a/k/a \"Gary <font color = green>Sandeur</font>\") contributes a startling soundtrack that <font color = green>fortunately</font> doesn't resemble any of the sappy stuff he composed for hardcore.<br /><br />Shot in and around a Paris office block before and after working hours, the film was largely cast with porn regulars Rollin was already quite familiar with from his \"Michel Gentil\" cash-gathering XXX efforts, most notably French f*ck film royalty Brigitte Lahaie in the demanding lead. Playing Elisabeth (rather well, I might add), she's picked up wandering a nearby highway one night by Robert (Vincent Gardère), driving home at the end of a long work day. Barely able to piece together the string of events that got her there, Elisabeth seems to lose her memories mere moments after events occur, even forgetting Robert's name and heroic savior role before their night flight comes to an end at his apartment. Prior to making love, she rightfully describes herself as a virgin (further credit to Brigitte's thespian skills that she can handle the line so convincingly, being after all one of the more active adult actresses of the '70s) because she cannot recall a single touch preceding his. Because of this nifty bit of context, the relatively long sex scene that follows totally eschews the gratuity of other \"commercial\" interludes Rollin has had to include in other works to assure funding.<br /><br />When Robert leaves for work, he's inevitably erased from Elisabeth's feeble mind. A mysterious doctor (comedian Bernard Papineau effectively cast against type) and his menacing assistant Solange (striking porn starlet Rachel Mhas) move in on her during her protector's absence and take her back to the place she turns out to have escaped from. Here we get one of the movie's strongest scenes as she's re-introduced to her roommate Catherine (the late Cathérine Greiner a/k/a hardcore performer \"Cathy Stewart\" in a quietly devastating turn), both girls desperately supplying fictitious shared \"memories\" for one another in a bid to outrun their inevitable fate. That deterioration is not solely limited to the mind becomes painfully clear when they are served lunch and Catherine's unable to control her movements in trying to eat a spoonful of soup. It's also Catherine who gets to voice the filmmaker's compromise with the demands of commerce as she urges Elisabeth to get naked and hold her because sex is all they have left now that both mind and physical faculties have deserted them.<br /><br />Several rather explicit - if not quite hardcore - sex scenes make up the movie's mid-section and French porn aficionados should recognize the likes of Alain Plumey (a/k/a \"Cyril Val\"), Jacques Gateau and Elodie Delage, along with a blink and miss bit from future porno princess Marilyn Jess whose rape at the hands, mouth and member of Plumey was only present in the film's rarely screened XXX version FILLES TRAQUEES. The pivotal part of Véronique, a girl Elisabeth almost seems to remember and whom she seeks to escape anew with, is beautifully handled by the exquisite Dominique Journet - in her unforgettable debut - who would go on to play a sizable supporting role in Franco Zeffirelli's LA TRAVIATA. The six feet under ending reveals the deteriorating condition to be the result of a nuclear spill, the quarantined \"patients\" ultimately leaving a barely breathing empty shell, unceremoniously disposed off in a fiery furnace. The final shot offers a particularly heartbreaking variation on that of Chaplin's MODERN TIMES as Elisabeth, approaching complete meltdown by now, and a wounded Robert stumble along the railroad bridge, clumsily clasping each other's outstretched hands.<br>Even if you're a fan of Jean Rollin's idiosyncratic body of work, you will be caught off guard by this exceptional <font color = red>fall</font> into science fiction territory. For once, there's not a single diaphanously <font color = red>zzled</font> vampire girl in sight ! True to tradition, the budget proved way too <font color = red>rous</font> to realize the director's vision entirely. Yet this is largely <font color = red>ated</font> by his obvious love of genre cinema, dedication to his craft and sheer ingenuity. Jean-Claude Couty's <font color = red>achal</font> cinematography makes the most of the foreboding <font color = red>ities</font> and Philippe Bréjean (a/k/a \"Gary <font color = red>r</font>\") contributes a startling soundtrack that <font color = red>ically</font> doesn't resemble any of the sappy stuff he composed for hardcore.<br /><br />Shot in and around a Paris office block before and after working hours, the film was largely cast with porn regulars Rollin was already quite familiar with from his \"Michel Gentil\" cash-gathering XXX efforts, most notably French f*ck film royalty Brigitte Lahaie in the demanding lead. Playing Elisabeth (rather well, I might add), she's picked up wandering a nearby highway one night by Robert (Vincent Gardère), driving home at the end of a long work day. Barely able to piece together the string of events that got her there, Elisabeth seems to lose her memories mere moments after events occur, even forgetting Robert's name and heroic savior role before their night flight comes to an end at his apartment. Prior to making love, she rightfully describes herself as a virgin (further credit to Brigitte's thespian skills that she can handle the line so convincingly, being after all one of the more active adult actresses of the '70s) because she cannot recall a single touch preceding his. Because of this nifty bit of context, the relatively long sex scene that follows totally eschews the gratuity of other \"commercial\" interludes Rollin has had to include in other works to assure funding.<br /><br />When Robert leaves for work, he's inevitably erased from Elisabeth's feeble mind. A mysterious doctor (comedian Bernard Papineau effectively cast against type) and his menacing assistant Solange (striking porn starlet Rachel Mhas) move in on her during her protector's absence and take her back to the place she turns out to have escaped from. Here we get one of the movie's strongest scenes as she's re-introduced to her roommate Catherine (the late Cathérine Greiner a/k/a hardcore performer \"Cathy Stewart\" in a quietly devastating turn), both girls desperately supplying fictitious shared \"memories\" for one another in a bid to outrun their inevitable fate. That deterioration is not solely limited to the mind becomes painfully clear when they are served lunch and Catherine's unable to control her movements in trying to eat a spoonful of soup. It's also Catherine who gets to voice the filmmaker's compromise with the demands of commerce as she urges Elisabeth to get naked and hold her because sex is all they have left now that both mind and physical faculties have deserted them.<br /><br />Several rather explicit - if not quite hardcore - sex scenes make up the movie's mid-section and French porn aficionados should recognize the likes of Alain Plumey (a/k/a \"Cyril Val\"), Jacques Gateau and Elodie Delage, along with a blink and miss bit from future porno princess Marilyn Jess whose rape at the hands, mouth and member of Plumey was only present in the film's rarely screened XXX version FILLES TRAQUEES. The pivotal part of Véronique, a girl Elisabeth almost seems to remember and whom she seeks to escape anew with, is beautifully handled by the exquisite Dominique Journet - in her unforgettable debut - who would go on to play a sizable supporting role in Franco Zeffirelli's LA TRAVIATA. The six feet under ending reveals the deteriorating condition to be the result of a nuclear spill, the quarantined \"patients\" ultimately leaving a barely breathing empty shell, unceremoniously disposed off in a fiery furnace. The final shot offers a particularly heartbreaking variation on that of Chaplin's MODERN TIMES as Elisabeth, approaching complete meltdown by now, and a wounded Robert stumble along the railroad bridge, clumsily clasping each other's outstretched hands."
            ],
            "text/plain": [
              "<IPython.core.display.HTML object>"
            ]
          },
          "metadata": {
            "tags": []
          }
        },
        {
          "output_type": "stream",
          "text": [
            "\n",
            "[Succeeded / Failed / Total] 6 / 9 / 17:  72%|███████▏  | 18/25 [16:13<06:18, 54.10s/it]\u001b[A\n",
            "[Succeeded / Failed / Total] 7 / 9 / 18:  72%|███████▏  | 18/25 [16:13<06:18, 54.10s/it]\u001b[A"
          ],
          "name": "stderr"
        },
        {
          "output_type": "display_data",
          "data": {
            "text/html": [
              "<font color = green>Positive (100%)</font> --> <font color = red>[FAILED]</font><br>I was surprised how much I enjoyed this. Sure it is a bit slow moving in parts, but what else would one expect from Rollin? Also there is plenty of nudity, nothing wrong with that, particularly as it includes lots of the gorgeous, Brigitte Lahaie. There are also some spectacularly eroticised female dead, bit more dodgey, perhaps, but most effective. There is also a sci-fi like storyline with a brief explanation at the end, but I wouldn't bother too much with that. No, here we have a most interesting exploration of memory and the effect of memory loss and to just what extent one is still 'alive' without memory. My DVD sleeve mentions David Cronenberg and whilst this is perhaps not quite as good as his best films, there is some similarity here, particularly with the great use of seemingly menacing architecture and the effective and creepy use of inside space. As I have tried to indicate this is by no means a rip roaring thriller, it is a captivating, nightmare like movie that makes the very most of its locations, including a stunning railway setting at the end."
            ],
            "text/plain": [
              "<IPython.core.display.HTML object>"
            ]
          },
          "metadata": {
            "tags": []
          }
        },
        {
          "output_type": "stream",
          "text": [
            "\n",
            "[Succeeded / Failed / Total] 7 / 9 / 18:  76%|███████▌  | 19/25 [16:56<05:21, 53.52s/it]\u001b[A\n",
            "[Succeeded / Failed / Total] 7 / 10 / 19:  76%|███████▌  | 19/25 [16:56<05:21, 53.52s/it]\u001b[A"
          ],
          "name": "stderr"
        },
        {
          "output_type": "display_data",
          "data": {
            "text/html": [
              "<font color = green>Positive (100%)</font> --> <font color = red>Negative (78%)</font><br>I went into \"Night of the Hunted\" not knowing what to expect at all. I was really <font color = green>impressed</font>.<br /><br />It is essentially a mystery/thriller where this girl who can't remember anything gets 'rescued' by a guy who happens to be driving past. The two become fast friends and lovers and together, they try to figure out what is going on with her. Through some vague flashbacks and grim memories, they eventually get to the bottom of it and the ending is pretty cool.<br /><br />I really liked the setting of this one: a desolate, post-modern Paris is the backdrop with lots of gray skies and tall buildings. Very metropolitan. Groovy soundtrack and lots of nudity.<br /><br />Surprising it was made in 1980; seems somewhat ahead of it's time.<br /><br />8 out of 10, kids.<br>I went into \"Night of the Hunted\" not knowing what to expect at all. I was really <font color = red>cky</font>.<br /><br />It is essentially a mystery/thriller where this girl who can't remember anything gets 'rescued' by a guy who happens to be driving past. The two become fast friends and lovers and together, they try to figure out what is going on with her. Through some vague flashbacks and grim memories, they eventually get to the bottom of it and the ending is pretty cool.<br /><br />I really liked the setting of this one: a desolate, post-modern Paris is the backdrop with lots of gray skies and tall buildings. Very metropolitan. Groovy soundtrack and lots of nudity.<br /><br />Surprising it was made in 1980; seems somewhat ahead of it's time.<br /><br />8 out of 10, kids."
            ],
            "text/plain": [
              "<IPython.core.display.HTML object>"
            ]
          },
          "metadata": {
            "tags": []
          }
        },
        {
          "output_type": "stream",
          "text": [
            "\n",
            "[Succeeded / Failed / Total] 7 / 10 / 19:  80%|████████  | 20/25 [17:00<04:15, 51.02s/it]\u001b[A\n",
            "[Succeeded / Failed / Total] 8 / 10 / 20:  80%|████████  | 20/25 [17:00<04:15, 51.02s/it]\u001b[A"
          ],
          "name": "stderr"
        },
        {
          "output_type": "display_data",
          "data": {
            "text/html": [
              "<font color = green>Positive (60%)</font> --> <font color = red>Negative (91%)</font><br>I have certainly not seen all of Jean Rollin's films, but they mostly seem to be bloody vampire naked women fests, which if you like that sort of thing is not bad, but this is a major departure and could almost be Cronenberg minus the bio-mechanical nightmarish stuff. Except it's in French with subtitles of course. A man driving on the road at night comes across a woman that is in her slippers and bathrobe and picks her up, while in the background yet another woman lingers, wearing nothing. As they drive along it's obvious that there is something not right about the woman, in that she forgets things almost as quickly as they happen. Still though, that doesn't prevent the man from having sex with her once they return to Paris & his apartment. The man leaves for work and some strangers show up at his place and take the woman away to this 'tower block', a huge apartment building referred to as the Black Tower, where others of her kind (for whom the 'no memory' things seems to be the least of their problems) are being held for some reason. Time and <font color = green>events</font> march by in the movie, which involve mostly trying to find what's going on and get out of the building for this woman, and she does manage to call Robert, the guy that picked her up in the first place, to come rescue her. The revelation as to what's going on comes in the last few moments of the movie, which has a rather strange yet touching end to it. In avoiding what seemed to be his \"typical\" formula, Rollin created, in this, what I feel is his most fascinating and disturbing film. I like this one a lot, check it out. 8 out of 10.<br>I have certainly not seen all of Jean Rollin's films, but they mostly seem to be bloody vampire naked women fests, which if you like that sort of thing is not bad, but this is a major departure and could almost be Cronenberg minus the bio-mechanical nightmarish stuff. Except it's in French with subtitles of course. A man driving on the road at night comes across a woman that is in her slippers and bathrobe and picks her up, while in the background yet another woman lingers, wearing nothing. As they drive along it's obvious that there is something not right about the woman, in that she forgets things almost as quickly as they happen. Still though, that doesn't prevent the man from having sex with her once they return to Paris & his apartment. The man leaves for work and some strangers show up at his place and take the woman away to this 'tower block', a huge apartment building referred to as the Black Tower, where others of her kind (for whom the 'no memory' things seems to be the least of their problems) are being held for some reason. Time and <font color = red>pheus</font> march by in the movie, which involve mostly trying to find what's going on and get out of the building for this woman, and she does manage to call Robert, the guy that picked her up in the first place, to come rescue her. The revelation as to what's going on comes in the last few moments of the movie, which has a rather strange yet touching end to it. In avoiding what seemed to be his \"typical\" formula, Rollin created, in this, what I feel is his most fascinating and disturbing film. I like this one a lot, check it out. 8 out of 10."
            ],
            "text/plain": [
              "<IPython.core.display.HTML object>"
            ]
          },
          "metadata": {
            "tags": []
          }
        },
        {
          "output_type": "stream",
          "text": [
            "\n",
            "[Succeeded / Failed / Total] 8 / 10 / 20:  84%|████████▍ | 21/25 [17:07<03:15, 48.92s/it]\u001b[A\n",
            "[Succeeded / Failed / Total] 9 / 10 / 21:  84%|████████▍ | 21/25 [17:07<03:15, 48.92s/it]\u001b[A"
          ],
          "name": "stderr"
        },
        {
          "output_type": "display_data",
          "data": {
            "text/html": [
              "<font color = green>Positive (100%)</font> --> <font color = red>Negative (71%)</font><br>Since this cartoon was made in the old <font color = green>days</font>, Felix talks using cartoon bubbles and the animation <font color = green>style</font> is very crude when compared to today. <font color = green>However</font>, compared to its contemporaries, it's a pretty good cartoon and still holds up well. That's because <font color = green>despite</font> its age, the cartoon is very creative and <font color = green>funny</font>.<br /><br />Felix meets a guy whose shoe business is folding because he can't sell any shoes. Well, Felix needs money so he can go to Hollywood, so he tells the guy at the shop he'll get every shoe sold. Felix spreads chewing gum all over town and soon people are stuck and leave their shoes--rushing to buy new ones from the shoe store. In gratitude, the guy gives Felix $500! However, Felix's owner wants to take the money and go alone, so Felix figures out a way to sneak along.<br /><br />Once there, Felix barges into a studio and makes a bit of a nuisance of himself. Along the way, he <font color = green>meets</font> cartoon versions of comics Ben Turpin and Charlie Chaplin. In the <font color = green>end</font>, though, through luck, Felix is discovered and offered a movie contract. Hurray!<br>Since this cartoon was made in the old <font color = red>box</font>, Felix talks using cartoon bubbles and the animation <font color = red>werk</font> is very crude when compared to today. <font color = red>ingly</font>, compared to its contemporaries, it's a pretty good cartoon and still holds up well. That's because <font color = red>on</font> its age, the cartoon is very creative and <font color = red>cky</font>.<br /><br />Felix meets a guy whose shoe business is folding because he can't sell any shoes. Well, Felix needs money so he can go to Hollywood, so he tells the guy at the shop he'll get every shoe sold. Felix spreads chewing gum all over town and soon people are stuck and leave their shoes--rushing to buy new ones from the shoe store. In gratitude, the guy gives Felix $500! However, Felix's owner wants to take the money and go alone, so Felix figures out a way to sneak along.<br /><br />Once there, Felix barges into a studio and makes a bit of a nuisance of himself. Along the way, he <font color = red>izes</font> cartoon versions of comics Ben Turpin and Charlie Chaplin. In the <font color = red>eries</font>, though, through luck, Felix is discovered and offered a movie contract. Hurray!"
            ],
            "text/plain": [
              "<IPython.core.display.HTML object>"
            ]
          },
          "metadata": {
            "tags": []
          }
        },
        {
          "output_type": "stream",
          "text": [
            "\n",
            "[Succeeded / Failed / Total] 9 / 10 / 21:  88%|████████▊ | 22/25 [17:19<02:21, 47.27s/it]\u001b[A\n",
            "[Succeeded / Failed / Total] 10 / 10 / 22:  88%|████████▊ | 22/25 [17:19<02:21, 47.27s/it]\u001b[A"
          ],
          "name": "stderr"
        },
        {
          "output_type": "display_data",
          "data": {
            "text/html": [
              "<font color = green>Positive (100%)</font> --> <font color = red>Negative (98%)</font><br>Despite the title and <font color = green>unlike</font> some other stories about love and war, this film isn't too sticky and pink, because love is as a <font color = green>rose</font>: <font color = green>With</font> thorns, that is. The four leading actors set their characters realistic and with a good sense and <font color = green>balance</font> between the tragic and the down-to-earth. <br /><br />The music and lyrics of the <font color = green>cabaret</font>/chanson-esquire songs (sung b Keira Knightley herself) drag the <font color = green>viewer</font> deeper and deeper in the film, from one place to another, between the <font color = green>brutal</font> war and amongst the peaceful love. Some people <font color = green>may</font> <font color = green>find</font> it too much a biopic, but it <font color = green>ís</font> mostly a romantic story, even though it consequently <font color = green>follows</font> the life of Dylan Thomas and the triangular relationship which is <font color = green>steeped</font> by joy and jealousy. <br /><br />London <font color = green>gets</font> <font color = green>visualized</font> from another angle for once, the bohemian <font color = green>life</font> of Dylan during the bombings of the Germans is <font color = green>set</font> in a floating atmosphere of small bedrooms, pubs and <font color = green>bars</font>. <font color = green>The</font> independent women, the soldier and the charismatic poet are constantly <font color = green>swept</font> in both feelings of love and anger. <br /><<font color = green>br</font> /><font color = green>Maybe</font> the end is too twisted and hangs <font color = green>somewhat</font> <font color = green>loosely</font> to the rest of the film, but all in all this is a great romantic story.<br>Despite the title and <font color = red>with</font> some other stories about love and war, this film isn't too sticky and pink, because love is as a <font color = red>flower</font>: <font color = red>with</font> thorns, that is. The four leading actors set their characters realistic and with a good sense and <font color = red>way</font> between the tragic and the down-to-earth. <br /><br />The music and lyrics of the <font color = red>vet</font>/chanson-esquire songs (sung b Keira Knightley herself) drag the <font color = red>r</font> deeper and deeper in the film, from one place to another, between the <font color = red>fk</font> war and amongst the peaceful love. Some people <font color = red>can</font> <font color = red>qu</font> it too much a biopic, but it <font color = red>inates</font> mostly a romantic story, even though it consequently <font color = red>odies</font> the life of Dylan Thomas and the triangular relationship which is <font color = red>uted</font> by joy and jealousy. <br /><br />London <font color = red>s</font> <font color = red>tched</font> from another angle for once, the bohemian <font color = red>view</font> of Dylan during the bombings of the Germans is <font color = red>cut</font> in a floating atmosphere of small bedrooms, pubs and <font color = red>town</font>. <font color = red>a</font> independent women, the soldier and the charismatic poet are constantly <font color = red>laid</font> in both feelings of love and anger. <br /><<font color = red>b</font> /><font color = red>now</font> the end is too twisted and hangs <font color = red>back</font> <font color = red>well</font> to the rest of the film, but all in all this is a great romantic story."
            ],
            "text/plain": [
              "<IPython.core.display.HTML object>"
            ]
          },
          "metadata": {
            "tags": []
          }
        },
        {
          "output_type": "stream",
          "text": [
            "\n",
            "[Succeeded / Failed / Total] 10 / 10 / 22:  92%|█████████▏| 23/25 [18:03<01:34, 47.11s/it]\u001b[A\n",
            "[Succeeded / Failed / Total] 11 / 10 / 23:  92%|█████████▏| 23/25 [18:03<01:34, 47.11s/it]\u001b[A"
          ],
          "name": "stderr"
        },
        {
          "output_type": "display_data",
          "data": {
            "text/html": [
              "<font color = green>Positive (100%)</font> --> <font color = red>[FAILED]</font><br>Felix in Hollywood is a great film. The version I viewed was very well restored, which is sometimes a problem with these silent era animated films. It has some of Hollywood's most famous stars making cameo animated appearances. A must for any silent film or animation enthusiast."
            ],
            "text/plain": [
              "<IPython.core.display.HTML object>"
            ]
          },
          "metadata": {
            "tags": []
          }
        },
        {
          "output_type": "stream",
          "text": [
            "\n",
            "[Succeeded / Failed / Total] 11 / 10 / 23:  96%|█████████▌| 24/25 [18:13<00:45, 45.55s/it]\u001b[A\n",
            "[Succeeded / Failed / Total] 11 / 11 / 24:  96%|█████████▌| 24/25 [18:13<00:45, 45.55s/it]\u001b[A"
          ],
          "name": "stderr"
        },
        {
          "output_type": "display_data",
          "data": {
            "text/html": [
              "<font color = green>Positive (100%)</font> --> <font color = red>[FAILED]</font><br>A gem of a cartoon from the silent era---it was re-discovered by CARTOON NETWORK, and was broadcast for likely the first time in decades, if ever.<br /><br />What makes this so enjoyable are the varied cameos...Douglas Fairbanks is attacked by giant mosquitos; Will Hays pays a visit as 'boss' of Static Studios; as well as appearances by Chaplin, Keaton, and William S. Hart. The image of chewing gum decimating the shoes of the populace (a money-making idea for Felix's near-bankrupt shoe-=salesman boss) cannot be described--it must be viewed. A terrific cultural gem."
            ],
            "text/plain": [
              "<IPython.core.display.HTML object>"
            ]
          },
          "metadata": {
            "tags": []
          }
        },
        {
          "output_type": "stream",
          "text": [
            "\n",
            "[Succeeded / Failed / Total] 11 / 11 / 24: 100%|██████████| 25/25 [18:36<00:00, 44.68s/it]\u001b[A\n",
            "[Succeeded / Failed / Total] 11 / 12 / 25: 100%|██████████| 25/25 [18:36<00:00, 44.68s/it]\u001b[A"
          ],
          "name": "stderr"
        },
        {
          "output_type": "display_data",
          "data": {
            "text/html": [
              "<font color = green>Positive (100%)</font> --> <font color = red>[FAILED]</font><br>This short is one of the best of all time and is proof (just like most of Charlie Chaplin's work) that sound and color are not requirements for quality work. In fact, this cartoon uses (and may have started) some of the gags and devices that became standard in animation in later years, like caricatures of celebrities (including the afore-mentioned Chaplin. While the characters are silent, they do \"speak\", by use of word balloons, just like in the comics. Given that Felix started out in newspapers as a comic strip, this device is a natural. The atmosphere and style of the short is completely harmonious with that of the comic strip while adding another dimension (literally and figuratively) and makes this short a delight to watch. Well worth taking the time and effort to get. Most highly recommended."
            ],
            "text/plain": [
              "<IPython.core.display.HTML object>"
            ]
          },
          "metadata": {
            "tags": []
          }
        },
        {
          "output_type": "stream",
          "text": [
            "\n",
            "[Succeeded / Failed / Total] 11 / 12 / 25: : 26it [19:06, 44.08s/it]                      \u001b[A\n",
            "[Succeeded / Failed / Total] 11 / 13 / 26: : 26it [19:06, 44.08s/it]\u001b[A"
          ],
          "name": "stderr"
        },
        {
          "output_type": "display_data",
          "data": {
            "text/html": [
              "<font color = green>Positive (86%)</font> --> <font color = red>Negative (52%)</font><br>Felix is watching an actor rehearse his lines: \"A ham, A ham! My kingdom for a ham sandwich!!!\" <font color = green>The</font> dramatic guy that tells Felix he'll \"have to sacrifice my art and go into the movies.\" He's in tears. Felix just looks at him like he's nuts, and shrugs his shoulders. The old guy tells Felix to \"go ye forth\" and find money to finance a trip to Hollywood. Felix thinks, \"How does he expect me to get the money?\"<br /><br />In minutes, of course (this is a cartoon), he spots a shoe business owner putting up a \"bankrupt\" sale on his store. Felix comes up with a plan to bail him out and the man promises the cat $500 if it works.<br /><br />Well, it does but the man wants to go alone and leave Felix at home. In an outrageous scene, Felix transforms himself into a briefcase and <font color = green>that's</font> how he gets to Hollywood, transforming himself back to cat when they get there.<br /><br />We then witness Felix's attempts at getting into show business. His audition scenes are very funny, especially with his imitation of Charlie Chaplin. In addition there are caricatures of some famous silent film stars and executives. In all, quite a bit of material is in this 9.5- minute cartoon. It's amazing how much more you can get in an extra 2.5 minutes, assuming most animated shorts are seven minutes in length.<br /><br />At any rate, there were a number of laughs in here and more zany things you could only see in a cartoon, like Felix have a sword duel with giant mosquitoes! Crazy stuff.<br>Felix is watching an actor rehearse his lines: \"A ham, A ham! My kingdom for a ham sandwich!!!\" <font color = red>some</font> dramatic guy that tells Felix he'll \"have to sacrifice my art and go into the movies.\" He's in tears. Felix just looks at him like he's nuts, and shrugs his shoulders. The old guy tells Felix to \"go ye forth\" and find money to finance a trip to Hollywood. Felix thinks, \"How does he expect me to get the money?\"<br /><br />In minutes, of course (this is a cartoon), he spots a shoe business owner putting up a \"bankrupt\" sale on his store. Felix comes up with a plan to bail him out and the man promises the cat $500 if it works.<br /><br />Well, it does but the man wants to go alone and leave Felix at home. In an outrageous scene, Felix transforms himself into a briefcase and <font color = red>bles</font> how he gets to Hollywood, transforming himself back to cat when they get there.<br /><br />We then witness Felix's attempts at getting into show business. His audition scenes are very funny, especially with his imitation of Charlie Chaplin. In addition there are caricatures of some famous silent film stars and executives. In all, quite a bit of material is in this 9.5- minute cartoon. It's amazing how much more you can get in an extra 2.5 minutes, assuming most animated shorts are seven minutes in length.<br /><br />At any rate, there were a number of laughs in here and more zany things you could only see in a cartoon, like Felix have a sword duel with giant mosquitoes! Crazy stuff."
            ],
            "text/plain": [
              "<IPython.core.display.HTML object>"
            ]
          },
          "metadata": {
            "tags": []
          }
        },
        {
          "output_type": "stream",
          "text": [
            "\n",
            "[Succeeded / Failed / Total] 11 / 13 / 26: : 27it [19:13, 42.72s/it]\u001b[A\n",
            "[Succeeded / Failed / Total] 12 / 13 / 27: : 27it [19:13, 42.73s/it]"
          ],
          "name": "stderr"
        },
        {
          "output_type": "stream",
          "text": [
            "+-------------------------------+--------+\n",
            "| Attack Results                |        |\n",
            "+-------------------------------+--------+\n",
            "| Number of successful attacks: | 12     |\n",
            "| Number of failed attacks:     | 13     |\n",
            "| Number of skipped attacks:    | 2      |\n",
            "| Original accuracy:            | 92.59% |\n",
            "| Accuracy under attack:        | 48.15% |\n",
            "| Attack success rate:          | 48.0%  |\n",
            "| Average perturbed word %:     | 2.97%  |\n",
            "| Average num. words per input: | 248.96 |\n",
            "| Avg num queries:              | 561.52 |\n",
            "+-------------------------------+--------+"
          ],
          "name": "stdout"
        },
        {
          "output_type": "stream",
          "text": [
            "\n",
            "\u001b[34;1mtextattack\u001b[0m: Attack time: 1153.5890488624573s\n"
          ],
          "name": "stderr"
        }
      ]
    },
    {
      "cell_type": "code",
      "metadata": {
        "id": "Zhke_Pl-dOa5"
      },
      "source": [
        ""
      ],
      "execution_count": null,
      "outputs": []
    }
  ]
}