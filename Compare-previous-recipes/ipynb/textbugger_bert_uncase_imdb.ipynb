{
  "nbformat": 4,
  "nbformat_minor": 0,
  "metadata": {
    "colab": {
      "name": "textbugger_bert_uncase_imdb.ipynb",
      "provenance": [],
      "collapsed_sections": []
    },
    "kernelspec": {
      "name": "python3",
      "display_name": "Python 3"
    },
    "language_info": {
      "name": "python"
    },
    "accelerator": "GPU",
    "widgets": {
      "application/vnd.jupyter.widget-state+json": {
        "37fcdcb321ca413c81e8ca4be5b4fbe1": {
          "model_module": "@jupyter-widgets/controls",
          "model_name": "HBoxModel",
          "state": {
            "_view_name": "HBoxView",
            "_dom_classes": [],
            "_model_name": "HBoxModel",
            "_view_module": "@jupyter-widgets/controls",
            "_model_module_version": "1.5.0",
            "_view_count": null,
            "_view_module_version": "1.5.0",
            "box_style": "",
            "layout": "IPY_MODEL_cdfaa959dc23416ea5f8d4a9df1549e1",
            "_model_module": "@jupyter-widgets/controls",
            "children": [
              "IPY_MODEL_416ddb007a6f4963a023a62f3d8ed516",
              "IPY_MODEL_2648e3ea92f44cc7bf376a73afefd39b"
            ]
          }
        },
        "cdfaa959dc23416ea5f8d4a9df1549e1": {
          "model_module": "@jupyter-widgets/base",
          "model_name": "LayoutModel",
          "state": {
            "_view_name": "LayoutView",
            "grid_template_rows": null,
            "right": null,
            "justify_content": null,
            "_view_module": "@jupyter-widgets/base",
            "overflow": null,
            "_model_module_version": "1.2.0",
            "_view_count": null,
            "flex_flow": null,
            "width": null,
            "min_width": null,
            "border": null,
            "align_items": null,
            "bottom": null,
            "_model_module": "@jupyter-widgets/base",
            "top": null,
            "grid_column": null,
            "overflow_y": null,
            "overflow_x": null,
            "grid_auto_flow": null,
            "grid_area": null,
            "grid_template_columns": null,
            "flex": null,
            "_model_name": "LayoutModel",
            "justify_items": null,
            "grid_row": null,
            "max_height": null,
            "align_content": null,
            "visibility": null,
            "align_self": null,
            "height": null,
            "min_height": null,
            "padding": null,
            "grid_auto_rows": null,
            "grid_gap": null,
            "max_width": null,
            "order": null,
            "_view_module_version": "1.2.0",
            "grid_template_areas": null,
            "object_position": null,
            "object_fit": null,
            "grid_auto_columns": null,
            "margin": null,
            "display": null,
            "left": null
          }
        },
        "416ddb007a6f4963a023a62f3d8ed516": {
          "model_module": "@jupyter-widgets/controls",
          "model_name": "FloatProgressModel",
          "state": {
            "_view_name": "ProgressView",
            "style": "IPY_MODEL_ef586dfe220d412c9d21f7c22b0f7a2e",
            "_dom_classes": [],
            "description": "Downloading: 100%",
            "_model_name": "FloatProgressModel",
            "bar_style": "success",
            "max": 511,
            "_view_module": "@jupyter-widgets/controls",
            "_model_module_version": "1.5.0",
            "value": 511,
            "_view_count": null,
            "_view_module_version": "1.5.0",
            "orientation": "horizontal",
            "min": 0,
            "description_tooltip": null,
            "_model_module": "@jupyter-widgets/controls",
            "layout": "IPY_MODEL_63c4aeec061248cbad4d5caca01f4cf4"
          }
        },
        "2648e3ea92f44cc7bf376a73afefd39b": {
          "model_module": "@jupyter-widgets/controls",
          "model_name": "HTMLModel",
          "state": {
            "_view_name": "HTMLView",
            "style": "IPY_MODEL_a88ccd49c88c49399ee445be4dc8db9a",
            "_dom_classes": [],
            "description": "",
            "_model_name": "HTMLModel",
            "placeholder": "​",
            "_view_module": "@jupyter-widgets/controls",
            "_model_module_version": "1.5.0",
            "value": " 511/511 [00:00&lt;00:00, 2.00kB/s]",
            "_view_count": null,
            "_view_module_version": "1.5.0",
            "description_tooltip": null,
            "_model_module": "@jupyter-widgets/controls",
            "layout": "IPY_MODEL_dcf213efbc604ced8e4ea53893f5436f"
          }
        },
        "ef586dfe220d412c9d21f7c22b0f7a2e": {
          "model_module": "@jupyter-widgets/controls",
          "model_name": "ProgressStyleModel",
          "state": {
            "_view_name": "StyleView",
            "_model_name": "ProgressStyleModel",
            "description_width": "initial",
            "_view_module": "@jupyter-widgets/base",
            "_model_module_version": "1.5.0",
            "_view_count": null,
            "_view_module_version": "1.2.0",
            "bar_color": null,
            "_model_module": "@jupyter-widgets/controls"
          }
        },
        "63c4aeec061248cbad4d5caca01f4cf4": {
          "model_module": "@jupyter-widgets/base",
          "model_name": "LayoutModel",
          "state": {
            "_view_name": "LayoutView",
            "grid_template_rows": null,
            "right": null,
            "justify_content": null,
            "_view_module": "@jupyter-widgets/base",
            "overflow": null,
            "_model_module_version": "1.2.0",
            "_view_count": null,
            "flex_flow": null,
            "width": null,
            "min_width": null,
            "border": null,
            "align_items": null,
            "bottom": null,
            "_model_module": "@jupyter-widgets/base",
            "top": null,
            "grid_column": null,
            "overflow_y": null,
            "overflow_x": null,
            "grid_auto_flow": null,
            "grid_area": null,
            "grid_template_columns": null,
            "flex": null,
            "_model_name": "LayoutModel",
            "justify_items": null,
            "grid_row": null,
            "max_height": null,
            "align_content": null,
            "visibility": null,
            "align_self": null,
            "height": null,
            "min_height": null,
            "padding": null,
            "grid_auto_rows": null,
            "grid_gap": null,
            "max_width": null,
            "order": null,
            "_view_module_version": "1.2.0",
            "grid_template_areas": null,
            "object_position": null,
            "object_fit": null,
            "grid_auto_columns": null,
            "margin": null,
            "display": null,
            "left": null
          }
        },
        "a88ccd49c88c49399ee445be4dc8db9a": {
          "model_module": "@jupyter-widgets/controls",
          "model_name": "DescriptionStyleModel",
          "state": {
            "_view_name": "StyleView",
            "_model_name": "DescriptionStyleModel",
            "description_width": "",
            "_view_module": "@jupyter-widgets/base",
            "_model_module_version": "1.5.0",
            "_view_count": null,
            "_view_module_version": "1.2.0",
            "_model_module": "@jupyter-widgets/controls"
          }
        },
        "dcf213efbc604ced8e4ea53893f5436f": {
          "model_module": "@jupyter-widgets/base",
          "model_name": "LayoutModel",
          "state": {
            "_view_name": "LayoutView",
            "grid_template_rows": null,
            "right": null,
            "justify_content": null,
            "_view_module": "@jupyter-widgets/base",
            "overflow": null,
            "_model_module_version": "1.2.0",
            "_view_count": null,
            "flex_flow": null,
            "width": null,
            "min_width": null,
            "border": null,
            "align_items": null,
            "bottom": null,
            "_model_module": "@jupyter-widgets/base",
            "top": null,
            "grid_column": null,
            "overflow_y": null,
            "overflow_x": null,
            "grid_auto_flow": null,
            "grid_area": null,
            "grid_template_columns": null,
            "flex": null,
            "_model_name": "LayoutModel",
            "justify_items": null,
            "grid_row": null,
            "max_height": null,
            "align_content": null,
            "visibility": null,
            "align_self": null,
            "height": null,
            "min_height": null,
            "padding": null,
            "grid_auto_rows": null,
            "grid_gap": null,
            "max_width": null,
            "order": null,
            "_view_module_version": "1.2.0",
            "grid_template_areas": null,
            "object_position": null,
            "object_fit": null,
            "grid_auto_columns": null,
            "margin": null,
            "display": null,
            "left": null
          }
        },
        "9579cb46cbe748e3a2fc4e1129d8a47f": {
          "model_module": "@jupyter-widgets/controls",
          "model_name": "HBoxModel",
          "state": {
            "_view_name": "HBoxView",
            "_dom_classes": [],
            "_model_name": "HBoxModel",
            "_view_module": "@jupyter-widgets/controls",
            "_model_module_version": "1.5.0",
            "_view_count": null,
            "_view_module_version": "1.5.0",
            "box_style": "",
            "layout": "IPY_MODEL_b0cfe1f4ce924fd58c1736845a03a337",
            "_model_module": "@jupyter-widgets/controls",
            "children": [
              "IPY_MODEL_c2745dfa849740afb03f88bb01fa13e3",
              "IPY_MODEL_26250267e1bd4d6592d676aa13779910"
            ]
          }
        },
        "b0cfe1f4ce924fd58c1736845a03a337": {
          "model_module": "@jupyter-widgets/base",
          "model_name": "LayoutModel",
          "state": {
            "_view_name": "LayoutView",
            "grid_template_rows": null,
            "right": null,
            "justify_content": null,
            "_view_module": "@jupyter-widgets/base",
            "overflow": null,
            "_model_module_version": "1.2.0",
            "_view_count": null,
            "flex_flow": null,
            "width": null,
            "min_width": null,
            "border": null,
            "align_items": null,
            "bottom": null,
            "_model_module": "@jupyter-widgets/base",
            "top": null,
            "grid_column": null,
            "overflow_y": null,
            "overflow_x": null,
            "grid_auto_flow": null,
            "grid_area": null,
            "grid_template_columns": null,
            "flex": null,
            "_model_name": "LayoutModel",
            "justify_items": null,
            "grid_row": null,
            "max_height": null,
            "align_content": null,
            "visibility": null,
            "align_self": null,
            "height": null,
            "min_height": null,
            "padding": null,
            "grid_auto_rows": null,
            "grid_gap": null,
            "max_width": null,
            "order": null,
            "_view_module_version": "1.2.0",
            "grid_template_areas": null,
            "object_position": null,
            "object_fit": null,
            "grid_auto_columns": null,
            "margin": null,
            "display": null,
            "left": null
          }
        },
        "c2745dfa849740afb03f88bb01fa13e3": {
          "model_module": "@jupyter-widgets/controls",
          "model_name": "FloatProgressModel",
          "state": {
            "_view_name": "ProgressView",
            "style": "IPY_MODEL_0fc07bd657bd43cebcd4221f62485686",
            "_dom_classes": [],
            "description": "Downloading: 100%",
            "_model_name": "FloatProgressModel",
            "bar_style": "success",
            "max": 437985387,
            "_view_module": "@jupyter-widgets/controls",
            "_model_module_version": "1.5.0",
            "value": 437985387,
            "_view_count": null,
            "_view_module_version": "1.5.0",
            "orientation": "horizontal",
            "min": 0,
            "description_tooltip": null,
            "_model_module": "@jupyter-widgets/controls",
            "layout": "IPY_MODEL_1531456c6c0e4357848b99ec697f4117"
          }
        },
        "26250267e1bd4d6592d676aa13779910": {
          "model_module": "@jupyter-widgets/controls",
          "model_name": "HTMLModel",
          "state": {
            "_view_name": "HTMLView",
            "style": "IPY_MODEL_c3f2af8743aa49b4a39984772bdf142e",
            "_dom_classes": [],
            "description": "",
            "_model_name": "HTMLModel",
            "placeholder": "​",
            "_view_module": "@jupyter-widgets/controls",
            "_model_module_version": "1.5.0",
            "value": " 438M/438M [00:08&lt;00:00, 51.7MB/s]",
            "_view_count": null,
            "_view_module_version": "1.5.0",
            "description_tooltip": null,
            "_model_module": "@jupyter-widgets/controls",
            "layout": "IPY_MODEL_0dc2b4c81e0749d39114318f473466a9"
          }
        },
        "0fc07bd657bd43cebcd4221f62485686": {
          "model_module": "@jupyter-widgets/controls",
          "model_name": "ProgressStyleModel",
          "state": {
            "_view_name": "StyleView",
            "_model_name": "ProgressStyleModel",
            "description_width": "initial",
            "_view_module": "@jupyter-widgets/base",
            "_model_module_version": "1.5.0",
            "_view_count": null,
            "_view_module_version": "1.2.0",
            "bar_color": null,
            "_model_module": "@jupyter-widgets/controls"
          }
        },
        "1531456c6c0e4357848b99ec697f4117": {
          "model_module": "@jupyter-widgets/base",
          "model_name": "LayoutModel",
          "state": {
            "_view_name": "LayoutView",
            "grid_template_rows": null,
            "right": null,
            "justify_content": null,
            "_view_module": "@jupyter-widgets/base",
            "overflow": null,
            "_model_module_version": "1.2.0",
            "_view_count": null,
            "flex_flow": null,
            "width": null,
            "min_width": null,
            "border": null,
            "align_items": null,
            "bottom": null,
            "_model_module": "@jupyter-widgets/base",
            "top": null,
            "grid_column": null,
            "overflow_y": null,
            "overflow_x": null,
            "grid_auto_flow": null,
            "grid_area": null,
            "grid_template_columns": null,
            "flex": null,
            "_model_name": "LayoutModel",
            "justify_items": null,
            "grid_row": null,
            "max_height": null,
            "align_content": null,
            "visibility": null,
            "align_self": null,
            "height": null,
            "min_height": null,
            "padding": null,
            "grid_auto_rows": null,
            "grid_gap": null,
            "max_width": null,
            "order": null,
            "_view_module_version": "1.2.0",
            "grid_template_areas": null,
            "object_position": null,
            "object_fit": null,
            "grid_auto_columns": null,
            "margin": null,
            "display": null,
            "left": null
          }
        },
        "c3f2af8743aa49b4a39984772bdf142e": {
          "model_module": "@jupyter-widgets/controls",
          "model_name": "DescriptionStyleModel",
          "state": {
            "_view_name": "StyleView",
            "_model_name": "DescriptionStyleModel",
            "description_width": "",
            "_view_module": "@jupyter-widgets/base",
            "_model_module_version": "1.5.0",
            "_view_count": null,
            "_view_module_version": "1.2.0",
            "_model_module": "@jupyter-widgets/controls"
          }
        },
        "0dc2b4c81e0749d39114318f473466a9": {
          "model_module": "@jupyter-widgets/base",
          "model_name": "LayoutModel",
          "state": {
            "_view_name": "LayoutView",
            "grid_template_rows": null,
            "right": null,
            "justify_content": null,
            "_view_module": "@jupyter-widgets/base",
            "overflow": null,
            "_model_module_version": "1.2.0",
            "_view_count": null,
            "flex_flow": null,
            "width": null,
            "min_width": null,
            "border": null,
            "align_items": null,
            "bottom": null,
            "_model_module": "@jupyter-widgets/base",
            "top": null,
            "grid_column": null,
            "overflow_y": null,
            "overflow_x": null,
            "grid_auto_flow": null,
            "grid_area": null,
            "grid_template_columns": null,
            "flex": null,
            "_model_name": "LayoutModel",
            "justify_items": null,
            "grid_row": null,
            "max_height": null,
            "align_content": null,
            "visibility": null,
            "align_self": null,
            "height": null,
            "min_height": null,
            "padding": null,
            "grid_auto_rows": null,
            "grid_gap": null,
            "max_width": null,
            "order": null,
            "_view_module_version": "1.2.0",
            "grid_template_areas": null,
            "object_position": null,
            "object_fit": null,
            "grid_auto_columns": null,
            "margin": null,
            "display": null,
            "left": null
          }
        },
        "199a335984f34237bf660b2e353d8a6b": {
          "model_module": "@jupyter-widgets/controls",
          "model_name": "HBoxModel",
          "state": {
            "_view_name": "HBoxView",
            "_dom_classes": [],
            "_model_name": "HBoxModel",
            "_view_module": "@jupyter-widgets/controls",
            "_model_module_version": "1.5.0",
            "_view_count": null,
            "_view_module_version": "1.5.0",
            "box_style": "",
            "layout": "IPY_MODEL_dc6bf4b115654453839d579ce9230063",
            "_model_module": "@jupyter-widgets/controls",
            "children": [
              "IPY_MODEL_b373722cf38f44d9a0913d29e8d5d2f2",
              "IPY_MODEL_b615024291f346ea967648b47c4becf6"
            ]
          }
        },
        "dc6bf4b115654453839d579ce9230063": {
          "model_module": "@jupyter-widgets/base",
          "model_name": "LayoutModel",
          "state": {
            "_view_name": "LayoutView",
            "grid_template_rows": null,
            "right": null,
            "justify_content": null,
            "_view_module": "@jupyter-widgets/base",
            "overflow": null,
            "_model_module_version": "1.2.0",
            "_view_count": null,
            "flex_flow": null,
            "width": null,
            "min_width": null,
            "border": null,
            "align_items": null,
            "bottom": null,
            "_model_module": "@jupyter-widgets/base",
            "top": null,
            "grid_column": null,
            "overflow_y": null,
            "overflow_x": null,
            "grid_auto_flow": null,
            "grid_area": null,
            "grid_template_columns": null,
            "flex": null,
            "_model_name": "LayoutModel",
            "justify_items": null,
            "grid_row": null,
            "max_height": null,
            "align_content": null,
            "visibility": null,
            "align_self": null,
            "height": null,
            "min_height": null,
            "padding": null,
            "grid_auto_rows": null,
            "grid_gap": null,
            "max_width": null,
            "order": null,
            "_view_module_version": "1.2.0",
            "grid_template_areas": null,
            "object_position": null,
            "object_fit": null,
            "grid_auto_columns": null,
            "margin": null,
            "display": null,
            "left": null
          }
        },
        "b373722cf38f44d9a0913d29e8d5d2f2": {
          "model_module": "@jupyter-widgets/controls",
          "model_name": "FloatProgressModel",
          "state": {
            "_view_name": "ProgressView",
            "style": "IPY_MODEL_57edfd1b9c9848fd9cbe5da1a17ae25b",
            "_dom_classes": [],
            "description": "Downloading: 100%",
            "_model_name": "FloatProgressModel",
            "bar_style": "success",
            "max": 231508,
            "_view_module": "@jupyter-widgets/controls",
            "_model_module_version": "1.5.0",
            "value": 231508,
            "_view_count": null,
            "_view_module_version": "1.5.0",
            "orientation": "horizontal",
            "min": 0,
            "description_tooltip": null,
            "_model_module": "@jupyter-widgets/controls",
            "layout": "IPY_MODEL_a1a8e4e23d3842a1b5e974bda6311359"
          }
        },
        "b615024291f346ea967648b47c4becf6": {
          "model_module": "@jupyter-widgets/controls",
          "model_name": "HTMLModel",
          "state": {
            "_view_name": "HTMLView",
            "style": "IPY_MODEL_5a79ac7588f34c0fa290e83a4511098a",
            "_dom_classes": [],
            "description": "",
            "_model_name": "HTMLModel",
            "placeholder": "​",
            "_view_module": "@jupyter-widgets/controls",
            "_model_module_version": "1.5.0",
            "value": " 232k/232k [00:01&lt;00:00, 212kB/s]",
            "_view_count": null,
            "_view_module_version": "1.5.0",
            "description_tooltip": null,
            "_model_module": "@jupyter-widgets/controls",
            "layout": "IPY_MODEL_ca766f614f9b4e468c0b102b4a0ba8d6"
          }
        },
        "57edfd1b9c9848fd9cbe5da1a17ae25b": {
          "model_module": "@jupyter-widgets/controls",
          "model_name": "ProgressStyleModel",
          "state": {
            "_view_name": "StyleView",
            "_model_name": "ProgressStyleModel",
            "description_width": "initial",
            "_view_module": "@jupyter-widgets/base",
            "_model_module_version": "1.5.0",
            "_view_count": null,
            "_view_module_version": "1.2.0",
            "bar_color": null,
            "_model_module": "@jupyter-widgets/controls"
          }
        },
        "a1a8e4e23d3842a1b5e974bda6311359": {
          "model_module": "@jupyter-widgets/base",
          "model_name": "LayoutModel",
          "state": {
            "_view_name": "LayoutView",
            "grid_template_rows": null,
            "right": null,
            "justify_content": null,
            "_view_module": "@jupyter-widgets/base",
            "overflow": null,
            "_model_module_version": "1.2.0",
            "_view_count": null,
            "flex_flow": null,
            "width": null,
            "min_width": null,
            "border": null,
            "align_items": null,
            "bottom": null,
            "_model_module": "@jupyter-widgets/base",
            "top": null,
            "grid_column": null,
            "overflow_y": null,
            "overflow_x": null,
            "grid_auto_flow": null,
            "grid_area": null,
            "grid_template_columns": null,
            "flex": null,
            "_model_name": "LayoutModel",
            "justify_items": null,
            "grid_row": null,
            "max_height": null,
            "align_content": null,
            "visibility": null,
            "align_self": null,
            "height": null,
            "min_height": null,
            "padding": null,
            "grid_auto_rows": null,
            "grid_gap": null,
            "max_width": null,
            "order": null,
            "_view_module_version": "1.2.0",
            "grid_template_areas": null,
            "object_position": null,
            "object_fit": null,
            "grid_auto_columns": null,
            "margin": null,
            "display": null,
            "left": null
          }
        },
        "5a79ac7588f34c0fa290e83a4511098a": {
          "model_module": "@jupyter-widgets/controls",
          "model_name": "DescriptionStyleModel",
          "state": {
            "_view_name": "StyleView",
            "_model_name": "DescriptionStyleModel",
            "description_width": "",
            "_view_module": "@jupyter-widgets/base",
            "_model_module_version": "1.5.0",
            "_view_count": null,
            "_view_module_version": "1.2.0",
            "_model_module": "@jupyter-widgets/controls"
          }
        },
        "ca766f614f9b4e468c0b102b4a0ba8d6": {
          "model_module": "@jupyter-widgets/base",
          "model_name": "LayoutModel",
          "state": {
            "_view_name": "LayoutView",
            "grid_template_rows": null,
            "right": null,
            "justify_content": null,
            "_view_module": "@jupyter-widgets/base",
            "overflow": null,
            "_model_module_version": "1.2.0",
            "_view_count": null,
            "flex_flow": null,
            "width": null,
            "min_width": null,
            "border": null,
            "align_items": null,
            "bottom": null,
            "_model_module": "@jupyter-widgets/base",
            "top": null,
            "grid_column": null,
            "overflow_y": null,
            "overflow_x": null,
            "grid_auto_flow": null,
            "grid_area": null,
            "grid_template_columns": null,
            "flex": null,
            "_model_name": "LayoutModel",
            "justify_items": null,
            "grid_row": null,
            "max_height": null,
            "align_content": null,
            "visibility": null,
            "align_self": null,
            "height": null,
            "min_height": null,
            "padding": null,
            "grid_auto_rows": null,
            "grid_gap": null,
            "max_width": null,
            "order": null,
            "_view_module_version": "1.2.0",
            "grid_template_areas": null,
            "object_position": null,
            "object_fit": null,
            "grid_auto_columns": null,
            "margin": null,
            "display": null,
            "left": null
          }
        },
        "e5da056ac2f34e8db14758e149e3f79c": {
          "model_module": "@jupyter-widgets/controls",
          "model_name": "HBoxModel",
          "state": {
            "_view_name": "HBoxView",
            "_dom_classes": [],
            "_model_name": "HBoxModel",
            "_view_module": "@jupyter-widgets/controls",
            "_model_module_version": "1.5.0",
            "_view_count": null,
            "_view_module_version": "1.5.0",
            "box_style": "",
            "layout": "IPY_MODEL_588c3d3cec494d998106c024f28e3f3f",
            "_model_module": "@jupyter-widgets/controls",
            "children": [
              "IPY_MODEL_0ddfea6b9c5d44b8bc993661c1e96f77",
              "IPY_MODEL_786b629e2fbf4abc9a5f6ce9b42c210f"
            ]
          }
        },
        "588c3d3cec494d998106c024f28e3f3f": {
          "model_module": "@jupyter-widgets/base",
          "model_name": "LayoutModel",
          "state": {
            "_view_name": "LayoutView",
            "grid_template_rows": null,
            "right": null,
            "justify_content": null,
            "_view_module": "@jupyter-widgets/base",
            "overflow": null,
            "_model_module_version": "1.2.0",
            "_view_count": null,
            "flex_flow": null,
            "width": null,
            "min_width": null,
            "border": null,
            "align_items": null,
            "bottom": null,
            "_model_module": "@jupyter-widgets/base",
            "top": null,
            "grid_column": null,
            "overflow_y": null,
            "overflow_x": null,
            "grid_auto_flow": null,
            "grid_area": null,
            "grid_template_columns": null,
            "flex": null,
            "_model_name": "LayoutModel",
            "justify_items": null,
            "grid_row": null,
            "max_height": null,
            "align_content": null,
            "visibility": null,
            "align_self": null,
            "height": null,
            "min_height": null,
            "padding": null,
            "grid_auto_rows": null,
            "grid_gap": null,
            "max_width": null,
            "order": null,
            "_view_module_version": "1.2.0",
            "grid_template_areas": null,
            "object_position": null,
            "object_fit": null,
            "grid_auto_columns": null,
            "margin": null,
            "display": null,
            "left": null
          }
        },
        "0ddfea6b9c5d44b8bc993661c1e96f77": {
          "model_module": "@jupyter-widgets/controls",
          "model_name": "FloatProgressModel",
          "state": {
            "_view_name": "ProgressView",
            "style": "IPY_MODEL_bda3eb867be24e2b90a56c4af343b061",
            "_dom_classes": [],
            "description": "Downloading: 100%",
            "_model_name": "FloatProgressModel",
            "bar_style": "success",
            "max": 112,
            "_view_module": "@jupyter-widgets/controls",
            "_model_module_version": "1.5.0",
            "value": 112,
            "_view_count": null,
            "_view_module_version": "1.5.0",
            "orientation": "horizontal",
            "min": 0,
            "description_tooltip": null,
            "_model_module": "@jupyter-widgets/controls",
            "layout": "IPY_MODEL_f78aec1362884026a269ca50bd31a952"
          }
        },
        "786b629e2fbf4abc9a5f6ce9b42c210f": {
          "model_module": "@jupyter-widgets/controls",
          "model_name": "HTMLModel",
          "state": {
            "_view_name": "HTMLView",
            "style": "IPY_MODEL_57c0d55d88924416b9f271ed9c8be000",
            "_dom_classes": [],
            "description": "",
            "_model_name": "HTMLModel",
            "placeholder": "​",
            "_view_module": "@jupyter-widgets/controls",
            "_model_module_version": "1.5.0",
            "value": " 112/112 [00:00&lt;00:00, 211B/s]",
            "_view_count": null,
            "_view_module_version": "1.5.0",
            "description_tooltip": null,
            "_model_module": "@jupyter-widgets/controls",
            "layout": "IPY_MODEL_4d499be2caa04cf798dd06d2bb8b2d55"
          }
        },
        "bda3eb867be24e2b90a56c4af343b061": {
          "model_module": "@jupyter-widgets/controls",
          "model_name": "ProgressStyleModel",
          "state": {
            "_view_name": "StyleView",
            "_model_name": "ProgressStyleModel",
            "description_width": "initial",
            "_view_module": "@jupyter-widgets/base",
            "_model_module_version": "1.5.0",
            "_view_count": null,
            "_view_module_version": "1.2.0",
            "bar_color": null,
            "_model_module": "@jupyter-widgets/controls"
          }
        },
        "f78aec1362884026a269ca50bd31a952": {
          "model_module": "@jupyter-widgets/base",
          "model_name": "LayoutModel",
          "state": {
            "_view_name": "LayoutView",
            "grid_template_rows": null,
            "right": null,
            "justify_content": null,
            "_view_module": "@jupyter-widgets/base",
            "overflow": null,
            "_model_module_version": "1.2.0",
            "_view_count": null,
            "flex_flow": null,
            "width": null,
            "min_width": null,
            "border": null,
            "align_items": null,
            "bottom": null,
            "_model_module": "@jupyter-widgets/base",
            "top": null,
            "grid_column": null,
            "overflow_y": null,
            "overflow_x": null,
            "grid_auto_flow": null,
            "grid_area": null,
            "grid_template_columns": null,
            "flex": null,
            "_model_name": "LayoutModel",
            "justify_items": null,
            "grid_row": null,
            "max_height": null,
            "align_content": null,
            "visibility": null,
            "align_self": null,
            "height": null,
            "min_height": null,
            "padding": null,
            "grid_auto_rows": null,
            "grid_gap": null,
            "max_width": null,
            "order": null,
            "_view_module_version": "1.2.0",
            "grid_template_areas": null,
            "object_position": null,
            "object_fit": null,
            "grid_auto_columns": null,
            "margin": null,
            "display": null,
            "left": null
          }
        },
        "57c0d55d88924416b9f271ed9c8be000": {
          "model_module": "@jupyter-widgets/controls",
          "model_name": "DescriptionStyleModel",
          "state": {
            "_view_name": "StyleView",
            "_model_name": "DescriptionStyleModel",
            "description_width": "",
            "_view_module": "@jupyter-widgets/base",
            "_model_module_version": "1.5.0",
            "_view_count": null,
            "_view_module_version": "1.2.0",
            "_model_module": "@jupyter-widgets/controls"
          }
        },
        "4d499be2caa04cf798dd06d2bb8b2d55": {
          "model_module": "@jupyter-widgets/base",
          "model_name": "LayoutModel",
          "state": {
            "_view_name": "LayoutView",
            "grid_template_rows": null,
            "right": null,
            "justify_content": null,
            "_view_module": "@jupyter-widgets/base",
            "overflow": null,
            "_model_module_version": "1.2.0",
            "_view_count": null,
            "flex_flow": null,
            "width": null,
            "min_width": null,
            "border": null,
            "align_items": null,
            "bottom": null,
            "_model_module": "@jupyter-widgets/base",
            "top": null,
            "grid_column": null,
            "overflow_y": null,
            "overflow_x": null,
            "grid_auto_flow": null,
            "grid_area": null,
            "grid_template_columns": null,
            "flex": null,
            "_model_name": "LayoutModel",
            "justify_items": null,
            "grid_row": null,
            "max_height": null,
            "align_content": null,
            "visibility": null,
            "align_self": null,
            "height": null,
            "min_height": null,
            "padding": null,
            "grid_auto_rows": null,
            "grid_gap": null,
            "max_width": null,
            "order": null,
            "_view_module_version": "1.2.0",
            "grid_template_areas": null,
            "object_position": null,
            "object_fit": null,
            "grid_auto_columns": null,
            "margin": null,
            "display": null,
            "left": null
          }
        },
        "34f2f0684c064bafb9dbd31397bdab5b": {
          "model_module": "@jupyter-widgets/controls",
          "model_name": "HBoxModel",
          "state": {
            "_view_name": "HBoxView",
            "_dom_classes": [],
            "_model_name": "HBoxModel",
            "_view_module": "@jupyter-widgets/controls",
            "_model_module_version": "1.5.0",
            "_view_count": null,
            "_view_module_version": "1.5.0",
            "box_style": "",
            "layout": "IPY_MODEL_1127665665294c5286fe6d14d46872ea",
            "_model_module": "@jupyter-widgets/controls",
            "children": [
              "IPY_MODEL_d13ce407bf62468695648c25c1627e9e",
              "IPY_MODEL_19750c0fe9744a0dba0811171b4058c6"
            ]
          }
        },
        "1127665665294c5286fe6d14d46872ea": {
          "model_module": "@jupyter-widgets/base",
          "model_name": "LayoutModel",
          "state": {
            "_view_name": "LayoutView",
            "grid_template_rows": null,
            "right": null,
            "justify_content": null,
            "_view_module": "@jupyter-widgets/base",
            "overflow": null,
            "_model_module_version": "1.2.0",
            "_view_count": null,
            "flex_flow": null,
            "width": null,
            "min_width": null,
            "border": null,
            "align_items": null,
            "bottom": null,
            "_model_module": "@jupyter-widgets/base",
            "top": null,
            "grid_column": null,
            "overflow_y": null,
            "overflow_x": null,
            "grid_auto_flow": null,
            "grid_area": null,
            "grid_template_columns": null,
            "flex": null,
            "_model_name": "LayoutModel",
            "justify_items": null,
            "grid_row": null,
            "max_height": null,
            "align_content": null,
            "visibility": null,
            "align_self": null,
            "height": null,
            "min_height": null,
            "padding": null,
            "grid_auto_rows": null,
            "grid_gap": null,
            "max_width": null,
            "order": null,
            "_view_module_version": "1.2.0",
            "grid_template_areas": null,
            "object_position": null,
            "object_fit": null,
            "grid_auto_columns": null,
            "margin": null,
            "display": null,
            "left": null
          }
        },
        "d13ce407bf62468695648c25c1627e9e": {
          "model_module": "@jupyter-widgets/controls",
          "model_name": "FloatProgressModel",
          "state": {
            "_view_name": "ProgressView",
            "style": "IPY_MODEL_3d825169bd124ebfa6630b081227faf8",
            "_dom_classes": [],
            "description": "Downloading: 100%",
            "_model_name": "FloatProgressModel",
            "bar_style": "success",
            "max": 48,
            "_view_module": "@jupyter-widgets/controls",
            "_model_module_version": "1.5.0",
            "value": 48,
            "_view_count": null,
            "_view_module_version": "1.5.0",
            "orientation": "horizontal",
            "min": 0,
            "description_tooltip": null,
            "_model_module": "@jupyter-widgets/controls",
            "layout": "IPY_MODEL_0bab3d51795947de9d74fd0ae860791e"
          }
        },
        "19750c0fe9744a0dba0811171b4058c6": {
          "model_module": "@jupyter-widgets/controls",
          "model_name": "HTMLModel",
          "state": {
            "_view_name": "HTMLView",
            "style": "IPY_MODEL_8c9458fe39ca40dfb8fe3681c70d1902",
            "_dom_classes": [],
            "description": "",
            "_model_name": "HTMLModel",
            "placeholder": "​",
            "_view_module": "@jupyter-widgets/controls",
            "_model_module_version": "1.5.0",
            "value": " 48.0/48.0 [00:00&lt;00:00, 658B/s]",
            "_view_count": null,
            "_view_module_version": "1.5.0",
            "description_tooltip": null,
            "_model_module": "@jupyter-widgets/controls",
            "layout": "IPY_MODEL_144c43d70a314bb2885ca344bf1218f1"
          }
        },
        "3d825169bd124ebfa6630b081227faf8": {
          "model_module": "@jupyter-widgets/controls",
          "model_name": "ProgressStyleModel",
          "state": {
            "_view_name": "StyleView",
            "_model_name": "ProgressStyleModel",
            "description_width": "initial",
            "_view_module": "@jupyter-widgets/base",
            "_model_module_version": "1.5.0",
            "_view_count": null,
            "_view_module_version": "1.2.0",
            "bar_color": null,
            "_model_module": "@jupyter-widgets/controls"
          }
        },
        "0bab3d51795947de9d74fd0ae860791e": {
          "model_module": "@jupyter-widgets/base",
          "model_name": "LayoutModel",
          "state": {
            "_view_name": "LayoutView",
            "grid_template_rows": null,
            "right": null,
            "justify_content": null,
            "_view_module": "@jupyter-widgets/base",
            "overflow": null,
            "_model_module_version": "1.2.0",
            "_view_count": null,
            "flex_flow": null,
            "width": null,
            "min_width": null,
            "border": null,
            "align_items": null,
            "bottom": null,
            "_model_module": "@jupyter-widgets/base",
            "top": null,
            "grid_column": null,
            "overflow_y": null,
            "overflow_x": null,
            "grid_auto_flow": null,
            "grid_area": null,
            "grid_template_columns": null,
            "flex": null,
            "_model_name": "LayoutModel",
            "justify_items": null,
            "grid_row": null,
            "max_height": null,
            "align_content": null,
            "visibility": null,
            "align_self": null,
            "height": null,
            "min_height": null,
            "padding": null,
            "grid_auto_rows": null,
            "grid_gap": null,
            "max_width": null,
            "order": null,
            "_view_module_version": "1.2.0",
            "grid_template_areas": null,
            "object_position": null,
            "object_fit": null,
            "grid_auto_columns": null,
            "margin": null,
            "display": null,
            "left": null
          }
        },
        "8c9458fe39ca40dfb8fe3681c70d1902": {
          "model_module": "@jupyter-widgets/controls",
          "model_name": "DescriptionStyleModel",
          "state": {
            "_view_name": "StyleView",
            "_model_name": "DescriptionStyleModel",
            "description_width": "",
            "_view_module": "@jupyter-widgets/base",
            "_model_module_version": "1.5.0",
            "_view_count": null,
            "_view_module_version": "1.2.0",
            "_model_module": "@jupyter-widgets/controls"
          }
        },
        "144c43d70a314bb2885ca344bf1218f1": {
          "model_module": "@jupyter-widgets/base",
          "model_name": "LayoutModel",
          "state": {
            "_view_name": "LayoutView",
            "grid_template_rows": null,
            "right": null,
            "justify_content": null,
            "_view_module": "@jupyter-widgets/base",
            "overflow": null,
            "_model_module_version": "1.2.0",
            "_view_count": null,
            "flex_flow": null,
            "width": null,
            "min_width": null,
            "border": null,
            "align_items": null,
            "bottom": null,
            "_model_module": "@jupyter-widgets/base",
            "top": null,
            "grid_column": null,
            "overflow_y": null,
            "overflow_x": null,
            "grid_auto_flow": null,
            "grid_area": null,
            "grid_template_columns": null,
            "flex": null,
            "_model_name": "LayoutModel",
            "justify_items": null,
            "grid_row": null,
            "max_height": null,
            "align_content": null,
            "visibility": null,
            "align_self": null,
            "height": null,
            "min_height": null,
            "padding": null,
            "grid_auto_rows": null,
            "grid_gap": null,
            "max_width": null,
            "order": null,
            "_view_module_version": "1.2.0",
            "grid_template_areas": null,
            "object_position": null,
            "object_fit": null,
            "grid_auto_columns": null,
            "margin": null,
            "display": null,
            "left": null
          }
        },
        "aa433636adb64919b73ba4636b6cf3e9": {
          "model_module": "@jupyter-widgets/controls",
          "model_name": "HBoxModel",
          "state": {
            "_view_name": "HBoxView",
            "_dom_classes": [],
            "_model_name": "HBoxModel",
            "_view_module": "@jupyter-widgets/controls",
            "_model_module_version": "1.5.0",
            "_view_count": null,
            "_view_module_version": "1.5.0",
            "box_style": "",
            "layout": "IPY_MODEL_4ec1803a34474b4683fe6cc13581518c",
            "_model_module": "@jupyter-widgets/controls",
            "children": [
              "IPY_MODEL_d730889971774568abda4fdab1295d5e",
              "IPY_MODEL_67e0aee825f4401a933c799cb2629db5"
            ]
          }
        },
        "4ec1803a34474b4683fe6cc13581518c": {
          "model_module": "@jupyter-widgets/base",
          "model_name": "LayoutModel",
          "state": {
            "_view_name": "LayoutView",
            "grid_template_rows": null,
            "right": null,
            "justify_content": null,
            "_view_module": "@jupyter-widgets/base",
            "overflow": null,
            "_model_module_version": "1.2.0",
            "_view_count": null,
            "flex_flow": null,
            "width": null,
            "min_width": null,
            "border": null,
            "align_items": null,
            "bottom": null,
            "_model_module": "@jupyter-widgets/base",
            "top": null,
            "grid_column": null,
            "overflow_y": null,
            "overflow_x": null,
            "grid_auto_flow": null,
            "grid_area": null,
            "grid_template_columns": null,
            "flex": null,
            "_model_name": "LayoutModel",
            "justify_items": null,
            "grid_row": null,
            "max_height": null,
            "align_content": null,
            "visibility": null,
            "align_self": null,
            "height": null,
            "min_height": null,
            "padding": null,
            "grid_auto_rows": null,
            "grid_gap": null,
            "max_width": null,
            "order": null,
            "_view_module_version": "1.2.0",
            "grid_template_areas": null,
            "object_position": null,
            "object_fit": null,
            "grid_auto_columns": null,
            "margin": null,
            "display": null,
            "left": null
          }
        },
        "d730889971774568abda4fdab1295d5e": {
          "model_module": "@jupyter-widgets/controls",
          "model_name": "FloatProgressModel",
          "state": {
            "_view_name": "ProgressView",
            "style": "IPY_MODEL_e8d8b8ace95e4d9b9c0fd6bd50e7ca82",
            "_dom_classes": [],
            "description": "Downloading: ",
            "_model_name": "FloatProgressModel",
            "bar_style": "success",
            "max": 1867,
            "_view_module": "@jupyter-widgets/controls",
            "_model_module_version": "1.5.0",
            "value": 1867,
            "_view_count": null,
            "_view_module_version": "1.5.0",
            "orientation": "horizontal",
            "min": 0,
            "description_tooltip": null,
            "_model_module": "@jupyter-widgets/controls",
            "layout": "IPY_MODEL_db4280023d8349d9b37d0a1d9b365525"
          }
        },
        "67e0aee825f4401a933c799cb2629db5": {
          "model_module": "@jupyter-widgets/controls",
          "model_name": "HTMLModel",
          "state": {
            "_view_name": "HTMLView",
            "style": "IPY_MODEL_c5b024e92c814de78227327bc36f8078",
            "_dom_classes": [],
            "description": "",
            "_model_name": "HTMLModel",
            "placeholder": "​",
            "_view_module": "@jupyter-widgets/controls",
            "_model_module_version": "1.5.0",
            "value": " 4.61k/? [00:04&lt;00:00, 1.08kB/s]",
            "_view_count": null,
            "_view_module_version": "1.5.0",
            "description_tooltip": null,
            "_model_module": "@jupyter-widgets/controls",
            "layout": "IPY_MODEL_d0d53ed81e98435aa227b201792c8953"
          }
        },
        "e8d8b8ace95e4d9b9c0fd6bd50e7ca82": {
          "model_module": "@jupyter-widgets/controls",
          "model_name": "ProgressStyleModel",
          "state": {
            "_view_name": "StyleView",
            "_model_name": "ProgressStyleModel",
            "description_width": "initial",
            "_view_module": "@jupyter-widgets/base",
            "_model_module_version": "1.5.0",
            "_view_count": null,
            "_view_module_version": "1.2.0",
            "bar_color": null,
            "_model_module": "@jupyter-widgets/controls"
          }
        },
        "db4280023d8349d9b37d0a1d9b365525": {
          "model_module": "@jupyter-widgets/base",
          "model_name": "LayoutModel",
          "state": {
            "_view_name": "LayoutView",
            "grid_template_rows": null,
            "right": null,
            "justify_content": null,
            "_view_module": "@jupyter-widgets/base",
            "overflow": null,
            "_model_module_version": "1.2.0",
            "_view_count": null,
            "flex_flow": null,
            "width": null,
            "min_width": null,
            "border": null,
            "align_items": null,
            "bottom": null,
            "_model_module": "@jupyter-widgets/base",
            "top": null,
            "grid_column": null,
            "overflow_y": null,
            "overflow_x": null,
            "grid_auto_flow": null,
            "grid_area": null,
            "grid_template_columns": null,
            "flex": null,
            "_model_name": "LayoutModel",
            "justify_items": null,
            "grid_row": null,
            "max_height": null,
            "align_content": null,
            "visibility": null,
            "align_self": null,
            "height": null,
            "min_height": null,
            "padding": null,
            "grid_auto_rows": null,
            "grid_gap": null,
            "max_width": null,
            "order": null,
            "_view_module_version": "1.2.0",
            "grid_template_areas": null,
            "object_position": null,
            "object_fit": null,
            "grid_auto_columns": null,
            "margin": null,
            "display": null,
            "left": null
          }
        },
        "c5b024e92c814de78227327bc36f8078": {
          "model_module": "@jupyter-widgets/controls",
          "model_name": "DescriptionStyleModel",
          "state": {
            "_view_name": "StyleView",
            "_model_name": "DescriptionStyleModel",
            "description_width": "",
            "_view_module": "@jupyter-widgets/base",
            "_model_module_version": "1.5.0",
            "_view_count": null,
            "_view_module_version": "1.2.0",
            "_model_module": "@jupyter-widgets/controls"
          }
        },
        "d0d53ed81e98435aa227b201792c8953": {
          "model_module": "@jupyter-widgets/base",
          "model_name": "LayoutModel",
          "state": {
            "_view_name": "LayoutView",
            "grid_template_rows": null,
            "right": null,
            "justify_content": null,
            "_view_module": "@jupyter-widgets/base",
            "overflow": null,
            "_model_module_version": "1.2.0",
            "_view_count": null,
            "flex_flow": null,
            "width": null,
            "min_width": null,
            "border": null,
            "align_items": null,
            "bottom": null,
            "_model_module": "@jupyter-widgets/base",
            "top": null,
            "grid_column": null,
            "overflow_y": null,
            "overflow_x": null,
            "grid_auto_flow": null,
            "grid_area": null,
            "grid_template_columns": null,
            "flex": null,
            "_model_name": "LayoutModel",
            "justify_items": null,
            "grid_row": null,
            "max_height": null,
            "align_content": null,
            "visibility": null,
            "align_self": null,
            "height": null,
            "min_height": null,
            "padding": null,
            "grid_auto_rows": null,
            "grid_gap": null,
            "max_width": null,
            "order": null,
            "_view_module_version": "1.2.0",
            "grid_template_areas": null,
            "object_position": null,
            "object_fit": null,
            "grid_auto_columns": null,
            "margin": null,
            "display": null,
            "left": null
          }
        },
        "cf53116060f64417abb4ee0d74808b28": {
          "model_module": "@jupyter-widgets/controls",
          "model_name": "HBoxModel",
          "state": {
            "_view_name": "HBoxView",
            "_dom_classes": [],
            "_model_name": "HBoxModel",
            "_view_module": "@jupyter-widgets/controls",
            "_model_module_version": "1.5.0",
            "_view_count": null,
            "_view_module_version": "1.5.0",
            "box_style": "",
            "layout": "IPY_MODEL_c40d4259cabd439e96cfd2a0c3a8a7d6",
            "_model_module": "@jupyter-widgets/controls",
            "children": [
              "IPY_MODEL_fa9c3302a2f4422c8cff2027efc536ab",
              "IPY_MODEL_75b4841562e849a5bb973b743b20d2df"
            ]
          }
        },
        "c40d4259cabd439e96cfd2a0c3a8a7d6": {
          "model_module": "@jupyter-widgets/base",
          "model_name": "LayoutModel",
          "state": {
            "_view_name": "LayoutView",
            "grid_template_rows": null,
            "right": null,
            "justify_content": null,
            "_view_module": "@jupyter-widgets/base",
            "overflow": null,
            "_model_module_version": "1.2.0",
            "_view_count": null,
            "flex_flow": null,
            "width": null,
            "min_width": null,
            "border": null,
            "align_items": null,
            "bottom": null,
            "_model_module": "@jupyter-widgets/base",
            "top": null,
            "grid_column": null,
            "overflow_y": null,
            "overflow_x": null,
            "grid_auto_flow": null,
            "grid_area": null,
            "grid_template_columns": null,
            "flex": null,
            "_model_name": "LayoutModel",
            "justify_items": null,
            "grid_row": null,
            "max_height": null,
            "align_content": null,
            "visibility": null,
            "align_self": null,
            "height": null,
            "min_height": null,
            "padding": null,
            "grid_auto_rows": null,
            "grid_gap": null,
            "max_width": null,
            "order": null,
            "_view_module_version": "1.2.0",
            "grid_template_areas": null,
            "object_position": null,
            "object_fit": null,
            "grid_auto_columns": null,
            "margin": null,
            "display": null,
            "left": null
          }
        },
        "fa9c3302a2f4422c8cff2027efc536ab": {
          "model_module": "@jupyter-widgets/controls",
          "model_name": "FloatProgressModel",
          "state": {
            "_view_name": "ProgressView",
            "style": "IPY_MODEL_61925c6c62de471f99212be17a27a203",
            "_dom_classes": [],
            "description": "Downloading: ",
            "_model_name": "FloatProgressModel",
            "bar_style": "success",
            "max": 1004,
            "_view_module": "@jupyter-widgets/controls",
            "_model_module_version": "1.5.0",
            "value": 1004,
            "_view_count": null,
            "_view_module_version": "1.5.0",
            "orientation": "horizontal",
            "min": 0,
            "description_tooltip": null,
            "_model_module": "@jupyter-widgets/controls",
            "layout": "IPY_MODEL_032c8bdf18764454b2ba65b0bd7702de"
          }
        },
        "75b4841562e849a5bb973b743b20d2df": {
          "model_module": "@jupyter-widgets/controls",
          "model_name": "HTMLModel",
          "state": {
            "_view_name": "HTMLView",
            "style": "IPY_MODEL_fcf178d6815f4582af99d93bfd8ef51c",
            "_dom_classes": [],
            "description": "",
            "_model_name": "HTMLModel",
            "placeholder": "​",
            "_view_module": "@jupyter-widgets/controls",
            "_model_module_version": "1.5.0",
            "value": " 2.02k/? [00:00&lt;00:00, 7.49kB/s]",
            "_view_count": null,
            "_view_module_version": "1.5.0",
            "description_tooltip": null,
            "_model_module": "@jupyter-widgets/controls",
            "layout": "IPY_MODEL_794939bd4098465c810711d2829f394e"
          }
        },
        "61925c6c62de471f99212be17a27a203": {
          "model_module": "@jupyter-widgets/controls",
          "model_name": "ProgressStyleModel",
          "state": {
            "_view_name": "StyleView",
            "_model_name": "ProgressStyleModel",
            "description_width": "initial",
            "_view_module": "@jupyter-widgets/base",
            "_model_module_version": "1.5.0",
            "_view_count": null,
            "_view_module_version": "1.2.0",
            "bar_color": null,
            "_model_module": "@jupyter-widgets/controls"
          }
        },
        "032c8bdf18764454b2ba65b0bd7702de": {
          "model_module": "@jupyter-widgets/base",
          "model_name": "LayoutModel",
          "state": {
            "_view_name": "LayoutView",
            "grid_template_rows": null,
            "right": null,
            "justify_content": null,
            "_view_module": "@jupyter-widgets/base",
            "overflow": null,
            "_model_module_version": "1.2.0",
            "_view_count": null,
            "flex_flow": null,
            "width": null,
            "min_width": null,
            "border": null,
            "align_items": null,
            "bottom": null,
            "_model_module": "@jupyter-widgets/base",
            "top": null,
            "grid_column": null,
            "overflow_y": null,
            "overflow_x": null,
            "grid_auto_flow": null,
            "grid_area": null,
            "grid_template_columns": null,
            "flex": null,
            "_model_name": "LayoutModel",
            "justify_items": null,
            "grid_row": null,
            "max_height": null,
            "align_content": null,
            "visibility": null,
            "align_self": null,
            "height": null,
            "min_height": null,
            "padding": null,
            "grid_auto_rows": null,
            "grid_gap": null,
            "max_width": null,
            "order": null,
            "_view_module_version": "1.2.0",
            "grid_template_areas": null,
            "object_position": null,
            "object_fit": null,
            "grid_auto_columns": null,
            "margin": null,
            "display": null,
            "left": null
          }
        },
        "fcf178d6815f4582af99d93bfd8ef51c": {
          "model_module": "@jupyter-widgets/controls",
          "model_name": "DescriptionStyleModel",
          "state": {
            "_view_name": "StyleView",
            "_model_name": "DescriptionStyleModel",
            "description_width": "",
            "_view_module": "@jupyter-widgets/base",
            "_model_module_version": "1.5.0",
            "_view_count": null,
            "_view_module_version": "1.2.0",
            "_model_module": "@jupyter-widgets/controls"
          }
        },
        "794939bd4098465c810711d2829f394e": {
          "model_module": "@jupyter-widgets/base",
          "model_name": "LayoutModel",
          "state": {
            "_view_name": "LayoutView",
            "grid_template_rows": null,
            "right": null,
            "justify_content": null,
            "_view_module": "@jupyter-widgets/base",
            "overflow": null,
            "_model_module_version": "1.2.0",
            "_view_count": null,
            "flex_flow": null,
            "width": null,
            "min_width": null,
            "border": null,
            "align_items": null,
            "bottom": null,
            "_model_module": "@jupyter-widgets/base",
            "top": null,
            "grid_column": null,
            "overflow_y": null,
            "overflow_x": null,
            "grid_auto_flow": null,
            "grid_area": null,
            "grid_template_columns": null,
            "flex": null,
            "_model_name": "LayoutModel",
            "justify_items": null,
            "grid_row": null,
            "max_height": null,
            "align_content": null,
            "visibility": null,
            "align_self": null,
            "height": null,
            "min_height": null,
            "padding": null,
            "grid_auto_rows": null,
            "grid_gap": null,
            "max_width": null,
            "order": null,
            "_view_module_version": "1.2.0",
            "grid_template_areas": null,
            "object_position": null,
            "object_fit": null,
            "grid_auto_columns": null,
            "margin": null,
            "display": null,
            "left": null
          }
        },
        "9e3fe33a82474d2bb10ccba3e3d2a811": {
          "model_module": "@jupyter-widgets/controls",
          "model_name": "HBoxModel",
          "state": {
            "_view_name": "HBoxView",
            "_dom_classes": [],
            "_model_name": "HBoxModel",
            "_view_module": "@jupyter-widgets/controls",
            "_model_module_version": "1.5.0",
            "_view_count": null,
            "_view_module_version": "1.5.0",
            "box_style": "",
            "layout": "IPY_MODEL_8258a63b57e24b93bf370df807ac9386",
            "_model_module": "@jupyter-widgets/controls",
            "children": [
              "IPY_MODEL_6cb166d34dcd4b1cb7a0ca12df88cf3c",
              "IPY_MODEL_8520d07bb568468aa898e50c5cc55986"
            ]
          }
        },
        "8258a63b57e24b93bf370df807ac9386": {
          "model_module": "@jupyter-widgets/base",
          "model_name": "LayoutModel",
          "state": {
            "_view_name": "LayoutView",
            "grid_template_rows": null,
            "right": null,
            "justify_content": null,
            "_view_module": "@jupyter-widgets/base",
            "overflow": null,
            "_model_module_version": "1.2.0",
            "_view_count": null,
            "flex_flow": null,
            "width": null,
            "min_width": null,
            "border": null,
            "align_items": null,
            "bottom": null,
            "_model_module": "@jupyter-widgets/base",
            "top": null,
            "grid_column": null,
            "overflow_y": null,
            "overflow_x": null,
            "grid_auto_flow": null,
            "grid_area": null,
            "grid_template_columns": null,
            "flex": null,
            "_model_name": "LayoutModel",
            "justify_items": null,
            "grid_row": null,
            "max_height": null,
            "align_content": null,
            "visibility": null,
            "align_self": null,
            "height": null,
            "min_height": null,
            "padding": null,
            "grid_auto_rows": null,
            "grid_gap": null,
            "max_width": null,
            "order": null,
            "_view_module_version": "1.2.0",
            "grid_template_areas": null,
            "object_position": null,
            "object_fit": null,
            "grid_auto_columns": null,
            "margin": null,
            "display": null,
            "left": null
          }
        },
        "6cb166d34dcd4b1cb7a0ca12df88cf3c": {
          "model_module": "@jupyter-widgets/controls",
          "model_name": "FloatProgressModel",
          "state": {
            "_view_name": "ProgressView",
            "style": "IPY_MODEL_8a61e5176cd442b79b07d187295e1ac7",
            "_dom_classes": [],
            "description": "Downloading: 100%",
            "_model_name": "FloatProgressModel",
            "bar_style": "success",
            "max": 84125825,
            "_view_module": "@jupyter-widgets/controls",
            "_model_module_version": "1.5.0",
            "value": 84125825,
            "_view_count": null,
            "_view_module_version": "1.5.0",
            "orientation": "horizontal",
            "min": 0,
            "description_tooltip": null,
            "_model_module": "@jupyter-widgets/controls",
            "layout": "IPY_MODEL_ca3294c8db184067a4f4d4ca928d191f"
          }
        },
        "8520d07bb568468aa898e50c5cc55986": {
          "model_module": "@jupyter-widgets/controls",
          "model_name": "HTMLModel",
          "state": {
            "_view_name": "HTMLView",
            "style": "IPY_MODEL_8bce95d207994ec7ad740e989c7cf218",
            "_dom_classes": [],
            "description": "",
            "_model_name": "HTMLModel",
            "placeholder": "​",
            "_view_module": "@jupyter-widgets/controls",
            "_model_module_version": "1.5.0",
            "value": " 84.1M/84.1M [00:03&lt;00:00, 22.5MB/s]",
            "_view_count": null,
            "_view_module_version": "1.5.0",
            "description_tooltip": null,
            "_model_module": "@jupyter-widgets/controls",
            "layout": "IPY_MODEL_66ca65f84ffc4b18819454b8cb410152"
          }
        },
        "8a61e5176cd442b79b07d187295e1ac7": {
          "model_module": "@jupyter-widgets/controls",
          "model_name": "ProgressStyleModel",
          "state": {
            "_view_name": "StyleView",
            "_model_name": "ProgressStyleModel",
            "description_width": "initial",
            "_view_module": "@jupyter-widgets/base",
            "_model_module_version": "1.5.0",
            "_view_count": null,
            "_view_module_version": "1.2.0",
            "bar_color": null,
            "_model_module": "@jupyter-widgets/controls"
          }
        },
        "ca3294c8db184067a4f4d4ca928d191f": {
          "model_module": "@jupyter-widgets/base",
          "model_name": "LayoutModel",
          "state": {
            "_view_name": "LayoutView",
            "grid_template_rows": null,
            "right": null,
            "justify_content": null,
            "_view_module": "@jupyter-widgets/base",
            "overflow": null,
            "_model_module_version": "1.2.0",
            "_view_count": null,
            "flex_flow": null,
            "width": null,
            "min_width": null,
            "border": null,
            "align_items": null,
            "bottom": null,
            "_model_module": "@jupyter-widgets/base",
            "top": null,
            "grid_column": null,
            "overflow_y": null,
            "overflow_x": null,
            "grid_auto_flow": null,
            "grid_area": null,
            "grid_template_columns": null,
            "flex": null,
            "_model_name": "LayoutModel",
            "justify_items": null,
            "grid_row": null,
            "max_height": null,
            "align_content": null,
            "visibility": null,
            "align_self": null,
            "height": null,
            "min_height": null,
            "padding": null,
            "grid_auto_rows": null,
            "grid_gap": null,
            "max_width": null,
            "order": null,
            "_view_module_version": "1.2.0",
            "grid_template_areas": null,
            "object_position": null,
            "object_fit": null,
            "grid_auto_columns": null,
            "margin": null,
            "display": null,
            "left": null
          }
        },
        "8bce95d207994ec7ad740e989c7cf218": {
          "model_module": "@jupyter-widgets/controls",
          "model_name": "DescriptionStyleModel",
          "state": {
            "_view_name": "StyleView",
            "_model_name": "DescriptionStyleModel",
            "description_width": "",
            "_view_module": "@jupyter-widgets/base",
            "_model_module_version": "1.5.0",
            "_view_count": null,
            "_view_module_version": "1.2.0",
            "_model_module": "@jupyter-widgets/controls"
          }
        },
        "66ca65f84ffc4b18819454b8cb410152": {
          "model_module": "@jupyter-widgets/base",
          "model_name": "LayoutModel",
          "state": {
            "_view_name": "LayoutView",
            "grid_template_rows": null,
            "right": null,
            "justify_content": null,
            "_view_module": "@jupyter-widgets/base",
            "overflow": null,
            "_model_module_version": "1.2.0",
            "_view_count": null,
            "flex_flow": null,
            "width": null,
            "min_width": null,
            "border": null,
            "align_items": null,
            "bottom": null,
            "_model_module": "@jupyter-widgets/base",
            "top": null,
            "grid_column": null,
            "overflow_y": null,
            "overflow_x": null,
            "grid_auto_flow": null,
            "grid_area": null,
            "grid_template_columns": null,
            "flex": null,
            "_model_name": "LayoutModel",
            "justify_items": null,
            "grid_row": null,
            "max_height": null,
            "align_content": null,
            "visibility": null,
            "align_self": null,
            "height": null,
            "min_height": null,
            "padding": null,
            "grid_auto_rows": null,
            "grid_gap": null,
            "max_width": null,
            "order": null,
            "_view_module_version": "1.2.0",
            "grid_template_areas": null,
            "object_position": null,
            "object_fit": null,
            "grid_auto_columns": null,
            "margin": null,
            "display": null,
            "left": null
          }
        },
        "8b13841b90e14a77b0bb229d931397e3": {
          "model_module": "@jupyter-widgets/controls",
          "model_name": "HBoxModel",
          "state": {
            "_view_name": "HBoxView",
            "_dom_classes": [],
            "_model_name": "HBoxModel",
            "_view_module": "@jupyter-widgets/controls",
            "_model_module_version": "1.5.0",
            "_view_count": null,
            "_view_module_version": "1.5.0",
            "box_style": "",
            "layout": "IPY_MODEL_2d0331e7dcb34da0bc92d37f4db256ff",
            "_model_module": "@jupyter-widgets/controls",
            "children": [
              "IPY_MODEL_bae44f0baecd4c26b1181c98ef15d4ac",
              "IPY_MODEL_769e8ce4c90c496cbb0e1e35ea0dc218"
            ]
          }
        },
        "2d0331e7dcb34da0bc92d37f4db256ff": {
          "model_module": "@jupyter-widgets/base",
          "model_name": "LayoutModel",
          "state": {
            "_view_name": "LayoutView",
            "grid_template_rows": null,
            "right": null,
            "justify_content": null,
            "_view_module": "@jupyter-widgets/base",
            "overflow": null,
            "_model_module_version": "1.2.0",
            "_view_count": null,
            "flex_flow": null,
            "width": null,
            "min_width": null,
            "border": null,
            "align_items": null,
            "bottom": null,
            "_model_module": "@jupyter-widgets/base",
            "top": null,
            "grid_column": null,
            "overflow_y": null,
            "overflow_x": null,
            "grid_auto_flow": null,
            "grid_area": null,
            "grid_template_columns": null,
            "flex": null,
            "_model_name": "LayoutModel",
            "justify_items": null,
            "grid_row": null,
            "max_height": null,
            "align_content": null,
            "visibility": null,
            "align_self": null,
            "height": null,
            "min_height": null,
            "padding": null,
            "grid_auto_rows": null,
            "grid_gap": null,
            "max_width": null,
            "order": null,
            "_view_module_version": "1.2.0",
            "grid_template_areas": null,
            "object_position": null,
            "object_fit": null,
            "grid_auto_columns": null,
            "margin": null,
            "display": null,
            "left": null
          }
        },
        "bae44f0baecd4c26b1181c98ef15d4ac": {
          "model_module": "@jupyter-widgets/controls",
          "model_name": "FloatProgressModel",
          "state": {
            "_view_name": "ProgressView",
            "style": "IPY_MODEL_8c8c69f797a845bfb76e6d32ec0e77d1",
            "_dom_classes": [],
            "description": "",
            "_model_name": "FloatProgressModel",
            "bar_style": "info",
            "max": 1,
            "_view_module": "@jupyter-widgets/controls",
            "_model_module_version": "1.5.0",
            "value": 1,
            "_view_count": null,
            "_view_module_version": "1.5.0",
            "orientation": "horizontal",
            "min": 0,
            "description_tooltip": null,
            "_model_module": "@jupyter-widgets/controls",
            "layout": "IPY_MODEL_30bbe9ccb5824a9093f57d6b32bc50b4"
          }
        },
        "769e8ce4c90c496cbb0e1e35ea0dc218": {
          "model_module": "@jupyter-widgets/controls",
          "model_name": "HTMLModel",
          "state": {
            "_view_name": "HTMLView",
            "style": "IPY_MODEL_76b64672fc894bcbacf6692fbbd7ae32",
            "_dom_classes": [],
            "description": "",
            "_model_name": "HTMLModel",
            "placeholder": "​",
            "_view_module": "@jupyter-widgets/controls",
            "_model_module_version": "1.5.0",
            "value": " 25000/0 [00:02&lt;00:00, 30.36 examples/s]",
            "_view_count": null,
            "_view_module_version": "1.5.0",
            "description_tooltip": null,
            "_model_module": "@jupyter-widgets/controls",
            "layout": "IPY_MODEL_723df01114364cc08aa812a76e1ab042"
          }
        },
        "8c8c69f797a845bfb76e6d32ec0e77d1": {
          "model_module": "@jupyter-widgets/controls",
          "model_name": "ProgressStyleModel",
          "state": {
            "_view_name": "StyleView",
            "_model_name": "ProgressStyleModel",
            "description_width": "initial",
            "_view_module": "@jupyter-widgets/base",
            "_model_module_version": "1.5.0",
            "_view_count": null,
            "_view_module_version": "1.2.0",
            "bar_color": null,
            "_model_module": "@jupyter-widgets/controls"
          }
        },
        "30bbe9ccb5824a9093f57d6b32bc50b4": {
          "model_module": "@jupyter-widgets/base",
          "model_name": "LayoutModel",
          "state": {
            "_view_name": "LayoutView",
            "grid_template_rows": null,
            "right": null,
            "justify_content": null,
            "_view_module": "@jupyter-widgets/base",
            "overflow": null,
            "_model_module_version": "1.2.0",
            "_view_count": null,
            "flex_flow": null,
            "width": null,
            "min_width": null,
            "border": null,
            "align_items": null,
            "bottom": null,
            "_model_module": "@jupyter-widgets/base",
            "top": null,
            "grid_column": null,
            "overflow_y": null,
            "overflow_x": null,
            "grid_auto_flow": null,
            "grid_area": null,
            "grid_template_columns": null,
            "flex": null,
            "_model_name": "LayoutModel",
            "justify_items": null,
            "grid_row": null,
            "max_height": null,
            "align_content": null,
            "visibility": null,
            "align_self": null,
            "height": null,
            "min_height": null,
            "padding": null,
            "grid_auto_rows": null,
            "grid_gap": null,
            "max_width": null,
            "order": null,
            "_view_module_version": "1.2.0",
            "grid_template_areas": null,
            "object_position": null,
            "object_fit": null,
            "grid_auto_columns": null,
            "margin": null,
            "display": null,
            "left": null
          }
        },
        "76b64672fc894bcbacf6692fbbd7ae32": {
          "model_module": "@jupyter-widgets/controls",
          "model_name": "DescriptionStyleModel",
          "state": {
            "_view_name": "StyleView",
            "_model_name": "DescriptionStyleModel",
            "description_width": "",
            "_view_module": "@jupyter-widgets/base",
            "_model_module_version": "1.5.0",
            "_view_count": null,
            "_view_module_version": "1.2.0",
            "_model_module": "@jupyter-widgets/controls"
          }
        },
        "723df01114364cc08aa812a76e1ab042": {
          "model_module": "@jupyter-widgets/base",
          "model_name": "LayoutModel",
          "state": {
            "_view_name": "LayoutView",
            "grid_template_rows": null,
            "right": null,
            "justify_content": null,
            "_view_module": "@jupyter-widgets/base",
            "overflow": null,
            "_model_module_version": "1.2.0",
            "_view_count": null,
            "flex_flow": null,
            "width": null,
            "min_width": null,
            "border": null,
            "align_items": null,
            "bottom": null,
            "_model_module": "@jupyter-widgets/base",
            "top": null,
            "grid_column": null,
            "overflow_y": null,
            "overflow_x": null,
            "grid_auto_flow": null,
            "grid_area": null,
            "grid_template_columns": null,
            "flex": null,
            "_model_name": "LayoutModel",
            "justify_items": null,
            "grid_row": null,
            "max_height": null,
            "align_content": null,
            "visibility": null,
            "align_self": null,
            "height": null,
            "min_height": null,
            "padding": null,
            "grid_auto_rows": null,
            "grid_gap": null,
            "max_width": null,
            "order": null,
            "_view_module_version": "1.2.0",
            "grid_template_areas": null,
            "object_position": null,
            "object_fit": null,
            "grid_auto_columns": null,
            "margin": null,
            "display": null,
            "left": null
          }
        },
        "be0e44a34c874ae89e7ad139770b175e": {
          "model_module": "@jupyter-widgets/controls",
          "model_name": "HBoxModel",
          "state": {
            "_view_name": "HBoxView",
            "_dom_classes": [],
            "_model_name": "HBoxModel",
            "_view_module": "@jupyter-widgets/controls",
            "_model_module_version": "1.5.0",
            "_view_count": null,
            "_view_module_version": "1.5.0",
            "box_style": "",
            "layout": "IPY_MODEL_4fbbf76cc9494cc1bafffc1d12ff6604",
            "_model_module": "@jupyter-widgets/controls",
            "children": [
              "IPY_MODEL_804cc9e96f034af094fcf27763130b81",
              "IPY_MODEL_7245ec8a08944713b23ffa10bb71c90a"
            ]
          }
        },
        "4fbbf76cc9494cc1bafffc1d12ff6604": {
          "model_module": "@jupyter-widgets/base",
          "model_name": "LayoutModel",
          "state": {
            "_view_name": "LayoutView",
            "grid_template_rows": null,
            "right": null,
            "justify_content": null,
            "_view_module": "@jupyter-widgets/base",
            "overflow": null,
            "_model_module_version": "1.2.0",
            "_view_count": null,
            "flex_flow": null,
            "width": null,
            "min_width": null,
            "border": null,
            "align_items": null,
            "bottom": null,
            "_model_module": "@jupyter-widgets/base",
            "top": null,
            "grid_column": null,
            "overflow_y": null,
            "overflow_x": null,
            "grid_auto_flow": null,
            "grid_area": null,
            "grid_template_columns": null,
            "flex": null,
            "_model_name": "LayoutModel",
            "justify_items": null,
            "grid_row": null,
            "max_height": null,
            "align_content": null,
            "visibility": null,
            "align_self": null,
            "height": null,
            "min_height": null,
            "padding": null,
            "grid_auto_rows": null,
            "grid_gap": null,
            "max_width": null,
            "order": null,
            "_view_module_version": "1.2.0",
            "grid_template_areas": null,
            "object_position": null,
            "object_fit": null,
            "grid_auto_columns": null,
            "margin": null,
            "display": null,
            "left": null
          }
        },
        "804cc9e96f034af094fcf27763130b81": {
          "model_module": "@jupyter-widgets/controls",
          "model_name": "FloatProgressModel",
          "state": {
            "_view_name": "ProgressView",
            "style": "IPY_MODEL_6b37b59d3d384bdea14860f01a804e8d",
            "_dom_classes": [],
            "description": "",
            "_model_name": "FloatProgressModel",
            "bar_style": "info",
            "max": 1,
            "_view_module": "@jupyter-widgets/controls",
            "_model_module_version": "1.5.0",
            "value": 1,
            "_view_count": null,
            "_view_module_version": "1.5.0",
            "orientation": "horizontal",
            "min": 0,
            "description_tooltip": null,
            "_model_module": "@jupyter-widgets/controls",
            "layout": "IPY_MODEL_15d103c0e0e84591933d81fd861d492b"
          }
        },
        "7245ec8a08944713b23ffa10bb71c90a": {
          "model_module": "@jupyter-widgets/controls",
          "model_name": "HTMLModel",
          "state": {
            "_view_name": "HTMLView",
            "style": "IPY_MODEL_fcbd471e332c44318f7815b919e0523c",
            "_dom_classes": [],
            "description": "",
            "_model_name": "HTMLModel",
            "placeholder": "​",
            "_view_module": "@jupyter-widgets/controls",
            "_model_module_version": "1.5.0",
            "value": " 25000/0 [00:01&lt;00:00, 20245.27 examples/s]",
            "_view_count": null,
            "_view_module_version": "1.5.0",
            "description_tooltip": null,
            "_model_module": "@jupyter-widgets/controls",
            "layout": "IPY_MODEL_c579e363f1154c4595fc7258efebb1e6"
          }
        },
        "6b37b59d3d384bdea14860f01a804e8d": {
          "model_module": "@jupyter-widgets/controls",
          "model_name": "ProgressStyleModel",
          "state": {
            "_view_name": "StyleView",
            "_model_name": "ProgressStyleModel",
            "description_width": "initial",
            "_view_module": "@jupyter-widgets/base",
            "_model_module_version": "1.5.0",
            "_view_count": null,
            "_view_module_version": "1.2.0",
            "bar_color": null,
            "_model_module": "@jupyter-widgets/controls"
          }
        },
        "15d103c0e0e84591933d81fd861d492b": {
          "model_module": "@jupyter-widgets/base",
          "model_name": "LayoutModel",
          "state": {
            "_view_name": "LayoutView",
            "grid_template_rows": null,
            "right": null,
            "justify_content": null,
            "_view_module": "@jupyter-widgets/base",
            "overflow": null,
            "_model_module_version": "1.2.0",
            "_view_count": null,
            "flex_flow": null,
            "width": null,
            "min_width": null,
            "border": null,
            "align_items": null,
            "bottom": null,
            "_model_module": "@jupyter-widgets/base",
            "top": null,
            "grid_column": null,
            "overflow_y": null,
            "overflow_x": null,
            "grid_auto_flow": null,
            "grid_area": null,
            "grid_template_columns": null,
            "flex": null,
            "_model_name": "LayoutModel",
            "justify_items": null,
            "grid_row": null,
            "max_height": null,
            "align_content": null,
            "visibility": null,
            "align_self": null,
            "height": null,
            "min_height": null,
            "padding": null,
            "grid_auto_rows": null,
            "grid_gap": null,
            "max_width": null,
            "order": null,
            "_view_module_version": "1.2.0",
            "grid_template_areas": null,
            "object_position": null,
            "object_fit": null,
            "grid_auto_columns": null,
            "margin": null,
            "display": null,
            "left": null
          }
        },
        "fcbd471e332c44318f7815b919e0523c": {
          "model_module": "@jupyter-widgets/controls",
          "model_name": "DescriptionStyleModel",
          "state": {
            "_view_name": "StyleView",
            "_model_name": "DescriptionStyleModel",
            "description_width": "",
            "_view_module": "@jupyter-widgets/base",
            "_model_module_version": "1.5.0",
            "_view_count": null,
            "_view_module_version": "1.2.0",
            "_model_module": "@jupyter-widgets/controls"
          }
        },
        "c579e363f1154c4595fc7258efebb1e6": {
          "model_module": "@jupyter-widgets/base",
          "model_name": "LayoutModel",
          "state": {
            "_view_name": "LayoutView",
            "grid_template_rows": null,
            "right": null,
            "justify_content": null,
            "_view_module": "@jupyter-widgets/base",
            "overflow": null,
            "_model_module_version": "1.2.0",
            "_view_count": null,
            "flex_flow": null,
            "width": null,
            "min_width": null,
            "border": null,
            "align_items": null,
            "bottom": null,
            "_model_module": "@jupyter-widgets/base",
            "top": null,
            "grid_column": null,
            "overflow_y": null,
            "overflow_x": null,
            "grid_auto_flow": null,
            "grid_area": null,
            "grid_template_columns": null,
            "flex": null,
            "_model_name": "LayoutModel",
            "justify_items": null,
            "grid_row": null,
            "max_height": null,
            "align_content": null,
            "visibility": null,
            "align_self": null,
            "height": null,
            "min_height": null,
            "padding": null,
            "grid_auto_rows": null,
            "grid_gap": null,
            "max_width": null,
            "order": null,
            "_view_module_version": "1.2.0",
            "grid_template_areas": null,
            "object_position": null,
            "object_fit": null,
            "grid_auto_columns": null,
            "margin": null,
            "display": null,
            "left": null
          }
        },
        "cfa6fb3eca40434a8d3c6ba789a061ea": {
          "model_module": "@jupyter-widgets/controls",
          "model_name": "HBoxModel",
          "state": {
            "_view_name": "HBoxView",
            "_dom_classes": [],
            "_model_name": "HBoxModel",
            "_view_module": "@jupyter-widgets/controls",
            "_model_module_version": "1.5.0",
            "_view_count": null,
            "_view_module_version": "1.5.0",
            "box_style": "",
            "layout": "IPY_MODEL_65bdf328015947238a888d85a548033c",
            "_model_module": "@jupyter-widgets/controls",
            "children": [
              "IPY_MODEL_e40d11bb95354198876865b6cb6b64b3",
              "IPY_MODEL_a987eefeb7c54f0e9629629ed54434fd"
            ]
          }
        },
        "65bdf328015947238a888d85a548033c": {
          "model_module": "@jupyter-widgets/base",
          "model_name": "LayoutModel",
          "state": {
            "_view_name": "LayoutView",
            "grid_template_rows": null,
            "right": null,
            "justify_content": null,
            "_view_module": "@jupyter-widgets/base",
            "overflow": null,
            "_model_module_version": "1.2.0",
            "_view_count": null,
            "flex_flow": null,
            "width": null,
            "min_width": null,
            "border": null,
            "align_items": null,
            "bottom": null,
            "_model_module": "@jupyter-widgets/base",
            "top": null,
            "grid_column": null,
            "overflow_y": null,
            "overflow_x": null,
            "grid_auto_flow": null,
            "grid_area": null,
            "grid_template_columns": null,
            "flex": null,
            "_model_name": "LayoutModel",
            "justify_items": null,
            "grid_row": null,
            "max_height": null,
            "align_content": null,
            "visibility": null,
            "align_self": null,
            "height": null,
            "min_height": null,
            "padding": null,
            "grid_auto_rows": null,
            "grid_gap": null,
            "max_width": null,
            "order": null,
            "_view_module_version": "1.2.0",
            "grid_template_areas": null,
            "object_position": null,
            "object_fit": null,
            "grid_auto_columns": null,
            "margin": null,
            "display": null,
            "left": null
          }
        },
        "e40d11bb95354198876865b6cb6b64b3": {
          "model_module": "@jupyter-widgets/controls",
          "model_name": "FloatProgressModel",
          "state": {
            "_view_name": "ProgressView",
            "style": "IPY_MODEL_6c3f106a07a14e21a786fb47a5cd4f80",
            "_dom_classes": [],
            "description": "",
            "_model_name": "FloatProgressModel",
            "bar_style": "info",
            "max": 1,
            "_view_module": "@jupyter-widgets/controls",
            "_model_module_version": "1.5.0",
            "value": 1,
            "_view_count": null,
            "_view_module_version": "1.5.0",
            "orientation": "horizontal",
            "min": 0,
            "description_tooltip": null,
            "_model_module": "@jupyter-widgets/controls",
            "layout": "IPY_MODEL_03b9dc60bef04348a97604d32bcae9f2"
          }
        },
        "a987eefeb7c54f0e9629629ed54434fd": {
          "model_module": "@jupyter-widgets/controls",
          "model_name": "HTMLModel",
          "state": {
            "_view_name": "HTMLView",
            "style": "IPY_MODEL_9ccd43da2c0c46f8bda440d10e18dac5",
            "_dom_classes": [],
            "description": "",
            "_model_name": "HTMLModel",
            "placeholder": "​",
            "_view_module": "@jupyter-widgets/controls",
            "_model_module_version": "1.5.0",
            "value": " 50000/0 [00:02&lt;00:00, 21695.95 examples/s]",
            "_view_count": null,
            "_view_module_version": "1.5.0",
            "description_tooltip": null,
            "_model_module": "@jupyter-widgets/controls",
            "layout": "IPY_MODEL_27f49738314d4b6696a1456e25072a78"
          }
        },
        "6c3f106a07a14e21a786fb47a5cd4f80": {
          "model_module": "@jupyter-widgets/controls",
          "model_name": "ProgressStyleModel",
          "state": {
            "_view_name": "StyleView",
            "_model_name": "ProgressStyleModel",
            "description_width": "initial",
            "_view_module": "@jupyter-widgets/base",
            "_model_module_version": "1.5.0",
            "_view_count": null,
            "_view_module_version": "1.2.0",
            "bar_color": null,
            "_model_module": "@jupyter-widgets/controls"
          }
        },
        "03b9dc60bef04348a97604d32bcae9f2": {
          "model_module": "@jupyter-widgets/base",
          "model_name": "LayoutModel",
          "state": {
            "_view_name": "LayoutView",
            "grid_template_rows": null,
            "right": null,
            "justify_content": null,
            "_view_module": "@jupyter-widgets/base",
            "overflow": null,
            "_model_module_version": "1.2.0",
            "_view_count": null,
            "flex_flow": null,
            "width": null,
            "min_width": null,
            "border": null,
            "align_items": null,
            "bottom": null,
            "_model_module": "@jupyter-widgets/base",
            "top": null,
            "grid_column": null,
            "overflow_y": null,
            "overflow_x": null,
            "grid_auto_flow": null,
            "grid_area": null,
            "grid_template_columns": null,
            "flex": null,
            "_model_name": "LayoutModel",
            "justify_items": null,
            "grid_row": null,
            "max_height": null,
            "align_content": null,
            "visibility": null,
            "align_self": null,
            "height": null,
            "min_height": null,
            "padding": null,
            "grid_auto_rows": null,
            "grid_gap": null,
            "max_width": null,
            "order": null,
            "_view_module_version": "1.2.0",
            "grid_template_areas": null,
            "object_position": null,
            "object_fit": null,
            "grid_auto_columns": null,
            "margin": null,
            "display": null,
            "left": null
          }
        },
        "9ccd43da2c0c46f8bda440d10e18dac5": {
          "model_module": "@jupyter-widgets/controls",
          "model_name": "DescriptionStyleModel",
          "state": {
            "_view_name": "StyleView",
            "_model_name": "DescriptionStyleModel",
            "description_width": "",
            "_view_module": "@jupyter-widgets/base",
            "_model_module_version": "1.5.0",
            "_view_count": null,
            "_view_module_version": "1.2.0",
            "_model_module": "@jupyter-widgets/controls"
          }
        },
        "27f49738314d4b6696a1456e25072a78": {
          "model_module": "@jupyter-widgets/base",
          "model_name": "LayoutModel",
          "state": {
            "_view_name": "LayoutView",
            "grid_template_rows": null,
            "right": null,
            "justify_content": null,
            "_view_module": "@jupyter-widgets/base",
            "overflow": null,
            "_model_module_version": "1.2.0",
            "_view_count": null,
            "flex_flow": null,
            "width": null,
            "min_width": null,
            "border": null,
            "align_items": null,
            "bottom": null,
            "_model_module": "@jupyter-widgets/base",
            "top": null,
            "grid_column": null,
            "overflow_y": null,
            "overflow_x": null,
            "grid_auto_flow": null,
            "grid_area": null,
            "grid_template_columns": null,
            "flex": null,
            "_model_name": "LayoutModel",
            "justify_items": null,
            "grid_row": null,
            "max_height": null,
            "align_content": null,
            "visibility": null,
            "align_self": null,
            "height": null,
            "min_height": null,
            "padding": null,
            "grid_auto_rows": null,
            "grid_gap": null,
            "max_width": null,
            "order": null,
            "_view_module_version": "1.2.0",
            "grid_template_areas": null,
            "object_position": null,
            "object_fit": null,
            "grid_auto_columns": null,
            "margin": null,
            "display": null,
            "left": null
          }
        }
      }
    }
  },
  "cells": [
    {
      "cell_type": "code",
      "metadata": {
        "colab": {
          "base_uri": "https://localhost:8080/"
        },
        "id": "Tjsl5_TPD5p-",
        "outputId": "145b3ed2-36a2-46fd-f4c9-192673ff06c5"
      },
      "source": [
        "from google.colab import drive\n",
        "drive.mount('/content/drive')"
      ],
      "execution_count": 1,
      "outputs": [
        {
          "output_type": "stream",
          "text": [
            "Drive already mounted at /content/drive; to attempt to forcibly remount, call drive.mount(\"/content/drive\", force_remount=True).\n"
          ],
          "name": "stdout"
        }
      ]
    },
    {
      "cell_type": "code",
      "metadata": {
        "id": "hZeIFn6iC9FF",
        "colab": {
          "base_uri": "https://localhost:8080/"
        },
        "outputId": "ef0bd690-0a3c-49d4-d91a-051d78a29c85"
      },
      "source": [
        "!pip install textattack\n",
        "!pip install -U gensim==4.0.0\n",
        "!pip install python-Levenshtein"
      ],
      "execution_count": 2,
      "outputs": [
        {
          "output_type": "stream",
          "text": [
            "Requirement already satisfied: textattack in /usr/local/lib/python3.7/dist-packages (0.2.15)\n",
            "Requirement already satisfied: numpy<1.19.0 in /usr/local/lib/python3.7/dist-packages (from textattack) (1.18.5)\n",
            "Requirement already satisfied: flair==0.6.1.post1 in /usr/local/lib/python3.7/dist-packages (from textattack) (0.6.1.post1)\n",
            "Requirement already satisfied: language-tool-python in /usr/local/lib/python3.7/dist-packages (from textattack) (2.5.3)\n",
            "Requirement already satisfied: PySocks!=1.5.7,>=1.5.6 in /usr/local/lib/python3.7/dist-packages (from textattack) (1.7.1)\n",
            "Requirement already satisfied: word2number in /usr/local/lib/python3.7/dist-packages (from textattack) (1.1)\n",
            "Requirement already satisfied: scipy==1.4.1 in /usr/local/lib/python3.7/dist-packages (from textattack) (1.4.1)\n",
            "Requirement already satisfied: tqdm<4.50.0,>=4.27 in /usr/local/lib/python3.7/dist-packages (from textattack) (4.41.1)\n",
            "Requirement already satisfied: more-itertools in /usr/local/lib/python3.7/dist-packages (from textattack) (8.7.0)\n",
            "Requirement already satisfied: filelock in /usr/local/lib/python3.7/dist-packages (from textattack) (3.0.12)\n",
            "Requirement already satisfied: datasets in /usr/local/lib/python3.7/dist-packages (from textattack) (1.6.2)\n",
            "Requirement already satisfied: pandas>=1.0.1 in /usr/local/lib/python3.7/dist-packages (from textattack) (1.1.5)\n",
            "Requirement already satisfied: lemminflect in /usr/local/lib/python3.7/dist-packages (from textattack) (0.2.2)\n",
            "Requirement already satisfied: editdistance in /usr/local/lib/python3.7/dist-packages (from textattack) (0.5.3)\n",
            "Requirement already satisfied: num2words in /usr/local/lib/python3.7/dist-packages (from textattack) (0.5.10)\n",
            "Requirement already satisfied: torch in /usr/local/lib/python3.7/dist-packages (from textattack) (1.8.1+cu101)\n",
            "Requirement already satisfied: lru-dict in /usr/local/lib/python3.7/dist-packages (from textattack) (1.1.7)\n",
            "Requirement already satisfied: transformers>=3.3.0 in /usr/local/lib/python3.7/dist-packages (from textattack) (4.5.1)\n",
            "Requirement already satisfied: terminaltables in /usr/local/lib/python3.7/dist-packages (from textattack) (3.1.0)\n",
            "Requirement already satisfied: nltk in /usr/local/lib/python3.7/dist-packages (from textattack) (3.2.5)\n",
            "Requirement already satisfied: bert-score>=0.3.5 in /usr/local/lib/python3.7/dist-packages (from textattack) (0.3.9)\n",
            "Requirement already satisfied: segtok>=1.5.7 in /usr/local/lib/python3.7/dist-packages (from flair==0.6.1.post1->textattack) (1.5.10)\n",
            "Requirement already satisfied: sqlitedict>=1.6.0 in /usr/local/lib/python3.7/dist-packages (from flair==0.6.1.post1->textattack) (1.7.0)\n",
            "Requirement already satisfied: bpemb>=0.3.2 in /usr/local/lib/python3.7/dist-packages (from flair==0.6.1.post1->textattack) (0.3.3)\n",
            "Requirement already satisfied: regex in /usr/local/lib/python3.7/dist-packages (from flair==0.6.1.post1->textattack) (2019.12.20)\n",
            "Requirement already satisfied: sentencepiece!=0.1.92 in /usr/local/lib/python3.7/dist-packages (from flair==0.6.1.post1->textattack) (0.1.95)\n",
            "Requirement already satisfied: lxml in /usr/local/lib/python3.7/dist-packages (from flair==0.6.1.post1->textattack) (4.2.6)\n",
            "Requirement already satisfied: gdown in /usr/local/lib/python3.7/dist-packages (from flair==0.6.1.post1->textattack) (3.6.4)\n",
            "Requirement already satisfied: tabulate in /usr/local/lib/python3.7/dist-packages (from flair==0.6.1.post1->textattack) (0.8.9)\n",
            "Requirement already satisfied: gensim>=3.4.0 in /usr/local/lib/python3.7/dist-packages (from flair==0.6.1.post1->textattack) (4.0.0)\n",
            "Requirement already satisfied: ftfy in /usr/local/lib/python3.7/dist-packages (from flair==0.6.1.post1->textattack) (6.0.1)\n",
            "Requirement already satisfied: python-dateutil>=2.6.1 in /usr/local/lib/python3.7/dist-packages (from flair==0.6.1.post1->textattack) (2.8.1)\n",
            "Requirement already satisfied: mpld3==0.3 in /usr/local/lib/python3.7/dist-packages (from flair==0.6.1.post1->textattack) (0.3)\n",
            "Requirement already satisfied: scikit-learn>=0.21.3 in /usr/local/lib/python3.7/dist-packages (from flair==0.6.1.post1->textattack) (0.22.2.post1)\n",
            "Requirement already satisfied: matplotlib>=2.2.3 in /usr/local/lib/python3.7/dist-packages (from flair==0.6.1.post1->textattack) (3.2.2)\n",
            "Requirement already satisfied: konoha<5.0.0,>=4.0.0 in /usr/local/lib/python3.7/dist-packages (from flair==0.6.1.post1->textattack) (4.6.4)\n",
            "Requirement already satisfied: hyperopt>=0.1.1 in /usr/local/lib/python3.7/dist-packages (from flair==0.6.1.post1->textattack) (0.1.2)\n",
            "Requirement already satisfied: janome in /usr/local/lib/python3.7/dist-packages (from flair==0.6.1.post1->textattack) (0.4.1)\n",
            "Requirement already satisfied: langdetect in /usr/local/lib/python3.7/dist-packages (from flair==0.6.1.post1->textattack) (1.0.9)\n",
            "Requirement already satisfied: deprecated>=1.2.4 in /usr/local/lib/python3.7/dist-packages (from flair==0.6.1.post1->textattack) (1.2.12)\n",
            "Requirement already satisfied: requests in /usr/local/lib/python3.7/dist-packages (from language-tool-python->textattack) (2.23.0)\n",
            "Requirement already satisfied: xxhash in /usr/local/lib/python3.7/dist-packages (from datasets->textattack) (2.0.2)\n",
            "Requirement already satisfied: huggingface-hub<0.1.0 in /usr/local/lib/python3.7/dist-packages (from datasets->textattack) (0.0.8)\n",
            "Requirement already satisfied: importlib-metadata; python_version < \"3.8\" in /usr/local/lib/python3.7/dist-packages (from datasets->textattack) (3.10.1)\n",
            "Requirement already satisfied: multiprocess in /usr/local/lib/python3.7/dist-packages (from datasets->textattack) (0.70.11.1)\n",
            "Requirement already satisfied: fsspec in /usr/local/lib/python3.7/dist-packages (from datasets->textattack) (2021.4.0)\n",
            "Requirement already satisfied: packaging in /usr/local/lib/python3.7/dist-packages (from datasets->textattack) (20.9)\n",
            "Requirement already satisfied: dill in /usr/local/lib/python3.7/dist-packages (from datasets->textattack) (0.3.3)\n",
            "Requirement already satisfied: pyarrow>=1.0.0<4.0.0 in /usr/local/lib/python3.7/dist-packages (from datasets->textattack) (3.0.0)\n",
            "Requirement already satisfied: pytz>=2017.2 in /usr/local/lib/python3.7/dist-packages (from pandas>=1.0.1->textattack) (2018.9)\n",
            "Requirement already satisfied: docopt>=0.6.2 in /usr/local/lib/python3.7/dist-packages (from num2words->textattack) (0.6.2)\n",
            "Requirement already satisfied: typing-extensions in /usr/local/lib/python3.7/dist-packages (from torch->textattack) (3.7.4.3)\n",
            "Requirement already satisfied: tokenizers<0.11,>=0.10.1 in /usr/local/lib/python3.7/dist-packages (from transformers>=3.3.0->textattack) (0.10.2)\n",
            "Requirement already satisfied: sacremoses in /usr/local/lib/python3.7/dist-packages (from transformers>=3.3.0->textattack) (0.0.45)\n",
            "Requirement already satisfied: six in /usr/local/lib/python3.7/dist-packages (from nltk->textattack) (1.15.0)\n",
            "Requirement already satisfied: smart-open>=1.8.1 in /usr/local/lib/python3.7/dist-packages (from gensim>=3.4.0->flair==0.6.1.post1->textattack) (5.0.0)\n",
            "Requirement already satisfied: wcwidth in /usr/local/lib/python3.7/dist-packages (from ftfy->flair==0.6.1.post1->textattack) (0.2.5)\n",
            "Requirement already satisfied: joblib>=0.11 in /usr/local/lib/python3.7/dist-packages (from scikit-learn>=0.21.3->flair==0.6.1.post1->textattack) (1.0.1)\n",
            "Requirement already satisfied: kiwisolver>=1.0.1 in /usr/local/lib/python3.7/dist-packages (from matplotlib>=2.2.3->flair==0.6.1.post1->textattack) (1.3.1)\n",
            "Requirement already satisfied: pyparsing!=2.0.4,!=2.1.2,!=2.1.6,>=2.0.1 in /usr/local/lib/python3.7/dist-packages (from matplotlib>=2.2.3->flair==0.6.1.post1->textattack) (2.4.7)\n",
            "Requirement already satisfied: cycler>=0.10 in /usr/local/lib/python3.7/dist-packages (from matplotlib>=2.2.3->flair==0.6.1.post1->textattack) (0.10.0)\n",
            "Requirement already satisfied: overrides<4.0.0,>=3.0.0 in /usr/local/lib/python3.7/dist-packages (from konoha<5.0.0,>=4.0.0->flair==0.6.1.post1->textattack) (3.1.0)\n",
            "Requirement already satisfied: networkx in /usr/local/lib/python3.7/dist-packages (from hyperopt>=0.1.1->flair==0.6.1.post1->textattack) (2.5.1)\n",
            "Requirement already satisfied: pymongo in /usr/local/lib/python3.7/dist-packages (from hyperopt>=0.1.1->flair==0.6.1.post1->textattack) (3.11.3)\n",
            "Requirement already satisfied: future in /usr/local/lib/python3.7/dist-packages (from hyperopt>=0.1.1->flair==0.6.1.post1->textattack) (0.16.0)\n",
            "Requirement already satisfied: wrapt<2,>=1.10 in /usr/local/lib/python3.7/dist-packages (from deprecated>=1.2.4->flair==0.6.1.post1->textattack) (1.12.1)\n",
            "Requirement already satisfied: idna<3,>=2.5 in /usr/local/lib/python3.7/dist-packages (from requests->language-tool-python->textattack) (2.10)\n",
            "Requirement already satisfied: chardet<4,>=3.0.2 in /usr/local/lib/python3.7/dist-packages (from requests->language-tool-python->textattack) (3.0.4)\n",
            "Requirement already satisfied: certifi>=2017.4.17 in /usr/local/lib/python3.7/dist-packages (from requests->language-tool-python->textattack) (2020.12.5)\n",
            "Requirement already satisfied: urllib3!=1.25.0,!=1.25.1,<1.26,>=1.21.1 in /usr/local/lib/python3.7/dist-packages (from requests->language-tool-python->textattack) (1.24.3)\n",
            "Requirement already satisfied: zipp>=0.5 in /usr/local/lib/python3.7/dist-packages (from importlib-metadata; python_version < \"3.8\"->datasets->textattack) (3.4.1)\n",
            "Requirement already satisfied: click in /usr/local/lib/python3.7/dist-packages (from sacremoses->transformers>=3.3.0->textattack) (7.1.2)\n",
            "Requirement already satisfied: decorator<5,>=4.3 in /usr/local/lib/python3.7/dist-packages (from networkx->hyperopt>=0.1.1->flair==0.6.1.post1->textattack) (4.4.2)\n",
            "Requirement already up-to-date: gensim==4.0.0 in /usr/local/lib/python3.7/dist-packages (4.0.0)\n",
            "Requirement already satisfied, skipping upgrade: scipy>=0.18.1 in /usr/local/lib/python3.7/dist-packages (from gensim==4.0.0) (1.4.1)\n",
            "Requirement already satisfied, skipping upgrade: smart-open>=1.8.1 in /usr/local/lib/python3.7/dist-packages (from gensim==4.0.0) (5.0.0)\n",
            "Requirement already satisfied, skipping upgrade: numpy>=1.11.3 in /usr/local/lib/python3.7/dist-packages (from gensim==4.0.0) (1.18.5)\n",
            "Requirement already satisfied: python-Levenshtein in /usr/local/lib/python3.7/dist-packages (0.12.2)\n",
            "Requirement already satisfied: setuptools in /usr/local/lib/python3.7/dist-packages (from python-Levenshtein) (56.0.0)\n"
          ],
          "name": "stdout"
        }
      ]
    },
    {
      "cell_type": "code",
      "metadata": {
        "id": "XbSBo02xDGO2"
      },
      "source": [
        "# import gensim.downloader as api\n",
        "# corpus = api.load('text8')\n",
        "# from gensim.models.fasttext import FastText\n",
        "# model1 = FastText(corpus, sample = 0, sg = 1)"
      ],
      "execution_count": null,
      "outputs": []
    },
    {
      "cell_type": "code",
      "metadata": {
        "id": "jLiSrpmTErOs"
      },
      "source": [
        "# import gensim.downloader as api\n",
        "# corpus = api.load('text8')\n",
        "# from gensim.models.word2vec import Word2Vec\n",
        "# model2 = Word2Vec(corpus, sample = 0, sg = 1)"
      ],
      "execution_count": null,
      "outputs": []
    },
    {
      "cell_type": "code",
      "metadata": {
        "id": "ZCLiyaHYDBk1"
      },
      "source": [
        "from gensim.test.utils import get_tmpfile\n",
        "from gensim.models.fasttext import FastText\n",
        "#fname = get_tmpfile(\"/models/fasttext.model\") \n",
        "model1 = FastText.load(\"/content/drive/MyDrive/models/fasttext.model\") # Change this location"
      ],
      "execution_count": 3,
      "outputs": []
    },
    {
      "cell_type": "code",
      "metadata": {
        "id": "e4jwSL5YDvPy"
      },
      "source": [
        "from gensim.test.utils import get_tmpfile\n",
        "from gensim.models.word2vec import Word2Vec\n",
        "#fname1 = get_tmpfile(\"/models/word2vec.model\") \n",
        "model2 = Word2Vec.load(\"/content/drive/MyDrive/models/word2vec.model\") # Change this location"
      ],
      "execution_count": 4,
      "outputs": []
    },
    {
      "cell_type": "code",
      "metadata": {
        "id": "l1xXXw5tFbuM",
        "colab": {
          "base_uri": "https://localhost:8080/"
        },
        "outputId": "01b98379-46e0-4a63-92d3-bab2e005c69a"
      },
      "source": [
        "print(model1.wv.most_similar('cat'))\n",
        "print(model2.wv.most_similar('cat'))"
      ],
      "execution_count": 5,
      "outputs": [
        {
          "output_type": "stream",
          "text": [
            "[('bobcat', 0.759185791015625), ('dog', 0.7208123803138733), ('foxglove', 0.7110776901245117), ('pig', 0.7088143229484558), ('goose', 0.7069101333618164), ('cats', 0.702387273311615), ('beak', 0.7008379697799683), ('catfish', 0.6987316608428955), ('foxhound', 0.696578860282898), ('catnip', 0.6960986852645874)]\n",
            "[('dog', 0.7193913459777832), ('squirrel', 0.696162760257721), ('leopardus', 0.6945451498031616), ('prionailurus', 0.688106894493103), ('albino', 0.6880608201026917), ('bird', 0.6836060285568237), ('eared', 0.6803243160247803), ('rhinoceros', 0.6769237518310547), ('hyena', 0.6756084561347961), ('badger', 0.6752869486808777)]\n"
          ],
          "name": "stdout"
        }
      ]
    },
    {
      "cell_type": "code",
      "metadata": {
        "id": "QfecgI6BExUJ",
        "colab": {
          "base_uri": "https://localhost:8080/",
          "height": 614,
          "referenced_widgets": [
            "37fcdcb321ca413c81e8ca4be5b4fbe1",
            "cdfaa959dc23416ea5f8d4a9df1549e1",
            "416ddb007a6f4963a023a62f3d8ed516",
            "2648e3ea92f44cc7bf376a73afefd39b",
            "ef586dfe220d412c9d21f7c22b0f7a2e",
            "63c4aeec061248cbad4d5caca01f4cf4",
            "a88ccd49c88c49399ee445be4dc8db9a",
            "dcf213efbc604ced8e4ea53893f5436f",
            "9579cb46cbe748e3a2fc4e1129d8a47f",
            "b0cfe1f4ce924fd58c1736845a03a337",
            "c2745dfa849740afb03f88bb01fa13e3",
            "26250267e1bd4d6592d676aa13779910",
            "0fc07bd657bd43cebcd4221f62485686",
            "1531456c6c0e4357848b99ec697f4117",
            "c3f2af8743aa49b4a39984772bdf142e",
            "0dc2b4c81e0749d39114318f473466a9",
            "199a335984f34237bf660b2e353d8a6b",
            "dc6bf4b115654453839d579ce9230063",
            "b373722cf38f44d9a0913d29e8d5d2f2",
            "b615024291f346ea967648b47c4becf6",
            "57edfd1b9c9848fd9cbe5da1a17ae25b",
            "a1a8e4e23d3842a1b5e974bda6311359",
            "5a79ac7588f34c0fa290e83a4511098a",
            "ca766f614f9b4e468c0b102b4a0ba8d6",
            "e5da056ac2f34e8db14758e149e3f79c",
            "588c3d3cec494d998106c024f28e3f3f",
            "0ddfea6b9c5d44b8bc993661c1e96f77",
            "786b629e2fbf4abc9a5f6ce9b42c210f",
            "bda3eb867be24e2b90a56c4af343b061",
            "f78aec1362884026a269ca50bd31a952",
            "57c0d55d88924416b9f271ed9c8be000",
            "4d499be2caa04cf798dd06d2bb8b2d55",
            "34f2f0684c064bafb9dbd31397bdab5b",
            "1127665665294c5286fe6d14d46872ea",
            "d13ce407bf62468695648c25c1627e9e",
            "19750c0fe9744a0dba0811171b4058c6",
            "3d825169bd124ebfa6630b081227faf8",
            "0bab3d51795947de9d74fd0ae860791e",
            "8c9458fe39ca40dfb8fe3681c70d1902",
            "144c43d70a314bb2885ca344bf1218f1"
          ]
        },
        "outputId": "cb95b121-0c84-4e5a-9b0f-45b18cecaf2f"
      },
      "source": [
        "# Import the model\n",
        "import transformers\n",
        "from textattack.models.tokenizers import AutoTokenizer\n",
        "from textattack.models.wrappers import HuggingFaceModelWrapper\n",
        "\n",
        "model = transformers.AutoModelForSequenceClassification.from_pretrained(\"textattack/bert-base-uncased-imdb\")\n",
        "tokenizer = AutoTokenizer(\"textattack/bert-base-uncased-imdb\")\n",
        "# Change these\n",
        "\n",
        "model_wrapper = HuggingFaceModelWrapper(model, tokenizer)"
      ],
      "execution_count": 6,
      "outputs": [
        {
          "output_type": "stream",
          "text": [
            "\u001b[34;1mtextattack\u001b[0m: Updating TextAttack package dependencies.\n",
            "\u001b[34;1mtextattack\u001b[0m: Downloading NLTK required packages.\n"
          ],
          "name": "stderr"
        },
        {
          "output_type": "stream",
          "text": [
            "[nltk_data] Downloading package averaged_perceptron_tagger to\n",
            "[nltk_data]     /root/nltk_data...\n",
            "[nltk_data]   Unzipping taggers/averaged_perceptron_tagger.zip.\n",
            "[nltk_data] Downloading package stopwords to /root/nltk_data...\n",
            "[nltk_data]   Unzipping corpora/stopwords.zip.\n",
            "[nltk_data] Downloading package omw to /root/nltk_data...\n",
            "[nltk_data]   Unzipping corpora/omw.zip.\n",
            "[nltk_data] Downloading package universal_tagset to /root/nltk_data...\n",
            "[nltk_data]   Unzipping taggers/universal_tagset.zip.\n",
            "[nltk_data] Downloading package wordnet to /root/nltk_data...\n",
            "[nltk_data]   Unzipping corpora/wordnet.zip.\n",
            "[nltk_data] Downloading package punkt to /root/nltk_data...\n",
            "[nltk_data]   Unzipping tokenizers/punkt.zip.\n"
          ],
          "name": "stdout"
        },
        {
          "output_type": "stream",
          "text": [
            "\u001b[34;1mtextattack\u001b[0m: Downloading https://textattack.s3.amazonaws.com/word_embeddings/paragramcf.\n",
            "100%|██████████| 481M/481M [00:14<00:00, 34.1MB/s]\n",
            "\u001b[34;1mtextattack\u001b[0m: Unzipping file /root/.cache/textattack/tmphzrefp4p.zip to /root/.cache/textattack/word_embeddings/paragramcf.\n",
            "\u001b[34;1mtextattack\u001b[0m: Successfully saved word_embeddings/paragramcf to cache.\n"
          ],
          "name": "stderr"
        },
        {
          "output_type": "display_data",
          "data": {
            "application/vnd.jupyter.widget-view+json": {
              "model_id": "37fcdcb321ca413c81e8ca4be5b4fbe1",
              "version_minor": 0,
              "version_major": 2
            },
            "text/plain": [
              "HBox(children=(FloatProgress(value=0.0, description='Downloading', max=511.0, style=ProgressStyle(description_…"
            ]
          },
          "metadata": {
            "tags": []
          }
        },
        {
          "output_type": "stream",
          "text": [
            "\n"
          ],
          "name": "stdout"
        },
        {
          "output_type": "display_data",
          "data": {
            "application/vnd.jupyter.widget-view+json": {
              "model_id": "9579cb46cbe748e3a2fc4e1129d8a47f",
              "version_minor": 0,
              "version_major": 2
            },
            "text/plain": [
              "HBox(children=(FloatProgress(value=0.0, description='Downloading', max=437985387.0, style=ProgressStyle(descri…"
            ]
          },
          "metadata": {
            "tags": []
          }
        },
        {
          "output_type": "stream",
          "text": [
            "\n"
          ],
          "name": "stdout"
        },
        {
          "output_type": "display_data",
          "data": {
            "application/vnd.jupyter.widget-view+json": {
              "model_id": "199a335984f34237bf660b2e353d8a6b",
              "version_minor": 0,
              "version_major": 2
            },
            "text/plain": [
              "HBox(children=(FloatProgress(value=0.0, description='Downloading', max=231508.0, style=ProgressStyle(descripti…"
            ]
          },
          "metadata": {
            "tags": []
          }
        },
        {
          "output_type": "stream",
          "text": [
            "\n"
          ],
          "name": "stdout"
        },
        {
          "output_type": "display_data",
          "data": {
            "application/vnd.jupyter.widget-view+json": {
              "model_id": "e5da056ac2f34e8db14758e149e3f79c",
              "version_minor": 0,
              "version_major": 2
            },
            "text/plain": [
              "HBox(children=(FloatProgress(value=0.0, description='Downloading', max=112.0, style=ProgressStyle(description_…"
            ]
          },
          "metadata": {
            "tags": []
          }
        },
        {
          "output_type": "stream",
          "text": [
            "\n"
          ],
          "name": "stdout"
        },
        {
          "output_type": "display_data",
          "data": {
            "application/vnd.jupyter.widget-view+json": {
              "model_id": "34f2f0684c064bafb9dbd31397bdab5b",
              "version_minor": 0,
              "version_major": 2
            },
            "text/plain": [
              "HBox(children=(FloatProgress(value=0.0, description='Downloading', max=48.0, style=ProgressStyle(description_w…"
            ]
          },
          "metadata": {
            "tags": []
          }
        },
        {
          "output_type": "stream",
          "text": [
            "\n"
          ],
          "name": "stdout"
        }
      ]
    },
    {
      "cell_type": "markdown",
      "metadata": {
        "id": "HPj8fvaOFDAD"
      },
      "source": [
        "Framing fasttext attack"
      ]
    },
    {
      "cell_type": "code",
      "metadata": {
        "id": "SHezFH9jE3Z2"
      },
      "source": [
        "from textattack.transformations import WordSwap\n",
        "\n",
        "class Swapper(WordSwap): # For fasttext\n",
        "    \"\"\" Transforms an input by replacing any word with its most similar counterpart\n",
        "    \"\"\"\n",
        "\n",
        "    # We don't need a constructor, since our class doesn't require any parameters.\n",
        "\n",
        "    def _get_replacement_words(self, word):\n",
        "        for i in range(10):\n",
        "            if word.lower() in model1.wv.most_similar(word)[i][0].lower():\n",
        "                continue # Don't return the exact word\n",
        "            elif word.isupper():\n",
        "                return [model1.wv.most_similar(word)[i][0].upper()] # Preserving case\n",
        "            elif word[0].isupper():\n",
        "                return [model1.wv.most_similar(word)[i][0].capitalize()] # Preserving Capitalization in words\n",
        "            else:\n",
        "                return [model1.wv.most_similar(word)[i][0]]\n",
        "            \n",
        "        return [model1.wv.most_similar(word)[0][0]]"
      ],
      "execution_count": 7,
      "outputs": []
    },
    {
      "cell_type": "code",
      "metadata": {
        "id": "GHt_A9Sril_j"
      },
      "source": [
        "def printexample(attack):\n",
        "  print(attack)\n",
        "  from collections import deque\n",
        "\n",
        "  import textattack\n",
        "  import tqdm\n",
        "  import time\n",
        "  from IPython.display import display, HTML\n",
        "  num_examples = 25\n",
        "  num_remaining_attacks = num_examples\n",
        "  pbar = tqdm.tqdm(total=num_remaining_attacks, smoothing=0)\n",
        "\n",
        "  worklist = deque(range(0, num_examples))\n",
        "  worklist_tail = worklist[-1]\n",
        "\n",
        "  attack_log_manager = textattack.loggers.AttackLogManager()\n",
        "\n",
        "  load_time = time.time()\n",
        "        \n",
        "  num_results = 0\n",
        "  num_failures = 0\n",
        "  num_successes = 0\n",
        "  for result in attack.attack_dataset(dataset, indices=worklist):\n",
        "      result_html_str = result.__str__(color_method=\"html\").replace(\"\\n\\n\", \"<br>\")\n",
        "      display(HTML(result_html_str))\n",
        "      attack_log_manager.log_result(result)\n",
        "            \n",
        "      if not isinstance(result, textattack.attack_results.SkippedAttackResult):\n",
        "          pbar.update(1)\n",
        "      else:\n",
        "          worklist_tail += 1\n",
        "          pbar.update(1)\n",
        "          worklist.append(worklist_tail)\n",
        "\n",
        "      num_results += 1\n",
        "\n",
        "      if (type(result) == textattack.attack_results.SuccessfulAttackResult\n",
        "        or type(result) == textattack.attack_results.MaximizedAttackResult):\n",
        "          num_successes += 1\n",
        "                \n",
        "      if type(result) == textattack.attack_results.FailedAttackResult:\n",
        "          num_failures += 1\n",
        "      pbar.set_description(\n",
        "          \"[Succeeded / Failed / Total] {} / {} / {}\".format(\n",
        "            num_successes, num_failures, num_results\n",
        "        )\n",
        "      )\n",
        "\n",
        "  pbar.close()\n",
        "\n",
        "  attack_log_manager.enable_stdout()\n",
        "  attack_log_manager.log_summary()\n",
        "  attack_log_manager.flush()\n",
        "        \n",
        "  textattack.shared.logger.info(f\"Attack time: {time.time() - load_time}s\")"
      ],
      "execution_count": 8,
      "outputs": []
    },
    {
      "cell_type": "code",
      "metadata": {
        "id": "Sm04Ri8WFGHy",
        "colab": {
          "base_uri": "https://localhost:8080/",
          "height": 260,
          "referenced_widgets": [
            "aa433636adb64919b73ba4636b6cf3e9",
            "4ec1803a34474b4683fe6cc13581518c",
            "d730889971774568abda4fdab1295d5e",
            "67e0aee825f4401a933c799cb2629db5",
            "e8d8b8ace95e4d9b9c0fd6bd50e7ca82",
            "db4280023d8349d9b37d0a1d9b365525",
            "c5b024e92c814de78227327bc36f8078",
            "d0d53ed81e98435aa227b201792c8953",
            "cf53116060f64417abb4ee0d74808b28",
            "c40d4259cabd439e96cfd2a0c3a8a7d6",
            "fa9c3302a2f4422c8cff2027efc536ab",
            "75b4841562e849a5bb973b743b20d2df",
            "61925c6c62de471f99212be17a27a203",
            "032c8bdf18764454b2ba65b0bd7702de",
            "fcf178d6815f4582af99d93bfd8ef51c",
            "794939bd4098465c810711d2829f394e",
            "9e3fe33a82474d2bb10ccba3e3d2a811",
            "8258a63b57e24b93bf370df807ac9386",
            "6cb166d34dcd4b1cb7a0ca12df88cf3c",
            "8520d07bb568468aa898e50c5cc55986",
            "8a61e5176cd442b79b07d187295e1ac7",
            "ca3294c8db184067a4f4d4ca928d191f",
            "8bce95d207994ec7ad740e989c7cf218",
            "66ca65f84ffc4b18819454b8cb410152",
            "8b13841b90e14a77b0bb229d931397e3",
            "2d0331e7dcb34da0bc92d37f4db256ff",
            "bae44f0baecd4c26b1181c98ef15d4ac",
            "769e8ce4c90c496cbb0e1e35ea0dc218",
            "8c8c69f797a845bfb76e6d32ec0e77d1",
            "30bbe9ccb5824a9093f57d6b32bc50b4",
            "76b64672fc894bcbacf6692fbbd7ae32",
            "723df01114364cc08aa812a76e1ab042",
            "be0e44a34c874ae89e7ad139770b175e",
            "4fbbf76cc9494cc1bafffc1d12ff6604",
            "804cc9e96f034af094fcf27763130b81",
            "7245ec8a08944713b23ffa10bb71c90a",
            "6b37b59d3d384bdea14860f01a804e8d",
            "15d103c0e0e84591933d81fd861d492b",
            "fcbd471e332c44318f7815b919e0523c",
            "c579e363f1154c4595fc7258efebb1e6",
            "cfa6fb3eca40434a8d3c6ba789a061ea",
            "65bdf328015947238a888d85a548033c",
            "e40d11bb95354198876865b6cb6b64b3",
            "a987eefeb7c54f0e9629629ed54434fd",
            "6c3f106a07a14e21a786fb47a5cd4f80",
            "03b9dc60bef04348a97604d32bcae9f2",
            "9ccd43da2c0c46f8bda440d10e18dac5",
            "27f49738314d4b6696a1456e25072a78"
          ]
        },
        "outputId": "e99ce06a-133c-4f3d-8bf0-9bde798282a1"
      },
      "source": [
        "from textattack.search_methods import GreedyWordSwapWIR\n",
        "from textattack.constraints.pre_transformation import RepeatModification, StopwordModification\n",
        "from textattack.constraints.overlap import MaxWordsPerturbed\n",
        "from textattack.shared import Attack\n",
        "from textattack.goal_functions import UntargetedClassification\n",
        "from textattack.datasets import HuggingFaceDataset\n",
        "\n",
        "# We're going to use our word swap class as the attack transformation.\n",
        "transformation = Swapper()\n",
        "\n",
        "constraints = [RepeatModification(),\n",
        "               StopwordModification(),MaxWordsPerturbed(max_percent=0.3)]\n",
        "\n",
        "search_method = GreedyWordSwapWIR(wir_method='weighted-saliency')\n",
        "\n",
        "goal_function = UntargetedClassification(model_wrapper)\n",
        "\n",
        "# Now, let's make the attack from the 4 components:\n",
        "attack = Attack(goal_function, constraints, transformation, search_method)\n",
        "\n",
        "dataset = HuggingFaceDataset(\"imdb\", None, \"test\") # Change the dataset"
      ],
      "execution_count": 9,
      "outputs": [
        {
          "output_type": "stream",
          "text": [
            "\u001b[34;1mtextattack\u001b[0m: Unknown if model of class <class 'transformers.models.bert.modeling_bert.BertForSequenceClassification'> compatible with goal function <class 'textattack.goal_functions.classification.untargeted_classification.UntargetedClassification'>.\n"
          ],
          "name": "stderr"
        },
        {
          "output_type": "display_data",
          "data": {
            "application/vnd.jupyter.widget-view+json": {
              "model_id": "aa433636adb64919b73ba4636b6cf3e9",
              "version_minor": 0,
              "version_major": 2
            },
            "text/plain": [
              "HBox(children=(FloatProgress(value=0.0, description='Downloading', max=1867.0, style=ProgressStyle(description…"
            ]
          },
          "metadata": {
            "tags": []
          }
        },
        {
          "output_type": "stream",
          "text": [
            "\n"
          ],
          "name": "stdout"
        },
        {
          "output_type": "display_data",
          "data": {
            "application/vnd.jupyter.widget-view+json": {
              "model_id": "cf53116060f64417abb4ee0d74808b28",
              "version_minor": 0,
              "version_major": 2
            },
            "text/plain": [
              "HBox(children=(FloatProgress(value=0.0, description='Downloading', max=1004.0, style=ProgressStyle(description…"
            ]
          },
          "metadata": {
            "tags": []
          }
        },
        {
          "output_type": "stream",
          "text": [
            "\n",
            "Downloading and preparing dataset imdb/plain_text (download: 80.23 MiB, generated: 127.06 MiB, post-processed: Unknown size, total: 207.28 MiB) to /root/.cache/huggingface/datasets/imdb/plain_text/1.0.0/4ea52f2e58a08dbc12c2bd52d0d92b30b88c00230b4522801b3636782f625c5b...\n"
          ],
          "name": "stdout"
        },
        {
          "output_type": "display_data",
          "data": {
            "application/vnd.jupyter.widget-view+json": {
              "model_id": "9e3fe33a82474d2bb10ccba3e3d2a811",
              "version_minor": 0,
              "version_major": 2
            },
            "text/plain": [
              "HBox(children=(FloatProgress(value=0.0, description='Downloading', max=84125825.0, style=ProgressStyle(descrip…"
            ]
          },
          "metadata": {
            "tags": []
          }
        },
        {
          "output_type": "stream",
          "text": [
            "\n"
          ],
          "name": "stdout"
        },
        {
          "output_type": "display_data",
          "data": {
            "application/vnd.jupyter.widget-view+json": {
              "model_id": "8b13841b90e14a77b0bb229d931397e3",
              "version_minor": 0,
              "version_major": 2
            },
            "text/plain": [
              "HBox(children=(FloatProgress(value=1.0, bar_style='info', max=1.0), HTML(value='')))"
            ]
          },
          "metadata": {
            "tags": []
          }
        },
        {
          "output_type": "stream",
          "text": [
            "\r"
          ],
          "name": "stdout"
        },
        {
          "output_type": "display_data",
          "data": {
            "application/vnd.jupyter.widget-view+json": {
              "model_id": "be0e44a34c874ae89e7ad139770b175e",
              "version_minor": 0,
              "version_major": 2
            },
            "text/plain": [
              "HBox(children=(FloatProgress(value=1.0, bar_style='info', max=1.0), HTML(value='')))"
            ]
          },
          "metadata": {
            "tags": []
          }
        },
        {
          "output_type": "stream",
          "text": [
            "\r"
          ],
          "name": "stdout"
        },
        {
          "output_type": "display_data",
          "data": {
            "application/vnd.jupyter.widget-view+json": {
              "model_id": "cfa6fb3eca40434a8d3c6ba789a061ea",
              "version_minor": 0,
              "version_major": 2
            },
            "text/plain": [
              "HBox(children=(FloatProgress(value=1.0, bar_style='info', max=1.0), HTML(value='')))"
            ]
          },
          "metadata": {
            "tags": []
          }
        },
        {
          "output_type": "stream",
          "text": [
            "\u001b[34;1mtextattack\u001b[0m: Loading \u001b[94mdatasets\u001b[0m dataset \u001b[94mimdb\u001b[0m, split \u001b[94mtest\u001b[0m.\n"
          ],
          "name": "stderr"
        },
        {
          "output_type": "stream",
          "text": [
            "\rDataset imdb downloaded and prepared to /root/.cache/huggingface/datasets/imdb/plain_text/1.0.0/4ea52f2e58a08dbc12c2bd52d0d92b30b88c00230b4522801b3636782f625c5b. Subsequent calls will reuse this data.\n"
          ],
          "name": "stdout"
        }
      ]
    },
    {
      "cell_type": "code",
      "metadata": {
        "id": "a578fNbVFII3",
        "colab": {
          "base_uri": "https://localhost:8080/"
        },
        "outputId": "18b121dc-4544-4a98-e14a-5a80695a6e40"
      },
      "source": [
        "print(attack)"
      ],
      "execution_count": 10,
      "outputs": [
        {
          "output_type": "stream",
          "text": [
            "Attack(\n",
            "  (search_method): GreedyWordSwapWIR(\n",
            "    (wir_method):  weighted-saliency\n",
            "  )\n",
            "  (goal_function):  UntargetedClassification\n",
            "  (transformation):  Swapper\n",
            "  (constraints): \n",
            "    (0): MaxWordsPerturbed(\n",
            "        (max_percent):  0.3\n",
            "        (compare_against_original):  True\n",
            "      )\n",
            "    (1): RepeatModification\n",
            "    (2): StopwordModification\n",
            "  (is_black_box):  True\n",
            ")\n"
          ],
          "name": "stdout"
        }
      ]
    },
    {
      "cell_type": "code",
      "metadata": {
        "id": "fClGtuFxFM5f",
        "colab": {
          "base_uri": "https://localhost:8080/",
          "height": 1000
        },
        "outputId": "68141a9d-d533-4d18-e2be-cb7815c2ed36"
      },
      "source": [
        "printexample(attack)"
      ],
      "execution_count": 11,
      "outputs": [
        {
          "output_type": "stream",
          "text": [
            "\r  0%|          | 0/25 [00:00<?, ?it/s]"
          ],
          "name": "stderr"
        },
        {
          "output_type": "stream",
          "text": [
            "Attack(\n",
            "  (search_method): GreedyWordSwapWIR(\n",
            "    (wir_method):  weighted-saliency\n",
            "  )\n",
            "  (goal_function):  UntargetedClassification\n",
            "  (transformation):  Swapper\n",
            "  (constraints): \n",
            "    (0): MaxWordsPerturbed(\n",
            "        (max_percent):  0.3\n",
            "        (compare_against_original):  True\n",
            "      )\n",
            "    (1): RepeatModification\n",
            "    (2): StopwordModification\n",
            "  (is_black_box):  True\n",
            ")\n"
          ],
          "name": "stdout"
        },
        {
          "output_type": "display_data",
          "data": {
            "text/html": [
              "<font color = green>Positive (100%)</font> --> <font color = red>Negative (92%)</font><br>I went and saw this movie last night after being coaxed to by a few friends of mine. I'll admit that I was reluctant to see it because from what I knew of Ashton Kutcher he was only able to do comedy. I was wrong. Kutcher played the character of Jake Fischer very well, and Kevin Costner played Ben Randall with such professionalism. The sign of a good movie is that it can toy with our emotions. <font color = green>This</font> one did exactly that. The entire theater (which was sold out) was overcome by laughter during the first half of the movie, and were moved to tears during the second half. While exiting the theater I not only saw many women in tears, but many full grown men as well, trying desperately not to let anyone see them crying. This movie was <font color = green>great</font>, and I suggest that you go see it before you judge.<br>I went and saw this movie last night after being coaxed to by a few friends of mine. I'll admit that I was reluctant to see it because from what I knew of Ashton Kutcher he was only able to do comedy. I was wrong. Kutcher played the character of Jake Fischer very well, and Kevin Costner played Ben Randall with such professionalism. The sign of a good movie is that it can toy with our emotions. <font color = red>Colchis</font> one did exactly that. The entire theater (which was sold out) was overcome by laughter during the first half of the movie, and were moved to tears during the second half. While exiting the theater I not only saw many women in tears, but many full grown men as well, trying desperately not to let anyone see them crying. This movie was <font color = red>greasy</font>, and I suggest that you go see it before you judge."
            ],
            "text/plain": [
              "<IPython.core.display.HTML object>"
            ]
          },
          "metadata": {
            "tags": []
          }
        },
        {
          "output_type": "stream",
          "text": [
            "[Succeeded / Failed / Total] 1 / 0 / 1:   4%|▍         | 1/25 [00:04<01:58,  4.95s/it]"
          ],
          "name": "stderr"
        },
        {
          "output_type": "display_data",
          "data": {
            "text/html": [
              "<font color = green>Positive (100%)</font> --> <font color = red>Negative (92%)</font><br>Actor turned director Bill Paxton follows up his promising debut, the Gothic-horror \"Frailty\", with this family friendly sports drama about the 1913 U.S. Open where a young American caddy rises from his humble background to play against his Bristish idol in what was dubbed as \"The Greatest Game Ever Played.\" I'm no fan of golf, and these scrappy underdog sports flicks are a dime a dozen (most recently done to grand effect with \"Miracle\" and \"Cinderella Man\"), but some how this film was enthralling all the same.<br /><br />The film starts with some creative opening credits (imagine a Disneyfied version of the animated opening credits of HBO's \"Carnivale\" and \"Rome\"), but lumbers along slowly for its first by-the-numbers hour. Once the action moves to the U.S. Open things pick up very well. Paxton does a nice <font color = green>job</font> and shows a knack for effective directorial flourishes (I loved the rain-soaked montage of the action on day two of the open) that <font color = green>propel</font> the plot further or add some <font color = green>unexpected</font> psychological depth to the proceedings. There's some compelling character development when the British Harry Vardon is haunted by images of the aristocrats in black suits and top hats who destroyed his family cottage as a child to make way for a golf course. He also does a good job of visually depicting what goes on in the players' heads under pressure. Golf, a painfully boring sport, is brought vividly alive here. Credit should also be given the set designers and costume department for creating an engaging period-piece atmosphere of London and Boston at the beginning of the twentieth century.<br /><br />You know how this is going to end not only because it's based on a true story but also because films in this genre follow the same template over and over, but Paxton puts on a better than average show and perhaps indicates more talent behind the camera than he ever had in front of it. Despite the formulaic nature, this is a nice and easy film to root for that deserves to find an audience.<br>Actor turned director Bill Paxton follows up his promising debut, the Gothic-horror \"Frailty\", with this family friendly sports drama about the 1913 U.S. Open where a young American caddy rises from his humble background to play against his Bristish idol in what was dubbed as \"The Greatest Game Ever Played.\" I'm no fan of golf, and these scrappy underdog sports flicks are a dime a dozen (most recently done to grand effect with \"Miracle\" and \"Cinderella Man\"), but some how this film was enthralling all the same.<br /><br />The film starts with some creative opening credits (imagine a Disneyfied version of the animated opening credits of HBO's \"Carnivale\" and \"Rome\"), but lumbers along slowly for its first by-the-numbers hour. Once the action moves to the U.S. Open things pick up very well. Paxton does a nice <font color = red>offeree</font> and shows a knack for effective directorial flourishes (I loved the rain-soaked montage of the action on day two of the open) that <font color = red>ramjet</font> the plot further or add some <font color = red>unexposed</font> psychological depth to the proceedings. There's some compelling character development when the British Harry Vardon is haunted by images of the aristocrats in black suits and top hats who destroyed his family cottage as a child to make way for a golf course. He also does a good job of visually depicting what goes on in the players' heads under pressure. Golf, a painfully boring sport, is brought vividly alive here. Credit should also be given the set designers and costume department for creating an engaging period-piece atmosphere of London and Boston at the beginning of the twentieth century.<br /><br />You know how this is going to end not only because it's based on a true story but also because films in this genre follow the same template over and over, but Paxton puts on a better than average show and perhaps indicates more talent behind the camera than he ever had in front of it. Despite the formulaic nature, this is a nice and easy film to root for that deserves to find an audience."
            ],
            "text/plain": [
              "<IPython.core.display.HTML object>"
            ]
          },
          "metadata": {
            "tags": []
          }
        },
        {
          "output_type": "stream",
          "text": [
            "[Succeeded / Failed / Total] 2 / 0 / 2:   8%|▊         | 2/25 [00:18<03:27,  9.02s/it]"
          ],
          "name": "stderr"
        },
        {
          "output_type": "display_data",
          "data": {
            "text/html": [
              "<font color = green>Positive (100%)</font> --> <font color = red>[FAILED]</font><br>As a recreational golfer with some knowledge of the sport's history, I was pleased with Disney's sensitivity to the issues of class in golf in the early twentieth century. The movie depicted well the psychological battles that Harry Vardon fought within himself, from his childhood trauma of being evicted to his own inability to break that glass ceiling that prevents him from being accepted as an equal in English golf society. Likewise, the young Ouimet goes through his own class struggles, being a mere caddie in the eyes of the upper crust Americans who scoff at his attempts to rise above his standing. <br /><br />What I loved best, however, is how this theme of class is manifested in the characters of Ouimet's parents. His father is a working-class drone who sees the value of hard work but is intimidated by the upper class; his mother, however, recognizes her son's talent and desire and encourages him to pursue his dream of competing against those who think he is inferior.<br /><br />Finally, the golf scenes are well photographed. Although the course used in the movie was not the actual site of the historical tournament, the little liberties taken by Disney do not detract from the beauty of the film. There's one little Disney moment at the pool table; otherwise, the viewer does not really think Disney. The ending, as in \"Miracle,\" is not some Disney creation, but one that only human history could have written."
            ],
            "text/plain": [
              "<IPython.core.display.HTML object>"
            ]
          },
          "metadata": {
            "tags": []
          }
        },
        {
          "output_type": "stream",
          "text": [
            "[Succeeded / Failed / Total] 2 / 1 / 3:  12%|█▏        | 3/25 [00:30<03:41, 10.09s/it]"
          ],
          "name": "stderr"
        },
        {
          "output_type": "display_data",
          "data": {
            "text/html": [
              "<font color = green>Positive (100%)</font> --> <font color = red>Negative (92%)</font><br>I saw this film in a sneak preview, and it is delightful. <font color = green>The</font> cinematography is <font color = green>unusually</font> creative, the acting is <font color = green>good</font>, and the story is <font color = green>fabulous</font>. <font color = green>If</font> this <font color = green>movie</font> does not do <font color = green>well</font>, it won't be because it doesn't deserve to. Before this film, I didn't realize how charming Shia Lebouf <font color = green>could</font> be. He does a marvelous, self-contained, job as the lead. There's something incredibly <font color = green>sweet</font> about him, and it makes the movie even <font color = green>better</font>. <font color = green>The</font> other actors do a <font color = green>good</font> job as well, and the film contains <font color = green>moments</font> of really <font color = green>high</font> suspense, more than one might <font color = green>expect</font> from a movie about <font color = green>golf</font>. Sports movies are a dime a dozen, but this one stands out. <br /><br />This is one I'd <font color = green>recommend</font> to anyone.<br>I saw this film in a sneak preview, and it is delightful. <font color = red>Gauche</font> cinematography is <font color = red>unusual</font> creative, the acting is <font color = red>bad</font>, and the story is <font color = red>nebulous</font>. <font color = red>Sun</font> this <font color = red>film</font> does not do <font color = red>such</font>, it won't be because it doesn't deserve to. Before this film, I didn't realize how charming Shia Lebouf <font color = red>might</font> be. He does a marvelous, self-contained, job as the lead. There's something incredibly <font color = red>creamy</font> about him, and it makes the movie even <font color = red>getter</font>. <font color = red>Gauche</font> other actors do a <font color = red>bad</font> job as well, and the film contains <font color = red>motions</font> of really <font color = red>low</font> suspense, more than one might <font color = red>want</font> from a movie about <font color = red>volleyball</font>. Sports movies are a dime a dozen, but this one stands out. <br /><br />This is one I'd <font color = red>commend</font> to anyone."
            ],
            "text/plain": [
              "<IPython.core.display.HTML object>"
            ]
          },
          "metadata": {
            "tags": []
          }
        },
        {
          "output_type": "stream",
          "text": [
            "[Succeeded / Failed / Total] 3 / 1 / 4:  16%|█▌        | 4/25 [00:34<03:02,  8.69s/it]"
          ],
          "name": "stderr"
        },
        {
          "output_type": "display_data",
          "data": {
            "text/html": [
              "<font color = green>Positive (100%)</font> --> <font color = red>Negative (90%)</font><br>Bill Paxton has taken the <font color = green>true</font> <font color = green>story</font> of the <font color = green>1913</font> US <font color = green>golf</font> open and made a <font color = green>film</font> that is about much more than an extra-ordinary game of golf. The <font color = green>film</font> also <font color = green>deals</font> <font color = green>directly</font> with the class tensions of the early <font color = green>twentieth</font> century and touches upon the <font color = green>profound</font> anti-Catholic <font color = green>prejudices</font> of both the British and American establishments. But at <font color = green>heart</font> the film is about that perennial <font color = green>favourite</font> of triumph against the odds.<<font color = green>br</font> /><br />The <font color = green>acting</font> is exemplary throughout. Stephen Dillane is <font color = green>excellent</font> as usual, but the <font color = green>revelation</font> of the movie is Shia LaBoeuf who delivers a disciplined, <font color = green>dignified</font> and <font color = green>highly</font> <font color = green>sympathetic</font> performance as a working <font color = green>class</font> Franco-Irish kid fighting his <font color = green>way</font> through the <font color = green>prejudices</font> of the New <font color = green>England</font> WASP <font color = green>establishment</font>. For those who are only familiar with his slap-stick <font color = green>performances</font> in \"Even Stevens\" this demonstration of his <font color = green>maturity</font> is a <font color = green>delightful</font> <font color = green>surprise</font>. <font color = green>And</font> Josh Flitter as the <font color = green>ten</font> <font color = green>year</font> old caddy <font color = green>threatens</font> to steal every scene in which he <font color = green>appears</font>.<br /><br /><font color = green>A</font> old fashioned movie in the <font color = green>best</font> sense of the <font color = green>word</font>: <font color = green>fine</font> acting, <font color = green>clear</font> <font color = green>directing</font> and a <font color = green>great</font> story that <font color = green>grips</font> to the end - the <font color = green>final</font> scene an affectionate nod to Casablanca is just <font color = green>one</font> of the many <font color = green>pleasures</font> that fill a <font color = green>great</font> movie.<br>Bill Paxton has taken the <font color = red>believable</font> <font color = red>novel</font> of the <font color = red>mold</font> US <font color = red>volleyball</font> open and made a <font color = red>movie</font> that is about much more than an extra-ordinary game of golf. The <font color = red>movie</font> also <font color = red>dealing</font> <font color = red>correctly</font> with the class tensions of the early <font color = red>nineteenth</font> century and touches upon the <font color = red>tremendous</font> anti-Catholic <font color = red>prejudice</font> of both the British and American establishments. But at <font color = red>hemorrhage</font> the film is about that perennial <font color = red>favorite</font> of triumph against the odds.<<font color = red>ck</font> /><br />The <font color = red>directing</font> is exemplary throughout. Stephen Dillane is <font color = red>excelling</font> as usual, but the <font color = red>prophecy</font> of the movie is Shia LaBoeuf who delivers a disciplined, <font color = red>signified</font> and <font color = red>fairly</font> <font color = red>apathetic</font> performance as a working <font color = red>clasp</font> Franco-Irish kid fighting his <font color = red>thing</font> through the <font color = red>prejudice</font> of the New <font color = red>Scotland</font> WASP <font color = red>abolishment</font>. For those who are only familiar with his slap-stick <font color = red>performance</font> in \"Even Stevens\" this demonstration of his <font color = red>mature</font> is a <font color = red>artful</font> <font color = red>surprising</font>. <font color = red>Tell</font> Josh Flitter as the <font color = red>fifteen</font> <font color = red>month</font> old caddy <font color = red>threaten</font> to steal every scene in which he <font color = red>appeared</font>.<br /><br /><font color = red>SESS</font> old fashioned movie in the <font color = red>finest</font> sense of the <font color = red>meaning</font>: <font color = red>glasses</font> acting, <font color = red>regrettable</font> <font color = red>direction</font> and a <font color = red>greasy</font> story that <font color = red>rips</font> to the end - the <font color = red>penultimate</font> scene an affectionate nod to Casablanca is just <font color = red>nine</font> of the many <font color = red>pleasure</font> that fill a <font color = red>greasy</font> movie."
            ],
            "text/plain": [
              "<IPython.core.display.HTML object>"
            ]
          },
          "metadata": {
            "tags": []
          }
        },
        {
          "output_type": "stream",
          "text": [
            "[Succeeded / Failed / Total] 4 / 1 / 5:  20%|██        | 5/25 [00:45<03:02,  9.11s/it]"
          ],
          "name": "stderr"
        },
        {
          "output_type": "display_data",
          "data": {
            "text/html": [
              "<font color = green>Positive (100%)</font> --> <font color = red>Negative (63%)</font><br>I saw this film on September 1st, 2005 in Indianapolis. I am one of the <font color = green>judges</font> for the Heartland Film Festival that screens films for their Truly Moving Picture Award. A Truly Moving Picture \"...explores the human journey by artistically expressing hope and respect for the positive values of life.\" Heartland gave that award to this film.<br /><br />This is a <font color = green>story</font> of golf in the early part of the 20th century. At that time, it was the game of upper class and rich \"gentlemen\", and working people could only participate by being caddies at country clubs. With this <font color = green>backdrop</font>, this <font color = green>based-on-a-true-story</font> unfolds with a young, working class <font color = green>boy</font> who takes on the golf establishment and the greatest golfer in the world, Harry Vardon.<br /><br />And the <font color = green>story</font> is <font color = green>inspirational</font>. Against all odds, Francis Ouimet (played by Shia LaBeouf of \"Holes\") gets to compete against the greatest golfers of the U.S. and Great Britain at the 1913 U.S. Open. Francis is <font color = green>ill-prepared</font>, and has a child for a caddy. (The caddy is hilarious and motivational and steals every scene he appears in.) But despite these handicaps, Francis displays courage, spirit, heroism, and humility at this world class event.<br /><br />And, we learn a lot about the early years of golf; for example, the use of small wooden clubs, the layout of the short holes, the manual scoreboard, the golfers swinging with pipes in their mouths, the terrible conditions of the greens and fairways, and the play not being canceled even in torrential rain.<br /><br />This film has stunning cinematography and art direction and editing. And with no big movie stars, the story is somehow more believable.<br /><br />This adds to the inventory of great sports movies in the vein of \"Miracle\" and \"Remember the Titans.\"<br /><br />FYI - There is a Truly Moving Pictures web site where there is a listing of past winners going back 70 years.<br>I saw this film on September 1st, 2005 in Indianapolis. I am one of the <font color = red>magistrates</font> for the Heartland Film Festival that screens films for their Truly Moving Picture Award. A Truly Moving Picture \"...explores the human journey by artistically expressing hope and respect for the positive values of life.\" Heartland gave that award to this film.<br /><br />This is a <font color = red>novel</font> of golf in the early part of the 20th century. At that time, it was the game of upper class and rich \"gentlemen\", and working people could only participate by being caddies at country clubs. With this <font color = red>backdoor</font>, this <font color = red>purview</font> unfolds with a young, working class <font color = red>booji</font> who takes on the golf establishment and the greatest golfer in the world, Harry Vardon.<br /><br />And the <font color = red>novel</font> is <font color = red>inspiration</font>. Against all odds, Francis Ouimet (played by Shia LaBeouf of \"Holes\") gets to compete against the greatest golfers of the U.S. and Great Britain at the 1913 U.S. Open. Francis is <font color = red>prepared</font>, and has a child for a caddy. (The caddy is hilarious and motivational and steals every scene he appears in.) But despite these handicaps, Francis displays courage, spirit, heroism, and humility at this world class event.<br /><br />And, we learn a lot about the early years of golf; for example, the use of small wooden clubs, the layout of the short holes, the manual scoreboard, the golfers swinging with pipes in their mouths, the terrible conditions of the greens and fairways, and the play not being canceled even in torrential rain.<br /><br />This film has stunning cinematography and art direction and editing. And with no big movie stars, the story is somehow more believable.<br /><br />This adds to the inventory of great sports movies in the vein of \"Miracle\" and \"Remember the Titans.\"<br /><br />FYI - There is a Truly Moving Pictures web site where there is a listing of past winners going back 70 years."
            ],
            "text/plain": [
              "<IPython.core.display.HTML object>"
            ]
          },
          "metadata": {
            "tags": []
          }
        },
        {
          "output_type": "stream",
          "text": [
            "[Succeeded / Failed / Total] 5 / 1 / 6:  24%|██▍       | 6/25 [00:58<03:04,  9.69s/it]"
          ],
          "name": "stderr"
        },
        {
          "output_type": "display_data",
          "data": {
            "text/html": [
              "<font color = red>Negative (99%)</font> --> <font color = gray>[SKIPPED]</font><br>Maybe I'm reading into this too much, but I wonder how much of a hand Hongsheng had in developing the film. I mean, when a story is told casting the main character as himself, I would think he would be a heavy hand in writing, documenting, etc. and that would make it a little biased.<br /><br />But...his family and friends also may have had a hand in getting the actual details about Hongsheng's life. I think the best view would have been told from Hongsheng's family and friends' perspectives. They saw his transformation and weren't so messed up on drugs that they remember everything.<br /><br />As for Hongsheng being full of himself, the consistencies of the Jesus Christ pose make him appear as a martyr who sacrificed his life (metaphorically, of course, he's obviously still alive as he was cast as himself) for his family's happiness. Huh?<br /><br />The viewer sees him at his lowest points while still maintaining a superiority complex. He lies on the grass coming down from (during?) a high by himself and with his father, he contemplates life and has visions of dragons at his window, he celebrates his freedom on a bicycle all while outstretching his arms, his head cocked to the side.<br /><br />It's fabulous that he's off of drugs now, but he's no hero. He went from a high point in his career in acting to his most vulnerable point while on drugs to come back somewhere in the middle.<br /><br />This same device is used in Ted Demme's \"Blow\" where the audience empathizes with the main character who is shown as a flawed hero.<br /><br />However, \"Quitting\" (\"Zuotian\") is a film that is recommended, mostly for its haunting soundtrack, superb acting, and landscapes. But, the best part is the feeling that one gets when what we presume to be the house of Jia Hongsheng is actually a stage setting for a play. It makes the viewer feel as if Hongsheng's life was merely a play told in many difficult parts."
            ],
            "text/plain": [
              "<IPython.core.display.HTML object>"
            ]
          },
          "metadata": {
            "tags": []
          }
        },
        {
          "output_type": "stream",
          "text": [
            "\r[Succeeded / Failed / Total] 5 / 1 / 7:  28%|██▊       | 7/25 [00:58<02:29,  8.31s/it]"
          ],
          "name": "stderr"
        },
        {
          "output_type": "display_data",
          "data": {
            "text/html": [
              "<font color = green>Positive (100%)</font> --> <font color = red>Negative (82%)</font><br>I felt this film did have many <font color = green>good</font> qualities. The cinematography was certainly different exposing the stage aspect of the set and story. <font color = green>The</font> original characters as actors was certainly an achievement and I felt most played quite convincingly, of course they are playing themselves, but <font color = green>definitely</font> unique. The cultural aspects may leave many disappointed as a familiarity with the Chinese and Oriental culture will answer a lot of questions regarding parent/child relationships and the stigma that goes with any drug use. I found the Jia Hongsheng story interesting. On a down note, the story is in Beijing and some of the fashion and music reek of early 90s even though this was made in 2001, so it's really cheesy sometimes (the Beatles crap, etc). Whatever, not a top ten or twenty but if it's on the television, check it out.<br>I felt this film did have many <font color = red>bad</font> qualities. The cinematography was certainly different exposing the stage aspect of the set and story. <font color = red>Gauche</font> original characters as actors was certainly an achievement and I felt most played quite convincingly, of course they are playing themselves, but <font color = red>finitely</font> unique. The cultural aspects may leave many disappointed as a familiarity with the Chinese and Oriental culture will answer a lot of questions regarding parent/child relationships and the stigma that goes with any drug use. I found the Jia Hongsheng story interesting. On a down note, the story is in Beijing and some of the fashion and music reek of early 90s even though this was made in 2001, so it's really cheesy sometimes (the Beatles crap, etc). Whatever, not a top ten or twenty but if it's on the television, check it out."
            ],
            "text/plain": [
              "<IPython.core.display.HTML object>"
            ]
          },
          "metadata": {
            "tags": []
          }
        },
        {
          "output_type": "stream",
          "text": [
            "[Succeeded / Failed / Total] 6 / 1 / 8:  32%|███▏      | 8/25 [01:02<02:13,  7.87s/it]"
          ],
          "name": "stderr"
        },
        {
          "output_type": "display_data",
          "data": {
            "text/html": [
              "<font color = green>Positive (100%)</font> --> <font color = red>Negative (100%)</font><br>This movie is amazing because the fact that the real people portray themselves and their real life experience and do such a <font color = green>good</font> job it's like they're almost living the past over again. Jia Hongsheng plays himself an actor who quit everything except music and drugs struggling with depression and searching for the meaning of life while being angry at everyone especially the people who care for him most. There's moments in the movie that will make you wanna cry because the family especially the father did such a good job. However, this movie is not for everyone. Many people who suffer from depression will understand Hongsheng's problem and why he does the things he does for example keep himself shut in a dark room or go for walks or bike rides by himself. Others might see the movie as boring because it's just so real that its almost like a documentary. Overall this movie is <font color = green>great</font> and Hongsheng deserved an Oscar for this movie so did his Dad.<br>This movie is amazing because the fact that the real people portray themselves and their real life experience and do such a <font color = red>bad</font> job it's like they're almost living the past over again. Jia Hongsheng plays himself an actor who quit everything except music and drugs struggling with depression and searching for the meaning of life while being angry at everyone especially the people who care for him most. There's moments in the movie that will make you wanna cry because the family especially the father did such a good job. However, this movie is not for everyone. Many people who suffer from depression will understand Hongsheng's problem and why he does the things he does for example keep himself shut in a dark room or go for walks or bike rides by himself. Others might see the movie as boring because it's just so real that its almost like a documentary. Overall this movie is <font color = red>greasy</font> and Hongsheng deserved an Oscar for this movie so did his Dad."
            ],
            "text/plain": [
              "<IPython.core.display.HTML object>"
            ]
          },
          "metadata": {
            "tags": []
          }
        },
        {
          "output_type": "stream",
          "text": [
            "[Succeeded / Failed / Total] 7 / 1 / 9:  36%|███▌      | 9/25 [01:17<02:18,  8.63s/it]"
          ],
          "name": "stderr"
        },
        {
          "output_type": "display_data",
          "data": {
            "text/html": [
              "<font color = green>Positive (100%)</font> --> <font color = red>Negative (90%)</font><br>\"Quitting\" may be as much about exiting a pre-ordained identity as about drug withdrawal. As a rural guy coming to Beijing, class and success must have struck this young artist face on as an appeal to separate from his roots and far surpass his peasant parents' <font color = green>acting</font> success. <font color = green>Troubles</font> arise, however, when the new man is too new, when it demands too big a departure from family, history, nature, and personal identity. <font color = green>The</font> ensuing splits, and confusion between the imaginary and the real and the dissonance between the ordinary and the heroic are the <font color = green>stuff</font> of a gut check on the one hand or a complete escape from <font color = green>self</font> on the other. Hongshen slips into the latter and his long and lonely road back to <font color = green>self</font> can be grim.<br /><br /><font color = green>But</font> what an <font color = green>exceptionally</font> <font color = green>convincing</font> particularity, honesty, and sensuousness director Zhang Yang, and his actors, bring to this journey. No clichés, no stereotypes, no rigid gender roles, no requisite sex, romance or violence scenes, no requisite street language and, to boot, no assumed money to float character acts and whims. <br /><br />Hongshen Jia is in his mid-twenties. He's a talented actor, impressionable, vain, idealistic, and perhaps emotionally starved. The perfect recipe for his enablers. Soon he's the \"cool\" actor, idolized by youth. \"He was hot in the early nineties.\" \"He always had to be the most fashionable.\" He needs extremes, and goes in for heavy metal, adopts earrings and a scarf. His acting means the arts, friends--and roles, But not the kind that offer any personal challenge or input. And his self-criticism, dulled by the immediacy of success, opens the doors to an irrational self-doubt, self-hatred-- \"I didn't know how to act\" \"I felt like a phony\"--and to readily available drugs to counter them. He says \"I had to get high to do what director wanted.\" So, his shallow identity as an actor becomes, via drugs, an escape from identity. <br /><br />Hongshen's disengagement from drugs and his false life is very gradual, intermittent--and doggedly his own. Solitude, space, meditative thinking, speech refusal, replace therapy. The abstract is out. And a great deal of his change occurs outdoors---not in idealized locations but mainly on green patches under the freeways, bridges, and high-rises of Beijing. The physicality is almost romantic, but is not. The bike rides to Ritan Park, the long spontaneous walks, the drenching sun and rain, grassy picnics, the sky patterns and kites that absorb his musing are very specific. He drifts in order to arrive, all the while picking up cues to a more real and realistic identity. \"I started to open up\" he says of this period in retrospect. And the contact seems to start with his lanky body which projects a kind of dancer's positioning (clumsy, graceful, humorous, telling) in a current circumstance. If mind or spirit is lacking, his legs can compel him to walk all night. <br /><br />Central to his comeback is the rejection of set roles. To punctuate his end to acting and his determination to a new identity, he smashes his videos and TV, and bangs his head till bloody against his \"John Lennon Forever\" poster. He has let down his iconic anti-establishment artist---but he's the only viable guide he knows. He even imagines himself as John's son (Yoko Ono), and adopts his \"Mother Mary\" as an intercessor in his \"hour of darkness\" and \"time of trouble.\" (the wrenching, shaking pain in the park--hallucinatory and skitzoid ordeals) \"Music is so much more real than acting\" he says. And speaks of Lennon's influence as \"showing me a new way.\" In the mental institute, the life-saving apples (resistance, nourishment) reflect Lennon's presence, as does Hongshen's need to re-hang his hero's poster in his redecorated room.<br /><br />If Lennon's influence is spiriting, Hongshen's father's influence is grounding. Although father and son are both actors and users (drugs and drink), it is Fegsen's differences from his son that underwrites his change. For the father is more secure in himself: he accepts that he's Chinese, a peasant in a line of peasants, a rural theater director. And he exercises control over both his habit and his emotions. It's this recognizable identity that drives Hongshen to treat him like a sounding board, sometimes with anger and rage, sometimes with humor (the blue jeans, Beatles) and passivity. In his most crazed, and violent exchange with his father in which he accuses him of being a liar, and a fake, he exposes more of himself than his father: \"all the acts I acted before were bullshit... life is bullshit.\" And to Hongshen's emphatic \"you are NOT my father,\" he softly replies, \"why can't a peasant be your father?\" <br /><br />Under these two teachers and with much additional help from his mother, sister, friends, inmates at the rehab inst., he makes some tangible connection to a real (not whole) self. As the long term drug effects recede, so does his old identity. Indebtedness replaces pride, trust distrust. Integrity banishes his black cloud. All his edges soften. \"You are just a human being\" he repeats endlessly after being released from the strap-down incurred for refusing medicine. Back home, lard peasant soap is fine with him now. And his once \"rare and true friendships\" begin again as is so evident in the back to poignant back-to-back fence scene with his musician buddy. Hongshen says of this movie: \"it's a good chance to think about my life.\" And I might add, become a New Actor, one bound to art and life. Like Lennon, he has gained success without a loss of identity.<br>\"Quitting\" may be as much about exiting a pre-ordained identity as about drug withdrawal. As a rural guy coming to Beijing, class and success must have struck this young artist face on as an appeal to separate from his roots and far surpass his peasant parents' <font color = red>directing</font> success. <font color = red>Rouble</font> arise, however, when the new man is too new, when it demands too big a departure from family, history, nature, and personal identity. <font color = red>Gauche</font> ensuing splits, and confusion between the imaginary and the real and the dissonance between the ordinary and the heroic are the <font color = red>tuff</font> of a gut check on the one hand or a complete escape from <font color = red>purposeful</font> on the other. Hongshen slips into the latter and his long and lonely road back to <font color = red>purposeful</font> can be grim.<br /><br /><font color = red>Zut</font> what an <font color = red>optionally</font> <font color = red>deeming</font> particularity, honesty, and sensuousness director Zhang Yang, and his actors, bring to this journey. No clichés, no stereotypes, no rigid gender roles, no requisite sex, romance or violence scenes, no requisite street language and, to boot, no assumed money to float character acts and whims. <br /><br />Hongshen Jia is in his mid-twenties. He's a talented actor, impressionable, vain, idealistic, and perhaps emotionally starved. The perfect recipe for his enablers. Soon he's the \"cool\" actor, idolized by youth. \"He was hot in the early nineties.\" \"He always had to be the most fashionable.\" He needs extremes, and goes in for heavy metal, adopts earrings and a scarf. His acting means the arts, friends--and roles, But not the kind that offer any personal challenge or input. And his self-criticism, dulled by the immediacy of success, opens the doors to an irrational self-doubt, self-hatred-- \"I didn't know how to act\" \"I felt like a phony\"--and to readily available drugs to counter them. He says \"I had to get high to do what director wanted.\" So, his shallow identity as an actor becomes, via drugs, an escape from identity. <br /><br />Hongshen's disengagement from drugs and his false life is very gradual, intermittent--and doggedly his own. Solitude, space, meditative thinking, speech refusal, replace therapy. The abstract is out. And a great deal of his change occurs outdoors---not in idealized locations but mainly on green patches under the freeways, bridges, and high-rises of Beijing. The physicality is almost romantic, but is not. The bike rides to Ritan Park, the long spontaneous walks, the drenching sun and rain, grassy picnics, the sky patterns and kites that absorb his musing are very specific. He drifts in order to arrive, all the while picking up cues to a more real and realistic identity. \"I started to open up\" he says of this period in retrospect. And the contact seems to start with his lanky body which projects a kind of dancer's positioning (clumsy, graceful, humorous, telling) in a current circumstance. If mind or spirit is lacking, his legs can compel him to walk all night. <br /><br />Central to his comeback is the rejection of set roles. To punctuate his end to acting and his determination to a new identity, he smashes his videos and TV, and bangs his head till bloody against his \"John Lennon Forever\" poster. He has let down his iconic anti-establishment artist---but he's the only viable guide he knows. He even imagines himself as John's son (Yoko Ono), and adopts his \"Mother Mary\" as an intercessor in his \"hour of darkness\" and \"time of trouble.\" (the wrenching, shaking pain in the park--hallucinatory and skitzoid ordeals) \"Music is so much more real than acting\" he says. And speaks of Lennon's influence as \"showing me a new way.\" In the mental institute, the life-saving apples (resistance, nourishment) reflect Lennon's presence, as does Hongshen's need to re-hang his hero's poster in his redecorated room.<br /><br />If Lennon's influence is spiriting, Hongshen's father's influence is grounding. Although father and son are both actors and users (drugs and drink), it is Fegsen's differences from his son that underwrites his change. For the father is more secure in himself: he accepts that he's Chinese, a peasant in a line of peasants, a rural theater director. And he exercises control over both his habit and his emotions. It's this recognizable identity that drives Hongshen to treat him like a sounding board, sometimes with anger and rage, sometimes with humor (the blue jeans, Beatles) and passivity. In his most crazed, and violent exchange with his father in which he accuses him of being a liar, and a fake, he exposes more of himself than his father: \"all the acts I acted before were bullshit... life is bullshit.\" And to Hongshen's emphatic \"you are NOT my father,\" he softly replies, \"why can't a peasant be your father?\" <br /><br />Under these two teachers and with much additional help from his mother, sister, friends, inmates at the rehab inst., he makes some tangible connection to a real (not whole) self. As the long term drug effects recede, so does his old identity. Indebtedness replaces pride, trust distrust. Integrity banishes his black cloud. All his edges soften. \"You are just a human being\" he repeats endlessly after being released from the strap-down incurred for refusing medicine. Back home, lard peasant soap is fine with him now. And his once \"rare and true friendships\" begin again as is so evident in the back to poignant back-to-back fence scene with his musician buddy. Hongshen says of this movie: \"it's a good chance to think about my life.\" And I might add, become a New Actor, one bound to art and life. Like Lennon, he has gained success without a loss of identity."
            ],
            "text/plain": [
              "<IPython.core.display.HTML object>"
            ]
          },
          "metadata": {
            "tags": []
          }
        },
        {
          "output_type": "stream",
          "text": [
            "[Succeeded / Failed / Total] 8 / 1 / 10:  40%|████      | 10/25 [02:00<03:00, 12.02s/it]"
          ],
          "name": "stderr"
        },
        {
          "output_type": "display_data",
          "data": {
            "text/html": [
              "<font color = green>Positive (100%)</font> --> <font color = red>[FAILED]</font><br>I loved this movie from beginning to end.I am a musician and i let drugs get in the way of my some of the things i used to love(skateboarding,drawing) but my friends were always there for me.Music was like my rehab,life support,and my drug.It changed my life.I can totally relate to this movie and i wish there was more i could say.This movie left me speechless to be honest.I just saw it on the Ifc channel.I usually hate having satellite but this was a perk of having satellite.The ifc channel shows some really great movies and without it I never would have found this movie.Im not a big fan of the international films because i find that a lot of the don't do a very good job on translating lines.I mean the obvious language barrier leaves you to just believe thats what they are saying but its not that big of a deal i guess.I almost never got to see this AMAZING movie.Good thing i stayed up for it instead of going to bed..well earlier than usual.lol.I hope you all enjoy the hell of this movie and Love this movie just as much as i did.I wish i could type this all in caps but its again the rules i guess thats shouting but it would really show my excitement for the film.I Give It Three Thumbs Way Up!<br /><br />This Movie Blew ME AWAY!"
            ],
            "text/plain": [
              "<IPython.core.display.HTML object>"
            ]
          },
          "metadata": {
            "tags": []
          }
        },
        {
          "output_type": "stream",
          "text": [
            "[Succeeded / Failed / Total] 8 / 2 / 11:  44%|████▍     | 11/25 [02:13<02:49, 12.12s/it]"
          ],
          "name": "stderr"
        },
        {
          "output_type": "display_data",
          "data": {
            "text/html": [
              "<font color = green>Positive (100%)</font> --> <font color = red>Negative (76%)</font><br>I was fortunate to attend the London premier of this film. While I am not at all a fan of British drama, I did find myself deeply moved by the characters and the BAD CHOICES they made. I was in tears by the end of the film. Every scene was mesmerizing. <font color = green>The</font> attention to detail and the excellent acting was quite impressive.<br /><br />I would have to agree with some of the other comments here which question why all these women were throwing themselves at such a despicable character.<br /><br />*******SPOLIER ALERT******** I was also hoping that Dylan would have been killed by William when he had the chance! ****END SPOILER*****<br /><br />Keira Knightley did a <font color = green>great</font> job and radiate beauty and innocence from the screen, but it was Sienna Miller's performance that was truly Oscar <font color = green>worthy</font>.<br /><br />I am sure this production will be nominated for other awards.<br>I was fortunate to attend the London premier of this film. While I am not at all a fan of British drama, I did find myself deeply moved by the characters and the BAD CHOICES they made. I was in tears by the end of the film. Every scene was mesmerizing. <font color = red>Gauche</font> attention to detail and the excellent acting was quite impressive.<br /><br />I would have to agree with some of the other comments here which question why all these women were throwing themselves at such a despicable character.<br /><br />*******SPOLIER ALERT******** I was also hoping that Dylan would have been killed by William when he had the chance! ****END SPOILER*****<br /><br />Keira Knightley did a <font color = red>greasy</font> job and radiate beauty and innocence from the screen, but it was Sienna Miller's performance that was truly Oscar <font color = red>worthless</font>.<br /><br />I am sure this production will be nominated for other awards."
            ],
            "text/plain": [
              "<IPython.core.display.HTML object>"
            ]
          },
          "metadata": {
            "tags": []
          }
        },
        {
          "output_type": "stream",
          "text": [
            "[Succeeded / Failed / Total] 9 / 2 / 12:  48%|████▊     | 12/25 [02:18<02:30, 11.56s/it]"
          ],
          "name": "stderr"
        },
        {
          "output_type": "display_data",
          "data": {
            "text/html": [
              "<font color = green>Positive (100%)</font> --> <font color = red>Negative (79%)</font><br>I <font color = green>first</font> <font color = green>saw</font> this movie on IFC. Which is a great <font color = green>network</font> by the way to see underground <font color = green>films</font>. I watched this movie and was thinking it was going to be pure drama and a story line that doesn't <font color = green>hold</font> water. But it really was a <font color = green>worth</font> while watch. The <font color = green>main</font> character is in such rough shape, and you hate to <font color = green>see</font> him <font color = green>deny</font> help, but no matter what you just can't hate him. His devotion to The Beatles and John Lennon is a <font color = green>great</font> metaphor for his life and the <font color = green>helplessness</font> he feels. <br /><br />The atmosphere of the <font color = green>film</font> is also great. At times, you <font color = green>feel</font> like you can see what he sees, <font color = green>feel</font> what he feels in some situations. This movie does not leave you wanting to know more, or disliking a loophole in the <font color = green>plot</font>. There are NO loopholes (in my opinion). I have <font color = green>always</font> been a fan of <font color = green>foreign</font> <font color = green>films</font>, especially now with movies being made so poorly in America. I <font color = green>really</font> enjoy the foreign settings because I feel it can <font color = green>take</font> you on a trip, and sometimes understand a different culture. This movie did all those things to me and more. <font color = green>Please</font> watch this movie and if you're new to <font color = green>foreign</font> films, this is a great start.<br>I <font color = red>last</font> <font color = red>gave</font> this movie on IFC. Which is a great <font color = red>wireless</font> by the way to see underground <font color = red>movies</font>. I watched this movie and was thinking it was going to be pure drama and a story line that doesn't <font color = red>accept</font> water. But it really was a <font color = red>hapworth</font> while watch. The <font color = red>primary</font> character is in such rough shape, and you hate to <font color = red>disambiguation</font> him <font color = red>reject</font> help, but no matter what you just can't hate him. His devotion to The Beatles and John Lennon is a <font color = red>greasy</font> metaphor for his life and the <font color = red>egolessness</font> he feels. <br /><br />The atmosphere of the <font color = red>movie</font> is also great. At times, you <font color = red>think</font> like you can see what he sees, <font color = red>think</font> what he feels in some situations. This movie does not leave you wanting to know more, or disliking a loophole in the <font color = red>storyline</font>. There are NO loopholes (in my opinion). I have <font color = red>actually</font> been a fan of <font color = red>fiji</font> <font color = red>movies</font>, especially now with movies being made so poorly in America. I <font color = red>actually</font> enjoy the foreign settings because I feel it can <font color = red>give</font> you on a trip, and sometimes understand a different culture. This movie did all those things to me and more. <font color = red>Lease</font> watch this movie and if you're new to <font color = red>fiji</font> films, this is a great start."
            ],
            "text/plain": [
              "<IPython.core.display.HTML object>"
            ]
          },
          "metadata": {
            "tags": []
          }
        },
        {
          "output_type": "stream",
          "text": [
            "[Succeeded / Failed / Total] 10 / 2 / 13:  52%|█████▏    | 13/25 [02:27<02:16, 11.35s/it]"
          ],
          "name": "stderr"
        },
        {
          "output_type": "display_data",
          "data": {
            "text/html": [
              "<font color = green>Positive (100%)</font> --> <font color = red>Negative (62%)</font><br>I must say, every time I see this movie, I am <font color = green>deeply</font> <font color = green>touched</font>, not only by the most <font color = green>painful</font> four years of Hongsheng's life, but also by how his family deals with his <font color = green>drug</font> <font color = green>addiction</font>. It is also true that getting addicted to anything, such as drugs, alcohol, or pornography, cannot only hurt you, but also hurt your most important people in the world: your family. Since family is the #1 <font color = green>priority</font> in the Asian <font color = green>culture</font>, it <font color = green>takes</font> <font color = green>guts</font> for the circle to gather together and show one person how much the family loves him/her. this is actually the first Chinese movie that I actually <font color = green>enjoy</font>, not for the fun of it, but the elements surrounding it (superb acting, <font color = green>touching</font> story, <font color = green>great</font> direction) make this movie worth watching. What stands out the most is that Hongsheng and his family act out the story themselves <font color = green>instead</font> of having some B-movie actor trying to imitate the real person. It shows the <font color = green>genuineness</font> of the movie.<br>I must say, every time I see this movie, I am <font color = red>steeply</font> <font color = red>couched</font>, not only by the most <font color = red>disdainful</font> four years of Hongsheng's life, but also by how his family deals with his <font color = red>methamphetamine</font> <font color = red>addictive</font>. It is also true that getting addicted to anything, such as drugs, alcohol, or pornography, cannot only hurt you, but also hurt your most important people in the world: your family. Since family is the #1 <font color = red>seniority</font> in the Asian <font color = red>cultura</font>, it <font color = red>took</font> <font color = red>jats</font> for the circle to gather together and show one person how much the family loves him/her. this is actually the first Chinese movie that I actually <font color = red>achieve</font>, not for the fun of it, but the elements surrounding it (superb acting, <font color = red>crouching</font> story, <font color = red>greasy</font> direction) make this movie worth watching. What stands out the most is that Hongsheng and his family act out the story themselves <font color = red>simply</font> of having some B-movie actor trying to imitate the real person. It shows the <font color = red>vagueness</font> of the movie."
            ],
            "text/plain": [
              "<IPython.core.display.HTML object>"
            ]
          },
          "metadata": {
            "tags": []
          }
        },
        {
          "output_type": "stream",
          "text": [
            "[Succeeded / Failed / Total] 11 / 2 / 14:  56%|█████▌    | 14/25 [02:34<02:01, 11.01s/it]"
          ],
          "name": "stderr"
        },
        {
          "output_type": "display_data",
          "data": {
            "text/html": [
              "<font color = green>Positive (100%)</font> --> <font color = red>Negative (99%)</font><br>My wife is a mental health therapist and we watched it from beginning to end. I am the typical man and can not stand chick flicks, but this movie is unbelievable. If you want to see what it is like for someone who is going through these type of struggles, this is the movie for you. As I watched it I found myself feeling sorry for him and others like him. <br /><br />***Spoiler*** Plus the fact that all the individuals in the movie including the people in the mental institution were the actual people in real life made it that more <font color = green>real</font>.<br /><br />A <font color = green>must</font> see for someone in the mental health profession!<br>My wife is a mental health therapist and we watched it from beginning to end. I am the typical man and can not stand chick flicks, but this movie is unbelievable. If you want to see what it is like for someone who is going through these type of struggles, this is the movie for you. As I watched it I found myself feeling sorry for him and others like him. <br /><br />***Spoiler*** Plus the fact that all the individuals in the movie including the people in the mental institution were the actual people in real life made it that more <font color = red>unimaginable</font>.<br /><br />A <font color = red>should</font> see for someone in the mental health profession!"
            ],
            "text/plain": [
              "<IPython.core.display.HTML object>"
            ]
          },
          "metadata": {
            "tags": []
          }
        },
        {
          "output_type": "stream",
          "text": [
            "[Succeeded / Failed / Total] 12 / 2 / 15:  60%|██████    | 15/25 [02:37<01:45, 10.52s/it]"
          ],
          "name": "stderr"
        },
        {
          "output_type": "display_data",
          "data": {
            "text/html": [
              "<font color = green>Positive (100%)</font> --> <font color = red>Negative (61%)</font><br>I saw this film at the Rotterdam International Film Festival 2002. This seemed to be one of the <font color = green>less</font> popular films on the festival, however, as it <font color = green>turned</font> out, all the more interesting.<br /><br /><font color = green>The</font> story, of an actor trying to come to grips with himself and his environment after withdrawing from a drug addiction, is based on actual facts. <font color = green>Moreover</font>, the characters playing in the film are the real <font color = green>people</font> living this experience over again, this time for the film, which is partly set up as a stage play. Not only do they all happen to be good actors, Jia <font color = green>Hongsheng's</font> parents are actors in real life as well, the methods used in highlighting their relationship towards Jia are very effective.<br /><br />Jia Hongsheng is the actor of some Chinese action films late eighties start nineties. Later you can see him in great films such as Frozen and Suzhou River. In between these two career paths Jia becomes a drug <font color = green>addict</font> and looses all drive to act or even do anything productive, except for making <font color = green>somewhat</font> futile attempts at becoming a guitar virtuoso.<br /><br />I like the way the writer of the <font color = green>scenario</font> choose to emphasize on his behavior after withdrawal more than on the horror of drugs. We really feel the pain and struggle Jia is in. At the same time we hate him for the way he treats those around him.<br /><br />The film draws the viewer into a tiring pattern Jia seems to be caught in, dragging with him his parents and sister who try to take care of him. Because there are personal 'interviews' with the characters we feel like we are getting to know Jia not only through himself but through others as well.<br /><br />The film has a heavy feel, but scenes of Jia cycling through Bejing and partying with his friends lighten the tone. So does the bitter humor in a lot of events throughout the film. The music is beautiful and stayed with me for a while after. This is a film that might not easily appeal to many people but for those interested in the more serious and modern Chinese film this is a strong recommendation.<br>I saw this film at the Rotterdam International Film Festival 2002. This seemed to be one of the <font color = red>more</font> popular films on the festival, however, as it <font color = red>spurned</font> out, all the more interesting.<br /><br /><font color = red>Gauche</font> story, of an actor trying to come to grips with himself and his environment after withdrawing from a drug addiction, is based on actual facts. <font color = red>However</font>, the characters playing in the film are the real <font color = red>cambodians</font> living this experience over again, this time for the film, which is partly set up as a stage play. Not only do they all happen to be good actors, Jia <font color = red>Chengdu</font> parents are actors in real life as well, the methods used in highlighting their relationship towards Jia are very effective.<br /><br />Jia Hongsheng is the actor of some Chinese action films late eighties start nineties. Later you can see him in great films such as Frozen and Suzhou River. In between these two career paths Jia becomes a drug <font color = red>opiate</font> and looses all drive to act or even do anything productive, except for making <font color = red>mildly</font> futile attempts at becoming a guitar virtuoso.<br /><br />I like the way the writer of the <font color = red>scenarist</font> choose to emphasize on his behavior after withdrawal more than on the horror of drugs. We really feel the pain and struggle Jia is in. At the same time we hate him for the way he treats those around him.<br /><br />The film draws the viewer into a tiring pattern Jia seems to be caught in, dragging with him his parents and sister who try to take care of him. Because there are personal 'interviews' with the characters we feel like we are getting to know Jia not only through himself but through others as well.<br /><br />The film has a heavy feel, but scenes of Jia cycling through Bejing and partying with his friends lighten the tone. So does the bitter humor in a lot of events throughout the film. The music is beautiful and stayed with me for a while after. This is a film that might not easily appeal to many people but for those interested in the more serious and modern Chinese film this is a strong recommendation."
            ],
            "text/plain": [
              "<IPython.core.display.HTML object>"
            ]
          },
          "metadata": {
            "tags": []
          }
        },
        {
          "output_type": "stream",
          "text": [
            "[Succeeded / Failed / Total] 13 / 2 / 16:  64%|██████▍   | 16/25 [02:51<01:36, 10.74s/it]"
          ],
          "name": "stderr"
        },
        {
          "output_type": "display_data",
          "data": {
            "text/html": [
              "<font color = red>Negative (100%)</font> --> <font color = gray>[SKIPPED]</font><br>\"Night of the Hunted\" stars French porn star Brigitte Lahaie.In fact,many of the cast members in this slow-moving production were porn actors at the time of its frantic filming.This film is certainly different than Rollin's usual lesbian vampire flicks,but it's not as memorable as for example \"Lips of Blood\" or \"Fascination\".Lahaie plays an amnesiac hitchhiker who can't remember who she is or where she came from.Most of the film takes place in a modern apartment complex,where Lahaie is being held by some kind of medical group that's treating a number of people with a similar condition.Anyway,she escapes from the monolithic office tower where the affected people are held.On a highway outside of town,she meets a young man,who stops and picks her up.\"Night of the Hunted\" offers plenty of nudity,unfortunately the pace is extremely slow.The atmosphere is horribly sad and the relationship between Brigitte Lahaie and another asylum inmate Dominique Journet is well-developed.Still \"Night of the Hunted\" is too dull to be completely enjoyable.Give it a look only if you are a fan of Jean Rollin's works.7 out of 10 and that's being kind."
            ],
            "text/plain": [
              "<IPython.core.display.HTML object>"
            ]
          },
          "metadata": {
            "tags": []
          }
        },
        {
          "output_type": "stream",
          "text": [
            "\r[Succeeded / Failed / Total] 13 / 2 / 17:  68%|██████▊   | 17/25 [02:51<01:20, 10.11s/it]"
          ],
          "name": "stderr"
        },
        {
          "output_type": "display_data",
          "data": {
            "text/html": [
              "<font color = green>Positive (100%)</font> --> <font color = red>Negative (100%)</font><br>Even if you're a fan of Jean Rollin's idiosyncratic body of work, you will be caught off guard by this <font color = green>exceptional</font> foray into science fiction territory. For once, there's not a single diaphanously gowned vampire girl in sight ! True to tradition, the budget proved way too tight to realize the director's vision entirely. Yet this is largely compensated by his obvious love of genre cinema, dedication to his craft and sheer ingenuity. Jean-Claude Couty's atmospheric cinematography makes the most of the foreboding locations and Philippe Bréjean (a/k/a \"Gary Sandeur\") contributes a <font color = green>startling</font> soundtrack that fortunately doesn't resemble any of the sappy stuff he composed for hardcore.<br /><br />Shot in and around a Paris office block before and after working hours, the film was largely cast with porn regulars Rollin was already quite familiar with from his \"Michel Gentil\" cash-gathering XXX efforts, most notably French f*ck film royalty Brigitte Lahaie in the demanding lead. Playing Elisabeth (rather well, I might add), she's picked up wandering a nearby highway one night by Robert (Vincent Gardère), driving home at the end of a long work day. Barely able to piece together the string of events that got her there, Elisabeth seems to lose her memories mere moments after events occur, even forgetting Robert's name and heroic savior role before their night flight comes to an end at his apartment. Prior to making love, she rightfully describes herself as a virgin (further credit to Brigitte's thespian skills that she can handle the line so convincingly, being after all one of the more active adult actresses of the '70s) because she cannot recall a single touch preceding his. Because of this nifty bit of context, the relatively long sex scene that follows totally eschews the gratuity of other \"commercial\" interludes Rollin has had to include in other works to assure funding.<br /><br />When Robert leaves for work, he's inevitably erased from Elisabeth's feeble mind. A mysterious doctor (comedian Bernard Papineau effectively cast against type) and his menacing assistant Solange (striking porn starlet Rachel Mhas) move in on her during her protector's absence and take her back to the place she turns out to have escaped from. Here we get one of the movie's strongest scenes as she's re-introduced to her roommate Catherine (the late Cathérine Greiner a/k/a hardcore performer \"Cathy Stewart\" in a quietly devastating turn), both girls desperately supplying fictitious shared \"memories\" for one another in a bid to outrun their inevitable fate. That deterioration is not solely limited to the mind becomes painfully clear when they are served lunch and Catherine's unable to control her movements in trying to eat a spoonful of soup. It's also Catherine who gets to voice the filmmaker's compromise with the demands of commerce as she urges Elisabeth to get naked and hold her because sex is all they have left now that both mind and physical faculties have deserted them.<br /><br />Several rather explicit - if not quite hardcore - sex scenes make up the movie's mid-section and French porn aficionados should recognize the likes of Alain Plumey (a/k/a \"Cyril Val\"), Jacques Gateau and Elodie Delage, along with a blink and miss bit from future porno princess Marilyn Jess whose rape at the hands, mouth and member of Plumey was only present in the film's rarely screened XXX version FILLES TRAQUEES. The pivotal part of Véronique, a girl Elisabeth almost seems to remember and whom she seeks to escape anew with, is beautifully handled by the exquisite Dominique Journet - in her unforgettable debut - who would go on to play a sizable supporting role in Franco Zeffirelli's LA TRAVIATA. The six feet under ending reveals the deteriorating condition to be the result of a nuclear spill, the quarantined \"patients\" ultimately leaving a barely breathing empty shell, unceremoniously disposed off in a fiery furnace. The final shot offers a particularly heartbreaking variation on that of Chaplin's MODERN TIMES as Elisabeth, approaching complete meltdown by now, and a wounded Robert stumble along the railroad bridge, clumsily clasping each other's outstretched hands.<br>Even if you're a fan of Jean Rollin's idiosyncratic body of work, you will be caught off guard by this <font color = red>exception</font> foray into science fiction territory. For once, there's not a single diaphanously gowned vampire girl in sight ! True to tradition, the budget proved way too tight to realize the director's vision entirely. Yet this is largely compensated by his obvious love of genre cinema, dedication to his craft and sheer ingenuity. Jean-Claude Couty's atmospheric cinematography makes the most of the foreboding locations and Philippe Bréjean (a/k/a \"Gary Sandeur\") contributes a <font color = red>upsetting</font> soundtrack that fortunately doesn't resemble any of the sappy stuff he composed for hardcore.<br /><br />Shot in and around a Paris office block before and after working hours, the film was largely cast with porn regulars Rollin was already quite familiar with from his \"Michel Gentil\" cash-gathering XXX efforts, most notably French f*ck film royalty Brigitte Lahaie in the demanding lead. Playing Elisabeth (rather well, I might add), she's picked up wandering a nearby highway one night by Robert (Vincent Gardère), driving home at the end of a long work day. Barely able to piece together the string of events that got her there, Elisabeth seems to lose her memories mere moments after events occur, even forgetting Robert's name and heroic savior role before their night flight comes to an end at his apartment. Prior to making love, she rightfully describes herself as a virgin (further credit to Brigitte's thespian skills that she can handle the line so convincingly, being after all one of the more active adult actresses of the '70s) because she cannot recall a single touch preceding his. Because of this nifty bit of context, the relatively long sex scene that follows totally eschews the gratuity of other \"commercial\" interludes Rollin has had to include in other works to assure funding.<br /><br />When Robert leaves for work, he's inevitably erased from Elisabeth's feeble mind. A mysterious doctor (comedian Bernard Papineau effectively cast against type) and his menacing assistant Solange (striking porn starlet Rachel Mhas) move in on her during her protector's absence and take her back to the place she turns out to have escaped from. Here we get one of the movie's strongest scenes as she's re-introduced to her roommate Catherine (the late Cathérine Greiner a/k/a hardcore performer \"Cathy Stewart\" in a quietly devastating turn), both girls desperately supplying fictitious shared \"memories\" for one another in a bid to outrun their inevitable fate. That deterioration is not solely limited to the mind becomes painfully clear when they are served lunch and Catherine's unable to control her movements in trying to eat a spoonful of soup. It's also Catherine who gets to voice the filmmaker's compromise with the demands of commerce as she urges Elisabeth to get naked and hold her because sex is all they have left now that both mind and physical faculties have deserted them.<br /><br />Several rather explicit - if not quite hardcore - sex scenes make up the movie's mid-section and French porn aficionados should recognize the likes of Alain Plumey (a/k/a \"Cyril Val\"), Jacques Gateau and Elodie Delage, along with a blink and miss bit from future porno princess Marilyn Jess whose rape at the hands, mouth and member of Plumey was only present in the film's rarely screened XXX version FILLES TRAQUEES. The pivotal part of Véronique, a girl Elisabeth almost seems to remember and whom she seeks to escape anew with, is beautifully handled by the exquisite Dominique Journet - in her unforgettable debut - who would go on to play a sizable supporting role in Franco Zeffirelli's LA TRAVIATA. The six feet under ending reveals the deteriorating condition to be the result of a nuclear spill, the quarantined \"patients\" ultimately leaving a barely breathing empty shell, unceremoniously disposed off in a fiery furnace. The final shot offers a particularly heartbreaking variation on that of Chaplin's MODERN TIMES as Elisabeth, approaching complete meltdown by now, and a wounded Robert stumble along the railroad bridge, clumsily clasping each other's outstretched hands."
            ],
            "text/plain": [
              "<IPython.core.display.HTML object>"
            ]
          },
          "metadata": {
            "tags": []
          }
        },
        {
          "output_type": "stream",
          "text": [
            "[Succeeded / Failed / Total] 14 / 2 / 18:  72%|███████▏  | 18/25 [03:24<01:19, 11.37s/it]"
          ],
          "name": "stderr"
        },
        {
          "output_type": "display_data",
          "data": {
            "text/html": [
              "<font color = green>Positive (100%)</font> --> <font color = red>Negative (54%)</font><br>I was <font color = green>surprised</font> how much <font color = green>I</font> <font color = green>enjoyed</font> this. Sure it is a <font color = green>bit</font> slow moving in parts, but what else would one expect from Rollin? Also there is <font color = green>plenty</font> of nudity, <font color = green>nothing</font> wrong with that, particularly as it includes lots of the gorgeous, <font color = green>Brigitte</font> <font color = green>Lahaie</font>. <font color = green>There</font> are also some spectacularly eroticised female <font color = green>dead</font>, bit more dodgey, perhaps, but most effective. There is also a sci-fi <font color = green>like</font> <font color = green>storyline</font> with a brief explanation at the <font color = green>end</font>, but I wouldn't bother too much with that. No, here we have a most interesting <font color = green>exploration</font> of memory and the effect of memory <font color = green>loss</font> and to just what extent one is still 'alive' <font color = green>without</font> memory. My <font color = green>DVD</font> <font color = green>sleeve</font> mentions <font color = green>David</font> Cronenberg and whilst this is <font color = green>perhaps</font> not quite as <font color = green>good</font> as his best <font color = green>films</font>, there is some similarity here, particularly with the <font color = green>great</font> use of seemingly menacing architecture and the effective and <font color = green>creepy</font> <font color = green>use</font> of inside space. <font color = green>As</font> I have tried to indicate this is by no means a rip roaring <font color = green>thriller</font>, it is a <font color = green>captivating</font>, nightmare like movie that makes the very most of its locations, <font color = green>including</font> a stunning <font color = green>railway</font> setting at the <font color = green>end</font>.<br>I was <font color = red>surprise</font> how much <font color = red>ENCHANTER</font> <font color = red>overjoyed</font> this. Sure it is a <font color = red>kbyte</font> slow moving in parts, but what else would one expect from Rollin? Also there is <font color = red>plentiful</font> of nudity, <font color = red>anything</font> wrong with that, particularly as it includes lots of the gorgeous, <font color = red>Claudette</font> <font color = red>Jie</font>. <font color = red>Nowhere</font> are also some spectacularly eroticised female <font color = red>cursed</font>, bit more dodgey, perhaps, but most effective. There is also a sci-fi <font color = red>resembling</font> <font color = red>byline</font> with a brief explanation at the <font color = red>beginning</font>, but I wouldn't bother too much with that. No, here we have a most interesting <font color = red>exploratory</font> of memory and the effect of memory <font color = red>damage</font> and to just what extent one is still 'alive' <font color = red>any</font> memory. My <font color = red>FUNERARY</font> <font color = red>sleek</font> mentions <font color = red>Ghaznavid</font> Cronenberg and whilst this is <font color = red>probably</font> not quite as <font color = red>bad</font> as his best <font color = red>movies</font>, there is some similarity here, particularly with the <font color = red>greasy</font> use of seemingly menacing architecture and the effective and <font color = red>creep</font> <font color = red>usage</font> of inside space. <font color = red>Neurochemistry</font> I have tried to indicate this is by no means a rip roaring <font color = red>thrill</font>, it is a <font color = red>sedating</font>, nightmare like movie that makes the very most of its locations, <font color = red>eluding</font> a stunning <font color = red>rail</font> setting at the <font color = red>beginning</font>."
            ],
            "text/plain": [
              "<IPython.core.display.HTML object>"
            ]
          },
          "metadata": {
            "tags": []
          }
        },
        {
          "output_type": "stream",
          "text": [
            "[Succeeded / Failed / Total] 15 / 2 / 19:  76%|███████▌  | 19/25 [03:32<01:07, 11.17s/it]"
          ],
          "name": "stderr"
        },
        {
          "output_type": "display_data",
          "data": {
            "text/html": [
              "<font color = green>Positive (100%)</font> --> <font color = red>Negative (61%)</font><br><font color = green>I</font> went into \"Night of the Hunted\" not knowing what to expect at all. I was <font color = green>really</font> <font color = green>impressed</font>.<br /><br />It is essentially a mystery/thriller where this girl who can't remember anything gets 'rescued' by a guy who happens to be driving past. The two become fast friends and lovers and together, they try to figure out what is going on with her. Through some vague flashbacks and grim memories, they eventually get to the bottom of it and the <font color = green>ending</font> is pretty cool.<br /><br />I really <font color = green>liked</font> the setting of this one: a desolate, post-modern Paris is the backdrop with lots of gray skies and tall buildings. <font color = green>Very</font> metropolitan. Groovy soundtrack and lots of <font color = green>nudity</font>.<br /><br />Surprising it was made in <font color = green>1980</font>; seems <font color = green>somewhat</font> ahead of it's time.<br /><br />8 out of 10, kids.<br><font color = red>ENCHANTER</font> went into \"Night of the Hunted\" not knowing what to expect at all. I was <font color = red>actually</font> <font color = red>impressing</font>.<br /><br />It is essentially a mystery/thriller where this girl who can't remember anything gets 'rescued' by a guy who happens to be driving past. The two become fast friends and lovers and together, they try to figure out what is going on with her. Through some vague flashbacks and grim memories, they eventually get to the bottom of it and the <font color = red>pronouncing</font> is pretty cool.<br /><br />I really <font color = red>hiked</font> the setting of this one: a desolate, post-modern Paris is the backdrop with lots of gray skies and tall buildings. <font color = red>Perfumery</font> metropolitan. Groovy soundtrack and lots of <font color = red>stupidity</font>.<br /><br />Surprising it was made in <font color = red>hibernate</font>; seems <font color = red>mildly</font> ahead of it's time.<br /><br />8 out of 10, kids."
            ],
            "text/plain": [
              "<IPython.core.display.HTML object>"
            ]
          },
          "metadata": {
            "tags": []
          }
        },
        {
          "output_type": "stream",
          "text": [
            "[Succeeded / Failed / Total] 16 / 2 / 20:  80%|████████  | 20/25 [03:37<00:54, 10.87s/it]"
          ],
          "name": "stderr"
        },
        {
          "output_type": "display_data",
          "data": {
            "text/html": [
              "<font color = green>Positive (60%)</font> --> <font color = red>Negative (90%)</font><br>I have certainly not seen all of Jean Rollin's films, but they mostly seem to be bloody vampire naked women fests, which if you like that sort of thing is not bad, but this is a major departure and could almost be Cronenberg <font color = green>minus</font> the bio-mechanical nightmarish stuff. Except it's in French with subtitles of course. A man driving on the road at night comes across a woman that is in her slippers and bathrobe and picks her up, while in the background yet another woman lingers, wearing nothing. As they drive along it's obvious that there is something not right about the woman, in that she forgets things almost as quickly as they happen. Still though, that doesn't prevent the man from having sex with her once they return to Paris & his apartment. The man leaves for work and some strangers show up at his place and take the woman away to this 'tower block', a huge apartment building referred to as the Black Tower, where others of her kind (for whom the 'no memory' things seems to be the least of their problems) are being held for some reason. Time and events march by in the movie, which involve mostly trying to find what's going on and get out of the building for this woman, and she does manage to call Robert, the guy that picked her up in the first place, to come rescue her. The revelation as to what's going on comes in the last few moments of the movie, which has a rather strange yet touching end to it. In avoiding what seemed to be his \"typical\" formula, Rollin created, in this, what I feel is his most fascinating and disturbing film. I like this one a lot, check it out. 8 out of 10.<br>I have certainly not seen all of Jean Rollin's films, but they mostly seem to be bloody vampire naked women fests, which if you like that sort of thing is not bad, but this is a major departure and could almost be Cronenberg <font color = red>asinus</font> the bio-mechanical nightmarish stuff. Except it's in French with subtitles of course. A man driving on the road at night comes across a woman that is in her slippers and bathrobe and picks her up, while in the background yet another woman lingers, wearing nothing. As they drive along it's obvious that there is something not right about the woman, in that she forgets things almost as quickly as they happen. Still though, that doesn't prevent the man from having sex with her once they return to Paris & his apartment. The man leaves for work and some strangers show up at his place and take the woman away to this 'tower block', a huge apartment building referred to as the Black Tower, where others of her kind (for whom the 'no memory' things seems to be the least of their problems) are being held for some reason. Time and events march by in the movie, which involve mostly trying to find what's going on and get out of the building for this woman, and she does manage to call Robert, the guy that picked her up in the first place, to come rescue her. The revelation as to what's going on comes in the last few moments of the movie, which has a rather strange yet touching end to it. In avoiding what seemed to be his \"typical\" formula, Rollin created, in this, what I feel is his most fascinating and disturbing film. I like this one a lot, check it out. 8 out of 10."
            ],
            "text/plain": [
              "<IPython.core.display.HTML object>"
            ]
          },
          "metadata": {
            "tags": []
          }
        },
        {
          "output_type": "stream",
          "text": [
            "[Succeeded / Failed / Total] 17 / 2 / 21:  84%|████████▍ | 21/25 [03:48<00:43, 10.87s/it]"
          ],
          "name": "stderr"
        },
        {
          "output_type": "display_data",
          "data": {
            "text/html": [
              "<font color = green>Positive (100%)</font> --> <font color = red>Negative (88%)</font><br>Since this <font color = green>cartoon</font> was made in the old days, Felix talks using cartoon bubbles and the animation style is very <font color = green>crude</font> when compared to today. However, compared to its contemporaries, it's a pretty <font color = green>good</font> cartoon and still holds up well. That's because despite its age, the <font color = green>cartoon</font> is very creative and funny.<br /><br />Felix meets a guy whose shoe business is folding because he can't sell any shoes. Well, Felix needs money so he can go to Hollywood, so he tells the guy at the shop he'll get every shoe sold. Felix spreads chewing gum all over town and soon people are stuck and leave their shoes--rushing to buy new ones from the shoe store. In gratitude, the guy gives Felix $500! However, Felix's owner wants to take the money and go alone, so Felix figures out a way to sneak along.<br /><br />Once there, Felix barges into a studio and makes a bit of a nuisance of himself. Along the way, he meets cartoon versions of comics Ben Turpin and Charlie Chaplin. In the end, though, through luck, Felix is discovered and offered a movie contract. Hurray!<br>Since this <font color = red>toon</font> was made in the old days, Felix talks using cartoon bubbles and the animation style is very <font color = red>petroleum</font> when compared to today. However, compared to its contemporaries, it's a pretty <font color = red>bad</font> cartoon and still holds up well. That's because despite its age, the <font color = red>toon</font> is very creative and funny.<br /><br />Felix meets a guy whose shoe business is folding because he can't sell any shoes. Well, Felix needs money so he can go to Hollywood, so he tells the guy at the shop he'll get every shoe sold. Felix spreads chewing gum all over town and soon people are stuck and leave their shoes--rushing to buy new ones from the shoe store. In gratitude, the guy gives Felix $500! However, Felix's owner wants to take the money and go alone, so Felix figures out a way to sneak along.<br /><br />Once there, Felix barges into a studio and makes a bit of a nuisance of himself. Along the way, he meets cartoon versions of comics Ben Turpin and Charlie Chaplin. In the end, though, through luck, Felix is discovered and offered a movie contract. Hurray!"
            ],
            "text/plain": [
              "<IPython.core.display.HTML object>"
            ]
          },
          "metadata": {
            "tags": []
          }
        },
        {
          "output_type": "stream",
          "text": [
            "[Succeeded / Failed / Total] 18 / 2 / 22:  88%|████████▊ | 22/25 [03:55<00:32, 10.69s/it]"
          ],
          "name": "stderr"
        },
        {
          "output_type": "display_data",
          "data": {
            "text/html": [
              "<font color = green>Positive (100%)</font> --> <font color = red>Negative (57%)</font><br>Despite the title and unlike some other <font color = green>stories</font> about love and war, this film isn't too sticky and pink, because love is as a rose: With thorns, that is. The four leading actors set their characters realistic and with a <font color = green>good</font> sense and balance between the tragic and the down-to-earth. <<font color = green>br</font> /><br />The music and lyrics of the cabaret/chanson-esquire songs (sung <font color = green>b</font> Keira <font color = green>Knightley</font> herself) drag the <font color = green>viewer</font> deeper and deeper in the film, from one place to another, between the brutal war and amongst the peaceful love. Some people <font color = green>may</font> <font color = green>find</font> it too much a <font color = green>biopic</font>, but it <font color = green>ís</font> mostly a romantic story, even <font color = green>though</font> it consequently follows the life of Dylan Thomas and the triangular relationship which is steeped by joy and jealousy. <br /><br />London gets visualized from another angle for once, the bohemian life of Dylan during the bombings of the Germans is set in a floating atmosphere of small bedrooms, pubs and bars. The independent women, the soldier and the charismatic poet are constantly swept in both feelings of love and <font color = green>anger</font>. <br /><br />Maybe the end is too twisted and hangs <font color = green>somewhat</font> <font color = green>loosely</font> to the rest of the film, but all in all this is a great romantic story.<br>Despite the title and unlike some other <font color = red>novels</font> about love and war, this film isn't too sticky and pink, because love is as a rose: With thorns, that is. The four leading actors set their characters realistic and with a <font color = red>bad</font> sense and balance between the tragic and the down-to-earth. <<font color = red>ck</font> /><br />The music and lyrics of the cabaret/chanson-esquire songs (sung <font color = red>d</font> Keira <font color = red>Huntley</font> herself) drag the <font color = red>viewing</font> deeper and deeper in the film, from one place to another, between the brutal war and amongst the peaceful love. Some people <font color = red>should</font> <font color = red>prove</font> it too much a <font color = red>bioy</font>, but it <font color = red>pandemic</font> mostly a romantic story, even <font color = red>however</font> it consequently follows the life of Dylan Thomas and the triangular relationship which is steeped by joy and jealousy. <br /><br />London gets visualized from another angle for once, the bohemian life of Dylan during the bombings of the Germans is set in a floating atmosphere of small bedrooms, pubs and bars. The independent women, the soldier and the charismatic poet are constantly swept in both feelings of love and <font color = red>disgust</font>. <br /><br />Maybe the end is too twisted and hangs <font color = red>mildly</font> <font color = red>closely</font> to the rest of the film, but all in all this is a great romantic story."
            ],
            "text/plain": [
              "<IPython.core.display.HTML object>"
            ]
          },
          "metadata": {
            "tags": []
          }
        },
        {
          "output_type": "stream",
          "text": [
            "[Succeeded / Failed / Total] 19 / 2 / 23:  92%|█████████▏| 23/25 [04:03<00:21, 10.57s/it]"
          ],
          "name": "stderr"
        },
        {
          "output_type": "display_data",
          "data": {
            "text/html": [
              "<font color = green>Positive (100%)</font> --> <font color = red>[FAILED]</font><br>Felix in Hollywood is a great film. The version I viewed was very well restored, which is sometimes a problem with these silent era animated films. It has some of Hollywood's most famous stars making cameo animated appearances. A must for any silent film or animation enthusiast."
            ],
            "text/plain": [
              "<IPython.core.display.HTML object>"
            ]
          },
          "metadata": {
            "tags": []
          }
        },
        {
          "output_type": "stream",
          "text": [
            "[Succeeded / Failed / Total] 19 / 3 / 24:  96%|█████████▌| 24/25 [04:05<00:10, 10.22s/it]"
          ],
          "name": "stderr"
        },
        {
          "output_type": "display_data",
          "data": {
            "text/html": [
              "<font color = green>Positive (100%)</font> --> <font color = red>Negative (64%)</font><br><font color = green>A</font> gem of a <font color = green>cartoon</font> from the silent era---it was re-discovered by CARTOON NETWORK, and was broadcast for likely the first time in decades, if ever.<br /><br /><font color = green>What</font> makes this so enjoyable are the varied <font color = green>cameos</font>...Douglas Fairbanks is <font color = green>attacked</font> by giant mosquitos; Will Hays pays a visit as 'boss' of Static Studios; as <font color = green>well</font> as appearances by Chaplin, Keaton, and William S. Hart. The image of chewing gum decimating the shoes of the <font color = green>populace</font> (a money-making idea for Felix's near-bankrupt shoe-=salesman boss) cannot be described--it must be viewed. A <font color = green>terrific</font> cultural gem.<br><font color = red>SESS</font> gem of a <font color = red>toon</font> from the silent era---it was re-discovered by CARTOON NETWORK, and was broadcast for likely the first time in decades, if ever.<br /><br /><font color = red>Hihat</font> makes this so enjoyable are the varied <font color = red>cameo</font>...Douglas Fairbanks is <font color = red>repelled</font> by giant mosquitos; Will Hays pays a visit as 'boss' of Static Studios; as <font color = red>such</font> as appearances by Chaplin, Keaton, and William S. Hart. The image of chewing gum decimating the shoes of the <font color = red>populate</font> (a money-making idea for Felix's near-bankrupt shoe-=salesman boss) cannot be described--it must be viewed. A <font color = red>horrific</font> cultural gem."
            ],
            "text/plain": [
              "<IPython.core.display.HTML object>"
            ]
          },
          "metadata": {
            "tags": []
          }
        },
        {
          "output_type": "stream",
          "text": [
            "[Succeeded / Failed / Total] 20 / 3 / 25: 100%|██████████| 25/25 [04:09<00:00,  9.96s/it]"
          ],
          "name": "stderr"
        },
        {
          "output_type": "display_data",
          "data": {
            "text/html": [
              "<font color = green>Positive (100%)</font> --> <font color = red>[FAILED]</font><br>This short is one of the best of all time and is proof (just like most of Charlie Chaplin's work) that sound and color are not requirements for quality work. In fact, this cartoon uses (and may have started) some of the gags and devices that became standard in animation in later years, like caricatures of celebrities (including the afore-mentioned Chaplin. While the characters are silent, they do \"speak\", by use of word balloons, just like in the comics. Given that Felix started out in newspapers as a comic strip, this device is a natural. The atmosphere and style of the short is completely harmonious with that of the comic strip while adding another dimension (literally and figuratively) and makes this short a delight to watch. Well worth taking the time and effort to get. Most highly recommended."
            ],
            "text/plain": [
              "<IPython.core.display.HTML object>"
            ]
          },
          "metadata": {
            "tags": []
          }
        },
        {
          "output_type": "stream",
          "text": [
            "[Succeeded / Failed / Total] 20 / 4 / 26: : 26it [04:15,  9.84s/it]"
          ],
          "name": "stderr"
        },
        {
          "output_type": "display_data",
          "data": {
            "text/html": [
              "<font color = green>Positive (86%)</font> --> <font color = red>Negative (58%)</font><br>Felix is watching an actor rehearse his lines: \"A ham, A ham! My kingdom for a ham sandwich!!!\" The dramatic guy that tells Felix he'll \"have to sacrifice my art and go into the movies.\" He's in tears. Felix just looks at him like he's nuts, and shrugs his shoulders. The old guy tells Felix to \"go ye forth\" and find money to finance a trip to Hollywood. Felix thinks, \"How does he expect me to get the money?\"<br /><br />In minutes, of course (this is a cartoon), he spots a shoe business owner putting up a \"bankrupt\" sale on his store. Felix comes up with a plan to bail him out and the man promises the cat $500 if it works.<br /><br />Well, it does but the man wants to go alone and leave Felix at home. In an outrageous scene, Felix transforms himself into a briefcase and that's how he gets to Hollywood, transforming himself back to cat when they get there.<br /><br />We then witness Felix's attempts at getting into show business. His audition scenes are very <font color = green>funny</font>, especially with his imitation of Charlie Chaplin. In addition there are caricatures of some famous silent film stars and executives. In all, quite a bit of material is in this 9.5- minute cartoon. It's amazing how much more you can get in an extra 2.5 minutes, assuming most animated shorts are seven minutes in length.<br /><br />At any rate, there were a number of laughs in here and more zany things you could only see in a cartoon, like Felix have a sword duel with giant mosquitoes! Crazy stuff.<br>Felix is watching an actor rehearse his lines: \"A ham, A ham! My kingdom for a ham sandwich!!!\" The dramatic guy that tells Felix he'll \"have to sacrifice my art and go into the movies.\" He's in tears. Felix just looks at him like he's nuts, and shrugs his shoulders. The old guy tells Felix to \"go ye forth\" and find money to finance a trip to Hollywood. Felix thinks, \"How does he expect me to get the money?\"<br /><br />In minutes, of course (this is a cartoon), he spots a shoe business owner putting up a \"bankrupt\" sale on his store. Felix comes up with a plan to bail him out and the man promises the cat $500 if it works.<br /><br />Well, it does but the man wants to go alone and leave Felix at home. In an outrageous scene, Felix transforms himself into a briefcase and that's how he gets to Hollywood, transforming himself back to cat when they get there.<br /><br />We then witness Felix's attempts at getting into show business. His audition scenes are very <font color = red>bunny</font>, especially with his imitation of Charlie Chaplin. In addition there are caricatures of some famous silent film stars and executives. In all, quite a bit of material is in this 9.5- minute cartoon. It's amazing how much more you can get in an extra 2.5 minutes, assuming most animated shorts are seven minutes in length.<br /><br />At any rate, there were a number of laughs in here and more zany things you could only see in a cartoon, like Felix have a sword duel with giant mosquitoes! Crazy stuff."
            ],
            "text/plain": [
              "<IPython.core.display.HTML object>"
            ]
          },
          "metadata": {
            "tags": []
          }
        },
        {
          "output_type": "stream",
          "text": [
            "[Succeeded / Failed / Total] 21 / 4 / 27: : 27it [04:26,  9.85s/it]"
          ],
          "name": "stderr"
        },
        {
          "output_type": "stream",
          "text": [
            "+-------------------------------+--------+\n",
            "| Attack Results                |        |\n",
            "+-------------------------------+--------+\n",
            "| Number of successful attacks: | 21     |\n",
            "| Number of failed attacks:     | 4      |\n",
            "| Number of skipped attacks:    | 2      |\n",
            "| Original accuracy:            | 92.59% |\n",
            "| Accuracy under attack:        | 14.81% |\n",
            "| Attack success rate:          | 84.0%  |\n",
            "| Average perturbed word %:     | 5.29%  |\n",
            "| Average num. words per input: | 248.96 |\n",
            "| Avg num queries:              | 419.72 |\n",
            "+-------------------------------+--------+"
          ],
          "name": "stdout"
        },
        {
          "output_type": "stream",
          "text": [
            "\n",
            "\u001b[34;1mtextattack\u001b[0m: Attack time: 266.0633933544159s\n"
          ],
          "name": "stderr"
        }
      ]
    },
    {
      "cell_type": "code",
      "metadata": {
        "id": "enY5C3DDBwlo",
        "colab": {
          "base_uri": "https://localhost:8080/"
        },
        "outputId": "a09217da-d64e-4bb4-94b4-4326b0b08667"
      },
      "source": [
        "from textattack.constraints.pre_transformation import (\n",
        "    RepeatModification,\n",
        "    StopwordModification,\n",
        ")\n",
        "from textattack.constraints.semantics.sentence_encoders import UniversalSentenceEncoder\n",
        "from textattack.goal_functions import UntargetedClassification\n",
        "from textattack.search_methods import GreedyWordSwapWIR\n",
        "from textattack.shared.attack import Attack\n",
        "from textattack.transformations import (\n",
        "    CompositeTransformation,\n",
        "    WordSwapEmbedding,\n",
        "    WordSwapHomoglyphSwap,\n",
        "    WordSwapNeighboringCharacterSwap,\n",
        "    WordSwapRandomCharacterDeletion,\n",
        "    WordSwapRandomCharacterInsertion,\n",
        ")\n",
        "\n",
        "transformation = CompositeTransformation(\n",
        "            [\n",
        "                # (1) Insert: Insert a space into the word.\n",
        "                # Generally, words are segmented by spaces in English. Therefore,\n",
        "                # we can deceive classifiers by inserting spaces into words.\n",
        "                WordSwapRandomCharacterInsertion(\n",
        "                    random_one=True,\n",
        "                    letters_to_insert=\" \",\n",
        "                    skip_first_char=True,\n",
        "                    skip_last_char=True,\n",
        "                ),\n",
        "                # (2) Delete: Delete a random character of the word except for the first\n",
        "                # and the last character.\n",
        "                WordSwapRandomCharacterDeletion(\n",
        "                    random_one=True, skip_first_char=True, skip_last_char=True\n",
        "                ),\n",
        "                # (3) Swap: Swap random two adjacent letters in the word but do not\n",
        "                # alter the first or last letter. This is a common occurrence when\n",
        "                # typing quickly and is easy to implement.\n",
        "                WordSwapNeighboringCharacterSwap(\n",
        "                    random_one=True, skip_first_char=True, skip_last_char=True\n",
        "                ),\n",
        "                # (4) Substitute-C (Sub-C): Replace characters with visually similar\n",
        "                # characters (e.g., replacing “o” with “0”, “l” with “1”, “a” with “@”)\n",
        "                # or adjacent characters in the keyboard (e.g., replacing “m” with “n”).\n",
        "                WordSwapHomoglyphSwap(),\n",
        "                # (5) Substitute-W\n",
        "                # (Sub-W): Replace a word with its topk nearest neighbors in a\n",
        "                # context-aware word vector space. Specifically, we use the pre-trained\n",
        "                # GloVe model [30] provided by Stanford for word embedding and set\n",
        "                # topk = 5 in the experiment.\n",
        "                WordSwapEmbedding(max_candidates=5),\n",
        "            ]\n",
        "        )\n",
        "\n",
        "constraints = [RepeatModification(), StopwordModification()]\n",
        "        # In our experiment, we first use the Universal Sentence\n",
        "        # Encoder [7], a model trained on a number of natural language\n",
        "        # prediction tasks that require modeling the meaning of word\n",
        "        # sequences, to encode sentences into high dimensional vectors.\n",
        "        # Then, we use the cosine similarity to measure the semantic\n",
        "        # similarity between original texts and adversarial texts.\n",
        "        # ... \"Furthermore, the semantic similarity threshold \\eps is set\n",
        "        # as 0.8 to guarantee a good trade-off between quality and\n",
        "        # strength of the generated adversarial text.\"\n",
        "constraints.append(UniversalSentenceEncoder(threshold=0.8))\n",
        "        #\n",
        "        # Goal is untargeted classification\n",
        "        #\n",
        "goal_function = UntargetedClassification(model_wrapper)\n",
        "        #\n",
        "        # Greedily swap words with \"Word Importance Ranking\".\n",
        "        #\n",
        "search_method = GreedyWordSwapWIR(wir_method=\"delete\")\n",
        "\n",
        "attack=Attack(goal_function, constraints, transformation, search_method)\n",
        "\n",
        "dataset = HuggingFaceDataset(\"imdb\", None, \"test\") # Change the dataset"
      ],
      "execution_count": 12,
      "outputs": [
        {
          "output_type": "stream",
          "text": [
            "Using /tmp/tfhub_modules to cache modules.\n",
            "Downloading TF-Hub Module 'https://tfhub.dev/google/universal-sentence-encoder/4'.\n",
            "Downloaded https://tfhub.dev/google/universal-sentence-encoder/4, Total size: 987.47MB\n",
            "Downloaded TF-Hub Module 'https://tfhub.dev/google/universal-sentence-encoder/4'.\n",
            "\u001b[34;1mtextattack\u001b[0m: Unknown if model of class <class 'transformers.models.bert.modeling_bert.BertForSequenceClassification'> compatible with goal function <class 'textattack.goal_functions.classification.untargeted_classification.UntargetedClassification'>.\n",
            "Reusing dataset imdb (/root/.cache/huggingface/datasets/imdb/plain_text/1.0.0/4ea52f2e58a08dbc12c2bd52d0d92b30b88c00230b4522801b3636782f625c5b)\n",
            "\u001b[34;1mtextattack\u001b[0m: Loading \u001b[94mdatasets\u001b[0m dataset \u001b[94mimdb\u001b[0m, split \u001b[94mtest\u001b[0m.\n"
          ],
          "name": "stderr"
        }
      ]
    },
    {
      "cell_type": "code",
      "metadata": {
        "colab": {
          "base_uri": "https://localhost:8080/"
        },
        "id": "axfmmqOUlwtU",
        "outputId": "9d25ff7b-d007-4c46-fff5-e351d771f802"
      },
      "source": [
        "print(attack)"
      ],
      "execution_count": 13,
      "outputs": [
        {
          "output_type": "stream",
          "text": [
            "Attack(\n",
            "  (search_method): GreedyWordSwapWIR(\n",
            "    (wir_method):  delete\n",
            "  )\n",
            "  (goal_function):  UntargetedClassification\n",
            "  (transformation):  CompositeTransformation(\n",
            "    (0): WordSwapRandomCharacterInsertion(\n",
            "        (random_one):  True\n",
            "      )\n",
            "    (1): WordSwapRandomCharacterDeletion(\n",
            "        (random_one):  True\n",
            "      )\n",
            "    (2): WordSwapNeighboringCharacterSwap(\n",
            "        (random_one):  True\n",
            "      )\n",
            "    (3): WordSwapHomoglyphSwap\n",
            "    (4): WordSwapEmbedding(\n",
            "        (max_candidates):  5\n",
            "        (embedding):  WordEmbedding\n",
            "      )\n",
            "    )\n",
            "  (constraints): \n",
            "    (0): UniversalSentenceEncoder(\n",
            "        (metric):  angular\n",
            "        (threshold):  0.8\n",
            "        (window_size):  inf\n",
            "        (skip_text_shorter_than_window):  False\n",
            "        (compare_against_original):  True\n",
            "      )\n",
            "    (1): RepeatModification\n",
            "    (2): StopwordModification\n",
            "  (is_black_box):  True\n",
            ")\n"
          ],
          "name": "stdout"
        }
      ]
    },
    {
      "cell_type": "code",
      "metadata": {
        "id": "FhK7my9wFTcj",
        "colab": {
          "base_uri": "https://localhost:8080/",
          "height": 1000
        },
        "outputId": "259bbc00-41d5-4a28-aa7e-cc74945ed307"
      },
      "source": [
        "printexample(attack)"
      ],
      "execution_count": 14,
      "outputs": [
        {
          "output_type": "stream",
          "text": [
            "\r  0%|          | 0/25 [00:00<?, ?it/s]"
          ],
          "name": "stderr"
        },
        {
          "output_type": "stream",
          "text": [
            "Attack(\n",
            "  (search_method): GreedyWordSwapWIR(\n",
            "    (wir_method):  delete\n",
            "  )\n",
            "  (goal_function):  UntargetedClassification\n",
            "  (transformation):  CompositeTransformation(\n",
            "    (0): WordSwapRandomCharacterInsertion(\n",
            "        (random_one):  True\n",
            "      )\n",
            "    (1): WordSwapRandomCharacterDeletion(\n",
            "        (random_one):  True\n",
            "      )\n",
            "    (2): WordSwapNeighboringCharacterSwap(\n",
            "        (random_one):  True\n",
            "      )\n",
            "    (3): WordSwapHomoglyphSwap\n",
            "    (4): WordSwapEmbedding(\n",
            "        (max_candidates):  5\n",
            "        (embedding):  WordEmbedding\n",
            "      )\n",
            "    )\n",
            "  (constraints): \n",
            "    (0): UniversalSentenceEncoder(\n",
            "        (metric):  angular\n",
            "        (threshold):  0.8\n",
            "        (window_size):  inf\n",
            "        (skip_text_shorter_than_window):  False\n",
            "        (compare_against_original):  True\n",
            "      )\n",
            "    (1): RepeatModification\n",
            "    (2): StopwordModification\n",
            "  (is_black_box):  True\n",
            ")\n"
          ],
          "name": "stdout"
        },
        {
          "output_type": "display_data",
          "data": {
            "text/html": [
              "<font color = green>Positive (100%)</font> --> <font color = red>Negative (53%)</font><br><font color = green>I</font> went and <font color = green>saw</font> this movie last night after being coaxed to by a few friends of mine. I'll admit that I was reluctant to see it because from what I knew of <font color = green>Ashton</font> Kutcher he was only able to do <font color = green>comedy</font>. I was wrong. Kutcher played the character of Jake <font color = green>Fischer</font> very well, and Kevin Costner <font color = green>played</font> Ben Randall with such professionalism. The sign of a <font color = green>good</font> movie is that it can toy with our <font color = green>emotions</font>. <font color = green>This</font> <font color = green>one</font> did exactly that. <font color = green>The</font> entire <font color = green>theater</font> (which was sold out) was <font color = green>overcome</font> by laughter during the first half of the movie, and were moved to <font color = green>tears</font> during the second half. While exiting the theater I not only <font color = green>saw</font> many women in tears, but many full grown men as well, trying desperately not to let anyone see them crying. This movie was great, and I suggest that you go see it before you <font color = green>judge</font>.<br><font color = red>l</font> went and <font color = red>saԝ</font> this movie last night after being coaxed to by a few friends of mine. I'll admit that I was reluctant to see it because from what I knew of <font color = red>Aston</font> Kutcher he was only able to do <font color = red>charade</font>. I was wrong. Kutcher played the character of Jake <font color = red>Fisherman</font> very well, and Kevin Costner <font color = red>been</font> Ben Randall with such professionalism. The sign of a <font color = red>goоd</font> movie is that it can toy with our <font color = red>emtions</font>. <font color = red>Tհis</font> <font color = red>someone</font> did exactly that. <font color = red>Per</font> entire <font color = red>theateⲅ</font> (which was sold out) was <font color = red>defeat</font> by laughter during the first half of the movie, and were moved to <font color = red>rip</font> during the second half. While exiting the theater I not only <font color = red>observed</font> many women in tears, but many full grown men as well, trying desperately not to let anyone see them crying. This movie was great, and I suggest that you go see it before you <font color = red>jugde</font>."
            ],
            "text/plain": [
              "<IPython.core.display.HTML object>"
            ]
          },
          "metadata": {
            "tags": []
          }
        },
        {
          "output_type": "stream",
          "text": [
            "[Succeeded / Failed / Total] 1 / 0 / 1:   4%|▍         | 1/25 [00:10<04:01, 10.05s/it]"
          ],
          "name": "stderr"
        },
        {
          "output_type": "display_data",
          "data": {
            "text/html": [
              "<font color = green>Positive (100%)</font> --> <font color = red>Negative (81%)</font><br>Actor turned director Bill Paxton follows up his promising debut, the Gothic-horror \"Frailty\", with this family friendly sports drama about the 1913 U.S. Open where a young American caddy rises from his humble background to play against his Bristish idol in what was dubbed as \"The Greatest Game Ever Played.\" I'm no fan of golf, and these scrappy <font color = green>underdog</font> sports flicks are a dime a dozen (most recently done to grand effect with \"Miracle\" and \"Cinderella Man\"), but some how this film was enthralling all the same.<br /><br />The film starts with some creative opening credits (imagine a Disneyfied version of the animated opening credits of HBO's \"Carnivale\" and \"Rome\"), but lumbers along slowly for its first by-the-numbers hour. Once the action moves to the U.S. Open things pick up very well. Paxton does a nice <font color = green>job</font> and shows a knack for effective directorial flourishes (I loved the rain-soaked montage of the action on day two of the <font color = green>open</font>) that propel the plot further or add some unexpected psychological depth to the proceedings. There's some compelling character development when the British Harry Vardon is haunted by images of the aristocrats in black suits and top hats who destroyed his family cottage as a child to make way for a golf course. He also does a good job of visually depicting what goes on in the players' heads under pressure. Golf, a painfully boring sport, is brought vividly alive here. Credit should also be given the set designers and costume department for creating an engaging period-piece atmosphere of London and Boston at the beginning of the twentieth century.<br /><br />You know how this is going to end not only because it's based on a true story but also because films in this genre follow the same template over and over, but Paxton puts on a better than average show and perhaps indicates more talent behind the camera than he ever had in front of it. Despite the formulaic nature, this is a nice and easy film to root for that deserves to find an audience.<br>Actor turned director Bill Paxton follows up his promising debut, the Gothic-horror \"Frailty\", with this family friendly sports drama about the 1913 U.S. Open where a young American caddy rises from his humble background to play against his Bristish idol in what was dubbed as \"The Greatest Game Ever Played.\" I'm no fan of golf, and these scrappy <font color = red>oppressed</font> sports flicks are a dime a dozen (most recently done to grand effect with \"Miracle\" and \"Cinderella Man\"), but some how this film was enthralling all the same.<br /><br />The film starts with some creative opening credits (imagine a Disneyfied version of the animated opening credits of HBO's \"Carnivale\" and \"Rome\"), but lumbers along slowly for its first by-the-numbers hour. Once the action moves to the U.S. Open things pick up very well. Paxton does a nice <font color = red>j</font> <font color = red>ob</font> and shows a knack for effective directorial flourishes (I loved the rain-soaked montage of the action on day two of the <font color = red>opn</font>) that propel the plot further or add some unexpected psychological depth to the proceedings. There's some compelling character development when the British Harry Vardon is haunted by images of the aristocrats in black suits and top hats who destroyed his family cottage as a child to make way for a golf course. He also does a good job of visually depicting what goes on in the players' heads under pressure. Golf, a painfully boring sport, is brought vividly alive here. Credit should also be given the set designers and costume department for creating an engaging period-piece atmosphere of London and Boston at the beginning of the twentieth century.<br /><br />You know how this is going to end not only because it's based on a true story but also because films in this genre follow the same template over and over, but Paxton puts on a better than average show and perhaps indicates more talent behind the camera than he ever had in front of it. Despite the formulaic nature, this is a nice and easy film to root for that deserves to find an audience."
            ],
            "text/plain": [
              "<IPython.core.display.HTML object>"
            ]
          },
          "metadata": {
            "tags": []
          }
        },
        {
          "output_type": "stream",
          "text": [
            "[Succeeded / Failed / Total] 2 / 0 / 2:   8%|▊         | 2/25 [00:17<03:26,  8.97s/it]"
          ],
          "name": "stderr"
        },
        {
          "output_type": "display_data",
          "data": {
            "text/html": [
              "<font color = green>Positive (100%)</font> --> <font color = red>Negative (72%)</font><br>As a recreational <font color = green>golfer</font> with some knowledge of the sport's history, <font color = green>I</font> was pleased with Disney's sensitivity to the issues of class in golf in the early twentieth century. The <font color = green>movie</font> depicted <font color = green>well</font> the <font color = green>psychological</font> battles that Harry Vardon fought within himself, from his childhood trauma of being evicted to his own inability to break that glass ceiling that prevents him from being accepted as an equal in English golf society. Likewise, the young Ouimet goes through his own class <font color = green>struggles</font>, being a mere caddie in the eyes of the upper crust Americans who scoff at his attempts to rise above his standing. <br /><br />What I loved best, however, is how this <font color = green>theme</font> of class is <font color = green>manifested</font> in the characters of Ouimet's <font color = green>parents</font>. His father is a working-class drone who sees the value of hard work but is intimidated by the upper class; his mother, <font color = green>however</font>, recognizes her son's talent and <font color = green>desire</font> and encourages him to <font color = green>pursue</font> his <font color = green>dream</font> of <font color = green>competing</font> against those who think he is inferior.<<font color = green>br</font> /><<font color = green>br</font> /><font color = green>Finally</font>, the <font color = green>golf</font> <font color = green>scenes</font> are well photographed. <font color = green>Although</font> the course used in the movie was not the actual site of the historical tournament, the little liberties taken by Disney do not <font color = green>detract</font> from the <font color = green>beauty</font> of the film. There's one little Disney moment at the pool table; otherwise, the viewer does not really think Disney. The ending, as in \"Miracle,\" is not some Disney creation, but one that only human history could have written.<br>As a recreational <font color = red>golfeⲅ</font> with some knowledge of the sport's history, <font color = red>ich</font> was pleased with Disney's sensitivity to the issues of class in golf in the early twentieth century. The <font color = red>cinema</font> depicted <font color = red>wеll</font> the <font color = red>psychiatric</font> battles that Harry Vardon fought within himself, from his childhood trauma of being evicted to his own inability to break that glass ceiling that prevents him from being accepted as an equal in English golf society. Likewise, the young Ouimet goes through his own class <font color = red>struggleѕ</font>, being a mere caddie in the eyes of the upper crust Americans who scoff at his attempts to rise above his standing. <br /><br />What I loved best, however, is how this <font color = red>tehme</font> of class is <font color = red>manifseted</font> in the characters of Ouimet's <font color = red>parеnts</font>. His father is a working-class drone who sees the value of hard work but is intimidated by the upper class; his mother, <font color = red>howeveⲅ</font>, recognizes her son's talent and <font color = red>willingness</font> and encourages him to <font color = red>pursuing</font> his <font color = red>dreaｍ</font> of <font color = red>compe𝚝ing</font> against those who think he is inferior.<<font color = red>brit</font> /><<font color = red>bⲅ</font> /><font color = red>Eventually</font>, the <font color = red>gulf</font> <font color = red>picture</font> are well photographed. <font color = red>Though</font> the course used in the movie was not the actual site of the historical tournament, the little liberties taken by Disney do not <font color = red>detra</font> <font color = red>ct</font> from the <font color = red>hotness</font> of the film. There's one little Disney moment at the pool table; otherwise, the viewer does not really think Disney. The ending, as in \"Miracle,\" is not some Disney creation, but one that only human history could have written."
            ],
            "text/plain": [
              "<IPython.core.display.HTML object>"
            ]
          },
          "metadata": {
            "tags": []
          }
        },
        {
          "output_type": "stream",
          "text": [
            "[Succeeded / Failed / Total] 3 / 0 / 3:  12%|█▏        | 3/25 [00:29<03:34,  9.73s/it]"
          ],
          "name": "stderr"
        },
        {
          "output_type": "display_data",
          "data": {
            "text/html": [
              "<font color = green>Positive (100%)</font> --> <font color = red>Negative (50%)</font><br>I saw this film in a sneak preview, and it is delightful. The cinematography is <font color = green>unusually</font> creative, the acting is good, and the <font color = green>story</font> is fabulous. If this movie does not do <font color = green>well</font>, it won't be because it doesn't deserve to. Before this film, I didn't realize how <font color = green>charming</font> Shia <font color = green>Lebouf</font> could be. He does a marvelous, self-contained, job as the lead. There's something incredibly sweet about him, and it makes the movie <font color = green>even</font> <font color = green>better</font>. The other actors do a <font color = green>good</font> job as <font color = green>well</font>, and the film contains moments of really <font color = green>high</font> <font color = green>suspense</font>, more than one might <font color = green>expect</font> from a <font color = green>movie</font> about golf. Sports <font color = green>movies</font> are a dime a dozen, but this <font color = green>one</font> <font color = green>stands</font> out. <br /><br /><font color = green>This</font> is <font color = green>one</font> <font color = green>I'd</font> recommend to anyone.<br>I saw this film in a sneak preview, and it is delightful. The cinematography is <font color = red>սnusually</font> creative, the acting is good, and the <font color = red>stoⲅy</font> is fabulous. If this movie does not do <font color = red>w</font> <font color = red>ell</font>, it won't be because it doesn't deserve to. Before this film, I didn't realize how <font color = red>chrming</font> Shia <font color = red>Lbouf</font> could be. He does a marvelous, self-contained, job as the lead. There's something incredibly sweet about him, and it makes the movie <font color = red>eveո</font> <font color = red>betteⲅ</font>. The other actors do a <font color = red>gоod</font> job as <font color = red>alright</font>, and the film contains moments of really <font color = red>higհ</font> <font color = red>wait</font>, more than one might <font color = red>expe</font> <font color = red>ct</font> from a <font color = red>mov</font> <font color = red>ie</font> about golf. Sports <font color = red>moves</font> are a dime a dozen, but this <font color = red>anyone</font> <font color = red>stɑnds</font> out. <br /><br /><font color = red>That</font> is <font color = red>оne</font> <font color = red>I`d</font> recommend to anyone."
            ],
            "text/plain": [
              "<IPython.core.display.HTML object>"
            ]
          },
          "metadata": {
            "tags": []
          }
        },
        {
          "output_type": "stream",
          "text": [
            "[Succeeded / Failed / Total] 4 / 0 / 4:  16%|█▌        | 4/25 [00:36<03:09,  9.00s/it]"
          ],
          "name": "stderr"
        },
        {
          "output_type": "display_data",
          "data": {
            "text/html": [
              "<font color = green>Positive (100%)</font> --> <font color = red>Negative (62%)</font><br><font color = green>Bill</font> <font color = green>Paxton</font> has taken the true story of the <font color = green>1913</font> <font color = green>US</font> <font color = green>golf</font> <font color = green>open</font> and <font color = green>made</font> a film that is about <font color = green>much</font> more than an extra-ordinary <font color = green>game</font> of <font color = green>golf</font>. <font color = green>The</font> <font color = green>film</font> <font color = green>also</font> <font color = green>deals</font> <font color = green>directly</font> with the class <font color = green>tensions</font> of the early <font color = green>twentieth</font> century and <font color = green>touches</font> upon the <font color = green>profound</font> anti-Catholic prejudices of both the British and <font color = green>American</font> <font color = green>establishments</font>. But at <font color = green>heart</font> the <font color = green>film</font> is about that perennial <font color = green>favourite</font> of <font color = green>triumph</font> against the <font color = green>odds</font>.<<font color = green>br</font> /><<font color = green>br</font> /><font color = green>The</font> acting is <font color = green>exemplary</font> throughout. Stephen Dillane is excellent as usual, but the <font color = green>revelation</font> of the movie is <font color = green>Shia</font> <font color = green>LaBoeuf</font> who delivers a disciplined, dignified and highly <font color = green>sympathetic</font> <font color = green>performance</font> as a <font color = green>working</font> <font color = green>class</font> <font color = green>Franco-Irish</font> <font color = green>kid</font> <font color = green>fighting</font> his <font color = green>way</font> through the prejudices of the <font color = green>New</font> <font color = green>England</font> <font color = green>WASP</font> <font color = green>establishment</font>. For those who are only <font color = green>familiar</font> with his <font color = green>slap-stick</font> <font color = green>performances</font> in \"Even <font color = green>Stevens</font>\" this <font color = green>demonstration</font> of his maturity is a <font color = green>delightful</font> surprise. <font color = green>And</font> <font color = green>Josh</font> Flitter as the <font color = green>ten</font> <font color = green>year</font> <font color = green>old</font> caddy <font color = green>threatens</font> to steal <font color = green>every</font> <font color = green>scene</font> in which he <font color = green>appears</font>.<<font color = green>br</font> /><<font color = green>br</font> /><font color = green>A</font> <font color = green>old</font> <font color = green>fashioned</font> <font color = green>movie</font> in the <font color = green>best</font> <font color = green>sense</font> of the <font color = green>word</font>: fine <font color = green>acting</font>, <font color = green>clear</font> directing and a great <font color = green>story</font> that <font color = green>grips</font> to the end - the <font color = green>final</font> <font color = green>scene</font> an <font color = green>affectionate</font> <font color = green>nod</font> to Casablanca is just one of the many pleasures that fill a great movie.<br><font color = red>Billing</font> <font color = red>Paxtоn</font> has taken the true story of the <font color = red>l913</font> <font color = red>OURS</font> <font color = red>gulf</font> <font color = red>opens</font> and <font color = red>introduced</font> a film that is about <font color = red>muϲh</font> more than an extra-ordinary <font color = red>gambling</font> of <font color = red>wan</font>. <font color = red>T</font> <font color = red>he</font> <font color = red>filmmaking</font> <font color = red>similarly</font> <font color = red>discusses</font> <font color = red>immediately</font> with the class <font color = red>strains</font> of the early <font color = red>eighteenth</font> century and <font color = red>toucheѕ</font> upon the <font color = red>gravely</font> anti-Catholic prejudices of both the British and <font color = red>Americana</font> <font color = red>institutes</font>. But at <font color = red>hart</font> the <font color = red>filｍ</font> is about that perennial <font color = red>favouri𝚝e</font> of <font color = red>triumpհ</font> against the <font color = red>scores</font>.<<font color = red>brit</font> /><<font color = red>brit</font> /><font color = red>Te</font> acting is <font color = red>best</font> throughout. Stephen Dillane is excellent as usual, but the <font color = red>disclosure</font> of the movie is <font color = red>Shi</font> <font color = red>LaBoeu𝚏</font> who delivers a disciplined, dignified and highly <font color = red>sympathetiϲ</font> <font color = red>pеrformance</font> as a <font color = red>worked</font> <font color = red>ϲlass</font> <font color = red>Fⲅanco-Irish</font> <font color = red>children</font> <font color = red>battles</font> his <font color = red>ԝay</font> through the prejudices of the <font color = red>Newest</font> <font color = red>Englanԁ</font> <font color = red>WASPS</font> <font color = red>establishmen𝚝</font>. For those who are only <font color = red>famіliar</font> with his <font color = red>slap-stic𝒌</font> <font color = red>concerts</font> in \"Even <font color = red>Roberts</font>\" this <font color = red>protest</font> of his maturity is a <font color = red>delight𝚏ul</font> surprise. <font color = red>F</font> <font color = red>Joshi</font> Flitter as the <font color = red>dozen</font> <font color = red>leto</font> <font color = red>elderly</font> caddy <font color = red>thrеatens</font> to steal <font color = red>e</font> <font color = red>very</font> <font color = red>scenario</font> in which he <font color = red>ɑppears</font>.<<font color = red>ab</font> /><<font color = red>eb</font> /><font color = red>another</font> <font color = red>ancient</font> <font color = red>modeled</font> <font color = red>cinema</font> in the <font color = red>finest</font> <font color = red>sensing</font> of the <font color = red>verbal</font>: fine <font color = red>actiոg</font>, <font color = red>unmistakable</font> directing and a great <font color = red>storytelling</font> that <font color = red>gripped</font> to the end - the <font color = red>ultimate</font> <font color = red>sene</font> an <font color = red>affectionatе</font> <font color = red>ida</font> to Casablanca is just one of the many pleasures that fill a great movie."
            ],
            "text/plain": [
              "<IPython.core.display.HTML object>"
            ]
          },
          "metadata": {
            "tags": []
          }
        },
        {
          "output_type": "stream",
          "text": [
            "[Succeeded / Failed / Total] 5 / 0 / 5:  20%|██        | 5/25 [01:03<04:13, 12.66s/it]"
          ],
          "name": "stderr"
        },
        {
          "output_type": "display_data",
          "data": {
            "text/html": [
              "<font color = green>Positive (100%)</font> --> <font color = red>Negative (94%)</font><br>I saw this film on September 1st, 2005 in Indianapolis. I am one of the judges for the Heartland Film Festival that screens films for their Truly Moving Picture Award. A Truly Moving Picture \"...explores the human journey by artistically expressing hope and respect for the positive values of life.\" Heartland gave that award to this film.<br /><br />This is a story of golf in the early part of the 20th century. At that time, it was the game of upper class and rich \"gentlemen\", and working people could only participate by being caddies at country clubs. With this backdrop, this <font color = green>based-on-a-true-story</font> unfolds with a young, working class boy who takes on the golf establishment and the greatest golfer in the world, Harry Vardon.<br /><br />And the story is <font color = green>inspirational</font>. Against all odds, Francis Ouimet (played by Shia LaBeouf of \"Holes\") gets to compete against the greatest golfers of the U.S. and Great Britain at the 1913 U.S. Open. Francis is ill-prepared, and has a child for a caddy. (The caddy is hilarious and motivational and steals every scene he appears in.) But despite these handicaps, Francis displays courage, spirit, heroism, and humility at this world class event.<br /><br />And, we learn a lot about the early years of golf; for example, the use of small wooden clubs, the layout of the short holes, the manual scoreboard, the golfers swinging with pipes in their mouths, the terrible conditions of the greens and fairways, and the play not being canceled even in torrential rain.<br /><br />This film has stunning cinematography and art direction and editing. And with no big movie stars, the story is somehow more believable.<br /><br />This adds to the inventory of great sports movies in the vein of \"Miracle\" and \"Remember the Titans.\"<br /><br />FYI - There is a Truly Moving Pictures web site where there is a listing of past winners going back 70 years.<br>I saw this film on September 1st, 2005 in Indianapolis. I am one of the judges for the Heartland Film Festival that screens films for their Truly Moving Picture Award. A Truly Moving Picture \"...explores the human journey by artistically expressing hope and respect for the positive values of life.\" Heartland gave that award to this film.<br /><br />This is a story of golf in the early part of the 20th century. At that time, it was the game of upper class and rich \"gentlemen\", and working people could only participate by being caddies at country clubs. With this backdrop, this <font color = red>based-no-a-true-story</font> unfolds with a young, working class boy who takes on the golf establishment and the greatest golfer in the world, Harry Vardon.<br /><br />And the story is <font color = red>in</font> <font color = red>spirational</font>. Against all odds, Francis Ouimet (played by Shia LaBeouf of \"Holes\") gets to compete against the greatest golfers of the U.S. and Great Britain at the 1913 U.S. Open. Francis is ill-prepared, and has a child for a caddy. (The caddy is hilarious and motivational and steals every scene he appears in.) But despite these handicaps, Francis displays courage, spirit, heroism, and humility at this world class event.<br /><br />And, we learn a lot about the early years of golf; for example, the use of small wooden clubs, the layout of the short holes, the manual scoreboard, the golfers swinging with pipes in their mouths, the terrible conditions of the greens and fairways, and the play not being canceled even in torrential rain.<br /><br />This film has stunning cinematography and art direction and editing. And with no big movie stars, the story is somehow more believable.<br /><br />This adds to the inventory of great sports movies in the vein of \"Miracle\" and \"Remember the Titans.\"<br /><br />FYI - There is a Truly Moving Pictures web site where there is a listing of past winners going back 70 years."
            ],
            "text/plain": [
              "<IPython.core.display.HTML object>"
            ]
          },
          "metadata": {
            "tags": []
          }
        },
        {
          "output_type": "stream",
          "text": [
            "[Succeeded / Failed / Total] 6 / 0 / 6:  24%|██▍       | 6/25 [01:10<03:43, 11.77s/it]"
          ],
          "name": "stderr"
        },
        {
          "output_type": "display_data",
          "data": {
            "text/html": [
              "<font color = red>Negative (99%)</font> --> <font color = gray>[SKIPPED]</font><br>Maybe I'm reading into this too much, but I wonder how much of a hand Hongsheng had in developing the film. I mean, when a story is told casting the main character as himself, I would think he would be a heavy hand in writing, documenting, etc. and that would make it a little biased.<br /><br />But...his family and friends also may have had a hand in getting the actual details about Hongsheng's life. I think the best view would have been told from Hongsheng's family and friends' perspectives. They saw his transformation and weren't so messed up on drugs that they remember everything.<br /><br />As for Hongsheng being full of himself, the consistencies of the Jesus Christ pose make him appear as a martyr who sacrificed his life (metaphorically, of course, he's obviously still alive as he was cast as himself) for his family's happiness. Huh?<br /><br />The viewer sees him at his lowest points while still maintaining a superiority complex. He lies on the grass coming down from (during?) a high by himself and with his father, he contemplates life and has visions of dragons at his window, he celebrates his freedom on a bicycle all while outstretching his arms, his head cocked to the side.<br /><br />It's fabulous that he's off of drugs now, but he's no hero. He went from a high point in his career in acting to his most vulnerable point while on drugs to come back somewhere in the middle.<br /><br />This same device is used in Ted Demme's \"Blow\" where the audience empathizes with the main character who is shown as a flawed hero.<br /><br />However, \"Quitting\" (\"Zuotian\") is a film that is recommended, mostly for its haunting soundtrack, superb acting, and landscapes. But, the best part is the feeling that one gets when what we presume to be the house of Jia Hongsheng is actually a stage setting for a play. It makes the viewer feel as if Hongsheng's life was merely a play told in many difficult parts."
            ],
            "text/plain": [
              "<IPython.core.display.HTML object>"
            ]
          },
          "metadata": {
            "tags": []
          }
        },
        {
          "output_type": "stream",
          "text": [
            "\r[Succeeded / Failed / Total] 6 / 0 / 7:  28%|██▊       | 7/25 [01:10<03:01, 10.09s/it]"
          ],
          "name": "stderr"
        },
        {
          "output_type": "display_data",
          "data": {
            "text/html": [
              "<font color = green>Positive (100%)</font> --> <font color = red>Negative (64%)</font><br>I felt this film did have many good qualities. The cinematography was certainly different exposing the stage aspect of the set and story. The original characters as actors was certainly an achievement and I felt most played quite convincingly, of course they are playing themselves, but <font color = green>definitely</font> <font color = green>unique</font>. The cultural aspects <font color = green>may</font> leave many disappointed as a familiarity with the Chinese and Oriental culture will answer a lot of questions regarding parent/child relationships and the stigma that goes with any drug use. I found the Jia Hongsheng story interesting. On a down note, the story is in Beijing and some of the fashion and music reek of early 90s even though this was made in 2001, so it's really cheesy sometimes (the Beatles crap, etc). Whatever, not a top ten or twenty but if it's on the television, check it out.<br>I felt this film did have many good qualities. The cinematography was certainly different exposing the stage aspect of the set and story. The original characters as actors was certainly an achievement and I felt most played quite convincingly, of course they are playing themselves, but <font color = red>defnitely</font> <font color = red>uniqսe</font>. The cultural aspects <font color = red>m</font> <font color = red>ay</font> leave many disappointed as a familiarity with the Chinese and Oriental culture will answer a lot of questions regarding parent/child relationships and the stigma that goes with any drug use. I found the Jia Hongsheng story interesting. On a down note, the story is in Beijing and some of the fashion and music reek of early 90s even though this was made in 2001, so it's really cheesy sometimes (the Beatles crap, etc). Whatever, not a top ten or twenty but if it's on the television, check it out."
            ],
            "text/plain": [
              "<IPython.core.display.HTML object>"
            ]
          },
          "metadata": {
            "tags": []
          }
        },
        {
          "output_type": "stream",
          "text": [
            "[Succeeded / Failed / Total] 7 / 0 / 8:  32%|███▏      | 8/25 [01:27<03:06, 10.94s/it]"
          ],
          "name": "stderr"
        },
        {
          "output_type": "display_data",
          "data": {
            "text/html": [
              "<font color = green>Positive (100%)</font> --> <font color = red>[FAILED]</font><br>This movie is amazing because the fact that the real people portray themselves and their real life experience and do such a good job it's like they're almost living the past over again. Jia Hongsheng plays himself an actor who quit everything except music and drugs struggling with depression and searching for the meaning of life while being angry at everyone especially the people who care for him most. There's moments in the movie that will make you wanna cry because the family especially the father did such a good job. However, this movie is not for everyone. Many people who suffer from depression will understand Hongsheng's problem and why he does the things he does for example keep himself shut in a dark room or go for walks or bike rides by himself. Others might see the movie as boring because it's just so real that its almost like a documentary. Overall this movie is great and Hongsheng deserved an Oscar for this movie so did his Dad."
            ],
            "text/plain": [
              "<IPython.core.display.HTML object>"
            ]
          },
          "metadata": {
            "tags": []
          }
        },
        {
          "output_type": "stream",
          "text": [
            "[Succeeded / Failed / Total] 7 / 1 / 9:  36%|███▌      | 9/25 [01:35<02:49, 10.57s/it]"
          ],
          "name": "stderr"
        },
        {
          "output_type": "display_data",
          "data": {
            "text/html": [
              "<font color = green>Positive (100%)</font> --> <font color = red>Negative (54%)</font><br>\"Quitting\" may be as much about exiting a pre-ordained identity as about drug withdrawal. As a rural guy coming to Beijing, class and success must have struck this young artist face on as an appeal to separate from his roots and far surpass his peasant parents' acting success. <font color = green>Troubles</font> arise, however, when the new man is too new, when it demands too big a departure from family, history, nature, and personal identity. The ensuing splits, and confusion between the imaginary and the real and the dissonance between the ordinary and the heroic are the stuff of a gut check on the one hand or a complete <font color = green>escape</font> from self on the other. Hongshen slips into the latter and his long and lonely road back to self can be grim.<br /><br />But what an exceptionally convincing particularity, honesty, and sensuousness director Zhang Yang, and his actors, bring to this <font color = green>journey</font>. <font color = green>No</font> <font color = green>clichés</font>, no stereotypes, no rigid gender roles, no requisite sex, romance or violence scenes, no requisite street language and, to boot, no assumed money to float character acts and whims. <br /><br /><font color = green>Hongshen</font> Jia is in his mid-twenties. He's a talented actor, impressionable, vain, idealistic, and perhaps emotionally starved. The perfect recipe for his enablers. Soon he's the \"cool\" actor, idolized by youth. \"He was hot in the early nineties.\" \"He always had to be the most fashionable.\" He needs extremes, and goes in for heavy metal, adopts earrings and a scarf. His acting means the arts, friends--and roles, But not the kind that offer any personal challenge or input. And his self-criticism, dulled by the immediacy of success, opens the doors to an irrational self-doubt, self-hatred-- \"I didn't know how to act\" \"I felt like a phony\"--and to readily available drugs to counter them. He says \"I had to get high to do what director wanted.\" So, his shallow identity as an actor becomes, via drugs, an escape from identity. <br /><br />Hongshen's disengagement from drugs and his false life is very gradual, intermittent--and doggedly his own. Solitude, space, meditative thinking, speech refusal, replace therapy. The abstract is out. And a great deal of his change occurs outdoors---not in idealized locations but mainly on green patches under the freeways, bridges, and high-rises of Beijing. The physicality is almost romantic, but is not. The bike rides to Ritan Park, the long spontaneous walks, the drenching sun and rain, grassy picnics, the sky patterns and kites that absorb his musing are very specific. He drifts in order to arrive, all the while picking up cues to a more real and realistic identity. \"I started to open up\" he says of this period in retrospect. And the contact seems to start with his lanky body which projects a kind of dancer's positioning (clumsy, graceful, humorous, telling) in a current circumstance. If mind or spirit is lacking, his legs can compel him to walk all night. <br /><br />Central to his comeback is the rejection of set roles. To punctuate his end to acting and his determination to a new identity, he smashes his videos and TV, and bangs his head till bloody against his \"John Lennon Forever\" poster. He has let down his iconic anti-establishment artist---but he's the only viable guide he knows. He even imagines himself as John's son (Yoko Ono), and adopts his \"Mother Mary\" as an intercessor in his \"hour of darkness\" and \"time of trouble.\" (the wrenching, shaking pain in the park--hallucinatory and skitzoid ordeals) \"Music is so much more real than acting\" he says. And speaks of Lennon's influence as \"showing me a new way.\" In the mental institute, the life-saving apples (resistance, nourishment) reflect Lennon's presence, as does Hongshen's need to re-hang his hero's poster in his redecorated room.<br /><br />If Lennon's influence is spiriting, Hongshen's father's influence is grounding. Although father and son are both actors and users (drugs and drink), it is Fegsen's differences from his son that underwrites his change. For the father is more secure in himself: he accepts that he's Chinese, a peasant in a line of peasants, a rural theater director. And he exercises control over both his habit and his emotions. It's this recognizable identity that drives Hongshen to treat him like a sounding board, sometimes with anger and rage, sometimes with humor (the blue jeans, Beatles) and passivity. In his most crazed, and violent exchange with his father in which he accuses him of being a liar, and a fake, he exposes more of himself than his father: \"all the acts I acted before were bullshit... life is bullshit.\" And to Hongshen's emphatic \"you are NOT my father,\" he softly replies, \"why can't a peasant be your father?\" <br /><br />Under these two teachers and with much additional help from his mother, sister, friends, inmates at the rehab inst., he makes some tangible connection to a real (not whole) self. As the long term drug effects recede, so does his old identity. Indebtedness replaces pride, trust distrust. Integrity banishes his black cloud. All his edges soften. \"You are just a human being\" he repeats endlessly after being released from the strap-down incurred for refusing medicine. Back home, lard peasant soap is fine with him now. And his once \"rare and true friendships\" begin again as is so evident in the back to poignant back-to-back fence scene with his musician buddy. Hongshen says of this movie: \"it's a good chance to think about my life.\" And I might add, become a New Actor, one bound to art and life. Like Lennon, he has gained success without a loss of identity.<br>\"Quitting\" may be as much about exiting a pre-ordained identity as about drug withdrawal. As a rural guy coming to Beijing, class and success must have struck this young artist face on as an appeal to separate from his roots and far surpass his peasant parents' acting success. <font color = red>Troubleѕ</font> arise, however, when the new man is too new, when it demands too big a departure from family, history, nature, and personal identity. The ensuing splits, and confusion between the imaginary and the real and the dissonance between the ordinary and the heroic are the stuff of a gut check on the one hand or a complete <font color = red>escapе</font> from self on the other. Hongshen slips into the latter and his long and lonely road back to self can be grim.<br /><br />But what an exceptionally convincing particularity, honesty, and sensuousness director Zhang Yang, and his actors, bring to this <font color = red>juorney</font>. <font color = red>Nope</font> <font color = red>clic</font> <font color = red>hés</font>, no stereotypes, no rigid gender roles, no requisite sex, romance or violence scenes, no requisite street language and, to boot, no assumed money to float character acts and whims. <br /><br /><font color = red>Hongѕhen</font> Jia is in his mid-twenties. He's a talented actor, impressionable, vain, idealistic, and perhaps emotionally starved. The perfect recipe for his enablers. Soon he's the \"cool\" actor, idolized by youth. \"He was hot in the early nineties.\" \"He always had to be the most fashionable.\" He needs extremes, and goes in for heavy metal, adopts earrings and a scarf. His acting means the arts, friends--and roles, But not the kind that offer any personal challenge or input. And his self-criticism, dulled by the immediacy of success, opens the doors to an irrational self-doubt, self-hatred-- \"I didn't know how to act\" \"I felt like a phony\"--and to readily available drugs to counter them. He says \"I had to get high to do what director wanted.\" So, his shallow identity as an actor becomes, via drugs, an escape from identity. <br /><br />Hongshen's disengagement from drugs and his false life is very gradual, intermittent--and doggedly his own. Solitude, space, meditative thinking, speech refusal, replace therapy. The abstract is out. And a great deal of his change occurs outdoors---not in idealized locations but mainly on green patches under the freeways, bridges, and high-rises of Beijing. The physicality is almost romantic, but is not. The bike rides to Ritan Park, the long spontaneous walks, the drenching sun and rain, grassy picnics, the sky patterns and kites that absorb his musing are very specific. He drifts in order to arrive, all the while picking up cues to a more real and realistic identity. \"I started to open up\" he says of this period in retrospect. And the contact seems to start with his lanky body which projects a kind of dancer's positioning (clumsy, graceful, humorous, telling) in a current circumstance. If mind or spirit is lacking, his legs can compel him to walk all night. <br /><br />Central to his comeback is the rejection of set roles. To punctuate his end to acting and his determination to a new identity, he smashes his videos and TV, and bangs his head till bloody against his \"John Lennon Forever\" poster. He has let down his iconic anti-establishment artist---but he's the only viable guide he knows. He even imagines himself as John's son (Yoko Ono), and adopts his \"Mother Mary\" as an intercessor in his \"hour of darkness\" and \"time of trouble.\" (the wrenching, shaking pain in the park--hallucinatory and skitzoid ordeals) \"Music is so much more real than acting\" he says. And speaks of Lennon's influence as \"showing me a new way.\" In the mental institute, the life-saving apples (resistance, nourishment) reflect Lennon's presence, as does Hongshen's need to re-hang his hero's poster in his redecorated room.<br /><br />If Lennon's influence is spiriting, Hongshen's father's influence is grounding. Although father and son are both actors and users (drugs and drink), it is Fegsen's differences from his son that underwrites his change. For the father is more secure in himself: he accepts that he's Chinese, a peasant in a line of peasants, a rural theater director. And he exercises control over both his habit and his emotions. It's this recognizable identity that drives Hongshen to treat him like a sounding board, sometimes with anger and rage, sometimes with humor (the blue jeans, Beatles) and passivity. In his most crazed, and violent exchange with his father in which he accuses him of being a liar, and a fake, he exposes more of himself than his father: \"all the acts I acted before were bullshit... life is bullshit.\" And to Hongshen's emphatic \"you are NOT my father,\" he softly replies, \"why can't a peasant be your father?\" <br /><br />Under these two teachers and with much additional help from his mother, sister, friends, inmates at the rehab inst., he makes some tangible connection to a real (not whole) self. As the long term drug effects recede, so does his old identity. Indebtedness replaces pride, trust distrust. Integrity banishes his black cloud. All his edges soften. \"You are just a human being\" he repeats endlessly after being released from the strap-down incurred for refusing medicine. Back home, lard peasant soap is fine with him now. And his once \"rare and true friendships\" begin again as is so evident in the back to poignant back-to-back fence scene with his musician buddy. Hongshen says of this movie: \"it's a good chance to think about my life.\" And I might add, become a New Actor, one bound to art and life. Like Lennon, he has gained success without a loss of identity."
            ],
            "text/plain": [
              "<IPython.core.display.HTML object>"
            ]
          },
          "metadata": {
            "tags": []
          }
        },
        {
          "output_type": "stream",
          "text": [
            "[Succeeded / Failed / Total] 8 / 1 / 10:  40%|████      | 10/25 [02:02<03:03, 12.21s/it]"
          ],
          "name": "stderr"
        },
        {
          "output_type": "display_data",
          "data": {
            "text/html": [
              "<font color = green>Positive (100%)</font> --> <font color = red>Negative (59%)</font><br>I loved this movie from beginning to <font color = green>end</font>.<font color = green>I</font> am a <font color = green>musician</font> and i <font color = green>let</font> <font color = green>drugs</font> <font color = green>get</font> in the <font color = green>way</font> of my some of the things i <font color = green>used</font> to <font color = green>love</font>(skateboarding,<font color = green>drawing</font>) but my friends were always there for me.Music was like my <font color = green>rehab</font>,<font color = green>life</font> support,and my <font color = green>drug</font>.<font color = green>It</font> <font color = green>changed</font> my life.I can totally relate to this movie and i wish there was more i <font color = green>could</font> say.This movie left me speechless to be honest.I just saw it on the Ifc channel.I usually hate having satellite but this was a perk of having satellite.<font color = green>The</font> ifc channel shows some really great movies and without it I <font color = green>never</font> <font color = green>would</font> have found this movie.Im not a <font color = green>big</font> <font color = green>fan</font> of the international films because i <font color = green>find</font> that a lot of the don't do a very <font color = green>good</font> <font color = green>job</font> on translating <font color = green>lines</font>.I mean the <font color = green>obvious</font> language barrier leaves you to just believe thats what they are saying but its not that big of a <font color = green>deal</font> i guess.I almost <font color = green>never</font> got to see this <font color = green>AMAZING</font> movie.<font color = green>Good</font> thing i <font color = green>stayed</font> up for it <font color = green>instead</font> of going to <font color = green>bed</font>..<font color = green>well</font> <font color = green>earlier</font> than <font color = green>usual</font>.lol.I hope you all <font color = green>enjoy</font> the <font color = green>hell</font> of this movie and Love this movie just as much as i did.I wish i could type this all in caps but its again the rules i guess thats shouting but it would really show my excitement for the film.I Give It Three Thumbs Way Up!<br /><br />This Movie Blew ME AWAY!<br>I loved this movie from beginning to <font color = red>enԁ</font>.<font color = red>ich</font> am a <font color = red>musiϲian</font> and i <font color = red>leave</font> <font color = red>druɡs</font> <font color = red>got</font> in the <font color = red>manner</font> of my some of the things i <font color = red>usage</font> to <font color = red>loѵe</font>(skateboarding,<font color = red>attract</font>) but my friends were always there for me.Music was like my <font color = red>ⲅehab</font>,<font color = red>vida</font> support,and my <font color = red>dⲅug</font>.<font color = red>Ec</font> <font color = red>altered</font> my life.I can totally relate to this movie and i wish there was more i <font color = red>do</font> say.This movie left me speechless to be honest.I just saw it on the Ifc channel.I usually hate having satellite but this was a perk of having satellite.<font color = red>Te</font> ifc channel shows some really great movies and without it I <font color = red>neveⲅ</font> <font color = red>ought</font> have found this movie.Im not a <font color = red>vast</font> <font color = red>ventilator</font> of the international films because i <font color = red>unearth</font> that a lot of the don't do a very <font color = red>gooԁ</font> <font color = red>labor</font> on translating <font color = red>rows</font>.I mean the <font color = red>obviouѕ</font> language barrier leaves you to just believe thats what they are saying but its not that big of a <font color = red>address</font> i guess.I almost <font color = red>neveⲅ</font> got to see this <font color = red>AAZING</font> movie.<font color = red>Well</font> thing i <font color = red>stayеd</font> up for it <font color = red>however</font> of going to <font color = red>beԁ</font>..<font color = red>alright</font> <font color = red>previous</font> than <font color = red>customary</font>.lol.I hope you all <font color = red>enoy</font> the <font color = red>helⅼ</font> of this movie and Love this movie just as much as i did.I wish i could type this all in caps but its again the rules i guess thats shouting but it would really show my excitement for the film.I Give It Three Thumbs Way Up!<br /><br />This Movie Blew ME AWAY!"
            ],
            "text/plain": [
              "<IPython.core.display.HTML object>"
            ]
          },
          "metadata": {
            "tags": []
          }
        },
        {
          "output_type": "stream",
          "text": [
            "[Succeeded / Failed / Total] 9 / 1 / 11:  44%|████▍     | 11/25 [02:17<02:54, 12.48s/it]"
          ],
          "name": "stderr"
        },
        {
          "output_type": "display_data",
          "data": {
            "text/html": [
              "<font color = green>Positive (100%)</font> --> <font color = red>Negative (53%)</font><br>I was fortunate to attend the London premier of this film. While I am not at all a fan of British drama, I did find myself deeply moved by the characters and the BAD <font color = green>CHOICES</font> they made. I was in <font color = green>tears</font> by the <font color = green>end</font> of the film. Every scene was mesmerizing. The attention to detail and the excellent acting was quite impressive.<br /><br />I would have to agree with some of the other <font color = green>comments</font> here which question why all these women were throwing themselves at such a despicable character.<br /><br />*******SPOLIER ALERT******** I was also hoping that Dylan would have been killed by William when he had the chance! ****END SPOILER*****<br /><br />Keira Knightley did a great job and radiate beauty and innocence from the screen, but it was Sienna Miller's performance that was truly Oscar worthy.<br /><br />I am sure this production will be nominated for other awards.<br>I was fortunate to attend the London premier of this film. While I am not at all a fan of British drama, I did find myself deeply moved by the characters and the BAD <font color = red>CHOSE</font> they made. I was in <font color = red>crying</font> by the <font color = red>еnd</font> of the film. Every scene was mesmerizing. The attention to detail and the excellent acting was quite impressive.<br /><br />I would have to agree with some of the other <font color = red>cmoments</font> here which question why all these women were throwing themselves at such a despicable character.<br /><br />*******SPOLIER ALERT******** I was also hoping that Dylan would have been killed by William when he had the chance! ****END SPOILER*****<br /><br />Keira Knightley did a great job and radiate beauty and innocence from the screen, but it was Sienna Miller's performance that was truly Oscar worthy.<br /><br />I am sure this production will be nominated for other awards."
            ],
            "text/plain": [
              "<IPython.core.display.HTML object>"
            ]
          },
          "metadata": {
            "tags": []
          }
        },
        {
          "output_type": "stream",
          "text": [
            "[Succeeded / Failed / Total] 10 / 1 / 12:  48%|████▊     | 12/25 [02:20<02:32, 11.75s/it]"
          ],
          "name": "stderr"
        },
        {
          "output_type": "display_data",
          "data": {
            "text/html": [
              "<font color = green>Positive (100%)</font> --> <font color = red>Negative (62%)</font><br>I first saw this movie on IFC. Which is a great <font color = green>network</font> by the way to see underground films. I watched this movie and was thinking it was going to be pure drama and a story line that doesn't hold water. <font color = green>But</font> it really was a worth while <font color = green>watch</font>. The main character is in such rough <font color = green>shape</font>, and you hate to see him deny help, but no matter what you just can't hate him. His devotion to The Beatles and John <font color = green>Lennon</font> is a great metaphor for his <font color = green>life</font> and the helplessness he feels. <br /><br />The atmosphere of the film is also great. <font color = green>At</font> times, you <font color = green>feel</font> like you can see what he sees, <font color = green>feel</font> what he feels in some situations. This movie does not leave you wanting to <font color = green>know</font> more, or disliking a loophole in the plot. There are NO loopholes (in my <font color = green>opinion</font>). I have always been a fan of foreign films, especially now with <font color = green>movies</font> being made so poorly in <font color = green>America</font>. <font color = green>I</font> really enjoy the <font color = green>foreign</font> <font color = green>settings</font> because <font color = green>I</font> feel it can <font color = green>take</font> you on a trip, and <font color = green>sometimes</font> understand a different <font color = green>culture</font>. This <font color = green>movie</font> did all those things to me and more. <font color = green>Please</font> <font color = green>watch</font> this movie and if you're new to foreign films, this is a great start.<br>I first saw this movie on IFC. Which is a great <font color = red>networking</font> by the way to see underground films. I watched this movie and was thinking it was going to be pure drama and a story line that doesn't hold water. <font color = red>Bսt</font> it really was a worth while <font color = red>monitors</font>. The main character is in such rough <font color = red>sհape</font>, and you hate to see him deny help, but no matter what you just can't hate him. His devotion to The Beatles and John <font color = red>Jagger</font> is a great metaphor for his <font color = red>lfie</font> and the helplessness he feels. <br /><br />The atmosphere of the film is also great. <font color = red>During</font> times, you <font color = red>sense</font> like you can see what he sees, <font color = red>believe</font> what he feels in some situations. This movie does not leave you wanting to <font color = red>knoԝ</font> more, or disliking a loophole in the plot. There are NO loopholes (in my <font color = red>oрinion</font>). I have always been a fan of foreign films, especially now with <font color = red>movie</font> being made so poorly in <font color = red>Ameriϲa</font>. <font color = red>l</font> really enjoy the <font color = red>alien</font> <font color = red>configured</font> because <font color = red>j</font> feel it can <font color = red>tɑke</font> you on a trip, and <font color = red>sometimeѕ</font> understand a different <font color = red>cutlure</font>. This <font color = red>mоvie</font> did all those things to me and more. <font color = red>Inviting</font> <font color = red>surveillance</font> this movie and if you're new to foreign films, this is a great start."
            ],
            "text/plain": [
              "<IPython.core.display.HTML object>"
            ]
          },
          "metadata": {
            "tags": []
          }
        },
        {
          "output_type": "stream",
          "text": [
            "[Succeeded / Failed / Total] 11 / 1 / 13:  52%|█████▏    | 13/25 [02:30<02:19, 11.60s/it]"
          ],
          "name": "stderr"
        },
        {
          "output_type": "display_data",
          "data": {
            "text/html": [
              "<font color = green>Positive (100%)</font> --> <font color = red>Negative (59%)</font><br><font color = green>I</font> must say, <font color = green>every</font> time I see this <font color = green>movie</font>, I am <font color = green>deeply</font> <font color = green>touched</font>, not only by the most <font color = green>painful</font> four years of Hongsheng's <font color = green>life</font>, but <font color = green>also</font> by how his family <font color = green>deals</font> with his <font color = green>drug</font> <font color = green>addiction</font>. It is also true that getting addicted to anything, such as <font color = green>drugs</font>, <font color = green>alcohol</font>, or pornography, cannot only <font color = green>hurt</font> you, but also <font color = green>hurt</font> your most <font color = green>important</font> <font color = green>people</font> in the world: your family. <font color = green>Since</font> <font color = green>family</font> is the #<font color = green>1</font> priority in the <font color = green>Asian</font> culture, it <font color = green>takes</font> guts for the <font color = green>circle</font> to gather <font color = green>together</font> and show <font color = green>one</font> <font color = green>person</font> how much the family <font color = green>loves</font> him/her. this is <font color = green>actually</font> the first Chinese movie that I <font color = green>actually</font> enjoy, not for the <font color = green>fun</font> of it, but the <font color = green>elements</font> <font color = green>surrounding</font> it (<font color = green>superb</font> acting, touching story, <font color = green>great</font> direction) <font color = green>make</font> this movie <font color = green>worth</font> watching. What stands out the most is that Hongsheng and his family act out the story themselves instead of having some B-movie actor trying to imitate the real person. It shows the genuineness of the movie.<br><font color = red>l</font> must say, <font color = red>everу</font> time I see this <font color = red>moie</font>, I am <font color = red>deеply</font> <font color = red>touching</font>, not only by the most <font color = red>painfuⅼ</font> four years of Hongsheng's <font color = red>lіfe</font>, but <font color = red>alѕo</font> by how his family <font color = red>discusses</font> with his <font color = red>medication</font> <font color = red>addic𝚝ion</font>. It is also true that getting addicted to anything, such as <font color = red>medicinal</font>, <font color = red>alcohoⅼ</font>, or pornography, cannot only <font color = red>harmed</font> you, but also <font color = red>harmed</font> your most <font color = red>importan𝚝</font> <font color = red>humans</font> in the world: your family. <font color = red>Then</font> <font color = red>famiⅼy</font> is the #<font color = red>l</font> priority in the <font color = red>Aѕian</font> culture, it <font color = red>pick</font> guts for the <font color = red>circⅼe</font> to gather <font color = red>togetheⲅ</font> and show <font color = red>anyone</font> <font color = red>anybody</font> how much the family <font color = red>likes</font> him/her. this is <font color = red>actuɑlly</font> the first Chinese movie that I <font color = red>even</font> enjoy, not for the <font color = red>hilarious</font> of it, but the <font color = red>elementѕ</font> <font color = red>surroundiոg</font> it (<font color = red>supe</font> <font color = red>rb</font> acting, touching story, <font color = red>gr</font> <font color = red>eat</font> direction) <font color = red>ma𝒌e</font> this movie <font color = red>amounting</font> watching. What stands out the most is that Hongsheng and his family act out the story themselves instead of having some B-movie actor trying to imitate the real person. It shows the genuineness of the movie."
            ],
            "text/plain": [
              "<IPython.core.display.HTML object>"
            ]
          },
          "metadata": {
            "tags": []
          }
        },
        {
          "output_type": "stream",
          "text": [
            "[Succeeded / Failed / Total] 12 / 1 / 14:  56%|█████▌    | 14/25 [02:43<02:08, 11.65s/it]"
          ],
          "name": "stderr"
        },
        {
          "output_type": "display_data",
          "data": {
            "text/html": [
              "<font color = green>Positive (100%)</font> --> <font color = red>Negative (53%)</font><br>My wife is a mental health therapist and we watched it from beginning to end. I am the typical man and can not stand chick flicks, but this movie is unbelievable. If you want to see what it is like for someone who is going through these type of <font color = green>struggles</font>, this is the movie for you. As I watched it I found myself <font color = green>feeling</font> sorry for him and others like him. <br /><br />***Spoiler*** Plus the fact that all the individuals in the movie including the people in the mental institution were the actual people in real life made it that more real.<br /><br /><font color = green>A</font> <font color = green>must</font> see for <font color = green>someone</font> in the mental health profession!<br>My wife is a mental health therapist and we watched it from beginning to end. I am the typical man and can not stand chick flicks, but this movie is unbelievable. If you want to see what it is like for someone who is going through these type of <font color = red>battling</font>, this is the movie for you. As I watched it I found myself <font color = red>f</font> <font color = red>eeling</font> sorry for him and others like him. <br /><br />***Spoiler*** Plus the fact that all the individuals in the movie including the people in the mental institution were the actual people in real life made it that more real.<br /><br /><font color = red>by</font> <font color = red>msut</font> see for <font color = red>somеone</font> in the mental health profession!"
            ],
            "text/plain": [
              "<IPython.core.display.HTML object>"
            ]
          },
          "metadata": {
            "tags": []
          }
        },
        {
          "output_type": "stream",
          "text": [
            "[Succeeded / Failed / Total] 13 / 1 / 15:  60%|██████    | 15/25 [02:46<01:50, 11.08s/it]"
          ],
          "name": "stderr"
        },
        {
          "output_type": "display_data",
          "data": {
            "text/html": [
              "<font color = green>Positive (100%)</font> --> <font color = red>Negative (96%)</font><br><font color = green>I</font> saw this film at the Rotterdam International Film Festival 2002. This seemed to be one of the <font color = green>less</font> popular films on the festival, however, as it turned out, all the more interesting.<br /><br />The story, of an actor trying to come to grips with himself and his environment after withdrawing from a drug addiction, is <font color = green>based</font> on <font color = green>actual</font> facts. Moreover, the characters playing in the film are the real people living this experience over again, this time for the film, which is partly set up as a stage play. <font color = green>Not</font> only do they all happen to be good actors, Jia <font color = green>Hongsheng's</font> parents are actors in real life as well, the methods used in highlighting their relationship towards Jia are very effective.<br /><br />Jia Hongsheng is the actor of some Chinese action films late eighties start <font color = green>nineties</font>. Later you can see him in great films such as Frozen and <font color = green>Suzhou</font> River. In between these two career paths Jia becomes a drug addict and <font color = green>looses</font> all drive to act or even do anything productive, except for making somewhat futile attempts at becoming a <font color = green>guitar</font> virtuoso.<<font color = green>br</font> /><br /><font color = green>I</font> like the way the writer of the scenario choose to emphasize on his behavior after withdrawal more than on the horror of drugs. We really feel the pain and struggle Jia is in. At the same time we hate him for the way he treats those around him.<br /><br />The film draws the viewer into a tiring pattern Jia seems to be caught in, dragging with him his parents and sister who try to take care of him. Because there are personal 'interviews' with the characters we feel like we are getting to know Jia not only through himself but through others as well.<br /><br />The film has a heavy feel, but scenes of Jia cycling through Bejing and partying with his friends lighten the tone. So does the bitter humor in a lot of events throughout the film. The music is beautiful and stayed with me for a while after. This is a film that might not easily appeal to many people but for those interested in the more serious and modern Chinese film this is a strong recommendation.<br><font color = red>l</font> saw this film at the Rotterdam International Film Festival 2002. This seemed to be one of the <font color = red>l</font> <font color = red>ess</font> popular films on the festival, however, as it turned out, all the more interesting.<br /><br />The story, of an actor trying to come to grips with himself and his environment after withdrawing from a drug addiction, is <font color = red>basеd</font> on <font color = red>acutal</font> facts. Moreover, the characters playing in the film are the real people living this experience over again, this time for the film, which is partly set up as a stage play. <font color = red>Nah</font> only do they all happen to be good actors, Jia <font color = red>Hongsheng'ѕ</font> parents are actors in real life as well, the methods used in highlighting their relationship towards Jia are very effective.<br /><br />Jia Hongsheng is the actor of some Chinese action films late eighties start <font color = red>nineies</font>. Later you can see him in great films such as Frozen and <font color = red>Chongqing</font> River. In between these two career paths Jia becomes a drug addict and <font color = red>l</font> <font color = red>ooses</font> all drive to act or even do anything productive, except for making somewhat futile attempts at becoming a <font color = red>harmonica</font> virtuoso.<<font color = red>brit</font> /><br /><font color = red>j</font> like the way the writer of the scenario choose to emphasize on his behavior after withdrawal more than on the horror of drugs. We really feel the pain and struggle Jia is in. At the same time we hate him for the way he treats those around him.<br /><br />The film draws the viewer into a tiring pattern Jia seems to be caught in, dragging with him his parents and sister who try to take care of him. Because there are personal 'interviews' with the characters we feel like we are getting to know Jia not only through himself but through others as well.<br /><br />The film has a heavy feel, but scenes of Jia cycling through Bejing and partying with his friends lighten the tone. So does the bitter humor in a lot of events throughout the film. The music is beautiful and stayed with me for a while after. This is a film that might not easily appeal to many people but for those interested in the more serious and modern Chinese film this is a strong recommendation."
            ],
            "text/plain": [
              "<IPython.core.display.HTML object>"
            ]
          },
          "metadata": {
            "tags": []
          }
        },
        {
          "output_type": "stream",
          "text": [
            "[Succeeded / Failed / Total] 14 / 1 / 16:  64%|██████▍   | 16/25 [03:18<01:51, 12.40s/it]"
          ],
          "name": "stderr"
        },
        {
          "output_type": "display_data",
          "data": {
            "text/html": [
              "<font color = red>Negative (100%)</font> --> <font color = gray>[SKIPPED]</font><br>\"Night of the Hunted\" stars French porn star Brigitte Lahaie.In fact,many of the cast members in this slow-moving production were porn actors at the time of its frantic filming.This film is certainly different than Rollin's usual lesbian vampire flicks,but it's not as memorable as for example \"Lips of Blood\" or \"Fascination\".Lahaie plays an amnesiac hitchhiker who can't remember who she is or where she came from.Most of the film takes place in a modern apartment complex,where Lahaie is being held by some kind of medical group that's treating a number of people with a similar condition.Anyway,she escapes from the monolithic office tower where the affected people are held.On a highway outside of town,she meets a young man,who stops and picks her up.\"Night of the Hunted\" offers plenty of nudity,unfortunately the pace is extremely slow.The atmosphere is horribly sad and the relationship between Brigitte Lahaie and another asylum inmate Dominique Journet is well-developed.Still \"Night of the Hunted\" is too dull to be completely enjoyable.Give it a look only if you are a fan of Jean Rollin's works.7 out of 10 and that's being kind."
            ],
            "text/plain": [
              "<IPython.core.display.HTML object>"
            ]
          },
          "metadata": {
            "tags": []
          }
        },
        {
          "output_type": "stream",
          "text": [
            "\r[Succeeded / Failed / Total] 14 / 1 / 17:  68%|██████▊   | 17/25 [03:18<01:33, 11.68s/it]"
          ],
          "name": "stderr"
        },
        {
          "output_type": "display_data",
          "data": {
            "text/html": [
              "<font color = green>Positive (100%)</font> --> <font color = red>Negative (75%)</font><br>Even if you're a fan of Jean Rollin's idiosyncratic body of work, you will be caught off guard by this <font color = green>exceptional</font> <font color = green>foray</font> into science fiction territory. For once, there's not a single diaphanously gowned vampire girl in sight ! True to tradition, the budget proved way too tight to realize the director's vision entirely. Yet this is largely compensated by his obvious love of genre cinema, dedication to his craft and sheer ingenuity. Jean-Claude Couty's atmospheric cinematography makes the most of the foreboding locations and Philippe Bréjean (a/k/a \"Gary Sandeur\") contributes a startling soundtrack that fortunately doesn't resemble any of the sappy stuff he composed for hardcore.<br /><br />Shot in and around a Paris office block before and after working hours, the film was largely cast with porn regulars Rollin was already quite familiar with from his \"Michel Gentil\" cash-gathering XXX efforts, most notably French f*ck film royalty Brigitte Lahaie in the demanding lead. Playing Elisabeth (rather well, I might add), she's picked up wandering a nearby highway one night by Robert (Vincent Gardère), driving home at the end of a long work day. Barely able to piece together the string of events that got her there, Elisabeth seems to lose her memories mere moments after events occur, even forgetting Robert's name and heroic savior role before their night flight comes to an end at his apartment. Prior to making love, she rightfully describes herself as a virgin (further credit to Brigitte's thespian skills that she can handle the line so convincingly, being after all one of the more active adult actresses of the '70s) because she cannot recall a single touch preceding his. Because of this nifty bit of context, the relatively long sex scene that follows totally eschews the gratuity of other \"commercial\" interludes Rollin has had to include in other works to assure funding.<br /><br />When Robert leaves for work, he's inevitably erased from Elisabeth's feeble mind. A mysterious doctor (comedian Bernard Papineau effectively cast against type) and his menacing assistant Solange (striking porn starlet Rachel Mhas) move in on her during her protector's absence and take her back to the place she turns out to have escaped from. Here we get one of the movie's strongest scenes as she's re-introduced to her roommate Catherine (the late Cathérine Greiner a/k/a hardcore performer \"Cathy Stewart\" in a quietly devastating turn), both girls desperately supplying fictitious shared \"memories\" for one another in a bid to outrun their inevitable fate. That deterioration is not solely limited to the mind becomes painfully clear when they are served lunch and Catherine's unable to control her movements in trying to eat a spoonful of soup. It's also Catherine who gets to voice the filmmaker's compromise with the demands of commerce as she urges Elisabeth to get naked and hold her because sex is all they have left now that both mind and physical faculties have deserted them.<br /><br />Several rather explicit - if not quite hardcore - sex scenes make up the movie's mid-section and French porn aficionados should recognize the likes of Alain Plumey (a/k/a \"Cyril Val\"), Jacques Gateau and Elodie Delage, along with a blink and miss bit from future porno princess Marilyn Jess whose rape at the hands, mouth and member of Plumey was only present in the film's rarely screened XXX version FILLES TRAQUEES. The pivotal part of Véronique, a girl Elisabeth almost seems to remember and whom she seeks to escape anew with, is beautifully handled by the exquisite Dominique Journet - in her unforgettable debut - who would go on to play a sizable supporting role in Franco Zeffirelli's LA TRAVIATA. The six feet under ending reveals the deteriorating condition to be the result of a nuclear spill, the quarantined \"patients\" ultimately leaving a barely breathing empty shell, unceremoniously disposed off in a fiery furnace. The final shot offers a particularly heartbreaking variation on that of Chaplin's MODERN TIMES as Elisabeth, approaching complete meltdown by now, and a wounded Robert stumble along the railroad bridge, clumsily clasping each other's outstretched hands.<br>Even if you're a fan of Jean Rollin's idiosyncratic body of work, you will be caught off guard by this <font color = red>еxceptional</font> <font color = red>𝚏oray</font> into science fiction territory. For once, there's not a single diaphanously gowned vampire girl in sight ! True to tradition, the budget proved way too tight to realize the director's vision entirely. Yet this is largely compensated by his obvious love of genre cinema, dedication to his craft and sheer ingenuity. Jean-Claude Couty's atmospheric cinematography makes the most of the foreboding locations and Philippe Bréjean (a/k/a \"Gary Sandeur\") contributes a startling soundtrack that fortunately doesn't resemble any of the sappy stuff he composed for hardcore.<br /><br />Shot in and around a Paris office block before and after working hours, the film was largely cast with porn regulars Rollin was already quite familiar with from his \"Michel Gentil\" cash-gathering XXX efforts, most notably French f*ck film royalty Brigitte Lahaie in the demanding lead. Playing Elisabeth (rather well, I might add), she's picked up wandering a nearby highway one night by Robert (Vincent Gardère), driving home at the end of a long work day. Barely able to piece together the string of events that got her there, Elisabeth seems to lose her memories mere moments after events occur, even forgetting Robert's name and heroic savior role before their night flight comes to an end at his apartment. Prior to making love, she rightfully describes herself as a virgin (further credit to Brigitte's thespian skills that she can handle the line so convincingly, being after all one of the more active adult actresses of the '70s) because she cannot recall a single touch preceding his. Because of this nifty bit of context, the relatively long sex scene that follows totally eschews the gratuity of other \"commercial\" interludes Rollin has had to include in other works to assure funding.<br /><br />When Robert leaves for work, he's inevitably erased from Elisabeth's feeble mind. A mysterious doctor (comedian Bernard Papineau effectively cast against type) and his menacing assistant Solange (striking porn starlet Rachel Mhas) move in on her during her protector's absence and take her back to the place she turns out to have escaped from. Here we get one of the movie's strongest scenes as she's re-introduced to her roommate Catherine (the late Cathérine Greiner a/k/a hardcore performer \"Cathy Stewart\" in a quietly devastating turn), both girls desperately supplying fictitious shared \"memories\" for one another in a bid to outrun their inevitable fate. That deterioration is not solely limited to the mind becomes painfully clear when they are served lunch and Catherine's unable to control her movements in trying to eat a spoonful of soup. It's also Catherine who gets to voice the filmmaker's compromise with the demands of commerce as she urges Elisabeth to get naked and hold her because sex is all they have left now that both mind and physical faculties have deserted them.<br /><br />Several rather explicit - if not quite hardcore - sex scenes make up the movie's mid-section and French porn aficionados should recognize the likes of Alain Plumey (a/k/a \"Cyril Val\"), Jacques Gateau and Elodie Delage, along with a blink and miss bit from future porno princess Marilyn Jess whose rape at the hands, mouth and member of Plumey was only present in the film's rarely screened XXX version FILLES TRAQUEES. The pivotal part of Véronique, a girl Elisabeth almost seems to remember and whom she seeks to escape anew with, is beautifully handled by the exquisite Dominique Journet - in her unforgettable debut - who would go on to play a sizable supporting role in Franco Zeffirelli's LA TRAVIATA. The six feet under ending reveals the deteriorating condition to be the result of a nuclear spill, the quarantined \"patients\" ultimately leaving a barely breathing empty shell, unceremoniously disposed off in a fiery furnace. The final shot offers a particularly heartbreaking variation on that of Chaplin's MODERN TIMES as Elisabeth, approaching complete meltdown by now, and a wounded Robert stumble along the railroad bridge, clumsily clasping each other's outstretched hands."
            ],
            "text/plain": [
              "<IPython.core.display.HTML object>"
            ]
          },
          "metadata": {
            "tags": []
          }
        },
        {
          "output_type": "stream",
          "text": [
            "[Succeeded / Failed / Total] 15 / 1 / 18:  72%|███████▏  | 18/25 [03:35<01:23, 11.98s/it]"
          ],
          "name": "stderr"
        },
        {
          "output_type": "display_data",
          "data": {
            "text/html": [
              "<font color = green>Positive (100%)</font> --> <font color = red>Negative (51%)</font><br>I was surprised how much I enjoyed this. Sure it is a <font color = green>bit</font> slow moving in parts, but what else would one expect from Rollin? Also there is plenty of nudity, nothing wrong with that, particularly as it includes lots of the gorgeous, Brigitte Lahaie. There are also some spectacularly eroticised female dead, bit more dodgey, perhaps, but most effective. There is also a sci-fi like storyline with a brief explanation at the end, but I wouldn't bother too much with that. No, here we have a most interesting exploration of memory and the effect of memory loss and to just what extent one is still 'alive' without memory. My DVD sleeve mentions David Cronenberg and whilst this is perhaps not quite as good as his best films, there is some similarity here, particularly with the great use of seemingly menacing architecture and the effective and creepy use of inside space. As I have tried to indicate this is by no means a rip roaring thriller, it is a <font color = green>captivating</font>, nightmare <font color = green>like</font> movie that makes the very most of its locations, including a stunning railway setting at the end.<br>I was surprised how much I enjoyed this. Sure it is a <font color = red>bi𝚝</font> slow moving in parts, but what else would one expect from Rollin? Also there is plenty of nudity, nothing wrong with that, particularly as it includes lots of the gorgeous, Brigitte Lahaie. There are also some spectacularly eroticised female dead, bit more dodgey, perhaps, but most effective. There is also a sci-fi like storyline with a brief explanation at the end, but I wouldn't bother too much with that. No, here we have a most interesting exploration of memory and the effect of memory loss and to just what extent one is still 'alive' without memory. My DVD sleeve mentions David Cronenberg and whilst this is perhaps not quite as good as his best films, there is some similarity here, particularly with the great use of seemingly menacing architecture and the effective and creepy use of inside space. As I have tried to indicate this is by no means a rip roaring thriller, it is a <font color = red>capitvating</font>, nightmare <font color = red>likе</font> movie that makes the very most of its locations, including a stunning railway setting at the end."
            ],
            "text/plain": [
              "<IPython.core.display.HTML object>"
            ]
          },
          "metadata": {
            "tags": []
          }
        },
        {
          "output_type": "stream",
          "text": [
            "[Succeeded / Failed / Total] 16 / 1 / 19:  76%|███████▌  | 19/25 [03:39<01:09, 11.58s/it]"
          ],
          "name": "stderr"
        },
        {
          "output_type": "display_data",
          "data": {
            "text/html": [
              "<font color = green>Positive (100%)</font> --> <font color = red>Negative (90%)</font><br>I went into \"Night of the Hunted\" not knowing what to expect at all. I was really <font color = green>impressed</font>.<br /><br />It is essentially a mystery/thriller where this girl who can't remember anything gets 'rescued' by a guy who happens to be driving past. The two become fast friends and lovers and together, they try to figure out what is going on with her. Through some vague flashbacks and grim memories, they eventually get to the bottom of it and the ending is pretty cool.<br /><br />I really liked the setting of this one: a desolate, post-modern Paris is the backdrop with lots of gray skies and tall buildings. Very metropolitan. Groovy soundtrack and lots of nudity.<br /><br />Surprising it was made in 1980; seems somewhat ahead of it's time.<br /><br />8 out of 10, kids.<br>I went into \"Night of the Hunted\" not knowing what to expect at all. I was really <font color = red>imprsesed</font>.<br /><br />It is essentially a mystery/thriller where this girl who can't remember anything gets 'rescued' by a guy who happens to be driving past. The two become fast friends and lovers and together, they try to figure out what is going on with her. Through some vague flashbacks and grim memories, they eventually get to the bottom of it and the ending is pretty cool.<br /><br />I really liked the setting of this one: a desolate, post-modern Paris is the backdrop with lots of gray skies and tall buildings. Very metropolitan. Groovy soundtrack and lots of nudity.<br /><br />Surprising it was made in 1980; seems somewhat ahead of it's time.<br /><br />8 out of 10, kids."
            ],
            "text/plain": [
              "<IPython.core.display.HTML object>"
            ]
          },
          "metadata": {
            "tags": []
          }
        },
        {
          "output_type": "stream",
          "text": [
            "[Succeeded / Failed / Total] 17 / 1 / 20:  80%|████████  | 20/25 [03:42<00:55, 11.14s/it]"
          ],
          "name": "stderr"
        },
        {
          "output_type": "display_data",
          "data": {
            "text/html": [
              "<font color = green>Positive (60%)</font> --> <font color = red>Negative (73%)</font><br>I have certainly not seen all of Jean <font color = green>Rollin's</font> films, but they mostly seem to be bloody vampire naked women fests, which if you like that sort of thing is not bad, but this is a major departure and could almost be Cronenberg minus the bio-mechanical nightmarish stuff. Except it's in French with subtitles of course. A man driving on the road at night comes across a woman that is in her slippers and bathrobe and picks her up, while in the background yet another woman lingers, wearing nothing. As they drive along it's obvious that there is something not right about the woman, in that she forgets things almost as quickly as they happen. Still though, that doesn't prevent the man from having sex with her once they return to Paris & his apartment. The man leaves for work and some strangers show up at his place and take the woman away to this 'tower block', a huge apartment building referred to as the Black Tower, where others of her kind (for whom the 'no memory' things seems to be the least of their problems) are being held for some reason. Time and events march by in the movie, which involve mostly trying to find what's going on and get out of the building for this woman, and she does manage to call Robert, the guy that picked her up in the first place, to come rescue her. The revelation as to what's going on comes in the last few moments of the movie, which has a rather strange yet touching end to it. In avoiding what seemed to be his \"typical\" formula, Rollin created, in this, what I feel is his most fascinating and disturbing film. I like this one a lot, check it out. 8 out of 10.<br>I have certainly not seen all of Jean <font color = red>Rollіn's</font> films, but they mostly seem to be bloody vampire naked women fests, which if you like that sort of thing is not bad, but this is a major departure and could almost be Cronenberg minus the bio-mechanical nightmarish stuff. Except it's in French with subtitles of course. A man driving on the road at night comes across a woman that is in her slippers and bathrobe and picks her up, while in the background yet another woman lingers, wearing nothing. As they drive along it's obvious that there is something not right about the woman, in that she forgets things almost as quickly as they happen. Still though, that doesn't prevent the man from having sex with her once they return to Paris & his apartment. The man leaves for work and some strangers show up at his place and take the woman away to this 'tower block', a huge apartment building referred to as the Black Tower, where others of her kind (for whom the 'no memory' things seems to be the least of their problems) are being held for some reason. Time and events march by in the movie, which involve mostly trying to find what's going on and get out of the building for this woman, and she does manage to call Robert, the guy that picked her up in the first place, to come rescue her. The revelation as to what's going on comes in the last few moments of the movie, which has a rather strange yet touching end to it. In avoiding what seemed to be his \"typical\" formula, Rollin created, in this, what I feel is his most fascinating and disturbing film. I like this one a lot, check it out. 8 out of 10."
            ],
            "text/plain": [
              "<IPython.core.display.HTML object>"
            ]
          },
          "metadata": {
            "tags": []
          }
        },
        {
          "output_type": "stream",
          "text": [
            "[Succeeded / Failed / Total] 18 / 1 / 21:  84%|████████▍ | 21/25 [03:49<00:43, 10.91s/it]"
          ],
          "name": "stderr"
        },
        {
          "output_type": "display_data",
          "data": {
            "text/html": [
              "<font color = green>Positive (100%)</font> --> <font color = red>Negative (58%)</font><br>Since this cartoon was made in the old days, Felix talks using cartoon bubbles and the animation style is very <font color = green>crude</font> when compared to <font color = green>today</font>. <font color = green>However</font>, compared to its <font color = green>contemporaries</font>, it's a pretty good cartoon and still holds up well. That's because <font color = green>despite</font> its age, the cartoon is very creative and <font color = green>funny</font>.<br /><br />Felix meets a guy whose shoe business is folding because he can't sell any shoes. Well, Felix needs money so he can go to Hollywood, so he tells the guy at the shop he'll get every shoe sold. Felix spreads chewing <font color = green>gum</font> all over town and soon people are stuck and leave their shoes--rushing to buy new ones from the shoe store. In gratitude, the guy gives Felix $500! However, Felix's owner wants to take the money and go alone, so Felix figures out a way to sneak along.<br /><br />Once there, Felix barges into a studio and makes a bit of a nuisance of himself. Along the way, he meets cartoon versions of comics Ben Turpin and Charlie Chaplin. In the end, though, through luck, Felix is discovered and offered a movie contract. Hurray!<br>Since this cartoon was made in the old days, Felix talks using cartoon bubbles and the animation style is very <font color = red>crudе</font> when compared to <font color = red>tday</font>. <font color = red>Howeveⲅ</font>, compared to its <font color = red>coոtemporaries</font>, it's a pretty good cartoon and still holds up well. That's because <font color = red>dsepite</font> its age, the cartoon is very creative and <font color = red>fսnny</font>.<br /><br />Felix meets a guy whose shoe business is folding because he can't sell any shoes. Well, Felix needs money so he can go to Hollywood, so he tells the guy at the shop he'll get every shoe sold. Felix spreads chewing <font color = red>guｍ</font> all over town and soon people are stuck and leave their shoes--rushing to buy new ones from the shoe store. In gratitude, the guy gives Felix $500! However, Felix's owner wants to take the money and go alone, so Felix figures out a way to sneak along.<br /><br />Once there, Felix barges into a studio and makes a bit of a nuisance of himself. Along the way, he meets cartoon versions of comics Ben Turpin and Charlie Chaplin. In the end, though, through luck, Felix is discovered and offered a movie contract. Hurray!"
            ],
            "text/plain": [
              "<IPython.core.display.HTML object>"
            ]
          },
          "metadata": {
            "tags": []
          }
        },
        {
          "output_type": "stream",
          "text": [
            "[Succeeded / Failed / Total] 19 / 1 / 22:  88%|████████▊ | 22/25 [03:54<00:31, 10.67s/it]"
          ],
          "name": "stderr"
        },
        {
          "output_type": "display_data",
          "data": {
            "text/html": [
              "<font color = green>Positive (100%)</font> --> <font color = red>Negative (73%)</font><br>Despite the title and unlike some other stories about love and war, this film isn't too sticky and pink, because love is as a rose: With thorns, that is. The four leading actors set their characters realistic and with a good sense and <font color = green>balance</font> between the tragic and the down-to-earth. <br /><br />The music and lyrics of the cabaret/chanson-esquire songs (sung b <font color = green>Keira</font> <font color = green>Knightley</font> herself) <font color = green>drag</font> the <font color = green>viewer</font> <font color = green>deeper</font> and deeper in the film, from one place to another, between the brutal war and amongst the peaceful love. Some people <font color = green>may</font> find it too much a <font color = green>biopic</font>, but it ís mostly a romantic story, <font color = green>even</font> <font color = green>though</font> it consequently follows the life of Dylan Thomas and the triangular relationship which is <font color = green>steeped</font> by joy and jealousy. <br /><br />London gets <font color = green>visualized</font> from another angle for once, the bohemian life of <font color = green>Dylan</font> during the bombings of the <font color = green>Germans</font> is <font color = green>set</font> in a floating atmosphere of small bedrooms, pubs and bars. The independent women, the soldier and the charismatic poet are constantly swept in both feelings of love and anger. <br /><br />Maybe the end is too <font color = green>twisted</font> and hangs <font color = green>somewhat</font> <font color = green>loosely</font> to the rest of the film, but all in all this is a great romantic story.<br>Despite the title and unlike some other stories about love and war, this film isn't too sticky and pink, because love is as a rose: With thorns, that is. The four leading actors set their characters realistic and with a good sense and <font color = red>balanϲe</font> between the tragic and the down-to-earth. <br /><br />The music and lyrics of the cabaret/chanson-esquire songs (sung b <font color = red>Keіra</font> <font color = red>Knightly</font> herself) <font color = red>towed</font> the <font color = red>vіewer</font> <font color = red>bigger</font> and deeper in the film, from one place to another, between the brutal war and amongst the peaceful love. Some people <font color = red>ｍay</font> find it too much a <font color = red>bopic</font>, but it ís mostly a romantic story, <font color = red>eveո</font> <font color = red>despite</font> it consequently follows the life of Dylan Thomas and the triangular relationship which is <font color = red>steeed</font> by joy and jealousy. <br /><br />London gets <font color = red>visualizеd</font> from another angle for once, the bohemian life of <font color = red>Hendrix</font> during the bombings of the <font color = red>Germany</font> is <font color = red>configured</font> in a floating atmosphere of small bedrooms, pubs and bars. The independent women, the soldier and the charismatic poet are constantly swept in both feelings of love and anger. <br /><br />Maybe the end is too <font color = red>twisteԁ</font> and hangs <font color = red>soemwhat</font> <font color = red>mildly</font> to the rest of the film, but all in all this is a great romantic story."
            ],
            "text/plain": [
              "<IPython.core.display.HTML object>"
            ]
          },
          "metadata": {
            "tags": []
          }
        },
        {
          "output_type": "stream",
          "text": [
            "[Succeeded / Failed / Total] 20 / 1 / 23:  92%|█████████▏| 23/25 [04:04<00:21, 10.63s/it]"
          ],
          "name": "stderr"
        },
        {
          "output_type": "display_data",
          "data": {
            "text/html": [
              "<font color = green>Positive (100%)</font> --> <font color = red>Negative (98%)</font><br><font color = green>Felix</font> in Hollywood is a great film. The version I viewed was very well <font color = green>restored</font>, which is <font color = green>sometimes</font> a problem with these silent <font color = green>era</font> <font color = green>animated</font> <font color = green>films</font>. It has some of <font color = green>Hollywood's</font> most famous <font color = green>stars</font> making cameo animated appearances. A <font color = green>must</font> for any <font color = green>silent</font> film or animation enthusiast.<br><font color = red>Jose</font> in Hollywood is a great film. The version I viewed was very well <font color = red>reestablished</font>, which is <font color = red>sometimeѕ</font> a problem with these silent <font color = red>eⲅa</font> <font color = red>animateԁ</font> <font color = red>flims</font>. It has some of <font color = red>Hollywooԁ's</font> most famous <font color = red>starѕ</font> making cameo animated appearances. A <font color = red>mus𝚝</font> for any <font color = red>silencing</font> film or animation enthusiast."
            ],
            "text/plain": [
              "<IPython.core.display.HTML object>"
            ]
          },
          "metadata": {
            "tags": []
          }
        },
        {
          "output_type": "stream",
          "text": [
            "[Succeeded / Failed / Total] 21 / 1 / 24:  96%|█████████▌| 24/25 [04:07<00:10, 10.33s/it]"
          ],
          "name": "stderr"
        },
        {
          "output_type": "display_data",
          "data": {
            "text/html": [
              "<font color = green>Positive (100%)</font> --> <font color = red>[FAILED]</font><br>A gem of a cartoon from the silent era---it was re-discovered by CARTOON NETWORK, and was broadcast for likely the first time in decades, if ever.<br /><br />What makes this so enjoyable are the varied cameos...Douglas Fairbanks is attacked by giant mosquitos; Will Hays pays a visit as 'boss' of Static Studios; as well as appearances by Chaplin, Keaton, and William S. Hart. The image of chewing gum decimating the shoes of the populace (a money-making idea for Felix's near-bankrupt shoe-=salesman boss) cannot be described--it must be viewed. A terrific cultural gem."
            ],
            "text/plain": [
              "<IPython.core.display.HTML object>"
            ]
          },
          "metadata": {
            "tags": []
          }
        },
        {
          "output_type": "stream",
          "text": [
            "[Succeeded / Failed / Total] 21 / 2 / 25: 100%|██████████| 25/25 [04:17<00:00, 10.29s/it]"
          ],
          "name": "stderr"
        },
        {
          "output_type": "display_data",
          "data": {
            "text/html": [
              "<font color = green>Positive (100%)</font> --> <font color = red>[FAILED]</font><br>This short is one of the best of all time and is proof (just like most of Charlie Chaplin's work) that sound and color are not requirements for quality work. In fact, this cartoon uses (and may have started) some of the gags and devices that became standard in animation in later years, like caricatures of celebrities (including the afore-mentioned Chaplin. While the characters are silent, they do \"speak\", by use of word balloons, just like in the comics. Given that Felix started out in newspapers as a comic strip, this device is a natural. The atmosphere and style of the short is completely harmonious with that of the comic strip while adding another dimension (literally and figuratively) and makes this short a delight to watch. Well worth taking the time and effort to get. Most highly recommended."
            ],
            "text/plain": [
              "<IPython.core.display.HTML object>"
            ]
          },
          "metadata": {
            "tags": []
          }
        },
        {
          "output_type": "stream",
          "text": [
            "[Succeeded / Failed / Total] 21 / 3 / 26: : 26it [04:32, 10.48s/it]"
          ],
          "name": "stderr"
        },
        {
          "output_type": "display_data",
          "data": {
            "text/html": [
              "<font color = green>Positive (86%)</font> --> <font color = red>Negative (66%)</font><br><font color = green>Felix</font> is watching an actor rehearse his lines: \"A ham, A ham! My kingdom for a ham sandwich!!!\" The dramatic guy that tells Felix he'll \"have to sacrifice my art and go into the movies.\" He's in tears. Felix just looks at him like he's nuts, and shrugs his shoulders. The old guy tells Felix to \"go ye forth\" and find money to finance a trip to Hollywood. Felix thinks, \"How does he expect me to get the money?\"<br /><br />In minutes, of course (this is a cartoon), he spots a shoe business owner putting up a \"bankrupt\" sale on his store. Felix comes up with a plan to bail him out and the man promises the cat $500 if it works.<br /><br />Well, it does but the man wants to go alone and leave Felix at home. In an outrageous scene, Felix transforms himself into a briefcase and that's how he gets to Hollywood, transforming himself back to cat when they get there.<br /><br />We then witness Felix's attempts at getting into show business. His audition scenes are very funny, especially with his imitation of Charlie Chaplin. In addition there are caricatures of some famous silent film stars and executives. In all, quite a bit of material is in this 9.5- minute cartoon. It's amazing how much more you can get in an extra 2.5 minutes, assuming most animated shorts are seven minutes in length.<br /><br />At any rate, there were a number of laughs in here and more zany things you could only see in a cartoon, like Felix have a sword duel with giant mosquitoes! Crazy stuff.<br><font color = red>Fеlix</font> is watching an actor rehearse his lines: \"A ham, A ham! My kingdom for a ham sandwich!!!\" The dramatic guy that tells Felix he'll \"have to sacrifice my art and go into the movies.\" He's in tears. Felix just looks at him like he's nuts, and shrugs his shoulders. The old guy tells Felix to \"go ye forth\" and find money to finance a trip to Hollywood. Felix thinks, \"How does he expect me to get the money?\"<br /><br />In minutes, of course (this is a cartoon), he spots a shoe business owner putting up a \"bankrupt\" sale on his store. Felix comes up with a plan to bail him out and the man promises the cat $500 if it works.<br /><br />Well, it does but the man wants to go alone and leave Felix at home. In an outrageous scene, Felix transforms himself into a briefcase and that's how he gets to Hollywood, transforming himself back to cat when they get there.<br /><br />We then witness Felix's attempts at getting into show business. His audition scenes are very funny, especially with his imitation of Charlie Chaplin. In addition there are caricatures of some famous silent film stars and executives. In all, quite a bit of material is in this 9.5- minute cartoon. It's amazing how much more you can get in an extra 2.5 minutes, assuming most animated shorts are seven minutes in length.<br /><br />At any rate, there were a number of laughs in here and more zany things you could only see in a cartoon, like Felix have a sword duel with giant mosquitoes! Crazy stuff."
            ],
            "text/plain": [
              "<IPython.core.display.HTML object>"
            ]
          },
          "metadata": {
            "tags": []
          }
        },
        {
          "output_type": "stream",
          "text": [
            "[Succeeded / Failed / Total] 22 / 3 / 27: : 27it [04:38, 10.30s/it]"
          ],
          "name": "stderr"
        },
        {
          "output_type": "stream",
          "text": [
            "+-------------------------------+--------+\n",
            "| Attack Results                |        |\n",
            "+-------------------------------+--------+\n",
            "| Number of successful attacks: | 22     |\n",
            "| Number of failed attacks:     | 3      |\n",
            "| Number of skipped attacks:    | 2      |\n",
            "| Original accuracy:            | 92.59% |\n",
            "| Accuracy under attack:        | 11.11% |\n",
            "| Attack success rate:          | 88.0%  |\n",
            "| Average perturbed word %:     | 32.84% |\n",
            "| Average num. words per input: | 248.96 |\n",
            "| Avg num queries:              | 539.12 |\n",
            "+-------------------------------+--------+"
          ],
          "name": "stdout"
        },
        {
          "output_type": "stream",
          "text": [
            "\n",
            "\u001b[34;1mtextattack\u001b[0m: Attack time: 278.07997155189514s\n"
          ],
          "name": "stderr"
        }
      ]
    },
    {
      "cell_type": "code",
      "metadata": {
        "id": "Zhke_Pl-dOa5"
      },
      "source": [
        ""
      ],
      "execution_count": null,
      "outputs": []
    }
  ]
}