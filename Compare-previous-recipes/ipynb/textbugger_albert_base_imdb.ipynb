{
  "nbformat": 4,
  "nbformat_minor": 0,
  "metadata": {
    "colab": {
      "name": "textbugger_albert_base_imdb.ipynb",
      "provenance": [],
      "collapsed_sections": []
    },
    "kernelspec": {
      "name": "python3",
      "display_name": "Python 3"
    },
    "language_info": {
      "name": "python"
    },
    "widgets": {
      "application/vnd.jupyter.widget-state+json": {
        "46f402ad75ca455faa864e24140e2ed8": {
          "model_module": "@jupyter-widgets/controls",
          "model_name": "HBoxModel",
          "state": {
            "_view_name": "HBoxView",
            "_dom_classes": [],
            "_model_name": "HBoxModel",
            "_view_module": "@jupyter-widgets/controls",
            "_model_module_version": "1.5.0",
            "_view_count": null,
            "_view_module_version": "1.5.0",
            "box_style": "",
            "layout": "IPY_MODEL_89f557b73c184d4990793d907abf85df",
            "_model_module": "@jupyter-widgets/controls",
            "children": [
              "IPY_MODEL_bb8b00db333d4b6bab1c18c1b6fa6056",
              "IPY_MODEL_c8af3f21344e41ad83d87f7640b29846"
            ]
          }
        },
        "89f557b73c184d4990793d907abf85df": {
          "model_module": "@jupyter-widgets/base",
          "model_name": "LayoutModel",
          "state": {
            "_view_name": "LayoutView",
            "grid_template_rows": null,
            "right": null,
            "justify_content": null,
            "_view_module": "@jupyter-widgets/base",
            "overflow": null,
            "_model_module_version": "1.2.0",
            "_view_count": null,
            "flex_flow": null,
            "width": null,
            "min_width": null,
            "border": null,
            "align_items": null,
            "bottom": null,
            "_model_module": "@jupyter-widgets/base",
            "top": null,
            "grid_column": null,
            "overflow_y": null,
            "overflow_x": null,
            "grid_auto_flow": null,
            "grid_area": null,
            "grid_template_columns": null,
            "flex": null,
            "_model_name": "LayoutModel",
            "justify_items": null,
            "grid_row": null,
            "max_height": null,
            "align_content": null,
            "visibility": null,
            "align_self": null,
            "height": null,
            "min_height": null,
            "padding": null,
            "grid_auto_rows": null,
            "grid_gap": null,
            "max_width": null,
            "order": null,
            "_view_module_version": "1.2.0",
            "grid_template_areas": null,
            "object_position": null,
            "object_fit": null,
            "grid_auto_columns": null,
            "margin": null,
            "display": null,
            "left": null
          }
        },
        "bb8b00db333d4b6bab1c18c1b6fa6056": {
          "model_module": "@jupyter-widgets/controls",
          "model_name": "FloatProgressModel",
          "state": {
            "_view_name": "ProgressView",
            "style": "IPY_MODEL_00527c251a7e474dab476c934b57ceaa",
            "_dom_classes": [],
            "description": "Downloading: 100%",
            "_model_name": "FloatProgressModel",
            "bar_style": "success",
            "max": 727,
            "_view_module": "@jupyter-widgets/controls",
            "_model_module_version": "1.5.0",
            "value": 727,
            "_view_count": null,
            "_view_module_version": "1.5.0",
            "orientation": "horizontal",
            "min": 0,
            "description_tooltip": null,
            "_model_module": "@jupyter-widgets/controls",
            "layout": "IPY_MODEL_dd399fa09f0347b2879588a0bfd03aee"
          }
        },
        "c8af3f21344e41ad83d87f7640b29846": {
          "model_module": "@jupyter-widgets/controls",
          "model_name": "HTMLModel",
          "state": {
            "_view_name": "HTMLView",
            "style": "IPY_MODEL_aeb9fe77ce5c4a8fbfa09883620c71f8",
            "_dom_classes": [],
            "description": "",
            "_model_name": "HTMLModel",
            "placeholder": "​",
            "_view_module": "@jupyter-widgets/controls",
            "_model_module_version": "1.5.0",
            "value": " 727/727 [00:05&lt;00:00, 137B/s]",
            "_view_count": null,
            "_view_module_version": "1.5.0",
            "description_tooltip": null,
            "_model_module": "@jupyter-widgets/controls",
            "layout": "IPY_MODEL_e5291da656b748d5825bfab5db40d72c"
          }
        },
        "00527c251a7e474dab476c934b57ceaa": {
          "model_module": "@jupyter-widgets/controls",
          "model_name": "ProgressStyleModel",
          "state": {
            "_view_name": "StyleView",
            "_model_name": "ProgressStyleModel",
            "description_width": "initial",
            "_view_module": "@jupyter-widgets/base",
            "_model_module_version": "1.5.0",
            "_view_count": null,
            "_view_module_version": "1.2.0",
            "bar_color": null,
            "_model_module": "@jupyter-widgets/controls"
          }
        },
        "dd399fa09f0347b2879588a0bfd03aee": {
          "model_module": "@jupyter-widgets/base",
          "model_name": "LayoutModel",
          "state": {
            "_view_name": "LayoutView",
            "grid_template_rows": null,
            "right": null,
            "justify_content": null,
            "_view_module": "@jupyter-widgets/base",
            "overflow": null,
            "_model_module_version": "1.2.0",
            "_view_count": null,
            "flex_flow": null,
            "width": null,
            "min_width": null,
            "border": null,
            "align_items": null,
            "bottom": null,
            "_model_module": "@jupyter-widgets/base",
            "top": null,
            "grid_column": null,
            "overflow_y": null,
            "overflow_x": null,
            "grid_auto_flow": null,
            "grid_area": null,
            "grid_template_columns": null,
            "flex": null,
            "_model_name": "LayoutModel",
            "justify_items": null,
            "grid_row": null,
            "max_height": null,
            "align_content": null,
            "visibility": null,
            "align_self": null,
            "height": null,
            "min_height": null,
            "padding": null,
            "grid_auto_rows": null,
            "grid_gap": null,
            "max_width": null,
            "order": null,
            "_view_module_version": "1.2.0",
            "grid_template_areas": null,
            "object_position": null,
            "object_fit": null,
            "grid_auto_columns": null,
            "margin": null,
            "display": null,
            "left": null
          }
        },
        "aeb9fe77ce5c4a8fbfa09883620c71f8": {
          "model_module": "@jupyter-widgets/controls",
          "model_name": "DescriptionStyleModel",
          "state": {
            "_view_name": "StyleView",
            "_model_name": "DescriptionStyleModel",
            "description_width": "",
            "_view_module": "@jupyter-widgets/base",
            "_model_module_version": "1.5.0",
            "_view_count": null,
            "_view_module_version": "1.2.0",
            "_model_module": "@jupyter-widgets/controls"
          }
        },
        "e5291da656b748d5825bfab5db40d72c": {
          "model_module": "@jupyter-widgets/base",
          "model_name": "LayoutModel",
          "state": {
            "_view_name": "LayoutView",
            "grid_template_rows": null,
            "right": null,
            "justify_content": null,
            "_view_module": "@jupyter-widgets/base",
            "overflow": null,
            "_model_module_version": "1.2.0",
            "_view_count": null,
            "flex_flow": null,
            "width": null,
            "min_width": null,
            "border": null,
            "align_items": null,
            "bottom": null,
            "_model_module": "@jupyter-widgets/base",
            "top": null,
            "grid_column": null,
            "overflow_y": null,
            "overflow_x": null,
            "grid_auto_flow": null,
            "grid_area": null,
            "grid_template_columns": null,
            "flex": null,
            "_model_name": "LayoutModel",
            "justify_items": null,
            "grid_row": null,
            "max_height": null,
            "align_content": null,
            "visibility": null,
            "align_self": null,
            "height": null,
            "min_height": null,
            "padding": null,
            "grid_auto_rows": null,
            "grid_gap": null,
            "max_width": null,
            "order": null,
            "_view_module_version": "1.2.0",
            "grid_template_areas": null,
            "object_position": null,
            "object_fit": null,
            "grid_auto_columns": null,
            "margin": null,
            "display": null,
            "left": null
          }
        },
        "a59e10fc8b154098b084741d97c5a933": {
          "model_module": "@jupyter-widgets/controls",
          "model_name": "HBoxModel",
          "state": {
            "_view_name": "HBoxView",
            "_dom_classes": [],
            "_model_name": "HBoxModel",
            "_view_module": "@jupyter-widgets/controls",
            "_model_module_version": "1.5.0",
            "_view_count": null,
            "_view_module_version": "1.5.0",
            "box_style": "",
            "layout": "IPY_MODEL_ef85a90c0df6417fa7b37bba87ab67f2",
            "_model_module": "@jupyter-widgets/controls",
            "children": [
              "IPY_MODEL_c0f1e156eaae4526bf1c6b427e004aa7",
              "IPY_MODEL_44081de935b44e9891db702f71bce72f"
            ]
          }
        },
        "ef85a90c0df6417fa7b37bba87ab67f2": {
          "model_module": "@jupyter-widgets/base",
          "model_name": "LayoutModel",
          "state": {
            "_view_name": "LayoutView",
            "grid_template_rows": null,
            "right": null,
            "justify_content": null,
            "_view_module": "@jupyter-widgets/base",
            "overflow": null,
            "_model_module_version": "1.2.0",
            "_view_count": null,
            "flex_flow": null,
            "width": null,
            "min_width": null,
            "border": null,
            "align_items": null,
            "bottom": null,
            "_model_module": "@jupyter-widgets/base",
            "top": null,
            "grid_column": null,
            "overflow_y": null,
            "overflow_x": null,
            "grid_auto_flow": null,
            "grid_area": null,
            "grid_template_columns": null,
            "flex": null,
            "_model_name": "LayoutModel",
            "justify_items": null,
            "grid_row": null,
            "max_height": null,
            "align_content": null,
            "visibility": null,
            "align_self": null,
            "height": null,
            "min_height": null,
            "padding": null,
            "grid_auto_rows": null,
            "grid_gap": null,
            "max_width": null,
            "order": null,
            "_view_module_version": "1.2.0",
            "grid_template_areas": null,
            "object_position": null,
            "object_fit": null,
            "grid_auto_columns": null,
            "margin": null,
            "display": null,
            "left": null
          }
        },
        "c0f1e156eaae4526bf1c6b427e004aa7": {
          "model_module": "@jupyter-widgets/controls",
          "model_name": "FloatProgressModel",
          "state": {
            "_view_name": "ProgressView",
            "style": "IPY_MODEL_3b81527138aa403aa1efd524c1e1177f",
            "_dom_classes": [],
            "description": "Downloading: 100%",
            "_model_name": "FloatProgressModel",
            "bar_style": "success",
            "max": 46747112,
            "_view_module": "@jupyter-widgets/controls",
            "_model_module_version": "1.5.0",
            "value": 46747112,
            "_view_count": null,
            "_view_module_version": "1.5.0",
            "orientation": "horizontal",
            "min": 0,
            "description_tooltip": null,
            "_model_module": "@jupyter-widgets/controls",
            "layout": "IPY_MODEL_9712d437b141429e970d54234efd4272"
          }
        },
        "44081de935b44e9891db702f71bce72f": {
          "model_module": "@jupyter-widgets/controls",
          "model_name": "HTMLModel",
          "state": {
            "_view_name": "HTMLView",
            "style": "IPY_MODEL_2d9e5784bbb44dc49b224adf97a9d07b",
            "_dom_classes": [],
            "description": "",
            "_model_name": "HTMLModel",
            "placeholder": "​",
            "_view_module": "@jupyter-widgets/controls",
            "_model_module_version": "1.5.0",
            "value": " 46.7M/46.7M [00:01&lt;00:00, 30.8MB/s]",
            "_view_count": null,
            "_view_module_version": "1.5.0",
            "description_tooltip": null,
            "_model_module": "@jupyter-widgets/controls",
            "layout": "IPY_MODEL_74b8c7a3e8b948b6ad19fcbe94c3e914"
          }
        },
        "3b81527138aa403aa1efd524c1e1177f": {
          "model_module": "@jupyter-widgets/controls",
          "model_name": "ProgressStyleModel",
          "state": {
            "_view_name": "StyleView",
            "_model_name": "ProgressStyleModel",
            "description_width": "initial",
            "_view_module": "@jupyter-widgets/base",
            "_model_module_version": "1.5.0",
            "_view_count": null,
            "_view_module_version": "1.2.0",
            "bar_color": null,
            "_model_module": "@jupyter-widgets/controls"
          }
        },
        "9712d437b141429e970d54234efd4272": {
          "model_module": "@jupyter-widgets/base",
          "model_name": "LayoutModel",
          "state": {
            "_view_name": "LayoutView",
            "grid_template_rows": null,
            "right": null,
            "justify_content": null,
            "_view_module": "@jupyter-widgets/base",
            "overflow": null,
            "_model_module_version": "1.2.0",
            "_view_count": null,
            "flex_flow": null,
            "width": null,
            "min_width": null,
            "border": null,
            "align_items": null,
            "bottom": null,
            "_model_module": "@jupyter-widgets/base",
            "top": null,
            "grid_column": null,
            "overflow_y": null,
            "overflow_x": null,
            "grid_auto_flow": null,
            "grid_area": null,
            "grid_template_columns": null,
            "flex": null,
            "_model_name": "LayoutModel",
            "justify_items": null,
            "grid_row": null,
            "max_height": null,
            "align_content": null,
            "visibility": null,
            "align_self": null,
            "height": null,
            "min_height": null,
            "padding": null,
            "grid_auto_rows": null,
            "grid_gap": null,
            "max_width": null,
            "order": null,
            "_view_module_version": "1.2.0",
            "grid_template_areas": null,
            "object_position": null,
            "object_fit": null,
            "grid_auto_columns": null,
            "margin": null,
            "display": null,
            "left": null
          }
        },
        "2d9e5784bbb44dc49b224adf97a9d07b": {
          "model_module": "@jupyter-widgets/controls",
          "model_name": "DescriptionStyleModel",
          "state": {
            "_view_name": "StyleView",
            "_model_name": "DescriptionStyleModel",
            "description_width": "",
            "_view_module": "@jupyter-widgets/base",
            "_model_module_version": "1.5.0",
            "_view_count": null,
            "_view_module_version": "1.2.0",
            "_model_module": "@jupyter-widgets/controls"
          }
        },
        "74b8c7a3e8b948b6ad19fcbe94c3e914": {
          "model_module": "@jupyter-widgets/base",
          "model_name": "LayoutModel",
          "state": {
            "_view_name": "LayoutView",
            "grid_template_rows": null,
            "right": null,
            "justify_content": null,
            "_view_module": "@jupyter-widgets/base",
            "overflow": null,
            "_model_module_version": "1.2.0",
            "_view_count": null,
            "flex_flow": null,
            "width": null,
            "min_width": null,
            "border": null,
            "align_items": null,
            "bottom": null,
            "_model_module": "@jupyter-widgets/base",
            "top": null,
            "grid_column": null,
            "overflow_y": null,
            "overflow_x": null,
            "grid_auto_flow": null,
            "grid_area": null,
            "grid_template_columns": null,
            "flex": null,
            "_model_name": "LayoutModel",
            "justify_items": null,
            "grid_row": null,
            "max_height": null,
            "align_content": null,
            "visibility": null,
            "align_self": null,
            "height": null,
            "min_height": null,
            "padding": null,
            "grid_auto_rows": null,
            "grid_gap": null,
            "max_width": null,
            "order": null,
            "_view_module_version": "1.2.0",
            "grid_template_areas": null,
            "object_position": null,
            "object_fit": null,
            "grid_auto_columns": null,
            "margin": null,
            "display": null,
            "left": null
          }
        },
        "7336cd85a40e44a188c7f6e864df9e5f": {
          "model_module": "@jupyter-widgets/controls",
          "model_name": "HBoxModel",
          "state": {
            "_view_name": "HBoxView",
            "_dom_classes": [],
            "_model_name": "HBoxModel",
            "_view_module": "@jupyter-widgets/controls",
            "_model_module_version": "1.5.0",
            "_view_count": null,
            "_view_module_version": "1.5.0",
            "box_style": "",
            "layout": "IPY_MODEL_27fe9b562f524f0ab320f298717b96f5",
            "_model_module": "@jupyter-widgets/controls",
            "children": [
              "IPY_MODEL_3d63584b4784438da0cf055c10adf37d",
              "IPY_MODEL_7557c03235c94a6a9ec88f2210045d68"
            ]
          }
        },
        "27fe9b562f524f0ab320f298717b96f5": {
          "model_module": "@jupyter-widgets/base",
          "model_name": "LayoutModel",
          "state": {
            "_view_name": "LayoutView",
            "grid_template_rows": null,
            "right": null,
            "justify_content": null,
            "_view_module": "@jupyter-widgets/base",
            "overflow": null,
            "_model_module_version": "1.2.0",
            "_view_count": null,
            "flex_flow": null,
            "width": null,
            "min_width": null,
            "border": null,
            "align_items": null,
            "bottom": null,
            "_model_module": "@jupyter-widgets/base",
            "top": null,
            "grid_column": null,
            "overflow_y": null,
            "overflow_x": null,
            "grid_auto_flow": null,
            "grid_area": null,
            "grid_template_columns": null,
            "flex": null,
            "_model_name": "LayoutModel",
            "justify_items": null,
            "grid_row": null,
            "max_height": null,
            "align_content": null,
            "visibility": null,
            "align_self": null,
            "height": null,
            "min_height": null,
            "padding": null,
            "grid_auto_rows": null,
            "grid_gap": null,
            "max_width": null,
            "order": null,
            "_view_module_version": "1.2.0",
            "grid_template_areas": null,
            "object_position": null,
            "object_fit": null,
            "grid_auto_columns": null,
            "margin": null,
            "display": null,
            "left": null
          }
        },
        "3d63584b4784438da0cf055c10adf37d": {
          "model_module": "@jupyter-widgets/controls",
          "model_name": "FloatProgressModel",
          "state": {
            "_view_name": "ProgressView",
            "style": "IPY_MODEL_8def61adcb374bc7ba3d873c763b0c6d",
            "_dom_classes": [],
            "description": "Downloading: 100%",
            "_model_name": "FloatProgressModel",
            "bar_style": "success",
            "max": 760289,
            "_view_module": "@jupyter-widgets/controls",
            "_model_module_version": "1.5.0",
            "value": 760289,
            "_view_count": null,
            "_view_module_version": "1.5.0",
            "orientation": "horizontal",
            "min": 0,
            "description_tooltip": null,
            "_model_module": "@jupyter-widgets/controls",
            "layout": "IPY_MODEL_b7126615f9684ea18462cdf3ed044583"
          }
        },
        "7557c03235c94a6a9ec88f2210045d68": {
          "model_module": "@jupyter-widgets/controls",
          "model_name": "HTMLModel",
          "state": {
            "_view_name": "HTMLView",
            "style": "IPY_MODEL_00165f5e575b42d6ac37f974747d74fb",
            "_dom_classes": [],
            "description": "",
            "_model_name": "HTMLModel",
            "placeholder": "​",
            "_view_module": "@jupyter-widgets/controls",
            "_model_module_version": "1.5.0",
            "value": " 760k/760k [00:02&lt;00:00, 343kB/s]",
            "_view_count": null,
            "_view_module_version": "1.5.0",
            "description_tooltip": null,
            "_model_module": "@jupyter-widgets/controls",
            "layout": "IPY_MODEL_c2a2fc33b10d4056b6c42e9d3975caf0"
          }
        },
        "8def61adcb374bc7ba3d873c763b0c6d": {
          "model_module": "@jupyter-widgets/controls",
          "model_name": "ProgressStyleModel",
          "state": {
            "_view_name": "StyleView",
            "_model_name": "ProgressStyleModel",
            "description_width": "initial",
            "_view_module": "@jupyter-widgets/base",
            "_model_module_version": "1.5.0",
            "_view_count": null,
            "_view_module_version": "1.2.0",
            "bar_color": null,
            "_model_module": "@jupyter-widgets/controls"
          }
        },
        "b7126615f9684ea18462cdf3ed044583": {
          "model_module": "@jupyter-widgets/base",
          "model_name": "LayoutModel",
          "state": {
            "_view_name": "LayoutView",
            "grid_template_rows": null,
            "right": null,
            "justify_content": null,
            "_view_module": "@jupyter-widgets/base",
            "overflow": null,
            "_model_module_version": "1.2.0",
            "_view_count": null,
            "flex_flow": null,
            "width": null,
            "min_width": null,
            "border": null,
            "align_items": null,
            "bottom": null,
            "_model_module": "@jupyter-widgets/base",
            "top": null,
            "grid_column": null,
            "overflow_y": null,
            "overflow_x": null,
            "grid_auto_flow": null,
            "grid_area": null,
            "grid_template_columns": null,
            "flex": null,
            "_model_name": "LayoutModel",
            "justify_items": null,
            "grid_row": null,
            "max_height": null,
            "align_content": null,
            "visibility": null,
            "align_self": null,
            "height": null,
            "min_height": null,
            "padding": null,
            "grid_auto_rows": null,
            "grid_gap": null,
            "max_width": null,
            "order": null,
            "_view_module_version": "1.2.0",
            "grid_template_areas": null,
            "object_position": null,
            "object_fit": null,
            "grid_auto_columns": null,
            "margin": null,
            "display": null,
            "left": null
          }
        },
        "00165f5e575b42d6ac37f974747d74fb": {
          "model_module": "@jupyter-widgets/controls",
          "model_name": "DescriptionStyleModel",
          "state": {
            "_view_name": "StyleView",
            "_model_name": "DescriptionStyleModel",
            "description_width": "",
            "_view_module": "@jupyter-widgets/base",
            "_model_module_version": "1.5.0",
            "_view_count": null,
            "_view_module_version": "1.2.0",
            "_model_module": "@jupyter-widgets/controls"
          }
        },
        "c2a2fc33b10d4056b6c42e9d3975caf0": {
          "model_module": "@jupyter-widgets/base",
          "model_name": "LayoutModel",
          "state": {
            "_view_name": "LayoutView",
            "grid_template_rows": null,
            "right": null,
            "justify_content": null,
            "_view_module": "@jupyter-widgets/base",
            "overflow": null,
            "_model_module_version": "1.2.0",
            "_view_count": null,
            "flex_flow": null,
            "width": null,
            "min_width": null,
            "border": null,
            "align_items": null,
            "bottom": null,
            "_model_module": "@jupyter-widgets/base",
            "top": null,
            "grid_column": null,
            "overflow_y": null,
            "overflow_x": null,
            "grid_auto_flow": null,
            "grid_area": null,
            "grid_template_columns": null,
            "flex": null,
            "_model_name": "LayoutModel",
            "justify_items": null,
            "grid_row": null,
            "max_height": null,
            "align_content": null,
            "visibility": null,
            "align_self": null,
            "height": null,
            "min_height": null,
            "padding": null,
            "grid_auto_rows": null,
            "grid_gap": null,
            "max_width": null,
            "order": null,
            "_view_module_version": "1.2.0",
            "grid_template_areas": null,
            "object_position": null,
            "object_fit": null,
            "grid_auto_columns": null,
            "margin": null,
            "display": null,
            "left": null
          }
        },
        "94ed9b7d20054e7fb147ebf0234cc8e0": {
          "model_module": "@jupyter-widgets/controls",
          "model_name": "HBoxModel",
          "state": {
            "_view_name": "HBoxView",
            "_dom_classes": [],
            "_model_name": "HBoxModel",
            "_view_module": "@jupyter-widgets/controls",
            "_model_module_version": "1.5.0",
            "_view_count": null,
            "_view_module_version": "1.5.0",
            "box_style": "",
            "layout": "IPY_MODEL_1a04f6ba28d142479409d354e4538801",
            "_model_module": "@jupyter-widgets/controls",
            "children": [
              "IPY_MODEL_5f88aa201e934da1bae09812e7dfd748",
              "IPY_MODEL_89fc1cee4c9e469bbf2b9d331c2406e2"
            ]
          }
        },
        "1a04f6ba28d142479409d354e4538801": {
          "model_module": "@jupyter-widgets/base",
          "model_name": "LayoutModel",
          "state": {
            "_view_name": "LayoutView",
            "grid_template_rows": null,
            "right": null,
            "justify_content": null,
            "_view_module": "@jupyter-widgets/base",
            "overflow": null,
            "_model_module_version": "1.2.0",
            "_view_count": null,
            "flex_flow": null,
            "width": null,
            "min_width": null,
            "border": null,
            "align_items": null,
            "bottom": null,
            "_model_module": "@jupyter-widgets/base",
            "top": null,
            "grid_column": null,
            "overflow_y": null,
            "overflow_x": null,
            "grid_auto_flow": null,
            "grid_area": null,
            "grid_template_columns": null,
            "flex": null,
            "_model_name": "LayoutModel",
            "justify_items": null,
            "grid_row": null,
            "max_height": null,
            "align_content": null,
            "visibility": null,
            "align_self": null,
            "height": null,
            "min_height": null,
            "padding": null,
            "grid_auto_rows": null,
            "grid_gap": null,
            "max_width": null,
            "order": null,
            "_view_module_version": "1.2.0",
            "grid_template_areas": null,
            "object_position": null,
            "object_fit": null,
            "grid_auto_columns": null,
            "margin": null,
            "display": null,
            "left": null
          }
        },
        "5f88aa201e934da1bae09812e7dfd748": {
          "model_module": "@jupyter-widgets/controls",
          "model_name": "FloatProgressModel",
          "state": {
            "_view_name": "ProgressView",
            "style": "IPY_MODEL_07ecdfecd955434cb96fe8cfbe3dd805",
            "_dom_classes": [],
            "description": "Downloading: 100%",
            "_model_name": "FloatProgressModel",
            "bar_style": "success",
            "max": 156,
            "_view_module": "@jupyter-widgets/controls",
            "_model_module_version": "1.5.0",
            "value": 156,
            "_view_count": null,
            "_view_module_version": "1.5.0",
            "orientation": "horizontal",
            "min": 0,
            "description_tooltip": null,
            "_model_module": "@jupyter-widgets/controls",
            "layout": "IPY_MODEL_740abfc19c2e411e9287e1850c493a3a"
          }
        },
        "89fc1cee4c9e469bbf2b9d331c2406e2": {
          "model_module": "@jupyter-widgets/controls",
          "model_name": "HTMLModel",
          "state": {
            "_view_name": "HTMLView",
            "style": "IPY_MODEL_d9a87b07f5f042e985ee745cecf8bb3a",
            "_dom_classes": [],
            "description": "",
            "_model_name": "HTMLModel",
            "placeholder": "​",
            "_view_module": "@jupyter-widgets/controls",
            "_model_module_version": "1.5.0",
            "value": " 156/156 [00:00&lt;00:00, 209B/s]",
            "_view_count": null,
            "_view_module_version": "1.5.0",
            "description_tooltip": null,
            "_model_module": "@jupyter-widgets/controls",
            "layout": "IPY_MODEL_02ccbca0c9874b849d39d8666b50dbb4"
          }
        },
        "07ecdfecd955434cb96fe8cfbe3dd805": {
          "model_module": "@jupyter-widgets/controls",
          "model_name": "ProgressStyleModel",
          "state": {
            "_view_name": "StyleView",
            "_model_name": "ProgressStyleModel",
            "description_width": "initial",
            "_view_module": "@jupyter-widgets/base",
            "_model_module_version": "1.5.0",
            "_view_count": null,
            "_view_module_version": "1.2.0",
            "bar_color": null,
            "_model_module": "@jupyter-widgets/controls"
          }
        },
        "740abfc19c2e411e9287e1850c493a3a": {
          "model_module": "@jupyter-widgets/base",
          "model_name": "LayoutModel",
          "state": {
            "_view_name": "LayoutView",
            "grid_template_rows": null,
            "right": null,
            "justify_content": null,
            "_view_module": "@jupyter-widgets/base",
            "overflow": null,
            "_model_module_version": "1.2.0",
            "_view_count": null,
            "flex_flow": null,
            "width": null,
            "min_width": null,
            "border": null,
            "align_items": null,
            "bottom": null,
            "_model_module": "@jupyter-widgets/base",
            "top": null,
            "grid_column": null,
            "overflow_y": null,
            "overflow_x": null,
            "grid_auto_flow": null,
            "grid_area": null,
            "grid_template_columns": null,
            "flex": null,
            "_model_name": "LayoutModel",
            "justify_items": null,
            "grid_row": null,
            "max_height": null,
            "align_content": null,
            "visibility": null,
            "align_self": null,
            "height": null,
            "min_height": null,
            "padding": null,
            "grid_auto_rows": null,
            "grid_gap": null,
            "max_width": null,
            "order": null,
            "_view_module_version": "1.2.0",
            "grid_template_areas": null,
            "object_position": null,
            "object_fit": null,
            "grid_auto_columns": null,
            "margin": null,
            "display": null,
            "left": null
          }
        },
        "d9a87b07f5f042e985ee745cecf8bb3a": {
          "model_module": "@jupyter-widgets/controls",
          "model_name": "DescriptionStyleModel",
          "state": {
            "_view_name": "StyleView",
            "_model_name": "DescriptionStyleModel",
            "description_width": "",
            "_view_module": "@jupyter-widgets/base",
            "_model_module_version": "1.5.0",
            "_view_count": null,
            "_view_module_version": "1.2.0",
            "_model_module": "@jupyter-widgets/controls"
          }
        },
        "02ccbca0c9874b849d39d8666b50dbb4": {
          "model_module": "@jupyter-widgets/base",
          "model_name": "LayoutModel",
          "state": {
            "_view_name": "LayoutView",
            "grid_template_rows": null,
            "right": null,
            "justify_content": null,
            "_view_module": "@jupyter-widgets/base",
            "overflow": null,
            "_model_module_version": "1.2.0",
            "_view_count": null,
            "flex_flow": null,
            "width": null,
            "min_width": null,
            "border": null,
            "align_items": null,
            "bottom": null,
            "_model_module": "@jupyter-widgets/base",
            "top": null,
            "grid_column": null,
            "overflow_y": null,
            "overflow_x": null,
            "grid_auto_flow": null,
            "grid_area": null,
            "grid_template_columns": null,
            "flex": null,
            "_model_name": "LayoutModel",
            "justify_items": null,
            "grid_row": null,
            "max_height": null,
            "align_content": null,
            "visibility": null,
            "align_self": null,
            "height": null,
            "min_height": null,
            "padding": null,
            "grid_auto_rows": null,
            "grid_gap": null,
            "max_width": null,
            "order": null,
            "_view_module_version": "1.2.0",
            "grid_template_areas": null,
            "object_position": null,
            "object_fit": null,
            "grid_auto_columns": null,
            "margin": null,
            "display": null,
            "left": null
          }
        },
        "57cabde6e5b74117aca9a86cf4026207": {
          "model_module": "@jupyter-widgets/controls",
          "model_name": "HBoxModel",
          "state": {
            "_view_name": "HBoxView",
            "_dom_classes": [],
            "_model_name": "HBoxModel",
            "_view_module": "@jupyter-widgets/controls",
            "_model_module_version": "1.5.0",
            "_view_count": null,
            "_view_module_version": "1.5.0",
            "box_style": "",
            "layout": "IPY_MODEL_c1e6472d298b4c249580d5cefd001dce",
            "_model_module": "@jupyter-widgets/controls",
            "children": [
              "IPY_MODEL_a4f729abf59a4f3d99abc0e7abf6c775",
              "IPY_MODEL_d9e9afdfff594241b49cd9e5fcb31f53"
            ]
          }
        },
        "c1e6472d298b4c249580d5cefd001dce": {
          "model_module": "@jupyter-widgets/base",
          "model_name": "LayoutModel",
          "state": {
            "_view_name": "LayoutView",
            "grid_template_rows": null,
            "right": null,
            "justify_content": null,
            "_view_module": "@jupyter-widgets/base",
            "overflow": null,
            "_model_module_version": "1.2.0",
            "_view_count": null,
            "flex_flow": null,
            "width": null,
            "min_width": null,
            "border": null,
            "align_items": null,
            "bottom": null,
            "_model_module": "@jupyter-widgets/base",
            "top": null,
            "grid_column": null,
            "overflow_y": null,
            "overflow_x": null,
            "grid_auto_flow": null,
            "grid_area": null,
            "grid_template_columns": null,
            "flex": null,
            "_model_name": "LayoutModel",
            "justify_items": null,
            "grid_row": null,
            "max_height": null,
            "align_content": null,
            "visibility": null,
            "align_self": null,
            "height": null,
            "min_height": null,
            "padding": null,
            "grid_auto_rows": null,
            "grid_gap": null,
            "max_width": null,
            "order": null,
            "_view_module_version": "1.2.0",
            "grid_template_areas": null,
            "object_position": null,
            "object_fit": null,
            "grid_auto_columns": null,
            "margin": null,
            "display": null,
            "left": null
          }
        },
        "a4f729abf59a4f3d99abc0e7abf6c775": {
          "model_module": "@jupyter-widgets/controls",
          "model_name": "FloatProgressModel",
          "state": {
            "_view_name": "ProgressView",
            "style": "IPY_MODEL_a3dd5c2d49a047f88d60b6f4e8557ccd",
            "_dom_classes": [],
            "description": "Downloading: 100%",
            "_model_name": "FloatProgressModel",
            "bar_style": "success",
            "max": 25,
            "_view_module": "@jupyter-widgets/controls",
            "_model_module_version": "1.5.0",
            "value": 25,
            "_view_count": null,
            "_view_module_version": "1.5.0",
            "orientation": "horizontal",
            "min": 0,
            "description_tooltip": null,
            "_model_module": "@jupyter-widgets/controls",
            "layout": "IPY_MODEL_5ed8964f6db842a69d13ad4bdee8efcc"
          }
        },
        "d9e9afdfff594241b49cd9e5fcb31f53": {
          "model_module": "@jupyter-widgets/controls",
          "model_name": "HTMLModel",
          "state": {
            "_view_name": "HTMLView",
            "style": "IPY_MODEL_8aab630b827b4fe796920ffbb5dd167a",
            "_dom_classes": [],
            "description": "",
            "_model_name": "HTMLModel",
            "placeholder": "​",
            "_view_module": "@jupyter-widgets/controls",
            "_model_module_version": "1.5.0",
            "value": " 25.0/25.0 [00:00&lt;00:00, 138B/s]",
            "_view_count": null,
            "_view_module_version": "1.5.0",
            "description_tooltip": null,
            "_model_module": "@jupyter-widgets/controls",
            "layout": "IPY_MODEL_41657522f00f4ebeaa8ad6ff175252c2"
          }
        },
        "a3dd5c2d49a047f88d60b6f4e8557ccd": {
          "model_module": "@jupyter-widgets/controls",
          "model_name": "ProgressStyleModel",
          "state": {
            "_view_name": "StyleView",
            "_model_name": "ProgressStyleModel",
            "description_width": "initial",
            "_view_module": "@jupyter-widgets/base",
            "_model_module_version": "1.5.0",
            "_view_count": null,
            "_view_module_version": "1.2.0",
            "bar_color": null,
            "_model_module": "@jupyter-widgets/controls"
          }
        },
        "5ed8964f6db842a69d13ad4bdee8efcc": {
          "model_module": "@jupyter-widgets/base",
          "model_name": "LayoutModel",
          "state": {
            "_view_name": "LayoutView",
            "grid_template_rows": null,
            "right": null,
            "justify_content": null,
            "_view_module": "@jupyter-widgets/base",
            "overflow": null,
            "_model_module_version": "1.2.0",
            "_view_count": null,
            "flex_flow": null,
            "width": null,
            "min_width": null,
            "border": null,
            "align_items": null,
            "bottom": null,
            "_model_module": "@jupyter-widgets/base",
            "top": null,
            "grid_column": null,
            "overflow_y": null,
            "overflow_x": null,
            "grid_auto_flow": null,
            "grid_area": null,
            "grid_template_columns": null,
            "flex": null,
            "_model_name": "LayoutModel",
            "justify_items": null,
            "grid_row": null,
            "max_height": null,
            "align_content": null,
            "visibility": null,
            "align_self": null,
            "height": null,
            "min_height": null,
            "padding": null,
            "grid_auto_rows": null,
            "grid_gap": null,
            "max_width": null,
            "order": null,
            "_view_module_version": "1.2.0",
            "grid_template_areas": null,
            "object_position": null,
            "object_fit": null,
            "grid_auto_columns": null,
            "margin": null,
            "display": null,
            "left": null
          }
        },
        "8aab630b827b4fe796920ffbb5dd167a": {
          "model_module": "@jupyter-widgets/controls",
          "model_name": "DescriptionStyleModel",
          "state": {
            "_view_name": "StyleView",
            "_model_name": "DescriptionStyleModel",
            "description_width": "",
            "_view_module": "@jupyter-widgets/base",
            "_model_module_version": "1.5.0",
            "_view_count": null,
            "_view_module_version": "1.2.0",
            "_model_module": "@jupyter-widgets/controls"
          }
        },
        "41657522f00f4ebeaa8ad6ff175252c2": {
          "model_module": "@jupyter-widgets/base",
          "model_name": "LayoutModel",
          "state": {
            "_view_name": "LayoutView",
            "grid_template_rows": null,
            "right": null,
            "justify_content": null,
            "_view_module": "@jupyter-widgets/base",
            "overflow": null,
            "_model_module_version": "1.2.0",
            "_view_count": null,
            "flex_flow": null,
            "width": null,
            "min_width": null,
            "border": null,
            "align_items": null,
            "bottom": null,
            "_model_module": "@jupyter-widgets/base",
            "top": null,
            "grid_column": null,
            "overflow_y": null,
            "overflow_x": null,
            "grid_auto_flow": null,
            "grid_area": null,
            "grid_template_columns": null,
            "flex": null,
            "_model_name": "LayoutModel",
            "justify_items": null,
            "grid_row": null,
            "max_height": null,
            "align_content": null,
            "visibility": null,
            "align_self": null,
            "height": null,
            "min_height": null,
            "padding": null,
            "grid_auto_rows": null,
            "grid_gap": null,
            "max_width": null,
            "order": null,
            "_view_module_version": "1.2.0",
            "grid_template_areas": null,
            "object_position": null,
            "object_fit": null,
            "grid_auto_columns": null,
            "margin": null,
            "display": null,
            "left": null
          }
        },
        "516092a3d3964e4ca67d6983537dc9e7": {
          "model_module": "@jupyter-widgets/controls",
          "model_name": "HBoxModel",
          "state": {
            "_view_name": "HBoxView",
            "_dom_classes": [],
            "_model_name": "HBoxModel",
            "_view_module": "@jupyter-widgets/controls",
            "_model_module_version": "1.5.0",
            "_view_count": null,
            "_view_module_version": "1.5.0",
            "box_style": "",
            "layout": "IPY_MODEL_8a32d7401cdf492496917ba83e74cf10",
            "_model_module": "@jupyter-widgets/controls",
            "children": [
              "IPY_MODEL_ca6543065d2d4298a776de22c2724cc8",
              "IPY_MODEL_249531757a78475da9d8f54818e7f161"
            ]
          }
        },
        "8a32d7401cdf492496917ba83e74cf10": {
          "model_module": "@jupyter-widgets/base",
          "model_name": "LayoutModel",
          "state": {
            "_view_name": "LayoutView",
            "grid_template_rows": null,
            "right": null,
            "justify_content": null,
            "_view_module": "@jupyter-widgets/base",
            "overflow": null,
            "_model_module_version": "1.2.0",
            "_view_count": null,
            "flex_flow": null,
            "width": null,
            "min_width": null,
            "border": null,
            "align_items": null,
            "bottom": null,
            "_model_module": "@jupyter-widgets/base",
            "top": null,
            "grid_column": null,
            "overflow_y": null,
            "overflow_x": null,
            "grid_auto_flow": null,
            "grid_area": null,
            "grid_template_columns": null,
            "flex": null,
            "_model_name": "LayoutModel",
            "justify_items": null,
            "grid_row": null,
            "max_height": null,
            "align_content": null,
            "visibility": null,
            "align_self": null,
            "height": null,
            "min_height": null,
            "padding": null,
            "grid_auto_rows": null,
            "grid_gap": null,
            "max_width": null,
            "order": null,
            "_view_module_version": "1.2.0",
            "grid_template_areas": null,
            "object_position": null,
            "object_fit": null,
            "grid_auto_columns": null,
            "margin": null,
            "display": null,
            "left": null
          }
        },
        "ca6543065d2d4298a776de22c2724cc8": {
          "model_module": "@jupyter-widgets/controls",
          "model_name": "FloatProgressModel",
          "state": {
            "_view_name": "ProgressView",
            "style": "IPY_MODEL_d834f8b3f8da4b05bbba90f55f44f6af",
            "_dom_classes": [],
            "description": "Downloading: ",
            "_model_name": "FloatProgressModel",
            "bar_style": "success",
            "max": 1867,
            "_view_module": "@jupyter-widgets/controls",
            "_model_module_version": "1.5.0",
            "value": 1867,
            "_view_count": null,
            "_view_module_version": "1.5.0",
            "orientation": "horizontal",
            "min": 0,
            "description_tooltip": null,
            "_model_module": "@jupyter-widgets/controls",
            "layout": "IPY_MODEL_4b0f7670d6a043128c7da345ab9475e5"
          }
        },
        "249531757a78475da9d8f54818e7f161": {
          "model_module": "@jupyter-widgets/controls",
          "model_name": "HTMLModel",
          "state": {
            "_view_name": "HTMLView",
            "style": "IPY_MODEL_a81c3735a32844fba0f6ac783d322ec0",
            "_dom_classes": [],
            "description": "",
            "_model_name": "HTMLModel",
            "placeholder": "​",
            "_view_module": "@jupyter-widgets/controls",
            "_model_module_version": "1.5.0",
            "value": " 4.61k/? [00:31&lt;00:00, 145B/s]",
            "_view_count": null,
            "_view_module_version": "1.5.0",
            "description_tooltip": null,
            "_model_module": "@jupyter-widgets/controls",
            "layout": "IPY_MODEL_cc6b4545e4414f1389a0cd4273bbcff3"
          }
        },
        "d834f8b3f8da4b05bbba90f55f44f6af": {
          "model_module": "@jupyter-widgets/controls",
          "model_name": "ProgressStyleModel",
          "state": {
            "_view_name": "StyleView",
            "_model_name": "ProgressStyleModel",
            "description_width": "initial",
            "_view_module": "@jupyter-widgets/base",
            "_model_module_version": "1.5.0",
            "_view_count": null,
            "_view_module_version": "1.2.0",
            "bar_color": null,
            "_model_module": "@jupyter-widgets/controls"
          }
        },
        "4b0f7670d6a043128c7da345ab9475e5": {
          "model_module": "@jupyter-widgets/base",
          "model_name": "LayoutModel",
          "state": {
            "_view_name": "LayoutView",
            "grid_template_rows": null,
            "right": null,
            "justify_content": null,
            "_view_module": "@jupyter-widgets/base",
            "overflow": null,
            "_model_module_version": "1.2.0",
            "_view_count": null,
            "flex_flow": null,
            "width": null,
            "min_width": null,
            "border": null,
            "align_items": null,
            "bottom": null,
            "_model_module": "@jupyter-widgets/base",
            "top": null,
            "grid_column": null,
            "overflow_y": null,
            "overflow_x": null,
            "grid_auto_flow": null,
            "grid_area": null,
            "grid_template_columns": null,
            "flex": null,
            "_model_name": "LayoutModel",
            "justify_items": null,
            "grid_row": null,
            "max_height": null,
            "align_content": null,
            "visibility": null,
            "align_self": null,
            "height": null,
            "min_height": null,
            "padding": null,
            "grid_auto_rows": null,
            "grid_gap": null,
            "max_width": null,
            "order": null,
            "_view_module_version": "1.2.0",
            "grid_template_areas": null,
            "object_position": null,
            "object_fit": null,
            "grid_auto_columns": null,
            "margin": null,
            "display": null,
            "left": null
          }
        },
        "a81c3735a32844fba0f6ac783d322ec0": {
          "model_module": "@jupyter-widgets/controls",
          "model_name": "DescriptionStyleModel",
          "state": {
            "_view_name": "StyleView",
            "_model_name": "DescriptionStyleModel",
            "description_width": "",
            "_view_module": "@jupyter-widgets/base",
            "_model_module_version": "1.5.0",
            "_view_count": null,
            "_view_module_version": "1.2.0",
            "_model_module": "@jupyter-widgets/controls"
          }
        },
        "cc6b4545e4414f1389a0cd4273bbcff3": {
          "model_module": "@jupyter-widgets/base",
          "model_name": "LayoutModel",
          "state": {
            "_view_name": "LayoutView",
            "grid_template_rows": null,
            "right": null,
            "justify_content": null,
            "_view_module": "@jupyter-widgets/base",
            "overflow": null,
            "_model_module_version": "1.2.0",
            "_view_count": null,
            "flex_flow": null,
            "width": null,
            "min_width": null,
            "border": null,
            "align_items": null,
            "bottom": null,
            "_model_module": "@jupyter-widgets/base",
            "top": null,
            "grid_column": null,
            "overflow_y": null,
            "overflow_x": null,
            "grid_auto_flow": null,
            "grid_area": null,
            "grid_template_columns": null,
            "flex": null,
            "_model_name": "LayoutModel",
            "justify_items": null,
            "grid_row": null,
            "max_height": null,
            "align_content": null,
            "visibility": null,
            "align_self": null,
            "height": null,
            "min_height": null,
            "padding": null,
            "grid_auto_rows": null,
            "grid_gap": null,
            "max_width": null,
            "order": null,
            "_view_module_version": "1.2.0",
            "grid_template_areas": null,
            "object_position": null,
            "object_fit": null,
            "grid_auto_columns": null,
            "margin": null,
            "display": null,
            "left": null
          }
        },
        "d139f585285d46b881003a2da2ff8b87": {
          "model_module": "@jupyter-widgets/controls",
          "model_name": "HBoxModel",
          "state": {
            "_view_name": "HBoxView",
            "_dom_classes": [],
            "_model_name": "HBoxModel",
            "_view_module": "@jupyter-widgets/controls",
            "_model_module_version": "1.5.0",
            "_view_count": null,
            "_view_module_version": "1.5.0",
            "box_style": "",
            "layout": "IPY_MODEL_c7637bf65f224f1999333031b8c3c9c7",
            "_model_module": "@jupyter-widgets/controls",
            "children": [
              "IPY_MODEL_acf080ca946647ec9cdb714b3ab5ca60",
              "IPY_MODEL_a689677eabf34e188cbb879ed6f37b5f"
            ]
          }
        },
        "c7637bf65f224f1999333031b8c3c9c7": {
          "model_module": "@jupyter-widgets/base",
          "model_name": "LayoutModel",
          "state": {
            "_view_name": "LayoutView",
            "grid_template_rows": null,
            "right": null,
            "justify_content": null,
            "_view_module": "@jupyter-widgets/base",
            "overflow": null,
            "_model_module_version": "1.2.0",
            "_view_count": null,
            "flex_flow": null,
            "width": null,
            "min_width": null,
            "border": null,
            "align_items": null,
            "bottom": null,
            "_model_module": "@jupyter-widgets/base",
            "top": null,
            "grid_column": null,
            "overflow_y": null,
            "overflow_x": null,
            "grid_auto_flow": null,
            "grid_area": null,
            "grid_template_columns": null,
            "flex": null,
            "_model_name": "LayoutModel",
            "justify_items": null,
            "grid_row": null,
            "max_height": null,
            "align_content": null,
            "visibility": null,
            "align_self": null,
            "height": null,
            "min_height": null,
            "padding": null,
            "grid_auto_rows": null,
            "grid_gap": null,
            "max_width": null,
            "order": null,
            "_view_module_version": "1.2.0",
            "grid_template_areas": null,
            "object_position": null,
            "object_fit": null,
            "grid_auto_columns": null,
            "margin": null,
            "display": null,
            "left": null
          }
        },
        "acf080ca946647ec9cdb714b3ab5ca60": {
          "model_module": "@jupyter-widgets/controls",
          "model_name": "FloatProgressModel",
          "state": {
            "_view_name": "ProgressView",
            "style": "IPY_MODEL_35e6ae796b7440078c98a81cf6ebb82c",
            "_dom_classes": [],
            "description": "Downloading: ",
            "_model_name": "FloatProgressModel",
            "bar_style": "success",
            "max": 1004,
            "_view_module": "@jupyter-widgets/controls",
            "_model_module_version": "1.5.0",
            "value": 1004,
            "_view_count": null,
            "_view_module_version": "1.5.0",
            "orientation": "horizontal",
            "min": 0,
            "description_tooltip": null,
            "_model_module": "@jupyter-widgets/controls",
            "layout": "IPY_MODEL_d52b529d374c49f4a4feef76a1e3eb0d"
          }
        },
        "a689677eabf34e188cbb879ed6f37b5f": {
          "model_module": "@jupyter-widgets/controls",
          "model_name": "HTMLModel",
          "state": {
            "_view_name": "HTMLView",
            "style": "IPY_MODEL_28da7fcce54f459399ba39e8fce549f9",
            "_dom_classes": [],
            "description": "",
            "_model_name": "HTMLModel",
            "placeholder": "​",
            "_view_module": "@jupyter-widgets/controls",
            "_model_module_version": "1.5.0",
            "value": " 2.02k/? [00:00&lt;00:00, 2.10kB/s]",
            "_view_count": null,
            "_view_module_version": "1.5.0",
            "description_tooltip": null,
            "_model_module": "@jupyter-widgets/controls",
            "layout": "IPY_MODEL_d34a1b8794174d1f8f4ed7dda6027f52"
          }
        },
        "35e6ae796b7440078c98a81cf6ebb82c": {
          "model_module": "@jupyter-widgets/controls",
          "model_name": "ProgressStyleModel",
          "state": {
            "_view_name": "StyleView",
            "_model_name": "ProgressStyleModel",
            "description_width": "initial",
            "_view_module": "@jupyter-widgets/base",
            "_model_module_version": "1.5.0",
            "_view_count": null,
            "_view_module_version": "1.2.0",
            "bar_color": null,
            "_model_module": "@jupyter-widgets/controls"
          }
        },
        "d52b529d374c49f4a4feef76a1e3eb0d": {
          "model_module": "@jupyter-widgets/base",
          "model_name": "LayoutModel",
          "state": {
            "_view_name": "LayoutView",
            "grid_template_rows": null,
            "right": null,
            "justify_content": null,
            "_view_module": "@jupyter-widgets/base",
            "overflow": null,
            "_model_module_version": "1.2.0",
            "_view_count": null,
            "flex_flow": null,
            "width": null,
            "min_width": null,
            "border": null,
            "align_items": null,
            "bottom": null,
            "_model_module": "@jupyter-widgets/base",
            "top": null,
            "grid_column": null,
            "overflow_y": null,
            "overflow_x": null,
            "grid_auto_flow": null,
            "grid_area": null,
            "grid_template_columns": null,
            "flex": null,
            "_model_name": "LayoutModel",
            "justify_items": null,
            "grid_row": null,
            "max_height": null,
            "align_content": null,
            "visibility": null,
            "align_self": null,
            "height": null,
            "min_height": null,
            "padding": null,
            "grid_auto_rows": null,
            "grid_gap": null,
            "max_width": null,
            "order": null,
            "_view_module_version": "1.2.0",
            "grid_template_areas": null,
            "object_position": null,
            "object_fit": null,
            "grid_auto_columns": null,
            "margin": null,
            "display": null,
            "left": null
          }
        },
        "28da7fcce54f459399ba39e8fce549f9": {
          "model_module": "@jupyter-widgets/controls",
          "model_name": "DescriptionStyleModel",
          "state": {
            "_view_name": "StyleView",
            "_model_name": "DescriptionStyleModel",
            "description_width": "",
            "_view_module": "@jupyter-widgets/base",
            "_model_module_version": "1.5.0",
            "_view_count": null,
            "_view_module_version": "1.2.0",
            "_model_module": "@jupyter-widgets/controls"
          }
        },
        "d34a1b8794174d1f8f4ed7dda6027f52": {
          "model_module": "@jupyter-widgets/base",
          "model_name": "LayoutModel",
          "state": {
            "_view_name": "LayoutView",
            "grid_template_rows": null,
            "right": null,
            "justify_content": null,
            "_view_module": "@jupyter-widgets/base",
            "overflow": null,
            "_model_module_version": "1.2.0",
            "_view_count": null,
            "flex_flow": null,
            "width": null,
            "min_width": null,
            "border": null,
            "align_items": null,
            "bottom": null,
            "_model_module": "@jupyter-widgets/base",
            "top": null,
            "grid_column": null,
            "overflow_y": null,
            "overflow_x": null,
            "grid_auto_flow": null,
            "grid_area": null,
            "grid_template_columns": null,
            "flex": null,
            "_model_name": "LayoutModel",
            "justify_items": null,
            "grid_row": null,
            "max_height": null,
            "align_content": null,
            "visibility": null,
            "align_self": null,
            "height": null,
            "min_height": null,
            "padding": null,
            "grid_auto_rows": null,
            "grid_gap": null,
            "max_width": null,
            "order": null,
            "_view_module_version": "1.2.0",
            "grid_template_areas": null,
            "object_position": null,
            "object_fit": null,
            "grid_auto_columns": null,
            "margin": null,
            "display": null,
            "left": null
          }
        },
        "31a658c7681d41749082929e992d3609": {
          "model_module": "@jupyter-widgets/controls",
          "model_name": "HBoxModel",
          "state": {
            "_view_name": "HBoxView",
            "_dom_classes": [],
            "_model_name": "HBoxModel",
            "_view_module": "@jupyter-widgets/controls",
            "_model_module_version": "1.5.0",
            "_view_count": null,
            "_view_module_version": "1.5.0",
            "box_style": "",
            "layout": "IPY_MODEL_4625089369344863b95b52d72cc7364e",
            "_model_module": "@jupyter-widgets/controls",
            "children": [
              "IPY_MODEL_4fd84a87687b4bdc9b0dae6f6afe74a2",
              "IPY_MODEL_f4aab453c92b4f81806986092bcef21f"
            ]
          }
        },
        "4625089369344863b95b52d72cc7364e": {
          "model_module": "@jupyter-widgets/base",
          "model_name": "LayoutModel",
          "state": {
            "_view_name": "LayoutView",
            "grid_template_rows": null,
            "right": null,
            "justify_content": null,
            "_view_module": "@jupyter-widgets/base",
            "overflow": null,
            "_model_module_version": "1.2.0",
            "_view_count": null,
            "flex_flow": null,
            "width": null,
            "min_width": null,
            "border": null,
            "align_items": null,
            "bottom": null,
            "_model_module": "@jupyter-widgets/base",
            "top": null,
            "grid_column": null,
            "overflow_y": null,
            "overflow_x": null,
            "grid_auto_flow": null,
            "grid_area": null,
            "grid_template_columns": null,
            "flex": null,
            "_model_name": "LayoutModel",
            "justify_items": null,
            "grid_row": null,
            "max_height": null,
            "align_content": null,
            "visibility": null,
            "align_self": null,
            "height": null,
            "min_height": null,
            "padding": null,
            "grid_auto_rows": null,
            "grid_gap": null,
            "max_width": null,
            "order": null,
            "_view_module_version": "1.2.0",
            "grid_template_areas": null,
            "object_position": null,
            "object_fit": null,
            "grid_auto_columns": null,
            "margin": null,
            "display": null,
            "left": null
          }
        },
        "4fd84a87687b4bdc9b0dae6f6afe74a2": {
          "model_module": "@jupyter-widgets/controls",
          "model_name": "FloatProgressModel",
          "state": {
            "_view_name": "ProgressView",
            "style": "IPY_MODEL_f04af970fc1147aba2bcdc90351d98be",
            "_dom_classes": [],
            "description": "Downloading: 100%",
            "_model_name": "FloatProgressModel",
            "bar_style": "success",
            "max": 84125825,
            "_view_module": "@jupyter-widgets/controls",
            "_model_module_version": "1.5.0",
            "value": 84125825,
            "_view_count": null,
            "_view_module_version": "1.5.0",
            "orientation": "horizontal",
            "min": 0,
            "description_tooltip": null,
            "_model_module": "@jupyter-widgets/controls",
            "layout": "IPY_MODEL_184b3b78e95d4132a0bda93775d43cb4"
          }
        },
        "f4aab453c92b4f81806986092bcef21f": {
          "model_module": "@jupyter-widgets/controls",
          "model_name": "HTMLModel",
          "state": {
            "_view_name": "HTMLView",
            "style": "IPY_MODEL_bcff48328f7c4fbfb3273cc3dfb4e82d",
            "_dom_classes": [],
            "description": "",
            "_model_name": "HTMLModel",
            "placeholder": "​",
            "_view_module": "@jupyter-widgets/controls",
            "_model_module_version": "1.5.0",
            "value": " 84.1M/84.1M [00:29&lt;00:00, 2.90MB/s]",
            "_view_count": null,
            "_view_module_version": "1.5.0",
            "description_tooltip": null,
            "_model_module": "@jupyter-widgets/controls",
            "layout": "IPY_MODEL_73f815bd7edb482c8f0cf3dd46682d15"
          }
        },
        "f04af970fc1147aba2bcdc90351d98be": {
          "model_module": "@jupyter-widgets/controls",
          "model_name": "ProgressStyleModel",
          "state": {
            "_view_name": "StyleView",
            "_model_name": "ProgressStyleModel",
            "description_width": "initial",
            "_view_module": "@jupyter-widgets/base",
            "_model_module_version": "1.5.0",
            "_view_count": null,
            "_view_module_version": "1.2.0",
            "bar_color": null,
            "_model_module": "@jupyter-widgets/controls"
          }
        },
        "184b3b78e95d4132a0bda93775d43cb4": {
          "model_module": "@jupyter-widgets/base",
          "model_name": "LayoutModel",
          "state": {
            "_view_name": "LayoutView",
            "grid_template_rows": null,
            "right": null,
            "justify_content": null,
            "_view_module": "@jupyter-widgets/base",
            "overflow": null,
            "_model_module_version": "1.2.0",
            "_view_count": null,
            "flex_flow": null,
            "width": null,
            "min_width": null,
            "border": null,
            "align_items": null,
            "bottom": null,
            "_model_module": "@jupyter-widgets/base",
            "top": null,
            "grid_column": null,
            "overflow_y": null,
            "overflow_x": null,
            "grid_auto_flow": null,
            "grid_area": null,
            "grid_template_columns": null,
            "flex": null,
            "_model_name": "LayoutModel",
            "justify_items": null,
            "grid_row": null,
            "max_height": null,
            "align_content": null,
            "visibility": null,
            "align_self": null,
            "height": null,
            "min_height": null,
            "padding": null,
            "grid_auto_rows": null,
            "grid_gap": null,
            "max_width": null,
            "order": null,
            "_view_module_version": "1.2.0",
            "grid_template_areas": null,
            "object_position": null,
            "object_fit": null,
            "grid_auto_columns": null,
            "margin": null,
            "display": null,
            "left": null
          }
        },
        "bcff48328f7c4fbfb3273cc3dfb4e82d": {
          "model_module": "@jupyter-widgets/controls",
          "model_name": "DescriptionStyleModel",
          "state": {
            "_view_name": "StyleView",
            "_model_name": "DescriptionStyleModel",
            "description_width": "",
            "_view_module": "@jupyter-widgets/base",
            "_model_module_version": "1.5.0",
            "_view_count": null,
            "_view_module_version": "1.2.0",
            "_model_module": "@jupyter-widgets/controls"
          }
        },
        "73f815bd7edb482c8f0cf3dd46682d15": {
          "model_module": "@jupyter-widgets/base",
          "model_name": "LayoutModel",
          "state": {
            "_view_name": "LayoutView",
            "grid_template_rows": null,
            "right": null,
            "justify_content": null,
            "_view_module": "@jupyter-widgets/base",
            "overflow": null,
            "_model_module_version": "1.2.0",
            "_view_count": null,
            "flex_flow": null,
            "width": null,
            "min_width": null,
            "border": null,
            "align_items": null,
            "bottom": null,
            "_model_module": "@jupyter-widgets/base",
            "top": null,
            "grid_column": null,
            "overflow_y": null,
            "overflow_x": null,
            "grid_auto_flow": null,
            "grid_area": null,
            "grid_template_columns": null,
            "flex": null,
            "_model_name": "LayoutModel",
            "justify_items": null,
            "grid_row": null,
            "max_height": null,
            "align_content": null,
            "visibility": null,
            "align_self": null,
            "height": null,
            "min_height": null,
            "padding": null,
            "grid_auto_rows": null,
            "grid_gap": null,
            "max_width": null,
            "order": null,
            "_view_module_version": "1.2.0",
            "grid_template_areas": null,
            "object_position": null,
            "object_fit": null,
            "grid_auto_columns": null,
            "margin": null,
            "display": null,
            "left": null
          }
        },
        "9feee4fd24ca43eebc7dcfa3e5f9b7e3": {
          "model_module": "@jupyter-widgets/controls",
          "model_name": "HBoxModel",
          "state": {
            "_view_name": "HBoxView",
            "_dom_classes": [],
            "_model_name": "HBoxModel",
            "_view_module": "@jupyter-widgets/controls",
            "_model_module_version": "1.5.0",
            "_view_count": null,
            "_view_module_version": "1.5.0",
            "box_style": "",
            "layout": "IPY_MODEL_db132728e8fd451ea9e09f13fccf2790",
            "_model_module": "@jupyter-widgets/controls",
            "children": [
              "IPY_MODEL_10f1d16c1e90421ea76989a8b48e1e44",
              "IPY_MODEL_a0966cf98427472d81b8f2939ea4b158"
            ]
          }
        },
        "db132728e8fd451ea9e09f13fccf2790": {
          "model_module": "@jupyter-widgets/base",
          "model_name": "LayoutModel",
          "state": {
            "_view_name": "LayoutView",
            "grid_template_rows": null,
            "right": null,
            "justify_content": null,
            "_view_module": "@jupyter-widgets/base",
            "overflow": null,
            "_model_module_version": "1.2.0",
            "_view_count": null,
            "flex_flow": null,
            "width": null,
            "min_width": null,
            "border": null,
            "align_items": null,
            "bottom": null,
            "_model_module": "@jupyter-widgets/base",
            "top": null,
            "grid_column": null,
            "overflow_y": null,
            "overflow_x": null,
            "grid_auto_flow": null,
            "grid_area": null,
            "grid_template_columns": null,
            "flex": null,
            "_model_name": "LayoutModel",
            "justify_items": null,
            "grid_row": null,
            "max_height": null,
            "align_content": null,
            "visibility": null,
            "align_self": null,
            "height": null,
            "min_height": null,
            "padding": null,
            "grid_auto_rows": null,
            "grid_gap": null,
            "max_width": null,
            "order": null,
            "_view_module_version": "1.2.0",
            "grid_template_areas": null,
            "object_position": null,
            "object_fit": null,
            "grid_auto_columns": null,
            "margin": null,
            "display": null,
            "left": null
          }
        },
        "10f1d16c1e90421ea76989a8b48e1e44": {
          "model_module": "@jupyter-widgets/controls",
          "model_name": "FloatProgressModel",
          "state": {
            "_view_name": "ProgressView",
            "style": "IPY_MODEL_513e3bdbd9374d829a223179d9348ef6",
            "_dom_classes": [],
            "description": "",
            "_model_name": "FloatProgressModel",
            "bar_style": "info",
            "max": 1,
            "_view_module": "@jupyter-widgets/controls",
            "_model_module_version": "1.5.0",
            "value": 1,
            "_view_count": null,
            "_view_module_version": "1.5.0",
            "orientation": "horizontal",
            "min": 0,
            "description_tooltip": null,
            "_model_module": "@jupyter-widgets/controls",
            "layout": "IPY_MODEL_6c9c8fc77983475aaa2f6ff4a5f66150"
          }
        },
        "a0966cf98427472d81b8f2939ea4b158": {
          "model_module": "@jupyter-widgets/controls",
          "model_name": "HTMLModel",
          "state": {
            "_view_name": "HTMLView",
            "style": "IPY_MODEL_6c71b78dfab64eda8cc9bfb910a126a5",
            "_dom_classes": [],
            "description": "",
            "_model_name": "HTMLModel",
            "placeholder": "​",
            "_view_module": "@jupyter-widgets/controls",
            "_model_module_version": "1.5.0",
            "value": " 25000/0 [00:03&lt;00:00, 495.86 examples/s]",
            "_view_count": null,
            "_view_module_version": "1.5.0",
            "description_tooltip": null,
            "_model_module": "@jupyter-widgets/controls",
            "layout": "IPY_MODEL_3ea0442951db4b1a8531c42c49a99b8f"
          }
        },
        "513e3bdbd9374d829a223179d9348ef6": {
          "model_module": "@jupyter-widgets/controls",
          "model_name": "ProgressStyleModel",
          "state": {
            "_view_name": "StyleView",
            "_model_name": "ProgressStyleModel",
            "description_width": "initial",
            "_view_module": "@jupyter-widgets/base",
            "_model_module_version": "1.5.0",
            "_view_count": null,
            "_view_module_version": "1.2.0",
            "bar_color": null,
            "_model_module": "@jupyter-widgets/controls"
          }
        },
        "6c9c8fc77983475aaa2f6ff4a5f66150": {
          "model_module": "@jupyter-widgets/base",
          "model_name": "LayoutModel",
          "state": {
            "_view_name": "LayoutView",
            "grid_template_rows": null,
            "right": null,
            "justify_content": null,
            "_view_module": "@jupyter-widgets/base",
            "overflow": null,
            "_model_module_version": "1.2.0",
            "_view_count": null,
            "flex_flow": null,
            "width": null,
            "min_width": null,
            "border": null,
            "align_items": null,
            "bottom": null,
            "_model_module": "@jupyter-widgets/base",
            "top": null,
            "grid_column": null,
            "overflow_y": null,
            "overflow_x": null,
            "grid_auto_flow": null,
            "grid_area": null,
            "grid_template_columns": null,
            "flex": null,
            "_model_name": "LayoutModel",
            "justify_items": null,
            "grid_row": null,
            "max_height": null,
            "align_content": null,
            "visibility": null,
            "align_self": null,
            "height": null,
            "min_height": null,
            "padding": null,
            "grid_auto_rows": null,
            "grid_gap": null,
            "max_width": null,
            "order": null,
            "_view_module_version": "1.2.0",
            "grid_template_areas": null,
            "object_position": null,
            "object_fit": null,
            "grid_auto_columns": null,
            "margin": null,
            "display": null,
            "left": null
          }
        },
        "6c71b78dfab64eda8cc9bfb910a126a5": {
          "model_module": "@jupyter-widgets/controls",
          "model_name": "DescriptionStyleModel",
          "state": {
            "_view_name": "StyleView",
            "_model_name": "DescriptionStyleModel",
            "description_width": "",
            "_view_module": "@jupyter-widgets/base",
            "_model_module_version": "1.5.0",
            "_view_count": null,
            "_view_module_version": "1.2.0",
            "_model_module": "@jupyter-widgets/controls"
          }
        },
        "3ea0442951db4b1a8531c42c49a99b8f": {
          "model_module": "@jupyter-widgets/base",
          "model_name": "LayoutModel",
          "state": {
            "_view_name": "LayoutView",
            "grid_template_rows": null,
            "right": null,
            "justify_content": null,
            "_view_module": "@jupyter-widgets/base",
            "overflow": null,
            "_model_module_version": "1.2.0",
            "_view_count": null,
            "flex_flow": null,
            "width": null,
            "min_width": null,
            "border": null,
            "align_items": null,
            "bottom": null,
            "_model_module": "@jupyter-widgets/base",
            "top": null,
            "grid_column": null,
            "overflow_y": null,
            "overflow_x": null,
            "grid_auto_flow": null,
            "grid_area": null,
            "grid_template_columns": null,
            "flex": null,
            "_model_name": "LayoutModel",
            "justify_items": null,
            "grid_row": null,
            "max_height": null,
            "align_content": null,
            "visibility": null,
            "align_self": null,
            "height": null,
            "min_height": null,
            "padding": null,
            "grid_auto_rows": null,
            "grid_gap": null,
            "max_width": null,
            "order": null,
            "_view_module_version": "1.2.0",
            "grid_template_areas": null,
            "object_position": null,
            "object_fit": null,
            "grid_auto_columns": null,
            "margin": null,
            "display": null,
            "left": null
          }
        },
        "d7c6b951ab4b4d6cb693a0970fada138": {
          "model_module": "@jupyter-widgets/controls",
          "model_name": "HBoxModel",
          "state": {
            "_view_name": "HBoxView",
            "_dom_classes": [],
            "_model_name": "HBoxModel",
            "_view_module": "@jupyter-widgets/controls",
            "_model_module_version": "1.5.0",
            "_view_count": null,
            "_view_module_version": "1.5.0",
            "box_style": "",
            "layout": "IPY_MODEL_d84c5c95a64a4927bfbce81d88cd65c1",
            "_model_module": "@jupyter-widgets/controls",
            "children": [
              "IPY_MODEL_4e347bcfe4d4466988f58154ed065066",
              "IPY_MODEL_f591e85e8323438abb60365895c339d2"
            ]
          }
        },
        "d84c5c95a64a4927bfbce81d88cd65c1": {
          "model_module": "@jupyter-widgets/base",
          "model_name": "LayoutModel",
          "state": {
            "_view_name": "LayoutView",
            "grid_template_rows": null,
            "right": null,
            "justify_content": null,
            "_view_module": "@jupyter-widgets/base",
            "overflow": null,
            "_model_module_version": "1.2.0",
            "_view_count": null,
            "flex_flow": null,
            "width": null,
            "min_width": null,
            "border": null,
            "align_items": null,
            "bottom": null,
            "_model_module": "@jupyter-widgets/base",
            "top": null,
            "grid_column": null,
            "overflow_y": null,
            "overflow_x": null,
            "grid_auto_flow": null,
            "grid_area": null,
            "grid_template_columns": null,
            "flex": null,
            "_model_name": "LayoutModel",
            "justify_items": null,
            "grid_row": null,
            "max_height": null,
            "align_content": null,
            "visibility": null,
            "align_self": null,
            "height": null,
            "min_height": null,
            "padding": null,
            "grid_auto_rows": null,
            "grid_gap": null,
            "max_width": null,
            "order": null,
            "_view_module_version": "1.2.0",
            "grid_template_areas": null,
            "object_position": null,
            "object_fit": null,
            "grid_auto_columns": null,
            "margin": null,
            "display": null,
            "left": null
          }
        },
        "4e347bcfe4d4466988f58154ed065066": {
          "model_module": "@jupyter-widgets/controls",
          "model_name": "FloatProgressModel",
          "state": {
            "_view_name": "ProgressView",
            "style": "IPY_MODEL_307495118b1a40d8aba1e9beea40d7a6",
            "_dom_classes": [],
            "description": "",
            "_model_name": "FloatProgressModel",
            "bar_style": "info",
            "max": 1,
            "_view_module": "@jupyter-widgets/controls",
            "_model_module_version": "1.5.0",
            "value": 1,
            "_view_count": null,
            "_view_module_version": "1.5.0",
            "orientation": "horizontal",
            "min": 0,
            "description_tooltip": null,
            "_model_module": "@jupyter-widgets/controls",
            "layout": "IPY_MODEL_98af58c40fa14108a0a92fa3e6561d90"
          }
        },
        "f591e85e8323438abb60365895c339d2": {
          "model_module": "@jupyter-widgets/controls",
          "model_name": "HTMLModel",
          "state": {
            "_view_name": "HTMLView",
            "style": "IPY_MODEL_cf36e02092ce4408b94789a196db6be9",
            "_dom_classes": [],
            "description": "",
            "_model_name": "HTMLModel",
            "placeholder": "​",
            "_view_module": "@jupyter-widgets/controls",
            "_model_module_version": "1.5.0",
            "value": " 25000/0 [00:02&lt;00:00, 5095.69 examples/s]",
            "_view_count": null,
            "_view_module_version": "1.5.0",
            "description_tooltip": null,
            "_model_module": "@jupyter-widgets/controls",
            "layout": "IPY_MODEL_1f87e5b79501423eadc0456cbab4244f"
          }
        },
        "307495118b1a40d8aba1e9beea40d7a6": {
          "model_module": "@jupyter-widgets/controls",
          "model_name": "ProgressStyleModel",
          "state": {
            "_view_name": "StyleView",
            "_model_name": "ProgressStyleModel",
            "description_width": "initial",
            "_view_module": "@jupyter-widgets/base",
            "_model_module_version": "1.5.0",
            "_view_count": null,
            "_view_module_version": "1.2.0",
            "bar_color": null,
            "_model_module": "@jupyter-widgets/controls"
          }
        },
        "98af58c40fa14108a0a92fa3e6561d90": {
          "model_module": "@jupyter-widgets/base",
          "model_name": "LayoutModel",
          "state": {
            "_view_name": "LayoutView",
            "grid_template_rows": null,
            "right": null,
            "justify_content": null,
            "_view_module": "@jupyter-widgets/base",
            "overflow": null,
            "_model_module_version": "1.2.0",
            "_view_count": null,
            "flex_flow": null,
            "width": null,
            "min_width": null,
            "border": null,
            "align_items": null,
            "bottom": null,
            "_model_module": "@jupyter-widgets/base",
            "top": null,
            "grid_column": null,
            "overflow_y": null,
            "overflow_x": null,
            "grid_auto_flow": null,
            "grid_area": null,
            "grid_template_columns": null,
            "flex": null,
            "_model_name": "LayoutModel",
            "justify_items": null,
            "grid_row": null,
            "max_height": null,
            "align_content": null,
            "visibility": null,
            "align_self": null,
            "height": null,
            "min_height": null,
            "padding": null,
            "grid_auto_rows": null,
            "grid_gap": null,
            "max_width": null,
            "order": null,
            "_view_module_version": "1.2.0",
            "grid_template_areas": null,
            "object_position": null,
            "object_fit": null,
            "grid_auto_columns": null,
            "margin": null,
            "display": null,
            "left": null
          }
        },
        "cf36e02092ce4408b94789a196db6be9": {
          "model_module": "@jupyter-widgets/controls",
          "model_name": "DescriptionStyleModel",
          "state": {
            "_view_name": "StyleView",
            "_model_name": "DescriptionStyleModel",
            "description_width": "",
            "_view_module": "@jupyter-widgets/base",
            "_model_module_version": "1.5.0",
            "_view_count": null,
            "_view_module_version": "1.2.0",
            "_model_module": "@jupyter-widgets/controls"
          }
        },
        "1f87e5b79501423eadc0456cbab4244f": {
          "model_module": "@jupyter-widgets/base",
          "model_name": "LayoutModel",
          "state": {
            "_view_name": "LayoutView",
            "grid_template_rows": null,
            "right": null,
            "justify_content": null,
            "_view_module": "@jupyter-widgets/base",
            "overflow": null,
            "_model_module_version": "1.2.0",
            "_view_count": null,
            "flex_flow": null,
            "width": null,
            "min_width": null,
            "border": null,
            "align_items": null,
            "bottom": null,
            "_model_module": "@jupyter-widgets/base",
            "top": null,
            "grid_column": null,
            "overflow_y": null,
            "overflow_x": null,
            "grid_auto_flow": null,
            "grid_area": null,
            "grid_template_columns": null,
            "flex": null,
            "_model_name": "LayoutModel",
            "justify_items": null,
            "grid_row": null,
            "max_height": null,
            "align_content": null,
            "visibility": null,
            "align_self": null,
            "height": null,
            "min_height": null,
            "padding": null,
            "grid_auto_rows": null,
            "grid_gap": null,
            "max_width": null,
            "order": null,
            "_view_module_version": "1.2.0",
            "grid_template_areas": null,
            "object_position": null,
            "object_fit": null,
            "grid_auto_columns": null,
            "margin": null,
            "display": null,
            "left": null
          }
        },
        "8e2ba7ec82f045628be3e278517f2089": {
          "model_module": "@jupyter-widgets/controls",
          "model_name": "HBoxModel",
          "state": {
            "_view_name": "HBoxView",
            "_dom_classes": [],
            "_model_name": "HBoxModel",
            "_view_module": "@jupyter-widgets/controls",
            "_model_module_version": "1.5.0",
            "_view_count": null,
            "_view_module_version": "1.5.0",
            "box_style": "",
            "layout": "IPY_MODEL_92f16b34d6ac4ec591162cce10ab5d34",
            "_model_module": "@jupyter-widgets/controls",
            "children": [
              "IPY_MODEL_37a8ecc5e04640519ac52e8de6e64314",
              "IPY_MODEL_af62005e97ce440a95166ede7aa73bf1"
            ]
          }
        },
        "92f16b34d6ac4ec591162cce10ab5d34": {
          "model_module": "@jupyter-widgets/base",
          "model_name": "LayoutModel",
          "state": {
            "_view_name": "LayoutView",
            "grid_template_rows": null,
            "right": null,
            "justify_content": null,
            "_view_module": "@jupyter-widgets/base",
            "overflow": null,
            "_model_module_version": "1.2.0",
            "_view_count": null,
            "flex_flow": null,
            "width": null,
            "min_width": null,
            "border": null,
            "align_items": null,
            "bottom": null,
            "_model_module": "@jupyter-widgets/base",
            "top": null,
            "grid_column": null,
            "overflow_y": null,
            "overflow_x": null,
            "grid_auto_flow": null,
            "grid_area": null,
            "grid_template_columns": null,
            "flex": null,
            "_model_name": "LayoutModel",
            "justify_items": null,
            "grid_row": null,
            "max_height": null,
            "align_content": null,
            "visibility": null,
            "align_self": null,
            "height": null,
            "min_height": null,
            "padding": null,
            "grid_auto_rows": null,
            "grid_gap": null,
            "max_width": null,
            "order": null,
            "_view_module_version": "1.2.0",
            "grid_template_areas": null,
            "object_position": null,
            "object_fit": null,
            "grid_auto_columns": null,
            "margin": null,
            "display": null,
            "left": null
          }
        },
        "37a8ecc5e04640519ac52e8de6e64314": {
          "model_module": "@jupyter-widgets/controls",
          "model_name": "FloatProgressModel",
          "state": {
            "_view_name": "ProgressView",
            "style": "IPY_MODEL_52dfc5db345a4a928e7737b39bb214b4",
            "_dom_classes": [],
            "description": "",
            "_model_name": "FloatProgressModel",
            "bar_style": "info",
            "max": 1,
            "_view_module": "@jupyter-widgets/controls",
            "_model_module_version": "1.5.0",
            "value": 1,
            "_view_count": null,
            "_view_module_version": "1.5.0",
            "orientation": "horizontal",
            "min": 0,
            "description_tooltip": null,
            "_model_module": "@jupyter-widgets/controls",
            "layout": "IPY_MODEL_74762518e0604f2cbdc38aab69d3785c"
          }
        },
        "af62005e97ce440a95166ede7aa73bf1": {
          "model_module": "@jupyter-widgets/controls",
          "model_name": "HTMLModel",
          "state": {
            "_view_name": "HTMLView",
            "style": "IPY_MODEL_3b4acedd47344aaabe52671c61dfa89d",
            "_dom_classes": [],
            "description": "",
            "_model_name": "HTMLModel",
            "placeholder": "​",
            "_view_module": "@jupyter-widgets/controls",
            "_model_module_version": "1.5.0",
            "value": " 50000/0 [00:04&lt;00:00, 13821.21 examples/s]",
            "_view_count": null,
            "_view_module_version": "1.5.0",
            "description_tooltip": null,
            "_model_module": "@jupyter-widgets/controls",
            "layout": "IPY_MODEL_8a52dc43cedb45e6a48a2b95592d3ca3"
          }
        },
        "52dfc5db345a4a928e7737b39bb214b4": {
          "model_module": "@jupyter-widgets/controls",
          "model_name": "ProgressStyleModel",
          "state": {
            "_view_name": "StyleView",
            "_model_name": "ProgressStyleModel",
            "description_width": "initial",
            "_view_module": "@jupyter-widgets/base",
            "_model_module_version": "1.5.0",
            "_view_count": null,
            "_view_module_version": "1.2.0",
            "bar_color": null,
            "_model_module": "@jupyter-widgets/controls"
          }
        },
        "74762518e0604f2cbdc38aab69d3785c": {
          "model_module": "@jupyter-widgets/base",
          "model_name": "LayoutModel",
          "state": {
            "_view_name": "LayoutView",
            "grid_template_rows": null,
            "right": null,
            "justify_content": null,
            "_view_module": "@jupyter-widgets/base",
            "overflow": null,
            "_model_module_version": "1.2.0",
            "_view_count": null,
            "flex_flow": null,
            "width": null,
            "min_width": null,
            "border": null,
            "align_items": null,
            "bottom": null,
            "_model_module": "@jupyter-widgets/base",
            "top": null,
            "grid_column": null,
            "overflow_y": null,
            "overflow_x": null,
            "grid_auto_flow": null,
            "grid_area": null,
            "grid_template_columns": null,
            "flex": null,
            "_model_name": "LayoutModel",
            "justify_items": null,
            "grid_row": null,
            "max_height": null,
            "align_content": null,
            "visibility": null,
            "align_self": null,
            "height": null,
            "min_height": null,
            "padding": null,
            "grid_auto_rows": null,
            "grid_gap": null,
            "max_width": null,
            "order": null,
            "_view_module_version": "1.2.0",
            "grid_template_areas": null,
            "object_position": null,
            "object_fit": null,
            "grid_auto_columns": null,
            "margin": null,
            "display": null,
            "left": null
          }
        },
        "3b4acedd47344aaabe52671c61dfa89d": {
          "model_module": "@jupyter-widgets/controls",
          "model_name": "DescriptionStyleModel",
          "state": {
            "_view_name": "StyleView",
            "_model_name": "DescriptionStyleModel",
            "description_width": "",
            "_view_module": "@jupyter-widgets/base",
            "_model_module_version": "1.5.0",
            "_view_count": null,
            "_view_module_version": "1.2.0",
            "_model_module": "@jupyter-widgets/controls"
          }
        },
        "8a52dc43cedb45e6a48a2b95592d3ca3": {
          "model_module": "@jupyter-widgets/base",
          "model_name": "LayoutModel",
          "state": {
            "_view_name": "LayoutView",
            "grid_template_rows": null,
            "right": null,
            "justify_content": null,
            "_view_module": "@jupyter-widgets/base",
            "overflow": null,
            "_model_module_version": "1.2.0",
            "_view_count": null,
            "flex_flow": null,
            "width": null,
            "min_width": null,
            "border": null,
            "align_items": null,
            "bottom": null,
            "_model_module": "@jupyter-widgets/base",
            "top": null,
            "grid_column": null,
            "overflow_y": null,
            "overflow_x": null,
            "grid_auto_flow": null,
            "grid_area": null,
            "grid_template_columns": null,
            "flex": null,
            "_model_name": "LayoutModel",
            "justify_items": null,
            "grid_row": null,
            "max_height": null,
            "align_content": null,
            "visibility": null,
            "align_self": null,
            "height": null,
            "min_height": null,
            "padding": null,
            "grid_auto_rows": null,
            "grid_gap": null,
            "max_width": null,
            "order": null,
            "_view_module_version": "1.2.0",
            "grid_template_areas": null,
            "object_position": null,
            "object_fit": null,
            "grid_auto_columns": null,
            "margin": null,
            "display": null,
            "left": null
          }
        }
      }
    }
  },
  "cells": [
    {
      "cell_type": "code",
      "metadata": {
        "colab": {
          "base_uri": "https://localhost:8080/"
        },
        "id": "Tjsl5_TPD5p-",
        "outputId": "0670bbd4-165f-4dd1-db16-a9a9f8c8f84e"
      },
      "source": [
        "from google.colab import drive\n",
        "drive.mount('/content/drive')"
      ],
      "execution_count": 1,
      "outputs": [
        {
          "output_type": "stream",
          "text": [
            "Drive already mounted at /content/drive; to attempt to forcibly remount, call drive.mount(\"/content/drive\", force_remount=True).\n"
          ],
          "name": "stdout"
        }
      ]
    },
    {
      "cell_type": "code",
      "metadata": {
        "id": "hZeIFn6iC9FF",
        "colab": {
          "base_uri": "https://localhost:8080/"
        },
        "outputId": "d86b4c35-fc40-47b1-febb-5fe9290fc469"
      },
      "source": [
        "!pip install textattack\n",
        "!pip install -U gensim==4.0.0\n",
        "!pip install python-Levenshtein"
      ],
      "execution_count": 2,
      "outputs": [
        {
          "output_type": "stream",
          "text": [
            "Requirement already satisfied: textattack in /usr/local/lib/python3.7/dist-packages (0.2.15)\n",
            "Requirement already satisfied: editdistance in /usr/local/lib/python3.7/dist-packages (from textattack) (0.5.3)\n",
            "Requirement already satisfied: lemminflect in /usr/local/lib/python3.7/dist-packages (from textattack) (0.2.2)\n",
            "Requirement already satisfied: terminaltables in /usr/local/lib/python3.7/dist-packages (from textattack) (3.1.0)\n",
            "Requirement already satisfied: flair==0.6.1.post1 in /usr/local/lib/python3.7/dist-packages (from textattack) (0.6.1.post1)\n",
            "Requirement already satisfied: torch in /usr/local/lib/python3.7/dist-packages (from textattack) (1.8.1+cu101)\n",
            "Requirement already satisfied: num2words in /usr/local/lib/python3.7/dist-packages (from textattack) (0.5.10)\n",
            "Requirement already satisfied: tqdm<4.50.0,>=4.27 in /usr/local/lib/python3.7/dist-packages (from textattack) (4.41.1)\n",
            "Requirement already satisfied: filelock in /usr/local/lib/python3.7/dist-packages (from textattack) (3.0.12)\n",
            "Requirement already satisfied: datasets in /usr/local/lib/python3.7/dist-packages (from textattack) (1.6.2)\n",
            "Requirement already satisfied: numpy<1.19.0 in /usr/local/lib/python3.7/dist-packages (from textattack) (1.18.5)\n",
            "Requirement already satisfied: scipy==1.4.1 in /usr/local/lib/python3.7/dist-packages (from textattack) (1.4.1)\n",
            "Requirement already satisfied: pandas>=1.0.1 in /usr/local/lib/python3.7/dist-packages (from textattack) (1.1.5)\n",
            "Requirement already satisfied: lru-dict in /usr/local/lib/python3.7/dist-packages (from textattack) (1.1.7)\n",
            "Requirement already satisfied: nltk in /usr/local/lib/python3.7/dist-packages (from textattack) (3.2.5)\n",
            "Requirement already satisfied: word2number in /usr/local/lib/python3.7/dist-packages (from textattack) (1.1)\n",
            "Requirement already satisfied: PySocks!=1.5.7,>=1.5.6 in /usr/local/lib/python3.7/dist-packages (from textattack) (1.7.1)\n",
            "Requirement already satisfied: transformers>=3.3.0 in /usr/local/lib/python3.7/dist-packages (from textattack) (4.5.1)\n",
            "Requirement already satisfied: more-itertools in /usr/local/lib/python3.7/dist-packages (from textattack) (8.7.0)\n",
            "Requirement already satisfied: language-tool-python in /usr/local/lib/python3.7/dist-packages (from textattack) (2.5.3)\n",
            "Requirement already satisfied: bert-score>=0.3.5 in /usr/local/lib/python3.7/dist-packages (from textattack) (0.3.9)\n",
            "Requirement already satisfied: tabulate in /usr/local/lib/python3.7/dist-packages (from flair==0.6.1.post1->textattack) (0.8.9)\n",
            "Requirement already satisfied: sentencepiece!=0.1.92 in /usr/local/lib/python3.7/dist-packages (from flair==0.6.1.post1->textattack) (0.1.95)\n",
            "Requirement already satisfied: segtok>=1.5.7 in /usr/local/lib/python3.7/dist-packages (from flair==0.6.1.post1->textattack) (1.5.10)\n",
            "Requirement already satisfied: ftfy in /usr/local/lib/python3.7/dist-packages (from flair==0.6.1.post1->textattack) (6.0.1)\n",
            "Requirement already satisfied: mpld3==0.3 in /usr/local/lib/python3.7/dist-packages (from flair==0.6.1.post1->textattack) (0.3)\n",
            "Requirement already satisfied: gensim>=3.4.0 in /usr/local/lib/python3.7/dist-packages (from flair==0.6.1.post1->textattack) (4.0.0)\n",
            "Requirement already satisfied: regex in /usr/local/lib/python3.7/dist-packages (from flair==0.6.1.post1->textattack) (2019.12.20)\n",
            "Requirement already satisfied: hyperopt>=0.1.1 in /usr/local/lib/python3.7/dist-packages (from flair==0.6.1.post1->textattack) (0.1.2)\n",
            "Requirement already satisfied: konoha<5.0.0,>=4.0.0 in /usr/local/lib/python3.7/dist-packages (from flair==0.6.1.post1->textattack) (4.6.4)\n",
            "Requirement already satisfied: langdetect in /usr/local/lib/python3.7/dist-packages (from flair==0.6.1.post1->textattack) (1.0.9)\n",
            "Requirement already satisfied: lxml in /usr/local/lib/python3.7/dist-packages (from flair==0.6.1.post1->textattack) (4.2.6)\n",
            "Requirement already satisfied: deprecated>=1.2.4 in /usr/local/lib/python3.7/dist-packages (from flair==0.6.1.post1->textattack) (1.2.12)\n",
            "Requirement already satisfied: bpemb>=0.3.2 in /usr/local/lib/python3.7/dist-packages (from flair==0.6.1.post1->textattack) (0.3.3)\n",
            "Requirement already satisfied: gdown in /usr/local/lib/python3.7/dist-packages (from flair==0.6.1.post1->textattack) (3.6.4)\n",
            "Requirement already satisfied: python-dateutil>=2.6.1 in /usr/local/lib/python3.7/dist-packages (from flair==0.6.1.post1->textattack) (2.8.1)\n",
            "Requirement already satisfied: scikit-learn>=0.21.3 in /usr/local/lib/python3.7/dist-packages (from flair==0.6.1.post1->textattack) (0.22.2.post1)\n",
            "Requirement already satisfied: matplotlib>=2.2.3 in /usr/local/lib/python3.7/dist-packages (from flair==0.6.1.post1->textattack) (3.2.2)\n",
            "Requirement already satisfied: janome in /usr/local/lib/python3.7/dist-packages (from flair==0.6.1.post1->textattack) (0.4.1)\n",
            "Requirement already satisfied: sqlitedict>=1.6.0 in /usr/local/lib/python3.7/dist-packages (from flair==0.6.1.post1->textattack) (1.7.0)\n",
            "Requirement already satisfied: typing-extensions in /usr/local/lib/python3.7/dist-packages (from torch->textattack) (3.7.4.3)\n",
            "Requirement already satisfied: docopt>=0.6.2 in /usr/local/lib/python3.7/dist-packages (from num2words->textattack) (0.6.2)\n",
            "Requirement already satisfied: huggingface-hub<0.1.0 in /usr/local/lib/python3.7/dist-packages (from datasets->textattack) (0.0.8)\n",
            "Requirement already satisfied: requests>=2.19.0 in /usr/local/lib/python3.7/dist-packages (from datasets->textattack) (2.23.0)\n",
            "Requirement already satisfied: dill in /usr/local/lib/python3.7/dist-packages (from datasets->textattack) (0.3.3)\n",
            "Requirement already satisfied: fsspec in /usr/local/lib/python3.7/dist-packages (from datasets->textattack) (2021.4.0)\n",
            "Requirement already satisfied: pyarrow>=1.0.0<4.0.0 in /usr/local/lib/python3.7/dist-packages (from datasets->textattack) (3.0.0)\n",
            "Requirement already satisfied: xxhash in /usr/local/lib/python3.7/dist-packages (from datasets->textattack) (2.0.2)\n",
            "Requirement already satisfied: multiprocess in /usr/local/lib/python3.7/dist-packages (from datasets->textattack) (0.70.11.1)\n",
            "Requirement already satisfied: packaging in /usr/local/lib/python3.7/dist-packages (from datasets->textattack) (20.9)\n",
            "Requirement already satisfied: importlib-metadata; python_version < \"3.8\" in /usr/local/lib/python3.7/dist-packages (from datasets->textattack) (3.10.1)\n",
            "Requirement already satisfied: pytz>=2017.2 in /usr/local/lib/python3.7/dist-packages (from pandas>=1.0.1->textattack) (2018.9)\n",
            "Requirement already satisfied: six in /usr/local/lib/python3.7/dist-packages (from nltk->textattack) (1.15.0)\n",
            "Requirement already satisfied: tokenizers<0.11,>=0.10.1 in /usr/local/lib/python3.7/dist-packages (from transformers>=3.3.0->textattack) (0.10.2)\n",
            "Requirement already satisfied: sacremoses in /usr/local/lib/python3.7/dist-packages (from transformers>=3.3.0->textattack) (0.0.45)\n",
            "Requirement already satisfied: wcwidth in /usr/local/lib/python3.7/dist-packages (from ftfy->flair==0.6.1.post1->textattack) (0.2.5)\n",
            "Requirement already satisfied: smart-open>=1.8.1 in /usr/local/lib/python3.7/dist-packages (from gensim>=3.4.0->flair==0.6.1.post1->textattack) (5.0.0)\n",
            "Requirement already satisfied: future in /usr/local/lib/python3.7/dist-packages (from hyperopt>=0.1.1->flair==0.6.1.post1->textattack) (0.16.0)\n",
            "Requirement already satisfied: pymongo in /usr/local/lib/python3.7/dist-packages (from hyperopt>=0.1.1->flair==0.6.1.post1->textattack) (3.11.3)\n",
            "Requirement already satisfied: networkx in /usr/local/lib/python3.7/dist-packages (from hyperopt>=0.1.1->flair==0.6.1.post1->textattack) (2.5.1)\n",
            "Requirement already satisfied: overrides<4.0.0,>=3.0.0 in /usr/local/lib/python3.7/dist-packages (from konoha<5.0.0,>=4.0.0->flair==0.6.1.post1->textattack) (3.1.0)\n",
            "Requirement already satisfied: wrapt<2,>=1.10 in /usr/local/lib/python3.7/dist-packages (from deprecated>=1.2.4->flair==0.6.1.post1->textattack) (1.12.1)\n",
            "Requirement already satisfied: joblib>=0.11 in /usr/local/lib/python3.7/dist-packages (from scikit-learn>=0.21.3->flair==0.6.1.post1->textattack) (1.0.1)\n",
            "Requirement already satisfied: cycler>=0.10 in /usr/local/lib/python3.7/dist-packages (from matplotlib>=2.2.3->flair==0.6.1.post1->textattack) (0.10.0)\n",
            "Requirement already satisfied: pyparsing!=2.0.4,!=2.1.2,!=2.1.6,>=2.0.1 in /usr/local/lib/python3.7/dist-packages (from matplotlib>=2.2.3->flair==0.6.1.post1->textattack) (2.4.7)\n",
            "Requirement already satisfied: kiwisolver>=1.0.1 in /usr/local/lib/python3.7/dist-packages (from matplotlib>=2.2.3->flair==0.6.1.post1->textattack) (1.3.1)\n",
            "Requirement already satisfied: urllib3!=1.25.0,!=1.25.1,<1.26,>=1.21.1 in /usr/local/lib/python3.7/dist-packages (from requests>=2.19.0->datasets->textattack) (1.24.3)\n",
            "Requirement already satisfied: chardet<4,>=3.0.2 in /usr/local/lib/python3.7/dist-packages (from requests>=2.19.0->datasets->textattack) (3.0.4)\n",
            "Requirement already satisfied: idna<3,>=2.5 in /usr/local/lib/python3.7/dist-packages (from requests>=2.19.0->datasets->textattack) (2.10)\n",
            "Requirement already satisfied: certifi>=2017.4.17 in /usr/local/lib/python3.7/dist-packages (from requests>=2.19.0->datasets->textattack) (2020.12.5)\n",
            "Requirement already satisfied: zipp>=0.5 in /usr/local/lib/python3.7/dist-packages (from importlib-metadata; python_version < \"3.8\"->datasets->textattack) (3.4.1)\n",
            "Requirement already satisfied: click in /usr/local/lib/python3.7/dist-packages (from sacremoses->transformers>=3.3.0->textattack) (7.1.2)\n",
            "Requirement already satisfied: decorator<5,>=4.3 in /usr/local/lib/python3.7/dist-packages (from networkx->hyperopt>=0.1.1->flair==0.6.1.post1->textattack) (4.4.2)\n",
            "Requirement already up-to-date: gensim==4.0.0 in /usr/local/lib/python3.7/dist-packages (4.0.0)\n",
            "Requirement already satisfied, skipping upgrade: smart-open>=1.8.1 in /usr/local/lib/python3.7/dist-packages (from gensim==4.0.0) (5.0.0)\n",
            "Requirement already satisfied, skipping upgrade: scipy>=0.18.1 in /usr/local/lib/python3.7/dist-packages (from gensim==4.0.0) (1.4.1)\n",
            "Requirement already satisfied, skipping upgrade: numpy>=1.11.3 in /usr/local/lib/python3.7/dist-packages (from gensim==4.0.0) (1.18.5)\n",
            "Requirement already satisfied: python-Levenshtein in /usr/local/lib/python3.7/dist-packages (0.12.2)\n",
            "Requirement already satisfied: setuptools in /usr/local/lib/python3.7/dist-packages (from python-Levenshtein) (56.0.0)\n"
          ],
          "name": "stdout"
        }
      ]
    },
    {
      "cell_type": "code",
      "metadata": {
        "id": "XbSBo02xDGO2"
      },
      "source": [
        "# import gensim.downloader as api\n",
        "# corpus = api.load('text8')\n",
        "# from gensim.models.fasttext import FastText\n",
        "# model1 = FastText(corpus, sample = 0, sg = 1)"
      ],
      "execution_count": null,
      "outputs": []
    },
    {
      "cell_type": "code",
      "metadata": {
        "id": "jLiSrpmTErOs"
      },
      "source": [
        "# import gensim.downloader as api\n",
        "# corpus = api.load('text8')\n",
        "# from gensim.models.word2vec import Word2Vec\n",
        "# model2 = Word2Vec(corpus, sample = 0, sg = 1)"
      ],
      "execution_count": null,
      "outputs": []
    },
    {
      "cell_type": "code",
      "metadata": {
        "id": "ZCLiyaHYDBk1"
      },
      "source": [
        "from gensim.test.utils import get_tmpfile\n",
        "from gensim.models.fasttext import FastText\n",
        "#fname = get_tmpfile(\"/models/fasttext.model\") \n",
        "model1 = FastText.load(\"/content/drive/MyDrive/models/fasttext.model\") # Change this location"
      ],
      "execution_count": 3,
      "outputs": []
    },
    {
      "cell_type": "code",
      "metadata": {
        "id": "e4jwSL5YDvPy"
      },
      "source": [
        "from gensim.test.utils import get_tmpfile\n",
        "from gensim.models.word2vec import Word2Vec\n",
        "#fname1 = get_tmpfile(\"/models/word2vec.model\") \n",
        "model2 = Word2Vec.load(\"/content/drive/MyDrive/models/word2vec.model\") # Change this location"
      ],
      "execution_count": 4,
      "outputs": []
    },
    {
      "cell_type": "code",
      "metadata": {
        "id": "l1xXXw5tFbuM",
        "colab": {
          "base_uri": "https://localhost:8080/"
        },
        "outputId": "542f13fe-1275-4216-886a-083f62f45058"
      },
      "source": [
        "print(model1.wv.most_similar('cat'))\n",
        "print(model2.wv.most_similar('cat'))"
      ],
      "execution_count": 5,
      "outputs": [
        {
          "output_type": "stream",
          "text": [
            "[('bobcat', 0.759185791015625), ('dog', 0.7208123803138733), ('foxglove', 0.7110776901245117), ('pig', 0.7088143229484558), ('goose', 0.7069101333618164), ('cats', 0.702387273311615), ('beak', 0.7008379697799683), ('catfish', 0.6987316608428955), ('foxhound', 0.696578860282898), ('catnip', 0.6960986852645874)]\n",
            "[('dog', 0.7193913459777832), ('squirrel', 0.696162760257721), ('leopardus', 0.6945451498031616), ('prionailurus', 0.688106894493103), ('albino', 0.6880608201026917), ('bird', 0.6836060285568237), ('eared', 0.6803243160247803), ('rhinoceros', 0.6769237518310547), ('hyena', 0.6756084561347961), ('badger', 0.6752869486808777)]\n"
          ],
          "name": "stdout"
        }
      ]
    },
    {
      "cell_type": "code",
      "metadata": {
        "id": "QfecgI6BExUJ",
        "colab": {
          "base_uri": "https://localhost:8080/",
          "height": 614,
          "referenced_widgets": [
            "46f402ad75ca455faa864e24140e2ed8",
            "89f557b73c184d4990793d907abf85df",
            "bb8b00db333d4b6bab1c18c1b6fa6056",
            "c8af3f21344e41ad83d87f7640b29846",
            "00527c251a7e474dab476c934b57ceaa",
            "dd399fa09f0347b2879588a0bfd03aee",
            "aeb9fe77ce5c4a8fbfa09883620c71f8",
            "e5291da656b748d5825bfab5db40d72c",
            "a59e10fc8b154098b084741d97c5a933",
            "ef85a90c0df6417fa7b37bba87ab67f2",
            "c0f1e156eaae4526bf1c6b427e004aa7",
            "44081de935b44e9891db702f71bce72f",
            "3b81527138aa403aa1efd524c1e1177f",
            "9712d437b141429e970d54234efd4272",
            "2d9e5784bbb44dc49b224adf97a9d07b",
            "74b8c7a3e8b948b6ad19fcbe94c3e914",
            "7336cd85a40e44a188c7f6e864df9e5f",
            "27fe9b562f524f0ab320f298717b96f5",
            "3d63584b4784438da0cf055c10adf37d",
            "7557c03235c94a6a9ec88f2210045d68",
            "8def61adcb374bc7ba3d873c763b0c6d",
            "b7126615f9684ea18462cdf3ed044583",
            "00165f5e575b42d6ac37f974747d74fb",
            "c2a2fc33b10d4056b6c42e9d3975caf0",
            "94ed9b7d20054e7fb147ebf0234cc8e0",
            "1a04f6ba28d142479409d354e4538801",
            "5f88aa201e934da1bae09812e7dfd748",
            "89fc1cee4c9e469bbf2b9d331c2406e2",
            "07ecdfecd955434cb96fe8cfbe3dd805",
            "740abfc19c2e411e9287e1850c493a3a",
            "d9a87b07f5f042e985ee745cecf8bb3a",
            "02ccbca0c9874b849d39d8666b50dbb4",
            "57cabde6e5b74117aca9a86cf4026207",
            "c1e6472d298b4c249580d5cefd001dce",
            "a4f729abf59a4f3d99abc0e7abf6c775",
            "d9e9afdfff594241b49cd9e5fcb31f53",
            "a3dd5c2d49a047f88d60b6f4e8557ccd",
            "5ed8964f6db842a69d13ad4bdee8efcc",
            "8aab630b827b4fe796920ffbb5dd167a",
            "41657522f00f4ebeaa8ad6ff175252c2"
          ]
        },
        "outputId": "382dd681-21ce-4303-e207-f5217675a3a7"
      },
      "source": [
        "# Import the model\n",
        "import transformers\n",
        "from textattack.models.tokenizers import AutoTokenizer\n",
        "from textattack.models.wrappers import HuggingFaceModelWrapper\n",
        "\n",
        "model = transformers.AutoModelForSequenceClassification.from_pretrained(\"textattack/albert-base-v2-imdb\")\n",
        "tokenizer = AutoTokenizer(\"textattack/albert-base-v2-imdb\")\n",
        "# Change these\n",
        "\n",
        "model_wrapper = HuggingFaceModelWrapper(model, tokenizer)"
      ],
      "execution_count": 6,
      "outputs": [
        {
          "output_type": "stream",
          "text": [
            "\u001b[34;1mtextattack\u001b[0m: Updating TextAttack package dependencies.\n",
            "\u001b[34;1mtextattack\u001b[0m: Downloading NLTK required packages.\n"
          ],
          "name": "stderr"
        },
        {
          "output_type": "stream",
          "text": [
            "[nltk_data] Downloading package averaged_perceptron_tagger to\n",
            "[nltk_data]     /root/nltk_data...\n",
            "[nltk_data]   Unzipping taggers/averaged_perceptron_tagger.zip.\n",
            "[nltk_data] Downloading package stopwords to /root/nltk_data...\n",
            "[nltk_data]   Unzipping corpora/stopwords.zip.\n",
            "[nltk_data] Downloading package omw to /root/nltk_data...\n",
            "[nltk_data]   Unzipping corpora/omw.zip.\n",
            "[nltk_data] Downloading package universal_tagset to /root/nltk_data...\n",
            "[nltk_data]   Unzipping taggers/universal_tagset.zip.\n",
            "[nltk_data] Downloading package wordnet to /root/nltk_data...\n",
            "[nltk_data]   Unzipping corpora/wordnet.zip.\n",
            "[nltk_data] Downloading package punkt to /root/nltk_data...\n",
            "[nltk_data]   Unzipping tokenizers/punkt.zip.\n"
          ],
          "name": "stdout"
        },
        {
          "output_type": "stream",
          "text": [
            "\u001b[34;1mtextattack\u001b[0m: Downloading https://textattack.s3.amazonaws.com/word_embeddings/paragramcf.\n",
            "100%|██████████| 481M/481M [00:58<00:00, 8.23MB/s]\n",
            "\u001b[34;1mtextattack\u001b[0m: Unzipping file /root/.cache/textattack/tmp8_a7745d.zip to /root/.cache/textattack/word_embeddings/paragramcf.\n",
            "\u001b[34;1mtextattack\u001b[0m: Successfully saved word_embeddings/paragramcf to cache.\n"
          ],
          "name": "stderr"
        },
        {
          "output_type": "display_data",
          "data": {
            "application/vnd.jupyter.widget-view+json": {
              "model_id": "46f402ad75ca455faa864e24140e2ed8",
              "version_minor": 0,
              "version_major": 2
            },
            "text/plain": [
              "HBox(children=(FloatProgress(value=0.0, description='Downloading', max=727.0, style=ProgressStyle(description_…"
            ]
          },
          "metadata": {
            "tags": []
          }
        },
        {
          "output_type": "stream",
          "text": [
            "\n"
          ],
          "name": "stdout"
        },
        {
          "output_type": "display_data",
          "data": {
            "application/vnd.jupyter.widget-view+json": {
              "model_id": "a59e10fc8b154098b084741d97c5a933",
              "version_minor": 0,
              "version_major": 2
            },
            "text/plain": [
              "HBox(children=(FloatProgress(value=0.0, description='Downloading', max=46747112.0, style=ProgressStyle(descrip…"
            ]
          },
          "metadata": {
            "tags": []
          }
        },
        {
          "output_type": "stream",
          "text": [
            "\n"
          ],
          "name": "stdout"
        },
        {
          "output_type": "display_data",
          "data": {
            "application/vnd.jupyter.widget-view+json": {
              "model_id": "7336cd85a40e44a188c7f6e864df9e5f",
              "version_minor": 0,
              "version_major": 2
            },
            "text/plain": [
              "HBox(children=(FloatProgress(value=0.0, description='Downloading', max=760289.0, style=ProgressStyle(descripti…"
            ]
          },
          "metadata": {
            "tags": []
          }
        },
        {
          "output_type": "stream",
          "text": [
            "\n"
          ],
          "name": "stdout"
        },
        {
          "output_type": "display_data",
          "data": {
            "application/vnd.jupyter.widget-view+json": {
              "model_id": "94ed9b7d20054e7fb147ebf0234cc8e0",
              "version_minor": 0,
              "version_major": 2
            },
            "text/plain": [
              "HBox(children=(FloatProgress(value=0.0, description='Downloading', max=156.0, style=ProgressStyle(description_…"
            ]
          },
          "metadata": {
            "tags": []
          }
        },
        {
          "output_type": "stream",
          "text": [
            "\n"
          ],
          "name": "stdout"
        },
        {
          "output_type": "display_data",
          "data": {
            "application/vnd.jupyter.widget-view+json": {
              "model_id": "57cabde6e5b74117aca9a86cf4026207",
              "version_minor": 0,
              "version_major": 2
            },
            "text/plain": [
              "HBox(children=(FloatProgress(value=0.0, description='Downloading', max=25.0, style=ProgressStyle(description_w…"
            ]
          },
          "metadata": {
            "tags": []
          }
        },
        {
          "output_type": "stream",
          "text": [
            "\n"
          ],
          "name": "stdout"
        }
      ]
    },
    {
      "cell_type": "markdown",
      "metadata": {
        "id": "HPj8fvaOFDAD"
      },
      "source": [
        "Framing fasttext attack"
      ]
    },
    {
      "cell_type": "code",
      "metadata": {
        "id": "SHezFH9jE3Z2"
      },
      "source": [
        "from textattack.transformations import WordSwap\n",
        "\n",
        "class Swapper(WordSwap): # For fasttext\n",
        "    \"\"\" Transforms an input by replacing any word with its most similar counterpart\n",
        "    \"\"\"\n",
        "\n",
        "    # We don't need a constructor, since our class doesn't require any parameters.\n",
        "\n",
        "    def _get_replacement_words(self, word):\n",
        "        for i in range(10):\n",
        "            if word.lower() in model1.wv.most_similar(word)[i][0].lower():\n",
        "                continue # Don't return the exact word\n",
        "            elif word.isupper():\n",
        "                return [model1.wv.most_similar(word)[i][0].upper()] # Preserving case\n",
        "            elif word[0].isupper():\n",
        "                return [model1.wv.most_similar(word)[i][0].capitalize()] # Preserving Capitalization in words\n",
        "            else:\n",
        "                return [model1.wv.most_similar(word)[i][0]]\n",
        "            \n",
        "        return [model1.wv.most_similar(word)[0][0]]"
      ],
      "execution_count": 7,
      "outputs": []
    },
    {
      "cell_type": "code",
      "metadata": {
        "id": "GHt_A9Sril_j"
      },
      "source": [
        "def printexample(attack):\n",
        "  print(attack)\n",
        "  from collections import deque\n",
        "\n",
        "  import textattack\n",
        "  import tqdm\n",
        "  import time\n",
        "  from IPython.display import display, HTML\n",
        "  num_examples = 25\n",
        "  num_remaining_attacks = num_examples\n",
        "  pbar = tqdm.tqdm(total=num_remaining_attacks, smoothing=0)\n",
        "\n",
        "  worklist = deque(range(0, num_examples))\n",
        "  worklist_tail = worklist[-1]\n",
        "\n",
        "  attack_log_manager = textattack.loggers.AttackLogManager()\n",
        "\n",
        "  load_time = time.time()\n",
        "        \n",
        "  num_results = 0\n",
        "  num_failures = 0\n",
        "  num_successes = 0\n",
        "  for result in attack.attack_dataset(dataset, indices=worklist):\n",
        "      result_html_str = result.__str__(color_method=\"html\").replace(\"\\n\\n\", \"<br>\")\n",
        "      display(HTML(result_html_str))\n",
        "      attack_log_manager.log_result(result)\n",
        "            \n",
        "      if not isinstance(result, textattack.attack_results.SkippedAttackResult):\n",
        "          pbar.update(1)\n",
        "      else:\n",
        "          worklist_tail += 1\n",
        "          pbar.update(1)\n",
        "          worklist.append(worklist_tail)\n",
        "\n",
        "      num_results += 1\n",
        "\n",
        "      if (type(result) == textattack.attack_results.SuccessfulAttackResult\n",
        "        or type(result) == textattack.attack_results.MaximizedAttackResult):\n",
        "          num_successes += 1\n",
        "                \n",
        "      if type(result) == textattack.attack_results.FailedAttackResult:\n",
        "          num_failures += 1\n",
        "      pbar.set_description(\n",
        "          \"[Succeeded / Failed / Total] {} / {} / {}\".format(\n",
        "            num_successes, num_failures, num_results\n",
        "        )\n",
        "      )\n",
        "\n",
        "  pbar.close()\n",
        "\n",
        "  attack_log_manager.enable_stdout()\n",
        "  attack_log_manager.log_summary()\n",
        "  attack_log_manager.flush()\n",
        "        \n",
        "  textattack.shared.logger.info(f\"Attack time: {time.time() - load_time}s\")"
      ],
      "execution_count": 8,
      "outputs": []
    },
    {
      "cell_type": "code",
      "metadata": {
        "id": "Sm04Ri8WFGHy",
        "colab": {
          "base_uri": "https://localhost:8080/",
          "height": 260,
          "referenced_widgets": [
            "516092a3d3964e4ca67d6983537dc9e7",
            "8a32d7401cdf492496917ba83e74cf10",
            "ca6543065d2d4298a776de22c2724cc8",
            "249531757a78475da9d8f54818e7f161",
            "d834f8b3f8da4b05bbba90f55f44f6af",
            "4b0f7670d6a043128c7da345ab9475e5",
            "a81c3735a32844fba0f6ac783d322ec0",
            "cc6b4545e4414f1389a0cd4273bbcff3",
            "d139f585285d46b881003a2da2ff8b87",
            "c7637bf65f224f1999333031b8c3c9c7",
            "acf080ca946647ec9cdb714b3ab5ca60",
            "a689677eabf34e188cbb879ed6f37b5f",
            "35e6ae796b7440078c98a81cf6ebb82c",
            "d52b529d374c49f4a4feef76a1e3eb0d",
            "28da7fcce54f459399ba39e8fce549f9",
            "d34a1b8794174d1f8f4ed7dda6027f52",
            "31a658c7681d41749082929e992d3609",
            "4625089369344863b95b52d72cc7364e",
            "4fd84a87687b4bdc9b0dae6f6afe74a2",
            "f4aab453c92b4f81806986092bcef21f",
            "f04af970fc1147aba2bcdc90351d98be",
            "184b3b78e95d4132a0bda93775d43cb4",
            "bcff48328f7c4fbfb3273cc3dfb4e82d",
            "73f815bd7edb482c8f0cf3dd46682d15",
            "9feee4fd24ca43eebc7dcfa3e5f9b7e3",
            "db132728e8fd451ea9e09f13fccf2790",
            "10f1d16c1e90421ea76989a8b48e1e44",
            "a0966cf98427472d81b8f2939ea4b158",
            "513e3bdbd9374d829a223179d9348ef6",
            "6c9c8fc77983475aaa2f6ff4a5f66150",
            "6c71b78dfab64eda8cc9bfb910a126a5",
            "3ea0442951db4b1a8531c42c49a99b8f",
            "d7c6b951ab4b4d6cb693a0970fada138",
            "d84c5c95a64a4927bfbce81d88cd65c1",
            "4e347bcfe4d4466988f58154ed065066",
            "f591e85e8323438abb60365895c339d2",
            "307495118b1a40d8aba1e9beea40d7a6",
            "98af58c40fa14108a0a92fa3e6561d90",
            "cf36e02092ce4408b94789a196db6be9",
            "1f87e5b79501423eadc0456cbab4244f",
            "8e2ba7ec82f045628be3e278517f2089",
            "92f16b34d6ac4ec591162cce10ab5d34",
            "37a8ecc5e04640519ac52e8de6e64314",
            "af62005e97ce440a95166ede7aa73bf1",
            "52dfc5db345a4a928e7737b39bb214b4",
            "74762518e0604f2cbdc38aab69d3785c",
            "3b4acedd47344aaabe52671c61dfa89d",
            "8a52dc43cedb45e6a48a2b95592d3ca3"
          ]
        },
        "outputId": "07e941aa-f7ee-45fb-9318-d285500eee43"
      },
      "source": [
        "from textattack.search_methods import GreedyWordSwapWIR\n",
        "from textattack.constraints.pre_transformation import RepeatModification, StopwordModification\n",
        "from textattack.constraints.overlap import MaxWordsPerturbed\n",
        "from textattack.shared import Attack\n",
        "from textattack.goal_functions import UntargetedClassification\n",
        "from textattack.datasets import HuggingFaceDataset\n",
        "\n",
        "# We're going to use our word swap class as the attack transformation.\n",
        "transformation = Swapper()\n",
        "\n",
        "constraints = [RepeatModification(),\n",
        "               StopwordModification(),MaxWordsPerturbed(max_percent=0.3)]\n",
        "\n",
        "search_method = GreedyWordSwapWIR(wir_method='weighted-saliency')\n",
        "\n",
        "goal_function = UntargetedClassification(model_wrapper)\n",
        "\n",
        "# Now, let's make the attack from the 4 components:\n",
        "attack = Attack(goal_function, constraints, transformation, search_method)\n",
        "\n",
        "dataset = HuggingFaceDataset(\"imdb\", None, \"test\") # Change the dataset"
      ],
      "execution_count": 9,
      "outputs": [
        {
          "output_type": "stream",
          "text": [
            "\u001b[34;1mtextattack\u001b[0m: Unknown if model of class <class 'transformers.models.albert.modeling_albert.AlbertForSequenceClassification'> compatible with goal function <class 'textattack.goal_functions.classification.untargeted_classification.UntargetedClassification'>.\n"
          ],
          "name": "stderr"
        },
        {
          "output_type": "display_data",
          "data": {
            "application/vnd.jupyter.widget-view+json": {
              "model_id": "516092a3d3964e4ca67d6983537dc9e7",
              "version_minor": 0,
              "version_major": 2
            },
            "text/plain": [
              "HBox(children=(FloatProgress(value=0.0, description='Downloading', max=1867.0, style=ProgressStyle(description…"
            ]
          },
          "metadata": {
            "tags": []
          }
        },
        {
          "output_type": "stream",
          "text": [
            "\n"
          ],
          "name": "stdout"
        },
        {
          "output_type": "display_data",
          "data": {
            "application/vnd.jupyter.widget-view+json": {
              "model_id": "d139f585285d46b881003a2da2ff8b87",
              "version_minor": 0,
              "version_major": 2
            },
            "text/plain": [
              "HBox(children=(FloatProgress(value=0.0, description='Downloading', max=1004.0, style=ProgressStyle(description…"
            ]
          },
          "metadata": {
            "tags": []
          }
        },
        {
          "output_type": "stream",
          "text": [
            "\n",
            "Downloading and preparing dataset imdb/plain_text (download: 80.23 MiB, generated: 127.06 MiB, post-processed: Unknown size, total: 207.28 MiB) to /root/.cache/huggingface/datasets/imdb/plain_text/1.0.0/4ea52f2e58a08dbc12c2bd52d0d92b30b88c00230b4522801b3636782f625c5b...\n"
          ],
          "name": "stdout"
        },
        {
          "output_type": "display_data",
          "data": {
            "application/vnd.jupyter.widget-view+json": {
              "model_id": "31a658c7681d41749082929e992d3609",
              "version_minor": 0,
              "version_major": 2
            },
            "text/plain": [
              "HBox(children=(FloatProgress(value=0.0, description='Downloading', max=84125825.0, style=ProgressStyle(descrip…"
            ]
          },
          "metadata": {
            "tags": []
          }
        },
        {
          "output_type": "stream",
          "text": [
            "\n"
          ],
          "name": "stdout"
        },
        {
          "output_type": "display_data",
          "data": {
            "application/vnd.jupyter.widget-view+json": {
              "model_id": "9feee4fd24ca43eebc7dcfa3e5f9b7e3",
              "version_minor": 0,
              "version_major": 2
            },
            "text/plain": [
              "HBox(children=(FloatProgress(value=1.0, bar_style='info', max=1.0), HTML(value='')))"
            ]
          },
          "metadata": {
            "tags": []
          }
        },
        {
          "output_type": "stream",
          "text": [
            "\r"
          ],
          "name": "stdout"
        },
        {
          "output_type": "display_data",
          "data": {
            "application/vnd.jupyter.widget-view+json": {
              "model_id": "d7c6b951ab4b4d6cb693a0970fada138",
              "version_minor": 0,
              "version_major": 2
            },
            "text/plain": [
              "HBox(children=(FloatProgress(value=1.0, bar_style='info', max=1.0), HTML(value='')))"
            ]
          },
          "metadata": {
            "tags": []
          }
        },
        {
          "output_type": "stream",
          "text": [
            "\r"
          ],
          "name": "stdout"
        },
        {
          "output_type": "display_data",
          "data": {
            "application/vnd.jupyter.widget-view+json": {
              "model_id": "8e2ba7ec82f045628be3e278517f2089",
              "version_minor": 0,
              "version_major": 2
            },
            "text/plain": [
              "HBox(children=(FloatProgress(value=1.0, bar_style='info', max=1.0), HTML(value='')))"
            ]
          },
          "metadata": {
            "tags": []
          }
        },
        {
          "output_type": "stream",
          "text": [
            "\u001b[34;1mtextattack\u001b[0m: Loading \u001b[94mdatasets\u001b[0m dataset \u001b[94mimdb\u001b[0m, split \u001b[94mtest\u001b[0m.\n"
          ],
          "name": "stderr"
        },
        {
          "output_type": "stream",
          "text": [
            "\rDataset imdb downloaded and prepared to /root/.cache/huggingface/datasets/imdb/plain_text/1.0.0/4ea52f2e58a08dbc12c2bd52d0d92b30b88c00230b4522801b3636782f625c5b. Subsequent calls will reuse this data.\n"
          ],
          "name": "stdout"
        }
      ]
    },
    {
      "cell_type": "code",
      "metadata": {
        "id": "a578fNbVFII3",
        "colab": {
          "base_uri": "https://localhost:8080/"
        },
        "outputId": "7ab8d89c-b47b-4fd8-f3cc-eed1e80763b2"
      },
      "source": [
        "print(attack)"
      ],
      "execution_count": 10,
      "outputs": [
        {
          "output_type": "stream",
          "text": [
            "Attack(\n",
            "  (search_method): GreedyWordSwapWIR(\n",
            "    (wir_method):  weighted-saliency\n",
            "  )\n",
            "  (goal_function):  UntargetedClassification\n",
            "  (transformation):  Swapper\n",
            "  (constraints): \n",
            "    (0): MaxWordsPerturbed(\n",
            "        (max_percent):  0.3\n",
            "        (compare_against_original):  True\n",
            "      )\n",
            "    (1): RepeatModification\n",
            "    (2): StopwordModification\n",
            "  (is_black_box):  True\n",
            ")\n"
          ],
          "name": "stdout"
        }
      ]
    },
    {
      "cell_type": "code",
      "metadata": {
        "id": "fClGtuFxFM5f",
        "colab": {
          "base_uri": "https://localhost:8080/",
          "height": 1000
        },
        "outputId": "da877045-9098-4bb6-d170-81f41e6ac325"
      },
      "source": [
        "printexample(attack)"
      ],
      "execution_count": 11,
      "outputs": [
        {
          "output_type": "stream",
          "text": [
            "\r  0%|          | 0/25 [00:00<?, ?it/s]"
          ],
          "name": "stderr"
        },
        {
          "output_type": "stream",
          "text": [
            "Attack(\n",
            "  (search_method): GreedyWordSwapWIR(\n",
            "    (wir_method):  weighted-saliency\n",
            "  )\n",
            "  (goal_function):  UntargetedClassification\n",
            "  (transformation):  Swapper\n",
            "  (constraints): \n",
            "    (0): MaxWordsPerturbed(\n",
            "        (max_percent):  0.3\n",
            "        (compare_against_original):  True\n",
            "      )\n",
            "    (1): RepeatModification\n",
            "    (2): StopwordModification\n",
            "  (is_black_box):  True\n",
            ")\n"
          ],
          "name": "stdout"
        },
        {
          "output_type": "display_data",
          "data": {
            "text/html": [
              "<font color = green>Positive (100%)</font> --> <font color = red>Negative (99%)</font><br>I went and saw this movie last night after being coaxed to by a few friends of mine. I'll admit that I was reluctant to see it because from what I knew of Ashton Kutcher he was only able to do comedy. I was wrong. Kutcher played the character of Jake Fischer very well, and Kevin Costner played Ben Randall with such professionalism. The sign of a <font color = green>good</font> movie is that it can toy with our emotions. This one did exactly that. The entire theater (which was sold out) was overcome by laughter during the first half of the movie, and were moved to tears during the second half. While exiting the theater I not only saw many women in tears, but many full grown men as well, trying desperately not to let anyone see them crying. This movie was <font color = green>great</font>, and I suggest that you go see it before you judge.<br>I went and saw this movie last night after being coaxed to by a few friends of mine. I'll admit that I was reluctant to see it because from what I knew of Ashton Kutcher he was only able to do comedy. I was wrong. Kutcher played the character of Jake Fischer very well, and Kevin Costner played Ben Randall with such professionalism. The sign of a <font color = red>bad</font> movie is that it can toy with our emotions. This one did exactly that. The entire theater (which was sold out) was overcome by laughter during the first half of the movie, and were moved to tears during the second half. While exiting the theater I not only saw many women in tears, but many full grown men as well, trying desperately not to let anyone see them crying. This movie was <font color = red>greasy</font>, and I suggest that you go see it before you judge."
            ],
            "text/plain": [
              "<IPython.core.display.HTML object>"
            ]
          },
          "metadata": {
            "tags": []
          }
        },
        {
          "output_type": "stream",
          "text": [
            "[Succeeded / Failed / Total] 1 / 0 / 1:   4%|▍         | 1/25 [00:11<04:29, 11.25s/it]"
          ],
          "name": "stderr"
        },
        {
          "output_type": "display_data",
          "data": {
            "text/html": [
              "<font color = green>Positive (94%)</font> --> <font color = red>Negative (99%)</font><br>Actor turned director Bill Paxton follows up his promising debut, the Gothic-horror \"Frailty\", with this family friendly sports drama about the 1913 U.S. Open where a young American caddy rises from his humble background to play against his Bristish idol in what was dubbed as \"The Greatest Game Ever Played.\" I'm no fan of golf, and these scrappy underdog sports flicks are a dime a dozen (most recently done to grand effect with \"Miracle\" and \"Cinderella Man\"), but some how this film was <font color = green>enthralling</font> all the same.<br /><br />The film starts with some creative opening credits (imagine a Disneyfied version of the animated opening credits of HBO's \"Carnivale\" and \"Rome\"), but lumbers along slowly for its first by-the-numbers hour. Once the action moves to the U.S. Open things pick up very well. Paxton does a nice job and shows a knack for effective directorial flourishes (I loved the rain-soaked montage of the action on day two of the open) that propel the plot further or add some unexpected psychological depth to the proceedings. There's some compelling character development when the British Harry Vardon is haunted by images of the aristocrats in black suits and top hats who destroyed his family cottage as a child to make way for a golf course. He also does a good job of visually depicting what goes on in the players' heads under pressure. Golf, a painfully boring sport, is brought vividly alive here. Credit should also be given the set designers and costume department for creating an engaging period-piece atmosphere of London and Boston at the beginning of the twentieth century.<br /><br />You know how this is going to end not only because it's based on a true story but also because films in this genre follow the same template over and over, but Paxton puts on a better than average show and perhaps indicates more talent behind the camera than he ever had in front of it. Despite the formulaic nature, this is a nice and easy film to root for that deserves to find an audience.<br>Actor turned director Bill Paxton follows up his promising debut, the Gothic-horror \"Frailty\", with this family friendly sports drama about the 1913 U.S. Open where a young American caddy rises from his humble background to play against his Bristish idol in what was dubbed as \"The Greatest Game Ever Played.\" I'm no fan of golf, and these scrappy underdog sports flicks are a dime a dozen (most recently done to grand effect with \"Miracle\" and \"Cinderella Man\"), but some how this film was <font color = red>appalling</font> all the same.<br /><br />The film starts with some creative opening credits (imagine a Disneyfied version of the animated opening credits of HBO's \"Carnivale\" and \"Rome\"), but lumbers along slowly for its first by-the-numbers hour. Once the action moves to the U.S. Open things pick up very well. Paxton does a nice job and shows a knack for effective directorial flourishes (I loved the rain-soaked montage of the action on day two of the open) that propel the plot further or add some unexpected psychological depth to the proceedings. There's some compelling character development when the British Harry Vardon is haunted by images of the aristocrats in black suits and top hats who destroyed his family cottage as a child to make way for a golf course. He also does a good job of visually depicting what goes on in the players' heads under pressure. Golf, a painfully boring sport, is brought vividly alive here. Credit should also be given the set designers and costume department for creating an engaging period-piece atmosphere of London and Boston at the beginning of the twentieth century.<br /><br />You know how this is going to end not only because it's based on a true story but also because films in this genre follow the same template over and over, but Paxton puts on a better than average show and perhaps indicates more talent behind the camera than he ever had in front of it. Despite the formulaic nature, this is a nice and easy film to root for that deserves to find an audience."
            ],
            "text/plain": [
              "<IPython.core.display.HTML object>"
            ]
          },
          "metadata": {
            "tags": []
          }
        },
        {
          "output_type": "stream",
          "text": [
            "[Succeeded / Failed / Total] 2 / 0 / 2:   8%|▊         | 2/25 [00:38<07:19, 19.11s/it]"
          ],
          "name": "stderr"
        },
        {
          "output_type": "display_data",
          "data": {
            "text/html": [
              "<font color = green>Positive (100%)</font> --> <font color = red>Negative (83%)</font><br>As a recreational golfer with some knowledge of the sport's history, I was <font color = green>pleased</font> with Disney's sensitivity to the issues of class in golf in the early twentieth century. The movie depicted well the psychological battles that Harry <font color = green>Vardon</font> fought within himself, from his childhood trauma of being evicted to his own inability to break that glass ceiling that prevents him from being accepted as an equal in English golf society. Likewise, the young Ouimet goes through his own class struggles, being a mere caddie in the eyes of the upper crust Americans who scoff at his attempts to rise above his standing. <br /><br />What I <font color = green>loved</font> best, however, is how this theme of class is manifested in the characters of Ouimet's parents. His father is a working-class drone who sees the value of hard work but is intimidated by the upper class; his mother, however, recognizes her <font color = green>son's</font> talent and desire and encourages him to pursue his dream of competing against those who think he is inferior.<br /><br />Finally, the <font color = green>golf</font> scenes are <font color = green>well</font> photographed. Although the course used in the movie was not the actual site of the historical tournament, the little liberties <font color = green>taken</font> by Disney do not detract from the beauty of the film. There's one little Disney moment at the pool table; otherwise, the viewer does not really think Disney. The ending, as in \"Miracle,\" is not some Disney creation, but one that only human history could have written.<br>As a recreational golfer with some knowledge of the sport's history, I was <font color = red>leased</font> with Disney's sensitivity to the issues of class in golf in the early twentieth century. The movie depicted well the psychological battles that Harry <font color = red>Pardon</font> fought within himself, from his childhood trauma of being evicted to his own inability to break that glass ceiling that prevents him from being accepted as an equal in English golf society. Likewise, the young Ouimet goes through his own class struggles, being a mere caddie in the eyes of the upper crust Americans who scoff at his attempts to rise above his standing. <br /><br />What I <font color = red>liked</font> best, however, is how this theme of class is manifested in the characters of Ouimet's parents. His father is a working-class drone who sees the value of hard work but is intimidated by the upper class; his mother, however, recognizes her <font color = red>sonny</font> talent and desire and encourages him to pursue his dream of competing against those who think he is inferior.<br /><br />Finally, the <font color = red>volleyball</font> scenes are <font color = red>such</font> photographed. Although the course used in the movie was not the actual site of the historical tournament, the little liberties <font color = red>carried</font> by Disney do not detract from the beauty of the film. There's one little Disney moment at the pool table; otherwise, the viewer does not really think Disney. The ending, as in \"Miracle,\" is not some Disney creation, but one that only human history could have written."
            ],
            "text/plain": [
              "<IPython.core.display.HTML object>"
            ]
          },
          "metadata": {
            "tags": []
          }
        },
        {
          "output_type": "stream",
          "text": [
            "[Succeeded / Failed / Total] 3 / 0 / 3:  12%|█▏        | 3/25 [00:57<07:00, 19.13s/it]"
          ],
          "name": "stderr"
        },
        {
          "output_type": "display_data",
          "data": {
            "text/html": [
              "<font color = green>Positive (100%)</font> --> <font color = red>Negative (64%)</font><br>I saw this film in a sneak preview, and it is delightful. The cinematography is unusually creative, the acting is good, and the story is <font color = green>fabulous</font>. <font color = green>If</font> this movie does not do <font color = green>well</font>, it won't be because it doesn't deserve to. Before this film, I didn't realize how <font color = green>charming</font> Shia Lebouf could be. He does a marvelous, self-contained, job as the lead. There's something incredibly sweet about him, and it makes the movie even better. The other actors do a <font color = green>good</font> job as well, and the film contains moments of really high <font color = green>suspense</font>, more than one might expect from a movie about golf. Sports movies are a dime a <font color = green>dozen</font>, but this one stands out. <br /><br />This is one I'd recommend to anyone.<br>I saw this film in a sneak preview, and it is delightful. The cinematography is unusually creative, the acting is good, and the story is <font color = red>nebulous</font>. <font color = red>Sun</font> this movie does not do <font color = red>such</font>, it won't be because it doesn't deserve to. Before this film, I didn't realize how <font color = red>harming</font> Shia Lebouf could be. He does a marvelous, self-contained, job as the lead. There's something incredibly sweet about him, and it makes the movie even better. The other actors do a <font color = red>bad</font> job as well, and the film contains moments of really high <font color = red>suspension</font>, more than one might expect from a movie about golf. Sports movies are a dime a <font color = red>hundred</font>, but this one stands out. <br /><br />This is one I'd recommend to anyone."
            ],
            "text/plain": [
              "<IPython.core.display.HTML object>"
            ]
          },
          "metadata": {
            "tags": []
          }
        },
        {
          "output_type": "stream",
          "text": [
            "[Succeeded / Failed / Total] 4 / 0 / 4:  16%|█▌        | 4/25 [01:06<05:49, 16.66s/it]"
          ],
          "name": "stderr"
        },
        {
          "output_type": "display_data",
          "data": {
            "text/html": [
              "<font color = green>Positive (100%)</font> --> <font color = red>Negative (72%)</font><br>Bill Paxton has taken the true story of the 1913 US golf open and made a film that is about much more than an extra-ordinary game of golf. <font color = green>The</font> film also deals <font color = green>directly</font> with the class tensions of the early twentieth century and <font color = green>touches</font> upon the profound anti-Catholic prejudices of both the British and <font color = green>American</font> establishments. But at <font color = green>heart</font> the film is about that perennial favourite of <font color = green>triumph</font> against the <font color = green>odds</font>.<br /><br />The acting is <font color = green>exemplary</font> throughout. Stephen Dillane is excellent as <font color = green>usual</font>, but the revelation of the movie is Shia LaBoeuf who delivers a disciplined, dignified and highly sympathetic performance as a working class Franco-Irish kid fighting his way through the prejudices of the New England <font color = green>WASP</font> <font color = green>establishment</font>. For those who are only familiar with his slap-stick performances in \"Even Stevens\" this demonstration of his maturity is a delightful surprise. And Josh Flitter as the ten year <font color = green>old</font> caddy threatens to steal every scene in which he appears.<br /><br />A old <font color = green>fashioned</font> movie in the best sense of the <font color = green>word</font>: fine <font color = green>acting</font>, <font color = green>clear</font> <font color = green>directing</font> and a <font color = green>great</font> <font color = green>story</font> that grips to the end - the final scene an affectionate nod to Casablanca is just one of the many pleasures that fill a great movie.<br>Bill Paxton has taken the true story of the 1913 US golf open and made a film that is about much more than an extra-ordinary game of golf. <font color = red>Gauche</font> film also deals <font color = red>correctly</font> with the class tensions of the early twentieth century and <font color = red>couches</font> upon the profound anti-Catholic prejudices of both the British and <font color = red>Rican</font> establishments. But at <font color = red>hemorrhage</font> the film is about that perennial favourite of <font color = red>triumvirs</font> against the <font color = red>bets</font>.<br /><br />The acting is <font color = red>exemplar</font> throughout. Stephen Dillane is excellent as <font color = red>inconvenient</font>, but the revelation of the movie is Shia LaBoeuf who delivers a disciplined, dignified and highly sympathetic performance as a working class Franco-Irish kid fighting his way through the prejudices of the New England <font color = red>WOUNDS</font> <font color = red>abolishment</font>. For those who are only familiar with his slap-stick performances in \"Even Stevens\" this demonstration of his maturity is a delightful surprise. And Josh Flitter as the ten year <font color = red>gutnish</font> caddy threatens to steal every scene in which he appears.<br /><br />A old <font color = red>cushioned</font> movie in the best sense of the <font color = red>meaning</font>: fine <font color = red>directing</font>, <font color = red>regrettable</font> <font color = red>direction</font> and a <font color = red>greasy</font> <font color = red>novel</font> that grips to the end - the final scene an affectionate nod to Casablanca is just one of the many pleasures that fill a great movie."
            ],
            "text/plain": [
              "<IPython.core.display.HTML object>"
            ]
          },
          "metadata": {
            "tags": []
          }
        },
        {
          "output_type": "stream",
          "text": [
            "[Succeeded / Failed / Total] 5 / 0 / 5:  20%|██        | 5/25 [01:26<05:45, 17.25s/it]"
          ],
          "name": "stderr"
        },
        {
          "output_type": "display_data",
          "data": {
            "text/html": [
              "<font color = green>Positive (100%)</font> --> <font color = red>[FAILED]</font><br>I saw this film on September 1st, 2005 in Indianapolis. I am one of the judges for the Heartland Film Festival that screens films for their Truly Moving Picture Award. A Truly Moving Picture \"...explores the human journey by artistically expressing hope and respect for the positive values of life.\" Heartland gave that award to this film.<br /><br />This is a story of golf in the early part of the 20th century. At that time, it was the game of upper class and rich \"gentlemen\", and working people could only participate by being caddies at country clubs. With this backdrop, this based-on-a-true-story unfolds with a young, working class boy who takes on the golf establishment and the greatest golfer in the world, Harry Vardon.<br /><br />And the story is inspirational. Against all odds, Francis Ouimet (played by Shia LaBeouf of \"Holes\") gets to compete against the greatest golfers of the U.S. and Great Britain at the 1913 U.S. Open. Francis is ill-prepared, and has a child for a caddy. (The caddy is hilarious and motivational and steals every scene he appears in.) But despite these handicaps, Francis displays courage, spirit, heroism, and humility at this world class event.<br /><br />And, we learn a lot about the early years of golf; for example, the use of small wooden clubs, the layout of the short holes, the manual scoreboard, the golfers swinging with pipes in their mouths, the terrible conditions of the greens and fairways, and the play not being canceled even in torrential rain.<br /><br />This film has stunning cinematography and art direction and editing. And with no big movie stars, the story is somehow more believable.<br /><br />This adds to the inventory of great sports movies in the vein of \"Miracle\" and \"Remember the Titans.\"<br /><br />FYI - There is a Truly Moving Pictures web site where there is a listing of past winners going back 70 years."
            ],
            "text/plain": [
              "<IPython.core.display.HTML object>"
            ]
          },
          "metadata": {
            "tags": []
          }
        },
        {
          "output_type": "stream",
          "text": [
            "[Succeeded / Failed / Total] 5 / 1 / 6:  24%|██▍       | 6/25 [02:05<06:37, 20.92s/it]"
          ],
          "name": "stderr"
        },
        {
          "output_type": "display_data",
          "data": {
            "text/html": [
              "<font color = green>Positive (97%)</font> --> <font color = red>Negative (77%)</font><br><font color = green>Maybe</font> I'm reading into this too much, but I wonder how much of a hand Hongsheng had in developing the film. I mean, when a story is told casting the main character as himself, I would think he would be a heavy hand in writing, documenting, etc. and that would make it a little biased.<br /><br />But...his family and friends also may have had a hand in getting the actual details about Hongsheng's life. I think the best <font color = green>view</font> would have been told from Hongsheng's family and friends' perspectives. They saw his transformation and weren't so messed up on drugs that they remember everything.<br /><br />As for Hongsheng being full of himself, the consistencies of the Jesus Christ pose make him appear as a martyr who sacrificed his life (metaphorically, of course, he's obviously still alive as he was cast as himself) for his family's happiness. Huh?<br /><br />The viewer sees him at his lowest points while still maintaining a superiority complex. He lies on the grass coming down from (during?) a high by himself and with his father, he contemplates life and has visions of dragons at his window, he celebrates his freedom on a bicycle all while outstretching his arms, his head cocked to the side.<br /><br />It's fabulous that he's off of drugs now, but he's no hero. He went from a high point in his career in acting to his most vulnerable point while on drugs to come back somewhere in the middle.<br /><br />This same device is used in Ted Demme's \"Blow\" where the audience empathizes with the main character who is shown as a flawed hero.<br /><br />However, \"Quitting\" (\"Zuotian\") is a film that is recommended, mostly for its haunting soundtrack, superb acting, and landscapes. But, the best part is the feeling that one gets when what we presume to be the house of Jia Hongsheng is actually a stage setting for a play. It makes the viewer feel as if Hongsheng's life was merely a play told in many difficult parts.<br><font color = red>Farthing</font> I'm reading into this too much, but I wonder how much of a hand Hongsheng had in developing the film. I mean, when a story is told casting the main character as himself, I would think he would be a heavy hand in writing, documenting, etc. and that would make it a little biased.<br /><br />But...his family and friends also may have had a hand in getting the actual details about Hongsheng's life. I think the best <font color = red>misinterpretation</font> would have been told from Hongsheng's family and friends' perspectives. They saw his transformation and weren't so messed up on drugs that they remember everything.<br /><br />As for Hongsheng being full of himself, the consistencies of the Jesus Christ pose make him appear as a martyr who sacrificed his life (metaphorically, of course, he's obviously still alive as he was cast as himself) for his family's happiness. Huh?<br /><br />The viewer sees him at his lowest points while still maintaining a superiority complex. He lies on the grass coming down from (during?) a high by himself and with his father, he contemplates life and has visions of dragons at his window, he celebrates his freedom on a bicycle all while outstretching his arms, his head cocked to the side.<br /><br />It's fabulous that he's off of drugs now, but he's no hero. He went from a high point in his career in acting to his most vulnerable point while on drugs to come back somewhere in the middle.<br /><br />This same device is used in Ted Demme's \"Blow\" where the audience empathizes with the main character who is shown as a flawed hero.<br /><br />However, \"Quitting\" (\"Zuotian\") is a film that is recommended, mostly for its haunting soundtrack, superb acting, and landscapes. But, the best part is the feeling that one gets when what we presume to be the house of Jia Hongsheng is actually a stage setting for a play. It makes the viewer feel as if Hongsheng's life was merely a play told in many difficult parts."
            ],
            "text/plain": [
              "<IPython.core.display.HTML object>"
            ]
          },
          "metadata": {
            "tags": []
          }
        },
        {
          "output_type": "stream",
          "text": [
            "[Succeeded / Failed / Total] 6 / 1 / 7:  28%|██▊       | 7/25 [02:31<06:30, 21.69s/it]"
          ],
          "name": "stderr"
        },
        {
          "output_type": "display_data",
          "data": {
            "text/html": [
              "<font color = green>Positive (97%)</font> --> <font color = red>Negative (60%)</font><br>I felt this film did have <font color = green>many</font> good qualities. The cinematography was certainly different exposing the stage aspect of the set and story. The original characters as actors was certainly an achievement and I felt most played quite convincingly, of course they are playing themselves, but definitely unique. The cultural aspects may leave many disappointed as a familiarity with the Chinese and Oriental culture will answer a lot of questions regarding parent/child relationships and the stigma that goes with any drug use. I found the Jia Hongsheng story interesting. On a down note, the story is in Beijing and some of the <font color = green>fashion</font> and music reek of early 90s even though this was made in 2001, so it's really cheesy sometimes (the Beatles crap, etc). <font color = green>Whatever</font>, not a top ten or twenty but if it's on the television, check it out.<br>I felt this film did have <font color = red>some</font> good qualities. The cinematography was certainly different exposing the stage aspect of the set and story. The original characters as actors was certainly an achievement and I felt most played quite convincingly, of course they are playing themselves, but definitely unique. The cultural aspects may leave many disappointed as a familiarity with the Chinese and Oriental culture will answer a lot of questions regarding parent/child relationships and the stigma that goes with any drug use. I found the Jia Hongsheng story interesting. On a down note, the story is in Beijing and some of the <font color = red>manner</font> and music reek of early 90s even though this was made in 2001, so it's really cheesy sometimes (the Beatles crap, etc). <font color = red>Whosoever</font>, not a top ten or twenty but if it's on the television, check it out."
            ],
            "text/plain": [
              "<IPython.core.display.HTML object>"
            ]
          },
          "metadata": {
            "tags": []
          }
        },
        {
          "output_type": "stream",
          "text": [
            "[Succeeded / Failed / Total] 7 / 1 / 8:  32%|███▏      | 8/25 [02:42<05:45, 20.31s/it]"
          ],
          "name": "stderr"
        },
        {
          "output_type": "display_data",
          "data": {
            "text/html": [
              "<font color = green>Positive (100%)</font> --> <font color = red>Negative (91%)</font><br>This movie is amazing because the fact that the <font color = green>real</font> people portray themselves and their real life experience and do such a good job it's like they're almost living the past over again. Jia Hongsheng plays himself an actor who quit everything except music and drugs struggling with depression and searching for the meaning of life while being angry at everyone especially the people who care for him most. There's moments in the movie that will make you wanna cry because the family especially the <font color = green>father</font> did such a good job. <font color = green>However</font>, this movie is not for everyone. Many people who suffer from depression will understand Hongsheng's problem and why he does the things he does for example keep himself shut in a dark room or go for walks or bike rides by himself. <font color = green>Others</font> might <font color = green>see</font> the movie as boring because it's just so <font color = green>real</font> that its almost like a <font color = green>documentary</font>. <font color = green>Overall</font> this movie is <font color = green>great</font> and <font color = green>Hongsheng</font> deserved an Oscar for this movie so did his Dad.<br>This movie is amazing because the fact that the <font color = red>unimaginable</font> people portray themselves and their real life experience and do such a good job it's like they're almost living the past over again. Jia Hongsheng plays himself an actor who quit everything except music and drugs struggling with depression and searching for the meaning of life while being angry at everyone especially the people who care for him most. There's moments in the movie that will make you wanna cry because the family especially the <font color = red>mother</font> did such a good job. <font color = red>Indeed</font>, this movie is not for everyone. Many people who suffer from depression will understand Hongsheng's problem and why he does the things he does for example keep himself shut in a dark room or go for walks or bike rides by himself. <font color = red>Withers</font> might <font color = red>disambiguation</font> the movie as boring because it's just so <font color = red>unimaginable</font> that its almost like a <font color = red>mockumentary</font>. <font color = red>Adderall</font> this movie is <font color = red>greasy</font> and <font color = red>Zhongzheng</font> deserved an Oscar for this movie so did his Dad."
            ],
            "text/plain": [
              "<IPython.core.display.HTML object>"
            ]
          },
          "metadata": {
            "tags": []
          }
        },
        {
          "output_type": "stream",
          "text": [
            "[Succeeded / Failed / Total] 8 / 1 / 9:  36%|███▌      | 9/25 [02:55<05:12, 19.51s/it]"
          ],
          "name": "stderr"
        },
        {
          "output_type": "display_data",
          "data": {
            "text/html": [
              "<font color = green>Positive (100%)</font> --> <font color = red>Negative (52%)</font><br>\"Quitting\" <font color = green>may</font> be as much about exiting a <font color = green>pre-ordained</font> identity as about drug withdrawal. As a rural guy coming to Beijing, <font color = green>class</font> and success must have struck this <font color = green>young</font> <font color = green>artist</font> <font color = green>face</font> on as an appeal to separate from his <font color = green>roots</font> and far surpass his <font color = green>peasant</font> parents' acting <font color = green>success</font>. Troubles arise, however, when the <font color = green>new</font> man is too <font color = green>new</font>, when it demands too <font color = green>big</font> a departure from <font color = green>family</font>, history, nature, and personal identity. The ensuing splits, and confusion between the imaginary and the <font color = green>real</font> and the dissonance between the ordinary and the heroic are the stuff of a gut check on the <font color = green>one</font> hand or a <font color = green>complete</font> escape from self on the other. Hongshen slips into the latter and his long and lonely road <font color = green>back</font> to self can be grim.<br /><br />But what an <font color = green>exceptionally</font> convincing particularity, <font color = green>honesty</font>, and sensuousness director Zhang Yang, and his actors, bring to this journey. <font color = green>No</font> clichés, no <font color = green>stereotypes</font>, no <font color = green>rigid</font> gender <font color = green>roles</font>, no requisite <font color = green>sex</font>, romance or <font color = green>violence</font> <font color = green>scenes</font>, no <font color = green>requisite</font> street language and, to <font color = green>boot</font>, no <font color = green>assumed</font> money to float character <font color = green>acts</font> and whims. <br /><br />Hongshen Jia is in his mid-twenties. He's a talented actor, impressionable, vain, idealistic, and perhaps emotionally starved. The perfect recipe for his enablers. Soon he's the \"cool\" actor, idolized by youth. \"He was hot in the early nineties.\" \"He always had to be the most fashionable.\" He needs extremes, and goes in for heavy metal, adopts earrings and a scarf. His acting means the arts, friends--and roles, But not the kind that offer any personal challenge or input. And his self-criticism, dulled by the immediacy of success, opens the doors to an irrational self-doubt, self-hatred-- \"I didn't know how to act\" \"I felt like a phony\"--and to readily available drugs to counter them. He says \"I had to get high to do what director wanted.\" So, his shallow identity as an actor becomes, via drugs, an escape from identity. <br /><br />Hongshen's disengagement from drugs and his false life is very gradual, intermittent--and doggedly his own. Solitude, space, meditative thinking, speech refusal, replace therapy. The abstract is out. And a great deal of his change occurs outdoors---not in idealized locations but mainly on green patches under the freeways, bridges, and high-rises of Beijing. The physicality is almost romantic, but is not. The bike rides to Ritan Park, the long spontaneous walks, the drenching sun and rain, grassy picnics, the sky patterns and kites that absorb his musing are very specific. He drifts in order to arrive, all the while picking up cues to a more real and realistic identity. \"I started to open up\" he says of this period in retrospect. And the contact seems to start with his lanky body which projects a kind of dancer's positioning (clumsy, graceful, humorous, telling) in a current circumstance. If mind or spirit is lacking, his legs can compel him to walk all night. <br /><br />Central to his comeback is the rejection of set roles. To punctuate his end to acting and his determination to a new identity, he smashes his videos and TV, and bangs his head till bloody against his \"John Lennon Forever\" poster. He has let down his iconic anti-establishment artist---but he's the only viable guide he knows. He even imagines himself as John's son (Yoko Ono), and adopts his \"Mother Mary\" as an intercessor in his \"hour of darkness\" and \"time of trouble.\" (the wrenching, shaking pain in the park--hallucinatory and skitzoid ordeals) \"Music is so much more real than acting\" he says. And speaks of Lennon's influence as \"showing me a new way.\" In the mental institute, the life-saving apples (resistance, nourishment) reflect Lennon's presence, as does Hongshen's need to re-hang his hero's poster in his redecorated room.<br /><br />If Lennon's influence is spiriting, Hongshen's father's influence is grounding. Although father and son are both actors and users (drugs and drink), it is Fegsen's differences from his son that underwrites his change. For the father is more secure in himself: he accepts that he's Chinese, a peasant in a line of peasants, a rural theater director. And he exercises control over both his habit and his emotions. It's this recognizable identity that drives Hongshen to treat him like a sounding board, sometimes with anger and rage, sometimes with humor (the blue jeans, Beatles) and passivity. In his most crazed, and violent exchange with his father in which he accuses him of being a liar, and a fake, he exposes more of himself than his father: \"all the acts I acted before were bullshit... life is bullshit.\" And to Hongshen's emphatic \"you are NOT my father,\" he softly replies, \"why can't a peasant be your father?\" <br /><br />Under these two teachers and with much additional help from his mother, sister, friends, inmates at the rehab inst., he makes some tangible connection to a real (not whole) self. As the long term drug effects recede, so does his old identity. Indebtedness replaces pride, trust distrust. Integrity banishes his black cloud. All his edges soften. \"You are just a human being\" he repeats endlessly after being released from the strap-down incurred for refusing medicine. Back home, lard peasant soap is fine with him now. And his once \"rare and true friendships\" begin again as is so evident in the back to poignant back-to-back fence scene with his musician buddy. Hongshen says of this movie: \"it's a good chance to think about my life.\" And I might add, become a New Actor, one bound to art and life. Like Lennon, he has gained success without a loss of identity.<br>\"Quitting\" <font color = red>should</font> be as much about exiting a <font color = red>preordained</font> identity as about drug withdrawal. As a rural guy coming to Beijing, <font color = red>clasp</font> and success must have struck this <font color = red>teenager</font> <font color = red>composer</font> <font color = red>eyes</font> on as an appeal to separate from his <font color = red>origins</font> and far surpass his <font color = red>pheasant</font> parents' acting <font color = red>popularity</font>. Troubles arise, however, when the <font color = red>york</font> man is too <font color = red>york</font>, when it demands too <font color = red>bang</font> a departure from <font color = red>families</font>, history, nature, and personal identity. The ensuing splits, and confusion between the imaginary and the <font color = red>unimaginable</font> and the dissonance between the ordinary and the heroic are the stuff of a gut check on the <font color = red>nine</font> hand or a <font color = red>comprehensive</font> escape from self on the other. Hongshen slips into the latter and his long and lonely road <font color = red>down</font> to self can be grim.<br /><br />But what an <font color = red>optionally</font> convincing particularity, <font color = red>honest</font>, and sensuousness director Zhang Yang, and his actors, bring to this journey. <font color = red>Biqa</font> clichés, no <font color = red>stereotype</font>, no <font color = red>flexible</font> gender <font color = red>role</font>, no requisite <font color = red>sexual</font>, romance or <font color = red>violent</font> <font color = red>scene</font>, no <font color = red>recompense</font> street language and, to <font color = red>kickstart</font>, no <font color = red>presumed</font> money to float character <font color = red>act</font> and whims. <br /><br />Hongshen Jia is in his mid-twenties. He's a talented actor, impressionable, vain, idealistic, and perhaps emotionally starved. The perfect recipe for his enablers. Soon he's the \"cool\" actor, idolized by youth. \"He was hot in the early nineties.\" \"He always had to be the most fashionable.\" He needs extremes, and goes in for heavy metal, adopts earrings and a scarf. His acting means the arts, friends--and roles, But not the kind that offer any personal challenge or input. And his self-criticism, dulled by the immediacy of success, opens the doors to an irrational self-doubt, self-hatred-- \"I didn't know how to act\" \"I felt like a phony\"--and to readily available drugs to counter them. He says \"I had to get high to do what director wanted.\" So, his shallow identity as an actor becomes, via drugs, an escape from identity. <br /><br />Hongshen's disengagement from drugs and his false life is very gradual, intermittent--and doggedly his own. Solitude, space, meditative thinking, speech refusal, replace therapy. The abstract is out. And a great deal of his change occurs outdoors---not in idealized locations but mainly on green patches under the freeways, bridges, and high-rises of Beijing. The physicality is almost romantic, but is not. The bike rides to Ritan Park, the long spontaneous walks, the drenching sun and rain, grassy picnics, the sky patterns and kites that absorb his musing are very specific. He drifts in order to arrive, all the while picking up cues to a more real and realistic identity. \"I started to open up\" he says of this period in retrospect. And the contact seems to start with his lanky body which projects a kind of dancer's positioning (clumsy, graceful, humorous, telling) in a current circumstance. If mind or spirit is lacking, his legs can compel him to walk all night. <br /><br />Central to his comeback is the rejection of set roles. To punctuate his end to acting and his determination to a new identity, he smashes his videos and TV, and bangs his head till bloody against his \"John Lennon Forever\" poster. He has let down his iconic anti-establishment artist---but he's the only viable guide he knows. He even imagines himself as John's son (Yoko Ono), and adopts his \"Mother Mary\" as an intercessor in his \"hour of darkness\" and \"time of trouble.\" (the wrenching, shaking pain in the park--hallucinatory and skitzoid ordeals) \"Music is so much more real than acting\" he says. And speaks of Lennon's influence as \"showing me a new way.\" In the mental institute, the life-saving apples (resistance, nourishment) reflect Lennon's presence, as does Hongshen's need to re-hang his hero's poster in his redecorated room.<br /><br />If Lennon's influence is spiriting, Hongshen's father's influence is grounding. Although father and son are both actors and users (drugs and drink), it is Fegsen's differences from his son that underwrites his change. For the father is more secure in himself: he accepts that he's Chinese, a peasant in a line of peasants, a rural theater director. And he exercises control over both his habit and his emotions. It's this recognizable identity that drives Hongshen to treat him like a sounding board, sometimes with anger and rage, sometimes with humor (the blue jeans, Beatles) and passivity. In his most crazed, and violent exchange with his father in which he accuses him of being a liar, and a fake, he exposes more of himself than his father: \"all the acts I acted before were bullshit... life is bullshit.\" And to Hongshen's emphatic \"you are NOT my father,\" he softly replies, \"why can't a peasant be your father?\" <br /><br />Under these two teachers and with much additional help from his mother, sister, friends, inmates at the rehab inst., he makes some tangible connection to a real (not whole) self. As the long term drug effects recede, so does his old identity. Indebtedness replaces pride, trust distrust. Integrity banishes his black cloud. All his edges soften. \"You are just a human being\" he repeats endlessly after being released from the strap-down incurred for refusing medicine. Back home, lard peasant soap is fine with him now. And his once \"rare and true friendships\" begin again as is so evident in the back to poignant back-to-back fence scene with his musician buddy. Hongshen says of this movie: \"it's a good chance to think about my life.\" And I might add, become a New Actor, one bound to art and life. Like Lennon, he has gained success without a loss of identity."
            ],
            "text/plain": [
              "<IPython.core.display.HTML object>"
            ]
          },
          "metadata": {
            "tags": []
          }
        },
        {
          "output_type": "stream",
          "text": [
            "[Succeeded / Failed / Total] 9 / 1 / 10:  40%|████      | 10/25 [05:17<07:56, 31.80s/it]"
          ],
          "name": "stderr"
        },
        {
          "output_type": "display_data",
          "data": {
            "text/html": [
              "<font color = green>Positive (100%)</font> --> <font color = red>[FAILED]</font><br>I loved this movie from beginning to end.I am a musician and i let drugs get in the way of my some of the things i used to love(skateboarding,drawing) but my friends were always there for me.Music was like my rehab,life support,and my drug.It changed my life.I can totally relate to this movie and i wish there was more i could say.This movie left me speechless to be honest.I just saw it on the Ifc channel.I usually hate having satellite but this was a perk of having satellite.The ifc channel shows some really great movies and without it I never would have found this movie.Im not a big fan of the international films because i find that a lot of the don't do a very good job on translating lines.I mean the obvious language barrier leaves you to just believe thats what they are saying but its not that big of a deal i guess.I almost never got to see this AMAZING movie.Good thing i stayed up for it instead of going to bed..well earlier than usual.lol.I hope you all enjoy the hell of this movie and Love this movie just as much as i did.I wish i could type this all in caps but its again the rules i guess thats shouting but it would really show my excitement for the film.I Give It Three Thumbs Way Up!<br /><br />This Movie Blew ME AWAY!"
            ],
            "text/plain": [
              "<IPython.core.display.HTML object>"
            ]
          },
          "metadata": {
            "tags": []
          }
        },
        {
          "output_type": "stream",
          "text": [
            "[Succeeded / Failed / Total] 9 / 2 / 11:  44%|████▍     | 11/25 [05:45<07:19, 31.39s/it]"
          ],
          "name": "stderr"
        },
        {
          "output_type": "display_data",
          "data": {
            "text/html": [
              "<font color = green>Positive (100%)</font> --> <font color = red>Negative (59%)</font><br>I was fortunate to attend the London premier of this film. While I am not at all a fan of British drama, I did find myself deeply moved by the characters and the BAD <font color = green>CHOICES</font> they made. I was in tears by the end of the film. Every scene was mesmerizing. The attention to detail and the excellent acting was quite impressive.<br /><br />I would have to agree with some of the other comments here which question why all these women were throwing themselves at such a despicable character.<br /><br />*******SPOLIER ALERT******** I was also hoping that Dylan would have been killed by William when he had the chance! ****END SPOILER*****<br /><br />Keira Knightley did a great job and radiate beauty and innocence from the screen, but it was Sienna Miller's performance that was truly Oscar <font color = green>worthy</font>.<br /><br />I am sure this production will be nominated for other awards.<br>I was fortunate to attend the London premier of this film. While I am not at all a fan of British drama, I did find myself deeply moved by the characters and the BAD <font color = red>PBK</font> they made. I was in tears by the end of the film. Every scene was mesmerizing. The attention to detail and the excellent acting was quite impressive.<br /><br />I would have to agree with some of the other comments here which question why all these women were throwing themselves at such a despicable character.<br /><br />*******SPOLIER ALERT******** I was also hoping that Dylan would have been killed by William when he had the chance! ****END SPOILER*****<br /><br />Keira Knightley did a great job and radiate beauty and innocence from the screen, but it was Sienna Miller's performance that was truly Oscar <font color = red>worthless</font>.<br /><br />I am sure this production will be nominated for other awards."
            ],
            "text/plain": [
              "<IPython.core.display.HTML object>"
            ]
          },
          "metadata": {
            "tags": []
          }
        },
        {
          "output_type": "stream",
          "text": [
            "[Succeeded / Failed / Total] 10 / 2 / 12:  48%|████▊     | 12/25 [05:56<06:25, 29.68s/it]"
          ],
          "name": "stderr"
        },
        {
          "output_type": "display_data",
          "data": {
            "text/html": [
              "<font color = green>Positive (100%)</font> --> <font color = red>Negative (51%)</font><br>I first <font color = green>saw</font> this <font color = green>movie</font> on IFC. Which is a <font color = green>great</font> network by the way to see underground films. I watched this movie and was thinking it was going to be pure drama and a <font color = green>story</font> line that doesn't hold water. But it really was a worth while watch. The <font color = green>main</font> character is in such rough shape, and you hate to see him deny <font color = green>help</font>, but no matter what you just can't hate him. His devotion to The Beatles and John Lennon is a <font color = green>great</font> metaphor for his life and the helplessness he feels. <br /><br />The atmosphere of the film is also <font color = green>great</font>. At times, you feel like you can see what he <font color = green>sees</font>, <font color = green>feel</font> what he feels in some <font color = green>situations</font>. This movie does not leave you <font color = green>wanting</font> to know more, or disliking a loophole in the plot. There are NO loopholes (in my opinion). I have always been a fan of foreign films, especially now with movies being made so poorly in <font color = green>America</font>. I really enjoy the foreign settings because I feel it can take you on a trip, and <font color = green>sometimes</font> understand a different culture. This movie did all those things to me and more. Please watch this movie and if you're new to foreign films, this is a great start.<br>I first <font color = red>gave</font> this <font color = red>film</font> on IFC. Which is a <font color = red>greasy</font> network by the way to see underground films. I watched this movie and was thinking it was going to be pure drama and a <font color = red>novel</font> line that doesn't hold water. But it really was a worth while watch. The <font color = red>primary</font> character is in such rough shape, and you hate to see him deny <font color = red>assist</font>, but no matter what you just can't hate him. His devotion to The Beatles and John Lennon is a <font color = red>greasy</font> metaphor for his life and the helplessness he feels. <br /><br />The atmosphere of the film is also <font color = red>greasy</font>. At times, you feel like you can see what he <font color = red>conceives</font>, <font color = red>think</font> what he feels in some <font color = red>situation</font>. This movie does not leave you <font color = red>wishing</font> to know more, or disliking a loophole in the plot. There are NO loopholes (in my opinion). I have always been a fan of foreign films, especially now with movies being made so poorly in <font color = red>Comerica</font>. I really enjoy the foreign settings because I feel it can take you on a trip, and <font color = red>often</font> understand a different culture. This movie did all those things to me and more. Please watch this movie and if you're new to foreign films, this is a great start."
            ],
            "text/plain": [
              "<IPython.core.display.HTML object>"
            ]
          },
          "metadata": {
            "tags": []
          }
        },
        {
          "output_type": "stream",
          "text": [
            "[Succeeded / Failed / Total] 11 / 2 / 13:  52%|█████▏    | 13/25 [06:13<05:45, 28.76s/it]"
          ],
          "name": "stderr"
        },
        {
          "output_type": "display_data",
          "data": {
            "text/html": [
              "<font color = green>Positive (100%)</font> --> <font color = red>Negative (95%)</font><br>I must say, every time I see this movie, I am <font color = green>deeply</font> <font color = green>touched</font>, not only by the most painful four years of Hongsheng's life, but also by how his family deals with his drug addiction. It is also true that getting addicted to anything, such as drugs, alcohol, or pornography, cannot only hurt you, but also hurt your most important people in the world: your family. Since family is the #1 priority in the Asian culture, it takes guts for the circle to gather together and show one person how much the family loves him/her. this is actually the first Chinese movie that I actually enjoy, not for the fun of it, but the elements surrounding it (superb acting, touching story, <font color = green>great</font> direction) make this movie worth watching. What stands out the most is that Hongsheng and his family act out the story themselves <font color = green>instead</font> of having some B-movie actor trying to imitate the real person. It shows the <font color = green>genuineness</font> of the movie.<br>I must say, every time I see this movie, I am <font color = red>steeply</font> <font color = red>couched</font>, not only by the most painful four years of Hongsheng's life, but also by how his family deals with his drug addiction. It is also true that getting addicted to anything, such as drugs, alcohol, or pornography, cannot only hurt you, but also hurt your most important people in the world: your family. Since family is the #1 priority in the Asian culture, it takes guts for the circle to gather together and show one person how much the family loves him/her. this is actually the first Chinese movie that I actually enjoy, not for the fun of it, but the elements surrounding it (superb acting, touching story, <font color = red>greasy</font> direction) make this movie worth watching. What stands out the most is that Hongsheng and his family act out the story themselves <font color = red>simply</font> of having some B-movie actor trying to imitate the real person. It shows the <font color = red>vagueness</font> of the movie."
            ],
            "text/plain": [
              "<IPython.core.display.HTML object>"
            ]
          },
          "metadata": {
            "tags": []
          }
        },
        {
          "output_type": "stream",
          "text": [
            "[Succeeded / Failed / Total] 12 / 2 / 14:  56%|█████▌    | 14/25 [06:25<05:03, 27.57s/it]"
          ],
          "name": "stderr"
        },
        {
          "output_type": "display_data",
          "data": {
            "text/html": [
              "<font color = green>Positive (96%)</font> --> <font color = red>Negative (95%)</font><br>My wife is a mental health therapist and we watched it from beginning to end. I am the typical man and can not stand chick flicks, but this movie is unbelievable. If you want to see what it is like for someone who is going through these type of struggles, this is the movie for you. As I watched it I found myself feeling sorry for him and others like him. <br /><br />***Spoiler*** Plus the fact that all the individuals in the movie including the people in the mental institution were the actual people in real life made it that more <font color = green>real</font>.<br /><br />A must see for someone in the mental health profession!<br>My wife is a mental health therapist and we watched it from beginning to end. I am the typical man and can not stand chick flicks, but this movie is unbelievable. If you want to see what it is like for someone who is going through these type of struggles, this is the movie for you. As I watched it I found myself feeling sorry for him and others like him. <br /><br />***Spoiler*** Plus the fact that all the individuals in the movie including the people in the mental institution were the actual people in real life made it that more <font color = red>unimaginable</font>.<br /><br />A must see for someone in the mental health profession!"
            ],
            "text/plain": [
              "<IPython.core.display.HTML object>"
            ]
          },
          "metadata": {
            "tags": []
          }
        },
        {
          "output_type": "stream",
          "text": [
            "[Succeeded / Failed / Total] 13 / 2 / 15:  60%|██████    | 15/25 [06:33<04:22, 26.26s/it]"
          ],
          "name": "stderr"
        },
        {
          "output_type": "display_data",
          "data": {
            "text/html": [
              "<font color = green>Positive (100%)</font> --> <font color = red>Negative (67%)</font><br>I <font color = green>saw</font> this film at the Rotterdam International Film Festival 2002. This seemed to be one of the less popular films on the festival, however, as it turned out, all the more interesting.<br /><br />The story, of an actor trying to come to grips with himself and his environment after withdrawing from a drug addiction, is based on actual facts. Moreover, the characters playing in the film are the real people living this experience over again, this <font color = green>time</font> for the film, which is partly set up as a stage play. Not only do they all happen to be good actors, Jia Hongsheng's parents are actors in real life as well, the methods used in highlighting their relationship towards Jia are very effective.<br /><br />Jia Hongsheng is the actor of some Chinese action films late eighties start nineties. Later you can see him in <font color = green>great</font> films such as Frozen and Suzhou River. In between these two career paths Jia becomes a drug addict and looses all drive to act or even do anything productive, except for making <font color = green>somewhat</font> futile attempts at becoming a guitar virtuoso.<br /><br /><font color = green>I</font> <font color = green>like</font> the <font color = green>way</font> the writer of the scenario choose to emphasize on his behavior after withdrawal more than on the horror of drugs. We really feel the pain and struggle Jia is in. At the same time we hate him for the way he treats those around him.<br /><br />The film draws the viewer into a tiring pattern Jia seems to be caught in, dragging with him his parents and sister who try to take care of him. Because there are personal 'interviews' with the characters we feel like we are getting to know Jia not only through himself but through others as well.<br /><br />The film has a heavy feel, but scenes of Jia cycling through Bejing and partying with his friends lighten the tone. So does the bitter humor in a lot of events throughout the film. The music is beautiful and stayed with me for a while after. This is a film that might not easily appeal to many people but for those interested in the more serious and modern Chinese film this is a strong recommendation.<br>I <font color = red>gave</font> this film at the Rotterdam International Film Festival 2002. This seemed to be one of the less popular films on the festival, however, as it turned out, all the more interesting.<br /><br />The story, of an actor trying to come to grips with himself and his environment after withdrawing from a drug addiction, is based on actual facts. Moreover, the characters playing in the film are the real people living this experience over again, this <font color = red>period</font> for the film, which is partly set up as a stage play. Not only do they all happen to be good actors, Jia Hongsheng's parents are actors in real life as well, the methods used in highlighting their relationship towards Jia are very effective.<br /><br />Jia Hongsheng is the actor of some Chinese action films late eighties start nineties. Later you can see him in <font color = red>greasy</font> films such as Frozen and Suzhou River. In between these two career paths Jia becomes a drug addict and looses all drive to act or even do anything productive, except for making <font color = red>mildly</font> futile attempts at becoming a guitar virtuoso.<br /><br /><font color = red>ENCHANTER</font> <font color = red>resembling</font> the <font color = red>thing</font> the writer of the scenario choose to emphasize on his behavior after withdrawal more than on the horror of drugs. We really feel the pain and struggle Jia is in. At the same time we hate him for the way he treats those around him.<br /><br />The film draws the viewer into a tiring pattern Jia seems to be caught in, dragging with him his parents and sister who try to take care of him. Because there are personal 'interviews' with the characters we feel like we are getting to know Jia not only through himself but through others as well.<br /><br />The film has a heavy feel, but scenes of Jia cycling through Bejing and partying with his friends lighten the tone. So does the bitter humor in a lot of events throughout the film. The music is beautiful and stayed with me for a while after. This is a film that might not easily appeal to many people but for those interested in the more serious and modern Chinese film this is a strong recommendation."
            ],
            "text/plain": [
              "<IPython.core.display.HTML object>"
            ]
          },
          "metadata": {
            "tags": []
          }
        },
        {
          "output_type": "stream",
          "text": [
            "[Succeeded / Failed / Total] 14 / 2 / 16:  64%|██████▍   | 16/25 [07:02<03:57, 26.40s/it]"
          ],
          "name": "stderr"
        },
        {
          "output_type": "display_data",
          "data": {
            "text/html": [
              "<font color = red>Negative (99%)</font> --> <font color = gray>[SKIPPED]</font><br>\"Night of the Hunted\" stars French porn star Brigitte Lahaie.In fact,many of the cast members in this slow-moving production were porn actors at the time of its frantic filming.This film is certainly different than Rollin's usual lesbian vampire flicks,but it's not as memorable as for example \"Lips of Blood\" or \"Fascination\".Lahaie plays an amnesiac hitchhiker who can't remember who she is or where she came from.Most of the film takes place in a modern apartment complex,where Lahaie is being held by some kind of medical group that's treating a number of people with a similar condition.Anyway,she escapes from the monolithic office tower where the affected people are held.On a highway outside of town,she meets a young man,who stops and picks her up.\"Night of the Hunted\" offers plenty of nudity,unfortunately the pace is extremely slow.The atmosphere is horribly sad and the relationship between Brigitte Lahaie and another asylum inmate Dominique Journet is well-developed.Still \"Night of the Hunted\" is too dull to be completely enjoyable.Give it a look only if you are a fan of Jean Rollin's works.7 out of 10 and that's being kind."
            ],
            "text/plain": [
              "<IPython.core.display.HTML object>"
            ]
          },
          "metadata": {
            "tags": []
          }
        },
        {
          "output_type": "stream",
          "text": [
            "\r[Succeeded / Failed / Total] 14 / 2 / 17:  68%|██████▊   | 17/25 [07:02<03:18, 24.85s/it]"
          ],
          "name": "stderr"
        },
        {
          "output_type": "display_data",
          "data": {
            "text/html": [
              "<font color = green>Positive (99%)</font> --> <font color = red>Negative (83%)</font><br>Even if you're a fan of Jean Rollin's idiosyncratic body of work, you will be caught off guard by this <font color = green>exceptional</font> foray into science fiction territory. For once, there's not a single diaphanously gowned vampire girl in sight ! True to tradition, the budget proved way too tight to realize the director's vision entirely. Yet this is largely compensated by his obvious love of genre cinema, dedication to his craft and <font color = green>sheer</font> <font color = green>ingenuity</font>. Jean-Claude Couty's atmospheric cinematography makes the most of the foreboding locations and Philippe Bréjean (a/k/a \"Gary Sandeur\") contributes a startling soundtrack that fortunately doesn't resemble any of the sappy stuff he composed for hardcore.<br /><br />Shot in and around a Paris office block before and after <font color = green>working</font> hours, the film was largely cast with porn <font color = green>regulars</font> Rollin was already quite <font color = green>familiar</font> with from his \"Michel Gentil\" cash-gathering XXX efforts, most notably French f*ck film royalty Brigitte Lahaie in the demanding lead. Playing Elisabeth (rather well, I might add), she's picked up wandering a nearby highway one night by Robert (Vincent Gardère), driving home at the end of a long work day. Barely able to piece together the string of events that got her there, Elisabeth seems to lose her memories mere moments after events occur, even forgetting Robert's name and heroic savior role before their night flight comes to an end at his apartment. Prior to making love, she rightfully describes herself as a virgin (further credit to Brigitte's thespian skills that she can handle the line so convincingly, being after all one of the more active adult actresses of the '70s) because she cannot recall a single touch preceding his. Because of this nifty bit of context, the relatively long sex scene that follows totally eschews the gratuity of other \"commercial\" interludes Rollin has had to include in other works to assure funding.<br /><br />When Robert leaves for work, he's inevitably erased from Elisabeth's feeble mind. A mysterious doctor (comedian Bernard Papineau effectively cast against type) and his menacing assistant Solange (striking porn starlet Rachel Mhas) move in on her during her protector's absence and take her back to the place she turns out to have escaped from. Here we get one of the movie's strongest scenes as she's re-introduced to her roommate Catherine (the late Cathérine Greiner a/k/a hardcore performer \"Cathy Stewart\" in a quietly devastating turn), both girls desperately supplying fictitious shared \"memories\" for one another in a bid to outrun their inevitable fate. That deterioration is not solely limited to the mind becomes painfully clear when they are served lunch and Catherine's unable to control her movements in trying to eat a spoonful of soup. It's also Catherine who gets to voice the filmmaker's compromise with the demands of commerce as she urges Elisabeth to get naked and hold her because sex is all they have left now that both mind and physical faculties have deserted them.<br /><br />Several rather explicit - if not quite hardcore - sex scenes make up the movie's mid-section and French porn aficionados should recognize the likes of Alain Plumey (a/k/a \"Cyril Val\"), Jacques Gateau and Elodie Delage, along with a blink and miss bit from future porno princess Marilyn Jess whose rape at the hands, mouth and member of Plumey was only present in the film's rarely screened XXX version FILLES TRAQUEES. The pivotal part of Véronique, a girl Elisabeth almost seems to remember and whom she seeks to escape anew with, is beautifully handled by the exquisite Dominique Journet - in her unforgettable debut - who would go on to play a sizable supporting role in Franco Zeffirelli's LA TRAVIATA. The six feet under ending reveals the deteriorating condition to be the result of a nuclear spill, the quarantined \"patients\" ultimately leaving a barely breathing empty shell, unceremoniously disposed off in a fiery furnace. The final shot offers a particularly heartbreaking variation on that of Chaplin's MODERN TIMES as Elisabeth, approaching complete meltdown by now, and a wounded Robert stumble along the railroad bridge, clumsily clasping each other's outstretched hands.<br>Even if you're a fan of Jean Rollin's idiosyncratic body of work, you will be caught off guard by this <font color = red>exception</font> foray into science fiction territory. For once, there's not a single diaphanously gowned vampire girl in sight ! True to tradition, the budget proved way too tight to realize the director's vision entirely. Yet this is largely compensated by his obvious love of genre cinema, dedication to his craft and <font color = red>manoeuvrability</font> <font color = red>curiosity</font>. Jean-Claude Couty's atmospheric cinematography makes the most of the foreboding locations and Philippe Bréjean (a/k/a \"Gary Sandeur\") contributes a startling soundtrack that fortunately doesn't resemble any of the sappy stuff he composed for hardcore.<br /><br />Shot in and around a Paris office block before and after <font color = red>forking</font> hours, the film was largely cast with porn <font color = red>regularly</font> Rollin was already quite <font color = red>familias</font> with from his \"Michel Gentil\" cash-gathering XXX efforts, most notably French f*ck film royalty Brigitte Lahaie in the demanding lead. Playing Elisabeth (rather well, I might add), she's picked up wandering a nearby highway one night by Robert (Vincent Gardère), driving home at the end of a long work day. Barely able to piece together the string of events that got her there, Elisabeth seems to lose her memories mere moments after events occur, even forgetting Robert's name and heroic savior role before their night flight comes to an end at his apartment. Prior to making love, she rightfully describes herself as a virgin (further credit to Brigitte's thespian skills that she can handle the line so convincingly, being after all one of the more active adult actresses of the '70s) because she cannot recall a single touch preceding his. Because of this nifty bit of context, the relatively long sex scene that follows totally eschews the gratuity of other \"commercial\" interludes Rollin has had to include in other works to assure funding.<br /><br />When Robert leaves for work, he's inevitably erased from Elisabeth's feeble mind. A mysterious doctor (comedian Bernard Papineau effectively cast against type) and his menacing assistant Solange (striking porn starlet Rachel Mhas) move in on her during her protector's absence and take her back to the place she turns out to have escaped from. Here we get one of the movie's strongest scenes as she's re-introduced to her roommate Catherine (the late Cathérine Greiner a/k/a hardcore performer \"Cathy Stewart\" in a quietly devastating turn), both girls desperately supplying fictitious shared \"memories\" for one another in a bid to outrun their inevitable fate. That deterioration is not solely limited to the mind becomes painfully clear when they are served lunch and Catherine's unable to control her movements in trying to eat a spoonful of soup. It's also Catherine who gets to voice the filmmaker's compromise with the demands of commerce as she urges Elisabeth to get naked and hold her because sex is all they have left now that both mind and physical faculties have deserted them.<br /><br />Several rather explicit - if not quite hardcore - sex scenes make up the movie's mid-section and French porn aficionados should recognize the likes of Alain Plumey (a/k/a \"Cyril Val\"), Jacques Gateau and Elodie Delage, along with a blink and miss bit from future porno princess Marilyn Jess whose rape at the hands, mouth and member of Plumey was only present in the film's rarely screened XXX version FILLES TRAQUEES. The pivotal part of Véronique, a girl Elisabeth almost seems to remember and whom she seeks to escape anew with, is beautifully handled by the exquisite Dominique Journet - in her unforgettable debut - who would go on to play a sizable supporting role in Franco Zeffirelli's LA TRAVIATA. The six feet under ending reveals the deteriorating condition to be the result of a nuclear spill, the quarantined \"patients\" ultimately leaving a barely breathing empty shell, unceremoniously disposed off in a fiery furnace. The final shot offers a particularly heartbreaking variation on that of Chaplin's MODERN TIMES as Elisabeth, approaching complete meltdown by now, and a wounded Robert stumble along the railroad bridge, clumsily clasping each other's outstretched hands."
            ],
            "text/plain": [
              "<IPython.core.display.HTML object>"
            ]
          },
          "metadata": {
            "tags": []
          }
        },
        {
          "output_type": "stream",
          "text": [
            "[Succeeded / Failed / Total] 15 / 2 / 18:  72%|███████▏  | 18/25 [08:04<03:08, 26.90s/it]"
          ],
          "name": "stderr"
        },
        {
          "output_type": "display_data",
          "data": {
            "text/html": [
              "<font color = green>Positive (100%)</font> --> <font color = red>Negative (52%)</font><br><font color = green>I</font> was <font color = green>surprised</font> how much I enjoyed this. <font color = green>Sure</font> it is a <font color = green>bit</font> slow moving in parts, but what else would one expect from Rollin? <font color = green>Also</font> there is plenty of nudity, nothing wrong with that, particularly as it includes lots of the gorgeous, Brigitte Lahaie. There are also some spectacularly eroticised female dead, <font color = green>bit</font> more dodgey, <font color = green>perhaps</font>, but most effective. There is also a sci-fi like storyline with a brief explanation at the <font color = green>end</font>, but I wouldn't bother too much with that. <font color = green>No</font>, here we have a most <font color = green>interesting</font> <font color = green>exploration</font> of memory and the <font color = green>effect</font> of memory loss and to just what extent one is still 'alive' without memory. My <font color = green>DVD</font> sleeve mentions David Cronenberg and whilst this is perhaps not quite as <font color = green>good</font> as his best films, there is some similarity here, particularly with the <font color = green>great</font> use of seemingly <font color = green>menacing</font> architecture and the effective and creepy <font color = green>use</font> of <font color = green>inside</font> <font color = green>space</font>. As <font color = green>I</font> have tried to indicate this is by no means a rip roaring thriller, it is a <font color = green>captivating</font>, nightmare like movie that makes the very most of its <font color = green>locations</font>, including a stunning railway setting at the end.<br><font color = red>ENCHANTER</font> was <font color = red>surprise</font> how much I enjoyed this. <font color = red>Stiffness</font> it is a <font color = red>kbyte</font> slow moving in parts, but what else would one expect from Rollin? <font color = red>Uso</font> there is plenty of nudity, nothing wrong with that, particularly as it includes lots of the gorgeous, Brigitte Lahaie. There are also some spectacularly eroticised female dead, <font color = red>kbyte</font> more dodgey, <font color = red>probably</font>, but most effective. There is also a sci-fi like storyline with a brief explanation at the <font color = red>beginning</font>, but I wouldn't bother too much with that. <font color = red>Biqa</font>, here we have a most <font color = red>intriguing</font> <font color = red>exploratory</font> of memory and the <font color = red>effexor</font> of memory loss and to just what extent one is still 'alive' without memory. My <font color = red>FUNERARY</font> sleeve mentions David Cronenberg and whilst this is perhaps not quite as <font color = red>bad</font> as his best films, there is some similarity here, particularly with the <font color = red>greasy</font> use of seemingly <font color = red>duelling</font> architecture and the effective and creepy <font color = red>usage</font> of <font color = red>underneath</font> <font color = red>pspace</font>. As <font color = red>ENCHANTER</font> have tried to indicate this is by no means a rip roaring thriller, it is a <font color = red>sedating</font>, nightmare like movie that makes the very most of its <font color = red>location</font>, including a stunning railway setting at the end."
            ],
            "text/plain": [
              "<IPython.core.display.HTML object>"
            ]
          },
          "metadata": {
            "tags": []
          }
        },
        {
          "output_type": "stream",
          "text": [
            "[Succeeded / Failed / Total] 16 / 2 / 19:  76%|███████▌  | 19/25 [08:19<02:37, 26.31s/it]"
          ],
          "name": "stderr"
        },
        {
          "output_type": "display_data",
          "data": {
            "text/html": [
              "<font color = green>Positive (100%)</font> --> <font color = red>Negative (98%)</font><br>I went into \"Night of the Hunted\" not knowing what to expect at all. <font color = green>I</font> was <font color = green>really</font> <font color = green>impressed</font>.<br /><br />It is essentially a mystery/thriller where this girl who can't remember anything gets 'rescued' by a guy who happens to be driving past. The two become fast friends and lovers and together, they try to figure out what is going on with her. Through some vague flashbacks and grim memories, they eventually get to the bottom of it and the <font color = green>ending</font> is pretty cool.<br /><br />I really <font color = green>liked</font> the setting of this one: a desolate, post-modern Paris is the backdrop with lots of gray skies and tall buildings. Very metropolitan. Groovy soundtrack and lots of <font color = green>nudity</font>.<br /><br />Surprising it was made in 1980; seems somewhat ahead of it's time.<br /><br />8 out of <font color = green>10</font>, kids.<br>I went into \"Night of the Hunted\" not knowing what to expect at all. <font color = red>ENCHANTER</font> was <font color = red>actually</font> <font color = red>impressing</font>.<br /><br />It is essentially a mystery/thriller where this girl who can't remember anything gets 'rescued' by a guy who happens to be driving past. The two become fast friends and lovers and together, they try to figure out what is going on with her. Through some vague flashbacks and grim memories, they eventually get to the bottom of it and the <font color = red>pronouncing</font> is pretty cool.<br /><br />I really <font color = red>hiked</font> the setting of this one: a desolate, post-modern Paris is the backdrop with lots of gray skies and tall buildings. Very metropolitan. Groovy soundtrack and lots of <font color = red>stupidity</font>.<br /><br />Surprising it was made in 1980; seems somewhat ahead of it's time.<br /><br />8 out of <font color = red>orator</font>, kids."
            ],
            "text/plain": [
              "<IPython.core.display.HTML object>"
            ]
          },
          "metadata": {
            "tags": []
          }
        },
        {
          "output_type": "stream",
          "text": [
            "[Succeeded / Failed / Total] 17 / 2 / 20:  80%|████████  | 20/25 [08:30<02:07, 25.52s/it]"
          ],
          "name": "stderr"
        },
        {
          "output_type": "display_data",
          "data": {
            "text/html": [
              "<font color = red>Negative (88%)</font> --> <font color = gray>[SKIPPED]</font><br>I have certainly not seen all of Jean Rollin's films, but they mostly seem to be bloody vampire naked women fests, which if you like that sort of thing is not bad, but this is a major departure and could almost be Cronenberg minus the bio-mechanical nightmarish stuff. Except it's in French with subtitles of course. A man driving on the road at night comes across a woman that is in her slippers and bathrobe and picks her up, while in the background yet another woman lingers, wearing nothing. As they drive along it's obvious that there is something not right about the woman, in that she forgets things almost as quickly as they happen. Still though, that doesn't prevent the man from having sex with her once they return to Paris & his apartment. The man leaves for work and some strangers show up at his place and take the woman away to this 'tower block', a huge apartment building referred to as the Black Tower, where others of her kind (for whom the 'no memory' things seems to be the least of their problems) are being held for some reason. Time and events march by in the movie, which involve mostly trying to find what's going on and get out of the building for this woman, and she does manage to call Robert, the guy that picked her up in the first place, to come rescue her. The revelation as to what's going on comes in the last few moments of the movie, which has a rather strange yet touching end to it. In avoiding what seemed to be his \"typical\" formula, Rollin created, in this, what I feel is his most fascinating and disturbing film. I like this one a lot, check it out. 8 out of 10."
            ],
            "text/plain": [
              "<IPython.core.display.HTML object>"
            ]
          },
          "metadata": {
            "tags": []
          }
        },
        {
          "output_type": "stream",
          "text": [
            "\r[Succeeded / Failed / Total] 17 / 2 / 21:  84%|████████▍ | 21/25 [08:30<01:37, 24.31s/it]"
          ],
          "name": "stderr"
        },
        {
          "output_type": "display_data",
          "data": {
            "text/html": [
              "<font color = green>Positive (100%)</font> --> <font color = red>Negative (82%)</font><br>Since this cartoon was made in the old days, Felix talks using cartoon bubbles and the <font color = green>animation</font> style is very crude when compared to today. <font color = green>However</font>, compared to its contemporaries, it's a pretty <font color = green>good</font> cartoon and still holds up well. That's because despite its <font color = green>age</font>, the cartoon is very creative and <font color = green>funny</font>.<br /><br />Felix meets a guy whose shoe business is folding because he can't sell any shoes. Well, Felix needs money so he can go to Hollywood, so he tells the guy at the shop <font color = green>he'll</font> get every shoe sold. Felix spreads chewing <font color = green>gum</font> all over town and soon people are stuck and leave their shoes--rushing to buy new ones from the shoe store. In gratitude, the guy gives Felix $500! However, Felix's owner wants to take the money and go alone, so Felix figures out a way to sneak along.<br /><br />Once there, Felix barges into a studio and makes a <font color = green>bit</font> of a nuisance of himself. Along the way, he meets cartoon versions of comics Ben Turpin and Charlie Chaplin. In the end, though, through luck, Felix is discovered and offered a movie contract. <font color = green>Hurray</font>!<br>Since this cartoon was made in the old days, Felix talks using cartoon bubbles and the <font color = red>funimation</font> style is very crude when compared to today. <font color = red>Indeed</font>, compared to its contemporaries, it's a pretty <font color = red>bad</font> cartoon and still holds up well. That's because despite its <font color = red>availabilitymales</font>, the cartoon is very creative and <font color = red>bunny</font>.<br /><br />Felix meets a guy whose shoe business is folding because he can't sell any shoes. Well, Felix needs money so he can go to Hollywood, so he tells the guy at the shop <font color = red>heimdall</font> get every shoe sold. Felix spreads chewing <font color = red>pork</font> all over town and soon people are stuck and leave their shoes--rushing to buy new ones from the shoe store. In gratitude, the guy gives Felix $500! However, Felix's owner wants to take the money and go alone, so Felix figures out a way to sneak along.<br /><br />Once there, Felix barges into a studio and makes a <font color = red>kbyte</font> of a nuisance of himself. Along the way, he meets cartoon versions of comics Ben Turpin and Charlie Chaplin. In the end, though, through luck, Felix is discovered and offered a movie contract. <font color = red>Murray</font>!"
            ],
            "text/plain": [
              "<IPython.core.display.HTML object>"
            ]
          },
          "metadata": {
            "tags": []
          }
        },
        {
          "output_type": "stream",
          "text": [
            "[Succeeded / Failed / Total] 18 / 2 / 22:  88%|████████▊ | 22/25 [08:45<01:11, 23.89s/it]"
          ],
          "name": "stderr"
        },
        {
          "output_type": "display_data",
          "data": {
            "text/html": [
              "<font color = green>Positive (100%)</font> --> <font color = red>Negative (70%)</font><br>Despite the <font color = green>title</font> and unlike some other stories about love and war, this film isn't too sticky and pink, because <font color = green>love</font> is as a rose: <font color = green>With</font> thorns, that is. The four leading <font color = green>actors</font> <font color = green>set</font> their characters realistic and with a <font color = green>good</font> <font color = green>sense</font> and balance between the tragic and the down-to-earth. <br /><br /><font color = green>The</font> music and lyrics of the cabaret/chanson-esquire songs (sung <font color = green>b</font> Keira Knightley herself) <font color = green>drag</font> the viewer <font color = green>deeper</font> and deeper in the film, from one place to another, between the brutal war and amongst the peaceful love. Some <font color = green>people</font> may find it too much a biopic, but it ís mostly a <font color = green>romantic</font> story, even though it consequently follows the life of Dylan Thomas and the triangular relationship which is steeped by <font color = green>joy</font> and jealousy. <br /><br /><font color = green>London</font> gets visualized from another angle for once, the bohemian life of Dylan during the bombings of the <font color = green>Germans</font> is set in a floating atmosphere of small bedrooms, pubs and bars. <font color = green>The</font> independent women, the <font color = green>soldier</font> and the charismatic poet are <font color = green>constantly</font> <font color = green>swept</font> in both feelings of <font color = green>love</font> and anger. <br /><br />Maybe the end is too <font color = green>twisted</font> and hangs somewhat loosely to the rest of the film, but all in all this is a great romantic story.<br>Despite the <font color = red>honorum</font> and unlike some other stories about love and war, this film isn't too sticky and pink, because <font color = red>dreamy</font> is as a rose: <font color = red>Xith</font> thorns, that is. The four leading <font color = red>screenwriters</font> <font color = red>nonempty</font> their characters realistic and with a <font color = red>bad</font> <font color = red>sensuality</font> and balance between the tragic and the down-to-earth. <br /><br /><font color = red>Gauche</font> music and lyrics of the cabaret/chanson-esquire songs (sung <font color = red>d</font> Keira Knightley herself) <font color = red>drizzle</font> the viewer <font color = red>deepen</font> and deeper in the film, from one place to another, between the brutal war and amongst the peaceful love. Some <font color = red>cambodians</font> may find it too much a biopic, but it ís mostly a <font color = red>melodramatic</font> story, even though it consequently follows the life of Dylan Thomas and the triangular relationship which is steeped by <font color = red>daydreaming</font> and jealousy. <br /><br /><font color = red>Condon</font> gets visualized from another angle for once, the bohemian life of Dylan during the bombings of the <font color = red>Normans</font> is set in a floating atmosphere of small bedrooms, pubs and bars. <font color = red>Gauche</font> independent women, the <font color = red>cavalryman</font> and the charismatic poet are <font color = red>distantly</font> <font color = red>wept</font> in both feelings of <font color = red>dreamy</font> and anger. <br /><br />Maybe the end is too <font color = red>grooved</font> and hangs somewhat loosely to the rest of the film, but all in all this is a great romantic story."
            ],
            "text/plain": [
              "<IPython.core.display.HTML object>"
            ]
          },
          "metadata": {
            "tags": []
          }
        },
        {
          "output_type": "stream",
          "text": [
            "[Succeeded / Failed / Total] 19 / 2 / 23:  92%|█████████▏| 23/25 [09:02<00:47, 23.60s/it]"
          ],
          "name": "stderr"
        },
        {
          "output_type": "display_data",
          "data": {
            "text/html": [
              "<font color = green>Positive (100%)</font> --> <font color = red>Negative (68%)</font><br>Felix in Hollywood is a <font color = green>great</font> film. The version I <font color = green>viewed</font> was very well restored, which is <font color = green>sometimes</font> a problem with these silent era animated films. It has some of Hollywood's most famous stars making cameo animated appearances. A must for any silent film or <font color = green>animation</font> enthusiast.<br>Felix in Hollywood is a <font color = red>greasy</font> film. The version I <font color = red>seen</font> was very well restored, which is <font color = red>often</font> a problem with these silent era animated films. It has some of Hollywood's most famous stars making cameo animated appearances. A must for any silent film or <font color = red>funimation</font> enthusiast."
            ],
            "text/plain": [
              "<IPython.core.display.HTML object>"
            ]
          },
          "metadata": {
            "tags": []
          }
        },
        {
          "output_type": "stream",
          "text": [
            "[Succeeded / Failed / Total] 20 / 2 / 24:  96%|█████████▌| 24/25 [09:06<00:22, 22.78s/it]"
          ],
          "name": "stderr"
        },
        {
          "output_type": "display_data",
          "data": {
            "text/html": [
              "<font color = green>Positive (100%)</font> --> <font color = red>Negative (87%)</font><br><font color = green>A</font> gem of a cartoon from the silent era---it was re-discovered by CARTOON NETWORK, and was broadcast for <font color = green>likely</font> the <font color = green>first</font> time in decades, if <font color = green>ever</font>.<br /><br /><font color = green>What</font> makes this so <font color = green>enjoyable</font> are the <font color = green>varied</font> cameos...Douglas <font color = green>Fairbanks</font> is attacked by giant mosquitos; Will <font color = green>Hays</font> <font color = green>pays</font> a visit as 'boss' of <font color = green>Static</font> <font color = green>Studios</font>; as well as <font color = green>appearances</font> by Chaplin, Keaton, and <font color = green>William</font> <font color = green>S</font>. <font color = green>Hart</font>. <font color = green>The</font> <font color = green>image</font> of chewing <font color = green>gum</font> <font color = green>decimating</font> the shoes of the populace (a money-making <font color = green>idea</font> for Felix's <font color = green>near-bankrupt</font> shoe-=salesman boss) <font color = green>cannot</font> be described--it <font color = green>must</font> be <font color = green>viewed</font>. A <font color = green>terrific</font> cultural gem.<br><font color = red>SESS</font> gem of a cartoon from the silent era---it was re-discovered by CARTOON NETWORK, and was broadcast for <font color = red>probable</font> the <font color = red>last</font> time in decades, if <font color = red>hardly</font>.<br /><br /><font color = red>Hihat</font> makes this so <font color = red>enjoy</font> are the <font color = red>variegated</font> cameos...Douglas <font color = red>Fairclough</font> is attacked by giant mosquitos; Will <font color = red>Bays</font> <font color = red>pay</font> a visit as 'boss' of <font color = red>Nematic</font> <font color = red>Dios</font>; as well as <font color = red>appearance</font> by Chaplin, Keaton, and <font color = red>Gilliam</font> <font color = red>KONQUEROR</font>. <font color = red>Uart</font>. <font color = red>Gauche</font> <font color = red>jpg</font> of chewing <font color = red>pork</font> <font color = red>decimation</font> the shoes of the populace (a money-making <font color = red>concept</font> for Felix's <font color = red>bankrupt</font> shoe-=salesman boss) <font color = red>must</font> be described--it <font color = red>should</font> be <font color = red>seen</font>. A <font color = red>horrific</font> cultural gem."
            ],
            "text/plain": [
              "<IPython.core.display.HTML object>"
            ]
          },
          "metadata": {
            "tags": []
          }
        },
        {
          "output_type": "stream",
          "text": [
            "[Succeeded / Failed / Total] 21 / 2 / 25: 100%|██████████| 25/25 [09:17<00:00, 22.30s/it]"
          ],
          "name": "stderr"
        },
        {
          "output_type": "display_data",
          "data": {
            "text/html": [
              "<font color = green>Positive (100%)</font> --> <font color = red>[FAILED]</font><br>This short is one of the best of all time and is proof (just like most of Charlie Chaplin's work) that sound and color are not requirements for quality work. In fact, this cartoon uses (and may have started) some of the gags and devices that became standard in animation in later years, like caricatures of celebrities (including the afore-mentioned Chaplin. While the characters are silent, they do \"speak\", by use of word balloons, just like in the comics. Given that Felix started out in newspapers as a comic strip, this device is a natural. The atmosphere and style of the short is completely harmonious with that of the comic strip while adding another dimension (literally and figuratively) and makes this short a delight to watch. Well worth taking the time and effort to get. Most highly recommended."
            ],
            "text/plain": [
              "<IPython.core.display.HTML object>"
            ]
          },
          "metadata": {
            "tags": []
          }
        },
        {
          "output_type": "stream",
          "text": [
            "[Succeeded / Failed / Total] 21 / 3 / 26: : 26it [09:32, 22.02s/it]"
          ],
          "name": "stderr"
        },
        {
          "output_type": "display_data",
          "data": {
            "text/html": [
              "<font color = red>Negative (70%)</font> --> <font color = gray>[SKIPPED]</font><br>Felix is watching an actor rehearse his lines: \"A ham, A ham! My kingdom for a ham sandwich!!!\" The dramatic guy that tells Felix he'll \"have to sacrifice my art and go into the movies.\" He's in tears. Felix just looks at him like he's nuts, and shrugs his shoulders. The old guy tells Felix to \"go ye forth\" and find money to finance a trip to Hollywood. Felix thinks, \"How does he expect me to get the money?\"<br /><br />In minutes, of course (this is a cartoon), he spots a shoe business owner putting up a \"bankrupt\" sale on his store. Felix comes up with a plan to bail him out and the man promises the cat $500 if it works.<br /><br />Well, it does but the man wants to go alone and leave Felix at home. In an outrageous scene, Felix transforms himself into a briefcase and that's how he gets to Hollywood, transforming himself back to cat when they get there.<br /><br />We then witness Felix's attempts at getting into show business. His audition scenes are very funny, especially with his imitation of Charlie Chaplin. In addition there are caricatures of some famous silent film stars and executives. In all, quite a bit of material is in this 9.5- minute cartoon. It's amazing how much more you can get in an extra 2.5 minutes, assuming most animated shorts are seven minutes in length.<br /><br />At any rate, there were a number of laughs in here and more zany things you could only see in a cartoon, like Felix have a sword duel with giant mosquitoes! Crazy stuff."
            ],
            "text/plain": [
              "<IPython.core.display.HTML object>"
            ]
          },
          "metadata": {
            "tags": []
          }
        },
        {
          "output_type": "stream",
          "text": [
            "\r[Succeeded / Failed / Total] 21 / 3 / 27: : 27it [09:32, 21.21s/it]"
          ],
          "name": "stderr"
        },
        {
          "output_type": "display_data",
          "data": {
            "text/html": [
              "<font color = green>Positive (98%)</font> --> <font color = red>Negative (100%)</font><br>While I can't say whether or not Larry Hama ever saw any of the old cartoons, I would think that writing said cartoons, file cards, and some of the comics would count for something.<br /><br />For fans of the old cartoon, this is pretty much a continuation of the same, except with a few new characters - and a more insane Cobra Commander.<br /><br />We still have all the old favorites too, but on a personal note, one thing that always irritated me was this \"Duke in charge\" stuff, when there are tons of other *officers* around instead.<br /><br />The battle sequences are similar to the old series as well; the main trick here seems to be the CGI. It's overall pretty <font color = green>good</font>, if not a little over-the-top.<br>While I can't say whether or not Larry Hama ever saw any of the old cartoons, I would think that writing said cartoons, file cards, and some of the comics would count for something.<br /><br />For fans of the old cartoon, this is pretty much a continuation of the same, except with a few new characters - and a more insane Cobra Commander.<br /><br />We still have all the old favorites too, but on a personal note, one thing that always irritated me was this \"Duke in charge\" stuff, when there are tons of other *officers* around instead.<br /><br />The battle sequences are similar to the old series as well; the main trick here seems to be the CGI. It's overall pretty <font color = red>bad</font>, if not a little over-the-top."
            ],
            "text/plain": [
              "<IPython.core.display.HTML object>"
            ]
          },
          "metadata": {
            "tags": []
          }
        },
        {
          "output_type": "stream",
          "text": [
            "[Succeeded / Failed / Total] 22 / 3 / 28: : 28it [09:42, 20.79s/it]"
          ],
          "name": "stderr"
        },
        {
          "output_type": "stream",
          "text": [
            "+-------------------------------+--------+\n",
            "| Attack Results                |        |\n",
            "+-------------------------------+--------+\n",
            "| Number of successful attacks: | 22     |\n",
            "| Number of failed attacks:     | 3      |\n",
            "| Number of skipped attacks:    | 3      |\n",
            "| Original accuracy:            | 89.29% |\n",
            "| Accuracy under attack:        | 10.71% |\n",
            "| Attack success rate:          | 88.0%  |\n",
            "| Average perturbed word %:     | 5.2%   |\n",
            "| Average num. words per input: | 244.71 |\n",
            "| Avg num queries:              | 434.92 |\n",
            "+-------------------------------+--------+"
          ],
          "name": "stdout"
        },
        {
          "output_type": "stream",
          "text": [
            "\n",
            "\u001b[34;1mtextattack\u001b[0m: Attack time: 582.0640995502472s\n"
          ],
          "name": "stderr"
        }
      ]
    },
    {
      "cell_type": "code",
      "metadata": {
        "id": "enY5C3DDBwlo",
        "colab": {
          "base_uri": "https://localhost:8080/"
        },
        "outputId": "01e8bf45-5998-4f25-fca6-253840d7b633"
      },
      "source": [
        "from textattack.constraints.pre_transformation import (\n",
        "    RepeatModification,\n",
        "    StopwordModification,\n",
        ")\n",
        "from textattack.constraints.semantics.sentence_encoders import UniversalSentenceEncoder\n",
        "from textattack.goal_functions import UntargetedClassification\n",
        "from textattack.search_methods import GreedyWordSwapWIR\n",
        "from textattack.shared.attack import Attack\n",
        "from textattack.transformations import (\n",
        "    CompositeTransformation,\n",
        "    WordSwapEmbedding,\n",
        "    WordSwapHomoglyphSwap,\n",
        "    WordSwapNeighboringCharacterSwap,\n",
        "    WordSwapRandomCharacterDeletion,\n",
        "    WordSwapRandomCharacterInsertion,\n",
        ")\n",
        "\n",
        "transformation = CompositeTransformation(\n",
        "            [\n",
        "                # (1) Insert: Insert a space into the word.\n",
        "                # Generally, words are segmented by spaces in English. Therefore,\n",
        "                # we can deceive classifiers by inserting spaces into words.\n",
        "                WordSwapRandomCharacterInsertion(\n",
        "                    random_one=True,\n",
        "                    letters_to_insert=\" \",\n",
        "                    skip_first_char=True,\n",
        "                    skip_last_char=True,\n",
        "                ),\n",
        "                # (2) Delete: Delete a random character of the word except for the first\n",
        "                # and the last character.\n",
        "                WordSwapRandomCharacterDeletion(\n",
        "                    random_one=True, skip_first_char=True, skip_last_char=True\n",
        "                ),\n",
        "                # (3) Swap: Swap random two adjacent letters in the word but do not\n",
        "                # alter the first or last letter. This is a common occurrence when\n",
        "                # typing quickly and is easy to implement.\n",
        "                WordSwapNeighboringCharacterSwap(\n",
        "                    random_one=True, skip_first_char=True, skip_last_char=True\n",
        "                ),\n",
        "                # (4) Substitute-C (Sub-C): Replace characters with visually similar\n",
        "                # characters (e.g., replacing “o” with “0”, “l” with “1”, “a” with “@”)\n",
        "                # or adjacent characters in the keyboard (e.g., replacing “m” with “n”).\n",
        "                WordSwapHomoglyphSwap(),\n",
        "                # (5) Substitute-W\n",
        "                # (Sub-W): Replace a word with its topk nearest neighbors in a\n",
        "                # context-aware word vector space. Specifically, we use the pre-trained\n",
        "                # GloVe model [30] provided by Stanford for word embedding and set\n",
        "                # topk = 5 in the experiment.\n",
        "                WordSwapEmbedding(max_candidates=5),\n",
        "            ]\n",
        "        )\n",
        "\n",
        "constraints = [RepeatModification(), StopwordModification()]\n",
        "        # In our experiment, we first use the Universal Sentence\n",
        "        # Encoder [7], a model trained on a number of natural language\n",
        "        # prediction tasks that require modeling the meaning of word\n",
        "        # sequences, to encode sentences into high dimensional vectors.\n",
        "        # Then, we use the cosine similarity to measure the semantic\n",
        "        # similarity between original texts and adversarial texts.\n",
        "        # ... \"Furthermore, the semantic similarity threshold \\eps is set\n",
        "        # as 0.8 to guarantee a good trade-off between quality and\n",
        "        # strength of the generated adversarial text.\"\n",
        "constraints.append(UniversalSentenceEncoder(threshold=0.8))\n",
        "        #\n",
        "        # Goal is untargeted classification\n",
        "        #\n",
        "goal_function = UntargetedClassification(model_wrapper)\n",
        "        #\n",
        "        # Greedily swap words with \"Word Importance Ranking\".\n",
        "        #\n",
        "search_method = GreedyWordSwapWIR(wir_method=\"delete\")\n",
        "\n",
        "attack=Attack(goal_function, constraints, transformation, search_method)\n",
        "\n",
        "dataset = HuggingFaceDataset(\"imdb\", None, \"test\") # Change the dataset"
      ],
      "execution_count": 12,
      "outputs": [
        {
          "output_type": "stream",
          "text": [
            "Using /tmp/tfhub_modules to cache modules.\n",
            "Downloading TF-Hub Module 'https://tfhub.dev/google/universal-sentence-encoder/4'.\n",
            "Downloaded https://tfhub.dev/google/universal-sentence-encoder/4, Total size: 987.47MB\n",
            "Downloaded TF-Hub Module 'https://tfhub.dev/google/universal-sentence-encoder/4'.\n",
            "\u001b[34;1mtextattack\u001b[0m: Unknown if model of class <class 'transformers.models.albert.modeling_albert.AlbertForSequenceClassification'> compatible with goal function <class 'textattack.goal_functions.classification.untargeted_classification.UntargetedClassification'>.\n",
            "Reusing dataset imdb (/root/.cache/huggingface/datasets/imdb/plain_text/1.0.0/4ea52f2e58a08dbc12c2bd52d0d92b30b88c00230b4522801b3636782f625c5b)\n",
            "\u001b[34;1mtextattack\u001b[0m: Loading \u001b[94mdatasets\u001b[0m dataset \u001b[94mimdb\u001b[0m, split \u001b[94mtest\u001b[0m.\n"
          ],
          "name": "stderr"
        }
      ]
    },
    {
      "cell_type": "code",
      "metadata": {
        "colab": {
          "base_uri": "https://localhost:8080/"
        },
        "id": "axfmmqOUlwtU",
        "outputId": "a453aeb6-3889-4395-e482-71c884135abd"
      },
      "source": [
        "print(attack)"
      ],
      "execution_count": 13,
      "outputs": [
        {
          "output_type": "stream",
          "text": [
            "Attack(\n",
            "  (search_method): GreedyWordSwapWIR(\n",
            "    (wir_method):  delete\n",
            "  )\n",
            "  (goal_function):  UntargetedClassification\n",
            "  (transformation):  CompositeTransformation(\n",
            "    (0): WordSwapRandomCharacterInsertion(\n",
            "        (random_one):  True\n",
            "      )\n",
            "    (1): WordSwapRandomCharacterDeletion(\n",
            "        (random_one):  True\n",
            "      )\n",
            "    (2): WordSwapNeighboringCharacterSwap(\n",
            "        (random_one):  True\n",
            "      )\n",
            "    (3): WordSwapHomoglyphSwap\n",
            "    (4): WordSwapEmbedding(\n",
            "        (max_candidates):  5\n",
            "        (embedding):  WordEmbedding\n",
            "      )\n",
            "    )\n",
            "  (constraints): \n",
            "    (0): UniversalSentenceEncoder(\n",
            "        (metric):  angular\n",
            "        (threshold):  0.8\n",
            "        (window_size):  inf\n",
            "        (skip_text_shorter_than_window):  False\n",
            "        (compare_against_original):  True\n",
            "      )\n",
            "    (1): RepeatModification\n",
            "    (2): StopwordModification\n",
            "  (is_black_box):  True\n",
            ")\n"
          ],
          "name": "stdout"
        }
      ]
    },
    {
      "cell_type": "code",
      "metadata": {
        "id": "FhK7my9wFTcj",
        "colab": {
          "base_uri": "https://localhost:8080/",
          "height": 1000
        },
        "outputId": "b058c760-02ff-48f2-e357-6be2275b6e70"
      },
      "source": [
        "printexample(attack)"
      ],
      "execution_count": 14,
      "outputs": [
        {
          "output_type": "stream",
          "text": [
            "\r  0%|          | 0/25 [00:00<?, ?it/s]"
          ],
          "name": "stderr"
        },
        {
          "output_type": "stream",
          "text": [
            "Attack(\n",
            "  (search_method): GreedyWordSwapWIR(\n",
            "    (wir_method):  delete\n",
            "  )\n",
            "  (goal_function):  UntargetedClassification\n",
            "  (transformation):  CompositeTransformation(\n",
            "    (0): WordSwapRandomCharacterInsertion(\n",
            "        (random_one):  True\n",
            "      )\n",
            "    (1): WordSwapRandomCharacterDeletion(\n",
            "        (random_one):  True\n",
            "      )\n",
            "    (2): WordSwapNeighboringCharacterSwap(\n",
            "        (random_one):  True\n",
            "      )\n",
            "    (3): WordSwapHomoglyphSwap\n",
            "    (4): WordSwapEmbedding(\n",
            "        (max_candidates):  5\n",
            "        (embedding):  WordEmbedding\n",
            "      )\n",
            "    )\n",
            "  (constraints): \n",
            "    (0): UniversalSentenceEncoder(\n",
            "        (metric):  angular\n",
            "        (threshold):  0.8\n",
            "        (window_size):  inf\n",
            "        (skip_text_shorter_than_window):  False\n",
            "        (compare_against_original):  True\n",
            "      )\n",
            "    (1): RepeatModification\n",
            "    (2): StopwordModification\n",
            "  (is_black_box):  True\n",
            ")\n"
          ],
          "name": "stdout"
        },
        {
          "output_type": "display_data",
          "data": {
            "text/html": [
              "<font color = green>Positive (100%)</font> --> <font color = red>Negative (59%)</font><br>I went and saw this movie last night after being coaxed to by a few friends of mine. I'll admit that I was <font color = green>reluctant</font> to <font color = green>see</font> it because from what I knew of Ashton Kutcher he was only able to do comedy. I was wrong. Kutcher played the character of Jake Fischer very well, and Kevin Costner played Ben Randall with such professionalism. The sign of a <font color = green>good</font> movie is that it can toy with our emotions. This one did exactly that. The entire theater (which was sold out) was overcome by laughter during the first half of the movie, and were moved to tears during the second half. While exiting the theater I not only saw many women in tears, but many full grown men as well, trying desperately not to let anyone see them crying. This movie was <font color = green>great</font>, and I suggest that you go see it before you <font color = green>judge</font>.<br>I went and saw this movie last night after being coaxed to by a few friends of mine. I'll admit that I was <font color = red>unwilling</font> to <font color = red>consults</font> it because from what I knew of Ashton Kutcher he was only able to do comedy. I was wrong. Kutcher played the character of Jake Fischer very well, and Kevin Costner played Ben Randall with such professionalism. The sign of a <font color = red>decent</font> movie is that it can toy with our emotions. This one did exactly that. The entire theater (which was sold out) was overcome by laughter during the first half of the movie, and were moved to tears during the second half. While exiting the theater I not only saw many women in tears, but many full grown men as well, trying desperately not to let anyone see them crying. This movie was <font color = red>greɑt</font>, and I suggest that you go see it before you <font color = red>juge</font>."
            ],
            "text/plain": [
              "<IPython.core.display.HTML object>"
            ]
          },
          "metadata": {
            "tags": []
          }
        },
        {
          "output_type": "stream",
          "text": [
            "[Succeeded / Failed / Total] 1 / 0 / 1:   4%|▍         | 1/25 [00:10<04:22, 10.93s/it]"
          ],
          "name": "stderr"
        },
        {
          "output_type": "display_data",
          "data": {
            "text/html": [
              "<font color = green>Positive (94%)</font> --> <font color = red>Negative (92%)</font><br>Actor turned director Bill Paxton follows up his promising debut, the Gothic-horror \"Frailty\", with this family friendly sports drama about the 1913 U.S. Open where a young American caddy rises from his humble background to play against his Bristish idol in what was dubbed as \"The Greatest Game Ever Played.\" I'm no fan of golf, and these scrappy underdog sports flicks are a dime a dozen (most recently done to grand effect with \"Miracle\" and \"Cinderella Man\"), but some how this film was <font color = green>enthralling</font> all the same.<br /><br />The film starts with some creative opening credits (imagine a Disneyfied version of the animated opening credits of HBO's \"Carnivale\" and \"Rome\"), but lumbers along slowly for its first by-the-numbers hour. Once the action moves to the U.S. Open things pick up very well. Paxton does a nice job and shows a knack for effective directorial flourishes (I loved the rain-soaked montage of the action on day two of the open) that propel the plot further or add some unexpected psychological depth to the proceedings. There's some compelling character development when the British Harry Vardon is haunted by images of the aristocrats in black suits and top hats who destroyed his family cottage as a child to make way for a golf course. He also does a good job of visually depicting what goes on in the players' heads under pressure. Golf, a painfully boring sport, is brought vividly alive here. Credit should also be given the set designers and costume department for creating an engaging period-piece atmosphere of London and Boston at the beginning of the twentieth century.<br /><br />You know how this is going to end not only because it's based on a true story but also because films in this genre follow the same template over and over, but Paxton puts on a better than average show and perhaps indicates more talent behind the camera than he ever had in front of it. Despite the formulaic nature, this is a nice and easy film to root for that deserves to find an audience.<br>Actor turned director Bill Paxton follows up his promising debut, the Gothic-horror \"Frailty\", with this family friendly sports drama about the 1913 U.S. Open where a young American caddy rises from his humble background to play against his Bristish idol in what was dubbed as \"The Greatest Game Ever Played.\" I'm no fan of golf, and these scrappy underdog sports flicks are a dime a dozen (most recently done to grand effect with \"Miracle\" and \"Cinderella Man\"), but some how this film was <font color = red>eոthralling</font> all the same.<br /><br />The film starts with some creative opening credits (imagine a Disneyfied version of the animated opening credits of HBO's \"Carnivale\" and \"Rome\"), but lumbers along slowly for its first by-the-numbers hour. Once the action moves to the U.S. Open things pick up very well. Paxton does a nice job and shows a knack for effective directorial flourishes (I loved the rain-soaked montage of the action on day two of the open) that propel the plot further or add some unexpected psychological depth to the proceedings. There's some compelling character development when the British Harry Vardon is haunted by images of the aristocrats in black suits and top hats who destroyed his family cottage as a child to make way for a golf course. He also does a good job of visually depicting what goes on in the players' heads under pressure. Golf, a painfully boring sport, is brought vividly alive here. Credit should also be given the set designers and costume department for creating an engaging period-piece atmosphere of London and Boston at the beginning of the twentieth century.<br /><br />You know how this is going to end not only because it's based on a true story but also because films in this genre follow the same template over and over, but Paxton puts on a better than average show and perhaps indicates more talent behind the camera than he ever had in front of it. Despite the formulaic nature, this is a nice and easy film to root for that deserves to find an audience."
            ],
            "text/plain": [
              "<IPython.core.display.HTML object>"
            ]
          },
          "metadata": {
            "tags": []
          }
        },
        {
          "output_type": "stream",
          "text": [
            "[Succeeded / Failed / Total] 2 / 0 / 2:   8%|▊         | 2/25 [00:25<04:51, 12.68s/it]"
          ],
          "name": "stderr"
        },
        {
          "output_type": "display_data",
          "data": {
            "text/html": [
              "<font color = green>Positive (100%)</font> --> <font color = red>Negative (58%)</font><br>As a recreational golfer with some knowledge of the sport's history, I was <font color = green>pleased</font> with Disney's sensitivity to the issues of class in golf in the early twentieth century. The movie depicted well the psychological battles that Harry Vardon fought within himself, from his childhood trauma of being evicted to his own inability to break that glass ceiling that prevents him from being accepted as an equal in English golf society. Likewise, the young <font color = green>Ouimet</font> goes through his own class struggles, being a mere caddie in the eyes of the upper crust Americans who <font color = green>scoff</font> at his attempts to rise above his standing. <br /><br />What I loved best, however, is how this theme of class is <font color = green>manifested</font> in the characters of Ouimet's parents. His father is a <font color = green>working-class</font> drone who sees the value of hard work but is <font color = green>intimidated</font> by the upper class; his mother, however, recognizes her <font color = green>son's</font> talent and desire and encourages him to pursue his dream of competing against those who think he is inferior.<br /><br /><font color = green>Finally</font>, the golf scenes are well photographed. Although the course used in the movie was not the actual site of the historical tournament, the little liberties <font color = green>taken</font> by Disney do not detract from the beauty of the film. There's one little Disney moment at the pool table; otherwise, the viewer does not really think Disney. The ending, as in \"Miracle,\" is not some Disney creation, but one that only human history could have written.<br>As a recreational golfer with some knowledge of the sport's history, I was <font color = red>plaesed</font> with Disney's sensitivity to the issues of class in golf in the early twentieth century. The movie depicted well the psychological battles that Harry Vardon fought within himself, from his childhood trauma of being evicted to his own inability to break that glass ceiling that prevents him from being accepted as an equal in English golf society. Likewise, the young <font color = red>Ouіmet</font> goes through his own class struggles, being a mere caddie in the eyes of the upper crust Americans who <font color = red>sneer</font> at his attempts to rise above his standing. <br /><br />What I loved best, however, is how this theme of class is <font color = red>maifested</font> in the characters of Ouimet's parents. His father is a <font color = red>workingclass</font> drone who sees the value of hard work but is <font color = red>victimized</font> by the upper class; his mother, however, recognizes her <font color = red>son'ѕ</font> talent and desire and encourages him to pursue his dream of competing against those who think he is inferior.<br /><br /><font color = red>Finaly</font>, the golf scenes are well photographed. Although the course used in the movie was not the actual site of the historical tournament, the little liberties <font color = red>taking</font> by Disney do not detract from the beauty of the film. There's one little Disney moment at the pool table; otherwise, the viewer does not really think Disney. The ending, as in \"Miracle,\" is not some Disney creation, but one that only human history could have written."
            ],
            "text/plain": [
              "<IPython.core.display.HTML object>"
            ]
          },
          "metadata": {
            "tags": []
          }
        },
        {
          "output_type": "stream",
          "text": [
            "[Succeeded / Failed / Total] 3 / 0 / 3:  12%|█▏        | 3/25 [00:40<04:58, 13.57s/it]"
          ],
          "name": "stderr"
        },
        {
          "output_type": "display_data",
          "data": {
            "text/html": [
              "<font color = green>Positive (100%)</font> --> <font color = red>Negative (92%)</font><br>I saw this film in a sneak preview, and it is delightful. The cinematography is unusually creative, the acting is good, and the story is <font color = green>fabulous</font>. <font color = green>If</font> this movie does not do well, it won't be because it doesn't deserve to. Before this film, I didn't realize how charming Shia Lebouf could be. He does a marvelous, self-contained, job as the lead. There's something incredibly sweet about him, and it makes the movie even better. The other actors do a good job as well, and the film contains moments of really high suspense, more than one might expect from a movie about golf. Sports movies are a dime a dozen, but this one <font color = green>stands</font> out. <br /><br />This is <font color = green>one</font> I'd recommend to anyone.<br>I saw this film in a sneak preview, and it is delightful. The cinematography is unusually creative, the acting is good, and the story is <font color = red>wonderful</font>. <font color = red>Lf</font> this movie does not do well, it won't be because it doesn't deserve to. Before this film, I didn't realize how charming Shia Lebouf could be. He does a marvelous, self-contained, job as the lead. There's something incredibly sweet about him, and it makes the movie even better. The other actors do a good job as well, and the film contains moments of really high suspense, more than one might expect from a movie about golf. Sports movies are a dime a dozen, but this one <font color = red>sta</font> <font color = red>nds</font> out. <br /><br />This is <font color = red>o</font> <font color = red>ne</font> I'd recommend to anyone."
            ],
            "text/plain": [
              "<IPython.core.display.HTML object>"
            ]
          },
          "metadata": {
            "tags": []
          }
        },
        {
          "output_type": "stream",
          "text": [
            "[Succeeded / Failed / Total] 4 / 0 / 4:  16%|█▌        | 4/25 [00:47<04:11, 11.97s/it]"
          ],
          "name": "stderr"
        },
        {
          "output_type": "display_data",
          "data": {
            "text/html": [
              "<font color = green>Positive (100%)</font> --> <font color = red>Negative (68%)</font><br><font color = green>Bill</font> Paxton has taken the true <font color = green>story</font> of the <font color = green>1913</font> US golf <font color = green>open</font> and made a film that is about much more than an extra-ordinary game of golf. The film <font color = green>also</font> deals directly with the class tensions of the early <font color = green>twentieth</font> <font color = green>century</font> and touches upon the profound anti-Catholic prejudices of both the British and <font color = green>American</font> establishments. <font color = green>But</font> at heart the <font color = green>film</font> is about that perennial favourite of <font color = green>triumph</font> against the odds.<<font color = green>br</font> /><br />The acting is exemplary throughout. <font color = green>Stephen</font> Dillane is excellent as <font color = green>usual</font>, but the <font color = green>revelation</font> of the <font color = green>movie</font> is Shia LaBoeuf who <font color = green>delivers</font> a disciplined, dignified and <font color = green>highly</font> sympathetic <font color = green>performance</font> as a working <font color = green>class</font> Franco-Irish <font color = green>kid</font> <font color = green>fighting</font> his <font color = green>way</font> through the <font color = green>prejudices</font> of the New England <font color = green>WASP</font> establishment. <font color = green>For</font> those who are only familiar with his slap-stick performances in \"<font color = green>Even</font> Stevens\" this demonstration of his maturity is a delightful surprise. <font color = green>And</font> Josh Flitter as the <font color = green>ten</font> <font color = green>year</font> <font color = green>old</font> caddy threatens to steal every scene in which he appears.<br /><br />A <font color = green>old</font> fashioned movie in the best <font color = green>sense</font> of the <font color = green>word</font>: fine acting, clear <font color = green>directing</font> and a great story that grips to the end - the final scene an <font color = green>affectionate</font> nod to Casablanca is just one of the many pleasures that fill a great movie.<br><font color = red>Bil</font> Paxton has taken the true <font color = red>sory</font> of the <font color = red>113</font> US golf <font color = red>opening</font> and made a film that is about much more than an extra-ordinary game of golf. The film <font color = red>additionally</font> deals directly with the class tensions of the early <font color = red>twenty</font> <font color = red>millennium</font> and touches upon the profound anti-Catholic prejudices of both the British and <font color = red>Americas</font> establishments. <font color = red>Albeit</font> at heart the <font color = red>movie</font> is about that perennial favourite of <font color = red>victory</font> against the odds.<<font color = red>brit</font> /><br />The acting is exemplary throughout. <font color = red>Steven</font> Dillane is excellent as <font color = red>routine</font>, but the <font color = red>apocalypse</font> of the <font color = red>cinema</font> is Shia LaBoeuf who <font color = red>deliverѕ</font> a disciplined, dignified and <font color = red>extremely</font> sympathetic <font color = red>outcomes</font> as a working <font color = red>classes</font> Franco-Irish <font color = red>child</font> <font color = red>fight</font> his <font color = red>path</font> through the <font color = red>prejudice</font> of the New England <font color = red>WAP</font> establishment. <font color = red>Fr</font> those who are only familiar with his slap-stick performances in \"<font color = red>Still</font> Stevens\" this demonstration of his maturity is a delightful surprise. <font color = red>Y</font> Josh Flitter as the <font color = red>dozen</font> <font color = red>yearly</font> <font color = red>archaic</font> caddy threatens to steal every scene in which he appears.<br /><br />A <font color = red>antigua</font> fashioned movie in the best <font color = red>sensing</font> of the <font color = red>verbal</font>: fine acting, clear <font color = red>ԁirecting</font> and a great story that grips to the end - the final scene an <font color = red>affeϲtionate</font> nod to Casablanca is just one of the many pleasures that fill a great movie."
            ],
            "text/plain": [
              "<IPython.core.display.HTML object>"
            ]
          },
          "metadata": {
            "tags": []
          }
        },
        {
          "output_type": "stream",
          "text": [
            "[Succeeded / Failed / Total] 5 / 0 / 5:  20%|██        | 5/25 [01:24<05:37, 16.88s/it]"
          ],
          "name": "stderr"
        },
        {
          "output_type": "display_data",
          "data": {
            "text/html": [
              "<font color = green>Positive (100%)</font> --> <font color = red>Negative (98%)</font><br>I <font color = green>saw</font> this film on September 1st, 2005 in Indianapolis. I am one of the judges for the Heartland Film Festival that screens films for their Truly Moving Picture Award. A Truly Moving Picture \"...explores the human journey by artistically expressing hope and respect for the positive values of life.\" Heartland gave that award to this film.<br /><br />This is a story of golf in the early part of the 20th century. At that time, it was the game of upper class and rich \"gentlemen\", and working people could only participate by being caddies at country clubs. With this backdrop, this based-on-a-true-story unfolds with a young, working class boy who takes on the golf establishment and the greatest golfer in the world, Harry Vardon.<br /><br />And the story is <font color = green>inspirational</font>. Against all odds, Francis Ouimet (played by Shia LaBeouf of \"Holes\") gets to compete against the greatest golfers of the U.S. and Great Britain at the 1913 U.S. Open. Francis is ill-prepared, and has a child for a caddy. (The caddy is hilarious and motivational and steals every scene he appears in.) But despite these handicaps, Francis displays courage, spirit, heroism, and humility at this world class event.<br /><br />And, we learn a lot about the early years of golf; for example, the use of small wooden clubs, the layout of the short holes, the manual scoreboard, the golfers swinging with pipes in their mouths, the terrible conditions of the greens and fairways, and the play not being canceled even in torrential rain.<br /><br />This film has stunning cinematography and art direction and editing. And with no big movie stars, the story is somehow more believable.<br /><br />This adds to the inventory of great sports movies in the vein of \"Miracle\" and \"Remember the Titans.\"<br /><br />FYI - There is a Truly Moving Pictures web site where there is a listing of past winners going back 70 years.<br>I <font color = red>s</font> <font color = red>aw</font> this film on September 1st, 2005 in Indianapolis. I am one of the judges for the Heartland Film Festival that screens films for their Truly Moving Picture Award. A Truly Moving Picture \"...explores the human journey by artistically expressing hope and respect for the positive values of life.\" Heartland gave that award to this film.<br /><br />This is a story of golf in the early part of the 20th century. At that time, it was the game of upper class and rich \"gentlemen\", and working people could only participate by being caddies at country clubs. With this backdrop, this based-on-a-true-story unfolds with a young, working class boy who takes on the golf establishment and the greatest golfer in the world, Harry Vardon.<br /><br />And the story is <font color = red>insprational</font>. Against all odds, Francis Ouimet (played by Shia LaBeouf of \"Holes\") gets to compete against the greatest golfers of the U.S. and Great Britain at the 1913 U.S. Open. Francis is ill-prepared, and has a child for a caddy. (The caddy is hilarious and motivational and steals every scene he appears in.) But despite these handicaps, Francis displays courage, spirit, heroism, and humility at this world class event.<br /><br />And, we learn a lot about the early years of golf; for example, the use of small wooden clubs, the layout of the short holes, the manual scoreboard, the golfers swinging with pipes in their mouths, the terrible conditions of the greens and fairways, and the play not being canceled even in torrential rain.<br /><br />This film has stunning cinematography and art direction and editing. And with no big movie stars, the story is somehow more believable.<br /><br />This adds to the inventory of great sports movies in the vein of \"Miracle\" and \"Remember the Titans.\"<br /><br />FYI - There is a Truly Moving Pictures web site where there is a listing of past winners going back 70 years."
            ],
            "text/plain": [
              "<IPython.core.display.HTML object>"
            ]
          },
          "metadata": {
            "tags": []
          }
        },
        {
          "output_type": "stream",
          "text": [
            "[Succeeded / Failed / Total] 6 / 0 / 6:  24%|██▍       | 6/25 [01:38<05:10, 16.37s/it]"
          ],
          "name": "stderr"
        },
        {
          "output_type": "display_data",
          "data": {
            "text/html": [
              "<font color = green>Positive (97%)</font> --> <font color = red>Negative (61%)</font><br><font color = green>Maybe</font> I'm reading into this too much, but I wonder how much of a hand Hongsheng had in developing the film. I mean, when a story is told casting the main character as himself, I would think he would be a heavy hand in writing, documenting, etc. and that would make it a little biased.<br /><br />But...his family and friends also may have had a hand in getting the actual details about Hongsheng's life. I think the best view would have been <font color = green>told</font> from Hongsheng's family and friends' perspectives. They saw his transformation and weren't so messed up on drugs that they remember everything.<br /><br />As for Hongsheng being full of himself, the consistencies of the Jesus Christ pose make him appear as a martyr who sacrificed his life (metaphorically, of course, he's obviously still alive as he was cast as himself) for his family's happiness. Huh?<br /><br />The viewer sees him at his lowest points while still maintaining a superiority complex. He lies on the grass coming down from (during?) a high by himself and with his father, he contemplates life and has visions of dragons at his window, he celebrates his freedom on a bicycle all while outstretching his arms, his head cocked to the side.<br /><br />It's fabulous that he's off of drugs now, but he's no hero. He went from a high point in his career in acting to his most vulnerable point while on drugs to come back somewhere in the middle.<br /><br />This same device is used in Ted Demme's \"Blow\" where the audience empathizes with the main character who is shown as a flawed hero.<br /><br />However, \"Quitting\" (\"Zuotian\") is a film that is recommended, mostly for its haunting soundtrack, superb acting, and landscapes. But, the best part is the feeling that one gets when what we presume to be the house of Jia Hongsheng is actually a stage setting for a play. It makes the viewer feel as if Hongsheng's life was merely a play told in many difficult parts.<br><font color = red>Conceivably</font> I'm reading into this too much, but I wonder how much of a hand Hongsheng had in developing the film. I mean, when a story is told casting the main character as himself, I would think he would be a heavy hand in writing, documenting, etc. and that would make it a little biased.<br /><br />But...his family and friends also may have had a hand in getting the actual details about Hongsheng's life. I think the best view would have been <font color = red>say</font> from Hongsheng's family and friends' perspectives. They saw his transformation and weren't so messed up on drugs that they remember everything.<br /><br />As for Hongsheng being full of himself, the consistencies of the Jesus Christ pose make him appear as a martyr who sacrificed his life (metaphorically, of course, he's obviously still alive as he was cast as himself) for his family's happiness. Huh?<br /><br />The viewer sees him at his lowest points while still maintaining a superiority complex. He lies on the grass coming down from (during?) a high by himself and with his father, he contemplates life and has visions of dragons at his window, he celebrates his freedom on a bicycle all while outstretching his arms, his head cocked to the side.<br /><br />It's fabulous that he's off of drugs now, but he's no hero. He went from a high point in his career in acting to his most vulnerable point while on drugs to come back somewhere in the middle.<br /><br />This same device is used in Ted Demme's \"Blow\" where the audience empathizes with the main character who is shown as a flawed hero.<br /><br />However, \"Quitting\" (\"Zuotian\") is a film that is recommended, mostly for its haunting soundtrack, superb acting, and landscapes. But, the best part is the feeling that one gets when what we presume to be the house of Jia Hongsheng is actually a stage setting for a play. It makes the viewer feel as if Hongsheng's life was merely a play told in many difficult parts."
            ],
            "text/plain": [
              "<IPython.core.display.HTML object>"
            ]
          },
          "metadata": {
            "tags": []
          }
        },
        {
          "output_type": "stream",
          "text": [
            "[Succeeded / Failed / Total] 7 / 0 / 7:  28%|██▊       | 7/25 [01:52<04:49, 16.08s/it]"
          ],
          "name": "stderr"
        },
        {
          "output_type": "display_data",
          "data": {
            "text/html": [
              "<font color = green>Positive (97%)</font> --> <font color = red>Negative (59%)</font><br>I <font color = green>felt</font> this film did have many good qualities. The cinematography was certainly different exposing the stage aspect of the set and story. The original characters as actors was certainly an achievement and I felt most played quite convincingly, of course they are playing themselves, but definitely unique. The cultural aspects may leave many disappointed as a familiarity with the Chinese and Oriental culture will answer a lot of questions regarding parent/child relationships and the stigma that goes with any drug use. I found the Jia Hongsheng story interesting. On a down note, the story is in Beijing and some of the fashion and music reek of early 90s even though this was made in 2001, so it's really cheesy sometimes (the Beatles crap, etc). Whatever, not a top ten or twenty but if it's on the television, <font color = green>check</font> it out.<br>I <font color = red>considered</font> this film did have many good qualities. The cinematography was certainly different exposing the stage aspect of the set and story. The original characters as actors was certainly an achievement and I felt most played quite convincingly, of course they are playing themselves, but definitely unique. The cultural aspects may leave many disappointed as a familiarity with the Chinese and Oriental culture will answer a lot of questions regarding parent/child relationships and the stigma that goes with any drug use. I found the Jia Hongsheng story interesting. On a down note, the story is in Beijing and some of the fashion and music reek of early 90s even though this was made in 2001, so it's really cheesy sometimes (the Beatles crap, etc). Whatever, not a top ten or twenty but if it's on the television, <font color = red>cհeck</font> it out."
            ],
            "text/plain": [
              "<IPython.core.display.HTML object>"
            ]
          },
          "metadata": {
            "tags": []
          }
        },
        {
          "output_type": "stream",
          "text": [
            "[Succeeded / Failed / Total] 8 / 0 / 8:  32%|███▏      | 8/25 [01:58<04:12, 14.84s/it]"
          ],
          "name": "stderr"
        },
        {
          "output_type": "display_data",
          "data": {
            "text/html": [
              "<font color = green>Positive (100%)</font> --> <font color = red>Negative (52%)</font><br><font color = green>This</font> <font color = green>movie</font> is <font color = green>amazing</font> because the <font color = green>fact</font> that the <font color = green>real</font> <font color = green>people</font> portray themselves and their real life <font color = green>experience</font> and do such a good job it's like <font color = green>they're</font> <font color = green>almost</font> living the past over again. <font color = green>Jia</font> Hongsheng plays himself an <font color = green>actor</font> who quit <font color = green>everything</font> <font color = green>except</font> <font color = green>music</font> and <font color = green>drugs</font> <font color = green>struggling</font> with <font color = green>depression</font> and <font color = green>searching</font> for the <font color = green>meaning</font> of life while being angry at everyone especially the people who care for him most. There's <font color = green>moments</font> in the movie that will make you wanna cry because the family <font color = green>especially</font> the father did such a good job. However, this movie is not for everyone. Many people who suffer from <font color = green>depression</font> will <font color = green>understand</font> <font color = green>Hongsheng's</font> <font color = green>problem</font> and why he does the things he does for <font color = green>example</font> <font color = green>keep</font> himself shut in a dark <font color = green>room</font> or go for <font color = green>walks</font> or bike <font color = green>rides</font> by himself. Others <font color = green>might</font> <font color = green>see</font> the <font color = green>movie</font> as <font color = green>boring</font> because it's just so <font color = green>real</font> that its almost like a <font color = green>documentary</font>. <font color = green>Overall</font> this <font color = green>movie</font> is great and Hongsheng deserved an Oscar for this movie so did his Dad.<br><font color = red>Ce</font> <font color = red>movies</font> is <font color = red>impressive</font> because the <font color = red>fɑct</font> that the <font color = red>veritable</font> <font color = red>peolpe</font> portray themselves and their real life <font color = red>experimenting</font> and do such a good job it's like <font color = red>th</font> <font color = red>ey're</font> <font color = red>alost</font> living the past over again. <font color = red>Jiɑ</font> Hongsheng plays himself an <font color = red>protagonist</font> who quit <font color = red>any</font> <font color = red>excepting</font> <font color = red>musician</font> and <font color = red>medicinal</font> <font color = red>battles</font> with <font color = red>doldrums</font> and <font color = red>searches</font> for the <font color = red>connotation</font> of life while being angry at everyone especially the people who care for him most. There's <font color = red>times</font> in the movie that will make you wanna cry because the family <font color = red>particularly</font> the father did such a good job. However, this movie is not for everyone. Many people who suffer from <font color = red>doldrums</font> will <font color = red>understad</font> <font color = red>Hoոgsheng's</font> <font color = red>prоblem</font> and why he does the things he does for <font color = red>examples</font> <font color = red>maintaining</font> himself shut in a dark <font color = red>rom</font> or go for <font color = red>ԝalks</font> or bike <font color = red>elephants</font> by himself. Others <font color = red>maybe</font> <font color = red>consults</font> the <font color = red>film</font> as <font color = red>borig</font> because it's just so <font color = red>veritable</font> that its almost like a <font color = red>dоcumentary</font>. <font color = red>Ovеrall</font> this <font color = red>moviе</font> is great and Hongsheng deserved an Oscar for this movie so did his Dad."
            ],
            "text/plain": [
              "<IPython.core.display.HTML object>"
            ]
          },
          "metadata": {
            "tags": []
          }
        },
        {
          "output_type": "stream",
          "text": [
            "[Succeeded / Failed / Total] 9 / 0 / 9:  36%|███▌      | 9/25 [02:28<04:24, 16.53s/it]"
          ],
          "name": "stderr"
        },
        {
          "output_type": "display_data",
          "data": {
            "text/html": [
              "<font color = green>Positive (100%)</font> --> <font color = red>Negative (87%)</font><br>\"<font color = green>Quitting</font>\" may be as much about exiting a pre-ordained identity as about drug withdrawal. As a rural guy coming to Beijing, class and success must have struck this young artist face on as an appeal to separate from his roots and far <font color = green>surpass</font> his peasant <font color = green>parents'</font> acting success. Troubles arise, however, when the new man is too new, when it demands too big a departure from family, history, nature, and personal identity. The <font color = green>ensuing</font> splits, and confusion between the imaginary and the real and the dissonance between the ordinary and the heroic are the stuff of a gut check on the one hand or a complete escape from self on the other. <font color = green>Hongshen</font> slips into the latter and his long and lonely road back to self can be grim.<br /><br />But what an exceptionally <font color = green>convincing</font> particularity, <font color = green>honesty</font>, and sensuousness director Zhang Yang, and his <font color = green>actors</font>, bring to this journey. <font color = green>No</font> clichés, no stereotypes, no rigid gender roles, no requisite sex, romance or violence <font color = green>scenes</font>, no requisite street language and, to boot, no assumed money to float character acts and whims. <br /><br />Hongshen Jia is in his mid-twenties. He's a talented actor, impressionable, vain, idealistic, and perhaps emotionally starved. The perfect recipe for his enablers. Soon he's the \"cool\" actor, idolized by youth. \"He was hot in the early nineties.\" \"He always had to be the most fashionable.\" He needs extremes, and goes in for heavy metal, adopts earrings and a scarf. His acting means the arts, friends--and roles, But not the kind that offer any personal challenge or input. And his self-criticism, dulled by the immediacy of success, opens the doors to an irrational self-doubt, self-hatred-- \"I didn't know how to act\" \"I felt like a phony\"--and to readily available drugs to counter them. He says \"I had to get high to do what director wanted.\" So, his shallow identity as an actor becomes, via drugs, an escape from identity. <br /><br />Hongshen's disengagement from drugs and his false life is very gradual, intermittent--and doggedly his own. Solitude, space, meditative thinking, speech refusal, replace therapy. The abstract is out. And a great deal of his change occurs outdoors---not in idealized locations but mainly on green patches under the freeways, bridges, and high-rises of Beijing. The physicality is almost romantic, but is not. The bike rides to Ritan Park, the long spontaneous walks, the drenching sun and rain, grassy picnics, the sky patterns and kites that absorb his musing are very specific. He drifts in order to arrive, all the while picking up cues to a more real and realistic identity. \"I started to open up\" he says of this period in retrospect. And the contact seems to start with his lanky body which projects a kind of dancer's positioning (clumsy, graceful, humorous, telling) in a current circumstance. If mind or spirit is lacking, his legs can compel him to walk all night. <br /><br />Central to his comeback is the rejection of set roles. To punctuate his end to acting and his determination to a new identity, he smashes his videos and TV, and bangs his head till bloody against his \"John Lennon Forever\" poster. He has let down his iconic anti-establishment artist---but he's the only viable guide he knows. He even imagines himself as John's son (Yoko Ono), and adopts his \"Mother Mary\" as an intercessor in his \"hour of darkness\" and \"time of trouble.\" (the wrenching, shaking pain in the park--hallucinatory and skitzoid ordeals) \"Music is so much more real than acting\" he says. And speaks of Lennon's influence as \"showing me a new way.\" In the mental institute, the life-saving apples (resistance, nourishment) reflect Lennon's presence, as does Hongshen's need to re-hang his hero's poster in his redecorated room.<br /><br />If Lennon's influence is spiriting, Hongshen's father's influence is grounding. Although father and son are both actors and users (drugs and drink), it is Fegsen's differences from his son that underwrites his change. For the father is more secure in himself: he accepts that he's Chinese, a peasant in a line of peasants, a rural theater director. And he exercises control over both his habit and his emotions. It's this recognizable identity that drives Hongshen to treat him like a sounding board, sometimes with anger and rage, sometimes with humor (the blue jeans, Beatles) and passivity. In his most crazed, and violent exchange with his father in which he accuses him of being a liar, and a fake, he exposes more of himself than his father: \"all the acts I acted before were bullshit... life is bullshit.\" And to Hongshen's emphatic \"you are NOT my father,\" he softly replies, \"why can't a peasant be your father?\" <br /><br />Under these two teachers and with much additional help from his mother, sister, friends, inmates at the rehab inst., he makes some tangible connection to a real (not whole) self. As the long term drug effects recede, so does his old identity. Indebtedness replaces pride, trust distrust. Integrity banishes his black cloud. All his edges soften. \"You are just a human being\" he repeats endlessly after being released from the strap-down incurred for refusing medicine. Back home, lard peasant soap is fine with him now. And his once \"rare and true friendships\" begin again as is so evident in the back to poignant back-to-back fence scene with his musician buddy. Hongshen says of this movie: \"it's a good chance to think about my life.\" And I might add, become a New Actor, one bound to art and life. Like Lennon, he has gained success without a loss of identity.<br>\"<font color = red>Quittіng</font>\" may be as much about exiting a pre-ordained identity as about drug withdrawal. As a rural guy coming to Beijing, class and success must have struck this young artist face on as an appeal to separate from his roots and far <font color = red>outdo</font> his peasant <font color = red>pa</font> <font color = red>rents'</font> acting success. Troubles arise, however, when the new man is too new, when it demands too big a departure from family, history, nature, and personal identity. The <font color = red>resulting</font> splits, and confusion between the imaginary and the real and the dissonance between the ordinary and the heroic are the stuff of a gut check on the one hand or a complete escape from self on the other. <font color = red>Hongshеn</font> slips into the latter and his long and lonely road back to self can be grim.<br /><br />But what an exceptionally <font color = red>c</font> <font color = red>onvincing</font> particularity, <font color = red>candour</font>, and sensuousness director Zhang Yang, and his <font color = red>players</font>, bring to this journey. <font color = red>Nope</font> clichés, no stereotypes, no rigid gender roles, no requisite sex, romance or violence <font color = red>visuals</font>, no requisite street language and, to boot, no assumed money to float character acts and whims. <br /><br />Hongshen Jia is in his mid-twenties. He's a talented actor, impressionable, vain, idealistic, and perhaps emotionally starved. The perfect recipe for his enablers. Soon he's the \"cool\" actor, idolized by youth. \"He was hot in the early nineties.\" \"He always had to be the most fashionable.\" He needs extremes, and goes in for heavy metal, adopts earrings and a scarf. His acting means the arts, friends--and roles, But not the kind that offer any personal challenge or input. And his self-criticism, dulled by the immediacy of success, opens the doors to an irrational self-doubt, self-hatred-- \"I didn't know how to act\" \"I felt like a phony\"--and to readily available drugs to counter them. He says \"I had to get high to do what director wanted.\" So, his shallow identity as an actor becomes, via drugs, an escape from identity. <br /><br />Hongshen's disengagement from drugs and his false life is very gradual, intermittent--and doggedly his own. Solitude, space, meditative thinking, speech refusal, replace therapy. The abstract is out. And a great deal of his change occurs outdoors---not in idealized locations but mainly on green patches under the freeways, bridges, and high-rises of Beijing. The physicality is almost romantic, but is not. The bike rides to Ritan Park, the long spontaneous walks, the drenching sun and rain, grassy picnics, the sky patterns and kites that absorb his musing are very specific. He drifts in order to arrive, all the while picking up cues to a more real and realistic identity. \"I started to open up\" he says of this period in retrospect. And the contact seems to start with his lanky body which projects a kind of dancer's positioning (clumsy, graceful, humorous, telling) in a current circumstance. If mind or spirit is lacking, his legs can compel him to walk all night. <br /><br />Central to his comeback is the rejection of set roles. To punctuate his end to acting and his determination to a new identity, he smashes his videos and TV, and bangs his head till bloody against his \"John Lennon Forever\" poster. He has let down his iconic anti-establishment artist---but he's the only viable guide he knows. He even imagines himself as John's son (Yoko Ono), and adopts his \"Mother Mary\" as an intercessor in his \"hour of darkness\" and \"time of trouble.\" (the wrenching, shaking pain in the park--hallucinatory and skitzoid ordeals) \"Music is so much more real than acting\" he says. And speaks of Lennon's influence as \"showing me a new way.\" In the mental institute, the life-saving apples (resistance, nourishment) reflect Lennon's presence, as does Hongshen's need to re-hang his hero's poster in his redecorated room.<br /><br />If Lennon's influence is spiriting, Hongshen's father's influence is grounding. Although father and son are both actors and users (drugs and drink), it is Fegsen's differences from his son that underwrites his change. For the father is more secure in himself: he accepts that he's Chinese, a peasant in a line of peasants, a rural theater director. And he exercises control over both his habit and his emotions. It's this recognizable identity that drives Hongshen to treat him like a sounding board, sometimes with anger and rage, sometimes with humor (the blue jeans, Beatles) and passivity. In his most crazed, and violent exchange with his father in which he accuses him of being a liar, and a fake, he exposes more of himself than his father: \"all the acts I acted before were bullshit... life is bullshit.\" And to Hongshen's emphatic \"you are NOT my father,\" he softly replies, \"why can't a peasant be your father?\" <br /><br />Under these two teachers and with much additional help from his mother, sister, friends, inmates at the rehab inst., he makes some tangible connection to a real (not whole) self. As the long term drug effects recede, so does his old identity. Indebtedness replaces pride, trust distrust. Integrity banishes his black cloud. All his edges soften. \"You are just a human being\" he repeats endlessly after being released from the strap-down incurred for refusing medicine. Back home, lard peasant soap is fine with him now. And his once \"rare and true friendships\" begin again as is so evident in the back to poignant back-to-back fence scene with his musician buddy. Hongshen says of this movie: \"it's a good chance to think about my life.\" And I might add, become a New Actor, one bound to art and life. Like Lennon, he has gained success without a loss of identity."
            ],
            "text/plain": [
              "<IPython.core.display.HTML object>"
            ]
          },
          "metadata": {
            "tags": []
          }
        },
        {
          "output_type": "stream",
          "text": [
            "[Succeeded / Failed / Total] 10 / 0 / 10:  40%|████      | 10/25 [03:21<05:02, 20.14s/it]"
          ],
          "name": "stderr"
        },
        {
          "output_type": "display_data",
          "data": {
            "text/html": [
              "<font color = green>Positive (100%)</font> --> <font color = red>Negative (50%)</font><br>I <font color = green>loved</font> this movie from beginning to end.<font color = green>I</font> am a musician and i let drugs get in the way of my some of the things i used to love(<font color = green>skateboarding</font>,<font color = green>drawing</font>) but my friends were always there for me.Music was like my rehab,life support,and my drug.<font color = green>It</font> <font color = green>changed</font> my life.I can totally relate to this movie and i wish there was more i could say.This movie left me speechless to be <font color = green>honest</font>.<font color = green>I</font> just <font color = green>saw</font> it on the Ifc channel.I usually hate having satellite but this was a perk of having satellite.The ifc channel shows some really great movies and without it I <font color = green>never</font> would have found this movie.Im not a big fan of the international films because i find that a lot of the don't do a very good job on translating lines.I mean the obvious language barrier leaves you to just <font color = green>believe</font> thats what they are saying but its not that big of a deal i guess.I <font color = green>almost</font> never <font color = green>got</font> to <font color = green>see</font> this AMAZING movie.Good thing i stayed up for it instead of going to <font color = green>bed</font>..well earlier than usual.lol.I <font color = green>hope</font> you all enjoy the hell of this movie and Love this movie just as much as i did.I wish i could type this all in caps but its again the rules i guess thats shouting but it would really show my excitement for the film.I Give It Three Thumbs Way Up!<br /><br />This Movie Blew ME AWAY!<br>I <font color = red>loѵed</font> this movie from beginning to end.<font color = red>yo</font> am a musician and i let drugs get in the way of my some of the things i used to love(<font color = red>skateboards</font>,<font color = red>drawnig</font>) but my friends were always there for me.Music was like my rehab,life support,and my drug.<font color = red>Es</font> <font color = red>c</font> <font color = red>hanged</font> my life.I can totally relate to this movie and i wish there was more i could say.This movie left me speechless to be <font color = red>truthful</font>.<font color = red>yo</font> just <font color = red>sawthe</font> it on the Ifc channel.I usually hate having satellite but this was a perk of having satellite.The ifc channel shows some really great movies and without it I <font color = red>jamais</font> would have found this movie.Im not a big fan of the international films because i find that a lot of the don't do a very good job on translating lines.I mean the obvious language barrier leaves you to just <font color = red>feel</font> thats what they are saying but its not that big of a deal i guess.I <font color = red>nearly</font> never <font color = red>get</font> to <font color = red>admire</font> this AMAZING movie.Good thing i stayed up for it instead of going to <font color = red>bеd</font>..well earlier than usual.lol.I <font color = red>expectancy</font> you all enjoy the hell of this movie and Love this movie just as much as i did.I wish i could type this all in caps but its again the rules i guess thats shouting but it would really show my excitement for the film.I Give It Three Thumbs Way Up!<br /><br />This Movie Blew ME AWAY!"
            ],
            "text/plain": [
              "<IPython.core.display.HTML object>"
            ]
          },
          "metadata": {
            "tags": []
          }
        },
        {
          "output_type": "stream",
          "text": [
            "[Succeeded / Failed / Total] 11 / 0 / 11:  44%|████▍     | 11/25 [03:40<04:40, 20.06s/it]"
          ],
          "name": "stderr"
        },
        {
          "output_type": "display_data",
          "data": {
            "text/html": [
              "<font color = green>Positive (100%)</font> --> <font color = red>Negative (91%)</font><br>I was fortunate to attend the London premier of this film. While I am not at all a fan of <font color = green>British</font> drama, I did find myself <font color = green>deeply</font> moved by the <font color = green>characters</font> and the BAD <font color = green>CHOICES</font> they made. I was in <font color = green>tears</font> by the end of the film. <font color = green>Every</font> scene was mesmerizing. The attention to <font color = green>detail</font> and the excellent acting was quite <font color = green>impressive</font>.<br /><br />I would have to agree with some of the other comments here which question why all these women were throwing themselves at such a despicable character.<br /><br />*******SPOLIER ALERT******** I was also hoping that Dylan would have been killed by William when he had the chance! ****END SPOILER*****<br /><br />Keira Knightley did a great job and radiate beauty and innocence from the screen, but it was Sienna Miller's performance that was truly Oscar worthy.<br /><br />I am sure this production will be nominated for other awards.<br>I was fortunate to attend the London premier of this film. While I am not at all a fan of <font color = red>Britannica</font> drama, I did find myself <font color = red>seriously</font> moved by the <font color = red>charactеrs</font> and the BAD <font color = red>CHOOSE</font> they made. I was in <font color = red>sobbing</font> by the end of the film. <font color = red>Any</font> scene was mesmerizing. The attention to <font color = red>information</font> and the excellent acting was quite <font color = red>impresive</font>.<br /><br />I would have to agree with some of the other comments here which question why all these women were throwing themselves at such a despicable character.<br /><br />*******SPOLIER ALERT******** I was also hoping that Dylan would have been killed by William when he had the chance! ****END SPOILER*****<br /><br />Keira Knightley did a great job and radiate beauty and innocence from the screen, but it was Sienna Miller's performance that was truly Oscar worthy.<br /><br />I am sure this production will be nominated for other awards."
            ],
            "text/plain": [
              "<IPython.core.display.HTML object>"
            ]
          },
          "metadata": {
            "tags": []
          }
        },
        {
          "output_type": "stream",
          "text": [
            "[Succeeded / Failed / Total] 12 / 0 / 12:  48%|████▊     | 12/25 [03:50<04:09, 19.20s/it]"
          ],
          "name": "stderr"
        },
        {
          "output_type": "display_data",
          "data": {
            "text/html": [
              "<font color = green>Positive (100%)</font> --> <font color = red>Negative (54%)</font><br>I first saw this <font color = green>movie</font> on IFC. <font color = green>Which</font> is a <font color = green>great</font> <font color = green>network</font> by the <font color = green>way</font> to see <font color = green>underground</font> <font color = green>films</font>. I <font color = green>watched</font> this <font color = green>movie</font> and was thinking it was going to be <font color = green>pure</font> drama and a <font color = green>story</font> line that doesn't <font color = green>hold</font> water. But it <font color = green>really</font> was a worth while watch. <font color = green>The</font> main character is in such <font color = green>rough</font> shape, and you hate to see him deny <font color = green>help</font>, but no matter what you just can't hate him. His devotion to The <font color = green>Beatles</font> and <font color = green>John</font> Lennon is a great metaphor for his <font color = green>life</font> and the helplessness he <font color = green>feels</font>. <br /><<font color = green>br</font> />The <font color = green>atmosphere</font> of the <font color = green>film</font> is <font color = green>also</font> great. <font color = green>At</font> <font color = green>times</font>, you <font color = green>feel</font> like you can <font color = green>see</font> what he <font color = green>sees</font>, <font color = green>feel</font> what he <font color = green>feels</font> in some <font color = green>situations</font>. <font color = green>This</font> <font color = green>movie</font> does not <font color = green>leave</font> you wanting to know more, or disliking a loophole in the plot. <font color = green>There</font> are NO loopholes (in my opinion). I have always been a fan of foreign films, especially now with <font color = green>movies</font> being made so poorly in <font color = green>America</font>. I really enjoy the foreign settings because I feel it can take you on a trip, and sometimes understand a different culture. This movie did all those things to me and more. <font color = green>Please</font> watch this movie and if you're <font color = green>new</font> to foreign films, this is a great start.<br>I first saw this <font color = red>move</font> on IFC. <font color = red>Include</font> is a <font color = red>grand</font> <font color = red>networking</font> by the <font color = red>routes</font> to see <font color = red>metro</font> <font color = red>movies</font>. I <font color = red>looked</font> this <font color = red>filmmaking</font> and was thinking it was going to be <font color = red>mere</font> drama and a <font color = red>histories</font> line that doesn't <font color = red>hlod</font> water. But it <font color = red>indeed</font> was a worth while watch. <font color = red>To</font> main character is in such <font color = red>crude</font> shape, and you hate to see him deny <font color = red>aid</font>, but no matter what you just can't hate him. His devotion to The <font color = red>Clapton</font> and <font color = red>Giovanni</font> Lennon is a great metaphor for his <font color = red>vida</font> and the helplessness he <font color = red>thinks</font>. <br /><<font color = red>eb</font> />The <font color = red>mood</font> of the <font color = red>cinema</font> is <font color = red>similarly</font> great. <font color = red>In</font> <font color = red>ties</font>, you <font color = red>think</font> like you can <font color = red>admire</font> what he <font color = red>feels</font>, <font color = red>think</font> what he <font color = red>sees</font> in some <font color = red>occasions</font>. <font color = red>Such</font> <font color = red>filmmaking</font> does not <font color = red>letting</font> you wanting to know more, or disliking a loophole in the plot. <font color = red>We</font> are NO loopholes (in my opinion). I have always been a fan of foreign films, especially now with <font color = red>movie</font> being made so poorly in <font color = red>Amеrica</font>. I really enjoy the foreign settings because I feel it can take you on a trip, and sometimes understand a different culture. This movie did all those things to me and more. <font color = red>Praying</font> watch this movie and if you're <font color = red>novel</font> to foreign films, this is a great start."
            ],
            "text/plain": [
              "<IPython.core.display.HTML object>"
            ]
          },
          "metadata": {
            "tags": []
          }
        },
        {
          "output_type": "stream",
          "text": [
            "[Succeeded / Failed / Total] 13 / 0 / 13:  52%|█████▏    | 13/25 [04:23<04:02, 20.24s/it]"
          ],
          "name": "stderr"
        },
        {
          "output_type": "display_data",
          "data": {
            "text/html": [
              "<font color = green>Positive (100%)</font> --> <font color = red>Negative (55%)</font><br>I must say, <font color = green>every</font> <font color = green>time</font> I see this movie, I am <font color = green>deeply</font> <font color = green>touched</font>, not only by the most painful four years of Hongsheng's life, but also by how his family <font color = green>deals</font> with his drug addiction. It is also true that getting addicted to anything, such as drugs, alcohol, or pornography, cannot only hurt you, but also hurt your most important people in the world: your family. Since family is the #1 priority in the Asian culture, it takes guts for the circle to gather together and show one person how much the family loves him/her. this is <font color = green>actually</font> the <font color = green>first</font> Chinese movie that I <font color = green>actually</font> enjoy, not for the fun of it, but the elements surrounding it (superb <font color = green>acting</font>, touching story, great direction) make this movie worth watching. What stands out the most is that <font color = green>Hongsheng</font> and his family act out the story themselves <font color = green>instead</font> of having some B-movie actor trying to <font color = green>imitate</font> the real <font color = green>person</font>. It shows the genuineness of the movie.<br>I must say, <font color = red>еvery</font> <font color = red>tme</font> I see this movie, I am <font color = red>severely</font> <font color = red>impacted</font>, not only by the most painful four years of Hongsheng's life, but also by how his family <font color = red>dealing</font> with his drug addiction. It is also true that getting addicted to anything, such as drugs, alcohol, or pornography, cannot only hurt you, but also hurt your most important people in the world: your family. Since family is the #1 priority in the Asian culture, it takes guts for the circle to gather together and show one person how much the family loves him/her. this is <font color = red>even</font> the <font color = red>fi</font> <font color = red>rst</font> Chinese movie that I <font color = red>indeed</font> enjoy, not for the fun of it, but the elements surrounding it (superb <font color = red>ɑcting</font>, touching story, great direction) make this movie worth watching. What stands out the most is that <font color = red>Hoոgsheng</font> and his family act out the story themselves <font color = red>insteaԁ</font> of having some B-movie actor trying to <font color = red>imіtate</font> the real <font color = red>persons</font>. It shows the genuineness of the movie."
            ],
            "text/plain": [
              "<IPython.core.display.HTML object>"
            ]
          },
          "metadata": {
            "tags": []
          }
        },
        {
          "output_type": "stream",
          "text": [
            "[Succeeded / Failed / Total] 14 / 0 / 14:  56%|█████▌    | 14/25 [04:36<03:37, 19.73s/it]"
          ],
          "name": "stderr"
        },
        {
          "output_type": "display_data",
          "data": {
            "text/html": [
              "<font color = green>Positive (96%)</font> --> <font color = red>Negative (85%)</font><br>My wife is a mental health therapist and we watched it from beginning to end. I am the typical man and can not stand chick flicks, but this movie is unbelievable. If you want to see what it is like for someone who is going through these type of struggles, this is the movie for you. As I watched it I found myself feeling sorry for him and others like him. <br /><br />***Spoiler*** Plus the fact that all the individuals in the movie including the people in the mental institution were the actual people in real life made it that more <font color = green>real</font>.<br /><br />A must see for someone in the mental health profession!<br>My wife is a mental health therapist and we watched it from beginning to end. I am the typical man and can not stand chick flicks, but this movie is unbelievable. If you want to see what it is like for someone who is going through these type of struggles, this is the movie for you. As I watched it I found myself feeling sorry for him and others like him. <br /><br />***Spoiler*** Plus the fact that all the individuals in the movie including the people in the mental institution were the actual people in real life made it that more <font color = red>rel</font>.<br /><br />A must see for someone in the mental health profession!"
            ],
            "text/plain": [
              "<IPython.core.display.HTML object>"
            ]
          },
          "metadata": {
            "tags": []
          }
        },
        {
          "output_type": "stream",
          "text": [
            "[Succeeded / Failed / Total] 15 / 0 / 15:  60%|██████    | 15/25 [04:40<03:07, 18.72s/it]"
          ],
          "name": "stderr"
        },
        {
          "output_type": "display_data",
          "data": {
            "text/html": [
              "<font color = green>Positive (100%)</font> --> <font color = red>Negative (50%)</font><br>I saw this film at the Rotterdam International Film Festival 2002. This <font color = green>seemed</font> to be one of the less popular films on the festival, however, as it turned out, all the more <font color = green>interesting</font>.<br /><br />The story, of an actor trying to come to grips with himself and his environment after withdrawing from a drug addiction, is based on actual facts. Moreover, the characters playing in the film are the real people living this experience over again, this time for the film, which is partly set up as a stage play. Not only do they all happen to be good actors, Jia Hongsheng's parents are actors in real life as well, the methods used in highlighting their relationship towards Jia are very effective.<br /><br />Jia Hongsheng is the actor of some Chinese action films late eighties start nineties. Later you can see him in great films such as Frozen and Suzhou River. In between these two career paths Jia <font color = green>becomes</font> a drug addict and looses all drive to act or even do anything productive, except for making somewhat <font color = green>futile</font> attempts at <font color = green>becoming</font> a guitar virtuoso.<br /><br />I like the <font color = green>way</font> the writer of the scenario <font color = green>choose</font> to emphasize on his behavior after withdrawal more than on the horror of drugs. We really feel the pain and struggle Jia is in. At the same time we hate him for the way he treats those around him.<br /><br />The film draws the viewer into a tiring pattern Jia seems to be caught in, dragging with him his parents and sister who try to take care of him. Because there are personal 'interviews' with the characters we feel like we are getting to know Jia not only through himself but through others as well.<br /><br />The film has a heavy feel, but scenes of Jia cycling through Bejing and partying with his friends lighten the tone. So does the bitter humor in a lot of events throughout the film. The music is beautiful and stayed with me for a while after. This is a film that might not easily appeal to many people but for those interested in the more serious and modern Chinese film this is a strong recommendation.<br>I saw this film at the Rotterdam International Film Festival 2002. This <font color = red>sounded</font> to be one of the less popular films on the festival, however, as it turned out, all the more <font color = red>attractive</font>.<br /><br />The story, of an actor trying to come to grips with himself and his environment after withdrawing from a drug addiction, is based on actual facts. Moreover, the characters playing in the film are the real people living this experience over again, this time for the film, which is partly set up as a stage play. Not only do they all happen to be good actors, Jia Hongsheng's parents are actors in real life as well, the methods used in highlighting their relationship towards Jia are very effective.<br /><br />Jia Hongsheng is the actor of some Chinese action films late eighties start nineties. Later you can see him in great films such as Frozen and Suzhou River. In between these two career paths Jia <font color = red>becoming</font> a drug addict and looses all drive to act or even do anything productive, except for making somewhat <font color = red>ftile</font> attempts at <font color = red>be</font> <font color = red>coming</font> a guitar virtuoso.<br /><br />I like the <font color = red>ԝay</font> the writer of the scenario <font color = red>opted</font> to emphasize on his behavior after withdrawal more than on the horror of drugs. We really feel the pain and struggle Jia is in. At the same time we hate him for the way he treats those around him.<br /><br />The film draws the viewer into a tiring pattern Jia seems to be caught in, dragging with him his parents and sister who try to take care of him. Because there are personal 'interviews' with the characters we feel like we are getting to know Jia not only through himself but through others as well.<br /><br />The film has a heavy feel, but scenes of Jia cycling through Bejing and partying with his friends lighten the tone. So does the bitter humor in a lot of events throughout the film. The music is beautiful and stayed with me for a while after. This is a film that might not easily appeal to many people but for those interested in the more serious and modern Chinese film this is a strong recommendation."
            ],
            "text/plain": [
              "<IPython.core.display.HTML object>"
            ]
          },
          "metadata": {
            "tags": []
          }
        },
        {
          "output_type": "stream",
          "text": [
            "[Succeeded / Failed / Total] 16 / 0 / 16:  64%|██████▍   | 16/25 [04:59<02:48, 18.72s/it]"
          ],
          "name": "stderr"
        },
        {
          "output_type": "display_data",
          "data": {
            "text/html": [
              "<font color = red>Negative (99%)</font> --> <font color = gray>[SKIPPED]</font><br>\"Night of the Hunted\" stars French porn star Brigitte Lahaie.In fact,many of the cast members in this slow-moving production were porn actors at the time of its frantic filming.This film is certainly different than Rollin's usual lesbian vampire flicks,but it's not as memorable as for example \"Lips of Blood\" or \"Fascination\".Lahaie plays an amnesiac hitchhiker who can't remember who she is or where she came from.Most of the film takes place in a modern apartment complex,where Lahaie is being held by some kind of medical group that's treating a number of people with a similar condition.Anyway,she escapes from the monolithic office tower where the affected people are held.On a highway outside of town,she meets a young man,who stops and picks her up.\"Night of the Hunted\" offers plenty of nudity,unfortunately the pace is extremely slow.The atmosphere is horribly sad and the relationship between Brigitte Lahaie and another asylum inmate Dominique Journet is well-developed.Still \"Night of the Hunted\" is too dull to be completely enjoyable.Give it a look only if you are a fan of Jean Rollin's works.7 out of 10 and that's being kind."
            ],
            "text/plain": [
              "<IPython.core.display.HTML object>"
            ]
          },
          "metadata": {
            "tags": []
          }
        },
        {
          "output_type": "stream",
          "text": [
            "\r[Succeeded / Failed / Total] 16 / 0 / 17:  68%|██████▊   | 17/25 [04:59<02:20, 17.62s/it]"
          ],
          "name": "stderr"
        },
        {
          "output_type": "display_data",
          "data": {
            "text/html": [
              "<font color = green>Positive (99%)</font> --> <font color = red>Negative (52%)</font><br>Even if you're a fan of Jean Rollin's idiosyncratic body of work, you will be caught off guard by this <font color = green>exceptional</font> foray into science fiction territory. For once, there's not a single diaphanously gowned vampire girl in sight ! True to tradition, the <font color = green>budget</font> proved way too tight to realize the director's vision entirely. Yet this is largely compensated by his obvious love of genre cinema, dedication to his craft and sheer <font color = green>ingenuity</font>. Jean-Claude Couty's atmospheric cinematography makes the most of the foreboding locations and Philippe Bréjean (a/k/a \"Gary Sandeur\") contributes a startling soundtrack that fortunately doesn't resemble any of the sappy stuff he composed for hardcore.<br /><br />Shot in and around a Paris office block before and after <font color = green>working</font> hours, the film was largely cast with porn regulars Rollin was already quite familiar with from his \"Michel Gentil\" cash-gathering XXX efforts, most notably French f*ck film royalty Brigitte Lahaie in the demanding lead. Playing Elisabeth (rather well, I might add), she's picked up wandering a nearby highway one night by Robert (Vincent Gardère), driving home at the end of a long work day. Barely able to piece together the string of events that got her there, Elisabeth seems to lose her memories mere moments after events occur, even forgetting Robert's name and heroic savior role before their night flight comes to an end at his apartment. Prior to making love, she rightfully describes herself as a virgin (further credit to Brigitte's thespian skills that she can handle the line so convincingly, being after all one of the more active adult actresses of the '70s) because she cannot recall a single touch preceding his. Because of this nifty bit of context, the relatively long sex scene that follows totally eschews the gratuity of other \"commercial\" interludes Rollin has had to include in other works to assure funding.<br /><br />When Robert leaves for work, he's inevitably erased from Elisabeth's feeble mind. A mysterious doctor (comedian Bernard Papineau effectively cast against type) and his menacing assistant Solange (striking porn starlet Rachel Mhas) move in on her during her protector's absence and take her back to the place she turns out to have escaped from. Here we get one of the movie's strongest scenes as she's re-introduced to her roommate Catherine (the late Cathérine Greiner a/k/a hardcore performer \"Cathy Stewart\" in a quietly devastating turn), both girls desperately supplying fictitious shared \"memories\" for one another in a bid to outrun their inevitable fate. That deterioration is not solely limited to the mind becomes painfully clear when they are served lunch and Catherine's unable to control her movements in trying to eat a spoonful of soup. It's also Catherine who gets to voice the filmmaker's compromise with the demands of commerce as she urges Elisabeth to get naked and hold her because sex is all they have left now that both mind and physical faculties have deserted them.<br /><br />Several rather explicit - if not quite hardcore - sex scenes make up the movie's mid-section and French porn aficionados should recognize the likes of Alain Plumey (a/k/a \"Cyril Val\"), Jacques Gateau and Elodie Delage, along with a blink and miss bit from future porno princess Marilyn Jess whose rape at the hands, mouth and member of Plumey was only present in the film's rarely screened XXX version FILLES TRAQUEES. The pivotal part of Véronique, a girl Elisabeth almost seems to remember and whom she seeks to escape anew with, is beautifully handled by the exquisite Dominique Journet - in her unforgettable debut - who would go on to play a sizable supporting role in Franco Zeffirelli's LA TRAVIATA. The six feet under ending reveals the deteriorating condition to be the result of a nuclear spill, the quarantined \"patients\" ultimately leaving a barely breathing empty shell, unceremoniously disposed off in a fiery furnace. The final shot offers a particularly heartbreaking variation on that of Chaplin's MODERN TIMES as Elisabeth, approaching complete meltdown by now, and a wounded Robert stumble along the railroad bridge, clumsily clasping each other's outstretched hands.<br>Even if you're a fan of Jean Rollin's idiosyncratic body of work, you will be caught off guard by this <font color = red>exceptioոal</font> foray into science fiction territory. For once, there's not a single diaphanously gowned vampire girl in sight ! True to tradition, the <font color = red>budɡet</font> proved way too tight to realize the director's vision entirely. Yet this is largely compensated by his obvious love of genre cinema, dedication to his craft and sheer <font color = red>naivety</font>. Jean-Claude Couty's atmospheric cinematography makes the most of the foreboding locations and Philippe Bréjean (a/k/a \"Gary Sandeur\") contributes a startling soundtrack that fortunately doesn't resemble any of the sappy stuff he composed for hardcore.<br /><br />Shot in and around a Paris office block before and after <font color = red>collaborating</font> hours, the film was largely cast with porn regulars Rollin was already quite familiar with from his \"Michel Gentil\" cash-gathering XXX efforts, most notably French f*ck film royalty Brigitte Lahaie in the demanding lead. Playing Elisabeth (rather well, I might add), she's picked up wandering a nearby highway one night by Robert (Vincent Gardère), driving home at the end of a long work day. Barely able to piece together the string of events that got her there, Elisabeth seems to lose her memories mere moments after events occur, even forgetting Robert's name and heroic savior role before their night flight comes to an end at his apartment. Prior to making love, she rightfully describes herself as a virgin (further credit to Brigitte's thespian skills that she can handle the line so convincingly, being after all one of the more active adult actresses of the '70s) because she cannot recall a single touch preceding his. Because of this nifty bit of context, the relatively long sex scene that follows totally eschews the gratuity of other \"commercial\" interludes Rollin has had to include in other works to assure funding.<br /><br />When Robert leaves for work, he's inevitably erased from Elisabeth's feeble mind. A mysterious doctor (comedian Bernard Papineau effectively cast against type) and his menacing assistant Solange (striking porn starlet Rachel Mhas) move in on her during her protector's absence and take her back to the place she turns out to have escaped from. Here we get one of the movie's strongest scenes as she's re-introduced to her roommate Catherine (the late Cathérine Greiner a/k/a hardcore performer \"Cathy Stewart\" in a quietly devastating turn), both girls desperately supplying fictitious shared \"memories\" for one another in a bid to outrun their inevitable fate. That deterioration is not solely limited to the mind becomes painfully clear when they are served lunch and Catherine's unable to control her movements in trying to eat a spoonful of soup. It's also Catherine who gets to voice the filmmaker's compromise with the demands of commerce as she urges Elisabeth to get naked and hold her because sex is all they have left now that both mind and physical faculties have deserted them.<br /><br />Several rather explicit - if not quite hardcore - sex scenes make up the movie's mid-section and French porn aficionados should recognize the likes of Alain Plumey (a/k/a \"Cyril Val\"), Jacques Gateau and Elodie Delage, along with a blink and miss bit from future porno princess Marilyn Jess whose rape at the hands, mouth and member of Plumey was only present in the film's rarely screened XXX version FILLES TRAQUEES. The pivotal part of Véronique, a girl Elisabeth almost seems to remember and whom she seeks to escape anew with, is beautifully handled by the exquisite Dominique Journet - in her unforgettable debut - who would go on to play a sizable supporting role in Franco Zeffirelli's LA TRAVIATA. The six feet under ending reveals the deteriorating condition to be the result of a nuclear spill, the quarantined \"patients\" ultimately leaving a barely breathing empty shell, unceremoniously disposed off in a fiery furnace. The final shot offers a particularly heartbreaking variation on that of Chaplin's MODERN TIMES as Elisabeth, approaching complete meltdown by now, and a wounded Robert stumble along the railroad bridge, clumsily clasping each other's outstretched hands."
            ],
            "text/plain": [
              "<IPython.core.display.HTML object>"
            ]
          },
          "metadata": {
            "tags": []
          }
        },
        {
          "output_type": "stream",
          "text": [
            "[Succeeded / Failed / Total] 17 / 0 / 18:  72%|███████▏  | 18/25 [05:32<02:09, 18.45s/it]"
          ],
          "name": "stderr"
        },
        {
          "output_type": "display_data",
          "data": {
            "text/html": [
              "<font color = green>Positive (100%)</font> --> <font color = red>Negative (64%)</font><br>I was <font color = green>surprised</font> how much I enjoyed this. Sure it is a bit <font color = green>slow</font> moving in parts, but what else would one expect from Rollin? <font color = green>Also</font> there is plenty of nudity, nothing wrong with that, particularly as it includes lots of the gorgeous, Brigitte Lahaie. <font color = green>There</font> are also some spectacularly eroticised female dead, bit more dodgey, perhaps, but most effective. There is also a sci-fi like storyline with a brief explanation at the end, but I wouldn't bother too much with that. <font color = green>No</font>, here we have a most <font color = green>interesting</font> <font color = green>exploration</font> of memory and the effect of memory loss and to just what <font color = green>extent</font> one is still 'alive' without memory. My <font color = green>DVD</font> sleeve <font color = green>mentions</font> David Cronenberg and <font color = green>whilst</font> this is <font color = green>perhaps</font> not quite as good as his best films, there is some similarity here, particularly with the great use of seemingly menacing architecture and the effective and creepy use of <font color = green>inside</font> <font color = green>space</font>. <font color = green>As</font> I have <font color = green>tried</font> to indicate this is by no <font color = green>means</font> a <font color = green>rip</font> roaring thriller, it is a captivating, <font color = green>nightmare</font> like movie that makes the very most of its <font color = green>locations</font>, <font color = green>including</font> a stunning <font color = green>railway</font> setting at the end.<br>I was <font color = red>astounded</font> how much I enjoyed this. Sure it is a bit <font color = red>slows</font> moving in parts, but what else would one expect from Rollin? <font color = red>Additionally</font> there is plenty of nudity, nothing wrong with that, particularly as it includes lots of the gorgeous, Brigitte Lahaie. <font color = red>Sixth</font> are also some spectacularly eroticised female dead, bit more dodgey, perhaps, but most effective. There is also a sci-fi like storyline with a brief explanation at the end, but I wouldn't bother too much with that. <font color = red>Nope</font>, here we have a most <font color = red>inter</font> <font color = red>esting</font> <font color = red>explоration</font> of memory and the effect of memory loss and to just what <font color = red>breadth</font> one is still 'alive' without memory. My <font color = red>BLURAY</font> sleeve <font color = red>indicates</font> David Cronenberg and <font color = red>whilt</font> this is <font color = red>conceivably</font> not quite as good as his best films, there is some similarity here, particularly with the great use of seemingly menacing architecture and the effective and creepy use of <font color = red>insiԁe</font> <font color = red>aerospace</font>. <font color = red>Because</font> I have <font color = red>try</font> to indicate this is by no <font color = red>signifies</font> a <font color = red>rіp</font> roaring thriller, it is a captivating, <font color = red>curse</font> like movie that makes the very most of its <font color = red>locatіons</font>, <font color = red>inclu</font> <font color = red>ding</font> a stunning <font color = red>ⲅailway</font> setting at the end."
            ],
            "text/plain": [
              "<IPython.core.display.HTML object>"
            ]
          },
          "metadata": {
            "tags": []
          }
        },
        {
          "output_type": "stream",
          "text": [
            "[Succeeded / Failed / Total] 18 / 0 / 19:  76%|███████▌  | 19/25 [05:54<01:51, 18.65s/it]"
          ],
          "name": "stderr"
        },
        {
          "output_type": "display_data",
          "data": {
            "text/html": [
              "<font color = green>Positive (100%)</font> --> <font color = red>Negative (99%)</font><br>I went into \"Night of the Hunted\" not knowing what to expect at all. I was really <font color = green>impressed</font>.<br /><br />It is essentially a mystery/thriller where this girl who can't remember anything gets 'rescued' by a guy who happens to be driving past. The two become fast friends and lovers and together, they try to figure out what is going on with her. Through some vague flashbacks and grim memories, they eventually get to the bottom of it and the ending is pretty cool.<br /><br />I really liked the setting of this one: a desolate, post-modern Paris is the backdrop with lots of gray skies and tall buildings. Very metropolitan. Groovy soundtrack and lots of nudity.<br /><br />Surprising it was made in 1980; seems somewhat ahead of it's time.<br /><br />8 out of 10, kids.<br>I went into \"Night of the Hunted\" not knowing what to expect at all. I was really <font color = red>іmpressed</font>.<br /><br />It is essentially a mystery/thriller where this girl who can't remember anything gets 'rescued' by a guy who happens to be driving past. The two become fast friends and lovers and together, they try to figure out what is going on with her. Through some vague flashbacks and grim memories, they eventually get to the bottom of it and the ending is pretty cool.<br /><br />I really liked the setting of this one: a desolate, post-modern Paris is the backdrop with lots of gray skies and tall buildings. Very metropolitan. Groovy soundtrack and lots of nudity.<br /><br />Surprising it was made in 1980; seems somewhat ahead of it's time.<br /><br />8 out of 10, kids."
            ],
            "text/plain": [
              "<IPython.core.display.HTML object>"
            ]
          },
          "metadata": {
            "tags": []
          }
        },
        {
          "output_type": "stream",
          "text": [
            "[Succeeded / Failed / Total] 19 / 0 / 20:  80%|████████  | 20/25 [06:00<01:30, 18.00s/it]"
          ],
          "name": "stderr"
        },
        {
          "output_type": "display_data",
          "data": {
            "text/html": [
              "<font color = red>Negative (88%)</font> --> <font color = gray>[SKIPPED]</font><br>I have certainly not seen all of Jean Rollin's films, but they mostly seem to be bloody vampire naked women fests, which if you like that sort of thing is not bad, but this is a major departure and could almost be Cronenberg minus the bio-mechanical nightmarish stuff. Except it's in French with subtitles of course. A man driving on the road at night comes across a woman that is in her slippers and bathrobe and picks her up, while in the background yet another woman lingers, wearing nothing. As they drive along it's obvious that there is something not right about the woman, in that she forgets things almost as quickly as they happen. Still though, that doesn't prevent the man from having sex with her once they return to Paris & his apartment. The man leaves for work and some strangers show up at his place and take the woman away to this 'tower block', a huge apartment building referred to as the Black Tower, where others of her kind (for whom the 'no memory' things seems to be the least of their problems) are being held for some reason. Time and events march by in the movie, which involve mostly trying to find what's going on and get out of the building for this woman, and she does manage to call Robert, the guy that picked her up in the first place, to come rescue her. The revelation as to what's going on comes in the last few moments of the movie, which has a rather strange yet touching end to it. In avoiding what seemed to be his \"typical\" formula, Rollin created, in this, what I feel is his most fascinating and disturbing film. I like this one a lot, check it out. 8 out of 10."
            ],
            "text/plain": [
              "<IPython.core.display.HTML object>"
            ]
          },
          "metadata": {
            "tags": []
          }
        },
        {
          "output_type": "stream",
          "text": [
            "\r[Succeeded / Failed / Total] 19 / 0 / 21:  84%|████████▍ | 21/25 [06:00<01:08, 17.15s/it]"
          ],
          "name": "stderr"
        },
        {
          "output_type": "display_data",
          "data": {
            "text/html": [
              "<font color = green>Positive (100%)</font> --> <font color = red>Negative (53%)</font><br><font color = green>Since</font> this <font color = green>cartoon</font> was made in the old days, Felix talks using <font color = green>cartoon</font> bubbles and the animation <font color = green>style</font> is very crude when compared to today. However, compared to its contemporaries, it's a <font color = green>pretty</font> good cartoon and still holds up well. That's because <font color = green>despite</font> its <font color = green>age</font>, the cartoon is very <font color = green>creative</font> and funny.<br /><br />Felix meets a guy whose shoe business is folding because he can't sell any shoes. Well, Felix needs money so he can go to Hollywood, so he tells the guy at the shop he'll get every shoe sold. Felix spreads chewing <font color = green>gum</font> all over town and soon people are stuck and leave their shoes--rushing to buy new ones from the shoe store. In gratitude, the guy gives Felix $500! However, Felix's owner wants to take the money and go alone, so Felix figures out a way to sneak along.<br /><br />Once there, Felix barges into a studio and makes a <font color = green>bit</font> of a nuisance of himself. Along the way, he <font color = green>meets</font> cartoon versions of comics Ben Turpin and Charlie Chaplin. In the end, though, through luck, Felix is discovered and offered a movie contract. Hurray!<br><font color = red>Then</font> this <font color = red>carton</font> was made in the old days, Felix talks using <font color = red>comic</font> bubbles and the animation <font color = red>sytle</font> is very crude when compared to today. However, compared to its contemporaries, it's a <font color = red>prettу</font> good cartoon and still holds up well. That's because <font color = red>whilst</font> its <font color = red>aɡe</font>, the cartoon is very <font color = red>creatve</font> and funny.<br /><br />Felix meets a guy whose shoe business is folding because he can't sell any shoes. Well, Felix needs money so he can go to Hollywood, so he tells the guy at the shop he'll get every shoe sold. Felix spreads chewing <font color = red>gm</font> all over town and soon people are stuck and leave their shoes--rushing to buy new ones from the shoe store. In gratitude, the guy gives Felix $500! However, Felix's owner wants to take the money and go alone, so Felix figures out a way to sneak along.<br /><br />Once there, Felix barges into a studio and makes a <font color = red>hunk</font> of a nuisance of himself. Along the way, he <font color = red>mee</font> <font color = red>ts</font> cartoon versions of comics Ben Turpin and Charlie Chaplin. In the end, though, through luck, Felix is discovered and offered a movie contract. Hurray!"
            ],
            "text/plain": [
              "<IPython.core.display.HTML object>"
            ]
          },
          "metadata": {
            "tags": []
          }
        },
        {
          "output_type": "stream",
          "text": [
            "[Succeeded / Failed / Total] 20 / 0 / 22:  88%|████████▊ | 22/25 [06:14<00:51, 17.01s/it]"
          ],
          "name": "stderr"
        },
        {
          "output_type": "display_data",
          "data": {
            "text/html": [
              "<font color = green>Positive (100%)</font> --> <font color = red>Negative (52%)</font><br><font color = green>Despite</font> the title and unlike some other stories about love and <font color = green>war</font>, this <font color = green>film</font> isn't too sticky and pink, because <font color = green>love</font> is as a <font color = green>rose</font>: <font color = green>With</font> <font color = green>thorns</font>, that is. <font color = green>The</font> four <font color = green>leading</font> <font color = green>actors</font> set their <font color = green>characters</font> <font color = green>realistic</font> and with a <font color = green>good</font> <font color = green>sense</font> and balance between the <font color = green>tragic</font> and the down-to-earth. <br /><br />The <font color = green>music</font> and <font color = green>lyrics</font> of the <font color = green>cabaret</font>/chanson-esquire <font color = green>songs</font> (<font color = green>sung</font> <font color = green>b</font> Keira Knightley herself) drag the viewer deeper and <font color = green>deeper</font> in the <font color = green>film</font>, from one place to <font color = green>another</font>, between the brutal <font color = green>war</font> and <font color = green>amongst</font> the peaceful <font color = green>love</font>. <font color = green>Some</font> <font color = green>people</font> <font color = green>may</font> find it too <font color = green>much</font> a <font color = green>biopic</font>, but it <font color = green>ís</font> <font color = green>mostly</font> a <font color = green>romantic</font> <font color = green>story</font>, even though it consequently follows the <font color = green>life</font> of <font color = green>Dylan</font> Thomas and the <font color = green>triangular</font> <font color = green>relationship</font> which is <font color = green>steeped</font> by <font color = green>joy</font> and <font color = green>jealousy</font>. <br /><br />London gets visualized from <font color = green>another</font> <font color = green>angle</font> for once, the bohemian <font color = green>life</font> of <font color = green>Dylan</font> during the bombings of the Germans is <font color = green>set</font> in a <font color = green>floating</font> atmosphere of <font color = green>small</font> bedrooms, pubs and bars. The <font color = green>independent</font> <font color = green>women</font>, the <font color = green>soldier</font> and the charismatic poet are constantly <font color = green>swept</font> in both feelings of <font color = green>love</font> and <font color = green>anger</font>. <br /><br /><font color = green>Maybe</font> the end is too <font color = green>twisted</font> and hangs somewhat loosely to the rest of the film, but all in all this is a great romantic story.<br><font color = red>Although</font> the title and unlike some other stories about love and <font color = red>wartime</font>, this <font color = red>filmmaking</font> isn't too sticky and pink, because <font color = red>loved</font> is as a <font color = red>risen</font>: <font color = red>Among</font> <font color = red>needles</font>, that is. <font color = red>To</font> four <font color = red>principal</font> <font color = red>actresses</font> set their <font color = red>character</font> <font color = red>pragmatic</font> and with a <font color = red>decent</font> <font color = red>feeling</font> and balance between the <font color = red>dire</font> and the down-to-earth. <br /><br />The <font color = red>musician</font> and <font color = red>songs</font> of the <font color = red>salon</font>/chanson-esquire <font color = red>melodies</font> (<font color = red>sng</font> <font color = red>seconds</font> Keira Knightley herself) drag the viewer deeper and <font color = red>closer</font> in the <font color = red>cinema</font>, from one place to <font color = red>further</font>, between the brutal <font color = red>wars</font> and <font color = red>among</font> the peaceful <font color = red>loved</font>. <font color = red>Almost</font> <font color = red>humans</font> <font color = red>my</font> find it too <font color = red>very</font> a <font color = red>biopc</font>, but it <font color = red>ít</font> <font color = red>primarily</font> a <font color = red>romance</font> <font color = red>stоry</font>, even though it consequently follows the <font color = red>lives</font> of <font color = red>Presley</font> Thomas and the <font color = red>triangle</font> <font color = red>relationships</font> which is <font color = red>steped</font> by <font color = red>glee</font> and <font color = red>envy</font>. <br /><br />London gets visualized from <font color = red>latter</font> <font color = red>prism</font> for once, the bohemian <font color = red>lives</font> of <font color = red>Presley</font> during the bombings of the Germans is <font color = red>establishing</font> in a <font color = red>fleet</font> atmosphere of <font color = red>petite</font> bedrooms, pubs and bars. The <font color = red>independence</font> <font color = red>girl</font>, the <font color = red>military</font> and the charismatic poet are constantly <font color = red>devastated</font> in both feelings of <font color = red>loved</font> and <font color = red>rage</font>. <br /><br /><font color = red>May</font> <font color = red>be</font> the end is too <font color = red>distorted</font> and hangs somewhat loosely to the rest of the film, but all in all this is a great romantic story."
            ],
            "text/plain": [
              "<IPython.core.display.HTML object>"
            ]
          },
          "metadata": {
            "tags": []
          }
        },
        {
          "output_type": "stream",
          "text": [
            "[Succeeded / Failed / Total] 21 / 0 / 23:  92%|█████████▏| 23/25 [07:10<00:37, 18.72s/it]"
          ],
          "name": "stderr"
        },
        {
          "output_type": "display_data",
          "data": {
            "text/html": [
              "<font color = green>Positive (100%)</font> --> <font color = red>Negative (53%)</font><br>Felix in Hollywood is a <font color = green>great</font> film. The version I viewed was very well restored, which is sometimes a problem with these silent era animated films. It has some of Hollywood's most famous stars making cameo animated appearances. A must for any silent film or animation enthusiast.<br>Felix in Hollywood is a <font color = red>grеat</font> film. The version I viewed was very well restored, which is sometimes a problem with these silent era animated films. It has some of Hollywood's most famous stars making cameo animated appearances. A must for any silent film or animation enthusiast."
            ],
            "text/plain": [
              "<IPython.core.display.HTML object>"
            ]
          },
          "metadata": {
            "tags": []
          }
        },
        {
          "output_type": "stream",
          "text": [
            "[Succeeded / Failed / Total] 22 / 0 / 24:  96%|█████████▌| 24/25 [07:13<00:18, 18.04s/it]"
          ],
          "name": "stderr"
        },
        {
          "output_type": "display_data",
          "data": {
            "text/html": [
              "<font color = green>Positive (100%)</font> --> <font color = red>Negative (52%)</font><br><font color = green>A</font> <font color = green>gem</font> of a cartoon from the silent era---it was re-discovered by CARTOON NETWORK, and was broadcast for likely the first time in decades, if ever.<<font color = green>br</font> /><br />What makes this so <font color = green>enjoyable</font> are the <font color = green>varied</font> <font color = green>cameos</font>...Douglas Fairbanks is attacked by <font color = green>giant</font> <font color = green>mosquitos</font>; Will Hays pays a visit as 'boss' of Static Studios; as well as appearances by <font color = green>Chaplin</font>, <font color = green>Keaton</font>, and William <font color = green>S</font>. Hart. <font color = green>The</font> <font color = green>image</font> of chewing gum decimating the shoes of the populace (a money-making idea for <font color = green>Felix's</font> near-bankrupt shoe-=salesman boss) cannot be described--it must be viewed. <font color = green>A</font> terrific <font color = green>cultural</font> gem.<br><font color = red>una</font> <font color = red>gm</font> of a cartoon from the silent era---it was re-discovered by CARTOON NETWORK, and was broadcast for likely the first time in decades, if ever.<<font color = red>Ьr</font> /><br />What makes this so <font color = red>enoyable</font> are the <font color = red>varіed</font> <font color = red>cameоs</font>...Douglas Fairbanks is attacked by <font color = red>jumbo</font> <font color = red>mоsquitos</font>; Will Hays pays a visit as 'boss' of Static Studios; as well as appearances by <font color = red>Hepburn</font>, <font color = red>Walken</font>, and William <font color = red>seconds</font>. Hart. <font color = red>Tհe</font> <font color = red>іmage</font> of chewing gum decimating the shoes of the populace (a money-making idea for <font color = red>Felx's</font> near-bankrupt shoe-=salesman boss) cannot be described--it must be viewed. <font color = red>by</font> terrific <font color = red>culturally</font> gem."
            ],
            "text/plain": [
              "<IPython.core.display.HTML object>"
            ]
          },
          "metadata": {
            "tags": []
          }
        },
        {
          "output_type": "stream",
          "text": [
            "[Succeeded / Failed / Total] 23 / 0 / 25: 100%|██████████| 25/25 [07:24<00:00, 17.76s/it]"
          ],
          "name": "stderr"
        },
        {
          "output_type": "display_data",
          "data": {
            "text/html": [
              "<font color = green>Positive (100%)</font> --> <font color = red>[FAILED]</font><br>This short is one of the best of all time and is proof (just like most of Charlie Chaplin's work) that sound and color are not requirements for quality work. In fact, this cartoon uses (and may have started) some of the gags and devices that became standard in animation in later years, like caricatures of celebrities (including the afore-mentioned Chaplin. While the characters are silent, they do \"speak\", by use of word balloons, just like in the comics. Given that Felix started out in newspapers as a comic strip, this device is a natural. The atmosphere and style of the short is completely harmonious with that of the comic strip while adding another dimension (literally and figuratively) and makes this short a delight to watch. Well worth taking the time and effort to get. Most highly recommended."
            ],
            "text/plain": [
              "<IPython.core.display.HTML object>"
            ]
          },
          "metadata": {
            "tags": []
          }
        },
        {
          "output_type": "stream",
          "text": [
            "[Succeeded / Failed / Total] 23 / 1 / 26: : 26it [08:00, 18.49s/it]"
          ],
          "name": "stderr"
        },
        {
          "output_type": "display_data",
          "data": {
            "text/html": [
              "<font color = red>Negative (70%)</font> --> <font color = gray>[SKIPPED]</font><br>Felix is watching an actor rehearse his lines: \"A ham, A ham! My kingdom for a ham sandwich!!!\" The dramatic guy that tells Felix he'll \"have to sacrifice my art and go into the movies.\" He's in tears. Felix just looks at him like he's nuts, and shrugs his shoulders. The old guy tells Felix to \"go ye forth\" and find money to finance a trip to Hollywood. Felix thinks, \"How does he expect me to get the money?\"<br /><br />In minutes, of course (this is a cartoon), he spots a shoe business owner putting up a \"bankrupt\" sale on his store. Felix comes up with a plan to bail him out and the man promises the cat $500 if it works.<br /><br />Well, it does but the man wants to go alone and leave Felix at home. In an outrageous scene, Felix transforms himself into a briefcase and that's how he gets to Hollywood, transforming himself back to cat when they get there.<br /><br />We then witness Felix's attempts at getting into show business. His audition scenes are very funny, especially with his imitation of Charlie Chaplin. In addition there are caricatures of some famous silent film stars and executives. In all, quite a bit of material is in this 9.5- minute cartoon. It's amazing how much more you can get in an extra 2.5 minutes, assuming most animated shorts are seven minutes in length.<br /><br />At any rate, there were a number of laughs in here and more zany things you could only see in a cartoon, like Felix have a sword duel with giant mosquitoes! Crazy stuff."
            ],
            "text/plain": [
              "<IPython.core.display.HTML object>"
            ]
          },
          "metadata": {
            "tags": []
          }
        },
        {
          "output_type": "stream",
          "text": [
            "\r[Succeeded / Failed / Total] 23 / 1 / 27: : 27it [08:00, 17.81s/it]"
          ],
          "name": "stderr"
        },
        {
          "output_type": "display_data",
          "data": {
            "text/html": [
              "<font color = green>Positive (98%)</font> --> <font color = red>Negative (81%)</font><br>While I can't say whether or not Larry Hama ever saw any of the old cartoons, I would think that writing said cartoons, file cards, and some of the comics would count for something.<br /><br />For fans of the old cartoon, this is pretty much a continuation of the same, except with a few new characters - and a more insane Cobra Commander.<br /><br />We still have all the old favorites too, but on a personal note, one thing that always irritated me was this \"Duke in charge\" stuff, when there are tons of other *officers* around instead.<br /><br />The battle sequences are similar to the old series as well; the main trick here seems to be the CGI. It's overall pretty <font color = green>good</font>, if not a little over-the-top.<br>While I can't say whether or not Larry Hama ever saw any of the old cartoons, I would think that writing said cartoons, file cards, and some of the comics would count for something.<br /><br />For fans of the old cartoon, this is pretty much a continuation of the same, except with a few new characters - and a more insane Cobra Commander.<br /><br />We still have all the old favorites too, but on a personal note, one thing that always irritated me was this \"Duke in charge\" stuff, when there are tons of other *officers* around instead.<br /><br />The battle sequences are similar to the old series as well; the main trick here seems to be the CGI. It's overall pretty <font color = red>ɡood</font>, if not a little over-the-top."
            ],
            "text/plain": [
              "<IPython.core.display.HTML object>"
            ]
          },
          "metadata": {
            "tags": []
          }
        },
        {
          "output_type": "stream",
          "text": [
            "[Succeeded / Failed / Total] 24 / 1 / 28: : 28it [08:06, 17.36s/it]"
          ],
          "name": "stderr"
        },
        {
          "output_type": "stream",
          "text": [
            "+-------------------------------+--------+\n",
            "| Attack Results                |        |\n",
            "+-------------------------------+--------+\n",
            "| Number of successful attacks: | 24     |\n",
            "| Number of failed attacks:     | 1      |\n",
            "| Number of skipped attacks:    | 3      |\n",
            "| Original accuracy:            | 89.29% |\n",
            "| Accuracy under attack:        | 3.57%  |\n",
            "| Attack success rate:          | 96.0%  |\n",
            "| Average perturbed word %:     | 27.25% |\n",
            "| Average num. words per input: | 244.71 |\n",
            "| Avg num queries:              | 490.64 |\n",
            "+-------------------------------+--------+"
          ],
          "name": "stdout"
        },
        {
          "output_type": "stream",
          "text": [
            "\n",
            "\u001b[34;1mtextattack\u001b[0m: Attack time: 486.14418745040894s\n"
          ],
          "name": "stderr"
        }
      ]
    },
    {
      "cell_type": "code",
      "metadata": {
        "id": "Zhke_Pl-dOa5"
      },
      "source": [
        ""
      ],
      "execution_count": null,
      "outputs": []
    }
  ]
}