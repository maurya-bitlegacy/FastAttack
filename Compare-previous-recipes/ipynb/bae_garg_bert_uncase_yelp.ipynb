{
  "nbformat": 4,
  "nbformat_minor": 0,
  "metadata": {
    "colab": {
      "name": "bae_garg",
      "provenance": [],
      "collapsed_sections": []
    },
    "kernelspec": {
      "name": "python3",
      "display_name": "Python 3"
    },
    "language_info": {
      "name": "python"
    },
    "accelerator": "GPU",
    "widgets": {
      "application/vnd.jupyter.widget-state+json": {
        "4e5edd71d0cd4947baf89e2927ede282": {
          "model_module": "@jupyter-widgets/controls",
          "model_name": "HBoxModel",
          "state": {
            "_view_name": "HBoxView",
            "_dom_classes": [],
            "_model_name": "HBoxModel",
            "_view_module": "@jupyter-widgets/controls",
            "_model_module_version": "1.5.0",
            "_view_count": null,
            "_view_module_version": "1.5.0",
            "box_style": "",
            "layout": "IPY_MODEL_66062303f606482dbce5abaa77caada4",
            "_model_module": "@jupyter-widgets/controls",
            "children": [
              "IPY_MODEL_a5144b348e664ba4b04955edcfcc8714",
              "IPY_MODEL_3d777eba31cf4656968bc86d83de4624"
            ]
          }
        },
        "66062303f606482dbce5abaa77caada4": {
          "model_module": "@jupyter-widgets/base",
          "model_name": "LayoutModel",
          "state": {
            "_view_name": "LayoutView",
            "grid_template_rows": null,
            "right": null,
            "justify_content": null,
            "_view_module": "@jupyter-widgets/base",
            "overflow": null,
            "_model_module_version": "1.2.0",
            "_view_count": null,
            "flex_flow": null,
            "width": null,
            "min_width": null,
            "border": null,
            "align_items": null,
            "bottom": null,
            "_model_module": "@jupyter-widgets/base",
            "top": null,
            "grid_column": null,
            "overflow_y": null,
            "overflow_x": null,
            "grid_auto_flow": null,
            "grid_area": null,
            "grid_template_columns": null,
            "flex": null,
            "_model_name": "LayoutModel",
            "justify_items": null,
            "grid_row": null,
            "max_height": null,
            "align_content": null,
            "visibility": null,
            "align_self": null,
            "height": null,
            "min_height": null,
            "padding": null,
            "grid_auto_rows": null,
            "grid_gap": null,
            "max_width": null,
            "order": null,
            "_view_module_version": "1.2.0",
            "grid_template_areas": null,
            "object_position": null,
            "object_fit": null,
            "grid_auto_columns": null,
            "margin": null,
            "display": null,
            "left": null
          }
        },
        "a5144b348e664ba4b04955edcfcc8714": {
          "model_module": "@jupyter-widgets/controls",
          "model_name": "FloatProgressModel",
          "state": {
            "_view_name": "ProgressView",
            "style": "IPY_MODEL_fe090a2a95354b51819f2b0d4ae56c96",
            "_dom_classes": [],
            "description": "Downloading: 100%",
            "_model_name": "FloatProgressModel",
            "bar_style": "success",
            "max": 520,
            "_view_module": "@jupyter-widgets/controls",
            "_model_module_version": "1.5.0",
            "value": 520,
            "_view_count": null,
            "_view_module_version": "1.5.0",
            "orientation": "horizontal",
            "min": 0,
            "description_tooltip": null,
            "_model_module": "@jupyter-widgets/controls",
            "layout": "IPY_MODEL_b44a09858e014663b6fff7675afe1e67"
          }
        },
        "3d777eba31cf4656968bc86d83de4624": {
          "model_module": "@jupyter-widgets/controls",
          "model_name": "HTMLModel",
          "state": {
            "_view_name": "HTMLView",
            "style": "IPY_MODEL_f63d7ca99b724b9dbe26026968e2b02d",
            "_dom_classes": [],
            "description": "",
            "_model_name": "HTMLModel",
            "placeholder": "​",
            "_view_module": "@jupyter-widgets/controls",
            "_model_module_version": "1.5.0",
            "value": " 520/520 [00:00&lt;00:00, 9.68kB/s]",
            "_view_count": null,
            "_view_module_version": "1.5.0",
            "description_tooltip": null,
            "_model_module": "@jupyter-widgets/controls",
            "layout": "IPY_MODEL_9907832cc48448e78ed5fe6b9517fb87"
          }
        },
        "fe090a2a95354b51819f2b0d4ae56c96": {
          "model_module": "@jupyter-widgets/controls",
          "model_name": "ProgressStyleModel",
          "state": {
            "_view_name": "StyleView",
            "_model_name": "ProgressStyleModel",
            "description_width": "initial",
            "_view_module": "@jupyter-widgets/base",
            "_model_module_version": "1.5.0",
            "_view_count": null,
            "_view_module_version": "1.2.0",
            "bar_color": null,
            "_model_module": "@jupyter-widgets/controls"
          }
        },
        "b44a09858e014663b6fff7675afe1e67": {
          "model_module": "@jupyter-widgets/base",
          "model_name": "LayoutModel",
          "state": {
            "_view_name": "LayoutView",
            "grid_template_rows": null,
            "right": null,
            "justify_content": null,
            "_view_module": "@jupyter-widgets/base",
            "overflow": null,
            "_model_module_version": "1.2.0",
            "_view_count": null,
            "flex_flow": null,
            "width": null,
            "min_width": null,
            "border": null,
            "align_items": null,
            "bottom": null,
            "_model_module": "@jupyter-widgets/base",
            "top": null,
            "grid_column": null,
            "overflow_y": null,
            "overflow_x": null,
            "grid_auto_flow": null,
            "grid_area": null,
            "grid_template_columns": null,
            "flex": null,
            "_model_name": "LayoutModel",
            "justify_items": null,
            "grid_row": null,
            "max_height": null,
            "align_content": null,
            "visibility": null,
            "align_self": null,
            "height": null,
            "min_height": null,
            "padding": null,
            "grid_auto_rows": null,
            "grid_gap": null,
            "max_width": null,
            "order": null,
            "_view_module_version": "1.2.0",
            "grid_template_areas": null,
            "object_position": null,
            "object_fit": null,
            "grid_auto_columns": null,
            "margin": null,
            "display": null,
            "left": null
          }
        },
        "f63d7ca99b724b9dbe26026968e2b02d": {
          "model_module": "@jupyter-widgets/controls",
          "model_name": "DescriptionStyleModel",
          "state": {
            "_view_name": "StyleView",
            "_model_name": "DescriptionStyleModel",
            "description_width": "",
            "_view_module": "@jupyter-widgets/base",
            "_model_module_version": "1.5.0",
            "_view_count": null,
            "_view_module_version": "1.2.0",
            "_model_module": "@jupyter-widgets/controls"
          }
        },
        "9907832cc48448e78ed5fe6b9517fb87": {
          "model_module": "@jupyter-widgets/base",
          "model_name": "LayoutModel",
          "state": {
            "_view_name": "LayoutView",
            "grid_template_rows": null,
            "right": null,
            "justify_content": null,
            "_view_module": "@jupyter-widgets/base",
            "overflow": null,
            "_model_module_version": "1.2.0",
            "_view_count": null,
            "flex_flow": null,
            "width": null,
            "min_width": null,
            "border": null,
            "align_items": null,
            "bottom": null,
            "_model_module": "@jupyter-widgets/base",
            "top": null,
            "grid_column": null,
            "overflow_y": null,
            "overflow_x": null,
            "grid_auto_flow": null,
            "grid_area": null,
            "grid_template_columns": null,
            "flex": null,
            "_model_name": "LayoutModel",
            "justify_items": null,
            "grid_row": null,
            "max_height": null,
            "align_content": null,
            "visibility": null,
            "align_self": null,
            "height": null,
            "min_height": null,
            "padding": null,
            "grid_auto_rows": null,
            "grid_gap": null,
            "max_width": null,
            "order": null,
            "_view_module_version": "1.2.0",
            "grid_template_areas": null,
            "object_position": null,
            "object_fit": null,
            "grid_auto_columns": null,
            "margin": null,
            "display": null,
            "left": null
          }
        },
        "bf84e1daee944dd5b76021e204a19d20": {
          "model_module": "@jupyter-widgets/controls",
          "model_name": "HBoxModel",
          "state": {
            "_view_name": "HBoxView",
            "_dom_classes": [],
            "_model_name": "HBoxModel",
            "_view_module": "@jupyter-widgets/controls",
            "_model_module_version": "1.5.0",
            "_view_count": null,
            "_view_module_version": "1.5.0",
            "box_style": "",
            "layout": "IPY_MODEL_9ef456e3dec14e458d1955096a9ca114",
            "_model_module": "@jupyter-widgets/controls",
            "children": [
              "IPY_MODEL_349b6c930a2d4f2097b57865fb14a373",
              "IPY_MODEL_099365c40f654c6b960ed738cb0a2b95"
            ]
          }
        },
        "9ef456e3dec14e458d1955096a9ca114": {
          "model_module": "@jupyter-widgets/base",
          "model_name": "LayoutModel",
          "state": {
            "_view_name": "LayoutView",
            "grid_template_rows": null,
            "right": null,
            "justify_content": null,
            "_view_module": "@jupyter-widgets/base",
            "overflow": null,
            "_model_module_version": "1.2.0",
            "_view_count": null,
            "flex_flow": null,
            "width": null,
            "min_width": null,
            "border": null,
            "align_items": null,
            "bottom": null,
            "_model_module": "@jupyter-widgets/base",
            "top": null,
            "grid_column": null,
            "overflow_y": null,
            "overflow_x": null,
            "grid_auto_flow": null,
            "grid_area": null,
            "grid_template_columns": null,
            "flex": null,
            "_model_name": "LayoutModel",
            "justify_items": null,
            "grid_row": null,
            "max_height": null,
            "align_content": null,
            "visibility": null,
            "align_self": null,
            "height": null,
            "min_height": null,
            "padding": null,
            "grid_auto_rows": null,
            "grid_gap": null,
            "max_width": null,
            "order": null,
            "_view_module_version": "1.2.0",
            "grid_template_areas": null,
            "object_position": null,
            "object_fit": null,
            "grid_auto_columns": null,
            "margin": null,
            "display": null,
            "left": null
          }
        },
        "349b6c930a2d4f2097b57865fb14a373": {
          "model_module": "@jupyter-widgets/controls",
          "model_name": "FloatProgressModel",
          "state": {
            "_view_name": "ProgressView",
            "style": "IPY_MODEL_d5132d6f0af24e7ebfe14050dacdc4aa",
            "_dom_classes": [],
            "description": "Downloading: 100%",
            "_model_name": "FloatProgressModel",
            "bar_style": "success",
            "max": 437985387,
            "_view_module": "@jupyter-widgets/controls",
            "_model_module_version": "1.5.0",
            "value": 437985387,
            "_view_count": null,
            "_view_module_version": "1.5.0",
            "orientation": "horizontal",
            "min": 0,
            "description_tooltip": null,
            "_model_module": "@jupyter-widgets/controls",
            "layout": "IPY_MODEL_315d3326933f436aa8f2065578704020"
          }
        },
        "099365c40f654c6b960ed738cb0a2b95": {
          "model_module": "@jupyter-widgets/controls",
          "model_name": "HTMLModel",
          "state": {
            "_view_name": "HTMLView",
            "style": "IPY_MODEL_e410a5787eb343cab41c46d2d6f8e75c",
            "_dom_classes": [],
            "description": "",
            "_model_name": "HTMLModel",
            "placeholder": "​",
            "_view_module": "@jupyter-widgets/controls",
            "_model_module_version": "1.5.0",
            "value": " 438M/438M [00:12&lt;00:00, 34.8MB/s]",
            "_view_count": null,
            "_view_module_version": "1.5.0",
            "description_tooltip": null,
            "_model_module": "@jupyter-widgets/controls",
            "layout": "IPY_MODEL_497a1e3158684524bffc61692937483b"
          }
        },
        "d5132d6f0af24e7ebfe14050dacdc4aa": {
          "model_module": "@jupyter-widgets/controls",
          "model_name": "ProgressStyleModel",
          "state": {
            "_view_name": "StyleView",
            "_model_name": "ProgressStyleModel",
            "description_width": "initial",
            "_view_module": "@jupyter-widgets/base",
            "_model_module_version": "1.5.0",
            "_view_count": null,
            "_view_module_version": "1.2.0",
            "bar_color": null,
            "_model_module": "@jupyter-widgets/controls"
          }
        },
        "315d3326933f436aa8f2065578704020": {
          "model_module": "@jupyter-widgets/base",
          "model_name": "LayoutModel",
          "state": {
            "_view_name": "LayoutView",
            "grid_template_rows": null,
            "right": null,
            "justify_content": null,
            "_view_module": "@jupyter-widgets/base",
            "overflow": null,
            "_model_module_version": "1.2.0",
            "_view_count": null,
            "flex_flow": null,
            "width": null,
            "min_width": null,
            "border": null,
            "align_items": null,
            "bottom": null,
            "_model_module": "@jupyter-widgets/base",
            "top": null,
            "grid_column": null,
            "overflow_y": null,
            "overflow_x": null,
            "grid_auto_flow": null,
            "grid_area": null,
            "grid_template_columns": null,
            "flex": null,
            "_model_name": "LayoutModel",
            "justify_items": null,
            "grid_row": null,
            "max_height": null,
            "align_content": null,
            "visibility": null,
            "align_self": null,
            "height": null,
            "min_height": null,
            "padding": null,
            "grid_auto_rows": null,
            "grid_gap": null,
            "max_width": null,
            "order": null,
            "_view_module_version": "1.2.0",
            "grid_template_areas": null,
            "object_position": null,
            "object_fit": null,
            "grid_auto_columns": null,
            "margin": null,
            "display": null,
            "left": null
          }
        },
        "e410a5787eb343cab41c46d2d6f8e75c": {
          "model_module": "@jupyter-widgets/controls",
          "model_name": "DescriptionStyleModel",
          "state": {
            "_view_name": "StyleView",
            "_model_name": "DescriptionStyleModel",
            "description_width": "",
            "_view_module": "@jupyter-widgets/base",
            "_model_module_version": "1.5.0",
            "_view_count": null,
            "_view_module_version": "1.2.0",
            "_model_module": "@jupyter-widgets/controls"
          }
        },
        "497a1e3158684524bffc61692937483b": {
          "model_module": "@jupyter-widgets/base",
          "model_name": "LayoutModel",
          "state": {
            "_view_name": "LayoutView",
            "grid_template_rows": null,
            "right": null,
            "justify_content": null,
            "_view_module": "@jupyter-widgets/base",
            "overflow": null,
            "_model_module_version": "1.2.0",
            "_view_count": null,
            "flex_flow": null,
            "width": null,
            "min_width": null,
            "border": null,
            "align_items": null,
            "bottom": null,
            "_model_module": "@jupyter-widgets/base",
            "top": null,
            "grid_column": null,
            "overflow_y": null,
            "overflow_x": null,
            "grid_auto_flow": null,
            "grid_area": null,
            "grid_template_columns": null,
            "flex": null,
            "_model_name": "LayoutModel",
            "justify_items": null,
            "grid_row": null,
            "max_height": null,
            "align_content": null,
            "visibility": null,
            "align_self": null,
            "height": null,
            "min_height": null,
            "padding": null,
            "grid_auto_rows": null,
            "grid_gap": null,
            "max_width": null,
            "order": null,
            "_view_module_version": "1.2.0",
            "grid_template_areas": null,
            "object_position": null,
            "object_fit": null,
            "grid_auto_columns": null,
            "margin": null,
            "display": null,
            "left": null
          }
        },
        "fb28d4c299a44c599884592affd7a809": {
          "model_module": "@jupyter-widgets/controls",
          "model_name": "HBoxModel",
          "state": {
            "_view_name": "HBoxView",
            "_dom_classes": [],
            "_model_name": "HBoxModel",
            "_view_module": "@jupyter-widgets/controls",
            "_model_module_version": "1.5.0",
            "_view_count": null,
            "_view_module_version": "1.5.0",
            "box_style": "",
            "layout": "IPY_MODEL_98ca3bee67db4377862988861f3ab42d",
            "_model_module": "@jupyter-widgets/controls",
            "children": [
              "IPY_MODEL_c791ad791f2149328feb511d3b7bf48f",
              "IPY_MODEL_a7809ba31f2d4c0dac4db2be3566bf70"
            ]
          }
        },
        "98ca3bee67db4377862988861f3ab42d": {
          "model_module": "@jupyter-widgets/base",
          "model_name": "LayoutModel",
          "state": {
            "_view_name": "LayoutView",
            "grid_template_rows": null,
            "right": null,
            "justify_content": null,
            "_view_module": "@jupyter-widgets/base",
            "overflow": null,
            "_model_module_version": "1.2.0",
            "_view_count": null,
            "flex_flow": null,
            "width": null,
            "min_width": null,
            "border": null,
            "align_items": null,
            "bottom": null,
            "_model_module": "@jupyter-widgets/base",
            "top": null,
            "grid_column": null,
            "overflow_y": null,
            "overflow_x": null,
            "grid_auto_flow": null,
            "grid_area": null,
            "grid_template_columns": null,
            "flex": null,
            "_model_name": "LayoutModel",
            "justify_items": null,
            "grid_row": null,
            "max_height": null,
            "align_content": null,
            "visibility": null,
            "align_self": null,
            "height": null,
            "min_height": null,
            "padding": null,
            "grid_auto_rows": null,
            "grid_gap": null,
            "max_width": null,
            "order": null,
            "_view_module_version": "1.2.0",
            "grid_template_areas": null,
            "object_position": null,
            "object_fit": null,
            "grid_auto_columns": null,
            "margin": null,
            "display": null,
            "left": null
          }
        },
        "c791ad791f2149328feb511d3b7bf48f": {
          "model_module": "@jupyter-widgets/controls",
          "model_name": "FloatProgressModel",
          "state": {
            "_view_name": "ProgressView",
            "style": "IPY_MODEL_9e530ef0c8a94fa3a2be4177712ddd35",
            "_dom_classes": [],
            "description": "Downloading: 100%",
            "_model_name": "FloatProgressModel",
            "bar_style": "success",
            "max": 231508,
            "_view_module": "@jupyter-widgets/controls",
            "_model_module_version": "1.5.0",
            "value": 231508,
            "_view_count": null,
            "_view_module_version": "1.5.0",
            "orientation": "horizontal",
            "min": 0,
            "description_tooltip": null,
            "_model_module": "@jupyter-widgets/controls",
            "layout": "IPY_MODEL_d5660e35429342fd9d4958ed8fad6794"
          }
        },
        "a7809ba31f2d4c0dac4db2be3566bf70": {
          "model_module": "@jupyter-widgets/controls",
          "model_name": "HTMLModel",
          "state": {
            "_view_name": "HTMLView",
            "style": "IPY_MODEL_a78e7df5f257407d9eb4cc55c7a8b886",
            "_dom_classes": [],
            "description": "",
            "_model_name": "HTMLModel",
            "placeholder": "​",
            "_view_module": "@jupyter-widgets/controls",
            "_model_module_version": "1.5.0",
            "value": " 232k/232k [00:02&lt;00:00, 97.3kB/s]",
            "_view_count": null,
            "_view_module_version": "1.5.0",
            "description_tooltip": null,
            "_model_module": "@jupyter-widgets/controls",
            "layout": "IPY_MODEL_ee4b80a80c2c46678b273abc1ccf5251"
          }
        },
        "9e530ef0c8a94fa3a2be4177712ddd35": {
          "model_module": "@jupyter-widgets/controls",
          "model_name": "ProgressStyleModel",
          "state": {
            "_view_name": "StyleView",
            "_model_name": "ProgressStyleModel",
            "description_width": "initial",
            "_view_module": "@jupyter-widgets/base",
            "_model_module_version": "1.5.0",
            "_view_count": null,
            "_view_module_version": "1.2.0",
            "bar_color": null,
            "_model_module": "@jupyter-widgets/controls"
          }
        },
        "d5660e35429342fd9d4958ed8fad6794": {
          "model_module": "@jupyter-widgets/base",
          "model_name": "LayoutModel",
          "state": {
            "_view_name": "LayoutView",
            "grid_template_rows": null,
            "right": null,
            "justify_content": null,
            "_view_module": "@jupyter-widgets/base",
            "overflow": null,
            "_model_module_version": "1.2.0",
            "_view_count": null,
            "flex_flow": null,
            "width": null,
            "min_width": null,
            "border": null,
            "align_items": null,
            "bottom": null,
            "_model_module": "@jupyter-widgets/base",
            "top": null,
            "grid_column": null,
            "overflow_y": null,
            "overflow_x": null,
            "grid_auto_flow": null,
            "grid_area": null,
            "grid_template_columns": null,
            "flex": null,
            "_model_name": "LayoutModel",
            "justify_items": null,
            "grid_row": null,
            "max_height": null,
            "align_content": null,
            "visibility": null,
            "align_self": null,
            "height": null,
            "min_height": null,
            "padding": null,
            "grid_auto_rows": null,
            "grid_gap": null,
            "max_width": null,
            "order": null,
            "_view_module_version": "1.2.0",
            "grid_template_areas": null,
            "object_position": null,
            "object_fit": null,
            "grid_auto_columns": null,
            "margin": null,
            "display": null,
            "left": null
          }
        },
        "a78e7df5f257407d9eb4cc55c7a8b886": {
          "model_module": "@jupyter-widgets/controls",
          "model_name": "DescriptionStyleModel",
          "state": {
            "_view_name": "StyleView",
            "_model_name": "DescriptionStyleModel",
            "description_width": "",
            "_view_module": "@jupyter-widgets/base",
            "_model_module_version": "1.5.0",
            "_view_count": null,
            "_view_module_version": "1.2.0",
            "_model_module": "@jupyter-widgets/controls"
          }
        },
        "ee4b80a80c2c46678b273abc1ccf5251": {
          "model_module": "@jupyter-widgets/base",
          "model_name": "LayoutModel",
          "state": {
            "_view_name": "LayoutView",
            "grid_template_rows": null,
            "right": null,
            "justify_content": null,
            "_view_module": "@jupyter-widgets/base",
            "overflow": null,
            "_model_module_version": "1.2.0",
            "_view_count": null,
            "flex_flow": null,
            "width": null,
            "min_width": null,
            "border": null,
            "align_items": null,
            "bottom": null,
            "_model_module": "@jupyter-widgets/base",
            "top": null,
            "grid_column": null,
            "overflow_y": null,
            "overflow_x": null,
            "grid_auto_flow": null,
            "grid_area": null,
            "grid_template_columns": null,
            "flex": null,
            "_model_name": "LayoutModel",
            "justify_items": null,
            "grid_row": null,
            "max_height": null,
            "align_content": null,
            "visibility": null,
            "align_self": null,
            "height": null,
            "min_height": null,
            "padding": null,
            "grid_auto_rows": null,
            "grid_gap": null,
            "max_width": null,
            "order": null,
            "_view_module_version": "1.2.0",
            "grid_template_areas": null,
            "object_position": null,
            "object_fit": null,
            "grid_auto_columns": null,
            "margin": null,
            "display": null,
            "left": null
          }
        },
        "23a5926daa904d61844b6ef432ff40ce": {
          "model_module": "@jupyter-widgets/controls",
          "model_name": "HBoxModel",
          "state": {
            "_view_name": "HBoxView",
            "_dom_classes": [],
            "_model_name": "HBoxModel",
            "_view_module": "@jupyter-widgets/controls",
            "_model_module_version": "1.5.0",
            "_view_count": null,
            "_view_module_version": "1.5.0",
            "box_style": "",
            "layout": "IPY_MODEL_d7767d620b66401f97af833ef6f66577",
            "_model_module": "@jupyter-widgets/controls",
            "children": [
              "IPY_MODEL_97923a3318fc4cb5bad37026de757e7d",
              "IPY_MODEL_470ac2eb556844c589b14fd99e9f3e20"
            ]
          }
        },
        "d7767d620b66401f97af833ef6f66577": {
          "model_module": "@jupyter-widgets/base",
          "model_name": "LayoutModel",
          "state": {
            "_view_name": "LayoutView",
            "grid_template_rows": null,
            "right": null,
            "justify_content": null,
            "_view_module": "@jupyter-widgets/base",
            "overflow": null,
            "_model_module_version": "1.2.0",
            "_view_count": null,
            "flex_flow": null,
            "width": null,
            "min_width": null,
            "border": null,
            "align_items": null,
            "bottom": null,
            "_model_module": "@jupyter-widgets/base",
            "top": null,
            "grid_column": null,
            "overflow_y": null,
            "overflow_x": null,
            "grid_auto_flow": null,
            "grid_area": null,
            "grid_template_columns": null,
            "flex": null,
            "_model_name": "LayoutModel",
            "justify_items": null,
            "grid_row": null,
            "max_height": null,
            "align_content": null,
            "visibility": null,
            "align_self": null,
            "height": null,
            "min_height": null,
            "padding": null,
            "grid_auto_rows": null,
            "grid_gap": null,
            "max_width": null,
            "order": null,
            "_view_module_version": "1.2.0",
            "grid_template_areas": null,
            "object_position": null,
            "object_fit": null,
            "grid_auto_columns": null,
            "margin": null,
            "display": null,
            "left": null
          }
        },
        "97923a3318fc4cb5bad37026de757e7d": {
          "model_module": "@jupyter-widgets/controls",
          "model_name": "FloatProgressModel",
          "state": {
            "_view_name": "ProgressView",
            "style": "IPY_MODEL_7e6042d5fbd642d984606240cb07667f",
            "_dom_classes": [],
            "description": "Downloading: 100%",
            "_model_name": "FloatProgressModel",
            "bar_style": "success",
            "max": 112,
            "_view_module": "@jupyter-widgets/controls",
            "_model_module_version": "1.5.0",
            "value": 112,
            "_view_count": null,
            "_view_module_version": "1.5.0",
            "orientation": "horizontal",
            "min": 0,
            "description_tooltip": null,
            "_model_module": "@jupyter-widgets/controls",
            "layout": "IPY_MODEL_722336cc598c4e11a1aa0e9bf6be0fac"
          }
        },
        "470ac2eb556844c589b14fd99e9f3e20": {
          "model_module": "@jupyter-widgets/controls",
          "model_name": "HTMLModel",
          "state": {
            "_view_name": "HTMLView",
            "style": "IPY_MODEL_7f713cecda194e98ae395e28fa593532",
            "_dom_classes": [],
            "description": "",
            "_model_name": "HTMLModel",
            "placeholder": "​",
            "_view_module": "@jupyter-widgets/controls",
            "_model_module_version": "1.5.0",
            "value": " 112/112 [00:01&lt;00:00, 89.0B/s]",
            "_view_count": null,
            "_view_module_version": "1.5.0",
            "description_tooltip": null,
            "_model_module": "@jupyter-widgets/controls",
            "layout": "IPY_MODEL_258b96338acc4624a96263310064b9c3"
          }
        },
        "7e6042d5fbd642d984606240cb07667f": {
          "model_module": "@jupyter-widgets/controls",
          "model_name": "ProgressStyleModel",
          "state": {
            "_view_name": "StyleView",
            "_model_name": "ProgressStyleModel",
            "description_width": "initial",
            "_view_module": "@jupyter-widgets/base",
            "_model_module_version": "1.5.0",
            "_view_count": null,
            "_view_module_version": "1.2.0",
            "bar_color": null,
            "_model_module": "@jupyter-widgets/controls"
          }
        },
        "722336cc598c4e11a1aa0e9bf6be0fac": {
          "model_module": "@jupyter-widgets/base",
          "model_name": "LayoutModel",
          "state": {
            "_view_name": "LayoutView",
            "grid_template_rows": null,
            "right": null,
            "justify_content": null,
            "_view_module": "@jupyter-widgets/base",
            "overflow": null,
            "_model_module_version": "1.2.0",
            "_view_count": null,
            "flex_flow": null,
            "width": null,
            "min_width": null,
            "border": null,
            "align_items": null,
            "bottom": null,
            "_model_module": "@jupyter-widgets/base",
            "top": null,
            "grid_column": null,
            "overflow_y": null,
            "overflow_x": null,
            "grid_auto_flow": null,
            "grid_area": null,
            "grid_template_columns": null,
            "flex": null,
            "_model_name": "LayoutModel",
            "justify_items": null,
            "grid_row": null,
            "max_height": null,
            "align_content": null,
            "visibility": null,
            "align_self": null,
            "height": null,
            "min_height": null,
            "padding": null,
            "grid_auto_rows": null,
            "grid_gap": null,
            "max_width": null,
            "order": null,
            "_view_module_version": "1.2.0",
            "grid_template_areas": null,
            "object_position": null,
            "object_fit": null,
            "grid_auto_columns": null,
            "margin": null,
            "display": null,
            "left": null
          }
        },
        "7f713cecda194e98ae395e28fa593532": {
          "model_module": "@jupyter-widgets/controls",
          "model_name": "DescriptionStyleModel",
          "state": {
            "_view_name": "StyleView",
            "_model_name": "DescriptionStyleModel",
            "description_width": "",
            "_view_module": "@jupyter-widgets/base",
            "_model_module_version": "1.5.0",
            "_view_count": null,
            "_view_module_version": "1.2.0",
            "_model_module": "@jupyter-widgets/controls"
          }
        },
        "258b96338acc4624a96263310064b9c3": {
          "model_module": "@jupyter-widgets/base",
          "model_name": "LayoutModel",
          "state": {
            "_view_name": "LayoutView",
            "grid_template_rows": null,
            "right": null,
            "justify_content": null,
            "_view_module": "@jupyter-widgets/base",
            "overflow": null,
            "_model_module_version": "1.2.0",
            "_view_count": null,
            "flex_flow": null,
            "width": null,
            "min_width": null,
            "border": null,
            "align_items": null,
            "bottom": null,
            "_model_module": "@jupyter-widgets/base",
            "top": null,
            "grid_column": null,
            "overflow_y": null,
            "overflow_x": null,
            "grid_auto_flow": null,
            "grid_area": null,
            "grid_template_columns": null,
            "flex": null,
            "_model_name": "LayoutModel",
            "justify_items": null,
            "grid_row": null,
            "max_height": null,
            "align_content": null,
            "visibility": null,
            "align_self": null,
            "height": null,
            "min_height": null,
            "padding": null,
            "grid_auto_rows": null,
            "grid_gap": null,
            "max_width": null,
            "order": null,
            "_view_module_version": "1.2.0",
            "grid_template_areas": null,
            "object_position": null,
            "object_fit": null,
            "grid_auto_columns": null,
            "margin": null,
            "display": null,
            "left": null
          }
        },
        "c736873b32634e88b26c5612902a0957": {
          "model_module": "@jupyter-widgets/controls",
          "model_name": "HBoxModel",
          "state": {
            "_view_name": "HBoxView",
            "_dom_classes": [],
            "_model_name": "HBoxModel",
            "_view_module": "@jupyter-widgets/controls",
            "_model_module_version": "1.5.0",
            "_view_count": null,
            "_view_module_version": "1.5.0",
            "box_style": "",
            "layout": "IPY_MODEL_ce763580e92546fa9a3356be3d6946d6",
            "_model_module": "@jupyter-widgets/controls",
            "children": [
              "IPY_MODEL_eed370877c5c4bbe8b05081e63d05653",
              "IPY_MODEL_6979d8ad3d794797909f824d1aa2af88"
            ]
          }
        },
        "ce763580e92546fa9a3356be3d6946d6": {
          "model_module": "@jupyter-widgets/base",
          "model_name": "LayoutModel",
          "state": {
            "_view_name": "LayoutView",
            "grid_template_rows": null,
            "right": null,
            "justify_content": null,
            "_view_module": "@jupyter-widgets/base",
            "overflow": null,
            "_model_module_version": "1.2.0",
            "_view_count": null,
            "flex_flow": null,
            "width": null,
            "min_width": null,
            "border": null,
            "align_items": null,
            "bottom": null,
            "_model_module": "@jupyter-widgets/base",
            "top": null,
            "grid_column": null,
            "overflow_y": null,
            "overflow_x": null,
            "grid_auto_flow": null,
            "grid_area": null,
            "grid_template_columns": null,
            "flex": null,
            "_model_name": "LayoutModel",
            "justify_items": null,
            "grid_row": null,
            "max_height": null,
            "align_content": null,
            "visibility": null,
            "align_self": null,
            "height": null,
            "min_height": null,
            "padding": null,
            "grid_auto_rows": null,
            "grid_gap": null,
            "max_width": null,
            "order": null,
            "_view_module_version": "1.2.0",
            "grid_template_areas": null,
            "object_position": null,
            "object_fit": null,
            "grid_auto_columns": null,
            "margin": null,
            "display": null,
            "left": null
          }
        },
        "eed370877c5c4bbe8b05081e63d05653": {
          "model_module": "@jupyter-widgets/controls",
          "model_name": "FloatProgressModel",
          "state": {
            "_view_name": "ProgressView",
            "style": "IPY_MODEL_88c5a70cdd7d40d3b6eb15b77f51dcf5",
            "_dom_classes": [],
            "description": "Downloading: 100%",
            "_model_name": "FloatProgressModel",
            "bar_style": "success",
            "max": 48,
            "_view_module": "@jupyter-widgets/controls",
            "_model_module_version": "1.5.0",
            "value": 48,
            "_view_count": null,
            "_view_module_version": "1.5.0",
            "orientation": "horizontal",
            "min": 0,
            "description_tooltip": null,
            "_model_module": "@jupyter-widgets/controls",
            "layout": "IPY_MODEL_fff37ee64e0f423eb716deb325d60669"
          }
        },
        "6979d8ad3d794797909f824d1aa2af88": {
          "model_module": "@jupyter-widgets/controls",
          "model_name": "HTMLModel",
          "state": {
            "_view_name": "HTMLView",
            "style": "IPY_MODEL_4066a06f6cdc46b08bb73490182242ed",
            "_dom_classes": [],
            "description": "",
            "_model_name": "HTMLModel",
            "placeholder": "​",
            "_view_module": "@jupyter-widgets/controls",
            "_model_module_version": "1.5.0",
            "value": " 48.0/48.0 [00:00&lt;00:00, 570B/s]",
            "_view_count": null,
            "_view_module_version": "1.5.0",
            "description_tooltip": null,
            "_model_module": "@jupyter-widgets/controls",
            "layout": "IPY_MODEL_606535253a944ebb966ff150ab5d56b4"
          }
        },
        "88c5a70cdd7d40d3b6eb15b77f51dcf5": {
          "model_module": "@jupyter-widgets/controls",
          "model_name": "ProgressStyleModel",
          "state": {
            "_view_name": "StyleView",
            "_model_name": "ProgressStyleModel",
            "description_width": "initial",
            "_view_module": "@jupyter-widgets/base",
            "_model_module_version": "1.5.0",
            "_view_count": null,
            "_view_module_version": "1.2.0",
            "bar_color": null,
            "_model_module": "@jupyter-widgets/controls"
          }
        },
        "fff37ee64e0f423eb716deb325d60669": {
          "model_module": "@jupyter-widgets/base",
          "model_name": "LayoutModel",
          "state": {
            "_view_name": "LayoutView",
            "grid_template_rows": null,
            "right": null,
            "justify_content": null,
            "_view_module": "@jupyter-widgets/base",
            "overflow": null,
            "_model_module_version": "1.2.0",
            "_view_count": null,
            "flex_flow": null,
            "width": null,
            "min_width": null,
            "border": null,
            "align_items": null,
            "bottom": null,
            "_model_module": "@jupyter-widgets/base",
            "top": null,
            "grid_column": null,
            "overflow_y": null,
            "overflow_x": null,
            "grid_auto_flow": null,
            "grid_area": null,
            "grid_template_columns": null,
            "flex": null,
            "_model_name": "LayoutModel",
            "justify_items": null,
            "grid_row": null,
            "max_height": null,
            "align_content": null,
            "visibility": null,
            "align_self": null,
            "height": null,
            "min_height": null,
            "padding": null,
            "grid_auto_rows": null,
            "grid_gap": null,
            "max_width": null,
            "order": null,
            "_view_module_version": "1.2.0",
            "grid_template_areas": null,
            "object_position": null,
            "object_fit": null,
            "grid_auto_columns": null,
            "margin": null,
            "display": null,
            "left": null
          }
        },
        "4066a06f6cdc46b08bb73490182242ed": {
          "model_module": "@jupyter-widgets/controls",
          "model_name": "DescriptionStyleModel",
          "state": {
            "_view_name": "StyleView",
            "_model_name": "DescriptionStyleModel",
            "description_width": "",
            "_view_module": "@jupyter-widgets/base",
            "_model_module_version": "1.5.0",
            "_view_count": null,
            "_view_module_version": "1.2.0",
            "_model_module": "@jupyter-widgets/controls"
          }
        },
        "606535253a944ebb966ff150ab5d56b4": {
          "model_module": "@jupyter-widgets/base",
          "model_name": "LayoutModel",
          "state": {
            "_view_name": "LayoutView",
            "grid_template_rows": null,
            "right": null,
            "justify_content": null,
            "_view_module": "@jupyter-widgets/base",
            "overflow": null,
            "_model_module_version": "1.2.0",
            "_view_count": null,
            "flex_flow": null,
            "width": null,
            "min_width": null,
            "border": null,
            "align_items": null,
            "bottom": null,
            "_model_module": "@jupyter-widgets/base",
            "top": null,
            "grid_column": null,
            "overflow_y": null,
            "overflow_x": null,
            "grid_auto_flow": null,
            "grid_area": null,
            "grid_template_columns": null,
            "flex": null,
            "_model_name": "LayoutModel",
            "justify_items": null,
            "grid_row": null,
            "max_height": null,
            "align_content": null,
            "visibility": null,
            "align_self": null,
            "height": null,
            "min_height": null,
            "padding": null,
            "grid_auto_rows": null,
            "grid_gap": null,
            "max_width": null,
            "order": null,
            "_view_module_version": "1.2.0",
            "grid_template_areas": null,
            "object_position": null,
            "object_fit": null,
            "grid_auto_columns": null,
            "margin": null,
            "display": null,
            "left": null
          }
        },
        "d2f41cc373374a1dba711d6d70bb506f": {
          "model_module": "@jupyter-widgets/controls",
          "model_name": "HBoxModel",
          "state": {
            "_view_name": "HBoxView",
            "_dom_classes": [],
            "_model_name": "HBoxModel",
            "_view_module": "@jupyter-widgets/controls",
            "_model_module_version": "1.5.0",
            "_view_count": null,
            "_view_module_version": "1.5.0",
            "box_style": "",
            "layout": "IPY_MODEL_accca0cb8fb8436dbdd7799c144f1093",
            "_model_module": "@jupyter-widgets/controls",
            "children": [
              "IPY_MODEL_150fa87bbbf4488eb89c770db4babb31",
              "IPY_MODEL_abd59dd2ca05448e88394a99096a409b"
            ]
          }
        },
        "accca0cb8fb8436dbdd7799c144f1093": {
          "model_module": "@jupyter-widgets/base",
          "model_name": "LayoutModel",
          "state": {
            "_view_name": "LayoutView",
            "grid_template_rows": null,
            "right": null,
            "justify_content": null,
            "_view_module": "@jupyter-widgets/base",
            "overflow": null,
            "_model_module_version": "1.2.0",
            "_view_count": null,
            "flex_flow": null,
            "width": null,
            "min_width": null,
            "border": null,
            "align_items": null,
            "bottom": null,
            "_model_module": "@jupyter-widgets/base",
            "top": null,
            "grid_column": null,
            "overflow_y": null,
            "overflow_x": null,
            "grid_auto_flow": null,
            "grid_area": null,
            "grid_template_columns": null,
            "flex": null,
            "_model_name": "LayoutModel",
            "justify_items": null,
            "grid_row": null,
            "max_height": null,
            "align_content": null,
            "visibility": null,
            "align_self": null,
            "height": null,
            "min_height": null,
            "padding": null,
            "grid_auto_rows": null,
            "grid_gap": null,
            "max_width": null,
            "order": null,
            "_view_module_version": "1.2.0",
            "grid_template_areas": null,
            "object_position": null,
            "object_fit": null,
            "grid_auto_columns": null,
            "margin": null,
            "display": null,
            "left": null
          }
        },
        "150fa87bbbf4488eb89c770db4babb31": {
          "model_module": "@jupyter-widgets/controls",
          "model_name": "FloatProgressModel",
          "state": {
            "_view_name": "ProgressView",
            "style": "IPY_MODEL_ac010dd33f434479be6b643101f708f3",
            "_dom_classes": [],
            "description": "Downloading: ",
            "_model_name": "FloatProgressModel",
            "bar_style": "success",
            "max": 2313,
            "_view_module": "@jupyter-widgets/controls",
            "_model_module_version": "1.5.0",
            "value": 2313,
            "_view_count": null,
            "_view_module_version": "1.5.0",
            "orientation": "horizontal",
            "min": 0,
            "description_tooltip": null,
            "_model_module": "@jupyter-widgets/controls",
            "layout": "IPY_MODEL_f0225bd2b66e4bfba27183f5100f799a"
          }
        },
        "abd59dd2ca05448e88394a99096a409b": {
          "model_module": "@jupyter-widgets/controls",
          "model_name": "HTMLModel",
          "state": {
            "_view_name": "HTMLView",
            "style": "IPY_MODEL_805e4c199740423780bf4d02f2ab41bd",
            "_dom_classes": [],
            "description": "",
            "_model_name": "HTMLModel",
            "placeholder": "​",
            "_view_module": "@jupyter-widgets/controls",
            "_model_module_version": "1.5.0",
            "value": " 5.88k/? [00:19&lt;00:00, 308B/s]",
            "_view_count": null,
            "_view_module_version": "1.5.0",
            "description_tooltip": null,
            "_model_module": "@jupyter-widgets/controls",
            "layout": "IPY_MODEL_463e498459cf4312ac84968e7d1cad1d"
          }
        },
        "ac010dd33f434479be6b643101f708f3": {
          "model_module": "@jupyter-widgets/controls",
          "model_name": "ProgressStyleModel",
          "state": {
            "_view_name": "StyleView",
            "_model_name": "ProgressStyleModel",
            "description_width": "initial",
            "_view_module": "@jupyter-widgets/base",
            "_model_module_version": "1.5.0",
            "_view_count": null,
            "_view_module_version": "1.2.0",
            "bar_color": null,
            "_model_module": "@jupyter-widgets/controls"
          }
        },
        "f0225bd2b66e4bfba27183f5100f799a": {
          "model_module": "@jupyter-widgets/base",
          "model_name": "LayoutModel",
          "state": {
            "_view_name": "LayoutView",
            "grid_template_rows": null,
            "right": null,
            "justify_content": null,
            "_view_module": "@jupyter-widgets/base",
            "overflow": null,
            "_model_module_version": "1.2.0",
            "_view_count": null,
            "flex_flow": null,
            "width": null,
            "min_width": null,
            "border": null,
            "align_items": null,
            "bottom": null,
            "_model_module": "@jupyter-widgets/base",
            "top": null,
            "grid_column": null,
            "overflow_y": null,
            "overflow_x": null,
            "grid_auto_flow": null,
            "grid_area": null,
            "grid_template_columns": null,
            "flex": null,
            "_model_name": "LayoutModel",
            "justify_items": null,
            "grid_row": null,
            "max_height": null,
            "align_content": null,
            "visibility": null,
            "align_self": null,
            "height": null,
            "min_height": null,
            "padding": null,
            "grid_auto_rows": null,
            "grid_gap": null,
            "max_width": null,
            "order": null,
            "_view_module_version": "1.2.0",
            "grid_template_areas": null,
            "object_position": null,
            "object_fit": null,
            "grid_auto_columns": null,
            "margin": null,
            "display": null,
            "left": null
          }
        },
        "805e4c199740423780bf4d02f2ab41bd": {
          "model_module": "@jupyter-widgets/controls",
          "model_name": "DescriptionStyleModel",
          "state": {
            "_view_name": "StyleView",
            "_model_name": "DescriptionStyleModel",
            "description_width": "",
            "_view_module": "@jupyter-widgets/base",
            "_model_module_version": "1.5.0",
            "_view_count": null,
            "_view_module_version": "1.2.0",
            "_model_module": "@jupyter-widgets/controls"
          }
        },
        "463e498459cf4312ac84968e7d1cad1d": {
          "model_module": "@jupyter-widgets/base",
          "model_name": "LayoutModel",
          "state": {
            "_view_name": "LayoutView",
            "grid_template_rows": null,
            "right": null,
            "justify_content": null,
            "_view_module": "@jupyter-widgets/base",
            "overflow": null,
            "_model_module_version": "1.2.0",
            "_view_count": null,
            "flex_flow": null,
            "width": null,
            "min_width": null,
            "border": null,
            "align_items": null,
            "bottom": null,
            "_model_module": "@jupyter-widgets/base",
            "top": null,
            "grid_column": null,
            "overflow_y": null,
            "overflow_x": null,
            "grid_auto_flow": null,
            "grid_area": null,
            "grid_template_columns": null,
            "flex": null,
            "_model_name": "LayoutModel",
            "justify_items": null,
            "grid_row": null,
            "max_height": null,
            "align_content": null,
            "visibility": null,
            "align_self": null,
            "height": null,
            "min_height": null,
            "padding": null,
            "grid_auto_rows": null,
            "grid_gap": null,
            "max_width": null,
            "order": null,
            "_view_module_version": "1.2.0",
            "grid_template_areas": null,
            "object_position": null,
            "object_fit": null,
            "grid_auto_columns": null,
            "margin": null,
            "display": null,
            "left": null
          }
        },
        "5dd83d3d42ae426a876bc8ef974c8ebb": {
          "model_module": "@jupyter-widgets/controls",
          "model_name": "HBoxModel",
          "state": {
            "_view_name": "HBoxView",
            "_dom_classes": [],
            "_model_name": "HBoxModel",
            "_view_module": "@jupyter-widgets/controls",
            "_model_module_version": "1.5.0",
            "_view_count": null,
            "_view_module_version": "1.5.0",
            "box_style": "",
            "layout": "IPY_MODEL_77696be0f6ea46c6ab1e345339ba3a99",
            "_model_module": "@jupyter-widgets/controls",
            "children": [
              "IPY_MODEL_5093b577aa354b2dac9b54bfce58ec68",
              "IPY_MODEL_4511829691b74833a7bf154292a001c2"
            ]
          }
        },
        "77696be0f6ea46c6ab1e345339ba3a99": {
          "model_module": "@jupyter-widgets/base",
          "model_name": "LayoutModel",
          "state": {
            "_view_name": "LayoutView",
            "grid_template_rows": null,
            "right": null,
            "justify_content": null,
            "_view_module": "@jupyter-widgets/base",
            "overflow": null,
            "_model_module_version": "1.2.0",
            "_view_count": null,
            "flex_flow": null,
            "width": null,
            "min_width": null,
            "border": null,
            "align_items": null,
            "bottom": null,
            "_model_module": "@jupyter-widgets/base",
            "top": null,
            "grid_column": null,
            "overflow_y": null,
            "overflow_x": null,
            "grid_auto_flow": null,
            "grid_area": null,
            "grid_template_columns": null,
            "flex": null,
            "_model_name": "LayoutModel",
            "justify_items": null,
            "grid_row": null,
            "max_height": null,
            "align_content": null,
            "visibility": null,
            "align_self": null,
            "height": null,
            "min_height": null,
            "padding": null,
            "grid_auto_rows": null,
            "grid_gap": null,
            "max_width": null,
            "order": null,
            "_view_module_version": "1.2.0",
            "grid_template_areas": null,
            "object_position": null,
            "object_fit": null,
            "grid_auto_columns": null,
            "margin": null,
            "display": null,
            "left": null
          }
        },
        "5093b577aa354b2dac9b54bfce58ec68": {
          "model_module": "@jupyter-widgets/controls",
          "model_name": "FloatProgressModel",
          "state": {
            "_view_name": "ProgressView",
            "style": "IPY_MODEL_604dda89eed34c228371c3e18685e3a3",
            "_dom_classes": [],
            "description": "Downloading: ",
            "_model_name": "FloatProgressModel",
            "bar_style": "success",
            "max": 1609,
            "_view_module": "@jupyter-widgets/controls",
            "_model_module_version": "1.5.0",
            "value": 1609,
            "_view_count": null,
            "_view_module_version": "1.5.0",
            "orientation": "horizontal",
            "min": 0,
            "description_tooltip": null,
            "_model_module": "@jupyter-widgets/controls",
            "layout": "IPY_MODEL_f37cca83f7c049e088a73d3d09e6a66f"
          }
        },
        "4511829691b74833a7bf154292a001c2": {
          "model_module": "@jupyter-widgets/controls",
          "model_name": "HTMLModel",
          "state": {
            "_view_name": "HTMLView",
            "style": "IPY_MODEL_fa3fb6806de04f739d3abfc08c88d38d",
            "_dom_classes": [],
            "description": "",
            "_model_name": "HTMLModel",
            "placeholder": "​",
            "_view_module": "@jupyter-widgets/controls",
            "_model_module_version": "1.5.0",
            "value": " 3.37k/? [00:00&lt;00:00, 51.9kB/s]",
            "_view_count": null,
            "_view_module_version": "1.5.0",
            "description_tooltip": null,
            "_model_module": "@jupyter-widgets/controls",
            "layout": "IPY_MODEL_bd544eef986948b797ccd05a5429bae8"
          }
        },
        "604dda89eed34c228371c3e18685e3a3": {
          "model_module": "@jupyter-widgets/controls",
          "model_name": "ProgressStyleModel",
          "state": {
            "_view_name": "StyleView",
            "_model_name": "ProgressStyleModel",
            "description_width": "initial",
            "_view_module": "@jupyter-widgets/base",
            "_model_module_version": "1.5.0",
            "_view_count": null,
            "_view_module_version": "1.2.0",
            "bar_color": null,
            "_model_module": "@jupyter-widgets/controls"
          }
        },
        "f37cca83f7c049e088a73d3d09e6a66f": {
          "model_module": "@jupyter-widgets/base",
          "model_name": "LayoutModel",
          "state": {
            "_view_name": "LayoutView",
            "grid_template_rows": null,
            "right": null,
            "justify_content": null,
            "_view_module": "@jupyter-widgets/base",
            "overflow": null,
            "_model_module_version": "1.2.0",
            "_view_count": null,
            "flex_flow": null,
            "width": null,
            "min_width": null,
            "border": null,
            "align_items": null,
            "bottom": null,
            "_model_module": "@jupyter-widgets/base",
            "top": null,
            "grid_column": null,
            "overflow_y": null,
            "overflow_x": null,
            "grid_auto_flow": null,
            "grid_area": null,
            "grid_template_columns": null,
            "flex": null,
            "_model_name": "LayoutModel",
            "justify_items": null,
            "grid_row": null,
            "max_height": null,
            "align_content": null,
            "visibility": null,
            "align_self": null,
            "height": null,
            "min_height": null,
            "padding": null,
            "grid_auto_rows": null,
            "grid_gap": null,
            "max_width": null,
            "order": null,
            "_view_module_version": "1.2.0",
            "grid_template_areas": null,
            "object_position": null,
            "object_fit": null,
            "grid_auto_columns": null,
            "margin": null,
            "display": null,
            "left": null
          }
        },
        "fa3fb6806de04f739d3abfc08c88d38d": {
          "model_module": "@jupyter-widgets/controls",
          "model_name": "DescriptionStyleModel",
          "state": {
            "_view_name": "StyleView",
            "_model_name": "DescriptionStyleModel",
            "description_width": "",
            "_view_module": "@jupyter-widgets/base",
            "_model_module_version": "1.5.0",
            "_view_count": null,
            "_view_module_version": "1.2.0",
            "_model_module": "@jupyter-widgets/controls"
          }
        },
        "bd544eef986948b797ccd05a5429bae8": {
          "model_module": "@jupyter-widgets/base",
          "model_name": "LayoutModel",
          "state": {
            "_view_name": "LayoutView",
            "grid_template_rows": null,
            "right": null,
            "justify_content": null,
            "_view_module": "@jupyter-widgets/base",
            "overflow": null,
            "_model_module_version": "1.2.0",
            "_view_count": null,
            "flex_flow": null,
            "width": null,
            "min_width": null,
            "border": null,
            "align_items": null,
            "bottom": null,
            "_model_module": "@jupyter-widgets/base",
            "top": null,
            "grid_column": null,
            "overflow_y": null,
            "overflow_x": null,
            "grid_auto_flow": null,
            "grid_area": null,
            "grid_template_columns": null,
            "flex": null,
            "_model_name": "LayoutModel",
            "justify_items": null,
            "grid_row": null,
            "max_height": null,
            "align_content": null,
            "visibility": null,
            "align_self": null,
            "height": null,
            "min_height": null,
            "padding": null,
            "grid_auto_rows": null,
            "grid_gap": null,
            "max_width": null,
            "order": null,
            "_view_module_version": "1.2.0",
            "grid_template_areas": null,
            "object_position": null,
            "object_fit": null,
            "grid_auto_columns": null,
            "margin": null,
            "display": null,
            "left": null
          }
        },
        "f9c8a483bb3f4d8788b837a203659661": {
          "model_module": "@jupyter-widgets/controls",
          "model_name": "HBoxModel",
          "state": {
            "_view_name": "HBoxView",
            "_dom_classes": [],
            "_model_name": "HBoxModel",
            "_view_module": "@jupyter-widgets/controls",
            "_model_module_version": "1.5.0",
            "_view_count": null,
            "_view_module_version": "1.5.0",
            "box_style": "",
            "layout": "IPY_MODEL_b45d2f0e67fa486483cb74d7f888fcb4",
            "_model_module": "@jupyter-widgets/controls",
            "children": [
              "IPY_MODEL_80bb9fa31e464f4eb1e51f64f89cbba3",
              "IPY_MODEL_97477ad43d904dafb26d3965a13c6939"
            ]
          }
        },
        "b45d2f0e67fa486483cb74d7f888fcb4": {
          "model_module": "@jupyter-widgets/base",
          "model_name": "LayoutModel",
          "state": {
            "_view_name": "LayoutView",
            "grid_template_rows": null,
            "right": null,
            "justify_content": null,
            "_view_module": "@jupyter-widgets/base",
            "overflow": null,
            "_model_module_version": "1.2.0",
            "_view_count": null,
            "flex_flow": null,
            "width": null,
            "min_width": null,
            "border": null,
            "align_items": null,
            "bottom": null,
            "_model_module": "@jupyter-widgets/base",
            "top": null,
            "grid_column": null,
            "overflow_y": null,
            "overflow_x": null,
            "grid_auto_flow": null,
            "grid_area": null,
            "grid_template_columns": null,
            "flex": null,
            "_model_name": "LayoutModel",
            "justify_items": null,
            "grid_row": null,
            "max_height": null,
            "align_content": null,
            "visibility": null,
            "align_self": null,
            "height": null,
            "min_height": null,
            "padding": null,
            "grid_auto_rows": null,
            "grid_gap": null,
            "max_width": null,
            "order": null,
            "_view_module_version": "1.2.0",
            "grid_template_areas": null,
            "object_position": null,
            "object_fit": null,
            "grid_auto_columns": null,
            "margin": null,
            "display": null,
            "left": null
          }
        },
        "80bb9fa31e464f4eb1e51f64f89cbba3": {
          "model_module": "@jupyter-widgets/controls",
          "model_name": "FloatProgressModel",
          "state": {
            "_view_name": "ProgressView",
            "style": "IPY_MODEL_95ab914176cd4ddb938c24c4d1d9ee71",
            "_dom_classes": [],
            "description": "Downloading: 100%",
            "_model_name": "FloatProgressModel",
            "bar_style": "success",
            "max": 166373201,
            "_view_module": "@jupyter-widgets/controls",
            "_model_module_version": "1.5.0",
            "value": 166373201,
            "_view_count": null,
            "_view_module_version": "1.5.0",
            "orientation": "horizontal",
            "min": 0,
            "description_tooltip": null,
            "_model_module": "@jupyter-widgets/controls",
            "layout": "IPY_MODEL_f862016fb6634d99a263bd66265a12ba"
          }
        },
        "97477ad43d904dafb26d3965a13c6939": {
          "model_module": "@jupyter-widgets/controls",
          "model_name": "HTMLModel",
          "state": {
            "_view_name": "HTMLView",
            "style": "IPY_MODEL_c6e71f99071646f2b9f973085a703e12",
            "_dom_classes": [],
            "description": "",
            "_model_name": "HTMLModel",
            "placeholder": "​",
            "_view_module": "@jupyter-widgets/controls",
            "_model_module_version": "1.5.0",
            "value": " 166M/166M [00:16&lt;00:00, 10.2MB/s]",
            "_view_count": null,
            "_view_module_version": "1.5.0",
            "description_tooltip": null,
            "_model_module": "@jupyter-widgets/controls",
            "layout": "IPY_MODEL_0ea5eb848134499c9395436196950929"
          }
        },
        "95ab914176cd4ddb938c24c4d1d9ee71": {
          "model_module": "@jupyter-widgets/controls",
          "model_name": "ProgressStyleModel",
          "state": {
            "_view_name": "StyleView",
            "_model_name": "ProgressStyleModel",
            "description_width": "initial",
            "_view_module": "@jupyter-widgets/base",
            "_model_module_version": "1.5.0",
            "_view_count": null,
            "_view_module_version": "1.2.0",
            "bar_color": null,
            "_model_module": "@jupyter-widgets/controls"
          }
        },
        "f862016fb6634d99a263bd66265a12ba": {
          "model_module": "@jupyter-widgets/base",
          "model_name": "LayoutModel",
          "state": {
            "_view_name": "LayoutView",
            "grid_template_rows": null,
            "right": null,
            "justify_content": null,
            "_view_module": "@jupyter-widgets/base",
            "overflow": null,
            "_model_module_version": "1.2.0",
            "_view_count": null,
            "flex_flow": null,
            "width": null,
            "min_width": null,
            "border": null,
            "align_items": null,
            "bottom": null,
            "_model_module": "@jupyter-widgets/base",
            "top": null,
            "grid_column": null,
            "overflow_y": null,
            "overflow_x": null,
            "grid_auto_flow": null,
            "grid_area": null,
            "grid_template_columns": null,
            "flex": null,
            "_model_name": "LayoutModel",
            "justify_items": null,
            "grid_row": null,
            "max_height": null,
            "align_content": null,
            "visibility": null,
            "align_self": null,
            "height": null,
            "min_height": null,
            "padding": null,
            "grid_auto_rows": null,
            "grid_gap": null,
            "max_width": null,
            "order": null,
            "_view_module_version": "1.2.0",
            "grid_template_areas": null,
            "object_position": null,
            "object_fit": null,
            "grid_auto_columns": null,
            "margin": null,
            "display": null,
            "left": null
          }
        },
        "c6e71f99071646f2b9f973085a703e12": {
          "model_module": "@jupyter-widgets/controls",
          "model_name": "DescriptionStyleModel",
          "state": {
            "_view_name": "StyleView",
            "_model_name": "DescriptionStyleModel",
            "description_width": "",
            "_view_module": "@jupyter-widgets/base",
            "_model_module_version": "1.5.0",
            "_view_count": null,
            "_view_module_version": "1.2.0",
            "_model_module": "@jupyter-widgets/controls"
          }
        },
        "0ea5eb848134499c9395436196950929": {
          "model_module": "@jupyter-widgets/base",
          "model_name": "LayoutModel",
          "state": {
            "_view_name": "LayoutView",
            "grid_template_rows": null,
            "right": null,
            "justify_content": null,
            "_view_module": "@jupyter-widgets/base",
            "overflow": null,
            "_model_module_version": "1.2.0",
            "_view_count": null,
            "flex_flow": null,
            "width": null,
            "min_width": null,
            "border": null,
            "align_items": null,
            "bottom": null,
            "_model_module": "@jupyter-widgets/base",
            "top": null,
            "grid_column": null,
            "overflow_y": null,
            "overflow_x": null,
            "grid_auto_flow": null,
            "grid_area": null,
            "grid_template_columns": null,
            "flex": null,
            "_model_name": "LayoutModel",
            "justify_items": null,
            "grid_row": null,
            "max_height": null,
            "align_content": null,
            "visibility": null,
            "align_self": null,
            "height": null,
            "min_height": null,
            "padding": null,
            "grid_auto_rows": null,
            "grid_gap": null,
            "max_width": null,
            "order": null,
            "_view_module_version": "1.2.0",
            "grid_template_areas": null,
            "object_position": null,
            "object_fit": null,
            "grid_auto_columns": null,
            "margin": null,
            "display": null,
            "left": null
          }
        },
        "37ef43c2577f4e3fb88c8017d3c8c6ef": {
          "model_module": "@jupyter-widgets/controls",
          "model_name": "HBoxModel",
          "state": {
            "_view_name": "HBoxView",
            "_dom_classes": [],
            "_model_name": "HBoxModel",
            "_view_module": "@jupyter-widgets/controls",
            "_model_module_version": "1.5.0",
            "_view_count": null,
            "_view_module_version": "1.5.0",
            "box_style": "",
            "layout": "IPY_MODEL_7690d480b9e54d8ebfacdad0f32d193e",
            "_model_module": "@jupyter-widgets/controls",
            "children": [
              "IPY_MODEL_483e6fd620c04ab8a7bee33a08ce749a",
              "IPY_MODEL_6233b706eaaa4c0b8a032de654d20a3f"
            ]
          }
        },
        "7690d480b9e54d8ebfacdad0f32d193e": {
          "model_module": "@jupyter-widgets/base",
          "model_name": "LayoutModel",
          "state": {
            "_view_name": "LayoutView",
            "grid_template_rows": null,
            "right": null,
            "justify_content": null,
            "_view_module": "@jupyter-widgets/base",
            "overflow": null,
            "_model_module_version": "1.2.0",
            "_view_count": null,
            "flex_flow": null,
            "width": null,
            "min_width": null,
            "border": null,
            "align_items": null,
            "bottom": null,
            "_model_module": "@jupyter-widgets/base",
            "top": null,
            "grid_column": null,
            "overflow_y": null,
            "overflow_x": null,
            "grid_auto_flow": null,
            "grid_area": null,
            "grid_template_columns": null,
            "flex": null,
            "_model_name": "LayoutModel",
            "justify_items": null,
            "grid_row": null,
            "max_height": null,
            "align_content": null,
            "visibility": null,
            "align_self": null,
            "height": null,
            "min_height": null,
            "padding": null,
            "grid_auto_rows": null,
            "grid_gap": null,
            "max_width": null,
            "order": null,
            "_view_module_version": "1.2.0",
            "grid_template_areas": null,
            "object_position": null,
            "object_fit": null,
            "grid_auto_columns": null,
            "margin": null,
            "display": null,
            "left": null
          }
        },
        "483e6fd620c04ab8a7bee33a08ce749a": {
          "model_module": "@jupyter-widgets/controls",
          "model_name": "FloatProgressModel",
          "state": {
            "_view_name": "ProgressView",
            "style": "IPY_MODEL_eb53be93e8854ffe9fbe7ae29c224a78",
            "_dom_classes": [],
            "description": "",
            "_model_name": "FloatProgressModel",
            "bar_style": "info",
            "max": 1,
            "_view_module": "@jupyter-widgets/controls",
            "_model_module_version": "1.5.0",
            "value": 1,
            "_view_count": null,
            "_view_module_version": "1.5.0",
            "orientation": "horizontal",
            "min": 0,
            "description_tooltip": null,
            "_model_module": "@jupyter-widgets/controls",
            "layout": "IPY_MODEL_637b1e763f78465dbd8d596ed0e65041"
          }
        },
        "6233b706eaaa4c0b8a032de654d20a3f": {
          "model_module": "@jupyter-widgets/controls",
          "model_name": "HTMLModel",
          "state": {
            "_view_name": "HTMLView",
            "style": "IPY_MODEL_ebb1b2d6f06445d3a9724664427a6373",
            "_dom_classes": [],
            "description": "",
            "_model_name": "HTMLModel",
            "placeholder": "​",
            "_view_module": "@jupyter-widgets/controls",
            "_model_module_version": "1.5.0",
            "value": " 560000/0 [00:14&lt;00:00, 39773.33 examples/s]",
            "_view_count": null,
            "_view_module_version": "1.5.0",
            "description_tooltip": null,
            "_model_module": "@jupyter-widgets/controls",
            "layout": "IPY_MODEL_3392fc191f9e43b69f25392ecee79138"
          }
        },
        "eb53be93e8854ffe9fbe7ae29c224a78": {
          "model_module": "@jupyter-widgets/controls",
          "model_name": "ProgressStyleModel",
          "state": {
            "_view_name": "StyleView",
            "_model_name": "ProgressStyleModel",
            "description_width": "initial",
            "_view_module": "@jupyter-widgets/base",
            "_model_module_version": "1.5.0",
            "_view_count": null,
            "_view_module_version": "1.2.0",
            "bar_color": null,
            "_model_module": "@jupyter-widgets/controls"
          }
        },
        "637b1e763f78465dbd8d596ed0e65041": {
          "model_module": "@jupyter-widgets/base",
          "model_name": "LayoutModel",
          "state": {
            "_view_name": "LayoutView",
            "grid_template_rows": null,
            "right": null,
            "justify_content": null,
            "_view_module": "@jupyter-widgets/base",
            "overflow": null,
            "_model_module_version": "1.2.0",
            "_view_count": null,
            "flex_flow": null,
            "width": null,
            "min_width": null,
            "border": null,
            "align_items": null,
            "bottom": null,
            "_model_module": "@jupyter-widgets/base",
            "top": null,
            "grid_column": null,
            "overflow_y": null,
            "overflow_x": null,
            "grid_auto_flow": null,
            "grid_area": null,
            "grid_template_columns": null,
            "flex": null,
            "_model_name": "LayoutModel",
            "justify_items": null,
            "grid_row": null,
            "max_height": null,
            "align_content": null,
            "visibility": null,
            "align_self": null,
            "height": null,
            "min_height": null,
            "padding": null,
            "grid_auto_rows": null,
            "grid_gap": null,
            "max_width": null,
            "order": null,
            "_view_module_version": "1.2.0",
            "grid_template_areas": null,
            "object_position": null,
            "object_fit": null,
            "grid_auto_columns": null,
            "margin": null,
            "display": null,
            "left": null
          }
        },
        "ebb1b2d6f06445d3a9724664427a6373": {
          "model_module": "@jupyter-widgets/controls",
          "model_name": "DescriptionStyleModel",
          "state": {
            "_view_name": "StyleView",
            "_model_name": "DescriptionStyleModel",
            "description_width": "",
            "_view_module": "@jupyter-widgets/base",
            "_model_module_version": "1.5.0",
            "_view_count": null,
            "_view_module_version": "1.2.0",
            "_model_module": "@jupyter-widgets/controls"
          }
        },
        "3392fc191f9e43b69f25392ecee79138": {
          "model_module": "@jupyter-widgets/base",
          "model_name": "LayoutModel",
          "state": {
            "_view_name": "LayoutView",
            "grid_template_rows": null,
            "right": null,
            "justify_content": null,
            "_view_module": "@jupyter-widgets/base",
            "overflow": null,
            "_model_module_version": "1.2.0",
            "_view_count": null,
            "flex_flow": null,
            "width": null,
            "min_width": null,
            "border": null,
            "align_items": null,
            "bottom": null,
            "_model_module": "@jupyter-widgets/base",
            "top": null,
            "grid_column": null,
            "overflow_y": null,
            "overflow_x": null,
            "grid_auto_flow": null,
            "grid_area": null,
            "grid_template_columns": null,
            "flex": null,
            "_model_name": "LayoutModel",
            "justify_items": null,
            "grid_row": null,
            "max_height": null,
            "align_content": null,
            "visibility": null,
            "align_self": null,
            "height": null,
            "min_height": null,
            "padding": null,
            "grid_auto_rows": null,
            "grid_gap": null,
            "max_width": null,
            "order": null,
            "_view_module_version": "1.2.0",
            "grid_template_areas": null,
            "object_position": null,
            "object_fit": null,
            "grid_auto_columns": null,
            "margin": null,
            "display": null,
            "left": null
          }
        },
        "29a109d48388462dabad99ea7b45398b": {
          "model_module": "@jupyter-widgets/controls",
          "model_name": "HBoxModel",
          "state": {
            "_view_name": "HBoxView",
            "_dom_classes": [],
            "_model_name": "HBoxModel",
            "_view_module": "@jupyter-widgets/controls",
            "_model_module_version": "1.5.0",
            "_view_count": null,
            "_view_module_version": "1.5.0",
            "box_style": "",
            "layout": "IPY_MODEL_842387e4bf184b48b9c88455bed3100f",
            "_model_module": "@jupyter-widgets/controls",
            "children": [
              "IPY_MODEL_413ab0cb37c948c99bbda017a7d1181f",
              "IPY_MODEL_3f64cdfe3bea43d39ce7b11786066b95"
            ]
          }
        },
        "842387e4bf184b48b9c88455bed3100f": {
          "model_module": "@jupyter-widgets/base",
          "model_name": "LayoutModel",
          "state": {
            "_view_name": "LayoutView",
            "grid_template_rows": null,
            "right": null,
            "justify_content": null,
            "_view_module": "@jupyter-widgets/base",
            "overflow": null,
            "_model_module_version": "1.2.0",
            "_view_count": null,
            "flex_flow": null,
            "width": null,
            "min_width": null,
            "border": null,
            "align_items": null,
            "bottom": null,
            "_model_module": "@jupyter-widgets/base",
            "top": null,
            "grid_column": null,
            "overflow_y": null,
            "overflow_x": null,
            "grid_auto_flow": null,
            "grid_area": null,
            "grid_template_columns": null,
            "flex": null,
            "_model_name": "LayoutModel",
            "justify_items": null,
            "grid_row": null,
            "max_height": null,
            "align_content": null,
            "visibility": null,
            "align_self": null,
            "height": null,
            "min_height": null,
            "padding": null,
            "grid_auto_rows": null,
            "grid_gap": null,
            "max_width": null,
            "order": null,
            "_view_module_version": "1.2.0",
            "grid_template_areas": null,
            "object_position": null,
            "object_fit": null,
            "grid_auto_columns": null,
            "margin": null,
            "display": null,
            "left": null
          }
        },
        "413ab0cb37c948c99bbda017a7d1181f": {
          "model_module": "@jupyter-widgets/controls",
          "model_name": "FloatProgressModel",
          "state": {
            "_view_name": "ProgressView",
            "style": "IPY_MODEL_d226d03201c348a69948ddee3fb8c0e1",
            "_dom_classes": [],
            "description": "",
            "_model_name": "FloatProgressModel",
            "bar_style": "info",
            "max": 1,
            "_view_module": "@jupyter-widgets/controls",
            "_model_module_version": "1.5.0",
            "value": 1,
            "_view_count": null,
            "_view_module_version": "1.5.0",
            "orientation": "horizontal",
            "min": 0,
            "description_tooltip": null,
            "_model_module": "@jupyter-widgets/controls",
            "layout": "IPY_MODEL_a9d77b5b7b604b34809d2ebd38162b6f"
          }
        },
        "3f64cdfe3bea43d39ce7b11786066b95": {
          "model_module": "@jupyter-widgets/controls",
          "model_name": "HTMLModel",
          "state": {
            "_view_name": "HTMLView",
            "style": "IPY_MODEL_14aaae37fa0b43309f545359a6ca7cee",
            "_dom_classes": [],
            "description": "",
            "_model_name": "HTMLModel",
            "placeholder": "​",
            "_view_module": "@jupyter-widgets/controls",
            "_model_module_version": "1.5.0",
            "value": " 38000/0 [00:01&lt;00:00, 36919.93 examples/s]",
            "_view_count": null,
            "_view_module_version": "1.5.0",
            "description_tooltip": null,
            "_model_module": "@jupyter-widgets/controls",
            "layout": "IPY_MODEL_4ab2716c12d04b9197f4de9bbe08aa45"
          }
        },
        "d226d03201c348a69948ddee3fb8c0e1": {
          "model_module": "@jupyter-widgets/controls",
          "model_name": "ProgressStyleModel",
          "state": {
            "_view_name": "StyleView",
            "_model_name": "ProgressStyleModel",
            "description_width": "initial",
            "_view_module": "@jupyter-widgets/base",
            "_model_module_version": "1.5.0",
            "_view_count": null,
            "_view_module_version": "1.2.0",
            "bar_color": null,
            "_model_module": "@jupyter-widgets/controls"
          }
        },
        "a9d77b5b7b604b34809d2ebd38162b6f": {
          "model_module": "@jupyter-widgets/base",
          "model_name": "LayoutModel",
          "state": {
            "_view_name": "LayoutView",
            "grid_template_rows": null,
            "right": null,
            "justify_content": null,
            "_view_module": "@jupyter-widgets/base",
            "overflow": null,
            "_model_module_version": "1.2.0",
            "_view_count": null,
            "flex_flow": null,
            "width": null,
            "min_width": null,
            "border": null,
            "align_items": null,
            "bottom": null,
            "_model_module": "@jupyter-widgets/base",
            "top": null,
            "grid_column": null,
            "overflow_y": null,
            "overflow_x": null,
            "grid_auto_flow": null,
            "grid_area": null,
            "grid_template_columns": null,
            "flex": null,
            "_model_name": "LayoutModel",
            "justify_items": null,
            "grid_row": null,
            "max_height": null,
            "align_content": null,
            "visibility": null,
            "align_self": null,
            "height": null,
            "min_height": null,
            "padding": null,
            "grid_auto_rows": null,
            "grid_gap": null,
            "max_width": null,
            "order": null,
            "_view_module_version": "1.2.0",
            "grid_template_areas": null,
            "object_position": null,
            "object_fit": null,
            "grid_auto_columns": null,
            "margin": null,
            "display": null,
            "left": null
          }
        },
        "14aaae37fa0b43309f545359a6ca7cee": {
          "model_module": "@jupyter-widgets/controls",
          "model_name": "DescriptionStyleModel",
          "state": {
            "_view_name": "StyleView",
            "_model_name": "DescriptionStyleModel",
            "description_width": "",
            "_view_module": "@jupyter-widgets/base",
            "_model_module_version": "1.5.0",
            "_view_count": null,
            "_view_module_version": "1.2.0",
            "_model_module": "@jupyter-widgets/controls"
          }
        },
        "4ab2716c12d04b9197f4de9bbe08aa45": {
          "model_module": "@jupyter-widgets/base",
          "model_name": "LayoutModel",
          "state": {
            "_view_name": "LayoutView",
            "grid_template_rows": null,
            "right": null,
            "justify_content": null,
            "_view_module": "@jupyter-widgets/base",
            "overflow": null,
            "_model_module_version": "1.2.0",
            "_view_count": null,
            "flex_flow": null,
            "width": null,
            "min_width": null,
            "border": null,
            "align_items": null,
            "bottom": null,
            "_model_module": "@jupyter-widgets/base",
            "top": null,
            "grid_column": null,
            "overflow_y": null,
            "overflow_x": null,
            "grid_auto_flow": null,
            "grid_area": null,
            "grid_template_columns": null,
            "flex": null,
            "_model_name": "LayoutModel",
            "justify_items": null,
            "grid_row": null,
            "max_height": null,
            "align_content": null,
            "visibility": null,
            "align_self": null,
            "height": null,
            "min_height": null,
            "padding": null,
            "grid_auto_rows": null,
            "grid_gap": null,
            "max_width": null,
            "order": null,
            "_view_module_version": "1.2.0",
            "grid_template_areas": null,
            "object_position": null,
            "object_fit": null,
            "grid_auto_columns": null,
            "margin": null,
            "display": null,
            "left": null
          }
        }
      }
    }
  },
  "cells": [
    {
      "cell_type": "code",
      "metadata": {
        "colab": {
          "base_uri": "https://localhost:8080/"
        },
        "id": "Tjsl5_TPD5p-",
        "outputId": "a2d6ffaf-79d8-47f1-c80b-8527bced55c6"
      },
      "source": [
        "from google.colab import drive\n",
        "drive.mount('/content/drive')"
      ],
      "execution_count": null,
      "outputs": [
        {
          "output_type": "stream",
          "text": [
            "Drive already mounted at /content/drive; to attempt to forcibly remount, call drive.mount(\"/content/drive\", force_remount=True).\n"
          ],
          "name": "stdout"
        }
      ]
    },
    {
      "cell_type": "code",
      "metadata": {
        "id": "hZeIFn6iC9FF",
        "colab": {
          "base_uri": "https://localhost:8080/"
        },
        "outputId": "1e17893d-c0ab-4003-8a40-e62b468c68d9"
      },
      "source": [
        "!pip install textattack\n",
        "!pip install -U gensim==4.0.0\n",
        "!pip install python-Levenshtein"
      ],
      "execution_count": null,
      "outputs": [
        {
          "output_type": "stream",
          "text": [
            "Requirement already satisfied: textattack in /usr/local/lib/python3.7/dist-packages (0.2.15)\n",
            "Requirement already satisfied: language-tool-python in /usr/local/lib/python3.7/dist-packages (from textattack) (2.5.3)\n",
            "Requirement already satisfied: scipy==1.4.1 in /usr/local/lib/python3.7/dist-packages (from textattack) (1.4.1)\n",
            "Requirement already satisfied: more-itertools in /usr/local/lib/python3.7/dist-packages (from textattack) (8.7.0)\n",
            "Requirement already satisfied: flair==0.6.1.post1 in /usr/local/lib/python3.7/dist-packages (from textattack) (0.6.1.post1)\n",
            "Requirement already satisfied: bert-score>=0.3.5 in /usr/local/lib/python3.7/dist-packages (from textattack) (0.3.9)\n",
            "Requirement already satisfied: torch in /usr/local/lib/python3.7/dist-packages (from textattack) (1.8.1+cu101)\n",
            "Requirement already satisfied: filelock in /usr/local/lib/python3.7/dist-packages (from textattack) (3.0.12)\n",
            "Requirement already satisfied: word2number in /usr/local/lib/python3.7/dist-packages (from textattack) (1.1)\n",
            "Requirement already satisfied: PySocks!=1.5.7,>=1.5.6 in /usr/local/lib/python3.7/dist-packages (from textattack) (1.7.1)\n",
            "Requirement already satisfied: terminaltables in /usr/local/lib/python3.7/dist-packages (from textattack) (3.1.0)\n",
            "Requirement already satisfied: editdistance in /usr/local/lib/python3.7/dist-packages (from textattack) (0.5.3)\n",
            "Requirement already satisfied: transformers>=3.3.0 in /usr/local/lib/python3.7/dist-packages (from textattack) (4.5.1)\n",
            "Requirement already satisfied: datasets in /usr/local/lib/python3.7/dist-packages (from textattack) (1.6.2)\n",
            "Requirement already satisfied: lru-dict in /usr/local/lib/python3.7/dist-packages (from textattack) (1.1.7)\n",
            "Requirement already satisfied: num2words in /usr/local/lib/python3.7/dist-packages (from textattack) (0.5.10)\n",
            "Requirement already satisfied: numpy<1.19.0 in /usr/local/lib/python3.7/dist-packages (from textattack) (1.18.5)\n",
            "Requirement already satisfied: nltk in /usr/local/lib/python3.7/dist-packages (from textattack) (3.2.5)\n",
            "Requirement already satisfied: tqdm<4.50.0,>=4.27 in /usr/local/lib/python3.7/dist-packages (from textattack) (4.41.1)\n",
            "Requirement already satisfied: pandas>=1.0.1 in /usr/local/lib/python3.7/dist-packages (from textattack) (1.1.5)\n",
            "Requirement already satisfied: lemminflect in /usr/local/lib/python3.7/dist-packages (from textattack) (0.2.2)\n",
            "Requirement already satisfied: requests in /usr/local/lib/python3.7/dist-packages (from language-tool-python->textattack) (2.23.0)\n",
            "Requirement already satisfied: janome in /usr/local/lib/python3.7/dist-packages (from flair==0.6.1.post1->textattack) (0.4.1)\n",
            "Requirement already satisfied: segtok>=1.5.7 in /usr/local/lib/python3.7/dist-packages (from flair==0.6.1.post1->textattack) (1.5.10)\n",
            "Requirement already satisfied: langdetect in /usr/local/lib/python3.7/dist-packages (from flair==0.6.1.post1->textattack) (1.0.8)\n",
            "Requirement already satisfied: ftfy in /usr/local/lib/python3.7/dist-packages (from flair==0.6.1.post1->textattack) (6.0.1)\n",
            "Requirement already satisfied: gensim>=3.4.0 in /usr/local/lib/python3.7/dist-packages (from flair==0.6.1.post1->textattack) (4.0.0)\n",
            "Requirement already satisfied: gdown in /usr/local/lib/python3.7/dist-packages (from flair==0.6.1.post1->textattack) (3.6.4)\n",
            "Requirement already satisfied: sqlitedict>=1.6.0 in /usr/local/lib/python3.7/dist-packages (from flair==0.6.1.post1->textattack) (1.7.0)\n",
            "Requirement already satisfied: python-dateutil>=2.6.1 in /usr/local/lib/python3.7/dist-packages (from flair==0.6.1.post1->textattack) (2.8.1)\n",
            "Requirement already satisfied: scikit-learn>=0.21.3 in /usr/local/lib/python3.7/dist-packages (from flair==0.6.1.post1->textattack) (0.22.2.post1)\n",
            "Requirement already satisfied: konoha<5.0.0,>=4.0.0 in /usr/local/lib/python3.7/dist-packages (from flair==0.6.1.post1->textattack) (4.6.4)\n",
            "Requirement already satisfied: hyperopt>=0.1.1 in /usr/local/lib/python3.7/dist-packages (from flair==0.6.1.post1->textattack) (0.1.2)\n",
            "Requirement already satisfied: mpld3==0.3 in /usr/local/lib/python3.7/dist-packages (from flair==0.6.1.post1->textattack) (0.3)\n",
            "Requirement already satisfied: sentencepiece!=0.1.92 in /usr/local/lib/python3.7/dist-packages (from flair==0.6.1.post1->textattack) (0.1.95)\n",
            "Requirement already satisfied: matplotlib>=2.2.3 in /usr/local/lib/python3.7/dist-packages (from flair==0.6.1.post1->textattack) (3.2.2)\n",
            "Requirement already satisfied: deprecated>=1.2.4 in /usr/local/lib/python3.7/dist-packages (from flair==0.6.1.post1->textattack) (1.2.12)\n",
            "Requirement already satisfied: bpemb>=0.3.2 in /usr/local/lib/python3.7/dist-packages (from flair==0.6.1.post1->textattack) (0.3.3)\n",
            "Requirement already satisfied: lxml in /usr/local/lib/python3.7/dist-packages (from flair==0.6.1.post1->textattack) (4.2.6)\n",
            "Requirement already satisfied: regex in /usr/local/lib/python3.7/dist-packages (from flair==0.6.1.post1->textattack) (2019.12.20)\n",
            "Requirement already satisfied: tabulate in /usr/local/lib/python3.7/dist-packages (from flair==0.6.1.post1->textattack) (0.8.9)\n",
            "Requirement already satisfied: typing-extensions in /usr/local/lib/python3.7/dist-packages (from torch->textattack) (3.7.4.3)\n",
            "Requirement already satisfied: tokenizers<0.11,>=0.10.1 in /usr/local/lib/python3.7/dist-packages (from transformers>=3.3.0->textattack) (0.10.2)\n",
            "Requirement already satisfied: importlib-metadata; python_version < \"3.8\" in /usr/local/lib/python3.7/dist-packages (from transformers>=3.3.0->textattack) (3.10.1)\n",
            "Requirement already satisfied: sacremoses in /usr/local/lib/python3.7/dist-packages (from transformers>=3.3.0->textattack) (0.0.45)\n",
            "Requirement already satisfied: packaging in /usr/local/lib/python3.7/dist-packages (from transformers>=3.3.0->textattack) (20.9)\n",
            "Requirement already satisfied: dill in /usr/local/lib/python3.7/dist-packages (from datasets->textattack) (0.3.3)\n",
            "Requirement already satisfied: xxhash in /usr/local/lib/python3.7/dist-packages (from datasets->textattack) (2.0.2)\n",
            "Requirement already satisfied: fsspec in /usr/local/lib/python3.7/dist-packages (from datasets->textattack) (2021.4.0)\n",
            "Requirement already satisfied: huggingface-hub<0.1.0 in /usr/local/lib/python3.7/dist-packages (from datasets->textattack) (0.0.8)\n",
            "Requirement already satisfied: pyarrow>=1.0.0<4.0.0 in /usr/local/lib/python3.7/dist-packages (from datasets->textattack) (3.0.0)\n",
            "Requirement already satisfied: multiprocess in /usr/local/lib/python3.7/dist-packages (from datasets->textattack) (0.70.11.1)\n",
            "Requirement already satisfied: docopt>=0.6.2 in /usr/local/lib/python3.7/dist-packages (from num2words->textattack) (0.6.2)\n",
            "Requirement already satisfied: six in /usr/local/lib/python3.7/dist-packages (from nltk->textattack) (1.15.0)\n",
            "Requirement already satisfied: pytz>=2017.2 in /usr/local/lib/python3.7/dist-packages (from pandas>=1.0.1->textattack) (2018.9)\n",
            "Requirement already satisfied: certifi>=2017.4.17 in /usr/local/lib/python3.7/dist-packages (from requests->language-tool-python->textattack) (2020.12.5)\n",
            "Requirement already satisfied: urllib3!=1.25.0,!=1.25.1,<1.26,>=1.21.1 in /usr/local/lib/python3.7/dist-packages (from requests->language-tool-python->textattack) (1.24.3)\n",
            "Requirement already satisfied: chardet<4,>=3.0.2 in /usr/local/lib/python3.7/dist-packages (from requests->language-tool-python->textattack) (3.0.4)\n",
            "Requirement already satisfied: idna<3,>=2.5 in /usr/local/lib/python3.7/dist-packages (from requests->language-tool-python->textattack) (2.10)\n",
            "Requirement already satisfied: wcwidth in /usr/local/lib/python3.7/dist-packages (from ftfy->flair==0.6.1.post1->textattack) (0.2.5)\n",
            "Requirement already satisfied: smart-open>=1.8.1 in /usr/local/lib/python3.7/dist-packages (from gensim>=3.4.0->flair==0.6.1.post1->textattack) (5.0.0)\n",
            "Requirement already satisfied: joblib>=0.11 in /usr/local/lib/python3.7/dist-packages (from scikit-learn>=0.21.3->flair==0.6.1.post1->textattack) (1.0.1)\n",
            "Requirement already satisfied: overrides<4.0.0,>=3.0.0 in /usr/local/lib/python3.7/dist-packages (from konoha<5.0.0,>=4.0.0->flair==0.6.1.post1->textattack) (3.1.0)\n",
            "Requirement already satisfied: future in /usr/local/lib/python3.7/dist-packages (from hyperopt>=0.1.1->flair==0.6.1.post1->textattack) (0.16.0)\n",
            "Requirement already satisfied: pymongo in /usr/local/lib/python3.7/dist-packages (from hyperopt>=0.1.1->flair==0.6.1.post1->textattack) (3.11.3)\n",
            "Requirement already satisfied: networkx in /usr/local/lib/python3.7/dist-packages (from hyperopt>=0.1.1->flair==0.6.1.post1->textattack) (2.5.1)\n",
            "Requirement already satisfied: pyparsing!=2.0.4,!=2.1.2,!=2.1.6,>=2.0.1 in /usr/local/lib/python3.7/dist-packages (from matplotlib>=2.2.3->flair==0.6.1.post1->textattack) (2.4.7)\n",
            "Requirement already satisfied: cycler>=0.10 in /usr/local/lib/python3.7/dist-packages (from matplotlib>=2.2.3->flair==0.6.1.post1->textattack) (0.10.0)\n",
            "Requirement already satisfied: kiwisolver>=1.0.1 in /usr/local/lib/python3.7/dist-packages (from matplotlib>=2.2.3->flair==0.6.1.post1->textattack) (1.3.1)\n",
            "Requirement already satisfied: wrapt<2,>=1.10 in /usr/local/lib/python3.7/dist-packages (from deprecated>=1.2.4->flair==0.6.1.post1->textattack) (1.12.1)\n",
            "Requirement already satisfied: zipp>=0.5 in /usr/local/lib/python3.7/dist-packages (from importlib-metadata; python_version < \"3.8\"->transformers>=3.3.0->textattack) (3.4.1)\n",
            "Requirement already satisfied: click in /usr/local/lib/python3.7/dist-packages (from sacremoses->transformers>=3.3.0->textattack) (7.1.2)\n",
            "Requirement already satisfied: decorator<5,>=4.3 in /usr/local/lib/python3.7/dist-packages (from networkx->hyperopt>=0.1.1->flair==0.6.1.post1->textattack) (4.4.2)\n",
            "Requirement already up-to-date: gensim==4.0.0 in /usr/local/lib/python3.7/dist-packages (4.0.0)\n",
            "Requirement already satisfied, skipping upgrade: numpy>=1.11.3 in /usr/local/lib/python3.7/dist-packages (from gensim==4.0.0) (1.18.5)\n",
            "Requirement already satisfied, skipping upgrade: scipy>=0.18.1 in /usr/local/lib/python3.7/dist-packages (from gensim==4.0.0) (1.4.1)\n",
            "Requirement already satisfied, skipping upgrade: smart-open>=1.8.1 in /usr/local/lib/python3.7/dist-packages (from gensim==4.0.0) (5.0.0)\n",
            "Requirement already satisfied: python-Levenshtein in /usr/local/lib/python3.7/dist-packages (0.12.2)\n",
            "Requirement already satisfied: setuptools in /usr/local/lib/python3.7/dist-packages (from python-Levenshtein) (56.0.0)\n"
          ],
          "name": "stdout"
        }
      ]
    },
    {
      "cell_type": "code",
      "metadata": {
        "id": "XbSBo02xDGO2"
      },
      "source": [
        "# import gensim.downloader as api\n",
        "# corpus = api.load('text8')\n",
        "# from gensim.models.fasttext import FastText\n",
        "# model1 = FastText(corpus, sample = 0, sg = 1)"
      ],
      "execution_count": null,
      "outputs": []
    },
    {
      "cell_type": "code",
      "metadata": {
        "id": "jLiSrpmTErOs"
      },
      "source": [
        "# import gensim.downloader as api\n",
        "# corpus = api.load('text8')\n",
        "# from gensim.models.word2vec import Word2Vec\n",
        "# model2 = Word2Vec(corpus, sample = 0, sg = 1)"
      ],
      "execution_count": null,
      "outputs": []
    },
    {
      "cell_type": "code",
      "metadata": {
        "id": "ZCLiyaHYDBk1"
      },
      "source": [
        "from gensim.test.utils import get_tmpfile\n",
        "from gensim.models.fasttext import FastText\n",
        "#fname = get_tmpfile(\"/models/fasttext.model\") \n",
        "model1 = FastText.load(\"/content/drive/MyDrive/models/fasttext.model\") # Change this location"
      ],
      "execution_count": null,
      "outputs": []
    },
    {
      "cell_type": "code",
      "metadata": {
        "id": "e4jwSL5YDvPy"
      },
      "source": [
        "from gensim.test.utils import get_tmpfile\n",
        "from gensim.models.word2vec import Word2Vec\n",
        "#fname1 = get_tmpfile(\"/models/word2vec.model\") \n",
        "model2 = Word2Vec.load(\"/content/drive/MyDrive/models/word2vec.model\") # Change this location"
      ],
      "execution_count": null,
      "outputs": []
    },
    {
      "cell_type": "code",
      "metadata": {
        "id": "l1xXXw5tFbuM",
        "colab": {
          "base_uri": "https://localhost:8080/"
        },
        "outputId": "74a0ee0b-e402-4093-cbf7-7a26c738b8a8"
      },
      "source": [
        "print(model1.wv.most_similar('cat'))\n",
        "print(model2.wv.most_similar('cat'))"
      ],
      "execution_count": null,
      "outputs": [
        {
          "output_type": "stream",
          "text": [
            "[('bobcat', 0.759185791015625), ('dog', 0.7208123803138733), ('foxglove', 0.7110776901245117), ('pig', 0.7088143229484558), ('goose', 0.7069101333618164), ('cats', 0.702387273311615), ('beak', 0.7008379697799683), ('catfish', 0.6987316608428955), ('foxhound', 0.696578860282898), ('catnip', 0.6960986852645874)]\n",
            "[('dog', 0.7193913459777832), ('squirrel', 0.696162760257721), ('leopardus', 0.6945451498031616), ('prionailurus', 0.688106894493103), ('albino', 0.6880608201026917), ('bird', 0.6836060285568237), ('eared', 0.6803243160247803), ('rhinoceros', 0.6769237518310547), ('hyena', 0.6756084561347961), ('badger', 0.6752869486808777)]\n"
          ],
          "name": "stdout"
        }
      ]
    },
    {
      "cell_type": "code",
      "metadata": {
        "id": "QfecgI6BExUJ",
        "colab": {
          "base_uri": "https://localhost:8080/",
          "height": 614,
          "referenced_widgets": [
            "4e5edd71d0cd4947baf89e2927ede282",
            "66062303f606482dbce5abaa77caada4",
            "a5144b348e664ba4b04955edcfcc8714",
            "3d777eba31cf4656968bc86d83de4624",
            "fe090a2a95354b51819f2b0d4ae56c96",
            "b44a09858e014663b6fff7675afe1e67",
            "f63d7ca99b724b9dbe26026968e2b02d",
            "9907832cc48448e78ed5fe6b9517fb87",
            "bf84e1daee944dd5b76021e204a19d20",
            "9ef456e3dec14e458d1955096a9ca114",
            "349b6c930a2d4f2097b57865fb14a373",
            "099365c40f654c6b960ed738cb0a2b95",
            "d5132d6f0af24e7ebfe14050dacdc4aa",
            "315d3326933f436aa8f2065578704020",
            "e410a5787eb343cab41c46d2d6f8e75c",
            "497a1e3158684524bffc61692937483b",
            "fb28d4c299a44c599884592affd7a809",
            "98ca3bee67db4377862988861f3ab42d",
            "c791ad791f2149328feb511d3b7bf48f",
            "a7809ba31f2d4c0dac4db2be3566bf70",
            "9e530ef0c8a94fa3a2be4177712ddd35",
            "d5660e35429342fd9d4958ed8fad6794",
            "a78e7df5f257407d9eb4cc55c7a8b886",
            "ee4b80a80c2c46678b273abc1ccf5251",
            "23a5926daa904d61844b6ef432ff40ce",
            "d7767d620b66401f97af833ef6f66577",
            "97923a3318fc4cb5bad37026de757e7d",
            "470ac2eb556844c589b14fd99e9f3e20",
            "7e6042d5fbd642d984606240cb07667f",
            "722336cc598c4e11a1aa0e9bf6be0fac",
            "7f713cecda194e98ae395e28fa593532",
            "258b96338acc4624a96263310064b9c3",
            "c736873b32634e88b26c5612902a0957",
            "ce763580e92546fa9a3356be3d6946d6",
            "eed370877c5c4bbe8b05081e63d05653",
            "6979d8ad3d794797909f824d1aa2af88",
            "88c5a70cdd7d40d3b6eb15b77f51dcf5",
            "fff37ee64e0f423eb716deb325d60669",
            "4066a06f6cdc46b08bb73490182242ed",
            "606535253a944ebb966ff150ab5d56b4"
          ]
        },
        "outputId": "2d380fca-847f-4f3a-8bc1-60c8fe81dbf5"
      },
      "source": [
        "# Import the model\n",
        "import transformers\n",
        "from textattack.models.tokenizers import AutoTokenizer\n",
        "from textattack.models.wrappers import HuggingFaceModelWrapper\n",
        "\n",
        "model = transformers.AutoModelForSequenceClassification.from_pretrained(\"textattack/bert-base-uncased-yelp-polarity\")\n",
        "tokenizer = AutoTokenizer(\"textattack/bert-base-uncased-yelp-polarity\")\n",
        "# Change these\n",
        "\n",
        "model_wrapper = HuggingFaceModelWrapper(model, tokenizer)"
      ],
      "execution_count": null,
      "outputs": [
        {
          "output_type": "stream",
          "text": [
            "\u001b[34;1mtextattack\u001b[0m: Updating TextAttack package dependencies.\n",
            "\u001b[34;1mtextattack\u001b[0m: Downloading NLTK required packages.\n"
          ],
          "name": "stderr"
        },
        {
          "output_type": "stream",
          "text": [
            "[nltk_data] Downloading package averaged_perceptron_tagger to\n",
            "[nltk_data]     /root/nltk_data...\n",
            "[nltk_data]   Unzipping taggers/averaged_perceptron_tagger.zip.\n",
            "[nltk_data] Downloading package stopwords to /root/nltk_data...\n",
            "[nltk_data]   Unzipping corpora/stopwords.zip.\n",
            "[nltk_data] Downloading package omw to /root/nltk_data...\n",
            "[nltk_data]   Unzipping corpora/omw.zip.\n",
            "[nltk_data] Downloading package universal_tagset to /root/nltk_data...\n",
            "[nltk_data]   Unzipping taggers/universal_tagset.zip.\n",
            "[nltk_data] Downloading package wordnet to /root/nltk_data...\n",
            "[nltk_data]   Unzipping corpora/wordnet.zip.\n",
            "[nltk_data] Downloading package punkt to /root/nltk_data...\n",
            "[nltk_data]   Unzipping tokenizers/punkt.zip.\n"
          ],
          "name": "stdout"
        },
        {
          "output_type": "stream",
          "text": [
            "\u001b[34;1mtextattack\u001b[0m: Downloading https://textattack.s3.amazonaws.com/word_embeddings/paragramcf.\n",
            "100%|██████████| 481M/481M [00:40<00:00, 11.8MB/s]\n",
            "\u001b[34;1mtextattack\u001b[0m: Unzipping file /root/.cache/textattack/tmp0mok5_5h.zip to /root/.cache/textattack/word_embeddings/paragramcf.\n",
            "\u001b[34;1mtextattack\u001b[0m: Successfully saved word_embeddings/paragramcf to cache.\n"
          ],
          "name": "stderr"
        },
        {
          "output_type": "display_data",
          "data": {
            "application/vnd.jupyter.widget-view+json": {
              "model_id": "4e5edd71d0cd4947baf89e2927ede282",
              "version_minor": 0,
              "version_major": 2
            },
            "text/plain": [
              "HBox(children=(FloatProgress(value=0.0, description='Downloading', max=520.0, style=ProgressStyle(description_…"
            ]
          },
          "metadata": {
            "tags": []
          }
        },
        {
          "output_type": "stream",
          "text": [
            "\n"
          ],
          "name": "stdout"
        },
        {
          "output_type": "display_data",
          "data": {
            "application/vnd.jupyter.widget-view+json": {
              "model_id": "bf84e1daee944dd5b76021e204a19d20",
              "version_minor": 0,
              "version_major": 2
            },
            "text/plain": [
              "HBox(children=(FloatProgress(value=0.0, description='Downloading', max=437985387.0, style=ProgressStyle(descri…"
            ]
          },
          "metadata": {
            "tags": []
          }
        },
        {
          "output_type": "stream",
          "text": [
            "\n"
          ],
          "name": "stdout"
        },
        {
          "output_type": "display_data",
          "data": {
            "application/vnd.jupyter.widget-view+json": {
              "model_id": "fb28d4c299a44c599884592affd7a809",
              "version_minor": 0,
              "version_major": 2
            },
            "text/plain": [
              "HBox(children=(FloatProgress(value=0.0, description='Downloading', max=231508.0, style=ProgressStyle(descripti…"
            ]
          },
          "metadata": {
            "tags": []
          }
        },
        {
          "output_type": "stream",
          "text": [
            "\n"
          ],
          "name": "stdout"
        },
        {
          "output_type": "display_data",
          "data": {
            "application/vnd.jupyter.widget-view+json": {
              "model_id": "23a5926daa904d61844b6ef432ff40ce",
              "version_minor": 0,
              "version_major": 2
            },
            "text/plain": [
              "HBox(children=(FloatProgress(value=0.0, description='Downloading', max=112.0, style=ProgressStyle(description_…"
            ]
          },
          "metadata": {
            "tags": []
          }
        },
        {
          "output_type": "stream",
          "text": [
            "\n"
          ],
          "name": "stdout"
        },
        {
          "output_type": "display_data",
          "data": {
            "application/vnd.jupyter.widget-view+json": {
              "model_id": "c736873b32634e88b26c5612902a0957",
              "version_minor": 0,
              "version_major": 2
            },
            "text/plain": [
              "HBox(children=(FloatProgress(value=0.0, description='Downloading', max=48.0, style=ProgressStyle(description_w…"
            ]
          },
          "metadata": {
            "tags": []
          }
        },
        {
          "output_type": "stream",
          "text": [
            "\n"
          ],
          "name": "stdout"
        }
      ]
    },
    {
      "cell_type": "markdown",
      "metadata": {
        "id": "HPj8fvaOFDAD"
      },
      "source": [
        "Framing fasttext attack"
      ]
    },
    {
      "cell_type": "code",
      "metadata": {
        "id": "SHezFH9jE3Z2"
      },
      "source": [
        "from textattack.transformations import WordSwap\n",
        "\n",
        "class Swapper(WordSwap): # For fasttext\n",
        "    \"\"\" Transforms an input by replacing any word with its most similar counterpart\n",
        "    \"\"\"\n",
        "\n",
        "    # We don't need a constructor, since our class doesn't require any parameters.\n",
        "\n",
        "    def _get_replacement_words(self, word):\n",
        "        for i in range(10):\n",
        "            if word.lower() in model1.wv.most_similar(word)[i][0].lower():\n",
        "                continue # Don't return the exact word\n",
        "            elif word.isupper():\n",
        "                return [model1.wv.most_similar(word)[i][0].upper()] # Preserving case\n",
        "            elif word[0].isupper():\n",
        "                return [model1.wv.most_similar(word)[i][0].capitalize()] # Preserving Capitalization in words\n",
        "            else:\n",
        "                return [model1.wv.most_similar(word)[i][0]]\n",
        "            \n",
        "        return [model1.wv.most_similar(word)[0][0]]"
      ],
      "execution_count": null,
      "outputs": []
    },
    {
      "cell_type": "code",
      "metadata": {
        "id": "GHt_A9Sril_j"
      },
      "source": [
        "def printexample(attack):\n",
        "  print(attack)\n",
        "  from collections import deque\n",
        "\n",
        "  import textattack\n",
        "  import tqdm\n",
        "  import time\n",
        "  from IPython.display import display, HTML\n",
        "  num_examples = 25\n",
        "  num_remaining_attacks = num_examples\n",
        "  pbar = tqdm.tqdm(total=num_remaining_attacks, smoothing=0)\n",
        "\n",
        "  worklist = deque(range(0, num_examples))\n",
        "  worklist_tail = worklist[-1]\n",
        "\n",
        "  attack_log_manager = textattack.loggers.AttackLogManager()\n",
        "\n",
        "  load_time = time.time()\n",
        "        \n",
        "  num_results = 0\n",
        "  num_failures = 0\n",
        "  num_successes = 0\n",
        "  for result in attack.attack_dataset(dataset, indices=worklist):\n",
        "      result_html_str = result.__str__(color_method=\"html\").replace(\"\\n\\n\", \"<br>\")\n",
        "      display(HTML(result_html_str))\n",
        "      attack_log_manager.log_result(result)\n",
        "            \n",
        "      if not isinstance(result, textattack.attack_results.SkippedAttackResult):\n",
        "          pbar.update(1)\n",
        "      else:\n",
        "          worklist_tail += 1\n",
        "          pbar.update(1)\n",
        "          worklist.append(worklist_tail)\n",
        "\n",
        "      num_results += 1\n",
        "\n",
        "      if (type(result) == textattack.attack_results.SuccessfulAttackResult\n",
        "        or type(result) == textattack.attack_results.MaximizedAttackResult):\n",
        "          num_successes += 1\n",
        "                \n",
        "      if type(result) == textattack.attack_results.FailedAttackResult:\n",
        "          num_failures += 1\n",
        "      pbar.set_description(\n",
        "          \"[Succeeded / Failed / Total] {} / {} / {}\".format(\n",
        "            num_successes, num_failures, num_results\n",
        "        )\n",
        "      )\n",
        "\n",
        "  pbar.close()\n",
        "\n",
        "  attack_log_manager.enable_stdout()\n",
        "  attack_log_manager.log_summary()\n",
        "  attack_log_manager.flush()\n",
        "        \n",
        "  textattack.shared.logger.info(f\"Attack time: {time.time() - load_time}s\")"
      ],
      "execution_count": null,
      "outputs": []
    },
    {
      "cell_type": "code",
      "metadata": {
        "id": "Sm04Ri8WFGHy",
        "colab": {
          "base_uri": "https://localhost:8080/"
        },
        "outputId": "11cd135c-dfc0-4e27-8713-735b656d6d79"
      },
      "source": [
        "from textattack.search_methods import GreedyWordSwapWIR\n",
        "from textattack.constraints.pre_transformation import RepeatModification, StopwordModification\n",
        "from textattack.constraints.overlap import MaxWordsPerturbed\n",
        "from textattack.shared import Attack\n",
        "from textattack.goal_functions import UntargetedClassification\n",
        "from textattack.datasets import HuggingFaceDataset\n",
        "\n",
        "# We're going to use our word swap class as the attack transformation.\n",
        "transformation = Swapper()\n",
        "\n",
        "constraints = [RepeatModification(),\n",
        "               StopwordModification(),MaxWordsPerturbed(max_percent=0.3)]\n",
        "\n",
        "search_method = GreedyWordSwapWIR(wir_method='weighted-saliency')\n",
        "\n",
        "goal_function = UntargetedClassification(model_wrapper)\n",
        "\n",
        "# Now, let's make the attack from the 4 components:\n",
        "attack = Attack(goal_function, constraints, transformation, search_method)\n",
        "\n",
        "dataset = HuggingFaceDataset(\"yelp_polarity\", None, \"test\") # Change the dataset"
      ],
      "execution_count": null,
      "outputs": [
        {
          "output_type": "stream",
          "text": [
            "\u001b[34;1mtextattack\u001b[0m: Unknown if model of class <class 'transformers.models.bert.modeling_bert.BertForSequenceClassification'> compatible with goal function <class 'textattack.goal_functions.classification.untargeted_classification.UntargetedClassification'>.\n",
            "Reusing dataset yelp_polarity (/root/.cache/huggingface/datasets/yelp_polarity/plain_text/1.0.0/591dc79cb354c6f051b5bf61c77a446205c98156e01669c6218c9bd6aa15f581)\n",
            "\u001b[34;1mtextattack\u001b[0m: Loading \u001b[94mdatasets\u001b[0m dataset \u001b[94myelp_polarity\u001b[0m, split \u001b[94mtest\u001b[0m.\n"
          ],
          "name": "stderr"
        }
      ]
    },
    {
      "cell_type": "code",
      "metadata": {
        "id": "a578fNbVFII3",
        "colab": {
          "base_uri": "https://localhost:8080/"
        },
        "outputId": "9d90396d-65a7-4b9c-85c9-873e29026a1f"
      },
      "source": [
        "print(attack)"
      ],
      "execution_count": null,
      "outputs": [
        {
          "output_type": "stream",
          "text": [
            "Attack(\n",
            "  (search_method): GreedyWordSwapWIR(\n",
            "    (wir_method):  weighted-saliency\n",
            "  )\n",
            "  (goal_function):  UntargetedClassification\n",
            "  (transformation):  Swapper\n",
            "  (constraints): \n",
            "    (0): MaxWordsPerturbed(\n",
            "        (max_percent):  0.3\n",
            "        (compare_against_original):  True\n",
            "      )\n",
            "    (1): RepeatModification\n",
            "    (2): StopwordModification\n",
            "  (is_black_box):  True\n",
            ")\n"
          ],
          "name": "stdout"
        }
      ]
    },
    {
      "cell_type": "code",
      "metadata": {
        "id": "fClGtuFxFM5f",
        "colab": {
          "base_uri": "https://localhost:8080/",
          "height": 1000
        },
        "outputId": "e4ffb227-eb9e-4ff3-a9e2-9b5fdc727af4"
      },
      "source": [
        "printexample(attack)"
      ],
      "execution_count": null,
      "outputs": [
        {
          "output_type": "stream",
          "text": [
            "\r  0%|          | 0/25 [00:00<?, ?it/s]"
          ],
          "name": "stderr"
        },
        {
          "output_type": "stream",
          "text": [
            "Attack(\n",
            "  (search_method): GreedyWordSwapWIR(\n",
            "    (wir_method):  weighted-saliency\n",
            "  )\n",
            "  (goal_function):  UntargetedClassification\n",
            "  (transformation):  Swapper\n",
            "  (constraints): \n",
            "    (0): MaxWordsPerturbed(\n",
            "        (max_percent):  0.3\n",
            "        (compare_against_original):  True\n",
            "      )\n",
            "    (1): RepeatModification\n",
            "    (2): StopwordModification\n",
            "  (is_black_box):  True\n",
            ")\n"
          ],
          "name": "stdout"
        },
        {
          "output_type": "display_data",
          "data": {
            "text/html": [
              "<font color = green>2 (100%)</font> --> <font color = red>1 (61%)</font><br>Contrary to other reviews, I have <font color = green>zero</font> complaints about the service or the prices. I have been getting tire service here for the past 5 years now, and compared to my experience with places like Pep Boys, these <font color = green>guys</font> are experienced and <font color = green>know</font> what they're doing. \\nAlso, this is one place that I do not feel like I am being taken advantage of, just because of my gender. Other <font color = green>auto</font> mechanics have been notorious for capitalizing on my ignorance of cars, and have sucked my bank account dry. But here, my service and road coverage has all been <font color = green>well</font> explained - and let up to me to <font color = green>decide</font>. \\nAnd they just renovated the <font color = green>waiting</font> room. <font color = green>It</font> looks a lot better than it did in previous years.<br>Contrary to other reviews, I have <font color = red>five</font> complaints about the service or the prices. I have been getting tire service here for the past 5 years now, and compared to my experience with places like Pep Boys, these <font color = red>goodnight</font> are experienced and <font color = red>think</font> what they're doing. \\nAlso, this is one place that I do not feel like I am being taken advantage of, just because of my gender. Other <font color = red>theft</font> mechanics have been notorious for capitalizing on my ignorance of cars, and have sucked my bank account dry. But here, my service and road coverage has all been <font color = red>such</font> explained - and let up to me to <font color = red>deciding</font>. \\nAnd they just renovated the <font color = red>baiting</font> room. <font color = red>Hibernian</font> looks a lot better than it did in previous years."
            ],
            "text/plain": [
              "<IPython.core.display.HTML object>"
            ]
          },
          "metadata": {
            "tags": []
          }
        },
        {
          "output_type": "stream",
          "text": [
            "[Succeeded / Failed / Total] 1 / 0 / 1:   4%|▍         | 1/25 [00:07<03:10,  7.93s/it]"
          ],
          "name": "stderr"
        },
        {
          "output_type": "display_data",
          "data": {
            "text/html": [
              "<font color = red>1 (100%)</font> --> <font color = green>2 (76%)</font><br>Last <font color = red>summer</font> I had an <font color = red>appointment</font> to get <font color = red>new</font> <font color = red>tires</font> and had to wait a super <font color = red>long</font> <font color = red>time</font>. I <font color = red>also</font> <font color = red>went</font> in this week for them to <font color = red>fix</font> a minor problem with a tire they <font color = red>put</font> on. They \\\"\"<font color = red>fixed</font>\\\"\" it for free, and the very next morning I had the same issue. I called to complain, and the \\\"\"<font color = red>manager</font>\\\"\" didn't <font color = red>even</font> apologize!!! So <font color = red>frustrated</font>. Never going <font color = red>back</font>.  They seem overpriced, too.<br>Last <font color = green>winter</font> I had an <font color = green>appointing</font> to get <font color = green>york</font> <font color = green>tire</font> and had to wait a super <font color = green>short</font> <font color = green>period</font>. I <font color = green>sometimes</font> <font color = green>started</font> in this week for them to <font color = green>restart</font> a minor problem with a tire they <font color = green>brought</font> on. They \\\"\"<font color = green>rotational</font>\\\"\" it for free, and the very next morning I had the same issue. I called to complain, and the \\\"\"<font color = green>coach</font>\\\"\" didn't <font color = green>indeed</font> apologize!!! So <font color = green>castrated</font>. Never going <font color = green>down</font>.  They seem overpriced, too."
            ],
            "text/plain": [
              "<IPython.core.display.HTML object>"
            ]
          },
          "metadata": {
            "tags": []
          }
        },
        {
          "output_type": "stream",
          "text": [
            "[Succeeded / Failed / Total] 2 / 0 / 2:   8%|▊         | 2/25 [00:14<02:43,  7.10s/it]"
          ],
          "name": "stderr"
        },
        {
          "output_type": "display_data",
          "data": {
            "text/html": [
              "<font color = green>2 (100%)</font> --> <font color = red>1 (71%)</font><br>Friendly staff, same <font color = green>starbucks</font> fair you <font color = green>get</font> <font color = green>anywhere</font> else.  Sometimes the <font color = green>lines</font> can <font color = green>get</font> long.<br>Friendly staff, same <font color = red>starbuck</font> fair you <font color = red>give</font> <font color = red>nowhere</font> else.  Sometimes the <font color = red>linens</font> can <font color = red>give</font> long."
            ],
            "text/plain": [
              "<IPython.core.display.HTML object>"
            ]
          },
          "metadata": {
            "tags": []
          }
        },
        {
          "output_type": "stream",
          "text": [
            "[Succeeded / Failed / Total] 3 / 0 / 3:  12%|█▏        | 3/25 [00:15<01:54,  5.19s/it]"
          ],
          "name": "stderr"
        },
        {
          "output_type": "display_data",
          "data": {
            "text/html": [
              "<font color = red>1 (99%)</font> --> <font color = green>2 (86%)</font><br>The food is good. <font color = red>Unfortunately</font> the service is very hit or miss. The main <font color = red>issue</font> seems to be with the kitchen, the waiters and waitresses are often very <font color = red>apologetic</font> for the long waits and it's pretty obvious that some of them avoid the tables after taking the initial order to avoid hearing complaints.<br>The food is good. <font color = green>Fortunately</font> the service is very hit or miss. The main <font color = green>issuance</font> seems to be with the kitchen, the waiters and waitresses are often very <font color = green>apology</font> for the long waits and it's pretty obvious that some of them avoid the tables after taking the initial order to avoid hearing complaints."
            ],
            "text/plain": [
              "<IPython.core.display.HTML object>"
            ]
          },
          "metadata": {
            "tags": []
          }
        },
        {
          "output_type": "stream",
          "text": [
            "[Succeeded / Failed / Total] 4 / 0 / 4:  16%|█▌        | 4/25 [00:18<01:38,  4.69s/it]"
          ],
          "name": "stderr"
        },
        {
          "output_type": "display_data",
          "data": {
            "text/html": [
              "<font color = green>2 (100%)</font> --> <font color = red>[FAILED]</font><br>Even when we didn't have a car Filene's Basement was worth the bus trip to the Waterfront. I always find something (usually I find 3-4 things and spend about $60) and better still, I am always still wearing the clothes and shoes 3 months later. \\n\\nI kind of suspect this is the best shopping in Pittsburgh; it's much better than the usual department stores, better than Marshall's and TJ Maxx and better than the Saks downtown, even when it has a sale. Selection, bargains AND quality.\\n\\nI like this Filene's better than Gabriel Brothers, which are harder to get to. Gabriel Brothers are a real discount shopper's challenge and I'm afraid I didn't live in Pittsburgh long enough to develop the necessary skills . . . Filene's was still up and running in June 2007 when I left town."
            ],
            "text/plain": [
              "<IPython.core.display.HTML object>"
            ]
          },
          "metadata": {
            "tags": []
          }
        },
        {
          "output_type": "stream",
          "text": [
            "[Succeeded / Failed / Total] 4 / 1 / 5:  20%|██        | 5/25 [00:32<02:10,  6.51s/it]"
          ],
          "name": "stderr"
        },
        {
          "output_type": "display_data",
          "data": {
            "text/html": [
              "<font color = green>2 (100%)</font> --> <font color = red>1 (64%)</font><br>Picture Billy <font color = green>Joel's</font> \\\"\"Piano Man\\\"\" DOUBLED mixed with beer, a rowdy crowd, and comedy - Welcome to Sing Sing!  A unique musical experience found in Homestead.\\n\\nIf you're looking to grab a bite to eat or a beer, come on in!  Serving food and brews from Rock Bottom Brewery, Sing Sing keeps your tummy full while you listen to two (or more) amazingly talented pianists take your musical requests.  They'll play <font color = green>anything</font> you'd <font color = green>like</font>, for tips of course.  Wanting to hear Britney Spears?  Toto?  Duran Duran?  Yep, they play that... new or old.\\n\\nThe crowd makes the show, so make sure you come ready for a good time.  If the crowd is dead, it's harder for the Guys to get a <font color = green>reaction</font>.  <font color = green>If</font> you're wanting to have some fun, it can be a GREAT time!  It's the perfect place for Birthday parties - especially if you want to embarrass a friend.  The guys will bring them up to the pianos and perform a little ditty.  For being a good sport, you <font color = green>get</font> the <font color = green>coveted</font> Sing Sing bumper sticker.  Now who wouldn't want that?\\n\\nDueling Pianos and brews... time to Shut Up & Sing Sing!<br>Picture Billy <font color = red>Hyatt</font> \\\"\"Piano Man\\\"\" DOUBLED mixed with beer, a rowdy crowd, and comedy - Welcome to Sing Sing!  A unique musical experience found in Homestead.\\n\\nIf you're looking to grab a bite to eat or a beer, come on in!  Serving food and brews from Rock Bottom Brewery, Sing Sing keeps your tummy full while you listen to two (or more) amazingly talented pianists take your musical requests.  They'll play <font color = red>nothing</font> you'd <font color = red>resembling</font>, for tips of course.  Wanting to hear Britney Spears?  Toto?  Duran Duran?  Yep, they play that... new or old.\\n\\nThe crowd makes the show, so make sure you come ready for a good time.  If the crowd is dead, it's harder for the Guys to get a <font color = red>reacting</font>.  <font color = red>Sun</font> you're wanting to have some fun, it can be a GREAT time!  It's the perfect place for Birthday parties - especially if you want to embarrass a friend.  The guys will bring them up to the pianos and perform a little ditty.  For being a good sport, you <font color = red>give</font> the <font color = red>riveted</font> Sing Sing bumper sticker.  Now who wouldn't want that?\\n\\nDueling Pianos and brews... time to Shut Up & Sing Sing!"
            ],
            "text/plain": [
              "<IPython.core.display.HTML object>"
            ]
          },
          "metadata": {
            "tags": []
          }
        },
        {
          "output_type": "stream",
          "text": [
            "[Succeeded / Failed / Total] 5 / 1 / 6:  24%|██▍       | 6/25 [00:46<02:25,  7.67s/it]"
          ],
          "name": "stderr"
        },
        {
          "output_type": "display_data",
          "data": {
            "text/html": [
              "<font color = red>1 (100%)</font> --> <font color = red>[FAILED]</font><br>Mediocre service. COLD food! Our food waited so long the lettuce & pickles wilted. Bland food. Crazy overpriced. Long waits in the arcade. 1 beer per hour maximum.  Avoid at all costs. Fair manager."
            ],
            "text/plain": [
              "<IPython.core.display.HTML object>"
            ]
          },
          "metadata": {
            "tags": []
          }
        },
        {
          "output_type": "stream",
          "text": [
            "[Succeeded / Failed / Total] 5 / 2 / 7:  28%|██▊       | 7/25 [00:49<02:08,  7.13s/it]"
          ],
          "name": "stderr"
        },
        {
          "output_type": "display_data",
          "data": {
            "text/html": [
              "<font color = red>1 (100%)</font> --> <font color = green>2 (62%)</font><br><font color = red>Ok</font>! Let me tell you about my bad <font color = red>experience</font> first. I went to D&B last night for a post wedding party - which, side note, is a <font color = red>great</font> idea!\\n\\nIt was around midnight and the bar wasn't really populated. There were three bartenders and only one was actually making rounds to see if anyone needed anything. The two other bartenders were chatting on the far side of the bar that no one was sitting at. Kind of counter productive if you ask me. \\n\\nI stood there for about 5 minutes, which for a busy bar is fine but when I am the only one with my card out then, it just seems a little ridiculous. I made eye contact with the one girl twice and gave her a smile and she literally turned away. I finally had to walk to them to get their attention.  I was standing right in front of them smiling and they didn't ask if i need anything. I finally said, \\\"\"Are you working?\\\"\" and they gave each other a weird look. I felt like i was the crazy one. I asked for a beer/got the beer.\\n\\nIn between that time, the other bartender brought food over and set it down. She took a fry from the plate (right in front of me) and then served it to someone on the other side of the bar. What the hell! I felt like i was in some grimy bar in out in the sticks - not an established D&B. \\n\\nI was just really turned off from that experience. \\n\\nThe good is that D&B provides a different type of entertainment when you want to mix things up. I remember going here with my grandparents when I was a kid and it was the best treat ever! We would eat at the restaurant and then spend hours playing games. This place holds some really good memories for me. \\n\\nIt's a shame that my experience last night has spoiled the high standards I held for it.<br><font color = green>Naval</font>! Let me tell you about my bad <font color = green>experiencing</font> first. I went to D&B last night for a post wedding party - which, side note, is a <font color = green>greasy</font> idea!\\n\\nIt was around midnight and the bar wasn't really populated. There were three bartenders and only one was actually making rounds to see if anyone needed anything. The two other bartenders were chatting on the far side of the bar that no one was sitting at. Kind of counter productive if you ask me. \\n\\nI stood there for about 5 minutes, which for a busy bar is fine but when I am the only one with my card out then, it just seems a little ridiculous. I made eye contact with the one girl twice and gave her a smile and she literally turned away. I finally had to walk to them to get their attention.  I was standing right in front of them smiling and they didn't ask if i need anything. I finally said, \\\"\"Are you working?\\\"\" and they gave each other a weird look. I felt like i was the crazy one. I asked for a beer/got the beer.\\n\\nIn between that time, the other bartender brought food over and set it down. She took a fry from the plate (right in front of me) and then served it to someone on the other side of the bar. What the hell! I felt like i was in some grimy bar in out in the sticks - not an established D&B. \\n\\nI was just really turned off from that experience. \\n\\nThe good is that D&B provides a different type of entertainment when you want to mix things up. I remember going here with my grandparents when I was a kid and it was the best treat ever! We would eat at the restaurant and then spend hours playing games. This place holds some really good memories for me. \\n\\nIt's a shame that my experience last night has spoiled the high standards I held for it."
            ],
            "text/plain": [
              "<IPython.core.display.HTML object>"
            ]
          },
          "metadata": {
            "tags": []
          }
        },
        {
          "output_type": "stream",
          "text": [
            "[Succeeded / Failed / Total] 6 / 2 / 8:  32%|███▏      | 8/25 [01:12<02:33,  9.06s/it]"
          ],
          "name": "stderr"
        },
        {
          "output_type": "display_data",
          "data": {
            "text/html": [
              "<font color = red>1 (100%)</font> --> <font color = green>2 (99%)</font><br>I used to <font color = red>love</font> D&B when it <font color = red>first</font> <font color = red>opened</font> in the Waterfront, but it has <font color = red>gone</font> down <font color = red>hill</font> over the years. The <font color = red>games</font> are not as fun and do not <font color = red>give</font> you as <font color = red>many</font> <font color = red>tickets</font> and the <font color = red>prizes</font> have gotten cheaper in quality. It takes a <font color = red>whole</font> heck of a lot of tickets for you to <font color = red>even</font> get a pencil! The <font color = red>atmosphere</font> is <font color = red>okay</font> but it used to be so <font color = red>much</font> better with the funnest <font color = red>games</font> and diverse groups of people! Now, it is <font color = red>run</font> down and <font color = red>many</font> of the <font color = red>games</font> are app related <font color = red>games</font> (Fruit Ninja) and 3D <font color = red>Experience</font> rides. With such \\\"\"<font color = red>games</font>\\\"\", you <font color = red>can't</font> <font color = red>even</font> earn <font color = red>tickets</font> and they <font color = red>take</font> a lot of <font color = red>tokens</font>! Last <font color = red>time</font> I <font color = red>went</font>, <font color = red>back</font> in the winter, <font color = red>many</font> of the <font color = red>games</font> were <font color = red>broken</font>, which made for a <font color = red>negative</font> player experience. I would <font color = red>go</font> to D&B to <font color = red>play</font> some games again in the future, but it is no longer <font color = red>one</font> of my favorite places to go due to the decline of fun games where you can earn <font color = red>tickets</font>.<br>I used to <font color = green>dreamy</font> D&B when it <font color = green>last</font> <font color = green>opens</font> in the Waterfront, but it has <font color = green>fallen</font> down <font color = green>clifton</font> over the years. The <font color = green>game</font> are not as fun and do not <font color = green>make</font> you as <font color = green>some</font> <font color = green>ticket</font> and the <font color = green>prize</font> have gotten cheaper in quality. It takes a <font color = green>entire</font> heck of a lot of tickets for you to <font color = green>indeed</font> get a pencil! The <font color = green>atmospheric</font> is <font color = green>anymore</font> but it used to be so <font color = green>considerably</font> better with the funnest <font color = green>game</font> and diverse groups of people! Now, it is <font color = green>driveway</font> down and <font color = green>some</font> of the <font color = green>game</font> are app related <font color = green>game</font> (Fruit Ninja) and 3D <font color = green>Experiencing</font> rides. With such \\\"\"<font color = green>game</font>\\\"\", you <font color = green>canr</font> <font color = green>indeed</font> earn <font color = green>ticket</font> and they <font color = green>give</font> a lot of <font color = green>shuffles</font>! Last <font color = green>period</font> I <font color = green>started</font>, <font color = green>down</font> in the winter, <font color = green>some</font> of the <font color = green>game</font> were <font color = green>woken</font>, which made for a <font color = green>positive</font> player experience. I would <font color = green>get</font> to D&B to <font color = green>plays</font> some games again in the future, but it is no longer <font color = green>nine</font> of my favorite places to go due to the decline of fun games where you can earn <font color = green>ticket</font>."
            ],
            "text/plain": [
              "<IPython.core.display.HTML object>"
            ]
          },
          "metadata": {
            "tags": []
          }
        },
        {
          "output_type": "stream",
          "text": [
            "[Succeeded / Failed / Total] 7 / 2 / 9:  36%|███▌      | 9/25 [01:26<02:33,  9.61s/it]"
          ],
          "name": "stderr"
        },
        {
          "output_type": "display_data",
          "data": {
            "text/html": [
              "<font color = green>2 (100%)</font> --> <font color = red>1 (59%)</font><br>Like any Barnes & Noble, it has a nice comfy cafe, and a <font color = green>large</font> selection of <font color = green>books</font>.  <font color = green>The</font> staff is very <font color = green>friendly</font> and helpful.  They stock a decent selection, and the prices are pretty reasonable.  Obviously it's hard for them to compete with Amazon.  However since all the small shop bookstores are gone, it's <font color = green>nice</font> to <font color = green>walk</font> into one every once in a while.<br>Like any Barnes & Noble, it has a nice comfy cafe, and a <font color = red>small</font> selection of <font color = red>reprints</font>.  <font color = red>Gauche</font> staff is very <font color = red>friendliness</font> and helpful.  They stock a decent selection, and the prices are pretty reasonable.  Obviously it's hard for them to compete with Amazon.  However since all the small shop bookstores are gone, it's <font color = red>loin</font> to <font color = red>shook</font> into one every once in a while."
            ],
            "text/plain": [
              "<IPython.core.display.HTML object>"
            ]
          },
          "metadata": {
            "tags": []
          }
        },
        {
          "output_type": "stream",
          "text": [
            "[Succeeded / Failed / Total] 8 / 2 / 10:  40%|████      | 10/25 [01:30<02:16,  9.08s/it]"
          ],
          "name": "stderr"
        },
        {
          "output_type": "display_data",
          "data": {
            "text/html": [
              "<font color = red>1 (100%)</font> --> <font color = red>[FAILED]</font><br>Meh, I've experienced better is an understatement.\\n\\nFriday's is like the \\\"\"fine dining chain\\\"\" for every yinzer in Pittsburgh...\\n\\n1.  When we were seated, it was quick which was a surprise.  Somehow this restaurant gets packed and I never understand why.  I was happy about that.\\n2.  I ordered one of their \\\"\"skinny margaritas\\\"\", blackberry to be exact.  It was a nice size, however, at $6.00/pop, that was half of my food bill.\\n3.  The waitress started off attentive, but after our food came out she was gone.  I ordered a turkey burger with pickle and mustard.  Loaded mashed potato on the side because I wanted heartburn ha!\\n4.  Food came.  My burger had lettuce on it only.  Waitress was supposed to go and get our next round of drinks.  I had to wait to ask for my pickle.\\n5.  The loaded potatoes were more like rubber than potatoes and not what I was expecting.  Disappointment.\\n6.  The waitress then went into oblivion and only returned with our check.  \\n\\nNever again will I eat at Friday's.  I will, however, go should a happy hour arise..."
            ],
            "text/plain": [
              "<IPython.core.display.HTML object>"
            ]
          },
          "metadata": {
            "tags": []
          }
        },
        {
          "output_type": "stream",
          "text": [
            "[Succeeded / Failed / Total] 8 / 3 / 11:  44%|████▍     | 11/25 [01:49<02:19,  9.96s/it]"
          ],
          "name": "stderr"
        },
        {
          "output_type": "display_data",
          "data": {
            "text/html": [
              "<font color = green>2 (100%)</font> --> <font color = red>1 (97%)</font><br>Unos has been around for ever, & I feel <font color = green>like</font> this restaurant chain peak in popularity in the 80's. Honestly the decor inside still kind of looks 80s to me even though its nice with sleek booth and exposed brick.\\n\\nIf you haven't died and he recently I ordered you to come back and have a meal here again because honestly the food is really quite <font color = green>good</font>!\\n\\nThey have the best chicken salad wrap ever! I love that rap so much I want agreed to walk the south side River Trail from where the Steelers practice all the way to the damn waterfront just because I knew that I could convince my boyfriend to go to Unos with me for lunch.  Full disclosure:  I made him call is a cab and we took a taxi back to the parking lot after lunch.\\n\\nListen... <font color = green>The</font> food and pizza and service are very <font color = green>good</font>, surprisingly so! I don't know why this place is not busier but next time you're down at the Waterfront please do consider dining here!<br>Unos has been around for ever, & I feel <font color = red>resembling</font> this restaurant chain peak in popularity in the 80's. Honestly the decor inside still kind of looks 80s to me even though its nice with sleek booth and exposed brick.\\n\\nIf you haven't died and he recently I ordered you to come back and have a meal here again because honestly the food is really quite <font color = red>bad</font>!\\n\\nThey have the best chicken salad wrap ever! I love that rap so much I want agreed to walk the south side River Trail from where the Steelers practice all the way to the damn waterfront just because I knew that I could convince my boyfriend to go to Unos with me for lunch.  Full disclosure:  I made him call is a cab and we took a taxi back to the parking lot after lunch.\\n\\nListen... <font color = red>Gauche</font> food and pizza and service are very <font color = red>bad</font>, surprisingly so! I don't know why this place is not busier but next time you're down at the Waterfront please do consider dining here!"
            ],
            "text/plain": [
              "<IPython.core.display.HTML object>"
            ]
          },
          "metadata": {
            "tags": []
          }
        },
        {
          "output_type": "stream",
          "text": [
            "[Succeeded / Failed / Total] 9 / 3 / 12:  48%|████▊     | 12/25 [02:01<02:11, 10.09s/it]"
          ],
          "name": "stderr"
        },
        {
          "output_type": "display_data",
          "data": {
            "text/html": [
              "<font color = red>1 (100%)</font> --> <font color = green>2 (50%)</font><br>Stars are for the food only.    <font color = red>2</font>.5 rating\\n\\nGot there at 8pm on Saturday night, they told us it was an hour wait which was expected, but it only took 30minutes to be seated so that was a bonus.  Started off with the lettuce wraps and i used to be a fan of these but they just <font color = red>seem</font> to bore me now(<font color = red>FYI-love</font> the <font color = red>lettuce</font> wraps at the cheesecake factory).  I had the Singapore rice noodles.  This was so so as i <font color = red>thought</font> immediately that lu lu noodles and asian cafe are better.  The fried rice was disappointing and the vegetables <font color = red>tasted</font> <font color = red>raw</font>.   Some good notes were the Dynamite shrimp, plump, juicy, <font color = red>tangy</font> with a small kick.    Sweet and sour chicken was just the same minus the kick. \\n\\nThe service was annoying.   We were there less than <font color = red>45</font> <font color = red>minutes</font> and it <font color = red>seemed</font> like our waiter was in a rush to get us out of there.   Constantly asking if he could remove my plate.  I had to <font color = red>sternly</font> say at one point that I will let you know when i am finished.  I found it <font color = red>rude</font> especially since  there wasn't <font color = red>even</font> a line at this point.  \\n\\nI think we will travel elsewhere following a movie.  The result never quite met the anticipation.<br>Stars are for the food only.    <font color = green>campaign</font>.5 rating\\n\\nGot there at 8pm on Saturday night, they told us it was an hour wait which was expected, but it only took 30minutes to be seated so that was a bonus.  Started off with the lettuce wraps and i used to be a fan of these but they just <font color = green>tend</font> to bore me now(<font color = green>Love</font> the <font color = green>gingerbread</font> wraps at the cheesecake factory).  I had the Singapore rice noodles.  This was so so as i <font color = green>believed</font> immediately that lu lu noodles and asian cafe are better.  The fried rice was disappointing and the vegetables <font color = green>pasted</font> <font color = green>grain</font>.   Some good notes were the Dynamite shrimp, plump, juicy, <font color = green>yangtze</font> with a small kick.    Sweet and sour chicken was just the same minus the kick. \\n\\nThe service was annoying.   We were there less than <font color = green>likely</font> <font color = green>minute</font> and it <font color = green>seems</font> like our waiter was in a rush to get us out of there.   Constantly asking if he could remove my plate.  I had to <font color = green>stubbornly</font> say at one point that I will let you know when i am finished.  I found it <font color = green>dude</font> especially since  there wasn't <font color = green>indeed</font> a line at this point.  \\n\\nI think we will travel elsewhere following a movie.  The result never quite met the anticipation."
            ],
            "text/plain": [
              "<IPython.core.display.HTML object>"
            ]
          },
          "metadata": {
            "tags": []
          }
        },
        {
          "output_type": "stream",
          "text": [
            "[Succeeded / Failed / Total] 10 / 3 / 13:  52%|█████▏    | 13/25 [02:16<02:06, 10.50s/it]"
          ],
          "name": "stderr"
        },
        {
          "output_type": "display_data",
          "data": {
            "text/html": [
              "<font color = red>1 (100%)</font> --> <font color = green>2 (52%)</font><br><font color = red>Our</font> <font color = red>last</font> few <font color = red>visits</font> have <font color = red>left</font> something to desire, One of the things <font color = red>I</font> always notice is the demeanor of an <font color = red>establishments</font> employees. <font color = red>These</font> people look miserable, no one smiles or greets you appropriately, it's more like get in, get out, turn the tables,\\n\\nThe food has remained consistently good... when we can <font color = red>order</font> it. the last time JB and I came for a quick dinner, the place was not <font color = red>busy</font> yet we were passed by 6 frowning waitstaff without getting drinks... for 15 <font color = red>minutes</font> we were left suiting at our table with our menus closed and sitting on the edge of the table (HINT, HINT) so we left and most <font color = red>likely</font> will not be returning.<br><font color = green>Zur</font> <font color = green>next</font> few <font color = green>visit</font> have <font color = green>right</font> something to desire, One of the things <font color = green>ENCHANTER</font> always notice is the demeanor of an <font color = green>reestablishment</font> employees. <font color = green>Yapese</font> people look miserable, no one smiles or greets you appropriately, it's more like get in, get out, turn the tables,\\n\\nThe food has remained consistently good... when we can <font color = green>addition</font> it. the last time JB and I came for a quick dinner, the place was not <font color = green>roadside</font> yet we were passed by 6 frowning waitstaff without getting drinks... for 15 <font color = green>minute</font> we were left suiting at our table with our menus closed and sitting on the edge of the table (HINT, HINT) so we left and most <font color = green>probable</font> will not be returning."
            ],
            "text/plain": [
              "<IPython.core.display.HTML object>"
            ]
          },
          "metadata": {
            "tags": []
          }
        },
        {
          "output_type": "stream",
          "text": [
            "[Succeeded / Failed / Total] 11 / 3 / 14:  56%|█████▌    | 14/25 [02:24<01:53, 10.32s/it]"
          ],
          "name": "stderr"
        },
        {
          "output_type": "display_data",
          "data": {
            "text/html": [
              "<font color = green>2 (100%)</font> --> <font color = red>1 (94%)</font><br>Good <font color = green>quality</font> pork fried dumpling and mongo beef.  Bar service was fast and <font color = green>Efficent</font>.   <font color = green>Good</font> value.  Not a <font color = green>5</font> cause dragon eye tea was cold first time around and beef had minor amount of fat.   Fortune was even Postive!<br>Good <font color = red>durability</font> pork fried dumpling and mongo beef.  Bar service was fast and <font color = red>Workhouse</font>.   <font color = red>Bewilderment</font> value.  Not a <font color = red>occupy</font> cause dragon eye tea was cold first time around and beef had minor amount of fat.   Fortune was even Postive!"
            ],
            "text/plain": [
              "<IPython.core.display.HTML object>"
            ]
          },
          "metadata": {
            "tags": []
          }
        },
        {
          "output_type": "stream",
          "text": [
            "[Succeeded / Failed / Total] 12 / 3 / 15:  60%|██████    | 15/25 [02:27<01:38,  9.84s/it]"
          ],
          "name": "stderr"
        },
        {
          "output_type": "display_data",
          "data": {
            "text/html": [
              "<font color = red>1 (100%)</font> --> <font color = green>2 (84%)</font><br>Very <font color = red>bad</font> <font color = red>purchase</font> experience. <font color = red>I</font> bought a shirt with a hole covered in the rolled up sleeves, but they <font color = red>denied</font> my request to return it. I am so angery at this and will never shop their chothes anymore.<br>Very <font color = green>good</font> <font color = green>purchasing</font> experience. <font color = green>ENCHANTER</font> bought a shirt with a hole covered in the rolled up sleeves, but they <font color = green>asserted</font> my request to return it. I am so angery at this and will never shop their chothes anymore."
            ],
            "text/plain": [
              "<IPython.core.display.HTML object>"
            ]
          },
          "metadata": {
            "tags": []
          }
        },
        {
          "output_type": "stream",
          "text": [
            "[Succeeded / Failed / Total] 13 / 3 / 16:  64%|██████▍   | 16/25 [02:30<01:24,  9.39s/it]"
          ],
          "name": "stderr"
        },
        {
          "output_type": "display_data",
          "data": {
            "text/html": [
              "<font color = red>1 (100%)</font> --> <font color = green>2 (60%)</font><br>When I think <font color = red>BBB</font>... I think the days of simply bringing your bike in for a quick and relatively inexpensive tune-up and a few fixes are long gone.    \\n\\nThis review is more for the repair end of BBB. In their defense BBB does appear to carry some amazing brands of bike (ie Colnago) that you just don't find anywhere else in Pittsburgh. \\n\\nAt BBB I was charged $250 for a tune up and a few other things. Granted this included installing a sew up tire (which I can understand would cost approx $50), Swapping out a left side (big ring) shifter on my down tube (this should have cost approx. $20 at most) and installing new bar tape (cost of tape $20 and $20 to install?).. SO WHAT\\\"\"S WITH $140 FOR A TUNE UP? Well the story goes like this:\\n\\nI bring the bike into BBB prior to the nice weather hitting Pittsburgh in <font color = red>hopes</font> of trying what people have said is a <font color = red>great</font> bike shop and getting my OCLV TREK 5900 ready for the season. Turns out I don't hear from these guys. A week goes by ...two weeks...I think that's ok I have two or three other bike I can turn to for a ride. Then I wind up going out of town for a week thinking for sure I'll get a call from them re: my bike is ready to roll...but no dice. So I call. Turns out a screw snapped when the mechanic was re-installing the down tube shifter and it had to be tapped out (is that my fault?). He says \\\"\"Should be ready in a few days\\\"\". So I come in a few days later to this mammoth bill. I ask if I am paying for the labor of taping out the screw? I don't think I ever got a straight answer? I look at the bill and can't see a good breakdown of the charges. Normally I would \\\"\"duke it over\\\"\" a bill like this but I figured...I had somewhere I to be 10 minutes ago and at least I finally have my bike. I would expect that for that money my bike could have been stripped down to the frame and totally gone over (overhauled). But it wasn't.  Well BBB I'll give you a star because the mechanic did do a good job in that my cycle shifts well and the tape job on the bars looks great (nice wrap). Plus I'll toss in a star for your outstanding selection of high end cycles. Maybe I would have rated BBB higher if I was in the market for a purchase instead of a simple repair?<br>When I think <font color = green>FANTASIA</font>... I think the days of simply bringing your bike in for a quick and relatively inexpensive tune-up and a few fixes are long gone.    \\n\\nThis review is more for the repair end of BBB. In their defense BBB does appear to carry some amazing brands of bike (ie Colnago) that you just don't find anywhere else in Pittsburgh. \\n\\nAt BBB I was charged $250 for a tune up and a few other things. Granted this included installing a sew up tire (which I can understand would cost approx $50), Swapping out a left side (big ring) shifter on my down tube (this should have cost approx. $20 at most) and installing new bar tape (cost of tape $20 and $20 to install?).. SO WHAT\\\"\"S WITH $140 FOR A TUNE UP? Well the story goes like this:\\n\\nI bring the bike into BBB prior to the nice weather hitting Pittsburgh in <font color = green>fears</font> of trying what people have said is a <font color = green>greasy</font> bike shop and getting my OCLV TREK 5900 ready for the season. Turns out I don't hear from these guys. A week goes by ...two weeks...I think that's ok I have two or three other bike I can turn to for a ride. Then I wind up going out of town for a week thinking for sure I'll get a call from them re: my bike is ready to roll...but no dice. So I call. Turns out a screw snapped when the mechanic was re-installing the down tube shifter and it had to be tapped out (is that my fault?). He says \\\"\"Should be ready in a few days\\\"\". So I come in a few days later to this mammoth bill. I ask if I am paying for the labor of taping out the screw? I don't think I ever got a straight answer? I look at the bill and can't see a good breakdown of the charges. Normally I would \\\"\"duke it over\\\"\" a bill like this but I figured...I had somewhere I to be 10 minutes ago and at least I finally have my bike. I would expect that for that money my bike could have been stripped down to the frame and totally gone over (overhauled). But it wasn't.  Well BBB I'll give you a star because the mechanic did do a good job in that my cycle shifts well and the tape job on the bars looks great (nice wrap). Plus I'll toss in a star for your outstanding selection of high end cycles. Maybe I would have rated BBB higher if I was in the market for a purchase instead of a simple repair?"
            ],
            "text/plain": [
              "<IPython.core.display.HTML object>"
            ]
          },
          "metadata": {
            "tags": []
          }
        },
        {
          "output_type": "stream",
          "text": [
            "[Succeeded / Failed / Total] 14 / 3 / 17:  68%|██████▊   | 17/25 [03:02<01:25, 10.73s/it]"
          ],
          "name": "stderr"
        },
        {
          "output_type": "display_data",
          "data": {
            "text/html": [
              "<font color = red>1 (100%)</font> --> <font color = green>2 (89%)</font><br>My orders have <font color = red>come</font> out <font color = red>bad</font> pretty much <font color = red>every</font> time I have <font color = red>ordered</font> from here. The chicken <font color = red>nuggets</font> come out under <font color = red>par</font>. I'm <font color = red>lucky</font> if the fries come out <font color = red>right</font>. <font color = red>My</font> last <font color = red>experience</font> is the <font color = red>last</font> <font color = red>straw</font>. <font color = red>I</font> recently posted a photo of my <font color = red>Chicken</font> Ranch <font color = red>Club</font>. That has no chicken. This is <font color = red>ridiculous</font>. I am <font color = red>done</font> <font color = red>going</font> to this Mcd's.<br>My orders have <font color = green>coming</font> out <font color = green>good</font> pretty much <font color = green>each</font> time I have <font color = green>convoked</font> from here. The chicken <font color = green>nugget</font> come out under <font color = green>livres</font>. I'm <font color = green>luck</font> if the fries come out <font color = green>left</font>. <font color = green>Marriage</font> last <font color = green>experiencing</font> is the <font color = green>next</font> <font color = green>strap</font>. <font color = green>ENCHANTER</font> recently posted a photo of my <font color = green>Thickens</font> Ranch <font color = green>Spool</font>. That has no chicken. This is <font color = green>ridicule</font>. I am <font color = green>duplicated</font> <font color = green>getting</font> to this Mcd's."
            ],
            "text/plain": [
              "<IPython.core.display.HTML object>"
            ]
          },
          "metadata": {
            "tags": []
          }
        },
        {
          "output_type": "stream",
          "text": [
            "[Succeeded / Failed / Total] 15 / 3 / 18:  72%|███████▏  | 18/25 [03:08<01:13, 10.47s/it]"
          ],
          "name": "stderr"
        },
        {
          "output_type": "display_data",
          "data": {
            "text/html": [
              "<font color = red>1 (100%)</font> --> <font color = green>2 (63%)</font><br>Wow. <font color = red>What</font> a shame. <font color = red>My</font> family just <font color = red>moved</font> to the <font color = red>area</font> and have been sampling the <font color = red>local</font> cuisine. We are a very <font color = red>large</font> <font color = red>family</font> and love foods of all kind. We've <font color = red>eaten</font> Chinese food from a hundred different places in a dozen different <font color = red>cities</font>. Hands down, this was the <font color = red>worst</font> we've ever had. Cold, tough, <font color = red>congealed</font>, and <font color = red>tasteless</font> - that's the only way to describe it. I'll <font color = red>never</font> order from here again. Quite frankly, the fact that <font color = red>I</font> <font color = red>took</font> <font color = red>time</font> away from my kids to <font color = red>type</font> this out should <font color = red>tell</font> you how awful it was. <font color = red>My</font> complaints <font color = red>fell</font> on <font color = red>deaf</font> ears. I guess they were shocked that someone thought that they were <font color = red>serving</font> low grade dog food. <font color = red>I</font> <font color = red>understand</font> that sometimes restaurants crank out bad food. It happens. But when it does, you bend over <font color = red>backwards</font> to <font color = red>make</font> it right. <font color = red>Not</font> at this place. I was <font color = red>told</font> that he would have to <font color = red>speak</font> with the owner in <font color = red>order</font> to <font color = red>help</font> me. I <font color = red>guess</font> that's how they deflect complaints - blame it on the <font color = red>owners</font> that aren't there and make the customer for away <font color = red>angry</font>.  Too <font color = red>bad</font>. Because we will be <font color = red>visiting</font> a <font color = red>competitor</font> in the future. <font color = red>This</font> family of 7 won't be visiting China Sea ever again. Oh, and by the way, why can't I give this place zero stars?<br>Wow. <font color = green>Hihat</font> a shame. <font color = green>Marriage</font> family just <font color = green>returned</font> to the <font color = green>metropolitan</font> and have been sampling the <font color = green>regional</font> cuisine. We are a very <font color = green>small</font> <font color = green>families</font> and love foods of all kind. We've <font color = green>roasted</font> Chinese food from a hundred different places in a dozen different <font color = green>towns</font>. Hands down, this was the <font color = green>deadliest</font> we've ever had. Cold, tough, <font color = green>pronged</font>, and <font color = green>eyeless</font> - that's the only way to describe it. I'll <font color = green>ever</font> order from here again. Quite frankly, the fact that <font color = green>ENCHANTER</font> <font color = green>gave</font> <font color = green>period</font> away from my kids to <font color = green>kind</font> this out should <font color = green>know</font> you how awful it was. <font color = green>Marriage</font> complaints <font color = green>broke</font> on <font color = green>prostitute</font> ears. I guess they were shocked that someone thought that they were <font color = green>served</font> low grade dog food. <font color = green>ENCHANTER</font> <font color = green>understudy</font> that sometimes restaurants crank out bad food. It happens. But when it does, you bend over <font color = green>backward</font> to <font color = green>give</font> it right. <font color = green>Nnrot</font> at this place. I was <font color = green>replied</font> that he would have to <font color = green>spoke</font> with the owner in <font color = green>addition</font> to <font color = green>assist</font> me. I <font color = green>remember</font> that's how they deflect complaints - blame it on the <font color = green>buyers</font> that aren't there and make the customer for away <font color = green>hungry</font>.  Too <font color = green>good</font>. Because we will be <font color = green>visited</font> a <font color = green>competition</font> in the future. <font color = green>Colchis</font> family of 7 won't be visiting China Sea ever again. Oh, and by the way, why can't I give this place zero stars?"
            ],
            "text/plain": [
              "<IPython.core.display.HTML object>"
            ]
          },
          "metadata": {
            "tags": []
          }
        },
        {
          "output_type": "stream",
          "text": [
            "[Succeeded / Failed / Total] 16 / 3 / 19:  76%|███████▌  | 19/25 [03:28<01:05, 10.97s/it]"
          ],
          "name": "stderr"
        },
        {
          "output_type": "display_data",
          "data": {
            "text/html": [
              "<font color = green>2 (100%)</font> --> <font color = red>[FAILED]</font><br>I fell in love with this place as soon as we pulled up and saw the lights strung up and  oldies coming from the speakers! \\n\\nI tried the banana cream pie hard ice cream, their scoops are very generous!! \\n\\nMy bf got the peach cobbler hard ice cream and that was to die for! We got 4 servings of ice cream for $10, which nowadays is a steal IMO! :) \\n\\nI'll definitely be heading back with my coworkers this week!"
            ],
            "text/plain": [
              "<IPython.core.display.HTML object>"
            ]
          },
          "metadata": {
            "tags": []
          }
        },
        {
          "output_type": "stream",
          "text": [
            "[Succeeded / Failed / Total] 16 / 4 / 20:  80%|████████  | 20/25 [03:36<00:54, 10.81s/it]"
          ],
          "name": "stderr"
        },
        {
          "output_type": "display_data",
          "data": {
            "text/html": [
              "<font color = green>2 (100%)</font> --> <font color = red>1 (76%)</font><br>This is by far, the <font color = green>BEST</font> soft serve ice cream place in southwestern PA. The \\\"\"flavor of the week\\\"\" is always interesting-and tasty! Though, I am somewhat disappointed that <font color = green>they've</font> switched to a lower grade ice milk, for their vanilla and chocolate offerings. I don't know if this is a matter of cutting corners, or if the better stuff simply isn't available any longer. Either way, this place is still leaps and bounds ahead of DQ, Tastee Freeze, etc. It's <font color = green>definitely</font> worth the trip. It's mostly street parking, though they do have about 3-4 parking spaces off to the side. Serving sizes are huge! The small cone here, is the same size as a DQ large. And the large is SO big, they can't fit it through the window-they hand it out the side door.\\n\\nIf you want a real \\\"\"Kodak moment\\\"\"-order a large cone for the kids, and keep the camera, and wet wipes handy!<br>This is by far, the <font color = red>WAS</font> soft serve ice cream place in southwestern PA. The \\\"\"flavor of the week\\\"\" is always interesting-and tasty! Though, I am somewhat disappointed that <font color = red>they</font> switched to a lower grade ice milk, for their vanilla and chocolate offerings. I don't know if this is a matter of cutting corners, or if the better stuff simply isn't available any longer. Either way, this place is still leaps and bounds ahead of DQ, Tastee Freeze, etc. It's <font color = red>finitely</font> worth the trip. It's mostly street parking, though they do have about 3-4 parking spaces off to the side. Serving sizes are huge! The small cone here, is the same size as a DQ large. And the large is SO big, they can't fit it through the window-they hand it out the side door.\\n\\nIf you want a real \\\"\"Kodak moment\\\"\"-order a large cone for the kids, and keep the camera, and wet wipes handy!"
            ],
            "text/plain": [
              "<IPython.core.display.HTML object>"
            ]
          },
          "metadata": {
            "tags": []
          }
        },
        {
          "output_type": "stream",
          "text": [
            "[Succeeded / Failed / Total] 17 / 4 / 21:  84%|████████▍ | 21/25 [03:46<00:43, 10.80s/it]"
          ],
          "name": "stderr"
        },
        {
          "output_type": "display_data",
          "data": {
            "text/html": [
              "<font color = green>2 (100%)</font> --> <font color = red>1 (79%)</font><br>This is my <font color = green>go-to</font> distributer. They have a <font color = green>great</font> selection and lots of hard to <font color = green>find</font> brews. I haven't noticed that it's any more expensive than going elsewhere but honestly if I don't buy here then I'm buying six packs which as we all know are a huuugggge rip off. <font color = green>So</font> any time I have a case of something I love <font color = green>I</font> feel <font color = green>like</font> I'm getting a <font color = green>bargain</font>. <font color = green>The</font> cold selection does suck so I try to plan <font color = green>ahead</font> and have what I <font color = green>need</font> already cold. Staff here are all very helpful- and will have recommendations if you <font color = green>ask</font>.<br>This is my <font color = red>kto</font> distributer. They have a <font color = red>greasy</font> selection and lots of hard to <font color = red>prove</font> brews. I haven't noticed that it's any more expensive than going elsewhere but honestly if I don't buy here then I'm buying six packs which as we all know are a huuugggge rip off. <font color = red>Scheduled</font> any time I have a case of something I love <font color = red>ENCHANTER</font> feel <font color = red>resembling</font> I'm getting a <font color = red>debtor</font>. <font color = red>Gauche</font> cold selection does suck so I try to plan <font color = red>quickest</font> and have what I <font color = red>necessary</font> already cold. Staff here are all very helpful- and will have recommendations if you <font color = red>know</font>."
            ],
            "text/plain": [
              "<IPython.core.display.HTML object>"
            ]
          },
          "metadata": {
            "tags": []
          }
        },
        {
          "output_type": "stream",
          "text": [
            "[Succeeded / Failed / Total] 18 / 4 / 22:  88%|████████▊ | 22/25 [03:53<00:31, 10.61s/it]"
          ],
          "name": "stderr"
        },
        {
          "output_type": "display_data",
          "data": {
            "text/html": [
              "<font color = green>2 (100%)</font> --> <font color = red>1 (80%)</font><br><font color = green>Love</font> this beer <font color = green>distributor</font>.  They always have what I'm <font color = green>looking</font> for. <font color = green>The</font> workers are extremely <font color = green>nice</font> and <font color = green>always</font> willing to help. <font color = green>Best</font> one I've seen by far.<br><font color = red>Wove</font> this beer <font color = red>distributive</font>.  They always have what I'm <font color = red>lookin</font> for. <font color = red>Gauche</font> workers are extremely <font color = red>loin</font> and <font color = red>actually</font> willing to help. <font color = red>Sexiest</font> one I've seen by far."
            ],
            "text/plain": [
              "<IPython.core.display.HTML object>"
            ]
          },
          "metadata": {
            "tags": []
          }
        },
        {
          "output_type": "stream",
          "text": [
            "[Succeeded / Failed / Total] 19 / 4 / 23:  92%|█████████▏| 23/25 [03:55<00:20, 10.25s/it]"
          ],
          "name": "stderr"
        },
        {
          "output_type": "display_data",
          "data": {
            "text/html": [
              "<font color = red>1 (100%)</font> --> <font color = green>2 (64%)</font><br><font color = red>Went</font> here with a <font color = red>gift</font> card from the restaurant week photo competition. \\n\\nWe were one of two tables there and a bunch of staff showing up during the meal. \\n\\nOur waitress was good, but that couldn't save the <font color = red>food</font>.\\n\\nThe meal started out with some what I guess used to be foccacia.  I say used to be because it no longer represented anything other than long pieces of brick or bark very stale and tasteless.\\n\\nWe ordered the vegetable board which was probably the best thing we ordered with light and bright vegetables perfectly cooked and paired with two delicious sauces. \\n\\nThen we ordered the octopus which was fine, but very <font color = red>cold</font> and the octopus had little to no flavor, being overwhelmed by the citrus in the dish. \\n\\nThe tuscan <font color = red>wings</font> were ok, but they were really <font color = red>ordered</font> for my husband who seemed to enjoy them. \\n\\nFinally the diver scallops.  This dish was indeible.  The scallops were very <font color = red>overcooked</font> and the pea puree was so minty I was <font color = red>unable</font> to eat it. We sent it back and they did take off half of the price (weren't expecting anything just didn't want to eat it). \\n\\nAfter that we decided against dessert and left.  I probably will not return.<br><font color = green>Tent</font> here with a <font color = green>solemnity</font> card from the restaurant week photo competition. \\n\\nWe were one of two tables there and a bunch of staff showing up during the meal. \\n\\nOur waitress was good, but that couldn't save the <font color = green>dairy</font>.\\n\\nThe meal started out with some what I guess used to be foccacia.  I say used to be because it no longer represented anything other than long pieces of brick or bark very stale and tasteless.\\n\\nWe ordered the vegetable board which was probably the best thing we ordered with light and bright vegetables perfectly cooked and paired with two delicious sauces. \\n\\nThen we ordered the octopus which was fine, but very <font color = green>cool</font> and the octopus had little to no flavor, being overwhelmed by the citrus in the dish. \\n\\nThe tuscan <font color = green>wingtips</font> were ok, but they were really <font color = green>convoked</font> for my husband who seemed to enjoy them. \\n\\nFinally the diver scallops.  This dish was indeible.  The scallops were very <font color = green>quickened</font> and the pea puree was so minty I was <font color = green>able</font> to eat it. We sent it back and they did take off half of the price (weren't expecting anything just didn't want to eat it). \\n\\nAfter that we decided against dessert and left.  I probably will not return."
            ],
            "text/plain": [
              "<IPython.core.display.HTML object>"
            ]
          },
          "metadata": {
            "tags": []
          }
        },
        {
          "output_type": "stream",
          "text": [
            "[Succeeded / Failed / Total] 20 / 4 / 24:  96%|█████████▌| 24/25 [04:09<00:10, 10.41s/it]"
          ],
          "name": "stderr"
        },
        {
          "output_type": "display_data",
          "data": {
            "text/html": [
              "<font color = red>1 (100%)</font> --> <font color = green>2 (57%)</font><br>I went there <font color = red>today</font>! The <font color = red>cut</font> was terrible! <font color = red>I</font> have an <font color = red>awful</font> experience. They <font color = red>lady</font> that <font color = red>cut</font> my <font color = red>hair</font> was <font color = red>nice</font> but she wanted to leave <font color = red>early</font> so she <font color = red>made</font> a <font color = red>disaster</font> in my head!<br>I went there <font color = green>now</font>! The <font color = green>scrubbed</font> was terrible! <font color = green>ENCHANTER</font> have an <font color = green>sorrowful</font> experience. They <font color = green>mary</font> that <font color = green>scrubbed</font> my <font color = green>skin</font> was <font color = green>loin</font> but she wanted to leave <font color = green>late</font> so she <font color = green>making</font> a <font color = green>disastrous</font> in my head!"
            ],
            "text/plain": [
              "<IPython.core.display.HTML object>"
            ]
          },
          "metadata": {
            "tags": []
          }
        },
        {
          "output_type": "stream",
          "text": [
            "[Succeeded / Failed / Total] 21 / 4 / 25: 100%|██████████| 25/25 [04:12<00:00, 10.11s/it]"
          ],
          "name": "stderr"
        },
        {
          "output_type": "stream",
          "text": [
            "+-------------------------------+--------+\n",
            "| Attack Results                |        |\n",
            "+-------------------------------+--------+\n",
            "| Number of successful attacks: | 21     |\n",
            "| Number of failed attacks:     | 4      |\n",
            "| Number of skipped attacks:    | 0      |\n",
            "| Original accuracy:            | 100.0% |\n",
            "| Accuracy under attack:        | 16.0%  |\n",
            "| Attack success rate:          | 84.0%  |\n",
            "| Average perturbed word %:     | 12.51% |\n",
            "| Average num. words per input: | 133.36 |\n",
            "| Avg num queries:              | 238.84 |\n",
            "+-------------------------------+--------+"
          ],
          "name": "stdout"
        },
        {
          "output_type": "stream",
          "text": [
            "\n",
            "\u001b[34;1mtextattack\u001b[0m: Attack time: 252.68779397010803s\n"
          ],
          "name": "stderr"
        }
      ]
    },
    {
      "cell_type": "code",
      "metadata": {
        "id": "enY5C3DDBwlo",
        "colab": {
          "base_uri": "https://localhost:8080/",
          "height": 315,
          "referenced_widgets": [
            "d2f41cc373374a1dba711d6d70bb506f",
            "accca0cb8fb8436dbdd7799c144f1093",
            "150fa87bbbf4488eb89c770db4babb31",
            "abd59dd2ca05448e88394a99096a409b",
            "ac010dd33f434479be6b643101f708f3",
            "f0225bd2b66e4bfba27183f5100f799a",
            "805e4c199740423780bf4d02f2ab41bd",
            "463e498459cf4312ac84968e7d1cad1d",
            "5dd83d3d42ae426a876bc8ef974c8ebb",
            "77696be0f6ea46c6ab1e345339ba3a99",
            "5093b577aa354b2dac9b54bfce58ec68",
            "4511829691b74833a7bf154292a001c2",
            "604dda89eed34c228371c3e18685e3a3",
            "f37cca83f7c049e088a73d3d09e6a66f",
            "fa3fb6806de04f739d3abfc08c88d38d",
            "bd544eef986948b797ccd05a5429bae8",
            "f9c8a483bb3f4d8788b837a203659661",
            "b45d2f0e67fa486483cb74d7f888fcb4",
            "80bb9fa31e464f4eb1e51f64f89cbba3",
            "97477ad43d904dafb26d3965a13c6939",
            "95ab914176cd4ddb938c24c4d1d9ee71",
            "f862016fb6634d99a263bd66265a12ba",
            "c6e71f99071646f2b9f973085a703e12",
            "0ea5eb848134499c9395436196950929",
            "37ef43c2577f4e3fb88c8017d3c8c6ef",
            "7690d480b9e54d8ebfacdad0f32d193e",
            "483e6fd620c04ab8a7bee33a08ce749a",
            "6233b706eaaa4c0b8a032de654d20a3f",
            "eb53be93e8854ffe9fbe7ae29c224a78",
            "637b1e763f78465dbd8d596ed0e65041",
            "ebb1b2d6f06445d3a9724664427a6373",
            "3392fc191f9e43b69f25392ecee79138",
            "29a109d48388462dabad99ea7b45398b",
            "842387e4bf184b48b9c88455bed3100f",
            "413ab0cb37c948c99bbda017a7d1181f",
            "3f64cdfe3bea43d39ce7b11786066b95",
            "d226d03201c348a69948ddee3fb8c0e1",
            "a9d77b5b7b604b34809d2ebd38162b6f",
            "14aaae37fa0b43309f545359a6ca7cee",
            "4ab2716c12d04b9197f4de9bbe08aa45"
          ]
        },
        "outputId": "746f1b91-c774-457f-ea1b-d3503dc4e6cd"
      },
      "source": [
        "from textattack.constraints.grammaticality import PartOfSpeech\n",
        "from textattack.constraints.pre_transformation import (\n",
        "    RepeatModification,\n",
        "    StopwordModification,\n",
        ")\n",
        "from textattack.constraints.semantics.sentence_encoders import UniversalSentenceEncoder\n",
        "from textattack.goal_functions import UntargetedClassification\n",
        "from textattack.search_methods import GreedyWordSwapWIR\n",
        "from textattack.transformations import WordSwapMaskedLM\n",
        "from textattack.shared import Attack\n",
        "from textattack.datasets import HuggingFaceDataset\n",
        "transformation = WordSwapMaskedLM(\n",
        "            method=\"bae\", max_candidates=50, min_confidence=0.0\n",
        "        )\n",
        "        #\n",
        "        # Don't modify the same word twice or stopwords.\n",
        "        #\n",
        "constraints = [RepeatModification(), StopwordModification()]\n",
        "\n",
        "        # For the R operations we add an additional check for\n",
        "        # grammatical correctness of the generated adversarial example by filtering\n",
        "        # out predicted tokens that do not form the same part of speech (POS) as the\n",
        "        # original token t_i in the sentence.\n",
        "constraints.append(PartOfSpeech(allow_verb_noun_swap=True))\n",
        "\n",
        "        # \"To ensure semantic similarity on introducing perturbations in the input\n",
        "        # text, we filter the set of top-K masked tokens (K is a pre-defined\n",
        "        # constant) predicted by BERT-MLM using a Universal Sentence Encoder (USE)\n",
        "        # (Cer et al., 2018)-based sentence similarity scorer.\"\n",
        "        #\n",
        "        # \"[We] set a threshold of 0.8 for the cosine similarity between USE-based\n",
        "        # embeddings of the adversarial and input text.\"\n",
        "        #\n",
        "        # [from email correspondence with the author]\n",
        "        # \"For a fair comparison of the benefits of using a BERT-MLM in our paper,\n",
        "        # we retained the majority of TextFooler's specifications. Thus we:\n",
        "        # 1. Use the USE for comparison within a window of size 15 around the word\n",
        "        # being replaced/inserted.\n",
        "        # 2. Set the similarity score threshold to 0.1 for inputs shorter than the\n",
        "        # window size (this translates roughly to almost always accepting the new text).\n",
        "        # 3. Perform the USE similarity thresholding of 0.8 with respect to the text\n",
        "        # just before the replacement/insertion and not the original text (For\n",
        "        # example: at the 3rd R/I operation, we compute the USE score on a window\n",
        "        # of size 15 of the text obtained after the first 2 R/I operations and not\n",
        "        # the original text).\n",
        "        # ...\n",
        "        # To address point (3) from above, compare the USE with the original text\n",
        "        # at each iteration instead of the current one (While doing this change\n",
        "        # for the R-operation is trivial, doing it for the I-operation with the\n",
        "        # window based USE comparison might be more involved).\"\n",
        "        #\n",
        "        # Finally, since the BAE code is based on the TextFooler code, we need to\n",
        "        # adjust the threshold to account for the missing / pi in the cosine\n",
        "        # similarity comparison. So the final threshold is 1 - (1 - 0.8) / pi\n",
        "        # = 1 - (0.2 / pi) = 0.936338023.\n",
        "use_constraint = UniversalSentenceEncoder(\n",
        "            threshold=0.936338023,\n",
        "            metric=\"cosine\",\n",
        "            compare_against_original=True,\n",
        "            window_size=15,\n",
        "            skip_text_shorter_than_window=True,\n",
        "        )\n",
        "constraints.append(use_constraint)\n",
        "        #\n",
        "        # Goal is untargeted classification.\n",
        "        #\n",
        "goal_function = UntargetedClassification(model_wrapper)\n",
        "        #\n",
        "        # \"We estimate the token importance Ii of each token\n",
        "        # t_i ∈ S = [t1, . . . , tn], by deleting ti from S and computing the\n",
        "        # decrease in probability of predicting the correct label y, similar\n",
        "        # to (Jin et al., 2019).\n",
        "        #\n",
        "        # • \"If there are multiple tokens can cause C to misclassify S when they\n",
        "        # replace the mask, we choose the token which makes Sadv most similar to\n",
        "        # the original S based on the USE score.\"\n",
        "        # • \"If no token causes misclassification, we choose the perturbation that\n",
        "        # decreases the prediction probability P(C(Sadv)=y) the most.\"\n",
        "        #\n",
        "search_method = GreedyWordSwapWIR(wir_method=\"delete\")\n",
        "\n",
        "attack=Attack(goal_function, constraints, transformation, search_method)\n",
        "\n",
        "dataset = HuggingFaceDataset(\"yelp_polarity\", None, \"test\") # Change the dataset"
      ],
      "execution_count": null,
      "outputs": [
        {
          "output_type": "stream",
          "text": [
            "Some weights of the model checkpoint at bert-base-uncased were not used when initializing BertForMaskedLM: ['cls.seq_relationship.weight', 'cls.seq_relationship.bias']\n",
            "- This IS expected if you are initializing BertForMaskedLM from the checkpoint of a model trained on another task or with another architecture (e.g. initializing a BertForSequenceClassification model from a BertForPreTraining model).\n",
            "- This IS NOT expected if you are initializing BertForMaskedLM from the checkpoint of a model that you expect to be exactly identical (initializing a BertForSequenceClassification model from a BertForSequenceClassification model).\n",
            "\u001b[34;1mtextattack\u001b[0m: Unknown if model of class <class 'transformers.models.bert.modeling_bert.BertForSequenceClassification'> compatible with goal function <class 'textattack.goal_functions.classification.untargeted_classification.UntargetedClassification'>.\n"
          ],
          "name": "stderr"
        },
        {
          "output_type": "display_data",
          "data": {
            "application/vnd.jupyter.widget-view+json": {
              "model_id": "d2f41cc373374a1dba711d6d70bb506f",
              "version_minor": 0,
              "version_major": 2
            },
            "text/plain": [
              "HBox(children=(FloatProgress(value=0.0, description='Downloading', max=2313.0, style=ProgressStyle(description…"
            ]
          },
          "metadata": {
            "tags": []
          }
        },
        {
          "output_type": "stream",
          "text": [
            "\n"
          ],
          "name": "stdout"
        },
        {
          "output_type": "display_data",
          "data": {
            "application/vnd.jupyter.widget-view+json": {
              "model_id": "5dd83d3d42ae426a876bc8ef974c8ebb",
              "version_minor": 0,
              "version_major": 2
            },
            "text/plain": [
              "HBox(children=(FloatProgress(value=0.0, description='Downloading', max=1609.0, style=ProgressStyle(description…"
            ]
          },
          "metadata": {
            "tags": []
          }
        },
        {
          "output_type": "stream",
          "text": [
            "\n",
            "Downloading and preparing dataset yelp_polarity/plain_text (download: 158.67 MiB, generated: 421.28 MiB, post-processed: Unknown size, total: 579.95 MiB) to /root/.cache/huggingface/datasets/yelp_polarity/plain_text/1.0.0/591dc79cb354c6f051b5bf61c77a446205c98156e01669c6218c9bd6aa15f581...\n"
          ],
          "name": "stdout"
        },
        {
          "output_type": "display_data",
          "data": {
            "application/vnd.jupyter.widget-view+json": {
              "model_id": "f9c8a483bb3f4d8788b837a203659661",
              "version_minor": 0,
              "version_major": 2
            },
            "text/plain": [
              "HBox(children=(FloatProgress(value=0.0, description='Downloading', max=166373201.0, style=ProgressStyle(descri…"
            ]
          },
          "metadata": {
            "tags": []
          }
        },
        {
          "output_type": "stream",
          "text": [
            "\n"
          ],
          "name": "stdout"
        },
        {
          "output_type": "display_data",
          "data": {
            "application/vnd.jupyter.widget-view+json": {
              "model_id": "37ef43c2577f4e3fb88c8017d3c8c6ef",
              "version_minor": 0,
              "version_major": 2
            },
            "text/plain": [
              "HBox(children=(FloatProgress(value=1.0, bar_style='info', max=1.0), HTML(value='')))"
            ]
          },
          "metadata": {
            "tags": []
          }
        },
        {
          "output_type": "stream",
          "text": [
            "\r"
          ],
          "name": "stdout"
        },
        {
          "output_type": "display_data",
          "data": {
            "application/vnd.jupyter.widget-view+json": {
              "model_id": "29a109d48388462dabad99ea7b45398b",
              "version_minor": 0,
              "version_major": 2
            },
            "text/plain": [
              "HBox(children=(FloatProgress(value=1.0, bar_style='info', max=1.0), HTML(value='')))"
            ]
          },
          "metadata": {
            "tags": []
          }
        },
        {
          "output_type": "stream",
          "text": [
            "\u001b[34;1mtextattack\u001b[0m: Loading \u001b[94mdatasets\u001b[0m dataset \u001b[94myelp_polarity\u001b[0m, split \u001b[94mtest\u001b[0m.\n"
          ],
          "name": "stderr"
        },
        {
          "output_type": "stream",
          "text": [
            "\rDataset yelp_polarity downloaded and prepared to /root/.cache/huggingface/datasets/yelp_polarity/plain_text/1.0.0/591dc79cb354c6f051b5bf61c77a446205c98156e01669c6218c9bd6aa15f581. Subsequent calls will reuse this data.\n"
          ],
          "name": "stdout"
        }
      ]
    },
    {
      "cell_type": "code",
      "metadata": {
        "colab": {
          "base_uri": "https://localhost:8080/"
        },
        "id": "axfmmqOUlwtU",
        "outputId": "e7518728-12b0-4883-f79d-43c88a456bfd"
      },
      "source": [
        "print(attack)"
      ],
      "execution_count": null,
      "outputs": [
        {
          "output_type": "stream",
          "text": [
            "Attack(\n",
            "  (search_method): GreedyWordSwapWIR(\n",
            "    (wir_method):  delete\n",
            "  )\n",
            "  (goal_function):  UntargetedClassification\n",
            "  (transformation):  WordSwapMaskedLM(\n",
            "    (method):  bae\n",
            "    (masked_lm_name):  BertForMaskedLM\n",
            "    (max_length):  512\n",
            "    (max_candidates):  50\n",
            "    (min_confidence):  0.0\n",
            "  )\n",
            "  (constraints): \n",
            "    (0): PartOfSpeech(\n",
            "        (tagger_type):  nltk\n",
            "        (tagset):  universal\n",
            "        (allow_verb_noun_swap):  True\n",
            "        (compare_against_original):  True\n",
            "      )\n",
            "    (1): UniversalSentenceEncoder(\n",
            "        (metric):  cosine\n",
            "        (threshold):  0.936338023\n",
            "        (window_size):  15\n",
            "        (skip_text_shorter_than_window):  True\n",
            "        (compare_against_original):  True\n",
            "      )\n",
            "    (2): RepeatModification\n",
            "    (3): StopwordModification\n",
            "  (is_black_box):  True\n",
            ")\n"
          ],
          "name": "stdout"
        }
      ]
    },
    {
      "cell_type": "code",
      "metadata": {
        "id": "FhK7my9wFTcj",
        "colab": {
          "base_uri": "https://localhost:8080/",
          "height": 1000
        },
        "outputId": "f831f0f0-ee8c-42c9-dbc0-6c4643113f14"
      },
      "source": [
        "printexample(attack)"
      ],
      "execution_count": null,
      "outputs": [
        {
          "output_type": "stream",
          "text": [
            "\r  0%|          | 0/25 [00:00<?, ?it/s]"
          ],
          "name": "stderr"
        },
        {
          "output_type": "stream",
          "text": [
            "Attack(\n",
            "  (search_method): GreedyWordSwapWIR(\n",
            "    (wir_method):  delete\n",
            "  )\n",
            "  (goal_function):  UntargetedClassification\n",
            "  (transformation):  WordSwapMaskedLM(\n",
            "    (method):  bae\n",
            "    (masked_lm_name):  BertForMaskedLM\n",
            "    (max_length):  512\n",
            "    (max_candidates):  50\n",
            "    (min_confidence):  0.0\n",
            "  )\n",
            "  (constraints): \n",
            "    (0): PartOfSpeech(\n",
            "        (tagger_type):  nltk\n",
            "        (tagset):  universal\n",
            "        (allow_verb_noun_swap):  True\n",
            "        (compare_against_original):  True\n",
            "      )\n",
            "    (1): UniversalSentenceEncoder(\n",
            "        (metric):  cosine\n",
            "        (threshold):  0.936338023\n",
            "        (window_size):  15\n",
            "        (skip_text_shorter_than_window):  True\n",
            "        (compare_against_original):  True\n",
            "      )\n",
            "    (2): RepeatModification\n",
            "    (3): StopwordModification\n",
            "  (is_black_box):  True\n",
            ")\n"
          ],
          "name": "stdout"
        },
        {
          "output_type": "stream",
          "text": [
            "5 out of the last 5 calls to <function recreate_function.<locals>.restored_function_body at 0x7f71d7812d40> triggered tf.function retracing. Tracing is expensive and the excessive number of tracings could be due to (1) creating @tf.function repeatedly in a loop, (2) passing tensors with different shapes, (3) passing Python objects instead of tensors. For (1), please define your @tf.function outside of the loop. For (2), @tf.function has experimental_relax_shapes=True option that relaxes argument shapes that can avoid unnecessary retracing. For (3), please refer to https://www.tensorflow.org/guide/function#controlling_retracing and https://www.tensorflow.org/api_docs/python/tf/function for  more details.\n",
            "6 out of the last 8 calls to <function recreate_function.<locals>.restored_function_body at 0x7f71d7147b00> triggered tf.function retracing. Tracing is expensive and the excessive number of tracings could be due to (1) creating @tf.function repeatedly in a loop, (2) passing tensors with different shapes, (3) passing Python objects instead of tensors. For (1), please define your @tf.function outside of the loop. For (2), @tf.function has experimental_relax_shapes=True option that relaxes argument shapes that can avoid unnecessary retracing. For (3), please refer to https://www.tensorflow.org/guide/function#controlling_retracing and https://www.tensorflow.org/api_docs/python/tf/function for  more details.\n"
          ],
          "name": "stderr"
        },
        {
          "output_type": "display_data",
          "data": {
            "text/html": [
              "<font color = green>2 (100%)</font> --> <font color = red>1 (50%)</font><br>Contrary to other reviews, I have <font color = green>zero</font> complaints about the service or the prices. I have been getting tire service here for the past 5 years now, and compared to my experience with places like Pep Boys, these guys are experienced and <font color = green>know</font> what they're doing. \\nAlso, this is one place that I do not feel like I am being taken advantage of, just because of my gender. Other auto mechanics have been notorious for capitalizing on my ignorance of cars, and have sucked my bank account dry. <font color = green>But</font> here, my service and road coverage has all been <font color = green>well</font> explained - and let up to me to decide. \\nAnd they just renovated the waiting room. It looks a lot better than it did in previous <font color = green>years</font>.<br>Contrary to other reviews, I have <font color = red>ь</font> complaints about the service or the prices. I have been getting tire service here for the past 5 years now, and compared to my experience with places like Pep Boys, these guys are experienced and <font color = red>mis</font> what they're doing. \\nAlso, this is one place that I do not feel like I am being taken advantage of, just because of my gender. Other auto mechanics have been notorious for capitalizing on my ignorance of cars, and have sucked my bank account dry. <font color = red>and</font> here, my service and road coverage has all been <font color = red>uously</font> explained - and let up to me to decide. \\nAnd they just renovated the waiting room. It looks a lot better than it did in previous <font color = red>ments</font>."
            ],
            "text/plain": [
              "<IPython.core.display.HTML object>"
            ]
          },
          "metadata": {
            "tags": []
          }
        },
        {
          "output_type": "stream",
          "text": [
            "[Succeeded / Failed / Total] 1 / 0 / 1:   4%|▍         | 1/25 [00:13<05:29, 13.71s/it]"
          ],
          "name": "stderr"
        },
        {
          "output_type": "display_data",
          "data": {
            "text/html": [
              "<font color = red>1 (100%)</font> --> <font color = green>2 (62%)</font><br>Last summer I had an appointment to <font color = red>get</font> new tires and had to wait a <font color = red>super</font> long time. I also went in this week for them to fix a minor problem with a tire they <font color = red>put</font> on. They \\\"\"fixed\\\"\" it for free, and the very next morning I had the same issue. I <font color = red>called</font> to complain, and the \\\"\"manager\\\"\" didn't even apologize!!! <font color = red>So</font> frustrated. <font color = red>Never</font> going back.  They seem overpriced, too.<br>Last summer I had an appointment to <font color = green>yer</font> new tires and had to wait a <font color = green>vis</font> long time. I also went in this week for them to fix a minor problem with a tire they <font color = green>laid</font> on. They \\\"\"fixed\\\"\" it for free, and the very next morning I had the same issue. I <font color = green>dled</font> to complain, and the \\\"\"manager\\\"\" didn't even apologize!!! <font color = green>ously</font> frustrated. <font color = green>works</font> going back.  They seem overpriced, too."
            ],
            "text/plain": [
              "<IPython.core.display.HTML object>"
            ]
          },
          "metadata": {
            "tags": []
          }
        },
        {
          "output_type": "stream",
          "text": [
            "[Succeeded / Failed / Total] 2 / 0 / 2:   8%|▊         | 2/25 [00:36<07:03, 18.42s/it]"
          ],
          "name": "stderr"
        },
        {
          "output_type": "display_data",
          "data": {
            "text/html": [
              "<font color = green>2 (100%)</font> --> <font color = red>1 (59%)</font><br><font color = green>Friendly</font> staff, same starbucks fair you get anywhere else.  Sometimes the lines can get long.<br><font color = red>ller</font> staff, same starbucks fair you get anywhere else.  Sometimes the lines can get long."
            ],
            "text/plain": [
              "<IPython.core.display.HTML object>"
            ]
          },
          "metadata": {
            "tags": []
          }
        },
        {
          "output_type": "stream",
          "text": [
            "[Succeeded / Failed / Total] 3 / 0 / 3:  12%|█▏        | 3/25 [00:38<04:40, 12.76s/it]"
          ],
          "name": "stderr"
        },
        {
          "output_type": "display_data",
          "data": {
            "text/html": [
              "<font color = red>1 (99%)</font> --> <font color = red>[FAILED]</font><br>The food is good. Unfortunately the service is very hit or miss. The main issue seems to be with the kitchen, the waiters and waitresses are often very apologetic for the long waits and it's pretty obvious that some of them avoid the tables after taking the initial order to avoid hearing complaints."
            ],
            "text/plain": [
              "<IPython.core.display.HTML object>"
            ]
          },
          "metadata": {
            "tags": []
          }
        },
        {
          "output_type": "stream",
          "text": [
            "[Succeeded / Failed / Total] 3 / 1 / 4:  16%|█▌        | 4/25 [00:53<04:41, 13.40s/it]"
          ],
          "name": "stderr"
        },
        {
          "output_type": "display_data",
          "data": {
            "text/html": [
              "<font color = green>2 (100%)</font> --> <font color = red>[FAILED]</font><br>Even when we didn't have a car Filene's Basement was worth the bus trip to the Waterfront. I always find something (usually I find 3-4 things and spend about $60) and better still, I am always still wearing the clothes and shoes 3 months later. \\n\\nI kind of suspect this is the best shopping in Pittsburgh; it's much better than the usual department stores, better than Marshall's and TJ Maxx and better than the Saks downtown, even when it has a sale. Selection, bargains AND quality.\\n\\nI like this Filene's better than Gabriel Brothers, which are harder to get to. Gabriel Brothers are a real discount shopper's challenge and I'm afraid I didn't live in Pittsburgh long enough to develop the necessary skills . . . Filene's was still up and running in June 2007 when I left town."
            ],
            "text/plain": [
              "<IPython.core.display.HTML object>"
            ]
          },
          "metadata": {
            "tags": []
          }
        },
        {
          "output_type": "stream",
          "text": [
            "[Succeeded / Failed / Total] 3 / 2 / 5:  20%|██        | 5/25 [01:47<07:08, 21.41s/it]"
          ],
          "name": "stderr"
        },
        {
          "output_type": "display_data",
          "data": {
            "text/html": [
              "<font color = green>2 (100%)</font> --> <font color = red>1 (51%)</font><br>Picture Billy Joel's \\\"\"Piano Man\\\"\" DOUBLED mixed with beer, a rowdy crowd, and comedy - Welcome to Sing Sing!  A unique musical experience found in Homestead.\\n\\nIf you're looking to grab a bite to eat or a beer, come on in!  Serving food and <font color = green>brews</font> from Rock Bottom Brewery, Sing Sing keeps your tummy full while you listen to two (or more) amazingly talented pianists take your musical requests.  They'll play <font color = green>anything</font> you'd like, for tips of course.  Wanting to hear Britney Spears?  Toto?  Duran Duran?  Yep, they <font color = green>play</font> that... new or old.\\n\\nThe crowd <font color = green>makes</font> the show, so make sure you come ready for a good time.  <font color = green>If</font> the crowd is dead, it's harder for the Guys to get a reaction.  <font color = green>If</font> you're wanting to have some fun, it can be a GREAT time!  It's the perfect place for Birthday parties - especially if you want to embarrass a friend.  The guys will <font color = green>bring</font> them up to the pianos and <font color = green>perform</font> a little ditty.  <font color = green>For</font> being a good sport, you get the <font color = green>coveted</font> Sing Sing bumper sticker.  Now who wouldn't want that?\\n\\nDueling Pianos and brews... time to Shut Up & Sing Sing!<br>Picture Billy Joel's \\\"\"Piano Man\\\"\" DOUBLED mixed with beer, a rowdy crowd, and comedy - Welcome to Sing Sing!  A unique musical experience found in Homestead.\\n\\nIf you're looking to grab a bite to eat or a beer, come on in!  Serving food and <font color = red>igan</font> from Rock Bottom Brewery, Sing Sing keeps your tummy full while you listen to two (or more) amazingly talented pianists take your musical requests.  They'll play <font color = red>tel</font> you'd like, for tips of course.  Wanting to hear Britney Spears?  Toto?  Duran Duran?  Yep, they <font color = red>hear</font> that... new or old.\\n\\nThe crowd <font color = red>des</font> the show, so make sure you come ready for a good time.  <font color = red>o</font> the crowd is dead, it's harder for the Guys to get a reaction.  <font color = red>by</font> you're wanting to have some fun, it can be a GREAT time!  It's the perfect place for Birthday parties - especially if you want to embarrass a friend.  The guys will <font color = red>d</font> them up to the pianos and <font color = red>cker</font> a little ditty.  <font color = red>in</font> being a good sport, you get the <font color = red>uck</font> Sing Sing bumper sticker.  Now who wouldn't want that?\\n\\nDueling Pianos and brews... time to Shut Up & Sing Sing!"
            ],
            "text/plain": [
              "<IPython.core.display.HTML object>"
            ]
          },
          "metadata": {
            "tags": []
          }
        },
        {
          "output_type": "stream",
          "text": [
            "[Succeeded / Failed / Total] 4 / 2 / 6:  24%|██▍       | 6/25 [02:14<07:04, 22.35s/it]"
          ],
          "name": "stderr"
        },
        {
          "output_type": "display_data",
          "data": {
            "text/html": [
              "<font color = red>1 (100%)</font> --> <font color = red>[FAILED]</font><br>Mediocre service. COLD food! Our food waited so long the lettuce & pickles wilted. Bland food. Crazy overpriced. Long waits in the arcade. 1 beer per hour maximum.  Avoid at all costs. Fair manager."
            ],
            "text/plain": [
              "<IPython.core.display.HTML object>"
            ]
          },
          "metadata": {
            "tags": []
          }
        },
        {
          "output_type": "stream",
          "text": [
            "[Succeeded / Failed / Total] 4 / 3 / 7:  28%|██▊       | 7/25 [02:31<06:28, 21.61s/it]"
          ],
          "name": "stderr"
        },
        {
          "output_type": "display_data",
          "data": {
            "text/html": [
              "<font color = red>1 (100%)</font> --> <font color = green>2 (53%)</font><br>Ok! Let me <font color = red>tell</font> you about my bad experience first. I went to D&B last night for a post wedding party - which, side note, is a great <font color = red>idea</font>!\\n\\nIt was around midnight and the bar wasn't really populated. There were three bartenders and only one was actually making rounds to see if anyone needed anything. The two other bartenders were chatting on the far side of the bar that no one was sitting at. Kind of counter productive if you ask me. \\n\\nI stood there for about 5 minutes, which for a busy bar is fine but when I am the only <font color = red>one</font> with my card out then, it just seems a little ridiculous. I made eye contact with the one girl <font color = red>twice</font> and gave her a smile and she literally <font color = red>turned</font> away. I finally had to walk to them to <font color = red>get</font> their attention.  I was <font color = red>standing</font> right in front of them smiling and they didn't ask if i need anything. I finally said, \\\"\"Are you working?\\\"\" and they gave each other a weird look. I felt like i was the crazy one. I asked for a beer/got the beer.\\n\\nIn between that time, the other bartender brought food over and set it down. She took a fry from the plate (right in front of me) and then served it to someone on the other side of the bar. What the hell! I felt like i was in some grimy bar in out in the sticks - not an established D&B. \\n\\nI was just really turned off from that experience. \\n\\nThe good is that D&B provides a different type of entertainment when you want to mix things up. I remember going here with my grandparents when I was a kid and it was the best treat ever! We would eat at the restaurant and then spend hours playing games. This place holds some really good memories for me. \\n\\nIt's a shame that my experience last night has spoiled the high standards I held for it.<br>Ok! Let me <font color = green>tre</font> you about my bad experience first. I went to D&B last night for a post wedding party - which, side note, is a great <font color = green>time</font>!\\n\\nIt was around midnight and the bar wasn't really populated. There were three bartenders and only one was actually making rounds to see if anyone needed anything. The two other bartenders were chatting on the far side of the bar that no one was sitting at. Kind of counter productive if you ask me. \\n\\nI stood there for about 5 minutes, which for a busy bar is fine but when I am the only <font color = green>gler</font> with my card out then, it just seems a little ridiculous. I made eye contact with the one girl <font color = green>ry</font> and gave her a smile and she literally <font color = green>oslav</font> away. I finally had to walk to them to <font color = green>take</font> their attention.  I was <font color = green>opped</font> right in front of them smiling and they didn't ask if i need anything. I finally said, \\\"\"Are you working?\\\"\" and they gave each other a weird look. I felt like i was the crazy one. I asked for a beer/got the beer.\\n\\nIn between that time, the other bartender brought food over and set it down. She took a fry from the plate (right in front of me) and then served it to someone on the other side of the bar. What the hell! I felt like i was in some grimy bar in out in the sticks - not an established D&B. \\n\\nI was just really turned off from that experience. \\n\\nThe good is that D&B provides a different type of entertainment when you want to mix things up. I remember going here with my grandparents when I was a kid and it was the best treat ever! We would eat at the restaurant and then spend hours playing games. This place holds some really good memories for me. \\n\\nIt's a shame that my experience last night has spoiled the high standards I held for it."
            ],
            "text/plain": [
              "<IPython.core.display.HTML object>"
            ]
          },
          "metadata": {
            "tags": []
          }
        },
        {
          "output_type": "stream",
          "text": [
            "[Succeeded / Failed / Total] 5 / 3 / 8:  32%|███▏      | 8/25 [02:53<06:07, 21.63s/it]"
          ],
          "name": "stderr"
        },
        {
          "output_type": "display_data",
          "data": {
            "text/html": [
              "<font color = red>1 (100%)</font> --> <font color = red>[FAILED]</font><br>I used to love D&B when it first opened in the Waterfront, but it has gone down hill over the years. The games are not as fun and do not give you as many tickets and the prizes have gotten cheaper in quality. It takes a whole heck of a lot of tickets for you to even get a pencil! The atmosphere is okay but it used to be so much better with the funnest games and diverse groups of people! Now, it is run down and many of the games are app related games (Fruit Ninja) and 3D Experience rides. With such \\\"\"games\\\"\", you can't even earn tickets and they take a lot of tokens! Last time I went, back in the winter, many of the games were broken, which made for a negative player experience. I would go to D&B to play some games again in the future, but it is no longer one of my favorite places to go due to the decline of fun games where you can earn tickets."
            ],
            "text/plain": [
              "<IPython.core.display.HTML object>"
            ]
          },
          "metadata": {
            "tags": []
          }
        },
        {
          "output_type": "stream",
          "text": [
            "[Succeeded / Failed / Total] 5 / 4 / 9:  36%|███▌      | 9/25 [03:49<06:48, 25.52s/it]"
          ],
          "name": "stderr"
        },
        {
          "output_type": "display_data",
          "data": {
            "text/html": [
              "<font color = green>2 (100%)</font> --> <font color = red>[FAILED]</font><br>Like any Barnes & Noble, it has a nice comfy cafe, and a large selection of books.  The staff is very friendly and helpful.  They stock a decent selection, and the prices are pretty reasonable.  Obviously it's hard for them to compete with Amazon.  However since all the small shop bookstores are gone, it's nice to walk into one every once in a while."
            ],
            "text/plain": [
              "<IPython.core.display.HTML object>"
            ]
          },
          "metadata": {
            "tags": []
          }
        },
        {
          "output_type": "stream",
          "text": [
            "[Succeeded / Failed / Total] 5 / 5 / 10:  40%|████      | 10/25 [04:07<06:11, 24.74s/it]"
          ],
          "name": "stderr"
        },
        {
          "output_type": "display_data",
          "data": {
            "text/html": [
              "<font color = red>1 (100%)</font> --> <font color = red>[FAILED]</font><br>Meh, I've experienced better is an understatement.\\n\\nFriday's is like the \\\"\"fine dining chain\\\"\" for every yinzer in Pittsburgh...\\n\\n1.  When we were seated, it was quick which was a surprise.  Somehow this restaurant gets packed and I never understand why.  I was happy about that.\\n2.  I ordered one of their \\\"\"skinny margaritas\\\"\", blackberry to be exact.  It was a nice size, however, at $6.00/pop, that was half of my food bill.\\n3.  The waitress started off attentive, but after our food came out she was gone.  I ordered a turkey burger with pickle and mustard.  Loaded mashed potato on the side because I wanted heartburn ha!\\n4.  Food came.  My burger had lettuce on it only.  Waitress was supposed to go and get our next round of drinks.  I had to wait to ask for my pickle.\\n5.  The loaded potatoes were more like rubber than potatoes and not what I was expecting.  Disappointment.\\n6.  The waitress then went into oblivion and only returned with our check.  \\n\\nNever again will I eat at Friday's.  I will, however, go should a happy hour arise..."
            ],
            "text/plain": [
              "<IPython.core.display.HTML object>"
            ]
          },
          "metadata": {
            "tags": []
          }
        },
        {
          "output_type": "stream",
          "text": [
            "[Succeeded / Failed / Total] 5 / 6 / 11:  44%|████▍     | 11/25 [05:25<06:54, 29.57s/it]"
          ],
          "name": "stderr"
        },
        {
          "output_type": "display_data",
          "data": {
            "text/html": [
              "<font color = green>2 (100%)</font> --> <font color = red>1 (55%)</font><br><font color = green>Unos</font> has been around for ever, & I feel like this restaurant chain peak in popularity in the 80's. Honestly the decor <font color = green>inside</font> still kind of looks 80s to me even though its nice with sleek booth and exposed brick.\\n\\nIf you haven't died and he recently I ordered you to come back and have a meal here again because honestly the food is really quite good!\\n\\<font color = green>nThey</font> have the best chicken salad wrap ever! I love that rap so much I want agreed to walk the south side River <font color = green>Trail</font> from where the Steelers practice all the way to the <font color = green>damn</font> waterfront just because I knew that I could convince my boyfriend to <font color = green>go</font> to Unos with me for lunch.  Full disclosure:  I <font color = green>made</font> him call is a cab and we <font color = green>took</font> a taxi <font color = green>back</font> to the parking lot after <font color = green>lunch</font>.\\<font color = green>n</font>\\<font color = green>nListen</font>... The food and pizza and service are very <font color = green>good</font>, surprisingly so! I don't know why this place is not busier but next <font color = green>time</font> you're down at the Waterfront please do <font color = green>consider</font> dining here!<br><font color = red>rrick</font> has been around for ever, & I feel like this restaurant chain peak in popularity in the 80's. Honestly the decor <font color = red>at</font> still kind of looks 80s to me even though its nice with sleek booth and exposed brick.\\n\\nIf you haven't died and he recently I ordered you to come back and have a meal here again because honestly the food is really quite good!\\n\\<font color = red>oku</font> have the best chicken salad wrap ever! I love that rap so much I want agreed to walk the south side River <font color = red>ber</font> from where the Steelers practice all the way to the <font color = red>ɫ</font> waterfront just because I knew that I could convince my boyfriend to <font color = red>let</font> to Unos with me for lunch.  Full disclosure:  I <font color = red>ser</font> him call is a cab and we <font color = red>ran</font> a taxi <font color = red>down</font> to the parking lot after <font color = red>mp</font>.\\<font color = red>ni</font>\\<font color = red>uh</font>... The food and pizza and service are very <font color = red>unas</font>, surprisingly so! I don't know why this place is not busier but next <font color = red>imum</font> you're down at the Waterfront please do <font color = red>r</font> dining here!"
            ],
            "text/plain": [
              "<IPython.core.display.HTML object>"
            ]
          },
          "metadata": {
            "tags": []
          }
        },
        {
          "output_type": "stream",
          "text": [
            "[Succeeded / Failed / Total] 6 / 6 / 12:  48%|████▊     | 12/25 [06:02<06:32, 30.22s/it]"
          ],
          "name": "stderr"
        },
        {
          "output_type": "display_data",
          "data": {
            "text/html": [
              "<font color = red>1 (100%)</font> --> <font color = red>[FAILED]</font><br>Stars are for the food only.    2.5 rating\\n\\nGot there at 8pm on Saturday night, they told us it was an hour wait which was expected, but it only took 30minutes to be seated so that was a bonus.  Started off with the lettuce wraps and i used to be a fan of these but they just seem to bore me now(FYI-love the lettuce wraps at the cheesecake factory).  I had the Singapore rice noodles.  This was so so as i thought immediately that lu lu noodles and asian cafe are better.  The fried rice was disappointing and the vegetables tasted raw.   Some good notes were the Dynamite shrimp, plump, juicy, tangy with a small kick.    Sweet and sour chicken was just the same minus the kick. \\n\\nThe service was annoying.   We were there less than 45 minutes and it seemed like our waiter was in a rush to get us out of there.   Constantly asking if he could remove my plate.  I had to sternly say at one point that I will let you know when i am finished.  I found it rude especially since  there wasn't even a line at this point.  \\n\\nI think we will travel elsewhere following a movie.  The result never quite met the anticipation."
            ],
            "text/plain": [
              "<IPython.core.display.HTML object>"
            ]
          },
          "metadata": {
            "tags": []
          }
        },
        {
          "output_type": "stream",
          "text": [
            "[Succeeded / Failed / Total] 6 / 7 / 13:  52%|█████▏    | 13/25 [07:19<06:45, 33.83s/it]"
          ],
          "name": "stderr"
        },
        {
          "output_type": "display_data",
          "data": {
            "text/html": [
              "<font color = red>1 (100%)</font> --> <font color = red>[FAILED]</font><br>Our last few visits have left something to desire, One of the things I always notice is the demeanor of an establishments employees. These people look miserable, no one smiles or greets you appropriately, it's more like get in, get out, turn the tables,\\n\\nThe food has remained consistently good... when we can order it. the last time JB and I came for a quick dinner, the place was not busy yet we were passed by 6 frowning waitstaff without getting drinks... for 15 minutes we were left suiting at our table with our menus closed and sitting on the edge of the table (HINT, HINT) so we left and most likely will not be returning."
            ],
            "text/plain": [
              "<IPython.core.display.HTML object>"
            ]
          },
          "metadata": {
            "tags": []
          }
        },
        {
          "output_type": "stream",
          "text": [
            "[Succeeded / Failed / Total] 6 / 8 / 14:  56%|█████▌    | 14/25 [07:58<06:15, 34.15s/it]"
          ],
          "name": "stderr"
        },
        {
          "output_type": "display_data",
          "data": {
            "text/html": [
              "<font color = green>2 (100%)</font> --> <font color = red>1 (81%)</font><br><font color = green>Good</font> <font color = green>quality</font> pork fried dumpling and mongo beef.  Bar <font color = green>service</font> was fast and Efficent.   Good value.  Not a 5 <font color = green>cause</font> dragon eye tea was cold first time <font color = green>around</font> and beef had minor amount of fat.   Fortune was even Postive!<br><font color = red>nna</font> <font color = red>was</font> pork fried dumpling and mongo beef.  Bar <font color = red>bs</font> was fast and Efficent.   Good value.  Not a 5 <font color = red>mg</font> dragon eye tea was cold first time <font color = red>up</font> and beef had minor amount of fat.   Fortune was even Postive!"
            ],
            "text/plain": [
              "<IPython.core.display.HTML object>"
            ]
          },
          "metadata": {
            "tags": []
          }
        },
        {
          "output_type": "stream",
          "text": [
            "[Succeeded / Failed / Total] 7 / 8 / 15:  60%|██████    | 15/25 [08:12<05:28, 32.81s/it]"
          ],
          "name": "stderr"
        },
        {
          "output_type": "display_data",
          "data": {
            "text/html": [
              "<font color = red>1 (100%)</font> --> <font color = green>2 (60%)</font><br>Very <font color = red>bad</font> purchase experience. I bought a shirt with a hole <font color = red>covered</font> in the rolled up sleeves, but they denied my <font color = red>request</font> to return it. I am so angery at this and will never shop their chothes <font color = red>anymore</font>.<br>Very <font color = green>good</font> purchase experience. I bought a shirt with a hole <font color = green>hole</font> in the rolled up sleeves, but they denied my <font color = green>wan</font> to return it. I am so angery at this and will never shop their chothes <font color = green>just</font>."
            ],
            "text/plain": [
              "<IPython.core.display.HTML object>"
            ]
          },
          "metadata": {
            "tags": []
          }
        },
        {
          "output_type": "stream",
          "text": [
            "[Succeeded / Failed / Total] 8 / 8 / 16:  64%|██████▍   | 16/25 [08:19<04:41, 31.22s/it]"
          ],
          "name": "stderr"
        },
        {
          "output_type": "display_data",
          "data": {
            "text/html": [
              "<font color = red>1 (100%)</font> --> <font color = green>2 (53%)</font><br>When I think BBB... I think the days of simply bringing your bike in for a quick and relatively inexpensive tune-up and a few fixes are long gone.    \\n\\<font color = red>nThis</font> review is more for the repair end of <font color = red>BBB</font>. In their defense BBB does appear to carry some <font color = red>amazing</font> brands of bike (ie Colnago) that you just don't find anywhere else in Pittsburgh. \\n\\nAt BBB I was <font color = red>charged</font> $250 for a tune up and a few other things. Granted this included installing a sew up tire (which I can understand would cost approx $50), Swapping out a left side (big ring) shifter on my down tube (this should have cost approx. $20 at most) and installing new bar tape (cost of tape $20 and $20 to install?).. SO WHAT\\\"\"S WITH $140 FOR A TUNE UP? Well the story goes like this:\\n\\nI bring the bike into BBB prior to the nice weather hitting Pittsburgh in <font color = red>hopes</font> of trying what people have said is a great bike shop and getting my OCLV TREK 5900 ready for the season. Turns out I don't hear from these guys. A week goes by ...two weeks...I think that's ok I have two or three other bike I can turn to for a ride. Then I wind up going out of town for a week thinking for sure I'll get a call from them re: my bike is ready to roll...but no dice. So I call. Turns out a screw snapped when the mechanic was re-installing the down tube shifter and it had to be tapped out (is that my fault?). He says \\\"\"Should be ready in a few days\\\"\". So I come in a few days later to this mammoth bill. I ask if I am paying for the labor of taping out the screw? I don't think I ever got a straight answer? I look at the bill and can't see a good breakdown of the charges. Normally I would \\\"\"duke it over\\\"\" a bill like this but I figured...I had somewhere I to be 10 minutes ago and at least I finally have my bike. I would expect that for that money my bike could have been stripped down to the frame and totally gone over (overhauled). But it wasn't.  Well BBB I'll give you a star because the mechanic did do a good job in that my cycle shifts well and the tape job on the bars looks great (nice wrap). Plus I'll toss in a star for your outstanding selection of high end cycles. Maybe I would have rated BBB higher if I was in the market for a purchase instead of a simple repair?<br>When I think BBB... I think the days of simply bringing your bike in for a quick and relatively inexpensive tune-up and a few fixes are long gone.    \\n\\<font color = green>uin</font> review is more for the repair end of <font color = green>ler</font>. In their defense BBB does appear to carry some <font color = green>mc</font> brands of bike (ie Colnago) that you just don't find anywhere else in Pittsburgh. \\n\\nAt BBB I was <font color = green>set</font> $250 for a tune up and a few other things. Granted this included installing a sew up tire (which I can understand would cost approx $50), Swapping out a left side (big ring) shifter on my down tube (this should have cost approx. $20 at most) and installing new bar tape (cost of tape $20 and $20 to install?).. SO WHAT\\\"\"S WITH $140 FOR A TUNE UP? Well the story goes like this:\\n\\nI bring the bike into BBB prior to the nice weather hitting Pittsburgh in <font color = green>fect</font> of trying what people have said is a great bike shop and getting my OCLV TREK 5900 ready for the season. Turns out I don't hear from these guys. A week goes by ...two weeks...I think that's ok I have two or three other bike I can turn to for a ride. Then I wind up going out of town for a week thinking for sure I'll get a call from them re: my bike is ready to roll...but no dice. So I call. Turns out a screw snapped when the mechanic was re-installing the down tube shifter and it had to be tapped out (is that my fault?). He says \\\"\"Should be ready in a few days\\\"\". So I come in a few days later to this mammoth bill. I ask if I am paying for the labor of taping out the screw? I don't think I ever got a straight answer? I look at the bill and can't see a good breakdown of the charges. Normally I would \\\"\"duke it over\\\"\" a bill like this but I figured...I had somewhere I to be 10 minutes ago and at least I finally have my bike. I would expect that for that money my bike could have been stripped down to the frame and totally gone over (overhauled). But it wasn't.  Well BBB I'll give you a star because the mechanic did do a good job in that my cycle shifts well and the tape job on the bars looks great (nice wrap). Plus I'll toss in a star for your outstanding selection of high end cycles. Maybe I would have rated BBB higher if I was in the market for a purchase instead of a simple repair?"
            ],
            "text/plain": [
              "<IPython.core.display.HTML object>"
            ]
          },
          "metadata": {
            "tags": []
          }
        },
        {
          "output_type": "stream",
          "text": [
            "[Succeeded / Failed / Total] 9 / 8 / 17:  68%|██████▊   | 17/25 [08:41<04:05, 30.68s/it]"
          ],
          "name": "stderr"
        },
        {
          "output_type": "display_data",
          "data": {
            "text/html": [
              "<font color = red>1 (100%)</font> --> <font color = red>[FAILED]</font><br>My orders have come out bad pretty much every time I have ordered from here. The chicken nuggets come out under par. I'm lucky if the fries come out right. My last experience is the last straw. I recently posted a photo of my Chicken Ranch Club. That has no chicken. This is ridiculous. I am done going to this Mcd's."
            ],
            "text/plain": [
              "<IPython.core.display.HTML object>"
            ]
          },
          "metadata": {
            "tags": []
          }
        },
        {
          "output_type": "stream",
          "text": [
            "[Succeeded / Failed / Total] 9 / 9 / 18:  72%|███████▏  | 18/25 [09:05<03:32, 30.31s/it]"
          ],
          "name": "stderr"
        },
        {
          "output_type": "display_data",
          "data": {
            "text/html": [
              "<font color = red>1 (100%)</font> --> <font color = red>[FAILED]</font><br>Wow. What a shame. My family just moved to the area and have been sampling the local cuisine. We are a very large family and love foods of all kind. We've eaten Chinese food from a hundred different places in a dozen different cities. Hands down, this was the worst we've ever had. Cold, tough, congealed, and tasteless - that's the only way to describe it. I'll never order from here again. Quite frankly, the fact that I took time away from my kids to type this out should tell you how awful it was. My complaints fell on deaf ears. I guess they were shocked that someone thought that they were serving low grade dog food. I understand that sometimes restaurants crank out bad food. It happens. But when it does, you bend over backwards to make it right. Not at this place. I was told that he would have to speak with the owner in order to help me. I guess that's how they deflect complaints - blame it on the owners that aren't there and make the customer for away angry.  Too bad. Because we will be visiting a competitor in the future. This family of 7 won't be visiting China Sea ever again. Oh, and by the way, why can't I give this place zero stars?"
            ],
            "text/plain": [
              "<IPython.core.display.HTML object>"
            ]
          },
          "metadata": {
            "tags": []
          }
        },
        {
          "output_type": "stream",
          "text": [
            "[Succeeded / Failed / Total] 9 / 10 / 19:  76%|███████▌  | 19/25 [10:29<03:18, 33.14s/it]"
          ],
          "name": "stderr"
        },
        {
          "output_type": "display_data",
          "data": {
            "text/html": [
              "<font color = green>2 (100%)</font> --> <font color = red>[FAILED]</font><br>I fell in love with this place as soon as we pulled up and saw the lights strung up and  oldies coming from the speakers! \\n\\nI tried the banana cream pie hard ice cream, their scoops are very generous!! \\n\\nMy bf got the peach cobbler hard ice cream and that was to die for! We got 4 servings of ice cream for $10, which nowadays is a steal IMO! :) \\n\\nI'll definitely be heading back with my coworkers this week!"
            ],
            "text/plain": [
              "<IPython.core.display.HTML object>"
            ]
          },
          "metadata": {
            "tags": []
          }
        },
        {
          "output_type": "stream",
          "text": [
            "[Succeeded / Failed / Total] 9 / 11 / 20:  80%|████████  | 20/25 [10:59<02:44, 32.96s/it]"
          ],
          "name": "stderr"
        },
        {
          "output_type": "display_data",
          "data": {
            "text/html": [
              "<font color = green>2 (100%)</font> --> <font color = red>1 (52%)</font><br>This is by far, the <font color = green>BEST</font> soft serve ice cream place in southwestern PA. <font color = green>The</font> \\\"\"flavor of the week\\\"\" is <font color = green>always</font> interesting-and tasty! <font color = green>Though</font>, I am somewhat disappointed that they've switched to a <font color = green>lower</font> grade ice milk, for their vanilla and chocolate offerings. I don't know if this is a matter of <font color = green>cutting</font> corners, or if the better stuff simply isn't available any longer. <font color = green>Either</font> way, this place is still leaps and bounds ahead of DQ, Tastee Freeze, etc. It's definitely <font color = green>worth</font> the trip. It's mostly street parking, though they do have about 3-4 parking spaces off to the side. <font color = green>Serving</font> sizes are huge! The small cone here, is the same <font color = green>size</font> as a DQ large. And the large is SO big, they can't fit it through the <font color = green>window-they</font> hand it out the side door.\\n\\<font color = green>nIf</font> you want a real \\\"\"Kodak moment\\\"\"-order a large <font color = green>cone</font> for the kids, and keep the camera, and wet wipes <font color = green>handy</font>!<br>This is by far, the <font color = red>gging</font> soft serve ice cream place in southwestern PA. <font color = red>a</font> \\\"\"flavor of the week\\\"\" is <font color = red>fully</font> interesting-and tasty! <font color = red>of</font>, I am somewhat disappointed that they've switched to a <font color = red>good</font> grade ice milk, for their vanilla and chocolate offerings. I don't know if this is a matter of <font color = red>cut</font> corners, or if the better stuff simply isn't available any longer. <font color = red>any</font> way, this place is still leaps and bounds ahead of DQ, Tastee Freeze, etc. It's definitely <font color = red>on</font> the trip. It's mostly street parking, though they do have about 3-4 parking spaces off to the side. <font color = red>lot</font> sizes are huge! The small cone here, is the same <font color = red>d</font> as a DQ large. And the large is SO big, they can't fit it through the <font color = red>lch</font> hand it out the side door.\\n\\<font color = red>uh</font> you want a real \\\"\"Kodak moment\\\"\"-order a large <font color = red>diment</font> for the kids, and keep the camera, and wet wipes <font color = red>hot</font>!"
            ],
            "text/plain": [
              "<IPython.core.display.HTML object>"
            ]
          },
          "metadata": {
            "tags": []
          }
        },
        {
          "output_type": "stream",
          "text": [
            "[Succeeded / Failed / Total] 10 / 11 / 21:  84%|████████▍ | 21/25 [11:42<02:13, 33.45s/it]"
          ],
          "name": "stderr"
        },
        {
          "output_type": "display_data",
          "data": {
            "text/html": [
              "<font color = green>2 (100%)</font> --> <font color = red>[FAILED]</font><br>This is my go-to distributer. They have a great selection and lots of hard to find brews. I haven't noticed that it's any more expensive than going elsewhere but honestly if I don't buy here then I'm buying six packs which as we all know are a huuugggge rip off. So any time I have a case of something I love I feel like I'm getting a bargain. The cold selection does suck so I try to plan ahead and have what I need already cold. Staff here are all very helpful- and will have recommendations if you ask."
            ],
            "text/plain": [
              "<IPython.core.display.HTML object>"
            ]
          },
          "metadata": {
            "tags": []
          }
        },
        {
          "output_type": "stream",
          "text": [
            "[Succeeded / Failed / Total] 10 / 12 / 22:  88%|████████▊ | 22/25 [12:12<01:39, 33.29s/it]"
          ],
          "name": "stderr"
        },
        {
          "output_type": "display_data",
          "data": {
            "text/html": [
              "<font color = green>2 (100%)</font> --> <font color = red>[FAILED]</font><br>Love this beer distributor.  They always have what I'm looking for. The workers are extremely nice and always willing to help. Best one I've seen by far."
            ],
            "text/plain": [
              "<IPython.core.display.HTML object>"
            ]
          },
          "metadata": {
            "tags": []
          }
        },
        {
          "output_type": "stream",
          "text": [
            "[Succeeded / Failed / Total] 10 / 13 / 23:  92%|█████████▏| 23/25 [12:20<01:04, 32.20s/it]"
          ],
          "name": "stderr"
        },
        {
          "output_type": "display_data",
          "data": {
            "text/html": [
              "<font color = red>1 (100%)</font> --> <font color = green>2 (70%)</font><br>Went here with a gift card from the restaurant week photo competition. \\n\\nWe were one of two tables there and a bunch of staff showing up during the meal. \\n\\nOur waitress was good, but that couldn't <font color = red>save</font> the food.\\n\\nThe meal started out with some what I guess used to be foccacia.  I say used to be because it no longer represented anything other than long pieces of brick or bark very stale and <font color = red>tasteless</font>.\\n\\nWe ordered the vegetable board which was probably the best thing we ordered with light and bright vegetables perfectly cooked and paired with two delicious sauces. \\n\\<font color = red>nThen</font> we ordered the octopus which was fine, but very cold and the octopus had little to no <font color = red>flavor</font>, being overwhelmed by the citrus in the dish. \\n\\nThe tuscan wings were ok, but they were really ordered for my husband who seemed to enjoy them. \\n\\nFinally the diver scallops.  <font color = red>This</font> dish was indeible.  The scallops were very overcooked and the pea puree was so minty I was <font color = red>unable</font> to eat it. We sent it back and they did take off half of the price (weren't expecting anything just didn't want to eat it). \\n\\nAfter that we decided against dessert and left.  I probably will not return.<br>Went here with a gift card from the restaurant week photo competition. \\n\\nWe were one of two tables there and a bunch of staff showing up during the meal. \\n\\nOur waitress was good, but that couldn't <font color = green>stand</font> the food.\\n\\nThe meal started out with some what I guess used to be foccacia.  I say used to be because it no longer represented anything other than long pieces of brick or bark very stale and <font color = green>olate</font>.\\n\\nWe ordered the vegetable board which was probably the best thing we ordered with light and bright vegetables perfectly cooked and paired with two delicious sauces. \\n\\<font color = green>oney</font> we ordered the octopus which was fine, but very cold and the octopus had little to no <font color = green>mis</font>, being overwhelmed by the citrus in the dish. \\n\\nThe tuscan wings were ok, but they were really ordered for my husband who seemed to enjoy them. \\n\\nFinally the diver scallops.  <font color = green>the</font> dish was indeible.  The scallops were very overcooked and the pea puree was so minty I was <font color = green>nivorous</font> to eat it. We sent it back and they did take off half of the price (weren't expecting anything just didn't want to eat it). \\n\\nAfter that we decided against dessert and left.  I probably will not return."
            ],
            "text/plain": [
              "<IPython.core.display.HTML object>"
            ]
          },
          "metadata": {
            "tags": []
          }
        },
        {
          "output_type": "stream",
          "text": [
            "[Succeeded / Failed / Total] 11 / 13 / 24:  96%|█████████▌| 24/25 [12:33<00:31, 31.39s/it]"
          ],
          "name": "stderr"
        },
        {
          "output_type": "display_data",
          "data": {
            "text/html": [
              "<font color = red>1 (100%)</font> --> <font color = red>[FAILED]</font><br>I went there today! The cut was terrible! I have an awful experience. They lady that cut my hair was nice but she wanted to leave early so she made a disaster in my head!"
            ],
            "text/plain": [
              "<IPython.core.display.HTML object>"
            ]
          },
          "metadata": {
            "tags": []
          }
        },
        {
          "output_type": "stream",
          "text": [
            "[Succeeded / Failed / Total] 11 / 14 / 25: 100%|██████████| 25/25 [12:44<00:00, 30.57s/it]"
          ],
          "name": "stderr"
        },
        {
          "output_type": "stream",
          "text": [
            "+-------------------------------+--------+\n",
            "| Attack Results                |        |\n",
            "+-------------------------------+--------+\n",
            "| Number of successful attacks: | 11     |\n",
            "| Number of failed attacks:     | 14     |\n",
            "| Number of skipped attacks:    | 0      |\n",
            "| Original accuracy:            | 100.0% |\n",
            "| Accuracy under attack:        | 56.0%  |\n",
            "| Attack success rate:          | 44.0%  |\n",
            "| Average perturbed word %:     | 6.44%  |\n",
            "| Average num. words per input: | 133.36 |\n",
            "| Avg num queries:              | 314.88 |\n",
            "+-------------------------------+--------+"
          ],
          "name": "stdout"
        },
        {
          "output_type": "stream",
          "text": [
            "\n",
            "\u001b[34;1mtextattack\u001b[0m: Attack time: 764.2062220573425s\n"
          ],
          "name": "stderr"
        }
      ]
    },
    {
      "cell_type": "code",
      "metadata": {
        "id": "Zhke_Pl-dOa5"
      },
      "source": [
        ""
      ],
      "execution_count": null,
      "outputs": []
    }
  ]
}
