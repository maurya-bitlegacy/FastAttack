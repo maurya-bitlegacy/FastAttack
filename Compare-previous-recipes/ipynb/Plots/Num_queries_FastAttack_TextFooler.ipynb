{
  "nbformat": 4,
  "nbformat_minor": 0,
  "metadata": {
    "colab": {
      "name": "Num_queries_FastAttack_TextFooler.ipynb",
      "provenance": []
    },
    "kernelspec": {
      "name": "python3",
      "display_name": "Python 3"
    },
    "language_info": {
      "name": "python"
    },
    "accelerator": "GPU",
    "widgets": {
      "application/vnd.jupyter.widget-state+json": {
        "fc45f8b99025489487a6654f2db0e964": {
          "model_module": "@jupyter-widgets/controls",
          "model_name": "HBoxModel",
          "state": {
            "_view_name": "HBoxView",
            "_dom_classes": [],
            "_model_name": "HBoxModel",
            "_view_module": "@jupyter-widgets/controls",
            "_model_module_version": "1.5.0",
            "_view_count": null,
            "_view_module_version": "1.5.0",
            "box_style": "",
            "layout": "IPY_MODEL_3e8d2a4fe3594b34b7d6e5f9287d82ca",
            "_model_module": "@jupyter-widgets/controls",
            "children": [
              "IPY_MODEL_030dcbe7c6a4475ca3e748463f44b0ce",
              "IPY_MODEL_547120719651450e99751dc64f7ea47d"
            ]
          }
        },
        "3e8d2a4fe3594b34b7d6e5f9287d82ca": {
          "model_module": "@jupyter-widgets/base",
          "model_name": "LayoutModel",
          "state": {
            "_view_name": "LayoutView",
            "grid_template_rows": null,
            "right": null,
            "justify_content": null,
            "_view_module": "@jupyter-widgets/base",
            "overflow": null,
            "_model_module_version": "1.2.0",
            "_view_count": null,
            "flex_flow": null,
            "width": null,
            "min_width": null,
            "border": null,
            "align_items": null,
            "bottom": null,
            "_model_module": "@jupyter-widgets/base",
            "top": null,
            "grid_column": null,
            "overflow_y": null,
            "overflow_x": null,
            "grid_auto_flow": null,
            "grid_area": null,
            "grid_template_columns": null,
            "flex": null,
            "_model_name": "LayoutModel",
            "justify_items": null,
            "grid_row": null,
            "max_height": null,
            "align_content": null,
            "visibility": null,
            "align_self": null,
            "height": null,
            "min_height": null,
            "padding": null,
            "grid_auto_rows": null,
            "grid_gap": null,
            "max_width": null,
            "order": null,
            "_view_module_version": "1.2.0",
            "grid_template_areas": null,
            "object_position": null,
            "object_fit": null,
            "grid_auto_columns": null,
            "margin": null,
            "display": null,
            "left": null
          }
        },
        "030dcbe7c6a4475ca3e748463f44b0ce": {
          "model_module": "@jupyter-widgets/controls",
          "model_name": "FloatProgressModel",
          "state": {
            "_view_name": "ProgressView",
            "style": "IPY_MODEL_14b6be1b972c40c589e05d55bb89b8f4",
            "_dom_classes": [],
            "description": "Downloading: ",
            "_model_name": "FloatProgressModel",
            "bar_style": "success",
            "max": 2313,
            "_view_module": "@jupyter-widgets/controls",
            "_model_module_version": "1.5.0",
            "value": 2313,
            "_view_count": null,
            "_view_module_version": "1.5.0",
            "orientation": "horizontal",
            "min": 0,
            "description_tooltip": null,
            "_model_module": "@jupyter-widgets/controls",
            "layout": "IPY_MODEL_a06c3e6e477142ad864a8ee2fc13f100"
          }
        },
        "547120719651450e99751dc64f7ea47d": {
          "model_module": "@jupyter-widgets/controls",
          "model_name": "HTMLModel",
          "state": {
            "_view_name": "HTMLView",
            "style": "IPY_MODEL_1e2e94b67ed84ff68a03aa37d0ec3c0b",
            "_dom_classes": [],
            "description": "",
            "_model_name": "HTMLModel",
            "placeholder": "​",
            "_view_module": "@jupyter-widgets/controls",
            "_model_module_version": "1.5.0",
            "value": " 5.88k/? [00:00&lt;00:00, 15.4kB/s]",
            "_view_count": null,
            "_view_module_version": "1.5.0",
            "description_tooltip": null,
            "_model_module": "@jupyter-widgets/controls",
            "layout": "IPY_MODEL_d9b04e0eb72b4a4f8af82d2f6afc11bd"
          }
        },
        "14b6be1b972c40c589e05d55bb89b8f4": {
          "model_module": "@jupyter-widgets/controls",
          "model_name": "ProgressStyleModel",
          "state": {
            "_view_name": "StyleView",
            "_model_name": "ProgressStyleModel",
            "description_width": "initial",
            "_view_module": "@jupyter-widgets/base",
            "_model_module_version": "1.5.0",
            "_view_count": null,
            "_view_module_version": "1.2.0",
            "bar_color": null,
            "_model_module": "@jupyter-widgets/controls"
          }
        },
        "a06c3e6e477142ad864a8ee2fc13f100": {
          "model_module": "@jupyter-widgets/base",
          "model_name": "LayoutModel",
          "state": {
            "_view_name": "LayoutView",
            "grid_template_rows": null,
            "right": null,
            "justify_content": null,
            "_view_module": "@jupyter-widgets/base",
            "overflow": null,
            "_model_module_version": "1.2.0",
            "_view_count": null,
            "flex_flow": null,
            "width": null,
            "min_width": null,
            "border": null,
            "align_items": null,
            "bottom": null,
            "_model_module": "@jupyter-widgets/base",
            "top": null,
            "grid_column": null,
            "overflow_y": null,
            "overflow_x": null,
            "grid_auto_flow": null,
            "grid_area": null,
            "grid_template_columns": null,
            "flex": null,
            "_model_name": "LayoutModel",
            "justify_items": null,
            "grid_row": null,
            "max_height": null,
            "align_content": null,
            "visibility": null,
            "align_self": null,
            "height": null,
            "min_height": null,
            "padding": null,
            "grid_auto_rows": null,
            "grid_gap": null,
            "max_width": null,
            "order": null,
            "_view_module_version": "1.2.0",
            "grid_template_areas": null,
            "object_position": null,
            "object_fit": null,
            "grid_auto_columns": null,
            "margin": null,
            "display": null,
            "left": null
          }
        },
        "1e2e94b67ed84ff68a03aa37d0ec3c0b": {
          "model_module": "@jupyter-widgets/controls",
          "model_name": "DescriptionStyleModel",
          "state": {
            "_view_name": "StyleView",
            "_model_name": "DescriptionStyleModel",
            "description_width": "",
            "_view_module": "@jupyter-widgets/base",
            "_model_module_version": "1.5.0",
            "_view_count": null,
            "_view_module_version": "1.2.0",
            "_model_module": "@jupyter-widgets/controls"
          }
        },
        "d9b04e0eb72b4a4f8af82d2f6afc11bd": {
          "model_module": "@jupyter-widgets/base",
          "model_name": "LayoutModel",
          "state": {
            "_view_name": "LayoutView",
            "grid_template_rows": null,
            "right": null,
            "justify_content": null,
            "_view_module": "@jupyter-widgets/base",
            "overflow": null,
            "_model_module_version": "1.2.0",
            "_view_count": null,
            "flex_flow": null,
            "width": null,
            "min_width": null,
            "border": null,
            "align_items": null,
            "bottom": null,
            "_model_module": "@jupyter-widgets/base",
            "top": null,
            "grid_column": null,
            "overflow_y": null,
            "overflow_x": null,
            "grid_auto_flow": null,
            "grid_area": null,
            "grid_template_columns": null,
            "flex": null,
            "_model_name": "LayoutModel",
            "justify_items": null,
            "grid_row": null,
            "max_height": null,
            "align_content": null,
            "visibility": null,
            "align_self": null,
            "height": null,
            "min_height": null,
            "padding": null,
            "grid_auto_rows": null,
            "grid_gap": null,
            "max_width": null,
            "order": null,
            "_view_module_version": "1.2.0",
            "grid_template_areas": null,
            "object_position": null,
            "object_fit": null,
            "grid_auto_columns": null,
            "margin": null,
            "display": null,
            "left": null
          }
        },
        "643de0a1cf114a1eab6ac823e4e5159c": {
          "model_module": "@jupyter-widgets/controls",
          "model_name": "HBoxModel",
          "state": {
            "_view_name": "HBoxView",
            "_dom_classes": [],
            "_model_name": "HBoxModel",
            "_view_module": "@jupyter-widgets/controls",
            "_model_module_version": "1.5.0",
            "_view_count": null,
            "_view_module_version": "1.5.0",
            "box_style": "",
            "layout": "IPY_MODEL_67f2faf239354173a539e9a5bee7e3ac",
            "_model_module": "@jupyter-widgets/controls",
            "children": [
              "IPY_MODEL_1dc6aa73d3944a22bc39764efb774781",
              "IPY_MODEL_dcb006bb32df440cb2aa9ac99af7e57c"
            ]
          }
        },
        "67f2faf239354173a539e9a5bee7e3ac": {
          "model_module": "@jupyter-widgets/base",
          "model_name": "LayoutModel",
          "state": {
            "_view_name": "LayoutView",
            "grid_template_rows": null,
            "right": null,
            "justify_content": null,
            "_view_module": "@jupyter-widgets/base",
            "overflow": null,
            "_model_module_version": "1.2.0",
            "_view_count": null,
            "flex_flow": null,
            "width": null,
            "min_width": null,
            "border": null,
            "align_items": null,
            "bottom": null,
            "_model_module": "@jupyter-widgets/base",
            "top": null,
            "grid_column": null,
            "overflow_y": null,
            "overflow_x": null,
            "grid_auto_flow": null,
            "grid_area": null,
            "grid_template_columns": null,
            "flex": null,
            "_model_name": "LayoutModel",
            "justify_items": null,
            "grid_row": null,
            "max_height": null,
            "align_content": null,
            "visibility": null,
            "align_self": null,
            "height": null,
            "min_height": null,
            "padding": null,
            "grid_auto_rows": null,
            "grid_gap": null,
            "max_width": null,
            "order": null,
            "_view_module_version": "1.2.0",
            "grid_template_areas": null,
            "object_position": null,
            "object_fit": null,
            "grid_auto_columns": null,
            "margin": null,
            "display": null,
            "left": null
          }
        },
        "1dc6aa73d3944a22bc39764efb774781": {
          "model_module": "@jupyter-widgets/controls",
          "model_name": "FloatProgressModel",
          "state": {
            "_view_name": "ProgressView",
            "style": "IPY_MODEL_35c0423fd56e492d86f545bb29703e33",
            "_dom_classes": [],
            "description": "Downloading: ",
            "_model_name": "FloatProgressModel",
            "bar_style": "success",
            "max": 1609,
            "_view_module": "@jupyter-widgets/controls",
            "_model_module_version": "1.5.0",
            "value": 1609,
            "_view_count": null,
            "_view_module_version": "1.5.0",
            "orientation": "horizontal",
            "min": 0,
            "description_tooltip": null,
            "_model_module": "@jupyter-widgets/controls",
            "layout": "IPY_MODEL_2742362941a542749cb79cce89c64ad9"
          }
        },
        "dcb006bb32df440cb2aa9ac99af7e57c": {
          "model_module": "@jupyter-widgets/controls",
          "model_name": "HTMLModel",
          "state": {
            "_view_name": "HTMLView",
            "style": "IPY_MODEL_00664cdfc4834aaca9e6e94d24b7d342",
            "_dom_classes": [],
            "description": "",
            "_model_name": "HTMLModel",
            "placeholder": "​",
            "_view_module": "@jupyter-widgets/controls",
            "_model_module_version": "1.5.0",
            "value": " 3.37k/? [00:00&lt;00:00, 41.7kB/s]",
            "_view_count": null,
            "_view_module_version": "1.5.0",
            "description_tooltip": null,
            "_model_module": "@jupyter-widgets/controls",
            "layout": "IPY_MODEL_2a202ca66e0249d8b19b4b00ea53eae2"
          }
        },
        "35c0423fd56e492d86f545bb29703e33": {
          "model_module": "@jupyter-widgets/controls",
          "model_name": "ProgressStyleModel",
          "state": {
            "_view_name": "StyleView",
            "_model_name": "ProgressStyleModel",
            "description_width": "initial",
            "_view_module": "@jupyter-widgets/base",
            "_model_module_version": "1.5.0",
            "_view_count": null,
            "_view_module_version": "1.2.0",
            "bar_color": null,
            "_model_module": "@jupyter-widgets/controls"
          }
        },
        "2742362941a542749cb79cce89c64ad9": {
          "model_module": "@jupyter-widgets/base",
          "model_name": "LayoutModel",
          "state": {
            "_view_name": "LayoutView",
            "grid_template_rows": null,
            "right": null,
            "justify_content": null,
            "_view_module": "@jupyter-widgets/base",
            "overflow": null,
            "_model_module_version": "1.2.0",
            "_view_count": null,
            "flex_flow": null,
            "width": null,
            "min_width": null,
            "border": null,
            "align_items": null,
            "bottom": null,
            "_model_module": "@jupyter-widgets/base",
            "top": null,
            "grid_column": null,
            "overflow_y": null,
            "overflow_x": null,
            "grid_auto_flow": null,
            "grid_area": null,
            "grid_template_columns": null,
            "flex": null,
            "_model_name": "LayoutModel",
            "justify_items": null,
            "grid_row": null,
            "max_height": null,
            "align_content": null,
            "visibility": null,
            "align_self": null,
            "height": null,
            "min_height": null,
            "padding": null,
            "grid_auto_rows": null,
            "grid_gap": null,
            "max_width": null,
            "order": null,
            "_view_module_version": "1.2.0",
            "grid_template_areas": null,
            "object_position": null,
            "object_fit": null,
            "grid_auto_columns": null,
            "margin": null,
            "display": null,
            "left": null
          }
        },
        "00664cdfc4834aaca9e6e94d24b7d342": {
          "model_module": "@jupyter-widgets/controls",
          "model_name": "DescriptionStyleModel",
          "state": {
            "_view_name": "StyleView",
            "_model_name": "DescriptionStyleModel",
            "description_width": "",
            "_view_module": "@jupyter-widgets/base",
            "_model_module_version": "1.5.0",
            "_view_count": null,
            "_view_module_version": "1.2.0",
            "_model_module": "@jupyter-widgets/controls"
          }
        },
        "2a202ca66e0249d8b19b4b00ea53eae2": {
          "model_module": "@jupyter-widgets/base",
          "model_name": "LayoutModel",
          "state": {
            "_view_name": "LayoutView",
            "grid_template_rows": null,
            "right": null,
            "justify_content": null,
            "_view_module": "@jupyter-widgets/base",
            "overflow": null,
            "_model_module_version": "1.2.0",
            "_view_count": null,
            "flex_flow": null,
            "width": null,
            "min_width": null,
            "border": null,
            "align_items": null,
            "bottom": null,
            "_model_module": "@jupyter-widgets/base",
            "top": null,
            "grid_column": null,
            "overflow_y": null,
            "overflow_x": null,
            "grid_auto_flow": null,
            "grid_area": null,
            "grid_template_columns": null,
            "flex": null,
            "_model_name": "LayoutModel",
            "justify_items": null,
            "grid_row": null,
            "max_height": null,
            "align_content": null,
            "visibility": null,
            "align_self": null,
            "height": null,
            "min_height": null,
            "padding": null,
            "grid_auto_rows": null,
            "grid_gap": null,
            "max_width": null,
            "order": null,
            "_view_module_version": "1.2.0",
            "grid_template_areas": null,
            "object_position": null,
            "object_fit": null,
            "grid_auto_columns": null,
            "margin": null,
            "display": null,
            "left": null
          }
        },
        "6114e2f95a0549e7b20d538a3c5b27b7": {
          "model_module": "@jupyter-widgets/controls",
          "model_name": "HBoxModel",
          "state": {
            "_view_name": "HBoxView",
            "_dom_classes": [],
            "_model_name": "HBoxModel",
            "_view_module": "@jupyter-widgets/controls",
            "_model_module_version": "1.5.0",
            "_view_count": null,
            "_view_module_version": "1.5.0",
            "box_style": "",
            "layout": "IPY_MODEL_75d22c1fa32349fcbd88499a5129a7f8",
            "_model_module": "@jupyter-widgets/controls",
            "children": [
              "IPY_MODEL_5a3978f4bce04d11a16cd7673911d70e",
              "IPY_MODEL_ea46d7c74cdb40afaf3e4ec2a2681732"
            ]
          }
        },
        "75d22c1fa32349fcbd88499a5129a7f8": {
          "model_module": "@jupyter-widgets/base",
          "model_name": "LayoutModel",
          "state": {
            "_view_name": "LayoutView",
            "grid_template_rows": null,
            "right": null,
            "justify_content": null,
            "_view_module": "@jupyter-widgets/base",
            "overflow": null,
            "_model_module_version": "1.2.0",
            "_view_count": null,
            "flex_flow": null,
            "width": null,
            "min_width": null,
            "border": null,
            "align_items": null,
            "bottom": null,
            "_model_module": "@jupyter-widgets/base",
            "top": null,
            "grid_column": null,
            "overflow_y": null,
            "overflow_x": null,
            "grid_auto_flow": null,
            "grid_area": null,
            "grid_template_columns": null,
            "flex": null,
            "_model_name": "LayoutModel",
            "justify_items": null,
            "grid_row": null,
            "max_height": null,
            "align_content": null,
            "visibility": null,
            "align_self": null,
            "height": null,
            "min_height": null,
            "padding": null,
            "grid_auto_rows": null,
            "grid_gap": null,
            "max_width": null,
            "order": null,
            "_view_module_version": "1.2.0",
            "grid_template_areas": null,
            "object_position": null,
            "object_fit": null,
            "grid_auto_columns": null,
            "margin": null,
            "display": null,
            "left": null
          }
        },
        "5a3978f4bce04d11a16cd7673911d70e": {
          "model_module": "@jupyter-widgets/controls",
          "model_name": "FloatProgressModel",
          "state": {
            "_view_name": "ProgressView",
            "style": "IPY_MODEL_8eff88d452aa465389e407e5e9b10c4c",
            "_dom_classes": [],
            "description": "Downloading: 100%",
            "_model_name": "FloatProgressModel",
            "bar_style": "success",
            "max": 166373201,
            "_view_module": "@jupyter-widgets/controls",
            "_model_module_version": "1.5.0",
            "value": 166373201,
            "_view_count": null,
            "_view_module_version": "1.5.0",
            "orientation": "horizontal",
            "min": 0,
            "description_tooltip": null,
            "_model_module": "@jupyter-widgets/controls",
            "layout": "IPY_MODEL_bfba8584be4e42b1ba045f5440e3ffaf"
          }
        },
        "ea46d7c74cdb40afaf3e4ec2a2681732": {
          "model_module": "@jupyter-widgets/controls",
          "model_name": "HTMLModel",
          "state": {
            "_view_name": "HTMLView",
            "style": "IPY_MODEL_39b6ece166f243bcb7323d7c6dbcec70",
            "_dom_classes": [],
            "description": "",
            "_model_name": "HTMLModel",
            "placeholder": "​",
            "_view_module": "@jupyter-widgets/controls",
            "_model_module_version": "1.5.0",
            "value": " 166M/166M [00:11&lt;00:00, 14.6MB/s]",
            "_view_count": null,
            "_view_module_version": "1.5.0",
            "description_tooltip": null,
            "_model_module": "@jupyter-widgets/controls",
            "layout": "IPY_MODEL_817a5023b6a3470fbf2faea4f3bbca1f"
          }
        },
        "8eff88d452aa465389e407e5e9b10c4c": {
          "model_module": "@jupyter-widgets/controls",
          "model_name": "ProgressStyleModel",
          "state": {
            "_view_name": "StyleView",
            "_model_name": "ProgressStyleModel",
            "description_width": "initial",
            "_view_module": "@jupyter-widgets/base",
            "_model_module_version": "1.5.0",
            "_view_count": null,
            "_view_module_version": "1.2.0",
            "bar_color": null,
            "_model_module": "@jupyter-widgets/controls"
          }
        },
        "bfba8584be4e42b1ba045f5440e3ffaf": {
          "model_module": "@jupyter-widgets/base",
          "model_name": "LayoutModel",
          "state": {
            "_view_name": "LayoutView",
            "grid_template_rows": null,
            "right": null,
            "justify_content": null,
            "_view_module": "@jupyter-widgets/base",
            "overflow": null,
            "_model_module_version": "1.2.0",
            "_view_count": null,
            "flex_flow": null,
            "width": null,
            "min_width": null,
            "border": null,
            "align_items": null,
            "bottom": null,
            "_model_module": "@jupyter-widgets/base",
            "top": null,
            "grid_column": null,
            "overflow_y": null,
            "overflow_x": null,
            "grid_auto_flow": null,
            "grid_area": null,
            "grid_template_columns": null,
            "flex": null,
            "_model_name": "LayoutModel",
            "justify_items": null,
            "grid_row": null,
            "max_height": null,
            "align_content": null,
            "visibility": null,
            "align_self": null,
            "height": null,
            "min_height": null,
            "padding": null,
            "grid_auto_rows": null,
            "grid_gap": null,
            "max_width": null,
            "order": null,
            "_view_module_version": "1.2.0",
            "grid_template_areas": null,
            "object_position": null,
            "object_fit": null,
            "grid_auto_columns": null,
            "margin": null,
            "display": null,
            "left": null
          }
        },
        "39b6ece166f243bcb7323d7c6dbcec70": {
          "model_module": "@jupyter-widgets/controls",
          "model_name": "DescriptionStyleModel",
          "state": {
            "_view_name": "StyleView",
            "_model_name": "DescriptionStyleModel",
            "description_width": "",
            "_view_module": "@jupyter-widgets/base",
            "_model_module_version": "1.5.0",
            "_view_count": null,
            "_view_module_version": "1.2.0",
            "_model_module": "@jupyter-widgets/controls"
          }
        },
        "817a5023b6a3470fbf2faea4f3bbca1f": {
          "model_module": "@jupyter-widgets/base",
          "model_name": "LayoutModel",
          "state": {
            "_view_name": "LayoutView",
            "grid_template_rows": null,
            "right": null,
            "justify_content": null,
            "_view_module": "@jupyter-widgets/base",
            "overflow": null,
            "_model_module_version": "1.2.0",
            "_view_count": null,
            "flex_flow": null,
            "width": null,
            "min_width": null,
            "border": null,
            "align_items": null,
            "bottom": null,
            "_model_module": "@jupyter-widgets/base",
            "top": null,
            "grid_column": null,
            "overflow_y": null,
            "overflow_x": null,
            "grid_auto_flow": null,
            "grid_area": null,
            "grid_template_columns": null,
            "flex": null,
            "_model_name": "LayoutModel",
            "justify_items": null,
            "grid_row": null,
            "max_height": null,
            "align_content": null,
            "visibility": null,
            "align_self": null,
            "height": null,
            "min_height": null,
            "padding": null,
            "grid_auto_rows": null,
            "grid_gap": null,
            "max_width": null,
            "order": null,
            "_view_module_version": "1.2.0",
            "grid_template_areas": null,
            "object_position": null,
            "object_fit": null,
            "grid_auto_columns": null,
            "margin": null,
            "display": null,
            "left": null
          }
        },
        "59c7f8febe384760ac6f49326387275d": {
          "model_module": "@jupyter-widgets/controls",
          "model_name": "HBoxModel",
          "state": {
            "_view_name": "HBoxView",
            "_dom_classes": [],
            "_model_name": "HBoxModel",
            "_view_module": "@jupyter-widgets/controls",
            "_model_module_version": "1.5.0",
            "_view_count": null,
            "_view_module_version": "1.5.0",
            "box_style": "",
            "layout": "IPY_MODEL_4ba6ed16e4a8484dac2d57f420bc1069",
            "_model_module": "@jupyter-widgets/controls",
            "children": [
              "IPY_MODEL_7498e144f4cf4bebbe437012c2d50811",
              "IPY_MODEL_9d297ff9998c4a55bc32771738928895"
            ]
          }
        },
        "4ba6ed16e4a8484dac2d57f420bc1069": {
          "model_module": "@jupyter-widgets/base",
          "model_name": "LayoutModel",
          "state": {
            "_view_name": "LayoutView",
            "grid_template_rows": null,
            "right": null,
            "justify_content": null,
            "_view_module": "@jupyter-widgets/base",
            "overflow": null,
            "_model_module_version": "1.2.0",
            "_view_count": null,
            "flex_flow": null,
            "width": null,
            "min_width": null,
            "border": null,
            "align_items": null,
            "bottom": null,
            "_model_module": "@jupyter-widgets/base",
            "top": null,
            "grid_column": null,
            "overflow_y": null,
            "overflow_x": null,
            "grid_auto_flow": null,
            "grid_area": null,
            "grid_template_columns": null,
            "flex": null,
            "_model_name": "LayoutModel",
            "justify_items": null,
            "grid_row": null,
            "max_height": null,
            "align_content": null,
            "visibility": null,
            "align_self": null,
            "height": null,
            "min_height": null,
            "padding": null,
            "grid_auto_rows": null,
            "grid_gap": null,
            "max_width": null,
            "order": null,
            "_view_module_version": "1.2.0",
            "grid_template_areas": null,
            "object_position": null,
            "object_fit": null,
            "grid_auto_columns": null,
            "margin": null,
            "display": null,
            "left": null
          }
        },
        "7498e144f4cf4bebbe437012c2d50811": {
          "model_module": "@jupyter-widgets/controls",
          "model_name": "FloatProgressModel",
          "state": {
            "_view_name": "ProgressView",
            "style": "IPY_MODEL_2361c91233a3416f967c8205867dd6a6",
            "_dom_classes": [],
            "description": "",
            "_model_name": "FloatProgressModel",
            "bar_style": "info",
            "max": 1,
            "_view_module": "@jupyter-widgets/controls",
            "_model_module_version": "1.5.0",
            "value": 1,
            "_view_count": null,
            "_view_module_version": "1.5.0",
            "orientation": "horizontal",
            "min": 0,
            "description_tooltip": null,
            "_model_module": "@jupyter-widgets/controls",
            "layout": "IPY_MODEL_f146f65eef33408cb0d21d16d5ae7eac"
          }
        },
        "9d297ff9998c4a55bc32771738928895": {
          "model_module": "@jupyter-widgets/controls",
          "model_name": "HTMLModel",
          "state": {
            "_view_name": "HTMLView",
            "style": "IPY_MODEL_ed068fc132284d5db6c80abe4322c0eb",
            "_dom_classes": [],
            "description": "",
            "_model_name": "HTMLModel",
            "placeholder": "​",
            "_view_module": "@jupyter-widgets/controls",
            "_model_module_version": "1.5.0",
            "value": " 560000/0 [00:16&lt;00:00, 43048.14 examples/s]",
            "_view_count": null,
            "_view_module_version": "1.5.0",
            "description_tooltip": null,
            "_model_module": "@jupyter-widgets/controls",
            "layout": "IPY_MODEL_fc81410e6bd44e5eb62206fa12967a09"
          }
        },
        "2361c91233a3416f967c8205867dd6a6": {
          "model_module": "@jupyter-widgets/controls",
          "model_name": "ProgressStyleModel",
          "state": {
            "_view_name": "StyleView",
            "_model_name": "ProgressStyleModel",
            "description_width": "initial",
            "_view_module": "@jupyter-widgets/base",
            "_model_module_version": "1.5.0",
            "_view_count": null,
            "_view_module_version": "1.2.0",
            "bar_color": null,
            "_model_module": "@jupyter-widgets/controls"
          }
        },
        "f146f65eef33408cb0d21d16d5ae7eac": {
          "model_module": "@jupyter-widgets/base",
          "model_name": "LayoutModel",
          "state": {
            "_view_name": "LayoutView",
            "grid_template_rows": null,
            "right": null,
            "justify_content": null,
            "_view_module": "@jupyter-widgets/base",
            "overflow": null,
            "_model_module_version": "1.2.0",
            "_view_count": null,
            "flex_flow": null,
            "width": null,
            "min_width": null,
            "border": null,
            "align_items": null,
            "bottom": null,
            "_model_module": "@jupyter-widgets/base",
            "top": null,
            "grid_column": null,
            "overflow_y": null,
            "overflow_x": null,
            "grid_auto_flow": null,
            "grid_area": null,
            "grid_template_columns": null,
            "flex": null,
            "_model_name": "LayoutModel",
            "justify_items": null,
            "grid_row": null,
            "max_height": null,
            "align_content": null,
            "visibility": null,
            "align_self": null,
            "height": null,
            "min_height": null,
            "padding": null,
            "grid_auto_rows": null,
            "grid_gap": null,
            "max_width": null,
            "order": null,
            "_view_module_version": "1.2.0",
            "grid_template_areas": null,
            "object_position": null,
            "object_fit": null,
            "grid_auto_columns": null,
            "margin": null,
            "display": null,
            "left": null
          }
        },
        "ed068fc132284d5db6c80abe4322c0eb": {
          "model_module": "@jupyter-widgets/controls",
          "model_name": "DescriptionStyleModel",
          "state": {
            "_view_name": "StyleView",
            "_model_name": "DescriptionStyleModel",
            "description_width": "",
            "_view_module": "@jupyter-widgets/base",
            "_model_module_version": "1.5.0",
            "_view_count": null,
            "_view_module_version": "1.2.0",
            "_model_module": "@jupyter-widgets/controls"
          }
        },
        "fc81410e6bd44e5eb62206fa12967a09": {
          "model_module": "@jupyter-widgets/base",
          "model_name": "LayoutModel",
          "state": {
            "_view_name": "LayoutView",
            "grid_template_rows": null,
            "right": null,
            "justify_content": null,
            "_view_module": "@jupyter-widgets/base",
            "overflow": null,
            "_model_module_version": "1.2.0",
            "_view_count": null,
            "flex_flow": null,
            "width": null,
            "min_width": null,
            "border": null,
            "align_items": null,
            "bottom": null,
            "_model_module": "@jupyter-widgets/base",
            "top": null,
            "grid_column": null,
            "overflow_y": null,
            "overflow_x": null,
            "grid_auto_flow": null,
            "grid_area": null,
            "grid_template_columns": null,
            "flex": null,
            "_model_name": "LayoutModel",
            "justify_items": null,
            "grid_row": null,
            "max_height": null,
            "align_content": null,
            "visibility": null,
            "align_self": null,
            "height": null,
            "min_height": null,
            "padding": null,
            "grid_auto_rows": null,
            "grid_gap": null,
            "max_width": null,
            "order": null,
            "_view_module_version": "1.2.0",
            "grid_template_areas": null,
            "object_position": null,
            "object_fit": null,
            "grid_auto_columns": null,
            "margin": null,
            "display": null,
            "left": null
          }
        },
        "b96d785746654dcdb78c4a47acf7636d": {
          "model_module": "@jupyter-widgets/controls",
          "model_name": "HBoxModel",
          "state": {
            "_view_name": "HBoxView",
            "_dom_classes": [],
            "_model_name": "HBoxModel",
            "_view_module": "@jupyter-widgets/controls",
            "_model_module_version": "1.5.0",
            "_view_count": null,
            "_view_module_version": "1.5.0",
            "box_style": "",
            "layout": "IPY_MODEL_edbde459cf0f43bd88342c4a089d2965",
            "_model_module": "@jupyter-widgets/controls",
            "children": [
              "IPY_MODEL_ee3907675a984e1c8fc5b3fb50a73544",
              "IPY_MODEL_880f3fea2e1c4fc7acf243a64c96c4b3"
            ]
          }
        },
        "edbde459cf0f43bd88342c4a089d2965": {
          "model_module": "@jupyter-widgets/base",
          "model_name": "LayoutModel",
          "state": {
            "_view_name": "LayoutView",
            "grid_template_rows": null,
            "right": null,
            "justify_content": null,
            "_view_module": "@jupyter-widgets/base",
            "overflow": null,
            "_model_module_version": "1.2.0",
            "_view_count": null,
            "flex_flow": null,
            "width": null,
            "min_width": null,
            "border": null,
            "align_items": null,
            "bottom": null,
            "_model_module": "@jupyter-widgets/base",
            "top": null,
            "grid_column": null,
            "overflow_y": null,
            "overflow_x": null,
            "grid_auto_flow": null,
            "grid_area": null,
            "grid_template_columns": null,
            "flex": null,
            "_model_name": "LayoutModel",
            "justify_items": null,
            "grid_row": null,
            "max_height": null,
            "align_content": null,
            "visibility": null,
            "align_self": null,
            "height": null,
            "min_height": null,
            "padding": null,
            "grid_auto_rows": null,
            "grid_gap": null,
            "max_width": null,
            "order": null,
            "_view_module_version": "1.2.0",
            "grid_template_areas": null,
            "object_position": null,
            "object_fit": null,
            "grid_auto_columns": null,
            "margin": null,
            "display": null,
            "left": null
          }
        },
        "ee3907675a984e1c8fc5b3fb50a73544": {
          "model_module": "@jupyter-widgets/controls",
          "model_name": "FloatProgressModel",
          "state": {
            "_view_name": "ProgressView",
            "style": "IPY_MODEL_735fe79c78fc400ca890e90129749813",
            "_dom_classes": [],
            "description": "",
            "_model_name": "FloatProgressModel",
            "bar_style": "info",
            "max": 1,
            "_view_module": "@jupyter-widgets/controls",
            "_model_module_version": "1.5.0",
            "value": 1,
            "_view_count": null,
            "_view_module_version": "1.5.0",
            "orientation": "horizontal",
            "min": 0,
            "description_tooltip": null,
            "_model_module": "@jupyter-widgets/controls",
            "layout": "IPY_MODEL_fc1289ba9b864fb7a3b14d7ce33f44b4"
          }
        },
        "880f3fea2e1c4fc7acf243a64c96c4b3": {
          "model_module": "@jupyter-widgets/controls",
          "model_name": "HTMLModel",
          "state": {
            "_view_name": "HTMLView",
            "style": "IPY_MODEL_4a99a081f170471cb77559f6397e5b94",
            "_dom_classes": [],
            "description": "",
            "_model_name": "HTMLModel",
            "placeholder": "​",
            "_view_module": "@jupyter-widgets/controls",
            "_model_module_version": "1.5.0",
            "value": " 38000/0 [00:00&lt;00:00, 37691.69 examples/s]",
            "_view_count": null,
            "_view_module_version": "1.5.0",
            "description_tooltip": null,
            "_model_module": "@jupyter-widgets/controls",
            "layout": "IPY_MODEL_1cd5ceb7c8564f74a29e644530e8fc8e"
          }
        },
        "735fe79c78fc400ca890e90129749813": {
          "model_module": "@jupyter-widgets/controls",
          "model_name": "ProgressStyleModel",
          "state": {
            "_view_name": "StyleView",
            "_model_name": "ProgressStyleModel",
            "description_width": "initial",
            "_view_module": "@jupyter-widgets/base",
            "_model_module_version": "1.5.0",
            "_view_count": null,
            "_view_module_version": "1.2.0",
            "bar_color": null,
            "_model_module": "@jupyter-widgets/controls"
          }
        },
        "fc1289ba9b864fb7a3b14d7ce33f44b4": {
          "model_module": "@jupyter-widgets/base",
          "model_name": "LayoutModel",
          "state": {
            "_view_name": "LayoutView",
            "grid_template_rows": null,
            "right": null,
            "justify_content": null,
            "_view_module": "@jupyter-widgets/base",
            "overflow": null,
            "_model_module_version": "1.2.0",
            "_view_count": null,
            "flex_flow": null,
            "width": null,
            "min_width": null,
            "border": null,
            "align_items": null,
            "bottom": null,
            "_model_module": "@jupyter-widgets/base",
            "top": null,
            "grid_column": null,
            "overflow_y": null,
            "overflow_x": null,
            "grid_auto_flow": null,
            "grid_area": null,
            "grid_template_columns": null,
            "flex": null,
            "_model_name": "LayoutModel",
            "justify_items": null,
            "grid_row": null,
            "max_height": null,
            "align_content": null,
            "visibility": null,
            "align_self": null,
            "height": null,
            "min_height": null,
            "padding": null,
            "grid_auto_rows": null,
            "grid_gap": null,
            "max_width": null,
            "order": null,
            "_view_module_version": "1.2.0",
            "grid_template_areas": null,
            "object_position": null,
            "object_fit": null,
            "grid_auto_columns": null,
            "margin": null,
            "display": null,
            "left": null
          }
        },
        "4a99a081f170471cb77559f6397e5b94": {
          "model_module": "@jupyter-widgets/controls",
          "model_name": "DescriptionStyleModel",
          "state": {
            "_view_name": "StyleView",
            "_model_name": "DescriptionStyleModel",
            "description_width": "",
            "_view_module": "@jupyter-widgets/base",
            "_model_module_version": "1.5.0",
            "_view_count": null,
            "_view_module_version": "1.2.0",
            "_model_module": "@jupyter-widgets/controls"
          }
        },
        "1cd5ceb7c8564f74a29e644530e8fc8e": {
          "model_module": "@jupyter-widgets/base",
          "model_name": "LayoutModel",
          "state": {
            "_view_name": "LayoutView",
            "grid_template_rows": null,
            "right": null,
            "justify_content": null,
            "_view_module": "@jupyter-widgets/base",
            "overflow": null,
            "_model_module_version": "1.2.0",
            "_view_count": null,
            "flex_flow": null,
            "width": null,
            "min_width": null,
            "border": null,
            "align_items": null,
            "bottom": null,
            "_model_module": "@jupyter-widgets/base",
            "top": null,
            "grid_column": null,
            "overflow_y": null,
            "overflow_x": null,
            "grid_auto_flow": null,
            "grid_area": null,
            "grid_template_columns": null,
            "flex": null,
            "_model_name": "LayoutModel",
            "justify_items": null,
            "grid_row": null,
            "max_height": null,
            "align_content": null,
            "visibility": null,
            "align_self": null,
            "height": null,
            "min_height": null,
            "padding": null,
            "grid_auto_rows": null,
            "grid_gap": null,
            "max_width": null,
            "order": null,
            "_view_module_version": "1.2.0",
            "grid_template_areas": null,
            "object_position": null,
            "object_fit": null,
            "grid_auto_columns": null,
            "margin": null,
            "display": null,
            "left": null
          }
        }
      }
    }
  },
  "cells": [
    {
      "cell_type": "code",
      "metadata": {
        "colab": {
          "base_uri": "https://localhost:8080/",
          "height": 1000
        },
        "id": "VMyVR5Rx25bW",
        "outputId": "b0678669-cd42-456a-ece1-2e77a2a7a661"
      },
      "source": [
        "!pip install -U gensim==4.0.0\n",
        "!pip install python-Levenshtein\n",
        "!pip install textattack"
      ],
      "execution_count": 1,
      "outputs": [
        {
          "output_type": "stream",
          "text": [
            "Collecting gensim==4.0.0\n",
            "\u001b[?25l  Downloading https://files.pythonhosted.org/packages/c3/dd/5e00b6e788a9c522b48f9df10472b2017102ffa65b10bc657471e0713542/gensim-4.0.0-cp37-cp37m-manylinux1_x86_64.whl (23.9MB)\n",
            "\u001b[K     |████████████████████████████████| 23.9MB 130kB/s \n",
            "\u001b[?25hRequirement already satisfied, skipping upgrade: smart-open>=1.8.1 in /usr/local/lib/python3.7/dist-packages (from gensim==4.0.0) (5.0.0)\n",
            "Requirement already satisfied, skipping upgrade: numpy>=1.11.3 in /usr/local/lib/python3.7/dist-packages (from gensim==4.0.0) (1.19.5)\n",
            "Requirement already satisfied, skipping upgrade: scipy>=0.18.1 in /usr/local/lib/python3.7/dist-packages (from gensim==4.0.0) (1.4.1)\n",
            "Installing collected packages: gensim\n",
            "  Found existing installation: gensim 3.6.0\n",
            "    Uninstalling gensim-3.6.0:\n",
            "      Successfully uninstalled gensim-3.6.0\n",
            "Successfully installed gensim-4.0.0\n",
            "Collecting python-Levenshtein\n",
            "\u001b[?25l  Downloading https://files.pythonhosted.org/packages/2a/dc/97f2b63ef0fa1fd78dcb7195aca577804f6b2b51e712516cc0e902a9a201/python-Levenshtein-0.12.2.tar.gz (50kB)\n",
            "\u001b[K     |████████████████████████████████| 51kB 4.5MB/s \n",
            "\u001b[?25hRequirement already satisfied: setuptools in /usr/local/lib/python3.7/dist-packages (from python-Levenshtein) (56.1.0)\n",
            "Building wheels for collected packages: python-Levenshtein\n",
            "  Building wheel for python-Levenshtein (setup.py) ... \u001b[?25l\u001b[?25hdone\n",
            "  Created wheel for python-Levenshtein: filename=python_Levenshtein-0.12.2-cp37-cp37m-linux_x86_64.whl size=149803 sha256=82fc57cc10f854445d515044b56c9e36ef485a12e68c24db952f28433459e894\n",
            "  Stored in directory: /root/.cache/pip/wheels/b3/26/73/4b48503bac73f01cf18e52cd250947049a7f339e940c5df8fc\n",
            "Successfully built python-Levenshtein\n",
            "Installing collected packages: python-Levenshtein\n",
            "Successfully installed python-Levenshtein-0.12.2\n",
            "Collecting textattack\n",
            "\u001b[?25l  Downloading https://files.pythonhosted.org/packages/0f/82/2f16ef7f22f19b3a49bbcd079dc31e53d362e1ef1299298c3eda05cf2b3a/textattack-0.2.15-py3-none-any.whl (349kB)\n",
            "\u001b[K     |████████████████████████████████| 358kB 10.7MB/s \n",
            "\u001b[?25hCollecting lemminflect\n",
            "\u001b[?25l  Downloading https://files.pythonhosted.org/packages/4b/67/d04ca98b661d4ad52b9b965c9dabb1f1a2c85541d20f8decb9a9df4e4b32/lemminflect-0.2.2-py3-none-any.whl (769kB)\n",
            "\u001b[K     |████████████████████████████████| 778kB 20.3MB/s \n",
            "\u001b[?25hRequirement already satisfied: pandas>=1.0.1 in /usr/local/lib/python3.7/dist-packages (from textattack) (1.1.5)\n",
            "Requirement already satisfied: more-itertools in /usr/local/lib/python3.7/dist-packages (from textattack) (8.7.0)\n",
            "Requirement already satisfied: PySocks!=1.5.7,>=1.5.6 in /usr/local/lib/python3.7/dist-packages (from textattack) (1.7.1)\n",
            "Requirement already satisfied: editdistance in /usr/local/lib/python3.7/dist-packages (from textattack) (0.5.3)\n",
            "Requirement already satisfied: torch in /usr/local/lib/python3.7/dist-packages (from textattack) (1.8.1+cu101)\n",
            "Requirement already satisfied: scipy==1.4.1 in /usr/local/lib/python3.7/dist-packages (from textattack) (1.4.1)\n",
            "Collecting num2words\n",
            "\u001b[?25l  Downloading https://files.pythonhosted.org/packages/eb/a2/ea800689730732e27711c41beed4b2a129b34974435bdc450377ec407738/num2words-0.5.10-py3-none-any.whl (101kB)\n",
            "\u001b[K     |████████████████████████████████| 102kB 10.3MB/s \n",
            "\u001b[?25hCollecting flair==0.6.1.post1\n",
            "\u001b[?25l  Downloading https://files.pythonhosted.org/packages/4a/49/a812ed93088ba9519cbb40eb9f52341694b31cfa126bfddcd9db3761f3ac/flair-0.6.1.post1-py3-none-any.whl (337kB)\n",
            "\u001b[K     |████████████████████████████████| 337kB 35.4MB/s \n",
            "\u001b[?25hCollecting numpy<1.19.0\n",
            "\u001b[?25l  Downloading https://files.pythonhosted.org/packages/d6/c6/58e517e8b1fb192725cfa23c01c2e60e4e6699314ee9684a1c5f5c9b27e1/numpy-1.18.5-cp37-cp37m-manylinux1_x86_64.whl (20.1MB)\n",
            "\u001b[K     |████████████████████████████████| 20.1MB 1.3MB/s \n",
            "\u001b[?25hCollecting lru-dict\n",
            "  Downloading https://files.pythonhosted.org/packages/68/ea/997af58d4e6da019ad825a412f93081d9df67e9dda11cfb026a3d7cd0b6c/lru-dict-1.1.7.tar.gz\n",
            "Collecting terminaltables\n",
            "  Downloading https://files.pythonhosted.org/packages/9b/c4/4a21174f32f8a7e1104798c445dacdc1d4df86f2f26722767034e4de4bff/terminaltables-3.1.0.tar.gz\n",
            "Collecting transformers>=3.3.0\n",
            "\u001b[?25l  Downloading https://files.pythonhosted.org/packages/d8/b2/57495b5309f09fa501866e225c84532d1fd89536ea62406b2181933fb418/transformers-4.5.1-py3-none-any.whl (2.1MB)\n",
            "\u001b[K     |████████████████████████████████| 2.1MB 38.1MB/s \n",
            "\u001b[?25hRequirement already satisfied: tqdm<4.50.0,>=4.27 in /usr/local/lib/python3.7/dist-packages (from textattack) (4.41.1)\n",
            "Collecting datasets\n",
            "\u001b[?25l  Downloading https://files.pythonhosted.org/packages/46/1a/b9f9b3bfef624686ae81c070f0a6bb635047b17cdb3698c7ad01281e6f9a/datasets-1.6.2-py3-none-any.whl (221kB)\n",
            "\u001b[K     |████████████████████████████████| 225kB 43.2MB/s \n",
            "\u001b[?25hRequirement already satisfied: nltk in /usr/local/lib/python3.7/dist-packages (from textattack) (3.2.5)\n",
            "Requirement already satisfied: filelock in /usr/local/lib/python3.7/dist-packages (from textattack) (3.0.12)\n",
            "Collecting word2number\n",
            "  Downloading https://files.pythonhosted.org/packages/4a/29/a31940c848521f0725f0df6b25dca8917f13a2025b0e8fcbe5d0457e45e6/word2number-1.1.zip\n",
            "Collecting bert-score>=0.3.5\n",
            "\u001b[?25l  Downloading https://files.pythonhosted.org/packages/38/fb/e63e7e231a79db0489dbf7e7d0ebfb279ccb3d8216aa0d133572f784f3fa/bert_score-0.3.9-py3-none-any.whl (59kB)\n",
            "\u001b[K     |████████████████████████████████| 61kB 7.3MB/s \n",
            "\u001b[?25hCollecting language-tool-python\n",
            "  Downloading https://files.pythonhosted.org/packages/37/26/48b22ad565fd372edec3577218fb817e0e6626bf4e658033197470ad92b3/language_tool_python-2.5.3-py3-none-any.whl\n",
            "Requirement already satisfied: python-dateutil>=2.7.3 in /usr/local/lib/python3.7/dist-packages (from pandas>=1.0.1->textattack) (2.8.1)\n",
            "Requirement already satisfied: pytz>=2017.2 in /usr/local/lib/python3.7/dist-packages (from pandas>=1.0.1->textattack) (2018.9)\n",
            "Requirement already satisfied: typing-extensions in /usr/local/lib/python3.7/dist-packages (from torch->textattack) (3.7.4.3)\n",
            "Requirement already satisfied: docopt>=0.6.2 in /usr/local/lib/python3.7/dist-packages (from num2words->textattack) (0.6.2)\n",
            "Collecting ftfy\n",
            "\u001b[?25l  Downloading https://files.pythonhosted.org/packages/ce/b5/5da463f9c7823e0e575e9908d004e2af4b36efa8d02d3d6dad57094fcb11/ftfy-6.0.1.tar.gz (63kB)\n",
            "\u001b[K     |████████████████████████████████| 71kB 9.2MB/s \n",
            "\u001b[?25hCollecting janome\n",
            "\u001b[?25l  Downloading https://files.pythonhosted.org/packages/a8/63/98858cbead27df7536c7e300c169da0999e9704d02220dc6700b804eeff0/Janome-0.4.1-py2.py3-none-any.whl (19.7MB)\n",
            "\u001b[K     |████████████████████████████████| 19.7MB 1.3MB/s \n",
            "\u001b[?25hCollecting segtok>=1.5.7\n",
            "  Downloading https://files.pythonhosted.org/packages/41/08/582dab5f4b1d5ca23bc6927b4bb977c8ff7f3a87a3b98844ef833e2f5623/segtok-1.5.10.tar.gz\n",
            "Requirement already satisfied: hyperopt>=0.1.1 in /usr/local/lib/python3.7/dist-packages (from flair==0.6.1.post1->textattack) (0.1.2)\n",
            "Collecting konoha<5.0.0,>=4.0.0\n",
            "  Downloading https://files.pythonhosted.org/packages/02/be/4dd30d56a0a19619deb9bf41ba8202709fa83b1b301b876572cd6dc38117/konoha-4.6.4-py3-none-any.whl\n",
            "Collecting sentencepiece!=0.1.92\n",
            "\u001b[?25l  Downloading https://files.pythonhosted.org/packages/f5/99/e0808cb947ba10f575839c43e8fafc9cc44e4a7a2c8f79c60db48220a577/sentencepiece-0.1.95-cp37-cp37m-manylinux2014_x86_64.whl (1.2MB)\n",
            "\u001b[K     |████████████████████████████████| 1.2MB 38.4MB/s \n",
            "\u001b[?25hRequirement already satisfied: lxml in /usr/local/lib/python3.7/dist-packages (from flair==0.6.1.post1->textattack) (4.2.6)\n",
            "Requirement already satisfied: tabulate in /usr/local/lib/python3.7/dist-packages (from flair==0.6.1.post1->textattack) (0.8.9)\n",
            "Requirement already satisfied: matplotlib>=2.2.3 in /usr/local/lib/python3.7/dist-packages (from flair==0.6.1.post1->textattack) (3.2.2)\n",
            "Collecting deprecated>=1.2.4\n",
            "  Downloading https://files.pythonhosted.org/packages/fb/73/994edfcba74443146c84b91921fcc269374354118d4f452fb0c54c1cbb12/Deprecated-1.2.12-py2.py3-none-any.whl\n",
            "Requirement already satisfied: gdown in /usr/local/lib/python3.7/dist-packages (from flair==0.6.1.post1->textattack) (3.6.4)\n",
            "Collecting langdetect\n",
            "\u001b[?25l  Downloading https://files.pythonhosted.org/packages/0e/72/a3add0e4eec4eb9e2569554f7c70f4a3c27712f40e3284d483e88094cc0e/langdetect-1.0.9.tar.gz (981kB)\n",
            "\u001b[K     |████████████████████████████████| 983kB 38.2MB/s \n",
            "\u001b[?25hCollecting bpemb>=0.3.2\n",
            "  Downloading https://files.pythonhosted.org/packages/f2/6f/9191b85109772636a8f8accb122900c34db26c091d2793218aa94954524c/bpemb-0.3.3-py3-none-any.whl\n",
            "Requirement already satisfied: gensim>=3.4.0 in /usr/local/lib/python3.7/dist-packages (from flair==0.6.1.post1->textattack) (4.0.0)\n",
            "Collecting sqlitedict>=1.6.0\n",
            "  Downloading https://files.pythonhosted.org/packages/5c/2d/b1d99e9ad157dd7de9cd0d36a8a5876b13b55e4b75f7498bc96035fb4e96/sqlitedict-1.7.0.tar.gz\n",
            "Collecting mpld3==0.3\n",
            "\u001b[?25l  Downloading https://files.pythonhosted.org/packages/91/95/a52d3a83d0a29ba0d6898f6727e9858fe7a43f6c2ce81a5fe7e05f0f4912/mpld3-0.3.tar.gz (788kB)\n",
            "\u001b[K     |████████████████████████████████| 798kB 35.1MB/s \n",
            "\u001b[?25hRequirement already satisfied: regex in /usr/local/lib/python3.7/dist-packages (from flair==0.6.1.post1->textattack) (2019.12.20)\n",
            "Requirement already satisfied: scikit-learn>=0.21.3 in /usr/local/lib/python3.7/dist-packages (from flair==0.6.1.post1->textattack) (0.22.2.post1)\n",
            "Collecting tokenizers<0.11,>=0.10.1\n",
            "\u001b[?25l  Downloading https://files.pythonhosted.org/packages/ae/04/5b870f26a858552025a62f1649c20d29d2672c02ff3c3fb4c688ca46467a/tokenizers-0.10.2-cp37-cp37m-manylinux2010_x86_64.whl (3.3MB)\n",
            "\u001b[K     |████████████████████████████████| 3.3MB 36.7MB/s \n",
            "\u001b[?25hRequirement already satisfied: importlib-metadata; python_version < \"3.8\" in /usr/local/lib/python3.7/dist-packages (from transformers>=3.3.0->textattack) (3.10.1)\n",
            "Collecting sacremoses\n",
            "\u001b[?25l  Downloading https://files.pythonhosted.org/packages/75/ee/67241dc87f266093c533a2d4d3d69438e57d7a90abb216fa076e7d475d4a/sacremoses-0.0.45-py3-none-any.whl (895kB)\n",
            "\u001b[K     |████████████████████████████████| 901kB 33.6MB/s \n",
            "\u001b[?25hRequirement already satisfied: requests in /usr/local/lib/python3.7/dist-packages (from transformers>=3.3.0->textattack) (2.23.0)\n",
            "Requirement already satisfied: packaging in /usr/local/lib/python3.7/dist-packages (from transformers>=3.3.0->textattack) (20.9)\n",
            "Collecting fsspec\n",
            "\u001b[?25l  Downloading https://files.pythonhosted.org/packages/e9/91/2ef649137816850fa4f4c97c6f2eabb1a79bf0aa2c8ed198e387e373455e/fsspec-2021.4.0-py3-none-any.whl (108kB)\n",
            "\u001b[K     |████████████████████████████████| 112kB 46.6MB/s \n",
            "\u001b[?25hRequirement already satisfied: multiprocess in /usr/local/lib/python3.7/dist-packages (from datasets->textattack) (0.70.11.1)\n",
            "Collecting xxhash\n",
            "\u001b[?25l  Downloading https://files.pythonhosted.org/packages/7d/4f/0a862cad26aa2ed7a7cd87178cbbfa824fc1383e472d63596a0d018374e7/xxhash-2.0.2-cp37-cp37m-manylinux2010_x86_64.whl (243kB)\n",
            "\u001b[K     |████████████████████████████████| 245kB 43.1MB/s \n",
            "\u001b[?25hCollecting huggingface-hub<0.1.0\n",
            "  Downloading https://files.pythonhosted.org/packages/a1/88/7b1e45720ecf59c6c6737ff332f41c955963090a18e72acbcbeac6b25e86/huggingface_hub-0.0.8-py3-none-any.whl\n",
            "Requirement already satisfied: dill in /usr/local/lib/python3.7/dist-packages (from datasets->textattack) (0.3.3)\n",
            "Requirement already satisfied: pyarrow>=1.0.0<4.0.0 in /usr/local/lib/python3.7/dist-packages (from datasets->textattack) (3.0.0)\n",
            "Requirement already satisfied: six in /usr/local/lib/python3.7/dist-packages (from nltk->textattack) (1.15.0)\n",
            "Requirement already satisfied: wcwidth in /usr/local/lib/python3.7/dist-packages (from ftfy->flair==0.6.1.post1->textattack) (0.2.5)\n",
            "Requirement already satisfied: networkx in /usr/local/lib/python3.7/dist-packages (from hyperopt>=0.1.1->flair==0.6.1.post1->textattack) (2.5.1)\n",
            "Requirement already satisfied: pymongo in /usr/local/lib/python3.7/dist-packages (from hyperopt>=0.1.1->flair==0.6.1.post1->textattack) (3.11.3)\n",
            "Requirement already satisfied: future in /usr/local/lib/python3.7/dist-packages (from hyperopt>=0.1.1->flair==0.6.1.post1->textattack) (0.16.0)\n",
            "Collecting overrides<4.0.0,>=3.0.0\n",
            "  Downloading https://files.pythonhosted.org/packages/ff/b1/10f69c00947518e6676bbd43e739733048de64b8dd998e9c2d5a71f44c5d/overrides-3.1.0.tar.gz\n",
            "Requirement already satisfied: cycler>=0.10 in /usr/local/lib/python3.7/dist-packages (from matplotlib>=2.2.3->flair==0.6.1.post1->textattack) (0.10.0)\n",
            "Requirement already satisfied: pyparsing!=2.0.4,!=2.1.2,!=2.1.6,>=2.0.1 in /usr/local/lib/python3.7/dist-packages (from matplotlib>=2.2.3->flair==0.6.1.post1->textattack) (2.4.7)\n",
            "Requirement already satisfied: kiwisolver>=1.0.1 in /usr/local/lib/python3.7/dist-packages (from matplotlib>=2.2.3->flair==0.6.1.post1->textattack) (1.3.1)\n",
            "Requirement already satisfied: wrapt<2,>=1.10 in /usr/local/lib/python3.7/dist-packages (from deprecated>=1.2.4->flair==0.6.1.post1->textattack) (1.12.1)\n",
            "Requirement already satisfied: smart-open>=1.8.1 in /usr/local/lib/python3.7/dist-packages (from gensim>=3.4.0->flair==0.6.1.post1->textattack) (5.0.0)\n",
            "Requirement already satisfied: joblib>=0.11 in /usr/local/lib/python3.7/dist-packages (from scikit-learn>=0.21.3->flair==0.6.1.post1->textattack) (1.0.1)\n",
            "Requirement already satisfied: zipp>=0.5 in /usr/local/lib/python3.7/dist-packages (from importlib-metadata; python_version < \"3.8\"->transformers>=3.3.0->textattack) (3.4.1)\n",
            "Requirement already satisfied: click in /usr/local/lib/python3.7/dist-packages (from sacremoses->transformers>=3.3.0->textattack) (7.1.2)\n",
            "Requirement already satisfied: urllib3!=1.25.0,!=1.25.1,<1.26,>=1.21.1 in /usr/local/lib/python3.7/dist-packages (from requests->transformers>=3.3.0->textattack) (1.24.3)\n",
            "Requirement already satisfied: chardet<4,>=3.0.2 in /usr/local/lib/python3.7/dist-packages (from requests->transformers>=3.3.0->textattack) (3.0.4)\n",
            "Requirement already satisfied: certifi>=2017.4.17 in /usr/local/lib/python3.7/dist-packages (from requests->transformers>=3.3.0->textattack) (2020.12.5)\n",
            "Requirement already satisfied: idna<3,>=2.5 in /usr/local/lib/python3.7/dist-packages (from requests->transformers>=3.3.0->textattack) (2.10)\n",
            "Requirement already satisfied: decorator<5,>=4.3 in /usr/local/lib/python3.7/dist-packages (from networkx->hyperopt>=0.1.1->flair==0.6.1.post1->textattack) (4.4.2)\n",
            "Building wheels for collected packages: lru-dict, terminaltables, word2number, ftfy, segtok, langdetect, sqlitedict, mpld3, overrides\n",
            "  Building wheel for lru-dict (setup.py) ... \u001b[?25l\u001b[?25hdone\n",
            "  Created wheel for lru-dict: filename=lru_dict-1.1.7-cp37-cp37m-linux_x86_64.whl size=28375 sha256=2d701d30682c31a09610bdfd0b4e484a50aeebb5f84ab3903916753b787c5e1c\n",
            "  Stored in directory: /root/.cache/pip/wheels/ae/51/23/0a416781dead9225c7d66d25b9f223c7e32304e99a0b01d566\n",
            "  Building wheel for terminaltables (setup.py) ... \u001b[?25l\u001b[?25hdone\n",
            "  Created wheel for terminaltables: filename=terminaltables-3.1.0-cp37-none-any.whl size=15356 sha256=fa56f159c81bff466b050e2655c6126d92ec6a4d8388386cf6186fdcf1c82b44\n",
            "  Stored in directory: /root/.cache/pip/wheels/30/6b/50/6c75775b681fb36cdfac7f19799888ef9d8813aff9e379663e\n",
            "  Building wheel for word2number (setup.py) ... \u001b[?25l\u001b[?25hdone\n",
            "  Created wheel for word2number: filename=word2number-1.1-cp37-none-any.whl size=5589 sha256=81955bcc428f48086d9aaf1da6cb74399251d911f939873e9c46313dd3fbf979\n",
            "  Stored in directory: /root/.cache/pip/wheels/46/2f/53/5f5c1d275492f2fce1cdab9a9bb12d49286dead829a4078e0e\n",
            "  Building wheel for ftfy (setup.py) ... \u001b[?25l\u001b[?25hdone\n",
            "  Created wheel for ftfy: filename=ftfy-6.0.1-cp37-none-any.whl size=41573 sha256=28dfb6ce5164428b106dc290e32e351ab830b6fee83801700a8f1a3cfae11244\n",
            "  Stored in directory: /root/.cache/pip/wheels/ae/73/c7/9056e14b04919e5c262fe80b54133b1a88d73683d05d7ac65c\n",
            "  Building wheel for segtok (setup.py) ... \u001b[?25l\u001b[?25hdone\n",
            "  Created wheel for segtok: filename=segtok-1.5.10-cp37-none-any.whl size=25019 sha256=735f46c0552650b0fd79a4de46d8629d1ca6988724d5b8b879a683e5d750aa5b\n",
            "  Stored in directory: /root/.cache/pip/wheels/b4/39/f6/9ca1c5cabde964d728023b5751c3a206a5c8cc40252321fb6b\n",
            "  Building wheel for langdetect (setup.py) ... \u001b[?25l\u001b[?25hdone\n",
            "  Created wheel for langdetect: filename=langdetect-1.0.9-cp37-none-any.whl size=993223 sha256=d5cb827de7bef9424d5efe06601dd583b820095d271429330ef51c9471c848db\n",
            "  Stored in directory: /root/.cache/pip/wheels/7e/18/13/038c34057808931c7ddc6c92d3aa015cf1a498df5a70268996\n",
            "  Building wheel for sqlitedict (setup.py) ... \u001b[?25l\u001b[?25hdone\n",
            "  Created wheel for sqlitedict: filename=sqlitedict-1.7.0-cp37-none-any.whl size=14376 sha256=1a9e24aada4a8243b81ea60642d4ae2f6cf38fbd82bf5394195aedc145894f59\n",
            "  Stored in directory: /root/.cache/pip/wheels/cf/c6/4f/2c64a43f041415eb8b8740bd80e15e92f0d46c5e464d8e4b9b\n",
            "  Building wheel for mpld3 (setup.py) ... \u001b[?25l\u001b[?25hdone\n",
            "  Created wheel for mpld3: filename=mpld3-0.3-cp37-none-any.whl size=116679 sha256=8d2720d5f487dd1edf47bae8fc2536f38c9fb949abbcbe070f666ce2392d5348\n",
            "  Stored in directory: /root/.cache/pip/wheels/c0/47/fb/8a64f89aecfe0059830479308ad42d62e898a3e3cefdf6ba28\n",
            "  Building wheel for overrides (setup.py) ... \u001b[?25l\u001b[?25hdone\n",
            "  Created wheel for overrides: filename=overrides-3.1.0-cp37-none-any.whl size=10174 sha256=6ff64bbdb55cc096414546a71d23f2827adc583fafb410e07dd9622968e6daaf\n",
            "  Stored in directory: /root/.cache/pip/wheels/5c/24/13/6ef8600e6f147c95e595f1289a86a3cc82ed65df57582c65a9\n",
            "Successfully built lru-dict terminaltables word2number ftfy segtok langdetect sqlitedict mpld3 overrides\n",
            "\u001b[31mERROR: tensorflow 2.4.1 has requirement numpy~=1.19.2, but you'll have numpy 1.18.5 which is incompatible.\u001b[0m\n",
            "\u001b[31mERROR: datascience 0.10.6 has requirement folium==0.2.1, but you'll have folium 0.8.3 which is incompatible.\u001b[0m\n",
            "\u001b[31mERROR: albumentations 0.1.12 has requirement imgaug<0.2.7,>=0.2.5, but you'll have imgaug 0.2.9 which is incompatible.\u001b[0m\n",
            "\u001b[31mERROR: konoha 4.6.4 has requirement requests<3.0.0,>=2.25.1, but you'll have requests 2.23.0 which is incompatible.\u001b[0m\n",
            "Installing collected packages: numpy, lemminflect, num2words, ftfy, janome, segtok, overrides, konoha, sentencepiece, deprecated, langdetect, bpemb, sqlitedict, mpld3, tokenizers, sacremoses, transformers, flair, lru-dict, terminaltables, fsspec, xxhash, huggingface-hub, datasets, word2number, bert-score, language-tool-python, textattack\n",
            "  Found existing installation: numpy 1.19.5\n",
            "    Uninstalling numpy-1.19.5:\n",
            "      Successfully uninstalled numpy-1.19.5\n",
            "Successfully installed bert-score-0.3.9 bpemb-0.3.3 datasets-1.6.2 deprecated-1.2.12 flair-0.6.1.post1 fsspec-2021.4.0 ftfy-6.0.1 huggingface-hub-0.0.8 janome-0.4.1 konoha-4.6.4 langdetect-1.0.9 language-tool-python-2.5.3 lemminflect-0.2.2 lru-dict-1.1.7 mpld3-0.3 num2words-0.5.10 numpy-1.18.5 overrides-3.1.0 sacremoses-0.0.45 segtok-1.5.10 sentencepiece-0.1.95 sqlitedict-1.7.0 terminaltables-3.1.0 textattack-0.2.15 tokenizers-0.10.2 transformers-4.5.1 word2number-1.1 xxhash-2.0.2\n"
          ],
          "name": "stdout"
        },
        {
          "output_type": "display_data",
          "data": {
            "application/vnd.colab-display-data+json": {
              "pip_warning": {
                "packages": [
                  "numpy"
                ]
              }
            }
          },
          "metadata": {
            "tags": []
          }
        }
      ]
    },
    {
      "cell_type": "code",
      "metadata": {
        "id": "SVqwp3q94cIJ"
      },
      "source": [
        "from collections import deque\n",
        "\n",
        "import textattack\n",
        "import tqdm\n",
        "import time\n",
        "from IPython.display import display, HTML"
      ],
      "execution_count": 11,
      "outputs": []
    },
    {
      "cell_type": "code",
      "metadata": {
        "colab": {
          "base_uri": "https://localhost:8080/"
        },
        "id": "H0vVd5f53A-f",
        "outputId": "025b3ef8-9909-442a-a62b-e690cbae8adb"
      },
      "source": [
        "from google.colab import drive\n",
        "drive.mount('/content/drive')"
      ],
      "execution_count": 2,
      "outputs": [
        {
          "output_type": "stream",
          "text": [
            "Mounted at /content/drive\n"
          ],
          "name": "stdout"
        }
      ]
    },
    {
      "cell_type": "code",
      "metadata": {
        "id": "ESFFQh1P3Fx9"
      },
      "source": [
        "from gensim.test.utils import get_tmpfile\n",
        "from gensim.models.fasttext import FastText\n",
        "#fname = get_tmpfile(\"/models/fasttext.model\") \n",
        "model1 = FastText.load(\"./drive/MyDrive/models/fasttext.model\") # Change this location"
      ],
      "execution_count": 3,
      "outputs": []
    },
    {
      "cell_type": "code",
      "metadata": {
        "colab": {
          "base_uri": "https://localhost:8080/"
        },
        "id": "k6gspp5E3PLW",
        "outputId": "362f3344-3234-4cd6-9da2-bfef3db0ff2c"
      },
      "source": [
        "from textattack.transformations import WordSwap\n",
        "\n",
        "class Swapper(WordSwap): # For fasttext\n",
        "    \"\"\" Transforms an input by replacing any word with its most similar counterpart\n",
        "    \"\"\"\n",
        "\n",
        "    # We don't need a constructor, since our class doesn't require any parameters.\n",
        "\n",
        "    def _get_replacement_words(self, word):\n",
        "        for i in range(10):\n",
        "            if word.lower() in model1.wv.most_similar(word)[i][0].lower():\n",
        "                continue # Don't return a word containing the exact word\n",
        "            elif word.isupper():\n",
        "                return [model1.wv.most_similar(word)[i][0].upper()] # Preserving case\n",
        "            elif word[0].isupper():\n",
        "                return [model1.wv.most_similar(word)[i][0].capitalize()] # Preserving Capitalization in words\n",
        "            else:\n",
        "                return [model1.wv.most_similar(word)[i][0]]\n",
        "            \n",
        "        return [model1.wv.most_similar(word)[0][0]]"
      ],
      "execution_count": 4,
      "outputs": [
        {
          "output_type": "stream",
          "text": [
            "\u001b[34;1mtextattack\u001b[0m: Updating TextAttack package dependencies.\n",
            "\u001b[34;1mtextattack\u001b[0m: Downloading NLTK required packages.\n"
          ],
          "name": "stderr"
        },
        {
          "output_type": "stream",
          "text": [
            "[nltk_data] Downloading package averaged_perceptron_tagger to\n",
            "[nltk_data]     /root/nltk_data...\n",
            "[nltk_data]   Unzipping taggers/averaged_perceptron_tagger.zip.\n",
            "[nltk_data] Downloading package stopwords to /root/nltk_data...\n",
            "[nltk_data]   Unzipping corpora/stopwords.zip.\n",
            "[nltk_data] Downloading package omw to /root/nltk_data...\n",
            "[nltk_data]   Unzipping corpora/omw.zip.\n",
            "[nltk_data] Downloading package universal_tagset to /root/nltk_data...\n",
            "[nltk_data]   Unzipping taggers/universal_tagset.zip.\n",
            "[nltk_data] Downloading package wordnet to /root/nltk_data...\n",
            "[nltk_data]   Unzipping corpora/wordnet.zip.\n",
            "[nltk_data] Downloading package punkt to /root/nltk_data...\n",
            "[nltk_data]   Unzipping tokenizers/punkt.zip.\n"
          ],
          "name": "stdout"
        },
        {
          "output_type": "stream",
          "text": [
            "\u001b[34;1mtextattack\u001b[0m: Downloading https://textattack.s3.amazonaws.com/word_embeddings/paragramcf.\n",
            "100%|██████████| 481M/481M [00:17<00:00, 28.1MB/s]\n",
            "\u001b[34;1mtextattack\u001b[0m: Unzipping file /root/.cache/textattack/tmpgyestdk0.zip to /root/.cache/textattack/word_embeddings/paragramcf.\n",
            "\u001b[34;1mtextattack\u001b[0m: Successfully saved word_embeddings/paragramcf to cache.\n"
          ],
          "name": "stderr"
        }
      ]
    },
    {
      "cell_type": "code",
      "metadata": {
        "colab": {
          "base_uri": "https://localhost:8080/",
          "height": 235,
          "referenced_widgets": [
            "fc45f8b99025489487a6654f2db0e964",
            "3e8d2a4fe3594b34b7d6e5f9287d82ca",
            "030dcbe7c6a4475ca3e748463f44b0ce",
            "547120719651450e99751dc64f7ea47d",
            "14b6be1b972c40c589e05d55bb89b8f4",
            "a06c3e6e477142ad864a8ee2fc13f100",
            "1e2e94b67ed84ff68a03aa37d0ec3c0b",
            "d9b04e0eb72b4a4f8af82d2f6afc11bd",
            "643de0a1cf114a1eab6ac823e4e5159c",
            "67f2faf239354173a539e9a5bee7e3ac",
            "1dc6aa73d3944a22bc39764efb774781",
            "dcb006bb32df440cb2aa9ac99af7e57c",
            "35c0423fd56e492d86f545bb29703e33",
            "2742362941a542749cb79cce89c64ad9",
            "00664cdfc4834aaca9e6e94d24b7d342",
            "2a202ca66e0249d8b19b4b00ea53eae2",
            "6114e2f95a0549e7b20d538a3c5b27b7",
            "75d22c1fa32349fcbd88499a5129a7f8",
            "5a3978f4bce04d11a16cd7673911d70e",
            "ea46d7c74cdb40afaf3e4ec2a2681732",
            "8eff88d452aa465389e407e5e9b10c4c",
            "bfba8584be4e42b1ba045f5440e3ffaf",
            "39b6ece166f243bcb7323d7c6dbcec70",
            "817a5023b6a3470fbf2faea4f3bbca1f",
            "59c7f8febe384760ac6f49326387275d",
            "4ba6ed16e4a8484dac2d57f420bc1069",
            "7498e144f4cf4bebbe437012c2d50811",
            "9d297ff9998c4a55bc32771738928895",
            "2361c91233a3416f967c8205867dd6a6",
            "f146f65eef33408cb0d21d16d5ae7eac",
            "ed068fc132284d5db6c80abe4322c0eb",
            "fc81410e6bd44e5eb62206fa12967a09",
            "b96d785746654dcdb78c4a47acf7636d",
            "edbde459cf0f43bd88342c4a089d2965",
            "ee3907675a984e1c8fc5b3fb50a73544",
            "880f3fea2e1c4fc7acf243a64c96c4b3",
            "735fe79c78fc400ca890e90129749813",
            "fc1289ba9b864fb7a3b14d7ce33f44b4",
            "4a99a081f170471cb77559f6397e5b94",
            "1cd5ceb7c8564f74a29e644530e8fc8e"
          ]
        },
        "id": "Agvb3g4K3IYg",
        "outputId": "e99d4382-cdbb-48ef-970d-155443174571"
      },
      "source": [
        "# Import the model\n",
        "import transformers\n",
        "from textattack.models.tokenizers import AutoTokenizer\n",
        "from textattack.models.wrappers import HuggingFaceModelWrapper\n",
        "from textattack.datasets import HuggingFaceDataset\n",
        "\n",
        "model = transformers.AutoModelForSequenceClassification.from_pretrained(\"textattack/albert-base-v2-yelp-polarity\")\n",
        "tokenizer = AutoTokenizer(\"textattack/albert-base-v2-yelp-polarity\")\n",
        "# Change these\n",
        "\n",
        "model_wrapper = HuggingFaceModelWrapper(model, tokenizer)\n",
        "dataset = HuggingFaceDataset(\"yelp_polarity\", None, \"test\") # Change the dataset"
      ],
      "execution_count": 6,
      "outputs": [
        {
          "output_type": "display_data",
          "data": {
            "application/vnd.jupyter.widget-view+json": {
              "model_id": "fc45f8b99025489487a6654f2db0e964",
              "version_minor": 0,
              "version_major": 2
            },
            "text/plain": [
              "HBox(children=(FloatProgress(value=0.0, description='Downloading', max=2313.0, style=ProgressStyle(description…"
            ]
          },
          "metadata": {
            "tags": []
          }
        },
        {
          "output_type": "stream",
          "text": [
            "\n"
          ],
          "name": "stdout"
        },
        {
          "output_type": "display_data",
          "data": {
            "application/vnd.jupyter.widget-view+json": {
              "model_id": "643de0a1cf114a1eab6ac823e4e5159c",
              "version_minor": 0,
              "version_major": 2
            },
            "text/plain": [
              "HBox(children=(FloatProgress(value=0.0, description='Downloading', max=1609.0, style=ProgressStyle(description…"
            ]
          },
          "metadata": {
            "tags": []
          }
        },
        {
          "output_type": "stream",
          "text": [
            "\n",
            "Downloading and preparing dataset yelp_polarity/plain_text (download: 158.67 MiB, generated: 421.28 MiB, post-processed: Unknown size, total: 579.95 MiB) to /root/.cache/huggingface/datasets/yelp_polarity/plain_text/1.0.0/591dc79cb354c6f051b5bf61c77a446205c98156e01669c6218c9bd6aa15f581...\n"
          ],
          "name": "stdout"
        },
        {
          "output_type": "display_data",
          "data": {
            "application/vnd.jupyter.widget-view+json": {
              "model_id": "6114e2f95a0549e7b20d538a3c5b27b7",
              "version_minor": 0,
              "version_major": 2
            },
            "text/plain": [
              "HBox(children=(FloatProgress(value=0.0, description='Downloading', max=166373201.0, style=ProgressStyle(descri…"
            ]
          },
          "metadata": {
            "tags": []
          }
        },
        {
          "output_type": "stream",
          "text": [
            "\n"
          ],
          "name": "stdout"
        },
        {
          "output_type": "display_data",
          "data": {
            "application/vnd.jupyter.widget-view+json": {
              "model_id": "59c7f8febe384760ac6f49326387275d",
              "version_minor": 0,
              "version_major": 2
            },
            "text/plain": [
              "HBox(children=(FloatProgress(value=1.0, bar_style='info', max=1.0), HTML(value='')))"
            ]
          },
          "metadata": {
            "tags": []
          }
        },
        {
          "output_type": "stream",
          "text": [
            "\r"
          ],
          "name": "stdout"
        },
        {
          "output_type": "display_data",
          "data": {
            "application/vnd.jupyter.widget-view+json": {
              "model_id": "b96d785746654dcdb78c4a47acf7636d",
              "version_minor": 0,
              "version_major": 2
            },
            "text/plain": [
              "HBox(children=(FloatProgress(value=1.0, bar_style='info', max=1.0), HTML(value='')))"
            ]
          },
          "metadata": {
            "tags": []
          }
        },
        {
          "output_type": "stream",
          "text": [
            "\u001b[34;1mtextattack\u001b[0m: Loading \u001b[94mdatasets\u001b[0m dataset \u001b[94myelp_polarity\u001b[0m, split \u001b[94mtest\u001b[0m.\n"
          ],
          "name": "stderr"
        },
        {
          "output_type": "stream",
          "text": [
            "\rDataset yelp_polarity downloaded and prepared to /root/.cache/huggingface/datasets/yelp_polarity/plain_text/1.0.0/591dc79cb354c6f051b5bf61c77a446205c98156e01669c6218c9bd6aa15f581. Subsequent calls will reuse this data.\n"
          ],
          "name": "stdout"
        }
      ]
    },
    {
      "cell_type": "markdown",
      "metadata": {
        "id": "JInBUCfS3dqd"
      },
      "source": [
        "# Stats of FastAttack"
      ]
    },
    {
      "cell_type": "code",
      "metadata": {
        "colab": {
          "base_uri": "https://localhost:8080/"
        },
        "id": "vZSHiTUi4CAX",
        "outputId": "040507f5-bffc-4c6a-e9d2-616111afb209"
      },
      "source": [
        "from textattack.constraints.grammaticality import PartOfSpeech\n",
        "from textattack.constraints.pre_transformation import (\n",
        "    InputColumnModification,\n",
        "    RepeatModification,\n",
        "    StopwordModification,\n",
        ")\n",
        "from textattack.constraints.overlap import MaxWordsPerturbed\n",
        "from textattack.constraints.semantics import WordEmbeddingDistance\n",
        "from textattack.constraints.semantics.sentence_encoders import UniversalSentenceEncoder\n",
        "from textattack.search_methods import GreedyWordSwapWIR\n",
        "from textattack.constraints.pre_transformation import RepeatModification, StopwordModification\n",
        "from textattack.shared import Attack\n",
        "from textattack.goal_functions import UntargetedClassification\n",
        "from textattack.datasets import HuggingFaceDataset\n",
        "\n",
        "# We're going to use our word swap class as the attack transformation.\n",
        "transformation = Swapper()\n",
        "# We'll constrain modification of already modified indices and stopwords\n",
        "constraints = [RepeatModification(), StopwordModification()]\n",
        "# # We'll use the Greedy search method\n",
        "search_method = GreedyWordSwapWIR(\"weighted-saliency\")\n",
        "# Create the goal function using the model\n",
        "\n",
        "goal_function = UntargetedClassification(model_wrapper)\n",
        "\n",
        "# Now, let's make the attack from the 4 components:\n",
        "attack = Attack(goal_function, constraints, transformation, search_method)"
      ],
      "execution_count": 9,
      "outputs": [
        {
          "output_type": "stream",
          "text": [
            "\u001b[34;1mtextattack\u001b[0m: Unknown if model of class <class 'transformers.models.albert.modeling_albert.AlbertForSequenceClassification'> compatible with goal function <class 'textattack.goal_functions.classification.untargeted_classification.UntargetedClassification'>.\n"
          ],
          "name": "stderr"
        }
      ]
    },
    {
      "cell_type": "code",
      "metadata": {
        "id": "hgRrK7QS3cqu"
      },
      "source": [
        "def attack_stats(attack, dataset, num_of_examples):\n",
        "  print(attack)\n",
        "  num_examples = num_of_examples\n",
        "  num_remaining_attacks = num_examples\n",
        "  pbar = tqdm.tqdm(total=num_remaining_attacks, smoothing=0)\n",
        "\n",
        "  worklist = deque(range(0, num_examples))\n",
        "  worklist_tail = worklist[-1]\n",
        "\n",
        "  attack_log_manager = textattack.loggers.AttackLogManager()\n",
        "\n",
        "  load_time = time.time()\n",
        "        \n",
        "  num_results = 0\n",
        "  num_failures = 0\n",
        "  num_successes = 0\n",
        "  for result in attack.attack_dataset(dataset, indices=worklist):\n",
        "      result_html_str = result.__str__(color_method=\"html\").replace(\"\\n\\n\", \"<br>\")\n",
        "      display(HTML(result_html_str))\n",
        "      attack_log_manager.log_result(result)\n",
        "            \n",
        "      if not isinstance(result, textattack.attack_results.SkippedAttackResult):\n",
        "          pbar.update(1)\n",
        "      else:\n",
        "          worklist_tail += 1\n",
        "          pbar.update(1)\n",
        "          worklist.append(worklist_tail)\n",
        "\n",
        "      num_results += 1\n",
        "\n",
        "      if (type(result) == textattack.attack_results.SuccessfulAttackResult\n",
        "        or type(result) == textattack.attack_results.MaximizedAttackResult):\n",
        "          num_successes += 1\n",
        "                \n",
        "      if type(result) == textattack.attack_results.FailedAttackResult:\n",
        "          num_failures += 1\n",
        "      pbar.set_description(\n",
        "          \"[Succeeded / Failed / Total] {} / {} / {}\".format(\n",
        "            num_successes, num_failures, num_results\n",
        "        )\n",
        "      )\n",
        "\n",
        "  pbar.close()\n",
        "\n",
        "  attack_log_manager.enable_stdout()\n",
        "  attack_log_manager.log_summary()\n",
        "  attack_log_manager.flush()\n",
        "        \n",
        "  textattack.shared.logger.info(f\"Attack time: {time.time() - load_time}s\")"
      ],
      "execution_count": 7,
      "outputs": []
    },
    {
      "cell_type": "code",
      "metadata": {
        "colab": {
          "base_uri": "https://localhost:8080/",
          "height": 1000
        },
        "id": "x9UVQ2Eu30XZ",
        "outputId": "9ee15542-3ac5-46b9-eaab-3f432a7e7d17"
      },
      "source": [
        "attack_stats(attack, dataset, 5)"
      ],
      "execution_count": 12,
      "outputs": [
        {
          "output_type": "stream",
          "text": [
            "\r  0%|          | 0/5 [00:00<?, ?it/s]"
          ],
          "name": "stderr"
        },
        {
          "output_type": "stream",
          "text": [
            "Attack(\n",
            "  (search_method): GreedyWordSwapWIR(\n",
            "    (wir_method):  weighted-saliency\n",
            "  )\n",
            "  (goal_function):  UntargetedClassification\n",
            "  (transformation):  Swapper\n",
            "  (constraints): \n",
            "    (0): RepeatModification\n",
            "    (1): StopwordModification\n",
            "  (is_black_box):  True\n",
            ")\n"
          ],
          "name": "stdout"
        },
        {
          "output_type": "display_data",
          "data": {
            "text/html": [
              "<font color = green>2 (100%)</font> --> <font color = red>1 (92%)</font><br>Contrary to other reviews, I have <font color = green>zero</font> complaints about the service or the prices. I have been getting tire <font color = green>service</font> here for the past 5 years now, and compared to my experience with places like Pep Boys, these guys are experienced and <font color = green>know</font> what they're doing. \\nAlso, this is one place that I do not feel like I am being taken advantage of, just because of my gender. Other <font color = green>auto</font> mechanics have been notorious for capitalizing on my ignorance of cars, and have sucked my <font color = green>bank</font> account dry. <font color = green>But</font> here, my service and road coverage has all been well <font color = green>explained</font> - and let up to me to decide. \\<font color = green>nAnd</font> they just renovated the <font color = green>waiting</font> room. It looks a lot <font color = green>better</font> than it did in <font color = green>previous</font> years.<br>Contrary to other reviews, I have <font color = red>five</font> complaints about the service or the prices. I have been getting tire <font color = red>serviciul</font> here for the past 5 years now, and compared to my experience with places like Pep Boys, these guys are experienced and <font color = red>think</font> what they're doing. \\nAlso, this is one place that I do not feel like I am being taken advantage of, just because of my gender. Other <font color = red>theft</font> mechanics have been notorious for capitalizing on my ignorance of cars, and have sucked my <font color = red>monetary</font> account dry. <font color = red>Zut</font> here, my service and road coverage has all been well <font color = red>falsified</font> - and let up to me to decide. \\<font color = red>tell</font> they just renovated the <font color = red>baiting</font> room. It looks a lot <font color = red>getter</font> than it did in <font color = red>earlier</font> years."
            ],
            "text/plain": [
              "<IPython.core.display.HTML object>"
            ]
          },
          "metadata": {
            "tags": []
          }
        },
        {
          "output_type": "stream",
          "text": [
            "[Succeeded / Failed / Total] 1 / 0 / 1:  20%|██        | 1/5 [00:09<00:36,  9.17s/it]"
          ],
          "name": "stderr"
        },
        {
          "output_type": "display_data",
          "data": {
            "text/html": [
              "<font color = red>1 (100%)</font> --> <font color = green>2 (63%)</font><br>Last summer I had an appointment to <font color = red>get</font> new <font color = red>tires</font> and had to wait a <font color = red>super</font> long <font color = red>time</font>. I <font color = red>also</font> went in this week for them to <font color = red>fix</font> a <font color = red>minor</font> problem with a tire they put on. They \\\"\"fixed\\\"\" it for free, and the very next morning I had the same issue. I called to complain, and the \\\"\"<font color = red>manager</font>\\\"\" didn't <font color = red>even</font> <font color = red>apologize</font>!!! So frustrated. Never <font color = red>going</font> <font color = red>back</font>.  They <font color = red>seem</font> <font color = red>overpriced</font>, too.<br>Last summer I had an appointment to <font color = green>give</font> new <font color = green>tire</font> and had to wait a <font color = green>superbike</font> long <font color = green>period</font>. I <font color = green>sometimes</font> went in this week for them to <font color = green>restart</font> a <font color = green>major</font> problem with a tire they put on. They \\\"\"fixed\\\"\" it for free, and the very next morning I had the same issue. I called to complain, and the \\\"\"<font color = green>coach</font>\\\"\" didn't <font color = green>indeed</font> <font color = green>apologise</font>!!! So frustrated. Never <font color = green>getting</font> <font color = green>down</font>.  They <font color = green>tend</font> <font color = green>priced</font>, too."
            ],
            "text/plain": [
              "<IPython.core.display.HTML object>"
            ]
          },
          "metadata": {
            "tags": []
          }
        },
        {
          "output_type": "stream",
          "text": [
            "[Succeeded / Failed / Total] 2 / 0 / 2:  40%|████      | 2/5 [00:15<00:23,  7.70s/it]"
          ],
          "name": "stderr"
        },
        {
          "output_type": "display_data",
          "data": {
            "text/html": [
              "<font color = green>2 (73%)</font> --> <font color = red>1 (52%)</font><br>Friendly staff, same starbucks fair you <font color = green>get</font> anywhere else.  Sometimes the lines can get long.<br>Friendly staff, same starbucks fair you <font color = red>give</font> anywhere else.  Sometimes the lines can get long."
            ],
            "text/plain": [
              "<IPython.core.display.HTML object>"
            ]
          },
          "metadata": {
            "tags": []
          }
        },
        {
          "output_type": "stream",
          "text": [
            "[Succeeded / Failed / Total] 3 / 0 / 3:  60%|██████    | 3/5 [00:16<00:11,  5.54s/it]"
          ],
          "name": "stderr"
        },
        {
          "output_type": "display_data",
          "data": {
            "text/html": [
              "<font color = red>1 (98%)</font> --> <font color = green>2 (51%)</font><br><font color = red>The</font> food is good. <font color = red>Unfortunately</font> the service is very hit or miss. The main issue seems to be with the kitchen, the waiters and waitresses are often very apologetic for the long waits and it's pretty obvious that some of them avoid the tables after taking the initial order to avoid hearing complaints.<br><font color = green>Gauche</font> food is good. <font color = green>Fortunately</font> the service is very hit or miss. The main issue seems to be with the kitchen, the waiters and waitresses are often very apologetic for the long waits and it's pretty obvious that some of them avoid the tables after taking the initial order to avoid hearing complaints."
            ],
            "text/plain": [
              "<IPython.core.display.HTML object>"
            ]
          },
          "metadata": {
            "tags": []
          }
        },
        {
          "output_type": "stream",
          "text": [
            "[Succeeded / Failed / Total] 4 / 0 / 4:  80%|████████  | 4/5 [00:20<00:05,  5.04s/it]"
          ],
          "name": "stderr"
        },
        {
          "output_type": "display_data",
          "data": {
            "text/html": [
              "<font color = green>2 (100%)</font> --> <font color = red>[FAILED]</font><br>Even when we didn't have a car Filene's Basement was worth the bus trip to the Waterfront. I always find something (usually I find 3-4 things and spend about $60) and better still, I am always still wearing the clothes and shoes 3 months later. \\n\\nI kind of suspect this is the best shopping in Pittsburgh; it's much better than the usual department stores, better than Marshall's and TJ Maxx and better than the Saks downtown, even when it has a sale. Selection, bargains AND quality.\\n\\nI like this Filene's better than Gabriel Brothers, which are harder to get to. Gabriel Brothers are a real discount shopper's challenge and I'm afraid I didn't live in Pittsburgh long enough to develop the necessary skills . . . Filene's was still up and running in June 2007 when I left town."
            ],
            "text/plain": [
              "<IPython.core.display.HTML object>"
            ]
          },
          "metadata": {
            "tags": []
          }
        },
        {
          "output_type": "stream",
          "text": [
            "[Succeeded / Failed / Total] 4 / 1 / 5: 100%|██████████| 5/5 [00:35<00:00,  7.11s/it]"
          ],
          "name": "stderr"
        },
        {
          "output_type": "stream",
          "text": [
            "+-------------------------------+--------+\n",
            "| Attack Results                |        |\n",
            "+-------------------------------+--------+\n",
            "| Number of successful attacks: | 4      |\n",
            "| Number of failed attacks:     | 1      |\n",
            "| Number of skipped attacks:    | 0      |\n",
            "| Original accuracy:            | 100.0% |\n",
            "| Accuracy under attack:        | 20.0%  |\n",
            "| Attack success rate:          | 80.0%  |\n",
            "| Average perturbed word %:     | 9.74%  |\n",
            "| Average num. words per input: | 80.4   |\n",
            "| Avg num queries:              | 153.2  |\n",
            "+-------------------------------+--------+"
          ],
          "name": "stdout"
        },
        {
          "output_type": "stream",
          "text": [
            "\n",
            "\u001b[34;1mtextattack\u001b[0m: Attack time: 35.546950340270996s\n"
          ],
          "name": "stderr"
        }
      ]
    },
    {
      "cell_type": "code",
      "metadata": {
        "colab": {
          "base_uri": "https://localhost:8080/",
          "height": 1000
        },
        "id": "WoPxcoVm368R",
        "outputId": "5a3bcb56-2e24-4df8-d336-038f87e1ddb8"
      },
      "source": [
        "attack_stats(attack, dataset, 10)"
      ],
      "execution_count": 13,
      "outputs": [
        {
          "output_type": "stream",
          "text": [
            "\r  0%|          | 0/10 [00:00<?, ?it/s]"
          ],
          "name": "stderr"
        },
        {
          "output_type": "stream",
          "text": [
            "Attack(\n",
            "  (search_method): GreedyWordSwapWIR(\n",
            "    (wir_method):  weighted-saliency\n",
            "  )\n",
            "  (goal_function):  UntargetedClassification\n",
            "  (transformation):  Swapper\n",
            "  (constraints): \n",
            "    (0): RepeatModification\n",
            "    (1): StopwordModification\n",
            "  (is_black_box):  True\n",
            ")\n"
          ],
          "name": "stdout"
        },
        {
          "output_type": "display_data",
          "data": {
            "text/html": [
              "<font color = green>2 (100%)</font> --> <font color = red>1 (92%)</font><br>Contrary to other reviews, I have <font color = green>zero</font> complaints about the service or the prices. I have been getting tire <font color = green>service</font> here for the past 5 years now, and compared to my experience with places like Pep Boys, these guys are experienced and <font color = green>know</font> what they're doing. \\nAlso, this is one place that I do not feel like I am being taken advantage of, just because of my gender. Other <font color = green>auto</font> mechanics have been notorious for capitalizing on my ignorance of cars, and have sucked my <font color = green>bank</font> account dry. <font color = green>But</font> here, my service and road coverage has all been well <font color = green>explained</font> - and let up to me to decide. \\<font color = green>nAnd</font> they just renovated the <font color = green>waiting</font> room. It looks a lot <font color = green>better</font> than it did in <font color = green>previous</font> years.<br>Contrary to other reviews, I have <font color = red>five</font> complaints about the service or the prices. I have been getting tire <font color = red>serviciul</font> here for the past 5 years now, and compared to my experience with places like Pep Boys, these guys are experienced and <font color = red>think</font> what they're doing. \\nAlso, this is one place that I do not feel like I am being taken advantage of, just because of my gender. Other <font color = red>theft</font> mechanics have been notorious for capitalizing on my ignorance of cars, and have sucked my <font color = red>monetary</font> account dry. <font color = red>Zut</font> here, my service and road coverage has all been well <font color = red>falsified</font> - and let up to me to decide. \\<font color = red>tell</font> they just renovated the <font color = red>baiting</font> room. It looks a lot <font color = red>getter</font> than it did in <font color = red>earlier</font> years."
            ],
            "text/plain": [
              "<IPython.core.display.HTML object>"
            ]
          },
          "metadata": {
            "tags": []
          }
        },
        {
          "output_type": "stream",
          "text": [
            "[Succeeded / Failed / Total] 1 / 0 / 1:  10%|█         | 1/10 [00:08<01:19,  8.83s/it]"
          ],
          "name": "stderr"
        },
        {
          "output_type": "display_data",
          "data": {
            "text/html": [
              "<font color = red>1 (100%)</font> --> <font color = green>2 (63%)</font><br>Last summer I had an appointment to <font color = red>get</font> new <font color = red>tires</font> and had to wait a <font color = red>super</font> long <font color = red>time</font>. I <font color = red>also</font> went in this week for them to <font color = red>fix</font> a <font color = red>minor</font> problem with a tire they put on. They \\\"\"fixed\\\"\" it for free, and the very next morning I had the same issue. I called to complain, and the \\\"\"<font color = red>manager</font>\\\"\" didn't <font color = red>even</font> <font color = red>apologize</font>!!! So frustrated. Never <font color = red>going</font> <font color = red>back</font>.  They <font color = red>seem</font> <font color = red>overpriced</font>, too.<br>Last summer I had an appointment to <font color = green>give</font> new <font color = green>tire</font> and had to wait a <font color = green>superbike</font> long <font color = green>period</font>. I <font color = green>sometimes</font> went in this week for them to <font color = green>restart</font> a <font color = green>major</font> problem with a tire they put on. They \\\"\"fixed\\\"\" it for free, and the very next morning I had the same issue. I called to complain, and the \\\"\"<font color = green>coach</font>\\\"\" didn't <font color = green>indeed</font> <font color = green>apologise</font>!!! So frustrated. Never <font color = green>getting</font> <font color = green>down</font>.  They <font color = green>tend</font> <font color = green>priced</font>, too."
            ],
            "text/plain": [
              "<IPython.core.display.HTML object>"
            ]
          },
          "metadata": {
            "tags": []
          }
        },
        {
          "output_type": "stream",
          "text": [
            "[Succeeded / Failed / Total] 2 / 0 / 2:  20%|██        | 2/10 [00:15<01:00,  7.53s/it]"
          ],
          "name": "stderr"
        },
        {
          "output_type": "display_data",
          "data": {
            "text/html": [
              "<font color = green>2 (73%)</font> --> <font color = red>1 (52%)</font><br>Friendly staff, same starbucks fair you <font color = green>get</font> anywhere else.  Sometimes the lines can get long.<br>Friendly staff, same starbucks fair you <font color = red>give</font> anywhere else.  Sometimes the lines can get long."
            ],
            "text/plain": [
              "<IPython.core.display.HTML object>"
            ]
          },
          "metadata": {
            "tags": []
          }
        },
        {
          "output_type": "stream",
          "text": [
            "[Succeeded / Failed / Total] 3 / 0 / 3:  30%|███       | 3/10 [00:16<00:38,  5.43s/it]"
          ],
          "name": "stderr"
        },
        {
          "output_type": "display_data",
          "data": {
            "text/html": [
              "<font color = red>1 (98%)</font> --> <font color = green>2 (51%)</font><br><font color = red>The</font> food is good. <font color = red>Unfortunately</font> the service is very hit or miss. The main issue seems to be with the kitchen, the waiters and waitresses are often very apologetic for the long waits and it's pretty obvious that some of them avoid the tables after taking the initial order to avoid hearing complaints.<br><font color = green>Gauche</font> food is good. <font color = green>Fortunately</font> the service is very hit or miss. The main issue seems to be with the kitchen, the waiters and waitresses are often very apologetic for the long waits and it's pretty obvious that some of them avoid the tables after taking the initial order to avoid hearing complaints."
            ],
            "text/plain": [
              "<IPython.core.display.HTML object>"
            ]
          },
          "metadata": {
            "tags": []
          }
        },
        {
          "output_type": "stream",
          "text": [
            "[Succeeded / Failed / Total] 4 / 0 / 4:  40%|████      | 4/10 [00:19<00:29,  4.96s/it]"
          ],
          "name": "stderr"
        },
        {
          "output_type": "display_data",
          "data": {
            "text/html": [
              "<font color = green>2 (100%)</font> --> <font color = red>[FAILED]</font><br>Even when we didn't have a car Filene's Basement was worth the bus trip to the Waterfront. I always find something (usually I find 3-4 things and spend about $60) and better still, I am always still wearing the clothes and shoes 3 months later. \\n\\nI kind of suspect this is the best shopping in Pittsburgh; it's much better than the usual department stores, better than Marshall's and TJ Maxx and better than the Saks downtown, even when it has a sale. Selection, bargains AND quality.\\n\\nI like this Filene's better than Gabriel Brothers, which are harder to get to. Gabriel Brothers are a real discount shopper's challenge and I'm afraid I didn't live in Pittsburgh long enough to develop the necessary skills . . . Filene's was still up and running in June 2007 when I left town."
            ],
            "text/plain": [
              "<IPython.core.display.HTML object>"
            ]
          },
          "metadata": {
            "tags": []
          }
        },
        {
          "output_type": "stream",
          "text": [
            "[Succeeded / Failed / Total] 4 / 1 / 5:  50%|█████     | 5/10 [00:35<00:35,  7.02s/it]"
          ],
          "name": "stderr"
        },
        {
          "output_type": "display_data",
          "data": {
            "text/html": [
              "<font color = green>2 (100%)</font> --> <font color = red>1 (51%)</font><br>Picture Billy Joel's \\\"\"Piano Man\\\"\" DOUBLED mixed with beer, a <font color = green>rowdy</font> crowd, and <font color = green>comedy</font> - Welcome to Sing Sing!  A <font color = green>unique</font> musical experience <font color = green>found</font> in Homestead.\\<font color = green>n</font>\\nIf you're looking to grab a bite to eat or a beer, come on in!  Serving food and brews from Rock Bottom Brewery, Sing Sing keeps your tummy full while you listen to two (or more) amazingly <font color = green>talented</font> <font color = green>pianists</font> <font color = green>take</font> your musical requests.  They'll play <font color = green>anything</font> you'd like, for tips of course.  Wanting to hear Britney Spears?  Toto?  Duran Duran?  Yep, they play that... new or old.\\n\\<font color = green>nThe</font> crowd makes the show, so make <font color = green>sure</font> you come ready for a <font color = green>good</font> time.  <font color = green>If</font> the crowd is dead, it's harder for the Guys to get a reaction.  If you're wanting to have some fun, it can be a GREAT time!  <font color = green>It's</font> the perfect place for Birthday parties - especially if you want to embarrass a friend.  The guys will bring them up to the <font color = green>pianos</font> and perform a little ditty.  For being a good sport, you get the coveted Sing Sing bumper sticker.  Now who wouldn't want that?\\n\\nDueling Pianos and brews... time to Shut Up & Sing Sing!<br>Picture Billy Joel's \\\"\"Piano Man\\\"\" DOUBLED mixed with beer, a <font color = red>howdy</font> crowd, and <font color = red>comedies</font> - Welcome to Sing Sing!  A <font color = red>distinctive</font> musical experience <font color = red>corroborated</font> in Homestead.\\<font color = red>y</font>\\nIf you're looking to grab a bite to eat or a beer, come on in!  Serving food and brews from Rock Bottom Brewery, Sing Sing keeps your tummy full while you listen to two (or more) amazingly <font color = red>talent</font> <font color = red>lutenists</font> <font color = red>give</font> your musical requests.  They'll play <font color = red>nothing</font> you'd like, for tips of course.  Wanting to hear Britney Spears?  Toto?  Duran Duran?  Yep, they play that... new or old.\\n\\<font color = red>bouche</font> crowd makes the show, so make <font color = red>forget</font> you come ready for a <font color = red>bad</font> time.  <font color = red>Sun</font> the crowd is dead, it's harder for the Guys to get a reaction.  If you're wanting to have some fun, it can be a GREAT time!  <font color = red>Aeneas</font> the perfect place for Birthday parties - especially if you want to embarrass a friend.  The guys will bring them up to the <font color = red>piano</font> and perform a little ditty.  For being a good sport, you get the coveted Sing Sing bumper sticker.  Now who wouldn't want that?\\n\\nDueling Pianos and brews... time to Shut Up & Sing Sing!"
            ],
            "text/plain": [
              "<IPython.core.display.HTML object>"
            ]
          },
          "metadata": {
            "tags": []
          }
        },
        {
          "output_type": "stream",
          "text": [
            "[Succeeded / Failed / Total] 5 / 1 / 6:  60%|██████    | 6/10 [00:53<00:35,  8.85s/it]"
          ],
          "name": "stderr"
        },
        {
          "output_type": "display_data",
          "data": {
            "text/html": [
              "<font color = red>1 (100%)</font> --> <font color = red>[FAILED]</font><br>Mediocre service. COLD food! Our food waited so long the lettuce & pickles wilted. Bland food. Crazy overpriced. Long waits in the arcade. 1 beer per hour maximum.  Avoid at all costs. Fair manager."
            ],
            "text/plain": [
              "<IPython.core.display.HTML object>"
            ]
          },
          "metadata": {
            "tags": []
          }
        },
        {
          "output_type": "stream",
          "text": [
            "[Succeeded / Failed / Total] 5 / 2 / 7:  70%|███████   | 7/10 [00:57<00:24,  8.19s/it]"
          ],
          "name": "stderr"
        },
        {
          "output_type": "display_data",
          "data": {
            "text/html": [
              "<font color = red>1 (100%)</font> --> <font color = green>2 (55%)</font><br>Ok! Let me tell you about my bad <font color = red>experience</font> first. I went to D&B last night for a post wedding party - which, side note, is a great idea!\\n\\nIt was around midnight and the bar wasn't really populated. There were three bartenders and only one was actually making rounds to see if anyone needed anything. The two other bartenders were chatting on the far side of the bar that no one was sitting at. Kind of counter productive if you ask me. \\n\\nI stood there for about 5 minutes, which for a busy bar is fine but when I am the only one with my card out then, it just seems a little ridiculous. I made eye contact with the one girl twice and gave her a smile and she literally turned away. I finally had to walk to them to get their attention.  I was standing right in front of them smiling and they didn't ask if i need anything. I finally said, \\\"\"Are you working?\\\"\" and they gave each other a <font color = red>weird</font> look. I felt like i was the crazy one. I asked for a beer/got the beer.\\n\\nIn between that time, the other bartender brought food over and set it down. She took a fry from the plate (right in front of me) and then served it to someone on the other side of the bar. What the hell! I felt like i was in some grimy bar in out in the sticks - not an established D&B. \\n\\nI was just really turned off from that experience. \\n\\nThe good is that D&B provides a different type of entertainment when you want to mix things up. I remember going here with my grandparents when I was a kid and it was the best treat ever! We would eat at the restaurant and then spend hours playing games. This place holds some really good memories for me. \\n\\nIt's a shame that my experience last night has spoiled the high standards I held for it.<br>Ok! Let me tell you about my bad <font color = green>experiencing</font> first. I went to D&B last night for a post wedding party - which, side note, is a great idea!\\n\\nIt was around midnight and the bar wasn't really populated. There were three bartenders and only one was actually making rounds to see if anyone needed anything. The two other bartenders were chatting on the far side of the bar that no one was sitting at. Kind of counter productive if you ask me. \\n\\nI stood there for about 5 minutes, which for a busy bar is fine but when I am the only one with my card out then, it just seems a little ridiculous. I made eye contact with the one girl twice and gave her a smile and she literally turned away. I finally had to walk to them to get their attention.  I was standing right in front of them smiling and they didn't ask if i need anything. I finally said, \\\"\"Are you working?\\\"\" and they gave each other a <font color = green>weir</font> look. I felt like i was the crazy one. I asked for a beer/got the beer.\\n\\nIn between that time, the other bartender brought food over and set it down. She took a fry from the plate (right in front of me) and then served it to someone on the other side of the bar. What the hell! I felt like i was in some grimy bar in out in the sticks - not an established D&B. \\n\\nI was just really turned off from that experience. \\n\\nThe good is that D&B provides a different type of entertainment when you want to mix things up. I remember going here with my grandparents when I was a kid and it was the best treat ever! We would eat at the restaurant and then spend hours playing games. This place holds some really good memories for me. \\n\\nIt's a shame that my experience last night has spoiled the high standards I held for it."
            ],
            "text/plain": [
              "<IPython.core.display.HTML object>"
            ]
          },
          "metadata": {
            "tags": []
          }
        },
        {
          "output_type": "stream",
          "text": [
            "[Succeeded / Failed / Total] 6 / 2 / 8:  80%|████████  | 8/10 [01:22<00:20, 10.26s/it]"
          ],
          "name": "stderr"
        },
        {
          "output_type": "display_data",
          "data": {
            "text/html": [
              "<font color = red>1 (100%)</font> --> <font color = green>2 (52%)</font><br><font color = red>I</font> used to love D&<font color = red>B</font> when it <font color = red>first</font> opened in the Waterfront, but it has gone down <font color = red>hill</font> over the years. The <font color = red>games</font> are not as fun and do not <font color = red>give</font> you as many <font color = red>tickets</font> and the prizes have gotten cheaper in quality. It takes a whole heck of a lot of tickets for you to <font color = red>even</font> get a <font color = red>pencil</font>! The <font color = red>atmosphere</font> is <font color = red>okay</font> but it used to be so much better with the funnest games and diverse groups of people! Now, it is <font color = red>run</font> down and many of the games are app related <font color = red>games</font> (Fruit Ninja) and 3D <font color = red>Experience</font> rides. With such \\\"\"games\\\"\", you can't even <font color = red>earn</font> tickets and they take a lot of tokens! Last time I went, back in the winter, many of the games were broken, which made for a <font color = red>negative</font> player experience. I would go to D&B to play some games again in the future, but it is no <font color = red>longer</font> <font color = red>one</font> of my favorite places to go due to the decline of fun games where you can earn tickets.<br><font color = green>ENCHANTER</font> used to love D&<font color = green>HAIR</font> when it <font color = green>last</font> opened in the Waterfront, but it has gone down <font color = green>clifton</font> over the years. The <font color = green>game</font> are not as fun and do not <font color = green>make</font> you as many <font color = green>ticket</font> and the prizes have gotten cheaper in quality. It takes a whole heck of a lot of tickets for you to <font color = green>indeed</font> get a <font color = green>stencil</font>! The <font color = green>atmospheric</font> is <font color = green>anymore</font> but it used to be so much better with the funnest games and diverse groups of people! Now, it is <font color = green>driveway</font> down and many of the games are app related <font color = green>game</font> (Fruit Ninja) and 3D <font color = green>Experiencing</font> rides. With such \\\"\"games\\\"\", you can't even <font color = green>paying</font> tickets and they take a lot of tokens! Last time I went, back in the winter, many of the games were broken, which made for a <font color = green>positive</font> player experience. I would go to D&B to play some games again in the future, but it is no <font color = green>longew</font> <font color = green>nine</font> of my favorite places to go due to the decline of fun games where you can earn tickets."
            ],
            "text/plain": [
              "<IPython.core.display.HTML object>"
            ]
          },
          "metadata": {
            "tags": []
          }
        },
        {
          "output_type": "stream",
          "text": [
            "[Succeeded / Failed / Total] 7 / 2 / 9:  90%|█████████ | 9/10 [01:36<00:10, 10.73s/it]"
          ],
          "name": "stderr"
        },
        {
          "output_type": "display_data",
          "data": {
            "text/html": [
              "<font color = green>2 (100%)</font> --> <font color = red>1 (86%)</font><br><font color = green>Like</font> any Barnes & Noble, it has a nice comfy cafe, and a <font color = green>large</font> selection of books.  The staff is very <font color = green>friendly</font> and <font color = green>helpful</font>.  They <font color = green>stock</font> a decent selection, and the prices are pretty <font color = green>reasonable</font>.  Obviously it's <font color = green>hard</font> for them to compete with Amazon.  However <font color = green>since</font> all the small shop <font color = green>bookstores</font> are gone, it's <font color = green>nice</font> to <font color = green>walk</font> into one every once in a while.<br><font color = red>Ike</font> any Barnes & Noble, it has a nice comfy cafe, and a <font color = red>small</font> selection of books.  The staff is very <font color = red>friendliness</font> and <font color = red>useful</font>.  They <font color = red>market</font> a decent selection, and the prices are pretty <font color = red>reasonably</font>.  Obviously it's <font color = red>soften</font> for them to compete with Amazon.  However <font color = red>until</font> all the small shop <font color = red>bookstore</font> are gone, it's <font color = red>loin</font> to <font color = red>shook</font> into one every once in a while."
            ],
            "text/plain": [
              "<IPython.core.display.HTML object>"
            ]
          },
          "metadata": {
            "tags": []
          }
        },
        {
          "output_type": "stream",
          "text": [
            "[Succeeded / Failed / Total] 8 / 2 / 10: 100%|██████████| 10/10 [01:42<00:00, 10.20s/it]"
          ],
          "name": "stderr"
        },
        {
          "output_type": "stream",
          "text": [
            "+-------------------------------+--------+\n",
            "| Attack Results                |        |\n",
            "+-------------------------------+--------+\n",
            "| Number of successful attacks: | 8      |\n",
            "| Number of failed attacks:     | 2      |\n",
            "| Number of skipped attacks:    | 0      |\n",
            "| Original accuracy:            | 100.0% |\n",
            "| Accuracy under attack:        | 20.0%  |\n",
            "| Attack success rate:          | 80.0%  |\n",
            "| Average perturbed word %:     | 9.37%  |\n",
            "| Average num. words per input: | 121.2  |\n",
            "| Avg num queries:              | 219.9  |\n",
            "+-------------------------------+--------+"
          ],
          "name": "stdout"
        },
        {
          "output_type": "stream",
          "text": [
            "\n",
            "\u001b[34;1mtextattack\u001b[0m: Attack time: 102.04814577102661s\n"
          ],
          "name": "stderr"
        }
      ]
    },
    {
      "cell_type": "code",
      "metadata": {
        "colab": {
          "base_uri": "https://localhost:8080/",
          "height": 1000
        },
        "id": "H8LEQan638id",
        "outputId": "724a5892-9522-45ec-b29c-00d391c284ce"
      },
      "source": [
        "attack_stats(attack, dataset, 15)"
      ],
      "execution_count": 15,
      "outputs": [
        {
          "output_type": "stream",
          "text": [
            "\n",
            "  0%|          | 0/15 [00:00<?, ?it/s]\u001b[A"
          ],
          "name": "stderr"
        },
        {
          "output_type": "stream",
          "text": [
            "Attack(\n",
            "  (search_method): GreedyWordSwapWIR(\n",
            "    (wir_method):  weighted-saliency\n",
            "  )\n",
            "  (goal_function):  UntargetedClassification\n",
            "  (transformation):  Swapper\n",
            "  (constraints): \n",
            "    (0): RepeatModification\n",
            "    (1): StopwordModification\n",
            "  (is_black_box):  True\n",
            ")\n"
          ],
          "name": "stdout"
        },
        {
          "output_type": "display_data",
          "data": {
            "text/html": [
              "<font color = green>2 (100%)</font> --> <font color = red>1 (92%)</font><br>Contrary to other reviews, I have <font color = green>zero</font> complaints about the service or the prices. I have been getting tire <font color = green>service</font> here for the past 5 years now, and compared to my experience with places like Pep Boys, these guys are experienced and <font color = green>know</font> what they're doing. \\nAlso, this is one place that I do not feel like I am being taken advantage of, just because of my gender. Other <font color = green>auto</font> mechanics have been notorious for capitalizing on my ignorance of cars, and have sucked my <font color = green>bank</font> account dry. <font color = green>But</font> here, my service and road coverage has all been well <font color = green>explained</font> - and let up to me to decide. \\<font color = green>nAnd</font> they just renovated the <font color = green>waiting</font> room. It looks a lot <font color = green>better</font> than it did in <font color = green>previous</font> years.<br>Contrary to other reviews, I have <font color = red>five</font> complaints about the service or the prices. I have been getting tire <font color = red>serviciul</font> here for the past 5 years now, and compared to my experience with places like Pep Boys, these guys are experienced and <font color = red>think</font> what they're doing. \\nAlso, this is one place that I do not feel like I am being taken advantage of, just because of my gender. Other <font color = red>theft</font> mechanics have been notorious for capitalizing on my ignorance of cars, and have sucked my <font color = red>monetary</font> account dry. <font color = red>Zut</font> here, my service and road coverage has all been well <font color = red>falsified</font> - and let up to me to decide. \\<font color = red>tell</font> they just renovated the <font color = red>baiting</font> room. It looks a lot <font color = red>getter</font> than it did in <font color = red>earlier</font> years."
            ],
            "text/plain": [
              "<IPython.core.display.HTML object>"
            ]
          },
          "metadata": {
            "tags": []
          }
        },
        {
          "output_type": "stream",
          "text": [
            "\n",
            "  7%|▋         | 1/15 [00:09<02:06,  9.04s/it]\u001b[A\n",
            "[Succeeded / Failed / Total] 1 / 0 / 1:   7%|▋         | 1/15 [00:09<02:06,  9.06s/it]\u001b[A"
          ],
          "name": "stderr"
        },
        {
          "output_type": "display_data",
          "data": {
            "text/html": [
              "<font color = red>1 (100%)</font> --> <font color = green>2 (63%)</font><br>Last summer I had an appointment to <font color = red>get</font> new <font color = red>tires</font> and had to wait a <font color = red>super</font> long <font color = red>time</font>. I <font color = red>also</font> went in this week for them to <font color = red>fix</font> a <font color = red>minor</font> problem with a tire they put on. They \\\"\"fixed\\\"\" it for free, and the very next morning I had the same issue. I called to complain, and the \\\"\"<font color = red>manager</font>\\\"\" didn't <font color = red>even</font> <font color = red>apologize</font>!!! So frustrated. Never <font color = red>going</font> <font color = red>back</font>.  They <font color = red>seem</font> <font color = red>overpriced</font>, too.<br>Last summer I had an appointment to <font color = green>give</font> new <font color = green>tire</font> and had to wait a <font color = green>superbike</font> long <font color = green>period</font>. I <font color = green>sometimes</font> went in this week for them to <font color = green>restart</font> a <font color = green>major</font> problem with a tire they put on. They \\\"\"fixed\\\"\" it for free, and the very next morning I had the same issue. I called to complain, and the \\\"\"<font color = green>coach</font>\\\"\" didn't <font color = green>indeed</font> <font color = green>apologise</font>!!! So frustrated. Never <font color = green>getting</font> <font color = green>down</font>.  They <font color = green>tend</font> <font color = green>priced</font>, too."
            ],
            "text/plain": [
              "<IPython.core.display.HTML object>"
            ]
          },
          "metadata": {
            "tags": []
          }
        },
        {
          "output_type": "stream",
          "text": [
            "\n",
            "[Succeeded / Failed / Total] 1 / 0 / 1:  13%|█▎        | 2/15 [00:15<01:39,  7.67s/it]\u001b[A\n",
            "[Succeeded / Failed / Total] 2 / 0 / 2:  13%|█▎        | 2/15 [00:15<01:39,  7.67s/it]\u001b[A"
          ],
          "name": "stderr"
        },
        {
          "output_type": "display_data",
          "data": {
            "text/html": [
              "<font color = green>2 (73%)</font> --> <font color = red>1 (52%)</font><br>Friendly staff, same starbucks fair you <font color = green>get</font> anywhere else.  Sometimes the lines can get long.<br>Friendly staff, same starbucks fair you <font color = red>give</font> anywhere else.  Sometimes the lines can get long."
            ],
            "text/plain": [
              "<IPython.core.display.HTML object>"
            ]
          },
          "metadata": {
            "tags": []
          }
        },
        {
          "output_type": "stream",
          "text": [
            "\n",
            "[Succeeded / Failed / Total] 2 / 0 / 2:  20%|██        | 3/15 [00:16<01:06,  5.53s/it]\u001b[A\n",
            "[Succeeded / Failed / Total] 3 / 0 / 3:  20%|██        | 3/15 [00:16<01:06,  5.53s/it]\u001b[A"
          ],
          "name": "stderr"
        },
        {
          "output_type": "display_data",
          "data": {
            "text/html": [
              "<font color = red>1 (98%)</font> --> <font color = green>2 (51%)</font><br><font color = red>The</font> food is good. <font color = red>Unfortunately</font> the service is very hit or miss. The main issue seems to be with the kitchen, the waiters and waitresses are often very apologetic for the long waits and it's pretty obvious that some of them avoid the tables after taking the initial order to avoid hearing complaints.<br><font color = green>Gauche</font> food is good. <font color = green>Fortunately</font> the service is very hit or miss. The main issue seems to be with the kitchen, the waiters and waitresses are often very apologetic for the long waits and it's pretty obvious that some of them avoid the tables after taking the initial order to avoid hearing complaints."
            ],
            "text/plain": [
              "<IPython.core.display.HTML object>"
            ]
          },
          "metadata": {
            "tags": []
          }
        },
        {
          "output_type": "stream",
          "text": [
            "\n",
            "[Succeeded / Failed / Total] 3 / 0 / 3:  27%|██▋       | 4/15 [00:20<00:55,  5.03s/it]\u001b[A\n",
            "[Succeeded / Failed / Total] 4 / 0 / 4:  27%|██▋       | 4/15 [00:20<00:55,  5.03s/it]\u001b[A"
          ],
          "name": "stderr"
        },
        {
          "output_type": "display_data",
          "data": {
            "text/html": [
              "<font color = green>2 (100%)</font> --> <font color = red>[FAILED]</font><br>Even when we didn't have a car Filene's Basement was worth the bus trip to the Waterfront. I always find something (usually I find 3-4 things and spend about $60) and better still, I am always still wearing the clothes and shoes 3 months later. \\n\\nI kind of suspect this is the best shopping in Pittsburgh; it's much better than the usual department stores, better than Marshall's and TJ Maxx and better than the Saks downtown, even when it has a sale. Selection, bargains AND quality.\\n\\nI like this Filene's better than Gabriel Brothers, which are harder to get to. Gabriel Brothers are a real discount shopper's challenge and I'm afraid I didn't live in Pittsburgh long enough to develop the necessary skills . . . Filene's was still up and running in June 2007 when I left town."
            ],
            "text/plain": [
              "<IPython.core.display.HTML object>"
            ]
          },
          "metadata": {
            "tags": []
          }
        },
        {
          "output_type": "stream",
          "text": [
            "\n",
            "[Succeeded / Failed / Total] 4 / 0 / 4:  33%|███▎      | 5/15 [00:35<01:10,  7.09s/it]\u001b[A\n",
            "[Succeeded / Failed / Total] 4 / 1 / 5:  33%|███▎      | 5/15 [00:35<01:10,  7.09s/it]\u001b[A"
          ],
          "name": "stderr"
        },
        {
          "output_type": "display_data",
          "data": {
            "text/html": [
              "<font color = green>2 (100%)</font> --> <font color = red>1 (51%)</font><br>Picture Billy Joel's \\\"\"Piano Man\\\"\" DOUBLED mixed with beer, a <font color = green>rowdy</font> crowd, and <font color = green>comedy</font> - Welcome to Sing Sing!  A <font color = green>unique</font> musical experience <font color = green>found</font> in Homestead.\\<font color = green>n</font>\\nIf you're looking to grab a bite to eat or a beer, come on in!  Serving food and brews from Rock Bottom Brewery, Sing Sing keeps your tummy full while you listen to two (or more) amazingly <font color = green>talented</font> <font color = green>pianists</font> <font color = green>take</font> your musical requests.  They'll play <font color = green>anything</font> you'd like, for tips of course.  Wanting to hear Britney Spears?  Toto?  Duran Duran?  Yep, they play that... new or old.\\n\\<font color = green>nThe</font> crowd makes the show, so make <font color = green>sure</font> you come ready for a <font color = green>good</font> time.  <font color = green>If</font> the crowd is dead, it's harder for the Guys to get a reaction.  If you're wanting to have some fun, it can be a GREAT time!  <font color = green>It's</font> the perfect place for Birthday parties - especially if you want to embarrass a friend.  The guys will bring them up to the <font color = green>pianos</font> and perform a little ditty.  For being a good sport, you get the coveted Sing Sing bumper sticker.  Now who wouldn't want that?\\n\\nDueling Pianos and brews... time to Shut Up & Sing Sing!<br>Picture Billy Joel's \\\"\"Piano Man\\\"\" DOUBLED mixed with beer, a <font color = red>howdy</font> crowd, and <font color = red>comedies</font> - Welcome to Sing Sing!  A <font color = red>distinctive</font> musical experience <font color = red>corroborated</font> in Homestead.\\<font color = red>y</font>\\nIf you're looking to grab a bite to eat or a beer, come on in!  Serving food and brews from Rock Bottom Brewery, Sing Sing keeps your tummy full while you listen to two (or more) amazingly <font color = red>talent</font> <font color = red>lutenists</font> <font color = red>give</font> your musical requests.  They'll play <font color = red>nothing</font> you'd like, for tips of course.  Wanting to hear Britney Spears?  Toto?  Duran Duran?  Yep, they play that... new or old.\\n\\<font color = red>bouche</font> crowd makes the show, so make <font color = red>forget</font> you come ready for a <font color = red>bad</font> time.  <font color = red>Sun</font> the crowd is dead, it's harder for the Guys to get a reaction.  If you're wanting to have some fun, it can be a GREAT time!  <font color = red>Aeneas</font> the perfect place for Birthday parties - especially if you want to embarrass a friend.  The guys will bring them up to the <font color = red>piano</font> and perform a little ditty.  For being a good sport, you get the coveted Sing Sing bumper sticker.  Now who wouldn't want that?\\n\\nDueling Pianos and brews... time to Shut Up & Sing Sing!"
            ],
            "text/plain": [
              "<IPython.core.display.HTML object>"
            ]
          },
          "metadata": {
            "tags": []
          }
        },
        {
          "output_type": "stream",
          "text": [
            "\n",
            "[Succeeded / Failed / Total] 4 / 1 / 5:  40%|████      | 6/15 [00:53<01:20,  8.92s/it]\u001b[A\n",
            "[Succeeded / Failed / Total] 5 / 1 / 6:  40%|████      | 6/15 [00:53<01:20,  8.92s/it]\u001b[A"
          ],
          "name": "stderr"
        },
        {
          "output_type": "display_data",
          "data": {
            "text/html": [
              "<font color = red>1 (100%)</font> --> <font color = red>[FAILED]</font><br>Mediocre service. COLD food! Our food waited so long the lettuce & pickles wilted. Bland food. Crazy overpriced. Long waits in the arcade. 1 beer per hour maximum.  Avoid at all costs. Fair manager."
            ],
            "text/plain": [
              "<IPython.core.display.HTML object>"
            ]
          },
          "metadata": {
            "tags": []
          }
        },
        {
          "output_type": "stream",
          "text": [
            "\n",
            "[Succeeded / Failed / Total] 5 / 1 / 6:  47%|████▋     | 7/15 [00:57<01:06,  8.26s/it]\u001b[A\n",
            "[Succeeded / Failed / Total] 5 / 2 / 7:  47%|████▋     | 7/15 [00:57<01:06,  8.26s/it]\u001b[A"
          ],
          "name": "stderr"
        },
        {
          "output_type": "display_data",
          "data": {
            "text/html": [
              "<font color = red>1 (100%)</font> --> <font color = green>2 (55%)</font><br>Ok! Let me tell you about my bad <font color = red>experience</font> first. I went to D&B last night for a post wedding party - which, side note, is a great idea!\\n\\nIt was around midnight and the bar wasn't really populated. There were three bartenders and only one was actually making rounds to see if anyone needed anything. The two other bartenders were chatting on the far side of the bar that no one was sitting at. Kind of counter productive if you ask me. \\n\\nI stood there for about 5 minutes, which for a busy bar is fine but when I am the only one with my card out then, it just seems a little ridiculous. I made eye contact with the one girl twice and gave her a smile and she literally turned away. I finally had to walk to them to get their attention.  I was standing right in front of them smiling and they didn't ask if i need anything. I finally said, \\\"\"Are you working?\\\"\" and they gave each other a <font color = red>weird</font> look. I felt like i was the crazy one. I asked for a beer/got the beer.\\n\\nIn between that time, the other bartender brought food over and set it down. She took a fry from the plate (right in front of me) and then served it to someone on the other side of the bar. What the hell! I felt like i was in some grimy bar in out in the sticks - not an established D&B. \\n\\nI was just really turned off from that experience. \\n\\nThe good is that D&B provides a different type of entertainment when you want to mix things up. I remember going here with my grandparents when I was a kid and it was the best treat ever! We would eat at the restaurant and then spend hours playing games. This place holds some really good memories for me. \\n\\nIt's a shame that my experience last night has spoiled the high standards I held for it.<br>Ok! Let me tell you about my bad <font color = green>experiencing</font> first. I went to D&B last night for a post wedding party - which, side note, is a great idea!\\n\\nIt was around midnight and the bar wasn't really populated. There were three bartenders and only one was actually making rounds to see if anyone needed anything. The two other bartenders were chatting on the far side of the bar that no one was sitting at. Kind of counter productive if you ask me. \\n\\nI stood there for about 5 minutes, which for a busy bar is fine but when I am the only one with my card out then, it just seems a little ridiculous. I made eye contact with the one girl twice and gave her a smile and she literally turned away. I finally had to walk to them to get their attention.  I was standing right in front of them smiling and they didn't ask if i need anything. I finally said, \\\"\"Are you working?\\\"\" and they gave each other a <font color = green>weir</font> look. I felt like i was the crazy one. I asked for a beer/got the beer.\\n\\nIn between that time, the other bartender brought food over and set it down. She took a fry from the plate (right in front of me) and then served it to someone on the other side of the bar. What the hell! I felt like i was in some grimy bar in out in the sticks - not an established D&B. \\n\\nI was just really turned off from that experience. \\n\\nThe good is that D&B provides a different type of entertainment when you want to mix things up. I remember going here with my grandparents when I was a kid and it was the best treat ever! We would eat at the restaurant and then spend hours playing games. This place holds some really good memories for me. \\n\\nIt's a shame that my experience last night has spoiled the high standards I held for it."
            ],
            "text/plain": [
              "<IPython.core.display.HTML object>"
            ]
          },
          "metadata": {
            "tags": []
          }
        },
        {
          "output_type": "stream",
          "text": [
            "\n",
            "[Succeeded / Failed / Total] 5 / 2 / 7:  53%|█████▎    | 8/15 [01:22<01:12, 10.32s/it]\u001b[A\n",
            "[Succeeded / Failed / Total] 6 / 2 / 8:  53%|█████▎    | 8/15 [01:22<01:12, 10.32s/it]\u001b[A"
          ],
          "name": "stderr"
        },
        {
          "output_type": "display_data",
          "data": {
            "text/html": [
              "<font color = red>1 (100%)</font> --> <font color = green>2 (52%)</font><br><font color = red>I</font> used to love D&<font color = red>B</font> when it <font color = red>first</font> opened in the Waterfront, but it has gone down <font color = red>hill</font> over the years. The <font color = red>games</font> are not as fun and do not <font color = red>give</font> you as many <font color = red>tickets</font> and the prizes have gotten cheaper in quality. It takes a whole heck of a lot of tickets for you to <font color = red>even</font> get a <font color = red>pencil</font>! The <font color = red>atmosphere</font> is <font color = red>okay</font> but it used to be so much better with the funnest games and diverse groups of people! Now, it is <font color = red>run</font> down and many of the games are app related <font color = red>games</font> (Fruit Ninja) and 3D <font color = red>Experience</font> rides. With such \\\"\"games\\\"\", you can't even <font color = red>earn</font> tickets and they take a lot of tokens! Last time I went, back in the winter, many of the games were broken, which made for a <font color = red>negative</font> player experience. I would go to D&B to play some games again in the future, but it is no <font color = red>longer</font> <font color = red>one</font> of my favorite places to go due to the decline of fun games where you can earn tickets.<br><font color = green>ENCHANTER</font> used to love D&<font color = green>HAIR</font> when it <font color = green>last</font> opened in the Waterfront, but it has gone down <font color = green>clifton</font> over the years. The <font color = green>game</font> are not as fun and do not <font color = green>make</font> you as many <font color = green>ticket</font> and the prizes have gotten cheaper in quality. It takes a whole heck of a lot of tickets for you to <font color = green>indeed</font> get a <font color = green>stencil</font>! The <font color = green>atmospheric</font> is <font color = green>anymore</font> but it used to be so much better with the funnest games and diverse groups of people! Now, it is <font color = green>driveway</font> down and many of the games are app related <font color = green>game</font> (Fruit Ninja) and 3D <font color = green>Experiencing</font> rides. With such \\\"\"games\\\"\", you can't even <font color = green>paying</font> tickets and they take a lot of tokens! Last time I went, back in the winter, many of the games were broken, which made for a <font color = green>positive</font> player experience. I would go to D&B to play some games again in the future, but it is no <font color = green>longew</font> <font color = green>nine</font> of my favorite places to go due to the decline of fun games where you can earn tickets."
            ],
            "text/plain": [
              "<IPython.core.display.HTML object>"
            ]
          },
          "metadata": {
            "tags": []
          }
        },
        {
          "output_type": "stream",
          "text": [
            "\n",
            "[Succeeded / Failed / Total] 6 / 2 / 8:  60%|██████    | 9/15 [01:36<01:04, 10.77s/it]\u001b[A\n",
            "[Succeeded / Failed / Total] 7 / 2 / 9:  60%|██████    | 9/15 [01:36<01:04, 10.78s/it]\u001b[A"
          ],
          "name": "stderr"
        },
        {
          "output_type": "display_data",
          "data": {
            "text/html": [
              "<font color = green>2 (100%)</font> --> <font color = red>1 (86%)</font><br><font color = green>Like</font> any Barnes & Noble, it has a nice comfy cafe, and a <font color = green>large</font> selection of books.  The staff is very <font color = green>friendly</font> and <font color = green>helpful</font>.  They <font color = green>stock</font> a decent selection, and the prices are pretty <font color = green>reasonable</font>.  Obviously it's <font color = green>hard</font> for them to compete with Amazon.  However <font color = green>since</font> all the small shop <font color = green>bookstores</font> are gone, it's <font color = green>nice</font> to <font color = green>walk</font> into one every once in a while.<br><font color = red>Ike</font> any Barnes & Noble, it has a nice comfy cafe, and a <font color = red>small</font> selection of books.  The staff is very <font color = red>friendliness</font> and <font color = red>useful</font>.  They <font color = red>market</font> a decent selection, and the prices are pretty <font color = red>reasonably</font>.  Obviously it's <font color = red>soften</font> for them to compete with Amazon.  However <font color = red>until</font> all the small shop <font color = red>bookstore</font> are gone, it's <font color = red>loin</font> to <font color = red>shook</font> into one every once in a while."
            ],
            "text/plain": [
              "<IPython.core.display.HTML object>"
            ]
          },
          "metadata": {
            "tags": []
          }
        },
        {
          "output_type": "stream",
          "text": [
            "\n",
            "[Succeeded / Failed / Total] 7 / 2 / 9:  67%|██████▋   | 10/15 [01:42<00:51, 10.24s/it]\u001b[A\n",
            "[Succeeded / Failed / Total] 8 / 2 / 10:  67%|██████▋   | 10/15 [01:42<00:51, 10.24s/it]\u001b[A"
          ],
          "name": "stderr"
        },
        {
          "output_type": "display_data",
          "data": {
            "text/html": [
              "<font color = red>1 (100%)</font> --> <font color = red>[FAILED]</font><br>Meh, I've experienced better is an understatement.\\n\\nFriday's is like the \\\"\"fine dining chain\\\"\" for every yinzer in Pittsburgh...\\n\\n1.  When we were seated, it was quick which was a surprise.  Somehow this restaurant gets packed and I never understand why.  I was happy about that.\\n2.  I ordered one of their \\\"\"skinny margaritas\\\"\", blackberry to be exact.  It was a nice size, however, at $6.00/pop, that was half of my food bill.\\n3.  The waitress started off attentive, but after our food came out she was gone.  I ordered a turkey burger with pickle and mustard.  Loaded mashed potato on the side because I wanted heartburn ha!\\n4.  Food came.  My burger had lettuce on it only.  Waitress was supposed to go and get our next round of drinks.  I had to wait to ask for my pickle.\\n5.  The loaded potatoes were more like rubber than potatoes and not what I was expecting.  Disappointment.\\n6.  The waitress then went into oblivion and only returned with our check.  \\n\\nNever again will I eat at Friday's.  I will, however, go should a happy hour arise..."
            ],
            "text/plain": [
              "<IPython.core.display.HTML object>"
            ]
          },
          "metadata": {
            "tags": []
          }
        },
        {
          "output_type": "stream",
          "text": [
            "\n",
            "[Succeeded / Failed / Total] 8 / 2 / 10:  73%|███████▎  | 11/15 [02:02<00:44, 11.18s/it]\u001b[A\n",
            "[Succeeded / Failed / Total] 8 / 3 / 11:  73%|███████▎  | 11/15 [02:03<00:44, 11.18s/it]\u001b[A"
          ],
          "name": "stderr"
        },
        {
          "output_type": "display_data",
          "data": {
            "text/html": [
              "<font color = green>2 (100%)</font> --> <font color = red>1 (93%)</font><br>Unos has been around for ever, & I feel like this restaurant chain peak in popularity in the 80's. Honestly the decor inside still kind of looks 80s to me even though its nice with sleek booth and exposed brick.\\n\\nIf you haven't died and he recently I ordered you to come back and have a meal here again because honestly the food is really quite <font color = green>good</font>!\\n\\nThey have the best chicken salad wrap ever! I love that rap so much I want agreed to walk the south side River Trail from where the Steelers practice all the way to the damn waterfront just because I knew that I could convince my boyfriend to go to Unos with me for lunch.  Full disclosure:  I made him call is a cab and we took a taxi back to the parking lot after lunch.\\n\\nListen... The food and pizza and service are very <font color = green>good</font>, surprisingly so! I don't know why this place is not busier but next time you're down at the Waterfront please do consider dining here!<br>Unos has been around for ever, & I feel like this restaurant chain peak in popularity in the 80's. Honestly the decor inside still kind of looks 80s to me even though its nice with sleek booth and exposed brick.\\n\\nIf you haven't died and he recently I ordered you to come back and have a meal here again because honestly the food is really quite <font color = red>bad</font>!\\n\\nThey have the best chicken salad wrap ever! I love that rap so much I want agreed to walk the south side River Trail from where the Steelers practice all the way to the damn waterfront just because I knew that I could convince my boyfriend to go to Unos with me for lunch.  Full disclosure:  I made him call is a cab and we took a taxi back to the parking lot after lunch.\\n\\nListen... The food and pizza and service are very <font color = red>bad</font>, surprisingly so! I don't know why this place is not busier but next time you're down at the Waterfront please do consider dining here!"
            ],
            "text/plain": [
              "<IPython.core.display.HTML object>"
            ]
          },
          "metadata": {
            "tags": []
          }
        },
        {
          "output_type": "stream",
          "text": [
            "\n",
            "[Succeeded / Failed / Total] 8 / 3 / 11:  80%|████████  | 12/15 [02:15<00:33, 11.30s/it]\u001b[A\n",
            "[Succeeded / Failed / Total] 9 / 3 / 12:  80%|████████  | 12/15 [02:15<00:33, 11.30s/it]\u001b[A"
          ],
          "name": "stderr"
        },
        {
          "output_type": "display_data",
          "data": {
            "text/html": [
              "<font color = red>1 (100%)</font> --> <font color = green>2 (52%)</font><br>Stars are for the food only.    <font color = red>2</font>.5 rating\\n\\nGot there at 8pm on Saturday night, they told us it was an hour wait which was expected, but it only took <font color = red>30minutes</font> to be seated so that was a bonus.  Started off with the lettuce wraps and i used to be a fan of these but they just seem to <font color = red>bore</font> me now(FYI-love the lettuce wraps at the cheesecake factory).  I had the Singapore rice noodles.  This was so so as i thought immediately that lu lu <font color = red>noodles</font> and <font color = red>asian</font> cafe are better.  The <font color = red>fried</font> rice was <font color = red>disappointing</font> and the <font color = red>vegetables</font> tasted raw.   Some <font color = red>good</font> notes were the Dynamite <font color = red>shrimp</font>, plump, juicy, tangy with a <font color = red>small</font> kick.    Sweet and sour chicken was just the same minus the kick. \\<font color = red>n</font>\\nThe service was annoying.   <font color = red>We</font> were there less than 45 minutes and it seemed like our waiter was in a rush to get us out of there.   Constantly asking if he could remove my plate.  I had to <font color = red>sternly</font> say at one point that I will let you <font color = red>know</font> when i am finished.  I found it <font color = red>rude</font> especially since  there wasn't even a line at this point.  \\n\\nI think we will travel elsewhere following a movie.  The result never quite met the anticipation.<br>Stars are for the food only.    <font color = green>campaign</font>.5 rating\\n\\nGot there at 8pm on Saturday night, they told us it was an hour wait which was expected, but it only took <font color = green>minutes</font> to be seated so that was a bonus.  Started off with the lettuce wraps and i used to be a fan of these but they just seem to <font color = green>bearing</font> me now(FYI-love the lettuce wraps at the cheesecake factory).  I had the Singapore rice noodles.  This was so so as i thought immediately that lu lu <font color = green>noodle</font> and <font color = green>african</font> cafe are better.  The <font color = green>fries</font> rice was <font color = green>disappointed</font> and the <font color = green>vegetable</font> tasted raw.   Some <font color = green>bad</font> notes were the Dynamite <font color = green>seafood</font>, plump, juicy, tangy with a <font color = green>large</font> kick.    Sweet and sour chicken was just the same minus the kick. \\<font color = green>y</font>\\nThe service was annoying.   <font color = green>User</font> were there less than 45 minutes and it seemed like our waiter was in a rush to get us out of there.   Constantly asking if he could remove my plate.  I had to <font color = green>stubbornly</font> say at one point that I will let you <font color = green>think</font> when i am finished.  I found it <font color = green>dude</font> especially since  there wasn't even a line at this point.  \\n\\nI think we will travel elsewhere following a movie.  The result never quite met the anticipation."
            ],
            "text/plain": [
              "<IPython.core.display.HTML object>"
            ]
          },
          "metadata": {
            "tags": []
          }
        },
        {
          "output_type": "stream",
          "text": [
            "\n",
            "[Succeeded / Failed / Total] 9 / 3 / 12:  87%|████████▋ | 13/15 [02:33<00:23, 11.78s/it]\u001b[A\n",
            "[Succeeded / Failed / Total] 10 / 3 / 13:  87%|████████▋ | 13/15 [02:33<00:23, 11.78s/it]\u001b[A"
          ],
          "name": "stderr"
        },
        {
          "output_type": "display_data",
          "data": {
            "text/html": [
              "<font color = red>1 (100%)</font> --> <font color = green>2 (52%)</font><br><font color = red>Our</font> <font color = red>last</font> few visits have <font color = red>left</font> something to desire, One of the things <font color = red>I</font> <font color = red>always</font> notice is the demeanor of an establishments <font color = red>employees</font>. <font color = red>These</font> people <font color = red>look</font> miserable, no one <font color = red>smiles</font> or greets you appropriately, it's more like get in, get out, turn the tables,\\n\\nThe food has remained consistently good... when we can <font color = red>order</font> it. the <font color = red>last</font> time JB and I came for a quick dinner, the <font color = red>place</font> was not <font color = red>busy</font> <font color = red>yet</font> we were <font color = red>passed</font> by 6 frowning waitstaff without getting <font color = red>drinks</font>... for 15 <font color = red>minutes</font> we were <font color = red>left</font> suiting at our table with our <font color = red>menus</font> closed and sitting on the edge of the table (HINT, <font color = red>HINT</font>) so we <font color = red>left</font> and most likely will not be <font color = red>returning</font>.<br><font color = green>Zur</font> <font color = green>next</font> few visits have <font color = green>right</font> something to desire, One of the things <font color = green>ENCHANTER</font> <font color = green>actually</font> notice is the demeanor of an establishments <font color = green>employee</font>. <font color = green>Yapese</font> people <font color = green>beginner</font> miserable, no one <font color = green>smile</font> or greets you appropriately, it's more like get in, get out, turn the tables,\\n\\nThe food has remained consistently good... when we can <font color = green>addition</font> it. the <font color = green>next</font> time JB and I came for a quick dinner, the <font color = green>placard</font> was not <font color = green>roadside</font> <font color = green>obviously</font> we were <font color = green>enacted</font> by 6 frowning waitstaff without getting <font color = green>drink</font>... for 15 <font color = green>minute</font> we were <font color = green>right</font> suiting at our table with our <font color = green>fpus</font> closed and sitting on the edge of the table (HINT, <font color = green>SPOROZOITES</font>) so we <font color = green>right</font> and most likely will not be <font color = green>returned</font>."
            ],
            "text/plain": [
              "<IPython.core.display.HTML object>"
            ]
          },
          "metadata": {
            "tags": []
          }
        },
        {
          "output_type": "stream",
          "text": [
            "\n",
            "[Succeeded / Failed / Total] 10 / 3 / 13:  93%|█████████▎| 14/15 [02:43<00:11, 11.69s/it]\u001b[A\n",
            "[Succeeded / Failed / Total] 11 / 3 / 14:  93%|█████████▎| 14/15 [02:43<00:11, 11.69s/it]\u001b[A"
          ],
          "name": "stderr"
        },
        {
          "output_type": "display_data",
          "data": {
            "text/html": [
              "<font color = green>2 (100%)</font> --> <font color = red>1 (92%)</font><br>Good quality <font color = green>pork</font> fried <font color = green>dumpling</font> and mongo beef.  Bar service was fast and Efficent.   <font color = green>Good</font> <font color = green>value</font>.  Not a 5 <font color = green>cause</font> dragon <font color = green>eye</font> tea was cold <font color = green>first</font> <font color = green>time</font> <font color = green>around</font> and <font color = green>beef</font> had <font color = green>minor</font> <font color = green>amount</font> of fat.   <font color = green>Fortune</font> was even Postive!<br>Good quality <font color = red>potatoes</font> fried <font color = red>pickling</font> and mongo beef.  Bar service was fast and Efficent.   <font color = red>Bewilderment</font> <font color = red>quantity</font>.  Not a 5 <font color = red>causing</font> dragon <font color = red>skin</font> tea was cold <font color = red>last</font> <font color = red>period</font> <font color = red>across</font> and <font color = red>potatoes</font> had <font color = red>major</font> <font color = red>quantity</font> of fat.   <font color = red>Opportune</font> was even Postive!"
            ],
            "text/plain": [
              "<IPython.core.display.HTML object>"
            ]
          },
          "metadata": {
            "tags": []
          }
        },
        {
          "output_type": "stream",
          "text": [
            "\n",
            "[Succeeded / Failed / Total] 11 / 3 / 14: 100%|██████████| 15/15 [02:47<00:00, 11.19s/it]\u001b[A\n",
            "[Succeeded / Failed / Total] 12 / 3 / 15: 100%|██████████| 15/15 [02:47<00:00, 11.19s/it]"
          ],
          "name": "stderr"
        },
        {
          "output_type": "stream",
          "text": [
            "+-------------------------------+--------+\n",
            "| Attack Results                |        |\n",
            "+-------------------------------+--------+\n",
            "| Number of successful attacks: | 12     |\n",
            "| Number of failed attacks:     | 3      |\n",
            "| Number of skipped attacks:    | 0      |\n",
            "| Original accuracy:            | 100.0% |\n",
            "| Accuracy under attack:        | 20.0%  |\n",
            "| Attack success rate:          | 80.0%  |\n",
            "| Average perturbed word %:     | 11.31% |\n",
            "| Average num. words per input: | 130.07 |\n",
            "| Avg num queries:              | 239.73 |\n",
            "+-------------------------------+--------+"
          ],
          "name": "stdout"
        },
        {
          "output_type": "stream",
          "text": [
            "\n",
            "\u001b[34;1mtextattack\u001b[0m: Attack time: 167.8620867729187s\n"
          ],
          "name": "stderr"
        }
      ]
    },
    {
      "cell_type": "code",
      "metadata": {
        "colab": {
          "base_uri": "https://localhost:8080/",
          "height": 1000
        },
        "id": "fenSkFUS4n9X",
        "outputId": "c0a72894-0263-4274-823b-4da5bc2c26c3"
      },
      "source": [
        "attack_stats(attack, dataset, 20)"
      ],
      "execution_count": 16,
      "outputs": [
        {
          "output_type": "stream",
          "text": [
            "\n",
            "  0%|          | 0/20 [00:00<?, ?it/s]\u001b[A"
          ],
          "name": "stderr"
        },
        {
          "output_type": "stream",
          "text": [
            "Attack(\n",
            "  (search_method): GreedyWordSwapWIR(\n",
            "    (wir_method):  weighted-saliency\n",
            "  )\n",
            "  (goal_function):  UntargetedClassification\n",
            "  (transformation):  Swapper\n",
            "  (constraints): \n",
            "    (0): RepeatModification\n",
            "    (1): StopwordModification\n",
            "  (is_black_box):  True\n",
            ")\n"
          ],
          "name": "stdout"
        },
        {
          "output_type": "display_data",
          "data": {
            "text/html": [
              "<font color = green>2 (100%)</font> --> <font color = red>1 (92%)</font><br>Contrary to other reviews, I have <font color = green>zero</font> complaints about the service or the prices. I have been getting tire <font color = green>service</font> here for the past 5 years now, and compared to my experience with places like Pep Boys, these guys are experienced and <font color = green>know</font> what they're doing. \\nAlso, this is one place that I do not feel like I am being taken advantage of, just because of my gender. Other <font color = green>auto</font> mechanics have been notorious for capitalizing on my ignorance of cars, and have sucked my <font color = green>bank</font> account dry. <font color = green>But</font> here, my service and road coverage has all been well <font color = green>explained</font> - and let up to me to decide. \\<font color = green>nAnd</font> they just renovated the <font color = green>waiting</font> room. It looks a lot <font color = green>better</font> than it did in <font color = green>previous</font> years.<br>Contrary to other reviews, I have <font color = red>five</font> complaints about the service or the prices. I have been getting tire <font color = red>serviciul</font> here for the past 5 years now, and compared to my experience with places like Pep Boys, these guys are experienced and <font color = red>think</font> what they're doing. \\nAlso, this is one place that I do not feel like I am being taken advantage of, just because of my gender. Other <font color = red>theft</font> mechanics have been notorious for capitalizing on my ignorance of cars, and have sucked my <font color = red>monetary</font> account dry. <font color = red>Zut</font> here, my service and road coverage has all been well <font color = red>falsified</font> - and let up to me to decide. \\<font color = red>tell</font> they just renovated the <font color = red>baiting</font> room. It looks a lot <font color = red>getter</font> than it did in <font color = red>earlier</font> years."
            ],
            "text/plain": [
              "<IPython.core.display.HTML object>"
            ]
          },
          "metadata": {
            "tags": []
          }
        },
        {
          "output_type": "stream",
          "text": [
            "\n",
            "  5%|▌         | 1/20 [00:08<02:48,  8.87s/it]\u001b[A\n",
            "[Succeeded / Failed / Total] 1 / 0 / 1:   5%|▌         | 1/20 [00:08<02:48,  8.88s/it]\u001b[A"
          ],
          "name": "stderr"
        },
        {
          "output_type": "display_data",
          "data": {
            "text/html": [
              "<font color = red>1 (100%)</font> --> <font color = green>2 (63%)</font><br>Last summer I had an appointment to <font color = red>get</font> new <font color = red>tires</font> and had to wait a <font color = red>super</font> long <font color = red>time</font>. I <font color = red>also</font> went in this week for them to <font color = red>fix</font> a <font color = red>minor</font> problem with a tire they put on. They \\\"\"fixed\\\"\" it for free, and the very next morning I had the same issue. I called to complain, and the \\\"\"<font color = red>manager</font>\\\"\" didn't <font color = red>even</font> <font color = red>apologize</font>!!! So frustrated. Never <font color = red>going</font> <font color = red>back</font>.  They <font color = red>seem</font> <font color = red>overpriced</font>, too.<br>Last summer I had an appointment to <font color = green>give</font> new <font color = green>tire</font> and had to wait a <font color = green>superbike</font> long <font color = green>period</font>. I <font color = green>sometimes</font> went in this week for them to <font color = green>restart</font> a <font color = green>major</font> problem with a tire they put on. They \\\"\"fixed\\\"\" it for free, and the very next morning I had the same issue. I called to complain, and the \\\"\"<font color = green>coach</font>\\\"\" didn't <font color = green>indeed</font> <font color = green>apologise</font>!!! So frustrated. Never <font color = green>getting</font> <font color = green>down</font>.  They <font color = green>tend</font> <font color = green>priced</font>, too."
            ],
            "text/plain": [
              "<IPython.core.display.HTML object>"
            ]
          },
          "metadata": {
            "tags": []
          }
        },
        {
          "output_type": "stream",
          "text": [
            "\n",
            "[Succeeded / Failed / Total] 1 / 0 / 1:  10%|█         | 2/20 [00:15<02:15,  7.54s/it]\u001b[A\n",
            "[Succeeded / Failed / Total] 2 / 0 / 2:  10%|█         | 2/20 [00:15<02:15,  7.54s/it]\u001b[A"
          ],
          "name": "stderr"
        },
        {
          "output_type": "display_data",
          "data": {
            "text/html": [
              "<font color = green>2 (73%)</font> --> <font color = red>1 (52%)</font><br>Friendly staff, same starbucks fair you <font color = green>get</font> anywhere else.  Sometimes the lines can get long.<br>Friendly staff, same starbucks fair you <font color = red>give</font> anywhere else.  Sometimes the lines can get long."
            ],
            "text/plain": [
              "<IPython.core.display.HTML object>"
            ]
          },
          "metadata": {
            "tags": []
          }
        },
        {
          "output_type": "stream",
          "text": [
            "\n",
            "[Succeeded / Failed / Total] 2 / 0 / 2:  15%|█▌        | 3/20 [00:16<01:32,  5.44s/it]\u001b[A\n",
            "[Succeeded / Failed / Total] 3 / 0 / 3:  15%|█▌        | 3/20 [00:16<01:32,  5.44s/it]\u001b[A"
          ],
          "name": "stderr"
        },
        {
          "output_type": "display_data",
          "data": {
            "text/html": [
              "<font color = red>1 (98%)</font> --> <font color = green>2 (51%)</font><br><font color = red>The</font> food is good. <font color = red>Unfortunately</font> the service is very hit or miss. The main issue seems to be with the kitchen, the waiters and waitresses are often very apologetic for the long waits and it's pretty obvious that some of them avoid the tables after taking the initial order to avoid hearing complaints.<br><font color = green>Gauche</font> food is good. <font color = green>Fortunately</font> the service is very hit or miss. The main issue seems to be with the kitchen, the waiters and waitresses are often very apologetic for the long waits and it's pretty obvious that some of them avoid the tables after taking the initial order to avoid hearing complaints."
            ],
            "text/plain": [
              "<IPython.core.display.HTML object>"
            ]
          },
          "metadata": {
            "tags": []
          }
        },
        {
          "output_type": "stream",
          "text": [
            "\n",
            "[Succeeded / Failed / Total] 3 / 0 / 3:  20%|██        | 4/20 [00:19<01:19,  4.97s/it]\u001b[A\n",
            "[Succeeded / Failed / Total] 4 / 0 / 4:  20%|██        | 4/20 [00:19<01:19,  4.97s/it]\u001b[A"
          ],
          "name": "stderr"
        },
        {
          "output_type": "display_data",
          "data": {
            "text/html": [
              "<font color = green>2 (100%)</font> --> <font color = red>[FAILED]</font><br>Even when we didn't have a car Filene's Basement was worth the bus trip to the Waterfront. I always find something (usually I find 3-4 things and spend about $60) and better still, I am always still wearing the clothes and shoes 3 months later. \\n\\nI kind of suspect this is the best shopping in Pittsburgh; it's much better than the usual department stores, better than Marshall's and TJ Maxx and better than the Saks downtown, even when it has a sale. Selection, bargains AND quality.\\n\\nI like this Filene's better than Gabriel Brothers, which are harder to get to. Gabriel Brothers are a real discount shopper's challenge and I'm afraid I didn't live in Pittsburgh long enough to develop the necessary skills . . . Filene's was still up and running in June 2007 when I left town."
            ],
            "text/plain": [
              "<IPython.core.display.HTML object>"
            ]
          },
          "metadata": {
            "tags": []
          }
        },
        {
          "output_type": "stream",
          "text": [
            "\n",
            "[Succeeded / Failed / Total] 4 / 0 / 4:  25%|██▌       | 5/20 [00:35<01:45,  7.03s/it]\u001b[A\n",
            "[Succeeded / Failed / Total] 4 / 1 / 5:  25%|██▌       | 5/20 [00:35<01:45,  7.04s/it]\u001b[A"
          ],
          "name": "stderr"
        },
        {
          "output_type": "display_data",
          "data": {
            "text/html": [
              "<font color = green>2 (100%)</font> --> <font color = red>1 (51%)</font><br>Picture Billy Joel's \\\"\"Piano Man\\\"\" DOUBLED mixed with beer, a <font color = green>rowdy</font> crowd, and <font color = green>comedy</font> - Welcome to Sing Sing!  A <font color = green>unique</font> musical experience <font color = green>found</font> in Homestead.\\<font color = green>n</font>\\nIf you're looking to grab a bite to eat or a beer, come on in!  Serving food and brews from Rock Bottom Brewery, Sing Sing keeps your tummy full while you listen to two (or more) amazingly <font color = green>talented</font> <font color = green>pianists</font> <font color = green>take</font> your musical requests.  They'll play <font color = green>anything</font> you'd like, for tips of course.  Wanting to hear Britney Spears?  Toto?  Duran Duran?  Yep, they play that... new or old.\\n\\<font color = green>nThe</font> crowd makes the show, so make <font color = green>sure</font> you come ready for a <font color = green>good</font> time.  <font color = green>If</font> the crowd is dead, it's harder for the Guys to get a reaction.  If you're wanting to have some fun, it can be a GREAT time!  <font color = green>It's</font> the perfect place for Birthday parties - especially if you want to embarrass a friend.  The guys will bring them up to the <font color = green>pianos</font> and perform a little ditty.  For being a good sport, you get the coveted Sing Sing bumper sticker.  Now who wouldn't want that?\\n\\nDueling Pianos and brews... time to Shut Up & Sing Sing!<br>Picture Billy Joel's \\\"\"Piano Man\\\"\" DOUBLED mixed with beer, a <font color = red>howdy</font> crowd, and <font color = red>comedies</font> - Welcome to Sing Sing!  A <font color = red>distinctive</font> musical experience <font color = red>corroborated</font> in Homestead.\\<font color = red>y</font>\\nIf you're looking to grab a bite to eat or a beer, come on in!  Serving food and brews from Rock Bottom Brewery, Sing Sing keeps your tummy full while you listen to two (or more) amazingly <font color = red>talent</font> <font color = red>lutenists</font> <font color = red>give</font> your musical requests.  They'll play <font color = red>nothing</font> you'd like, for tips of course.  Wanting to hear Britney Spears?  Toto?  Duran Duran?  Yep, they play that... new or old.\\n\\<font color = red>bouche</font> crowd makes the show, so make <font color = red>forget</font> you come ready for a <font color = red>bad</font> time.  <font color = red>Sun</font> the crowd is dead, it's harder for the Guys to get a reaction.  If you're wanting to have some fun, it can be a GREAT time!  <font color = red>Aeneas</font> the perfect place for Birthday parties - especially if you want to embarrass a friend.  The guys will bring them up to the <font color = red>piano</font> and perform a little ditty.  For being a good sport, you get the coveted Sing Sing bumper sticker.  Now who wouldn't want that?\\n\\nDueling Pianos and brews... time to Shut Up & Sing Sing!"
            ],
            "text/plain": [
              "<IPython.core.display.HTML object>"
            ]
          },
          "metadata": {
            "tags": []
          }
        },
        {
          "output_type": "stream",
          "text": [
            "\n",
            "[Succeeded / Failed / Total] 4 / 1 / 5:  30%|███       | 6/20 [00:53<02:04,  8.86s/it]\u001b[A\n",
            "[Succeeded / Failed / Total] 5 / 1 / 6:  30%|███       | 6/20 [00:53<02:04,  8.86s/it]\u001b[A"
          ],
          "name": "stderr"
        },
        {
          "output_type": "display_data",
          "data": {
            "text/html": [
              "<font color = red>1 (100%)</font> --> <font color = red>[FAILED]</font><br>Mediocre service. COLD food! Our food waited so long the lettuce & pickles wilted. Bland food. Crazy overpriced. Long waits in the arcade. 1 beer per hour maximum.  Avoid at all costs. Fair manager."
            ],
            "text/plain": [
              "<IPython.core.display.HTML object>"
            ]
          },
          "metadata": {
            "tags": []
          }
        },
        {
          "output_type": "stream",
          "text": [
            "\n",
            "[Succeeded / Failed / Total] 5 / 1 / 6:  35%|███▌      | 7/20 [00:57<01:46,  8.20s/it]\u001b[A\n",
            "[Succeeded / Failed / Total] 5 / 2 / 7:  35%|███▌      | 7/20 [00:57<01:46,  8.21s/it]\u001b[A"
          ],
          "name": "stderr"
        },
        {
          "output_type": "display_data",
          "data": {
            "text/html": [
              "<font color = red>1 (100%)</font> --> <font color = green>2 (55%)</font><br>Ok! Let me tell you about my bad <font color = red>experience</font> first. I went to D&B last night for a post wedding party - which, side note, is a great idea!\\n\\nIt was around midnight and the bar wasn't really populated. There were three bartenders and only one was actually making rounds to see if anyone needed anything. The two other bartenders were chatting on the far side of the bar that no one was sitting at. Kind of counter productive if you ask me. \\n\\nI stood there for about 5 minutes, which for a busy bar is fine but when I am the only one with my card out then, it just seems a little ridiculous. I made eye contact with the one girl twice and gave her a smile and she literally turned away. I finally had to walk to them to get their attention.  I was standing right in front of them smiling and they didn't ask if i need anything. I finally said, \\\"\"Are you working?\\\"\" and they gave each other a <font color = red>weird</font> look. I felt like i was the crazy one. I asked for a beer/got the beer.\\n\\nIn between that time, the other bartender brought food over and set it down. She took a fry from the plate (right in front of me) and then served it to someone on the other side of the bar. What the hell! I felt like i was in some grimy bar in out in the sticks - not an established D&B. \\n\\nI was just really turned off from that experience. \\n\\nThe good is that D&B provides a different type of entertainment when you want to mix things up. I remember going here with my grandparents when I was a kid and it was the best treat ever! We would eat at the restaurant and then spend hours playing games. This place holds some really good memories for me. \\n\\nIt's a shame that my experience last night has spoiled the high standards I held for it.<br>Ok! Let me tell you about my bad <font color = green>experiencing</font> first. I went to D&B last night for a post wedding party - which, side note, is a great idea!\\n\\nIt was around midnight and the bar wasn't really populated. There were three bartenders and only one was actually making rounds to see if anyone needed anything. The two other bartenders were chatting on the far side of the bar that no one was sitting at. Kind of counter productive if you ask me. \\n\\nI stood there for about 5 minutes, which for a busy bar is fine but when I am the only one with my card out then, it just seems a little ridiculous. I made eye contact with the one girl twice and gave her a smile and she literally turned away. I finally had to walk to them to get their attention.  I was standing right in front of them smiling and they didn't ask if i need anything. I finally said, \\\"\"Are you working?\\\"\" and they gave each other a <font color = green>weir</font> look. I felt like i was the crazy one. I asked for a beer/got the beer.\\n\\nIn between that time, the other bartender brought food over and set it down. She took a fry from the plate (right in front of me) and then served it to someone on the other side of the bar. What the hell! I felt like i was in some grimy bar in out in the sticks - not an established D&B. \\n\\nI was just really turned off from that experience. \\n\\nThe good is that D&B provides a different type of entertainment when you want to mix things up. I remember going here with my grandparents when I was a kid and it was the best treat ever! We would eat at the restaurant and then spend hours playing games. This place holds some really good memories for me. \\n\\nIt's a shame that my experience last night has spoiled the high standards I held for it."
            ],
            "text/plain": [
              "<IPython.core.display.HTML object>"
            ]
          },
          "metadata": {
            "tags": []
          }
        },
        {
          "output_type": "stream",
          "text": [
            "\n",
            "[Succeeded / Failed / Total] 5 / 2 / 7:  40%|████      | 8/20 [01:22<02:03, 10.27s/it]\u001b[A\n",
            "[Succeeded / Failed / Total] 6 / 2 / 8:  40%|████      | 8/20 [01:22<02:03, 10.27s/it]\u001b[A"
          ],
          "name": "stderr"
        },
        {
          "output_type": "display_data",
          "data": {
            "text/html": [
              "<font color = red>1 (100%)</font> --> <font color = green>2 (52%)</font><br><font color = red>I</font> used to love D&<font color = red>B</font> when it <font color = red>first</font> opened in the Waterfront, but it has gone down <font color = red>hill</font> over the years. The <font color = red>games</font> are not as fun and do not <font color = red>give</font> you as many <font color = red>tickets</font> and the prizes have gotten cheaper in quality. It takes a whole heck of a lot of tickets for you to <font color = red>even</font> get a <font color = red>pencil</font>! The <font color = red>atmosphere</font> is <font color = red>okay</font> but it used to be so much better with the funnest games and diverse groups of people! Now, it is <font color = red>run</font> down and many of the games are app related <font color = red>games</font> (Fruit Ninja) and 3D <font color = red>Experience</font> rides. With such \\\"\"games\\\"\", you can't even <font color = red>earn</font> tickets and they take a lot of tokens! Last time I went, back in the winter, many of the games were broken, which made for a <font color = red>negative</font> player experience. I would go to D&B to play some games again in the future, but it is no <font color = red>longer</font> <font color = red>one</font> of my favorite places to go due to the decline of fun games where you can earn tickets.<br><font color = green>ENCHANTER</font> used to love D&<font color = green>HAIR</font> when it <font color = green>last</font> opened in the Waterfront, but it has gone down <font color = green>clifton</font> over the years. The <font color = green>game</font> are not as fun and do not <font color = green>make</font> you as many <font color = green>ticket</font> and the prizes have gotten cheaper in quality. It takes a whole heck of a lot of tickets for you to <font color = green>indeed</font> get a <font color = green>stencil</font>! The <font color = green>atmospheric</font> is <font color = green>anymore</font> but it used to be so much better with the funnest games and diverse groups of people! Now, it is <font color = green>driveway</font> down and many of the games are app related <font color = green>game</font> (Fruit Ninja) and 3D <font color = green>Experiencing</font> rides. With such \\\"\"games\\\"\", you can't even <font color = green>paying</font> tickets and they take a lot of tokens! Last time I went, back in the winter, many of the games were broken, which made for a <font color = green>positive</font> player experience. I would go to D&B to play some games again in the future, but it is no <font color = green>longew</font> <font color = green>nine</font> of my favorite places to go due to the decline of fun games where you can earn tickets."
            ],
            "text/plain": [
              "<IPython.core.display.HTML object>"
            ]
          },
          "metadata": {
            "tags": []
          }
        },
        {
          "output_type": "stream",
          "text": [
            "\n",
            "[Succeeded / Failed / Total] 6 / 2 / 8:  45%|████▌     | 9/20 [01:36<01:58, 10.74s/it]\u001b[A\n",
            "[Succeeded / Failed / Total] 7 / 2 / 9:  45%|████▌     | 9/20 [01:36<01:58, 10.74s/it]\u001b[A"
          ],
          "name": "stderr"
        },
        {
          "output_type": "display_data",
          "data": {
            "text/html": [
              "<font color = green>2 (100%)</font> --> <font color = red>1 (86%)</font><br><font color = green>Like</font> any Barnes & Noble, it has a nice comfy cafe, and a <font color = green>large</font> selection of books.  The staff is very <font color = green>friendly</font> and <font color = green>helpful</font>.  They <font color = green>stock</font> a decent selection, and the prices are pretty <font color = green>reasonable</font>.  Obviously it's <font color = green>hard</font> for them to compete with Amazon.  However <font color = green>since</font> all the small shop <font color = green>bookstores</font> are gone, it's <font color = green>nice</font> to <font color = green>walk</font> into one every once in a while.<br><font color = red>Ike</font> any Barnes & Noble, it has a nice comfy cafe, and a <font color = red>small</font> selection of books.  The staff is very <font color = red>friendliness</font> and <font color = red>useful</font>.  They <font color = red>market</font> a decent selection, and the prices are pretty <font color = red>reasonably</font>.  Obviously it's <font color = red>soften</font> for them to compete with Amazon.  However <font color = red>until</font> all the small shop <font color = red>bookstore</font> are gone, it's <font color = red>loin</font> to <font color = red>shook</font> into one every once in a while."
            ],
            "text/plain": [
              "<IPython.core.display.HTML object>"
            ]
          },
          "metadata": {
            "tags": []
          }
        },
        {
          "output_type": "stream",
          "text": [
            "\n",
            "[Succeeded / Failed / Total] 7 / 2 / 9:  50%|█████     | 10/20 [01:42<01:42, 10.21s/it]\u001b[A\n",
            "[Succeeded / Failed / Total] 8 / 2 / 10:  50%|█████     | 10/20 [01:42<01:42, 10.21s/it]\u001b[A"
          ],
          "name": "stderr"
        },
        {
          "output_type": "display_data",
          "data": {
            "text/html": [
              "<font color = red>1 (100%)</font> --> <font color = red>[FAILED]</font><br>Meh, I've experienced better is an understatement.\\n\\nFriday's is like the \\\"\"fine dining chain\\\"\" for every yinzer in Pittsburgh...\\n\\n1.  When we were seated, it was quick which was a surprise.  Somehow this restaurant gets packed and I never understand why.  I was happy about that.\\n2.  I ordered one of their \\\"\"skinny margaritas\\\"\", blackberry to be exact.  It was a nice size, however, at $6.00/pop, that was half of my food bill.\\n3.  The waitress started off attentive, but after our food came out she was gone.  I ordered a turkey burger with pickle and mustard.  Loaded mashed potato on the side because I wanted heartburn ha!\\n4.  Food came.  My burger had lettuce on it only.  Waitress was supposed to go and get our next round of drinks.  I had to wait to ask for my pickle.\\n5.  The loaded potatoes were more like rubber than potatoes and not what I was expecting.  Disappointment.\\n6.  The waitress then went into oblivion and only returned with our check.  \\n\\nNever again will I eat at Friday's.  I will, however, go should a happy hour arise..."
            ],
            "text/plain": [
              "<IPython.core.display.HTML object>"
            ]
          },
          "metadata": {
            "tags": []
          }
        },
        {
          "output_type": "stream",
          "text": [
            "\n",
            "[Succeeded / Failed / Total] 8 / 2 / 10:  55%|█████▌    | 11/20 [02:02<01:40, 11.16s/it]\u001b[A\n",
            "[Succeeded / Failed / Total] 8 / 3 / 11:  55%|█████▌    | 11/20 [02:02<01:40, 11.16s/it]\u001b[A"
          ],
          "name": "stderr"
        },
        {
          "output_type": "display_data",
          "data": {
            "text/html": [
              "<font color = green>2 (100%)</font> --> <font color = red>1 (93%)</font><br>Unos has been around for ever, & I feel like this restaurant chain peak in popularity in the 80's. Honestly the decor inside still kind of looks 80s to me even though its nice with sleek booth and exposed brick.\\n\\nIf you haven't died and he recently I ordered you to come back and have a meal here again because honestly the food is really quite <font color = green>good</font>!\\n\\nThey have the best chicken salad wrap ever! I love that rap so much I want agreed to walk the south side River Trail from where the Steelers practice all the way to the damn waterfront just because I knew that I could convince my boyfriend to go to Unos with me for lunch.  Full disclosure:  I made him call is a cab and we took a taxi back to the parking lot after lunch.\\n\\nListen... The food and pizza and service are very <font color = green>good</font>, surprisingly so! I don't know why this place is not busier but next time you're down at the Waterfront please do consider dining here!<br>Unos has been around for ever, & I feel like this restaurant chain peak in popularity in the 80's. Honestly the decor inside still kind of looks 80s to me even though its nice with sleek booth and exposed brick.\\n\\nIf you haven't died and he recently I ordered you to come back and have a meal here again because honestly the food is really quite <font color = red>bad</font>!\\n\\nThey have the best chicken salad wrap ever! I love that rap so much I want agreed to walk the south side River Trail from where the Steelers practice all the way to the damn waterfront just because I knew that I could convince my boyfriend to go to Unos with me for lunch.  Full disclosure:  I made him call is a cab and we took a taxi back to the parking lot after lunch.\\n\\nListen... The food and pizza and service are very <font color = red>bad</font>, surprisingly so! I don't know why this place is not busier but next time you're down at the Waterfront please do consider dining here!"
            ],
            "text/plain": [
              "<IPython.core.display.HTML object>"
            ]
          },
          "metadata": {
            "tags": []
          }
        },
        {
          "output_type": "stream",
          "text": [
            "\n",
            "[Succeeded / Failed / Total] 8 / 3 / 11:  60%|██████    | 12/20 [02:15<01:30, 11.28s/it]\u001b[A\n",
            "[Succeeded / Failed / Total] 9 / 3 / 12:  60%|██████    | 12/20 [02:15<01:30, 11.28s/it]\u001b[A"
          ],
          "name": "stderr"
        },
        {
          "output_type": "display_data",
          "data": {
            "text/html": [
              "<font color = red>1 (100%)</font> --> <font color = green>2 (52%)</font><br>Stars are for the food only.    <font color = red>2</font>.5 rating\\n\\nGot there at 8pm on Saturday night, they told us it was an hour wait which was expected, but it only took <font color = red>30minutes</font> to be seated so that was a bonus.  Started off with the lettuce wraps and i used to be a fan of these but they just seem to <font color = red>bore</font> me now(FYI-love the lettuce wraps at the cheesecake factory).  I had the Singapore rice noodles.  This was so so as i thought immediately that lu lu <font color = red>noodles</font> and <font color = red>asian</font> cafe are better.  The <font color = red>fried</font> rice was <font color = red>disappointing</font> and the <font color = red>vegetables</font> tasted raw.   Some <font color = red>good</font> notes were the Dynamite <font color = red>shrimp</font>, plump, juicy, tangy with a <font color = red>small</font> kick.    Sweet and sour chicken was just the same minus the kick. \\<font color = red>n</font>\\nThe service was annoying.   <font color = red>We</font> were there less than 45 minutes and it seemed like our waiter was in a rush to get us out of there.   Constantly asking if he could remove my plate.  I had to <font color = red>sternly</font> say at one point that I will let you <font color = red>know</font> when i am finished.  I found it <font color = red>rude</font> especially since  there wasn't even a line at this point.  \\n\\nI think we will travel elsewhere following a movie.  The result never quite met the anticipation.<br>Stars are for the food only.    <font color = green>campaign</font>.5 rating\\n\\nGot there at 8pm on Saturday night, they told us it was an hour wait which was expected, but it only took <font color = green>minutes</font> to be seated so that was a bonus.  Started off with the lettuce wraps and i used to be a fan of these but they just seem to <font color = green>bearing</font> me now(FYI-love the lettuce wraps at the cheesecake factory).  I had the Singapore rice noodles.  This was so so as i thought immediately that lu lu <font color = green>noodle</font> and <font color = green>african</font> cafe are better.  The <font color = green>fries</font> rice was <font color = green>disappointed</font> and the <font color = green>vegetable</font> tasted raw.   Some <font color = green>bad</font> notes were the Dynamite <font color = green>seafood</font>, plump, juicy, tangy with a <font color = green>large</font> kick.    Sweet and sour chicken was just the same minus the kick. \\<font color = green>y</font>\\nThe service was annoying.   <font color = green>User</font> were there less than 45 minutes and it seemed like our waiter was in a rush to get us out of there.   Constantly asking if he could remove my plate.  I had to <font color = green>stubbornly</font> say at one point that I will let you <font color = green>think</font> when i am finished.  I found it <font color = green>dude</font> especially since  there wasn't even a line at this point.  \\n\\nI think we will travel elsewhere following a movie.  The result never quite met the anticipation."
            ],
            "text/plain": [
              "<IPython.core.display.HTML object>"
            ]
          },
          "metadata": {
            "tags": []
          }
        },
        {
          "output_type": "stream",
          "text": [
            "\n",
            "[Succeeded / Failed / Total] 9 / 3 / 12:  65%|██████▌   | 13/20 [02:33<01:22, 11.77s/it]\u001b[A\n",
            "[Succeeded / Failed / Total] 10 / 3 / 13:  65%|██████▌   | 13/20 [02:33<01:22, 11.77s/it]\u001b[A"
          ],
          "name": "stderr"
        },
        {
          "output_type": "display_data",
          "data": {
            "text/html": [
              "<font color = red>1 (100%)</font> --> <font color = green>2 (52%)</font><br><font color = red>Our</font> <font color = red>last</font> few visits have <font color = red>left</font> something to desire, One of the things <font color = red>I</font> <font color = red>always</font> notice is the demeanor of an establishments <font color = red>employees</font>. <font color = red>These</font> people <font color = red>look</font> miserable, no one <font color = red>smiles</font> or greets you appropriately, it's more like get in, get out, turn the tables,\\n\\nThe food has remained consistently good... when we can <font color = red>order</font> it. the <font color = red>last</font> time JB and I came for a quick dinner, the <font color = red>place</font> was not <font color = red>busy</font> <font color = red>yet</font> we were <font color = red>passed</font> by 6 frowning waitstaff without getting <font color = red>drinks</font>... for 15 <font color = red>minutes</font> we were <font color = red>left</font> suiting at our table with our <font color = red>menus</font> closed and sitting on the edge of the table (HINT, <font color = red>HINT</font>) so we <font color = red>left</font> and most likely will not be <font color = red>returning</font>.<br><font color = green>Zur</font> <font color = green>next</font> few visits have <font color = green>right</font> something to desire, One of the things <font color = green>ENCHANTER</font> <font color = green>actually</font> notice is the demeanor of an establishments <font color = green>employee</font>. <font color = green>Yapese</font> people <font color = green>beginner</font> miserable, no one <font color = green>smile</font> or greets you appropriately, it's more like get in, get out, turn the tables,\\n\\nThe food has remained consistently good... when we can <font color = green>addition</font> it. the <font color = green>next</font> time JB and I came for a quick dinner, the <font color = green>placard</font> was not <font color = green>roadside</font> <font color = green>obviously</font> we were <font color = green>enacted</font> by 6 frowning waitstaff without getting <font color = green>drink</font>... for 15 <font color = green>minute</font> we were <font color = green>right</font> suiting at our table with our <font color = green>fpus</font> closed and sitting on the edge of the table (HINT, <font color = green>SPOROZOITES</font>) so we <font color = green>right</font> and most likely will not be <font color = green>returned</font>."
            ],
            "text/plain": [
              "<IPython.core.display.HTML object>"
            ]
          },
          "metadata": {
            "tags": []
          }
        },
        {
          "output_type": "stream",
          "text": [
            "\n",
            "[Succeeded / Failed / Total] 10 / 3 / 13:  70%|███████   | 14/20 [02:43<01:10, 11.68s/it]\u001b[A\n",
            "[Succeeded / Failed / Total] 11 / 3 / 14:  70%|███████   | 14/20 [02:43<01:10, 11.68s/it]\u001b[A"
          ],
          "name": "stderr"
        },
        {
          "output_type": "display_data",
          "data": {
            "text/html": [
              "<font color = green>2 (100%)</font> --> <font color = red>1 (92%)</font><br>Good quality <font color = green>pork</font> fried <font color = green>dumpling</font> and mongo beef.  Bar service was fast and Efficent.   <font color = green>Good</font> <font color = green>value</font>.  Not a 5 <font color = green>cause</font> dragon <font color = green>eye</font> tea was cold <font color = green>first</font> <font color = green>time</font> <font color = green>around</font> and <font color = green>beef</font> had <font color = green>minor</font> <font color = green>amount</font> of fat.   <font color = green>Fortune</font> was even Postive!<br>Good quality <font color = red>potatoes</font> fried <font color = red>pickling</font> and mongo beef.  Bar service was fast and Efficent.   <font color = red>Bewilderment</font> <font color = red>quantity</font>.  Not a 5 <font color = red>causing</font> dragon <font color = red>skin</font> tea was cold <font color = red>last</font> <font color = red>period</font> <font color = red>across</font> and <font color = red>potatoes</font> had <font color = red>major</font> <font color = red>quantity</font> of fat.   <font color = red>Opportune</font> was even Postive!"
            ],
            "text/plain": [
              "<IPython.core.display.HTML object>"
            ]
          },
          "metadata": {
            "tags": []
          }
        },
        {
          "output_type": "stream",
          "text": [
            "\n",
            "[Succeeded / Failed / Total] 11 / 3 / 14:  75%|███████▌  | 15/20 [02:47<00:55, 11.18s/it]\u001b[A\n",
            "[Succeeded / Failed / Total] 12 / 3 / 15:  75%|███████▌  | 15/20 [02:47<00:55, 11.18s/it]\u001b[A"
          ],
          "name": "stderr"
        },
        {
          "output_type": "display_data",
          "data": {
            "text/html": [
              "<font color = red>1 (100%)</font> --> <font color = green>2 (75%)</font><br>Very <font color = red>bad</font> purchase experience. I bought a shirt with a hole covered in the rolled up sleeves, but they denied my request to return it. I am so <font color = red>angery</font> at this and will never shop their chothes anymore.<br>Very <font color = green>good</font> purchase experience. I bought a shirt with a hole covered in the rolled up sleeves, but they denied my request to return it. I am so <font color = green>drunkenness</font> at this and will never shop their chothes anymore."
            ],
            "text/plain": [
              "<IPython.core.display.HTML object>"
            ]
          },
          "metadata": {
            "tags": []
          }
        },
        {
          "output_type": "stream",
          "text": [
            "\n",
            "[Succeeded / Failed / Total] 12 / 3 / 15:  80%|████████  | 16/20 [02:50<00:42, 10.65s/it]\u001b[A\n",
            "[Succeeded / Failed / Total] 13 / 3 / 16:  80%|████████  | 16/20 [02:50<00:42, 10.65s/it]\u001b[A"
          ],
          "name": "stderr"
        },
        {
          "output_type": "display_data",
          "data": {
            "text/html": [
              "<font color = red>1 (100%)</font> --> <font color = green>2 (79%)</font><br>When I think BBB... I think the days of simply bringing your bike in for a quick and relatively inexpensive tune-up and a few fixes are long gone.    \\n\\nThis review is more for the repair end of <font color = red>BBB</font>. In their defense BBB does appear to carry some amazing brands of bike (ie Colnago) that you just don't find anywhere else in Pittsburgh. \\n\\nAt BBB I was charged $<font color = red>250</font> for a tune up and a few other things. Granted this included installing a sew up tire (which I can understand would cost approx $50), Swapping out a left side (big ring) shifter on my down tube (this should have cost approx. $20 at most) and installing new bar <font color = red>tape</font> (cost of tape $20 and $20 to install?).. SO WHAT\\\"\"S WITH $140 FOR A TUNE UP? Well the story goes like this:\\n\\nI bring the bike into BBB prior to the nice weather hitting Pittsburgh in hopes of trying what people have said is a great bike shop and getting my OCLV TREK 5900 ready for the season. Turns out I don't hear from these guys. A week goes by ...two weeks...I think that's ok I have two or three other bike I can turn to for a ride. Then I wind up going out of town for a week thinking for sure I'll get a call from them re: my bike is ready to roll...but no dice. So I call. Turns out a screw snapped when the mechanic was re-installing the down tube shifter and it had to be tapped out (is that my fault?). He says \\\"\"Should be ready in a few days\\\"\". So I come in a few days later to this mammoth bill. I ask if I am paying for the labor of taping out the screw? I don't think I ever got a straight answer? I look at the bill and can't see a good breakdown of the charges. Normally I would \\\"\"duke it over\\\"\" a bill like this but I figured...I had somewhere I to be 10 minutes ago and at least I finally have my bike. I would expect that for that money my bike could have been stripped down to the frame and totally gone over (overhauled). But it wasn't.  Well BBB I'll give you a star because the mechanic did do a good job in that my cycle shifts well and the tape job on the bars looks great (nice wrap). Plus I'll toss in a star for your outstanding selection of high end cycles. Maybe I would have rated BBB higher if I was in the market for a purchase instead of a simple repair?<br>When I think BBB... I think the days of simply bringing your bike in for a quick and relatively inexpensive tune-up and a few fixes are long gone.    \\n\\nThis review is more for the repair end of <font color = green>FANTASIA</font>. In their defense BBB does appear to carry some amazing brands of bike (ie Colnago) that you just don't find anywhere else in Pittsburgh. \\n\\nAt BBB I was charged $<font color = green>ethnology</font> for a tune up and a few other things. Granted this included installing a sew up tire (which I can understand would cost approx $50), Swapping out a left side (big ring) shifter on my down tube (this should have cost approx. $20 at most) and installing new bar <font color = green>videocassette</font> (cost of tape $20 and $20 to install?).. SO WHAT\\\"\"S WITH $140 FOR A TUNE UP? Well the story goes like this:\\n\\nI bring the bike into BBB prior to the nice weather hitting Pittsburgh in hopes of trying what people have said is a great bike shop and getting my OCLV TREK 5900 ready for the season. Turns out I don't hear from these guys. A week goes by ...two weeks...I think that's ok I have two or three other bike I can turn to for a ride. Then I wind up going out of town for a week thinking for sure I'll get a call from them re: my bike is ready to roll...but no dice. So I call. Turns out a screw snapped when the mechanic was re-installing the down tube shifter and it had to be tapped out (is that my fault?). He says \\\"\"Should be ready in a few days\\\"\". So I come in a few days later to this mammoth bill. I ask if I am paying for the labor of taping out the screw? I don't think I ever got a straight answer? I look at the bill and can't see a good breakdown of the charges. Normally I would \\\"\"duke it over\\\"\" a bill like this but I figured...I had somewhere I to be 10 minutes ago and at least I finally have my bike. I would expect that for that money my bike could have been stripped down to the frame and totally gone over (overhauled). But it wasn't.  Well BBB I'll give you a star because the mechanic did do a good job in that my cycle shifts well and the tape job on the bars looks great (nice wrap). Plus I'll toss in a star for your outstanding selection of high end cycles. Maybe I would have rated BBB higher if I was in the market for a purchase instead of a simple repair?"
            ],
            "text/plain": [
              "<IPython.core.display.HTML object>"
            ]
          },
          "metadata": {
            "tags": []
          }
        },
        {
          "output_type": "stream",
          "text": [
            "\n",
            "[Succeeded / Failed / Total] 13 / 3 / 16:  85%|████████▌ | 17/20 [03:25<00:36, 12.07s/it]\u001b[A\n",
            "[Succeeded / Failed / Total] 14 / 3 / 17:  85%|████████▌ | 17/20 [03:25<00:36, 12.07s/it]\u001b[A"
          ],
          "name": "stderr"
        },
        {
          "output_type": "display_data",
          "data": {
            "text/html": [
              "<font color = red>1 (100%)</font> --> <font color = green>2 (72%)</font><br>My orders have come out <font color = red>bad</font> pretty much every time I have ordered from here. <font color = red>The</font> <font color = red>chicken</font> nuggets come out under <font color = red>par</font>. I'm lucky if the fries come out right. <font color = red>My</font> last <font color = red>experience</font> is the last <font color = red>straw</font>. I recently posted a photo of my Chicken Ranch Club. That has no chicken. This is ridiculous. I am done going to this Mcd's.<br>My orders have come out <font color = green>good</font> pretty much every time I have ordered from here. <font color = green>Gauche</font> <font color = green>chickpea</font> nuggets come out under <font color = green>livres</font>. I'm lucky if the fries come out right. <font color = green>Marriage</font> last <font color = green>experiencing</font> is the last <font color = green>strap</font>. I recently posted a photo of my Chicken Ranch Club. That has no chicken. This is ridiculous. I am done going to this Mcd's."
            ],
            "text/plain": [
              "<IPython.core.display.HTML object>"
            ]
          },
          "metadata": {
            "tags": []
          }
        },
        {
          "output_type": "stream",
          "text": [
            "\n",
            "[Succeeded / Failed / Total] 14 / 3 / 17:  90%|█████████ | 18/20 [03:30<00:23, 11.68s/it]\u001b[A\n",
            "[Succeeded / Failed / Total] 15 / 3 / 18:  90%|█████████ | 18/20 [03:30<00:23, 11.69s/it]\u001b[A"
          ],
          "name": "stderr"
        },
        {
          "output_type": "display_data",
          "data": {
            "text/html": [
              "<font color = red>1 (100%)</font> --> <font color = red>[FAILED]</font><br>Wow. What a shame. My family just moved to the area and have been sampling the local cuisine. We are a very large family and love foods of all kind. We've eaten Chinese food from a hundred different places in a dozen different cities. Hands down, this was the worst we've ever had. Cold, tough, congealed, and tasteless - that's the only way to describe it. I'll never order from here again. Quite frankly, the fact that I took time away from my kids to type this out should tell you how awful it was. My complaints fell on deaf ears. I guess they were shocked that someone thought that they were serving low grade dog food. I understand that sometimes restaurants crank out bad food. It happens. But when it does, you bend over backwards to make it right. Not at this place. I was told that he would have to speak with the owner in order to help me. I guess that's how they deflect complaints - blame it on the owners that aren't there and make the customer for away angry.  Too bad. Because we will be visiting a competitor in the future. This family of 7 won't be visiting China Sea ever again. Oh, and by the way, why can't I give this place zero stars?"
            ],
            "text/plain": [
              "<IPython.core.display.HTML object>"
            ]
          },
          "metadata": {
            "tags": []
          }
        },
        {
          "output_type": "stream",
          "text": [
            "\n",
            "[Succeeded / Failed / Total] 15 / 3 / 18:  95%|█████████▌| 19/20 [03:52<00:12, 12.26s/it]\u001b[A\n",
            "[Succeeded / Failed / Total] 15 / 4 / 19:  95%|█████████▌| 19/20 [03:52<00:12, 12.26s/it]\u001b[A"
          ],
          "name": "stderr"
        },
        {
          "output_type": "display_data",
          "data": {
            "text/html": [
              "<font color = green>2 (100%)</font> --> <font color = red>[FAILED]</font><br>I fell in love with this place as soon as we pulled up and saw the lights strung up and  oldies coming from the speakers! \\n\\nI tried the banana cream pie hard ice cream, their scoops are very generous!! \\n\\nMy bf got the peach cobbler hard ice cream and that was to die for! We got 4 servings of ice cream for $10, which nowadays is a steal IMO! :) \\n\\nI'll definitely be heading back with my coworkers this week!"
            ],
            "text/plain": [
              "<IPython.core.display.HTML object>"
            ]
          },
          "metadata": {
            "tags": []
          }
        },
        {
          "output_type": "stream",
          "text": [
            "\n",
            "[Succeeded / Failed / Total] 15 / 4 / 19: 100%|██████████| 20/20 [04:01<00:00, 12.08s/it]\u001b[A\n",
            "[Succeeded / Failed / Total] 15 / 5 / 20: 100%|██████████| 20/20 [04:01<00:00, 12.08s/it]"
          ],
          "name": "stderr"
        },
        {
          "output_type": "stream",
          "text": [
            "+-------------------------------+--------+\n",
            "| Attack Results                |        |\n",
            "+-------------------------------+--------+\n",
            "| Number of successful attacks: | 15     |\n",
            "| Number of failed attacks:     | 5      |\n",
            "| Number of skipped attacks:    | 0      |\n",
            "| Original accuracy:            | 100.0% |\n",
            "| Accuracy under attack:        | 25.0%  |\n",
            "| Attack success rate:          | 75.0%  |\n",
            "| Average perturbed word %:     | 10.2%  |\n",
            "| Average num. words per input: | 140.0  |\n",
            "| Avg num queries:              | 256.6  |\n",
            "+-------------------------------+--------+"
          ],
          "name": "stdout"
        },
        {
          "output_type": "stream",
          "text": [
            "\n",
            "\u001b[34;1mtextattack\u001b[0m: Attack time: 241.53275442123413s\n"
          ],
          "name": "stderr"
        }
      ]
    },
    {
      "cell_type": "code",
      "metadata": {
        "colab": {
          "base_uri": "https://localhost:8080/",
          "height": 1000
        },
        "id": "Ckr2eet94qdS",
        "outputId": "daad96dc-0803-4c89-c365-e09cae69a5b6"
      },
      "source": [
        "attack_stats(attack, dataset, 25)"
      ],
      "execution_count": 17,
      "outputs": [
        {
          "output_type": "stream",
          "text": [
            "\n",
            "  0%|          | 0/25 [00:00<?, ?it/s]\u001b[A"
          ],
          "name": "stderr"
        },
        {
          "output_type": "stream",
          "text": [
            "Attack(\n",
            "  (search_method): GreedyWordSwapWIR(\n",
            "    (wir_method):  weighted-saliency\n",
            "  )\n",
            "  (goal_function):  UntargetedClassification\n",
            "  (transformation):  Swapper\n",
            "  (constraints): \n",
            "    (0): RepeatModification\n",
            "    (1): StopwordModification\n",
            "  (is_black_box):  True\n",
            ")\n"
          ],
          "name": "stdout"
        },
        {
          "output_type": "display_data",
          "data": {
            "text/html": [
              "<font color = green>2 (100%)</font> --> <font color = red>1 (92%)</font><br>Contrary to other reviews, I have <font color = green>zero</font> complaints about the service or the prices. I have been getting tire <font color = green>service</font> here for the past 5 years now, and compared to my experience with places like Pep Boys, these guys are experienced and <font color = green>know</font> what they're doing. \\nAlso, this is one place that I do not feel like I am being taken advantage of, just because of my gender. Other <font color = green>auto</font> mechanics have been notorious for capitalizing on my ignorance of cars, and have sucked my <font color = green>bank</font> account dry. <font color = green>But</font> here, my service and road coverage has all been well <font color = green>explained</font> - and let up to me to decide. \\<font color = green>nAnd</font> they just renovated the <font color = green>waiting</font> room. It looks a lot <font color = green>better</font> than it did in <font color = green>previous</font> years.<br>Contrary to other reviews, I have <font color = red>five</font> complaints about the service or the prices. I have been getting tire <font color = red>serviciul</font> here for the past 5 years now, and compared to my experience with places like Pep Boys, these guys are experienced and <font color = red>think</font> what they're doing. \\nAlso, this is one place that I do not feel like I am being taken advantage of, just because of my gender. Other <font color = red>theft</font> mechanics have been notorious for capitalizing on my ignorance of cars, and have sucked my <font color = red>monetary</font> account dry. <font color = red>Zut</font> here, my service and road coverage has all been well <font color = red>falsified</font> - and let up to me to decide. \\<font color = red>tell</font> they just renovated the <font color = red>baiting</font> room. It looks a lot <font color = red>getter</font> than it did in <font color = red>earlier</font> years."
            ],
            "text/plain": [
              "<IPython.core.display.HTML object>"
            ]
          },
          "metadata": {
            "tags": []
          }
        },
        {
          "output_type": "stream",
          "text": [
            "\n",
            "  4%|▍         | 1/25 [00:08<03:32,  8.84s/it]\u001b[A\n",
            "[Succeeded / Failed / Total] 1 / 0 / 1:   4%|▍         | 1/25 [00:08<03:32,  8.85s/it]\u001b[A"
          ],
          "name": "stderr"
        },
        {
          "output_type": "display_data",
          "data": {
            "text/html": [
              "<font color = red>1 (100%)</font> --> <font color = green>2 (63%)</font><br>Last summer I had an appointment to <font color = red>get</font> new <font color = red>tires</font> and had to wait a <font color = red>super</font> long <font color = red>time</font>. I <font color = red>also</font> went in this week for them to <font color = red>fix</font> a <font color = red>minor</font> problem with a tire they put on. They \\\"\"fixed\\\"\" it for free, and the very next morning I had the same issue. I called to complain, and the \\\"\"<font color = red>manager</font>\\\"\" didn't <font color = red>even</font> <font color = red>apologize</font>!!! So frustrated. Never <font color = red>going</font> <font color = red>back</font>.  They <font color = red>seem</font> <font color = red>overpriced</font>, too.<br>Last summer I had an appointment to <font color = green>give</font> new <font color = green>tire</font> and had to wait a <font color = green>superbike</font> long <font color = green>period</font>. I <font color = green>sometimes</font> went in this week for them to <font color = green>restart</font> a <font color = green>major</font> problem with a tire they put on. They \\\"\"fixed\\\"\" it for free, and the very next morning I had the same issue. I called to complain, and the \\\"\"<font color = green>coach</font>\\\"\" didn't <font color = green>indeed</font> <font color = green>apologise</font>!!! So frustrated. Never <font color = green>getting</font> <font color = green>down</font>.  They <font color = green>tend</font> <font color = green>priced</font>, too."
            ],
            "text/plain": [
              "<IPython.core.display.HTML object>"
            ]
          },
          "metadata": {
            "tags": []
          }
        },
        {
          "output_type": "stream",
          "text": [
            "\n",
            "[Succeeded / Failed / Total] 1 / 0 / 1:   8%|▊         | 2/25 [00:15<02:53,  7.52s/it]\u001b[A\n",
            "[Succeeded / Failed / Total] 2 / 0 / 2:   8%|▊         | 2/25 [00:15<02:53,  7.53s/it]\u001b[A"
          ],
          "name": "stderr"
        },
        {
          "output_type": "display_data",
          "data": {
            "text/html": [
              "<font color = green>2 (73%)</font> --> <font color = red>1 (52%)</font><br>Friendly staff, same starbucks fair you <font color = green>get</font> anywhere else.  Sometimes the lines can get long.<br>Friendly staff, same starbucks fair you <font color = red>give</font> anywhere else.  Sometimes the lines can get long."
            ],
            "text/plain": [
              "<IPython.core.display.HTML object>"
            ]
          },
          "metadata": {
            "tags": []
          }
        },
        {
          "output_type": "stream",
          "text": [
            "\n",
            "[Succeeded / Failed / Total] 2 / 0 / 2:  12%|█▏        | 3/25 [00:16<01:59,  5.43s/it]\u001b[A\n",
            "[Succeeded / Failed / Total] 3 / 0 / 3:  12%|█▏        | 3/25 [00:16<01:59,  5.43s/it]\u001b[A"
          ],
          "name": "stderr"
        },
        {
          "output_type": "display_data",
          "data": {
            "text/html": [
              "<font color = red>1 (98%)</font> --> <font color = green>2 (51%)</font><br><font color = red>The</font> food is good. <font color = red>Unfortunately</font> the service is very hit or miss. The main issue seems to be with the kitchen, the waiters and waitresses are often very apologetic for the long waits and it's pretty obvious that some of them avoid the tables after taking the initial order to avoid hearing complaints.<br><font color = green>Gauche</font> food is good. <font color = green>Fortunately</font> the service is very hit or miss. The main issue seems to be with the kitchen, the waiters and waitresses are often very apologetic for the long waits and it's pretty obvious that some of them avoid the tables after taking the initial order to avoid hearing complaints."
            ],
            "text/plain": [
              "<IPython.core.display.HTML object>"
            ]
          },
          "metadata": {
            "tags": []
          }
        },
        {
          "output_type": "stream",
          "text": [
            "\n",
            "[Succeeded / Failed / Total] 3 / 0 / 3:  16%|█▌        | 4/25 [00:19<01:44,  4.96s/it]\u001b[A\n",
            "[Succeeded / Failed / Total] 4 / 0 / 4:  16%|█▌        | 4/25 [00:19<01:44,  4.96s/it]\u001b[A"
          ],
          "name": "stderr"
        },
        {
          "output_type": "display_data",
          "data": {
            "text/html": [
              "<font color = green>2 (100%)</font> --> <font color = red>[FAILED]</font><br>Even when we didn't have a car Filene's Basement was worth the bus trip to the Waterfront. I always find something (usually I find 3-4 things and spend about $60) and better still, I am always still wearing the clothes and shoes 3 months later. \\n\\nI kind of suspect this is the best shopping in Pittsburgh; it's much better than the usual department stores, better than Marshall's and TJ Maxx and better than the Saks downtown, even when it has a sale. Selection, bargains AND quality.\\n\\nI like this Filene's better than Gabriel Brothers, which are harder to get to. Gabriel Brothers are a real discount shopper's challenge and I'm afraid I didn't live in Pittsburgh long enough to develop the necessary skills . . . Filene's was still up and running in June 2007 when I left town."
            ],
            "text/plain": [
              "<IPython.core.display.HTML object>"
            ]
          },
          "metadata": {
            "tags": []
          }
        },
        {
          "output_type": "stream",
          "text": [
            "\n",
            "[Succeeded / Failed / Total] 4 / 0 / 4:  20%|██        | 5/25 [00:35<02:20,  7.02s/it]\u001b[A\n",
            "[Succeeded / Failed / Total] 4 / 1 / 5:  20%|██        | 5/25 [00:35<02:20,  7.02s/it]\u001b[A"
          ],
          "name": "stderr"
        },
        {
          "output_type": "display_data",
          "data": {
            "text/html": [
              "<font color = green>2 (100%)</font> --> <font color = red>1 (51%)</font><br>Picture Billy Joel's \\\"\"Piano Man\\\"\" DOUBLED mixed with beer, a <font color = green>rowdy</font> crowd, and <font color = green>comedy</font> - Welcome to Sing Sing!  A <font color = green>unique</font> musical experience <font color = green>found</font> in Homestead.\\<font color = green>n</font>\\nIf you're looking to grab a bite to eat or a beer, come on in!  Serving food and brews from Rock Bottom Brewery, Sing Sing keeps your tummy full while you listen to two (or more) amazingly <font color = green>talented</font> <font color = green>pianists</font> <font color = green>take</font> your musical requests.  They'll play <font color = green>anything</font> you'd like, for tips of course.  Wanting to hear Britney Spears?  Toto?  Duran Duran?  Yep, they play that... new or old.\\n\\<font color = green>nThe</font> crowd makes the show, so make <font color = green>sure</font> you come ready for a <font color = green>good</font> time.  <font color = green>If</font> the crowd is dead, it's harder for the Guys to get a reaction.  If you're wanting to have some fun, it can be a GREAT time!  <font color = green>It's</font> the perfect place for Birthday parties - especially if you want to embarrass a friend.  The guys will bring them up to the <font color = green>pianos</font> and perform a little ditty.  For being a good sport, you get the coveted Sing Sing bumper sticker.  Now who wouldn't want that?\\n\\nDueling Pianos and brews... time to Shut Up & Sing Sing!<br>Picture Billy Joel's \\\"\"Piano Man\\\"\" DOUBLED mixed with beer, a <font color = red>howdy</font> crowd, and <font color = red>comedies</font> - Welcome to Sing Sing!  A <font color = red>distinctive</font> musical experience <font color = red>corroborated</font> in Homestead.\\<font color = red>y</font>\\nIf you're looking to grab a bite to eat or a beer, come on in!  Serving food and brews from Rock Bottom Brewery, Sing Sing keeps your tummy full while you listen to two (or more) amazingly <font color = red>talent</font> <font color = red>lutenists</font> <font color = red>give</font> your musical requests.  They'll play <font color = red>nothing</font> you'd like, for tips of course.  Wanting to hear Britney Spears?  Toto?  Duran Duran?  Yep, they play that... new or old.\\n\\<font color = red>bouche</font> crowd makes the show, so make <font color = red>forget</font> you come ready for a <font color = red>bad</font> time.  <font color = red>Sun</font> the crowd is dead, it's harder for the Guys to get a reaction.  If you're wanting to have some fun, it can be a GREAT time!  <font color = red>Aeneas</font> the perfect place for Birthday parties - especially if you want to embarrass a friend.  The guys will bring them up to the <font color = red>piano</font> and perform a little ditty.  For being a good sport, you get the coveted Sing Sing bumper sticker.  Now who wouldn't want that?\\n\\nDueling Pianos and brews... time to Shut Up & Sing Sing!"
            ],
            "text/plain": [
              "<IPython.core.display.HTML object>"
            ]
          },
          "metadata": {
            "tags": []
          }
        },
        {
          "output_type": "stream",
          "text": [
            "\n",
            "[Succeeded / Failed / Total] 4 / 1 / 5:  24%|██▍       | 6/25 [00:53<02:48,  8.85s/it]\u001b[A\n",
            "[Succeeded / Failed / Total] 5 / 1 / 6:  24%|██▍       | 6/25 [00:53<02:48,  8.85s/it]\u001b[A"
          ],
          "name": "stderr"
        },
        {
          "output_type": "display_data",
          "data": {
            "text/html": [
              "<font color = red>1 (100%)</font> --> <font color = red>[FAILED]</font><br>Mediocre service. COLD food! Our food waited so long the lettuce & pickles wilted. Bland food. Crazy overpriced. Long waits in the arcade. 1 beer per hour maximum.  Avoid at all costs. Fair manager."
            ],
            "text/plain": [
              "<IPython.core.display.HTML object>"
            ]
          },
          "metadata": {
            "tags": []
          }
        },
        {
          "output_type": "stream",
          "text": [
            "\n",
            "[Succeeded / Failed / Total] 5 / 1 / 6:  28%|██▊       | 7/25 [00:57<02:27,  8.19s/it]\u001b[A\n",
            "[Succeeded / Failed / Total] 5 / 2 / 7:  28%|██▊       | 7/25 [00:57<02:27,  8.19s/it]\u001b[A"
          ],
          "name": "stderr"
        },
        {
          "output_type": "display_data",
          "data": {
            "text/html": [
              "<font color = red>1 (100%)</font> --> <font color = green>2 (55%)</font><br>Ok! Let me tell you about my bad <font color = red>experience</font> first. I went to D&B last night for a post wedding party - which, side note, is a great idea!\\n\\nIt was around midnight and the bar wasn't really populated. There were three bartenders and only one was actually making rounds to see if anyone needed anything. The two other bartenders were chatting on the far side of the bar that no one was sitting at. Kind of counter productive if you ask me. \\n\\nI stood there for about 5 minutes, which for a busy bar is fine but when I am the only one with my card out then, it just seems a little ridiculous. I made eye contact with the one girl twice and gave her a smile and she literally turned away. I finally had to walk to them to get their attention.  I was standing right in front of them smiling and they didn't ask if i need anything. I finally said, \\\"\"Are you working?\\\"\" and they gave each other a <font color = red>weird</font> look. I felt like i was the crazy one. I asked for a beer/got the beer.\\n\\nIn between that time, the other bartender brought food over and set it down. She took a fry from the plate (right in front of me) and then served it to someone on the other side of the bar. What the hell! I felt like i was in some grimy bar in out in the sticks - not an established D&B. \\n\\nI was just really turned off from that experience. \\n\\nThe good is that D&B provides a different type of entertainment when you want to mix things up. I remember going here with my grandparents when I was a kid and it was the best treat ever! We would eat at the restaurant and then spend hours playing games. This place holds some really good memories for me. \\n\\nIt's a shame that my experience last night has spoiled the high standards I held for it.<br>Ok! Let me tell you about my bad <font color = green>experiencing</font> first. I went to D&B last night for a post wedding party - which, side note, is a great idea!\\n\\nIt was around midnight and the bar wasn't really populated. There were three bartenders and only one was actually making rounds to see if anyone needed anything. The two other bartenders were chatting on the far side of the bar that no one was sitting at. Kind of counter productive if you ask me. \\n\\nI stood there for about 5 minutes, which for a busy bar is fine but when I am the only one with my card out then, it just seems a little ridiculous. I made eye contact with the one girl twice and gave her a smile and she literally turned away. I finally had to walk to them to get their attention.  I was standing right in front of them smiling and they didn't ask if i need anything. I finally said, \\\"\"Are you working?\\\"\" and they gave each other a <font color = green>weir</font> look. I felt like i was the crazy one. I asked for a beer/got the beer.\\n\\nIn between that time, the other bartender brought food over and set it down. She took a fry from the plate (right in front of me) and then served it to someone on the other side of the bar. What the hell! I felt like i was in some grimy bar in out in the sticks - not an established D&B. \\n\\nI was just really turned off from that experience. \\n\\nThe good is that D&B provides a different type of entertainment when you want to mix things up. I remember going here with my grandparents when I was a kid and it was the best treat ever! We would eat at the restaurant and then spend hours playing games. This place holds some really good memories for me. \\n\\nIt's a shame that my experience last night has spoiled the high standards I held for it."
            ],
            "text/plain": [
              "<IPython.core.display.HTML object>"
            ]
          },
          "metadata": {
            "tags": []
          }
        },
        {
          "output_type": "stream",
          "text": [
            "\n",
            "[Succeeded / Failed / Total] 5 / 2 / 7:  32%|███▏      | 8/25 [01:22<02:54, 10.25s/it]\u001b[A\n",
            "[Succeeded / Failed / Total] 6 / 2 / 8:  32%|███▏      | 8/25 [01:22<02:54, 10.25s/it]\u001b[A"
          ],
          "name": "stderr"
        },
        {
          "output_type": "display_data",
          "data": {
            "text/html": [
              "<font color = red>1 (100%)</font> --> <font color = green>2 (52%)</font><br><font color = red>I</font> used to love D&<font color = red>B</font> when it <font color = red>first</font> opened in the Waterfront, but it has gone down <font color = red>hill</font> over the years. The <font color = red>games</font> are not as fun and do not <font color = red>give</font> you as many <font color = red>tickets</font> and the prizes have gotten cheaper in quality. It takes a whole heck of a lot of tickets for you to <font color = red>even</font> get a <font color = red>pencil</font>! The <font color = red>atmosphere</font> is <font color = red>okay</font> but it used to be so much better with the funnest games and diverse groups of people! Now, it is <font color = red>run</font> down and many of the games are app related <font color = red>games</font> (Fruit Ninja) and 3D <font color = red>Experience</font> rides. With such \\\"\"games\\\"\", you can't even <font color = red>earn</font> tickets and they take a lot of tokens! Last time I went, back in the winter, many of the games were broken, which made for a <font color = red>negative</font> player experience. I would go to D&B to play some games again in the future, but it is no <font color = red>longer</font> <font color = red>one</font> of my favorite places to go due to the decline of fun games where you can earn tickets.<br><font color = green>ENCHANTER</font> used to love D&<font color = green>HAIR</font> when it <font color = green>last</font> opened in the Waterfront, but it has gone down <font color = green>clifton</font> over the years. The <font color = green>game</font> are not as fun and do not <font color = green>make</font> you as many <font color = green>ticket</font> and the prizes have gotten cheaper in quality. It takes a whole heck of a lot of tickets for you to <font color = green>indeed</font> get a <font color = green>stencil</font>! The <font color = green>atmospheric</font> is <font color = green>anymore</font> but it used to be so much better with the funnest games and diverse groups of people! Now, it is <font color = green>driveway</font> down and many of the games are app related <font color = green>game</font> (Fruit Ninja) and 3D <font color = green>Experiencing</font> rides. With such \\\"\"games\\\"\", you can't even <font color = green>paying</font> tickets and they take a lot of tokens! Last time I went, back in the winter, many of the games were broken, which made for a <font color = green>positive</font> player experience. I would go to D&B to play some games again in the future, but it is no <font color = green>longew</font> <font color = green>nine</font> of my favorite places to go due to the decline of fun games where you can earn tickets."
            ],
            "text/plain": [
              "<IPython.core.display.HTML object>"
            ]
          },
          "metadata": {
            "tags": []
          }
        },
        {
          "output_type": "stream",
          "text": [
            "\n",
            "[Succeeded / Failed / Total] 6 / 2 / 8:  36%|███▌      | 9/25 [01:36<02:51, 10.71s/it]\u001b[A\n",
            "[Succeeded / Failed / Total] 7 / 2 / 9:  36%|███▌      | 9/25 [01:36<02:51, 10.71s/it]\u001b[A"
          ],
          "name": "stderr"
        },
        {
          "output_type": "display_data",
          "data": {
            "text/html": [
              "<font color = green>2 (100%)</font> --> <font color = red>1 (86%)</font><br><font color = green>Like</font> any Barnes & Noble, it has a nice comfy cafe, and a <font color = green>large</font> selection of books.  The staff is very <font color = green>friendly</font> and <font color = green>helpful</font>.  They <font color = green>stock</font> a decent selection, and the prices are pretty <font color = green>reasonable</font>.  Obviously it's <font color = green>hard</font> for them to compete with Amazon.  However <font color = green>since</font> all the small shop <font color = green>bookstores</font> are gone, it's <font color = green>nice</font> to <font color = green>walk</font> into one every once in a while.<br><font color = red>Ike</font> any Barnes & Noble, it has a nice comfy cafe, and a <font color = red>small</font> selection of books.  The staff is very <font color = red>friendliness</font> and <font color = red>useful</font>.  They <font color = red>market</font> a decent selection, and the prices are pretty <font color = red>reasonably</font>.  Obviously it's <font color = red>soften</font> for them to compete with Amazon.  However <font color = red>until</font> all the small shop <font color = red>bookstore</font> are gone, it's <font color = red>loin</font> to <font color = red>shook</font> into one every once in a while."
            ],
            "text/plain": [
              "<IPython.core.display.HTML object>"
            ]
          },
          "metadata": {
            "tags": []
          }
        },
        {
          "output_type": "stream",
          "text": [
            "\n",
            "[Succeeded / Failed / Total] 7 / 2 / 9:  40%|████      | 10/25 [01:41<02:32, 10.18s/it]\u001b[A\n",
            "[Succeeded / Failed / Total] 8 / 2 / 10:  40%|████      | 10/25 [01:41<02:32, 10.18s/it]\u001b[A"
          ],
          "name": "stderr"
        },
        {
          "output_type": "display_data",
          "data": {
            "text/html": [
              "<font color = red>1 (100%)</font> --> <font color = red>[FAILED]</font><br>Meh, I've experienced better is an understatement.\\n\\nFriday's is like the \\\"\"fine dining chain\\\"\" for every yinzer in Pittsburgh...\\n\\n1.  When we were seated, it was quick which was a surprise.  Somehow this restaurant gets packed and I never understand why.  I was happy about that.\\n2.  I ordered one of their \\\"\"skinny margaritas\\\"\", blackberry to be exact.  It was a nice size, however, at $6.00/pop, that was half of my food bill.\\n3.  The waitress started off attentive, but after our food came out she was gone.  I ordered a turkey burger with pickle and mustard.  Loaded mashed potato on the side because I wanted heartburn ha!\\n4.  Food came.  My burger had lettuce on it only.  Waitress was supposed to go and get our next round of drinks.  I had to wait to ask for my pickle.\\n5.  The loaded potatoes were more like rubber than potatoes and not what I was expecting.  Disappointment.\\n6.  The waitress then went into oblivion and only returned with our check.  \\n\\nNever again will I eat at Friday's.  I will, however, go should a happy hour arise..."
            ],
            "text/plain": [
              "<IPython.core.display.HTML object>"
            ]
          },
          "metadata": {
            "tags": []
          }
        },
        {
          "output_type": "stream",
          "text": [
            "\n",
            "[Succeeded / Failed / Total] 8 / 2 / 10:  44%|████▍     | 11/25 [02:02<02:35, 11.14s/it]\u001b[A\n",
            "[Succeeded / Failed / Total] 8 / 3 / 11:  44%|████▍     | 11/25 [02:02<02:35, 11.14s/it]\u001b[A"
          ],
          "name": "stderr"
        },
        {
          "output_type": "display_data",
          "data": {
            "text/html": [
              "<font color = green>2 (100%)</font> --> <font color = red>1 (93%)</font><br>Unos has been around for ever, & I feel like this restaurant chain peak in popularity in the 80's. Honestly the decor inside still kind of looks 80s to me even though its nice with sleek booth and exposed brick.\\n\\nIf you haven't died and he recently I ordered you to come back and have a meal here again because honestly the food is really quite <font color = green>good</font>!\\n\\nThey have the best chicken salad wrap ever! I love that rap so much I want agreed to walk the south side River Trail from where the Steelers practice all the way to the damn waterfront just because I knew that I could convince my boyfriend to go to Unos with me for lunch.  Full disclosure:  I made him call is a cab and we took a taxi back to the parking lot after lunch.\\n\\nListen... The food and pizza and service are very <font color = green>good</font>, surprisingly so! I don't know why this place is not busier but next time you're down at the Waterfront please do consider dining here!<br>Unos has been around for ever, & I feel like this restaurant chain peak in popularity in the 80's. Honestly the decor inside still kind of looks 80s to me even though its nice with sleek booth and exposed brick.\\n\\nIf you haven't died and he recently I ordered you to come back and have a meal here again because honestly the food is really quite <font color = red>bad</font>!\\n\\nThey have the best chicken salad wrap ever! I love that rap so much I want agreed to walk the south side River Trail from where the Steelers practice all the way to the damn waterfront just because I knew that I could convince my boyfriend to go to Unos with me for lunch.  Full disclosure:  I made him call is a cab and we took a taxi back to the parking lot after lunch.\\n\\nListen... The food and pizza and service are very <font color = red>bad</font>, surprisingly so! I don't know why this place is not busier but next time you're down at the Waterfront please do consider dining here!"
            ],
            "text/plain": [
              "<IPython.core.display.HTML object>"
            ]
          },
          "metadata": {
            "tags": []
          }
        },
        {
          "output_type": "stream",
          "text": [
            "\n",
            "[Succeeded / Failed / Total] 8 / 3 / 11:  48%|████▊     | 12/25 [02:15<02:26, 11.26s/it]\u001b[A\n",
            "[Succeeded / Failed / Total] 9 / 3 / 12:  48%|████▊     | 12/25 [02:15<02:26, 11.26s/it]\u001b[A"
          ],
          "name": "stderr"
        },
        {
          "output_type": "display_data",
          "data": {
            "text/html": [
              "<font color = red>1 (100%)</font> --> <font color = green>2 (52%)</font><br>Stars are for the food only.    <font color = red>2</font>.5 rating\\n\\nGot there at 8pm on Saturday night, they told us it was an hour wait which was expected, but it only took <font color = red>30minutes</font> to be seated so that was a bonus.  Started off with the lettuce wraps and i used to be a fan of these but they just seem to <font color = red>bore</font> me now(FYI-love the lettuce wraps at the cheesecake factory).  I had the Singapore rice noodles.  This was so so as i thought immediately that lu lu <font color = red>noodles</font> and <font color = red>asian</font> cafe are better.  The <font color = red>fried</font> rice was <font color = red>disappointing</font> and the <font color = red>vegetables</font> tasted raw.   Some <font color = red>good</font> notes were the Dynamite <font color = red>shrimp</font>, plump, juicy, tangy with a <font color = red>small</font> kick.    Sweet and sour chicken was just the same minus the kick. \\<font color = red>n</font>\\nThe service was annoying.   <font color = red>We</font> were there less than 45 minutes and it seemed like our waiter was in a rush to get us out of there.   Constantly asking if he could remove my plate.  I had to <font color = red>sternly</font> say at one point that I will let you <font color = red>know</font> when i am finished.  I found it <font color = red>rude</font> especially since  there wasn't even a line at this point.  \\n\\nI think we will travel elsewhere following a movie.  The result never quite met the anticipation.<br>Stars are for the food only.    <font color = green>campaign</font>.5 rating\\n\\nGot there at 8pm on Saturday night, they told us it was an hour wait which was expected, but it only took <font color = green>minutes</font> to be seated so that was a bonus.  Started off with the lettuce wraps and i used to be a fan of these but they just seem to <font color = green>bearing</font> me now(FYI-love the lettuce wraps at the cheesecake factory).  I had the Singapore rice noodles.  This was so so as i thought immediately that lu lu <font color = green>noodle</font> and <font color = green>african</font> cafe are better.  The <font color = green>fries</font> rice was <font color = green>disappointed</font> and the <font color = green>vegetable</font> tasted raw.   Some <font color = green>bad</font> notes were the Dynamite <font color = green>seafood</font>, plump, juicy, tangy with a <font color = green>large</font> kick.    Sweet and sour chicken was just the same minus the kick. \\<font color = green>y</font>\\nThe service was annoying.   <font color = green>User</font> were there less than 45 minutes and it seemed like our waiter was in a rush to get us out of there.   Constantly asking if he could remove my plate.  I had to <font color = green>stubbornly</font> say at one point that I will let you <font color = green>think</font> when i am finished.  I found it <font color = green>dude</font> especially since  there wasn't even a line at this point.  \\n\\nI think we will travel elsewhere following a movie.  The result never quite met the anticipation."
            ],
            "text/plain": [
              "<IPython.core.display.HTML object>"
            ]
          },
          "metadata": {
            "tags": []
          }
        },
        {
          "output_type": "stream",
          "text": [
            "\n",
            "[Succeeded / Failed / Total] 9 / 3 / 12:  52%|█████▏    | 13/25 [02:32<02:21, 11.75s/it]\u001b[A\n",
            "[Succeeded / Failed / Total] 10 / 3 / 13:  52%|█████▏    | 13/25 [02:32<02:21, 11.75s/it]\u001b[A"
          ],
          "name": "stderr"
        },
        {
          "output_type": "display_data",
          "data": {
            "text/html": [
              "<font color = red>1 (100%)</font> --> <font color = green>2 (52%)</font><br><font color = red>Our</font> <font color = red>last</font> few visits have <font color = red>left</font> something to desire, One of the things <font color = red>I</font> <font color = red>always</font> notice is the demeanor of an establishments <font color = red>employees</font>. <font color = red>These</font> people <font color = red>look</font> miserable, no one <font color = red>smiles</font> or greets you appropriately, it's more like get in, get out, turn the tables,\\n\\nThe food has remained consistently good... when we can <font color = red>order</font> it. the <font color = red>last</font> time JB and I came for a quick dinner, the <font color = red>place</font> was not <font color = red>busy</font> <font color = red>yet</font> we were <font color = red>passed</font> by 6 frowning waitstaff without getting <font color = red>drinks</font>... for 15 <font color = red>minutes</font> we were <font color = red>left</font> suiting at our table with our <font color = red>menus</font> closed and sitting on the edge of the table (HINT, <font color = red>HINT</font>) so we <font color = red>left</font> and most likely will not be <font color = red>returning</font>.<br><font color = green>Zur</font> <font color = green>next</font> few visits have <font color = green>right</font> something to desire, One of the things <font color = green>ENCHANTER</font> <font color = green>actually</font> notice is the demeanor of an establishments <font color = green>employee</font>. <font color = green>Yapese</font> people <font color = green>beginner</font> miserable, no one <font color = green>smile</font> or greets you appropriately, it's more like get in, get out, turn the tables,\\n\\nThe food has remained consistently good... when we can <font color = green>addition</font> it. the <font color = green>next</font> time JB and I came for a quick dinner, the <font color = green>placard</font> was not <font color = green>roadside</font> <font color = green>obviously</font> we were <font color = green>enacted</font> by 6 frowning waitstaff without getting <font color = green>drink</font>... for 15 <font color = green>minute</font> we were <font color = green>right</font> suiting at our table with our <font color = green>fpus</font> closed and sitting on the edge of the table (HINT, <font color = green>SPOROZOITES</font>) so we <font color = green>right</font> and most likely will not be <font color = green>returned</font>."
            ],
            "text/plain": [
              "<IPython.core.display.HTML object>"
            ]
          },
          "metadata": {
            "tags": []
          }
        },
        {
          "output_type": "stream",
          "text": [
            "\n",
            "[Succeeded / Failed / Total] 10 / 3 / 13:  56%|█████▌    | 14/25 [02:43<02:08, 11.66s/it]\u001b[A\n",
            "[Succeeded / Failed / Total] 11 / 3 / 14:  56%|█████▌    | 14/25 [02:43<02:08, 11.66s/it]\u001b[A"
          ],
          "name": "stderr"
        },
        {
          "output_type": "display_data",
          "data": {
            "text/html": [
              "<font color = green>2 (100%)</font> --> <font color = red>1 (92%)</font><br>Good quality <font color = green>pork</font> fried <font color = green>dumpling</font> and mongo beef.  Bar service was fast and Efficent.   <font color = green>Good</font> <font color = green>value</font>.  Not a 5 <font color = green>cause</font> dragon <font color = green>eye</font> tea was cold <font color = green>first</font> <font color = green>time</font> <font color = green>around</font> and <font color = green>beef</font> had <font color = green>minor</font> <font color = green>amount</font> of fat.   <font color = green>Fortune</font> was even Postive!<br>Good quality <font color = red>potatoes</font> fried <font color = red>pickling</font> and mongo beef.  Bar service was fast and Efficent.   <font color = red>Bewilderment</font> <font color = red>quantity</font>.  Not a 5 <font color = red>causing</font> dragon <font color = red>skin</font> tea was cold <font color = red>last</font> <font color = red>period</font> <font color = red>across</font> and <font color = red>potatoes</font> had <font color = red>major</font> <font color = red>quantity</font> of fat.   <font color = red>Opportune</font> was even Postive!"
            ],
            "text/plain": [
              "<IPython.core.display.HTML object>"
            ]
          },
          "metadata": {
            "tags": []
          }
        },
        {
          "output_type": "stream",
          "text": [
            "\n",
            "[Succeeded / Failed / Total] 11 / 3 / 14:  60%|██████    | 15/25 [02:47<01:51, 11.17s/it]\u001b[A\n",
            "[Succeeded / Failed / Total] 12 / 3 / 15:  60%|██████    | 15/25 [02:47<01:51, 11.17s/it]\u001b[A"
          ],
          "name": "stderr"
        },
        {
          "output_type": "display_data",
          "data": {
            "text/html": [
              "<font color = red>1 (100%)</font> --> <font color = green>2 (75%)</font><br>Very <font color = red>bad</font> purchase experience. I bought a shirt with a hole covered in the rolled up sleeves, but they denied my request to return it. I am so <font color = red>angery</font> at this and will never shop their chothes anymore.<br>Very <font color = green>good</font> purchase experience. I bought a shirt with a hole covered in the rolled up sleeves, but they denied my request to return it. I am so <font color = green>drunkenness</font> at this and will never shop their chothes anymore."
            ],
            "text/plain": [
              "<IPython.core.display.HTML object>"
            ]
          },
          "metadata": {
            "tags": []
          }
        },
        {
          "output_type": "stream",
          "text": [
            "\n",
            "[Succeeded / Failed / Total] 12 / 3 / 15:  64%|██████▍   | 16/25 [02:50<01:35, 10.64s/it]\u001b[A\n",
            "[Succeeded / Failed / Total] 13 / 3 / 16:  64%|██████▍   | 16/25 [02:50<01:35, 10.64s/it]\u001b[A"
          ],
          "name": "stderr"
        },
        {
          "output_type": "display_data",
          "data": {
            "text/html": [
              "<font color = red>1 (100%)</font> --> <font color = green>2 (79%)</font><br>When I think BBB... I think the days of simply bringing your bike in for a quick and relatively inexpensive tune-up and a few fixes are long gone.    \\n\\nThis review is more for the repair end of <font color = red>BBB</font>. In their defense BBB does appear to carry some amazing brands of bike (ie Colnago) that you just don't find anywhere else in Pittsburgh. \\n\\nAt BBB I was charged $<font color = red>250</font> for a tune up and a few other things. Granted this included installing a sew up tire (which I can understand would cost approx $50), Swapping out a left side (big ring) shifter on my down tube (this should have cost approx. $20 at most) and installing new bar <font color = red>tape</font> (cost of tape $20 and $20 to install?).. SO WHAT\\\"\"S WITH $140 FOR A TUNE UP? Well the story goes like this:\\n\\nI bring the bike into BBB prior to the nice weather hitting Pittsburgh in hopes of trying what people have said is a great bike shop and getting my OCLV TREK 5900 ready for the season. Turns out I don't hear from these guys. A week goes by ...two weeks...I think that's ok I have two or three other bike I can turn to for a ride. Then I wind up going out of town for a week thinking for sure I'll get a call from them re: my bike is ready to roll...but no dice. So I call. Turns out a screw snapped when the mechanic was re-installing the down tube shifter and it had to be tapped out (is that my fault?). He says \\\"\"Should be ready in a few days\\\"\". So I come in a few days later to this mammoth bill. I ask if I am paying for the labor of taping out the screw? I don't think I ever got a straight answer? I look at the bill and can't see a good breakdown of the charges. Normally I would \\\"\"duke it over\\\"\" a bill like this but I figured...I had somewhere I to be 10 minutes ago and at least I finally have my bike. I would expect that for that money my bike could have been stripped down to the frame and totally gone over (overhauled). But it wasn't.  Well BBB I'll give you a star because the mechanic did do a good job in that my cycle shifts well and the tape job on the bars looks great (nice wrap). Plus I'll toss in a star for your outstanding selection of high end cycles. Maybe I would have rated BBB higher if I was in the market for a purchase instead of a simple repair?<br>When I think BBB... I think the days of simply bringing your bike in for a quick and relatively inexpensive tune-up and a few fixes are long gone.    \\n\\nThis review is more for the repair end of <font color = green>FANTASIA</font>. In their defense BBB does appear to carry some amazing brands of bike (ie Colnago) that you just don't find anywhere else in Pittsburgh. \\n\\nAt BBB I was charged $<font color = green>ethnology</font> for a tune up and a few other things. Granted this included installing a sew up tire (which I can understand would cost approx $50), Swapping out a left side (big ring) shifter on my down tube (this should have cost approx. $20 at most) and installing new bar <font color = green>videocassette</font> (cost of tape $20 and $20 to install?).. SO WHAT\\\"\"S WITH $140 FOR A TUNE UP? Well the story goes like this:\\n\\nI bring the bike into BBB prior to the nice weather hitting Pittsburgh in hopes of trying what people have said is a great bike shop and getting my OCLV TREK 5900 ready for the season. Turns out I don't hear from these guys. A week goes by ...two weeks...I think that's ok I have two or three other bike I can turn to for a ride. Then I wind up going out of town for a week thinking for sure I'll get a call from them re: my bike is ready to roll...but no dice. So I call. Turns out a screw snapped when the mechanic was re-installing the down tube shifter and it had to be tapped out (is that my fault?). He says \\\"\"Should be ready in a few days\\\"\". So I come in a few days later to this mammoth bill. I ask if I am paying for the labor of taping out the screw? I don't think I ever got a straight answer? I look at the bill and can't see a good breakdown of the charges. Normally I would \\\"\"duke it over\\\"\" a bill like this but I figured...I had somewhere I to be 10 minutes ago and at least I finally have my bike. I would expect that for that money my bike could have been stripped down to the frame and totally gone over (overhauled). But it wasn't.  Well BBB I'll give you a star because the mechanic did do a good job in that my cycle shifts well and the tape job on the bars looks great (nice wrap). Plus I'll toss in a star for your outstanding selection of high end cycles. Maybe I would have rated BBB higher if I was in the market for a purchase instead of a simple repair?"
            ],
            "text/plain": [
              "<IPython.core.display.HTML object>"
            ]
          },
          "metadata": {
            "tags": []
          }
        },
        {
          "output_type": "stream",
          "text": [
            "\n",
            "[Succeeded / Failed / Total] 13 / 3 / 16:  68%|██████▊   | 17/25 [03:25<01:36, 12.07s/it]\u001b[A\n",
            "[Succeeded / Failed / Total] 14 / 3 / 17:  68%|██████▊   | 17/25 [03:25<01:36, 12.07s/it]\u001b[A"
          ],
          "name": "stderr"
        },
        {
          "output_type": "display_data",
          "data": {
            "text/html": [
              "<font color = red>1 (100%)</font> --> <font color = green>2 (72%)</font><br>My orders have come out <font color = red>bad</font> pretty much every time I have ordered from here. <font color = red>The</font> <font color = red>chicken</font> nuggets come out under <font color = red>par</font>. I'm lucky if the fries come out right. <font color = red>My</font> last <font color = red>experience</font> is the last <font color = red>straw</font>. I recently posted a photo of my Chicken Ranch Club. That has no chicken. This is ridiculous. I am done going to this Mcd's.<br>My orders have come out <font color = green>good</font> pretty much every time I have ordered from here. <font color = green>Gauche</font> <font color = green>chickpea</font> nuggets come out under <font color = green>livres</font>. I'm lucky if the fries come out right. <font color = green>Marriage</font> last <font color = green>experiencing</font> is the last <font color = green>strap</font>. I recently posted a photo of my Chicken Ranch Club. That has no chicken. This is ridiculous. I am done going to this Mcd's."
            ],
            "text/plain": [
              "<IPython.core.display.HTML object>"
            ]
          },
          "metadata": {
            "tags": []
          }
        },
        {
          "output_type": "stream",
          "text": [
            "\n",
            "[Succeeded / Failed / Total] 14 / 3 / 17:  72%|███████▏  | 18/25 [03:30<01:21, 11.68s/it]\u001b[A\n",
            "[Succeeded / Failed / Total] 15 / 3 / 18:  72%|███████▏  | 18/25 [03:30<01:21, 11.68s/it]\u001b[A"
          ],
          "name": "stderr"
        },
        {
          "output_type": "display_data",
          "data": {
            "text/html": [
              "<font color = red>1 (100%)</font> --> <font color = red>[FAILED]</font><br>Wow. What a shame. My family just moved to the area and have been sampling the local cuisine. We are a very large family and love foods of all kind. We've eaten Chinese food from a hundred different places in a dozen different cities. Hands down, this was the worst we've ever had. Cold, tough, congealed, and tasteless - that's the only way to describe it. I'll never order from here again. Quite frankly, the fact that I took time away from my kids to type this out should tell you how awful it was. My complaints fell on deaf ears. I guess they were shocked that someone thought that they were serving low grade dog food. I understand that sometimes restaurants crank out bad food. It happens. But when it does, you bend over backwards to make it right. Not at this place. I was told that he would have to speak with the owner in order to help me. I guess that's how they deflect complaints - blame it on the owners that aren't there and make the customer for away angry.  Too bad. Because we will be visiting a competitor in the future. This family of 7 won't be visiting China Sea ever again. Oh, and by the way, why can't I give this place zero stars?"
            ],
            "text/plain": [
              "<IPython.core.display.HTML object>"
            ]
          },
          "metadata": {
            "tags": []
          }
        },
        {
          "output_type": "stream",
          "text": [
            "\n",
            "[Succeeded / Failed / Total] 15 / 3 / 18:  76%|███████▌  | 19/25 [03:52<01:13, 12.25s/it]\u001b[A\n",
            "[Succeeded / Failed / Total] 15 / 4 / 19:  76%|███████▌  | 19/25 [03:52<01:13, 12.25s/it]\u001b[A"
          ],
          "name": "stderr"
        },
        {
          "output_type": "display_data",
          "data": {
            "text/html": [
              "<font color = green>2 (100%)</font> --> <font color = red>[FAILED]</font><br>I fell in love with this place as soon as we pulled up and saw the lights strung up and  oldies coming from the speakers! \\n\\nI tried the banana cream pie hard ice cream, their scoops are very generous!! \\n\\nMy bf got the peach cobbler hard ice cream and that was to die for! We got 4 servings of ice cream for $10, which nowadays is a steal IMO! :) \\n\\nI'll definitely be heading back with my coworkers this week!"
            ],
            "text/plain": [
              "<IPython.core.display.HTML object>"
            ]
          },
          "metadata": {
            "tags": []
          }
        },
        {
          "output_type": "stream",
          "text": [
            "\n",
            "[Succeeded / Failed / Total] 15 / 4 / 19:  80%|████████  | 20/25 [04:01<01:00, 12.07s/it]\u001b[A\n",
            "[Succeeded / Failed / Total] 15 / 5 / 20:  80%|████████  | 20/25 [04:01<01:00, 12.07s/it]\u001b[A"
          ],
          "name": "stderr"
        },
        {
          "output_type": "display_data",
          "data": {
            "text/html": [
              "<font color = green>2 (100%)</font> --> <font color = red>1 (63%)</font><br><font color = green>This</font> is by far, the <font color = green>BEST</font> soft <font color = green>serve</font> ice cream place in southwestern PA. The \\\"\"flavor of the <font color = green>week</font>\\\"\" is always interesting-and tasty! Though, <font color = green>I</font> am somewhat disappointed that they've <font color = green>switched</font> to a lower grade ice milk, for their vanilla and chocolate offerings. I don't know if this is a matter of cutting corners, or if the better stuff simply isn't available any longer. Either way, this place is still <font color = green>leaps</font> and bounds ahead of DQ, Tastee Freeze, etc. It's <font color = green>definitely</font> <font color = green>worth</font> the trip. It's mostly street parking, though they do have about 3-4 parking spaces off to the side. Serving sizes are huge! The small <font color = green>cone</font> here, is the same size as a DQ large. And the large is SO big, they can't <font color = green>fit</font> it through the window-they hand it out the side door.\\n\\nIf you want a real \\\"\"Kodak <font color = green>moment</font>\\\"\"-order a large cone for the kids, and keep the camera, and wet wipes <font color = green>handy</font>!<br><font color = red>Colchis</font> is by far, the <font color = red>WAS</font> soft <font color = red>serv</font> ice cream place in southwestern PA. The \\\"\"flavor of the <font color = red>month</font>\\\"\" is always interesting-and tasty! Though, <font color = red>ENCHANTER</font> am somewhat disappointed that they've <font color = red>switch</font> to a lower grade ice milk, for their vanilla and chocolate offerings. I don't know if this is a matter of cutting corners, or if the better stuff simply isn't available any longer. Either way, this place is still <font color = red>faps</font> and bounds ahead of DQ, Tastee Freeze, etc. It's <font color = red>finitely</font> <font color = red>hapworth</font> the trip. It's mostly street parking, though they do have about 3-4 parking spaces off to the side. Serving sizes are huge! The small <font color = red>waxy</font> here, is the same size as a DQ large. And the large is SO big, they can't <font color = red>manpower</font> it through the window-they hand it out the side door.\\n\\nIf you want a real \\\"\"Kodak <font color = red>foment</font>\\\"\"-order a large cone for the kids, and keep the camera, and wet wipes <font color = red>tandy</font>!"
            ],
            "text/plain": [
              "<IPython.core.display.HTML object>"
            ]
          },
          "metadata": {
            "tags": []
          }
        },
        {
          "output_type": "stream",
          "text": [
            "\n",
            "[Succeeded / Failed / Total] 15 / 5 / 20:  84%|████████▍ | 21/25 [04:14<00:48, 12.13s/it]\u001b[A\n",
            "[Succeeded / Failed / Total] 16 / 5 / 21:  84%|████████▍ | 21/25 [04:14<00:48, 12.13s/it]\u001b[A"
          ],
          "name": "stderr"
        },
        {
          "output_type": "display_data",
          "data": {
            "text/html": [
              "<font color = green>2 (100%)</font> --> <font color = red>1 (66%)</font><br>This is my <font color = green>go-to</font> <font color = green>distributer</font>. They have a <font color = green>great</font> selection and lots of hard to find brews. I haven't noticed that it's any more expensive than going elsewhere but honestly if I don't buy here then I'm <font color = green>buying</font> six packs which as we all know are a huuugggge rip off. <font color = green>So</font> any time I have a <font color = green>case</font> of something I love I feel <font color = green>like</font> I'm getting a <font color = green>bargain</font>. The cold selection does suck so I try to plan ahead and have what I need already cold. Staff here are all very helpful- and will have recommendations if you ask.<br>This is my <font color = red>kto</font> <font color = red>distribute</font>. They have a <font color = red>greasy</font> selection and lots of hard to find brews. I haven't noticed that it's any more expensive than going elsewhere but honestly if I don't buy here then I'm <font color = red>profiting</font> six packs which as we all know are a huuugggge rip off. <font color = red>Scheduled</font> any time I have a <font color = red>counterexample</font> of something I love I feel <font color = red>resembling</font> I'm getting a <font color = red>debtor</font>. The cold selection does suck so I try to plan ahead and have what I need already cold. Staff here are all very helpful- and will have recommendations if you ask."
            ],
            "text/plain": [
              "<IPython.core.display.HTML object>"
            ]
          },
          "metadata": {
            "tags": []
          }
        },
        {
          "output_type": "stream",
          "text": [
            "\n",
            "[Succeeded / Failed / Total] 16 / 5 / 21:  88%|████████▊ | 22/25 [04:22<00:35, 11.91s/it]\u001b[A\n",
            "[Succeeded / Failed / Total] 17 / 5 / 22:  88%|████████▊ | 22/25 [04:22<00:35, 11.91s/it]\u001b[A"
          ],
          "name": "stderr"
        },
        {
          "output_type": "display_data",
          "data": {
            "text/html": [
              "<font color = green>2 (100%)</font> --> <font color = red>1 (89%)</font><br><font color = green>Love</font> this beer <font color = green>distributor</font>.  <font color = green>They</font> <font color = green>always</font> have what <font color = green>I'm</font> looking for. The <font color = green>workers</font> are extremely nice and <font color = green>always</font> willing to help. <font color = green>Best</font> <font color = green>one</font> <font color = green>I've</font> <font color = green>seen</font> by <font color = green>far</font>.<br><font color = red>Wove</font> this beer <font color = red>distributive</font>.  <font color = red>Murphey</font> <font color = red>actually</font> have what <font color = red>Animations</font> looking for. The <font color = red>yorkers</font> are extremely nice and <font color = red>actually</font> willing to help. <font color = red>Sexiest</font> <font color = red>nine</font> <font color = red>Give</font> <font color = red>viewed</font> by <font color = red>much</font>."
            ],
            "text/plain": [
              "<IPython.core.display.HTML object>"
            ]
          },
          "metadata": {
            "tags": []
          }
        },
        {
          "output_type": "stream",
          "text": [
            "\n",
            "[Succeeded / Failed / Total] 17 / 5 / 22:  92%|█████████▏| 23/25 [04:25<00:23, 11.53s/it]\u001b[A\n",
            "[Succeeded / Failed / Total] 18 / 5 / 23:  92%|█████████▏| 23/25 [04:25<00:23, 11.53s/it]\u001b[A"
          ],
          "name": "stderr"
        },
        {
          "output_type": "display_data",
          "data": {
            "text/html": [
              "<font color = red>1 (100%)</font> --> <font color = green>2 (63%)</font><br>Went here with a gift card from the restaurant week photo competition. \\n\\nWe were one of two tables there and a bunch of staff showing up during the meal. \\n\\nOur <font color = red>waitress</font> was good, but that couldn't save the food.\\n\\nThe meal started out with some what I guess used to be <font color = red>foccacia</font>.  I say used to be because it no longer represented anything other than long pieces of brick or bark very stale and <font color = red>tasteless</font>.\\n\\nWe ordered the vegetable board which was probably the best thing we ordered with light and bright vegetables perfectly cooked and paired with two delicious sauces. \\n\\<font color = red>nThen</font> we ordered the octopus which was fine, but very <font color = red>cold</font> and the octopus had little to no flavor, being overwhelmed by the citrus in the dish. \\n\\nThe tuscan wings were ok, but they were really ordered for my husband who seemed to enjoy them. \\n\\nFinally the diver scallops.  This dish was <font color = red>indeible</font>.  The scallops were very <font color = red>overcooked</font> and the pea puree was so minty I was unable to eat it. We sent it back and they did take off half of the price (weren't expecting anything just didn't want to eat it). \\n\\nAfter that we decided against dessert and left.  I probably will not return.<br>Went here with a gift card from the restaurant week photo competition. \\n\\nWe were one of two tables there and a bunch of staff showing up during the meal. \\n\\nOur <font color = green>tress</font> was good, but that couldn't save the food.\\n\\nThe meal started out with some what I guess used to be <font color = green>acacia</font>.  I say used to be because it no longer represented anything other than long pieces of brick or bark very stale and <font color = green>eyeless</font>.\\n\\nWe ordered the vegetable board which was probably the best thing we ordered with light and bright vegetables perfectly cooked and paired with two delicious sauces. \\n\\<font color = green>zhen</font> we ordered the octopus which was fine, but very <font color = green>cool</font> and the octopus had little to no flavor, being overwhelmed by the citrus in the dish. \\n\\nThe tuscan wings were ok, but they were really ordered for my husband who seemed to enjoy them. \\n\\nFinally the diver scallops.  This dish was <font color = green>unthinkable</font>.  The scallops were very <font color = green>quickened</font> and the pea puree was so minty I was unable to eat it. We sent it back and they did take off half of the price (weren't expecting anything just didn't want to eat it). \\n\\nAfter that we decided against dessert and left.  I probably will not return."
            ],
            "text/plain": [
              "<IPython.core.display.HTML object>"
            ]
          },
          "metadata": {
            "tags": []
          }
        },
        {
          "output_type": "stream",
          "text": [
            "\n",
            "[Succeeded / Failed / Total] 18 / 5 / 23:  96%|█████████▌| 24/25 [04:40<00:11, 11.70s/it]\u001b[A\n",
            "[Succeeded / Failed / Total] 19 / 5 / 24:  96%|█████████▌| 24/25 [04:40<00:11, 11.70s/it]\u001b[A"
          ],
          "name": "stderr"
        },
        {
          "output_type": "display_data",
          "data": {
            "text/html": [
              "<font color = red>1 (100%)</font> --> <font color = red>[FAILED]</font><br>I went there today! The cut was terrible! I have an awful experience. They lady that cut my hair was nice but she wanted to leave early so she made a disaster in my head!"
            ],
            "text/plain": [
              "<IPython.core.display.HTML object>"
            ]
          },
          "metadata": {
            "tags": []
          }
        },
        {
          "output_type": "stream",
          "text": [
            "\n",
            "[Succeeded / Failed / Total] 19 / 5 / 24: 100%|██████████| 25/25 [04:44<00:00, 11.37s/it]\u001b[A\n",
            "[Succeeded / Failed / Total] 19 / 6 / 25: 100%|██████████| 25/25 [04:44<00:00, 11.37s/it]"
          ],
          "name": "stderr"
        },
        {
          "output_type": "stream",
          "text": [
            "+-------------------------------+--------+\n",
            "| Attack Results                |        |\n",
            "+-------------------------------+--------+\n",
            "| Number of successful attacks: | 19     |\n",
            "| Number of failed attacks:     | 6      |\n",
            "| Number of skipped attacks:    | 0      |\n",
            "| Original accuracy:            | 100.0% |\n",
            "| Accuracy under attack:        | 24.0%  |\n",
            "| Attack success rate:          | 76.0%  |\n",
            "| Average perturbed word %:     | 11.43% |\n",
            "| Average num. words per input: | 133.36 |\n",
            "| Avg num queries:              | 242.76 |\n",
            "+-------------------------------+--------+"
          ],
          "name": "stdout"
        },
        {
          "output_type": "stream",
          "text": [
            "\n",
            "\u001b[34;1mtextattack\u001b[0m: Attack time: 284.3558597564697s\n"
          ],
          "name": "stderr"
        }
      ]
    },
    {
      "cell_type": "markdown",
      "metadata": {
        "id": "ARbPN9oO4mXK"
      },
      "source": [
        "# TextFooler's stats"
      ]
    },
    {
      "cell_type": "code",
      "metadata": {
        "colab": {
          "base_uri": "https://localhost:8080/"
        },
        "id": "lCb7WOWZ4xqS",
        "outputId": "98ae8983-34c4-4a66-fb57-30c23a48806e"
      },
      "source": [
        "!pip install torchfile\n",
        "from textattack.constraints.grammaticality import PartOfSpeech\n",
        "from textattack.constraints.pre_transformation import (\n",
        "    InputColumnModification,\n",
        "    RepeatModification,\n",
        "    StopwordModification,\n",
        ")\n",
        "from textattack.constraints.semantics import WordEmbeddingDistance\n",
        "from textattack.constraints.semantics.sentence_encoders import UniversalSentenceEncoder\n",
        "from textattack.goal_functions import UntargetedClassification\n",
        "from textattack.search_methods import GreedyWordSwapWIR\n",
        "from textattack.shared.attack import Attack\n",
        "from textattack.transformations import WordSwapEmbedding\n",
        "\n",
        "from textattack.shared import Attack\n",
        "from textattack.goal_functions import UntargetedClassification\n",
        "from textattack.datasets import HuggingFaceDataset\n",
        "\n",
        "transformation = WordSwapEmbedding(max_candidates=50)\n",
        "        #\n",
        "        # Don't modify the same word twice or the stopwords defined\n",
        "        # in the TextFooler public implementation.\n",
        "        #\n",
        "        # fmt: off\n",
        "stopwords = set(\n",
        "            [\"a\", \"about\", \"above\", \"across\", \"after\", \"afterwards\", \"again\", \"against\", \"ain\", \"all\", \"almost\", \"alone\", \"along\", \"already\", \"also\", \"although\", \"am\", \"among\", \"amongst\", \"an\", \"and\", \"another\", \"any\", \"anyhow\", \"anyone\", \"anything\", \"anyway\", \"anywhere\", \"are\", \"aren\", \"aren't\", \"around\", \"as\", \"at\", \"back\", \"been\", \"before\", \"beforehand\", \"behind\", \"being\", \"below\", \"beside\", \"besides\", \"between\", \"beyond\", \"both\", \"but\", \"by\", \"can\", \"cannot\", \"could\", \"couldn\", \"couldn't\", \"d\", \"didn\", \"didn't\", \"doesn\", \"doesn't\", \"don\", \"don't\", \"down\", \"due\", \"during\", \"either\", \"else\", \"elsewhere\", \"empty\", \"enough\", \"even\", \"ever\", \"everyone\", \"everything\", \"everywhere\", \"except\", \"first\", \"for\", \"former\", \"formerly\", \"from\", \"hadn\", \"hadn't\", \"hasn\", \"hasn't\", \"haven\", \"haven't\", \"he\", \"hence\", \"her\", \"here\", \"hereafter\", \"hereby\", \"herein\", \"hereupon\", \"hers\", \"herself\", \"him\", \"himself\", \"his\", \"how\", \"however\", \"hundred\", \"i\", \"if\", \"in\", \"indeed\", \"into\", \"is\", \"isn\", \"isn't\", \"it\", \"it's\", \"its\", \"itself\", \"just\", \"latter\", \"latterly\", \"least\", \"ll\", \"may\", \"me\", \"meanwhile\", \"mightn\", \"mightn't\", \"mine\", \"more\", \"moreover\", \"most\", \"mostly\", \"must\", \"mustn\", \"mustn't\", \"my\", \"myself\", \"namely\", \"needn\", \"needn't\", \"neither\", \"never\", \"nevertheless\", \"next\", \"no\", \"nobody\", \"none\", \"noone\", \"nor\", \"not\", \"nothing\", \"now\", \"nowhere\", \"o\", \"of\", \"off\", \"on\", \"once\", \"one\", \"only\", \"onto\", \"or\", \"other\", \"others\", \"otherwise\", \"our\", \"ours\", \"ourselves\", \"out\", \"over\", \"per\", \"please\", \"s\", \"same\", \"shan\", \"shan't\", \"she\", \"she's\", \"should've\", \"shouldn\", \"shouldn't\", \"somehow\", \"something\", \"sometime\", \"somewhere\", \"such\", \"t\", \"than\", \"that\", \"that'll\", \"the\", \"their\", \"theirs\", \"them\", \"themselves\", \"then\", \"thence\", \"there\", \"thereafter\", \"thereby\", \"therefore\", \"therein\", \"thereupon\", \"these\", \"they\", \"this\", \"those\", \"through\", \"throughout\", \"thru\", \"thus\", \"to\", \"too\", \"toward\", \"towards\", \"under\", \"unless\", \"until\", \"up\", \"upon\", \"used\", \"ve\", \"was\", \"wasn\", \"wasn't\", \"we\", \"were\", \"weren\", \"weren't\", \"what\", \"whatever\", \"when\", \"whence\", \"whenever\", \"where\", \"whereafter\", \"whereas\", \"whereby\", \"wherein\", \"whereupon\", \"wherever\", \"whether\", \"which\", \"while\", \"whither\", \"who\", \"whoever\", \"whole\", \"whom\", \"whose\", \"why\", \"with\", \"within\", \"without\", \"won\", \"won't\", \"would\", \"wouldn\", \"wouldn't\", \"y\", \"yet\", \"you\", \"you'd\", \"you'll\", \"you're\", \"you've\", \"your\", \"yours\", \"yourself\", \"yourselves\"]\n",
        "        )\n",
        "        # fmt: on\n",
        "constraints = [RepeatModification(), StopwordModification(stopwords=stopwords)]\n",
        "        #\n",
        "        # During entailment, we should only edit the hypothesis - keep the premise\n",
        "        # the same.\n",
        "        #\n",
        "input_column_modification = InputColumnModification(\n",
        "            [\"premise\", \"hypothesis\"], {\"premise\"}\n",
        "        )\n",
        "constraints.append(input_column_modification)\n",
        "        # Minimum word embedding cosine similarity of 0.5.\n",
        "        # (The paper claims 0.7, but analysis of the released code and some empirical\n",
        "        # results show that it's 0.5.)\n",
        "        #\n",
        "constraints.append(WordEmbeddingDistance(min_cos_sim=0.5))\n",
        "        #\n",
        "        # Only replace words with the same part of speech (or nouns with verbs)\n",
        "        #\n",
        "constraints.append(PartOfSpeech(allow_verb_noun_swap=True))\n",
        "        #\n",
        "        # Universal Sentence Encoder with a minimum angular similarity of ε = 0.5.\n",
        "        #\n",
        "        # In the TextFooler code, they forget to divide the angle between the two\n",
        "        # embeddings by pi. So if the original threshold was that 1 - sim >= 0.5, the\n",
        "        # new threshold is 1 - (0.5) / pi = 0.840845057\n",
        "        #\n",
        "use_constraint = UniversalSentenceEncoder(\n",
        "            threshold=0.840845057,\n",
        "            metric=\"angular\",\n",
        "            compare_against_original=False,\n",
        "            window_size=15,\n",
        "            skip_text_shorter_than_window=True,\n",
        "        )\n",
        "constraints.append(use_constraint)\n",
        "        #\n",
        "        # Goal is untargeted classification\n",
        "        #\n",
        "goal_function = UntargetedClassification(model_wrapper)\n",
        "        #\n",
        "        # Greedily swap words with \"Word Importance Ranking\".\n",
        "        #\n",
        "search_method = GreedyWordSwapWIR(wir_method=\"delete\")\n",
        "\n",
        "# Now, let's make the attack from the 4 components:\n",
        "attack1 = Attack(goal_function, constraints, transformation, search_method)"
      ],
      "execution_count": 18,
      "outputs": [
        {
          "output_type": "stream",
          "text": [
            "Collecting torchfile\n",
            "  Downloading https://files.pythonhosted.org/packages/91/af/5b305f86f2d218091af657ddb53f984ecbd9518ca9fe8ef4103a007252c9/torchfile-0.1.0.tar.gz\n",
            "Building wheels for collected packages: torchfile\n",
            "  Building wheel for torchfile (setup.py) ... \u001b[?25l\u001b[?25hdone\n",
            "  Created wheel for torchfile: filename=torchfile-0.1.0-cp37-none-any.whl size=5713 sha256=0024b802627676ab9347982892917fec1d85899e616a6551574bcf8967108595\n",
            "  Stored in directory: /root/.cache/pip/wheels/b1/c3/d6/9a1cc8f3a99a0fc1124cae20153f36af59a6e683daca0a0814\n",
            "Successfully built torchfile\n",
            "Installing collected packages: torchfile\n",
            "Successfully installed torchfile-0.1.0\n"
          ],
          "name": "stdout"
        },
        {
          "output_type": "stream",
          "text": [
            "Using /tmp/tfhub_modules to cache modules.\n",
            "Downloading TF-Hub Module 'https://tfhub.dev/google/universal-sentence-encoder/4'.\n",
            "Downloading https://tfhub.dev/google/universal-sentence-encoder/4: 830.00MB\n",
            "Downloaded https://tfhub.dev/google/universal-sentence-encoder/4, Total size: 987.47MB\n",
            "Downloaded TF-Hub Module 'https://tfhub.dev/google/universal-sentence-encoder/4'.\n",
            "\u001b[34;1mtextattack\u001b[0m: Unknown if model of class <class 'transformers.models.albert.modeling_albert.AlbertForSequenceClassification'> compatible with goal function <class 'textattack.goal_functions.classification.untargeted_classification.UntargetedClassification'>.\n"
          ],
          "name": "stderr"
        }
      ]
    },
    {
      "cell_type": "code",
      "metadata": {
        "colab": {
          "base_uri": "https://localhost:8080/",
          "height": 1000
        },
        "id": "XeUsPDCq48qU",
        "outputId": "29038795-f612-41f1-a2bd-1ba95b95a2da"
      },
      "source": [
        "attack_stats(attack1, dataset, 5)"
      ],
      "execution_count": 19,
      "outputs": [
        {
          "output_type": "stream",
          "text": [
            "\n",
            "  0%|          | 0/5 [00:00<?, ?it/s]\u001b[A"
          ],
          "name": "stderr"
        },
        {
          "output_type": "stream",
          "text": [
            "Attack(\n",
            "  (search_method): GreedyWordSwapWIR(\n",
            "    (wir_method):  delete\n",
            "  )\n",
            "  (goal_function):  UntargetedClassification\n",
            "  (transformation):  WordSwapEmbedding(\n",
            "    (max_candidates):  50\n",
            "    (embedding):  WordEmbedding\n",
            "  )\n",
            "  (constraints): \n",
            "    (0): WordEmbeddingDistance(\n",
            "        (embedding):  WordEmbedding\n",
            "        (min_cos_sim):  0.5\n",
            "        (cased):  False\n",
            "        (include_unknown_words):  True\n",
            "        (compare_against_original):  True\n",
            "      )\n",
            "    (1): PartOfSpeech(\n",
            "        (tagger_type):  nltk\n",
            "        (tagset):  universal\n",
            "        (allow_verb_noun_swap):  True\n",
            "        (compare_against_original):  True\n",
            "      )\n",
            "    (2): UniversalSentenceEncoder(\n",
            "        (metric):  angular\n",
            "        (threshold):  0.840845057\n",
            "        (window_size):  15\n",
            "        (skip_text_shorter_than_window):  True\n",
            "        (compare_against_original):  False\n",
            "      )\n",
            "    (3): RepeatModification\n",
            "    (4): StopwordModification\n",
            "    (5): InputColumnModification(\n",
            "        (matching_column_labels):  ['premise', 'hypothesis']\n",
            "        (columns_to_ignore):  {'premise'}\n",
            "      )\n",
            "  (is_black_box):  True\n",
            ")\n"
          ],
          "name": "stdout"
        },
        {
          "output_type": "display_data",
          "data": {
            "text/html": [
              "<font color = green>2 (100%)</font> --> <font color = red>1 (56%)</font><br>Contrary to other reviews, I have zero <font color = green>complaints</font> about the service or the prices. I have been getting tire service here for the past 5 years now, and compared to my experience with places like Pep Boys, these <font color = green>guys</font> are experienced and <font color = green>know</font> what they're doing. \\nAlso, this is one place that I do not feel like I am being taken advantage of, just because of my gender. Other auto mechanics have been notorious for capitalizing on my ignorance of cars, and have sucked my bank account dry. But here, my service and road coverage has all been <font color = green>well</font> explained - and let up to me to decide. \\nAnd they just renovated the waiting room. It looks a lot better than it did in <font color = green>previous</font> years.<br>Contrary to other reviews, I have zero <font color = red>assertion</font> about the service or the prices. I have been getting tire service here for the past 5 years now, and compared to my experience with places like Pep Boys, these <font color = red>males</font> are experienced and <font color = red>savoir</font> what they're doing. \\nAlso, this is one place that I do not feel like I am being taken advantage of, just because of my gender. Other auto mechanics have been notorious for capitalizing on my ignorance of cars, and have sucked my bank account dry. But here, my service and road coverage has all been <font color = red>too</font> explained - and let up to me to decide. \\nAnd they just renovated the waiting room. It looks a lot better than it did in <font color = red>senior</font> years."
            ],
            "text/plain": [
              "<IPython.core.display.HTML object>"
            ]
          },
          "metadata": {
            "tags": []
          }
        },
        {
          "output_type": "stream",
          "text": [
            "\n",
            " 20%|██        | 1/5 [00:12<00:50, 12.74s/it]\u001b[A\n",
            "[Succeeded / Failed / Total] 1 / 0 / 1:  20%|██        | 1/5 [00:12<00:50, 12.75s/it]\u001b[A"
          ],
          "name": "stderr"
        },
        {
          "output_type": "display_data",
          "data": {
            "text/html": [
              "<font color = red>1 (100%)</font> --> <font color = green>2 (57%)</font><br>Last summer I had an appointment to get new tires and had to wait a super long time. I also went in this week for them to fix a minor problem with a tire they put on. They \\\"\"<font color = red>fixed</font>\\\"\" it for free, and the very next morning I had the same issue. I called to complain, and the \\\"\"manager\\\"\" didn't even apologize!!! <font color = red>So</font> <font color = red>frustrated</font>. <font color = red>Never</font> <font color = red>going</font> back.  They seem overpriced, too.<br>Last summer I had an appointment to get new tires and had to wait a super long time. I also went in this week for them to fix a minor problem with a tire they put on. They \\\"\"<font color = green>fixes</font>\\\"\" it for free, and the very next morning I had the same issue. I called to complain, and the \\\"\"manager\\\"\" didn't even apologize!!! <font color = green>However</font> <font color = green>thwart</font>. <font color = green>Nadie</font> <font color = green>will</font> back.  They seem overpriced, too."
            ],
            "text/plain": [
              "<IPython.core.display.HTML object>"
            ]
          },
          "metadata": {
            "tags": []
          }
        },
        {
          "output_type": "stream",
          "text": [
            "\n",
            "[Succeeded / Failed / Total] 1 / 0 / 1:  40%|████      | 2/5 [00:20<00:30, 10.09s/it]\u001b[A\n",
            "[Succeeded / Failed / Total] 2 / 0 / 2:  40%|████      | 2/5 [00:20<00:30, 10.10s/it]\u001b[A"
          ],
          "name": "stderr"
        },
        {
          "output_type": "display_data",
          "data": {
            "text/html": [
              "<font color = green>2 (73%)</font> --> <font color = red>1 (59%)</font><br><font color = green>Friendly</font> staff, same starbucks fair you get anywhere else.  Sometimes the lines can get long.<br><font color = red>Hospitable</font> staff, same starbucks fair you get anywhere else.  Sometimes the lines can get long."
            ],
            "text/plain": [
              "<IPython.core.display.HTML object>"
            ]
          },
          "metadata": {
            "tags": []
          }
        },
        {
          "output_type": "stream",
          "text": [
            "\n",
            "[Succeeded / Failed / Total] 2 / 0 / 2:  60%|██████    | 3/5 [00:21<00:14,  7.25s/it]\u001b[A\n",
            "[Succeeded / Failed / Total] 3 / 0 / 3:  60%|██████    | 3/5 [00:21<00:14,  7.25s/it]\u001b[A"
          ],
          "name": "stderr"
        },
        {
          "output_type": "display_data",
          "data": {
            "text/html": [
              "<font color = red>1 (98%)</font> --> <font color = green>2 (73%)</font><br>The <font color = red>food</font> is good. <font color = red>Unfortunately</font> the service is very hit or miss. The main issue seems to be with the kitchen, the waiters and waitresses are often very apologetic for the long waits and it's pretty obvious that some of them avoid the tables after taking the initial order to avoid hearing complaints.<br>The <font color = green>nourishment</font> is good. <font color = green>Sadly</font> the service is very hit or miss. The main issue seems to be with the kitchen, the waiters and waitresses are often very apologetic for the long waits and it's pretty obvious that some of them avoid the tables after taking the initial order to avoid hearing complaints."
            ],
            "text/plain": [
              "<IPython.core.display.HTML object>"
            ]
          },
          "metadata": {
            "tags": []
          }
        },
        {
          "output_type": "stream",
          "text": [
            "\n",
            "[Succeeded / Failed / Total] 3 / 0 / 3:  80%|████████  | 4/5 [00:25<00:06,  6.33s/it]\u001b[A\n",
            "[Succeeded / Failed / Total] 4 / 0 / 4:  80%|████████  | 4/5 [00:25<00:06,  6.33s/it]\u001b[A"
          ],
          "name": "stderr"
        },
        {
          "output_type": "display_data",
          "data": {
            "text/html": [
              "<font color = green>2 (100%)</font> --> <font color = red>1 (60%)</font><br>Even when we didn't have a car Filene's Basement was worth the bus trip to the Waterfront. I always find something (usually I find 3-4 things and spend about $60) and better still, I am always still wearing the clothes and shoes 3 months later. \\n\\nI <font color = green>kind</font> of suspect this is the <font color = green>best</font> shopping in Pittsburgh; it's much better than the usual department stores, <font color = green>better</font> than Marshall's and <font color = green>TJ</font> Maxx and better than the <font color = green>Saks</font> downtown, even when it has a sale. Selection, <font color = green>bargains</font> AND quality.\\n\\nI <font color = green>like</font> this Filene's <font color = green>better</font> than Gabriel Brothers, which are harder to get to. Gabriel Brothers are a real discount shopper's challenge and I'm afraid I didn't live in Pittsburgh long enough to develop the necessary skills . . . Filene's was still up and running in June 2007 when I left <font color = green>town</font>.<br>Even when we didn't have a car Filene's Basement was worth the bus trip to the Waterfront. I always find something (usually I find 3-4 things and spend about $60) and better still, I am always still wearing the clothes and shoes 3 months later. \\n\\nI <font color = red>ranks</font> of suspect this is the <font color = red>alright</font> shopping in Pittsburgh; it's much better than the usual department stores, <font color = red>preferable</font> than Marshall's and <font color = red>TIJUANA</font> Maxx and better than the <font color = red>Sachs</font> downtown, even when it has a sale. Selection, <font color = red>relates</font> AND quality.\\n\\nI <font color = red>iike</font> this Filene's <font color = red>more</font> than Gabriel Brothers, which are harder to get to. Gabriel Brothers are a real discount shopper's challenge and I'm afraid I didn't live in Pittsburgh long enough to develop the necessary skills . . . Filene's was still up and running in June 2007 when I left <font color = red>mayor</font>."
            ],
            "text/plain": [
              "<IPython.core.display.HTML object>"
            ]
          },
          "metadata": {
            "tags": []
          }
        },
        {
          "output_type": "stream",
          "text": [
            "\n",
            "[Succeeded / Failed / Total] 4 / 0 / 4: 100%|██████████| 5/5 [00:37<00:00,  7.51s/it]\u001b[A\n",
            "[Succeeded / Failed / Total] 5 / 0 / 5: 100%|██████████| 5/5 [00:37<00:00,  7.52s/it]"
          ],
          "name": "stderr"
        },
        {
          "output_type": "stream",
          "text": [
            "+-------------------------------+--------+\n",
            "| Attack Results                |        |\n",
            "+-------------------------------+--------+\n",
            "| Number of successful attacks: | 5      |\n",
            "| Number of failed attacks:     | 0      |\n",
            "| Number of skipped attacks:    | 0      |\n",
            "| Original accuracy:            | 100.0% |\n",
            "| Accuracy under attack:        | 0.0%   |\n",
            "| Attack success rate:          | 100.0% |\n",
            "| Average perturbed word %:     | 5.6%   |\n",
            "| Average num. words per input: | 80.4   |\n",
            "| Avg num queries:              | 192.0  |\n",
            "+-------------------------------+--------+"
          ],
          "name": "stdout"
        },
        {
          "output_type": "stream",
          "text": [
            "\n",
            "\u001b[34;1mtextattack\u001b[0m: Attack time: 37.602774143218994s\n"
          ],
          "name": "stderr"
        }
      ]
    },
    {
      "cell_type": "code",
      "metadata": {
        "colab": {
          "base_uri": "https://localhost:8080/",
          "height": 1000
        },
        "id": "rDzN_6Hi5Bxd",
        "outputId": "be94c7e4-c00a-4c4f-ea0c-ffb26da97255"
      },
      "source": [
        "attack_stats(attack1, dataset, 10)"
      ],
      "execution_count": 20,
      "outputs": [
        {
          "output_type": "stream",
          "text": [
            "\n",
            "  0%|          | 0/10 [00:00<?, ?it/s]\u001b[A"
          ],
          "name": "stderr"
        },
        {
          "output_type": "stream",
          "text": [
            "Attack(\n",
            "  (search_method): GreedyWordSwapWIR(\n",
            "    (wir_method):  delete\n",
            "  )\n",
            "  (goal_function):  UntargetedClassification\n",
            "  (transformation):  WordSwapEmbedding(\n",
            "    (max_candidates):  50\n",
            "    (embedding):  WordEmbedding\n",
            "  )\n",
            "  (constraints): \n",
            "    (0): WordEmbeddingDistance(\n",
            "        (embedding):  WordEmbedding\n",
            "        (min_cos_sim):  0.5\n",
            "        (cased):  False\n",
            "        (include_unknown_words):  True\n",
            "        (compare_against_original):  True\n",
            "      )\n",
            "    (1): PartOfSpeech(\n",
            "        (tagger_type):  nltk\n",
            "        (tagset):  universal\n",
            "        (allow_verb_noun_swap):  True\n",
            "        (compare_against_original):  True\n",
            "      )\n",
            "    (2): UniversalSentenceEncoder(\n",
            "        (metric):  angular\n",
            "        (threshold):  0.840845057\n",
            "        (window_size):  15\n",
            "        (skip_text_shorter_than_window):  True\n",
            "        (compare_against_original):  False\n",
            "      )\n",
            "    (3): RepeatModification\n",
            "    (4): StopwordModification\n",
            "    (5): InputColumnModification(\n",
            "        (matching_column_labels):  ['premise', 'hypothesis']\n",
            "        (columns_to_ignore):  {'premise'}\n",
            "      )\n",
            "  (is_black_box):  True\n",
            ")\n"
          ],
          "name": "stdout"
        },
        {
          "output_type": "display_data",
          "data": {
            "text/html": [
              "<font color = green>2 (100%)</font> --> <font color = red>1 (56%)</font><br>Contrary to other reviews, I have zero <font color = green>complaints</font> about the service or the prices. I have been getting tire service here for the past 5 years now, and compared to my experience with places like Pep Boys, these <font color = green>guys</font> are experienced and <font color = green>know</font> what they're doing. \\nAlso, this is one place that I do not feel like I am being taken advantage of, just because of my gender. Other auto mechanics have been notorious for capitalizing on my ignorance of cars, and have sucked my bank account dry. But here, my service and road coverage has all been <font color = green>well</font> explained - and let up to me to decide. \\nAnd they just renovated the waiting room. It looks a lot better than it did in <font color = green>previous</font> years.<br>Contrary to other reviews, I have zero <font color = red>assertion</font> about the service or the prices. I have been getting tire service here for the past 5 years now, and compared to my experience with places like Pep Boys, these <font color = red>males</font> are experienced and <font color = red>savoir</font> what they're doing. \\nAlso, this is one place that I do not feel like I am being taken advantage of, just because of my gender. Other auto mechanics have been notorious for capitalizing on my ignorance of cars, and have sucked my bank account dry. But here, my service and road coverage has all been <font color = red>too</font> explained - and let up to me to decide. \\nAnd they just renovated the waiting room. It looks a lot better than it did in <font color = red>senior</font> years."
            ],
            "text/plain": [
              "<IPython.core.display.HTML object>"
            ]
          },
          "metadata": {
            "tags": []
          }
        },
        {
          "output_type": "stream",
          "text": [
            "\n",
            " 10%|█         | 1/10 [00:09<01:27,  9.74s/it]\u001b[A\n",
            "[Succeeded / Failed / Total] 1 / 0 / 1:  10%|█         | 1/10 [00:09<01:27,  9.75s/it]\u001b[A"
          ],
          "name": "stderr"
        },
        {
          "output_type": "display_data",
          "data": {
            "text/html": [
              "<font color = red>1 (100%)</font> --> <font color = green>2 (57%)</font><br>Last summer I had an appointment to get new tires and had to wait a super long time. I also went in this week for them to fix a minor problem with a tire they put on. They \\\"\"<font color = red>fixed</font>\\\"\" it for free, and the very next morning I had the same issue. I called to complain, and the \\\"\"manager\\\"\" didn't even apologize!!! <font color = red>So</font> <font color = red>frustrated</font>. <font color = red>Never</font> <font color = red>going</font> back.  They seem overpriced, too.<br>Last summer I had an appointment to get new tires and had to wait a super long time. I also went in this week for them to fix a minor problem with a tire they put on. They \\\"\"<font color = green>fixes</font>\\\"\" it for free, and the very next morning I had the same issue. I called to complain, and the \\\"\"manager\\\"\" didn't even apologize!!! <font color = green>However</font> <font color = green>thwart</font>. <font color = green>Nadie</font> <font color = green>will</font> back.  They seem overpriced, too."
            ],
            "text/plain": [
              "<IPython.core.display.HTML object>"
            ]
          },
          "metadata": {
            "tags": []
          }
        },
        {
          "output_type": "stream",
          "text": [
            "\n",
            "[Succeeded / Failed / Total] 1 / 0 / 1:  20%|██        | 2/10 [00:17<01:08,  8.58s/it]\u001b[A\n",
            "[Succeeded / Failed / Total] 2 / 0 / 2:  20%|██        | 2/10 [00:17<01:08,  8.59s/it]\u001b[A"
          ],
          "name": "stderr"
        },
        {
          "output_type": "display_data",
          "data": {
            "text/html": [
              "<font color = green>2 (73%)</font> --> <font color = red>1 (59%)</font><br><font color = green>Friendly</font> staff, same starbucks fair you get anywhere else.  Sometimes the lines can get long.<br><font color = red>Hospitable</font> staff, same starbucks fair you get anywhere else.  Sometimes the lines can get long."
            ],
            "text/plain": [
              "<IPython.core.display.HTML object>"
            ]
          },
          "metadata": {
            "tags": []
          }
        },
        {
          "output_type": "stream",
          "text": [
            "\n",
            "[Succeeded / Failed / Total] 2 / 0 / 2:  30%|███       | 3/10 [00:18<00:43,  6.24s/it]\u001b[A\n",
            "[Succeeded / Failed / Total] 3 / 0 / 3:  30%|███       | 3/10 [00:18<00:43,  6.25s/it]\u001b[A"
          ],
          "name": "stderr"
        },
        {
          "output_type": "display_data",
          "data": {
            "text/html": [
              "<font color = red>1 (98%)</font> --> <font color = green>2 (73%)</font><br>The <font color = red>food</font> is good. <font color = red>Unfortunately</font> the service is very hit or miss. The main issue seems to be with the kitchen, the waiters and waitresses are often very apologetic for the long waits and it's pretty obvious that some of them avoid the tables after taking the initial order to avoid hearing complaints.<br>The <font color = green>nourishment</font> is good. <font color = green>Sadly</font> the service is very hit or miss. The main issue seems to be with the kitchen, the waiters and waitresses are often very apologetic for the long waits and it's pretty obvious that some of them avoid the tables after taking the initial order to avoid hearing complaints."
            ],
            "text/plain": [
              "<IPython.core.display.HTML object>"
            ]
          },
          "metadata": {
            "tags": []
          }
        },
        {
          "output_type": "stream",
          "text": [
            "\n",
            "[Succeeded / Failed / Total] 3 / 0 / 3:  40%|████      | 4/10 [00:22<00:33,  5.58s/it]\u001b[A\n",
            "[Succeeded / Failed / Total] 4 / 0 / 4:  40%|████      | 4/10 [00:22<00:33,  5.58s/it]\u001b[A"
          ],
          "name": "stderr"
        },
        {
          "output_type": "display_data",
          "data": {
            "text/html": [
              "<font color = green>2 (100%)</font> --> <font color = red>1 (60%)</font><br>Even when we didn't have a car Filene's Basement was worth the bus trip to the Waterfront. I always find something (usually I find 3-4 things and spend about $60) and better still, I am always still wearing the clothes and shoes 3 months later. \\n\\nI <font color = green>kind</font> of suspect this is the <font color = green>best</font> shopping in Pittsburgh; it's much better than the usual department stores, <font color = green>better</font> than Marshall's and <font color = green>TJ</font> Maxx and better than the <font color = green>Saks</font> downtown, even when it has a sale. Selection, <font color = green>bargains</font> AND quality.\\n\\nI <font color = green>like</font> this Filene's <font color = green>better</font> than Gabriel Brothers, which are harder to get to. Gabriel Brothers are a real discount shopper's challenge and I'm afraid I didn't live in Pittsburgh long enough to develop the necessary skills . . . Filene's was still up and running in June 2007 when I left <font color = green>town</font>.<br>Even when we didn't have a car Filene's Basement was worth the bus trip to the Waterfront. I always find something (usually I find 3-4 things and spend about $60) and better still, I am always still wearing the clothes and shoes 3 months later. \\n\\nI <font color = red>ranks</font> of suspect this is the <font color = red>alright</font> shopping in Pittsburgh; it's much better than the usual department stores, <font color = red>preferable</font> than Marshall's and <font color = red>TIJUANA</font> Maxx and better than the <font color = red>Sachs</font> downtown, even when it has a sale. Selection, <font color = red>relates</font> AND quality.\\n\\nI <font color = red>iike</font> this Filene's <font color = red>more</font> than Gabriel Brothers, which are harder to get to. Gabriel Brothers are a real discount shopper's challenge and I'm afraid I didn't live in Pittsburgh long enough to develop the necessary skills . . . Filene's was still up and running in June 2007 when I left <font color = red>mayor</font>."
            ],
            "text/plain": [
              "<IPython.core.display.HTML object>"
            ]
          },
          "metadata": {
            "tags": []
          }
        },
        {
          "output_type": "stream",
          "text": [
            "\n",
            "[Succeeded / Failed / Total] 4 / 0 / 4:  50%|█████     | 5/10 [00:34<00:34,  6.89s/it]\u001b[A\n",
            "[Succeeded / Failed / Total] 5 / 0 / 5:  50%|█████     | 5/10 [00:34<00:34,  6.90s/it]\u001b[A"
          ],
          "name": "stderr"
        },
        {
          "output_type": "display_data",
          "data": {
            "text/html": [
              "<font color = green>2 (100%)</font> --> <font color = red>1 (57%)</font><br>Picture Billy Joel's \\\"\"Piano Man\\\"\" DOUBLED mixed with beer, a rowdy crowd, and comedy - Welcome to Sing Sing!  A <font color = green>unique</font> musical <font color = green>experience</font> found in <font color = green>Homestead</font>.\\n\\nIf you're looking to grab a bite to eat or a beer, come on in!  Serving food and brews from Rock Bottom Brewery, Sing Sing keeps your tummy full while you listen to two (or more) amazingly <font color = green>talented</font> pianists take your <font color = green>musical</font> requests.  They'll play anything you'd like, for tips of course.  Wanting to hear Britney Spears?  Toto?  Duran Duran?  Yep, they play that... new or old.\\n\\nThe crowd <font color = green>makes</font> the show, so make sure you come ready for a good time.  <font color = green>If</font> the crowd is dead, it's harder for the Guys to get a reaction.  If you're wanting to have some fun, it can be a GREAT time!  It's the <font color = green>perfect</font> place for Birthday parties - especially if you want to embarrass a friend.  The guys will bring them up to the pianos and perform a little ditty.  For being a good sport, you get the coveted Sing Sing bumper sticker.  Now who wouldn't want that?\\n\\nDueling Pianos and brews... time to Shut Up & Sing Sing!<br>Picture Billy Joel's \\\"\"Piano Man\\\"\" DOUBLED mixed with beer, a rowdy crowd, and comedy - Welcome to Sing Sing!  A <font color = red>unequaled</font> musical <font color = red>experienced</font> found in <font color = red>Townsville</font>.\\n\\nIf you're looking to grab a bite to eat or a beer, come on in!  Serving food and brews from Rock Bottom Brewery, Sing Sing keeps your tummy full while you listen to two (or more) amazingly <font color = red>prodigy</font> pianists take your <font color = red>musician</font> requests.  They'll play anything you'd like, for tips of course.  Wanting to hear Britney Spears?  Toto?  Duran Duran?  Yep, they play that... new or old.\\n\\nThe crowd <font color = red>facto</font> the show, so make sure you come ready for a good time.  <font color = red>Except</font> the crowd is dead, it's harder for the Guys to get a reaction.  If you're wanting to have some fun, it can be a GREAT time!  It's the <font color = red>innocent</font> place for Birthday parties - especially if you want to embarrass a friend.  The guys will bring them up to the pianos and perform a little ditty.  For being a good sport, you get the coveted Sing Sing bumper sticker.  Now who wouldn't want that?\\n\\nDueling Pianos and brews... time to Shut Up & Sing Sing!"
            ],
            "text/plain": [
              "<IPython.core.display.HTML object>"
            ]
          },
          "metadata": {
            "tags": []
          }
        },
        {
          "output_type": "stream",
          "text": [
            "\n",
            "[Succeeded / Failed / Total] 5 / 0 / 5:  60%|██████    | 6/10 [00:48<00:32,  8.08s/it]\u001b[A\n",
            "[Succeeded / Failed / Total] 6 / 0 / 6:  60%|██████    | 6/10 [00:48<00:32,  8.09s/it]\u001b[A"
          ],
          "name": "stderr"
        },
        {
          "output_type": "display_data",
          "data": {
            "text/html": [
              "<font color = red>1 (100%)</font> --> <font color = red>[FAILED]</font><br>Mediocre service. COLD food! Our food waited so long the lettuce & pickles wilted. Bland food. Crazy overpriced. Long waits in the arcade. 1 beer per hour maximum.  Avoid at all costs. Fair manager."
            ],
            "text/plain": [
              "<IPython.core.display.HTML object>"
            ]
          },
          "metadata": {
            "tags": []
          }
        },
        {
          "output_type": "stream",
          "text": [
            "\n",
            "[Succeeded / Failed / Total] 6 / 0 / 6:  70%|███████   | 7/10 [01:16<00:32, 10.98s/it]\u001b[A\n",
            "[Succeeded / Failed / Total] 6 / 1 / 7:  70%|███████   | 7/10 [01:16<00:32, 10.98s/it]\u001b[A"
          ],
          "name": "stderr"
        },
        {
          "output_type": "display_data",
          "data": {
            "text/html": [
              "<font color = red>1 (100%)</font> --> <font color = green>2 (99%)</font><br>Ok! Let me tell you about my <font color = red>bad</font> <font color = red>experience</font> first. I went to D&B last night for a post wedding party - which, side note, is a great idea!\\n\\nIt was around midnight and the bar wasn't really populated. There were three bartenders and only one was actually making rounds to see if anyone needed anything. The two other bartenders were chatting on the far side of the bar that no one was sitting at. Kind of counter productive if you ask me. \\n\\nI stood there for about 5 minutes, which for a busy bar is fine but when I am the only one with my card out then, it just seems a little ridiculous. I made eye contact with the one girl twice and gave her a smile and she literally turned away. I finally had to walk to them to get their attention.  I was standing right in front of them smiling and they didn't ask if i need anything. I finally said, \\\"\"Are you working?\\\"\" and they gave each other a weird look. I felt like i was the crazy one. I asked for a beer/got the beer.\\n\\nIn between that time, the other bartender brought food over and set it down. She took a fry from the plate (right in front of me) and then served it to someone on the other side of the bar. What the hell! I felt like i was in some grimy bar in out in the sticks - not an established D&B. \\n\\nI was just really turned off from that experience. \\n\\nThe good is that D&B provides a different type of entertainment when you want to mix things up. I remember going here with my grandparents when I was a kid and it was the best treat ever! We would eat at the restaurant and then spend hours playing games. This place holds some really good memories for me. \\n\\nIt's a shame that my experience last night has spoiled the high standards I held for it.<br>Ok! Let me tell you about my <font color = green>untoward</font> <font color = green>savoring</font> first. I went to D&B last night for a post wedding party - which, side note, is a great idea!\\n\\nIt was around midnight and the bar wasn't really populated. There were three bartenders and only one was actually making rounds to see if anyone needed anything. The two other bartenders were chatting on the far side of the bar that no one was sitting at. Kind of counter productive if you ask me. \\n\\nI stood there for about 5 minutes, which for a busy bar is fine but when I am the only one with my card out then, it just seems a little ridiculous. I made eye contact with the one girl twice and gave her a smile and she literally turned away. I finally had to walk to them to get their attention.  I was standing right in front of them smiling and they didn't ask if i need anything. I finally said, \\\"\"Are you working?\\\"\" and they gave each other a weird look. I felt like i was the crazy one. I asked for a beer/got the beer.\\n\\nIn between that time, the other bartender brought food over and set it down. She took a fry from the plate (right in front of me) and then served it to someone on the other side of the bar. What the hell! I felt like i was in some grimy bar in out in the sticks - not an established D&B. \\n\\nI was just really turned off from that experience. \\n\\nThe good is that D&B provides a different type of entertainment when you want to mix things up. I remember going here with my grandparents when I was a kid and it was the best treat ever! We would eat at the restaurant and then spend hours playing games. This place holds some really good memories for me. \\n\\nIt's a shame that my experience last night has spoiled the high standards I held for it."
            ],
            "text/plain": [
              "<IPython.core.display.HTML object>"
            ]
          },
          "metadata": {
            "tags": []
          }
        },
        {
          "output_type": "stream",
          "text": [
            "\n",
            "[Succeeded / Failed / Total] 6 / 1 / 7:  80%|████████  | 8/10 [01:30<00:22, 11.31s/it]\u001b[A\n",
            "[Succeeded / Failed / Total] 7 / 1 / 8:  80%|████████  | 8/10 [01:30<00:22, 11.31s/it]\u001b[A"
          ],
          "name": "stderr"
        },
        {
          "output_type": "display_data",
          "data": {
            "text/html": [
              "<font color = red>1 (100%)</font> --> <font color = green>2 (51%)</font><br><font color = red>I</font> used to <font color = red>love</font> D&B when it first opened in the Waterfront, but it <font color = red>has</font> <font color = red>gone</font> down hill over the years. The <font color = red>games</font> are not as fun and do not give you as many tickets and the prizes have gotten cheaper in quality. It takes a whole heck of a lot of tickets for you to even <font color = red>get</font> a pencil! The <font color = red>atmosphere</font> is okay but it used to be so much better with the funnest games and diverse groups of people! Now, it is <font color = red>run</font> down and many of the games are app related games (Fruit Ninja) and 3D Experience rides. With such \\\"\"games\\\"\", you can't even earn tickets and they take a lot of tokens! Last time I went, back in the winter, many of the games were broken, which made for a <font color = red>negative</font> player experience. I would go to D&B to play some games again in the future, but it is no longer one of my favorite places to go due to the decline of fun games where you can earn tickets.<br><font color = green>me</font> used to <font color = green>dear</font> D&B when it first opened in the Waterfront, but it <font color = green>possesses</font> <font color = green>outof</font> down hill over the years. The <font color = green>jeux</font> are not as fun and do not give you as many tickets and the prizes have gotten cheaper in quality. It takes a whole heck of a lot of tickets for you to even <font color = green>do</font> a pencil! The <font color = green>atmospheric</font> is okay but it used to be so much better with the funnest games and diverse groups of people! Now, it is <font color = green>executed</font> down and many of the games are app related games (Fruit Ninja) and 3D Experience rides. With such \\\"\"games\\\"\", you can't even earn tickets and they take a lot of tokens! Last time I went, back in the winter, many of the games were broken, which made for a <font color = green>devastating</font> player experience. I would go to D&B to play some games again in the future, but it is no longer one of my favorite places to go due to the decline of fun games where you can earn tickets."
            ],
            "text/plain": [
              "<IPython.core.display.HTML object>"
            ]
          },
          "metadata": {
            "tags": []
          }
        },
        {
          "output_type": "stream",
          "text": [
            "\n",
            "[Succeeded / Failed / Total] 7 / 1 / 8:  90%|█████████ | 9/10 [01:44<00:11, 11.62s/it]\u001b[A\n",
            "[Succeeded / Failed / Total] 8 / 1 / 9:  90%|█████████ | 9/10 [01:44<00:11, 11.62s/it]\u001b[A"
          ],
          "name": "stderr"
        },
        {
          "output_type": "display_data",
          "data": {
            "text/html": [
              "<font color = green>2 (100%)</font> --> <font color = red>1 (60%)</font><br><font color = green>Like</font> any Barnes & Noble, it has a nice <font color = green>comfy</font> cafe, and a large selection of books.  The staff is very friendly and <font color = green>helpful</font>.  They stock a decent selection, and the <font color = green>prices</font> are <font color = green>pretty</font> <font color = green>reasonable</font>.  Obviously it's <font color = green>hard</font> for them to compete with Amazon.  However since all the small shop <font color = green>bookstores</font> are gone, it's nice to walk into one every once in a while.<br><font color = red>Iike</font> any Barnes & Noble, it has a nice <font color = red>roomy</font> cafe, and a large selection of books.  The staff is very friendly and <font color = red>affirmative</font>.  They stock a decent selection, and the <font color = red>prize</font> are <font color = red>somewhat</font> <font color = red>satisfactory</font>.  Obviously it's <font color = red>harsh</font> for them to compete with Amazon.  However since all the small shop <font color = red>bookshelf</font> are gone, it's nice to walk into one every once in a while."
            ],
            "text/plain": [
              "<IPython.core.display.HTML object>"
            ]
          },
          "metadata": {
            "tags": []
          }
        },
        {
          "output_type": "stream",
          "text": [
            "\n",
            "[Succeeded / Failed / Total] 8 / 1 / 9: 100%|██████████| 10/10 [01:53<00:00, 11.34s/it]\u001b[A\n",
            "[Succeeded / Failed / Total] 9 / 1 / 10: 100%|██████████| 10/10 [01:53<00:00, 11.34s/it]"
          ],
          "name": "stderr"
        },
        {
          "output_type": "stream",
          "text": [
            "+-------------------------------+--------+\n",
            "| Attack Results                |        |\n",
            "+-------------------------------+--------+\n",
            "| Number of successful attacks: | 9      |\n",
            "| Number of failed attacks:     | 1      |\n",
            "| Number of skipped attacks:    | 0      |\n",
            "| Original accuracy:            | 100.0% |\n",
            "| Accuracy under attack:        | 10.0%  |\n",
            "| Attack success rate:          | 90.0%  |\n",
            "| Average perturbed word %:     | 5.61%  |\n",
            "| Average num. words per input: | 121.2  |\n",
            "| Avg num queries:              | 313.5  |\n",
            "+-------------------------------+--------+"
          ],
          "name": "stdout"
        },
        {
          "output_type": "stream",
          "text": [
            "\n",
            "\u001b[34;1mtextattack\u001b[0m: Attack time: 113.43649959564209s\n"
          ],
          "name": "stderr"
        }
      ]
    },
    {
      "cell_type": "code",
      "metadata": {
        "colab": {
          "base_uri": "https://localhost:8080/",
          "height": 1000
        },
        "id": "_23v0KbK5DJp",
        "outputId": "6d45704d-a65a-4096-a81b-8542cf9b70a6"
      },
      "source": [
        "attack_stats(attack1, dataset, 15)"
      ],
      "execution_count": 21,
      "outputs": [
        {
          "output_type": "stream",
          "text": [
            "\n",
            "  0%|          | 0/15 [00:00<?, ?it/s]\u001b[A"
          ],
          "name": "stderr"
        },
        {
          "output_type": "stream",
          "text": [
            "Attack(\n",
            "  (search_method): GreedyWordSwapWIR(\n",
            "    (wir_method):  delete\n",
            "  )\n",
            "  (goal_function):  UntargetedClassification\n",
            "  (transformation):  WordSwapEmbedding(\n",
            "    (max_candidates):  50\n",
            "    (embedding):  WordEmbedding\n",
            "  )\n",
            "  (constraints): \n",
            "    (0): WordEmbeddingDistance(\n",
            "        (embedding):  WordEmbedding\n",
            "        (min_cos_sim):  0.5\n",
            "        (cased):  False\n",
            "        (include_unknown_words):  True\n",
            "        (compare_against_original):  True\n",
            "      )\n",
            "    (1): PartOfSpeech(\n",
            "        (tagger_type):  nltk\n",
            "        (tagset):  universal\n",
            "        (allow_verb_noun_swap):  True\n",
            "        (compare_against_original):  True\n",
            "      )\n",
            "    (2): UniversalSentenceEncoder(\n",
            "        (metric):  angular\n",
            "        (threshold):  0.840845057\n",
            "        (window_size):  15\n",
            "        (skip_text_shorter_than_window):  True\n",
            "        (compare_against_original):  False\n",
            "      )\n",
            "    (3): RepeatModification\n",
            "    (4): StopwordModification\n",
            "    (5): InputColumnModification(\n",
            "        (matching_column_labels):  ['premise', 'hypothesis']\n",
            "        (columns_to_ignore):  {'premise'}\n",
            "      )\n",
            "  (is_black_box):  True\n",
            ")\n"
          ],
          "name": "stdout"
        },
        {
          "output_type": "display_data",
          "data": {
            "text/html": [
              "<font color = green>2 (100%)</font> --> <font color = red>1 (56%)</font><br>Contrary to other reviews, I have zero <font color = green>complaints</font> about the service or the prices. I have been getting tire service here for the past 5 years now, and compared to my experience with places like Pep Boys, these <font color = green>guys</font> are experienced and <font color = green>know</font> what they're doing. \\nAlso, this is one place that I do not feel like I am being taken advantage of, just because of my gender. Other auto mechanics have been notorious for capitalizing on my ignorance of cars, and have sucked my bank account dry. But here, my service and road coverage has all been <font color = green>well</font> explained - and let up to me to decide. \\nAnd they just renovated the waiting room. It looks a lot better than it did in <font color = green>previous</font> years.<br>Contrary to other reviews, I have zero <font color = red>assertion</font> about the service or the prices. I have been getting tire service here for the past 5 years now, and compared to my experience with places like Pep Boys, these <font color = red>males</font> are experienced and <font color = red>savoir</font> what they're doing. \\nAlso, this is one place that I do not feel like I am being taken advantage of, just because of my gender. Other auto mechanics have been notorious for capitalizing on my ignorance of cars, and have sucked my bank account dry. But here, my service and road coverage has all been <font color = red>too</font> explained - and let up to me to decide. \\nAnd they just renovated the waiting room. It looks a lot better than it did in <font color = red>senior</font> years."
            ],
            "text/plain": [
              "<IPython.core.display.HTML object>"
            ]
          },
          "metadata": {
            "tags": []
          }
        },
        {
          "output_type": "stream",
          "text": [
            "\n",
            "  7%|▋         | 1/15 [00:09<02:16,  9.77s/it]\u001b[A\n",
            "[Succeeded / Failed / Total] 1 / 0 / 1:   7%|▋         | 1/15 [00:09<02:17,  9.79s/it]\u001b[A"
          ],
          "name": "stderr"
        },
        {
          "output_type": "display_data",
          "data": {
            "text/html": [
              "<font color = red>1 (100%)</font> --> <font color = green>2 (57%)</font><br>Last summer I had an appointment to get new tires and had to wait a super long time. I also went in this week for them to fix a minor problem with a tire they put on. They \\\"\"<font color = red>fixed</font>\\\"\" it for free, and the very next morning I had the same issue. I called to complain, and the \\\"\"manager\\\"\" didn't even apologize!!! <font color = red>So</font> <font color = red>frustrated</font>. <font color = red>Never</font> <font color = red>going</font> back.  They seem overpriced, too.<br>Last summer I had an appointment to get new tires and had to wait a super long time. I also went in this week for them to fix a minor problem with a tire they put on. They \\\"\"<font color = green>fixes</font>\\\"\" it for free, and the very next morning I had the same issue. I called to complain, and the \\\"\"manager\\\"\" didn't even apologize!!! <font color = green>However</font> <font color = green>thwart</font>. <font color = green>Nadie</font> <font color = green>will</font> back.  They seem overpriced, too."
            ],
            "text/plain": [
              "<IPython.core.display.HTML object>"
            ]
          },
          "metadata": {
            "tags": []
          }
        },
        {
          "output_type": "stream",
          "text": [
            "\n",
            "[Succeeded / Failed / Total] 1 / 0 / 1:  13%|█▎        | 2/15 [00:17<01:51,  8.61s/it]\u001b[A\n",
            "[Succeeded / Failed / Total] 2 / 0 / 2:  13%|█▎        | 2/15 [00:17<01:52,  8.62s/it]\u001b[A"
          ],
          "name": "stderr"
        },
        {
          "output_type": "display_data",
          "data": {
            "text/html": [
              "<font color = green>2 (73%)</font> --> <font color = red>1 (59%)</font><br><font color = green>Friendly</font> staff, same starbucks fair you get anywhere else.  Sometimes the lines can get long.<br><font color = red>Hospitable</font> staff, same starbucks fair you get anywhere else.  Sometimes the lines can get long."
            ],
            "text/plain": [
              "<IPython.core.display.HTML object>"
            ]
          },
          "metadata": {
            "tags": []
          }
        },
        {
          "output_type": "stream",
          "text": [
            "\n",
            "[Succeeded / Failed / Total] 2 / 0 / 2:  20%|██        | 3/15 [00:18<01:15,  6.26s/it]\u001b[A\n",
            "[Succeeded / Failed / Total] 3 / 0 / 3:  20%|██        | 3/15 [00:18<01:15,  6.27s/it]\u001b[A"
          ],
          "name": "stderr"
        },
        {
          "output_type": "display_data",
          "data": {
            "text/html": [
              "<font color = red>1 (98%)</font> --> <font color = green>2 (73%)</font><br>The <font color = red>food</font> is good. <font color = red>Unfortunately</font> the service is very hit or miss. The main issue seems to be with the kitchen, the waiters and waitresses are often very apologetic for the long waits and it's pretty obvious that some of them avoid the tables after taking the initial order to avoid hearing complaints.<br>The <font color = green>nourishment</font> is good. <font color = green>Sadly</font> the service is very hit or miss. The main issue seems to be with the kitchen, the waiters and waitresses are often very apologetic for the long waits and it's pretty obvious that some of them avoid the tables after taking the initial order to avoid hearing complaints."
            ],
            "text/plain": [
              "<IPython.core.display.HTML object>"
            ]
          },
          "metadata": {
            "tags": []
          }
        },
        {
          "output_type": "stream",
          "text": [
            "\n",
            "[Succeeded / Failed / Total] 3 / 0 / 3:  27%|██▋       | 4/15 [00:22<01:01,  5.59s/it]\u001b[A\n",
            "[Succeeded / Failed / Total] 4 / 0 / 4:  27%|██▋       | 4/15 [00:22<01:01,  5.59s/it]\u001b[A"
          ],
          "name": "stderr"
        },
        {
          "output_type": "display_data",
          "data": {
            "text/html": [
              "<font color = green>2 (100%)</font> --> <font color = red>1 (60%)</font><br>Even when we didn't have a car Filene's Basement was worth the bus trip to the Waterfront. I always find something (usually I find 3-4 things and spend about $60) and better still, I am always still wearing the clothes and shoes 3 months later. \\n\\nI <font color = green>kind</font> of suspect this is the <font color = green>best</font> shopping in Pittsburgh; it's much better than the usual department stores, <font color = green>better</font> than Marshall's and <font color = green>TJ</font> Maxx and better than the <font color = green>Saks</font> downtown, even when it has a sale. Selection, <font color = green>bargains</font> AND quality.\\n\\nI <font color = green>like</font> this Filene's <font color = green>better</font> than Gabriel Brothers, which are harder to get to. Gabriel Brothers are a real discount shopper's challenge and I'm afraid I didn't live in Pittsburgh long enough to develop the necessary skills . . . Filene's was still up and running in June 2007 when I left <font color = green>town</font>.<br>Even when we didn't have a car Filene's Basement was worth the bus trip to the Waterfront. I always find something (usually I find 3-4 things and spend about $60) and better still, I am always still wearing the clothes and shoes 3 months later. \\n\\nI <font color = red>ranks</font> of suspect this is the <font color = red>alright</font> shopping in Pittsburgh; it's much better than the usual department stores, <font color = red>preferable</font> than Marshall's and <font color = red>TIJUANA</font> Maxx and better than the <font color = red>Sachs</font> downtown, even when it has a sale. Selection, <font color = red>relates</font> AND quality.\\n\\nI <font color = red>iike</font> this Filene's <font color = red>more</font> than Gabriel Brothers, which are harder to get to. Gabriel Brothers are a real discount shopper's challenge and I'm afraid I didn't live in Pittsburgh long enough to develop the necessary skills . . . Filene's was still up and running in June 2007 when I left <font color = red>mayor</font>."
            ],
            "text/plain": [
              "<IPython.core.display.HTML object>"
            ]
          },
          "metadata": {
            "tags": []
          }
        },
        {
          "output_type": "stream",
          "text": [
            "\n",
            "[Succeeded / Failed / Total] 4 / 0 / 4:  33%|███▎      | 5/15 [00:34<01:09,  6.92s/it]\u001b[A\n",
            "[Succeeded / Failed / Total] 5 / 0 / 5:  33%|███▎      | 5/15 [00:34<01:09,  6.92s/it]\u001b[A"
          ],
          "name": "stderr"
        },
        {
          "output_type": "display_data",
          "data": {
            "text/html": [
              "<font color = green>2 (100%)</font> --> <font color = red>1 (57%)</font><br>Picture Billy Joel's \\\"\"Piano Man\\\"\" DOUBLED mixed with beer, a rowdy crowd, and comedy - Welcome to Sing Sing!  A <font color = green>unique</font> musical <font color = green>experience</font> found in <font color = green>Homestead</font>.\\n\\nIf you're looking to grab a bite to eat or a beer, come on in!  Serving food and brews from Rock Bottom Brewery, Sing Sing keeps your tummy full while you listen to two (or more) amazingly <font color = green>talented</font> pianists take your <font color = green>musical</font> requests.  They'll play anything you'd like, for tips of course.  Wanting to hear Britney Spears?  Toto?  Duran Duran?  Yep, they play that... new or old.\\n\\nThe crowd <font color = green>makes</font> the show, so make sure you come ready for a good time.  <font color = green>If</font> the crowd is dead, it's harder for the Guys to get a reaction.  If you're wanting to have some fun, it can be a GREAT time!  It's the <font color = green>perfect</font> place for Birthday parties - especially if you want to embarrass a friend.  The guys will bring them up to the pianos and perform a little ditty.  For being a good sport, you get the coveted Sing Sing bumper sticker.  Now who wouldn't want that?\\n\\nDueling Pianos and brews... time to Shut Up & Sing Sing!<br>Picture Billy Joel's \\\"\"Piano Man\\\"\" DOUBLED mixed with beer, a rowdy crowd, and comedy - Welcome to Sing Sing!  A <font color = red>unequaled</font> musical <font color = red>experienced</font> found in <font color = red>Townsville</font>.\\n\\nIf you're looking to grab a bite to eat or a beer, come on in!  Serving food and brews from Rock Bottom Brewery, Sing Sing keeps your tummy full while you listen to two (or more) amazingly <font color = red>prodigy</font> pianists take your <font color = red>musician</font> requests.  They'll play anything you'd like, for tips of course.  Wanting to hear Britney Spears?  Toto?  Duran Duran?  Yep, they play that... new or old.\\n\\nThe crowd <font color = red>facto</font> the show, so make sure you come ready for a good time.  <font color = red>Except</font> the crowd is dead, it's harder for the Guys to get a reaction.  If you're wanting to have some fun, it can be a GREAT time!  It's the <font color = red>innocent</font> place for Birthday parties - especially if you want to embarrass a friend.  The guys will bring them up to the pianos and perform a little ditty.  For being a good sport, you get the coveted Sing Sing bumper sticker.  Now who wouldn't want that?\\n\\nDueling Pianos and brews... time to Shut Up & Sing Sing!"
            ],
            "text/plain": [
              "<IPython.core.display.HTML object>"
            ]
          },
          "metadata": {
            "tags": []
          }
        },
        {
          "output_type": "stream",
          "text": [
            "\n",
            "[Succeeded / Failed / Total] 5 / 0 / 5:  40%|████      | 6/15 [00:48<01:13,  8.11s/it]\u001b[A\n",
            "[Succeeded / Failed / Total] 6 / 0 / 6:  40%|████      | 6/15 [00:48<01:13,  8.11s/it]\u001b[A"
          ],
          "name": "stderr"
        },
        {
          "output_type": "display_data",
          "data": {
            "text/html": [
              "<font color = red>1 (100%)</font> --> <font color = red>[FAILED]</font><br>Mediocre service. COLD food! Our food waited so long the lettuce & pickles wilted. Bland food. Crazy overpriced. Long waits in the arcade. 1 beer per hour maximum.  Avoid at all costs. Fair manager."
            ],
            "text/plain": [
              "<IPython.core.display.HTML object>"
            ]
          },
          "metadata": {
            "tags": []
          }
        },
        {
          "output_type": "stream",
          "text": [
            "\n",
            "[Succeeded / Failed / Total] 6 / 0 / 6:  47%|████▋     | 7/15 [01:16<01:27, 10.99s/it]\u001b[A\n",
            "[Succeeded / Failed / Total] 6 / 1 / 7:  47%|████▋     | 7/15 [01:16<01:27, 10.99s/it]\u001b[A"
          ],
          "name": "stderr"
        },
        {
          "output_type": "display_data",
          "data": {
            "text/html": [
              "<font color = red>1 (100%)</font> --> <font color = green>2 (99%)</font><br>Ok! Let me tell you about my <font color = red>bad</font> <font color = red>experience</font> first. I went to D&B last night for a post wedding party - which, side note, is a great idea!\\n\\nIt was around midnight and the bar wasn't really populated. There were three bartenders and only one was actually making rounds to see if anyone needed anything. The two other bartenders were chatting on the far side of the bar that no one was sitting at. Kind of counter productive if you ask me. \\n\\nI stood there for about 5 minutes, which for a busy bar is fine but when I am the only one with my card out then, it just seems a little ridiculous. I made eye contact with the one girl twice and gave her a smile and she literally turned away. I finally had to walk to them to get their attention.  I was standing right in front of them smiling and they didn't ask if i need anything. I finally said, \\\"\"Are you working?\\\"\" and they gave each other a weird look. I felt like i was the crazy one. I asked for a beer/got the beer.\\n\\nIn between that time, the other bartender brought food over and set it down. She took a fry from the plate (right in front of me) and then served it to someone on the other side of the bar. What the hell! I felt like i was in some grimy bar in out in the sticks - not an established D&B. \\n\\nI was just really turned off from that experience. \\n\\nThe good is that D&B provides a different type of entertainment when you want to mix things up. I remember going here with my grandparents when I was a kid and it was the best treat ever! We would eat at the restaurant and then spend hours playing games. This place holds some really good memories for me. \\n\\nIt's a shame that my experience last night has spoiled the high standards I held for it.<br>Ok! Let me tell you about my <font color = green>untoward</font> <font color = green>savoring</font> first. I went to D&B last night for a post wedding party - which, side note, is a great idea!\\n\\nIt was around midnight and the bar wasn't really populated. There were three bartenders and only one was actually making rounds to see if anyone needed anything. The two other bartenders were chatting on the far side of the bar that no one was sitting at. Kind of counter productive if you ask me. \\n\\nI stood there for about 5 minutes, which for a busy bar is fine but when I am the only one with my card out then, it just seems a little ridiculous. I made eye contact with the one girl twice and gave her a smile and she literally turned away. I finally had to walk to them to get their attention.  I was standing right in front of them smiling and they didn't ask if i need anything. I finally said, \\\"\"Are you working?\\\"\" and they gave each other a weird look. I felt like i was the crazy one. I asked for a beer/got the beer.\\n\\nIn between that time, the other bartender brought food over and set it down. She took a fry from the plate (right in front of me) and then served it to someone on the other side of the bar. What the hell! I felt like i was in some grimy bar in out in the sticks - not an established D&B. \\n\\nI was just really turned off from that experience. \\n\\nThe good is that D&B provides a different type of entertainment when you want to mix things up. I remember going here with my grandparents when I was a kid and it was the best treat ever! We would eat at the restaurant and then spend hours playing games. This place holds some really good memories for me. \\n\\nIt's a shame that my experience last night has spoiled the high standards I held for it."
            ],
            "text/plain": [
              "<IPython.core.display.HTML object>"
            ]
          },
          "metadata": {
            "tags": []
          }
        },
        {
          "output_type": "stream",
          "text": [
            "\n",
            "[Succeeded / Failed / Total] 6 / 1 / 7:  53%|█████▎    | 8/15 [01:30<01:19, 11.32s/it]\u001b[A\n",
            "[Succeeded / Failed / Total] 7 / 1 / 8:  53%|█████▎    | 8/15 [01:30<01:19, 11.32s/it]\u001b[A"
          ],
          "name": "stderr"
        },
        {
          "output_type": "display_data",
          "data": {
            "text/html": [
              "<font color = red>1 (100%)</font> --> <font color = green>2 (51%)</font><br><font color = red>I</font> used to <font color = red>love</font> D&B when it first opened in the Waterfront, but it <font color = red>has</font> <font color = red>gone</font> down hill over the years. The <font color = red>games</font> are not as fun and do not give you as many tickets and the prizes have gotten cheaper in quality. It takes a whole heck of a lot of tickets for you to even <font color = red>get</font> a pencil! The <font color = red>atmosphere</font> is okay but it used to be so much better with the funnest games and diverse groups of people! Now, it is <font color = red>run</font> down and many of the games are app related games (Fruit Ninja) and 3D Experience rides. With such \\\"\"games\\\"\", you can't even earn tickets and they take a lot of tokens! Last time I went, back in the winter, many of the games were broken, which made for a <font color = red>negative</font> player experience. I would go to D&B to play some games again in the future, but it is no longer one of my favorite places to go due to the decline of fun games where you can earn tickets.<br><font color = green>me</font> used to <font color = green>dear</font> D&B when it first opened in the Waterfront, but it <font color = green>possesses</font> <font color = green>outof</font> down hill over the years. The <font color = green>jeux</font> are not as fun and do not give you as many tickets and the prizes have gotten cheaper in quality. It takes a whole heck of a lot of tickets for you to even <font color = green>do</font> a pencil! The <font color = green>atmospheric</font> is okay but it used to be so much better with the funnest games and diverse groups of people! Now, it is <font color = green>executed</font> down and many of the games are app related games (Fruit Ninja) and 3D Experience rides. With such \\\"\"games\\\"\", you can't even earn tickets and they take a lot of tokens! Last time I went, back in the winter, many of the games were broken, which made for a <font color = green>devastating</font> player experience. I would go to D&B to play some games again in the future, but it is no longer one of my favorite places to go due to the decline of fun games where you can earn tickets."
            ],
            "text/plain": [
              "<IPython.core.display.HTML object>"
            ]
          },
          "metadata": {
            "tags": []
          }
        },
        {
          "output_type": "stream",
          "text": [
            "\n",
            "[Succeeded / Failed / Total] 7 / 1 / 8:  60%|██████    | 9/15 [01:44<01:09, 11.62s/it]\u001b[A\n",
            "[Succeeded / Failed / Total] 8 / 1 / 9:  60%|██████    | 9/15 [01:44<01:09, 11.62s/it]\u001b[A"
          ],
          "name": "stderr"
        },
        {
          "output_type": "display_data",
          "data": {
            "text/html": [
              "<font color = green>2 (100%)</font> --> <font color = red>1 (60%)</font><br><font color = green>Like</font> any Barnes & Noble, it has a nice <font color = green>comfy</font> cafe, and a large selection of books.  The staff is very friendly and <font color = green>helpful</font>.  They stock a decent selection, and the <font color = green>prices</font> are <font color = green>pretty</font> <font color = green>reasonable</font>.  Obviously it's <font color = green>hard</font> for them to compete with Amazon.  However since all the small shop <font color = green>bookstores</font> are gone, it's nice to walk into one every once in a while.<br><font color = red>Iike</font> any Barnes & Noble, it has a nice <font color = red>roomy</font> cafe, and a large selection of books.  The staff is very friendly and <font color = red>affirmative</font>.  They stock a decent selection, and the <font color = red>prize</font> are <font color = red>somewhat</font> <font color = red>satisfactory</font>.  Obviously it's <font color = red>harsh</font> for them to compete with Amazon.  However since all the small shop <font color = red>bookshelf</font> are gone, it's nice to walk into one every once in a while."
            ],
            "text/plain": [
              "<IPython.core.display.HTML object>"
            ]
          },
          "metadata": {
            "tags": []
          }
        },
        {
          "output_type": "stream",
          "text": [
            "\n",
            "[Succeeded / Failed / Total] 8 / 1 / 9:  67%|██████▋   | 10/15 [01:53<00:56, 11.33s/it]\u001b[A\n",
            "[Succeeded / Failed / Total] 9 / 1 / 10:  67%|██████▋   | 10/15 [01:53<00:56, 11.33s/it]\u001b[A"
          ],
          "name": "stderr"
        },
        {
          "output_type": "display_data",
          "data": {
            "text/html": [
              "<font color = red>1 (100%)</font> --> <font color = green>2 (51%)</font><br><font color = red>Meh</font>, I've <font color = red>experienced</font> <font color = red>better</font> is an understatement.\\n\\nFriday's is <font color = red>like</font> the \\\"\"<font color = red>fine</font> <font color = red>dining</font> <font color = red>chain</font>\\\"\" for every yinzer in Pittsburgh...\\n\\n1.  When we were <font color = red>seated</font>, it was quick which was a <font color = red>surprise</font>.  Somehow this <font color = red>restaurant</font> <font color = red>gets</font> <font color = red>packed</font> and <font color = red>I</font> never <font color = red>understand</font> why.  I was <font color = red>happy</font> about that.\\n2.  <font color = red>I</font> <font color = red>ordered</font> one of their \\\"\"skinny margaritas\\\"\", blackberry to be <font color = red>exact</font>.  It was a nice size, however, at $6.00/pop, that was half of my food bill.\\n3.  The waitress started off attentive, but after our food came out she was gone.  I ordered a turkey burger with <font color = red>pickle</font> and mustard.  Loaded mashed potato on the side <font color = red>because</font> I wanted heartburn <font color = red>ha</font>!\\n4.  Food <font color = red>came</font>.  My burger had lettuce on it only.  Waitress was supposed to <font color = red>go</font> and <font color = red>get</font> our next <font color = red>round</font> of drinks.  I had to <font color = red>wait</font> to <font color = red>ask</font> for my <font color = red>pickle</font>.\\n5.  The loaded potatoes were more like rubber than potatoes and not what I was expecting.  Disappointment.\\n6.  The <font color = red>waitress</font> then went into oblivion and only returned with our check.  \\n\\nNever again will I eat at Friday's.  I will, however, go should a happy hour arise...<br><font color = green>Gots</font>, I've <font color = green>realised</font> <font color = green>higher</font> is an understatement.\\n\\nFriday's is <font color = green>adore</font> the \\\"\"<font color = green>sumptuous</font> <font color = green>dinning</font> <font color = green>fetters</font>\\\"\" for every yinzer in Pittsburgh...\\n\\n1.  When we were <font color = green>seat</font>, it was quick which was a <font color = green>amazement</font>.  Somehow this <font color = green>luncheon</font> <font color = green>perceive</font> <font color = green>enveloped</font> and <font color = green>yo</font> never <font color = green>encompasses</font> why.  I was <font color = green>fortunate</font> about that.\\n2.  <font color = green>me</font> <font color = green>ordained</font> one of their \\\"\"skinny margaritas\\\"\", blackberry to be <font color = green>meticulous</font>.  It was a nice size, however, at $6.00/pop, that was half of my food bill.\\n3.  The waitress started off attentive, but after our food came out she was gone.  I ordered a turkey burger with <font color = green>cucumber</font> and mustard.  Loaded mashed potato on the side <font color = green>since</font> I wanted heartburn <font color = green>acres</font>!\\n4.  Food <font color = green>entry</font>.  My burger had lettuce on it only.  Waitress was supposed to <font color = green>skip</font> and <font color = green>learns</font> our next <font color = green>rounded</font> of drinks.  I had to <font color = green>expectancy</font> to <font color = green>pose</font> for my <font color = green>cider</font>.\\n5.  The loaded potatoes were more like rubber than potatoes and not what I was expecting.  Disappointment.\\n6.  The <font color = green>waiter</font> then went into oblivion and only returned with our check.  \\n\\nNever again will I eat at Friday's.  I will, however, go should a happy hour arise..."
            ],
            "text/plain": [
              "<IPython.core.display.HTML object>"
            ]
          },
          "metadata": {
            "tags": []
          }
        },
        {
          "output_type": "stream",
          "text": [
            "\n",
            "[Succeeded / Failed / Total] 9 / 1 / 10:  73%|███████▎  | 11/15 [02:29<00:54, 13.58s/it]\u001b[A\n",
            "[Succeeded / Failed / Total] 10 / 1 / 11:  73%|███████▎  | 11/15 [02:29<00:54, 13.58s/it]\u001b[A"
          ],
          "name": "stderr"
        },
        {
          "output_type": "display_data",
          "data": {
            "text/html": [
              "<font color = green>2 (100%)</font> --> <font color = red>1 (56%)</font><br>Unos <font color = green>has</font> been around for ever, & I feel like this <font color = green>restaurant</font> chain <font color = green>peak</font> in <font color = green>popularity</font> in the 80's. <font color = green>Honestly</font> the decor inside <font color = green>still</font> <font color = green>kind</font> of <font color = green>looks</font> 80s to me even <font color = green>though</font> its nice with <font color = green>sleek</font> booth and <font color = green>exposed</font> <font color = green>brick</font>.\\n\\nIf you haven't <font color = green>died</font> and he recently I ordered you to come back and have a meal here again because honestly the food is really quite good!\\n\\nThey have the <font color = green>best</font> chicken salad wrap ever! I love that rap so much I want agreed to walk the south side River Trail from where the Steelers practice all the way to the damn waterfront just because I knew that I could convince my boyfriend to go to Unos with me for lunch.  Full disclosure:  I made him call is a cab and we took a taxi back to the parking lot after lunch.\\n\\nListen... The food and pizza and service are very good, surprisingly so! I don't know why this place is not busier but next time you're down at the Waterfront please do consider dining here!<br>Unos <font color = red>had</font> been around for ever, & I feel like this <font color = red>cafeteria</font> chain <font color = red>culmination</font> in <font color = red>trendy</font> in the 80's. <font color = red>Outright</font> the decor inside <font color = red>instead</font> <font color = red>ranking</font> of <font color = red>appears</font> 80s to me even <font color = red>unless</font> its nice with <font color = red>chic</font> booth and <font color = red>disclosed</font> <font color = red>mah</font>.\\n\\nIf you haven't <font color = red>succumb</font> and he recently I ordered you to come back and have a meal here again because honestly the food is really quite good!\\n\\nThey have the <font color = red>happiest</font> chicken salad wrap ever! I love that rap so much I want agreed to walk the south side River Trail from where the Steelers practice all the way to the damn waterfront just because I knew that I could convince my boyfriend to go to Unos with me for lunch.  Full disclosure:  I made him call is a cab and we took a taxi back to the parking lot after lunch.\\n\\nListen... The food and pizza and service are very good, surprisingly so! I don't know why this place is not busier but next time you're down at the Waterfront please do consider dining here!"
            ],
            "text/plain": [
              "<IPython.core.display.HTML object>"
            ]
          },
          "metadata": {
            "tags": []
          }
        },
        {
          "output_type": "stream",
          "text": [
            "\n",
            "[Succeeded / Failed / Total] 10 / 1 / 11:  80%|████████  | 12/15 [02:49<00:42, 14.15s/it]\u001b[A\n",
            "[Succeeded / Failed / Total] 11 / 1 / 12:  80%|████████  | 12/15 [02:49<00:42, 14.15s/it]\u001b[A"
          ],
          "name": "stderr"
        },
        {
          "output_type": "display_data",
          "data": {
            "text/html": [
              "<font color = red>1 (100%)</font> --> <font color = green>2 (61%)</font><br>Stars are for the food only.    2.5 rating\\<font color = red>n</font>\\nGot there at 8pm on Saturday <font color = red>night</font>, they told <font color = red>us</font> it was an hour <font color = red>wait</font> which was <font color = red>expected</font>, but it only took 30minutes to <font color = red>be</font> <font color = red>seated</font> <font color = red>so</font> that was a bonus.  <font color = red>Started</font> off with the lettuce <font color = red>wraps</font> and i used to <font color = red>be</font> a fan of these but they just seem to bore me now(FYI-love the lettuce <font color = red>wraps</font> at the <font color = red>cheesecake</font> factory).  I <font color = red>had</font> the Singapore <font color = red>rice</font> noodles.  <font color = red>This</font> was <font color = red>so</font> <font color = red>so</font> as i thought immediately that lu lu noodles and asian cafe are <font color = red>better</font>.  The <font color = red>fried</font> rice was disappointing and the <font color = red>vegetables</font> <font color = red>tasted</font> <font color = red>raw</font>.   Some good notes were the Dynamite shrimp, plump, juicy, <font color = red>tangy</font> with a <font color = red>small</font> kick.    Sweet and sour chicken was just the same minus the kick. \\<font color = red>n</font>\\nThe service was <font color = red>annoying</font>.   We were there less than 45 minutes and it <font color = red>seemed</font> like our <font color = red>waiter</font> was in a <font color = red>rush</font> to <font color = red>get</font> us out of there.   <font color = red>Constantly</font> <font color = red>asking</font> if he could <font color = red>remove</font> my <font color = red>plate</font>.  I <font color = red>had</font> to sternly <font color = red>say</font> at one <font color = red>point</font> that I <font color = red>will</font> <font color = red>let</font> you <font color = red>know</font> when i am <font color = red>finished</font>.  I <font color = red>found</font> it <font color = red>rude</font> <font color = red>especially</font> <font color = red>since</font>  there wasn't even a <font color = red>line</font> at this <font color = red>point</font>.  \\n\\nI think we will travel elsewhere following a movie.  The result never quite met the anticipation.<br>Stars are for the food only.    2.5 rating\\<font color = green>nth</font>\\nGot there at 8pm on Saturday <font color = green>nights</font>, they told <font color = green>ourselves</font> it was an hour <font color = green>anticipation</font> which was <font color = green>expectations</font>, but it only took 30minutes to <font color = green>get</font> <font color = green>seats</font> <font color = green>why</font> that was a bonus.  <font color = green>Starts</font> off with the lettuce <font color = green>adapts</font> and i used to <font color = green>remain</font> a fan of these but they just seem to bore me now(FYI-love the lettuce <font color = green>envelops</font> at the <font color = green>pastries</font> factory).  I <font color = green>acres</font> the Singapore <font color = green>reyes</font> noodles.  <font color = green>These</font> was <font color = green>till</font> <font color = green>furthermore</font> as i thought immediately that lu lu noodles and asian cafe are <font color = green>more</font>.  The <font color = green>shaved</font> rice was disappointing and the <font color = green>kale</font> <font color = green>devour</font> <font color = green>coarse</font>.   Some good notes were the Dynamite shrimp, plump, juicy, <font color = green>stewed</font> with a <font color = green>restrained</font> kick.    Sweet and sour chicken was just the same minus the kick. \\<font color = green>ies</font>\\nThe service was <font color = green>exasperating</font>.   We were there less than 45 minutes and it <font color = green>noticed</font> like our <font color = green>waitress</font> was in a <font color = green>quicker</font> to <font color = green>getting</font> us out of there.   <font color = green>Continual</font> <font color = green>inviting</font> if he could <font color = green>suppress</font> my <font color = green>plates</font>.  I <font color = green>ha</font> to sternly <font color = green>explaining</font> at one <font color = green>aspect</font> that I <font color = green>goes</font> <font color = green>enables</font> you <font color = green>see</font> when i am <font color = green>closing</font>.  I <font color = green>discovering</font> it <font color = green>impolite</font> <font color = green>mainly</font> <font color = green>before</font>  there wasn't even a <font color = green>lines</font> at this <font color = green>dot</font>.  \\n\\nI think we will travel elsewhere following a movie.  The result never quite met the anticipation."
            ],
            "text/plain": [
              "<IPython.core.display.HTML object>"
            ]
          },
          "metadata": {
            "tags": []
          }
        },
        {
          "output_type": "stream",
          "text": [
            "\n",
            "[Succeeded / Failed / Total] 11 / 1 / 12:  87%|████████▋ | 13/15 [03:59<00:36, 18.41s/it]\u001b[A\n",
            "[Succeeded / Failed / Total] 12 / 1 / 13:  87%|████████▋ | 13/15 [03:59<00:36, 18.41s/it]\u001b[A"
          ],
          "name": "stderr"
        },
        {
          "output_type": "display_data",
          "data": {
            "text/html": [
              "<font color = red>1 (100%)</font> --> <font color = green>2 (93%)</font><br>Our <font color = red>last</font> few <font color = red>visits</font> have <font color = red>left</font> something to desire, One of the things I always notice is the demeanor of an establishments employees. These people look <font color = red>miserable</font>, no one <font color = red>smiles</font> or greets you appropriately, it's more like get in, get out, turn the tables,\\n\\nThe food has remained consistently good... when we can order it. the last time JB and I came for a quick dinner, the place was not busy yet we were passed by 6 frowning waitstaff without getting drinks... for 15 minutes we were left suiting at our table with our menus closed and sitting on the edge of the table (HINT, HINT) so we left and most likely will not be <font color = red>returning</font>.<br>Our <font color = green>ultimate</font> few <font color = green>visitations</font> have <font color = green>gauche</font> something to desire, One of the things I always notice is the demeanor of an establishments employees. These people look <font color = green>woeful</font>, no one <font color = green>stares</font> or greets you appropriately, it's more like get in, get out, turn the tables,\\n\\nThe food has remained consistently good... when we can order it. the last time JB and I came for a quick dinner, the place was not busy yet we were passed by 6 frowning waitstaff without getting drinks... for 15 minutes we were left suiting at our table with our menus closed and sitting on the edge of the table (HINT, HINT) so we left and most likely will not be <font color = green>setback</font>."
            ],
            "text/plain": [
              "<IPython.core.display.HTML object>"
            ]
          },
          "metadata": {
            "tags": []
          }
        },
        {
          "output_type": "stream",
          "text": [
            "\n",
            "[Succeeded / Failed / Total] 12 / 1 / 13:  93%|█████████▎| 14/15 [04:08<00:17, 17.77s/it]\u001b[A\n",
            "[Succeeded / Failed / Total] 13 / 1 / 14:  93%|█████████▎| 14/15 [04:08<00:17, 17.77s/it]\u001b[A"
          ],
          "name": "stderr"
        },
        {
          "output_type": "display_data",
          "data": {
            "text/html": [
              "<font color = green>2 (100%)</font> --> <font color = red>1 (52%)</font><br>Good <font color = green>quality</font> pork fried dumpling and mongo beef.  Bar service was fast and Efficent.   <font color = green>Good</font> value.  Not a 5 cause dragon eye tea was cold first time around and beef had minor amount of <font color = green>fat</font>.   <font color = green>Fortune</font> was even Postive!<br>Good <font color = red>qualifications</font> pork fried dumpling and mongo beef.  Bar service was fast and Efficent.   <font color = red>Fine</font> value.  Not a 5 cause dragon eye tea was cold first time around and beef had minor amount of <font color = red>fatty</font>.   <font color = red>Luck</font> was even Postive!"
            ],
            "text/plain": [
              "<IPython.core.display.HTML object>"
            ]
          },
          "metadata": {
            "tags": []
          }
        },
        {
          "output_type": "stream",
          "text": [
            "\n",
            "[Succeeded / Failed / Total] 13 / 1 / 14: 100%|██████████| 15/15 [04:12<00:00, 16.86s/it]\u001b[A\n",
            "[Succeeded / Failed / Total] 14 / 1 / 15: 100%|██████████| 15/15 [04:12<00:00, 16.86s/it]"
          ],
          "name": "stderr"
        },
        {
          "output_type": "stream",
          "text": [
            "+-------------------------------+--------+\n",
            "| Attack Results                |        |\n",
            "+-------------------------------+--------+\n",
            "| Number of successful attacks: | 14     |\n",
            "| Number of failed attacks:     | 1      |\n",
            "| Number of skipped attacks:    | 0      |\n",
            "| Original accuracy:            | 100.0% |\n",
            "| Accuracy under attack:        | 6.67%  |\n",
            "| Attack success rate:          | 93.33% |\n",
            "| Average perturbed word %:     | 7.95%  |\n",
            "| Average num. words per input: | 130.07 |\n",
            "| Avg num queries:              | 452.2  |\n",
            "+-------------------------------+--------+"
          ],
          "name": "stdout"
        },
        {
          "output_type": "stream",
          "text": [
            "\n",
            "\u001b[34;1mtextattack\u001b[0m: Attack time: 252.93022108078003s\n"
          ],
          "name": "stderr"
        }
      ]
    },
    {
      "cell_type": "code",
      "metadata": {
        "colab": {
          "base_uri": "https://localhost:8080/",
          "height": 1000
        },
        "id": "ogCx0SL85ERv",
        "outputId": "e4041a4a-5056-473a-95ac-bc096c2944ea"
      },
      "source": [
        "attack_stats(attack1, dataset, 20)"
      ],
      "execution_count": 22,
      "outputs": [
        {
          "output_type": "stream",
          "text": [
            "\n",
            "  0%|          | 0/20 [00:00<?, ?it/s]\u001b[A"
          ],
          "name": "stderr"
        },
        {
          "output_type": "stream",
          "text": [
            "Attack(\n",
            "  (search_method): GreedyWordSwapWIR(\n",
            "    (wir_method):  delete\n",
            "  )\n",
            "  (goal_function):  UntargetedClassification\n",
            "  (transformation):  WordSwapEmbedding(\n",
            "    (max_candidates):  50\n",
            "    (embedding):  WordEmbedding\n",
            "  )\n",
            "  (constraints): \n",
            "    (0): WordEmbeddingDistance(\n",
            "        (embedding):  WordEmbedding\n",
            "        (min_cos_sim):  0.5\n",
            "        (cased):  False\n",
            "        (include_unknown_words):  True\n",
            "        (compare_against_original):  True\n",
            "      )\n",
            "    (1): PartOfSpeech(\n",
            "        (tagger_type):  nltk\n",
            "        (tagset):  universal\n",
            "        (allow_verb_noun_swap):  True\n",
            "        (compare_against_original):  True\n",
            "      )\n",
            "    (2): UniversalSentenceEncoder(\n",
            "        (metric):  angular\n",
            "        (threshold):  0.840845057\n",
            "        (window_size):  15\n",
            "        (skip_text_shorter_than_window):  True\n",
            "        (compare_against_original):  False\n",
            "      )\n",
            "    (3): RepeatModification\n",
            "    (4): StopwordModification\n",
            "    (5): InputColumnModification(\n",
            "        (matching_column_labels):  ['premise', 'hypothesis']\n",
            "        (columns_to_ignore):  {'premise'}\n",
            "      )\n",
            "  (is_black_box):  True\n",
            ")\n"
          ],
          "name": "stdout"
        },
        {
          "output_type": "display_data",
          "data": {
            "text/html": [
              "<font color = green>2 (100%)</font> --> <font color = red>1 (56%)</font><br>Contrary to other reviews, I have zero <font color = green>complaints</font> about the service or the prices. I have been getting tire service here for the past 5 years now, and compared to my experience with places like Pep Boys, these <font color = green>guys</font> are experienced and <font color = green>know</font> what they're doing. \\nAlso, this is one place that I do not feel like I am being taken advantage of, just because of my gender. Other auto mechanics have been notorious for capitalizing on my ignorance of cars, and have sucked my bank account dry. But here, my service and road coverage has all been <font color = green>well</font> explained - and let up to me to decide. \\nAnd they just renovated the waiting room. It looks a lot better than it did in <font color = green>previous</font> years.<br>Contrary to other reviews, I have zero <font color = red>assertion</font> about the service or the prices. I have been getting tire service here for the past 5 years now, and compared to my experience with places like Pep Boys, these <font color = red>males</font> are experienced and <font color = red>savoir</font> what they're doing. \\nAlso, this is one place that I do not feel like I am being taken advantage of, just because of my gender. Other auto mechanics have been notorious for capitalizing on my ignorance of cars, and have sucked my bank account dry. But here, my service and road coverage has all been <font color = red>too</font> explained - and let up to me to decide. \\nAnd they just renovated the waiting room. It looks a lot better than it did in <font color = red>senior</font> years."
            ],
            "text/plain": [
              "<IPython.core.display.HTML object>"
            ]
          },
          "metadata": {
            "tags": []
          }
        },
        {
          "output_type": "stream",
          "text": [
            "\n",
            "  5%|▌         | 1/20 [00:09<03:04,  9.70s/it]\u001b[A\n",
            "[Succeeded / Failed / Total] 1 / 0 / 1:   5%|▌         | 1/20 [00:09<03:04,  9.71s/it]\u001b[A"
          ],
          "name": "stderr"
        },
        {
          "output_type": "display_data",
          "data": {
            "text/html": [
              "<font color = red>1 (100%)</font> --> <font color = green>2 (57%)</font><br>Last summer I had an appointment to get new tires and had to wait a super long time. I also went in this week for them to fix a minor problem with a tire they put on. They \\\"\"<font color = red>fixed</font>\\\"\" it for free, and the very next morning I had the same issue. I called to complain, and the \\\"\"manager\\\"\" didn't even apologize!!! <font color = red>So</font> <font color = red>frustrated</font>. <font color = red>Never</font> <font color = red>going</font> back.  They seem overpriced, too.<br>Last summer I had an appointment to get new tires and had to wait a super long time. I also went in this week for them to fix a minor problem with a tire they put on. They \\\"\"<font color = green>fixes</font>\\\"\" it for free, and the very next morning I had the same issue. I called to complain, and the \\\"\"manager\\\"\" didn't even apologize!!! <font color = green>However</font> <font color = green>thwart</font>. <font color = green>Nadie</font> <font color = green>will</font> back.  They seem overpriced, too."
            ],
            "text/plain": [
              "<IPython.core.display.HTML object>"
            ]
          },
          "metadata": {
            "tags": []
          }
        },
        {
          "output_type": "stream",
          "text": [
            "\n",
            "[Succeeded / Failed / Total] 1 / 0 / 1:  10%|█         | 2/20 [00:17<02:33,  8.55s/it]\u001b[A\n",
            "[Succeeded / Failed / Total] 2 / 0 / 2:  10%|█         | 2/20 [00:17<02:34,  8.56s/it]\u001b[A"
          ],
          "name": "stderr"
        },
        {
          "output_type": "display_data",
          "data": {
            "text/html": [
              "<font color = green>2 (73%)</font> --> <font color = red>1 (59%)</font><br><font color = green>Friendly</font> staff, same starbucks fair you get anywhere else.  Sometimes the lines can get long.<br><font color = red>Hospitable</font> staff, same starbucks fair you get anywhere else.  Sometimes the lines can get long."
            ],
            "text/plain": [
              "<IPython.core.display.HTML object>"
            ]
          },
          "metadata": {
            "tags": []
          }
        },
        {
          "output_type": "stream",
          "text": [
            "\n",
            "[Succeeded / Failed / Total] 2 / 0 / 2:  15%|█▌        | 3/20 [00:18<01:45,  6.22s/it]\u001b[A\n",
            "[Succeeded / Failed / Total] 3 / 0 / 3:  15%|█▌        | 3/20 [00:18<01:45,  6.22s/it]\u001b[A"
          ],
          "name": "stderr"
        },
        {
          "output_type": "display_data",
          "data": {
            "text/html": [
              "<font color = red>1 (98%)</font> --> <font color = green>2 (73%)</font><br>The <font color = red>food</font> is good. <font color = red>Unfortunately</font> the service is very hit or miss. The main issue seems to be with the kitchen, the waiters and waitresses are often very apologetic for the long waits and it's pretty obvious that some of them avoid the tables after taking the initial order to avoid hearing complaints.<br>The <font color = green>nourishment</font> is good. <font color = green>Sadly</font> the service is very hit or miss. The main issue seems to be with the kitchen, the waiters and waitresses are often very apologetic for the long waits and it's pretty obvious that some of them avoid the tables after taking the initial order to avoid hearing complaints."
            ],
            "text/plain": [
              "<IPython.core.display.HTML object>"
            ]
          },
          "metadata": {
            "tags": []
          }
        },
        {
          "output_type": "stream",
          "text": [
            "\n",
            "[Succeeded / Failed / Total] 3 / 0 / 3:  20%|██        | 4/20 [00:22<01:28,  5.55s/it]\u001b[A\n",
            "[Succeeded / Failed / Total] 4 / 0 / 4:  20%|██        | 4/20 [00:22<01:28,  5.55s/it]\u001b[A"
          ],
          "name": "stderr"
        },
        {
          "output_type": "display_data",
          "data": {
            "text/html": [
              "<font color = green>2 (100%)</font> --> <font color = red>1 (60%)</font><br>Even when we didn't have a car Filene's Basement was worth the bus trip to the Waterfront. I always find something (usually I find 3-4 things and spend about $60) and better still, I am always still wearing the clothes and shoes 3 months later. \\n\\nI <font color = green>kind</font> of suspect this is the <font color = green>best</font> shopping in Pittsburgh; it's much better than the usual department stores, <font color = green>better</font> than Marshall's and <font color = green>TJ</font> Maxx and better than the <font color = green>Saks</font> downtown, even when it has a sale. Selection, <font color = green>bargains</font> AND quality.\\n\\nI <font color = green>like</font> this Filene's <font color = green>better</font> than Gabriel Brothers, which are harder to get to. Gabriel Brothers are a real discount shopper's challenge and I'm afraid I didn't live in Pittsburgh long enough to develop the necessary skills . . . Filene's was still up and running in June 2007 when I left <font color = green>town</font>.<br>Even when we didn't have a car Filene's Basement was worth the bus trip to the Waterfront. I always find something (usually I find 3-4 things and spend about $60) and better still, I am always still wearing the clothes and shoes 3 months later. \\n\\nI <font color = red>ranks</font> of suspect this is the <font color = red>alright</font> shopping in Pittsburgh; it's much better than the usual department stores, <font color = red>preferable</font> than Marshall's and <font color = red>TIJUANA</font> Maxx and better than the <font color = red>Sachs</font> downtown, even when it has a sale. Selection, <font color = red>relates</font> AND quality.\\n\\nI <font color = red>iike</font> this Filene's <font color = red>more</font> than Gabriel Brothers, which are harder to get to. Gabriel Brothers are a real discount shopper's challenge and I'm afraid I didn't live in Pittsburgh long enough to develop the necessary skills . . . Filene's was still up and running in June 2007 when I left <font color = red>mayor</font>."
            ],
            "text/plain": [
              "<IPython.core.display.HTML object>"
            ]
          },
          "metadata": {
            "tags": []
          }
        },
        {
          "output_type": "stream",
          "text": [
            "\n",
            "[Succeeded / Failed / Total] 4 / 0 / 4:  25%|██▌       | 5/20 [00:34<01:42,  6.86s/it]\u001b[A\n",
            "[Succeeded / Failed / Total] 5 / 0 / 5:  25%|██▌       | 5/20 [00:34<01:42,  6.86s/it]\u001b[A"
          ],
          "name": "stderr"
        },
        {
          "output_type": "display_data",
          "data": {
            "text/html": [
              "<font color = green>2 (100%)</font> --> <font color = red>1 (57%)</font><br>Picture Billy Joel's \\\"\"Piano Man\\\"\" DOUBLED mixed with beer, a rowdy crowd, and comedy - Welcome to Sing Sing!  A <font color = green>unique</font> musical <font color = green>experience</font> found in <font color = green>Homestead</font>.\\n\\nIf you're looking to grab a bite to eat or a beer, come on in!  Serving food and brews from Rock Bottom Brewery, Sing Sing keeps your tummy full while you listen to two (or more) amazingly <font color = green>talented</font> pianists take your <font color = green>musical</font> requests.  They'll play anything you'd like, for tips of course.  Wanting to hear Britney Spears?  Toto?  Duran Duran?  Yep, they play that... new or old.\\n\\nThe crowd <font color = green>makes</font> the show, so make sure you come ready for a good time.  <font color = green>If</font> the crowd is dead, it's harder for the Guys to get a reaction.  If you're wanting to have some fun, it can be a GREAT time!  It's the <font color = green>perfect</font> place for Birthday parties - especially if you want to embarrass a friend.  The guys will bring them up to the pianos and perform a little ditty.  For being a good sport, you get the coveted Sing Sing bumper sticker.  Now who wouldn't want that?\\n\\nDueling Pianos and brews... time to Shut Up & Sing Sing!<br>Picture Billy Joel's \\\"\"Piano Man\\\"\" DOUBLED mixed with beer, a rowdy crowd, and comedy - Welcome to Sing Sing!  A <font color = red>unequaled</font> musical <font color = red>experienced</font> found in <font color = red>Townsville</font>.\\n\\nIf you're looking to grab a bite to eat or a beer, come on in!  Serving food and brews from Rock Bottom Brewery, Sing Sing keeps your tummy full while you listen to two (or more) amazingly <font color = red>prodigy</font> pianists take your <font color = red>musician</font> requests.  They'll play anything you'd like, for tips of course.  Wanting to hear Britney Spears?  Toto?  Duran Duran?  Yep, they play that... new or old.\\n\\nThe crowd <font color = red>facto</font> the show, so make sure you come ready for a good time.  <font color = red>Except</font> the crowd is dead, it's harder for the Guys to get a reaction.  If you're wanting to have some fun, it can be a GREAT time!  It's the <font color = red>innocent</font> place for Birthday parties - especially if you want to embarrass a friend.  The guys will bring them up to the pianos and perform a little ditty.  For being a good sport, you get the coveted Sing Sing bumper sticker.  Now who wouldn't want that?\\n\\nDueling Pianos and brews... time to Shut Up & Sing Sing!"
            ],
            "text/plain": [
              "<IPython.core.display.HTML object>"
            ]
          },
          "metadata": {
            "tags": []
          }
        },
        {
          "output_type": "stream",
          "text": [
            "\n",
            "[Succeeded / Failed / Total] 5 / 0 / 5:  30%|███       | 6/20 [00:48<01:53,  8.08s/it]\u001b[A\n",
            "[Succeeded / Failed / Total] 6 / 0 / 6:  30%|███       | 6/20 [00:48<01:53,  8.08s/it]\u001b[A"
          ],
          "name": "stderr"
        },
        {
          "output_type": "display_data",
          "data": {
            "text/html": [
              "<font color = red>1 (100%)</font> --> <font color = red>[FAILED]</font><br>Mediocre service. COLD food! Our food waited so long the lettuce & pickles wilted. Bland food. Crazy overpriced. Long waits in the arcade. 1 beer per hour maximum.  Avoid at all costs. Fair manager."
            ],
            "text/plain": [
              "<IPython.core.display.HTML object>"
            ]
          },
          "metadata": {
            "tags": []
          }
        },
        {
          "output_type": "stream",
          "text": [
            "\n",
            "[Succeeded / Failed / Total] 6 / 0 / 6:  35%|███▌      | 7/20 [01:16<02:22, 10.95s/it]\u001b[A\n",
            "[Succeeded / Failed / Total] 6 / 1 / 7:  35%|███▌      | 7/20 [01:16<02:22, 10.96s/it]\u001b[A"
          ],
          "name": "stderr"
        },
        {
          "output_type": "display_data",
          "data": {
            "text/html": [
              "<font color = red>1 (100%)</font> --> <font color = green>2 (99%)</font><br>Ok! Let me tell you about my <font color = red>bad</font> <font color = red>experience</font> first. I went to D&B last night for a post wedding party - which, side note, is a great idea!\\n\\nIt was around midnight and the bar wasn't really populated. There were three bartenders and only one was actually making rounds to see if anyone needed anything. The two other bartenders were chatting on the far side of the bar that no one was sitting at. Kind of counter productive if you ask me. \\n\\nI stood there for about 5 minutes, which for a busy bar is fine but when I am the only one with my card out then, it just seems a little ridiculous. I made eye contact with the one girl twice and gave her a smile and she literally turned away. I finally had to walk to them to get their attention.  I was standing right in front of them smiling and they didn't ask if i need anything. I finally said, \\\"\"Are you working?\\\"\" and they gave each other a weird look. I felt like i was the crazy one. I asked for a beer/got the beer.\\n\\nIn between that time, the other bartender brought food over and set it down. She took a fry from the plate (right in front of me) and then served it to someone on the other side of the bar. What the hell! I felt like i was in some grimy bar in out in the sticks - not an established D&B. \\n\\nI was just really turned off from that experience. \\n\\nThe good is that D&B provides a different type of entertainment when you want to mix things up. I remember going here with my grandparents when I was a kid and it was the best treat ever! We would eat at the restaurant and then spend hours playing games. This place holds some really good memories for me. \\n\\nIt's a shame that my experience last night has spoiled the high standards I held for it.<br>Ok! Let me tell you about my <font color = green>untoward</font> <font color = green>savoring</font> first. I went to D&B last night for a post wedding party - which, side note, is a great idea!\\n\\nIt was around midnight and the bar wasn't really populated. There were three bartenders and only one was actually making rounds to see if anyone needed anything. The two other bartenders were chatting on the far side of the bar that no one was sitting at. Kind of counter productive if you ask me. \\n\\nI stood there for about 5 minutes, which for a busy bar is fine but when I am the only one with my card out then, it just seems a little ridiculous. I made eye contact with the one girl twice and gave her a smile and she literally turned away. I finally had to walk to them to get their attention.  I was standing right in front of them smiling and they didn't ask if i need anything. I finally said, \\\"\"Are you working?\\\"\" and they gave each other a weird look. I felt like i was the crazy one. I asked for a beer/got the beer.\\n\\nIn between that time, the other bartender brought food over and set it down. She took a fry from the plate (right in front of me) and then served it to someone on the other side of the bar. What the hell! I felt like i was in some grimy bar in out in the sticks - not an established D&B. \\n\\nI was just really turned off from that experience. \\n\\nThe good is that D&B provides a different type of entertainment when you want to mix things up. I remember going here with my grandparents when I was a kid and it was the best treat ever! We would eat at the restaurant and then spend hours playing games. This place holds some really good memories for me. \\n\\nIt's a shame that my experience last night has spoiled the high standards I held for it."
            ],
            "text/plain": [
              "<IPython.core.display.HTML object>"
            ]
          },
          "metadata": {
            "tags": []
          }
        },
        {
          "output_type": "stream",
          "text": [
            "\n",
            "[Succeeded / Failed / Total] 6 / 1 / 7:  40%|████      | 8/20 [01:30<02:15, 11.28s/it]\u001b[A\n",
            "[Succeeded / Failed / Total] 7 / 1 / 8:  40%|████      | 8/20 [01:30<02:15, 11.28s/it]\u001b[A"
          ],
          "name": "stderr"
        },
        {
          "output_type": "display_data",
          "data": {
            "text/html": [
              "<font color = red>1 (100%)</font> --> <font color = green>2 (51%)</font><br><font color = red>I</font> used to <font color = red>love</font> D&B when it first opened in the Waterfront, but it <font color = red>has</font> <font color = red>gone</font> down hill over the years. The <font color = red>games</font> are not as fun and do not give you as many tickets and the prizes have gotten cheaper in quality. It takes a whole heck of a lot of tickets for you to even <font color = red>get</font> a pencil! The <font color = red>atmosphere</font> is okay but it used to be so much better with the funnest games and diverse groups of people! Now, it is <font color = red>run</font> down and many of the games are app related games (Fruit Ninja) and 3D Experience rides. With such \\\"\"games\\\"\", you can't even earn tickets and they take a lot of tokens! Last time I went, back in the winter, many of the games were broken, which made for a <font color = red>negative</font> player experience. I would go to D&B to play some games again in the future, but it is no longer one of my favorite places to go due to the decline of fun games where you can earn tickets.<br><font color = green>me</font> used to <font color = green>dear</font> D&B when it first opened in the Waterfront, but it <font color = green>possesses</font> <font color = green>outof</font> down hill over the years. The <font color = green>jeux</font> are not as fun and do not give you as many tickets and the prizes have gotten cheaper in quality. It takes a whole heck of a lot of tickets for you to even <font color = green>do</font> a pencil! The <font color = green>atmospheric</font> is okay but it used to be so much better with the funnest games and diverse groups of people! Now, it is <font color = green>executed</font> down and many of the games are app related games (Fruit Ninja) and 3D Experience rides. With such \\\"\"games\\\"\", you can't even earn tickets and they take a lot of tokens! Last time I went, back in the winter, many of the games were broken, which made for a <font color = green>devastating</font> player experience. I would go to D&B to play some games again in the future, but it is no longer one of my favorite places to go due to the decline of fun games where you can earn tickets."
            ],
            "text/plain": [
              "<IPython.core.display.HTML object>"
            ]
          },
          "metadata": {
            "tags": []
          }
        },
        {
          "output_type": "stream",
          "text": [
            "\n",
            "[Succeeded / Failed / Total] 7 / 1 / 8:  45%|████▌     | 9/20 [01:44<02:07, 11.58s/it]\u001b[A\n",
            "[Succeeded / Failed / Total] 8 / 1 / 9:  45%|████▌     | 9/20 [01:44<02:07, 11.58s/it]\u001b[A"
          ],
          "name": "stderr"
        },
        {
          "output_type": "display_data",
          "data": {
            "text/html": [
              "<font color = green>2 (100%)</font> --> <font color = red>1 (60%)</font><br><font color = green>Like</font> any Barnes & Noble, it has a nice <font color = green>comfy</font> cafe, and a large selection of books.  The staff is very friendly and <font color = green>helpful</font>.  They stock a decent selection, and the <font color = green>prices</font> are <font color = green>pretty</font> <font color = green>reasonable</font>.  Obviously it's <font color = green>hard</font> for them to compete with Amazon.  However since all the small shop <font color = green>bookstores</font> are gone, it's nice to walk into one every once in a while.<br><font color = red>Iike</font> any Barnes & Noble, it has a nice <font color = red>roomy</font> cafe, and a large selection of books.  The staff is very friendly and <font color = red>affirmative</font>.  They stock a decent selection, and the <font color = red>prize</font> are <font color = red>somewhat</font> <font color = red>satisfactory</font>.  Obviously it's <font color = red>harsh</font> for them to compete with Amazon.  However since all the small shop <font color = red>bookshelf</font> are gone, it's nice to walk into one every once in a while."
            ],
            "text/plain": [
              "<IPython.core.display.HTML object>"
            ]
          },
          "metadata": {
            "tags": []
          }
        },
        {
          "output_type": "stream",
          "text": [
            "\n",
            "[Succeeded / Failed / Total] 8 / 1 / 9:  50%|█████     | 10/20 [01:52<01:52, 11.30s/it]\u001b[A\n",
            "[Succeeded / Failed / Total] 9 / 1 / 10:  50%|█████     | 10/20 [01:52<01:52, 11.30s/it]\u001b[A"
          ],
          "name": "stderr"
        },
        {
          "output_type": "display_data",
          "data": {
            "text/html": [
              "<font color = red>1 (100%)</font> --> <font color = green>2 (51%)</font><br><font color = red>Meh</font>, I've <font color = red>experienced</font> <font color = red>better</font> is an understatement.\\n\\nFriday's is <font color = red>like</font> the \\\"\"<font color = red>fine</font> <font color = red>dining</font> <font color = red>chain</font>\\\"\" for every yinzer in Pittsburgh...\\n\\n1.  When we were <font color = red>seated</font>, it was quick which was a <font color = red>surprise</font>.  Somehow this <font color = red>restaurant</font> <font color = red>gets</font> <font color = red>packed</font> and <font color = red>I</font> never <font color = red>understand</font> why.  I was <font color = red>happy</font> about that.\\n2.  <font color = red>I</font> <font color = red>ordered</font> one of their \\\"\"skinny margaritas\\\"\", blackberry to be <font color = red>exact</font>.  It was a nice size, however, at $6.00/pop, that was half of my food bill.\\n3.  The waitress started off attentive, but after our food came out she was gone.  I ordered a turkey burger with <font color = red>pickle</font> and mustard.  Loaded mashed potato on the side <font color = red>because</font> I wanted heartburn <font color = red>ha</font>!\\n4.  Food <font color = red>came</font>.  My burger had lettuce on it only.  Waitress was supposed to <font color = red>go</font> and <font color = red>get</font> our next <font color = red>round</font> of drinks.  I had to <font color = red>wait</font> to <font color = red>ask</font> for my <font color = red>pickle</font>.\\n5.  The loaded potatoes were more like rubber than potatoes and not what I was expecting.  Disappointment.\\n6.  The <font color = red>waitress</font> then went into oblivion and only returned with our check.  \\n\\nNever again will I eat at Friday's.  I will, however, go should a happy hour arise...<br><font color = green>Gots</font>, I've <font color = green>realised</font> <font color = green>higher</font> is an understatement.\\n\\nFriday's is <font color = green>adore</font> the \\\"\"<font color = green>sumptuous</font> <font color = green>dinning</font> <font color = green>fetters</font>\\\"\" for every yinzer in Pittsburgh...\\n\\n1.  When we were <font color = green>seat</font>, it was quick which was a <font color = green>amazement</font>.  Somehow this <font color = green>luncheon</font> <font color = green>perceive</font> <font color = green>enveloped</font> and <font color = green>yo</font> never <font color = green>encompasses</font> why.  I was <font color = green>fortunate</font> about that.\\n2.  <font color = green>me</font> <font color = green>ordained</font> one of their \\\"\"skinny margaritas\\\"\", blackberry to be <font color = green>meticulous</font>.  It was a nice size, however, at $6.00/pop, that was half of my food bill.\\n3.  The waitress started off attentive, but after our food came out she was gone.  I ordered a turkey burger with <font color = green>cucumber</font> and mustard.  Loaded mashed potato on the side <font color = green>since</font> I wanted heartburn <font color = green>acres</font>!\\n4.  Food <font color = green>entry</font>.  My burger had lettuce on it only.  Waitress was supposed to <font color = green>skip</font> and <font color = green>learns</font> our next <font color = green>rounded</font> of drinks.  I had to <font color = green>expectancy</font> to <font color = green>pose</font> for my <font color = green>cider</font>.\\n5.  The loaded potatoes were more like rubber than potatoes and not what I was expecting.  Disappointment.\\n6.  The <font color = green>waiter</font> then went into oblivion and only returned with our check.  \\n\\nNever again will I eat at Friday's.  I will, however, go should a happy hour arise..."
            ],
            "text/plain": [
              "<IPython.core.display.HTML object>"
            ]
          },
          "metadata": {
            "tags": []
          }
        },
        {
          "output_type": "stream",
          "text": [
            "\n",
            "[Succeeded / Failed / Total] 9 / 1 / 10:  55%|█████▌    | 11/20 [02:29<02:01, 13.56s/it]\u001b[A\n",
            "[Succeeded / Failed / Total] 10 / 1 / 11:  55%|█████▌    | 11/20 [02:29<02:02, 13.56s/it]\u001b[A"
          ],
          "name": "stderr"
        },
        {
          "output_type": "display_data",
          "data": {
            "text/html": [
              "<font color = green>2 (100%)</font> --> <font color = red>1 (56%)</font><br>Unos <font color = green>has</font> been around for ever, & I feel like this <font color = green>restaurant</font> chain <font color = green>peak</font> in <font color = green>popularity</font> in the 80's. <font color = green>Honestly</font> the decor inside <font color = green>still</font> <font color = green>kind</font> of <font color = green>looks</font> 80s to me even <font color = green>though</font> its nice with <font color = green>sleek</font> booth and <font color = green>exposed</font> <font color = green>brick</font>.\\n\\nIf you haven't <font color = green>died</font> and he recently I ordered you to come back and have a meal here again because honestly the food is really quite good!\\n\\nThey have the <font color = green>best</font> chicken salad wrap ever! I love that rap so much I want agreed to walk the south side River Trail from where the Steelers practice all the way to the damn waterfront just because I knew that I could convince my boyfriend to go to Unos with me for lunch.  Full disclosure:  I made him call is a cab and we took a taxi back to the parking lot after lunch.\\n\\nListen... The food and pizza and service are very good, surprisingly so! I don't know why this place is not busier but next time you're down at the Waterfront please do consider dining here!<br>Unos <font color = red>had</font> been around for ever, & I feel like this <font color = red>cafeteria</font> chain <font color = red>culmination</font> in <font color = red>trendy</font> in the 80's. <font color = red>Outright</font> the decor inside <font color = red>instead</font> <font color = red>ranking</font> of <font color = red>appears</font> 80s to me even <font color = red>unless</font> its nice with <font color = red>chic</font> booth and <font color = red>disclosed</font> <font color = red>mah</font>.\\n\\nIf you haven't <font color = red>succumb</font> and he recently I ordered you to come back and have a meal here again because honestly the food is really quite good!\\n\\nThey have the <font color = red>happiest</font> chicken salad wrap ever! I love that rap so much I want agreed to walk the south side River Trail from where the Steelers practice all the way to the damn waterfront just because I knew that I could convince my boyfriend to go to Unos with me for lunch.  Full disclosure:  I made him call is a cab and we took a taxi back to the parking lot after lunch.\\n\\nListen... The food and pizza and service are very good, surprisingly so! I don't know why this place is not busier but next time you're down at the Waterfront please do consider dining here!"
            ],
            "text/plain": [
              "<IPython.core.display.HTML object>"
            ]
          },
          "metadata": {
            "tags": []
          }
        },
        {
          "output_type": "stream",
          "text": [
            "\n",
            "[Succeeded / Failed / Total] 10 / 1 / 11:  60%|██████    | 12/20 [02:49<01:52, 14.12s/it]\u001b[A\n",
            "[Succeeded / Failed / Total] 11 / 1 / 12:  60%|██████    | 12/20 [02:49<01:53, 14.13s/it]\u001b[A"
          ],
          "name": "stderr"
        },
        {
          "output_type": "display_data",
          "data": {
            "text/html": [
              "<font color = red>1 (100%)</font> --> <font color = green>2 (61%)</font><br>Stars are for the food only.    2.5 rating\\<font color = red>n</font>\\nGot there at 8pm on Saturday <font color = red>night</font>, they told <font color = red>us</font> it was an hour <font color = red>wait</font> which was <font color = red>expected</font>, but it only took 30minutes to <font color = red>be</font> <font color = red>seated</font> <font color = red>so</font> that was a bonus.  <font color = red>Started</font> off with the lettuce <font color = red>wraps</font> and i used to <font color = red>be</font> a fan of these but they just seem to bore me now(FYI-love the lettuce <font color = red>wraps</font> at the <font color = red>cheesecake</font> factory).  I <font color = red>had</font> the Singapore <font color = red>rice</font> noodles.  <font color = red>This</font> was <font color = red>so</font> <font color = red>so</font> as i thought immediately that lu lu noodles and asian cafe are <font color = red>better</font>.  The <font color = red>fried</font> rice was disappointing and the <font color = red>vegetables</font> <font color = red>tasted</font> <font color = red>raw</font>.   Some good notes were the Dynamite shrimp, plump, juicy, <font color = red>tangy</font> with a <font color = red>small</font> kick.    Sweet and sour chicken was just the same minus the kick. \\<font color = red>n</font>\\nThe service was <font color = red>annoying</font>.   We were there less than 45 minutes and it <font color = red>seemed</font> like our <font color = red>waiter</font> was in a <font color = red>rush</font> to <font color = red>get</font> us out of there.   <font color = red>Constantly</font> <font color = red>asking</font> if he could <font color = red>remove</font> my <font color = red>plate</font>.  I <font color = red>had</font> to sternly <font color = red>say</font> at one <font color = red>point</font> that I <font color = red>will</font> <font color = red>let</font> you <font color = red>know</font> when i am <font color = red>finished</font>.  I <font color = red>found</font> it <font color = red>rude</font> <font color = red>especially</font> <font color = red>since</font>  there wasn't even a <font color = red>line</font> at this <font color = red>point</font>.  \\n\\nI think we will travel elsewhere following a movie.  The result never quite met the anticipation.<br>Stars are for the food only.    2.5 rating\\<font color = green>nth</font>\\nGot there at 8pm on Saturday <font color = green>nights</font>, they told <font color = green>ourselves</font> it was an hour <font color = green>anticipation</font> which was <font color = green>expectations</font>, but it only took 30minutes to <font color = green>get</font> <font color = green>seats</font> <font color = green>why</font> that was a bonus.  <font color = green>Starts</font> off with the lettuce <font color = green>adapts</font> and i used to <font color = green>remain</font> a fan of these but they just seem to bore me now(FYI-love the lettuce <font color = green>envelops</font> at the <font color = green>pastries</font> factory).  I <font color = green>acres</font> the Singapore <font color = green>reyes</font> noodles.  <font color = green>These</font> was <font color = green>till</font> <font color = green>furthermore</font> as i thought immediately that lu lu noodles and asian cafe are <font color = green>more</font>.  The <font color = green>shaved</font> rice was disappointing and the <font color = green>kale</font> <font color = green>devour</font> <font color = green>coarse</font>.   Some good notes were the Dynamite shrimp, plump, juicy, <font color = green>stewed</font> with a <font color = green>restrained</font> kick.    Sweet and sour chicken was just the same minus the kick. \\<font color = green>ies</font>\\nThe service was <font color = green>exasperating</font>.   We were there less than 45 minutes and it <font color = green>noticed</font> like our <font color = green>waitress</font> was in a <font color = green>quicker</font> to <font color = green>getting</font> us out of there.   <font color = green>Continual</font> <font color = green>inviting</font> if he could <font color = green>suppress</font> my <font color = green>plates</font>.  I <font color = green>ha</font> to sternly <font color = green>explaining</font> at one <font color = green>aspect</font> that I <font color = green>goes</font> <font color = green>enables</font> you <font color = green>see</font> when i am <font color = green>closing</font>.  I <font color = green>discovering</font> it <font color = green>impolite</font> <font color = green>mainly</font> <font color = green>before</font>  there wasn't even a <font color = green>lines</font> at this <font color = green>dot</font>.  \\n\\nI think we will travel elsewhere following a movie.  The result never quite met the anticipation."
            ],
            "text/plain": [
              "<IPython.core.display.HTML object>"
            ]
          },
          "metadata": {
            "tags": []
          }
        },
        {
          "output_type": "stream",
          "text": [
            "\n",
            "[Succeeded / Failed / Total] 11 / 1 / 12:  65%|██████▌   | 13/20 [03:59<02:08, 18.38s/it]\u001b[A\n",
            "[Succeeded / Failed / Total] 12 / 1 / 13:  65%|██████▌   | 13/20 [03:59<02:08, 18.39s/it]\u001b[A"
          ],
          "name": "stderr"
        },
        {
          "output_type": "display_data",
          "data": {
            "text/html": [
              "<font color = red>1 (100%)</font> --> <font color = green>2 (93%)</font><br>Our <font color = red>last</font> few <font color = red>visits</font> have <font color = red>left</font> something to desire, One of the things I always notice is the demeanor of an establishments employees. These people look <font color = red>miserable</font>, no one <font color = red>smiles</font> or greets you appropriately, it's more like get in, get out, turn the tables,\\n\\nThe food has remained consistently good... when we can order it. the last time JB and I came for a quick dinner, the place was not busy yet we were passed by 6 frowning waitstaff without getting drinks... for 15 minutes we were left suiting at our table with our menus closed and sitting on the edge of the table (HINT, HINT) so we left and most likely will not be <font color = red>returning</font>.<br>Our <font color = green>ultimate</font> few <font color = green>visitations</font> have <font color = green>gauche</font> something to desire, One of the things I always notice is the demeanor of an establishments employees. These people look <font color = green>woeful</font>, no one <font color = green>stares</font> or greets you appropriately, it's more like get in, get out, turn the tables,\\n\\nThe food has remained consistently good... when we can order it. the last time JB and I came for a quick dinner, the place was not busy yet we were passed by 6 frowning waitstaff without getting drinks... for 15 minutes we were left suiting at our table with our menus closed and sitting on the edge of the table (HINT, HINT) so we left and most likely will not be <font color = green>setback</font>."
            ],
            "text/plain": [
              "<IPython.core.display.HTML object>"
            ]
          },
          "metadata": {
            "tags": []
          }
        },
        {
          "output_type": "stream",
          "text": [
            "\n",
            "[Succeeded / Failed / Total] 12 / 1 / 13:  70%|███████   | 14/20 [04:08<01:46, 17.75s/it]\u001b[A\n",
            "[Succeeded / Failed / Total] 13 / 1 / 14:  70%|███████   | 14/20 [04:08<01:46, 17.75s/it]\u001b[A"
          ],
          "name": "stderr"
        },
        {
          "output_type": "display_data",
          "data": {
            "text/html": [
              "<font color = green>2 (100%)</font> --> <font color = red>1 (52%)</font><br>Good <font color = green>quality</font> pork fried dumpling and mongo beef.  Bar service was fast and Efficent.   <font color = green>Good</font> value.  Not a 5 cause dragon eye tea was cold first time around and beef had minor amount of <font color = green>fat</font>.   <font color = green>Fortune</font> was even Postive!<br>Good <font color = red>qualifications</font> pork fried dumpling and mongo beef.  Bar service was fast and Efficent.   <font color = red>Fine</font> value.  Not a 5 cause dragon eye tea was cold first time around and beef had minor amount of <font color = red>fatty</font>.   <font color = red>Luck</font> was even Postive!"
            ],
            "text/plain": [
              "<IPython.core.display.HTML object>"
            ]
          },
          "metadata": {
            "tags": []
          }
        },
        {
          "output_type": "stream",
          "text": [
            "\n",
            "[Succeeded / Failed / Total] 13 / 1 / 14:  75%|███████▌  | 15/20 [04:12<01:24, 16.84s/it]\u001b[A\n",
            "[Succeeded / Failed / Total] 14 / 1 / 15:  75%|███████▌  | 15/20 [04:12<01:24, 16.84s/it]\u001b[A"
          ],
          "name": "stderr"
        },
        {
          "output_type": "display_data",
          "data": {
            "text/html": [
              "<font color = red>1 (100%)</font> --> <font color = green>2 (91%)</font><br>Very <font color = red>bad</font> purchase experience. I bought a shirt with a hole covered in the rolled up sleeves, but they <font color = red>denied</font> my request to return it. I am so angery at this and will never shop their chothes anymore.<br>Very <font color = green>wicked</font> purchase experience. I bought a shirt with a hole covered in the rolled up sleeves, but they <font color = green>repudiate</font> my request to return it. I am so angery at this and will never shop their chothes anymore."
            ],
            "text/plain": [
              "<IPython.core.display.HTML object>"
            ]
          },
          "metadata": {
            "tags": []
          }
        },
        {
          "output_type": "stream",
          "text": [
            "\n",
            "[Succeeded / Failed / Total] 14 / 1 / 15:  80%|████████  | 16/20 [04:17<01:04, 16.08s/it]\u001b[A\n",
            "[Succeeded / Failed / Total] 15 / 1 / 16:  80%|████████  | 16/20 [04:17<01:04, 16.08s/it]\u001b[A"
          ],
          "name": "stderr"
        },
        {
          "output_type": "display_data",
          "data": {
            "text/html": [
              "<font color = red>1 (100%)</font> --> <font color = green>2 (75%)</font><br>When I think BBB... I think the days of simply bringing your bike in for a quick and relatively inexpensive tune-up and a few <font color = red>fixes</font> are long gone.    \\n\\nThis review is more for the repair end of BBB. <font color = red>In</font> their defense BBB does <font color = red>appear</font> to carry some amazing brands of bike (ie Colnago) that you just don't find anywhere else in Pittsburgh. \\n\\nAt BBB I was <font color = red>charged</font> $250 for a tune up and a few other things. Granted this included installing a sew up tire (which I can understand would cost approx $50), Swapping out a left side (big ring) shifter on my down tube (this should have cost approx. $20 at most) and installing new bar tape (cost of tape $20 and $20 to install?).. SO WHAT\\\"\"S WITH $140 FOR A TUNE UP? Well the story goes like this:\\n\\nI bring the bike into BBB prior to the nice weather hitting Pittsburgh in hopes of trying what people have said is a great bike shop and getting my OCLV TREK 5900 ready for the season. Turns out I don't hear from these guys. A week goes by ...two weeks...I think that's ok I have two or three other bike I can turn to for a ride. Then I wind up going out of town for a week thinking for sure I'll get a call from them re: my bike is ready to roll...but no dice. So I call. Turns out a screw snapped when the mechanic was re-installing the down tube shifter and it had to be tapped out (is that my fault?). He says \\\"\"Should be ready in a few days\\\"\". So I come in a few days later to this mammoth bill. I ask if I am paying for the labor of taping out the screw? I don't think I ever got a straight answer? I look at the bill and can't see a good breakdown of the charges. Normally I would \\\"\"duke it over\\\"\" a bill like this but I figured...I had somewhere I to be 10 minutes ago and at least I finally have my bike. I would expect that for that money my bike could have been stripped down to the frame and totally gone over (overhauled). But it wasn't.  Well BBB I'll give you a star because the mechanic did do a good job in that my cycle shifts well and the tape job on the bars looks great (nice wrap). Plus I'll toss in a star for your outstanding selection of high end cycles. Maybe I would have rated BBB higher if I was in the market for a purchase instead of a simple repair?<br>When I think BBB... I think the days of simply bringing your bike in for a quick and relatively inexpensive tune-up and a few <font color = green>repaired</font> are long gone.    \\n\\nThis review is more for the repair end of BBB. <font color = green>At</font> their defense BBB does <font color = green>demonstrates</font> to carry some amazing brands of bike (ie Colnago) that you just don't find anywhere else in Pittsburgh. \\n\\nAt BBB I was <font color = green>convicts</font> $250 for a tune up and a few other things. Granted this included installing a sew up tire (which I can understand would cost approx $50), Swapping out a left side (big ring) shifter on my down tube (this should have cost approx. $20 at most) and installing new bar tape (cost of tape $20 and $20 to install?).. SO WHAT\\\"\"S WITH $140 FOR A TUNE UP? Well the story goes like this:\\n\\nI bring the bike into BBB prior to the nice weather hitting Pittsburgh in hopes of trying what people have said is a great bike shop and getting my OCLV TREK 5900 ready for the season. Turns out I don't hear from these guys. A week goes by ...two weeks...I think that's ok I have two or three other bike I can turn to for a ride. Then I wind up going out of town for a week thinking for sure I'll get a call from them re: my bike is ready to roll...but no dice. So I call. Turns out a screw snapped when the mechanic was re-installing the down tube shifter and it had to be tapped out (is that my fault?). He says \\\"\"Should be ready in a few days\\\"\". So I come in a few days later to this mammoth bill. I ask if I am paying for the labor of taping out the screw? I don't think I ever got a straight answer? I look at the bill and can't see a good breakdown of the charges. Normally I would \\\"\"duke it over\\\"\" a bill like this but I figured...I had somewhere I to be 10 minutes ago and at least I finally have my bike. I would expect that for that money my bike could have been stripped down to the frame and totally gone over (overhauled). But it wasn't.  Well BBB I'll give you a star because the mechanic did do a good job in that my cycle shifts well and the tape job on the bars looks great (nice wrap). Plus I'll toss in a star for your outstanding selection of high end cycles. Maybe I would have rated BBB higher if I was in the market for a purchase instead of a simple repair?"
            ],
            "text/plain": [
              "<IPython.core.display.HTML object>"
            ]
          },
          "metadata": {
            "tags": []
          }
        },
        {
          "output_type": "stream",
          "text": [
            "\n",
            "[Succeeded / Failed / Total] 15 / 1 / 16:  85%|████████▌ | 17/20 [04:39<00:49, 16.43s/it]\u001b[A\n",
            "[Succeeded / Failed / Total] 16 / 1 / 17:  85%|████████▌ | 17/20 [04:39<00:49, 16.43s/it]\u001b[A"
          ],
          "name": "stderr"
        },
        {
          "output_type": "display_data",
          "data": {
            "text/html": [
              "<font color = red>1 (100%)</font> --> <font color = green>2 (74%)</font><br>My orders have <font color = red>come</font> out <font color = red>bad</font> pretty much every time I have ordered from here. The chicken <font color = red>nuggets</font> come out under <font color = red>par</font>. I'm lucky if the <font color = red>fries</font> come out right. My <font color = red>last</font> experience is the last straw. I recently posted a photo of my Chicken Ranch Club. That has no chicken. This is ridiculous. I am done going to this Mcd's.<br>My orders have <font color = green>arriving</font> out <font color = green>wicked</font> pretty much every time I have ordered from here. The chicken <font color = green>fries</font> come out under <font color = green>para</font>. I'm lucky if the <font color = green>frites</font> come out right. My <font color = green>former</font> experience is the last straw. I recently posted a photo of my Chicken Ranch Club. That has no chicken. This is ridiculous. I am done going to this Mcd's."
            ],
            "text/plain": [
              "<IPython.core.display.HTML object>"
            ]
          },
          "metadata": {
            "tags": []
          }
        },
        {
          "output_type": "stream",
          "text": [
            "\n",
            "[Succeeded / Failed / Total] 16 / 1 / 17:  90%|█████████ | 18/20 [04:45<00:31, 15.86s/it]\u001b[A\n",
            "[Succeeded / Failed / Total] 17 / 1 / 18:  90%|█████████ | 18/20 [04:45<00:31, 15.86s/it]\u001b[A"
          ],
          "name": "stderr"
        },
        {
          "output_type": "display_data",
          "data": {
            "text/html": [
              "<font color = red>1 (100%)</font> --> <font color = green>2 (65%)</font><br>Wow. What a shame. My <font color = red>family</font> just moved to the area and <font color = red>have</font> been <font color = red>sampling</font> the local <font color = red>cuisine</font>. We are a <font color = red>very</font> <font color = red>large</font> <font color = red>family</font> and <font color = red>love</font> <font color = red>foods</font> of all <font color = red>kind</font>. We've <font color = red>eaten</font> <font color = red>Chinese</font> <font color = red>food</font> from a hundred <font color = red>different</font> <font color = red>places</font> in a dozen different <font color = red>cities</font>. Hands down, this was the <font color = red>worst</font> we've ever <font color = red>had</font>. <font color = red>Cold</font>, <font color = red>tough</font>, congealed, and tasteless - that's the only <font color = red>way</font> to <font color = red>describe</font> it. I'll never <font color = red>order</font> from here again. <font color = red>Quite</font> frankly, the fact that I <font color = red>took</font> <font color = red>time</font> <font color = red>away</font> from my <font color = red>kids</font> to <font color = red>type</font> this out <font color = red>should</font> <font color = red>tell</font> you how awful it was. My <font color = red>complaints</font> <font color = red>fell</font> on deaf <font color = red>ears</font>. I <font color = red>guess</font> they were <font color = red>shocked</font> that someone <font color = red>thought</font> that they were <font color = red>serving</font> <font color = red>low</font> grade <font color = red>dog</font> food. <font color = red>I</font> <font color = red>understand</font> that <font color = red>sometimes</font> <font color = red>restaurants</font> crank out <font color = red>bad</font> <font color = red>food</font>. <font color = red>It</font> <font color = red>happens</font>. But when it <font color = red>does</font>, you <font color = red>bend</font> over <font color = red>backwards</font> to <font color = red>make</font> it <font color = red>right</font>. Not at this <font color = red>place</font>. <font color = red>I</font> was <font color = red>told</font> that he would <font color = red>have</font> to <font color = red>speak</font> with the <font color = red>owner</font> in <font color = red>order</font> to <font color = red>help</font> me. I <font color = red>guess</font> that's how they deflect <font color = red>complaints</font> - <font color = red>blame</font> it on the <font color = red>owners</font> that aren't there and <font color = red>make</font> the customer for away angry.  Too bad. Because we will be visiting a <font color = red>competitor</font> in the <font color = red>future</font>. <font color = red>This</font> family of 7 won't be visiting China Sea ever again. Oh, and by the way, why can't I give this place zero stars?<br>Wow. What a shame. My <font color = green>relatives</font> just moved to the area and <font color = green>could</font> been <font color = green>specimen</font> the local <font color = green>galley</font>. We are a <font color = green>severely</font> <font color = green>phenomenal</font> <font color = green>parents</font> and <font color = green>beloved</font> <font color = green>edible</font> of all <font color = green>categorized</font>. We've <font color = green>meals</font> <font color = green>Cantonese</font> <font color = green>meals</font> from a hundred <font color = green>other</font> <font color = green>venue</font> in a dozen different <font color = green>precinct</font>. Hands down, this was the <font color = green>finest</font> we've ever <font color = green>received</font>. <font color = green>Icy</font>, <font color = green>inhospitable</font>, congealed, and tasteless - that's the only <font color = green>shape</font> to <font color = green>indicating</font> it. I'll never <font color = green>ordinance</font> from here again. <font color = green>Perfectly</font> frankly, the fact that I <font color = green>conducted</font> <font color = green>moment</font> <font color = green>aside</font> from my <font color = green>boys</font> to <font color = green>dude</font> this out <font color = green>envisioned</font> <font color = green>chatter</font> you how awful it was. My <font color = green>claiming</font> <font color = green>stumbled</font> on deaf <font color = green>armbands</font>. I <font color = green>reckon</font> they were <font color = green>terrified</font> that someone <font color = green>perception</font> that they were <font color = green>service</font> <font color = green>feeble</font> grade <font color = green>mutt</font> food. <font color = green>me</font> <font color = green>embrace</font> that <font color = green>recurrent</font> <font color = green>eat</font> crank out <font color = green>malicious</font> <font color = green>lunch</font>. <font color = green>His</font> <font color = green>arrived</font>. But when it <font color = green>gonna</font>, you <font color = green>twisted</font> over <font color = green>backward</font> to <font color = green>pose</font> it <font color = green>correctly</font>. Not at this <font color = green>placement</font>. <font color = green>me</font> was <font color = green>proclaimed</font> that he would <font color = green>haya</font> to <font color = green>speeches</font> with the <font color = green>landowner</font> in <font color = green>edict</font> to <font color = green>attend</font> me. I <font color = green>guessing</font> that's how they deflect <font color = green>requisitions</font> - <font color = green>accuse</font> it on the <font color = green>landowner</font> that aren't there and <font color = green>accomplish</font> the customer for away angry.  Too bad. Because we will be visiting a <font color = green>competitors</font> in the <font color = green>posterior</font>. <font color = green>These</font> family of 7 won't be visiting China Sea ever again. Oh, and by the way, why can't I give this place zero stars?"
            ],
            "text/plain": [
              "<IPython.core.display.HTML object>"
            ]
          },
          "metadata": {
            "tags": []
          }
        },
        {
          "output_type": "stream",
          "text": [
            "\n",
            "[Succeeded / Failed / Total] 17 / 1 / 18:  95%|█████████▌| 19/20 [06:12<00:19, 19.61s/it]\u001b[A\n",
            "[Succeeded / Failed / Total] 18 / 1 / 19:  95%|█████████▌| 19/20 [06:12<00:19, 19.62s/it]\u001b[A"
          ],
          "name": "stderr"
        },
        {
          "output_type": "display_data",
          "data": {
            "text/html": [
              "<font color = green>2 (100%)</font> --> <font color = red>1 (93%)</font><br>I fell in <font color = green>love</font> with this place as soon as we pulled up and saw the lights strung up and  oldies coming from the speakers! \\n\\nI tried the banana cream pie hard ice cream, their scoops are very <font color = green>generous</font>!! \\n\\nMy bf got the peach cobbler hard ice cream and that was to die for! We got 4 servings of ice cream for $10, which nowadays is a steal IMO! :) \\n\\nI'll <font color = green>definitely</font> be heading back with my coworkers this week!<br>I fell in <font color = red>luv</font> with this place as soon as we pulled up and saw the lights strung up and  oldies coming from the speakers! \\n\\nI tried the banana cream pie hard ice cream, their scoops are very <font color = red>unselfish</font>!! \\n\\nMy bf got the peach cobbler hard ice cream and that was to die for! We got 4 servings of ice cream for $10, which nowadays is a steal IMO! :) \\n\\nI'll <font color = red>vehemently</font> be heading back with my coworkers this week!"
            ],
            "text/plain": [
              "<IPython.core.display.HTML object>"
            ]
          },
          "metadata": {
            "tags": []
          }
        },
        {
          "output_type": "stream",
          "text": [
            "\n",
            "[Succeeded / Failed / Total] 18 / 1 / 19: 100%|██████████| 20/20 [06:18<00:00, 18.91s/it]\u001b[A\n",
            "[Succeeded / Failed / Total] 19 / 1 / 20: 100%|██████████| 20/20 [06:18<00:00, 18.91s/it]"
          ],
          "name": "stderr"
        },
        {
          "output_type": "stream",
          "text": [
            "+-------------------------------+--------+\n",
            "| Attack Results                |        |\n",
            "+-------------------------------+--------+\n",
            "| Number of successful attacks: | 19     |\n",
            "| Number of failed attacks:     | 1      |\n",
            "| Number of skipped attacks:    | 0      |\n",
            "| Original accuracy:            | 100.0% |\n",
            "| Accuracy under attack:        | 5.0%   |\n",
            "| Attack success rate:          | 95.0%  |\n",
            "| Average perturbed word %:     | 8.56%  |\n",
            "| Average num. words per input: | 140.0  |\n",
            "| Avg num queries:              | 502.8  |\n",
            "+-------------------------------+--------+"
          ],
          "name": "stdout"
        },
        {
          "output_type": "stream",
          "text": [
            "\n",
            "\u001b[34;1mtextattack\u001b[0m: Attack time: 378.2717475891113s\n"
          ],
          "name": "stderr"
        }
      ]
    },
    {
      "cell_type": "code",
      "metadata": {
        "colab": {
          "base_uri": "https://localhost:8080/",
          "height": 1000
        },
        "id": "pMMpeAun5Ffk",
        "outputId": "b87d7a90-73ae-4e48-a317-c29db9a879db"
      },
      "source": [
        "attack_stats(attack1, dataset, 25)"
      ],
      "execution_count": 23,
      "outputs": [
        {
          "output_type": "stream",
          "text": [
            "\n",
            "  0%|          | 0/25 [00:00<?, ?it/s]\u001b[A"
          ],
          "name": "stderr"
        },
        {
          "output_type": "stream",
          "text": [
            "Attack(\n",
            "  (search_method): GreedyWordSwapWIR(\n",
            "    (wir_method):  delete\n",
            "  )\n",
            "  (goal_function):  UntargetedClassification\n",
            "  (transformation):  WordSwapEmbedding(\n",
            "    (max_candidates):  50\n",
            "    (embedding):  WordEmbedding\n",
            "  )\n",
            "  (constraints): \n",
            "    (0): WordEmbeddingDistance(\n",
            "        (embedding):  WordEmbedding\n",
            "        (min_cos_sim):  0.5\n",
            "        (cased):  False\n",
            "        (include_unknown_words):  True\n",
            "        (compare_against_original):  True\n",
            "      )\n",
            "    (1): PartOfSpeech(\n",
            "        (tagger_type):  nltk\n",
            "        (tagset):  universal\n",
            "        (allow_verb_noun_swap):  True\n",
            "        (compare_against_original):  True\n",
            "      )\n",
            "    (2): UniversalSentenceEncoder(\n",
            "        (metric):  angular\n",
            "        (threshold):  0.840845057\n",
            "        (window_size):  15\n",
            "        (skip_text_shorter_than_window):  True\n",
            "        (compare_against_original):  False\n",
            "      )\n",
            "    (3): RepeatModification\n",
            "    (4): StopwordModification\n",
            "    (5): InputColumnModification(\n",
            "        (matching_column_labels):  ['premise', 'hypothesis']\n",
            "        (columns_to_ignore):  {'premise'}\n",
            "      )\n",
            "  (is_black_box):  True\n",
            ")\n"
          ],
          "name": "stdout"
        },
        {
          "output_type": "display_data",
          "data": {
            "text/html": [
              "<font color = green>2 (100%)</font> --> <font color = red>1 (56%)</font><br>Contrary to other reviews, I have zero <font color = green>complaints</font> about the service or the prices. I have been getting tire service here for the past 5 years now, and compared to my experience with places like Pep Boys, these <font color = green>guys</font> are experienced and <font color = green>know</font> what they're doing. \\nAlso, this is one place that I do not feel like I am being taken advantage of, just because of my gender. Other auto mechanics have been notorious for capitalizing on my ignorance of cars, and have sucked my bank account dry. But here, my service and road coverage has all been <font color = green>well</font> explained - and let up to me to decide. \\nAnd they just renovated the waiting room. It looks a lot better than it did in <font color = green>previous</font> years.<br>Contrary to other reviews, I have zero <font color = red>assertion</font> about the service or the prices. I have been getting tire service here for the past 5 years now, and compared to my experience with places like Pep Boys, these <font color = red>males</font> are experienced and <font color = red>savoir</font> what they're doing. \\nAlso, this is one place that I do not feel like I am being taken advantage of, just because of my gender. Other auto mechanics have been notorious for capitalizing on my ignorance of cars, and have sucked my bank account dry. But here, my service and road coverage has all been <font color = red>too</font> explained - and let up to me to decide. \\nAnd they just renovated the waiting room. It looks a lot better than it did in <font color = red>senior</font> years."
            ],
            "text/plain": [
              "<IPython.core.display.HTML object>"
            ]
          },
          "metadata": {
            "tags": []
          }
        },
        {
          "output_type": "stream",
          "text": [
            "\n",
            "  4%|▍         | 1/25 [00:09<03:52,  9.68s/it]\u001b[A\n",
            "[Succeeded / Failed / Total] 1 / 0 / 1:   4%|▍         | 1/25 [00:09<03:52,  9.70s/it]\u001b[A"
          ],
          "name": "stderr"
        },
        {
          "output_type": "display_data",
          "data": {
            "text/html": [
              "<font color = red>1 (100%)</font> --> <font color = green>2 (57%)</font><br>Last summer I had an appointment to get new tires and had to wait a super long time. I also went in this week for them to fix a minor problem with a tire they put on. They \\\"\"<font color = red>fixed</font>\\\"\" it for free, and the very next morning I had the same issue. I called to complain, and the \\\"\"manager\\\"\" didn't even apologize!!! <font color = red>So</font> <font color = red>frustrated</font>. <font color = red>Never</font> <font color = red>going</font> back.  They seem overpriced, too.<br>Last summer I had an appointment to get new tires and had to wait a super long time. I also went in this week for them to fix a minor problem with a tire they put on. They \\\"\"<font color = green>fixes</font>\\\"\" it for free, and the very next morning I had the same issue. I called to complain, and the \\\"\"manager\\\"\" didn't even apologize!!! <font color = green>However</font> <font color = green>thwart</font>. <font color = green>Nadie</font> <font color = green>will</font> back.  They seem overpriced, too."
            ],
            "text/plain": [
              "<IPython.core.display.HTML object>"
            ]
          },
          "metadata": {
            "tags": []
          }
        },
        {
          "output_type": "stream",
          "text": [
            "\n",
            "[Succeeded / Failed / Total] 1 / 0 / 1:   8%|▊         | 2/25 [00:17<03:16,  8.53s/it]\u001b[A\n",
            "[Succeeded / Failed / Total] 2 / 0 / 2:   8%|▊         | 2/25 [00:17<03:16,  8.54s/it]\u001b[A"
          ],
          "name": "stderr"
        },
        {
          "output_type": "display_data",
          "data": {
            "text/html": [
              "<font color = green>2 (73%)</font> --> <font color = red>1 (59%)</font><br><font color = green>Friendly</font> staff, same starbucks fair you get anywhere else.  Sometimes the lines can get long.<br><font color = red>Hospitable</font> staff, same starbucks fair you get anywhere else.  Sometimes the lines can get long."
            ],
            "text/plain": [
              "<IPython.core.display.HTML object>"
            ]
          },
          "metadata": {
            "tags": []
          }
        },
        {
          "output_type": "stream",
          "text": [
            "\n",
            "[Succeeded / Failed / Total] 2 / 0 / 2:  12%|█▏        | 3/25 [00:18<02:16,  6.20s/it]\u001b[A\n",
            "[Succeeded / Failed / Total] 3 / 0 / 3:  12%|█▏        | 3/25 [00:18<02:16,  6.21s/it]\u001b[A"
          ],
          "name": "stderr"
        },
        {
          "output_type": "display_data",
          "data": {
            "text/html": [
              "<font color = red>1 (98%)</font> --> <font color = green>2 (73%)</font><br>The <font color = red>food</font> is good. <font color = red>Unfortunately</font> the service is very hit or miss. The main issue seems to be with the kitchen, the waiters and waitresses are often very apologetic for the long waits and it's pretty obvious that some of them avoid the tables after taking the initial order to avoid hearing complaints.<br>The <font color = green>nourishment</font> is good. <font color = green>Sadly</font> the service is very hit or miss. The main issue seems to be with the kitchen, the waiters and waitresses are often very apologetic for the long waits and it's pretty obvious that some of them avoid the tables after taking the initial order to avoid hearing complaints."
            ],
            "text/plain": [
              "<IPython.core.display.HTML object>"
            ]
          },
          "metadata": {
            "tags": []
          }
        },
        {
          "output_type": "stream",
          "text": [
            "\n",
            "[Succeeded / Failed / Total] 3 / 0 / 3:  16%|█▌        | 4/25 [00:22<01:56,  5.54s/it]\u001b[A\n",
            "[Succeeded / Failed / Total] 4 / 0 / 4:  16%|█▌        | 4/25 [00:22<01:56,  5.54s/it]\u001b[A"
          ],
          "name": "stderr"
        },
        {
          "output_type": "display_data",
          "data": {
            "text/html": [
              "<font color = green>2 (100%)</font> --> <font color = red>1 (60%)</font><br>Even when we didn't have a car Filene's Basement was worth the bus trip to the Waterfront. I always find something (usually I find 3-4 things and spend about $60) and better still, I am always still wearing the clothes and shoes 3 months later. \\n\\nI <font color = green>kind</font> of suspect this is the <font color = green>best</font> shopping in Pittsburgh; it's much better than the usual department stores, <font color = green>better</font> than Marshall's and <font color = green>TJ</font> Maxx and better than the <font color = green>Saks</font> downtown, even when it has a sale. Selection, <font color = green>bargains</font> AND quality.\\n\\nI <font color = green>like</font> this Filene's <font color = green>better</font> than Gabriel Brothers, which are harder to get to. Gabriel Brothers are a real discount shopper's challenge and I'm afraid I didn't live in Pittsburgh long enough to develop the necessary skills . . . Filene's was still up and running in June 2007 when I left <font color = green>town</font>.<br>Even when we didn't have a car Filene's Basement was worth the bus trip to the Waterfront. I always find something (usually I find 3-4 things and spend about $60) and better still, I am always still wearing the clothes and shoes 3 months later. \\n\\nI <font color = red>ranks</font> of suspect this is the <font color = red>alright</font> shopping in Pittsburgh; it's much better than the usual department stores, <font color = red>preferable</font> than Marshall's and <font color = red>TIJUANA</font> Maxx and better than the <font color = red>Sachs</font> downtown, even when it has a sale. Selection, <font color = red>relates</font> AND quality.\\n\\nI <font color = red>iike</font> this Filene's <font color = red>more</font> than Gabriel Brothers, which are harder to get to. Gabriel Brothers are a real discount shopper's challenge and I'm afraid I didn't live in Pittsburgh long enough to develop the necessary skills . . . Filene's was still up and running in June 2007 when I left <font color = red>mayor</font>."
            ],
            "text/plain": [
              "<IPython.core.display.HTML object>"
            ]
          },
          "metadata": {
            "tags": []
          }
        },
        {
          "output_type": "stream",
          "text": [
            "\n",
            "[Succeeded / Failed / Total] 4 / 0 / 4:  20%|██        | 5/25 [00:34<02:16,  6.85s/it]\u001b[A\n",
            "[Succeeded / Failed / Total] 5 / 0 / 5:  20%|██        | 5/25 [00:34<02:17,  6.85s/it]\u001b[A"
          ],
          "name": "stderr"
        },
        {
          "output_type": "display_data",
          "data": {
            "text/html": [
              "<font color = green>2 (100%)</font> --> <font color = red>1 (57%)</font><br>Picture Billy Joel's \\\"\"Piano Man\\\"\" DOUBLED mixed with beer, a rowdy crowd, and comedy - Welcome to Sing Sing!  A <font color = green>unique</font> musical <font color = green>experience</font> found in <font color = green>Homestead</font>.\\n\\nIf you're looking to grab a bite to eat or a beer, come on in!  Serving food and brews from Rock Bottom Brewery, Sing Sing keeps your tummy full while you listen to two (or more) amazingly <font color = green>talented</font> pianists take your <font color = green>musical</font> requests.  They'll play anything you'd like, for tips of course.  Wanting to hear Britney Spears?  Toto?  Duran Duran?  Yep, they play that... new or old.\\n\\nThe crowd <font color = green>makes</font> the show, so make sure you come ready for a good time.  <font color = green>If</font> the crowd is dead, it's harder for the Guys to get a reaction.  If you're wanting to have some fun, it can be a GREAT time!  It's the <font color = green>perfect</font> place for Birthday parties - especially if you want to embarrass a friend.  The guys will bring them up to the pianos and perform a little ditty.  For being a good sport, you get the coveted Sing Sing bumper sticker.  Now who wouldn't want that?\\n\\nDueling Pianos and brews... time to Shut Up & Sing Sing!<br>Picture Billy Joel's \\\"\"Piano Man\\\"\" DOUBLED mixed with beer, a rowdy crowd, and comedy - Welcome to Sing Sing!  A <font color = red>unequaled</font> musical <font color = red>experienced</font> found in <font color = red>Townsville</font>.\\n\\nIf you're looking to grab a bite to eat or a beer, come on in!  Serving food and brews from Rock Bottom Brewery, Sing Sing keeps your tummy full while you listen to two (or more) amazingly <font color = red>prodigy</font> pianists take your <font color = red>musician</font> requests.  They'll play anything you'd like, for tips of course.  Wanting to hear Britney Spears?  Toto?  Duran Duran?  Yep, they play that... new or old.\\n\\nThe crowd <font color = red>facto</font> the show, so make sure you come ready for a good time.  <font color = red>Except</font> the crowd is dead, it's harder for the Guys to get a reaction.  If you're wanting to have some fun, it can be a GREAT time!  It's the <font color = red>innocent</font> place for Birthday parties - especially if you want to embarrass a friend.  The guys will bring them up to the pianos and perform a little ditty.  For being a good sport, you get the coveted Sing Sing bumper sticker.  Now who wouldn't want that?\\n\\nDueling Pianos and brews... time to Shut Up & Sing Sing!"
            ],
            "text/plain": [
              "<IPython.core.display.HTML object>"
            ]
          },
          "metadata": {
            "tags": []
          }
        },
        {
          "output_type": "stream",
          "text": [
            "\n",
            "[Succeeded / Failed / Total] 5 / 0 / 5:  24%|██▍       | 6/25 [00:48<02:32,  8.03s/it]\u001b[A\n",
            "[Succeeded / Failed / Total] 6 / 0 / 6:  24%|██▍       | 6/25 [00:48<02:32,  8.03s/it]\u001b[A"
          ],
          "name": "stderr"
        },
        {
          "output_type": "display_data",
          "data": {
            "text/html": [
              "<font color = red>1 (100%)</font> --> <font color = red>[FAILED]</font><br>Mediocre service. COLD food! Our food waited so long the lettuce & pickles wilted. Bland food. Crazy overpriced. Long waits in the arcade. 1 beer per hour maximum.  Avoid at all costs. Fair manager."
            ],
            "text/plain": [
              "<IPython.core.display.HTML object>"
            ]
          },
          "metadata": {
            "tags": []
          }
        },
        {
          "output_type": "stream",
          "text": [
            "\n",
            "[Succeeded / Failed / Total] 6 / 0 / 6:  28%|██▊       | 7/25 [01:16<03:16, 10.90s/it]\u001b[A\n",
            "[Succeeded / Failed / Total] 6 / 1 / 7:  28%|██▊       | 7/25 [01:16<03:16, 10.90s/it]\u001b[A"
          ],
          "name": "stderr"
        },
        {
          "output_type": "display_data",
          "data": {
            "text/html": [
              "<font color = red>1 (100%)</font> --> <font color = green>2 (99%)</font><br>Ok! Let me tell you about my <font color = red>bad</font> <font color = red>experience</font> first. I went to D&B last night for a post wedding party - which, side note, is a great idea!\\n\\nIt was around midnight and the bar wasn't really populated. There were three bartenders and only one was actually making rounds to see if anyone needed anything. The two other bartenders were chatting on the far side of the bar that no one was sitting at. Kind of counter productive if you ask me. \\n\\nI stood there for about 5 minutes, which for a busy bar is fine but when I am the only one with my card out then, it just seems a little ridiculous. I made eye contact with the one girl twice and gave her a smile and she literally turned away. I finally had to walk to them to get their attention.  I was standing right in front of them smiling and they didn't ask if i need anything. I finally said, \\\"\"Are you working?\\\"\" and they gave each other a weird look. I felt like i was the crazy one. I asked for a beer/got the beer.\\n\\nIn between that time, the other bartender brought food over and set it down. She took a fry from the plate (right in front of me) and then served it to someone on the other side of the bar. What the hell! I felt like i was in some grimy bar in out in the sticks - not an established D&B. \\n\\nI was just really turned off from that experience. \\n\\nThe good is that D&B provides a different type of entertainment when you want to mix things up. I remember going here with my grandparents when I was a kid and it was the best treat ever! We would eat at the restaurant and then spend hours playing games. This place holds some really good memories for me. \\n\\nIt's a shame that my experience last night has spoiled the high standards I held for it.<br>Ok! Let me tell you about my <font color = green>untoward</font> <font color = green>savoring</font> first. I went to D&B last night for a post wedding party - which, side note, is a great idea!\\n\\nIt was around midnight and the bar wasn't really populated. There were three bartenders and only one was actually making rounds to see if anyone needed anything. The two other bartenders were chatting on the far side of the bar that no one was sitting at. Kind of counter productive if you ask me. \\n\\nI stood there for about 5 minutes, which for a busy bar is fine but when I am the only one with my card out then, it just seems a little ridiculous. I made eye contact with the one girl twice and gave her a smile and she literally turned away. I finally had to walk to them to get their attention.  I was standing right in front of them smiling and they didn't ask if i need anything. I finally said, \\\"\"Are you working?\\\"\" and they gave each other a weird look. I felt like i was the crazy one. I asked for a beer/got the beer.\\n\\nIn between that time, the other bartender brought food over and set it down. She took a fry from the plate (right in front of me) and then served it to someone on the other side of the bar. What the hell! I felt like i was in some grimy bar in out in the sticks - not an established D&B. \\n\\nI was just really turned off from that experience. \\n\\nThe good is that D&B provides a different type of entertainment when you want to mix things up. I remember going here with my grandparents when I was a kid and it was the best treat ever! We would eat at the restaurant and then spend hours playing games. This place holds some really good memories for me. \\n\\nIt's a shame that my experience last night has spoiled the high standards I held for it."
            ],
            "text/plain": [
              "<IPython.core.display.HTML object>"
            ]
          },
          "metadata": {
            "tags": []
          }
        },
        {
          "output_type": "stream",
          "text": [
            "\n",
            "[Succeeded / Failed / Total] 6 / 1 / 7:  32%|███▏      | 8/25 [01:29<03:10, 11.23s/it]\u001b[A\n",
            "[Succeeded / Failed / Total] 7 / 1 / 8:  32%|███▏      | 8/25 [01:29<03:10, 11.24s/it]\u001b[A"
          ],
          "name": "stderr"
        },
        {
          "output_type": "display_data",
          "data": {
            "text/html": [
              "<font color = red>1 (100%)</font> --> <font color = green>2 (51%)</font><br><font color = red>I</font> used to <font color = red>love</font> D&B when it first opened in the Waterfront, but it <font color = red>has</font> <font color = red>gone</font> down hill over the years. The <font color = red>games</font> are not as fun and do not give you as many tickets and the prizes have gotten cheaper in quality. It takes a whole heck of a lot of tickets for you to even <font color = red>get</font> a pencil! The <font color = red>atmosphere</font> is okay but it used to be so much better with the funnest games and diverse groups of people! Now, it is <font color = red>run</font> down and many of the games are app related games (Fruit Ninja) and 3D Experience rides. With such \\\"\"games\\\"\", you can't even earn tickets and they take a lot of tokens! Last time I went, back in the winter, many of the games were broken, which made for a <font color = red>negative</font> player experience. I would go to D&B to play some games again in the future, but it is no longer one of my favorite places to go due to the decline of fun games where you can earn tickets.<br><font color = green>me</font> used to <font color = green>dear</font> D&B when it first opened in the Waterfront, but it <font color = green>possesses</font> <font color = green>outof</font> down hill over the years. The <font color = green>jeux</font> are not as fun and do not give you as many tickets and the prizes have gotten cheaper in quality. It takes a whole heck of a lot of tickets for you to even <font color = green>do</font> a pencil! The <font color = green>atmospheric</font> is okay but it used to be so much better with the funnest games and diverse groups of people! Now, it is <font color = green>executed</font> down and many of the games are app related games (Fruit Ninja) and 3D Experience rides. With such \\\"\"games\\\"\", you can't even earn tickets and they take a lot of tokens! Last time I went, back in the winter, many of the games were broken, which made for a <font color = green>devastating</font> player experience. I would go to D&B to play some games again in the future, but it is no longer one of my favorite places to go due to the decline of fun games where you can earn tickets."
            ],
            "text/plain": [
              "<IPython.core.display.HTML object>"
            ]
          },
          "metadata": {
            "tags": []
          }
        },
        {
          "output_type": "stream",
          "text": [
            "\n",
            "[Succeeded / Failed / Total] 7 / 1 / 8:  36%|███▌      | 9/25 [01:43<03:04, 11.53s/it]\u001b[A\n",
            "[Succeeded / Failed / Total] 8 / 1 / 9:  36%|███▌      | 9/25 [01:43<03:04, 11.54s/it]\u001b[A"
          ],
          "name": "stderr"
        },
        {
          "output_type": "display_data",
          "data": {
            "text/html": [
              "<font color = green>2 (100%)</font> --> <font color = red>1 (60%)</font><br><font color = green>Like</font> any Barnes & Noble, it has a nice <font color = green>comfy</font> cafe, and a large selection of books.  The staff is very friendly and <font color = green>helpful</font>.  They stock a decent selection, and the <font color = green>prices</font> are <font color = green>pretty</font> <font color = green>reasonable</font>.  Obviously it's <font color = green>hard</font> for them to compete with Amazon.  However since all the small shop <font color = green>bookstores</font> are gone, it's nice to walk into one every once in a while.<br><font color = red>Iike</font> any Barnes & Noble, it has a nice <font color = red>roomy</font> cafe, and a large selection of books.  The staff is very friendly and <font color = red>affirmative</font>.  They stock a decent selection, and the <font color = red>prize</font> are <font color = red>somewhat</font> <font color = red>satisfactory</font>.  Obviously it's <font color = red>harsh</font> for them to compete with Amazon.  However since all the small shop <font color = red>bookshelf</font> are gone, it's nice to walk into one every once in a while."
            ],
            "text/plain": [
              "<IPython.core.display.HTML object>"
            ]
          },
          "metadata": {
            "tags": []
          }
        },
        {
          "output_type": "stream",
          "text": [
            "\n",
            "[Succeeded / Failed / Total] 8 / 1 / 9:  40%|████      | 10/25 [01:52<02:48, 11.26s/it]\u001b[A\n",
            "[Succeeded / Failed / Total] 9 / 1 / 10:  40%|████      | 10/25 [01:52<02:48, 11.26s/it]\u001b[A"
          ],
          "name": "stderr"
        },
        {
          "output_type": "display_data",
          "data": {
            "text/html": [
              "<font color = red>1 (100%)</font> --> <font color = green>2 (51%)</font><br><font color = red>Meh</font>, I've <font color = red>experienced</font> <font color = red>better</font> is an understatement.\\n\\nFriday's is <font color = red>like</font> the \\\"\"<font color = red>fine</font> <font color = red>dining</font> <font color = red>chain</font>\\\"\" for every yinzer in Pittsburgh...\\n\\n1.  When we were <font color = red>seated</font>, it was quick which was a <font color = red>surprise</font>.  Somehow this <font color = red>restaurant</font> <font color = red>gets</font> <font color = red>packed</font> and <font color = red>I</font> never <font color = red>understand</font> why.  I was <font color = red>happy</font> about that.\\n2.  <font color = red>I</font> <font color = red>ordered</font> one of their \\\"\"skinny margaritas\\\"\", blackberry to be <font color = red>exact</font>.  It was a nice size, however, at $6.00/pop, that was half of my food bill.\\n3.  The waitress started off attentive, but after our food came out she was gone.  I ordered a turkey burger with <font color = red>pickle</font> and mustard.  Loaded mashed potato on the side <font color = red>because</font> I wanted heartburn <font color = red>ha</font>!\\n4.  Food <font color = red>came</font>.  My burger had lettuce on it only.  Waitress was supposed to <font color = red>go</font> and <font color = red>get</font> our next <font color = red>round</font> of drinks.  I had to <font color = red>wait</font> to <font color = red>ask</font> for my <font color = red>pickle</font>.\\n5.  The loaded potatoes were more like rubber than potatoes and not what I was expecting.  Disappointment.\\n6.  The <font color = red>waitress</font> then went into oblivion and only returned with our check.  \\n\\nNever again will I eat at Friday's.  I will, however, go should a happy hour arise...<br><font color = green>Gots</font>, I've <font color = green>realised</font> <font color = green>higher</font> is an understatement.\\n\\nFriday's is <font color = green>adore</font> the \\\"\"<font color = green>sumptuous</font> <font color = green>dinning</font> <font color = green>fetters</font>\\\"\" for every yinzer in Pittsburgh...\\n\\n1.  When we were <font color = green>seat</font>, it was quick which was a <font color = green>amazement</font>.  Somehow this <font color = green>luncheon</font> <font color = green>perceive</font> <font color = green>enveloped</font> and <font color = green>yo</font> never <font color = green>encompasses</font> why.  I was <font color = green>fortunate</font> about that.\\n2.  <font color = green>me</font> <font color = green>ordained</font> one of their \\\"\"skinny margaritas\\\"\", blackberry to be <font color = green>meticulous</font>.  It was a nice size, however, at $6.00/pop, that was half of my food bill.\\n3.  The waitress started off attentive, but after our food came out she was gone.  I ordered a turkey burger with <font color = green>cucumber</font> and mustard.  Loaded mashed potato on the side <font color = green>since</font> I wanted heartburn <font color = green>acres</font>!\\n4.  Food <font color = green>entry</font>.  My burger had lettuce on it only.  Waitress was supposed to <font color = green>skip</font> and <font color = green>learns</font> our next <font color = green>rounded</font> of drinks.  I had to <font color = green>expectancy</font> to <font color = green>pose</font> for my <font color = green>cider</font>.\\n5.  The loaded potatoes were more like rubber than potatoes and not what I was expecting.  Disappointment.\\n6.  The <font color = green>waiter</font> then went into oblivion and only returned with our check.  \\n\\nNever again will I eat at Friday's.  I will, however, go should a happy hour arise..."
            ],
            "text/plain": [
              "<IPython.core.display.HTML object>"
            ]
          },
          "metadata": {
            "tags": []
          }
        },
        {
          "output_type": "stream",
          "text": [
            "\n",
            "[Succeeded / Failed / Total] 9 / 1 / 10:  44%|████▍     | 11/25 [02:28<03:09, 13.51s/it]\u001b[A\n",
            "[Succeeded / Failed / Total] 10 / 1 / 11:  44%|████▍     | 11/25 [02:28<03:09, 13.51s/it]\u001b[A"
          ],
          "name": "stderr"
        },
        {
          "output_type": "display_data",
          "data": {
            "text/html": [
              "<font color = green>2 (100%)</font> --> <font color = red>1 (56%)</font><br>Unos <font color = green>has</font> been around for ever, & I feel like this <font color = green>restaurant</font> chain <font color = green>peak</font> in <font color = green>popularity</font> in the 80's. <font color = green>Honestly</font> the decor inside <font color = green>still</font> <font color = green>kind</font> of <font color = green>looks</font> 80s to me even <font color = green>though</font> its nice with <font color = green>sleek</font> booth and <font color = green>exposed</font> <font color = green>brick</font>.\\n\\nIf you haven't <font color = green>died</font> and he recently I ordered you to come back and have a meal here again because honestly the food is really quite good!\\n\\nThey have the <font color = green>best</font> chicken salad wrap ever! I love that rap so much I want agreed to walk the south side River Trail from where the Steelers practice all the way to the damn waterfront just because I knew that I could convince my boyfriend to go to Unos with me for lunch.  Full disclosure:  I made him call is a cab and we took a taxi back to the parking lot after lunch.\\n\\nListen... The food and pizza and service are very good, surprisingly so! I don't know why this place is not busier but next time you're down at the Waterfront please do consider dining here!<br>Unos <font color = red>had</font> been around for ever, & I feel like this <font color = red>cafeteria</font> chain <font color = red>culmination</font> in <font color = red>trendy</font> in the 80's. <font color = red>Outright</font> the decor inside <font color = red>instead</font> <font color = red>ranking</font> of <font color = red>appears</font> 80s to me even <font color = red>unless</font> its nice with <font color = red>chic</font> booth and <font color = red>disclosed</font> <font color = red>mah</font>.\\n\\nIf you haven't <font color = red>succumb</font> and he recently I ordered you to come back and have a meal here again because honestly the food is really quite good!\\n\\nThey have the <font color = red>happiest</font> chicken salad wrap ever! I love that rap so much I want agreed to walk the south side River Trail from where the Steelers practice all the way to the damn waterfront just because I knew that I could convince my boyfriend to go to Unos with me for lunch.  Full disclosure:  I made him call is a cab and we took a taxi back to the parking lot after lunch.\\n\\nListen... The food and pizza and service are very good, surprisingly so! I don't know why this place is not busier but next time you're down at the Waterfront please do consider dining here!"
            ],
            "text/plain": [
              "<IPython.core.display.HTML object>"
            ]
          },
          "metadata": {
            "tags": []
          }
        },
        {
          "output_type": "stream",
          "text": [
            "\n",
            "[Succeeded / Failed / Total] 10 / 1 / 11:  48%|████▊     | 12/25 [02:48<03:03, 14.08s/it]\u001b[A\n",
            "[Succeeded / Failed / Total] 11 / 1 / 12:  48%|████▊     | 12/25 [02:49<03:03, 14.08s/it]\u001b[A"
          ],
          "name": "stderr"
        },
        {
          "output_type": "display_data",
          "data": {
            "text/html": [
              "<font color = red>1 (100%)</font> --> <font color = green>2 (61%)</font><br>Stars are for the food only.    2.5 rating\\<font color = red>n</font>\\nGot there at 8pm on Saturday <font color = red>night</font>, they told <font color = red>us</font> it was an hour <font color = red>wait</font> which was <font color = red>expected</font>, but it only took 30minutes to <font color = red>be</font> <font color = red>seated</font> <font color = red>so</font> that was a bonus.  <font color = red>Started</font> off with the lettuce <font color = red>wraps</font> and i used to <font color = red>be</font> a fan of these but they just seem to bore me now(FYI-love the lettuce <font color = red>wraps</font> at the <font color = red>cheesecake</font> factory).  I <font color = red>had</font> the Singapore <font color = red>rice</font> noodles.  <font color = red>This</font> was <font color = red>so</font> <font color = red>so</font> as i thought immediately that lu lu noodles and asian cafe are <font color = red>better</font>.  The <font color = red>fried</font> rice was disappointing and the <font color = red>vegetables</font> <font color = red>tasted</font> <font color = red>raw</font>.   Some good notes were the Dynamite shrimp, plump, juicy, <font color = red>tangy</font> with a <font color = red>small</font> kick.    Sweet and sour chicken was just the same minus the kick. \\<font color = red>n</font>\\nThe service was <font color = red>annoying</font>.   We were there less than 45 minutes and it <font color = red>seemed</font> like our <font color = red>waiter</font> was in a <font color = red>rush</font> to <font color = red>get</font> us out of there.   <font color = red>Constantly</font> <font color = red>asking</font> if he could <font color = red>remove</font> my <font color = red>plate</font>.  I <font color = red>had</font> to sternly <font color = red>say</font> at one <font color = red>point</font> that I <font color = red>will</font> <font color = red>let</font> you <font color = red>know</font> when i am <font color = red>finished</font>.  I <font color = red>found</font> it <font color = red>rude</font> <font color = red>especially</font> <font color = red>since</font>  there wasn't even a <font color = red>line</font> at this <font color = red>point</font>.  \\n\\nI think we will travel elsewhere following a movie.  The result never quite met the anticipation.<br>Stars are for the food only.    2.5 rating\\<font color = green>nth</font>\\nGot there at 8pm on Saturday <font color = green>nights</font>, they told <font color = green>ourselves</font> it was an hour <font color = green>anticipation</font> which was <font color = green>expectations</font>, but it only took 30minutes to <font color = green>get</font> <font color = green>seats</font> <font color = green>why</font> that was a bonus.  <font color = green>Starts</font> off with the lettuce <font color = green>adapts</font> and i used to <font color = green>remain</font> a fan of these but they just seem to bore me now(FYI-love the lettuce <font color = green>envelops</font> at the <font color = green>pastries</font> factory).  I <font color = green>acres</font> the Singapore <font color = green>reyes</font> noodles.  <font color = green>These</font> was <font color = green>till</font> <font color = green>furthermore</font> as i thought immediately that lu lu noodles and asian cafe are <font color = green>more</font>.  The <font color = green>shaved</font> rice was disappointing and the <font color = green>kale</font> <font color = green>devour</font> <font color = green>coarse</font>.   Some good notes were the Dynamite shrimp, plump, juicy, <font color = green>stewed</font> with a <font color = green>restrained</font> kick.    Sweet and sour chicken was just the same minus the kick. \\<font color = green>ies</font>\\nThe service was <font color = green>exasperating</font>.   We were there less than 45 minutes and it <font color = green>noticed</font> like our <font color = green>waitress</font> was in a <font color = green>quicker</font> to <font color = green>getting</font> us out of there.   <font color = green>Continual</font> <font color = green>inviting</font> if he could <font color = green>suppress</font> my <font color = green>plates</font>.  I <font color = green>ha</font> to sternly <font color = green>explaining</font> at one <font color = green>aspect</font> that I <font color = green>goes</font> <font color = green>enables</font> you <font color = green>see</font> when i am <font color = green>closing</font>.  I <font color = green>discovering</font> it <font color = green>impolite</font> <font color = green>mainly</font> <font color = green>before</font>  there wasn't even a <font color = green>lines</font> at this <font color = green>dot</font>.  \\n\\nI think we will travel elsewhere following a movie.  The result never quite met the anticipation."
            ],
            "text/plain": [
              "<IPython.core.display.HTML object>"
            ]
          },
          "metadata": {
            "tags": []
          }
        },
        {
          "output_type": "stream",
          "text": [
            "\n",
            "[Succeeded / Failed / Total] 11 / 1 / 12:  52%|█████▏    | 13/25 [03:58<03:39, 18.33s/it]\u001b[A\n",
            "[Succeeded / Failed / Total] 12 / 1 / 13:  52%|█████▏    | 13/25 [03:58<03:39, 18.33s/it]\u001b[A"
          ],
          "name": "stderr"
        },
        {
          "output_type": "display_data",
          "data": {
            "text/html": [
              "<font color = red>1 (100%)</font> --> <font color = green>2 (93%)</font><br>Our <font color = red>last</font> few <font color = red>visits</font> have <font color = red>left</font> something to desire, One of the things I always notice is the demeanor of an establishments employees. These people look <font color = red>miserable</font>, no one <font color = red>smiles</font> or greets you appropriately, it's more like get in, get out, turn the tables,\\n\\nThe food has remained consistently good... when we can order it. the last time JB and I came for a quick dinner, the place was not busy yet we were passed by 6 frowning waitstaff without getting drinks... for 15 minutes we were left suiting at our table with our menus closed and sitting on the edge of the table (HINT, HINT) so we left and most likely will not be <font color = red>returning</font>.<br>Our <font color = green>ultimate</font> few <font color = green>visitations</font> have <font color = green>gauche</font> something to desire, One of the things I always notice is the demeanor of an establishments employees. These people look <font color = green>woeful</font>, no one <font color = green>stares</font> or greets you appropriately, it's more like get in, get out, turn the tables,\\n\\nThe food has remained consistently good... when we can order it. the last time JB and I came for a quick dinner, the place was not busy yet we were passed by 6 frowning waitstaff without getting drinks... for 15 minutes we were left suiting at our table with our menus closed and sitting on the edge of the table (HINT, HINT) so we left and most likely will not be <font color = green>setback</font>."
            ],
            "text/plain": [
              "<IPython.core.display.HTML object>"
            ]
          },
          "metadata": {
            "tags": []
          }
        },
        {
          "output_type": "stream",
          "text": [
            "\n",
            "[Succeeded / Failed / Total] 12 / 1 / 13:  56%|█████▌    | 14/25 [04:07<03:14, 17.70s/it]\u001b[A\n",
            "[Succeeded / Failed / Total] 13 / 1 / 14:  56%|█████▌    | 14/25 [04:07<03:14, 17.70s/it]\u001b[A"
          ],
          "name": "stderr"
        },
        {
          "output_type": "display_data",
          "data": {
            "text/html": [
              "<font color = green>2 (100%)</font> --> <font color = red>1 (52%)</font><br>Good <font color = green>quality</font> pork fried dumpling and mongo beef.  Bar service was fast and Efficent.   <font color = green>Good</font> value.  Not a 5 cause dragon eye tea was cold first time around and beef had minor amount of <font color = green>fat</font>.   <font color = green>Fortune</font> was even Postive!<br>Good <font color = red>qualifications</font> pork fried dumpling and mongo beef.  Bar service was fast and Efficent.   <font color = red>Fine</font> value.  Not a 5 cause dragon eye tea was cold first time around and beef had minor amount of <font color = red>fatty</font>.   <font color = red>Luck</font> was even Postive!"
            ],
            "text/plain": [
              "<IPython.core.display.HTML object>"
            ]
          },
          "metadata": {
            "tags": []
          }
        },
        {
          "output_type": "stream",
          "text": [
            "\n",
            "[Succeeded / Failed / Total] 13 / 1 / 14:  60%|██████    | 15/25 [04:11<02:47, 16.79s/it]\u001b[A\n",
            "[Succeeded / Failed / Total] 14 / 1 / 15:  60%|██████    | 15/25 [04:11<02:47, 16.79s/it]\u001b[A"
          ],
          "name": "stderr"
        },
        {
          "output_type": "display_data",
          "data": {
            "text/html": [
              "<font color = red>1 (100%)</font> --> <font color = green>2 (91%)</font><br>Very <font color = red>bad</font> purchase experience. I bought a shirt with a hole covered in the rolled up sleeves, but they <font color = red>denied</font> my request to return it. I am so angery at this and will never shop their chothes anymore.<br>Very <font color = green>wicked</font> purchase experience. I bought a shirt with a hole covered in the rolled up sleeves, but they <font color = green>repudiate</font> my request to return it. I am so angery at this and will never shop their chothes anymore."
            ],
            "text/plain": [
              "<IPython.core.display.HTML object>"
            ]
          },
          "metadata": {
            "tags": []
          }
        },
        {
          "output_type": "stream",
          "text": [
            "\n",
            "[Succeeded / Failed / Total] 14 / 1 / 15:  64%|██████▍   | 16/25 [04:16<02:24, 16.03s/it]\u001b[A\n",
            "[Succeeded / Failed / Total] 15 / 1 / 16:  64%|██████▍   | 16/25 [04:16<02:24, 16.03s/it]\u001b[A"
          ],
          "name": "stderr"
        },
        {
          "output_type": "display_data",
          "data": {
            "text/html": [
              "<font color = red>1 (100%)</font> --> <font color = green>2 (75%)</font><br>When I think BBB... I think the days of simply bringing your bike in for a quick and relatively inexpensive tune-up and a few <font color = red>fixes</font> are long gone.    \\n\\nThis review is more for the repair end of BBB. <font color = red>In</font> their defense BBB does <font color = red>appear</font> to carry some amazing brands of bike (ie Colnago) that you just don't find anywhere else in Pittsburgh. \\n\\nAt BBB I was <font color = red>charged</font> $250 for a tune up and a few other things. Granted this included installing a sew up tire (which I can understand would cost approx $50), Swapping out a left side (big ring) shifter on my down tube (this should have cost approx. $20 at most) and installing new bar tape (cost of tape $20 and $20 to install?).. SO WHAT\\\"\"S WITH $140 FOR A TUNE UP? Well the story goes like this:\\n\\nI bring the bike into BBB prior to the nice weather hitting Pittsburgh in hopes of trying what people have said is a great bike shop and getting my OCLV TREK 5900 ready for the season. Turns out I don't hear from these guys. A week goes by ...two weeks...I think that's ok I have two or three other bike I can turn to for a ride. Then I wind up going out of town for a week thinking for sure I'll get a call from them re: my bike is ready to roll...but no dice. So I call. Turns out a screw snapped when the mechanic was re-installing the down tube shifter and it had to be tapped out (is that my fault?). He says \\\"\"Should be ready in a few days\\\"\". So I come in a few days later to this mammoth bill. I ask if I am paying for the labor of taping out the screw? I don't think I ever got a straight answer? I look at the bill and can't see a good breakdown of the charges. Normally I would \\\"\"duke it over\\\"\" a bill like this but I figured...I had somewhere I to be 10 minutes ago and at least I finally have my bike. I would expect that for that money my bike could have been stripped down to the frame and totally gone over (overhauled). But it wasn't.  Well BBB I'll give you a star because the mechanic did do a good job in that my cycle shifts well and the tape job on the bars looks great (nice wrap). Plus I'll toss in a star for your outstanding selection of high end cycles. Maybe I would have rated BBB higher if I was in the market for a purchase instead of a simple repair?<br>When I think BBB... I think the days of simply bringing your bike in for a quick and relatively inexpensive tune-up and a few <font color = green>repaired</font> are long gone.    \\n\\nThis review is more for the repair end of BBB. <font color = green>At</font> their defense BBB does <font color = green>demonstrates</font> to carry some amazing brands of bike (ie Colnago) that you just don't find anywhere else in Pittsburgh. \\n\\nAt BBB I was <font color = green>convicts</font> $250 for a tune up and a few other things. Granted this included installing a sew up tire (which I can understand would cost approx $50), Swapping out a left side (big ring) shifter on my down tube (this should have cost approx. $20 at most) and installing new bar tape (cost of tape $20 and $20 to install?).. SO WHAT\\\"\"S WITH $140 FOR A TUNE UP? Well the story goes like this:\\n\\nI bring the bike into BBB prior to the nice weather hitting Pittsburgh in hopes of trying what people have said is a great bike shop and getting my OCLV TREK 5900 ready for the season. Turns out I don't hear from these guys. A week goes by ...two weeks...I think that's ok I have two or three other bike I can turn to for a ride. Then I wind up going out of town for a week thinking for sure I'll get a call from them re: my bike is ready to roll...but no dice. So I call. Turns out a screw snapped when the mechanic was re-installing the down tube shifter and it had to be tapped out (is that my fault?). He says \\\"\"Should be ready in a few days\\\"\". So I come in a few days later to this mammoth bill. I ask if I am paying for the labor of taping out the screw? I don't think I ever got a straight answer? I look at the bill and can't see a good breakdown of the charges. Normally I would \\\"\"duke it over\\\"\" a bill like this but I figured...I had somewhere I to be 10 minutes ago and at least I finally have my bike. I would expect that for that money my bike could have been stripped down to the frame and totally gone over (overhauled). But it wasn't.  Well BBB I'll give you a star because the mechanic did do a good job in that my cycle shifts well and the tape job on the bars looks great (nice wrap). Plus I'll toss in a star for your outstanding selection of high end cycles. Maybe I would have rated BBB higher if I was in the market for a purchase instead of a simple repair?"
            ],
            "text/plain": [
              "<IPython.core.display.HTML object>"
            ]
          },
          "metadata": {
            "tags": []
          }
        },
        {
          "output_type": "stream",
          "text": [
            "\n",
            "[Succeeded / Failed / Total] 15 / 1 / 16:  68%|██████▊   | 17/25 [04:38<02:10, 16.37s/it]\u001b[A\n",
            "[Succeeded / Failed / Total] 16 / 1 / 17:  68%|██████▊   | 17/25 [04:38<02:10, 16.37s/it]\u001b[A"
          ],
          "name": "stderr"
        },
        {
          "output_type": "display_data",
          "data": {
            "text/html": [
              "<font color = red>1 (100%)</font> --> <font color = green>2 (74%)</font><br>My orders have <font color = red>come</font> out <font color = red>bad</font> pretty much every time I have ordered from here. The chicken <font color = red>nuggets</font> come out under <font color = red>par</font>. I'm lucky if the <font color = red>fries</font> come out right. My <font color = red>last</font> experience is the last straw. I recently posted a photo of my Chicken Ranch Club. That has no chicken. This is ridiculous. I am done going to this Mcd's.<br>My orders have <font color = green>arriving</font> out <font color = green>wicked</font> pretty much every time I have ordered from here. The chicken <font color = green>fries</font> come out under <font color = green>para</font>. I'm lucky if the <font color = green>frites</font> come out right. My <font color = green>former</font> experience is the last straw. I recently posted a photo of my Chicken Ranch Club. That has no chicken. This is ridiculous. I am done going to this Mcd's."
            ],
            "text/plain": [
              "<IPython.core.display.HTML object>"
            ]
          },
          "metadata": {
            "tags": []
          }
        },
        {
          "output_type": "stream",
          "text": [
            "\n",
            "[Succeeded / Failed / Total] 16 / 1 / 17:  72%|███████▏  | 18/25 [04:44<01:50, 15.80s/it]\u001b[A\n",
            "[Succeeded / Failed / Total] 17 / 1 / 18:  72%|███████▏  | 18/25 [04:44<01:50, 15.81s/it]\u001b[A"
          ],
          "name": "stderr"
        },
        {
          "output_type": "display_data",
          "data": {
            "text/html": [
              "<font color = red>1 (100%)</font> --> <font color = green>2 (65%)</font><br>Wow. What a shame. My <font color = red>family</font> just moved to the area and <font color = red>have</font> been <font color = red>sampling</font> the local <font color = red>cuisine</font>. We are a <font color = red>very</font> <font color = red>large</font> <font color = red>family</font> and <font color = red>love</font> <font color = red>foods</font> of all <font color = red>kind</font>. We've <font color = red>eaten</font> <font color = red>Chinese</font> <font color = red>food</font> from a hundred <font color = red>different</font> <font color = red>places</font> in a dozen different <font color = red>cities</font>. Hands down, this was the <font color = red>worst</font> we've ever <font color = red>had</font>. <font color = red>Cold</font>, <font color = red>tough</font>, congealed, and tasteless - that's the only <font color = red>way</font> to <font color = red>describe</font> it. I'll never <font color = red>order</font> from here again. <font color = red>Quite</font> frankly, the fact that I <font color = red>took</font> <font color = red>time</font> <font color = red>away</font> from my <font color = red>kids</font> to <font color = red>type</font> this out <font color = red>should</font> <font color = red>tell</font> you how awful it was. My <font color = red>complaints</font> <font color = red>fell</font> on deaf <font color = red>ears</font>. I <font color = red>guess</font> they were <font color = red>shocked</font> that someone <font color = red>thought</font> that they were <font color = red>serving</font> <font color = red>low</font> grade <font color = red>dog</font> food. <font color = red>I</font> <font color = red>understand</font> that <font color = red>sometimes</font> <font color = red>restaurants</font> crank out <font color = red>bad</font> <font color = red>food</font>. <font color = red>It</font> <font color = red>happens</font>. But when it <font color = red>does</font>, you <font color = red>bend</font> over <font color = red>backwards</font> to <font color = red>make</font> it <font color = red>right</font>. Not at this <font color = red>place</font>. <font color = red>I</font> was <font color = red>told</font> that he would <font color = red>have</font> to <font color = red>speak</font> with the <font color = red>owner</font> in <font color = red>order</font> to <font color = red>help</font> me. I <font color = red>guess</font> that's how they deflect <font color = red>complaints</font> - <font color = red>blame</font> it on the <font color = red>owners</font> that aren't there and <font color = red>make</font> the customer for away angry.  Too bad. Because we will be visiting a <font color = red>competitor</font> in the <font color = red>future</font>. <font color = red>This</font> family of 7 won't be visiting China Sea ever again. Oh, and by the way, why can't I give this place zero stars?<br>Wow. What a shame. My <font color = green>relatives</font> just moved to the area and <font color = green>could</font> been <font color = green>specimen</font> the local <font color = green>galley</font>. We are a <font color = green>severely</font> <font color = green>phenomenal</font> <font color = green>parents</font> and <font color = green>beloved</font> <font color = green>edible</font> of all <font color = green>categorized</font>. We've <font color = green>meals</font> <font color = green>Cantonese</font> <font color = green>meals</font> from a hundred <font color = green>other</font> <font color = green>venue</font> in a dozen different <font color = green>precinct</font>. Hands down, this was the <font color = green>finest</font> we've ever <font color = green>received</font>. <font color = green>Icy</font>, <font color = green>inhospitable</font>, congealed, and tasteless - that's the only <font color = green>shape</font> to <font color = green>indicating</font> it. I'll never <font color = green>ordinance</font> from here again. <font color = green>Perfectly</font> frankly, the fact that I <font color = green>conducted</font> <font color = green>moment</font> <font color = green>aside</font> from my <font color = green>boys</font> to <font color = green>dude</font> this out <font color = green>envisioned</font> <font color = green>chatter</font> you how awful it was. My <font color = green>claiming</font> <font color = green>stumbled</font> on deaf <font color = green>armbands</font>. I <font color = green>reckon</font> they were <font color = green>terrified</font> that someone <font color = green>perception</font> that they were <font color = green>service</font> <font color = green>feeble</font> grade <font color = green>mutt</font> food. <font color = green>me</font> <font color = green>embrace</font> that <font color = green>recurrent</font> <font color = green>eat</font> crank out <font color = green>malicious</font> <font color = green>lunch</font>. <font color = green>His</font> <font color = green>arrived</font>. But when it <font color = green>gonna</font>, you <font color = green>twisted</font> over <font color = green>backward</font> to <font color = green>pose</font> it <font color = green>correctly</font>. Not at this <font color = green>placement</font>. <font color = green>me</font> was <font color = green>proclaimed</font> that he would <font color = green>haya</font> to <font color = green>speeches</font> with the <font color = green>landowner</font> in <font color = green>edict</font> to <font color = green>attend</font> me. I <font color = green>guessing</font> that's how they deflect <font color = green>requisitions</font> - <font color = green>accuse</font> it on the <font color = green>landowner</font> that aren't there and <font color = green>accomplish</font> the customer for away angry.  Too bad. Because we will be visiting a <font color = green>competitors</font> in the <font color = green>posterior</font>. <font color = green>These</font> family of 7 won't be visiting China Sea ever again. Oh, and by the way, why can't I give this place zero stars?"
            ],
            "text/plain": [
              "<IPython.core.display.HTML object>"
            ]
          },
          "metadata": {
            "tags": []
          }
        },
        {
          "output_type": "stream",
          "text": [
            "\n",
            "[Succeeded / Failed / Total] 17 / 1 / 18:  76%|███████▌  | 19/25 [06:11<01:57, 19.57s/it]\u001b[A\n",
            "[Succeeded / Failed / Total] 18 / 1 / 19:  76%|███████▌  | 19/25 [06:11<01:57, 19.57s/it]\u001b[A"
          ],
          "name": "stderr"
        },
        {
          "output_type": "display_data",
          "data": {
            "text/html": [
              "<font color = green>2 (100%)</font> --> <font color = red>1 (93%)</font><br>I fell in <font color = green>love</font> with this place as soon as we pulled up and saw the lights strung up and  oldies coming from the speakers! \\n\\nI tried the banana cream pie hard ice cream, their scoops are very <font color = green>generous</font>!! \\n\\nMy bf got the peach cobbler hard ice cream and that was to die for! We got 4 servings of ice cream for $10, which nowadays is a steal IMO! :) \\n\\nI'll <font color = green>definitely</font> be heading back with my coworkers this week!<br>I fell in <font color = red>luv</font> with this place as soon as we pulled up and saw the lights strung up and  oldies coming from the speakers! \\n\\nI tried the banana cream pie hard ice cream, their scoops are very <font color = red>unselfish</font>!! \\n\\nMy bf got the peach cobbler hard ice cream and that was to die for! We got 4 servings of ice cream for $10, which nowadays is a steal IMO! :) \\n\\nI'll <font color = red>vehemently</font> be heading back with my coworkers this week!"
            ],
            "text/plain": [
              "<IPython.core.display.HTML object>"
            ]
          },
          "metadata": {
            "tags": []
          }
        },
        {
          "output_type": "stream",
          "text": [
            "\n",
            "[Succeeded / Failed / Total] 18 / 1 / 19:  80%|████████  | 20/25 [06:17<01:34, 18.87s/it]\u001b[A\n",
            "[Succeeded / Failed / Total] 19 / 1 / 20:  80%|████████  | 20/25 [06:17<01:34, 18.87s/it]\u001b[A"
          ],
          "name": "stderr"
        },
        {
          "output_type": "display_data",
          "data": {
            "text/html": [
              "<font color = green>2 (100%)</font> --> <font color = red>1 (53%)</font><br><font color = green>This</font> is by far, the <font color = green>BEST</font> soft <font color = green>serve</font> <font color = green>ice</font> <font color = green>cream</font> <font color = green>place</font> in <font color = green>southwestern</font> PA. The \\\"\"flavor of the week\\\"\" is always interesting-and <font color = green>tasty</font>! Though, I am somewhat disappointed that they've switched to a lower grade ice milk, for their vanilla and chocolate offerings. I don't know if this is a matter of cutting corners, or if the better stuff simply isn't available any longer. <font color = green>Either</font> way, this <font color = green>place</font> is still <font color = green>leaps</font> and bounds ahead of DQ, Tastee Freeze, etc. It's definitely <font color = green>worth</font> the trip. It's mostly street parking, though they do have about 3-4 parking spaces off to the side. Serving sizes are huge! The small cone here, is the same size as a DQ large. And the large is SO big, they can't fit it through the window-they hand it out the side door.\\n\\nIf you want a real \\\"\"Kodak moment\\\"\"-order a large cone for the kids, and keep the camera, and wet wipes handy!<br><font color = red>These</font> is by far, the <font color = red>ALRIGHT</font> soft <font color = red>respond</font> <font color = red>snow</font> <font color = red>chocolate</font> <font color = red>venue</font> in <font color = red>southerly</font> PA. The \\\"\"flavor of the week\\\"\" is always interesting-and <font color = red>fleshy</font>! Though, I am somewhat disappointed that they've switched to a lower grade ice milk, for their vanilla and chocolate offerings. I don't know if this is a matter of cutting corners, or if the better stuff simply isn't available any longer. <font color = red>No</font> way, this <font color = red>stead</font> is still <font color = red>skip</font> and bounds ahead of DQ, Tastee Freeze, etc. It's definitely <font color = red>worthwhile</font> the trip. It's mostly street parking, though they do have about 3-4 parking spaces off to the side. Serving sizes are huge! The small cone here, is the same size as a DQ large. And the large is SO big, they can't fit it through the window-they hand it out the side door.\\n\\nIf you want a real \\\"\"Kodak moment\\\"\"-order a large cone for the kids, and keep the camera, and wet wipes handy!"
            ],
            "text/plain": [
              "<IPython.core.display.HTML object>"
            ]
          },
          "metadata": {
            "tags": []
          }
        },
        {
          "output_type": "stream",
          "text": [
            "\n",
            "[Succeeded / Failed / Total] 19 / 1 / 20:  84%|████████▍ | 21/25 [06:33<01:14, 18.73s/it]\u001b[A\n",
            "[Succeeded / Failed / Total] 20 / 1 / 21:  84%|████████▍ | 21/25 [06:33<01:14, 18.73s/it]\u001b[A"
          ],
          "name": "stderr"
        },
        {
          "output_type": "display_data",
          "data": {
            "text/html": [
              "<font color = green>2 (100%)</font> --> <font color = red>1 (70%)</font><br><font color = green>This</font> is my go-to distributer. They have a <font color = green>great</font> selection and <font color = green>lots</font> of hard to find brews. I haven't noticed that it's any more expensive than going elsewhere but honestly if I don't buy here then I'm buying six packs which as we all <font color = green>know</font> are a huuugggge rip off. <font color = green>So</font> any time I have a case of something I <font color = green>love</font> I feel like I'm getting a bargain. The cold selection <font color = green>does</font> suck <font color = green>so</font> I try to plan ahead and have what I need already cold. Staff here are all very helpful- and will have recommendations if you <font color = green>ask</font>.<br><font color = red>That</font> is my go-to distributer. They have a <font color = red>whopping</font> selection and <font color = red>afar</font> of hard to find brews. I haven't noticed that it's any more expensive than going elsewhere but honestly if I don't buy here then I'm buying six packs which as we all <font color = red>acknowledge</font> are a huuugggge rip off. <font color = red>Unless</font> any time I have a case of something I <font color = red>enjoy</font> I feel like I'm getting a bargain. The cold selection <font color = red>got</font> suck <font color = red>additionally</font> I try to plan ahead and have what I need already cold. Staff here are all very helpful- and will have recommendations if you <font color = red>pose</font>."
            ],
            "text/plain": [
              "<IPython.core.display.HTML object>"
            ]
          },
          "metadata": {
            "tags": []
          }
        },
        {
          "output_type": "stream",
          "text": [
            "\n",
            "[Succeeded / Failed / Total] 20 / 1 / 21:  88%|████████▊ | 22/25 [06:45<00:55, 18.44s/it]\u001b[A\n",
            "[Succeeded / Failed / Total] 21 / 1 / 22:  88%|████████▊ | 22/25 [06:45<00:55, 18.44s/it]\u001b[A"
          ],
          "name": "stderr"
        },
        {
          "output_type": "display_data",
          "data": {
            "text/html": [
              "<font color = green>2 (100%)</font> --> <font color = red>1 (94%)</font><br>Love this beer distributor.  They always <font color = green>have</font> what I'm looking for. The workers are <font color = green>extremely</font> <font color = green>nice</font> and always willing to help. Best one I've <font color = green>seen</font> by <font color = green>far</font>.<br>Love this beer distributor.  They always <font color = red>hectare</font> what I'm looking for. The workers are <font color = red>horribly</font> <font color = red>gentil</font> and always willing to help. Best one I've <font color = red>sawthe</font> by <font color = red>sharply</font>."
            ],
            "text/plain": [
              "<IPython.core.display.HTML object>"
            ]
          },
          "metadata": {
            "tags": []
          }
        },
        {
          "output_type": "stream",
          "text": [
            "\n",
            "[Succeeded / Failed / Total] 21 / 1 / 22:  92%|█████████▏| 23/25 [06:53<00:35, 17.98s/it]\u001b[A\n",
            "[Succeeded / Failed / Total] 22 / 1 / 23:  92%|█████████▏| 23/25 [06:53<00:35, 17.99s/it]\u001b[A"
          ],
          "name": "stderr"
        },
        {
          "output_type": "display_data",
          "data": {
            "text/html": [
              "<font color = red>1 (100%)</font> --> <font color = green>2 (78%)</font><br><font color = red>Went</font> here with a <font color = red>gift</font> <font color = red>card</font> from the <font color = red>restaurant</font> <font color = red>week</font> <font color = red>photo</font> <font color = red>competition</font>. \\n\\nWe were one of two tables there and a <font color = red>bunch</font> of <font color = red>staff</font> <font color = red>showing</font> up during the <font color = red>meal</font>. \\n\\nOur <font color = red>waitress</font> was <font color = red>good</font>, but that couldn't <font color = red>save</font> the <font color = red>food</font>.\\n\\nThe <font color = red>meal</font> started out with some what I <font color = red>guess</font> used to <font color = red>be</font> foccacia.  I say used to be because it no longer represented anything other than long pieces of brick or bark very stale and <font color = red>tasteless</font>.\\n\\nWe ordered the vegetable board which was probably the best thing we ordered with light and bright vegetables perfectly cooked and paired with two delicious sauces. \\n\\nThen we <font color = red>ordered</font> the octopus which was fine, but very <font color = red>cold</font> and the octopus <font color = red>had</font> <font color = red>little</font> to no <font color = red>flavor</font>, being overwhelmed by the citrus in the dish. \\n\\nThe tuscan wings were ok, but they were really ordered for my husband who seemed to enjoy them. \\n\\nFinally the diver scallops.  <font color = red>This</font> dish was indeible.  The scallops were very overcooked and the pea puree was so minty I was unable to eat it. We sent it back and they did take off half of the price (weren't expecting anything just didn't want to eat it). \\n\\nAfter that we decided against dessert and left.  I probably will not return.<br><font color = green>Toured</font> here with a <font color = green>knack</font> <font color = green>cards</font> from the <font color = green>banquets</font> <font color = green>weekend</font> <font color = green>panorama</font> <font color = green>competes</font>. \\n\\nWe were one of two tables there and a <font color = green>strips</font> of <font color = green>personnel</font> <font color = green>demonstrates</font> up during the <font color = green>banquet</font>. \\n\\nOur <font color = green>wench</font> was <font color = green>exemplary</font>, but that couldn't <font color = green>spare</font> the <font color = green>foodstuffs</font>.\\n\\nThe <font color = green>eating</font> started out with some what I <font color = green>reckon</font> used to <font color = green>fi</font> foccacia.  I say used to be because it no longer represented anything other than long pieces of brick or bark very stale and <font color = green>vacuous</font>.\\n\\nWe ordered the vegetable board which was probably the best thing we ordered with light and bright vegetables perfectly cooked and paired with two delicious sauces. \\n\\nThen we <font color = green>commanded</font> the octopus which was fine, but very <font color = green>chilled</font> and the octopus <font color = green>enjoys</font> <font color = green>low</font> to no <font color = green>stink</font>, being overwhelmed by the citrus in the dish. \\n\\nThe tuscan wings were ok, but they were really ordered for my husband who seemed to enjoy them. \\n\\nFinally the diver scallops.  <font color = green>These</font> dish was indeible.  The scallops were very overcooked and the pea puree was so minty I was unable to eat it. We sent it back and they did take off half of the price (weren't expecting anything just didn't want to eat it). \\n\\nAfter that we decided against dessert and left.  I probably will not return."
            ],
            "text/plain": [
              "<IPython.core.display.HTML object>"
            ]
          },
          "metadata": {
            "tags": []
          }
        },
        {
          "output_type": "stream",
          "text": [
            "\n",
            "[Succeeded / Failed / Total] 22 / 1 / 23:  96%|█████████▌| 24/25 [07:25<00:18, 18.58s/it]\u001b[A\n",
            "[Succeeded / Failed / Total] 23 / 1 / 24:  96%|█████████▌| 24/25 [07:25<00:18, 18.58s/it]\u001b[A"
          ],
          "name": "stderr"
        },
        {
          "output_type": "display_data",
          "data": {
            "text/html": [
              "<font color = red>1 (100%)</font> --> <font color = green>2 (86%)</font><br>I went there today! The cut was <font color = red>terrible</font>! I have an <font color = red>awful</font> experience. They lady that cut my hair was nice but she wanted to leave early so she made a <font color = red>disaster</font> in my head!<br>I went there today! The cut was <font color = green>calamitous</font>! I have an <font color = green>monstrous</font> experience. They lady that cut my hair was nice but she wanted to leave early so she made a <font color = green>ravages</font> in my head!"
            ],
            "text/plain": [
              "<IPython.core.display.HTML object>"
            ]
          },
          "metadata": {
            "tags": []
          }
        },
        {
          "output_type": "stream",
          "text": [
            "\n",
            "[Succeeded / Failed / Total] 23 / 1 / 24: 100%|██████████| 25/25 [07:30<00:00, 18.01s/it]\u001b[A\n",
            "[Succeeded / Failed / Total] 24 / 1 / 25: 100%|██████████| 25/25 [07:30<00:00, 18.01s/it]"
          ],
          "name": "stderr"
        },
        {
          "output_type": "stream",
          "text": [
            "+-------------------------------+--------+\n",
            "| Attack Results                |        |\n",
            "+-------------------------------+--------+\n",
            "| Number of successful attacks: | 24     |\n",
            "| Number of failed attacks:     | 1      |\n",
            "| Number of skipped attacks:    | 0      |\n",
            "| Original accuracy:            | 100.0% |\n",
            "| Accuracy under attack:        | 4.0%   |\n",
            "| Attack success rate:          | 96.0%  |\n",
            "| Average perturbed word %:     | 9.09%  |\n",
            "| Average num. words per input: | 133.36 |\n",
            "| Avg num queries:              | 480.92 |\n",
            "+-------------------------------+--------+"
          ],
          "name": "stdout"
        },
        {
          "output_type": "stream",
          "text": [
            "\n",
            "\u001b[34;1mtextattack\u001b[0m: Attack time: 450.33698773384094s\n"
          ],
          "name": "stderr"
        }
      ]
    }
  ]
}