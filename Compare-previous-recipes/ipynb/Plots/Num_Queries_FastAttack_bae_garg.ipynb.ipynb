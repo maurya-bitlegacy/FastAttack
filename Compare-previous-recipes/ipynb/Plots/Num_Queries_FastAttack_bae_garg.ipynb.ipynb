{
  "nbformat": 4,
  "nbformat_minor": 0,
  "metadata": {
    "colab": {
      "name": "queries on bae_albert_yelp.ipynb",
      "provenance": [],
      "collapsed_sections": []
    },
    "kernelspec": {
      "name": "python3",
      "display_name": "Python 3"
    },
    "language_info": {
      "name": "python"
    },
    "accelerator": "GPU",
    "widgets": {
      "application/vnd.jupyter.widget-state+json": {
        "dfff3e8d3f0d4622a19de8144efafad7": {
          "model_module": "@jupyter-widgets/controls",
          "model_name": "HBoxModel",
          "state": {
            "_view_name": "HBoxView",
            "_dom_classes": [],
            "_model_name": "HBoxModel",
            "_view_module": "@jupyter-widgets/controls",
            "_model_module_version": "1.5.0",
            "_view_count": null,
            "_view_module_version": "1.5.0",
            "box_style": "",
            "layout": "IPY_MODEL_21323aa5827a476aa3ed408e2ee40bf7",
            "_model_module": "@jupyter-widgets/controls",
            "children": [
              "IPY_MODEL_570f25c1e99e4345b4f4ce75e400d5cd",
              "IPY_MODEL_7c7554b05ee6463fa826620befc75349"
            ]
          }
        },
        "21323aa5827a476aa3ed408e2ee40bf7": {
          "model_module": "@jupyter-widgets/base",
          "model_name": "LayoutModel",
          "state": {
            "_view_name": "LayoutView",
            "grid_template_rows": null,
            "right": null,
            "justify_content": null,
            "_view_module": "@jupyter-widgets/base",
            "overflow": null,
            "_model_module_version": "1.2.0",
            "_view_count": null,
            "flex_flow": null,
            "width": null,
            "min_width": null,
            "border": null,
            "align_items": null,
            "bottom": null,
            "_model_module": "@jupyter-widgets/base",
            "top": null,
            "grid_column": null,
            "overflow_y": null,
            "overflow_x": null,
            "grid_auto_flow": null,
            "grid_area": null,
            "grid_template_columns": null,
            "flex": null,
            "_model_name": "LayoutModel",
            "justify_items": null,
            "grid_row": null,
            "max_height": null,
            "align_content": null,
            "visibility": null,
            "align_self": null,
            "height": null,
            "min_height": null,
            "padding": null,
            "grid_auto_rows": null,
            "grid_gap": null,
            "max_width": null,
            "order": null,
            "_view_module_version": "1.2.0",
            "grid_template_areas": null,
            "object_position": null,
            "object_fit": null,
            "grid_auto_columns": null,
            "margin": null,
            "display": null,
            "left": null
          }
        },
        "570f25c1e99e4345b4f4ce75e400d5cd": {
          "model_module": "@jupyter-widgets/controls",
          "model_name": "FloatProgressModel",
          "state": {
            "_view_name": "ProgressView",
            "style": "IPY_MODEL_e1d5310821f54970b2648764b0cd9232",
            "_dom_classes": [],
            "description": "Downloading: 100%",
            "_model_name": "FloatProgressModel",
            "bar_style": "success",
            "max": 736,
            "_view_module": "@jupyter-widgets/controls",
            "_model_module_version": "1.5.0",
            "value": 736,
            "_view_count": null,
            "_view_module_version": "1.5.0",
            "orientation": "horizontal",
            "min": 0,
            "description_tooltip": null,
            "_model_module": "@jupyter-widgets/controls",
            "layout": "IPY_MODEL_3f3b72cbf7cb4708826b26941ec5e69c"
          }
        },
        "7c7554b05ee6463fa826620befc75349": {
          "model_module": "@jupyter-widgets/controls",
          "model_name": "HTMLModel",
          "state": {
            "_view_name": "HTMLView",
            "style": "IPY_MODEL_a17cb99f9c074c089d97523d7191627f",
            "_dom_classes": [],
            "description": "",
            "_model_name": "HTMLModel",
            "placeholder": "​",
            "_view_module": "@jupyter-widgets/controls",
            "_model_module_version": "1.5.0",
            "value": " 736/736 [00:00&lt;00:00, 2.99kB/s]",
            "_view_count": null,
            "_view_module_version": "1.5.0",
            "description_tooltip": null,
            "_model_module": "@jupyter-widgets/controls",
            "layout": "IPY_MODEL_d147456740e0440aa92d9df90f0f6b36"
          }
        },
        "e1d5310821f54970b2648764b0cd9232": {
          "model_module": "@jupyter-widgets/controls",
          "model_name": "ProgressStyleModel",
          "state": {
            "_view_name": "StyleView",
            "_model_name": "ProgressStyleModel",
            "description_width": "initial",
            "_view_module": "@jupyter-widgets/base",
            "_model_module_version": "1.5.0",
            "_view_count": null,
            "_view_module_version": "1.2.0",
            "bar_color": null,
            "_model_module": "@jupyter-widgets/controls"
          }
        },
        "3f3b72cbf7cb4708826b26941ec5e69c": {
          "model_module": "@jupyter-widgets/base",
          "model_name": "LayoutModel",
          "state": {
            "_view_name": "LayoutView",
            "grid_template_rows": null,
            "right": null,
            "justify_content": null,
            "_view_module": "@jupyter-widgets/base",
            "overflow": null,
            "_model_module_version": "1.2.0",
            "_view_count": null,
            "flex_flow": null,
            "width": null,
            "min_width": null,
            "border": null,
            "align_items": null,
            "bottom": null,
            "_model_module": "@jupyter-widgets/base",
            "top": null,
            "grid_column": null,
            "overflow_y": null,
            "overflow_x": null,
            "grid_auto_flow": null,
            "grid_area": null,
            "grid_template_columns": null,
            "flex": null,
            "_model_name": "LayoutModel",
            "justify_items": null,
            "grid_row": null,
            "max_height": null,
            "align_content": null,
            "visibility": null,
            "align_self": null,
            "height": null,
            "min_height": null,
            "padding": null,
            "grid_auto_rows": null,
            "grid_gap": null,
            "max_width": null,
            "order": null,
            "_view_module_version": "1.2.0",
            "grid_template_areas": null,
            "object_position": null,
            "object_fit": null,
            "grid_auto_columns": null,
            "margin": null,
            "display": null,
            "left": null
          }
        },
        "a17cb99f9c074c089d97523d7191627f": {
          "model_module": "@jupyter-widgets/controls",
          "model_name": "DescriptionStyleModel",
          "state": {
            "_view_name": "StyleView",
            "_model_name": "DescriptionStyleModel",
            "description_width": "",
            "_view_module": "@jupyter-widgets/base",
            "_model_module_version": "1.5.0",
            "_view_count": null,
            "_view_module_version": "1.2.0",
            "_model_module": "@jupyter-widgets/controls"
          }
        },
        "d147456740e0440aa92d9df90f0f6b36": {
          "model_module": "@jupyter-widgets/base",
          "model_name": "LayoutModel",
          "state": {
            "_view_name": "LayoutView",
            "grid_template_rows": null,
            "right": null,
            "justify_content": null,
            "_view_module": "@jupyter-widgets/base",
            "overflow": null,
            "_model_module_version": "1.2.0",
            "_view_count": null,
            "flex_flow": null,
            "width": null,
            "min_width": null,
            "border": null,
            "align_items": null,
            "bottom": null,
            "_model_module": "@jupyter-widgets/base",
            "top": null,
            "grid_column": null,
            "overflow_y": null,
            "overflow_x": null,
            "grid_auto_flow": null,
            "grid_area": null,
            "grid_template_columns": null,
            "flex": null,
            "_model_name": "LayoutModel",
            "justify_items": null,
            "grid_row": null,
            "max_height": null,
            "align_content": null,
            "visibility": null,
            "align_self": null,
            "height": null,
            "min_height": null,
            "padding": null,
            "grid_auto_rows": null,
            "grid_gap": null,
            "max_width": null,
            "order": null,
            "_view_module_version": "1.2.0",
            "grid_template_areas": null,
            "object_position": null,
            "object_fit": null,
            "grid_auto_columns": null,
            "margin": null,
            "display": null,
            "left": null
          }
        },
        "c0ad59a3e13742b2bf66fdc3ff210aee": {
          "model_module": "@jupyter-widgets/controls",
          "model_name": "HBoxModel",
          "state": {
            "_view_name": "HBoxView",
            "_dom_classes": [],
            "_model_name": "HBoxModel",
            "_view_module": "@jupyter-widgets/controls",
            "_model_module_version": "1.5.0",
            "_view_count": null,
            "_view_module_version": "1.5.0",
            "box_style": "",
            "layout": "IPY_MODEL_c82c3b91a3a142c986774520ab78baec",
            "_model_module": "@jupyter-widgets/controls",
            "children": [
              "IPY_MODEL_c7858f39f724436a818cf3bfc26243c3",
              "IPY_MODEL_d83f9d553c1843eabb2a9e341dd87c8c"
            ]
          }
        },
        "c82c3b91a3a142c986774520ab78baec": {
          "model_module": "@jupyter-widgets/base",
          "model_name": "LayoutModel",
          "state": {
            "_view_name": "LayoutView",
            "grid_template_rows": null,
            "right": null,
            "justify_content": null,
            "_view_module": "@jupyter-widgets/base",
            "overflow": null,
            "_model_module_version": "1.2.0",
            "_view_count": null,
            "flex_flow": null,
            "width": null,
            "min_width": null,
            "border": null,
            "align_items": null,
            "bottom": null,
            "_model_module": "@jupyter-widgets/base",
            "top": null,
            "grid_column": null,
            "overflow_y": null,
            "overflow_x": null,
            "grid_auto_flow": null,
            "grid_area": null,
            "grid_template_columns": null,
            "flex": null,
            "_model_name": "LayoutModel",
            "justify_items": null,
            "grid_row": null,
            "max_height": null,
            "align_content": null,
            "visibility": null,
            "align_self": null,
            "height": null,
            "min_height": null,
            "padding": null,
            "grid_auto_rows": null,
            "grid_gap": null,
            "max_width": null,
            "order": null,
            "_view_module_version": "1.2.0",
            "grid_template_areas": null,
            "object_position": null,
            "object_fit": null,
            "grid_auto_columns": null,
            "margin": null,
            "display": null,
            "left": null
          }
        },
        "c7858f39f724436a818cf3bfc26243c3": {
          "model_module": "@jupyter-widgets/controls",
          "model_name": "FloatProgressModel",
          "state": {
            "_view_name": "ProgressView",
            "style": "IPY_MODEL_0f6527b80f5345fd8c7dbf892549bd7d",
            "_dom_classes": [],
            "description": "Downloading: 100%",
            "_model_name": "FloatProgressModel",
            "bar_style": "success",
            "max": 46747112,
            "_view_module": "@jupyter-widgets/controls",
            "_model_module_version": "1.5.0",
            "value": 46747112,
            "_view_count": null,
            "_view_module_version": "1.5.0",
            "orientation": "horizontal",
            "min": 0,
            "description_tooltip": null,
            "_model_module": "@jupyter-widgets/controls",
            "layout": "IPY_MODEL_c03fc8cfcbd64deea86b87e599008eda"
          }
        },
        "d83f9d553c1843eabb2a9e341dd87c8c": {
          "model_module": "@jupyter-widgets/controls",
          "model_name": "HTMLModel",
          "state": {
            "_view_name": "HTMLView",
            "style": "IPY_MODEL_960fcda65b82422cb0a0d399c31acd67",
            "_dom_classes": [],
            "description": "",
            "_model_name": "HTMLModel",
            "placeholder": "​",
            "_view_module": "@jupyter-widgets/controls",
            "_model_module_version": "1.5.0",
            "value": " 46.7M/46.7M [00:01&lt;00:00, 45.2MB/s]",
            "_view_count": null,
            "_view_module_version": "1.5.0",
            "description_tooltip": null,
            "_model_module": "@jupyter-widgets/controls",
            "layout": "IPY_MODEL_fbc0ea955a1640ebadeeb5af4b6fea41"
          }
        },
        "0f6527b80f5345fd8c7dbf892549bd7d": {
          "model_module": "@jupyter-widgets/controls",
          "model_name": "ProgressStyleModel",
          "state": {
            "_view_name": "StyleView",
            "_model_name": "ProgressStyleModel",
            "description_width": "initial",
            "_view_module": "@jupyter-widgets/base",
            "_model_module_version": "1.5.0",
            "_view_count": null,
            "_view_module_version": "1.2.0",
            "bar_color": null,
            "_model_module": "@jupyter-widgets/controls"
          }
        },
        "c03fc8cfcbd64deea86b87e599008eda": {
          "model_module": "@jupyter-widgets/base",
          "model_name": "LayoutModel",
          "state": {
            "_view_name": "LayoutView",
            "grid_template_rows": null,
            "right": null,
            "justify_content": null,
            "_view_module": "@jupyter-widgets/base",
            "overflow": null,
            "_model_module_version": "1.2.0",
            "_view_count": null,
            "flex_flow": null,
            "width": null,
            "min_width": null,
            "border": null,
            "align_items": null,
            "bottom": null,
            "_model_module": "@jupyter-widgets/base",
            "top": null,
            "grid_column": null,
            "overflow_y": null,
            "overflow_x": null,
            "grid_auto_flow": null,
            "grid_area": null,
            "grid_template_columns": null,
            "flex": null,
            "_model_name": "LayoutModel",
            "justify_items": null,
            "grid_row": null,
            "max_height": null,
            "align_content": null,
            "visibility": null,
            "align_self": null,
            "height": null,
            "min_height": null,
            "padding": null,
            "grid_auto_rows": null,
            "grid_gap": null,
            "max_width": null,
            "order": null,
            "_view_module_version": "1.2.0",
            "grid_template_areas": null,
            "object_position": null,
            "object_fit": null,
            "grid_auto_columns": null,
            "margin": null,
            "display": null,
            "left": null
          }
        },
        "960fcda65b82422cb0a0d399c31acd67": {
          "model_module": "@jupyter-widgets/controls",
          "model_name": "DescriptionStyleModel",
          "state": {
            "_view_name": "StyleView",
            "_model_name": "DescriptionStyleModel",
            "description_width": "",
            "_view_module": "@jupyter-widgets/base",
            "_model_module_version": "1.5.0",
            "_view_count": null,
            "_view_module_version": "1.2.0",
            "_model_module": "@jupyter-widgets/controls"
          }
        },
        "fbc0ea955a1640ebadeeb5af4b6fea41": {
          "model_module": "@jupyter-widgets/base",
          "model_name": "LayoutModel",
          "state": {
            "_view_name": "LayoutView",
            "grid_template_rows": null,
            "right": null,
            "justify_content": null,
            "_view_module": "@jupyter-widgets/base",
            "overflow": null,
            "_model_module_version": "1.2.0",
            "_view_count": null,
            "flex_flow": null,
            "width": null,
            "min_width": null,
            "border": null,
            "align_items": null,
            "bottom": null,
            "_model_module": "@jupyter-widgets/base",
            "top": null,
            "grid_column": null,
            "overflow_y": null,
            "overflow_x": null,
            "grid_auto_flow": null,
            "grid_area": null,
            "grid_template_columns": null,
            "flex": null,
            "_model_name": "LayoutModel",
            "justify_items": null,
            "grid_row": null,
            "max_height": null,
            "align_content": null,
            "visibility": null,
            "align_self": null,
            "height": null,
            "min_height": null,
            "padding": null,
            "grid_auto_rows": null,
            "grid_gap": null,
            "max_width": null,
            "order": null,
            "_view_module_version": "1.2.0",
            "grid_template_areas": null,
            "object_position": null,
            "object_fit": null,
            "grid_auto_columns": null,
            "margin": null,
            "display": null,
            "left": null
          }
        },
        "dcfda53c240b40cba4922c47bf98cc88": {
          "model_module": "@jupyter-widgets/controls",
          "model_name": "HBoxModel",
          "state": {
            "_view_name": "HBoxView",
            "_dom_classes": [],
            "_model_name": "HBoxModel",
            "_view_module": "@jupyter-widgets/controls",
            "_model_module_version": "1.5.0",
            "_view_count": null,
            "_view_module_version": "1.5.0",
            "box_style": "",
            "layout": "IPY_MODEL_76da99be434a46af970534099a3be92b",
            "_model_module": "@jupyter-widgets/controls",
            "children": [
              "IPY_MODEL_faa537374c7340dba2b84a958f329a04",
              "IPY_MODEL_c6e1a48ae9d544859131209d7763206a"
            ]
          }
        },
        "76da99be434a46af970534099a3be92b": {
          "model_module": "@jupyter-widgets/base",
          "model_name": "LayoutModel",
          "state": {
            "_view_name": "LayoutView",
            "grid_template_rows": null,
            "right": null,
            "justify_content": null,
            "_view_module": "@jupyter-widgets/base",
            "overflow": null,
            "_model_module_version": "1.2.0",
            "_view_count": null,
            "flex_flow": null,
            "width": null,
            "min_width": null,
            "border": null,
            "align_items": null,
            "bottom": null,
            "_model_module": "@jupyter-widgets/base",
            "top": null,
            "grid_column": null,
            "overflow_y": null,
            "overflow_x": null,
            "grid_auto_flow": null,
            "grid_area": null,
            "grid_template_columns": null,
            "flex": null,
            "_model_name": "LayoutModel",
            "justify_items": null,
            "grid_row": null,
            "max_height": null,
            "align_content": null,
            "visibility": null,
            "align_self": null,
            "height": null,
            "min_height": null,
            "padding": null,
            "grid_auto_rows": null,
            "grid_gap": null,
            "max_width": null,
            "order": null,
            "_view_module_version": "1.2.0",
            "grid_template_areas": null,
            "object_position": null,
            "object_fit": null,
            "grid_auto_columns": null,
            "margin": null,
            "display": null,
            "left": null
          }
        },
        "faa537374c7340dba2b84a958f329a04": {
          "model_module": "@jupyter-widgets/controls",
          "model_name": "FloatProgressModel",
          "state": {
            "_view_name": "ProgressView",
            "style": "IPY_MODEL_64c78db3bac04959a38f8b92350ee8a6",
            "_dom_classes": [],
            "description": "Downloading: 100%",
            "_model_name": "FloatProgressModel",
            "bar_style": "success",
            "max": 760289,
            "_view_module": "@jupyter-widgets/controls",
            "_model_module_version": "1.5.0",
            "value": 760289,
            "_view_count": null,
            "_view_module_version": "1.5.0",
            "orientation": "horizontal",
            "min": 0,
            "description_tooltip": null,
            "_model_module": "@jupyter-widgets/controls",
            "layout": "IPY_MODEL_5953b8769beb47e399fba0153831f959"
          }
        },
        "c6e1a48ae9d544859131209d7763206a": {
          "model_module": "@jupyter-widgets/controls",
          "model_name": "HTMLModel",
          "state": {
            "_view_name": "HTMLView",
            "style": "IPY_MODEL_ded03d2c8d054390a3fcde467e1bb823",
            "_dom_classes": [],
            "description": "",
            "_model_name": "HTMLModel",
            "placeholder": "​",
            "_view_module": "@jupyter-widgets/controls",
            "_model_module_version": "1.5.0",
            "value": " 760k/760k [00:01&lt;00:00, 705kB/s]",
            "_view_count": null,
            "_view_module_version": "1.5.0",
            "description_tooltip": null,
            "_model_module": "@jupyter-widgets/controls",
            "layout": "IPY_MODEL_97fe0b499ebf46d9bdb087d36687932a"
          }
        },
        "64c78db3bac04959a38f8b92350ee8a6": {
          "model_module": "@jupyter-widgets/controls",
          "model_name": "ProgressStyleModel",
          "state": {
            "_view_name": "StyleView",
            "_model_name": "ProgressStyleModel",
            "description_width": "initial",
            "_view_module": "@jupyter-widgets/base",
            "_model_module_version": "1.5.0",
            "_view_count": null,
            "_view_module_version": "1.2.0",
            "bar_color": null,
            "_model_module": "@jupyter-widgets/controls"
          }
        },
        "5953b8769beb47e399fba0153831f959": {
          "model_module": "@jupyter-widgets/base",
          "model_name": "LayoutModel",
          "state": {
            "_view_name": "LayoutView",
            "grid_template_rows": null,
            "right": null,
            "justify_content": null,
            "_view_module": "@jupyter-widgets/base",
            "overflow": null,
            "_model_module_version": "1.2.0",
            "_view_count": null,
            "flex_flow": null,
            "width": null,
            "min_width": null,
            "border": null,
            "align_items": null,
            "bottom": null,
            "_model_module": "@jupyter-widgets/base",
            "top": null,
            "grid_column": null,
            "overflow_y": null,
            "overflow_x": null,
            "grid_auto_flow": null,
            "grid_area": null,
            "grid_template_columns": null,
            "flex": null,
            "_model_name": "LayoutModel",
            "justify_items": null,
            "grid_row": null,
            "max_height": null,
            "align_content": null,
            "visibility": null,
            "align_self": null,
            "height": null,
            "min_height": null,
            "padding": null,
            "grid_auto_rows": null,
            "grid_gap": null,
            "max_width": null,
            "order": null,
            "_view_module_version": "1.2.0",
            "grid_template_areas": null,
            "object_position": null,
            "object_fit": null,
            "grid_auto_columns": null,
            "margin": null,
            "display": null,
            "left": null
          }
        },
        "ded03d2c8d054390a3fcde467e1bb823": {
          "model_module": "@jupyter-widgets/controls",
          "model_name": "DescriptionStyleModel",
          "state": {
            "_view_name": "StyleView",
            "_model_name": "DescriptionStyleModel",
            "description_width": "",
            "_view_module": "@jupyter-widgets/base",
            "_model_module_version": "1.5.0",
            "_view_count": null,
            "_view_module_version": "1.2.0",
            "_model_module": "@jupyter-widgets/controls"
          }
        },
        "97fe0b499ebf46d9bdb087d36687932a": {
          "model_module": "@jupyter-widgets/base",
          "model_name": "LayoutModel",
          "state": {
            "_view_name": "LayoutView",
            "grid_template_rows": null,
            "right": null,
            "justify_content": null,
            "_view_module": "@jupyter-widgets/base",
            "overflow": null,
            "_model_module_version": "1.2.0",
            "_view_count": null,
            "flex_flow": null,
            "width": null,
            "min_width": null,
            "border": null,
            "align_items": null,
            "bottom": null,
            "_model_module": "@jupyter-widgets/base",
            "top": null,
            "grid_column": null,
            "overflow_y": null,
            "overflow_x": null,
            "grid_auto_flow": null,
            "grid_area": null,
            "grid_template_columns": null,
            "flex": null,
            "_model_name": "LayoutModel",
            "justify_items": null,
            "grid_row": null,
            "max_height": null,
            "align_content": null,
            "visibility": null,
            "align_self": null,
            "height": null,
            "min_height": null,
            "padding": null,
            "grid_auto_rows": null,
            "grid_gap": null,
            "max_width": null,
            "order": null,
            "_view_module_version": "1.2.0",
            "grid_template_areas": null,
            "object_position": null,
            "object_fit": null,
            "grid_auto_columns": null,
            "margin": null,
            "display": null,
            "left": null
          }
        },
        "b7f09649d38542e2875997f3b0231252": {
          "model_module": "@jupyter-widgets/controls",
          "model_name": "HBoxModel",
          "state": {
            "_view_name": "HBoxView",
            "_dom_classes": [],
            "_model_name": "HBoxModel",
            "_view_module": "@jupyter-widgets/controls",
            "_model_module_version": "1.5.0",
            "_view_count": null,
            "_view_module_version": "1.5.0",
            "box_style": "",
            "layout": "IPY_MODEL_876b84406a904920887b56707f0e9687",
            "_model_module": "@jupyter-widgets/controls",
            "children": [
              "IPY_MODEL_f883d76b77f74fd19ab7ff782a79d578",
              "IPY_MODEL_e9b9160f184a4bf8a595a85c48543393"
            ]
          }
        },
        "876b84406a904920887b56707f0e9687": {
          "model_module": "@jupyter-widgets/base",
          "model_name": "LayoutModel",
          "state": {
            "_view_name": "LayoutView",
            "grid_template_rows": null,
            "right": null,
            "justify_content": null,
            "_view_module": "@jupyter-widgets/base",
            "overflow": null,
            "_model_module_version": "1.2.0",
            "_view_count": null,
            "flex_flow": null,
            "width": null,
            "min_width": null,
            "border": null,
            "align_items": null,
            "bottom": null,
            "_model_module": "@jupyter-widgets/base",
            "top": null,
            "grid_column": null,
            "overflow_y": null,
            "overflow_x": null,
            "grid_auto_flow": null,
            "grid_area": null,
            "grid_template_columns": null,
            "flex": null,
            "_model_name": "LayoutModel",
            "justify_items": null,
            "grid_row": null,
            "max_height": null,
            "align_content": null,
            "visibility": null,
            "align_self": null,
            "height": null,
            "min_height": null,
            "padding": null,
            "grid_auto_rows": null,
            "grid_gap": null,
            "max_width": null,
            "order": null,
            "_view_module_version": "1.2.0",
            "grid_template_areas": null,
            "object_position": null,
            "object_fit": null,
            "grid_auto_columns": null,
            "margin": null,
            "display": null,
            "left": null
          }
        },
        "f883d76b77f74fd19ab7ff782a79d578": {
          "model_module": "@jupyter-widgets/controls",
          "model_name": "FloatProgressModel",
          "state": {
            "_view_name": "ProgressView",
            "style": "IPY_MODEL_cb71c23d5bde4c6097c25c8e7d1e20f1",
            "_dom_classes": [],
            "description": "Downloading: 100%",
            "_model_name": "FloatProgressModel",
            "bar_style": "success",
            "max": 156,
            "_view_module": "@jupyter-widgets/controls",
            "_model_module_version": "1.5.0",
            "value": 156,
            "_view_count": null,
            "_view_module_version": "1.5.0",
            "orientation": "horizontal",
            "min": 0,
            "description_tooltip": null,
            "_model_module": "@jupyter-widgets/controls",
            "layout": "IPY_MODEL_92b10604d3a143ee9ca05ec129e20af4"
          }
        },
        "e9b9160f184a4bf8a595a85c48543393": {
          "model_module": "@jupyter-widgets/controls",
          "model_name": "HTMLModel",
          "state": {
            "_view_name": "HTMLView",
            "style": "IPY_MODEL_60b4f22d7e154f1fb42814116f234b5e",
            "_dom_classes": [],
            "description": "",
            "_model_name": "HTMLModel",
            "placeholder": "​",
            "_view_module": "@jupyter-widgets/controls",
            "_model_module_version": "1.5.0",
            "value": " 156/156 [00:00&lt;00:00, 275B/s]",
            "_view_count": null,
            "_view_module_version": "1.5.0",
            "description_tooltip": null,
            "_model_module": "@jupyter-widgets/controls",
            "layout": "IPY_MODEL_987f7c069dc0442190a45cb236de28b9"
          }
        },
        "cb71c23d5bde4c6097c25c8e7d1e20f1": {
          "model_module": "@jupyter-widgets/controls",
          "model_name": "ProgressStyleModel",
          "state": {
            "_view_name": "StyleView",
            "_model_name": "ProgressStyleModel",
            "description_width": "initial",
            "_view_module": "@jupyter-widgets/base",
            "_model_module_version": "1.5.0",
            "_view_count": null,
            "_view_module_version": "1.2.0",
            "bar_color": null,
            "_model_module": "@jupyter-widgets/controls"
          }
        },
        "92b10604d3a143ee9ca05ec129e20af4": {
          "model_module": "@jupyter-widgets/base",
          "model_name": "LayoutModel",
          "state": {
            "_view_name": "LayoutView",
            "grid_template_rows": null,
            "right": null,
            "justify_content": null,
            "_view_module": "@jupyter-widgets/base",
            "overflow": null,
            "_model_module_version": "1.2.0",
            "_view_count": null,
            "flex_flow": null,
            "width": null,
            "min_width": null,
            "border": null,
            "align_items": null,
            "bottom": null,
            "_model_module": "@jupyter-widgets/base",
            "top": null,
            "grid_column": null,
            "overflow_y": null,
            "overflow_x": null,
            "grid_auto_flow": null,
            "grid_area": null,
            "grid_template_columns": null,
            "flex": null,
            "_model_name": "LayoutModel",
            "justify_items": null,
            "grid_row": null,
            "max_height": null,
            "align_content": null,
            "visibility": null,
            "align_self": null,
            "height": null,
            "min_height": null,
            "padding": null,
            "grid_auto_rows": null,
            "grid_gap": null,
            "max_width": null,
            "order": null,
            "_view_module_version": "1.2.0",
            "grid_template_areas": null,
            "object_position": null,
            "object_fit": null,
            "grid_auto_columns": null,
            "margin": null,
            "display": null,
            "left": null
          }
        },
        "60b4f22d7e154f1fb42814116f234b5e": {
          "model_module": "@jupyter-widgets/controls",
          "model_name": "DescriptionStyleModel",
          "state": {
            "_view_name": "StyleView",
            "_model_name": "DescriptionStyleModel",
            "description_width": "",
            "_view_module": "@jupyter-widgets/base",
            "_model_module_version": "1.5.0",
            "_view_count": null,
            "_view_module_version": "1.2.0",
            "_model_module": "@jupyter-widgets/controls"
          }
        },
        "987f7c069dc0442190a45cb236de28b9": {
          "model_module": "@jupyter-widgets/base",
          "model_name": "LayoutModel",
          "state": {
            "_view_name": "LayoutView",
            "grid_template_rows": null,
            "right": null,
            "justify_content": null,
            "_view_module": "@jupyter-widgets/base",
            "overflow": null,
            "_model_module_version": "1.2.0",
            "_view_count": null,
            "flex_flow": null,
            "width": null,
            "min_width": null,
            "border": null,
            "align_items": null,
            "bottom": null,
            "_model_module": "@jupyter-widgets/base",
            "top": null,
            "grid_column": null,
            "overflow_y": null,
            "overflow_x": null,
            "grid_auto_flow": null,
            "grid_area": null,
            "grid_template_columns": null,
            "flex": null,
            "_model_name": "LayoutModel",
            "justify_items": null,
            "grid_row": null,
            "max_height": null,
            "align_content": null,
            "visibility": null,
            "align_self": null,
            "height": null,
            "min_height": null,
            "padding": null,
            "grid_auto_rows": null,
            "grid_gap": null,
            "max_width": null,
            "order": null,
            "_view_module_version": "1.2.0",
            "grid_template_areas": null,
            "object_position": null,
            "object_fit": null,
            "grid_auto_columns": null,
            "margin": null,
            "display": null,
            "left": null
          }
        },
        "80e6bcbf91334b0097f5b49e0b9d5f40": {
          "model_module": "@jupyter-widgets/controls",
          "model_name": "HBoxModel",
          "state": {
            "_view_name": "HBoxView",
            "_dom_classes": [],
            "_model_name": "HBoxModel",
            "_view_module": "@jupyter-widgets/controls",
            "_model_module_version": "1.5.0",
            "_view_count": null,
            "_view_module_version": "1.5.0",
            "box_style": "",
            "layout": "IPY_MODEL_b3c991dfa6ca4ca791d11d6bf81bc4a2",
            "_model_module": "@jupyter-widgets/controls",
            "children": [
              "IPY_MODEL_c9e528d4dc614b02ab95db55a3289cc8",
              "IPY_MODEL_23530f3cafa3457189bd031f577ae1cc"
            ]
          }
        },
        "b3c991dfa6ca4ca791d11d6bf81bc4a2": {
          "model_module": "@jupyter-widgets/base",
          "model_name": "LayoutModel",
          "state": {
            "_view_name": "LayoutView",
            "grid_template_rows": null,
            "right": null,
            "justify_content": null,
            "_view_module": "@jupyter-widgets/base",
            "overflow": null,
            "_model_module_version": "1.2.0",
            "_view_count": null,
            "flex_flow": null,
            "width": null,
            "min_width": null,
            "border": null,
            "align_items": null,
            "bottom": null,
            "_model_module": "@jupyter-widgets/base",
            "top": null,
            "grid_column": null,
            "overflow_y": null,
            "overflow_x": null,
            "grid_auto_flow": null,
            "grid_area": null,
            "grid_template_columns": null,
            "flex": null,
            "_model_name": "LayoutModel",
            "justify_items": null,
            "grid_row": null,
            "max_height": null,
            "align_content": null,
            "visibility": null,
            "align_self": null,
            "height": null,
            "min_height": null,
            "padding": null,
            "grid_auto_rows": null,
            "grid_gap": null,
            "max_width": null,
            "order": null,
            "_view_module_version": "1.2.0",
            "grid_template_areas": null,
            "object_position": null,
            "object_fit": null,
            "grid_auto_columns": null,
            "margin": null,
            "display": null,
            "left": null
          }
        },
        "c9e528d4dc614b02ab95db55a3289cc8": {
          "model_module": "@jupyter-widgets/controls",
          "model_name": "FloatProgressModel",
          "state": {
            "_view_name": "ProgressView",
            "style": "IPY_MODEL_e9a9e942bbdc464b9257af82b9a6820e",
            "_dom_classes": [],
            "description": "Downloading: 100%",
            "_model_name": "FloatProgressModel",
            "bar_style": "success",
            "max": 25,
            "_view_module": "@jupyter-widgets/controls",
            "_model_module_version": "1.5.0",
            "value": 25,
            "_view_count": null,
            "_view_module_version": "1.5.0",
            "orientation": "horizontal",
            "min": 0,
            "description_tooltip": null,
            "_model_module": "@jupyter-widgets/controls",
            "layout": "IPY_MODEL_efceb66d907741779d274cadaf4bb004"
          }
        },
        "23530f3cafa3457189bd031f577ae1cc": {
          "model_module": "@jupyter-widgets/controls",
          "model_name": "HTMLModel",
          "state": {
            "_view_name": "HTMLView",
            "style": "IPY_MODEL_18b44a05af1941ae8386cc3f1ac53b03",
            "_dom_classes": [],
            "description": "",
            "_model_name": "HTMLModel",
            "placeholder": "​",
            "_view_module": "@jupyter-widgets/controls",
            "_model_module_version": "1.5.0",
            "value": " 25.0/25.0 [00:00&lt;00:00, 207B/s]",
            "_view_count": null,
            "_view_module_version": "1.5.0",
            "description_tooltip": null,
            "_model_module": "@jupyter-widgets/controls",
            "layout": "IPY_MODEL_fd51a735a0714a35a8b32ac8bb118ed5"
          }
        },
        "e9a9e942bbdc464b9257af82b9a6820e": {
          "model_module": "@jupyter-widgets/controls",
          "model_name": "ProgressStyleModel",
          "state": {
            "_view_name": "StyleView",
            "_model_name": "ProgressStyleModel",
            "description_width": "initial",
            "_view_module": "@jupyter-widgets/base",
            "_model_module_version": "1.5.0",
            "_view_count": null,
            "_view_module_version": "1.2.0",
            "bar_color": null,
            "_model_module": "@jupyter-widgets/controls"
          }
        },
        "efceb66d907741779d274cadaf4bb004": {
          "model_module": "@jupyter-widgets/base",
          "model_name": "LayoutModel",
          "state": {
            "_view_name": "LayoutView",
            "grid_template_rows": null,
            "right": null,
            "justify_content": null,
            "_view_module": "@jupyter-widgets/base",
            "overflow": null,
            "_model_module_version": "1.2.0",
            "_view_count": null,
            "flex_flow": null,
            "width": null,
            "min_width": null,
            "border": null,
            "align_items": null,
            "bottom": null,
            "_model_module": "@jupyter-widgets/base",
            "top": null,
            "grid_column": null,
            "overflow_y": null,
            "overflow_x": null,
            "grid_auto_flow": null,
            "grid_area": null,
            "grid_template_columns": null,
            "flex": null,
            "_model_name": "LayoutModel",
            "justify_items": null,
            "grid_row": null,
            "max_height": null,
            "align_content": null,
            "visibility": null,
            "align_self": null,
            "height": null,
            "min_height": null,
            "padding": null,
            "grid_auto_rows": null,
            "grid_gap": null,
            "max_width": null,
            "order": null,
            "_view_module_version": "1.2.0",
            "grid_template_areas": null,
            "object_position": null,
            "object_fit": null,
            "grid_auto_columns": null,
            "margin": null,
            "display": null,
            "left": null
          }
        },
        "18b44a05af1941ae8386cc3f1ac53b03": {
          "model_module": "@jupyter-widgets/controls",
          "model_name": "DescriptionStyleModel",
          "state": {
            "_view_name": "StyleView",
            "_model_name": "DescriptionStyleModel",
            "description_width": "",
            "_view_module": "@jupyter-widgets/base",
            "_model_module_version": "1.5.0",
            "_view_count": null,
            "_view_module_version": "1.2.0",
            "_model_module": "@jupyter-widgets/controls"
          }
        },
        "fd51a735a0714a35a8b32ac8bb118ed5": {
          "model_module": "@jupyter-widgets/base",
          "model_name": "LayoutModel",
          "state": {
            "_view_name": "LayoutView",
            "grid_template_rows": null,
            "right": null,
            "justify_content": null,
            "_view_module": "@jupyter-widgets/base",
            "overflow": null,
            "_model_module_version": "1.2.0",
            "_view_count": null,
            "flex_flow": null,
            "width": null,
            "min_width": null,
            "border": null,
            "align_items": null,
            "bottom": null,
            "_model_module": "@jupyter-widgets/base",
            "top": null,
            "grid_column": null,
            "overflow_y": null,
            "overflow_x": null,
            "grid_auto_flow": null,
            "grid_area": null,
            "grid_template_columns": null,
            "flex": null,
            "_model_name": "LayoutModel",
            "justify_items": null,
            "grid_row": null,
            "max_height": null,
            "align_content": null,
            "visibility": null,
            "align_self": null,
            "height": null,
            "min_height": null,
            "padding": null,
            "grid_auto_rows": null,
            "grid_gap": null,
            "max_width": null,
            "order": null,
            "_view_module_version": "1.2.0",
            "grid_template_areas": null,
            "object_position": null,
            "object_fit": null,
            "grid_auto_columns": null,
            "margin": null,
            "display": null,
            "left": null
          }
        },
        "978f376fb7f04f7380e6604bd551b3b0": {
          "model_module": "@jupyter-widgets/controls",
          "model_name": "HBoxModel",
          "state": {
            "_view_name": "HBoxView",
            "_dom_classes": [],
            "_model_name": "HBoxModel",
            "_view_module": "@jupyter-widgets/controls",
            "_model_module_version": "1.5.0",
            "_view_count": null,
            "_view_module_version": "1.5.0",
            "box_style": "",
            "layout": "IPY_MODEL_e34abeda86d7482fb67bee674a805d0e",
            "_model_module": "@jupyter-widgets/controls",
            "children": [
              "IPY_MODEL_8d21b3bbbe1a4226a6645de3ea171730",
              "IPY_MODEL_912f7f2139254dba88a411b79864fbcd"
            ]
          }
        },
        "e34abeda86d7482fb67bee674a805d0e": {
          "model_module": "@jupyter-widgets/base",
          "model_name": "LayoutModel",
          "state": {
            "_view_name": "LayoutView",
            "grid_template_rows": null,
            "right": null,
            "justify_content": null,
            "_view_module": "@jupyter-widgets/base",
            "overflow": null,
            "_model_module_version": "1.2.0",
            "_view_count": null,
            "flex_flow": null,
            "width": null,
            "min_width": null,
            "border": null,
            "align_items": null,
            "bottom": null,
            "_model_module": "@jupyter-widgets/base",
            "top": null,
            "grid_column": null,
            "overflow_y": null,
            "overflow_x": null,
            "grid_auto_flow": null,
            "grid_area": null,
            "grid_template_columns": null,
            "flex": null,
            "_model_name": "LayoutModel",
            "justify_items": null,
            "grid_row": null,
            "max_height": null,
            "align_content": null,
            "visibility": null,
            "align_self": null,
            "height": null,
            "min_height": null,
            "padding": null,
            "grid_auto_rows": null,
            "grid_gap": null,
            "max_width": null,
            "order": null,
            "_view_module_version": "1.2.0",
            "grid_template_areas": null,
            "object_position": null,
            "object_fit": null,
            "grid_auto_columns": null,
            "margin": null,
            "display": null,
            "left": null
          }
        },
        "8d21b3bbbe1a4226a6645de3ea171730": {
          "model_module": "@jupyter-widgets/controls",
          "model_name": "FloatProgressModel",
          "state": {
            "_view_name": "ProgressView",
            "style": "IPY_MODEL_2711ba4ac3064f4fb6de114c93e6e66a",
            "_dom_classes": [],
            "description": "Downloading: ",
            "_model_name": "FloatProgressModel",
            "bar_style": "success",
            "max": 2313,
            "_view_module": "@jupyter-widgets/controls",
            "_model_module_version": "1.5.0",
            "value": 2313,
            "_view_count": null,
            "_view_module_version": "1.5.0",
            "orientation": "horizontal",
            "min": 0,
            "description_tooltip": null,
            "_model_module": "@jupyter-widgets/controls",
            "layout": "IPY_MODEL_bc2d3b737ba04de78457ce31bd1ef0c6"
          }
        },
        "912f7f2139254dba88a411b79864fbcd": {
          "model_module": "@jupyter-widgets/controls",
          "model_name": "HTMLModel",
          "state": {
            "_view_name": "HTMLView",
            "style": "IPY_MODEL_5ca750d0fc514fe7a87425264a76ec0c",
            "_dom_classes": [],
            "description": "",
            "_model_name": "HTMLModel",
            "placeholder": "​",
            "_view_module": "@jupyter-widgets/controls",
            "_model_module_version": "1.5.0",
            "value": " 5.88k/? [00:00&lt;00:00, 31.5kB/s]",
            "_view_count": null,
            "_view_module_version": "1.5.0",
            "description_tooltip": null,
            "_model_module": "@jupyter-widgets/controls",
            "layout": "IPY_MODEL_8fd8c15d00634987a9e312ff1d38ead3"
          }
        },
        "2711ba4ac3064f4fb6de114c93e6e66a": {
          "model_module": "@jupyter-widgets/controls",
          "model_name": "ProgressStyleModel",
          "state": {
            "_view_name": "StyleView",
            "_model_name": "ProgressStyleModel",
            "description_width": "initial",
            "_view_module": "@jupyter-widgets/base",
            "_model_module_version": "1.5.0",
            "_view_count": null,
            "_view_module_version": "1.2.0",
            "bar_color": null,
            "_model_module": "@jupyter-widgets/controls"
          }
        },
        "bc2d3b737ba04de78457ce31bd1ef0c6": {
          "model_module": "@jupyter-widgets/base",
          "model_name": "LayoutModel",
          "state": {
            "_view_name": "LayoutView",
            "grid_template_rows": null,
            "right": null,
            "justify_content": null,
            "_view_module": "@jupyter-widgets/base",
            "overflow": null,
            "_model_module_version": "1.2.0",
            "_view_count": null,
            "flex_flow": null,
            "width": null,
            "min_width": null,
            "border": null,
            "align_items": null,
            "bottom": null,
            "_model_module": "@jupyter-widgets/base",
            "top": null,
            "grid_column": null,
            "overflow_y": null,
            "overflow_x": null,
            "grid_auto_flow": null,
            "grid_area": null,
            "grid_template_columns": null,
            "flex": null,
            "_model_name": "LayoutModel",
            "justify_items": null,
            "grid_row": null,
            "max_height": null,
            "align_content": null,
            "visibility": null,
            "align_self": null,
            "height": null,
            "min_height": null,
            "padding": null,
            "grid_auto_rows": null,
            "grid_gap": null,
            "max_width": null,
            "order": null,
            "_view_module_version": "1.2.0",
            "grid_template_areas": null,
            "object_position": null,
            "object_fit": null,
            "grid_auto_columns": null,
            "margin": null,
            "display": null,
            "left": null
          }
        },
        "5ca750d0fc514fe7a87425264a76ec0c": {
          "model_module": "@jupyter-widgets/controls",
          "model_name": "DescriptionStyleModel",
          "state": {
            "_view_name": "StyleView",
            "_model_name": "DescriptionStyleModel",
            "description_width": "",
            "_view_module": "@jupyter-widgets/base",
            "_model_module_version": "1.5.0",
            "_view_count": null,
            "_view_module_version": "1.2.0",
            "_model_module": "@jupyter-widgets/controls"
          }
        },
        "8fd8c15d00634987a9e312ff1d38ead3": {
          "model_module": "@jupyter-widgets/base",
          "model_name": "LayoutModel",
          "state": {
            "_view_name": "LayoutView",
            "grid_template_rows": null,
            "right": null,
            "justify_content": null,
            "_view_module": "@jupyter-widgets/base",
            "overflow": null,
            "_model_module_version": "1.2.0",
            "_view_count": null,
            "flex_flow": null,
            "width": null,
            "min_width": null,
            "border": null,
            "align_items": null,
            "bottom": null,
            "_model_module": "@jupyter-widgets/base",
            "top": null,
            "grid_column": null,
            "overflow_y": null,
            "overflow_x": null,
            "grid_auto_flow": null,
            "grid_area": null,
            "grid_template_columns": null,
            "flex": null,
            "_model_name": "LayoutModel",
            "justify_items": null,
            "grid_row": null,
            "max_height": null,
            "align_content": null,
            "visibility": null,
            "align_self": null,
            "height": null,
            "min_height": null,
            "padding": null,
            "grid_auto_rows": null,
            "grid_gap": null,
            "max_width": null,
            "order": null,
            "_view_module_version": "1.2.0",
            "grid_template_areas": null,
            "object_position": null,
            "object_fit": null,
            "grid_auto_columns": null,
            "margin": null,
            "display": null,
            "left": null
          }
        },
        "e72ec5d735d04521a0bc19b6d560a79f": {
          "model_module": "@jupyter-widgets/controls",
          "model_name": "HBoxModel",
          "state": {
            "_view_name": "HBoxView",
            "_dom_classes": [],
            "_model_name": "HBoxModel",
            "_view_module": "@jupyter-widgets/controls",
            "_model_module_version": "1.5.0",
            "_view_count": null,
            "_view_module_version": "1.5.0",
            "box_style": "",
            "layout": "IPY_MODEL_67668874e9e74d1fa1423a6669b16464",
            "_model_module": "@jupyter-widgets/controls",
            "children": [
              "IPY_MODEL_7af94780c3184d61b49912558206a088",
              "IPY_MODEL_446a37036dd64b318812e5894a1247e0"
            ]
          }
        },
        "67668874e9e74d1fa1423a6669b16464": {
          "model_module": "@jupyter-widgets/base",
          "model_name": "LayoutModel",
          "state": {
            "_view_name": "LayoutView",
            "grid_template_rows": null,
            "right": null,
            "justify_content": null,
            "_view_module": "@jupyter-widgets/base",
            "overflow": null,
            "_model_module_version": "1.2.0",
            "_view_count": null,
            "flex_flow": null,
            "width": null,
            "min_width": null,
            "border": null,
            "align_items": null,
            "bottom": null,
            "_model_module": "@jupyter-widgets/base",
            "top": null,
            "grid_column": null,
            "overflow_y": null,
            "overflow_x": null,
            "grid_auto_flow": null,
            "grid_area": null,
            "grid_template_columns": null,
            "flex": null,
            "_model_name": "LayoutModel",
            "justify_items": null,
            "grid_row": null,
            "max_height": null,
            "align_content": null,
            "visibility": null,
            "align_self": null,
            "height": null,
            "min_height": null,
            "padding": null,
            "grid_auto_rows": null,
            "grid_gap": null,
            "max_width": null,
            "order": null,
            "_view_module_version": "1.2.0",
            "grid_template_areas": null,
            "object_position": null,
            "object_fit": null,
            "grid_auto_columns": null,
            "margin": null,
            "display": null,
            "left": null
          }
        },
        "7af94780c3184d61b49912558206a088": {
          "model_module": "@jupyter-widgets/controls",
          "model_name": "FloatProgressModel",
          "state": {
            "_view_name": "ProgressView",
            "style": "IPY_MODEL_75cd8ead0dc740d7a42bbd0831f04b9b",
            "_dom_classes": [],
            "description": "Downloading: ",
            "_model_name": "FloatProgressModel",
            "bar_style": "success",
            "max": 1609,
            "_view_module": "@jupyter-widgets/controls",
            "_model_module_version": "1.5.0",
            "value": 1609,
            "_view_count": null,
            "_view_module_version": "1.5.0",
            "orientation": "horizontal",
            "min": 0,
            "description_tooltip": null,
            "_model_module": "@jupyter-widgets/controls",
            "layout": "IPY_MODEL_0cc86e7357dd4611910ce31a2c2c7224"
          }
        },
        "446a37036dd64b318812e5894a1247e0": {
          "model_module": "@jupyter-widgets/controls",
          "model_name": "HTMLModel",
          "state": {
            "_view_name": "HTMLView",
            "style": "IPY_MODEL_b1cf979ab49a4d6881b6eb0391653f5f",
            "_dom_classes": [],
            "description": "",
            "_model_name": "HTMLModel",
            "placeholder": "​",
            "_view_module": "@jupyter-widgets/controls",
            "_model_module_version": "1.5.0",
            "value": " 3.37k/? [00:00&lt;00:00, 44.1kB/s]",
            "_view_count": null,
            "_view_module_version": "1.5.0",
            "description_tooltip": null,
            "_model_module": "@jupyter-widgets/controls",
            "layout": "IPY_MODEL_97c32693d9bb407f913bcd32a224c288"
          }
        },
        "75cd8ead0dc740d7a42bbd0831f04b9b": {
          "model_module": "@jupyter-widgets/controls",
          "model_name": "ProgressStyleModel",
          "state": {
            "_view_name": "StyleView",
            "_model_name": "ProgressStyleModel",
            "description_width": "initial",
            "_view_module": "@jupyter-widgets/base",
            "_model_module_version": "1.5.0",
            "_view_count": null,
            "_view_module_version": "1.2.0",
            "bar_color": null,
            "_model_module": "@jupyter-widgets/controls"
          }
        },
        "0cc86e7357dd4611910ce31a2c2c7224": {
          "model_module": "@jupyter-widgets/base",
          "model_name": "LayoutModel",
          "state": {
            "_view_name": "LayoutView",
            "grid_template_rows": null,
            "right": null,
            "justify_content": null,
            "_view_module": "@jupyter-widgets/base",
            "overflow": null,
            "_model_module_version": "1.2.0",
            "_view_count": null,
            "flex_flow": null,
            "width": null,
            "min_width": null,
            "border": null,
            "align_items": null,
            "bottom": null,
            "_model_module": "@jupyter-widgets/base",
            "top": null,
            "grid_column": null,
            "overflow_y": null,
            "overflow_x": null,
            "grid_auto_flow": null,
            "grid_area": null,
            "grid_template_columns": null,
            "flex": null,
            "_model_name": "LayoutModel",
            "justify_items": null,
            "grid_row": null,
            "max_height": null,
            "align_content": null,
            "visibility": null,
            "align_self": null,
            "height": null,
            "min_height": null,
            "padding": null,
            "grid_auto_rows": null,
            "grid_gap": null,
            "max_width": null,
            "order": null,
            "_view_module_version": "1.2.0",
            "grid_template_areas": null,
            "object_position": null,
            "object_fit": null,
            "grid_auto_columns": null,
            "margin": null,
            "display": null,
            "left": null
          }
        },
        "b1cf979ab49a4d6881b6eb0391653f5f": {
          "model_module": "@jupyter-widgets/controls",
          "model_name": "DescriptionStyleModel",
          "state": {
            "_view_name": "StyleView",
            "_model_name": "DescriptionStyleModel",
            "description_width": "",
            "_view_module": "@jupyter-widgets/base",
            "_model_module_version": "1.5.0",
            "_view_count": null,
            "_view_module_version": "1.2.0",
            "_model_module": "@jupyter-widgets/controls"
          }
        },
        "97c32693d9bb407f913bcd32a224c288": {
          "model_module": "@jupyter-widgets/base",
          "model_name": "LayoutModel",
          "state": {
            "_view_name": "LayoutView",
            "grid_template_rows": null,
            "right": null,
            "justify_content": null,
            "_view_module": "@jupyter-widgets/base",
            "overflow": null,
            "_model_module_version": "1.2.0",
            "_view_count": null,
            "flex_flow": null,
            "width": null,
            "min_width": null,
            "border": null,
            "align_items": null,
            "bottom": null,
            "_model_module": "@jupyter-widgets/base",
            "top": null,
            "grid_column": null,
            "overflow_y": null,
            "overflow_x": null,
            "grid_auto_flow": null,
            "grid_area": null,
            "grid_template_columns": null,
            "flex": null,
            "_model_name": "LayoutModel",
            "justify_items": null,
            "grid_row": null,
            "max_height": null,
            "align_content": null,
            "visibility": null,
            "align_self": null,
            "height": null,
            "min_height": null,
            "padding": null,
            "grid_auto_rows": null,
            "grid_gap": null,
            "max_width": null,
            "order": null,
            "_view_module_version": "1.2.0",
            "grid_template_areas": null,
            "object_position": null,
            "object_fit": null,
            "grid_auto_columns": null,
            "margin": null,
            "display": null,
            "left": null
          }
        },
        "bfdd34ebcbf548698ca68d57b1cfde1a": {
          "model_module": "@jupyter-widgets/controls",
          "model_name": "HBoxModel",
          "state": {
            "_view_name": "HBoxView",
            "_dom_classes": [],
            "_model_name": "HBoxModel",
            "_view_module": "@jupyter-widgets/controls",
            "_model_module_version": "1.5.0",
            "_view_count": null,
            "_view_module_version": "1.5.0",
            "box_style": "",
            "layout": "IPY_MODEL_43c7cae2d19446839aa91fb2e307c2a9",
            "_model_module": "@jupyter-widgets/controls",
            "children": [
              "IPY_MODEL_7060e6505d994d77ad9c179025a75543",
              "IPY_MODEL_54be693dcb36490b8e62c8b86c64dca2"
            ]
          }
        },
        "43c7cae2d19446839aa91fb2e307c2a9": {
          "model_module": "@jupyter-widgets/base",
          "model_name": "LayoutModel",
          "state": {
            "_view_name": "LayoutView",
            "grid_template_rows": null,
            "right": null,
            "justify_content": null,
            "_view_module": "@jupyter-widgets/base",
            "overflow": null,
            "_model_module_version": "1.2.0",
            "_view_count": null,
            "flex_flow": null,
            "width": null,
            "min_width": null,
            "border": null,
            "align_items": null,
            "bottom": null,
            "_model_module": "@jupyter-widgets/base",
            "top": null,
            "grid_column": null,
            "overflow_y": null,
            "overflow_x": null,
            "grid_auto_flow": null,
            "grid_area": null,
            "grid_template_columns": null,
            "flex": null,
            "_model_name": "LayoutModel",
            "justify_items": null,
            "grid_row": null,
            "max_height": null,
            "align_content": null,
            "visibility": null,
            "align_self": null,
            "height": null,
            "min_height": null,
            "padding": null,
            "grid_auto_rows": null,
            "grid_gap": null,
            "max_width": null,
            "order": null,
            "_view_module_version": "1.2.0",
            "grid_template_areas": null,
            "object_position": null,
            "object_fit": null,
            "grid_auto_columns": null,
            "margin": null,
            "display": null,
            "left": null
          }
        },
        "7060e6505d994d77ad9c179025a75543": {
          "model_module": "@jupyter-widgets/controls",
          "model_name": "FloatProgressModel",
          "state": {
            "_view_name": "ProgressView",
            "style": "IPY_MODEL_f75dddb033644b01aa8acec0b76fb34f",
            "_dom_classes": [],
            "description": "Downloading: 100%",
            "_model_name": "FloatProgressModel",
            "bar_style": "success",
            "max": 166373201,
            "_view_module": "@jupyter-widgets/controls",
            "_model_module_version": "1.5.0",
            "value": 166373201,
            "_view_count": null,
            "_view_module_version": "1.5.0",
            "orientation": "horizontal",
            "min": 0,
            "description_tooltip": null,
            "_model_module": "@jupyter-widgets/controls",
            "layout": "IPY_MODEL_92ebc22eed1846dfb705a186812f36f1"
          }
        },
        "54be693dcb36490b8e62c8b86c64dca2": {
          "model_module": "@jupyter-widgets/controls",
          "model_name": "HTMLModel",
          "state": {
            "_view_name": "HTMLView",
            "style": "IPY_MODEL_01912f6b08ab4c76862a35b4902766dc",
            "_dom_classes": [],
            "description": "",
            "_model_name": "HTMLModel",
            "placeholder": "​",
            "_view_module": "@jupyter-widgets/controls",
            "_model_module_version": "1.5.0",
            "value": " 166M/166M [00:09&lt;00:00, 18.2MB/s]",
            "_view_count": null,
            "_view_module_version": "1.5.0",
            "description_tooltip": null,
            "_model_module": "@jupyter-widgets/controls",
            "layout": "IPY_MODEL_2695a374b1554448a0d9de694913c33a"
          }
        },
        "f75dddb033644b01aa8acec0b76fb34f": {
          "model_module": "@jupyter-widgets/controls",
          "model_name": "ProgressStyleModel",
          "state": {
            "_view_name": "StyleView",
            "_model_name": "ProgressStyleModel",
            "description_width": "initial",
            "_view_module": "@jupyter-widgets/base",
            "_model_module_version": "1.5.0",
            "_view_count": null,
            "_view_module_version": "1.2.0",
            "bar_color": null,
            "_model_module": "@jupyter-widgets/controls"
          }
        },
        "92ebc22eed1846dfb705a186812f36f1": {
          "model_module": "@jupyter-widgets/base",
          "model_name": "LayoutModel",
          "state": {
            "_view_name": "LayoutView",
            "grid_template_rows": null,
            "right": null,
            "justify_content": null,
            "_view_module": "@jupyter-widgets/base",
            "overflow": null,
            "_model_module_version": "1.2.0",
            "_view_count": null,
            "flex_flow": null,
            "width": null,
            "min_width": null,
            "border": null,
            "align_items": null,
            "bottom": null,
            "_model_module": "@jupyter-widgets/base",
            "top": null,
            "grid_column": null,
            "overflow_y": null,
            "overflow_x": null,
            "grid_auto_flow": null,
            "grid_area": null,
            "grid_template_columns": null,
            "flex": null,
            "_model_name": "LayoutModel",
            "justify_items": null,
            "grid_row": null,
            "max_height": null,
            "align_content": null,
            "visibility": null,
            "align_self": null,
            "height": null,
            "min_height": null,
            "padding": null,
            "grid_auto_rows": null,
            "grid_gap": null,
            "max_width": null,
            "order": null,
            "_view_module_version": "1.2.0",
            "grid_template_areas": null,
            "object_position": null,
            "object_fit": null,
            "grid_auto_columns": null,
            "margin": null,
            "display": null,
            "left": null
          }
        },
        "01912f6b08ab4c76862a35b4902766dc": {
          "model_module": "@jupyter-widgets/controls",
          "model_name": "DescriptionStyleModel",
          "state": {
            "_view_name": "StyleView",
            "_model_name": "DescriptionStyleModel",
            "description_width": "",
            "_view_module": "@jupyter-widgets/base",
            "_model_module_version": "1.5.0",
            "_view_count": null,
            "_view_module_version": "1.2.0",
            "_model_module": "@jupyter-widgets/controls"
          }
        },
        "2695a374b1554448a0d9de694913c33a": {
          "model_module": "@jupyter-widgets/base",
          "model_name": "LayoutModel",
          "state": {
            "_view_name": "LayoutView",
            "grid_template_rows": null,
            "right": null,
            "justify_content": null,
            "_view_module": "@jupyter-widgets/base",
            "overflow": null,
            "_model_module_version": "1.2.0",
            "_view_count": null,
            "flex_flow": null,
            "width": null,
            "min_width": null,
            "border": null,
            "align_items": null,
            "bottom": null,
            "_model_module": "@jupyter-widgets/base",
            "top": null,
            "grid_column": null,
            "overflow_y": null,
            "overflow_x": null,
            "grid_auto_flow": null,
            "grid_area": null,
            "grid_template_columns": null,
            "flex": null,
            "_model_name": "LayoutModel",
            "justify_items": null,
            "grid_row": null,
            "max_height": null,
            "align_content": null,
            "visibility": null,
            "align_self": null,
            "height": null,
            "min_height": null,
            "padding": null,
            "grid_auto_rows": null,
            "grid_gap": null,
            "max_width": null,
            "order": null,
            "_view_module_version": "1.2.0",
            "grid_template_areas": null,
            "object_position": null,
            "object_fit": null,
            "grid_auto_columns": null,
            "margin": null,
            "display": null,
            "left": null
          }
        },
        "d49449c59c9e4640a4377f886ec3dfb3": {
          "model_module": "@jupyter-widgets/controls",
          "model_name": "HBoxModel",
          "state": {
            "_view_name": "HBoxView",
            "_dom_classes": [],
            "_model_name": "HBoxModel",
            "_view_module": "@jupyter-widgets/controls",
            "_model_module_version": "1.5.0",
            "_view_count": null,
            "_view_module_version": "1.5.0",
            "box_style": "",
            "layout": "IPY_MODEL_7e91ed7d38754c0083e3534c7a0f32f7",
            "_model_module": "@jupyter-widgets/controls",
            "children": [
              "IPY_MODEL_179e1981dc114458b080059e976af2da",
              "IPY_MODEL_d62bbe99e7714b469b2eb136a0908aa2"
            ]
          }
        },
        "7e91ed7d38754c0083e3534c7a0f32f7": {
          "model_module": "@jupyter-widgets/base",
          "model_name": "LayoutModel",
          "state": {
            "_view_name": "LayoutView",
            "grid_template_rows": null,
            "right": null,
            "justify_content": null,
            "_view_module": "@jupyter-widgets/base",
            "overflow": null,
            "_model_module_version": "1.2.0",
            "_view_count": null,
            "flex_flow": null,
            "width": null,
            "min_width": null,
            "border": null,
            "align_items": null,
            "bottom": null,
            "_model_module": "@jupyter-widgets/base",
            "top": null,
            "grid_column": null,
            "overflow_y": null,
            "overflow_x": null,
            "grid_auto_flow": null,
            "grid_area": null,
            "grid_template_columns": null,
            "flex": null,
            "_model_name": "LayoutModel",
            "justify_items": null,
            "grid_row": null,
            "max_height": null,
            "align_content": null,
            "visibility": null,
            "align_self": null,
            "height": null,
            "min_height": null,
            "padding": null,
            "grid_auto_rows": null,
            "grid_gap": null,
            "max_width": null,
            "order": null,
            "_view_module_version": "1.2.0",
            "grid_template_areas": null,
            "object_position": null,
            "object_fit": null,
            "grid_auto_columns": null,
            "margin": null,
            "display": null,
            "left": null
          }
        },
        "179e1981dc114458b080059e976af2da": {
          "model_module": "@jupyter-widgets/controls",
          "model_name": "FloatProgressModel",
          "state": {
            "_view_name": "ProgressView",
            "style": "IPY_MODEL_3fb1a20e4c90442cb63db9cf309e594c",
            "_dom_classes": [],
            "description": "",
            "_model_name": "FloatProgressModel",
            "bar_style": "info",
            "max": 1,
            "_view_module": "@jupyter-widgets/controls",
            "_model_module_version": "1.5.0",
            "value": 1,
            "_view_count": null,
            "_view_module_version": "1.5.0",
            "orientation": "horizontal",
            "min": 0,
            "description_tooltip": null,
            "_model_module": "@jupyter-widgets/controls",
            "layout": "IPY_MODEL_602a4a221b7945708a03705eac8faf1c"
          }
        },
        "d62bbe99e7714b469b2eb136a0908aa2": {
          "model_module": "@jupyter-widgets/controls",
          "model_name": "HTMLModel",
          "state": {
            "_view_name": "HTMLView",
            "style": "IPY_MODEL_406d61854ee7463a9b9442de05c4df06",
            "_dom_classes": [],
            "description": "",
            "_model_name": "HTMLModel",
            "placeholder": "​",
            "_view_module": "@jupyter-widgets/controls",
            "_model_module_version": "1.5.0",
            "value": " 560000/0 [00:12&lt;00:00, 49716.94 examples/s]",
            "_view_count": null,
            "_view_module_version": "1.5.0",
            "description_tooltip": null,
            "_model_module": "@jupyter-widgets/controls",
            "layout": "IPY_MODEL_60de7ce4fe03436487b3617dd0c61287"
          }
        },
        "3fb1a20e4c90442cb63db9cf309e594c": {
          "model_module": "@jupyter-widgets/controls",
          "model_name": "ProgressStyleModel",
          "state": {
            "_view_name": "StyleView",
            "_model_name": "ProgressStyleModel",
            "description_width": "initial",
            "_view_module": "@jupyter-widgets/base",
            "_model_module_version": "1.5.0",
            "_view_count": null,
            "_view_module_version": "1.2.0",
            "bar_color": null,
            "_model_module": "@jupyter-widgets/controls"
          }
        },
        "602a4a221b7945708a03705eac8faf1c": {
          "model_module": "@jupyter-widgets/base",
          "model_name": "LayoutModel",
          "state": {
            "_view_name": "LayoutView",
            "grid_template_rows": null,
            "right": null,
            "justify_content": null,
            "_view_module": "@jupyter-widgets/base",
            "overflow": null,
            "_model_module_version": "1.2.0",
            "_view_count": null,
            "flex_flow": null,
            "width": null,
            "min_width": null,
            "border": null,
            "align_items": null,
            "bottom": null,
            "_model_module": "@jupyter-widgets/base",
            "top": null,
            "grid_column": null,
            "overflow_y": null,
            "overflow_x": null,
            "grid_auto_flow": null,
            "grid_area": null,
            "grid_template_columns": null,
            "flex": null,
            "_model_name": "LayoutModel",
            "justify_items": null,
            "grid_row": null,
            "max_height": null,
            "align_content": null,
            "visibility": null,
            "align_self": null,
            "height": null,
            "min_height": null,
            "padding": null,
            "grid_auto_rows": null,
            "grid_gap": null,
            "max_width": null,
            "order": null,
            "_view_module_version": "1.2.0",
            "grid_template_areas": null,
            "object_position": null,
            "object_fit": null,
            "grid_auto_columns": null,
            "margin": null,
            "display": null,
            "left": null
          }
        },
        "406d61854ee7463a9b9442de05c4df06": {
          "model_module": "@jupyter-widgets/controls",
          "model_name": "DescriptionStyleModel",
          "state": {
            "_view_name": "StyleView",
            "_model_name": "DescriptionStyleModel",
            "description_width": "",
            "_view_module": "@jupyter-widgets/base",
            "_model_module_version": "1.5.0",
            "_view_count": null,
            "_view_module_version": "1.2.0",
            "_model_module": "@jupyter-widgets/controls"
          }
        },
        "60de7ce4fe03436487b3617dd0c61287": {
          "model_module": "@jupyter-widgets/base",
          "model_name": "LayoutModel",
          "state": {
            "_view_name": "LayoutView",
            "grid_template_rows": null,
            "right": null,
            "justify_content": null,
            "_view_module": "@jupyter-widgets/base",
            "overflow": null,
            "_model_module_version": "1.2.0",
            "_view_count": null,
            "flex_flow": null,
            "width": null,
            "min_width": null,
            "border": null,
            "align_items": null,
            "bottom": null,
            "_model_module": "@jupyter-widgets/base",
            "top": null,
            "grid_column": null,
            "overflow_y": null,
            "overflow_x": null,
            "grid_auto_flow": null,
            "grid_area": null,
            "grid_template_columns": null,
            "flex": null,
            "_model_name": "LayoutModel",
            "justify_items": null,
            "grid_row": null,
            "max_height": null,
            "align_content": null,
            "visibility": null,
            "align_self": null,
            "height": null,
            "min_height": null,
            "padding": null,
            "grid_auto_rows": null,
            "grid_gap": null,
            "max_width": null,
            "order": null,
            "_view_module_version": "1.2.0",
            "grid_template_areas": null,
            "object_position": null,
            "object_fit": null,
            "grid_auto_columns": null,
            "margin": null,
            "display": null,
            "left": null
          }
        },
        "a41d74942e7247abb2b099f952b2248d": {
          "model_module": "@jupyter-widgets/controls",
          "model_name": "HBoxModel",
          "state": {
            "_view_name": "HBoxView",
            "_dom_classes": [],
            "_model_name": "HBoxModel",
            "_view_module": "@jupyter-widgets/controls",
            "_model_module_version": "1.5.0",
            "_view_count": null,
            "_view_module_version": "1.5.0",
            "box_style": "",
            "layout": "IPY_MODEL_a8d34a81da1c45469d841808c1eda06f",
            "_model_module": "@jupyter-widgets/controls",
            "children": [
              "IPY_MODEL_b5a175cf7303425a8959e6f3b4b056a4",
              "IPY_MODEL_51f6573078254b6c80ed3537e135d6db"
            ]
          }
        },
        "a8d34a81da1c45469d841808c1eda06f": {
          "model_module": "@jupyter-widgets/base",
          "model_name": "LayoutModel",
          "state": {
            "_view_name": "LayoutView",
            "grid_template_rows": null,
            "right": null,
            "justify_content": null,
            "_view_module": "@jupyter-widgets/base",
            "overflow": null,
            "_model_module_version": "1.2.0",
            "_view_count": null,
            "flex_flow": null,
            "width": null,
            "min_width": null,
            "border": null,
            "align_items": null,
            "bottom": null,
            "_model_module": "@jupyter-widgets/base",
            "top": null,
            "grid_column": null,
            "overflow_y": null,
            "overflow_x": null,
            "grid_auto_flow": null,
            "grid_area": null,
            "grid_template_columns": null,
            "flex": null,
            "_model_name": "LayoutModel",
            "justify_items": null,
            "grid_row": null,
            "max_height": null,
            "align_content": null,
            "visibility": null,
            "align_self": null,
            "height": null,
            "min_height": null,
            "padding": null,
            "grid_auto_rows": null,
            "grid_gap": null,
            "max_width": null,
            "order": null,
            "_view_module_version": "1.2.0",
            "grid_template_areas": null,
            "object_position": null,
            "object_fit": null,
            "grid_auto_columns": null,
            "margin": null,
            "display": null,
            "left": null
          }
        },
        "b5a175cf7303425a8959e6f3b4b056a4": {
          "model_module": "@jupyter-widgets/controls",
          "model_name": "FloatProgressModel",
          "state": {
            "_view_name": "ProgressView",
            "style": "IPY_MODEL_8586922cab8b4725a45819a582da3dff",
            "_dom_classes": [],
            "description": "",
            "_model_name": "FloatProgressModel",
            "bar_style": "info",
            "max": 1,
            "_view_module": "@jupyter-widgets/controls",
            "_model_module_version": "1.5.0",
            "value": 1,
            "_view_count": null,
            "_view_module_version": "1.5.0",
            "orientation": "horizontal",
            "min": 0,
            "description_tooltip": null,
            "_model_module": "@jupyter-widgets/controls",
            "layout": "IPY_MODEL_ddaab52f151c452ba0cd0526be1a20e7"
          }
        },
        "51f6573078254b6c80ed3537e135d6db": {
          "model_module": "@jupyter-widgets/controls",
          "model_name": "HTMLModel",
          "state": {
            "_view_name": "HTMLView",
            "style": "IPY_MODEL_95da7c0f5f814a008b056b4c7e9e1924",
            "_dom_classes": [],
            "description": "",
            "_model_name": "HTMLModel",
            "placeholder": "​",
            "_view_module": "@jupyter-widgets/controls",
            "_model_module_version": "1.5.0",
            "value": " 38000/0 [00:00&lt;00:00, 45060.03 examples/s]",
            "_view_count": null,
            "_view_module_version": "1.5.0",
            "description_tooltip": null,
            "_model_module": "@jupyter-widgets/controls",
            "layout": "IPY_MODEL_8c3af88a84a540f59a38e416977159f2"
          }
        },
        "8586922cab8b4725a45819a582da3dff": {
          "model_module": "@jupyter-widgets/controls",
          "model_name": "ProgressStyleModel",
          "state": {
            "_view_name": "StyleView",
            "_model_name": "ProgressStyleModel",
            "description_width": "initial",
            "_view_module": "@jupyter-widgets/base",
            "_model_module_version": "1.5.0",
            "_view_count": null,
            "_view_module_version": "1.2.0",
            "bar_color": null,
            "_model_module": "@jupyter-widgets/controls"
          }
        },
        "ddaab52f151c452ba0cd0526be1a20e7": {
          "model_module": "@jupyter-widgets/base",
          "model_name": "LayoutModel",
          "state": {
            "_view_name": "LayoutView",
            "grid_template_rows": null,
            "right": null,
            "justify_content": null,
            "_view_module": "@jupyter-widgets/base",
            "overflow": null,
            "_model_module_version": "1.2.0",
            "_view_count": null,
            "flex_flow": null,
            "width": null,
            "min_width": null,
            "border": null,
            "align_items": null,
            "bottom": null,
            "_model_module": "@jupyter-widgets/base",
            "top": null,
            "grid_column": null,
            "overflow_y": null,
            "overflow_x": null,
            "grid_auto_flow": null,
            "grid_area": null,
            "grid_template_columns": null,
            "flex": null,
            "_model_name": "LayoutModel",
            "justify_items": null,
            "grid_row": null,
            "max_height": null,
            "align_content": null,
            "visibility": null,
            "align_self": null,
            "height": null,
            "min_height": null,
            "padding": null,
            "grid_auto_rows": null,
            "grid_gap": null,
            "max_width": null,
            "order": null,
            "_view_module_version": "1.2.0",
            "grid_template_areas": null,
            "object_position": null,
            "object_fit": null,
            "grid_auto_columns": null,
            "margin": null,
            "display": null,
            "left": null
          }
        },
        "95da7c0f5f814a008b056b4c7e9e1924": {
          "model_module": "@jupyter-widgets/controls",
          "model_name": "DescriptionStyleModel",
          "state": {
            "_view_name": "StyleView",
            "_model_name": "DescriptionStyleModel",
            "description_width": "",
            "_view_module": "@jupyter-widgets/base",
            "_model_module_version": "1.5.0",
            "_view_count": null,
            "_view_module_version": "1.2.0",
            "_model_module": "@jupyter-widgets/controls"
          }
        },
        "8c3af88a84a540f59a38e416977159f2": {
          "model_module": "@jupyter-widgets/base",
          "model_name": "LayoutModel",
          "state": {
            "_view_name": "LayoutView",
            "grid_template_rows": null,
            "right": null,
            "justify_content": null,
            "_view_module": "@jupyter-widgets/base",
            "overflow": null,
            "_model_module_version": "1.2.0",
            "_view_count": null,
            "flex_flow": null,
            "width": null,
            "min_width": null,
            "border": null,
            "align_items": null,
            "bottom": null,
            "_model_module": "@jupyter-widgets/base",
            "top": null,
            "grid_column": null,
            "overflow_y": null,
            "overflow_x": null,
            "grid_auto_flow": null,
            "grid_area": null,
            "grid_template_columns": null,
            "flex": null,
            "_model_name": "LayoutModel",
            "justify_items": null,
            "grid_row": null,
            "max_height": null,
            "align_content": null,
            "visibility": null,
            "align_self": null,
            "height": null,
            "min_height": null,
            "padding": null,
            "grid_auto_rows": null,
            "grid_gap": null,
            "max_width": null,
            "order": null,
            "_view_module_version": "1.2.0",
            "grid_template_areas": null,
            "object_position": null,
            "object_fit": null,
            "grid_auto_columns": null,
            "margin": null,
            "display": null,
            "left": null
          }
        },
        "bc4034538a934437a89c65a7de98763f": {
          "model_module": "@jupyter-widgets/controls",
          "model_name": "HBoxModel",
          "state": {
            "_view_name": "HBoxView",
            "_dom_classes": [],
            "_model_name": "HBoxModel",
            "_view_module": "@jupyter-widgets/controls",
            "_model_module_version": "1.5.0",
            "_view_count": null,
            "_view_module_version": "1.5.0",
            "box_style": "",
            "layout": "IPY_MODEL_c8f0246b423b4c279bec6b10317b7046",
            "_model_module": "@jupyter-widgets/controls",
            "children": [
              "IPY_MODEL_c5806e24d5f04ce79142bf62338d1289",
              "IPY_MODEL_db840226141b478daf76108667d156d1"
            ]
          }
        },
        "c8f0246b423b4c279bec6b10317b7046": {
          "model_module": "@jupyter-widgets/base",
          "model_name": "LayoutModel",
          "state": {
            "_view_name": "LayoutView",
            "grid_template_rows": null,
            "right": null,
            "justify_content": null,
            "_view_module": "@jupyter-widgets/base",
            "overflow": null,
            "_model_module_version": "1.2.0",
            "_view_count": null,
            "flex_flow": null,
            "width": null,
            "min_width": null,
            "border": null,
            "align_items": null,
            "bottom": null,
            "_model_module": "@jupyter-widgets/base",
            "top": null,
            "grid_column": null,
            "overflow_y": null,
            "overflow_x": null,
            "grid_auto_flow": null,
            "grid_area": null,
            "grid_template_columns": null,
            "flex": null,
            "_model_name": "LayoutModel",
            "justify_items": null,
            "grid_row": null,
            "max_height": null,
            "align_content": null,
            "visibility": null,
            "align_self": null,
            "height": null,
            "min_height": null,
            "padding": null,
            "grid_auto_rows": null,
            "grid_gap": null,
            "max_width": null,
            "order": null,
            "_view_module_version": "1.2.0",
            "grid_template_areas": null,
            "object_position": null,
            "object_fit": null,
            "grid_auto_columns": null,
            "margin": null,
            "display": null,
            "left": null
          }
        },
        "c5806e24d5f04ce79142bf62338d1289": {
          "model_module": "@jupyter-widgets/controls",
          "model_name": "FloatProgressModel",
          "state": {
            "_view_name": "ProgressView",
            "style": "IPY_MODEL_697ffa471ad4432dab839490c44cba84",
            "_dom_classes": [],
            "description": "Downloading: 100%",
            "_model_name": "FloatProgressModel",
            "bar_style": "success",
            "max": 570,
            "_view_module": "@jupyter-widgets/controls",
            "_model_module_version": "1.5.0",
            "value": 570,
            "_view_count": null,
            "_view_module_version": "1.5.0",
            "orientation": "horizontal",
            "min": 0,
            "description_tooltip": null,
            "_model_module": "@jupyter-widgets/controls",
            "layout": "IPY_MODEL_b4ee0c4cfd424c10890ef939770fc22f"
          }
        },
        "db840226141b478daf76108667d156d1": {
          "model_module": "@jupyter-widgets/controls",
          "model_name": "HTMLModel",
          "state": {
            "_view_name": "HTMLView",
            "style": "IPY_MODEL_4f9d1d5b9c294e1c93ea6fe1f7ba7d8a",
            "_dom_classes": [],
            "description": "",
            "_model_name": "HTMLModel",
            "placeholder": "​",
            "_view_module": "@jupyter-widgets/controls",
            "_model_module_version": "1.5.0",
            "value": " 570/570 [00:00&lt;00:00, 1.38kB/s]",
            "_view_count": null,
            "_view_module_version": "1.5.0",
            "description_tooltip": null,
            "_model_module": "@jupyter-widgets/controls",
            "layout": "IPY_MODEL_5ec5dd41259e491481944b092ce6171c"
          }
        },
        "697ffa471ad4432dab839490c44cba84": {
          "model_module": "@jupyter-widgets/controls",
          "model_name": "ProgressStyleModel",
          "state": {
            "_view_name": "StyleView",
            "_model_name": "ProgressStyleModel",
            "description_width": "initial",
            "_view_module": "@jupyter-widgets/base",
            "_model_module_version": "1.5.0",
            "_view_count": null,
            "_view_module_version": "1.2.0",
            "bar_color": null,
            "_model_module": "@jupyter-widgets/controls"
          }
        },
        "b4ee0c4cfd424c10890ef939770fc22f": {
          "model_module": "@jupyter-widgets/base",
          "model_name": "LayoutModel",
          "state": {
            "_view_name": "LayoutView",
            "grid_template_rows": null,
            "right": null,
            "justify_content": null,
            "_view_module": "@jupyter-widgets/base",
            "overflow": null,
            "_model_module_version": "1.2.0",
            "_view_count": null,
            "flex_flow": null,
            "width": null,
            "min_width": null,
            "border": null,
            "align_items": null,
            "bottom": null,
            "_model_module": "@jupyter-widgets/base",
            "top": null,
            "grid_column": null,
            "overflow_y": null,
            "overflow_x": null,
            "grid_auto_flow": null,
            "grid_area": null,
            "grid_template_columns": null,
            "flex": null,
            "_model_name": "LayoutModel",
            "justify_items": null,
            "grid_row": null,
            "max_height": null,
            "align_content": null,
            "visibility": null,
            "align_self": null,
            "height": null,
            "min_height": null,
            "padding": null,
            "grid_auto_rows": null,
            "grid_gap": null,
            "max_width": null,
            "order": null,
            "_view_module_version": "1.2.0",
            "grid_template_areas": null,
            "object_position": null,
            "object_fit": null,
            "grid_auto_columns": null,
            "margin": null,
            "display": null,
            "left": null
          }
        },
        "4f9d1d5b9c294e1c93ea6fe1f7ba7d8a": {
          "model_module": "@jupyter-widgets/controls",
          "model_name": "DescriptionStyleModel",
          "state": {
            "_view_name": "StyleView",
            "_model_name": "DescriptionStyleModel",
            "description_width": "",
            "_view_module": "@jupyter-widgets/base",
            "_model_module_version": "1.5.0",
            "_view_count": null,
            "_view_module_version": "1.2.0",
            "_model_module": "@jupyter-widgets/controls"
          }
        },
        "5ec5dd41259e491481944b092ce6171c": {
          "model_module": "@jupyter-widgets/base",
          "model_name": "LayoutModel",
          "state": {
            "_view_name": "LayoutView",
            "grid_template_rows": null,
            "right": null,
            "justify_content": null,
            "_view_module": "@jupyter-widgets/base",
            "overflow": null,
            "_model_module_version": "1.2.0",
            "_view_count": null,
            "flex_flow": null,
            "width": null,
            "min_width": null,
            "border": null,
            "align_items": null,
            "bottom": null,
            "_model_module": "@jupyter-widgets/base",
            "top": null,
            "grid_column": null,
            "overflow_y": null,
            "overflow_x": null,
            "grid_auto_flow": null,
            "grid_area": null,
            "grid_template_columns": null,
            "flex": null,
            "_model_name": "LayoutModel",
            "justify_items": null,
            "grid_row": null,
            "max_height": null,
            "align_content": null,
            "visibility": null,
            "align_self": null,
            "height": null,
            "min_height": null,
            "padding": null,
            "grid_auto_rows": null,
            "grid_gap": null,
            "max_width": null,
            "order": null,
            "_view_module_version": "1.2.0",
            "grid_template_areas": null,
            "object_position": null,
            "object_fit": null,
            "grid_auto_columns": null,
            "margin": null,
            "display": null,
            "left": null
          }
        },
        "2c4762647e25448e985c77a6b44c747d": {
          "model_module": "@jupyter-widgets/controls",
          "model_name": "HBoxModel",
          "state": {
            "_view_name": "HBoxView",
            "_dom_classes": [],
            "_model_name": "HBoxModel",
            "_view_module": "@jupyter-widgets/controls",
            "_model_module_version": "1.5.0",
            "_view_count": null,
            "_view_module_version": "1.5.0",
            "box_style": "",
            "layout": "IPY_MODEL_7ffe455044f44c6aa0aa3b2e1b9a8670",
            "_model_module": "@jupyter-widgets/controls",
            "children": [
              "IPY_MODEL_c097df3a083f42b1bc62d4002302eba4",
              "IPY_MODEL_832ea2f15b1e4b2fb663405eddc0daba"
            ]
          }
        },
        "7ffe455044f44c6aa0aa3b2e1b9a8670": {
          "model_module": "@jupyter-widgets/base",
          "model_name": "LayoutModel",
          "state": {
            "_view_name": "LayoutView",
            "grid_template_rows": null,
            "right": null,
            "justify_content": null,
            "_view_module": "@jupyter-widgets/base",
            "overflow": null,
            "_model_module_version": "1.2.0",
            "_view_count": null,
            "flex_flow": null,
            "width": null,
            "min_width": null,
            "border": null,
            "align_items": null,
            "bottom": null,
            "_model_module": "@jupyter-widgets/base",
            "top": null,
            "grid_column": null,
            "overflow_y": null,
            "overflow_x": null,
            "grid_auto_flow": null,
            "grid_area": null,
            "grid_template_columns": null,
            "flex": null,
            "_model_name": "LayoutModel",
            "justify_items": null,
            "grid_row": null,
            "max_height": null,
            "align_content": null,
            "visibility": null,
            "align_self": null,
            "height": null,
            "min_height": null,
            "padding": null,
            "grid_auto_rows": null,
            "grid_gap": null,
            "max_width": null,
            "order": null,
            "_view_module_version": "1.2.0",
            "grid_template_areas": null,
            "object_position": null,
            "object_fit": null,
            "grid_auto_columns": null,
            "margin": null,
            "display": null,
            "left": null
          }
        },
        "c097df3a083f42b1bc62d4002302eba4": {
          "model_module": "@jupyter-widgets/controls",
          "model_name": "FloatProgressModel",
          "state": {
            "_view_name": "ProgressView",
            "style": "IPY_MODEL_35c7d3b445284326ae4449e61daf06c9",
            "_dom_classes": [],
            "description": "Downloading: 100%",
            "_model_name": "FloatProgressModel",
            "bar_style": "success",
            "max": 440473133,
            "_view_module": "@jupyter-widgets/controls",
            "_model_module_version": "1.5.0",
            "value": 440473133,
            "_view_count": null,
            "_view_module_version": "1.5.0",
            "orientation": "horizontal",
            "min": 0,
            "description_tooltip": null,
            "_model_module": "@jupyter-widgets/controls",
            "layout": "IPY_MODEL_94c2c2220ab84d6685a1592f6f2d00a8"
          }
        },
        "832ea2f15b1e4b2fb663405eddc0daba": {
          "model_module": "@jupyter-widgets/controls",
          "model_name": "HTMLModel",
          "state": {
            "_view_name": "HTMLView",
            "style": "IPY_MODEL_50cd15a0e9ec481c93808a973fdc6d11",
            "_dom_classes": [],
            "description": "",
            "_model_name": "HTMLModel",
            "placeholder": "​",
            "_view_module": "@jupyter-widgets/controls",
            "_model_module_version": "1.5.0",
            "value": " 440M/440M [00:08&lt;00:00, 50.2MB/s]",
            "_view_count": null,
            "_view_module_version": "1.5.0",
            "description_tooltip": null,
            "_model_module": "@jupyter-widgets/controls",
            "layout": "IPY_MODEL_f8f2b8bec350435abeaab90b0456f175"
          }
        },
        "35c7d3b445284326ae4449e61daf06c9": {
          "model_module": "@jupyter-widgets/controls",
          "model_name": "ProgressStyleModel",
          "state": {
            "_view_name": "StyleView",
            "_model_name": "ProgressStyleModel",
            "description_width": "initial",
            "_view_module": "@jupyter-widgets/base",
            "_model_module_version": "1.5.0",
            "_view_count": null,
            "_view_module_version": "1.2.0",
            "bar_color": null,
            "_model_module": "@jupyter-widgets/controls"
          }
        },
        "94c2c2220ab84d6685a1592f6f2d00a8": {
          "model_module": "@jupyter-widgets/base",
          "model_name": "LayoutModel",
          "state": {
            "_view_name": "LayoutView",
            "grid_template_rows": null,
            "right": null,
            "justify_content": null,
            "_view_module": "@jupyter-widgets/base",
            "overflow": null,
            "_model_module_version": "1.2.0",
            "_view_count": null,
            "flex_flow": null,
            "width": null,
            "min_width": null,
            "border": null,
            "align_items": null,
            "bottom": null,
            "_model_module": "@jupyter-widgets/base",
            "top": null,
            "grid_column": null,
            "overflow_y": null,
            "overflow_x": null,
            "grid_auto_flow": null,
            "grid_area": null,
            "grid_template_columns": null,
            "flex": null,
            "_model_name": "LayoutModel",
            "justify_items": null,
            "grid_row": null,
            "max_height": null,
            "align_content": null,
            "visibility": null,
            "align_self": null,
            "height": null,
            "min_height": null,
            "padding": null,
            "grid_auto_rows": null,
            "grid_gap": null,
            "max_width": null,
            "order": null,
            "_view_module_version": "1.2.0",
            "grid_template_areas": null,
            "object_position": null,
            "object_fit": null,
            "grid_auto_columns": null,
            "margin": null,
            "display": null,
            "left": null
          }
        },
        "50cd15a0e9ec481c93808a973fdc6d11": {
          "model_module": "@jupyter-widgets/controls",
          "model_name": "DescriptionStyleModel",
          "state": {
            "_view_name": "StyleView",
            "_model_name": "DescriptionStyleModel",
            "description_width": "",
            "_view_module": "@jupyter-widgets/base",
            "_model_module_version": "1.5.0",
            "_view_count": null,
            "_view_module_version": "1.2.0",
            "_model_module": "@jupyter-widgets/controls"
          }
        },
        "f8f2b8bec350435abeaab90b0456f175": {
          "model_module": "@jupyter-widgets/base",
          "model_name": "LayoutModel",
          "state": {
            "_view_name": "LayoutView",
            "grid_template_rows": null,
            "right": null,
            "justify_content": null,
            "_view_module": "@jupyter-widgets/base",
            "overflow": null,
            "_model_module_version": "1.2.0",
            "_view_count": null,
            "flex_flow": null,
            "width": null,
            "min_width": null,
            "border": null,
            "align_items": null,
            "bottom": null,
            "_model_module": "@jupyter-widgets/base",
            "top": null,
            "grid_column": null,
            "overflow_y": null,
            "overflow_x": null,
            "grid_auto_flow": null,
            "grid_area": null,
            "grid_template_columns": null,
            "flex": null,
            "_model_name": "LayoutModel",
            "justify_items": null,
            "grid_row": null,
            "max_height": null,
            "align_content": null,
            "visibility": null,
            "align_self": null,
            "height": null,
            "min_height": null,
            "padding": null,
            "grid_auto_rows": null,
            "grid_gap": null,
            "max_width": null,
            "order": null,
            "_view_module_version": "1.2.0",
            "grid_template_areas": null,
            "object_position": null,
            "object_fit": null,
            "grid_auto_columns": null,
            "margin": null,
            "display": null,
            "left": null
          }
        },
        "12752968e0bd4369b317653320c8a654": {
          "model_module": "@jupyter-widgets/controls",
          "model_name": "HBoxModel",
          "state": {
            "_view_name": "HBoxView",
            "_dom_classes": [],
            "_model_name": "HBoxModel",
            "_view_module": "@jupyter-widgets/controls",
            "_model_module_version": "1.5.0",
            "_view_count": null,
            "_view_module_version": "1.5.0",
            "box_style": "",
            "layout": "IPY_MODEL_b72cabf739694438a5a685f29dc52ec0",
            "_model_module": "@jupyter-widgets/controls",
            "children": [
              "IPY_MODEL_65c853b384d8420593f2fd731bdd312b",
              "IPY_MODEL_fc36058db14d41988dd9a8a592bd0d5c"
            ]
          }
        },
        "b72cabf739694438a5a685f29dc52ec0": {
          "model_module": "@jupyter-widgets/base",
          "model_name": "LayoutModel",
          "state": {
            "_view_name": "LayoutView",
            "grid_template_rows": null,
            "right": null,
            "justify_content": null,
            "_view_module": "@jupyter-widgets/base",
            "overflow": null,
            "_model_module_version": "1.2.0",
            "_view_count": null,
            "flex_flow": null,
            "width": null,
            "min_width": null,
            "border": null,
            "align_items": null,
            "bottom": null,
            "_model_module": "@jupyter-widgets/base",
            "top": null,
            "grid_column": null,
            "overflow_y": null,
            "overflow_x": null,
            "grid_auto_flow": null,
            "grid_area": null,
            "grid_template_columns": null,
            "flex": null,
            "_model_name": "LayoutModel",
            "justify_items": null,
            "grid_row": null,
            "max_height": null,
            "align_content": null,
            "visibility": null,
            "align_self": null,
            "height": null,
            "min_height": null,
            "padding": null,
            "grid_auto_rows": null,
            "grid_gap": null,
            "max_width": null,
            "order": null,
            "_view_module_version": "1.2.0",
            "grid_template_areas": null,
            "object_position": null,
            "object_fit": null,
            "grid_auto_columns": null,
            "margin": null,
            "display": null,
            "left": null
          }
        },
        "65c853b384d8420593f2fd731bdd312b": {
          "model_module": "@jupyter-widgets/controls",
          "model_name": "FloatProgressModel",
          "state": {
            "_view_name": "ProgressView",
            "style": "IPY_MODEL_c3308a06faf84747ab9e2e3ab88266c6",
            "_dom_classes": [],
            "description": "Downloading: 100%",
            "_model_name": "FloatProgressModel",
            "bar_style": "success",
            "max": 231508,
            "_view_module": "@jupyter-widgets/controls",
            "_model_module_version": "1.5.0",
            "value": 231508,
            "_view_count": null,
            "_view_module_version": "1.5.0",
            "orientation": "horizontal",
            "min": 0,
            "description_tooltip": null,
            "_model_module": "@jupyter-widgets/controls",
            "layout": "IPY_MODEL_a2c145cf2619499985130fa3a4de8e7f"
          }
        },
        "fc36058db14d41988dd9a8a592bd0d5c": {
          "model_module": "@jupyter-widgets/controls",
          "model_name": "HTMLModel",
          "state": {
            "_view_name": "HTMLView",
            "style": "IPY_MODEL_455f7f93a2d84b138fd0d3b891a205e1",
            "_dom_classes": [],
            "description": "",
            "_model_name": "HTMLModel",
            "placeholder": "​",
            "_view_module": "@jupyter-widgets/controls",
            "_model_module_version": "1.5.0",
            "value": " 232k/232k [00:00&lt;00:00, 329kB/s]",
            "_view_count": null,
            "_view_module_version": "1.5.0",
            "description_tooltip": null,
            "_model_module": "@jupyter-widgets/controls",
            "layout": "IPY_MODEL_b2541c1fe27c470e881f28c3009829a4"
          }
        },
        "c3308a06faf84747ab9e2e3ab88266c6": {
          "model_module": "@jupyter-widgets/controls",
          "model_name": "ProgressStyleModel",
          "state": {
            "_view_name": "StyleView",
            "_model_name": "ProgressStyleModel",
            "description_width": "initial",
            "_view_module": "@jupyter-widgets/base",
            "_model_module_version": "1.5.0",
            "_view_count": null,
            "_view_module_version": "1.2.0",
            "bar_color": null,
            "_model_module": "@jupyter-widgets/controls"
          }
        },
        "a2c145cf2619499985130fa3a4de8e7f": {
          "model_module": "@jupyter-widgets/base",
          "model_name": "LayoutModel",
          "state": {
            "_view_name": "LayoutView",
            "grid_template_rows": null,
            "right": null,
            "justify_content": null,
            "_view_module": "@jupyter-widgets/base",
            "overflow": null,
            "_model_module_version": "1.2.0",
            "_view_count": null,
            "flex_flow": null,
            "width": null,
            "min_width": null,
            "border": null,
            "align_items": null,
            "bottom": null,
            "_model_module": "@jupyter-widgets/base",
            "top": null,
            "grid_column": null,
            "overflow_y": null,
            "overflow_x": null,
            "grid_auto_flow": null,
            "grid_area": null,
            "grid_template_columns": null,
            "flex": null,
            "_model_name": "LayoutModel",
            "justify_items": null,
            "grid_row": null,
            "max_height": null,
            "align_content": null,
            "visibility": null,
            "align_self": null,
            "height": null,
            "min_height": null,
            "padding": null,
            "grid_auto_rows": null,
            "grid_gap": null,
            "max_width": null,
            "order": null,
            "_view_module_version": "1.2.0",
            "grid_template_areas": null,
            "object_position": null,
            "object_fit": null,
            "grid_auto_columns": null,
            "margin": null,
            "display": null,
            "left": null
          }
        },
        "455f7f93a2d84b138fd0d3b891a205e1": {
          "model_module": "@jupyter-widgets/controls",
          "model_name": "DescriptionStyleModel",
          "state": {
            "_view_name": "StyleView",
            "_model_name": "DescriptionStyleModel",
            "description_width": "",
            "_view_module": "@jupyter-widgets/base",
            "_model_module_version": "1.5.0",
            "_view_count": null,
            "_view_module_version": "1.2.0",
            "_model_module": "@jupyter-widgets/controls"
          }
        },
        "b2541c1fe27c470e881f28c3009829a4": {
          "model_module": "@jupyter-widgets/base",
          "model_name": "LayoutModel",
          "state": {
            "_view_name": "LayoutView",
            "grid_template_rows": null,
            "right": null,
            "justify_content": null,
            "_view_module": "@jupyter-widgets/base",
            "overflow": null,
            "_model_module_version": "1.2.0",
            "_view_count": null,
            "flex_flow": null,
            "width": null,
            "min_width": null,
            "border": null,
            "align_items": null,
            "bottom": null,
            "_model_module": "@jupyter-widgets/base",
            "top": null,
            "grid_column": null,
            "overflow_y": null,
            "overflow_x": null,
            "grid_auto_flow": null,
            "grid_area": null,
            "grid_template_columns": null,
            "flex": null,
            "_model_name": "LayoutModel",
            "justify_items": null,
            "grid_row": null,
            "max_height": null,
            "align_content": null,
            "visibility": null,
            "align_self": null,
            "height": null,
            "min_height": null,
            "padding": null,
            "grid_auto_rows": null,
            "grid_gap": null,
            "max_width": null,
            "order": null,
            "_view_module_version": "1.2.0",
            "grid_template_areas": null,
            "object_position": null,
            "object_fit": null,
            "grid_auto_columns": null,
            "margin": null,
            "display": null,
            "left": null
          }
        },
        "7efe84f48a1546aab82aedac7e43be4e": {
          "model_module": "@jupyter-widgets/controls",
          "model_name": "HBoxModel",
          "state": {
            "_view_name": "HBoxView",
            "_dom_classes": [],
            "_model_name": "HBoxModel",
            "_view_module": "@jupyter-widgets/controls",
            "_model_module_version": "1.5.0",
            "_view_count": null,
            "_view_module_version": "1.5.0",
            "box_style": "",
            "layout": "IPY_MODEL_0ae02a39e9d148e89e1730d218563072",
            "_model_module": "@jupyter-widgets/controls",
            "children": [
              "IPY_MODEL_d3cdb5b0341c44fe97a499e3e37ebfd0",
              "IPY_MODEL_42478060ecd04d17a552e64e3612a101"
            ]
          }
        },
        "0ae02a39e9d148e89e1730d218563072": {
          "model_module": "@jupyter-widgets/base",
          "model_name": "LayoutModel",
          "state": {
            "_view_name": "LayoutView",
            "grid_template_rows": null,
            "right": null,
            "justify_content": null,
            "_view_module": "@jupyter-widgets/base",
            "overflow": null,
            "_model_module_version": "1.2.0",
            "_view_count": null,
            "flex_flow": null,
            "width": null,
            "min_width": null,
            "border": null,
            "align_items": null,
            "bottom": null,
            "_model_module": "@jupyter-widgets/base",
            "top": null,
            "grid_column": null,
            "overflow_y": null,
            "overflow_x": null,
            "grid_auto_flow": null,
            "grid_area": null,
            "grid_template_columns": null,
            "flex": null,
            "_model_name": "LayoutModel",
            "justify_items": null,
            "grid_row": null,
            "max_height": null,
            "align_content": null,
            "visibility": null,
            "align_self": null,
            "height": null,
            "min_height": null,
            "padding": null,
            "grid_auto_rows": null,
            "grid_gap": null,
            "max_width": null,
            "order": null,
            "_view_module_version": "1.2.0",
            "grid_template_areas": null,
            "object_position": null,
            "object_fit": null,
            "grid_auto_columns": null,
            "margin": null,
            "display": null,
            "left": null
          }
        },
        "d3cdb5b0341c44fe97a499e3e37ebfd0": {
          "model_module": "@jupyter-widgets/controls",
          "model_name": "FloatProgressModel",
          "state": {
            "_view_name": "ProgressView",
            "style": "IPY_MODEL_2bf9e92760b041ccb09e465f1d923e0e",
            "_dom_classes": [],
            "description": "Downloading: 100%",
            "_model_name": "FloatProgressModel",
            "bar_style": "success",
            "max": 466062,
            "_view_module": "@jupyter-widgets/controls",
            "_model_module_version": "1.5.0",
            "value": 466062,
            "_view_count": null,
            "_view_module_version": "1.5.0",
            "orientation": "horizontal",
            "min": 0,
            "description_tooltip": null,
            "_model_module": "@jupyter-widgets/controls",
            "layout": "IPY_MODEL_0de06a30649a410cacbcdcf534439cbc"
          }
        },
        "42478060ecd04d17a552e64e3612a101": {
          "model_module": "@jupyter-widgets/controls",
          "model_name": "HTMLModel",
          "state": {
            "_view_name": "HTMLView",
            "style": "IPY_MODEL_affe99fdf00649ffa74ea51d869b3c45",
            "_dom_classes": [],
            "description": "",
            "_model_name": "HTMLModel",
            "placeholder": "​",
            "_view_module": "@jupyter-widgets/controls",
            "_model_module_version": "1.5.0",
            "value": " 466k/466k [00:01&lt;00:00, 315kB/s]",
            "_view_count": null,
            "_view_module_version": "1.5.0",
            "description_tooltip": null,
            "_model_module": "@jupyter-widgets/controls",
            "layout": "IPY_MODEL_4f5c2a8cfe9540529921d019ce9dacae"
          }
        },
        "2bf9e92760b041ccb09e465f1d923e0e": {
          "model_module": "@jupyter-widgets/controls",
          "model_name": "ProgressStyleModel",
          "state": {
            "_view_name": "StyleView",
            "_model_name": "ProgressStyleModel",
            "description_width": "initial",
            "_view_module": "@jupyter-widgets/base",
            "_model_module_version": "1.5.0",
            "_view_count": null,
            "_view_module_version": "1.2.0",
            "bar_color": null,
            "_model_module": "@jupyter-widgets/controls"
          }
        },
        "0de06a30649a410cacbcdcf534439cbc": {
          "model_module": "@jupyter-widgets/base",
          "model_name": "LayoutModel",
          "state": {
            "_view_name": "LayoutView",
            "grid_template_rows": null,
            "right": null,
            "justify_content": null,
            "_view_module": "@jupyter-widgets/base",
            "overflow": null,
            "_model_module_version": "1.2.0",
            "_view_count": null,
            "flex_flow": null,
            "width": null,
            "min_width": null,
            "border": null,
            "align_items": null,
            "bottom": null,
            "_model_module": "@jupyter-widgets/base",
            "top": null,
            "grid_column": null,
            "overflow_y": null,
            "overflow_x": null,
            "grid_auto_flow": null,
            "grid_area": null,
            "grid_template_columns": null,
            "flex": null,
            "_model_name": "LayoutModel",
            "justify_items": null,
            "grid_row": null,
            "max_height": null,
            "align_content": null,
            "visibility": null,
            "align_self": null,
            "height": null,
            "min_height": null,
            "padding": null,
            "grid_auto_rows": null,
            "grid_gap": null,
            "max_width": null,
            "order": null,
            "_view_module_version": "1.2.0",
            "grid_template_areas": null,
            "object_position": null,
            "object_fit": null,
            "grid_auto_columns": null,
            "margin": null,
            "display": null,
            "left": null
          }
        },
        "affe99fdf00649ffa74ea51d869b3c45": {
          "model_module": "@jupyter-widgets/controls",
          "model_name": "DescriptionStyleModel",
          "state": {
            "_view_name": "StyleView",
            "_model_name": "DescriptionStyleModel",
            "description_width": "",
            "_view_module": "@jupyter-widgets/base",
            "_model_module_version": "1.5.0",
            "_view_count": null,
            "_view_module_version": "1.2.0",
            "_model_module": "@jupyter-widgets/controls"
          }
        },
        "4f5c2a8cfe9540529921d019ce9dacae": {
          "model_module": "@jupyter-widgets/base",
          "model_name": "LayoutModel",
          "state": {
            "_view_name": "LayoutView",
            "grid_template_rows": null,
            "right": null,
            "justify_content": null,
            "_view_module": "@jupyter-widgets/base",
            "overflow": null,
            "_model_module_version": "1.2.0",
            "_view_count": null,
            "flex_flow": null,
            "width": null,
            "min_width": null,
            "border": null,
            "align_items": null,
            "bottom": null,
            "_model_module": "@jupyter-widgets/base",
            "top": null,
            "grid_column": null,
            "overflow_y": null,
            "overflow_x": null,
            "grid_auto_flow": null,
            "grid_area": null,
            "grid_template_columns": null,
            "flex": null,
            "_model_name": "LayoutModel",
            "justify_items": null,
            "grid_row": null,
            "max_height": null,
            "align_content": null,
            "visibility": null,
            "align_self": null,
            "height": null,
            "min_height": null,
            "padding": null,
            "grid_auto_rows": null,
            "grid_gap": null,
            "max_width": null,
            "order": null,
            "_view_module_version": "1.2.0",
            "grid_template_areas": null,
            "object_position": null,
            "object_fit": null,
            "grid_auto_columns": null,
            "margin": null,
            "display": null,
            "left": null
          }
        },
        "f02d2570dc9c48b698a9d5b77010433c": {
          "model_module": "@jupyter-widgets/controls",
          "model_name": "HBoxModel",
          "state": {
            "_view_name": "HBoxView",
            "_dom_classes": [],
            "_model_name": "HBoxModel",
            "_view_module": "@jupyter-widgets/controls",
            "_model_module_version": "1.5.0",
            "_view_count": null,
            "_view_module_version": "1.5.0",
            "box_style": "",
            "layout": "IPY_MODEL_615dc0204be54726bc284d0ce1ed4e68",
            "_model_module": "@jupyter-widgets/controls",
            "children": [
              "IPY_MODEL_b13e9e2b991d4ee58ff34cbdd40bbc86",
              "IPY_MODEL_dbcd51e155d84004a68c080c937e80b2"
            ]
          }
        },
        "615dc0204be54726bc284d0ce1ed4e68": {
          "model_module": "@jupyter-widgets/base",
          "model_name": "LayoutModel",
          "state": {
            "_view_name": "LayoutView",
            "grid_template_rows": null,
            "right": null,
            "justify_content": null,
            "_view_module": "@jupyter-widgets/base",
            "overflow": null,
            "_model_module_version": "1.2.0",
            "_view_count": null,
            "flex_flow": null,
            "width": null,
            "min_width": null,
            "border": null,
            "align_items": null,
            "bottom": null,
            "_model_module": "@jupyter-widgets/base",
            "top": null,
            "grid_column": null,
            "overflow_y": null,
            "overflow_x": null,
            "grid_auto_flow": null,
            "grid_area": null,
            "grid_template_columns": null,
            "flex": null,
            "_model_name": "LayoutModel",
            "justify_items": null,
            "grid_row": null,
            "max_height": null,
            "align_content": null,
            "visibility": null,
            "align_self": null,
            "height": null,
            "min_height": null,
            "padding": null,
            "grid_auto_rows": null,
            "grid_gap": null,
            "max_width": null,
            "order": null,
            "_view_module_version": "1.2.0",
            "grid_template_areas": null,
            "object_position": null,
            "object_fit": null,
            "grid_auto_columns": null,
            "margin": null,
            "display": null,
            "left": null
          }
        },
        "b13e9e2b991d4ee58ff34cbdd40bbc86": {
          "model_module": "@jupyter-widgets/controls",
          "model_name": "FloatProgressModel",
          "state": {
            "_view_name": "ProgressView",
            "style": "IPY_MODEL_9a170c621efe4bb390c6089531385a28",
            "_dom_classes": [],
            "description": "Downloading: 100%",
            "_model_name": "FloatProgressModel",
            "bar_style": "success",
            "max": 28,
            "_view_module": "@jupyter-widgets/controls",
            "_model_module_version": "1.5.0",
            "value": 28,
            "_view_count": null,
            "_view_module_version": "1.5.0",
            "orientation": "horizontal",
            "min": 0,
            "description_tooltip": null,
            "_model_module": "@jupyter-widgets/controls",
            "layout": "IPY_MODEL_be01d2266c594d14a943c1f9ca45ed20"
          }
        },
        "dbcd51e155d84004a68c080c937e80b2": {
          "model_module": "@jupyter-widgets/controls",
          "model_name": "HTMLModel",
          "state": {
            "_view_name": "HTMLView",
            "style": "IPY_MODEL_246b7b9b22724eb7a9bed497f4b60737",
            "_dom_classes": [],
            "description": "",
            "_model_name": "HTMLModel",
            "placeholder": "​",
            "_view_module": "@jupyter-widgets/controls",
            "_model_module_version": "1.5.0",
            "value": " 28.0/28.0 [00:00&lt;00:00, 103B/s]",
            "_view_count": null,
            "_view_module_version": "1.5.0",
            "description_tooltip": null,
            "_model_module": "@jupyter-widgets/controls",
            "layout": "IPY_MODEL_ad981cf7d02642b2929eddb84b46287f"
          }
        },
        "9a170c621efe4bb390c6089531385a28": {
          "model_module": "@jupyter-widgets/controls",
          "model_name": "ProgressStyleModel",
          "state": {
            "_view_name": "StyleView",
            "_model_name": "ProgressStyleModel",
            "description_width": "initial",
            "_view_module": "@jupyter-widgets/base",
            "_model_module_version": "1.5.0",
            "_view_count": null,
            "_view_module_version": "1.2.0",
            "bar_color": null,
            "_model_module": "@jupyter-widgets/controls"
          }
        },
        "be01d2266c594d14a943c1f9ca45ed20": {
          "model_module": "@jupyter-widgets/base",
          "model_name": "LayoutModel",
          "state": {
            "_view_name": "LayoutView",
            "grid_template_rows": null,
            "right": null,
            "justify_content": null,
            "_view_module": "@jupyter-widgets/base",
            "overflow": null,
            "_model_module_version": "1.2.0",
            "_view_count": null,
            "flex_flow": null,
            "width": null,
            "min_width": null,
            "border": null,
            "align_items": null,
            "bottom": null,
            "_model_module": "@jupyter-widgets/base",
            "top": null,
            "grid_column": null,
            "overflow_y": null,
            "overflow_x": null,
            "grid_auto_flow": null,
            "grid_area": null,
            "grid_template_columns": null,
            "flex": null,
            "_model_name": "LayoutModel",
            "justify_items": null,
            "grid_row": null,
            "max_height": null,
            "align_content": null,
            "visibility": null,
            "align_self": null,
            "height": null,
            "min_height": null,
            "padding": null,
            "grid_auto_rows": null,
            "grid_gap": null,
            "max_width": null,
            "order": null,
            "_view_module_version": "1.2.0",
            "grid_template_areas": null,
            "object_position": null,
            "object_fit": null,
            "grid_auto_columns": null,
            "margin": null,
            "display": null,
            "left": null
          }
        },
        "246b7b9b22724eb7a9bed497f4b60737": {
          "model_module": "@jupyter-widgets/controls",
          "model_name": "DescriptionStyleModel",
          "state": {
            "_view_name": "StyleView",
            "_model_name": "DescriptionStyleModel",
            "description_width": "",
            "_view_module": "@jupyter-widgets/base",
            "_model_module_version": "1.5.0",
            "_view_count": null,
            "_view_module_version": "1.2.0",
            "_model_module": "@jupyter-widgets/controls"
          }
        },
        "ad981cf7d02642b2929eddb84b46287f": {
          "model_module": "@jupyter-widgets/base",
          "model_name": "LayoutModel",
          "state": {
            "_view_name": "LayoutView",
            "grid_template_rows": null,
            "right": null,
            "justify_content": null,
            "_view_module": "@jupyter-widgets/base",
            "overflow": null,
            "_model_module_version": "1.2.0",
            "_view_count": null,
            "flex_flow": null,
            "width": null,
            "min_width": null,
            "border": null,
            "align_items": null,
            "bottom": null,
            "_model_module": "@jupyter-widgets/base",
            "top": null,
            "grid_column": null,
            "overflow_y": null,
            "overflow_x": null,
            "grid_auto_flow": null,
            "grid_area": null,
            "grid_template_columns": null,
            "flex": null,
            "_model_name": "LayoutModel",
            "justify_items": null,
            "grid_row": null,
            "max_height": null,
            "align_content": null,
            "visibility": null,
            "align_self": null,
            "height": null,
            "min_height": null,
            "padding": null,
            "grid_auto_rows": null,
            "grid_gap": null,
            "max_width": null,
            "order": null,
            "_view_module_version": "1.2.0",
            "grid_template_areas": null,
            "object_position": null,
            "object_fit": null,
            "grid_auto_columns": null,
            "margin": null,
            "display": null,
            "left": null
          }
        }
      }
    }
  },
  "cells": [
    {
      "cell_type": "code",
      "metadata": {
        "colab": {
          "base_uri": "https://localhost:8080/"
        },
        "id": "Tjsl5_TPD5p-",
        "outputId": "1f721883-cf45-48b3-ace1-a3500399eb5c"
      },
      "source": [
        "from google.colab import drive\n",
        "drive.mount('/content/drive')"
      ],
      "execution_count": null,
      "outputs": [
        {
          "output_type": "stream",
          "text": [
            "Drive already mounted at /content/drive; to attempt to forcibly remount, call drive.mount(\"/content/drive\", force_remount=True).\n"
          ],
          "name": "stdout"
        }
      ]
    },
    {
      "cell_type": "code",
      "metadata": {
        "id": "hZeIFn6iC9FF",
        "colab": {
          "base_uri": "https://localhost:8080/"
        },
        "outputId": "223e2cbb-d9c0-43d2-cf57-9b68fb50f2ab"
      },
      "source": [
        "!pip install textattack\n",
        "!pip install -U gensim==4.0.0\n",
        "!pip install python-Levenshtein"
      ],
      "execution_count": null,
      "outputs": [
        {
          "output_type": "stream",
          "text": [
            "Requirement already satisfied: textattack in /usr/local/lib/python3.7/dist-packages (0.2.15)\n",
            "Requirement already satisfied: lru-dict in /usr/local/lib/python3.7/dist-packages (from textattack) (1.1.7)\n",
            "Requirement already satisfied: filelock in /usr/local/lib/python3.7/dist-packages (from textattack) (3.0.12)\n",
            "Requirement already satisfied: transformers>=3.3.0 in /usr/local/lib/python3.7/dist-packages (from textattack) (4.5.1)\n",
            "Requirement already satisfied: nltk in /usr/local/lib/python3.7/dist-packages (from textattack) (3.2.5)\n",
            "Requirement already satisfied: torch in /usr/local/lib/python3.7/dist-packages (from textattack) (1.8.1+cu101)\n",
            "Requirement already satisfied: lemminflect in /usr/local/lib/python3.7/dist-packages (from textattack) (0.2.2)\n",
            "Requirement already satisfied: flair==0.6.1.post1 in /usr/local/lib/python3.7/dist-packages (from textattack) (0.6.1.post1)\n",
            "Requirement already satisfied: word2number in /usr/local/lib/python3.7/dist-packages (from textattack) (1.1)\n",
            "Requirement already satisfied: language-tool-python in /usr/local/lib/python3.7/dist-packages (from textattack) (2.5.3)\n",
            "Requirement already satisfied: bert-score>=0.3.5 in /usr/local/lib/python3.7/dist-packages (from textattack) (0.3.9)\n",
            "Requirement already satisfied: PySocks!=1.5.7,>=1.5.6 in /usr/local/lib/python3.7/dist-packages (from textattack) (1.7.1)\n",
            "Requirement already satisfied: num2words in /usr/local/lib/python3.7/dist-packages (from textattack) (0.5.10)\n",
            "Requirement already satisfied: terminaltables in /usr/local/lib/python3.7/dist-packages (from textattack) (3.1.0)\n",
            "Requirement already satisfied: datasets in /usr/local/lib/python3.7/dist-packages (from textattack) (1.6.2)\n",
            "Requirement already satisfied: more-itertools in /usr/local/lib/python3.7/dist-packages (from textattack) (8.7.0)\n",
            "Requirement already satisfied: numpy<1.19.0 in /usr/local/lib/python3.7/dist-packages (from textattack) (1.18.5)\n",
            "Requirement already satisfied: scipy==1.4.1 in /usr/local/lib/python3.7/dist-packages (from textattack) (1.4.1)\n",
            "Requirement already satisfied: tqdm<4.50.0,>=4.27 in /usr/local/lib/python3.7/dist-packages (from textattack) (4.41.1)\n",
            "Requirement already satisfied: editdistance in /usr/local/lib/python3.7/dist-packages (from textattack) (0.5.3)\n",
            "Requirement already satisfied: pandas>=1.0.1 in /usr/local/lib/python3.7/dist-packages (from textattack) (1.1.5)\n",
            "Requirement already satisfied: tokenizers<0.11,>=0.10.1 in /usr/local/lib/python3.7/dist-packages (from transformers>=3.3.0->textattack) (0.10.2)\n",
            "Requirement already satisfied: packaging in /usr/local/lib/python3.7/dist-packages (from transformers>=3.3.0->textattack) (20.9)\n",
            "Requirement already satisfied: requests in /usr/local/lib/python3.7/dist-packages (from transformers>=3.3.0->textattack) (2.23.0)\n",
            "Requirement already satisfied: importlib-metadata; python_version < \"3.8\" in /usr/local/lib/python3.7/dist-packages (from transformers>=3.3.0->textattack) (3.10.1)\n",
            "Requirement already satisfied: regex!=2019.12.17 in /usr/local/lib/python3.7/dist-packages (from transformers>=3.3.0->textattack) (2019.12.20)\n",
            "Requirement already satisfied: sacremoses in /usr/local/lib/python3.7/dist-packages (from transformers>=3.3.0->textattack) (0.0.45)\n",
            "Requirement already satisfied: six in /usr/local/lib/python3.7/dist-packages (from nltk->textattack) (1.15.0)\n",
            "Requirement already satisfied: typing-extensions in /usr/local/lib/python3.7/dist-packages (from torch->textattack) (3.7.4.3)\n",
            "Requirement already satisfied: deprecated>=1.2.4 in /usr/local/lib/python3.7/dist-packages (from flair==0.6.1.post1->textattack) (1.2.12)\n",
            "Requirement already satisfied: gensim>=3.4.0 in /usr/local/lib/python3.7/dist-packages (from flair==0.6.1.post1->textattack) (4.0.0)\n",
            "Requirement already satisfied: scikit-learn>=0.21.3 in /usr/local/lib/python3.7/dist-packages (from flair==0.6.1.post1->textattack) (0.22.2.post1)\n",
            "Requirement already satisfied: matplotlib>=2.2.3 in /usr/local/lib/python3.7/dist-packages (from flair==0.6.1.post1->textattack) (3.2.2)\n",
            "Requirement already satisfied: lxml in /usr/local/lib/python3.7/dist-packages (from flair==0.6.1.post1->textattack) (4.2.6)\n",
            "Requirement already satisfied: ftfy in /usr/local/lib/python3.7/dist-packages (from flair==0.6.1.post1->textattack) (6.0.1)\n",
            "Requirement already satisfied: mpld3==0.3 in /usr/local/lib/python3.7/dist-packages (from flair==0.6.1.post1->textattack) (0.3)\n",
            "Requirement already satisfied: segtok>=1.5.7 in /usr/local/lib/python3.7/dist-packages (from flair==0.6.1.post1->textattack) (1.5.10)\n",
            "Requirement already satisfied: sqlitedict>=1.6.0 in /usr/local/lib/python3.7/dist-packages (from flair==0.6.1.post1->textattack) (1.7.0)\n",
            "Requirement already satisfied: sentencepiece!=0.1.92 in /usr/local/lib/python3.7/dist-packages (from flair==0.6.1.post1->textattack) (0.1.95)\n",
            "Requirement already satisfied: tabulate in /usr/local/lib/python3.7/dist-packages (from flair==0.6.1.post1->textattack) (0.8.9)\n",
            "Requirement already satisfied: gdown in /usr/local/lib/python3.7/dist-packages (from flair==0.6.1.post1->textattack) (3.6.4)\n",
            "Requirement already satisfied: bpemb>=0.3.2 in /usr/local/lib/python3.7/dist-packages (from flair==0.6.1.post1->textattack) (0.3.3)\n",
            "Requirement already satisfied: langdetect in /usr/local/lib/python3.7/dist-packages (from flair==0.6.1.post1->textattack) (1.0.9)\n",
            "Requirement already satisfied: konoha<5.0.0,>=4.0.0 in /usr/local/lib/python3.7/dist-packages (from flair==0.6.1.post1->textattack) (4.6.4)\n",
            "Requirement already satisfied: janome in /usr/local/lib/python3.7/dist-packages (from flair==0.6.1.post1->textattack) (0.4.1)\n",
            "Requirement already satisfied: python-dateutil>=2.6.1 in /usr/local/lib/python3.7/dist-packages (from flair==0.6.1.post1->textattack) (2.8.1)\n",
            "Requirement already satisfied: hyperopt>=0.1.1 in /usr/local/lib/python3.7/dist-packages (from flair==0.6.1.post1->textattack) (0.1.2)\n",
            "Requirement already satisfied: docopt>=0.6.2 in /usr/local/lib/python3.7/dist-packages (from num2words->textattack) (0.6.2)\n",
            "Requirement already satisfied: pyarrow>=1.0.0<4.0.0 in /usr/local/lib/python3.7/dist-packages (from datasets->textattack) (3.0.0)\n",
            "Requirement already satisfied: dill in /usr/local/lib/python3.7/dist-packages (from datasets->textattack) (0.3.3)\n",
            "Requirement already satisfied: fsspec in /usr/local/lib/python3.7/dist-packages (from datasets->textattack) (2021.4.0)\n",
            "Requirement already satisfied: huggingface-hub<0.1.0 in /usr/local/lib/python3.7/dist-packages (from datasets->textattack) (0.0.8)\n",
            "Requirement already satisfied: multiprocess in /usr/local/lib/python3.7/dist-packages (from datasets->textattack) (0.70.11.1)\n",
            "Requirement already satisfied: xxhash in /usr/local/lib/python3.7/dist-packages (from datasets->textattack) (2.0.2)\n",
            "Requirement already satisfied: pytz>=2017.2 in /usr/local/lib/python3.7/dist-packages (from pandas>=1.0.1->textattack) (2018.9)\n",
            "Requirement already satisfied: pyparsing>=2.0.2 in /usr/local/lib/python3.7/dist-packages (from packaging->transformers>=3.3.0->textattack) (2.4.7)\n",
            "Requirement already satisfied: chardet<4,>=3.0.2 in /usr/local/lib/python3.7/dist-packages (from requests->transformers>=3.3.0->textattack) (3.0.4)\n",
            "Requirement already satisfied: certifi>=2017.4.17 in /usr/local/lib/python3.7/dist-packages (from requests->transformers>=3.3.0->textattack) (2020.12.5)\n",
            "Requirement already satisfied: urllib3!=1.25.0,!=1.25.1,<1.26,>=1.21.1 in /usr/local/lib/python3.7/dist-packages (from requests->transformers>=3.3.0->textattack) (1.24.3)\n",
            "Requirement already satisfied: idna<3,>=2.5 in /usr/local/lib/python3.7/dist-packages (from requests->transformers>=3.3.0->textattack) (2.10)\n",
            "Requirement already satisfied: zipp>=0.5 in /usr/local/lib/python3.7/dist-packages (from importlib-metadata; python_version < \"3.8\"->transformers>=3.3.0->textattack) (3.4.1)\n",
            "Requirement already satisfied: click in /usr/local/lib/python3.7/dist-packages (from sacremoses->transformers>=3.3.0->textattack) (7.1.2)\n",
            "Requirement already satisfied: joblib in /usr/local/lib/python3.7/dist-packages (from sacremoses->transformers>=3.3.0->textattack) (1.0.1)\n",
            "Requirement already satisfied: wrapt<2,>=1.10 in /usr/local/lib/python3.7/dist-packages (from deprecated>=1.2.4->flair==0.6.1.post1->textattack) (1.12.1)\n",
            "Requirement already satisfied: smart-open>=1.8.1 in /usr/local/lib/python3.7/dist-packages (from gensim>=3.4.0->flair==0.6.1.post1->textattack) (5.0.0)\n",
            "Requirement already satisfied: kiwisolver>=1.0.1 in /usr/local/lib/python3.7/dist-packages (from matplotlib>=2.2.3->flair==0.6.1.post1->textattack) (1.3.1)\n",
            "Requirement already satisfied: cycler>=0.10 in /usr/local/lib/python3.7/dist-packages (from matplotlib>=2.2.3->flair==0.6.1.post1->textattack) (0.10.0)\n",
            "Requirement already satisfied: wcwidth in /usr/local/lib/python3.7/dist-packages (from ftfy->flair==0.6.1.post1->textattack) (0.2.5)\n",
            "Requirement already satisfied: overrides<4.0.0,>=3.0.0 in /usr/local/lib/python3.7/dist-packages (from konoha<5.0.0,>=4.0.0->flair==0.6.1.post1->textattack) (3.1.0)\n",
            "Requirement already satisfied: pymongo in /usr/local/lib/python3.7/dist-packages (from hyperopt>=0.1.1->flair==0.6.1.post1->textattack) (3.11.3)\n",
            "Requirement already satisfied: future in /usr/local/lib/python3.7/dist-packages (from hyperopt>=0.1.1->flair==0.6.1.post1->textattack) (0.16.0)\n",
            "Requirement already satisfied: networkx in /usr/local/lib/python3.7/dist-packages (from hyperopt>=0.1.1->flair==0.6.1.post1->textattack) (2.5.1)\n",
            "Requirement already satisfied: decorator<5,>=4.3 in /usr/local/lib/python3.7/dist-packages (from networkx->hyperopt>=0.1.1->flair==0.6.1.post1->textattack) (4.4.2)\n",
            "Requirement already up-to-date: gensim==4.0.0 in /usr/local/lib/python3.7/dist-packages (4.0.0)\n",
            "Requirement already satisfied, skipping upgrade: numpy>=1.11.3 in /usr/local/lib/python3.7/dist-packages (from gensim==4.0.0) (1.18.5)\n",
            "Requirement already satisfied, skipping upgrade: scipy>=0.18.1 in /usr/local/lib/python3.7/dist-packages (from gensim==4.0.0) (1.4.1)\n",
            "Requirement already satisfied, skipping upgrade: smart-open>=1.8.1 in /usr/local/lib/python3.7/dist-packages (from gensim==4.0.0) (5.0.0)\n",
            "Requirement already satisfied: python-Levenshtein in /usr/local/lib/python3.7/dist-packages (0.12.2)\n",
            "Requirement already satisfied: setuptools in /usr/local/lib/python3.7/dist-packages (from python-Levenshtein) (56.1.0)\n"
          ],
          "name": "stdout"
        }
      ]
    },
    {
      "cell_type": "code",
      "metadata": {
        "id": "XbSBo02xDGO2"
      },
      "source": [
        "# import gensim.downloader as api\n",
        "# corpus = api.load('text8')\n",
        "# from gensim.models.fasttext import FastText\n",
        "# model1 = FastText(corpus, sample = 0, sg = 1)"
      ],
      "execution_count": null,
      "outputs": []
    },
    {
      "cell_type": "code",
      "metadata": {
        "id": "jLiSrpmTErOs"
      },
      "source": [
        "# import gensim.downloader as api\n",
        "# corpus = api.load('text8')\n",
        "# from gensim.models.word2vec import Word2Vec\n",
        "# model2 = Word2Vec(corpus, sample = 0, sg = 1)"
      ],
      "execution_count": null,
      "outputs": []
    },
    {
      "cell_type": "code",
      "metadata": {
        "id": "ZCLiyaHYDBk1"
      },
      "source": [
        "from gensim.test.utils import get_tmpfile\n",
        "from gensim.models.fasttext import FastText\n",
        "#fname = get_tmpfile(\"/models/fasttext.model\") \n",
        "model1 = FastText.load(\"/content/drive/MyDrive/models/fasttext.model\") # Change this location"
      ],
      "execution_count": null,
      "outputs": []
    },
    {
      "cell_type": "code",
      "metadata": {
        "id": "e4jwSL5YDvPy"
      },
      "source": [
        "from gensim.test.utils import get_tmpfile\n",
        "from gensim.models.word2vec import Word2Vec\n",
        "#fname1 = get_tmpfile(\"/models/word2vec.model\") \n",
        "model2 = Word2Vec.load(\"/content/drive/MyDrive/models/word2vec.model\") # Change this location"
      ],
      "execution_count": null,
      "outputs": []
    },
    {
      "cell_type": "code",
      "metadata": {
        "id": "l1xXXw5tFbuM",
        "colab": {
          "base_uri": "https://localhost:8080/"
        },
        "outputId": "66614ee6-8f56-49f4-98a8-48fe4cf0f7dc"
      },
      "source": [
        "print(model1.wv.most_similar('cat'))\n",
        "print(model2.wv.most_similar('cat'))"
      ],
      "execution_count": null,
      "outputs": [
        {
          "output_type": "stream",
          "text": [
            "[('bobcat', 0.759185791015625), ('dog', 0.7208123803138733), ('foxglove', 0.7110776901245117), ('pig', 0.7088143229484558), ('goose', 0.7069101333618164), ('cats', 0.702387273311615), ('beak', 0.7008379697799683), ('catfish', 0.6987316608428955), ('foxhound', 0.696578860282898), ('catnip', 0.6960986852645874)]\n",
            "[('dog', 0.7193913459777832), ('squirrel', 0.696162760257721), ('leopardus', 0.6945451498031616), ('prionailurus', 0.688106894493103), ('albino', 0.6880608201026917), ('bird', 0.6836060285568237), ('eared', 0.6803243160247803), ('rhinoceros', 0.6769237518310547), ('hyena', 0.6756084561347961), ('badger', 0.6752869486808777)]\n"
          ],
          "name": "stdout"
        }
      ]
    },
    {
      "cell_type": "code",
      "metadata": {
        "id": "QfecgI6BExUJ",
        "colab": {
          "base_uri": "https://localhost:8080/",
          "height": 614,
          "referenced_widgets": [
            "dfff3e8d3f0d4622a19de8144efafad7",
            "21323aa5827a476aa3ed408e2ee40bf7",
            "570f25c1e99e4345b4f4ce75e400d5cd",
            "7c7554b05ee6463fa826620befc75349",
            "e1d5310821f54970b2648764b0cd9232",
            "3f3b72cbf7cb4708826b26941ec5e69c",
            "a17cb99f9c074c089d97523d7191627f",
            "d147456740e0440aa92d9df90f0f6b36",
            "c0ad59a3e13742b2bf66fdc3ff210aee",
            "c82c3b91a3a142c986774520ab78baec",
            "c7858f39f724436a818cf3bfc26243c3",
            "d83f9d553c1843eabb2a9e341dd87c8c",
            "0f6527b80f5345fd8c7dbf892549bd7d",
            "c03fc8cfcbd64deea86b87e599008eda",
            "960fcda65b82422cb0a0d399c31acd67",
            "fbc0ea955a1640ebadeeb5af4b6fea41",
            "dcfda53c240b40cba4922c47bf98cc88",
            "76da99be434a46af970534099a3be92b",
            "faa537374c7340dba2b84a958f329a04",
            "c6e1a48ae9d544859131209d7763206a",
            "64c78db3bac04959a38f8b92350ee8a6",
            "5953b8769beb47e399fba0153831f959",
            "ded03d2c8d054390a3fcde467e1bb823",
            "97fe0b499ebf46d9bdb087d36687932a",
            "b7f09649d38542e2875997f3b0231252",
            "876b84406a904920887b56707f0e9687",
            "f883d76b77f74fd19ab7ff782a79d578",
            "e9b9160f184a4bf8a595a85c48543393",
            "cb71c23d5bde4c6097c25c8e7d1e20f1",
            "92b10604d3a143ee9ca05ec129e20af4",
            "60b4f22d7e154f1fb42814116f234b5e",
            "987f7c069dc0442190a45cb236de28b9",
            "80e6bcbf91334b0097f5b49e0b9d5f40",
            "b3c991dfa6ca4ca791d11d6bf81bc4a2",
            "c9e528d4dc614b02ab95db55a3289cc8",
            "23530f3cafa3457189bd031f577ae1cc",
            "e9a9e942bbdc464b9257af82b9a6820e",
            "efceb66d907741779d274cadaf4bb004",
            "18b44a05af1941ae8386cc3f1ac53b03",
            "fd51a735a0714a35a8b32ac8bb118ed5"
          ]
        },
        "outputId": "8197d92b-7bfc-460d-d471-b0c5a0eb3ea6"
      },
      "source": [
        "# Import the model\n",
        "import transformers\n",
        "from textattack.models.tokenizers import AutoTokenizer\n",
        "from textattack.models.wrappers import HuggingFaceModelWrapper\n",
        "\n",
        "model = transformers.AutoModelForSequenceClassification.from_pretrained(\"textattack/albert-base-v2-yelp-polarity\")\n",
        "tokenizer = AutoTokenizer(\"textattack/albert-base-v2-yelp-polarity\")\n",
        "# Change these\n",
        "\n",
        "model_wrapper = HuggingFaceModelWrapper(model, tokenizer)"
      ],
      "execution_count": null,
      "outputs": [
        {
          "output_type": "stream",
          "text": [
            "\u001b[34;1mtextattack\u001b[0m: Updating TextAttack package dependencies.\n",
            "\u001b[34;1mtextattack\u001b[0m: Downloading NLTK required packages.\n"
          ],
          "name": "stderr"
        },
        {
          "output_type": "stream",
          "text": [
            "[nltk_data] Downloading package averaged_perceptron_tagger to\n",
            "[nltk_data]     /root/nltk_data...\n",
            "[nltk_data]   Unzipping taggers/averaged_perceptron_tagger.zip.\n",
            "[nltk_data] Downloading package stopwords to /root/nltk_data...\n",
            "[nltk_data]   Unzipping corpora/stopwords.zip.\n",
            "[nltk_data] Downloading package omw to /root/nltk_data...\n",
            "[nltk_data]   Unzipping corpora/omw.zip.\n",
            "[nltk_data] Downloading package universal_tagset to /root/nltk_data...\n",
            "[nltk_data]   Unzipping taggers/universal_tagset.zip.\n",
            "[nltk_data] Downloading package wordnet to /root/nltk_data...\n",
            "[nltk_data]   Unzipping corpora/wordnet.zip.\n",
            "[nltk_data] Downloading package punkt to /root/nltk_data...\n",
            "[nltk_data]   Unzipping tokenizers/punkt.zip.\n"
          ],
          "name": "stdout"
        },
        {
          "output_type": "stream",
          "text": [
            "\u001b[34;1mtextattack\u001b[0m: Downloading https://textattack.s3.amazonaws.com/word_embeddings/paragramcf.\n",
            "100%|██████████| 481M/481M [00:12<00:00, 38.0MB/s]\n",
            "\u001b[34;1mtextattack\u001b[0m: Unzipping file /root/.cache/textattack/tmpy1mcbmou.zip to /root/.cache/textattack/word_embeddings/paragramcf.\n",
            "\u001b[34;1mtextattack\u001b[0m: Successfully saved word_embeddings/paragramcf to cache.\n"
          ],
          "name": "stderr"
        },
        {
          "output_type": "display_data",
          "data": {
            "application/vnd.jupyter.widget-view+json": {
              "model_id": "dfff3e8d3f0d4622a19de8144efafad7",
              "version_minor": 0,
              "version_major": 2
            },
            "text/plain": [
              "HBox(children=(FloatProgress(value=0.0, description='Downloading', max=736.0, style=ProgressStyle(description_…"
            ]
          },
          "metadata": {
            "tags": []
          }
        },
        {
          "output_type": "stream",
          "text": [
            "\n"
          ],
          "name": "stdout"
        },
        {
          "output_type": "display_data",
          "data": {
            "application/vnd.jupyter.widget-view+json": {
              "model_id": "c0ad59a3e13742b2bf66fdc3ff210aee",
              "version_minor": 0,
              "version_major": 2
            },
            "text/plain": [
              "HBox(children=(FloatProgress(value=0.0, description='Downloading', max=46747112.0, style=ProgressStyle(descrip…"
            ]
          },
          "metadata": {
            "tags": []
          }
        },
        {
          "output_type": "stream",
          "text": [
            "\n"
          ],
          "name": "stdout"
        },
        {
          "output_type": "display_data",
          "data": {
            "application/vnd.jupyter.widget-view+json": {
              "model_id": "dcfda53c240b40cba4922c47bf98cc88",
              "version_minor": 0,
              "version_major": 2
            },
            "text/plain": [
              "HBox(children=(FloatProgress(value=0.0, description='Downloading', max=760289.0, style=ProgressStyle(descripti…"
            ]
          },
          "metadata": {
            "tags": []
          }
        },
        {
          "output_type": "stream",
          "text": [
            "\n"
          ],
          "name": "stdout"
        },
        {
          "output_type": "display_data",
          "data": {
            "application/vnd.jupyter.widget-view+json": {
              "model_id": "b7f09649d38542e2875997f3b0231252",
              "version_minor": 0,
              "version_major": 2
            },
            "text/plain": [
              "HBox(children=(FloatProgress(value=0.0, description='Downloading', max=156.0, style=ProgressStyle(description_…"
            ]
          },
          "metadata": {
            "tags": []
          }
        },
        {
          "output_type": "stream",
          "text": [
            "\n"
          ],
          "name": "stdout"
        },
        {
          "output_type": "display_data",
          "data": {
            "application/vnd.jupyter.widget-view+json": {
              "model_id": "80e6bcbf91334b0097f5b49e0b9d5f40",
              "version_minor": 0,
              "version_major": 2
            },
            "text/plain": [
              "HBox(children=(FloatProgress(value=0.0, description='Downloading', max=25.0, style=ProgressStyle(description_w…"
            ]
          },
          "metadata": {
            "tags": []
          }
        },
        {
          "output_type": "stream",
          "text": [
            "\n"
          ],
          "name": "stdout"
        }
      ]
    },
    {
      "cell_type": "markdown",
      "metadata": {
        "id": "HPj8fvaOFDAD"
      },
      "source": [
        "Framing fasttext attack"
      ]
    },
    {
      "cell_type": "code",
      "metadata": {
        "id": "SHezFH9jE3Z2"
      },
      "source": [
        "from textattack.transformations import WordSwap\n",
        "\n",
        "class Swapper(WordSwap): # For fasttext\n",
        "    \"\"\" Transforms an input by replacing any word with its most similar counterpart\n",
        "    \"\"\"\n",
        "\n",
        "    # We don't need a constructor, since our class doesn't require any parameters.\n",
        "\n",
        "    def _get_replacement_words(self, word):\n",
        "        for i in range(10):\n",
        "            if word.lower() in model1.wv.most_similar(word)[i][0].lower():\n",
        "                continue # Don't return the exact word\n",
        "            elif word.isupper():\n",
        "                return [model1.wv.most_similar(word)[i][0].upper()] # Preserving case\n",
        "            elif word[0].isupper():\n",
        "                return [model1.wv.most_similar(word)[i][0].capitalize()] # Preserving Capitalization in words\n",
        "            else:\n",
        "                return [model1.wv.most_similar(word)[i][0]]\n",
        "            \n",
        "        return [model1.wv.most_similar(word)[0][0]]"
      ],
      "execution_count": null,
      "outputs": []
    },
    {
      "cell_type": "code",
      "metadata": {
        "id": "GHt_A9Sril_j"
      },
      "source": [
        "def printexample(attack,n):\n",
        "  print(attack)\n",
        "  from collections import deque\n",
        "\n",
        "  import textattack\n",
        "  import tqdm\n",
        "  import time\n",
        "  from IPython.display import display, HTML\n",
        "  num_examples = n\n",
        "  num_remaining_attacks = num_examples\n",
        "  pbar = tqdm.tqdm(total=num_remaining_attacks, smoothing=0)\n",
        "\n",
        "  worklist = deque(range(0, num_examples))\n",
        "  worklist_tail = worklist[-1]\n",
        "\n",
        "  attack_log_manager = textattack.loggers.AttackLogManager()\n",
        "\n",
        "  load_time = time.time()\n",
        "        \n",
        "  num_results = 0\n",
        "  num_failures = 0\n",
        "  num_successes = 0\n",
        "  for result in attack.attack_dataset(dataset, indices=worklist):\n",
        "      result_html_str = result.__str__(color_method=\"html\").replace(\"\\n\\n\", \"<br>\")\n",
        "      display(HTML(result_html_str))\n",
        "      attack_log_manager.log_result(result)\n",
        "            \n",
        "      if not isinstance(result, textattack.attack_results.SkippedAttackResult):\n",
        "          pbar.update(1)\n",
        "      else:\n",
        "          worklist_tail += 1\n",
        "          pbar.update(1)\n",
        "          worklist.append(worklist_tail)\n",
        "\n",
        "      num_results += 1\n",
        "\n",
        "      if (type(result) == textattack.attack_results.SuccessfulAttackResult\n",
        "        or type(result) == textattack.attack_results.MaximizedAttackResult):\n",
        "          num_successes += 1\n",
        "                \n",
        "      if type(result) == textattack.attack_results.FailedAttackResult:\n",
        "          num_failures += 1\n",
        "      pbar.set_description(\n",
        "          \"[Succeeded / Failed / Total] {} / {} / {}\".format(\n",
        "            num_successes, num_failures, num_results\n",
        "        )\n",
        "      )\n",
        "\n",
        "  pbar.close()\n",
        "\n",
        "  attack_log_manager.enable_stdout()\n",
        "  attack_log_manager.log_summary()\n",
        "  attack_log_manager.flush()\n",
        "        \n",
        "  textattack.shared.logger.info(f\"Attack time: {time.time() - load_time}s\")"
      ],
      "execution_count": null,
      "outputs": []
    },
    {
      "cell_type": "code",
      "metadata": {
        "id": "Sm04Ri8WFGHy",
        "colab": {
          "base_uri": "https://localhost:8080/",
          "height": 260,
          "referenced_widgets": [
            "978f376fb7f04f7380e6604bd551b3b0",
            "e34abeda86d7482fb67bee674a805d0e",
            "8d21b3bbbe1a4226a6645de3ea171730",
            "912f7f2139254dba88a411b79864fbcd",
            "2711ba4ac3064f4fb6de114c93e6e66a",
            "bc2d3b737ba04de78457ce31bd1ef0c6",
            "5ca750d0fc514fe7a87425264a76ec0c",
            "8fd8c15d00634987a9e312ff1d38ead3",
            "e72ec5d735d04521a0bc19b6d560a79f",
            "67668874e9e74d1fa1423a6669b16464",
            "7af94780c3184d61b49912558206a088",
            "446a37036dd64b318812e5894a1247e0",
            "75cd8ead0dc740d7a42bbd0831f04b9b",
            "0cc86e7357dd4611910ce31a2c2c7224",
            "b1cf979ab49a4d6881b6eb0391653f5f",
            "97c32693d9bb407f913bcd32a224c288",
            "bfdd34ebcbf548698ca68d57b1cfde1a",
            "43c7cae2d19446839aa91fb2e307c2a9",
            "7060e6505d994d77ad9c179025a75543",
            "54be693dcb36490b8e62c8b86c64dca2",
            "f75dddb033644b01aa8acec0b76fb34f",
            "92ebc22eed1846dfb705a186812f36f1",
            "01912f6b08ab4c76862a35b4902766dc",
            "2695a374b1554448a0d9de694913c33a",
            "d49449c59c9e4640a4377f886ec3dfb3",
            "7e91ed7d38754c0083e3534c7a0f32f7",
            "179e1981dc114458b080059e976af2da",
            "d62bbe99e7714b469b2eb136a0908aa2",
            "3fb1a20e4c90442cb63db9cf309e594c",
            "602a4a221b7945708a03705eac8faf1c",
            "406d61854ee7463a9b9442de05c4df06",
            "60de7ce4fe03436487b3617dd0c61287",
            "a41d74942e7247abb2b099f952b2248d",
            "a8d34a81da1c45469d841808c1eda06f",
            "b5a175cf7303425a8959e6f3b4b056a4",
            "51f6573078254b6c80ed3537e135d6db",
            "8586922cab8b4725a45819a582da3dff",
            "ddaab52f151c452ba0cd0526be1a20e7",
            "95da7c0f5f814a008b056b4c7e9e1924",
            "8c3af88a84a540f59a38e416977159f2"
          ]
        },
        "outputId": "5e4d1e06-949c-4f0d-8e73-993989c5e934"
      },
      "source": [
        "from textattack.search_methods import GreedyWordSwapWIR\n",
        "from textattack.constraints.pre_transformation import RepeatModification, StopwordModification\n",
        "from textattack.constraints.overlap import MaxWordsPerturbed\n",
        "from textattack.shared import Attack\n",
        "from textattack.goal_functions import UntargetedClassification\n",
        "from textattack.datasets import HuggingFaceDataset\n",
        "\n",
        "# We're going to use our word swap class as the attack transformation.\n",
        "transformation = Swapper()\n",
        "\n",
        "constraints = [RepeatModification(),\n",
        "               StopwordModification(),MaxWordsPerturbed(max_percent=0.3)]\n",
        "\n",
        "search_method = GreedyWordSwapWIR(wir_method='weighted-saliency')\n",
        "\n",
        "goal_function = UntargetedClassification(model_wrapper)\n",
        "\n",
        "# Now, let's make the attack from the 4 components:\n",
        "attack = Attack(goal_function, constraints, transformation, search_method)\n",
        "\n",
        "dataset = HuggingFaceDataset(\"yelp_polarity\", None, \"test\") # Change the dataset"
      ],
      "execution_count": null,
      "outputs": [
        {
          "output_type": "stream",
          "text": [
            "\u001b[34;1mtextattack\u001b[0m: Unknown if model of class <class 'transformers.models.albert.modeling_albert.AlbertForSequenceClassification'> compatible with goal function <class 'textattack.goal_functions.classification.untargeted_classification.UntargetedClassification'>.\n"
          ],
          "name": "stderr"
        },
        {
          "output_type": "display_data",
          "data": {
            "application/vnd.jupyter.widget-view+json": {
              "model_id": "978f376fb7f04f7380e6604bd551b3b0",
              "version_minor": 0,
              "version_major": 2
            },
            "text/plain": [
              "HBox(children=(FloatProgress(value=0.0, description='Downloading', max=2313.0, style=ProgressStyle(description…"
            ]
          },
          "metadata": {
            "tags": []
          }
        },
        {
          "output_type": "stream",
          "text": [
            "\n"
          ],
          "name": "stdout"
        },
        {
          "output_type": "display_data",
          "data": {
            "application/vnd.jupyter.widget-view+json": {
              "model_id": "e72ec5d735d04521a0bc19b6d560a79f",
              "version_minor": 0,
              "version_major": 2
            },
            "text/plain": [
              "HBox(children=(FloatProgress(value=0.0, description='Downloading', max=1609.0, style=ProgressStyle(description…"
            ]
          },
          "metadata": {
            "tags": []
          }
        },
        {
          "output_type": "stream",
          "text": [
            "\n",
            "Downloading and preparing dataset yelp_polarity/plain_text (download: 158.67 MiB, generated: 421.28 MiB, post-processed: Unknown size, total: 579.95 MiB) to /root/.cache/huggingface/datasets/yelp_polarity/plain_text/1.0.0/591dc79cb354c6f051b5bf61c77a446205c98156e01669c6218c9bd6aa15f581...\n"
          ],
          "name": "stdout"
        },
        {
          "output_type": "display_data",
          "data": {
            "application/vnd.jupyter.widget-view+json": {
              "model_id": "bfdd34ebcbf548698ca68d57b1cfde1a",
              "version_minor": 0,
              "version_major": 2
            },
            "text/plain": [
              "HBox(children=(FloatProgress(value=0.0, description='Downloading', max=166373201.0, style=ProgressStyle(descri…"
            ]
          },
          "metadata": {
            "tags": []
          }
        },
        {
          "output_type": "stream",
          "text": [
            "\n"
          ],
          "name": "stdout"
        },
        {
          "output_type": "display_data",
          "data": {
            "application/vnd.jupyter.widget-view+json": {
              "model_id": "d49449c59c9e4640a4377f886ec3dfb3",
              "version_minor": 0,
              "version_major": 2
            },
            "text/plain": [
              "HBox(children=(FloatProgress(value=1.0, bar_style='info', max=1.0), HTML(value='')))"
            ]
          },
          "metadata": {
            "tags": []
          }
        },
        {
          "output_type": "stream",
          "text": [
            "\r"
          ],
          "name": "stdout"
        },
        {
          "output_type": "display_data",
          "data": {
            "application/vnd.jupyter.widget-view+json": {
              "model_id": "a41d74942e7247abb2b099f952b2248d",
              "version_minor": 0,
              "version_major": 2
            },
            "text/plain": [
              "HBox(children=(FloatProgress(value=1.0, bar_style='info', max=1.0), HTML(value='')))"
            ]
          },
          "metadata": {
            "tags": []
          }
        },
        {
          "output_type": "stream",
          "text": [
            "\u001b[34;1mtextattack\u001b[0m: Loading \u001b[94mdatasets\u001b[0m dataset \u001b[94myelp_polarity\u001b[0m, split \u001b[94mtest\u001b[0m.\n"
          ],
          "name": "stderr"
        },
        {
          "output_type": "stream",
          "text": [
            "\rDataset yelp_polarity downloaded and prepared to /root/.cache/huggingface/datasets/yelp_polarity/plain_text/1.0.0/591dc79cb354c6f051b5bf61c77a446205c98156e01669c6218c9bd6aa15f581. Subsequent calls will reuse this data.\n"
          ],
          "name": "stdout"
        }
      ]
    },
    {
      "cell_type": "code",
      "metadata": {
        "id": "a578fNbVFII3",
        "colab": {
          "base_uri": "https://localhost:8080/"
        },
        "outputId": "72461281-e912-4386-d316-bd75ca675201"
      },
      "source": [
        "print(attack)"
      ],
      "execution_count": null,
      "outputs": [
        {
          "output_type": "stream",
          "text": [
            "Attack(\n",
            "  (search_method): GreedyWordSwapWIR(\n",
            "    (wir_method):  weighted-saliency\n",
            "  )\n",
            "  (goal_function):  UntargetedClassification\n",
            "  (transformation):  Swapper\n",
            "  (constraints): \n",
            "    (0): MaxWordsPerturbed(\n",
            "        (max_percent):  0.3\n",
            "        (compare_against_original):  True\n",
            "      )\n",
            "    (1): RepeatModification\n",
            "    (2): StopwordModification\n",
            "  (is_black_box):  True\n",
            ")\n"
          ],
          "name": "stdout"
        }
      ]
    },
    {
      "cell_type": "code",
      "metadata": {
        "id": "fClGtuFxFM5f",
        "colab": {
          "base_uri": "https://localhost:8080/",
          "height": 1000
        },
        "outputId": "88325575-fbb8-4273-8818-0e2edeb7fcd1"
      },
      "source": [
        "for i in range(5,26,5):\n",
        "  print('Examples for n=',i)\n",
        "  printexample(attack,i)"
      ],
      "execution_count": null,
      "outputs": [
        {
          "output_type": "stream",
          "text": [
            "\r  0%|          | 0/5 [00:00<?, ?it/s]"
          ],
          "name": "stderr"
        },
        {
          "output_type": "stream",
          "text": [
            "Examples for n= 5\n",
            "Attack(\n",
            "  (search_method): GreedyWordSwapWIR(\n",
            "    (wir_method):  weighted-saliency\n",
            "  )\n",
            "  (goal_function):  UntargetedClassification\n",
            "  (transformation):  Swapper\n",
            "  (constraints): \n",
            "    (0): MaxWordsPerturbed(\n",
            "        (max_percent):  0.3\n",
            "        (compare_against_original):  True\n",
            "      )\n",
            "    (1): RepeatModification\n",
            "    (2): StopwordModification\n",
            "  (is_black_box):  True\n",
            ")\n"
          ],
          "name": "stdout"
        },
        {
          "output_type": "display_data",
          "data": {
            "text/html": [
              "<font color = green>2 (100%)</font> --> <font color = red>1 (92%)</font><br>Contrary to other reviews, I have <font color = green>zero</font> complaints about the service or the prices. I have been getting tire <font color = green>service</font> here for the past 5 years now, and compared to my experience with places like Pep Boys, these guys are experienced and <font color = green>know</font> what they're doing. \\nAlso, this is one place that I do not feel like I am being taken advantage of, just because of my gender. Other <font color = green>auto</font> mechanics have been notorious for capitalizing on my ignorance of cars, and have sucked my <font color = green>bank</font> account dry. <font color = green>But</font> here, my service and road coverage has all been well <font color = green>explained</font> - and let up to me to decide. \\<font color = green>nAnd</font> they just renovated the <font color = green>waiting</font> room. It looks a lot <font color = green>better</font> than it did in <font color = green>previous</font> years.<br>Contrary to other reviews, I have <font color = red>five</font> complaints about the service or the prices. I have been getting tire <font color = red>serviciul</font> here for the past 5 years now, and compared to my experience with places like Pep Boys, these guys are experienced and <font color = red>think</font> what they're doing. \\nAlso, this is one place that I do not feel like I am being taken advantage of, just because of my gender. Other <font color = red>theft</font> mechanics have been notorious for capitalizing on my ignorance of cars, and have sucked my <font color = red>monetary</font> account dry. <font color = red>Zut</font> here, my service and road coverage has all been well <font color = red>falsified</font> - and let up to me to decide. \\<font color = red>tell</font> they just renovated the <font color = red>baiting</font> room. It looks a lot <font color = red>getter</font> than it did in <font color = red>earlier</font> years."
            ],
            "text/plain": [
              "<IPython.core.display.HTML object>"
            ]
          },
          "metadata": {
            "tags": []
          }
        },
        {
          "output_type": "stream",
          "text": [
            "[Succeeded / Failed / Total] 1 / 0 / 1:  20%|██        | 1/5 [00:04<00:18,  4.68s/it]"
          ],
          "name": "stderr"
        },
        {
          "output_type": "display_data",
          "data": {
            "text/html": [
              "<font color = red>1 (100%)</font> --> <font color = green>2 (63%)</font><br>Last summer I had an appointment to <font color = red>get</font> new <font color = red>tires</font> and had to wait a <font color = red>super</font> long <font color = red>time</font>. I <font color = red>also</font> went in this week for them to <font color = red>fix</font> a <font color = red>minor</font> problem with a tire they put on. They \\\"\"fixed\\\"\" it for free, and the very next morning I had the same issue. I called to complain, and the \\\"\"<font color = red>manager</font>\\\"\" didn't <font color = red>even</font> <font color = red>apologize</font>!!! So frustrated. Never <font color = red>going</font> <font color = red>back</font>.  They <font color = red>seem</font> <font color = red>overpriced</font>, too.<br>Last summer I had an appointment to <font color = green>give</font> new <font color = green>tire</font> and had to wait a <font color = green>superbike</font> long <font color = green>period</font>. I <font color = green>sometimes</font> went in this week for them to <font color = green>restart</font> a <font color = green>major</font> problem with a tire they put on. They \\\"\"fixed\\\"\" it for free, and the very next morning I had the same issue. I called to complain, and the \\\"\"<font color = green>coach</font>\\\"\" didn't <font color = green>indeed</font> <font color = green>apologise</font>!!! So frustrated. Never <font color = green>getting</font> <font color = green>down</font>.  They <font color = green>tend</font> <font color = green>priced</font>, too."
            ],
            "text/plain": [
              "<IPython.core.display.HTML object>"
            ]
          },
          "metadata": {
            "tags": []
          }
        },
        {
          "output_type": "stream",
          "text": [
            "[Succeeded / Failed / Total] 2 / 0 / 2:  40%|████      | 2/5 [00:07<00:11,  3.85s/it]"
          ],
          "name": "stderr"
        },
        {
          "output_type": "display_data",
          "data": {
            "text/html": [
              "<font color = green>2 (73%)</font> --> <font color = red>1 (52%)</font><br>Friendly staff, same starbucks fair you <font color = green>get</font> anywhere else.  Sometimes the lines can get long.<br>Friendly staff, same starbucks fair you <font color = red>give</font> anywhere else.  Sometimes the lines can get long."
            ],
            "text/plain": [
              "<IPython.core.display.HTML object>"
            ]
          },
          "metadata": {
            "tags": []
          }
        },
        {
          "output_type": "stream",
          "text": [
            "[Succeeded / Failed / Total] 3 / 0 / 3:  60%|██████    | 3/5 [00:08<00:05,  2.76s/it]"
          ],
          "name": "stderr"
        },
        {
          "output_type": "display_data",
          "data": {
            "text/html": [
              "<font color = red>1 (98%)</font> --> <font color = green>2 (51%)</font><br><font color = red>The</font> food is good. <font color = red>Unfortunately</font> the service is very hit or miss. The main issue seems to be with the kitchen, the waiters and waitresses are often very apologetic for the long waits and it's pretty obvious that some of them avoid the tables after taking the initial order to avoid hearing complaints.<br><font color = green>Gauche</font> food is good. <font color = green>Fortunately</font> the service is very hit or miss. The main issue seems to be with the kitchen, the waiters and waitresses are often very apologetic for the long waits and it's pretty obvious that some of them avoid the tables after taking the initial order to avoid hearing complaints."
            ],
            "text/plain": [
              "<IPython.core.display.HTML object>"
            ]
          },
          "metadata": {
            "tags": []
          }
        },
        {
          "output_type": "stream",
          "text": [
            "[Succeeded / Failed / Total] 4 / 0 / 4:  80%|████████  | 4/5 [00:10<00:02,  2.50s/it]"
          ],
          "name": "stderr"
        },
        {
          "output_type": "display_data",
          "data": {
            "text/html": [
              "<font color = green>2 (100%)</font> --> <font color = red>[FAILED]</font><br>Even when we didn't have a car Filene's Basement was worth the bus trip to the Waterfront. I always find something (usually I find 3-4 things and spend about $60) and better still, I am always still wearing the clothes and shoes 3 months later. \\n\\nI kind of suspect this is the best shopping in Pittsburgh; it's much better than the usual department stores, better than Marshall's and TJ Maxx and better than the Saks downtown, even when it has a sale. Selection, bargains AND quality.\\n\\nI like this Filene's better than Gabriel Brothers, which are harder to get to. Gabriel Brothers are a real discount shopper's challenge and I'm afraid I didn't live in Pittsburgh long enough to develop the necessary skills . . . Filene's was still up and running in June 2007 when I left town."
            ],
            "text/plain": [
              "<IPython.core.display.HTML object>"
            ]
          },
          "metadata": {
            "tags": []
          }
        },
        {
          "output_type": "stream",
          "text": [
            "[Succeeded / Failed / Total] 4 / 1 / 5: 100%|██████████| 5/5 [00:17<00:00,  3.51s/it]"
          ],
          "name": "stderr"
        },
        {
          "output_type": "stream",
          "text": [
            "+-------------------------------+--------+\n",
            "| Attack Results                |        |\n",
            "+-------------------------------+--------+\n",
            "| Number of successful attacks: | 4      |\n",
            "| Number of failed attacks:     | 1      |\n",
            "| Number of skipped attacks:    | 0      |\n",
            "| Original accuracy:            | 100.0% |\n",
            "| Accuracy under attack:        | 20.0%  |\n",
            "| Attack success rate:          | 80.0%  |\n",
            "| Average perturbed word %:     | 9.74%  |\n",
            "| Average num. words per input: | 80.4   |\n",
            "| Avg num queries:              | 153.2  |\n",
            "+-------------------------------+--------+"
          ],
          "name": "stdout"
        },
        {
          "output_type": "stream",
          "text": [
            "\n",
            "\u001b[34;1mtextattack\u001b[0m: Attack time: 17.577123641967773s\n",
            "  0%|          | 0/10 [00:00<?, ?it/s]"
          ],
          "name": "stderr"
        },
        {
          "output_type": "stream",
          "text": [
            "Examples for n= 10\n",
            "Attack(\n",
            "  (search_method): GreedyWordSwapWIR(\n",
            "    (wir_method):  weighted-saliency\n",
            "  )\n",
            "  (goal_function):  UntargetedClassification\n",
            "  (transformation):  Swapper\n",
            "  (constraints): \n",
            "    (0): MaxWordsPerturbed(\n",
            "        (max_percent):  0.3\n",
            "        (compare_against_original):  True\n",
            "      )\n",
            "    (1): RepeatModification\n",
            "    (2): StopwordModification\n",
            "  (is_black_box):  True\n",
            ")\n"
          ],
          "name": "stdout"
        },
        {
          "output_type": "display_data",
          "data": {
            "text/html": [
              "<font color = green>2 (100%)</font> --> <font color = red>1 (92%)</font><br>Contrary to other reviews, I have <font color = green>zero</font> complaints about the service or the prices. I have been getting tire <font color = green>service</font> here for the past 5 years now, and compared to my experience with places like Pep Boys, these guys are experienced and <font color = green>know</font> what they're doing. \\nAlso, this is one place that I do not feel like I am being taken advantage of, just because of my gender. Other <font color = green>auto</font> mechanics have been notorious for capitalizing on my ignorance of cars, and have sucked my <font color = green>bank</font> account dry. <font color = green>But</font> here, my service and road coverage has all been well <font color = green>explained</font> - and let up to me to decide. \\<font color = green>nAnd</font> they just renovated the <font color = green>waiting</font> room. It looks a lot <font color = green>better</font> than it did in <font color = green>previous</font> years.<br>Contrary to other reviews, I have <font color = red>five</font> complaints about the service or the prices. I have been getting tire <font color = red>serviciul</font> here for the past 5 years now, and compared to my experience with places like Pep Boys, these guys are experienced and <font color = red>think</font> what they're doing. \\nAlso, this is one place that I do not feel like I am being taken advantage of, just because of my gender. Other <font color = red>theft</font> mechanics have been notorious for capitalizing on my ignorance of cars, and have sucked my <font color = red>monetary</font> account dry. <font color = red>Zut</font> here, my service and road coverage has all been well <font color = red>falsified</font> - and let up to me to decide. \\<font color = red>tell</font> they just renovated the <font color = red>baiting</font> room. It looks a lot <font color = red>getter</font> than it did in <font color = red>earlier</font> years."
            ],
            "text/plain": [
              "<IPython.core.display.HTML object>"
            ]
          },
          "metadata": {
            "tags": []
          }
        },
        {
          "output_type": "stream",
          "text": [
            "[Succeeded / Failed / Total] 1 / 0 / 1:  10%|█         | 1/10 [00:04<00:39,  4.41s/it]"
          ],
          "name": "stderr"
        },
        {
          "output_type": "display_data",
          "data": {
            "text/html": [
              "<font color = red>1 (100%)</font> --> <font color = green>2 (63%)</font><br>Last summer I had an appointment to <font color = red>get</font> new <font color = red>tires</font> and had to wait a <font color = red>super</font> long <font color = red>time</font>. I <font color = red>also</font> went in this week for them to <font color = red>fix</font> a <font color = red>minor</font> problem with a tire they put on. They \\\"\"fixed\\\"\" it for free, and the very next morning I had the same issue. I called to complain, and the \\\"\"<font color = red>manager</font>\\\"\" didn't <font color = red>even</font> <font color = red>apologize</font>!!! So frustrated. Never <font color = red>going</font> <font color = red>back</font>.  They <font color = red>seem</font> <font color = red>overpriced</font>, too.<br>Last summer I had an appointment to <font color = green>give</font> new <font color = green>tire</font> and had to wait a <font color = green>superbike</font> long <font color = green>period</font>. I <font color = green>sometimes</font> went in this week for them to <font color = green>restart</font> a <font color = green>major</font> problem with a tire they put on. They \\\"\"fixed\\\"\" it for free, and the very next morning I had the same issue. I called to complain, and the \\\"\"<font color = green>coach</font>\\\"\" didn't <font color = green>indeed</font> <font color = green>apologise</font>!!! So frustrated. Never <font color = green>getting</font> <font color = green>down</font>.  They <font color = green>tend</font> <font color = green>priced</font>, too."
            ],
            "text/plain": [
              "<IPython.core.display.HTML object>"
            ]
          },
          "metadata": {
            "tags": []
          }
        },
        {
          "output_type": "stream",
          "text": [
            "[Succeeded / Failed / Total] 2 / 0 / 2:  20%|██        | 2/10 [00:07<00:29,  3.73s/it]"
          ],
          "name": "stderr"
        },
        {
          "output_type": "display_data",
          "data": {
            "text/html": [
              "<font color = green>2 (73%)</font> --> <font color = red>1 (52%)</font><br>Friendly staff, same starbucks fair you <font color = green>get</font> anywhere else.  Sometimes the lines can get long.<br>Friendly staff, same starbucks fair you <font color = red>give</font> anywhere else.  Sometimes the lines can get long."
            ],
            "text/plain": [
              "<IPython.core.display.HTML object>"
            ]
          },
          "metadata": {
            "tags": []
          }
        },
        {
          "output_type": "stream",
          "text": [
            "[Succeeded / Failed / Total] 3 / 0 / 3:  30%|███       | 3/10 [00:08<00:18,  2.68s/it]"
          ],
          "name": "stderr"
        },
        {
          "output_type": "display_data",
          "data": {
            "text/html": [
              "<font color = red>1 (98%)</font> --> <font color = green>2 (51%)</font><br><font color = red>The</font> food is good. <font color = red>Unfortunately</font> the service is very hit or miss. The main issue seems to be with the kitchen, the waiters and waitresses are often very apologetic for the long waits and it's pretty obvious that some of them avoid the tables after taking the initial order to avoid hearing complaints.<br><font color = green>Gauche</font> food is good. <font color = green>Fortunately</font> the service is very hit or miss. The main issue seems to be with the kitchen, the waiters and waitresses are often very apologetic for the long waits and it's pretty obvious that some of them avoid the tables after taking the initial order to avoid hearing complaints."
            ],
            "text/plain": [
              "<IPython.core.display.HTML object>"
            ]
          },
          "metadata": {
            "tags": []
          }
        },
        {
          "output_type": "stream",
          "text": [
            "[Succeeded / Failed / Total] 4 / 0 / 4:  40%|████      | 4/10 [00:09<00:14,  2.44s/it]"
          ],
          "name": "stderr"
        },
        {
          "output_type": "display_data",
          "data": {
            "text/html": [
              "<font color = green>2 (100%)</font> --> <font color = red>[FAILED]</font><br>Even when we didn't have a car Filene's Basement was worth the bus trip to the Waterfront. I always find something (usually I find 3-4 things and spend about $60) and better still, I am always still wearing the clothes and shoes 3 months later. \\n\\nI kind of suspect this is the best shopping in Pittsburgh; it's much better than the usual department stores, better than Marshall's and TJ Maxx and better than the Saks downtown, even when it has a sale. Selection, bargains AND quality.\\n\\nI like this Filene's better than Gabriel Brothers, which are harder to get to. Gabriel Brothers are a real discount shopper's challenge and I'm afraid I didn't live in Pittsburgh long enough to develop the necessary skills . . . Filene's was still up and running in June 2007 when I left town."
            ],
            "text/plain": [
              "<IPython.core.display.HTML object>"
            ]
          },
          "metadata": {
            "tags": []
          }
        },
        {
          "output_type": "stream",
          "text": [
            "[Succeeded / Failed / Total] 4 / 1 / 5:  50%|█████     | 5/10 [00:17<00:17,  3.48s/it]"
          ],
          "name": "stderr"
        },
        {
          "output_type": "display_data",
          "data": {
            "text/html": [
              "<font color = green>2 (100%)</font> --> <font color = red>1 (51%)</font><br>Picture Billy Joel's \\\"\"Piano Man\\\"\" DOUBLED mixed with beer, a <font color = green>rowdy</font> crowd, and <font color = green>comedy</font> - Welcome to Sing Sing!  A <font color = green>unique</font> musical experience <font color = green>found</font> in Homestead.\\<font color = green>n</font>\\nIf you're looking to grab a bite to eat or a beer, come on in!  Serving food and brews from Rock Bottom Brewery, Sing Sing keeps your tummy full while you listen to two (or more) amazingly <font color = green>talented</font> <font color = green>pianists</font> <font color = green>take</font> your musical requests.  They'll play <font color = green>anything</font> you'd like, for tips of course.  Wanting to hear Britney Spears?  Toto?  Duran Duran?  Yep, they play that... new or old.\\n\\<font color = green>nThe</font> crowd makes the show, so make <font color = green>sure</font> you come ready for a <font color = green>good</font> time.  <font color = green>If</font> the crowd is dead, it's harder for the Guys to get a reaction.  If you're wanting to have some fun, it can be a GREAT time!  <font color = green>It's</font> the perfect place for Birthday parties - especially if you want to embarrass a friend.  The guys will bring them up to the <font color = green>pianos</font> and perform a little ditty.  For being a good sport, you get the coveted Sing Sing bumper sticker.  Now who wouldn't want that?\\n\\nDueling Pianos and brews... time to Shut Up & Sing Sing!<br>Picture Billy Joel's \\\"\"Piano Man\\\"\" DOUBLED mixed with beer, a <font color = red>howdy</font> crowd, and <font color = red>comedies</font> - Welcome to Sing Sing!  A <font color = red>distinctive</font> musical experience <font color = red>corroborated</font> in Homestead.\\<font color = red>y</font>\\nIf you're looking to grab a bite to eat or a beer, come on in!  Serving food and brews from Rock Bottom Brewery, Sing Sing keeps your tummy full while you listen to two (or more) amazingly <font color = red>talent</font> <font color = red>lutenists</font> <font color = red>give</font> your musical requests.  They'll play <font color = red>nothing</font> you'd like, for tips of course.  Wanting to hear Britney Spears?  Toto?  Duran Duran?  Yep, they play that... new or old.\\n\\<font color = red>bouche</font> crowd makes the show, so make <font color = red>forget</font> you come ready for a <font color = red>bad</font> time.  <font color = red>Sun</font> the crowd is dead, it's harder for the Guys to get a reaction.  If you're wanting to have some fun, it can be a GREAT time!  <font color = red>Aeneas</font> the perfect place for Birthday parties - especially if you want to embarrass a friend.  The guys will bring them up to the <font color = red>piano</font> and perform a little ditty.  For being a good sport, you get the coveted Sing Sing bumper sticker.  Now who wouldn't want that?\\n\\nDueling Pianos and brews... time to Shut Up & Sing Sing!"
            ],
            "text/plain": [
              "<IPython.core.display.HTML object>"
            ]
          },
          "metadata": {
            "tags": []
          }
        },
        {
          "output_type": "stream",
          "text": [
            "[Succeeded / Failed / Total] 5 / 1 / 6:  60%|██████    | 6/10 [00:26<00:17,  4.42s/it]"
          ],
          "name": "stderr"
        },
        {
          "output_type": "display_data",
          "data": {
            "text/html": [
              "<font color = red>1 (100%)</font> --> <font color = red>[FAILED]</font><br>Mediocre service. COLD food! Our food waited so long the lettuce & pickles wilted. Bland food. Crazy overpriced. Long waits in the arcade. 1 beer per hour maximum.  Avoid at all costs. Fair manager."
            ],
            "text/plain": [
              "<IPython.core.display.HTML object>"
            ]
          },
          "metadata": {
            "tags": []
          }
        },
        {
          "output_type": "stream",
          "text": [
            "[Succeeded / Failed / Total] 5 / 2 / 7:  70%|███████   | 7/10 [00:28<00:12,  4.09s/it]"
          ],
          "name": "stderr"
        },
        {
          "output_type": "display_data",
          "data": {
            "text/html": [
              "<font color = red>1 (100%)</font> --> <font color = green>2 (55%)</font><br>Ok! Let me tell you about my bad <font color = red>experience</font> first. I went to D&B last night for a post wedding party - which, side note, is a great idea!\\n\\nIt was around midnight and the bar wasn't really populated. There were three bartenders and only one was actually making rounds to see if anyone needed anything. The two other bartenders were chatting on the far side of the bar that no one was sitting at. Kind of counter productive if you ask me. \\n\\nI stood there for about 5 minutes, which for a busy bar is fine but when I am the only one with my card out then, it just seems a little ridiculous. I made eye contact with the one girl twice and gave her a smile and she literally turned away. I finally had to walk to them to get their attention.  I was standing right in front of them smiling and they didn't ask if i need anything. I finally said, \\\"\"Are you working?\\\"\" and they gave each other a <font color = red>weird</font> look. I felt like i was the crazy one. I asked for a beer/got the beer.\\n\\nIn between that time, the other bartender brought food over and set it down. She took a fry from the plate (right in front of me) and then served it to someone on the other side of the bar. What the hell! I felt like i was in some grimy bar in out in the sticks - not an established D&B. \\n\\nI was just really turned off from that experience. \\n\\nThe good is that D&B provides a different type of entertainment when you want to mix things up. I remember going here with my grandparents when I was a kid and it was the best treat ever! We would eat at the restaurant and then spend hours playing games. This place holds some really good memories for me. \\n\\nIt's a shame that my experience last night has spoiled the high standards I held for it.<br>Ok! Let me tell you about my bad <font color = green>experiencing</font> first. I went to D&B last night for a post wedding party - which, side note, is a great idea!\\n\\nIt was around midnight and the bar wasn't really populated. There were three bartenders and only one was actually making rounds to see if anyone needed anything. The two other bartenders were chatting on the far side of the bar that no one was sitting at. Kind of counter productive if you ask me. \\n\\nI stood there for about 5 minutes, which for a busy bar is fine but when I am the only one with my card out then, it just seems a little ridiculous. I made eye contact with the one girl twice and gave her a smile and she literally turned away. I finally had to walk to them to get their attention.  I was standing right in front of them smiling and they didn't ask if i need anything. I finally said, \\\"\"Are you working?\\\"\" and they gave each other a <font color = green>weir</font> look. I felt like i was the crazy one. I asked for a beer/got the beer.\\n\\nIn between that time, the other bartender brought food over and set it down. She took a fry from the plate (right in front of me) and then served it to someone on the other side of the bar. What the hell! I felt like i was in some grimy bar in out in the sticks - not an established D&B. \\n\\nI was just really turned off from that experience. \\n\\nThe good is that D&B provides a different type of entertainment when you want to mix things up. I remember going here with my grandparents when I was a kid and it was the best treat ever! We would eat at the restaurant and then spend hours playing games. This place holds some really good memories for me. \\n\\nIt's a shame that my experience last night has spoiled the high standards I held for it."
            ],
            "text/plain": [
              "<IPython.core.display.HTML object>"
            ]
          },
          "metadata": {
            "tags": []
          }
        },
        {
          "output_type": "stream",
          "text": [
            "[Succeeded / Failed / Total] 6 / 2 / 8:  80%|████████  | 8/10 [00:41<00:10,  5.20s/it]"
          ],
          "name": "stderr"
        },
        {
          "output_type": "display_data",
          "data": {
            "text/html": [
              "<font color = red>1 (100%)</font> --> <font color = green>2 (52%)</font><br><font color = red>I</font> used to love D&<font color = red>B</font> when it <font color = red>first</font> opened in the Waterfront, but it has gone down <font color = red>hill</font> over the years. The <font color = red>games</font> are not as fun and do not <font color = red>give</font> you as many <font color = red>tickets</font> and the prizes have gotten cheaper in quality. It takes a whole heck of a lot of tickets for you to <font color = red>even</font> get a <font color = red>pencil</font>! The <font color = red>atmosphere</font> is <font color = red>okay</font> but it used to be so much better with the funnest games and diverse groups of people! Now, it is <font color = red>run</font> down and many of the games are app related <font color = red>games</font> (Fruit Ninja) and 3D <font color = red>Experience</font> rides. With such \\\"\"games\\\"\", you can't even <font color = red>earn</font> tickets and they take a lot of tokens! Last time I went, back in the winter, many of the games were broken, which made for a <font color = red>negative</font> player experience. I would go to D&B to play some games again in the future, but it is no <font color = red>longer</font> <font color = red>one</font> of my favorite places to go due to the decline of fun games where you can earn tickets.<br><font color = green>ENCHANTER</font> used to love D&<font color = green>HAIR</font> when it <font color = green>last</font> opened in the Waterfront, but it has gone down <font color = green>clifton</font> over the years. The <font color = green>game</font> are not as fun and do not <font color = green>make</font> you as many <font color = green>ticket</font> and the prizes have gotten cheaper in quality. It takes a whole heck of a lot of tickets for you to <font color = green>indeed</font> get a <font color = green>stencil</font>! The <font color = green>atmospheric</font> is <font color = green>anymore</font> but it used to be so much better with the funnest games and diverse groups of people! Now, it is <font color = green>driveway</font> down and many of the games are app related <font color = green>game</font> (Fruit Ninja) and 3D <font color = green>Experiencing</font> rides. With such \\\"\"games\\\"\", you can't even <font color = green>paying</font> tickets and they take a lot of tokens! Last time I went, back in the winter, many of the games were broken, which made for a <font color = green>positive</font> player experience. I would go to D&B to play some games again in the future, but it is no <font color = green>longew</font> <font color = green>nine</font> of my favorite places to go due to the decline of fun games where you can earn tickets."
            ],
            "text/plain": [
              "<IPython.core.display.HTML object>"
            ]
          },
          "metadata": {
            "tags": []
          }
        },
        {
          "output_type": "stream",
          "text": [
            "[Succeeded / Failed / Total] 7 / 2 / 9:  90%|█████████ | 9/10 [00:48<00:05,  5.43s/it]"
          ],
          "name": "stderr"
        },
        {
          "output_type": "display_data",
          "data": {
            "text/html": [
              "<font color = green>2 (100%)</font> --> <font color = red>1 (86%)</font><br><font color = green>Like</font> any Barnes & Noble, it has a nice comfy cafe, and a <font color = green>large</font> selection of books.  The staff is very <font color = green>friendly</font> and <font color = green>helpful</font>.  They <font color = green>stock</font> a decent selection, and the prices are pretty <font color = green>reasonable</font>.  Obviously it's <font color = green>hard</font> for them to compete with Amazon.  However <font color = green>since</font> all the small shop <font color = green>bookstores</font> are gone, it's <font color = green>nice</font> to <font color = green>walk</font> into one every once in a while.<br><font color = red>Ike</font> any Barnes & Noble, it has a nice comfy cafe, and a <font color = red>small</font> selection of books.  The staff is very <font color = red>friendliness</font> and <font color = red>useful</font>.  They <font color = red>market</font> a decent selection, and the prices are pretty <font color = red>reasonably</font>.  Obviously it's <font color = red>soften</font> for them to compete with Amazon.  However <font color = red>until</font> all the small shop <font color = red>bookstore</font> are gone, it's <font color = red>loin</font> to <font color = red>shook</font> into one every once in a while."
            ],
            "text/plain": [
              "<IPython.core.display.HTML object>"
            ]
          },
          "metadata": {
            "tags": []
          }
        },
        {
          "output_type": "stream",
          "text": [
            "[Succeeded / Failed / Total] 8 / 2 / 10: 100%|██████████| 10/10 [00:51<00:00,  5.16s/it]"
          ],
          "name": "stderr"
        },
        {
          "output_type": "stream",
          "text": [
            "+-------------------------------+--------+\n",
            "| Attack Results                |        |\n",
            "+-------------------------------+--------+\n",
            "| Number of successful attacks: | 8      |\n",
            "| Number of failed attacks:     | 2      |\n",
            "| Number of skipped attacks:    | 0      |\n",
            "| Original accuracy:            | 100.0% |\n",
            "| Accuracy under attack:        | 20.0%  |\n",
            "| Attack success rate:          | 80.0%  |\n",
            "| Average perturbed word %:     | 9.37%  |\n",
            "| Average num. words per input: | 121.2  |\n",
            "| Avg num queries:              | 219.9  |\n",
            "+-------------------------------+--------+"
          ],
          "name": "stdout"
        },
        {
          "output_type": "stream",
          "text": [
            "\n",
            "\u001b[34;1mtextattack\u001b[0m: Attack time: 51.62285280227661s\n",
            "  0%|          | 0/15 [00:00<?, ?it/s]"
          ],
          "name": "stderr"
        },
        {
          "output_type": "stream",
          "text": [
            "Examples for n= 15\n",
            "Attack(\n",
            "  (search_method): GreedyWordSwapWIR(\n",
            "    (wir_method):  weighted-saliency\n",
            "  )\n",
            "  (goal_function):  UntargetedClassification\n",
            "  (transformation):  Swapper\n",
            "  (constraints): \n",
            "    (0): MaxWordsPerturbed(\n",
            "        (max_percent):  0.3\n",
            "        (compare_against_original):  True\n",
            "      )\n",
            "    (1): RepeatModification\n",
            "    (2): StopwordModification\n",
            "  (is_black_box):  True\n",
            ")\n"
          ],
          "name": "stdout"
        },
        {
          "output_type": "display_data",
          "data": {
            "text/html": [
              "<font color = green>2 (100%)</font> --> <font color = red>1 (92%)</font><br>Contrary to other reviews, I have <font color = green>zero</font> complaints about the service or the prices. I have been getting tire <font color = green>service</font> here for the past 5 years now, and compared to my experience with places like Pep Boys, these guys are experienced and <font color = green>know</font> what they're doing. \\nAlso, this is one place that I do not feel like I am being taken advantage of, just because of my gender. Other <font color = green>auto</font> mechanics have been notorious for capitalizing on my ignorance of cars, and have sucked my <font color = green>bank</font> account dry. <font color = green>But</font> here, my service and road coverage has all been well <font color = green>explained</font> - and let up to me to decide. \\<font color = green>nAnd</font> they just renovated the <font color = green>waiting</font> room. It looks a lot <font color = green>better</font> than it did in <font color = green>previous</font> years.<br>Contrary to other reviews, I have <font color = red>five</font> complaints about the service or the prices. I have been getting tire <font color = red>serviciul</font> here for the past 5 years now, and compared to my experience with places like Pep Boys, these guys are experienced and <font color = red>think</font> what they're doing. \\nAlso, this is one place that I do not feel like I am being taken advantage of, just because of my gender. Other <font color = red>theft</font> mechanics have been notorious for capitalizing on my ignorance of cars, and have sucked my <font color = red>monetary</font> account dry. <font color = red>Zut</font> here, my service and road coverage has all been well <font color = red>falsified</font> - and let up to me to decide. \\<font color = red>tell</font> they just renovated the <font color = red>baiting</font> room. It looks a lot <font color = red>getter</font> than it did in <font color = red>earlier</font> years."
            ],
            "text/plain": [
              "<IPython.core.display.HTML object>"
            ]
          },
          "metadata": {
            "tags": []
          }
        },
        {
          "output_type": "stream",
          "text": [
            "[Succeeded / Failed / Total] 1 / 0 / 1:   7%|▋         | 1/15 [00:04<01:03,  4.55s/it]"
          ],
          "name": "stderr"
        },
        {
          "output_type": "display_data",
          "data": {
            "text/html": [
              "<font color = red>1 (100%)</font> --> <font color = green>2 (63%)</font><br>Last summer I had an appointment to <font color = red>get</font> new <font color = red>tires</font> and had to wait a <font color = red>super</font> long <font color = red>time</font>. I <font color = red>also</font> went in this week for them to <font color = red>fix</font> a <font color = red>minor</font> problem with a tire they put on. They \\\"\"fixed\\\"\" it for free, and the very next morning I had the same issue. I called to complain, and the \\\"\"<font color = red>manager</font>\\\"\" didn't <font color = red>even</font> <font color = red>apologize</font>!!! So frustrated. Never <font color = red>going</font> <font color = red>back</font>.  They <font color = red>seem</font> <font color = red>overpriced</font>, too.<br>Last summer I had an appointment to <font color = green>give</font> new <font color = green>tire</font> and had to wait a <font color = green>superbike</font> long <font color = green>period</font>. I <font color = green>sometimes</font> went in this week for them to <font color = green>restart</font> a <font color = green>major</font> problem with a tire they put on. They \\\"\"fixed\\\"\" it for free, and the very next morning I had the same issue. I called to complain, and the \\\"\"<font color = green>coach</font>\\\"\" didn't <font color = green>indeed</font> <font color = green>apologise</font>!!! So frustrated. Never <font color = green>getting</font> <font color = green>down</font>.  They <font color = green>tend</font> <font color = green>priced</font>, too."
            ],
            "text/plain": [
              "<IPython.core.display.HTML object>"
            ]
          },
          "metadata": {
            "tags": []
          }
        },
        {
          "output_type": "stream",
          "text": [
            "[Succeeded / Failed / Total] 2 / 0 / 2:  13%|█▎        | 2/15 [00:07<00:49,  3.83s/it]"
          ],
          "name": "stderr"
        },
        {
          "output_type": "display_data",
          "data": {
            "text/html": [
              "<font color = green>2 (73%)</font> --> <font color = red>1 (52%)</font><br>Friendly staff, same starbucks fair you <font color = green>get</font> anywhere else.  Sometimes the lines can get long.<br>Friendly staff, same starbucks fair you <font color = red>give</font> anywhere else.  Sometimes the lines can get long."
            ],
            "text/plain": [
              "<IPython.core.display.HTML object>"
            ]
          },
          "metadata": {
            "tags": []
          }
        },
        {
          "output_type": "stream",
          "text": [
            "[Succeeded / Failed / Total] 3 / 0 / 3:  20%|██        | 3/15 [00:08<00:33,  2.75s/it]"
          ],
          "name": "stderr"
        },
        {
          "output_type": "display_data",
          "data": {
            "text/html": [
              "<font color = red>1 (98%)</font> --> <font color = green>2 (51%)</font><br><font color = red>The</font> food is good. <font color = red>Unfortunately</font> the service is very hit or miss. The main issue seems to be with the kitchen, the waiters and waitresses are often very apologetic for the long waits and it's pretty obvious that some of them avoid the tables after taking the initial order to avoid hearing complaints.<br><font color = green>Gauche</font> food is good. <font color = green>Fortunately</font> the service is very hit or miss. The main issue seems to be with the kitchen, the waiters and waitresses are often very apologetic for the long waits and it's pretty obvious that some of them avoid the tables after taking the initial order to avoid hearing complaints."
            ],
            "text/plain": [
              "<IPython.core.display.HTML object>"
            ]
          },
          "metadata": {
            "tags": []
          }
        },
        {
          "output_type": "stream",
          "text": [
            "[Succeeded / Failed / Total] 4 / 0 / 4:  27%|██▋       | 4/15 [00:10<00:27,  2.51s/it]"
          ],
          "name": "stderr"
        },
        {
          "output_type": "display_data",
          "data": {
            "text/html": [
              "<font color = green>2 (100%)</font> --> <font color = red>[FAILED]</font><br>Even when we didn't have a car Filene's Basement was worth the bus trip to the Waterfront. I always find something (usually I find 3-4 things and spend about $60) and better still, I am always still wearing the clothes and shoes 3 months later. \\n\\nI kind of suspect this is the best shopping in Pittsburgh; it's much better than the usual department stores, better than Marshall's and TJ Maxx and better than the Saks downtown, even when it has a sale. Selection, bargains AND quality.\\n\\nI like this Filene's better than Gabriel Brothers, which are harder to get to. Gabriel Brothers are a real discount shopper's challenge and I'm afraid I didn't live in Pittsburgh long enough to develop the necessary skills . . . Filene's was still up and running in June 2007 when I left town."
            ],
            "text/plain": [
              "<IPython.core.display.HTML object>"
            ]
          },
          "metadata": {
            "tags": []
          }
        },
        {
          "output_type": "stream",
          "text": [
            "[Succeeded / Failed / Total] 4 / 1 / 5:  33%|███▎      | 5/15 [00:17<00:35,  3.55s/it]"
          ],
          "name": "stderr"
        },
        {
          "output_type": "display_data",
          "data": {
            "text/html": [
              "<font color = green>2 (100%)</font> --> <font color = red>1 (51%)</font><br>Picture Billy Joel's \\\"\"Piano Man\\\"\" DOUBLED mixed with beer, a <font color = green>rowdy</font> crowd, and <font color = green>comedy</font> - Welcome to Sing Sing!  A <font color = green>unique</font> musical experience <font color = green>found</font> in Homestead.\\<font color = green>n</font>\\nIf you're looking to grab a bite to eat or a beer, come on in!  Serving food and brews from Rock Bottom Brewery, Sing Sing keeps your tummy full while you listen to two (or more) amazingly <font color = green>talented</font> <font color = green>pianists</font> <font color = green>take</font> your musical requests.  They'll play <font color = green>anything</font> you'd like, for tips of course.  Wanting to hear Britney Spears?  Toto?  Duran Duran?  Yep, they play that... new or old.\\n\\<font color = green>nThe</font> crowd makes the show, so make <font color = green>sure</font> you come ready for a <font color = green>good</font> time.  <font color = green>If</font> the crowd is dead, it's harder for the Guys to get a reaction.  If you're wanting to have some fun, it can be a GREAT time!  <font color = green>It's</font> the perfect place for Birthday parties - especially if you want to embarrass a friend.  The guys will bring them up to the <font color = green>pianos</font> and perform a little ditty.  For being a good sport, you get the coveted Sing Sing bumper sticker.  Now who wouldn't want that?\\n\\nDueling Pianos and brews... time to Shut Up & Sing Sing!<br>Picture Billy Joel's \\\"\"Piano Man\\\"\" DOUBLED mixed with beer, a <font color = red>howdy</font> crowd, and <font color = red>comedies</font> - Welcome to Sing Sing!  A <font color = red>distinctive</font> musical experience <font color = red>corroborated</font> in Homestead.\\<font color = red>y</font>\\nIf you're looking to grab a bite to eat or a beer, come on in!  Serving food and brews from Rock Bottom Brewery, Sing Sing keeps your tummy full while you listen to two (or more) amazingly <font color = red>talent</font> <font color = red>lutenists</font> <font color = red>give</font> your musical requests.  They'll play <font color = red>nothing</font> you'd like, for tips of course.  Wanting to hear Britney Spears?  Toto?  Duran Duran?  Yep, they play that... new or old.\\n\\<font color = red>bouche</font> crowd makes the show, so make <font color = red>forget</font> you come ready for a <font color = red>bad</font> time.  <font color = red>Sun</font> the crowd is dead, it's harder for the Guys to get a reaction.  If you're wanting to have some fun, it can be a GREAT time!  <font color = red>Aeneas</font> the perfect place for Birthday parties - especially if you want to embarrass a friend.  The guys will bring them up to the <font color = red>piano</font> and perform a little ditty.  For being a good sport, you get the coveted Sing Sing bumper sticker.  Now who wouldn't want that?\\n\\nDueling Pianos and brews... time to Shut Up & Sing Sing!"
            ],
            "text/plain": [
              "<IPython.core.display.HTML object>"
            ]
          },
          "metadata": {
            "tags": []
          }
        },
        {
          "output_type": "stream",
          "text": [
            "[Succeeded / Failed / Total] 5 / 1 / 6:  40%|████      | 6/15 [00:26<00:40,  4.50s/it]"
          ],
          "name": "stderr"
        },
        {
          "output_type": "display_data",
          "data": {
            "text/html": [
              "<font color = red>1 (100%)</font> --> <font color = red>[FAILED]</font><br>Mediocre service. COLD food! Our food waited so long the lettuce & pickles wilted. Bland food. Crazy overpriced. Long waits in the arcade. 1 beer per hour maximum.  Avoid at all costs. Fair manager."
            ],
            "text/plain": [
              "<IPython.core.display.HTML object>"
            ]
          },
          "metadata": {
            "tags": []
          }
        },
        {
          "output_type": "stream",
          "text": [
            "[Succeeded / Failed / Total] 5 / 2 / 7:  47%|████▋     | 7/15 [00:29<00:33,  4.15s/it]"
          ],
          "name": "stderr"
        },
        {
          "output_type": "display_data",
          "data": {
            "text/html": [
              "<font color = red>1 (100%)</font> --> <font color = green>2 (55%)</font><br>Ok! Let me tell you about my bad <font color = red>experience</font> first. I went to D&B last night for a post wedding party - which, side note, is a great idea!\\n\\nIt was around midnight and the bar wasn't really populated. There were three bartenders and only one was actually making rounds to see if anyone needed anything. The two other bartenders were chatting on the far side of the bar that no one was sitting at. Kind of counter productive if you ask me. \\n\\nI stood there for about 5 minutes, which for a busy bar is fine but when I am the only one with my card out then, it just seems a little ridiculous. I made eye contact with the one girl twice and gave her a smile and she literally turned away. I finally had to walk to them to get their attention.  I was standing right in front of them smiling and they didn't ask if i need anything. I finally said, \\\"\"Are you working?\\\"\" and they gave each other a <font color = red>weird</font> look. I felt like i was the crazy one. I asked for a beer/got the beer.\\n\\nIn between that time, the other bartender brought food over and set it down. She took a fry from the plate (right in front of me) and then served it to someone on the other side of the bar. What the hell! I felt like i was in some grimy bar in out in the sticks - not an established D&B. \\n\\nI was just really turned off from that experience. \\n\\nThe good is that D&B provides a different type of entertainment when you want to mix things up. I remember going here with my grandparents when I was a kid and it was the best treat ever! We would eat at the restaurant and then spend hours playing games. This place holds some really good memories for me. \\n\\nIt's a shame that my experience last night has spoiled the high standards I held for it.<br>Ok! Let me tell you about my bad <font color = green>experiencing</font> first. I went to D&B last night for a post wedding party - which, side note, is a great idea!\\n\\nIt was around midnight and the bar wasn't really populated. There were three bartenders and only one was actually making rounds to see if anyone needed anything. The two other bartenders were chatting on the far side of the bar that no one was sitting at. Kind of counter productive if you ask me. \\n\\nI stood there for about 5 minutes, which for a busy bar is fine but when I am the only one with my card out then, it just seems a little ridiculous. I made eye contact with the one girl twice and gave her a smile and she literally turned away. I finally had to walk to them to get their attention.  I was standing right in front of them smiling and they didn't ask if i need anything. I finally said, \\\"\"Are you working?\\\"\" and they gave each other a <font color = green>weir</font> look. I felt like i was the crazy one. I asked for a beer/got the beer.\\n\\nIn between that time, the other bartender brought food over and set it down. She took a fry from the plate (right in front of me) and then served it to someone on the other side of the bar. What the hell! I felt like i was in some grimy bar in out in the sticks - not an established D&B. \\n\\nI was just really turned off from that experience. \\n\\nThe good is that D&B provides a different type of entertainment when you want to mix things up. I remember going here with my grandparents when I was a kid and it was the best treat ever! We would eat at the restaurant and then spend hours playing games. This place holds some really good memories for me. \\n\\nIt's a shame that my experience last night has spoiled the high standards I held for it."
            ],
            "text/plain": [
              "<IPython.core.display.HTML object>"
            ]
          },
          "metadata": {
            "tags": []
          }
        },
        {
          "output_type": "stream",
          "text": [
            "[Succeeded / Failed / Total] 6 / 2 / 8:  53%|█████▎    | 8/15 [00:42<00:37,  5.30s/it]"
          ],
          "name": "stderr"
        },
        {
          "output_type": "display_data",
          "data": {
            "text/html": [
              "<font color = red>1 (100%)</font> --> <font color = green>2 (52%)</font><br><font color = red>I</font> used to love D&<font color = red>B</font> when it <font color = red>first</font> opened in the Waterfront, but it has gone down <font color = red>hill</font> over the years. The <font color = red>games</font> are not as fun and do not <font color = red>give</font> you as many <font color = red>tickets</font> and the prizes have gotten cheaper in quality. It takes a whole heck of a lot of tickets for you to <font color = red>even</font> get a <font color = red>pencil</font>! The <font color = red>atmosphere</font> is <font color = red>okay</font> but it used to be so much better with the funnest games and diverse groups of people! Now, it is <font color = red>run</font> down and many of the games are app related <font color = red>games</font> (Fruit Ninja) and 3D <font color = red>Experience</font> rides. With such \\\"\"games\\\"\", you can't even <font color = red>earn</font> tickets and they take a lot of tokens! Last time I went, back in the winter, many of the games were broken, which made for a <font color = red>negative</font> player experience. I would go to D&B to play some games again in the future, but it is no <font color = red>longer</font> <font color = red>one</font> of my favorite places to go due to the decline of fun games where you can earn tickets.<br><font color = green>ENCHANTER</font> used to love D&<font color = green>HAIR</font> when it <font color = green>last</font> opened in the Waterfront, but it has gone down <font color = green>clifton</font> over the years. The <font color = green>game</font> are not as fun and do not <font color = green>make</font> you as many <font color = green>ticket</font> and the prizes have gotten cheaper in quality. It takes a whole heck of a lot of tickets for you to <font color = green>indeed</font> get a <font color = green>stencil</font>! The <font color = green>atmospheric</font> is <font color = green>anymore</font> but it used to be so much better with the funnest games and diverse groups of people! Now, it is <font color = green>driveway</font> down and many of the games are app related <font color = green>game</font> (Fruit Ninja) and 3D <font color = green>Experiencing</font> rides. With such \\\"\"games\\\"\", you can't even <font color = green>paying</font> tickets and they take a lot of tokens! Last time I went, back in the winter, many of the games were broken, which made for a <font color = green>positive</font> player experience. I would go to D&B to play some games again in the future, but it is no <font color = green>longew</font> <font color = green>nine</font> of my favorite places to go due to the decline of fun games where you can earn tickets."
            ],
            "text/plain": [
              "<IPython.core.display.HTML object>"
            ]
          },
          "metadata": {
            "tags": []
          }
        },
        {
          "output_type": "stream",
          "text": [
            "[Succeeded / Failed / Total] 7 / 2 / 9:  60%|██████    | 9/15 [00:49<00:33,  5.54s/it]"
          ],
          "name": "stderr"
        },
        {
          "output_type": "display_data",
          "data": {
            "text/html": [
              "<font color = green>2 (100%)</font> --> <font color = red>1 (86%)</font><br><font color = green>Like</font> any Barnes & Noble, it has a nice comfy cafe, and a <font color = green>large</font> selection of books.  The staff is very <font color = green>friendly</font> and <font color = green>helpful</font>.  They <font color = green>stock</font> a decent selection, and the prices are pretty <font color = green>reasonable</font>.  Obviously it's <font color = green>hard</font> for them to compete with Amazon.  However <font color = green>since</font> all the small shop <font color = green>bookstores</font> are gone, it's <font color = green>nice</font> to <font color = green>walk</font> into one every once in a while.<br><font color = red>Ike</font> any Barnes & Noble, it has a nice comfy cafe, and a <font color = red>small</font> selection of books.  The staff is very <font color = red>friendliness</font> and <font color = red>useful</font>.  They <font color = red>market</font> a decent selection, and the prices are pretty <font color = red>reasonably</font>.  Obviously it's <font color = red>soften</font> for them to compete with Amazon.  However <font color = red>until</font> all the small shop <font color = red>bookstore</font> are gone, it's <font color = red>loin</font> to <font color = red>shook</font> into one every once in a while."
            ],
            "text/plain": [
              "<IPython.core.display.HTML object>"
            ]
          },
          "metadata": {
            "tags": []
          }
        },
        {
          "output_type": "stream",
          "text": [
            "[Succeeded / Failed / Total] 8 / 2 / 10:  67%|██████▋   | 10/15 [00:52<00:26,  5.26s/it]"
          ],
          "name": "stderr"
        },
        {
          "output_type": "display_data",
          "data": {
            "text/html": [
              "<font color = red>1 (100%)</font> --> <font color = red>[FAILED]</font><br>Meh, I've experienced better is an understatement.\\n\\nFriday's is like the \\\"\"fine dining chain\\\"\" for every yinzer in Pittsburgh...\\n\\n1.  When we were seated, it was quick which was a surprise.  Somehow this restaurant gets packed and I never understand why.  I was happy about that.\\n2.  I ordered one of their \\\"\"skinny margaritas\\\"\", blackberry to be exact.  It was a nice size, however, at $6.00/pop, that was half of my food bill.\\n3.  The waitress started off attentive, but after our food came out she was gone.  I ordered a turkey burger with pickle and mustard.  Loaded mashed potato on the side because I wanted heartburn ha!\\n4.  Food came.  My burger had lettuce on it only.  Waitress was supposed to go and get our next round of drinks.  I had to wait to ask for my pickle.\\n5.  The loaded potatoes were more like rubber than potatoes and not what I was expecting.  Disappointment.\\n6.  The waitress then went into oblivion and only returned with our check.  \\n\\nNever again will I eat at Friday's.  I will, however, go should a happy hour arise..."
            ],
            "text/plain": [
              "<IPython.core.display.HTML object>"
            ]
          },
          "metadata": {
            "tags": []
          }
        },
        {
          "output_type": "stream",
          "text": [
            "[Succeeded / Failed / Total] 8 / 3 / 11:  73%|███████▎  | 11/15 [01:03<00:23,  5.76s/it]"
          ],
          "name": "stderr"
        },
        {
          "output_type": "display_data",
          "data": {
            "text/html": [
              "<font color = green>2 (100%)</font> --> <font color = red>1 (93%)</font><br>Unos has been around for ever, & I feel like this restaurant chain peak in popularity in the 80's. Honestly the decor inside still kind of looks 80s to me even though its nice with sleek booth and exposed brick.\\n\\nIf you haven't died and he recently I ordered you to come back and have a meal here again because honestly the food is really quite <font color = green>good</font>!\\n\\nThey have the best chicken salad wrap ever! I love that rap so much I want agreed to walk the south side River Trail from where the Steelers practice all the way to the damn waterfront just because I knew that I could convince my boyfriend to go to Unos with me for lunch.  Full disclosure:  I made him call is a cab and we took a taxi back to the parking lot after lunch.\\n\\nListen... The food and pizza and service are very <font color = green>good</font>, surprisingly so! I don't know why this place is not busier but next time you're down at the Waterfront please do consider dining here!<br>Unos has been around for ever, & I feel like this restaurant chain peak in popularity in the 80's. Honestly the decor inside still kind of looks 80s to me even though its nice with sleek booth and exposed brick.\\n\\nIf you haven't died and he recently I ordered you to come back and have a meal here again because honestly the food is really quite <font color = red>bad</font>!\\n\\nThey have the best chicken salad wrap ever! I love that rap so much I want agreed to walk the south side River Trail from where the Steelers practice all the way to the damn waterfront just because I knew that I could convince my boyfriend to go to Unos with me for lunch.  Full disclosure:  I made him call is a cab and we took a taxi back to the parking lot after lunch.\\n\\nListen... The food and pizza and service are very <font color = red>bad</font>, surprisingly so! I don't know why this place is not busier but next time you're down at the Waterfront please do consider dining here!"
            ],
            "text/plain": [
              "<IPython.core.display.HTML object>"
            ]
          },
          "metadata": {
            "tags": []
          }
        },
        {
          "output_type": "stream",
          "text": [
            "[Succeeded / Failed / Total] 9 / 3 / 12:  80%|████████  | 12/15 [01:09<00:17,  5.83s/it]"
          ],
          "name": "stderr"
        },
        {
          "output_type": "display_data",
          "data": {
            "text/html": [
              "<font color = red>1 (100%)</font> --> <font color = green>2 (52%)</font><br>Stars are for the food only.    <font color = red>2</font>.5 rating\\n\\nGot there at 8pm on Saturday night, they told us it was an hour wait which was expected, but it only took <font color = red>30minutes</font> to be seated so that was a bonus.  Started off with the lettuce wraps and i used to be a fan of these but they just seem to <font color = red>bore</font> me now(FYI-love the lettuce wraps at the cheesecake factory).  I had the Singapore rice noodles.  This was so so as i thought immediately that lu lu <font color = red>noodles</font> and <font color = red>asian</font> cafe are better.  The <font color = red>fried</font> rice was <font color = red>disappointing</font> and the <font color = red>vegetables</font> tasted raw.   Some <font color = red>good</font> notes were the Dynamite <font color = red>shrimp</font>, plump, juicy, tangy with a <font color = red>small</font> kick.    Sweet and sour chicken was just the same minus the kick. \\<font color = red>n</font>\\nThe service was annoying.   <font color = red>We</font> were there less than 45 minutes and it seemed like our waiter was in a rush to get us out of there.   Constantly asking if he could remove my plate.  I had to <font color = red>sternly</font> say at one point that I will let you <font color = red>know</font> when i am finished.  I found it <font color = red>rude</font> especially since  there wasn't even a line at this point.  \\n\\nI think we will travel elsewhere following a movie.  The result never quite met the anticipation.<br>Stars are for the food only.    <font color = green>campaign</font>.5 rating\\n\\nGot there at 8pm on Saturday night, they told us it was an hour wait which was expected, but it only took <font color = green>minutes</font> to be seated so that was a bonus.  Started off with the lettuce wraps and i used to be a fan of these but they just seem to <font color = green>bearing</font> me now(FYI-love the lettuce wraps at the cheesecake factory).  I had the Singapore rice noodles.  This was so so as i thought immediately that lu lu <font color = green>noodle</font> and <font color = green>african</font> cafe are better.  The <font color = green>fries</font> rice was <font color = green>disappointed</font> and the <font color = green>vegetable</font> tasted raw.   Some <font color = green>bad</font> notes were the Dynamite <font color = green>seafood</font>, plump, juicy, tangy with a <font color = green>large</font> kick.    Sweet and sour chicken was just the same minus the kick. \\<font color = green>y</font>\\nThe service was annoying.   <font color = green>User</font> were there less than 45 minutes and it seemed like our waiter was in a rush to get us out of there.   Constantly asking if he could remove my plate.  I had to <font color = green>stubbornly</font> say at one point that I will let you <font color = green>think</font> when i am finished.  I found it <font color = green>dude</font> especially since  there wasn't even a line at this point.  \\n\\nI think we will travel elsewhere following a movie.  The result never quite met the anticipation."
            ],
            "text/plain": [
              "<IPython.core.display.HTML object>"
            ]
          },
          "metadata": {
            "tags": []
          }
        },
        {
          "output_type": "stream",
          "text": [
            "[Succeeded / Failed / Total] 10 / 3 / 13:  87%|████████▋ | 13/15 [01:19<00:12,  6.11s/it]"
          ],
          "name": "stderr"
        },
        {
          "output_type": "display_data",
          "data": {
            "text/html": [
              "<font color = red>1 (100%)</font> --> <font color = green>2 (52%)</font><br><font color = red>Our</font> <font color = red>last</font> few visits have <font color = red>left</font> something to desire, One of the things <font color = red>I</font> <font color = red>always</font> notice is the demeanor of an establishments <font color = red>employees</font>. <font color = red>These</font> people <font color = red>look</font> miserable, no one <font color = red>smiles</font> or greets you appropriately, it's more like get in, get out, turn the tables,\\n\\nThe food has remained consistently good... when we can <font color = red>order</font> it. the <font color = red>last</font> time JB and I came for a quick dinner, the <font color = red>place</font> was not <font color = red>busy</font> <font color = red>yet</font> we were <font color = red>passed</font> by 6 frowning waitstaff without getting <font color = red>drinks</font>... for 15 <font color = red>minutes</font> we were <font color = red>left</font> suiting at our table with our <font color = red>menus</font> closed and sitting on the edge of the table (HINT, <font color = red>HINT</font>) so we <font color = red>left</font> and most likely will not be <font color = red>returning</font>.<br><font color = green>Zur</font> <font color = green>next</font> few visits have <font color = green>right</font> something to desire, One of the things <font color = green>ENCHANTER</font> <font color = green>actually</font> notice is the demeanor of an establishments <font color = green>employee</font>. <font color = green>Yapese</font> people <font color = green>beginner</font> miserable, no one <font color = green>smile</font> or greets you appropriately, it's more like get in, get out, turn the tables,\\n\\nThe food has remained consistently good... when we can <font color = green>addition</font> it. the <font color = green>next</font> time JB and I came for a quick dinner, the <font color = green>placard</font> was not <font color = green>roadside</font> <font color = green>obviously</font> we were <font color = green>enacted</font> by 6 frowning waitstaff without getting <font color = green>drink</font>... for 15 <font color = green>minute</font> we were <font color = green>right</font> suiting at our table with our <font color = green>fpus</font> closed and sitting on the edge of the table (HINT, <font color = green>SPOROZOITES</font>) so we <font color = green>right</font> and most likely will not be <font color = green>returned</font>."
            ],
            "text/plain": [
              "<IPython.core.display.HTML object>"
            ]
          },
          "metadata": {
            "tags": []
          }
        },
        {
          "output_type": "stream",
          "text": [
            "[Succeeded / Failed / Total] 11 / 3 / 14:  93%|█████████▎| 14/15 [01:24<00:06,  6.05s/it]"
          ],
          "name": "stderr"
        },
        {
          "output_type": "display_data",
          "data": {
            "text/html": [
              "<font color = green>2 (100%)</font> --> <font color = red>[FAILED]</font><br>Good quality pork fried dumpling and mongo beef.  Bar service was fast and Efficent.   Good value.  Not a 5 cause dragon eye tea was cold first time around and beef had minor amount of fat.   Fortune was even Postive!"
            ],
            "text/plain": [
              "<IPython.core.display.HTML object>"
            ]
          },
          "metadata": {
            "tags": []
          }
        },
        {
          "output_type": "stream",
          "text": [
            "[Succeeded / Failed / Total] 11 / 4 / 15: 100%|██████████| 15/15 [01:26<00:00,  5.79s/it]"
          ],
          "name": "stderr"
        },
        {
          "output_type": "stream",
          "text": [
            "+-------------------------------+--------+\n",
            "| Attack Results                |        |\n",
            "+-------------------------------+--------+\n",
            "| Number of successful attacks: | 11     |\n",
            "| Number of failed attacks:     | 4      |\n",
            "| Number of skipped attacks:    | 0      |\n",
            "| Original accuracy:            | 100.0% |\n",
            "| Accuracy under attack:        | 26.67% |\n",
            "| Attack success rate:          | 73.33% |\n",
            "| Average perturbed word %:     | 9.3%   |\n",
            "| Average num. words per input: | 130.07 |\n",
            "| Avg num queries:              | 239.4  |\n",
            "+-------------------------------+--------+"
          ],
          "name": "stdout"
        },
        {
          "output_type": "stream",
          "text": [
            "\n",
            "\u001b[34;1mtextattack\u001b[0m: Attack time: 86.89712357521057s\n",
            "  0%|          | 0/20 [00:00<?, ?it/s]"
          ],
          "name": "stderr"
        },
        {
          "output_type": "stream",
          "text": [
            "Examples for n= 20\n",
            "Attack(\n",
            "  (search_method): GreedyWordSwapWIR(\n",
            "    (wir_method):  weighted-saliency\n",
            "  )\n",
            "  (goal_function):  UntargetedClassification\n",
            "  (transformation):  Swapper\n",
            "  (constraints): \n",
            "    (0): MaxWordsPerturbed(\n",
            "        (max_percent):  0.3\n",
            "        (compare_against_original):  True\n",
            "      )\n",
            "    (1): RepeatModification\n",
            "    (2): StopwordModification\n",
            "  (is_black_box):  True\n",
            ")\n"
          ],
          "name": "stdout"
        },
        {
          "output_type": "display_data",
          "data": {
            "text/html": [
              "<font color = green>2 (100%)</font> --> <font color = red>1 (92%)</font><br>Contrary to other reviews, I have <font color = green>zero</font> complaints about the service or the prices. I have been getting tire <font color = green>service</font> here for the past 5 years now, and compared to my experience with places like Pep Boys, these guys are experienced and <font color = green>know</font> what they're doing. \\nAlso, this is one place that I do not feel like I am being taken advantage of, just because of my gender. Other <font color = green>auto</font> mechanics have been notorious for capitalizing on my ignorance of cars, and have sucked my <font color = green>bank</font> account dry. <font color = green>But</font> here, my service and road coverage has all been well <font color = green>explained</font> - and let up to me to decide. \\<font color = green>nAnd</font> they just renovated the <font color = green>waiting</font> room. It looks a lot <font color = green>better</font> than it did in <font color = green>previous</font> years.<br>Contrary to other reviews, I have <font color = red>five</font> complaints about the service or the prices. I have been getting tire <font color = red>serviciul</font> here for the past 5 years now, and compared to my experience with places like Pep Boys, these guys are experienced and <font color = red>think</font> what they're doing. \\nAlso, this is one place that I do not feel like I am being taken advantage of, just because of my gender. Other <font color = red>theft</font> mechanics have been notorious for capitalizing on my ignorance of cars, and have sucked my <font color = red>monetary</font> account dry. <font color = red>Zut</font> here, my service and road coverage has all been well <font color = red>falsified</font> - and let up to me to decide. \\<font color = red>tell</font> they just renovated the <font color = red>baiting</font> room. It looks a lot <font color = red>getter</font> than it did in <font color = red>earlier</font> years."
            ],
            "text/plain": [
              "<IPython.core.display.HTML object>"
            ]
          },
          "metadata": {
            "tags": []
          }
        },
        {
          "output_type": "stream",
          "text": [
            "[Succeeded / Failed / Total] 1 / 0 / 1:   5%|▌         | 1/20 [00:04<01:28,  4.68s/it]"
          ],
          "name": "stderr"
        },
        {
          "output_type": "display_data",
          "data": {
            "text/html": [
              "<font color = red>1 (100%)</font> --> <font color = green>2 (63%)</font><br>Last summer I had an appointment to <font color = red>get</font> new <font color = red>tires</font> and had to wait a <font color = red>super</font> long <font color = red>time</font>. I <font color = red>also</font> went in this week for them to <font color = red>fix</font> a <font color = red>minor</font> problem with a tire they put on. They \\\"\"fixed\\\"\" it for free, and the very next morning I had the same issue. I called to complain, and the \\\"\"<font color = red>manager</font>\\\"\" didn't <font color = red>even</font> <font color = red>apologize</font>!!! So frustrated. Never <font color = red>going</font> <font color = red>back</font>.  They <font color = red>seem</font> <font color = red>overpriced</font>, too.<br>Last summer I had an appointment to <font color = green>give</font> new <font color = green>tire</font> and had to wait a <font color = green>superbike</font> long <font color = green>period</font>. I <font color = green>sometimes</font> went in this week for them to <font color = green>restart</font> a <font color = green>major</font> problem with a tire they put on. They \\\"\"fixed\\\"\" it for free, and the very next morning I had the same issue. I called to complain, and the \\\"\"<font color = green>coach</font>\\\"\" didn't <font color = green>indeed</font> <font color = green>apologise</font>!!! So frustrated. Never <font color = green>getting</font> <font color = green>down</font>.  They <font color = green>tend</font> <font color = green>priced</font>, too."
            ],
            "text/plain": [
              "<IPython.core.display.HTML object>"
            ]
          },
          "metadata": {
            "tags": []
          }
        },
        {
          "output_type": "stream",
          "text": [
            "[Succeeded / Failed / Total] 2 / 0 / 2:  10%|█         | 2/20 [00:07<01:11,  3.95s/it]"
          ],
          "name": "stderr"
        },
        {
          "output_type": "display_data",
          "data": {
            "text/html": [
              "<font color = green>2 (73%)</font> --> <font color = red>1 (52%)</font><br>Friendly staff, same starbucks fair you <font color = green>get</font> anywhere else.  Sometimes the lines can get long.<br>Friendly staff, same starbucks fair you <font color = red>give</font> anywhere else.  Sometimes the lines can get long."
            ],
            "text/plain": [
              "<IPython.core.display.HTML object>"
            ]
          },
          "metadata": {
            "tags": []
          }
        },
        {
          "output_type": "stream",
          "text": [
            "[Succeeded / Failed / Total] 3 / 0 / 3:  15%|█▌        | 3/20 [00:08<00:48,  2.85s/it]"
          ],
          "name": "stderr"
        },
        {
          "output_type": "display_data",
          "data": {
            "text/html": [
              "<font color = red>1 (98%)</font> --> <font color = green>2 (51%)</font><br><font color = red>The</font> food is good. <font color = red>Unfortunately</font> the service is very hit or miss. The main issue seems to be with the kitchen, the waiters and waitresses are often very apologetic for the long waits and it's pretty obvious that some of them avoid the tables after taking the initial order to avoid hearing complaints.<br><font color = green>Gauche</font> food is good. <font color = green>Fortunately</font> the service is very hit or miss. The main issue seems to be with the kitchen, the waiters and waitresses are often very apologetic for the long waits and it's pretty obvious that some of them avoid the tables after taking the initial order to avoid hearing complaints."
            ],
            "text/plain": [
              "<IPython.core.display.HTML object>"
            ]
          },
          "metadata": {
            "tags": []
          }
        },
        {
          "output_type": "stream",
          "text": [
            "[Succeeded / Failed / Total] 4 / 0 / 4:  20%|██        | 4/20 [00:10<00:41,  2.61s/it]"
          ],
          "name": "stderr"
        },
        {
          "output_type": "display_data",
          "data": {
            "text/html": [
              "<font color = green>2 (100%)</font> --> <font color = red>[FAILED]</font><br>Even when we didn't have a car Filene's Basement was worth the bus trip to the Waterfront. I always find something (usually I find 3-4 things and spend about $60) and better still, I am always still wearing the clothes and shoes 3 months later. \\n\\nI kind of suspect this is the best shopping in Pittsburgh; it's much better than the usual department stores, better than Marshall's and TJ Maxx and better than the Saks downtown, even when it has a sale. Selection, bargains AND quality.\\n\\nI like this Filene's better than Gabriel Brothers, which are harder to get to. Gabriel Brothers are a real discount shopper's challenge and I'm afraid I didn't live in Pittsburgh long enough to develop the necessary skills . . . Filene's was still up and running in June 2007 when I left town."
            ],
            "text/plain": [
              "<IPython.core.display.HTML object>"
            ]
          },
          "metadata": {
            "tags": []
          }
        },
        {
          "output_type": "stream",
          "text": [
            "[Succeeded / Failed / Total] 4 / 1 / 5:  25%|██▌       | 5/20 [00:18<00:55,  3.67s/it]"
          ],
          "name": "stderr"
        },
        {
          "output_type": "display_data",
          "data": {
            "text/html": [
              "<font color = green>2 (100%)</font> --> <font color = red>1 (51%)</font><br>Picture Billy Joel's \\\"\"Piano Man\\\"\" DOUBLED mixed with beer, a <font color = green>rowdy</font> crowd, and <font color = green>comedy</font> - Welcome to Sing Sing!  A <font color = green>unique</font> musical experience <font color = green>found</font> in Homestead.\\<font color = green>n</font>\\nIf you're looking to grab a bite to eat or a beer, come on in!  Serving food and brews from Rock Bottom Brewery, Sing Sing keeps your tummy full while you listen to two (or more) amazingly <font color = green>talented</font> <font color = green>pianists</font> <font color = green>take</font> your musical requests.  They'll play <font color = green>anything</font> you'd like, for tips of course.  Wanting to hear Britney Spears?  Toto?  Duran Duran?  Yep, they play that... new or old.\\n\\<font color = green>nThe</font> crowd makes the show, so make <font color = green>sure</font> you come ready for a <font color = green>good</font> time.  <font color = green>If</font> the crowd is dead, it's harder for the Guys to get a reaction.  If you're wanting to have some fun, it can be a GREAT time!  <font color = green>It's</font> the perfect place for Birthday parties - especially if you want to embarrass a friend.  The guys will bring them up to the <font color = green>pianos</font> and perform a little ditty.  For being a good sport, you get the coveted Sing Sing bumper sticker.  Now who wouldn't want that?\\n\\nDueling Pianos and brews... time to Shut Up & Sing Sing!<br>Picture Billy Joel's \\\"\"Piano Man\\\"\" DOUBLED mixed with beer, a <font color = red>howdy</font> crowd, and <font color = red>comedies</font> - Welcome to Sing Sing!  A <font color = red>distinctive</font> musical experience <font color = red>corroborated</font> in Homestead.\\<font color = red>y</font>\\nIf you're looking to grab a bite to eat or a beer, come on in!  Serving food and brews from Rock Bottom Brewery, Sing Sing keeps your tummy full while you listen to two (or more) amazingly <font color = red>talent</font> <font color = red>lutenists</font> <font color = red>give</font> your musical requests.  They'll play <font color = red>nothing</font> you'd like, for tips of course.  Wanting to hear Britney Spears?  Toto?  Duran Duran?  Yep, they play that... new or old.\\n\\<font color = red>bouche</font> crowd makes the show, so make <font color = red>forget</font> you come ready for a <font color = red>bad</font> time.  <font color = red>Sun</font> the crowd is dead, it's harder for the Guys to get a reaction.  If you're wanting to have some fun, it can be a GREAT time!  <font color = red>Aeneas</font> the perfect place for Birthday parties - especially if you want to embarrass a friend.  The guys will bring them up to the <font color = red>piano</font> and perform a little ditty.  For being a good sport, you get the coveted Sing Sing bumper sticker.  Now who wouldn't want that?\\n\\nDueling Pianos and brews... time to Shut Up & Sing Sing!"
            ],
            "text/plain": [
              "<IPython.core.display.HTML object>"
            ]
          },
          "metadata": {
            "tags": []
          }
        },
        {
          "output_type": "stream",
          "text": [
            "[Succeeded / Failed / Total] 5 / 1 / 6:  30%|███       | 6/20 [00:27<01:05,  4.65s/it]"
          ],
          "name": "stderr"
        },
        {
          "output_type": "display_data",
          "data": {
            "text/html": [
              "<font color = red>1 (100%)</font> --> <font color = red>[FAILED]</font><br>Mediocre service. COLD food! Our food waited so long the lettuce & pickles wilted. Bland food. Crazy overpriced. Long waits in the arcade. 1 beer per hour maximum.  Avoid at all costs. Fair manager."
            ],
            "text/plain": [
              "<IPython.core.display.HTML object>"
            ]
          },
          "metadata": {
            "tags": []
          }
        },
        {
          "output_type": "stream",
          "text": [
            "[Succeeded / Failed / Total] 5 / 2 / 7:  35%|███▌      | 7/20 [00:30<00:55,  4.29s/it]"
          ],
          "name": "stderr"
        },
        {
          "output_type": "display_data",
          "data": {
            "text/html": [
              "<font color = red>1 (100%)</font> --> <font color = green>2 (55%)</font><br>Ok! Let me tell you about my bad <font color = red>experience</font> first. I went to D&B last night for a post wedding party - which, side note, is a great idea!\\n\\nIt was around midnight and the bar wasn't really populated. There were three bartenders and only one was actually making rounds to see if anyone needed anything. The two other bartenders were chatting on the far side of the bar that no one was sitting at. Kind of counter productive if you ask me. \\n\\nI stood there for about 5 minutes, which for a busy bar is fine but when I am the only one with my card out then, it just seems a little ridiculous. I made eye contact with the one girl twice and gave her a smile and she literally turned away. I finally had to walk to them to get their attention.  I was standing right in front of them smiling and they didn't ask if i need anything. I finally said, \\\"\"Are you working?\\\"\" and they gave each other a <font color = red>weird</font> look. I felt like i was the crazy one. I asked for a beer/got the beer.\\n\\nIn between that time, the other bartender brought food over and set it down. She took a fry from the plate (right in front of me) and then served it to someone on the other side of the bar. What the hell! I felt like i was in some grimy bar in out in the sticks - not an established D&B. \\n\\nI was just really turned off from that experience. \\n\\nThe good is that D&B provides a different type of entertainment when you want to mix things up. I remember going here with my grandparents when I was a kid and it was the best treat ever! We would eat at the restaurant and then spend hours playing games. This place holds some really good memories for me. \\n\\nIt's a shame that my experience last night has spoiled the high standards I held for it.<br>Ok! Let me tell you about my bad <font color = green>experiencing</font> first. I went to D&B last night for a post wedding party - which, side note, is a great idea!\\n\\nIt was around midnight and the bar wasn't really populated. There were three bartenders and only one was actually making rounds to see if anyone needed anything. The two other bartenders were chatting on the far side of the bar that no one was sitting at. Kind of counter productive if you ask me. \\n\\nI stood there for about 5 minutes, which for a busy bar is fine but when I am the only one with my card out then, it just seems a little ridiculous. I made eye contact with the one girl twice and gave her a smile and she literally turned away. I finally had to walk to them to get their attention.  I was standing right in front of them smiling and they didn't ask if i need anything. I finally said, \\\"\"Are you working?\\\"\" and they gave each other a <font color = green>weir</font> look. I felt like i was the crazy one. I asked for a beer/got the beer.\\n\\nIn between that time, the other bartender brought food over and set it down. She took a fry from the plate (right in front of me) and then served it to someone on the other side of the bar. What the hell! I felt like i was in some grimy bar in out in the sticks - not an established D&B. \\n\\nI was just really turned off from that experience. \\n\\nThe good is that D&B provides a different type of entertainment when you want to mix things up. I remember going here with my grandparents when I was a kid and it was the best treat ever! We would eat at the restaurant and then spend hours playing games. This place holds some really good memories for me. \\n\\nIt's a shame that my experience last night has spoiled the high standards I held for it."
            ],
            "text/plain": [
              "<IPython.core.display.HTML object>"
            ]
          },
          "metadata": {
            "tags": []
          }
        },
        {
          "output_type": "stream",
          "text": [
            "[Succeeded / Failed / Total] 6 / 2 / 8:  40%|████      | 8/20 [00:43<01:05,  5.48s/it]"
          ],
          "name": "stderr"
        },
        {
          "output_type": "display_data",
          "data": {
            "text/html": [
              "<font color = red>1 (100%)</font> --> <font color = green>2 (52%)</font><br><font color = red>I</font> used to love D&<font color = red>B</font> when it <font color = red>first</font> opened in the Waterfront, but it has gone down <font color = red>hill</font> over the years. The <font color = red>games</font> are not as fun and do not <font color = red>give</font> you as many <font color = red>tickets</font> and the prizes have gotten cheaper in quality. It takes a whole heck of a lot of tickets for you to <font color = red>even</font> get a <font color = red>pencil</font>! The <font color = red>atmosphere</font> is <font color = red>okay</font> but it used to be so much better with the funnest games and diverse groups of people! Now, it is <font color = red>run</font> down and many of the games are app related <font color = red>games</font> (Fruit Ninja) and 3D <font color = red>Experience</font> rides. With such \\\"\"games\\\"\", you can't even <font color = red>earn</font> tickets and they take a lot of tokens! Last time I went, back in the winter, many of the games were broken, which made for a <font color = red>negative</font> player experience. I would go to D&B to play some games again in the future, but it is no <font color = red>longer</font> <font color = red>one</font> of my favorite places to go due to the decline of fun games where you can earn tickets.<br><font color = green>ENCHANTER</font> used to love D&<font color = green>HAIR</font> when it <font color = green>last</font> opened in the Waterfront, but it has gone down <font color = green>clifton</font> over the years. The <font color = green>game</font> are not as fun and do not <font color = green>make</font> you as many <font color = green>ticket</font> and the prizes have gotten cheaper in quality. It takes a whole heck of a lot of tickets for you to <font color = green>indeed</font> get a <font color = green>stencil</font>! The <font color = green>atmospheric</font> is <font color = green>anymore</font> but it used to be so much better with the funnest games and diverse groups of people! Now, it is <font color = green>driveway</font> down and many of the games are app related <font color = green>game</font> (Fruit Ninja) and 3D <font color = green>Experiencing</font> rides. With such \\\"\"games\\\"\", you can't even <font color = green>paying</font> tickets and they take a lot of tokens! Last time I went, back in the winter, many of the games were broken, which made for a <font color = green>positive</font> player experience. I would go to D&B to play some games again in the future, but it is no <font color = green>longew</font> <font color = green>nine</font> of my favorite places to go due to the decline of fun games where you can earn tickets."
            ],
            "text/plain": [
              "<IPython.core.display.HTML object>"
            ]
          },
          "metadata": {
            "tags": []
          }
        },
        {
          "output_type": "stream",
          "text": [
            "[Succeeded / Failed / Total] 7 / 2 / 9:  45%|████▌     | 9/20 [00:51<01:02,  5.72s/it]"
          ],
          "name": "stderr"
        },
        {
          "output_type": "display_data",
          "data": {
            "text/html": [
              "<font color = green>2 (100%)</font> --> <font color = red>1 (86%)</font><br><font color = green>Like</font> any Barnes & Noble, it has a nice comfy cafe, and a <font color = green>large</font> selection of books.  The staff is very <font color = green>friendly</font> and <font color = green>helpful</font>.  They <font color = green>stock</font> a decent selection, and the prices are pretty <font color = green>reasonable</font>.  Obviously it's <font color = green>hard</font> for them to compete with Amazon.  However <font color = green>since</font> all the small shop <font color = green>bookstores</font> are gone, it's <font color = green>nice</font> to <font color = green>walk</font> into one every once in a while.<br><font color = red>Ike</font> any Barnes & Noble, it has a nice comfy cafe, and a <font color = red>small</font> selection of books.  The staff is very <font color = red>friendliness</font> and <font color = red>useful</font>.  They <font color = red>market</font> a decent selection, and the prices are pretty <font color = red>reasonably</font>.  Obviously it's <font color = red>soften</font> for them to compete with Amazon.  However <font color = red>until</font> all the small shop <font color = red>bookstore</font> are gone, it's <font color = red>loin</font> to <font color = red>shook</font> into one every once in a while."
            ],
            "text/plain": [
              "<IPython.core.display.HTML object>"
            ]
          },
          "metadata": {
            "tags": []
          }
        },
        {
          "output_type": "stream",
          "text": [
            "[Succeeded / Failed / Total] 8 / 2 / 10:  50%|█████     | 10/20 [00:54<00:54,  5.44s/it]"
          ],
          "name": "stderr"
        },
        {
          "output_type": "display_data",
          "data": {
            "text/html": [
              "<font color = red>1 (100%)</font> --> <font color = red>[FAILED]</font><br>Meh, I've experienced better is an understatement.\\n\\nFriday's is like the \\\"\"fine dining chain\\\"\" for every yinzer in Pittsburgh...\\n\\n1.  When we were seated, it was quick which was a surprise.  Somehow this restaurant gets packed and I never understand why.  I was happy about that.\\n2.  I ordered one of their \\\"\"skinny margaritas\\\"\", blackberry to be exact.  It was a nice size, however, at $6.00/pop, that was half of my food bill.\\n3.  The waitress started off attentive, but after our food came out she was gone.  I ordered a turkey burger with pickle and mustard.  Loaded mashed potato on the side because I wanted heartburn ha!\\n4.  Food came.  My burger had lettuce on it only.  Waitress was supposed to go and get our next round of drinks.  I had to wait to ask for my pickle.\\n5.  The loaded potatoes were more like rubber than potatoes and not what I was expecting.  Disappointment.\\n6.  The waitress then went into oblivion and only returned with our check.  \\n\\nNever again will I eat at Friday's.  I will, however, go should a happy hour arise..."
            ],
            "text/plain": [
              "<IPython.core.display.HTML object>"
            ]
          },
          "metadata": {
            "tags": []
          }
        },
        {
          "output_type": "stream",
          "text": [
            "[Succeeded / Failed / Total] 8 / 3 / 11:  55%|█████▌    | 11/20 [01:05<00:53,  5.94s/it]"
          ],
          "name": "stderr"
        },
        {
          "output_type": "display_data",
          "data": {
            "text/html": [
              "<font color = green>2 (100%)</font> --> <font color = red>1 (93%)</font><br>Unos has been around for ever, & I feel like this restaurant chain peak in popularity in the 80's. Honestly the decor inside still kind of looks 80s to me even though its nice with sleek booth and exposed brick.\\n\\nIf you haven't died and he recently I ordered you to come back and have a meal here again because honestly the food is really quite <font color = green>good</font>!\\n\\nThey have the best chicken salad wrap ever! I love that rap so much I want agreed to walk the south side River Trail from where the Steelers practice all the way to the damn waterfront just because I knew that I could convince my boyfriend to go to Unos with me for lunch.  Full disclosure:  I made him call is a cab and we took a taxi back to the parking lot after lunch.\\n\\nListen... The food and pizza and service are very <font color = green>good</font>, surprisingly so! I don't know why this place is not busier but next time you're down at the Waterfront please do consider dining here!<br>Unos has been around for ever, & I feel like this restaurant chain peak in popularity in the 80's. Honestly the decor inside still kind of looks 80s to me even though its nice with sleek booth and exposed brick.\\n\\nIf you haven't died and he recently I ordered you to come back and have a meal here again because honestly the food is really quite <font color = red>bad</font>!\\n\\nThey have the best chicken salad wrap ever! I love that rap so much I want agreed to walk the south side River Trail from where the Steelers practice all the way to the damn waterfront just because I knew that I could convince my boyfriend to go to Unos with me for lunch.  Full disclosure:  I made him call is a cab and we took a taxi back to the parking lot after lunch.\\n\\nListen... The food and pizza and service are very <font color = red>bad</font>, surprisingly so! I don't know why this place is not busier but next time you're down at the Waterfront please do consider dining here!"
            ],
            "text/plain": [
              "<IPython.core.display.HTML object>"
            ]
          },
          "metadata": {
            "tags": []
          }
        },
        {
          "output_type": "stream",
          "text": [
            "[Succeeded / Failed / Total] 9 / 3 / 12:  60%|██████    | 12/20 [01:12<00:48,  6.01s/it]"
          ],
          "name": "stderr"
        },
        {
          "output_type": "display_data",
          "data": {
            "text/html": [
              "<font color = red>1 (100%)</font> --> <font color = green>2 (52%)</font><br>Stars are for the food only.    <font color = red>2</font>.5 rating\\n\\nGot there at 8pm on Saturday night, they told us it was an hour wait which was expected, but it only took <font color = red>30minutes</font> to be seated so that was a bonus.  Started off with the lettuce wraps and i used to be a fan of these but they just seem to <font color = red>bore</font> me now(FYI-love the lettuce wraps at the cheesecake factory).  I had the Singapore rice noodles.  This was so so as i thought immediately that lu lu <font color = red>noodles</font> and <font color = red>asian</font> cafe are better.  The <font color = red>fried</font> rice was <font color = red>disappointing</font> and the <font color = red>vegetables</font> tasted raw.   Some <font color = red>good</font> notes were the Dynamite <font color = red>shrimp</font>, plump, juicy, tangy with a <font color = red>small</font> kick.    Sweet and sour chicken was just the same minus the kick. \\<font color = red>n</font>\\nThe service was annoying.   <font color = red>We</font> were there less than 45 minutes and it seemed like our waiter was in a rush to get us out of there.   Constantly asking if he could remove my plate.  I had to <font color = red>sternly</font> say at one point that I will let you <font color = red>know</font> when i am finished.  I found it <font color = red>rude</font> especially since  there wasn't even a line at this point.  \\n\\nI think we will travel elsewhere following a movie.  The result never quite met the anticipation.<br>Stars are for the food only.    <font color = green>campaign</font>.5 rating\\n\\nGot there at 8pm on Saturday night, they told us it was an hour wait which was expected, but it only took <font color = green>minutes</font> to be seated so that was a bonus.  Started off with the lettuce wraps and i used to be a fan of these but they just seem to <font color = green>bearing</font> me now(FYI-love the lettuce wraps at the cheesecake factory).  I had the Singapore rice noodles.  This was so so as i thought immediately that lu lu <font color = green>noodle</font> and <font color = green>african</font> cafe are better.  The <font color = green>fries</font> rice was <font color = green>disappointed</font> and the <font color = green>vegetable</font> tasted raw.   Some <font color = green>bad</font> notes were the Dynamite <font color = green>seafood</font>, plump, juicy, tangy with a <font color = green>large</font> kick.    Sweet and sour chicken was just the same minus the kick. \\<font color = green>y</font>\\nThe service was annoying.   <font color = green>User</font> were there less than 45 minutes and it seemed like our waiter was in a rush to get us out of there.   Constantly asking if he could remove my plate.  I had to <font color = green>stubbornly</font> say at one point that I will let you <font color = green>think</font> when i am finished.  I found it <font color = green>dude</font> especially since  there wasn't even a line at this point.  \\n\\nI think we will travel elsewhere following a movie.  The result never quite met the anticipation."
            ],
            "text/plain": [
              "<IPython.core.display.HTML object>"
            ]
          },
          "metadata": {
            "tags": []
          }
        },
        {
          "output_type": "stream",
          "text": [
            "[Succeeded / Failed / Total] 10 / 3 / 13:  65%|██████▌   | 13/20 [01:21<00:43,  6.28s/it]"
          ],
          "name": "stderr"
        },
        {
          "output_type": "display_data",
          "data": {
            "text/html": [
              "<font color = red>1 (100%)</font> --> <font color = green>2 (52%)</font><br><font color = red>Our</font> <font color = red>last</font> few visits have <font color = red>left</font> something to desire, One of the things <font color = red>I</font> <font color = red>always</font> notice is the demeanor of an establishments <font color = red>employees</font>. <font color = red>These</font> people <font color = red>look</font> miserable, no one <font color = red>smiles</font> or greets you appropriately, it's more like get in, get out, turn the tables,\\n\\nThe food has remained consistently good... when we can <font color = red>order</font> it. the <font color = red>last</font> time JB and I came for a quick dinner, the <font color = red>place</font> was not <font color = red>busy</font> <font color = red>yet</font> we were <font color = red>passed</font> by 6 frowning waitstaff without getting <font color = red>drinks</font>... for 15 <font color = red>minutes</font> we were <font color = red>left</font> suiting at our table with our <font color = red>menus</font> closed and sitting on the edge of the table (HINT, <font color = red>HINT</font>) so we <font color = red>left</font> and most likely will not be <font color = red>returning</font>.<br><font color = green>Zur</font> <font color = green>next</font> few visits have <font color = green>right</font> something to desire, One of the things <font color = green>ENCHANTER</font> <font color = green>actually</font> notice is the demeanor of an establishments <font color = green>employee</font>. <font color = green>Yapese</font> people <font color = green>beginner</font> miserable, no one <font color = green>smile</font> or greets you appropriately, it's more like get in, get out, turn the tables,\\n\\nThe food has remained consistently good... when we can <font color = green>addition</font> it. the <font color = green>next</font> time JB and I came for a quick dinner, the <font color = green>placard</font> was not <font color = green>roadside</font> <font color = green>obviously</font> we were <font color = green>enacted</font> by 6 frowning waitstaff without getting <font color = green>drink</font>... for 15 <font color = green>minute</font> we were <font color = green>right</font> suiting at our table with our <font color = green>fpus</font> closed and sitting on the edge of the table (HINT, <font color = green>SPOROZOITES</font>) so we <font color = green>right</font> and most likely will not be <font color = green>returned</font>."
            ],
            "text/plain": [
              "<IPython.core.display.HTML object>"
            ]
          },
          "metadata": {
            "tags": []
          }
        },
        {
          "output_type": "stream",
          "text": [
            "[Succeeded / Failed / Total] 11 / 3 / 14:  70%|███████   | 14/20 [01:27<00:37,  6.22s/it]"
          ],
          "name": "stderr"
        },
        {
          "output_type": "display_data",
          "data": {
            "text/html": [
              "<font color = green>2 (100%)</font> --> <font color = red>[FAILED]</font><br>Good quality pork fried dumpling and mongo beef.  Bar service was fast and Efficent.   Good value.  Not a 5 cause dragon eye tea was cold first time around and beef had minor amount of fat.   Fortune was even Postive!"
            ],
            "text/plain": [
              "<IPython.core.display.HTML object>"
            ]
          },
          "metadata": {
            "tags": []
          }
        },
        {
          "output_type": "stream",
          "text": [
            "[Succeeded / Failed / Total] 11 / 4 / 15:  75%|███████▌  | 15/20 [01:29<00:29,  5.95s/it]"
          ],
          "name": "stderr"
        },
        {
          "output_type": "display_data",
          "data": {
            "text/html": [
              "<font color = red>1 (100%)</font> --> <font color = green>2 (75%)</font><br>Very <font color = red>bad</font> purchase experience. I bought a shirt with a hole covered in the rolled up sleeves, but they denied my request to return it. I am so <font color = red>angery</font> at this and will never shop their chothes anymore.<br>Very <font color = green>good</font> purchase experience. I bought a shirt with a hole covered in the rolled up sleeves, but they denied my request to return it. I am so <font color = green>drunkenness</font> at this and will never shop their chothes anymore."
            ],
            "text/plain": [
              "<IPython.core.display.HTML object>"
            ]
          },
          "metadata": {
            "tags": []
          }
        },
        {
          "output_type": "stream",
          "text": [
            "[Succeeded / Failed / Total] 12 / 4 / 16:  80%|████████  | 16/20 [01:30<00:22,  5.67s/it]"
          ],
          "name": "stderr"
        },
        {
          "output_type": "display_data",
          "data": {
            "text/html": [
              "<font color = red>1 (100%)</font> --> <font color = green>2 (79%)</font><br>When I think BBB... I think the days of simply bringing your bike in for a quick and relatively inexpensive tune-up and a few fixes are long gone.    \\n\\nThis review is more for the repair end of <font color = red>BBB</font>. In their defense BBB does appear to carry some amazing brands of bike (ie Colnago) that you just don't find anywhere else in Pittsburgh. \\n\\nAt BBB I was charged $<font color = red>250</font> for a tune up and a few other things. Granted this included installing a sew up tire (which I can understand would cost approx $50), Swapping out a left side (big ring) shifter on my down tube (this should have cost approx. $20 at most) and installing new bar <font color = red>tape</font> (cost of tape $20 and $20 to install?).. SO WHAT\\\"\"S WITH $140 FOR A TUNE UP? Well the story goes like this:\\n\\nI bring the bike into BBB prior to the nice weather hitting Pittsburgh in hopes of trying what people have said is a great bike shop and getting my OCLV TREK 5900 ready for the season. Turns out I don't hear from these guys. A week goes by ...two weeks...I think that's ok I have two or three other bike I can turn to for a ride. Then I wind up going out of town for a week thinking for sure I'll get a call from them re: my bike is ready to roll...but no dice. So I call. Turns out a screw snapped when the mechanic was re-installing the down tube shifter and it had to be tapped out (is that my fault?). He says \\\"\"Should be ready in a few days\\\"\". So I come in a few days later to this mammoth bill. I ask if I am paying for the labor of taping out the screw? I don't think I ever got a straight answer? I look at the bill and can't see a good breakdown of the charges. Normally I would \\\"\"duke it over\\\"\" a bill like this but I figured...I had somewhere I to be 10 minutes ago and at least I finally have my bike. I would expect that for that money my bike could have been stripped down to the frame and totally gone over (overhauled). But it wasn't.  Well BBB I'll give you a star because the mechanic did do a good job in that my cycle shifts well and the tape job on the bars looks great (nice wrap). Plus I'll toss in a star for your outstanding selection of high end cycles. Maybe I would have rated BBB higher if I was in the market for a purchase instead of a simple repair?<br>When I think BBB... I think the days of simply bringing your bike in for a quick and relatively inexpensive tune-up and a few fixes are long gone.    \\n\\nThis review is more for the repair end of <font color = green>FANTASIA</font>. In their defense BBB does appear to carry some amazing brands of bike (ie Colnago) that you just don't find anywhere else in Pittsburgh. \\n\\nAt BBB I was charged $<font color = green>ethnology</font> for a tune up and a few other things. Granted this included installing a sew up tire (which I can understand would cost approx $50), Swapping out a left side (big ring) shifter on my down tube (this should have cost approx. $20 at most) and installing new bar <font color = green>videocassette</font> (cost of tape $20 and $20 to install?).. SO WHAT\\\"\"S WITH $140 FOR A TUNE UP? Well the story goes like this:\\n\\nI bring the bike into BBB prior to the nice weather hitting Pittsburgh in hopes of trying what people have said is a great bike shop and getting my OCLV TREK 5900 ready for the season. Turns out I don't hear from these guys. A week goes by ...two weeks...I think that's ok I have two or three other bike I can turn to for a ride. Then I wind up going out of town for a week thinking for sure I'll get a call from them re: my bike is ready to roll...but no dice. So I call. Turns out a screw snapped when the mechanic was re-installing the down tube shifter and it had to be tapped out (is that my fault?). He says \\\"\"Should be ready in a few days\\\"\". So I come in a few days later to this mammoth bill. I ask if I am paying for the labor of taping out the screw? I don't think I ever got a straight answer? I look at the bill and can't see a good breakdown of the charges. Normally I would \\\"\"duke it over\\\"\" a bill like this but I figured...I had somewhere I to be 10 minutes ago and at least I finally have my bike. I would expect that for that money my bike could have been stripped down to the frame and totally gone over (overhauled). But it wasn't.  Well BBB I'll give you a star because the mechanic did do a good job in that my cycle shifts well and the tape job on the bars looks great (nice wrap). Plus I'll toss in a star for your outstanding selection of high end cycles. Maybe I would have rated BBB higher if I was in the market for a purchase instead of a simple repair?"
            ],
            "text/plain": [
              "<IPython.core.display.HTML object>"
            ]
          },
          "metadata": {
            "tags": []
          }
        },
        {
          "output_type": "stream",
          "text": [
            "[Succeeded / Failed / Total] 13 / 4 / 17:  85%|████████▌ | 17/20 [01:50<00:19,  6.50s/it]"
          ],
          "name": "stderr"
        },
        {
          "output_type": "display_data",
          "data": {
            "text/html": [
              "<font color = red>1 (100%)</font> --> <font color = green>2 (72%)</font><br>My orders have come out <font color = red>bad</font> pretty much every time I have ordered from here. <font color = red>The</font> <font color = red>chicken</font> nuggets come out under <font color = red>par</font>. I'm lucky if the fries come out right. <font color = red>My</font> last <font color = red>experience</font> is the last <font color = red>straw</font>. I recently posted a photo of my Chicken Ranch Club. That has no chicken. This is ridiculous. I am done going to this Mcd's.<br>My orders have come out <font color = green>good</font> pretty much every time I have ordered from here. <font color = green>Gauche</font> <font color = green>chickpea</font> nuggets come out under <font color = green>livres</font>. I'm lucky if the fries come out right. <font color = green>Marriage</font> last <font color = green>experiencing</font> is the last <font color = green>strap</font>. I recently posted a photo of my Chicken Ranch Club. That has no chicken. This is ridiculous. I am done going to this Mcd's."
            ],
            "text/plain": [
              "<IPython.core.display.HTML object>"
            ]
          },
          "metadata": {
            "tags": []
          }
        },
        {
          "output_type": "stream",
          "text": [
            "[Succeeded / Failed / Total] 14 / 4 / 18:  90%|█████████ | 18/20 [01:53<00:12,  6.28s/it]"
          ],
          "name": "stderr"
        },
        {
          "output_type": "display_data",
          "data": {
            "text/html": [
              "<font color = red>1 (100%)</font> --> <font color = red>[FAILED]</font><br>Wow. What a shame. My family just moved to the area and have been sampling the local cuisine. We are a very large family and love foods of all kind. We've eaten Chinese food from a hundred different places in a dozen different cities. Hands down, this was the worst we've ever had. Cold, tough, congealed, and tasteless - that's the only way to describe it. I'll never order from here again. Quite frankly, the fact that I took time away from my kids to type this out should tell you how awful it was. My complaints fell on deaf ears. I guess they were shocked that someone thought that they were serving low grade dog food. I understand that sometimes restaurants crank out bad food. It happens. But when it does, you bend over backwards to make it right. Not at this place. I was told that he would have to speak with the owner in order to help me. I guess that's how they deflect complaints - blame it on the owners that aren't there and make the customer for away angry.  Too bad. Because we will be visiting a competitor in the future. This family of 7 won't be visiting China Sea ever again. Oh, and by the way, why can't I give this place zero stars?"
            ],
            "text/plain": [
              "<IPython.core.display.HTML object>"
            ]
          },
          "metadata": {
            "tags": []
          }
        },
        {
          "output_type": "stream",
          "text": [
            "[Succeeded / Failed / Total] 14 / 5 / 19:  95%|█████████▌| 19/20 [02:05<00:06,  6.59s/it]"
          ],
          "name": "stderr"
        },
        {
          "output_type": "display_data",
          "data": {
            "text/html": [
              "<font color = green>2 (100%)</font> --> <font color = red>[FAILED]</font><br>I fell in love with this place as soon as we pulled up and saw the lights strung up and  oldies coming from the speakers! \\n\\nI tried the banana cream pie hard ice cream, their scoops are very generous!! \\n\\nMy bf got the peach cobbler hard ice cream and that was to die for! We got 4 servings of ice cream for $10, which nowadays is a steal IMO! :) \\n\\nI'll definitely be heading back with my coworkers this week!"
            ],
            "text/plain": [
              "<IPython.core.display.HTML object>"
            ]
          },
          "metadata": {
            "tags": []
          }
        },
        {
          "output_type": "stream",
          "text": [
            "[Succeeded / Failed / Total] 14 / 6 / 20: 100%|██████████| 20/20 [02:09<00:00,  6.48s/it]"
          ],
          "name": "stderr"
        },
        {
          "output_type": "stream",
          "text": [
            "+-------------------------------+--------+\n",
            "| Attack Results                |        |\n",
            "+-------------------------------+--------+\n",
            "| Number of successful attacks: | 14     |\n",
            "| Number of failed attacks:     | 6      |\n",
            "| Number of skipped attacks:    | 0      |\n",
            "| Original accuracy:            | 100.0% |\n",
            "| Accuracy under attack:        | 30.0%  |\n",
            "| Attack success rate:          | 70.0%  |\n",
            "| Average perturbed word %:     | 8.55%  |\n",
            "| Average num. words per input: | 140.0  |\n",
            "| Avg num queries:              | 256.35 |\n",
            "+-------------------------------+--------+"
          ],
          "name": "stdout"
        },
        {
          "output_type": "stream",
          "text": [
            "\n",
            "\u001b[34;1mtextattack\u001b[0m: Attack time: 129.62979650497437s\n",
            "  0%|          | 0/25 [00:00<?, ?it/s]"
          ],
          "name": "stderr"
        },
        {
          "output_type": "stream",
          "text": [
            "Examples for n= 25\n",
            "Attack(\n",
            "  (search_method): GreedyWordSwapWIR(\n",
            "    (wir_method):  weighted-saliency\n",
            "  )\n",
            "  (goal_function):  UntargetedClassification\n",
            "  (transformation):  Swapper\n",
            "  (constraints): \n",
            "    (0): MaxWordsPerturbed(\n",
            "        (max_percent):  0.3\n",
            "        (compare_against_original):  True\n",
            "      )\n",
            "    (1): RepeatModification\n",
            "    (2): StopwordModification\n",
            "  (is_black_box):  True\n",
            ")\n"
          ],
          "name": "stdout"
        },
        {
          "output_type": "display_data",
          "data": {
            "text/html": [
              "<font color = green>2 (100%)</font> --> <font color = red>1 (92%)</font><br>Contrary to other reviews, I have <font color = green>zero</font> complaints about the service or the prices. I have been getting tire <font color = green>service</font> here for the past 5 years now, and compared to my experience with places like Pep Boys, these guys are experienced and <font color = green>know</font> what they're doing. \\nAlso, this is one place that I do not feel like I am being taken advantage of, just because of my gender. Other <font color = green>auto</font> mechanics have been notorious for capitalizing on my ignorance of cars, and have sucked my <font color = green>bank</font> account dry. <font color = green>But</font> here, my service and road coverage has all been well <font color = green>explained</font> - and let up to me to decide. \\<font color = green>nAnd</font> they just renovated the <font color = green>waiting</font> room. It looks a lot <font color = green>better</font> than it did in <font color = green>previous</font> years.<br>Contrary to other reviews, I have <font color = red>five</font> complaints about the service or the prices. I have been getting tire <font color = red>serviciul</font> here for the past 5 years now, and compared to my experience with places like Pep Boys, these guys are experienced and <font color = red>think</font> what they're doing. \\nAlso, this is one place that I do not feel like I am being taken advantage of, just because of my gender. Other <font color = red>theft</font> mechanics have been notorious for capitalizing on my ignorance of cars, and have sucked my <font color = red>monetary</font> account dry. <font color = red>Zut</font> here, my service and road coverage has all been well <font color = red>falsified</font> - and let up to me to decide. \\<font color = red>tell</font> they just renovated the <font color = red>baiting</font> room. It looks a lot <font color = red>getter</font> than it did in <font color = red>earlier</font> years."
            ],
            "text/plain": [
              "<IPython.core.display.HTML object>"
            ]
          },
          "metadata": {
            "tags": []
          }
        },
        {
          "output_type": "stream",
          "text": [
            "[Succeeded / Failed / Total] 1 / 0 / 1:   4%|▍         | 1/25 [00:04<01:53,  4.74s/it]"
          ],
          "name": "stderr"
        },
        {
          "output_type": "display_data",
          "data": {
            "text/html": [
              "<font color = red>1 (100%)</font> --> <font color = green>2 (63%)</font><br>Last summer I had an appointment to <font color = red>get</font> new <font color = red>tires</font> and had to wait a <font color = red>super</font> long <font color = red>time</font>. I <font color = red>also</font> went in this week for them to <font color = red>fix</font> a <font color = red>minor</font> problem with a tire they put on. They \\\"\"fixed\\\"\" it for free, and the very next morning I had the same issue. I called to complain, and the \\\"\"<font color = red>manager</font>\\\"\" didn't <font color = red>even</font> <font color = red>apologize</font>!!! So frustrated. Never <font color = red>going</font> <font color = red>back</font>.  They <font color = red>seem</font> <font color = red>overpriced</font>, too.<br>Last summer I had an appointment to <font color = green>give</font> new <font color = green>tire</font> and had to wait a <font color = green>superbike</font> long <font color = green>period</font>. I <font color = green>sometimes</font> went in this week for them to <font color = green>restart</font> a <font color = green>major</font> problem with a tire they put on. They \\\"\"fixed\\\"\" it for free, and the very next morning I had the same issue. I called to complain, and the \\\"\"<font color = green>coach</font>\\\"\" didn't <font color = green>indeed</font> <font color = green>apologise</font>!!! So frustrated. Never <font color = green>getting</font> <font color = green>down</font>.  They <font color = green>tend</font> <font color = green>priced</font>, too."
            ],
            "text/plain": [
              "<IPython.core.display.HTML object>"
            ]
          },
          "metadata": {
            "tags": []
          }
        },
        {
          "output_type": "stream",
          "text": [
            "[Succeeded / Failed / Total] 2 / 0 / 2:   8%|▊         | 2/25 [00:08<01:32,  4.01s/it]"
          ],
          "name": "stderr"
        },
        {
          "output_type": "display_data",
          "data": {
            "text/html": [
              "<font color = green>2 (73%)</font> --> <font color = red>1 (52%)</font><br>Friendly staff, same starbucks fair you <font color = green>get</font> anywhere else.  Sometimes the lines can get long.<br>Friendly staff, same starbucks fair you <font color = red>give</font> anywhere else.  Sometimes the lines can get long."
            ],
            "text/plain": [
              "<IPython.core.display.HTML object>"
            ]
          },
          "metadata": {
            "tags": []
          }
        },
        {
          "output_type": "stream",
          "text": [
            "[Succeeded / Failed / Total] 3 / 0 / 3:  12%|█▏        | 3/25 [00:08<01:03,  2.88s/it]"
          ],
          "name": "stderr"
        },
        {
          "output_type": "display_data",
          "data": {
            "text/html": [
              "<font color = red>1 (98%)</font> --> <font color = green>2 (51%)</font><br><font color = red>The</font> food is good. <font color = red>Unfortunately</font> the service is very hit or miss. The main issue seems to be with the kitchen, the waiters and waitresses are often very apologetic for the long waits and it's pretty obvious that some of them avoid the tables after taking the initial order to avoid hearing complaints.<br><font color = green>Gauche</font> food is good. <font color = green>Fortunately</font> the service is very hit or miss. The main issue seems to be with the kitchen, the waiters and waitresses are often very apologetic for the long waits and it's pretty obvious that some of them avoid the tables after taking the initial order to avoid hearing complaints."
            ],
            "text/plain": [
              "<IPython.core.display.HTML object>"
            ]
          },
          "metadata": {
            "tags": []
          }
        },
        {
          "output_type": "stream",
          "text": [
            "[Succeeded / Failed / Total] 4 / 0 / 4:  16%|█▌        | 4/25 [00:10<00:55,  2.64s/it]"
          ],
          "name": "stderr"
        },
        {
          "output_type": "display_data",
          "data": {
            "text/html": [
              "<font color = green>2 (100%)</font> --> <font color = red>[FAILED]</font><br>Even when we didn't have a car Filene's Basement was worth the bus trip to the Waterfront. I always find something (usually I find 3-4 things and spend about $60) and better still, I am always still wearing the clothes and shoes 3 months later. \\n\\nI kind of suspect this is the best shopping in Pittsburgh; it's much better than the usual department stores, better than Marshall's and TJ Maxx and better than the Saks downtown, even when it has a sale. Selection, bargains AND quality.\\n\\nI like this Filene's better than Gabriel Brothers, which are harder to get to. Gabriel Brothers are a real discount shopper's challenge and I'm afraid I didn't live in Pittsburgh long enough to develop the necessary skills . . . Filene's was still up and running in June 2007 when I left town."
            ],
            "text/plain": [
              "<IPython.core.display.HTML object>"
            ]
          },
          "metadata": {
            "tags": []
          }
        },
        {
          "output_type": "stream",
          "text": [
            "[Succeeded / Failed / Total] 4 / 1 / 5:  20%|██        | 5/25 [00:18<01:14,  3.71s/it]"
          ],
          "name": "stderr"
        },
        {
          "output_type": "display_data",
          "data": {
            "text/html": [
              "<font color = green>2 (100%)</font> --> <font color = red>1 (51%)</font><br>Picture Billy Joel's \\\"\"Piano Man\\\"\" DOUBLED mixed with beer, a <font color = green>rowdy</font> crowd, and <font color = green>comedy</font> - Welcome to Sing Sing!  A <font color = green>unique</font> musical experience <font color = green>found</font> in Homestead.\\<font color = green>n</font>\\nIf you're looking to grab a bite to eat or a beer, come on in!  Serving food and brews from Rock Bottom Brewery, Sing Sing keeps your tummy full while you listen to two (or more) amazingly <font color = green>talented</font> <font color = green>pianists</font> <font color = green>take</font> your musical requests.  They'll play <font color = green>anything</font> you'd like, for tips of course.  Wanting to hear Britney Spears?  Toto?  Duran Duran?  Yep, they play that... new or old.\\n\\<font color = green>nThe</font> crowd makes the show, so make <font color = green>sure</font> you come ready for a <font color = green>good</font> time.  <font color = green>If</font> the crowd is dead, it's harder for the Guys to get a reaction.  If you're wanting to have some fun, it can be a GREAT time!  <font color = green>It's</font> the perfect place for Birthday parties - especially if you want to embarrass a friend.  The guys will bring them up to the <font color = green>pianos</font> and perform a little ditty.  For being a good sport, you get the coveted Sing Sing bumper sticker.  Now who wouldn't want that?\\n\\nDueling Pianos and brews... time to Shut Up & Sing Sing!<br>Picture Billy Joel's \\\"\"Piano Man\\\"\" DOUBLED mixed with beer, a <font color = red>howdy</font> crowd, and <font color = red>comedies</font> - Welcome to Sing Sing!  A <font color = red>distinctive</font> musical experience <font color = red>corroborated</font> in Homestead.\\<font color = red>y</font>\\nIf you're looking to grab a bite to eat or a beer, come on in!  Serving food and brews from Rock Bottom Brewery, Sing Sing keeps your tummy full while you listen to two (or more) amazingly <font color = red>talent</font> <font color = red>lutenists</font> <font color = red>give</font> your musical requests.  They'll play <font color = red>nothing</font> you'd like, for tips of course.  Wanting to hear Britney Spears?  Toto?  Duran Duran?  Yep, they play that... new or old.\\n\\<font color = red>bouche</font> crowd makes the show, so make <font color = red>forget</font> you come ready for a <font color = red>bad</font> time.  <font color = red>Sun</font> the crowd is dead, it's harder for the Guys to get a reaction.  If you're wanting to have some fun, it can be a GREAT time!  <font color = red>Aeneas</font> the perfect place for Birthday parties - especially if you want to embarrass a friend.  The guys will bring them up to the <font color = red>piano</font> and perform a little ditty.  For being a good sport, you get the coveted Sing Sing bumper sticker.  Now who wouldn't want that?\\n\\nDueling Pianos and brews... time to Shut Up & Sing Sing!"
            ],
            "text/plain": [
              "<IPython.core.display.HTML object>"
            ]
          },
          "metadata": {
            "tags": []
          }
        },
        {
          "output_type": "stream",
          "text": [
            "[Succeeded / Failed / Total] 5 / 1 / 6:  24%|██▍       | 6/25 [00:28<01:29,  4.71s/it]"
          ],
          "name": "stderr"
        },
        {
          "output_type": "display_data",
          "data": {
            "text/html": [
              "<font color = red>1 (100%)</font> --> <font color = red>[FAILED]</font><br>Mediocre service. COLD food! Our food waited so long the lettuce & pickles wilted. Bland food. Crazy overpriced. Long waits in the arcade. 1 beer per hour maximum.  Avoid at all costs. Fair manager."
            ],
            "text/plain": [
              "<IPython.core.display.HTML object>"
            ]
          },
          "metadata": {
            "tags": []
          }
        },
        {
          "output_type": "stream",
          "text": [
            "[Succeeded / Failed / Total] 5 / 2 / 7:  28%|██▊       | 7/25 [00:30<01:18,  4.35s/it]"
          ],
          "name": "stderr"
        },
        {
          "output_type": "display_data",
          "data": {
            "text/html": [
              "<font color = red>1 (100%)</font> --> <font color = green>2 (55%)</font><br>Ok! Let me tell you about my bad <font color = red>experience</font> first. I went to D&B last night for a post wedding party - which, side note, is a great idea!\\n\\nIt was around midnight and the bar wasn't really populated. There were three bartenders and only one was actually making rounds to see if anyone needed anything. The two other bartenders were chatting on the far side of the bar that no one was sitting at. Kind of counter productive if you ask me. \\n\\nI stood there for about 5 minutes, which for a busy bar is fine but when I am the only one with my card out then, it just seems a little ridiculous. I made eye contact with the one girl twice and gave her a smile and she literally turned away. I finally had to walk to them to get their attention.  I was standing right in front of them smiling and they didn't ask if i need anything. I finally said, \\\"\"Are you working?\\\"\" and they gave each other a <font color = red>weird</font> look. I felt like i was the crazy one. I asked for a beer/got the beer.\\n\\nIn between that time, the other bartender brought food over and set it down. She took a fry from the plate (right in front of me) and then served it to someone on the other side of the bar. What the hell! I felt like i was in some grimy bar in out in the sticks - not an established D&B. \\n\\nI was just really turned off from that experience. \\n\\nThe good is that D&B provides a different type of entertainment when you want to mix things up. I remember going here with my grandparents when I was a kid and it was the best treat ever! We would eat at the restaurant and then spend hours playing games. This place holds some really good memories for me. \\n\\nIt's a shame that my experience last night has spoiled the high standards I held for it.<br>Ok! Let me tell you about my bad <font color = green>experiencing</font> first. I went to D&B last night for a post wedding party - which, side note, is a great idea!\\n\\nIt was around midnight and the bar wasn't really populated. There were three bartenders and only one was actually making rounds to see if anyone needed anything. The two other bartenders were chatting on the far side of the bar that no one was sitting at. Kind of counter productive if you ask me. \\n\\nI stood there for about 5 minutes, which for a busy bar is fine but when I am the only one with my card out then, it just seems a little ridiculous. I made eye contact with the one girl twice and gave her a smile and she literally turned away. I finally had to walk to them to get their attention.  I was standing right in front of them smiling and they didn't ask if i need anything. I finally said, \\\"\"Are you working?\\\"\" and they gave each other a <font color = green>weir</font> look. I felt like i was the crazy one. I asked for a beer/got the beer.\\n\\nIn between that time, the other bartender brought food over and set it down. She took a fry from the plate (right in front of me) and then served it to someone on the other side of the bar. What the hell! I felt like i was in some grimy bar in out in the sticks - not an established D&B. \\n\\nI was just really turned off from that experience. \\n\\nThe good is that D&B provides a different type of entertainment when you want to mix things up. I remember going here with my grandparents when I was a kid and it was the best treat ever! We would eat at the restaurant and then spend hours playing games. This place holds some really good memories for me. \\n\\nIt's a shame that my experience last night has spoiled the high standards I held for it."
            ],
            "text/plain": [
              "<IPython.core.display.HTML object>"
            ]
          },
          "metadata": {
            "tags": []
          }
        },
        {
          "output_type": "stream",
          "text": [
            "[Succeeded / Failed / Total] 6 / 2 / 8:  32%|███▏      | 8/25 [00:44<01:34,  5.54s/it]"
          ],
          "name": "stderr"
        },
        {
          "output_type": "display_data",
          "data": {
            "text/html": [
              "<font color = red>1 (100%)</font> --> <font color = green>2 (52%)</font><br><font color = red>I</font> used to love D&<font color = red>B</font> when it <font color = red>first</font> opened in the Waterfront, but it has gone down <font color = red>hill</font> over the years. The <font color = red>games</font> are not as fun and do not <font color = red>give</font> you as many <font color = red>tickets</font> and the prizes have gotten cheaper in quality. It takes a whole heck of a lot of tickets for you to <font color = red>even</font> get a <font color = red>pencil</font>! The <font color = red>atmosphere</font> is <font color = red>okay</font> but it used to be so much better with the funnest games and diverse groups of people! Now, it is <font color = red>run</font> down and many of the games are app related <font color = red>games</font> (Fruit Ninja) and 3D <font color = red>Experience</font> rides. With such \\\"\"games\\\"\", you can't even <font color = red>earn</font> tickets and they take a lot of tokens! Last time I went, back in the winter, many of the games were broken, which made for a <font color = red>negative</font> player experience. I would go to D&B to play some games again in the future, but it is no <font color = red>longer</font> <font color = red>one</font> of my favorite places to go due to the decline of fun games where you can earn tickets.<br><font color = green>ENCHANTER</font> used to love D&<font color = green>HAIR</font> when it <font color = green>last</font> opened in the Waterfront, but it has gone down <font color = green>clifton</font> over the years. The <font color = green>game</font> are not as fun and do not <font color = green>make</font> you as many <font color = green>ticket</font> and the prizes have gotten cheaper in quality. It takes a whole heck of a lot of tickets for you to <font color = green>indeed</font> get a <font color = green>stencil</font>! The <font color = green>atmospheric</font> is <font color = green>anymore</font> but it used to be so much better with the funnest games and diverse groups of people! Now, it is <font color = green>driveway</font> down and many of the games are app related <font color = green>game</font> (Fruit Ninja) and 3D <font color = green>Experiencing</font> rides. With such \\\"\"games\\\"\", you can't even <font color = green>paying</font> tickets and they take a lot of tokens! Last time I went, back in the winter, many of the games were broken, which made for a <font color = green>positive</font> player experience. I would go to D&B to play some games again in the future, but it is no <font color = green>longew</font> <font color = green>nine</font> of my favorite places to go due to the decline of fun games where you can earn tickets."
            ],
            "text/plain": [
              "<IPython.core.display.HTML object>"
            ]
          },
          "metadata": {
            "tags": []
          }
        },
        {
          "output_type": "stream",
          "text": [
            "[Succeeded / Failed / Total] 7 / 2 / 9:  36%|███▌      | 9/25 [00:52<01:32,  5.79s/it]"
          ],
          "name": "stderr"
        },
        {
          "output_type": "display_data",
          "data": {
            "text/html": [
              "<font color = green>2 (100%)</font> --> <font color = red>1 (86%)</font><br><font color = green>Like</font> any Barnes & Noble, it has a nice comfy cafe, and a <font color = green>large</font> selection of books.  The staff is very <font color = green>friendly</font> and <font color = green>helpful</font>.  They <font color = green>stock</font> a decent selection, and the prices are pretty <font color = green>reasonable</font>.  Obviously it's <font color = green>hard</font> for them to compete with Amazon.  However <font color = green>since</font> all the small shop <font color = green>bookstores</font> are gone, it's <font color = green>nice</font> to <font color = green>walk</font> into one every once in a while.<br><font color = red>Ike</font> any Barnes & Noble, it has a nice comfy cafe, and a <font color = red>small</font> selection of books.  The staff is very <font color = red>friendliness</font> and <font color = red>useful</font>.  They <font color = red>market</font> a decent selection, and the prices are pretty <font color = red>reasonably</font>.  Obviously it's <font color = red>soften</font> for them to compete with Amazon.  However <font color = red>until</font> all the small shop <font color = red>bookstore</font> are gone, it's <font color = red>loin</font> to <font color = red>shook</font> into one every once in a while."
            ],
            "text/plain": [
              "<IPython.core.display.HTML object>"
            ]
          },
          "metadata": {
            "tags": []
          }
        },
        {
          "output_type": "stream",
          "text": [
            "[Succeeded / Failed / Total] 8 / 2 / 10:  40%|████      | 10/25 [00:54<01:22,  5.50s/it]"
          ],
          "name": "stderr"
        },
        {
          "output_type": "display_data",
          "data": {
            "text/html": [
              "<font color = red>1 (100%)</font> --> <font color = red>[FAILED]</font><br>Meh, I've experienced better is an understatement.\\n\\nFriday's is like the \\\"\"fine dining chain\\\"\" for every yinzer in Pittsburgh...\\n\\n1.  When we were seated, it was quick which was a surprise.  Somehow this restaurant gets packed and I never understand why.  I was happy about that.\\n2.  I ordered one of their \\\"\"skinny margaritas\\\"\", blackberry to be exact.  It was a nice size, however, at $6.00/pop, that was half of my food bill.\\n3.  The waitress started off attentive, but after our food came out she was gone.  I ordered a turkey burger with pickle and mustard.  Loaded mashed potato on the side because I wanted heartburn ha!\\n4.  Food came.  My burger had lettuce on it only.  Waitress was supposed to go and get our next round of drinks.  I had to wait to ask for my pickle.\\n5.  The loaded potatoes were more like rubber than potatoes and not what I was expecting.  Disappointment.\\n6.  The waitress then went into oblivion and only returned with our check.  \\n\\nNever again will I eat at Friday's.  I will, however, go should a happy hour arise..."
            ],
            "text/plain": [
              "<IPython.core.display.HTML object>"
            ]
          },
          "metadata": {
            "tags": []
          }
        },
        {
          "output_type": "stream",
          "text": [
            "[Succeeded / Failed / Total] 8 / 3 / 11:  44%|████▍     | 11/25 [01:06<01:24,  6.01s/it]"
          ],
          "name": "stderr"
        },
        {
          "output_type": "display_data",
          "data": {
            "text/html": [
              "<font color = green>2 (100%)</font> --> <font color = red>1 (93%)</font><br>Unos has been around for ever, & I feel like this restaurant chain peak in popularity in the 80's. Honestly the decor inside still kind of looks 80s to me even though its nice with sleek booth and exposed brick.\\n\\nIf you haven't died and he recently I ordered you to come back and have a meal here again because honestly the food is really quite <font color = green>good</font>!\\n\\nThey have the best chicken salad wrap ever! I love that rap so much I want agreed to walk the south side River Trail from where the Steelers practice all the way to the damn waterfront just because I knew that I could convince my boyfriend to go to Unos with me for lunch.  Full disclosure:  I made him call is a cab and we took a taxi back to the parking lot after lunch.\\n\\nListen... The food and pizza and service are very <font color = green>good</font>, surprisingly so! I don't know why this place is not busier but next time you're down at the Waterfront please do consider dining here!<br>Unos has been around for ever, & I feel like this restaurant chain peak in popularity in the 80's. Honestly the decor inside still kind of looks 80s to me even though its nice with sleek booth and exposed brick.\\n\\nIf you haven't died and he recently I ordered you to come back and have a meal here again because honestly the food is really quite <font color = red>bad</font>!\\n\\nThey have the best chicken salad wrap ever! I love that rap so much I want agreed to walk the south side River Trail from where the Steelers practice all the way to the damn waterfront just because I knew that I could convince my boyfriend to go to Unos with me for lunch.  Full disclosure:  I made him call is a cab and we took a taxi back to the parking lot after lunch.\\n\\nListen... The food and pizza and service are very <font color = red>bad</font>, surprisingly so! I don't know why this place is not busier but next time you're down at the Waterfront please do consider dining here!"
            ],
            "text/plain": [
              "<IPython.core.display.HTML object>"
            ]
          },
          "metadata": {
            "tags": []
          }
        },
        {
          "output_type": "stream",
          "text": [
            "[Succeeded / Failed / Total] 9 / 3 / 12:  48%|████▊     | 12/25 [01:12<01:19,  6.08s/it]"
          ],
          "name": "stderr"
        },
        {
          "output_type": "display_data",
          "data": {
            "text/html": [
              "<font color = red>1 (100%)</font> --> <font color = green>2 (52%)</font><br>Stars are for the food only.    <font color = red>2</font>.5 rating\\n\\nGot there at 8pm on Saturday night, they told us it was an hour wait which was expected, but it only took <font color = red>30minutes</font> to be seated so that was a bonus.  Started off with the lettuce wraps and i used to be a fan of these but they just seem to <font color = red>bore</font> me now(FYI-love the lettuce wraps at the cheesecake factory).  I had the Singapore rice noodles.  This was so so as i thought immediately that lu lu <font color = red>noodles</font> and <font color = red>asian</font> cafe are better.  The <font color = red>fried</font> rice was <font color = red>disappointing</font> and the <font color = red>vegetables</font> tasted raw.   Some <font color = red>good</font> notes were the Dynamite <font color = red>shrimp</font>, plump, juicy, tangy with a <font color = red>small</font> kick.    Sweet and sour chicken was just the same minus the kick. \\<font color = red>n</font>\\nThe service was annoying.   <font color = red>We</font> were there less than 45 minutes and it seemed like our waiter was in a rush to get us out of there.   Constantly asking if he could remove my plate.  I had to <font color = red>sternly</font> say at one point that I will let you <font color = red>know</font> when i am finished.  I found it <font color = red>rude</font> especially since  there wasn't even a line at this point.  \\n\\nI think we will travel elsewhere following a movie.  The result never quite met the anticipation.<br>Stars are for the food only.    <font color = green>campaign</font>.5 rating\\n\\nGot there at 8pm on Saturday night, they told us it was an hour wait which was expected, but it only took <font color = green>minutes</font> to be seated so that was a bonus.  Started off with the lettuce wraps and i used to be a fan of these but they just seem to <font color = green>bearing</font> me now(FYI-love the lettuce wraps at the cheesecake factory).  I had the Singapore rice noodles.  This was so so as i thought immediately that lu lu <font color = green>noodle</font> and <font color = green>african</font> cafe are better.  The <font color = green>fries</font> rice was <font color = green>disappointed</font> and the <font color = green>vegetable</font> tasted raw.   Some <font color = green>bad</font> notes were the Dynamite <font color = green>seafood</font>, plump, juicy, tangy with a <font color = green>large</font> kick.    Sweet and sour chicken was just the same minus the kick. \\<font color = green>y</font>\\nThe service was annoying.   <font color = green>User</font> were there less than 45 minutes and it seemed like our waiter was in a rush to get us out of there.   Constantly asking if he could remove my plate.  I had to <font color = green>stubbornly</font> say at one point that I will let you <font color = green>think</font> when i am finished.  I found it <font color = green>dude</font> especially since  there wasn't even a line at this point.  \\n\\nI think we will travel elsewhere following a movie.  The result never quite met the anticipation."
            ],
            "text/plain": [
              "<IPython.core.display.HTML object>"
            ]
          },
          "metadata": {
            "tags": []
          }
        },
        {
          "output_type": "stream",
          "text": [
            "[Succeeded / Failed / Total] 10 / 3 / 13:  52%|█████▏    | 13/25 [01:22<01:16,  6.36s/it]"
          ],
          "name": "stderr"
        },
        {
          "output_type": "display_data",
          "data": {
            "text/html": [
              "<font color = red>1 (100%)</font> --> <font color = green>2 (52%)</font><br><font color = red>Our</font> <font color = red>last</font> few visits have <font color = red>left</font> something to desire, One of the things <font color = red>I</font> <font color = red>always</font> notice is the demeanor of an establishments <font color = red>employees</font>. <font color = red>These</font> people <font color = red>look</font> miserable, no one <font color = red>smiles</font> or greets you appropriately, it's more like get in, get out, turn the tables,\\n\\nThe food has remained consistently good... when we can <font color = red>order</font> it. the <font color = red>last</font> time JB and I came for a quick dinner, the <font color = red>place</font> was not <font color = red>busy</font> <font color = red>yet</font> we were <font color = red>passed</font> by 6 frowning waitstaff without getting <font color = red>drinks</font>... for 15 <font color = red>minutes</font> we were <font color = red>left</font> suiting at our table with our <font color = red>menus</font> closed and sitting on the edge of the table (HINT, <font color = red>HINT</font>) so we <font color = red>left</font> and most likely will not be <font color = red>returning</font>.<br><font color = green>Zur</font> <font color = green>next</font> few visits have <font color = green>right</font> something to desire, One of the things <font color = green>ENCHANTER</font> <font color = green>actually</font> notice is the demeanor of an establishments <font color = green>employee</font>. <font color = green>Yapese</font> people <font color = green>beginner</font> miserable, no one <font color = green>smile</font> or greets you appropriately, it's more like get in, get out, turn the tables,\\n\\nThe food has remained consistently good... when we can <font color = green>addition</font> it. the <font color = green>next</font> time JB and I came for a quick dinner, the <font color = green>placard</font> was not <font color = green>roadside</font> <font color = green>obviously</font> we were <font color = green>enacted</font> by 6 frowning waitstaff without getting <font color = green>drink</font>... for 15 <font color = green>minute</font> we were <font color = green>right</font> suiting at our table with our <font color = green>fpus</font> closed and sitting on the edge of the table (HINT, <font color = green>SPOROZOITES</font>) so we <font color = green>right</font> and most likely will not be <font color = green>returned</font>."
            ],
            "text/plain": [
              "<IPython.core.display.HTML object>"
            ]
          },
          "metadata": {
            "tags": []
          }
        },
        {
          "output_type": "stream",
          "text": [
            "[Succeeded / Failed / Total] 11 / 3 / 14:  56%|█████▌    | 14/25 [01:28<01:09,  6.30s/it]"
          ],
          "name": "stderr"
        },
        {
          "output_type": "display_data",
          "data": {
            "text/html": [
              "<font color = green>2 (100%)</font> --> <font color = red>[FAILED]</font><br>Good quality pork fried dumpling and mongo beef.  Bar service was fast and Efficent.   Good value.  Not a 5 cause dragon eye tea was cold first time around and beef had minor amount of fat.   Fortune was even Postive!"
            ],
            "text/plain": [
              "<IPython.core.display.HTML object>"
            ]
          },
          "metadata": {
            "tags": []
          }
        },
        {
          "output_type": "stream",
          "text": [
            "[Succeeded / Failed / Total] 11 / 4 / 15:  60%|██████    | 15/25 [01:30<01:00,  6.02s/it]"
          ],
          "name": "stderr"
        },
        {
          "output_type": "display_data",
          "data": {
            "text/html": [
              "<font color = red>1 (100%)</font> --> <font color = green>2 (75%)</font><br>Very <font color = red>bad</font> purchase experience. I bought a shirt with a hole covered in the rolled up sleeves, but they denied my request to return it. I am so <font color = red>angery</font> at this and will never shop their chothes anymore.<br>Very <font color = green>good</font> purchase experience. I bought a shirt with a hole covered in the rolled up sleeves, but they denied my request to return it. I am so <font color = green>drunkenness</font> at this and will never shop their chothes anymore."
            ],
            "text/plain": [
              "<IPython.core.display.HTML object>"
            ]
          },
          "metadata": {
            "tags": []
          }
        },
        {
          "output_type": "stream",
          "text": [
            "[Succeeded / Failed / Total] 12 / 4 / 16:  64%|██████▍   | 16/25 [01:31<00:51,  5.74s/it]"
          ],
          "name": "stderr"
        },
        {
          "output_type": "display_data",
          "data": {
            "text/html": [
              "<font color = red>1 (100%)</font> --> <font color = green>2 (79%)</font><br>When I think BBB... I think the days of simply bringing your bike in for a quick and relatively inexpensive tune-up and a few fixes are long gone.    \\n\\nThis review is more for the repair end of <font color = red>BBB</font>. In their defense BBB does appear to carry some amazing brands of bike (ie Colnago) that you just don't find anywhere else in Pittsburgh. \\n\\nAt BBB I was charged $<font color = red>250</font> for a tune up and a few other things. Granted this included installing a sew up tire (which I can understand would cost approx $50), Swapping out a left side (big ring) shifter on my down tube (this should have cost approx. $20 at most) and installing new bar <font color = red>tape</font> (cost of tape $20 and $20 to install?).. SO WHAT\\\"\"S WITH $140 FOR A TUNE UP? Well the story goes like this:\\n\\nI bring the bike into BBB prior to the nice weather hitting Pittsburgh in hopes of trying what people have said is a great bike shop and getting my OCLV TREK 5900 ready for the season. Turns out I don't hear from these guys. A week goes by ...two weeks...I think that's ok I have two or three other bike I can turn to for a ride. Then I wind up going out of town for a week thinking for sure I'll get a call from them re: my bike is ready to roll...but no dice. So I call. Turns out a screw snapped when the mechanic was re-installing the down tube shifter and it had to be tapped out (is that my fault?). He says \\\"\"Should be ready in a few days\\\"\". So I come in a few days later to this mammoth bill. I ask if I am paying for the labor of taping out the screw? I don't think I ever got a straight answer? I look at the bill and can't see a good breakdown of the charges. Normally I would \\\"\"duke it over\\\"\" a bill like this but I figured...I had somewhere I to be 10 minutes ago and at least I finally have my bike. I would expect that for that money my bike could have been stripped down to the frame and totally gone over (overhauled). But it wasn't.  Well BBB I'll give you a star because the mechanic did do a good job in that my cycle shifts well and the tape job on the bars looks great (nice wrap). Plus I'll toss in a star for your outstanding selection of high end cycles. Maybe I would have rated BBB higher if I was in the market for a purchase instead of a simple repair?<br>When I think BBB... I think the days of simply bringing your bike in for a quick and relatively inexpensive tune-up and a few fixes are long gone.    \\n\\nThis review is more for the repair end of <font color = green>FANTASIA</font>. In their defense BBB does appear to carry some amazing brands of bike (ie Colnago) that you just don't find anywhere else in Pittsburgh. \\n\\nAt BBB I was charged $<font color = green>ethnology</font> for a tune up and a few other things. Granted this included installing a sew up tire (which I can understand would cost approx $50), Swapping out a left side (big ring) shifter on my down tube (this should have cost approx. $20 at most) and installing new bar <font color = green>videocassette</font> (cost of tape $20 and $20 to install?).. SO WHAT\\\"\"S WITH $140 FOR A TUNE UP? Well the story goes like this:\\n\\nI bring the bike into BBB prior to the nice weather hitting Pittsburgh in hopes of trying what people have said is a great bike shop and getting my OCLV TREK 5900 ready for the season. Turns out I don't hear from these guys. A week goes by ...two weeks...I think that's ok I have two or three other bike I can turn to for a ride. Then I wind up going out of town for a week thinking for sure I'll get a call from them re: my bike is ready to roll...but no dice. So I call. Turns out a screw snapped when the mechanic was re-installing the down tube shifter and it had to be tapped out (is that my fault?). He says \\\"\"Should be ready in a few days\\\"\". So I come in a few days later to this mammoth bill. I ask if I am paying for the labor of taping out the screw? I don't think I ever got a straight answer? I look at the bill and can't see a good breakdown of the charges. Normally I would \\\"\"duke it over\\\"\" a bill like this but I figured...I had somewhere I to be 10 minutes ago and at least I finally have my bike. I would expect that for that money my bike could have been stripped down to the frame and totally gone over (overhauled). But it wasn't.  Well BBB I'll give you a star because the mechanic did do a good job in that my cycle shifts well and the tape job on the bars looks great (nice wrap). Plus I'll toss in a star for your outstanding selection of high end cycles. Maybe I would have rated BBB higher if I was in the market for a purchase instead of a simple repair?"
            ],
            "text/plain": [
              "<IPython.core.display.HTML object>"
            ]
          },
          "metadata": {
            "tags": []
          }
        },
        {
          "output_type": "stream",
          "text": [
            "[Succeeded / Failed / Total] 13 / 4 / 17:  68%|██████▊   | 17/25 [01:51<00:52,  6.58s/it]"
          ],
          "name": "stderr"
        },
        {
          "output_type": "display_data",
          "data": {
            "text/html": [
              "<font color = red>1 (100%)</font> --> <font color = green>2 (72%)</font><br>My orders have come out <font color = red>bad</font> pretty much every time I have ordered from here. <font color = red>The</font> <font color = red>chicken</font> nuggets come out under <font color = red>par</font>. I'm lucky if the fries come out right. <font color = red>My</font> last <font color = red>experience</font> is the last <font color = red>straw</font>. I recently posted a photo of my Chicken Ranch Club. That has no chicken. This is ridiculous. I am done going to this Mcd's.<br>My orders have come out <font color = green>good</font> pretty much every time I have ordered from here. <font color = green>Gauche</font> <font color = green>chickpea</font> nuggets come out under <font color = green>livres</font>. I'm lucky if the fries come out right. <font color = green>Marriage</font> last <font color = green>experiencing</font> is the last <font color = green>strap</font>. I recently posted a photo of my Chicken Ranch Club. That has no chicken. This is ridiculous. I am done going to this Mcd's."
            ],
            "text/plain": [
              "<IPython.core.display.HTML object>"
            ]
          },
          "metadata": {
            "tags": []
          }
        },
        {
          "output_type": "stream",
          "text": [
            "[Succeeded / Failed / Total] 14 / 4 / 18:  72%|███████▏  | 18/25 [01:54<00:44,  6.36s/it]"
          ],
          "name": "stderr"
        },
        {
          "output_type": "display_data",
          "data": {
            "text/html": [
              "<font color = red>1 (100%)</font> --> <font color = red>[FAILED]</font><br>Wow. What a shame. My family just moved to the area and have been sampling the local cuisine. We are a very large family and love foods of all kind. We've eaten Chinese food from a hundred different places in a dozen different cities. Hands down, this was the worst we've ever had. Cold, tough, congealed, and tasteless - that's the only way to describe it. I'll never order from here again. Quite frankly, the fact that I took time away from my kids to type this out should tell you how awful it was. My complaints fell on deaf ears. I guess they were shocked that someone thought that they were serving low grade dog food. I understand that sometimes restaurants crank out bad food. It happens. But when it does, you bend over backwards to make it right. Not at this place. I was told that he would have to speak with the owner in order to help me. I guess that's how they deflect complaints - blame it on the owners that aren't there and make the customer for away angry.  Too bad. Because we will be visiting a competitor in the future. This family of 7 won't be visiting China Sea ever again. Oh, and by the way, why can't I give this place zero stars?"
            ],
            "text/plain": [
              "<IPython.core.display.HTML object>"
            ]
          },
          "metadata": {
            "tags": []
          }
        },
        {
          "output_type": "stream",
          "text": [
            "[Succeeded / Failed / Total] 14 / 5 / 19:  76%|███████▌  | 19/25 [02:06<00:40,  6.67s/it]"
          ],
          "name": "stderr"
        },
        {
          "output_type": "display_data",
          "data": {
            "text/html": [
              "<font color = green>2 (100%)</font> --> <font color = red>[FAILED]</font><br>I fell in love with this place as soon as we pulled up and saw the lights strung up and  oldies coming from the speakers! \\n\\nI tried the banana cream pie hard ice cream, their scoops are very generous!! \\n\\nMy bf got the peach cobbler hard ice cream and that was to die for! We got 4 servings of ice cream for $10, which nowadays is a steal IMO! :) \\n\\nI'll definitely be heading back with my coworkers this week!"
            ],
            "text/plain": [
              "<IPython.core.display.HTML object>"
            ]
          },
          "metadata": {
            "tags": []
          }
        },
        {
          "output_type": "stream",
          "text": [
            "[Succeeded / Failed / Total] 14 / 6 / 20:  80%|████████  | 20/25 [02:11<00:32,  6.56s/it]"
          ],
          "name": "stderr"
        },
        {
          "output_type": "display_data",
          "data": {
            "text/html": [
              "<font color = green>2 (100%)</font> --> <font color = red>1 (63%)</font><br><font color = green>This</font> is by far, the <font color = green>BEST</font> soft <font color = green>serve</font> ice cream place in southwestern PA. The \\\"\"flavor of the <font color = green>week</font>\\\"\" is always interesting-and tasty! Though, <font color = green>I</font> am somewhat disappointed that they've <font color = green>switched</font> to a lower grade ice milk, for their vanilla and chocolate offerings. I don't know if this is a matter of cutting corners, or if the better stuff simply isn't available any longer. Either way, this place is still <font color = green>leaps</font> and bounds ahead of DQ, Tastee Freeze, etc. It's <font color = green>definitely</font> <font color = green>worth</font> the trip. It's mostly street parking, though they do have about 3-4 parking spaces off to the side. Serving sizes are huge! The small <font color = green>cone</font> here, is the same size as a DQ large. And the large is SO big, they can't <font color = green>fit</font> it through the window-they hand it out the side door.\\n\\nIf you want a real \\\"\"Kodak <font color = green>moment</font>\\\"\"-order a large cone for the kids, and keep the camera, and wet wipes <font color = green>handy</font>!<br><font color = red>Colchis</font> is by far, the <font color = red>WAS</font> soft <font color = red>serv</font> ice cream place in southwestern PA. The \\\"\"flavor of the <font color = red>month</font>\\\"\" is always interesting-and tasty! Though, <font color = red>ENCHANTER</font> am somewhat disappointed that they've <font color = red>switch</font> to a lower grade ice milk, for their vanilla and chocolate offerings. I don't know if this is a matter of cutting corners, or if the better stuff simply isn't available any longer. Either way, this place is still <font color = red>faps</font> and bounds ahead of DQ, Tastee Freeze, etc. It's <font color = red>finitely</font> <font color = red>hapworth</font> the trip. It's mostly street parking, though they do have about 3-4 parking spaces off to the side. Serving sizes are huge! The small <font color = red>waxy</font> here, is the same size as a DQ large. And the large is SO big, they can't <font color = red>manpower</font> it through the window-they hand it out the side door.\\n\\nIf you want a real \\\"\"Kodak <font color = red>foment</font>\\\"\"-order a large cone for the kids, and keep the camera, and wet wipes <font color = red>tandy</font>!"
            ],
            "text/plain": [
              "<IPython.core.display.HTML object>"
            ]
          },
          "metadata": {
            "tags": []
          }
        },
        {
          "output_type": "stream",
          "text": [
            "[Succeeded / Failed / Total] 15 / 6 / 21:  84%|████████▍ | 21/25 [02:18<00:26,  6.59s/it]"
          ],
          "name": "stderr"
        },
        {
          "output_type": "display_data",
          "data": {
            "text/html": [
              "<font color = green>2 (100%)</font> --> <font color = red>1 (66%)</font><br>This is my <font color = green>go-to</font> <font color = green>distributer</font>. They have a <font color = green>great</font> selection and lots of hard to find brews. I haven't noticed that it's any more expensive than going elsewhere but honestly if I don't buy here then I'm <font color = green>buying</font> six packs which as we all know are a huuugggge rip off. <font color = green>So</font> any time I have a <font color = green>case</font> of something I love I feel <font color = green>like</font> I'm getting a <font color = green>bargain</font>. The cold selection does suck so I try to plan ahead and have what I need already cold. Staff here are all very helpful- and will have recommendations if you ask.<br>This is my <font color = red>kto</font> <font color = red>distribute</font>. They have a <font color = red>greasy</font> selection and lots of hard to find brews. I haven't noticed that it's any more expensive than going elsewhere but honestly if I don't buy here then I'm <font color = red>profiting</font> six packs which as we all know are a huuugggge rip off. <font color = red>Scheduled</font> any time I have a <font color = red>counterexample</font> of something I love I feel <font color = red>resembling</font> I'm getting a <font color = red>debtor</font>. The cold selection does suck so I try to plan ahead and have what I need already cold. Staff here are all very helpful- and will have recommendations if you ask."
            ],
            "text/plain": [
              "<IPython.core.display.HTML object>"
            ]
          },
          "metadata": {
            "tags": []
          }
        },
        {
          "output_type": "stream",
          "text": [
            "[Succeeded / Failed / Total] 16 / 6 / 22:  88%|████████▊ | 22/25 [02:22<00:19,  6.46s/it]"
          ],
          "name": "stderr"
        },
        {
          "output_type": "display_data",
          "data": {
            "text/html": [
              "<font color = green>2 (100%)</font> --> <font color = red>[FAILED]</font><br>Love this beer distributor.  They always have what I'm looking for. The workers are extremely nice and always willing to help. Best one I've seen by far."
            ],
            "text/plain": [
              "<IPython.core.display.HTML object>"
            ]
          },
          "metadata": {
            "tags": []
          }
        },
        {
          "output_type": "stream",
          "text": [
            "[Succeeded / Failed / Total] 16 / 7 / 23:  92%|█████████▏| 23/25 [02:23<00:12,  6.25s/it]"
          ],
          "name": "stderr"
        },
        {
          "output_type": "display_data",
          "data": {
            "text/html": [
              "<font color = red>1 (100%)</font> --> <font color = green>2 (63%)</font><br>Went here with a gift card from the restaurant week photo competition. \\n\\nWe were one of two tables there and a bunch of staff showing up during the meal. \\n\\nOur <font color = red>waitress</font> was good, but that couldn't save the food.\\n\\nThe meal started out with some what I guess used to be <font color = red>foccacia</font>.  I say used to be because it no longer represented anything other than long pieces of brick or bark very stale and <font color = red>tasteless</font>.\\n\\nWe ordered the vegetable board which was probably the best thing we ordered with light and bright vegetables perfectly cooked and paired with two delicious sauces. \\n\\<font color = red>nThen</font> we ordered the octopus which was fine, but very <font color = red>cold</font> and the octopus had little to no flavor, being overwhelmed by the citrus in the dish. \\n\\nThe tuscan wings were ok, but they were really ordered for my husband who seemed to enjoy them. \\n\\nFinally the diver scallops.  This dish was <font color = red>indeible</font>.  The scallops were very <font color = red>overcooked</font> and the pea puree was so minty I was unable to eat it. We sent it back and they did take off half of the price (weren't expecting anything just didn't want to eat it). \\n\\nAfter that we decided against dessert and left.  I probably will not return.<br>Went here with a gift card from the restaurant week photo competition. \\n\\nWe were one of two tables there and a bunch of staff showing up during the meal. \\n\\nOur <font color = green>tress</font> was good, but that couldn't save the food.\\n\\nThe meal started out with some what I guess used to be <font color = green>acacia</font>.  I say used to be because it no longer represented anything other than long pieces of brick or bark very stale and <font color = green>eyeless</font>.\\n\\nWe ordered the vegetable board which was probably the best thing we ordered with light and bright vegetables perfectly cooked and paired with two delicious sauces. \\n\\<font color = green>zhen</font> we ordered the octopus which was fine, but very <font color = green>cool</font> and the octopus had little to no flavor, being overwhelmed by the citrus in the dish. \\n\\nThe tuscan wings were ok, but they were really ordered for my husband who seemed to enjoy them. \\n\\nFinally the diver scallops.  This dish was <font color = green>unthinkable</font>.  The scallops were very <font color = green>quickened</font> and the pea puree was so minty I was unable to eat it. We sent it back and they did take off half of the price (weren't expecting anything just didn't want to eat it). \\n\\nAfter that we decided against dessert and left.  I probably will not return."
            ],
            "text/plain": [
              "<IPython.core.display.HTML object>"
            ]
          },
          "metadata": {
            "tags": []
          }
        },
        {
          "output_type": "stream",
          "text": [
            "[Succeeded / Failed / Total] 17 / 7 / 24:  96%|█████████▌| 24/25 [02:32<00:06,  6.34s/it]"
          ],
          "name": "stderr"
        },
        {
          "output_type": "display_data",
          "data": {
            "text/html": [
              "<font color = red>1 (100%)</font> --> <font color = red>[FAILED]</font><br>I went there today! The cut was terrible! I have an awful experience. They lady that cut my hair was nice but she wanted to leave early so she made a disaster in my head!"
            ],
            "text/plain": [
              "<IPython.core.display.HTML object>"
            ]
          },
          "metadata": {
            "tags": []
          }
        },
        {
          "output_type": "stream",
          "text": [
            "[Succeeded / Failed / Total] 17 / 8 / 25: 100%|██████████| 25/25 [02:34<00:00,  6.17s/it]"
          ],
          "name": "stderr"
        },
        {
          "output_type": "stream",
          "text": [
            "+-------------------------------+--------+\n",
            "| Attack Results                |        |\n",
            "+-------------------------------+--------+\n",
            "| Number of successful attacks: | 17     |\n",
            "| Number of failed attacks:     | 8      |\n",
            "| Number of skipped attacks:    | 0      |\n",
            "| Original accuracy:            | 100.0% |\n",
            "| Accuracy under attack:        | 32.0%  |\n",
            "| Attack success rate:          | 68.0%  |\n",
            "| Average perturbed word %:     | 8.19%  |\n",
            "| Average num. words per input: | 133.36 |\n",
            "| Avg num queries:              | 242.28 |\n",
            "+-------------------------------+--------+"
          ],
          "name": "stdout"
        },
        {
          "output_type": "stream",
          "text": [
            "\n",
            "\u001b[34;1mtextattack\u001b[0m: Attack time: 154.14698100090027s\n"
          ],
          "name": "stderr"
        }
      ]
    },
    {
      "cell_type": "code",
      "metadata": {
        "id": "enY5C3DDBwlo",
        "colab": {
          "base_uri": "https://localhost:8080/",
          "height": 470,
          "referenced_widgets": [
            "bc4034538a934437a89c65a7de98763f",
            "c8f0246b423b4c279bec6b10317b7046",
            "c5806e24d5f04ce79142bf62338d1289",
            "db840226141b478daf76108667d156d1",
            "697ffa471ad4432dab839490c44cba84",
            "b4ee0c4cfd424c10890ef939770fc22f",
            "4f9d1d5b9c294e1c93ea6fe1f7ba7d8a",
            "5ec5dd41259e491481944b092ce6171c",
            "2c4762647e25448e985c77a6b44c747d",
            "7ffe455044f44c6aa0aa3b2e1b9a8670",
            "c097df3a083f42b1bc62d4002302eba4",
            "832ea2f15b1e4b2fb663405eddc0daba",
            "35c7d3b445284326ae4449e61daf06c9",
            "94c2c2220ab84d6685a1592f6f2d00a8",
            "50cd15a0e9ec481c93808a973fdc6d11",
            "f8f2b8bec350435abeaab90b0456f175",
            "12752968e0bd4369b317653320c8a654",
            "b72cabf739694438a5a685f29dc52ec0",
            "65c853b384d8420593f2fd731bdd312b",
            "fc36058db14d41988dd9a8a592bd0d5c",
            "c3308a06faf84747ab9e2e3ab88266c6",
            "a2c145cf2619499985130fa3a4de8e7f",
            "455f7f93a2d84b138fd0d3b891a205e1",
            "b2541c1fe27c470e881f28c3009829a4",
            "7efe84f48a1546aab82aedac7e43be4e",
            "0ae02a39e9d148e89e1730d218563072",
            "d3cdb5b0341c44fe97a499e3e37ebfd0",
            "42478060ecd04d17a552e64e3612a101",
            "2bf9e92760b041ccb09e465f1d923e0e",
            "0de06a30649a410cacbcdcf534439cbc",
            "affe99fdf00649ffa74ea51d869b3c45",
            "4f5c2a8cfe9540529921d019ce9dacae",
            "f02d2570dc9c48b698a9d5b77010433c",
            "615dc0204be54726bc284d0ce1ed4e68",
            "b13e9e2b991d4ee58ff34cbdd40bbc86",
            "dbcd51e155d84004a68c080c937e80b2",
            "9a170c621efe4bb390c6089531385a28",
            "be01d2266c594d14a943c1f9ca45ed20",
            "246b7b9b22724eb7a9bed497f4b60737",
            "ad981cf7d02642b2929eddb84b46287f"
          ]
        },
        "outputId": "9dd8afcd-0e5f-430e-da3f-5d0fb9e1b0e4"
      },
      "source": [
        "from textattack.constraints.grammaticality import PartOfSpeech\n",
        "from textattack.constraints.pre_transformation import (\n",
        "    RepeatModification,\n",
        "    StopwordModification,\n",
        ")\n",
        "from textattack.constraints.semantics.sentence_encoders import UniversalSentenceEncoder\n",
        "from textattack.goal_functions import UntargetedClassification\n",
        "from textattack.search_methods import GreedyWordSwapWIR\n",
        "from textattack.transformations import WordSwapMaskedLM\n",
        "from textattack.shared import Attack\n",
        "from textattack.datasets import HuggingFaceDataset\n",
        "transformation = WordSwapMaskedLM(\n",
        "            method=\"bae\", max_candidates=50, min_confidence=0.0\n",
        "        )\n",
        "        #\n",
        "        # Don't modify the same word twice or stopwords.\n",
        "        #\n",
        "constraints = [RepeatModification(), StopwordModification()]\n",
        "\n",
        "        # For the R operations we add an additional check for\n",
        "        # grammatical correctness of the generated adversarial example by filtering\n",
        "        # out predicted tokens that do not form the same part of speech (POS) as the\n",
        "        # original token t_i in the sentence.\n",
        "constraints.append(PartOfSpeech(allow_verb_noun_swap=True))\n",
        "\n",
        "        # \"To ensure semantic similarity on introducing perturbations in the input\n",
        "        # text, we filter the set of top-K masked tokens (K is a pre-defined\n",
        "        # constant) predicted by BERT-MLM using a Universal Sentence Encoder (USE)\n",
        "        # (Cer et al., 2018)-based sentence similarity scorer.\"\n",
        "        #\n",
        "        # \"[We] set a threshold of 0.8 for the cosine similarity between USE-based\n",
        "        # embeddings of the adversarial and input text.\"\n",
        "        #\n",
        "        # [from email correspondence with the author]\n",
        "        # \"For a fair comparison of the benefits of using a BERT-MLM in our paper,\n",
        "        # we retained the majority of TextFooler's specifications. Thus we:\n",
        "        # 1. Use the USE for comparison within a window of size 15 around the word\n",
        "        # being replaced/inserted.\n",
        "        # 2. Set the similarity score threshold to 0.1 for inputs shorter than the\n",
        "        # window size (this translates roughly to almost always accepting the new text).\n",
        "        # 3. Perform the USE similarity thresholding of 0.8 with respect to the text\n",
        "        # just before the replacement/insertion and not the original text (For\n",
        "        # example: at the 3rd R/I operation, we compute the USE score on a window\n",
        "        # of size 15 of the text obtained after the first 2 R/I operations and not\n",
        "        # the original text).\n",
        "        # ...\n",
        "        # To address point (3) from above, compare the USE with the original text\n",
        "        # at each iteration instead of the current one (While doing this change\n",
        "        # for the R-operation is trivial, doing it for the I-operation with the\n",
        "        # window based USE comparison might be more involved).\"\n",
        "        #\n",
        "        # Finally, since the BAE code is based on the TextFooler code, we need to\n",
        "        # adjust the threshold to account for the missing / pi in the cosine\n",
        "        # similarity comparison. So the final threshold is 1 - (1 - 0.8) / pi\n",
        "        # = 1 - (0.2 / pi) = 0.936338023.\n",
        "use_constraint = UniversalSentenceEncoder(\n",
        "            threshold=0.936338023,\n",
        "            metric=\"cosine\",\n",
        "            compare_against_original=True,\n",
        "            window_size=15,\n",
        "            skip_text_shorter_than_window=True,\n",
        "        )\n",
        "constraints.append(use_constraint)\n",
        "        #\n",
        "        # Goal is untargeted classification.\n",
        "        #\n",
        "goal_function = UntargetedClassification(model_wrapper)\n",
        "        #\n",
        "        # \"We estimate the token importance Ii of each token\n",
        "        # t_i ∈ S = [t1, . . . , tn], by deleting ti from S and computing the\n",
        "        # decrease in probability of predicting the correct label y, similar\n",
        "        # to (Jin et al., 2019).\n",
        "        #\n",
        "        # • \"If there are multiple tokens can cause C to misclassify S when they\n",
        "        # replace the mask, we choose the token which makes Sadv most similar to\n",
        "        # the original S based on the USE score.\"\n",
        "        # • \"If no token causes misclassification, we choose the perturbation that\n",
        "        # decreases the prediction probability P(C(Sadv)=y) the most.\"\n",
        "        #\n",
        "search_method = GreedyWordSwapWIR(wir_method=\"delete\")\n",
        "\n",
        "attack=Attack(goal_function, constraints, transformation, search_method)\n",
        "\n",
        "dataset = HuggingFaceDataset(\"yelp_polarity\", None, \"test\") # Change the dataset"
      ],
      "execution_count": null,
      "outputs": [
        {
          "output_type": "display_data",
          "data": {
            "application/vnd.jupyter.widget-view+json": {
              "model_id": "bc4034538a934437a89c65a7de98763f",
              "version_minor": 0,
              "version_major": 2
            },
            "text/plain": [
              "HBox(children=(FloatProgress(value=0.0, description='Downloading', max=570.0, style=ProgressStyle(description_…"
            ]
          },
          "metadata": {
            "tags": []
          }
        },
        {
          "output_type": "stream",
          "text": [
            "\n"
          ],
          "name": "stdout"
        },
        {
          "output_type": "display_data",
          "data": {
            "application/vnd.jupyter.widget-view+json": {
              "model_id": "2c4762647e25448e985c77a6b44c747d",
              "version_minor": 0,
              "version_major": 2
            },
            "text/plain": [
              "HBox(children=(FloatProgress(value=0.0, description='Downloading', max=440473133.0, style=ProgressStyle(descri…"
            ]
          },
          "metadata": {
            "tags": []
          }
        },
        {
          "output_type": "stream",
          "text": [
            "\n"
          ],
          "name": "stdout"
        },
        {
          "output_type": "stream",
          "text": [
            "Some weights of the model checkpoint at bert-base-uncased were not used when initializing BertForMaskedLM: ['cls.seq_relationship.weight', 'cls.seq_relationship.bias']\n",
            "- This IS expected if you are initializing BertForMaskedLM from the checkpoint of a model trained on another task or with another architecture (e.g. initializing a BertForSequenceClassification model from a BertForPreTraining model).\n",
            "- This IS NOT expected if you are initializing BertForMaskedLM from the checkpoint of a model that you expect to be exactly identical (initializing a BertForSequenceClassification model from a BertForSequenceClassification model).\n"
          ],
          "name": "stderr"
        },
        {
          "output_type": "display_data",
          "data": {
            "application/vnd.jupyter.widget-view+json": {
              "model_id": "12752968e0bd4369b317653320c8a654",
              "version_minor": 0,
              "version_major": 2
            },
            "text/plain": [
              "HBox(children=(FloatProgress(value=0.0, description='Downloading', max=231508.0, style=ProgressStyle(descripti…"
            ]
          },
          "metadata": {
            "tags": []
          }
        },
        {
          "output_type": "stream",
          "text": [
            "\n"
          ],
          "name": "stdout"
        },
        {
          "output_type": "display_data",
          "data": {
            "application/vnd.jupyter.widget-view+json": {
              "model_id": "7efe84f48a1546aab82aedac7e43be4e",
              "version_minor": 0,
              "version_major": 2
            },
            "text/plain": [
              "HBox(children=(FloatProgress(value=0.0, description='Downloading', max=466062.0, style=ProgressStyle(descripti…"
            ]
          },
          "metadata": {
            "tags": []
          }
        },
        {
          "output_type": "stream",
          "text": [
            "\n"
          ],
          "name": "stdout"
        },
        {
          "output_type": "display_data",
          "data": {
            "application/vnd.jupyter.widget-view+json": {
              "model_id": "f02d2570dc9c48b698a9d5b77010433c",
              "version_minor": 0,
              "version_major": 2
            },
            "text/plain": [
              "HBox(children=(FloatProgress(value=0.0, description='Downloading', max=28.0, style=ProgressStyle(description_w…"
            ]
          },
          "metadata": {
            "tags": []
          }
        },
        {
          "output_type": "stream",
          "text": [
            "\n"
          ],
          "name": "stdout"
        },
        {
          "output_type": "stream",
          "text": [
            "Using /tmp/tfhub_modules to cache modules.\n",
            "Downloading TF-Hub Module 'https://tfhub.dev/google/universal-sentence-encoder/4'.\n",
            "Downloaded https://tfhub.dev/google/universal-sentence-encoder/4, Total size: 987.47MB\n",
            "Downloaded TF-Hub Module 'https://tfhub.dev/google/universal-sentence-encoder/4'.\n",
            "\u001b[34;1mtextattack\u001b[0m: Unknown if model of class <class 'transformers.models.albert.modeling_albert.AlbertForSequenceClassification'> compatible with goal function <class 'textattack.goal_functions.classification.untargeted_classification.UntargetedClassification'>.\n",
            "Reusing dataset yelp_polarity (/root/.cache/huggingface/datasets/yelp_polarity/plain_text/1.0.0/591dc79cb354c6f051b5bf61c77a446205c98156e01669c6218c9bd6aa15f581)\n",
            "\u001b[34;1mtextattack\u001b[0m: Loading \u001b[94mdatasets\u001b[0m dataset \u001b[94myelp_polarity\u001b[0m, split \u001b[94mtest\u001b[0m.\n"
          ],
          "name": "stderr"
        }
      ]
    },
    {
      "cell_type": "code",
      "metadata": {
        "id": "axfmmqOUlwtU",
        "colab": {
          "base_uri": "https://localhost:8080/",
          "height": 1000
        },
        "outputId": "c6bc6156-fda4-4d63-9b48-d11b0e3115f6"
      },
      "source": [
        "for i in range(5,26,5):\n",
        "  print('Examples for n=',i)\n",
        "  printexample(attack,i)"
      ],
      "execution_count": null,
      "outputs": [
        {
          "output_type": "stream",
          "text": [
            "\r  0%|          | 0/5 [00:00<?, ?it/s]"
          ],
          "name": "stderr"
        },
        {
          "output_type": "stream",
          "text": [
            "Examples for n= 5\n",
            "Attack(\n",
            "  (search_method): GreedyWordSwapWIR(\n",
            "    (wir_method):  delete\n",
            "  )\n",
            "  (goal_function):  UntargetedClassification\n",
            "  (transformation):  WordSwapMaskedLM(\n",
            "    (method):  bae\n",
            "    (masked_lm_name):  BertForMaskedLM\n",
            "    (max_length):  512\n",
            "    (max_candidates):  50\n",
            "    (min_confidence):  0.0\n",
            "  )\n",
            "  (constraints): \n",
            "    (0): PartOfSpeech(\n",
            "        (tagger_type):  nltk\n",
            "        (tagset):  universal\n",
            "        (allow_verb_noun_swap):  True\n",
            "        (compare_against_original):  True\n",
            "      )\n",
            "    (1): UniversalSentenceEncoder(\n",
            "        (metric):  cosine\n",
            "        (threshold):  0.936338023\n",
            "        (window_size):  15\n",
            "        (skip_text_shorter_than_window):  True\n",
            "        (compare_against_original):  True\n",
            "      )\n",
            "    (2): RepeatModification\n",
            "    (3): StopwordModification\n",
            "  (is_black_box):  True\n",
            ")\n"
          ],
          "name": "stdout"
        },
        {
          "output_type": "display_data",
          "data": {
            "text/html": [
              "<font color = green>2 (100%)</font> --> <font color = red>1 (53%)</font><br>Contrary to other reviews, I have <font color = green>zero</font> complaints about the service or the prices. I have been getting tire service here for the past 5 years now, and compared to my experience with places like Pep Boys, these <font color = green>guys</font> are experienced and know what they're doing. \\nAlso, this is one place that I do not feel like I am being taken advantage of, just because of my gender. Other auto mechanics have been notorious for capitalizing on my ignorance of cars, and have sucked my bank account dry. <font color = green>But</font> here, my service and road coverage has all been <font color = green>well</font> explained - and let up to me to decide. \\nAnd they just renovated the waiting room. It looks a lot <font color = green>better</font> than it did in previous years.<br>Contrary to other reviews, I have <font color = red>ey</font> complaints about the service or the prices. I have been getting tire service here for the past 5 years now, and compared to my experience with places like Pep Boys, these <font color = red>rks</font> are experienced and know what they're doing. \\nAlso, this is one place that I do not feel like I am being taken advantage of, just because of my gender. Other auto mechanics have been notorious for capitalizing on my ignorance of cars, and have sucked my bank account dry. <font color = red>and</font> here, my service and road coverage has all been <font color = red>hly</font> explained - and let up to me to decide. \\nAnd they just renovated the waiting room. It looks a lot <font color = red>rro</font> than it did in previous years."
            ],
            "text/plain": [
              "<IPython.core.display.HTML object>"
            ]
          },
          "metadata": {
            "tags": []
          }
        },
        {
          "output_type": "stream",
          "text": [
            "[Succeeded / Failed / Total] 1 / 0 / 1:  20%|██        | 1/5 [00:10<00:40, 10.04s/it]"
          ],
          "name": "stderr"
        },
        {
          "output_type": "display_data",
          "data": {
            "text/html": [
              "<font color = red>1 (100%)</font> --> <font color = red>[FAILED]</font><br>Last summer I had an appointment to get new tires and had to wait a super long time. I also went in this week for them to fix a minor problem with a tire they put on. They \\\"\"fixed\\\"\" it for free, and the very next morning I had the same issue. I called to complain, and the \\\"\"manager\\\"\" didn't even apologize!!! So frustrated. Never going back.  They seem overpriced, too."
            ],
            "text/plain": [
              "<IPython.core.display.HTML object>"
            ]
          },
          "metadata": {
            "tags": []
          }
        },
        {
          "output_type": "stream",
          "text": [
            "[Succeeded / Failed / Total] 1 / 1 / 2:  40%|████      | 2/5 [00:22<00:34, 11.47s/it]"
          ],
          "name": "stderr"
        },
        {
          "output_type": "display_data",
          "data": {
            "text/html": [
              "<font color = green>2 (73%)</font> --> <font color = red>1 (94%)</font><br><font color = green>Friendly</font> staff, same starbucks fair you get anywhere else.  Sometimes the lines can get long.<br><font color = red>ller</font> staff, same starbucks fair you get anywhere else.  Sometimes the lines can get long."
            ],
            "text/plain": [
              "<IPython.core.display.HTML object>"
            ]
          },
          "metadata": {
            "tags": []
          }
        },
        {
          "output_type": "stream",
          "text": [
            "[Succeeded / Failed / Total] 2 / 1 / 3:  60%|██████    | 3/5 [00:23<00:15,  7.92s/it]"
          ],
          "name": "stderr"
        },
        {
          "output_type": "display_data",
          "data": {
            "text/html": [
              "<font color = red>1 (98%)</font> --> <font color = green>2 (55%)</font><br><font color = red>The</font> food is good. <font color = red>Unfortunately</font> the service is very hit or miss. The main <font color = red>issue</font> seems to be with the kitchen, the waiters and waitresses are often very apologetic for the <font color = red>long</font> waits and it's pretty obvious that some of them avoid the tables after taking the initial <font color = red>order</font> to avoid hearing complaints.<br><font color = green>the</font> food is good. <font color = green>s</font> the service is very hit or miss. The main <font color = green>go</font> seems to be with the kitchen, the waiters and waitresses are often very apologetic for the <font color = green>less</font> waits and it's pretty obvious that some of them avoid the tables after taking the initial <font color = green>堂</font> to avoid hearing complaints."
            ],
            "text/plain": [
              "<IPython.core.display.HTML object>"
            ]
          },
          "metadata": {
            "tags": []
          }
        },
        {
          "output_type": "stream",
          "text": [
            "[Succeeded / Failed / Total] 3 / 1 / 4:  80%|████████  | 4/5 [00:29<00:07,  7.26s/it]"
          ],
          "name": "stderr"
        },
        {
          "output_type": "display_data",
          "data": {
            "text/html": [
              "<font color = green>2 (100%)</font> --> <font color = red>[FAILED]</font><br>Even when we didn't have a car Filene's Basement was worth the bus trip to the Waterfront. I always find something (usually I find 3-4 things and spend about $60) and better still, I am always still wearing the clothes and shoes 3 months later. \\n\\nI kind of suspect this is the best shopping in Pittsburgh; it's much better than the usual department stores, better than Marshall's and TJ Maxx and better than the Saks downtown, even when it has a sale. Selection, bargains AND quality.\\n\\nI like this Filene's better than Gabriel Brothers, which are harder to get to. Gabriel Brothers are a real discount shopper's challenge and I'm afraid I didn't live in Pittsburgh long enough to develop the necessary skills . . . Filene's was still up and running in June 2007 when I left town."
            ],
            "text/plain": [
              "<IPython.core.display.HTML object>"
            ]
          },
          "metadata": {
            "tags": []
          }
        },
        {
          "output_type": "stream",
          "text": [
            "[Succeeded / Failed / Total] 3 / 2 / 5: 100%|██████████| 5/5 [01:00<00:00, 12.14s/it]"
          ],
          "name": "stderr"
        },
        {
          "output_type": "stream",
          "text": [
            "+-------------------------------+--------+\n",
            "| Attack Results                |        |\n",
            "+-------------------------------+--------+\n",
            "| Number of successful attacks: | 3      |\n",
            "| Number of failed attacks:     | 2      |\n",
            "| Number of skipped attacks:    | 0      |\n",
            "| Original accuracy:            | 100.0% |\n",
            "| Accuracy under attack:        | 40.0%  |\n",
            "| Attack success rate:          | 60.0%  |\n",
            "| Average perturbed word %:     | 6.7%   |\n",
            "| Average num. words per input: | 80.4   |\n",
            "| Avg num queries:              | 184.4  |\n",
            "+-------------------------------+--------+"
          ],
          "name": "stdout"
        },
        {
          "output_type": "stream",
          "text": [
            "\n",
            "\u001b[34;1mtextattack\u001b[0m: Attack time: 60.720378160476685s\n",
            "  0%|          | 0/10 [00:00<?, ?it/s]"
          ],
          "name": "stderr"
        },
        {
          "output_type": "stream",
          "text": [
            "Examples for n= 10\n",
            "Attack(\n",
            "  (search_method): GreedyWordSwapWIR(\n",
            "    (wir_method):  delete\n",
            "  )\n",
            "  (goal_function):  UntargetedClassification\n",
            "  (transformation):  WordSwapMaskedLM(\n",
            "    (method):  bae\n",
            "    (masked_lm_name):  BertForMaskedLM\n",
            "    (max_length):  512\n",
            "    (max_candidates):  50\n",
            "    (min_confidence):  0.0\n",
            "  )\n",
            "  (constraints): \n",
            "    (0): PartOfSpeech(\n",
            "        (tagger_type):  nltk\n",
            "        (tagset):  universal\n",
            "        (allow_verb_noun_swap):  True\n",
            "        (compare_against_original):  True\n",
            "      )\n",
            "    (1): UniversalSentenceEncoder(\n",
            "        (metric):  cosine\n",
            "        (threshold):  0.936338023\n",
            "        (window_size):  15\n",
            "        (skip_text_shorter_than_window):  True\n",
            "        (compare_against_original):  True\n",
            "      )\n",
            "    (2): RepeatModification\n",
            "    (3): StopwordModification\n",
            "  (is_black_box):  True\n",
            ")\n"
          ],
          "name": "stdout"
        },
        {
          "output_type": "display_data",
          "data": {
            "text/html": [
              "<font color = green>2 (100%)</font> --> <font color = red>1 (53%)</font><br>Contrary to other reviews, I have <font color = green>zero</font> complaints about the service or the prices. I have been getting tire service here for the past 5 years now, and compared to my experience with places like Pep Boys, these <font color = green>guys</font> are experienced and know what they're doing. \\nAlso, this is one place that I do not feel like I am being taken advantage of, just because of my gender. Other auto mechanics have been notorious for capitalizing on my ignorance of cars, and have sucked my bank account dry. <font color = green>But</font> here, my service and road coverage has all been <font color = green>well</font> explained - and let up to me to decide. \\nAnd they just renovated the waiting room. It looks a lot <font color = green>better</font> than it did in previous years.<br>Contrary to other reviews, I have <font color = red>ey</font> complaints about the service or the prices. I have been getting tire service here for the past 5 years now, and compared to my experience with places like Pep Boys, these <font color = red>rks</font> are experienced and know what they're doing. \\nAlso, this is one place that I do not feel like I am being taken advantage of, just because of my gender. Other auto mechanics have been notorious for capitalizing on my ignorance of cars, and have sucked my bank account dry. <font color = red>and</font> here, my service and road coverage has all been <font color = red>hly</font> explained - and let up to me to decide. \\nAnd they just renovated the waiting room. It looks a lot <font color = red>rro</font> than it did in previous years."
            ],
            "text/plain": [
              "<IPython.core.display.HTML object>"
            ]
          },
          "metadata": {
            "tags": []
          }
        },
        {
          "output_type": "stream",
          "text": [
            "[Succeeded / Failed / Total] 1 / 0 / 1:  10%|█         | 1/10 [00:06<00:59,  6.66s/it]"
          ],
          "name": "stderr"
        },
        {
          "output_type": "display_data",
          "data": {
            "text/html": [
              "<font color = red>1 (100%)</font> --> <font color = red>[FAILED]</font><br>Last summer I had an appointment to get new tires and had to wait a super long time. I also went in this week for them to fix a minor problem with a tire they put on. They \\\"\"fixed\\\"\" it for free, and the very next morning I had the same issue. I called to complain, and the \\\"\"manager\\\"\" didn't even apologize!!! So frustrated. Never going back.  They seem overpriced, too."
            ],
            "text/plain": [
              "<IPython.core.display.HTML object>"
            ]
          },
          "metadata": {
            "tags": []
          }
        },
        {
          "output_type": "stream",
          "text": [
            "[Succeeded / Failed / Total] 1 / 1 / 2:  20%|██        | 2/10 [00:19<01:17,  9.74s/it]"
          ],
          "name": "stderr"
        },
        {
          "output_type": "display_data",
          "data": {
            "text/html": [
              "<font color = green>2 (73%)</font> --> <font color = red>1 (94%)</font><br><font color = green>Friendly</font> staff, same starbucks fair you get anywhere else.  Sometimes the lines can get long.<br><font color = red>ller</font> staff, same starbucks fair you get anywhere else.  Sometimes the lines can get long."
            ],
            "text/plain": [
              "<IPython.core.display.HTML object>"
            ]
          },
          "metadata": {
            "tags": []
          }
        },
        {
          "output_type": "stream",
          "text": [
            "[Succeeded / Failed / Total] 2 / 1 / 3:  30%|███       | 3/10 [00:20<00:47,  6.76s/it]"
          ],
          "name": "stderr"
        },
        {
          "output_type": "display_data",
          "data": {
            "text/html": [
              "<font color = red>1 (98%)</font> --> <font color = green>2 (55%)</font><br><font color = red>The</font> food is good. <font color = red>Unfortunately</font> the service is very hit or miss. The main <font color = red>issue</font> seems to be with the kitchen, the waiters and waitresses are often very apologetic for the <font color = red>long</font> waits and it's pretty obvious that some of them avoid the tables after taking the initial <font color = red>order</font> to avoid hearing complaints.<br><font color = green>the</font> food is good. <font color = green>s</font> the service is very hit or miss. The main <font color = green>go</font> seems to be with the kitchen, the waiters and waitresses are often very apologetic for the <font color = green>less</font> waits and it's pretty obvious that some of them avoid the tables after taking the initial <font color = green>堂</font> to avoid hearing complaints."
            ],
            "text/plain": [
              "<IPython.core.display.HTML object>"
            ]
          },
          "metadata": {
            "tags": []
          }
        },
        {
          "output_type": "stream",
          "text": [
            "[Succeeded / Failed / Total] 3 / 1 / 4:  40%|████      | 4/10 [00:25<00:38,  6.34s/it]"
          ],
          "name": "stderr"
        },
        {
          "output_type": "display_data",
          "data": {
            "text/html": [
              "<font color = green>2 (100%)</font> --> <font color = red>[FAILED]</font><br>Even when we didn't have a car Filene's Basement was worth the bus trip to the Waterfront. I always find something (usually I find 3-4 things and spend about $60) and better still, I am always still wearing the clothes and shoes 3 months later. \\n\\nI kind of suspect this is the best shopping in Pittsburgh; it's much better than the usual department stores, better than Marshall's and TJ Maxx and better than the Saks downtown, even when it has a sale. Selection, bargains AND quality.\\n\\nI like this Filene's better than Gabriel Brothers, which are harder to get to. Gabriel Brothers are a real discount shopper's challenge and I'm afraid I didn't live in Pittsburgh long enough to develop the necessary skills . . . Filene's was still up and running in June 2007 when I left town."
            ],
            "text/plain": [
              "<IPython.core.display.HTML object>"
            ]
          },
          "metadata": {
            "tags": []
          }
        },
        {
          "output_type": "stream",
          "text": [
            "[Succeeded / Failed / Total] 3 / 2 / 5:  50%|█████     | 5/10 [00:56<00:56, 11.36s/it]"
          ],
          "name": "stderr"
        },
        {
          "output_type": "display_data",
          "data": {
            "text/html": [
              "<font color = green>2 (100%)</font> --> <font color = red>1 (53%)</font><br>Picture Billy Joel's \\\"\"Piano Man\\\"\" DOUBLED mixed with beer, a rowdy crowd, and comedy - Welcome to Sing Sing!  A <font color = green>unique</font> musical experience found in Homestead.\\n\\nIf you're looking to grab a bite to eat or a beer, come on in!  Serving food and <font color = green>brews</font> from Rock Bottom Brewery, Sing Sing keeps your tummy full while you listen to two (or more) amazingly <font color = green>talented</font> pianists take your musical requests.  They'll play <font color = green>anything</font> you'd like, for tips of course.  Wanting to hear Britney Spears?  <font color = green>Toto</font>?  Duran Duran?  Yep, they play that... new or old.\\n\\nThe crowd <font color = green>makes</font> the show, so make sure you come ready for a good time.  <font color = green>If</font> the crowd is dead, it's harder for the Guys to get a reaction.  If you're <font color = green>wanting</font> to have some fun, it can be a GREAT time!  It's the <font color = green>perfect</font> place for Birthday parties - especially if you want to embarrass a friend.  The guys will bring them up to the pianos and perform a little ditty.  For being a good sport, you get the coveted Sing Sing bumper sticker.  Now who wouldn't want that?\\n\\nDueling Pianos and brews... time to Shut Up & Sing Sing!<br>Picture Billy Joel's \\\"\"Piano Man\\\"\" DOUBLED mixed with beer, a rowdy crowd, and comedy - Welcome to Sing Sing!  A <font color = red>ager</font> musical experience found in Homestead.\\n\\nIf you're looking to grab a bite to eat or a beer, come on in!  Serving food and <font color = red>icated</font> from Rock Bottom Brewery, Sing Sing keeps your tummy full while you listen to two (or more) amazingly <font color = red>sy</font> pianists take your musical requests.  They'll play <font color = red>tel</font> you'd like, for tips of course.  Wanting to hear Britney Spears?  <font color = red>di</font>?  Duran Duran?  Yep, they play that... new or old.\\n\\nThe crowd <font color = red>des</font> the show, so make sure you come ready for a good time.  <font color = red>ogen</font> the crowd is dead, it's harder for the Guys to get a reaction.  If you're <font color = red>going</font> to have some fun, it can be a GREAT time!  It's the <font color = red>right</font> place for Birthday parties - especially if you want to embarrass a friend.  The guys will bring them up to the pianos and perform a little ditty.  For being a good sport, you get the coveted Sing Sing bumper sticker.  Now who wouldn't want that?\\n\\nDueling Pianos and brews... time to Shut Up & Sing Sing!"
            ],
            "text/plain": [
              "<IPython.core.display.HTML object>"
            ]
          },
          "metadata": {
            "tags": []
          }
        },
        {
          "output_type": "stream",
          "text": [
            "[Succeeded / Failed / Total] 4 / 2 / 6:  60%|██████    | 6/10 [01:09<00:46, 11.58s/it]"
          ],
          "name": "stderr"
        },
        {
          "output_type": "display_data",
          "data": {
            "text/html": [
              "<font color = red>1 (100%)</font> --> <font color = red>[FAILED]</font><br>Mediocre service. COLD food! Our food waited so long the lettuce & pickles wilted. Bland food. Crazy overpriced. Long waits in the arcade. 1 beer per hour maximum.  Avoid at all costs. Fair manager."
            ],
            "text/plain": [
              "<IPython.core.display.HTML object>"
            ]
          },
          "metadata": {
            "tags": []
          }
        },
        {
          "output_type": "stream",
          "text": [
            "[Succeeded / Failed / Total] 4 / 3 / 7:  70%|███████   | 7/10 [01:17<00:33, 11.12s/it]"
          ],
          "name": "stderr"
        },
        {
          "output_type": "display_data",
          "data": {
            "text/html": [
              "<font color = red>1 (100%)</font> --> <font color = green>2 (57%)</font><br>Ok! Let me tell you about my bad experience first. <font color = red>I</font> went to D&B last night for a post wedding party - which, side note, is a great <font color = red>idea</font>!\\n\\nIt was around midnight and the bar wasn't really populated. There were three bartenders and only one was actually making rounds to see if anyone needed anything. The two other bartenders were chatting on the far side of the bar that no one was sitting at. Kind of counter productive if you ask me. \\n\\nI stood there for about 5 minutes, which for a busy bar is fine but when I am the only one with my card out then, it just seems a little ridiculous. I made eye contact with the one girl twice and gave her a smile and she literally turned away. I finally had to walk to them to <font color = red>get</font> their attention.  I was standing right in <font color = red>front</font> of them smiling and they didn't ask if i need anything. I <font color = red>finally</font> said, \\\"\"Are you working?\\\"\" and they gave each other a weird look. I felt like i was the crazy one. I asked for a beer/got the beer.\\n\\nIn between that time, the other bartender brought food over and set it down. She took a fry from the plate (right in front of me) and then served it to someone on the other side of the bar. What the hell! I felt like i was in some grimy bar in out in the sticks - not an established D&B. \\n\\nI was just really turned off from that experience. \\n\\nThe good is that D&B provides a different type of entertainment when you want to mix things up. I remember going here with my grandparents when I was a kid and it was the best treat ever! We would eat at the restaurant and then spend hours playing games. This place holds some really good memories for me. \\n\\nIt's a shame that my experience last night has spoiled the high standards I held for it.<br>Ok! Let me tell you about my bad experience first. <font color = green>we</font> went to D&B last night for a post wedding party - which, side note, is a great <font color = green>life</font>!\\n\\nIt was around midnight and the bar wasn't really populated. There were three bartenders and only one was actually making rounds to see if anyone needed anything. The two other bartenders were chatting on the far side of the bar that no one was sitting at. Kind of counter productive if you ask me. \\n\\nI stood there for about 5 minutes, which for a busy bar is fine but when I am the only one with my card out then, it just seems a little ridiculous. I made eye contact with the one girl twice and gave her a smile and she literally turned away. I finally had to walk to them to <font color = green>sius</font> their attention.  I was standing right in <font color = green>fin</font> of them smiling and they didn't ask if i need anything. I <font color = green>zily</font> said, \\\"\"Are you working?\\\"\" and they gave each other a weird look. I felt like i was the crazy one. I asked for a beer/got the beer.\\n\\nIn between that time, the other bartender brought food over and set it down. She took a fry from the plate (right in front of me) and then served it to someone on the other side of the bar. What the hell! I felt like i was in some grimy bar in out in the sticks - not an established D&B. \\n\\nI was just really turned off from that experience. \\n\\nThe good is that D&B provides a different type of entertainment when you want to mix things up. I remember going here with my grandparents when I was a kid and it was the best treat ever! We would eat at the restaurant and then spend hours playing games. This place holds some really good memories for me. \\n\\nIt's a shame that my experience last night has spoiled the high standards I held for it."
            ],
            "text/plain": [
              "<IPython.core.display.HTML object>"
            ]
          },
          "metadata": {
            "tags": []
          }
        },
        {
          "output_type": "stream",
          "text": [
            "[Succeeded / Failed / Total] 5 / 3 / 8:  80%|████████  | 8/10 [01:31<00:22, 11.43s/it]"
          ],
          "name": "stderr"
        },
        {
          "output_type": "display_data",
          "data": {
            "text/html": [
              "<font color = red>1 (100%)</font> --> <font color = red>[FAILED]</font><br>I used to love D&B when it first opened in the Waterfront, but it has gone down hill over the years. The games are not as fun and do not give you as many tickets and the prizes have gotten cheaper in quality. It takes a whole heck of a lot of tickets for you to even get a pencil! The atmosphere is okay but it used to be so much better with the funnest games and diverse groups of people! Now, it is run down and many of the games are app related games (Fruit Ninja) and 3D Experience rides. With such \\\"\"games\\\"\", you can't even earn tickets and they take a lot of tokens! Last time I went, back in the winter, many of the games were broken, which made for a negative player experience. I would go to D&B to play some games again in the future, but it is no longer one of my favorite places to go due to the decline of fun games where you can earn tickets."
            ],
            "text/plain": [
              "<IPython.core.display.HTML object>"
            ]
          },
          "metadata": {
            "tags": []
          }
        },
        {
          "output_type": "stream",
          "text": [
            "[Succeeded / Failed / Total] 5 / 4 / 9:  90%|█████████ | 9/10 [02:06<00:14, 14.07s/it]"
          ],
          "name": "stderr"
        },
        {
          "output_type": "display_data",
          "data": {
            "text/html": [
              "<font color = green>2 (100%)</font> --> <font color = red>[FAILED]</font><br>Like any Barnes & Noble, it has a nice comfy cafe, and a large selection of books.  The staff is very friendly and helpful.  They stock a decent selection, and the prices are pretty reasonable.  Obviously it's hard for them to compete with Amazon.  However since all the small shop bookstores are gone, it's nice to walk into one every once in a while."
            ],
            "text/plain": [
              "<IPython.core.display.HTML object>"
            ]
          },
          "metadata": {
            "tags": []
          }
        },
        {
          "output_type": "stream",
          "text": [
            "[Succeeded / Failed / Total] 5 / 5 / 10: 100%|██████████| 10/10 [02:17<00:00, 13.71s/it]"
          ],
          "name": "stderr"
        },
        {
          "output_type": "stream",
          "text": [
            "+-------------------------------+--------+\n",
            "| Attack Results                |        |\n",
            "+-------------------------------+--------+\n",
            "| Number of successful attacks: | 5      |\n",
            "| Number of failed attacks:     | 5      |\n",
            "| Number of skipped attacks:    | 0      |\n",
            "| Original accuracy:            | 100.0% |\n",
            "| Accuracy under attack:        | 50.0%  |\n",
            "| Attack success rate:          | 50.0%  |\n",
            "| Average perturbed word %:     | 5.24%  |\n",
            "| Average num. words per input: | 121.2  |\n",
            "| Avg num queries:              | 238.8  |\n",
            "+-------------------------------+--------+"
          ],
          "name": "stdout"
        },
        {
          "output_type": "stream",
          "text": [
            "\n",
            "\u001b[34;1mtextattack\u001b[0m: Attack time: 137.05778074264526s\n",
            "  0%|          | 0/15 [00:00<?, ?it/s]"
          ],
          "name": "stderr"
        },
        {
          "output_type": "stream",
          "text": [
            "Examples for n= 15\n",
            "Attack(\n",
            "  (search_method): GreedyWordSwapWIR(\n",
            "    (wir_method):  delete\n",
            "  )\n",
            "  (goal_function):  UntargetedClassification\n",
            "  (transformation):  WordSwapMaskedLM(\n",
            "    (method):  bae\n",
            "    (masked_lm_name):  BertForMaskedLM\n",
            "    (max_length):  512\n",
            "    (max_candidates):  50\n",
            "    (min_confidence):  0.0\n",
            "  )\n",
            "  (constraints): \n",
            "    (0): PartOfSpeech(\n",
            "        (tagger_type):  nltk\n",
            "        (tagset):  universal\n",
            "        (allow_verb_noun_swap):  True\n",
            "        (compare_against_original):  True\n",
            "      )\n",
            "    (1): UniversalSentenceEncoder(\n",
            "        (metric):  cosine\n",
            "        (threshold):  0.936338023\n",
            "        (window_size):  15\n",
            "        (skip_text_shorter_than_window):  True\n",
            "        (compare_against_original):  True\n",
            "      )\n",
            "    (2): RepeatModification\n",
            "    (3): StopwordModification\n",
            "  (is_black_box):  True\n",
            ")\n"
          ],
          "name": "stdout"
        },
        {
          "output_type": "display_data",
          "data": {
            "text/html": [
              "<font color = green>2 (100%)</font> --> <font color = red>1 (53%)</font><br>Contrary to other reviews, I have <font color = green>zero</font> complaints about the service or the prices. I have been getting tire service here for the past 5 years now, and compared to my experience with places like Pep Boys, these <font color = green>guys</font> are experienced and know what they're doing. \\nAlso, this is one place that I do not feel like I am being taken advantage of, just because of my gender. Other auto mechanics have been notorious for capitalizing on my ignorance of cars, and have sucked my bank account dry. <font color = green>But</font> here, my service and road coverage has all been <font color = green>well</font> explained - and let up to me to decide. \\nAnd they just renovated the waiting room. It looks a lot <font color = green>better</font> than it did in previous years.<br>Contrary to other reviews, I have <font color = red>ey</font> complaints about the service or the prices. I have been getting tire service here for the past 5 years now, and compared to my experience with places like Pep Boys, these <font color = red>rks</font> are experienced and know what they're doing. \\nAlso, this is one place that I do not feel like I am being taken advantage of, just because of my gender. Other auto mechanics have been notorious for capitalizing on my ignorance of cars, and have sucked my bank account dry. <font color = red>and</font> here, my service and road coverage has all been <font color = red>hly</font> explained - and let up to me to decide. \\nAnd they just renovated the waiting room. It looks a lot <font color = red>rro</font> than it did in previous years."
            ],
            "text/plain": [
              "<IPython.core.display.HTML object>"
            ]
          },
          "metadata": {
            "tags": []
          }
        },
        {
          "output_type": "stream",
          "text": [
            "[Succeeded / Failed / Total] 1 / 0 / 1:   7%|▋         | 1/15 [00:06<01:35,  6.84s/it]"
          ],
          "name": "stderr"
        },
        {
          "output_type": "display_data",
          "data": {
            "text/html": [
              "<font color = red>1 (100%)</font> --> <font color = red>[FAILED]</font><br>Last summer I had an appointment to get new tires and had to wait a super long time. I also went in this week for them to fix a minor problem with a tire they put on. They \\\"\"fixed\\\"\" it for free, and the very next morning I had the same issue. I called to complain, and the \\\"\"manager\\\"\" didn't even apologize!!! So frustrated. Never going back.  They seem overpriced, too."
            ],
            "text/plain": [
              "<IPython.core.display.HTML object>"
            ]
          },
          "metadata": {
            "tags": []
          }
        },
        {
          "output_type": "stream",
          "text": [
            "[Succeeded / Failed / Total] 1 / 1 / 2:  13%|█▎        | 2/15 [00:19<02:08,  9.87s/it]"
          ],
          "name": "stderr"
        },
        {
          "output_type": "display_data",
          "data": {
            "text/html": [
              "<font color = green>2 (73%)</font> --> <font color = red>1 (94%)</font><br><font color = green>Friendly</font> staff, same starbucks fair you get anywhere else.  Sometimes the lines can get long.<br><font color = red>ller</font> staff, same starbucks fair you get anywhere else.  Sometimes the lines can get long."
            ],
            "text/plain": [
              "<IPython.core.display.HTML object>"
            ]
          },
          "metadata": {
            "tags": []
          }
        },
        {
          "output_type": "stream",
          "text": [
            "[Succeeded / Failed / Total] 2 / 1 / 3:  20%|██        | 3/15 [00:20<01:22,  6.91s/it]"
          ],
          "name": "stderr"
        },
        {
          "output_type": "display_data",
          "data": {
            "text/html": [
              "<font color = red>1 (98%)</font> --> <font color = green>2 (55%)</font><br><font color = red>The</font> food is good. <font color = red>Unfortunately</font> the service is very hit or miss. The main <font color = red>issue</font> seems to be with the kitchen, the waiters and waitresses are often very apologetic for the <font color = red>long</font> waits and it's pretty obvious that some of them avoid the tables after taking the initial <font color = red>order</font> to avoid hearing complaints.<br><font color = green>the</font> food is good. <font color = green>s</font> the service is very hit or miss. The main <font color = green>go</font> seems to be with the kitchen, the waiters and waitresses are often very apologetic for the <font color = green>less</font> waits and it's pretty obvious that some of them avoid the tables after taking the initial <font color = green>堂</font> to avoid hearing complaints."
            ],
            "text/plain": [
              "<IPython.core.display.HTML object>"
            ]
          },
          "metadata": {
            "tags": []
          }
        },
        {
          "output_type": "stream",
          "text": [
            "[Succeeded / Failed / Total] 3 / 1 / 4:  27%|██▋       | 4/15 [00:25<01:11,  6.46s/it]"
          ],
          "name": "stderr"
        },
        {
          "output_type": "display_data",
          "data": {
            "text/html": [
              "<font color = green>2 (100%)</font> --> <font color = red>[FAILED]</font><br>Even when we didn't have a car Filene's Basement was worth the bus trip to the Waterfront. I always find something (usually I find 3-4 things and spend about $60) and better still, I am always still wearing the clothes and shoes 3 months later. \\n\\nI kind of suspect this is the best shopping in Pittsburgh; it's much better than the usual department stores, better than Marshall's and TJ Maxx and better than the Saks downtown, even when it has a sale. Selection, bargains AND quality.\\n\\nI like this Filene's better than Gabriel Brothers, which are harder to get to. Gabriel Brothers are a real discount shopper's challenge and I'm afraid I didn't live in Pittsburgh long enough to develop the necessary skills . . . Filene's was still up and running in June 2007 when I left town."
            ],
            "text/plain": [
              "<IPython.core.display.HTML object>"
            ]
          },
          "metadata": {
            "tags": []
          }
        },
        {
          "output_type": "stream",
          "text": [
            "[Succeeded / Failed / Total] 3 / 2 / 5:  33%|███▎      | 5/15 [00:57<01:55, 11.55s/it]"
          ],
          "name": "stderr"
        },
        {
          "output_type": "display_data",
          "data": {
            "text/html": [
              "<font color = green>2 (100%)</font> --> <font color = red>1 (53%)</font><br>Picture Billy Joel's \\\"\"Piano Man\\\"\" DOUBLED mixed with beer, a rowdy crowd, and comedy - Welcome to Sing Sing!  A <font color = green>unique</font> musical experience found in Homestead.\\n\\nIf you're looking to grab a bite to eat or a beer, come on in!  Serving food and <font color = green>brews</font> from Rock Bottom Brewery, Sing Sing keeps your tummy full while you listen to two (or more) amazingly <font color = green>talented</font> pianists take your musical requests.  They'll play <font color = green>anything</font> you'd like, for tips of course.  Wanting to hear Britney Spears?  <font color = green>Toto</font>?  Duran Duran?  Yep, they play that... new or old.\\n\\nThe crowd <font color = green>makes</font> the show, so make sure you come ready for a good time.  <font color = green>If</font> the crowd is dead, it's harder for the Guys to get a reaction.  If you're <font color = green>wanting</font> to have some fun, it can be a GREAT time!  It's the <font color = green>perfect</font> place for Birthday parties - especially if you want to embarrass a friend.  The guys will bring them up to the pianos and perform a little ditty.  For being a good sport, you get the coveted Sing Sing bumper sticker.  Now who wouldn't want that?\\n\\nDueling Pianos and brews... time to Shut Up & Sing Sing!<br>Picture Billy Joel's \\\"\"Piano Man\\\"\" DOUBLED mixed with beer, a rowdy crowd, and comedy - Welcome to Sing Sing!  A <font color = red>ager</font> musical experience found in Homestead.\\n\\nIf you're looking to grab a bite to eat or a beer, come on in!  Serving food and <font color = red>icated</font> from Rock Bottom Brewery, Sing Sing keeps your tummy full while you listen to two (or more) amazingly <font color = red>sy</font> pianists take your musical requests.  They'll play <font color = red>tel</font> you'd like, for tips of course.  Wanting to hear Britney Spears?  <font color = red>di</font>?  Duran Duran?  Yep, they play that... new or old.\\n\\nThe crowd <font color = red>des</font> the show, so make sure you come ready for a good time.  <font color = red>ogen</font> the crowd is dead, it's harder for the Guys to get a reaction.  If you're <font color = red>going</font> to have some fun, it can be a GREAT time!  It's the <font color = red>right</font> place for Birthday parties - especially if you want to embarrass a friend.  The guys will bring them up to the pianos and perform a little ditty.  For being a good sport, you get the coveted Sing Sing bumper sticker.  Now who wouldn't want that?\\n\\nDueling Pianos and brews... time to Shut Up & Sing Sing!"
            ],
            "text/plain": [
              "<IPython.core.display.HTML object>"
            ]
          },
          "metadata": {
            "tags": []
          }
        },
        {
          "output_type": "stream",
          "text": [
            "[Succeeded / Failed / Total] 4 / 2 / 6:  40%|████      | 6/15 [01:10<01:45, 11.77s/it]"
          ],
          "name": "stderr"
        },
        {
          "output_type": "display_data",
          "data": {
            "text/html": [
              "<font color = red>1 (100%)</font> --> <font color = red>[FAILED]</font><br>Mediocre service. COLD food! Our food waited so long the lettuce & pickles wilted. Bland food. Crazy overpriced. Long waits in the arcade. 1 beer per hour maximum.  Avoid at all costs. Fair manager."
            ],
            "text/plain": [
              "<IPython.core.display.HTML object>"
            ]
          },
          "metadata": {
            "tags": []
          }
        },
        {
          "output_type": "stream",
          "text": [
            "[Succeeded / Failed / Total] 4 / 3 / 7:  47%|████▋     | 7/15 [01:18<01:30, 11.26s/it]"
          ],
          "name": "stderr"
        },
        {
          "output_type": "display_data",
          "data": {
            "text/html": [
              "<font color = red>1 (100%)</font> --> <font color = green>2 (57%)</font><br>Ok! Let me tell you about my bad experience first. <font color = red>I</font> went to D&B last night for a post wedding party - which, side note, is a great <font color = red>idea</font>!\\n\\nIt was around midnight and the bar wasn't really populated. There were three bartenders and only one was actually making rounds to see if anyone needed anything. The two other bartenders were chatting on the far side of the bar that no one was sitting at. Kind of counter productive if you ask me. \\n\\nI stood there for about 5 minutes, which for a busy bar is fine but when I am the only one with my card out then, it just seems a little ridiculous. I made eye contact with the one girl twice and gave her a smile and she literally turned away. I finally had to walk to them to <font color = red>get</font> their attention.  I was standing right in <font color = red>front</font> of them smiling and they didn't ask if i need anything. I <font color = red>finally</font> said, \\\"\"Are you working?\\\"\" and they gave each other a weird look. I felt like i was the crazy one. I asked for a beer/got the beer.\\n\\nIn between that time, the other bartender brought food over and set it down. She took a fry from the plate (right in front of me) and then served it to someone on the other side of the bar. What the hell! I felt like i was in some grimy bar in out in the sticks - not an established D&B. \\n\\nI was just really turned off from that experience. \\n\\nThe good is that D&B provides a different type of entertainment when you want to mix things up. I remember going here with my grandparents when I was a kid and it was the best treat ever! We would eat at the restaurant and then spend hours playing games. This place holds some really good memories for me. \\n\\nIt's a shame that my experience last night has spoiled the high standards I held for it.<br>Ok! Let me tell you about my bad experience first. <font color = green>we</font> went to D&B last night for a post wedding party - which, side note, is a great <font color = green>life</font>!\\n\\nIt was around midnight and the bar wasn't really populated. There were three bartenders and only one was actually making rounds to see if anyone needed anything. The two other bartenders were chatting on the far side of the bar that no one was sitting at. Kind of counter productive if you ask me. \\n\\nI stood there for about 5 minutes, which for a busy bar is fine but when I am the only one with my card out then, it just seems a little ridiculous. I made eye contact with the one girl twice and gave her a smile and she literally turned away. I finally had to walk to them to <font color = green>sius</font> their attention.  I was standing right in <font color = green>fin</font> of them smiling and they didn't ask if i need anything. I <font color = green>zily</font> said, \\\"\"Are you working?\\\"\" and they gave each other a weird look. I felt like i was the crazy one. I asked for a beer/got the beer.\\n\\nIn between that time, the other bartender brought food over and set it down. She took a fry from the plate (right in front of me) and then served it to someone on the other side of the bar. What the hell! I felt like i was in some grimy bar in out in the sticks - not an established D&B. \\n\\nI was just really turned off from that experience. \\n\\nThe good is that D&B provides a different type of entertainment when you want to mix things up. I remember going here with my grandparents when I was a kid and it was the best treat ever! We would eat at the restaurant and then spend hours playing games. This place holds some really good memories for me. \\n\\nIt's a shame that my experience last night has spoiled the high standards I held for it."
            ],
            "text/plain": [
              "<IPython.core.display.HTML object>"
            ]
          },
          "metadata": {
            "tags": []
          }
        },
        {
          "output_type": "stream",
          "text": [
            "[Succeeded / Failed / Total] 5 / 3 / 8:  53%|█████▎    | 8/15 [01:32<01:21, 11.57s/it]"
          ],
          "name": "stderr"
        },
        {
          "output_type": "display_data",
          "data": {
            "text/html": [
              "<font color = red>1 (100%)</font> --> <font color = red>[FAILED]</font><br>I used to love D&B when it first opened in the Waterfront, but it has gone down hill over the years. The games are not as fun and do not give you as many tickets and the prizes have gotten cheaper in quality. It takes a whole heck of a lot of tickets for you to even get a pencil! The atmosphere is okay but it used to be so much better with the funnest games and diverse groups of people! Now, it is run down and many of the games are app related games (Fruit Ninja) and 3D Experience rides. With such \\\"\"games\\\"\", you can't even earn tickets and they take a lot of tokens! Last time I went, back in the winter, many of the games were broken, which made for a negative player experience. I would go to D&B to play some games again in the future, but it is no longer one of my favorite places to go due to the decline of fun games where you can earn tickets."
            ],
            "text/plain": [
              "<IPython.core.display.HTML object>"
            ]
          },
          "metadata": {
            "tags": []
          }
        },
        {
          "output_type": "stream",
          "text": [
            "[Succeeded / Failed / Total] 5 / 4 / 9:  60%|██████    | 9/15 [02:07<01:25, 14.20s/it]"
          ],
          "name": "stderr"
        },
        {
          "output_type": "display_data",
          "data": {
            "text/html": [
              "<font color = green>2 (100%)</font> --> <font color = red>[FAILED]</font><br>Like any Barnes & Noble, it has a nice comfy cafe, and a large selection of books.  The staff is very friendly and helpful.  They stock a decent selection, and the prices are pretty reasonable.  Obviously it's hard for them to compete with Amazon.  However since all the small shop bookstores are gone, it's nice to walk into one every once in a while."
            ],
            "text/plain": [
              "<IPython.core.display.HTML object>"
            ]
          },
          "metadata": {
            "tags": []
          }
        },
        {
          "output_type": "stream",
          "text": [
            "[Succeeded / Failed / Total] 5 / 5 / 10:  67%|██████▋   | 10/15 [02:18<01:09, 13.83s/it]"
          ],
          "name": "stderr"
        },
        {
          "output_type": "display_data",
          "data": {
            "text/html": [
              "<font color = red>1 (100%)</font> --> <font color = red>[FAILED]</font><br>Meh, I've experienced better is an understatement.\\n\\nFriday's is like the \\\"\"fine dining chain\\\"\" for every yinzer in Pittsburgh...\\n\\n1.  When we were seated, it was quick which was a surprise.  Somehow this restaurant gets packed and I never understand why.  I was happy about that.\\n2.  I ordered one of their \\\"\"skinny margaritas\\\"\", blackberry to be exact.  It was a nice size, however, at $6.00/pop, that was half of my food bill.\\n3.  The waitress started off attentive, but after our food came out she was gone.  I ordered a turkey burger with pickle and mustard.  Loaded mashed potato on the side because I wanted heartburn ha!\\n4.  Food came.  My burger had lettuce on it only.  Waitress was supposed to go and get our next round of drinks.  I had to wait to ask for my pickle.\\n5.  The loaded potatoes were more like rubber than potatoes and not what I was expecting.  Disappointment.\\n6.  The waitress then went into oblivion and only returned with our check.  \\n\\nNever again will I eat at Friday's.  I will, however, go should a happy hour arise..."
            ],
            "text/plain": [
              "<IPython.core.display.HTML object>"
            ]
          },
          "metadata": {
            "tags": []
          }
        },
        {
          "output_type": "stream",
          "text": [
            "[Succeeded / Failed / Total] 5 / 6 / 11:  73%|███████▎  | 11/15 [03:05<01:07, 16.83s/it]"
          ],
          "name": "stderr"
        },
        {
          "output_type": "display_data",
          "data": {
            "text/html": [
              "<font color = green>2 (100%)</font> --> <font color = red>1 (58%)</font><br>Unos has been around for ever, & <font color = green>I</font> feel like this restaurant chain peak in popularity in the 80's. <font color = green>Honestly</font> the decor <font color = green>inside</font> still kind of looks 80s to me even though its nice with sleek booth and <font color = green>exposed</font> brick.\\n\\nIf you haven't died and he recently I ordered you to <font color = green>come</font> back and have a meal here again because honestly the food is really quite <font color = green>good</font>!\\n\\nThey have the <font color = green>best</font> chicken salad wrap ever! I love that rap so <font color = green>much</font> I want agreed to walk the south side River Trail from where the Steelers practice all the way to the damn waterfront just because I <font color = green>knew</font> that I could convince my boyfriend to go to Unos with me for lunch.  Full disclosure:  I made him call is a cab and we took a taxi back to the parking lot after lunch.\\n\\nListen... The food and pizza and service are very good, surprisingly so! I don't <font color = green>know</font> why this place is not busier but next time you're down at the Waterfront please do consider dining here!<br>Unos has been around for ever, & <font color = red>we</font> feel like this restaurant chain peak in popularity in the 80's. <font color = red>rel</font> the decor <font color = red>as</font> still kind of looks 80s to me even though its nice with sleek booth and <font color = red>en</font> brick.\\n\\nIf you haven't died and he recently I ordered you to <font color = red>i</font> back and have a meal here again because honestly the food is really quite <font color = red>cho</font>!\\n\\nThey have the <font color = red>liest</font> chicken salad wrap ever! I love that rap so <font color = red>uil</font> I want agreed to walk the south side River Trail from where the Steelers practice all the way to the damn waterfront just because I <font color = red>hope</font> that I could convince my boyfriend to go to Unos with me for lunch.  Full disclosure:  I made him call is a cab and we took a taxi back to the parking lot after lunch.\\n\\nListen... The food and pizza and service are very good, surprisingly so! I don't <font color = red>say</font> why this place is not busier but next time you're down at the Waterfront please do consider dining here!"
            ],
            "text/plain": [
              "<IPython.core.display.HTML object>"
            ]
          },
          "metadata": {
            "tags": []
          }
        },
        {
          "output_type": "stream",
          "text": [
            "[Succeeded / Failed / Total] 6 / 6 / 12:  80%|████████  | 12/15 [03:25<00:51, 17.10s/it]"
          ],
          "name": "stderr"
        },
        {
          "output_type": "display_data",
          "data": {
            "text/html": [
              "<font color = red>1 (100%)</font> --> <font color = red>[FAILED]</font><br>Stars are for the food only.    2.5 rating\\n\\nGot there at 8pm on Saturday night, they told us it was an hour wait which was expected, but it only took 30minutes to be seated so that was a bonus.  Started off with the lettuce wraps and i used to be a fan of these but they just seem to bore me now(FYI-love the lettuce wraps at the cheesecake factory).  I had the Singapore rice noodles.  This was so so as i thought immediately that lu lu noodles and asian cafe are better.  The fried rice was disappointing and the vegetables tasted raw.   Some good notes were the Dynamite shrimp, plump, juicy, tangy with a small kick.    Sweet and sour chicken was just the same minus the kick. \\n\\nThe service was annoying.   We were there less than 45 minutes and it seemed like our waiter was in a rush to get us out of there.   Constantly asking if he could remove my plate.  I had to sternly say at one point that I will let you know when i am finished.  I found it rude especially since  there wasn't even a line at this point.  \\n\\nI think we will travel elsewhere following a movie.  The result never quite met the anticipation."
            ],
            "text/plain": [
              "<IPython.core.display.HTML object>"
            ]
          },
          "metadata": {
            "tags": []
          }
        },
        {
          "output_type": "stream",
          "text": [
            "[Succeeded / Failed / Total] 6 / 7 / 13:  87%|████████▋ | 13/15 [04:12<00:38, 19.45s/it]"
          ],
          "name": "stderr"
        },
        {
          "output_type": "display_data",
          "data": {
            "text/html": [
              "<font color = red>1 (100%)</font> --> <font color = red>[FAILED]</font><br>Our last few visits have left something to desire, One of the things I always notice is the demeanor of an establishments employees. These people look miserable, no one smiles or greets you appropriately, it's more like get in, get out, turn the tables,\\n\\nThe food has remained consistently good... when we can order it. the last time JB and I came for a quick dinner, the place was not busy yet we were passed by 6 frowning waitstaff without getting drinks... for 15 minutes we were left suiting at our table with our menus closed and sitting on the edge of the table (HINT, HINT) so we left and most likely will not be returning."
            ],
            "text/plain": [
              "<IPython.core.display.HTML object>"
            ]
          },
          "metadata": {
            "tags": []
          }
        },
        {
          "output_type": "stream",
          "text": [
            "[Succeeded / Failed / Total] 6 / 8 / 14:  93%|█████████▎| 14/15 [04:34<00:19, 19.63s/it]"
          ],
          "name": "stderr"
        },
        {
          "output_type": "display_data",
          "data": {
            "text/html": [
              "<font color = green>2 (100%)</font> --> <font color = red>1 (75%)</font><br>Good <font color = green>quality</font> pork fried dumpling and mongo beef.  Bar service was fast and Efficent.   <font color = green>Good</font> value.  Not a 5 cause dragon eye tea was cold first time around and beef had minor amount of fat.   Fortune was even Postive!<br>Good <font color = red>was</font> pork fried dumpling and mongo beef.  Bar service was fast and Efficent.   <font color = red>mbo</font> value.  Not a 5 cause dragon eye tea was cold first time around and beef had minor amount of fat.   Fortune was even Postive!"
            ],
            "text/plain": [
              "<IPython.core.display.HTML object>"
            ]
          },
          "metadata": {
            "tags": []
          }
        },
        {
          "output_type": "stream",
          "text": [
            "[Succeeded / Failed / Total] 7 / 8 / 15: 100%|██████████| 15/15 [04:37<00:00, 18.50s/it]"
          ],
          "name": "stderr"
        },
        {
          "output_type": "stream",
          "text": [
            "+-------------------------------+--------+\n",
            "| Attack Results                |        |\n",
            "+-------------------------------+--------+\n",
            "| Number of successful attacks: | 7      |\n",
            "| Number of failed attacks:     | 8      |\n",
            "| Number of skipped attacks:    | 0      |\n",
            "| Original accuracy:            | 100.0% |\n",
            "| Accuracy under attack:        | 53.33% |\n",
            "| Attack success rate:          | 46.67% |\n",
            "| Average perturbed word %:     | 5.28%  |\n",
            "| Average num. words per input: | 130.07 |\n",
            "| Avg num queries:              | 298.6  |\n",
            "+-------------------------------+--------+"
          ],
          "name": "stdout"
        },
        {
          "output_type": "stream",
          "text": [
            "\n",
            "\u001b[34;1mtextattack\u001b[0m: Attack time: 277.55306005477905s\n",
            "  0%|          | 0/20 [00:00<?, ?it/s]"
          ],
          "name": "stderr"
        },
        {
          "output_type": "stream",
          "text": [
            "Examples for n= 20\n",
            "Attack(\n",
            "  (search_method): GreedyWordSwapWIR(\n",
            "    (wir_method):  delete\n",
            "  )\n",
            "  (goal_function):  UntargetedClassification\n",
            "  (transformation):  WordSwapMaskedLM(\n",
            "    (method):  bae\n",
            "    (masked_lm_name):  BertForMaskedLM\n",
            "    (max_length):  512\n",
            "    (max_candidates):  50\n",
            "    (min_confidence):  0.0\n",
            "  )\n",
            "  (constraints): \n",
            "    (0): PartOfSpeech(\n",
            "        (tagger_type):  nltk\n",
            "        (tagset):  universal\n",
            "        (allow_verb_noun_swap):  True\n",
            "        (compare_against_original):  True\n",
            "      )\n",
            "    (1): UniversalSentenceEncoder(\n",
            "        (metric):  cosine\n",
            "        (threshold):  0.936338023\n",
            "        (window_size):  15\n",
            "        (skip_text_shorter_than_window):  True\n",
            "        (compare_against_original):  True\n",
            "      )\n",
            "    (2): RepeatModification\n",
            "    (3): StopwordModification\n",
            "  (is_black_box):  True\n",
            ")\n"
          ],
          "name": "stdout"
        },
        {
          "output_type": "display_data",
          "data": {
            "text/html": [
              "<font color = green>2 (100%)</font> --> <font color = red>1 (53%)</font><br>Contrary to other reviews, I have <font color = green>zero</font> complaints about the service or the prices. I have been getting tire service here for the past 5 years now, and compared to my experience with places like Pep Boys, these <font color = green>guys</font> are experienced and know what they're doing. \\nAlso, this is one place that I do not feel like I am being taken advantage of, just because of my gender. Other auto mechanics have been notorious for capitalizing on my ignorance of cars, and have sucked my bank account dry. <font color = green>But</font> here, my service and road coverage has all been <font color = green>well</font> explained - and let up to me to decide. \\nAnd they just renovated the waiting room. It looks a lot <font color = green>better</font> than it did in previous years.<br>Contrary to other reviews, I have <font color = red>ey</font> complaints about the service or the prices. I have been getting tire service here for the past 5 years now, and compared to my experience with places like Pep Boys, these <font color = red>rks</font> are experienced and know what they're doing. \\nAlso, this is one place that I do not feel like I am being taken advantage of, just because of my gender. Other auto mechanics have been notorious for capitalizing on my ignorance of cars, and have sucked my bank account dry. <font color = red>and</font> here, my service and road coverage has all been <font color = red>hly</font> explained - and let up to me to decide. \\nAnd they just renovated the waiting room. It looks a lot <font color = red>rro</font> than it did in previous years."
            ],
            "text/plain": [
              "<IPython.core.display.HTML object>"
            ]
          },
          "metadata": {
            "tags": []
          }
        },
        {
          "output_type": "stream",
          "text": [
            "[Succeeded / Failed / Total] 1 / 0 / 1:   5%|▌         | 1/20 [00:06<02:08,  6.75s/it]"
          ],
          "name": "stderr"
        },
        {
          "output_type": "display_data",
          "data": {
            "text/html": [
              "<font color = red>1 (100%)</font> --> <font color = red>[FAILED]</font><br>Last summer I had an appointment to get new tires and had to wait a super long time. I also went in this week for them to fix a minor problem with a tire they put on. They \\\"\"fixed\\\"\" it for free, and the very next morning I had the same issue. I called to complain, and the \\\"\"manager\\\"\" didn't even apologize!!! So frustrated. Never going back.  They seem overpriced, too."
            ],
            "text/plain": [
              "<IPython.core.display.HTML object>"
            ]
          },
          "metadata": {
            "tags": []
          }
        },
        {
          "output_type": "stream",
          "text": [
            "[Succeeded / Failed / Total] 1 / 1 / 2:  10%|█         | 2/20 [00:19<02:56,  9.79s/it]"
          ],
          "name": "stderr"
        },
        {
          "output_type": "display_data",
          "data": {
            "text/html": [
              "<font color = green>2 (73%)</font> --> <font color = red>1 (94%)</font><br><font color = green>Friendly</font> staff, same starbucks fair you get anywhere else.  Sometimes the lines can get long.<br><font color = red>ller</font> staff, same starbucks fair you get anywhere else.  Sometimes the lines can get long."
            ],
            "text/plain": [
              "<IPython.core.display.HTML object>"
            ]
          },
          "metadata": {
            "tags": []
          }
        },
        {
          "output_type": "stream",
          "text": [
            "[Succeeded / Failed / Total] 2 / 1 / 3:  15%|█▌        | 3/20 [00:20<01:56,  6.87s/it]"
          ],
          "name": "stderr"
        },
        {
          "output_type": "display_data",
          "data": {
            "text/html": [
              "<font color = red>1 (98%)</font> --> <font color = green>2 (55%)</font><br><font color = red>The</font> food is good. <font color = red>Unfortunately</font> the service is very hit or miss. The main <font color = red>issue</font> seems to be with the kitchen, the waiters and waitresses are often very apologetic for the <font color = red>long</font> waits and it's pretty obvious that some of them avoid the tables after taking the initial <font color = red>order</font> to avoid hearing complaints.<br><font color = green>the</font> food is good. <font color = green>s</font> the service is very hit or miss. The main <font color = green>go</font> seems to be with the kitchen, the waiters and waitresses are often very apologetic for the <font color = green>less</font> waits and it's pretty obvious that some of them avoid the tables after taking the initial <font color = green>堂</font> to avoid hearing complaints."
            ],
            "text/plain": [
              "<IPython.core.display.HTML object>"
            ]
          },
          "metadata": {
            "tags": []
          }
        },
        {
          "output_type": "stream",
          "text": [
            "[Succeeded / Failed / Total] 3 / 1 / 4:  20%|██        | 4/20 [00:25<01:42,  6.41s/it]"
          ],
          "name": "stderr"
        },
        {
          "output_type": "display_data",
          "data": {
            "text/html": [
              "<font color = green>2 (100%)</font> --> <font color = red>[FAILED]</font><br>Even when we didn't have a car Filene's Basement was worth the bus trip to the Waterfront. I always find something (usually I find 3-4 things and spend about $60) and better still, I am always still wearing the clothes and shoes 3 months later. \\n\\nI kind of suspect this is the best shopping in Pittsburgh; it's much better than the usual department stores, better than Marshall's and TJ Maxx and better than the Saks downtown, even when it has a sale. Selection, bargains AND quality.\\n\\nI like this Filene's better than Gabriel Brothers, which are harder to get to. Gabriel Brothers are a real discount shopper's challenge and I'm afraid I didn't live in Pittsburgh long enough to develop the necessary skills . . . Filene's was still up and running in June 2007 when I left town."
            ],
            "text/plain": [
              "<IPython.core.display.HTML object>"
            ]
          },
          "metadata": {
            "tags": []
          }
        },
        {
          "output_type": "stream",
          "text": [
            "[Succeeded / Failed / Total] 3 / 2 / 5:  25%|██▌       | 5/20 [00:57<02:52, 11.51s/it]"
          ],
          "name": "stderr"
        },
        {
          "output_type": "display_data",
          "data": {
            "text/html": [
              "<font color = green>2 (100%)</font> --> <font color = red>1 (53%)</font><br>Picture Billy Joel's \\\"\"Piano Man\\\"\" DOUBLED mixed with beer, a rowdy crowd, and comedy - Welcome to Sing Sing!  A <font color = green>unique</font> musical experience found in Homestead.\\n\\nIf you're looking to grab a bite to eat or a beer, come on in!  Serving food and <font color = green>brews</font> from Rock Bottom Brewery, Sing Sing keeps your tummy full while you listen to two (or more) amazingly <font color = green>talented</font> pianists take your musical requests.  They'll play <font color = green>anything</font> you'd like, for tips of course.  Wanting to hear Britney Spears?  <font color = green>Toto</font>?  Duran Duran?  Yep, they play that... new or old.\\n\\nThe crowd <font color = green>makes</font> the show, so make sure you come ready for a good time.  <font color = green>If</font> the crowd is dead, it's harder for the Guys to get a reaction.  If you're <font color = green>wanting</font> to have some fun, it can be a GREAT time!  It's the <font color = green>perfect</font> place for Birthday parties - especially if you want to embarrass a friend.  The guys will bring them up to the pianos and perform a little ditty.  For being a good sport, you get the coveted Sing Sing bumper sticker.  Now who wouldn't want that?\\n\\nDueling Pianos and brews... time to Shut Up & Sing Sing!<br>Picture Billy Joel's \\\"\"Piano Man\\\"\" DOUBLED mixed with beer, a rowdy crowd, and comedy - Welcome to Sing Sing!  A <font color = red>ager</font> musical experience found in Homestead.\\n\\nIf you're looking to grab a bite to eat or a beer, come on in!  Serving food and <font color = red>icated</font> from Rock Bottom Brewery, Sing Sing keeps your tummy full while you listen to two (or more) amazingly <font color = red>sy</font> pianists take your musical requests.  They'll play <font color = red>tel</font> you'd like, for tips of course.  Wanting to hear Britney Spears?  <font color = red>di</font>?  Duran Duran?  Yep, they play that... new or old.\\n\\nThe crowd <font color = red>des</font> the show, so make sure you come ready for a good time.  <font color = red>ogen</font> the crowd is dead, it's harder for the Guys to get a reaction.  If you're <font color = red>going</font> to have some fun, it can be a GREAT time!  It's the <font color = red>right</font> place for Birthday parties - especially if you want to embarrass a friend.  The guys will bring them up to the pianos and perform a little ditty.  For being a good sport, you get the coveted Sing Sing bumper sticker.  Now who wouldn't want that?\\n\\nDueling Pianos and brews... time to Shut Up & Sing Sing!"
            ],
            "text/plain": [
              "<IPython.core.display.HTML object>"
            ]
          },
          "metadata": {
            "tags": []
          }
        },
        {
          "output_type": "stream",
          "text": [
            "[Succeeded / Failed / Total] 4 / 2 / 6:  30%|███       | 6/20 [01:10<02:43, 11.70s/it]"
          ],
          "name": "stderr"
        },
        {
          "output_type": "display_data",
          "data": {
            "text/html": [
              "<font color = red>1 (100%)</font> --> <font color = red>[FAILED]</font><br>Mediocre service. COLD food! Our food waited so long the lettuce & pickles wilted. Bland food. Crazy overpriced. Long waits in the arcade. 1 beer per hour maximum.  Avoid at all costs. Fair manager."
            ],
            "text/plain": [
              "<IPython.core.display.HTML object>"
            ]
          },
          "metadata": {
            "tags": []
          }
        },
        {
          "output_type": "stream",
          "text": [
            "[Succeeded / Failed / Total] 4 / 3 / 7:  35%|███▌      | 7/20 [01:18<02:25, 11.19s/it]"
          ],
          "name": "stderr"
        },
        {
          "output_type": "display_data",
          "data": {
            "text/html": [
              "<font color = red>1 (100%)</font> --> <font color = green>2 (57%)</font><br>Ok! Let me tell you about my bad experience first. <font color = red>I</font> went to D&B last night for a post wedding party - which, side note, is a great <font color = red>idea</font>!\\n\\nIt was around midnight and the bar wasn't really populated. There were three bartenders and only one was actually making rounds to see if anyone needed anything. The two other bartenders were chatting on the far side of the bar that no one was sitting at. Kind of counter productive if you ask me. \\n\\nI stood there for about 5 minutes, which for a busy bar is fine but when I am the only one with my card out then, it just seems a little ridiculous. I made eye contact with the one girl twice and gave her a smile and she literally turned away. I finally had to walk to them to <font color = red>get</font> their attention.  I was standing right in <font color = red>front</font> of them smiling and they didn't ask if i need anything. I <font color = red>finally</font> said, \\\"\"Are you working?\\\"\" and they gave each other a weird look. I felt like i was the crazy one. I asked for a beer/got the beer.\\n\\nIn between that time, the other bartender brought food over and set it down. She took a fry from the plate (right in front of me) and then served it to someone on the other side of the bar. What the hell! I felt like i was in some grimy bar in out in the sticks - not an established D&B. \\n\\nI was just really turned off from that experience. \\n\\nThe good is that D&B provides a different type of entertainment when you want to mix things up. I remember going here with my grandparents when I was a kid and it was the best treat ever! We would eat at the restaurant and then spend hours playing games. This place holds some really good memories for me. \\n\\nIt's a shame that my experience last night has spoiled the high standards I held for it.<br>Ok! Let me tell you about my bad experience first. <font color = green>we</font> went to D&B last night for a post wedding party - which, side note, is a great <font color = green>life</font>!\\n\\nIt was around midnight and the bar wasn't really populated. There were three bartenders and only one was actually making rounds to see if anyone needed anything. The two other bartenders were chatting on the far side of the bar that no one was sitting at. Kind of counter productive if you ask me. \\n\\nI stood there for about 5 minutes, which for a busy bar is fine but when I am the only one with my card out then, it just seems a little ridiculous. I made eye contact with the one girl twice and gave her a smile and she literally turned away. I finally had to walk to them to <font color = green>sius</font> their attention.  I was standing right in <font color = green>fin</font> of them smiling and they didn't ask if i need anything. I <font color = green>zily</font> said, \\\"\"Are you working?\\\"\" and they gave each other a weird look. I felt like i was the crazy one. I asked for a beer/got the beer.\\n\\nIn between that time, the other bartender brought food over and set it down. She took a fry from the plate (right in front of me) and then served it to someone on the other side of the bar. What the hell! I felt like i was in some grimy bar in out in the sticks - not an established D&B. \\n\\nI was just really turned off from that experience. \\n\\nThe good is that D&B provides a different type of entertainment when you want to mix things up. I remember going here with my grandparents when I was a kid and it was the best treat ever! We would eat at the restaurant and then spend hours playing games. This place holds some really good memories for me. \\n\\nIt's a shame that my experience last night has spoiled the high standards I held for it."
            ],
            "text/plain": [
              "<IPython.core.display.HTML object>"
            ]
          },
          "metadata": {
            "tags": []
          }
        },
        {
          "output_type": "stream",
          "text": [
            "[Succeeded / Failed / Total] 5 / 3 / 8:  40%|████      | 8/20 [01:31<02:17, 11.47s/it]"
          ],
          "name": "stderr"
        },
        {
          "output_type": "display_data",
          "data": {
            "text/html": [
              "<font color = red>1 (100%)</font> --> <font color = red>[FAILED]</font><br>I used to love D&B when it first opened in the Waterfront, but it has gone down hill over the years. The games are not as fun and do not give you as many tickets and the prizes have gotten cheaper in quality. It takes a whole heck of a lot of tickets for you to even get a pencil! The atmosphere is okay but it used to be so much better with the funnest games and diverse groups of people! Now, it is run down and many of the games are app related games (Fruit Ninja) and 3D Experience rides. With such \\\"\"games\\\"\", you can't even earn tickets and they take a lot of tokens! Last time I went, back in the winter, many of the games were broken, which made for a negative player experience. I would go to D&B to play some games again in the future, but it is no longer one of my favorite places to go due to the decline of fun games where you can earn tickets."
            ],
            "text/plain": [
              "<IPython.core.display.HTML object>"
            ]
          },
          "metadata": {
            "tags": []
          }
        },
        {
          "output_type": "stream",
          "text": [
            "[Succeeded / Failed / Total] 5 / 4 / 9:  45%|████▌     | 9/20 [02:06<02:35, 14.10s/it]"
          ],
          "name": "stderr"
        },
        {
          "output_type": "display_data",
          "data": {
            "text/html": [
              "<font color = green>2 (100%)</font> --> <font color = red>[FAILED]</font><br>Like any Barnes & Noble, it has a nice comfy cafe, and a large selection of books.  The staff is very friendly and helpful.  They stock a decent selection, and the prices are pretty reasonable.  Obviously it's hard for them to compete with Amazon.  However since all the small shop bookstores are gone, it's nice to walk into one every once in a while."
            ],
            "text/plain": [
              "<IPython.core.display.HTML object>"
            ]
          },
          "metadata": {
            "tags": []
          }
        },
        {
          "output_type": "stream",
          "text": [
            "[Succeeded / Failed / Total] 5 / 5 / 10:  50%|█████     | 10/20 [02:17<02:17, 13.73s/it]"
          ],
          "name": "stderr"
        },
        {
          "output_type": "display_data",
          "data": {
            "text/html": [
              "<font color = red>1 (100%)</font> --> <font color = red>[FAILED]</font><br>Meh, I've experienced better is an understatement.\\n\\nFriday's is like the \\\"\"fine dining chain\\\"\" for every yinzer in Pittsburgh...\\n\\n1.  When we were seated, it was quick which was a surprise.  Somehow this restaurant gets packed and I never understand why.  I was happy about that.\\n2.  I ordered one of their \\\"\"skinny margaritas\\\"\", blackberry to be exact.  It was a nice size, however, at $6.00/pop, that was half of my food bill.\\n3.  The waitress started off attentive, but after our food came out she was gone.  I ordered a turkey burger with pickle and mustard.  Loaded mashed potato on the side because I wanted heartburn ha!\\n4.  Food came.  My burger had lettuce on it only.  Waitress was supposed to go and get our next round of drinks.  I had to wait to ask for my pickle.\\n5.  The loaded potatoes were more like rubber than potatoes and not what I was expecting.  Disappointment.\\n6.  The waitress then went into oblivion and only returned with our check.  \\n\\nNever again will I eat at Friday's.  I will, however, go should a happy hour arise..."
            ],
            "text/plain": [
              "<IPython.core.display.HTML object>"
            ]
          },
          "metadata": {
            "tags": []
          }
        },
        {
          "output_type": "stream",
          "text": [
            "[Succeeded / Failed / Total] 5 / 6 / 11:  55%|█████▌    | 11/20 [03:04<02:30, 16.74s/it]"
          ],
          "name": "stderr"
        },
        {
          "output_type": "display_data",
          "data": {
            "text/html": [
              "<font color = green>2 (100%)</font> --> <font color = red>1 (58%)</font><br>Unos has been around for ever, & <font color = green>I</font> feel like this restaurant chain peak in popularity in the 80's. <font color = green>Honestly</font> the decor <font color = green>inside</font> still kind of looks 80s to me even though its nice with sleek booth and <font color = green>exposed</font> brick.\\n\\nIf you haven't died and he recently I ordered you to <font color = green>come</font> back and have a meal here again because honestly the food is really quite <font color = green>good</font>!\\n\\nThey have the <font color = green>best</font> chicken salad wrap ever! I love that rap so <font color = green>much</font> I want agreed to walk the south side River Trail from where the Steelers practice all the way to the damn waterfront just because I <font color = green>knew</font> that I could convince my boyfriend to go to Unos with me for lunch.  Full disclosure:  I made him call is a cab and we took a taxi back to the parking lot after lunch.\\n\\nListen... The food and pizza and service are very good, surprisingly so! I don't <font color = green>know</font> why this place is not busier but next time you're down at the Waterfront please do consider dining here!<br>Unos has been around for ever, & <font color = red>we</font> feel like this restaurant chain peak in popularity in the 80's. <font color = red>rel</font> the decor <font color = red>as</font> still kind of looks 80s to me even though its nice with sleek booth and <font color = red>en</font> brick.\\n\\nIf you haven't died and he recently I ordered you to <font color = red>i</font> back and have a meal here again because honestly the food is really quite <font color = red>cho</font>!\\n\\nThey have the <font color = red>liest</font> chicken salad wrap ever! I love that rap so <font color = red>uil</font> I want agreed to walk the south side River Trail from where the Steelers practice all the way to the damn waterfront just because I <font color = red>hope</font> that I could convince my boyfriend to go to Unos with me for lunch.  Full disclosure:  I made him call is a cab and we took a taxi back to the parking lot after lunch.\\n\\nListen... The food and pizza and service are very good, surprisingly so! I don't <font color = red>say</font> why this place is not busier but next time you're down at the Waterfront please do consider dining here!"
            ],
            "text/plain": [
              "<IPython.core.display.HTML object>"
            ]
          },
          "metadata": {
            "tags": []
          }
        },
        {
          "output_type": "stream",
          "text": [
            "[Succeeded / Failed / Total] 6 / 6 / 12:  60%|██████    | 12/20 [03:24<02:16, 17.01s/it]"
          ],
          "name": "stderr"
        },
        {
          "output_type": "display_data",
          "data": {
            "text/html": [
              "<font color = red>1 (100%)</font> --> <font color = red>[FAILED]</font><br>Stars are for the food only.    2.5 rating\\n\\nGot there at 8pm on Saturday night, they told us it was an hour wait which was expected, but it only took 30minutes to be seated so that was a bonus.  Started off with the lettuce wraps and i used to be a fan of these but they just seem to bore me now(FYI-love the lettuce wraps at the cheesecake factory).  I had the Singapore rice noodles.  This was so so as i thought immediately that lu lu noodles and asian cafe are better.  The fried rice was disappointing and the vegetables tasted raw.   Some good notes were the Dynamite shrimp, plump, juicy, tangy with a small kick.    Sweet and sour chicken was just the same minus the kick. \\n\\nThe service was annoying.   We were there less than 45 minutes and it seemed like our waiter was in a rush to get us out of there.   Constantly asking if he could remove my plate.  I had to sternly say at one point that I will let you know when i am finished.  I found it rude especially since  there wasn't even a line at this point.  \\n\\nI think we will travel elsewhere following a movie.  The result never quite met the anticipation."
            ],
            "text/plain": [
              "<IPython.core.display.HTML object>"
            ]
          },
          "metadata": {
            "tags": []
          }
        },
        {
          "output_type": "stream",
          "text": [
            "[Succeeded / Failed / Total] 6 / 7 / 13:  65%|██████▌   | 13/20 [04:11<02:15, 19.37s/it]"
          ],
          "name": "stderr"
        },
        {
          "output_type": "display_data",
          "data": {
            "text/html": [
              "<font color = red>1 (100%)</font> --> <font color = red>[FAILED]</font><br>Our last few visits have left something to desire, One of the things I always notice is the demeanor of an establishments employees. These people look miserable, no one smiles or greets you appropriately, it's more like get in, get out, turn the tables,\\n\\nThe food has remained consistently good... when we can order it. the last time JB and I came for a quick dinner, the place was not busy yet we were passed by 6 frowning waitstaff without getting drinks... for 15 minutes we were left suiting at our table with our menus closed and sitting on the edge of the table (HINT, HINT) so we left and most likely will not be returning."
            ],
            "text/plain": [
              "<IPython.core.display.HTML object>"
            ]
          },
          "metadata": {
            "tags": []
          }
        },
        {
          "output_type": "stream",
          "text": [
            "[Succeeded / Failed / Total] 6 / 8 / 14:  70%|███████   | 14/20 [04:33<01:57, 19.54s/it]"
          ],
          "name": "stderr"
        },
        {
          "output_type": "display_data",
          "data": {
            "text/html": [
              "<font color = green>2 (100%)</font> --> <font color = red>1 (75%)</font><br>Good <font color = green>quality</font> pork fried dumpling and mongo beef.  Bar service was fast and Efficent.   <font color = green>Good</font> value.  Not a 5 cause dragon eye tea was cold first time around and beef had minor amount of fat.   Fortune was even Postive!<br>Good <font color = red>was</font> pork fried dumpling and mongo beef.  Bar service was fast and Efficent.   <font color = red>mbo</font> value.  Not a 5 cause dragon eye tea was cold first time around and beef had minor amount of fat.   Fortune was even Postive!"
            ],
            "text/plain": [
              "<IPython.core.display.HTML object>"
            ]
          },
          "metadata": {
            "tags": []
          }
        },
        {
          "output_type": "stream",
          "text": [
            "[Succeeded / Failed / Total] 7 / 8 / 15:  75%|███████▌  | 15/20 [04:36<01:32, 18.43s/it]"
          ],
          "name": "stderr"
        },
        {
          "output_type": "display_data",
          "data": {
            "text/html": [
              "<font color = red>1 (100%)</font> --> <font color = green>2 (65%)</font><br>Very <font color = red>bad</font> purchase experience. I bought a shirt with a hole covered in the rolled up sleeves, but they denied my request to return it. I am so angery at this and will <font color = red>never</font> shop their <font color = red>chothes</font> anymore.<br>Very <font color = green>good</font> purchase experience. I bought a shirt with a hole covered in the rolled up sleeves, but they denied my request to return it. I am so angery at this and will <font color = green>ever</font> shop their <font color = green>urse</font> anymore."
            ],
            "text/plain": [
              "<IPython.core.display.HTML object>"
            ]
          },
          "metadata": {
            "tags": []
          }
        },
        {
          "output_type": "stream",
          "text": [
            "[Succeeded / Failed / Total] 8 / 8 / 16:  80%|████████  | 16/20 [04:38<01:09, 17.43s/it]"
          ],
          "name": "stderr"
        },
        {
          "output_type": "display_data",
          "data": {
            "text/html": [
              "<font color = red>1 (100%)</font> --> <font color = green>2 (79%)</font><br>When I think BBB... I think the days of simply bringing your bike in for a quick and relatively inexpensive tune-up and a few fixes are long gone.    \\n\\nThis review is more for the repair end of BBB. In their defense BBB does <font color = red>appear</font> to carry some amazing brands of bike (ie Colnago) that you just don't find anywhere else in Pittsburgh. \\n\\nAt BBB I was <font color = red>charged</font> $250 for a tune up and a few other things. Granted this included installing a sew up tire (which I can understand would cost approx $50), Swapping out a left side (big ring) shifter on my down tube (this should have cost approx. $20 at most) and installing new bar tape (cost of tape $20 and $20 to install?).. SO WHAT\\\"\"S WITH $140 FOR A TUNE UP? Well the story goes like this:\\n\\nI bring the bike into BBB prior to the nice weather hitting Pittsburgh in hopes of trying what people have said is a great bike shop and getting my OCLV TREK 5900 ready for the season. Turns out I don't hear from these guys. A week goes by ...two weeks...I think that's ok I have two or three other bike I can turn to for a ride. Then I wind up going out of town for a week thinking for sure I'll get a call from them re: my bike is ready to roll...but no dice. So I call. Turns out a screw snapped when the mechanic was re-installing the down tube shifter and it had to be tapped out (is that my fault?). He says \\\"\"Should be ready in a few days\\\"\". So I come in a few days later to this mammoth bill. I ask if I am paying for the labor of taping out the screw? I don't think I ever got a straight answer? I look at the bill and can't see a good breakdown of the charges. Normally I would \\\"\"duke it over\\\"\" a bill like this but I figured...I had somewhere I to be 10 minutes ago and at least I finally have my bike. I would expect that for that money my bike could have been stripped down to the frame and totally gone over (overhauled). But it wasn't.  Well BBB I'll give you a star because the mechanic did do a good job in that my cycle shifts well and the tape job on the bars looks great (nice wrap). Plus I'll toss in a star for your outstanding selection of high end cycles. Maybe I would have rated BBB higher if I was in the market for a purchase instead of a simple repair?<br>When I think BBB... I think the days of simply bringing your bike in for a quick and relatively inexpensive tune-up and a few fixes are long gone.    \\n\\nThis review is more for the repair end of BBB. In their defense BBB does <font color = green>ilis</font> to carry some amazing brands of bike (ie Colnago) that you just don't find anywhere else in Pittsburgh. \\n\\nAt BBB I was <font color = green>ducted</font> $250 for a tune up and a few other things. Granted this included installing a sew up tire (which I can understand would cost approx $50), Swapping out a left side (big ring) shifter on my down tube (this should have cost approx. $20 at most) and installing new bar tape (cost of tape $20 and $20 to install?).. SO WHAT\\\"\"S WITH $140 FOR A TUNE UP? Well the story goes like this:\\n\\nI bring the bike into BBB prior to the nice weather hitting Pittsburgh in hopes of trying what people have said is a great bike shop and getting my OCLV TREK 5900 ready for the season. Turns out I don't hear from these guys. A week goes by ...two weeks...I think that's ok I have two or three other bike I can turn to for a ride. Then I wind up going out of town for a week thinking for sure I'll get a call from them re: my bike is ready to roll...but no dice. So I call. Turns out a screw snapped when the mechanic was re-installing the down tube shifter and it had to be tapped out (is that my fault?). He says \\\"\"Should be ready in a few days\\\"\". So I come in a few days later to this mammoth bill. I ask if I am paying for the labor of taping out the screw? I don't think I ever got a straight answer? I look at the bill and can't see a good breakdown of the charges. Normally I would \\\"\"duke it over\\\"\" a bill like this but I figured...I had somewhere I to be 10 minutes ago and at least I finally have my bike. I would expect that for that money my bike could have been stripped down to the frame and totally gone over (overhauled). But it wasn't.  Well BBB I'll give you a star because the mechanic did do a good job in that my cycle shifts well and the tape job on the bars looks great (nice wrap). Plus I'll toss in a star for your outstanding selection of high end cycles. Maybe I would have rated BBB higher if I was in the market for a purchase instead of a simple repair?"
            ],
            "text/plain": [
              "<IPython.core.display.HTML object>"
            ]
          },
          "metadata": {
            "tags": []
          }
        },
        {
          "output_type": "stream",
          "text": [
            "[Succeeded / Failed / Total] 9 / 8 / 17:  85%|████████▌ | 17/20 [04:50<00:51, 17.09s/it]"
          ],
          "name": "stderr"
        },
        {
          "output_type": "display_data",
          "data": {
            "text/html": [
              "<font color = red>1 (100%)</font> --> <font color = red>[FAILED]</font><br>My orders have come out bad pretty much every time I have ordered from here. The chicken nuggets come out under par. I'm lucky if the fries come out right. My last experience is the last straw. I recently posted a photo of my Chicken Ranch Club. That has no chicken. This is ridiculous. I am done going to this Mcd's."
            ],
            "text/plain": [
              "<IPython.core.display.HTML object>"
            ]
          },
          "metadata": {
            "tags": []
          }
        },
        {
          "output_type": "stream",
          "text": [
            "[Succeeded / Failed / Total] 9 / 9 / 18:  90%|█████████ | 18/20 [05:03<00:33, 16.84s/it]"
          ],
          "name": "stderr"
        },
        {
          "output_type": "display_data",
          "data": {
            "text/html": [
              "<font color = red>1 (100%)</font> --> <font color = red>[FAILED]</font><br>Wow. What a shame. My family just moved to the area and have been sampling the local cuisine. We are a very large family and love foods of all kind. We've eaten Chinese food from a hundred different places in a dozen different cities. Hands down, this was the worst we've ever had. Cold, tough, congealed, and tasteless - that's the only way to describe it. I'll never order from here again. Quite frankly, the fact that I took time away from my kids to type this out should tell you how awful it was. My complaints fell on deaf ears. I guess they were shocked that someone thought that they were serving low grade dog food. I understand that sometimes restaurants crank out bad food. It happens. But when it does, you bend over backwards to make it right. Not at this place. I was told that he would have to speak with the owner in order to help me. I guess that's how they deflect complaints - blame it on the owners that aren't there and make the customer for away angry.  Too bad. Because we will be visiting a competitor in the future. This family of 7 won't be visiting China Sea ever again. Oh, and by the way, why can't I give this place zero stars?"
            ],
            "text/plain": [
              "<IPython.core.display.HTML object>"
            ]
          },
          "metadata": {
            "tags": []
          }
        },
        {
          "output_type": "stream",
          "text": [
            "[Succeeded / Failed / Total] 9 / 10 / 19:  95%|█████████▌| 19/20 [05:49<00:18, 18.39s/it]"
          ],
          "name": "stderr"
        },
        {
          "output_type": "display_data",
          "data": {
            "text/html": [
              "<font color = green>2 (100%)</font> --> <font color = red>1 (58%)</font><br>I fell in love with this place as soon as we pulled up and saw the lights strung up and  oldies coming from the speakers! \\n\\nI tried the banana cream pie hard ice cream, their scoops are very <font color = green>generous</font>!! \\n\\nMy bf got the peach cobbler hard ice cream and that was to die for! We got 4 servings of ice cream for $10, which nowadays is a steal IMO! :) \\n\\nI'll <font color = green>definitely</font> be heading back with my coworkers this week!<br>I fell in love with this place as soon as we pulled up and saw the lights strung up and  oldies coming from the speakers! \\n\\nI tried the banana cream pie hard ice cream, their scoops are very <font color = red>ppy</font>!! \\n\\nMy bf got the peach cobbler hard ice cream and that was to die for! We got 4 servings of ice cream for $10, which nowadays is a steal IMO! :) \\n\\nI'll <font color = red>not</font> be heading back with my coworkers this week!"
            ],
            "text/plain": [
              "<IPython.core.display.HTML object>"
            ]
          },
          "metadata": {
            "tags": []
          }
        },
        {
          "output_type": "stream",
          "text": [
            "[Succeeded / Failed / Total] 10 / 10 / 20: 100%|██████████| 20/20 [05:51<00:00, 17.60s/it]"
          ],
          "name": "stderr"
        },
        {
          "output_type": "stream",
          "text": [
            "+-------------------------------+--------+\n",
            "| Attack Results                |        |\n",
            "+-------------------------------+--------+\n",
            "| Number of successful attacks: | 10     |\n",
            "| Number of failed attacks:     | 10     |\n",
            "| Number of skipped attacks:    | 0      |\n",
            "| Original accuracy:            | 100.0% |\n",
            "| Accuracy under attack:        | 50.0%  |\n",
            "| Attack success rate:          | 50.0%  |\n",
            "| Average perturbed word %:     | 4.77%  |\n",
            "| Average num. words per input: | 140.0  |\n",
            "| Avg num queries:              | 296.55 |\n",
            "+-------------------------------+--------+"
          ],
          "name": "stdout"
        },
        {
          "output_type": "stream",
          "text": [
            "\n",
            "\u001b[34;1mtextattack\u001b[0m: Attack time: 351.96931171417236s\n",
            "  0%|          | 0/25 [00:00<?, ?it/s]"
          ],
          "name": "stderr"
        },
        {
          "output_type": "stream",
          "text": [
            "Examples for n= 25\n",
            "Attack(\n",
            "  (search_method): GreedyWordSwapWIR(\n",
            "    (wir_method):  delete\n",
            "  )\n",
            "  (goal_function):  UntargetedClassification\n",
            "  (transformation):  WordSwapMaskedLM(\n",
            "    (method):  bae\n",
            "    (masked_lm_name):  BertForMaskedLM\n",
            "    (max_length):  512\n",
            "    (max_candidates):  50\n",
            "    (min_confidence):  0.0\n",
            "  )\n",
            "  (constraints): \n",
            "    (0): PartOfSpeech(\n",
            "        (tagger_type):  nltk\n",
            "        (tagset):  universal\n",
            "        (allow_verb_noun_swap):  True\n",
            "        (compare_against_original):  True\n",
            "      )\n",
            "    (1): UniversalSentenceEncoder(\n",
            "        (metric):  cosine\n",
            "        (threshold):  0.936338023\n",
            "        (window_size):  15\n",
            "        (skip_text_shorter_than_window):  True\n",
            "        (compare_against_original):  True\n",
            "      )\n",
            "    (2): RepeatModification\n",
            "    (3): StopwordModification\n",
            "  (is_black_box):  True\n",
            ")\n"
          ],
          "name": "stdout"
        },
        {
          "output_type": "display_data",
          "data": {
            "text/html": [
              "<font color = green>2 (100%)</font> --> <font color = red>1 (53%)</font><br>Contrary to other reviews, I have <font color = green>zero</font> complaints about the service or the prices. I have been getting tire service here for the past 5 years now, and compared to my experience with places like Pep Boys, these <font color = green>guys</font> are experienced and know what they're doing. \\nAlso, this is one place that I do not feel like I am being taken advantage of, just because of my gender. Other auto mechanics have been notorious for capitalizing on my ignorance of cars, and have sucked my bank account dry. <font color = green>But</font> here, my service and road coverage has all been <font color = green>well</font> explained - and let up to me to decide. \\nAnd they just renovated the waiting room. It looks a lot <font color = green>better</font> than it did in previous years.<br>Contrary to other reviews, I have <font color = red>ey</font> complaints about the service or the prices. I have been getting tire service here for the past 5 years now, and compared to my experience with places like Pep Boys, these <font color = red>rks</font> are experienced and know what they're doing. \\nAlso, this is one place that I do not feel like I am being taken advantage of, just because of my gender. Other auto mechanics have been notorious for capitalizing on my ignorance of cars, and have sucked my bank account dry. <font color = red>and</font> here, my service and road coverage has all been <font color = red>hly</font> explained - and let up to me to decide. \\nAnd they just renovated the waiting room. It looks a lot <font color = red>rro</font> than it did in previous years."
            ],
            "text/plain": [
              "<IPython.core.display.HTML object>"
            ]
          },
          "metadata": {
            "tags": []
          }
        },
        {
          "output_type": "stream",
          "text": [
            "[Succeeded / Failed / Total] 1 / 0 / 1:   4%|▍         | 1/25 [00:06<02:42,  6.77s/it]"
          ],
          "name": "stderr"
        },
        {
          "output_type": "display_data",
          "data": {
            "text/html": [
              "<font color = red>1 (100%)</font> --> <font color = red>[FAILED]</font><br>Last summer I had an appointment to get new tires and had to wait a super long time. I also went in this week for them to fix a minor problem with a tire they put on. They \\\"\"fixed\\\"\" it for free, and the very next morning I had the same issue. I called to complain, and the \\\"\"manager\\\"\" didn't even apologize!!! So frustrated. Never going back.  They seem overpriced, too."
            ],
            "text/plain": [
              "<IPython.core.display.HTML object>"
            ]
          },
          "metadata": {
            "tags": []
          }
        },
        {
          "output_type": "stream",
          "text": [
            "[Succeeded / Failed / Total] 1 / 1 / 2:   8%|▊         | 2/25 [00:19<03:46,  9.85s/it]"
          ],
          "name": "stderr"
        },
        {
          "output_type": "display_data",
          "data": {
            "text/html": [
              "<font color = green>2 (73%)</font> --> <font color = red>1 (94%)</font><br><font color = green>Friendly</font> staff, same starbucks fair you get anywhere else.  Sometimes the lines can get long.<br><font color = red>ller</font> staff, same starbucks fair you get anywhere else.  Sometimes the lines can get long."
            ],
            "text/plain": [
              "<IPython.core.display.HTML object>"
            ]
          },
          "metadata": {
            "tags": []
          }
        },
        {
          "output_type": "stream",
          "text": [
            "[Succeeded / Failed / Total] 2 / 1 / 3:  12%|█▏        | 3/25 [00:20<02:30,  6.85s/it]"
          ],
          "name": "stderr"
        },
        {
          "output_type": "display_data",
          "data": {
            "text/html": [
              "<font color = red>1 (98%)</font> --> <font color = green>2 (55%)</font><br><font color = red>The</font> food is good. <font color = red>Unfortunately</font> the service is very hit or miss. The main <font color = red>issue</font> seems to be with the kitchen, the waiters and waitresses are often very apologetic for the <font color = red>long</font> waits and it's pretty obvious that some of them avoid the tables after taking the initial <font color = red>order</font> to avoid hearing complaints.<br><font color = green>the</font> food is good. <font color = green>s</font> the service is very hit or miss. The main <font color = green>go</font> seems to be with the kitchen, the waiters and waitresses are often very apologetic for the <font color = green>less</font> waits and it's pretty obvious that some of them avoid the tables after taking the initial <font color = green>堂</font> to avoid hearing complaints."
            ],
            "text/plain": [
              "<IPython.core.display.HTML object>"
            ]
          },
          "metadata": {
            "tags": []
          }
        },
        {
          "output_type": "stream",
          "text": [
            "[Succeeded / Failed / Total] 3 / 1 / 4:  16%|█▌        | 4/25 [00:25<02:14,  6.41s/it]"
          ],
          "name": "stderr"
        },
        {
          "output_type": "display_data",
          "data": {
            "text/html": [
              "<font color = green>2 (100%)</font> --> <font color = red>[FAILED]</font><br>Even when we didn't have a car Filene's Basement was worth the bus trip to the Waterfront. I always find something (usually I find 3-4 things and spend about $60) and better still, I am always still wearing the clothes and shoes 3 months later. \\n\\nI kind of suspect this is the best shopping in Pittsburgh; it's much better than the usual department stores, better than Marshall's and TJ Maxx and better than the Saks downtown, even when it has a sale. Selection, bargains AND quality.\\n\\nI like this Filene's better than Gabriel Brothers, which are harder to get to. Gabriel Brothers are a real discount shopper's challenge and I'm afraid I didn't live in Pittsburgh long enough to develop the necessary skills . . . Filene's was still up and running in June 2007 when I left town."
            ],
            "text/plain": [
              "<IPython.core.display.HTML object>"
            ]
          },
          "metadata": {
            "tags": []
          }
        },
        {
          "output_type": "stream",
          "text": [
            "[Succeeded / Failed / Total] 3 / 2 / 5:  20%|██        | 5/25 [00:57<03:50, 11.51s/it]"
          ],
          "name": "stderr"
        },
        {
          "output_type": "display_data",
          "data": {
            "text/html": [
              "<font color = green>2 (100%)</font> --> <font color = red>1 (53%)</font><br>Picture Billy Joel's \\\"\"Piano Man\\\"\" DOUBLED mixed with beer, a rowdy crowd, and comedy - Welcome to Sing Sing!  A <font color = green>unique</font> musical experience found in Homestead.\\n\\nIf you're looking to grab a bite to eat or a beer, come on in!  Serving food and <font color = green>brews</font> from Rock Bottom Brewery, Sing Sing keeps your tummy full while you listen to two (or more) amazingly <font color = green>talented</font> pianists take your musical requests.  They'll play <font color = green>anything</font> you'd like, for tips of course.  Wanting to hear Britney Spears?  <font color = green>Toto</font>?  Duran Duran?  Yep, they play that... new or old.\\n\\nThe crowd <font color = green>makes</font> the show, so make sure you come ready for a good time.  <font color = green>If</font> the crowd is dead, it's harder for the Guys to get a reaction.  If you're <font color = green>wanting</font> to have some fun, it can be a GREAT time!  It's the <font color = green>perfect</font> place for Birthday parties - especially if you want to embarrass a friend.  The guys will bring them up to the pianos and perform a little ditty.  For being a good sport, you get the coveted Sing Sing bumper sticker.  Now who wouldn't want that?\\n\\nDueling Pianos and brews... time to Shut Up & Sing Sing!<br>Picture Billy Joel's \\\"\"Piano Man\\\"\" DOUBLED mixed with beer, a rowdy crowd, and comedy - Welcome to Sing Sing!  A <font color = red>ager</font> musical experience found in Homestead.\\n\\nIf you're looking to grab a bite to eat or a beer, come on in!  Serving food and <font color = red>icated</font> from Rock Bottom Brewery, Sing Sing keeps your tummy full while you listen to two (or more) amazingly <font color = red>sy</font> pianists take your musical requests.  They'll play <font color = red>tel</font> you'd like, for tips of course.  Wanting to hear Britney Spears?  <font color = red>di</font>?  Duran Duran?  Yep, they play that... new or old.\\n\\nThe crowd <font color = red>des</font> the show, so make sure you come ready for a good time.  <font color = red>ogen</font> the crowd is dead, it's harder for the Guys to get a reaction.  If you're <font color = red>going</font> to have some fun, it can be a GREAT time!  It's the <font color = red>right</font> place for Birthday parties - especially if you want to embarrass a friend.  The guys will bring them up to the pianos and perform a little ditty.  For being a good sport, you get the coveted Sing Sing bumper sticker.  Now who wouldn't want that?\\n\\nDueling Pianos and brews... time to Shut Up & Sing Sing!"
            ],
            "text/plain": [
              "<IPython.core.display.HTML object>"
            ]
          },
          "metadata": {
            "tags": []
          }
        },
        {
          "output_type": "stream",
          "text": [
            "[Succeeded / Failed / Total] 4 / 2 / 6:  24%|██▍       | 6/25 [01:10<03:42, 11.69s/it]"
          ],
          "name": "stderr"
        },
        {
          "output_type": "display_data",
          "data": {
            "text/html": [
              "<font color = red>1 (100%)</font> --> <font color = red>[FAILED]</font><br>Mediocre service. COLD food! Our food waited so long the lettuce & pickles wilted. Bland food. Crazy overpriced. Long waits in the arcade. 1 beer per hour maximum.  Avoid at all costs. Fair manager."
            ],
            "text/plain": [
              "<IPython.core.display.HTML object>"
            ]
          },
          "metadata": {
            "tags": []
          }
        },
        {
          "output_type": "stream",
          "text": [
            "[Succeeded / Failed / Total] 4 / 3 / 7:  28%|██▊       | 7/25 [01:18<03:21, 11.20s/it]"
          ],
          "name": "stderr"
        },
        {
          "output_type": "display_data",
          "data": {
            "text/html": [
              "<font color = red>1 (100%)</font> --> <font color = green>2 (57%)</font><br>Ok! Let me tell you about my bad experience first. <font color = red>I</font> went to D&B last night for a post wedding party - which, side note, is a great <font color = red>idea</font>!\\n\\nIt was around midnight and the bar wasn't really populated. There were three bartenders and only one was actually making rounds to see if anyone needed anything. The two other bartenders were chatting on the far side of the bar that no one was sitting at. Kind of counter productive if you ask me. \\n\\nI stood there for about 5 minutes, which for a busy bar is fine but when I am the only one with my card out then, it just seems a little ridiculous. I made eye contact with the one girl twice and gave her a smile and she literally turned away. I finally had to walk to them to <font color = red>get</font> their attention.  I was standing right in <font color = red>front</font> of them smiling and they didn't ask if i need anything. I <font color = red>finally</font> said, \\\"\"Are you working?\\\"\" and they gave each other a weird look. I felt like i was the crazy one. I asked for a beer/got the beer.\\n\\nIn between that time, the other bartender brought food over and set it down. She took a fry from the plate (right in front of me) and then served it to someone on the other side of the bar. What the hell! I felt like i was in some grimy bar in out in the sticks - not an established D&B. \\n\\nI was just really turned off from that experience. \\n\\nThe good is that D&B provides a different type of entertainment when you want to mix things up. I remember going here with my grandparents when I was a kid and it was the best treat ever! We would eat at the restaurant and then spend hours playing games. This place holds some really good memories for me. \\n\\nIt's a shame that my experience last night has spoiled the high standards I held for it.<br>Ok! Let me tell you about my bad experience first. <font color = green>we</font> went to D&B last night for a post wedding party - which, side note, is a great <font color = green>life</font>!\\n\\nIt was around midnight and the bar wasn't really populated. There were three bartenders and only one was actually making rounds to see if anyone needed anything. The two other bartenders were chatting on the far side of the bar that no one was sitting at. Kind of counter productive if you ask me. \\n\\nI stood there for about 5 minutes, which for a busy bar is fine but when I am the only one with my card out then, it just seems a little ridiculous. I made eye contact with the one girl twice and gave her a smile and she literally turned away. I finally had to walk to them to <font color = green>sius</font> their attention.  I was standing right in <font color = green>fin</font> of them smiling and they didn't ask if i need anything. I <font color = green>zily</font> said, \\\"\"Are you working?\\\"\" and they gave each other a weird look. I felt like i was the crazy one. I asked for a beer/got the beer.\\n\\nIn between that time, the other bartender brought food over and set it down. She took a fry from the plate (right in front of me) and then served it to someone on the other side of the bar. What the hell! I felt like i was in some grimy bar in out in the sticks - not an established D&B. \\n\\nI was just really turned off from that experience. \\n\\nThe good is that D&B provides a different type of entertainment when you want to mix things up. I remember going here with my grandparents when I was a kid and it was the best treat ever! We would eat at the restaurant and then spend hours playing games. This place holds some really good memories for me. \\n\\nIt's a shame that my experience last night has spoiled the high standards I held for it."
            ],
            "text/plain": [
              "<IPython.core.display.HTML object>"
            ]
          },
          "metadata": {
            "tags": []
          }
        },
        {
          "output_type": "stream",
          "text": [
            "[Succeeded / Failed / Total] 5 / 3 / 8:  32%|███▏      | 8/25 [01:31<03:15, 11.48s/it]"
          ],
          "name": "stderr"
        },
        {
          "output_type": "display_data",
          "data": {
            "text/html": [
              "<font color = red>1 (100%)</font> --> <font color = red>[FAILED]</font><br>I used to love D&B when it first opened in the Waterfront, but it has gone down hill over the years. The games are not as fun and do not give you as many tickets and the prizes have gotten cheaper in quality. It takes a whole heck of a lot of tickets for you to even get a pencil! The atmosphere is okay but it used to be so much better with the funnest games and diverse groups of people! Now, it is run down and many of the games are app related games (Fruit Ninja) and 3D Experience rides. With such \\\"\"games\\\"\", you can't even earn tickets and they take a lot of tokens! Last time I went, back in the winter, many of the games were broken, which made for a negative player experience. I would go to D&B to play some games again in the future, but it is no longer one of my favorite places to go due to the decline of fun games where you can earn tickets."
            ],
            "text/plain": [
              "<IPython.core.display.HTML object>"
            ]
          },
          "metadata": {
            "tags": []
          }
        },
        {
          "output_type": "stream",
          "text": [
            "[Succeeded / Failed / Total] 5 / 4 / 9:  36%|███▌      | 9/25 [02:07<03:46, 14.14s/it]"
          ],
          "name": "stderr"
        },
        {
          "output_type": "display_data",
          "data": {
            "text/html": [
              "<font color = green>2 (100%)</font> --> <font color = red>[FAILED]</font><br>Like any Barnes & Noble, it has a nice comfy cafe, and a large selection of books.  The staff is very friendly and helpful.  They stock a decent selection, and the prices are pretty reasonable.  Obviously it's hard for them to compete with Amazon.  However since all the small shop bookstores are gone, it's nice to walk into one every once in a while."
            ],
            "text/plain": [
              "<IPython.core.display.HTML object>"
            ]
          },
          "metadata": {
            "tags": []
          }
        },
        {
          "output_type": "stream",
          "text": [
            "[Succeeded / Failed / Total] 5 / 5 / 10:  40%|████      | 10/25 [02:17<03:26, 13.76s/it]"
          ],
          "name": "stderr"
        },
        {
          "output_type": "display_data",
          "data": {
            "text/html": [
              "<font color = red>1 (100%)</font> --> <font color = red>[FAILED]</font><br>Meh, I've experienced better is an understatement.\\n\\nFriday's is like the \\\"\"fine dining chain\\\"\" for every yinzer in Pittsburgh...\\n\\n1.  When we were seated, it was quick which was a surprise.  Somehow this restaurant gets packed and I never understand why.  I was happy about that.\\n2.  I ordered one of their \\\"\"skinny margaritas\\\"\", blackberry to be exact.  It was a nice size, however, at $6.00/pop, that was half of my food bill.\\n3.  The waitress started off attentive, but after our food came out she was gone.  I ordered a turkey burger with pickle and mustard.  Loaded mashed potato on the side because I wanted heartburn ha!\\n4.  Food came.  My burger had lettuce on it only.  Waitress was supposed to go and get our next round of drinks.  I had to wait to ask for my pickle.\\n5.  The loaded potatoes were more like rubber than potatoes and not what I was expecting.  Disappointment.\\n6.  The waitress then went into oblivion and only returned with our check.  \\n\\nNever again will I eat at Friday's.  I will, however, go should a happy hour arise..."
            ],
            "text/plain": [
              "<IPython.core.display.HTML object>"
            ]
          },
          "metadata": {
            "tags": []
          }
        },
        {
          "output_type": "stream",
          "text": [
            "[Succeeded / Failed / Total] 5 / 6 / 11:  44%|████▍     | 11/25 [03:04<03:55, 16.81s/it]"
          ],
          "name": "stderr"
        },
        {
          "output_type": "display_data",
          "data": {
            "text/html": [
              "<font color = green>2 (100%)</font> --> <font color = red>1 (58%)</font><br>Unos has been around for ever, & <font color = green>I</font> feel like this restaurant chain peak in popularity in the 80's. <font color = green>Honestly</font> the decor <font color = green>inside</font> still kind of looks 80s to me even though its nice with sleek booth and <font color = green>exposed</font> brick.\\n\\nIf you haven't died and he recently I ordered you to <font color = green>come</font> back and have a meal here again because honestly the food is really quite <font color = green>good</font>!\\n\\nThey have the <font color = green>best</font> chicken salad wrap ever! I love that rap so <font color = green>much</font> I want agreed to walk the south side River Trail from where the Steelers practice all the way to the damn waterfront just because I <font color = green>knew</font> that I could convince my boyfriend to go to Unos with me for lunch.  Full disclosure:  I made him call is a cab and we took a taxi back to the parking lot after lunch.\\n\\nListen... The food and pizza and service are very good, surprisingly so! I don't <font color = green>know</font> why this place is not busier but next time you're down at the Waterfront please do consider dining here!<br>Unos has been around for ever, & <font color = red>we</font> feel like this restaurant chain peak in popularity in the 80's. <font color = red>rel</font> the decor <font color = red>as</font> still kind of looks 80s to me even though its nice with sleek booth and <font color = red>en</font> brick.\\n\\nIf you haven't died and he recently I ordered you to <font color = red>i</font> back and have a meal here again because honestly the food is really quite <font color = red>cho</font>!\\n\\nThey have the <font color = red>liest</font> chicken salad wrap ever! I love that rap so <font color = red>uil</font> I want agreed to walk the south side River Trail from where the Steelers practice all the way to the damn waterfront just because I <font color = red>hope</font> that I could convince my boyfriend to go to Unos with me for lunch.  Full disclosure:  I made him call is a cab and we took a taxi back to the parking lot after lunch.\\n\\nListen... The food and pizza and service are very good, surprisingly so! I don't <font color = red>say</font> why this place is not busier but next time you're down at the Waterfront please do consider dining here!"
            ],
            "text/plain": [
              "<IPython.core.display.HTML object>"
            ]
          },
          "metadata": {
            "tags": []
          }
        },
        {
          "output_type": "stream",
          "text": [
            "[Succeeded / Failed / Total] 6 / 6 / 12:  48%|████▊     | 12/25 [03:25<03:42, 17.09s/it]"
          ],
          "name": "stderr"
        },
        {
          "output_type": "display_data",
          "data": {
            "text/html": [
              "<font color = red>1 (100%)</font> --> <font color = red>[FAILED]</font><br>Stars are for the food only.    2.5 rating\\n\\nGot there at 8pm on Saturday night, they told us it was an hour wait which was expected, but it only took 30minutes to be seated so that was a bonus.  Started off with the lettuce wraps and i used to be a fan of these but they just seem to bore me now(FYI-love the lettuce wraps at the cheesecake factory).  I had the Singapore rice noodles.  This was so so as i thought immediately that lu lu noodles and asian cafe are better.  The fried rice was disappointing and the vegetables tasted raw.   Some good notes were the Dynamite shrimp, plump, juicy, tangy with a small kick.    Sweet and sour chicken was just the same minus the kick. \\n\\nThe service was annoying.   We were there less than 45 minutes and it seemed like our waiter was in a rush to get us out of there.   Constantly asking if he could remove my plate.  I had to sternly say at one point that I will let you know when i am finished.  I found it rude especially since  there wasn't even a line at this point.  \\n\\nI think we will travel elsewhere following a movie.  The result never quite met the anticipation."
            ],
            "text/plain": [
              "<IPython.core.display.HTML object>"
            ]
          },
          "metadata": {
            "tags": []
          }
        },
        {
          "output_type": "stream",
          "text": [
            "[Succeeded / Failed / Total] 6 / 7 / 13:  52%|█████▏    | 13/25 [04:12<03:53, 19.44s/it]"
          ],
          "name": "stderr"
        },
        {
          "output_type": "display_data",
          "data": {
            "text/html": [
              "<font color = red>1 (100%)</font> --> <font color = red>[FAILED]</font><br>Our last few visits have left something to desire, One of the things I always notice is the demeanor of an establishments employees. These people look miserable, no one smiles or greets you appropriately, it's more like get in, get out, turn the tables,\\n\\nThe food has remained consistently good... when we can order it. the last time JB and I came for a quick dinner, the place was not busy yet we were passed by 6 frowning waitstaff without getting drinks... for 15 minutes we were left suiting at our table with our menus closed and sitting on the edge of the table (HINT, HINT) so we left and most likely will not be returning."
            ],
            "text/plain": [
              "<IPython.core.display.HTML object>"
            ]
          },
          "metadata": {
            "tags": []
          }
        },
        {
          "output_type": "stream",
          "text": [
            "[Succeeded / Failed / Total] 6 / 8 / 14:  56%|█████▌    | 14/25 [04:35<03:36, 19.65s/it]"
          ],
          "name": "stderr"
        },
        {
          "output_type": "display_data",
          "data": {
            "text/html": [
              "<font color = green>2 (100%)</font> --> <font color = red>1 (75%)</font><br>Good <font color = green>quality</font> pork fried dumpling and mongo beef.  Bar service was fast and Efficent.   <font color = green>Good</font> value.  Not a 5 cause dragon eye tea was cold first time around and beef had minor amount of fat.   Fortune was even Postive!<br>Good <font color = red>was</font> pork fried dumpling and mongo beef.  Bar service was fast and Efficent.   <font color = red>mbo</font> value.  Not a 5 cause dragon eye tea was cold first time around and beef had minor amount of fat.   Fortune was even Postive!"
            ],
            "text/plain": [
              "<IPython.core.display.HTML object>"
            ]
          },
          "metadata": {
            "tags": []
          }
        },
        {
          "output_type": "stream",
          "text": [
            "[Succeeded / Failed / Total] 7 / 8 / 15:  60%|██████    | 15/25 [04:37<03:05, 18.51s/it]"
          ],
          "name": "stderr"
        },
        {
          "output_type": "display_data",
          "data": {
            "text/html": [
              "<font color = red>1 (100%)</font> --> <font color = green>2 (65%)</font><br>Very <font color = red>bad</font> purchase experience. I bought a shirt with a hole covered in the rolled up sleeves, but they denied my request to return it. I am so angery at this and will <font color = red>never</font> shop their <font color = red>chothes</font> anymore.<br>Very <font color = green>good</font> purchase experience. I bought a shirt with a hole covered in the rolled up sleeves, but they denied my request to return it. I am so angery at this and will <font color = green>ever</font> shop their <font color = green>urse</font> anymore."
            ],
            "text/plain": [
              "<IPython.core.display.HTML object>"
            ]
          },
          "metadata": {
            "tags": []
          }
        },
        {
          "output_type": "stream",
          "text": [
            "[Succeeded / Failed / Total] 8 / 8 / 16:  64%|██████▍   | 16/25 [04:40<02:37, 17.52s/it]"
          ],
          "name": "stderr"
        },
        {
          "output_type": "display_data",
          "data": {
            "text/html": [
              "<font color = red>1 (100%)</font> --> <font color = green>2 (79%)</font><br>When I think BBB... I think the days of simply bringing your bike in for a quick and relatively inexpensive tune-up and a few fixes are long gone.    \\n\\nThis review is more for the repair end of BBB. In their defense BBB does <font color = red>appear</font> to carry some amazing brands of bike (ie Colnago) that you just don't find anywhere else in Pittsburgh. \\n\\nAt BBB I was <font color = red>charged</font> $250 for a tune up and a few other things. Granted this included installing a sew up tire (which I can understand would cost approx $50), Swapping out a left side (big ring) shifter on my down tube (this should have cost approx. $20 at most) and installing new bar tape (cost of tape $20 and $20 to install?).. SO WHAT\\\"\"S WITH $140 FOR A TUNE UP? Well the story goes like this:\\n\\nI bring the bike into BBB prior to the nice weather hitting Pittsburgh in hopes of trying what people have said is a great bike shop and getting my OCLV TREK 5900 ready for the season. Turns out I don't hear from these guys. A week goes by ...two weeks...I think that's ok I have two or three other bike I can turn to for a ride. Then I wind up going out of town for a week thinking for sure I'll get a call from them re: my bike is ready to roll...but no dice. So I call. Turns out a screw snapped when the mechanic was re-installing the down tube shifter and it had to be tapped out (is that my fault?). He says \\\"\"Should be ready in a few days\\\"\". So I come in a few days later to this mammoth bill. I ask if I am paying for the labor of taping out the screw? I don't think I ever got a straight answer? I look at the bill and can't see a good breakdown of the charges. Normally I would \\\"\"duke it over\\\"\" a bill like this but I figured...I had somewhere I to be 10 minutes ago and at least I finally have my bike. I would expect that for that money my bike could have been stripped down to the frame and totally gone over (overhauled). But it wasn't.  Well BBB I'll give you a star because the mechanic did do a good job in that my cycle shifts well and the tape job on the bars looks great (nice wrap). Plus I'll toss in a star for your outstanding selection of high end cycles. Maybe I would have rated BBB higher if I was in the market for a purchase instead of a simple repair?<br>When I think BBB... I think the days of simply bringing your bike in for a quick and relatively inexpensive tune-up and a few fixes are long gone.    \\n\\nThis review is more for the repair end of BBB. In their defense BBB does <font color = green>ilis</font> to carry some amazing brands of bike (ie Colnago) that you just don't find anywhere else in Pittsburgh. \\n\\nAt BBB I was <font color = green>ducted</font> $250 for a tune up and a few other things. Granted this included installing a sew up tire (which I can understand would cost approx $50), Swapping out a left side (big ring) shifter on my down tube (this should have cost approx. $20 at most) and installing new bar tape (cost of tape $20 and $20 to install?).. SO WHAT\\\"\"S WITH $140 FOR A TUNE UP? Well the story goes like this:\\n\\nI bring the bike into BBB prior to the nice weather hitting Pittsburgh in hopes of trying what people have said is a great bike shop and getting my OCLV TREK 5900 ready for the season. Turns out I don't hear from these guys. A week goes by ...two weeks...I think that's ok I have two or three other bike I can turn to for a ride. Then I wind up going out of town for a week thinking for sure I'll get a call from them re: my bike is ready to roll...but no dice. So I call. Turns out a screw snapped when the mechanic was re-installing the down tube shifter and it had to be tapped out (is that my fault?). He says \\\"\"Should be ready in a few days\\\"\". So I come in a few days later to this mammoth bill. I ask if I am paying for the labor of taping out the screw? I don't think I ever got a straight answer? I look at the bill and can't see a good breakdown of the charges. Normally I would \\\"\"duke it over\\\"\" a bill like this but I figured...I had somewhere I to be 10 minutes ago and at least I finally have my bike. I would expect that for that money my bike could have been stripped down to the frame and totally gone over (overhauled). But it wasn't.  Well BBB I'll give you a star because the mechanic did do a good job in that my cycle shifts well and the tape job on the bars looks great (nice wrap). Plus I'll toss in a star for your outstanding selection of high end cycles. Maybe I would have rated BBB higher if I was in the market for a purchase instead of a simple repair?"
            ],
            "text/plain": [
              "<IPython.core.display.HTML object>"
            ]
          },
          "metadata": {
            "tags": []
          }
        },
        {
          "output_type": "stream",
          "text": [
            "[Succeeded / Failed / Total] 9 / 8 / 17:  68%|██████▊   | 17/25 [04:51<02:17, 17.17s/it]"
          ],
          "name": "stderr"
        },
        {
          "output_type": "display_data",
          "data": {
            "text/html": [
              "<font color = red>1 (100%)</font> --> <font color = red>[FAILED]</font><br>My orders have come out bad pretty much every time I have ordered from here. The chicken nuggets come out under par. I'm lucky if the fries come out right. My last experience is the last straw. I recently posted a photo of my Chicken Ranch Club. That has no chicken. This is ridiculous. I am done going to this Mcd's."
            ],
            "text/plain": [
              "<IPython.core.display.HTML object>"
            ]
          },
          "metadata": {
            "tags": []
          }
        },
        {
          "output_type": "stream",
          "text": [
            "[Succeeded / Failed / Total] 9 / 9 / 18:  72%|███████▏  | 18/25 [05:04<01:58, 16.92s/it]"
          ],
          "name": "stderr"
        },
        {
          "output_type": "display_data",
          "data": {
            "text/html": [
              "<font color = red>1 (100%)</font> --> <font color = red>[FAILED]</font><br>Wow. What a shame. My family just moved to the area and have been sampling the local cuisine. We are a very large family and love foods of all kind. We've eaten Chinese food from a hundred different places in a dozen different cities. Hands down, this was the worst we've ever had. Cold, tough, congealed, and tasteless - that's the only way to describe it. I'll never order from here again. Quite frankly, the fact that I took time away from my kids to type this out should tell you how awful it was. My complaints fell on deaf ears. I guess they were shocked that someone thought that they were serving low grade dog food. I understand that sometimes restaurants crank out bad food. It happens. But when it does, you bend over backwards to make it right. Not at this place. I was told that he would have to speak with the owner in order to help me. I guess that's how they deflect complaints - blame it on the owners that aren't there and make the customer for away angry.  Too bad. Because we will be visiting a competitor in the future. This family of 7 won't be visiting China Sea ever again. Oh, and by the way, why can't I give this place zero stars?"
            ],
            "text/plain": [
              "<IPython.core.display.HTML object>"
            ]
          },
          "metadata": {
            "tags": []
          }
        },
        {
          "output_type": "stream",
          "text": [
            "[Succeeded / Failed / Total] 9 / 10 / 19:  76%|███████▌  | 19/25 [05:51<01:50, 18.49s/it]"
          ],
          "name": "stderr"
        },
        {
          "output_type": "display_data",
          "data": {
            "text/html": [
              "<font color = green>2 (100%)</font> --> <font color = red>1 (58%)</font><br>I fell in love with this place as soon as we pulled up and saw the lights strung up and  oldies coming from the speakers! \\n\\nI tried the banana cream pie hard ice cream, their scoops are very <font color = green>generous</font>!! \\n\\nMy bf got the peach cobbler hard ice cream and that was to die for! We got 4 servings of ice cream for $10, which nowadays is a steal IMO! :) \\n\\nI'll <font color = green>definitely</font> be heading back with my coworkers this week!<br>I fell in love with this place as soon as we pulled up and saw the lights strung up and  oldies coming from the speakers! \\n\\nI tried the banana cream pie hard ice cream, their scoops are very <font color = red>ppy</font>!! \\n\\nMy bf got the peach cobbler hard ice cream and that was to die for! We got 4 servings of ice cream for $10, which nowadays is a steal IMO! :) \\n\\nI'll <font color = red>not</font> be heading back with my coworkers this week!"
            ],
            "text/plain": [
              "<IPython.core.display.HTML object>"
            ]
          },
          "metadata": {
            "tags": []
          }
        },
        {
          "output_type": "stream",
          "text": [
            "[Succeeded / Failed / Total] 10 / 10 / 20:  80%|████████  | 20/25 [05:53<01:28, 17.69s/it]"
          ],
          "name": "stderr"
        },
        {
          "output_type": "display_data",
          "data": {
            "text/html": [
              "<font color = green>2 (100%)</font> --> <font color = red>[FAILED]</font><br>This is by far, the BEST soft serve ice cream place in southwestern PA. The \\\"\"flavor of the week\\\"\" is always interesting-and tasty! Though, I am somewhat disappointed that they've switched to a lower grade ice milk, for their vanilla and chocolate offerings. I don't know if this is a matter of cutting corners, or if the better stuff simply isn't available any longer. Either way, this place is still leaps and bounds ahead of DQ, Tastee Freeze, etc. It's definitely worth the trip. It's mostly street parking, though they do have about 3-4 parking spaces off to the side. Serving sizes are huge! The small cone here, is the same size as a DQ large. And the large is SO big, they can't fit it through the window-they hand it out the side door.\\n\\nIf you want a real \\\"\"Kodak moment\\\"\"-order a large cone for the kids, and keep the camera, and wet wipes handy!"
            ],
            "text/plain": [
              "<IPython.core.display.HTML object>"
            ]
          },
          "metadata": {
            "tags": []
          }
        },
        {
          "output_type": "stream",
          "text": [
            "[Succeeded / Failed / Total] 10 / 11 / 21:  84%|████████▍ | 21/25 [06:30<01:14, 18.58s/it]"
          ],
          "name": "stderr"
        },
        {
          "output_type": "display_data",
          "data": {
            "text/html": [
              "<font color = green>2 (100%)</font> --> <font color = red>[FAILED]</font><br>This is my go-to distributer. They have a great selection and lots of hard to find brews. I haven't noticed that it's any more expensive than going elsewhere but honestly if I don't buy here then I'm buying six packs which as we all know are a huuugggge rip off. So any time I have a case of something I love I feel like I'm getting a bargain. The cold selection does suck so I try to plan ahead and have what I need already cold. Staff here are all very helpful- and will have recommendations if you ask."
            ],
            "text/plain": [
              "<IPython.core.display.HTML object>"
            ]
          },
          "metadata": {
            "tags": []
          }
        },
        {
          "output_type": "stream",
          "text": [
            "[Succeeded / Failed / Total] 10 / 12 / 22:  88%|████████▊ | 22/25 [06:48<00:55, 18.55s/it]"
          ],
          "name": "stderr"
        },
        {
          "output_type": "display_data",
          "data": {
            "text/html": [
              "<font color = green>2 (100%)</font> --> <font color = red>[FAILED]</font><br>Love this beer distributor.  They always have what I'm looking for. The workers are extremely nice and always willing to help. Best one I've seen by far."
            ],
            "text/plain": [
              "<IPython.core.display.HTML object>"
            ]
          },
          "metadata": {
            "tags": []
          }
        },
        {
          "output_type": "stream",
          "text": [
            "[Succeeded / Failed / Total] 10 / 13 / 23:  92%|█████████▏| 23/25 [06:53<00:35, 17.97s/it]"
          ],
          "name": "stderr"
        },
        {
          "output_type": "display_data",
          "data": {
            "text/html": [
              "<font color = red>1 (100%)</font> --> <font color = green>2 (51%)</font><br>Went here with a gift <font color = red>card</font> from the restaurant week photo competition. \\n\\nWe were one of two tables there and a <font color = red>bunch</font> of staff showing up during the meal. \\n\\<font color = red>nOur</font> waitress was good, but that couldn't save the <font color = red>food</font>.\\n\\nThe meal started out with some what I <font color = red>guess</font> used to be foccacia.  I say used to be because it no longer represented anything other than long pieces of brick or bark very stale and <font color = red>tasteless</font>.\\n\\nWe ordered the vegetable board which was probably the best thing we ordered with light and bright vegetables perfectly cooked and paired with two delicious sauces. \\n\\nThen we <font color = red>ordered</font> the octopus which was fine, but very cold and the octopus had little to no <font color = red>flavor</font>, being overwhelmed by the citrus in the dish. \\n\\nThe tuscan wings were ok, but they were really ordered for my husband who seemed to enjoy them. \\n\\nFinally the diver scallops.  This dish was <font color = red>indeible</font>.  The scallops were very overcooked and the pea puree was so minty I was unable to eat it. We sent it back and they did take off half of the price (weren't expecting anything just didn't want to eat it). \\n\\nAfter that we decided against dessert and left.  I probably will not return.<br>Went here with a gift <font color = green>cards</font> from the restaurant week photo competition. \\n\\nWe were one of two tables there and a <font color = green>ridge</font> of staff showing up during the meal. \\n\\<font color = green>nte</font> waitress was good, but that couldn't save the <font color = green>vor</font>.\\n\\nThe meal started out with some what I <font color = green>i</font> used to be foccacia.  I say used to be because it no longer represented anything other than long pieces of brick or bark very stale and <font color = green>bio</font>.\\n\\nWe ordered the vegetable board which was probably the best thing we ordered with light and bright vegetables perfectly cooked and paired with two delicious sauces. \\n\\nThen we <font color = green>rated</font> the octopus which was fine, but very cold and the octopus had little to no <font color = green>mis</font>, being overwhelmed by the citrus in the dish. \\n\\nThe tuscan wings were ok, but they were really ordered for my husband who seemed to enjoy them. \\n\\nFinally the diver scallops.  This dish was <font color = green>ious</font>.  The scallops were very overcooked and the pea puree was so minty I was unable to eat it. We sent it back and they did take off half of the price (weren't expecting anything just didn't want to eat it). \\n\\nAfter that we decided against dessert and left.  I probably will not return."
            ],
            "text/plain": [
              "<IPython.core.display.HTML object>"
            ]
          },
          "metadata": {
            "tags": []
          }
        },
        {
          "output_type": "stream",
          "text": [
            "[Succeeded / Failed / Total] 11 / 13 / 24:  96%|█████████▌| 24/25 [07:08<00:17, 17.86s/it]"
          ],
          "name": "stderr"
        },
        {
          "output_type": "display_data",
          "data": {
            "text/html": [
              "<font color = red>1 (100%)</font> --> <font color = red>[FAILED]</font><br>I went there today! The cut was terrible! I have an awful experience. They lady that cut my hair was nice but she wanted to leave early so she made a disaster in my head!"
            ],
            "text/plain": [
              "<IPython.core.display.HTML object>"
            ]
          },
          "metadata": {
            "tags": []
          }
        },
        {
          "output_type": "stream",
          "text": [
            "[Succeeded / Failed / Total] 11 / 14 / 25: 100%|██████████| 25/25 [07:15<00:00, 17.40s/it]"
          ],
          "name": "stderr"
        },
        {
          "output_type": "stream",
          "text": [
            "+-------------------------------+--------+\n",
            "| Attack Results                |        |\n",
            "+-------------------------------+--------+\n",
            "| Number of successful attacks: | 11     |\n",
            "| Number of failed attacks:     | 14     |\n",
            "| Number of skipped attacks:    | 0      |\n",
            "| Original accuracy:            | 100.0% |\n",
            "| Accuracy under attack:        | 56.0%  |\n",
            "| Attack success rate:          | 44.0%  |\n",
            "| Average perturbed word %:     | 4.72%  |\n",
            "| Average num. words per input: | 133.36 |\n",
            "| Avg num queries:              | 287.24 |\n",
            "+-------------------------------+--------+"
          ],
          "name": "stdout"
        },
        {
          "output_type": "stream",
          "text": [
            "\n",
            "\u001b[34;1mtextattack\u001b[0m: Attack time: 435.0749018192291s\n"
          ],
          "name": "stderr"
        }
      ]
    }
  ]
}