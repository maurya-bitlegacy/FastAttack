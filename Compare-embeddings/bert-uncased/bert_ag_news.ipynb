{
  "nbformat": 4,
  "nbformat_minor": 0,
  "metadata": {
    "colab": {
      "name": "bert-ag news",
      "provenance": [],
      "collapsed_sections": [],
      "toc_visible": true
    },
    "kernelspec": {
      "name": "python3",
      "display_name": "Python 3"
    },
    "language_info": {
      "name": "python"
    },
    "accelerator": "GPU"
  },
  "cells": [
    {
      "cell_type": "code",
      "metadata": {
        "colab": {
          "base_uri": "https://localhost:8080/"
        },
        "id": "Tjsl5_TPD5p-",
        "outputId": "eeea1e36-8ba2-4442-982e-7b265218c77a"
      },
      "source": [
        "from google.colab import drive\n",
        "drive.mount('/content/drive')"
      ],
      "execution_count": 1,
      "outputs": [
        {
          "output_type": "stream",
          "text": [
            "Drive already mounted at /content/drive; to attempt to forcibly remount, call drive.mount(\"/content/drive\", force_remount=True).\n"
          ],
          "name": "stdout"
        }
      ]
    },
    {
      "cell_type": "markdown",
      "metadata": {
        "id": "35YsotQWRREJ"
      },
      "source": [
        "#Installing libraries"
      ]
    },
    {
      "cell_type": "code",
      "metadata": {
        "id": "hZeIFn6iC9FF",
        "colab": {
          "base_uri": "https://localhost:8080/"
        },
        "outputId": "7f56c571-4c6e-42eb-9056-4e794e80951b"
      },
      "source": [
        "!pip install textattack\n",
        "!pip install -U gensim==4.0.0\n",
        "!pip install python-Levenshtein"
      ],
      "execution_count": 2,
      "outputs": [
        {
          "output_type": "stream",
          "text": [
            "Requirement already satisfied: textattack in /usr/local/lib/python3.7/dist-packages (0.2.15)\n",
            "Requirement already satisfied: pandas>=1.0.1 in /usr/local/lib/python3.7/dist-packages (from textattack) (1.1.5)\n",
            "Requirement already satisfied: scipy==1.4.1 in /usr/local/lib/python3.7/dist-packages (from textattack) (1.4.1)\n",
            "Requirement already satisfied: lru-dict in /usr/local/lib/python3.7/dist-packages (from textattack) (1.1.7)\n",
            "Requirement already satisfied: terminaltables in /usr/local/lib/python3.7/dist-packages (from textattack) (3.1.0)\n",
            "Requirement already satisfied: word2number in /usr/local/lib/python3.7/dist-packages (from textattack) (1.1)\n",
            "Requirement already satisfied: language-tool-python in /usr/local/lib/python3.7/dist-packages (from textattack) (2.5.3)\n",
            "Requirement already satisfied: numpy<1.19.0 in /usr/local/lib/python3.7/dist-packages (from textattack) (1.18.5)\n",
            "Requirement already satisfied: PySocks!=1.5.7,>=1.5.6 in /usr/local/lib/python3.7/dist-packages (from textattack) (1.7.1)\n",
            "Requirement already satisfied: filelock in /usr/local/lib/python3.7/dist-packages (from textattack) (3.0.12)\n",
            "Requirement already satisfied: nltk in /usr/local/lib/python3.7/dist-packages (from textattack) (3.2.5)\n",
            "Requirement already satisfied: torch in /usr/local/lib/python3.7/dist-packages (from textattack) (1.8.1+cu101)\n",
            "Requirement already satisfied: editdistance in /usr/local/lib/python3.7/dist-packages (from textattack) (0.5.3)\n",
            "Requirement already satisfied: datasets in /usr/local/lib/python3.7/dist-packages (from textattack) (1.6.2)\n",
            "Requirement already satisfied: num2words in /usr/local/lib/python3.7/dist-packages (from textattack) (0.5.10)\n",
            "Requirement already satisfied: transformers>=3.3.0 in /usr/local/lib/python3.7/dist-packages (from textattack) (4.5.1)\n",
            "Requirement already satisfied: flair==0.6.1.post1 in /usr/local/lib/python3.7/dist-packages (from textattack) (0.6.1.post1)\n",
            "Requirement already satisfied: bert-score>=0.3.5 in /usr/local/lib/python3.7/dist-packages (from textattack) (0.3.9)\n",
            "Requirement already satisfied: lemminflect in /usr/local/lib/python3.7/dist-packages (from textattack) (0.2.2)\n",
            "Requirement already satisfied: more-itertools in /usr/local/lib/python3.7/dist-packages (from textattack) (8.7.0)\n",
            "Requirement already satisfied: tqdm<4.50.0,>=4.27 in /usr/local/lib/python3.7/dist-packages (from textattack) (4.41.1)\n",
            "Requirement already satisfied: pytz>=2017.2 in /usr/local/lib/python3.7/dist-packages (from pandas>=1.0.1->textattack) (2018.9)\n",
            "Requirement already satisfied: python-dateutil>=2.7.3 in /usr/local/lib/python3.7/dist-packages (from pandas>=1.0.1->textattack) (2.8.1)\n",
            "Requirement already satisfied: requests in /usr/local/lib/python3.7/dist-packages (from language-tool-python->textattack) (2.23.0)\n",
            "Requirement already satisfied: six in /usr/local/lib/python3.7/dist-packages (from nltk->textattack) (1.15.0)\n",
            "Requirement already satisfied: typing-extensions in /usr/local/lib/python3.7/dist-packages (from torch->textattack) (3.7.4.3)\n",
            "Requirement already satisfied: dill in /usr/local/lib/python3.7/dist-packages (from datasets->textattack) (0.3.3)\n",
            "Requirement already satisfied: fsspec in /usr/local/lib/python3.7/dist-packages (from datasets->textattack) (2021.4.0)\n",
            "Requirement already satisfied: multiprocess in /usr/local/lib/python3.7/dist-packages (from datasets->textattack) (0.70.11.1)\n",
            "Requirement already satisfied: huggingface-hub<0.1.0 in /usr/local/lib/python3.7/dist-packages (from datasets->textattack) (0.0.8)\n",
            "Requirement already satisfied: importlib-metadata; python_version < \"3.8\" in /usr/local/lib/python3.7/dist-packages (from datasets->textattack) (3.10.1)\n",
            "Requirement already satisfied: packaging in /usr/local/lib/python3.7/dist-packages (from datasets->textattack) (20.9)\n",
            "Requirement already satisfied: pyarrow>=1.0.0<4.0.0 in /usr/local/lib/python3.7/dist-packages (from datasets->textattack) (3.0.0)\n",
            "Requirement already satisfied: xxhash in /usr/local/lib/python3.7/dist-packages (from datasets->textattack) (2.0.2)\n",
            "Requirement already satisfied: docopt>=0.6.2 in /usr/local/lib/python3.7/dist-packages (from num2words->textattack) (0.6.2)\n",
            "Requirement already satisfied: regex!=2019.12.17 in /usr/local/lib/python3.7/dist-packages (from transformers>=3.3.0->textattack) (2019.12.20)\n",
            "Requirement already satisfied: tokenizers<0.11,>=0.10.1 in /usr/local/lib/python3.7/dist-packages (from transformers>=3.3.0->textattack) (0.10.2)\n",
            "Requirement already satisfied: sacremoses in /usr/local/lib/python3.7/dist-packages (from transformers>=3.3.0->textattack) (0.0.45)\n",
            "Requirement already satisfied: gensim>=3.4.0 in /usr/local/lib/python3.7/dist-packages (from flair==0.6.1.post1->textattack) (4.0.0)\n",
            "Requirement already satisfied: tabulate in /usr/local/lib/python3.7/dist-packages (from flair==0.6.1.post1->textattack) (0.8.9)\n",
            "Requirement already satisfied: lxml in /usr/local/lib/python3.7/dist-packages (from flair==0.6.1.post1->textattack) (4.2.6)\n",
            "Requirement already satisfied: deprecated>=1.2.4 in /usr/local/lib/python3.7/dist-packages (from flair==0.6.1.post1->textattack) (1.2.12)\n",
            "Requirement already satisfied: matplotlib>=2.2.3 in /usr/local/lib/python3.7/dist-packages (from flair==0.6.1.post1->textattack) (3.2.2)\n",
            "Requirement already satisfied: hyperopt>=0.1.1 in /usr/local/lib/python3.7/dist-packages (from flair==0.6.1.post1->textattack) (0.1.2)\n",
            "Requirement already satisfied: janome in /usr/local/lib/python3.7/dist-packages (from flair==0.6.1.post1->textattack) (0.4.1)\n",
            "Requirement already satisfied: konoha<5.0.0,>=4.0.0 in /usr/local/lib/python3.7/dist-packages (from flair==0.6.1.post1->textattack) (4.6.4)\n",
            "Requirement already satisfied: sqlitedict>=1.6.0 in /usr/local/lib/python3.7/dist-packages (from flair==0.6.1.post1->textattack) (1.7.0)\n",
            "Requirement already satisfied: segtok>=1.5.7 in /usr/local/lib/python3.7/dist-packages (from flair==0.6.1.post1->textattack) (1.5.10)\n",
            "Requirement already satisfied: mpld3==0.3 in /usr/local/lib/python3.7/dist-packages (from flair==0.6.1.post1->textattack) (0.3)\n",
            "Requirement already satisfied: langdetect in /usr/local/lib/python3.7/dist-packages (from flair==0.6.1.post1->textattack) (1.0.9)\n",
            "Requirement already satisfied: ftfy in /usr/local/lib/python3.7/dist-packages (from flair==0.6.1.post1->textattack) (6.0.1)\n",
            "Requirement already satisfied: scikit-learn>=0.21.3 in /usr/local/lib/python3.7/dist-packages (from flair==0.6.1.post1->textattack) (0.22.2.post1)\n",
            "Requirement already satisfied: gdown in /usr/local/lib/python3.7/dist-packages (from flair==0.6.1.post1->textattack) (3.6.4)\n",
            "Requirement already satisfied: bpemb>=0.3.2 in /usr/local/lib/python3.7/dist-packages (from flair==0.6.1.post1->textattack) (0.3.3)\n",
            "Requirement already satisfied: sentencepiece!=0.1.92 in /usr/local/lib/python3.7/dist-packages (from flair==0.6.1.post1->textattack) (0.1.95)\n",
            "Requirement already satisfied: certifi>=2017.4.17 in /usr/local/lib/python3.7/dist-packages (from requests->language-tool-python->textattack) (2020.12.5)\n",
            "Requirement already satisfied: idna<3,>=2.5 in /usr/local/lib/python3.7/dist-packages (from requests->language-tool-python->textattack) (2.10)\n",
            "Requirement already satisfied: urllib3!=1.25.0,!=1.25.1,<1.26,>=1.21.1 in /usr/local/lib/python3.7/dist-packages (from requests->language-tool-python->textattack) (1.24.3)\n",
            "Requirement already satisfied: chardet<4,>=3.0.2 in /usr/local/lib/python3.7/dist-packages (from requests->language-tool-python->textattack) (3.0.4)\n",
            "Requirement already satisfied: zipp>=0.5 in /usr/local/lib/python3.7/dist-packages (from importlib-metadata; python_version < \"3.8\"->datasets->textattack) (3.4.1)\n",
            "Requirement already satisfied: pyparsing>=2.0.2 in /usr/local/lib/python3.7/dist-packages (from packaging->datasets->textattack) (2.4.7)\n",
            "Requirement already satisfied: joblib in /usr/local/lib/python3.7/dist-packages (from sacremoses->transformers>=3.3.0->textattack) (1.0.1)\n",
            "Requirement already satisfied: click in /usr/local/lib/python3.7/dist-packages (from sacremoses->transformers>=3.3.0->textattack) (7.1.2)\n",
            "Requirement already satisfied: smart-open>=1.8.1 in /usr/local/lib/python3.7/dist-packages (from gensim>=3.4.0->flair==0.6.1.post1->textattack) (5.0.0)\n",
            "Requirement already satisfied: wrapt<2,>=1.10 in /usr/local/lib/python3.7/dist-packages (from deprecated>=1.2.4->flair==0.6.1.post1->textattack) (1.12.1)\n",
            "Requirement already satisfied: kiwisolver>=1.0.1 in /usr/local/lib/python3.7/dist-packages (from matplotlib>=2.2.3->flair==0.6.1.post1->textattack) (1.3.1)\n",
            "Requirement already satisfied: cycler>=0.10 in /usr/local/lib/python3.7/dist-packages (from matplotlib>=2.2.3->flair==0.6.1.post1->textattack) (0.10.0)\n",
            "Requirement already satisfied: pymongo in /usr/local/lib/python3.7/dist-packages (from hyperopt>=0.1.1->flair==0.6.1.post1->textattack) (3.11.3)\n",
            "Requirement already satisfied: future in /usr/local/lib/python3.7/dist-packages (from hyperopt>=0.1.1->flair==0.6.1.post1->textattack) (0.16.0)\n",
            "Requirement already satisfied: networkx in /usr/local/lib/python3.7/dist-packages (from hyperopt>=0.1.1->flair==0.6.1.post1->textattack) (2.5.1)\n",
            "Requirement already satisfied: overrides<4.0.0,>=3.0.0 in /usr/local/lib/python3.7/dist-packages (from konoha<5.0.0,>=4.0.0->flair==0.6.1.post1->textattack) (3.1.0)\n",
            "Requirement already satisfied: wcwidth in /usr/local/lib/python3.7/dist-packages (from ftfy->flair==0.6.1.post1->textattack) (0.2.5)\n",
            "Requirement already satisfied: decorator<5,>=4.3 in /usr/local/lib/python3.7/dist-packages (from networkx->hyperopt>=0.1.1->flair==0.6.1.post1->textattack) (4.4.2)\n",
            "Requirement already up-to-date: gensim==4.0.0 in /usr/local/lib/python3.7/dist-packages (4.0.0)\n",
            "Requirement already satisfied, skipping upgrade: smart-open>=1.8.1 in /usr/local/lib/python3.7/dist-packages (from gensim==4.0.0) (5.0.0)\n",
            "Requirement already satisfied, skipping upgrade: numpy>=1.11.3 in /usr/local/lib/python3.7/dist-packages (from gensim==4.0.0) (1.18.5)\n",
            "Requirement already satisfied, skipping upgrade: scipy>=0.18.1 in /usr/local/lib/python3.7/dist-packages (from gensim==4.0.0) (1.4.1)\n",
            "Requirement already satisfied: python-Levenshtein in /usr/local/lib/python3.7/dist-packages (0.12.2)\n",
            "Requirement already satisfied: setuptools in /usr/local/lib/python3.7/dist-packages (from python-Levenshtein) (56.0.0)\n"
          ],
          "name": "stdout"
        }
      ]
    },
    {
      "cell_type": "code",
      "metadata": {
        "id": "XbSBo02xDGO2"
      },
      "source": [
        "# import gensim.downloader as api\n",
        "# corpus = api.load('text8')\n",
        "# from gensim.models.fasttext import FastText\n",
        "# model1 = FastText(corpus, sample = 0, sg = 1)"
      ],
      "execution_count": 3,
      "outputs": []
    },
    {
      "cell_type": "code",
      "metadata": {
        "id": "jLiSrpmTErOs"
      },
      "source": [
        "# import gensim.downloader as api\n",
        "# corpus = api.load('text8')\n",
        "# from gensim.models.word2vec import Word2Vec\n",
        "# model2 = Word2Vec(corpus, sample = 0, sg = 1)"
      ],
      "execution_count": 4,
      "outputs": []
    },
    {
      "cell_type": "markdown",
      "metadata": {
        "id": "d-SeQSyZRVZk"
      },
      "source": [
        "# Loading FastText, Word2Vec and Glove"
      ]
    },
    {
      "cell_type": "code",
      "metadata": {
        "id": "ZCLiyaHYDBk1"
      },
      "source": [
        "from gensim.test.utils import get_tmpfile\n",
        "from gensim.models.fasttext import FastText\n",
        "#fname = get_tmpfile(\"/models/fasttext.model\") \n",
        "model1 = FastText.load(\"/content/drive/MyDrive/models/fasttext.model\") # Change this location"
      ],
      "execution_count": 5,
      "outputs": []
    },
    {
      "cell_type": "code",
      "metadata": {
        "id": "e4jwSL5YDvPy"
      },
      "source": [
        "from gensim.test.utils import get_tmpfile\n",
        "from gensim.models.word2vec import Word2Vec\n",
        "#fname1 = get_tmpfile(\"/models/word2vec.model\") \n",
        "model2 = Word2Vec.load(\"/content/drive/MyDrive/models/word2vec.model\") # Change this location"
      ],
      "execution_count": 6,
      "outputs": []
    },
    {
      "cell_type": "code",
      "metadata": {
        "id": "NC2kXo7wLsAd"
      },
      "source": [
        "from gensim.models import KeyedVectors\n",
        "model3=KeyedVectors.load('/content/drive/MyDrive/models/gloveKeyVectors.kv')"
      ],
      "execution_count": 7,
      "outputs": []
    },
    {
      "cell_type": "markdown",
      "metadata": {
        "id": "aTtS6UrJRc4S"
      },
      "source": [
        "Example demonstration"
      ]
    },
    {
      "cell_type": "code",
      "metadata": {
        "id": "l1xXXw5tFbuM",
        "colab": {
          "base_uri": "https://localhost:8080/"
        },
        "outputId": "b941b1b2-4c6d-4b58-b449-785ac2b077b7"
      },
      "source": [
        "print(model1.wv.most_similar('cat'))\n",
        "print(model2.wv.most_similar('cat'))\n",
        "print(model3.most_similar('cat'))"
      ],
      "execution_count": 8,
      "outputs": [
        {
          "output_type": "stream",
          "text": [
            "[('bobcat', 0.759185791015625), ('dog', 0.7208123803138733), ('foxglove', 0.7110776901245117), ('pig', 0.7088143229484558), ('goose', 0.7069101333618164), ('cats', 0.702387273311615), ('beak', 0.7008379697799683), ('catfish', 0.6987316608428955), ('foxhound', 0.696578860282898), ('catnip', 0.6960986852645874)]\n",
            "[('dog', 0.7193913459777832), ('squirrel', 0.696162760257721), ('leopardus', 0.6945451498031616), ('prionailurus', 0.688106894493103), ('albino', 0.6880608201026917), ('bird', 0.6836060285568237), ('eared', 0.6803243160247803), ('rhinoceros', 0.6769237518310547), ('hyena', 0.6756084561347961), ('badger', 0.6752869486808777)]\n",
            "[('cats', 0.7006820440292358), ('dog', 0.698471188545227), ('dogs', 0.6442825198173523), ('tervueren', 0.619421660900116), ('laekenois', 0.5972026586532593), ('lica', 0.5956287980079651), ('feral', 0.5899650454521179), ('goat', 0.5861616134643555), ('fish', 0.5746133327484131), ('malinois', 0.5737614631652832)]\n"
          ],
          "name": "stdout"
        }
      ]
    },
    {
      "cell_type": "code",
      "metadata": {
        "colab": {
          "base_uri": "https://localhost:8080/"
        },
        "id": "Z0RyPQdKNH2u",
        "outputId": "3d11a920-e36f-4f26-91c7-4554405ca896"
      },
      "source": [
        "if 'cat' in model3.key_to_index:\n",
        "  print('present')"
      ],
      "execution_count": 9,
      "outputs": [
        {
          "output_type": "stream",
          "text": [
            "present\n"
          ],
          "name": "stdout"
        }
      ]
    },
    {
      "cell_type": "markdown",
      "metadata": {
        "id": "0h_EeHEKRhYs"
      },
      "source": [
        "# Base-uncased Ag-news"
      ]
    },
    {
      "cell_type": "code",
      "metadata": {
        "id": "QfecgI6BExUJ"
      },
      "source": [
        "# Import the model\n",
        "import transformers\n",
        "from textattack.models.tokenizers import AutoTokenizer\n",
        "from textattack.models.wrappers import HuggingFaceModelWrapper\n",
        "\n",
        "model = transformers.AutoModelForSequenceClassification.from_pretrained(\"textattack/bert-base-uncased-ag-news\")\n",
        "tokenizer = AutoTokenizer(\"textattack/bert-base-uncased-ag-news\")\n",
        "# Change these\n",
        "\n",
        "model_wrapper = HuggingFaceModelWrapper(model, tokenizer)"
      ],
      "execution_count": 10,
      "outputs": []
    },
    {
      "cell_type": "markdown",
      "metadata": {
        "id": "HPj8fvaOFDAD"
      },
      "source": [
        "# Framing fasttext attack"
      ]
    },
    {
      "cell_type": "code",
      "metadata": {
        "id": "SHezFH9jE3Z2"
      },
      "source": [
        "from textattack.transformations import WordSwap\n",
        "\n",
        "class Swapper(WordSwap): # For fasttext\n",
        "    \"\"\" Transforms an input by replacing any word with its most similar counterpart\n",
        "    \"\"\"\n",
        "\n",
        "    # We don't need a constructor, since our class doesn't require any parameters.\n",
        "\n",
        "    def _get_replacement_words(self, word):\n",
        "        for i in range(10):\n",
        "            if word.lower() in model1.wv.most_similar(word)[i][0].lower():\n",
        "                continue # Don't return the exact word\n",
        "            elif word.isupper():\n",
        "                return [model1.wv.most_similar(word)[i][0].upper()] # Preserving case\n",
        "            elif word[0].isupper():\n",
        "                return [model1.wv.most_similar(word)[i][0].capitalize()] # Preserving Capitalization in words\n",
        "            else:\n",
        "                return [model1.wv.most_similar(word)[i][0]]\n",
        "            \n",
        "        return [model1.wv.most_similar(word)[0][0]]"
      ],
      "execution_count": 11,
      "outputs": []
    },
    {
      "cell_type": "code",
      "metadata": {
        "id": "GHt_A9Sril_j"
      },
      "source": [
        "def printexample(attack):\n",
        "  print(attack)\n",
        "  from collections import deque\n",
        "\n",
        "  import textattack\n",
        "  import tqdm\n",
        "  import time\n",
        "  from IPython.display import display, HTML\n",
        "  num_examples = 25\n",
        "  num_remaining_attacks = num_examples\n",
        "  pbar = tqdm.tqdm(total=num_remaining_attacks, smoothing=0)\n",
        "\n",
        "  worklist = deque(range(0, num_examples))\n",
        "  worklist_tail = worklist[-1]\n",
        "\n",
        "  attack_log_manager = textattack.loggers.AttackLogManager()\n",
        "\n",
        "  load_time = time.time()\n",
        "        \n",
        "  num_results = 0\n",
        "  num_failures = 0\n",
        "  num_successes = 0\n",
        "  for result in attack.attack_dataset(dataset, indices=worklist):\n",
        "      result_html_str = result.__str__(color_method=\"html\").replace(\"\\n\\n\", \"<br>\")\n",
        "      display(HTML(result_html_str))\n",
        "      attack_log_manager.log_result(result)\n",
        "            \n",
        "      if not isinstance(result, textattack.attack_results.SkippedAttackResult):\n",
        "          pbar.update(1)\n",
        "      else:\n",
        "          worklist_tail += 1\n",
        "          pbar.update(1)\n",
        "          worklist.append(worklist_tail)\n",
        "\n",
        "      num_results += 1\n",
        "\n",
        "      if (type(result) == textattack.attack_results.SuccessfulAttackResult\n",
        "        or type(result) == textattack.attack_results.MaximizedAttackResult):\n",
        "          num_successes += 1\n",
        "                \n",
        "      if type(result) == textattack.attack_results.FailedAttackResult:\n",
        "          num_failures += 1\n",
        "      pbar.set_description(\n",
        "          \"[Succeeded / Failed / Total] {} / {} / {}\".format(\n",
        "            num_successes, num_failures, num_results\n",
        "        )\n",
        "      )\n",
        "\n",
        "  pbar.close()\n",
        "\n",
        "  attack_log_manager.enable_stdout()\n",
        "  attack_log_manager.log_summary()\n",
        "  attack_log_manager.flush()\n",
        "        \n",
        "  textattack.shared.logger.info(f\"Attack time: {time.time() - load_time}s\")"
      ],
      "execution_count": 12,
      "outputs": []
    },
    {
      "cell_type": "code",
      "metadata": {
        "id": "Sm04Ri8WFGHy",
        "colab": {
          "base_uri": "https://localhost:8080/"
        },
        "outputId": "c77d473b-022d-4882-edf4-8af47c361268"
      },
      "source": [
        "from textattack.search_methods import GreedySearch\n",
        "from textattack.constraints.pre_transformation import RepeatModification, StopwordModification\n",
        "from textattack.shared import Attack\n",
        "from textattack.goal_functions import UntargetedClassification\n",
        "from textattack.datasets import HuggingFaceDataset\n",
        "\n",
        "# We're going to use our word swap class as the attack transformation.\n",
        "transformation = Swapper()\n",
        "\n",
        "constraints = [RepeatModification(),\n",
        "               StopwordModification()]\n",
        "\n",
        "search_method = GreedySearch()\n",
        "\n",
        "goal_function = UntargetedClassification(model_wrapper)\n",
        "\n",
        "# Now, let's make the attack from the 4 components:\n",
        "attack = Attack(goal_function, constraints, transformation, search_method)\n",
        "\n",
        "dataset = HuggingFaceDataset(\"ag_news\", None, \"test\") # Change the dataset"
      ],
      "execution_count": 13,
      "outputs": [
        {
          "output_type": "stream",
          "text": [
            "\u001b[34;1mtextattack\u001b[0m: Unknown if model of class <class 'transformers.models.bert.modeling_bert.BertForSequenceClassification'> compatible with goal function <class 'textattack.goal_functions.classification.untargeted_classification.UntargetedClassification'>.\n",
            "Using custom data configuration default\n",
            "Reusing dataset ag_news (/root/.cache/huggingface/datasets/ag_news/default/0.0.0/0eeeaaa5fb6dffd81458e293dfea1adba2881ffcbdc3fb56baeb5a892566c29a)\n",
            "\u001b[34;1mtextattack\u001b[0m: Loading \u001b[94mdatasets\u001b[0m dataset \u001b[94mag_news\u001b[0m, split \u001b[94mtest\u001b[0m.\n"
          ],
          "name": "stderr"
        }
      ]
    },
    {
      "cell_type": "code",
      "metadata": {
        "id": "a578fNbVFII3",
        "colab": {
          "base_uri": "https://localhost:8080/"
        },
        "outputId": "8b6a0773-b9c0-43b3-fd60-a5c289cd8463"
      },
      "source": [
        "print(attack)"
      ],
      "execution_count": 14,
      "outputs": [
        {
          "output_type": "stream",
          "text": [
            "Attack(\n",
            "  (search_method): GreedySearch\n",
            "  (goal_function):  UntargetedClassification\n",
            "  (transformation):  Swapper\n",
            "  (constraints): \n",
            "    (0): RepeatModification\n",
            "    (1): StopwordModification\n",
            "  (is_black_box):  True\n",
            ")\n"
          ],
          "name": "stdout"
        }
      ]
    },
    {
      "cell_type": "code",
      "metadata": {
        "id": "fClGtuFxFM5f",
        "colab": {
          "base_uri": "https://localhost:8080/",
          "height": 1000
        },
        "outputId": "bd947b92-2389-4e8f-b82a-c21fa742ce63"
      },
      "source": [
        "printexample(attack)"
      ],
      "execution_count": 15,
      "outputs": [
        {
          "output_type": "stream",
          "text": [
            "\r  0%|          | 0/25 [00:00<?, ?it/s]"
          ],
          "name": "stderr"
        },
        {
          "output_type": "stream",
          "text": [
            "Attack(\n",
            "  (search_method): GreedySearch\n",
            "  (goal_function):  UntargetedClassification\n",
            "  (transformation):  Swapper\n",
            "  (constraints): \n",
            "    (0): RepeatModification\n",
            "    (1): StopwordModification\n",
            "  (is_black_box):  True\n",
            ")\n"
          ],
          "name": "stdout"
        },
        {
          "output_type": "display_data",
          "data": {
            "text/html": [
              "<font color = blue>Business (100%)</font> --> <font color = purple>Sci/tech (65%)</font><br>Fears for T <font color = blue>N</font> pension after talks Unions representing workers at Turner   <font color = blue>Newall</font> say they are 'disappointed' after talks with <font color = blue>stricken</font> parent firm Federal Mogul.<br>Fears for T <font color = purple>SACK</font> pension after talks Unions representing workers at Turner   <font color = purple>Sewall</font> say they are 'disappointed' after talks with <font color = purple>trickery</font> parent firm Federal Mogul."
            ],
            "text/plain": [
              "<IPython.core.display.HTML object>"
            ]
          },
          "metadata": {
            "tags": []
          }
        },
        {
          "output_type": "stream",
          "text": [
            "[Succeeded / Failed / Total] 1 / 0 / 1:   4%|▍         | 1/25 [00:02<00:55,  2.32s/it]"
          ],
          "name": "stderr"
        },
        {
          "output_type": "display_data",
          "data": {
            "text/html": [
              "<font color = purple>Sci/tech (100%)</font> --> <font color = green>Sports (70%)</font><br>The Race is On: Second Private Team Sets Launch Date for Human Spaceflight (<font color = purple>SPACE</font>.com) <font color = purple>SPACE</font>.com - TORONTO, <font color = purple>Canada</font> -- <font color = purple>A</font> second\\<font color = purple>team</font> of rocketeers competing for the  #36;10 million Ansari X <font color = purple>Prize</font>, a <font color = purple>contest</font> for\\privately funded suborbital space flight, has officially announced the first\\launch date for its manned rocket.<br>The Race is On: Second Private Team Sets Launch Date for Human Spaceflight (<font color = green>PANTS</font>.com) <font color = green>PANTS</font>.com - TORONTO, <font color = green>Nada</font> -- <font color = green>SESS</font> second\\<font color = green>nba</font> of rocketeers competing for the  #36;10 million Ansari X <font color = green>Brize</font>, a <font color = green>tournament</font> for\\privately funded suborbital space flight, has officially announced the first\\launch date for its manned rocket."
            ],
            "text/plain": [
              "<IPython.core.display.HTML object>"
            ]
          },
          "metadata": {
            "tags": []
          }
        },
        {
          "output_type": "stream",
          "text": [
            "[Succeeded / Failed / Total] 2 / 0 / 2:   8%|▊         | 2/25 [00:13<02:35,  6.74s/it]"
          ],
          "name": "stderr"
        },
        {
          "output_type": "display_data",
          "data": {
            "text/html": [
              "<font color = purple>Sci/tech (100%)</font> --> <font color = red>[FAILED]</font><br>Ky. Company Wins Grant to Study Peptides (AP) AP - A company founded by a chemistry researcher at the University of Louisville won a grant to develop a method of producing better peptides, which are short chains of amino acids, the building blocks of proteins."
            ],
            "text/plain": [
              "<IPython.core.display.HTML object>"
            ]
          },
          "metadata": {
            "tags": []
          }
        },
        {
          "output_type": "stream",
          "text": [
            "[Succeeded / Failed / Total] 2 / 1 / 3:  12%|█▏        | 3/25 [00:30<03:45, 10.27s/it]"
          ],
          "name": "stderr"
        },
        {
          "output_type": "display_data",
          "data": {
            "text/html": [
              "<font color = purple>Sci/tech (100%)</font> --> <font color = red>World (75%)</font><br><font color = purple>Prediction</font> Unit Helps <font color = purple>Forecast</font> Wildfires (AP) AP - It's barely dawn when Mike Fitzpatrick starts his shift with a blur of <font color = purple>colorful</font> maps, figures and endless charts, but already he knows what the day will bring. Lightning will strike in places he expects. Winds will pick up, moist places will dry and flames will roar.<br><font color = red>Indiction</font> Unit Helps <font color = red>Recast</font> Wildfires (AP) AP - It's barely dawn when Mike Fitzpatrick starts his shift with a blur of <font color = red>colourful</font> maps, figures and endless charts, but already he knows what the day will bring. Lightning will strike in places he expects. Winds will pick up, moist places will dry and flames will roar."
            ],
            "text/plain": [
              "<IPython.core.display.HTML object>"
            ]
          },
          "metadata": {
            "tags": []
          }
        },
        {
          "output_type": "stream",
          "text": [
            "[Succeeded / Failed / Total] 3 / 1 / 4:  16%|█▌        | 4/25 [00:35<03:04,  8.77s/it]"
          ],
          "name": "stderr"
        },
        {
          "output_type": "display_data",
          "data": {
            "text/html": [
              "<font color = purple>Sci/tech (100%)</font> --> <font color = red>World (62%)</font><br><font color = purple>Calif</font>. Aims to Limit Farm-Related <font color = purple>Smog</font> (AP) AP - Southern California's <font color = purple>smog-fighting</font> agency <font color = purple>went</font> after <font color = purple>emissions</font> of the bovine variety Friday, adopting the nation's first rules to reduce air <font color = purple>pollution</font> from dairy cow manure.<br><font color = red>Alif</font>. Aims to Limit Farm-Related <font color = red>Fog</font> (AP) AP - Southern California's <font color = red>bullfighting</font> agency <font color = red>started</font> after <font color = red>emission</font> of the bovine variety Friday, adopting the nation's first rules to reduce air <font color = red>polluting</font> from dairy cow manure."
            ],
            "text/plain": [
              "<IPython.core.display.HTML object>"
            ]
          },
          "metadata": {
            "tags": []
          }
        },
        {
          "output_type": "stream",
          "text": [
            "[Succeeded / Failed / Total] 4 / 1 / 5:  20%|██        | 5/25 [00:40<02:42,  8.14s/it]"
          ],
          "name": "stderr"
        },
        {
          "output_type": "display_data",
          "data": {
            "text/html": [
              "<font color = purple>Sci/tech (100%)</font> --> <font color = green>Sports (47%)</font><br>Open Letter Against <font color = purple>British</font> <font color = purple>Copyright</font> Indoctrination in <font color = purple>Schools</font> The British <font color = purple>Department</font> for Education and <font color = purple>Skills</font> (<font color = purple>DfES</font>) recently <font color = purple>launched</font> a \"Music Manifesto\" <font color = purple>campaign</font>, with the ostensible <font color = purple>intention</font> of <font color = purple>educating</font> the next <font color = purple>generation</font> of British <font color = purple>musicians</font>. <font color = purple>Unfortunately</font>, they <font color = purple>also</font> <font color = purple>teamed</font> up with the music <font color = purple>industry</font> (<font color = purple>EMI</font>, and <font color = purple>various</font> <font color = purple>artists</font>) to make this popular. EMI has apparently negotiated their <font color = purple>end</font> <font color = purple>well</font>, so that children in our <font color = purple>schools</font> will now be indoctrinated about the <font color = purple>illegality</font> of <font color = purple>downloading</font> <font color = purple>music</font>.<font color = purple>The</font> ignorance and audacity of this <font color = purple>got</font> to me a <font color = purple>little</font>, so I <font color = purple>wrote</font> an open letter to the <font color = purple>DfES</font> about it. Unfortunately, it's <font color = purple>pedantic</font>, as <font color = purple>I</font> suppose you have to be when writing to <font color = purple>goverment</font> <font color = purple>representatives</font>. <font color = purple>But</font> I hope you find it <font color = purple>useful</font>, and perhaps <font color = purple>feel</font> inspired to do something <font color = purple>similar</font>, if or when the same thing has happened in your <font color = purple>area</font>.<br>Open Letter Against <font color = green>Whitish</font> <font color = green>Copyleft</font> Indoctrination in <font color = green>Educations</font> The British <font color = green>Compartment</font> for Education and <font color = green>Kills</font> (<font color = green>Lv</font>) recently <font color = green>launcher</font> a \"Music Manifesto\" <font color = green>champaign</font>, with the ostensible <font color = green>intent</font> of <font color = green>education</font> the next <font color = green>generating</font> of British <font color = green>guitarists</font>. <font color = green>Fortunately</font>, they <font color = green>sometimes</font> <font color = green>beamed</font> up with the music <font color = green>industries</font> (<font color = green>BRAND</font>, and <font color = green>several</font> <font color = green>musicians</font>) to make this popular. EMI has apparently negotiated their <font color = green>beginning</font> <font color = green>such</font>, so that children in our <font color = green>school</font> will now be indoctrinated about the <font color = green>legality</font> of <font color = green>downloads</font> <font color = green>dance</font>.<font color = green>Gauche</font> ignorance and audacity of this <font color = green>get</font> to me a <font color = green>tittle</font>, so I <font color = green>writes</font> an open letter to the <font color = green>Lv</font> about it. Unfortunately, it's <font color = green>vedantic</font>, as <font color = green>ENCHANTER</font> suppose you have to be when writing to <font color = green>deferment</font> <font color = green>representative</font>. <font color = green>Zut</font> I hope you find it <font color = green>helpful</font>, and perhaps <font color = green>think</font> inspired to do something <font color = green>specific</font>, if or when the same thing has happened in your <font color = green>metropolitan</font>."
            ],
            "text/plain": [
              "<IPython.core.display.HTML object>"
            ]
          },
          "metadata": {
            "tags": []
          }
        },
        {
          "output_type": "stream",
          "text": [
            "[Succeeded / Failed / Total] 5 / 1 / 6:  24%|██▍       | 6/25 [02:19<07:21, 23.25s/it]"
          ],
          "name": "stderr"
        },
        {
          "output_type": "display_data",
          "data": {
            "text/html": [
              "<font color = purple>Sci/tech (100%)</font> --> <font color = red>[FAILED]</font><br>Loosing the War on Terrorism \\\\\"Sven Jaschan, self-confessed author of the Netsky and Sasser viruses, is\\responsible for 70 percent of virus infections in 2004, according to a six-month\\virus roundup published Wednesday by antivirus company Sophos.\"\\\\\"The 18-year-old Jaschan was taken into custody in Germany in May by police who\\said he had admitted programming both the Netsky and Sasser worms, something\\experts at Microsoft confirmed. (A Microsoft antivirus reward program led to the\\teenager's arrest.) During the five months preceding Jaschan's capture, there\\were at least 25 variants of Netsky and one of the port-scanning network worm\\Sasser.\"\\\\\"Graham Cluley, senior technology consultant at Sophos, said it was staggeri ...\\\\"
            ],
            "text/plain": [
              "<IPython.core.display.HTML object>"
            ]
          },
          "metadata": {
            "tags": []
          }
        },
        {
          "output_type": "stream",
          "text": [
            "[Succeeded / Failed / Total] 5 / 2 / 7:  28%|██▊       | 7/25 [04:17<11:02, 36.80s/it]"
          ],
          "name": "stderr"
        },
        {
          "output_type": "display_data",
          "data": {
            "text/html": [
              "<font color = purple>Sci/tech (100%)</font> --> <font color = red>[FAILED]</font><br>FOAFKey: FOAF, PGP, Key Distribution, and Bloom Filters \\\\FOAF/LOAF  and bloom filters have a lot of interesting properties for social\\network and whitelist distribution.\\\\I think we can go one level higher though and include GPG/OpenPGP key\\fingerpring distribution in the FOAF file for simple web-of-trust based key\\distribution.\\\\What if we used FOAF and included the PGP key fingerprint(s) for identities?\\This could mean a lot.  You include the PGP key fingerprints within the FOAF\\file of your direct friends and then include a bloom filter of the PGP key\\fingerprints of your entire whitelist (the source FOAF file would of course need\\to be encrypted ).\\\\Your whitelist would be populated from the social network as your client\\discovered new identit ...\\\\"
            ],
            "text/plain": [
              "<IPython.core.display.HTML object>"
            ]
          },
          "metadata": {
            "tags": []
          }
        },
        {
          "output_type": "stream",
          "text": [
            "[Succeeded / Failed / Total] 5 / 3 / 8:  32%|███▏      | 8/25 [06:58<14:49, 52.31s/it]"
          ],
          "name": "stderr"
        },
        {
          "output_type": "display_data",
          "data": {
            "text/html": [
              "<font color = purple>Sci/tech (98%)</font> --> <font color = red>World (74%)</font><br><font color = purple>E-mail</font> scam targets police chief Wiltshire Police warns about \"<font color = purple>phishing</font>\" after its fraud squad chief was targeted.<br><font color = red>Qmail</font> scam targets police chief Wiltshire Police warns about \"<font color = red>furnishing</font>\" after its fraud squad chief was targeted."
            ],
            "text/plain": [
              "<IPython.core.display.HTML object>"
            ]
          },
          "metadata": {
            "tags": []
          }
        },
        {
          "output_type": "stream",
          "text": [
            "[Succeeded / Failed / Total] 6 / 3 / 9:  36%|███▌      | 9/25 [06:59<12:25, 46.61s/it]"
          ],
          "name": "stderr"
        },
        {
          "output_type": "display_data",
          "data": {
            "text/html": [
              "<font color = purple>Sci/tech (98%)</font> --> <font color = blue>Business (80%)</font><br>Card fraud unit nets 36,000 cards In its first two years, the UK's dedicated <font color = purple>card</font> fraud unit, has recovered 36,000 stolen cards and 171 arrests - and estimates it saved 65m.<br>Card fraud unit nets 36,000 cards In its first two years, the UK's dedicated <font color = blue>blackjack</font> fraud unit, has recovered 36,000 stolen cards and 171 arrests - and estimates it saved 65m."
            ],
            "text/plain": [
              "<IPython.core.display.HTML object>"
            ]
          },
          "metadata": {
            "tags": []
          }
        },
        {
          "output_type": "stream",
          "text": [
            "[Succeeded / Failed / Total] 7 / 3 / 10:  40%|████      | 10/25 [07:00<10:30, 42.06s/it]"
          ],
          "name": "stderr"
        },
        {
          "output_type": "display_data",
          "data": {
            "text/html": [
              "<font color = purple>Sci/tech (100%)</font> --> <font color = blue>Business (55%)</font><br>Group to Propose <font color = purple>New</font> High-Speed <font color = purple>Wireless</font> <font color = purple>Format</font>  LOS ANGELES (<font color = purple>Reuters</font>) - A group of technology companies  including Texas Instruments Inc. &lt;<font color = purple>TXN</font>.N&gt;, STMicroelectronics  &lt;STM.PA&gt; and Broadcom <font color = purple>Corp</font>. &lt;BRCM.<font color = purple>O</font>&gt;, on Thursday said they  will propose a <font color = purple>new</font> wireless <font color = purple>networking</font> standard up to 10 times  the speed of the <font color = purple>current</font> <font color = purple>generation</font>.<br>Group to Propose <font color = blue>Dew</font> High-Speed <font color = blue>Tireless</font> <font color = blue>File</font>  LOS ANGELES (<font color = blue>Wouters</font>) - A group of technology companies  including Texas Instruments Inc. &lt;<font color = blue>AVIATION</font>.N&gt;, STMicroelectronics  &lt;STM.PA&gt; and Broadcom <font color = blue>Autodesk</font>. &lt;BRCM.<font color = blue>BLETCHLEY</font>&gt;, on Thursday said they  will propose a <font color = blue>york</font> wireless <font color = blue>networked</font> standard up to 10 times  the speed of the <font color = blue>relevancy</font> <font color = blue>generating</font>."
            ],
            "text/plain": [
              "<IPython.core.display.HTML object>"
            ]
          },
          "metadata": {
            "tags": []
          }
        },
        {
          "output_type": "stream",
          "text": [
            "[Succeeded / Failed / Total] 8 / 3 / 11:  44%|████▍     | 11/25 [07:18<09:18, 39.90s/it]"
          ],
          "name": "stderr"
        },
        {
          "output_type": "display_data",
          "data": {
            "text/html": [
              "<font color = purple>Sci/tech (100%)</font> --> <font color = red>[FAILED]</font><br>Apple Launches Graphics Software, Video Bundle  LOS ANGELES (Reuters) - Apple Computer Inc.&lt;AAPL.O&gt; on  Tuesday began shipping a new program designed to let users  create real-time motion graphics and unveiled a discount  video-editing software bundle featuring its flagship Final Cut  Pro software."
            ],
            "text/plain": [
              "<IPython.core.display.HTML object>"
            ]
          },
          "metadata": {
            "tags": []
          }
        },
        {
          "output_type": "stream",
          "text": [
            "[Succeeded / Failed / Total] 8 / 4 / 12:  48%|████▊     | 12/25 [07:50<08:30, 39.25s/it]"
          ],
          "name": "stderr"
        },
        {
          "output_type": "display_data",
          "data": {
            "text/html": [
              "<font color = purple>Sci/tech (100%)</font> --> <font color = blue>Business (55%)</font><br><font color = purple>Dutch</font> Retailer <font color = purple>Beats</font> <font color = purple>Apple</font> to <font color = purple>Local</font> <font color = purple>Download</font> Market  <font color = purple>AMSTERDAM</font> (<font color = purple>Reuters</font>) - Free Record Shop, a <font color = purple>Dutch</font> music  <font color = purple>retail</font> chain, beat <font color = purple>Apple</font> Computer Inc. to <font color = purple>market</font> on Tuesday  with the launch of a <font color = purple>new</font> download service in <font color = purple>Europe's</font> latest  battleground for <font color = purple>digital</font> song services.<br><font color = blue>Butch</font> Retailer <font color = blue>Geats</font> <font color = blue>Fipple</font> to <font color = blue>Bocal</font> <font color = blue>Unload</font> Market  <font color = blue>DAMASCUS</font> (<font color = blue>Wouters</font>) - Free Record Shop, a <font color = blue>Butch</font> music  <font color = blue>subsidizes</font> chain, beat <font color = blue>Fipple</font> Computer Inc. to <font color = blue>capitalising</font> on Tuesday  with the launch of a <font color = blue>york</font> download service in <font color = blue>Supercontinent</font> latest  battleground for <font color = blue>analog</font> song services."
            ],
            "text/plain": [
              "<IPython.core.display.HTML object>"
            ]
          },
          "metadata": {
            "tags": []
          }
        },
        {
          "output_type": "stream",
          "text": [
            "[Succeeded / Failed / Total] 9 / 4 / 13:  52%|█████▏    | 13/25 [08:06<07:29, 37.44s/it]"
          ],
          "name": "stderr"
        },
        {
          "output_type": "display_data",
          "data": {
            "text/html": [
              "<font color = purple>Sci/tech (99%)</font> --> <font color = red>[FAILED]</font><br>Super ant colony hits Australia A giant 100km colony of ants  which has been discovered in Melbourne, Australia, could threaten local insect species."
            ],
            "text/plain": [
              "<IPython.core.display.HTML object>"
            ]
          },
          "metadata": {
            "tags": []
          }
        },
        {
          "output_type": "stream",
          "text": [
            "[Succeeded / Failed / Total] 9 / 5 / 14:  56%|█████▌    | 14/25 [08:13<06:27, 35.27s/it]"
          ],
          "name": "stderr"
        },
        {
          "output_type": "display_data",
          "data": {
            "text/html": [
              "<font color = purple>Sci/tech (97%)</font> --> <font color = red>[FAILED]</font><br>Socialites unite dolphin groups Dolphin groups, or \"pods\", rely on socialites to keep them from collapsing, scientists claim."
            ],
            "text/plain": [
              "<IPython.core.display.HTML object>"
            ]
          },
          "metadata": {
            "tags": []
          }
        },
        {
          "output_type": "stream",
          "text": [
            "[Succeeded / Failed / Total] 9 / 6 / 15:  60%|██████    | 15/25 [08:17<05:31, 33.17s/it]"
          ],
          "name": "stderr"
        },
        {
          "output_type": "display_data",
          "data": {
            "text/html": [
              "<font color = purple>Sci/tech (100%)</font> --> <font color = red>[FAILED]</font><br>Teenage T. rex's monster growth Tyrannosaurus rex achieved its massive size due to an enormous growth spurt during its adolescent years."
            ],
            "text/plain": [
              "<IPython.core.display.HTML object>"
            ]
          },
          "metadata": {
            "tags": []
          }
        },
        {
          "output_type": "stream",
          "text": [
            "[Succeeded / Failed / Total] 9 / 7 / 16:  64%|██████▍   | 16/25 [08:23<04:43, 31.46s/it]"
          ],
          "name": "stderr"
        },
        {
          "output_type": "display_data",
          "data": {
            "text/html": [
              "<font color = purple>Sci/tech (100%)</font> --> <font color = red>[FAILED]</font><br>Scientists Discover Ganymede has a Lumpy Interior Jet Propulsion Lab -- Scientists have discovered irregular lumps beneath the icy surface of Jupiter's largest moon, Ganymede. These irregular masses may be rock formations, supported by Ganymede's icy shell for billions of years..."
            ],
            "text/plain": [
              "<IPython.core.display.HTML object>"
            ]
          },
          "metadata": {
            "tags": []
          }
        },
        {
          "output_type": "stream",
          "text": [
            "[Succeeded / Failed / Total] 9 / 8 / 17:  68%|██████▊   | 17/25 [08:44<04:06, 30.86s/it]"
          ],
          "name": "stderr"
        },
        {
          "output_type": "display_data",
          "data": {
            "text/html": [
              "<font color = purple>Sci/tech (100%)</font> --> <font color = red>[FAILED]</font><br>Mars Rovers Relay Images Through Mars Express European Space Agency -- ESAs Mars Express has relayed pictures from one of NASA's Mars rovers for the first time, as part of a set of interplanetary networking demonstrations.     The demonstrations pave the way for future Mars missions to draw on joint interplanetary networking capabilities..."
            ],
            "text/plain": [
              "<IPython.core.display.HTML object>"
            ]
          },
          "metadata": {
            "tags": []
          }
        },
        {
          "output_type": "stream",
          "text": [
            "[Succeeded / Failed / Total] 9 / 9 / 18:  72%|███████▏  | 18/25 [09:14<03:35, 30.80s/it]"
          ],
          "name": "stderr"
        },
        {
          "output_type": "display_data",
          "data": {
            "text/html": [
              "<font color = purple>Sci/tech (100%)</font> --> <font color = red>[FAILED]</font><br>Rocking the Cradle of Life When did life begin? One evidential clue stems from the fossil records in Western Australia, although whether these layered sediments are biological or chemical has spawned a spirited debate. Oxford researcher, Nicola McLoughlin, describes some of the issues in contention."
            ],
            "text/plain": [
              "<IPython.core.display.HTML object>"
            ]
          },
          "metadata": {
            "tags": []
          }
        },
        {
          "output_type": "stream",
          "text": [
            "[Succeeded / Failed / Total] 9 / 10 / 19:  76%|███████▌  | 19/25 [09:33<03:01, 30.19s/it]"
          ],
          "name": "stderr"
        },
        {
          "output_type": "display_data",
          "data": {
            "text/html": [
              "<font color = purple>Sci/tech (100%)</font> --> <font color = red>[FAILED]</font><br>Storage, servers bruise HP earnings update Earnings per share rise compared with a year ago, but company misses analysts' expectations by a long shot."
            ],
            "text/plain": [
              "<IPython.core.display.HTML object>"
            ]
          },
          "metadata": {
            "tags": []
          }
        },
        {
          "output_type": "stream",
          "text": [
            "[Succeeded / Failed / Total] 9 / 11 / 20:  80%|████████  | 20/25 [09:41<02:25, 29.08s/it]"
          ],
          "name": "stderr"
        },
        {
          "output_type": "display_data",
          "data": {
            "text/html": [
              "<font color = purple>Sci/tech (88%)</font> --> <font color = blue>Business (73%)</font><br>IBM to hire even more <font color = purple>new</font> workers By the end of the year, the computing giant plans to have its biggest headcount since 1991.<br>IBM to hire even more <font color = blue>york</font> workers By the end of the year, the computing giant plans to have its biggest headcount since 1991."
            ],
            "text/plain": [
              "<IPython.core.display.HTML object>"
            ]
          },
          "metadata": {
            "tags": []
          }
        },
        {
          "output_type": "stream",
          "text": [
            "[Succeeded / Failed / Total] 10 / 11 / 21:  84%|████████▍ | 21/25 [09:42<01:50, 27.72s/it]"
          ],
          "name": "stderr"
        },
        {
          "output_type": "display_data",
          "data": {
            "text/html": [
              "<font color = purple>Sci/tech (100%)</font> --> <font color = green>Sports (50%)</font><br><font color = purple>Sun's</font> <font color = purple>Looking</font> Glass <font color = purple>Provides</font> 3D <font color = purple>View</font> <font color = purple>Developers</font> <font color = purple>get</font> <font color = purple>early</font> <font color = purple>code</font> for <font color = purple>new</font> <font color = purple>operating</font> <font color = purple>system</font> '<font color = purple>skin'</font> still being <font color = purple>crafted</font>.<br><font color = green>Broncos</font> <font color = green>Hooking</font> Glass <font color = green>Includes</font> 3D <font color = green>Blogspot</font> <font color = green>Debuggers</font> <font color = green>give</font> <font color = green>late</font> <font color = green>codes</font> for <font color = green>york</font> <font color = green>perating</font> <font color = green>ystem</font> '<font color = green>skink</font> still being <font color = green>drafted</font>."
            ],
            "text/plain": [
              "<IPython.core.display.HTML object>"
            ]
          },
          "metadata": {
            "tags": []
          }
        },
        {
          "output_type": "stream",
          "text": [
            "[Succeeded / Failed / Total] 11 / 11 / 22:  88%|████████▊ | 22/25 [09:47<01:20, 26.70s/it]"
          ],
          "name": "stderr"
        },
        {
          "output_type": "display_data",
          "data": {
            "text/html": [
              "<font color = purple>Sci/tech (100%)</font> --> <font color = blue>Business (92%)</font><br><font color = purple>IBM</font> <font color = purple>Chips</font> May <font color = purple>Someday</font> Heal Themselves <font color = purple>New</font> technology applies <font color = purple>electrical</font> fuses to help identify and repair <font color = purple>faults</font>.<br><font color = blue>ZWINGLI</font> <font color = blue>Hips</font> May <font color = blue>Thursday</font> Heal Themselves <font color = blue>Dew</font> technology applies <font color = blue>electrics</font> fuses to help identify and repair <font color = blue>faulty</font>."
            ],
            "text/plain": [
              "<IPython.core.display.HTML object>"
            ]
          },
          "metadata": {
            "tags": []
          }
        },
        {
          "output_type": "stream",
          "text": [
            "[Succeeded / Failed / Total] 12 / 11 / 23:  92%|█████████▏| 23/25 [09:50<00:51, 25.68s/it]"
          ],
          "name": "stderr"
        },
        {
          "output_type": "display_data",
          "data": {
            "text/html": [
              "<font color = blue>Business (97%)</font> --> <font color = gray>[SKIPPED]</font><br>Some People Not Eligible to Get in on Google IPO Google has billed its IPO as a way for everyday people to get in on the process, denying Wall Street the usual stranglehold it's had on IPOs. Public bidding, a minimum of just five shares, an open process with 28 underwriters - all this pointed to a new level of public participation. But this isn't the case."
            ],
            "text/plain": [
              "<IPython.core.display.HTML object>"
            ]
          },
          "metadata": {
            "tags": []
          }
        },
        {
          "output_type": "stream",
          "text": [
            "\r[Succeeded / Failed / Total] 12 / 11 / 24:  96%|█████████▌| 24/25 [09:50<00:24, 24.61s/it]"
          ],
          "name": "stderr"
        },
        {
          "output_type": "display_data",
          "data": {
            "text/html": [
              "<font color = purple>Sci/tech (100%)</font> --> <font color = blue>Business (98%)</font><br>Rivals Try to Turn Tables on Charles Schwab By <font color = purple>MICHAEL</font> LIEDTKE     SAN FRANCISCO (AP) -- With its low prices and iconoclastic attitude, discount stock broker Charles Schwab Corp. (SCH) represented an annoying stone in Wall Street's wing-tipped shoes for decades...<br>Rivals Try to Turn Tables on Charles Schwab By <font color = blue>PROTECTIONISM</font> LIEDTKE     SAN FRANCISCO (AP) -- With its low prices and iconoclastic attitude, discount stock broker Charles Schwab Corp. (SCH) represented an annoying stone in Wall Street's wing-tipped shoes for decades..."
            ],
            "text/plain": [
              "<IPython.core.display.HTML object>"
            ]
          },
          "metadata": {
            "tags": []
          }
        },
        {
          "output_type": "stream",
          "text": [
            "[Succeeded / Failed / Total] 13 / 11 / 25: 100%|██████████| 25/25 [09:51<00:00, 23.68s/it]"
          ],
          "name": "stderr"
        },
        {
          "output_type": "display_data",
          "data": {
            "text/html": [
              "<font color = purple>Sci/tech (100%)</font> --> <font color = red>[FAILED]</font><br>News: Sluggish movement on power grid cyber security Industry cyber security standards fail to reach some of the most vulnerable components of the power grid.\\"
            ],
            "text/plain": [
              "<IPython.core.display.HTML object>"
            ]
          },
          "metadata": {
            "tags": []
          }
        },
        {
          "output_type": "stream",
          "text": [
            "[Succeeded / Failed / Total] 13 / 12 / 26: : 26it [09:59, 23.05s/it]"
          ],
          "name": "stderr"
        },
        {
          "output_type": "stream",
          "text": [
            "+-------------------------------+--------+\n",
            "| Attack Results                |        |\n",
            "+-------------------------------+--------+\n",
            "| Number of successful attacks: | 13     |\n",
            "| Number of failed attacks:     | 12     |\n",
            "| Number of skipped attacks:    | 1      |\n",
            "| Original accuracy:            | 96.15% |\n",
            "| Accuracy under attack:        | 46.15% |\n",
            "| Attack success rate:          | 52.0%  |\n",
            "| Average perturbed word %:     | 19.98% |\n",
            "| Average num. words per input: | 45.54  |\n",
            "| Avg num queries:              | 558.24 |\n",
            "+-------------------------------+--------+"
          ],
          "name": "stdout"
        },
        {
          "output_type": "stream",
          "text": [
            "\n",
            "\u001b[34;1mtextattack\u001b[0m: Attack time: 599.1855063438416s\n"
          ],
          "name": "stderr"
        }
      ]
    },
    {
      "cell_type": "markdown",
      "metadata": {
        "id": "JjjKuY91FPqf"
      },
      "source": [
        "# Framing word2vec attack"
      ]
    },
    {
      "cell_type": "code",
      "metadata": {
        "id": "pp7L4aR6FRVP"
      },
      "source": [
        "from textattack.transformations import WordSwap\n",
        "\n",
        "class Swapper_(WordSwap): # For word2vec\n",
        "    \"\"\" Transforms an input by replacing any word with its most similar counterpart\n",
        "    \"\"\"\n",
        "\n",
        "    # We don't need a constructor, since our class doesn't require any parameters.\n",
        "\n",
        "    def _get_replacement_words(self, word):\n",
        "        \"\"\" Returns 'banana', no matter what 'word' was originally.\n",
        "\n",
        "            Returns a list with one item, since `_get_replacement_words` is intended to\n",
        "                return a list of candidate replacement words.\n",
        "        \"\"\"\n",
        "        if word in model2.wv.key_to_index:\n",
        "            for i in range(10):\n",
        "                if word.lower() in model2.wv.most_similar(word)[i][0].lower():\n",
        "                    continue\n",
        "                elif word.isupper():\n",
        "                    return [model2.wv.most_similar(word)[i][0].upper()]\n",
        "                elif word[0].isupper():\n",
        "                    return [model2.wv.most_similar(word)[i][0].capitalize()]\n",
        "                else:\n",
        "                    return [model2.wv.most_similar(word)[i][0]]\n",
        "        else:\n",
        "            return [word]"
      ],
      "execution_count": 16,
      "outputs": []
    },
    {
      "cell_type": "code",
      "metadata": {
        "id": "enY5C3DDBwlo",
        "colab": {
          "base_uri": "https://localhost:8080/"
        },
        "outputId": "1b473f45-d1af-499f-bc44-44e54402056e"
      },
      "source": [
        "from textattack.search_methods import GreedySearch\n",
        "from textattack.constraints.pre_transformation import RepeatModification, StopwordModification\n",
        "from textattack.shared import Attack\n",
        "from textattack.goal_functions import UntargetedClassification\n",
        "from textattack.datasets import HuggingFaceDataset\n",
        "\n",
        "# We're going to use our word swap class as the attack transformation.\n",
        "transformation = Swapper_()\n",
        "\n",
        "constraints = [RepeatModification(),\n",
        "               StopwordModification()]\n",
        "\n",
        "search_method = GreedySearch()\n",
        "\n",
        "goal_function = UntargetedClassification(model_wrapper)\n",
        "\n",
        "# Now, let's make the attack from the 4 components:\n",
        "attack = Attack(goal_function, constraints, transformation, search_method)\n",
        "\n",
        "dataset = HuggingFaceDataset(\"ag_news\", None, \"test\") # Change the dataset"
      ],
      "execution_count": 17,
      "outputs": [
        {
          "output_type": "stream",
          "text": [
            "\u001b[34;1mtextattack\u001b[0m: Unknown if model of class <class 'transformers.models.bert.modeling_bert.BertForSequenceClassification'> compatible with goal function <class 'textattack.goal_functions.classification.untargeted_classification.UntargetedClassification'>.\n",
            "Using custom data configuration default\n",
            "Reusing dataset ag_news (/root/.cache/huggingface/datasets/ag_news/default/0.0.0/0eeeaaa5fb6dffd81458e293dfea1adba2881ffcbdc3fb56baeb5a892566c29a)\n",
            "\u001b[34;1mtextattack\u001b[0m: Loading \u001b[94mdatasets\u001b[0m dataset \u001b[94mag_news\u001b[0m, split \u001b[94mtest\u001b[0m.\n"
          ],
          "name": "stderr"
        }
      ]
    },
    {
      "cell_type": "code",
      "metadata": {
        "colab": {
          "base_uri": "https://localhost:8080/"
        },
        "id": "axfmmqOUlwtU",
        "outputId": "335602cd-9937-4e5d-888b-67121aba1bd9"
      },
      "source": [
        "print(attack)"
      ],
      "execution_count": 18,
      "outputs": [
        {
          "output_type": "stream",
          "text": [
            "Attack(\n",
            "  (search_method): GreedySearch\n",
            "  (goal_function):  UntargetedClassification\n",
            "  (transformation):  Swapper_\n",
            "  (constraints): \n",
            "    (0): RepeatModification\n",
            "    (1): StopwordModification\n",
            "  (is_black_box):  True\n",
            ")\n"
          ],
          "name": "stdout"
        }
      ]
    },
    {
      "cell_type": "code",
      "metadata": {
        "id": "FhK7my9wFTcj",
        "colab": {
          "base_uri": "https://localhost:8080/",
          "height": 1000
        },
        "outputId": "ec7f5f7b-1f9b-4077-d88d-7ef713bb457c"
      },
      "source": [
        "printexample(attack)"
      ],
      "execution_count": 19,
      "outputs": [
        {
          "output_type": "stream",
          "text": [
            "\r  0%|          | 0/25 [00:00<?, ?it/s]"
          ],
          "name": "stderr"
        },
        {
          "output_type": "stream",
          "text": [
            "Attack(\n",
            "  (search_method): GreedySearch\n",
            "  (goal_function):  UntargetedClassification\n",
            "  (transformation):  Swapper_\n",
            "  (constraints): \n",
            "    (0): RepeatModification\n",
            "    (1): StopwordModification\n",
            "  (is_black_box):  True\n",
            ")\n"
          ],
          "name": "stdout"
        },
        {
          "output_type": "display_data",
          "data": {
            "text/html": [
              "<font color = blue>Business (100%)</font> --> <font color = red>[FAILED]</font><br>Fears for T N pension after talks Unions representing workers at Turner   Newall say they are 'disappointed' after talks with stricken parent firm Federal Mogul."
            ],
            "text/plain": [
              "<IPython.core.display.HTML object>"
            ]
          },
          "metadata": {
            "tags": []
          }
        },
        {
          "output_type": "stream",
          "text": [
            "[Succeeded / Failed / Total] 0 / 1 / 1:   4%|▍         | 1/25 [00:01<00:44,  1.85s/it]"
          ],
          "name": "stderr"
        },
        {
          "output_type": "display_data",
          "data": {
            "text/html": [
              "<font color = purple>Sci/tech (100%)</font> --> <font color = red>[FAILED]</font><br>The Race is On: Second Private Team Sets Launch Date for Human Spaceflight (SPACE.com) SPACE.com - TORONTO, Canada -- A second\\team of rocketeers competing for the  #36;10 million Ansari X Prize, a contest for\\privately funded suborbital space flight, has officially announced the first\\launch date for its manned rocket."
            ],
            "text/plain": [
              "<IPython.core.display.HTML object>"
            ]
          },
          "metadata": {
            "tags": []
          }
        },
        {
          "output_type": "stream",
          "text": [
            "[Succeeded / Failed / Total] 0 / 2 / 2:   8%|▊         | 2/25 [00:09<01:50,  4.80s/it]"
          ],
          "name": "stderr"
        },
        {
          "output_type": "display_data",
          "data": {
            "text/html": [
              "<font color = purple>Sci/tech (100%)</font> --> <font color = red>[FAILED]</font><br>Ky. Company Wins Grant to Study Peptides (AP) AP - A company founded by a chemistry researcher at the University of Louisville won a grant to develop a method of producing better peptides, which are short chains of amino acids, the building blocks of proteins."
            ],
            "text/plain": [
              "<IPython.core.display.HTML object>"
            ]
          },
          "metadata": {
            "tags": []
          }
        },
        {
          "output_type": "stream",
          "text": [
            "[Succeeded / Failed / Total] 0 / 3 / 3:  12%|█▏        | 3/25 [00:15<01:54,  5.21s/it]"
          ],
          "name": "stderr"
        },
        {
          "output_type": "display_data",
          "data": {
            "text/html": [
              "<font color = purple>Sci/tech (100%)</font> --> <font color = red>[FAILED]</font><br>Prediction Unit Helps Forecast Wildfires (AP) AP - It's barely dawn when Mike Fitzpatrick starts his shift with a blur of colorful maps, figures and endless charts, but already he knows what the day will bring. Lightning will strike in places he expects. Winds will pick up, moist places will dry and flames will roar."
            ],
            "text/plain": [
              "<IPython.core.display.HTML object>"
            ]
          },
          "metadata": {
            "tags": []
          }
        },
        {
          "output_type": "stream",
          "text": [
            "[Succeeded / Failed / Total] 0 / 4 / 4:  16%|█▌        | 4/25 [00:26<02:18,  6.62s/it]"
          ],
          "name": "stderr"
        },
        {
          "output_type": "display_data",
          "data": {
            "text/html": [
              "<font color = purple>Sci/tech (100%)</font> --> <font color = red>[FAILED]</font><br>Calif. Aims to Limit Farm-Related Smog (AP) AP - Southern California's smog-fighting agency went after emissions of the bovine variety Friday, adopting the nation's first rules to reduce air pollution from dairy cow manure."
            ],
            "text/plain": [
              "<IPython.core.display.HTML object>"
            ]
          },
          "metadata": {
            "tags": []
          }
        },
        {
          "output_type": "stream",
          "text": [
            "[Succeeded / Failed / Total] 0 / 5 / 5:  20%|██        | 5/25 [00:30<02:02,  6.12s/it]"
          ],
          "name": "stderr"
        },
        {
          "output_type": "display_data",
          "data": {
            "text/html": [
              "<font color = purple>Sci/tech (100%)</font> --> <font color = red>[FAILED]</font><br>Open Letter Against British Copyright Indoctrination in Schools The British Department for Education and Skills (DfES) recently launched a \"Music Manifesto\" campaign, with the ostensible intention of educating the next generation of British musicians. Unfortunately, they also teamed up with the music industry (EMI, and various artists) to make this popular. EMI has apparently negotiated their end well, so that children in our schools will now be indoctrinated about the illegality of downloading music.The ignorance and audacity of this got to me a little, so I wrote an open letter to the DfES about it. Unfortunately, it's pedantic, as I suppose you have to be when writing to goverment representatives. But I hope you find it useful, and perhaps feel inspired to do something similar, if or when the same thing has happened in your area."
            ],
            "text/plain": [
              "<IPython.core.display.HTML object>"
            ]
          },
          "metadata": {
            "tags": []
          }
        },
        {
          "output_type": "stream",
          "text": [
            "[Succeeded / Failed / Total] 0 / 6 / 6:  24%|██▍       | 6/25 [01:20<04:16, 13.49s/it]"
          ],
          "name": "stderr"
        },
        {
          "output_type": "display_data",
          "data": {
            "text/html": [
              "<font color = purple>Sci/tech (100%)</font> --> <font color = red>[FAILED]</font><br>Loosing the War on Terrorism \\\\\"Sven Jaschan, self-confessed author of the Netsky and Sasser viruses, is\\responsible for 70 percent of virus infections in 2004, according to a six-month\\virus roundup published Wednesday by antivirus company Sophos.\"\\\\\"The 18-year-old Jaschan was taken into custody in Germany in May by police who\\said he had admitted programming both the Netsky and Sasser worms, something\\experts at Microsoft confirmed. (A Microsoft antivirus reward program led to the\\teenager's arrest.) During the five months preceding Jaschan's capture, there\\were at least 25 variants of Netsky and one of the port-scanning network worm\\Sasser.\"\\\\\"Graham Cluley, senior technology consultant at Sophos, said it was staggeri ...\\\\"
            ],
            "text/plain": [
              "<IPython.core.display.HTML object>"
            ]
          },
          "metadata": {
            "tags": []
          }
        },
        {
          "output_type": "stream",
          "text": [
            "[Succeeded / Failed / Total] 0 / 7 / 7:  28%|██▊       | 7/25 [01:51<04:45, 15.88s/it]"
          ],
          "name": "stderr"
        },
        {
          "output_type": "display_data",
          "data": {
            "text/html": [
              "<font color = purple>Sci/tech (100%)</font> --> <font color = red>[FAILED]</font><br>FOAFKey: FOAF, PGP, Key Distribution, and Bloom Filters \\\\FOAF/LOAF  and bloom filters have a lot of interesting properties for social\\network and whitelist distribution.\\\\I think we can go one level higher though and include GPG/OpenPGP key\\fingerpring distribution in the FOAF file for simple web-of-trust based key\\distribution.\\\\What if we used FOAF and included the PGP key fingerprint(s) for identities?\\This could mean a lot.  You include the PGP key fingerprints within the FOAF\\file of your direct friends and then include a bloom filter of the PGP key\\fingerprints of your entire whitelist (the source FOAF file would of course need\\to be encrypted ).\\\\Your whitelist would be populated from the social network as your client\\discovered new identit ...\\\\"
            ],
            "text/plain": [
              "<IPython.core.display.HTML object>"
            ]
          },
          "metadata": {
            "tags": []
          }
        },
        {
          "output_type": "stream",
          "text": [
            "[Succeeded / Failed / Total] 0 / 8 / 8:  32%|███▏      | 8/25 [02:56<06:15, 22.08s/it]"
          ],
          "name": "stderr"
        },
        {
          "output_type": "display_data",
          "data": {
            "text/html": [
              "<font color = purple>Sci/tech (98%)</font> --> <font color = red>[FAILED]</font><br>E-mail scam targets police chief Wiltshire Police warns about \"phishing\" after its fraud squad chief was targeted."
            ],
            "text/plain": [
              "<IPython.core.display.HTML object>"
            ]
          },
          "metadata": {
            "tags": []
          }
        },
        {
          "output_type": "stream",
          "text": [
            "[Succeeded / Failed / Total] 0 / 9 / 9:  36%|███▌      | 9/25 [02:58<05:18, 19.88s/it]"
          ],
          "name": "stderr"
        },
        {
          "output_type": "display_data",
          "data": {
            "text/html": [
              "<font color = purple>Sci/tech (98%)</font> --> <font color = blue>Business (71%)</font><br>Card fraud unit nets 36,000 cards In its first two years, the UK's dedicated <font color = purple>card</font> fraud unit, has recovered 36,000 stolen cards and 171 arrests - and estimates it saved 65m.<br>Card fraud unit nets 36,000 cards In its first two years, the UK's dedicated <font color = blue>collectible</font> fraud unit, has recovered 36,000 stolen cards and 171 arrests - and estimates it saved 65m."
            ],
            "text/plain": [
              "<IPython.core.display.HTML object>"
            ]
          },
          "metadata": {
            "tags": []
          }
        },
        {
          "output_type": "stream",
          "text": [
            "[Succeeded / Failed / Total] 1 / 9 / 10:  40%|████      | 10/25 [02:59<04:29, 17.96s/it]"
          ],
          "name": "stderr"
        },
        {
          "output_type": "display_data",
          "data": {
            "text/html": [
              "<font color = purple>Sci/tech (100%)</font> --> <font color = red>[FAILED]</font><br>Group to Propose New High-Speed Wireless Format  LOS ANGELES (Reuters) - A group of technology companies  including Texas Instruments Inc. &lt;TXN.N&gt;, STMicroelectronics  &lt;STM.PA&gt; and Broadcom Corp. &lt;BRCM.O&gt;, on Thursday said they  will propose a new wireless networking standard up to 10 times  the speed of the current generation."
            ],
            "text/plain": [
              "<IPython.core.display.HTML object>"
            ]
          },
          "metadata": {
            "tags": []
          }
        },
        {
          "output_type": "stream",
          "text": [
            "[Succeeded / Failed / Total] 1 / 10 / 11:  44%|████▍     | 11/25 [03:08<03:59, 17.10s/it]"
          ],
          "name": "stderr"
        },
        {
          "output_type": "display_data",
          "data": {
            "text/html": [
              "<font color = purple>Sci/tech (100%)</font> --> <font color = red>[FAILED]</font><br>Apple Launches Graphics Software, Video Bundle  LOS ANGELES (Reuters) - Apple Computer Inc.&lt;AAPL.O&gt; on  Tuesday began shipping a new program designed to let users  create real-time motion graphics and unveiled a discount  video-editing software bundle featuring its flagship Final Cut  Pro software."
            ],
            "text/plain": [
              "<IPython.core.display.HTML object>"
            ]
          },
          "metadata": {
            "tags": []
          }
        },
        {
          "output_type": "stream",
          "text": [
            "[Succeeded / Failed / Total] 1 / 11 / 12:  48%|████▊     | 12/25 [03:15<03:31, 16.30s/it]"
          ],
          "name": "stderr"
        },
        {
          "output_type": "display_data",
          "data": {
            "text/html": [
              "<font color = purple>Sci/tech (100%)</font> --> <font color = red>[FAILED]</font><br>Dutch Retailer Beats Apple to Local Download Market  AMSTERDAM (Reuters) - Free Record Shop, a Dutch music  retail chain, beat Apple Computer Inc. to market on Tuesday  with the launch of a new download service in Europe's latest  battleground for digital song services."
            ],
            "text/plain": [
              "<IPython.core.display.HTML object>"
            ]
          },
          "metadata": {
            "tags": []
          }
        },
        {
          "output_type": "stream",
          "text": [
            "[Succeeded / Failed / Total] 1 / 12 / 13:  52%|█████▏    | 13/25 [03:19<03:04, 15.38s/it]"
          ],
          "name": "stderr"
        },
        {
          "output_type": "display_data",
          "data": {
            "text/html": [
              "<font color = purple>Sci/tech (99%)</font> --> <font color = red>[FAILED]</font><br>Super ant colony hits Australia A giant 100km colony of ants  which has been discovered in Melbourne, Australia, could threaten local insect species."
            ],
            "text/plain": [
              "<IPython.core.display.HTML object>"
            ]
          },
          "metadata": {
            "tags": []
          }
        },
        {
          "output_type": "stream",
          "text": [
            "[Succeeded / Failed / Total] 1 / 13 / 14:  56%|█████▌    | 14/25 [03:23<02:39, 14.50s/it]"
          ],
          "name": "stderr"
        },
        {
          "output_type": "display_data",
          "data": {
            "text/html": [
              "<font color = purple>Sci/tech (97%)</font> --> <font color = red>[FAILED]</font><br>Socialites unite dolphin groups Dolphin groups, or \"pods\", rely on socialites to keep them from collapsing, scientists claim."
            ],
            "text/plain": [
              "<IPython.core.display.HTML object>"
            ]
          },
          "metadata": {
            "tags": []
          }
        },
        {
          "output_type": "stream",
          "text": [
            "[Succeeded / Failed / Total] 1 / 14 / 15:  60%|██████    | 15/25 [03:25<02:17, 13.71s/it]"
          ],
          "name": "stderr"
        },
        {
          "output_type": "display_data",
          "data": {
            "text/html": [
              "<font color = purple>Sci/tech (100%)</font> --> <font color = red>[FAILED]</font><br>Teenage T. rex's monster growth Tyrannosaurus rex achieved its massive size due to an enormous growth spurt during its adolescent years."
            ],
            "text/plain": [
              "<IPython.core.display.HTML object>"
            ]
          },
          "metadata": {
            "tags": []
          }
        },
        {
          "output_type": "stream",
          "text": [
            "[Succeeded / Failed / Total] 1 / 15 / 16:  64%|██████▍   | 16/25 [03:28<01:57, 13.05s/it]"
          ],
          "name": "stderr"
        },
        {
          "output_type": "display_data",
          "data": {
            "text/html": [
              "<font color = purple>Sci/tech (100%)</font> --> <font color = red>[FAILED]</font><br>Scientists Discover Ganymede has a Lumpy Interior Jet Propulsion Lab -- Scientists have discovered irregular lumps beneath the icy surface of Jupiter's largest moon, Ganymede. These irregular masses may be rock formations, supported by Ganymede's icy shell for billions of years..."
            ],
            "text/plain": [
              "<IPython.core.display.HTML object>"
            ]
          },
          "metadata": {
            "tags": []
          }
        },
        {
          "output_type": "stream",
          "text": [
            "[Succeeded / Failed / Total] 1 / 16 / 17:  68%|██████▊   | 17/25 [03:35<01:41, 12.68s/it]"
          ],
          "name": "stderr"
        },
        {
          "output_type": "display_data",
          "data": {
            "text/html": [
              "<font color = purple>Sci/tech (100%)</font> --> <font color = red>[FAILED]</font><br>Mars Rovers Relay Images Through Mars Express European Space Agency -- ESAs Mars Express has relayed pictures from one of NASA's Mars rovers for the first time, as part of a set of interplanetary networking demonstrations.     The demonstrations pave the way for future Mars missions to draw on joint interplanetary networking capabilities..."
            ],
            "text/plain": [
              "<IPython.core.display.HTML object>"
            ]
          },
          "metadata": {
            "tags": []
          }
        },
        {
          "output_type": "stream",
          "text": [
            "[Succeeded / Failed / Total] 1 / 17 / 18:  72%|███████▏  | 18/25 [03:44<01:27, 12.48s/it]"
          ],
          "name": "stderr"
        },
        {
          "output_type": "display_data",
          "data": {
            "text/html": [
              "<font color = purple>Sci/tech (100%)</font> --> <font color = red>[FAILED]</font><br>Rocking the Cradle of Life When did life begin? One evidential clue stems from the fossil records in Western Australia, although whether these layered sediments are biological or chemical has spawned a spirited debate. Oxford researcher, Nicola McLoughlin, describes some of the issues in contention."
            ],
            "text/plain": [
              "<IPython.core.display.HTML object>"
            ]
          },
          "metadata": {
            "tags": []
          }
        },
        {
          "output_type": "stream",
          "text": [
            "[Succeeded / Failed / Total] 1 / 18 / 19:  76%|███████▌  | 19/25 [03:52<01:13, 12.26s/it]"
          ],
          "name": "stderr"
        },
        {
          "output_type": "display_data",
          "data": {
            "text/html": [
              "<font color = purple>Sci/tech (100%)</font> --> <font color = red>[FAILED]</font><br>Storage, servers bruise HP earnings update Earnings per share rise compared with a year ago, but company misses analysts' expectations by a long shot."
            ],
            "text/plain": [
              "<IPython.core.display.HTML object>"
            ]
          },
          "metadata": {
            "tags": []
          }
        },
        {
          "output_type": "stream",
          "text": [
            "[Succeeded / Failed / Total] 1 / 19 / 20:  80%|████████  | 20/25 [03:57<00:59, 11.89s/it]"
          ],
          "name": "stderr"
        },
        {
          "output_type": "display_data",
          "data": {
            "text/html": [
              "<font color = purple>Sci/tech (88%)</font> --> <font color = blue>Business (73%)</font><br>IBM to hire even more <font color = purple>new</font> workers By the end of the year, the computing giant plans to have its biggest headcount since 1991.<br>IBM to hire even more <font color = blue>york</font> workers By the end of the year, the computing giant plans to have its biggest headcount since 1991."
            ],
            "text/plain": [
              "<IPython.core.display.HTML object>"
            ]
          },
          "metadata": {
            "tags": []
          }
        },
        {
          "output_type": "stream",
          "text": [
            "[Succeeded / Failed / Total] 2 / 19 / 21:  84%|████████▍ | 21/25 [03:58<00:45, 11.34s/it]"
          ],
          "name": "stderr"
        },
        {
          "output_type": "display_data",
          "data": {
            "text/html": [
              "<font color = purple>Sci/tech (100%)</font> --> <font color = red>[FAILED]</font><br>Sun's Looking Glass Provides 3D View Developers get early code for new operating system 'skin' still being crafted."
            ],
            "text/plain": [
              "<IPython.core.display.HTML object>"
            ]
          },
          "metadata": {
            "tags": []
          }
        },
        {
          "output_type": "stream",
          "text": [
            "[Succeeded / Failed / Total] 2 / 20 / 22:  88%|████████▊ | 22/25 [03:59<00:32, 10.90s/it]"
          ],
          "name": "stderr"
        },
        {
          "output_type": "display_data",
          "data": {
            "text/html": [
              "<font color = purple>Sci/tech (100%)</font> --> <font color = red>[FAILED]</font><br>IBM Chips May Someday Heal Themselves New technology applies electrical fuses to help identify and repair faults."
            ],
            "text/plain": [
              "<IPython.core.display.HTML object>"
            ]
          },
          "metadata": {
            "tags": []
          }
        },
        {
          "output_type": "stream",
          "text": [
            "[Succeeded / Failed / Total] 2 / 21 / 23:  92%|█████████▏| 23/25 [04:01<00:20, 10.49s/it]"
          ],
          "name": "stderr"
        },
        {
          "output_type": "display_data",
          "data": {
            "text/html": [
              "<font color = blue>Business (97%)</font> --> <font color = gray>[SKIPPED]</font><br>Some People Not Eligible to Get in on Google IPO Google has billed its IPO as a way for everyday people to get in on the process, denying Wall Street the usual stranglehold it's had on IPOs. Public bidding, a minimum of just five shares, an open process with 28 underwriters - all this pointed to a new level of public participation. But this isn't the case."
            ],
            "text/plain": [
              "<IPython.core.display.HTML object>"
            ]
          },
          "metadata": {
            "tags": []
          }
        },
        {
          "output_type": "stream",
          "text": [
            "\r[Succeeded / Failed / Total] 2 / 21 / 24:  96%|█████████▌| 24/25 [04:01<00:10, 10.06s/it]"
          ],
          "name": "stderr"
        },
        {
          "output_type": "display_data",
          "data": {
            "text/html": [
              "<font color = purple>Sci/tech (100%)</font> --> <font color = red>[FAILED]</font><br>Rivals Try to Turn Tables on Charles Schwab By MICHAEL LIEDTKE     SAN FRANCISCO (AP) -- With its low prices and iconoclastic attitude, discount stock broker Charles Schwab Corp. (SCH) represented an annoying stone in Wall Street's wing-tipped shoes for decades..."
            ],
            "text/plain": [
              "<IPython.core.display.HTML object>"
            ]
          },
          "metadata": {
            "tags": []
          }
        },
        {
          "output_type": "stream",
          "text": [
            "[Succeeded / Failed / Total] 2 / 22 / 25: 100%|██████████| 25/25 [04:04<00:00,  9.78s/it]"
          ],
          "name": "stderr"
        },
        {
          "output_type": "display_data",
          "data": {
            "text/html": [
              "<font color = purple>Sci/tech (100%)</font> --> <font color = red>[FAILED]</font><br>News: Sluggish movement on power grid cyber security Industry cyber security standards fail to reach some of the most vulnerable components of the power grid.\\"
            ],
            "text/plain": [
              "<IPython.core.display.HTML object>"
            ]
          },
          "metadata": {
            "tags": []
          }
        },
        {
          "output_type": "stream",
          "text": [
            "[Succeeded / Failed / Total] 2 / 23 / 26: : 26it [04:08,  9.56s/it]"
          ],
          "name": "stderr"
        },
        {
          "output_type": "stream",
          "text": [
            "+-------------------------------+--------+\n",
            "| Attack Results                |        |\n",
            "+-------------------------------+--------+\n",
            "| Number of successful attacks: | 2      |\n",
            "| Number of failed attacks:     | 23     |\n",
            "| Number of skipped attacks:    | 1      |\n",
            "| Original accuracy:            | 96.15% |\n",
            "| Accuracy under attack:        | 88.46% |\n",
            "| Attack success rate:          | 8.0%   |\n",
            "| Average perturbed word %:     | 3.65%  |\n",
            "| Average num. words per input: | 45.54  |\n",
            "| Avg num queries:              | 246.12 |\n",
            "+-------------------------------+--------+"
          ],
          "name": "stdout"
        },
        {
          "output_type": "stream",
          "text": [
            "\n",
            "\u001b[34;1mtextattack\u001b[0m: Attack time: 248.6719183921814s\n"
          ],
          "name": "stderr"
        }
      ]
    },
    {
      "cell_type": "markdown",
      "metadata": {
        "id": "Q8odOqt_MctY"
      },
      "source": [
        "# Forming Glove attack"
      ]
    },
    {
      "cell_type": "code",
      "metadata": {
        "id": "d4dI_hK_MXdH"
      },
      "source": [
        "from textattack.transformations import WordSwap\n",
        "\n",
        "class Swapper__(WordSwap): # For glove\n",
        "    \"\"\" Transforms an input by replacing any word with its most similar counterpart\n",
        "    \"\"\"\n",
        "\n",
        "    # We don't need a constructor, since our class doesn't require any parameters.\n",
        "\n",
        "    def _get_replacement_words(self, word):\n",
        "        \"\"\" Returns 'banana', no matter what 'word' was originally.\n",
        "\n",
        "            Returns a list with one item, since `_get_replacement_words` is intended to\n",
        "                return a list of candidate replacement words.\n",
        "        \"\"\"\n",
        "        if word in model3.key_to_index:\n",
        "            for i in range(10):\n",
        "                if word.lower() in model3.most_similar(word)[i][0].lower():\n",
        "                    continue\n",
        "                elif word.isupper():\n",
        "                    return [model3.most_similar(word)[i][0].upper()]\n",
        "                elif word[0].isupper():\n",
        "                    return [model3.most_similar(word)[i][0].capitalize()]\n",
        "                else:\n",
        "                    return [model3.most_similar(word)[i][0]]\n",
        "        else:\n",
        "            return [word]"
      ],
      "execution_count": 20,
      "outputs": []
    },
    {
      "cell_type": "code",
      "metadata": {
        "colab": {
          "base_uri": "https://localhost:8080/"
        },
        "id": "TSxsdoTqNmYM",
        "outputId": "3edba10d-6d4c-45a7-ead0-0a3f69a97c6e"
      },
      "source": [
        "from textattack.search_methods import GreedySearch\n",
        "from textattack.constraints.pre_transformation import RepeatModification, StopwordModification\n",
        "from textattack.shared import Attack\n",
        "from textattack.goal_functions import UntargetedClassification\n",
        "from textattack.datasets import HuggingFaceDataset\n",
        "\n",
        "# We're going to use our word swap class as the attack transformation.\n",
        "transformation = Swapper__()\n",
        "\n",
        "constraints = [RepeatModification(),\n",
        "               StopwordModification()]\n",
        "\n",
        "search_method = GreedySearch()\n",
        "\n",
        "goal_function = UntargetedClassification(model_wrapper)\n",
        "\n",
        "# Now, let's make the attack from the 4 components:\n",
        "attack = Attack(goal_function, constraints, transformation, search_method)\n",
        "\n",
        "dataset = HuggingFaceDataset(\"ag_news\", None, \"test\") # Change the dataset"
      ],
      "execution_count": 21,
      "outputs": [
        {
          "output_type": "stream",
          "text": [
            "\u001b[34;1mtextattack\u001b[0m: Unknown if model of class <class 'transformers.models.bert.modeling_bert.BertForSequenceClassification'> compatible with goal function <class 'textattack.goal_functions.classification.untargeted_classification.UntargetedClassification'>.\n",
            "Using custom data configuration default\n",
            "Reusing dataset ag_news (/root/.cache/huggingface/datasets/ag_news/default/0.0.0/0eeeaaa5fb6dffd81458e293dfea1adba2881ffcbdc3fb56baeb5a892566c29a)\n",
            "\u001b[34;1mtextattack\u001b[0m: Loading \u001b[94mdatasets\u001b[0m dataset \u001b[94mag_news\u001b[0m, split \u001b[94mtest\u001b[0m.\n"
          ],
          "name": "stderr"
        }
      ]
    },
    {
      "cell_type": "code",
      "metadata": {
        "colab": {
          "base_uri": "https://localhost:8080/"
        },
        "id": "yipMMe1VNuRP",
        "outputId": "b63798f2-5be5-44f0-8afe-5f3a74589ec9"
      },
      "source": [
        "print(attack)"
      ],
      "execution_count": 22,
      "outputs": [
        {
          "output_type": "stream",
          "text": [
            "Attack(\n",
            "  (search_method): GreedySearch\n",
            "  (goal_function):  UntargetedClassification\n",
            "  (transformation):  Swapper__\n",
            "  (constraints): \n",
            "    (0): RepeatModification\n",
            "    (1): StopwordModification\n",
            "  (is_black_box):  True\n",
            ")\n"
          ],
          "name": "stdout"
        }
      ]
    },
    {
      "cell_type": "code",
      "metadata": {
        "colab": {
          "base_uri": "https://localhost:8080/",
          "height": 1000
        },
        "id": "cpWQXGpDN1SB",
        "outputId": "b2e0822a-a667-40c6-8f10-edaa30ffcc8c"
      },
      "source": [
        "printexample(attack)"
      ],
      "execution_count": 23,
      "outputs": [
        {
          "output_type": "stream",
          "text": [
            "\r  0%|          | 0/25 [00:00<?, ?it/s]"
          ],
          "name": "stderr"
        },
        {
          "output_type": "stream",
          "text": [
            "Attack(\n",
            "  (search_method): GreedySearch\n",
            "  (goal_function):  UntargetedClassification\n",
            "  (transformation):  Swapper__\n",
            "  (constraints): \n",
            "    (0): RepeatModification\n",
            "    (1): StopwordModification\n",
            "  (is_black_box):  True\n",
            ")\n"
          ],
          "name": "stdout"
        },
        {
          "output_type": "display_data",
          "data": {
            "text/html": [
              "<font color = blue>Business (100%)</font> --> <font color = red>[FAILED]</font><br>Fears for T N pension after talks Unions representing workers at Turner   Newall say they are 'disappointed' after talks with stricken parent firm Federal Mogul."
            ],
            "text/plain": [
              "<IPython.core.display.HTML object>"
            ]
          },
          "metadata": {
            "tags": []
          }
        },
        {
          "output_type": "stream",
          "text": [
            "[Succeeded / Failed / Total] 0 / 1 / 1:   4%|▍         | 1/25 [00:02<01:10,  2.92s/it]"
          ],
          "name": "stderr"
        },
        {
          "output_type": "display_data",
          "data": {
            "text/html": [
              "<font color = purple>Sci/tech (100%)</font> --> <font color = red>[FAILED]</font><br>The Race is On: Second Private Team Sets Launch Date for Human Spaceflight (SPACE.com) SPACE.com - TORONTO, Canada -- A second\\team of rocketeers competing for the  #36;10 million Ansari X Prize, a contest for\\privately funded suborbital space flight, has officially announced the first\\launch date for its manned rocket."
            ],
            "text/plain": [
              "<IPython.core.display.HTML object>"
            ]
          },
          "metadata": {
            "tags": []
          }
        },
        {
          "output_type": "stream",
          "text": [
            "[Succeeded / Failed / Total] 0 / 2 / 2:   8%|▊         | 2/25 [00:16<03:07,  8.13s/it]"
          ],
          "name": "stderr"
        },
        {
          "output_type": "display_data",
          "data": {
            "text/html": [
              "<font color = purple>Sci/tech (100%)</font> --> <font color = red>[FAILED]</font><br>Ky. Company Wins Grant to Study Peptides (AP) AP - A company founded by a chemistry researcher at the University of Louisville won a grant to develop a method of producing better peptides, which are short chains of amino acids, the building blocks of proteins."
            ],
            "text/plain": [
              "<IPython.core.display.HTML object>"
            ]
          },
          "metadata": {
            "tags": []
          }
        },
        {
          "output_type": "stream",
          "text": [
            "[Succeeded / Failed / Total] 0 / 3 / 3:  12%|█▏        | 3/25 [00:25<03:10,  8.66s/it]"
          ],
          "name": "stderr"
        },
        {
          "output_type": "display_data",
          "data": {
            "text/html": [
              "<font color = purple>Sci/tech (100%)</font> --> <font color = red>[FAILED]</font><br>Prediction Unit Helps Forecast Wildfires (AP) AP - It's barely dawn when Mike Fitzpatrick starts his shift with a blur of colorful maps, figures and endless charts, but already he knows what the day will bring. Lightning will strike in places he expects. Winds will pick up, moist places will dry and flames will roar."
            ],
            "text/plain": [
              "<IPython.core.display.HTML object>"
            ]
          },
          "metadata": {
            "tags": []
          }
        },
        {
          "output_type": "stream",
          "text": [
            "[Succeeded / Failed / Total] 0 / 4 / 4:  16%|█▌        | 4/25 [00:43<03:47, 10.85s/it]"
          ],
          "name": "stderr"
        },
        {
          "output_type": "display_data",
          "data": {
            "text/html": [
              "<font color = purple>Sci/tech (100%)</font> --> <font color = red>[FAILED]</font><br>Calif. Aims to Limit Farm-Related Smog (AP) AP - Southern California's smog-fighting agency went after emissions of the bovine variety Friday, adopting the nation's first rules to reduce air pollution from dairy cow manure."
            ],
            "text/plain": [
              "<IPython.core.display.HTML object>"
            ]
          },
          "metadata": {
            "tags": []
          }
        },
        {
          "output_type": "stream",
          "text": [
            "[Succeeded / Failed / Total] 0 / 5 / 5:  20%|██        | 5/25 [00:49<03:19, 10.00s/it]"
          ],
          "name": "stderr"
        },
        {
          "output_type": "display_data",
          "data": {
            "text/html": [
              "<font color = purple>Sci/tech (100%)</font> --> <font color = red>[FAILED]</font><br>Open Letter Against British Copyright Indoctrination in Schools The British Department for Education and Skills (DfES) recently launched a \"Music Manifesto\" campaign, with the ostensible intention of educating the next generation of British musicians. Unfortunately, they also teamed up with the music industry (EMI, and various artists) to make this popular. EMI has apparently negotiated their end well, so that children in our schools will now be indoctrinated about the illegality of downloading music.The ignorance and audacity of this got to me a little, so I wrote an open letter to the DfES about it. Unfortunately, it's pedantic, as I suppose you have to be when writing to goverment representatives. But I hope you find it useful, and perhaps feel inspired to do something similar, if or when the same thing has happened in your area."
            ],
            "text/plain": [
              "<IPython.core.display.HTML object>"
            ]
          },
          "metadata": {
            "tags": []
          }
        },
        {
          "output_type": "stream",
          "text": [
            "[Succeeded / Failed / Total] 0 / 6 / 6:  24%|██▍       | 6/25 [02:14<07:05, 22.38s/it]"
          ],
          "name": "stderr"
        },
        {
          "output_type": "display_data",
          "data": {
            "text/html": [
              "<font color = purple>Sci/tech (100%)</font> --> <font color = red>[FAILED]</font><br>Loosing the War on Terrorism \\\\\"Sven Jaschan, self-confessed author of the Netsky and Sasser viruses, is\\responsible for 70 percent of virus infections in 2004, according to a six-month\\virus roundup published Wednesday by antivirus company Sophos.\"\\\\\"The 18-year-old Jaschan was taken into custody in Germany in May by police who\\said he had admitted programming both the Netsky and Sasser worms, something\\experts at Microsoft confirmed. (A Microsoft antivirus reward program led to the\\teenager's arrest.) During the five months preceding Jaschan's capture, there\\were at least 25 variants of Netsky and one of the port-scanning network worm\\Sasser.\"\\\\\"Graham Cluley, senior technology consultant at Sophos, said it was staggeri ...\\\\"
            ],
            "text/plain": [
              "<IPython.core.display.HTML object>"
            ]
          },
          "metadata": {
            "tags": []
          }
        },
        {
          "output_type": "stream",
          "text": [
            "[Succeeded / Failed / Total] 0 / 7 / 7:  28%|██▊       | 7/25 [03:07<08:01, 26.76s/it]"
          ],
          "name": "stderr"
        },
        {
          "output_type": "display_data",
          "data": {
            "text/html": [
              "<font color = purple>Sci/tech (100%)</font> --> <font color = red>[FAILED]</font><br>FOAFKey: FOAF, PGP, Key Distribution, and Bloom Filters \\\\FOAF/LOAF  and bloom filters have a lot of interesting properties for social\\network and whitelist distribution.\\\\I think we can go one level higher though and include GPG/OpenPGP key\\fingerpring distribution in the FOAF file for simple web-of-trust based key\\distribution.\\\\What if we used FOAF and included the PGP key fingerprint(s) for identities?\\This could mean a lot.  You include the PGP key fingerprints within the FOAF\\file of your direct friends and then include a bloom filter of the PGP key\\fingerprints of your entire whitelist (the source FOAF file would of course need\\to be encrypted ).\\\\Your whitelist would be populated from the social network as your client\\discovered new identit ...\\\\"
            ],
            "text/plain": [
              "<IPython.core.display.HTML object>"
            ]
          },
          "metadata": {
            "tags": []
          }
        },
        {
          "output_type": "stream",
          "text": [
            "[Succeeded / Failed / Total] 0 / 8 / 8:  32%|███▏      | 8/25 [04:58<10:33, 37.27s/it]"
          ],
          "name": "stderr"
        },
        {
          "output_type": "display_data",
          "data": {
            "text/html": [
              "<font color = purple>Sci/tech (98%)</font> --> <font color = red>World (82%)</font><br>E-mail <font color = purple>scam</font> targets police chief Wiltshire Police warns about \"<font color = purple>phishing</font>\" after its fraud squad chief was <font color = purple>targeted</font>.<br>E-mail <font color = red>widower</font> targets police chief Wiltshire Police warns about \"<font color = red>lollen</font>\" after its fraud squad chief was <font color = red>massacred</font>."
            ],
            "text/plain": [
              "<IPython.core.display.HTML object>"
            ]
          },
          "metadata": {
            "tags": []
          }
        },
        {
          "output_type": "stream",
          "text": [
            "[Succeeded / Failed / Total] 1 / 8 / 9:  36%|███▌      | 9/25 [04:59<08:53, 33.32s/it]"
          ],
          "name": "stderr"
        },
        {
          "output_type": "display_data",
          "data": {
            "text/html": [
              "<font color = purple>Sci/tech (98%)</font> --> <font color = blue>Business (71%)</font><br>Card fraud unit nets 36,000 cards In its first two years, the UK's dedicated <font color = purple>card</font> fraud unit, has recovered 36,000 stolen cards and 171 arrests - and estimates it saved 65m.<br>Card fraud unit nets 36,000 cards In its first two years, the UK's dedicated <font color = blue>collectible</font> fraud unit, has recovered 36,000 stolen cards and 171 arrests - and estimates it saved 65m."
            ],
            "text/plain": [
              "<IPython.core.display.HTML object>"
            ]
          },
          "metadata": {
            "tags": []
          }
        },
        {
          "output_type": "stream",
          "text": [
            "[Succeeded / Failed / Total] 2 / 8 / 10:  40%|████      | 10/25 [05:00<07:31, 30.10s/it]"
          ],
          "name": "stderr"
        },
        {
          "output_type": "display_data",
          "data": {
            "text/html": [
              "<font color = purple>Sci/tech (100%)</font> --> <font color = red>[FAILED]</font><br>Group to Propose New High-Speed Wireless Format  LOS ANGELES (Reuters) - A group of technology companies  including Texas Instruments Inc. &lt;TXN.N&gt;, STMicroelectronics  &lt;STM.PA&gt; and Broadcom Corp. &lt;BRCM.O&gt;, on Thursday said they  will propose a new wireless networking standard up to 10 times  the speed of the current generation."
            ],
            "text/plain": [
              "<IPython.core.display.HTML object>"
            ]
          },
          "metadata": {
            "tags": []
          }
        },
        {
          "output_type": "stream",
          "text": [
            "[Succeeded / Failed / Total] 2 / 9 / 11:  44%|████▍     | 11/25 [05:14<06:40, 28.61s/it]"
          ],
          "name": "stderr"
        },
        {
          "output_type": "display_data",
          "data": {
            "text/html": [
              "<font color = purple>Sci/tech (100%)</font> --> <font color = red>[FAILED]</font><br>Apple Launches Graphics Software, Video Bundle  LOS ANGELES (Reuters) - Apple Computer Inc.&lt;AAPL.O&gt; on  Tuesday began shipping a new program designed to let users  create real-time motion graphics and unveiled a discount  video-editing software bundle featuring its flagship Final Cut  Pro software."
            ],
            "text/plain": [
              "<IPython.core.display.HTML object>"
            ]
          },
          "metadata": {
            "tags": []
          }
        },
        {
          "output_type": "stream",
          "text": [
            "[Succeeded / Failed / Total] 2 / 10 / 12:  48%|████▊     | 12/25 [05:26<05:54, 27.24s/it]"
          ],
          "name": "stderr"
        },
        {
          "output_type": "display_data",
          "data": {
            "text/html": [
              "<font color = purple>Sci/tech (100%)</font> --> <font color = red>[FAILED]</font><br>Dutch Retailer Beats Apple to Local Download Market  AMSTERDAM (Reuters) - Free Record Shop, a Dutch music  retail chain, beat Apple Computer Inc. to market on Tuesday  with the launch of a new download service in Europe's latest  battleground for digital song services."
            ],
            "text/plain": [
              "<IPython.core.display.HTML object>"
            ]
          },
          "metadata": {
            "tags": []
          }
        },
        {
          "output_type": "stream",
          "text": [
            "[Succeeded / Failed / Total] 2 / 11 / 13:  52%|█████▏    | 13/25 [05:33<05:08, 25.69s/it]"
          ],
          "name": "stderr"
        },
        {
          "output_type": "display_data",
          "data": {
            "text/html": [
              "<font color = purple>Sci/tech (99%)</font> --> <font color = red>[FAILED]</font><br>Super ant colony hits Australia A giant 100km colony of ants  which has been discovered in Melbourne, Australia, could threaten local insect species."
            ],
            "text/plain": [
              "<IPython.core.display.HTML object>"
            ]
          },
          "metadata": {
            "tags": []
          }
        },
        {
          "output_type": "stream",
          "text": [
            "[Succeeded / Failed / Total] 2 / 12 / 14:  56%|█████▌    | 14/25 [05:38<04:26, 24.21s/it]"
          ],
          "name": "stderr"
        },
        {
          "output_type": "display_data",
          "data": {
            "text/html": [
              "<font color = purple>Sci/tech (97%)</font> --> <font color = red>[FAILED]</font><br>Socialites unite dolphin groups Dolphin groups, or \"pods\", rely on socialites to keep them from collapsing, scientists claim."
            ],
            "text/plain": [
              "<IPython.core.display.HTML object>"
            ]
          },
          "metadata": {
            "tags": []
          }
        },
        {
          "output_type": "stream",
          "text": [
            "[Succeeded / Failed / Total] 2 / 13 / 15:  60%|██████    | 15/25 [05:43<03:48, 22.87s/it]"
          ],
          "name": "stderr"
        },
        {
          "output_type": "display_data",
          "data": {
            "text/html": [
              "<font color = purple>Sci/tech (100%)</font> --> <font color = red>[FAILED]</font><br>Teenage T. rex's monster growth Tyrannosaurus rex achieved its massive size due to an enormous growth spurt during its adolescent years."
            ],
            "text/plain": [
              "<IPython.core.display.HTML object>"
            ]
          },
          "metadata": {
            "tags": []
          }
        },
        {
          "output_type": "stream",
          "text": [
            "[Succeeded / Failed / Total] 2 / 14 / 16:  64%|██████▍   | 16/25 [05:48<03:15, 21.75s/it]"
          ],
          "name": "stderr"
        },
        {
          "output_type": "display_data",
          "data": {
            "text/html": [
              "<font color = purple>Sci/tech (100%)</font> --> <font color = red>[FAILED]</font><br>Scientists Discover Ganymede has a Lumpy Interior Jet Propulsion Lab -- Scientists have discovered irregular lumps beneath the icy surface of Jupiter's largest moon, Ganymede. These irregular masses may be rock formations, supported by Ganymede's icy shell for billions of years..."
            ],
            "text/plain": [
              "<IPython.core.display.HTML object>"
            ]
          },
          "metadata": {
            "tags": []
          }
        },
        {
          "output_type": "stream",
          "text": [
            "[Succeeded / Failed / Total] 2 / 15 / 17:  68%|██████▊   | 17/25 [05:58<02:48, 21.12s/it]"
          ],
          "name": "stderr"
        },
        {
          "output_type": "display_data",
          "data": {
            "text/html": [
              "<font color = purple>Sci/tech (100%)</font> --> <font color = red>[FAILED]</font><br>Mars Rovers Relay Images Through Mars Express European Space Agency -- ESAs Mars Express has relayed pictures from one of NASA's Mars rovers for the first time, as part of a set of interplanetary networking demonstrations.     The demonstrations pave the way for future Mars missions to draw on joint interplanetary networking capabilities..."
            ],
            "text/plain": [
              "<IPython.core.display.HTML object>"
            ]
          },
          "metadata": {
            "tags": []
          }
        },
        {
          "output_type": "stream",
          "text": [
            "[Succeeded / Failed / Total] 2 / 16 / 18:  72%|███████▏  | 18/25 [06:13<02:25, 20.76s/it]"
          ],
          "name": "stderr"
        },
        {
          "output_type": "display_data",
          "data": {
            "text/html": [
              "<font color = purple>Sci/tech (100%)</font> --> <font color = red>[FAILED]</font><br>Rocking the Cradle of Life When did life begin? One evidential clue stems from the fossil records in Western Australia, although whether these layered sediments are biological or chemical has spawned a spirited debate. Oxford researcher, Nicola McLoughlin, describes some of the issues in contention."
            ],
            "text/plain": [
              "<IPython.core.display.HTML object>"
            ]
          },
          "metadata": {
            "tags": []
          }
        },
        {
          "output_type": "stream",
          "text": [
            "[Succeeded / Failed / Total] 2 / 17 / 19:  76%|███████▌  | 19/25 [06:26<02:02, 20.35s/it]"
          ],
          "name": "stderr"
        },
        {
          "output_type": "display_data",
          "data": {
            "text/html": [
              "<font color = purple>Sci/tech (100%)</font> --> <font color = red>[FAILED]</font><br>Storage, servers bruise HP earnings update Earnings per share rise compared with a year ago, but company misses analysts' expectations by a long shot."
            ],
            "text/plain": [
              "<IPython.core.display.HTML object>"
            ]
          },
          "metadata": {
            "tags": []
          }
        },
        {
          "output_type": "stream",
          "text": [
            "[Succeeded / Failed / Total] 2 / 18 / 20:  80%|████████  | 20/25 [06:34<01:38, 19.71s/it]"
          ],
          "name": "stderr"
        },
        {
          "output_type": "display_data",
          "data": {
            "text/html": [
              "<font color = purple>Sci/tech (88%)</font> --> <font color = blue>Business (67%)</font><br>IBM to hire even more new workers By the end of the <font color = purple>year</font>, the computing giant plans to have its biggest headcount since 1991.<br>IBM to hire even more new workers By the end of the <font color = blue>winnemanoth</font>, the computing giant plans to have its biggest headcount since 1991."
            ],
            "text/plain": [
              "<IPython.core.display.HTML object>"
            ]
          },
          "metadata": {
            "tags": []
          }
        },
        {
          "output_type": "stream",
          "text": [
            "[Succeeded / Failed / Total] 3 / 18 / 21:  84%|████████▍ | 21/25 [06:35<01:15, 18.81s/it]"
          ],
          "name": "stderr"
        },
        {
          "output_type": "display_data",
          "data": {
            "text/html": [
              "<font color = purple>Sci/tech (100%)</font> --> <font color = red>[FAILED]</font><br>Sun's Looking Glass Provides 3D View Developers get early code for new operating system 'skin' still being crafted."
            ],
            "text/plain": [
              "<IPython.core.display.HTML object>"
            ]
          },
          "metadata": {
            "tags": []
          }
        },
        {
          "output_type": "stream",
          "text": [
            "[Succeeded / Failed / Total] 3 / 19 / 22:  88%|████████▊ | 22/25 [06:37<00:54, 18.06s/it]"
          ],
          "name": "stderr"
        },
        {
          "output_type": "display_data",
          "data": {
            "text/html": [
              "<font color = purple>Sci/tech (100%)</font> --> <font color = red>[FAILED]</font><br>IBM Chips May Someday Heal Themselves New technology applies electrical fuses to help identify and repair faults."
            ],
            "text/plain": [
              "<IPython.core.display.HTML object>"
            ]
          },
          "metadata": {
            "tags": []
          }
        },
        {
          "output_type": "stream",
          "text": [
            "[Succeeded / Failed / Total] 3 / 20 / 23:  92%|█████████▏| 23/25 [06:39<00:34, 17.37s/it]"
          ],
          "name": "stderr"
        },
        {
          "output_type": "display_data",
          "data": {
            "text/html": [
              "<font color = blue>Business (97%)</font> --> <font color = gray>[SKIPPED]</font><br>Some People Not Eligible to Get in on Google IPO Google has billed its IPO as a way for everyday people to get in on the process, denying Wall Street the usual stranglehold it's had on IPOs. Public bidding, a minimum of just five shares, an open process with 28 underwriters - all this pointed to a new level of public participation. But this isn't the case."
            ],
            "text/plain": [
              "<IPython.core.display.HTML object>"
            ]
          },
          "metadata": {
            "tags": []
          }
        },
        {
          "output_type": "stream",
          "text": [
            "\r[Succeeded / Failed / Total] 3 / 20 / 24:  96%|█████████▌| 24/25 [06:39<00:16, 16.65s/it]"
          ],
          "name": "stderr"
        },
        {
          "output_type": "display_data",
          "data": {
            "text/html": [
              "<font color = purple>Sci/tech (100%)</font> --> <font color = red>[FAILED]</font><br>Rivals Try to Turn Tables on Charles Schwab By MICHAEL LIEDTKE     SAN FRANCISCO (AP) -- With its low prices and iconoclastic attitude, discount stock broker Charles Schwab Corp. (SCH) represented an annoying stone in Wall Street's wing-tipped shoes for decades..."
            ],
            "text/plain": [
              "<IPython.core.display.HTML object>"
            ]
          },
          "metadata": {
            "tags": []
          }
        },
        {
          "output_type": "stream",
          "text": [
            "[Succeeded / Failed / Total] 3 / 21 / 25: 100%|██████████| 25/25 [06:44<00:00, 16.19s/it]"
          ],
          "name": "stderr"
        },
        {
          "output_type": "display_data",
          "data": {
            "text/html": [
              "<font color = purple>Sci/tech (100%)</font> --> <font color = red>[FAILED]</font><br>News: Sluggish movement on power grid cyber security Industry cyber security standards fail to reach some of the most vulnerable components of the power grid.\\"
            ],
            "text/plain": [
              "<IPython.core.display.HTML object>"
            ]
          },
          "metadata": {
            "tags": []
          }
        },
        {
          "output_type": "stream",
          "text": [
            "[Succeeded / Failed / Total] 3 / 22 / 26: : 26it [06:51, 15.82s/it]"
          ],
          "name": "stderr"
        },
        {
          "output_type": "stream",
          "text": [
            "+-------------------------------+--------+\n",
            "| Attack Results                |        |\n",
            "+-------------------------------+--------+\n",
            "| Number of successful attacks: | 3      |\n",
            "| Number of failed attacks:     | 22     |\n",
            "| Number of skipped attacks:    | 1      |\n",
            "| Original accuracy:            | 96.15% |\n",
            "| Accuracy under attack:        | 84.62% |\n",
            "| Attack success rate:          | 12.0%  |\n",
            "| Average perturbed word %:     | 8.31%  |\n",
            "| Average num. words per input: | 45.54  |\n",
            "| Avg num queries:              | 253.28 |\n",
            "+-------------------------------+--------+"
          ],
          "name": "stdout"
        },
        {
          "output_type": "stream",
          "text": [
            "\n",
            "\u001b[34;1mtextattack\u001b[0m: Attack time: 411.4012770652771s\n"
          ],
          "name": "stderr"
        }
      ]
    },
    {
      "cell_type": "code",
      "metadata": {
        "colab": {
          "base_uri": "https://localhost:8080/"
        },
        "id": "GKzdReqjl3GW",
        "outputId": "45e51687-d897-4130-8541-5a53bac42861"
      },
      "source": [
        "from textattack.search_methods import GreedyWordSwapWIR\n",
        "from textattack.constraints.pre_transformation import RepeatModification, StopwordModification\n",
        "from textattack.shared import Attack\n",
        "from textattack.goal_functions import UntargetedClassification\n",
        "from textattack.datasets import HuggingFaceDataset\n",
        "\n",
        "# We're going to use our word swap class as the attack transformation.\n",
        "transformation = Swapper()\n",
        "\n",
        "constraints = [RepeatModification(),\n",
        "               StopwordModification()]\n",
        "\n",
        "search_method = GreedyWordSwapWIR()\n",
        "\n",
        "goal_function = UntargetedClassification(model_wrapper)\n",
        "\n",
        "# Now, let's make the attack from the 4 components:\n",
        "attack = Attack(goal_function, constraints, transformation, search_method)\n",
        "\n",
        "dataset = HuggingFaceDataset(\"ag_news\", None, \"test\") # Change the dataset"
      ],
      "execution_count": 24,
      "outputs": [
        {
          "output_type": "stream",
          "text": [
            "\u001b[34;1mtextattack\u001b[0m: Unknown if model of class <class 'transformers.models.bert.modeling_bert.BertForSequenceClassification'> compatible with goal function <class 'textattack.goal_functions.classification.untargeted_classification.UntargetedClassification'>.\n",
            "Using custom data configuration default\n",
            "Reusing dataset ag_news (/root/.cache/huggingface/datasets/ag_news/default/0.0.0/0eeeaaa5fb6dffd81458e293dfea1adba2881ffcbdc3fb56baeb5a892566c29a)\n",
            "\u001b[34;1mtextattack\u001b[0m: Loading \u001b[94mdatasets\u001b[0m dataset \u001b[94mag_news\u001b[0m, split \u001b[94mtest\u001b[0m.\n"
          ],
          "name": "stderr"
        }
      ]
    },
    {
      "cell_type": "code",
      "metadata": {
        "colab": {
          "base_uri": "https://localhost:8080/"
        },
        "id": "pSqav791mqYf",
        "outputId": "0e94b0bf-04ae-419c-8f7e-b9ffdb218c37"
      },
      "source": [
        "print(attack)"
      ],
      "execution_count": 25,
      "outputs": [
        {
          "output_type": "stream",
          "text": [
            "Attack(\n",
            "  (search_method): GreedyWordSwapWIR(\n",
            "    (wir_method):  unk\n",
            "  )\n",
            "  (goal_function):  UntargetedClassification\n",
            "  (transformation):  Swapper\n",
            "  (constraints): \n",
            "    (0): RepeatModification\n",
            "    (1): StopwordModification\n",
            "  (is_black_box):  True\n",
            ")\n"
          ],
          "name": "stdout"
        }
      ]
    },
    {
      "cell_type": "code",
      "metadata": {
        "colab": {
          "base_uri": "https://localhost:8080/",
          "height": 1000
        },
        "id": "7u4kS3Mjmxkf",
        "outputId": "7a209a23-85bb-47ca-81b0-d6bba89462c1"
      },
      "source": [
        "printexample(attack)"
      ],
      "execution_count": 26,
      "outputs": [
        {
          "output_type": "stream",
          "text": [
            "\r  0%|          | 0/25 [00:00<?, ?it/s]"
          ],
          "name": "stderr"
        },
        {
          "output_type": "stream",
          "text": [
            "Attack(\n",
            "  (search_method): GreedyWordSwapWIR(\n",
            "    (wir_method):  unk\n",
            "  )\n",
            "  (goal_function):  UntargetedClassification\n",
            "  (transformation):  Swapper\n",
            "  (constraints): \n",
            "    (0): RepeatModification\n",
            "    (1): StopwordModification\n",
            "  (is_black_box):  True\n",
            ")\n"
          ],
          "name": "stdout"
        },
        {
          "output_type": "display_data",
          "data": {
            "text/html": [
              "<font color = blue>Business (100%)</font> --> <font color = purple>Sci/tech (72%)</font><br>Fears for T <font color = blue>N</font> pension after talks Unions <font color = blue>representing</font> workers at <font color = blue>Turner</font>   <font color = blue>Newall</font> say they are '<font color = blue>disappointed'</font> after talks with <font color = blue>stricken</font> parent firm Federal Mogul.<br>Fears for T <font color = purple>SACK</font> pension after talks Unions <font color = purple>represents</font> workers at <font color = purple>Byner</font>   <font color = purple>Sewall</font> say they are '<font color = purple>disappointed</font> after talks with <font color = purple>trickery</font> parent firm Federal Mogul."
            ],
            "text/plain": [
              "<IPython.core.display.HTML object>"
            ]
          },
          "metadata": {
            "tags": []
          }
        },
        {
          "output_type": "stream",
          "text": [
            "[Succeeded / Failed / Total] 1 / 0 / 1:   4%|▍         | 1/25 [00:01<00:39,  1.64s/it]"
          ],
          "name": "stderr"
        },
        {
          "output_type": "display_data",
          "data": {
            "text/html": [
              "<font color = purple>Sci/tech (100%)</font> --> <font color = red>[FAILED]</font><br>The Race is On: Second Private Team Sets Launch Date for Human Spaceflight (SPACE.com) SPACE.com - TORONTO, Canada -- A second\\team of rocketeers competing for the  #36;10 million Ansari X Prize, a contest for\\privately funded suborbital space flight, has officially announced the first\\launch date for its manned rocket."
            ],
            "text/plain": [
              "<IPython.core.display.HTML object>"
            ]
          },
          "metadata": {
            "tags": []
          }
        },
        {
          "output_type": "stream",
          "text": [
            "[Succeeded / Failed / Total] 1 / 1 / 2:   8%|▊         | 2/25 [00:05<01:05,  2.85s/it]"
          ],
          "name": "stderr"
        },
        {
          "output_type": "display_data",
          "data": {
            "text/html": [
              "<font color = purple>Sci/tech (100%)</font> --> <font color = red>[FAILED]</font><br>Ky. Company Wins Grant to Study Peptides (AP) AP - A company founded by a chemistry researcher at the University of Louisville won a grant to develop a method of producing better peptides, which are short chains of amino acids, the building blocks of proteins."
            ],
            "text/plain": [
              "<IPython.core.display.HTML object>"
            ]
          },
          "metadata": {
            "tags": []
          }
        },
        {
          "output_type": "stream",
          "text": [
            "[Succeeded / Failed / Total] 1 / 2 / 3:  12%|█▏        | 3/25 [00:08<01:04,  2.93s/it]"
          ],
          "name": "stderr"
        },
        {
          "output_type": "display_data",
          "data": {
            "text/html": [
              "<font color = purple>Sci/tech (100%)</font> --> <font color = red>World (62%)</font><br><font color = purple>Prediction</font> Unit Helps <font color = purple>Forecast</font> <font color = purple>Wildfires</font> (AP) AP - It's barely dawn when Mike Fitzpatrick starts his shift with a blur of colorful maps, figures and endless charts, but already he knows what the day will bring. Lightning will strike in places he expects. Winds will pick up, moist places will dry and flames will roar.<br><font color = red>Indiction</font> Unit Helps <font color = red>Recast</font> <font color = red>Fires</font> (AP) AP - It's barely dawn when Mike Fitzpatrick starts his shift with a blur of colorful maps, figures and endless charts, but already he knows what the day will bring. Lightning will strike in places he expects. Winds will pick up, moist places will dry and flames will roar."
            ],
            "text/plain": [
              "<IPython.core.display.HTML object>"
            ]
          },
          "metadata": {
            "tags": []
          }
        },
        {
          "output_type": "stream",
          "text": [
            "[Succeeded / Failed / Total] 2 / 2 / 4:  16%|█▌        | 4/25 [00:10<00:56,  2.70s/it]"
          ],
          "name": "stderr"
        },
        {
          "output_type": "display_data",
          "data": {
            "text/html": [
              "<font color = purple>Sci/tech (100%)</font> --> <font color = red>World (53%)</font><br><font color = purple>Calif</font>. Aims to Limit Farm-Related <font color = purple>Smog</font> (<font color = purple>AP</font>) AP - Southern <font color = purple>California's</font> <font color = purple>smog-fighting</font> agency <font color = purple>went</font> after <font color = purple>emissions</font> of the <font color = purple>bovine</font> variety Friday, adopting the nation's first rules to reduce <font color = purple>air</font> <font color = purple>pollution</font> from dairy cow manure.<br><font color = red>Alif</font>. Aims to Limit Farm-Related <font color = red>Fog</font> (<font color = red>LITIGIOUS</font>) AP - Southern <font color = red>California</font> <font color = red>bullfighting</font> agency <font color = red>started</font> after <font color = red>emission</font> of the <font color = red>salmonella</font> variety Friday, adopting the nation's first rules to reduce <font color = red>airforce</font> <font color = red>polluting</font> from dairy cow manure."
            ],
            "text/plain": [
              "<IPython.core.display.HTML object>"
            ]
          },
          "metadata": {
            "tags": []
          }
        },
        {
          "output_type": "stream",
          "text": [
            "[Succeeded / Failed / Total] 3 / 2 / 5:  20%|██        | 5/25 [00:13<00:52,  2.62s/it]"
          ],
          "name": "stderr"
        },
        {
          "output_type": "display_data",
          "data": {
            "text/html": [
              "<font color = purple>Sci/tech (100%)</font> --> <font color = red>[FAILED]</font><br>Open Letter Against British Copyright Indoctrination in Schools The British Department for Education and Skills (DfES) recently launched a \"Music Manifesto\" campaign, with the ostensible intention of educating the next generation of British musicians. Unfortunately, they also teamed up with the music industry (EMI, and various artists) to make this popular. EMI has apparently negotiated their end well, so that children in our schools will now be indoctrinated about the illegality of downloading music.The ignorance and audacity of this got to me a little, so I wrote an open letter to the DfES about it. Unfortunately, it's pedantic, as I suppose you have to be when writing to goverment representatives. But I hope you find it useful, and perhaps feel inspired to do something similar, if or when the same thing has happened in your area."
            ],
            "text/plain": [
              "<IPython.core.display.HTML object>"
            ]
          },
          "metadata": {
            "tags": []
          }
        },
        {
          "output_type": "stream",
          "text": [
            "[Succeeded / Failed / Total] 3 / 3 / 6:  24%|██▍       | 6/25 [00:22<01:10,  3.71s/it]"
          ],
          "name": "stderr"
        },
        {
          "output_type": "display_data",
          "data": {
            "text/html": [
              "<font color = purple>Sci/tech (100%)</font> --> <font color = red>[FAILED]</font><br>Loosing the War on Terrorism \\\\\"Sven Jaschan, self-confessed author of the Netsky and Sasser viruses, is\\responsible for 70 percent of virus infections in 2004, according to a six-month\\virus roundup published Wednesday by antivirus company Sophos.\"\\\\\"The 18-year-old Jaschan was taken into custody in Germany in May by police who\\said he had admitted programming both the Netsky and Sasser worms, something\\experts at Microsoft confirmed. (A Microsoft antivirus reward program led to the\\teenager's arrest.) During the five months preceding Jaschan's capture, there\\were at least 25 variants of Netsky and one of the port-scanning network worm\\Sasser.\"\\\\\"Graham Cluley, senior technology consultant at Sophos, said it was staggeri ...\\\\"
            ],
            "text/plain": [
              "<IPython.core.display.HTML object>"
            ]
          },
          "metadata": {
            "tags": []
          }
        },
        {
          "output_type": "stream",
          "text": [
            "[Succeeded / Failed / Total] 3 / 4 / 7:  28%|██▊       | 7/25 [00:30<01:17,  4.31s/it]"
          ],
          "name": "stderr"
        },
        {
          "output_type": "display_data",
          "data": {
            "text/html": [
              "<font color = purple>Sci/tech (100%)</font> --> <font color = red>[FAILED]</font><br>FOAFKey: FOAF, PGP, Key Distribution, and Bloom Filters \\\\FOAF/LOAF  and bloom filters have a lot of interesting properties for social\\network and whitelist distribution.\\\\I think we can go one level higher though and include GPG/OpenPGP key\\fingerpring distribution in the FOAF file for simple web-of-trust based key\\distribution.\\\\What if we used FOAF and included the PGP key fingerprint(s) for identities?\\This could mean a lot.  You include the PGP key fingerprints within the FOAF\\file of your direct friends and then include a bloom filter of the PGP key\\fingerprints of your entire whitelist (the source FOAF file would of course need\\to be encrypted ).\\\\Your whitelist would be populated from the social network as your client\\discovered new identit ...\\\\"
            ],
            "text/plain": [
              "<IPython.core.display.HTML object>"
            ]
          },
          "metadata": {
            "tags": []
          }
        },
        {
          "output_type": "stream",
          "text": [
            "[Succeeded / Failed / Total] 3 / 5 / 8:  32%|███▏      | 8/25 [00:39<01:23,  4.92s/it]"
          ],
          "name": "stderr"
        },
        {
          "output_type": "display_data",
          "data": {
            "text/html": [
              "<font color = purple>Sci/tech (98%)</font> --> <font color = red>World (73%)</font><br>E-mail scam targets police chief Wiltshire Police warns about \"<font color = purple>phishing</font>\" after its <font color = purple>fraud</font> squad chief was targeted.<br>E-mail scam targets police chief Wiltshire Police warns about \"<font color = red>furnishing</font>\" after its <font color = red>bribery</font> squad chief was targeted."
            ],
            "text/plain": [
              "<IPython.core.display.HTML object>"
            ]
          },
          "metadata": {
            "tags": []
          }
        },
        {
          "output_type": "stream",
          "text": [
            "[Succeeded / Failed / Total] 4 / 5 / 9:  36%|███▌      | 9/25 [00:40<01:11,  4.45s/it]"
          ],
          "name": "stderr"
        },
        {
          "output_type": "display_data",
          "data": {
            "text/html": [
              "<font color = purple>Sci/tech (98%)</font> --> <font color = blue>Business (85%)</font><br>Card fraud unit nets 36,000 cards In its first two years, the UK's <font color = purple>dedicated</font> <font color = purple>card</font> fraud unit, has recovered 36,000 stolen cards and 171 arrests - and estimates it saved 65m.<br>Card fraud unit nets 36,000 cards In its first two years, the UK's <font color = blue>dedicates</font> <font color = blue>blackjack</font> fraud unit, has recovered 36,000 stolen cards and 171 arrests - and estimates it saved 65m."
            ],
            "text/plain": [
              "<IPython.core.display.HTML object>"
            ]
          },
          "metadata": {
            "tags": []
          }
        },
        {
          "output_type": "stream",
          "text": [
            "[Succeeded / Failed / Total] 5 / 5 / 10:  40%|████      | 10/25 [00:41<01:01,  4.13s/it]"
          ],
          "name": "stderr"
        },
        {
          "output_type": "display_data",
          "data": {
            "text/html": [
              "<font color = purple>Sci/tech (100%)</font> --> <font color = blue>Business (54%)</font><br>Group to <font color = purple>Propose</font> <font color = purple>New</font> High-Speed Wireless Format  <font color = purple>LOS</font> ANGELES (<font color = purple>Reuters</font>) - A <font color = purple>group</font> of <font color = purple>technology</font> <font color = purple>companies</font>  <font color = purple>including</font> <font color = purple>Texas</font> Instruments <font color = purple>Inc</font>. &lt;TXN.N&gt;, STMicroelectronics  &<font color = purple>lt</font>;STM.<font color = purple>PA</font>&gt; and <font color = purple>Broadcom</font> <font color = purple>Corp</font>. &<font color = purple>lt</font>;<font color = purple>BRCM</font>.O&<font color = purple>gt</font>;, on <font color = purple>Thursday</font> <font color = purple>said</font> they  will <font color = purple>propose</font> a <font color = purple>new</font> wireless <font color = purple>networking</font> standard up to 10 <font color = purple>times</font>  the <font color = purple>speed</font> of the <font color = purple>current</font> generation.<br>Group to <font color = blue>Theorize</font> <font color = blue>Dew</font> High-Speed Wireless Format  <font color = blue>YPBPR</font> ANGELES (<font color = blue>Wouters</font>) - A <font color = blue>semigroup</font> of <font color = blue>technologies</font> <font color = blue>corporations</font>  <font color = blue>eluding</font> <font color = blue>Oklahoma</font> Instruments <font color = blue>Bnc</font>. &lt;TXN.N&gt;, STMicroelectronics  &<font color = blue>hrl</font>;STM.<font color = blue>MOLECULES</font>&gt; and <font color = blue>Rebroadcast</font> <font color = blue>Autodesk</font>. &<font color = blue>hrl</font>;<font color = blue>ETT</font>.O&<font color = blue>gbc</font>;, on <font color = blue>Wednesday</font> <font color = blue>believed</font> they  will <font color = blue>proposing</font> a <font color = blue>york</font> wireless <font color = blue>networked</font> standard up to 10 <font color = blue>timex</font>  the <font color = blue>altitude</font> of the <font color = blue>relevancy</font> generation."
            ],
            "text/plain": [
              "<IPython.core.display.HTML object>"
            ]
          },
          "metadata": {
            "tags": []
          }
        },
        {
          "output_type": "stream",
          "text": [
            "[Succeeded / Failed / Total] 6 / 5 / 11:  44%|████▍     | 11/25 [00:45<00:58,  4.15s/it]"
          ],
          "name": "stderr"
        },
        {
          "output_type": "display_data",
          "data": {
            "text/html": [
              "<font color = purple>Sci/tech (100%)</font> --> <font color = red>[FAILED]</font><br>Apple Launches Graphics Software, Video Bundle  LOS ANGELES (Reuters) - Apple Computer Inc.&lt;AAPL.O&gt; on  Tuesday began shipping a new program designed to let users  create real-time motion graphics and unveiled a discount  video-editing software bundle featuring its flagship Final Cut  Pro software."
            ],
            "text/plain": [
              "<IPython.core.display.HTML object>"
            ]
          },
          "metadata": {
            "tags": []
          }
        },
        {
          "output_type": "stream",
          "text": [
            "[Succeeded / Failed / Total] 6 / 6 / 12:  48%|████▊     | 12/25 [00:49<00:53,  4.11s/it]"
          ],
          "name": "stderr"
        },
        {
          "output_type": "display_data",
          "data": {
            "text/html": [
              "<font color = purple>Sci/tech (100%)</font> --> <font color = blue>Business (62%)</font><br>Dutch Retailer <font color = purple>Beats</font> <font color = purple>Apple</font> to Local <font color = purple>Download</font> <font color = purple>Market</font>  AMSTERDAM (<font color = purple>Reuters</font>) - <font color = purple>Free</font> Record Shop, a Dutch music  <font color = purple>retail</font> chain, beat Apple Computer <font color = purple>Inc</font>. to <font color = purple>market</font> on <font color = purple>Tuesday</font>  with the launch of a <font color = purple>new</font> <font color = purple>download</font> service in Europe's latest  battleground for digital <font color = purple>song</font> services.<br>Dutch Retailer <font color = blue>Geats</font> <font color = blue>Fipple</font> to Local <font color = blue>Unload</font> <font color = blue>upmarket</font>  AMSTERDAM (<font color = blue>Wouters</font>) - <font color = blue>Ree</font> Record Shop, a Dutch music  <font color = blue>subsidizes</font> chain, beat Apple Computer <font color = blue>Bnc</font>. to <font color = blue>capitalising</font> on <font color = blue>Wednesday</font>  with the launch of a <font color = blue>york</font> <font color = blue>unload</font> service in Europe's latest  battleground for digital <font color = blue>album</font> services."
            ],
            "text/plain": [
              "<IPython.core.display.HTML object>"
            ]
          },
          "metadata": {
            "tags": []
          }
        },
        {
          "output_type": "stream",
          "text": [
            "[Succeeded / Failed / Total] 7 / 6 / 13:  52%|█████▏    | 13/25 [00:51<00:47,  3.99s/it]"
          ],
          "name": "stderr"
        },
        {
          "output_type": "display_data",
          "data": {
            "text/html": [
              "<font color = purple>Sci/tech (99%)</font> --> <font color = red>[FAILED]</font><br>Super ant colony hits Australia A giant 100km colony of ants  which has been discovered in Melbourne, Australia, could threaten local insect species."
            ],
            "text/plain": [
              "<IPython.core.display.HTML object>"
            ]
          },
          "metadata": {
            "tags": []
          }
        },
        {
          "output_type": "stream",
          "text": [
            "[Succeeded / Failed / Total] 7 / 7 / 14:  56%|█████▌    | 14/25 [00:53<00:42,  3.83s/it]"
          ],
          "name": "stderr"
        },
        {
          "output_type": "display_data",
          "data": {
            "text/html": [
              "<font color = purple>Sci/tech (97%)</font> --> <font color = red>[FAILED]</font><br>Socialites unite dolphin groups Dolphin groups, or \"pods\", rely on socialites to keep them from collapsing, scientists claim."
            ],
            "text/plain": [
              "<IPython.core.display.HTML object>"
            ]
          },
          "metadata": {
            "tags": []
          }
        },
        {
          "output_type": "stream",
          "text": [
            "[Succeeded / Failed / Total] 7 / 8 / 15:  60%|██████    | 15/25 [00:54<00:36,  3.67s/it]"
          ],
          "name": "stderr"
        },
        {
          "output_type": "display_data",
          "data": {
            "text/html": [
              "<font color = purple>Sci/tech (100%)</font> --> <font color = red>[FAILED]</font><br>Teenage T. rex's monster growth Tyrannosaurus rex achieved its massive size due to an enormous growth spurt during its adolescent years."
            ],
            "text/plain": [
              "<IPython.core.display.HTML object>"
            ]
          },
          "metadata": {
            "tags": []
          }
        },
        {
          "output_type": "stream",
          "text": [
            "[Succeeded / Failed / Total] 7 / 9 / 16:  64%|██████▍   | 16/25 [00:56<00:31,  3.54s/it]"
          ],
          "name": "stderr"
        },
        {
          "output_type": "display_data",
          "data": {
            "text/html": [
              "<font color = purple>Sci/tech (100%)</font> --> <font color = red>[FAILED]</font><br>Scientists Discover Ganymede has a Lumpy Interior Jet Propulsion Lab -- Scientists have discovered irregular lumps beneath the icy surface of Jupiter's largest moon, Ganymede. These irregular masses may be rock formations, supported by Ganymede's icy shell for billions of years..."
            ],
            "text/plain": [
              "<IPython.core.display.HTML object>"
            ]
          },
          "metadata": {
            "tags": []
          }
        },
        {
          "output_type": "stream",
          "text": [
            "[Succeeded / Failed / Total] 7 / 10 / 17:  68%|██████▊   | 17/25 [00:59<00:28,  3.52s/it]"
          ],
          "name": "stderr"
        },
        {
          "output_type": "display_data",
          "data": {
            "text/html": [
              "<font color = purple>Sci/tech (100%)</font> --> <font color = red>[FAILED]</font><br>Mars Rovers Relay Images Through Mars Express European Space Agency -- ESAs Mars Express has relayed pictures from one of NASA's Mars rovers for the first time, as part of a set of interplanetary networking demonstrations.     The demonstrations pave the way for future Mars missions to draw on joint interplanetary networking capabilities..."
            ],
            "text/plain": [
              "<IPython.core.display.HTML object>"
            ]
          },
          "metadata": {
            "tags": []
          }
        },
        {
          "output_type": "stream",
          "text": [
            "[Succeeded / Failed / Total] 7 / 11 / 18:  72%|███████▏  | 18/25 [01:03<00:24,  3.53s/it]"
          ],
          "name": "stderr"
        },
        {
          "output_type": "display_data",
          "data": {
            "text/html": [
              "<font color = purple>Sci/tech (100%)</font> --> <font color = red>[FAILED]</font><br>Rocking the Cradle of Life When did life begin? One evidential clue stems from the fossil records in Western Australia, although whether these layered sediments are biological or chemical has spawned a spirited debate. Oxford researcher, Nicola McLoughlin, describes some of the issues in contention."
            ],
            "text/plain": [
              "<IPython.core.display.HTML object>"
            ]
          },
          "metadata": {
            "tags": []
          }
        },
        {
          "output_type": "stream",
          "text": [
            "[Succeeded / Failed / Total] 7 / 12 / 19:  76%|███████▌  | 19/25 [01:06<00:21,  3.52s/it]"
          ],
          "name": "stderr"
        },
        {
          "output_type": "display_data",
          "data": {
            "text/html": [
              "<font color = purple>Sci/tech (100%)</font> --> <font color = red>[FAILED]</font><br>Storage, servers bruise HP earnings update Earnings per share rise compared with a year ago, but company misses analysts' expectations by a long shot."
            ],
            "text/plain": [
              "<IPython.core.display.HTML object>"
            ]
          },
          "metadata": {
            "tags": []
          }
        },
        {
          "output_type": "stream",
          "text": [
            "[Succeeded / Failed / Total] 7 / 13 / 20:  80%|████████  | 20/25 [01:08<00:17,  3.43s/it]"
          ],
          "name": "stderr"
        },
        {
          "output_type": "display_data",
          "data": {
            "text/html": [
              "<font color = purple>Sci/tech (88%)</font> --> <font color = blue>Business (81%)</font><br>IBM to hire even more new workers <font color = purple>By</font> the end of the <font color = purple>year</font>, the <font color = purple>computing</font> giant plans to have its biggest headcount <font color = purple>since</font> 1991.<br>IBM to hire even more new workers <font color = blue>Westwards</font> the end of the <font color = blue>month</font>, the <font color = blue>comput</font> giant plans to have its biggest headcount <font color = blue>until</font> 1991."
            ],
            "text/plain": [
              "<IPython.core.display.HTML object>"
            ]
          },
          "metadata": {
            "tags": []
          }
        },
        {
          "output_type": "stream",
          "text": [
            "[Succeeded / Failed / Total] 8 / 13 / 21:  84%|████████▍ | 21/25 [01:09<00:13,  3.33s/it]"
          ],
          "name": "stderr"
        },
        {
          "output_type": "display_data",
          "data": {
            "text/html": [
              "<font color = purple>Sci/tech (100%)</font> --> <font color = red>[FAILED]</font><br>Sun's Looking Glass Provides 3D View Developers get early code for new operating system 'skin' still being crafted."
            ],
            "text/plain": [
              "<IPython.core.display.HTML object>"
            ]
          },
          "metadata": {
            "tags": []
          }
        },
        {
          "output_type": "stream",
          "text": [
            "[Succeeded / Failed / Total] 8 / 14 / 22:  88%|████████▊ | 22/25 [01:11<00:09,  3.25s/it]"
          ],
          "name": "stderr"
        },
        {
          "output_type": "display_data",
          "data": {
            "text/html": [
              "<font color = purple>Sci/tech (100%)</font> --> <font color = red>[FAILED]</font><br>IBM Chips May Someday Heal Themselves New technology applies electrical fuses to help identify and repair faults."
            ],
            "text/plain": [
              "<IPython.core.display.HTML object>"
            ]
          },
          "metadata": {
            "tags": []
          }
        },
        {
          "output_type": "stream",
          "text": [
            "[Succeeded / Failed / Total] 8 / 15 / 23:  92%|█████████▏| 23/25 [01:12<00:06,  3.17s/it]"
          ],
          "name": "stderr"
        },
        {
          "output_type": "display_data",
          "data": {
            "text/html": [
              "<font color = blue>Business (97%)</font> --> <font color = gray>[SKIPPED]</font><br>Some People Not Eligible to Get in on Google IPO Google has billed its IPO as a way for everyday people to get in on the process, denying Wall Street the usual stranglehold it's had on IPOs. Public bidding, a minimum of just five shares, an open process with 28 underwriters - all this pointed to a new level of public participation. But this isn't the case."
            ],
            "text/plain": [
              "<IPython.core.display.HTML object>"
            ]
          },
          "metadata": {
            "tags": []
          }
        },
        {
          "output_type": "stream",
          "text": [
            "\r[Succeeded / Failed / Total] 8 / 15 / 24:  96%|█████████▌| 24/25 [01:12<00:03,  3.04s/it]"
          ],
          "name": "stderr"
        },
        {
          "output_type": "display_data",
          "data": {
            "text/html": [
              "<font color = purple>Sci/tech (100%)</font> --> <font color = blue>Business (92%)</font><br>Rivals Try to Turn Tables on Charles Schwab <font color = purple>By</font> MICHAEL LIEDTKE     SAN FRANCISCO (AP) -- With its low prices and iconoclastic attitude, discount stock broker Charles Schwab Corp. (SCH) represented an annoying stone in Wall Street's wing-tipped shoes for decades...<br>Rivals Try to Turn Tables on Charles Schwab <font color = blue>Westwards</font> MICHAEL LIEDTKE     SAN FRANCISCO (AP) -- With its low prices and iconoclastic attitude, discount stock broker Charles Schwab Corp. (SCH) represented an annoying stone in Wall Street's wing-tipped shoes for decades..."
            ],
            "text/plain": [
              "<IPython.core.display.HTML object>"
            ]
          },
          "metadata": {
            "tags": []
          }
        },
        {
          "output_type": "stream",
          "text": [
            "[Succeeded / Failed / Total] 9 / 15 / 25: 100%|██████████| 25/25 [01:14<00:00,  2.97s/it]"
          ],
          "name": "stderr"
        },
        {
          "output_type": "display_data",
          "data": {
            "text/html": [
              "<font color = purple>Sci/tech (100%)</font> --> <font color = red>[FAILED]</font><br>News: Sluggish movement on power grid cyber security Industry cyber security standards fail to reach some of the most vulnerable components of the power grid.\\"
            ],
            "text/plain": [
              "<IPython.core.display.HTML object>"
            ]
          },
          "metadata": {
            "tags": []
          }
        },
        {
          "output_type": "stream",
          "text": [
            "[Succeeded / Failed / Total] 9 / 16 / 26: : 26it [01:16,  2.93s/it]"
          ],
          "name": "stderr"
        },
        {
          "output_type": "stream",
          "text": [
            "+-------------------------------+--------+\n",
            "| Attack Results                |        |\n",
            "+-------------------------------+--------+\n",
            "| Number of successful attacks: | 9      |\n",
            "| Number of failed attacks:     | 16     |\n",
            "| Number of skipped attacks:    | 1      |\n",
            "| Original accuracy:            | 96.15% |\n",
            "| Accuracy under attack:        | 61.54% |\n",
            "| Attack success rate:          | 36.0%  |\n",
            "| Average perturbed word %:     | 19.19% |\n",
            "| Average num. words per input: | 45.54  |\n",
            "| Avg num queries:              | 72.36  |\n",
            "+-------------------------------+--------+"
          ],
          "name": "stdout"
        },
        {
          "output_type": "stream",
          "text": [
            "\n",
            "\u001b[34;1mtextattack\u001b[0m: Attack time: 76.18589544296265s\n"
          ],
          "name": "stderr"
        }
      ]
    },
    {
      "cell_type": "code",
      "metadata": {
        "colab": {
          "base_uri": "https://localhost:8080/"
        },
        "id": "DLok3tKPm08j",
        "outputId": "feab4234-95e6-4f70-e310-5ede96c85b53"
      },
      "source": [
        "from textattack.search_methods import GreedyWordSwapWIR\n",
        "from textattack.constraints.pre_transformation import RepeatModification, StopwordModification\n",
        "from textattack.shared import Attack\n",
        "from textattack.goal_functions import UntargetedClassification\n",
        "from textattack.datasets import HuggingFaceDataset\n",
        "\n",
        "# We're going to use our word swap class as the attack transformation.\n",
        "transformation = Swapper_()\n",
        "\n",
        "constraints = [RepeatModification(),\n",
        "               StopwordModification()]\n",
        "\n",
        "search_method = GreedyWordSwapWIR()\n",
        "\n",
        "goal_function = UntargetedClassification(model_wrapper)\n",
        "\n",
        "# Now, let's make the attack from the 4 components:\n",
        "attack = Attack(goal_function, constraints, transformation, search_method)\n",
        "\n",
        "dataset = HuggingFaceDataset(\"ag_news\", None, \"test\") # Change the dataset"
      ],
      "execution_count": 27,
      "outputs": [
        {
          "output_type": "stream",
          "text": [
            "\u001b[34;1mtextattack\u001b[0m: Unknown if model of class <class 'transformers.models.bert.modeling_bert.BertForSequenceClassification'> compatible with goal function <class 'textattack.goal_functions.classification.untargeted_classification.UntargetedClassification'>.\n",
            "Using custom data configuration default\n",
            "Reusing dataset ag_news (/root/.cache/huggingface/datasets/ag_news/default/0.0.0/0eeeaaa5fb6dffd81458e293dfea1adba2881ffcbdc3fb56baeb5a892566c29a)\n",
            "\u001b[34;1mtextattack\u001b[0m: Loading \u001b[94mdatasets\u001b[0m dataset \u001b[94mag_news\u001b[0m, split \u001b[94mtest\u001b[0m.\n"
          ],
          "name": "stderr"
        }
      ]
    },
    {
      "cell_type": "code",
      "metadata": {
        "colab": {
          "base_uri": "https://localhost:8080/"
        },
        "id": "c8G-gxlXm-At",
        "outputId": "79954420-5d8f-476e-fe7f-6c00b8a37d9b"
      },
      "source": [
        "print(attack)"
      ],
      "execution_count": 28,
      "outputs": [
        {
          "output_type": "stream",
          "text": [
            "Attack(\n",
            "  (search_method): GreedyWordSwapWIR(\n",
            "    (wir_method):  unk\n",
            "  )\n",
            "  (goal_function):  UntargetedClassification\n",
            "  (transformation):  Swapper_\n",
            "  (constraints): \n",
            "    (0): RepeatModification\n",
            "    (1): StopwordModification\n",
            "  (is_black_box):  True\n",
            ")\n"
          ],
          "name": "stdout"
        }
      ]
    },
    {
      "cell_type": "code",
      "metadata": {
        "colab": {
          "base_uri": "https://localhost:8080/",
          "height": 1000
        },
        "id": "FgHOKJd7m_Wm",
        "outputId": "1812a989-8124-4bc1-8347-5e484cb139dc"
      },
      "source": [
        "printexample(attack)"
      ],
      "execution_count": 29,
      "outputs": [
        {
          "output_type": "stream",
          "text": [
            "\r  0%|          | 0/25 [00:00<?, ?it/s]"
          ],
          "name": "stderr"
        },
        {
          "output_type": "stream",
          "text": [
            "Attack(\n",
            "  (search_method): GreedyWordSwapWIR(\n",
            "    (wir_method):  unk\n",
            "  )\n",
            "  (goal_function):  UntargetedClassification\n",
            "  (transformation):  Swapper_\n",
            "  (constraints): \n",
            "    (0): RepeatModification\n",
            "    (1): StopwordModification\n",
            "  (is_black_box):  True\n",
            ")\n"
          ],
          "name": "stdout"
        },
        {
          "output_type": "display_data",
          "data": {
            "text/html": [
              "<font color = blue>Business (100%)</font> --> <font color = red>[FAILED]</font><br>Fears for T N pension after talks Unions representing workers at Turner   Newall say they are 'disappointed' after talks with stricken parent firm Federal Mogul."
            ],
            "text/plain": [
              "<IPython.core.display.HTML object>"
            ]
          },
          "metadata": {
            "tags": []
          }
        },
        {
          "output_type": "stream",
          "text": [
            "[Succeeded / Failed / Total] 0 / 1 / 1:   4%|▍         | 1/25 [00:01<00:32,  1.36s/it]"
          ],
          "name": "stderr"
        },
        {
          "output_type": "display_data",
          "data": {
            "text/html": [
              "<font color = purple>Sci/tech (100%)</font> --> <font color = red>[FAILED]</font><br>The Race is On: Second Private Team Sets Launch Date for Human Spaceflight (SPACE.com) SPACE.com - TORONTO, Canada -- A second\\team of rocketeers competing for the  #36;10 million Ansari X Prize, a contest for\\privately funded suborbital space flight, has officially announced the first\\launch date for its manned rocket."
            ],
            "text/plain": [
              "<IPython.core.display.HTML object>"
            ]
          },
          "metadata": {
            "tags": []
          }
        },
        {
          "output_type": "stream",
          "text": [
            "[Succeeded / Failed / Total] 0 / 2 / 2:   8%|▊         | 2/25 [00:04<00:47,  2.09s/it]"
          ],
          "name": "stderr"
        },
        {
          "output_type": "display_data",
          "data": {
            "text/html": [
              "<font color = purple>Sci/tech (100%)</font> --> <font color = red>[FAILED]</font><br>Ky. Company Wins Grant to Study Peptides (AP) AP - A company founded by a chemistry researcher at the University of Louisville won a grant to develop a method of producing better peptides, which are short chains of amino acids, the building blocks of proteins."
            ],
            "text/plain": [
              "<IPython.core.display.HTML object>"
            ]
          },
          "metadata": {
            "tags": []
          }
        },
        {
          "output_type": "stream",
          "text": [
            "[Succeeded / Failed / Total] 0 / 3 / 3:  12%|█▏        | 3/25 [00:06<00:48,  2.19s/it]"
          ],
          "name": "stderr"
        },
        {
          "output_type": "display_data",
          "data": {
            "text/html": [
              "<font color = purple>Sci/tech (100%)</font> --> <font color = red>[FAILED]</font><br>Prediction Unit Helps Forecast Wildfires (AP) AP - It's barely dawn when Mike Fitzpatrick starts his shift with a blur of colorful maps, figures and endless charts, but already he knows what the day will bring. Lightning will strike in places he expects. Winds will pick up, moist places will dry and flames will roar."
            ],
            "text/plain": [
              "<IPython.core.display.HTML object>"
            ]
          },
          "metadata": {
            "tags": []
          }
        },
        {
          "output_type": "stream",
          "text": [
            "[Succeeded / Failed / Total] 0 / 4 / 4:  16%|█▌        | 4/25 [00:09<00:50,  2.42s/it]"
          ],
          "name": "stderr"
        },
        {
          "output_type": "display_data",
          "data": {
            "text/html": [
              "<font color = purple>Sci/tech (100%)</font> --> <font color = red>[FAILED]</font><br>Calif. Aims to Limit Farm-Related Smog (AP) AP - Southern California's smog-fighting agency went after emissions of the bovine variety Friday, adopting the nation's first rules to reduce air pollution from dairy cow manure."
            ],
            "text/plain": [
              "<IPython.core.display.HTML object>"
            ]
          },
          "metadata": {
            "tags": []
          }
        },
        {
          "output_type": "stream",
          "text": [
            "[Succeeded / Failed / Total] 0 / 5 / 5:  20%|██        | 5/25 [00:11<00:46,  2.32s/it]"
          ],
          "name": "stderr"
        },
        {
          "output_type": "display_data",
          "data": {
            "text/html": [
              "<font color = purple>Sci/tech (100%)</font> --> <font color = red>[FAILED]</font><br>Open Letter Against British Copyright Indoctrination in Schools The British Department for Education and Skills (DfES) recently launched a \"Music Manifesto\" campaign, with the ostensible intention of educating the next generation of British musicians. Unfortunately, they also teamed up with the music industry (EMI, and various artists) to make this popular. EMI has apparently negotiated their end well, so that children in our schools will now be indoctrinated about the illegality of downloading music.The ignorance and audacity of this got to me a little, so I wrote an open letter to the DfES about it. Unfortunately, it's pedantic, as I suppose you have to be when writing to goverment representatives. But I hope you find it useful, and perhaps feel inspired to do something similar, if or when the same thing has happened in your area."
            ],
            "text/plain": [
              "<IPython.core.display.HTML object>"
            ]
          },
          "metadata": {
            "tags": []
          }
        },
        {
          "output_type": "stream",
          "text": [
            "[Succeeded / Failed / Total] 0 / 6 / 6:  24%|██▍       | 6/25 [00:18<01:00,  3.16s/it]"
          ],
          "name": "stderr"
        },
        {
          "output_type": "display_data",
          "data": {
            "text/html": [
              "<font color = purple>Sci/tech (100%)</font> --> <font color = red>[FAILED]</font><br>Loosing the War on Terrorism \\\\\"Sven Jaschan, self-confessed author of the Netsky and Sasser viruses, is\\responsible for 70 percent of virus infections in 2004, according to a six-month\\virus roundup published Wednesday by antivirus company Sophos.\"\\\\\"The 18-year-old Jaschan was taken into custody in Germany in May by police who\\said he had admitted programming both the Netsky and Sasser worms, something\\experts at Microsoft confirmed. (A Microsoft antivirus reward program led to the\\teenager's arrest.) During the five months preceding Jaschan's capture, there\\were at least 25 variants of Netsky and one of the port-scanning network worm\\Sasser.\"\\\\\"Graham Cluley, senior technology consultant at Sophos, said it was staggeri ...\\\\"
            ],
            "text/plain": [
              "<IPython.core.display.HTML object>"
            ]
          },
          "metadata": {
            "tags": []
          }
        },
        {
          "output_type": "stream",
          "text": [
            "[Succeeded / Failed / Total] 0 / 7 / 7:  28%|██▊       | 7/25 [00:24<01:03,  3.54s/it]"
          ],
          "name": "stderr"
        },
        {
          "output_type": "display_data",
          "data": {
            "text/html": [
              "<font color = purple>Sci/tech (100%)</font> --> <font color = red>[FAILED]</font><br>FOAFKey: FOAF, PGP, Key Distribution, and Bloom Filters \\\\FOAF/LOAF  and bloom filters have a lot of interesting properties for social\\network and whitelist distribution.\\\\I think we can go one level higher though and include GPG/OpenPGP key\\fingerpring distribution in the FOAF file for simple web-of-trust based key\\distribution.\\\\What if we used FOAF and included the PGP key fingerprint(s) for identities?\\This could mean a lot.  You include the PGP key fingerprints within the FOAF\\file of your direct friends and then include a bloom filter of the PGP key\\fingerprints of your entire whitelist (the source FOAF file would of course need\\to be encrypted ).\\\\Your whitelist would be populated from the social network as your client\\discovered new identit ...\\\\"
            ],
            "text/plain": [
              "<IPython.core.display.HTML object>"
            ]
          },
          "metadata": {
            "tags": []
          }
        },
        {
          "output_type": "stream",
          "text": [
            "[Succeeded / Failed / Total] 0 / 8 / 8:  32%|███▏      | 8/25 [00:32<01:08,  4.02s/it]"
          ],
          "name": "stderr"
        },
        {
          "output_type": "display_data",
          "data": {
            "text/html": [
              "<font color = purple>Sci/tech (98%)</font> --> <font color = red>[FAILED]</font><br>E-mail scam targets police chief Wiltshire Police warns about \"phishing\" after its fraud squad chief was targeted."
            ],
            "text/plain": [
              "<IPython.core.display.HTML object>"
            ]
          },
          "metadata": {
            "tags": []
          }
        },
        {
          "output_type": "stream",
          "text": [
            "[Succeeded / Failed / Total] 0 / 9 / 9:  36%|███▌      | 9/25 [00:33<00:59,  3.70s/it]"
          ],
          "name": "stderr"
        },
        {
          "output_type": "display_data",
          "data": {
            "text/html": [
              "<font color = purple>Sci/tech (98%)</font> --> <font color = blue>Business (81%)</font><br>Card fraud unit nets 36,000 cards In its first two years, the UK's <font color = purple>dedicated</font> <font color = purple>card</font> fraud unit, has recovered 36,000 stolen cards and 171 arrests - and estimates it saved 65m.<br>Card fraud unit nets 36,000 cards In its first two years, the UK's <font color = blue>devoted</font> <font color = blue>collectible</font> fraud unit, has recovered 36,000 stolen cards and 171 arrests - and estimates it saved 65m."
            ],
            "text/plain": [
              "<IPython.core.display.HTML object>"
            ]
          },
          "metadata": {
            "tags": []
          }
        },
        {
          "output_type": "stream",
          "text": [
            "[Succeeded / Failed / Total] 1 / 9 / 10:  40%|████      | 10/25 [00:34<00:51,  3.45s/it]"
          ],
          "name": "stderr"
        },
        {
          "output_type": "display_data",
          "data": {
            "text/html": [
              "<font color = purple>Sci/tech (100%)</font> --> <font color = red>[FAILED]</font><br>Group to Propose New High-Speed Wireless Format  LOS ANGELES (Reuters) - A group of technology companies  including Texas Instruments Inc. &lt;TXN.N&gt;, STMicroelectronics  &lt;STM.PA&gt; and Broadcom Corp. &lt;BRCM.O&gt;, on Thursday said they  will propose a new wireless networking standard up to 10 times  the speed of the current generation."
            ],
            "text/plain": [
              "<IPython.core.display.HTML object>"
            ]
          },
          "metadata": {
            "tags": []
          }
        },
        {
          "output_type": "stream",
          "text": [
            "[Succeeded / Failed / Total] 1 / 10 / 11:  44%|████▍     | 11/25 [00:37<00:47,  3.41s/it]"
          ],
          "name": "stderr"
        },
        {
          "output_type": "display_data",
          "data": {
            "text/html": [
              "<font color = purple>Sci/tech (100%)</font> --> <font color = red>[FAILED]</font><br>Apple Launches Graphics Software, Video Bundle  LOS ANGELES (Reuters) - Apple Computer Inc.&lt;AAPL.O&gt; on  Tuesday began shipping a new program designed to let users  create real-time motion graphics and unveiled a discount  video-editing software bundle featuring its flagship Final Cut  Pro software."
            ],
            "text/plain": [
              "<IPython.core.display.HTML object>"
            ]
          },
          "metadata": {
            "tags": []
          }
        },
        {
          "output_type": "stream",
          "text": [
            "[Succeeded / Failed / Total] 1 / 11 / 12:  48%|████▊     | 12/25 [00:40<00:43,  3.34s/it]"
          ],
          "name": "stderr"
        },
        {
          "output_type": "display_data",
          "data": {
            "text/html": [
              "<font color = purple>Sci/tech (100%)</font> --> <font color = red>[FAILED]</font><br>Dutch Retailer Beats Apple to Local Download Market  AMSTERDAM (Reuters) - Free Record Shop, a Dutch music  retail chain, beat Apple Computer Inc. to market on Tuesday  with the launch of a new download service in Europe's latest  battleground for digital song services."
            ],
            "text/plain": [
              "<IPython.core.display.HTML object>"
            ]
          },
          "metadata": {
            "tags": []
          }
        },
        {
          "output_type": "stream",
          "text": [
            "[Succeeded / Failed / Total] 1 / 12 / 13:  52%|█████▏    | 13/25 [00:42<00:38,  3.25s/it]"
          ],
          "name": "stderr"
        },
        {
          "output_type": "display_data",
          "data": {
            "text/html": [
              "<font color = purple>Sci/tech (99%)</font> --> <font color = red>[FAILED]</font><br>Super ant colony hits Australia A giant 100km colony of ants  which has been discovered in Melbourne, Australia, could threaten local insect species."
            ],
            "text/plain": [
              "<IPython.core.display.HTML object>"
            ]
          },
          "metadata": {
            "tags": []
          }
        },
        {
          "output_type": "stream",
          "text": [
            "[Succeeded / Failed / Total] 1 / 13 / 14:  56%|█████▌    | 14/25 [00:43<00:34,  3.12s/it]"
          ],
          "name": "stderr"
        },
        {
          "output_type": "display_data",
          "data": {
            "text/html": [
              "<font color = purple>Sci/tech (97%)</font> --> <font color = red>[FAILED]</font><br>Socialites unite dolphin groups Dolphin groups, or \"pods\", rely on socialites to keep them from collapsing, scientists claim."
            ],
            "text/plain": [
              "<IPython.core.display.HTML object>"
            ]
          },
          "metadata": {
            "tags": []
          }
        },
        {
          "output_type": "stream",
          "text": [
            "[Succeeded / Failed / Total] 1 / 14 / 15:  60%|██████    | 15/25 [00:44<00:29,  2.99s/it]"
          ],
          "name": "stderr"
        },
        {
          "output_type": "display_data",
          "data": {
            "text/html": [
              "<font color = purple>Sci/tech (100%)</font> --> <font color = red>[FAILED]</font><br>Teenage T. rex's monster growth Tyrannosaurus rex achieved its massive size due to an enormous growth spurt during its adolescent years."
            ],
            "text/plain": [
              "<IPython.core.display.HTML object>"
            ]
          },
          "metadata": {
            "tags": []
          }
        },
        {
          "output_type": "stream",
          "text": [
            "[Succeeded / Failed / Total] 1 / 15 / 16:  64%|██████▍   | 16/25 [00:46<00:26,  2.89s/it]"
          ],
          "name": "stderr"
        },
        {
          "output_type": "display_data",
          "data": {
            "text/html": [
              "<font color = purple>Sci/tech (100%)</font> --> <font color = red>[FAILED]</font><br>Scientists Discover Ganymede has a Lumpy Interior Jet Propulsion Lab -- Scientists have discovered irregular lumps beneath the icy surface of Jupiter's largest moon, Ganymede. These irregular masses may be rock formations, supported by Ganymede's icy shell for billions of years..."
            ],
            "text/plain": [
              "<IPython.core.display.HTML object>"
            ]
          },
          "metadata": {
            "tags": []
          }
        },
        {
          "output_type": "stream",
          "text": [
            "[Succeeded / Failed / Total] 1 / 16 / 17:  68%|██████▊   | 17/25 [00:48<00:22,  2.86s/it]"
          ],
          "name": "stderr"
        },
        {
          "output_type": "display_data",
          "data": {
            "text/html": [
              "<font color = purple>Sci/tech (100%)</font> --> <font color = red>[FAILED]</font><br>Mars Rovers Relay Images Through Mars Express European Space Agency -- ESAs Mars Express has relayed pictures from one of NASA's Mars rovers for the first time, as part of a set of interplanetary networking demonstrations.     The demonstrations pave the way for future Mars missions to draw on joint interplanetary networking capabilities..."
            ],
            "text/plain": [
              "<IPython.core.display.HTML object>"
            ]
          },
          "metadata": {
            "tags": []
          }
        },
        {
          "output_type": "stream",
          "text": [
            "[Succeeded / Failed / Total] 1 / 17 / 18:  72%|███████▏  | 18/25 [00:51<00:20,  2.86s/it]"
          ],
          "name": "stderr"
        },
        {
          "output_type": "display_data",
          "data": {
            "text/html": [
              "<font color = purple>Sci/tech (100%)</font> --> <font color = red>[FAILED]</font><br>Rocking the Cradle of Life When did life begin? One evidential clue stems from the fossil records in Western Australia, although whether these layered sediments are biological or chemical has spawned a spirited debate. Oxford researcher, Nicola McLoughlin, describes some of the issues in contention."
            ],
            "text/plain": [
              "<IPython.core.display.HTML object>"
            ]
          },
          "metadata": {
            "tags": []
          }
        },
        {
          "output_type": "stream",
          "text": [
            "[Succeeded / Failed / Total] 1 / 18 / 19:  76%|███████▌  | 19/25 [00:54<00:17,  2.85s/it]"
          ],
          "name": "stderr"
        },
        {
          "output_type": "display_data",
          "data": {
            "text/html": [
              "<font color = purple>Sci/tech (100%)</font> --> <font color = red>[FAILED]</font><br>Storage, servers bruise HP earnings update Earnings per share rise compared with a year ago, but company misses analysts' expectations by a long shot."
            ],
            "text/plain": [
              "<IPython.core.display.HTML object>"
            ]
          },
          "metadata": {
            "tags": []
          }
        },
        {
          "output_type": "stream",
          "text": [
            "[Succeeded / Failed / Total] 1 / 19 / 20:  80%|████████  | 20/25 [00:55<00:13,  2.79s/it]"
          ],
          "name": "stderr"
        },
        {
          "output_type": "display_data",
          "data": {
            "text/html": [
              "<font color = purple>Sci/tech (88%)</font> --> <font color = blue>Business (54%)</font><br>IBM to hire even more new workers By the end of the year, the <font color = purple>computing</font> giant <font color = purple>plans</font> to have its biggest headcount since 1991.<br>IBM to hire even more new workers By the end of the year, the <font color = blue>reconfigurable</font> giant <font color = blue>planned</font> to have its biggest headcount since 1991."
            ],
            "text/plain": [
              "<IPython.core.display.HTML object>"
            ]
          },
          "metadata": {
            "tags": []
          }
        },
        {
          "output_type": "stream",
          "text": [
            "[Succeeded / Failed / Total] 2 / 19 / 21:  84%|████████▍ | 21/25 [00:56<00:10,  2.70s/it]"
          ],
          "name": "stderr"
        },
        {
          "output_type": "display_data",
          "data": {
            "text/html": [
              "<font color = purple>Sci/tech (100%)</font> --> <font color = red>[FAILED]</font><br>Sun's Looking Glass Provides 3D View Developers get early code for new operating system 'skin' still being crafted."
            ],
            "text/plain": [
              "<IPython.core.display.HTML object>"
            ]
          },
          "metadata": {
            "tags": []
          }
        },
        {
          "output_type": "stream",
          "text": [
            "[Succeeded / Failed / Total] 2 / 20 / 22:  88%|████████▊ | 22/25 [00:57<00:07,  2.63s/it]"
          ],
          "name": "stderr"
        },
        {
          "output_type": "display_data",
          "data": {
            "text/html": [
              "<font color = purple>Sci/tech (100%)</font> --> <font color = red>[FAILED]</font><br>IBM Chips May Someday Heal Themselves New technology applies electrical fuses to help identify and repair faults."
            ],
            "text/plain": [
              "<IPython.core.display.HTML object>"
            ]
          },
          "metadata": {
            "tags": []
          }
        },
        {
          "output_type": "stream",
          "text": [
            "[Succeeded / Failed / Total] 2 / 21 / 23:  92%|█████████▏| 23/25 [00:58<00:05,  2.56s/it]"
          ],
          "name": "stderr"
        },
        {
          "output_type": "display_data",
          "data": {
            "text/html": [
              "<font color = blue>Business (97%)</font> --> <font color = gray>[SKIPPED]</font><br>Some People Not Eligible to Get in on Google IPO Google has billed its IPO as a way for everyday people to get in on the process, denying Wall Street the usual stranglehold it's had on IPOs. Public bidding, a minimum of just five shares, an open process with 28 underwriters - all this pointed to a new level of public participation. But this isn't the case."
            ],
            "text/plain": [
              "<IPython.core.display.HTML object>"
            ]
          },
          "metadata": {
            "tags": []
          }
        },
        {
          "output_type": "stream",
          "text": [
            "\r[Succeeded / Failed / Total] 2 / 21 / 24:  96%|█████████▌| 24/25 [00:58<00:02,  2.46s/it]"
          ],
          "name": "stderr"
        },
        {
          "output_type": "display_data",
          "data": {
            "text/html": [
              "<font color = purple>Sci/tech (100%)</font> --> <font color = red>[FAILED]</font><br>Rivals Try to Turn Tables on Charles Schwab By MICHAEL LIEDTKE     SAN FRANCISCO (AP) -- With its low prices and iconoclastic attitude, discount stock broker Charles Schwab Corp. (SCH) represented an annoying stone in Wall Street's wing-tipped shoes for decades..."
            ],
            "text/plain": [
              "<IPython.core.display.HTML object>"
            ]
          },
          "metadata": {
            "tags": []
          }
        },
        {
          "output_type": "stream",
          "text": [
            "[Succeeded / Failed / Total] 2 / 22 / 25: 100%|██████████| 25/25 [01:00<00:00,  2.44s/it]"
          ],
          "name": "stderr"
        },
        {
          "output_type": "display_data",
          "data": {
            "text/html": [
              "<font color = purple>Sci/tech (100%)</font> --> <font color = red>[FAILED]</font><br>News: Sluggish movement on power grid cyber security Industry cyber security standards fail to reach some of the most vulnerable components of the power grid.\\"
            ],
            "text/plain": [
              "<IPython.core.display.HTML object>"
            ]
          },
          "metadata": {
            "tags": []
          }
        },
        {
          "output_type": "stream",
          "text": [
            "[Succeeded / Failed / Total] 2 / 23 / 26: : 26it [01:02,  2.41s/it]"
          ],
          "name": "stderr"
        },
        {
          "output_type": "stream",
          "text": [
            "+-------------------------------+--------+\n",
            "| Attack Results                |        |\n",
            "+-------------------------------+--------+\n",
            "| Number of successful attacks: | 2      |\n",
            "| Number of failed attacks:     | 23     |\n",
            "| Number of skipped attacks:    | 1      |\n",
            "| Original accuracy:            | 96.15% |\n",
            "| Accuracy under attack:        | 88.46% |\n",
            "| Attack success rate:          | 8.0%   |\n",
            "| Average perturbed word %:     | 7.29%  |\n",
            "| Average num. words per input: | 45.54  |\n",
            "| Avg num queries:              | 63.44  |\n",
            "+-------------------------------+--------+"
          ],
          "name": "stdout"
        },
        {
          "output_type": "stream",
          "text": [
            "\n",
            "\u001b[34;1mtextattack\u001b[0m: Attack time: 62.56433176994324s\n"
          ],
          "name": "stderr"
        }
      ]
    },
    {
      "cell_type": "code",
      "metadata": {
        "colab": {
          "base_uri": "https://localhost:8080/"
        },
        "id": "STAeDRN6Obr_",
        "outputId": "12929d8d-fd5c-4ac5-edeb-c53a4a2c369a"
      },
      "source": [
        "from textattack.search_methods import GreedyWordSwapWIR\n",
        "from textattack.constraints.pre_transformation import RepeatModification, StopwordModification\n",
        "from textattack.shared import Attack\n",
        "from textattack.goal_functions import UntargetedClassification\n",
        "from textattack.datasets import HuggingFaceDataset\n",
        "\n",
        "# We're going to use our word swap class as the attack transformation.\n",
        "transformation = Swapper__()\n",
        "\n",
        "constraints = [RepeatModification(),\n",
        "               StopwordModification()]\n",
        "\n",
        "search_method = GreedyWordSwapWIR()\n",
        "\n",
        "goal_function = UntargetedClassification(model_wrapper)\n",
        "\n",
        "# Now, let's make the attack from the 4 components:\n",
        "attack = Attack(goal_function, constraints, transformation, search_method)\n",
        "\n",
        "dataset = HuggingFaceDataset(\"ag_news\", None, \"test\") # Change the dataset"
      ],
      "execution_count": 30,
      "outputs": [
        {
          "output_type": "stream",
          "text": [
            "\u001b[34;1mtextattack\u001b[0m: Unknown if model of class <class 'transformers.models.bert.modeling_bert.BertForSequenceClassification'> compatible with goal function <class 'textattack.goal_functions.classification.untargeted_classification.UntargetedClassification'>.\n",
            "Using custom data configuration default\n",
            "Reusing dataset ag_news (/root/.cache/huggingface/datasets/ag_news/default/0.0.0/0eeeaaa5fb6dffd81458e293dfea1adba2881ffcbdc3fb56baeb5a892566c29a)\n",
            "\u001b[34;1mtextattack\u001b[0m: Loading \u001b[94mdatasets\u001b[0m dataset \u001b[94mag_news\u001b[0m, split \u001b[94mtest\u001b[0m.\n"
          ],
          "name": "stderr"
        }
      ]
    },
    {
      "cell_type": "code",
      "metadata": {
        "colab": {
          "base_uri": "https://localhost:8080/"
        },
        "id": "gQ_bQqzYO2Zb",
        "outputId": "66593487-c68a-4066-de4f-498abc4599af"
      },
      "source": [
        "print(attack)"
      ],
      "execution_count": 31,
      "outputs": [
        {
          "output_type": "stream",
          "text": [
            "Attack(\n",
            "  (search_method): GreedyWordSwapWIR(\n",
            "    (wir_method):  unk\n",
            "  )\n",
            "  (goal_function):  UntargetedClassification\n",
            "  (transformation):  Swapper__\n",
            "  (constraints): \n",
            "    (0): RepeatModification\n",
            "    (1): StopwordModification\n",
            "  (is_black_box):  True\n",
            ")\n"
          ],
          "name": "stdout"
        }
      ]
    },
    {
      "cell_type": "code",
      "metadata": {
        "colab": {
          "base_uri": "https://localhost:8080/",
          "height": 1000
        },
        "id": "B7aWCrzTO4xp",
        "outputId": "6e2d2f00-5c13-4945-d9da-b8a76e6575d9"
      },
      "source": [
        "printexample(attack)"
      ],
      "execution_count": 32,
      "outputs": [
        {
          "output_type": "stream",
          "text": [
            "\r  0%|          | 0/25 [00:00<?, ?it/s]"
          ],
          "name": "stderr"
        },
        {
          "output_type": "stream",
          "text": [
            "Attack(\n",
            "  (search_method): GreedyWordSwapWIR(\n",
            "    (wir_method):  unk\n",
            "  )\n",
            "  (goal_function):  UntargetedClassification\n",
            "  (transformation):  Swapper__\n",
            "  (constraints): \n",
            "    (0): RepeatModification\n",
            "    (1): StopwordModification\n",
            "  (is_black_box):  True\n",
            ")\n"
          ],
          "name": "stdout"
        },
        {
          "output_type": "display_data",
          "data": {
            "text/html": [
              "<font color = blue>Business (100%)</font> --> <font color = red>[FAILED]</font><br>Fears for T N pension after talks Unions representing workers at Turner   Newall say they are 'disappointed' after talks with stricken parent firm Federal Mogul."
            ],
            "text/plain": [
              "<IPython.core.display.HTML object>"
            ]
          },
          "metadata": {
            "tags": []
          }
        },
        {
          "output_type": "stream",
          "text": [
            "[Succeeded / Failed / Total] 0 / 1 / 1:   4%|▍         | 1/25 [00:01<00:37,  1.55s/it]"
          ],
          "name": "stderr"
        },
        {
          "output_type": "display_data",
          "data": {
            "text/html": [
              "<font color = purple>Sci/tech (100%)</font> --> <font color = red>[FAILED]</font><br>The Race is On: Second Private Team Sets Launch Date for Human Spaceflight (SPACE.com) SPACE.com - TORONTO, Canada -- A second\\team of rocketeers competing for the  #36;10 million Ansari X Prize, a contest for\\privately funded suborbital space flight, has officially announced the first\\launch date for its manned rocket."
            ],
            "text/plain": [
              "<IPython.core.display.HTML object>"
            ]
          },
          "metadata": {
            "tags": []
          }
        },
        {
          "output_type": "stream",
          "text": [
            "[Succeeded / Failed / Total] 0 / 2 / 2:   8%|▊         | 2/25 [00:04<00:57,  2.49s/it]"
          ],
          "name": "stderr"
        },
        {
          "output_type": "display_data",
          "data": {
            "text/html": [
              "<font color = purple>Sci/tech (100%)</font> --> <font color = red>[FAILED]</font><br>Ky. Company Wins Grant to Study Peptides (AP) AP - A company founded by a chemistry researcher at the University of Louisville won a grant to develop a method of producing better peptides, which are short chains of amino acids, the building blocks of proteins."
            ],
            "text/plain": [
              "<IPython.core.display.HTML object>"
            ]
          },
          "metadata": {
            "tags": []
          }
        },
        {
          "output_type": "stream",
          "text": [
            "[Succeeded / Failed / Total] 0 / 3 / 3:  12%|█▏        | 3/25 [00:07<00:57,  2.62s/it]"
          ],
          "name": "stderr"
        },
        {
          "output_type": "display_data",
          "data": {
            "text/html": [
              "<font color = purple>Sci/tech (100%)</font> --> <font color = red>[FAILED]</font><br>Prediction Unit Helps Forecast Wildfires (AP) AP - It's barely dawn when Mike Fitzpatrick starts his shift with a blur of colorful maps, figures and endless charts, but already he knows what the day will bring. Lightning will strike in places he expects. Winds will pick up, moist places will dry and flames will roar."
            ],
            "text/plain": [
              "<IPython.core.display.HTML object>"
            ]
          },
          "metadata": {
            "tags": []
          }
        },
        {
          "output_type": "stream",
          "text": [
            "[Succeeded / Failed / Total] 0 / 4 / 4:  16%|█▌        | 4/25 [00:11<01:00,  2.89s/it]"
          ],
          "name": "stderr"
        },
        {
          "output_type": "display_data",
          "data": {
            "text/html": [
              "<font color = purple>Sci/tech (100%)</font> --> <font color = red>[FAILED]</font><br>Calif. Aims to Limit Farm-Related Smog (AP) AP - Southern California's smog-fighting agency went after emissions of the bovine variety Friday, adopting the nation's first rules to reduce air pollution from dairy cow manure."
            ],
            "text/plain": [
              "<IPython.core.display.HTML object>"
            ]
          },
          "metadata": {
            "tags": []
          }
        },
        {
          "output_type": "stream",
          "text": [
            "[Succeeded / Failed / Total] 0 / 5 / 5:  20%|██        | 5/25 [00:13<00:55,  2.77s/it]"
          ],
          "name": "stderr"
        },
        {
          "output_type": "display_data",
          "data": {
            "text/html": [
              "<font color = purple>Sci/tech (100%)</font> --> <font color = red>[FAILED]</font><br>Open Letter Against British Copyright Indoctrination in Schools The British Department for Education and Skills (DfES) recently launched a \"Music Manifesto\" campaign, with the ostensible intention of educating the next generation of British musicians. Unfortunately, they also teamed up with the music industry (EMI, and various artists) to make this popular. EMI has apparently negotiated their end well, so that children in our schools will now be indoctrinated about the illegality of downloading music.The ignorance and audacity of this got to me a little, so I wrote an open letter to the DfES about it. Unfortunately, it's pedantic, as I suppose you have to be when writing to goverment representatives. But I hope you find it useful, and perhaps feel inspired to do something similar, if or when the same thing has happened in your area."
            ],
            "text/plain": [
              "<IPython.core.display.HTML object>"
            ]
          },
          "metadata": {
            "tags": []
          }
        },
        {
          "output_type": "stream",
          "text": [
            "[Succeeded / Failed / Total] 0 / 6 / 6:  24%|██▍       | 6/25 [00:22<01:11,  3.78s/it]"
          ],
          "name": "stderr"
        },
        {
          "output_type": "display_data",
          "data": {
            "text/html": [
              "<font color = purple>Sci/tech (100%)</font> --> <font color = red>[FAILED]</font><br>Loosing the War on Terrorism \\\\\"Sven Jaschan, self-confessed author of the Netsky and Sasser viruses, is\\responsible for 70 percent of virus infections in 2004, according to a six-month\\virus roundup published Wednesday by antivirus company Sophos.\"\\\\\"The 18-year-old Jaschan was taken into custody in Germany in May by police who\\said he had admitted programming both the Netsky and Sasser worms, something\\experts at Microsoft confirmed. (A Microsoft antivirus reward program led to the\\teenager's arrest.) During the five months preceding Jaschan's capture, there\\were at least 25 variants of Netsky and one of the port-scanning network worm\\Sasser.\"\\\\\"Graham Cluley, senior technology consultant at Sophos, said it was staggeri ...\\\\"
            ],
            "text/plain": [
              "<IPython.core.display.HTML object>"
            ]
          },
          "metadata": {
            "tags": []
          }
        },
        {
          "output_type": "stream",
          "text": [
            "[Succeeded / Failed / Total] 0 / 7 / 7:  28%|██▊       | 7/25 [00:29<01:16,  4.25s/it]"
          ],
          "name": "stderr"
        },
        {
          "output_type": "display_data",
          "data": {
            "text/html": [
              "<font color = purple>Sci/tech (100%)</font> --> <font color = red>[FAILED]</font><br>FOAFKey: FOAF, PGP, Key Distribution, and Bloom Filters \\\\FOAF/LOAF  and bloom filters have a lot of interesting properties for social\\network and whitelist distribution.\\\\I think we can go one level higher though and include GPG/OpenPGP key\\fingerpring distribution in the FOAF file for simple web-of-trust based key\\distribution.\\\\What if we used FOAF and included the PGP key fingerprint(s) for identities?\\This could mean a lot.  You include the PGP key fingerprints within the FOAF\\file of your direct friends and then include a bloom filter of the PGP key\\fingerprints of your entire whitelist (the source FOAF file would of course need\\to be encrypted ).\\\\Your whitelist would be populated from the social network as your client\\discovered new identit ...\\\\"
            ],
            "text/plain": [
              "<IPython.core.display.HTML object>"
            ]
          },
          "metadata": {
            "tags": []
          }
        },
        {
          "output_type": "stream",
          "text": [
            "[Succeeded / Failed / Total] 0 / 8 / 8:  32%|███▏      | 8/25 [00:38<01:22,  4.87s/it]"
          ],
          "name": "stderr"
        },
        {
          "output_type": "display_data",
          "data": {
            "text/html": [
              "<font color = purple>Sci/tech (98%)</font> --> <font color = red>World (76%)</font><br>E-mail scam targets police chief Wiltshire Police warns about \"<font color = purple>phishing</font>\" after its <font color = purple>fraud</font> squad chief was <font color = purple>targeted</font>.<br>E-mail scam targets police chief Wiltshire Police warns about \"<font color = red>lollen</font>\" after its <font color = red>runoff</font> squad chief was <font color = red>massacred</font>."
            ],
            "text/plain": [
              "<IPython.core.display.HTML object>"
            ]
          },
          "metadata": {
            "tags": []
          }
        },
        {
          "output_type": "stream",
          "text": [
            "[Succeeded / Failed / Total] 1 / 8 / 9:  36%|███▌      | 9/25 [00:39<01:10,  4.43s/it]"
          ],
          "name": "stderr"
        },
        {
          "output_type": "display_data",
          "data": {
            "text/html": [
              "<font color = purple>Sci/tech (98%)</font> --> <font color = blue>Business (81%)</font><br>Card fraud unit nets 36,000 cards In its first two years, the UK's <font color = purple>dedicated</font> <font color = purple>card</font> fraud unit, has recovered 36,000 stolen cards and 171 arrests - and estimates it saved 65m.<br>Card fraud unit nets 36,000 cards In its first two years, the UK's <font color = blue>devoted</font> <font color = blue>collectible</font> fraud unit, has recovered 36,000 stolen cards and 171 arrests - and estimates it saved 65m."
            ],
            "text/plain": [
              "<IPython.core.display.HTML object>"
            ]
          },
          "metadata": {
            "tags": []
          }
        },
        {
          "output_type": "stream",
          "text": [
            "[Succeeded / Failed / Total] 2 / 8 / 10:  40%|████      | 10/25 [00:41<01:01,  4.11s/it]"
          ],
          "name": "stderr"
        },
        {
          "output_type": "display_data",
          "data": {
            "text/html": [
              "<font color = purple>Sci/tech (100%)</font> --> <font color = red>[FAILED]</font><br>Group to Propose New High-Speed Wireless Format  LOS ANGELES (Reuters) - A group of technology companies  including Texas Instruments Inc. &lt;TXN.N&gt;, STMicroelectronics  &lt;STM.PA&gt; and Broadcom Corp. &lt;BRCM.O&gt;, on Thursday said they  will propose a new wireless networking standard up to 10 times  the speed of the current generation."
            ],
            "text/plain": [
              "<IPython.core.display.HTML object>"
            ]
          },
          "metadata": {
            "tags": []
          }
        },
        {
          "output_type": "stream",
          "text": [
            "[Succeeded / Failed / Total] 2 / 9 / 11:  44%|████▍     | 11/25 [00:44<00:56,  4.06s/it]"
          ],
          "name": "stderr"
        },
        {
          "output_type": "display_data",
          "data": {
            "text/html": [
              "<font color = purple>Sci/tech (100%)</font> --> <font color = red>[FAILED]</font><br>Apple Launches Graphics Software, Video Bundle  LOS ANGELES (Reuters) - Apple Computer Inc.&lt;AAPL.O&gt; on  Tuesday began shipping a new program designed to let users  create real-time motion graphics and unveiled a discount  video-editing software bundle featuring its flagship Final Cut  Pro software."
            ],
            "text/plain": [
              "<IPython.core.display.HTML object>"
            ]
          },
          "metadata": {
            "tags": []
          }
        },
        {
          "output_type": "stream",
          "text": [
            "[Succeeded / Failed / Total] 2 / 10 / 12:  48%|████▊     | 12/25 [00:47<00:51,  3.98s/it]"
          ],
          "name": "stderr"
        },
        {
          "output_type": "display_data",
          "data": {
            "text/html": [
              "<font color = purple>Sci/tech (100%)</font> --> <font color = red>[FAILED]</font><br>Dutch Retailer Beats Apple to Local Download Market  AMSTERDAM (Reuters) - Free Record Shop, a Dutch music  retail chain, beat Apple Computer Inc. to market on Tuesday  with the launch of a new download service in Europe's latest  battleground for digital song services."
            ],
            "text/plain": [
              "<IPython.core.display.HTML object>"
            ]
          },
          "metadata": {
            "tags": []
          }
        },
        {
          "output_type": "stream",
          "text": [
            "[Succeeded / Failed / Total] 2 / 11 / 13:  52%|█████▏    | 13/25 [00:50<00:46,  3.88s/it]"
          ],
          "name": "stderr"
        },
        {
          "output_type": "display_data",
          "data": {
            "text/html": [
              "<font color = purple>Sci/tech (99%)</font> --> <font color = red>[FAILED]</font><br>Super ant colony hits Australia A giant 100km colony of ants  which has been discovered in Melbourne, Australia, could threaten local insect species."
            ],
            "text/plain": [
              "<IPython.core.display.HTML object>"
            ]
          },
          "metadata": {
            "tags": []
          }
        },
        {
          "output_type": "stream",
          "text": [
            "[Succeeded / Failed / Total] 2 / 12 / 14:  56%|█████▌    | 14/25 [00:52<00:41,  3.73s/it]"
          ],
          "name": "stderr"
        },
        {
          "output_type": "display_data",
          "data": {
            "text/html": [
              "<font color = purple>Sci/tech (97%)</font> --> <font color = red>[FAILED]</font><br>Socialites unite dolphin groups Dolphin groups, or \"pods\", rely on socialites to keep them from collapsing, scientists claim."
            ],
            "text/plain": [
              "<IPython.core.display.HTML object>"
            ]
          },
          "metadata": {
            "tags": []
          }
        },
        {
          "output_type": "stream",
          "text": [
            "[Succeeded / Failed / Total] 2 / 13 / 15:  60%|██████    | 15/25 [00:53<00:35,  3.59s/it]"
          ],
          "name": "stderr"
        },
        {
          "output_type": "display_data",
          "data": {
            "text/html": [
              "<font color = purple>Sci/tech (100%)</font> --> <font color = red>[FAILED]</font><br>Teenage T. rex's monster growth Tyrannosaurus rex achieved its massive size due to an enormous growth spurt during its adolescent years."
            ],
            "text/plain": [
              "<IPython.core.display.HTML object>"
            ]
          },
          "metadata": {
            "tags": []
          }
        },
        {
          "output_type": "stream",
          "text": [
            "[Succeeded / Failed / Total] 2 / 14 / 16:  64%|██████▍   | 16/25 [00:55<00:31,  3.47s/it]"
          ],
          "name": "stderr"
        },
        {
          "output_type": "display_data",
          "data": {
            "text/html": [
              "<font color = purple>Sci/tech (100%)</font> --> <font color = red>[FAILED]</font><br>Scientists Discover Ganymede has a Lumpy Interior Jet Propulsion Lab -- Scientists have discovered irregular lumps beneath the icy surface of Jupiter's largest moon, Ganymede. These irregular masses may be rock formations, supported by Ganymede's icy shell for billions of years..."
            ],
            "text/plain": [
              "<IPython.core.display.HTML object>"
            ]
          },
          "metadata": {
            "tags": []
          }
        },
        {
          "output_type": "stream",
          "text": [
            "[Succeeded / Failed / Total] 2 / 15 / 17:  68%|██████▊   | 17/25 [00:58<00:27,  3.43s/it]"
          ],
          "name": "stderr"
        },
        {
          "output_type": "display_data",
          "data": {
            "text/html": [
              "<font color = purple>Sci/tech (100%)</font> --> <font color = red>[FAILED]</font><br>Mars Rovers Relay Images Through Mars Express European Space Agency -- ESAs Mars Express has relayed pictures from one of NASA's Mars rovers for the first time, as part of a set of interplanetary networking demonstrations.     The demonstrations pave the way for future Mars missions to draw on joint interplanetary networking capabilities..."
            ],
            "text/plain": [
              "<IPython.core.display.HTML object>"
            ]
          },
          "metadata": {
            "tags": []
          }
        },
        {
          "output_type": "stream",
          "text": [
            "[Succeeded / Failed / Total] 2 / 16 / 18:  72%|███████▏  | 18/25 [01:01<00:24,  3.43s/it]"
          ],
          "name": "stderr"
        },
        {
          "output_type": "display_data",
          "data": {
            "text/html": [
              "<font color = purple>Sci/tech (100%)</font> --> <font color = red>[FAILED]</font><br>Rocking the Cradle of Life When did life begin? One evidential clue stems from the fossil records in Western Australia, although whether these layered sediments are biological or chemical has spawned a spirited debate. Oxford researcher, Nicola McLoughlin, describes some of the issues in contention."
            ],
            "text/plain": [
              "<IPython.core.display.HTML object>"
            ]
          },
          "metadata": {
            "tags": []
          }
        },
        {
          "output_type": "stream",
          "text": [
            "[Succeeded / Failed / Total] 2 / 17 / 19:  76%|███████▌  | 19/25 [01:04<00:20,  3.42s/it]"
          ],
          "name": "stderr"
        },
        {
          "output_type": "display_data",
          "data": {
            "text/html": [
              "<font color = purple>Sci/tech (100%)</font> --> <font color = red>[FAILED]</font><br>Storage, servers bruise HP earnings update Earnings per share rise compared with a year ago, but company misses analysts' expectations by a long shot."
            ],
            "text/plain": [
              "<IPython.core.display.HTML object>"
            ]
          },
          "metadata": {
            "tags": []
          }
        },
        {
          "output_type": "stream",
          "text": [
            "[Succeeded / Failed / Total] 2 / 18 / 20:  80%|████████  | 20/25 [01:07<00:16,  3.35s/it]"
          ],
          "name": "stderr"
        },
        {
          "output_type": "display_data",
          "data": {
            "text/html": [
              "<font color = purple>Sci/tech (88%)</font> --> <font color = blue>Business (57%)</font><br>IBM to hire even more new workers By the end of the year, the computing giant <font color = purple>plans</font> to have its biggest headcount <font color = purple>since</font> 1991.<br>IBM to hire even more new workers By the end of the year, the computing giant <font color = blue>proposals</font> to have its biggest headcount <font color = blue>however</font> 1991."
            ],
            "text/plain": [
              "<IPython.core.display.HTML object>"
            ]
          },
          "metadata": {
            "tags": []
          }
        },
        {
          "output_type": "stream",
          "text": [
            "[Succeeded / Failed / Total] 3 / 18 / 21:  84%|████████▍ | 21/25 [01:08<00:12,  3.24s/it]"
          ],
          "name": "stderr"
        },
        {
          "output_type": "display_data",
          "data": {
            "text/html": [
              "<font color = purple>Sci/tech (100%)</font> --> <font color = red>[FAILED]</font><br>Sun's Looking Glass Provides 3D View Developers get early code for new operating system 'skin' still being crafted."
            ],
            "text/plain": [
              "<IPython.core.display.HTML object>"
            ]
          },
          "metadata": {
            "tags": []
          }
        },
        {
          "output_type": "stream",
          "text": [
            "[Succeeded / Failed / Total] 3 / 19 / 22:  88%|████████▊ | 22/25 [01:09<00:09,  3.15s/it]"
          ],
          "name": "stderr"
        },
        {
          "output_type": "display_data",
          "data": {
            "text/html": [
              "<font color = purple>Sci/tech (100%)</font> --> <font color = red>[FAILED]</font><br>IBM Chips May Someday Heal Themselves New technology applies electrical fuses to help identify and repair faults."
            ],
            "text/plain": [
              "<IPython.core.display.HTML object>"
            ]
          },
          "metadata": {
            "tags": []
          }
        },
        {
          "output_type": "stream",
          "text": [
            "[Succeeded / Failed / Total] 3 / 20 / 23:  92%|█████████▏| 23/25 [01:10<00:06,  3.07s/it]"
          ],
          "name": "stderr"
        },
        {
          "output_type": "display_data",
          "data": {
            "text/html": [
              "<font color = blue>Business (97%)</font> --> <font color = gray>[SKIPPED]</font><br>Some People Not Eligible to Get in on Google IPO Google has billed its IPO as a way for everyday people to get in on the process, denying Wall Street the usual stranglehold it's had on IPOs. Public bidding, a minimum of just five shares, an open process with 28 underwriters - all this pointed to a new level of public participation. But this isn't the case."
            ],
            "text/plain": [
              "<IPython.core.display.HTML object>"
            ]
          },
          "metadata": {
            "tags": []
          }
        },
        {
          "output_type": "stream",
          "text": [
            "\r[Succeeded / Failed / Total] 3 / 20 / 24:  96%|█████████▌| 24/25 [01:10<00:02,  2.95s/it]"
          ],
          "name": "stderr"
        },
        {
          "output_type": "display_data",
          "data": {
            "text/html": [
              "<font color = purple>Sci/tech (100%)</font> --> <font color = red>[FAILED]</font><br>Rivals Try to Turn Tables on Charles Schwab By MICHAEL LIEDTKE     SAN FRANCISCO (AP) -- With its low prices and iconoclastic attitude, discount stock broker Charles Schwab Corp. (SCH) represented an annoying stone in Wall Street's wing-tipped shoes for decades..."
            ],
            "text/plain": [
              "<IPython.core.display.HTML object>"
            ]
          },
          "metadata": {
            "tags": []
          }
        },
        {
          "output_type": "stream",
          "text": [
            "[Succeeded / Failed / Total] 3 / 21 / 25: 100%|██████████| 25/25 [01:12<00:00,  2.92s/it]"
          ],
          "name": "stderr"
        },
        {
          "output_type": "display_data",
          "data": {
            "text/html": [
              "<font color = purple>Sci/tech (100%)</font> --> <font color = red>[FAILED]</font><br>News: Sluggish movement on power grid cyber security Industry cyber security standards fail to reach some of the most vulnerable components of the power grid.\\"
            ],
            "text/plain": [
              "<IPython.core.display.HTML object>"
            ]
          },
          "metadata": {
            "tags": []
          }
        },
        {
          "output_type": "stream",
          "text": [
            "[Succeeded / Failed / Total] 3 / 22 / 26: : 26it [01:15,  2.89s/it]"
          ],
          "name": "stderr"
        },
        {
          "output_type": "stream",
          "text": [
            "+-------------------------------+--------+\n",
            "| Attack Results                |        |\n",
            "+-------------------------------+--------+\n",
            "| Number of successful attacks: | 3      |\n",
            "| Number of failed attacks:     | 22     |\n",
            "| Number of skipped attacks:    | 1      |\n",
            "| Original accuracy:            | 96.15% |\n",
            "| Accuracy under attack:        | 84.62% |\n",
            "| Attack success rate:          | 12.0%  |\n",
            "| Average perturbed word %:     | 10.74% |\n",
            "| Average num. words per input: | 45.54  |\n",
            "| Avg num queries:              | 63.44  |\n",
            "+-------------------------------+--------+"
          ],
          "name": "stdout"
        },
        {
          "output_type": "stream",
          "text": [
            "\n",
            "\u001b[34;1mtextattack\u001b[0m: Attack time: 75.07407855987549s\n"
          ],
          "name": "stderr"
        }
      ]
    },
    {
      "cell_type": "code",
      "metadata": {
        "colab": {
          "base_uri": "https://localhost:8080/"
        },
        "id": "8rK5QW2hnCiI",
        "outputId": "a6f18331-0f77-4c78-c27d-08cf3bfa381e"
      },
      "source": [
        "from textattack.search_methods import ParticleSwarmOptimization\n",
        "from textattack.constraints.pre_transformation import RepeatModification, StopwordModification\n",
        "from textattack.shared import Attack\n",
        "from textattack.goal_functions import UntargetedClassification\n",
        "from textattack.datasets import HuggingFaceDataset\n",
        "\n",
        "# We're going to use our word swap class as the attack transformation.\n",
        "transformation = Swapper()\n",
        "\n",
        "constraints = [RepeatModification(),\n",
        "               StopwordModification()]\n",
        "\n",
        "search_method = ParticleSwarmOptimization(pop_size=10,max_iters=5,post_turn_check=True)\n",
        "\n",
        "goal_function = UntargetedClassification(model_wrapper)\n",
        "\n",
        "# Now, let's make the attack from the 4 components:\n",
        "attack = Attack(goal_function, constraints, transformation, search_method)\n",
        "\n",
        "dataset = HuggingFaceDataset(\"ag_news\", None, \"test\") # Change the dataset"
      ],
      "execution_count": 33,
      "outputs": [
        {
          "output_type": "stream",
          "text": [
            "\u001b[34;1mtextattack\u001b[0m: Unknown if model of class <class 'transformers.models.bert.modeling_bert.BertForSequenceClassification'> compatible with goal function <class 'textattack.goal_functions.classification.untargeted_classification.UntargetedClassification'>.\n",
            "Using custom data configuration default\n",
            "Reusing dataset ag_news (/root/.cache/huggingface/datasets/ag_news/default/0.0.0/0eeeaaa5fb6dffd81458e293dfea1adba2881ffcbdc3fb56baeb5a892566c29a)\n",
            "\u001b[34;1mtextattack\u001b[0m: Loading \u001b[94mdatasets\u001b[0m dataset \u001b[94mag_news\u001b[0m, split \u001b[94mtest\u001b[0m.\n"
          ],
          "name": "stderr"
        }
      ]
    },
    {
      "cell_type": "code",
      "metadata": {
        "colab": {
          "base_uri": "https://localhost:8080/"
        },
        "id": "gUWI3gs9nzz2",
        "outputId": "d85d4a36-d048-46fe-fc5e-631e6e060384"
      },
      "source": [
        "print(attack)"
      ],
      "execution_count": 34,
      "outputs": [
        {
          "output_type": "stream",
          "text": [
            "Attack(\n",
            "  (search_method): ParticleSwarmOptimization(\n",
            "    (pop_size):  10\n",
            "    (max_iters):  5\n",
            "    (post_turn_check):  True\n",
            "    (max_turn_retries):  20\n",
            "  )\n",
            "  (goal_function):  UntargetedClassification\n",
            "  (transformation):  Swapper\n",
            "  (constraints): \n",
            "    (0): RepeatModification\n",
            "    (1): StopwordModification\n",
            "  (is_black_box):  True\n",
            ")\n"
          ],
          "name": "stdout"
        }
      ]
    },
    {
      "cell_type": "code",
      "metadata": {
        "colab": {
          "base_uri": "https://localhost:8080/",
          "height": 1000
        },
        "id": "eynxLKPCn2c7",
        "outputId": "ce165dea-1a14-4c30-9636-af23e1f4443a"
      },
      "source": [
        "printexample(attack)"
      ],
      "execution_count": 35,
      "outputs": [
        {
          "output_type": "stream",
          "text": [
            "\r  0%|          | 0/25 [00:00<?, ?it/s]"
          ],
          "name": "stderr"
        },
        {
          "output_type": "stream",
          "text": [
            "Attack(\n",
            "  (search_method): ParticleSwarmOptimization(\n",
            "    (pop_size):  10\n",
            "    (max_iters):  5\n",
            "    (post_turn_check):  True\n",
            "    (max_turn_retries):  20\n",
            "  )\n",
            "  (goal_function):  UntargetedClassification\n",
            "  (transformation):  Swapper\n",
            "  (constraints): \n",
            "    (0): RepeatModification\n",
            "    (1): StopwordModification\n",
            "  (is_black_box):  True\n",
            ")\n"
          ],
          "name": "stdout"
        },
        {
          "output_type": "display_data",
          "data": {
            "text/html": [
              "<font color = blue>Business (100%)</font> --> <font color = purple>Sci/tech (65%)</font><br>Fears for T <font color = blue>N</font> pension after talks Unions representing workers at Turner   <font color = blue>Newall</font> say they are 'disappointed' after talks with <font color = blue>stricken</font> parent firm Federal Mogul.<br>Fears for T <font color = purple>SACK</font> pension after talks Unions representing workers at Turner   <font color = purple>Sewall</font> say they are 'disappointed' after talks with <font color = purple>trickery</font> parent firm Federal Mogul."
            ],
            "text/plain": [
              "<IPython.core.display.HTML object>"
            ]
          },
          "metadata": {
            "tags": []
          }
        },
        {
          "output_type": "stream",
          "text": [
            "[Succeeded / Failed / Total] 1 / 0 / 1:   4%|▍         | 1/25 [00:02<01:10,  2.95s/it]"
          ],
          "name": "stderr"
        },
        {
          "output_type": "display_data",
          "data": {
            "text/html": [
              "<font color = purple>Sci/tech (100%)</font> --> <font color = green>Sports (60%)</font><br>The Race is On: Second Private Team Sets Launch Date for Human Spaceflight (<font color = purple>SPACE</font>.com) <font color = purple>SPACE</font>.com - TORONTO, Canada -- A second\\<font color = purple>team</font> of rocketeers competing for the  #36;<font color = purple>10</font> million Ansari X <font color = purple>Prize</font>, a <font color = purple>contest</font> for\\privately funded suborbital <font color = purple>space</font> <font color = purple>flight</font>, has officially announced the first\\launch date for its manned rocket.<br>The Race is On: Second Private Team Sets Launch Date for Human Spaceflight (<font color = green>PANTS</font>.com) <font color = green>PANTS</font>.com - TORONTO, Canada -- A second\\<font color = green>nba</font> of rocketeers competing for the  #36;<font color = green>orator</font> million Ansari X <font color = green>Brize</font>, a <font color = green>tournament</font> for\\privately funded suborbital <font color = green>pspace</font> <font color = green>aircrew</font>, has officially announced the first\\launch date for its manned rocket."
            ],
            "text/plain": [
              "<IPython.core.display.HTML object>"
            ]
          },
          "metadata": {
            "tags": []
          }
        },
        {
          "output_type": "stream",
          "text": [
            "[Succeeded / Failed / Total] 2 / 0 / 2:   8%|▊         | 2/25 [00:57<11:03, 28.85s/it]"
          ],
          "name": "stderr"
        },
        {
          "output_type": "display_data",
          "data": {
            "text/html": [
              "<font color = purple>Sci/tech (100%)</font> --> <font color = red>[FAILED]</font><br>Ky. Company Wins Grant to Study Peptides (AP) AP - A company founded by a chemistry researcher at the University of Louisville won a grant to develop a method of producing better peptides, which are short chains of amino acids, the building blocks of proteins."
            ],
            "text/plain": [
              "<IPython.core.display.HTML object>"
            ]
          },
          "metadata": {
            "tags": []
          }
        },
        {
          "output_type": "stream",
          "text": [
            "[Succeeded / Failed / Total] 2 / 1 / 3:  12%|█▏        | 3/25 [01:49<13:21, 36.41s/it]"
          ],
          "name": "stderr"
        },
        {
          "output_type": "display_data",
          "data": {
            "text/html": [
              "<font color = purple>Sci/tech (100%)</font> --> <font color = red>World (62%)</font><br><font color = purple>Prediction</font> Unit Helps <font color = purple>Forecast</font> <font color = purple>Wildfires</font> (AP) AP - It's barely dawn when Mike Fitzpatrick starts his shift with a blur of colorful maps, figures and endless charts, but already he knows what the day will bring. Lightning will strike in places he expects. Winds will pick up, moist places will dry and flames will roar.<br><font color = red>Indiction</font> Unit Helps <font color = red>Recast</font> <font color = red>Fires</font> (AP) AP - It's barely dawn when Mike Fitzpatrick starts his shift with a blur of colorful maps, figures and endless charts, but already he knows what the day will bring. Lightning will strike in places he expects. Winds will pick up, moist places will dry and flames will roar."
            ],
            "text/plain": [
              "<IPython.core.display.HTML object>"
            ]
          },
          "metadata": {
            "tags": []
          }
        },
        {
          "output_type": "stream",
          "text": [
            "[Succeeded / Failed / Total] 3 / 1 / 4:  16%|█▌        | 4/25 [01:54<10:03, 28.74s/it]"
          ],
          "name": "stderr"
        },
        {
          "output_type": "display_data",
          "data": {
            "text/html": [
              "<font color = purple>Sci/tech (100%)</font> --> <font color = red>World (72%)</font><br><font color = purple>Calif</font>. Aims to Limit Farm-Related <font color = purple>Smog</font> (AP) AP - <font color = purple>Southern</font> California's <font color = purple>smog-fighting</font> agency <font color = purple>went</font> after <font color = purple>emissions</font> of the bovine variety <font color = purple>Friday</font>, adopting the nation's first rules to reduce air <font color = purple>pollution</font> from dairy cow manure.<br><font color = red>Alif</font>. Aims to Limit Farm-Related <font color = red>Fog</font> (AP) AP - <font color = red>Northern</font> California's <font color = red>bullfighting</font> agency <font color = red>started</font> after <font color = red>emission</font> of the bovine variety <font color = red>Wednesday</font>, adopting the nation's first rules to reduce air <font color = red>polluting</font> from dairy cow manure."
            ],
            "text/plain": [
              "<IPython.core.display.HTML object>"
            ]
          },
          "metadata": {
            "tags": []
          }
        },
        {
          "output_type": "stream",
          "text": [
            "[Succeeded / Failed / Total] 4 / 1 / 5:  20%|██        | 5/25 [02:31<10:05, 30.27s/it]"
          ],
          "name": "stderr"
        },
        {
          "output_type": "display_data",
          "data": {
            "text/html": [
              "<font color = purple>Sci/tech (100%)</font> --> <font color = red>[FAILED]</font><br>Open Letter Against British Copyright Indoctrination in Schools The British Department for Education and Skills (DfES) recently launched a \"Music Manifesto\" campaign, with the ostensible intention of educating the next generation of British musicians. Unfortunately, they also teamed up with the music industry (EMI, and various artists) to make this popular. EMI has apparently negotiated their end well, so that children in our schools will now be indoctrinated about the illegality of downloading music.The ignorance and audacity of this got to me a little, so I wrote an open letter to the DfES about it. Unfortunately, it's pedantic, as I suppose you have to be when writing to goverment representatives. But I hope you find it useful, and perhaps feel inspired to do something similar, if or when the same thing has happened in your area."
            ],
            "text/plain": [
              "<IPython.core.display.HTML object>"
            ]
          },
          "metadata": {
            "tags": []
          }
        },
        {
          "output_type": "stream",
          "text": [
            "[Succeeded / Failed / Total] 4 / 2 / 6:  24%|██▍       | 6/25 [05:47<18:20, 57.94s/it]"
          ],
          "name": "stderr"
        },
        {
          "output_type": "display_data",
          "data": {
            "text/html": [
              "<font color = purple>Sci/tech (100%)</font> --> <font color = red>[FAILED]</font><br>Loosing the War on Terrorism \\\\\"Sven Jaschan, self-confessed author of the Netsky and Sasser viruses, is\\responsible for 70 percent of virus infections in 2004, according to a six-month\\virus roundup published Wednesday by antivirus company Sophos.\"\\\\\"The 18-year-old Jaschan was taken into custody in Germany in May by police who\\said he had admitted programming both the Netsky and Sasser worms, something\\experts at Microsoft confirmed. (A Microsoft antivirus reward program led to the\\teenager's arrest.) During the five months preceding Jaschan's capture, there\\were at least 25 variants of Netsky and one of the port-scanning network worm\\Sasser.\"\\\\\"Graham Cluley, senior technology consultant at Sophos, said it was staggeri ...\\\\"
            ],
            "text/plain": [
              "<IPython.core.display.HTML object>"
            ]
          },
          "metadata": {
            "tags": []
          }
        },
        {
          "output_type": "stream",
          "text": [
            "[Succeeded / Failed / Total] 4 / 3 / 7:  28%|██▊       | 7/25 [08:50<22:44, 75.82s/it]"
          ],
          "name": "stderr"
        },
        {
          "output_type": "display_data",
          "data": {
            "text/html": [
              "<font color = purple>Sci/tech (100%)</font> --> <font color = red>[FAILED]</font><br>FOAFKey: FOAF, PGP, Key Distribution, and Bloom Filters \\\\FOAF/LOAF  and bloom filters have a lot of interesting properties for social\\network and whitelist distribution.\\\\I think we can go one level higher though and include GPG/OpenPGP key\\fingerpring distribution in the FOAF file for simple web-of-trust based key\\distribution.\\\\What if we used FOAF and included the PGP key fingerprint(s) for identities?\\This could mean a lot.  You include the PGP key fingerprints within the FOAF\\file of your direct friends and then include a bloom filter of the PGP key\\fingerprints of your entire whitelist (the source FOAF file would of course need\\to be encrypted ).\\\\Your whitelist would be populated from the social network as your client\\discovered new identit ...\\\\"
            ],
            "text/plain": [
              "<IPython.core.display.HTML object>"
            ]
          },
          "metadata": {
            "tags": []
          }
        },
        {
          "output_type": "stream",
          "text": [
            "[Succeeded / Failed / Total] 4 / 4 / 8:  32%|███▏      | 8/25 [12:30<26:33, 93.76s/it]"
          ],
          "name": "stderr"
        },
        {
          "output_type": "display_data",
          "data": {
            "text/html": [
              "<font color = purple>Sci/tech (98%)</font> --> <font color = red>World (100%)</font><br><font color = purple>E-mail</font> scam targets police chief <font color = purple>Wiltshire</font> Police warns about \"<font color = purple>phishing</font>\" after its <font color = purple>fraud</font> <font color = purple>squad</font> chief was targeted.<br><font color = red>Qmail</font> scam targets police chief <font color = red>Ayrshire</font> Police warns about \"<font color = red>furnishing</font>\" after its <font color = red>bribery</font> <font color = red>bombers</font> chief was targeted."
            ],
            "text/plain": [
              "<IPython.core.display.HTML object>"
            ]
          },
          "metadata": {
            "tags": []
          }
        },
        {
          "output_type": "stream",
          "text": [
            "[Succeeded / Failed / Total] 5 / 4 / 9:  36%|███▌      | 9/25 [12:33<22:20, 83.76s/it]"
          ],
          "name": "stderr"
        },
        {
          "output_type": "display_data",
          "data": {
            "text/html": [
              "<font color = purple>Sci/tech (98%)</font> --> <font color = blue>Business (80%)</font><br>Card fraud unit nets 36,000 cards In its first two years, the UK's dedicated <font color = purple>card</font> fraud unit, has recovered 36,000 stolen cards and 171 arrests - and estimates it saved 65m.<br>Card fraud unit nets 36,000 cards In its first two years, the UK's dedicated <font color = blue>blackjack</font> fraud unit, has recovered 36,000 stolen cards and 171 arrests - and estimates it saved 65m."
            ],
            "text/plain": [
              "<IPython.core.display.HTML object>"
            ]
          },
          "metadata": {
            "tags": []
          }
        },
        {
          "output_type": "stream",
          "text": [
            "[Succeeded / Failed / Total] 6 / 4 / 10:  40%|████      | 10/25 [12:35<18:52, 75.53s/it]"
          ],
          "name": "stderr"
        },
        {
          "output_type": "display_data",
          "data": {
            "text/html": [
              "<font color = purple>Sci/tech (100%)</font> --> <font color = red>[FAILED]</font><br>Group to Propose New High-Speed Wireless Format  LOS ANGELES (Reuters) - A group of technology companies  including Texas Instruments Inc. &lt;TXN.N&gt;, STMicroelectronics  &lt;STM.PA&gt; and Broadcom Corp. &lt;BRCM.O&gt;, on Thursday said they  will propose a new wireless networking standard up to 10 times  the speed of the current generation."
            ],
            "text/plain": [
              "<IPython.core.display.HTML object>"
            ]
          },
          "metadata": {
            "tags": []
          }
        },
        {
          "output_type": "stream",
          "text": [
            "[Succeeded / Failed / Total] 6 / 5 / 11:  44%|████▍     | 11/25 [14:12<18:05, 77.50s/it]"
          ],
          "name": "stderr"
        },
        {
          "output_type": "display_data",
          "data": {
            "text/html": [
              "<font color = purple>Sci/tech (100%)</font> --> <font color = red>[FAILED]</font><br>Apple Launches Graphics Software, Video Bundle  LOS ANGELES (Reuters) - Apple Computer Inc.&lt;AAPL.O&gt; on  Tuesday began shipping a new program designed to let users  create real-time motion graphics and unveiled a discount  video-editing software bundle featuring its flagship Final Cut  Pro software."
            ],
            "text/plain": [
              "<IPython.core.display.HTML object>"
            ]
          },
          "metadata": {
            "tags": []
          }
        },
        {
          "output_type": "stream",
          "text": [
            "[Succeeded / Failed / Total] 6 / 6 / 12:  48%|████▊     | 12/25 [15:33<16:51, 77.83s/it]"
          ],
          "name": "stderr"
        },
        {
          "output_type": "display_data",
          "data": {
            "text/html": [
              "<font color = purple>Sci/tech (100%)</font> --> <font color = blue>Business (98%)</font><br>Dutch Retailer <font color = purple>Beats</font> <font color = purple>Apple</font> to Local <font color = purple>Download</font> Market  AMSTERDAM (<font color = purple>Reuters</font>) - Free Record Shop, a <font color = purple>Dutch</font> music  <font color = purple>retail</font> chain, beat <font color = purple>Apple</font> <font color = purple>Computer</font> <font color = purple>Inc</font>. to <font color = purple>market</font> on Tuesday  with the launch of a new <font color = purple>download</font> <font color = purple>service</font> in Europe's latest  battleground for digital song services.<br>Dutch Retailer <font color = blue>Geats</font> <font color = blue>Fipple</font> to Local <font color = blue>Unload</font> Market  AMSTERDAM (<font color = blue>Wouters</font>) - Free Record Shop, a <font color = blue>Butch</font> music  <font color = blue>subsidizes</font> chain, beat <font color = blue>Fipple</font> <font color = blue>Omputer</font> <font color = blue>Bnc</font>. to <font color = blue>capitalising</font> on Tuesday  with the launch of a new <font color = blue>unload</font> <font color = blue>serviciul</font> in Europe's latest  battleground for digital song services."
            ],
            "text/plain": [
              "<IPython.core.display.HTML object>"
            ]
          },
          "metadata": {
            "tags": []
          }
        },
        {
          "output_type": "stream",
          "text": [
            "[Succeeded / Failed / Total] 7 / 6 / 13:  52%|█████▏    | 13/25 [16:40<15:23, 76.98s/it]"
          ],
          "name": "stderr"
        },
        {
          "output_type": "display_data",
          "data": {
            "text/html": [
              "<font color = purple>Sci/tech (99%)</font> --> <font color = red>[FAILED]</font><br>Super ant colony hits Australia A giant 100km colony of ants  which has been discovered in Melbourne, Australia, could threaten local insect species."
            ],
            "text/plain": [
              "<IPython.core.display.HTML object>"
            ]
          },
          "metadata": {
            "tags": []
          }
        },
        {
          "output_type": "stream",
          "text": [
            "[Succeeded / Failed / Total] 7 / 7 / 14:  56%|█████▌    | 14/25 [17:11<13:30, 73.68s/it]"
          ],
          "name": "stderr"
        },
        {
          "output_type": "display_data",
          "data": {
            "text/html": [
              "<font color = purple>Sci/tech (97%)</font> --> <font color = red>[FAILED]</font><br>Socialites unite dolphin groups Dolphin groups, or \"pods\", rely on socialites to keep them from collapsing, scientists claim."
            ],
            "text/plain": [
              "<IPython.core.display.HTML object>"
            ]
          },
          "metadata": {
            "tags": []
          }
        },
        {
          "output_type": "stream",
          "text": [
            "[Succeeded / Failed / Total] 7 / 8 / 15:  60%|██████    | 15/25 [17:25<11:36, 69.68s/it]"
          ],
          "name": "stderr"
        },
        {
          "output_type": "display_data",
          "data": {
            "text/html": [
              "<font color = purple>Sci/tech (100%)</font> --> <font color = red>[FAILED]</font><br>Teenage T. rex's monster growth Tyrannosaurus rex achieved its massive size due to an enormous growth spurt during its adolescent years."
            ],
            "text/plain": [
              "<IPython.core.display.HTML object>"
            ]
          },
          "metadata": {
            "tags": []
          }
        },
        {
          "output_type": "stream",
          "text": [
            "[Succeeded / Failed / Total] 7 / 9 / 16:  64%|██████▍   | 16/25 [17:42<09:57, 66.44s/it]"
          ],
          "name": "stderr"
        },
        {
          "output_type": "display_data",
          "data": {
            "text/html": [
              "<font color = purple>Sci/tech (100%)</font> --> <font color = red>[FAILED]</font><br>Scientists Discover Ganymede has a Lumpy Interior Jet Propulsion Lab -- Scientists have discovered irregular lumps beneath the icy surface of Jupiter's largest moon, Ganymede. These irregular masses may be rock formations, supported by Ganymede's icy shell for billions of years..."
            ],
            "text/plain": [
              "<IPython.core.display.HTML object>"
            ]
          },
          "metadata": {
            "tags": []
          }
        },
        {
          "output_type": "stream",
          "text": [
            "[Succeeded / Failed / Total] 7 / 10 / 17:  68%|██████▊   | 17/25 [18:52<08:53, 66.64s/it]"
          ],
          "name": "stderr"
        },
        {
          "output_type": "display_data",
          "data": {
            "text/html": [
              "<font color = purple>Sci/tech (100%)</font> --> <font color = red>[FAILED]</font><br>Mars Rovers Relay Images Through Mars Express European Space Agency -- ESAs Mars Express has relayed pictures from one of NASA's Mars rovers for the first time, as part of a set of interplanetary networking demonstrations.     The demonstrations pave the way for future Mars missions to draw on joint interplanetary networking capabilities..."
            ],
            "text/plain": [
              "<IPython.core.display.HTML object>"
            ]
          },
          "metadata": {
            "tags": []
          }
        },
        {
          "output_type": "stream",
          "text": [
            "[Succeeded / Failed / Total] 7 / 11 / 18:  72%|███████▏  | 18/25 [20:11<07:51, 67.32s/it]"
          ],
          "name": "stderr"
        },
        {
          "output_type": "display_data",
          "data": {
            "text/html": [
              "<font color = purple>Sci/tech (100%)</font> --> <font color = red>[FAILED]</font><br>Rocking the Cradle of Life When did life begin? One evidential clue stems from the fossil records in Western Australia, although whether these layered sediments are biological or chemical has spawned a spirited debate. Oxford researcher, Nicola McLoughlin, describes some of the issues in contention."
            ],
            "text/plain": [
              "<IPython.core.display.HTML object>"
            ]
          },
          "metadata": {
            "tags": []
          }
        },
        {
          "output_type": "stream",
          "text": [
            "[Succeeded / Failed / Total] 7 / 12 / 19:  76%|███████▌  | 19/25 [21:11<06:41, 66.94s/it]"
          ],
          "name": "stderr"
        },
        {
          "output_type": "display_data",
          "data": {
            "text/html": [
              "<font color = purple>Sci/tech (100%)</font> --> <font color = red>[FAILED]</font><br>Storage, servers bruise HP earnings update Earnings per share rise compared with a year ago, but company misses analysts' expectations by a long shot."
            ],
            "text/plain": [
              "<IPython.core.display.HTML object>"
            ]
          },
          "metadata": {
            "tags": []
          }
        },
        {
          "output_type": "stream",
          "text": [
            "[Succeeded / Failed / Total] 7 / 13 / 20:  80%|████████  | 20/25 [21:44<05:26, 65.20s/it]"
          ],
          "name": "stderr"
        },
        {
          "output_type": "display_data",
          "data": {
            "text/html": [
              "<font color = purple>Sci/tech (88%)</font> --> <font color = blue>Business (73%)</font><br>IBM to hire even more <font color = purple>new</font> workers By the end of the year, the computing giant plans to have its biggest headcount since 1991.<br>IBM to hire even more <font color = blue>york</font> workers By the end of the year, the computing giant plans to have its biggest headcount since 1991."
            ],
            "text/plain": [
              "<IPython.core.display.HTML object>"
            ]
          },
          "metadata": {
            "tags": []
          }
        },
        {
          "output_type": "stream",
          "text": [
            "[Succeeded / Failed / Total] 8 / 13 / 21:  84%|████████▍ | 21/25 [21:44<04:08, 62.14s/it]"
          ],
          "name": "stderr"
        },
        {
          "output_type": "display_data",
          "data": {
            "text/html": [
              "<font color = purple>Sci/tech (100%)</font> --> <font color = green>Sports (50%)</font><br><font color = purple>Sun's</font> <font color = purple>Looking</font> Glass <font color = purple>Provides</font> 3D <font color = purple>View</font> <font color = purple>Developers</font> <font color = purple>get</font> <font color = purple>early</font> <font color = purple>code</font> for <font color = purple>new</font> <font color = purple>operating</font> <font color = purple>system</font> '<font color = purple>skin'</font> still being <font color = purple>crafted</font>.<br><font color = green>Broncos</font> <font color = green>Hooking</font> Glass <font color = green>Includes</font> 3D <font color = green>Blogspot</font> <font color = green>Debuggers</font> <font color = green>give</font> <font color = green>late</font> <font color = green>codes</font> for <font color = green>york</font> <font color = green>perating</font> <font color = green>ystem</font> '<font color = green>skink</font> still being <font color = green>drafted</font>."
            ],
            "text/plain": [
              "<IPython.core.display.HTML object>"
            ]
          },
          "metadata": {
            "tags": []
          }
        },
        {
          "output_type": "stream",
          "text": [
            "[Succeeded / Failed / Total] 9 / 13 / 22:  88%|████████▊ | 22/25 [22:06<03:00, 60.31s/it]"
          ],
          "name": "stderr"
        },
        {
          "output_type": "display_data",
          "data": {
            "text/html": [
              "<font color = purple>Sci/tech (100%)</font> --> <font color = blue>Business (67%)</font><br><font color = purple>IBM</font> <font color = purple>Chips</font> May Someday Heal Themselves <font color = purple>New</font> <font color = purple>technology</font> applies <font color = purple>electrical</font> <font color = purple>fuses</font> to help identify and repair <font color = purple>faults</font>.<br><font color = blue>ZWINGLI</font> <font color = blue>Hips</font> May Someday Heal Themselves <font color = blue>Dew</font> <font color = blue>technologies</font> applies <font color = blue>electrics</font> <font color = blue>fuse</font> to help identify and repair <font color = blue>faulty</font>."
            ],
            "text/plain": [
              "<IPython.core.display.HTML object>"
            ]
          },
          "metadata": {
            "tags": []
          }
        },
        {
          "output_type": "stream",
          "text": [
            "[Succeeded / Failed / Total] 10 / 13 / 23:  92%|█████████▏| 23/25 [22:20<01:56, 58.27s/it]"
          ],
          "name": "stderr"
        },
        {
          "output_type": "display_data",
          "data": {
            "text/html": [
              "<font color = blue>Business (97%)</font> --> <font color = gray>[SKIPPED]</font><br>Some People Not Eligible to Get in on Google IPO Google has billed its IPO as a way for everyday people to get in on the process, denying Wall Street the usual stranglehold it's had on IPOs. Public bidding, a minimum of just five shares, an open process with 28 underwriters - all this pointed to a new level of public participation. But this isn't the case."
            ],
            "text/plain": [
              "<IPython.core.display.HTML object>"
            ]
          },
          "metadata": {
            "tags": []
          }
        },
        {
          "output_type": "stream",
          "text": [
            "\r[Succeeded / Failed / Total] 10 / 13 / 24:  96%|█████████▌| 24/25 [22:20<00:55, 55.84s/it]"
          ],
          "name": "stderr"
        },
        {
          "output_type": "display_data",
          "data": {
            "text/html": [
              "<font color = purple>Sci/tech (100%)</font> --> <font color = blue>Business (98%)</font><br>Rivals Try to Turn Tables on Charles Schwab By <font color = purple>MICHAEL</font> LIEDTKE     SAN FRANCISCO (AP) -- With its low prices and iconoclastic attitude, discount stock broker Charles Schwab Corp. (SCH) represented an annoying stone in Wall Street's wing-tipped shoes for decades...<br>Rivals Try to Turn Tables on Charles Schwab By <font color = blue>PROTECTIONISM</font> LIEDTKE     SAN FRANCISCO (AP) -- With its low prices and iconoclastic attitude, discount stock broker Charles Schwab Corp. (SCH) represented an annoying stone in Wall Street's wing-tipped shoes for decades..."
            ],
            "text/plain": [
              "<IPython.core.display.HTML object>"
            ]
          },
          "metadata": {
            "tags": []
          }
        },
        {
          "output_type": "stream",
          "text": [
            "[Succeeded / Failed / Total] 11 / 13 / 25: 100%|██████████| 25/25 [22:39<00:00, 54.37s/it]"
          ],
          "name": "stderr"
        },
        {
          "output_type": "display_data",
          "data": {
            "text/html": [
              "<font color = purple>Sci/tech (100%)</font> --> <font color = red>[FAILED]</font><br>News: Sluggish movement on power grid cyber security Industry cyber security standards fail to reach some of the most vulnerable components of the power grid.\\"
            ],
            "text/plain": [
              "<IPython.core.display.HTML object>"
            ]
          },
          "metadata": {
            "tags": []
          }
        },
        {
          "output_type": "stream",
          "text": [
            "[Succeeded / Failed / Total] 11 / 14 / 26: : 26it [22:44, 52.48s/it]"
          ],
          "name": "stderr"
        },
        {
          "output_type": "stream",
          "text": [
            "+-------------------------------+---------+\n",
            "| Attack Results                |         |\n",
            "+-------------------------------+---------+\n",
            "| Number of successful attacks: | 11      |\n",
            "| Number of failed attacks:     | 14      |\n",
            "| Number of skipped attacks:    | 1       |\n",
            "| Original accuracy:            | 96.15%  |\n",
            "| Accuracy under attack:        | 53.85%  |\n",
            "| Attack success rate:          | 44.0%   |\n",
            "| Average perturbed word %:     | 21.67%  |\n",
            "| Average num. words per input: | 45.54   |\n",
            "| Avg num queries:              | 1161.24 |\n",
            "+-------------------------------+---------+"
          ],
          "name": "stdout"
        },
        {
          "output_type": "stream",
          "text": [
            "\n",
            "\u001b[34;1mtextattack\u001b[0m: Attack time: 1364.5365228652954s\n"
          ],
          "name": "stderr"
        }
      ]
    },
    {
      "cell_type": "code",
      "metadata": {
        "colab": {
          "base_uri": "https://localhost:8080/"
        },
        "id": "nGlixEC_n5vA",
        "outputId": "050ac77b-972c-4979-dc8c-996cf3507fdb"
      },
      "source": [
        "from textattack.search_methods import ParticleSwarmOptimization\n",
        "from textattack.constraints.pre_transformation import RepeatModification, StopwordModification\n",
        "from textattack.shared import Attack\n",
        "from textattack.goal_functions import UntargetedClassification\n",
        "from textattack.datasets import HuggingFaceDataset\n",
        "\n",
        "# We're going to use our word swap class as the attack transformation.\n",
        "transformation = Swapper_()\n",
        "\n",
        "constraints = [RepeatModification(),\n",
        "               StopwordModification()]\n",
        "\n",
        "search_method = ParticleSwarmOptimization(pop_size=10,max_iters=5,post_turn_check=True)\n",
        "\n",
        "goal_function = UntargetedClassification(model_wrapper)\n",
        "\n",
        "# Now, let's make the attack from the 4 components:\n",
        "attack = Attack(goal_function, constraints, transformation, search_method)\n",
        "\n",
        "dataset = HuggingFaceDataset(\"ag_news\", None, \"test\") # Change the dataset"
      ],
      "execution_count": 36,
      "outputs": [
        {
          "output_type": "stream",
          "text": [
            "\u001b[34;1mtextattack\u001b[0m: Unknown if model of class <class 'transformers.models.bert.modeling_bert.BertForSequenceClassification'> compatible with goal function <class 'textattack.goal_functions.classification.untargeted_classification.UntargetedClassification'>.\n",
            "Using custom data configuration default\n",
            "Reusing dataset ag_news (/root/.cache/huggingface/datasets/ag_news/default/0.0.0/0eeeaaa5fb6dffd81458e293dfea1adba2881ffcbdc3fb56baeb5a892566c29a)\n",
            "\u001b[34;1mtextattack\u001b[0m: Loading \u001b[94mdatasets\u001b[0m dataset \u001b[94mag_news\u001b[0m, split \u001b[94mtest\u001b[0m.\n"
          ],
          "name": "stderr"
        }
      ]
    },
    {
      "cell_type": "code",
      "metadata": {
        "colab": {
          "base_uri": "https://localhost:8080/"
        },
        "id": "xnYmPzWPpj7Q",
        "outputId": "f63e327c-2970-4f11-99e7-c6136da5824a"
      },
      "source": [
        "print(attack)"
      ],
      "execution_count": 37,
      "outputs": [
        {
          "output_type": "stream",
          "text": [
            "Attack(\n",
            "  (search_method): ParticleSwarmOptimization(\n",
            "    (pop_size):  10\n",
            "    (max_iters):  5\n",
            "    (post_turn_check):  True\n",
            "    (max_turn_retries):  20\n",
            "  )\n",
            "  (goal_function):  UntargetedClassification\n",
            "  (transformation):  Swapper_\n",
            "  (constraints): \n",
            "    (0): RepeatModification\n",
            "    (1): StopwordModification\n",
            "  (is_black_box):  True\n",
            ")\n"
          ],
          "name": "stdout"
        }
      ]
    },
    {
      "cell_type": "code",
      "metadata": {
        "colab": {
          "base_uri": "https://localhost:8080/",
          "height": 1000
        },
        "id": "UpPST74lpyiu",
        "outputId": "73c1ac09-6c75-4176-c99a-293b307d6d6f"
      },
      "source": [
        "printexample(attack)"
      ],
      "execution_count": 38,
      "outputs": [
        {
          "output_type": "stream",
          "text": [
            "\r  0%|          | 0/25 [00:00<?, ?it/s]"
          ],
          "name": "stderr"
        },
        {
          "output_type": "stream",
          "text": [
            "Attack(\n",
            "  (search_method): ParticleSwarmOptimization(\n",
            "    (pop_size):  10\n",
            "    (max_iters):  5\n",
            "    (post_turn_check):  True\n",
            "    (max_turn_retries):  20\n",
            "  )\n",
            "  (goal_function):  UntargetedClassification\n",
            "  (transformation):  Swapper_\n",
            "  (constraints): \n",
            "    (0): RepeatModification\n",
            "    (1): StopwordModification\n",
            "  (is_black_box):  True\n",
            ")\n"
          ],
          "name": "stdout"
        },
        {
          "output_type": "display_data",
          "data": {
            "text/html": [
              "<font color = blue>Business (100%)</font> --> <font color = red>[FAILED]</font><br>Fears for T N pension after talks Unions representing workers at Turner   Newall say they are 'disappointed' after talks with stricken parent firm Federal Mogul."
            ],
            "text/plain": [
              "<IPython.core.display.HTML object>"
            ]
          },
          "metadata": {
            "tags": []
          }
        },
        {
          "output_type": "stream",
          "text": [
            "[Succeeded / Failed / Total] 0 / 1 / 1:   4%|▍         | 1/25 [00:02<01:11,  2.99s/it]"
          ],
          "name": "stderr"
        },
        {
          "output_type": "display_data",
          "data": {
            "text/html": [
              "<font color = purple>Sci/tech (100%)</font> --> <font color = red>[FAILED]</font><br>The Race is On: Second Private Team Sets Launch Date for Human Spaceflight (SPACE.com) SPACE.com - TORONTO, Canada -- A second\\team of rocketeers competing for the  #36;10 million Ansari X Prize, a contest for\\privately funded suborbital space flight, has officially announced the first\\launch date for its manned rocket."
            ],
            "text/plain": [
              "<IPython.core.display.HTML object>"
            ]
          },
          "metadata": {
            "tags": []
          }
        },
        {
          "output_type": "stream",
          "text": [
            "[Succeeded / Failed / Total] 0 / 2 / 2:   8%|▊         | 2/25 [00:33<06:21, 16.59s/it]"
          ],
          "name": "stderr"
        },
        {
          "output_type": "display_data",
          "data": {
            "text/html": [
              "<font color = purple>Sci/tech (100%)</font> --> <font color = red>[FAILED]</font><br>Ky. Company Wins Grant to Study Peptides (AP) AP - A company founded by a chemistry researcher at the University of Louisville won a grant to develop a method of producing better peptides, which are short chains of amino acids, the building blocks of proteins."
            ],
            "text/plain": [
              "<IPython.core.display.HTML object>"
            ]
          },
          "metadata": {
            "tags": []
          }
        },
        {
          "output_type": "stream",
          "text": [
            "[Succeeded / Failed / Total] 0 / 3 / 3:  12%|█▏        | 3/25 [00:53<06:35, 17.98s/it]"
          ],
          "name": "stderr"
        },
        {
          "output_type": "display_data",
          "data": {
            "text/html": [
              "<font color = purple>Sci/tech (100%)</font> --> <font color = red>[FAILED]</font><br>Prediction Unit Helps Forecast Wildfires (AP) AP - It's barely dawn when Mike Fitzpatrick starts his shift with a blur of colorful maps, figures and endless charts, but already he knows what the day will bring. Lightning will strike in places he expects. Winds will pick up, moist places will dry and flames will roar."
            ],
            "text/plain": [
              "<IPython.core.display.HTML object>"
            ]
          },
          "metadata": {
            "tags": []
          }
        },
        {
          "output_type": "stream",
          "text": [
            "[Succeeded / Failed / Total] 0 / 4 / 4:  16%|█▌        | 4/25 [01:31<08:01, 22.94s/it]"
          ],
          "name": "stderr"
        },
        {
          "output_type": "display_data",
          "data": {
            "text/html": [
              "<font color = purple>Sci/tech (100%)</font> --> <font color = red>[FAILED]</font><br>Calif. Aims to Limit Farm-Related Smog (AP) AP - Southern California's smog-fighting agency went after emissions of the bovine variety Friday, adopting the nation's first rules to reduce air pollution from dairy cow manure."
            ],
            "text/plain": [
              "<IPython.core.display.HTML object>"
            ]
          },
          "metadata": {
            "tags": []
          }
        },
        {
          "output_type": "stream",
          "text": [
            "[Succeeded / Failed / Total] 0 / 5 / 5:  20%|██        | 5/25 [01:48<07:15, 21.76s/it]"
          ],
          "name": "stderr"
        },
        {
          "output_type": "display_data",
          "data": {
            "text/html": [
              "<font color = purple>Sci/tech (100%)</font> --> <font color = red>[FAILED]</font><br>Open Letter Against British Copyright Indoctrination in Schools The British Department for Education and Skills (DfES) recently launched a \"Music Manifesto\" campaign, with the ostensible intention of educating the next generation of British musicians. Unfortunately, they also teamed up with the music industry (EMI, and various artists) to make this popular. EMI has apparently negotiated their end well, so that children in our schools will now be indoctrinated about the illegality of downloading music.The ignorance and audacity of this got to me a little, so I wrote an open letter to the DfES about it. Unfortunately, it's pedantic, as I suppose you have to be when writing to goverment representatives. But I hope you find it useful, and perhaps feel inspired to do something similar, if or when the same thing has happened in your area."
            ],
            "text/plain": [
              "<IPython.core.display.HTML object>"
            ]
          },
          "metadata": {
            "tags": []
          }
        },
        {
          "output_type": "stream",
          "text": [
            "[Succeeded / Failed / Total] 0 / 6 / 6:  24%|██▍       | 6/25 [03:32<11:13, 35.45s/it]"
          ],
          "name": "stderr"
        },
        {
          "output_type": "display_data",
          "data": {
            "text/html": [
              "<font color = purple>Sci/tech (100%)</font> --> <font color = red>[FAILED]</font><br>Loosing the War on Terrorism \\\\\"Sven Jaschan, self-confessed author of the Netsky and Sasser viruses, is\\responsible for 70 percent of virus infections in 2004, according to a six-month\\virus roundup published Wednesday by antivirus company Sophos.\"\\\\\"The 18-year-old Jaschan was taken into custody in Germany in May by police who\\said he had admitted programming both the Netsky and Sasser worms, something\\experts at Microsoft confirmed. (A Microsoft antivirus reward program led to the\\teenager's arrest.) During the five months preceding Jaschan's capture, there\\were at least 25 variants of Netsky and one of the port-scanning network worm\\Sasser.\"\\\\\"Graham Cluley, senior technology consultant at Sophos, said it was staggeri ...\\\\"
            ],
            "text/plain": [
              "<IPython.core.display.HTML object>"
            ]
          },
          "metadata": {
            "tags": []
          }
        },
        {
          "output_type": "stream",
          "text": [
            "[Succeeded / Failed / Total] 0 / 7 / 7:  28%|██▊       | 7/25 [04:51<12:30, 41.68s/it]"
          ],
          "name": "stderr"
        },
        {
          "output_type": "display_data",
          "data": {
            "text/html": [
              "<font color = purple>Sci/tech (100%)</font> --> <font color = red>[FAILED]</font><br>FOAFKey: FOAF, PGP, Key Distribution, and Bloom Filters \\\\FOAF/LOAF  and bloom filters have a lot of interesting properties for social\\network and whitelist distribution.\\\\I think we can go one level higher though and include GPG/OpenPGP key\\fingerpring distribution in the FOAF file for simple web-of-trust based key\\distribution.\\\\What if we used FOAF and included the PGP key fingerprint(s) for identities?\\This could mean a lot.  You include the PGP key fingerprints within the FOAF\\file of your direct friends and then include a bloom filter of the PGP key\\fingerprints of your entire whitelist (the source FOAF file would of course need\\to be encrypted ).\\\\Your whitelist would be populated from the social network as your client\\discovered new identit ...\\\\"
            ],
            "text/plain": [
              "<IPython.core.display.HTML object>"
            ]
          },
          "metadata": {
            "tags": []
          }
        },
        {
          "output_type": "stream",
          "text": [
            "[Succeeded / Failed / Total] 0 / 8 / 8:  32%|███▏      | 8/25 [06:55<14:42, 51.90s/it]"
          ],
          "name": "stderr"
        },
        {
          "output_type": "display_data",
          "data": {
            "text/html": [
              "<font color = purple>Sci/tech (98%)</font> --> <font color = red>[FAILED]</font><br>E-mail scam targets police chief Wiltshire Police warns about \"phishing\" after its fraud squad chief was targeted."
            ],
            "text/plain": [
              "<IPython.core.display.HTML object>"
            ]
          },
          "metadata": {
            "tags": []
          }
        },
        {
          "output_type": "stream",
          "text": [
            "[Succeeded / Failed / Total] 0 / 9 / 9:  36%|███▌      | 9/25 [07:01<12:29, 46.85s/it]"
          ],
          "name": "stderr"
        },
        {
          "output_type": "display_data",
          "data": {
            "text/html": [
              "<font color = purple>Sci/tech (98%)</font> --> <font color = blue>Business (71%)</font><br>Card fraud unit nets 36,000 cards In its first two years, the UK's dedicated <font color = purple>card</font> fraud unit, has recovered 36,000 stolen cards and 171 arrests - and estimates it saved 65m.<br>Card fraud unit nets 36,000 cards In its first two years, the UK's dedicated <font color = blue>collectible</font> fraud unit, has recovered 36,000 stolen cards and 171 arrests - and estimates it saved 65m."
            ],
            "text/plain": [
              "<IPython.core.display.HTML object>"
            ]
          },
          "metadata": {
            "tags": []
          }
        },
        {
          "output_type": "stream",
          "text": [
            "[Succeeded / Failed / Total] 1 / 9 / 10:  40%|████      | 10/25 [07:02<10:33, 42.26s/it]"
          ],
          "name": "stderr"
        },
        {
          "output_type": "display_data",
          "data": {
            "text/html": [
              "<font color = purple>Sci/tech (100%)</font> --> <font color = red>[FAILED]</font><br>Group to Propose New High-Speed Wireless Format  LOS ANGELES (Reuters) - A group of technology companies  including Texas Instruments Inc. &lt;TXN.N&gt;, STMicroelectronics  &lt;STM.PA&gt; and Broadcom Corp. &lt;BRCM.O&gt;, on Thursday said they  will propose a new wireless networking standard up to 10 times  the speed of the current generation."
            ],
            "text/plain": [
              "<IPython.core.display.HTML object>"
            ]
          },
          "metadata": {
            "tags": []
          }
        },
        {
          "output_type": "stream",
          "text": [
            "[Succeeded / Failed / Total] 1 / 10 / 11:  44%|████▍     | 11/25 [07:40<09:45, 41.83s/it]"
          ],
          "name": "stderr"
        },
        {
          "output_type": "display_data",
          "data": {
            "text/html": [
              "<font color = purple>Sci/tech (100%)</font> --> <font color = red>[FAILED]</font><br>Apple Launches Graphics Software, Video Bundle  LOS ANGELES (Reuters) - Apple Computer Inc.&lt;AAPL.O&gt; on  Tuesday began shipping a new program designed to let users  create real-time motion graphics and unveiled a discount  video-editing software bundle featuring its flagship Final Cut  Pro software."
            ],
            "text/plain": [
              "<IPython.core.display.HTML object>"
            ]
          },
          "metadata": {
            "tags": []
          }
        },
        {
          "output_type": "stream",
          "text": [
            "[Succeeded / Failed / Total] 1 / 11 / 12:  48%|████▊     | 12/25 [08:04<08:45, 40.40s/it]"
          ],
          "name": "stderr"
        },
        {
          "output_type": "display_data",
          "data": {
            "text/html": [
              "<font color = purple>Sci/tech (100%)</font> --> <font color = red>[FAILED]</font><br>Dutch Retailer Beats Apple to Local Download Market  AMSTERDAM (Reuters) - Free Record Shop, a Dutch music  retail chain, beat Apple Computer Inc. to market on Tuesday  with the launch of a new download service in Europe's latest  battleground for digital song services."
            ],
            "text/plain": [
              "<IPython.core.display.HTML object>"
            ]
          },
          "metadata": {
            "tags": []
          }
        },
        {
          "output_type": "stream",
          "text": [
            "[Succeeded / Failed / Total] 1 / 12 / 13:  52%|█████▏    | 13/25 [08:21<07:42, 38.58s/it]"
          ],
          "name": "stderr"
        },
        {
          "output_type": "display_data",
          "data": {
            "text/html": [
              "<font color = purple>Sci/tech (99%)</font> --> <font color = red>[FAILED]</font><br>Super ant colony hits Australia A giant 100km colony of ants  which has been discovered in Melbourne, Australia, could threaten local insect species."
            ],
            "text/plain": [
              "<IPython.core.display.HTML object>"
            ]
          },
          "metadata": {
            "tags": []
          }
        },
        {
          "output_type": "stream",
          "text": [
            "[Succeeded / Failed / Total] 1 / 13 / 14:  56%|█████▌    | 14/25 [08:31<06:41, 36.53s/it]"
          ],
          "name": "stderr"
        },
        {
          "output_type": "display_data",
          "data": {
            "text/html": [
              "<font color = purple>Sci/tech (97%)</font> --> <font color = red>[FAILED]</font><br>Socialites unite dolphin groups Dolphin groups, or \"pods\", rely on socialites to keep them from collapsing, scientists claim."
            ],
            "text/plain": [
              "<IPython.core.display.HTML object>"
            ]
          },
          "metadata": {
            "tags": []
          }
        },
        {
          "output_type": "stream",
          "text": [
            "[Succeeded / Failed / Total] 1 / 14 / 15:  60%|██████    | 15/25 [08:41<05:47, 34.76s/it]"
          ],
          "name": "stderr"
        },
        {
          "output_type": "display_data",
          "data": {
            "text/html": [
              "<font color = purple>Sci/tech (100%)</font> --> <font color = red>[FAILED]</font><br>Teenage T. rex's monster growth Tyrannosaurus rex achieved its massive size due to an enormous growth spurt during its adolescent years."
            ],
            "text/plain": [
              "<IPython.core.display.HTML object>"
            ]
          },
          "metadata": {
            "tags": []
          }
        },
        {
          "output_type": "stream",
          "text": [
            "[Succeeded / Failed / Total] 1 / 15 / 16:  64%|██████▍   | 16/25 [08:52<04:59, 33.30s/it]"
          ],
          "name": "stderr"
        },
        {
          "output_type": "display_data",
          "data": {
            "text/html": [
              "<font color = purple>Sci/tech (100%)</font> --> <font color = red>[FAILED]</font><br>Scientists Discover Ganymede has a Lumpy Interior Jet Propulsion Lab -- Scientists have discovered irregular lumps beneath the icy surface of Jupiter's largest moon, Ganymede. These irregular masses may be rock formations, supported by Ganymede's icy shell for billions of years..."
            ],
            "text/plain": [
              "<IPython.core.display.HTML object>"
            ]
          },
          "metadata": {
            "tags": []
          }
        },
        {
          "output_type": "stream",
          "text": [
            "[Succeeded / Failed / Total] 1 / 16 / 17:  68%|██████▊   | 17/25 [09:15<04:21, 32.70s/it]"
          ],
          "name": "stderr"
        },
        {
          "output_type": "display_data",
          "data": {
            "text/html": [
              "<font color = purple>Sci/tech (100%)</font> --> <font color = red>[FAILED]</font><br>Mars Rovers Relay Images Through Mars Express European Space Agency -- ESAs Mars Express has relayed pictures from one of NASA's Mars rovers for the first time, as part of a set of interplanetary networking demonstrations.     The demonstrations pave the way for future Mars missions to draw on joint interplanetary networking capabilities..."
            ],
            "text/plain": [
              "<IPython.core.display.HTML object>"
            ]
          },
          "metadata": {
            "tags": []
          }
        },
        {
          "output_type": "stream",
          "text": [
            "[Succeeded / Failed / Total] 1 / 17 / 18:  72%|███████▏  | 18/25 [09:54<03:51, 33.01s/it]"
          ],
          "name": "stderr"
        },
        {
          "output_type": "display_data",
          "data": {
            "text/html": [
              "<font color = purple>Sci/tech (100%)</font> --> <font color = red>[FAILED]</font><br>Rocking the Cradle of Life When did life begin? One evidential clue stems from the fossil records in Western Australia, although whether these layered sediments are biological or chemical has spawned a spirited debate. Oxford researcher, Nicola McLoughlin, describes some of the issues in contention."
            ],
            "text/plain": [
              "<IPython.core.display.HTML object>"
            ]
          },
          "metadata": {
            "tags": []
          }
        },
        {
          "output_type": "stream",
          "text": [
            "[Succeeded / Failed / Total] 1 / 18 / 19:  76%|███████▌  | 19/25 [10:26<03:17, 32.98s/it]"
          ],
          "name": "stderr"
        },
        {
          "output_type": "display_data",
          "data": {
            "text/html": [
              "<font color = purple>Sci/tech (100%)</font> --> <font color = red>[FAILED]</font><br>Storage, servers bruise HP earnings update Earnings per share rise compared with a year ago, but company misses analysts' expectations by a long shot."
            ],
            "text/plain": [
              "<IPython.core.display.HTML object>"
            ]
          },
          "metadata": {
            "tags": []
          }
        },
        {
          "output_type": "stream",
          "text": [
            "[Succeeded / Failed / Total] 1 / 19 / 20:  80%|████████  | 20/25 [10:42<02:40, 32.14s/it]"
          ],
          "name": "stderr"
        },
        {
          "output_type": "display_data",
          "data": {
            "text/html": [
              "<font color = purple>Sci/tech (88%)</font> --> <font color = blue>Business (73%)</font><br>IBM to hire even more <font color = purple>new</font> workers By the end of the year, the computing giant plans to have its biggest headcount since 1991.<br>IBM to hire even more <font color = blue>york</font> workers By the end of the year, the computing giant plans to have its biggest headcount since 1991."
            ],
            "text/plain": [
              "<IPython.core.display.HTML object>"
            ]
          },
          "metadata": {
            "tags": []
          }
        },
        {
          "output_type": "stream",
          "text": [
            "[Succeeded / Failed / Total] 2 / 19 / 21:  84%|████████▍ | 21/25 [10:43<02:02, 30.64s/it]"
          ],
          "name": "stderr"
        },
        {
          "output_type": "display_data",
          "data": {
            "text/html": [
              "<font color = purple>Sci/tech (100%)</font> --> <font color = red>[FAILED]</font><br>Sun's Looking Glass Provides 3D View Developers get early code for new operating system 'skin' still being crafted."
            ],
            "text/plain": [
              "<IPython.core.display.HTML object>"
            ]
          },
          "metadata": {
            "tags": []
          }
        },
        {
          "output_type": "stream",
          "text": [
            "[Succeeded / Failed / Total] 2 / 20 / 22:  88%|████████▊ | 22/25 [10:48<01:28, 29.49s/it]"
          ],
          "name": "stderr"
        },
        {
          "output_type": "display_data",
          "data": {
            "text/html": [
              "<font color = purple>Sci/tech (100%)</font> --> <font color = red>[FAILED]</font><br>IBM Chips May Someday Heal Themselves New technology applies electrical fuses to help identify and repair faults."
            ],
            "text/plain": [
              "<IPython.core.display.HTML object>"
            ]
          },
          "metadata": {
            "tags": []
          }
        },
        {
          "output_type": "stream",
          "text": [
            "[Succeeded / Failed / Total] 2 / 21 / 23:  92%|█████████▏| 23/25 [10:55<00:57, 28.52s/it]"
          ],
          "name": "stderr"
        },
        {
          "output_type": "display_data",
          "data": {
            "text/html": [
              "<font color = blue>Business (97%)</font> --> <font color = gray>[SKIPPED]</font><br>Some People Not Eligible to Get in on Google IPO Google has billed its IPO as a way for everyday people to get in on the process, denying Wall Street the usual stranglehold it's had on IPOs. Public bidding, a minimum of just five shares, an open process with 28 underwriters - all this pointed to a new level of public participation. But this isn't the case."
            ],
            "text/plain": [
              "<IPython.core.display.HTML object>"
            ]
          },
          "metadata": {
            "tags": []
          }
        },
        {
          "output_type": "stream",
          "text": [
            "\r[Succeeded / Failed / Total] 2 / 21 / 24:  96%|█████████▌| 24/25 [10:55<00:27, 27.33s/it]"
          ],
          "name": "stderr"
        },
        {
          "output_type": "display_data",
          "data": {
            "text/html": [
              "<font color = purple>Sci/tech (100%)</font> --> <font color = red>[FAILED]</font><br>Rivals Try to Turn Tables on Charles Schwab By MICHAEL LIEDTKE     SAN FRANCISCO (AP) -- With its low prices and iconoclastic attitude, discount stock broker Charles Schwab Corp. (SCH) represented an annoying stone in Wall Street's wing-tipped shoes for decades..."
            ],
            "text/plain": [
              "<IPython.core.display.HTML object>"
            ]
          },
          "metadata": {
            "tags": []
          }
        },
        {
          "output_type": "stream",
          "text": [
            "[Succeeded / Failed / Total] 2 / 22 / 25: 100%|██████████| 25/25 [11:12<00:00, 26.89s/it]"
          ],
          "name": "stderr"
        },
        {
          "output_type": "display_data",
          "data": {
            "text/html": [
              "<font color = purple>Sci/tech (100%)</font> --> <font color = red>[FAILED]</font><br>News: Sluggish movement on power grid cyber security Industry cyber security standards fail to reach some of the most vulnerable components of the power grid.\\"
            ],
            "text/plain": [
              "<IPython.core.display.HTML object>"
            ]
          },
          "metadata": {
            "tags": []
          }
        },
        {
          "output_type": "stream",
          "text": [
            "[Succeeded / Failed / Total] 2 / 23 / 26: : 26it [11:19, 26.13s/it]"
          ],
          "name": "stderr"
        },
        {
          "output_type": "stream",
          "text": [
            "+-------------------------------+--------+\n",
            "| Attack Results                |        |\n",
            "+-------------------------------+--------+\n",
            "| Number of successful attacks: | 2      |\n",
            "| Number of failed attacks:     | 23     |\n",
            "| Number of skipped attacks:    | 1      |\n",
            "| Original accuracy:            | 96.15% |\n",
            "| Accuracy under attack:        | 88.46% |\n",
            "| Attack success rate:          | 8.0%   |\n",
            "| Average perturbed word %:     | 3.65%  |\n",
            "| Average num. words per input: | 45.54  |\n",
            "| Avg num queries:              | 720.08 |\n",
            "+-------------------------------+--------+"
          ],
          "name": "stdout"
        },
        {
          "output_type": "stream",
          "text": [
            "\n",
            "\u001b[34;1mtextattack\u001b[0m: Attack time: 679.4515733718872s\n"
          ],
          "name": "stderr"
        }
      ]
    },
    {
      "cell_type": "code",
      "metadata": {
        "colab": {
          "base_uri": "https://localhost:8080/"
        },
        "id": "F-sjXP8rPBE9",
        "outputId": "ea02547a-fe4c-415c-bfa5-2a3dbde095b5"
      },
      "source": [
        "from textattack.search_methods import ParticleSwarmOptimization\n",
        "from textattack.constraints.pre_transformation import RepeatModification, StopwordModification\n",
        "from textattack.shared import Attack\n",
        "from textattack.goal_functions import UntargetedClassification\n",
        "from textattack.datasets import HuggingFaceDataset\n",
        "\n",
        "# We're going to use our word swap class as the attack transformation.\n",
        "transformation = Swapper__()\n",
        "\n",
        "constraints = [RepeatModification(),\n",
        "               StopwordModification()]\n",
        "\n",
        "search_method = ParticleSwarmOptimization(pop_size=10,max_iters=5,post_turn_check=True)\n",
        "\n",
        "goal_function = UntargetedClassification(model_wrapper)\n",
        "\n",
        "# Now, let's make the attack from the 4 components:\n",
        "attack = Attack(goal_function, constraints, transformation, search_method)\n",
        "\n",
        "dataset = HuggingFaceDataset(\"ag_news\", None, \"test\") # Change the dataset"
      ],
      "execution_count": 39,
      "outputs": [
        {
          "output_type": "stream",
          "text": [
            "\u001b[34;1mtextattack\u001b[0m: Unknown if model of class <class 'transformers.models.bert.modeling_bert.BertForSequenceClassification'> compatible with goal function <class 'textattack.goal_functions.classification.untargeted_classification.UntargetedClassification'>.\n",
            "Using custom data configuration default\n",
            "Reusing dataset ag_news (/root/.cache/huggingface/datasets/ag_news/default/0.0.0/0eeeaaa5fb6dffd81458e293dfea1adba2881ffcbdc3fb56baeb5a892566c29a)\n",
            "\u001b[34;1mtextattack\u001b[0m: Loading \u001b[94mdatasets\u001b[0m dataset \u001b[94mag_news\u001b[0m, split \u001b[94mtest\u001b[0m.\n"
          ],
          "name": "stderr"
        }
      ]
    },
    {
      "cell_type": "code",
      "metadata": {
        "colab": {
          "base_uri": "https://localhost:8080/"
        },
        "id": "8201a0SkPEc4",
        "outputId": "8ca0c5f5-f0b2-4d61-d901-c341bbf2c149"
      },
      "source": [
        "print(attack)"
      ],
      "execution_count": 40,
      "outputs": [
        {
          "output_type": "stream",
          "text": [
            "Attack(\n",
            "  (search_method): ParticleSwarmOptimization(\n",
            "    (pop_size):  10\n",
            "    (max_iters):  5\n",
            "    (post_turn_check):  True\n",
            "    (max_turn_retries):  20\n",
            "  )\n",
            "  (goal_function):  UntargetedClassification\n",
            "  (transformation):  Swapper__\n",
            "  (constraints): \n",
            "    (0): RepeatModification\n",
            "    (1): StopwordModification\n",
            "  (is_black_box):  True\n",
            ")\n"
          ],
          "name": "stdout"
        }
      ]
    },
    {
      "cell_type": "code",
      "metadata": {
        "colab": {
          "base_uri": "https://localhost:8080/",
          "height": 1000
        },
        "id": "EVzPBCjRPGR9",
        "outputId": "a5e7a5cd-04c8-4f71-8e35-b99cd0d478ec"
      },
      "source": [
        "printexample(attack)"
      ],
      "execution_count": 41,
      "outputs": [
        {
          "output_type": "stream",
          "text": [
            "\r  0%|          | 0/25 [00:00<?, ?it/s]"
          ],
          "name": "stderr"
        },
        {
          "output_type": "stream",
          "text": [
            "Attack(\n",
            "  (search_method): ParticleSwarmOptimization(\n",
            "    (pop_size):  10\n",
            "    (max_iters):  5\n",
            "    (post_turn_check):  True\n",
            "    (max_turn_retries):  20\n",
            "  )\n",
            "  (goal_function):  UntargetedClassification\n",
            "  (transformation):  Swapper__\n",
            "  (constraints): \n",
            "    (0): RepeatModification\n",
            "    (1): StopwordModification\n",
            "  (is_black_box):  True\n",
            ")\n"
          ],
          "name": "stdout"
        },
        {
          "output_type": "display_data",
          "data": {
            "text/html": [
              "<font color = blue>Business (100%)</font> --> <font color = red>[FAILED]</font><br>Fears for T N pension after talks Unions representing workers at Turner   Newall say they are 'disappointed' after talks with stricken parent firm Federal Mogul."
            ],
            "text/plain": [
              "<IPython.core.display.HTML object>"
            ]
          },
          "metadata": {
            "tags": []
          }
        },
        {
          "output_type": "stream",
          "text": [
            "[Succeeded / Failed / Total] 0 / 1 / 1:   4%|▍         | 1/25 [00:10<04:07, 10.32s/it]"
          ],
          "name": "stderr"
        },
        {
          "output_type": "display_data",
          "data": {
            "text/html": [
              "<font color = purple>Sci/tech (100%)</font> --> <font color = red>[FAILED]</font><br>The Race is On: Second Private Team Sets Launch Date for Human Spaceflight (SPACE.com) SPACE.com - TORONTO, Canada -- A second\\team of rocketeers competing for the  #36;10 million Ansari X Prize, a contest for\\privately funded suborbital space flight, has officially announced the first\\launch date for its manned rocket."
            ],
            "text/plain": [
              "<IPython.core.display.HTML object>"
            ]
          },
          "metadata": {
            "tags": []
          }
        },
        {
          "output_type": "stream",
          "text": [
            "[Succeeded / Failed / Total] 0 / 2 / 2:   8%|▊         | 2/25 [00:51<09:56, 25.95s/it]"
          ],
          "name": "stderr"
        },
        {
          "output_type": "display_data",
          "data": {
            "text/html": [
              "<font color = purple>Sci/tech (100%)</font> --> <font color = red>[FAILED]</font><br>Ky. Company Wins Grant to Study Peptides (AP) AP - A company founded by a chemistry researcher at the University of Louisville won a grant to develop a method of producing better peptides, which are short chains of amino acids, the building blocks of proteins."
            ],
            "text/plain": [
              "<IPython.core.display.HTML object>"
            ]
          },
          "metadata": {
            "tags": []
          }
        },
        {
          "output_type": "stream",
          "text": [
            "[Succeeded / Failed / Total] 0 / 3 / 3:  12%|█▏        | 3/25 [01:31<11:12, 30.58s/it]"
          ],
          "name": "stderr"
        },
        {
          "output_type": "display_data",
          "data": {
            "text/html": [
              "<font color = purple>Sci/tech (100%)</font> --> <font color = red>[FAILED]</font><br>Prediction Unit Helps Forecast Wildfires (AP) AP - It's barely dawn when Mike Fitzpatrick starts his shift with a blur of colorful maps, figures and endless charts, but already he knows what the day will bring. Lightning will strike in places he expects. Winds will pick up, moist places will dry and flames will roar."
            ],
            "text/plain": [
              "<IPython.core.display.HTML object>"
            ]
          },
          "metadata": {
            "tags": []
          }
        },
        {
          "output_type": "stream",
          "text": [
            "[Succeeded / Failed / Total] 0 / 4 / 4:  16%|█▌        | 4/25 [02:29<13:04, 37.35s/it]"
          ],
          "name": "stderr"
        },
        {
          "output_type": "display_data",
          "data": {
            "text/html": [
              "<font color = purple>Sci/tech (100%)</font> --> <font color = red>[FAILED]</font><br>Calif. Aims to Limit Farm-Related Smog (AP) AP - Southern California's smog-fighting agency went after emissions of the bovine variety Friday, adopting the nation's first rules to reduce air pollution from dairy cow manure."
            ],
            "text/plain": [
              "<IPython.core.display.HTML object>"
            ]
          },
          "metadata": {
            "tags": []
          }
        },
        {
          "output_type": "stream",
          "text": [
            "[Succeeded / Failed / Total] 0 / 5 / 5:  20%|██        | 5/25 [02:54<11:37, 34.89s/it]"
          ],
          "name": "stderr"
        },
        {
          "output_type": "display_data",
          "data": {
            "text/html": [
              "<font color = purple>Sci/tech (100%)</font> --> <font color = red>[FAILED]</font><br>Open Letter Against British Copyright Indoctrination in Schools The British Department for Education and Skills (DfES) recently launched a \"Music Manifesto\" campaign, with the ostensible intention of educating the next generation of British musicians. Unfortunately, they also teamed up with the music industry (EMI, and various artists) to make this popular. EMI has apparently negotiated their end well, so that children in our schools will now be indoctrinated about the illegality of downloading music.The ignorance and audacity of this got to me a little, so I wrote an open letter to the DfES about it. Unfortunately, it's pedantic, as I suppose you have to be when writing to goverment representatives. But I hope you find it useful, and perhaps feel inspired to do something similar, if or when the same thing has happened in your area."
            ],
            "text/plain": [
              "<IPython.core.display.HTML object>"
            ]
          },
          "metadata": {
            "tags": []
          }
        },
        {
          "output_type": "stream",
          "text": [
            "[Succeeded / Failed / Total] 0 / 6 / 6:  24%|██▍       | 6/25 [05:29<17:22, 54.85s/it]"
          ],
          "name": "stderr"
        },
        {
          "output_type": "display_data",
          "data": {
            "text/html": [
              "<font color = purple>Sci/tech (100%)</font> --> <font color = red>[FAILED]</font><br>Loosing the War on Terrorism \\\\\"Sven Jaschan, self-confessed author of the Netsky and Sasser viruses, is\\responsible for 70 percent of virus infections in 2004, according to a six-month\\virus roundup published Wednesday by antivirus company Sophos.\"\\\\\"The 18-year-old Jaschan was taken into custody in Germany in May by police who\\said he had admitted programming both the Netsky and Sasser worms, something\\experts at Microsoft confirmed. (A Microsoft antivirus reward program led to the\\teenager's arrest.) During the five months preceding Jaschan's capture, there\\were at least 25 variants of Netsky and one of the port-scanning network worm\\Sasser.\"\\\\\"Graham Cluley, senior technology consultant at Sophos, said it was staggeri ...\\\\"
            ],
            "text/plain": [
              "<IPython.core.display.HTML object>"
            ]
          },
          "metadata": {
            "tags": []
          }
        },
        {
          "output_type": "stream",
          "text": [
            "[Succeeded / Failed / Total] 0 / 7 / 7:  28%|██▊       | 7/25 [07:25<19:04, 63.58s/it]"
          ],
          "name": "stderr"
        },
        {
          "output_type": "display_data",
          "data": {
            "text/html": [
              "<font color = purple>Sci/tech (100%)</font> --> <font color = red>[FAILED]</font><br>FOAFKey: FOAF, PGP, Key Distribution, and Bloom Filters \\\\FOAF/LOAF  and bloom filters have a lot of interesting properties for social\\network and whitelist distribution.\\\\I think we can go one level higher though and include GPG/OpenPGP key\\fingerpring distribution in the FOAF file for simple web-of-trust based key\\distribution.\\\\What if we used FOAF and included the PGP key fingerprint(s) for identities?\\This could mean a lot.  You include the PGP key fingerprints within the FOAF\\file of your direct friends and then include a bloom filter of the PGP key\\fingerprints of your entire whitelist (the source FOAF file would of course need\\to be encrypted ).\\\\Your whitelist would be populated from the social network as your client\\discovered new identit ...\\\\"
            ],
            "text/plain": [
              "<IPython.core.display.HTML object>"
            ]
          },
          "metadata": {
            "tags": []
          }
        },
        {
          "output_type": "stream",
          "text": [
            "[Succeeded / Failed / Total] 0 / 8 / 8:  32%|███▏      | 8/25 [10:34<22:27, 79.27s/it]"
          ],
          "name": "stderr"
        },
        {
          "output_type": "display_data",
          "data": {
            "text/html": [
              "<font color = purple>Sci/tech (98%)</font> --> <font color = red>World (99%)</font><br>E-mail <font color = purple>scam</font> targets police chief Wiltshire Police warns about \"<font color = purple>phishing</font>\" after its fraud <font color = purple>squad</font> <font color = purple>chief</font> was <font color = purple>targeted</font>.<br>E-mail <font color = red>widower</font> targets police chief Wiltshire Police warns about \"<font color = red>lollen</font>\" after its fraud <font color = red>firing</font> <font color = red>lebowa</font> was <font color = red>massacred</font>."
            ],
            "text/plain": [
              "<IPython.core.display.HTML object>"
            ]
          },
          "metadata": {
            "tags": []
          }
        },
        {
          "output_type": "stream",
          "text": [
            "[Succeeded / Failed / Total] 1 / 8 / 9:  36%|███▌      | 9/25 [10:40<18:58, 71.15s/it]"
          ],
          "name": "stderr"
        },
        {
          "output_type": "display_data",
          "data": {
            "text/html": [
              "<font color = purple>Sci/tech (98%)</font> --> <font color = blue>Business (71%)</font><br>Card fraud unit nets 36,000 cards In its first two years, the UK's dedicated <font color = purple>card</font> fraud unit, has recovered 36,000 stolen cards and 171 arrests - and estimates it saved 65m.<br>Card fraud unit nets 36,000 cards In its first two years, the UK's dedicated <font color = blue>collectible</font> fraud unit, has recovered 36,000 stolen cards and 171 arrests - and estimates it saved 65m."
            ],
            "text/plain": [
              "<IPython.core.display.HTML object>"
            ]
          },
          "metadata": {
            "tags": []
          }
        },
        {
          "output_type": "stream",
          "text": [
            "[Succeeded / Failed / Total] 2 / 8 / 10:  40%|████      | 10/25 [10:41<16:02, 64.17s/it]"
          ],
          "name": "stderr"
        },
        {
          "output_type": "display_data",
          "data": {
            "text/html": [
              "<font color = purple>Sci/tech (100%)</font> --> <font color = red>[FAILED]</font><br>Group to Propose New High-Speed Wireless Format  LOS ANGELES (Reuters) - A group of technology companies  including Texas Instruments Inc. &lt;TXN.N&gt;, STMicroelectronics  &lt;STM.PA&gt; and Broadcom Corp. &lt;BRCM.O&gt;, on Thursday said they  will propose a new wireless networking standard up to 10 times  the speed of the current generation."
            ],
            "text/plain": [
              "<IPython.core.display.HTML object>"
            ]
          },
          "metadata": {
            "tags": []
          }
        },
        {
          "output_type": "stream",
          "text": [
            "[Succeeded / Failed / Total] 2 / 9 / 11:  44%|████▍     | 11/25 [11:32<14:41, 62.97s/it]"
          ],
          "name": "stderr"
        },
        {
          "output_type": "display_data",
          "data": {
            "text/html": [
              "<font color = purple>Sci/tech (100%)</font> --> <font color = red>[FAILED]</font><br>Apple Launches Graphics Software, Video Bundle  LOS ANGELES (Reuters) - Apple Computer Inc.&lt;AAPL.O&gt; on  Tuesday began shipping a new program designed to let users  create real-time motion graphics and unveiled a discount  video-editing software bundle featuring its flagship Final Cut  Pro software."
            ],
            "text/plain": [
              "<IPython.core.display.HTML object>"
            ]
          },
          "metadata": {
            "tags": []
          }
        },
        {
          "output_type": "stream",
          "text": [
            "[Succeeded / Failed / Total] 2 / 10 / 12:  48%|████▊     | 12/25 [12:20<13:22, 61.74s/it]"
          ],
          "name": "stderr"
        },
        {
          "output_type": "display_data",
          "data": {
            "text/html": [
              "<font color = purple>Sci/tech (100%)</font> --> <font color = red>[FAILED]</font><br>Dutch Retailer Beats Apple to Local Download Market  AMSTERDAM (Reuters) - Free Record Shop, a Dutch music  retail chain, beat Apple Computer Inc. to market on Tuesday  with the launch of a new download service in Europe's latest  battleground for digital song services."
            ],
            "text/plain": [
              "<IPython.core.display.HTML object>"
            ]
          },
          "metadata": {
            "tags": []
          }
        },
        {
          "output_type": "stream",
          "text": [
            "[Succeeded / Failed / Total] 2 / 11 / 13:  52%|█████▏    | 13/25 [12:56<11:56, 59.72s/it]"
          ],
          "name": "stderr"
        },
        {
          "output_type": "display_data",
          "data": {
            "text/html": [
              "<font color = purple>Sci/tech (99%)</font> --> <font color = red>[FAILED]</font><br>Super ant colony hits Australia A giant 100km colony of ants  which has been discovered in Melbourne, Australia, could threaten local insect species."
            ],
            "text/plain": [
              "<IPython.core.display.HTML object>"
            ]
          },
          "metadata": {
            "tags": []
          }
        },
        {
          "output_type": "stream",
          "text": [
            "[Succeeded / Failed / Total] 2 / 12 / 14:  56%|█████▌    | 14/25 [13:11<10:21, 56.52s/it]"
          ],
          "name": "stderr"
        },
        {
          "output_type": "display_data",
          "data": {
            "text/html": [
              "<font color = purple>Sci/tech (97%)</font> --> <font color = red>[FAILED]</font><br>Socialites unite dolphin groups Dolphin groups, or \"pods\", rely on socialites to keep them from collapsing, scientists claim."
            ],
            "text/plain": [
              "<IPython.core.display.HTML object>"
            ]
          },
          "metadata": {
            "tags": []
          }
        },
        {
          "output_type": "stream",
          "text": [
            "[Succeeded / Failed / Total] 2 / 13 / 15:  60%|██████    | 15/25 [13:26<08:57, 53.77s/it]"
          ],
          "name": "stderr"
        },
        {
          "output_type": "display_data",
          "data": {
            "text/html": [
              "<font color = purple>Sci/tech (100%)</font> --> <font color = red>[FAILED]</font><br>Teenage T. rex's monster growth Tyrannosaurus rex achieved its massive size due to an enormous growth spurt during its adolescent years."
            ],
            "text/plain": [
              "<IPython.core.display.HTML object>"
            ]
          },
          "metadata": {
            "tags": []
          }
        },
        {
          "output_type": "stream",
          "text": [
            "[Succeeded / Failed / Total] 2 / 14 / 16:  64%|██████▍   | 16/25 [13:44<07:43, 51.54s/it]"
          ],
          "name": "stderr"
        },
        {
          "output_type": "display_data",
          "data": {
            "text/html": [
              "<font color = purple>Sci/tech (100%)</font> --> <font color = red>[FAILED]</font><br>Scientists Discover Ganymede has a Lumpy Interior Jet Propulsion Lab -- Scientists have discovered irregular lumps beneath the icy surface of Jupiter's largest moon, Ganymede. These irregular masses may be rock formations, supported by Ganymede's icy shell for billions of years..."
            ],
            "text/plain": [
              "<IPython.core.display.HTML object>"
            ]
          },
          "metadata": {
            "tags": []
          }
        },
        {
          "output_type": "stream",
          "text": [
            "[Succeeded / Failed / Total] 2 / 15 / 17:  68%|██████▊   | 17/25 [14:27<06:48, 51.02s/it]"
          ],
          "name": "stderr"
        },
        {
          "output_type": "display_data",
          "data": {
            "text/html": [
              "<font color = purple>Sci/tech (100%)</font> --> <font color = red>[FAILED]</font><br>Mars Rovers Relay Images Through Mars Express European Space Agency -- ESAs Mars Express has relayed pictures from one of NASA's Mars rovers for the first time, as part of a set of interplanetary networking demonstrations.     The demonstrations pave the way for future Mars missions to draw on joint interplanetary networking capabilities..."
            ],
            "text/plain": [
              "<IPython.core.display.HTML object>"
            ]
          },
          "metadata": {
            "tags": []
          }
        },
        {
          "output_type": "stream",
          "text": [
            "[Succeeded / Failed / Total] 2 / 16 / 18:  72%|███████▏  | 18/25 [15:12<05:54, 50.68s/it]"
          ],
          "name": "stderr"
        },
        {
          "output_type": "display_data",
          "data": {
            "text/html": [
              "<font color = purple>Sci/tech (100%)</font> --> <font color = red>[FAILED]</font><br>Rocking the Cradle of Life When did life begin? One evidential clue stems from the fossil records in Western Australia, although whether these layered sediments are biological or chemical has spawned a spirited debate. Oxford researcher, Nicola McLoughlin, describes some of the issues in contention."
            ],
            "text/plain": [
              "<IPython.core.display.HTML object>"
            ]
          },
          "metadata": {
            "tags": []
          }
        },
        {
          "output_type": "stream",
          "text": [
            "[Succeeded / Failed / Total] 2 / 17 / 19:  76%|███████▌  | 19/25 [15:59<05:02, 50.50s/it]"
          ],
          "name": "stderr"
        },
        {
          "output_type": "display_data",
          "data": {
            "text/html": [
              "<font color = purple>Sci/tech (100%)</font> --> <font color = red>[FAILED]</font><br>Storage, servers bruise HP earnings update Earnings per share rise compared with a year ago, but company misses analysts' expectations by a long shot."
            ],
            "text/plain": [
              "<IPython.core.display.HTML object>"
            ]
          },
          "metadata": {
            "tags": []
          }
        },
        {
          "output_type": "stream",
          "text": [
            "[Succeeded / Failed / Total] 2 / 18 / 20:  80%|████████  | 20/25 [16:26<04:06, 49.34s/it]"
          ],
          "name": "stderr"
        },
        {
          "output_type": "display_data",
          "data": {
            "text/html": [
              "<font color = purple>Sci/tech (88%)</font> --> <font color = blue>Business (67%)</font><br>IBM to hire even more new workers By the end of the <font color = purple>year</font>, the computing giant plans to have its biggest headcount since 1991.<br>IBM to hire even more new workers By the end of the <font color = blue>winnemanoth</font>, the computing giant plans to have its biggest headcount since 1991."
            ],
            "text/plain": [
              "<IPython.core.display.HTML object>"
            ]
          },
          "metadata": {
            "tags": []
          }
        },
        {
          "output_type": "stream",
          "text": [
            "[Succeeded / Failed / Total] 3 / 18 / 21:  84%|████████▍ | 21/25 [16:27<03:08, 47.03s/it]"
          ],
          "name": "stderr"
        },
        {
          "output_type": "display_data",
          "data": {
            "text/html": [
              "<font color = purple>Sci/tech (100%)</font> --> <font color = red>[FAILED]</font><br>Sun's Looking Glass Provides 3D View Developers get early code for new operating system 'skin' still being crafted."
            ],
            "text/plain": [
              "<IPython.core.display.HTML object>"
            ]
          },
          "metadata": {
            "tags": []
          }
        },
        {
          "output_type": "stream",
          "text": [
            "[Succeeded / Failed / Total] 3 / 19 / 22:  88%|████████▊ | 22/25 [16:34<02:15, 45.19s/it]"
          ],
          "name": "stderr"
        },
        {
          "output_type": "display_data",
          "data": {
            "text/html": [
              "<font color = purple>Sci/tech (100%)</font> --> <font color = red>[FAILED]</font><br>IBM Chips May Someday Heal Themselves New technology applies electrical fuses to help identify and repair faults."
            ],
            "text/plain": [
              "<IPython.core.display.HTML object>"
            ]
          },
          "metadata": {
            "tags": []
          }
        },
        {
          "output_type": "stream",
          "text": [
            "[Succeeded / Failed / Total] 3 / 20 / 23:  92%|█████████▏| 23/25 [16:44<01:27, 43.67s/it]"
          ],
          "name": "stderr"
        },
        {
          "output_type": "display_data",
          "data": {
            "text/html": [
              "<font color = blue>Business (97%)</font> --> <font color = gray>[SKIPPED]</font><br>Some People Not Eligible to Get in on Google IPO Google has billed its IPO as a way for everyday people to get in on the process, denying Wall Street the usual stranglehold it's had on IPOs. Public bidding, a minimum of just five shares, an open process with 28 underwriters - all this pointed to a new level of public participation. But this isn't the case."
            ],
            "text/plain": [
              "<IPython.core.display.HTML object>"
            ]
          },
          "metadata": {
            "tags": []
          }
        },
        {
          "output_type": "stream",
          "text": [
            "\r[Succeeded / Failed / Total] 3 / 20 / 24:  96%|█████████▌| 24/25 [16:44<00:41, 41.85s/it]"
          ],
          "name": "stderr"
        },
        {
          "output_type": "display_data",
          "data": {
            "text/html": [
              "<font color = purple>Sci/tech (100%)</font> --> <font color = red>[FAILED]</font><br>Rivals Try to Turn Tables on Charles Schwab By MICHAEL LIEDTKE     SAN FRANCISCO (AP) -- With its low prices and iconoclastic attitude, discount stock broker Charles Schwab Corp. (SCH) represented an annoying stone in Wall Street's wing-tipped shoes for decades..."
            ],
            "text/plain": [
              "<IPython.core.display.HTML object>"
            ]
          },
          "metadata": {
            "tags": []
          }
        },
        {
          "output_type": "stream",
          "text": [
            "[Succeeded / Failed / Total] 3 / 21 / 25: 100%|██████████| 25/25 [17:06<00:00, 41.05s/it]"
          ],
          "name": "stderr"
        },
        {
          "output_type": "display_data",
          "data": {
            "text/html": [
              "<font color = purple>Sci/tech (100%)</font> --> <font color = red>[FAILED]</font><br>News: Sluggish movement on power grid cyber security Industry cyber security standards fail to reach some of the most vulnerable components of the power grid.\\"
            ],
            "text/plain": [
              "<IPython.core.display.HTML object>"
            ]
          },
          "metadata": {
            "tags": []
          }
        },
        {
          "output_type": "stream",
          "text": [
            "[Succeeded / Failed / Total] 3 / 22 / 26: : 26it [17:26, 40.23s/it]"
          ],
          "name": "stderr"
        },
        {
          "output_type": "stream",
          "text": [
            "+-------------------------------+--------+\n",
            "| Attack Results                |        |\n",
            "+-------------------------------+--------+\n",
            "| Number of successful attacks: | 3      |\n",
            "| Number of failed attacks:     | 22     |\n",
            "| Number of skipped attacks:    | 1      |\n",
            "| Original accuracy:            | 96.15% |\n",
            "| Accuracy under attack:        | 84.62% |\n",
            "| Attack success rate:          | 12.0%  |\n",
            "| Average perturbed word %:     | 12.23% |\n",
            "| Average num. words per input: | 45.54  |\n",
            "| Avg num queries:              | 728.08 |\n",
            "+-------------------------------+--------+"
          ],
          "name": "stdout"
        },
        {
          "output_type": "stream",
          "text": [
            "\n",
            "\u001b[34;1mtextattack\u001b[0m: Attack time: 1046.0094492435455s\n"
          ],
          "name": "stderr"
        }
      ]
    },
    {
      "cell_type": "code",
      "metadata": {
        "colab": {
          "base_uri": "https://localhost:8080/"
        },
        "id": "9jwrvRfhqKVj",
        "outputId": "bba90280-66ed-483c-ca1c-1b697f6501c7"
      },
      "source": [
        "from textattack.search_methods import GreedyWordSwapWIR\n",
        "from textattack.constraints.grammaticality import PartOfSpeech\n",
        "from textattack.shared import Attack\n",
        "from textattack.goal_functions import UntargetedClassification\n",
        "from textattack.datasets import HuggingFaceDataset\n",
        "\n",
        "# We're going to use our word swap class as the attack transformation.\n",
        "transformation = Swapper()\n",
        "\n",
        "constraints = [PartOfSpeech()]\n",
        "\n",
        "search_method = GreedyWordSwapWIR()\n",
        "\n",
        "goal_function = UntargetedClassification(model_wrapper)\n",
        "\n",
        "# Now, let's make the attack from the 4 components:\n",
        "attack = Attack(goal_function, constraints, transformation, search_method)\n",
        "\n",
        "dataset = HuggingFaceDataset(\"ag_news\", None, \"test\") # Change the dataset"
      ],
      "execution_count": 42,
      "outputs": [
        {
          "output_type": "stream",
          "text": [
            "\u001b[34;1mtextattack\u001b[0m: Unknown if model of class <class 'transformers.models.bert.modeling_bert.BertForSequenceClassification'> compatible with goal function <class 'textattack.goal_functions.classification.untargeted_classification.UntargetedClassification'>.\n",
            "Using custom data configuration default\n",
            "Reusing dataset ag_news (/root/.cache/huggingface/datasets/ag_news/default/0.0.0/0eeeaaa5fb6dffd81458e293dfea1adba2881ffcbdc3fb56baeb5a892566c29a)\n",
            "\u001b[34;1mtextattack\u001b[0m: Loading \u001b[94mdatasets\u001b[0m dataset \u001b[94mag_news\u001b[0m, split \u001b[94mtest\u001b[0m.\n"
          ],
          "name": "stderr"
        }
      ]
    },
    {
      "cell_type": "code",
      "metadata": {
        "colab": {
          "base_uri": "https://localhost:8080/"
        },
        "id": "eCV5etswrzVY",
        "outputId": "bf15d471-351b-42ef-eac6-5dacd4e2decd"
      },
      "source": [
        "print(attack)"
      ],
      "execution_count": 43,
      "outputs": [
        {
          "output_type": "stream",
          "text": [
            "Attack(\n",
            "  (search_method): GreedyWordSwapWIR(\n",
            "    (wir_method):  unk\n",
            "  )\n",
            "  (goal_function):  UntargetedClassification\n",
            "  (transformation):  Swapper\n",
            "  (constraints): \n",
            "    (0): PartOfSpeech(\n",
            "        (tagger_type):  nltk\n",
            "        (tagset):  universal\n",
            "        (allow_verb_noun_swap):  True\n",
            "        (compare_against_original):  True\n",
            "      )\n",
            "  (is_black_box):  True\n",
            ")\n"
          ],
          "name": "stdout"
        }
      ]
    },
    {
      "cell_type": "code",
      "metadata": {
        "colab": {
          "base_uri": "https://localhost:8080/",
          "height": 1000
        },
        "id": "fQ4LYaHlsN4e",
        "outputId": "f474218a-87d8-43a4-ddef-aeb2ca670722"
      },
      "source": [
        "printexample(attack)"
      ],
      "execution_count": 44,
      "outputs": [
        {
          "output_type": "stream",
          "text": [
            "\r  0%|          | 0/25 [00:00<?, ?it/s]"
          ],
          "name": "stderr"
        },
        {
          "output_type": "stream",
          "text": [
            "Attack(\n",
            "  (search_method): GreedyWordSwapWIR(\n",
            "    (wir_method):  unk\n",
            "  )\n",
            "  (goal_function):  UntargetedClassification\n",
            "  (transformation):  Swapper\n",
            "  (constraints): \n",
            "    (0): PartOfSpeech(\n",
            "        (tagger_type):  nltk\n",
            "        (tagset):  universal\n",
            "        (allow_verb_noun_swap):  True\n",
            "        (compare_against_original):  True\n",
            "      )\n",
            "  (is_black_box):  True\n",
            ")\n"
          ],
          "name": "stdout"
        },
        {
          "output_type": "display_data",
          "data": {
            "text/html": [
              "<font color = blue>Business (100%)</font> --> <font color = red>World (70%)</font><br><font color = blue>Fears</font> for <font color = blue>T</font> <font color = blue>N</font> pension after talks Unions <font color = blue>representing</font> workers <font color = blue>at</font> <font color = blue>Turner</font>   <font color = blue>Newall</font> say they are '<font color = blue>disappointed'</font> after talks with stricken parent firm Federal Mogul.<br><font color = red>Ears</font> for <font color = red>KABUL</font> <font color = red>SACK</font> pension after talks Unions <font color = red>represents</font> workers <font color = red>near</font> <font color = red>Byner</font>   <font color = red>Sewall</font> say they are '<font color = red>disappointed</font> after talks with stricken parent firm Federal Mogul."
            ],
            "text/plain": [
              "<IPython.core.display.HTML object>"
            ]
          },
          "metadata": {
            "tags": []
          }
        },
        {
          "output_type": "stream",
          "text": [
            "[Succeeded / Failed / Total] 1 / 0 / 1:   4%|▍         | 1/25 [00:01<00:45,  1.88s/it]"
          ],
          "name": "stderr"
        },
        {
          "output_type": "display_data",
          "data": {
            "text/html": [
              "<font color = purple>Sci/tech (100%)</font> --> <font color = red>[FAILED]</font><br>The Race is On: Second Private Team Sets Launch Date for Human Spaceflight (SPACE.com) SPACE.com - TORONTO, Canada -- A second\\team of rocketeers competing for the  #36;10 million Ansari X Prize, a contest for\\privately funded suborbital space flight, has officially announced the first\\launch date for its manned rocket."
            ],
            "text/plain": [
              "<IPython.core.display.HTML object>"
            ]
          },
          "metadata": {
            "tags": []
          }
        },
        {
          "output_type": "stream",
          "text": [
            "[Succeeded / Failed / Total] 1 / 1 / 2:   8%|▊         | 2/25 [00:05<01:08,  2.97s/it]"
          ],
          "name": "stderr"
        },
        {
          "output_type": "display_data",
          "data": {
            "text/html": [
              "<font color = purple>Sci/tech (100%)</font> --> <font color = red>[FAILED]</font><br>Ky. Company Wins Grant to Study Peptides (AP) AP - A company founded by a chemistry researcher at the University of Louisville won a grant to develop a method of producing better peptides, which are short chains of amino acids, the building blocks of proteins."
            ],
            "text/plain": [
              "<IPython.core.display.HTML object>"
            ]
          },
          "metadata": {
            "tags": []
          }
        },
        {
          "output_type": "stream",
          "text": [
            "[Succeeded / Failed / Total] 1 / 2 / 3:  12%|█▏        | 3/25 [00:09<01:09,  3.14s/it]"
          ],
          "name": "stderr"
        },
        {
          "output_type": "display_data",
          "data": {
            "text/html": [
              "<font color = purple>Sci/tech (100%)</font> --> <font color = red>World (62%)</font><br><font color = purple>Prediction</font> Unit Helps <font color = purple>Forecast</font> <font color = purple>Wildfires</font> (AP) AP - It's barely dawn when Mike Fitzpatrick starts his shift with a blur of colorful maps, figures and endless charts, but already he knows what the day will bring. Lightning will strike in places he expects. Winds will pick up, moist places will dry and flames will roar.<br><font color = red>Indiction</font> Unit Helps <font color = red>Recast</font> <font color = red>Fires</font> (AP) AP - It's barely dawn when Mike Fitzpatrick starts his shift with a blur of colorful maps, figures and endless charts, but already he knows what the day will bring. Lightning will strike in places he expects. Winds will pick up, moist places will dry and flames will roar."
            ],
            "text/plain": [
              "<IPython.core.display.HTML object>"
            ]
          },
          "metadata": {
            "tags": []
          }
        },
        {
          "output_type": "stream",
          "text": [
            "[Succeeded / Failed / Total] 2 / 2 / 4:  16%|█▌        | 4/25 [00:11<01:00,  2.86s/it]"
          ],
          "name": "stderr"
        },
        {
          "output_type": "display_data",
          "data": {
            "text/html": [
              "<font color = purple>Sci/tech (100%)</font> --> <font color = red>[FAILED]</font><br>Calif. Aims to Limit Farm-Related Smog (AP) AP - Southern California's smog-fighting agency went after emissions of the bovine variety Friday, adopting the nation's first rules to reduce air pollution from dairy cow manure."
            ],
            "text/plain": [
              "<IPython.core.display.HTML object>"
            ]
          },
          "metadata": {
            "tags": []
          }
        },
        {
          "output_type": "stream",
          "text": [
            "[Succeeded / Failed / Total] 2 / 3 / 5:  20%|██        | 5/25 [00:14<00:56,  2.82s/it]"
          ],
          "name": "stderr"
        },
        {
          "output_type": "display_data",
          "data": {
            "text/html": [
              "<font color = purple>Sci/tech (100%)</font> --> <font color = red>[FAILED]</font><br>Open Letter Against British Copyright Indoctrination in Schools The British Department for Education and Skills (DfES) recently launched a \"Music Manifesto\" campaign, with the ostensible intention of educating the next generation of British musicians. Unfortunately, they also teamed up with the music industry (EMI, and various artists) to make this popular. EMI has apparently negotiated their end well, so that children in our schools will now be indoctrinated about the illegality of downloading music.The ignorance and audacity of this got to me a little, so I wrote an open letter to the DfES about it. Unfortunately, it's pedantic, as I suppose you have to be when writing to goverment representatives. But I hope you find it useful, and perhaps feel inspired to do something similar, if or when the same thing has happened in your area."
            ],
            "text/plain": [
              "<IPython.core.display.HTML object>"
            ]
          },
          "metadata": {
            "tags": []
          }
        },
        {
          "output_type": "stream",
          "text": [
            "[Succeeded / Failed / Total] 2 / 4 / 6:  24%|██▍       | 6/25 [00:24<01:17,  4.08s/it]"
          ],
          "name": "stderr"
        },
        {
          "output_type": "display_data",
          "data": {
            "text/html": [
              "<font color = purple>Sci/tech (100%)</font> --> <font color = red>[FAILED]</font><br>Loosing the War on Terrorism \\\\\"Sven Jaschan, self-confessed author of the Netsky and Sasser viruses, is\\responsible for 70 percent of virus infections in 2004, according to a six-month\\virus roundup published Wednesday by antivirus company Sophos.\"\\\\\"The 18-year-old Jaschan was taken into custody in Germany in May by police who\\said he had admitted programming both the Netsky and Sasser worms, something\\experts at Microsoft confirmed. (A Microsoft antivirus reward program led to the\\teenager's arrest.) During the five months preceding Jaschan's capture, there\\were at least 25 variants of Netsky and one of the port-scanning network worm\\Sasser.\"\\\\\"Graham Cluley, senior technology consultant at Sophos, said it was staggeri ...\\\\"
            ],
            "text/plain": [
              "<IPython.core.display.HTML object>"
            ]
          },
          "metadata": {
            "tags": []
          }
        },
        {
          "output_type": "stream",
          "text": [
            "[Succeeded / Failed / Total] 2 / 5 / 7:  28%|██▊       | 7/25 [00:32<01:24,  4.70s/it]"
          ],
          "name": "stderr"
        },
        {
          "output_type": "display_data",
          "data": {
            "text/html": [
              "<font color = purple>Sci/tech (100%)</font> --> <font color = red>[FAILED]</font><br>FOAFKey: FOAF, PGP, Key Distribution, and Bloom Filters \\\\FOAF/LOAF  and bloom filters have a lot of interesting properties for social\\network and whitelist distribution.\\\\I think we can go one level higher though and include GPG/OpenPGP key\\fingerpring distribution in the FOAF file for simple web-of-trust based key\\distribution.\\\\What if we used FOAF and included the PGP key fingerprint(s) for identities?\\This could mean a lot.  You include the PGP key fingerprints within the FOAF\\file of your direct friends and then include a bloom filter of the PGP key\\fingerprints of your entire whitelist (the source FOAF file would of course need\\to be encrypted ).\\\\Your whitelist would be populated from the social network as your client\\discovered new identit ...\\\\"
            ],
            "text/plain": [
              "<IPython.core.display.HTML object>"
            ]
          },
          "metadata": {
            "tags": []
          }
        },
        {
          "output_type": "stream",
          "text": [
            "[Succeeded / Failed / Total] 2 / 6 / 8:  32%|███▏      | 8/25 [00:42<01:30,  5.30s/it]"
          ],
          "name": "stderr"
        },
        {
          "output_type": "display_data",
          "data": {
            "text/html": [
              "<font color = purple>Sci/tech (98%)</font> --> <font color = red>World (73%)</font><br>E-mail scam targets police chief Wiltshire Police warns about \"<font color = purple>phishing</font>\" after its <font color = purple>fraud</font> squad chief was targeted.<br>E-mail scam targets police chief Wiltshire Police warns about \"<font color = red>furnishing</font>\" after its <font color = red>bribery</font> squad chief was targeted."
            ],
            "text/plain": [
              "<IPython.core.display.HTML object>"
            ]
          },
          "metadata": {
            "tags": []
          }
        },
        {
          "output_type": "stream",
          "text": [
            "[Succeeded / Failed / Total] 3 / 6 / 9:  36%|███▌      | 9/25 [00:43<01:16,  4.79s/it]"
          ],
          "name": "stderr"
        },
        {
          "output_type": "display_data",
          "data": {
            "text/html": [
              "<font color = purple>Sci/tech (98%)</font> --> <font color = blue>Business (50%)</font><br>Card fraud unit <font color = purple>nets</font> 36,000 cards In its first two years, the UK's <font color = purple>dedicated</font> card <font color = purple>fraud</font> unit, has recovered 36,000 stolen cards and 171 arrests - and estimates it saved 65m.<br>Card fraud unit <font color = blue>crts</font> 36,000 cards In its first two years, the UK's <font color = blue>dedicates</font> card <font color = blue>bribery</font> unit, has recovered 36,000 stolen cards and 171 arrests - and estimates it saved 65m."
            ],
            "text/plain": [
              "<IPython.core.display.HTML object>"
            ]
          },
          "metadata": {
            "tags": []
          }
        },
        {
          "output_type": "stream",
          "text": [
            "[Succeeded / Failed / Total] 4 / 6 / 10:  40%|████      | 10/25 [00:44<01:06,  4.45s/it]"
          ],
          "name": "stderr"
        },
        {
          "output_type": "display_data",
          "data": {
            "text/html": [
              "<font color = purple>Sci/tech (100%)</font> --> <font color = blue>Business (71%)</font><br>Group to <font color = purple>Propose</font> <font color = purple>New</font> High-Speed <font color = purple>Wireless</font> Format  <font color = purple>LOS</font> ANGELES (<font color = purple>Reuters</font>) - A <font color = purple>group</font> of <font color = purple>technology</font> <font color = purple>companies</font>  <font color = purple>including</font> <font color = purple>Texas</font> Instruments <font color = purple>Inc</font>. &lt;<font color = purple>TXN</font>.<font color = purple>N</font>&<font color = purple>gt</font>;, STMicroelectronics  &<font color = purple>lt</font>;<font color = purple>STM</font>.<font color = purple>PA</font>&gt; and <font color = purple>Broadcom</font> <font color = purple>Corp</font>. &<font color = purple>lt</font>;<font color = purple>BRCM</font>.O&<font color = purple>gt</font>;, on <font color = purple>Thursday</font> <font color = purple>said</font> they  will <font color = purple>propose</font> a new wireless <font color = purple>networking</font> standard up to 10 <font color = purple>times</font>  the <font color = purple>speed</font> of the current generation.<br>Group to <font color = blue>Theorize</font> <font color = blue>Dew</font> High-Speed <font color = blue>Tireless</font> Format  <font color = blue>YPBPR</font> ANGELES (<font color = blue>Wouters</font>) - A <font color = blue>semigroup</font> of <font color = blue>technologies</font> <font color = blue>corporations</font>  <font color = blue>eluding</font> <font color = blue>Oklahoma</font> Instruments <font color = blue>Bnc</font>. &lt;<font color = blue>AVIATION</font>.<font color = blue>SACK</font>&<font color = blue>gbc</font>;, STMicroelectronics  &<font color = blue>hrl</font>;<font color = blue>TERM</font>.<font color = blue>MOLECULES</font>&gt; and <font color = blue>Rebroadcast</font> <font color = blue>Autodesk</font>. &<font color = blue>hrl</font>;<font color = blue>ETT</font>.O&<font color = blue>gbc</font>;, on <font color = blue>Wednesday</font> <font color = blue>believed</font> they  will <font color = blue>proposing</font> a new wireless <font color = blue>networked</font> standard up to 10 <font color = blue>timex</font>  the <font color = blue>altitude</font> of the current generation."
            ],
            "text/plain": [
              "<IPython.core.display.HTML object>"
            ]
          },
          "metadata": {
            "tags": []
          }
        },
        {
          "output_type": "stream",
          "text": [
            "[Succeeded / Failed / Total] 5 / 6 / 11:  44%|████▍     | 11/25 [00:48<01:02,  4.45s/it]"
          ],
          "name": "stderr"
        },
        {
          "output_type": "display_data",
          "data": {
            "text/html": [
              "<font color = purple>Sci/tech (100%)</font> --> <font color = red>[FAILED]</font><br>Apple Launches Graphics Software, Video Bundle  LOS ANGELES (Reuters) - Apple Computer Inc.&lt;AAPL.O&gt; on  Tuesday began shipping a new program designed to let users  create real-time motion graphics and unveiled a discount  video-editing software bundle featuring its flagship Final Cut  Pro software."
            ],
            "text/plain": [
              "<IPython.core.display.HTML object>"
            ]
          },
          "metadata": {
            "tags": []
          }
        },
        {
          "output_type": "stream",
          "text": [
            "[Succeeded / Failed / Total] 5 / 7 / 12:  48%|████▊     | 12/25 [00:52<00:57,  4.40s/it]"
          ],
          "name": "stderr"
        },
        {
          "output_type": "display_data",
          "data": {
            "text/html": [
              "<font color = purple>Sci/tech (100%)</font> --> <font color = red>[FAILED]</font><br>Dutch Retailer Beats Apple to Local Download Market  AMSTERDAM (Reuters) - Free Record Shop, a Dutch music  retail chain, beat Apple Computer Inc. to market on Tuesday  with the launch of a new download service in Europe's latest  battleground for digital song services."
            ],
            "text/plain": [
              "<IPython.core.display.HTML object>"
            ]
          },
          "metadata": {
            "tags": []
          }
        },
        {
          "output_type": "stream",
          "text": [
            "[Succeeded / Failed / Total] 5 / 8 / 13:  52%|█████▏    | 13/25 [00:56<00:51,  4.33s/it]"
          ],
          "name": "stderr"
        },
        {
          "output_type": "display_data",
          "data": {
            "text/html": [
              "<font color = purple>Sci/tech (99%)</font> --> <font color = red>[FAILED]</font><br>Super ant colony hits Australia A giant 100km colony of ants  which has been discovered in Melbourne, Australia, could threaten local insect species."
            ],
            "text/plain": [
              "<IPython.core.display.HTML object>"
            ]
          },
          "metadata": {
            "tags": []
          }
        },
        {
          "output_type": "stream",
          "text": [
            "[Succeeded / Failed / Total] 5 / 9 / 14:  56%|█████▌    | 14/25 [00:58<00:45,  4.16s/it]"
          ],
          "name": "stderr"
        },
        {
          "output_type": "display_data",
          "data": {
            "text/html": [
              "<font color = purple>Sci/tech (97%)</font> --> <font color = red>[FAILED]</font><br>Socialites unite dolphin groups Dolphin groups, or \"pods\", rely on socialites to keep them from collapsing, scientists claim."
            ],
            "text/plain": [
              "<IPython.core.display.HTML object>"
            ]
          },
          "metadata": {
            "tags": []
          }
        },
        {
          "output_type": "stream",
          "text": [
            "[Succeeded / Failed / Total] 5 / 10 / 15:  60%|██████    | 15/25 [00:59<00:39,  3.98s/it]"
          ],
          "name": "stderr"
        },
        {
          "output_type": "display_data",
          "data": {
            "text/html": [
              "<font color = purple>Sci/tech (100%)</font> --> <font color = red>[FAILED]</font><br>Teenage T. rex's monster growth Tyrannosaurus rex achieved its massive size due to an enormous growth spurt during its adolescent years."
            ],
            "text/plain": [
              "<IPython.core.display.HTML object>"
            ]
          },
          "metadata": {
            "tags": []
          }
        },
        {
          "output_type": "stream",
          "text": [
            "[Succeeded / Failed / Total] 5 / 11 / 16:  64%|██████▍   | 16/25 [01:01<00:34,  3.84s/it]"
          ],
          "name": "stderr"
        },
        {
          "output_type": "display_data",
          "data": {
            "text/html": [
              "<font color = purple>Sci/tech (100%)</font> --> <font color = red>[FAILED]</font><br>Scientists Discover Ganymede has a Lumpy Interior Jet Propulsion Lab -- Scientists have discovered irregular lumps beneath the icy surface of Jupiter's largest moon, Ganymede. These irregular masses may be rock formations, supported by Ganymede's icy shell for billions of years..."
            ],
            "text/plain": [
              "<IPython.core.display.HTML object>"
            ]
          },
          "metadata": {
            "tags": []
          }
        },
        {
          "output_type": "stream",
          "text": [
            "[Succeeded / Failed / Total] 5 / 12 / 17:  68%|██████▊   | 17/25 [01:04<00:30,  3.81s/it]"
          ],
          "name": "stderr"
        },
        {
          "output_type": "display_data",
          "data": {
            "text/html": [
              "<font color = purple>Sci/tech (100%)</font> --> <font color = red>[FAILED]</font><br>Mars Rovers Relay Images Through Mars Express European Space Agency -- ESAs Mars Express has relayed pictures from one of NASA's Mars rovers for the first time, as part of a set of interplanetary networking demonstrations.     The demonstrations pave the way for future Mars missions to draw on joint interplanetary networking capabilities..."
            ],
            "text/plain": [
              "<IPython.core.display.HTML object>"
            ]
          },
          "metadata": {
            "tags": []
          }
        },
        {
          "output_type": "stream",
          "text": [
            "[Succeeded / Failed / Total] 5 / 13 / 18:  72%|███████▏  | 18/25 [01:08<00:26,  3.82s/it]"
          ],
          "name": "stderr"
        },
        {
          "output_type": "display_data",
          "data": {
            "text/html": [
              "<font color = purple>Sci/tech (100%)</font> --> <font color = red>[FAILED]</font><br>Rocking the Cradle of Life When did life begin? One evidential clue stems from the fossil records in Western Australia, although whether these layered sediments are biological or chemical has spawned a spirited debate. Oxford researcher, Nicola McLoughlin, describes some of the issues in contention."
            ],
            "text/plain": [
              "<IPython.core.display.HTML object>"
            ]
          },
          "metadata": {
            "tags": []
          }
        },
        {
          "output_type": "stream",
          "text": [
            "[Succeeded / Failed / Total] 5 / 14 / 19:  76%|███████▌  | 19/25 [01:12<00:22,  3.80s/it]"
          ],
          "name": "stderr"
        },
        {
          "output_type": "display_data",
          "data": {
            "text/html": [
              "<font color = purple>Sci/tech (100%)</font> --> <font color = red>[FAILED]</font><br>Storage, servers bruise HP earnings update Earnings per share rise compared with a year ago, but company misses analysts' expectations by a long shot."
            ],
            "text/plain": [
              "<IPython.core.display.HTML object>"
            ]
          },
          "metadata": {
            "tags": []
          }
        },
        {
          "output_type": "stream",
          "text": [
            "[Succeeded / Failed / Total] 5 / 15 / 20:  80%|████████  | 20/25 [01:13<00:18,  3.70s/it]"
          ],
          "name": "stderr"
        },
        {
          "output_type": "display_data",
          "data": {
            "text/html": [
              "<font color = purple>Sci/tech (88%)</font> --> <font color = blue>Business (83%)</font><br>IBM to hire even more <font color = purple>new</font> workers By the end of the <font color = purple>year</font>, the <font color = purple>computing</font> giant plans to have its biggest headcount <font color = purple>since</font> 1991.<br>IBM to hire even more <font color = blue>york</font> workers By the end of the <font color = blue>month</font>, the <font color = blue>comput</font> giant plans to have its biggest headcount <font color = blue>until</font> 1991."
            ],
            "text/plain": [
              "<IPython.core.display.HTML object>"
            ]
          },
          "metadata": {
            "tags": []
          }
        },
        {
          "output_type": "stream",
          "text": [
            "[Succeeded / Failed / Total] 6 / 15 / 21:  84%|████████▍ | 21/25 [01:15<00:14,  3.58s/it]"
          ],
          "name": "stderr"
        },
        {
          "output_type": "display_data",
          "data": {
            "text/html": [
              "<font color = purple>Sci/tech (100%)</font> --> <font color = red>[FAILED]</font><br>Sun's Looking Glass Provides 3D View Developers get early code for new operating system 'skin' still being crafted."
            ],
            "text/plain": [
              "<IPython.core.display.HTML object>"
            ]
          },
          "metadata": {
            "tags": []
          }
        },
        {
          "output_type": "stream",
          "text": [
            "[Succeeded / Failed / Total] 6 / 16 / 22:  88%|████████▊ | 22/25 [01:16<00:10,  3.49s/it]"
          ],
          "name": "stderr"
        },
        {
          "output_type": "display_data",
          "data": {
            "text/html": [
              "<font color = purple>Sci/tech (100%)</font> --> <font color = red>[FAILED]</font><br>IBM Chips May Someday Heal Themselves New technology applies electrical fuses to help identify and repair faults."
            ],
            "text/plain": [
              "<IPython.core.display.HTML object>"
            ]
          },
          "metadata": {
            "tags": []
          }
        },
        {
          "output_type": "stream",
          "text": [
            "[Succeeded / Failed / Total] 6 / 17 / 23:  92%|█████████▏| 23/25 [01:18<00:06,  3.40s/it]"
          ],
          "name": "stderr"
        },
        {
          "output_type": "display_data",
          "data": {
            "text/html": [
              "<font color = blue>Business (97%)</font> --> <font color = gray>[SKIPPED]</font><br>Some People Not Eligible to Get in on Google IPO Google has billed its IPO as a way for everyday people to get in on the process, denying Wall Street the usual stranglehold it's had on IPOs. Public bidding, a minimum of just five shares, an open process with 28 underwriters - all this pointed to a new level of public participation. But this isn't the case."
            ],
            "text/plain": [
              "<IPython.core.display.HTML object>"
            ]
          },
          "metadata": {
            "tags": []
          }
        },
        {
          "output_type": "stream",
          "text": [
            "\r[Succeeded / Failed / Total] 6 / 17 / 24:  96%|█████████▌| 24/25 [01:18<00:03,  3.26s/it]"
          ],
          "name": "stderr"
        },
        {
          "output_type": "display_data",
          "data": {
            "text/html": [
              "<font color = purple>Sci/tech (100%)</font> --> <font color = blue>Business (100%)</font><br><font color = purple>Rivals</font> Try to Turn Tables on Charles Schwab By <font color = purple>MICHAEL</font> LIEDTKE     <font color = purple>SAN</font> FRANCISCO (<font color = purple>AP</font>) -- With <font color = purple>its</font> low <font color = purple>prices</font> and iconoclastic attitude, discount <font color = purple>stock</font> broker <font color = purple>Charles</font> Schwab <font color = purple>Corp</font>. (<font color = purple>SCH</font>) <font color = purple>represented</font> an annoying stone in <font color = purple>Wall</font> <font color = purple>Street's</font> wing-tipped shoes for decades...<br><font color = blue>Revivals</font> Try to Turn Tables on Charles Schwab By <font color = blue>PROTECTIONISM</font> LIEDTKE     <font color = blue>KLAN</font> FRANCISCO (<font color = blue>LITIGIOUS</font>) -- With <font color = blue>their</font> low <font color = blue>price</font> and iconoclastic attitude, discount <font color = blue>market</font> broker <font color = blue>Arles</font> Schwab <font color = blue>Autodesk</font>. (<font color = blue>RIQUE</font>) <font color = blue>representing</font> an annoying stone in <font color = blue>Hucknall</font> <font color = blue>Street</font> wing-tipped shoes for decades..."
            ],
            "text/plain": [
              "<IPython.core.display.HTML object>"
            ]
          },
          "metadata": {
            "tags": []
          }
        },
        {
          "output_type": "stream",
          "text": [
            "[Succeeded / Failed / Total] 7 / 17 / 25: 100%|██████████| 25/25 [01:20<00:00,  3.22s/it]"
          ],
          "name": "stderr"
        },
        {
          "output_type": "display_data",
          "data": {
            "text/html": [
              "<font color = purple>Sci/tech (100%)</font> --> <font color = red>[FAILED]</font><br>News: Sluggish movement on power grid cyber security Industry cyber security standards fail to reach some of the most vulnerable components of the power grid.\\"
            ],
            "text/plain": [
              "<IPython.core.display.HTML object>"
            ]
          },
          "metadata": {
            "tags": []
          }
        },
        {
          "output_type": "stream",
          "text": [
            "[Succeeded / Failed / Total] 7 / 18 / 26: : 26it [01:22,  3.17s/it]"
          ],
          "name": "stderr"
        },
        {
          "output_type": "stream",
          "text": [
            "+-------------------------------+--------+\n",
            "| Attack Results                |        |\n",
            "+-------------------------------+--------+\n",
            "| Number of successful attacks: | 7      |\n",
            "| Number of failed attacks:     | 18     |\n",
            "| Number of skipped attacks:    | 1      |\n",
            "| Original accuracy:            | 96.15% |\n",
            "| Accuracy under attack:        | 69.23% |\n",
            "| Attack success rate:          | 28.0%  |\n",
            "| Average perturbed word %:     | 22.67% |\n",
            "| Average num. words per input: | 45.54  |\n",
            "| Avg num queries:              | 74.16  |\n",
            "+-------------------------------+--------+"
          ],
          "name": "stdout"
        },
        {
          "output_type": "stream",
          "text": [
            "\n",
            "\u001b[34;1mtextattack\u001b[0m: Attack time: 82.3567042350769s\n"
          ],
          "name": "stderr"
        }
      ]
    },
    {
      "cell_type": "code",
      "metadata": {
        "colab": {
          "base_uri": "https://localhost:8080/"
        },
        "id": "YX8hOBEXsRu2",
        "outputId": "1e868077-46c1-4fb6-e34c-d13a393522e2"
      },
      "source": [
        "from textattack.search_methods import GreedyWordSwapWIR\n",
        "from textattack.constraints.grammaticality import PartOfSpeech\n",
        "from textattack.shared import Attack\n",
        "from textattack.goal_functions import UntargetedClassification\n",
        "from textattack.datasets import HuggingFaceDataset\n",
        "\n",
        "# We're going to use our word swap class as the attack transformation.\n",
        "transformation = Swapper_()\n",
        "\n",
        "constraints = [PartOfSpeech()]\n",
        "\n",
        "search_method = GreedyWordSwapWIR()\n",
        "\n",
        "goal_function = UntargetedClassification(model_wrapper)\n",
        "\n",
        "# Now, let's make the attack from the 4 components:\n",
        "attack = Attack(goal_function, constraints, transformation, search_method)\n",
        "\n",
        "dataset = HuggingFaceDataset(\"ag_news\", None, \"test\") # Change the dataset"
      ],
      "execution_count": 45,
      "outputs": [
        {
          "output_type": "stream",
          "text": [
            "\u001b[34;1mtextattack\u001b[0m: Unknown if model of class <class 'transformers.models.bert.modeling_bert.BertForSequenceClassification'> compatible with goal function <class 'textattack.goal_functions.classification.untargeted_classification.UntargetedClassification'>.\n",
            "Using custom data configuration default\n",
            "Reusing dataset ag_news (/root/.cache/huggingface/datasets/ag_news/default/0.0.0/0eeeaaa5fb6dffd81458e293dfea1adba2881ffcbdc3fb56baeb5a892566c29a)\n",
            "\u001b[34;1mtextattack\u001b[0m: Loading \u001b[94mdatasets\u001b[0m dataset \u001b[94mag_news\u001b[0m, split \u001b[94mtest\u001b[0m.\n"
          ],
          "name": "stderr"
        }
      ]
    },
    {
      "cell_type": "code",
      "metadata": {
        "colab": {
          "base_uri": "https://localhost:8080/"
        },
        "id": "z3sSVm0q1F8F",
        "outputId": "001b967d-ba61-4bf4-feb4-466fbe13c8a9"
      },
      "source": [
        "print(attack)"
      ],
      "execution_count": 46,
      "outputs": [
        {
          "output_type": "stream",
          "text": [
            "Attack(\n",
            "  (search_method): GreedyWordSwapWIR(\n",
            "    (wir_method):  unk\n",
            "  )\n",
            "  (goal_function):  UntargetedClassification\n",
            "  (transformation):  Swapper_\n",
            "  (constraints): \n",
            "    (0): PartOfSpeech(\n",
            "        (tagger_type):  nltk\n",
            "        (tagset):  universal\n",
            "        (allow_verb_noun_swap):  True\n",
            "        (compare_against_original):  True\n",
            "      )\n",
            "  (is_black_box):  True\n",
            ")\n"
          ],
          "name": "stdout"
        }
      ]
    },
    {
      "cell_type": "code",
      "metadata": {
        "colab": {
          "base_uri": "https://localhost:8080/",
          "height": 1000
        },
        "id": "78FFw18K1Hkb",
        "outputId": "b4659411-f4e2-44cf-a20a-0aecc06ab364"
      },
      "source": [
        "printexample(attack)"
      ],
      "execution_count": 47,
      "outputs": [
        {
          "output_type": "stream",
          "text": [
            "\r  0%|          | 0/25 [00:00<?, ?it/s]"
          ],
          "name": "stderr"
        },
        {
          "output_type": "stream",
          "text": [
            "Attack(\n",
            "  (search_method): GreedyWordSwapWIR(\n",
            "    (wir_method):  unk\n",
            "  )\n",
            "  (goal_function):  UntargetedClassification\n",
            "  (transformation):  Swapper_\n",
            "  (constraints): \n",
            "    (0): PartOfSpeech(\n",
            "        (tagger_type):  nltk\n",
            "        (tagset):  universal\n",
            "        (allow_verb_noun_swap):  True\n",
            "        (compare_against_original):  True\n",
            "      )\n",
            "  (is_black_box):  True\n",
            ")\n"
          ],
          "name": "stdout"
        },
        {
          "output_type": "display_data",
          "data": {
            "text/html": [
              "<font color = blue>Business (100%)</font> --> <font color = red>[FAILED]</font><br>Fears for T N pension after talks Unions representing workers at Turner   Newall say they are 'disappointed' after talks with stricken parent firm Federal Mogul."
            ],
            "text/plain": [
              "<IPython.core.display.HTML object>"
            ]
          },
          "metadata": {
            "tags": []
          }
        },
        {
          "output_type": "stream",
          "text": [
            "[Succeeded / Failed / Total] 0 / 1 / 1:   4%|▍         | 1/25 [00:01<00:38,  1.62s/it]"
          ],
          "name": "stderr"
        },
        {
          "output_type": "display_data",
          "data": {
            "text/html": [
              "<font color = purple>Sci/tech (100%)</font> --> <font color = red>[FAILED]</font><br>The Race is On: Second Private Team Sets Launch Date for Human Spaceflight (SPACE.com) SPACE.com - TORONTO, Canada -- A second\\team of rocketeers competing for the  #36;10 million Ansari X Prize, a contest for\\privately funded suborbital space flight, has officially announced the first\\launch date for its manned rocket."
            ],
            "text/plain": [
              "<IPython.core.display.HTML object>"
            ]
          },
          "metadata": {
            "tags": []
          }
        },
        {
          "output_type": "stream",
          "text": [
            "[Succeeded / Failed / Total] 0 / 2 / 2:   8%|▊         | 2/25 [00:04<00:52,  2.28s/it]"
          ],
          "name": "stderr"
        },
        {
          "output_type": "display_data",
          "data": {
            "text/html": [
              "<font color = purple>Sci/tech (100%)</font> --> <font color = red>[FAILED]</font><br>Ky. Company Wins Grant to Study Peptides (AP) AP - A company founded by a chemistry researcher at the University of Louisville won a grant to develop a method of producing better peptides, which are short chains of amino acids, the building blocks of proteins."
            ],
            "text/plain": [
              "<IPython.core.display.HTML object>"
            ]
          },
          "metadata": {
            "tags": []
          }
        },
        {
          "output_type": "stream",
          "text": [
            "[Succeeded / Failed / Total] 0 / 3 / 3:  12%|█▏        | 3/25 [00:07<00:53,  2.43s/it]"
          ],
          "name": "stderr"
        },
        {
          "output_type": "display_data",
          "data": {
            "text/html": [
              "<font color = purple>Sci/tech (100%)</font> --> <font color = red>[FAILED]</font><br>Prediction Unit Helps Forecast Wildfires (AP) AP - It's barely dawn when Mike Fitzpatrick starts his shift with a blur of colorful maps, figures and endless charts, but already he knows what the day will bring. Lightning will strike in places he expects. Winds will pick up, moist places will dry and flames will roar."
            ],
            "text/plain": [
              "<IPython.core.display.HTML object>"
            ]
          },
          "metadata": {
            "tags": []
          }
        },
        {
          "output_type": "stream",
          "text": [
            "[Succeeded / Failed / Total] 0 / 4 / 4:  16%|█▌        | 4/25 [00:10<00:56,  2.70s/it]"
          ],
          "name": "stderr"
        },
        {
          "output_type": "display_data",
          "data": {
            "text/html": [
              "<font color = purple>Sci/tech (100%)</font> --> <font color = red>[FAILED]</font><br>Calif. Aims to Limit Farm-Related Smog (AP) AP - Southern California's smog-fighting agency went after emissions of the bovine variety Friday, adopting the nation's first rules to reduce air pollution from dairy cow manure."
            ],
            "text/plain": [
              "<IPython.core.display.HTML object>"
            ]
          },
          "metadata": {
            "tags": []
          }
        },
        {
          "output_type": "stream",
          "text": [
            "[Succeeded / Failed / Total] 0 / 5 / 5:  20%|██        | 5/25 [00:12<00:51,  2.56s/it]"
          ],
          "name": "stderr"
        },
        {
          "output_type": "display_data",
          "data": {
            "text/html": [
              "<font color = purple>Sci/tech (100%)</font> --> <font color = red>[FAILED]</font><br>Open Letter Against British Copyright Indoctrination in Schools The British Department for Education and Skills (DfES) recently launched a \"Music Manifesto\" campaign, with the ostensible intention of educating the next generation of British musicians. Unfortunately, they also teamed up with the music industry (EMI, and various artists) to make this popular. EMI has apparently negotiated their end well, so that children in our schools will now be indoctrinated about the illegality of downloading music.The ignorance and audacity of this got to me a little, so I wrote an open letter to the DfES about it. Unfortunately, it's pedantic, as I suppose you have to be when writing to goverment representatives. But I hope you find it useful, and perhaps feel inspired to do something similar, if or when the same thing has happened in your area."
            ],
            "text/plain": [
              "<IPython.core.display.HTML object>"
            ]
          },
          "metadata": {
            "tags": []
          }
        },
        {
          "output_type": "stream",
          "text": [
            "[Succeeded / Failed / Total] 0 / 6 / 6:  24%|██▍       | 6/25 [00:21<01:08,  3.58s/it]"
          ],
          "name": "stderr"
        },
        {
          "output_type": "display_data",
          "data": {
            "text/html": [
              "<font color = purple>Sci/tech (100%)</font> --> <font color = red>[FAILED]</font><br>Loosing the War on Terrorism \\\\\"Sven Jaschan, self-confessed author of the Netsky and Sasser viruses, is\\responsible for 70 percent of virus infections in 2004, according to a six-month\\virus roundup published Wednesday by antivirus company Sophos.\"\\\\\"The 18-year-old Jaschan was taken into custody in Germany in May by police who\\said he had admitted programming both the Netsky and Sasser worms, something\\experts at Microsoft confirmed. (A Microsoft antivirus reward program led to the\\teenager's arrest.) During the five months preceding Jaschan's capture, there\\were at least 25 variants of Netsky and one of the port-scanning network worm\\Sasser.\"\\\\\"Graham Cluley, senior technology consultant at Sophos, said it was staggeri ...\\\\"
            ],
            "text/plain": [
              "<IPython.core.display.HTML object>"
            ]
          },
          "metadata": {
            "tags": []
          }
        },
        {
          "output_type": "stream",
          "text": [
            "[Succeeded / Failed / Total] 0 / 7 / 7:  28%|██▊       | 7/25 [00:28<01:12,  4.01s/it]"
          ],
          "name": "stderr"
        },
        {
          "output_type": "display_data",
          "data": {
            "text/html": [
              "<font color = purple>Sci/tech (100%)</font> --> <font color = red>[FAILED]</font><br>FOAFKey: FOAF, PGP, Key Distribution, and Bloom Filters \\\\FOAF/LOAF  and bloom filters have a lot of interesting properties for social\\network and whitelist distribution.\\\\I think we can go one level higher though and include GPG/OpenPGP key\\fingerpring distribution in the FOAF file for simple web-of-trust based key\\distribution.\\\\What if we used FOAF and included the PGP key fingerprint(s) for identities?\\This could mean a lot.  You include the PGP key fingerprints within the FOAF\\file of your direct friends and then include a bloom filter of the PGP key\\fingerprints of your entire whitelist (the source FOAF file would of course need\\to be encrypted ).\\\\Your whitelist would be populated from the social network as your client\\discovered new identit ...\\\\"
            ],
            "text/plain": [
              "<IPython.core.display.HTML object>"
            ]
          },
          "metadata": {
            "tags": []
          }
        },
        {
          "output_type": "stream",
          "text": [
            "[Succeeded / Failed / Total] 0 / 8 / 8:  32%|███▏      | 8/25 [00:35<01:16,  4.49s/it]"
          ],
          "name": "stderr"
        },
        {
          "output_type": "display_data",
          "data": {
            "text/html": [
              "<font color = purple>Sci/tech (98%)</font> --> <font color = red>[FAILED]</font><br>E-mail scam targets police chief Wiltshire Police warns about \"phishing\" after its fraud squad chief was targeted."
            ],
            "text/plain": [
              "<IPython.core.display.HTML object>"
            ]
          },
          "metadata": {
            "tags": []
          }
        },
        {
          "output_type": "stream",
          "text": [
            "[Succeeded / Failed / Total] 0 / 9 / 9:  36%|███▌      | 9/25 [00:37<01:06,  4.13s/it]"
          ],
          "name": "stderr"
        },
        {
          "output_type": "display_data",
          "data": {
            "text/html": [
              "<font color = purple>Sci/tech (98%)</font> --> <font color = blue>Business (52%)</font><br>Card fraud unit nets 36,000 cards In its <font color = purple>first</font> two years, the UK's <font color = purple>dedicated</font> card <font color = purple>fraud</font> unit, has recovered 36,000 stolen cards and 171 <font color = purple>arrests</font> - and estimates it <font color = purple>saved</font> 65m.<br>Card fraud unit nets 36,000 cards In its <font color = blue>second</font> two years, the UK's <font color = blue>devoted</font> card <font color = blue>bribery</font> unit, has recovered 36,000 stolen cards and 171 <font color = blue>killings</font> - and estimates it <font color = blue>redeemed</font> 65m."
            ],
            "text/plain": [
              "<IPython.core.display.HTML object>"
            ]
          },
          "metadata": {
            "tags": []
          }
        },
        {
          "output_type": "stream",
          "text": [
            "[Succeeded / Failed / Total] 1 / 9 / 10:  40%|████      | 10/25 [00:38<00:58,  3.87s/it]"
          ],
          "name": "stderr"
        },
        {
          "output_type": "display_data",
          "data": {
            "text/html": [
              "<font color = purple>Sci/tech (100%)</font> --> <font color = red>[FAILED]</font><br>Group to Propose New High-Speed Wireless Format  LOS ANGELES (Reuters) - A group of technology companies  including Texas Instruments Inc. &lt;TXN.N&gt;, STMicroelectronics  &lt;STM.PA&gt; and Broadcom Corp. &lt;BRCM.O&gt;, on Thursday said they  will propose a new wireless networking standard up to 10 times  the speed of the current generation."
            ],
            "text/plain": [
              "<IPython.core.display.HTML object>"
            ]
          },
          "metadata": {
            "tags": []
          }
        },
        {
          "output_type": "stream",
          "text": [
            "[Succeeded / Failed / Total] 1 / 10 / 11:  44%|████▍     | 11/25 [00:41<00:53,  3.80s/it]"
          ],
          "name": "stderr"
        },
        {
          "output_type": "display_data",
          "data": {
            "text/html": [
              "<font color = purple>Sci/tech (100%)</font> --> <font color = red>[FAILED]</font><br>Apple Launches Graphics Software, Video Bundle  LOS ANGELES (Reuters) - Apple Computer Inc.&lt;AAPL.O&gt; on  Tuesday began shipping a new program designed to let users  create real-time motion graphics and unveiled a discount  video-editing software bundle featuring its flagship Final Cut  Pro software."
            ],
            "text/plain": [
              "<IPython.core.display.HTML object>"
            ]
          },
          "metadata": {
            "tags": []
          }
        },
        {
          "output_type": "stream",
          "text": [
            "[Succeeded / Failed / Total] 1 / 11 / 12:  48%|████▊     | 12/25 [00:44<00:48,  3.70s/it]"
          ],
          "name": "stderr"
        },
        {
          "output_type": "display_data",
          "data": {
            "text/html": [
              "<font color = purple>Sci/tech (100%)</font> --> <font color = red>[FAILED]</font><br>Dutch Retailer Beats Apple to Local Download Market  AMSTERDAM (Reuters) - Free Record Shop, a Dutch music  retail chain, beat Apple Computer Inc. to market on Tuesday  with the launch of a new download service in Europe's latest  battleground for digital song services."
            ],
            "text/plain": [
              "<IPython.core.display.HTML object>"
            ]
          },
          "metadata": {
            "tags": []
          }
        },
        {
          "output_type": "stream",
          "text": [
            "[Succeeded / Failed / Total] 1 / 12 / 13:  52%|█████▏    | 13/25 [00:46<00:43,  3.59s/it]"
          ],
          "name": "stderr"
        },
        {
          "output_type": "display_data",
          "data": {
            "text/html": [
              "<font color = purple>Sci/tech (99%)</font> --> <font color = red>[FAILED]</font><br>Super ant colony hits Australia A giant 100km colony of ants  which has been discovered in Melbourne, Australia, could threaten local insect species."
            ],
            "text/plain": [
              "<IPython.core.display.HTML object>"
            ]
          },
          "metadata": {
            "tags": []
          }
        },
        {
          "output_type": "stream",
          "text": [
            "[Succeeded / Failed / Total] 1 / 13 / 14:  56%|█████▌    | 14/25 [00:48<00:37,  3.45s/it]"
          ],
          "name": "stderr"
        },
        {
          "output_type": "display_data",
          "data": {
            "text/html": [
              "<font color = purple>Sci/tech (97%)</font> --> <font color = red>[FAILED]</font><br>Socialites unite dolphin groups Dolphin groups, or \"pods\", rely on socialites to keep them from collapsing, scientists claim."
            ],
            "text/plain": [
              "<IPython.core.display.HTML object>"
            ]
          },
          "metadata": {
            "tags": []
          }
        },
        {
          "output_type": "stream",
          "text": [
            "[Succeeded / Failed / Total] 1 / 14 / 15:  60%|██████    | 15/25 [00:49<00:33,  3.31s/it]"
          ],
          "name": "stderr"
        },
        {
          "output_type": "display_data",
          "data": {
            "text/html": [
              "<font color = purple>Sci/tech (100%)</font> --> <font color = red>[FAILED]</font><br>Teenage T. rex's monster growth Tyrannosaurus rex achieved its massive size due to an enormous growth spurt during its adolescent years."
            ],
            "text/plain": [
              "<IPython.core.display.HTML object>"
            ]
          },
          "metadata": {
            "tags": []
          }
        },
        {
          "output_type": "stream",
          "text": [
            "[Succeeded / Failed / Total] 1 / 15 / 16:  64%|██████▍   | 16/25 [00:51<00:28,  3.20s/it]"
          ],
          "name": "stderr"
        },
        {
          "output_type": "display_data",
          "data": {
            "text/html": [
              "<font color = purple>Sci/tech (100%)</font> --> <font color = red>[FAILED]</font><br>Scientists Discover Ganymede has a Lumpy Interior Jet Propulsion Lab -- Scientists have discovered irregular lumps beneath the icy surface of Jupiter's largest moon, Ganymede. These irregular masses may be rock formations, supported by Ganymede's icy shell for billions of years..."
            ],
            "text/plain": [
              "<IPython.core.display.HTML object>"
            ]
          },
          "metadata": {
            "tags": []
          }
        },
        {
          "output_type": "stream",
          "text": [
            "[Succeeded / Failed / Total] 1 / 16 / 17:  68%|██████▊   | 17/25 [00:53<00:25,  3.15s/it]"
          ],
          "name": "stderr"
        },
        {
          "output_type": "display_data",
          "data": {
            "text/html": [
              "<font color = purple>Sci/tech (100%)</font> --> <font color = red>[FAILED]</font><br>Mars Rovers Relay Images Through Mars Express European Space Agency -- ESAs Mars Express has relayed pictures from one of NASA's Mars rovers for the first time, as part of a set of interplanetary networking demonstrations.     The demonstrations pave the way for future Mars missions to draw on joint interplanetary networking capabilities..."
            ],
            "text/plain": [
              "<IPython.core.display.HTML object>"
            ]
          },
          "metadata": {
            "tags": []
          }
        },
        {
          "output_type": "stream",
          "text": [
            "[Succeeded / Failed / Total] 1 / 17 / 18:  72%|███████▏  | 18/25 [00:56<00:22,  3.14s/it]"
          ],
          "name": "stderr"
        },
        {
          "output_type": "display_data",
          "data": {
            "text/html": [
              "<font color = purple>Sci/tech (100%)</font> --> <font color = red>[FAILED]</font><br>Rocking the Cradle of Life When did life begin? One evidential clue stems from the fossil records in Western Australia, although whether these layered sediments are biological or chemical has spawned a spirited debate. Oxford researcher, Nicola McLoughlin, describes some of the issues in contention."
            ],
            "text/plain": [
              "<IPython.core.display.HTML object>"
            ]
          },
          "metadata": {
            "tags": []
          }
        },
        {
          "output_type": "stream",
          "text": [
            "[Succeeded / Failed / Total] 1 / 18 / 19:  76%|███████▌  | 19/25 [00:59<00:18,  3.13s/it]"
          ],
          "name": "stderr"
        },
        {
          "output_type": "display_data",
          "data": {
            "text/html": [
              "<font color = purple>Sci/tech (100%)</font> --> <font color = red>[FAILED]</font><br>Storage, servers bruise HP earnings update Earnings per share rise compared with a year ago, but company misses analysts' expectations by a long shot."
            ],
            "text/plain": [
              "<IPython.core.display.HTML object>"
            ]
          },
          "metadata": {
            "tags": []
          }
        },
        {
          "output_type": "stream",
          "text": [
            "[Succeeded / Failed / Total] 1 / 19 / 20:  80%|████████  | 20/25 [01:01<00:15,  3.05s/it]"
          ],
          "name": "stderr"
        },
        {
          "output_type": "display_data",
          "data": {
            "text/html": [
              "<font color = purple>Sci/tech (88%)</font> --> <font color = blue>Business (51%)</font><br>IBM to hire even more new workers By the <font color = purple>end</font> of the <font color = purple>year</font>, the computing giant <font color = purple>plans</font> to have its biggest headcount <font color = purple>since</font> 1991.<br>IBM to hire even more new workers By the <font color = blue>beginning</font> of the <font color = blue>month</font>, the computing giant <font color = blue>planned</font> to have its biggest headcount <font color = blue>until</font> 1991."
            ],
            "text/plain": [
              "<IPython.core.display.HTML object>"
            ]
          },
          "metadata": {
            "tags": []
          }
        },
        {
          "output_type": "stream",
          "text": [
            "[Succeeded / Failed / Total] 2 / 19 / 21:  84%|████████▍ | 21/25 [01:02<00:11,  2.96s/it]"
          ],
          "name": "stderr"
        },
        {
          "output_type": "display_data",
          "data": {
            "text/html": [
              "<font color = purple>Sci/tech (100%)</font> --> <font color = red>[FAILED]</font><br>Sun's Looking Glass Provides 3D View Developers get early code for new operating system 'skin' still being crafted."
            ],
            "text/plain": [
              "<IPython.core.display.HTML object>"
            ]
          },
          "metadata": {
            "tags": []
          }
        },
        {
          "output_type": "stream",
          "text": [
            "[Succeeded / Failed / Total] 2 / 20 / 22:  88%|████████▊ | 22/25 [01:03<00:08,  2.87s/it]"
          ],
          "name": "stderr"
        },
        {
          "output_type": "display_data",
          "data": {
            "text/html": [
              "<font color = purple>Sci/tech (100%)</font> --> <font color = red>[FAILED]</font><br>IBM Chips May Someday Heal Themselves New technology applies electrical fuses to help identify and repair faults."
            ],
            "text/plain": [
              "<IPython.core.display.HTML object>"
            ]
          },
          "metadata": {
            "tags": []
          }
        },
        {
          "output_type": "stream",
          "text": [
            "[Succeeded / Failed / Total] 2 / 21 / 23:  92%|█████████▏| 23/25 [01:04<00:05,  2.79s/it]"
          ],
          "name": "stderr"
        },
        {
          "output_type": "display_data",
          "data": {
            "text/html": [
              "<font color = blue>Business (97%)</font> --> <font color = gray>[SKIPPED]</font><br>Some People Not Eligible to Get in on Google IPO Google has billed its IPO as a way for everyday people to get in on the process, denying Wall Street the usual stranglehold it's had on IPOs. Public bidding, a minimum of just five shares, an open process with 28 underwriters - all this pointed to a new level of public participation. But this isn't the case."
            ],
            "text/plain": [
              "<IPython.core.display.HTML object>"
            ]
          },
          "metadata": {
            "tags": []
          }
        },
        {
          "output_type": "stream",
          "text": [
            "\r[Succeeded / Failed / Total] 2 / 21 / 24:  96%|█████████▌| 24/25 [01:04<00:02,  2.68s/it]"
          ],
          "name": "stderr"
        },
        {
          "output_type": "display_data",
          "data": {
            "text/html": [
              "<font color = purple>Sci/tech (100%)</font> --> <font color = red>[FAILED]</font><br>Rivals Try to Turn Tables on Charles Schwab By MICHAEL LIEDTKE     SAN FRANCISCO (AP) -- With its low prices and iconoclastic attitude, discount stock broker Charles Schwab Corp. (SCH) represented an annoying stone in Wall Street's wing-tipped shoes for decades..."
            ],
            "text/plain": [
              "<IPython.core.display.HTML object>"
            ]
          },
          "metadata": {
            "tags": []
          }
        },
        {
          "output_type": "stream",
          "text": [
            "[Succeeded / Failed / Total] 2 / 22 / 25: 100%|██████████| 25/25 [01:06<00:00,  2.66s/it]"
          ],
          "name": "stderr"
        },
        {
          "output_type": "display_data",
          "data": {
            "text/html": [
              "<font color = purple>Sci/tech (100%)</font> --> <font color = red>[FAILED]</font><br>News: Sluggish movement on power grid cyber security Industry cyber security standards fail to reach some of the most vulnerable components of the power grid.\\"
            ],
            "text/plain": [
              "<IPython.core.display.HTML object>"
            ]
          },
          "metadata": {
            "tags": []
          }
        },
        {
          "output_type": "stream",
          "text": [
            "[Succeeded / Failed / Total] 2 / 23 / 26: : 26it [01:08,  2.62s/it]"
          ],
          "name": "stderr"
        },
        {
          "output_type": "stream",
          "text": [
            "+-------------------------------+--------+\n",
            "| Attack Results                |        |\n",
            "+-------------------------------+--------+\n",
            "| Number of successful attacks: | 2      |\n",
            "| Number of failed attacks:     | 23     |\n",
            "| Number of skipped attacks:    | 1      |\n",
            "| Original accuracy:            | 96.15% |\n",
            "| Accuracy under attack:        | 88.46% |\n",
            "| Attack success rate:          | 8.0%   |\n",
            "| Average perturbed word %:     | 16.15% |\n",
            "| Average num. words per input: | 45.54  |\n",
            "| Avg num queries:              | 64.72  |\n",
            "+-------------------------------+--------+"
          ],
          "name": "stdout"
        },
        {
          "output_type": "stream",
          "text": [
            "\n",
            "\u001b[34;1mtextattack\u001b[0m: Attack time: 68.0901427268982s\n"
          ],
          "name": "stderr"
        }
      ]
    },
    {
      "cell_type": "code",
      "metadata": {
        "colab": {
          "base_uri": "https://localhost:8080/"
        },
        "id": "qDpOZWJXPe_o",
        "outputId": "409b8f76-9da7-4477-f602-65eac15fd8ab"
      },
      "source": [
        "from textattack.search_methods import GreedyWordSwapWIR\n",
        "from textattack.constraints.grammaticality import PartOfSpeech\n",
        "from textattack.shared import Attack\n",
        "from textattack.goal_functions import UntargetedClassification\n",
        "from textattack.datasets import HuggingFaceDataset\n",
        "\n",
        "# We're going to use our word swap class as the attack transformation.\n",
        "transformation = Swapper__()\n",
        "\n",
        "constraints = [PartOfSpeech()]\n",
        "\n",
        "search_method = GreedyWordSwapWIR()\n",
        "\n",
        "goal_function = UntargetedClassification(model_wrapper)\n",
        "\n",
        "# Now, let's make the attack from the 4 components:\n",
        "attack = Attack(goal_function, constraints, transformation, search_method)\n",
        "\n",
        "dataset = HuggingFaceDataset(\"ag_news\", None, \"test\") # Change the dataset"
      ],
      "execution_count": 48,
      "outputs": [
        {
          "output_type": "stream",
          "text": [
            "\u001b[34;1mtextattack\u001b[0m: Unknown if model of class <class 'transformers.models.bert.modeling_bert.BertForSequenceClassification'> compatible with goal function <class 'textattack.goal_functions.classification.untargeted_classification.UntargetedClassification'>.\n",
            "Using custom data configuration default\n",
            "Reusing dataset ag_news (/root/.cache/huggingface/datasets/ag_news/default/0.0.0/0eeeaaa5fb6dffd81458e293dfea1adba2881ffcbdc3fb56baeb5a892566c29a)\n",
            "\u001b[34;1mtextattack\u001b[0m: Loading \u001b[94mdatasets\u001b[0m dataset \u001b[94mag_news\u001b[0m, split \u001b[94mtest\u001b[0m.\n"
          ],
          "name": "stderr"
        }
      ]
    },
    {
      "cell_type": "code",
      "metadata": {
        "colab": {
          "base_uri": "https://localhost:8080/"
        },
        "id": "ir08WYOBQmjK",
        "outputId": "a6188c8c-c9b3-448c-cc97-96e633c065e8"
      },
      "source": [
        "print(attack)"
      ],
      "execution_count": 49,
      "outputs": [
        {
          "output_type": "stream",
          "text": [
            "Attack(\n",
            "  (search_method): GreedyWordSwapWIR(\n",
            "    (wir_method):  unk\n",
            "  )\n",
            "  (goal_function):  UntargetedClassification\n",
            "  (transformation):  Swapper__\n",
            "  (constraints): \n",
            "    (0): PartOfSpeech(\n",
            "        (tagger_type):  nltk\n",
            "        (tagset):  universal\n",
            "        (allow_verb_noun_swap):  True\n",
            "        (compare_against_original):  True\n",
            "      )\n",
            "  (is_black_box):  True\n",
            ")\n"
          ],
          "name": "stdout"
        }
      ]
    },
    {
      "cell_type": "code",
      "metadata": {
        "colab": {
          "base_uri": "https://localhost:8080/",
          "height": 1000
        },
        "id": "R4Pio6_BQoS6",
        "outputId": "0794dcbd-1e43-42b6-ab88-b68904f0db28"
      },
      "source": [
        "printexample(attack)"
      ],
      "execution_count": 50,
      "outputs": [
        {
          "output_type": "stream",
          "text": [
            "\r  0%|          | 0/25 [00:00<?, ?it/s]"
          ],
          "name": "stderr"
        },
        {
          "output_type": "stream",
          "text": [
            "Attack(\n",
            "  (search_method): GreedyWordSwapWIR(\n",
            "    (wir_method):  unk\n",
            "  )\n",
            "  (goal_function):  UntargetedClassification\n",
            "  (transformation):  Swapper__\n",
            "  (constraints): \n",
            "    (0): PartOfSpeech(\n",
            "        (tagger_type):  nltk\n",
            "        (tagset):  universal\n",
            "        (allow_verb_noun_swap):  True\n",
            "        (compare_against_original):  True\n",
            "      )\n",
            "  (is_black_box):  True\n",
            ")\n"
          ],
          "name": "stdout"
        },
        {
          "output_type": "display_data",
          "data": {
            "text/html": [
              "<font color = blue>Business (100%)</font> --> <font color = red>[FAILED]</font><br>Fears for T N pension after talks Unions representing workers at Turner   Newall say they are 'disappointed' after talks with stricken parent firm Federal Mogul."
            ],
            "text/plain": [
              "<IPython.core.display.HTML object>"
            ]
          },
          "metadata": {
            "tags": []
          }
        },
        {
          "output_type": "stream",
          "text": [
            "[Succeeded / Failed / Total] 0 / 1 / 1:   4%|▍         | 1/25 [00:01<00:46,  1.94s/it]"
          ],
          "name": "stderr"
        },
        {
          "output_type": "display_data",
          "data": {
            "text/html": [
              "<font color = purple>Sci/tech (100%)</font> --> <font color = red>[FAILED]</font><br>The Race is On: Second Private Team Sets Launch Date for Human Spaceflight (SPACE.com) SPACE.com - TORONTO, Canada -- A second\\team of rocketeers competing for the  #36;10 million Ansari X Prize, a contest for\\privately funded suborbital space flight, has officially announced the first\\launch date for its manned rocket."
            ],
            "text/plain": [
              "<IPython.core.display.HTML object>"
            ]
          },
          "metadata": {
            "tags": []
          }
        },
        {
          "output_type": "stream",
          "text": [
            "[Succeeded / Failed / Total] 0 / 2 / 2:   8%|▊         | 2/25 [00:05<01:05,  2.85s/it]"
          ],
          "name": "stderr"
        },
        {
          "output_type": "display_data",
          "data": {
            "text/html": [
              "<font color = purple>Sci/tech (100%)</font> --> <font color = red>[FAILED]</font><br>Ky. Company Wins Grant to Study Peptides (AP) AP - A company founded by a chemistry researcher at the University of Louisville won a grant to develop a method of producing better peptides, which are short chains of amino acids, the building blocks of proteins."
            ],
            "text/plain": [
              "<IPython.core.display.HTML object>"
            ]
          },
          "metadata": {
            "tags": []
          }
        },
        {
          "output_type": "stream",
          "text": [
            "[Succeeded / Failed / Total] 0 / 3 / 3:  12%|█▏        | 3/25 [00:09<01:07,  3.08s/it]"
          ],
          "name": "stderr"
        },
        {
          "output_type": "display_data",
          "data": {
            "text/html": [
              "<font color = purple>Sci/tech (100%)</font> --> <font color = red>[FAILED]</font><br>Prediction Unit Helps Forecast Wildfires (AP) AP - It's barely dawn when Mike Fitzpatrick starts his shift with a blur of colorful maps, figures and endless charts, but already he knows what the day will bring. Lightning will strike in places he expects. Winds will pick up, moist places will dry and flames will roar."
            ],
            "text/plain": [
              "<IPython.core.display.HTML object>"
            ]
          },
          "metadata": {
            "tags": []
          }
        },
        {
          "output_type": "stream",
          "text": [
            "[Succeeded / Failed / Total] 0 / 4 / 4:  16%|█▌        | 4/25 [00:13<01:11,  3.41s/it]"
          ],
          "name": "stderr"
        },
        {
          "output_type": "display_data",
          "data": {
            "text/html": [
              "<font color = purple>Sci/tech (100%)</font> --> <font color = red>[FAILED]</font><br>Calif. Aims to Limit Farm-Related Smog (AP) AP - Southern California's smog-fighting agency went after emissions of the bovine variety Friday, adopting the nation's first rules to reduce air pollution from dairy cow manure."
            ],
            "text/plain": [
              "<IPython.core.display.HTML object>"
            ]
          },
          "metadata": {
            "tags": []
          }
        },
        {
          "output_type": "stream",
          "text": [
            "[Succeeded / Failed / Total] 0 / 5 / 5:  20%|██        | 5/25 [00:16<01:04,  3.20s/it]"
          ],
          "name": "stderr"
        },
        {
          "output_type": "display_data",
          "data": {
            "text/html": [
              "<font color = purple>Sci/tech (100%)</font> --> <font color = red>[FAILED]</font><br>Open Letter Against British Copyright Indoctrination in Schools The British Department for Education and Skills (DfES) recently launched a \"Music Manifesto\" campaign, with the ostensible intention of educating the next generation of British musicians. Unfortunately, they also teamed up with the music industry (EMI, and various artists) to make this popular. EMI has apparently negotiated their end well, so that children in our schools will now be indoctrinated about the illegality of downloading music.The ignorance and audacity of this got to me a little, so I wrote an open letter to the DfES about it. Unfortunately, it's pedantic, as I suppose you have to be when writing to goverment representatives. But I hope you find it useful, and perhaps feel inspired to do something similar, if or when the same thing has happened in your area."
            ],
            "text/plain": [
              "<IPython.core.display.HTML object>"
            ]
          },
          "metadata": {
            "tags": []
          }
        },
        {
          "output_type": "stream",
          "text": [
            "[Succeeded / Failed / Total] 0 / 6 / 6:  24%|██▍       | 6/25 [00:27<01:26,  4.53s/it]"
          ],
          "name": "stderr"
        },
        {
          "output_type": "display_data",
          "data": {
            "text/html": [
              "<font color = purple>Sci/tech (100%)</font> --> <font color = red>[FAILED]</font><br>Loosing the War on Terrorism \\\\\"Sven Jaschan, self-confessed author of the Netsky and Sasser viruses, is\\responsible for 70 percent of virus infections in 2004, according to a six-month\\virus roundup published Wednesday by antivirus company Sophos.\"\\\\\"The 18-year-old Jaschan was taken into custody in Germany in May by police who\\said he had admitted programming both the Netsky and Sasser worms, something\\experts at Microsoft confirmed. (A Microsoft antivirus reward program led to the\\teenager's arrest.) During the five months preceding Jaschan's capture, there\\were at least 25 variants of Netsky and one of the port-scanning network worm\\Sasser.\"\\\\\"Graham Cluley, senior technology consultant at Sophos, said it was staggeri ...\\\\"
            ],
            "text/plain": [
              "<IPython.core.display.HTML object>"
            ]
          },
          "metadata": {
            "tags": []
          }
        },
        {
          "output_type": "stream",
          "text": [
            "[Succeeded / Failed / Total] 0 / 7 / 7:  28%|██▊       | 7/25 [00:35<01:31,  5.09s/it]"
          ],
          "name": "stderr"
        },
        {
          "output_type": "display_data",
          "data": {
            "text/html": [
              "<font color = purple>Sci/tech (100%)</font> --> <font color = red>[FAILED]</font><br>FOAFKey: FOAF, PGP, Key Distribution, and Bloom Filters \\\\FOAF/LOAF  and bloom filters have a lot of interesting properties for social\\network and whitelist distribution.\\\\I think we can go one level higher though and include GPG/OpenPGP key\\fingerpring distribution in the FOAF file for simple web-of-trust based key\\distribution.\\\\What if we used FOAF and included the PGP key fingerprint(s) for identities?\\This could mean a lot.  You include the PGP key fingerprints within the FOAF\\file of your direct friends and then include a bloom filter of the PGP key\\fingerprints of your entire whitelist (the source FOAF file would of course need\\to be encrypted ).\\\\Your whitelist would be populated from the social network as your client\\discovered new identit ...\\\\"
            ],
            "text/plain": [
              "<IPython.core.display.HTML object>"
            ]
          },
          "metadata": {
            "tags": []
          }
        },
        {
          "output_type": "stream",
          "text": [
            "[Succeeded / Failed / Total] 0 / 8 / 8:  32%|███▏      | 8/25 [00:46<01:38,  5.79s/it]"
          ],
          "name": "stderr"
        },
        {
          "output_type": "display_data",
          "data": {
            "text/html": [
              "<font color = purple>Sci/tech (98%)</font> --> <font color = red>World (76%)</font><br>E-mail scam targets police chief Wiltshire Police warns about \"<font color = purple>phishing</font>\" after its <font color = purple>fraud</font> squad chief was <font color = purple>targeted</font>.<br>E-mail scam targets police chief Wiltshire Police warns about \"<font color = red>lollen</font>\" after its <font color = red>runoff</font> squad chief was <font color = red>massacred</font>."
            ],
            "text/plain": [
              "<IPython.core.display.HTML object>"
            ]
          },
          "metadata": {
            "tags": []
          }
        },
        {
          "output_type": "stream",
          "text": [
            "[Succeeded / Failed / Total] 1 / 8 / 9:  36%|███▌      | 9/25 [00:47<01:24,  5.26s/it]"
          ],
          "name": "stderr"
        },
        {
          "output_type": "display_data",
          "data": {
            "text/html": [
              "<font color = purple>Sci/tech (98%)</font> --> <font color = red>World (38%)</font><br>Card <font color = purple>fraud</font> unit <font color = purple>nets</font> 36,000 cards In its <font color = purple>first</font> two years, the UK's <font color = purple>dedicated</font> card <font color = purple>fraud</font> unit, has <font color = purple>recovered</font> 36,000 stolen cards and 171 <font color = purple>arrests</font> - and estimates it saved 65m.<br>Card <font color = red>runoff</font> unit <font color = red>recruits</font> 36,000 cards In its <font color = red>ahad</font> two years, the UK's <font color = red>devoted</font> card <font color = red>runoff</font> unit, has <font color = red>withdrawn</font> 36,000 stolen cards and 171 <font color = red>executions</font> - and estimates it saved 65m."
            ],
            "text/plain": [
              "<IPython.core.display.HTML object>"
            ]
          },
          "metadata": {
            "tags": []
          }
        },
        {
          "output_type": "stream",
          "text": [
            "[Succeeded / Failed / Total] 2 / 8 / 10:  40%|████      | 10/25 [00:49<01:13,  4.93s/it]"
          ],
          "name": "stderr"
        },
        {
          "output_type": "display_data",
          "data": {
            "text/html": [
              "<font color = purple>Sci/tech (100%)</font> --> <font color = red>[FAILED]</font><br>Group to Propose New High-Speed Wireless Format  LOS ANGELES (Reuters) - A group of technology companies  including Texas Instruments Inc. &lt;TXN.N&gt;, STMicroelectronics  &lt;STM.PA&gt; and Broadcom Corp. &lt;BRCM.O&gt;, on Thursday said they  will propose a new wireless networking standard up to 10 times  the speed of the current generation."
            ],
            "text/plain": [
              "<IPython.core.display.HTML object>"
            ]
          },
          "metadata": {
            "tags": []
          }
        },
        {
          "output_type": "stream",
          "text": [
            "[Succeeded / Failed / Total] 2 / 9 / 11:  44%|████▍     | 11/25 [00:53<01:07,  4.84s/it]"
          ],
          "name": "stderr"
        },
        {
          "output_type": "display_data",
          "data": {
            "text/html": [
              "<font color = purple>Sci/tech (100%)</font> --> <font color = red>[FAILED]</font><br>Apple Launches Graphics Software, Video Bundle  LOS ANGELES (Reuters) - Apple Computer Inc.&lt;AAPL.O&gt; on  Tuesday began shipping a new program designed to let users  create real-time motion graphics and unveiled a discount  video-editing software bundle featuring its flagship Final Cut  Pro software."
            ],
            "text/plain": [
              "<IPython.core.display.HTML object>"
            ]
          },
          "metadata": {
            "tags": []
          }
        },
        {
          "output_type": "stream",
          "text": [
            "[Succeeded / Failed / Total] 2 / 10 / 12:  48%|████▊     | 12/25 [00:56<01:01,  4.71s/it]"
          ],
          "name": "stderr"
        },
        {
          "output_type": "display_data",
          "data": {
            "text/html": [
              "<font color = purple>Sci/tech (100%)</font> --> <font color = red>[FAILED]</font><br>Dutch Retailer Beats Apple to Local Download Market  AMSTERDAM (Reuters) - Free Record Shop, a Dutch music  retail chain, beat Apple Computer Inc. to market on Tuesday  with the launch of a new download service in Europe's latest  battleground for digital song services."
            ],
            "text/plain": [
              "<IPython.core.display.HTML object>"
            ]
          },
          "metadata": {
            "tags": []
          }
        },
        {
          "output_type": "stream",
          "text": [
            "[Succeeded / Failed / Total] 2 / 11 / 13:  52%|█████▏    | 13/25 [00:59<00:54,  4.58s/it]"
          ],
          "name": "stderr"
        },
        {
          "output_type": "display_data",
          "data": {
            "text/html": [
              "<font color = purple>Sci/tech (99%)</font> --> <font color = red>[FAILED]</font><br>Super ant colony hits Australia A giant 100km colony of ants  which has been discovered in Melbourne, Australia, could threaten local insect species."
            ],
            "text/plain": [
              "<IPython.core.display.HTML object>"
            ]
          },
          "metadata": {
            "tags": []
          }
        },
        {
          "output_type": "stream",
          "text": [
            "[Succeeded / Failed / Total] 2 / 12 / 14:  56%|█████▌    | 14/25 [01:01<00:48,  4.39s/it]"
          ],
          "name": "stderr"
        },
        {
          "output_type": "display_data",
          "data": {
            "text/html": [
              "<font color = purple>Sci/tech (97%)</font> --> <font color = red>[FAILED]</font><br>Socialites unite dolphin groups Dolphin groups, or \"pods\", rely on socialites to keep them from collapsing, scientists claim."
            ],
            "text/plain": [
              "<IPython.core.display.HTML object>"
            ]
          },
          "metadata": {
            "tags": []
          }
        },
        {
          "output_type": "stream",
          "text": [
            "[Succeeded / Failed / Total] 2 / 13 / 15:  60%|██████    | 15/25 [01:03<00:42,  4.20s/it]"
          ],
          "name": "stderr"
        },
        {
          "output_type": "display_data",
          "data": {
            "text/html": [
              "<font color = purple>Sci/tech (100%)</font> --> <font color = red>[FAILED]</font><br>Teenage T. rex's monster growth Tyrannosaurus rex achieved its massive size due to an enormous growth spurt during its adolescent years."
            ],
            "text/plain": [
              "<IPython.core.display.HTML object>"
            ]
          },
          "metadata": {
            "tags": []
          }
        },
        {
          "output_type": "stream",
          "text": [
            "[Succeeded / Failed / Total] 2 / 14 / 16:  64%|██████▍   | 16/25 [01:04<00:36,  4.05s/it]"
          ],
          "name": "stderr"
        },
        {
          "output_type": "display_data",
          "data": {
            "text/html": [
              "<font color = purple>Sci/tech (100%)</font> --> <font color = red>[FAILED]</font><br>Scientists Discover Ganymede has a Lumpy Interior Jet Propulsion Lab -- Scientists have discovered irregular lumps beneath the icy surface of Jupiter's largest moon, Ganymede. These irregular masses may be rock formations, supported by Ganymede's icy shell for billions of years..."
            ],
            "text/plain": [
              "<IPython.core.display.HTML object>"
            ]
          },
          "metadata": {
            "tags": []
          }
        },
        {
          "output_type": "stream",
          "text": [
            "[Succeeded / Failed / Total] 2 / 15 / 17:  68%|██████▊   | 17/25 [01:08<00:32,  4.01s/it]"
          ],
          "name": "stderr"
        },
        {
          "output_type": "display_data",
          "data": {
            "text/html": [
              "<font color = purple>Sci/tech (100%)</font> --> <font color = red>[FAILED]</font><br>Mars Rovers Relay Images Through Mars Express European Space Agency -- ESAs Mars Express has relayed pictures from one of NASA's Mars rovers for the first time, as part of a set of interplanetary networking demonstrations.     The demonstrations pave the way for future Mars missions to draw on joint interplanetary networking capabilities..."
            ],
            "text/plain": [
              "<IPython.core.display.HTML object>"
            ]
          },
          "metadata": {
            "tags": []
          }
        },
        {
          "output_type": "stream",
          "text": [
            "[Succeeded / Failed / Total] 2 / 16 / 18:  72%|███████▏  | 18/25 [01:12<00:28,  4.01s/it]"
          ],
          "name": "stderr"
        },
        {
          "output_type": "display_data",
          "data": {
            "text/html": [
              "<font color = purple>Sci/tech (100%)</font> --> <font color = red>[FAILED]</font><br>Rocking the Cradle of Life When did life begin? One evidential clue stems from the fossil records in Western Australia, although whether these layered sediments are biological or chemical has spawned a spirited debate. Oxford researcher, Nicola McLoughlin, describes some of the issues in contention."
            ],
            "text/plain": [
              "<IPython.core.display.HTML object>"
            ]
          },
          "metadata": {
            "tags": []
          }
        },
        {
          "output_type": "stream",
          "text": [
            "[Succeeded / Failed / Total] 2 / 17 / 19:  76%|███████▌  | 19/25 [01:15<00:23,  3.99s/it]"
          ],
          "name": "stderr"
        },
        {
          "output_type": "display_data",
          "data": {
            "text/html": [
              "<font color = purple>Sci/tech (100%)</font> --> <font color = red>[FAILED]</font><br>Storage, servers bruise HP earnings update Earnings per share rise compared with a year ago, but company misses analysts' expectations by a long shot."
            ],
            "text/plain": [
              "<IPython.core.display.HTML object>"
            ]
          },
          "metadata": {
            "tags": []
          }
        },
        {
          "output_type": "stream",
          "text": [
            "[Succeeded / Failed / Total] 2 / 18 / 20:  80%|████████  | 20/25 [01:17<00:19,  3.90s/it]"
          ],
          "name": "stderr"
        },
        {
          "output_type": "display_data",
          "data": {
            "text/html": [
              "<font color = purple>Sci/tech (88%)</font> --> <font color = blue>Business (82%)</font><br>IBM to hire even more new workers By the <font color = purple>end</font> of the <font color = purple>year</font>, the computing giant <font color = purple>plans</font> to have its biggest headcount since 1991.<br>IBM to hire even more new workers By the <font color = blue>beginning</font> of the <font color = blue>winnemanoth</font>, the computing giant <font color = blue>proposals</font> to have its biggest headcount since 1991."
            ],
            "text/plain": [
              "<IPython.core.display.HTML object>"
            ]
          },
          "metadata": {
            "tags": []
          }
        },
        {
          "output_type": "stream",
          "text": [
            "[Succeeded / Failed / Total] 3 / 18 / 21:  84%|████████▍ | 21/25 [01:19<00:15,  3.77s/it]"
          ],
          "name": "stderr"
        },
        {
          "output_type": "display_data",
          "data": {
            "text/html": [
              "<font color = purple>Sci/tech (100%)</font> --> <font color = red>[FAILED]</font><br>Sun's Looking Glass Provides 3D View Developers get early code for new operating system 'skin' still being crafted."
            ],
            "text/plain": [
              "<IPython.core.display.HTML object>"
            ]
          },
          "metadata": {
            "tags": []
          }
        },
        {
          "output_type": "stream",
          "text": [
            "[Succeeded / Failed / Total] 3 / 19 / 22:  88%|████████▊ | 22/25 [01:20<00:10,  3.65s/it]"
          ],
          "name": "stderr"
        },
        {
          "output_type": "display_data",
          "data": {
            "text/html": [
              "<font color = purple>Sci/tech (100%)</font> --> <font color = red>[FAILED]</font><br>IBM Chips May Someday Heal Themselves New technology applies electrical fuses to help identify and repair faults."
            ],
            "text/plain": [
              "<IPython.core.display.HTML object>"
            ]
          },
          "metadata": {
            "tags": []
          }
        },
        {
          "output_type": "stream",
          "text": [
            "[Succeeded / Failed / Total] 3 / 20 / 23:  92%|█████████▏| 23/25 [01:21<00:07,  3.55s/it]"
          ],
          "name": "stderr"
        },
        {
          "output_type": "display_data",
          "data": {
            "text/html": [
              "<font color = blue>Business (97%)</font> --> <font color = gray>[SKIPPED]</font><br>Some People Not Eligible to Get in on Google IPO Google has billed its IPO as a way for everyday people to get in on the process, denying Wall Street the usual stranglehold it's had on IPOs. Public bidding, a minimum of just five shares, an open process with 28 underwriters - all this pointed to a new level of public participation. But this isn't the case."
            ],
            "text/plain": [
              "<IPython.core.display.HTML object>"
            ]
          },
          "metadata": {
            "tags": []
          }
        },
        {
          "output_type": "stream",
          "text": [
            "\r[Succeeded / Failed / Total] 3 / 20 / 24:  96%|█████████▌| 24/25 [01:21<00:03,  3.40s/it]"
          ],
          "name": "stderr"
        },
        {
          "output_type": "display_data",
          "data": {
            "text/html": [
              "<font color = purple>Sci/tech (100%)</font> --> <font color = red>[FAILED]</font><br>Rivals Try to Turn Tables on Charles Schwab By MICHAEL LIEDTKE     SAN FRANCISCO (AP) -- With its low prices and iconoclastic attitude, discount stock broker Charles Schwab Corp. (SCH) represented an annoying stone in Wall Street's wing-tipped shoes for decades..."
            ],
            "text/plain": [
              "<IPython.core.display.HTML object>"
            ]
          },
          "metadata": {
            "tags": []
          }
        },
        {
          "output_type": "stream",
          "text": [
            "[Succeeded / Failed / Total] 3 / 21 / 25: 100%|██████████| 25/25 [01:24<00:00,  3.36s/it]"
          ],
          "name": "stderr"
        },
        {
          "output_type": "display_data",
          "data": {
            "text/html": [
              "<font color = purple>Sci/tech (100%)</font> --> <font color = red>[FAILED]</font><br>News: Sluggish movement on power grid cyber security Industry cyber security standards fail to reach some of the most vulnerable components of the power grid.\\"
            ],
            "text/plain": [
              "<IPython.core.display.HTML object>"
            ]
          },
          "metadata": {
            "tags": []
          }
        },
        {
          "output_type": "stream",
          "text": [
            "[Succeeded / Failed / Total] 3 / 22 / 26: : 26it [01:26,  3.31s/it]"
          ],
          "name": "stderr"
        },
        {
          "output_type": "stream",
          "text": [
            "+-------------------------------+--------+\n",
            "| Attack Results                |        |\n",
            "+-------------------------------+--------+\n",
            "| Number of successful attacks: | 3      |\n",
            "| Number of failed attacks:     | 22     |\n",
            "| Number of skipped attacks:    | 1      |\n",
            "| Original accuracy:            | 96.15% |\n",
            "| Accuracy under attack:        | 84.62% |\n",
            "| Attack success rate:          | 12.0%  |\n",
            "| Average perturbed word %:     | 17.34% |\n",
            "| Average num. words per input: | 45.54  |\n",
            "| Avg num queries:              | 62.12  |\n",
            "+-------------------------------+--------+"
          ],
          "name": "stdout"
        },
        {
          "output_type": "stream",
          "text": [
            "\n",
            "\u001b[34;1mtextattack\u001b[0m: Attack time: 86.11663842201233s\n"
          ],
          "name": "stderr"
        }
      ]
    },
    {
      "cell_type": "code",
      "metadata": {
        "colab": {
          "base_uri": "https://localhost:8080/"
        },
        "id": "wr5Yq7uz1Kq9",
        "outputId": "054ee312-ae15-4748-9b45-d730fc5c7ada"
      },
      "source": [
        "from textattack.search_methods import ParticleSwarmOptimization\n",
        "from textattack.constraints.grammaticality import PartOfSpeech\n",
        "from textattack.shared import Attack\n",
        "from textattack.goal_functions import UntargetedClassification\n",
        "from textattack.datasets import HuggingFaceDataset\n",
        "\n",
        "# We're going to use our word swap class as the attack transformation.\n",
        "transformation = Swapper()\n",
        "\n",
        "constraints = [PartOfSpeech()]\n",
        "\n",
        "search_method = ParticleSwarmOptimization(pop_size=10,max_iters=5)\n",
        "\n",
        "goal_function = UntargetedClassification(model_wrapper)\n",
        "\n",
        "# Now, let's make the attack from the 4 components:\n",
        "attack = Attack(goal_function, constraints, transformation, search_method)\n",
        "\n",
        "dataset = HuggingFaceDataset(\"ag_news\", None, \"test\") # Change the dataset"
      ],
      "execution_count": 51,
      "outputs": [
        {
          "output_type": "stream",
          "text": [
            "\u001b[34;1mtextattack\u001b[0m: Unknown if model of class <class 'transformers.models.bert.modeling_bert.BertForSequenceClassification'> compatible with goal function <class 'textattack.goal_functions.classification.untargeted_classification.UntargetedClassification'>.\n",
            "Using custom data configuration default\n",
            "Reusing dataset ag_news (/root/.cache/huggingface/datasets/ag_news/default/0.0.0/0eeeaaa5fb6dffd81458e293dfea1adba2881ffcbdc3fb56baeb5a892566c29a)\n",
            "\u001b[34;1mtextattack\u001b[0m: Loading \u001b[94mdatasets\u001b[0m dataset \u001b[94mag_news\u001b[0m, split \u001b[94mtest\u001b[0m.\n"
          ],
          "name": "stderr"
        }
      ]
    },
    {
      "cell_type": "code",
      "metadata": {
        "colab": {
          "base_uri": "https://localhost:8080/"
        },
        "id": "XpkxiVj02xk-",
        "outputId": "04f3b4e8-0b81-4dbb-f800-13b10c595673"
      },
      "source": [
        "print(attack)"
      ],
      "execution_count": 52,
      "outputs": [
        {
          "output_type": "stream",
          "text": [
            "Attack(\n",
            "  (search_method): ParticleSwarmOptimization(\n",
            "    (pop_size):  10\n",
            "    (max_iters):  5\n",
            "    (post_turn_check):  True\n",
            "    (max_turn_retries):  20\n",
            "  )\n",
            "  (goal_function):  UntargetedClassification\n",
            "  (transformation):  Swapper\n",
            "  (constraints): \n",
            "    (0): PartOfSpeech(\n",
            "        (tagger_type):  nltk\n",
            "        (tagset):  universal\n",
            "        (allow_verb_noun_swap):  True\n",
            "        (compare_against_original):  True\n",
            "      )\n",
            "  (is_black_box):  True\n",
            ")\n"
          ],
          "name": "stdout"
        }
      ]
    },
    {
      "cell_type": "code",
      "metadata": {
        "colab": {
          "base_uri": "https://localhost:8080/",
          "height": 1000
        },
        "id": "LGbTuwOQ24BO",
        "outputId": "a7cc8631-bb9b-4373-e40b-7e42d9bf2850"
      },
      "source": [
        "printexample(attack)"
      ],
      "execution_count": 53,
      "outputs": [
        {
          "output_type": "stream",
          "text": [
            "\r  0%|          | 0/25 [00:00<?, ?it/s]"
          ],
          "name": "stderr"
        },
        {
          "output_type": "stream",
          "text": [
            "Attack(\n",
            "  (search_method): ParticleSwarmOptimization(\n",
            "    (pop_size):  10\n",
            "    (max_iters):  5\n",
            "    (post_turn_check):  True\n",
            "    (max_turn_retries):  20\n",
            "  )\n",
            "  (goal_function):  UntargetedClassification\n",
            "  (transformation):  Swapper\n",
            "  (constraints): \n",
            "    (0): PartOfSpeech(\n",
            "        (tagger_type):  nltk\n",
            "        (tagset):  universal\n",
            "        (allow_verb_noun_swap):  True\n",
            "        (compare_against_original):  True\n",
            "      )\n",
            "  (is_black_box):  True\n",
            ")\n"
          ],
          "name": "stdout"
        },
        {
          "output_type": "display_data",
          "data": {
            "text/html": [
              "<font color = blue>Business (100%)</font> --> <font color = purple>Sci/tech (59%)</font><br>Fears for T <font color = blue>N</font> pension after talks Unions representing workers at Turner   <font color = blue>Newall</font> say they are 'disappointed' after talks with stricken parent <font color = blue>firm</font> Federal Mogul.<br>Fears for T <font color = purple>SACK</font> pension after talks Unions representing workers at Turner   <font color = purple>Sewall</font> say they are 'disappointed' after talks with stricken parent <font color = purple>shareholder</font> Federal Mogul."
            ],
            "text/plain": [
              "<IPython.core.display.HTML object>"
            ]
          },
          "metadata": {
            "tags": []
          }
        },
        {
          "output_type": "stream",
          "text": [
            "[Succeeded / Failed / Total] 1 / 0 / 1:   4%|▍         | 1/25 [00:08<03:24,  8.53s/it]"
          ],
          "name": "stderr"
        },
        {
          "output_type": "display_data",
          "data": {
            "text/html": [
              "<font color = purple>Sci/tech (100%)</font> --> <font color = green>Sports (63%)</font><br>The Race is On: Second Private Team Sets <font color = purple>Launch</font> Date for Human Spaceflight (<font color = purple>SPACE</font>.com) <font color = purple>SPACE</font>.com - TORONTO, <font color = purple>Canada</font> -- A second\\<font color = purple>team</font> of rocketeers <font color = purple>competing</font> for the  #36;10 million Ansari X Prize, a <font color = purple>contest</font> for\\privately funded suborbital space flight, has officially <font color = purple>announced</font> the first\\launch date for <font color = purple>its</font> <font color = purple>manned</font> rocket.<br>The Race is On: Second Private Team Sets <font color = green>Peacecraft</font> Date for Human Spaceflight (<font color = green>PANTS</font>.com) <font color = green>PANTS</font>.com - TORONTO, <font color = green>Nada</font> -- A second\\<font color = green>nba</font> of rocketeers <font color = green>competition</font> for the  #36;10 million Ansari X Prize, a <font color = green>tournament</font> for\\privately funded suborbital space flight, has officially <font color = green>announces</font> the first\\launch date for <font color = green>their</font> <font color = green>fanned</font> rocket."
            ],
            "text/plain": [
              "<IPython.core.display.HTML object>"
            ]
          },
          "metadata": {
            "tags": []
          }
        },
        {
          "output_type": "stream",
          "text": [
            "[Succeeded / Failed / Total] 2 / 0 / 2:   8%|▊         | 2/25 [00:56<10:50, 28.28s/it]"
          ],
          "name": "stderr"
        },
        {
          "output_type": "display_data",
          "data": {
            "text/html": [
              "<font color = purple>Sci/tech (100%)</font> --> <font color = red>[FAILED]</font><br>Ky. Company Wins Grant to Study Peptides (AP) AP - A company founded by a chemistry researcher at the University of Louisville won a grant to develop a method of producing better peptides, which are short chains of amino acids, the building blocks of proteins."
            ],
            "text/plain": [
              "<IPython.core.display.HTML object>"
            ]
          },
          "metadata": {
            "tags": []
          }
        },
        {
          "output_type": "stream",
          "text": [
            "[Succeeded / Failed / Total] 2 / 1 / 3:  12%|█▏        | 3/25 [02:17<16:49, 45.90s/it]"
          ],
          "name": "stderr"
        },
        {
          "output_type": "display_data",
          "data": {
            "text/html": [
              "<font color = purple>Sci/tech (100%)</font> --> <font color = red>World (99%)</font><br><font color = purple>Prediction</font> Unit Helps <font color = purple>Forecast</font> <font color = purple>Wildfires</font> (AP) AP - It's barely dawn when Mike Fitzpatrick starts <font color = purple>his</font> shift with a blur of <font color = purple>colorful</font> maps, figures and endless charts, but already he knows what the day will bring. <font color = purple>Lightning</font> will strike in places <font color = purple>he</font> expects. Winds will pick up, moist places will dry and flames will roar.<br><font color = red>Indiction</font> Unit Helps <font color = red>Recast</font> <font color = red>Fires</font> (AP) AP - It's barely dawn when Mike Fitzpatrick starts <font color = red>her</font> shift with a blur of <font color = red>colourful</font> maps, figures and endless charts, but already he knows what the day will bring. <font color = red>Lightnin</font> will strike in places <font color = red>him</font> expects. Winds will pick up, moist places will dry and flames will roar."
            ],
            "text/plain": [
              "<IPython.core.display.HTML object>"
            ]
          },
          "metadata": {
            "tags": []
          }
        },
        {
          "output_type": "stream",
          "text": [
            "[Succeeded / Failed / Total] 3 / 1 / 4:  16%|█▌        | 4/25 [02:43<14:20, 40.97s/it]"
          ],
          "name": "stderr"
        },
        {
          "output_type": "display_data",
          "data": {
            "text/html": [
              "<font color = purple>Sci/tech (100%)</font> --> <font color = red>World (88%)</font><br><font color = purple>Calif</font>. Aims to Limit Farm-Related <font color = purple>Smog</font> (AP) AP - Southern California's <font color = purple>smog-fighting</font> agency <font color = purple>went</font> after <font color = purple>emissions</font> of the bovine variety Friday, adopting the nation's first <font color = purple>rules</font> to reduce air <font color = purple>pollution</font> from dairy cow manure.<br><font color = red>Alif</font>. Aims to Limit Farm-Related <font color = red>Fog</font> (AP) AP - Southern California's <font color = red>bullfighting</font> agency <font color = red>started</font> after <font color = red>absorption</font> of the bovine variety Friday, adopting the nation's first <font color = red>laws</font> to reduce air <font color = red>polluting</font> from dairy cow manure."
            ],
            "text/plain": [
              "<IPython.core.display.HTML object>"
            ]
          },
          "metadata": {
            "tags": []
          }
        },
        {
          "output_type": "stream",
          "text": [
            "[Succeeded / Failed / Total] 4 / 1 / 5:  20%|██        | 5/25 [03:32<14:10, 42.54s/it]"
          ],
          "name": "stderr"
        },
        {
          "output_type": "display_data",
          "data": {
            "text/html": [
              "<font color = purple>Sci/tech (100%)</font> --> <font color = red>[FAILED]</font><br>Open Letter Against British Copyright Indoctrination in Schools The British Department for Education and Skills (DfES) recently launched a \"Music Manifesto\" campaign, with the ostensible intention of educating the next generation of British musicians. Unfortunately, they also teamed up with the music industry (EMI, and various artists) to make this popular. EMI has apparently negotiated their end well, so that children in our schools will now be indoctrinated about the illegality of downloading music.The ignorance and audacity of this got to me a little, so I wrote an open letter to the DfES about it. Unfortunately, it's pedantic, as I suppose you have to be when writing to goverment representatives. But I hope you find it useful, and perhaps feel inspired to do something similar, if or when the same thing has happened in your area."
            ],
            "text/plain": [
              "<IPython.core.display.HTML object>"
            ]
          },
          "metadata": {
            "tags": []
          }
        },
        {
          "output_type": "stream",
          "text": [
            "[Succeeded / Failed / Total] 4 / 2 / 6:  24%|██▍       | 6/25 [07:57<25:12, 79.59s/it]"
          ],
          "name": "stderr"
        },
        {
          "output_type": "display_data",
          "data": {
            "text/html": [
              "<font color = purple>Sci/tech (100%)</font> --> <font color = red>[FAILED]</font><br>Loosing the War on Terrorism \\\\\"Sven Jaschan, self-confessed author of the Netsky and Sasser viruses, is\\responsible for 70 percent of virus infections in 2004, according to a six-month\\virus roundup published Wednesday by antivirus company Sophos.\"\\\\\"The 18-year-old Jaschan was taken into custody in Germany in May by police who\\said he had admitted programming both the Netsky and Sasser worms, something\\experts at Microsoft confirmed. (A Microsoft antivirus reward program led to the\\teenager's arrest.) During the five months preceding Jaschan's capture, there\\were at least 25 variants of Netsky and one of the port-scanning network worm\\Sasser.\"\\\\\"Graham Cluley, senior technology consultant at Sophos, said it was staggeri ...\\\\"
            ],
            "text/plain": [
              "<IPython.core.display.HTML object>"
            ]
          },
          "metadata": {
            "tags": []
          }
        },
        {
          "output_type": "stream",
          "text": [
            "[Succeeded / Failed / Total] 4 / 3 / 7:  28%|██▊       | 7/25 [11:41<30:03, 100.17s/it]"
          ],
          "name": "stderr"
        },
        {
          "output_type": "display_data",
          "data": {
            "text/html": [
              "<font color = purple>Sci/tech (100%)</font> --> <font color = red>[FAILED]</font><br>FOAFKey: FOAF, PGP, Key Distribution, and Bloom Filters \\\\FOAF/LOAF  and bloom filters have a lot of interesting properties for social\\network and whitelist distribution.\\\\I think we can go one level higher though and include GPG/OpenPGP key\\fingerpring distribution in the FOAF file for simple web-of-trust based key\\distribution.\\\\What if we used FOAF and included the PGP key fingerprint(s) for identities?\\This could mean a lot.  You include the PGP key fingerprints within the FOAF\\file of your direct friends and then include a bloom filter of the PGP key\\fingerprints of your entire whitelist (the source FOAF file would of course need\\to be encrypted ).\\\\Your whitelist would be populated from the social network as your client\\discovered new identit ...\\\\"
            ],
            "text/plain": [
              "<IPython.core.display.HTML object>"
            ]
          },
          "metadata": {
            "tags": []
          }
        },
        {
          "output_type": "stream",
          "text": [
            "[Succeeded / Failed / Total] 4 / 4 / 8:  32%|███▏      | 8/25 [15:14<32:23, 114.35s/it]"
          ],
          "name": "stderr"
        },
        {
          "output_type": "display_data",
          "data": {
            "text/html": [
              "<font color = purple>Sci/tech (98%)</font> --> <font color = red>World (92%)</font><br>E-mail scam targets police chief <font color = purple>Wiltshire</font> <font color = purple>Police</font> warns about \"<font color = purple>phishing</font>\" after <font color = purple>its</font> <font color = purple>fraud</font> squad <font color = purple>chief</font> was targeted.<br>E-mail scam targets police chief <font color = red>Ayrshire</font> <font color = red>Lice</font> warns about \"<font color = red>furnishing</font>\" after <font color = red>their</font> <font color = red>bribery</font> squad <font color = red>commander</font> was targeted."
            ],
            "text/plain": [
              "<IPython.core.display.HTML object>"
            ]
          },
          "metadata": {
            "tags": []
          }
        },
        {
          "output_type": "stream",
          "text": [
            "[Succeeded / Failed / Total] 5 / 4 / 9:  36%|███▌      | 9/25 [15:19<27:14, 102.15s/it]"
          ],
          "name": "stderr"
        },
        {
          "output_type": "display_data",
          "data": {
            "text/html": [
              "<font color = purple>Sci/tech (98%)</font> --> <font color = blue>Business (78%)</font><br><font color = purple>Card</font> fraud unit nets 36,000 cards In its first two years, the UK's <font color = purple>dedicated</font> card fraud unit, has recovered 36,000 stolen cards and 171 arrests - and estimates it saved 65m.<br><font color = blue>Ard</font> fraud unit nets 36,000 cards In its first two years, the UK's <font color = blue>dedicates</font> card fraud unit, has recovered 36,000 stolen cards and 171 arrests - and estimates it saved 65m."
            ],
            "text/plain": [
              "<IPython.core.display.HTML object>"
            ]
          },
          "metadata": {
            "tags": []
          }
        },
        {
          "output_type": "stream",
          "text": [
            "[Succeeded / Failed / Total] 6 / 4 / 10:  40%|████      | 10/25 [15:23<23:05, 92.40s/it]"
          ],
          "name": "stderr"
        },
        {
          "output_type": "display_data",
          "data": {
            "text/html": [
              "<font color = purple>Sci/tech (100%)</font> --> <font color = red>[FAILED]</font><br>Group to Propose New High-Speed Wireless Format  LOS ANGELES (Reuters) - A group of technology companies  including Texas Instruments Inc. &lt;TXN.N&gt;, STMicroelectronics  &lt;STM.PA&gt; and Broadcom Corp. &lt;BRCM.O&gt;, on Thursday said they  will propose a new wireless networking standard up to 10 times  the speed of the current generation."
            ],
            "text/plain": [
              "<IPython.core.display.HTML object>"
            ]
          },
          "metadata": {
            "tags": []
          }
        },
        {
          "output_type": "stream",
          "text": [
            "[Succeeded / Failed / Total] 6 / 5 / 11:  44%|████▍     | 11/25 [17:17<22:00, 94.31s/it]"
          ],
          "name": "stderr"
        },
        {
          "output_type": "display_data",
          "data": {
            "text/html": [
              "<font color = purple>Sci/tech (100%)</font> --> <font color = red>[FAILED]</font><br>Apple Launches Graphics Software, Video Bundle  LOS ANGELES (Reuters) - Apple Computer Inc.&lt;AAPL.O&gt; on  Tuesday began shipping a new program designed to let users  create real-time motion graphics and unveiled a discount  video-editing software bundle featuring its flagship Final Cut  Pro software."
            ],
            "text/plain": [
              "<IPython.core.display.HTML object>"
            ]
          },
          "metadata": {
            "tags": []
          }
        },
        {
          "output_type": "stream",
          "text": [
            "[Succeeded / Failed / Total] 6 / 6 / 12:  48%|████▊     | 12/25 [18:53<20:27, 94.44s/it]"
          ],
          "name": "stderr"
        },
        {
          "output_type": "display_data",
          "data": {
            "text/html": [
              "<font color = purple>Sci/tech (100%)</font> --> <font color = red>[FAILED]</font><br>Dutch Retailer Beats Apple to Local Download Market  AMSTERDAM (Reuters) - Free Record Shop, a Dutch music  retail chain, beat Apple Computer Inc. to market on Tuesday  with the launch of a new download service in Europe's latest  battleground for digital song services."
            ],
            "text/plain": [
              "<IPython.core.display.HTML object>"
            ]
          },
          "metadata": {
            "tags": []
          }
        },
        {
          "output_type": "stream",
          "text": [
            "[Succeeded / Failed / Total] 6 / 7 / 13:  52%|█████▏    | 13/25 [20:05<18:32, 92.73s/it]"
          ],
          "name": "stderr"
        },
        {
          "output_type": "display_data",
          "data": {
            "text/html": [
              "<font color = purple>Sci/tech (99%)</font> --> <font color = red>[FAILED]</font><br>Super ant colony hits Australia A giant 100km colony of ants  which has been discovered in Melbourne, Australia, could threaten local insect species."
            ],
            "text/plain": [
              "<IPython.core.display.HTML object>"
            ]
          },
          "metadata": {
            "tags": []
          }
        },
        {
          "output_type": "stream",
          "text": [
            "[Succeeded / Failed / Total] 6 / 8 / 14:  56%|█████▌    | 14/25 [20:34<16:09, 88.17s/it]"
          ],
          "name": "stderr"
        },
        {
          "output_type": "display_data",
          "data": {
            "text/html": [
              "<font color = purple>Sci/tech (97%)</font> --> <font color = red>[FAILED]</font><br>Socialites unite dolphin groups Dolphin groups, or \"pods\", rely on socialites to keep them from collapsing, scientists claim."
            ],
            "text/plain": [
              "<IPython.core.display.HTML object>"
            ]
          },
          "metadata": {
            "tags": []
          }
        },
        {
          "output_type": "stream",
          "text": [
            "[Succeeded / Failed / Total] 6 / 9 / 15:  60%|██████    | 15/25 [20:50<13:53, 83.40s/it]"
          ],
          "name": "stderr"
        },
        {
          "output_type": "display_data",
          "data": {
            "text/html": [
              "<font color = purple>Sci/tech (100%)</font> --> <font color = red>[FAILED]</font><br>Teenage T. rex's monster growth Tyrannosaurus rex achieved its massive size due to an enormous growth spurt during its adolescent years."
            ],
            "text/plain": [
              "<IPython.core.display.HTML object>"
            ]
          },
          "metadata": {
            "tags": []
          }
        },
        {
          "output_type": "stream",
          "text": [
            "[Succeeded / Failed / Total] 6 / 10 / 16:  64%|██████▍   | 16/25 [21:27<12:03, 80.44s/it]"
          ],
          "name": "stderr"
        },
        {
          "output_type": "display_data",
          "data": {
            "text/html": [
              "<font color = purple>Sci/tech (100%)</font> --> <font color = red>[FAILED]</font><br>Scientists Discover Ganymede has a Lumpy Interior Jet Propulsion Lab -- Scientists have discovered irregular lumps beneath the icy surface of Jupiter's largest moon, Ganymede. These irregular masses may be rock formations, supported by Ganymede's icy shell for billions of years..."
            ],
            "text/plain": [
              "<IPython.core.display.HTML object>"
            ]
          },
          "metadata": {
            "tags": []
          }
        },
        {
          "output_type": "stream",
          "text": [
            "[Succeeded / Failed / Total] 6 / 11 / 17:  68%|██████▊   | 17/25 [22:46<10:42, 80.36s/it]"
          ],
          "name": "stderr"
        },
        {
          "output_type": "display_data",
          "data": {
            "text/html": [
              "<font color = purple>Sci/tech (100%)</font> --> <font color = red>[FAILED]</font><br>Mars Rovers Relay Images Through Mars Express European Space Agency -- ESAs Mars Express has relayed pictures from one of NASA's Mars rovers for the first time, as part of a set of interplanetary networking demonstrations.     The demonstrations pave the way for future Mars missions to draw on joint interplanetary networking capabilities..."
            ],
            "text/plain": [
              "<IPython.core.display.HTML object>"
            ]
          },
          "metadata": {
            "tags": []
          }
        },
        {
          "output_type": "stream",
          "text": [
            "[Succeeded / Failed / Total] 6 / 12 / 18:  72%|███████▏  | 18/25 [24:14<09:25, 80.83s/it]"
          ],
          "name": "stderr"
        },
        {
          "output_type": "display_data",
          "data": {
            "text/html": [
              "<font color = purple>Sci/tech (100%)</font> --> <font color = red>[FAILED]</font><br>Rocking the Cradle of Life When did life begin? One evidential clue stems from the fossil records in Western Australia, although whether these layered sediments are biological or chemical has spawned a spirited debate. Oxford researcher, Nicola McLoughlin, describes some of the issues in contention."
            ],
            "text/plain": [
              "<IPython.core.display.HTML object>"
            ]
          },
          "metadata": {
            "tags": []
          }
        },
        {
          "output_type": "stream",
          "text": [
            "[Succeeded / Failed / Total] 6 / 13 / 19:  76%|███████▌  | 19/25 [25:30<08:03, 80.56s/it]"
          ],
          "name": "stderr"
        },
        {
          "output_type": "display_data",
          "data": {
            "text/html": [
              "<font color = purple>Sci/tech (100%)</font> --> <font color = blue>Business (100%)</font><br><font color = purple>Storage</font>, <font color = purple>servers</font> bruise <font color = purple>HP</font> earnings update Earnings per share rise compared with a year ago, but company misses analysts' <font color = purple>expectations</font> by a long shot.<br><font color = blue>Sewerage</font>, <font color = blue>clients</font> bruise <font color = blue>VALLEJO</font> earnings update Earnings per share rise compared with a year ago, but company misses analysts' <font color = blue>expectation</font> by a long shot."
            ],
            "text/plain": [
              "<IPython.core.display.HTML object>"
            ]
          },
          "metadata": {
            "tags": []
          }
        },
        {
          "output_type": "stream",
          "text": [
            "[Succeeded / Failed / Total] 7 / 13 / 20:  80%|████████  | 20/25 [25:52<06:28, 77.60s/it]"
          ],
          "name": "stderr"
        },
        {
          "output_type": "display_data",
          "data": {
            "text/html": [
              "<font color = purple>Sci/tech (88%)</font> --> <font color = blue>Business (73%)</font><br>IBM to hire even more <font color = purple>new</font> workers By the end of the year, the computing giant plans to have its biggest headcount since 1991.<br>IBM to hire even more <font color = blue>york</font> workers By the end of the year, the computing giant plans to have its biggest headcount since 1991."
            ],
            "text/plain": [
              "<IPython.core.display.HTML object>"
            ]
          },
          "metadata": {
            "tags": []
          }
        },
        {
          "output_type": "stream",
          "text": [
            "[Succeeded / Failed / Total] 8 / 13 / 21:  84%|████████▍ | 21/25 [25:52<04:55, 73.95s/it]"
          ],
          "name": "stderr"
        },
        {
          "output_type": "display_data",
          "data": {
            "text/html": [
              "<font color = purple>Sci/tech (100%)</font> --> <font color = red>[FAILED]</font><br>Sun's Looking Glass Provides 3D View Developers get early code for new operating system 'skin' still being crafted."
            ],
            "text/plain": [
              "<IPython.core.display.HTML object>"
            ]
          },
          "metadata": {
            "tags": []
          }
        },
        {
          "output_type": "stream",
          "text": [
            "[Succeeded / Failed / Total] 8 / 14 / 22:  88%|████████▊ | 22/25 [26:17<03:35, 71.68s/it]"
          ],
          "name": "stderr"
        },
        {
          "output_type": "display_data",
          "data": {
            "text/html": [
              "<font color = purple>Sci/tech (100%)</font> --> <font color = red>World (55%)</font><br><font color = purple>IBM</font> <font color = purple>Chips</font> May Someday Heal Themselves New technology applies electrical fuses to <font color = purple>help</font> identify and repair <font color = purple>faults</font>.<br><font color = red>REFRIGERANT</font> <font color = red>Hips</font> May Someday Heal Themselves New technology applies electrical fuses to <font color = red>assist</font> identify and repair <font color = red>faulty</font>."
            ],
            "text/plain": [
              "<IPython.core.display.HTML object>"
            ]
          },
          "metadata": {
            "tags": []
          }
        },
        {
          "output_type": "stream",
          "text": [
            "[Succeeded / Failed / Total] 9 / 14 / 23:  92%|█████████▏| 23/25 [26:25<02:17, 68.92s/it]"
          ],
          "name": "stderr"
        },
        {
          "output_type": "display_data",
          "data": {
            "text/html": [
              "<font color = blue>Business (97%)</font> --> <font color = gray>[SKIPPED]</font><br>Some People Not Eligible to Get in on Google IPO Google has billed its IPO as a way for everyday people to get in on the process, denying Wall Street the usual stranglehold it's had on IPOs. Public bidding, a minimum of just five shares, an open process with 28 underwriters - all this pointed to a new level of public participation. But this isn't the case."
            ],
            "text/plain": [
              "<IPython.core.display.HTML object>"
            ]
          },
          "metadata": {
            "tags": []
          }
        },
        {
          "output_type": "stream",
          "text": [
            "\r[Succeeded / Failed / Total] 9 / 14 / 24:  96%|█████████▌| 24/25 [26:25<01:06, 66.05s/it]"
          ],
          "name": "stderr"
        },
        {
          "output_type": "display_data",
          "data": {
            "text/html": [
              "<font color = purple>Sci/tech (100%)</font> --> <font color = blue>Business (98%)</font><br>Rivals Try to Turn Tables on Charles Schwab By <font color = purple>MICHAEL</font> LIEDTKE     SAN FRANCISCO (AP) -- With its low prices and iconoclastic attitude, discount stock broker Charles Schwab Corp. (SCH) represented an annoying stone in Wall Street's wing-tipped shoes for decades...<br>Rivals Try to Turn Tables on Charles Schwab By <font color = blue>PROTECTIONISM</font> LIEDTKE     SAN FRANCISCO (AP) -- With its low prices and iconoclastic attitude, discount stock broker Charles Schwab Corp. (SCH) represented an annoying stone in Wall Street's wing-tipped shoes for decades..."
            ],
            "text/plain": [
              "<IPython.core.display.HTML object>"
            ]
          },
          "metadata": {
            "tags": []
          }
        },
        {
          "output_type": "stream",
          "text": [
            "[Succeeded / Failed / Total] 10 / 14 / 25: 100%|██████████| 25/25 [26:39<00:00, 63.98s/it]"
          ],
          "name": "stderr"
        },
        {
          "output_type": "display_data",
          "data": {
            "text/html": [
              "<font color = purple>Sci/tech (100%)</font> --> <font color = red>[FAILED]</font><br>News: Sluggish movement on power grid cyber security Industry cyber security standards fail to reach some of the most vulnerable components of the power grid.\\"
            ],
            "text/plain": [
              "<IPython.core.display.HTML object>"
            ]
          },
          "metadata": {
            "tags": []
          }
        },
        {
          "output_type": "stream",
          "text": [
            "[Succeeded / Failed / Total] 10 / 15 / 26: : 26it [27:00, 62.34s/it]"
          ],
          "name": "stderr"
        },
        {
          "output_type": "stream",
          "text": [
            "+-------------------------------+---------+\n",
            "| Attack Results                |         |\n",
            "+-------------------------------+---------+\n",
            "| Number of successful attacks: | 10      |\n",
            "| Number of failed attacks:     | 15      |\n",
            "| Number of skipped attacks:    | 1       |\n",
            "| Original accuracy:            | 96.15%  |\n",
            "| Accuracy under attack:        | 57.69%  |\n",
            "| Attack success rate:          | 40.0%   |\n",
            "| Average perturbed word %:     | 15.39%  |\n",
            "| Average num. words per input: | 45.54   |\n",
            "| Avg num queries:              | 1340.72 |\n",
            "+-------------------------------+---------+"
          ],
          "name": "stdout"
        },
        {
          "output_type": "stream",
          "text": [
            "\n",
            "\u001b[34;1mtextattack\u001b[0m: Attack time: 1620.7315068244934s\n"
          ],
          "name": "stderr"
        }
      ]
    },
    {
      "cell_type": "code",
      "metadata": {
        "colab": {
          "base_uri": "https://localhost:8080/"
        },
        "id": "HRcvfqDK27ON",
        "outputId": "544e06aa-3dc8-44ff-8ae0-3143a171e018"
      },
      "source": [
        "from textattack.search_methods import ParticleSwarmOptimization\n",
        "from textattack.constraints.grammaticality import PartOfSpeech\n",
        "from textattack.shared import Attack\n",
        "from textattack.goal_functions import UntargetedClassification\n",
        "from textattack.datasets import HuggingFaceDataset\n",
        "\n",
        "# We're going to use our word swap class as the attack transformation.\n",
        "transformation = Swapper_()\n",
        "\n",
        "constraints = [PartOfSpeech()]\n",
        "\n",
        "search_method = ParticleSwarmOptimization(pop_size=10,max_iters=5)\n",
        "\n",
        "goal_function = UntargetedClassification(model_wrapper)\n",
        "\n",
        "# Now, let's make the attack from the 4 components:\n",
        "attack = Attack(goal_function, constraints, transformation, search_method)\n",
        "\n",
        "dataset = HuggingFaceDataset(\"ag_news\", None, \"test\") # Change the dataset"
      ],
      "execution_count": 54,
      "outputs": [
        {
          "output_type": "stream",
          "text": [
            "\u001b[34;1mtextattack\u001b[0m: Unknown if model of class <class 'transformers.models.bert.modeling_bert.BertForSequenceClassification'> compatible with goal function <class 'textattack.goal_functions.classification.untargeted_classification.UntargetedClassification'>.\n",
            "Using custom data configuration default\n",
            "Reusing dataset ag_news (/root/.cache/huggingface/datasets/ag_news/default/0.0.0/0eeeaaa5fb6dffd81458e293dfea1adba2881ffcbdc3fb56baeb5a892566c29a)\n",
            "\u001b[34;1mtextattack\u001b[0m: Loading \u001b[94mdatasets\u001b[0m dataset \u001b[94mag_news\u001b[0m, split \u001b[94mtest\u001b[0m.\n"
          ],
          "name": "stderr"
        }
      ]
    },
    {
      "cell_type": "code",
      "metadata": {
        "colab": {
          "base_uri": "https://localhost:8080/"
        },
        "id": "BjK9n6ac5NqI",
        "outputId": "ea1471dc-526b-41b0-a6d2-faf5e9aee52e"
      },
      "source": [
        "print(attack)"
      ],
      "execution_count": 55,
      "outputs": [
        {
          "output_type": "stream",
          "text": [
            "Attack(\n",
            "  (search_method): ParticleSwarmOptimization(\n",
            "    (pop_size):  10\n",
            "    (max_iters):  5\n",
            "    (post_turn_check):  True\n",
            "    (max_turn_retries):  20\n",
            "  )\n",
            "  (goal_function):  UntargetedClassification\n",
            "  (transformation):  Swapper_\n",
            "  (constraints): \n",
            "    (0): PartOfSpeech(\n",
            "        (tagger_type):  nltk\n",
            "        (tagset):  universal\n",
            "        (allow_verb_noun_swap):  True\n",
            "        (compare_against_original):  True\n",
            "      )\n",
            "  (is_black_box):  True\n",
            ")\n"
          ],
          "name": "stdout"
        }
      ]
    },
    {
      "cell_type": "code",
      "metadata": {
        "colab": {
          "base_uri": "https://localhost:8080/",
          "height": 1000
        },
        "id": "heD59UeC5Pgs",
        "outputId": "64665ccf-e061-4f47-b9ba-ae8607f86bc5"
      },
      "source": [
        "printexample(attack)"
      ],
      "execution_count": 56,
      "outputs": [
        {
          "output_type": "stream",
          "text": [
            "\r  0%|          | 0/25 [00:00<?, ?it/s]"
          ],
          "name": "stderr"
        },
        {
          "output_type": "stream",
          "text": [
            "Attack(\n",
            "  (search_method): ParticleSwarmOptimization(\n",
            "    (pop_size):  10\n",
            "    (max_iters):  5\n",
            "    (post_turn_check):  True\n",
            "    (max_turn_retries):  20\n",
            "  )\n",
            "  (goal_function):  UntargetedClassification\n",
            "  (transformation):  Swapper_\n",
            "  (constraints): \n",
            "    (0): PartOfSpeech(\n",
            "        (tagger_type):  nltk\n",
            "        (tagset):  universal\n",
            "        (allow_verb_noun_swap):  True\n",
            "        (compare_against_original):  True\n",
            "      )\n",
            "  (is_black_box):  True\n",
            ")\n"
          ],
          "name": "stdout"
        },
        {
          "output_type": "display_data",
          "data": {
            "text/html": [
              "<font color = blue>Business (100%)</font> --> <font color = red>[FAILED]</font><br>Fears for T N pension after talks Unions representing workers at Turner   Newall say they are 'disappointed' after talks with stricken parent firm Federal Mogul."
            ],
            "text/plain": [
              "<IPython.core.display.HTML object>"
            ]
          },
          "metadata": {
            "tags": []
          }
        },
        {
          "output_type": "stream",
          "text": [
            "[Succeeded / Failed / Total] 0 / 1 / 1:   4%|▍         | 1/25 [00:16<06:37, 16.57s/it]"
          ],
          "name": "stderr"
        },
        {
          "output_type": "display_data",
          "data": {
            "text/html": [
              "<font color = purple>Sci/tech (100%)</font> --> <font color = red>[FAILED]</font><br>The Race is On: Second Private Team Sets Launch Date for Human Spaceflight (SPACE.com) SPACE.com - TORONTO, Canada -- A second\\team of rocketeers competing for the  #36;10 million Ansari X Prize, a contest for\\privately funded suborbital space flight, has officially announced the first\\launch date for its manned rocket."
            ],
            "text/plain": [
              "<IPython.core.display.HTML object>"
            ]
          },
          "metadata": {
            "tags": []
          }
        },
        {
          "output_type": "stream",
          "text": [
            "[Succeeded / Failed / Total] 0 / 2 / 2:   8%|▊         | 2/25 [00:56<10:50, 28.30s/it]"
          ],
          "name": "stderr"
        },
        {
          "output_type": "display_data",
          "data": {
            "text/html": [
              "<font color = purple>Sci/tech (100%)</font> --> <font color = red>[FAILED]</font><br>Ky. Company Wins Grant to Study Peptides (AP) AP - A company founded by a chemistry researcher at the University of Louisville won a grant to develop a method of producing better peptides, which are short chains of amino acids, the building blocks of proteins."
            ],
            "text/plain": [
              "<IPython.core.display.HTML object>"
            ]
          },
          "metadata": {
            "tags": []
          }
        },
        {
          "output_type": "stream",
          "text": [
            "[Succeeded / Failed / Total] 0 / 3 / 3:  12%|█▏        | 3/25 [01:40<12:19, 33.61s/it]"
          ],
          "name": "stderr"
        },
        {
          "output_type": "display_data",
          "data": {
            "text/html": [
              "<font color = purple>Sci/tech (100%)</font> --> <font color = red>[FAILED]</font><br>Prediction Unit Helps Forecast Wildfires (AP) AP - It's barely dawn when Mike Fitzpatrick starts his shift with a blur of colorful maps, figures and endless charts, but already he knows what the day will bring. Lightning will strike in places he expects. Winds will pick up, moist places will dry and flames will roar."
            ],
            "text/plain": [
              "<IPython.core.display.HTML object>"
            ]
          },
          "metadata": {
            "tags": []
          }
        },
        {
          "output_type": "stream",
          "text": [
            "[Succeeded / Failed / Total] 0 / 4 / 4:  16%|█▌        | 4/25 [02:51<14:58, 42.79s/it]"
          ],
          "name": "stderr"
        },
        {
          "output_type": "display_data",
          "data": {
            "text/html": [
              "<font color = purple>Sci/tech (100%)</font> --> <font color = red>[FAILED]</font><br>Calif. Aims to Limit Farm-Related Smog (AP) AP - Southern California's smog-fighting agency went after emissions of the bovine variety Friday, adopting the nation's first rules to reduce air pollution from dairy cow manure."
            ],
            "text/plain": [
              "<IPython.core.display.HTML object>"
            ]
          },
          "metadata": {
            "tags": []
          }
        },
        {
          "output_type": "stream",
          "text": [
            "[Succeeded / Failed / Total] 0 / 5 / 5:  20%|██        | 5/25 [03:24<13:36, 40.82s/it]"
          ],
          "name": "stderr"
        },
        {
          "output_type": "display_data",
          "data": {
            "text/html": [
              "<font color = purple>Sci/tech (100%)</font> --> <font color = red>[FAILED]</font><br>Open Letter Against British Copyright Indoctrination in Schools The British Department for Education and Skills (DfES) recently launched a \"Music Manifesto\" campaign, with the ostensible intention of educating the next generation of British musicians. Unfortunately, they also teamed up with the music industry (EMI, and various artists) to make this popular. EMI has apparently negotiated their end well, so that children in our schools will now be indoctrinated about the illegality of downloading music.The ignorance and audacity of this got to me a little, so I wrote an open letter to the DfES about it. Unfortunately, it's pedantic, as I suppose you have to be when writing to goverment representatives. But I hope you find it useful, and perhaps feel inspired to do something similar, if or when the same thing has happened in your area."
            ],
            "text/plain": [
              "<IPython.core.display.HTML object>"
            ]
          },
          "metadata": {
            "tags": []
          }
        },
        {
          "output_type": "stream",
          "text": [
            "[Succeeded / Failed / Total] 0 / 6 / 6:  24%|██▍       | 6/25 [06:22<20:11, 63.79s/it]"
          ],
          "name": "stderr"
        },
        {
          "output_type": "display_data",
          "data": {
            "text/html": [
              "<font color = purple>Sci/tech (100%)</font> --> <font color = red>[FAILED]</font><br>Loosing the War on Terrorism \\\\\"Sven Jaschan, self-confessed author of the Netsky and Sasser viruses, is\\responsible for 70 percent of virus infections in 2004, according to a six-month\\virus roundup published Wednesday by antivirus company Sophos.\"\\\\\"The 18-year-old Jaschan was taken into custody in Germany in May by police who\\said he had admitted programming both the Netsky and Sasser worms, something\\experts at Microsoft confirmed. (A Microsoft antivirus reward program led to the\\teenager's arrest.) During the five months preceding Jaschan's capture, there\\were at least 25 variants of Netsky and one of the port-scanning network worm\\Sasser.\"\\\\\"Graham Cluley, senior technology consultant at Sophos, said it was staggeri ...\\\\"
            ],
            "text/plain": [
              "<IPython.core.display.HTML object>"
            ]
          },
          "metadata": {
            "tags": []
          }
        },
        {
          "output_type": "stream",
          "text": [
            "[Succeeded / Failed / Total] 0 / 7 / 7:  28%|██▊       | 7/25 [08:09<20:57, 69.87s/it]"
          ],
          "name": "stderr"
        },
        {
          "output_type": "display_data",
          "data": {
            "text/html": [
              "<font color = purple>Sci/tech (100%)</font> --> <font color = red>[FAILED]</font><br>FOAFKey: FOAF, PGP, Key Distribution, and Bloom Filters \\\\FOAF/LOAF  and bloom filters have a lot of interesting properties for social\\network and whitelist distribution.\\\\I think we can go one level higher though and include GPG/OpenPGP key\\fingerpring distribution in the FOAF file for simple web-of-trust based key\\distribution.\\\\What if we used FOAF and included the PGP key fingerprint(s) for identities?\\This could mean a lot.  You include the PGP key fingerprints within the FOAF\\file of your direct friends and then include a bloom filter of the PGP key\\fingerprints of your entire whitelist (the source FOAF file would of course need\\to be encrypted ).\\\\Your whitelist would be populated from the social network as your client\\discovered new identit ...\\\\"
            ],
            "text/plain": [
              "<IPython.core.display.HTML object>"
            ]
          },
          "metadata": {
            "tags": []
          }
        },
        {
          "output_type": "stream",
          "text": [
            "[Succeeded / Failed / Total] 0 / 8 / 8:  32%|███▏      | 8/25 [10:32<22:23, 79.06s/it]"
          ],
          "name": "stderr"
        },
        {
          "output_type": "display_data",
          "data": {
            "text/html": [
              "<font color = purple>Sci/tech (98%)</font> --> <font color = red>[FAILED]</font><br>E-mail scam targets police chief Wiltshire Police warns about \"phishing\" after its fraud squad chief was targeted."
            ],
            "text/plain": [
              "<IPython.core.display.HTML object>"
            ]
          },
          "metadata": {
            "tags": []
          }
        },
        {
          "output_type": "stream",
          "text": [
            "[Succeeded / Failed / Total] 0 / 9 / 9:  36%|███▌      | 9/25 [10:44<19:05, 71.58s/it]"
          ],
          "name": "stderr"
        },
        {
          "output_type": "display_data",
          "data": {
            "text/html": [
              "<font color = purple>Sci/tech (98%)</font> --> <font color = red>World (52%)</font><br>Card <font color = purple>fraud</font> unit nets 36,000 cards In its first two <font color = purple>years</font>, the UK's dedicated card <font color = purple>fraud</font> unit, has recovered 36,000 stolen cards and 171 arrests - and estimates it saved 65m.<br>Card <font color = red>bribery</font> unit nets 36,000 cards In its first two <font color = red>decades</font>, the UK's dedicated card <font color = red>racketeering</font> unit, has recovered 36,000 stolen cards and 171 arrests - and estimates it saved 65m."
            ],
            "text/plain": [
              "<IPython.core.display.HTML object>"
            ]
          },
          "metadata": {
            "tags": []
          }
        },
        {
          "output_type": "stream",
          "text": [
            "[Succeeded / Failed / Total] 1 / 9 / 10:  40%|████      | 10/25 [10:49<16:14, 64.99s/it]"
          ],
          "name": "stderr"
        },
        {
          "output_type": "display_data",
          "data": {
            "text/html": [
              "<font color = purple>Sci/tech (100%)</font> --> <font color = red>[FAILED]</font><br>Group to Propose New High-Speed Wireless Format  LOS ANGELES (Reuters) - A group of technology companies  including Texas Instruments Inc. &lt;TXN.N&gt;, STMicroelectronics  &lt;STM.PA&gt; and Broadcom Corp. &lt;BRCM.O&gt;, on Thursday said they  will propose a new wireless networking standard up to 10 times  the speed of the current generation."
            ],
            "text/plain": [
              "<IPython.core.display.HTML object>"
            ]
          },
          "metadata": {
            "tags": []
          }
        },
        {
          "output_type": "stream",
          "text": [
            "[Succeeded / Failed / Total] 1 / 10 / 11:  44%|████▍     | 11/25 [11:42<14:54, 63.88s/it]"
          ],
          "name": "stderr"
        },
        {
          "output_type": "display_data",
          "data": {
            "text/html": [
              "<font color = purple>Sci/tech (100%)</font> --> <font color = red>[FAILED]</font><br>Apple Launches Graphics Software, Video Bundle  LOS ANGELES (Reuters) - Apple Computer Inc.&lt;AAPL.O&gt; on  Tuesday began shipping a new program designed to let users  create real-time motion graphics and unveiled a discount  video-editing software bundle featuring its flagship Final Cut  Pro software."
            ],
            "text/plain": [
              "<IPython.core.display.HTML object>"
            ]
          },
          "metadata": {
            "tags": []
          }
        },
        {
          "output_type": "stream",
          "text": [
            "[Succeeded / Failed / Total] 1 / 11 / 12:  48%|████▊     | 12/25 [12:26<13:28, 62.17s/it]"
          ],
          "name": "stderr"
        },
        {
          "output_type": "display_data",
          "data": {
            "text/html": [
              "<font color = purple>Sci/tech (100%)</font> --> <font color = red>[FAILED]</font><br>Dutch Retailer Beats Apple to Local Download Market  AMSTERDAM (Reuters) - Free Record Shop, a Dutch music  retail chain, beat Apple Computer Inc. to market on Tuesday  with the launch of a new download service in Europe's latest  battleground for digital song services."
            ],
            "text/plain": [
              "<IPython.core.display.HTML object>"
            ]
          },
          "metadata": {
            "tags": []
          }
        },
        {
          "output_type": "stream",
          "text": [
            "[Succeeded / Failed / Total] 1 / 12 / 13:  52%|█████▏    | 13/25 [12:57<11:57, 59.82s/it]"
          ],
          "name": "stderr"
        },
        {
          "output_type": "display_data",
          "data": {
            "text/html": [
              "<font color = purple>Sci/tech (99%)</font> --> <font color = red>[FAILED]</font><br>Super ant colony hits Australia A giant 100km colony of ants  which has been discovered in Melbourne, Australia, could threaten local insect species."
            ],
            "text/plain": [
              "<IPython.core.display.HTML object>"
            ]
          },
          "metadata": {
            "tags": []
          }
        },
        {
          "output_type": "stream",
          "text": [
            "[Succeeded / Failed / Total] 1 / 13 / 14:  56%|█████▌    | 14/25 [13:18<10:27, 57.07s/it]"
          ],
          "name": "stderr"
        },
        {
          "output_type": "display_data",
          "data": {
            "text/html": [
              "<font color = purple>Sci/tech (97%)</font> --> <font color = red>[FAILED]</font><br>Socialites unite dolphin groups Dolphin groups, or \"pods\", rely on socialites to keep them from collapsing, scientists claim."
            ],
            "text/plain": [
              "<IPython.core.display.HTML object>"
            ]
          },
          "metadata": {
            "tags": []
          }
        },
        {
          "output_type": "stream",
          "text": [
            "[Succeeded / Failed / Total] 1 / 14 / 15:  60%|██████    | 15/25 [13:36<09:04, 54.45s/it]"
          ],
          "name": "stderr"
        },
        {
          "output_type": "display_data",
          "data": {
            "text/html": [
              "<font color = purple>Sci/tech (100%)</font> --> <font color = red>[FAILED]</font><br>Teenage T. rex's monster growth Tyrannosaurus rex achieved its massive size due to an enormous growth spurt during its adolescent years."
            ],
            "text/plain": [
              "<IPython.core.display.HTML object>"
            ]
          },
          "metadata": {
            "tags": []
          }
        },
        {
          "output_type": "stream",
          "text": [
            "[Succeeded / Failed / Total] 1 / 15 / 16:  64%|██████▍   | 16/25 [14:09<07:57, 53.09s/it]"
          ],
          "name": "stderr"
        },
        {
          "output_type": "display_data",
          "data": {
            "text/html": [
              "<font color = purple>Sci/tech (100%)</font> --> <font color = red>[FAILED]</font><br>Scientists Discover Ganymede has a Lumpy Interior Jet Propulsion Lab -- Scientists have discovered irregular lumps beneath the icy surface of Jupiter's largest moon, Ganymede. These irregular masses may be rock formations, supported by Ganymede's icy shell for billions of years..."
            ],
            "text/plain": [
              "<IPython.core.display.HTML object>"
            ]
          },
          "metadata": {
            "tags": []
          }
        },
        {
          "output_type": "stream",
          "text": [
            "[Succeeded / Failed / Total] 1 / 16 / 17:  68%|██████▊   | 17/25 [14:49<06:58, 52.33s/it]"
          ],
          "name": "stderr"
        },
        {
          "output_type": "display_data",
          "data": {
            "text/html": [
              "<font color = purple>Sci/tech (100%)</font> --> <font color = red>[FAILED]</font><br>Mars Rovers Relay Images Through Mars Express European Space Agency -- ESAs Mars Express has relayed pictures from one of NASA's Mars rovers for the first time, as part of a set of interplanetary networking demonstrations.     The demonstrations pave the way for future Mars missions to draw on joint interplanetary networking capabilities..."
            ],
            "text/plain": [
              "<IPython.core.display.HTML object>"
            ]
          },
          "metadata": {
            "tags": []
          }
        },
        {
          "output_type": "stream",
          "text": [
            "[Succeeded / Failed / Total] 1 / 17 / 18:  72%|███████▏  | 18/25 [15:27<06:00, 51.55s/it]"
          ],
          "name": "stderr"
        },
        {
          "output_type": "display_data",
          "data": {
            "text/html": [
              "<font color = purple>Sci/tech (100%)</font> --> <font color = red>[FAILED]</font><br>Rocking the Cradle of Life When did life begin? One evidential clue stems from the fossil records in Western Australia, although whether these layered sediments are biological or chemical has spawned a spirited debate. Oxford researcher, Nicola McLoughlin, describes some of the issues in contention."
            ],
            "text/plain": [
              "<IPython.core.display.HTML object>"
            ]
          },
          "metadata": {
            "tags": []
          }
        },
        {
          "output_type": "stream",
          "text": [
            "[Succeeded / Failed / Total] 1 / 18 / 19:  76%|███████▌  | 19/25 [16:23<05:10, 51.77s/it]"
          ],
          "name": "stderr"
        },
        {
          "output_type": "display_data",
          "data": {
            "text/html": [
              "<font color = purple>Sci/tech (100%)</font> --> <font color = red>[FAILED]</font><br>Storage, servers bruise HP earnings update Earnings per share rise compared with a year ago, but company misses analysts' expectations by a long shot."
            ],
            "text/plain": [
              "<IPython.core.display.HTML object>"
            ]
          },
          "metadata": {
            "tags": []
          }
        },
        {
          "output_type": "stream",
          "text": [
            "[Succeeded / Failed / Total] 1 / 19 / 20:  80%|████████  | 20/25 [16:46<04:11, 50.31s/it]"
          ],
          "name": "stderr"
        },
        {
          "output_type": "display_data",
          "data": {
            "text/html": [
              "<font color = purple>Sci/tech (88%)</font> --> <font color = blue>Business (73%)</font><br>IBM to hire even more <font color = purple>new</font> workers By the end of the year, the computing giant plans to have its biggest headcount since 1991.<br>IBM to hire even more <font color = blue>york</font> workers By the end of the year, the computing giant plans to have its biggest headcount since 1991."
            ],
            "text/plain": [
              "<IPython.core.display.HTML object>"
            ]
          },
          "metadata": {
            "tags": []
          }
        },
        {
          "output_type": "stream",
          "text": [
            "[Succeeded / Failed / Total] 2 / 19 / 21:  84%|████████▍ | 21/25 [16:46<03:11, 47.94s/it]"
          ],
          "name": "stderr"
        },
        {
          "output_type": "display_data",
          "data": {
            "text/html": [
              "<font color = purple>Sci/tech (100%)</font> --> <font color = red>[FAILED]</font><br>Sun's Looking Glass Provides 3D View Developers get early code for new operating system 'skin' still being crafted."
            ],
            "text/plain": [
              "<IPython.core.display.HTML object>"
            ]
          },
          "metadata": {
            "tags": []
          }
        },
        {
          "output_type": "stream",
          "text": [
            "[Succeeded / Failed / Total] 2 / 20 / 22:  88%|████████▊ | 22/25 [16:54<02:18, 46.11s/it]"
          ],
          "name": "stderr"
        },
        {
          "output_type": "display_data",
          "data": {
            "text/html": [
              "<font color = purple>Sci/tech (100%)</font> --> <font color = red>[FAILED]</font><br>IBM Chips May Someday Heal Themselves New technology applies electrical fuses to help identify and repair faults."
            ],
            "text/plain": [
              "<IPython.core.display.HTML object>"
            ]
          },
          "metadata": {
            "tags": []
          }
        },
        {
          "output_type": "stream",
          "text": [
            "[Succeeded / Failed / Total] 2 / 21 / 23:  92%|█████████▏| 23/25 [17:04<01:29, 44.56s/it]"
          ],
          "name": "stderr"
        },
        {
          "output_type": "display_data",
          "data": {
            "text/html": [
              "<font color = blue>Business (97%)</font> --> <font color = gray>[SKIPPED]</font><br>Some People Not Eligible to Get in on Google IPO Google has billed its IPO as a way for everyday people to get in on the process, denying Wall Street the usual stranglehold it's had on IPOs. Public bidding, a minimum of just five shares, an open process with 28 underwriters - all this pointed to a new level of public participation. But this isn't the case."
            ],
            "text/plain": [
              "<IPython.core.display.HTML object>"
            ]
          },
          "metadata": {
            "tags": []
          }
        },
        {
          "output_type": "stream",
          "text": [
            "\r[Succeeded / Failed / Total] 2 / 21 / 24:  96%|█████████▌| 24/25 [17:04<00:42, 42.71s/it]"
          ],
          "name": "stderr"
        },
        {
          "output_type": "display_data",
          "data": {
            "text/html": [
              "<font color = purple>Sci/tech (100%)</font> --> <font color = red>[FAILED]</font><br>Rivals Try to Turn Tables on Charles Schwab By MICHAEL LIEDTKE     SAN FRANCISCO (AP) -- With its low prices and iconoclastic attitude, discount stock broker Charles Schwab Corp. (SCH) represented an annoying stone in Wall Street's wing-tipped shoes for decades..."
            ],
            "text/plain": [
              "<IPython.core.display.HTML object>"
            ]
          },
          "metadata": {
            "tags": []
          }
        },
        {
          "output_type": "stream",
          "text": [
            "[Succeeded / Failed / Total] 2 / 22 / 25: 100%|██████████| 25/25 [17:35<00:00, 42.23s/it]"
          ],
          "name": "stderr"
        },
        {
          "output_type": "display_data",
          "data": {
            "text/html": [
              "<font color = purple>Sci/tech (100%)</font> --> <font color = red>[FAILED]</font><br>News: Sluggish movement on power grid cyber security Industry cyber security standards fail to reach some of the most vulnerable components of the power grid.\\"
            ],
            "text/plain": [
              "<IPython.core.display.HTML object>"
            ]
          },
          "metadata": {
            "tags": []
          }
        },
        {
          "output_type": "stream",
          "text": [
            "[Succeeded / Failed / Total] 2 / 23 / 26: : 26it [17:54, 41.32s/it]"
          ],
          "name": "stderr"
        },
        {
          "output_type": "stream",
          "text": [
            "+-------------------------------+--------+\n",
            "| Attack Results                |        |\n",
            "+-------------------------------+--------+\n",
            "| Number of successful attacks: | 2      |\n",
            "| Number of failed attacks:     | 23     |\n",
            "| Number of skipped attacks:    | 1      |\n",
            "| Original accuracy:            | 96.15% |\n",
            "| Accuracy under attack:        | 88.46% |\n",
            "| Attack success rate:          | 8.0%   |\n",
            "| Average perturbed word %:     | 6.77%  |\n",
            "| Average num. words per input: | 45.54  |\n",
            "| Avg num queries:              | 943.36 |\n",
            "+-------------------------------+--------+"
          ],
          "name": "stdout"
        },
        {
          "output_type": "stream",
          "text": [
            "\n",
            "\u001b[34;1mtextattack\u001b[0m: Attack time: 1074.3697218894958s\n"
          ],
          "name": "stderr"
        }
      ]
    },
    {
      "cell_type": "code",
      "metadata": {
        "colab": {
          "base_uri": "https://localhost:8080/"
        },
        "id": "O7zg-_zFQwyV",
        "outputId": "a0f4da8b-bb72-4305-f35c-87175c9260a2"
      },
      "source": [
        "from textattack.search_methods import ParticleSwarmOptimization\n",
        "from textattack.constraints.grammaticality import PartOfSpeech\n",
        "from textattack.shared import Attack\n",
        "from textattack.goal_functions import UntargetedClassification\n",
        "from textattack.datasets import HuggingFaceDataset\n",
        "\n",
        "# We're going to use our word swap class as the attack transformation.\n",
        "transformation = Swapper__()\n",
        "\n",
        "constraints = [PartOfSpeech()]\n",
        "\n",
        "search_method = ParticleSwarmOptimization(pop_size=10,max_iters=5)\n",
        "\n",
        "goal_function = UntargetedClassification(model_wrapper)\n",
        "\n",
        "# Now, let's make the attack from the 4 components:\n",
        "attack = Attack(goal_function, constraints, transformation, search_method)\n",
        "\n",
        "dataset = HuggingFaceDataset(\"ag_news\", None, \"test\") # Change the dataset"
      ],
      "execution_count": 57,
      "outputs": [
        {
          "output_type": "stream",
          "text": [
            "\u001b[34;1mtextattack\u001b[0m: Unknown if model of class <class 'transformers.models.bert.modeling_bert.BertForSequenceClassification'> compatible with goal function <class 'textattack.goal_functions.classification.untargeted_classification.UntargetedClassification'>.\n",
            "Using custom data configuration default\n",
            "Reusing dataset ag_news (/root/.cache/huggingface/datasets/ag_news/default/0.0.0/0eeeaaa5fb6dffd81458e293dfea1adba2881ffcbdc3fb56baeb5a892566c29a)\n",
            "\u001b[34;1mtextattack\u001b[0m: Loading \u001b[94mdatasets\u001b[0m dataset \u001b[94mag_news\u001b[0m, split \u001b[94mtest\u001b[0m.\n"
          ],
          "name": "stderr"
        }
      ]
    },
    {
      "cell_type": "code",
      "metadata": {
        "colab": {
          "base_uri": "https://localhost:8080/"
        },
        "id": "PKAKnXjcQzEL",
        "outputId": "96e24051-0d72-4acf-e3d3-549d26693efa"
      },
      "source": [
        "print(attack)"
      ],
      "execution_count": 58,
      "outputs": [
        {
          "output_type": "stream",
          "text": [
            "Attack(\n",
            "  (search_method): ParticleSwarmOptimization(\n",
            "    (pop_size):  10\n",
            "    (max_iters):  5\n",
            "    (post_turn_check):  True\n",
            "    (max_turn_retries):  20\n",
            "  )\n",
            "  (goal_function):  UntargetedClassification\n",
            "  (transformation):  Swapper__\n",
            "  (constraints): \n",
            "    (0): PartOfSpeech(\n",
            "        (tagger_type):  nltk\n",
            "        (tagset):  universal\n",
            "        (allow_verb_noun_swap):  True\n",
            "        (compare_against_original):  True\n",
            "      )\n",
            "  (is_black_box):  True\n",
            ")\n"
          ],
          "name": "stdout"
        }
      ]
    },
    {
      "cell_type": "code",
      "metadata": {
        "colab": {
          "base_uri": "https://localhost:8080/",
          "height": 1000
        },
        "id": "1ORBY3voQ1TT",
        "outputId": "edc65718-30b0-4665-d777-26e74ca794f8"
      },
      "source": [
        "printexample(attack)"
      ],
      "execution_count": 59,
      "outputs": [
        {
          "output_type": "stream",
          "text": [
            "\r  0%|          | 0/25 [00:00<?, ?it/s]"
          ],
          "name": "stderr"
        },
        {
          "output_type": "stream",
          "text": [
            "Attack(\n",
            "  (search_method): ParticleSwarmOptimization(\n",
            "    (pop_size):  10\n",
            "    (max_iters):  5\n",
            "    (post_turn_check):  True\n",
            "    (max_turn_retries):  20\n",
            "  )\n",
            "  (goal_function):  UntargetedClassification\n",
            "  (transformation):  Swapper__\n",
            "  (constraints): \n",
            "    (0): PartOfSpeech(\n",
            "        (tagger_type):  nltk\n",
            "        (tagset):  universal\n",
            "        (allow_verb_noun_swap):  True\n",
            "        (compare_against_original):  True\n",
            "      )\n",
            "  (is_black_box):  True\n",
            ")\n"
          ],
          "name": "stdout"
        },
        {
          "output_type": "display_data",
          "data": {
            "text/html": [
              "<font color = blue>Business (100%)</font> --> <font color = red>World (100%)</font><br>Fears for T N <font color = blue>pension</font> after <font color = blue>talks</font> Unions representing <font color = blue>workers</font> at Turner   Newall <font color = blue>say</font> they are 'disappointed' after talks with <font color = blue>stricken</font> parent <font color = blue>firm</font> Federal Mogul.<br>Fears for T N <font color = red>funding</font> after <font color = red>peace</font> Unions representing <font color = red>labour</font> at Turner   Newall <font color = red>saesneg</font> they are 'disappointed' after talks with <font color = red>whigs</font> parent <font color = red>services</font> Federal Mogul."
            ],
            "text/plain": [
              "<IPython.core.display.HTML object>"
            ]
          },
          "metadata": {
            "tags": []
          }
        },
        {
          "output_type": "stream",
          "text": [
            "[Succeeded / Failed / Total] 1 / 0 / 1:   4%|▍         | 1/25 [00:31<12:25, 31.06s/it]"
          ],
          "name": "stderr"
        },
        {
          "output_type": "display_data",
          "data": {
            "text/html": [
              "<font color = purple>Sci/tech (100%)</font> --> <font color = red>[FAILED]</font><br>The Race is On: Second Private Team Sets Launch Date for Human Spaceflight (SPACE.com) SPACE.com - TORONTO, Canada -- A second\\team of rocketeers competing for the  #36;10 million Ansari X Prize, a contest for\\privately funded suborbital space flight, has officially announced the first\\launch date for its manned rocket."
            ],
            "text/plain": [
              "<IPython.core.display.HTML object>"
            ]
          },
          "metadata": {
            "tags": []
          }
        },
        {
          "output_type": "stream",
          "text": [
            "[Succeeded / Failed / Total] 1 / 1 / 2:   8%|▊         | 2/25 [01:41<19:32, 50.96s/it]"
          ],
          "name": "stderr"
        },
        {
          "output_type": "display_data",
          "data": {
            "text/html": [
              "<font color = purple>Sci/tech (100%)</font> --> <font color = red>[FAILED]</font><br>Ky. Company Wins Grant to Study Peptides (AP) AP - A company founded by a chemistry researcher at the University of Louisville won a grant to develop a method of producing better peptides, which are short chains of amino acids, the building blocks of proteins."
            ],
            "text/plain": [
              "<IPython.core.display.HTML object>"
            ]
          },
          "metadata": {
            "tags": []
          }
        },
        {
          "output_type": "stream",
          "text": [
            "[Succeeded / Failed / Total] 1 / 2 / 3:  12%|█▏        | 3/25 [03:01<22:09, 60.44s/it]"
          ],
          "name": "stderr"
        },
        {
          "output_type": "display_data",
          "data": {
            "text/html": [
              "<font color = purple>Sci/tech (100%)</font> --> <font color = red>[FAILED]</font><br>Prediction Unit Helps Forecast Wildfires (AP) AP - It's barely dawn when Mike Fitzpatrick starts his shift with a blur of colorful maps, figures and endless charts, but already he knows what the day will bring. Lightning will strike in places he expects. Winds will pick up, moist places will dry and flames will roar."
            ],
            "text/plain": [
              "<IPython.core.display.HTML object>"
            ]
          },
          "metadata": {
            "tags": []
          }
        },
        {
          "output_type": "stream",
          "text": [
            "[Succeeded / Failed / Total] 1 / 3 / 4:  16%|█▌        | 4/25 [04:47<25:09, 71.90s/it]"
          ],
          "name": "stderr"
        },
        {
          "output_type": "display_data",
          "data": {
            "text/html": [
              "<font color = purple>Sci/tech (100%)</font> --> <font color = red>[FAILED]</font><br>Calif. Aims to Limit Farm-Related Smog (AP) AP - Southern California's smog-fighting agency went after emissions of the bovine variety Friday, adopting the nation's first rules to reduce air pollution from dairy cow manure."
            ],
            "text/plain": [
              "<IPython.core.display.HTML object>"
            ]
          },
          "metadata": {
            "tags": []
          }
        },
        {
          "output_type": "stream",
          "text": [
            "[Succeeded / Failed / Total] 1 / 4 / 5:  20%|██        | 5/25 [05:16<21:05, 63.28s/it]"
          ],
          "name": "stderr"
        },
        {
          "output_type": "display_data",
          "data": {
            "text/html": [
              "<font color = purple>Sci/tech (100%)</font> --> <font color = red>[FAILED]</font><br>Open Letter Against British Copyright Indoctrination in Schools The British Department for Education and Skills (DfES) recently launched a \"Music Manifesto\" campaign, with the ostensible intention of educating the next generation of British musicians. Unfortunately, they also teamed up with the music industry (EMI, and various artists) to make this popular. EMI has apparently negotiated their end well, so that children in our schools will now be indoctrinated about the illegality of downloading music.The ignorance and audacity of this got to me a little, so I wrote an open letter to the DfES about it. Unfortunately, it's pedantic, as I suppose you have to be when writing to goverment representatives. But I hope you find it useful, and perhaps feel inspired to do something similar, if or when the same thing has happened in your area."
            ],
            "text/plain": [
              "<IPython.core.display.HTML object>"
            ]
          },
          "metadata": {
            "tags": []
          }
        },
        {
          "output_type": "stream",
          "text": [
            "[Succeeded / Failed / Total] 1 / 5 / 6:  24%|██▍       | 6/25 [10:13<32:23, 102.29s/it]"
          ],
          "name": "stderr"
        },
        {
          "output_type": "display_data",
          "data": {
            "text/html": [
              "<font color = purple>Sci/tech (100%)</font> --> <font color = red>[FAILED]</font><br>Loosing the War on Terrorism \\\\\"Sven Jaschan, self-confessed author of the Netsky and Sasser viruses, is\\responsible for 70 percent of virus infections in 2004, according to a six-month\\virus roundup published Wednesday by antivirus company Sophos.\"\\\\\"The 18-year-old Jaschan was taken into custody in Germany in May by police who\\said he had admitted programming both the Netsky and Sasser worms, something\\experts at Microsoft confirmed. (A Microsoft antivirus reward program led to the\\teenager's arrest.) During the five months preceding Jaschan's capture, there\\were at least 25 variants of Netsky and one of the port-scanning network worm\\Sasser.\"\\\\\"Graham Cluley, senior technology consultant at Sophos, said it was staggeri ...\\\\"
            ],
            "text/plain": [
              "<IPython.core.display.HTML object>"
            ]
          },
          "metadata": {
            "tags": []
          }
        },
        {
          "output_type": "stream",
          "text": [
            "[Succeeded / Failed / Total] 1 / 6 / 7:  28%|██▊       | 7/25 [13:18<34:14, 114.14s/it]"
          ],
          "name": "stderr"
        },
        {
          "output_type": "display_data",
          "data": {
            "text/html": [
              "<font color = purple>Sci/tech (100%)</font> --> <font color = red>[FAILED]</font><br>FOAFKey: FOAF, PGP, Key Distribution, and Bloom Filters \\\\FOAF/LOAF  and bloom filters have a lot of interesting properties for social\\network and whitelist distribution.\\\\I think we can go one level higher though and include GPG/OpenPGP key\\fingerpring distribution in the FOAF file for simple web-of-trust based key\\distribution.\\\\What if we used FOAF and included the PGP key fingerprint(s) for identities?\\This could mean a lot.  You include the PGP key fingerprints within the FOAF\\file of your direct friends and then include a bloom filter of the PGP key\\fingerprints of your entire whitelist (the source FOAF file would of course need\\to be encrypted ).\\\\Your whitelist would be populated from the social network as your client\\discovered new identit ...\\\\"
            ],
            "text/plain": [
              "<IPython.core.display.HTML object>"
            ]
          },
          "metadata": {
            "tags": []
          }
        },
        {
          "output_type": "stream",
          "text": [
            "[Succeeded / Failed / Total] 1 / 7 / 8:  32%|███▏      | 8/25 [17:55<38:05, 134.41s/it]"
          ],
          "name": "stderr"
        },
        {
          "output_type": "display_data",
          "data": {
            "text/html": [
              "<font color = purple>Sci/tech (98%)</font> --> <font color = red>World (91%)</font><br>E-mail scam targets police <font color = purple>chief</font> Wiltshire Police <font color = purple>warns</font> about \"<font color = purple>phishing</font>\" after its <font color = purple>fraud</font> squad <font color = purple>chief</font> was <font color = purple>targeted</font>.<br>E-mail scam targets police <font color = red>lebowa</font> Wiltshire Police <font color = red>warned</font> about \"<font color = red>lollen</font>\" after its <font color = red>voting</font> squad <font color = red>lebowa</font> was <font color = red>massacred</font>."
            ],
            "text/plain": [
              "<IPython.core.display.HTML object>"
            ]
          },
          "metadata": {
            "tags": []
          }
        },
        {
          "output_type": "stream",
          "text": [
            "[Succeeded / Failed / Total] 2 / 7 / 9:  36%|███▌      | 9/25 [18:07<32:12, 120.78s/it]"
          ],
          "name": "stderr"
        },
        {
          "output_type": "display_data",
          "data": {
            "text/html": [
              "<font color = purple>Sci/tech (98%)</font> --> <font color = blue>Business (96%)</font><br>Card fraud <font color = purple>unit</font> nets 36,000 cards In its first two years, the UK's dedicated card fraud <font color = purple>unit</font>, has recovered 36,000 stolen cards and 171 arrests - and estimates it saved 65m.<br>Card fraud <font color = blue>eurco</font> nets 36,000 cards In its first two years, the UK's dedicated card fraud <font color = blue>eurco</font>, has recovered 36,000 stolen cards and 171 arrests - and estimates it saved 65m."
            ],
            "text/plain": [
              "<IPython.core.display.HTML object>"
            ]
          },
          "metadata": {
            "tags": []
          }
        },
        {
          "output_type": "stream",
          "text": [
            "[Succeeded / Failed / Total] 3 / 7 / 10:  40%|████      | 10/25 [18:08<27:13, 108.87s/it]"
          ],
          "name": "stderr"
        },
        {
          "output_type": "display_data",
          "data": {
            "text/html": [
              "<font color = purple>Sci/tech (100%)</font> --> <font color = red>[FAILED]</font><br>Group to Propose New High-Speed Wireless Format  LOS ANGELES (Reuters) - A group of technology companies  including Texas Instruments Inc. &lt;TXN.N&gt;, STMicroelectronics  &lt;STM.PA&gt; and Broadcom Corp. &lt;BRCM.O&gt;, on Thursday said they  will propose a new wireless networking standard up to 10 times  the speed of the current generation."
            ],
            "text/plain": [
              "<IPython.core.display.HTML object>"
            ]
          },
          "metadata": {
            "tags": []
          }
        },
        {
          "output_type": "stream",
          "text": [
            "[Succeeded / Failed / Total] 3 / 8 / 11:  44%|████▍     | 11/25 [19:29<24:48, 106.29s/it]"
          ],
          "name": "stderr"
        },
        {
          "output_type": "display_data",
          "data": {
            "text/html": [
              "<font color = purple>Sci/tech (100%)</font> --> <font color = red>[FAILED]</font><br>Apple Launches Graphics Software, Video Bundle  LOS ANGELES (Reuters) - Apple Computer Inc.&lt;AAPL.O&gt; on  Tuesday began shipping a new program designed to let users  create real-time motion graphics and unveiled a discount  video-editing software bundle featuring its flagship Final Cut  Pro software."
            ],
            "text/plain": [
              "<IPython.core.display.HTML object>"
            ]
          },
          "metadata": {
            "tags": []
          }
        },
        {
          "output_type": "stream",
          "text": [
            "[Succeeded / Failed / Total] 3 / 9 / 12:  48%|████▊     | 12/25 [20:36<22:19, 103.01s/it]"
          ],
          "name": "stderr"
        },
        {
          "output_type": "display_data",
          "data": {
            "text/html": [
              "<font color = purple>Sci/tech (100%)</font> --> <font color = red>[FAILED]</font><br>Dutch Retailer Beats Apple to Local Download Market  AMSTERDAM (Reuters) - Free Record Shop, a Dutch music  retail chain, beat Apple Computer Inc. to market on Tuesday  with the launch of a new download service in Europe's latest  battleground for digital song services."
            ],
            "text/plain": [
              "<IPython.core.display.HTML object>"
            ]
          },
          "metadata": {
            "tags": []
          }
        },
        {
          "output_type": "stream",
          "text": [
            "[Succeeded / Failed / Total] 3 / 10 / 13:  52%|█████▏    | 13/25 [21:28<19:49, 99.12s/it]"
          ],
          "name": "stderr"
        },
        {
          "output_type": "display_data",
          "data": {
            "text/html": [
              "<font color = purple>Sci/tech (99%)</font> --> <font color = red>[FAILED]</font><br>Super ant colony hits Australia A giant 100km colony of ants  which has been discovered in Melbourne, Australia, could threaten local insect species."
            ],
            "text/plain": [
              "<IPython.core.display.HTML object>"
            ]
          },
          "metadata": {
            "tags": []
          }
        },
        {
          "output_type": "stream",
          "text": [
            "[Succeeded / Failed / Total] 3 / 11 / 14:  56%|█████▌    | 14/25 [21:57<17:15, 94.12s/it]"
          ],
          "name": "stderr"
        },
        {
          "output_type": "display_data",
          "data": {
            "text/html": [
              "<font color = purple>Sci/tech (97%)</font> --> <font color = red>[FAILED]</font><br>Socialites unite dolphin groups Dolphin groups, or \"pods\", rely on socialites to keep them from collapsing, scientists claim."
            ],
            "text/plain": [
              "<IPython.core.display.HTML object>"
            ]
          },
          "metadata": {
            "tags": []
          }
        },
        {
          "output_type": "stream",
          "text": [
            "[Succeeded / Failed / Total] 3 / 12 / 15:  60%|██████    | 15/25 [22:15<14:50, 89.02s/it]"
          ],
          "name": "stderr"
        },
        {
          "output_type": "display_data",
          "data": {
            "text/html": [
              "<font color = purple>Sci/tech (100%)</font> --> <font color = red>[FAILED]</font><br>Teenage T. rex's monster growth Tyrannosaurus rex achieved its massive size due to an enormous growth spurt during its adolescent years."
            ],
            "text/plain": [
              "<IPython.core.display.HTML object>"
            ]
          },
          "metadata": {
            "tags": []
          }
        },
        {
          "output_type": "stream",
          "text": [
            "[Succeeded / Failed / Total] 3 / 13 / 16:  64%|██████▍   | 16/25 [22:50<12:50, 85.63s/it]"
          ],
          "name": "stderr"
        },
        {
          "output_type": "display_data",
          "data": {
            "text/html": [
              "<font color = purple>Sci/tech (100%)</font> --> <font color = red>[FAILED]</font><br>Scientists Discover Ganymede has a Lumpy Interior Jet Propulsion Lab -- Scientists have discovered irregular lumps beneath the icy surface of Jupiter's largest moon, Ganymede. These irregular masses may be rock formations, supported by Ganymede's icy shell for billions of years..."
            ],
            "text/plain": [
              "<IPython.core.display.HTML object>"
            ]
          },
          "metadata": {
            "tags": []
          }
        },
        {
          "output_type": "stream",
          "text": [
            "[Succeeded / Failed / Total] 3 / 14 / 17:  68%|██████▊   | 17/25 [23:56<11:15, 84.47s/it]"
          ],
          "name": "stderr"
        },
        {
          "output_type": "display_data",
          "data": {
            "text/html": [
              "<font color = purple>Sci/tech (100%)</font> --> <font color = red>[FAILED]</font><br>Mars Rovers Relay Images Through Mars Express European Space Agency -- ESAs Mars Express has relayed pictures from one of NASA's Mars rovers for the first time, as part of a set of interplanetary networking demonstrations.     The demonstrations pave the way for future Mars missions to draw on joint interplanetary networking capabilities..."
            ],
            "text/plain": [
              "<IPython.core.display.HTML object>"
            ]
          },
          "metadata": {
            "tags": []
          }
        },
        {
          "output_type": "stream",
          "text": [
            "[Succeeded / Failed / Total] 3 / 15 / 18:  72%|███████▏  | 18/25 [25:08<09:46, 83.80s/it]"
          ],
          "name": "stderr"
        },
        {
          "output_type": "display_data",
          "data": {
            "text/html": [
              "<font color = purple>Sci/tech (100%)</font> --> <font color = red>[FAILED]</font><br>Rocking the Cradle of Life When did life begin? One evidential clue stems from the fossil records in Western Australia, although whether these layered sediments are biological or chemical has spawned a spirited debate. Oxford researcher, Nicola McLoughlin, describes some of the issues in contention."
            ],
            "text/plain": [
              "<IPython.core.display.HTML object>"
            ]
          },
          "metadata": {
            "tags": []
          }
        },
        {
          "output_type": "stream",
          "text": [
            "[Succeeded / Failed / Total] 3 / 16 / 19:  76%|███████▌  | 19/25 [26:20<08:19, 83.18s/it]"
          ],
          "name": "stderr"
        },
        {
          "output_type": "display_data",
          "data": {
            "text/html": [
              "<font color = purple>Sci/tech (100%)</font> --> <font color = red>[FAILED]</font><br>Storage, servers bruise HP earnings update Earnings per share rise compared with a year ago, but company misses analysts' expectations by a long shot."
            ],
            "text/plain": [
              "<IPython.core.display.HTML object>"
            ]
          },
          "metadata": {
            "tags": []
          }
        },
        {
          "output_type": "stream",
          "text": [
            "[Succeeded / Failed / Total] 3 / 17 / 20:  80%|████████  | 20/25 [26:59<06:44, 80.97s/it]"
          ],
          "name": "stderr"
        },
        {
          "output_type": "display_data",
          "data": {
            "text/html": [
              "<font color = purple>Sci/tech (88%)</font> --> <font color = blue>Business (67%)</font><br>IBM to hire even more new workers By the end of the <font color = purple>year</font>, the computing giant plans to have its biggest headcount since 1991.<br>IBM to hire even more new workers By the end of the <font color = blue>winnemanoth</font>, the computing giant plans to have its biggest headcount since 1991."
            ],
            "text/plain": [
              "<IPython.core.display.HTML object>"
            ]
          },
          "metadata": {
            "tags": []
          }
        },
        {
          "output_type": "stream",
          "text": [
            "[Succeeded / Failed / Total] 4 / 17 / 21:  84%|████████▍ | 21/25 [27:00<05:08, 77.17s/it]"
          ],
          "name": "stderr"
        },
        {
          "output_type": "display_data",
          "data": {
            "text/html": [
              "<font color = purple>Sci/tech (100%)</font> --> <font color = red>[FAILED]</font><br>Sun's Looking Glass Provides 3D View Developers get early code for new operating system 'skin' still being crafted."
            ],
            "text/plain": [
              "<IPython.core.display.HTML object>"
            ]
          },
          "metadata": {
            "tags": []
          }
        },
        {
          "output_type": "stream",
          "text": [
            "[Succeeded / Failed / Total] 4 / 18 / 22:  88%|████████▊ | 22/25 [27:06<03:41, 73.95s/it]"
          ],
          "name": "stderr"
        },
        {
          "output_type": "display_data",
          "data": {
            "text/html": [
              "<font color = purple>Sci/tech (100%)</font> --> <font color = red>[FAILED]</font><br>IBM Chips May Someday Heal Themselves New technology applies electrical fuses to help identify and repair faults."
            ],
            "text/plain": [
              "<IPython.core.display.HTML object>"
            ]
          },
          "metadata": {
            "tags": []
          }
        },
        {
          "output_type": "stream",
          "text": [
            "[Succeeded / Failed / Total] 4 / 19 / 23:  92%|█████████▏| 23/25 [27:20<02:22, 71.32s/it]"
          ],
          "name": "stderr"
        },
        {
          "output_type": "display_data",
          "data": {
            "text/html": [
              "<font color = blue>Business (97%)</font> --> <font color = gray>[SKIPPED]</font><br>Some People Not Eligible to Get in on Google IPO Google has billed its IPO as a way for everyday people to get in on the process, denying Wall Street the usual stranglehold it's had on IPOs. Public bidding, a minimum of just five shares, an open process with 28 underwriters - all this pointed to a new level of public participation. But this isn't the case."
            ],
            "text/plain": [
              "<IPython.core.display.HTML object>"
            ]
          },
          "metadata": {
            "tags": []
          }
        },
        {
          "output_type": "stream",
          "text": [
            "\r[Succeeded / Failed / Total] 4 / 19 / 24:  96%|█████████▌| 24/25 [27:20<01:08, 68.36s/it]"
          ],
          "name": "stderr"
        },
        {
          "output_type": "display_data",
          "data": {
            "text/html": [
              "<font color = purple>Sci/tech (100%)</font> --> <font color = red>[FAILED]</font><br>Rivals Try to Turn Tables on Charles Schwab By MICHAEL LIEDTKE     SAN FRANCISCO (AP) -- With its low prices and iconoclastic attitude, discount stock broker Charles Schwab Corp. (SCH) represented an annoying stone in Wall Street's wing-tipped shoes for decades..."
            ],
            "text/plain": [
              "<IPython.core.display.HTML object>"
            ]
          },
          "metadata": {
            "tags": []
          }
        },
        {
          "output_type": "stream",
          "text": [
            "[Succeeded / Failed / Total] 4 / 20 / 25: 100%|██████████| 25/25 [28:03<00:00, 67.34s/it]"
          ],
          "name": "stderr"
        },
        {
          "output_type": "display_data",
          "data": {
            "text/html": [
              "<font color = purple>Sci/tech (100%)</font> --> <font color = red>[FAILED]</font><br>News: Sluggish movement on power grid cyber security Industry cyber security standards fail to reach some of the most vulnerable components of the power grid.\\"
            ],
            "text/plain": [
              "<IPython.core.display.HTML object>"
            ]
          },
          "metadata": {
            "tags": []
          }
        },
        {
          "output_type": "stream",
          "text": [
            "[Succeeded / Failed / Total] 4 / 21 / 26: : 26it [28:35, 65.98s/it]"
          ],
          "name": "stderr"
        },
        {
          "output_type": "stream",
          "text": [
            "+-------------------------------+--------+\n",
            "| Attack Results                |        |\n",
            "+-------------------------------+--------+\n",
            "| Number of successful attacks: | 4      |\n",
            "| Number of failed attacks:     | 21     |\n",
            "| Number of skipped attacks:    | 1      |\n",
            "| Original accuracy:            | 96.15% |\n",
            "| Accuracy under attack:        | 80.77% |\n",
            "| Attack success rate:          | 16.0%  |\n",
            "| Average perturbed word %:     | 17.43% |\n",
            "| Average num. words per input: | 45.54  |\n",
            "| Avg num queries:              | 795.04 |\n",
            "+-------------------------------+--------+"
          ],
          "name": "stdout"
        },
        {
          "output_type": "stream",
          "text": [
            "\n",
            "\u001b[34;1mtextattack\u001b[0m: Attack time: 1715.4736459255219s\n"
          ],
          "name": "stderr"
        }
      ]
    }
  ]
}