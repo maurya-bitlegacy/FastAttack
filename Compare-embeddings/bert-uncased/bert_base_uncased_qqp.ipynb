{
  "nbformat": 4,
  "nbformat_minor": 0,
  "metadata": {
    "colab": {
      "name": "bert_base_uncased_qqp.ipynb",
      "provenance": [],
      "collapsed_sections": []
    },
    "kernelspec": {
      "name": "python3",
      "display_name": "Python 3"
    },
    "language_info": {
      "name": "python"
    },
    "accelerator": "GPU",
    "widgets": {
      "application/vnd.jupyter.widget-state+json": {
        "6195e22cb257478eb8986c2a24713a41": {
          "model_module": "@jupyter-widgets/controls",
          "model_name": "HBoxModel",
          "state": {
            "_view_name": "HBoxView",
            "_dom_classes": [],
            "_model_name": "HBoxModel",
            "_view_module": "@jupyter-widgets/controls",
            "_model_module_version": "1.5.0",
            "_view_count": null,
            "_view_module_version": "1.5.0",
            "box_style": "",
            "layout": "IPY_MODEL_2e1e4954096d419c8cd71db11781b95e",
            "_model_module": "@jupyter-widgets/controls",
            "children": [
              "IPY_MODEL_2e02fe5bd83a4520b79e79cfd180894f",
              "IPY_MODEL_d5b9c4c26bb7409fa9e9857b77423eb2"
            ]
          }
        },
        "2e1e4954096d419c8cd71db11781b95e": {
          "model_module": "@jupyter-widgets/base",
          "model_name": "LayoutModel",
          "state": {
            "_view_name": "LayoutView",
            "grid_template_rows": null,
            "right": null,
            "justify_content": null,
            "_view_module": "@jupyter-widgets/base",
            "overflow": null,
            "_model_module_version": "1.2.0",
            "_view_count": null,
            "flex_flow": null,
            "width": null,
            "min_width": null,
            "border": null,
            "align_items": null,
            "bottom": null,
            "_model_module": "@jupyter-widgets/base",
            "top": null,
            "grid_column": null,
            "overflow_y": null,
            "overflow_x": null,
            "grid_auto_flow": null,
            "grid_area": null,
            "grid_template_columns": null,
            "flex": null,
            "_model_name": "LayoutModel",
            "justify_items": null,
            "grid_row": null,
            "max_height": null,
            "align_content": null,
            "visibility": null,
            "align_self": null,
            "height": null,
            "min_height": null,
            "padding": null,
            "grid_auto_rows": null,
            "grid_gap": null,
            "max_width": null,
            "order": null,
            "_view_module_version": "1.2.0",
            "grid_template_areas": null,
            "object_position": null,
            "object_fit": null,
            "grid_auto_columns": null,
            "margin": null,
            "display": null,
            "left": null
          }
        },
        "2e02fe5bd83a4520b79e79cfd180894f": {
          "model_module": "@jupyter-widgets/controls",
          "model_name": "FloatProgressModel",
          "state": {
            "_view_name": "ProgressView",
            "style": "IPY_MODEL_c656cc21f1074e9ba5f2db9c864d63ab",
            "_dom_classes": [],
            "description": "Downloading: 100%",
            "_model_name": "FloatProgressModel",
            "bar_style": "success",
            "max": 475,
            "_view_module": "@jupyter-widgets/controls",
            "_model_module_version": "1.5.0",
            "value": 475,
            "_view_count": null,
            "_view_module_version": "1.5.0",
            "orientation": "horizontal",
            "min": 0,
            "description_tooltip": null,
            "_model_module": "@jupyter-widgets/controls",
            "layout": "IPY_MODEL_5196eb48fc8249a9a539443841974efb"
          }
        },
        "d5b9c4c26bb7409fa9e9857b77423eb2": {
          "model_module": "@jupyter-widgets/controls",
          "model_name": "HTMLModel",
          "state": {
            "_view_name": "HTMLView",
            "style": "IPY_MODEL_ef2f72c4a8a04bc2be5a98f0af81e923",
            "_dom_classes": [],
            "description": "",
            "_model_name": "HTMLModel",
            "placeholder": "​",
            "_view_module": "@jupyter-widgets/controls",
            "_model_module_version": "1.5.0",
            "value": " 475/475 [00:18&lt;00:00, 25.6B/s]",
            "_view_count": null,
            "_view_module_version": "1.5.0",
            "description_tooltip": null,
            "_model_module": "@jupyter-widgets/controls",
            "layout": "IPY_MODEL_29a27a9612de46f399e53f859d5b8ab1"
          }
        },
        "c656cc21f1074e9ba5f2db9c864d63ab": {
          "model_module": "@jupyter-widgets/controls",
          "model_name": "ProgressStyleModel",
          "state": {
            "_view_name": "StyleView",
            "_model_name": "ProgressStyleModel",
            "description_width": "initial",
            "_view_module": "@jupyter-widgets/base",
            "_model_module_version": "1.5.0",
            "_view_count": null,
            "_view_module_version": "1.2.0",
            "bar_color": null,
            "_model_module": "@jupyter-widgets/controls"
          }
        },
        "5196eb48fc8249a9a539443841974efb": {
          "model_module": "@jupyter-widgets/base",
          "model_name": "LayoutModel",
          "state": {
            "_view_name": "LayoutView",
            "grid_template_rows": null,
            "right": null,
            "justify_content": null,
            "_view_module": "@jupyter-widgets/base",
            "overflow": null,
            "_model_module_version": "1.2.0",
            "_view_count": null,
            "flex_flow": null,
            "width": null,
            "min_width": null,
            "border": null,
            "align_items": null,
            "bottom": null,
            "_model_module": "@jupyter-widgets/base",
            "top": null,
            "grid_column": null,
            "overflow_y": null,
            "overflow_x": null,
            "grid_auto_flow": null,
            "grid_area": null,
            "grid_template_columns": null,
            "flex": null,
            "_model_name": "LayoutModel",
            "justify_items": null,
            "grid_row": null,
            "max_height": null,
            "align_content": null,
            "visibility": null,
            "align_self": null,
            "height": null,
            "min_height": null,
            "padding": null,
            "grid_auto_rows": null,
            "grid_gap": null,
            "max_width": null,
            "order": null,
            "_view_module_version": "1.2.0",
            "grid_template_areas": null,
            "object_position": null,
            "object_fit": null,
            "grid_auto_columns": null,
            "margin": null,
            "display": null,
            "left": null
          }
        },
        "ef2f72c4a8a04bc2be5a98f0af81e923": {
          "model_module": "@jupyter-widgets/controls",
          "model_name": "DescriptionStyleModel",
          "state": {
            "_view_name": "StyleView",
            "_model_name": "DescriptionStyleModel",
            "description_width": "",
            "_view_module": "@jupyter-widgets/base",
            "_model_module_version": "1.5.0",
            "_view_count": null,
            "_view_module_version": "1.2.0",
            "_model_module": "@jupyter-widgets/controls"
          }
        },
        "29a27a9612de46f399e53f859d5b8ab1": {
          "model_module": "@jupyter-widgets/base",
          "model_name": "LayoutModel",
          "state": {
            "_view_name": "LayoutView",
            "grid_template_rows": null,
            "right": null,
            "justify_content": null,
            "_view_module": "@jupyter-widgets/base",
            "overflow": null,
            "_model_module_version": "1.2.0",
            "_view_count": null,
            "flex_flow": null,
            "width": null,
            "min_width": null,
            "border": null,
            "align_items": null,
            "bottom": null,
            "_model_module": "@jupyter-widgets/base",
            "top": null,
            "grid_column": null,
            "overflow_y": null,
            "overflow_x": null,
            "grid_auto_flow": null,
            "grid_area": null,
            "grid_template_columns": null,
            "flex": null,
            "_model_name": "LayoutModel",
            "justify_items": null,
            "grid_row": null,
            "max_height": null,
            "align_content": null,
            "visibility": null,
            "align_self": null,
            "height": null,
            "min_height": null,
            "padding": null,
            "grid_auto_rows": null,
            "grid_gap": null,
            "max_width": null,
            "order": null,
            "_view_module_version": "1.2.0",
            "grid_template_areas": null,
            "object_position": null,
            "object_fit": null,
            "grid_auto_columns": null,
            "margin": null,
            "display": null,
            "left": null
          }
        },
        "40c37bc7785d49a7914687a60eebffff": {
          "model_module": "@jupyter-widgets/controls",
          "model_name": "HBoxModel",
          "state": {
            "_view_name": "HBoxView",
            "_dom_classes": [],
            "_model_name": "HBoxModel",
            "_view_module": "@jupyter-widgets/controls",
            "_model_module_version": "1.5.0",
            "_view_count": null,
            "_view_module_version": "1.5.0",
            "box_style": "",
            "layout": "IPY_MODEL_ffcbb48fb40a4130869440e24b30daa9",
            "_model_module": "@jupyter-widgets/controls",
            "children": [
              "IPY_MODEL_7e46f948026d4d60a6129c9283368e5c",
              "IPY_MODEL_4a6ac262cd704e4b95b8777037fd3a5b"
            ]
          }
        },
        "ffcbb48fb40a4130869440e24b30daa9": {
          "model_module": "@jupyter-widgets/base",
          "model_name": "LayoutModel",
          "state": {
            "_view_name": "LayoutView",
            "grid_template_rows": null,
            "right": null,
            "justify_content": null,
            "_view_module": "@jupyter-widgets/base",
            "overflow": null,
            "_model_module_version": "1.2.0",
            "_view_count": null,
            "flex_flow": null,
            "width": null,
            "min_width": null,
            "border": null,
            "align_items": null,
            "bottom": null,
            "_model_module": "@jupyter-widgets/base",
            "top": null,
            "grid_column": null,
            "overflow_y": null,
            "overflow_x": null,
            "grid_auto_flow": null,
            "grid_area": null,
            "grid_template_columns": null,
            "flex": null,
            "_model_name": "LayoutModel",
            "justify_items": null,
            "grid_row": null,
            "max_height": null,
            "align_content": null,
            "visibility": null,
            "align_self": null,
            "height": null,
            "min_height": null,
            "padding": null,
            "grid_auto_rows": null,
            "grid_gap": null,
            "max_width": null,
            "order": null,
            "_view_module_version": "1.2.0",
            "grid_template_areas": null,
            "object_position": null,
            "object_fit": null,
            "grid_auto_columns": null,
            "margin": null,
            "display": null,
            "left": null
          }
        },
        "7e46f948026d4d60a6129c9283368e5c": {
          "model_module": "@jupyter-widgets/controls",
          "model_name": "FloatProgressModel",
          "state": {
            "_view_name": "ProgressView",
            "style": "IPY_MODEL_7d9e3b3b29ea4db5a09087d8cb6f1e6e",
            "_dom_classes": [],
            "description": "Downloading: 100%",
            "_model_name": "FloatProgressModel",
            "bar_style": "success",
            "max": 437985387,
            "_view_module": "@jupyter-widgets/controls",
            "_model_module_version": "1.5.0",
            "value": 437985387,
            "_view_count": null,
            "_view_module_version": "1.5.0",
            "orientation": "horizontal",
            "min": 0,
            "description_tooltip": null,
            "_model_module": "@jupyter-widgets/controls",
            "layout": "IPY_MODEL_a379c5d41da64001bdf6c3790ab6b99e"
          }
        },
        "4a6ac262cd704e4b95b8777037fd3a5b": {
          "model_module": "@jupyter-widgets/controls",
          "model_name": "HTMLModel",
          "state": {
            "_view_name": "HTMLView",
            "style": "IPY_MODEL_3603cb3f1a914570bf4418c0957e9831",
            "_dom_classes": [],
            "description": "",
            "_model_name": "HTMLModel",
            "placeholder": "​",
            "_view_module": "@jupyter-widgets/controls",
            "_model_module_version": "1.5.0",
            "value": " 438M/438M [00:17&lt;00:00, 24.5MB/s]",
            "_view_count": null,
            "_view_module_version": "1.5.0",
            "description_tooltip": null,
            "_model_module": "@jupyter-widgets/controls",
            "layout": "IPY_MODEL_a6e33288e6994c29971ab3007f18cdd0"
          }
        },
        "7d9e3b3b29ea4db5a09087d8cb6f1e6e": {
          "model_module": "@jupyter-widgets/controls",
          "model_name": "ProgressStyleModel",
          "state": {
            "_view_name": "StyleView",
            "_model_name": "ProgressStyleModel",
            "description_width": "initial",
            "_view_module": "@jupyter-widgets/base",
            "_model_module_version": "1.5.0",
            "_view_count": null,
            "_view_module_version": "1.2.0",
            "bar_color": null,
            "_model_module": "@jupyter-widgets/controls"
          }
        },
        "a379c5d41da64001bdf6c3790ab6b99e": {
          "model_module": "@jupyter-widgets/base",
          "model_name": "LayoutModel",
          "state": {
            "_view_name": "LayoutView",
            "grid_template_rows": null,
            "right": null,
            "justify_content": null,
            "_view_module": "@jupyter-widgets/base",
            "overflow": null,
            "_model_module_version": "1.2.0",
            "_view_count": null,
            "flex_flow": null,
            "width": null,
            "min_width": null,
            "border": null,
            "align_items": null,
            "bottom": null,
            "_model_module": "@jupyter-widgets/base",
            "top": null,
            "grid_column": null,
            "overflow_y": null,
            "overflow_x": null,
            "grid_auto_flow": null,
            "grid_area": null,
            "grid_template_columns": null,
            "flex": null,
            "_model_name": "LayoutModel",
            "justify_items": null,
            "grid_row": null,
            "max_height": null,
            "align_content": null,
            "visibility": null,
            "align_self": null,
            "height": null,
            "min_height": null,
            "padding": null,
            "grid_auto_rows": null,
            "grid_gap": null,
            "max_width": null,
            "order": null,
            "_view_module_version": "1.2.0",
            "grid_template_areas": null,
            "object_position": null,
            "object_fit": null,
            "grid_auto_columns": null,
            "margin": null,
            "display": null,
            "left": null
          }
        },
        "3603cb3f1a914570bf4418c0957e9831": {
          "model_module": "@jupyter-widgets/controls",
          "model_name": "DescriptionStyleModel",
          "state": {
            "_view_name": "StyleView",
            "_model_name": "DescriptionStyleModel",
            "description_width": "",
            "_view_module": "@jupyter-widgets/base",
            "_model_module_version": "1.5.0",
            "_view_count": null,
            "_view_module_version": "1.2.0",
            "_model_module": "@jupyter-widgets/controls"
          }
        },
        "a6e33288e6994c29971ab3007f18cdd0": {
          "model_module": "@jupyter-widgets/base",
          "model_name": "LayoutModel",
          "state": {
            "_view_name": "LayoutView",
            "grid_template_rows": null,
            "right": null,
            "justify_content": null,
            "_view_module": "@jupyter-widgets/base",
            "overflow": null,
            "_model_module_version": "1.2.0",
            "_view_count": null,
            "flex_flow": null,
            "width": null,
            "min_width": null,
            "border": null,
            "align_items": null,
            "bottom": null,
            "_model_module": "@jupyter-widgets/base",
            "top": null,
            "grid_column": null,
            "overflow_y": null,
            "overflow_x": null,
            "grid_auto_flow": null,
            "grid_area": null,
            "grid_template_columns": null,
            "flex": null,
            "_model_name": "LayoutModel",
            "justify_items": null,
            "grid_row": null,
            "max_height": null,
            "align_content": null,
            "visibility": null,
            "align_self": null,
            "height": null,
            "min_height": null,
            "padding": null,
            "grid_auto_rows": null,
            "grid_gap": null,
            "max_width": null,
            "order": null,
            "_view_module_version": "1.2.0",
            "grid_template_areas": null,
            "object_position": null,
            "object_fit": null,
            "grid_auto_columns": null,
            "margin": null,
            "display": null,
            "left": null
          }
        },
        "44b0bc3e311d4ebe8e6280faf002bf22": {
          "model_module": "@jupyter-widgets/controls",
          "model_name": "HBoxModel",
          "state": {
            "_view_name": "HBoxView",
            "_dom_classes": [],
            "_model_name": "HBoxModel",
            "_view_module": "@jupyter-widgets/controls",
            "_model_module_version": "1.5.0",
            "_view_count": null,
            "_view_module_version": "1.5.0",
            "box_style": "",
            "layout": "IPY_MODEL_56703a8a2c854fd1b11106dc37bb7734",
            "_model_module": "@jupyter-widgets/controls",
            "children": [
              "IPY_MODEL_ebe50dee746a4c62bff8953ce6a6b6ce",
              "IPY_MODEL_a63f504cc43344919b63a86384f4db92"
            ]
          }
        },
        "56703a8a2c854fd1b11106dc37bb7734": {
          "model_module": "@jupyter-widgets/base",
          "model_name": "LayoutModel",
          "state": {
            "_view_name": "LayoutView",
            "grid_template_rows": null,
            "right": null,
            "justify_content": null,
            "_view_module": "@jupyter-widgets/base",
            "overflow": null,
            "_model_module_version": "1.2.0",
            "_view_count": null,
            "flex_flow": null,
            "width": null,
            "min_width": null,
            "border": null,
            "align_items": null,
            "bottom": null,
            "_model_module": "@jupyter-widgets/base",
            "top": null,
            "grid_column": null,
            "overflow_y": null,
            "overflow_x": null,
            "grid_auto_flow": null,
            "grid_area": null,
            "grid_template_columns": null,
            "flex": null,
            "_model_name": "LayoutModel",
            "justify_items": null,
            "grid_row": null,
            "max_height": null,
            "align_content": null,
            "visibility": null,
            "align_self": null,
            "height": null,
            "min_height": null,
            "padding": null,
            "grid_auto_rows": null,
            "grid_gap": null,
            "max_width": null,
            "order": null,
            "_view_module_version": "1.2.0",
            "grid_template_areas": null,
            "object_position": null,
            "object_fit": null,
            "grid_auto_columns": null,
            "margin": null,
            "display": null,
            "left": null
          }
        },
        "ebe50dee746a4c62bff8953ce6a6b6ce": {
          "model_module": "@jupyter-widgets/controls",
          "model_name": "FloatProgressModel",
          "state": {
            "_view_name": "ProgressView",
            "style": "IPY_MODEL_b33170d3708b48c89b8288967db88305",
            "_dom_classes": [],
            "description": "Downloading: 100%",
            "_model_name": "FloatProgressModel",
            "bar_style": "success",
            "max": 231508,
            "_view_module": "@jupyter-widgets/controls",
            "_model_module_version": "1.5.0",
            "value": 231508,
            "_view_count": null,
            "_view_module_version": "1.5.0",
            "orientation": "horizontal",
            "min": 0,
            "description_tooltip": null,
            "_model_module": "@jupyter-widgets/controls",
            "layout": "IPY_MODEL_86221beb766647e1be81423d55b4b0d1"
          }
        },
        "a63f504cc43344919b63a86384f4db92": {
          "model_module": "@jupyter-widgets/controls",
          "model_name": "HTMLModel",
          "state": {
            "_view_name": "HTMLView",
            "style": "IPY_MODEL_315eef50e38347aea8268b7fd7fef2c4",
            "_dom_classes": [],
            "description": "",
            "_model_name": "HTMLModel",
            "placeholder": "​",
            "_view_module": "@jupyter-widgets/controls",
            "_model_module_version": "1.5.0",
            "value": " 232k/232k [00:00&lt;00:00, 289kB/s]",
            "_view_count": null,
            "_view_module_version": "1.5.0",
            "description_tooltip": null,
            "_model_module": "@jupyter-widgets/controls",
            "layout": "IPY_MODEL_723c110c9363468e9ab0e55e3796d314"
          }
        },
        "b33170d3708b48c89b8288967db88305": {
          "model_module": "@jupyter-widgets/controls",
          "model_name": "ProgressStyleModel",
          "state": {
            "_view_name": "StyleView",
            "_model_name": "ProgressStyleModel",
            "description_width": "initial",
            "_view_module": "@jupyter-widgets/base",
            "_model_module_version": "1.5.0",
            "_view_count": null,
            "_view_module_version": "1.2.0",
            "bar_color": null,
            "_model_module": "@jupyter-widgets/controls"
          }
        },
        "86221beb766647e1be81423d55b4b0d1": {
          "model_module": "@jupyter-widgets/base",
          "model_name": "LayoutModel",
          "state": {
            "_view_name": "LayoutView",
            "grid_template_rows": null,
            "right": null,
            "justify_content": null,
            "_view_module": "@jupyter-widgets/base",
            "overflow": null,
            "_model_module_version": "1.2.0",
            "_view_count": null,
            "flex_flow": null,
            "width": null,
            "min_width": null,
            "border": null,
            "align_items": null,
            "bottom": null,
            "_model_module": "@jupyter-widgets/base",
            "top": null,
            "grid_column": null,
            "overflow_y": null,
            "overflow_x": null,
            "grid_auto_flow": null,
            "grid_area": null,
            "grid_template_columns": null,
            "flex": null,
            "_model_name": "LayoutModel",
            "justify_items": null,
            "grid_row": null,
            "max_height": null,
            "align_content": null,
            "visibility": null,
            "align_self": null,
            "height": null,
            "min_height": null,
            "padding": null,
            "grid_auto_rows": null,
            "grid_gap": null,
            "max_width": null,
            "order": null,
            "_view_module_version": "1.2.0",
            "grid_template_areas": null,
            "object_position": null,
            "object_fit": null,
            "grid_auto_columns": null,
            "margin": null,
            "display": null,
            "left": null
          }
        },
        "315eef50e38347aea8268b7fd7fef2c4": {
          "model_module": "@jupyter-widgets/controls",
          "model_name": "DescriptionStyleModel",
          "state": {
            "_view_name": "StyleView",
            "_model_name": "DescriptionStyleModel",
            "description_width": "",
            "_view_module": "@jupyter-widgets/base",
            "_model_module_version": "1.5.0",
            "_view_count": null,
            "_view_module_version": "1.2.0",
            "_model_module": "@jupyter-widgets/controls"
          }
        },
        "723c110c9363468e9ab0e55e3796d314": {
          "model_module": "@jupyter-widgets/base",
          "model_name": "LayoutModel",
          "state": {
            "_view_name": "LayoutView",
            "grid_template_rows": null,
            "right": null,
            "justify_content": null,
            "_view_module": "@jupyter-widgets/base",
            "overflow": null,
            "_model_module_version": "1.2.0",
            "_view_count": null,
            "flex_flow": null,
            "width": null,
            "min_width": null,
            "border": null,
            "align_items": null,
            "bottom": null,
            "_model_module": "@jupyter-widgets/base",
            "top": null,
            "grid_column": null,
            "overflow_y": null,
            "overflow_x": null,
            "grid_auto_flow": null,
            "grid_area": null,
            "grid_template_columns": null,
            "flex": null,
            "_model_name": "LayoutModel",
            "justify_items": null,
            "grid_row": null,
            "max_height": null,
            "align_content": null,
            "visibility": null,
            "align_self": null,
            "height": null,
            "min_height": null,
            "padding": null,
            "grid_auto_rows": null,
            "grid_gap": null,
            "max_width": null,
            "order": null,
            "_view_module_version": "1.2.0",
            "grid_template_areas": null,
            "object_position": null,
            "object_fit": null,
            "grid_auto_columns": null,
            "margin": null,
            "display": null,
            "left": null
          }
        },
        "938f25d8df3c4cf6bd1c175f07d6b410": {
          "model_module": "@jupyter-widgets/controls",
          "model_name": "HBoxModel",
          "state": {
            "_view_name": "HBoxView",
            "_dom_classes": [],
            "_model_name": "HBoxModel",
            "_view_module": "@jupyter-widgets/controls",
            "_model_module_version": "1.5.0",
            "_view_count": null,
            "_view_module_version": "1.5.0",
            "box_style": "",
            "layout": "IPY_MODEL_171ec6ab71874235a904af6f425a58a2",
            "_model_module": "@jupyter-widgets/controls",
            "children": [
              "IPY_MODEL_47c27b9bde5240b995552c8d598a7aff",
              "IPY_MODEL_c7aadfff15ca440a9ec9138d259b9dea"
            ]
          }
        },
        "171ec6ab71874235a904af6f425a58a2": {
          "model_module": "@jupyter-widgets/base",
          "model_name": "LayoutModel",
          "state": {
            "_view_name": "LayoutView",
            "grid_template_rows": null,
            "right": null,
            "justify_content": null,
            "_view_module": "@jupyter-widgets/base",
            "overflow": null,
            "_model_module_version": "1.2.0",
            "_view_count": null,
            "flex_flow": null,
            "width": null,
            "min_width": null,
            "border": null,
            "align_items": null,
            "bottom": null,
            "_model_module": "@jupyter-widgets/base",
            "top": null,
            "grid_column": null,
            "overflow_y": null,
            "overflow_x": null,
            "grid_auto_flow": null,
            "grid_area": null,
            "grid_template_columns": null,
            "flex": null,
            "_model_name": "LayoutModel",
            "justify_items": null,
            "grid_row": null,
            "max_height": null,
            "align_content": null,
            "visibility": null,
            "align_self": null,
            "height": null,
            "min_height": null,
            "padding": null,
            "grid_auto_rows": null,
            "grid_gap": null,
            "max_width": null,
            "order": null,
            "_view_module_version": "1.2.0",
            "grid_template_areas": null,
            "object_position": null,
            "object_fit": null,
            "grid_auto_columns": null,
            "margin": null,
            "display": null,
            "left": null
          }
        },
        "47c27b9bde5240b995552c8d598a7aff": {
          "model_module": "@jupyter-widgets/controls",
          "model_name": "FloatProgressModel",
          "state": {
            "_view_name": "ProgressView",
            "style": "IPY_MODEL_dc74b0f0598d48d5aded0bb67d804e75",
            "_dom_classes": [],
            "description": "Downloading: 100%",
            "_model_name": "FloatProgressModel",
            "bar_style": "success",
            "max": 112,
            "_view_module": "@jupyter-widgets/controls",
            "_model_module_version": "1.5.0",
            "value": 112,
            "_view_count": null,
            "_view_module_version": "1.5.0",
            "orientation": "horizontal",
            "min": 0,
            "description_tooltip": null,
            "_model_module": "@jupyter-widgets/controls",
            "layout": "IPY_MODEL_a2757530bd8941d495c108fac3c611bf"
          }
        },
        "c7aadfff15ca440a9ec9138d259b9dea": {
          "model_module": "@jupyter-widgets/controls",
          "model_name": "HTMLModel",
          "state": {
            "_view_name": "HTMLView",
            "style": "IPY_MODEL_d94f368afec840219c1efae61b0915c7",
            "_dom_classes": [],
            "description": "",
            "_model_name": "HTMLModel",
            "placeholder": "​",
            "_view_module": "@jupyter-widgets/controls",
            "_model_module_version": "1.5.0",
            "value": " 112/112 [00:00&lt;00:00, 442B/s]",
            "_view_count": null,
            "_view_module_version": "1.5.0",
            "description_tooltip": null,
            "_model_module": "@jupyter-widgets/controls",
            "layout": "IPY_MODEL_a493bdd47e534ce3834eca9e0ae65694"
          }
        },
        "dc74b0f0598d48d5aded0bb67d804e75": {
          "model_module": "@jupyter-widgets/controls",
          "model_name": "ProgressStyleModel",
          "state": {
            "_view_name": "StyleView",
            "_model_name": "ProgressStyleModel",
            "description_width": "initial",
            "_view_module": "@jupyter-widgets/base",
            "_model_module_version": "1.5.0",
            "_view_count": null,
            "_view_module_version": "1.2.0",
            "bar_color": null,
            "_model_module": "@jupyter-widgets/controls"
          }
        },
        "a2757530bd8941d495c108fac3c611bf": {
          "model_module": "@jupyter-widgets/base",
          "model_name": "LayoutModel",
          "state": {
            "_view_name": "LayoutView",
            "grid_template_rows": null,
            "right": null,
            "justify_content": null,
            "_view_module": "@jupyter-widgets/base",
            "overflow": null,
            "_model_module_version": "1.2.0",
            "_view_count": null,
            "flex_flow": null,
            "width": null,
            "min_width": null,
            "border": null,
            "align_items": null,
            "bottom": null,
            "_model_module": "@jupyter-widgets/base",
            "top": null,
            "grid_column": null,
            "overflow_y": null,
            "overflow_x": null,
            "grid_auto_flow": null,
            "grid_area": null,
            "grid_template_columns": null,
            "flex": null,
            "_model_name": "LayoutModel",
            "justify_items": null,
            "grid_row": null,
            "max_height": null,
            "align_content": null,
            "visibility": null,
            "align_self": null,
            "height": null,
            "min_height": null,
            "padding": null,
            "grid_auto_rows": null,
            "grid_gap": null,
            "max_width": null,
            "order": null,
            "_view_module_version": "1.2.0",
            "grid_template_areas": null,
            "object_position": null,
            "object_fit": null,
            "grid_auto_columns": null,
            "margin": null,
            "display": null,
            "left": null
          }
        },
        "d94f368afec840219c1efae61b0915c7": {
          "model_module": "@jupyter-widgets/controls",
          "model_name": "DescriptionStyleModel",
          "state": {
            "_view_name": "StyleView",
            "_model_name": "DescriptionStyleModel",
            "description_width": "",
            "_view_module": "@jupyter-widgets/base",
            "_model_module_version": "1.5.0",
            "_view_count": null,
            "_view_module_version": "1.2.0",
            "_model_module": "@jupyter-widgets/controls"
          }
        },
        "a493bdd47e534ce3834eca9e0ae65694": {
          "model_module": "@jupyter-widgets/base",
          "model_name": "LayoutModel",
          "state": {
            "_view_name": "LayoutView",
            "grid_template_rows": null,
            "right": null,
            "justify_content": null,
            "_view_module": "@jupyter-widgets/base",
            "overflow": null,
            "_model_module_version": "1.2.0",
            "_view_count": null,
            "flex_flow": null,
            "width": null,
            "min_width": null,
            "border": null,
            "align_items": null,
            "bottom": null,
            "_model_module": "@jupyter-widgets/base",
            "top": null,
            "grid_column": null,
            "overflow_y": null,
            "overflow_x": null,
            "grid_auto_flow": null,
            "grid_area": null,
            "grid_template_columns": null,
            "flex": null,
            "_model_name": "LayoutModel",
            "justify_items": null,
            "grid_row": null,
            "max_height": null,
            "align_content": null,
            "visibility": null,
            "align_self": null,
            "height": null,
            "min_height": null,
            "padding": null,
            "grid_auto_rows": null,
            "grid_gap": null,
            "max_width": null,
            "order": null,
            "_view_module_version": "1.2.0",
            "grid_template_areas": null,
            "object_position": null,
            "object_fit": null,
            "grid_auto_columns": null,
            "margin": null,
            "display": null,
            "left": null
          }
        },
        "912375d01dd94aa691a7404cb6fb52c4": {
          "model_module": "@jupyter-widgets/controls",
          "model_name": "HBoxModel",
          "state": {
            "_view_name": "HBoxView",
            "_dom_classes": [],
            "_model_name": "HBoxModel",
            "_view_module": "@jupyter-widgets/controls",
            "_model_module_version": "1.5.0",
            "_view_count": null,
            "_view_module_version": "1.5.0",
            "box_style": "",
            "layout": "IPY_MODEL_b6c290f50a944837b79c96aa52834921",
            "_model_module": "@jupyter-widgets/controls",
            "children": [
              "IPY_MODEL_950362bace794cceb7a6dbc392578534",
              "IPY_MODEL_6fb631a80c8f46898c2b5bb556a87d58"
            ]
          }
        },
        "b6c290f50a944837b79c96aa52834921": {
          "model_module": "@jupyter-widgets/base",
          "model_name": "LayoutModel",
          "state": {
            "_view_name": "LayoutView",
            "grid_template_rows": null,
            "right": null,
            "justify_content": null,
            "_view_module": "@jupyter-widgets/base",
            "overflow": null,
            "_model_module_version": "1.2.0",
            "_view_count": null,
            "flex_flow": null,
            "width": null,
            "min_width": null,
            "border": null,
            "align_items": null,
            "bottom": null,
            "_model_module": "@jupyter-widgets/base",
            "top": null,
            "grid_column": null,
            "overflow_y": null,
            "overflow_x": null,
            "grid_auto_flow": null,
            "grid_area": null,
            "grid_template_columns": null,
            "flex": null,
            "_model_name": "LayoutModel",
            "justify_items": null,
            "grid_row": null,
            "max_height": null,
            "align_content": null,
            "visibility": null,
            "align_self": null,
            "height": null,
            "min_height": null,
            "padding": null,
            "grid_auto_rows": null,
            "grid_gap": null,
            "max_width": null,
            "order": null,
            "_view_module_version": "1.2.0",
            "grid_template_areas": null,
            "object_position": null,
            "object_fit": null,
            "grid_auto_columns": null,
            "margin": null,
            "display": null,
            "left": null
          }
        },
        "950362bace794cceb7a6dbc392578534": {
          "model_module": "@jupyter-widgets/controls",
          "model_name": "FloatProgressModel",
          "state": {
            "_view_name": "ProgressView",
            "style": "IPY_MODEL_973f5559e98349bbaeb36e004d3b86db",
            "_dom_classes": [],
            "description": "Downloading: 100%",
            "_model_name": "FloatProgressModel",
            "bar_style": "success",
            "max": 48,
            "_view_module": "@jupyter-widgets/controls",
            "_model_module_version": "1.5.0",
            "value": 48,
            "_view_count": null,
            "_view_module_version": "1.5.0",
            "orientation": "horizontal",
            "min": 0,
            "description_tooltip": null,
            "_model_module": "@jupyter-widgets/controls",
            "layout": "IPY_MODEL_636d66ef50244b2e8281119abe0519d9"
          }
        },
        "6fb631a80c8f46898c2b5bb556a87d58": {
          "model_module": "@jupyter-widgets/controls",
          "model_name": "HTMLModel",
          "state": {
            "_view_name": "HTMLView",
            "style": "IPY_MODEL_4dedc0a9f6fd43b7b192204d66b7d908",
            "_dom_classes": [],
            "description": "",
            "_model_name": "HTMLModel",
            "placeholder": "​",
            "_view_module": "@jupyter-widgets/controls",
            "_model_module_version": "1.5.0",
            "value": " 48.0/48.0 [00:00&lt;00:00, 440B/s]",
            "_view_count": null,
            "_view_module_version": "1.5.0",
            "description_tooltip": null,
            "_model_module": "@jupyter-widgets/controls",
            "layout": "IPY_MODEL_022e8bb29f274f1b9b76a1633be49649"
          }
        },
        "973f5559e98349bbaeb36e004d3b86db": {
          "model_module": "@jupyter-widgets/controls",
          "model_name": "ProgressStyleModel",
          "state": {
            "_view_name": "StyleView",
            "_model_name": "ProgressStyleModel",
            "description_width": "initial",
            "_view_module": "@jupyter-widgets/base",
            "_model_module_version": "1.5.0",
            "_view_count": null,
            "_view_module_version": "1.2.0",
            "bar_color": null,
            "_model_module": "@jupyter-widgets/controls"
          }
        },
        "636d66ef50244b2e8281119abe0519d9": {
          "model_module": "@jupyter-widgets/base",
          "model_name": "LayoutModel",
          "state": {
            "_view_name": "LayoutView",
            "grid_template_rows": null,
            "right": null,
            "justify_content": null,
            "_view_module": "@jupyter-widgets/base",
            "overflow": null,
            "_model_module_version": "1.2.0",
            "_view_count": null,
            "flex_flow": null,
            "width": null,
            "min_width": null,
            "border": null,
            "align_items": null,
            "bottom": null,
            "_model_module": "@jupyter-widgets/base",
            "top": null,
            "grid_column": null,
            "overflow_y": null,
            "overflow_x": null,
            "grid_auto_flow": null,
            "grid_area": null,
            "grid_template_columns": null,
            "flex": null,
            "_model_name": "LayoutModel",
            "justify_items": null,
            "grid_row": null,
            "max_height": null,
            "align_content": null,
            "visibility": null,
            "align_self": null,
            "height": null,
            "min_height": null,
            "padding": null,
            "grid_auto_rows": null,
            "grid_gap": null,
            "max_width": null,
            "order": null,
            "_view_module_version": "1.2.0",
            "grid_template_areas": null,
            "object_position": null,
            "object_fit": null,
            "grid_auto_columns": null,
            "margin": null,
            "display": null,
            "left": null
          }
        },
        "4dedc0a9f6fd43b7b192204d66b7d908": {
          "model_module": "@jupyter-widgets/controls",
          "model_name": "DescriptionStyleModel",
          "state": {
            "_view_name": "StyleView",
            "_model_name": "DescriptionStyleModel",
            "description_width": "",
            "_view_module": "@jupyter-widgets/base",
            "_model_module_version": "1.5.0",
            "_view_count": null,
            "_view_module_version": "1.2.0",
            "_model_module": "@jupyter-widgets/controls"
          }
        },
        "022e8bb29f274f1b9b76a1633be49649": {
          "model_module": "@jupyter-widgets/base",
          "model_name": "LayoutModel",
          "state": {
            "_view_name": "LayoutView",
            "grid_template_rows": null,
            "right": null,
            "justify_content": null,
            "_view_module": "@jupyter-widgets/base",
            "overflow": null,
            "_model_module_version": "1.2.0",
            "_view_count": null,
            "flex_flow": null,
            "width": null,
            "min_width": null,
            "border": null,
            "align_items": null,
            "bottom": null,
            "_model_module": "@jupyter-widgets/base",
            "top": null,
            "grid_column": null,
            "overflow_y": null,
            "overflow_x": null,
            "grid_auto_flow": null,
            "grid_area": null,
            "grid_template_columns": null,
            "flex": null,
            "_model_name": "LayoutModel",
            "justify_items": null,
            "grid_row": null,
            "max_height": null,
            "align_content": null,
            "visibility": null,
            "align_self": null,
            "height": null,
            "min_height": null,
            "padding": null,
            "grid_auto_rows": null,
            "grid_gap": null,
            "max_width": null,
            "order": null,
            "_view_module_version": "1.2.0",
            "grid_template_areas": null,
            "object_position": null,
            "object_fit": null,
            "grid_auto_columns": null,
            "margin": null,
            "display": null,
            "left": null
          }
        },
        "d423d35e48d441b196a780ea3f2a235b": {
          "model_module": "@jupyter-widgets/controls",
          "model_name": "HBoxModel",
          "state": {
            "_view_name": "HBoxView",
            "_dom_classes": [],
            "_model_name": "HBoxModel",
            "_view_module": "@jupyter-widgets/controls",
            "_model_module_version": "1.5.0",
            "_view_count": null,
            "_view_module_version": "1.5.0",
            "box_style": "",
            "layout": "IPY_MODEL_f3e5569a257c4977bc2e205194db4525",
            "_model_module": "@jupyter-widgets/controls",
            "children": [
              "IPY_MODEL_8297fa5a597447dab1c66d8eb6a727c2",
              "IPY_MODEL_ae8c44f61cdb4b2ca019b0e9ecfa44e3"
            ]
          }
        },
        "f3e5569a257c4977bc2e205194db4525": {
          "model_module": "@jupyter-widgets/base",
          "model_name": "LayoutModel",
          "state": {
            "_view_name": "LayoutView",
            "grid_template_rows": null,
            "right": null,
            "justify_content": null,
            "_view_module": "@jupyter-widgets/base",
            "overflow": null,
            "_model_module_version": "1.2.0",
            "_view_count": null,
            "flex_flow": null,
            "width": null,
            "min_width": null,
            "border": null,
            "align_items": null,
            "bottom": null,
            "_model_module": "@jupyter-widgets/base",
            "top": null,
            "grid_column": null,
            "overflow_y": null,
            "overflow_x": null,
            "grid_auto_flow": null,
            "grid_area": null,
            "grid_template_columns": null,
            "flex": null,
            "_model_name": "LayoutModel",
            "justify_items": null,
            "grid_row": null,
            "max_height": null,
            "align_content": null,
            "visibility": null,
            "align_self": null,
            "height": null,
            "min_height": null,
            "padding": null,
            "grid_auto_rows": null,
            "grid_gap": null,
            "max_width": null,
            "order": null,
            "_view_module_version": "1.2.0",
            "grid_template_areas": null,
            "object_position": null,
            "object_fit": null,
            "grid_auto_columns": null,
            "margin": null,
            "display": null,
            "left": null
          }
        },
        "8297fa5a597447dab1c66d8eb6a727c2": {
          "model_module": "@jupyter-widgets/controls",
          "model_name": "FloatProgressModel",
          "state": {
            "_view_name": "ProgressView",
            "style": "IPY_MODEL_a852c9993c5f4f91a7d3e188c62db5c4",
            "_dom_classes": [],
            "description": "Downloading: ",
            "_model_name": "FloatProgressModel",
            "bar_style": "success",
            "max": 7777,
            "_view_module": "@jupyter-widgets/controls",
            "_model_module_version": "1.5.0",
            "value": 7777,
            "_view_count": null,
            "_view_module_version": "1.5.0",
            "orientation": "horizontal",
            "min": 0,
            "description_tooltip": null,
            "_model_module": "@jupyter-widgets/controls",
            "layout": "IPY_MODEL_8eaeb4f5e4c443399d647c28e37e00bf"
          }
        },
        "ae8c44f61cdb4b2ca019b0e9ecfa44e3": {
          "model_module": "@jupyter-widgets/controls",
          "model_name": "HTMLModel",
          "state": {
            "_view_name": "HTMLView",
            "style": "IPY_MODEL_fd27a2584930471a86856e5dbac34e47",
            "_dom_classes": [],
            "description": "",
            "_model_name": "HTMLModel",
            "placeholder": "​",
            "_view_module": "@jupyter-widgets/controls",
            "_model_module_version": "1.5.0",
            "value": " 28.8k/? [00:00&lt;00:00, 111kB/s]",
            "_view_count": null,
            "_view_module_version": "1.5.0",
            "description_tooltip": null,
            "_model_module": "@jupyter-widgets/controls",
            "layout": "IPY_MODEL_de6641b1591f47e5a1abdb0c59cb5316"
          }
        },
        "a852c9993c5f4f91a7d3e188c62db5c4": {
          "model_module": "@jupyter-widgets/controls",
          "model_name": "ProgressStyleModel",
          "state": {
            "_view_name": "StyleView",
            "_model_name": "ProgressStyleModel",
            "description_width": "initial",
            "_view_module": "@jupyter-widgets/base",
            "_model_module_version": "1.5.0",
            "_view_count": null,
            "_view_module_version": "1.2.0",
            "bar_color": null,
            "_model_module": "@jupyter-widgets/controls"
          }
        },
        "8eaeb4f5e4c443399d647c28e37e00bf": {
          "model_module": "@jupyter-widgets/base",
          "model_name": "LayoutModel",
          "state": {
            "_view_name": "LayoutView",
            "grid_template_rows": null,
            "right": null,
            "justify_content": null,
            "_view_module": "@jupyter-widgets/base",
            "overflow": null,
            "_model_module_version": "1.2.0",
            "_view_count": null,
            "flex_flow": null,
            "width": null,
            "min_width": null,
            "border": null,
            "align_items": null,
            "bottom": null,
            "_model_module": "@jupyter-widgets/base",
            "top": null,
            "grid_column": null,
            "overflow_y": null,
            "overflow_x": null,
            "grid_auto_flow": null,
            "grid_area": null,
            "grid_template_columns": null,
            "flex": null,
            "_model_name": "LayoutModel",
            "justify_items": null,
            "grid_row": null,
            "max_height": null,
            "align_content": null,
            "visibility": null,
            "align_self": null,
            "height": null,
            "min_height": null,
            "padding": null,
            "grid_auto_rows": null,
            "grid_gap": null,
            "max_width": null,
            "order": null,
            "_view_module_version": "1.2.0",
            "grid_template_areas": null,
            "object_position": null,
            "object_fit": null,
            "grid_auto_columns": null,
            "margin": null,
            "display": null,
            "left": null
          }
        },
        "fd27a2584930471a86856e5dbac34e47": {
          "model_module": "@jupyter-widgets/controls",
          "model_name": "DescriptionStyleModel",
          "state": {
            "_view_name": "StyleView",
            "_model_name": "DescriptionStyleModel",
            "description_width": "",
            "_view_module": "@jupyter-widgets/base",
            "_model_module_version": "1.5.0",
            "_view_count": null,
            "_view_module_version": "1.2.0",
            "_model_module": "@jupyter-widgets/controls"
          }
        },
        "de6641b1591f47e5a1abdb0c59cb5316": {
          "model_module": "@jupyter-widgets/base",
          "model_name": "LayoutModel",
          "state": {
            "_view_name": "LayoutView",
            "grid_template_rows": null,
            "right": null,
            "justify_content": null,
            "_view_module": "@jupyter-widgets/base",
            "overflow": null,
            "_model_module_version": "1.2.0",
            "_view_count": null,
            "flex_flow": null,
            "width": null,
            "min_width": null,
            "border": null,
            "align_items": null,
            "bottom": null,
            "_model_module": "@jupyter-widgets/base",
            "top": null,
            "grid_column": null,
            "overflow_y": null,
            "overflow_x": null,
            "grid_auto_flow": null,
            "grid_area": null,
            "grid_template_columns": null,
            "flex": null,
            "_model_name": "LayoutModel",
            "justify_items": null,
            "grid_row": null,
            "max_height": null,
            "align_content": null,
            "visibility": null,
            "align_self": null,
            "height": null,
            "min_height": null,
            "padding": null,
            "grid_auto_rows": null,
            "grid_gap": null,
            "max_width": null,
            "order": null,
            "_view_module_version": "1.2.0",
            "grid_template_areas": null,
            "object_position": null,
            "object_fit": null,
            "grid_auto_columns": null,
            "margin": null,
            "display": null,
            "left": null
          }
        },
        "5460fc29ba8e4b19bf45167cb9604022": {
          "model_module": "@jupyter-widgets/controls",
          "model_name": "HBoxModel",
          "state": {
            "_view_name": "HBoxView",
            "_dom_classes": [],
            "_model_name": "HBoxModel",
            "_view_module": "@jupyter-widgets/controls",
            "_model_module_version": "1.5.0",
            "_view_count": null,
            "_view_module_version": "1.5.0",
            "box_style": "",
            "layout": "IPY_MODEL_97f93dd17ee44817a1974e5a913a3b14",
            "_model_module": "@jupyter-widgets/controls",
            "children": [
              "IPY_MODEL_982644ac51e44c8983c4d2f6122d84ce",
              "IPY_MODEL_f04c4d3d4c964d7f8c2b042715cd934b"
            ]
          }
        },
        "97f93dd17ee44817a1974e5a913a3b14": {
          "model_module": "@jupyter-widgets/base",
          "model_name": "LayoutModel",
          "state": {
            "_view_name": "LayoutView",
            "grid_template_rows": null,
            "right": null,
            "justify_content": null,
            "_view_module": "@jupyter-widgets/base",
            "overflow": null,
            "_model_module_version": "1.2.0",
            "_view_count": null,
            "flex_flow": null,
            "width": null,
            "min_width": null,
            "border": null,
            "align_items": null,
            "bottom": null,
            "_model_module": "@jupyter-widgets/base",
            "top": null,
            "grid_column": null,
            "overflow_y": null,
            "overflow_x": null,
            "grid_auto_flow": null,
            "grid_area": null,
            "grid_template_columns": null,
            "flex": null,
            "_model_name": "LayoutModel",
            "justify_items": null,
            "grid_row": null,
            "max_height": null,
            "align_content": null,
            "visibility": null,
            "align_self": null,
            "height": null,
            "min_height": null,
            "padding": null,
            "grid_auto_rows": null,
            "grid_gap": null,
            "max_width": null,
            "order": null,
            "_view_module_version": "1.2.0",
            "grid_template_areas": null,
            "object_position": null,
            "object_fit": null,
            "grid_auto_columns": null,
            "margin": null,
            "display": null,
            "left": null
          }
        },
        "982644ac51e44c8983c4d2f6122d84ce": {
          "model_module": "@jupyter-widgets/controls",
          "model_name": "FloatProgressModel",
          "state": {
            "_view_name": "ProgressView",
            "style": "IPY_MODEL_bedf05e48e3f4e349e7089153f3179d8",
            "_dom_classes": [],
            "description": "Downloading: ",
            "_model_name": "FloatProgressModel",
            "bar_style": "success",
            "max": 4473,
            "_view_module": "@jupyter-widgets/controls",
            "_model_module_version": "1.5.0",
            "value": 4473,
            "_view_count": null,
            "_view_module_version": "1.5.0",
            "orientation": "horizontal",
            "min": 0,
            "description_tooltip": null,
            "_model_module": "@jupyter-widgets/controls",
            "layout": "IPY_MODEL_6e3eef2e5ddb47178aaa600918aad382"
          }
        },
        "f04c4d3d4c964d7f8c2b042715cd934b": {
          "model_module": "@jupyter-widgets/controls",
          "model_name": "HTMLModel",
          "state": {
            "_view_name": "HTMLView",
            "style": "IPY_MODEL_4ae7428573c54956b8f9341047e28ad6",
            "_dom_classes": [],
            "description": "",
            "_model_name": "HTMLModel",
            "placeholder": "​",
            "_view_module": "@jupyter-widgets/controls",
            "_model_module_version": "1.5.0",
            "value": " 28.7k/? [00:05&lt;00:00, 5.22kB/s]",
            "_view_count": null,
            "_view_module_version": "1.5.0",
            "description_tooltip": null,
            "_model_module": "@jupyter-widgets/controls",
            "layout": "IPY_MODEL_d16722b1bfdd468aa5e64673143af6e6"
          }
        },
        "bedf05e48e3f4e349e7089153f3179d8": {
          "model_module": "@jupyter-widgets/controls",
          "model_name": "ProgressStyleModel",
          "state": {
            "_view_name": "StyleView",
            "_model_name": "ProgressStyleModel",
            "description_width": "initial",
            "_view_module": "@jupyter-widgets/base",
            "_model_module_version": "1.5.0",
            "_view_count": null,
            "_view_module_version": "1.2.0",
            "bar_color": null,
            "_model_module": "@jupyter-widgets/controls"
          }
        },
        "6e3eef2e5ddb47178aaa600918aad382": {
          "model_module": "@jupyter-widgets/base",
          "model_name": "LayoutModel",
          "state": {
            "_view_name": "LayoutView",
            "grid_template_rows": null,
            "right": null,
            "justify_content": null,
            "_view_module": "@jupyter-widgets/base",
            "overflow": null,
            "_model_module_version": "1.2.0",
            "_view_count": null,
            "flex_flow": null,
            "width": null,
            "min_width": null,
            "border": null,
            "align_items": null,
            "bottom": null,
            "_model_module": "@jupyter-widgets/base",
            "top": null,
            "grid_column": null,
            "overflow_y": null,
            "overflow_x": null,
            "grid_auto_flow": null,
            "grid_area": null,
            "grid_template_columns": null,
            "flex": null,
            "_model_name": "LayoutModel",
            "justify_items": null,
            "grid_row": null,
            "max_height": null,
            "align_content": null,
            "visibility": null,
            "align_self": null,
            "height": null,
            "min_height": null,
            "padding": null,
            "grid_auto_rows": null,
            "grid_gap": null,
            "max_width": null,
            "order": null,
            "_view_module_version": "1.2.0",
            "grid_template_areas": null,
            "object_position": null,
            "object_fit": null,
            "grid_auto_columns": null,
            "margin": null,
            "display": null,
            "left": null
          }
        },
        "4ae7428573c54956b8f9341047e28ad6": {
          "model_module": "@jupyter-widgets/controls",
          "model_name": "DescriptionStyleModel",
          "state": {
            "_view_name": "StyleView",
            "_model_name": "DescriptionStyleModel",
            "description_width": "",
            "_view_module": "@jupyter-widgets/base",
            "_model_module_version": "1.5.0",
            "_view_count": null,
            "_view_module_version": "1.2.0",
            "_model_module": "@jupyter-widgets/controls"
          }
        },
        "d16722b1bfdd468aa5e64673143af6e6": {
          "model_module": "@jupyter-widgets/base",
          "model_name": "LayoutModel",
          "state": {
            "_view_name": "LayoutView",
            "grid_template_rows": null,
            "right": null,
            "justify_content": null,
            "_view_module": "@jupyter-widgets/base",
            "overflow": null,
            "_model_module_version": "1.2.0",
            "_view_count": null,
            "flex_flow": null,
            "width": null,
            "min_width": null,
            "border": null,
            "align_items": null,
            "bottom": null,
            "_model_module": "@jupyter-widgets/base",
            "top": null,
            "grid_column": null,
            "overflow_y": null,
            "overflow_x": null,
            "grid_auto_flow": null,
            "grid_area": null,
            "grid_template_columns": null,
            "flex": null,
            "_model_name": "LayoutModel",
            "justify_items": null,
            "grid_row": null,
            "max_height": null,
            "align_content": null,
            "visibility": null,
            "align_self": null,
            "height": null,
            "min_height": null,
            "padding": null,
            "grid_auto_rows": null,
            "grid_gap": null,
            "max_width": null,
            "order": null,
            "_view_module_version": "1.2.0",
            "grid_template_areas": null,
            "object_position": null,
            "object_fit": null,
            "grid_auto_columns": null,
            "margin": null,
            "display": null,
            "left": null
          }
        },
        "db7d84430f664e83a5616b5d99d07ad8": {
          "model_module": "@jupyter-widgets/controls",
          "model_name": "HBoxModel",
          "state": {
            "_view_name": "HBoxView",
            "_dom_classes": [],
            "_model_name": "HBoxModel",
            "_view_module": "@jupyter-widgets/controls",
            "_model_module_version": "1.5.0",
            "_view_count": null,
            "_view_module_version": "1.5.0",
            "box_style": "",
            "layout": "IPY_MODEL_1960cabb38664c29b64393367eae7617",
            "_model_module": "@jupyter-widgets/controls",
            "children": [
              "IPY_MODEL_efcc7516f2b04739a91542850a092c04",
              "IPY_MODEL_69c02534a5f84defb3d8565b9e0a08f9"
            ]
          }
        },
        "1960cabb38664c29b64393367eae7617": {
          "model_module": "@jupyter-widgets/base",
          "model_name": "LayoutModel",
          "state": {
            "_view_name": "LayoutView",
            "grid_template_rows": null,
            "right": null,
            "justify_content": null,
            "_view_module": "@jupyter-widgets/base",
            "overflow": null,
            "_model_module_version": "1.2.0",
            "_view_count": null,
            "flex_flow": null,
            "width": null,
            "min_width": null,
            "border": null,
            "align_items": null,
            "bottom": null,
            "_model_module": "@jupyter-widgets/base",
            "top": null,
            "grid_column": null,
            "overflow_y": null,
            "overflow_x": null,
            "grid_auto_flow": null,
            "grid_area": null,
            "grid_template_columns": null,
            "flex": null,
            "_model_name": "LayoutModel",
            "justify_items": null,
            "grid_row": null,
            "max_height": null,
            "align_content": null,
            "visibility": null,
            "align_self": null,
            "height": null,
            "min_height": null,
            "padding": null,
            "grid_auto_rows": null,
            "grid_gap": null,
            "max_width": null,
            "order": null,
            "_view_module_version": "1.2.0",
            "grid_template_areas": null,
            "object_position": null,
            "object_fit": null,
            "grid_auto_columns": null,
            "margin": null,
            "display": null,
            "left": null
          }
        },
        "efcc7516f2b04739a91542850a092c04": {
          "model_module": "@jupyter-widgets/controls",
          "model_name": "FloatProgressModel",
          "state": {
            "_view_name": "ProgressView",
            "style": "IPY_MODEL_099b00e1d60345948e7599586d0aeb23",
            "_dom_classes": [],
            "description": "Downloading: 100%",
            "_model_name": "FloatProgressModel",
            "bar_style": "success",
            "max": 41696084,
            "_view_module": "@jupyter-widgets/controls",
            "_model_module_version": "1.5.0",
            "value": 41696084,
            "_view_count": null,
            "_view_module_version": "1.5.0",
            "orientation": "horizontal",
            "min": 0,
            "description_tooltip": null,
            "_model_module": "@jupyter-widgets/controls",
            "layout": "IPY_MODEL_d0db215714344ea5b043003b55e4751f"
          }
        },
        "69c02534a5f84defb3d8565b9e0a08f9": {
          "model_module": "@jupyter-widgets/controls",
          "model_name": "HTMLModel",
          "state": {
            "_view_name": "HTMLView",
            "style": "IPY_MODEL_e729b74b350d43e5829a1002355ab83b",
            "_dom_classes": [],
            "description": "",
            "_model_name": "HTMLModel",
            "placeholder": "​",
            "_view_module": "@jupyter-widgets/controls",
            "_model_module_version": "1.5.0",
            "value": " 41.7M/41.7M [00:04&lt;00:00, 9.41MB/s]",
            "_view_count": null,
            "_view_module_version": "1.5.0",
            "description_tooltip": null,
            "_model_module": "@jupyter-widgets/controls",
            "layout": "IPY_MODEL_95380c6f83494030abc0a7693f91ac43"
          }
        },
        "099b00e1d60345948e7599586d0aeb23": {
          "model_module": "@jupyter-widgets/controls",
          "model_name": "ProgressStyleModel",
          "state": {
            "_view_name": "StyleView",
            "_model_name": "ProgressStyleModel",
            "description_width": "initial",
            "_view_module": "@jupyter-widgets/base",
            "_model_module_version": "1.5.0",
            "_view_count": null,
            "_view_module_version": "1.2.0",
            "bar_color": null,
            "_model_module": "@jupyter-widgets/controls"
          }
        },
        "d0db215714344ea5b043003b55e4751f": {
          "model_module": "@jupyter-widgets/base",
          "model_name": "LayoutModel",
          "state": {
            "_view_name": "LayoutView",
            "grid_template_rows": null,
            "right": null,
            "justify_content": null,
            "_view_module": "@jupyter-widgets/base",
            "overflow": null,
            "_model_module_version": "1.2.0",
            "_view_count": null,
            "flex_flow": null,
            "width": null,
            "min_width": null,
            "border": null,
            "align_items": null,
            "bottom": null,
            "_model_module": "@jupyter-widgets/base",
            "top": null,
            "grid_column": null,
            "overflow_y": null,
            "overflow_x": null,
            "grid_auto_flow": null,
            "grid_area": null,
            "grid_template_columns": null,
            "flex": null,
            "_model_name": "LayoutModel",
            "justify_items": null,
            "grid_row": null,
            "max_height": null,
            "align_content": null,
            "visibility": null,
            "align_self": null,
            "height": null,
            "min_height": null,
            "padding": null,
            "grid_auto_rows": null,
            "grid_gap": null,
            "max_width": null,
            "order": null,
            "_view_module_version": "1.2.0",
            "grid_template_areas": null,
            "object_position": null,
            "object_fit": null,
            "grid_auto_columns": null,
            "margin": null,
            "display": null,
            "left": null
          }
        },
        "e729b74b350d43e5829a1002355ab83b": {
          "model_module": "@jupyter-widgets/controls",
          "model_name": "DescriptionStyleModel",
          "state": {
            "_view_name": "StyleView",
            "_model_name": "DescriptionStyleModel",
            "description_width": "",
            "_view_module": "@jupyter-widgets/base",
            "_model_module_version": "1.5.0",
            "_view_count": null,
            "_view_module_version": "1.2.0",
            "_model_module": "@jupyter-widgets/controls"
          }
        },
        "95380c6f83494030abc0a7693f91ac43": {
          "model_module": "@jupyter-widgets/base",
          "model_name": "LayoutModel",
          "state": {
            "_view_name": "LayoutView",
            "grid_template_rows": null,
            "right": null,
            "justify_content": null,
            "_view_module": "@jupyter-widgets/base",
            "overflow": null,
            "_model_module_version": "1.2.0",
            "_view_count": null,
            "flex_flow": null,
            "width": null,
            "min_width": null,
            "border": null,
            "align_items": null,
            "bottom": null,
            "_model_module": "@jupyter-widgets/base",
            "top": null,
            "grid_column": null,
            "overflow_y": null,
            "overflow_x": null,
            "grid_auto_flow": null,
            "grid_area": null,
            "grid_template_columns": null,
            "flex": null,
            "_model_name": "LayoutModel",
            "justify_items": null,
            "grid_row": null,
            "max_height": null,
            "align_content": null,
            "visibility": null,
            "align_self": null,
            "height": null,
            "min_height": null,
            "padding": null,
            "grid_auto_rows": null,
            "grid_gap": null,
            "max_width": null,
            "order": null,
            "_view_module_version": "1.2.0",
            "grid_template_areas": null,
            "object_position": null,
            "object_fit": null,
            "grid_auto_columns": null,
            "margin": null,
            "display": null,
            "left": null
          }
        },
        "f155c1798d7c412090f5aef6f4612859": {
          "model_module": "@jupyter-widgets/controls",
          "model_name": "HBoxModel",
          "state": {
            "_view_name": "HBoxView",
            "_dom_classes": [],
            "_model_name": "HBoxModel",
            "_view_module": "@jupyter-widgets/controls",
            "_model_module_version": "1.5.0",
            "_view_count": null,
            "_view_module_version": "1.5.0",
            "box_style": "",
            "layout": "IPY_MODEL_32da85615bd4404cbaf2afe42b2c82bc",
            "_model_module": "@jupyter-widgets/controls",
            "children": [
              "IPY_MODEL_952ea6ad12ed423e95b91abd2ebea45c",
              "IPY_MODEL_5a40e9cdf2314da88fee454185f0e6ac"
            ]
          }
        },
        "32da85615bd4404cbaf2afe42b2c82bc": {
          "model_module": "@jupyter-widgets/base",
          "model_name": "LayoutModel",
          "state": {
            "_view_name": "LayoutView",
            "grid_template_rows": null,
            "right": null,
            "justify_content": null,
            "_view_module": "@jupyter-widgets/base",
            "overflow": null,
            "_model_module_version": "1.2.0",
            "_view_count": null,
            "flex_flow": null,
            "width": null,
            "min_width": null,
            "border": null,
            "align_items": null,
            "bottom": null,
            "_model_module": "@jupyter-widgets/base",
            "top": null,
            "grid_column": null,
            "overflow_y": null,
            "overflow_x": null,
            "grid_auto_flow": null,
            "grid_area": null,
            "grid_template_columns": null,
            "flex": null,
            "_model_name": "LayoutModel",
            "justify_items": null,
            "grid_row": null,
            "max_height": null,
            "align_content": null,
            "visibility": null,
            "align_self": null,
            "height": null,
            "min_height": null,
            "padding": null,
            "grid_auto_rows": null,
            "grid_gap": null,
            "max_width": null,
            "order": null,
            "_view_module_version": "1.2.0",
            "grid_template_areas": null,
            "object_position": null,
            "object_fit": null,
            "grid_auto_columns": null,
            "margin": null,
            "display": null,
            "left": null
          }
        },
        "952ea6ad12ed423e95b91abd2ebea45c": {
          "model_module": "@jupyter-widgets/controls",
          "model_name": "FloatProgressModel",
          "state": {
            "_view_name": "ProgressView",
            "style": "IPY_MODEL_bffcd77f4fbb42c7b66d17c554646f84",
            "_dom_classes": [],
            "description": "",
            "_model_name": "FloatProgressModel",
            "bar_style": "info",
            "max": 1,
            "_view_module": "@jupyter-widgets/controls",
            "_model_module_version": "1.5.0",
            "value": 1,
            "_view_count": null,
            "_view_module_version": "1.5.0",
            "orientation": "horizontal",
            "min": 0,
            "description_tooltip": null,
            "_model_module": "@jupyter-widgets/controls",
            "layout": "IPY_MODEL_ed7e0bbfe0104e82848f0bdce54ff78a"
          }
        },
        "5a40e9cdf2314da88fee454185f0e6ac": {
          "model_module": "@jupyter-widgets/controls",
          "model_name": "HTMLModel",
          "state": {
            "_view_name": "HTMLView",
            "style": "IPY_MODEL_fd0a7d91cabb4b8caa3c5a1a5919a4e6",
            "_dom_classes": [],
            "description": "",
            "_model_name": "HTMLModel",
            "placeholder": "​",
            "_view_module": "@jupyter-widgets/controls",
            "_model_module_version": "1.5.0",
            "value": " 363846/0 [00:16&lt;00:00, 23707.42 examples/s]",
            "_view_count": null,
            "_view_module_version": "1.5.0",
            "description_tooltip": null,
            "_model_module": "@jupyter-widgets/controls",
            "layout": "IPY_MODEL_ca5244eb343c4bfd8140fb07ec36c08e"
          }
        },
        "bffcd77f4fbb42c7b66d17c554646f84": {
          "model_module": "@jupyter-widgets/controls",
          "model_name": "ProgressStyleModel",
          "state": {
            "_view_name": "StyleView",
            "_model_name": "ProgressStyleModel",
            "description_width": "initial",
            "_view_module": "@jupyter-widgets/base",
            "_model_module_version": "1.5.0",
            "_view_count": null,
            "_view_module_version": "1.2.0",
            "bar_color": null,
            "_model_module": "@jupyter-widgets/controls"
          }
        },
        "ed7e0bbfe0104e82848f0bdce54ff78a": {
          "model_module": "@jupyter-widgets/base",
          "model_name": "LayoutModel",
          "state": {
            "_view_name": "LayoutView",
            "grid_template_rows": null,
            "right": null,
            "justify_content": null,
            "_view_module": "@jupyter-widgets/base",
            "overflow": null,
            "_model_module_version": "1.2.0",
            "_view_count": null,
            "flex_flow": null,
            "width": null,
            "min_width": null,
            "border": null,
            "align_items": null,
            "bottom": null,
            "_model_module": "@jupyter-widgets/base",
            "top": null,
            "grid_column": null,
            "overflow_y": null,
            "overflow_x": null,
            "grid_auto_flow": null,
            "grid_area": null,
            "grid_template_columns": null,
            "flex": null,
            "_model_name": "LayoutModel",
            "justify_items": null,
            "grid_row": null,
            "max_height": null,
            "align_content": null,
            "visibility": null,
            "align_self": null,
            "height": null,
            "min_height": null,
            "padding": null,
            "grid_auto_rows": null,
            "grid_gap": null,
            "max_width": null,
            "order": null,
            "_view_module_version": "1.2.0",
            "grid_template_areas": null,
            "object_position": null,
            "object_fit": null,
            "grid_auto_columns": null,
            "margin": null,
            "display": null,
            "left": null
          }
        },
        "fd0a7d91cabb4b8caa3c5a1a5919a4e6": {
          "model_module": "@jupyter-widgets/controls",
          "model_name": "DescriptionStyleModel",
          "state": {
            "_view_name": "StyleView",
            "_model_name": "DescriptionStyleModel",
            "description_width": "",
            "_view_module": "@jupyter-widgets/base",
            "_model_module_version": "1.5.0",
            "_view_count": null,
            "_view_module_version": "1.2.0",
            "_model_module": "@jupyter-widgets/controls"
          }
        },
        "ca5244eb343c4bfd8140fb07ec36c08e": {
          "model_module": "@jupyter-widgets/base",
          "model_name": "LayoutModel",
          "state": {
            "_view_name": "LayoutView",
            "grid_template_rows": null,
            "right": null,
            "justify_content": null,
            "_view_module": "@jupyter-widgets/base",
            "overflow": null,
            "_model_module_version": "1.2.0",
            "_view_count": null,
            "flex_flow": null,
            "width": null,
            "min_width": null,
            "border": null,
            "align_items": null,
            "bottom": null,
            "_model_module": "@jupyter-widgets/base",
            "top": null,
            "grid_column": null,
            "overflow_y": null,
            "overflow_x": null,
            "grid_auto_flow": null,
            "grid_area": null,
            "grid_template_columns": null,
            "flex": null,
            "_model_name": "LayoutModel",
            "justify_items": null,
            "grid_row": null,
            "max_height": null,
            "align_content": null,
            "visibility": null,
            "align_self": null,
            "height": null,
            "min_height": null,
            "padding": null,
            "grid_auto_rows": null,
            "grid_gap": null,
            "max_width": null,
            "order": null,
            "_view_module_version": "1.2.0",
            "grid_template_areas": null,
            "object_position": null,
            "object_fit": null,
            "grid_auto_columns": null,
            "margin": null,
            "display": null,
            "left": null
          }
        },
        "4f2008e9e4234c479a348f1da9c82354": {
          "model_module": "@jupyter-widgets/controls",
          "model_name": "HBoxModel",
          "state": {
            "_view_name": "HBoxView",
            "_dom_classes": [],
            "_model_name": "HBoxModel",
            "_view_module": "@jupyter-widgets/controls",
            "_model_module_version": "1.5.0",
            "_view_count": null,
            "_view_module_version": "1.5.0",
            "box_style": "",
            "layout": "IPY_MODEL_53148be21d48400195865c811ea697c6",
            "_model_module": "@jupyter-widgets/controls",
            "children": [
              "IPY_MODEL_2df8e21d446f498790d84c5ad31801cc",
              "IPY_MODEL_c23eeb560e0e4c47849c693707148bac"
            ]
          }
        },
        "53148be21d48400195865c811ea697c6": {
          "model_module": "@jupyter-widgets/base",
          "model_name": "LayoutModel",
          "state": {
            "_view_name": "LayoutView",
            "grid_template_rows": null,
            "right": null,
            "justify_content": null,
            "_view_module": "@jupyter-widgets/base",
            "overflow": null,
            "_model_module_version": "1.2.0",
            "_view_count": null,
            "flex_flow": null,
            "width": null,
            "min_width": null,
            "border": null,
            "align_items": null,
            "bottom": null,
            "_model_module": "@jupyter-widgets/base",
            "top": null,
            "grid_column": null,
            "overflow_y": null,
            "overflow_x": null,
            "grid_auto_flow": null,
            "grid_area": null,
            "grid_template_columns": null,
            "flex": null,
            "_model_name": "LayoutModel",
            "justify_items": null,
            "grid_row": null,
            "max_height": null,
            "align_content": null,
            "visibility": null,
            "align_self": null,
            "height": null,
            "min_height": null,
            "padding": null,
            "grid_auto_rows": null,
            "grid_gap": null,
            "max_width": null,
            "order": null,
            "_view_module_version": "1.2.0",
            "grid_template_areas": null,
            "object_position": null,
            "object_fit": null,
            "grid_auto_columns": null,
            "margin": null,
            "display": null,
            "left": null
          }
        },
        "2df8e21d446f498790d84c5ad31801cc": {
          "model_module": "@jupyter-widgets/controls",
          "model_name": "FloatProgressModel",
          "state": {
            "_view_name": "ProgressView",
            "style": "IPY_MODEL_fff7476d88d840f69d9250a91a816b95",
            "_dom_classes": [],
            "description": "",
            "_model_name": "FloatProgressModel",
            "bar_style": "info",
            "max": 1,
            "_view_module": "@jupyter-widgets/controls",
            "_model_module_version": "1.5.0",
            "value": 1,
            "_view_count": null,
            "_view_module_version": "1.5.0",
            "orientation": "horizontal",
            "min": 0,
            "description_tooltip": null,
            "_model_module": "@jupyter-widgets/controls",
            "layout": "IPY_MODEL_16a4f23985974fb8afda1342961fdb82"
          }
        },
        "c23eeb560e0e4c47849c693707148bac": {
          "model_module": "@jupyter-widgets/controls",
          "model_name": "HTMLModel",
          "state": {
            "_view_name": "HTMLView",
            "style": "IPY_MODEL_66d1045f739c4a1286cac3a1be5f255c",
            "_dom_classes": [],
            "description": "",
            "_model_name": "HTMLModel",
            "placeholder": "​",
            "_view_module": "@jupyter-widgets/controls",
            "_model_module_version": "1.5.0",
            "value": " 40430/0 [00:01&lt;00:00, 21566.56 examples/s]",
            "_view_count": null,
            "_view_module_version": "1.5.0",
            "description_tooltip": null,
            "_model_module": "@jupyter-widgets/controls",
            "layout": "IPY_MODEL_edc1b5f2f047485eb643f38302707892"
          }
        },
        "fff7476d88d840f69d9250a91a816b95": {
          "model_module": "@jupyter-widgets/controls",
          "model_name": "ProgressStyleModel",
          "state": {
            "_view_name": "StyleView",
            "_model_name": "ProgressStyleModel",
            "description_width": "initial",
            "_view_module": "@jupyter-widgets/base",
            "_model_module_version": "1.5.0",
            "_view_count": null,
            "_view_module_version": "1.2.0",
            "bar_color": null,
            "_model_module": "@jupyter-widgets/controls"
          }
        },
        "16a4f23985974fb8afda1342961fdb82": {
          "model_module": "@jupyter-widgets/base",
          "model_name": "LayoutModel",
          "state": {
            "_view_name": "LayoutView",
            "grid_template_rows": null,
            "right": null,
            "justify_content": null,
            "_view_module": "@jupyter-widgets/base",
            "overflow": null,
            "_model_module_version": "1.2.0",
            "_view_count": null,
            "flex_flow": null,
            "width": null,
            "min_width": null,
            "border": null,
            "align_items": null,
            "bottom": null,
            "_model_module": "@jupyter-widgets/base",
            "top": null,
            "grid_column": null,
            "overflow_y": null,
            "overflow_x": null,
            "grid_auto_flow": null,
            "grid_area": null,
            "grid_template_columns": null,
            "flex": null,
            "_model_name": "LayoutModel",
            "justify_items": null,
            "grid_row": null,
            "max_height": null,
            "align_content": null,
            "visibility": null,
            "align_self": null,
            "height": null,
            "min_height": null,
            "padding": null,
            "grid_auto_rows": null,
            "grid_gap": null,
            "max_width": null,
            "order": null,
            "_view_module_version": "1.2.0",
            "grid_template_areas": null,
            "object_position": null,
            "object_fit": null,
            "grid_auto_columns": null,
            "margin": null,
            "display": null,
            "left": null
          }
        },
        "66d1045f739c4a1286cac3a1be5f255c": {
          "model_module": "@jupyter-widgets/controls",
          "model_name": "DescriptionStyleModel",
          "state": {
            "_view_name": "StyleView",
            "_model_name": "DescriptionStyleModel",
            "description_width": "",
            "_view_module": "@jupyter-widgets/base",
            "_model_module_version": "1.5.0",
            "_view_count": null,
            "_view_module_version": "1.2.0",
            "_model_module": "@jupyter-widgets/controls"
          }
        },
        "edc1b5f2f047485eb643f38302707892": {
          "model_module": "@jupyter-widgets/base",
          "model_name": "LayoutModel",
          "state": {
            "_view_name": "LayoutView",
            "grid_template_rows": null,
            "right": null,
            "justify_content": null,
            "_view_module": "@jupyter-widgets/base",
            "overflow": null,
            "_model_module_version": "1.2.0",
            "_view_count": null,
            "flex_flow": null,
            "width": null,
            "min_width": null,
            "border": null,
            "align_items": null,
            "bottom": null,
            "_model_module": "@jupyter-widgets/base",
            "top": null,
            "grid_column": null,
            "overflow_y": null,
            "overflow_x": null,
            "grid_auto_flow": null,
            "grid_area": null,
            "grid_template_columns": null,
            "flex": null,
            "_model_name": "LayoutModel",
            "justify_items": null,
            "grid_row": null,
            "max_height": null,
            "align_content": null,
            "visibility": null,
            "align_self": null,
            "height": null,
            "min_height": null,
            "padding": null,
            "grid_auto_rows": null,
            "grid_gap": null,
            "max_width": null,
            "order": null,
            "_view_module_version": "1.2.0",
            "grid_template_areas": null,
            "object_position": null,
            "object_fit": null,
            "grid_auto_columns": null,
            "margin": null,
            "display": null,
            "left": null
          }
        },
        "7562525ca7804ada8571a649384b6932": {
          "model_module": "@jupyter-widgets/controls",
          "model_name": "HBoxModel",
          "state": {
            "_view_name": "HBoxView",
            "_dom_classes": [],
            "_model_name": "HBoxModel",
            "_view_module": "@jupyter-widgets/controls",
            "_model_module_version": "1.5.0",
            "_view_count": null,
            "_view_module_version": "1.5.0",
            "box_style": "",
            "layout": "IPY_MODEL_b52d56dda9084000a7269c452d3cab86",
            "_model_module": "@jupyter-widgets/controls",
            "children": [
              "IPY_MODEL_6d9b76dc60254031933e0885a9391870",
              "IPY_MODEL_88cad2b5b5d74d46be5d1bd5bf656d46"
            ]
          }
        },
        "b52d56dda9084000a7269c452d3cab86": {
          "model_module": "@jupyter-widgets/base",
          "model_name": "LayoutModel",
          "state": {
            "_view_name": "LayoutView",
            "grid_template_rows": null,
            "right": null,
            "justify_content": null,
            "_view_module": "@jupyter-widgets/base",
            "overflow": null,
            "_model_module_version": "1.2.0",
            "_view_count": null,
            "flex_flow": null,
            "width": null,
            "min_width": null,
            "border": null,
            "align_items": null,
            "bottom": null,
            "_model_module": "@jupyter-widgets/base",
            "top": null,
            "grid_column": null,
            "overflow_y": null,
            "overflow_x": null,
            "grid_auto_flow": null,
            "grid_area": null,
            "grid_template_columns": null,
            "flex": null,
            "_model_name": "LayoutModel",
            "justify_items": null,
            "grid_row": null,
            "max_height": null,
            "align_content": null,
            "visibility": null,
            "align_self": null,
            "height": null,
            "min_height": null,
            "padding": null,
            "grid_auto_rows": null,
            "grid_gap": null,
            "max_width": null,
            "order": null,
            "_view_module_version": "1.2.0",
            "grid_template_areas": null,
            "object_position": null,
            "object_fit": null,
            "grid_auto_columns": null,
            "margin": null,
            "display": null,
            "left": null
          }
        },
        "6d9b76dc60254031933e0885a9391870": {
          "model_module": "@jupyter-widgets/controls",
          "model_name": "FloatProgressModel",
          "state": {
            "_view_name": "ProgressView",
            "style": "IPY_MODEL_e28e266790724c1da380509c9e70bfd8",
            "_dom_classes": [],
            "description": "",
            "_model_name": "FloatProgressModel",
            "bar_style": "info",
            "max": 1,
            "_view_module": "@jupyter-widgets/controls",
            "_model_module_version": "1.5.0",
            "value": 1,
            "_view_count": null,
            "_view_module_version": "1.5.0",
            "orientation": "horizontal",
            "min": 0,
            "description_tooltip": null,
            "_model_module": "@jupyter-widgets/controls",
            "layout": "IPY_MODEL_e829bd81b08d4e4198ab7f6c4d74a255"
          }
        },
        "88cad2b5b5d74d46be5d1bd5bf656d46": {
          "model_module": "@jupyter-widgets/controls",
          "model_name": "HTMLModel",
          "state": {
            "_view_name": "HTMLView",
            "style": "IPY_MODEL_a73edefd1165400aaf8e5fdca575fda5",
            "_dom_classes": [],
            "description": "",
            "_model_name": "HTMLModel",
            "placeholder": "​",
            "_view_module": "@jupyter-widgets/controls",
            "_model_module_version": "1.5.0",
            "value": " 390965/0 [00:14&lt;00:00, 27554.09 examples/s]",
            "_view_count": null,
            "_view_module_version": "1.5.0",
            "description_tooltip": null,
            "_model_module": "@jupyter-widgets/controls",
            "layout": "IPY_MODEL_153e42a13c234a4da685a6e9f1eaee3c"
          }
        },
        "e28e266790724c1da380509c9e70bfd8": {
          "model_module": "@jupyter-widgets/controls",
          "model_name": "ProgressStyleModel",
          "state": {
            "_view_name": "StyleView",
            "_model_name": "ProgressStyleModel",
            "description_width": "initial",
            "_view_module": "@jupyter-widgets/base",
            "_model_module_version": "1.5.0",
            "_view_count": null,
            "_view_module_version": "1.2.0",
            "bar_color": null,
            "_model_module": "@jupyter-widgets/controls"
          }
        },
        "e829bd81b08d4e4198ab7f6c4d74a255": {
          "model_module": "@jupyter-widgets/base",
          "model_name": "LayoutModel",
          "state": {
            "_view_name": "LayoutView",
            "grid_template_rows": null,
            "right": null,
            "justify_content": null,
            "_view_module": "@jupyter-widgets/base",
            "overflow": null,
            "_model_module_version": "1.2.0",
            "_view_count": null,
            "flex_flow": null,
            "width": null,
            "min_width": null,
            "border": null,
            "align_items": null,
            "bottom": null,
            "_model_module": "@jupyter-widgets/base",
            "top": null,
            "grid_column": null,
            "overflow_y": null,
            "overflow_x": null,
            "grid_auto_flow": null,
            "grid_area": null,
            "grid_template_columns": null,
            "flex": null,
            "_model_name": "LayoutModel",
            "justify_items": null,
            "grid_row": null,
            "max_height": null,
            "align_content": null,
            "visibility": null,
            "align_self": null,
            "height": null,
            "min_height": null,
            "padding": null,
            "grid_auto_rows": null,
            "grid_gap": null,
            "max_width": null,
            "order": null,
            "_view_module_version": "1.2.0",
            "grid_template_areas": null,
            "object_position": null,
            "object_fit": null,
            "grid_auto_columns": null,
            "margin": null,
            "display": null,
            "left": null
          }
        },
        "a73edefd1165400aaf8e5fdca575fda5": {
          "model_module": "@jupyter-widgets/controls",
          "model_name": "DescriptionStyleModel",
          "state": {
            "_view_name": "StyleView",
            "_model_name": "DescriptionStyleModel",
            "description_width": "",
            "_view_module": "@jupyter-widgets/base",
            "_model_module_version": "1.5.0",
            "_view_count": null,
            "_view_module_version": "1.2.0",
            "_model_module": "@jupyter-widgets/controls"
          }
        },
        "153e42a13c234a4da685a6e9f1eaee3c": {
          "model_module": "@jupyter-widgets/base",
          "model_name": "LayoutModel",
          "state": {
            "_view_name": "LayoutView",
            "grid_template_rows": null,
            "right": null,
            "justify_content": null,
            "_view_module": "@jupyter-widgets/base",
            "overflow": null,
            "_model_module_version": "1.2.0",
            "_view_count": null,
            "flex_flow": null,
            "width": null,
            "min_width": null,
            "border": null,
            "align_items": null,
            "bottom": null,
            "_model_module": "@jupyter-widgets/base",
            "top": null,
            "grid_column": null,
            "overflow_y": null,
            "overflow_x": null,
            "grid_auto_flow": null,
            "grid_area": null,
            "grid_template_columns": null,
            "flex": null,
            "_model_name": "LayoutModel",
            "justify_items": null,
            "grid_row": null,
            "max_height": null,
            "align_content": null,
            "visibility": null,
            "align_self": null,
            "height": null,
            "min_height": null,
            "padding": null,
            "grid_auto_rows": null,
            "grid_gap": null,
            "max_width": null,
            "order": null,
            "_view_module_version": "1.2.0",
            "grid_template_areas": null,
            "object_position": null,
            "object_fit": null,
            "grid_auto_columns": null,
            "margin": null,
            "display": null,
            "left": null
          }
        }
      }
    }
  },
  "cells": [
    {
      "cell_type": "code",
      "metadata": {
        "colab": {
          "base_uri": "https://localhost:8080/"
        },
        "id": "Tjsl5_TPD5p-",
        "outputId": "d223ff34-0caf-4b0a-82d3-2cd61e592cac"
      },
      "source": [
        "from google.colab import drive\n",
        "drive.mount('/content/drive')"
      ],
      "execution_count": null,
      "outputs": [
        {
          "output_type": "stream",
          "text": [
            "Mounted at /content/drive\n"
          ],
          "name": "stdout"
        }
      ]
    },
    {
      "cell_type": "markdown",
      "metadata": {
        "id": "35YsotQWRREJ"
      },
      "source": [
        "#Installing libraries"
      ]
    },
    {
      "cell_type": "code",
      "metadata": {
        "id": "hZeIFn6iC9FF",
        "colab": {
          "base_uri": "https://localhost:8080/",
          "height": 1000
        },
        "outputId": "93e0b416-934f-4b83-dec2-967ae6f41f1e"
      },
      "source": [
        "!pip install textattack\n",
        "!pip install -U gensim==4.0.0\n",
        "!pip install python-Levenshtein"
      ],
      "execution_count": null,
      "outputs": [
        {
          "output_type": "stream",
          "text": [
            "Collecting textattack\n",
            "\u001b[?25l  Downloading https://files.pythonhosted.org/packages/0f/82/2f16ef7f22f19b3a49bbcd079dc31e53d362e1ef1299298c3eda05cf2b3a/textattack-0.2.15-py3-none-any.whl (349kB)\n",
            "\u001b[K     |████████████████████████████████| 358kB 6.6MB/s \n",
            "\u001b[?25hRequirement already satisfied: editdistance in /usr/local/lib/python3.7/dist-packages (from textattack) (0.5.3)\n",
            "Collecting num2words\n",
            "\u001b[?25l  Downloading https://files.pythonhosted.org/packages/eb/a2/ea800689730732e27711c41beed4b2a129b34974435bdc450377ec407738/num2words-0.5.10-py3-none-any.whl (101kB)\n",
            "\u001b[K     |████████████████████████████████| 102kB 5.6MB/s \n",
            "\u001b[?25hRequirement already satisfied: scipy==1.4.1 in /usr/local/lib/python3.7/dist-packages (from textattack) (1.4.1)\n",
            "Collecting numpy<1.19.0\n",
            "\u001b[?25l  Downloading https://files.pythonhosted.org/packages/d6/c6/58e517e8b1fb192725cfa23c01c2e60e4e6699314ee9684a1c5f5c9b27e1/numpy-1.18.5-cp37-cp37m-manylinux1_x86_64.whl (20.1MB)\n",
            "\u001b[K     |████████████████████████████████| 20.1MB 51.5MB/s \n",
            "\u001b[?25hRequirement already satisfied: more-itertools in /usr/local/lib/python3.7/dist-packages (from textattack) (8.7.0)\n",
            "Collecting transformers>=3.3.0\n",
            "\u001b[?25l  Downloading https://files.pythonhosted.org/packages/d8/b2/57495b5309f09fa501866e225c84532d1fd89536ea62406b2181933fb418/transformers-4.5.1-py3-none-any.whl (2.1MB)\n",
            "\u001b[K     |████████████████████████████████| 2.1MB 36.8MB/s \n",
            "\u001b[?25hCollecting lru-dict\n",
            "  Downloading https://files.pythonhosted.org/packages/68/ea/997af58d4e6da019ad825a412f93081d9df67e9dda11cfb026a3d7cd0b6c/lru-dict-1.1.7.tar.gz\n",
            "Collecting datasets\n",
            "\u001b[?25l  Downloading https://files.pythonhosted.org/packages/46/1a/b9f9b3bfef624686ae81c070f0a6bb635047b17cdb3698c7ad01281e6f9a/datasets-1.6.2-py3-none-any.whl (221kB)\n",
            "\u001b[K     |████████████████████████████████| 225kB 38.1MB/s \n",
            "\u001b[?25hCollecting bert-score>=0.3.5\n",
            "\u001b[?25l  Downloading https://files.pythonhosted.org/packages/38/fb/e63e7e231a79db0489dbf7e7d0ebfb279ccb3d8216aa0d133572f784f3fa/bert_score-0.3.9-py3-none-any.whl (59kB)\n",
            "\u001b[K     |████████████████████████████████| 61kB 7.6MB/s \n",
            "\u001b[?25hRequirement already satisfied: pandas>=1.0.1 in /usr/local/lib/python3.7/dist-packages (from textattack) (1.1.5)\n",
            "Collecting word2number\n",
            "  Downloading https://files.pythonhosted.org/packages/4a/29/a31940c848521f0725f0df6b25dca8917f13a2025b0e8fcbe5d0457e45e6/word2number-1.1.zip\n",
            "Requirement already satisfied: nltk in /usr/local/lib/python3.7/dist-packages (from textattack) (3.2.5)\n",
            "Requirement already satisfied: tqdm<4.50.0,>=4.27 in /usr/local/lib/python3.7/dist-packages (from textattack) (4.41.1)\n",
            "Collecting language-tool-python\n",
            "  Downloading https://files.pythonhosted.org/packages/37/26/48b22ad565fd372edec3577218fb817e0e6626bf4e658033197470ad92b3/language_tool_python-2.5.3-py3-none-any.whl\n",
            "Collecting terminaltables\n",
            "  Downloading https://files.pythonhosted.org/packages/9b/c4/4a21174f32f8a7e1104798c445dacdc1d4df86f2f26722767034e4de4bff/terminaltables-3.1.0.tar.gz\n",
            "Requirement already satisfied: PySocks!=1.5.7,>=1.5.6 in /usr/local/lib/python3.7/dist-packages (from textattack) (1.7.1)\n",
            "Collecting flair==0.6.1.post1\n",
            "\u001b[?25l  Downloading https://files.pythonhosted.org/packages/4a/49/a812ed93088ba9519cbb40eb9f52341694b31cfa126bfddcd9db3761f3ac/flair-0.6.1.post1-py3-none-any.whl (337kB)\n",
            "\u001b[K     |████████████████████████████████| 337kB 32.4MB/s \n",
            "\u001b[?25hCollecting lemminflect\n",
            "\u001b[?25l  Downloading https://files.pythonhosted.org/packages/4b/67/d04ca98b661d4ad52b9b965c9dabb1f1a2c85541d20f8decb9a9df4e4b32/lemminflect-0.2.2-py3-none-any.whl (769kB)\n",
            "\u001b[K     |████████████████████████████████| 778kB 33.3MB/s \n",
            "\u001b[?25hRequirement already satisfied: filelock in /usr/local/lib/python3.7/dist-packages (from textattack) (3.0.12)\n",
            "Requirement already satisfied: torch in /usr/local/lib/python3.7/dist-packages (from textattack) (1.8.1+cu101)\n",
            "Requirement already satisfied: docopt>=0.6.2 in /usr/local/lib/python3.7/dist-packages (from num2words->textattack) (0.6.2)\n",
            "Requirement already satisfied: regex!=2019.12.17 in /usr/local/lib/python3.7/dist-packages (from transformers>=3.3.0->textattack) (2019.12.20)\n",
            "Requirement already satisfied: packaging in /usr/local/lib/python3.7/dist-packages (from transformers>=3.3.0->textattack) (20.9)\n",
            "Requirement already satisfied: importlib-metadata; python_version < \"3.8\" in /usr/local/lib/python3.7/dist-packages (from transformers>=3.3.0->textattack) (3.10.1)\n",
            "Requirement already satisfied: requests in /usr/local/lib/python3.7/dist-packages (from transformers>=3.3.0->textattack) (2.23.0)\n",
            "Collecting tokenizers<0.11,>=0.10.1\n",
            "\u001b[?25l  Downloading https://files.pythonhosted.org/packages/ae/04/5b870f26a858552025a62f1649c20d29d2672c02ff3c3fb4c688ca46467a/tokenizers-0.10.2-cp37-cp37m-manylinux2010_x86_64.whl (3.3MB)\n",
            "\u001b[K     |████████████████████████████████| 3.3MB 35.9MB/s \n",
            "\u001b[?25hCollecting sacremoses\n",
            "\u001b[?25l  Downloading https://files.pythonhosted.org/packages/75/ee/67241dc87f266093c533a2d4d3d69438e57d7a90abb216fa076e7d475d4a/sacremoses-0.0.45-py3-none-any.whl (895kB)\n",
            "\u001b[K     |████████████████████████████████| 901kB 33.8MB/s \n",
            "\u001b[?25hRequirement already satisfied: multiprocess in /usr/local/lib/python3.7/dist-packages (from datasets->textattack) (0.70.11.1)\n",
            "Collecting fsspec\n",
            "\u001b[?25l  Downloading https://files.pythonhosted.org/packages/e9/91/2ef649137816850fa4f4c97c6f2eabb1a79bf0aa2c8ed198e387e373455e/fsspec-2021.4.0-py3-none-any.whl (108kB)\n",
            "\u001b[K     |████████████████████████████████| 112kB 42.2MB/s \n",
            "\u001b[?25hRequirement already satisfied: dill in /usr/local/lib/python3.7/dist-packages (from datasets->textattack) (0.3.3)\n",
            "Collecting xxhash\n",
            "\u001b[?25l  Downloading https://files.pythonhosted.org/packages/7d/4f/0a862cad26aa2ed7a7cd87178cbbfa824fc1383e472d63596a0d018374e7/xxhash-2.0.2-cp37-cp37m-manylinux2010_x86_64.whl (243kB)\n",
            "\u001b[K     |████████████████████████████████| 245kB 41.7MB/s \n",
            "\u001b[?25hCollecting huggingface-hub<0.1.0\n",
            "  Downloading https://files.pythonhosted.org/packages/a1/88/7b1e45720ecf59c6c6737ff332f41c955963090a18e72acbcbeac6b25e86/huggingface_hub-0.0.8-py3-none-any.whl\n",
            "Requirement already satisfied: pyarrow>=1.0.0<4.0.0 in /usr/local/lib/python3.7/dist-packages (from datasets->textattack) (3.0.0)\n",
            "Requirement already satisfied: matplotlib in /usr/local/lib/python3.7/dist-packages (from bert-score>=0.3.5->textattack) (3.2.2)\n",
            "Requirement already satisfied: python-dateutil>=2.7.3 in /usr/local/lib/python3.7/dist-packages (from pandas>=1.0.1->textattack) (2.8.1)\n",
            "Requirement already satisfied: pytz>=2017.2 in /usr/local/lib/python3.7/dist-packages (from pandas>=1.0.1->textattack) (2018.9)\n",
            "Requirement already satisfied: six in /usr/local/lib/python3.7/dist-packages (from nltk->textattack) (1.15.0)\n",
            "Collecting mpld3==0.3\n",
            "\u001b[?25l  Downloading https://files.pythonhosted.org/packages/91/95/a52d3a83d0a29ba0d6898f6727e9858fe7a43f6c2ce81a5fe7e05f0f4912/mpld3-0.3.tar.gz (788kB)\n",
            "\u001b[K     |████████████████████████████████| 798kB 41.0MB/s \n",
            "\u001b[?25hCollecting bpemb>=0.3.2\n",
            "  Downloading https://files.pythonhosted.org/packages/f2/6f/9191b85109772636a8f8accb122900c34db26c091d2793218aa94954524c/bpemb-0.3.3-py3-none-any.whl\n",
            "Collecting langdetect\n",
            "\u001b[?25l  Downloading https://files.pythonhosted.org/packages/0e/72/a3add0e4eec4eb9e2569554f7c70f4a3c27712f40e3284d483e88094cc0e/langdetect-1.0.9.tar.gz (981kB)\n",
            "\u001b[K     |████████████████████████████████| 983kB 41.1MB/s \n",
            "\u001b[?25hRequirement already satisfied: scikit-learn>=0.21.3 in /usr/local/lib/python3.7/dist-packages (from flair==0.6.1.post1->textattack) (0.22.2.post1)\n",
            "Requirement already satisfied: hyperopt>=0.1.1 in /usr/local/lib/python3.7/dist-packages (from flair==0.6.1.post1->textattack) (0.1.2)\n",
            "Collecting deprecated>=1.2.4\n",
            "  Downloading https://files.pythonhosted.org/packages/fb/73/994edfcba74443146c84b91921fcc269374354118d4f452fb0c54c1cbb12/Deprecated-1.2.12-py2.py3-none-any.whl\n",
            "Requirement already satisfied: gdown in /usr/local/lib/python3.7/dist-packages (from flair==0.6.1.post1->textattack) (3.6.4)\n",
            "Collecting ftfy\n",
            "\u001b[?25l  Downloading https://files.pythonhosted.org/packages/ce/b5/5da463f9c7823e0e575e9908d004e2af4b36efa8d02d3d6dad57094fcb11/ftfy-6.0.1.tar.gz (63kB)\n",
            "\u001b[K     |████████████████████████████████| 71kB 8.0MB/s \n",
            "\u001b[?25hRequirement already satisfied: tabulate in /usr/local/lib/python3.7/dist-packages (from flair==0.6.1.post1->textattack) (0.8.9)\n",
            "Collecting janome\n",
            "\u001b[?25l  Downloading https://files.pythonhosted.org/packages/a8/63/98858cbead27df7536c7e300c169da0999e9704d02220dc6700b804eeff0/Janome-0.4.1-py2.py3-none-any.whl (19.7MB)\n",
            "\u001b[K     |████████████████████████████████| 19.7MB 1.3MB/s \n",
            "\u001b[?25hCollecting segtok>=1.5.7\n",
            "  Downloading https://files.pythonhosted.org/packages/41/08/582dab5f4b1d5ca23bc6927b4bb977c8ff7f3a87a3b98844ef833e2f5623/segtok-1.5.10.tar.gz\n",
            "Requirement already satisfied: gensim>=3.4.0 in /usr/local/lib/python3.7/dist-packages (from flair==0.6.1.post1->textattack) (3.6.0)\n",
            "Collecting konoha<5.0.0,>=4.0.0\n",
            "  Downloading https://files.pythonhosted.org/packages/02/be/4dd30d56a0a19619deb9bf41ba8202709fa83b1b301b876572cd6dc38117/konoha-4.6.4-py3-none-any.whl\n",
            "Collecting sqlitedict>=1.6.0\n",
            "  Downloading https://files.pythonhosted.org/packages/5c/2d/b1d99e9ad157dd7de9cd0d36a8a5876b13b55e4b75f7498bc96035fb4e96/sqlitedict-1.7.0.tar.gz\n",
            "Collecting sentencepiece!=0.1.92\n",
            "\u001b[?25l  Downloading https://files.pythonhosted.org/packages/f5/99/e0808cb947ba10f575839c43e8fafc9cc44e4a7a2c8f79c60db48220a577/sentencepiece-0.1.95-cp37-cp37m-manylinux2014_x86_64.whl (1.2MB)\n",
            "\u001b[K     |████████████████████████████████| 1.2MB 33.3MB/s \n",
            "\u001b[?25hRequirement already satisfied: lxml in /usr/local/lib/python3.7/dist-packages (from flair==0.6.1.post1->textattack) (4.2.6)\n",
            "Requirement already satisfied: typing-extensions in /usr/local/lib/python3.7/dist-packages (from torch->textattack) (3.7.4.3)\n",
            "Requirement already satisfied: pyparsing>=2.0.2 in /usr/local/lib/python3.7/dist-packages (from packaging->transformers>=3.3.0->textattack) (2.4.7)\n",
            "Requirement already satisfied: zipp>=0.5 in /usr/local/lib/python3.7/dist-packages (from importlib-metadata; python_version < \"3.8\"->transformers>=3.3.0->textattack) (3.4.1)\n",
            "Requirement already satisfied: idna<3,>=2.5 in /usr/local/lib/python3.7/dist-packages (from requests->transformers>=3.3.0->textattack) (2.10)\n",
            "Requirement already satisfied: urllib3!=1.25.0,!=1.25.1,<1.26,>=1.21.1 in /usr/local/lib/python3.7/dist-packages (from requests->transformers>=3.3.0->textattack) (1.24.3)\n",
            "Requirement already satisfied: certifi>=2017.4.17 in /usr/local/lib/python3.7/dist-packages (from requests->transformers>=3.3.0->textattack) (2020.12.5)\n",
            "Requirement already satisfied: chardet<4,>=3.0.2 in /usr/local/lib/python3.7/dist-packages (from requests->transformers>=3.3.0->textattack) (3.0.4)\n",
            "Requirement already satisfied: joblib in /usr/local/lib/python3.7/dist-packages (from sacremoses->transformers>=3.3.0->textattack) (1.0.1)\n",
            "Requirement already satisfied: click in /usr/local/lib/python3.7/dist-packages (from sacremoses->transformers>=3.3.0->textattack) (7.1.2)\n",
            "Requirement already satisfied: cycler>=0.10 in /usr/local/lib/python3.7/dist-packages (from matplotlib->bert-score>=0.3.5->textattack) (0.10.0)\n",
            "Requirement already satisfied: kiwisolver>=1.0.1 in /usr/local/lib/python3.7/dist-packages (from matplotlib->bert-score>=0.3.5->textattack) (1.3.1)\n",
            "Requirement already satisfied: pymongo in /usr/local/lib/python3.7/dist-packages (from hyperopt>=0.1.1->flair==0.6.1.post1->textattack) (3.11.3)\n",
            "Requirement already satisfied: future in /usr/local/lib/python3.7/dist-packages (from hyperopt>=0.1.1->flair==0.6.1.post1->textattack) (0.16.0)\n",
            "Requirement already satisfied: networkx in /usr/local/lib/python3.7/dist-packages (from hyperopt>=0.1.1->flair==0.6.1.post1->textattack) (2.5.1)\n",
            "Requirement already satisfied: wrapt<2,>=1.10 in /usr/local/lib/python3.7/dist-packages (from deprecated>=1.2.4->flair==0.6.1.post1->textattack) (1.12.1)\n",
            "Requirement already satisfied: wcwidth in /usr/local/lib/python3.7/dist-packages (from ftfy->flair==0.6.1.post1->textattack) (0.2.5)\n",
            "Requirement already satisfied: smart-open>=1.2.1 in /usr/local/lib/python3.7/dist-packages (from gensim>=3.4.0->flair==0.6.1.post1->textattack) (5.0.0)\n",
            "Collecting overrides<4.0.0,>=3.0.0\n",
            "  Downloading https://files.pythonhosted.org/packages/ff/b1/10f69c00947518e6676bbd43e739733048de64b8dd998e9c2d5a71f44c5d/overrides-3.1.0.tar.gz\n",
            "Requirement already satisfied: decorator<5,>=4.3 in /usr/local/lib/python3.7/dist-packages (from networkx->hyperopt>=0.1.1->flair==0.6.1.post1->textattack) (4.4.2)\n",
            "Building wheels for collected packages: lru-dict, word2number, terminaltables, mpld3, langdetect, ftfy, segtok, sqlitedict, overrides\n",
            "  Building wheel for lru-dict (setup.py) ... \u001b[?25l\u001b[?25hdone\n",
            "  Created wheel for lru-dict: filename=lru_dict-1.1.7-cp37-cp37m-linux_x86_64.whl size=28373 sha256=3fbeeae5868f64d1bd986509a0e60d126fc973c6e69e6412cb2692e0bac9e0ca\n",
            "  Stored in directory: /root/.cache/pip/wheels/ae/51/23/0a416781dead9225c7d66d25b9f223c7e32304e99a0b01d566\n",
            "  Building wheel for word2number (setup.py) ... \u001b[?25l\u001b[?25hdone\n",
            "  Created wheel for word2number: filename=word2number-1.1-cp37-none-any.whl size=5589 sha256=08862805bf3ea29f4b5d6f8d667c873f7a6804984a53ab98748b27c5c2ed73fb\n",
            "  Stored in directory: /root/.cache/pip/wheels/46/2f/53/5f5c1d275492f2fce1cdab9a9bb12d49286dead829a4078e0e\n",
            "  Building wheel for terminaltables (setup.py) ... \u001b[?25l\u001b[?25hdone\n",
            "  Created wheel for terminaltables: filename=terminaltables-3.1.0-cp37-none-any.whl size=15356 sha256=b4f6f1b983ee83282da866df84a113824f91185858898b9c347b635e37c3ae83\n",
            "  Stored in directory: /root/.cache/pip/wheels/30/6b/50/6c75775b681fb36cdfac7f19799888ef9d8813aff9e379663e\n",
            "  Building wheel for mpld3 (setup.py) ... \u001b[?25l\u001b[?25hdone\n",
            "  Created wheel for mpld3: filename=mpld3-0.3-cp37-none-any.whl size=116679 sha256=0847e8b935355f5b02867ed34876c4dd7581eac52cf8608d388fcd7a24093017\n",
            "  Stored in directory: /root/.cache/pip/wheels/c0/47/fb/8a64f89aecfe0059830479308ad42d62e898a3e3cefdf6ba28\n",
            "  Building wheel for langdetect (setup.py) ... \u001b[?25l\u001b[?25hdone\n",
            "  Created wheel for langdetect: filename=langdetect-1.0.9-cp37-none-any.whl size=993223 sha256=93d6147792a878d416cb0b55b7599f3d6569e7fd255e76a5803086abbc1626cb\n",
            "  Stored in directory: /root/.cache/pip/wheels/7e/18/13/038c34057808931c7ddc6c92d3aa015cf1a498df5a70268996\n",
            "  Building wheel for ftfy (setup.py) ... \u001b[?25l\u001b[?25hdone\n",
            "  Created wheel for ftfy: filename=ftfy-6.0.1-cp37-none-any.whl size=41573 sha256=bde1affe88acda35a48e6136c5c4b8ea62a74faca13f5df5c41b43b9289317d3\n",
            "  Stored in directory: /root/.cache/pip/wheels/ae/73/c7/9056e14b04919e5c262fe80b54133b1a88d73683d05d7ac65c\n",
            "  Building wheel for segtok (setup.py) ... \u001b[?25l\u001b[?25hdone\n",
            "  Created wheel for segtok: filename=segtok-1.5.10-cp37-none-any.whl size=25019 sha256=9bc819c3424967aa48b1515790e8d2c9acee55456008c01e9dc169baff1b96db\n",
            "  Stored in directory: /root/.cache/pip/wheels/b4/39/f6/9ca1c5cabde964d728023b5751c3a206a5c8cc40252321fb6b\n",
            "  Building wheel for sqlitedict (setup.py) ... \u001b[?25l\u001b[?25hdone\n",
            "  Created wheel for sqlitedict: filename=sqlitedict-1.7.0-cp37-none-any.whl size=14376 sha256=ba4a17117e450afd0fae86c84399d8ef6e7e714c634d606c568fc9d880be4000\n",
            "  Stored in directory: /root/.cache/pip/wheels/cf/c6/4f/2c64a43f041415eb8b8740bd80e15e92f0d46c5e464d8e4b9b\n",
            "  Building wheel for overrides (setup.py) ... \u001b[?25l\u001b[?25hdone\n",
            "  Created wheel for overrides: filename=overrides-3.1.0-cp37-none-any.whl size=10174 sha256=930b408a56cb65596f6c3309d0408a4a6fa83334bdc52d55bf76d14fa8bc4d9d\n",
            "  Stored in directory: /root/.cache/pip/wheels/5c/24/13/6ef8600e6f147c95e595f1289a86a3cc82ed65df57582c65a9\n",
            "Successfully built lru-dict word2number terminaltables mpld3 langdetect ftfy segtok sqlitedict overrides\n",
            "\u001b[31mERROR: tensorflow 2.4.1 has requirement numpy~=1.19.2, but you'll have numpy 1.18.5 which is incompatible.\u001b[0m\n",
            "\u001b[31mERROR: datascience 0.10.6 has requirement folium==0.2.1, but you'll have folium 0.8.3 which is incompatible.\u001b[0m\n",
            "\u001b[31mERROR: albumentations 0.1.12 has requirement imgaug<0.2.7,>=0.2.5, but you'll have imgaug 0.2.9 which is incompatible.\u001b[0m\n",
            "\u001b[31mERROR: konoha 4.6.4 has requirement requests<3.0.0,>=2.25.1, but you'll have requests 2.23.0 which is incompatible.\u001b[0m\n",
            "Installing collected packages: num2words, numpy, tokenizers, sacremoses, transformers, lru-dict, fsspec, xxhash, huggingface-hub, datasets, bert-score, word2number, language-tool-python, terminaltables, mpld3, sentencepiece, bpemb, langdetect, deprecated, ftfy, janome, segtok, overrides, konoha, sqlitedict, flair, lemminflect, textattack\n",
            "  Found existing installation: numpy 1.19.5\n",
            "    Uninstalling numpy-1.19.5:\n",
            "      Successfully uninstalled numpy-1.19.5\n",
            "Successfully installed bert-score-0.3.9 bpemb-0.3.3 datasets-1.6.2 deprecated-1.2.12 flair-0.6.1.post1 fsspec-2021.4.0 ftfy-6.0.1 huggingface-hub-0.0.8 janome-0.4.1 konoha-4.6.4 langdetect-1.0.9 language-tool-python-2.5.3 lemminflect-0.2.2 lru-dict-1.1.7 mpld3-0.3 num2words-0.5.10 numpy-1.18.5 overrides-3.1.0 sacremoses-0.0.45 segtok-1.5.10 sentencepiece-0.1.95 sqlitedict-1.7.0 terminaltables-3.1.0 textattack-0.2.15 tokenizers-0.10.2 transformers-4.5.1 word2number-1.1 xxhash-2.0.2\n"
          ],
          "name": "stdout"
        },
        {
          "output_type": "display_data",
          "data": {
            "application/vnd.colab-display-data+json": {
              "pip_warning": {
                "packages": [
                  "numpy"
                ]
              }
            }
          },
          "metadata": {
            "tags": []
          }
        },
        {
          "output_type": "stream",
          "text": [
            "Collecting gensim==4.0.0\n",
            "\u001b[?25l  Downloading https://files.pythonhosted.org/packages/c3/dd/5e00b6e788a9c522b48f9df10472b2017102ffa65b10bc657471e0713542/gensim-4.0.0-cp37-cp37m-manylinux1_x86_64.whl (23.9MB)\n",
            "\u001b[K     |████████████████████████████████| 23.9MB 130kB/s \n",
            "\u001b[?25hRequirement already satisfied, skipping upgrade: numpy>=1.11.3 in /usr/local/lib/python3.7/dist-packages (from gensim==4.0.0) (1.18.5)\n",
            "Requirement already satisfied, skipping upgrade: smart-open>=1.8.1 in /usr/local/lib/python3.7/dist-packages (from gensim==4.0.0) (5.0.0)\n",
            "Requirement already satisfied, skipping upgrade: scipy>=0.18.1 in /usr/local/lib/python3.7/dist-packages (from gensim==4.0.0) (1.4.1)\n",
            "Installing collected packages: gensim\n",
            "  Found existing installation: gensim 3.6.0\n",
            "    Uninstalling gensim-3.6.0:\n",
            "      Successfully uninstalled gensim-3.6.0\n",
            "Successfully installed gensim-4.0.0\n",
            "Collecting python-Levenshtein\n",
            "\u001b[?25l  Downloading https://files.pythonhosted.org/packages/2a/dc/97f2b63ef0fa1fd78dcb7195aca577804f6b2b51e712516cc0e902a9a201/python-Levenshtein-0.12.2.tar.gz (50kB)\n",
            "\u001b[K     |████████████████████████████████| 51kB 3.0MB/s \n",
            "\u001b[?25hRequirement already satisfied: setuptools in /usr/local/lib/python3.7/dist-packages (from python-Levenshtein) (56.0.0)\n",
            "Building wheels for collected packages: python-Levenshtein\n",
            "  Building wheel for python-Levenshtein (setup.py) ... \u001b[?25l\u001b[?25hdone\n",
            "  Created wheel for python-Levenshtein: filename=python_Levenshtein-0.12.2-cp37-cp37m-linux_x86_64.whl size=149803 sha256=d5593d7a21a4d498f31099f1aa1e8e70212acee7eee2d6c6e07702c142f8138e\n",
            "  Stored in directory: /root/.cache/pip/wheels/b3/26/73/4b48503bac73f01cf18e52cd250947049a7f339e940c5df8fc\n",
            "Successfully built python-Levenshtein\n",
            "Installing collected packages: python-Levenshtein\n",
            "Successfully installed python-Levenshtein-0.12.2\n"
          ],
          "name": "stdout"
        }
      ]
    },
    {
      "cell_type": "code",
      "metadata": {
        "id": "cO7MgIfVqRWg",
        "colab": {
          "base_uri": "https://localhost:8080/"
        },
        "outputId": "f85c0358-03f9-40ed-ae04-ae8299958890"
      },
      "source": [
        "import gensim.downloader as api\n",
        "from gensim.models.word2vec import Word2Vec\n",
        "from gensim.models.fasttext import FastText\n",
        "from gensim.models import Phrases\n",
        "from gensim.test.utils import get_tmpfile\n",
        "import transformers\n",
        "from textattack.models.tokenizers import AutoTokenizer\n",
        "from textattack.models.wrappers import HuggingFaceModelWrapper\n",
        "from textattack.transformations import WordSwap\n",
        "from textattack.search_methods import GreedySearch, GreedyWordSwapWIR\n",
        "from textattack.constraints.overlap import LevenshteinEditDistance\n",
        "from textattack.constraints.pre_transformation import RepeatModification, StopwordModification\n",
        "from textattack.search_methods import ParticleSwarmOptimization\n",
        "from textattack.constraints.grammaticality import PartOfSpeech\n",
        "from textattack.shared import Attack\n",
        "from textattack.goal_functions import UntargetedClassification\n",
        "from textattack.datasets import HuggingFaceDataset\n",
        "from collections import deque\n",
        "\n",
        "import textattack\n",
        "import tqdm\n",
        "import time\n",
        "from IPython.display import display, HTML"
      ],
      "execution_count": null,
      "outputs": [
        {
          "output_type": "stream",
          "text": [
            "\u001b[34;1mtextattack\u001b[0m: Updating TextAttack package dependencies.\n",
            "\u001b[34;1mtextattack\u001b[0m: Downloading NLTK required packages.\n"
          ],
          "name": "stderr"
        },
        {
          "output_type": "stream",
          "text": [
            "[nltk_data] Downloading package averaged_perceptron_tagger to\n",
            "[nltk_data]     /root/nltk_data...\n",
            "[nltk_data]   Unzipping taggers/averaged_perceptron_tagger.zip.\n",
            "[nltk_data] Downloading package stopwords to /root/nltk_data...\n",
            "[nltk_data]   Unzipping corpora/stopwords.zip.\n",
            "[nltk_data] Downloading package omw to /root/nltk_data...\n",
            "[nltk_data]   Unzipping corpora/omw.zip.\n",
            "[nltk_data] Downloading package universal_tagset to /root/nltk_data...\n",
            "[nltk_data]   Unzipping taggers/universal_tagset.zip.\n",
            "[nltk_data] Downloading package wordnet to /root/nltk_data...\n",
            "[nltk_data]   Unzipping corpora/wordnet.zip.\n",
            "[nltk_data] Downloading package punkt to /root/nltk_data...\n",
            "[nltk_data]   Unzipping tokenizers/punkt.zip.\n"
          ],
          "name": "stdout"
        },
        {
          "output_type": "stream",
          "text": [
            "\u001b[34;1mtextattack\u001b[0m: Downloading https://textattack.s3.amazonaws.com/word_embeddings/paragramcf.\n",
            "100%|██████████| 481M/481M [00:11<00:00, 40.6MB/s]\n",
            "\u001b[34;1mtextattack\u001b[0m: Unzipping file /root/.cache/textattack/tmphblp0k_i.zip to /root/.cache/textattack/word_embeddings/paragramcf.\n",
            "\u001b[34;1mtextattack\u001b[0m: Successfully saved word_embeddings/paragramcf to cache.\n"
          ],
          "name": "stderr"
        }
      ]
    },
    {
      "cell_type": "code",
      "metadata": {
        "id": "XbSBo02xDGO2"
      },
      "source": [
        "# import gensim.downloader as api\n",
        "# corpus = api.load('text8')\n",
        "# from gensim.models.fasttext import FastText\n",
        "# model1 = FastText(corpus, sample = 0, sg = 1)"
      ],
      "execution_count": null,
      "outputs": []
    },
    {
      "cell_type": "code",
      "metadata": {
        "id": "jLiSrpmTErOs"
      },
      "source": [
        "# import gensim.downloader as api\n",
        "# corpus = api.load('text8')\n",
        "# from gensim.models.word2vec import Word2Vec\n",
        "# model2 = Word2Vec(corpus, sample = 0, sg = 1)"
      ],
      "execution_count": null,
      "outputs": []
    },
    {
      "cell_type": "markdown",
      "metadata": {
        "id": "d-SeQSyZRVZk"
      },
      "source": [
        "# Loading FastText, Word2Vec and Glove"
      ]
    },
    {
      "cell_type": "code",
      "metadata": {
        "id": "ZCLiyaHYDBk1"
      },
      "source": [
        "from gensim.test.utils import get_tmpfile\n",
        "from gensim.models.fasttext import FastText\n",
        "#fname = get_tmpfile(\"/models/fasttext.model\") \n",
        "model1 = FastText.load(\"/content/drive/MyDrive/models/fasttext.model\") # Change this location"
      ],
      "execution_count": null,
      "outputs": []
    },
    {
      "cell_type": "code",
      "metadata": {
        "id": "e4jwSL5YDvPy"
      },
      "source": [
        "from gensim.test.utils import get_tmpfile\n",
        "from gensim.models.word2vec import Word2Vec\n",
        "#fname1 = get_tmpfile(\"/models/word2vec.model\") \n",
        "model2 = Word2Vec.load(\"/content/drive/MyDrive/models/word2vec.model\") # Change this location"
      ],
      "execution_count": null,
      "outputs": []
    },
    {
      "cell_type": "code",
      "metadata": {
        "id": "NC2kXo7wLsAd"
      },
      "source": [
        "from gensim.models import KeyedVectors\n",
        "model3=KeyedVectors.load('/content/drive/MyDrive/models/gloveKeyVectors.kv')"
      ],
      "execution_count": null,
      "outputs": []
    },
    {
      "cell_type": "markdown",
      "metadata": {
        "id": "aTtS6UrJRc4S"
      },
      "source": [
        "Example demonstration"
      ]
    },
    {
      "cell_type": "code",
      "metadata": {
        "id": "l1xXXw5tFbuM",
        "colab": {
          "base_uri": "https://localhost:8080/"
        },
        "outputId": "e4218857-bf23-498b-b920-5c41cdbe8d55"
      },
      "source": [
        "print(model1.wv.most_similar('cat'))\n",
        "print(model2.wv.most_similar('cat'))\n",
        "print(model3.most_similar('cat'))"
      ],
      "execution_count": null,
      "outputs": [
        {
          "output_type": "stream",
          "text": [
            "[('bobcat', 0.759185791015625), ('dog', 0.7208123803138733), ('foxglove', 0.7110776901245117), ('pig', 0.7088143229484558), ('goose', 0.7069101333618164), ('cats', 0.702387273311615), ('beak', 0.7008379697799683), ('catfish', 0.6987316608428955), ('foxhound', 0.696578860282898), ('catnip', 0.6960986852645874)]\n",
            "[('dog', 0.7193913459777832), ('squirrel', 0.696162760257721), ('leopardus', 0.6945451498031616), ('prionailurus', 0.688106894493103), ('albino', 0.6880608201026917), ('bird', 0.6836060285568237), ('eared', 0.6803243160247803), ('rhinoceros', 0.6769237518310547), ('hyena', 0.6756084561347961), ('badger', 0.6752869486808777)]\n",
            "[('cats', 0.7006820440292358), ('dog', 0.698471188545227), ('dogs', 0.6442825198173523), ('tervueren', 0.619421660900116), ('laekenois', 0.5972026586532593), ('lica', 0.5956287980079651), ('feral', 0.5899650454521179), ('goat', 0.5861616134643555), ('fish', 0.5746133327484131), ('malinois', 0.5737614631652832)]\n"
          ],
          "name": "stdout"
        }
      ]
    },
    {
      "cell_type": "code",
      "metadata": {
        "id": "Z0RyPQdKNH2u",
        "colab": {
          "base_uri": "https://localhost:8080/"
        },
        "outputId": "5cf9fa01-5e65-495e-b636-d29c812672e4"
      },
      "source": [
        "if 'cat' in model3.key_to_index:\n",
        "  print('present')"
      ],
      "execution_count": null,
      "outputs": [
        {
          "output_type": "stream",
          "text": [
            "present\n"
          ],
          "name": "stdout"
        }
      ]
    },
    {
      "cell_type": "markdown",
      "metadata": {
        "id": "0h_EeHEKRhYs"
      },
      "source": [
        "# Distilbert Base Cased-QQP"
      ]
    },
    {
      "cell_type": "code",
      "metadata": {
        "id": "QfecgI6BExUJ",
        "colab": {
          "base_uri": "https://localhost:8080/",
          "height": 262,
          "referenced_widgets": [
            "6195e22cb257478eb8986c2a24713a41",
            "2e1e4954096d419c8cd71db11781b95e",
            "2e02fe5bd83a4520b79e79cfd180894f",
            "d5b9c4c26bb7409fa9e9857b77423eb2",
            "c656cc21f1074e9ba5f2db9c864d63ab",
            "5196eb48fc8249a9a539443841974efb",
            "ef2f72c4a8a04bc2be5a98f0af81e923",
            "29a27a9612de46f399e53f859d5b8ab1",
            "40c37bc7785d49a7914687a60eebffff",
            "ffcbb48fb40a4130869440e24b30daa9",
            "7e46f948026d4d60a6129c9283368e5c",
            "4a6ac262cd704e4b95b8777037fd3a5b",
            "7d9e3b3b29ea4db5a09087d8cb6f1e6e",
            "a379c5d41da64001bdf6c3790ab6b99e",
            "3603cb3f1a914570bf4418c0957e9831",
            "a6e33288e6994c29971ab3007f18cdd0",
            "44b0bc3e311d4ebe8e6280faf002bf22",
            "56703a8a2c854fd1b11106dc37bb7734",
            "ebe50dee746a4c62bff8953ce6a6b6ce",
            "a63f504cc43344919b63a86384f4db92",
            "b33170d3708b48c89b8288967db88305",
            "86221beb766647e1be81423d55b4b0d1",
            "315eef50e38347aea8268b7fd7fef2c4",
            "723c110c9363468e9ab0e55e3796d314",
            "938f25d8df3c4cf6bd1c175f07d6b410",
            "171ec6ab71874235a904af6f425a58a2",
            "47c27b9bde5240b995552c8d598a7aff",
            "c7aadfff15ca440a9ec9138d259b9dea",
            "dc74b0f0598d48d5aded0bb67d804e75",
            "a2757530bd8941d495c108fac3c611bf",
            "d94f368afec840219c1efae61b0915c7",
            "a493bdd47e534ce3834eca9e0ae65694",
            "912375d01dd94aa691a7404cb6fb52c4",
            "b6c290f50a944837b79c96aa52834921",
            "950362bace794cceb7a6dbc392578534",
            "6fb631a80c8f46898c2b5bb556a87d58",
            "973f5559e98349bbaeb36e004d3b86db",
            "636d66ef50244b2e8281119abe0519d9",
            "4dedc0a9f6fd43b7b192204d66b7d908",
            "022e8bb29f274f1b9b76a1633be49649"
          ]
        },
        "outputId": "3201f4d3-b7f0-4798-f59b-1ad6056693d3"
      },
      "source": [
        "# Import the model\n",
        "import transformers\n",
        "from textattack.models.tokenizers import AutoTokenizer\n",
        "from textattack.models.wrappers import HuggingFaceModelWrapper\n",
        "\n",
        "model = transformers.AutoModelForSequenceClassification.from_pretrained(\"textattack/bert-base-uncased-QQP\")\n",
        "tokenizer = AutoTokenizer(\"textattack/bert-base-uncased-QQP\")\n",
        "# Change these\n",
        "\n",
        "model_wrapper = HuggingFaceModelWrapper(model, tokenizer)"
      ],
      "execution_count": null,
      "outputs": [
        {
          "output_type": "display_data",
          "data": {
            "application/vnd.jupyter.widget-view+json": {
              "model_id": "6195e22cb257478eb8986c2a24713a41",
              "version_minor": 0,
              "version_major": 2
            },
            "text/plain": [
              "HBox(children=(FloatProgress(value=0.0, description='Downloading', max=475.0, style=ProgressStyle(description_…"
            ]
          },
          "metadata": {
            "tags": []
          }
        },
        {
          "output_type": "stream",
          "text": [
            "\n"
          ],
          "name": "stdout"
        },
        {
          "output_type": "display_data",
          "data": {
            "application/vnd.jupyter.widget-view+json": {
              "model_id": "40c37bc7785d49a7914687a60eebffff",
              "version_minor": 0,
              "version_major": 2
            },
            "text/plain": [
              "HBox(children=(FloatProgress(value=0.0, description='Downloading', max=437985387.0, style=ProgressStyle(descri…"
            ]
          },
          "metadata": {
            "tags": []
          }
        },
        {
          "output_type": "stream",
          "text": [
            "\n"
          ],
          "name": "stdout"
        },
        {
          "output_type": "display_data",
          "data": {
            "application/vnd.jupyter.widget-view+json": {
              "model_id": "44b0bc3e311d4ebe8e6280faf002bf22",
              "version_minor": 0,
              "version_major": 2
            },
            "text/plain": [
              "HBox(children=(FloatProgress(value=0.0, description='Downloading', max=231508.0, style=ProgressStyle(descripti…"
            ]
          },
          "metadata": {
            "tags": []
          }
        },
        {
          "output_type": "stream",
          "text": [
            "\n"
          ],
          "name": "stdout"
        },
        {
          "output_type": "display_data",
          "data": {
            "application/vnd.jupyter.widget-view+json": {
              "model_id": "938f25d8df3c4cf6bd1c175f07d6b410",
              "version_minor": 0,
              "version_major": 2
            },
            "text/plain": [
              "HBox(children=(FloatProgress(value=0.0, description='Downloading', max=112.0, style=ProgressStyle(description_…"
            ]
          },
          "metadata": {
            "tags": []
          }
        },
        {
          "output_type": "stream",
          "text": [
            "\n"
          ],
          "name": "stdout"
        },
        {
          "output_type": "display_data",
          "data": {
            "application/vnd.jupyter.widget-view+json": {
              "model_id": "912375d01dd94aa691a7404cb6fb52c4",
              "version_minor": 0,
              "version_major": 2
            },
            "text/plain": [
              "HBox(children=(FloatProgress(value=0.0, description='Downloading', max=48.0, style=ProgressStyle(description_w…"
            ]
          },
          "metadata": {
            "tags": []
          }
        },
        {
          "output_type": "stream",
          "text": [
            "\n"
          ],
          "name": "stdout"
        }
      ]
    },
    {
      "cell_type": "markdown",
      "metadata": {
        "id": "HPj8fvaOFDAD"
      },
      "source": [
        "# Framing fasttext attack"
      ]
    },
    {
      "cell_type": "code",
      "metadata": {
        "id": "SHezFH9jE3Z2"
      },
      "source": [
        "from textattack.transformations import WordSwap\n",
        "\n",
        "class Swapper(WordSwap): # For fasttext\n",
        "    \"\"\" Transforms an input by replacing any word with its most similar counterpart\n",
        "    \"\"\"\n",
        "\n",
        "    # We don't need a constructor, since our class doesn't require any parameters.\n",
        "\n",
        "    def _get_replacement_words(self, word):\n",
        "        for i in range(10):\n",
        "            if word.lower() in model1.wv.most_similar(word)[i][0].lower():\n",
        "                continue # Don't return the exact word\n",
        "            elif word.isupper():\n",
        "                return [model1.wv.most_similar(word)[i][0].upper()] # Preserving case\n",
        "            elif word[0].isupper():\n",
        "                return [model1.wv.most_similar(word)[i][0].capitalize()] # Preserving Capitalization in words\n",
        "            else:\n",
        "                return [model1.wv.most_similar(word)[i][0]]\n",
        "            \n",
        "        return [model1.wv.most_similar(word)[0][0]]"
      ],
      "execution_count": null,
      "outputs": []
    },
    {
      "cell_type": "code",
      "metadata": {
        "id": "GHt_A9Sril_j"
      },
      "source": [
        "def attack_stats(attack, dataset, num_of_examples=25):\n",
        "  print(attack)\n",
        "  num_examples = num_of_examples\n",
        "  num_remaining_attacks = num_examples\n",
        "  pbar = tqdm.tqdm(total=num_remaining_attacks, smoothing=0)\n",
        "\n",
        "  worklist = deque(range(0, num_examples))\n",
        "  worklist_tail = worklist[-1]\n",
        "\n",
        "  attack_log_manager = textattack.loggers.AttackLogManager()\n",
        "\n",
        "  load_time = time.time()\n",
        "        \n",
        "  num_results = 0\n",
        "  num_failures = 0\n",
        "  num_successes = 0\n",
        "  for result in attack.attack_dataset(dataset, indices=worklist):\n",
        "      result_html_str = result.__str__(color_method=\"html\").replace(\"\\n\\n\", \"<br>\")\n",
        "      display(HTML(result_html_str))\n",
        "      attack_log_manager.log_result(result)\n",
        "            \n",
        "      if not isinstance(result, textattack.attack_results.SkippedAttackResult):\n",
        "          pbar.update(1)\n",
        "      else:\n",
        "          worklist_tail += 1\n",
        "          pbar.update(1)\n",
        "          worklist.append(worklist_tail)\n",
        "\n",
        "      num_results += 1\n",
        "\n",
        "      if (type(result) == textattack.attack_results.SuccessfulAttackResult\n",
        "        or type(result) == textattack.attack_results.MaximizedAttackResult):\n",
        "          num_successes += 1\n",
        "                \n",
        "      if type(result) == textattack.attack_results.FailedAttackResult:\n",
        "          num_failures += 1\n",
        "      pbar.set_description(\n",
        "          \"[Succeeded / Failed / Total] {} / {} / {}\".format(\n",
        "            num_successes, num_failures, num_results\n",
        "        )\n",
        "      )\n",
        "\n",
        "  pbar.close()\n",
        "\n",
        "  attack_log_manager.enable_stdout()\n",
        "  attack_log_manager.log_summary()\n",
        "  attack_log_manager.flush()\n",
        "        \n",
        "  textattack.shared.logger.info(f\"Attack time: {time.time() - load_time}s\")"
      ],
      "execution_count": null,
      "outputs": []
    },
    {
      "cell_type": "markdown",
      "metadata": {
        "id": "B3wNfSaqsoXo"
      },
      "source": [
        "### FastText, GreedySearch, RepeatModification, StopwordModification"
      ]
    },
    {
      "cell_type": "code",
      "metadata": {
        "id": "Sm04Ri8WFGHy",
        "colab": {
          "base_uri": "https://localhost:8080/",
          "height": 252,
          "referenced_widgets": [
            "d423d35e48d441b196a780ea3f2a235b",
            "f3e5569a257c4977bc2e205194db4525",
            "8297fa5a597447dab1c66d8eb6a727c2",
            "ae8c44f61cdb4b2ca019b0e9ecfa44e3",
            "a852c9993c5f4f91a7d3e188c62db5c4",
            "8eaeb4f5e4c443399d647c28e37e00bf",
            "fd27a2584930471a86856e5dbac34e47",
            "de6641b1591f47e5a1abdb0c59cb5316",
            "5460fc29ba8e4b19bf45167cb9604022",
            "97f93dd17ee44817a1974e5a913a3b14",
            "982644ac51e44c8983c4d2f6122d84ce",
            "f04c4d3d4c964d7f8c2b042715cd934b",
            "bedf05e48e3f4e349e7089153f3179d8",
            "6e3eef2e5ddb47178aaa600918aad382",
            "4ae7428573c54956b8f9341047e28ad6",
            "d16722b1bfdd468aa5e64673143af6e6",
            "db7d84430f664e83a5616b5d99d07ad8",
            "1960cabb38664c29b64393367eae7617",
            "efcc7516f2b04739a91542850a092c04",
            "69c02534a5f84defb3d8565b9e0a08f9",
            "099b00e1d60345948e7599586d0aeb23",
            "d0db215714344ea5b043003b55e4751f",
            "e729b74b350d43e5829a1002355ab83b",
            "95380c6f83494030abc0a7693f91ac43",
            "f155c1798d7c412090f5aef6f4612859",
            "32da85615bd4404cbaf2afe42b2c82bc",
            "952ea6ad12ed423e95b91abd2ebea45c",
            "5a40e9cdf2314da88fee454185f0e6ac",
            "bffcd77f4fbb42c7b66d17c554646f84",
            "ed7e0bbfe0104e82848f0bdce54ff78a",
            "fd0a7d91cabb4b8caa3c5a1a5919a4e6",
            "ca5244eb343c4bfd8140fb07ec36c08e",
            "4f2008e9e4234c479a348f1da9c82354",
            "53148be21d48400195865c811ea697c6",
            "2df8e21d446f498790d84c5ad31801cc",
            "c23eeb560e0e4c47849c693707148bac",
            "fff7476d88d840f69d9250a91a816b95",
            "16a4f23985974fb8afda1342961fdb82",
            "66d1045f739c4a1286cac3a1be5f255c",
            "edc1b5f2f047485eb643f38302707892",
            "7562525ca7804ada8571a649384b6932",
            "b52d56dda9084000a7269c452d3cab86",
            "6d9b76dc60254031933e0885a9391870",
            "88cad2b5b5d74d46be5d1bd5bf656d46",
            "e28e266790724c1da380509c9e70bfd8",
            "e829bd81b08d4e4198ab7f6c4d74a255",
            "a73edefd1165400aaf8e5fdca575fda5",
            "153e42a13c234a4da685a6e9f1eaee3c"
          ]
        },
        "outputId": "717ce9e3-637e-44aa-ee67-ed0428c66d4f"
      },
      "source": [
        "\n",
        "# We're going to use our word swap class as the attack transformation.\n",
        "transformation = Swapper()\n",
        "\n",
        "constraints = [RepeatModification(),\n",
        "               StopwordModification()]\n",
        "\n",
        "search_method = GreedySearch()\n",
        "\n",
        "goal_function = UntargetedClassification(model_wrapper)\n",
        "\n",
        "# Now, let's make the attack from the 4 components:\n",
        "attack = Attack(goal_function, constraints, transformation, search_method)\n",
        "\n",
        "dataset = HuggingFaceDataset(\"glue\", \"qqp\", \"validation\") # Change the dataset"
      ],
      "execution_count": null,
      "outputs": [
        {
          "output_type": "stream",
          "text": [
            "\u001b[34;1mtextattack\u001b[0m: Unknown if model of class <class 'transformers.models.bert.modeling_bert.BertForSequenceClassification'> compatible with goal function <class 'textattack.goal_functions.classification.untargeted_classification.UntargetedClassification'>.\n"
          ],
          "name": "stderr"
        },
        {
          "output_type": "display_data",
          "data": {
            "application/vnd.jupyter.widget-view+json": {
              "model_id": "d423d35e48d441b196a780ea3f2a235b",
              "version_minor": 0,
              "version_major": 2
            },
            "text/plain": [
              "HBox(children=(FloatProgress(value=0.0, description='Downloading', max=7777.0, style=ProgressStyle(description…"
            ]
          },
          "metadata": {
            "tags": []
          }
        },
        {
          "output_type": "stream",
          "text": [
            "\n"
          ],
          "name": "stdout"
        },
        {
          "output_type": "display_data",
          "data": {
            "application/vnd.jupyter.widget-view+json": {
              "model_id": "5460fc29ba8e4b19bf45167cb9604022",
              "version_minor": 0,
              "version_major": 2
            },
            "text/plain": [
              "HBox(children=(FloatProgress(value=0.0, description='Downloading', max=4473.0, style=ProgressStyle(description…"
            ]
          },
          "metadata": {
            "tags": []
          }
        },
        {
          "output_type": "stream",
          "text": [
            "\n",
            "Downloading and preparing dataset glue/qqp (download: 39.76 MiB, generated: 106.55 MiB, post-processed: Unknown size, total: 146.32 MiB) to /root/.cache/huggingface/datasets/glue/qqp/1.0.0/dacbe3125aa31d7f70367a07a8a9e72a5a0bfeb5fc42e75c9db75b96da6053ad...\n"
          ],
          "name": "stdout"
        },
        {
          "output_type": "display_data",
          "data": {
            "application/vnd.jupyter.widget-view+json": {
              "model_id": "db7d84430f664e83a5616b5d99d07ad8",
              "version_minor": 0,
              "version_major": 2
            },
            "text/plain": [
              "HBox(children=(FloatProgress(value=0.0, description='Downloading', max=41696084.0, style=ProgressStyle(descrip…"
            ]
          },
          "metadata": {
            "tags": []
          }
        },
        {
          "output_type": "stream",
          "text": [
            "\n"
          ],
          "name": "stdout"
        },
        {
          "output_type": "display_data",
          "data": {
            "application/vnd.jupyter.widget-view+json": {
              "model_id": "f155c1798d7c412090f5aef6f4612859",
              "version_minor": 0,
              "version_major": 2
            },
            "text/plain": [
              "HBox(children=(FloatProgress(value=1.0, bar_style='info', max=1.0), HTML(value='')))"
            ]
          },
          "metadata": {
            "tags": []
          }
        },
        {
          "output_type": "stream",
          "text": [
            "\r"
          ],
          "name": "stdout"
        },
        {
          "output_type": "display_data",
          "data": {
            "application/vnd.jupyter.widget-view+json": {
              "model_id": "4f2008e9e4234c479a348f1da9c82354",
              "version_minor": 0,
              "version_major": 2
            },
            "text/plain": [
              "HBox(children=(FloatProgress(value=1.0, bar_style='info', max=1.0), HTML(value='')))"
            ]
          },
          "metadata": {
            "tags": []
          }
        },
        {
          "output_type": "stream",
          "text": [
            "\r"
          ],
          "name": "stdout"
        },
        {
          "output_type": "display_data",
          "data": {
            "application/vnd.jupyter.widget-view+json": {
              "model_id": "7562525ca7804ada8571a649384b6932",
              "version_minor": 0,
              "version_major": 2
            },
            "text/plain": [
              "HBox(children=(FloatProgress(value=1.0, bar_style='info', max=1.0), HTML(value='')))"
            ]
          },
          "metadata": {
            "tags": []
          }
        },
        {
          "output_type": "stream",
          "text": [
            "\u001b[34;1mtextattack\u001b[0m: Loading \u001b[94mdatasets\u001b[0m dataset \u001b[94mglue\u001b[0m, subset \u001b[94mqqp\u001b[0m, split \u001b[94mvalidation\u001b[0m.\n"
          ],
          "name": "stderr"
        },
        {
          "output_type": "stream",
          "text": [
            "\rDataset glue downloaded and prepared to /root/.cache/huggingface/datasets/glue/qqp/1.0.0/dacbe3125aa31d7f70367a07a8a9e72a5a0bfeb5fc42e75c9db75b96da6053ad. Subsequent calls will reuse this data.\n"
          ],
          "name": "stdout"
        }
      ]
    },
    {
      "cell_type": "code",
      "metadata": {
        "id": "fClGtuFxFM5f",
        "colab": {
          "base_uri": "https://localhost:8080/",
          "height": 1000
        },
        "outputId": "e9b10a86-c37c-4b0b-997f-e9ddf9e11dec"
      },
      "source": [
        "attack_stats(attack, dataset, 25)"
      ],
      "execution_count": null,
      "outputs": [
        {
          "output_type": "stream",
          "text": [
            "\r  0%|          | 0/25 [00:00<?, ?it/s]"
          ],
          "name": "stderr"
        },
        {
          "output_type": "stream",
          "text": [
            "Attack(\n",
            "  (search_method): GreedySearch\n",
            "  (goal_function):  UntargetedClassification\n",
            "  (transformation):  Swapper\n",
            "  (constraints): \n",
            "    (0): RepeatModification\n",
            "    (1): StopwordModification\n",
            "  (is_black_box):  True\n",
            ")\n"
          ],
          "name": "stdout"
        },
        {
          "output_type": "display_data",
          "data": {
            "text/html": [
              "<font color = red>Not_duplicate (100%)</font> --> <font color = red>[FAILED]</font><br><font color = bold><font color = underline>Question1</font></font>: Why are African-Americans so beautiful?\n",
              "<font color = bold><font color = underline>Question2</font></font>: Why are hispanics so beautiful?"
            ],
            "text/plain": [
              "<IPython.core.display.HTML object>"
            ]
          },
          "metadata": {
            "tags": []
          }
        },
        {
          "output_type": "stream",
          "text": [
            "[Succeeded / Failed / Total] 0 / 1 / 1:   4%|▍         | 1/25 [00:01<00:33,  1.41s/it]"
          ],
          "name": "stderr"
        },
        {
          "output_type": "display_data",
          "data": {
            "text/html": [
              "<font color = red>Not_duplicate (100%)</font> --> <font color = red>[FAILED]</font><br><font color = bold><font color = underline>Question1</font></font>: I want to pursue PhD in Computer Science about social network,what is the open problem in social networks?\n",
              "<font color = bold><font color = underline>Question2</font></font>: I handle social media for a non-profit. Should I start going to social media networking events? Are there any good ones in the bay area?"
            ],
            "text/plain": [
              "<IPython.core.display.HTML object>"
            ]
          },
          "metadata": {
            "tags": []
          }
        },
        {
          "output_type": "stream",
          "text": [
            "[Succeeded / Failed / Total] 0 / 2 / 2:   8%|▊         | 2/25 [00:25<04:51, 12.66s/it]"
          ],
          "name": "stderr"
        },
        {
          "output_type": "display_data",
          "data": {
            "text/html": [
              "<font color = green>Duplicate (97%)</font> --> <font color = red>Not_duplicate (91%)</font><br><font color = bold><font color = underline>Question1</font></font>: Is there a reason why we should travel <font color = green>alone</font>?\n",
              "<font color = bold><font color = underline>Question2</font></font>: What are some reasons to travel alone?<br><font color = bold><font color = underline>Question1</font></font>: Is there a reason why we should travel <font color = red>someone</font>?\n",
              "<font color = bold><font color = underline>Question2</font></font>: What are some reasons to travel alone?"
            ],
            "text/plain": [
              "<IPython.core.display.HTML object>"
            ]
          },
          "metadata": {
            "tags": []
          }
        },
        {
          "output_type": "stream",
          "text": [
            "[Succeeded / Failed / Total] 1 / 2 / 3:  12%|█▏        | 3/25 [00:25<03:09,  8.60s/it]"
          ],
          "name": "stderr"
        },
        {
          "output_type": "display_data",
          "data": {
            "text/html": [
              "<font color = red>Not_duplicate (100%)</font> --> <font color = red>[FAILED]</font><br><font color = bold><font color = underline>Question1</font></font>: Why are people so obsessed with having a girlfriend/boyfriend?\n",
              "<font color = bold><font color = underline>Question2</font></font>: How can a single male have a child?"
            ],
            "text/plain": [
              "<IPython.core.display.HTML object>"
            ]
          },
          "metadata": {
            "tags": []
          }
        },
        {
          "output_type": "stream",
          "text": [
            "[Succeeded / Failed / Total] 1 / 3 / 4:  16%|█▌        | 4/25 [00:28<02:28,  7.09s/it]"
          ],
          "name": "stderr"
        },
        {
          "output_type": "display_data",
          "data": {
            "text/html": [
              "<font color = red>Not_duplicate (94%)</font> --> <font color = green>Duplicate (56%)</font><br><font color = bold><font color = underline>Question1</font></font>: What are some good baby girl names starting with D?\n",
              "<font color = bold><font color = underline>Question2</font></font>: What are some good baby <font color = red>girl</font> names starting with D or <font color = red>H</font>?<br><font color = bold><font color = underline>Question1</font></font>: What are some good baby girl names starting with D?\n",
              "<font color = bold><font color = underline>Question2</font></font>: What are some good baby <font color = green>woman</font> names starting with D or <font color = green>QUE</font>?"
            ],
            "text/plain": [
              "<IPython.core.display.HTML object>"
            ]
          },
          "metadata": {
            "tags": []
          }
        },
        {
          "output_type": "stream",
          "text": [
            "[Succeeded / Failed / Total] 2 / 3 / 5:  20%|██        | 5/25 [00:29<01:59,  5.98s/it]"
          ],
          "name": "stderr"
        },
        {
          "output_type": "display_data",
          "data": {
            "text/html": [
              "<font color = green>Duplicate (99%)</font> --> <font color = red>Not_duplicate (90%)</font><br><font color = bold><font color = underline>Question1</font></font>: I am <font color = green>25</font> year old guy and never had a girlfriend. Is this weird?\n",
              "<font color = bold><font color = underline>Question2</font></font>: I am 25 years old. I have never had a girlfriend. Is something wrong with me?<br><font color = bold><font color = underline>Question1</font></font>: I am <font color = red>chmielnicki</font> year old guy and never had a girlfriend. Is this weird?\n",
              "<font color = bold><font color = underline>Question2</font></font>: I am 25 years old. I have never had a girlfriend. Is something wrong with me?"
            ],
            "text/plain": [
              "<IPython.core.display.HTML object>"
            ]
          },
          "metadata": {
            "tags": []
          }
        },
        {
          "output_type": "stream",
          "text": [
            "[Succeeded / Failed / Total] 3 / 3 / 6:  24%|██▍       | 6/25 [00:30<01:38,  5.16s/it]"
          ],
          "name": "stderr"
        },
        {
          "output_type": "display_data",
          "data": {
            "text/html": [
              "<font color = red>Not_duplicate (92%)</font> --> <font color = gray>[SKIPPED]</font><br><font color = bold><font color = underline>Question1</font></font>: \"What does a good answer on Quora look like? What does it mean to \"\"be helpful\"\"?\"\n",
              "<font color = bold><font color = underline>Question2</font></font>: How do you write a good answer on Quora?"
            ],
            "text/plain": [
              "<IPython.core.display.HTML object>"
            ]
          },
          "metadata": {
            "tags": []
          }
        },
        {
          "output_type": "stream",
          "text": [
            "\r[Succeeded / Failed / Total] 3 / 3 / 7:  28%|██▊       | 7/25 [00:31<01:19,  4.43s/it]"
          ],
          "name": "stderr"
        },
        {
          "output_type": "display_data",
          "data": {
            "text/html": [
              "<font color = green>Duplicate (54%)</font> --> <font color = red>Not_duplicate (99%)</font><br><font color = bold><font color = underline>Question1</font></font>: What are the best things to do in <font color = green>Hong</font> Kong?\n",
              "<font color = bold><font color = underline>Question2</font></font>: What is the best thing in Hong Kong?<br><font color = bold><font color = underline>Question1</font></font>: What are the best things to do in <font color = red>Yong</font> Kong?\n",
              "<font color = bold><font color = underline>Question2</font></font>: What is the best thing in Hong Kong?"
            ],
            "text/plain": [
              "<IPython.core.display.HTML object>"
            ]
          },
          "metadata": {
            "tags": []
          }
        },
        {
          "output_type": "stream",
          "text": [
            "[Succeeded / Failed / Total] 4 / 3 / 8:  32%|███▏      | 8/25 [00:31<01:07,  3.94s/it]"
          ],
          "name": "stderr"
        },
        {
          "output_type": "display_data",
          "data": {
            "text/html": [
              "<font color = green>Duplicate (84%)</font> --> <font color = gray>[SKIPPED]</font><br><font color = bold><font color = underline>Question1</font></font>: Why is my life getting so complicated?\n",
              "<font color = bold><font color = underline>Question2</font></font>: Why is my life so complicated?"
            ],
            "text/plain": [
              "<IPython.core.display.HTML object>"
            ]
          },
          "metadata": {
            "tags": []
          }
        },
        {
          "output_type": "stream",
          "text": [
            "\r[Succeeded / Failed / Total] 4 / 3 / 9:  36%|███▌      | 9/25 [00:31<00:56,  3.51s/it]"
          ],
          "name": "stderr"
        },
        {
          "output_type": "display_data",
          "data": {
            "text/html": [
              "<font color = red>Not_duplicate (100%)</font> --> <font color = red>[FAILED]</font><br><font color = bold><font color = underline>Question1</font></font>: Why should I crack Jee?\n",
              "<font color = bold><font color = underline>Question2</font></font>: Is it possible to get into IIMs with low marks in graduation and 12th?"
            ],
            "text/plain": [
              "<IPython.core.display.HTML object>"
            ]
          },
          "metadata": {
            "tags": []
          }
        },
        {
          "output_type": "stream",
          "text": [
            "[Succeeded / Failed / Total] 4 / 4 / 10:  40%|████      | 10/25 [00:35<00:53,  3.53s/it]"
          ],
          "name": "stderr"
        },
        {
          "output_type": "display_data",
          "data": {
            "text/html": [
              "<font color = red>Not_duplicate (100%)</font> --> <font color = red>[FAILED]</font><br><font color = bold><font color = underline>Question1</font></font>: Can you TRANSLATE these to English language?\n",
              "<font color = bold><font color = underline>Question2</font></font>: Can you translate this from Bengali to English language?"
            ],
            "text/plain": [
              "<IPython.core.display.HTML object>"
            ]
          },
          "metadata": {
            "tags": []
          }
        },
        {
          "output_type": "stream",
          "text": [
            "\r[Succeeded / Failed / Total] 4 / 5 / 11:  44%|████▍     | 11/25 [00:37<00:47,  3.41s/it]"
          ],
          "name": "stderr"
        },
        {
          "output_type": "display_data",
          "data": {
            "text/html": [
              "<font color = red>Not_duplicate (100%)</font> --> <font color = red>[FAILED]</font><br><font color = bold><font color = underline>Question1</font></font>: Can anyone tell shall mi mix mobile should be purchased or not?\n",
              "<font color = bold><font color = underline>Question2</font></font>: \"What did Voltaire mean when he said, \"\"God is a comedian playing to an audience that is too afraid to laugh\"\"?\""
            ],
            "text/plain": [
              "<IPython.core.display.HTML object>"
            ]
          },
          "metadata": {
            "tags": []
          }
        },
        {
          "output_type": "stream",
          "text": [
            "[Succeeded / Failed / Total] 4 / 6 / 12:  48%|████▊     | 12/25 [00:45<00:49,  3.82s/it]"
          ],
          "name": "stderr"
        },
        {
          "output_type": "display_data",
          "data": {
            "text/html": [
              "<font color = green>Duplicate (100%)</font> --> <font color = red>Not_duplicate (67%)</font><br><font color = bold><font color = underline>Question1</font></font>: Which is the best gaming laptop under 40k?\n",
              "<font color = bold><font color = underline>Question2</font></font>: Which is the best gaming laptop under <font color = green>40</font>,000 rs?<br><font color = bold><font color = underline>Question1</font></font>: Which is the best gaming laptop under 40k?\n",
              "<font color = bold><font color = underline>Question2</font></font>: Which is the best gaming laptop under <font color = red>undo</font>,000 rs?"
            ],
            "text/plain": [
              "<IPython.core.display.HTML object>"
            ]
          },
          "metadata": {
            "tags": []
          }
        },
        {
          "output_type": "stream",
          "text": [
            "[Succeeded / Failed / Total] 5 / 6 / 13:  52%|█████▏    | 13/25 [00:46<00:42,  3.57s/it]"
          ],
          "name": "stderr"
        },
        {
          "output_type": "display_data",
          "data": {
            "text/html": [
              "<font color = red>Not_duplicate (100%)</font> --> <font color = red>[FAILED]</font><br><font color = bold><font color = underline>Question1</font></font>: Why Tamil Nadu Universities are no good?\n",
              "<font color = bold><font color = underline>Question2</font></font>: Why are the 10th students able to score 100% in Tamil Nadu?"
            ],
            "text/plain": [
              "<IPython.core.display.HTML object>"
            ]
          },
          "metadata": {
            "tags": []
          }
        },
        {
          "output_type": "stream",
          "text": [
            "[Succeeded / Failed / Total] 5 / 7 / 14:  56%|█████▌    | 14/25 [00:50<00:39,  3.63s/it]"
          ],
          "name": "stderr"
        },
        {
          "output_type": "display_data",
          "data": {
            "text/html": [
              "<font color = red>Not_duplicate (100%)</font> --> <font color = red>[FAILED]</font><br><font color = bold><font color = underline>Question1</font></font>: What is an easy way to clean toothpaste stains from a shirt without washing it?\n",
              "<font color = bold><font color = underline>Question2</font></font>: What are some ways to remove hard water stains from dishes?"
            ],
            "text/plain": [
              "<IPython.core.display.HTML object>"
            ]
          },
          "metadata": {
            "tags": []
          }
        },
        {
          "output_type": "stream",
          "text": [
            "[Succeeded / Failed / Total] 5 / 8 / 15:  60%|██████    | 15/25 [00:57<00:38,  3.85s/it]"
          ],
          "name": "stderr"
        },
        {
          "output_type": "display_data",
          "data": {
            "text/html": [
              "<font color = green>Duplicate (96%)</font> --> <font color = red>Not_duplicate (99%)</font><br><font color = bold><font color = underline>Question1</font></font>: What was the <font color = green>deadliest</font> battle in history?\n",
              "<font color = bold><font color = underline>Question2</font></font>: What was the bloodiest battle in history?<br><font color = bold><font color = underline>Question1</font></font>: What was the <font color = red>ugliest</font> battle in history?\n",
              "<font color = bold><font color = underline>Question2</font></font>: What was the bloodiest battle in history?"
            ],
            "text/plain": [
              "<IPython.core.display.HTML object>"
            ]
          },
          "metadata": {
            "tags": []
          }
        },
        {
          "output_type": "stream",
          "text": [
            "[Succeeded / Failed / Total] 6 / 8 / 16:  64%|██████▍   | 16/25 [00:58<00:32,  3.64s/it]"
          ],
          "name": "stderr"
        },
        {
          "output_type": "display_data",
          "data": {
            "text/html": [
              "<font color = green>Duplicate (99%)</font> --> <font color = red>Not_duplicate (99%)</font><br><font color = bold><font color = underline>Question1</font></font>: What are your views about demonetisation in India?\n",
              "<font color = bold><font color = underline>Question2</font></font>: What do you think about the ban on 500 and 1000 denomination notes in <font color = green>India</font>?<br><font color = bold><font color = underline>Question1</font></font>: What are your views about demonetisation in India?\n",
              "<font color = bold><font color = underline>Question2</font></font>: What do you think about the ban on 500 and 1000 denomination notes in <font color = red>Ndia</font>?"
            ],
            "text/plain": [
              "<IPython.core.display.HTML object>"
            ]
          },
          "metadata": {
            "tags": []
          }
        },
        {
          "output_type": "stream",
          "text": [
            "[Succeeded / Failed / Total] 7 / 8 / 17:  68%|██████▊   | 17/25 [00:58<00:27,  3.45s/it]"
          ],
          "name": "stderr"
        },
        {
          "output_type": "display_data",
          "data": {
            "text/html": [
              "<font color = red>Not_duplicate (100%)</font> --> <font color = red>[FAILED]</font><br><font color = bold><font color = underline>Question1</font></font>: What are the difference between polyester 210T and 210D?\n",
              "<font color = bold><font color = underline>Question2</font></font>: What is the difference between cotton and polyester?"
            ],
            "text/plain": [
              "<IPython.core.display.HTML object>"
            ]
          },
          "metadata": {
            "tags": []
          }
        },
        {
          "output_type": "stream",
          "text": [
            "[Succeeded / Failed / Total] 7 / 9 / 18:  72%|███████▏  | 18/25 [01:00<00:23,  3.38s/it]"
          ],
          "name": "stderr"
        },
        {
          "output_type": "display_data",
          "data": {
            "text/html": [
              "<font color = red>Not_duplicate (99%)</font> --> <font color = green>Duplicate (59%)</font><br><font color = bold><font color = underline>Question1</font></font>: Is FMS Delhi a good option for a MBA executive <font color = red>program</font>?\n",
              "<font color = bold><font color = underline>Question2</font></font>: <font color = red>Is</font> FMS a good choice for an MBA in <font color = red>HR</font>? Why and why not?<br><font color = bold><font color = underline>Question1</font></font>: Is FMS Delhi a good option for a MBA executive <font color = green>prog</font>?\n",
              "<font color = bold><font color = underline>Question2</font></font>: <font color = green>Larva</font> FMS a good choice for an MBA in <font color = green>GLORY</font>? Why and why not?"
            ],
            "text/plain": [
              "<IPython.core.display.HTML object>"
            ]
          },
          "metadata": {
            "tags": []
          }
        },
        {
          "output_type": "stream",
          "text": [
            "[Succeeded / Failed / Total] 8 / 9 / 19:  76%|███████▌  | 19/25 [01:02<00:19,  3.30s/it]"
          ],
          "name": "stderr"
        },
        {
          "output_type": "display_data",
          "data": {
            "text/html": [
              "<font color = green>Duplicate (91%)</font> --> <font color = red>Not_duplicate (100%)</font><br><font color = bold><font color = underline>Question1</font></font>: Is it a bad time to buy a condo or a house in the Bay Area in <font color = green>2017</font>?\n",
              "<font color = bold><font color = underline>Question2</font></font>: Would 2017 be a good time to buy a house in Bay Area?<br><font color = bold><font color = underline>Question1</font></font>: Is it a bad time to buy a condo or a house in the Bay Area in <font color = red>prosecute</font>?\n",
              "<font color = bold><font color = underline>Question2</font></font>: Would 2017 be a good time to buy a house in Bay Area?"
            ],
            "text/plain": [
              "<IPython.core.display.HTML object>"
            ]
          },
          "metadata": {
            "tags": []
          }
        },
        {
          "output_type": "stream",
          "text": [
            "[Succeeded / Failed / Total] 9 / 9 / 20:  80%|████████  | 20/25 [01:03<00:15,  3.18s/it]"
          ],
          "name": "stderr"
        },
        {
          "output_type": "display_data",
          "data": {
            "text/html": [
              "<font color = red>Not_duplicate (100%)</font> --> <font color = green>Duplicate (58%)</font><br><font color = bold><font color = underline>Question1</font></font>: <font color = red>How</font> is vanilla extract made?\n",
              "<font color = bold><font color = underline>Question2</font></font>: <font color = red>How</font> do you make sugar <font color = red>cookies</font> <font color = red>without</font> vanilla extract?<br><font color = bold><font color = underline>Question1</font></font>: <font color = green>Kowtow</font> is vanilla extract made?\n",
              "<font color = bold><font color = underline>Question2</font></font>: <font color = green>Kowtow</font> do you make sugar <font color = green>cookie</font> <font color = green>any</font> vanilla extract?"
            ],
            "text/plain": [
              "<IPython.core.display.HTML object>"
            ]
          },
          "metadata": {
            "tags": []
          }
        },
        {
          "output_type": "stream",
          "text": [
            "[Succeeded / Failed / Total] 10 / 9 / 21:  84%|████████▍ | 21/25 [01:05<00:12,  3.12s/it]"
          ],
          "name": "stderr"
        },
        {
          "output_type": "display_data",
          "data": {
            "text/html": [
              "<font color = green>Duplicate (100%)</font> --> <font color = red>Not_duplicate (55%)</font><br><font color = bold><font color = underline>Question1</font></font>: What is the <font color = green>Sahara</font>, and how do the average temperatures there compare to the ones in the Patagonian Desert?\n",
              "<font color = bold><font color = underline>Question2</font></font>: <font color = green>What</font> is the Sahara, and how do the average temperatures there compare to the ones in the Registan Desert?<br><font color = bold><font color = underline>Question1</font></font>: What is the <font color = red>Zahara</font>, and how do the average temperatures there compare to the ones in the Patagonian Desert?\n",
              "<font color = bold><font color = underline>Question2</font></font>: <font color = red>Hihat</font> is the Sahara, and how do the average temperatures there compare to the ones in the Registan Desert?"
            ],
            "text/plain": [
              "<IPython.core.display.HTML object>"
            ]
          },
          "metadata": {
            "tags": []
          }
        },
        {
          "output_type": "stream",
          "text": [
            "[Succeeded / Failed / Total] 11 / 9 / 22:  88%|████████▊ | 22/25 [01:06<00:09,  3.04s/it]"
          ],
          "name": "stderr"
        },
        {
          "output_type": "display_data",
          "data": {
            "text/html": [
              "<font color = red>Not_duplicate (100%)</font> --> <font color = red>[FAILED]</font><br><font color = bold><font color = underline>Question1</font></font>: Why was the Roman Empire so successful?\n",
              "<font color = bold><font color = underline>Question2</font></font>: What are some of the rarely known facts about the Roman Empire?"
            ],
            "text/plain": [
              "<IPython.core.display.HTML object>"
            ]
          },
          "metadata": {
            "tags": []
          }
        },
        {
          "output_type": "stream",
          "text": [
            "[Succeeded / Failed / Total] 11 / 10 / 23:  92%|█████████▏| 23/25 [01:09<00:06,  3.02s/it]"
          ],
          "name": "stderr"
        },
        {
          "output_type": "display_data",
          "data": {
            "text/html": [
              "<font color = red>Not_duplicate (100%)</font> --> <font color = green>Duplicate (62%)</font><br><font color = bold><font color = underline>Question1</font></font>: <font color = red>Is</font> it advisable to <font color = red>sent</font> your cv to a professor with whom you are trying to make contact for graduate admission?\n",
              "<font color = bold><font color = underline>Question2</font></font>: <font color = red>How</font> does <font color = red>contacting</font> a professor before applying factor into graduate admissions?<br><font color = bold><font color = underline>Question1</font></font>: <font color = green>Larva</font> it advisable to <font color = green>alerted</font> your cv to a professor with whom you are trying to make contact for graduate admission?\n",
              "<font color = bold><font color = underline>Question2</font></font>: <font color = green>Kowtow</font> does <font color = green>contact</font> a professor before applying factor into graduate admissions?"
            ],
            "text/plain": [
              "<IPython.core.display.HTML object>"
            ]
          },
          "metadata": {
            "tags": []
          }
        },
        {
          "output_type": "stream",
          "text": [
            "[Succeeded / Failed / Total] 12 / 10 / 24:  96%|█████████▌| 24/25 [01:12<00:03,  3.03s/it]"
          ],
          "name": "stderr"
        },
        {
          "output_type": "display_data",
          "data": {
            "text/html": [
              "<font color = red>Not_duplicate (100%)</font> --> <font color = red>[FAILED]</font><br><font color = bold><font color = underline>Question1</font></font>: Does a RainTPL syntax extension for Sublime Text exist? Where can I download it?\n",
              "<font color = bold><font color = underline>Question2</font></font>: How do I hide the find/replace bar in Sublime Text 2?"
            ],
            "text/plain": [
              "<IPython.core.display.HTML object>"
            ]
          },
          "metadata": {
            "tags": []
          }
        },
        {
          "output_type": "stream",
          "text": [
            "[Succeeded / Failed / Total] 12 / 11 / 25: 100%|██████████| 25/25 [01:22<00:00,  3.29s/it]"
          ],
          "name": "stderr"
        },
        {
          "output_type": "display_data",
          "data": {
            "text/html": [
              "<font color = red>Not_duplicate (100%)</font> --> <font color = red>[FAILED]</font><br><font color = bold><font color = underline>Question1</font></font>: What is the average salary of a microbiologist in India?\n",
              "<font color = bold><font color = underline>Question2</font></font>: What is the salary for a psychologist in india?"
            ],
            "text/plain": [
              "<IPython.core.display.HTML object>"
            ]
          },
          "metadata": {
            "tags": []
          }
        },
        {
          "output_type": "stream",
          "text": [
            "[Succeeded / Failed / Total] 12 / 12 / 26: : 26it [01:24,  3.24s/it]"
          ],
          "name": "stderr"
        },
        {
          "output_type": "display_data",
          "data": {
            "text/html": [
              "<font color = red>Not_duplicate (88%)</font> --> <font color = green>Duplicate (90%)</font><br><font color = bold><font color = underline>Question1</font></font>: <font color = red>How</font> do you close a Bank of America <font color = red>account</font>?\n",
              "<font color = bold><font color = underline>Question2</font></font>: <font color = red>How</font> can one close a bank <font color = red>account</font> <font color = red>online</font>?<br><font color = bold><font color = underline>Question1</font></font>: <font color = green>Kowtow</font> do you close a Bank of America <font color = green>recount</font>?\n",
              "<font color = bold><font color = underline>Question2</font></font>: <font color = green>Kowtow</font> can one close a bank <font color = green>recount</font> <font color = green>wikibooks</font>?"
            ],
            "text/plain": [
              "<IPython.core.display.HTML object>"
            ]
          },
          "metadata": {
            "tags": []
          }
        },
        {
          "output_type": "stream",
          "text": [
            "[Succeeded / Failed / Total] 13 / 12 / 27: : 27it [01:27,  3.22s/it]"
          ],
          "name": "stderr"
        },
        {
          "output_type": "stream",
          "text": [
            "+-------------------------------+--------+\n",
            "| Attack Results                |        |\n",
            "+-------------------------------+--------+\n",
            "| Number of successful attacks: | 13     |\n",
            "| Number of failed attacks:     | 12     |\n",
            "| Number of skipped attacks:    | 2      |\n",
            "| Original accuracy:            | 92.59% |\n",
            "| Accuracy under attack:        | 44.44% |\n",
            "| Attack success rate:          | 52.0%  |\n",
            "| Average perturbed word %:     | 10.17% |\n",
            "| Average num. words per input: | 22.3   |\n",
            "| Avg num queries:              | 69.8   |\n",
            "+-------------------------------+--------+"
          ],
          "name": "stdout"
        },
        {
          "output_type": "stream",
          "text": [
            "\n",
            "\u001b[34;1mtextattack\u001b[0m: Attack time: 87.03159046173096s\n"
          ],
          "name": "stderr"
        }
      ]
    },
    {
      "cell_type": "markdown",
      "metadata": {
        "id": "JjjKuY91FPqf"
      },
      "source": [
        "# Framing word2vec attack"
      ]
    },
    {
      "cell_type": "code",
      "metadata": {
        "id": "pp7L4aR6FRVP"
      },
      "source": [
        "class Swapper_(WordSwap): # For word2vec\n",
        "    \"\"\" Transforms an input by replacing any word with its most similar counterpart\n",
        "    \"\"\"\n",
        "\n",
        "    # We don't need a constructor, since our class doesn't require any parameters.\n",
        "\n",
        "    def _get_replacement_words(self, word):\n",
        "        \"\"\" Returns 'banana', no matter what 'word' was originally.\n",
        "\n",
        "            Returns a list with one item, since `_get_replacement_words` is intended to\n",
        "                return a list of candidate replacement words.\n",
        "        \"\"\"\n",
        "        if word in model2.wv.key_to_index:\n",
        "            for i in range(10):\n",
        "                if word.lower() in model2.wv.most_similar(word)[i][0].lower():\n",
        "                    continue\n",
        "                elif word.isupper():\n",
        "                    return [model2.wv.most_similar(word)[i][0].upper()]\n",
        "                elif word[0].isupper():\n",
        "                    return [model2.wv.most_similar(word)[i][0].capitalize()]\n",
        "                else:\n",
        "                    return [model2.wv.most_similar(word)[i][0]]\n",
        "        else:\n",
        "            return [word]"
      ],
      "execution_count": null,
      "outputs": []
    },
    {
      "cell_type": "markdown",
      "metadata": {
        "id": "ZPjjq1FGs0Vs"
      },
      "source": [
        "### Word2vec, GreedySearch, RepeatModification, StopwordModification"
      ]
    },
    {
      "cell_type": "code",
      "metadata": {
        "id": "enY5C3DDBwlo",
        "colab": {
          "base_uri": "https://localhost:8080/"
        },
        "outputId": "82309575-9683-4760-9b44-58f18c6b0375"
      },
      "source": [
        "# We're going to use our word swap class as the attack transformation.\n",
        "transformation = Swapper_()\n",
        "\n",
        "constraints = [RepeatModification(),\n",
        "               StopwordModification()]\n",
        "\n",
        "search_method = GreedySearch()\n",
        "\n",
        "goal_function = UntargetedClassification(model_wrapper)\n",
        "\n",
        "# Now, let's make the attack from the 4 components:\n",
        "attack = Attack(goal_function, constraints, transformation, search_method)\n"
      ],
      "execution_count": null,
      "outputs": [
        {
          "output_type": "stream",
          "text": [
            "\u001b[34;1mtextattack\u001b[0m: Unknown if model of class <class 'transformers.models.bert.modeling_bert.BertForSequenceClassification'> compatible with goal function <class 'textattack.goal_functions.classification.untargeted_classification.UntargetedClassification'>.\n"
          ],
          "name": "stderr"
        }
      ]
    },
    {
      "cell_type": "code",
      "metadata": {
        "id": "axfmmqOUlwtU",
        "colab": {
          "base_uri": "https://localhost:8080/"
        },
        "outputId": "8e651cc4-159d-4b51-baff-16f90af6c006"
      },
      "source": [
        "print(attack)"
      ],
      "execution_count": null,
      "outputs": [
        {
          "output_type": "stream",
          "text": [
            "Attack(\n",
            "  (search_method): GreedySearch\n",
            "  (goal_function):  UntargetedClassification\n",
            "  (transformation):  Swapper_\n",
            "  (constraints): \n",
            "    (0): RepeatModification\n",
            "    (1): StopwordModification\n",
            "  (is_black_box):  True\n",
            ")\n"
          ],
          "name": "stdout"
        }
      ]
    },
    {
      "cell_type": "code",
      "metadata": {
        "id": "FhK7my9wFTcj",
        "colab": {
          "base_uri": "https://localhost:8080/",
          "height": 1000
        },
        "outputId": "66f4a1a6-1349-415e-c8c3-b10ed8b0f38b"
      },
      "source": [
        "attack_stats(attack, dataset, 25)"
      ],
      "execution_count": null,
      "outputs": [
        {
          "output_type": "stream",
          "text": [
            "\r  0%|          | 0/25 [00:00<?, ?it/s]"
          ],
          "name": "stderr"
        },
        {
          "output_type": "stream",
          "text": [
            "Attack(\n",
            "  (search_method): GreedySearch\n",
            "  (goal_function):  UntargetedClassification\n",
            "  (transformation):  Swapper_\n",
            "  (constraints): \n",
            "    (0): RepeatModification\n",
            "    (1): StopwordModification\n",
            "  (is_black_box):  True\n",
            ")\n"
          ],
          "name": "stdout"
        },
        {
          "output_type": "display_data",
          "data": {
            "text/html": [
              "<font color = red>Not_duplicate (100%)</font> --> <font color = red>[FAILED]</font><br><font color = bold><font color = underline>Question1</font></font>: Why are African-Americans so beautiful?\n",
              "<font color = bold><font color = underline>Question2</font></font>: Why are hispanics so beautiful?"
            ],
            "text/plain": [
              "<IPython.core.display.HTML object>"
            ]
          },
          "metadata": {
            "tags": []
          }
        },
        {
          "output_type": "stream",
          "text": [
            "[Succeeded / Failed / Total] 0 / 1 / 1:   4%|▍         | 1/25 [00:00<00:08,  2.91it/s]"
          ],
          "name": "stderr"
        },
        {
          "output_type": "display_data",
          "data": {
            "text/html": [
              "<font color = red>Not_duplicate (100%)</font> --> <font color = red>[FAILED]</font><br><font color = bold><font color = underline>Question1</font></font>: I want to pursue PhD in Computer Science about social network,what is the open problem in social networks?\n",
              "<font color = bold><font color = underline>Question2</font></font>: I handle social media for a non-profit. Should I start going to social media networking events? Are there any good ones in the bay area?"
            ],
            "text/plain": [
              "<IPython.core.display.HTML object>"
            ]
          },
          "metadata": {
            "tags": []
          }
        },
        {
          "output_type": "stream",
          "text": [
            "[Succeeded / Failed / Total] 0 / 2 / 2:   8%|▊         | 2/25 [00:10<01:59,  5.19s/it]"
          ],
          "name": "stderr"
        },
        {
          "output_type": "display_data",
          "data": {
            "text/html": [
              "<font color = green>Duplicate (97%)</font> --> <font color = red>Not_duplicate (97%)</font><br><font color = bold><font color = underline>Question1</font></font>: Is there a reason why we should travel alone?\n",
              "<font color = bold><font color = underline>Question2</font></font>: What are some reasons to travel <font color = green>alone</font>?<br><font color = bold><font color = underline>Question1</font></font>: Is there a reason why we should travel alone?\n",
              "<font color = bold><font color = underline>Question2</font></font>: What are some reasons to travel <font color = red>eternally</font>?"
            ],
            "text/plain": [
              "<IPython.core.display.HTML object>"
            ]
          },
          "metadata": {
            "tags": []
          }
        },
        {
          "output_type": "stream",
          "text": [
            "[Succeeded / Failed / Total] 1 / 2 / 3:  12%|█▏        | 3/25 [00:10<01:18,  3.58s/it]"
          ],
          "name": "stderr"
        },
        {
          "output_type": "display_data",
          "data": {
            "text/html": [
              "<font color = red>Not_duplicate (100%)</font> --> <font color = red>[FAILED]</font><br><font color = bold><font color = underline>Question1</font></font>: Why are people so obsessed with having a girlfriend/boyfriend?\n",
              "<font color = bold><font color = underline>Question2</font></font>: How can a single male have a child?"
            ],
            "text/plain": [
              "<IPython.core.display.HTML object>"
            ]
          },
          "metadata": {
            "tags": []
          }
        },
        {
          "output_type": "stream",
          "text": [
            "[Succeeded / Failed / Total] 1 / 3 / 4:  16%|█▌        | 4/25 [00:12<01:03,  3.03s/it]"
          ],
          "name": "stderr"
        },
        {
          "output_type": "display_data",
          "data": {
            "text/html": [
              "<font color = red>Not_duplicate (94%)</font> --> <font color = red>[FAILED]</font><br><font color = bold><font color = underline>Question1</font></font>: What are some good baby girl names starting with D?\n",
              "<font color = bold><font color = underline>Question2</font></font>: What are some good baby girl names starting with D or H?"
            ],
            "text/plain": [
              "<IPython.core.display.HTML object>"
            ]
          },
          "metadata": {
            "tags": []
          }
        },
        {
          "output_type": "stream",
          "text": [
            "[Succeeded / Failed / Total] 1 / 4 / 5:  20%|██        | 5/25 [00:14<00:58,  2.93s/it]"
          ],
          "name": "stderr"
        },
        {
          "output_type": "display_data",
          "data": {
            "text/html": [
              "<font color = green>Duplicate (99%)</font> --> <font color = red>Not_duplicate (58%)</font><br><font color = bold><font color = underline>Question1</font></font>: I am 25 year old guy and <font color = green>never</font> had a girlfriend. Is this weird?\n",
              "<font color = bold><font color = underline>Question2</font></font>: I am 25 years old. I have never had a girlfriend. Is something wrong with me?<br><font color = bold><font color = underline>Question1</font></font>: I am 25 year old guy and <font color = red>already</font> had a girlfriend. Is this weird?\n",
              "<font color = bold><font color = underline>Question2</font></font>: I am 25 years old. I have never had a girlfriend. Is something wrong with me?"
            ],
            "text/plain": [
              "<IPython.core.display.HTML object>"
            ]
          },
          "metadata": {
            "tags": []
          }
        },
        {
          "output_type": "stream",
          "text": [
            "[Succeeded / Failed / Total] 2 / 4 / 6:  24%|██▍       | 6/25 [00:15<00:48,  2.53s/it]"
          ],
          "name": "stderr"
        },
        {
          "output_type": "display_data",
          "data": {
            "text/html": [
              "<font color = red>Not_duplicate (92%)</font> --> <font color = gray>[SKIPPED]</font><br><font color = bold><font color = underline>Question1</font></font>: \"What does a good answer on Quora look like? What does it mean to \"\"be helpful\"\"?\"\n",
              "<font color = bold><font color = underline>Question2</font></font>: How do you write a good answer on Quora?"
            ],
            "text/plain": [
              "<IPython.core.display.HTML object>"
            ]
          },
          "metadata": {
            "tags": []
          }
        },
        {
          "output_type": "stream",
          "text": [
            "\r[Succeeded / Failed / Total] 2 / 4 / 7:  28%|██▊       | 7/25 [00:15<00:39,  2.18s/it]"
          ],
          "name": "stderr"
        },
        {
          "output_type": "display_data",
          "data": {
            "text/html": [
              "<font color = green>Duplicate (54%)</font> --> <font color = red>Not_duplicate (100%)</font><br><font color = bold><font color = underline>Question1</font></font>: What are the best things to do in Hong Kong?\n",
              "<font color = bold><font color = underline>Question2</font></font>: What is the <font color = green>best</font> thing in Hong Kong?<br><font color = bold><font color = underline>Question1</font></font>: What are the best things to do in Hong Kong?\n",
              "<font color = bold><font color = underline>Question2</font></font>: What is the <font color = red>filmfare</font> thing in Hong Kong?"
            ],
            "text/plain": [
              "<IPython.core.display.HTML object>"
            ]
          },
          "metadata": {
            "tags": []
          }
        },
        {
          "output_type": "stream",
          "text": [
            "[Succeeded / Failed / Total] 3 / 4 / 8:  32%|███▏      | 8/25 [00:15<00:32,  1.94s/it]"
          ],
          "name": "stderr"
        },
        {
          "output_type": "display_data",
          "data": {
            "text/html": [
              "<font color = green>Duplicate (84%)</font> --> <font color = gray>[SKIPPED]</font><br><font color = bold><font color = underline>Question1</font></font>: Why is my life getting so complicated?\n",
              "<font color = bold><font color = underline>Question2</font></font>: Why is my life so complicated?"
            ],
            "text/plain": [
              "<IPython.core.display.HTML object>"
            ]
          },
          "metadata": {
            "tags": []
          }
        },
        {
          "output_type": "stream",
          "text": [
            "\r[Succeeded / Failed / Total] 3 / 4 / 9:  36%|███▌      | 9/25 [00:15<00:27,  1.73s/it]"
          ],
          "name": "stderr"
        },
        {
          "output_type": "display_data",
          "data": {
            "text/html": [
              "<font color = red>Not_duplicate (100%)</font> --> <font color = red>[FAILED]</font><br><font color = bold><font color = underline>Question1</font></font>: Why should I crack Jee?\n",
              "<font color = bold><font color = underline>Question2</font></font>: Is it possible to get into IIMs with low marks in graduation and 12th?"
            ],
            "text/plain": [
              "<IPython.core.display.HTML object>"
            ]
          },
          "metadata": {
            "tags": []
          }
        },
        {
          "output_type": "stream",
          "text": [
            "[Succeeded / Failed / Total] 3 / 5 / 10:  40%|████      | 10/25 [00:16<00:24,  1.65s/it]"
          ],
          "name": "stderr"
        },
        {
          "output_type": "display_data",
          "data": {
            "text/html": [
              "<font color = red>Not_duplicate (100%)</font> --> <font color = red>[FAILED]</font><br><font color = bold><font color = underline>Question1</font></font>: Can you TRANSLATE these to English language?\n",
              "<font color = bold><font color = underline>Question2</font></font>: Can you translate this from Bengali to English language?"
            ],
            "text/plain": [
              "<IPython.core.display.HTML object>"
            ]
          },
          "metadata": {
            "tags": []
          }
        },
        {
          "output_type": "stream",
          "text": [
            "\r[Succeeded / Failed / Total] 3 / 6 / 11:  44%|████▍     | 11/25 [00:16<00:21,  1.54s/it]"
          ],
          "name": "stderr"
        },
        {
          "output_type": "display_data",
          "data": {
            "text/html": [
              "<font color = red>Not_duplicate (100%)</font> --> <font color = red>[FAILED]</font><br><font color = bold><font color = underline>Question1</font></font>: Can anyone tell shall mi mix mobile should be purchased or not?\n",
              "<font color = bold><font color = underline>Question2</font></font>: \"What did Voltaire mean when he said, \"\"God is a comedian playing to an audience that is too afraid to laugh\"\"?\""
            ],
            "text/plain": [
              "<IPython.core.display.HTML object>"
            ]
          },
          "metadata": {
            "tags": []
          }
        },
        {
          "output_type": "stream",
          "text": [
            "[Succeeded / Failed / Total] 3 / 7 / 12:  48%|████▊     | 12/25 [00:21<00:23,  1.81s/it]"
          ],
          "name": "stderr"
        },
        {
          "output_type": "display_data",
          "data": {
            "text/html": [
              "<font color = green>Duplicate (100%)</font> --> <font color = red>Not_duplicate (69%)</font><br><font color = bold><font color = underline>Question1</font></font>: Which is the <font color = green>best</font> gaming laptop under 40k?\n",
              "<font color = bold><font color = underline>Question2</font></font>: Which is the best gaming laptop under 40,000 rs?<br><font color = bold><font color = underline>Question1</font></font>: Which is the <font color = red>filmfare</font> gaming laptop under 40k?\n",
              "<font color = bold><font color = underline>Question2</font></font>: Which is the best gaming laptop under 40,000 rs?"
            ],
            "text/plain": [
              "<IPython.core.display.HTML object>"
            ]
          },
          "metadata": {
            "tags": []
          }
        },
        {
          "output_type": "stream",
          "text": [
            "\r[Succeeded / Failed / Total] 4 / 7 / 13:  52%|█████▏    | 13/25 [00:22<00:20,  1.69s/it]"
          ],
          "name": "stderr"
        },
        {
          "output_type": "display_data",
          "data": {
            "text/html": [
              "<font color = red>Not_duplicate (100%)</font> --> <font color = red>[FAILED]</font><br><font color = bold><font color = underline>Question1</font></font>: Why Tamil Nadu Universities are no good?\n",
              "<font color = bold><font color = underline>Question2</font></font>: Why are the 10th students able to score 100% in Tamil Nadu?"
            ],
            "text/plain": [
              "<IPython.core.display.HTML object>"
            ]
          },
          "metadata": {
            "tags": []
          }
        },
        {
          "output_type": "stream",
          "text": [
            "[Succeeded / Failed / Total] 4 / 8 / 14:  56%|█████▌    | 14/25 [00:22<00:17,  1.61s/it]"
          ],
          "name": "stderr"
        },
        {
          "output_type": "display_data",
          "data": {
            "text/html": [
              "<font color = red>Not_duplicate (100%)</font> --> <font color = red>[FAILED]</font><br><font color = bold><font color = underline>Question1</font></font>: What is an easy way to clean toothpaste stains from a shirt without washing it?\n",
              "<font color = bold><font color = underline>Question2</font></font>: What are some ways to remove hard water stains from dishes?"
            ],
            "text/plain": [
              "<IPython.core.display.HTML object>"
            ]
          },
          "metadata": {
            "tags": []
          }
        },
        {
          "output_type": "stream",
          "text": [
            "\r[Succeeded / Failed / Total] 4 / 9 / 15:  60%|██████    | 15/25 [00:27<00:18,  1.81s/it]"
          ],
          "name": "stderr"
        },
        {
          "output_type": "display_data",
          "data": {
            "text/html": [
              "<font color = green>Duplicate (96%)</font> --> <font color = red>Not_duplicate (100%)</font><br><font color = bold><font color = underline>Question1</font></font>: What was the deadliest battle in history?\n",
              "<font color = bold><font color = underline>Question2</font></font>: What was the <font color = green>bloodiest</font> battle in history?<br><font color = bold><font color = underline>Question1</font></font>: What was the deadliest battle in history?\n",
              "<font color = bold><font color = underline>Question2</font></font>: What was the <font color = red>gaugamela</font> battle in history?"
            ],
            "text/plain": [
              "<IPython.core.display.HTML object>"
            ]
          },
          "metadata": {
            "tags": []
          }
        },
        {
          "output_type": "stream",
          "text": [
            "[Succeeded / Failed / Total] 5 / 9 / 16:  64%|██████▍   | 16/25 [00:27<00:15,  1.72s/it]"
          ],
          "name": "stderr"
        },
        {
          "output_type": "display_data",
          "data": {
            "text/html": [
              "<font color = green>Duplicate (99%)</font> --> <font color = red>Not_duplicate (98%)</font><br><font color = bold><font color = underline>Question1</font></font>: What are your views about demonetisation in India?\n",
              "<font color = bold><font color = underline>Question2</font></font>: What do you <font color = green>think</font> about the ban on 500 and 1000 <font color = green>denomination</font> notes in India?<br><font color = bold><font color = underline>Question1</font></font>: What are your views about demonetisation in India?\n",
              "<font color = bold><font color = underline>Question2</font></font>: What do you <font color = red>know</font> about the ban on 500 and 1000 <font color = red>mennonite</font> notes in India?"
            ],
            "text/plain": [
              "<IPython.core.display.HTML object>"
            ]
          },
          "metadata": {
            "tags": []
          }
        },
        {
          "output_type": "stream",
          "text": [
            "\r[Succeeded / Failed / Total] 6 / 9 / 17:  68%|██████▊   | 17/25 [00:28<00:13,  1.65s/it]"
          ],
          "name": "stderr"
        },
        {
          "output_type": "display_data",
          "data": {
            "text/html": [
              "<font color = red>Not_duplicate (100%)</font> --> <font color = red>[FAILED]</font><br><font color = bold><font color = underline>Question1</font></font>: What are the difference between polyester 210T and 210D?\n",
              "<font color = bold><font color = underline>Question2</font></font>: What is the difference between cotton and polyester?"
            ],
            "text/plain": [
              "<IPython.core.display.HTML object>"
            ]
          },
          "metadata": {
            "tags": []
          }
        },
        {
          "output_type": "stream",
          "text": [
            "[Succeeded / Failed / Total] 6 / 10 / 18:  72%|███████▏  | 18/25 [00:28<00:11,  1.60s/it]"
          ],
          "name": "stderr"
        },
        {
          "output_type": "display_data",
          "data": {
            "text/html": [
              "<font color = red>Not_duplicate (99%)</font> --> <font color = red>[FAILED]</font><br><font color = bold><font color = underline>Question1</font></font>: Is FMS Delhi a good option for a MBA executive program?\n",
              "<font color = bold><font color = underline>Question2</font></font>: Is FMS a good choice for an MBA in HR? Why and why not?"
            ],
            "text/plain": [
              "<IPython.core.display.HTML object>"
            ]
          },
          "metadata": {
            "tags": []
          }
        },
        {
          "output_type": "stream",
          "text": [
            "\r[Succeeded / Failed / Total] 6 / 11 / 19:  76%|███████▌  | 19/25 [00:29<00:09,  1.57s/it]"
          ],
          "name": "stderr"
        },
        {
          "output_type": "display_data",
          "data": {
            "text/html": [
              "<font color = green>Duplicate (91%)</font> --> <font color = red>Not_duplicate (87%)</font><br><font color = bold><font color = underline>Question1</font></font>: Is it a bad time to buy a condo or a house in the Bay Area in 2017?\n",
              "<font color = bold><font color = underline>Question2</font></font>: Would 2017 be a good time to buy a <font color = green>house</font> in Bay Area?<br><font color = bold><font color = underline>Question1</font></font>: Is it a bad time to buy a condo or a house in the Bay Area in 2017?\n",
              "<font color = bold><font color = underline>Question2</font></font>: Would 2017 be a good time to buy a <font color = red>commons</font> in Bay Area?"
            ],
            "text/plain": [
              "<IPython.core.display.HTML object>"
            ]
          },
          "metadata": {
            "tags": []
          }
        },
        {
          "output_type": "stream",
          "text": [
            "[Succeeded / Failed / Total] 7 / 11 / 20:  80%|████████  | 20/25 [00:30<00:07,  1.51s/it]"
          ],
          "name": "stderr"
        },
        {
          "output_type": "display_data",
          "data": {
            "text/html": [
              "<font color = red>Not_duplicate (100%)</font> --> <font color = red>[FAILED]</font><br><font color = bold><font color = underline>Question1</font></font>: How is vanilla extract made?\n",
              "<font color = bold><font color = underline>Question2</font></font>: How do you make sugar cookies without vanilla extract?"
            ],
            "text/plain": [
              "<IPython.core.display.HTML object>"
            ]
          },
          "metadata": {
            "tags": []
          }
        },
        {
          "output_type": "stream",
          "text": [
            "\r[Succeeded / Failed / Total] 7 / 12 / 21:  84%|████████▍ | 21/25 [00:32<00:06,  1.54s/it]"
          ],
          "name": "stderr"
        },
        {
          "output_type": "display_data",
          "data": {
            "text/html": [
              "<font color = green>Duplicate (100%)</font> --> <font color = red>[FAILED]</font><br><font color = bold><font color = underline>Question1</font></font>: What is the Sahara, and how do the average temperatures there compare to the ones in the Patagonian Desert?\n",
              "<font color = bold><font color = underline>Question2</font></font>: What is the Sahara, and how do the average temperatures there compare to the ones in the Registan Desert?"
            ],
            "text/plain": [
              "<IPython.core.display.HTML object>"
            ]
          },
          "metadata": {
            "tags": []
          }
        },
        {
          "output_type": "stream",
          "text": [
            "[Succeeded / Failed / Total] 7 / 13 / 22:  88%|████████▊ | 22/25 [00:34<00:04,  1.55s/it]"
          ],
          "name": "stderr"
        },
        {
          "output_type": "display_data",
          "data": {
            "text/html": [
              "<font color = red>Not_duplicate (100%)</font> --> <font color = red>[FAILED]</font><br><font color = bold><font color = underline>Question1</font></font>: Why was the Roman Empire so successful?\n",
              "<font color = bold><font color = underline>Question2</font></font>: What are some of the rarely known facts about the Roman Empire?"
            ],
            "text/plain": [
              "<IPython.core.display.HTML object>"
            ]
          },
          "metadata": {
            "tags": []
          }
        },
        {
          "output_type": "stream",
          "text": [
            "\r[Succeeded / Failed / Total] 7 / 14 / 23:  92%|█████████▏| 23/25 [00:34<00:03,  1.50s/it]"
          ],
          "name": "stderr"
        },
        {
          "output_type": "display_data",
          "data": {
            "text/html": [
              "<font color = red>Not_duplicate (100%)</font> --> <font color = red>[FAILED]</font><br><font color = bold><font color = underline>Question1</font></font>: Is it advisable to sent your cv to a professor with whom you are trying to make contact for graduate admission?\n",
              "<font color = bold><font color = underline>Question2</font></font>: How does contacting a professor before applying factor into graduate admissions?"
            ],
            "text/plain": [
              "<IPython.core.display.HTML object>"
            ]
          },
          "metadata": {
            "tags": []
          }
        },
        {
          "output_type": "stream",
          "text": [
            "[Succeeded / Failed / Total] 7 / 15 / 24:  96%|█████████▌| 24/25 [00:40<00:01,  1.68s/it]"
          ],
          "name": "stderr"
        },
        {
          "output_type": "display_data",
          "data": {
            "text/html": [
              "<font color = red>Not_duplicate (100%)</font> --> <font color = red>[FAILED]</font><br><font color = bold><font color = underline>Question1</font></font>: Does a RainTPL syntax extension for Sublime Text exist? Where can I download it?\n",
              "<font color = bold><font color = underline>Question2</font></font>: How do I hide the find/replace bar in Sublime Text 2?"
            ],
            "text/plain": [
              "<IPython.core.display.HTML object>"
            ]
          },
          "metadata": {
            "tags": []
          }
        },
        {
          "output_type": "stream",
          "text": [
            "\r[Succeeded / Failed / Total] 7 / 16 / 25: 100%|██████████| 25/25 [00:41<00:00,  1.68s/it]"
          ],
          "name": "stderr"
        },
        {
          "output_type": "display_data",
          "data": {
            "text/html": [
              "<font color = red>Not_duplicate (100%)</font> --> <font color = red>[FAILED]</font><br><font color = bold><font color = underline>Question1</font></font>: What is the average salary of a microbiologist in India?\n",
              "<font color = bold><font color = underline>Question2</font></font>: What is the salary for a psychologist in india?"
            ],
            "text/plain": [
              "<IPython.core.display.HTML object>"
            ]
          },
          "metadata": {
            "tags": []
          }
        },
        {
          "output_type": "stream",
          "text": [
            "[Succeeded / Failed / Total] 7 / 17 / 26: : 26it [00:43,  1.65s/it]"
          ],
          "name": "stderr"
        },
        {
          "output_type": "display_data",
          "data": {
            "text/html": [
              "<font color = red>Not_duplicate (88%)</font> --> <font color = green>Duplicate (95%)</font><br><font color = bold><font color = underline>Question1</font></font>: How do you close a Bank of America account?\n",
              "<font color = bold><font color = underline>Question2</font></font>: How can one close a bank <font color = red>account</font> <font color = red>online</font>?<br><font color = bold><font color = underline>Question1</font></font>: How do you close a Bank of America account?\n",
              "<font color = bold><font color = underline>Question2</font></font>: How can one close a bank <font color = green>explanation</font> <font color = green>downloadable</font>?"
            ],
            "text/plain": [
              "<IPython.core.display.HTML object>"
            ]
          },
          "metadata": {
            "tags": []
          }
        },
        {
          "output_type": "stream",
          "text": [
            "[Succeeded / Failed / Total] 8 / 17 / 27: : 27it [00:43,  1.62s/it]"
          ],
          "name": "stderr"
        },
        {
          "output_type": "stream",
          "text": [
            "+-------------------------------+--------+\n",
            "| Attack Results                |        |\n",
            "+-------------------------------+--------+\n",
            "| Number of successful attacks: | 8      |\n",
            "| Number of failed attacks:     | 17     |\n",
            "| Number of skipped attacks:    | 2      |\n",
            "| Original accuracy:            | 92.59% |\n",
            "| Accuracy under attack:        | 62.96% |\n",
            "| Attack success rate:          | 32.0%  |\n",
            "| Average perturbed word %:     | 6.44%  |\n",
            "| Average num. words per input: | 22.3   |\n",
            "| Avg num queries:              | 38.44  |\n",
            "+-------------------------------+--------+"
          ],
          "name": "stdout"
        },
        {
          "output_type": "stream",
          "text": [
            "\n",
            "\u001b[34;1mtextattack\u001b[0m: Attack time: 43.721490144729614s\n"
          ],
          "name": "stderr"
        }
      ]
    },
    {
      "cell_type": "markdown",
      "metadata": {
        "id": "Q8odOqt_MctY"
      },
      "source": [
        "### Framing Glove attack"
      ]
    },
    {
      "cell_type": "code",
      "metadata": {
        "id": "d4dI_hK_MXdH"
      },
      "source": [
        "from textattack.transformations import WordSwap\n",
        "\n",
        "class Swapper__(WordSwap): # For glove\n",
        "    \"\"\" Transforms an input by replacing any word with its most similar counterpart\n",
        "    \"\"\"\n",
        "\n",
        "    # We don't need a constructor, since our class doesn't require any parameters.\n",
        "\n",
        "    def _get_replacement_words(self, word):\n",
        "        \"\"\" Returns 'banana', no matter what 'word' was originally.\n",
        "\n",
        "            Returns a list with one item, since `_get_replacement_words` is intended to\n",
        "                return a list of candidate replacement words.\n",
        "        \"\"\"\n",
        "        if word in model3.key_to_index:\n",
        "            for i in range(10):\n",
        "                if word.lower() in model3.most_similar(word)[i][0].lower():\n",
        "                    continue\n",
        "                elif word.isupper():\n",
        "                    return [model3.most_similar(word)[i][0].upper()]\n",
        "                elif word[0].isupper():\n",
        "                    return [model3.most_similar(word)[i][0].capitalize()]\n",
        "                else:\n",
        "                    return [model3.most_similar(word)[i][0]]\n",
        "        else:\n",
        "            return [word]"
      ],
      "execution_count": null,
      "outputs": []
    },
    {
      "cell_type": "markdown",
      "metadata": {
        "id": "fh2g_oH5s9cK"
      },
      "source": [
        "### Glove, GreedySearch, RepeatModification, StopwordModification"
      ]
    },
    {
      "cell_type": "code",
      "metadata": {
        "id": "TSxsdoTqNmYM",
        "colab": {
          "base_uri": "https://localhost:8080/"
        },
        "outputId": "00c41749-e4f7-46e8-b1f1-ae90f428cbd9"
      },
      "source": [
        "# We're going to use our word swap class as the attack transformation.\n",
        "transformation = Swapper__()\n",
        "\n",
        "constraints = [RepeatModification(),\n",
        "               StopwordModification()]\n",
        "\n",
        "search_method = GreedySearch()\n",
        "\n",
        "goal_function = UntargetedClassification(model_wrapper)\n",
        "\n",
        "# Now, let's make the attack from the 4 components:\n",
        "attack = Attack(goal_function, constraints, transformation, search_method)"
      ],
      "execution_count": null,
      "outputs": [
        {
          "output_type": "stream",
          "text": [
            "\u001b[34;1mtextattack\u001b[0m: Unknown if model of class <class 'transformers.models.bert.modeling_bert.BertForSequenceClassification'> compatible with goal function <class 'textattack.goal_functions.classification.untargeted_classification.UntargetedClassification'>.\n"
          ],
          "name": "stderr"
        }
      ]
    },
    {
      "cell_type": "code",
      "metadata": {
        "id": "yipMMe1VNuRP",
        "colab": {
          "base_uri": "https://localhost:8080/"
        },
        "outputId": "3fd460b4-0650-4a3d-efdc-561daa2ff1c4"
      },
      "source": [
        "print(attack)"
      ],
      "execution_count": null,
      "outputs": [
        {
          "output_type": "stream",
          "text": [
            "Attack(\n",
            "  (search_method): GreedySearch\n",
            "  (goal_function):  UntargetedClassification\n",
            "  (transformation):  Swapper__\n",
            "  (constraints): \n",
            "    (0): RepeatModification\n",
            "    (1): StopwordModification\n",
            "  (is_black_box):  True\n",
            ")\n"
          ],
          "name": "stdout"
        }
      ]
    },
    {
      "cell_type": "code",
      "metadata": {
        "id": "cpWQXGpDN1SB",
        "colab": {
          "base_uri": "https://localhost:8080/",
          "height": 1000
        },
        "outputId": "fd76ade5-a312-4c0a-950c-1a92322c8f2e"
      },
      "source": [
        "attack_stats(attack, dataset, 25)"
      ],
      "execution_count": null,
      "outputs": [
        {
          "output_type": "stream",
          "text": [
            "\r  0%|          | 0/25 [00:00<?, ?it/s]"
          ],
          "name": "stderr"
        },
        {
          "output_type": "stream",
          "text": [
            "Attack(\n",
            "  (search_method): GreedySearch\n",
            "  (goal_function):  UntargetedClassification\n",
            "  (transformation):  Swapper__\n",
            "  (constraints): \n",
            "    (0): RepeatModification\n",
            "    (1): StopwordModification\n",
            "  (is_black_box):  True\n",
            ")\n"
          ],
          "name": "stdout"
        },
        {
          "output_type": "display_data",
          "data": {
            "text/html": [
              "<font color = red>Not_duplicate (100%)</font> --> <font color = red>[FAILED]</font><br><font color = bold><font color = underline>Question1</font></font>: Why are African-Americans so beautiful?\n",
              "<font color = bold><font color = underline>Question2</font></font>: Why are hispanics so beautiful?"
            ],
            "text/plain": [
              "<IPython.core.display.HTML object>"
            ]
          },
          "metadata": {
            "tags": []
          }
        },
        {
          "output_type": "stream",
          "text": [
            "[Succeeded / Failed / Total] 0 / 1 / 1:   4%|▍         | 1/25 [00:00<00:12,  1.97it/s]"
          ],
          "name": "stderr"
        },
        {
          "output_type": "display_data",
          "data": {
            "text/html": [
              "<font color = red>Not_duplicate (100%)</font> --> <font color = red>[FAILED]</font><br><font color = bold><font color = underline>Question1</font></font>: I want to pursue PhD in Computer Science about social network,what is the open problem in social networks?\n",
              "<font color = bold><font color = underline>Question2</font></font>: I handle social media for a non-profit. Should I start going to social media networking events? Are there any good ones in the bay area?"
            ],
            "text/plain": [
              "<IPython.core.display.HTML object>"
            ]
          },
          "metadata": {
            "tags": []
          }
        },
        {
          "output_type": "stream",
          "text": [
            "[Succeeded / Failed / Total] 0 / 2 / 2:   8%|▊         | 2/25 [00:17<03:16,  8.55s/it]"
          ],
          "name": "stderr"
        },
        {
          "output_type": "display_data",
          "data": {
            "text/html": [
              "<font color = green>Duplicate (97%)</font> --> <font color = red>Not_duplicate (100%)</font><br><font color = bold><font color = underline>Question1</font></font>: Is there a reason why we should travel <font color = green>alone</font>?\n",
              "<font color = bold><font color = underline>Question2</font></font>: What are some reasons to travel alone?<br><font color = bold><font color = underline>Question1</font></font>: Is there a reason why we should travel <font color = red>kukulcan</font>?\n",
              "<font color = bold><font color = underline>Question2</font></font>: What are some reasons to travel alone?"
            ],
            "text/plain": [
              "<IPython.core.display.HTML object>"
            ]
          },
          "metadata": {
            "tags": []
          }
        },
        {
          "output_type": "stream",
          "text": [
            "[Succeeded / Failed / Total] 1 / 2 / 3:  12%|█▏        | 3/25 [00:17<02:08,  5.86s/it]"
          ],
          "name": "stderr"
        },
        {
          "output_type": "display_data",
          "data": {
            "text/html": [
              "<font color = red>Not_duplicate (100%)</font> --> <font color = red>[FAILED]</font><br><font color = bold><font color = underline>Question1</font></font>: Why are people so obsessed with having a girlfriend/boyfriend?\n",
              "<font color = bold><font color = underline>Question2</font></font>: How can a single male have a child?"
            ],
            "text/plain": [
              "<IPython.core.display.HTML object>"
            ]
          },
          "metadata": {
            "tags": []
          }
        },
        {
          "output_type": "stream",
          "text": [
            "[Succeeded / Failed / Total] 1 / 3 / 4:  16%|█▌        | 4/25 [00:19<01:43,  4.93s/it]"
          ],
          "name": "stderr"
        },
        {
          "output_type": "display_data",
          "data": {
            "text/html": [
              "<font color = red>Not_duplicate (94%)</font> --> <font color = green>Duplicate (50%)</font><br><font color = bold><font color = underline>Question1</font></font>: What are some good <font color = red>baby</font> girl names starting with D?\n",
              "<font color = bold><font color = underline>Question2</font></font>: What are some good baby girl names <font color = red>starting</font> with D or H?<br><font color = bold><font color = underline>Question1</font></font>: What are some good <font color = green>dear</font> girl names starting with D?\n",
              "<font color = bold><font color = underline>Question2</font></font>: What are some good baby girl names <font color = green>bedard</font> with D or H?"
            ],
            "text/plain": [
              "<IPython.core.display.HTML object>"
            ]
          },
          "metadata": {
            "tags": []
          }
        },
        {
          "output_type": "stream",
          "text": [
            "[Succeeded / Failed / Total] 2 / 3 / 5:  20%|██        | 5/25 [00:21<01:24,  4.22s/it]"
          ],
          "name": "stderr"
        },
        {
          "output_type": "display_data",
          "data": {
            "text/html": [
              "<font color = green>Duplicate (99%)</font> --> <font color = red>Not_duplicate (96%)</font><br><font color = bold><font color = underline>Question1</font></font>: I am 25 year old guy and <font color = green>never</font> had a <font color = green>girlfriend</font>. Is this weird?\n",
              "<font color = bold><font color = underline>Question2</font></font>: I am 25 years old. I have never had a girlfriend. Is something wrong with me?<br><font color = bold><font color = underline>Question1</font></font>: I am 25 year old guy and <font color = red>actually</font> had a <font color = red>boyfriend</font>. Is this weird?\n",
              "<font color = bold><font color = underline>Question2</font></font>: I am 25 years old. I have never had a girlfriend. Is something wrong with me?"
            ],
            "text/plain": [
              "<IPython.core.display.HTML object>"
            ]
          },
          "metadata": {
            "tags": []
          }
        },
        {
          "output_type": "stream",
          "text": [
            "[Succeeded / Failed / Total] 3 / 3 / 6:  24%|██▍       | 6/25 [00:22<01:11,  3.79s/it]"
          ],
          "name": "stderr"
        },
        {
          "output_type": "display_data",
          "data": {
            "text/html": [
              "<font color = red>Not_duplicate (92%)</font> --> <font color = gray>[SKIPPED]</font><br><font color = bold><font color = underline>Question1</font></font>: \"What does a good answer on Quora look like? What does it mean to \"\"be helpful\"\"?\"\n",
              "<font color = bold><font color = underline>Question2</font></font>: How do you write a good answer on Quora?"
            ],
            "text/plain": [
              "<IPython.core.display.HTML object>"
            ]
          },
          "metadata": {
            "tags": []
          }
        },
        {
          "output_type": "stream",
          "text": [
            "\r[Succeeded / Failed / Total] 3 / 3 / 7:  28%|██▊       | 7/25 [00:22<00:58,  3.25s/it]"
          ],
          "name": "stderr"
        },
        {
          "output_type": "display_data",
          "data": {
            "text/html": [
              "<font color = green>Duplicate (54%)</font> --> <font color = red>Not_duplicate (100%)</font><br><font color = bold><font color = underline>Question1</font></font>: What are the best things to do in Hong Kong?\n",
              "<font color = bold><font color = underline>Question2</font></font>: What is the <font color = green>best</font> thing in Hong Kong?<br><font color = bold><font color = underline>Question1</font></font>: What are the best things to do in Hong Kong?\n",
              "<font color = bold><font color = underline>Question2</font></font>: What is the <font color = red>rnb</font> thing in Hong Kong?"
            ],
            "text/plain": [
              "<IPython.core.display.HTML object>"
            ]
          },
          "metadata": {
            "tags": []
          }
        },
        {
          "output_type": "stream",
          "text": [
            "[Succeeded / Failed / Total] 4 / 3 / 8:  32%|███▏      | 8/25 [00:23<00:49,  2.89s/it]"
          ],
          "name": "stderr"
        },
        {
          "output_type": "display_data",
          "data": {
            "text/html": [
              "<font color = green>Duplicate (84%)</font> --> <font color = gray>[SKIPPED]</font><br><font color = bold><font color = underline>Question1</font></font>: Why is my life getting so complicated?\n",
              "<font color = bold><font color = underline>Question2</font></font>: Why is my life so complicated?"
            ],
            "text/plain": [
              "<IPython.core.display.HTML object>"
            ]
          },
          "metadata": {
            "tags": []
          }
        },
        {
          "output_type": "stream",
          "text": [
            "\r[Succeeded / Failed / Total] 4 / 3 / 9:  36%|███▌      | 9/25 [00:23<00:41,  2.57s/it]"
          ],
          "name": "stderr"
        },
        {
          "output_type": "display_data",
          "data": {
            "text/html": [
              "<font color = red>Not_duplicate (100%)</font> --> <font color = red>[FAILED]</font><br><font color = bold><font color = underline>Question1</font></font>: Why should I crack Jee?\n",
              "<font color = bold><font color = underline>Question2</font></font>: Is it possible to get into IIMs with low marks in graduation and 12th?"
            ],
            "text/plain": [
              "<IPython.core.display.HTML object>"
            ]
          },
          "metadata": {
            "tags": []
          }
        },
        {
          "output_type": "stream",
          "text": [
            "[Succeeded / Failed / Total] 4 / 4 / 10:  40%|████      | 10/25 [00:24<00:37,  2.47s/it]"
          ],
          "name": "stderr"
        },
        {
          "output_type": "display_data",
          "data": {
            "text/html": [
              "<font color = red>Not_duplicate (100%)</font> --> <font color = red>[FAILED]</font><br><font color = bold><font color = underline>Question1</font></font>: Can you TRANSLATE these to English language?\n",
              "<font color = bold><font color = underline>Question2</font></font>: Can you translate this from Bengali to English language?"
            ],
            "text/plain": [
              "<IPython.core.display.HTML object>"
            ]
          },
          "metadata": {
            "tags": []
          }
        },
        {
          "output_type": "stream",
          "text": [
            "\r[Succeeded / Failed / Total] 4 / 5 / 11:  44%|████▍     | 11/25 [00:25<00:32,  2.29s/it]"
          ],
          "name": "stderr"
        },
        {
          "output_type": "display_data",
          "data": {
            "text/html": [
              "<font color = red>Not_duplicate (100%)</font> --> <font color = red>[FAILED]</font><br><font color = bold><font color = underline>Question1</font></font>: Can anyone tell shall mi mix mobile should be purchased or not?\n",
              "<font color = bold><font color = underline>Question2</font></font>: \"What did Voltaire mean when he said, \"\"God is a comedian playing to an audience that is too afraid to laugh\"\"?\""
            ],
            "text/plain": [
              "<IPython.core.display.HTML object>"
            ]
          },
          "metadata": {
            "tags": []
          }
        },
        {
          "output_type": "stream",
          "text": [
            "[Succeeded / Failed / Total] 4 / 6 / 12:  48%|████▊     | 12/25 [00:32<00:35,  2.74s/it]"
          ],
          "name": "stderr"
        },
        {
          "output_type": "display_data",
          "data": {
            "text/html": [
              "<font color = green>Duplicate (100%)</font> --> <font color = red>Not_duplicate (99%)</font><br><font color = bold><font color = underline>Question1</font></font>: Which is the <font color = green>best</font> gaming laptop under 40k?\n",
              "<font color = bold><font color = underline>Question2</font></font>: Which is the best gaming laptop under 40,000 rs?<br><font color = bold><font color = underline>Question1</font></font>: Which is the <font color = red>rnb</font> gaming laptop under 40k?\n",
              "<font color = bold><font color = underline>Question2</font></font>: Which is the best gaming laptop under 40,000 rs?"
            ],
            "text/plain": [
              "<IPython.core.display.HTML object>"
            ]
          },
          "metadata": {
            "tags": []
          }
        },
        {
          "output_type": "stream",
          "text": [
            "\r[Succeeded / Failed / Total] 5 / 6 / 13:  52%|█████▏    | 13/25 [00:33<00:30,  2.57s/it]"
          ],
          "name": "stderr"
        },
        {
          "output_type": "display_data",
          "data": {
            "text/html": [
              "<font color = red>Not_duplicate (100%)</font> --> <font color = red>[FAILED]</font><br><font color = bold><font color = underline>Question1</font></font>: Why Tamil Nadu Universities are no good?\n",
              "<font color = bold><font color = underline>Question2</font></font>: Why are the 10th students able to score 100% in Tamil Nadu?"
            ],
            "text/plain": [
              "<IPython.core.display.HTML object>"
            ]
          },
          "metadata": {
            "tags": []
          }
        },
        {
          "output_type": "stream",
          "text": [
            "[Succeeded / Failed / Total] 5 / 7 / 14:  56%|█████▌    | 14/25 [00:34<00:26,  2.45s/it]"
          ],
          "name": "stderr"
        },
        {
          "output_type": "display_data",
          "data": {
            "text/html": [
              "<font color = red>Not_duplicate (100%)</font> --> <font color = red>[FAILED]</font><br><font color = bold><font color = underline>Question1</font></font>: What is an easy way to clean toothpaste stains from a shirt without washing it?\n",
              "<font color = bold><font color = underline>Question2</font></font>: What are some ways to remove hard water stains from dishes?"
            ],
            "text/plain": [
              "<IPython.core.display.HTML object>"
            ]
          },
          "metadata": {
            "tags": []
          }
        },
        {
          "output_type": "stream",
          "text": [
            "\r[Succeeded / Failed / Total] 5 / 8 / 15:  60%|██████    | 15/25 [00:41<00:27,  2.78s/it]"
          ],
          "name": "stderr"
        },
        {
          "output_type": "display_data",
          "data": {
            "text/html": [
              "<font color = green>Duplicate (96%)</font> --> <font color = red>Not_duplicate (100%)</font><br><font color = bold><font color = underline>Question1</font></font>: What was the deadliest battle in history?\n",
              "<font color = bold><font color = underline>Question2</font></font>: What was the bloodiest battle in <font color = green>history</font>?<br><font color = bold><font color = underline>Question1</font></font>: What was the deadliest battle in history?\n",
              "<font color = bold><font color = underline>Question2</font></font>: What was the bloodiest battle in <font color = red>cmessier</font>?"
            ],
            "text/plain": [
              "<IPython.core.display.HTML object>"
            ]
          },
          "metadata": {
            "tags": []
          }
        },
        {
          "output_type": "stream",
          "text": [
            "[Succeeded / Failed / Total] 6 / 8 / 16:  64%|██████▍   | 16/25 [00:42<00:23,  2.64s/it]"
          ],
          "name": "stderr"
        },
        {
          "output_type": "display_data",
          "data": {
            "text/html": [
              "<font color = green>Duplicate (99%)</font> --> <font color = red>Not_duplicate (100%)</font><br><font color = bold><font color = underline>Question1</font></font>: What are your views about demonetisation in India?\n",
              "<font color = bold><font color = underline>Question2</font></font>: What do you think about the <font color = green>ban</font> on 500 and 1000 denomination notes in India?<br><font color = bold><font color = underline>Question1</font></font>: What are your views about demonetisation in India?\n",
              "<font color = bold><font color = underline>Question2</font></font>: What do you think about the <font color = red>ozone</font> on 500 and 1000 denomination notes in India?"
            ],
            "text/plain": [
              "<IPython.core.display.HTML object>"
            ]
          },
          "metadata": {
            "tags": []
          }
        },
        {
          "output_type": "stream",
          "text": [
            "\r[Succeeded / Failed / Total] 7 / 8 / 17:  68%|██████▊   | 17/25 [00:42<00:20,  2.51s/it]"
          ],
          "name": "stderr"
        },
        {
          "output_type": "display_data",
          "data": {
            "text/html": [
              "<font color = red>Not_duplicate (100%)</font> --> <font color = red>[FAILED]</font><br><font color = bold><font color = underline>Question1</font></font>: What are the difference between polyester 210T and 210D?\n",
              "<font color = bold><font color = underline>Question2</font></font>: What is the difference between cotton and polyester?"
            ],
            "text/plain": [
              "<IPython.core.display.HTML object>"
            ]
          },
          "metadata": {
            "tags": []
          }
        },
        {
          "output_type": "stream",
          "text": [
            "[Succeeded / Failed / Total] 7 / 9 / 18:  72%|███████▏  | 18/25 [00:43<00:17,  2.43s/it]"
          ],
          "name": "stderr"
        },
        {
          "output_type": "display_data",
          "data": {
            "text/html": [
              "<font color = red>Not_duplicate (99%)</font> --> <font color = red>[FAILED]</font><br><font color = bold><font color = underline>Question1</font></font>: Is FMS Delhi a good option for a MBA executive program?\n",
              "<font color = bold><font color = underline>Question2</font></font>: Is FMS a good choice for an MBA in HR? Why and why not?"
            ],
            "text/plain": [
              "<IPython.core.display.HTML object>"
            ]
          },
          "metadata": {
            "tags": []
          }
        },
        {
          "output_type": "stream",
          "text": [
            "\r[Succeeded / Failed / Total] 7 / 10 / 19:  76%|███████▌  | 19/25 [00:45<00:14,  2.39s/it]"
          ],
          "name": "stderr"
        },
        {
          "output_type": "display_data",
          "data": {
            "text/html": [
              "<font color = green>Duplicate (91%)</font> --> <font color = red>Not_duplicate (99%)</font><br><font color = bold><font color = underline>Question1</font></font>: Is it a bad time to buy a condo or a house in the Bay Area in 2017?\n",
              "<font color = bold><font color = underline>Question2</font></font>: Would 2017 be a good time to buy a <font color = green>house</font> in Bay Area?<br><font color = bold><font color = underline>Question1</font></font>: Is it a bad time to buy a condo or a house in the Bay Area in 2017?\n",
              "<font color = bold><font color = underline>Question2</font></font>: Would 2017 be a good time to buy a <font color = red>ajidica</font> in Bay Area?"
            ],
            "text/plain": [
              "<IPython.core.display.HTML object>"
            ]
          },
          "metadata": {
            "tags": []
          }
        },
        {
          "output_type": "stream",
          "text": [
            "[Succeeded / Failed / Total] 8 / 10 / 20:  80%|████████  | 20/25 [00:46<00:11,  2.30s/it]"
          ],
          "name": "stderr"
        },
        {
          "output_type": "display_data",
          "data": {
            "text/html": [
              "<font color = red>Not_duplicate (100%)</font> --> <font color = green>Duplicate (54%)</font><br><font color = bold><font color = underline>Question1</font></font>: How is vanilla <font color = red>extract</font> made?\n",
              "<font color = bold><font color = underline>Question2</font></font>: How do you make sugar cookies <font color = red>without</font> vanilla <font color = red>extract</font>?<br><font color = bold><font color = underline>Question1</font></font>: How is vanilla <font color = green>retrieve</font> made?\n",
              "<font color = bold><font color = underline>Question2</font></font>: How do you make sugar cookies <font color = green>any</font> vanilla <font color = green>retrieve</font>?"
            ],
            "text/plain": [
              "<IPython.core.display.HTML object>"
            ]
          },
          "metadata": {
            "tags": []
          }
        },
        {
          "output_type": "stream",
          "text": [
            "\r[Succeeded / Failed / Total] 9 / 10 / 21:  84%|████████▍ | 21/25 [00:47<00:09,  2.27s/it]"
          ],
          "name": "stderr"
        },
        {
          "output_type": "display_data",
          "data": {
            "text/html": [
              "<font color = green>Duplicate (100%)</font> --> <font color = red>[FAILED]</font><br><font color = bold><font color = underline>Question1</font></font>: What is the Sahara, and how do the average temperatures there compare to the ones in the Patagonian Desert?\n",
              "<font color = bold><font color = underline>Question2</font></font>: What is the Sahara, and how do the average temperatures there compare to the ones in the Registan Desert?"
            ],
            "text/plain": [
              "<IPython.core.display.HTML object>"
            ]
          },
          "metadata": {
            "tags": []
          }
        },
        {
          "output_type": "stream",
          "text": [
            "[Succeeded / Failed / Total] 9 / 11 / 22:  88%|████████▊ | 22/25 [00:50<00:06,  2.29s/it]"
          ],
          "name": "stderr"
        },
        {
          "output_type": "display_data",
          "data": {
            "text/html": [
              "<font color = red>Not_duplicate (100%)</font> --> <font color = red>[FAILED]</font><br><font color = bold><font color = underline>Question1</font></font>: Why was the Roman Empire so successful?\n",
              "<font color = bold><font color = underline>Question2</font></font>: What are some of the rarely known facts about the Roman Empire?"
            ],
            "text/plain": [
              "<IPython.core.display.HTML object>"
            ]
          },
          "metadata": {
            "tags": []
          }
        },
        {
          "output_type": "stream",
          "text": [
            "\r[Succeeded / Failed / Total] 9 / 12 / 23:  92%|█████████▏| 23/25 [00:51<00:04,  2.22s/it]"
          ],
          "name": "stderr"
        },
        {
          "output_type": "display_data",
          "data": {
            "text/html": [
              "<font color = red>Not_duplicate (100%)</font> --> <font color = red>[FAILED]</font><br><font color = bold><font color = underline>Question1</font></font>: Is it advisable to sent your cv to a professor with whom you are trying to make contact for graduate admission?\n",
              "<font color = bold><font color = underline>Question2</font></font>: How does contacting a professor before applying factor into graduate admissions?"
            ],
            "text/plain": [
              "<IPython.core.display.HTML object>"
            ]
          },
          "metadata": {
            "tags": []
          }
        },
        {
          "output_type": "stream",
          "text": [
            "[Succeeded / Failed / Total] 9 / 13 / 24:  96%|█████████▌| 24/25 [01:00<00:02,  2.50s/it]"
          ],
          "name": "stderr"
        },
        {
          "output_type": "display_data",
          "data": {
            "text/html": [
              "<font color = red>Not_duplicate (100%)</font> --> <font color = red>[FAILED]</font><br><font color = bold><font color = underline>Question1</font></font>: Does a RainTPL syntax extension for Sublime Text exist? Where can I download it?\n",
              "<font color = bold><font color = underline>Question2</font></font>: How do I hide the find/replace bar in Sublime Text 2?"
            ],
            "text/plain": [
              "<IPython.core.display.HTML object>"
            ]
          },
          "metadata": {
            "tags": []
          }
        },
        {
          "output_type": "stream",
          "text": [
            "\r[Succeeded / Failed / Total] 9 / 14 / 25: 100%|██████████| 25/25 [01:02<00:00,  2.51s/it]"
          ],
          "name": "stderr"
        },
        {
          "output_type": "display_data",
          "data": {
            "text/html": [
              "<font color = red>Not_duplicate (100%)</font> --> <font color = red>[FAILED]</font><br><font color = bold><font color = underline>Question1</font></font>: What is the average salary of a microbiologist in India?\n",
              "<font color = bold><font color = underline>Question2</font></font>: What is the salary for a psychologist in india?"
            ],
            "text/plain": [
              "<IPython.core.display.HTML object>"
            ]
          },
          "metadata": {
            "tags": []
          }
        },
        {
          "output_type": "stream",
          "text": [
            "[Succeeded / Failed / Total] 9 / 15 / 26: : 26it [01:04,  2.47s/it]"
          ],
          "name": "stderr"
        },
        {
          "output_type": "display_data",
          "data": {
            "text/html": [
              "<font color = red>Not_duplicate (88%)</font> --> <font color = green>Duplicate (75%)</font><br><font color = bold><font color = underline>Question1</font></font>: How do you close a Bank of America account?\n",
              "<font color = bold><font color = underline>Question2</font></font>: How can one close a bank account <font color = red>online</font>?<br><font color = bold><font color = underline>Question1</font></font>: How do you close a Bank of America account?\n",
              "<font color = bold><font color = underline>Question2</font></font>: How can one close a bank account <font color = green>fertfriend</font>?"
            ],
            "text/plain": [
              "<IPython.core.display.HTML object>"
            ]
          },
          "metadata": {
            "tags": []
          }
        },
        {
          "output_type": "stream",
          "text": [
            "[Succeeded / Failed / Total] 10 / 15 / 27: : 27it [01:04,  2.40s/it]"
          ],
          "name": "stderr"
        },
        {
          "output_type": "stream",
          "text": [
            "+-------------------------------+--------+\n",
            "| Attack Results                |        |\n",
            "+-------------------------------+--------+\n",
            "| Number of successful attacks: | 10     |\n",
            "| Number of failed attacks:     | 15     |\n",
            "| Number of skipped attacks:    | 2      |\n",
            "| Original accuracy:            | 92.59% |\n",
            "| Accuracy under attack:        | 55.56% |\n",
            "| Attack success rate:          | 40.0%  |\n",
            "| Average perturbed word %:     | 7.51%  |\n",
            "| Average num. words per input: | 22.3   |\n",
            "| Avg num queries:              | 36.24  |\n",
            "+-------------------------------+--------+"
          ],
          "name": "stdout"
        },
        {
          "output_type": "stream",
          "text": [
            "\n",
            "\u001b[34;1mtextattack\u001b[0m: Attack time: 64.85688376426697s\n"
          ],
          "name": "stderr"
        }
      ]
    },
    {
      "cell_type": "markdown",
      "metadata": {
        "id": "6Q2O4pIYtHCH"
      },
      "source": [
        "### FastText, GreedyWordSwapWIR, RepeatModification, StopwordModification"
      ]
    },
    {
      "cell_type": "code",
      "metadata": {
        "id": "GKzdReqjl3GW",
        "colab": {
          "base_uri": "https://localhost:8080/"
        },
        "outputId": "bd8fdc38-3a35-4e0f-9e7d-79f5d8a02428"
      },
      "source": [
        "# We're going to use our word swap class as the attack transformation.\n",
        "transformation = Swapper()\n",
        "\n",
        "constraints = [RepeatModification(),\n",
        "               StopwordModification()]\n",
        "\n",
        "search_method = GreedyWordSwapWIR()\n",
        "\n",
        "goal_function = UntargetedClassification(model_wrapper)\n",
        "\n",
        "# Now, let's make the attack from the 4 components:\n",
        "attack = Attack(goal_function, constraints, transformation, search_method)"
      ],
      "execution_count": null,
      "outputs": [
        {
          "output_type": "stream",
          "text": [
            "\u001b[34;1mtextattack\u001b[0m: Unknown if model of class <class 'transformers.models.bert.modeling_bert.BertForSequenceClassification'> compatible with goal function <class 'textattack.goal_functions.classification.untargeted_classification.UntargetedClassification'>.\n"
          ],
          "name": "stderr"
        }
      ]
    },
    {
      "cell_type": "code",
      "metadata": {
        "id": "pSqav791mqYf",
        "colab": {
          "base_uri": "https://localhost:8080/"
        },
        "outputId": "7de846d4-e308-481b-9740-658e9befd9f7"
      },
      "source": [
        "print(attack)"
      ],
      "execution_count": null,
      "outputs": [
        {
          "output_type": "stream",
          "text": [
            "Attack(\n",
            "  (search_method): GreedyWordSwapWIR(\n",
            "    (wir_method):  unk\n",
            "  )\n",
            "  (goal_function):  UntargetedClassification\n",
            "  (transformation):  Swapper\n",
            "  (constraints): \n",
            "    (0): RepeatModification\n",
            "    (1): StopwordModification\n",
            "  (is_black_box):  True\n",
            ")\n"
          ],
          "name": "stdout"
        }
      ]
    },
    {
      "cell_type": "code",
      "metadata": {
        "id": "7u4kS3Mjmxkf",
        "colab": {
          "base_uri": "https://localhost:8080/",
          "height": 1000
        },
        "outputId": "ad57f661-e3d1-4e12-d4a1-c8a93a80646b"
      },
      "source": [
        "attack_stats(attack, dataset, 25)"
      ],
      "execution_count": null,
      "outputs": [
        {
          "output_type": "stream",
          "text": [
            "\r  0%|          | 0/25 [00:00<?, ?it/s]"
          ],
          "name": "stderr"
        },
        {
          "output_type": "stream",
          "text": [
            "Attack(\n",
            "  (search_method): GreedyWordSwapWIR(\n",
            "    (wir_method):  unk\n",
            "  )\n",
            "  (goal_function):  UntargetedClassification\n",
            "  (transformation):  Swapper\n",
            "  (constraints): \n",
            "    (0): RepeatModification\n",
            "    (1): StopwordModification\n",
            "  (is_black_box):  True\n",
            ")\n"
          ],
          "name": "stdout"
        },
        {
          "output_type": "display_data",
          "data": {
            "text/html": [
              "<font color = red>Not_duplicate (100%)</font> --> <font color = red>[FAILED]</font><br><font color = bold><font color = underline>Question1</font></font>: Why are African-Americans so beautiful?\n",
              "<font color = bold><font color = underline>Question2</font></font>: Why are hispanics so beautiful?"
            ],
            "text/plain": [
              "<IPython.core.display.HTML object>"
            ]
          },
          "metadata": {
            "tags": []
          }
        },
        {
          "output_type": "stream",
          "text": [
            "[Succeeded / Failed / Total] 0 / 1 / 1:   4%|▍         | 1/25 [00:00<00:17,  1.34it/s]"
          ],
          "name": "stderr"
        },
        {
          "output_type": "display_data",
          "data": {
            "text/html": [
              "<font color = red>Not_duplicate (100%)</font> --> <font color = red>[FAILED]</font><br><font color = bold><font color = underline>Question1</font></font>: I want to pursue PhD in Computer Science about social network,what is the open problem in social networks?\n",
              "<font color = bold><font color = underline>Question2</font></font>: I handle social media for a non-profit. Should I start going to social media networking events? Are there any good ones in the bay area?"
            ],
            "text/plain": [
              "<IPython.core.display.HTML object>"
            ]
          },
          "metadata": {
            "tags": []
          }
        },
        {
          "output_type": "stream",
          "text": [
            "[Succeeded / Failed / Total] 0 / 2 / 2:   8%|▊         | 2/25 [00:04<00:48,  2.09s/it]"
          ],
          "name": "stderr"
        },
        {
          "output_type": "display_data",
          "data": {
            "text/html": [
              "<font color = green>Duplicate (97%)</font> --> <font color = red>Not_duplicate (93%)</font><br><font color = bold><font color = underline>Question1</font></font>: Is there a reason why we should <font color = green>travel</font> <font color = green>alone</font>?\n",
              "<font color = bold><font color = underline>Question2</font></font>: What are some reasons to travel alone?<br><font color = bold><font color = underline>Question1</font></font>: Is there a reason why we should <font color = red>travelling</font> <font color = red>someone</font>?\n",
              "<font color = bold><font color = underline>Question2</font></font>: What are some reasons to travel alone?"
            ],
            "text/plain": [
              "<IPython.core.display.HTML object>"
            ]
          },
          "metadata": {
            "tags": []
          }
        },
        {
          "output_type": "stream",
          "text": [
            "[Succeeded / Failed / Total] 1 / 2 / 3:  12%|█▏        | 3/25 [00:04<00:35,  1.63s/it]"
          ],
          "name": "stderr"
        },
        {
          "output_type": "display_data",
          "data": {
            "text/html": [
              "<font color = red>Not_duplicate (100%)</font> --> <font color = red>[FAILED]</font><br><font color = bold><font color = underline>Question1</font></font>: Why are people so obsessed with having a girlfriend/boyfriend?\n",
              "<font color = bold><font color = underline>Question2</font></font>: How can a single male have a child?"
            ],
            "text/plain": [
              "<IPython.core.display.HTML object>"
            ]
          },
          "metadata": {
            "tags": []
          }
        },
        {
          "output_type": "stream",
          "text": [
            "[Succeeded / Failed / Total] 1 / 3 / 4:  16%|█▌        | 4/25 [00:06<00:32,  1.54s/it]"
          ],
          "name": "stderr"
        },
        {
          "output_type": "display_data",
          "data": {
            "text/html": [
              "<font color = red>Not_duplicate (94%)</font> --> <font color = green>Duplicate (78%)</font><br><font color = bold><font color = underline>Question1</font></font>: <font color = red>What</font> are some good baby girl <font color = red>names</font> starting with D?\n",
              "<font color = bold><font color = underline>Question2</font></font>: What are some good baby girl <font color = red>names</font> <font color = red>starting</font> with D or <font color = red>H</font>?<br><font color = bold><font color = underline>Question1</font></font>: <font color = green>Hihat</font> are some good baby girl <font color = green>name</font> starting with D?\n",
              "<font color = bold><font color = underline>Question2</font></font>: What are some good baby girl <font color = green>name</font> <font color = green>farting</font> with D or <font color = green>QUE</font>?"
            ],
            "text/plain": [
              "<IPython.core.display.HTML object>"
            ]
          },
          "metadata": {
            "tags": []
          }
        },
        {
          "output_type": "stream",
          "text": [
            "[Succeeded / Failed / Total] 2 / 3 / 5:  20%|██        | 5/25 [00:07<00:29,  1.46s/it]"
          ],
          "name": "stderr"
        },
        {
          "output_type": "display_data",
          "data": {
            "text/html": [
              "<font color = green>Duplicate (99%)</font> --> <font color = red>Not_duplicate (100%)</font><br><font color = bold><font color = underline>Question1</font></font>: I am <font color = green>25</font> year old guy and <font color = green>never</font> had a <font color = green>girlfriend</font>. Is this weird?\n",
              "<font color = bold><font color = underline>Question2</font></font>: I am 25 years old. I have never had a girlfriend. Is something wrong with me?<br><font color = bold><font color = underline>Question1</font></font>: I am <font color = red>chmielnicki</font> year old guy and <font color = red>ever</font> had a <font color = red>boyfriend</font>. Is this weird?\n",
              "<font color = bold><font color = underline>Question2</font></font>: I am 25 years old. I have never had a girlfriend. Is something wrong with me?"
            ],
            "text/plain": [
              "<IPython.core.display.HTML object>"
            ]
          },
          "metadata": {
            "tags": []
          }
        },
        {
          "output_type": "stream",
          "text": [
            "[Succeeded / Failed / Total] 3 / 3 / 6:  24%|██▍       | 6/25 [00:08<00:26,  1.41s/it]"
          ],
          "name": "stderr"
        },
        {
          "output_type": "display_data",
          "data": {
            "text/html": [
              "<font color = red>Not_duplicate (92%)</font> --> <font color = gray>[SKIPPED]</font><br><font color = bold><font color = underline>Question1</font></font>: \"What does a good answer on Quora look like? What does it mean to \"\"be helpful\"\"?\"\n",
              "<font color = bold><font color = underline>Question2</font></font>: How do you write a good answer on Quora?"
            ],
            "text/plain": [
              "<IPython.core.display.HTML object>"
            ]
          },
          "metadata": {
            "tags": []
          }
        },
        {
          "output_type": "stream",
          "text": [
            "\r[Succeeded / Failed / Total] 3 / 3 / 7:  28%|██▊       | 7/25 [00:08<00:21,  1.22s/it]"
          ],
          "name": "stderr"
        },
        {
          "output_type": "display_data",
          "data": {
            "text/html": [
              "<font color = green>Duplicate (54%)</font> --> <font color = red>Not_duplicate (89%)</font><br><font color = bold><font color = underline>Question1</font></font>: What are the best things to do in Hong Kong?\n",
              "<font color = bold><font color = underline>Question2</font></font>: What is the <font color = green>best</font> thing in Hong Kong?<br><font color = bold><font color = underline>Question1</font></font>: What are the best things to do in Hong Kong?\n",
              "<font color = bold><font color = underline>Question2</font></font>: What is the <font color = red>finest</font> thing in Hong Kong?"
            ],
            "text/plain": [
              "<IPython.core.display.HTML object>"
            ]
          },
          "metadata": {
            "tags": []
          }
        },
        {
          "output_type": "stream",
          "text": [
            "[Succeeded / Failed / Total] 4 / 3 / 8:  32%|███▏      | 8/25 [00:09<00:19,  1.16s/it]"
          ],
          "name": "stderr"
        },
        {
          "output_type": "display_data",
          "data": {
            "text/html": [
              "<font color = green>Duplicate (84%)</font> --> <font color = gray>[SKIPPED]</font><br><font color = bold><font color = underline>Question1</font></font>: Why is my life getting so complicated?\n",
              "<font color = bold><font color = underline>Question2</font></font>: Why is my life so complicated?"
            ],
            "text/plain": [
              "<IPython.core.display.HTML object>"
            ]
          },
          "metadata": {
            "tags": []
          }
        },
        {
          "output_type": "stream",
          "text": [
            "\r[Succeeded / Failed / Total] 4 / 3 / 9:  36%|███▌      | 9/25 [00:09<00:16,  1.03s/it]"
          ],
          "name": "stderr"
        },
        {
          "output_type": "display_data",
          "data": {
            "text/html": [
              "<font color = red>Not_duplicate (100%)</font> --> <font color = red>[FAILED]</font><br><font color = bold><font color = underline>Question1</font></font>: Why should I crack Jee?\n",
              "<font color = bold><font color = underline>Question2</font></font>: Is it possible to get into IIMs with low marks in graduation and 12th?"
            ],
            "text/plain": [
              "<IPython.core.display.HTML object>"
            ]
          },
          "metadata": {
            "tags": []
          }
        },
        {
          "output_type": "stream",
          "text": [
            "[Succeeded / Failed / Total] 4 / 4 / 10:  40%|████      | 10/25 [00:10<00:16,  1.07s/it]"
          ],
          "name": "stderr"
        },
        {
          "output_type": "display_data",
          "data": {
            "text/html": [
              "<font color = red>Not_duplicate (100%)</font> --> <font color = red>[FAILED]</font><br><font color = bold><font color = underline>Question1</font></font>: Can you TRANSLATE these to English language?\n",
              "<font color = bold><font color = underline>Question2</font></font>: Can you translate this from Bengali to English language?"
            ],
            "text/plain": [
              "<IPython.core.display.HTML object>"
            ]
          },
          "metadata": {
            "tags": []
          }
        },
        {
          "output_type": "stream",
          "text": [
            "\r[Succeeded / Failed / Total] 4 / 5 / 11:  44%|████▍     | 11/25 [00:11<00:14,  1.07s/it]"
          ],
          "name": "stderr"
        },
        {
          "output_type": "display_data",
          "data": {
            "text/html": [
              "<font color = red>Not_duplicate (100%)</font> --> <font color = red>[FAILED]</font><br><font color = bold><font color = underline>Question1</font></font>: Can anyone tell shall mi mix mobile should be purchased or not?\n",
              "<font color = bold><font color = underline>Question2</font></font>: \"What did Voltaire mean when he said, \"\"God is a comedian playing to an audience that is too afraid to laugh\"\"?\""
            ],
            "text/plain": [
              "<IPython.core.display.HTML object>"
            ]
          },
          "metadata": {
            "tags": []
          }
        },
        {
          "output_type": "stream",
          "text": [
            "[Succeeded / Failed / Total] 4 / 6 / 12:  48%|████▊     | 12/25 [00:13<00:15,  1.16s/it]"
          ],
          "name": "stderr"
        },
        {
          "output_type": "display_data",
          "data": {
            "text/html": [
              "<font color = green>Duplicate (100%)</font> --> <font color = red>Not_duplicate (94%)</font><br><font color = bold><font color = underline>Question1</font></font>: Which is the best gaming <font color = green>laptop</font> under <font color = green>40k</font>?\n",
              "<font color = bold><font color = underline>Question2</font></font>: Which is the best gaming laptop under 40,000 rs?<br><font color = bold><font color = underline>Question1</font></font>: Which is the best gaming <font color = red>motherboard</font> under <font color = red>asexually</font>?\n",
              "<font color = bold><font color = underline>Question2</font></font>: Which is the best gaming laptop under 40,000 rs?"
            ],
            "text/plain": [
              "<IPython.core.display.HTML object>"
            ]
          },
          "metadata": {
            "tags": []
          }
        },
        {
          "output_type": "stream",
          "text": [
            "\r[Succeeded / Failed / Total] 5 / 6 / 13:  52%|█████▏    | 13/25 [00:14<00:13,  1.14s/it]"
          ],
          "name": "stderr"
        },
        {
          "output_type": "display_data",
          "data": {
            "text/html": [
              "<font color = red>Not_duplicate (100%)</font> --> <font color = red>[FAILED]</font><br><font color = bold><font color = underline>Question1</font></font>: Why Tamil Nadu Universities are no good?\n",
              "<font color = bold><font color = underline>Question2</font></font>: Why are the 10th students able to score 100% in Tamil Nadu?"
            ],
            "text/plain": [
              "<IPython.core.display.HTML object>"
            ]
          },
          "metadata": {
            "tags": []
          }
        },
        {
          "output_type": "stream",
          "text": [
            "[Succeeded / Failed / Total] 5 / 7 / 14:  56%|█████▌    | 14/25 [00:16<00:12,  1.17s/it]"
          ],
          "name": "stderr"
        },
        {
          "output_type": "display_data",
          "data": {
            "text/html": [
              "<font color = red>Not_duplicate (100%)</font> --> <font color = red>[FAILED]</font><br><font color = bold><font color = underline>Question1</font></font>: What is an easy way to clean toothpaste stains from a shirt without washing it?\n",
              "<font color = bold><font color = underline>Question2</font></font>: What are some ways to remove hard water stains from dishes?"
            ],
            "text/plain": [
              "<IPython.core.display.HTML object>"
            ]
          },
          "metadata": {
            "tags": []
          }
        },
        {
          "output_type": "stream",
          "text": [
            "\r[Succeeded / Failed / Total] 5 / 8 / 15:  60%|██████    | 15/25 [00:18<00:12,  1.21s/it]"
          ],
          "name": "stderr"
        },
        {
          "output_type": "display_data",
          "data": {
            "text/html": [
              "<font color = green>Duplicate (96%)</font> --> <font color = red>Not_duplicate (94%)</font><br><font color = bold><font color = underline>Question1</font></font>: What was the deadliest <font color = green>battle</font> in history?\n",
              "<font color = bold><font color = underline>Question2</font></font>: What was the bloodiest battle in history?<br><font color = bold><font color = underline>Question1</font></font>: What was the deadliest <font color = red>battlezone</font> in history?\n",
              "<font color = bold><font color = underline>Question2</font></font>: What was the bloodiest battle in history?"
            ],
            "text/plain": [
              "<IPython.core.display.HTML object>"
            ]
          },
          "metadata": {
            "tags": []
          }
        },
        {
          "output_type": "stream",
          "text": [
            "[Succeeded / Failed / Total] 6 / 8 / 16:  64%|██████▍   | 16/25 [00:18<00:10,  1.17s/it]"
          ],
          "name": "stderr"
        },
        {
          "output_type": "display_data",
          "data": {
            "text/html": [
              "<font color = green>Duplicate (99%)</font> --> <font color = red>Not_duplicate (99%)</font><br><font color = bold><font color = underline>Question1</font></font>: What are your views about demonetisation in India?\n",
              "<font color = bold><font color = underline>Question2</font></font>: What do you think about the ban on 500 and 1000 denomination notes in <font color = green>India</font>?<br><font color = bold><font color = underline>Question1</font></font>: What are your views about demonetisation in India?\n",
              "<font color = bold><font color = underline>Question2</font></font>: What do you think about the ban on 500 and 1000 denomination notes in <font color = red>Ndia</font>?"
            ],
            "text/plain": [
              "<IPython.core.display.HTML object>"
            ]
          },
          "metadata": {
            "tags": []
          }
        },
        {
          "output_type": "stream",
          "text": [
            "\r[Succeeded / Failed / Total] 7 / 8 / 17:  68%|██████▊   | 17/25 [00:19<00:09,  1.15s/it]"
          ],
          "name": "stderr"
        },
        {
          "output_type": "display_data",
          "data": {
            "text/html": [
              "<font color = red>Not_duplicate (100%)</font> --> <font color = red>[FAILED]</font><br><font color = bold><font color = underline>Question1</font></font>: What are the difference between polyester 210T and 210D?\n",
              "<font color = bold><font color = underline>Question2</font></font>: What is the difference between cotton and polyester?"
            ],
            "text/plain": [
              "<IPython.core.display.HTML object>"
            ]
          },
          "metadata": {
            "tags": []
          }
        },
        {
          "output_type": "stream",
          "text": [
            "[Succeeded / Failed / Total] 7 / 9 / 18:  72%|███████▏  | 18/25 [00:20<00:08,  1.15s/it]"
          ],
          "name": "stderr"
        },
        {
          "output_type": "display_data",
          "data": {
            "text/html": [
              "<font color = red>Not_duplicate (99%)</font> --> <font color = green>Duplicate (58%)</font><br><font color = bold><font color = underline>Question1</font></font>: <font color = red>Is</font> FMS Delhi a good option for a MBA executive <font color = red>program</font>?\n",
              "<font color = bold><font color = underline>Question2</font></font>: Is FMS a good choice for an MBA in <font color = red>HR</font>? Why and why not?<br><font color = bold><font color = underline>Question1</font></font>: <font color = green>Larva</font> FMS Delhi a good option for a MBA executive <font color = green>prog</font>?\n",
              "<font color = bold><font color = underline>Question2</font></font>: Is FMS a good choice for an MBA in <font color = green>GLORY</font>? Why and why not?"
            ],
            "text/plain": [
              "<IPython.core.display.HTML object>"
            ]
          },
          "metadata": {
            "tags": []
          }
        },
        {
          "output_type": "stream",
          "text": [
            "\r[Succeeded / Failed / Total] 8 / 9 / 19:  76%|███████▌  | 19/25 [00:22<00:06,  1.16s/it]"
          ],
          "name": "stderr"
        },
        {
          "output_type": "display_data",
          "data": {
            "text/html": [
              "<font color = green>Duplicate (91%)</font> --> <font color = red>Not_duplicate (100%)</font><br><font color = bold><font color = underline>Question1</font></font>: Is it a bad time to buy a condo or a house in the <font color = green>Bay</font> Area in <font color = green>2017</font>?\n",
              "<font color = bold><font color = underline>Question2</font></font>: Would 2017 be a good time to buy a house in Bay Area?<br><font color = bold><font color = underline>Question1</font></font>: Is it a bad time to buy a condo or a house in the <font color = red>Yesterday</font> Area in <font color = red>prosecute</font>?\n",
              "<font color = bold><font color = underline>Question2</font></font>: Would 2017 be a good time to buy a house in Bay Area?"
            ],
            "text/plain": [
              "<IPython.core.display.HTML object>"
            ]
          },
          "metadata": {
            "tags": []
          }
        },
        {
          "output_type": "stream",
          "text": [
            "[Succeeded / Failed / Total] 9 / 9 / 20:  80%|████████  | 20/25 [00:23<00:05,  1.16s/it]"
          ],
          "name": "stderr"
        },
        {
          "output_type": "display_data",
          "data": {
            "text/html": [
              "<font color = red>Not_duplicate (100%)</font> --> <font color = red>[FAILED]</font><br><font color = bold><font color = underline>Question1</font></font>: How is vanilla extract made?\n",
              "<font color = bold><font color = underline>Question2</font></font>: How do you make sugar cookies without vanilla extract?"
            ],
            "text/plain": [
              "<IPython.core.display.HTML object>"
            ]
          },
          "metadata": {
            "tags": []
          }
        },
        {
          "output_type": "stream",
          "text": [
            "\r[Succeeded / Failed / Total] 9 / 10 / 21:  84%|████████▍ | 21/25 [00:24<00:04,  1.16s/it]"
          ],
          "name": "stderr"
        },
        {
          "output_type": "display_data",
          "data": {
            "text/html": [
              "<font color = green>Duplicate (100%)</font> --> <font color = red>[FAILED]</font><br><font color = bold><font color = underline>Question1</font></font>: What is the Sahara, and how do the average temperatures there compare to the ones in the Patagonian Desert?\n",
              "<font color = bold><font color = underline>Question2</font></font>: What is the Sahara, and how do the average temperatures there compare to the ones in the Registan Desert?"
            ],
            "text/plain": [
              "<IPython.core.display.HTML object>"
            ]
          },
          "metadata": {
            "tags": []
          }
        },
        {
          "output_type": "stream",
          "text": [
            "[Succeeded / Failed / Total] 9 / 11 / 22:  88%|████████▊ | 22/25 [00:26<00:03,  1.21s/it]"
          ],
          "name": "stderr"
        },
        {
          "output_type": "display_data",
          "data": {
            "text/html": [
              "<font color = red>Not_duplicate (100%)</font> --> <font color = red>[FAILED]</font><br><font color = bold><font color = underline>Question1</font></font>: Why was the Roman Empire so successful?\n",
              "<font color = bold><font color = underline>Question2</font></font>: What are some of the rarely known facts about the Roman Empire?"
            ],
            "text/plain": [
              "<IPython.core.display.HTML object>"
            ]
          },
          "metadata": {
            "tags": []
          }
        },
        {
          "output_type": "stream",
          "text": [
            "\r[Succeeded / Failed / Total] 9 / 12 / 23:  92%|█████████▏| 23/25 [00:27<00:02,  1.21s/it]"
          ],
          "name": "stderr"
        },
        {
          "output_type": "display_data",
          "data": {
            "text/html": [
              "<font color = red>Not_duplicate (100%)</font> --> <font color = green>Duplicate (53%)</font><br><font color = bold><font color = underline>Question1</font></font>: <font color = red>Is</font> it advisable to <font color = red>sent</font> your cv to a professor with whom you are trying to make contact for graduate admission?\n",
              "<font color = bold><font color = underline>Question2</font></font>: <font color = red>How</font> does <font color = red>contacting</font> a professor before applying <font color = red>factor</font> into graduate <font color = red>admissions</font>?<br><font color = bold><font color = underline>Question1</font></font>: <font color = green>Larva</font> it advisable to <font color = green>alerted</font> your cv to a professor with whom you are trying to make contact for graduate admission?\n",
              "<font color = bold><font color = underline>Question2</font></font>: <font color = green>Kowtow</font> does <font color = green>contact</font> a professor before applying <font color = green>inhibitor</font> into graduate <font color = green>admission</font>?"
            ],
            "text/plain": [
              "<IPython.core.display.HTML object>"
            ]
          },
          "metadata": {
            "tags": []
          }
        },
        {
          "output_type": "stream",
          "text": [
            "[Succeeded / Failed / Total] 10 / 12 / 24:  96%|█████████▌| 24/25 [00:29<00:01,  1.24s/it]"
          ],
          "name": "stderr"
        },
        {
          "output_type": "display_data",
          "data": {
            "text/html": [
              "<font color = red>Not_duplicate (100%)</font> --> <font color = red>[FAILED]</font><br><font color = bold><font color = underline>Question1</font></font>: Does a RainTPL syntax extension for Sublime Text exist? Where can I download it?\n",
              "<font color = bold><font color = underline>Question2</font></font>: How do I hide the find/replace bar in Sublime Text 2?"
            ],
            "text/plain": [
              "<IPython.core.display.HTML object>"
            ]
          },
          "metadata": {
            "tags": []
          }
        },
        {
          "output_type": "stream",
          "text": [
            "\r[Succeeded / Failed / Total] 10 / 13 / 25: 100%|██████████| 25/25 [00:31<00:00,  1.27s/it]"
          ],
          "name": "stderr"
        },
        {
          "output_type": "display_data",
          "data": {
            "text/html": [
              "<font color = red>Not_duplicate (100%)</font> --> <font color = red>[FAILED]</font><br><font color = bold><font color = underline>Question1</font></font>: What is the average salary of a microbiologist in India?\n",
              "<font color = bold><font color = underline>Question2</font></font>: What is the salary for a psychologist in india?"
            ],
            "text/plain": [
              "<IPython.core.display.HTML object>"
            ]
          },
          "metadata": {
            "tags": []
          }
        },
        {
          "output_type": "stream",
          "text": [
            "[Succeeded / Failed / Total] 10 / 14 / 26: : 26it [00:33,  1.27s/it]"
          ],
          "name": "stderr"
        },
        {
          "output_type": "display_data",
          "data": {
            "text/html": [
              "<font color = red>Not_duplicate (88%)</font> --> <font color = red>[FAILED]</font><br><font color = bold><font color = underline>Question1</font></font>: How do you close a Bank of America account?\n",
              "<font color = bold><font color = underline>Question2</font></font>: How can one close a bank account online?"
            ],
            "text/plain": [
              "<IPython.core.display.HTML object>"
            ]
          },
          "metadata": {
            "tags": []
          }
        },
        {
          "output_type": "stream",
          "text": [
            "[Succeeded / Failed / Total] 10 / 15 / 27: : 27it [00:34,  1.28s/it]"
          ],
          "name": "stderr"
        },
        {
          "output_type": "stream",
          "text": [
            "+-------------------------------+--------+\n",
            "| Attack Results                |        |\n",
            "+-------------------------------+--------+\n",
            "| Number of successful attacks: | 10     |\n",
            "| Number of failed attacks:     | 15     |\n",
            "| Number of skipped attacks:    | 2      |\n",
            "| Original accuracy:            | 92.59% |\n",
            "| Accuracy under attack:        | 55.56% |\n",
            "| Attack success rate:          | 40.0%  |\n",
            "| Average perturbed word %:     | 11.06% |\n",
            "| Average num. words per input: | 22.3   |\n",
            "| Avg num queries:              | 33.28  |\n",
            "+-------------------------------+--------+"
          ],
          "name": "stdout"
        },
        {
          "output_type": "stream",
          "text": [
            "\n",
            "\u001b[34;1mtextattack\u001b[0m: Attack time: 34.449021100997925s\n"
          ],
          "name": "stderr"
        }
      ]
    },
    {
      "cell_type": "markdown",
      "metadata": {
        "id": "IofoqE0CtMZC"
      },
      "source": [
        "### Word2Vec, GreedyWordSwapWIR, RepeatModification, StopwordModification"
      ]
    },
    {
      "cell_type": "code",
      "metadata": {
        "id": "DLok3tKPm08j",
        "colab": {
          "base_uri": "https://localhost:8080/"
        },
        "outputId": "8be0c20f-cbfa-468c-e097-3fca87a7525e"
      },
      "source": [
        "# We're going to use our word swap class as the attack transformation.\n",
        "transformation = Swapper_()\n",
        "\n",
        "constraints = [RepeatModification(),\n",
        "               StopwordModification()]\n",
        "\n",
        "search_method = GreedyWordSwapWIR()\n",
        "\n",
        "goal_function = UntargetedClassification(model_wrapper)\n",
        "\n",
        "# Now, let's make the attack from the 4 components:\n",
        "attack = Attack(goal_function, constraints, transformation, search_method)\n"
      ],
      "execution_count": null,
      "outputs": [
        {
          "output_type": "stream",
          "text": [
            "\u001b[34;1mtextattack\u001b[0m: Unknown if model of class <class 'transformers.models.bert.modeling_bert.BertForSequenceClassification'> compatible with goal function <class 'textattack.goal_functions.classification.untargeted_classification.UntargetedClassification'>.\n"
          ],
          "name": "stderr"
        }
      ]
    },
    {
      "cell_type": "code",
      "metadata": {
        "id": "c8G-gxlXm-At",
        "colab": {
          "base_uri": "https://localhost:8080/"
        },
        "outputId": "90ff571c-9f87-4fd0-8453-d0b675f6499a"
      },
      "source": [
        "print(attack)"
      ],
      "execution_count": null,
      "outputs": [
        {
          "output_type": "stream",
          "text": [
            "Attack(\n",
            "  (search_method): GreedyWordSwapWIR(\n",
            "    (wir_method):  unk\n",
            "  )\n",
            "  (goal_function):  UntargetedClassification\n",
            "  (transformation):  Swapper_\n",
            "  (constraints): \n",
            "    (0): RepeatModification\n",
            "    (1): StopwordModification\n",
            "  (is_black_box):  True\n",
            ")\n"
          ],
          "name": "stdout"
        }
      ]
    },
    {
      "cell_type": "code",
      "metadata": {
        "id": "FgHOKJd7m_Wm",
        "colab": {
          "base_uri": "https://localhost:8080/",
          "height": 1000
        },
        "outputId": "50236a4d-f465-4c1a-c7cc-b28604061166"
      },
      "source": [
        "attack_stats(attack, dataset, 25)"
      ],
      "execution_count": null,
      "outputs": [
        {
          "output_type": "stream",
          "text": [
            "\r  0%|          | 0/25 [00:00<?, ?it/s]"
          ],
          "name": "stderr"
        },
        {
          "output_type": "stream",
          "text": [
            "Attack(\n",
            "  (search_method): GreedyWordSwapWIR(\n",
            "    (wir_method):  unk\n",
            "  )\n",
            "  (goal_function):  UntargetedClassification\n",
            "  (transformation):  Swapper_\n",
            "  (constraints): \n",
            "    (0): RepeatModification\n",
            "    (1): StopwordModification\n",
            "  (is_black_box):  True\n",
            ")\n"
          ],
          "name": "stdout"
        },
        {
          "output_type": "display_data",
          "data": {
            "text/html": [
              "<font color = red>Not_duplicate (100%)</font> --> <font color = red>[FAILED]</font><br><font color = bold><font color = underline>Question1</font></font>: Why are African-Americans so beautiful?\n",
              "<font color = bold><font color = underline>Question2</font></font>: Why are hispanics so beautiful?"
            ],
            "text/plain": [
              "<IPython.core.display.HTML object>"
            ]
          },
          "metadata": {
            "tags": []
          }
        },
        {
          "output_type": "stream",
          "text": [
            "[Succeeded / Failed / Total] 0 / 1 / 1:   4%|▍         | 1/25 [00:00<00:12,  1.89it/s]"
          ],
          "name": "stderr"
        },
        {
          "output_type": "display_data",
          "data": {
            "text/html": [
              "<font color = red>Not_duplicate (100%)</font> --> <font color = red>[FAILED]</font><br><font color = bold><font color = underline>Question1</font></font>: I want to pursue PhD in Computer Science about social network,what is the open problem in social networks?\n",
              "<font color = bold><font color = underline>Question2</font></font>: I handle social media for a non-profit. Should I start going to social media networking events? Are there any good ones in the bay area?"
            ],
            "text/plain": [
              "<IPython.core.display.HTML object>"
            ]
          },
          "metadata": {
            "tags": []
          }
        },
        {
          "output_type": "stream",
          "text": [
            "[Succeeded / Failed / Total] 0 / 2 / 2:   8%|▊         | 2/25 [00:03<00:35,  1.56s/it]"
          ],
          "name": "stderr"
        },
        {
          "output_type": "display_data",
          "data": {
            "text/html": [
              "<font color = green>Duplicate (97%)</font> --> <font color = red>Not_duplicate (91%)</font><br><font color = bold><font color = underline>Question1</font></font>: Is there a reason why we should travel <font color = green>alone</font>?\n",
              "<font color = bold><font color = underline>Question2</font></font>: What are some reasons to travel alone?<br><font color = bold><font color = underline>Question1</font></font>: Is there a reason why we should travel <font color = red>eternally</font>?\n",
              "<font color = bold><font color = underline>Question2</font></font>: What are some reasons to travel alone?"
            ],
            "text/plain": [
              "<IPython.core.display.HTML object>"
            ]
          },
          "metadata": {
            "tags": []
          }
        },
        {
          "output_type": "stream",
          "text": [
            "[Succeeded / Failed / Total] 1 / 2 / 3:  12%|█▏        | 3/25 [00:03<00:27,  1.26s/it]"
          ],
          "name": "stderr"
        },
        {
          "output_type": "display_data",
          "data": {
            "text/html": [
              "<font color = red>Not_duplicate (100%)</font> --> <font color = red>[FAILED]</font><br><font color = bold><font color = underline>Question1</font></font>: Why are people so obsessed with having a girlfriend/boyfriend?\n",
              "<font color = bold><font color = underline>Question2</font></font>: How can a single male have a child?"
            ],
            "text/plain": [
              "<IPython.core.display.HTML object>"
            ]
          },
          "metadata": {
            "tags": []
          }
        },
        {
          "output_type": "stream",
          "text": [
            "[Succeeded / Failed / Total] 1 / 3 / 4:  16%|█▌        | 4/25 [00:04<00:25,  1.20s/it]"
          ],
          "name": "stderr"
        },
        {
          "output_type": "display_data",
          "data": {
            "text/html": [
              "<font color = red>Not_duplicate (94%)</font> --> <font color = red>[FAILED]</font><br><font color = bold><font color = underline>Question1</font></font>: What are some good baby girl names starting with D?\n",
              "<font color = bold><font color = underline>Question2</font></font>: What are some good baby girl names starting with D or H?"
            ],
            "text/plain": [
              "<IPython.core.display.HTML object>"
            ]
          },
          "metadata": {
            "tags": []
          }
        },
        {
          "output_type": "stream",
          "text": [
            "[Succeeded / Failed / Total] 1 / 4 / 5:  20%|██        | 5/25 [00:06<00:24,  1.23s/it]"
          ],
          "name": "stderr"
        },
        {
          "output_type": "display_data",
          "data": {
            "text/html": [
              "<font color = green>Duplicate (99%)</font> --> <font color = red>Not_duplicate (58%)</font><br><font color = bold><font color = underline>Question1</font></font>: I am 25 year old guy and <font color = green>never</font> had a girlfriend. Is this weird?\n",
              "<font color = bold><font color = underline>Question2</font></font>: I am 25 years old. I have never had a girlfriend. Is something wrong with me?<br><font color = bold><font color = underline>Question1</font></font>: I am 25 year old guy and <font color = red>already</font> had a girlfriend. Is this weird?\n",
              "<font color = bold><font color = underline>Question2</font></font>: I am 25 years old. I have never had a girlfriend. Is something wrong with me?"
            ],
            "text/plain": [
              "<IPython.core.display.HTML object>"
            ]
          },
          "metadata": {
            "tags": []
          }
        },
        {
          "output_type": "stream",
          "text": [
            "[Succeeded / Failed / Total] 2 / 4 / 6:  24%|██▍       | 6/25 [00:07<00:22,  1.19s/it]"
          ],
          "name": "stderr"
        },
        {
          "output_type": "display_data",
          "data": {
            "text/html": [
              "<font color = red>Not_duplicate (92%)</font> --> <font color = gray>[SKIPPED]</font><br><font color = bold><font color = underline>Question1</font></font>: \"What does a good answer on Quora look like? What does it mean to \"\"be helpful\"\"?\"\n",
              "<font color = bold><font color = underline>Question2</font></font>: How do you write a good answer on Quora?"
            ],
            "text/plain": [
              "<IPython.core.display.HTML object>"
            ]
          },
          "metadata": {
            "tags": []
          }
        },
        {
          "output_type": "stream",
          "text": [
            "\r[Succeeded / Failed / Total] 2 / 4 / 7:  28%|██▊       | 7/25 [00:07<00:18,  1.03s/it]"
          ],
          "name": "stderr"
        },
        {
          "output_type": "display_data",
          "data": {
            "text/html": [
              "<font color = green>Duplicate (54%)</font> --> <font color = red>Not_duplicate (97%)</font><br><font color = bold><font color = underline>Question1</font></font>: What are the best things to do in Hong Kong?\n",
              "<font color = bold><font color = underline>Question2</font></font>: What is the best <font color = green>thing</font> in Hong Kong?<br><font color = bold><font color = underline>Question1</font></font>: What are the best things to do in Hong Kong?\n",
              "<font color = bold><font color = underline>Question2</font></font>: What is the best <font color = red>damn</font> in Hong Kong?"
            ],
            "text/plain": [
              "<IPython.core.display.HTML object>"
            ]
          },
          "metadata": {
            "tags": []
          }
        },
        {
          "output_type": "stream",
          "text": [
            "[Succeeded / Failed / Total] 3 / 4 / 8:  32%|███▏      | 8/25 [00:07<00:16,  1.02it/s]"
          ],
          "name": "stderr"
        },
        {
          "output_type": "display_data",
          "data": {
            "text/html": [
              "<font color = green>Duplicate (84%)</font> --> <font color = gray>[SKIPPED]</font><br><font color = bold><font color = underline>Question1</font></font>: Why is my life getting so complicated?\n",
              "<font color = bold><font color = underline>Question2</font></font>: Why is my life so complicated?"
            ],
            "text/plain": [
              "<IPython.core.display.HTML object>"
            ]
          },
          "metadata": {
            "tags": []
          }
        },
        {
          "output_type": "stream",
          "text": [
            "\r[Succeeded / Failed / Total] 3 / 4 / 9:  36%|███▌      | 9/25 [00:07<00:14,  1.14it/s]"
          ],
          "name": "stderr"
        },
        {
          "output_type": "display_data",
          "data": {
            "text/html": [
              "<font color = red>Not_duplicate (100%)</font> --> <font color = red>[FAILED]</font><br><font color = bold><font color = underline>Question1</font></font>: Why should I crack Jee?\n",
              "<font color = bold><font color = underline>Question2</font></font>: Is it possible to get into IIMs with low marks in graduation and 12th?"
            ],
            "text/plain": [
              "<IPython.core.display.HTML object>"
            ]
          },
          "metadata": {
            "tags": []
          }
        },
        {
          "output_type": "stream",
          "text": [
            "[Succeeded / Failed / Total] 3 / 5 / 10:  40%|████      | 10/25 [00:08<00:13,  1.12it/s]"
          ],
          "name": "stderr"
        },
        {
          "output_type": "display_data",
          "data": {
            "text/html": [
              "<font color = red>Not_duplicate (100%)</font> --> <font color = red>[FAILED]</font><br><font color = bold><font color = underline>Question1</font></font>: Can you TRANSLATE these to English language?\n",
              "<font color = bold><font color = underline>Question2</font></font>: Can you translate this from Bengali to English language?"
            ],
            "text/plain": [
              "<IPython.core.display.HTML object>"
            ]
          },
          "metadata": {
            "tags": []
          }
        },
        {
          "output_type": "stream",
          "text": [
            "\r[Succeeded / Failed / Total] 3 / 6 / 11:  44%|████▍     | 11/25 [00:09<00:12,  1.14it/s]"
          ],
          "name": "stderr"
        },
        {
          "output_type": "display_data",
          "data": {
            "text/html": [
              "<font color = red>Not_duplicate (100%)</font> --> <font color = red>[FAILED]</font><br><font color = bold><font color = underline>Question1</font></font>: Can anyone tell shall mi mix mobile should be purchased or not?\n",
              "<font color = bold><font color = underline>Question2</font></font>: \"What did Voltaire mean when he said, \"\"God is a comedian playing to an audience that is too afraid to laugh\"\"?\""
            ],
            "text/plain": [
              "<IPython.core.display.HTML object>"
            ]
          },
          "metadata": {
            "tags": []
          }
        },
        {
          "output_type": "stream",
          "text": [
            "[Succeeded / Failed / Total] 3 / 7 / 12:  48%|████▊     | 12/25 [00:11<00:12,  1.04it/s]"
          ],
          "name": "stderr"
        },
        {
          "output_type": "display_data",
          "data": {
            "text/html": [
              "<font color = green>Duplicate (100%)</font> --> <font color = red>Not_duplicate (94%)</font><br><font color = bold><font color = underline>Question1</font></font>: Which is the best <font color = green>gaming</font> <font color = green>laptop</font> under 40k?\n",
              "<font color = bold><font color = underline>Question2</font></font>: Which is the best gaming laptop under 40,000 rs?<br><font color = bold><font color = underline>Question1</font></font>: Which is the best <font color = red>mmorpg</font> <font color = red>xt</font> under 40k?\n",
              "<font color = bold><font color = underline>Question2</font></font>: Which is the best gaming laptop under 40,000 rs?"
            ],
            "text/plain": [
              "<IPython.core.display.HTML object>"
            ]
          },
          "metadata": {
            "tags": []
          }
        },
        {
          "output_type": "stream",
          "text": [
            "\r[Succeeded / Failed / Total] 4 / 7 / 13:  52%|█████▏    | 13/25 [00:12<00:11,  1.06it/s]"
          ],
          "name": "stderr"
        },
        {
          "output_type": "display_data",
          "data": {
            "text/html": [
              "<font color = red>Not_duplicate (100%)</font> --> <font color = red>[FAILED]</font><br><font color = bold><font color = underline>Question1</font></font>: Why Tamil Nadu Universities are no good?\n",
              "<font color = bold><font color = underline>Question2</font></font>: Why are the 10th students able to score 100% in Tamil Nadu?"
            ],
            "text/plain": [
              "<IPython.core.display.HTML object>"
            ]
          },
          "metadata": {
            "tags": []
          }
        },
        {
          "output_type": "stream",
          "text": [
            "[Succeeded / Failed / Total] 4 / 8 / 14:  56%|█████▌    | 14/25 [00:13<00:10,  1.07it/s]"
          ],
          "name": "stderr"
        },
        {
          "output_type": "display_data",
          "data": {
            "text/html": [
              "<font color = red>Not_duplicate (100%)</font> --> <font color = red>[FAILED]</font><br><font color = bold><font color = underline>Question1</font></font>: What is an easy way to clean toothpaste stains from a shirt without washing it?\n",
              "<font color = bold><font color = underline>Question2</font></font>: What are some ways to remove hard water stains from dishes?"
            ],
            "text/plain": [
              "<IPython.core.display.HTML object>"
            ]
          },
          "metadata": {
            "tags": []
          }
        },
        {
          "output_type": "stream",
          "text": [
            "\r[Succeeded / Failed / Total] 4 / 9 / 15:  60%|██████    | 15/25 [00:14<00:09,  1.02it/s]"
          ],
          "name": "stderr"
        },
        {
          "output_type": "display_data",
          "data": {
            "text/html": [
              "<font color = green>Duplicate (96%)</font> --> <font color = red>Not_duplicate (97%)</font><br><font color = bold><font color = underline>Question1</font></font>: What was the deadliest <font color = green>battle</font> in history?\n",
              "<font color = bold><font color = underline>Question2</font></font>: What was the bloodiest battle in history?<br><font color = bold><font color = underline>Question1</font></font>: What was the deadliest <font color = red>chancellorsville</font> in history?\n",
              "<font color = bold><font color = underline>Question2</font></font>: What was the bloodiest battle in history?"
            ],
            "text/plain": [
              "<IPython.core.display.HTML object>"
            ]
          },
          "metadata": {
            "tags": []
          }
        },
        {
          "output_type": "stream",
          "text": [
            "[Succeeded / Failed / Total] 5 / 9 / 16:  64%|██████▍   | 16/25 [00:15<00:08,  1.04it/s]"
          ],
          "name": "stderr"
        },
        {
          "output_type": "display_data",
          "data": {
            "text/html": [
              "<font color = green>Duplicate (99%)</font> --> <font color = red>Not_duplicate (78%)</font><br><font color = bold><font color = underline>Question1</font></font>: What are your views about demonetisation in India?\n",
              "<font color = bold><font color = underline>Question2</font></font>: What do you <font color = green>think</font> about the ban on 500 and 1000 denomination <font color = green>notes</font> in India?<br><font color = bold><font color = underline>Question1</font></font>: What are your views about demonetisation in India?\n",
              "<font color = bold><font color = underline>Question2</font></font>: What do you <font color = red>know</font> about the ban on 500 and 1000 denomination <font color = red>csli</font> in India?"
            ],
            "text/plain": [
              "<IPython.core.display.HTML object>"
            ]
          },
          "metadata": {
            "tags": []
          }
        },
        {
          "output_type": "stream",
          "text": [
            "\r[Succeeded / Failed / Total] 6 / 9 / 17:  68%|██████▊   | 17/25 [00:16<00:07,  1.04it/s]"
          ],
          "name": "stderr"
        },
        {
          "output_type": "display_data",
          "data": {
            "text/html": [
              "<font color = red>Not_duplicate (100%)</font> --> <font color = red>[FAILED]</font><br><font color = bold><font color = underline>Question1</font></font>: What are the difference between polyester 210T and 210D?\n",
              "<font color = bold><font color = underline>Question2</font></font>: What is the difference between cotton and polyester?"
            ],
            "text/plain": [
              "<IPython.core.display.HTML object>"
            ]
          },
          "metadata": {
            "tags": []
          }
        },
        {
          "output_type": "stream",
          "text": [
            "[Succeeded / Failed / Total] 6 / 10 / 18:  72%|███████▏  | 18/25 [00:17<00:06,  1.05it/s]"
          ],
          "name": "stderr"
        },
        {
          "output_type": "display_data",
          "data": {
            "text/html": [
              "<font color = red>Not_duplicate (99%)</font> --> <font color = red>[FAILED]</font><br><font color = bold><font color = underline>Question1</font></font>: Is FMS Delhi a good option for a MBA executive program?\n",
              "<font color = bold><font color = underline>Question2</font></font>: Is FMS a good choice for an MBA in HR? Why and why not?"
            ],
            "text/plain": [
              "<IPython.core.display.HTML object>"
            ]
          },
          "metadata": {
            "tags": []
          }
        },
        {
          "output_type": "stream",
          "text": [
            "\r[Succeeded / Failed / Total] 6 / 11 / 19:  76%|███████▌  | 19/25 [00:18<00:05,  1.04it/s]"
          ],
          "name": "stderr"
        },
        {
          "output_type": "display_data",
          "data": {
            "text/html": [
              "<font color = green>Duplicate (91%)</font> --> <font color = red>Not_duplicate (87%)</font><br><font color = bold><font color = underline>Question1</font></font>: Is it a bad time to buy a condo or a house in the Bay Area in 2017?\n",
              "<font color = bold><font color = underline>Question2</font></font>: Would 2017 be a good time to buy a <font color = green>house</font> in Bay Area?<br><font color = bold><font color = underline>Question1</font></font>: Is it a bad time to buy a condo or a house in the Bay Area in 2017?\n",
              "<font color = bold><font color = underline>Question2</font></font>: Would 2017 be a good time to buy a <font color = red>commons</font> in Bay Area?"
            ],
            "text/plain": [
              "<IPython.core.display.HTML object>"
            ]
          },
          "metadata": {
            "tags": []
          }
        },
        {
          "output_type": "stream",
          "text": [
            "[Succeeded / Failed / Total] 7 / 11 / 20:  80%|████████  | 20/25 [00:19<00:04,  1.03it/s]"
          ],
          "name": "stderr"
        },
        {
          "output_type": "display_data",
          "data": {
            "text/html": [
              "<font color = red>Not_duplicate (100%)</font> --> <font color = red>[FAILED]</font><br><font color = bold><font color = underline>Question1</font></font>: How is vanilla extract made?\n",
              "<font color = bold><font color = underline>Question2</font></font>: How do you make sugar cookies without vanilla extract?"
            ],
            "text/plain": [
              "<IPython.core.display.HTML object>"
            ]
          },
          "metadata": {
            "tags": []
          }
        },
        {
          "output_type": "stream",
          "text": [
            "\r[Succeeded / Failed / Total] 7 / 12 / 21:  84%|████████▍ | 21/25 [00:20<00:03,  1.03it/s]"
          ],
          "name": "stderr"
        },
        {
          "output_type": "display_data",
          "data": {
            "text/html": [
              "<font color = green>Duplicate (100%)</font> --> <font color = red>[FAILED]</font><br><font color = bold><font color = underline>Question1</font></font>: What is the Sahara, and how do the average temperatures there compare to the ones in the Patagonian Desert?\n",
              "<font color = bold><font color = underline>Question2</font></font>: What is the Sahara, and how do the average temperatures there compare to the ones in the Registan Desert?"
            ],
            "text/plain": [
              "<IPython.core.display.HTML object>"
            ]
          },
          "metadata": {
            "tags": []
          }
        },
        {
          "output_type": "stream",
          "text": [
            "[Succeeded / Failed / Total] 7 / 13 / 22:  88%|████████▊ | 22/25 [00:22<00:03,  1.00s/it]"
          ],
          "name": "stderr"
        },
        {
          "output_type": "display_data",
          "data": {
            "text/html": [
              "<font color = red>Not_duplicate (100%)</font> --> <font color = red>[FAILED]</font><br><font color = bold><font color = underline>Question1</font></font>: Why was the Roman Empire so successful?\n",
              "<font color = bold><font color = underline>Question2</font></font>: What are some of the rarely known facts about the Roman Empire?"
            ],
            "text/plain": [
              "<IPython.core.display.HTML object>"
            ]
          },
          "metadata": {
            "tags": []
          }
        },
        {
          "output_type": "stream",
          "text": [
            "\r[Succeeded / Failed / Total] 7 / 14 / 23:  92%|█████████▏| 23/25 [00:22<00:01,  1.00it/s]"
          ],
          "name": "stderr"
        },
        {
          "output_type": "display_data",
          "data": {
            "text/html": [
              "<font color = red>Not_duplicate (100%)</font> --> <font color = red>[FAILED]</font><br><font color = bold><font color = underline>Question1</font></font>: Is it advisable to sent your cv to a professor with whom you are trying to make contact for graduate admission?\n",
              "<font color = bold><font color = underline>Question2</font></font>: How does contacting a professor before applying factor into graduate admissions?"
            ],
            "text/plain": [
              "<IPython.core.display.HTML object>"
            ]
          },
          "metadata": {
            "tags": []
          }
        },
        {
          "output_type": "stream",
          "text": [
            "[Succeeded / Failed / Total] 7 / 15 / 24:  96%|█████████▌| 24/25 [00:24<00:01,  1.04s/it]"
          ],
          "name": "stderr"
        },
        {
          "output_type": "display_data",
          "data": {
            "text/html": [
              "<font color = red>Not_duplicate (100%)</font> --> <font color = red>[FAILED]</font><br><font color = bold><font color = underline>Question1</font></font>: Does a RainTPL syntax extension for Sublime Text exist? Where can I download it?\n",
              "<font color = bold><font color = underline>Question2</font></font>: How do I hide the find/replace bar in Sublime Text 2?"
            ],
            "text/plain": [
              "<IPython.core.display.HTML object>"
            ]
          },
          "metadata": {
            "tags": []
          }
        },
        {
          "output_type": "stream",
          "text": [
            "\r[Succeeded / Failed / Total] 7 / 16 / 25: 100%|██████████| 25/25 [00:26<00:00,  1.05s/it]"
          ],
          "name": "stderr"
        },
        {
          "output_type": "display_data",
          "data": {
            "text/html": [
              "<font color = red>Not_duplicate (100%)</font> --> <font color = red>[FAILED]</font><br><font color = bold><font color = underline>Question1</font></font>: What is the average salary of a microbiologist in India?\n",
              "<font color = bold><font color = underline>Question2</font></font>: What is the salary for a psychologist in india?"
            ],
            "text/plain": [
              "<IPython.core.display.HTML object>"
            ]
          },
          "metadata": {
            "tags": []
          }
        },
        {
          "output_type": "stream",
          "text": [
            "[Succeeded / Failed / Total] 7 / 17 / 26: : 26it [00:27,  1.04s/it]"
          ],
          "name": "stderr"
        },
        {
          "output_type": "display_data",
          "data": {
            "text/html": [
              "<font color = red>Not_duplicate (88%)</font> --> <font color = green>Duplicate (84%)</font><br><font color = bold><font color = underline>Question1</font></font>: How do you close a Bank of America <font color = red>account</font>?\n",
              "<font color = bold><font color = underline>Question2</font></font>: How can one close a bank <font color = red>account</font> online?<br><font color = bold><font color = underline>Question1</font></font>: How do you close a Bank of America <font color = green>explanation</font>?\n",
              "<font color = bold><font color = underline>Question2</font></font>: How can one close a bank <font color = green>explanation</font> online?"
            ],
            "text/plain": [
              "<IPython.core.display.HTML object>"
            ]
          },
          "metadata": {
            "tags": []
          }
        },
        {
          "output_type": "stream",
          "text": [
            "[Succeeded / Failed / Total] 8 / 17 / 27: : 27it [00:27,  1.03s/it]"
          ],
          "name": "stderr"
        },
        {
          "output_type": "stream",
          "text": [
            "+-------------------------------+--------+\n",
            "| Attack Results                |        |\n",
            "+-------------------------------+--------+\n",
            "| Number of successful attacks: | 8      |\n",
            "| Number of failed attacks:     | 17     |\n",
            "| Number of skipped attacks:    | 2      |\n",
            "| Original accuracy:            | 92.59% |\n",
            "| Accuracy under attack:        | 62.96% |\n",
            "| Attack success rate:          | 32.0%  |\n",
            "| Average perturbed word %:     | 7.13%  |\n",
            "| Average num. words per input: | 22.3   |\n",
            "| Avg num queries:              | 29.92  |\n",
            "+-------------------------------+--------+"
          ],
          "name": "stdout"
        },
        {
          "output_type": "stream",
          "text": [
            "\n",
            "\u001b[34;1mtextattack\u001b[0m: Attack time: 27.909448385238647s\n"
          ],
          "name": "stderr"
        }
      ]
    },
    {
      "cell_type": "markdown",
      "metadata": {
        "id": "10S6S32rtXtL"
      },
      "source": [
        "### Glove, GreedyWordSwapWIR RepeatModification, StopwordModification"
      ]
    },
    {
      "cell_type": "code",
      "metadata": {
        "id": "STAeDRN6Obr_",
        "colab": {
          "base_uri": "https://localhost:8080/"
        },
        "outputId": "dbac3753-ccac-4fe2-e5a8-1338db2b4d2c"
      },
      "source": [
        "# We're going to use our word swap class as the attack transformation.\n",
        "transformation = Swapper__()\n",
        "\n",
        "constraints = [RepeatModification(),\n",
        "               StopwordModification()]\n",
        "\n",
        "search_method = GreedyWordSwapWIR()\n",
        "\n",
        "goal_function = UntargetedClassification(model_wrapper)\n",
        "\n",
        "# Now, let's make the attack from the 4 components:\n",
        "attack = Attack(goal_function, constraints, transformation, search_method)"
      ],
      "execution_count": null,
      "outputs": [
        {
          "output_type": "stream",
          "text": [
            "\u001b[34;1mtextattack\u001b[0m: Unknown if model of class <class 'transformers.models.bert.modeling_bert.BertForSequenceClassification'> compatible with goal function <class 'textattack.goal_functions.classification.untargeted_classification.UntargetedClassification'>.\n"
          ],
          "name": "stderr"
        }
      ]
    },
    {
      "cell_type": "code",
      "metadata": {
        "id": "gQ_bQqzYO2Zb",
        "colab": {
          "base_uri": "https://localhost:8080/"
        },
        "outputId": "5f066ccc-faaf-4c14-d8bc-45be1da85088"
      },
      "source": [
        "print(attack)"
      ],
      "execution_count": null,
      "outputs": [
        {
          "output_type": "stream",
          "text": [
            "Attack(\n",
            "  (search_method): GreedyWordSwapWIR(\n",
            "    (wir_method):  unk\n",
            "  )\n",
            "  (goal_function):  UntargetedClassification\n",
            "  (transformation):  Swapper__\n",
            "  (constraints): \n",
            "    (0): RepeatModification\n",
            "    (1): StopwordModification\n",
            "  (is_black_box):  True\n",
            ")\n"
          ],
          "name": "stdout"
        }
      ]
    },
    {
      "cell_type": "code",
      "metadata": {
        "id": "B7aWCrzTO4xp",
        "colab": {
          "base_uri": "https://localhost:8080/",
          "height": 1000
        },
        "outputId": "2a6cec9a-2b9d-4080-f6a3-088229340d1a"
      },
      "source": [
        "attack_stats(attack, dataset, 25)"
      ],
      "execution_count": null,
      "outputs": [
        {
          "output_type": "stream",
          "text": [
            "\r  0%|          | 0/25 [00:00<?, ?it/s]"
          ],
          "name": "stderr"
        },
        {
          "output_type": "stream",
          "text": [
            "Attack(\n",
            "  (search_method): GreedyWordSwapWIR(\n",
            "    (wir_method):  unk\n",
            "  )\n",
            "  (goal_function):  UntargetedClassification\n",
            "  (transformation):  Swapper__\n",
            "  (constraints): \n",
            "    (0): RepeatModification\n",
            "    (1): StopwordModification\n",
            "  (is_black_box):  True\n",
            ")\n"
          ],
          "name": "stdout"
        },
        {
          "output_type": "display_data",
          "data": {
            "text/html": [
              "<font color = red>Not_duplicate (100%)</font> --> <font color = red>[FAILED]</font><br><font color = bold><font color = underline>Question1</font></font>: Why are African-Americans so beautiful?\n",
              "<font color = bold><font color = underline>Question2</font></font>: Why are hispanics so beautiful?"
            ],
            "text/plain": [
              "<IPython.core.display.HTML object>"
            ]
          },
          "metadata": {
            "tags": []
          }
        },
        {
          "output_type": "stream",
          "text": [
            "[Succeeded / Failed / Total] 0 / 1 / 1:   4%|▍         | 1/25 [00:00<00:14,  1.65it/s]"
          ],
          "name": "stderr"
        },
        {
          "output_type": "display_data",
          "data": {
            "text/html": [
              "<font color = red>Not_duplicate (100%)</font> --> <font color = red>[FAILED]</font><br><font color = bold><font color = underline>Question1</font></font>: I want to pursue PhD in Computer Science about social network,what is the open problem in social networks?\n",
              "<font color = bold><font color = underline>Question2</font></font>: I handle social media for a non-profit. Should I start going to social media networking events? Are there any good ones in the bay area?"
            ],
            "text/plain": [
              "<IPython.core.display.HTML object>"
            ]
          },
          "metadata": {
            "tags": []
          }
        },
        {
          "output_type": "stream",
          "text": [
            "[Succeeded / Failed / Total] 0 / 2 / 2:   8%|▊         | 2/25 [00:03<00:44,  1.92s/it]"
          ],
          "name": "stderr"
        },
        {
          "output_type": "display_data",
          "data": {
            "text/html": [
              "<font color = green>Duplicate (97%)</font> --> <font color = red>Not_duplicate (100%)</font><br><font color = bold><font color = underline>Question1</font></font>: Is there a reason why we should travel <font color = green>alone</font>?\n",
              "<font color = bold><font color = underline>Question2</font></font>: What are some reasons to travel alone?<br><font color = bold><font color = underline>Question1</font></font>: Is there a reason why we should travel <font color = red>kukulcan</font>?\n",
              "<font color = bold><font color = underline>Question2</font></font>: What are some reasons to travel alone?"
            ],
            "text/plain": [
              "<IPython.core.display.HTML object>"
            ]
          },
          "metadata": {
            "tags": []
          }
        },
        {
          "output_type": "stream",
          "text": [
            "[Succeeded / Failed / Total] 1 / 2 / 3:  12%|█▏        | 3/25 [00:04<00:33,  1.51s/it]"
          ],
          "name": "stderr"
        },
        {
          "output_type": "display_data",
          "data": {
            "text/html": [
              "<font color = red>Not_duplicate (100%)</font> --> <font color = red>[FAILED]</font><br><font color = bold><font color = underline>Question1</font></font>: Why are people so obsessed with having a girlfriend/boyfriend?\n",
              "<font color = bold><font color = underline>Question2</font></font>: How can a single male have a child?"
            ],
            "text/plain": [
              "<IPython.core.display.HTML object>"
            ]
          },
          "metadata": {
            "tags": []
          }
        },
        {
          "output_type": "stream",
          "text": [
            "[Succeeded / Failed / Total] 1 / 3 / 4:  16%|█▌        | 4/25 [00:05<00:30,  1.45s/it]"
          ],
          "name": "stderr"
        },
        {
          "output_type": "display_data",
          "data": {
            "text/html": [
              "<font color = red>Not_duplicate (94%)</font> --> <font color = green>Duplicate (62%)</font><br><font color = bold><font color = underline>Question1</font></font>: What are some good baby girl <font color = red>names</font> starting with D?\n",
              "<font color = bold><font color = underline>Question2</font></font>: What are some good baby girl <font color = red>names</font> <font color = red>starting</font> with D or H?<br><font color = bold><font color = underline>Question1</font></font>: What are some good baby girl <font color = green>name</font> starting with D?\n",
              "<font color = bold><font color = underline>Question2</font></font>: What are some good baby girl <font color = green>name</font> <font color = green>bedard</font> with D or H?"
            ],
            "text/plain": [
              "<IPython.core.display.HTML object>"
            ]
          },
          "metadata": {
            "tags": []
          }
        },
        {
          "output_type": "stream",
          "text": [
            "[Succeeded / Failed / Total] 2 / 3 / 5:  20%|██        | 5/25 [00:06<00:26,  1.35s/it]"
          ],
          "name": "stderr"
        },
        {
          "output_type": "display_data",
          "data": {
            "text/html": [
              "<font color = green>Duplicate (99%)</font> --> <font color = red>Not_duplicate (96%)</font><br><font color = bold><font color = underline>Question1</font></font>: I am 25 year old guy and <font color = green>never</font> had a <font color = green>girlfriend</font>. Is this weird?\n",
              "<font color = bold><font color = underline>Question2</font></font>: I am 25 years old. I have never had a girlfriend. Is something wrong with me?<br><font color = bold><font color = underline>Question1</font></font>: I am 25 year old guy and <font color = red>actually</font> had a <font color = red>boyfriend</font>. Is this weird?\n",
              "<font color = bold><font color = underline>Question2</font></font>: I am 25 years old. I have never had a girlfriend. Is something wrong with me?"
            ],
            "text/plain": [
              "<IPython.core.display.HTML object>"
            ]
          },
          "metadata": {
            "tags": []
          }
        },
        {
          "output_type": "stream",
          "text": [
            "[Succeeded / Failed / Total] 3 / 3 / 6:  24%|██▍       | 6/25 [00:07<00:25,  1.32s/it]"
          ],
          "name": "stderr"
        },
        {
          "output_type": "display_data",
          "data": {
            "text/html": [
              "<font color = red>Not_duplicate (92%)</font> --> <font color = gray>[SKIPPED]</font><br><font color = bold><font color = underline>Question1</font></font>: \"What does a good answer on Quora look like? What does it mean to \"\"be helpful\"\"?\"\n",
              "<font color = bold><font color = underline>Question2</font></font>: How do you write a good answer on Quora?"
            ],
            "text/plain": [
              "<IPython.core.display.HTML object>"
            ]
          },
          "metadata": {
            "tags": []
          }
        },
        {
          "output_type": "stream",
          "text": [
            "\r[Succeeded / Failed / Total] 3 / 3 / 7:  28%|██▊       | 7/25 [00:07<00:20,  1.14s/it]"
          ],
          "name": "stderr"
        },
        {
          "output_type": "display_data",
          "data": {
            "text/html": [
              "<font color = green>Duplicate (54%)</font> --> <font color = red>Not_duplicate (89%)</font><br><font color = bold><font color = underline>Question1</font></font>: What are the best things to do in Hong Kong?\n",
              "<font color = bold><font color = underline>Question2</font></font>: What is the best <font color = green>thing</font> in Hong Kong?<br><font color = bold><font color = underline>Question1</font></font>: What are the best things to do in Hong Kong?\n",
              "<font color = bold><font color = underline>Question2</font></font>: What is the best <font color = red>happened</font> in Hong Kong?"
            ],
            "text/plain": [
              "<IPython.core.display.HTML object>"
            ]
          },
          "metadata": {
            "tags": []
          }
        },
        {
          "output_type": "stream",
          "text": [
            "[Succeeded / Failed / Total] 4 / 3 / 8:  32%|███▏      | 8/25 [00:08<00:18,  1.08s/it]"
          ],
          "name": "stderr"
        },
        {
          "output_type": "display_data",
          "data": {
            "text/html": [
              "<font color = green>Duplicate (84%)</font> --> <font color = gray>[SKIPPED]</font><br><font color = bold><font color = underline>Question1</font></font>: Why is my life getting so complicated?\n",
              "<font color = bold><font color = underline>Question2</font></font>: Why is my life so complicated?"
            ],
            "text/plain": [
              "<IPython.core.display.HTML object>"
            ]
          },
          "metadata": {
            "tags": []
          }
        },
        {
          "output_type": "stream",
          "text": [
            "\r[Succeeded / Failed / Total] 4 / 3 / 9:  36%|███▌      | 9/25 [00:08<00:15,  1.03it/s]"
          ],
          "name": "stderr"
        },
        {
          "output_type": "display_data",
          "data": {
            "text/html": [
              "<font color = red>Not_duplicate (100%)</font> --> <font color = red>[FAILED]</font><br><font color = bold><font color = underline>Question1</font></font>: Why should I crack Jee?\n",
              "<font color = bold><font color = underline>Question2</font></font>: Is it possible to get into IIMs with low marks in graduation and 12th?"
            ],
            "text/plain": [
              "<IPython.core.display.HTML object>"
            ]
          },
          "metadata": {
            "tags": []
          }
        },
        {
          "output_type": "stream",
          "text": [
            "[Succeeded / Failed / Total] 4 / 4 / 10:  40%|████      | 10/25 [00:09<00:14,  1.02it/s]"
          ],
          "name": "stderr"
        },
        {
          "output_type": "display_data",
          "data": {
            "text/html": [
              "<font color = red>Not_duplicate (100%)</font> --> <font color = red>[FAILED]</font><br><font color = bold><font color = underline>Question1</font></font>: Can you TRANSLATE these to English language?\n",
              "<font color = bold><font color = underline>Question2</font></font>: Can you translate this from Bengali to English language?"
            ],
            "text/plain": [
              "<IPython.core.display.HTML object>"
            ]
          },
          "metadata": {
            "tags": []
          }
        },
        {
          "output_type": "stream",
          "text": [
            "\r[Succeeded / Failed / Total] 4 / 5 / 11:  44%|████▍     | 11/25 [00:10<00:13,  1.04it/s]"
          ],
          "name": "stderr"
        },
        {
          "output_type": "display_data",
          "data": {
            "text/html": [
              "<font color = red>Not_duplicate (100%)</font> --> <font color = red>[FAILED]</font><br><font color = bold><font color = underline>Question1</font></font>: Can anyone tell shall mi mix mobile should be purchased or not?\n",
              "<font color = bold><font color = underline>Question2</font></font>: \"What did Voltaire mean when he said, \"\"God is a comedian playing to an audience that is too afraid to laugh\"\"?\""
            ],
            "text/plain": [
              "<IPython.core.display.HTML object>"
            ]
          },
          "metadata": {
            "tags": []
          }
        },
        {
          "output_type": "stream",
          "text": [
            "[Succeeded / Failed / Total] 4 / 6 / 12:  48%|████▊     | 12/25 [00:12<00:14,  1.08s/it]"
          ],
          "name": "stderr"
        },
        {
          "output_type": "display_data",
          "data": {
            "text/html": [
              "<font color = green>Duplicate (100%)</font> --> <font color = red>Not_duplicate (83%)</font><br><font color = bold><font color = underline>Question1</font></font>: Which is the best <font color = green>gaming</font> <font color = green>laptop</font> under 40k?\n",
              "<font color = bold><font color = underline>Question2</font></font>: Which is the best gaming laptop under 40,000 rs?<br><font color = bold><font color = underline>Question1</font></font>: Which is the best <font color = red>multiplayer</font> <font color = red>confetti</font> under 40k?\n",
              "<font color = bold><font color = underline>Question2</font></font>: Which is the best gaming laptop under 40,000 rs?"
            ],
            "text/plain": [
              "<IPython.core.display.HTML object>"
            ]
          },
          "metadata": {
            "tags": []
          }
        },
        {
          "output_type": "stream",
          "text": [
            "\r[Succeeded / Failed / Total] 5 / 6 / 13:  52%|█████▏    | 13/25 [00:13<00:12,  1.06s/it]"
          ],
          "name": "stderr"
        },
        {
          "output_type": "display_data",
          "data": {
            "text/html": [
              "<font color = red>Not_duplicate (100%)</font> --> <font color = red>[FAILED]</font><br><font color = bold><font color = underline>Question1</font></font>: Why Tamil Nadu Universities are no good?\n",
              "<font color = bold><font color = underline>Question2</font></font>: Why are the 10th students able to score 100% in Tamil Nadu?"
            ],
            "text/plain": [
              "<IPython.core.display.HTML object>"
            ]
          },
          "metadata": {
            "tags": []
          }
        },
        {
          "output_type": "stream",
          "text": [
            "[Succeeded / Failed / Total] 5 / 7 / 14:  56%|█████▌    | 14/25 [00:14<00:11,  1.06s/it]"
          ],
          "name": "stderr"
        },
        {
          "output_type": "display_data",
          "data": {
            "text/html": [
              "<font color = red>Not_duplicate (100%)</font> --> <font color = red>[FAILED]</font><br><font color = bold><font color = underline>Question1</font></font>: What is an easy way to clean toothpaste stains from a shirt without washing it?\n",
              "<font color = bold><font color = underline>Question2</font></font>: What are some ways to remove hard water stains from dishes?"
            ],
            "text/plain": [
              "<IPython.core.display.HTML object>"
            ]
          },
          "metadata": {
            "tags": []
          }
        },
        {
          "output_type": "stream",
          "text": [
            "\r[Succeeded / Failed / Total] 5 / 8 / 15:  60%|██████    | 15/25 [00:16<00:11,  1.12s/it]"
          ],
          "name": "stderr"
        },
        {
          "output_type": "display_data",
          "data": {
            "text/html": [
              "<font color = green>Duplicate (96%)</font> --> <font color = red>Not_duplicate (100%)</font><br><font color = bold><font color = underline>Question1</font></font>: What was the deadliest battle in history?\n",
              "<font color = bold><font color = underline>Question2</font></font>: What was the bloodiest battle in <font color = green>history</font>?<br><font color = bold><font color = underline>Question1</font></font>: What was the deadliest battle in history?\n",
              "<font color = bold><font color = underline>Question2</font></font>: What was the bloodiest battle in <font color = red>cmessier</font>?"
            ],
            "text/plain": [
              "<IPython.core.display.HTML object>"
            ]
          },
          "metadata": {
            "tags": []
          }
        },
        {
          "output_type": "stream",
          "text": [
            "[Succeeded / Failed / Total] 6 / 8 / 16:  64%|██████▍   | 16/25 [00:17<00:09,  1.09s/it]"
          ],
          "name": "stderr"
        },
        {
          "output_type": "display_data",
          "data": {
            "text/html": [
              "<font color = green>Duplicate (99%)</font> --> <font color = red>Not_duplicate (100%)</font><br><font color = bold><font color = underline>Question1</font></font>: What are your views about demonetisation in India?\n",
              "<font color = bold><font color = underline>Question2</font></font>: What do you think about the <font color = green>ban</font> on 500 and 1000 denomination notes in India?<br><font color = bold><font color = underline>Question1</font></font>: What are your views about demonetisation in India?\n",
              "<font color = bold><font color = underline>Question2</font></font>: What do you think about the <font color = red>ozone</font> on 500 and 1000 denomination notes in India?"
            ],
            "text/plain": [
              "<IPython.core.display.HTML object>"
            ]
          },
          "metadata": {
            "tags": []
          }
        },
        {
          "output_type": "stream",
          "text": [
            "\r[Succeeded / Failed / Total] 7 / 8 / 17:  68%|██████▊   | 17/25 [00:18<00:08,  1.07s/it]"
          ],
          "name": "stderr"
        },
        {
          "output_type": "display_data",
          "data": {
            "text/html": [
              "<font color = red>Not_duplicate (100%)</font> --> <font color = red>[FAILED]</font><br><font color = bold><font color = underline>Question1</font></font>: What are the difference between polyester 210T and 210D?\n",
              "<font color = bold><font color = underline>Question2</font></font>: What is the difference between cotton and polyester?"
            ],
            "text/plain": [
              "<IPython.core.display.HTML object>"
            ]
          },
          "metadata": {
            "tags": []
          }
        },
        {
          "output_type": "stream",
          "text": [
            "[Succeeded / Failed / Total] 7 / 9 / 18:  72%|███████▏  | 18/25 [00:19<00:07,  1.07s/it]"
          ],
          "name": "stderr"
        },
        {
          "output_type": "display_data",
          "data": {
            "text/html": [
              "<font color = red>Not_duplicate (99%)</font> --> <font color = red>[FAILED]</font><br><font color = bold><font color = underline>Question1</font></font>: Is FMS Delhi a good option for a MBA executive program?\n",
              "<font color = bold><font color = underline>Question2</font></font>: Is FMS a good choice for an MBA in HR? Why and why not?"
            ],
            "text/plain": [
              "<IPython.core.display.HTML object>"
            ]
          },
          "metadata": {
            "tags": []
          }
        },
        {
          "output_type": "stream",
          "text": [
            "\r[Succeeded / Failed / Total] 7 / 10 / 19:  76%|███████▌  | 19/25 [00:20<00:06,  1.08s/it]"
          ],
          "name": "stderr"
        },
        {
          "output_type": "display_data",
          "data": {
            "text/html": [
              "<font color = green>Duplicate (91%)</font> --> <font color = red>Not_duplicate (99%)</font><br><font color = bold><font color = underline>Question1</font></font>: Is it a bad time to buy a condo or a house in the Bay Area in 2017?\n",
              "<font color = bold><font color = underline>Question2</font></font>: Would 2017 be a good time to buy a <font color = green>house</font> in Bay Area?<br><font color = bold><font color = underline>Question1</font></font>: Is it a bad time to buy a condo or a house in the Bay Area in 2017?\n",
              "<font color = bold><font color = underline>Question2</font></font>: Would 2017 be a good time to buy a <font color = red>ajidica</font> in Bay Area?"
            ],
            "text/plain": [
              "<IPython.core.display.HTML object>"
            ]
          },
          "metadata": {
            "tags": []
          }
        },
        {
          "output_type": "stream",
          "text": [
            "[Succeeded / Failed / Total] 8 / 10 / 20:  80%|████████  | 20/25 [00:21<00:05,  1.08s/it]"
          ],
          "name": "stderr"
        },
        {
          "output_type": "display_data",
          "data": {
            "text/html": [
              "<font color = red>Not_duplicate (100%)</font> --> <font color = green>Duplicate (54%)</font><br><font color = bold><font color = underline>Question1</font></font>: How is vanilla <font color = red>extract</font> made?\n",
              "<font color = bold><font color = underline>Question2</font></font>: How do you make sugar cookies <font color = red>without</font> vanilla <font color = red>extract</font>?<br><font color = bold><font color = underline>Question1</font></font>: How is vanilla <font color = green>retrieve</font> made?\n",
              "<font color = bold><font color = underline>Question2</font></font>: How do you make sugar cookies <font color = green>any</font> vanilla <font color = green>retrieve</font>?"
            ],
            "text/plain": [
              "<IPython.core.display.HTML object>"
            ]
          },
          "metadata": {
            "tags": []
          }
        },
        {
          "output_type": "stream",
          "text": [
            "\r[Succeeded / Failed / Total] 9 / 10 / 21:  84%|████████▍ | 21/25 [00:22<00:04,  1.08s/it]"
          ],
          "name": "stderr"
        },
        {
          "output_type": "display_data",
          "data": {
            "text/html": [
              "<font color = green>Duplicate (100%)</font> --> <font color = red>[FAILED]</font><br><font color = bold><font color = underline>Question1</font></font>: What is the Sahara, and how do the average temperatures there compare to the ones in the Patagonian Desert?\n",
              "<font color = bold><font color = underline>Question2</font></font>: What is the Sahara, and how do the average temperatures there compare to the ones in the Registan Desert?"
            ],
            "text/plain": [
              "<IPython.core.display.HTML object>"
            ]
          },
          "metadata": {
            "tags": []
          }
        },
        {
          "output_type": "stream",
          "text": [
            "[Succeeded / Failed / Total] 9 / 11 / 22:  88%|████████▊ | 22/25 [00:24<00:03,  1.11s/it]"
          ],
          "name": "stderr"
        },
        {
          "output_type": "display_data",
          "data": {
            "text/html": [
              "<font color = red>Not_duplicate (100%)</font> --> <font color = red>[FAILED]</font><br><font color = bold><font color = underline>Question1</font></font>: Why was the Roman Empire so successful?\n",
              "<font color = bold><font color = underline>Question2</font></font>: What are some of the rarely known facts about the Roman Empire?"
            ],
            "text/plain": [
              "<IPython.core.display.HTML object>"
            ]
          },
          "metadata": {
            "tags": []
          }
        },
        {
          "output_type": "stream",
          "text": [
            "\r[Succeeded / Failed / Total] 9 / 12 / 23:  92%|█████████▏| 23/25 [00:25<00:02,  1.11s/it]"
          ],
          "name": "stderr"
        },
        {
          "output_type": "display_data",
          "data": {
            "text/html": [
              "<font color = red>Not_duplicate (100%)</font> --> <font color = red>[FAILED]</font><br><font color = bold><font color = underline>Question1</font></font>: Is it advisable to sent your cv to a professor with whom you are trying to make contact for graduate admission?\n",
              "<font color = bold><font color = underline>Question2</font></font>: How does contacting a professor before applying factor into graduate admissions?"
            ],
            "text/plain": [
              "<IPython.core.display.HTML object>"
            ]
          },
          "metadata": {
            "tags": []
          }
        },
        {
          "output_type": "stream",
          "text": [
            "[Succeeded / Failed / Total] 9 / 13 / 24:  96%|█████████▌| 24/25 [00:27<00:01,  1.16s/it]"
          ],
          "name": "stderr"
        },
        {
          "output_type": "display_data",
          "data": {
            "text/html": [
              "<font color = red>Not_duplicate (100%)</font> --> <font color = red>[FAILED]</font><br><font color = bold><font color = underline>Question1</font></font>: Does a RainTPL syntax extension for Sublime Text exist? Where can I download it?\n",
              "<font color = bold><font color = underline>Question2</font></font>: How do I hide the find/replace bar in Sublime Text 2?"
            ],
            "text/plain": [
              "<IPython.core.display.HTML object>"
            ]
          },
          "metadata": {
            "tags": []
          }
        },
        {
          "output_type": "stream",
          "text": [
            "\r[Succeeded / Failed / Total] 9 / 14 / 25: 100%|██████████| 25/25 [00:29<00:00,  1.17s/it]"
          ],
          "name": "stderr"
        },
        {
          "output_type": "display_data",
          "data": {
            "text/html": [
              "<font color = red>Not_duplicate (100%)</font> --> <font color = red>[FAILED]</font><br><font color = bold><font color = underline>Question1</font></font>: What is the average salary of a microbiologist in India?\n",
              "<font color = bold><font color = underline>Question2</font></font>: What is the salary for a psychologist in india?"
            ],
            "text/plain": [
              "<IPython.core.display.HTML object>"
            ]
          },
          "metadata": {
            "tags": []
          }
        },
        {
          "output_type": "stream",
          "text": [
            "[Succeeded / Failed / Total] 9 / 15 / 26: : 26it [00:30,  1.17s/it]"
          ],
          "name": "stderr"
        },
        {
          "output_type": "display_data",
          "data": {
            "text/html": [
              "<font color = red>Not_duplicate (88%)</font> --> <font color = green>Duplicate (81%)</font><br><font color = bold><font color = underline>Question1</font></font>: How do you close a Bank of America account?\n",
              "<font color = bold><font color = underline>Question2</font></font>: How can <font color = red>one</font> close a bank account <font color = red>online</font>?<br><font color = bold><font color = underline>Question1</font></font>: How do you close a Bank of America account?\n",
              "<font color = bold><font color = underline>Question2</font></font>: How can <font color = green>ffffffarm</font> close a bank account <font color = green>fertfriend</font>?"
            ],
            "text/plain": [
              "<IPython.core.display.HTML object>"
            ]
          },
          "metadata": {
            "tags": []
          }
        },
        {
          "output_type": "stream",
          "text": [
            "[Succeeded / Failed / Total] 10 / 15 / 27: : 27it [00:31,  1.16s/it]"
          ],
          "name": "stderr"
        },
        {
          "output_type": "stream",
          "text": [
            "+-------------------------------+--------+\n",
            "| Attack Results                |        |\n",
            "+-------------------------------+--------+\n",
            "| Number of successful attacks: | 10     |\n",
            "| Number of failed attacks:     | 15     |\n",
            "| Number of skipped attacks:    | 2      |\n",
            "| Original accuracy:            | 92.59% |\n",
            "| Accuracy under attack:        | 55.56% |\n",
            "| Attack success rate:          | 40.0%  |\n",
            "| Average perturbed word %:     | 9.11%  |\n",
            "| Average num. words per input: | 22.3   |\n",
            "| Avg num queries:              | 29.52  |\n",
            "+-------------------------------+--------+"
          ],
          "name": "stdout"
        },
        {
          "output_type": "stream",
          "text": [
            "\n",
            "\u001b[34;1mtextattack\u001b[0m: Attack time: 31.40264391899109s\n"
          ],
          "name": "stderr"
        }
      ]
    },
    {
      "cell_type": "markdown",
      "metadata": {
        "id": "DFoHgnBPtcAh"
      },
      "source": [
        "### FastText, ParticleSwarmOptimization, RepeatModification, StopwordModification"
      ]
    },
    {
      "cell_type": "code",
      "metadata": {
        "id": "8rK5QW2hnCiI",
        "colab": {
          "base_uri": "https://localhost:8080/"
        },
        "outputId": "41c508a9-487f-48f9-961f-08402bb217b4"
      },
      "source": [
        "from textattack.search_methods import ParticleSwarmOptimization\n",
        "\n",
        "\n",
        "# We're going to use our word swap class as the attack transformation.\n",
        "transformation = Swapper()\n",
        "\n",
        "constraints = [RepeatModification(),\n",
        "               StopwordModification()]\n",
        "\n",
        "search_method = ParticleSwarmOptimization(pop_size=10,max_iters=5,post_turn_check=True)\n",
        "\n",
        "goal_function = UntargetedClassification(model_wrapper)\n",
        "\n",
        "# Now, let's make the attack from the 4 components:\n",
        "attack = Attack(goal_function, constraints, transformation, search_method)"
      ],
      "execution_count": null,
      "outputs": [
        {
          "output_type": "stream",
          "text": [
            "\u001b[34;1mtextattack\u001b[0m: Unknown if model of class <class 'transformers.models.bert.modeling_bert.BertForSequenceClassification'> compatible with goal function <class 'textattack.goal_functions.classification.untargeted_classification.UntargetedClassification'>.\n"
          ],
          "name": "stderr"
        }
      ]
    },
    {
      "cell_type": "code",
      "metadata": {
        "id": "gUWI3gs9nzz2",
        "colab": {
          "base_uri": "https://localhost:8080/"
        },
        "outputId": "6f6da65e-9f76-49fe-c661-9e2bbc6c494d"
      },
      "source": [
        "print(attack)"
      ],
      "execution_count": null,
      "outputs": [
        {
          "output_type": "stream",
          "text": [
            "Attack(\n",
            "  (search_method): ParticleSwarmOptimization(\n",
            "    (pop_size):  10\n",
            "    (max_iters):  5\n",
            "    (post_turn_check):  True\n",
            "    (max_turn_retries):  20\n",
            "  )\n",
            "  (goal_function):  UntargetedClassification\n",
            "  (transformation):  Swapper\n",
            "  (constraints): \n",
            "    (0): RepeatModification\n",
            "    (1): StopwordModification\n",
            "  (is_black_box):  True\n",
            ")\n"
          ],
          "name": "stdout"
        }
      ]
    },
    {
      "cell_type": "code",
      "metadata": {
        "id": "eynxLKPCn2c7",
        "colab": {
          "base_uri": "https://localhost:8080/",
          "height": 1000
        },
        "outputId": "8294c401-4efe-49aa-994b-af2bb54e7c98"
      },
      "source": [
        "attack_stats(attack, dataset, 25)"
      ],
      "execution_count": null,
      "outputs": [
        {
          "output_type": "stream",
          "text": [
            "\r  0%|          | 0/25 [00:00<?, ?it/s]"
          ],
          "name": "stderr"
        },
        {
          "output_type": "stream",
          "text": [
            "Attack(\n",
            "  (search_method): ParticleSwarmOptimization(\n",
            "    (pop_size):  10\n",
            "    (max_iters):  5\n",
            "    (post_turn_check):  True\n",
            "    (max_turn_retries):  20\n",
            "  )\n",
            "  (goal_function):  UntargetedClassification\n",
            "  (transformation):  Swapper\n",
            "  (constraints): \n",
            "    (0): RepeatModification\n",
            "    (1): StopwordModification\n",
            "  (is_black_box):  True\n",
            ")\n"
          ],
          "name": "stdout"
        },
        {
          "output_type": "display_data",
          "data": {
            "text/html": [
              "<font color = red>Not_duplicate (100%)</font> --> <font color = red>[FAILED]</font><br><font color = bold><font color = underline>Question1</font></font>: Why are African-Americans so beautiful?\n",
              "<font color = bold><font color = underline>Question2</font></font>: Why are hispanics so beautiful?"
            ],
            "text/plain": [
              "<IPython.core.display.HTML object>"
            ]
          },
          "metadata": {
            "tags": []
          }
        },
        {
          "output_type": "stream",
          "text": [
            "[Succeeded / Failed / Total] 0 / 1 / 1:   4%|▍         | 1/25 [00:03<01:14,  3.11s/it]"
          ],
          "name": "stderr"
        },
        {
          "output_type": "display_data",
          "data": {
            "text/html": [
              "<font color = red>Not_duplicate (100%)</font> --> <font color = red>[FAILED]</font><br><font color = bold><font color = underline>Question1</font></font>: I want to pursue PhD in Computer Science about social network,what is the open problem in social networks?\n",
              "<font color = bold><font color = underline>Question2</font></font>: I handle social media for a non-profit. Should I start going to social media networking events? Are there any good ones in the bay area?"
            ],
            "text/plain": [
              "<IPython.core.display.HTML object>"
            ]
          },
          "metadata": {
            "tags": []
          }
        },
        {
          "output_type": "stream",
          "text": [
            "[Succeeded / Failed / Total] 0 / 2 / 2:   8%|▊         | 2/25 [01:08<13:06, 34.21s/it]"
          ],
          "name": "stderr"
        },
        {
          "output_type": "display_data",
          "data": {
            "text/html": [
              "<font color = green>Duplicate (97%)</font> --> <font color = red>Not_duplicate (91%)</font><br><font color = bold><font color = underline>Question1</font></font>: Is there a reason why we should travel <font color = green>alone</font>?\n",
              "<font color = bold><font color = underline>Question2</font></font>: What are some reasons to travel alone?<br><font color = bold><font color = underline>Question1</font></font>: Is there a reason why we should travel <font color = red>someone</font>?\n",
              "<font color = bold><font color = underline>Question2</font></font>: What are some reasons to travel alone?"
            ],
            "text/plain": [
              "<IPython.core.display.HTML object>"
            ]
          },
          "metadata": {
            "tags": []
          }
        },
        {
          "output_type": "stream",
          "text": [
            "[Succeeded / Failed / Total] 1 / 2 / 3:  12%|█▏        | 3/25 [01:09<08:26, 23.03s/it]"
          ],
          "name": "stderr"
        },
        {
          "output_type": "display_data",
          "data": {
            "text/html": [
              "<font color = red>Not_duplicate (100%)</font> --> <font color = red>[FAILED]</font><br><font color = bold><font color = underline>Question1</font></font>: Why are people so obsessed with having a girlfriend/boyfriend?\n",
              "<font color = bold><font color = underline>Question2</font></font>: How can a single male have a child?"
            ],
            "text/plain": [
              "<IPython.core.display.HTML object>"
            ]
          },
          "metadata": {
            "tags": []
          }
        },
        {
          "output_type": "stream",
          "text": [
            "[Succeeded / Failed / Total] 1 / 3 / 4:  16%|█▌        | 4/25 [01:15<06:37, 18.93s/it]"
          ],
          "name": "stderr"
        },
        {
          "output_type": "display_data",
          "data": {
            "text/html": [
              "<font color = red>Not_duplicate (94%)</font> --> <font color = green>Duplicate (69%)</font><br><font color = bold><font color = underline>Question1</font></font>: What are some good baby girl names starting with D?\n",
              "<font color = bold><font color = underline>Question2</font></font>: What are some good baby <font color = red>girl</font> names <font color = red>starting</font> with D or <font color = red>H</font>?<br><font color = bold><font color = underline>Question1</font></font>: What are some good baby girl names starting with D?\n",
              "<font color = bold><font color = underline>Question2</font></font>: What are some good baby <font color = green>woman</font> names <font color = green>farting</font> with D or <font color = green>QUE</font>?"
            ],
            "text/plain": [
              "<IPython.core.display.HTML object>"
            ]
          },
          "metadata": {
            "tags": []
          }
        },
        {
          "output_type": "stream",
          "text": [
            "[Succeeded / Failed / Total] 2 / 3 / 5:  20%|██        | 5/25 [01:22<05:31, 16.59s/it]"
          ],
          "name": "stderr"
        },
        {
          "output_type": "display_data",
          "data": {
            "text/html": [
              "<font color = green>Duplicate (99%)</font> --> <font color = red>Not_duplicate (90%)</font><br><font color = bold><font color = underline>Question1</font></font>: I am <font color = green>25</font> year old guy and never had a girlfriend. Is this weird?\n",
              "<font color = bold><font color = underline>Question2</font></font>: I am 25 years old. I have never had a girlfriend. Is something wrong with me?<br><font color = bold><font color = underline>Question1</font></font>: I am <font color = red>chmielnicki</font> year old guy and never had a girlfriend. Is this weird?\n",
              "<font color = bold><font color = underline>Question2</font></font>: I am 25 years old. I have never had a girlfriend. Is something wrong with me?"
            ],
            "text/plain": [
              "<IPython.core.display.HTML object>"
            ]
          },
          "metadata": {
            "tags": []
          }
        },
        {
          "output_type": "stream",
          "text": [
            "[Succeeded / Failed / Total] 3 / 3 / 6:  24%|██▍       | 6/25 [01:24<04:26, 14.04s/it]"
          ],
          "name": "stderr"
        },
        {
          "output_type": "display_data",
          "data": {
            "text/html": [
              "<font color = red>Not_duplicate (92%)</font> --> <font color = gray>[SKIPPED]</font><br><font color = bold><font color = underline>Question1</font></font>: \"What does a good answer on Quora look like? What does it mean to \"\"be helpful\"\"?\"\n",
              "<font color = bold><font color = underline>Question2</font></font>: How do you write a good answer on Quora?"
            ],
            "text/plain": [
              "<IPython.core.display.HTML object>"
            ]
          },
          "metadata": {
            "tags": []
          }
        },
        {
          "output_type": "stream",
          "text": [
            "\r[Succeeded / Failed / Total] 3 / 3 / 7:  28%|██▊       | 7/25 [01:24<03:36, 12.04s/it]"
          ],
          "name": "stderr"
        },
        {
          "output_type": "display_data",
          "data": {
            "text/html": [
              "<font color = green>Duplicate (54%)</font> --> <font color = red>Not_duplicate (99%)</font><br><font color = bold><font color = underline>Question1</font></font>: What are the best things to do in <font color = green>Hong</font> Kong?\n",
              "<font color = bold><font color = underline>Question2</font></font>: What is the best thing in Hong Kong?<br><font color = bold><font color = underline>Question1</font></font>: What are the best things to do in <font color = red>Yong</font> Kong?\n",
              "<font color = bold><font color = underline>Question2</font></font>: What is the best thing in Hong Kong?"
            ],
            "text/plain": [
              "<IPython.core.display.HTML object>"
            ]
          },
          "metadata": {
            "tags": []
          }
        },
        {
          "output_type": "stream",
          "text": [
            "[Succeeded / Failed / Total] 4 / 3 / 8:  32%|███▏      | 8/25 [01:24<03:00, 10.62s/it]"
          ],
          "name": "stderr"
        },
        {
          "output_type": "display_data",
          "data": {
            "text/html": [
              "<font color = green>Duplicate (84%)</font> --> <font color = gray>[SKIPPED]</font><br><font color = bold><font color = underline>Question1</font></font>: Why is my life getting so complicated?\n",
              "<font color = bold><font color = underline>Question2</font></font>: Why is my life so complicated?"
            ],
            "text/plain": [
              "<IPython.core.display.HTML object>"
            ]
          },
          "metadata": {
            "tags": []
          }
        },
        {
          "output_type": "stream",
          "text": [
            "\r[Succeeded / Failed / Total] 4 / 3 / 9:  36%|███▌      | 9/25 [01:24<02:31,  9.44s/it]"
          ],
          "name": "stderr"
        },
        {
          "output_type": "display_data",
          "data": {
            "text/html": [
              "<font color = red>Not_duplicate (100%)</font> --> <font color = red>[FAILED]</font><br><font color = bold><font color = underline>Question1</font></font>: Why should I crack Jee?\n",
              "<font color = bold><font color = underline>Question2</font></font>: Is it possible to get into IIMs with low marks in graduation and 12th?"
            ],
            "text/plain": [
              "<IPython.core.display.HTML object>"
            ]
          },
          "metadata": {
            "tags": []
          }
        },
        {
          "output_type": "stream",
          "text": [
            "[Succeeded / Failed / Total] 4 / 4 / 10:  40%|████      | 10/25 [01:33<02:20,  9.36s/it]"
          ],
          "name": "stderr"
        },
        {
          "output_type": "display_data",
          "data": {
            "text/html": [
              "<font color = red>Not_duplicate (100%)</font> --> <font color = red>[FAILED]</font><br><font color = bold><font color = underline>Question1</font></font>: Can you TRANSLATE these to English language?\n",
              "<font color = bold><font color = underline>Question2</font></font>: Can you translate this from Bengali to English language?"
            ],
            "text/plain": [
              "<IPython.core.display.HTML object>"
            ]
          },
          "metadata": {
            "tags": []
          }
        },
        {
          "output_type": "stream",
          "text": [
            "[Succeeded / Failed / Total] 4 / 5 / 11:  44%|████▍     | 11/25 [01:50<02:20, 10.00s/it]"
          ],
          "name": "stderr"
        },
        {
          "output_type": "display_data",
          "data": {
            "text/html": [
              "<font color = red>Not_duplicate (100%)</font> --> <font color = red>[FAILED]</font><br><font color = bold><font color = underline>Question1</font></font>: Can anyone tell shall mi mix mobile should be purchased or not?\n",
              "<font color = bold><font color = underline>Question2</font></font>: \"What did Voltaire mean when he said, \"\"God is a comedian playing to an audience that is too afraid to laugh\"\"?\""
            ],
            "text/plain": [
              "<IPython.core.display.HTML object>"
            ]
          },
          "metadata": {
            "tags": []
          }
        },
        {
          "output_type": "stream",
          "text": [
            "[Succeeded / Failed / Total] 4 / 6 / 12:  48%|████▊     | 12/25 [02:10<02:21, 10.88s/it]"
          ],
          "name": "stderr"
        },
        {
          "output_type": "display_data",
          "data": {
            "text/html": [
              "<font color = green>Duplicate (100%)</font> --> <font color = red>Not_duplicate (67%)</font><br><font color = bold><font color = underline>Question1</font></font>: Which is the best gaming laptop under 40k?\n",
              "<font color = bold><font color = underline>Question2</font></font>: Which is the best gaming laptop under <font color = green>40</font>,000 rs?<br><font color = bold><font color = underline>Question1</font></font>: Which is the best gaming laptop under 40k?\n",
              "<font color = bold><font color = underline>Question2</font></font>: Which is the best gaming laptop under <font color = red>undo</font>,000 rs?"
            ],
            "text/plain": [
              "<IPython.core.display.HTML object>"
            ]
          },
          "metadata": {
            "tags": []
          }
        },
        {
          "output_type": "stream",
          "text": [
            "[Succeeded / Failed / Total] 5 / 6 / 13:  52%|█████▏    | 13/25 [02:11<02:01, 10.11s/it]"
          ],
          "name": "stderr"
        },
        {
          "output_type": "display_data",
          "data": {
            "text/html": [
              "<font color = red>Not_duplicate (100%)</font> --> <font color = red>[FAILED]</font><br><font color = bold><font color = underline>Question1</font></font>: Why Tamil Nadu Universities are no good?\n",
              "<font color = bold><font color = underline>Question2</font></font>: Why are the 10th students able to score 100% in Tamil Nadu?"
            ],
            "text/plain": [
              "<IPython.core.display.HTML object>"
            ]
          },
          "metadata": {
            "tags": []
          }
        },
        {
          "output_type": "stream",
          "text": [
            "[Succeeded / Failed / Total] 5 / 7 / 14:  56%|█████▌    | 14/25 [02:23<01:52, 10.25s/it]"
          ],
          "name": "stderr"
        },
        {
          "output_type": "display_data",
          "data": {
            "text/html": [
              "<font color = red>Not_duplicate (100%)</font> --> <font color = red>[FAILED]</font><br><font color = bold><font color = underline>Question1</font></font>: What is an easy way to clean toothpaste stains from a shirt without washing it?\n",
              "<font color = bold><font color = underline>Question2</font></font>: What are some ways to remove hard water stains from dishes?"
            ],
            "text/plain": [
              "<IPython.core.display.HTML object>"
            ]
          },
          "metadata": {
            "tags": []
          }
        },
        {
          "output_type": "stream",
          "text": [
            "[Succeeded / Failed / Total] 5 / 8 / 15:  60%|██████    | 15/25 [02:40<01:46, 10.69s/it]"
          ],
          "name": "stderr"
        },
        {
          "output_type": "display_data",
          "data": {
            "text/html": [
              "<font color = green>Duplicate (96%)</font> --> <font color = red>Not_duplicate (99%)</font><br><font color = bold><font color = underline>Question1</font></font>: What was the <font color = green>deadliest</font> battle in history?\n",
              "<font color = bold><font color = underline>Question2</font></font>: What was the bloodiest battle in history?<br><font color = bold><font color = underline>Question1</font></font>: What was the <font color = red>ugliest</font> battle in history?\n",
              "<font color = bold><font color = underline>Question2</font></font>: What was the bloodiest battle in history?"
            ],
            "text/plain": [
              "<IPython.core.display.HTML object>"
            ]
          },
          "metadata": {
            "tags": []
          }
        },
        {
          "output_type": "stream",
          "text": [
            "[Succeeded / Failed / Total] 6 / 8 / 16:  64%|██████▍   | 16/25 [02:40<01:30, 10.06s/it]"
          ],
          "name": "stderr"
        },
        {
          "output_type": "display_data",
          "data": {
            "text/html": [
              "<font color = green>Duplicate (99%)</font> --> <font color = red>Not_duplicate (99%)</font><br><font color = bold><font color = underline>Question1</font></font>: What are your views about demonetisation in <font color = green>India</font>?\n",
              "<font color = bold><font color = underline>Question2</font></font>: What do you think about the ban on 500 and 1000 denomination notes in India?<br><font color = bold><font color = underline>Question1</font></font>: What are your views about demonetisation in <font color = red>Ndia</font>?\n",
              "<font color = bold><font color = underline>Question2</font></font>: What do you think about the ban on 500 and 1000 denomination notes in India?"
            ],
            "text/plain": [
              "<IPython.core.display.HTML object>"
            ]
          },
          "metadata": {
            "tags": []
          }
        },
        {
          "output_type": "stream",
          "text": [
            "[Succeeded / Failed / Total] 7 / 8 / 17:  68%|██████▊   | 17/25 [02:41<01:16,  9.51s/it]"
          ],
          "name": "stderr"
        },
        {
          "output_type": "display_data",
          "data": {
            "text/html": [
              "<font color = red>Not_duplicate (100%)</font> --> <font color = red>[FAILED]</font><br><font color = bold><font color = underline>Question1</font></font>: What are the difference between polyester 210T and 210D?\n",
              "<font color = bold><font color = underline>Question2</font></font>: What is the difference between cotton and polyester?"
            ],
            "text/plain": [
              "<IPython.core.display.HTML object>"
            ]
          },
          "metadata": {
            "tags": []
          }
        },
        {
          "output_type": "stream",
          "text": [
            "[Succeeded / Failed / Total] 7 / 9 / 18:  72%|███████▏  | 18/25 [02:52<01:06,  9.56s/it]"
          ],
          "name": "stderr"
        },
        {
          "output_type": "display_data",
          "data": {
            "text/html": [
              "<font color = red>Not_duplicate (99%)</font> --> <font color = green>Duplicate (59%)</font><br><font color = bold><font color = underline>Question1</font></font>: Is FMS Delhi a good option for a MBA executive <font color = red>program</font>?\n",
              "<font color = bold><font color = underline>Question2</font></font>: <font color = red>Is</font> FMS a good choice for an MBA in <font color = red>HR</font>? Why and why not?<br><font color = bold><font color = underline>Question1</font></font>: Is FMS Delhi a good option for a MBA executive <font color = green>prog</font>?\n",
              "<font color = bold><font color = underline>Question2</font></font>: <font color = green>Larva</font> FMS a good choice for an MBA in <font color = green>GLORY</font>? Why and why not?"
            ],
            "text/plain": [
              "<IPython.core.display.HTML object>"
            ]
          },
          "metadata": {
            "tags": []
          }
        },
        {
          "output_type": "stream",
          "text": [
            "[Succeeded / Failed / Total] 8 / 9 / 19:  76%|███████▌  | 19/25 [02:55<00:55,  9.23s/it]"
          ],
          "name": "stderr"
        },
        {
          "output_type": "display_data",
          "data": {
            "text/html": [
              "<font color = green>Duplicate (91%)</font> --> <font color = red>Not_duplicate (100%)</font><br><font color = bold><font color = underline>Question1</font></font>: Is it a bad time to buy a condo or a house in the Bay Area in <font color = green>2017</font>?\n",
              "<font color = bold><font color = underline>Question2</font></font>: Would 2017 be a good time to buy a house in Bay Area?<br><font color = bold><font color = underline>Question1</font></font>: Is it a bad time to buy a condo or a house in the Bay Area in <font color = red>prosecute</font>?\n",
              "<font color = bold><font color = underline>Question2</font></font>: Would 2017 be a good time to buy a house in Bay Area?"
            ],
            "text/plain": [
              "<IPython.core.display.HTML object>"
            ]
          },
          "metadata": {
            "tags": []
          }
        },
        {
          "output_type": "stream",
          "text": [
            "[Succeeded / Failed / Total] 9 / 9 / 20:  80%|████████  | 20/25 [02:56<00:44,  8.82s/it]"
          ],
          "name": "stderr"
        },
        {
          "output_type": "display_data",
          "data": {
            "text/html": [
              "<font color = red>Not_duplicate (100%)</font> --> <font color = green>Duplicate (96%)</font><br><font color = bold><font color = underline>Question1</font></font>: <font color = red>How</font> is vanilla <font color = red>extract</font> made?\n",
              "<font color = bold><font color = underline>Question2</font></font>: <font color = red>How</font> do you make sugar <font color = red>cookies</font> <font color = red>without</font> vanilla <font color = red>extract</font>?<br><font color = bold><font color = underline>Question1</font></font>: <font color = green>Kowtow</font> is vanilla <font color = green>extracode</font> made?\n",
              "<font color = bold><font color = underline>Question2</font></font>: <font color = green>Kowtow</font> do you make sugar <font color = green>cookie</font> <font color = green>any</font> vanilla <font color = green>extracode</font>?"
            ],
            "text/plain": [
              "<IPython.core.display.HTML object>"
            ]
          },
          "metadata": {
            "tags": []
          }
        },
        {
          "output_type": "stream",
          "text": [
            "[Succeeded / Failed / Total] 10 / 9 / 21:  84%|████████▍ | 21/25 [02:59<00:34,  8.54s/it]"
          ],
          "name": "stderr"
        },
        {
          "output_type": "display_data",
          "data": {
            "text/html": [
              "<font color = green>Duplicate (100%)</font> --> <font color = red>Not_duplicate (66%)</font><br><font color = bold><font color = underline>Question1</font></font>: What is the <font color = green>Sahara</font>, and how do the average temperatures there compare to the ones in the Patagonian Desert?\n",
              "<font color = bold><font color = underline>Question2</font></font>: <font color = green>What</font> is the Sahara, and how do the average temperatures there compare to the ones in the <font color = green>Registan</font> Desert?<br><font color = bold><font color = underline>Question1</font></font>: What is the <font color = red>Zahara</font>, and how do the average temperatures there compare to the ones in the Patagonian Desert?\n",
              "<font color = bold><font color = underline>Question2</font></font>: <font color = red>Hihat</font> is the Sahara, and how do the average temperatures there compare to the ones in the <font color = red>Waziristan</font> Desert?"
            ],
            "text/plain": [
              "<IPython.core.display.HTML object>"
            ]
          },
          "metadata": {
            "tags": []
          }
        },
        {
          "output_type": "stream",
          "text": [
            "[Succeeded / Failed / Total] 11 / 9 / 22:  88%|████████▊ | 22/25 [03:02<00:24,  8.28s/it]"
          ],
          "name": "stderr"
        },
        {
          "output_type": "display_data",
          "data": {
            "text/html": [
              "<font color = red>Not_duplicate (100%)</font> --> <font color = red>[FAILED]</font><br><font color = bold><font color = underline>Question1</font></font>: Why was the Roman Empire so successful?\n",
              "<font color = bold><font color = underline>Question2</font></font>: What are some of the rarely known facts about the Roman Empire?"
            ],
            "text/plain": [
              "<IPython.core.display.HTML object>"
            ]
          },
          "metadata": {
            "tags": []
          }
        },
        {
          "output_type": "stream",
          "text": [
            "[Succeeded / Failed / Total] 11 / 10 / 23:  92%|█████████▏| 23/25 [03:09<00:16,  8.24s/it]"
          ],
          "name": "stderr"
        },
        {
          "output_type": "display_data",
          "data": {
            "text/html": [
              "<font color = red>Not_duplicate (100%)</font> --> <font color = green>Duplicate (77%)</font><br><font color = bold><font color = underline>Question1</font></font>: <font color = red>Is</font> it advisable to <font color = red>sent</font> your cv to a professor with whom you are trying to make contact for graduate admission?\n",
              "<font color = bold><font color = underline>Question2</font></font>: <font color = red>How</font> does <font color = red>contacting</font> a professor before applying factor into graduate <font color = red>admissions</font>?<br><font color = bold><font color = underline>Question1</font></font>: <font color = green>Larva</font> it advisable to <font color = green>alerted</font> your cv to a professor with whom you are trying to make contact for graduate admission?\n",
              "<font color = bold><font color = underline>Question2</font></font>: <font color = green>Kowtow</font> does <font color = green>contact</font> a professor before applying factor into graduate <font color = green>admission</font>?"
            ],
            "text/plain": [
              "<IPython.core.display.HTML object>"
            ]
          },
          "metadata": {
            "tags": []
          }
        },
        {
          "output_type": "stream",
          "text": [
            "[Succeeded / Failed / Total] 12 / 10 / 24:  96%|█████████▌| 24/25 [03:21<00:08,  8.39s/it]"
          ],
          "name": "stderr"
        },
        {
          "output_type": "display_data",
          "data": {
            "text/html": [
              "<font color = red>Not_duplicate (100%)</font> --> <font color = red>[FAILED]</font><br><font color = bold><font color = underline>Question1</font></font>: Does a RainTPL syntax extension for Sublime Text exist? Where can I download it?\n",
              "<font color = bold><font color = underline>Question2</font></font>: How do I hide the find/replace bar in Sublime Text 2?"
            ],
            "text/plain": [
              "<IPython.core.display.HTML object>"
            ]
          },
          "metadata": {
            "tags": []
          }
        },
        {
          "output_type": "stream",
          "text": [
            "[Succeeded / Failed / Total] 12 / 11 / 25: 100%|██████████| 25/25 [03:55<00:00,  9.42s/it]"
          ],
          "name": "stderr"
        },
        {
          "output_type": "display_data",
          "data": {
            "text/html": [
              "<font color = red>Not_duplicate (100%)</font> --> <font color = red>[FAILED]</font><br><font color = bold><font color = underline>Question1</font></font>: What is the average salary of a microbiologist in India?\n",
              "<font color = bold><font color = underline>Question2</font></font>: What is the salary for a psychologist in india?"
            ],
            "text/plain": [
              "<IPython.core.display.HTML object>"
            ]
          },
          "metadata": {
            "tags": []
          }
        },
        {
          "output_type": "stream",
          "text": [
            "[Succeeded / Failed / Total] 12 / 12 / 26: : 26it [04:02,  9.34s/it]"
          ],
          "name": "stderr"
        },
        {
          "output_type": "display_data",
          "data": {
            "text/html": [
              "<font color = red>Not_duplicate (88%)</font> --> <font color = green>Duplicate (55%)</font><br><font color = bold><font color = underline>Question1</font></font>: How do you <font color = red>close</font> a Bank of America account?\n",
              "<font color = bold><font color = underline>Question2</font></font>: <font color = red>How</font> can one <font color = red>close</font> a bank account online?<br><font color = bold><font color = underline>Question1</font></font>: How do you <font color = green>headstrong</font> a Bank of America account?\n",
              "<font color = bold><font color = underline>Question2</font></font>: <font color = green>Kowtow</font> can one <font color = green>headstrong</font> a bank account online?"
            ],
            "text/plain": [
              "<IPython.core.display.HTML object>"
            ]
          },
          "metadata": {
            "tags": []
          }
        },
        {
          "output_type": "stream",
          "text": [
            "[Succeeded / Failed / Total] 13 / 12 / 27: : 27it [04:09,  9.24s/it]"
          ],
          "name": "stderr"
        },
        {
          "output_type": "stream",
          "text": [
            "+-------------------------------+--------+\n",
            "| Attack Results                |        |\n",
            "+-------------------------------+--------+\n",
            "| Number of successful attacks: | 13     |\n",
            "| Number of failed attacks:     | 12     |\n",
            "| Number of skipped attacks:    | 2      |\n",
            "| Original accuracy:            | 92.59% |\n",
            "| Accuracy under attack:        | 44.44% |\n",
            "| Attack success rate:          | 52.0%  |\n",
            "| Average perturbed word %:     | 11.16% |\n",
            "| Average num. words per input: | 22.3   |\n",
            "| Avg num queries:              | 298.68 |\n",
            "+-------------------------------+--------+"
          ],
          "name": "stdout"
        },
        {
          "output_type": "stream",
          "text": [
            "\n",
            "\u001b[34;1mtextattack\u001b[0m: Attack time: 249.42525839805603s\n"
          ],
          "name": "stderr"
        }
      ]
    },
    {
      "cell_type": "markdown",
      "metadata": {
        "id": "uTFqDVMctjIF"
      },
      "source": [
        "### Word2Vec, ParticleSwarmOptimization, RepeatModification, StopwordModification"
      ]
    },
    {
      "cell_type": "code",
      "metadata": {
        "id": "nGlixEC_n5vA",
        "colab": {
          "base_uri": "https://localhost:8080/"
        },
        "outputId": "f3a27b57-dd35-4876-fdce-f9bbb42c8db3"
      },
      "source": [
        "# We're going to use our word swap class as the attack transformation.\n",
        "transformation = Swapper_()\n",
        "\n",
        "constraints = [RepeatModification(),\n",
        "               StopwordModification()]\n",
        "\n",
        "search_method = ParticleSwarmOptimization(pop_size=10,max_iters=5,post_turn_check=True)\n",
        "\n",
        "goal_function = UntargetedClassification(model_wrapper)\n",
        "\n",
        "# Now, let's make the attack from the 4 components:\n",
        "attack = Attack(goal_function, constraints, transformation, search_method)"
      ],
      "execution_count": null,
      "outputs": [
        {
          "output_type": "stream",
          "text": [
            "\u001b[34;1mtextattack\u001b[0m: Unknown if model of class <class 'transformers.models.bert.modeling_bert.BertForSequenceClassification'> compatible with goal function <class 'textattack.goal_functions.classification.untargeted_classification.UntargetedClassification'>.\n"
          ],
          "name": "stderr"
        }
      ]
    },
    {
      "cell_type": "code",
      "metadata": {
        "id": "xnYmPzWPpj7Q",
        "colab": {
          "base_uri": "https://localhost:8080/"
        },
        "outputId": "5de2491a-fd5f-4c41-9a87-34baf2bcbe04"
      },
      "source": [
        "print(attack)"
      ],
      "execution_count": null,
      "outputs": [
        {
          "output_type": "stream",
          "text": [
            "Attack(\n",
            "  (search_method): ParticleSwarmOptimization(\n",
            "    (pop_size):  10\n",
            "    (max_iters):  5\n",
            "    (post_turn_check):  True\n",
            "    (max_turn_retries):  20\n",
            "  )\n",
            "  (goal_function):  UntargetedClassification\n",
            "  (transformation):  Swapper_\n",
            "  (constraints): \n",
            "    (0): RepeatModification\n",
            "    (1): StopwordModification\n",
            "  (is_black_box):  True\n",
            ")\n"
          ],
          "name": "stdout"
        }
      ]
    },
    {
      "cell_type": "code",
      "metadata": {
        "id": "UpPST74lpyiu",
        "colab": {
          "base_uri": "https://localhost:8080/",
          "height": 1000
        },
        "outputId": "5ed55122-b161-4c8b-e2ad-0a2e40408719"
      },
      "source": [
        "attack_stats(attack, dataset, 25)"
      ],
      "execution_count": null,
      "outputs": [
        {
          "output_type": "stream",
          "text": [
            "\r  0%|          | 0/25 [00:00<?, ?it/s]"
          ],
          "name": "stderr"
        },
        {
          "output_type": "stream",
          "text": [
            "Attack(\n",
            "  (search_method): ParticleSwarmOptimization(\n",
            "    (pop_size):  10\n",
            "    (max_iters):  5\n",
            "    (post_turn_check):  True\n",
            "    (max_turn_retries):  20\n",
            "  )\n",
            "  (goal_function):  UntargetedClassification\n",
            "  (transformation):  Swapper_\n",
            "  (constraints): \n",
            "    (0): RepeatModification\n",
            "    (1): StopwordModification\n",
            "  (is_black_box):  True\n",
            ")\n"
          ],
          "name": "stdout"
        },
        {
          "output_type": "display_data",
          "data": {
            "text/html": [
              "<font color = red>Not_duplicate (100%)</font> --> <font color = red>[FAILED]</font><br><font color = bold><font color = underline>Question1</font></font>: Why are African-Americans so beautiful?\n",
              "<font color = bold><font color = underline>Question2</font></font>: Why are hispanics so beautiful?"
            ],
            "text/plain": [
              "<IPython.core.display.HTML object>"
            ]
          },
          "metadata": {
            "tags": []
          }
        },
        {
          "output_type": "stream",
          "text": [
            "[Succeeded / Failed / Total] 0 / 1 / 1:   4%|▍         | 1/25 [00:00<00:20,  1.18it/s]"
          ],
          "name": "stderr"
        },
        {
          "output_type": "display_data",
          "data": {
            "text/html": [
              "<font color = red>Not_duplicate (100%)</font> --> <font color = red>[FAILED]</font><br><font color = bold><font color = underline>Question1</font></font>: I want to pursue PhD in Computer Science about social network,what is the open problem in social networks?\n",
              "<font color = bold><font color = underline>Question2</font></font>: I handle social media for a non-profit. Should I start going to social media networking events? Are there any good ones in the bay area?"
            ],
            "text/plain": [
              "<IPython.core.display.HTML object>"
            ]
          },
          "metadata": {
            "tags": []
          }
        },
        {
          "output_type": "stream",
          "text": [
            "[Succeeded / Failed / Total] 0 / 2 / 2:   8%|▊         | 2/25 [00:31<06:00, 15.69s/it]"
          ],
          "name": "stderr"
        },
        {
          "output_type": "display_data",
          "data": {
            "text/html": [
              "<font color = green>Duplicate (97%)</font> --> <font color = red>Not_duplicate (97%)</font><br><font color = bold><font color = underline>Question1</font></font>: Is there a reason why we should travel alone?\n",
              "<font color = bold><font color = underline>Question2</font></font>: What are some reasons to travel <font color = green>alone</font>?<br><font color = bold><font color = underline>Question1</font></font>: Is there a reason why we should travel alone?\n",
              "<font color = bold><font color = underline>Question2</font></font>: What are some reasons to travel <font color = red>eternally</font>?"
            ],
            "text/plain": [
              "<IPython.core.display.HTML object>"
            ]
          },
          "metadata": {
            "tags": []
          }
        },
        {
          "output_type": "stream",
          "text": [
            "[Succeeded / Failed / Total] 1 / 2 / 3:  12%|█▏        | 3/25 [00:31<03:53, 10.60s/it]"
          ],
          "name": "stderr"
        },
        {
          "output_type": "display_data",
          "data": {
            "text/html": [
              "<font color = red>Not_duplicate (100%)</font> --> <font color = red>[FAILED]</font><br><font color = bold><font color = underline>Question1</font></font>: Why are people so obsessed with having a girlfriend/boyfriend?\n",
              "<font color = bold><font color = underline>Question2</font></font>: How can a single male have a child?"
            ],
            "text/plain": [
              "<IPython.core.display.HTML object>"
            ]
          },
          "metadata": {
            "tags": []
          }
        },
        {
          "output_type": "stream",
          "text": [
            "[Succeeded / Failed / Total] 1 / 3 / 4:  16%|█▌        | 4/25 [00:36<03:14,  9.25s/it]"
          ],
          "name": "stderr"
        },
        {
          "output_type": "display_data",
          "data": {
            "text/html": [
              "<font color = red>Not_duplicate (94%)</font> --> <font color = red>[FAILED]</font><br><font color = bold><font color = underline>Question1</font></font>: What are some good baby girl names starting with D?\n",
              "<font color = bold><font color = underline>Question2</font></font>: What are some good baby girl names starting with D or H?"
            ],
            "text/plain": [
              "<IPython.core.display.HTML object>"
            ]
          },
          "metadata": {
            "tags": []
          }
        },
        {
          "output_type": "stream",
          "text": [
            "[Succeeded / Failed / Total] 1 / 4 / 5:  20%|██        | 5/25 [00:45<03:00,  9.03s/it]"
          ],
          "name": "stderr"
        },
        {
          "output_type": "display_data",
          "data": {
            "text/html": [
              "<font color = green>Duplicate (99%)</font> --> <font color = red>Not_duplicate (58%)</font><br><font color = bold><font color = underline>Question1</font></font>: I am 25 year old guy and <font color = green>never</font> had a girlfriend. Is this weird?\n",
              "<font color = bold><font color = underline>Question2</font></font>: I am 25 years old. I have never had a girlfriend. Is something wrong with me?<br><font color = bold><font color = underline>Question1</font></font>: I am 25 year old guy and <font color = red>already</font> had a girlfriend. Is this weird?\n",
              "<font color = bold><font color = underline>Question2</font></font>: I am 25 years old. I have never had a girlfriend. Is something wrong with me?"
            ],
            "text/plain": [
              "<IPython.core.display.HTML object>"
            ]
          },
          "metadata": {
            "tags": []
          }
        },
        {
          "output_type": "stream",
          "text": [
            "[Succeeded / Failed / Total] 2 / 4 / 6:  24%|██▍       | 6/25 [00:45<02:25,  7.65s/it]"
          ],
          "name": "stderr"
        },
        {
          "output_type": "display_data",
          "data": {
            "text/html": [
              "<font color = red>Not_duplicate (92%)</font> --> <font color = gray>[SKIPPED]</font><br><font color = bold><font color = underline>Question1</font></font>: \"What does a good answer on Quora look like? What does it mean to \"\"be helpful\"\"?\"\n",
              "<font color = bold><font color = underline>Question2</font></font>: How do you write a good answer on Quora?"
            ],
            "text/plain": [
              "<IPython.core.display.HTML object>"
            ]
          },
          "metadata": {
            "tags": []
          }
        },
        {
          "output_type": "stream",
          "text": [
            "\r[Succeeded / Failed / Total] 2 / 4 / 7:  28%|██▊       | 7/25 [00:45<01:58,  6.56s/it]"
          ],
          "name": "stderr"
        },
        {
          "output_type": "display_data",
          "data": {
            "text/html": [
              "<font color = green>Duplicate (54%)</font> --> <font color = red>Not_duplicate (100%)</font><br><font color = bold><font color = underline>Question1</font></font>: What are the best things to do in Hong Kong?\n",
              "<font color = bold><font color = underline>Question2</font></font>: What is the <font color = green>best</font> thing in Hong Kong?<br><font color = bold><font color = underline>Question1</font></font>: What are the best things to do in Hong Kong?\n",
              "<font color = bold><font color = underline>Question2</font></font>: What is the <font color = red>filmfare</font> thing in Hong Kong?"
            ],
            "text/plain": [
              "<IPython.core.display.HTML object>"
            ]
          },
          "metadata": {
            "tags": []
          }
        },
        {
          "output_type": "stream",
          "text": [
            "[Succeeded / Failed / Total] 3 / 4 / 8:  32%|███▏      | 8/25 [00:46<01:38,  5.78s/it]"
          ],
          "name": "stderr"
        },
        {
          "output_type": "display_data",
          "data": {
            "text/html": [
              "<font color = green>Duplicate (84%)</font> --> <font color = gray>[SKIPPED]</font><br><font color = bold><font color = underline>Question1</font></font>: Why is my life getting so complicated?\n",
              "<font color = bold><font color = underline>Question2</font></font>: Why is my life so complicated?"
            ],
            "text/plain": [
              "<IPython.core.display.HTML object>"
            ]
          },
          "metadata": {
            "tags": []
          }
        },
        {
          "output_type": "stream",
          "text": [
            "\r[Succeeded / Failed / Total] 3 / 4 / 9:  36%|███▌      | 9/25 [00:46<01:22,  5.15s/it]"
          ],
          "name": "stderr"
        },
        {
          "output_type": "display_data",
          "data": {
            "text/html": [
              "<font color = red>Not_duplicate (100%)</font> --> <font color = red>[FAILED]</font><br><font color = bold><font color = underline>Question1</font></font>: Why should I crack Jee?\n",
              "<font color = bold><font color = underline>Question2</font></font>: Is it possible to get into IIMs with low marks in graduation and 12th?"
            ],
            "text/plain": [
              "<IPython.core.display.HTML object>"
            ]
          },
          "metadata": {
            "tags": []
          }
        },
        {
          "output_type": "stream",
          "text": [
            "[Succeeded / Failed / Total] 3 / 5 / 10:  40%|████      | 10/25 [00:48<01:12,  4.86s/it]"
          ],
          "name": "stderr"
        },
        {
          "output_type": "display_data",
          "data": {
            "text/html": [
              "<font color = red>Not_duplicate (100%)</font> --> <font color = red>[FAILED]</font><br><font color = bold><font color = underline>Question1</font></font>: Can you TRANSLATE these to English language?\n",
              "<font color = bold><font color = underline>Question2</font></font>: Can you translate this from Bengali to English language?"
            ],
            "text/plain": [
              "<IPython.core.display.HTML object>"
            ]
          },
          "metadata": {
            "tags": []
          }
        },
        {
          "output_type": "stream",
          "text": [
            "[Succeeded / Failed / Total] 3 / 6 / 11:  44%|████▍     | 11/25 [01:00<01:16,  5.45s/it]"
          ],
          "name": "stderr"
        },
        {
          "output_type": "display_data",
          "data": {
            "text/html": [
              "<font color = red>Not_duplicate (100%)</font> --> <font color = red>[FAILED]</font><br><font color = bold><font color = underline>Question1</font></font>: Can anyone tell shall mi mix mobile should be purchased or not?\n",
              "<font color = bold><font color = underline>Question2</font></font>: \"What did Voltaire mean when he said, \"\"God is a comedian playing to an audience that is too afraid to laugh\"\"?\""
            ],
            "text/plain": [
              "<IPython.core.display.HTML object>"
            ]
          },
          "metadata": {
            "tags": []
          }
        },
        {
          "output_type": "stream",
          "text": [
            "[Succeeded / Failed / Total] 3 / 7 / 12:  48%|████▊     | 12/25 [01:07<01:13,  5.65s/it]"
          ],
          "name": "stderr"
        },
        {
          "output_type": "display_data",
          "data": {
            "text/html": [
              "<font color = green>Duplicate (100%)</font> --> <font color = red>Not_duplicate (69%)</font><br><font color = bold><font color = underline>Question1</font></font>: Which is the <font color = green>best</font> gaming laptop under 40k?\n",
              "<font color = bold><font color = underline>Question2</font></font>: Which is the best gaming laptop under 40,000 rs?<br><font color = bold><font color = underline>Question1</font></font>: Which is the <font color = red>filmfare</font> gaming laptop under 40k?\n",
              "<font color = bold><font color = underline>Question2</font></font>: Which is the best gaming laptop under 40,000 rs?"
            ],
            "text/plain": [
              "<IPython.core.display.HTML object>"
            ]
          },
          "metadata": {
            "tags": []
          }
        },
        {
          "output_type": "stream",
          "text": [
            "[Succeeded / Failed / Total] 4 / 7 / 13:  52%|█████▏    | 13/25 [01:08<01:03,  5.25s/it]"
          ],
          "name": "stderr"
        },
        {
          "output_type": "display_data",
          "data": {
            "text/html": [
              "<font color = red>Not_duplicate (100%)</font> --> <font color = red>[FAILED]</font><br><font color = bold><font color = underline>Question1</font></font>: Why Tamil Nadu Universities are no good?\n",
              "<font color = bold><font color = underline>Question2</font></font>: Why are the 10th students able to score 100% in Tamil Nadu?"
            ],
            "text/plain": [
              "<IPython.core.display.HTML object>"
            ]
          },
          "metadata": {
            "tags": []
          }
        },
        {
          "output_type": "stream",
          "text": [
            "[Succeeded / Failed / Total] 4 / 8 / 14:  56%|█████▌    | 14/25 [01:09<00:54,  4.96s/it]"
          ],
          "name": "stderr"
        },
        {
          "output_type": "display_data",
          "data": {
            "text/html": [
              "<font color = red>Not_duplicate (100%)</font> --> <font color = red>[FAILED]</font><br><font color = bold><font color = underline>Question1</font></font>: What is an easy way to clean toothpaste stains from a shirt without washing it?\n",
              "<font color = bold><font color = underline>Question2</font></font>: What are some ways to remove hard water stains from dishes?"
            ],
            "text/plain": [
              "<IPython.core.display.HTML object>"
            ]
          },
          "metadata": {
            "tags": []
          }
        },
        {
          "output_type": "stream",
          "text": [
            "[Succeeded / Failed / Total] 4 / 9 / 15:  60%|██████    | 15/25 [01:18<00:52,  5.25s/it]"
          ],
          "name": "stderr"
        },
        {
          "output_type": "display_data",
          "data": {
            "text/html": [
              "<font color = green>Duplicate (96%)</font> --> <font color = red>Not_duplicate (100%)</font><br><font color = bold><font color = underline>Question1</font></font>: What was the deadliest battle in history?\n",
              "<font color = bold><font color = underline>Question2</font></font>: What was the <font color = green>bloodiest</font> battle in history?<br><font color = bold><font color = underline>Question1</font></font>: What was the deadliest battle in history?\n",
              "<font color = bold><font color = underline>Question2</font></font>: What was the <font color = red>gaugamela</font> battle in history?"
            ],
            "text/plain": [
              "<IPython.core.display.HTML object>"
            ]
          },
          "metadata": {
            "tags": []
          }
        },
        {
          "output_type": "stream",
          "text": [
            "[Succeeded / Failed / Total] 5 / 9 / 16:  64%|██████▍   | 16/25 [01:19<00:44,  4.95s/it]"
          ],
          "name": "stderr"
        },
        {
          "output_type": "display_data",
          "data": {
            "text/html": [
              "<font color = green>Duplicate (99%)</font> --> <font color = red>Not_duplicate (99%)</font><br><font color = bold><font color = underline>Question1</font></font>: What are your views about demonetisation in India?\n",
              "<font color = bold><font color = underline>Question2</font></font>: What do you <font color = green>think</font> about the ban on 500 and 1000 <font color = green>denomination</font> <font color = green>notes</font> in India?<br><font color = bold><font color = underline>Question1</font></font>: What are your views about demonetisation in India?\n",
              "<font color = bold><font color = underline>Question2</font></font>: What do you <font color = red>know</font> about the ban on 500 and 1000 <font color = red>mennonite</font> <font color = red>csli</font> in India?"
            ],
            "text/plain": [
              "<IPython.core.display.HTML object>"
            ]
          },
          "metadata": {
            "tags": []
          }
        },
        {
          "output_type": "stream",
          "text": [
            "[Succeeded / Failed / Total] 6 / 9 / 17:  68%|██████▊   | 17/25 [01:20<00:38,  4.76s/it]"
          ],
          "name": "stderr"
        },
        {
          "output_type": "display_data",
          "data": {
            "text/html": [
              "<font color = red>Not_duplicate (100%)</font> --> <font color = red>[FAILED]</font><br><font color = bold><font color = underline>Question1</font></font>: What are the difference between polyester 210T and 210D?\n",
              "<font color = bold><font color = underline>Question2</font></font>: What is the difference between cotton and polyester?"
            ],
            "text/plain": [
              "<IPython.core.display.HTML object>"
            ]
          },
          "metadata": {
            "tags": []
          }
        },
        {
          "output_type": "stream",
          "text": [
            "[Succeeded / Failed / Total] 6 / 10 / 18:  72%|███████▏  | 18/25 [01:23<00:32,  4.65s/it]"
          ],
          "name": "stderr"
        },
        {
          "output_type": "display_data",
          "data": {
            "text/html": [
              "<font color = red>Not_duplicate (99%)</font> --> <font color = red>[FAILED]</font><br><font color = bold><font color = underline>Question1</font></font>: Is FMS Delhi a good option for a MBA executive program?\n",
              "<font color = bold><font color = underline>Question2</font></font>: Is FMS a good choice for an MBA in HR? Why and why not?"
            ],
            "text/plain": [
              "<IPython.core.display.HTML object>"
            ]
          },
          "metadata": {
            "tags": []
          }
        },
        {
          "output_type": "stream",
          "text": [
            "[Succeeded / Failed / Total] 6 / 11 / 19:  76%|███████▌  | 19/25 [01:26<00:27,  4.54s/it]"
          ],
          "name": "stderr"
        },
        {
          "output_type": "display_data",
          "data": {
            "text/html": [
              "<font color = green>Duplicate (91%)</font> --> <font color = red>Not_duplicate (87%)</font><br><font color = bold><font color = underline>Question1</font></font>: Is it a bad time to buy a condo or a house in the Bay Area in 2017?\n",
              "<font color = bold><font color = underline>Question2</font></font>: Would 2017 be a good time to buy a <font color = green>house</font> in Bay Area?<br><font color = bold><font color = underline>Question1</font></font>: Is it a bad time to buy a condo or a house in the Bay Area in 2017?\n",
              "<font color = bold><font color = underline>Question2</font></font>: Would 2017 be a good time to buy a <font color = red>commons</font> in Bay Area?"
            ],
            "text/plain": [
              "<IPython.core.display.HTML object>"
            ]
          },
          "metadata": {
            "tags": []
          }
        },
        {
          "output_type": "stream",
          "text": [
            "[Succeeded / Failed / Total] 7 / 11 / 20:  80%|████████  | 20/25 [01:26<00:21,  4.34s/it]"
          ],
          "name": "stderr"
        },
        {
          "output_type": "display_data",
          "data": {
            "text/html": [
              "<font color = red>Not_duplicate (100%)</font> --> <font color = red>[FAILED]</font><br><font color = bold><font color = underline>Question1</font></font>: How is vanilla extract made?\n",
              "<font color = bold><font color = underline>Question2</font></font>: How do you make sugar cookies without vanilla extract?"
            ],
            "text/plain": [
              "<IPython.core.display.HTML object>"
            ]
          },
          "metadata": {
            "tags": []
          }
        },
        {
          "output_type": "stream",
          "text": [
            "[Succeeded / Failed / Total] 7 / 12 / 21:  84%|████████▍ | 21/25 [01:31<00:17,  4.38s/it]"
          ],
          "name": "stderr"
        },
        {
          "output_type": "display_data",
          "data": {
            "text/html": [
              "<font color = green>Duplicate (100%)</font> --> <font color = red>[FAILED]</font><br><font color = bold><font color = underline>Question1</font></font>: What is the Sahara, and how do the average temperatures there compare to the ones in the Patagonian Desert?\n",
              "<font color = bold><font color = underline>Question2</font></font>: What is the Sahara, and how do the average temperatures there compare to the ones in the Registan Desert?"
            ],
            "text/plain": [
              "<IPython.core.display.HTML object>"
            ]
          },
          "metadata": {
            "tags": []
          }
        },
        {
          "output_type": "stream",
          "text": [
            "[Succeeded / Failed / Total] 7 / 13 / 22:  88%|████████▊ | 22/25 [01:36<00:13,  4.37s/it]"
          ],
          "name": "stderr"
        },
        {
          "output_type": "display_data",
          "data": {
            "text/html": [
              "<font color = red>Not_duplicate (100%)</font> --> <font color = red>[FAILED]</font><br><font color = bold><font color = underline>Question1</font></font>: Why was the Roman Empire so successful?\n",
              "<font color = bold><font color = underline>Question2</font></font>: What are some of the rarely known facts about the Roman Empire?"
            ],
            "text/plain": [
              "<IPython.core.display.HTML object>"
            ]
          },
          "metadata": {
            "tags": []
          }
        },
        {
          "output_type": "stream",
          "text": [
            "[Succeeded / Failed / Total] 7 / 14 / 23:  92%|█████████▏| 23/25 [01:37<00:08,  4.23s/it]"
          ],
          "name": "stderr"
        },
        {
          "output_type": "display_data",
          "data": {
            "text/html": [
              "<font color = red>Not_duplicate (100%)</font> --> <font color = red>[FAILED]</font><br><font color = bold><font color = underline>Question1</font></font>: Is it advisable to sent your cv to a professor with whom you are trying to make contact for graduate admission?\n",
              "<font color = bold><font color = underline>Question2</font></font>: How does contacting a professor before applying factor into graduate admissions?"
            ],
            "text/plain": [
              "<IPython.core.display.HTML object>"
            ]
          },
          "metadata": {
            "tags": []
          }
        },
        {
          "output_type": "stream",
          "text": [
            "[Succeeded / Failed / Total] 7 / 15 / 24:  96%|█████████▌| 24/25 [01:51<00:04,  4.63s/it]"
          ],
          "name": "stderr"
        },
        {
          "output_type": "display_data",
          "data": {
            "text/html": [
              "<font color = red>Not_duplicate (100%)</font> --> <font color = red>[FAILED]</font><br><font color = bold><font color = underline>Question1</font></font>: Does a RainTPL syntax extension for Sublime Text exist? Where can I download it?\n",
              "<font color = bold><font color = underline>Question2</font></font>: How do I hide the find/replace bar in Sublime Text 2?"
            ],
            "text/plain": [
              "<IPython.core.display.HTML object>"
            ]
          },
          "metadata": {
            "tags": []
          }
        },
        {
          "output_type": "stream",
          "text": [
            "[Succeeded / Failed / Total] 7 / 16 / 25: 100%|██████████| 25/25 [01:54<00:00,  4.57s/it]"
          ],
          "name": "stderr"
        },
        {
          "output_type": "display_data",
          "data": {
            "text/html": [
              "<font color = red>Not_duplicate (100%)</font> --> <font color = red>[FAILED]</font><br><font color = bold><font color = underline>Question1</font></font>: What is the average salary of a microbiologist in India?\n",
              "<font color = bold><font color = underline>Question2</font></font>: What is the salary for a psychologist in india?"
            ],
            "text/plain": [
              "<IPython.core.display.HTML object>"
            ]
          },
          "metadata": {
            "tags": []
          }
        },
        {
          "output_type": "stream",
          "text": [
            "[Succeeded / Failed / Total] 7 / 17 / 26: : 26it [01:56,  4.47s/it]"
          ],
          "name": "stderr"
        },
        {
          "output_type": "display_data",
          "data": {
            "text/html": [
              "<font color = red>Not_duplicate (88%)</font> --> <font color = green>Duplicate (95%)</font><br><font color = bold><font color = underline>Question1</font></font>: How do you close a Bank of America account?\n",
              "<font color = bold><font color = underline>Question2</font></font>: How can one close a bank <font color = red>account</font> <font color = red>online</font>?<br><font color = bold><font color = underline>Question1</font></font>: How do you close a Bank of America account?\n",
              "<font color = bold><font color = underline>Question2</font></font>: How can one close a bank <font color = green>explanation</font> <font color = green>downloadable</font>?"
            ],
            "text/plain": [
              "<IPython.core.display.HTML object>"
            ]
          },
          "metadata": {
            "tags": []
          }
        },
        {
          "output_type": "stream",
          "text": [
            "[Succeeded / Failed / Total] 8 / 17 / 27: : 27it [01:57,  4.36s/it]"
          ],
          "name": "stderr"
        },
        {
          "output_type": "stream",
          "text": [
            "+-------------------------------+--------+\n",
            "| Attack Results                |        |\n",
            "+-------------------------------+--------+\n",
            "| Number of successful attacks: | 8      |\n",
            "| Number of failed attacks:     | 17     |\n",
            "| Number of skipped attacks:    | 2      |\n",
            "| Original accuracy:            | 92.59% |\n",
            "| Accuracy under attack:        | 62.96% |\n",
            "| Attack success rate:          | 32.0%  |\n",
            "| Average perturbed word %:     | 6.98%  |\n",
            "| Average num. words per input: | 22.3   |\n",
            "| Avg num queries:              | 223.56 |\n",
            "+-------------------------------+--------+"
          ],
          "name": "stdout"
        },
        {
          "output_type": "stream",
          "text": [
            "\n",
            "\u001b[34;1mtextattack\u001b[0m: Attack time: 117.86090326309204s\n"
          ],
          "name": "stderr"
        }
      ]
    },
    {
      "cell_type": "markdown",
      "metadata": {
        "id": "lcHSAh5htm4o"
      },
      "source": [
        "### Glove, ParticleSwarmOptimization, RepeatModification, StopwordModification"
      ]
    },
    {
      "cell_type": "code",
      "metadata": {
        "id": "F-sjXP8rPBE9",
        "colab": {
          "base_uri": "https://localhost:8080/"
        },
        "outputId": "95c399d7-5c31-496e-9ed7-61f486e07a69"
      },
      "source": [
        "# We're going to use our word swap class as the attack transformation.\n",
        "transformation = Swapper__()\n",
        "\n",
        "constraints = [RepeatModification(),\n",
        "               StopwordModification()]\n",
        "\n",
        "search_method = ParticleSwarmOptimization(pop_size=10,max_iters=5,post_turn_check=True)\n",
        "\n",
        "goal_function = UntargetedClassification(model_wrapper)\n",
        "\n",
        "# Now, let's make the attack from the 4 components:\n",
        "attack = Attack(goal_function, constraints, transformation, search_method)"
      ],
      "execution_count": null,
      "outputs": [
        {
          "output_type": "stream",
          "text": [
            "\u001b[34;1mtextattack\u001b[0m: Unknown if model of class <class 'transformers.models.bert.modeling_bert.BertForSequenceClassification'> compatible with goal function <class 'textattack.goal_functions.classification.untargeted_classification.UntargetedClassification'>.\n"
          ],
          "name": "stderr"
        }
      ]
    },
    {
      "cell_type": "code",
      "metadata": {
        "id": "8201a0SkPEc4",
        "colab": {
          "base_uri": "https://localhost:8080/"
        },
        "outputId": "1108d747-066f-40a9-9f9b-c911663bb386"
      },
      "source": [
        "print(attack)"
      ],
      "execution_count": null,
      "outputs": [
        {
          "output_type": "stream",
          "text": [
            "Attack(\n",
            "  (search_method): ParticleSwarmOptimization(\n",
            "    (pop_size):  10\n",
            "    (max_iters):  5\n",
            "    (post_turn_check):  True\n",
            "    (max_turn_retries):  20\n",
            "  )\n",
            "  (goal_function):  UntargetedClassification\n",
            "  (transformation):  Swapper__\n",
            "  (constraints): \n",
            "    (0): RepeatModification\n",
            "    (1): StopwordModification\n",
            "  (is_black_box):  True\n",
            ")\n"
          ],
          "name": "stdout"
        }
      ]
    },
    {
      "cell_type": "code",
      "metadata": {
        "id": "EVzPBCjRPGR9",
        "colab": {
          "base_uri": "https://localhost:8080/",
          "height": 1000
        },
        "outputId": "6e9d09ab-a0ae-4dfc-aad1-6bee26ed133a"
      },
      "source": [
        "attack_stats(attack, dataset, 25)"
      ],
      "execution_count": null,
      "outputs": [
        {
          "output_type": "stream",
          "text": [
            "\r  0%|          | 0/25 [00:00<?, ?it/s]"
          ],
          "name": "stderr"
        },
        {
          "output_type": "stream",
          "text": [
            "Attack(\n",
            "  (search_method): ParticleSwarmOptimization(\n",
            "    (pop_size):  10\n",
            "    (max_iters):  5\n",
            "    (post_turn_check):  True\n",
            "    (max_turn_retries):  20\n",
            "  )\n",
            "  (goal_function):  UntargetedClassification\n",
            "  (transformation):  Swapper__\n",
            "  (constraints): \n",
            "    (0): RepeatModification\n",
            "    (1): StopwordModification\n",
            "  (is_black_box):  True\n",
            ")\n"
          ],
          "name": "stdout"
        },
        {
          "output_type": "display_data",
          "data": {
            "text/html": [
              "<font color = red>Not_duplicate (100%)</font> --> <font color = red>[FAILED]</font><br><font color = bold><font color = underline>Question1</font></font>: Why are African-Americans so beautiful?\n",
              "<font color = bold><font color = underline>Question2</font></font>: Why are hispanics so beautiful?"
            ],
            "text/plain": [
              "<IPython.core.display.HTML object>"
            ]
          },
          "metadata": {
            "tags": []
          }
        },
        {
          "output_type": "stream",
          "text": [
            "[Succeeded / Failed / Total] 0 / 1 / 1:   4%|▍         | 1/25 [00:00<00:16,  1.48it/s]"
          ],
          "name": "stderr"
        },
        {
          "output_type": "display_data",
          "data": {
            "text/html": [
              "<font color = red>Not_duplicate (100%)</font> --> <font color = red>[FAILED]</font><br><font color = bold><font color = underline>Question1</font></font>: I want to pursue PhD in Computer Science about social network,what is the open problem in social networks?\n",
              "<font color = bold><font color = underline>Question2</font></font>: I handle social media for a non-profit. Should I start going to social media networking events? Are there any good ones in the bay area?"
            ],
            "text/plain": [
              "<IPython.core.display.HTML object>"
            ]
          },
          "metadata": {
            "tags": []
          }
        },
        {
          "output_type": "stream",
          "text": [
            "[Succeeded / Failed / Total] 0 / 2 / 2:   8%|▊         | 2/25 [00:53<10:15, 26.77s/it]"
          ],
          "name": "stderr"
        },
        {
          "output_type": "display_data",
          "data": {
            "text/html": [
              "<font color = green>Duplicate (97%)</font> --> <font color = red>Not_duplicate (100%)</font><br><font color = bold><font color = underline>Question1</font></font>: Is there a reason why we should travel <font color = green>alone</font>?\n",
              "<font color = bold><font color = underline>Question2</font></font>: What are some reasons to travel alone?<br><font color = bold><font color = underline>Question1</font></font>: Is there a reason why we should travel <font color = red>kukulcan</font>?\n",
              "<font color = bold><font color = underline>Question2</font></font>: What are some reasons to travel alone?"
            ],
            "text/plain": [
              "<IPython.core.display.HTML object>"
            ]
          },
          "metadata": {
            "tags": []
          }
        },
        {
          "output_type": "stream",
          "text": [
            "[Succeeded / Failed / Total] 1 / 2 / 3:  12%|█▏        | 3/25 [00:54<06:36, 18.01s/it]"
          ],
          "name": "stderr"
        },
        {
          "output_type": "display_data",
          "data": {
            "text/html": [
              "<font color = red>Not_duplicate (100%)</font> --> <font color = red>[FAILED]</font><br><font color = bold><font color = underline>Question1</font></font>: Why are people so obsessed with having a girlfriend/boyfriend?\n",
              "<font color = bold><font color = underline>Question2</font></font>: How can a single male have a child?"
            ],
            "text/plain": [
              "<IPython.core.display.HTML object>"
            ]
          },
          "metadata": {
            "tags": []
          }
        },
        {
          "output_type": "stream",
          "text": [
            "[Succeeded / Failed / Total] 1 / 3 / 4:  16%|█▌        | 4/25 [01:00<05:17, 15.12s/it]"
          ],
          "name": "stderr"
        },
        {
          "output_type": "display_data",
          "data": {
            "text/html": [
              "<font color = red>Not_duplicate (94%)</font> --> <font color = green>Duplicate (97%)</font><br><font color = bold><font color = underline>Question1</font></font>: What are some good <font color = red>baby</font> girl <font color = red>names</font> <font color = red>starting</font> with D?\n",
              "<font color = bold><font color = underline>Question2</font></font>: What are some good baby girl names <font color = red>starting</font> with D or H?<br><font color = bold><font color = underline>Question1</font></font>: What are some good <font color = green>dear</font> girl <font color = green>name</font> <font color = green>bedard</font> with D?\n",
              "<font color = bold><font color = underline>Question2</font></font>: What are some good baby girl names <font color = green>bedard</font> with D or H?"
            ],
            "text/plain": [
              "<IPython.core.display.HTML object>"
            ]
          },
          "metadata": {
            "tags": []
          }
        },
        {
          "output_type": "stream",
          "text": [
            "[Succeeded / Failed / Total] 2 / 3 / 5:  20%|██        | 5/25 [01:04<04:18, 12.93s/it]"
          ],
          "name": "stderr"
        },
        {
          "output_type": "display_data",
          "data": {
            "text/html": [
              "<font color = green>Duplicate (99%)</font> --> <font color = red>Not_duplicate (100%)</font><br><font color = bold><font color = underline>Question1</font></font>: I am 25 <font color = green>year</font> <font color = green>old</font> <font color = green>guy</font> and <font color = green>never</font> had a girlfriend. Is this <font color = green>weird</font>?\n",
              "<font color = bold><font color = underline>Question2</font></font>: I am 25 years old. I have never had a <font color = green>girlfriend</font>. Is something <font color = green>wrong</font> with me?<br><font color = bold><font color = underline>Question1</font></font>: I am 25 <font color = red>winnemanoth</font> <font color = red>devonien</font> <font color = red>steele</font> and <font color = red>actually</font> had a girlfriend. Is this <font color = red>tales</font>?\n",
              "<font color = bold><font color = underline>Question2</font></font>: I am 25 years old. I have never had a <font color = red>boyfriend</font>. Is something <font color = red>doing</font> with me?"
            ],
            "text/plain": [
              "<IPython.core.display.HTML object>"
            ]
          },
          "metadata": {
            "tags": []
          }
        },
        {
          "output_type": "stream",
          "text": [
            "[Succeeded / Failed / Total] 3 / 3 / 6:  24%|██▍       | 6/25 [01:10<03:43, 11.75s/it]"
          ],
          "name": "stderr"
        },
        {
          "output_type": "display_data",
          "data": {
            "text/html": [
              "<font color = red>Not_duplicate (92%)</font> --> <font color = gray>[SKIPPED]</font><br><font color = bold><font color = underline>Question1</font></font>: \"What does a good answer on Quora look like? What does it mean to \"\"be helpful\"\"?\"\n",
              "<font color = bold><font color = underline>Question2</font></font>: How do you write a good answer on Quora?"
            ],
            "text/plain": [
              "<IPython.core.display.HTML object>"
            ]
          },
          "metadata": {
            "tags": []
          }
        },
        {
          "output_type": "stream",
          "text": [
            "\r[Succeeded / Failed / Total] 3 / 3 / 7:  28%|██▊       | 7/25 [01:10<03:01, 10.08s/it]"
          ],
          "name": "stderr"
        },
        {
          "output_type": "display_data",
          "data": {
            "text/html": [
              "<font color = green>Duplicate (54%)</font> --> <font color = red>Not_duplicate (100%)</font><br><font color = bold><font color = underline>Question1</font></font>: What are the best things to do in Hong Kong?\n",
              "<font color = bold><font color = underline>Question2</font></font>: What is the <font color = green>best</font> thing in Hong Kong?<br><font color = bold><font color = underline>Question1</font></font>: What are the best things to do in Hong Kong?\n",
              "<font color = bold><font color = underline>Question2</font></font>: What is the <font color = red>rnb</font> thing in Hong Kong?"
            ],
            "text/plain": [
              "<IPython.core.display.HTML object>"
            ]
          },
          "metadata": {
            "tags": []
          }
        },
        {
          "output_type": "stream",
          "text": [
            "[Succeeded / Failed / Total] 4 / 3 / 8:  32%|███▏      | 8/25 [01:10<02:30,  8.87s/it]"
          ],
          "name": "stderr"
        },
        {
          "output_type": "display_data",
          "data": {
            "text/html": [
              "<font color = green>Duplicate (84%)</font> --> <font color = gray>[SKIPPED]</font><br><font color = bold><font color = underline>Question1</font></font>: Why is my life getting so complicated?\n",
              "<font color = bold><font color = underline>Question2</font></font>: Why is my life so complicated?"
            ],
            "text/plain": [
              "<IPython.core.display.HTML object>"
            ]
          },
          "metadata": {
            "tags": []
          }
        },
        {
          "output_type": "stream",
          "text": [
            "\r[Succeeded / Failed / Total] 4 / 3 / 9:  36%|███▌      | 9/25 [01:10<02:06,  7.89s/it]"
          ],
          "name": "stderr"
        },
        {
          "output_type": "display_data",
          "data": {
            "text/html": [
              "<font color = red>Not_duplicate (100%)</font> --> <font color = red>[FAILED]</font><br><font color = bold><font color = underline>Question1</font></font>: Why should I crack Jee?\n",
              "<font color = bold><font color = underline>Question2</font></font>: Is it possible to get into IIMs with low marks in graduation and 12th?"
            ],
            "text/plain": [
              "<IPython.core.display.HTML object>"
            ]
          },
          "metadata": {
            "tags": []
          }
        },
        {
          "output_type": "stream",
          "text": [
            "[Succeeded / Failed / Total] 4 / 4 / 10:  40%|████      | 10/25 [01:15<01:52,  7.53s/it]"
          ],
          "name": "stderr"
        },
        {
          "output_type": "display_data",
          "data": {
            "text/html": [
              "<font color = red>Not_duplicate (100%)</font> --> <font color = red>[FAILED]</font><br><font color = bold><font color = underline>Question1</font></font>: Can you TRANSLATE these to English language?\n",
              "<font color = bold><font color = underline>Question2</font></font>: Can you translate this from Bengali to English language?"
            ],
            "text/plain": [
              "<IPython.core.display.HTML object>"
            ]
          },
          "metadata": {
            "tags": []
          }
        },
        {
          "output_type": "stream",
          "text": [
            "[Succeeded / Failed / Total] 4 / 5 / 11:  44%|████▍     | 11/25 [01:30<01:54,  8.18s/it]"
          ],
          "name": "stderr"
        },
        {
          "output_type": "display_data",
          "data": {
            "text/html": [
              "<font color = red>Not_duplicate (100%)</font> --> <font color = red>[FAILED]</font><br><font color = bold><font color = underline>Question1</font></font>: Can anyone tell shall mi mix mobile should be purchased or not?\n",
              "<font color = bold><font color = underline>Question2</font></font>: \"What did Voltaire mean when he said, \"\"God is a comedian playing to an audience that is too afraid to laugh\"\"?\""
            ],
            "text/plain": [
              "<IPython.core.display.HTML object>"
            ]
          },
          "metadata": {
            "tags": []
          }
        },
        {
          "output_type": "stream",
          "text": [
            "[Succeeded / Failed / Total] 4 / 6 / 12:  48%|████▊     | 12/25 [01:38<01:46,  8.23s/it]"
          ],
          "name": "stderr"
        },
        {
          "output_type": "display_data",
          "data": {
            "text/html": [
              "<font color = green>Duplicate (100%)</font> --> <font color = red>Not_duplicate (99%)</font><br><font color = bold><font color = underline>Question1</font></font>: Which is the <font color = green>best</font> gaming laptop under 40k?\n",
              "<font color = bold><font color = underline>Question2</font></font>: Which is the best gaming laptop under 40,000 rs?<br><font color = bold><font color = underline>Question1</font></font>: Which is the <font color = red>rnb</font> gaming laptop under 40k?\n",
              "<font color = bold><font color = underline>Question2</font></font>: Which is the best gaming laptop under 40,000 rs?"
            ],
            "text/plain": [
              "<IPython.core.display.HTML object>"
            ]
          },
          "metadata": {
            "tags": []
          }
        },
        {
          "output_type": "stream",
          "text": [
            "[Succeeded / Failed / Total] 5 / 6 / 13:  52%|█████▏    | 13/25 [01:39<01:31,  7.64s/it]"
          ],
          "name": "stderr"
        },
        {
          "output_type": "display_data",
          "data": {
            "text/html": [
              "<font color = red>Not_duplicate (100%)</font> --> <font color = red>[FAILED]</font><br><font color = bold><font color = underline>Question1</font></font>: Why Tamil Nadu Universities are no good?\n",
              "<font color = bold><font color = underline>Question2</font></font>: Why are the 10th students able to score 100% in Tamil Nadu?"
            ],
            "text/plain": [
              "<IPython.core.display.HTML object>"
            ]
          },
          "metadata": {
            "tags": []
          }
        },
        {
          "output_type": "stream",
          "text": [
            "[Succeeded / Failed / Total] 5 / 7 / 14:  56%|█████▌    | 14/25 [01:41<01:19,  7.24s/it]"
          ],
          "name": "stderr"
        },
        {
          "output_type": "display_data",
          "data": {
            "text/html": [
              "<font color = red>Not_duplicate (100%)</font> --> <font color = red>[FAILED]</font><br><font color = bold><font color = underline>Question1</font></font>: What is an easy way to clean toothpaste stains from a shirt without washing it?\n",
              "<font color = bold><font color = underline>Question2</font></font>: What are some ways to remove hard water stains from dishes?"
            ],
            "text/plain": [
              "<IPython.core.display.HTML object>"
            ]
          },
          "metadata": {
            "tags": []
          }
        },
        {
          "output_type": "stream",
          "text": [
            "[Succeeded / Failed / Total] 5 / 8 / 15:  60%|██████    | 15/25 [02:15<01:30,  9.06s/it]"
          ],
          "name": "stderr"
        },
        {
          "output_type": "display_data",
          "data": {
            "text/html": [
              "<font color = green>Duplicate (96%)</font> --> <font color = red>Not_duplicate (100%)</font><br><font color = bold><font color = underline>Question1</font></font>: What was the deadliest battle in history?\n",
              "<font color = bold><font color = underline>Question2</font></font>: What was the bloodiest battle in <font color = green>history</font>?<br><font color = bold><font color = underline>Question1</font></font>: What was the deadliest battle in history?\n",
              "<font color = bold><font color = underline>Question2</font></font>: What was the bloodiest battle in <font color = red>cmessier</font>?"
            ],
            "text/plain": [
              "<IPython.core.display.HTML object>"
            ]
          },
          "metadata": {
            "tags": []
          }
        },
        {
          "output_type": "stream",
          "text": [
            "[Succeeded / Failed / Total] 6 / 8 / 16:  64%|██████▍   | 16/25 [02:16<01:16,  8.53s/it]"
          ],
          "name": "stderr"
        },
        {
          "output_type": "display_data",
          "data": {
            "text/html": [
              "<font color = green>Duplicate (99%)</font> --> <font color = red>Not_duplicate (100%)</font><br><font color = bold><font color = underline>Question1</font></font>: What are your views about demonetisation in India?\n",
              "<font color = bold><font color = underline>Question2</font></font>: What do you think about the <font color = green>ban</font> on 500 and 1000 denomination notes in India?<br><font color = bold><font color = underline>Question1</font></font>: What are your views about demonetisation in India?\n",
              "<font color = bold><font color = underline>Question2</font></font>: What do you think about the <font color = red>ozone</font> on 500 and 1000 denomination notes in India?"
            ],
            "text/plain": [
              "<IPython.core.display.HTML object>"
            ]
          },
          "metadata": {
            "tags": []
          }
        },
        {
          "output_type": "stream",
          "text": [
            "[Succeeded / Failed / Total] 7 / 8 / 17:  68%|██████▊   | 17/25 [02:16<01:04,  8.06s/it]"
          ],
          "name": "stderr"
        },
        {
          "output_type": "display_data",
          "data": {
            "text/html": [
              "<font color = red>Not_duplicate (100%)</font> --> <font color = red>[FAILED]</font><br><font color = bold><font color = underline>Question1</font></font>: What are the difference between polyester 210T and 210D?\n",
              "<font color = bold><font color = underline>Question2</font></font>: What is the difference between cotton and polyester?"
            ],
            "text/plain": [
              "<IPython.core.display.HTML object>"
            ]
          },
          "metadata": {
            "tags": []
          }
        },
        {
          "output_type": "stream",
          "text": [
            "[Succeeded / Failed / Total] 7 / 9 / 18:  72%|███████▏  | 18/25 [02:20<00:54,  7.82s/it]"
          ],
          "name": "stderr"
        },
        {
          "output_type": "display_data",
          "data": {
            "text/html": [
              "<font color = red>Not_duplicate (99%)</font> --> <font color = red>[FAILED]</font><br><font color = bold><font color = underline>Question1</font></font>: Is FMS Delhi a good option for a MBA executive program?\n",
              "<font color = bold><font color = underline>Question2</font></font>: Is FMS a good choice for an MBA in HR? Why and why not?"
            ],
            "text/plain": [
              "<IPython.core.display.HTML object>"
            ]
          },
          "metadata": {
            "tags": []
          }
        },
        {
          "output_type": "stream",
          "text": [
            "[Succeeded / Failed / Total] 7 / 10 / 19:  76%|███████▌  | 19/25 [02:23<00:45,  7.54s/it]"
          ],
          "name": "stderr"
        },
        {
          "output_type": "display_data",
          "data": {
            "text/html": [
              "<font color = green>Duplicate (91%)</font> --> <font color = red>Not_duplicate (99%)</font><br><font color = bold><font color = underline>Question1</font></font>: Is it a bad time to buy a condo or a house in the Bay Area in 2017?\n",
              "<font color = bold><font color = underline>Question2</font></font>: Would 2017 be a good time to buy a <font color = green>house</font> in Bay Area?<br><font color = bold><font color = underline>Question1</font></font>: Is it a bad time to buy a condo or a house in the Bay Area in 2017?\n",
              "<font color = bold><font color = underline>Question2</font></font>: Would 2017 be a good time to buy a <font color = red>ajidica</font> in Bay Area?"
            ],
            "text/plain": [
              "<IPython.core.display.HTML object>"
            ]
          },
          "metadata": {
            "tags": []
          }
        },
        {
          "output_type": "stream",
          "text": [
            "[Succeeded / Failed / Total] 8 / 10 / 20:  80%|████████  | 20/25 [02:24<00:36,  7.20s/it]"
          ],
          "name": "stderr"
        },
        {
          "output_type": "display_data",
          "data": {
            "text/html": [
              "<font color = red>Not_duplicate (100%)</font> --> <font color = green>Duplicate (54%)</font><br><font color = bold><font color = underline>Question1</font></font>: How is vanilla <font color = red>extract</font> made?\n",
              "<font color = bold><font color = underline>Question2</font></font>: How do you make sugar cookies <font color = red>without</font> vanilla <font color = red>extract</font>?<br><font color = bold><font color = underline>Question1</font></font>: How is vanilla <font color = green>retrieve</font> made?\n",
              "<font color = bold><font color = underline>Question2</font></font>: How do you make sugar cookies <font color = green>any</font> vanilla <font color = green>retrieve</font>?"
            ],
            "text/plain": [
              "<IPython.core.display.HTML object>"
            ]
          },
          "metadata": {
            "tags": []
          }
        },
        {
          "output_type": "stream",
          "text": [
            "[Succeeded / Failed / Total] 9 / 10 / 21:  84%|████████▍ | 21/25 [02:28<00:28,  7.07s/it]"
          ],
          "name": "stderr"
        },
        {
          "output_type": "display_data",
          "data": {
            "text/html": [
              "<font color = green>Duplicate (100%)</font> --> <font color = red>[FAILED]</font><br><font color = bold><font color = underline>Question1</font></font>: What is the Sahara, and how do the average temperatures there compare to the ones in the Patagonian Desert?\n",
              "<font color = bold><font color = underline>Question2</font></font>: What is the Sahara, and how do the average temperatures there compare to the ones in the Registan Desert?"
            ],
            "text/plain": [
              "<IPython.core.display.HTML object>"
            ]
          },
          "metadata": {
            "tags": []
          }
        },
        {
          "output_type": "stream",
          "text": [
            "[Succeeded / Failed / Total] 9 / 11 / 22:  88%|████████▊ | 22/25 [02:37<00:21,  7.18s/it]"
          ],
          "name": "stderr"
        },
        {
          "output_type": "display_data",
          "data": {
            "text/html": [
              "<font color = red>Not_duplicate (100%)</font> --> <font color = red>[FAILED]</font><br><font color = bold><font color = underline>Question1</font></font>: Why was the Roman Empire so successful?\n",
              "<font color = bold><font color = underline>Question2</font></font>: What are some of the rarely known facts about the Roman Empire?"
            ],
            "text/plain": [
              "<IPython.core.display.HTML object>"
            ]
          },
          "metadata": {
            "tags": []
          }
        },
        {
          "output_type": "stream",
          "text": [
            "[Succeeded / Failed / Total] 9 / 12 / 23:  92%|█████████▏| 23/25 [02:39<00:13,  6.95s/it]"
          ],
          "name": "stderr"
        },
        {
          "output_type": "display_data",
          "data": {
            "text/html": [
              "<font color = red>Not_duplicate (100%)</font> --> <font color = red>[FAILED]</font><br><font color = bold><font color = underline>Question1</font></font>: Is it advisable to sent your cv to a professor with whom you are trying to make contact for graduate admission?\n",
              "<font color = bold><font color = underline>Question2</font></font>: How does contacting a professor before applying factor into graduate admissions?"
            ],
            "text/plain": [
              "<IPython.core.display.HTML object>"
            ]
          },
          "metadata": {
            "tags": []
          }
        },
        {
          "output_type": "stream",
          "text": [
            "[Succeeded / Failed / Total] 9 / 13 / 24:  96%|█████████▌| 24/25 [03:02<00:07,  7.62s/it]"
          ],
          "name": "stderr"
        },
        {
          "output_type": "display_data",
          "data": {
            "text/html": [
              "<font color = red>Not_duplicate (100%)</font> --> <font color = red>[FAILED]</font><br><font color = bold><font color = underline>Question1</font></font>: Does a RainTPL syntax extension for Sublime Text exist? Where can I download it?\n",
              "<font color = bold><font color = underline>Question2</font></font>: How do I hide the find/replace bar in Sublime Text 2?"
            ],
            "text/plain": [
              "<IPython.core.display.HTML object>"
            ]
          },
          "metadata": {
            "tags": []
          }
        },
        {
          "output_type": "stream",
          "text": [
            "[Succeeded / Failed / Total] 9 / 14 / 25: 100%|██████████| 25/25 [03:11<00:00,  7.65s/it]"
          ],
          "name": "stderr"
        },
        {
          "output_type": "display_data",
          "data": {
            "text/html": [
              "<font color = red>Not_duplicate (100%)</font> --> <font color = red>[FAILED]</font><br><font color = bold><font color = underline>Question1</font></font>: What is the average salary of a microbiologist in India?\n",
              "<font color = bold><font color = underline>Question2</font></font>: What is the salary for a psychologist in india?"
            ],
            "text/plain": [
              "<IPython.core.display.HTML object>"
            ]
          },
          "metadata": {
            "tags": []
          }
        },
        {
          "output_type": "stream",
          "text": [
            "[Succeeded / Failed / Total] 9 / 15 / 26: : 26it [03:13,  7.45s/it]"
          ],
          "name": "stderr"
        },
        {
          "output_type": "display_data",
          "data": {
            "text/html": [
              "<font color = red>Not_duplicate (88%)</font> --> <font color = green>Duplicate (75%)</font><br><font color = bold><font color = underline>Question1</font></font>: How do you close a Bank of America account?\n",
              "<font color = bold><font color = underline>Question2</font></font>: How can one close a bank account <font color = red>online</font>?<br><font color = bold><font color = underline>Question1</font></font>: How do you close a Bank of America account?\n",
              "<font color = bold><font color = underline>Question2</font></font>: How can one close a bank account <font color = green>fertfriend</font>?"
            ],
            "text/plain": [
              "<IPython.core.display.HTML object>"
            ]
          },
          "metadata": {
            "tags": []
          }
        },
        {
          "output_type": "stream",
          "text": [
            "[Succeeded / Failed / Total] 10 / 15 / 27: : 27it [03:14,  7.19s/it]"
          ],
          "name": "stderr"
        },
        {
          "output_type": "stream",
          "text": [
            "+-------------------------------+--------+\n",
            "| Attack Results                |        |\n",
            "+-------------------------------+--------+\n",
            "| Number of successful attacks: | 10     |\n",
            "| Number of failed attacks:     | 15     |\n",
            "| Number of skipped attacks:    | 2      |\n",
            "| Original accuracy:            | 92.59% |\n",
            "| Accuracy under attack:        | 55.56% |\n",
            "| Attack success rate:          | 40.0%  |\n",
            "| Average perturbed word %:     | 10.09% |\n",
            "| Average num. words per input: | 22.3   |\n",
            "| Avg num queries:              | 220.48 |\n",
            "+-------------------------------+--------+"
          ],
          "name": "stdout"
        },
        {
          "output_type": "stream",
          "text": [
            "\n",
            "\u001b[34;1mtextattack\u001b[0m: Attack time: 194.25151252746582s\n"
          ],
          "name": "stderr"
        }
      ]
    },
    {
      "cell_type": "markdown",
      "metadata": {
        "id": "q7n4M02gtr2D"
      },
      "source": [
        "### FastText, GreedyWordSwapWIR, PartsofSpeech"
      ]
    },
    {
      "cell_type": "code",
      "metadata": {
        "id": "9jwrvRfhqKVj",
        "colab": {
          "base_uri": "https://localhost:8080/"
        },
        "outputId": "090e3404-13d6-4ced-f486-d391669076d2"
      },
      "source": [
        "# We're going to use our word swap class as the attack transformation.\n",
        "transformation = Swapper()\n",
        "\n",
        "constraints = [PartOfSpeech()]\n",
        "\n",
        "search_method = GreedyWordSwapWIR()\n",
        "\n",
        "goal_function = UntargetedClassification(model_wrapper)\n",
        "\n",
        "# Now, let's make the attack from the 4 components:\n",
        "attack = Attack(goal_function, constraints, transformation, search_method)"
      ],
      "execution_count": null,
      "outputs": [
        {
          "output_type": "stream",
          "text": [
            "\u001b[34;1mtextattack\u001b[0m: Unknown if model of class <class 'transformers.models.bert.modeling_bert.BertForSequenceClassification'> compatible with goal function <class 'textattack.goal_functions.classification.untargeted_classification.UntargetedClassification'>.\n"
          ],
          "name": "stderr"
        }
      ]
    },
    {
      "cell_type": "code",
      "metadata": {
        "id": "eCV5etswrzVY",
        "colab": {
          "base_uri": "https://localhost:8080/"
        },
        "outputId": "db75c32e-58bf-4723-c021-b15564a2f270"
      },
      "source": [
        "print(attack)"
      ],
      "execution_count": null,
      "outputs": [
        {
          "output_type": "stream",
          "text": [
            "Attack(\n",
            "  (search_method): GreedyWordSwapWIR(\n",
            "    (wir_method):  unk\n",
            "  )\n",
            "  (goal_function):  UntargetedClassification\n",
            "  (transformation):  Swapper\n",
            "  (constraints): \n",
            "    (0): PartOfSpeech(\n",
            "        (tagger_type):  nltk\n",
            "        (tagset):  universal\n",
            "        (allow_verb_noun_swap):  True\n",
            "        (compare_against_original):  True\n",
            "      )\n",
            "  (is_black_box):  True\n",
            ")\n"
          ],
          "name": "stdout"
        }
      ]
    },
    {
      "cell_type": "code",
      "metadata": {
        "id": "fQ4LYaHlsN4e",
        "colab": {
          "base_uri": "https://localhost:8080/",
          "height": 1000
        },
        "outputId": "8d318599-ab64-4a23-d7f9-1f93834fc35e"
      },
      "source": [
        "attack_stats(attack, dataset, 25)"
      ],
      "execution_count": null,
      "outputs": [
        {
          "output_type": "stream",
          "text": [
            "\r  0%|          | 0/25 [00:00<?, ?it/s]"
          ],
          "name": "stderr"
        },
        {
          "output_type": "stream",
          "text": [
            "Attack(\n",
            "  (search_method): GreedyWordSwapWIR(\n",
            "    (wir_method):  unk\n",
            "  )\n",
            "  (goal_function):  UntargetedClassification\n",
            "  (transformation):  Swapper\n",
            "  (constraints): \n",
            "    (0): PartOfSpeech(\n",
            "        (tagger_type):  nltk\n",
            "        (tagset):  universal\n",
            "        (allow_verb_noun_swap):  True\n",
            "        (compare_against_original):  True\n",
            "      )\n",
            "  (is_black_box):  True\n",
            ")\n"
          ],
          "name": "stdout"
        },
        {
          "output_type": "display_data",
          "data": {
            "text/html": [
              "<font color = red>Not_duplicate (100%)</font> --> <font color = red>[FAILED]</font><br><font color = bold><font color = underline>Question1</font></font>: Why are African-Americans so beautiful?\n",
              "<font color = bold><font color = underline>Question2</font></font>: Why are hispanics so beautiful?"
            ],
            "text/plain": [
              "<IPython.core.display.HTML object>"
            ]
          },
          "metadata": {
            "tags": []
          }
        },
        {
          "output_type": "stream",
          "text": [
            "[Succeeded / Failed / Total] 0 / 1 / 1:   4%|▍         | 1/25 [00:00<00:21,  1.13it/s]"
          ],
          "name": "stderr"
        },
        {
          "output_type": "display_data",
          "data": {
            "text/html": [
              "<font color = red>Not_duplicate (100%)</font> --> <font color = red>[FAILED]</font><br><font color = bold><font color = underline>Question1</font></font>: I want to pursue PhD in Computer Science about social network,what is the open problem in social networks?\n",
              "<font color = bold><font color = underline>Question2</font></font>: I handle social media for a non-profit. Should I start going to social media networking events? Are there any good ones in the bay area?"
            ],
            "text/plain": [
              "<IPython.core.display.HTML object>"
            ]
          },
          "metadata": {
            "tags": []
          }
        },
        {
          "output_type": "stream",
          "text": [
            "[Succeeded / Failed / Total] 0 / 2 / 2:   8%|▊         | 2/25 [00:03<00:45,  2.00s/it]"
          ],
          "name": "stderr"
        },
        {
          "output_type": "display_data",
          "data": {
            "text/html": [
              "<font color = green>Duplicate (97%)</font> --> <font color = red>[FAILED]</font><br><font color = bold><font color = underline>Question1</font></font>: Is there a reason why we should travel alone?\n",
              "<font color = bold><font color = underline>Question2</font></font>: What are some reasons to travel alone?"
            ],
            "text/plain": [
              "<IPython.core.display.HTML object>"
            ]
          },
          "metadata": {
            "tags": []
          }
        },
        {
          "output_type": "stream",
          "text": [
            "[Succeeded / Failed / Total] 0 / 3 / 3:  12%|█▏        | 3/25 [00:05<00:37,  1.72s/it]"
          ],
          "name": "stderr"
        },
        {
          "output_type": "display_data",
          "data": {
            "text/html": [
              "<font color = red>Not_duplicate (100%)</font> --> <font color = red>[FAILED]</font><br><font color = bold><font color = underline>Question1</font></font>: Why are people so obsessed with having a girlfriend/boyfriend?\n",
              "<font color = bold><font color = underline>Question2</font></font>: How can a single male have a child?"
            ],
            "text/plain": [
              "<IPython.core.display.HTML object>"
            ]
          },
          "metadata": {
            "tags": []
          }
        },
        {
          "output_type": "stream",
          "text": [
            "[Succeeded / Failed / Total] 0 / 4 / 4:  16%|█▌        | 4/25 [00:06<00:34,  1.64s/it]"
          ],
          "name": "stderr"
        },
        {
          "output_type": "display_data",
          "data": {
            "text/html": [
              "<font color = red>Not_duplicate (94%)</font> --> <font color = green>Duplicate (64%)</font><br><font color = bold><font color = underline>Question1</font></font>: What <font color = red>are</font> some good baby girl names starting with D?\n",
              "<font color = bold><font color = underline>Question2</font></font>: What <font color = red>are</font> some good baby girl <font color = red>names</font> <font color = red>starting</font> with D <font color = red>or</font> <font color = red>H</font>?<br><font color = bold><font color = underline>Question1</font></font>: What <font color = green>were</font> some good baby girl names starting with D?\n",
              "<font color = bold><font color = underline>Question2</font></font>: What <font color = green>were</font> some good baby girl <font color = green>name</font> <font color = green>farting</font> with D <font color = green>either</font> <font color = green>QUE</font>?"
            ],
            "text/plain": [
              "<IPython.core.display.HTML object>"
            ]
          },
          "metadata": {
            "tags": []
          }
        },
        {
          "output_type": "stream",
          "text": [
            "[Succeeded / Failed / Total] 1 / 4 / 5:  20%|██        | 5/25 [00:07<00:30,  1.53s/it]"
          ],
          "name": "stderr"
        },
        {
          "output_type": "display_data",
          "data": {
            "text/html": [
              "<font color = green>Duplicate (99%)</font> --> <font color = red>Not_duplicate (87%)</font><br><font color = bold><font color = underline>Question1</font></font>: I am 25 year old guy and <font color = green>never</font> had <font color = green>a</font> <font color = green>girlfriend</font>. Is this weird?\n",
              "<font color = bold><font color = underline>Question2</font></font>: I am 25 years old. I have never had a girlfriend. Is something wrong with me?<br><font color = bold><font color = underline>Question1</font></font>: I am 25 year old guy and <font color = red>ever</font> had <font color = red>the</font> <font color = red>boyfriend</font>. Is this weird?\n",
              "<font color = bold><font color = underline>Question2</font></font>: I am 25 years old. I have never had a girlfriend. Is something wrong with me?"
            ],
            "text/plain": [
              "<IPython.core.display.HTML object>"
            ]
          },
          "metadata": {
            "tags": []
          }
        },
        {
          "output_type": "stream",
          "text": [
            "[Succeeded / Failed / Total] 2 / 4 / 6:  24%|██▍       | 6/25 [00:08<00:27,  1.47s/it]"
          ],
          "name": "stderr"
        },
        {
          "output_type": "display_data",
          "data": {
            "text/html": [
              "<font color = red>Not_duplicate (92%)</font> --> <font color = gray>[SKIPPED]</font><br><font color = bold><font color = underline>Question1</font></font>: \"What does a good answer on Quora look like? What does it mean to \"\"be helpful\"\"?\"\n",
              "<font color = bold><font color = underline>Question2</font></font>: How do you write a good answer on Quora?"
            ],
            "text/plain": [
              "<IPython.core.display.HTML object>"
            ]
          },
          "metadata": {
            "tags": []
          }
        },
        {
          "output_type": "stream",
          "text": [
            "\r[Succeeded / Failed / Total] 2 / 4 / 7:  28%|██▊       | 7/25 [00:08<00:22,  1.27s/it]"
          ],
          "name": "stderr"
        },
        {
          "output_type": "display_data",
          "data": {
            "text/html": [
              "<font color = green>Duplicate (54%)</font> --> <font color = red>Not_duplicate (89%)</font><br><font color = bold><font color = underline>Question1</font></font>: What are the best things to do in Hong Kong?\n",
              "<font color = bold><font color = underline>Question2</font></font>: What is the <font color = green>best</font> thing in Hong Kong?<br><font color = bold><font color = underline>Question1</font></font>: What are the best things to do in Hong Kong?\n",
              "<font color = bold><font color = underline>Question2</font></font>: What is the <font color = red>finest</font> thing in Hong Kong?"
            ],
            "text/plain": [
              "<IPython.core.display.HTML object>"
            ]
          },
          "metadata": {
            "tags": []
          }
        },
        {
          "output_type": "stream",
          "text": [
            "[Succeeded / Failed / Total] 3 / 4 / 8:  32%|███▏      | 8/25 [00:09<00:20,  1.19s/it]"
          ],
          "name": "stderr"
        },
        {
          "output_type": "display_data",
          "data": {
            "text/html": [
              "<font color = green>Duplicate (84%)</font> --> <font color = gray>[SKIPPED]</font><br><font color = bold><font color = underline>Question1</font></font>: Why is my life getting so complicated?\n",
              "<font color = bold><font color = underline>Question2</font></font>: Why is my life so complicated?"
            ],
            "text/plain": [
              "<IPython.core.display.HTML object>"
            ]
          },
          "metadata": {
            "tags": []
          }
        },
        {
          "output_type": "stream",
          "text": [
            "\r[Succeeded / Failed / Total] 3 / 4 / 9:  36%|███▌      | 9/25 [00:09<00:17,  1.06s/it]"
          ],
          "name": "stderr"
        },
        {
          "output_type": "display_data",
          "data": {
            "text/html": [
              "<font color = red>Not_duplicate (100%)</font> --> <font color = red>[FAILED]</font><br><font color = bold><font color = underline>Question1</font></font>: Why should I crack Jee?\n",
              "<font color = bold><font color = underline>Question2</font></font>: Is it possible to get into IIMs with low marks in graduation and 12th?"
            ],
            "text/plain": [
              "<IPython.core.display.HTML object>"
            ]
          },
          "metadata": {
            "tags": []
          }
        },
        {
          "output_type": "stream",
          "text": [
            "[Succeeded / Failed / Total] 3 / 5 / 10:  40%|████      | 10/25 [00:10<00:16,  1.08s/it]"
          ],
          "name": "stderr"
        },
        {
          "output_type": "display_data",
          "data": {
            "text/html": [
              "<font color = red>Not_duplicate (100%)</font> --> <font color = green>Duplicate (63%)</font><br><font color = bold><font color = underline>Question1</font></font>: Can <font color = red>you</font> TRANSLATE <font color = red>these</font> to English language?\n",
              "<font color = bold><font color = underline>Question2</font></font>: Can <font color = red>you</font> <font color = red>translate</font> <font color = red>this</font> from Bengali to English <font color = red>language</font>?<br><font color = bold><font color = underline>Question1</font></font>: Can <font color = green>we</font> TRANSLATE <font color = green>some</font> to English language?\n",
              "<font color = bold><font color = underline>Question2</font></font>: Can <font color = green>we</font> <font color = green>translating</font> <font color = green>which</font> from Bengali to English <font color = green>anguage</font>?"
            ],
            "text/plain": [
              "<IPython.core.display.HTML object>"
            ]
          },
          "metadata": {
            "tags": []
          }
        },
        {
          "output_type": "stream",
          "text": [
            "\r[Succeeded / Failed / Total] 4 / 5 / 11:  44%|████▍     | 11/25 [00:11<00:15,  1.08s/it]"
          ],
          "name": "stderr"
        },
        {
          "output_type": "display_data",
          "data": {
            "text/html": [
              "<font color = red>Not_duplicate (100%)</font> --> <font color = red>[FAILED]</font><br><font color = bold><font color = underline>Question1</font></font>: Can anyone tell shall mi mix mobile should be purchased or not?\n",
              "<font color = bold><font color = underline>Question2</font></font>: \"What did Voltaire mean when he said, \"\"God is a comedian playing to an audience that is too afraid to laugh\"\"?\""
            ],
            "text/plain": [
              "<IPython.core.display.HTML object>"
            ]
          },
          "metadata": {
            "tags": []
          }
        },
        {
          "output_type": "stream",
          "text": [
            "[Succeeded / Failed / Total] 4 / 6 / 12:  48%|████▊     | 12/25 [00:14<00:15,  1.20s/it]"
          ],
          "name": "stderr"
        },
        {
          "output_type": "display_data",
          "data": {
            "text/html": [
              "<font color = green>Duplicate (100%)</font> --> <font color = red>[FAILED]</font><br><font color = bold><font color = underline>Question1</font></font>: Which is the best gaming laptop under 40k?\n",
              "<font color = bold><font color = underline>Question2</font></font>: Which is the best gaming laptop under 40,000 rs?"
            ],
            "text/plain": [
              "<IPython.core.display.HTML object>"
            ]
          },
          "metadata": {
            "tags": []
          }
        },
        {
          "output_type": "stream",
          "text": [
            "\r[Succeeded / Failed / Total] 4 / 7 / 13:  52%|█████▏    | 13/25 [00:15<00:14,  1.19s/it]"
          ],
          "name": "stderr"
        },
        {
          "output_type": "display_data",
          "data": {
            "text/html": [
              "<font color = red>Not_duplicate (100%)</font> --> <font color = red>[FAILED]</font><br><font color = bold><font color = underline>Question1</font></font>: Why Tamil Nadu Universities are no good?\n",
              "<font color = bold><font color = underline>Question2</font></font>: Why are the 10th students able to score 100% in Tamil Nadu?"
            ],
            "text/plain": [
              "<IPython.core.display.HTML object>"
            ]
          },
          "metadata": {
            "tags": []
          }
        },
        {
          "output_type": "stream",
          "text": [
            "[Succeeded / Failed / Total] 4 / 8 / 14:  56%|█████▌    | 14/25 [00:16<00:13,  1.20s/it]"
          ],
          "name": "stderr"
        },
        {
          "output_type": "display_data",
          "data": {
            "text/html": [
              "<font color = red>Not_duplicate (100%)</font> --> <font color = red>[FAILED]</font><br><font color = bold><font color = underline>Question1</font></font>: What is an easy way to clean toothpaste stains from a shirt without washing it?\n",
              "<font color = bold><font color = underline>Question2</font></font>: What are some ways to remove hard water stains from dishes?"
            ],
            "text/plain": [
              "<IPython.core.display.HTML object>"
            ]
          },
          "metadata": {
            "tags": []
          }
        },
        {
          "output_type": "stream",
          "text": [
            "\r[Succeeded / Failed / Total] 4 / 9 / 15:  60%|██████    | 15/25 [00:18<00:12,  1.25s/it]"
          ],
          "name": "stderr"
        },
        {
          "output_type": "display_data",
          "data": {
            "text/html": [
              "<font color = green>Duplicate (96%)</font> --> <font color = red>Not_duplicate (94%)</font><br><font color = bold><font color = underline>Question1</font></font>: What was the deadliest <font color = green>battle</font> in history?\n",
              "<font color = bold><font color = underline>Question2</font></font>: What was the bloodiest battle in history?<br><font color = bold><font color = underline>Question1</font></font>: What was the deadliest <font color = red>battlezone</font> in history?\n",
              "<font color = bold><font color = underline>Question2</font></font>: What was the bloodiest battle in history?"
            ],
            "text/plain": [
              "<IPython.core.display.HTML object>"
            ]
          },
          "metadata": {
            "tags": []
          }
        },
        {
          "output_type": "stream",
          "text": [
            "[Succeeded / Failed / Total] 5 / 9 / 16:  64%|██████▍   | 16/25 [00:19<00:10,  1.21s/it]"
          ],
          "name": "stderr"
        },
        {
          "output_type": "display_data",
          "data": {
            "text/html": [
              "<font color = green>Duplicate (99%)</font> --> <font color = red>Not_duplicate (99%)</font><br><font color = bold><font color = underline>Question1</font></font>: What are your views about demonetisation in India?\n",
              "<font color = bold><font color = underline>Question2</font></font>: What do you think about the ban on 500 and 1000 denomination notes in <font color = green>India</font>?<br><font color = bold><font color = underline>Question1</font></font>: What are your views about demonetisation in India?\n",
              "<font color = bold><font color = underline>Question2</font></font>: What do you think about the ban on 500 and 1000 denomination notes in <font color = red>Ndia</font>?"
            ],
            "text/plain": [
              "<IPython.core.display.HTML object>"
            ]
          },
          "metadata": {
            "tags": []
          }
        },
        {
          "output_type": "stream",
          "text": [
            "\r[Succeeded / Failed / Total] 6 / 9 / 17:  68%|██████▊   | 17/25 [00:20<00:09,  1.18s/it]"
          ],
          "name": "stderr"
        },
        {
          "output_type": "display_data",
          "data": {
            "text/html": [
              "<font color = red>Not_duplicate (100%)</font> --> <font color = red>[FAILED]</font><br><font color = bold><font color = underline>Question1</font></font>: What are the difference between polyester 210T and 210D?\n",
              "<font color = bold><font color = underline>Question2</font></font>: What is the difference between cotton and polyester?"
            ],
            "text/plain": [
              "<IPython.core.display.HTML object>"
            ]
          },
          "metadata": {
            "tags": []
          }
        },
        {
          "output_type": "stream",
          "text": [
            "[Succeeded / Failed / Total] 6 / 10 / 18:  72%|███████▏  | 18/25 [00:21<00:08,  1.17s/it]"
          ],
          "name": "stderr"
        },
        {
          "output_type": "display_data",
          "data": {
            "text/html": [
              "<font color = red>Not_duplicate (99%)</font> --> <font color = green>Duplicate (53%)</font><br><font color = bold><font color = underline>Question1</font></font>: <font color = red>Is</font> FMS Delhi <font color = red>a</font> good option for a MBA executive <font color = red>program</font>?\n",
              "<font color = bold><font color = underline>Question2</font></font>: Is FMS a good choice for <font color = red>an</font> MBA <font color = red>in</font> HR? Why and why <font color = red>not</font>?<br><font color = bold><font color = underline>Question1</font></font>: <font color = green>Larva</font> FMS Delhi <font color = green>the</font> good option for a MBA executive <font color = green>prog</font>?\n",
              "<font color = bold><font color = underline>Question2</font></font>: Is FMS a good choice for <font color = green>this</font> MBA <font color = green>of</font> HR? Why and why <font color = green>never</font>?"
            ],
            "text/plain": [
              "<IPython.core.display.HTML object>"
            ]
          },
          "metadata": {
            "tags": []
          }
        },
        {
          "output_type": "stream",
          "text": [
            "\r[Succeeded / Failed / Total] 7 / 10 / 19:  76%|███████▌  | 19/25 [00:22<00:07,  1.19s/it]"
          ],
          "name": "stderr"
        },
        {
          "output_type": "display_data",
          "data": {
            "text/html": [
              "<font color = green>Duplicate (91%)</font> --> <font color = red>Not_duplicate (100%)</font><br><font color = bold><font color = underline>Question1</font></font>: Is it a bad time to buy a condo or a house in the <font color = green>Bay</font> Area in 2017?\n",
              "<font color = bold><font color = underline>Question2</font></font>: Would 2017 be a good time to buy a <font color = green>house</font> in Bay Area?<br><font color = bold><font color = underline>Question1</font></font>: Is it a bad time to buy a condo or a house in the <font color = red>Yesterday</font> Area in 2017?\n",
              "<font color = bold><font color = underline>Question2</font></font>: Would 2017 be a good time to buy a <font color = red>commons</font> in Bay Area?"
            ],
            "text/plain": [
              "<IPython.core.display.HTML object>"
            ]
          },
          "metadata": {
            "tags": []
          }
        },
        {
          "output_type": "stream",
          "text": [
            "[Succeeded / Failed / Total] 8 / 10 / 20:  80%|████████  | 20/25 [00:23<00:05,  1.19s/it]"
          ],
          "name": "stderr"
        },
        {
          "output_type": "display_data",
          "data": {
            "text/html": [
              "<font color = red>Not_duplicate (100%)</font> --> <font color = red>[FAILED]</font><br><font color = bold><font color = underline>Question1</font></font>: How is vanilla extract made?\n",
              "<font color = bold><font color = underline>Question2</font></font>: How do you make sugar cookies without vanilla extract?"
            ],
            "text/plain": [
              "<IPython.core.display.HTML object>"
            ]
          },
          "metadata": {
            "tags": []
          }
        },
        {
          "output_type": "stream",
          "text": [
            "\r[Succeeded / Failed / Total] 8 / 11 / 21:  84%|████████▍ | 21/25 [00:24<00:04,  1.18s/it]"
          ],
          "name": "stderr"
        },
        {
          "output_type": "display_data",
          "data": {
            "text/html": [
              "<font color = green>Duplicate (100%)</font> --> <font color = red>[FAILED]</font><br><font color = bold><font color = underline>Question1</font></font>: What is the Sahara, and how do the average temperatures there compare to the ones in the Patagonian Desert?\n",
              "<font color = bold><font color = underline>Question2</font></font>: What is the Sahara, and how do the average temperatures there compare to the ones in the Registan Desert?"
            ],
            "text/plain": [
              "<IPython.core.display.HTML object>"
            ]
          },
          "metadata": {
            "tags": []
          }
        },
        {
          "output_type": "stream",
          "text": [
            "[Succeeded / Failed / Total] 8 / 12 / 22:  88%|████████▊ | 22/25 [00:27<00:03,  1.24s/it]"
          ],
          "name": "stderr"
        },
        {
          "output_type": "display_data",
          "data": {
            "text/html": [
              "<font color = red>Not_duplicate (100%)</font> --> <font color = red>[FAILED]</font><br><font color = bold><font color = underline>Question1</font></font>: Why was the Roman Empire so successful?\n",
              "<font color = bold><font color = underline>Question2</font></font>: What are some of the rarely known facts about the Roman Empire?"
            ],
            "text/plain": [
              "<IPython.core.display.HTML object>"
            ]
          },
          "metadata": {
            "tags": []
          }
        },
        {
          "output_type": "stream",
          "text": [
            "\r[Succeeded / Failed / Total] 8 / 13 / 23:  92%|█████████▏| 23/25 [00:28<00:02,  1.23s/it]"
          ],
          "name": "stderr"
        },
        {
          "output_type": "display_data",
          "data": {
            "text/html": [
              "<font color = red>Not_duplicate (100%)</font> --> <font color = green>Duplicate (61%)</font><br><font color = bold><font color = underline>Question1</font></font>: <font color = red>Is</font> it advisable to <font color = red>sent</font> <font color = red>your</font> cv to a professor with whom you are trying to make contact for graduate admission?\n",
              "<font color = bold><font color = underline>Question2</font></font>: <font color = red>How</font> <font color = red>does</font> contacting a professor <font color = red>before</font> applying <font color = red>factor</font> <font color = red>into</font> graduate admissions?<br><font color = bold><font color = underline>Question1</font></font>: <font color = green>Larva</font> it advisable to <font color = green>alerted</font> <font color = green>my</font> cv to a professor with whom you are trying to make contact for graduate admission?\n",
              "<font color = bold><font color = underline>Question2</font></font>: <font color = green>Kowtow</font> <font color = green>did</font> contacting a professor <font color = green>after</font> applying <font color = green>inhibitor</font> <font color = green>onto</font> graduate admissions?"
            ],
            "text/plain": [
              "<IPython.core.display.HTML object>"
            ]
          },
          "metadata": {
            "tags": []
          }
        },
        {
          "output_type": "stream",
          "text": [
            "[Succeeded / Failed / Total] 9 / 13 / 24:  96%|█████████▌| 24/25 [00:30<00:01,  1.26s/it]"
          ],
          "name": "stderr"
        },
        {
          "output_type": "display_data",
          "data": {
            "text/html": [
              "<font color = red>Not_duplicate (100%)</font> --> <font color = red>[FAILED]</font><br><font color = bold><font color = underline>Question1</font></font>: Does a RainTPL syntax extension for Sublime Text exist? Where can I download it?\n",
              "<font color = bold><font color = underline>Question2</font></font>: How do I hide the find/replace bar in Sublime Text 2?"
            ],
            "text/plain": [
              "<IPython.core.display.HTML object>"
            ]
          },
          "metadata": {
            "tags": []
          }
        },
        {
          "output_type": "stream",
          "text": [
            "\r[Succeeded / Failed / Total] 9 / 14 / 25: 100%|██████████| 25/25 [00:32<00:00,  1.29s/it]"
          ],
          "name": "stderr"
        },
        {
          "output_type": "display_data",
          "data": {
            "text/html": [
              "<font color = red>Not_duplicate (100%)</font> --> <font color = red>[FAILED]</font><br><font color = bold><font color = underline>Question1</font></font>: What is the average salary of a microbiologist in India?\n",
              "<font color = bold><font color = underline>Question2</font></font>: What is the salary for a psychologist in india?"
            ],
            "text/plain": [
              "<IPython.core.display.HTML object>"
            ]
          },
          "metadata": {
            "tags": []
          }
        },
        {
          "output_type": "stream",
          "text": [
            "[Succeeded / Failed / Total] 9 / 15 / 26: : 26it [00:33,  1.29s/it]"
          ],
          "name": "stderr"
        },
        {
          "output_type": "display_data",
          "data": {
            "text/html": [
              "<font color = red>Not_duplicate (88%)</font> --> <font color = green>Duplicate (63%)</font><br><font color = bold><font color = underline>Question1</font></font>: How do you close a Bank of America account?\n",
              "<font color = bold><font color = underline>Question2</font></font>: <font color = red>How</font> <font color = red>can</font> one close <font color = red>a</font> bank account online?<br><font color = bold><font color = underline>Question1</font></font>: How do you close a Bank of America account?\n",
              "<font color = bold><font color = underline>Question2</font></font>: <font color = green>Kowtow</font> <font color = green>could</font> one close <font color = green>the</font> bank account online?"
            ],
            "text/plain": [
              "<IPython.core.display.HTML object>"
            ]
          },
          "metadata": {
            "tags": []
          }
        },
        {
          "output_type": "stream",
          "text": [
            "[Succeeded / Failed / Total] 10 / 15 / 27: : 27it [00:34,  1.27s/it]"
          ],
          "name": "stderr"
        },
        {
          "output_type": "stream",
          "text": [
            "+-------------------------------+--------+\n",
            "| Attack Results                |        |\n",
            "+-------------------------------+--------+\n",
            "| Number of successful attacks: | 10     |\n",
            "| Number of failed attacks:     | 15     |\n",
            "| Number of skipped attacks:    | 2      |\n",
            "| Original accuracy:            | 92.59% |\n",
            "| Accuracy under attack:        | 55.56% |\n",
            "| Attack success rate:          | 40.0%  |\n",
            "| Average perturbed word %:     | 16.49% |\n",
            "| Average num. words per input: | 22.3   |\n",
            "| Avg num queries:              | 34.72  |\n",
            "+-------------------------------+--------+"
          ],
          "name": "stdout"
        },
        {
          "output_type": "stream",
          "text": [
            "\n",
            "\u001b[34;1mtextattack\u001b[0m: Attack time: 34.37549948692322s\n"
          ],
          "name": "stderr"
        }
      ]
    },
    {
      "cell_type": "markdown",
      "metadata": {
        "id": "BIlCdyXet2mk"
      },
      "source": [
        "### Word2Vec, GreedyWordSwapWIR, PartsofSpeech"
      ]
    },
    {
      "cell_type": "code",
      "metadata": {
        "id": "YX8hOBEXsRu2",
        "colab": {
          "base_uri": "https://localhost:8080/"
        },
        "outputId": "3b5c3f35-a106-4ed8-80f4-a40cd922396e"
      },
      "source": [
        "# We're going to use our word swap class as the attack transformation.\n",
        "transformation = Swapper_()\n",
        "\n",
        "constraints = [PartOfSpeech()]\n",
        "\n",
        "search_method = GreedyWordSwapWIR()\n",
        "\n",
        "goal_function = UntargetedClassification(model_wrapper)\n",
        "\n",
        "# Now, let's make the attack from the 4 components:\n",
        "attack = Attack(goal_function, constraints, transformation, search_method)"
      ],
      "execution_count": null,
      "outputs": [
        {
          "output_type": "stream",
          "text": [
            "\u001b[34;1mtextattack\u001b[0m: Unknown if model of class <class 'transformers.models.bert.modeling_bert.BertForSequenceClassification'> compatible with goal function <class 'textattack.goal_functions.classification.untargeted_classification.UntargetedClassification'>.\n"
          ],
          "name": "stderr"
        }
      ]
    },
    {
      "cell_type": "code",
      "metadata": {
        "id": "z3sSVm0q1F8F",
        "colab": {
          "base_uri": "https://localhost:8080/"
        },
        "outputId": "db93d7cf-a464-47ca-fa80-82c6ec6fef3c"
      },
      "source": [
        "print(attack)"
      ],
      "execution_count": null,
      "outputs": [
        {
          "output_type": "stream",
          "text": [
            "Attack(\n",
            "  (search_method): GreedyWordSwapWIR(\n",
            "    (wir_method):  unk\n",
            "  )\n",
            "  (goal_function):  UntargetedClassification\n",
            "  (transformation):  Swapper_\n",
            "  (constraints): \n",
            "    (0): PartOfSpeech(\n",
            "        (tagger_type):  nltk\n",
            "        (tagset):  universal\n",
            "        (allow_verb_noun_swap):  True\n",
            "        (compare_against_original):  True\n",
            "      )\n",
            "  (is_black_box):  True\n",
            ")\n"
          ],
          "name": "stdout"
        }
      ]
    },
    {
      "cell_type": "code",
      "metadata": {
        "id": "78FFw18K1Hkb",
        "colab": {
          "base_uri": "https://localhost:8080/",
          "height": 1000
        },
        "outputId": "4ec66a0f-7fff-4fb4-c8fa-635e03521ecc"
      },
      "source": [
        "attack_stats(attack, dataset, 25)"
      ],
      "execution_count": null,
      "outputs": [
        {
          "output_type": "stream",
          "text": [
            "\r  0%|          | 0/25 [00:00<?, ?it/s]"
          ],
          "name": "stderr"
        },
        {
          "output_type": "stream",
          "text": [
            "Attack(\n",
            "  (search_method): GreedyWordSwapWIR(\n",
            "    (wir_method):  unk\n",
            "  )\n",
            "  (goal_function):  UntargetedClassification\n",
            "  (transformation):  Swapper_\n",
            "  (constraints): \n",
            "    (0): PartOfSpeech(\n",
            "        (tagger_type):  nltk\n",
            "        (tagset):  universal\n",
            "        (allow_verb_noun_swap):  True\n",
            "        (compare_against_original):  True\n",
            "      )\n",
            "  (is_black_box):  True\n",
            ")\n"
          ],
          "name": "stdout"
        },
        {
          "output_type": "display_data",
          "data": {
            "text/html": [
              "<font color = red>Not_duplicate (100%)</font> --> <font color = red>[FAILED]</font><br><font color = bold><font color = underline>Question1</font></font>: Why are African-Americans so beautiful?\n",
              "<font color = bold><font color = underline>Question2</font></font>: Why are hispanics so beautiful?"
            ],
            "text/plain": [
              "<IPython.core.display.HTML object>"
            ]
          },
          "metadata": {
            "tags": []
          }
        },
        {
          "output_type": "stream",
          "text": [
            "[Succeeded / Failed / Total] 0 / 1 / 1:   4%|▍         | 1/25 [00:00<00:12,  1.89it/s]"
          ],
          "name": "stderr"
        },
        {
          "output_type": "display_data",
          "data": {
            "text/html": [
              "<font color = red>Not_duplicate (100%)</font> --> <font color = red>[FAILED]</font><br><font color = bold><font color = underline>Question1</font></font>: I want to pursue PhD in Computer Science about social network,what is the open problem in social networks?\n",
              "<font color = bold><font color = underline>Question2</font></font>: I handle social media for a non-profit. Should I start going to social media networking events? Are there any good ones in the bay area?"
            ],
            "text/plain": [
              "<IPython.core.display.HTML object>"
            ]
          },
          "metadata": {
            "tags": []
          }
        },
        {
          "output_type": "stream",
          "text": [
            "[Succeeded / Failed / Total] 0 / 2 / 2:   8%|▊         | 2/25 [00:03<00:35,  1.55s/it]"
          ],
          "name": "stderr"
        },
        {
          "output_type": "display_data",
          "data": {
            "text/html": [
              "<font color = green>Duplicate (97%)</font> --> <font color = red>Not_duplicate (91%)</font><br><font color = bold><font color = underline>Question1</font></font>: Is there a reason why we should travel <font color = green>alone</font>?\n",
              "<font color = bold><font color = underline>Question2</font></font>: What are some reasons to travel alone?<br><font color = bold><font color = underline>Question1</font></font>: Is there a reason why we should travel <font color = red>eternally</font>?\n",
              "<font color = bold><font color = underline>Question2</font></font>: What are some reasons to travel alone?"
            ],
            "text/plain": [
              "<IPython.core.display.HTML object>"
            ]
          },
          "metadata": {
            "tags": []
          }
        },
        {
          "output_type": "stream",
          "text": [
            "[Succeeded / Failed / Total] 1 / 2 / 3:  12%|█▏        | 3/25 [00:03<00:27,  1.24s/it]"
          ],
          "name": "stderr"
        },
        {
          "output_type": "display_data",
          "data": {
            "text/html": [
              "<font color = red>Not_duplicate (100%)</font> --> <font color = red>[FAILED]</font><br><font color = bold><font color = underline>Question1</font></font>: Why are people so obsessed with having a girlfriend/boyfriend?\n",
              "<font color = bold><font color = underline>Question2</font></font>: How can a single male have a child?"
            ],
            "text/plain": [
              "<IPython.core.display.HTML object>"
            ]
          },
          "metadata": {
            "tags": []
          }
        },
        {
          "output_type": "stream",
          "text": [
            "[Succeeded / Failed / Total] 1 / 3 / 4:  16%|█▌        | 4/25 [00:04<00:25,  1.23s/it]"
          ],
          "name": "stderr"
        },
        {
          "output_type": "display_data",
          "data": {
            "text/html": [
              "<font color = red>Not_duplicate (94%)</font> --> <font color = red>[FAILED]</font><br><font color = bold><font color = underline>Question1</font></font>: What are some good baby girl names starting with D?\n",
              "<font color = bold><font color = underline>Question2</font></font>: What are some good baby girl names starting with D or H?"
            ],
            "text/plain": [
              "<IPython.core.display.HTML object>"
            ]
          },
          "metadata": {
            "tags": []
          }
        },
        {
          "output_type": "stream",
          "text": [
            "[Succeeded / Failed / Total] 1 / 4 / 5:  20%|██        | 5/25 [00:06<00:25,  1.27s/it]"
          ],
          "name": "stderr"
        },
        {
          "output_type": "display_data",
          "data": {
            "text/html": [
              "<font color = green>Duplicate (99%)</font> --> <font color = red>Not_duplicate (58%)</font><br><font color = bold><font color = underline>Question1</font></font>: I am 25 year old guy and <font color = green>never</font> had a girlfriend. Is this weird?\n",
              "<font color = bold><font color = underline>Question2</font></font>: I am 25 years old. I have never had a girlfriend. Is something wrong with me?<br><font color = bold><font color = underline>Question1</font></font>: I am 25 year old guy and <font color = red>already</font> had a girlfriend. Is this weird?\n",
              "<font color = bold><font color = underline>Question2</font></font>: I am 25 years old. I have never had a girlfriend. Is something wrong with me?"
            ],
            "text/plain": [
              "<IPython.core.display.HTML object>"
            ]
          },
          "metadata": {
            "tags": []
          }
        },
        {
          "output_type": "stream",
          "text": [
            "[Succeeded / Failed / Total] 2 / 4 / 6:  24%|██▍       | 6/25 [00:07<00:23,  1.22s/it]"
          ],
          "name": "stderr"
        },
        {
          "output_type": "display_data",
          "data": {
            "text/html": [
              "<font color = red>Not_duplicate (92%)</font> --> <font color = gray>[SKIPPED]</font><br><font color = bold><font color = underline>Question1</font></font>: \"What does a good answer on Quora look like? What does it mean to \"\"be helpful\"\"?\"\n",
              "<font color = bold><font color = underline>Question2</font></font>: How do you write a good answer on Quora?"
            ],
            "text/plain": [
              "<IPython.core.display.HTML object>"
            ]
          },
          "metadata": {
            "tags": []
          }
        },
        {
          "output_type": "stream",
          "text": [
            "\r[Succeeded / Failed / Total] 2 / 4 / 7:  28%|██▊       | 7/25 [00:07<00:18,  1.05s/it]"
          ],
          "name": "stderr"
        },
        {
          "output_type": "display_data",
          "data": {
            "text/html": [
              "<font color = green>Duplicate (54%)</font> --> <font color = red>Not_duplicate (97%)</font><br><font color = bold><font color = underline>Question1</font></font>: What are the best things to do in Hong Kong?\n",
              "<font color = bold><font color = underline>Question2</font></font>: What is the best <font color = green>thing</font> in Hong Kong?<br><font color = bold><font color = underline>Question1</font></font>: What are the best things to do in Hong Kong?\n",
              "<font color = bold><font color = underline>Question2</font></font>: What is the best <font color = red>damn</font> in Hong Kong?"
            ],
            "text/plain": [
              "<IPython.core.display.HTML object>"
            ]
          },
          "metadata": {
            "tags": []
          }
        },
        {
          "output_type": "stream",
          "text": [
            "[Succeeded / Failed / Total] 3 / 4 / 8:  32%|███▏      | 8/25 [00:07<00:16,  1.00it/s]"
          ],
          "name": "stderr"
        },
        {
          "output_type": "display_data",
          "data": {
            "text/html": [
              "<font color = green>Duplicate (84%)</font> --> <font color = gray>[SKIPPED]</font><br><font color = bold><font color = underline>Question1</font></font>: Why is my life getting so complicated?\n",
              "<font color = bold><font color = underline>Question2</font></font>: Why is my life so complicated?"
            ],
            "text/plain": [
              "<IPython.core.display.HTML object>"
            ]
          },
          "metadata": {
            "tags": []
          }
        },
        {
          "output_type": "stream",
          "text": [
            "\r[Succeeded / Failed / Total] 3 / 4 / 9:  36%|███▌      | 9/25 [00:08<00:14,  1.12it/s]"
          ],
          "name": "stderr"
        },
        {
          "output_type": "display_data",
          "data": {
            "text/html": [
              "<font color = red>Not_duplicate (100%)</font> --> <font color = red>[FAILED]</font><br><font color = bold><font color = underline>Question1</font></font>: Why should I crack Jee?\n",
              "<font color = bold><font color = underline>Question2</font></font>: Is it possible to get into IIMs with low marks in graduation and 12th?"
            ],
            "text/plain": [
              "<IPython.core.display.HTML object>"
            ]
          },
          "metadata": {
            "tags": []
          }
        },
        {
          "output_type": "stream",
          "text": [
            "[Succeeded / Failed / Total] 3 / 5 / 10:  40%|████      | 10/25 [00:09<00:13,  1.09it/s]"
          ],
          "name": "stderr"
        },
        {
          "output_type": "display_data",
          "data": {
            "text/html": [
              "<font color = red>Not_duplicate (100%)</font> --> <font color = green>Duplicate (58%)</font><br><font color = bold><font color = underline>Question1</font></font>: Can <font color = red>you</font> TRANSLATE <font color = red>these</font> to English language?\n",
              "<font color = bold><font color = underline>Question2</font></font>: Can <font color = red>you</font> <font color = red>translate</font> <font color = red>this</font> <font color = red>from</font> Bengali to English language?<br><font color = bold><font color = underline>Question1</font></font>: Can <font color = green>we</font> TRANSLATE <font color = green>some</font> to English language?\n",
              "<font color = bold><font color = underline>Question2</font></font>: Can <font color = green>we</font> <font color = green>transcribe</font> <font color = green>which</font> <font color = green>through</font> Bengali to English language?"
            ],
            "text/plain": [
              "<IPython.core.display.HTML object>"
            ]
          },
          "metadata": {
            "tags": []
          }
        },
        {
          "output_type": "stream",
          "text": [
            "\r[Succeeded / Failed / Total] 4 / 5 / 11:  44%|████▍     | 11/25 [00:10<00:12,  1.09it/s]"
          ],
          "name": "stderr"
        },
        {
          "output_type": "display_data",
          "data": {
            "text/html": [
              "<font color = red>Not_duplicate (100%)</font> --> <font color = red>[FAILED]</font><br><font color = bold><font color = underline>Question1</font></font>: Can anyone tell shall mi mix mobile should be purchased or not?\n",
              "<font color = bold><font color = underline>Question2</font></font>: \"What did Voltaire mean when he said, \"\"God is a comedian playing to an audience that is too afraid to laugh\"\"?\""
            ],
            "text/plain": [
              "<IPython.core.display.HTML object>"
            ]
          },
          "metadata": {
            "tags": []
          }
        },
        {
          "output_type": "stream",
          "text": [
            "[Succeeded / Failed / Total] 4 / 6 / 12:  48%|████▊     | 12/25 [00:12<00:13,  1.02s/it]"
          ],
          "name": "stderr"
        },
        {
          "output_type": "display_data",
          "data": {
            "text/html": [
              "<font color = green>Duplicate (100%)</font> --> <font color = red>Not_duplicate (79%)</font><br><font color = bold><font color = underline>Question1</font></font>: Which is the best gaming <font color = green>laptop</font> under 40k?\n",
              "<font color = bold><font color = underline>Question2</font></font>: Which is the best gaming laptop under 40,000 <font color = green>rs</font>?<br><font color = bold><font color = underline>Question1</font></font>: Which is the best gaming <font color = red>xt</font> under 40k?\n",
              "<font color = bold><font color = underline>Question2</font></font>: Which is the best gaming laptop under 40,000 <font color = red>kbyte</font>?"
            ],
            "text/plain": [
              "<IPython.core.display.HTML object>"
            ]
          },
          "metadata": {
            "tags": []
          }
        },
        {
          "output_type": "stream",
          "text": [
            "\r[Succeeded / Failed / Total] 5 / 6 / 13:  52%|█████▏    | 13/25 [00:12<00:11,  1.00it/s]"
          ],
          "name": "stderr"
        },
        {
          "output_type": "display_data",
          "data": {
            "text/html": [
              "<font color = red>Not_duplicate (100%)</font> --> <font color = red>[FAILED]</font><br><font color = bold><font color = underline>Question1</font></font>: Why Tamil Nadu Universities are no good?\n",
              "<font color = bold><font color = underline>Question2</font></font>: Why are the 10th students able to score 100% in Tamil Nadu?"
            ],
            "text/plain": [
              "<IPython.core.display.HTML object>"
            ]
          },
          "metadata": {
            "tags": []
          }
        },
        {
          "output_type": "stream",
          "text": [
            "[Succeeded / Failed / Total] 5 / 7 / 14:  56%|█████▌    | 14/25 [00:13<00:10,  1.00it/s]"
          ],
          "name": "stderr"
        },
        {
          "output_type": "display_data",
          "data": {
            "text/html": [
              "<font color = red>Not_duplicate (100%)</font> --> <font color = red>[FAILED]</font><br><font color = bold><font color = underline>Question1</font></font>: What is an easy way to clean toothpaste stains from a shirt without washing it?\n",
              "<font color = bold><font color = underline>Question2</font></font>: What are some ways to remove hard water stains from dishes?"
            ],
            "text/plain": [
              "<IPython.core.display.HTML object>"
            ]
          },
          "metadata": {
            "tags": []
          }
        },
        {
          "output_type": "stream",
          "text": [
            "\r[Succeeded / Failed / Total] 5 / 8 / 15:  60%|██████    | 15/25 [00:15<00:10,  1.04s/it]"
          ],
          "name": "stderr"
        },
        {
          "output_type": "display_data",
          "data": {
            "text/html": [
              "<font color = green>Duplicate (96%)</font> --> <font color = red>Not_duplicate (97%)</font><br><font color = bold><font color = underline>Question1</font></font>: What was the deadliest <font color = green>battle</font> in history?\n",
              "<font color = bold><font color = underline>Question2</font></font>: What was the bloodiest battle in history?<br><font color = bold><font color = underline>Question1</font></font>: What was the deadliest <font color = red>chancellorsville</font> in history?\n",
              "<font color = bold><font color = underline>Question2</font></font>: What was the bloodiest battle in history?"
            ],
            "text/plain": [
              "<IPython.core.display.HTML object>"
            ]
          },
          "metadata": {
            "tags": []
          }
        },
        {
          "output_type": "stream",
          "text": [
            "[Succeeded / Failed / Total] 6 / 8 / 16:  64%|██████▍   | 16/25 [00:16<00:09,  1.01s/it]"
          ],
          "name": "stderr"
        },
        {
          "output_type": "display_data",
          "data": {
            "text/html": [
              "<font color = green>Duplicate (99%)</font> --> <font color = red>Not_duplicate (98%)</font><br><font color = bold><font color = underline>Question1</font></font>: What are <font color = green>your</font> views about demonetisation in India?\n",
              "<font color = bold><font color = underline>Question2</font></font>: What do <font color = green>you</font> <font color = green>think</font> about the ban on 500 and 1000 denomination <font color = green>notes</font> in India?<br><font color = bold><font color = underline>Question1</font></font>: What are <font color = red>my</font> views about demonetisation in India?\n",
              "<font color = bold><font color = underline>Question2</font></font>: What do <font color = red>we</font> <font color = red>know</font> about the ban on 500 and 1000 denomination <font color = red>csli</font> in India?"
            ],
            "text/plain": [
              "<IPython.core.display.HTML object>"
            ]
          },
          "metadata": {
            "tags": []
          }
        },
        {
          "output_type": "stream",
          "text": [
            "\r[Succeeded / Failed / Total] 7 / 8 / 17:  68%|██████▊   | 17/25 [00:17<00:08,  1.01s/it]"
          ],
          "name": "stderr"
        },
        {
          "output_type": "display_data",
          "data": {
            "text/html": [
              "<font color = red>Not_duplicate (100%)</font> --> <font color = red>[FAILED]</font><br><font color = bold><font color = underline>Question1</font></font>: What are the difference between polyester 210T and 210D?\n",
              "<font color = bold><font color = underline>Question2</font></font>: What is the difference between cotton and polyester?"
            ],
            "text/plain": [
              "<IPython.core.display.HTML object>"
            ]
          },
          "metadata": {
            "tags": []
          }
        },
        {
          "output_type": "stream",
          "text": [
            "[Succeeded / Failed / Total] 7 / 9 / 18:  72%|███████▏  | 18/25 [00:18<00:07,  1.01s/it]"
          ],
          "name": "stderr"
        },
        {
          "output_type": "display_data",
          "data": {
            "text/html": [
              "<font color = red>Not_duplicate (99%)</font> --> <font color = red>[FAILED]</font><br><font color = bold><font color = underline>Question1</font></font>: Is FMS Delhi a good option for a MBA executive program?\n",
              "<font color = bold><font color = underline>Question2</font></font>: Is FMS a good choice for an MBA in HR? Why and why not?"
            ],
            "text/plain": [
              "<IPython.core.display.HTML object>"
            ]
          },
          "metadata": {
            "tags": []
          }
        },
        {
          "output_type": "stream",
          "text": [
            "\r[Succeeded / Failed / Total] 7 / 10 / 19:  76%|███████▌  | 19/25 [00:19<00:06,  1.02s/it]"
          ],
          "name": "stderr"
        },
        {
          "output_type": "display_data",
          "data": {
            "text/html": [
              "<font color = green>Duplicate (91%)</font> --> <font color = red>Not_duplicate (87%)</font><br><font color = bold><font color = underline>Question1</font></font>: Is it a bad time to buy a condo or a house in the Bay Area in 2017?\n",
              "<font color = bold><font color = underline>Question2</font></font>: Would 2017 be a good time to buy a <font color = green>house</font> in Bay Area?<br><font color = bold><font color = underline>Question1</font></font>: Is it a bad time to buy a condo or a house in the Bay Area in 2017?\n",
              "<font color = bold><font color = underline>Question2</font></font>: Would 2017 be a good time to buy a <font color = red>commons</font> in Bay Area?"
            ],
            "text/plain": [
              "<IPython.core.display.HTML object>"
            ]
          },
          "metadata": {
            "tags": []
          }
        },
        {
          "output_type": "stream",
          "text": [
            "[Succeeded / Failed / Total] 8 / 10 / 20:  80%|████████  | 20/25 [00:20<00:05,  1.02s/it]"
          ],
          "name": "stderr"
        },
        {
          "output_type": "display_data",
          "data": {
            "text/html": [
              "<font color = red>Not_duplicate (100%)</font> --> <font color = red>[FAILED]</font><br><font color = bold><font color = underline>Question1</font></font>: How is vanilla extract made?\n",
              "<font color = bold><font color = underline>Question2</font></font>: How do you make sugar cookies without vanilla extract?"
            ],
            "text/plain": [
              "<IPython.core.display.HTML object>"
            ]
          },
          "metadata": {
            "tags": []
          }
        },
        {
          "output_type": "stream",
          "text": [
            "\r[Succeeded / Failed / Total] 8 / 11 / 21:  84%|████████▍ | 21/25 [00:21<00:04,  1.02s/it]"
          ],
          "name": "stderr"
        },
        {
          "output_type": "display_data",
          "data": {
            "text/html": [
              "<font color = green>Duplicate (100%)</font> --> <font color = red>[FAILED]</font><br><font color = bold><font color = underline>Question1</font></font>: What is the Sahara, and how do the average temperatures there compare to the ones in the Patagonian Desert?\n",
              "<font color = bold><font color = underline>Question2</font></font>: What is the Sahara, and how do the average temperatures there compare to the ones in the Registan Desert?"
            ],
            "text/plain": [
              "<IPython.core.display.HTML object>"
            ]
          },
          "metadata": {
            "tags": []
          }
        },
        {
          "output_type": "stream",
          "text": [
            "[Succeeded / Failed / Total] 8 / 12 / 22:  88%|████████▊ | 22/25 [00:23<00:03,  1.07s/it]"
          ],
          "name": "stderr"
        },
        {
          "output_type": "display_data",
          "data": {
            "text/html": [
              "<font color = red>Not_duplicate (100%)</font> --> <font color = red>[FAILED]</font><br><font color = bold><font color = underline>Question1</font></font>: Why was the Roman Empire so successful?\n",
              "<font color = bold><font color = underline>Question2</font></font>: What are some of the rarely known facts about the Roman Empire?"
            ],
            "text/plain": [
              "<IPython.core.display.HTML object>"
            ]
          },
          "metadata": {
            "tags": []
          }
        },
        {
          "output_type": "stream",
          "text": [
            "\r[Succeeded / Failed / Total] 8 / 13 / 23:  92%|█████████▏| 23/25 [00:24<00:02,  1.07s/it]"
          ],
          "name": "stderr"
        },
        {
          "output_type": "display_data",
          "data": {
            "text/html": [
              "<font color = red>Not_duplicate (100%)</font> --> <font color = red>[FAILED]</font><br><font color = bold><font color = underline>Question1</font></font>: Is it advisable to sent your cv to a professor with whom you are trying to make contact for graduate admission?\n",
              "<font color = bold><font color = underline>Question2</font></font>: How does contacting a professor before applying factor into graduate admissions?"
            ],
            "text/plain": [
              "<IPython.core.display.HTML object>"
            ]
          },
          "metadata": {
            "tags": []
          }
        },
        {
          "output_type": "stream",
          "text": [
            "[Succeeded / Failed / Total] 8 / 14 / 24:  96%|█████████▌| 24/25 [00:26<00:01,  1.11s/it]"
          ],
          "name": "stderr"
        },
        {
          "output_type": "display_data",
          "data": {
            "text/html": [
              "<font color = red>Not_duplicate (100%)</font> --> <font color = red>[FAILED]</font><br><font color = bold><font color = underline>Question1</font></font>: Does a RainTPL syntax extension for Sublime Text exist? Where can I download it?\n",
              "<font color = bold><font color = underline>Question2</font></font>: How do I hide the find/replace bar in Sublime Text 2?"
            ],
            "text/plain": [
              "<IPython.core.display.HTML object>"
            ]
          },
          "metadata": {
            "tags": []
          }
        },
        {
          "output_type": "stream",
          "text": [
            "\r[Succeeded / Failed / Total] 8 / 15 / 25: 100%|██████████| 25/25 [00:28<00:00,  1.12s/it]"
          ],
          "name": "stderr"
        },
        {
          "output_type": "display_data",
          "data": {
            "text/html": [
              "<font color = red>Not_duplicate (100%)</font> --> <font color = red>[FAILED]</font><br><font color = bold><font color = underline>Question1</font></font>: What is the average salary of a microbiologist in India?\n",
              "<font color = bold><font color = underline>Question2</font></font>: What is the salary for a psychologist in india?"
            ],
            "text/plain": [
              "<IPython.core.display.HTML object>"
            ]
          },
          "metadata": {
            "tags": []
          }
        },
        {
          "output_type": "stream",
          "text": [
            "[Succeeded / Failed / Total] 8 / 16 / 26: : 26it [00:29,  1.12s/it]"
          ],
          "name": "stderr"
        },
        {
          "output_type": "display_data",
          "data": {
            "text/html": [
              "<font color = red>Not_duplicate (88%)</font> --> <font color = green>Duplicate (84%)</font><br><font color = bold><font color = underline>Question1</font></font>: How do you close a Bank of America <font color = red>account</font>?\n",
              "<font color = bold><font color = underline>Question2</font></font>: How can one close a bank <font color = red>account</font> online?<br><font color = bold><font color = underline>Question1</font></font>: How do you close a Bank of America <font color = green>explanation</font>?\n",
              "<font color = bold><font color = underline>Question2</font></font>: How can one close a bank <font color = green>explanation</font> online?"
            ],
            "text/plain": [
              "<IPython.core.display.HTML object>"
            ]
          },
          "metadata": {
            "tags": []
          }
        },
        {
          "output_type": "stream",
          "text": [
            "[Succeeded / Failed / Total] 9 / 16 / 27: : 27it [00:30,  1.12s/it]"
          ],
          "name": "stderr"
        },
        {
          "output_type": "stream",
          "text": [
            "+-------------------------------+--------+\n",
            "| Attack Results                |        |\n",
            "+-------------------------------+--------+\n",
            "| Number of successful attacks: | 9      |\n",
            "| Number of failed attacks:     | 16     |\n",
            "| Number of skipped attacks:    | 2      |\n",
            "| Original accuracy:            | 92.59% |\n",
            "| Accuracy under attack:        | 59.26% |\n",
            "| Attack success rate:          | 36.0%  |\n",
            "| Average perturbed word %:     | 11.47% |\n",
            "| Average num. words per input: | 22.3   |\n",
            "| Avg num queries:              | 31.96  |\n",
            "+-------------------------------+--------+"
          ],
          "name": "stdout"
        },
        {
          "output_type": "stream",
          "text": [
            "\n",
            "\u001b[34;1mtextattack\u001b[0m: Attack time: 30.134086847305298s\n"
          ],
          "name": "stderr"
        }
      ]
    },
    {
      "cell_type": "markdown",
      "metadata": {
        "id": "ZEuoCcfXt7pK"
      },
      "source": [
        "### Glove, GreedyWordSwapWIR, PartsofSpeech"
      ]
    },
    {
      "cell_type": "code",
      "metadata": {
        "id": "qDpOZWJXPe_o",
        "colab": {
          "base_uri": "https://localhost:8080/"
        },
        "outputId": "0cd3390d-3e6a-4448-e913-45127552143a"
      },
      "source": [
        "# We're going to use our word swap class as the attack transformation.\n",
        "transformation = Swapper__()\n",
        "\n",
        "constraints = [PartOfSpeech()]\n",
        "\n",
        "search_method = GreedyWordSwapWIR()\n",
        "\n",
        "goal_function = UntargetedClassification(model_wrapper)\n",
        "\n",
        "# Now, let's make the attack from the 4 components:\n",
        "attack = Attack(goal_function, constraints, transformation, search_method)"
      ],
      "execution_count": null,
      "outputs": [
        {
          "output_type": "stream",
          "text": [
            "\u001b[34;1mtextattack\u001b[0m: Unknown if model of class <class 'transformers.models.bert.modeling_bert.BertForSequenceClassification'> compatible with goal function <class 'textattack.goal_functions.classification.untargeted_classification.UntargetedClassification'>.\n"
          ],
          "name": "stderr"
        }
      ]
    },
    {
      "cell_type": "code",
      "metadata": {
        "id": "ir08WYOBQmjK",
        "colab": {
          "base_uri": "https://localhost:8080/"
        },
        "outputId": "379901d3-e636-428e-ad9d-cdc437fca8f0"
      },
      "source": [
        "print(attack)"
      ],
      "execution_count": null,
      "outputs": [
        {
          "output_type": "stream",
          "text": [
            "Attack(\n",
            "  (search_method): GreedyWordSwapWIR(\n",
            "    (wir_method):  unk\n",
            "  )\n",
            "  (goal_function):  UntargetedClassification\n",
            "  (transformation):  Swapper__\n",
            "  (constraints): \n",
            "    (0): PartOfSpeech(\n",
            "        (tagger_type):  nltk\n",
            "        (tagset):  universal\n",
            "        (allow_verb_noun_swap):  True\n",
            "        (compare_against_original):  True\n",
            "      )\n",
            "  (is_black_box):  True\n",
            ")\n"
          ],
          "name": "stdout"
        }
      ]
    },
    {
      "cell_type": "code",
      "metadata": {
        "id": "R4Pio6_BQoS6",
        "colab": {
          "base_uri": "https://localhost:8080/",
          "height": 1000
        },
        "outputId": "e9b50982-4477-4219-8988-c8f2235c6e60"
      },
      "source": [
        "attack_stats(attack, dataset, 25)"
      ],
      "execution_count": null,
      "outputs": [
        {
          "output_type": "stream",
          "text": [
            "\r  0%|          | 0/25 [00:00<?, ?it/s]"
          ],
          "name": "stderr"
        },
        {
          "output_type": "stream",
          "text": [
            "Attack(\n",
            "  (search_method): GreedyWordSwapWIR(\n",
            "    (wir_method):  unk\n",
            "  )\n",
            "  (goal_function):  UntargetedClassification\n",
            "  (transformation):  Swapper__\n",
            "  (constraints): \n",
            "    (0): PartOfSpeech(\n",
            "        (tagger_type):  nltk\n",
            "        (tagset):  universal\n",
            "        (allow_verb_noun_swap):  True\n",
            "        (compare_against_original):  True\n",
            "      )\n",
            "  (is_black_box):  True\n",
            ")\n"
          ],
          "name": "stdout"
        },
        {
          "output_type": "display_data",
          "data": {
            "text/html": [
              "<font color = red>Not_duplicate (100%)</font> --> <font color = red>[FAILED]</font><br><font color = bold><font color = underline>Question1</font></font>: Why are African-Americans so beautiful?\n",
              "<font color = bold><font color = underline>Question2</font></font>: Why are hispanics so beautiful?"
            ],
            "text/plain": [
              "<IPython.core.display.HTML object>"
            ]
          },
          "metadata": {
            "tags": []
          }
        },
        {
          "output_type": "stream",
          "text": [
            "[Succeeded / Failed / Total] 0 / 1 / 1:   4%|▍         | 1/25 [00:00<00:20,  1.18it/s]"
          ],
          "name": "stderr"
        },
        {
          "output_type": "display_data",
          "data": {
            "text/html": [
              "<font color = red>Not_duplicate (100%)</font> --> <font color = red>[FAILED]</font><br><font color = bold><font color = underline>Question1</font></font>: I want to pursue PhD in Computer Science about social network,what is the open problem in social networks?\n",
              "<font color = bold><font color = underline>Question2</font></font>: I handle social media for a non-profit. Should I start going to social media networking events? Are there any good ones in the bay area?"
            ],
            "text/plain": [
              "<IPython.core.display.HTML object>"
            ]
          },
          "metadata": {
            "tags": []
          }
        },
        {
          "output_type": "stream",
          "text": [
            "[Succeeded / Failed / Total] 0 / 2 / 2:   8%|▊         | 2/25 [00:04<00:50,  2.18s/it]"
          ],
          "name": "stderr"
        },
        {
          "output_type": "display_data",
          "data": {
            "text/html": [
              "<font color = green>Duplicate (97%)</font> --> <font color = red>Not_duplicate (100%)</font><br><font color = bold><font color = underline>Question1</font></font>: Is <font color = green>there</font> a reason why <font color = green>we</font> should travel alone?\n",
              "<font color = bold><font color = underline>Question2</font></font>: What are some reasons to travel alone?<br><font color = bold><font color = underline>Question1</font></font>: Is <font color = red>syslisp</font> a reason why <font color = red>you</font> should travel alone?\n",
              "<font color = bold><font color = underline>Question2</font></font>: What are some reasons to travel alone?"
            ],
            "text/plain": [
              "<IPython.core.display.HTML object>"
            ]
          },
          "metadata": {
            "tags": []
          }
        },
        {
          "output_type": "stream",
          "text": [
            "[Succeeded / Failed / Total] 1 / 2 / 3:  12%|█▏        | 3/25 [00:05<00:37,  1.72s/it]"
          ],
          "name": "stderr"
        },
        {
          "output_type": "display_data",
          "data": {
            "text/html": [
              "<font color = red>Not_duplicate (100%)</font> --> <font color = red>[FAILED]</font><br><font color = bold><font color = underline>Question1</font></font>: Why are people so obsessed with having a girlfriend/boyfriend?\n",
              "<font color = bold><font color = underline>Question2</font></font>: How can a single male have a child?"
            ],
            "text/plain": [
              "<IPython.core.display.HTML object>"
            ]
          },
          "metadata": {
            "tags": []
          }
        },
        {
          "output_type": "stream",
          "text": [
            "[Succeeded / Failed / Total] 1 / 3 / 4:  16%|█▌        | 4/25 [00:07<00:37,  1.77s/it]"
          ],
          "name": "stderr"
        },
        {
          "output_type": "display_data",
          "data": {
            "text/html": [
              "<font color = red>Not_duplicate (94%)</font> --> <font color = red>[FAILED]</font><br><font color = bold><font color = underline>Question1</font></font>: What are some good baby girl names starting with D?\n",
              "<font color = bold><font color = underline>Question2</font></font>: What are some good baby girl names starting with D or H?"
            ],
            "text/plain": [
              "<IPython.core.display.HTML object>"
            ]
          },
          "metadata": {
            "tags": []
          }
        },
        {
          "output_type": "stream",
          "text": [
            "[Succeeded / Failed / Total] 1 / 4 / 5:  20%|██        | 5/25 [00:08<00:34,  1.74s/it]"
          ],
          "name": "stderr"
        },
        {
          "output_type": "display_data",
          "data": {
            "text/html": [
              "<font color = green>Duplicate (99%)</font> --> <font color = red>Not_duplicate (96%)</font><br><font color = bold><font color = underline>Question1</font></font>: I am 25 year old guy and <font color = green>never</font> had a <font color = green>girlfriend</font>. Is this weird?\n",
              "<font color = bold><font color = underline>Question2</font></font>: I am 25 years old. I have never had a girlfriend. Is something wrong with me?<br><font color = bold><font color = underline>Question1</font></font>: I am 25 year old guy and <font color = red>actually</font> had a <font color = red>boyfriend</font>. Is this weird?\n",
              "<font color = bold><font color = underline>Question2</font></font>: I am 25 years old. I have never had a girlfriend. Is something wrong with me?"
            ],
            "text/plain": [
              "<IPython.core.display.HTML object>"
            ]
          },
          "metadata": {
            "tags": []
          }
        },
        {
          "output_type": "stream",
          "text": [
            "[Succeeded / Failed / Total] 2 / 4 / 6:  24%|██▍       | 6/25 [00:09<00:31,  1.64s/it]"
          ],
          "name": "stderr"
        },
        {
          "output_type": "display_data",
          "data": {
            "text/html": [
              "<font color = red>Not_duplicate (92%)</font> --> <font color = gray>[SKIPPED]</font><br><font color = bold><font color = underline>Question1</font></font>: \"What does a good answer on Quora look like? What does it mean to \"\"be helpful\"\"?\"\n",
              "<font color = bold><font color = underline>Question2</font></font>: How do you write a good answer on Quora?"
            ],
            "text/plain": [
              "<IPython.core.display.HTML object>"
            ]
          },
          "metadata": {
            "tags": []
          }
        },
        {
          "output_type": "stream",
          "text": [
            "\r[Succeeded / Failed / Total] 2 / 4 / 7:  28%|██▊       | 7/25 [00:09<00:25,  1.41s/it]"
          ],
          "name": "stderr"
        },
        {
          "output_type": "display_data",
          "data": {
            "text/html": [
              "<font color = green>Duplicate (54%)</font> --> <font color = red>Not_duplicate (89%)</font><br><font color = bold><font color = underline>Question1</font></font>: What are the best things to do in Hong Kong?\n",
              "<font color = bold><font color = underline>Question2</font></font>: What is the best <font color = green>thing</font> in Hong Kong?<br><font color = bold><font color = underline>Question1</font></font>: What are the best things to do in Hong Kong?\n",
              "<font color = bold><font color = underline>Question2</font></font>: What is the best <font color = red>happened</font> in Hong Kong?"
            ],
            "text/plain": [
              "<IPython.core.display.HTML object>"
            ]
          },
          "metadata": {
            "tags": []
          }
        },
        {
          "output_type": "stream",
          "text": [
            "[Succeeded / Failed / Total] 3 / 4 / 8:  32%|███▏      | 8/25 [00:10<00:22,  1.32s/it]"
          ],
          "name": "stderr"
        },
        {
          "output_type": "display_data",
          "data": {
            "text/html": [
              "<font color = green>Duplicate (84%)</font> --> <font color = gray>[SKIPPED]</font><br><font color = bold><font color = underline>Question1</font></font>: Why is my life getting so complicated?\n",
              "<font color = bold><font color = underline>Question2</font></font>: Why is my life so complicated?"
            ],
            "text/plain": [
              "<IPython.core.display.HTML object>"
            ]
          },
          "metadata": {
            "tags": []
          }
        },
        {
          "output_type": "stream",
          "text": [
            "\r[Succeeded / Failed / Total] 3 / 4 / 9:  36%|███▌      | 9/25 [00:10<00:18,  1.18s/it]"
          ],
          "name": "stderr"
        },
        {
          "output_type": "display_data",
          "data": {
            "text/html": [
              "<font color = red>Not_duplicate (100%)</font> --> <font color = red>[FAILED]</font><br><font color = bold><font color = underline>Question1</font></font>: Why should I crack Jee?\n",
              "<font color = bold><font color = underline>Question2</font></font>: Is it possible to get into IIMs with low marks in graduation and 12th?"
            ],
            "text/plain": [
              "<IPython.core.display.HTML object>"
            ]
          },
          "metadata": {
            "tags": []
          }
        },
        {
          "output_type": "stream",
          "text": [
            "[Succeeded / Failed / Total] 3 / 5 / 10:  40%|████      | 10/25 [00:12<00:18,  1.21s/it]"
          ],
          "name": "stderr"
        },
        {
          "output_type": "display_data",
          "data": {
            "text/html": [
              "<font color = red>Not_duplicate (100%)</font> --> <font color = red>[FAILED]</font><br><font color = bold><font color = underline>Question1</font></font>: Can you TRANSLATE these to English language?\n",
              "<font color = bold><font color = underline>Question2</font></font>: Can you translate this from Bengali to English language?"
            ],
            "text/plain": [
              "<IPython.core.display.HTML object>"
            ]
          },
          "metadata": {
            "tags": []
          }
        },
        {
          "output_type": "stream",
          "text": [
            "\r[Succeeded / Failed / Total] 3 / 6 / 11:  44%|████▍     | 11/25 [00:13<00:16,  1.19s/it]"
          ],
          "name": "stderr"
        },
        {
          "output_type": "display_data",
          "data": {
            "text/html": [
              "<font color = red>Not_duplicate (100%)</font> --> <font color = red>[FAILED]</font><br><font color = bold><font color = underline>Question1</font></font>: Can anyone tell shall mi mix mobile should be purchased or not?\n",
              "<font color = bold><font color = underline>Question2</font></font>: \"What did Voltaire mean when he said, \"\"God is a comedian playing to an audience that is too afraid to laugh\"\"?\""
            ],
            "text/plain": [
              "<IPython.core.display.HTML object>"
            ]
          },
          "metadata": {
            "tags": []
          }
        },
        {
          "output_type": "stream",
          "text": [
            "[Succeeded / Failed / Total] 3 / 7 / 12:  48%|████▊     | 12/25 [00:16<00:17,  1.34s/it]"
          ],
          "name": "stderr"
        },
        {
          "output_type": "display_data",
          "data": {
            "text/html": [
              "<font color = green>Duplicate (100%)</font> --> <font color = red>Not_duplicate (83%)</font><br><font color = bold><font color = underline>Question1</font></font>: Which is the best <font color = green>gaming</font> <font color = green>laptop</font> under 40k?\n",
              "<font color = bold><font color = underline>Question2</font></font>: Which is the best gaming laptop under 40,000 rs?<br><font color = bold><font color = underline>Question1</font></font>: Which is the best <font color = red>multiplayer</font> <font color = red>confetti</font> under 40k?\n",
              "<font color = bold><font color = underline>Question2</font></font>: Which is the best gaming laptop under 40,000 rs?"
            ],
            "text/plain": [
              "<IPython.core.display.HTML object>"
            ]
          },
          "metadata": {
            "tags": []
          }
        },
        {
          "output_type": "stream",
          "text": [
            "\r[Succeeded / Failed / Total] 4 / 7 / 13:  52%|█████▏    | 13/25 [00:16<00:15,  1.30s/it]"
          ],
          "name": "stderr"
        },
        {
          "output_type": "display_data",
          "data": {
            "text/html": [
              "<font color = red>Not_duplicate (100%)</font> --> <font color = red>[FAILED]</font><br><font color = bold><font color = underline>Question1</font></font>: Why Tamil Nadu Universities are no good?\n",
              "<font color = bold><font color = underline>Question2</font></font>: Why are the 10th students able to score 100% in Tamil Nadu?"
            ],
            "text/plain": [
              "<IPython.core.display.HTML object>"
            ]
          },
          "metadata": {
            "tags": []
          }
        },
        {
          "output_type": "stream",
          "text": [
            "[Succeeded / Failed / Total] 4 / 8 / 14:  56%|█████▌    | 14/25 [00:18<00:14,  1.30s/it]"
          ],
          "name": "stderr"
        },
        {
          "output_type": "display_data",
          "data": {
            "text/html": [
              "<font color = red>Not_duplicate (100%)</font> --> <font color = red>[FAILED]</font><br><font color = bold><font color = underline>Question1</font></font>: What is an easy way to clean toothpaste stains from a shirt without washing it?\n",
              "<font color = bold><font color = underline>Question2</font></font>: What are some ways to remove hard water stains from dishes?"
            ],
            "text/plain": [
              "<IPython.core.display.HTML object>"
            ]
          },
          "metadata": {
            "tags": []
          }
        },
        {
          "output_type": "stream",
          "text": [
            "\r[Succeeded / Failed / Total] 4 / 9 / 15:  60%|██████    | 15/25 [00:20<00:13,  1.37s/it]"
          ],
          "name": "stderr"
        },
        {
          "output_type": "display_data",
          "data": {
            "text/html": [
              "<font color = green>Duplicate (96%)</font> --> <font color = red>Not_duplicate (100%)</font><br><font color = bold><font color = underline>Question1</font></font>: What was the deadliest battle in history?\n",
              "<font color = bold><font color = underline>Question2</font></font>: What was the bloodiest battle in <font color = green>history</font>?<br><font color = bold><font color = underline>Question1</font></font>: What was the deadliest battle in history?\n",
              "<font color = bold><font color = underline>Question2</font></font>: What was the bloodiest battle in <font color = red>cmessier</font>?"
            ],
            "text/plain": [
              "<IPython.core.display.HTML object>"
            ]
          },
          "metadata": {
            "tags": []
          }
        },
        {
          "output_type": "stream",
          "text": [
            "[Succeeded / Failed / Total] 5 / 9 / 16:  64%|██████▍   | 16/25 [00:21<00:11,  1.32s/it]"
          ],
          "name": "stderr"
        },
        {
          "output_type": "display_data",
          "data": {
            "text/html": [
              "<font color = green>Duplicate (99%)</font> --> <font color = red>Not_duplicate (100%)</font><br><font color = bold><font color = underline>Question1</font></font>: What are your views about demonetisation in India?\n",
              "<font color = bold><font color = underline>Question2</font></font>: What do you think about the <font color = green>ban</font> on 500 and 1000 denomination notes in India?<br><font color = bold><font color = underline>Question1</font></font>: What are your views about demonetisation in India?\n",
              "<font color = bold><font color = underline>Question2</font></font>: What do you think about the <font color = red>ozone</font> on 500 and 1000 denomination notes in India?"
            ],
            "text/plain": [
              "<IPython.core.display.HTML object>"
            ]
          },
          "metadata": {
            "tags": []
          }
        },
        {
          "output_type": "stream",
          "text": [
            "\r[Succeeded / Failed / Total] 6 / 9 / 17:  68%|██████▊   | 17/25 [00:21<00:10,  1.29s/it]"
          ],
          "name": "stderr"
        },
        {
          "output_type": "display_data",
          "data": {
            "text/html": [
              "<font color = red>Not_duplicate (100%)</font> --> <font color = red>[FAILED]</font><br><font color = bold><font color = underline>Question1</font></font>: What are the difference between polyester 210T and 210D?\n",
              "<font color = bold><font color = underline>Question2</font></font>: What is the difference between cotton and polyester?"
            ],
            "text/plain": [
              "<IPython.core.display.HTML object>"
            ]
          },
          "metadata": {
            "tags": []
          }
        },
        {
          "output_type": "stream",
          "text": [
            "[Succeeded / Failed / Total] 6 / 10 / 18:  72%|███████▏  | 18/25 [00:23<00:09,  1.29s/it]"
          ],
          "name": "stderr"
        },
        {
          "output_type": "display_data",
          "data": {
            "text/html": [
              "<font color = red>Not_duplicate (99%)</font> --> <font color = red>[FAILED]</font><br><font color = bold><font color = underline>Question1</font></font>: Is FMS Delhi a good option for a MBA executive program?\n",
              "<font color = bold><font color = underline>Question2</font></font>: Is FMS a good choice for an MBA in HR? Why and why not?"
            ],
            "text/plain": [
              "<IPython.core.display.HTML object>"
            ]
          },
          "metadata": {
            "tags": []
          }
        },
        {
          "output_type": "stream",
          "text": [
            "\r[Succeeded / Failed / Total] 6 / 11 / 19:  76%|███████▌  | 19/25 [00:25<00:07,  1.32s/it]"
          ],
          "name": "stderr"
        },
        {
          "output_type": "display_data",
          "data": {
            "text/html": [
              "<font color = green>Duplicate (91%)</font> --> <font color = red>Not_duplicate (99%)</font><br><font color = bold><font color = underline>Question1</font></font>: Is it a bad time to buy a condo or a house in the Bay Area in 2017?\n",
              "<font color = bold><font color = underline>Question2</font></font>: Would 2017 be a good time to buy a <font color = green>house</font> in Bay Area?<br><font color = bold><font color = underline>Question1</font></font>: Is it a bad time to buy a condo or a house in the Bay Area in 2017?\n",
              "<font color = bold><font color = underline>Question2</font></font>: Would 2017 be a good time to buy a <font color = red>ajidica</font> in Bay Area?"
            ],
            "text/plain": [
              "<IPython.core.display.HTML object>"
            ]
          },
          "metadata": {
            "tags": []
          }
        },
        {
          "output_type": "stream",
          "text": [
            "[Succeeded / Failed / Total] 7 / 11 / 20:  80%|████████  | 20/25 [00:26<00:06,  1.31s/it]"
          ],
          "name": "stderr"
        },
        {
          "output_type": "display_data",
          "data": {
            "text/html": [
              "<font color = red>Not_duplicate (100%)</font> --> <font color = red>[FAILED]</font><br><font color = bold><font color = underline>Question1</font></font>: How is vanilla extract made?\n",
              "<font color = bold><font color = underline>Question2</font></font>: How do you make sugar cookies without vanilla extract?"
            ],
            "text/plain": [
              "<IPython.core.display.HTML object>"
            ]
          },
          "metadata": {
            "tags": []
          }
        },
        {
          "output_type": "stream",
          "text": [
            "\r[Succeeded / Failed / Total] 7 / 12 / 21:  84%|████████▍ | 21/25 [00:27<00:05,  1.31s/it]"
          ],
          "name": "stderr"
        },
        {
          "output_type": "display_data",
          "data": {
            "text/html": [
              "<font color = green>Duplicate (100%)</font> --> <font color = red>[FAILED]</font><br><font color = bold><font color = underline>Question1</font></font>: What is the Sahara, and how do the average temperatures there compare to the ones in the Patagonian Desert?\n",
              "<font color = bold><font color = underline>Question2</font></font>: What is the Sahara, and how do the average temperatures there compare to the ones in the Registan Desert?"
            ],
            "text/plain": [
              "<IPython.core.display.HTML object>"
            ]
          },
          "metadata": {
            "tags": []
          }
        },
        {
          "output_type": "stream",
          "text": [
            "[Succeeded / Failed / Total] 7 / 13 / 22:  88%|████████▊ | 22/25 [00:30<00:04,  1.37s/it]"
          ],
          "name": "stderr"
        },
        {
          "output_type": "display_data",
          "data": {
            "text/html": [
              "<font color = red>Not_duplicate (100%)</font> --> <font color = red>[FAILED]</font><br><font color = bold><font color = underline>Question1</font></font>: Why was the Roman Empire so successful?\n",
              "<font color = bold><font color = underline>Question2</font></font>: What are some of the rarely known facts about the Roman Empire?"
            ],
            "text/plain": [
              "<IPython.core.display.HTML object>"
            ]
          },
          "metadata": {
            "tags": []
          }
        },
        {
          "output_type": "stream",
          "text": [
            "\r[Succeeded / Failed / Total] 7 / 14 / 23:  92%|█████████▏| 23/25 [00:31<00:02,  1.37s/it]"
          ],
          "name": "stderr"
        },
        {
          "output_type": "display_data",
          "data": {
            "text/html": [
              "<font color = red>Not_duplicate (100%)</font> --> <font color = red>[FAILED]</font><br><font color = bold><font color = underline>Question1</font></font>: Is it advisable to sent your cv to a professor with whom you are trying to make contact for graduate admission?\n",
              "<font color = bold><font color = underline>Question2</font></font>: How does contacting a professor before applying factor into graduate admissions?"
            ],
            "text/plain": [
              "<IPython.core.display.HTML object>"
            ]
          },
          "metadata": {
            "tags": []
          }
        },
        {
          "output_type": "stream",
          "text": [
            "[Succeeded / Failed / Total] 7 / 15 / 24:  96%|█████████▌| 24/25 [00:34<00:01,  1.45s/it]"
          ],
          "name": "stderr"
        },
        {
          "output_type": "display_data",
          "data": {
            "text/html": [
              "<font color = red>Not_duplicate (100%)</font> --> <font color = red>[FAILED]</font><br><font color = bold><font color = underline>Question1</font></font>: Does a RainTPL syntax extension for Sublime Text exist? Where can I download it?\n",
              "<font color = bold><font color = underline>Question2</font></font>: How do I hide the find/replace bar in Sublime Text 2?"
            ],
            "text/plain": [
              "<IPython.core.display.HTML object>"
            ]
          },
          "metadata": {
            "tags": []
          }
        },
        {
          "output_type": "stream",
          "text": [
            "\r[Succeeded / Failed / Total] 7 / 16 / 25: 100%|██████████| 25/25 [00:36<00:00,  1.47s/it]"
          ],
          "name": "stderr"
        },
        {
          "output_type": "display_data",
          "data": {
            "text/html": [
              "<font color = red>Not_duplicate (100%)</font> --> <font color = red>[FAILED]</font><br><font color = bold><font color = underline>Question1</font></font>: What is the average salary of a microbiologist in India?\n",
              "<font color = bold><font color = underline>Question2</font></font>: What is the salary for a psychologist in india?"
            ],
            "text/plain": [
              "<IPython.core.display.HTML object>"
            ]
          },
          "metadata": {
            "tags": []
          }
        },
        {
          "output_type": "stream",
          "text": [
            "[Succeeded / Failed / Total] 7 / 17 / 26: : 26it [00:38,  1.48s/it]"
          ],
          "name": "stderr"
        },
        {
          "output_type": "display_data",
          "data": {
            "text/html": [
              "<font color = red>Not_duplicate (88%)</font> --> <font color = green>Duplicate (52%)</font><br><font color = bold><font color = underline>Question1</font></font>: How <font color = red>do</font> you close a Bank of America account?\n",
              "<font color = bold><font color = underline>Question2</font></font>: How can one close a bank <font color = red>account</font> <font color = red>online</font>?<br><font color = bold><font color = underline>Question1</font></font>: How <font color = green>thoil</font> you close a Bank of America account?\n",
              "<font color = bold><font color = underline>Question2</font></font>: How can one close a bank <font color = green>take</font> <font color = green>fertfriend</font>?"
            ],
            "text/plain": [
              "<IPython.core.display.HTML object>"
            ]
          },
          "metadata": {
            "tags": []
          }
        },
        {
          "output_type": "stream",
          "text": [
            "[Succeeded / Failed / Total] 8 / 17 / 27: : 27it [00:39,  1.47s/it]"
          ],
          "name": "stderr"
        },
        {
          "output_type": "stream",
          "text": [
            "+-------------------------------+--------+\n",
            "| Attack Results                |        |\n",
            "+-------------------------------+--------+\n",
            "| Number of successful attacks: | 8      |\n",
            "| Number of failed attacks:     | 17     |\n",
            "| Number of skipped attacks:    | 2      |\n",
            "| Original accuracy:            | 92.59% |\n",
            "| Accuracy under attack:        | 62.96% |\n",
            "| Attack success rate:          | 32.0%  |\n",
            "| Average perturbed word %:     | 8.52%  |\n",
            "| Average num. words per input: | 22.3   |\n",
            "| Avg num queries:              | 30.2   |\n",
            "+-------------------------------+--------+"
          ],
          "name": "stdout"
        },
        {
          "output_type": "stream",
          "text": [
            "\n",
            "\u001b[34;1mtextattack\u001b[0m: Attack time: 39.65823698043823s\n"
          ],
          "name": "stderr"
        }
      ]
    },
    {
      "cell_type": "markdown",
      "metadata": {
        "id": "qKxnejySt_p8"
      },
      "source": [
        "### FastText, ParticleSwarmOptimization, PartsofSpeech"
      ]
    },
    {
      "cell_type": "code",
      "metadata": {
        "id": "wr5Yq7uz1Kq9",
        "colab": {
          "base_uri": "https://localhost:8080/"
        },
        "outputId": "2f2e4b84-309d-49c5-8a33-862cd94e1aca"
      },
      "source": [
        "from textattack.constraints.grammaticality import PartOfSpeech\n",
        "# We're going to use our word swap class as the attack transformation.\n",
        "transformation = Swapper()\n",
        "\n",
        "constraints = [PartOfSpeech()]\n",
        "\n",
        "search_method = ParticleSwarmOptimization(pop_size=10,max_iters=5)\n",
        "\n",
        "goal_function = UntargetedClassification(model_wrapper)\n",
        "\n",
        "# Now, let's make the attack from the 4 components:\n",
        "attack = Attack(goal_function, constraints, transformation, search_method)"
      ],
      "execution_count": null,
      "outputs": [
        {
          "output_type": "stream",
          "text": [
            "\u001b[34;1mtextattack\u001b[0m: Unknown if model of class <class 'transformers.models.bert.modeling_bert.BertForSequenceClassification'> compatible with goal function <class 'textattack.goal_functions.classification.untargeted_classification.UntargetedClassification'>.\n"
          ],
          "name": "stderr"
        }
      ]
    },
    {
      "cell_type": "code",
      "metadata": {
        "id": "XpkxiVj02xk-",
        "colab": {
          "base_uri": "https://localhost:8080/"
        },
        "outputId": "f05127ee-aba1-4453-dad8-da4d99738963"
      },
      "source": [
        "print(attack)"
      ],
      "execution_count": null,
      "outputs": [
        {
          "output_type": "stream",
          "text": [
            "Attack(\n",
            "  (search_method): ParticleSwarmOptimization(\n",
            "    (pop_size):  10\n",
            "    (max_iters):  5\n",
            "    (post_turn_check):  True\n",
            "    (max_turn_retries):  20\n",
            "  )\n",
            "  (goal_function):  UntargetedClassification\n",
            "  (transformation):  Swapper\n",
            "  (constraints): \n",
            "    (0): PartOfSpeech(\n",
            "        (tagger_type):  nltk\n",
            "        (tagset):  universal\n",
            "        (allow_verb_noun_swap):  True\n",
            "        (compare_against_original):  True\n",
            "      )\n",
            "  (is_black_box):  True\n",
            ")\n"
          ],
          "name": "stdout"
        }
      ]
    },
    {
      "cell_type": "code",
      "metadata": {
        "id": "LGbTuwOQ24BO",
        "colab": {
          "base_uri": "https://localhost:8080/",
          "height": 1000
        },
        "outputId": "b139d07e-a2e2-45d3-98c9-e455be706790"
      },
      "source": [
        "attack_stats(attack, dataset, 25)"
      ],
      "execution_count": null,
      "outputs": [
        {
          "output_type": "stream",
          "text": [
            "\r  0%|          | 0/25 [00:00<?, ?it/s]"
          ],
          "name": "stderr"
        },
        {
          "output_type": "stream",
          "text": [
            "Attack(\n",
            "  (search_method): ParticleSwarmOptimization(\n",
            "    (pop_size):  10\n",
            "    (max_iters):  5\n",
            "    (post_turn_check):  True\n",
            "    (max_turn_retries):  20\n",
            "  )\n",
            "  (goal_function):  UntargetedClassification\n",
            "  (transformation):  Swapper\n",
            "  (constraints): \n",
            "    (0): PartOfSpeech(\n",
            "        (tagger_type):  nltk\n",
            "        (tagset):  universal\n",
            "        (allow_verb_noun_swap):  True\n",
            "        (compare_against_original):  True\n",
            "      )\n",
            "  (is_black_box):  True\n",
            ")\n"
          ],
          "name": "stdout"
        },
        {
          "output_type": "display_data",
          "data": {
            "text/html": [
              "<font color = red>Not_duplicate (100%)</font> --> <font color = red>[FAILED]</font><br><font color = bold><font color = underline>Question1</font></font>: Why are African-Americans so beautiful?\n",
              "<font color = bold><font color = underline>Question2</font></font>: Why are hispanics so beautiful?"
            ],
            "text/plain": [
              "<IPython.core.display.HTML object>"
            ]
          },
          "metadata": {
            "tags": []
          }
        },
        {
          "output_type": "stream",
          "text": [
            "[Succeeded / Failed / Total] 0 / 1 / 1:   4%|▍         | 1/25 [00:08<03:35,  8.97s/it]"
          ],
          "name": "stderr"
        },
        {
          "output_type": "display_data",
          "data": {
            "text/html": [
              "<font color = red>Not_duplicate (100%)</font> --> <font color = red>[FAILED]</font><br><font color = bold><font color = underline>Question1</font></font>: I want to pursue PhD in Computer Science about social network,what is the open problem in social networks?\n",
              "<font color = bold><font color = underline>Question2</font></font>: I handle social media for a non-profit. Should I start going to social media networking events? Are there any good ones in the bay area?"
            ],
            "text/plain": [
              "<IPython.core.display.HTML object>"
            ]
          },
          "metadata": {
            "tags": []
          }
        },
        {
          "output_type": "stream",
          "text": [
            "[Succeeded / Failed / Total] 0 / 2 / 2:   8%|▊         | 2/25 [01:20<15:22, 40.12s/it]"
          ],
          "name": "stderr"
        },
        {
          "output_type": "display_data",
          "data": {
            "text/html": [
              "<font color = green>Duplicate (97%)</font> --> <font color = red>[FAILED]</font><br><font color = bold><font color = underline>Question1</font></font>: Is there a reason why we should travel alone?\n",
              "<font color = bold><font color = underline>Question2</font></font>: What are some reasons to travel alone?"
            ],
            "text/plain": [
              "<IPython.core.display.HTML object>"
            ]
          },
          "metadata": {
            "tags": []
          }
        },
        {
          "output_type": "stream",
          "text": [
            "[Succeeded / Failed / Total] 0 / 3 / 3:  12%|█▏        | 3/25 [01:39<12:06, 33.02s/it]"
          ],
          "name": "stderr"
        },
        {
          "output_type": "display_data",
          "data": {
            "text/html": [
              "<font color = red>Not_duplicate (100%)</font> --> <font color = red>[FAILED]</font><br><font color = bold><font color = underline>Question1</font></font>: Why are people so obsessed with having a girlfriend/boyfriend?\n",
              "<font color = bold><font color = underline>Question2</font></font>: How can a single male have a child?"
            ],
            "text/plain": [
              "<IPython.core.display.HTML object>"
            ]
          },
          "metadata": {
            "tags": []
          }
        },
        {
          "output_type": "stream",
          "text": [
            "[Succeeded / Failed / Total] 0 / 4 / 4:  16%|█▌        | 4/25 [02:06<11:01, 31.50s/it]"
          ],
          "name": "stderr"
        },
        {
          "output_type": "display_data",
          "data": {
            "text/html": [
              "<font color = red>Not_duplicate (94%)</font> --> <font color = green>Duplicate (66%)</font><br><font color = bold><font color = underline>Question1</font></font>: What are some good baby <font color = red>girl</font> names <font color = red>starting</font> with D?\n",
              "<font color = bold><font color = underline>Question2</font></font>: What are some good baby girl names starting with D or H?<br><font color = bold><font color = underline>Question1</font></font>: What are some good baby <font color = green>woman</font> names <font color = green>farting</font> with D?\n",
              "<font color = bold><font color = underline>Question2</font></font>: What are some good baby girl names starting with D or H?"
            ],
            "text/plain": [
              "<IPython.core.display.HTML object>"
            ]
          },
          "metadata": {
            "tags": []
          }
        },
        {
          "output_type": "stream",
          "text": [
            "[Succeeded / Failed / Total] 1 / 4 / 5:  20%|██        | 5/25 [02:12<08:51, 26.59s/it]"
          ],
          "name": "stderr"
        },
        {
          "output_type": "display_data",
          "data": {
            "text/html": [
              "<font color = green>Duplicate (99%)</font> --> <font color = red>Not_duplicate (96%)</font><br><font color = bold><font color = underline>Question1</font></font>: I am 25 <font color = green>year</font> old guy and never had a <font color = green>girlfriend</font>. Is this weird?\n",
              "<font color = bold><font color = underline>Question2</font></font>: I am 25 <font color = green>years</font> old. I have <font color = green>never</font> had a girlfriend. Is something wrong with me?<br><font color = bold><font color = underline>Question1</font></font>: I am 25 <font color = red>month</font> old guy and never had a <font color = red>boyfriend</font>. Is this weird?\n",
              "<font color = bold><font color = underline>Question2</font></font>: I am 25 <font color = red>decades</font> old. I have <font color = red>ever</font> had a girlfriend. Is something wrong with me?"
            ],
            "text/plain": [
              "<IPython.core.display.HTML object>"
            ]
          },
          "metadata": {
            "tags": []
          }
        },
        {
          "output_type": "stream",
          "text": [
            "[Succeeded / Failed / Total] 2 / 4 / 6:  24%|██▍       | 6/25 [02:21<07:28, 23.61s/it]"
          ],
          "name": "stderr"
        },
        {
          "output_type": "display_data",
          "data": {
            "text/html": [
              "<font color = red>Not_duplicate (92%)</font> --> <font color = gray>[SKIPPED]</font><br><font color = bold><font color = underline>Question1</font></font>: \"What does a good answer on Quora look like? What does it mean to \"\"be helpful\"\"?\"\n",
              "<font color = bold><font color = underline>Question2</font></font>: How do you write a good answer on Quora?"
            ],
            "text/plain": [
              "<IPython.core.display.HTML object>"
            ]
          },
          "metadata": {
            "tags": []
          }
        },
        {
          "output_type": "stream",
          "text": [
            "\r[Succeeded / Failed / Total] 2 / 4 / 7:  28%|██▊       | 7/25 [02:21<06:04, 20.24s/it]"
          ],
          "name": "stderr"
        },
        {
          "output_type": "display_data",
          "data": {
            "text/html": [
              "<font color = green>Duplicate (54%)</font> --> <font color = red>Not_duplicate (99%)</font><br><font color = bold><font color = underline>Question1</font></font>: What are the best things to do in <font color = green>Hong</font> Kong?\n",
              "<font color = bold><font color = underline>Question2</font></font>: What is the best thing in Hong Kong?<br><font color = bold><font color = underline>Question1</font></font>: What are the best things to do in <font color = red>Yong</font> Kong?\n",
              "<font color = bold><font color = underline>Question2</font></font>: What is the best thing in Hong Kong?"
            ],
            "text/plain": [
              "<IPython.core.display.HTML object>"
            ]
          },
          "metadata": {
            "tags": []
          }
        },
        {
          "output_type": "stream",
          "text": [
            "[Succeeded / Failed / Total] 3 / 4 / 8:  32%|███▏      | 8/25 [02:22<05:02, 17.81s/it]"
          ],
          "name": "stderr"
        },
        {
          "output_type": "display_data",
          "data": {
            "text/html": [
              "<font color = green>Duplicate (84%)</font> --> <font color = gray>[SKIPPED]</font><br><font color = bold><font color = underline>Question1</font></font>: Why is my life getting so complicated?\n",
              "<font color = bold><font color = underline>Question2</font></font>: Why is my life so complicated?"
            ],
            "text/plain": [
              "<IPython.core.display.HTML object>"
            ]
          },
          "metadata": {
            "tags": []
          }
        },
        {
          "output_type": "stream",
          "text": [
            "[Succeeded / Failed / Total] 3 / 4 / 9:  36%|███▌      | 9/25 [02:40<04:44, 17.78s/it]"
          ],
          "name": "stderr"
        },
        {
          "output_type": "display_data",
          "data": {
            "text/html": [
              "<font color = red>Not_duplicate (100%)</font> --> <font color = red>[FAILED]</font><br><font color = bold><font color = underline>Question1</font></font>: Why should I crack Jee?\n",
              "<font color = bold><font color = underline>Question2</font></font>: Is it possible to get into IIMs with low marks in graduation and 12th?"
            ],
            "text/plain": [
              "<IPython.core.display.HTML object>"
            ]
          },
          "metadata": {
            "tags": []
          }
        },
        {
          "output_type": "stream",
          "text": [
            "[Succeeded / Failed / Total] 3 / 5 / 10:  40%|████      | 10/25 [02:40<04:01, 16.09s/it]"
          ],
          "name": "stderr"
        },
        {
          "output_type": "display_data",
          "data": {
            "text/html": [
              "<font color = red>Not_duplicate (100%)</font> --> <font color = green>Duplicate (87%)</font><br><font color = bold><font color = underline>Question1</font></font>: <font color = red>Can</font> you TRANSLATE <font color = red>these</font> to English language?\n",
              "<font color = bold><font color = underline>Question2</font></font>: Can you translate <font color = red>this</font> from <font color = red>Bengali</font> to English <font color = red>language</font>?<br><font color = bold><font color = underline>Question1</font></font>: <font color = green>Yan</font> you TRANSLATE <font color = green>some</font> to English language?\n",
              "<font color = bold><font color = underline>Question2</font></font>: Can you translate <font color = green>which</font> from <font color = green>Konkani</font> to English <font color = green>anguage</font>?"
            ],
            "text/plain": [
              "<IPython.core.display.HTML object>"
            ]
          },
          "metadata": {
            "tags": []
          }
        },
        {
          "output_type": "stream",
          "text": [
            "[Succeeded / Failed / Total] 4 / 5 / 11:  44%|████▍     | 11/25 [02:48<03:34, 15.30s/it]"
          ],
          "name": "stderr"
        },
        {
          "output_type": "display_data",
          "data": {
            "text/html": [
              "<font color = red>Not_duplicate (100%)</font> --> <font color = red>[FAILED]</font><br><font color = bold><font color = underline>Question1</font></font>: Can anyone tell shall mi mix mobile should be purchased or not?\n",
              "<font color = bold><font color = underline>Question2</font></font>: \"What did Voltaire mean when he said, \"\"God is a comedian playing to an audience that is too afraid to laugh\"\"?\""
            ],
            "text/plain": [
              "<IPython.core.display.HTML object>"
            ]
          },
          "metadata": {
            "tags": []
          }
        },
        {
          "output_type": "stream",
          "text": [
            "[Succeeded / Failed / Total] 4 / 6 / 12:  48%|████▊     | 12/25 [04:00<04:20, 20.02s/it]"
          ],
          "name": "stderr"
        },
        {
          "output_type": "display_data",
          "data": {
            "text/html": [
              "<font color = green>Duplicate (100%)</font> --> <font color = red>[FAILED]</font><br><font color = bold><font color = underline>Question1</font></font>: Which is the best gaming laptop under 40k?\n",
              "<font color = bold><font color = underline>Question2</font></font>: Which is the best gaming laptop under 40,000 rs?"
            ],
            "text/plain": [
              "<IPython.core.display.HTML object>"
            ]
          },
          "metadata": {
            "tags": []
          }
        },
        {
          "output_type": "stream",
          "text": [
            "[Succeeded / Failed / Total] 4 / 7 / 13:  52%|█████▏    | 13/25 [04:13<03:53, 19.47s/it]"
          ],
          "name": "stderr"
        },
        {
          "output_type": "display_data",
          "data": {
            "text/html": [
              "<font color = red>Not_duplicate (100%)</font> --> <font color = red>[FAILED]</font><br><font color = bold><font color = underline>Question1</font></font>: Why Tamil Nadu Universities are no good?\n",
              "<font color = bold><font color = underline>Question2</font></font>: Why are the 10th students able to score 100% in Tamil Nadu?"
            ],
            "text/plain": [
              "<IPython.core.display.HTML object>"
            ]
          },
          "metadata": {
            "tags": []
          }
        },
        {
          "output_type": "stream",
          "text": [
            "[Succeeded / Failed / Total] 4 / 8 / 14:  56%|█████▌    | 14/25 [04:40<03:40, 20.06s/it]"
          ],
          "name": "stderr"
        },
        {
          "output_type": "display_data",
          "data": {
            "text/html": [
              "<font color = red>Not_duplicate (100%)</font> --> <font color = red>[FAILED]</font><br><font color = bold><font color = underline>Question1</font></font>: What is an easy way to clean toothpaste stains from a shirt without washing it?\n",
              "<font color = bold><font color = underline>Question2</font></font>: What are some ways to remove hard water stains from dishes?"
            ],
            "text/plain": [
              "<IPython.core.display.HTML object>"
            ]
          },
          "metadata": {
            "tags": []
          }
        },
        {
          "output_type": "stream",
          "text": [
            "[Succeeded / Failed / Total] 4 / 9 / 15:  60%|██████    | 15/25 [05:16<03:30, 21.08s/it]"
          ],
          "name": "stderr"
        },
        {
          "output_type": "display_data",
          "data": {
            "text/html": [
              "<font color = green>Duplicate (96%)</font> --> <font color = red>Not_duplicate (99%)</font><br><font color = bold><font color = underline>Question1</font></font>: What was the <font color = green>deadliest</font> battle in history?\n",
              "<font color = bold><font color = underline>Question2</font></font>: What was the bloodiest battle in history?<br><font color = bold><font color = underline>Question1</font></font>: What was the <font color = red>ugliest</font> battle in history?\n",
              "<font color = bold><font color = underline>Question2</font></font>: What was the bloodiest battle in history?"
            ],
            "text/plain": [
              "<IPython.core.display.HTML object>"
            ]
          },
          "metadata": {
            "tags": []
          }
        },
        {
          "output_type": "stream",
          "text": [
            "[Succeeded / Failed / Total] 5 / 9 / 16:  64%|██████▍   | 16/25 [05:16<02:58, 19.81s/it]"
          ],
          "name": "stderr"
        },
        {
          "output_type": "display_data",
          "data": {
            "text/html": [
              "<font color = green>Duplicate (99%)</font> --> <font color = red>Not_duplicate (99%)</font><br><font color = bold><font color = underline>Question1</font></font>: What are your views about demonetisation in India?\n",
              "<font color = bold><font color = underline>Question2</font></font>: What do you think about the ban on 500 and 1000 denomination notes in <font color = green>India</font>?<br><font color = bold><font color = underline>Question1</font></font>: What are your views about demonetisation in India?\n",
              "<font color = bold><font color = underline>Question2</font></font>: What do you think about the ban on 500 and 1000 denomination notes in <font color = red>Ndia</font>?"
            ],
            "text/plain": [
              "<IPython.core.display.HTML object>"
            ]
          },
          "metadata": {
            "tags": []
          }
        },
        {
          "output_type": "stream",
          "text": [
            "[Succeeded / Failed / Total] 6 / 9 / 17:  68%|██████▊   | 17/25 [05:18<02:29, 18.71s/it]"
          ],
          "name": "stderr"
        },
        {
          "output_type": "display_data",
          "data": {
            "text/html": [
              "<font color = red>Not_duplicate (100%)</font> --> <font color = red>[FAILED]</font><br><font color = bold><font color = underline>Question1</font></font>: What are the difference between polyester 210T and 210D?\n",
              "<font color = bold><font color = underline>Question2</font></font>: What is the difference between cotton and polyester?"
            ],
            "text/plain": [
              "<IPython.core.display.HTML object>"
            ]
          },
          "metadata": {
            "tags": []
          }
        },
        {
          "output_type": "stream",
          "text": [
            "[Succeeded / Failed / Total] 6 / 10 / 18:  72%|███████▏  | 18/25 [05:30<02:08, 18.34s/it]"
          ],
          "name": "stderr"
        },
        {
          "output_type": "display_data",
          "data": {
            "text/html": [
              "<font color = red>Not_duplicate (99%)</font> --> <font color = green>Duplicate (98%)</font><br><font color = bold><font color = underline>Question1</font></font>: <font color = red>Is</font> FMS Delhi <font color = red>a</font> good option for a MBA executive <font color = red>program</font>?\n",
              "<font color = bold><font color = underline>Question2</font></font>: <font color = red>Is</font> FMS a good choice for <font color = red>an</font> MBA in <font color = red>HR</font>? Why and why not?<br><font color = bold><font color = underline>Question1</font></font>: <font color = green>Larva</font> FMS Delhi <font color = green>the</font> good option for a MBA executive <font color = green>prom</font>?\n",
              "<font color = bold><font color = underline>Question2</font></font>: <font color = green>Larva</font> FMS a good choice for <font color = green>this</font> MBA in <font color = green>GLORY</font>? Why and why not?"
            ],
            "text/plain": [
              "<IPython.core.display.HTML object>"
            ]
          },
          "metadata": {
            "tags": []
          }
        },
        {
          "output_type": "stream",
          "text": [
            "[Succeeded / Failed / Total] 7 / 10 / 19:  76%|███████▌  | 19/25 [05:44<01:48, 18.12s/it]"
          ],
          "name": "stderr"
        },
        {
          "output_type": "display_data",
          "data": {
            "text/html": [
              "<font color = green>Duplicate (91%)</font> --> <font color = red>Not_duplicate (87%)</font><br><font color = bold><font color = underline>Question1</font></font>: Is it a bad time to buy a condo or a house in the Bay Area in 2017?\n",
              "<font color = bold><font color = underline>Question2</font></font>: Would 2017 be a good time to buy a <font color = green>house</font> in Bay Area?<br><font color = bold><font color = underline>Question1</font></font>: Is it a bad time to buy a condo or a house in the Bay Area in 2017?\n",
              "<font color = bold><font color = underline>Question2</font></font>: Would 2017 be a good time to buy a <font color = red>commons</font> in Bay Area?"
            ],
            "text/plain": [
              "<IPython.core.display.HTML object>"
            ]
          },
          "metadata": {
            "tags": []
          }
        },
        {
          "output_type": "stream",
          "text": [
            "[Succeeded / Failed / Total] 8 / 10 / 20:  80%|████████  | 20/25 [05:45<01:26, 17.28s/it]"
          ],
          "name": "stderr"
        },
        {
          "output_type": "display_data",
          "data": {
            "text/html": [
              "<font color = red>Not_duplicate (100%)</font> --> <font color = red>[FAILED]</font><br><font color = bold><font color = underline>Question1</font></font>: How is vanilla extract made?\n",
              "<font color = bold><font color = underline>Question2</font></font>: How do you make sugar cookies without vanilla extract?"
            ],
            "text/plain": [
              "<IPython.core.display.HTML object>"
            ]
          },
          "metadata": {
            "tags": []
          }
        },
        {
          "output_type": "stream",
          "text": [
            "[Succeeded / Failed / Total] 8 / 11 / 21:  84%|████████▍ | 21/25 [06:04<01:09, 17.36s/it]"
          ],
          "name": "stderr"
        },
        {
          "output_type": "display_data",
          "data": {
            "text/html": [
              "<font color = green>Duplicate (100%)</font> --> <font color = red>Not_duplicate (100%)</font><br><font color = bold><font color = underline>Question1</font></font>: What is the <font color = green>Sahara</font>, and how do the average temperatures there compare to the ones in the Patagonian <font color = green>Desert</font>?\n",
              "<font color = bold><font color = underline>Question2</font></font>: What is the Sahara, and how do the average temperatures there compare to the ones in the Registan Desert?<br><font color = bold><font color = underline>Question1</font></font>: What is the <font color = red>Maharaja</font>, and how do the average temperatures there compare to the ones in the Patagonian <font color = red>Savannas</font>?\n",
              "<font color = bold><font color = underline>Question2</font></font>: What is the Sahara, and how do the average temperatures there compare to the ones in the Registan Desert?"
            ],
            "text/plain": [
              "<IPython.core.display.HTML object>"
            ]
          },
          "metadata": {
            "tags": []
          }
        },
        {
          "output_type": "stream",
          "text": [
            "[Succeeded / Failed / Total] 9 / 11 / 22:  88%|████████▊ | 22/25 [06:08<00:50, 16.76s/it]"
          ],
          "name": "stderr"
        },
        {
          "output_type": "display_data",
          "data": {
            "text/html": [
              "<font color = red>Not_duplicate (100%)</font> --> <font color = red>[FAILED]</font><br><font color = bold><font color = underline>Question1</font></font>: Why was the Roman Empire so successful?\n",
              "<font color = bold><font color = underline>Question2</font></font>: What are some of the rarely known facts about the Roman Empire?"
            ],
            "text/plain": [
              "<IPython.core.display.HTML object>"
            ]
          },
          "metadata": {
            "tags": []
          }
        },
        {
          "output_type": "stream",
          "text": [
            "[Succeeded / Failed / Total] 9 / 12 / 23:  92%|█████████▏| 23/25 [06:31<00:34, 17.00s/it]"
          ],
          "name": "stderr"
        },
        {
          "output_type": "display_data",
          "data": {
            "text/html": [
              "<font color = red>Not_duplicate (100%)</font> --> <font color = green>Duplicate (60%)</font><br><font color = bold><font color = underline>Question1</font></font>: <font color = red>Is</font> it advisable to sent your cv to <font color = red>a</font> professor with whom you are trying to make contact for graduate admission?\n",
              "<font color = bold><font color = underline>Question2</font></font>: <font color = red>How</font> does <font color = red>contacting</font> a professor before applying factor <font color = red>into</font> graduate admissions?<br><font color = bold><font color = underline>Question1</font></font>: <font color = green>Larva</font> it advisable to sent your cv to <font color = green>the</font> professor with whom you are trying to make contact for graduate admission?\n",
              "<font color = bold><font color = underline>Question2</font></font>: <font color = green>Kowtow</font> does <font color = green>contact</font> a professor before applying factor <font color = green>onto</font> graduate admissions?"
            ],
            "text/plain": [
              "<IPython.core.display.HTML object>"
            ]
          },
          "metadata": {
            "tags": []
          }
        },
        {
          "output_type": "stream",
          "text": [
            "[Succeeded / Failed / Total] 10 / 12 / 24:  96%|█████████▌| 24/25 [06:52<00:17, 17.20s/it]"
          ],
          "name": "stderr"
        },
        {
          "output_type": "display_data",
          "data": {
            "text/html": [
              "<font color = red>Not_duplicate (100%)</font> --> <font color = red>[FAILED]</font><br><font color = bold><font color = underline>Question1</font></font>: Does a RainTPL syntax extension for Sublime Text exist? Where can I download it?\n",
              "<font color = bold><font color = underline>Question2</font></font>: How do I hide the find/replace bar in Sublime Text 2?"
            ],
            "text/plain": [
              "<IPython.core.display.HTML object>"
            ]
          },
          "metadata": {
            "tags": []
          }
        },
        {
          "output_type": "stream",
          "text": [
            "[Succeeded / Failed / Total] 10 / 13 / 25: 100%|██████████| 25/25 [07:33<00:00, 18.13s/it]"
          ],
          "name": "stderr"
        },
        {
          "output_type": "display_data",
          "data": {
            "text/html": [
              "<font color = red>Not_duplicate (100%)</font> --> <font color = red>[FAILED]</font><br><font color = bold><font color = underline>Question1</font></font>: What is the average salary of a microbiologist in India?\n",
              "<font color = bold><font color = underline>Question2</font></font>: What is the salary for a psychologist in india?"
            ],
            "text/plain": [
              "<IPython.core.display.HTML object>"
            ]
          },
          "metadata": {
            "tags": []
          }
        },
        {
          "output_type": "stream",
          "text": [
            "[Succeeded / Failed / Total] 10 / 14 / 26: : 26it [07:54, 18.23s/it]"
          ],
          "name": "stderr"
        },
        {
          "output_type": "display_data",
          "data": {
            "text/html": [
              "<font color = red>Not_duplicate (88%)</font> --> <font color = green>Duplicate (81%)</font><br><font color = bold><font color = underline>Question1</font></font>: How do you close <font color = red>a</font> Bank of America account?\n",
              "<font color = bold><font color = underline>Question2</font></font>: <font color = red>How</font> can one close <font color = red>a</font> bank account online?<br><font color = bold><font color = underline>Question1</font></font>: How do you close <font color = green>the</font> Bank of America account?\n",
              "<font color = bold><font color = underline>Question2</font></font>: <font color = green>Kowtow</font> can one close <font color = green>the</font> bank account online?"
            ],
            "text/plain": [
              "<IPython.core.display.HTML object>"
            ]
          },
          "metadata": {
            "tags": []
          }
        },
        {
          "output_type": "stream",
          "text": [
            "[Succeeded / Failed / Total] 11 / 14 / 27: : 27it [07:57, 17.69s/it]"
          ],
          "name": "stderr"
        },
        {
          "output_type": "stream",
          "text": [
            "+-------------------------------+--------+\n",
            "| Attack Results                |        |\n",
            "+-------------------------------+--------+\n",
            "| Number of successful attacks: | 11     |\n",
            "| Number of failed attacks:     | 14     |\n",
            "| Number of skipped attacks:    | 2      |\n",
            "| Original accuracy:            | 92.59% |\n",
            "| Accuracy under attack:        | 51.85% |\n",
            "| Attack success rate:          | 44.0%  |\n",
            "| Average perturbed word %:     | 12.41% |\n",
            "| Average num. words per input: | 22.3   |\n",
            "| Avg num queries:              | 464.88 |\n",
            "+-------------------------------+--------+"
          ],
          "name": "stdout"
        },
        {
          "output_type": "stream",
          "text": [
            "\n",
            "\u001b[34;1mtextattack\u001b[0m: Attack time: 477.7385129928589s\n"
          ],
          "name": "stderr"
        }
      ]
    },
    {
      "cell_type": "markdown",
      "metadata": {
        "id": "Ms2AfPa9uIL4"
      },
      "source": [
        "### Word2Vec, ParticleSwarmOptimization, PartsofSpeech"
      ]
    },
    {
      "cell_type": "code",
      "metadata": {
        "id": "HRcvfqDK27ON",
        "colab": {
          "base_uri": "https://localhost:8080/"
        },
        "outputId": "d2093109-a451-4548-97d8-405543424750"
      },
      "source": [
        "# We're going to use our word swap class as the attack transformation.\n",
        "transformation = Swapper_()\n",
        "\n",
        "constraints = [PartOfSpeech()]\n",
        "\n",
        "search_method = ParticleSwarmOptimization(pop_size=10,max_iters=5)\n",
        "\n",
        "goal_function = UntargetedClassification(model_wrapper)\n",
        "\n",
        "# Now, let's make the attack from the 4 components:\n",
        "attack = Attack(goal_function, constraints, transformation, search_method)"
      ],
      "execution_count": null,
      "outputs": [
        {
          "output_type": "stream",
          "text": [
            "\u001b[34;1mtextattack\u001b[0m: Unknown if model of class <class 'transformers.models.bert.modeling_bert.BertForSequenceClassification'> compatible with goal function <class 'textattack.goal_functions.classification.untargeted_classification.UntargetedClassification'>.\n"
          ],
          "name": "stderr"
        }
      ]
    },
    {
      "cell_type": "code",
      "metadata": {
        "id": "BjK9n6ac5NqI",
        "colab": {
          "base_uri": "https://localhost:8080/"
        },
        "outputId": "dfaae98d-703b-4737-e898-96198d164d03"
      },
      "source": [
        "print(attack)"
      ],
      "execution_count": null,
      "outputs": [
        {
          "output_type": "stream",
          "text": [
            "Attack(\n",
            "  (search_method): ParticleSwarmOptimization(\n",
            "    (pop_size):  10\n",
            "    (max_iters):  5\n",
            "    (post_turn_check):  True\n",
            "    (max_turn_retries):  20\n",
            "  )\n",
            "  (goal_function):  UntargetedClassification\n",
            "  (transformation):  Swapper_\n",
            "  (constraints): \n",
            "    (0): PartOfSpeech(\n",
            "        (tagger_type):  nltk\n",
            "        (tagset):  universal\n",
            "        (allow_verb_noun_swap):  True\n",
            "        (compare_against_original):  True\n",
            "      )\n",
            "  (is_black_box):  True\n",
            ")\n"
          ],
          "name": "stdout"
        }
      ]
    },
    {
      "cell_type": "code",
      "metadata": {
        "id": "heD59UeC5Pgs",
        "colab": {
          "base_uri": "https://localhost:8080/",
          "height": 1000
        },
        "outputId": "35d304e3-5424-4022-fbfa-7891a30004e6"
      },
      "source": [
        "attack_stats(attack, dataset, 25)"
      ],
      "execution_count": null,
      "outputs": [
        {
          "output_type": "stream",
          "text": [
            "\r  0%|          | 0/25 [00:00<?, ?it/s]"
          ],
          "name": "stderr"
        },
        {
          "output_type": "stream",
          "text": [
            "Attack(\n",
            "  (search_method): ParticleSwarmOptimization(\n",
            "    (pop_size):  10\n",
            "    (max_iters):  5\n",
            "    (post_turn_check):  True\n",
            "    (max_turn_retries):  20\n",
            "  )\n",
            "  (goal_function):  UntargetedClassification\n",
            "  (transformation):  Swapper_\n",
            "  (constraints): \n",
            "    (0): PartOfSpeech(\n",
            "        (tagger_type):  nltk\n",
            "        (tagset):  universal\n",
            "        (allow_verb_noun_swap):  True\n",
            "        (compare_against_original):  True\n",
            "      )\n",
            "  (is_black_box):  True\n",
            ")\n"
          ],
          "name": "stdout"
        },
        {
          "output_type": "display_data",
          "data": {
            "text/html": [
              "<font color = red>Not_duplicate (100%)</font> --> <font color = red>[FAILED]</font><br><font color = bold><font color = underline>Question1</font></font>: Why are African-Americans so beautiful?\n",
              "<font color = bold><font color = underline>Question2</font></font>: Why are hispanics so beautiful?"
            ],
            "text/plain": [
              "<IPython.core.display.HTML object>"
            ]
          },
          "metadata": {
            "tags": []
          }
        },
        {
          "output_type": "stream",
          "text": [
            "[Succeeded / Failed / Total] 0 / 1 / 1:   4%|▍         | 1/25 [00:02<00:59,  2.50s/it]"
          ],
          "name": "stderr"
        },
        {
          "output_type": "display_data",
          "data": {
            "text/html": [
              "<font color = red>Not_duplicate (100%)</font> --> <font color = red>[FAILED]</font><br><font color = bold><font color = underline>Question1</font></font>: I want to pursue PhD in Computer Science about social network,what is the open problem in social networks?\n",
              "<font color = bold><font color = underline>Question2</font></font>: I handle social media for a non-profit. Should I start going to social media networking events? Are there any good ones in the bay area?"
            ],
            "text/plain": [
              "<IPython.core.display.HTML object>"
            ]
          },
          "metadata": {
            "tags": []
          }
        },
        {
          "output_type": "stream",
          "text": [
            "[Succeeded / Failed / Total] 0 / 2 / 2:   8%|▊         | 2/25 [00:55<10:36, 27.69s/it]"
          ],
          "name": "stderr"
        },
        {
          "output_type": "display_data",
          "data": {
            "text/html": [
              "<font color = green>Duplicate (97%)</font> --> <font color = red>Not_duplicate (97%)</font><br><font color = bold><font color = underline>Question1</font></font>: Is there a reason why we should travel alone?\n",
              "<font color = bold><font color = underline>Question2</font></font>: What are some reasons to travel <font color = green>alone</font>?<br><font color = bold><font color = underline>Question1</font></font>: Is there a reason why we should travel alone?\n",
              "<font color = bold><font color = underline>Question2</font></font>: What are some reasons to travel <font color = red>eternally</font>?"
            ],
            "text/plain": [
              "<IPython.core.display.HTML object>"
            ]
          },
          "metadata": {
            "tags": []
          }
        },
        {
          "output_type": "stream",
          "text": [
            "[Succeeded / Failed / Total] 1 / 2 / 3:  12%|█▏        | 3/25 [00:56<06:51, 18.70s/it]"
          ],
          "name": "stderr"
        },
        {
          "output_type": "display_data",
          "data": {
            "text/html": [
              "<font color = red>Not_duplicate (100%)</font> --> <font color = red>[FAILED]</font><br><font color = bold><font color = underline>Question1</font></font>: Why are people so obsessed with having a girlfriend/boyfriend?\n",
              "<font color = bold><font color = underline>Question2</font></font>: How can a single male have a child?"
            ],
            "text/plain": [
              "<IPython.core.display.HTML object>"
            ]
          },
          "metadata": {
            "tags": []
          }
        },
        {
          "output_type": "stream",
          "text": [
            "[Succeeded / Failed / Total] 1 / 3 / 4:  16%|█▌        | 4/25 [01:16<06:43, 19.23s/it]"
          ],
          "name": "stderr"
        },
        {
          "output_type": "display_data",
          "data": {
            "text/html": [
              "<font color = red>Not_duplicate (94%)</font> --> <font color = green>Duplicate (90%)</font><br><font color = bold><font color = underline>Question1</font></font>: What are some good baby girl names starting with D?\n",
              "<font color = bold><font color = underline>Question2</font></font>: What are some good baby girl <font color = red>names</font> <font color = red>starting</font> with D or H?<br><font color = bold><font color = underline>Question1</font></font>: What are some good baby girl names starting with D?\n",
              "<font color = bold><font color = underline>Question2</font></font>: What are some good baby girl <font color = green>anglicised</font> <font color = green>beginning</font> with D or H?"
            ],
            "text/plain": [
              "<IPython.core.display.HTML object>"
            ]
          },
          "metadata": {
            "tags": []
          }
        },
        {
          "output_type": "stream",
          "text": [
            "[Succeeded / Failed / Total] 2 / 3 / 5:  20%|██        | 5/25 [01:26<05:47, 17.37s/it]"
          ],
          "name": "stderr"
        },
        {
          "output_type": "display_data",
          "data": {
            "text/html": [
              "<font color = green>Duplicate (99%)</font> --> <font color = red>Not_duplicate (58%)</font><br><font color = bold><font color = underline>Question1</font></font>: I am 25 year old guy and <font color = green>never</font> had a girlfriend. Is this weird?\n",
              "<font color = bold><font color = underline>Question2</font></font>: I am 25 years old. I have never had a girlfriend. Is something wrong with me?<br><font color = bold><font color = underline>Question1</font></font>: I am 25 year old guy and <font color = red>already</font> had a girlfriend. Is this weird?\n",
              "<font color = bold><font color = underline>Question2</font></font>: I am 25 years old. I have never had a girlfriend. Is something wrong with me?"
            ],
            "text/plain": [
              "<IPython.core.display.HTML object>"
            ]
          },
          "metadata": {
            "tags": []
          }
        },
        {
          "output_type": "stream",
          "text": [
            "[Succeeded / Failed / Total] 3 / 3 / 6:  24%|██▍       | 6/25 [01:27<04:38, 14.65s/it]"
          ],
          "name": "stderr"
        },
        {
          "output_type": "display_data",
          "data": {
            "text/html": [
              "<font color = red>Not_duplicate (92%)</font> --> <font color = gray>[SKIPPED]</font><br><font color = bold><font color = underline>Question1</font></font>: \"What does a good answer on Quora look like? What does it mean to \"\"be helpful\"\"?\"\n",
              "<font color = bold><font color = underline>Question2</font></font>: How do you write a good answer on Quora?"
            ],
            "text/plain": [
              "<IPython.core.display.HTML object>"
            ]
          },
          "metadata": {
            "tags": []
          }
        },
        {
          "output_type": "stream",
          "text": [
            "\r[Succeeded / Failed / Total] 3 / 3 / 7:  28%|██▊       | 7/25 [01:27<03:46, 12.56s/it]"
          ],
          "name": "stderr"
        },
        {
          "output_type": "display_data",
          "data": {
            "text/html": [
              "<font color = green>Duplicate (54%)</font> --> <font color = red>Not_duplicate (100%)</font><br><font color = bold><font color = underline>Question1</font></font>: What are the best things to do in Hong Kong?\n",
              "<font color = bold><font color = underline>Question2</font></font>: What is the <font color = green>best</font> thing in Hong Kong?<br><font color = bold><font color = underline>Question1</font></font>: What are the best things to do in Hong Kong?\n",
              "<font color = bold><font color = underline>Question2</font></font>: What is the <font color = red>filmfare</font> thing in Hong Kong?"
            ],
            "text/plain": [
              "<IPython.core.display.HTML object>"
            ]
          },
          "metadata": {
            "tags": []
          }
        },
        {
          "output_type": "stream",
          "text": [
            "[Succeeded / Failed / Total] 4 / 3 / 8:  32%|███▏      | 8/25 [01:28<03:08, 11.06s/it]"
          ],
          "name": "stderr"
        },
        {
          "output_type": "display_data",
          "data": {
            "text/html": [
              "<font color = green>Duplicate (84%)</font> --> <font color = gray>[SKIPPED]</font><br><font color = bold><font color = underline>Question1</font></font>: Why is my life getting so complicated?\n",
              "<font color = bold><font color = underline>Question2</font></font>: Why is my life so complicated?"
            ],
            "text/plain": [
              "<IPython.core.display.HTML object>"
            ]
          },
          "metadata": {
            "tags": []
          }
        },
        {
          "output_type": "stream",
          "text": [
            "\r[Succeeded / Failed / Total] 4 / 3 / 9:  36%|███▌      | 9/25 [01:28<02:37,  9.84s/it]"
          ],
          "name": "stderr"
        },
        {
          "output_type": "display_data",
          "data": {
            "text/html": [
              "<font color = red>Not_duplicate (100%)</font> --> <font color = red>[FAILED]</font><br><font color = bold><font color = underline>Question1</font></font>: Why should I crack Jee?\n",
              "<font color = bold><font color = underline>Question2</font></font>: Is it possible to get into IIMs with low marks in graduation and 12th?"
            ],
            "text/plain": [
              "<IPython.core.display.HTML object>"
            ]
          },
          "metadata": {
            "tags": []
          }
        },
        {
          "output_type": "stream",
          "text": [
            "[Succeeded / Failed / Total] 4 / 4 / 10:  40%|████      | 10/25 [01:38<02:27,  9.81s/it]"
          ],
          "name": "stderr"
        },
        {
          "output_type": "display_data",
          "data": {
            "text/html": [
              "<font color = red>Not_duplicate (100%)</font> --> <font color = green>Duplicate (75%)</font><br><font color = bold><font color = underline>Question1</font></font>: Can you TRANSLATE <font color = red>these</font> to English language?\n",
              "<font color = bold><font color = underline>Question2</font></font>: Can <font color = red>you</font> <font color = red>translate</font> <font color = red>this</font> from Bengali to English language?<br><font color = bold><font color = underline>Question1</font></font>: Can you TRANSLATE <font color = green>some</font> to English language?\n",
              "<font color = bold><font color = underline>Question2</font></font>: Can <font color = green>we</font> <font color = green>transcribe</font> <font color = green>which</font> from Bengali to English language?"
            ],
            "text/plain": [
              "<IPython.core.display.HTML object>"
            ]
          },
          "metadata": {
            "tags": []
          }
        },
        {
          "output_type": "stream",
          "text": [
            "[Succeeded / Failed / Total] 5 / 4 / 11:  44%|████▍     | 11/25 [01:50<02:20, 10.00s/it]"
          ],
          "name": "stderr"
        },
        {
          "output_type": "display_data",
          "data": {
            "text/html": [
              "<font color = red>Not_duplicate (100%)</font> --> <font color = red>[FAILED]</font><br><font color = bold><font color = underline>Question1</font></font>: Can anyone tell shall mi mix mobile should be purchased or not?\n",
              "<font color = bold><font color = underline>Question2</font></font>: \"What did Voltaire mean when he said, \"\"God is a comedian playing to an audience that is too afraid to laugh\"\"?\""
            ],
            "text/plain": [
              "<IPython.core.display.HTML object>"
            ]
          },
          "metadata": {
            "tags": []
          }
        },
        {
          "output_type": "stream",
          "text": [
            "[Succeeded / Failed / Total] 5 / 5 / 12:  48%|████▊     | 12/25 [02:22<02:34, 11.89s/it]"
          ],
          "name": "stderr"
        },
        {
          "output_type": "display_data",
          "data": {
            "text/html": [
              "<font color = green>Duplicate (100%)</font> --> <font color = red>Not_duplicate (79%)</font><br><font color = bold><font color = underline>Question1</font></font>: Which is the best gaming <font color = green>laptop</font> under 40k?\n",
              "<font color = bold><font color = underline>Question2</font></font>: Which is the best gaming laptop under 40,000 <font color = green>rs</font>?<br><font color = bold><font color = underline>Question1</font></font>: Which is the best gaming <font color = red>xt</font> under 40k?\n",
              "<font color = bold><font color = underline>Question2</font></font>: Which is the best gaming laptop under 40,000 <font color = red>kbyte</font>?"
            ],
            "text/plain": [
              "<IPython.core.display.HTML object>"
            ]
          },
          "metadata": {
            "tags": []
          }
        },
        {
          "output_type": "stream",
          "text": [
            "[Succeeded / Failed / Total] 6 / 5 / 13:  52%|█████▏    | 13/25 [02:24<02:13, 11.12s/it]"
          ],
          "name": "stderr"
        },
        {
          "output_type": "display_data",
          "data": {
            "text/html": [
              "<font color = red>Not_duplicate (100%)</font> --> <font color = red>[FAILED]</font><br><font color = bold><font color = underline>Question1</font></font>: Why Tamil Nadu Universities are no good?\n",
              "<font color = bold><font color = underline>Question2</font></font>: Why are the 10th students able to score 100% in Tamil Nadu?"
            ],
            "text/plain": [
              "<IPython.core.display.HTML object>"
            ]
          },
          "metadata": {
            "tags": []
          }
        },
        {
          "output_type": "stream",
          "text": [
            "[Succeeded / Failed / Total] 6 / 6 / 14:  56%|█████▌    | 14/25 [02:33<02:00, 10.96s/it]"
          ],
          "name": "stderr"
        },
        {
          "output_type": "display_data",
          "data": {
            "text/html": [
              "<font color = red>Not_duplicate (100%)</font> --> <font color = red>[FAILED]</font><br><font color = bold><font color = underline>Question1</font></font>: What is an easy way to clean toothpaste stains from a shirt without washing it?\n",
              "<font color = bold><font color = underline>Question2</font></font>: What are some ways to remove hard water stains from dishes?"
            ],
            "text/plain": [
              "<IPython.core.display.HTML object>"
            ]
          },
          "metadata": {
            "tags": []
          }
        },
        {
          "output_type": "stream",
          "text": [
            "[Succeeded / Failed / Total] 6 / 7 / 15:  60%|██████    | 15/25 [02:57<01:58, 11.81s/it]"
          ],
          "name": "stderr"
        },
        {
          "output_type": "display_data",
          "data": {
            "text/html": [
              "<font color = green>Duplicate (96%)</font> --> <font color = red>Not_duplicate (100%)</font><br><font color = bold><font color = underline>Question1</font></font>: What was the deadliest battle in history?\n",
              "<font color = bold><font color = underline>Question2</font></font>: What was the <font color = green>bloodiest</font> battle in history?<br><font color = bold><font color = underline>Question1</font></font>: What was the deadliest battle in history?\n",
              "<font color = bold><font color = underline>Question2</font></font>: What was the <font color = red>gaugamela</font> battle in history?"
            ],
            "text/plain": [
              "<IPython.core.display.HTML object>"
            ]
          },
          "metadata": {
            "tags": []
          }
        },
        {
          "output_type": "stream",
          "text": [
            "[Succeeded / Failed / Total] 7 / 7 / 16:  64%|██████▍   | 16/25 [02:57<01:40, 11.11s/it]"
          ],
          "name": "stderr"
        },
        {
          "output_type": "display_data",
          "data": {
            "text/html": [
              "<font color = green>Duplicate (99%)</font> --> <font color = red>Not_duplicate (98%)</font><br><font color = bold><font color = underline>Question1</font></font>: What are your views about demonetisation in India?\n",
              "<font color = bold><font color = underline>Question2</font></font>: What do you <font color = green>think</font> about the ban on 500 and 1000 <font color = green>denomination</font> notes in India?<br><font color = bold><font color = underline>Question1</font></font>: What are your views about demonetisation in India?\n",
              "<font color = bold><font color = underline>Question2</font></font>: What do you <font color = red>know</font> about the ban on 500 and 1000 <font color = red>mennonite</font> notes in India?"
            ],
            "text/plain": [
              "<IPython.core.display.HTML object>"
            ]
          },
          "metadata": {
            "tags": []
          }
        },
        {
          "output_type": "stream",
          "text": [
            "[Succeeded / Failed / Total] 8 / 7 / 17:  68%|██████▊   | 17/25 [03:00<01:24, 10.62s/it]"
          ],
          "name": "stderr"
        },
        {
          "output_type": "display_data",
          "data": {
            "text/html": [
              "<font color = red>Not_duplicate (100%)</font> --> <font color = red>[FAILED]</font><br><font color = bold><font color = underline>Question1</font></font>: What are the difference between polyester 210T and 210D?\n",
              "<font color = bold><font color = underline>Question2</font></font>: What is the difference between cotton and polyester?"
            ],
            "text/plain": [
              "<IPython.core.display.HTML object>"
            ]
          },
          "metadata": {
            "tags": []
          }
        },
        {
          "output_type": "stream",
          "text": [
            "[Succeeded / Failed / Total] 8 / 8 / 18:  72%|███████▏  | 18/25 [03:07<01:12, 10.41s/it]"
          ],
          "name": "stderr"
        },
        {
          "output_type": "display_data",
          "data": {
            "text/html": [
              "<font color = red>Not_duplicate (99%)</font> --> <font color = red>[FAILED]</font><br><font color = bold><font color = underline>Question1</font></font>: Is FMS Delhi a good option for a MBA executive program?\n",
              "<font color = bold><font color = underline>Question2</font></font>: Is FMS a good choice for an MBA in HR? Why and why not?"
            ],
            "text/plain": [
              "<IPython.core.display.HTML object>"
            ]
          },
          "metadata": {
            "tags": []
          }
        },
        {
          "output_type": "stream",
          "text": [
            "[Succeeded / Failed / Total] 8 / 9 / 19:  76%|███████▌  | 19/25 [03:20<01:03, 10.55s/it]"
          ],
          "name": "stderr"
        },
        {
          "output_type": "display_data",
          "data": {
            "text/html": [
              "<font color = green>Duplicate (91%)</font> --> <font color = red>Not_duplicate (87%)</font><br><font color = bold><font color = underline>Question1</font></font>: Is it a bad time to buy a condo or a house in the Bay Area in 2017?\n",
              "<font color = bold><font color = underline>Question2</font></font>: Would 2017 be a good time to buy a <font color = green>house</font> in Bay Area?<br><font color = bold><font color = underline>Question1</font></font>: Is it a bad time to buy a condo or a house in the Bay Area in 2017?\n",
              "<font color = bold><font color = underline>Question2</font></font>: Would 2017 be a good time to buy a <font color = red>commons</font> in Bay Area?"
            ],
            "text/plain": [
              "<IPython.core.display.HTML object>"
            ]
          },
          "metadata": {
            "tags": []
          }
        },
        {
          "output_type": "stream",
          "text": [
            "[Succeeded / Failed / Total] 9 / 9 / 20:  80%|████████  | 20/25 [03:21<00:50, 10.07s/it]"
          ],
          "name": "stderr"
        },
        {
          "output_type": "display_data",
          "data": {
            "text/html": [
              "<font color = red>Not_duplicate (100%)</font> --> <font color = red>[FAILED]</font><br><font color = bold><font color = underline>Question1</font></font>: How is vanilla extract made?\n",
              "<font color = bold><font color = underline>Question2</font></font>: How do you make sugar cookies without vanilla extract?"
            ],
            "text/plain": [
              "<IPython.core.display.HTML object>"
            ]
          },
          "metadata": {
            "tags": []
          }
        },
        {
          "output_type": "stream",
          "text": [
            "[Succeeded / Failed / Total] 9 / 10 / 21:  84%|████████▍ | 21/25 [03:39<00:41, 10.45s/it]"
          ],
          "name": "stderr"
        },
        {
          "output_type": "display_data",
          "data": {
            "text/html": [
              "<font color = green>Duplicate (100%)</font> --> <font color = red>[FAILED]</font><br><font color = bold><font color = underline>Question1</font></font>: What is the Sahara, and how do the average temperatures there compare to the ones in the Patagonian Desert?\n",
              "<font color = bold><font color = underline>Question2</font></font>: What is the Sahara, and how do the average temperatures there compare to the ones in the Registan Desert?"
            ],
            "text/plain": [
              "<IPython.core.display.HTML object>"
            ]
          },
          "metadata": {
            "tags": []
          }
        },
        {
          "output_type": "stream",
          "text": [
            "[Succeeded / Failed / Total] 9 / 11 / 22:  88%|████████▊ | 22/25 [04:10<00:34, 11.39s/it]"
          ],
          "name": "stderr"
        },
        {
          "output_type": "display_data",
          "data": {
            "text/html": [
              "<font color = red>Not_duplicate (100%)</font> --> <font color = red>[FAILED]</font><br><font color = bold><font color = underline>Question1</font></font>: Why was the Roman Empire so successful?\n",
              "<font color = bold><font color = underline>Question2</font></font>: What are some of the rarely known facts about the Roman Empire?"
            ],
            "text/plain": [
              "<IPython.core.display.HTML object>"
            ]
          },
          "metadata": {
            "tags": []
          }
        },
        {
          "output_type": "stream",
          "text": [
            "[Succeeded / Failed / Total] 9 / 12 / 23:  92%|█████████▏| 23/25 [04:14<00:22, 11.09s/it]"
          ],
          "name": "stderr"
        },
        {
          "output_type": "display_data",
          "data": {
            "text/html": [
              "<font color = red>Not_duplicate (100%)</font> --> <font color = red>[FAILED]</font><br><font color = bold><font color = underline>Question1</font></font>: Is it advisable to sent your cv to a professor with whom you are trying to make contact for graduate admission?\n",
              "<font color = bold><font color = underline>Question2</font></font>: How does contacting a professor before applying factor into graduate admissions?"
            ],
            "text/plain": [
              "<IPython.core.display.HTML object>"
            ]
          },
          "metadata": {
            "tags": []
          }
        },
        {
          "output_type": "stream",
          "text": [
            "[Succeeded / Failed / Total] 9 / 13 / 24:  96%|█████████▌| 24/25 [04:57<00:12, 12.41s/it]"
          ],
          "name": "stderr"
        },
        {
          "output_type": "display_data",
          "data": {
            "text/html": [
              "<font color = red>Not_duplicate (100%)</font> --> <font color = red>[FAILED]</font><br><font color = bold><font color = underline>Question1</font></font>: Does a RainTPL syntax extension for Sublime Text exist? Where can I download it?\n",
              "<font color = bold><font color = underline>Question2</font></font>: How do I hide the find/replace bar in Sublime Text 2?"
            ],
            "text/plain": [
              "<IPython.core.display.HTML object>"
            ]
          },
          "metadata": {
            "tags": []
          }
        },
        {
          "output_type": "stream",
          "text": [
            "[Succeeded / Failed / Total] 9 / 14 / 25: 100%|██████████| 25/25 [05:12<00:00, 12.49s/it]"
          ],
          "name": "stderr"
        },
        {
          "output_type": "display_data",
          "data": {
            "text/html": [
              "<font color = red>Not_duplicate (100%)</font> --> <font color = red>[FAILED]</font><br><font color = bold><font color = underline>Question1</font></font>: What is the average salary of a microbiologist in India?\n",
              "<font color = bold><font color = underline>Question2</font></font>: What is the salary for a psychologist in india?"
            ],
            "text/plain": [
              "<IPython.core.display.HTML object>"
            ]
          },
          "metadata": {
            "tags": []
          }
        },
        {
          "output_type": "stream",
          "text": [
            "[Succeeded / Failed / Total] 9 / 15 / 26: : 26it [05:27, 12.59s/it]"
          ],
          "name": "stderr"
        },
        {
          "output_type": "display_data",
          "data": {
            "text/html": [
              "<font color = red>Not_duplicate (88%)</font> --> <font color = green>Duplicate (91%)</font><br><font color = bold><font color = underline>Question1</font></font>: How <font color = red>do</font> you close a Bank of America <font color = red>account</font>?\n",
              "<font color = bold><font color = underline>Question2</font></font>: How can one close a bank <font color = red>account</font> online?<br><font color = bold><font color = underline>Question1</font></font>: How <font color = green>want</font> you close a Bank of America <font color = green>explanation</font>?\n",
              "<font color = bold><font color = underline>Question2</font></font>: How can one close a bank <font color = green>hypothesizing</font> online?"
            ],
            "text/plain": [
              "<IPython.core.display.HTML object>"
            ]
          },
          "metadata": {
            "tags": []
          }
        },
        {
          "output_type": "stream",
          "text": [
            "[Succeeded / Failed / Total] 10 / 15 / 27: : 27it [05:29, 12.22s/it]"
          ],
          "name": "stderr"
        },
        {
          "output_type": "stream",
          "text": [
            "+-------------------------------+--------+\n",
            "| Attack Results                |        |\n",
            "+-------------------------------+--------+\n",
            "| Number of successful attacks: | 10     |\n",
            "| Number of failed attacks:     | 15     |\n",
            "| Number of skipped attacks:    | 2      |\n",
            "| Original accuracy:            | 92.59% |\n",
            "| Accuracy under attack:        | 55.56% |\n",
            "| Attack success rate:          | 40.0%  |\n",
            "| Average perturbed word %:     | 9.71%  |\n",
            "| Average num. words per input: | 22.3   |\n",
            "| Avg num queries:              | 362.32 |\n",
            "+-------------------------------+--------+"
          ],
          "name": "stdout"
        },
        {
          "output_type": "stream",
          "text": [
            "\n",
            "\u001b[34;1mtextattack\u001b[0m: Attack time: 329.87921953201294s\n"
          ],
          "name": "stderr"
        }
      ]
    },
    {
      "cell_type": "markdown",
      "metadata": {
        "id": "SViaJK80uMrl"
      },
      "source": [
        "### Glove, ParticleSwarmOptimization, PartsofSpeech"
      ]
    },
    {
      "cell_type": "code",
      "metadata": {
        "id": "O7zg-_zFQwyV",
        "colab": {
          "base_uri": "https://localhost:8080/"
        },
        "outputId": "85306d7e-77e4-4ebc-9309-591ea59184f2"
      },
      "source": [
        "# We're going to use our word swap class as the attack transformation.\n",
        "transformation = Swapper__()\n",
        "\n",
        "constraints = [PartOfSpeech()]\n",
        "\n",
        "search_method = ParticleSwarmOptimization(pop_size=10,max_iters=5)\n",
        "\n",
        "goal_function = UntargetedClassification(model_wrapper)\n",
        "\n",
        "# Now, let's make the attack from the 4 components:\n",
        "attack = Attack(goal_function, constraints, transformation, search_method)"
      ],
      "execution_count": null,
      "outputs": [
        {
          "output_type": "stream",
          "text": [
            "\u001b[34;1mtextattack\u001b[0m: Unknown if model of class <class 'transformers.models.bert.modeling_bert.BertForSequenceClassification'> compatible with goal function <class 'textattack.goal_functions.classification.untargeted_classification.UntargetedClassification'>.\n"
          ],
          "name": "stderr"
        }
      ]
    },
    {
      "cell_type": "code",
      "metadata": {
        "id": "PKAKnXjcQzEL",
        "colab": {
          "base_uri": "https://localhost:8080/"
        },
        "outputId": "42b010b3-6ac7-4366-c84e-60ae36194abc"
      },
      "source": [
        "print(attack)"
      ],
      "execution_count": null,
      "outputs": [
        {
          "output_type": "stream",
          "text": [
            "Attack(\n",
            "  (search_method): ParticleSwarmOptimization(\n",
            "    (pop_size):  10\n",
            "    (max_iters):  5\n",
            "    (post_turn_check):  True\n",
            "    (max_turn_retries):  20\n",
            "  )\n",
            "  (goal_function):  UntargetedClassification\n",
            "  (transformation):  Swapper__\n",
            "  (constraints): \n",
            "    (0): PartOfSpeech(\n",
            "        (tagger_type):  nltk\n",
            "        (tagset):  universal\n",
            "        (allow_verb_noun_swap):  True\n",
            "        (compare_against_original):  True\n",
            "      )\n",
            "  (is_black_box):  True\n",
            ")\n"
          ],
          "name": "stdout"
        }
      ]
    },
    {
      "cell_type": "code",
      "metadata": {
        "id": "1ORBY3voQ1TT",
        "colab": {
          "base_uri": "https://localhost:8080/",
          "height": 1000
        },
        "outputId": "b86ec5dc-b930-4d42-a9a2-62efa30461e0"
      },
      "source": [
        "attack_stats(attack, dataset, 25)"
      ],
      "execution_count": null,
      "outputs": [
        {
          "output_type": "stream",
          "text": [
            "\r  0%|          | 0/25 [00:00<?, ?it/s]"
          ],
          "name": "stderr"
        },
        {
          "output_type": "stream",
          "text": [
            "Attack(\n",
            "  (search_method): ParticleSwarmOptimization(\n",
            "    (pop_size):  10\n",
            "    (max_iters):  5\n",
            "    (post_turn_check):  True\n",
            "    (max_turn_retries):  20\n",
            "  )\n",
            "  (goal_function):  UntargetedClassification\n",
            "  (transformation):  Swapper__\n",
            "  (constraints): \n",
            "    (0): PartOfSpeech(\n",
            "        (tagger_type):  nltk\n",
            "        (tagset):  universal\n",
            "        (allow_verb_noun_swap):  True\n",
            "        (compare_against_original):  True\n",
            "      )\n",
            "  (is_black_box):  True\n",
            ")\n"
          ],
          "name": "stdout"
        },
        {
          "output_type": "display_data",
          "data": {
            "text/html": [
              "<font color = red>Not_duplicate (100%)</font> --> <font color = red>[FAILED]</font><br><font color = bold><font color = underline>Question1</font></font>: Why are African-Americans so beautiful?\n",
              "<font color = bold><font color = underline>Question2</font></font>: Why are hispanics so beautiful?"
            ],
            "text/plain": [
              "<IPython.core.display.HTML object>"
            ]
          },
          "metadata": {
            "tags": []
          }
        },
        {
          "output_type": "stream",
          "text": [
            "[Succeeded / Failed / Total] 0 / 1 / 1:   4%|▍         | 1/25 [00:07<02:58,  7.44s/it]"
          ],
          "name": "stderr"
        },
        {
          "output_type": "display_data",
          "data": {
            "text/html": [
              "<font color = red>Not_duplicate (100%)</font> --> <font color = red>[FAILED]</font><br><font color = bold><font color = underline>Question1</font></font>: I want to pursue PhD in Computer Science about social network,what is the open problem in social networks?\n",
              "<font color = bold><font color = underline>Question2</font></font>: I handle social media for a non-profit. Should I start going to social media networking events? Are there any good ones in the bay area?"
            ],
            "text/plain": [
              "<IPython.core.display.HTML object>"
            ]
          },
          "metadata": {
            "tags": []
          }
        },
        {
          "output_type": "stream",
          "text": [
            "[Succeeded / Failed / Total] 0 / 2 / 2:   8%|▊         | 2/25 [01:26<16:29, 43.02s/it]"
          ],
          "name": "stderr"
        },
        {
          "output_type": "display_data",
          "data": {
            "text/html": [
              "<font color = green>Duplicate (97%)</font> --> <font color = red>Not_duplicate (100%)</font><br><font color = bold><font color = underline>Question1</font></font>: Is <font color = green>there</font> a reason why we should travel alone?\n",
              "<font color = bold><font color = underline>Question2</font></font>: What are some reasons to travel alone?<br><font color = bold><font color = underline>Question1</font></font>: Is <font color = red>syslisp</font> a reason why we should travel alone?\n",
              "<font color = bold><font color = underline>Question2</font></font>: What are some reasons to travel alone?"
            ],
            "text/plain": [
              "<IPython.core.display.HTML object>"
            ]
          },
          "metadata": {
            "tags": []
          }
        },
        {
          "output_type": "stream",
          "text": [
            "[Succeeded / Failed / Total] 1 / 2 / 3:  12%|█▏        | 3/25 [01:27<10:38, 29.02s/it]"
          ],
          "name": "stderr"
        },
        {
          "output_type": "display_data",
          "data": {
            "text/html": [
              "<font color = red>Not_duplicate (100%)</font> --> <font color = red>[FAILED]</font><br><font color = bold><font color = underline>Question1</font></font>: Why are people so obsessed with having a girlfriend/boyfriend?\n",
              "<font color = bold><font color = underline>Question2</font></font>: How can a single male have a child?"
            ],
            "text/plain": [
              "<IPython.core.display.HTML object>"
            ]
          },
          "metadata": {
            "tags": []
          }
        },
        {
          "output_type": "stream",
          "text": [
            "[Succeeded / Failed / Total] 1 / 3 / 4:  16%|█▌        | 4/25 [02:14<11:46, 33.66s/it]"
          ],
          "name": "stderr"
        },
        {
          "output_type": "display_data",
          "data": {
            "text/html": [
              "<font color = red>Not_duplicate (94%)</font> --> <font color = red>[FAILED]</font><br><font color = bold><font color = underline>Question1</font></font>: What are some good baby girl names starting with D?\n",
              "<font color = bold><font color = underline>Question2</font></font>: What are some good baby girl names starting with D or H?"
            ],
            "text/plain": [
              "<IPython.core.display.HTML object>"
            ]
          },
          "metadata": {
            "tags": []
          }
        },
        {
          "output_type": "stream",
          "text": [
            "[Succeeded / Failed / Total] 1 / 4 / 5:  20%|██        | 5/25 [02:28<09:54, 29.71s/it]"
          ],
          "name": "stderr"
        },
        {
          "output_type": "display_data",
          "data": {
            "text/html": [
              "<font color = green>Duplicate (99%)</font> --> <font color = red>Not_duplicate (96%)</font><br><font color = bold><font color = underline>Question1</font></font>: I am 25 year old guy and <font color = green>never</font> had a <font color = green>girlfriend</font>. Is this weird?\n",
              "<font color = bold><font color = underline>Question2</font></font>: I am 25 years old. I have never had a girlfriend. Is something wrong with me?<br><font color = bold><font color = underline>Question1</font></font>: I am 25 year old guy and <font color = red>actually</font> had a <font color = red>boyfriend</font>. Is this weird?\n",
              "<font color = bold><font color = underline>Question2</font></font>: I am 25 years old. I have never had a girlfriend. Is something wrong with me?"
            ],
            "text/plain": [
              "<IPython.core.display.HTML object>"
            ]
          },
          "metadata": {
            "tags": []
          }
        },
        {
          "output_type": "stream",
          "text": [
            "[Succeeded / Failed / Total] 2 / 4 / 6:  24%|██▍       | 6/25 [02:30<07:56, 25.06s/it]"
          ],
          "name": "stderr"
        },
        {
          "output_type": "display_data",
          "data": {
            "text/html": [
              "<font color = red>Not_duplicate (92%)</font> --> <font color = gray>[SKIPPED]</font><br><font color = bold><font color = underline>Question1</font></font>: \"What does a good answer on Quora look like? What does it mean to \"\"be helpful\"\"?\"\n",
              "<font color = bold><font color = underline>Question2</font></font>: How do you write a good answer on Quora?"
            ],
            "text/plain": [
              "<IPython.core.display.HTML object>"
            ]
          },
          "metadata": {
            "tags": []
          }
        },
        {
          "output_type": "stream",
          "text": [
            "\r[Succeeded / Failed / Total] 2 / 4 / 7:  28%|██▊       | 7/25 [02:30<06:26, 21.49s/it]"
          ],
          "name": "stderr"
        },
        {
          "output_type": "display_data",
          "data": {
            "text/html": [
              "<font color = green>Duplicate (54%)</font> --> <font color = red>Not_duplicate (100%)</font><br><font color = bold><font color = underline>Question1</font></font>: What are the best things to do in Hong Kong?\n",
              "<font color = bold><font color = underline>Question2</font></font>: What is the <font color = green>best</font> thing in Hong Kong?<br><font color = bold><font color = underline>Question1</font></font>: What are the best things to do in Hong Kong?\n",
              "<font color = bold><font color = underline>Question2</font></font>: What is the <font color = red>rnb</font> thing in Hong Kong?"
            ],
            "text/plain": [
              "<IPython.core.display.HTML object>"
            ]
          },
          "metadata": {
            "tags": []
          }
        },
        {
          "output_type": "stream",
          "text": [
            "[Succeeded / Failed / Total] 3 / 4 / 8:  32%|███▏      | 8/25 [02:31<05:21, 18.90s/it]"
          ],
          "name": "stderr"
        },
        {
          "output_type": "display_data",
          "data": {
            "text/html": [
              "<font color = green>Duplicate (84%)</font> --> <font color = gray>[SKIPPED]</font><br><font color = bold><font color = underline>Question1</font></font>: Why is my life getting so complicated?\n",
              "<font color = bold><font color = underline>Question2</font></font>: Why is my life so complicated?"
            ],
            "text/plain": [
              "<IPython.core.display.HTML object>"
            ]
          },
          "metadata": {
            "tags": []
          }
        },
        {
          "output_type": "stream",
          "text": [
            "\r[Succeeded / Failed / Total] 3 / 4 / 9:  36%|███▌      | 9/25 [02:31<04:28, 16.81s/it]"
          ],
          "name": "stderr"
        },
        {
          "output_type": "display_data",
          "data": {
            "text/html": [
              "<font color = red>Not_duplicate (100%)</font> --> <font color = red>[FAILED]</font><br><font color = bold><font color = underline>Question1</font></font>: Why should I crack Jee?\n",
              "<font color = bold><font color = underline>Question2</font></font>: Is it possible to get into IIMs with low marks in graduation and 12th?"
            ],
            "text/plain": [
              "<IPython.core.display.HTML object>"
            ]
          },
          "metadata": {
            "tags": []
          }
        },
        {
          "output_type": "stream",
          "text": [
            "[Succeeded / Failed / Total] 3 / 5 / 10:  40%|████      | 10/25 [02:44<04:06, 16.42s/it]"
          ],
          "name": "stderr"
        },
        {
          "output_type": "display_data",
          "data": {
            "text/html": [
              "<font color = red>Not_duplicate (100%)</font> --> <font color = red>[FAILED]</font><br><font color = bold><font color = underline>Question1</font></font>: Can you TRANSLATE these to English language?\n",
              "<font color = bold><font color = underline>Question2</font></font>: Can you translate this from Bengali to English language?"
            ],
            "text/plain": [
              "<IPython.core.display.HTML object>"
            ]
          },
          "metadata": {
            "tags": []
          }
        },
        {
          "output_type": "stream",
          "text": [
            "[Succeeded / Failed / Total] 3 / 6 / 11:  44%|████▍     | 11/25 [02:48<03:34, 15.31s/it]"
          ],
          "name": "stderr"
        },
        {
          "output_type": "display_data",
          "data": {
            "text/html": [
              "<font color = red>Not_duplicate (100%)</font> --> <font color = red>[FAILED]</font><br><font color = bold><font color = underline>Question1</font></font>: Can anyone tell shall mi mix mobile should be purchased or not?\n",
              "<font color = bold><font color = underline>Question2</font></font>: \"What did Voltaire mean when he said, \"\"God is a comedian playing to an audience that is too afraid to laugh\"\"?\""
            ],
            "text/plain": [
              "<IPython.core.display.HTML object>"
            ]
          },
          "metadata": {
            "tags": []
          }
        },
        {
          "output_type": "stream",
          "text": [
            "[Succeeded / Failed / Total] 3 / 7 / 12:  48%|████▊     | 12/25 [03:59<04:19, 19.98s/it]"
          ],
          "name": "stderr"
        },
        {
          "output_type": "display_data",
          "data": {
            "text/html": [
              "<font color = green>Duplicate (100%)</font> --> <font color = red>Not_duplicate (100%)</font><br><font color = bold><font color = underline>Question1</font></font>: Which <font color = green>is</font> the best gaming laptop under 40k?\n",
              "<font color = bold><font color = underline>Question2</font></font>: Which is the best <font color = green>gaming</font> <font color = green>laptop</font> under 40,000 rs?<br><font color = bold><font color = underline>Question1</font></font>: Which <font color = red>polylogarithm</font> the best gaming laptop under 40k?\n",
              "<font color = bold><font color = underline>Question2</font></font>: Which is the best <font color = red>multiplayer</font> <font color = red>confetti</font> under 40,000 rs?"
            ],
            "text/plain": [
              "<IPython.core.display.HTML object>"
            ]
          },
          "metadata": {
            "tags": []
          }
        },
        {
          "output_type": "stream",
          "text": [
            "[Succeeded / Failed / Total] 4 / 7 / 13:  52%|█████▏    | 13/25 [04:05<03:46, 18.87s/it]"
          ],
          "name": "stderr"
        },
        {
          "output_type": "display_data",
          "data": {
            "text/html": [
              "<font color = red>Not_duplicate (100%)</font> --> <font color = red>[FAILED]</font><br><font color = bold><font color = underline>Question1</font></font>: Why Tamil Nadu Universities are no good?\n",
              "<font color = bold><font color = underline>Question2</font></font>: Why are the 10th students able to score 100% in Tamil Nadu?"
            ],
            "text/plain": [
              "<IPython.core.display.HTML object>"
            ]
          },
          "metadata": {
            "tags": []
          }
        },
        {
          "output_type": "stream",
          "text": [
            "[Succeeded / Failed / Total] 4 / 8 / 14:  56%|█████▌    | 14/25 [04:17<03:22, 18.39s/it]"
          ],
          "name": "stderr"
        },
        {
          "output_type": "display_data",
          "data": {
            "text/html": [
              "<font color = red>Not_duplicate (100%)</font> --> <font color = red>[FAILED]</font><br><font color = bold><font color = underline>Question1</font></font>: What is an easy way to clean toothpaste stains from a shirt without washing it?\n",
              "<font color = bold><font color = underline>Question2</font></font>: What are some ways to remove hard water stains from dishes?"
            ],
            "text/plain": [
              "<IPython.core.display.HTML object>"
            ]
          },
          "metadata": {
            "tags": []
          }
        },
        {
          "output_type": "stream",
          "text": [
            "[Succeeded / Failed / Total] 4 / 9 / 15:  60%|██████    | 15/25 [04:57<03:18, 19.82s/it]"
          ],
          "name": "stderr"
        },
        {
          "output_type": "display_data",
          "data": {
            "text/html": [
              "<font color = green>Duplicate (96%)</font> --> <font color = red>Not_duplicate (100%)</font><br><font color = bold><font color = underline>Question1</font></font>: What was the deadliest battle in history?\n",
              "<font color = bold><font color = underline>Question2</font></font>: What was the bloodiest battle in <font color = green>history</font>?<br><font color = bold><font color = underline>Question1</font></font>: What was the deadliest battle in history?\n",
              "<font color = bold><font color = underline>Question2</font></font>: What was the bloodiest battle in <font color = red>cmessier</font>?"
            ],
            "text/plain": [
              "<IPython.core.display.HTML object>"
            ]
          },
          "metadata": {
            "tags": []
          }
        },
        {
          "output_type": "stream",
          "text": [
            "[Succeeded / Failed / Total] 5 / 9 / 16:  64%|██████▍   | 16/25 [04:58<02:47, 18.63s/it]"
          ],
          "name": "stderr"
        },
        {
          "output_type": "display_data",
          "data": {
            "text/html": [
              "<font color = green>Duplicate (99%)</font> --> <font color = red>Not_duplicate (100%)</font><br><font color = bold><font color = underline>Question1</font></font>: What are your views about demonetisation in India?\n",
              "<font color = bold><font color = underline>Question2</font></font>: What do you think about the <font color = green>ban</font> on 500 and 1000 denomination notes in India?<br><font color = bold><font color = underline>Question1</font></font>: What are your views about demonetisation in India?\n",
              "<font color = bold><font color = underline>Question2</font></font>: What do you think about the <font color = red>ozone</font> on 500 and 1000 denomination notes in India?"
            ],
            "text/plain": [
              "<IPython.core.display.HTML object>"
            ]
          },
          "metadata": {
            "tags": []
          }
        },
        {
          "output_type": "stream",
          "text": [
            "[Succeeded / Failed / Total] 6 / 9 / 17:  68%|██████▊   | 17/25 [04:59<02:20, 17.60s/it]"
          ],
          "name": "stderr"
        },
        {
          "output_type": "display_data",
          "data": {
            "text/html": [
              "<font color = red>Not_duplicate (100%)</font> --> <font color = red>[FAILED]</font><br><font color = bold><font color = underline>Question1</font></font>: What are the difference between polyester 210T and 210D?\n",
              "<font color = bold><font color = underline>Question2</font></font>: What is the difference between cotton and polyester?"
            ],
            "text/plain": [
              "<IPython.core.display.HTML object>"
            ]
          },
          "metadata": {
            "tags": []
          }
        },
        {
          "output_type": "stream",
          "text": [
            "[Succeeded / Failed / Total] 6 / 10 / 18:  72%|███████▏  | 18/25 [05:15<02:02, 17.53s/it]"
          ],
          "name": "stderr"
        },
        {
          "output_type": "display_data",
          "data": {
            "text/html": [
              "<font color = red>Not_duplicate (99%)</font> --> <font color = red>[FAILED]</font><br><font color = bold><font color = underline>Question1</font></font>: Is FMS Delhi a good option for a MBA executive program?\n",
              "<font color = bold><font color = underline>Question2</font></font>: Is FMS a good choice for an MBA in HR? Why and why not?"
            ],
            "text/plain": [
              "<IPython.core.display.HTML object>"
            ]
          },
          "metadata": {
            "tags": []
          }
        },
        {
          "output_type": "stream",
          "text": [
            "[Succeeded / Failed / Total] 6 / 11 / 19:  76%|███████▌  | 19/25 [05:25<01:42, 17.11s/it]"
          ],
          "name": "stderr"
        },
        {
          "output_type": "display_data",
          "data": {
            "text/html": [
              "<font color = green>Duplicate (91%)</font> --> <font color = red>Not_duplicate (99%)</font><br><font color = bold><font color = underline>Question1</font></font>: Is it a bad time to buy a condo or a house in the Bay Area in 2017?\n",
              "<font color = bold><font color = underline>Question2</font></font>: Would 2017 be a good time to buy a <font color = green>house</font> in Bay Area?<br><font color = bold><font color = underline>Question1</font></font>: Is it a bad time to buy a condo or a house in the Bay Area in 2017?\n",
              "<font color = bold><font color = underline>Question2</font></font>: Would 2017 be a good time to buy a <font color = red>ajidica</font> in Bay Area?"
            ],
            "text/plain": [
              "<IPython.core.display.HTML object>"
            ]
          },
          "metadata": {
            "tags": []
          }
        },
        {
          "output_type": "stream",
          "text": [
            "[Succeeded / Failed / Total] 7 / 11 / 20:  80%|████████  | 20/25 [05:26<01:21, 16.34s/it]"
          ],
          "name": "stderr"
        },
        {
          "output_type": "display_data",
          "data": {
            "text/html": [
              "<font color = red>Not_duplicate (100%)</font> --> <font color = red>[FAILED]</font><br><font color = bold><font color = underline>Question1</font></font>: How is vanilla extract made?\n",
              "<font color = bold><font color = underline>Question2</font></font>: How do you make sugar cookies without vanilla extract?"
            ],
            "text/plain": [
              "<IPython.core.display.HTML object>"
            ]
          },
          "metadata": {
            "tags": []
          }
        },
        {
          "output_type": "stream",
          "text": [
            "[Succeeded / Failed / Total] 7 / 12 / 21:  84%|████████▍ | 21/25 [05:51<01:07, 16.75s/it]"
          ],
          "name": "stderr"
        },
        {
          "output_type": "display_data",
          "data": {
            "text/html": [
              "<font color = green>Duplicate (100%)</font> --> <font color = red>[FAILED]</font><br><font color = bold><font color = underline>Question1</font></font>: What is the Sahara, and how do the average temperatures there compare to the ones in the Patagonian Desert?\n",
              "<font color = bold><font color = underline>Question2</font></font>: What is the Sahara, and how do the average temperatures there compare to the ones in the Registan Desert?"
            ],
            "text/plain": [
              "<IPython.core.display.HTML object>"
            ]
          },
          "metadata": {
            "tags": []
          }
        },
        {
          "output_type": "stream",
          "text": [
            "[Succeeded / Failed / Total] 7 / 13 / 22:  88%|████████▊ | 22/25 [06:47<00:55, 18.52s/it]"
          ],
          "name": "stderr"
        },
        {
          "output_type": "display_data",
          "data": {
            "text/html": [
              "<font color = red>Not_duplicate (100%)</font> --> <font color = red>[FAILED]</font><br><font color = bold><font color = underline>Question1</font></font>: Why was the Roman Empire so successful?\n",
              "<font color = bold><font color = underline>Question2</font></font>: What are some of the rarely known facts about the Roman Empire?"
            ],
            "text/plain": [
              "<IPython.core.display.HTML object>"
            ]
          },
          "metadata": {
            "tags": []
          }
        },
        {
          "output_type": "stream",
          "text": [
            "[Succeeded / Failed / Total] 7 / 14 / 23:  92%|█████████▏| 23/25 [06:49<00:35, 17.82s/it]"
          ],
          "name": "stderr"
        },
        {
          "output_type": "display_data",
          "data": {
            "text/html": [
              "<font color = red>Not_duplicate (100%)</font> --> <font color = red>[FAILED]</font><br><font color = bold><font color = underline>Question1</font></font>: Is it advisable to sent your cv to a professor with whom you are trying to make contact for graduate admission?\n",
              "<font color = bold><font color = underline>Question2</font></font>: How does contacting a professor before applying factor into graduate admissions?"
            ],
            "text/plain": [
              "<IPython.core.display.HTML object>"
            ]
          },
          "metadata": {
            "tags": []
          }
        },
        {
          "output_type": "stream",
          "text": [
            "[Succeeded / Failed / Total] 7 / 15 / 24:  96%|█████████▌| 24/25 [08:00<00:20, 20.02s/it]"
          ],
          "name": "stderr"
        },
        {
          "output_type": "display_data",
          "data": {
            "text/html": [
              "<font color = red>Not_duplicate (100%)</font> --> <font color = red>[FAILED]</font><br><font color = bold><font color = underline>Question1</font></font>: Does a RainTPL syntax extension for Sublime Text exist? Where can I download it?\n",
              "<font color = bold><font color = underline>Question2</font></font>: How do I hide the find/replace bar in Sublime Text 2?"
            ],
            "text/plain": [
              "<IPython.core.display.HTML object>"
            ]
          },
          "metadata": {
            "tags": []
          }
        },
        {
          "output_type": "stream",
          "text": [
            "[Succeeded / Failed / Total] 7 / 16 / 25: 100%|██████████| 25/25 [08:24<00:00, 20.19s/it]"
          ],
          "name": "stderr"
        },
        {
          "output_type": "display_data",
          "data": {
            "text/html": [
              "<font color = red>Not_duplicate (100%)</font> --> <font color = red>[FAILED]</font><br><font color = bold><font color = underline>Question1</font></font>: What is the average salary of a microbiologist in India?\n",
              "<font color = bold><font color = underline>Question2</font></font>: What is the salary for a psychologist in india?"
            ],
            "text/plain": [
              "<IPython.core.display.HTML object>"
            ]
          },
          "metadata": {
            "tags": []
          }
        },
        {
          "output_type": "stream",
          "text": [
            "[Succeeded / Failed / Total] 7 / 17 / 26: : 26it [08:46, 20.25s/it]"
          ],
          "name": "stderr"
        },
        {
          "output_type": "display_data",
          "data": {
            "text/html": [
              "<font color = red>Not_duplicate (88%)</font> --> <font color = green>Duplicate (75%)</font><br><font color = bold><font color = underline>Question1</font></font>: How do you close a Bank of America account?\n",
              "<font color = bold><font color = underline>Question2</font></font>: How can one close a bank account <font color = red>online</font>?<br><font color = bold><font color = underline>Question1</font></font>: How do you close a Bank of America account?\n",
              "<font color = bold><font color = underline>Question2</font></font>: How can one close a bank account <font color = green>fertfriend</font>?"
            ],
            "text/plain": [
              "<IPython.core.display.HTML object>"
            ]
          },
          "metadata": {
            "tags": []
          }
        },
        {
          "output_type": "stream",
          "text": [
            "[Succeeded / Failed / Total] 8 / 17 / 27: : 27it [08:47, 19.54s/it]"
          ],
          "name": "stderr"
        },
        {
          "output_type": "stream",
          "text": [
            "+-------------------------------+--------+\n",
            "| Attack Results                |        |\n",
            "+-------------------------------+--------+\n",
            "| Number of successful attacks: | 8      |\n",
            "| Number of failed attacks:     | 17     |\n",
            "| Number of skipped attacks:    | 2      |\n",
            "| Original accuracy:            | 92.59% |\n",
            "| Accuracy under attack:        | 62.96% |\n",
            "| Attack success rate:          | 32.0%  |\n",
            "| Average perturbed word %:     | 6.97%  |\n",
            "| Average num. words per input: | 22.3   |\n",
            "| Avg num queries:              | 309.88 |\n",
            "+-------------------------------+--------+"
          ],
          "name": "stdout"
        },
        {
          "output_type": "stream",
          "text": [
            "\n",
            "\u001b[34;1mtextattack\u001b[0m: Attack time: 527.585437297821s\n"
          ],
          "name": "stderr"
        }
      ]
    },
    {
      "cell_type": "code",
      "metadata": {
        "id": "PDxxIItFhgBB"
      },
      "source": [
        ""
      ],
      "execution_count": null,
      "outputs": []
    }
  ]
}