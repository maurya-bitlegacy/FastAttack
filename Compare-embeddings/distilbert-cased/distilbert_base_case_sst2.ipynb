{
  "nbformat": 4,
  "nbformat_minor": 0,
  "metadata": {
    "colab": {
      "name": "distilbert_base_case_sst2.ipynb",
      "provenance": [],
      "collapsed_sections": []
    },
    "kernelspec": {
      "name": "python3",
      "display_name": "Python 3"
    },
    "language_info": {
      "name": "python"
    },
    "widgets": {
      "application/vnd.jupyter.widget-state+json": {
        "29c26a6cce6149aaa9080af17548067d": {
          "model_module": "@jupyter-widgets/controls",
          "model_name": "HBoxModel",
          "state": {
            "_view_name": "HBoxView",
            "_dom_classes": [],
            "_model_name": "HBoxModel",
            "_view_module": "@jupyter-widgets/controls",
            "_model_module_version": "1.5.0",
            "_view_count": null,
            "_view_module_version": "1.5.0",
            "box_style": "",
            "layout": "IPY_MODEL_8afea210e7354fc1866f96566d89f309",
            "_model_module": "@jupyter-widgets/controls",
            "children": [
              "IPY_MODEL_8bb2cc4f332d4e3795135949583282e5",
              "IPY_MODEL_b0d0eb556c6b4eb9a6776d175be91fb6"
            ]
          }
        },
        "8afea210e7354fc1866f96566d89f309": {
          "model_module": "@jupyter-widgets/base",
          "model_name": "LayoutModel",
          "state": {
            "_view_name": "LayoutView",
            "grid_template_rows": null,
            "right": null,
            "justify_content": null,
            "_view_module": "@jupyter-widgets/base",
            "overflow": null,
            "_model_module_version": "1.2.0",
            "_view_count": null,
            "flex_flow": null,
            "width": null,
            "min_width": null,
            "border": null,
            "align_items": null,
            "bottom": null,
            "_model_module": "@jupyter-widgets/base",
            "top": null,
            "grid_column": null,
            "overflow_y": null,
            "overflow_x": null,
            "grid_auto_flow": null,
            "grid_area": null,
            "grid_template_columns": null,
            "flex": null,
            "_model_name": "LayoutModel",
            "justify_items": null,
            "grid_row": null,
            "max_height": null,
            "align_content": null,
            "visibility": null,
            "align_self": null,
            "height": null,
            "min_height": null,
            "padding": null,
            "grid_auto_rows": null,
            "grid_gap": null,
            "max_width": null,
            "order": null,
            "_view_module_version": "1.2.0",
            "grid_template_areas": null,
            "object_position": null,
            "object_fit": null,
            "grid_auto_columns": null,
            "margin": null,
            "display": null,
            "left": null
          }
        },
        "8bb2cc4f332d4e3795135949583282e5": {
          "model_module": "@jupyter-widgets/controls",
          "model_name": "FloatProgressModel",
          "state": {
            "_view_name": "ProgressView",
            "style": "IPY_MODEL_93fa8ea602a44d6eb49dce55631b8bf4",
            "_dom_classes": [],
            "description": "Downloading: 100%",
            "_model_name": "FloatProgressModel",
            "bar_style": "success",
            "max": 509,
            "_view_module": "@jupyter-widgets/controls",
            "_model_module_version": "1.5.0",
            "value": 509,
            "_view_count": null,
            "_view_module_version": "1.5.0",
            "orientation": "horizontal",
            "min": 0,
            "description_tooltip": null,
            "_model_module": "@jupyter-widgets/controls",
            "layout": "IPY_MODEL_0a271ce5a045415da2edd3692858831e"
          }
        },
        "b0d0eb556c6b4eb9a6776d175be91fb6": {
          "model_module": "@jupyter-widgets/controls",
          "model_name": "HTMLModel",
          "state": {
            "_view_name": "HTMLView",
            "style": "IPY_MODEL_d0b2de0540f84df29b1fbe04d8d1b2f5",
            "_dom_classes": [],
            "description": "",
            "_model_name": "HTMLModel",
            "placeholder": "​",
            "_view_module": "@jupyter-widgets/controls",
            "_model_module_version": "1.5.0",
            "value": " 509/509 [00:14&lt;00:00, 35.5B/s]",
            "_view_count": null,
            "_view_module_version": "1.5.0",
            "description_tooltip": null,
            "_model_module": "@jupyter-widgets/controls",
            "layout": "IPY_MODEL_dd995402069b4e66a766117c3bcd4025"
          }
        },
        "93fa8ea602a44d6eb49dce55631b8bf4": {
          "model_module": "@jupyter-widgets/controls",
          "model_name": "ProgressStyleModel",
          "state": {
            "_view_name": "StyleView",
            "_model_name": "ProgressStyleModel",
            "description_width": "initial",
            "_view_module": "@jupyter-widgets/base",
            "_model_module_version": "1.5.0",
            "_view_count": null,
            "_view_module_version": "1.2.0",
            "bar_color": null,
            "_model_module": "@jupyter-widgets/controls"
          }
        },
        "0a271ce5a045415da2edd3692858831e": {
          "model_module": "@jupyter-widgets/base",
          "model_name": "LayoutModel",
          "state": {
            "_view_name": "LayoutView",
            "grid_template_rows": null,
            "right": null,
            "justify_content": null,
            "_view_module": "@jupyter-widgets/base",
            "overflow": null,
            "_model_module_version": "1.2.0",
            "_view_count": null,
            "flex_flow": null,
            "width": null,
            "min_width": null,
            "border": null,
            "align_items": null,
            "bottom": null,
            "_model_module": "@jupyter-widgets/base",
            "top": null,
            "grid_column": null,
            "overflow_y": null,
            "overflow_x": null,
            "grid_auto_flow": null,
            "grid_area": null,
            "grid_template_columns": null,
            "flex": null,
            "_model_name": "LayoutModel",
            "justify_items": null,
            "grid_row": null,
            "max_height": null,
            "align_content": null,
            "visibility": null,
            "align_self": null,
            "height": null,
            "min_height": null,
            "padding": null,
            "grid_auto_rows": null,
            "grid_gap": null,
            "max_width": null,
            "order": null,
            "_view_module_version": "1.2.0",
            "grid_template_areas": null,
            "object_position": null,
            "object_fit": null,
            "grid_auto_columns": null,
            "margin": null,
            "display": null,
            "left": null
          }
        },
        "d0b2de0540f84df29b1fbe04d8d1b2f5": {
          "model_module": "@jupyter-widgets/controls",
          "model_name": "DescriptionStyleModel",
          "state": {
            "_view_name": "StyleView",
            "_model_name": "DescriptionStyleModel",
            "description_width": "",
            "_view_module": "@jupyter-widgets/base",
            "_model_module_version": "1.5.0",
            "_view_count": null,
            "_view_module_version": "1.2.0",
            "_model_module": "@jupyter-widgets/controls"
          }
        },
        "dd995402069b4e66a766117c3bcd4025": {
          "model_module": "@jupyter-widgets/base",
          "model_name": "LayoutModel",
          "state": {
            "_view_name": "LayoutView",
            "grid_template_rows": null,
            "right": null,
            "justify_content": null,
            "_view_module": "@jupyter-widgets/base",
            "overflow": null,
            "_model_module_version": "1.2.0",
            "_view_count": null,
            "flex_flow": null,
            "width": null,
            "min_width": null,
            "border": null,
            "align_items": null,
            "bottom": null,
            "_model_module": "@jupyter-widgets/base",
            "top": null,
            "grid_column": null,
            "overflow_y": null,
            "overflow_x": null,
            "grid_auto_flow": null,
            "grid_area": null,
            "grid_template_columns": null,
            "flex": null,
            "_model_name": "LayoutModel",
            "justify_items": null,
            "grid_row": null,
            "max_height": null,
            "align_content": null,
            "visibility": null,
            "align_self": null,
            "height": null,
            "min_height": null,
            "padding": null,
            "grid_auto_rows": null,
            "grid_gap": null,
            "max_width": null,
            "order": null,
            "_view_module_version": "1.2.0",
            "grid_template_areas": null,
            "object_position": null,
            "object_fit": null,
            "grid_auto_columns": null,
            "margin": null,
            "display": null,
            "left": null
          }
        },
        "bb3f129b098546928b1fe6cb679581d1": {
          "model_module": "@jupyter-widgets/controls",
          "model_name": "HBoxModel",
          "state": {
            "_view_name": "HBoxView",
            "_dom_classes": [],
            "_model_name": "HBoxModel",
            "_view_module": "@jupyter-widgets/controls",
            "_model_module_version": "1.5.0",
            "_view_count": null,
            "_view_module_version": "1.5.0",
            "box_style": "",
            "layout": "IPY_MODEL_dae2bbb512f041e5ba146b093763fcbd",
            "_model_module": "@jupyter-widgets/controls",
            "children": [
              "IPY_MODEL_a1c16bc908354bceaa3c2d45e23c750f",
              "IPY_MODEL_c7c437e066d5415d800c76db38034eb7"
            ]
          }
        },
        "dae2bbb512f041e5ba146b093763fcbd": {
          "model_module": "@jupyter-widgets/base",
          "model_name": "LayoutModel",
          "state": {
            "_view_name": "LayoutView",
            "grid_template_rows": null,
            "right": null,
            "justify_content": null,
            "_view_module": "@jupyter-widgets/base",
            "overflow": null,
            "_model_module_version": "1.2.0",
            "_view_count": null,
            "flex_flow": null,
            "width": null,
            "min_width": null,
            "border": null,
            "align_items": null,
            "bottom": null,
            "_model_module": "@jupyter-widgets/base",
            "top": null,
            "grid_column": null,
            "overflow_y": null,
            "overflow_x": null,
            "grid_auto_flow": null,
            "grid_area": null,
            "grid_template_columns": null,
            "flex": null,
            "_model_name": "LayoutModel",
            "justify_items": null,
            "grid_row": null,
            "max_height": null,
            "align_content": null,
            "visibility": null,
            "align_self": null,
            "height": null,
            "min_height": null,
            "padding": null,
            "grid_auto_rows": null,
            "grid_gap": null,
            "max_width": null,
            "order": null,
            "_view_module_version": "1.2.0",
            "grid_template_areas": null,
            "object_position": null,
            "object_fit": null,
            "grid_auto_columns": null,
            "margin": null,
            "display": null,
            "left": null
          }
        },
        "a1c16bc908354bceaa3c2d45e23c750f": {
          "model_module": "@jupyter-widgets/controls",
          "model_name": "FloatProgressModel",
          "state": {
            "_view_name": "ProgressView",
            "style": "IPY_MODEL_7ceb0f6ff9404ca0a8cccef93d58d858",
            "_dom_classes": [],
            "description": "Downloading: 100%",
            "_model_name": "FloatProgressModel",
            "bar_style": "success",
            "max": 263157278,
            "_view_module": "@jupyter-widgets/controls",
            "_model_module_version": "1.5.0",
            "value": 263157278,
            "_view_count": null,
            "_view_module_version": "1.5.0",
            "orientation": "horizontal",
            "min": 0,
            "description_tooltip": null,
            "_model_module": "@jupyter-widgets/controls",
            "layout": "IPY_MODEL_a8d68ddd6e284afeaa5c4c1061e5a7fc"
          }
        },
        "c7c437e066d5415d800c76db38034eb7": {
          "model_module": "@jupyter-widgets/controls",
          "model_name": "HTMLModel",
          "state": {
            "_view_name": "HTMLView",
            "style": "IPY_MODEL_9c82cd129b16494f8651c7b5e6d30f8d",
            "_dom_classes": [],
            "description": "",
            "_model_name": "HTMLModel",
            "placeholder": "​",
            "_view_module": "@jupyter-widgets/controls",
            "_model_module_version": "1.5.0",
            "value": " 263M/263M [00:13&lt;00:00, 19.5MB/s]",
            "_view_count": null,
            "_view_module_version": "1.5.0",
            "description_tooltip": null,
            "_model_module": "@jupyter-widgets/controls",
            "layout": "IPY_MODEL_ab23731c2ee84dfd93b964371f54971b"
          }
        },
        "7ceb0f6ff9404ca0a8cccef93d58d858": {
          "model_module": "@jupyter-widgets/controls",
          "model_name": "ProgressStyleModel",
          "state": {
            "_view_name": "StyleView",
            "_model_name": "ProgressStyleModel",
            "description_width": "initial",
            "_view_module": "@jupyter-widgets/base",
            "_model_module_version": "1.5.0",
            "_view_count": null,
            "_view_module_version": "1.2.0",
            "bar_color": null,
            "_model_module": "@jupyter-widgets/controls"
          }
        },
        "a8d68ddd6e284afeaa5c4c1061e5a7fc": {
          "model_module": "@jupyter-widgets/base",
          "model_name": "LayoutModel",
          "state": {
            "_view_name": "LayoutView",
            "grid_template_rows": null,
            "right": null,
            "justify_content": null,
            "_view_module": "@jupyter-widgets/base",
            "overflow": null,
            "_model_module_version": "1.2.0",
            "_view_count": null,
            "flex_flow": null,
            "width": null,
            "min_width": null,
            "border": null,
            "align_items": null,
            "bottom": null,
            "_model_module": "@jupyter-widgets/base",
            "top": null,
            "grid_column": null,
            "overflow_y": null,
            "overflow_x": null,
            "grid_auto_flow": null,
            "grid_area": null,
            "grid_template_columns": null,
            "flex": null,
            "_model_name": "LayoutModel",
            "justify_items": null,
            "grid_row": null,
            "max_height": null,
            "align_content": null,
            "visibility": null,
            "align_self": null,
            "height": null,
            "min_height": null,
            "padding": null,
            "grid_auto_rows": null,
            "grid_gap": null,
            "max_width": null,
            "order": null,
            "_view_module_version": "1.2.0",
            "grid_template_areas": null,
            "object_position": null,
            "object_fit": null,
            "grid_auto_columns": null,
            "margin": null,
            "display": null,
            "left": null
          }
        },
        "9c82cd129b16494f8651c7b5e6d30f8d": {
          "model_module": "@jupyter-widgets/controls",
          "model_name": "DescriptionStyleModel",
          "state": {
            "_view_name": "StyleView",
            "_model_name": "DescriptionStyleModel",
            "description_width": "",
            "_view_module": "@jupyter-widgets/base",
            "_model_module_version": "1.5.0",
            "_view_count": null,
            "_view_module_version": "1.2.0",
            "_model_module": "@jupyter-widgets/controls"
          }
        },
        "ab23731c2ee84dfd93b964371f54971b": {
          "model_module": "@jupyter-widgets/base",
          "model_name": "LayoutModel",
          "state": {
            "_view_name": "LayoutView",
            "grid_template_rows": null,
            "right": null,
            "justify_content": null,
            "_view_module": "@jupyter-widgets/base",
            "overflow": null,
            "_model_module_version": "1.2.0",
            "_view_count": null,
            "flex_flow": null,
            "width": null,
            "min_width": null,
            "border": null,
            "align_items": null,
            "bottom": null,
            "_model_module": "@jupyter-widgets/base",
            "top": null,
            "grid_column": null,
            "overflow_y": null,
            "overflow_x": null,
            "grid_auto_flow": null,
            "grid_area": null,
            "grid_template_columns": null,
            "flex": null,
            "_model_name": "LayoutModel",
            "justify_items": null,
            "grid_row": null,
            "max_height": null,
            "align_content": null,
            "visibility": null,
            "align_self": null,
            "height": null,
            "min_height": null,
            "padding": null,
            "grid_auto_rows": null,
            "grid_gap": null,
            "max_width": null,
            "order": null,
            "_view_module_version": "1.2.0",
            "grid_template_areas": null,
            "object_position": null,
            "object_fit": null,
            "grid_auto_columns": null,
            "margin": null,
            "display": null,
            "left": null
          }
        },
        "cd8fd8145412450abf702c330b362873": {
          "model_module": "@jupyter-widgets/controls",
          "model_name": "HBoxModel",
          "state": {
            "_view_name": "HBoxView",
            "_dom_classes": [],
            "_model_name": "HBoxModel",
            "_view_module": "@jupyter-widgets/controls",
            "_model_module_version": "1.5.0",
            "_view_count": null,
            "_view_module_version": "1.5.0",
            "box_style": "",
            "layout": "IPY_MODEL_b9496c336e76415398b984268e2b9471",
            "_model_module": "@jupyter-widgets/controls",
            "children": [
              "IPY_MODEL_71657550ef9d41e1bc7a24f38cf76fa3",
              "IPY_MODEL_65592fc6b0944caaa5a35fe7ce3d6357"
            ]
          }
        },
        "b9496c336e76415398b984268e2b9471": {
          "model_module": "@jupyter-widgets/base",
          "model_name": "LayoutModel",
          "state": {
            "_view_name": "LayoutView",
            "grid_template_rows": null,
            "right": null,
            "justify_content": null,
            "_view_module": "@jupyter-widgets/base",
            "overflow": null,
            "_model_module_version": "1.2.0",
            "_view_count": null,
            "flex_flow": null,
            "width": null,
            "min_width": null,
            "border": null,
            "align_items": null,
            "bottom": null,
            "_model_module": "@jupyter-widgets/base",
            "top": null,
            "grid_column": null,
            "overflow_y": null,
            "overflow_x": null,
            "grid_auto_flow": null,
            "grid_area": null,
            "grid_template_columns": null,
            "flex": null,
            "_model_name": "LayoutModel",
            "justify_items": null,
            "grid_row": null,
            "max_height": null,
            "align_content": null,
            "visibility": null,
            "align_self": null,
            "height": null,
            "min_height": null,
            "padding": null,
            "grid_auto_rows": null,
            "grid_gap": null,
            "max_width": null,
            "order": null,
            "_view_module_version": "1.2.0",
            "grid_template_areas": null,
            "object_position": null,
            "object_fit": null,
            "grid_auto_columns": null,
            "margin": null,
            "display": null,
            "left": null
          }
        },
        "71657550ef9d41e1bc7a24f38cf76fa3": {
          "model_module": "@jupyter-widgets/controls",
          "model_name": "FloatProgressModel",
          "state": {
            "_view_name": "ProgressView",
            "style": "IPY_MODEL_75416a2b874942d08f7ea40b85d340f2",
            "_dom_classes": [],
            "description": "Downloading: 100%",
            "_model_name": "FloatProgressModel",
            "bar_style": "success",
            "max": 213450,
            "_view_module": "@jupyter-widgets/controls",
            "_model_module_version": "1.5.0",
            "value": 213450,
            "_view_count": null,
            "_view_module_version": "1.5.0",
            "orientation": "horizontal",
            "min": 0,
            "description_tooltip": null,
            "_model_module": "@jupyter-widgets/controls",
            "layout": "IPY_MODEL_313e42946e384962a6e8be4b7d135401"
          }
        },
        "65592fc6b0944caaa5a35fe7ce3d6357": {
          "model_module": "@jupyter-widgets/controls",
          "model_name": "HTMLModel",
          "state": {
            "_view_name": "HTMLView",
            "style": "IPY_MODEL_7a41f3d72f994c7a8d0b2c1ce2db1b72",
            "_dom_classes": [],
            "description": "",
            "_model_name": "HTMLModel",
            "placeholder": "​",
            "_view_module": "@jupyter-widgets/controls",
            "_model_module_version": "1.5.0",
            "value": " 213k/213k [00:01&lt;00:00, 123kB/s]",
            "_view_count": null,
            "_view_module_version": "1.5.0",
            "description_tooltip": null,
            "_model_module": "@jupyter-widgets/controls",
            "layout": "IPY_MODEL_a140879fce2e477a895b2a859fd35540"
          }
        },
        "75416a2b874942d08f7ea40b85d340f2": {
          "model_module": "@jupyter-widgets/controls",
          "model_name": "ProgressStyleModel",
          "state": {
            "_view_name": "StyleView",
            "_model_name": "ProgressStyleModel",
            "description_width": "initial",
            "_view_module": "@jupyter-widgets/base",
            "_model_module_version": "1.5.0",
            "_view_count": null,
            "_view_module_version": "1.2.0",
            "bar_color": null,
            "_model_module": "@jupyter-widgets/controls"
          }
        },
        "313e42946e384962a6e8be4b7d135401": {
          "model_module": "@jupyter-widgets/base",
          "model_name": "LayoutModel",
          "state": {
            "_view_name": "LayoutView",
            "grid_template_rows": null,
            "right": null,
            "justify_content": null,
            "_view_module": "@jupyter-widgets/base",
            "overflow": null,
            "_model_module_version": "1.2.0",
            "_view_count": null,
            "flex_flow": null,
            "width": null,
            "min_width": null,
            "border": null,
            "align_items": null,
            "bottom": null,
            "_model_module": "@jupyter-widgets/base",
            "top": null,
            "grid_column": null,
            "overflow_y": null,
            "overflow_x": null,
            "grid_auto_flow": null,
            "grid_area": null,
            "grid_template_columns": null,
            "flex": null,
            "_model_name": "LayoutModel",
            "justify_items": null,
            "grid_row": null,
            "max_height": null,
            "align_content": null,
            "visibility": null,
            "align_self": null,
            "height": null,
            "min_height": null,
            "padding": null,
            "grid_auto_rows": null,
            "grid_gap": null,
            "max_width": null,
            "order": null,
            "_view_module_version": "1.2.0",
            "grid_template_areas": null,
            "object_position": null,
            "object_fit": null,
            "grid_auto_columns": null,
            "margin": null,
            "display": null,
            "left": null
          }
        },
        "7a41f3d72f994c7a8d0b2c1ce2db1b72": {
          "model_module": "@jupyter-widgets/controls",
          "model_name": "DescriptionStyleModel",
          "state": {
            "_view_name": "StyleView",
            "_model_name": "DescriptionStyleModel",
            "description_width": "",
            "_view_module": "@jupyter-widgets/base",
            "_model_module_version": "1.5.0",
            "_view_count": null,
            "_view_module_version": "1.2.0",
            "_model_module": "@jupyter-widgets/controls"
          }
        },
        "a140879fce2e477a895b2a859fd35540": {
          "model_module": "@jupyter-widgets/base",
          "model_name": "LayoutModel",
          "state": {
            "_view_name": "LayoutView",
            "grid_template_rows": null,
            "right": null,
            "justify_content": null,
            "_view_module": "@jupyter-widgets/base",
            "overflow": null,
            "_model_module_version": "1.2.0",
            "_view_count": null,
            "flex_flow": null,
            "width": null,
            "min_width": null,
            "border": null,
            "align_items": null,
            "bottom": null,
            "_model_module": "@jupyter-widgets/base",
            "top": null,
            "grid_column": null,
            "overflow_y": null,
            "overflow_x": null,
            "grid_auto_flow": null,
            "grid_area": null,
            "grid_template_columns": null,
            "flex": null,
            "_model_name": "LayoutModel",
            "justify_items": null,
            "grid_row": null,
            "max_height": null,
            "align_content": null,
            "visibility": null,
            "align_self": null,
            "height": null,
            "min_height": null,
            "padding": null,
            "grid_auto_rows": null,
            "grid_gap": null,
            "max_width": null,
            "order": null,
            "_view_module_version": "1.2.0",
            "grid_template_areas": null,
            "object_position": null,
            "object_fit": null,
            "grid_auto_columns": null,
            "margin": null,
            "display": null,
            "left": null
          }
        },
        "92f5eecbbaf14a588b227ab475c7c0c5": {
          "model_module": "@jupyter-widgets/controls",
          "model_name": "HBoxModel",
          "state": {
            "_view_name": "HBoxView",
            "_dom_classes": [],
            "_model_name": "HBoxModel",
            "_view_module": "@jupyter-widgets/controls",
            "_model_module_version": "1.5.0",
            "_view_count": null,
            "_view_module_version": "1.5.0",
            "box_style": "",
            "layout": "IPY_MODEL_ba46c6c794914c6c91104c2b66452a04",
            "_model_module": "@jupyter-widgets/controls",
            "children": [
              "IPY_MODEL_39b0d236cea041e1b2107775710bfca8",
              "IPY_MODEL_57a264730e7342948571ec207ab629f0"
            ]
          }
        },
        "ba46c6c794914c6c91104c2b66452a04": {
          "model_module": "@jupyter-widgets/base",
          "model_name": "LayoutModel",
          "state": {
            "_view_name": "LayoutView",
            "grid_template_rows": null,
            "right": null,
            "justify_content": null,
            "_view_module": "@jupyter-widgets/base",
            "overflow": null,
            "_model_module_version": "1.2.0",
            "_view_count": null,
            "flex_flow": null,
            "width": null,
            "min_width": null,
            "border": null,
            "align_items": null,
            "bottom": null,
            "_model_module": "@jupyter-widgets/base",
            "top": null,
            "grid_column": null,
            "overflow_y": null,
            "overflow_x": null,
            "grid_auto_flow": null,
            "grid_area": null,
            "grid_template_columns": null,
            "flex": null,
            "_model_name": "LayoutModel",
            "justify_items": null,
            "grid_row": null,
            "max_height": null,
            "align_content": null,
            "visibility": null,
            "align_self": null,
            "height": null,
            "min_height": null,
            "padding": null,
            "grid_auto_rows": null,
            "grid_gap": null,
            "max_width": null,
            "order": null,
            "_view_module_version": "1.2.0",
            "grid_template_areas": null,
            "object_position": null,
            "object_fit": null,
            "grid_auto_columns": null,
            "margin": null,
            "display": null,
            "left": null
          }
        },
        "39b0d236cea041e1b2107775710bfca8": {
          "model_module": "@jupyter-widgets/controls",
          "model_name": "FloatProgressModel",
          "state": {
            "_view_name": "ProgressView",
            "style": "IPY_MODEL_0567d4dcadf74f98ae23a79b85069922",
            "_dom_classes": [],
            "description": "Downloading: 100%",
            "_model_name": "FloatProgressModel",
            "bar_style": "success",
            "max": 112,
            "_view_module": "@jupyter-widgets/controls",
            "_model_module_version": "1.5.0",
            "value": 112,
            "_view_count": null,
            "_view_module_version": "1.5.0",
            "orientation": "horizontal",
            "min": 0,
            "description_tooltip": null,
            "_model_module": "@jupyter-widgets/controls",
            "layout": "IPY_MODEL_745af99216674fbda2c53d1ae9d0e3db"
          }
        },
        "57a264730e7342948571ec207ab629f0": {
          "model_module": "@jupyter-widgets/controls",
          "model_name": "HTMLModel",
          "state": {
            "_view_name": "HTMLView",
            "style": "IPY_MODEL_097172c0f9ce4f488f03fe264fda22c0",
            "_dom_classes": [],
            "description": "",
            "_model_name": "HTMLModel",
            "placeholder": "​",
            "_view_module": "@jupyter-widgets/controls",
            "_model_module_version": "1.5.0",
            "value": " 112/112 [00:00&lt;00:00, 309B/s]",
            "_view_count": null,
            "_view_module_version": "1.5.0",
            "description_tooltip": null,
            "_model_module": "@jupyter-widgets/controls",
            "layout": "IPY_MODEL_850aed8703454a0a96daf03117808ba9"
          }
        },
        "0567d4dcadf74f98ae23a79b85069922": {
          "model_module": "@jupyter-widgets/controls",
          "model_name": "ProgressStyleModel",
          "state": {
            "_view_name": "StyleView",
            "_model_name": "ProgressStyleModel",
            "description_width": "initial",
            "_view_module": "@jupyter-widgets/base",
            "_model_module_version": "1.5.0",
            "_view_count": null,
            "_view_module_version": "1.2.0",
            "bar_color": null,
            "_model_module": "@jupyter-widgets/controls"
          }
        },
        "745af99216674fbda2c53d1ae9d0e3db": {
          "model_module": "@jupyter-widgets/base",
          "model_name": "LayoutModel",
          "state": {
            "_view_name": "LayoutView",
            "grid_template_rows": null,
            "right": null,
            "justify_content": null,
            "_view_module": "@jupyter-widgets/base",
            "overflow": null,
            "_model_module_version": "1.2.0",
            "_view_count": null,
            "flex_flow": null,
            "width": null,
            "min_width": null,
            "border": null,
            "align_items": null,
            "bottom": null,
            "_model_module": "@jupyter-widgets/base",
            "top": null,
            "grid_column": null,
            "overflow_y": null,
            "overflow_x": null,
            "grid_auto_flow": null,
            "grid_area": null,
            "grid_template_columns": null,
            "flex": null,
            "_model_name": "LayoutModel",
            "justify_items": null,
            "grid_row": null,
            "max_height": null,
            "align_content": null,
            "visibility": null,
            "align_self": null,
            "height": null,
            "min_height": null,
            "padding": null,
            "grid_auto_rows": null,
            "grid_gap": null,
            "max_width": null,
            "order": null,
            "_view_module_version": "1.2.0",
            "grid_template_areas": null,
            "object_position": null,
            "object_fit": null,
            "grid_auto_columns": null,
            "margin": null,
            "display": null,
            "left": null
          }
        },
        "097172c0f9ce4f488f03fe264fda22c0": {
          "model_module": "@jupyter-widgets/controls",
          "model_name": "DescriptionStyleModel",
          "state": {
            "_view_name": "StyleView",
            "_model_name": "DescriptionStyleModel",
            "description_width": "",
            "_view_module": "@jupyter-widgets/base",
            "_model_module_version": "1.5.0",
            "_view_count": null,
            "_view_module_version": "1.2.0",
            "_model_module": "@jupyter-widgets/controls"
          }
        },
        "850aed8703454a0a96daf03117808ba9": {
          "model_module": "@jupyter-widgets/base",
          "model_name": "LayoutModel",
          "state": {
            "_view_name": "LayoutView",
            "grid_template_rows": null,
            "right": null,
            "justify_content": null,
            "_view_module": "@jupyter-widgets/base",
            "overflow": null,
            "_model_module_version": "1.2.0",
            "_view_count": null,
            "flex_flow": null,
            "width": null,
            "min_width": null,
            "border": null,
            "align_items": null,
            "bottom": null,
            "_model_module": "@jupyter-widgets/base",
            "top": null,
            "grid_column": null,
            "overflow_y": null,
            "overflow_x": null,
            "grid_auto_flow": null,
            "grid_area": null,
            "grid_template_columns": null,
            "flex": null,
            "_model_name": "LayoutModel",
            "justify_items": null,
            "grid_row": null,
            "max_height": null,
            "align_content": null,
            "visibility": null,
            "align_self": null,
            "height": null,
            "min_height": null,
            "padding": null,
            "grid_auto_rows": null,
            "grid_gap": null,
            "max_width": null,
            "order": null,
            "_view_module_version": "1.2.0",
            "grid_template_areas": null,
            "object_position": null,
            "object_fit": null,
            "grid_auto_columns": null,
            "margin": null,
            "display": null,
            "left": null
          }
        },
        "285f348a4d77437da6bed807679692d6": {
          "model_module": "@jupyter-widgets/controls",
          "model_name": "HBoxModel",
          "state": {
            "_view_name": "HBoxView",
            "_dom_classes": [],
            "_model_name": "HBoxModel",
            "_view_module": "@jupyter-widgets/controls",
            "_model_module_version": "1.5.0",
            "_view_count": null,
            "_view_module_version": "1.5.0",
            "box_style": "",
            "layout": "IPY_MODEL_adbc450899084f6ca1000f028c4dd500",
            "_model_module": "@jupyter-widgets/controls",
            "children": [
              "IPY_MODEL_af97bf5698dd4dd4b6c6bedfc9832d43",
              "IPY_MODEL_3f9c7b06905147b6817fece28368f988"
            ]
          }
        },
        "adbc450899084f6ca1000f028c4dd500": {
          "model_module": "@jupyter-widgets/base",
          "model_name": "LayoutModel",
          "state": {
            "_view_name": "LayoutView",
            "grid_template_rows": null,
            "right": null,
            "justify_content": null,
            "_view_module": "@jupyter-widgets/base",
            "overflow": null,
            "_model_module_version": "1.2.0",
            "_view_count": null,
            "flex_flow": null,
            "width": null,
            "min_width": null,
            "border": null,
            "align_items": null,
            "bottom": null,
            "_model_module": "@jupyter-widgets/base",
            "top": null,
            "grid_column": null,
            "overflow_y": null,
            "overflow_x": null,
            "grid_auto_flow": null,
            "grid_area": null,
            "grid_template_columns": null,
            "flex": null,
            "_model_name": "LayoutModel",
            "justify_items": null,
            "grid_row": null,
            "max_height": null,
            "align_content": null,
            "visibility": null,
            "align_self": null,
            "height": null,
            "min_height": null,
            "padding": null,
            "grid_auto_rows": null,
            "grid_gap": null,
            "max_width": null,
            "order": null,
            "_view_module_version": "1.2.0",
            "grid_template_areas": null,
            "object_position": null,
            "object_fit": null,
            "grid_auto_columns": null,
            "margin": null,
            "display": null,
            "left": null
          }
        },
        "af97bf5698dd4dd4b6c6bedfc9832d43": {
          "model_module": "@jupyter-widgets/controls",
          "model_name": "FloatProgressModel",
          "state": {
            "_view_name": "ProgressView",
            "style": "IPY_MODEL_5cfed9b241c944c7b6a820c1814bf3bc",
            "_dom_classes": [],
            "description": "Downloading: 100%",
            "_model_name": "FloatProgressModel",
            "bar_style": "success",
            "max": 49,
            "_view_module": "@jupyter-widgets/controls",
            "_model_module_version": "1.5.0",
            "value": 49,
            "_view_count": null,
            "_view_module_version": "1.5.0",
            "orientation": "horizontal",
            "min": 0,
            "description_tooltip": null,
            "_model_module": "@jupyter-widgets/controls",
            "layout": "IPY_MODEL_d710d80b23d549ef81af67431af24019"
          }
        },
        "3f9c7b06905147b6817fece28368f988": {
          "model_module": "@jupyter-widgets/controls",
          "model_name": "HTMLModel",
          "state": {
            "_view_name": "HTMLView",
            "style": "IPY_MODEL_f17ce055a9cf4ac898b051ee690ff004",
            "_dom_classes": [],
            "description": "",
            "_model_name": "HTMLModel",
            "placeholder": "​",
            "_view_module": "@jupyter-widgets/controls",
            "_model_module_version": "1.5.0",
            "value": " 49.0/49.0 [00:00&lt;00:00, 551B/s]",
            "_view_count": null,
            "_view_module_version": "1.5.0",
            "description_tooltip": null,
            "_model_module": "@jupyter-widgets/controls",
            "layout": "IPY_MODEL_aa74862cb1a945818b80d55133304d32"
          }
        },
        "5cfed9b241c944c7b6a820c1814bf3bc": {
          "model_module": "@jupyter-widgets/controls",
          "model_name": "ProgressStyleModel",
          "state": {
            "_view_name": "StyleView",
            "_model_name": "ProgressStyleModel",
            "description_width": "initial",
            "_view_module": "@jupyter-widgets/base",
            "_model_module_version": "1.5.0",
            "_view_count": null,
            "_view_module_version": "1.2.0",
            "bar_color": null,
            "_model_module": "@jupyter-widgets/controls"
          }
        },
        "d710d80b23d549ef81af67431af24019": {
          "model_module": "@jupyter-widgets/base",
          "model_name": "LayoutModel",
          "state": {
            "_view_name": "LayoutView",
            "grid_template_rows": null,
            "right": null,
            "justify_content": null,
            "_view_module": "@jupyter-widgets/base",
            "overflow": null,
            "_model_module_version": "1.2.0",
            "_view_count": null,
            "flex_flow": null,
            "width": null,
            "min_width": null,
            "border": null,
            "align_items": null,
            "bottom": null,
            "_model_module": "@jupyter-widgets/base",
            "top": null,
            "grid_column": null,
            "overflow_y": null,
            "overflow_x": null,
            "grid_auto_flow": null,
            "grid_area": null,
            "grid_template_columns": null,
            "flex": null,
            "_model_name": "LayoutModel",
            "justify_items": null,
            "grid_row": null,
            "max_height": null,
            "align_content": null,
            "visibility": null,
            "align_self": null,
            "height": null,
            "min_height": null,
            "padding": null,
            "grid_auto_rows": null,
            "grid_gap": null,
            "max_width": null,
            "order": null,
            "_view_module_version": "1.2.0",
            "grid_template_areas": null,
            "object_position": null,
            "object_fit": null,
            "grid_auto_columns": null,
            "margin": null,
            "display": null,
            "left": null
          }
        },
        "f17ce055a9cf4ac898b051ee690ff004": {
          "model_module": "@jupyter-widgets/controls",
          "model_name": "DescriptionStyleModel",
          "state": {
            "_view_name": "StyleView",
            "_model_name": "DescriptionStyleModel",
            "description_width": "",
            "_view_module": "@jupyter-widgets/base",
            "_model_module_version": "1.5.0",
            "_view_count": null,
            "_view_module_version": "1.2.0",
            "_model_module": "@jupyter-widgets/controls"
          }
        },
        "aa74862cb1a945818b80d55133304d32": {
          "model_module": "@jupyter-widgets/base",
          "model_name": "LayoutModel",
          "state": {
            "_view_name": "LayoutView",
            "grid_template_rows": null,
            "right": null,
            "justify_content": null,
            "_view_module": "@jupyter-widgets/base",
            "overflow": null,
            "_model_module_version": "1.2.0",
            "_view_count": null,
            "flex_flow": null,
            "width": null,
            "min_width": null,
            "border": null,
            "align_items": null,
            "bottom": null,
            "_model_module": "@jupyter-widgets/base",
            "top": null,
            "grid_column": null,
            "overflow_y": null,
            "overflow_x": null,
            "grid_auto_flow": null,
            "grid_area": null,
            "grid_template_columns": null,
            "flex": null,
            "_model_name": "LayoutModel",
            "justify_items": null,
            "grid_row": null,
            "max_height": null,
            "align_content": null,
            "visibility": null,
            "align_self": null,
            "height": null,
            "min_height": null,
            "padding": null,
            "grid_auto_rows": null,
            "grid_gap": null,
            "max_width": null,
            "order": null,
            "_view_module_version": "1.2.0",
            "grid_template_areas": null,
            "object_position": null,
            "object_fit": null,
            "grid_auto_columns": null,
            "margin": null,
            "display": null,
            "left": null
          }
        },
        "fa996aa2a374482b9fd35bab0dcf4d89": {
          "model_module": "@jupyter-widgets/controls",
          "model_name": "HBoxModel",
          "state": {
            "_view_name": "HBoxView",
            "_dom_classes": [],
            "_model_name": "HBoxModel",
            "_view_module": "@jupyter-widgets/controls",
            "_model_module_version": "1.5.0",
            "_view_count": null,
            "_view_module_version": "1.5.0",
            "box_style": "",
            "layout": "IPY_MODEL_0caec19d9d044cde95499052532dd5d3",
            "_model_module": "@jupyter-widgets/controls",
            "children": [
              "IPY_MODEL_3a73268dc2df498aa7e7b20e2345d8c2",
              "IPY_MODEL_aa98bf63fb7046959f2db579dd66b76b"
            ]
          }
        },
        "0caec19d9d044cde95499052532dd5d3": {
          "model_module": "@jupyter-widgets/base",
          "model_name": "LayoutModel",
          "state": {
            "_view_name": "LayoutView",
            "grid_template_rows": null,
            "right": null,
            "justify_content": null,
            "_view_module": "@jupyter-widgets/base",
            "overflow": null,
            "_model_module_version": "1.2.0",
            "_view_count": null,
            "flex_flow": null,
            "width": null,
            "min_width": null,
            "border": null,
            "align_items": null,
            "bottom": null,
            "_model_module": "@jupyter-widgets/base",
            "top": null,
            "grid_column": null,
            "overflow_y": null,
            "overflow_x": null,
            "grid_auto_flow": null,
            "grid_area": null,
            "grid_template_columns": null,
            "flex": null,
            "_model_name": "LayoutModel",
            "justify_items": null,
            "grid_row": null,
            "max_height": null,
            "align_content": null,
            "visibility": null,
            "align_self": null,
            "height": null,
            "min_height": null,
            "padding": null,
            "grid_auto_rows": null,
            "grid_gap": null,
            "max_width": null,
            "order": null,
            "_view_module_version": "1.2.0",
            "grid_template_areas": null,
            "object_position": null,
            "object_fit": null,
            "grid_auto_columns": null,
            "margin": null,
            "display": null,
            "left": null
          }
        },
        "3a73268dc2df498aa7e7b20e2345d8c2": {
          "model_module": "@jupyter-widgets/controls",
          "model_name": "FloatProgressModel",
          "state": {
            "_view_name": "ProgressView",
            "style": "IPY_MODEL_affeb151bab64ec1a3018e2b5c75640e",
            "_dom_classes": [],
            "description": "Downloading: ",
            "_model_name": "FloatProgressModel",
            "bar_style": "success",
            "max": 7777,
            "_view_module": "@jupyter-widgets/controls",
            "_model_module_version": "1.5.0",
            "value": 7777,
            "_view_count": null,
            "_view_module_version": "1.5.0",
            "orientation": "horizontal",
            "min": 0,
            "description_tooltip": null,
            "_model_module": "@jupyter-widgets/controls",
            "layout": "IPY_MODEL_c1cdec313968458ab6455d2667c28253"
          }
        },
        "aa98bf63fb7046959f2db579dd66b76b": {
          "model_module": "@jupyter-widgets/controls",
          "model_name": "HTMLModel",
          "state": {
            "_view_name": "HTMLView",
            "style": "IPY_MODEL_6f759c41dd5a4dad899247743efbf424",
            "_dom_classes": [],
            "description": "",
            "_model_name": "HTMLModel",
            "placeholder": "​",
            "_view_module": "@jupyter-widgets/controls",
            "_model_module_version": "1.5.0",
            "value": " 28.8k/? [00:04&lt;00:00, 6.80kB/s]",
            "_view_count": null,
            "_view_module_version": "1.5.0",
            "description_tooltip": null,
            "_model_module": "@jupyter-widgets/controls",
            "layout": "IPY_MODEL_47344d75015d46548253311658e6724f"
          }
        },
        "affeb151bab64ec1a3018e2b5c75640e": {
          "model_module": "@jupyter-widgets/controls",
          "model_name": "ProgressStyleModel",
          "state": {
            "_view_name": "StyleView",
            "_model_name": "ProgressStyleModel",
            "description_width": "initial",
            "_view_module": "@jupyter-widgets/base",
            "_model_module_version": "1.5.0",
            "_view_count": null,
            "_view_module_version": "1.2.0",
            "bar_color": null,
            "_model_module": "@jupyter-widgets/controls"
          }
        },
        "c1cdec313968458ab6455d2667c28253": {
          "model_module": "@jupyter-widgets/base",
          "model_name": "LayoutModel",
          "state": {
            "_view_name": "LayoutView",
            "grid_template_rows": null,
            "right": null,
            "justify_content": null,
            "_view_module": "@jupyter-widgets/base",
            "overflow": null,
            "_model_module_version": "1.2.0",
            "_view_count": null,
            "flex_flow": null,
            "width": null,
            "min_width": null,
            "border": null,
            "align_items": null,
            "bottom": null,
            "_model_module": "@jupyter-widgets/base",
            "top": null,
            "grid_column": null,
            "overflow_y": null,
            "overflow_x": null,
            "grid_auto_flow": null,
            "grid_area": null,
            "grid_template_columns": null,
            "flex": null,
            "_model_name": "LayoutModel",
            "justify_items": null,
            "grid_row": null,
            "max_height": null,
            "align_content": null,
            "visibility": null,
            "align_self": null,
            "height": null,
            "min_height": null,
            "padding": null,
            "grid_auto_rows": null,
            "grid_gap": null,
            "max_width": null,
            "order": null,
            "_view_module_version": "1.2.0",
            "grid_template_areas": null,
            "object_position": null,
            "object_fit": null,
            "grid_auto_columns": null,
            "margin": null,
            "display": null,
            "left": null
          }
        },
        "6f759c41dd5a4dad899247743efbf424": {
          "model_module": "@jupyter-widgets/controls",
          "model_name": "DescriptionStyleModel",
          "state": {
            "_view_name": "StyleView",
            "_model_name": "DescriptionStyleModel",
            "description_width": "",
            "_view_module": "@jupyter-widgets/base",
            "_model_module_version": "1.5.0",
            "_view_count": null,
            "_view_module_version": "1.2.0",
            "_model_module": "@jupyter-widgets/controls"
          }
        },
        "47344d75015d46548253311658e6724f": {
          "model_module": "@jupyter-widgets/base",
          "model_name": "LayoutModel",
          "state": {
            "_view_name": "LayoutView",
            "grid_template_rows": null,
            "right": null,
            "justify_content": null,
            "_view_module": "@jupyter-widgets/base",
            "overflow": null,
            "_model_module_version": "1.2.0",
            "_view_count": null,
            "flex_flow": null,
            "width": null,
            "min_width": null,
            "border": null,
            "align_items": null,
            "bottom": null,
            "_model_module": "@jupyter-widgets/base",
            "top": null,
            "grid_column": null,
            "overflow_y": null,
            "overflow_x": null,
            "grid_auto_flow": null,
            "grid_area": null,
            "grid_template_columns": null,
            "flex": null,
            "_model_name": "LayoutModel",
            "justify_items": null,
            "grid_row": null,
            "max_height": null,
            "align_content": null,
            "visibility": null,
            "align_self": null,
            "height": null,
            "min_height": null,
            "padding": null,
            "grid_auto_rows": null,
            "grid_gap": null,
            "max_width": null,
            "order": null,
            "_view_module_version": "1.2.0",
            "grid_template_areas": null,
            "object_position": null,
            "object_fit": null,
            "grid_auto_columns": null,
            "margin": null,
            "display": null,
            "left": null
          }
        },
        "d9c062f32efc4b63b7f9386b42552ca6": {
          "model_module": "@jupyter-widgets/controls",
          "model_name": "HBoxModel",
          "state": {
            "_view_name": "HBoxView",
            "_dom_classes": [],
            "_model_name": "HBoxModel",
            "_view_module": "@jupyter-widgets/controls",
            "_model_module_version": "1.5.0",
            "_view_count": null,
            "_view_module_version": "1.5.0",
            "box_style": "",
            "layout": "IPY_MODEL_317e8053034548dfaca4b55e9fa82767",
            "_model_module": "@jupyter-widgets/controls",
            "children": [
              "IPY_MODEL_e937c0fc0163479486c5657ce153732f",
              "IPY_MODEL_cfdb2ed1036d4e70af4bec274b0b84b0"
            ]
          }
        },
        "317e8053034548dfaca4b55e9fa82767": {
          "model_module": "@jupyter-widgets/base",
          "model_name": "LayoutModel",
          "state": {
            "_view_name": "LayoutView",
            "grid_template_rows": null,
            "right": null,
            "justify_content": null,
            "_view_module": "@jupyter-widgets/base",
            "overflow": null,
            "_model_module_version": "1.2.0",
            "_view_count": null,
            "flex_flow": null,
            "width": null,
            "min_width": null,
            "border": null,
            "align_items": null,
            "bottom": null,
            "_model_module": "@jupyter-widgets/base",
            "top": null,
            "grid_column": null,
            "overflow_y": null,
            "overflow_x": null,
            "grid_auto_flow": null,
            "grid_area": null,
            "grid_template_columns": null,
            "flex": null,
            "_model_name": "LayoutModel",
            "justify_items": null,
            "grid_row": null,
            "max_height": null,
            "align_content": null,
            "visibility": null,
            "align_self": null,
            "height": null,
            "min_height": null,
            "padding": null,
            "grid_auto_rows": null,
            "grid_gap": null,
            "max_width": null,
            "order": null,
            "_view_module_version": "1.2.0",
            "grid_template_areas": null,
            "object_position": null,
            "object_fit": null,
            "grid_auto_columns": null,
            "margin": null,
            "display": null,
            "left": null
          }
        },
        "e937c0fc0163479486c5657ce153732f": {
          "model_module": "@jupyter-widgets/controls",
          "model_name": "FloatProgressModel",
          "state": {
            "_view_name": "ProgressView",
            "style": "IPY_MODEL_c2da53b6fb7c4f86b703daaa0f7cd27d",
            "_dom_classes": [],
            "description": "Downloading: ",
            "_model_name": "FloatProgressModel",
            "bar_style": "success",
            "max": 4473,
            "_view_module": "@jupyter-widgets/controls",
            "_model_module_version": "1.5.0",
            "value": 4473,
            "_view_count": null,
            "_view_module_version": "1.5.0",
            "orientation": "horizontal",
            "min": 0,
            "description_tooltip": null,
            "_model_module": "@jupyter-widgets/controls",
            "layout": "IPY_MODEL_544bbafaa3f740a2bc212e94e1968cb3"
          }
        },
        "cfdb2ed1036d4e70af4bec274b0b84b0": {
          "model_module": "@jupyter-widgets/controls",
          "model_name": "HTMLModel",
          "state": {
            "_view_name": "HTMLView",
            "style": "IPY_MODEL_9bc0fa01a7a44adea210ad56428ee65f",
            "_dom_classes": [],
            "description": "",
            "_model_name": "HTMLModel",
            "placeholder": "​",
            "_view_module": "@jupyter-widgets/controls",
            "_model_module_version": "1.5.0",
            "value": " 28.7k/? [00:00&lt;00:00, 255kB/s]",
            "_view_count": null,
            "_view_module_version": "1.5.0",
            "description_tooltip": null,
            "_model_module": "@jupyter-widgets/controls",
            "layout": "IPY_MODEL_321d0b1d84524b13bfb51cf848c95d3a"
          }
        },
        "c2da53b6fb7c4f86b703daaa0f7cd27d": {
          "model_module": "@jupyter-widgets/controls",
          "model_name": "ProgressStyleModel",
          "state": {
            "_view_name": "StyleView",
            "_model_name": "ProgressStyleModel",
            "description_width": "initial",
            "_view_module": "@jupyter-widgets/base",
            "_model_module_version": "1.5.0",
            "_view_count": null,
            "_view_module_version": "1.2.0",
            "bar_color": null,
            "_model_module": "@jupyter-widgets/controls"
          }
        },
        "544bbafaa3f740a2bc212e94e1968cb3": {
          "model_module": "@jupyter-widgets/base",
          "model_name": "LayoutModel",
          "state": {
            "_view_name": "LayoutView",
            "grid_template_rows": null,
            "right": null,
            "justify_content": null,
            "_view_module": "@jupyter-widgets/base",
            "overflow": null,
            "_model_module_version": "1.2.0",
            "_view_count": null,
            "flex_flow": null,
            "width": null,
            "min_width": null,
            "border": null,
            "align_items": null,
            "bottom": null,
            "_model_module": "@jupyter-widgets/base",
            "top": null,
            "grid_column": null,
            "overflow_y": null,
            "overflow_x": null,
            "grid_auto_flow": null,
            "grid_area": null,
            "grid_template_columns": null,
            "flex": null,
            "_model_name": "LayoutModel",
            "justify_items": null,
            "grid_row": null,
            "max_height": null,
            "align_content": null,
            "visibility": null,
            "align_self": null,
            "height": null,
            "min_height": null,
            "padding": null,
            "grid_auto_rows": null,
            "grid_gap": null,
            "max_width": null,
            "order": null,
            "_view_module_version": "1.2.0",
            "grid_template_areas": null,
            "object_position": null,
            "object_fit": null,
            "grid_auto_columns": null,
            "margin": null,
            "display": null,
            "left": null
          }
        },
        "9bc0fa01a7a44adea210ad56428ee65f": {
          "model_module": "@jupyter-widgets/controls",
          "model_name": "DescriptionStyleModel",
          "state": {
            "_view_name": "StyleView",
            "_model_name": "DescriptionStyleModel",
            "description_width": "",
            "_view_module": "@jupyter-widgets/base",
            "_model_module_version": "1.5.0",
            "_view_count": null,
            "_view_module_version": "1.2.0",
            "_model_module": "@jupyter-widgets/controls"
          }
        },
        "321d0b1d84524b13bfb51cf848c95d3a": {
          "model_module": "@jupyter-widgets/base",
          "model_name": "LayoutModel",
          "state": {
            "_view_name": "LayoutView",
            "grid_template_rows": null,
            "right": null,
            "justify_content": null,
            "_view_module": "@jupyter-widgets/base",
            "overflow": null,
            "_model_module_version": "1.2.0",
            "_view_count": null,
            "flex_flow": null,
            "width": null,
            "min_width": null,
            "border": null,
            "align_items": null,
            "bottom": null,
            "_model_module": "@jupyter-widgets/base",
            "top": null,
            "grid_column": null,
            "overflow_y": null,
            "overflow_x": null,
            "grid_auto_flow": null,
            "grid_area": null,
            "grid_template_columns": null,
            "flex": null,
            "_model_name": "LayoutModel",
            "justify_items": null,
            "grid_row": null,
            "max_height": null,
            "align_content": null,
            "visibility": null,
            "align_self": null,
            "height": null,
            "min_height": null,
            "padding": null,
            "grid_auto_rows": null,
            "grid_gap": null,
            "max_width": null,
            "order": null,
            "_view_module_version": "1.2.0",
            "grid_template_areas": null,
            "object_position": null,
            "object_fit": null,
            "grid_auto_columns": null,
            "margin": null,
            "display": null,
            "left": null
          }
        },
        "6438c0ff311b4e4182d889e581863a04": {
          "model_module": "@jupyter-widgets/controls",
          "model_name": "HBoxModel",
          "state": {
            "_view_name": "HBoxView",
            "_dom_classes": [],
            "_model_name": "HBoxModel",
            "_view_module": "@jupyter-widgets/controls",
            "_model_module_version": "1.5.0",
            "_view_count": null,
            "_view_module_version": "1.5.0",
            "box_style": "",
            "layout": "IPY_MODEL_3cb448163f524973800470195dbe1c1e",
            "_model_module": "@jupyter-widgets/controls",
            "children": [
              "IPY_MODEL_e0ec1227e4754135a5ebdeea4037289b",
              "IPY_MODEL_6318ba33a072493fbccdac3ba596d577"
            ]
          }
        },
        "3cb448163f524973800470195dbe1c1e": {
          "model_module": "@jupyter-widgets/base",
          "model_name": "LayoutModel",
          "state": {
            "_view_name": "LayoutView",
            "grid_template_rows": null,
            "right": null,
            "justify_content": null,
            "_view_module": "@jupyter-widgets/base",
            "overflow": null,
            "_model_module_version": "1.2.0",
            "_view_count": null,
            "flex_flow": null,
            "width": null,
            "min_width": null,
            "border": null,
            "align_items": null,
            "bottom": null,
            "_model_module": "@jupyter-widgets/base",
            "top": null,
            "grid_column": null,
            "overflow_y": null,
            "overflow_x": null,
            "grid_auto_flow": null,
            "grid_area": null,
            "grid_template_columns": null,
            "flex": null,
            "_model_name": "LayoutModel",
            "justify_items": null,
            "grid_row": null,
            "max_height": null,
            "align_content": null,
            "visibility": null,
            "align_self": null,
            "height": null,
            "min_height": null,
            "padding": null,
            "grid_auto_rows": null,
            "grid_gap": null,
            "max_width": null,
            "order": null,
            "_view_module_version": "1.2.0",
            "grid_template_areas": null,
            "object_position": null,
            "object_fit": null,
            "grid_auto_columns": null,
            "margin": null,
            "display": null,
            "left": null
          }
        },
        "e0ec1227e4754135a5ebdeea4037289b": {
          "model_module": "@jupyter-widgets/controls",
          "model_name": "FloatProgressModel",
          "state": {
            "_view_name": "ProgressView",
            "style": "IPY_MODEL_6549ee23aa044438b517516d402cb020",
            "_dom_classes": [],
            "description": "Downloading: 100%",
            "_model_name": "FloatProgressModel",
            "bar_style": "success",
            "max": 7439277,
            "_view_module": "@jupyter-widgets/controls",
            "_model_module_version": "1.5.0",
            "value": 7439277,
            "_view_count": null,
            "_view_module_version": "1.5.0",
            "orientation": "horizontal",
            "min": 0,
            "description_tooltip": null,
            "_model_module": "@jupyter-widgets/controls",
            "layout": "IPY_MODEL_1458e383028c4b638625450ad34140d8"
          }
        },
        "6318ba33a072493fbccdac3ba596d577": {
          "model_module": "@jupyter-widgets/controls",
          "model_name": "HTMLModel",
          "state": {
            "_view_name": "HTMLView",
            "style": "IPY_MODEL_977c8cd3d5bf402bb709c3aa6df79163",
            "_dom_classes": [],
            "description": "",
            "_model_name": "HTMLModel",
            "placeholder": "​",
            "_view_module": "@jupyter-widgets/controls",
            "_model_module_version": "1.5.0",
            "value": " 7.44M/7.44M [00:01&lt;00:00, 4.42MB/s]",
            "_view_count": null,
            "_view_module_version": "1.5.0",
            "description_tooltip": null,
            "_model_module": "@jupyter-widgets/controls",
            "layout": "IPY_MODEL_63ff045d5bf94d72a2c3028e6a613938"
          }
        },
        "6549ee23aa044438b517516d402cb020": {
          "model_module": "@jupyter-widgets/controls",
          "model_name": "ProgressStyleModel",
          "state": {
            "_view_name": "StyleView",
            "_model_name": "ProgressStyleModel",
            "description_width": "initial",
            "_view_module": "@jupyter-widgets/base",
            "_model_module_version": "1.5.0",
            "_view_count": null,
            "_view_module_version": "1.2.0",
            "bar_color": null,
            "_model_module": "@jupyter-widgets/controls"
          }
        },
        "1458e383028c4b638625450ad34140d8": {
          "model_module": "@jupyter-widgets/base",
          "model_name": "LayoutModel",
          "state": {
            "_view_name": "LayoutView",
            "grid_template_rows": null,
            "right": null,
            "justify_content": null,
            "_view_module": "@jupyter-widgets/base",
            "overflow": null,
            "_model_module_version": "1.2.0",
            "_view_count": null,
            "flex_flow": null,
            "width": null,
            "min_width": null,
            "border": null,
            "align_items": null,
            "bottom": null,
            "_model_module": "@jupyter-widgets/base",
            "top": null,
            "grid_column": null,
            "overflow_y": null,
            "overflow_x": null,
            "grid_auto_flow": null,
            "grid_area": null,
            "grid_template_columns": null,
            "flex": null,
            "_model_name": "LayoutModel",
            "justify_items": null,
            "grid_row": null,
            "max_height": null,
            "align_content": null,
            "visibility": null,
            "align_self": null,
            "height": null,
            "min_height": null,
            "padding": null,
            "grid_auto_rows": null,
            "grid_gap": null,
            "max_width": null,
            "order": null,
            "_view_module_version": "1.2.0",
            "grid_template_areas": null,
            "object_position": null,
            "object_fit": null,
            "grid_auto_columns": null,
            "margin": null,
            "display": null,
            "left": null
          }
        },
        "977c8cd3d5bf402bb709c3aa6df79163": {
          "model_module": "@jupyter-widgets/controls",
          "model_name": "DescriptionStyleModel",
          "state": {
            "_view_name": "StyleView",
            "_model_name": "DescriptionStyleModel",
            "description_width": "",
            "_view_module": "@jupyter-widgets/base",
            "_model_module_version": "1.5.0",
            "_view_count": null,
            "_view_module_version": "1.2.0",
            "_model_module": "@jupyter-widgets/controls"
          }
        },
        "63ff045d5bf94d72a2c3028e6a613938": {
          "model_module": "@jupyter-widgets/base",
          "model_name": "LayoutModel",
          "state": {
            "_view_name": "LayoutView",
            "grid_template_rows": null,
            "right": null,
            "justify_content": null,
            "_view_module": "@jupyter-widgets/base",
            "overflow": null,
            "_model_module_version": "1.2.0",
            "_view_count": null,
            "flex_flow": null,
            "width": null,
            "min_width": null,
            "border": null,
            "align_items": null,
            "bottom": null,
            "_model_module": "@jupyter-widgets/base",
            "top": null,
            "grid_column": null,
            "overflow_y": null,
            "overflow_x": null,
            "grid_auto_flow": null,
            "grid_area": null,
            "grid_template_columns": null,
            "flex": null,
            "_model_name": "LayoutModel",
            "justify_items": null,
            "grid_row": null,
            "max_height": null,
            "align_content": null,
            "visibility": null,
            "align_self": null,
            "height": null,
            "min_height": null,
            "padding": null,
            "grid_auto_rows": null,
            "grid_gap": null,
            "max_width": null,
            "order": null,
            "_view_module_version": "1.2.0",
            "grid_template_areas": null,
            "object_position": null,
            "object_fit": null,
            "grid_auto_columns": null,
            "margin": null,
            "display": null,
            "left": null
          }
        },
        "910b9a6131ed4568bea016caef1c4fa8": {
          "model_module": "@jupyter-widgets/controls",
          "model_name": "HBoxModel",
          "state": {
            "_view_name": "HBoxView",
            "_dom_classes": [],
            "_model_name": "HBoxModel",
            "_view_module": "@jupyter-widgets/controls",
            "_model_module_version": "1.5.0",
            "_view_count": null,
            "_view_module_version": "1.5.0",
            "box_style": "",
            "layout": "IPY_MODEL_243431d4b9e54930b159eb29b1d50f38",
            "_model_module": "@jupyter-widgets/controls",
            "children": [
              "IPY_MODEL_49416f1ea0ca4186b81cd888f950533b",
              "IPY_MODEL_6e288e1f43bd495b8f411b20a25697da"
            ]
          }
        },
        "243431d4b9e54930b159eb29b1d50f38": {
          "model_module": "@jupyter-widgets/base",
          "model_name": "LayoutModel",
          "state": {
            "_view_name": "LayoutView",
            "grid_template_rows": null,
            "right": null,
            "justify_content": null,
            "_view_module": "@jupyter-widgets/base",
            "overflow": null,
            "_model_module_version": "1.2.0",
            "_view_count": null,
            "flex_flow": null,
            "width": null,
            "min_width": null,
            "border": null,
            "align_items": null,
            "bottom": null,
            "_model_module": "@jupyter-widgets/base",
            "top": null,
            "grid_column": null,
            "overflow_y": null,
            "overflow_x": null,
            "grid_auto_flow": null,
            "grid_area": null,
            "grid_template_columns": null,
            "flex": null,
            "_model_name": "LayoutModel",
            "justify_items": null,
            "grid_row": null,
            "max_height": null,
            "align_content": null,
            "visibility": null,
            "align_self": null,
            "height": null,
            "min_height": null,
            "padding": null,
            "grid_auto_rows": null,
            "grid_gap": null,
            "max_width": null,
            "order": null,
            "_view_module_version": "1.2.0",
            "grid_template_areas": null,
            "object_position": null,
            "object_fit": null,
            "grid_auto_columns": null,
            "margin": null,
            "display": null,
            "left": null
          }
        },
        "49416f1ea0ca4186b81cd888f950533b": {
          "model_module": "@jupyter-widgets/controls",
          "model_name": "FloatProgressModel",
          "state": {
            "_view_name": "ProgressView",
            "style": "IPY_MODEL_1f23a63890fe4e0facdcb989cd6e4b1e",
            "_dom_classes": [],
            "description": "",
            "_model_name": "FloatProgressModel",
            "bar_style": "info",
            "max": 1,
            "_view_module": "@jupyter-widgets/controls",
            "_model_module_version": "1.5.0",
            "value": 1,
            "_view_count": null,
            "_view_module_version": "1.5.0",
            "orientation": "horizontal",
            "min": 0,
            "description_tooltip": null,
            "_model_module": "@jupyter-widgets/controls",
            "layout": "IPY_MODEL_3d2a1a0ceb6149aeb34110c7254c7ae2"
          }
        },
        "6e288e1f43bd495b8f411b20a25697da": {
          "model_module": "@jupyter-widgets/controls",
          "model_name": "HTMLModel",
          "state": {
            "_view_name": "HTMLView",
            "style": "IPY_MODEL_eb629b37f3f041578c1e40366be4d853",
            "_dom_classes": [],
            "description": "",
            "_model_name": "HTMLModel",
            "placeholder": "​",
            "_view_module": "@jupyter-widgets/controls",
            "_model_module_version": "1.5.0",
            "value": " 67349/0 [00:04&lt;00:00, 537.55 examples/s]",
            "_view_count": null,
            "_view_module_version": "1.5.0",
            "description_tooltip": null,
            "_model_module": "@jupyter-widgets/controls",
            "layout": "IPY_MODEL_ff90c2809a1e498c8f3c7be7351bb3b7"
          }
        },
        "1f23a63890fe4e0facdcb989cd6e4b1e": {
          "model_module": "@jupyter-widgets/controls",
          "model_name": "ProgressStyleModel",
          "state": {
            "_view_name": "StyleView",
            "_model_name": "ProgressStyleModel",
            "description_width": "initial",
            "_view_module": "@jupyter-widgets/base",
            "_model_module_version": "1.5.0",
            "_view_count": null,
            "_view_module_version": "1.2.0",
            "bar_color": null,
            "_model_module": "@jupyter-widgets/controls"
          }
        },
        "3d2a1a0ceb6149aeb34110c7254c7ae2": {
          "model_module": "@jupyter-widgets/base",
          "model_name": "LayoutModel",
          "state": {
            "_view_name": "LayoutView",
            "grid_template_rows": null,
            "right": null,
            "justify_content": null,
            "_view_module": "@jupyter-widgets/base",
            "overflow": null,
            "_model_module_version": "1.2.0",
            "_view_count": null,
            "flex_flow": null,
            "width": null,
            "min_width": null,
            "border": null,
            "align_items": null,
            "bottom": null,
            "_model_module": "@jupyter-widgets/base",
            "top": null,
            "grid_column": null,
            "overflow_y": null,
            "overflow_x": null,
            "grid_auto_flow": null,
            "grid_area": null,
            "grid_template_columns": null,
            "flex": null,
            "_model_name": "LayoutModel",
            "justify_items": null,
            "grid_row": null,
            "max_height": null,
            "align_content": null,
            "visibility": null,
            "align_self": null,
            "height": null,
            "min_height": null,
            "padding": null,
            "grid_auto_rows": null,
            "grid_gap": null,
            "max_width": null,
            "order": null,
            "_view_module_version": "1.2.0",
            "grid_template_areas": null,
            "object_position": null,
            "object_fit": null,
            "grid_auto_columns": null,
            "margin": null,
            "display": null,
            "left": null
          }
        },
        "eb629b37f3f041578c1e40366be4d853": {
          "model_module": "@jupyter-widgets/controls",
          "model_name": "DescriptionStyleModel",
          "state": {
            "_view_name": "StyleView",
            "_model_name": "DescriptionStyleModel",
            "description_width": "",
            "_view_module": "@jupyter-widgets/base",
            "_model_module_version": "1.5.0",
            "_view_count": null,
            "_view_module_version": "1.2.0",
            "_model_module": "@jupyter-widgets/controls"
          }
        },
        "ff90c2809a1e498c8f3c7be7351bb3b7": {
          "model_module": "@jupyter-widgets/base",
          "model_name": "LayoutModel",
          "state": {
            "_view_name": "LayoutView",
            "grid_template_rows": null,
            "right": null,
            "justify_content": null,
            "_view_module": "@jupyter-widgets/base",
            "overflow": null,
            "_model_module_version": "1.2.0",
            "_view_count": null,
            "flex_flow": null,
            "width": null,
            "min_width": null,
            "border": null,
            "align_items": null,
            "bottom": null,
            "_model_module": "@jupyter-widgets/base",
            "top": null,
            "grid_column": null,
            "overflow_y": null,
            "overflow_x": null,
            "grid_auto_flow": null,
            "grid_area": null,
            "grid_template_columns": null,
            "flex": null,
            "_model_name": "LayoutModel",
            "justify_items": null,
            "grid_row": null,
            "max_height": null,
            "align_content": null,
            "visibility": null,
            "align_self": null,
            "height": null,
            "min_height": null,
            "padding": null,
            "grid_auto_rows": null,
            "grid_gap": null,
            "max_width": null,
            "order": null,
            "_view_module_version": "1.2.0",
            "grid_template_areas": null,
            "object_position": null,
            "object_fit": null,
            "grid_auto_columns": null,
            "margin": null,
            "display": null,
            "left": null
          }
        },
        "a7041dc030c74b7db84de3397d225be4": {
          "model_module": "@jupyter-widgets/controls",
          "model_name": "HBoxModel",
          "state": {
            "_view_name": "HBoxView",
            "_dom_classes": [],
            "_model_name": "HBoxModel",
            "_view_module": "@jupyter-widgets/controls",
            "_model_module_version": "1.5.0",
            "_view_count": null,
            "_view_module_version": "1.5.0",
            "box_style": "",
            "layout": "IPY_MODEL_d047ef652947476dba950a7de5fa8c27",
            "_model_module": "@jupyter-widgets/controls",
            "children": [
              "IPY_MODEL_536d33a5b4614c89985f0320cb82b844",
              "IPY_MODEL_c102bef959784bd78c53d407894f8ea6"
            ]
          }
        },
        "d047ef652947476dba950a7de5fa8c27": {
          "model_module": "@jupyter-widgets/base",
          "model_name": "LayoutModel",
          "state": {
            "_view_name": "LayoutView",
            "grid_template_rows": null,
            "right": null,
            "justify_content": null,
            "_view_module": "@jupyter-widgets/base",
            "overflow": null,
            "_model_module_version": "1.2.0",
            "_view_count": null,
            "flex_flow": null,
            "width": null,
            "min_width": null,
            "border": null,
            "align_items": null,
            "bottom": null,
            "_model_module": "@jupyter-widgets/base",
            "top": null,
            "grid_column": null,
            "overflow_y": null,
            "overflow_x": null,
            "grid_auto_flow": null,
            "grid_area": null,
            "grid_template_columns": null,
            "flex": null,
            "_model_name": "LayoutModel",
            "justify_items": null,
            "grid_row": null,
            "max_height": null,
            "align_content": null,
            "visibility": null,
            "align_self": null,
            "height": null,
            "min_height": null,
            "padding": null,
            "grid_auto_rows": null,
            "grid_gap": null,
            "max_width": null,
            "order": null,
            "_view_module_version": "1.2.0",
            "grid_template_areas": null,
            "object_position": null,
            "object_fit": null,
            "grid_auto_columns": null,
            "margin": null,
            "display": null,
            "left": null
          }
        },
        "536d33a5b4614c89985f0320cb82b844": {
          "model_module": "@jupyter-widgets/controls",
          "model_name": "FloatProgressModel",
          "state": {
            "_view_name": "ProgressView",
            "style": "IPY_MODEL_19eb9bd4157e47859bbc9fe1a670e925",
            "_dom_classes": [],
            "description": "",
            "_model_name": "FloatProgressModel",
            "bar_style": "info",
            "max": 1,
            "_view_module": "@jupyter-widgets/controls",
            "_model_module_version": "1.5.0",
            "value": 1,
            "_view_count": null,
            "_view_module_version": "1.5.0",
            "orientation": "horizontal",
            "min": 0,
            "description_tooltip": null,
            "_model_module": "@jupyter-widgets/controls",
            "layout": "IPY_MODEL_722186807b524439927ba9754df2a080"
          }
        },
        "c102bef959784bd78c53d407894f8ea6": {
          "model_module": "@jupyter-widgets/controls",
          "model_name": "HTMLModel",
          "state": {
            "_view_name": "HTMLView",
            "style": "IPY_MODEL_c8f8d7520cd54f7d9517d78a0cf63317",
            "_dom_classes": [],
            "description": "",
            "_model_name": "HTMLModel",
            "placeholder": "​",
            "_view_module": "@jupyter-widgets/controls",
            "_model_module_version": "1.5.0",
            "value": " 872/0 [00:00&lt;00:00, 6619.53 examples/s]",
            "_view_count": null,
            "_view_module_version": "1.5.0",
            "description_tooltip": null,
            "_model_module": "@jupyter-widgets/controls",
            "layout": "IPY_MODEL_bf2d58ed5db943078b5cb8496a07235b"
          }
        },
        "19eb9bd4157e47859bbc9fe1a670e925": {
          "model_module": "@jupyter-widgets/controls",
          "model_name": "ProgressStyleModel",
          "state": {
            "_view_name": "StyleView",
            "_model_name": "ProgressStyleModel",
            "description_width": "initial",
            "_view_module": "@jupyter-widgets/base",
            "_model_module_version": "1.5.0",
            "_view_count": null,
            "_view_module_version": "1.2.0",
            "bar_color": null,
            "_model_module": "@jupyter-widgets/controls"
          }
        },
        "722186807b524439927ba9754df2a080": {
          "model_module": "@jupyter-widgets/base",
          "model_name": "LayoutModel",
          "state": {
            "_view_name": "LayoutView",
            "grid_template_rows": null,
            "right": null,
            "justify_content": null,
            "_view_module": "@jupyter-widgets/base",
            "overflow": null,
            "_model_module_version": "1.2.0",
            "_view_count": null,
            "flex_flow": null,
            "width": null,
            "min_width": null,
            "border": null,
            "align_items": null,
            "bottom": null,
            "_model_module": "@jupyter-widgets/base",
            "top": null,
            "grid_column": null,
            "overflow_y": null,
            "overflow_x": null,
            "grid_auto_flow": null,
            "grid_area": null,
            "grid_template_columns": null,
            "flex": null,
            "_model_name": "LayoutModel",
            "justify_items": null,
            "grid_row": null,
            "max_height": null,
            "align_content": null,
            "visibility": null,
            "align_self": null,
            "height": null,
            "min_height": null,
            "padding": null,
            "grid_auto_rows": null,
            "grid_gap": null,
            "max_width": null,
            "order": null,
            "_view_module_version": "1.2.0",
            "grid_template_areas": null,
            "object_position": null,
            "object_fit": null,
            "grid_auto_columns": null,
            "margin": null,
            "display": null,
            "left": null
          }
        },
        "c8f8d7520cd54f7d9517d78a0cf63317": {
          "model_module": "@jupyter-widgets/controls",
          "model_name": "DescriptionStyleModel",
          "state": {
            "_view_name": "StyleView",
            "_model_name": "DescriptionStyleModel",
            "description_width": "",
            "_view_module": "@jupyter-widgets/base",
            "_model_module_version": "1.5.0",
            "_view_count": null,
            "_view_module_version": "1.2.0",
            "_model_module": "@jupyter-widgets/controls"
          }
        },
        "bf2d58ed5db943078b5cb8496a07235b": {
          "model_module": "@jupyter-widgets/base",
          "model_name": "LayoutModel",
          "state": {
            "_view_name": "LayoutView",
            "grid_template_rows": null,
            "right": null,
            "justify_content": null,
            "_view_module": "@jupyter-widgets/base",
            "overflow": null,
            "_model_module_version": "1.2.0",
            "_view_count": null,
            "flex_flow": null,
            "width": null,
            "min_width": null,
            "border": null,
            "align_items": null,
            "bottom": null,
            "_model_module": "@jupyter-widgets/base",
            "top": null,
            "grid_column": null,
            "overflow_y": null,
            "overflow_x": null,
            "grid_auto_flow": null,
            "grid_area": null,
            "grid_template_columns": null,
            "flex": null,
            "_model_name": "LayoutModel",
            "justify_items": null,
            "grid_row": null,
            "max_height": null,
            "align_content": null,
            "visibility": null,
            "align_self": null,
            "height": null,
            "min_height": null,
            "padding": null,
            "grid_auto_rows": null,
            "grid_gap": null,
            "max_width": null,
            "order": null,
            "_view_module_version": "1.2.0",
            "grid_template_areas": null,
            "object_position": null,
            "object_fit": null,
            "grid_auto_columns": null,
            "margin": null,
            "display": null,
            "left": null
          }
        },
        "1a3906e6d087456e8e4219b86e6a07bb": {
          "model_module": "@jupyter-widgets/controls",
          "model_name": "HBoxModel",
          "state": {
            "_view_name": "HBoxView",
            "_dom_classes": [],
            "_model_name": "HBoxModel",
            "_view_module": "@jupyter-widgets/controls",
            "_model_module_version": "1.5.0",
            "_view_count": null,
            "_view_module_version": "1.5.0",
            "box_style": "",
            "layout": "IPY_MODEL_ef08b15758c046559fc99d9ef88af838",
            "_model_module": "@jupyter-widgets/controls",
            "children": [
              "IPY_MODEL_5e5c28b3d6b743f99520e28c5df6fa0c",
              "IPY_MODEL_c9a9827ec1d443a484796a3823814592"
            ]
          }
        },
        "ef08b15758c046559fc99d9ef88af838": {
          "model_module": "@jupyter-widgets/base",
          "model_name": "LayoutModel",
          "state": {
            "_view_name": "LayoutView",
            "grid_template_rows": null,
            "right": null,
            "justify_content": null,
            "_view_module": "@jupyter-widgets/base",
            "overflow": null,
            "_model_module_version": "1.2.0",
            "_view_count": null,
            "flex_flow": null,
            "width": null,
            "min_width": null,
            "border": null,
            "align_items": null,
            "bottom": null,
            "_model_module": "@jupyter-widgets/base",
            "top": null,
            "grid_column": null,
            "overflow_y": null,
            "overflow_x": null,
            "grid_auto_flow": null,
            "grid_area": null,
            "grid_template_columns": null,
            "flex": null,
            "_model_name": "LayoutModel",
            "justify_items": null,
            "grid_row": null,
            "max_height": null,
            "align_content": null,
            "visibility": null,
            "align_self": null,
            "height": null,
            "min_height": null,
            "padding": null,
            "grid_auto_rows": null,
            "grid_gap": null,
            "max_width": null,
            "order": null,
            "_view_module_version": "1.2.0",
            "grid_template_areas": null,
            "object_position": null,
            "object_fit": null,
            "grid_auto_columns": null,
            "margin": null,
            "display": null,
            "left": null
          }
        },
        "5e5c28b3d6b743f99520e28c5df6fa0c": {
          "model_module": "@jupyter-widgets/controls",
          "model_name": "FloatProgressModel",
          "state": {
            "_view_name": "ProgressView",
            "style": "IPY_MODEL_c55c4f9c30bf4844a31fc13960d5f72f",
            "_dom_classes": [],
            "description": "",
            "_model_name": "FloatProgressModel",
            "bar_style": "info",
            "max": 1,
            "_view_module": "@jupyter-widgets/controls",
            "_model_module_version": "1.5.0",
            "value": 1,
            "_view_count": null,
            "_view_module_version": "1.5.0",
            "orientation": "horizontal",
            "min": 0,
            "description_tooltip": null,
            "_model_module": "@jupyter-widgets/controls",
            "layout": "IPY_MODEL_e8b0e0fa11914e409d12b302a50876b9"
          }
        },
        "c9a9827ec1d443a484796a3823814592": {
          "model_module": "@jupyter-widgets/controls",
          "model_name": "HTMLModel",
          "state": {
            "_view_name": "HTMLView",
            "style": "IPY_MODEL_5fd7267601f547f99fb56f0819263d44",
            "_dom_classes": [],
            "description": "",
            "_model_name": "HTMLModel",
            "placeholder": "​",
            "_view_module": "@jupyter-widgets/controls",
            "_model_module_version": "1.5.0",
            "value": " 1821/0 [00:00&lt;00:00, 13439.98 examples/s]",
            "_view_count": null,
            "_view_module_version": "1.5.0",
            "description_tooltip": null,
            "_model_module": "@jupyter-widgets/controls",
            "layout": "IPY_MODEL_1dbfef115d6940179b2d38249e0fbbfa"
          }
        },
        "c55c4f9c30bf4844a31fc13960d5f72f": {
          "model_module": "@jupyter-widgets/controls",
          "model_name": "ProgressStyleModel",
          "state": {
            "_view_name": "StyleView",
            "_model_name": "ProgressStyleModel",
            "description_width": "initial",
            "_view_module": "@jupyter-widgets/base",
            "_model_module_version": "1.5.0",
            "_view_count": null,
            "_view_module_version": "1.2.0",
            "bar_color": null,
            "_model_module": "@jupyter-widgets/controls"
          }
        },
        "e8b0e0fa11914e409d12b302a50876b9": {
          "model_module": "@jupyter-widgets/base",
          "model_name": "LayoutModel",
          "state": {
            "_view_name": "LayoutView",
            "grid_template_rows": null,
            "right": null,
            "justify_content": null,
            "_view_module": "@jupyter-widgets/base",
            "overflow": null,
            "_model_module_version": "1.2.0",
            "_view_count": null,
            "flex_flow": null,
            "width": null,
            "min_width": null,
            "border": null,
            "align_items": null,
            "bottom": null,
            "_model_module": "@jupyter-widgets/base",
            "top": null,
            "grid_column": null,
            "overflow_y": null,
            "overflow_x": null,
            "grid_auto_flow": null,
            "grid_area": null,
            "grid_template_columns": null,
            "flex": null,
            "_model_name": "LayoutModel",
            "justify_items": null,
            "grid_row": null,
            "max_height": null,
            "align_content": null,
            "visibility": null,
            "align_self": null,
            "height": null,
            "min_height": null,
            "padding": null,
            "grid_auto_rows": null,
            "grid_gap": null,
            "max_width": null,
            "order": null,
            "_view_module_version": "1.2.0",
            "grid_template_areas": null,
            "object_position": null,
            "object_fit": null,
            "grid_auto_columns": null,
            "margin": null,
            "display": null,
            "left": null
          }
        },
        "5fd7267601f547f99fb56f0819263d44": {
          "model_module": "@jupyter-widgets/controls",
          "model_name": "DescriptionStyleModel",
          "state": {
            "_view_name": "StyleView",
            "_model_name": "DescriptionStyleModel",
            "description_width": "",
            "_view_module": "@jupyter-widgets/base",
            "_model_module_version": "1.5.0",
            "_view_count": null,
            "_view_module_version": "1.2.0",
            "_model_module": "@jupyter-widgets/controls"
          }
        },
        "1dbfef115d6940179b2d38249e0fbbfa": {
          "model_module": "@jupyter-widgets/base",
          "model_name": "LayoutModel",
          "state": {
            "_view_name": "LayoutView",
            "grid_template_rows": null,
            "right": null,
            "justify_content": null,
            "_view_module": "@jupyter-widgets/base",
            "overflow": null,
            "_model_module_version": "1.2.0",
            "_view_count": null,
            "flex_flow": null,
            "width": null,
            "min_width": null,
            "border": null,
            "align_items": null,
            "bottom": null,
            "_model_module": "@jupyter-widgets/base",
            "top": null,
            "grid_column": null,
            "overflow_y": null,
            "overflow_x": null,
            "grid_auto_flow": null,
            "grid_area": null,
            "grid_template_columns": null,
            "flex": null,
            "_model_name": "LayoutModel",
            "justify_items": null,
            "grid_row": null,
            "max_height": null,
            "align_content": null,
            "visibility": null,
            "align_self": null,
            "height": null,
            "min_height": null,
            "padding": null,
            "grid_auto_rows": null,
            "grid_gap": null,
            "max_width": null,
            "order": null,
            "_view_module_version": "1.2.0",
            "grid_template_areas": null,
            "object_position": null,
            "object_fit": null,
            "grid_auto_columns": null,
            "margin": null,
            "display": null,
            "left": null
          }
        }
      }
    },
    "accelerator": "GPU"
  },
  "cells": [
    {
      "cell_type": "code",
      "metadata": {
        "colab": {
          "base_uri": "https://localhost:8080/"
        },
        "id": "Tjsl5_TPD5p-",
        "outputId": "6fe77871-8ea8-4a44-d53a-79d30d53cacd"
      },
      "source": [
        "from google.colab import drive\n",
        "drive.mount('/content/drive')"
      ],
      "execution_count": 1,
      "outputs": [
        {
          "output_type": "stream",
          "text": [
            "Mounted at /content/drive\n"
          ],
          "name": "stdout"
        }
      ]
    },
    {
      "cell_type": "markdown",
      "metadata": {
        "id": "35YsotQWRREJ"
      },
      "source": [
        "#Installing libraries"
      ]
    },
    {
      "cell_type": "code",
      "metadata": {
        "id": "hZeIFn6iC9FF",
        "colab": {
          "base_uri": "https://localhost:8080/",
          "height": 1000
        },
        "outputId": "1d885b40-f46c-4984-b3a6-998b4ab5f3de"
      },
      "source": [
        "!pip install textattack\n",
        "!pip install -U gensim==4.0.0\n",
        "!pip install python-Levenshtein"
      ],
      "execution_count": 2,
      "outputs": [
        {
          "output_type": "stream",
          "text": [
            "Collecting textattack\n",
            "\u001b[?25l  Downloading https://files.pythonhosted.org/packages/0f/82/2f16ef7f22f19b3a49bbcd079dc31e53d362e1ef1299298c3eda05cf2b3a/textattack-0.2.15-py3-none-any.whl (349kB)\n",
            "\r\u001b[K     |█                               | 10kB 17.8MB/s eta 0:00:01\r\u001b[K     |█▉                              | 20kB 18.9MB/s eta 0:00:01\r\u001b[K     |██▉                             | 30kB 14.8MB/s eta 0:00:01\r\u001b[K     |███▊                            | 40kB 14.1MB/s eta 0:00:01\r\u001b[K     |████▊                           | 51kB 11.2MB/s eta 0:00:01\r\u001b[K     |█████▋                          | 61kB 12.8MB/s eta 0:00:01\r\u001b[K     |██████▋                         | 71kB 11.4MB/s eta 0:00:01\r\u001b[K     |███████▌                        | 81kB 12.3MB/s eta 0:00:01\r\u001b[K     |████████▍                       | 92kB 11.5MB/s eta 0:00:01\r\u001b[K     |█████████▍                      | 102kB 10.6MB/s eta 0:00:01\r\u001b[K     |██████████▎                     | 112kB 10.6MB/s eta 0:00:01\r\u001b[K     |███████████▎                    | 122kB 10.6MB/s eta 0:00:01\r\u001b[K     |████████████▏                   | 133kB 10.6MB/s eta 0:00:01\r\u001b[K     |█████████████▏                  | 143kB 10.6MB/s eta 0:00:01\r\u001b[K     |██████████████                  | 153kB 10.6MB/s eta 0:00:01\r\u001b[K     |███████████████                 | 163kB 10.6MB/s eta 0:00:01\r\u001b[K     |████████████████                | 174kB 10.6MB/s eta 0:00:01\r\u001b[K     |████████████████▉               | 184kB 10.6MB/s eta 0:00:01\r\u001b[K     |█████████████████▉              | 194kB 10.6MB/s eta 0:00:01\r\u001b[K     |██████████████████▊             | 204kB 10.6MB/s eta 0:00:01\r\u001b[K     |███████████████████▊            | 215kB 10.6MB/s eta 0:00:01\r\u001b[K     |████████████████████▋           | 225kB 10.6MB/s eta 0:00:01\r\u001b[K     |█████████████████████▋          | 235kB 10.6MB/s eta 0:00:01\r\u001b[K     |██████████████████████▌         | 245kB 10.6MB/s eta 0:00:01\r\u001b[K     |███████████████████████▌        | 256kB 10.6MB/s eta 0:00:01\r\u001b[K     |████████████████████████▍       | 266kB 10.6MB/s eta 0:00:01\r\u001b[K     |█████████████████████████▎      | 276kB 10.6MB/s eta 0:00:01\r\u001b[K     |██████████████████████████▎     | 286kB 10.6MB/s eta 0:00:01\r\u001b[K     |███████████████████████████▏    | 296kB 10.6MB/s eta 0:00:01\r\u001b[K     |████████████████████████████▏   | 307kB 10.6MB/s eta 0:00:01\r\u001b[K     |█████████████████████████████   | 317kB 10.6MB/s eta 0:00:01\r\u001b[K     |██████████████████████████████  | 327kB 10.6MB/s eta 0:00:01\r\u001b[K     |███████████████████████████████ | 337kB 10.6MB/s eta 0:00:01\r\u001b[K     |████████████████████████████████| 348kB 10.6MB/s eta 0:00:01\r\u001b[K     |████████████████████████████████| 358kB 10.6MB/s \n",
            "\u001b[?25hRequirement already satisfied: torch in /usr/local/lib/python3.7/dist-packages (from textattack) (1.8.1+cu101)\n",
            "Collecting lemminflect\n",
            "\u001b[?25l  Downloading https://files.pythonhosted.org/packages/4b/67/d04ca98b661d4ad52b9b965c9dabb1f1a2c85541d20f8decb9a9df4e4b32/lemminflect-0.2.2-py3-none-any.whl (769kB)\n",
            "\u001b[K     |████████████████████████████████| 778kB 20.1MB/s \n",
            "\u001b[?25hCollecting language-tool-python\n",
            "  Downloading https://files.pythonhosted.org/packages/37/26/48b22ad565fd372edec3577218fb817e0e6626bf4e658033197470ad92b3/language_tool_python-2.5.3-py3-none-any.whl\n",
            "Requirement already satisfied: nltk in /usr/local/lib/python3.7/dist-packages (from textattack) (3.2.5)\n",
            "Collecting num2words\n",
            "\u001b[?25l  Downloading https://files.pythonhosted.org/packages/eb/a2/ea800689730732e27711c41beed4b2a129b34974435bdc450377ec407738/num2words-0.5.10-py3-none-any.whl (101kB)\n",
            "\u001b[K     |████████████████████████████████| 102kB 11.3MB/s \n",
            "\u001b[?25hRequirement already satisfied: pandas>=1.0.1 in /usr/local/lib/python3.7/dist-packages (from textattack) (1.1.5)\n",
            "Requirement already satisfied: scipy==1.4.1 in /usr/local/lib/python3.7/dist-packages (from textattack) (1.4.1)\n",
            "Collecting bert-score>=0.3.5\n",
            "\u001b[?25l  Downloading https://files.pythonhosted.org/packages/38/fb/e63e7e231a79db0489dbf7e7d0ebfb279ccb3d8216aa0d133572f784f3fa/bert_score-0.3.9-py3-none-any.whl (59kB)\n",
            "\u001b[K     |████████████████████████████████| 61kB 7.7MB/s \n",
            "\u001b[?25hCollecting transformers>=3.3.0\n",
            "\u001b[?25l  Downloading https://files.pythonhosted.org/packages/d8/b2/57495b5309f09fa501866e225c84532d1fd89536ea62406b2181933fb418/transformers-4.5.1-py3-none-any.whl (2.1MB)\n",
            "\u001b[K     |████████████████████████████████| 2.1MB 34.3MB/s \n",
            "\u001b[?25hRequirement already satisfied: editdistance in /usr/local/lib/python3.7/dist-packages (from textattack) (0.5.3)\n",
            "Collecting terminaltables\n",
            "  Downloading https://files.pythonhosted.org/packages/9b/c4/4a21174f32f8a7e1104798c445dacdc1d4df86f2f26722767034e4de4bff/terminaltables-3.1.0.tar.gz\n",
            "Requirement already satisfied: more-itertools in /usr/local/lib/python3.7/dist-packages (from textattack) (8.7.0)\n",
            "Requirement already satisfied: filelock in /usr/local/lib/python3.7/dist-packages (from textattack) (3.0.12)\n",
            "Collecting word2number\n",
            "  Downloading https://files.pythonhosted.org/packages/4a/29/a31940c848521f0725f0df6b25dca8917f13a2025b0e8fcbe5d0457e45e6/word2number-1.1.zip\n",
            "Requirement already satisfied: PySocks!=1.5.7,>=1.5.6 in /usr/local/lib/python3.7/dist-packages (from textattack) (1.7.1)\n",
            "Collecting flair==0.6.1.post1\n",
            "\u001b[?25l  Downloading https://files.pythonhosted.org/packages/4a/49/a812ed93088ba9519cbb40eb9f52341694b31cfa126bfddcd9db3761f3ac/flair-0.6.1.post1-py3-none-any.whl (337kB)\n",
            "\u001b[K     |████████████████████████████████| 337kB 36.5MB/s \n",
            "\u001b[?25hRequirement already satisfied: tqdm<4.50.0,>=4.27 in /usr/local/lib/python3.7/dist-packages (from textattack) (4.41.1)\n",
            "Collecting lru-dict\n",
            "  Downloading https://files.pythonhosted.org/packages/68/ea/997af58d4e6da019ad825a412f93081d9df67e9dda11cfb026a3d7cd0b6c/lru-dict-1.1.7.tar.gz\n",
            "Collecting numpy<1.19.0\n",
            "\u001b[?25l  Downloading https://files.pythonhosted.org/packages/d6/c6/58e517e8b1fb192725cfa23c01c2e60e4e6699314ee9684a1c5f5c9b27e1/numpy-1.18.5-cp37-cp37m-manylinux1_x86_64.whl (20.1MB)\n",
            "\u001b[K     |████████████████████████████████| 20.1MB 5.4MB/s \n",
            "\u001b[?25hCollecting datasets\n",
            "\u001b[?25l  Downloading https://files.pythonhosted.org/packages/46/1a/b9f9b3bfef624686ae81c070f0a6bb635047b17cdb3698c7ad01281e6f9a/datasets-1.6.2-py3-none-any.whl (221kB)\n",
            "\u001b[K     |████████████████████████████████| 225kB 42.6MB/s \n",
            "\u001b[?25hRequirement already satisfied: typing-extensions in /usr/local/lib/python3.7/dist-packages (from torch->textattack) (3.7.4.3)\n",
            "Requirement already satisfied: requests in /usr/local/lib/python3.7/dist-packages (from language-tool-python->textattack) (2.23.0)\n",
            "Requirement already satisfied: six in /usr/local/lib/python3.7/dist-packages (from nltk->textattack) (1.15.0)\n",
            "Requirement already satisfied: docopt>=0.6.2 in /usr/local/lib/python3.7/dist-packages (from num2words->textattack) (0.6.2)\n",
            "Requirement already satisfied: python-dateutil>=2.7.3 in /usr/local/lib/python3.7/dist-packages (from pandas>=1.0.1->textattack) (2.8.1)\n",
            "Requirement already satisfied: pytz>=2017.2 in /usr/local/lib/python3.7/dist-packages (from pandas>=1.0.1->textattack) (2018.9)\n",
            "Requirement already satisfied: matplotlib in /usr/local/lib/python3.7/dist-packages (from bert-score>=0.3.5->textattack) (3.2.2)\n",
            "Requirement already satisfied: importlib-metadata; python_version < \"3.8\" in /usr/local/lib/python3.7/dist-packages (from transformers>=3.3.0->textattack) (3.10.1)\n",
            "Collecting tokenizers<0.11,>=0.10.1\n",
            "\u001b[?25l  Downloading https://files.pythonhosted.org/packages/ae/04/5b870f26a858552025a62f1649c20d29d2672c02ff3c3fb4c688ca46467a/tokenizers-0.10.2-cp37-cp37m-manylinux2010_x86_64.whl (3.3MB)\n",
            "\u001b[K     |████████████████████████████████| 3.3MB 36.3MB/s \n",
            "\u001b[?25hRequirement already satisfied: regex!=2019.12.17 in /usr/local/lib/python3.7/dist-packages (from transformers>=3.3.0->textattack) (2019.12.20)\n",
            "Collecting sacremoses\n",
            "\u001b[?25l  Downloading https://files.pythonhosted.org/packages/75/ee/67241dc87f266093c533a2d4d3d69438e57d7a90abb216fa076e7d475d4a/sacremoses-0.0.45-py3-none-any.whl (895kB)\n",
            "\u001b[K     |████████████████████████████████| 901kB 32.7MB/s \n",
            "\u001b[?25hRequirement already satisfied: packaging in /usr/local/lib/python3.7/dist-packages (from transformers>=3.3.0->textattack) (20.9)\n",
            "Collecting langdetect\n",
            "\u001b[?25l  Downloading https://files.pythonhosted.org/packages/0e/72/a3add0e4eec4eb9e2569554f7c70f4a3c27712f40e3284d483e88094cc0e/langdetect-1.0.9.tar.gz (981kB)\n",
            "\u001b[K     |████████████████████████████████| 983kB 33.7MB/s \n",
            "\u001b[?25hCollecting segtok>=1.5.7\n",
            "  Downloading https://files.pythonhosted.org/packages/41/08/582dab5f4b1d5ca23bc6927b4bb977c8ff7f3a87a3b98844ef833e2f5623/segtok-1.5.10.tar.gz\n",
            "Collecting ftfy\n",
            "\u001b[?25l  Downloading https://files.pythonhosted.org/packages/ce/b5/5da463f9c7823e0e575e9908d004e2af4b36efa8d02d3d6dad57094fcb11/ftfy-6.0.1.tar.gz (63kB)\n",
            "\u001b[K     |████████████████████████████████| 71kB 8.5MB/s \n",
            "\u001b[?25hCollecting sqlitedict>=1.6.0\n",
            "  Downloading https://files.pythonhosted.org/packages/5c/2d/b1d99e9ad157dd7de9cd0d36a8a5876b13b55e4b75f7498bc96035fb4e96/sqlitedict-1.7.0.tar.gz\n",
            "Requirement already satisfied: gdown in /usr/local/lib/python3.7/dist-packages (from flair==0.6.1.post1->textattack) (3.6.4)\n",
            "Collecting konoha<5.0.0,>=4.0.0\n",
            "  Downloading https://files.pythonhosted.org/packages/02/be/4dd30d56a0a19619deb9bf41ba8202709fa83b1b301b876572cd6dc38117/konoha-4.6.4-py3-none-any.whl\n",
            "Collecting janome\n",
            "\u001b[?25l  Downloading https://files.pythonhosted.org/packages/a8/63/98858cbead27df7536c7e300c169da0999e9704d02220dc6700b804eeff0/Janome-0.4.1-py2.py3-none-any.whl (19.7MB)\n",
            "\u001b[K     |████████████████████████████████| 19.7MB 1.4MB/s \n",
            "\u001b[?25hCollecting deprecated>=1.2.4\n",
            "  Downloading https://files.pythonhosted.org/packages/fb/73/994edfcba74443146c84b91921fcc269374354118d4f452fb0c54c1cbb12/Deprecated-1.2.12-py2.py3-none-any.whl\n",
            "Requirement already satisfied: gensim>=3.4.0 in /usr/local/lib/python3.7/dist-packages (from flair==0.6.1.post1->textattack) (3.6.0)\n",
            "Requirement already satisfied: tabulate in /usr/local/lib/python3.7/dist-packages (from flair==0.6.1.post1->textattack) (0.8.9)\n",
            "Collecting mpld3==0.3\n",
            "\u001b[?25l  Downloading https://files.pythonhosted.org/packages/91/95/a52d3a83d0a29ba0d6898f6727e9858fe7a43f6c2ce81a5fe7e05f0f4912/mpld3-0.3.tar.gz (788kB)\n",
            "\u001b[K     |████████████████████████████████| 798kB 33.6MB/s \n",
            "\u001b[?25hRequirement already satisfied: lxml in /usr/local/lib/python3.7/dist-packages (from flair==0.6.1.post1->textattack) (4.2.6)\n",
            "Requirement already satisfied: hyperopt>=0.1.1 in /usr/local/lib/python3.7/dist-packages (from flair==0.6.1.post1->textattack) (0.1.2)\n",
            "Collecting sentencepiece!=0.1.92\n",
            "\u001b[?25l  Downloading https://files.pythonhosted.org/packages/f5/99/e0808cb947ba10f575839c43e8fafc9cc44e4a7a2c8f79c60db48220a577/sentencepiece-0.1.95-cp37-cp37m-manylinux2014_x86_64.whl (1.2MB)\n",
            "\u001b[K     |████████████████████████████████| 1.2MB 33.0MB/s \n",
            "\u001b[?25hRequirement already satisfied: scikit-learn>=0.21.3 in /usr/local/lib/python3.7/dist-packages (from flair==0.6.1.post1->textattack) (0.22.2.post1)\n",
            "Collecting bpemb>=0.3.2\n",
            "  Downloading https://files.pythonhosted.org/packages/f2/6f/9191b85109772636a8f8accb122900c34db26c091d2793218aa94954524c/bpemb-0.3.3-py3-none-any.whl\n",
            "Collecting xxhash\n",
            "\u001b[?25l  Downloading https://files.pythonhosted.org/packages/7d/4f/0a862cad26aa2ed7a7cd87178cbbfa824fc1383e472d63596a0d018374e7/xxhash-2.0.2-cp37-cp37m-manylinux2010_x86_64.whl (243kB)\n",
            "\u001b[K     |████████████████████████████████| 245kB 45.5MB/s \n",
            "\u001b[?25hCollecting huggingface-hub<0.1.0\n",
            "  Downloading https://files.pythonhosted.org/packages/a1/88/7b1e45720ecf59c6c6737ff332f41c955963090a18e72acbcbeac6b25e86/huggingface_hub-0.0.8-py3-none-any.whl\n",
            "Collecting fsspec\n",
            "\u001b[?25l  Downloading https://files.pythonhosted.org/packages/e9/91/2ef649137816850fa4f4c97c6f2eabb1a79bf0aa2c8ed198e387e373455e/fsspec-2021.4.0-py3-none-any.whl (108kB)\n",
            "\u001b[K     |████████████████████████████████| 112kB 38.8MB/s \n",
            "\u001b[?25hRequirement already satisfied: dill in /usr/local/lib/python3.7/dist-packages (from datasets->textattack) (0.3.3)\n",
            "Requirement already satisfied: pyarrow>=1.0.0<4.0.0 in /usr/local/lib/python3.7/dist-packages (from datasets->textattack) (3.0.0)\n",
            "Requirement already satisfied: multiprocess in /usr/local/lib/python3.7/dist-packages (from datasets->textattack) (0.70.11.1)\n",
            "Requirement already satisfied: certifi>=2017.4.17 in /usr/local/lib/python3.7/dist-packages (from requests->language-tool-python->textattack) (2020.12.5)\n",
            "Requirement already satisfied: idna<3,>=2.5 in /usr/local/lib/python3.7/dist-packages (from requests->language-tool-python->textattack) (2.10)\n",
            "Requirement already satisfied: chardet<4,>=3.0.2 in /usr/local/lib/python3.7/dist-packages (from requests->language-tool-python->textattack) (3.0.4)\n",
            "Requirement already satisfied: urllib3!=1.25.0,!=1.25.1,<1.26,>=1.21.1 in /usr/local/lib/python3.7/dist-packages (from requests->language-tool-python->textattack) (1.24.3)\n",
            "Requirement already satisfied: cycler>=0.10 in /usr/local/lib/python3.7/dist-packages (from matplotlib->bert-score>=0.3.5->textattack) (0.10.0)\n",
            "Requirement already satisfied: pyparsing!=2.0.4,!=2.1.2,!=2.1.6,>=2.0.1 in /usr/local/lib/python3.7/dist-packages (from matplotlib->bert-score>=0.3.5->textattack) (2.4.7)\n",
            "Requirement already satisfied: kiwisolver>=1.0.1 in /usr/local/lib/python3.7/dist-packages (from matplotlib->bert-score>=0.3.5->textattack) (1.3.1)\n",
            "Requirement already satisfied: zipp>=0.5 in /usr/local/lib/python3.7/dist-packages (from importlib-metadata; python_version < \"3.8\"->transformers>=3.3.0->textattack) (3.4.1)\n",
            "Requirement already satisfied: click in /usr/local/lib/python3.7/dist-packages (from sacremoses->transformers>=3.3.0->textattack) (7.1.2)\n",
            "Requirement already satisfied: joblib in /usr/local/lib/python3.7/dist-packages (from sacremoses->transformers>=3.3.0->textattack) (1.0.1)\n",
            "Requirement already satisfied: wcwidth in /usr/local/lib/python3.7/dist-packages (from ftfy->flair==0.6.1.post1->textattack) (0.2.5)\n",
            "Collecting overrides<4.0.0,>=3.0.0\n",
            "  Downloading https://files.pythonhosted.org/packages/ff/b1/10f69c00947518e6676bbd43e739733048de64b8dd998e9c2d5a71f44c5d/overrides-3.1.0.tar.gz\n",
            "Requirement already satisfied: wrapt<2,>=1.10 in /usr/local/lib/python3.7/dist-packages (from deprecated>=1.2.4->flair==0.6.1.post1->textattack) (1.12.1)\n",
            "Requirement already satisfied: smart-open>=1.2.1 in /usr/local/lib/python3.7/dist-packages (from gensim>=3.4.0->flair==0.6.1.post1->textattack) (5.0.0)\n",
            "Requirement already satisfied: future in /usr/local/lib/python3.7/dist-packages (from hyperopt>=0.1.1->flair==0.6.1.post1->textattack) (0.16.0)\n",
            "Requirement already satisfied: pymongo in /usr/local/lib/python3.7/dist-packages (from hyperopt>=0.1.1->flair==0.6.1.post1->textattack) (3.11.3)\n",
            "Requirement already satisfied: networkx in /usr/local/lib/python3.7/dist-packages (from hyperopt>=0.1.1->flair==0.6.1.post1->textattack) (2.5.1)\n",
            "Requirement already satisfied: decorator<5,>=4.3 in /usr/local/lib/python3.7/dist-packages (from networkx->hyperopt>=0.1.1->flair==0.6.1.post1->textattack) (4.4.2)\n",
            "Building wheels for collected packages: terminaltables, word2number, lru-dict, langdetect, segtok, ftfy, sqlitedict, mpld3, overrides\n",
            "  Building wheel for terminaltables (setup.py) ... \u001b[?25l\u001b[?25hdone\n",
            "  Created wheel for terminaltables: filename=terminaltables-3.1.0-cp37-none-any.whl size=15356 sha256=0ff9bf808f5d1f02f9f9294fd0f1cc4038741a4b32e1dca5dfddf7a5ae45ed89\n",
            "  Stored in directory: /root/.cache/pip/wheels/30/6b/50/6c75775b681fb36cdfac7f19799888ef9d8813aff9e379663e\n",
            "  Building wheel for word2number (setup.py) ... \u001b[?25l\u001b[?25hdone\n",
            "  Created wheel for word2number: filename=word2number-1.1-cp37-none-any.whl size=5589 sha256=e166b8a298fa08bdc4dfba7e7a461f3f54b0670b43cf50ac0de27607df5015b3\n",
            "  Stored in directory: /root/.cache/pip/wheels/46/2f/53/5f5c1d275492f2fce1cdab9a9bb12d49286dead829a4078e0e\n",
            "  Building wheel for lru-dict (setup.py) ... \u001b[?25l\u001b[?25hdone\n",
            "  Created wheel for lru-dict: filename=lru_dict-1.1.7-cp37-cp37m-linux_x86_64.whl size=28377 sha256=fce35ad1fdbf11b4998c312621505d1822c60ed88ed63bf4e5d2f6cbf925728a\n",
            "  Stored in directory: /root/.cache/pip/wheels/ae/51/23/0a416781dead9225c7d66d25b9f223c7e32304e99a0b01d566\n",
            "  Building wheel for langdetect (setup.py) ... \u001b[?25l\u001b[?25hdone\n",
            "  Created wheel for langdetect: filename=langdetect-1.0.9-cp37-none-any.whl size=993223 sha256=5a306adabaa2796f625294f68ac8ae76c328740ec6cf9b16895dbf4e0d00f4c0\n",
            "  Stored in directory: /root/.cache/pip/wheels/7e/18/13/038c34057808931c7ddc6c92d3aa015cf1a498df5a70268996\n",
            "  Building wheel for segtok (setup.py) ... \u001b[?25l\u001b[?25hdone\n",
            "  Created wheel for segtok: filename=segtok-1.5.10-cp37-none-any.whl size=25019 sha256=3025699114d80813e46cccd57073e8786483b8f90a16d7b1cb03eea5c37aed09\n",
            "  Stored in directory: /root/.cache/pip/wheels/b4/39/f6/9ca1c5cabde964d728023b5751c3a206a5c8cc40252321fb6b\n",
            "  Building wheel for ftfy (setup.py) ... \u001b[?25l\u001b[?25hdone\n",
            "  Created wheel for ftfy: filename=ftfy-6.0.1-cp37-none-any.whl size=41573 sha256=2fa2366e55d4e6d89b7f0a7c710eb02ffd9780056eca975e6dc90536080bc628\n",
            "  Stored in directory: /root/.cache/pip/wheels/ae/73/c7/9056e14b04919e5c262fe80b54133b1a88d73683d05d7ac65c\n",
            "  Building wheel for sqlitedict (setup.py) ... \u001b[?25l\u001b[?25hdone\n",
            "  Created wheel for sqlitedict: filename=sqlitedict-1.7.0-cp37-none-any.whl size=14376 sha256=377f21ed10717f8ec409c7a75a5882d2df7a92e5d013c25d306a141638690e0a\n",
            "  Stored in directory: /root/.cache/pip/wheels/cf/c6/4f/2c64a43f041415eb8b8740bd80e15e92f0d46c5e464d8e4b9b\n",
            "  Building wheel for mpld3 (setup.py) ... \u001b[?25l\u001b[?25hdone\n",
            "  Created wheel for mpld3: filename=mpld3-0.3-cp37-none-any.whl size=116679 sha256=24919dbc2b40a8f7167060b4bf1131dded38be49420dbcc56fd26c122027e054\n",
            "  Stored in directory: /root/.cache/pip/wheels/c0/47/fb/8a64f89aecfe0059830479308ad42d62e898a3e3cefdf6ba28\n",
            "  Building wheel for overrides (setup.py) ... \u001b[?25l\u001b[?25hdone\n",
            "  Created wheel for overrides: filename=overrides-3.1.0-cp37-none-any.whl size=10174 sha256=a37b434b2b114953c99321af6d4368d8a7ed708f2104ba75443080f56bd99554\n",
            "  Stored in directory: /root/.cache/pip/wheels/5c/24/13/6ef8600e6f147c95e595f1289a86a3cc82ed65df57582c65a9\n",
            "Successfully built terminaltables word2number lru-dict langdetect segtok ftfy sqlitedict mpld3 overrides\n",
            "\u001b[31mERROR: tensorflow 2.4.1 has requirement numpy~=1.19.2, but you'll have numpy 1.18.5 which is incompatible.\u001b[0m\n",
            "\u001b[31mERROR: datascience 0.10.6 has requirement folium==0.2.1, but you'll have folium 0.8.3 which is incompatible.\u001b[0m\n",
            "\u001b[31mERROR: albumentations 0.1.12 has requirement imgaug<0.2.7,>=0.2.5, but you'll have imgaug 0.2.9 which is incompatible.\u001b[0m\n",
            "\u001b[31mERROR: konoha 4.6.4 has requirement requests<3.0.0,>=2.25.1, but you'll have requests 2.23.0 which is incompatible.\u001b[0m\n",
            "Installing collected packages: numpy, lemminflect, language-tool-python, num2words, tokenizers, sacremoses, transformers, bert-score, terminaltables, word2number, langdetect, segtok, ftfy, sqlitedict, overrides, konoha, janome, deprecated, mpld3, sentencepiece, bpemb, flair, lru-dict, xxhash, huggingface-hub, fsspec, datasets, textattack\n",
            "  Found existing installation: numpy 1.19.5\n",
            "    Uninstalling numpy-1.19.5:\n",
            "      Successfully uninstalled numpy-1.19.5\n",
            "Successfully installed bert-score-0.3.9 bpemb-0.3.3 datasets-1.6.2 deprecated-1.2.12 flair-0.6.1.post1 fsspec-2021.4.0 ftfy-6.0.1 huggingface-hub-0.0.8 janome-0.4.1 konoha-4.6.4 langdetect-1.0.9 language-tool-python-2.5.3 lemminflect-0.2.2 lru-dict-1.1.7 mpld3-0.3 num2words-0.5.10 numpy-1.18.5 overrides-3.1.0 sacremoses-0.0.45 segtok-1.5.10 sentencepiece-0.1.95 sqlitedict-1.7.0 terminaltables-3.1.0 textattack-0.2.15 tokenizers-0.10.2 transformers-4.5.1 word2number-1.1 xxhash-2.0.2\n"
          ],
          "name": "stdout"
        },
        {
          "output_type": "display_data",
          "data": {
            "application/vnd.colab-display-data+json": {
              "pip_warning": {
                "packages": [
                  "numpy"
                ]
              }
            }
          },
          "metadata": {
            "tags": []
          }
        },
        {
          "output_type": "stream",
          "text": [
            "Collecting gensim==4.0.0\n",
            "\u001b[?25l  Downloading https://files.pythonhosted.org/packages/c3/dd/5e00b6e788a9c522b48f9df10472b2017102ffa65b10bc657471e0713542/gensim-4.0.0-cp37-cp37m-manylinux1_x86_64.whl (23.9MB)\n",
            "\u001b[K     |████████████████████████████████| 23.9MB 131kB/s \n",
            "\u001b[?25hRequirement already satisfied, skipping upgrade: smart-open>=1.8.1 in /usr/local/lib/python3.7/dist-packages (from gensim==4.0.0) (5.0.0)\n",
            "Requirement already satisfied, skipping upgrade: numpy>=1.11.3 in /usr/local/lib/python3.7/dist-packages (from gensim==4.0.0) (1.18.5)\n",
            "Requirement already satisfied, skipping upgrade: scipy>=0.18.1 in /usr/local/lib/python3.7/dist-packages (from gensim==4.0.0) (1.4.1)\n",
            "Installing collected packages: gensim\n",
            "  Found existing installation: gensim 3.6.0\n",
            "    Uninstalling gensim-3.6.0:\n",
            "      Successfully uninstalled gensim-3.6.0\n",
            "Successfully installed gensim-4.0.0\n",
            "Collecting python-Levenshtein\n",
            "\u001b[?25l  Downloading https://files.pythonhosted.org/packages/2a/dc/97f2b63ef0fa1fd78dcb7195aca577804f6b2b51e712516cc0e902a9a201/python-Levenshtein-0.12.2.tar.gz (50kB)\n",
            "\u001b[K     |████████████████████████████████| 51kB 4.6MB/s \n",
            "\u001b[?25hRequirement already satisfied: setuptools in /usr/local/lib/python3.7/dist-packages (from python-Levenshtein) (56.0.0)\n",
            "Building wheels for collected packages: python-Levenshtein\n",
            "  Building wheel for python-Levenshtein (setup.py) ... \u001b[?25l\u001b[?25hdone\n",
            "  Created wheel for python-Levenshtein: filename=python_Levenshtein-0.12.2-cp37-cp37m-linux_x86_64.whl size=149800 sha256=6c31e73150df6dec1a9454b820ef740e5111da332c2a7c39a392e54ff4a6ab58\n",
            "  Stored in directory: /root/.cache/pip/wheels/b3/26/73/4b48503bac73f01cf18e52cd250947049a7f339e940c5df8fc\n",
            "Successfully built python-Levenshtein\n",
            "Installing collected packages: python-Levenshtein\n",
            "Successfully installed python-Levenshtein-0.12.2\n"
          ],
          "name": "stdout"
        }
      ]
    },
    {
      "cell_type": "code",
      "metadata": {
        "id": "cO7MgIfVqRWg",
        "colab": {
          "base_uri": "https://localhost:8080/"
        },
        "outputId": "52f43676-65c3-4661-962e-5a5e3753b22a"
      },
      "source": [
        "import gensim.downloader as api\n",
        "from gensim.models.word2vec import Word2Vec\n",
        "from gensim.models.fasttext import FastText\n",
        "from gensim.models import Phrases\n",
        "from gensim.test.utils import get_tmpfile\n",
        "import transformers\n",
        "from textattack.models.tokenizers import AutoTokenizer\n",
        "from textattack.models.wrappers import HuggingFaceModelWrapper\n",
        "from textattack.transformations import WordSwap\n",
        "from textattack.search_methods import GreedySearch, GreedyWordSwapWIR\n",
        "from textattack.constraints.overlap import LevenshteinEditDistance\n",
        "from textattack.constraints.pre_transformation import RepeatModification, StopwordModification\n",
        "from textattack.search_methods import ParticleSwarmOptimization\n",
        "from textattack.constraints.grammaticality import PartOfSpeech\n",
        "from textattack.shared import Attack\n",
        "from textattack.goal_functions import UntargetedClassification\n",
        "from textattack.datasets import HuggingFaceDataset\n",
        "from collections import deque\n",
        "\n",
        "import textattack\n",
        "import tqdm\n",
        "import time\n",
        "from IPython.display import display, HTML"
      ],
      "execution_count": 3,
      "outputs": [
        {
          "output_type": "stream",
          "text": [
            "\u001b[34;1mtextattack\u001b[0m: Updating TextAttack package dependencies.\n",
            "\u001b[34;1mtextattack\u001b[0m: Downloading NLTK required packages.\n"
          ],
          "name": "stderr"
        },
        {
          "output_type": "stream",
          "text": [
            "[nltk_data] Downloading package averaged_perceptron_tagger to\n",
            "[nltk_data]     /root/nltk_data...\n",
            "[nltk_data]   Unzipping taggers/averaged_perceptron_tagger.zip.\n",
            "[nltk_data] Downloading package stopwords to /root/nltk_data...\n",
            "[nltk_data]   Unzipping corpora/stopwords.zip.\n",
            "[nltk_data] Downloading package omw to /root/nltk_data...\n",
            "[nltk_data]   Unzipping corpora/omw.zip.\n",
            "[nltk_data] Downloading package universal_tagset to /root/nltk_data...\n",
            "[nltk_data]   Unzipping taggers/universal_tagset.zip.\n",
            "[nltk_data] Downloading package wordnet to /root/nltk_data...\n",
            "[nltk_data]   Unzipping corpora/wordnet.zip.\n",
            "[nltk_data] Downloading package punkt to /root/nltk_data...\n",
            "[nltk_data]   Unzipping tokenizers/punkt.zip.\n"
          ],
          "name": "stdout"
        },
        {
          "output_type": "stream",
          "text": [
            "\u001b[34;1mtextattack\u001b[0m: Downloading https://textattack.s3.amazonaws.com/word_embeddings/paragramcf.\n",
            "100%|██████████| 481M/481M [00:21<00:00, 22.6MB/s]\n",
            "\u001b[34;1mtextattack\u001b[0m: Unzipping file /root/.cache/textattack/tmpxqzt6w34.zip to /root/.cache/textattack/word_embeddings/paragramcf.\n",
            "\u001b[34;1mtextattack\u001b[0m: Successfully saved word_embeddings/paragramcf to cache.\n"
          ],
          "name": "stderr"
        }
      ]
    },
    {
      "cell_type": "code",
      "metadata": {
        "id": "XbSBo02xDGO2"
      },
      "source": [
        "# import gensim.downloader as api\n",
        "# corpus = api.load('text8')\n",
        "# from gensim.models.fasttext import FastText\n",
        "# model1 = FastText(corpus, sample = 0, sg = 1)"
      ],
      "execution_count": null,
      "outputs": []
    },
    {
      "cell_type": "code",
      "metadata": {
        "id": "jLiSrpmTErOs"
      },
      "source": [
        "# import gensim.downloader as api\n",
        "# corpus = api.load('text8')\n",
        "# from gensim.models.word2vec import Word2Vec\n",
        "# model2 = Word2Vec(corpus, sample = 0, sg = 1)"
      ],
      "execution_count": null,
      "outputs": []
    },
    {
      "cell_type": "markdown",
      "metadata": {
        "id": "d-SeQSyZRVZk"
      },
      "source": [
        "# Loading FastText, Word2Vec and Glove"
      ]
    },
    {
      "cell_type": "code",
      "metadata": {
        "id": "ZCLiyaHYDBk1"
      },
      "source": [
        "from gensim.test.utils import get_tmpfile\n",
        "from gensim.models.fasttext import FastText\n",
        "#fname = get_tmpfile(\"/models/fasttext.model\") \n",
        "model1 = FastText.load(\"/content/drive/MyDrive/models/fasttext.model\") # Change this location"
      ],
      "execution_count": 4,
      "outputs": []
    },
    {
      "cell_type": "code",
      "metadata": {
        "id": "e4jwSL5YDvPy"
      },
      "source": [
        "from gensim.test.utils import get_tmpfile\n",
        "from gensim.models.word2vec import Word2Vec\n",
        "#fname1 = get_tmpfile(\"/models/word2vec.model\") \n",
        "model2 = Word2Vec.load(\"/content/drive/MyDrive/models/word2vec.model\") # Change this location"
      ],
      "execution_count": 5,
      "outputs": []
    },
    {
      "cell_type": "code",
      "metadata": {
        "id": "NC2kXo7wLsAd"
      },
      "source": [
        "from gensim.models import KeyedVectors\n",
        "model3=KeyedVectors.load('/content/drive/MyDrive/models/gloveKeyVectors.kv')"
      ],
      "execution_count": 6,
      "outputs": []
    },
    {
      "cell_type": "markdown",
      "metadata": {
        "id": "aTtS6UrJRc4S"
      },
      "source": [
        "Example demonstration"
      ]
    },
    {
      "cell_type": "code",
      "metadata": {
        "id": "l1xXXw5tFbuM",
        "colab": {
          "base_uri": "https://localhost:8080/"
        },
        "outputId": "99fe37de-549e-497a-846a-8d47975bc0e1"
      },
      "source": [
        "print(model1.wv.most_similar('cat'))\n",
        "print(model2.wv.most_similar('cat'))\n",
        "print(model3.most_similar('cat'))"
      ],
      "execution_count": 7,
      "outputs": [
        {
          "output_type": "stream",
          "text": [
            "[('bobcat', 0.759185791015625), ('dog', 0.7208123803138733), ('foxglove', 0.7110776901245117), ('pig', 0.7088143229484558), ('goose', 0.7069101333618164), ('cats', 0.702387273311615), ('beak', 0.7008379697799683), ('catfish', 0.6987316608428955), ('foxhound', 0.696578860282898), ('catnip', 0.6960986852645874)]\n",
            "[('dog', 0.7193913459777832), ('squirrel', 0.696162760257721), ('leopardus', 0.6945451498031616), ('prionailurus', 0.688106894493103), ('albino', 0.6880608201026917), ('bird', 0.6836060285568237), ('eared', 0.6803243160247803), ('rhinoceros', 0.6769237518310547), ('hyena', 0.6756084561347961), ('badger', 0.6752869486808777)]\n",
            "[('cats', 0.7006820440292358), ('dog', 0.698471188545227), ('dogs', 0.6442825198173523), ('tervueren', 0.619421660900116), ('laekenois', 0.5972026586532593), ('lica', 0.5956287980079651), ('feral', 0.5899650454521179), ('goat', 0.5861616134643555), ('fish', 0.5746133327484131), ('malinois', 0.5737614631652832)]\n"
          ],
          "name": "stdout"
        }
      ]
    },
    {
      "cell_type": "code",
      "metadata": {
        "colab": {
          "base_uri": "https://localhost:8080/"
        },
        "id": "Z0RyPQdKNH2u",
        "outputId": "ae518b62-18f0-4d15-b82c-a93ff55a0642"
      },
      "source": [
        "if 'cat' in model3.key_to_index:\n",
        "  print('present')"
      ],
      "execution_count": 8,
      "outputs": [
        {
          "output_type": "stream",
          "text": [
            "present\n"
          ],
          "name": "stdout"
        }
      ]
    },
    {
      "cell_type": "markdown",
      "metadata": {
        "id": "0h_EeHEKRhYs"
      },
      "source": [
        "# Distilbert Base Cased-QQP"
      ]
    },
    {
      "cell_type": "code",
      "metadata": {
        "id": "QfecgI6BExUJ",
        "colab": {
          "base_uri": "https://localhost:8080/",
          "height": 264,
          "referenced_widgets": [
            "29c26a6cce6149aaa9080af17548067d",
            "8afea210e7354fc1866f96566d89f309",
            "8bb2cc4f332d4e3795135949583282e5",
            "b0d0eb556c6b4eb9a6776d175be91fb6",
            "93fa8ea602a44d6eb49dce55631b8bf4",
            "0a271ce5a045415da2edd3692858831e",
            "d0b2de0540f84df29b1fbe04d8d1b2f5",
            "dd995402069b4e66a766117c3bcd4025",
            "bb3f129b098546928b1fe6cb679581d1",
            "dae2bbb512f041e5ba146b093763fcbd",
            "a1c16bc908354bceaa3c2d45e23c750f",
            "c7c437e066d5415d800c76db38034eb7",
            "7ceb0f6ff9404ca0a8cccef93d58d858",
            "a8d68ddd6e284afeaa5c4c1061e5a7fc",
            "9c82cd129b16494f8651c7b5e6d30f8d",
            "ab23731c2ee84dfd93b964371f54971b",
            "cd8fd8145412450abf702c330b362873",
            "b9496c336e76415398b984268e2b9471",
            "71657550ef9d41e1bc7a24f38cf76fa3",
            "65592fc6b0944caaa5a35fe7ce3d6357",
            "75416a2b874942d08f7ea40b85d340f2",
            "313e42946e384962a6e8be4b7d135401",
            "7a41f3d72f994c7a8d0b2c1ce2db1b72",
            "a140879fce2e477a895b2a859fd35540",
            "92f5eecbbaf14a588b227ab475c7c0c5",
            "ba46c6c794914c6c91104c2b66452a04",
            "39b0d236cea041e1b2107775710bfca8",
            "57a264730e7342948571ec207ab629f0",
            "0567d4dcadf74f98ae23a79b85069922",
            "745af99216674fbda2c53d1ae9d0e3db",
            "097172c0f9ce4f488f03fe264fda22c0",
            "850aed8703454a0a96daf03117808ba9",
            "285f348a4d77437da6bed807679692d6",
            "adbc450899084f6ca1000f028c4dd500",
            "af97bf5698dd4dd4b6c6bedfc9832d43",
            "3f9c7b06905147b6817fece28368f988",
            "5cfed9b241c944c7b6a820c1814bf3bc",
            "d710d80b23d549ef81af67431af24019",
            "f17ce055a9cf4ac898b051ee690ff004",
            "aa74862cb1a945818b80d55133304d32"
          ]
        },
        "outputId": "b9437909-a24a-4fdf-8f33-f323c60df2c0"
      },
      "source": [
        "# Import the model\n",
        "import transformers\n",
        "from textattack.models.tokenizers import AutoTokenizer\n",
        "from textattack.models.wrappers import HuggingFaceModelWrapper\n",
        "\n",
        "model = transformers.AutoModelForSequenceClassification.from_pretrained(\"textattack/distilbert-base-cased-SST-2\")\n",
        "tokenizer = AutoTokenizer(\"textattack/distilbert-base-cased-SST-2\")\n",
        "# Change these\n",
        "\n",
        "model_wrapper = HuggingFaceModelWrapper(model, tokenizer)"
      ],
      "execution_count": 9,
      "outputs": [
        {
          "output_type": "display_data",
          "data": {
            "application/vnd.jupyter.widget-view+json": {
              "model_id": "29c26a6cce6149aaa9080af17548067d",
              "version_minor": 0,
              "version_major": 2
            },
            "text/plain": [
              "HBox(children=(FloatProgress(value=0.0, description='Downloading', max=509.0, style=ProgressStyle(description_…"
            ]
          },
          "metadata": {
            "tags": []
          }
        },
        {
          "output_type": "stream",
          "text": [
            "\n"
          ],
          "name": "stdout"
        },
        {
          "output_type": "display_data",
          "data": {
            "application/vnd.jupyter.widget-view+json": {
              "model_id": "bb3f129b098546928b1fe6cb679581d1",
              "version_minor": 0,
              "version_major": 2
            },
            "text/plain": [
              "HBox(children=(FloatProgress(value=0.0, description='Downloading', max=263157278.0, style=ProgressStyle(descri…"
            ]
          },
          "metadata": {
            "tags": []
          }
        },
        {
          "output_type": "stream",
          "text": [
            "\n"
          ],
          "name": "stdout"
        },
        {
          "output_type": "display_data",
          "data": {
            "application/vnd.jupyter.widget-view+json": {
              "model_id": "cd8fd8145412450abf702c330b362873",
              "version_minor": 0,
              "version_major": 2
            },
            "text/plain": [
              "HBox(children=(FloatProgress(value=0.0, description='Downloading', max=213450.0, style=ProgressStyle(descripti…"
            ]
          },
          "metadata": {
            "tags": []
          }
        },
        {
          "output_type": "stream",
          "text": [
            "\n"
          ],
          "name": "stdout"
        },
        {
          "output_type": "display_data",
          "data": {
            "application/vnd.jupyter.widget-view+json": {
              "model_id": "92f5eecbbaf14a588b227ab475c7c0c5",
              "version_minor": 0,
              "version_major": 2
            },
            "text/plain": [
              "HBox(children=(FloatProgress(value=0.0, description='Downloading', max=112.0, style=ProgressStyle(description_…"
            ]
          },
          "metadata": {
            "tags": []
          }
        },
        {
          "output_type": "stream",
          "text": [
            "\n"
          ],
          "name": "stdout"
        },
        {
          "output_type": "display_data",
          "data": {
            "application/vnd.jupyter.widget-view+json": {
              "model_id": "285f348a4d77437da6bed807679692d6",
              "version_minor": 0,
              "version_major": 2
            },
            "text/plain": [
              "HBox(children=(FloatProgress(value=0.0, description='Downloading', max=49.0, style=ProgressStyle(description_w…"
            ]
          },
          "metadata": {
            "tags": []
          }
        },
        {
          "output_type": "stream",
          "text": [
            "\n"
          ],
          "name": "stdout"
        }
      ]
    },
    {
      "cell_type": "markdown",
      "metadata": {
        "id": "HPj8fvaOFDAD"
      },
      "source": [
        "# Framing fasttext attack"
      ]
    },
    {
      "cell_type": "code",
      "metadata": {
        "id": "SHezFH9jE3Z2"
      },
      "source": [
        "from textattack.transformations import WordSwap\n",
        "\n",
        "class Swapper(WordSwap): # For fasttext\n",
        "    \"\"\" Transforms an input by replacing any word with its most similar counterpart\n",
        "    \"\"\"\n",
        "\n",
        "    # We don't need a constructor, since our class doesn't require any parameters.\n",
        "\n",
        "    def _get_replacement_words(self, word):\n",
        "        for i in range(10):\n",
        "            if word.lower() in model1.wv.most_similar(word)[i][0].lower():\n",
        "                continue # Don't return the exact word\n",
        "            elif word.isupper():\n",
        "                return [model1.wv.most_similar(word)[i][0].upper()] # Preserving case\n",
        "            elif word[0].isupper():\n",
        "                return [model1.wv.most_similar(word)[i][0].capitalize()] # Preserving Capitalization in words\n",
        "            else:\n",
        "                return [model1.wv.most_similar(word)[i][0]]\n",
        "            \n",
        "        return [model1.wv.most_similar(word)[0][0]]"
      ],
      "execution_count": 10,
      "outputs": []
    },
    {
      "cell_type": "code",
      "metadata": {
        "id": "GHt_A9Sril_j"
      },
      "source": [
        "def attack_stats(attack, dataset, num_of_examples=25):\n",
        "  print(attack)\n",
        "  num_examples = num_of_examples\n",
        "  num_remaining_attacks = num_examples\n",
        "  pbar = tqdm.tqdm(total=num_remaining_attacks, smoothing=0)\n",
        "\n",
        "  worklist = deque(range(0, num_examples))\n",
        "  worklist_tail = worklist[-1]\n",
        "\n",
        "  attack_log_manager = textattack.loggers.AttackLogManager()\n",
        "\n",
        "  load_time = time.time()\n",
        "        \n",
        "  num_results = 0\n",
        "  num_failures = 0\n",
        "  num_successes = 0\n",
        "  for result in attack.attack_dataset(dataset, indices=worklist):\n",
        "      result_html_str = result.__str__(color_method=\"html\").replace(\"\\n\\n\", \"<br>\")\n",
        "      display(HTML(result_html_str))\n",
        "      attack_log_manager.log_result(result)\n",
        "            \n",
        "      if not isinstance(result, textattack.attack_results.SkippedAttackResult):\n",
        "          pbar.update(1)\n",
        "      else:\n",
        "          worklist_tail += 1\n",
        "          pbar.update(1)\n",
        "          worklist.append(worklist_tail)\n",
        "\n",
        "      num_results += 1\n",
        "\n",
        "      if (type(result) == textattack.attack_results.SuccessfulAttackResult\n",
        "        or type(result) == textattack.attack_results.MaximizedAttackResult):\n",
        "          num_successes += 1\n",
        "                \n",
        "      if type(result) == textattack.attack_results.FailedAttackResult:\n",
        "          num_failures += 1\n",
        "      pbar.set_description(\n",
        "          \"[Succeeded / Failed / Total] {} / {} / {}\".format(\n",
        "            num_successes, num_failures, num_results\n",
        "        )\n",
        "      )\n",
        "\n",
        "  pbar.close()\n",
        "\n",
        "  attack_log_manager.enable_stdout()\n",
        "  attack_log_manager.log_summary()\n",
        "  attack_log_manager.flush()\n",
        "        \n",
        "  textattack.shared.logger.info(f\"Attack time: {time.time() - load_time}s\")"
      ],
      "execution_count": 11,
      "outputs": []
    },
    {
      "cell_type": "markdown",
      "metadata": {
        "id": "B3wNfSaqsoXo"
      },
      "source": [
        "### FastText, GreedySearch, RepeatModification, StopwordModification"
      ]
    },
    {
      "cell_type": "code",
      "metadata": {
        "id": "Sm04Ri8WFGHy",
        "colab": {
          "base_uri": "https://localhost:8080/",
          "height": 254,
          "referenced_widgets": [
            "fa996aa2a374482b9fd35bab0dcf4d89",
            "0caec19d9d044cde95499052532dd5d3",
            "3a73268dc2df498aa7e7b20e2345d8c2",
            "aa98bf63fb7046959f2db579dd66b76b",
            "affeb151bab64ec1a3018e2b5c75640e",
            "c1cdec313968458ab6455d2667c28253",
            "6f759c41dd5a4dad899247743efbf424",
            "47344d75015d46548253311658e6724f",
            "d9c062f32efc4b63b7f9386b42552ca6",
            "317e8053034548dfaca4b55e9fa82767",
            "e937c0fc0163479486c5657ce153732f",
            "cfdb2ed1036d4e70af4bec274b0b84b0",
            "c2da53b6fb7c4f86b703daaa0f7cd27d",
            "544bbafaa3f740a2bc212e94e1968cb3",
            "9bc0fa01a7a44adea210ad56428ee65f",
            "321d0b1d84524b13bfb51cf848c95d3a",
            "6438c0ff311b4e4182d889e581863a04",
            "3cb448163f524973800470195dbe1c1e",
            "e0ec1227e4754135a5ebdeea4037289b",
            "6318ba33a072493fbccdac3ba596d577",
            "6549ee23aa044438b517516d402cb020",
            "1458e383028c4b638625450ad34140d8",
            "977c8cd3d5bf402bb709c3aa6df79163",
            "63ff045d5bf94d72a2c3028e6a613938",
            "910b9a6131ed4568bea016caef1c4fa8",
            "243431d4b9e54930b159eb29b1d50f38",
            "49416f1ea0ca4186b81cd888f950533b",
            "6e288e1f43bd495b8f411b20a25697da",
            "1f23a63890fe4e0facdcb989cd6e4b1e",
            "3d2a1a0ceb6149aeb34110c7254c7ae2",
            "eb629b37f3f041578c1e40366be4d853",
            "ff90c2809a1e498c8f3c7be7351bb3b7",
            "a7041dc030c74b7db84de3397d225be4",
            "d047ef652947476dba950a7de5fa8c27",
            "536d33a5b4614c89985f0320cb82b844",
            "c102bef959784bd78c53d407894f8ea6",
            "19eb9bd4157e47859bbc9fe1a670e925",
            "722186807b524439927ba9754df2a080",
            "c8f8d7520cd54f7d9517d78a0cf63317",
            "bf2d58ed5db943078b5cb8496a07235b",
            "1a3906e6d087456e8e4219b86e6a07bb",
            "ef08b15758c046559fc99d9ef88af838",
            "5e5c28b3d6b743f99520e28c5df6fa0c",
            "c9a9827ec1d443a484796a3823814592",
            "c55c4f9c30bf4844a31fc13960d5f72f",
            "e8b0e0fa11914e409d12b302a50876b9",
            "5fd7267601f547f99fb56f0819263d44",
            "1dbfef115d6940179b2d38249e0fbbfa"
          ]
        },
        "outputId": "23a9fdd8-a6f3-4534-b19c-70cfbd1e233f"
      },
      "source": [
        "\n",
        "# We're going to use our word swap class as the attack transformation.\n",
        "transformation = Swapper()\n",
        "\n",
        "constraints = [RepeatModification(),\n",
        "               StopwordModification()]\n",
        "\n",
        "search_method = GreedySearch()\n",
        "\n",
        "goal_function = UntargetedClassification(model_wrapper)\n",
        "\n",
        "# Now, let's make the attack from the 4 components:\n",
        "attack = Attack(goal_function, constraints, transformation, search_method)\n",
        "\n",
        "dataset = HuggingFaceDataset(\"glue\", \"sst2\", \"validation\") # Change the dataset"
      ],
      "execution_count": 12,
      "outputs": [
        {
          "output_type": "stream",
          "text": [
            "\u001b[34;1mtextattack\u001b[0m: Unknown if model of class <class 'transformers.models.distilbert.modeling_distilbert.DistilBertForSequenceClassification'> compatible with goal function <class 'textattack.goal_functions.classification.untargeted_classification.UntargetedClassification'>.\n"
          ],
          "name": "stderr"
        },
        {
          "output_type": "display_data",
          "data": {
            "application/vnd.jupyter.widget-view+json": {
              "model_id": "fa996aa2a374482b9fd35bab0dcf4d89",
              "version_minor": 0,
              "version_major": 2
            },
            "text/plain": [
              "HBox(children=(FloatProgress(value=0.0, description='Downloading', max=7777.0, style=ProgressStyle(description…"
            ]
          },
          "metadata": {
            "tags": []
          }
        },
        {
          "output_type": "stream",
          "text": [
            "\n"
          ],
          "name": "stdout"
        },
        {
          "output_type": "display_data",
          "data": {
            "application/vnd.jupyter.widget-view+json": {
              "model_id": "d9c062f32efc4b63b7f9386b42552ca6",
              "version_minor": 0,
              "version_major": 2
            },
            "text/plain": [
              "HBox(children=(FloatProgress(value=0.0, description='Downloading', max=4473.0, style=ProgressStyle(description…"
            ]
          },
          "metadata": {
            "tags": []
          }
        },
        {
          "output_type": "stream",
          "text": [
            "\n",
            "Downloading and preparing dataset glue/sst2 (download: 7.09 MiB, generated: 4.81 MiB, post-processed: Unknown size, total: 11.90 MiB) to /root/.cache/huggingface/datasets/glue/sst2/1.0.0/dacbe3125aa31d7f70367a07a8a9e72a5a0bfeb5fc42e75c9db75b96da6053ad...\n"
          ],
          "name": "stdout"
        },
        {
          "output_type": "display_data",
          "data": {
            "application/vnd.jupyter.widget-view+json": {
              "model_id": "6438c0ff311b4e4182d889e581863a04",
              "version_minor": 0,
              "version_major": 2
            },
            "text/plain": [
              "HBox(children=(FloatProgress(value=0.0, description='Downloading', max=7439277.0, style=ProgressStyle(descript…"
            ]
          },
          "metadata": {
            "tags": []
          }
        },
        {
          "output_type": "stream",
          "text": [
            "\n"
          ],
          "name": "stdout"
        },
        {
          "output_type": "display_data",
          "data": {
            "application/vnd.jupyter.widget-view+json": {
              "model_id": "910b9a6131ed4568bea016caef1c4fa8",
              "version_minor": 0,
              "version_major": 2
            },
            "text/plain": [
              "HBox(children=(FloatProgress(value=1.0, bar_style='info', max=1.0), HTML(value='')))"
            ]
          },
          "metadata": {
            "tags": []
          }
        },
        {
          "output_type": "stream",
          "text": [
            "\r"
          ],
          "name": "stdout"
        },
        {
          "output_type": "display_data",
          "data": {
            "application/vnd.jupyter.widget-view+json": {
              "model_id": "a7041dc030c74b7db84de3397d225be4",
              "version_minor": 0,
              "version_major": 2
            },
            "text/plain": [
              "HBox(children=(FloatProgress(value=1.0, bar_style='info', max=1.0), HTML(value='')))"
            ]
          },
          "metadata": {
            "tags": []
          }
        },
        {
          "output_type": "stream",
          "text": [
            "\r"
          ],
          "name": "stdout"
        },
        {
          "output_type": "display_data",
          "data": {
            "application/vnd.jupyter.widget-view+json": {
              "model_id": "1a3906e6d087456e8e4219b86e6a07bb",
              "version_minor": 0,
              "version_major": 2
            },
            "text/plain": [
              "HBox(children=(FloatProgress(value=1.0, bar_style='info', max=1.0), HTML(value='')))"
            ]
          },
          "metadata": {
            "tags": []
          }
        },
        {
          "output_type": "stream",
          "text": [
            "\r"
          ],
          "name": "stdout"
        },
        {
          "output_type": "stream",
          "text": [
            "\u001b[34;1mtextattack\u001b[0m: Loading \u001b[94mdatasets\u001b[0m dataset \u001b[94mglue\u001b[0m, subset \u001b[94msst2\u001b[0m, split \u001b[94mvalidation\u001b[0m.\n"
          ],
          "name": "stderr"
        },
        {
          "output_type": "stream",
          "text": [
            "Dataset glue downloaded and prepared to /root/.cache/huggingface/datasets/glue/sst2/1.0.0/dacbe3125aa31d7f70367a07a8a9e72a5a0bfeb5fc42e75c9db75b96da6053ad. Subsequent calls will reuse this data.\n"
          ],
          "name": "stdout"
        }
      ]
    },
    {
      "cell_type": "code",
      "metadata": {
        "id": "fClGtuFxFM5f",
        "colab": {
          "base_uri": "https://localhost:8080/",
          "height": 1000
        },
        "outputId": "15fdbb2b-fd04-4fb8-bf5b-6e9d91fe3a62"
      },
      "source": [
        "attack_stats(attack, dataset, 25)"
      ],
      "execution_count": 13,
      "outputs": [
        {
          "output_type": "stream",
          "text": [
            "\r  0%|          | 0/25 [00:00<?, ?it/s]"
          ],
          "name": "stderr"
        },
        {
          "output_type": "stream",
          "text": [
            "Attack(\n",
            "  (search_method): GreedySearch\n",
            "  (goal_function):  UntargetedClassification\n",
            "  (transformation):  Swapper\n",
            "  (constraints): \n",
            "    (0): RepeatModification\n",
            "    (1): StopwordModification\n",
            "  (is_black_box):  True\n",
            ")\n"
          ],
          "name": "stdout"
        },
        {
          "output_type": "display_data",
          "data": {
            "text/html": [
              "<font color = green>Positive (100%)</font> --> <font color = red>[FAILED]</font><br>it 's a charming and often affecting journey . "
            ],
            "text/plain": [
              "<IPython.core.display.HTML object>"
            ]
          },
          "metadata": {
            "tags": []
          }
        },
        {
          "output_type": "stream",
          "text": [
            "[Succeeded / Failed / Total] 0 / 1 / 1:   4%|▍         | 1/25 [00:00<00:15,  1.56it/s]"
          ],
          "name": "stderr"
        },
        {
          "output_type": "display_data",
          "data": {
            "text/html": [
              "<font color = red>Negative (99%)</font> --> <font color = green>Positive (60%)</font><br>unflinchingly <font color = red>bleak</font> and <font color = red>desperate</font> <br>unflinchingly <font color = green>bleach</font> and <font color = green>recuperate</font> "
            ],
            "text/plain": [
              "<IPython.core.display.HTML object>"
            ]
          },
          "metadata": {
            "tags": []
          }
        },
        {
          "output_type": "stream",
          "text": [
            "[Succeeded / Failed / Total] 1 / 1 / 2:   8%|▊         | 2/25 [00:00<00:09,  2.40it/s]"
          ],
          "name": "stderr"
        },
        {
          "output_type": "display_data",
          "data": {
            "text/html": [
              "<font color = green>Positive (100%)</font> --> <font color = red>Negative (92%)</font><br>allows us to hope that nolan is poised to embark a major <font color = green>career</font> as a commercial <font color = green>yet</font> <font color = green>inventive</font> <font color = green>filmmaker</font> . <br>allows us to hope that nolan is poised to embark a major <font color = red>retirement</font> as a commercial <font color = red>obviously</font> <font color = red>inventing</font> <font color = red>screenwriter</font> . "
            ],
            "text/plain": [
              "<IPython.core.display.HTML object>"
            ]
          },
          "metadata": {
            "tags": []
          }
        },
        {
          "output_type": "stream",
          "text": [
            "[Succeeded / Failed / Total] 2 / 1 / 3:  12%|█▏        | 3/25 [00:01<00:14,  1.51it/s]"
          ],
          "name": "stderr"
        },
        {
          "output_type": "display_data",
          "data": {
            "text/html": [
              "<font color = green>Positive (100%)</font> --> <font color = red>[FAILED]</font><br>the acting , costumes , music , cinematography and sound are all astounding given the production 's austere locales . "
            ],
            "text/plain": [
              "<IPython.core.display.HTML object>"
            ]
          },
          "metadata": {
            "tags": []
          }
        },
        {
          "output_type": "stream",
          "text": [
            "[Succeeded / Failed / Total] 2 / 2 / 4:  16%|█▌        | 4/25 [00:03<00:19,  1.10it/s]"
          ],
          "name": "stderr"
        },
        {
          "output_type": "display_data",
          "data": {
            "text/html": [
              "<font color = red>Negative (100%)</font> --> <font color = red>[FAILED]</font><br>it 's slow -- very , very slow . "
            ],
            "text/plain": [
              "<IPython.core.display.HTML object>"
            ]
          },
          "metadata": {
            "tags": []
          }
        },
        {
          "output_type": "stream",
          "text": [
            "[Succeeded / Failed / Total] 2 / 3 / 5:  20%|██        | 5/25 [00:03<00:15,  1.32it/s]"
          ],
          "name": "stderr"
        },
        {
          "output_type": "display_data",
          "data": {
            "text/html": [
              "<font color = green>Positive (100%)</font> --> <font color = red>[FAILED]</font><br>although laced with humor and a few fanciful touches , the film is a refreshingly serious look at young women . "
            ],
            "text/plain": [
              "<IPython.core.display.HTML object>"
            ]
          },
          "metadata": {
            "tags": []
          }
        },
        {
          "output_type": "stream",
          "text": [
            "[Succeeded / Failed / Total] 2 / 4 / 6:  24%|██▍       | 6/25 [00:05<00:17,  1.07it/s]"
          ],
          "name": "stderr"
        },
        {
          "output_type": "display_data",
          "data": {
            "text/html": [
              "<font color = red>Negative (99%)</font> --> <font color = red>[FAILED]</font><br>a sometimes tedious film . "
            ],
            "text/plain": [
              "<IPython.core.display.HTML object>"
            ]
          },
          "metadata": {
            "tags": []
          }
        },
        {
          "output_type": "stream",
          "text": [
            "[Succeeded / Failed / Total] 2 / 5 / 7:  28%|██▊       | 7/25 [00:05<00:14,  1.21it/s]"
          ],
          "name": "stderr"
        },
        {
          "output_type": "display_data",
          "data": {
            "text/html": [
              "<font color = red>Negative (98%)</font> --> <font color = red>[FAILED]</font><br>or doing last year 's taxes with your ex-wife . "
            ],
            "text/plain": [
              "<IPython.core.display.HTML object>"
            ]
          },
          "metadata": {
            "tags": []
          }
        },
        {
          "output_type": "stream",
          "text": [
            "[Succeeded / Failed / Total] 2 / 6 / 8:  32%|███▏      | 8/25 [00:06<00:12,  1.33it/s]"
          ],
          "name": "stderr"
        },
        {
          "output_type": "display_data",
          "data": {
            "text/html": [
              "<font color = green>Positive (100%)</font> --> <font color = red>Negative (52%)</font><br>you do n't have to know about music to <font color = green>appreciate</font> the film 's <font color = green>easygoing</font> <font color = green>blend</font> of <font color = green>comedy</font> and <font color = green>romance</font> . <br>you do n't have to know about music to <font color = red>appreciating</font> the film 's <font color = red>foregoing</font> <font color = red>texture</font> of <font color = red>comedies</font> and <font color = red>romanic</font> . "
            ],
            "text/plain": [
              "<IPython.core.display.HTML object>"
            ]
          },
          "metadata": {
            "tags": []
          }
        },
        {
          "output_type": "stream",
          "text": [
            "[Succeeded / Failed / Total] 3 / 6 / 9:  36%|███▌      | 9/25 [00:06<00:12,  1.29it/s]"
          ],
          "name": "stderr"
        },
        {
          "output_type": "display_data",
          "data": {
            "text/html": [
              "<font color = red>Negative (100%)</font> --> <font color = red>[FAILED]</font><br>in exactly 89 minutes , most of which passed as slowly as if i 'd been sitting naked on an igloo , formula 51 sank from quirky to jerky to utter turkey . "
            ],
            "text/plain": [
              "<IPython.core.display.HTML object>"
            ]
          },
          "metadata": {
            "tags": []
          }
        },
        {
          "output_type": "stream",
          "text": [
            "[Succeeded / Failed / Total] 3 / 7 / 10:  40%|████      | 10/25 [00:10<00:15,  1.03s/it]"
          ],
          "name": "stderr"
        },
        {
          "output_type": "display_data",
          "data": {
            "text/html": [
              "<font color = green>Positive (100%)</font> --> <font color = red>[FAILED]</font><br>the mesmerizing performances of the leads keep the film grounded and keep the audience riveted . "
            ],
            "text/plain": [
              "<IPython.core.display.HTML object>"
            ]
          },
          "metadata": {
            "tags": []
          }
        },
        {
          "output_type": "stream",
          "text": [
            "[Succeeded / Failed / Total] 3 / 8 / 11:  44%|████▍     | 11/25 [00:11<00:14,  1.04s/it]"
          ],
          "name": "stderr"
        },
        {
          "output_type": "display_data",
          "data": {
            "text/html": [
              "<font color = red>Negative (100%)</font> --> <font color = red>[FAILED]</font><br>it takes a strange kind of laziness to waste the talents of robert forster , anne meara , eugene levy , and reginald veljohnson all in the same movie . "
            ],
            "text/plain": [
              "<IPython.core.display.HTML object>"
            ]
          },
          "metadata": {
            "tags": []
          }
        },
        {
          "output_type": "stream",
          "text": [
            "[Succeeded / Failed / Total] 3 / 9 / 12:  48%|████▊     | 12/25 [00:14<00:15,  1.18s/it]"
          ],
          "name": "stderr"
        },
        {
          "output_type": "display_data",
          "data": {
            "text/html": [
              "<font color = red>Negative (100%)</font> --> <font color = red>[FAILED]</font><br>... the film suffers from a lack of humor ( something needed to balance out the violence ) ... "
            ],
            "text/plain": [
              "<IPython.core.display.HTML object>"
            ]
          },
          "metadata": {
            "tags": []
          }
        },
        {
          "output_type": "stream",
          "text": [
            "[Succeeded / Failed / Total] 3 / 10 / 13:  52%|█████▏    | 13/25 [00:15<00:13,  1.16s/it]"
          ],
          "name": "stderr"
        },
        {
          "output_type": "display_data",
          "data": {
            "text/html": [
              "<font color = green>Positive (91%)</font> --> <font color = red>Negative (84%)</font><br>we root for ( clara and paul ) , even like them , <font color = green>though</font> perhaps it 's an emotion closer to pity . <br>we root for ( clara and paul ) , even like them , <font color = red>however</font> perhaps it 's an emotion closer to pity . "
            ],
            "text/plain": [
              "<IPython.core.display.HTML object>"
            ]
          },
          "metadata": {
            "tags": []
          }
        },
        {
          "output_type": "stream",
          "text": [
            "[Succeeded / Failed / Total] 4 / 10 / 14:  56%|█████▌    | 14/25 [00:15<00:12,  1.10s/it]"
          ],
          "name": "stderr"
        },
        {
          "output_type": "display_data",
          "data": {
            "text/html": [
              "<font color = red>Negative (100%)</font> --> <font color = red>[FAILED]</font><br>even horror fans will most likely not find what they 're seeking with trouble every day ; the movie lacks both thrills and humor . "
            ],
            "text/plain": [
              "<IPython.core.display.HTML object>"
            ]
          },
          "metadata": {
            "tags": []
          }
        },
        {
          "output_type": "stream",
          "text": [
            "[Succeeded / Failed / Total] 4 / 11 / 15:  60%|██████    | 15/25 [00:17<00:11,  1.18s/it]"
          ],
          "name": "stderr"
        },
        {
          "output_type": "display_data",
          "data": {
            "text/html": [
              "<font color = green>Positive (100%)</font> --> <font color = red>[FAILED]</font><br>a gorgeous , high-spirited musical from india that exquisitely blends music , dance , song , and high drama . "
            ],
            "text/plain": [
              "<IPython.core.display.HTML object>"
            ]
          },
          "metadata": {
            "tags": []
          }
        },
        {
          "output_type": "stream",
          "text": [
            "[Succeeded / Failed / Total] 4 / 12 / 16:  64%|██████▍   | 16/25 [00:19<00:10,  1.22s/it]"
          ],
          "name": "stderr"
        },
        {
          "output_type": "display_data",
          "data": {
            "text/html": [
              "<font color = green>Positive (100%)</font> --> <font color = red>[FAILED]</font><br>the emotions are raw and will strike a nerve with anyone who 's ever had family trauma . "
            ],
            "text/plain": [
              "<IPython.core.display.HTML object>"
            ]
          },
          "metadata": {
            "tags": []
          }
        },
        {
          "output_type": "stream",
          "text": [
            "[Succeeded / Failed / Total] 4 / 13 / 17:  68%|██████▊   | 17/25 [00:20<00:09,  1.20s/it]"
          ],
          "name": "stderr"
        },
        {
          "output_type": "display_data",
          "data": {
            "text/html": [
              "<font color = green>Positive (100%)</font> --> <font color = red>[FAILED]</font><br>audrey tatou has a knack for picking roles that magnify her outrageous charm , and in this literate french comedy , she 's as morning-glory exuberant as she was in amélie . "
            ],
            "text/plain": [
              "<IPython.core.display.HTML object>"
            ]
          },
          "metadata": {
            "tags": []
          }
        },
        {
          "output_type": "stream",
          "text": [
            "[Succeeded / Failed / Total] 4 / 14 / 18:  72%|███████▏  | 18/25 [00:22<00:08,  1.27s/it]"
          ],
          "name": "stderr"
        },
        {
          "output_type": "display_data",
          "data": {
            "text/html": [
              "<font color = red>Negative (100%)</font> --> <font color = red>[FAILED]</font><br>... the movie is just a plain old monster . "
            ],
            "text/plain": [
              "<IPython.core.display.HTML object>"
            ]
          },
          "metadata": {
            "tags": []
          }
        },
        {
          "output_type": "stream",
          "text": [
            "[Succeeded / Failed / Total] 4 / 15 / 19:  76%|███████▌  | 19/25 [00:23<00:07,  1.22s/it]"
          ],
          "name": "stderr"
        },
        {
          "output_type": "display_data",
          "data": {
            "text/html": [
              "<font color = red>Negative (100%)</font> --> <font color = green>Positive (92%)</font><br>in its best moments , resembles a <font color = red>bad</font> high school production of grease , without benefit of song . <br>in its best moments , resembles a <font color = green>good</font> high school production of grease , without benefit of song . "
            ],
            "text/plain": [
              "<IPython.core.display.HTML object>"
            ]
          },
          "metadata": {
            "tags": []
          }
        },
        {
          "output_type": "stream",
          "text": [
            "[Succeeded / Failed / Total] 5 / 15 / 20:  80%|████████  | 20/25 [00:23<00:05,  1.18s/it]"
          ],
          "name": "stderr"
        },
        {
          "output_type": "display_data",
          "data": {
            "text/html": [
              "<font color = red>Negative (96%)</font> --> <font color = green>Positive (84%)</font><br>pumpkin takes an admirable look at the hypocrisy of political correctness , but it does so with such an <font color = red>uneven</font> tone that you never know when humor ends and tragedy begins . <br>pumpkin takes an admirable look at the hypocrisy of political correctness , but it does so with such an <font color = green>unheated</font> tone that you never know when humor ends and tragedy begins . "
            ],
            "text/plain": [
              "<IPython.core.display.HTML object>"
            ]
          },
          "metadata": {
            "tags": []
          }
        },
        {
          "output_type": "stream",
          "text": [
            "[Succeeded / Failed / Total] 6 / 15 / 21:  84%|████████▍ | 21/25 [00:23<00:04,  1.14s/it]"
          ],
          "name": "stderr"
        },
        {
          "output_type": "display_data",
          "data": {
            "text/html": [
              "<font color = green>Positive (71%)</font> --> <font color = gray>[SKIPPED]</font><br>the iditarod lasts for days - this just felt like it did . "
            ],
            "text/plain": [
              "<IPython.core.display.HTML object>"
            ]
          },
          "metadata": {
            "tags": []
          }
        },
        {
          "output_type": "stream",
          "text": [
            "\r[Succeeded / Failed / Total] 6 / 15 / 22:  88%|████████▊ | 22/25 [00:23<00:03,  1.09s/it]"
          ],
          "name": "stderr"
        },
        {
          "output_type": "display_data",
          "data": {
            "text/html": [
              "<font color = green>Positive (64%)</font> --> <font color = gray>[SKIPPED]</font><br>holden caulfield did it better . "
            ],
            "text/plain": [
              "<IPython.core.display.HTML object>"
            ]
          },
          "metadata": {
            "tags": []
          }
        },
        {
          "output_type": "stream",
          "text": [
            "\r[Succeeded / Failed / Total] 6 / 15 / 23:  92%|█████████▏| 23/25 [00:23<00:02,  1.04s/it]"
          ],
          "name": "stderr"
        },
        {
          "output_type": "display_data",
          "data": {
            "text/html": [
              "<font color = green>Positive (100%)</font> --> <font color = red>[FAILED]</font><br>a delectable and intriguing thriller filled with surprises , read my lips is an original . "
            ],
            "text/plain": [
              "<IPython.core.display.HTML object>"
            ]
          },
          "metadata": {
            "tags": []
          }
        },
        {
          "output_type": "stream",
          "text": [
            "[Succeeded / Failed / Total] 6 / 16 / 24:  96%|█████████▌| 24/25 [00:24<00:01,  1.04s/it]"
          ],
          "name": "stderr"
        },
        {
          "output_type": "display_data",
          "data": {
            "text/html": [
              "<font color = green>Positive (100%)</font> --> <font color = red>Negative (79%)</font><br>seldom has a movie so <font color = green>closely</font> <font color = green>matched</font> the spirit of a man and his work . <br>seldom has a movie so <font color = red>loosely</font> <font color = red>scored</font> the spirit of a man and his work . "
            ],
            "text/plain": [
              "<IPython.core.display.HTML object>"
            ]
          },
          "metadata": {
            "tags": []
          }
        },
        {
          "output_type": "stream",
          "text": [
            "\r[Succeeded / Failed / Total] 7 / 16 / 25: 100%|██████████| 25/25 [00:25<00:00,  1.01s/it]"
          ],
          "name": "stderr"
        },
        {
          "output_type": "display_data",
          "data": {
            "text/html": [
              "<font color = red>Negative (100%)</font> --> <font color = red>[FAILED]</font><br>nicks , seemingly uncertain what 's going to make people laugh , runs the gamut from stale parody to raunchy sex gags to formula romantic comedy . "
            ],
            "text/plain": [
              "<IPython.core.display.HTML object>"
            ]
          },
          "metadata": {
            "tags": []
          }
        },
        {
          "output_type": "stream",
          "text": [
            "\r[Succeeded / Failed / Total] 7 / 17 / 26: : 26it [00:29,  1.13s/it]                      "
          ],
          "name": "stderr"
        },
        {
          "output_type": "display_data",
          "data": {
            "text/html": [
              "<font color = red>Negative (99%)</font> --> <font color = red>[FAILED]</font><br>the action switches between past and present , but the material link is too tenuous to anchor the emotional connections that purport to span a 125-year divide . "
            ],
            "text/plain": [
              "<IPython.core.display.HTML object>"
            ]
          },
          "metadata": {
            "tags": []
          }
        },
        {
          "output_type": "stream",
          "text": [
            "[Succeeded / Failed / Total] 7 / 18 / 27: : 27it [00:32,  1.19s/it]"
          ],
          "name": "stderr"
        },
        {
          "output_type": "stream",
          "text": [
            "+-------------------------------+--------+\n",
            "| Attack Results                |        |\n",
            "+-------------------------------+--------+\n",
            "| Number of successful attacks: | 7      |\n",
            "| Number of failed attacks:     | 18     |\n",
            "| Number of skipped attacks:    | 2      |\n",
            "| Original accuracy:            | 92.59% |\n",
            "| Accuracy under attack:        | 66.67% |\n",
            "| Attack success rate:          | 28.0%  |\n",
            "| Average perturbed word %:     | 17.98% |\n",
            "| Average num. words per input: | 16.33  |\n",
            "| Avg num queries:              | 49.16  |\n",
            "+-------------------------------+--------+"
          ],
          "name": "stdout"
        },
        {
          "output_type": "stream",
          "text": [
            "\n",
            "\u001b[34;1mtextattack\u001b[0m: Attack time: 32.19425129890442s\n"
          ],
          "name": "stderr"
        }
      ]
    },
    {
      "cell_type": "markdown",
      "metadata": {
        "id": "JjjKuY91FPqf"
      },
      "source": [
        "# Framing word2vec attack"
      ]
    },
    {
      "cell_type": "code",
      "metadata": {
        "id": "pp7L4aR6FRVP"
      },
      "source": [
        "class Swapper_(WordSwap): # For word2vec\n",
        "    \"\"\" Transforms an input by replacing any word with its most similar counterpart\n",
        "    \"\"\"\n",
        "\n",
        "    # We don't need a constructor, since our class doesn't require any parameters.\n",
        "\n",
        "    def _get_replacement_words(self, word):\n",
        "        \"\"\" Returns 'banana', no matter what 'word' was originally.\n",
        "\n",
        "            Returns a list with one item, since `_get_replacement_words` is intended to\n",
        "                return a list of candidate replacement words.\n",
        "        \"\"\"\n",
        "        if word in model2.wv.key_to_index:\n",
        "            for i in range(10):\n",
        "                if word.lower() in model2.wv.most_similar(word)[i][0].lower():\n",
        "                    continue\n",
        "                elif word.isupper():\n",
        "                    return [model2.wv.most_similar(word)[i][0].upper()]\n",
        "                elif word[0].isupper():\n",
        "                    return [model2.wv.most_similar(word)[i][0].capitalize()]\n",
        "                else:\n",
        "                    return [model2.wv.most_similar(word)[i][0]]\n",
        "        else:\n",
        "            return [word]"
      ],
      "execution_count": 14,
      "outputs": []
    },
    {
      "cell_type": "markdown",
      "metadata": {
        "id": "ZPjjq1FGs0Vs"
      },
      "source": [
        "### Word2vec, GreedySearch, RepeatModification, StopwordModification"
      ]
    },
    {
      "cell_type": "code",
      "metadata": {
        "id": "enY5C3DDBwlo",
        "colab": {
          "base_uri": "https://localhost:8080/"
        },
        "outputId": "d5b2833f-24ad-4a50-be3b-d61200690509"
      },
      "source": [
        "# We're going to use our word swap class as the attack transformation.\n",
        "transformation = Swapper_()\n",
        "\n",
        "constraints = [RepeatModification(),\n",
        "               StopwordModification()]\n",
        "\n",
        "search_method = GreedySearch()\n",
        "\n",
        "goal_function = UntargetedClassification(model_wrapper)\n",
        "\n",
        "# Now, let's make the attack from the 4 components:\n",
        "attack = Attack(goal_function, constraints, transformation, search_method)\n"
      ],
      "execution_count": 15,
      "outputs": [
        {
          "output_type": "stream",
          "text": [
            "\u001b[34;1mtextattack\u001b[0m: Unknown if model of class <class 'transformers.models.distilbert.modeling_distilbert.DistilBertForSequenceClassification'> compatible with goal function <class 'textattack.goal_functions.classification.untargeted_classification.UntargetedClassification'>.\n"
          ],
          "name": "stderr"
        }
      ]
    },
    {
      "cell_type": "code",
      "metadata": {
        "colab": {
          "base_uri": "https://localhost:8080/"
        },
        "id": "axfmmqOUlwtU",
        "outputId": "81bd1700-b3eb-406b-ee2e-1ae41c7f9716"
      },
      "source": [
        "print(attack)"
      ],
      "execution_count": 16,
      "outputs": [
        {
          "output_type": "stream",
          "text": [
            "Attack(\n",
            "  (search_method): GreedySearch\n",
            "  (goal_function):  UntargetedClassification\n",
            "  (transformation):  Swapper_\n",
            "  (constraints): \n",
            "    (0): RepeatModification\n",
            "    (1): StopwordModification\n",
            "  (is_black_box):  True\n",
            ")\n"
          ],
          "name": "stdout"
        }
      ]
    },
    {
      "cell_type": "code",
      "metadata": {
        "id": "FhK7my9wFTcj",
        "colab": {
          "base_uri": "https://localhost:8080/",
          "height": 1000
        },
        "outputId": "758f03dd-b4c4-4b64-cafa-62cd7d7a388a"
      },
      "source": [
        "attack_stats(attack, dataset, 25)"
      ],
      "execution_count": 17,
      "outputs": [
        {
          "output_type": "stream",
          "text": [
            "\r  0%|          | 0/25 [00:00<?, ?it/s]"
          ],
          "name": "stderr"
        },
        {
          "output_type": "stream",
          "text": [
            "Attack(\n",
            "  (search_method): GreedySearch\n",
            "  (goal_function):  UntargetedClassification\n",
            "  (transformation):  Swapper_\n",
            "  (constraints): \n",
            "    (0): RepeatModification\n",
            "    (1): StopwordModification\n",
            "  (is_black_box):  True\n",
            ")\n"
          ],
          "name": "stdout"
        },
        {
          "output_type": "display_data",
          "data": {
            "text/html": [
              "<font color = green>Positive (100%)</font> --> <font color = red>Negative (100%)</font><br>it 's a <font color = green>charming</font> and often <font color = green>affecting</font> journey . <br>it 's a <font color = red>laconic</font> and often <font color = red>wasting</font> journey . "
            ],
            "text/plain": [
              "<IPython.core.display.HTML object>"
            ]
          },
          "metadata": {
            "tags": []
          }
        },
        {
          "output_type": "stream",
          "text": [
            "[Succeeded / Failed / Total] 1 / 0 / 1:   4%|▍         | 1/25 [00:00<00:04,  4.93it/s]"
          ],
          "name": "stderr"
        },
        {
          "output_type": "display_data",
          "data": {
            "text/html": [
              "<font color = red>Negative (99%)</font> --> <font color = red>[FAILED]</font><br>unflinchingly bleak and desperate "
            ],
            "text/plain": [
              "<IPython.core.display.HTML object>"
            ]
          },
          "metadata": {
            "tags": []
          }
        },
        {
          "output_type": "stream",
          "text": [
            "[Succeeded / Failed / Total] 1 / 1 / 2:   8%|▊         | 2/25 [00:00<00:03,  6.39it/s]"
          ],
          "name": "stderr"
        },
        {
          "output_type": "display_data",
          "data": {
            "text/html": [
              "<font color = green>Positive (100%)</font> --> <font color = red>[FAILED]</font><br>allows us to hope that nolan is poised to embark a major career as a commercial yet inventive filmmaker . "
            ],
            "text/plain": [
              "<IPython.core.display.HTML object>"
            ]
          },
          "metadata": {
            "tags": []
          }
        },
        {
          "output_type": "stream",
          "text": [
            "[Succeeded / Failed / Total] 1 / 2 / 3:  12%|█▏        | 3/25 [00:02<00:15,  1.41it/s]"
          ],
          "name": "stderr"
        },
        {
          "output_type": "display_data",
          "data": {
            "text/html": [
              "<font color = green>Positive (100%)</font> --> <font color = red>[FAILED]</font><br>the acting , costumes , music , cinematography and sound are all astounding given the production 's austere locales . "
            ],
            "text/plain": [
              "<IPython.core.display.HTML object>"
            ]
          },
          "metadata": {
            "tags": []
          }
        },
        {
          "output_type": "stream",
          "text": [
            "[Succeeded / Failed / Total] 1 / 3 / 4:  16%|█▌        | 4/25 [00:03<00:18,  1.17it/s]"
          ],
          "name": "stderr"
        },
        {
          "output_type": "display_data",
          "data": {
            "text/html": [
              "<font color = red>Negative (100%)</font> --> <font color = red>[FAILED]</font><br>it 's slow -- very , very slow . "
            ],
            "text/plain": [
              "<IPython.core.display.HTML object>"
            ]
          },
          "metadata": {
            "tags": []
          }
        },
        {
          "output_type": "stream",
          "text": [
            "[Succeeded / Failed / Total] 1 / 4 / 5:  20%|██        | 5/25 [00:03<00:14,  1.41it/s]"
          ],
          "name": "stderr"
        },
        {
          "output_type": "display_data",
          "data": {
            "text/html": [
              "<font color = green>Positive (100%)</font> --> <font color = red>[FAILED]</font><br>although laced with humor and a few fanciful touches , the film is a refreshingly serious look at young women . "
            ],
            "text/plain": [
              "<IPython.core.display.HTML object>"
            ]
          },
          "metadata": {
            "tags": []
          }
        },
        {
          "output_type": "stream",
          "text": [
            "[Succeeded / Failed / Total] 1 / 5 / 6:  24%|██▍       | 6/25 [00:04<00:15,  1.24it/s]"
          ],
          "name": "stderr"
        },
        {
          "output_type": "display_data",
          "data": {
            "text/html": [
              "<font color = red>Negative (99%)</font> --> <font color = green>Positive (80%)</font><br>a sometimes <font color = red>tedious</font> film . <br>a sometimes <font color = green>computationally</font> film . "
            ],
            "text/plain": [
              "<IPython.core.display.HTML object>"
            ]
          },
          "metadata": {
            "tags": []
          }
        },
        {
          "output_type": "stream",
          "text": [
            "[Succeeded / Failed / Total] 2 / 5 / 7:  28%|██▊       | 7/25 [00:04<00:12,  1.42it/s]"
          ],
          "name": "stderr"
        },
        {
          "output_type": "display_data",
          "data": {
            "text/html": [
              "<font color = red>Negative (98%)</font> --> <font color = red>[FAILED]</font><br>or doing last year 's taxes with your ex-wife . "
            ],
            "text/plain": [
              "<IPython.core.display.HTML object>"
            ]
          },
          "metadata": {
            "tags": []
          }
        },
        {
          "output_type": "stream",
          "text": [
            "[Succeeded / Failed / Total] 2 / 6 / 8:  32%|███▏      | 8/25 [00:05<00:10,  1.56it/s]"
          ],
          "name": "stderr"
        },
        {
          "output_type": "display_data",
          "data": {
            "text/html": [
              "<font color = green>Positive (100%)</font> --> <font color = red>Negative (58%)</font><br>you do n't have to know about music to <font color = green>appreciate</font> the film 's easygoing blend of comedy and romance . <br>you do n't have to know about music to <font color = red>undo</font> the film 's easygoing blend of comedy and romance . "
            ],
            "text/plain": [
              "<IPython.core.display.HTML object>"
            ]
          },
          "metadata": {
            "tags": []
          }
        },
        {
          "output_type": "stream",
          "text": [
            "[Succeeded / Failed / Total] 3 / 6 / 9:  36%|███▌      | 9/25 [00:05<00:09,  1.68it/s]"
          ],
          "name": "stderr"
        },
        {
          "output_type": "display_data",
          "data": {
            "text/html": [
              "<font color = red>Negative (100%)</font> --> <font color = red>[FAILED]</font><br>in exactly 89 minutes , most of which passed as slowly as if i 'd been sitting naked on an igloo , formula 51 sank from quirky to jerky to utter turkey . "
            ],
            "text/plain": [
              "<IPython.core.display.HTML object>"
            ]
          },
          "metadata": {
            "tags": []
          }
        },
        {
          "output_type": "stream",
          "text": [
            "[Succeeded / Failed / Total] 3 / 7 / 10:  40%|████      | 10/25 [00:07<00:10,  1.39it/s]"
          ],
          "name": "stderr"
        },
        {
          "output_type": "display_data",
          "data": {
            "text/html": [
              "<font color = green>Positive (100%)</font> --> <font color = red>[FAILED]</font><br>the mesmerizing performances of the leads keep the film grounded and keep the audience riveted . "
            ],
            "text/plain": [
              "<IPython.core.display.HTML object>"
            ]
          },
          "metadata": {
            "tags": []
          }
        },
        {
          "output_type": "stream",
          "text": [
            "[Succeeded / Failed / Total] 3 / 8 / 11:  44%|████▍     | 11/25 [00:08<00:10,  1.37it/s]"
          ],
          "name": "stderr"
        },
        {
          "output_type": "display_data",
          "data": {
            "text/html": [
              "<font color = red>Negative (100%)</font> --> <font color = green>Positive (84%)</font><br>it takes a strange kind of <font color = red>laziness</font> to <font color = red>waste</font> the talents of robert forster , anne meara , eugene levy , and reginald veljohnson all in the same movie . <br>it takes a strange kind of <font color = green>shadowing</font> to <font color = green>potable</font> the talents of robert forster , anne meara , eugene levy , and reginald veljohnson all in the same movie . "
            ],
            "text/plain": [
              "<IPython.core.display.HTML object>"
            ]
          },
          "metadata": {
            "tags": []
          }
        },
        {
          "output_type": "stream",
          "text": [
            "[Succeeded / Failed / Total] 4 / 8 / 12:  48%|████▊     | 12/25 [00:08<00:09,  1.39it/s]"
          ],
          "name": "stderr"
        },
        {
          "output_type": "display_data",
          "data": {
            "text/html": [
              "<font color = red>Negative (100%)</font> --> <font color = red>[FAILED]</font><br>... the film suffers from a lack of humor ( something needed to balance out the violence ) ... "
            ],
            "text/plain": [
              "<IPython.core.display.HTML object>"
            ]
          },
          "metadata": {
            "tags": []
          }
        },
        {
          "output_type": "stream",
          "text": [
            "[Succeeded / Failed / Total] 4 / 9 / 13:  52%|█████▏    | 13/25 [00:09<00:08,  1.37it/s]"
          ],
          "name": "stderr"
        },
        {
          "output_type": "display_data",
          "data": {
            "text/html": [
              "<font color = green>Positive (91%)</font> --> <font color = red>Negative (87%)</font><br>we root for ( clara and paul ) , even like them , though perhaps it 's an emotion closer to <font color = green>pity</font> . <br>we root for ( clara and paul ) , even like them , though perhaps it 's an emotion closer to <font color = red>thine</font> . "
            ],
            "text/plain": [
              "<IPython.core.display.HTML object>"
            ]
          },
          "metadata": {
            "tags": []
          }
        },
        {
          "output_type": "stream",
          "text": [
            "[Succeeded / Failed / Total] 5 / 9 / 14:  56%|█████▌    | 14/25 [00:09<00:07,  1.44it/s]"
          ],
          "name": "stderr"
        },
        {
          "output_type": "display_data",
          "data": {
            "text/html": [
              "<font color = red>Negative (100%)</font> --> <font color = green>Positive (100%)</font><br>even horror fans will most likely not find what they 're seeking with trouble every day ; the movie <font color = red>lacks</font> both thrills and humor . <br>even horror fans will most likely not find what they 're seeking with trouble every day ; the movie <font color = green>renders</font> both thrills and humor . "
            ],
            "text/plain": [
              "<IPython.core.display.HTML object>"
            ]
          },
          "metadata": {
            "tags": []
          }
        },
        {
          "output_type": "stream",
          "text": [
            "[Succeeded / Failed / Total] 6 / 9 / 15:  60%|██████    | 15/25 [00:10<00:06,  1.50it/s]"
          ],
          "name": "stderr"
        },
        {
          "output_type": "display_data",
          "data": {
            "text/html": [
              "<font color = green>Positive (100%)</font> --> <font color = red>[FAILED]</font><br>a gorgeous , high-spirited musical from india that exquisitely blends music , dance , song , and high drama . "
            ],
            "text/plain": [
              "<IPython.core.display.HTML object>"
            ]
          },
          "metadata": {
            "tags": []
          }
        },
        {
          "output_type": "stream",
          "text": [
            "[Succeeded / Failed / Total] 6 / 10 / 16:  64%|██████▍   | 16/25 [00:11<00:06,  1.44it/s]"
          ],
          "name": "stderr"
        },
        {
          "output_type": "display_data",
          "data": {
            "text/html": [
              "<font color = green>Positive (100%)</font> --> <font color = red>Negative (62%)</font><br>the emotions are <font color = green>raw</font> and will <font color = green>strike</font> a <font color = green>nerve</font> with anyone who 's <font color = green>ever</font> had family trauma . <br>the emotions are <font color = red>perishable</font> and will <font color = red>downed</font> a <font color = red>axon</font> with anyone who 's <font color = red>hardly</font> had family trauma . "
            ],
            "text/plain": [
              "<IPython.core.display.HTML object>"
            ]
          },
          "metadata": {
            "tags": []
          }
        },
        {
          "output_type": "stream",
          "text": [
            "[Succeeded / Failed / Total] 7 / 10 / 17:  68%|██████▊   | 17/25 [00:11<00:05,  1.45it/s]"
          ],
          "name": "stderr"
        },
        {
          "output_type": "display_data",
          "data": {
            "text/html": [
              "<font color = green>Positive (100%)</font> --> <font color = red>Negative (65%)</font><br>audrey tatou has a knack for <font color = green>picking</font> roles that <font color = green>magnify</font> her outrageous <font color = green>charm</font> , and in this <font color = green>literate</font> french comedy , she 's as morning-glory <font color = green>exuberant</font> as she was in amélie . <br>audrey tatou has a knack for <font color = red>slap</font> roles that <font color = red>quantize</font> her outrageous <font color = red>whiteness</font> , and in this <font color = red>sedentary</font> french comedy , she 's as morning-glory <font color = red>nightmarish</font> as she was in amélie . "
            ],
            "text/plain": [
              "<IPython.core.display.HTML object>"
            ]
          },
          "metadata": {
            "tags": []
          }
        },
        {
          "output_type": "stream",
          "text": [
            "[Succeeded / Failed / Total] 8 / 10 / 18:  72%|███████▏  | 18/25 [00:12<00:04,  1.41it/s]"
          ],
          "name": "stderr"
        },
        {
          "output_type": "display_data",
          "data": {
            "text/html": [
              "<font color = red>Negative (100%)</font> --> <font color = red>[FAILED]</font><br>... the movie is just a plain old monster . "
            ],
            "text/plain": [
              "<IPython.core.display.HTML object>"
            ]
          },
          "metadata": {
            "tags": []
          }
        },
        {
          "output_type": "stream",
          "text": [
            "[Succeeded / Failed / Total] 8 / 11 / 19:  76%|███████▌  | 19/25 [00:13<00:04,  1.46it/s]"
          ],
          "name": "stderr"
        },
        {
          "output_type": "display_data",
          "data": {
            "text/html": [
              "<font color = red>Negative (100%)</font> --> <font color = green>Positive (92%)</font><br>in its best moments , resembles a <font color = red>bad</font> high school production of grease , without benefit of song . <br>in its best moments , resembles a <font color = green>good</font> high school production of grease , without benefit of song . "
            ],
            "text/plain": [
              "<IPython.core.display.HTML object>"
            ]
          },
          "metadata": {
            "tags": []
          }
        },
        {
          "output_type": "stream",
          "text": [
            "[Succeeded / Failed / Total] 9 / 11 / 20:  80%|████████  | 20/25 [00:13<00:03,  1.50it/s]"
          ],
          "name": "stderr"
        },
        {
          "output_type": "display_data",
          "data": {
            "text/html": [
              "<font color = red>Negative (96%)</font> --> <font color = green>Positive (79%)</font><br>pumpkin takes an admirable look at the hypocrisy of political correctness , but it does so with such an <font color = red>uneven</font> tone that you never know when humor ends and tragedy begins . <br>pumpkin takes an admirable look at the hypocrisy of political correctness , but it does so with such an <font color = green>precipitous</font> tone that you never know when humor ends and tragedy begins . "
            ],
            "text/plain": [
              "<IPython.core.display.HTML object>"
            ]
          },
          "metadata": {
            "tags": []
          }
        },
        {
          "output_type": "stream",
          "text": [
            "[Succeeded / Failed / Total] 10 / 11 / 21:  84%|████████▍ | 21/25 [00:13<00:02,  1.54it/s]"
          ],
          "name": "stderr"
        },
        {
          "output_type": "display_data",
          "data": {
            "text/html": [
              "<font color = green>Positive (71%)</font> --> <font color = gray>[SKIPPED]</font><br>the iditarod lasts for days - this just felt like it did . "
            ],
            "text/plain": [
              "<IPython.core.display.HTML object>"
            ]
          },
          "metadata": {
            "tags": []
          }
        },
        {
          "output_type": "stream",
          "text": [
            "\r[Succeeded / Failed / Total] 10 / 11 / 22:  88%|████████▊ | 22/25 [00:13<00:01,  1.60it/s]"
          ],
          "name": "stderr"
        },
        {
          "output_type": "display_data",
          "data": {
            "text/html": [
              "<font color = green>Positive (64%)</font> --> <font color = gray>[SKIPPED]</font><br>holden caulfield did it better . "
            ],
            "text/plain": [
              "<IPython.core.display.HTML object>"
            ]
          },
          "metadata": {
            "tags": []
          }
        },
        {
          "output_type": "stream",
          "text": [
            "\r[Succeeded / Failed / Total] 10 / 11 / 23:  92%|█████████▏| 23/25 [00:13<00:01,  1.67it/s]"
          ],
          "name": "stderr"
        },
        {
          "output_type": "display_data",
          "data": {
            "text/html": [
              "<font color = green>Positive (100%)</font> --> <font color = red>[FAILED]</font><br>a delectable and intriguing thriller filled with surprises , read my lips is an original . "
            ],
            "text/plain": [
              "<IPython.core.display.HTML object>"
            ]
          },
          "metadata": {
            "tags": []
          }
        },
        {
          "output_type": "stream",
          "text": [
            "[Succeeded / Failed / Total] 10 / 12 / 24:  96%|█████████▌| 24/25 [00:14<00:00,  1.66it/s]"
          ],
          "name": "stderr"
        },
        {
          "output_type": "display_data",
          "data": {
            "text/html": [
              "<font color = green>Positive (100%)</font> --> <font color = red>[FAILED]</font><br>seldom has a movie so closely matched the spirit of a man and his work . "
            ],
            "text/plain": [
              "<IPython.core.display.HTML object>"
            ]
          },
          "metadata": {
            "tags": []
          }
        },
        {
          "output_type": "stream",
          "text": [
            "\r[Succeeded / Failed / Total] 10 / 13 / 25: 100%|██████████| 25/25 [00:15<00:00,  1.65it/s]"
          ],
          "name": "stderr"
        },
        {
          "output_type": "display_data",
          "data": {
            "text/html": [
              "<font color = red>Negative (100%)</font> --> <font color = green>Positive (61%)</font><br><font color = red>nicks</font> , <font color = red>seemingly</font> uncertain what 's <font color = red>going</font> to <font color = red>make</font> <font color = red>people</font> laugh , runs the gamut from <font color = red>stale</font> <font color = red>parody</font> to raunchy sex gags to <font color = red>formula</font> romantic comedy . <br><font color = green>stevie</font> , <font color = green>unrealistic</font> uncertain what 's <font color = green>go</font> to <font color = green>give</font> <font color = green>residents</font> laugh , runs the gamut from <font color = green>leaky</font> <font color = green>spoof</font> to raunchy sex gags to <font color = green>equation</font> romantic comedy . "
            ],
            "text/plain": [
              "<IPython.core.display.HTML object>"
            ]
          },
          "metadata": {
            "tags": []
          }
        },
        {
          "output_type": "stream",
          "text": [
            "\r[Succeeded / Failed / Total] 11 / 13 / 26: : 26it [00:17,  1.49it/s]                      "
          ],
          "name": "stderr"
        },
        {
          "output_type": "display_data",
          "data": {
            "text/html": [
              "<font color = red>Negative (99%)</font> --> <font color = red>[FAILED]</font><br>the action switches between past and present , but the material link is too tenuous to anchor the emotional connections that purport to span a 125-year divide . "
            ],
            "text/plain": [
              "<IPython.core.display.HTML object>"
            ]
          },
          "metadata": {
            "tags": []
          }
        },
        {
          "output_type": "stream",
          "text": [
            "[Succeeded / Failed / Total] 11 / 14 / 27: : 27it [00:19,  1.37it/s]"
          ],
          "name": "stderr"
        },
        {
          "output_type": "stream",
          "text": [
            "+-------------------------------+--------+\n",
            "| Attack Results                |        |\n",
            "+-------------------------------+--------+\n",
            "| Number of successful attacks: | 11     |\n",
            "| Number of failed attacks:     | 14     |\n",
            "| Number of skipped attacks:    | 2      |\n",
            "| Original accuracy:            | 92.59% |\n",
            "| Accuracy under attack:        | 51.85% |\n",
            "| Attack success rate:          | 44.0%  |\n",
            "| Average perturbed word %:     | 14.23% |\n",
            "| Average num. words per input: | 16.33  |\n",
            "| Avg num queries:              | 33.56  |\n",
            "+-------------------------------+--------+"
          ],
          "name": "stdout"
        },
        {
          "output_type": "stream",
          "text": [
            "\n",
            "\u001b[34;1mtextattack\u001b[0m: Attack time: 19.693322896957397s\n"
          ],
          "name": "stderr"
        }
      ]
    },
    {
      "cell_type": "markdown",
      "metadata": {
        "id": "Q8odOqt_MctY"
      },
      "source": [
        "### Framing Glove attack"
      ]
    },
    {
      "cell_type": "code",
      "metadata": {
        "id": "d4dI_hK_MXdH"
      },
      "source": [
        "from textattack.transformations import WordSwap\n",
        "\n",
        "class Swapper__(WordSwap): # For glove\n",
        "    \"\"\" Transforms an input by replacing any word with its most similar counterpart\n",
        "    \"\"\"\n",
        "\n",
        "    # We don't need a constructor, since our class doesn't require any parameters.\n",
        "\n",
        "    def _get_replacement_words(self, word):\n",
        "        \"\"\" Returns 'banana', no matter what 'word' was originally.\n",
        "\n",
        "            Returns a list with one item, since `_get_replacement_words` is intended to\n",
        "                return a list of candidate replacement words.\n",
        "        \"\"\"\n",
        "        if word in model3.key_to_index:\n",
        "            for i in range(10):\n",
        "                if word.lower() in model3.most_similar(word)[i][0].lower():\n",
        "                    continue\n",
        "                elif word.isupper():\n",
        "                    return [model3.most_similar(word)[i][0].upper()]\n",
        "                elif word[0].isupper():\n",
        "                    return [model3.most_similar(word)[i][0].capitalize()]\n",
        "                else:\n",
        "                    return [model3.most_similar(word)[i][0]]\n",
        "        else:\n",
        "            return [word]"
      ],
      "execution_count": 18,
      "outputs": []
    },
    {
      "cell_type": "markdown",
      "metadata": {
        "id": "fh2g_oH5s9cK"
      },
      "source": [
        "### Glove, GreedySearch, RepeatModification, StopwordModification"
      ]
    },
    {
      "cell_type": "code",
      "metadata": {
        "colab": {
          "base_uri": "https://localhost:8080/"
        },
        "id": "TSxsdoTqNmYM",
        "outputId": "1031dcb6-4ef7-456e-e18e-bedee3a6fc9e"
      },
      "source": [
        "# We're going to use our word swap class as the attack transformation.\n",
        "transformation = Swapper__()\n",
        "\n",
        "constraints = [RepeatModification(),\n",
        "               StopwordModification()]\n",
        "\n",
        "search_method = GreedySearch()\n",
        "\n",
        "goal_function = UntargetedClassification(model_wrapper)\n",
        "\n",
        "# Now, let's make the attack from the 4 components:\n",
        "attack = Attack(goal_function, constraints, transformation, search_method)"
      ],
      "execution_count": 19,
      "outputs": [
        {
          "output_type": "stream",
          "text": [
            "\u001b[34;1mtextattack\u001b[0m: Unknown if model of class <class 'transformers.models.distilbert.modeling_distilbert.DistilBertForSequenceClassification'> compatible with goal function <class 'textattack.goal_functions.classification.untargeted_classification.UntargetedClassification'>.\n"
          ],
          "name": "stderr"
        }
      ]
    },
    {
      "cell_type": "code",
      "metadata": {
        "colab": {
          "base_uri": "https://localhost:8080/"
        },
        "id": "yipMMe1VNuRP",
        "outputId": "86442a0a-d1b1-47e4-edbc-b0c27f203dd3"
      },
      "source": [
        "print(attack)"
      ],
      "execution_count": 20,
      "outputs": [
        {
          "output_type": "stream",
          "text": [
            "Attack(\n",
            "  (search_method): GreedySearch\n",
            "  (goal_function):  UntargetedClassification\n",
            "  (transformation):  Swapper__\n",
            "  (constraints): \n",
            "    (0): RepeatModification\n",
            "    (1): StopwordModification\n",
            "  (is_black_box):  True\n",
            ")\n"
          ],
          "name": "stdout"
        }
      ]
    },
    {
      "cell_type": "code",
      "metadata": {
        "colab": {
          "base_uri": "https://localhost:8080/",
          "height": 1000
        },
        "id": "cpWQXGpDN1SB",
        "outputId": "9380a618-4175-43d3-e8ab-d7dede622d42"
      },
      "source": [
        "attack_stats(attack, dataset, 25)"
      ],
      "execution_count": 21,
      "outputs": [
        {
          "output_type": "stream",
          "text": [
            "\r  0%|          | 0/25 [00:00<?, ?it/s]"
          ],
          "name": "stderr"
        },
        {
          "output_type": "stream",
          "text": [
            "Attack(\n",
            "  (search_method): GreedySearch\n",
            "  (goal_function):  UntargetedClassification\n",
            "  (transformation):  Swapper__\n",
            "  (constraints): \n",
            "    (0): RepeatModification\n",
            "    (1): StopwordModification\n",
            "  (is_black_box):  True\n",
            ")\n"
          ],
          "name": "stdout"
        },
        {
          "output_type": "display_data",
          "data": {
            "text/html": [
              "<font color = green>Positive (100%)</font> --> <font color = red>Negative (70%)</font><br>it 's a <font color = green>charming</font> and often <font color = green>affecting</font> journey . <br>it 's a <font color = red>pedantic</font> and often <font color = red>destructive</font> journey . "
            ],
            "text/plain": [
              "<IPython.core.display.HTML object>"
            ]
          },
          "metadata": {
            "tags": []
          }
        },
        {
          "output_type": "stream",
          "text": [
            "[Succeeded / Failed / Total] 1 / 0 / 1:   4%|▍         | 1/25 [00:00<00:08,  2.82it/s]"
          ],
          "name": "stderr"
        },
        {
          "output_type": "display_data",
          "data": {
            "text/html": [
              "<font color = red>Negative (99%)</font> --> <font color = red>[FAILED]</font><br>unflinchingly bleak and desperate "
            ],
            "text/plain": [
              "<IPython.core.display.HTML object>"
            ]
          },
          "metadata": {
            "tags": []
          }
        },
        {
          "output_type": "stream",
          "text": [
            "[Succeeded / Failed / Total] 1 / 1 / 2:   8%|▊         | 2/25 [00:00<00:07,  2.93it/s]"
          ],
          "name": "stderr"
        },
        {
          "output_type": "display_data",
          "data": {
            "text/html": [
              "<font color = green>Positive (100%)</font> --> <font color = red>[FAILED]</font><br>allows us to hope that nolan is poised to embark a major career as a commercial yet inventive filmmaker . "
            ],
            "text/plain": [
              "<IPython.core.display.HTML object>"
            ]
          },
          "metadata": {
            "tags": []
          }
        },
        {
          "output_type": "stream",
          "text": [
            "[Succeeded / Failed / Total] 1 / 2 / 3:  12%|█▏        | 3/25 [00:04<00:30,  1.39s/it]"
          ],
          "name": "stderr"
        },
        {
          "output_type": "display_data",
          "data": {
            "text/html": [
              "<font color = green>Positive (100%)</font> --> <font color = red>Negative (81%)</font><br>the acting , costumes , music , cinematography and sound are all <font color = green>astounding</font> given the production 's austere locales . <br>the acting , costumes , music , cinematography and sound are all <font color = red>review</font> given the production 's austere locales . "
            ],
            "text/plain": [
              "<IPython.core.display.HTML object>"
            ]
          },
          "metadata": {
            "tags": []
          }
        },
        {
          "output_type": "stream",
          "text": [
            "[Succeeded / Failed / Total] 2 / 2 / 4:  16%|█▌        | 4/25 [00:04<00:24,  1.16s/it]"
          ],
          "name": "stderr"
        },
        {
          "output_type": "display_data",
          "data": {
            "text/html": [
              "<font color = red>Negative (100%)</font> --> <font color = green>Positive (99%)</font><br>it 's <font color = red>slow</font> -- very , very <font color = red>slow</font> . <br>it 's <font color = green>fast</font> -- very , very <font color = green>fast</font> . "
            ],
            "text/plain": [
              "<IPython.core.display.HTML object>"
            ]
          },
          "metadata": {
            "tags": []
          }
        },
        {
          "output_type": "stream",
          "text": [
            "[Succeeded / Failed / Total] 3 / 2 / 5:  20%|██        | 5/25 [00:04<00:19,  1.03it/s]"
          ],
          "name": "stderr"
        },
        {
          "output_type": "display_data",
          "data": {
            "text/html": [
              "<font color = green>Positive (100%)</font> --> <font color = red>Negative (94%)</font><br>although laced with humor and a few fanciful touches , the film is a <font color = green>refreshingly</font> <font color = green>serious</font> <font color = green>look</font> at young women . <br>although laced with humor and a few fanciful touches , the film is a <font color = red>alacran</font> <font color = red>severe</font> <font color = red>find</font> at young women . "
            ],
            "text/plain": [
              "<IPython.core.display.HTML object>"
            ]
          },
          "metadata": {
            "tags": []
          }
        },
        {
          "output_type": "stream",
          "text": [
            "[Succeeded / Failed / Total] 4 / 2 / 6:  24%|██▍       | 6/25 [00:06<00:19,  1.03s/it]"
          ],
          "name": "stderr"
        },
        {
          "output_type": "display_data",
          "data": {
            "text/html": [
              "<font color = red>Negative (99%)</font> --> <font color = green>Positive (80%)</font><br>a sometimes <font color = red>tedious</font> film . <br>a sometimes <font color = green>computationally</font> film . "
            ],
            "text/plain": [
              "<IPython.core.display.HTML object>"
            ]
          },
          "metadata": {
            "tags": []
          }
        },
        {
          "output_type": "stream",
          "text": [
            "[Succeeded / Failed / Total] 5 / 2 / 7:  28%|██▊       | 7/25 [00:06<00:16,  1.09it/s]"
          ],
          "name": "stderr"
        },
        {
          "output_type": "display_data",
          "data": {
            "text/html": [
              "<font color = red>Negative (98%)</font> --> <font color = red>[FAILED]</font><br>or doing last year 's taxes with your ex-wife . "
            ],
            "text/plain": [
              "<IPython.core.display.HTML object>"
            ]
          },
          "metadata": {
            "tags": []
          }
        },
        {
          "output_type": "stream",
          "text": [
            "[Succeeded / Failed / Total] 5 / 3 / 8:  32%|███▏      | 8/25 [00:06<00:14,  1.19it/s]"
          ],
          "name": "stderr"
        },
        {
          "output_type": "display_data",
          "data": {
            "text/html": [
              "<font color = green>Positive (100%)</font> --> <font color = red>Negative (95%)</font><br>you do n't have to know about music to <font color = green>appreciate</font> the film 's easygoing blend of comedy and romance . <br>you do n't have to know about music to <font color = red>hamper</font> the film 's easygoing blend of comedy and romance . "
            ],
            "text/plain": [
              "<IPython.core.display.HTML object>"
            ]
          },
          "metadata": {
            "tags": []
          }
        },
        {
          "output_type": "stream",
          "text": [
            "[Succeeded / Failed / Total] 6 / 3 / 9:  36%|███▌      | 9/25 [00:07<00:12,  1.26it/s]"
          ],
          "name": "stderr"
        },
        {
          "output_type": "display_data",
          "data": {
            "text/html": [
              "<font color = red>Negative (100%)</font> --> <font color = red>[FAILED]</font><br>in exactly 89 minutes , most of which passed as slowly as if i 'd been sitting naked on an igloo , formula 51 sank from quirky to jerky to utter turkey . "
            ],
            "text/plain": [
              "<IPython.core.display.HTML object>"
            ]
          },
          "metadata": {
            "tags": []
          }
        },
        {
          "output_type": "stream",
          "text": [
            "[Succeeded / Failed / Total] 6 / 4 / 10:  40%|████      | 10/25 [00:11<00:17,  1.13s/it]"
          ],
          "name": "stderr"
        },
        {
          "output_type": "display_data",
          "data": {
            "text/html": [
              "<font color = green>Positive (100%)</font> --> <font color = red>[FAILED]</font><br>the mesmerizing performances of the leads keep the film grounded and keep the audience riveted . "
            ],
            "text/plain": [
              "<IPython.core.display.HTML object>"
            ]
          },
          "metadata": {
            "tags": []
          }
        },
        {
          "output_type": "stream",
          "text": [
            "[Succeeded / Failed / Total] 6 / 5 / 11:  44%|████▍     | 11/25 [00:13<00:16,  1.19s/it]"
          ],
          "name": "stderr"
        },
        {
          "output_type": "display_data",
          "data": {
            "text/html": [
              "<font color = red>Negative (100%)</font> --> <font color = green>Positive (93%)</font><br>it takes a strange kind of <font color = red>laziness</font> to <font color = red>waste</font> the talents of robert forster , anne meara , eugene levy , and reginald veljohnson all in the same movie . <br>it takes a strange kind of <font color = green>margarine</font> to <font color = green>raw</font> the talents of robert forster , anne meara , eugene levy , and reginald veljohnson all in the same movie . "
            ],
            "text/plain": [
              "<IPython.core.display.HTML object>"
            ]
          },
          "metadata": {
            "tags": []
          }
        },
        {
          "output_type": "stream",
          "text": [
            "[Succeeded / Failed / Total] 7 / 5 / 12:  48%|████▊     | 12/25 [00:14<00:15,  1.20s/it]"
          ],
          "name": "stderr"
        },
        {
          "output_type": "display_data",
          "data": {
            "text/html": [
              "<font color = red>Negative (100%)</font> --> <font color = green>Positive (56%)</font><br>... the film <font color = red>suffers</font> from a <font color = red>lack</font> of <font color = red>humor</font> ( something needed to balance out the violence ) ... <br>... the film <font color = green>benefited</font> from a <font color = green>absence</font> of <font color = green>labvakar</font> ( something needed to balance out the violence ) ... "
            ],
            "text/plain": [
              "<IPython.core.display.HTML object>"
            ]
          },
          "metadata": {
            "tags": []
          }
        },
        {
          "output_type": "stream",
          "text": [
            "[Succeeded / Failed / Total] 8 / 5 / 13:  52%|█████▏    | 13/25 [00:15<00:14,  1.18s/it]"
          ],
          "name": "stderr"
        },
        {
          "output_type": "display_data",
          "data": {
            "text/html": [
              "<font color = green>Positive (91%)</font> --> <font color = red>Negative (84%)</font><br>we root for ( clara and paul ) , even like them , <font color = green>though</font> perhaps it 's an emotion closer to pity . <br>we root for ( clara and paul ) , even like them , <font color = red>however</font> perhaps it 's an emotion closer to pity . "
            ],
            "text/plain": [
              "<IPython.core.display.HTML object>"
            ]
          },
          "metadata": {
            "tags": []
          }
        },
        {
          "output_type": "stream",
          "text": [
            "[Succeeded / Failed / Total] 9 / 5 / 14:  56%|█████▌    | 14/25 [00:15<00:12,  1.13s/it]"
          ],
          "name": "stderr"
        },
        {
          "output_type": "display_data",
          "data": {
            "text/html": [
              "<font color = red>Negative (100%)</font> --> <font color = green>Positive (100%)</font><br>even horror fans will most likely not find what they 're seeking with trouble every day ; the movie <font color = red>lacks</font> both thrills and humor . <br>even horror fans will most likely not find what they 're seeking with trouble every day ; the movie <font color = green>possesses</font> both thrills and humor . "
            ],
            "text/plain": [
              "<IPython.core.display.HTML object>"
            ]
          },
          "metadata": {
            "tags": []
          }
        },
        {
          "output_type": "stream",
          "text": [
            "[Succeeded / Failed / Total] 10 / 5 / 15:  60%|██████    | 15/25 [00:16<00:10,  1.09s/it]"
          ],
          "name": "stderr"
        },
        {
          "output_type": "display_data",
          "data": {
            "text/html": [
              "<font color = green>Positive (100%)</font> --> <font color = red>Negative (78%)</font><br>a <font color = green>gorgeous</font> , high-spirited musical from india that <font color = green>exquisitely</font> blends music , dance , song , and high drama . <br>a <font color = red>dumb</font> , high-spirited musical from india that <font color = red>wisher</font> blends music , dance , song , and high drama . "
            ],
            "text/plain": [
              "<IPython.core.display.HTML object>"
            ]
          },
          "metadata": {
            "tags": []
          }
        },
        {
          "output_type": "stream",
          "text": [
            "[Succeeded / Failed / Total] 11 / 5 / 16:  64%|██████▍   | 16/25 [00:17<00:09,  1.08s/it]"
          ],
          "name": "stderr"
        },
        {
          "output_type": "display_data",
          "data": {
            "text/html": [
              "<font color = green>Positive (100%)</font> --> <font color = red>Negative (87%)</font><br>the <font color = green>emotions</font> are <font color = green>raw</font> and will <font color = green>strike</font> a <font color = green>nerve</font> with anyone who 's ever had family trauma . <br>the <font color = red>desires</font> are <font color = red>materials</font> and will <font color = red>counter</font> a <font color = red>adhesion</font> with anyone who 's ever had family trauma . "
            ],
            "text/plain": [
              "<IPython.core.display.HTML object>"
            ]
          },
          "metadata": {
            "tags": []
          }
        },
        {
          "output_type": "stream",
          "text": [
            "[Succeeded / Failed / Total] 12 / 5 / 17:  68%|██████▊   | 17/25 [00:18<00:08,  1.10s/it]"
          ],
          "name": "stderr"
        },
        {
          "output_type": "display_data",
          "data": {
            "text/html": [
              "<font color = green>Positive (100%)</font> --> <font color = red>Negative (89%)</font><br>audrey tatou has a <font color = green>knack</font> for <font color = green>picking</font> roles that <font color = green>magnify</font> her outrageous charm , and in this literate french comedy , she 's as morning-glory exuberant as she was in amélie . <br>audrey tatou has a <font color = red>transcribing</font> for <font color = red>speeding</font> roles that <font color = red>overwhelm</font> her outrageous charm , and in this literate french comedy , she 's as morning-glory exuberant as she was in amélie . "
            ],
            "text/plain": [
              "<IPython.core.display.HTML object>"
            ]
          },
          "metadata": {
            "tags": []
          }
        },
        {
          "output_type": "stream",
          "text": [
            "[Succeeded / Failed / Total] 13 / 5 / 18:  72%|███████▏  | 18/25 [00:20<00:07,  1.12s/it]"
          ],
          "name": "stderr"
        },
        {
          "output_type": "display_data",
          "data": {
            "text/html": [
              "<font color = red>Negative (100%)</font> --> <font color = red>[FAILED]</font><br>... the movie is just a plain old monster . "
            ],
            "text/plain": [
              "<IPython.core.display.HTML object>"
            ]
          },
          "metadata": {
            "tags": []
          }
        },
        {
          "output_type": "stream",
          "text": [
            "[Succeeded / Failed / Total] 13 / 6 / 19:  76%|███████▌  | 19/25 [00:20<00:06,  1.08s/it]"
          ],
          "name": "stderr"
        },
        {
          "output_type": "display_data",
          "data": {
            "text/html": [
              "<font color = red>Negative (100%)</font> --> <font color = green>Positive (92%)</font><br>in its best moments , resembles a <font color = red>bad</font> high school production of grease , without benefit of song . <br>in its best moments , resembles a <font color = green>good</font> high school production of grease , without benefit of song . "
            ],
            "text/plain": [
              "<IPython.core.display.HTML object>"
            ]
          },
          "metadata": {
            "tags": []
          }
        },
        {
          "output_type": "stream",
          "text": [
            "[Succeeded / Failed / Total] 14 / 6 / 20:  80%|████████  | 20/25 [00:21<00:05,  1.06s/it]"
          ],
          "name": "stderr"
        },
        {
          "output_type": "display_data",
          "data": {
            "text/html": [
              "<font color = red>Negative (96%)</font> --> <font color = green>Positive (100%)</font><br>pumpkin takes an admirable look at the hypocrisy of political correctness , but it does so with such an <font color = red>uneven</font> tone that you never know when humor ends and tragedy begins . <br>pumpkin takes an admirable look at the hypocrisy of political correctness , but it does so with such an <font color = green>astonishing</font> tone that you never know when humor ends and tragedy begins . "
            ],
            "text/plain": [
              "<IPython.core.display.HTML object>"
            ]
          },
          "metadata": {
            "tags": []
          }
        },
        {
          "output_type": "stream",
          "text": [
            "[Succeeded / Failed / Total] 15 / 6 / 21:  84%|████████▍ | 21/25 [00:21<00:04,  1.04s/it]"
          ],
          "name": "stderr"
        },
        {
          "output_type": "display_data",
          "data": {
            "text/html": [
              "<font color = green>Positive (71%)</font> --> <font color = gray>[SKIPPED]</font><br>the iditarod lasts for days - this just felt like it did . "
            ],
            "text/plain": [
              "<IPython.core.display.HTML object>"
            ]
          },
          "metadata": {
            "tags": []
          }
        },
        {
          "output_type": "stream",
          "text": [
            "\r[Succeeded / Failed / Total] 15 / 6 / 22:  88%|████████▊ | 22/25 [00:21<00:02,  1.01it/s]"
          ],
          "name": "stderr"
        },
        {
          "output_type": "display_data",
          "data": {
            "text/html": [
              "<font color = green>Positive (64%)</font> --> <font color = gray>[SKIPPED]</font><br>holden caulfield did it better . "
            ],
            "text/plain": [
              "<IPython.core.display.HTML object>"
            ]
          },
          "metadata": {
            "tags": []
          }
        },
        {
          "output_type": "stream",
          "text": [
            "\r[Succeeded / Failed / Total] 15 / 6 / 23:  92%|█████████▏| 23/25 [00:21<00:01,  1.05it/s]"
          ],
          "name": "stderr"
        },
        {
          "output_type": "display_data",
          "data": {
            "text/html": [
              "<font color = green>Positive (100%)</font> --> <font color = red>[FAILED]</font><br>a delectable and intriguing thriller filled with surprises , read my lips is an original . "
            ],
            "text/plain": [
              "<IPython.core.display.HTML object>"
            ]
          },
          "metadata": {
            "tags": []
          }
        },
        {
          "output_type": "stream",
          "text": [
            "[Succeeded / Failed / Total] 15 / 7 / 24:  96%|█████████▌| 24/25 [00:23<00:00,  1.03it/s]"
          ],
          "name": "stderr"
        },
        {
          "output_type": "display_data",
          "data": {
            "text/html": [
              "<font color = green>Positive (100%)</font> --> <font color = red>[FAILED]</font><br>seldom has a movie so closely matched the spirit of a man and his work . "
            ],
            "text/plain": [
              "<IPython.core.display.HTML object>"
            ]
          },
          "metadata": {
            "tags": []
          }
        },
        {
          "output_type": "stream",
          "text": [
            "\r[Succeeded / Failed / Total] 15 / 8 / 25: 100%|██████████| 25/25 [00:24<00:00,  1.01it/s]"
          ],
          "name": "stderr"
        },
        {
          "output_type": "display_data",
          "data": {
            "text/html": [
              "<font color = red>Negative (100%)</font> --> <font color = green>Positive (57%)</font><br>nicks , <font color = red>seemingly</font> uncertain what 's going to make people laugh , runs the gamut from <font color = red>stale</font> <font color = red>parody</font> to raunchy sex gags to formula romantic comedy . <br>nicks , <font color = green>equalized</font> uncertain what 's going to make people laugh , runs the gamut from <font color = green>moist</font> <font color = green>spoof</font> to raunchy sex gags to formula romantic comedy . "
            ],
            "text/plain": [
              "<IPython.core.display.HTML object>"
            ]
          },
          "metadata": {
            "tags": []
          }
        },
        {
          "output_type": "stream",
          "text": [
            "\r[Succeeded / Failed / Total] 16 / 8 / 26: : 26it [00:26,  1.03s/it]                      "
          ],
          "name": "stderr"
        },
        {
          "output_type": "display_data",
          "data": {
            "text/html": [
              "<font color = red>Negative (99%)</font> --> <font color = red>[FAILED]</font><br>the action switches between past and present , but the material link is too tenuous to anchor the emotional connections that purport to span a 125-year divide . "
            ],
            "text/plain": [
              "<IPython.core.display.HTML object>"
            ]
          },
          "metadata": {
            "tags": []
          }
        },
        {
          "output_type": "stream",
          "text": [
            "[Succeeded / Failed / Total] 16 / 9 / 27: : 27it [00:31,  1.17s/it]"
          ],
          "name": "stderr"
        },
        {
          "output_type": "stream",
          "text": [
            "+-------------------------------+--------+\n",
            "| Attack Results                |        |\n",
            "+-------------------------------+--------+\n",
            "| Number of successful attacks: | 16     |\n",
            "| Number of failed attacks:     | 9      |\n",
            "| Number of skipped attacks:    | 2      |\n",
            "| Original accuracy:            | 92.59% |\n",
            "| Accuracy under attack:        | 33.33% |\n",
            "| Attack success rate:          | 64.0%  |\n",
            "| Average perturbed word %:     | 13.6%  |\n",
            "| Average num. words per input: | 16.33  |\n",
            "| Avg num queries:              | 27.2   |\n",
            "+-------------------------------+--------+"
          ],
          "name": "stdout"
        },
        {
          "output_type": "stream",
          "text": [
            "\n",
            "\u001b[34;1mtextattack\u001b[0m: Attack time: 31.485305309295654s\n"
          ],
          "name": "stderr"
        }
      ]
    },
    {
      "cell_type": "markdown",
      "metadata": {
        "id": "6Q2O4pIYtHCH"
      },
      "source": [
        "### FastText, GreedyWordSwapWIR, RepeatModification, StopwordModification"
      ]
    },
    {
      "cell_type": "code",
      "metadata": {
        "colab": {
          "base_uri": "https://localhost:8080/"
        },
        "id": "GKzdReqjl3GW",
        "outputId": "55d5b670-03b5-4169-b574-27408c7ca411"
      },
      "source": [
        "# We're going to use our word swap class as the attack transformation.\n",
        "transformation = Swapper()\n",
        "\n",
        "constraints = [RepeatModification(),\n",
        "               StopwordModification()]\n",
        "\n",
        "search_method = GreedyWordSwapWIR()\n",
        "\n",
        "goal_function = UntargetedClassification(model_wrapper)\n",
        "\n",
        "# Now, let's make the attack from the 4 components:\n",
        "attack = Attack(goal_function, constraints, transformation, search_method)"
      ],
      "execution_count": 22,
      "outputs": [
        {
          "output_type": "stream",
          "text": [
            "\u001b[34;1mtextattack\u001b[0m: Unknown if model of class <class 'transformers.models.distilbert.modeling_distilbert.DistilBertForSequenceClassification'> compatible with goal function <class 'textattack.goal_functions.classification.untargeted_classification.UntargetedClassification'>.\n"
          ],
          "name": "stderr"
        }
      ]
    },
    {
      "cell_type": "code",
      "metadata": {
        "colab": {
          "base_uri": "https://localhost:8080/"
        },
        "id": "pSqav791mqYf",
        "outputId": "01b300e3-49b1-4846-f51c-b2b5589bb994"
      },
      "source": [
        "print(attack)"
      ],
      "execution_count": 23,
      "outputs": [
        {
          "output_type": "stream",
          "text": [
            "Attack(\n",
            "  (search_method): GreedyWordSwapWIR(\n",
            "    (wir_method):  unk\n",
            "  )\n",
            "  (goal_function):  UntargetedClassification\n",
            "  (transformation):  Swapper\n",
            "  (constraints): \n",
            "    (0): RepeatModification\n",
            "    (1): StopwordModification\n",
            "  (is_black_box):  True\n",
            ")\n"
          ],
          "name": "stdout"
        }
      ]
    },
    {
      "cell_type": "code",
      "metadata": {
        "colab": {
          "base_uri": "https://localhost:8080/",
          "height": 1000
        },
        "id": "7u4kS3Mjmxkf",
        "outputId": "5b220202-37f1-4ae6-9da8-acb42093077f"
      },
      "source": [
        "attack_stats(attack, dataset, 25)"
      ],
      "execution_count": 24,
      "outputs": [
        {
          "output_type": "stream",
          "text": [
            "\r  0%|          | 0/25 [00:00<?, ?it/s]"
          ],
          "name": "stderr"
        },
        {
          "output_type": "stream",
          "text": [
            "Attack(\n",
            "  (search_method): GreedyWordSwapWIR(\n",
            "    (wir_method):  unk\n",
            "  )\n",
            "  (goal_function):  UntargetedClassification\n",
            "  (transformation):  Swapper\n",
            "  (constraints): \n",
            "    (0): RepeatModification\n",
            "    (1): StopwordModification\n",
            "  (is_black_box):  True\n",
            ")\n"
          ],
          "name": "stdout"
        },
        {
          "output_type": "display_data",
          "data": {
            "text/html": [
              "<font color = green>Positive (100%)</font> --> <font color = red>[FAILED]</font><br>it 's a charming and often affecting journey . "
            ],
            "text/plain": [
              "<IPython.core.display.HTML object>"
            ]
          },
          "metadata": {
            "tags": []
          }
        },
        {
          "output_type": "stream",
          "text": [
            "[Succeeded / Failed / Total] 0 / 1 / 1:   4%|▍         | 1/25 [00:00<00:06,  3.57it/s]"
          ],
          "name": "stderr"
        },
        {
          "output_type": "display_data",
          "data": {
            "text/html": [
              "<font color = red>Negative (99%)</font> --> <font color = red>[FAILED]</font><br>unflinchingly bleak and desperate "
            ],
            "text/plain": [
              "<IPython.core.display.HTML object>"
            ]
          },
          "metadata": {
            "tags": []
          }
        },
        {
          "output_type": "stream",
          "text": [
            "[Succeeded / Failed / Total] 0 / 2 / 2:   8%|▊         | 2/25 [00:00<00:05,  4.31it/s]"
          ],
          "name": "stderr"
        },
        {
          "output_type": "display_data",
          "data": {
            "text/html": [
              "<font color = green>Positive (100%)</font> --> <font color = red>Negative (60%)</font><br>allows us to <font color = green>hope</font> that <font color = green>nolan</font> is <font color = green>poised</font> to <font color = green>embark</font> a major career as a commercial <font color = green>yet</font> <font color = green>inventive</font> <font color = green>filmmaker</font> . <br>allows us to <font color = red>feelgood</font> that <font color = red>colan</font> is <font color = red>gassed</font> to <font color = red>embargo</font> a major career as a commercial <font color = red>obviously</font> <font color = red>inventing</font> <font color = red>screenwriter</font> . "
            ],
            "text/plain": [
              "<IPython.core.display.HTML object>"
            ]
          },
          "metadata": {
            "tags": []
          }
        },
        {
          "output_type": "stream",
          "text": [
            "[Succeeded / Failed / Total] 1 / 2 / 3:  12%|█▏        | 3/25 [00:01<00:08,  2.47it/s]"
          ],
          "name": "stderr"
        },
        {
          "output_type": "display_data",
          "data": {
            "text/html": [
              "<font color = green>Positive (100%)</font> --> <font color = red>[FAILED]</font><br>the acting , costumes , music , cinematography and sound are all astounding given the production 's austere locales . "
            ],
            "text/plain": [
              "<IPython.core.display.HTML object>"
            ]
          },
          "metadata": {
            "tags": []
          }
        },
        {
          "output_type": "stream",
          "text": [
            "[Succeeded / Failed / Total] 1 / 3 / 4:  16%|█▌        | 4/25 [00:01<00:09,  2.11it/s]"
          ],
          "name": "stderr"
        },
        {
          "output_type": "display_data",
          "data": {
            "text/html": [
              "<font color = red>Negative (100%)</font> --> <font color = red>[FAILED]</font><br>it 's slow -- very , very slow . "
            ],
            "text/plain": [
              "<IPython.core.display.HTML object>"
            ]
          },
          "metadata": {
            "tags": []
          }
        },
        {
          "output_type": "stream",
          "text": [
            "[Succeeded / Failed / Total] 1 / 4 / 5:  20%|██        | 5/25 [00:02<00:08,  2.35it/s]"
          ],
          "name": "stderr"
        },
        {
          "output_type": "display_data",
          "data": {
            "text/html": [
              "<font color = green>Positive (100%)</font> --> <font color = red>[FAILED]</font><br>although laced with humor and a few fanciful touches , the film is a refreshingly serious look at young women . "
            ],
            "text/plain": [
              "<IPython.core.display.HTML object>"
            ]
          },
          "metadata": {
            "tags": []
          }
        },
        {
          "output_type": "stream",
          "text": [
            "[Succeeded / Failed / Total] 1 / 5 / 6:  24%|██▍       | 6/25 [00:02<00:09,  2.09it/s]"
          ],
          "name": "stderr"
        },
        {
          "output_type": "display_data",
          "data": {
            "text/html": [
              "<font color = red>Negative (99%)</font> --> <font color = red>[FAILED]</font><br>a sometimes tedious film . "
            ],
            "text/plain": [
              "<IPython.core.display.HTML object>"
            ]
          },
          "metadata": {
            "tags": []
          }
        },
        {
          "output_type": "stream",
          "text": [
            "[Succeeded / Failed / Total] 1 / 6 / 7:  28%|██▊       | 7/25 [00:03<00:07,  2.29it/s]"
          ],
          "name": "stderr"
        },
        {
          "output_type": "display_data",
          "data": {
            "text/html": [
              "<font color = red>Negative (98%)</font> --> <font color = red>[FAILED]</font><br>or doing last year 's taxes with your ex-wife . "
            ],
            "text/plain": [
              "<IPython.core.display.HTML object>"
            ]
          },
          "metadata": {
            "tags": []
          }
        },
        {
          "output_type": "stream",
          "text": [
            "[Succeeded / Failed / Total] 1 / 7 / 8:  32%|███▏      | 8/25 [00:03<00:07,  2.38it/s]"
          ],
          "name": "stderr"
        },
        {
          "output_type": "display_data",
          "data": {
            "text/html": [
              "<font color = green>Positive (100%)</font> --> <font color = red>Negative (52%)</font><br>you do n't have to know about music to <font color = green>appreciate</font> the film 's <font color = green>easygoing</font> <font color = green>blend</font> of <font color = green>comedy</font> and <font color = green>romance</font> . <br>you do n't have to know about music to <font color = red>appreciating</font> the film 's <font color = red>foregoing</font> <font color = red>texture</font> of <font color = red>comedies</font> and <font color = red>romanic</font> . "
            ],
            "text/plain": [
              "<IPython.core.display.HTML object>"
            ]
          },
          "metadata": {
            "tags": []
          }
        },
        {
          "output_type": "stream",
          "text": [
            "[Succeeded / Failed / Total] 2 / 7 / 9:  36%|███▌      | 9/25 [00:03<00:06,  2.31it/s]"
          ],
          "name": "stderr"
        },
        {
          "output_type": "display_data",
          "data": {
            "text/html": [
              "<font color = red>Negative (100%)</font> --> <font color = red>[FAILED]</font><br>in exactly 89 minutes , most of which passed as slowly as if i 'd been sitting naked on an igloo , formula 51 sank from quirky to jerky to utter turkey . "
            ],
            "text/plain": [
              "<IPython.core.display.HTML object>"
            ]
          },
          "metadata": {
            "tags": []
          }
        },
        {
          "output_type": "stream",
          "text": [
            "[Succeeded / Failed / Total] 2 / 8 / 10:  40%|████      | 10/25 [00:04<00:07,  2.00it/s]"
          ],
          "name": "stderr"
        },
        {
          "output_type": "display_data",
          "data": {
            "text/html": [
              "<font color = green>Positive (100%)</font> --> <font color = red>[FAILED]</font><br>the mesmerizing performances of the leads keep the film grounded and keep the audience riveted . "
            ],
            "text/plain": [
              "<IPython.core.display.HTML object>"
            ]
          },
          "metadata": {
            "tags": []
          }
        },
        {
          "output_type": "stream",
          "text": [
            "[Succeeded / Failed / Total] 2 / 9 / 11:  44%|████▍     | 11/25 [00:05<00:07,  1.98it/s]"
          ],
          "name": "stderr"
        },
        {
          "output_type": "display_data",
          "data": {
            "text/html": [
              "<font color = red>Negative (100%)</font> --> <font color = red>[FAILED]</font><br>it takes a strange kind of laziness to waste the talents of robert forster , anne meara , eugene levy , and reginald veljohnson all in the same movie . "
            ],
            "text/plain": [
              "<IPython.core.display.HTML object>"
            ]
          },
          "metadata": {
            "tags": []
          }
        },
        {
          "output_type": "stream",
          "text": [
            "[Succeeded / Failed / Total] 2 / 10 / 12:  48%|████▊     | 12/25 [00:06<00:07,  1.83it/s]"
          ],
          "name": "stderr"
        },
        {
          "output_type": "display_data",
          "data": {
            "text/html": [
              "<font color = red>Negative (100%)</font> --> <font color = red>[FAILED]</font><br>... the film suffers from a lack of humor ( something needed to balance out the violence ) ... "
            ],
            "text/plain": [
              "<IPython.core.display.HTML object>"
            ]
          },
          "metadata": {
            "tags": []
          }
        },
        {
          "output_type": "stream",
          "text": [
            "[Succeeded / Failed / Total] 2 / 11 / 13:  52%|█████▏    | 13/25 [00:07<00:06,  1.84it/s]"
          ],
          "name": "stderr"
        },
        {
          "output_type": "display_data",
          "data": {
            "text/html": [
              "<font color = green>Positive (91%)</font> --> <font color = red>Negative (84%)</font><br>we root for ( clara and paul ) , even like them , <font color = green>though</font> perhaps it 's an emotion closer to pity . <br>we root for ( clara and paul ) , even like them , <font color = red>however</font> perhaps it 's an emotion closer to pity . "
            ],
            "text/plain": [
              "<IPython.core.display.HTML object>"
            ]
          },
          "metadata": {
            "tags": []
          }
        },
        {
          "output_type": "stream",
          "text": [
            "[Succeeded / Failed / Total] 3 / 11 / 14:  56%|█████▌    | 14/25 [00:07<00:05,  1.88it/s]"
          ],
          "name": "stderr"
        },
        {
          "output_type": "display_data",
          "data": {
            "text/html": [
              "<font color = red>Negative (100%)</font> --> <font color = red>[FAILED]</font><br>even horror fans will most likely not find what they 're seeking with trouble every day ; the movie lacks both thrills and humor . "
            ],
            "text/plain": [
              "<IPython.core.display.HTML object>"
            ]
          },
          "metadata": {
            "tags": []
          }
        },
        {
          "output_type": "stream",
          "text": [
            "[Succeeded / Failed / Total] 3 / 12 / 15:  60%|██████    | 15/25 [00:08<00:05,  1.81it/s]"
          ],
          "name": "stderr"
        },
        {
          "output_type": "display_data",
          "data": {
            "text/html": [
              "<font color = green>Positive (100%)</font> --> <font color = red>[FAILED]</font><br>a gorgeous , high-spirited musical from india that exquisitely blends music , dance , song , and high drama . "
            ],
            "text/plain": [
              "<IPython.core.display.HTML object>"
            ]
          },
          "metadata": {
            "tags": []
          }
        },
        {
          "output_type": "stream",
          "text": [
            "[Succeeded / Failed / Total] 3 / 13 / 16:  64%|██████▍   | 16/25 [00:08<00:05,  1.78it/s]"
          ],
          "name": "stderr"
        },
        {
          "output_type": "display_data",
          "data": {
            "text/html": [
              "<font color = green>Positive (100%)</font> --> <font color = red>[FAILED]</font><br>the emotions are raw and will strike a nerve with anyone who 's ever had family trauma . "
            ],
            "text/plain": [
              "<IPython.core.display.HTML object>"
            ]
          },
          "metadata": {
            "tags": []
          }
        },
        {
          "output_type": "stream",
          "text": [
            "[Succeeded / Failed / Total] 3 / 14 / 17:  68%|██████▊   | 17/25 [00:09<00:04,  1.78it/s]"
          ],
          "name": "stderr"
        },
        {
          "output_type": "display_data",
          "data": {
            "text/html": [
              "<font color = green>Positive (100%)</font> --> <font color = red>[FAILED]</font><br>audrey tatou has a knack for picking roles that magnify her outrageous charm , and in this literate french comedy , she 's as morning-glory exuberant as she was in amélie . "
            ],
            "text/plain": [
              "<IPython.core.display.HTML object>"
            ]
          },
          "metadata": {
            "tags": []
          }
        },
        {
          "output_type": "stream",
          "text": [
            "[Succeeded / Failed / Total] 3 / 15 / 18:  72%|███████▏  | 18/25 [00:10<00:04,  1.70it/s]"
          ],
          "name": "stderr"
        },
        {
          "output_type": "display_data",
          "data": {
            "text/html": [
              "<font color = red>Negative (100%)</font> --> <font color = red>[FAILED]</font><br>... the movie is just a plain old monster . "
            ],
            "text/plain": [
              "<IPython.core.display.HTML object>"
            ]
          },
          "metadata": {
            "tags": []
          }
        },
        {
          "output_type": "stream",
          "text": [
            "[Succeeded / Failed / Total] 3 / 16 / 19:  76%|███████▌  | 19/25 [00:10<00:03,  1.75it/s]"
          ],
          "name": "stderr"
        },
        {
          "output_type": "display_data",
          "data": {
            "text/html": [
              "<font color = red>Negative (100%)</font> --> <font color = green>Positive (92%)</font><br>in its best moments , resembles a <font color = red>bad</font> high school production of grease , without benefit of song . <br>in its best moments , resembles a <font color = green>good</font> high school production of grease , without benefit of song . "
            ],
            "text/plain": [
              "<IPython.core.display.HTML object>"
            ]
          },
          "metadata": {
            "tags": []
          }
        },
        {
          "output_type": "stream",
          "text": [
            "[Succeeded / Failed / Total] 4 / 16 / 20:  80%|████████  | 20/25 [00:11<00:02,  1.79it/s]"
          ],
          "name": "stderr"
        },
        {
          "output_type": "display_data",
          "data": {
            "text/html": [
              "<font color = red>Negative (96%)</font> --> <font color = green>Positive (84%)</font><br>pumpkin takes an admirable look at the hypocrisy of political correctness , but it does so with such an <font color = red>uneven</font> tone that you never know when humor ends and tragedy begins . <br>pumpkin takes an admirable look at the hypocrisy of political correctness , but it does so with such an <font color = green>unheated</font> tone that you never know when humor ends and tragedy begins . "
            ],
            "text/plain": [
              "<IPython.core.display.HTML object>"
            ]
          },
          "metadata": {
            "tags": []
          }
        },
        {
          "output_type": "stream",
          "text": [
            "[Succeeded / Failed / Total] 5 / 16 / 21:  84%|████████▍ | 21/25 [00:11<00:02,  1.79it/s]"
          ],
          "name": "stderr"
        },
        {
          "output_type": "display_data",
          "data": {
            "text/html": [
              "<font color = green>Positive (71%)</font> --> <font color = gray>[SKIPPED]</font><br>the iditarod lasts for days - this just felt like it did . "
            ],
            "text/plain": [
              "<IPython.core.display.HTML object>"
            ]
          },
          "metadata": {
            "tags": []
          }
        },
        {
          "output_type": "stream",
          "text": [
            "\r[Succeeded / Failed / Total] 5 / 16 / 22:  88%|████████▊ | 22/25 [00:11<00:01,  1.86it/s]"
          ],
          "name": "stderr"
        },
        {
          "output_type": "display_data",
          "data": {
            "text/html": [
              "<font color = green>Positive (64%)</font> --> <font color = gray>[SKIPPED]</font><br>holden caulfield did it better . "
            ],
            "text/plain": [
              "<IPython.core.display.HTML object>"
            ]
          },
          "metadata": {
            "tags": []
          }
        },
        {
          "output_type": "stream",
          "text": [
            "\r[Succeeded / Failed / Total] 5 / 16 / 23:  92%|█████████▏| 23/25 [00:11<00:01,  1.94it/s]"
          ],
          "name": "stderr"
        },
        {
          "output_type": "display_data",
          "data": {
            "text/html": [
              "<font color = green>Positive (100%)</font> --> <font color = red>[FAILED]</font><br>a delectable and intriguing thriller filled with surprises , read my lips is an original . "
            ],
            "text/plain": [
              "<IPython.core.display.HTML object>"
            ]
          },
          "metadata": {
            "tags": []
          }
        },
        {
          "output_type": "stream",
          "text": [
            "[Succeeded / Failed / Total] 5 / 17 / 24:  96%|█████████▌| 24/25 [00:12<00:00,  1.94it/s]"
          ],
          "name": "stderr"
        },
        {
          "output_type": "display_data",
          "data": {
            "text/html": [
              "<font color = green>Positive (100%)</font> --> <font color = red>[FAILED]</font><br>seldom has a movie so closely matched the spirit of a man and his work . "
            ],
            "text/plain": [
              "<IPython.core.display.HTML object>"
            ]
          },
          "metadata": {
            "tags": []
          }
        },
        {
          "output_type": "stream",
          "text": [
            "\r[Succeeded / Failed / Total] 5 / 18 / 25: 100%|██████████| 25/25 [00:12<00:00,  1.94it/s]"
          ],
          "name": "stderr"
        },
        {
          "output_type": "display_data",
          "data": {
            "text/html": [
              "<font color = red>Negative (100%)</font> --> <font color = red>[FAILED]</font><br>nicks , seemingly uncertain what 's going to make people laugh , runs the gamut from stale parody to raunchy sex gags to formula romantic comedy . "
            ],
            "text/plain": [
              "<IPython.core.display.HTML object>"
            ]
          },
          "metadata": {
            "tags": []
          }
        },
        {
          "output_type": "stream",
          "text": [
            "\r[Succeeded / Failed / Total] 5 / 19 / 26: : 26it [00:13,  1.86it/s]                      "
          ],
          "name": "stderr"
        },
        {
          "output_type": "display_data",
          "data": {
            "text/html": [
              "<font color = red>Negative (99%)</font> --> <font color = red>[FAILED]</font><br>the action switches between past and present , but the material link is too tenuous to anchor the emotional connections that purport to span a 125-year divide . "
            ],
            "text/plain": [
              "<IPython.core.display.HTML object>"
            ]
          },
          "metadata": {
            "tags": []
          }
        },
        {
          "output_type": "stream",
          "text": [
            "[Succeeded / Failed / Total] 5 / 20 / 27: : 27it [00:14,  1.81it/s]"
          ],
          "name": "stderr"
        },
        {
          "output_type": "stream",
          "text": [
            "+-------------------------------+--------+\n",
            "| Attack Results                |        |\n",
            "+-------------------------------+--------+\n",
            "| Number of successful attacks: | 5      |\n",
            "| Number of failed attacks:     | 20     |\n",
            "| Number of skipped attacks:    | 2      |\n",
            "| Original accuracy:            | 92.59% |\n",
            "| Accuracy under attack:        | 74.07% |\n",
            "| Attack success rate:          | 20.0%  |\n",
            "| Average perturbed word %:     | 15.66% |\n",
            "| Average num. words per input: | 16.33  |\n",
            "| Avg num queries:              | 25.96  |\n",
            "+-------------------------------+--------+"
          ],
          "name": "stdout"
        },
        {
          "output_type": "stream",
          "text": [
            "\n",
            "\u001b[34;1mtextattack\u001b[0m: Attack time: 14.958003997802734s\n"
          ],
          "name": "stderr"
        }
      ]
    },
    {
      "cell_type": "markdown",
      "metadata": {
        "id": "IofoqE0CtMZC"
      },
      "source": [
        "### Word2Vec, GreedyWordSwapWIR, RepeatModification, StopwordModification"
      ]
    },
    {
      "cell_type": "code",
      "metadata": {
        "colab": {
          "base_uri": "https://localhost:8080/"
        },
        "id": "DLok3tKPm08j",
        "outputId": "e02b3c50-bc63-441b-a201-7a94b57e93f9"
      },
      "source": [
        "# We're going to use our word swap class as the attack transformation.\n",
        "transformation = Swapper_()\n",
        "\n",
        "constraints = [RepeatModification(),\n",
        "               StopwordModification()]\n",
        "\n",
        "search_method = GreedyWordSwapWIR()\n",
        "\n",
        "goal_function = UntargetedClassification(model_wrapper)\n",
        "\n",
        "# Now, let's make the attack from the 4 components:\n",
        "attack = Attack(goal_function, constraints, transformation, search_method)\n"
      ],
      "execution_count": 25,
      "outputs": [
        {
          "output_type": "stream",
          "text": [
            "\u001b[34;1mtextattack\u001b[0m: Unknown if model of class <class 'transformers.models.distilbert.modeling_distilbert.DistilBertForSequenceClassification'> compatible with goal function <class 'textattack.goal_functions.classification.untargeted_classification.UntargetedClassification'>.\n"
          ],
          "name": "stderr"
        }
      ]
    },
    {
      "cell_type": "code",
      "metadata": {
        "colab": {
          "base_uri": "https://localhost:8080/"
        },
        "id": "c8G-gxlXm-At",
        "outputId": "db9c5788-8a04-4a77-e542-8f57fc315343"
      },
      "source": [
        "print(attack)"
      ],
      "execution_count": 26,
      "outputs": [
        {
          "output_type": "stream",
          "text": [
            "Attack(\n",
            "  (search_method): GreedyWordSwapWIR(\n",
            "    (wir_method):  unk\n",
            "  )\n",
            "  (goal_function):  UntargetedClassification\n",
            "  (transformation):  Swapper_\n",
            "  (constraints): \n",
            "    (0): RepeatModification\n",
            "    (1): StopwordModification\n",
            "  (is_black_box):  True\n",
            ")\n"
          ],
          "name": "stdout"
        }
      ]
    },
    {
      "cell_type": "code",
      "metadata": {
        "colab": {
          "base_uri": "https://localhost:8080/",
          "height": 1000
        },
        "id": "FgHOKJd7m_Wm",
        "outputId": "c45a2dcd-2c02-4104-f7a7-fa020557fb0f"
      },
      "source": [
        "attack_stats(attack, dataset, 25)"
      ],
      "execution_count": 27,
      "outputs": [
        {
          "output_type": "stream",
          "text": [
            "\r  0%|          | 0/25 [00:00<?, ?it/s]"
          ],
          "name": "stderr"
        },
        {
          "output_type": "stream",
          "text": [
            "Attack(\n",
            "  (search_method): GreedyWordSwapWIR(\n",
            "    (wir_method):  unk\n",
            "  )\n",
            "  (goal_function):  UntargetedClassification\n",
            "  (transformation):  Swapper_\n",
            "  (constraints): \n",
            "    (0): RepeatModification\n",
            "    (1): StopwordModification\n",
            "  (is_black_box):  True\n",
            ")\n"
          ],
          "name": "stdout"
        },
        {
          "output_type": "display_data",
          "data": {
            "text/html": [
              "<font color = green>Positive (100%)</font> --> <font color = red>Negative (100%)</font><br>it 's a <font color = green>charming</font> and often <font color = green>affecting</font> journey . <br>it 's a <font color = red>laconic</font> and often <font color = red>wasting</font> journey . "
            ],
            "text/plain": [
              "<IPython.core.display.HTML object>"
            ]
          },
          "metadata": {
            "tags": []
          }
        },
        {
          "output_type": "stream",
          "text": [
            "[Succeeded / Failed / Total] 1 / 0 / 1:   4%|▍         | 1/25 [00:00<00:05,  4.46it/s]"
          ],
          "name": "stderr"
        },
        {
          "output_type": "display_data",
          "data": {
            "text/html": [
              "<font color = red>Negative (99%)</font> --> <font color = red>[FAILED]</font><br>unflinchingly bleak and desperate "
            ],
            "text/plain": [
              "<IPython.core.display.HTML object>"
            ]
          },
          "metadata": {
            "tags": []
          }
        },
        {
          "output_type": "stream",
          "text": [
            "[Succeeded / Failed / Total] 1 / 1 / 2:   8%|▊         | 2/25 [00:00<00:04,  5.11it/s]"
          ],
          "name": "stderr"
        },
        {
          "output_type": "display_data",
          "data": {
            "text/html": [
              "<font color = green>Positive (100%)</font> --> <font color = red>[FAILED]</font><br>allows us to hope that nolan is poised to embark a major career as a commercial yet inventive filmmaker . "
            ],
            "text/plain": [
              "<IPython.core.display.HTML object>"
            ]
          },
          "metadata": {
            "tags": []
          }
        },
        {
          "output_type": "stream",
          "text": [
            "[Succeeded / Failed / Total] 1 / 2 / 3:  12%|█▏        | 3/25 [00:01<00:08,  2.66it/s]"
          ],
          "name": "stderr"
        },
        {
          "output_type": "display_data",
          "data": {
            "text/html": [
              "<font color = green>Positive (100%)</font> --> <font color = red>[FAILED]</font><br>the acting , costumes , music , cinematography and sound are all astounding given the production 's austere locales . "
            ],
            "text/plain": [
              "<IPython.core.display.HTML object>"
            ]
          },
          "metadata": {
            "tags": []
          }
        },
        {
          "output_type": "stream",
          "text": [
            "[Succeeded / Failed / Total] 1 / 3 / 4:  16%|█▌        | 4/25 [00:01<00:09,  2.29it/s]"
          ],
          "name": "stderr"
        },
        {
          "output_type": "display_data",
          "data": {
            "text/html": [
              "<font color = red>Negative (100%)</font> --> <font color = red>[FAILED]</font><br>it 's slow -- very , very slow . "
            ],
            "text/plain": [
              "<IPython.core.display.HTML object>"
            ]
          },
          "metadata": {
            "tags": []
          }
        },
        {
          "output_type": "stream",
          "text": [
            "[Succeeded / Failed / Total] 1 / 4 / 5:  20%|██        | 5/25 [00:01<00:07,  2.55it/s]"
          ],
          "name": "stderr"
        },
        {
          "output_type": "display_data",
          "data": {
            "text/html": [
              "<font color = green>Positive (100%)</font> --> <font color = red>[FAILED]</font><br>although laced with humor and a few fanciful touches , the film is a refreshingly serious look at young women . "
            ],
            "text/plain": [
              "<IPython.core.display.HTML object>"
            ]
          },
          "metadata": {
            "tags": []
          }
        },
        {
          "output_type": "stream",
          "text": [
            "[Succeeded / Failed / Total] 1 / 5 / 6:  24%|██▍       | 6/25 [00:02<00:08,  2.26it/s]"
          ],
          "name": "stderr"
        },
        {
          "output_type": "display_data",
          "data": {
            "text/html": [
              "<font color = red>Negative (99%)</font> --> <font color = green>Positive (80%)</font><br>a sometimes <font color = red>tedious</font> film . <br>a sometimes <font color = green>computationally</font> film . "
            ],
            "text/plain": [
              "<IPython.core.display.HTML object>"
            ]
          },
          "metadata": {
            "tags": []
          }
        },
        {
          "output_type": "stream",
          "text": [
            "[Succeeded / Failed / Total] 2 / 5 / 7:  28%|██▊       | 7/25 [00:02<00:07,  2.52it/s]"
          ],
          "name": "stderr"
        },
        {
          "output_type": "display_data",
          "data": {
            "text/html": [
              "<font color = red>Negative (98%)</font> --> <font color = red>[FAILED]</font><br>or doing last year 's taxes with your ex-wife . "
            ],
            "text/plain": [
              "<IPython.core.display.HTML object>"
            ]
          },
          "metadata": {
            "tags": []
          }
        },
        {
          "output_type": "stream",
          "text": [
            "[Succeeded / Failed / Total] 2 / 6 / 8:  32%|███▏      | 8/25 [00:03<00:06,  2.63it/s]"
          ],
          "name": "stderr"
        },
        {
          "output_type": "display_data",
          "data": {
            "text/html": [
              "<font color = green>Positive (100%)</font> --> <font color = red>Negative (58%)</font><br>you do n't have to know about music to <font color = green>appreciate</font> the film 's easygoing blend of comedy and romance . <br>you do n't have to know about music to <font color = red>undo</font> the film 's easygoing blend of comedy and romance . "
            ],
            "text/plain": [
              "<IPython.core.display.HTML object>"
            ]
          },
          "metadata": {
            "tags": []
          }
        },
        {
          "output_type": "stream",
          "text": [
            "[Succeeded / Failed / Total] 3 / 6 / 9:  36%|███▌      | 9/25 [00:03<00:06,  2.63it/s]"
          ],
          "name": "stderr"
        },
        {
          "output_type": "display_data",
          "data": {
            "text/html": [
              "<font color = red>Negative (100%)</font> --> <font color = red>[FAILED]</font><br>in exactly 89 minutes , most of which passed as slowly as if i 'd been sitting naked on an igloo , formula 51 sank from quirky to jerky to utter turkey . "
            ],
            "text/plain": [
              "<IPython.core.display.HTML object>"
            ]
          },
          "metadata": {
            "tags": []
          }
        },
        {
          "output_type": "stream",
          "text": [
            "[Succeeded / Failed / Total] 3 / 7 / 10:  40%|████      | 10/25 [00:04<00:06,  2.28it/s]"
          ],
          "name": "stderr"
        },
        {
          "output_type": "display_data",
          "data": {
            "text/html": [
              "<font color = green>Positive (100%)</font> --> <font color = red>[FAILED]</font><br>the mesmerizing performances of the leads keep the film grounded and keep the audience riveted . "
            ],
            "text/plain": [
              "<IPython.core.display.HTML object>"
            ]
          },
          "metadata": {
            "tags": []
          }
        },
        {
          "output_type": "stream",
          "text": [
            "[Succeeded / Failed / Total] 3 / 8 / 11:  44%|████▍     | 11/25 [00:04<00:06,  2.24it/s]"
          ],
          "name": "stderr"
        },
        {
          "output_type": "display_data",
          "data": {
            "text/html": [
              "<font color = red>Negative (100%)</font> --> <font color = green>Positive (96%)</font><br>it takes a <font color = red>strange</font> kind of <font color = red>laziness</font> to <font color = red>waste</font> the talents of robert forster , anne meara , <font color = red>eugene</font> levy , and reginald veljohnson all in the same <font color = red>movie</font> . <br>it takes a <font color = green>mysterious</font> kind of <font color = green>shadowing</font> to <font color = green>potable</font> the talents of robert forster , anne meara , <font color = green>beaumont</font> levy , and reginald veljohnson all in the same <font color = green>film</font> . "
            ],
            "text/plain": [
              "<IPython.core.display.HTML object>"
            ]
          },
          "metadata": {
            "tags": []
          }
        },
        {
          "output_type": "stream",
          "text": [
            "[Succeeded / Failed / Total] 4 / 8 / 12:  48%|████▊     | 12/25 [00:05<00:06,  2.08it/s]"
          ],
          "name": "stderr"
        },
        {
          "output_type": "display_data",
          "data": {
            "text/html": [
              "<font color = red>Negative (100%)</font> --> <font color = red>[FAILED]</font><br>... the film suffers from a lack of humor ( something needed to balance out the violence ) ... "
            ],
            "text/plain": [
              "<IPython.core.display.HTML object>"
            ]
          },
          "metadata": {
            "tags": []
          }
        },
        {
          "output_type": "stream",
          "text": [
            "[Succeeded / Failed / Total] 4 / 9 / 13:  52%|█████▏    | 13/25 [00:06<00:05,  2.07it/s]"
          ],
          "name": "stderr"
        },
        {
          "output_type": "display_data",
          "data": {
            "text/html": [
              "<font color = green>Positive (91%)</font> --> <font color = red>Negative (84%)</font><br>we root for ( clara and paul ) , even like them , <font color = green>though</font> perhaps it 's an emotion closer to pity . <br>we root for ( clara and paul ) , even like them , <font color = red>however</font> perhaps it 's an emotion closer to pity . "
            ],
            "text/plain": [
              "<IPython.core.display.HTML object>"
            ]
          },
          "metadata": {
            "tags": []
          }
        },
        {
          "output_type": "stream",
          "text": [
            "[Succeeded / Failed / Total] 5 / 9 / 14:  56%|█████▌    | 14/25 [00:06<00:05,  2.10it/s]"
          ],
          "name": "stderr"
        },
        {
          "output_type": "display_data",
          "data": {
            "text/html": [
              "<font color = red>Negative (100%)</font> --> <font color = green>Positive (100%)</font><br>even horror fans will most likely not find what they 're seeking with trouble every day ; the movie <font color = red>lacks</font> both thrills and humor . <br>even horror fans will most likely not find what they 're seeking with trouble every day ; the movie <font color = green>renders</font> both thrills and humor . "
            ],
            "text/plain": [
              "<IPython.core.display.HTML object>"
            ]
          },
          "metadata": {
            "tags": []
          }
        },
        {
          "output_type": "stream",
          "text": [
            "[Succeeded / Failed / Total] 6 / 9 / 15:  60%|██████    | 15/25 [00:07<00:04,  2.10it/s]"
          ],
          "name": "stderr"
        },
        {
          "output_type": "display_data",
          "data": {
            "text/html": [
              "<font color = green>Positive (100%)</font> --> <font color = red>[FAILED]</font><br>a gorgeous , high-spirited musical from india that exquisitely blends music , dance , song , and high drama . "
            ],
            "text/plain": [
              "<IPython.core.display.HTML object>"
            ]
          },
          "metadata": {
            "tags": []
          }
        },
        {
          "output_type": "stream",
          "text": [
            "[Succeeded / Failed / Total] 6 / 10 / 16:  64%|██████▍   | 16/25 [00:07<00:04,  2.07it/s]"
          ],
          "name": "stderr"
        },
        {
          "output_type": "display_data",
          "data": {
            "text/html": [
              "<font color = green>Positive (100%)</font> --> <font color = red>Negative (75%)</font><br>the <font color = green>emotions</font> are <font color = green>raw</font> and will <font color = green>strike</font> a <font color = green>nerve</font> with anyone who 's <font color = green>ever</font> had <font color = green>family</font> trauma . <br>the <font color = red>emotion</font> are <font color = red>perishable</font> and will <font color = red>downed</font> a <font color = red>axon</font> with anyone who 's <font color = red>hardly</font> had <font color = red>families</font> trauma . "
            ],
            "text/plain": [
              "<IPython.core.display.HTML object>"
            ]
          },
          "metadata": {
            "tags": []
          }
        },
        {
          "output_type": "stream",
          "text": [
            "[Succeeded / Failed / Total] 7 / 10 / 17:  68%|██████▊   | 17/25 [00:08<00:03,  2.06it/s]"
          ],
          "name": "stderr"
        },
        {
          "output_type": "display_data",
          "data": {
            "text/html": [
              "<font color = green>Positive (100%)</font> --> <font color = red>Negative (76%)</font><br>audrey tatou has a knack for <font color = green>picking</font> <font color = green>roles</font> that <font color = green>magnify</font> her outrageous <font color = green>charm</font> , and in this <font color = green>literate</font> french comedy , she 's as morning-glory <font color = green>exuberant</font> as she was in amélie . <br>audrey tatou has a knack for <font color = red>slap</font> <font color = red>role</font> that <font color = red>quantize</font> her outrageous <font color = red>whiteness</font> , and in this <font color = red>sedentary</font> french comedy , she 's as morning-glory <font color = red>nightmarish</font> as she was in amélie . "
            ],
            "text/plain": [
              "<IPython.core.display.HTML object>"
            ]
          },
          "metadata": {
            "tags": []
          }
        },
        {
          "output_type": "stream",
          "text": [
            "[Succeeded / Failed / Total] 8 / 10 / 18:  72%|███████▏  | 18/25 [00:09<00:03,  1.98it/s]"
          ],
          "name": "stderr"
        },
        {
          "output_type": "display_data",
          "data": {
            "text/html": [
              "<font color = red>Negative (100%)</font> --> <font color = red>[FAILED]</font><br>... the movie is just a plain old monster . "
            ],
            "text/plain": [
              "<IPython.core.display.HTML object>"
            ]
          },
          "metadata": {
            "tags": []
          }
        },
        {
          "output_type": "stream",
          "text": [
            "[Succeeded / Failed / Total] 8 / 11 / 19:  76%|███████▌  | 19/25 [00:09<00:02,  2.02it/s]"
          ],
          "name": "stderr"
        },
        {
          "output_type": "display_data",
          "data": {
            "text/html": [
              "<font color = red>Negative (100%)</font> --> <font color = green>Positive (92%)</font><br>in its best moments , resembles a <font color = red>bad</font> high school production of grease , without benefit of song . <br>in its best moments , resembles a <font color = green>good</font> high school production of grease , without benefit of song . "
            ],
            "text/plain": [
              "<IPython.core.display.HTML object>"
            ]
          },
          "metadata": {
            "tags": []
          }
        },
        {
          "output_type": "stream",
          "text": [
            "[Succeeded / Failed / Total] 9 / 11 / 20:  80%|████████  | 20/25 [00:09<00:02,  2.06it/s]"
          ],
          "name": "stderr"
        },
        {
          "output_type": "display_data",
          "data": {
            "text/html": [
              "<font color = red>Negative (96%)</font> --> <font color = green>Positive (79%)</font><br>pumpkin takes an admirable look at the hypocrisy of political correctness , but it does so with such an <font color = red>uneven</font> tone that you never know when humor ends and tragedy begins . <br>pumpkin takes an admirable look at the hypocrisy of political correctness , but it does so with such an <font color = green>precipitous</font> tone that you never know when humor ends and tragedy begins . "
            ],
            "text/plain": [
              "<IPython.core.display.HTML object>"
            ]
          },
          "metadata": {
            "tags": []
          }
        },
        {
          "output_type": "stream",
          "text": [
            "[Succeeded / Failed / Total] 10 / 11 / 21:  84%|████████▍ | 21/25 [00:10<00:01,  2.04it/s]"
          ],
          "name": "stderr"
        },
        {
          "output_type": "display_data",
          "data": {
            "text/html": [
              "<font color = green>Positive (71%)</font> --> <font color = gray>[SKIPPED]</font><br>the iditarod lasts for days - this just felt like it did . "
            ],
            "text/plain": [
              "<IPython.core.display.HTML object>"
            ]
          },
          "metadata": {
            "tags": []
          }
        },
        {
          "output_type": "stream",
          "text": [
            "\r[Succeeded / Failed / Total] 10 / 11 / 22:  88%|████████▊ | 22/25 [00:10<00:01,  2.13it/s]"
          ],
          "name": "stderr"
        },
        {
          "output_type": "display_data",
          "data": {
            "text/html": [
              "<font color = green>Positive (64%)</font> --> <font color = gray>[SKIPPED]</font><br>holden caulfield did it better . "
            ],
            "text/plain": [
              "<IPython.core.display.HTML object>"
            ]
          },
          "metadata": {
            "tags": []
          }
        },
        {
          "output_type": "stream",
          "text": [
            "\r[Succeeded / Failed / Total] 10 / 11 / 23:  92%|█████████▏| 23/25 [00:10<00:00,  2.22it/s]"
          ],
          "name": "stderr"
        },
        {
          "output_type": "display_data",
          "data": {
            "text/html": [
              "<font color = green>Positive (100%)</font> --> <font color = red>[FAILED]</font><br>a delectable and intriguing thriller filled with surprises , read my lips is an original . "
            ],
            "text/plain": [
              "<IPython.core.display.HTML object>"
            ]
          },
          "metadata": {
            "tags": []
          }
        },
        {
          "output_type": "stream",
          "text": [
            "[Succeeded / Failed / Total] 10 / 12 / 24:  96%|█████████▌| 24/25 [00:10<00:00,  2.21it/s]"
          ],
          "name": "stderr"
        },
        {
          "output_type": "display_data",
          "data": {
            "text/html": [
              "<font color = green>Positive (100%)</font> --> <font color = red>[FAILED]</font><br>seldom has a movie so closely matched the spirit of a man and his work . "
            ],
            "text/plain": [
              "<IPython.core.display.HTML object>"
            ]
          },
          "metadata": {
            "tags": []
          }
        },
        {
          "output_type": "stream",
          "text": [
            "\r[Succeeded / Failed / Total] 10 / 13 / 25: 100%|██████████| 25/25 [00:11<00:00,  2.20it/s]"
          ],
          "name": "stderr"
        },
        {
          "output_type": "display_data",
          "data": {
            "text/html": [
              "<font color = red>Negative (100%)</font> --> <font color = green>Positive (67%)</font><br><font color = red>nicks</font> , <font color = red>seemingly</font> uncertain what 's <font color = red>going</font> to <font color = red>make</font> <font color = red>people</font> laugh , runs the gamut from <font color = red>stale</font> <font color = red>parody</font> to raunchy sex <font color = red>gags</font> to <font color = red>formula</font> <font color = red>romantic</font> <font color = red>comedy</font> . <br><font color = green>stevie</font> , <font color = green>unrealistic</font> uncertain what 's <font color = green>go</font> to <font color = green>give</font> <font color = green>residents</font> laugh , runs the gamut from <font color = green>leaky</font> <font color = green>spoof</font> to raunchy sex <font color = green>extras</font> to <font color = green>equation</font> <font color = green>erotic</font> <font color = green>drama</font> . "
            ],
            "text/plain": [
              "<IPython.core.display.HTML object>"
            ]
          },
          "metadata": {
            "tags": []
          }
        },
        {
          "output_type": "stream",
          "text": [
            "\r[Succeeded / Failed / Total] 11 / 13 / 26: : 26it [00:12,  2.11it/s]                      "
          ],
          "name": "stderr"
        },
        {
          "output_type": "display_data",
          "data": {
            "text/html": [
              "<font color = red>Negative (99%)</font> --> <font color = red>[FAILED]</font><br>the action switches between past and present , but the material link is too tenuous to anchor the emotional connections that purport to span a 125-year divide . "
            ],
            "text/plain": [
              "<IPython.core.display.HTML object>"
            ]
          },
          "metadata": {
            "tags": []
          }
        },
        {
          "output_type": "stream",
          "text": [
            "[Succeeded / Failed / Total] 11 / 14 / 27: : 27it [00:13,  2.03it/s]"
          ],
          "name": "stderr"
        },
        {
          "output_type": "stream",
          "text": [
            "+-------------------------------+--------+\n",
            "| Attack Results                |        |\n",
            "+-------------------------------+--------+\n",
            "| Number of successful attacks: | 11     |\n",
            "| Number of failed attacks:     | 14     |\n",
            "| Number of skipped attacks:    | 2      |\n",
            "| Original accuracy:            | 92.59% |\n",
            "| Accuracy under attack:        | 51.85% |\n",
            "| Attack success rate:          | 44.0%  |\n",
            "| Average perturbed word %:     | 17.8%  |\n",
            "| Average num. words per input: | 16.33  |\n",
            "| Avg num queries:              | 24.36  |\n",
            "+-------------------------------+--------+"
          ],
          "name": "stdout"
        },
        {
          "output_type": "stream",
          "text": [
            "\n",
            "\u001b[34;1mtextattack\u001b[0m: Attack time: 13.287036657333374s\n"
          ],
          "name": "stderr"
        }
      ]
    },
    {
      "cell_type": "markdown",
      "metadata": {
        "id": "10S6S32rtXtL"
      },
      "source": [
        "### Glove, GreedyWordSwapWIR RepeatModification, StopwordModification"
      ]
    },
    {
      "cell_type": "code",
      "metadata": {
        "colab": {
          "base_uri": "https://localhost:8080/"
        },
        "id": "STAeDRN6Obr_",
        "outputId": "1d198090-071d-41bd-98e4-6569445abfd8"
      },
      "source": [
        "# We're going to use our word swap class as the attack transformation.\n",
        "transformation = Swapper__()\n",
        "\n",
        "constraints = [RepeatModification(),\n",
        "               StopwordModification()]\n",
        "\n",
        "search_method = GreedyWordSwapWIR()\n",
        "\n",
        "goal_function = UntargetedClassification(model_wrapper)\n",
        "\n",
        "# Now, let's make the attack from the 4 components:\n",
        "attack = Attack(goal_function, constraints, transformation, search_method)"
      ],
      "execution_count": 28,
      "outputs": [
        {
          "output_type": "stream",
          "text": [
            "\u001b[34;1mtextattack\u001b[0m: Unknown if model of class <class 'transformers.models.distilbert.modeling_distilbert.DistilBertForSequenceClassification'> compatible with goal function <class 'textattack.goal_functions.classification.untargeted_classification.UntargetedClassification'>.\n"
          ],
          "name": "stderr"
        }
      ]
    },
    {
      "cell_type": "code",
      "metadata": {
        "colab": {
          "base_uri": "https://localhost:8080/"
        },
        "id": "gQ_bQqzYO2Zb",
        "outputId": "403a5119-0198-4c01-9b6a-e6a0cd294016"
      },
      "source": [
        "print(attack)"
      ],
      "execution_count": 29,
      "outputs": [
        {
          "output_type": "stream",
          "text": [
            "Attack(\n",
            "  (search_method): GreedyWordSwapWIR(\n",
            "    (wir_method):  unk\n",
            "  )\n",
            "  (goal_function):  UntargetedClassification\n",
            "  (transformation):  Swapper__\n",
            "  (constraints): \n",
            "    (0): RepeatModification\n",
            "    (1): StopwordModification\n",
            "  (is_black_box):  True\n",
            ")\n"
          ],
          "name": "stdout"
        }
      ]
    },
    {
      "cell_type": "code",
      "metadata": {
        "colab": {
          "base_uri": "https://localhost:8080/",
          "height": 1000
        },
        "id": "B7aWCrzTO4xp",
        "outputId": "6e3aa5ce-9f21-432d-aa06-83bf360d31dd"
      },
      "source": [
        "attack_stats(attack, dataset, 25)"
      ],
      "execution_count": 30,
      "outputs": [
        {
          "output_type": "stream",
          "text": [
            "\r  0%|          | 0/25 [00:00<?, ?it/s]"
          ],
          "name": "stderr"
        },
        {
          "output_type": "stream",
          "text": [
            "Attack(\n",
            "  (search_method): GreedyWordSwapWIR(\n",
            "    (wir_method):  unk\n",
            "  )\n",
            "  (goal_function):  UntargetedClassification\n",
            "  (transformation):  Swapper__\n",
            "  (constraints): \n",
            "    (0): RepeatModification\n",
            "    (1): StopwordModification\n",
            "  (is_black_box):  True\n",
            ")\n"
          ],
          "name": "stdout"
        },
        {
          "output_type": "display_data",
          "data": {
            "text/html": [
              "<font color = green>Positive (100%)</font> --> <font color = red>Negative (70%)</font><br>it 's a <font color = green>charming</font> and often <font color = green>affecting</font> journey . <br>it 's a <font color = red>pedantic</font> and often <font color = red>destructive</font> journey . "
            ],
            "text/plain": [
              "<IPython.core.display.HTML object>"
            ]
          },
          "metadata": {
            "tags": []
          }
        },
        {
          "output_type": "stream",
          "text": [
            "[Succeeded / Failed / Total] 1 / 0 / 1:   4%|▍         | 1/25 [00:00<00:06,  3.73it/s]"
          ],
          "name": "stderr"
        },
        {
          "output_type": "display_data",
          "data": {
            "text/html": [
              "<font color = red>Negative (99%)</font> --> <font color = red>[FAILED]</font><br>unflinchingly bleak and desperate "
            ],
            "text/plain": [
              "<IPython.core.display.HTML object>"
            ]
          },
          "metadata": {
            "tags": []
          }
        },
        {
          "output_type": "stream",
          "text": [
            "[Succeeded / Failed / Total] 1 / 1 / 2:   8%|▊         | 2/25 [00:00<00:06,  3.83it/s]"
          ],
          "name": "stderr"
        },
        {
          "output_type": "display_data",
          "data": {
            "text/html": [
              "<font color = green>Positive (100%)</font> --> <font color = red>Negative (56%)</font><br><font color = green>allows</font> us to <font color = green>hope</font> that <font color = green>nolan</font> is <font color = green>poised</font> to <font color = green>embark</font> a major career as a commercial <font color = green>yet</font> <font color = green>inventive</font> <font color = green>filmmaker</font> . <br><font color = red>allow</font> us to <font color = red>tykkum</font> that <font color = red>fogelin</font> is <font color = red>transfered</font> to <font color = red>capitalize</font> a major career as a commercial <font color = red>though</font> <font color = red>ingenious</font> <font color = red>screenwriter</font> . "
            ],
            "text/plain": [
              "<IPython.core.display.HTML object>"
            ]
          },
          "metadata": {
            "tags": []
          }
        },
        {
          "output_type": "stream",
          "text": [
            "[Succeeded / Failed / Total] 2 / 1 / 3:  12%|█▏        | 3/25 [00:01<00:10,  2.03it/s]"
          ],
          "name": "stderr"
        },
        {
          "output_type": "display_data",
          "data": {
            "text/html": [
              "<font color = green>Positive (100%)</font> --> <font color = red>Negative (81%)</font><br>the acting , costumes , music , cinematography and sound are all <font color = green>astounding</font> given the production 's austere locales . <br>the acting , costumes , music , cinematography and sound are all <font color = red>review</font> given the production 's austere locales . "
            ],
            "text/plain": [
              "<IPython.core.display.HTML object>"
            ]
          },
          "metadata": {
            "tags": []
          }
        },
        {
          "output_type": "stream",
          "text": [
            "[Succeeded / Failed / Total] 3 / 1 / 4:  16%|█▌        | 4/25 [00:01<00:09,  2.19it/s]"
          ],
          "name": "stderr"
        },
        {
          "output_type": "display_data",
          "data": {
            "text/html": [
              "<font color = red>Negative (100%)</font> --> <font color = green>Positive (99%)</font><br>it 's <font color = red>slow</font> -- very , very <font color = red>slow</font> . <br>it 's <font color = green>fast</font> -- very , very <font color = green>fast</font> . "
            ],
            "text/plain": [
              "<IPython.core.display.HTML object>"
            ]
          },
          "metadata": {
            "tags": []
          }
        },
        {
          "output_type": "stream",
          "text": [
            "[Succeeded / Failed / Total] 4 / 1 / 5:  20%|██        | 5/25 [00:02<00:08,  2.39it/s]"
          ],
          "name": "stderr"
        },
        {
          "output_type": "display_data",
          "data": {
            "text/html": [
              "<font color = green>Positive (100%)</font> --> <font color = red>Negative (94%)</font><br>although laced with humor and a few fanciful touches , the film is a <font color = green>refreshingly</font> <font color = green>serious</font> <font color = green>look</font> at young women . <br>although laced with humor and a few fanciful touches , the film is a <font color = red>alacran</font> <font color = red>severe</font> <font color = red>find</font> at young women . "
            ],
            "text/plain": [
              "<IPython.core.display.HTML object>"
            ]
          },
          "metadata": {
            "tags": []
          }
        },
        {
          "output_type": "stream",
          "text": [
            "[Succeeded / Failed / Total] 5 / 1 / 6:  24%|██▍       | 6/25 [00:02<00:08,  2.26it/s]"
          ],
          "name": "stderr"
        },
        {
          "output_type": "display_data",
          "data": {
            "text/html": [
              "<font color = red>Negative (99%)</font> --> <font color = green>Positive (80%)</font><br>a sometimes <font color = red>tedious</font> film . <br>a sometimes <font color = green>computationally</font> film . "
            ],
            "text/plain": [
              "<IPython.core.display.HTML object>"
            ]
          },
          "metadata": {
            "tags": []
          }
        },
        {
          "output_type": "stream",
          "text": [
            "[Succeeded / Failed / Total] 6 / 1 / 7:  28%|██▊       | 7/25 [00:02<00:07,  2.46it/s]"
          ],
          "name": "stderr"
        },
        {
          "output_type": "display_data",
          "data": {
            "text/html": [
              "<font color = red>Negative (98%)</font> --> <font color = red>[FAILED]</font><br>or doing last year 's taxes with your ex-wife . "
            ],
            "text/plain": [
              "<IPython.core.display.HTML object>"
            ]
          },
          "metadata": {
            "tags": []
          }
        },
        {
          "output_type": "stream",
          "text": [
            "[Succeeded / Failed / Total] 6 / 2 / 8:  32%|███▏      | 8/25 [00:03<00:06,  2.49it/s]"
          ],
          "name": "stderr"
        },
        {
          "output_type": "display_data",
          "data": {
            "text/html": [
              "<font color = green>Positive (100%)</font> --> <font color = red>Negative (95%)</font><br>you do n't have to know about music to <font color = green>appreciate</font> the film 's easygoing blend of comedy and romance . <br>you do n't have to know about music to <font color = red>hamper</font> the film 's easygoing blend of comedy and romance . "
            ],
            "text/plain": [
              "<IPython.core.display.HTML object>"
            ]
          },
          "metadata": {
            "tags": []
          }
        },
        {
          "output_type": "stream",
          "text": [
            "[Succeeded / Failed / Total] 7 / 2 / 9:  36%|███▌      | 9/25 [00:03<00:06,  2.49it/s]"
          ],
          "name": "stderr"
        },
        {
          "output_type": "display_data",
          "data": {
            "text/html": [
              "<font color = red>Negative (100%)</font> --> <font color = red>[FAILED]</font><br>in exactly 89 minutes , most of which passed as slowly as if i 'd been sitting naked on an igloo , formula 51 sank from quirky to jerky to utter turkey . "
            ],
            "text/plain": [
              "<IPython.core.display.HTML object>"
            ]
          },
          "metadata": {
            "tags": []
          }
        },
        {
          "output_type": "stream",
          "text": [
            "[Succeeded / Failed / Total] 7 / 3 / 10:  40%|████      | 10/25 [00:04<00:07,  2.02it/s]"
          ],
          "name": "stderr"
        },
        {
          "output_type": "display_data",
          "data": {
            "text/html": [
              "<font color = green>Positive (100%)</font> --> <font color = red>[FAILED]</font><br>the mesmerizing performances of the leads keep the film grounded and keep the audience riveted . "
            ],
            "text/plain": [
              "<IPython.core.display.HTML object>"
            ]
          },
          "metadata": {
            "tags": []
          }
        },
        {
          "output_type": "stream",
          "text": [
            "[Succeeded / Failed / Total] 7 / 4 / 11:  44%|████▍     | 11/25 [00:05<00:07,  1.93it/s]"
          ],
          "name": "stderr"
        },
        {
          "output_type": "display_data",
          "data": {
            "text/html": [
              "<font color = red>Negative (100%)</font> --> <font color = green>Positive (99%)</font><br>it takes a strange kind of <font color = red>laziness</font> to <font color = red>waste</font> the talents of <font color = red>robert</font> <font color = red>forster</font> , <font color = red>anne</font> meara , eugene levy , and reginald <font color = red>veljohnson</font> all in the same <font color = red>movie</font> . <br>it takes a strange kind of <font color = green>margarine</font> to <font color = green>raw</font> the talents of <font color = green>sproull</font> <font color = green>clynes</font> , <font color = green>boleyn</font> meara , eugene levy , and reginald <font color = green>yuro</font> all in the same <font color = green>film</font> . "
            ],
            "text/plain": [
              "<IPython.core.display.HTML object>"
            ]
          },
          "metadata": {
            "tags": []
          }
        },
        {
          "output_type": "stream",
          "text": [
            "[Succeeded / Failed / Total] 8 / 4 / 12:  48%|████▊     | 12/25 [00:06<00:07,  1.72it/s]"
          ],
          "name": "stderr"
        },
        {
          "output_type": "display_data",
          "data": {
            "text/html": [
              "<font color = red>Negative (100%)</font> --> <font color = green>Positive (56%)</font><br>... the film <font color = red>suffers</font> from a <font color = red>lack</font> of <font color = red>humor</font> ( something needed to balance out the violence ) ... <br>... the film <font color = green>benefited</font> from a <font color = green>absence</font> of <font color = green>labvakar</font> ( something needed to balance out the violence ) ... "
            ],
            "text/plain": [
              "<IPython.core.display.HTML object>"
            ]
          },
          "metadata": {
            "tags": []
          }
        },
        {
          "output_type": "stream",
          "text": [
            "[Succeeded / Failed / Total] 9 / 4 / 13:  52%|█████▏    | 13/25 [00:07<00:06,  1.75it/s]"
          ],
          "name": "stderr"
        },
        {
          "output_type": "display_data",
          "data": {
            "text/html": [
              "<font color = green>Positive (91%)</font> --> <font color = red>Negative (84%)</font><br>we root for ( clara and paul ) , even like them , <font color = green>though</font> perhaps it 's an emotion closer to pity . <br>we root for ( clara and paul ) , even like them , <font color = red>however</font> perhaps it 's an emotion closer to pity . "
            ],
            "text/plain": [
              "<IPython.core.display.HTML object>"
            ]
          },
          "metadata": {
            "tags": []
          }
        },
        {
          "output_type": "stream",
          "text": [
            "[Succeeded / Failed / Total] 10 / 4 / 14:  56%|█████▌    | 14/25 [00:07<00:06,  1.79it/s]"
          ],
          "name": "stderr"
        },
        {
          "output_type": "display_data",
          "data": {
            "text/html": [
              "<font color = red>Negative (100%)</font> --> <font color = green>Positive (100%)</font><br>even horror fans will most likely not find what they 're seeking with trouble every day ; the movie <font color = red>lacks</font> both thrills and humor . <br>even horror fans will most likely not find what they 're seeking with trouble every day ; the movie <font color = green>possesses</font> both thrills and humor . "
            ],
            "text/plain": [
              "<IPython.core.display.HTML object>"
            ]
          },
          "metadata": {
            "tags": []
          }
        },
        {
          "output_type": "stream",
          "text": [
            "[Succeeded / Failed / Total] 11 / 4 / 15:  60%|██████    | 15/25 [00:08<00:05,  1.80it/s]"
          ],
          "name": "stderr"
        },
        {
          "output_type": "display_data",
          "data": {
            "text/html": [
              "<font color = green>Positive (100%)</font> --> <font color = red>Negative (78%)</font><br>a <font color = green>gorgeous</font> , high-spirited musical from india that <font color = green>exquisitely</font> blends music , dance , song , and high drama . <br>a <font color = red>dumb</font> , high-spirited musical from india that <font color = red>wisher</font> blends music , dance , song , and high drama . "
            ],
            "text/plain": [
              "<IPython.core.display.HTML object>"
            ]
          },
          "metadata": {
            "tags": []
          }
        },
        {
          "output_type": "stream",
          "text": [
            "[Succeeded / Failed / Total] 12 / 4 / 16:  64%|██████▍   | 16/25 [00:08<00:04,  1.83it/s]"
          ],
          "name": "stderr"
        },
        {
          "output_type": "display_data",
          "data": {
            "text/html": [
              "<font color = green>Positive (100%)</font> --> <font color = red>Negative (94%)</font><br>the <font color = green>emotions</font> are <font color = green>raw</font> and will <font color = green>strike</font> a <font color = green>nerve</font> with anyone who 's <font color = green>ever</font> had <font color = green>family</font> trauma . <br>the <font color = red>desires</font> are <font color = red>materials</font> and will <font color = red>counter</font> a <font color = red>adhesion</font> with anyone who 's <font color = red>once</font> had <font color = red>pantolambdodontidae</font> trauma . "
            ],
            "text/plain": [
              "<IPython.core.display.HTML object>"
            ]
          },
          "metadata": {
            "tags": []
          }
        },
        {
          "output_type": "stream",
          "text": [
            "[Succeeded / Failed / Total] 13 / 4 / 17:  68%|██████▊   | 17/25 [00:09<00:04,  1.81it/s]"
          ],
          "name": "stderr"
        },
        {
          "output_type": "display_data",
          "data": {
            "text/html": [
              "<font color = green>Positive (100%)</font> --> <font color = red>Negative (70%)</font><br>audrey tatou has a <font color = green>knack</font> for picking roles that <font color = green>magnify</font> her outrageous charm , and in this <font color = green>literate</font> <font color = green>french</font> <font color = green>comedy</font> , she 's as morning-glory exuberant as she was in amélie . <br>audrey tatou has a <font color = red>transcribing</font> for picking roles that <font color = red>overwhelm</font> her outrageous charm , and in this <font color = red>functional</font> <font color = red>watermaal</font> <font color = red>drama</font> , she 's as morning-glory exuberant as she was in amélie . "
            ],
            "text/plain": [
              "<IPython.core.display.HTML object>"
            ]
          },
          "metadata": {
            "tags": []
          }
        },
        {
          "output_type": "stream",
          "text": [
            "[Succeeded / Failed / Total] 14 / 4 / 18:  72%|███████▏  | 18/25 [00:10<00:03,  1.76it/s]"
          ],
          "name": "stderr"
        },
        {
          "output_type": "display_data",
          "data": {
            "text/html": [
              "<font color = red>Negative (100%)</font> --> <font color = red>[FAILED]</font><br>... the movie is just a plain old monster . "
            ],
            "text/plain": [
              "<IPython.core.display.HTML object>"
            ]
          },
          "metadata": {
            "tags": []
          }
        },
        {
          "output_type": "stream",
          "text": [
            "[Succeeded / Failed / Total] 14 / 5 / 19:  76%|███████▌  | 19/25 [00:10<00:03,  1.78it/s]"
          ],
          "name": "stderr"
        },
        {
          "output_type": "display_data",
          "data": {
            "text/html": [
              "<font color = red>Negative (100%)</font> --> <font color = green>Positive (92%)</font><br>in its best moments , resembles a <font color = red>bad</font> high school production of grease , without benefit of song . <br>in its best moments , resembles a <font color = green>good</font> high school production of grease , without benefit of song . "
            ],
            "text/plain": [
              "<IPython.core.display.HTML object>"
            ]
          },
          "metadata": {
            "tags": []
          }
        },
        {
          "output_type": "stream",
          "text": [
            "[Succeeded / Failed / Total] 15 / 5 / 20:  80%|████████  | 20/25 [00:11<00:02,  1.82it/s]"
          ],
          "name": "stderr"
        },
        {
          "output_type": "display_data",
          "data": {
            "text/html": [
              "<font color = red>Negative (96%)</font> --> <font color = green>Positive (100%)</font><br>pumpkin takes an admirable look at the hypocrisy of political correctness , but it does so with such an <font color = red>uneven</font> tone that you never know when humor ends and tragedy begins . <br>pumpkin takes an admirable look at the hypocrisy of political correctness , but it does so with such an <font color = green>astonishing</font> tone that you never know when humor ends and tragedy begins . "
            ],
            "text/plain": [
              "<IPython.core.display.HTML object>"
            ]
          },
          "metadata": {
            "tags": []
          }
        },
        {
          "output_type": "stream",
          "text": [
            "[Succeeded / Failed / Total] 16 / 5 / 21:  84%|████████▍ | 21/25 [00:11<00:02,  1.81it/s]"
          ],
          "name": "stderr"
        },
        {
          "output_type": "display_data",
          "data": {
            "text/html": [
              "<font color = green>Positive (71%)</font> --> <font color = gray>[SKIPPED]</font><br>the iditarod lasts for days - this just felt like it did . "
            ],
            "text/plain": [
              "<IPython.core.display.HTML object>"
            ]
          },
          "metadata": {
            "tags": []
          }
        },
        {
          "output_type": "stream",
          "text": [
            "\r[Succeeded / Failed / Total] 16 / 5 / 22:  88%|████████▊ | 22/25 [00:11<00:01,  1.89it/s]"
          ],
          "name": "stderr"
        },
        {
          "output_type": "display_data",
          "data": {
            "text/html": [
              "<font color = green>Positive (64%)</font> --> <font color = gray>[SKIPPED]</font><br>holden caulfield did it better . "
            ],
            "text/plain": [
              "<IPython.core.display.HTML object>"
            ]
          },
          "metadata": {
            "tags": []
          }
        },
        {
          "output_type": "stream",
          "text": [
            "\r[Succeeded / Failed / Total] 16 / 5 / 23:  92%|█████████▏| 23/25 [00:11<00:01,  1.97it/s]"
          ],
          "name": "stderr"
        },
        {
          "output_type": "display_data",
          "data": {
            "text/html": [
              "<font color = green>Positive (100%)</font> --> <font color = red>[FAILED]</font><br>a delectable and intriguing thriller filled with surprises , read my lips is an original . "
            ],
            "text/plain": [
              "<IPython.core.display.HTML object>"
            ]
          },
          "metadata": {
            "tags": []
          }
        },
        {
          "output_type": "stream",
          "text": [
            "[Succeeded / Failed / Total] 16 / 6 / 24:  96%|█████████▌| 24/25 [00:12<00:00,  1.94it/s]"
          ],
          "name": "stderr"
        },
        {
          "output_type": "display_data",
          "data": {
            "text/html": [
              "<font color = green>Positive (100%)</font> --> <font color = red>[FAILED]</font><br>seldom has a movie so closely matched the spirit of a man and his work . "
            ],
            "text/plain": [
              "<IPython.core.display.HTML object>"
            ]
          },
          "metadata": {
            "tags": []
          }
        },
        {
          "output_type": "stream",
          "text": [
            "\r[Succeeded / Failed / Total] 16 / 7 / 25: 100%|██████████| 25/25 [00:13<00:00,  1.92it/s]"
          ],
          "name": "stderr"
        },
        {
          "output_type": "display_data",
          "data": {
            "text/html": [
              "<font color = red>Negative (100%)</font> --> <font color = green>Positive (75%)</font><br>nicks , <font color = red>seemingly</font> uncertain what 's going to <font color = red>make</font> people laugh , runs the <font color = red>gamut</font> from <font color = red>stale</font> <font color = red>parody</font> to raunchy sex <font color = red>gags</font> to <font color = red>formula</font> romantic comedy . <br>nicks , <font color = green>equalized</font> uncertain what 's going to <font color = green>making</font> people laugh , runs the <font color = green>furthest</font> from <font color = green>moist</font> <font color = green>spoof</font> to raunchy sex <font color = green>neuheisel</font> to <font color = green>euler</font> romantic comedy . "
            ],
            "text/plain": [
              "<IPython.core.display.HTML object>"
            ]
          },
          "metadata": {
            "tags": []
          }
        },
        {
          "output_type": "stream",
          "text": [
            "\r[Succeeded / Failed / Total] 17 / 7 / 26: : 26it [00:14,  1.84it/s]                      "
          ],
          "name": "stderr"
        },
        {
          "output_type": "display_data",
          "data": {
            "text/html": [
              "<font color = red>Negative (99%)</font> --> <font color = red>[FAILED]</font><br>the action switches between past and present , but the material link is too tenuous to anchor the emotional connections that purport to span a 125-year divide . "
            ],
            "text/plain": [
              "<IPython.core.display.HTML object>"
            ]
          },
          "metadata": {
            "tags": []
          }
        },
        {
          "output_type": "stream",
          "text": [
            "[Succeeded / Failed / Total] 17 / 8 / 27: : 27it [00:15,  1.75it/s]"
          ],
          "name": "stderr"
        },
        {
          "output_type": "stream",
          "text": [
            "+-------------------------------+--------+\n",
            "| Attack Results                |        |\n",
            "+-------------------------------+--------+\n",
            "| Number of successful attacks: | 17     |\n",
            "| Number of failed attacks:     | 8      |\n",
            "| Number of skipped attacks:    | 2      |\n",
            "| Original accuracy:            | 92.59% |\n",
            "| Accuracy under attack:        | 29.63% |\n",
            "| Attack success rate:          | 68.0%  |\n",
            "| Average perturbed word %:     | 18.48% |\n",
            "| Average num. words per input: | 16.33  |\n",
            "| Avg num queries:              | 22.96  |\n",
            "+-------------------------------+--------+"
          ],
          "name": "stdout"
        },
        {
          "output_type": "stream",
          "text": [
            "\n",
            "\u001b[34;1mtextattack\u001b[0m: Attack time: 15.398909091949463s\n"
          ],
          "name": "stderr"
        }
      ]
    },
    {
      "cell_type": "markdown",
      "metadata": {
        "id": "DFoHgnBPtcAh"
      },
      "source": [
        "### FastText, ParticleSwarmOptimization, RepeatModification, StopwordModification"
      ]
    },
    {
      "cell_type": "code",
      "metadata": {
        "colab": {
          "base_uri": "https://localhost:8080/"
        },
        "id": "8rK5QW2hnCiI",
        "outputId": "47faac20-297a-439f-cd32-1fdfbd37f8e0"
      },
      "source": [
        "from textattack.search_methods import ParticleSwarmOptimization\n",
        "\n",
        "\n",
        "# We're going to use our word swap class as the attack transformation.\n",
        "transformation = Swapper()\n",
        "\n",
        "constraints = [RepeatModification(),\n",
        "               StopwordModification()]\n",
        "\n",
        "search_method = ParticleSwarmOptimization(pop_size=10,max_iters=5,post_turn_check=True)\n",
        "\n",
        "goal_function = UntargetedClassification(model_wrapper)\n",
        "\n",
        "# Now, let's make the attack from the 4 components:\n",
        "attack = Attack(goal_function, constraints, transformation, search_method)"
      ],
      "execution_count": 31,
      "outputs": [
        {
          "output_type": "stream",
          "text": [
            "\u001b[34;1mtextattack\u001b[0m: Unknown if model of class <class 'transformers.models.distilbert.modeling_distilbert.DistilBertForSequenceClassification'> compatible with goal function <class 'textattack.goal_functions.classification.untargeted_classification.UntargetedClassification'>.\n"
          ],
          "name": "stderr"
        }
      ]
    },
    {
      "cell_type": "code",
      "metadata": {
        "colab": {
          "base_uri": "https://localhost:8080/"
        },
        "id": "gUWI3gs9nzz2",
        "outputId": "6c4150cd-d895-4909-d838-dcc38dde3de8"
      },
      "source": [
        "print(attack)"
      ],
      "execution_count": 32,
      "outputs": [
        {
          "output_type": "stream",
          "text": [
            "Attack(\n",
            "  (search_method): ParticleSwarmOptimization(\n",
            "    (pop_size):  10\n",
            "    (max_iters):  5\n",
            "    (post_turn_check):  True\n",
            "    (max_turn_retries):  20\n",
            "  )\n",
            "  (goal_function):  UntargetedClassification\n",
            "  (transformation):  Swapper\n",
            "  (constraints): \n",
            "    (0): RepeatModification\n",
            "    (1): StopwordModification\n",
            "  (is_black_box):  True\n",
            ")\n"
          ],
          "name": "stdout"
        }
      ]
    },
    {
      "cell_type": "code",
      "metadata": {
        "colab": {
          "base_uri": "https://localhost:8080/",
          "height": 1000
        },
        "id": "eynxLKPCn2c7",
        "outputId": "045e7694-0b1a-40d2-fdec-cff9b0401478"
      },
      "source": [
        "attack_stats(attack, dataset, 25)"
      ],
      "execution_count": 33,
      "outputs": [
        {
          "output_type": "stream",
          "text": [
            "\r  0%|          | 0/25 [00:00<?, ?it/s]"
          ],
          "name": "stderr"
        },
        {
          "output_type": "stream",
          "text": [
            "Attack(\n",
            "  (search_method): ParticleSwarmOptimization(\n",
            "    (pop_size):  10\n",
            "    (max_iters):  5\n",
            "    (post_turn_check):  True\n",
            "    (max_turn_retries):  20\n",
            "  )\n",
            "  (goal_function):  UntargetedClassification\n",
            "  (transformation):  Swapper\n",
            "  (constraints): \n",
            "    (0): RepeatModification\n",
            "    (1): StopwordModification\n",
            "  (is_black_box):  True\n",
            ")\n"
          ],
          "name": "stdout"
        },
        {
          "output_type": "display_data",
          "data": {
            "text/html": [
              "<font color = green>Positive (100%)</font> --> <font color = red>[FAILED]</font><br>it 's a charming and often affecting journey . "
            ],
            "text/plain": [
              "<IPython.core.display.HTML object>"
            ]
          },
          "metadata": {
            "tags": []
          }
        },
        {
          "output_type": "stream",
          "text": [
            "[Succeeded / Failed / Total] 0 / 1 / 1:   4%|▍         | 1/25 [00:00<00:13,  1.78it/s]"
          ],
          "name": "stderr"
        },
        {
          "output_type": "display_data",
          "data": {
            "text/html": [
              "<font color = red>Negative (99%)</font> --> <font color = green>Positive (60%)</font><br>unflinchingly <font color = red>bleak</font> and <font color = red>desperate</font> <br>unflinchingly <font color = green>bleach</font> and <font color = green>recuperate</font> "
            ],
            "text/plain": [
              "<IPython.core.display.HTML object>"
            ]
          },
          "metadata": {
            "tags": []
          }
        },
        {
          "output_type": "stream",
          "text": [
            "[Succeeded / Failed / Total] 1 / 1 / 2:   8%|▊         | 2/25 [00:00<00:08,  2.62it/s]"
          ],
          "name": "stderr"
        },
        {
          "output_type": "display_data",
          "data": {
            "text/html": [
              "<font color = green>Positive (100%)</font> --> <font color = red>Negative (94%)</font><br>allows us to <font color = green>hope</font> that nolan is poised to embark a major <font color = green>career</font> as a commercial <font color = green>yet</font> <font color = green>inventive</font> <font color = green>filmmaker</font> . <br>allows us to <font color = red>feelgood</font> that nolan is poised to embark a major <font color = red>retirement</font> as a commercial <font color = red>obviously</font> <font color = red>inventing</font> <font color = red>screenwriter</font> . "
            ],
            "text/plain": [
              "<IPython.core.display.HTML object>"
            ]
          },
          "metadata": {
            "tags": []
          }
        },
        {
          "output_type": "stream",
          "text": [
            "[Succeeded / Failed / Total] 2 / 1 / 3:  12%|█▏        | 3/25 [00:06<00:46,  2.10s/it]"
          ],
          "name": "stderr"
        },
        {
          "output_type": "display_data",
          "data": {
            "text/html": [
              "<font color = green>Positive (100%)</font> --> <font color = red>[FAILED]</font><br>the acting , costumes , music , cinematography and sound are all astounding given the production 's austere locales . "
            ],
            "text/plain": [
              "<IPython.core.display.HTML object>"
            ]
          },
          "metadata": {
            "tags": []
          }
        },
        {
          "output_type": "stream",
          "text": [
            "[Succeeded / Failed / Total] 2 / 2 / 4:  16%|█▌        | 4/25 [00:11<01:02,  2.99s/it]"
          ],
          "name": "stderr"
        },
        {
          "output_type": "display_data",
          "data": {
            "text/html": [
              "<font color = red>Negative (100%)</font> --> <font color = red>[FAILED]</font><br>it 's slow -- very , very slow . "
            ],
            "text/plain": [
              "<IPython.core.display.HTML object>"
            ]
          },
          "metadata": {
            "tags": []
          }
        },
        {
          "output_type": "stream",
          "text": [
            "[Succeeded / Failed / Total] 2 / 3 / 5:  20%|██        | 5/25 [00:12<00:48,  2.44s/it]"
          ],
          "name": "stderr"
        },
        {
          "output_type": "display_data",
          "data": {
            "text/html": [
              "<font color = green>Positive (100%)</font> --> <font color = red>[FAILED]</font><br>although laced with humor and a few fanciful touches , the film is a refreshingly serious look at young women . "
            ],
            "text/plain": [
              "<IPython.core.display.HTML object>"
            ]
          },
          "metadata": {
            "tags": []
          }
        },
        {
          "output_type": "stream",
          "text": [
            "[Succeeded / Failed / Total] 2 / 4 / 6:  24%|██▍       | 6/25 [00:20<01:05,  3.47s/it]"
          ],
          "name": "stderr"
        },
        {
          "output_type": "display_data",
          "data": {
            "text/html": [
              "<font color = red>Negative (99%)</font> --> <font color = red>[FAILED]</font><br>a sometimes tedious film . "
            ],
            "text/plain": [
              "<IPython.core.display.HTML object>"
            ]
          },
          "metadata": {
            "tags": []
          }
        },
        {
          "output_type": "stream",
          "text": [
            "[Succeeded / Failed / Total] 2 / 5 / 7:  28%|██▊       | 7/25 [00:21<00:54,  3.02s/it]"
          ],
          "name": "stderr"
        },
        {
          "output_type": "display_data",
          "data": {
            "text/html": [
              "<font color = red>Negative (98%)</font> --> <font color = red>[FAILED]</font><br>or doing last year 's taxes with your ex-wife . "
            ],
            "text/plain": [
              "<IPython.core.display.HTML object>"
            ]
          },
          "metadata": {
            "tags": []
          }
        },
        {
          "output_type": "stream",
          "text": [
            "[Succeeded / Failed / Total] 2 / 6 / 8:  32%|███▏      | 8/25 [00:21<00:46,  2.71s/it]"
          ],
          "name": "stderr"
        },
        {
          "output_type": "display_data",
          "data": {
            "text/html": [
              "<font color = green>Positive (100%)</font> --> <font color = red>Negative (64%)</font><br>you do n't have to know about music to <font color = green>appreciate</font> the <font color = green>film</font> 's <font color = green>easygoing</font> <font color = green>blend</font> of <font color = green>comedy</font> and <font color = green>romance</font> . <br>you do n't have to know about music to <font color = red>appreciating</font> the <font color = red>movie</font> 's <font color = red>foregoing</font> <font color = red>texture</font> of <font color = red>comedies</font> and <font color = red>romanic</font> . "
            ],
            "text/plain": [
              "<IPython.core.display.HTML object>"
            ]
          },
          "metadata": {
            "tags": []
          }
        },
        {
          "output_type": "stream",
          "text": [
            "[Succeeded / Failed / Total] 3 / 6 / 9:  36%|███▌      | 9/25 [00:24<00:43,  2.71s/it]"
          ],
          "name": "stderr"
        },
        {
          "output_type": "display_data",
          "data": {
            "text/html": [
              "<font color = red>Negative (100%)</font> --> <font color = red>[FAILED]</font><br>in exactly 89 minutes , most of which passed as slowly as if i 'd been sitting naked on an igloo , formula 51 sank from quirky to jerky to utter turkey . "
            ],
            "text/plain": [
              "<IPython.core.display.HTML object>"
            ]
          },
          "metadata": {
            "tags": []
          }
        },
        {
          "output_type": "stream",
          "text": [
            "[Succeeded / Failed / Total] 3 / 7 / 10:  40%|████      | 10/25 [00:37<00:56,  3.79s/it]"
          ],
          "name": "stderr"
        },
        {
          "output_type": "display_data",
          "data": {
            "text/html": [
              "<font color = green>Positive (100%)</font> --> <font color = red>[FAILED]</font><br>the mesmerizing performances of the leads keep the film grounded and keep the audience riveted . "
            ],
            "text/plain": [
              "<IPython.core.display.HTML object>"
            ]
          },
          "metadata": {
            "tags": []
          }
        },
        {
          "output_type": "stream",
          "text": [
            "[Succeeded / Failed / Total] 3 / 8 / 11:  44%|████▍     | 11/25 [00:42<00:54,  3.86s/it]"
          ],
          "name": "stderr"
        },
        {
          "output_type": "display_data",
          "data": {
            "text/html": [
              "<font color = red>Negative (100%)</font> --> <font color = red>[FAILED]</font><br>it takes a strange kind of laziness to waste the talents of robert forster , anne meara , eugene levy , and reginald veljohnson all in the same movie . "
            ],
            "text/plain": [
              "<IPython.core.display.HTML object>"
            ]
          },
          "metadata": {
            "tags": []
          }
        },
        {
          "output_type": "stream",
          "text": [
            "[Succeeded / Failed / Total] 3 / 9 / 12:  48%|████▊     | 12/25 [00:49<00:53,  4.14s/it]"
          ],
          "name": "stderr"
        },
        {
          "output_type": "display_data",
          "data": {
            "text/html": [
              "<font color = red>Negative (100%)</font> --> <font color = red>[FAILED]</font><br>... the film suffers from a lack of humor ( something needed to balance out the violence ) ... "
            ],
            "text/plain": [
              "<IPython.core.display.HTML object>"
            ]
          },
          "metadata": {
            "tags": []
          }
        },
        {
          "output_type": "stream",
          "text": [
            "[Succeeded / Failed / Total] 3 / 10 / 13:  52%|█████▏    | 13/25 [00:55<00:50,  4.24s/it]"
          ],
          "name": "stderr"
        },
        {
          "output_type": "display_data",
          "data": {
            "text/html": [
              "<font color = green>Positive (91%)</font> --> <font color = red>Negative (84%)</font><br>we root for ( clara and paul ) , even like them , <font color = green>though</font> perhaps it 's an emotion closer to pity . <br>we root for ( clara and paul ) , even like them , <font color = red>however</font> perhaps it 's an emotion closer to pity . "
            ],
            "text/plain": [
              "<IPython.core.display.HTML object>"
            ]
          },
          "metadata": {
            "tags": []
          }
        },
        {
          "output_type": "stream",
          "text": [
            "[Succeeded / Failed / Total] 4 / 10 / 14:  56%|█████▌    | 14/25 [00:55<00:43,  3.96s/it]"
          ],
          "name": "stderr"
        },
        {
          "output_type": "display_data",
          "data": {
            "text/html": [
              "<font color = red>Negative (100%)</font> --> <font color = red>[FAILED]</font><br>even horror fans will most likely not find what they 're seeking with trouble every day ; the movie lacks both thrills and humor . "
            ],
            "text/plain": [
              "<IPython.core.display.HTML object>"
            ]
          },
          "metadata": {
            "tags": []
          }
        },
        {
          "output_type": "stream",
          "text": [
            "[Succeeded / Failed / Total] 4 / 11 / 15:  60%|██████    | 15/25 [01:03<00:42,  4.24s/it]"
          ],
          "name": "stderr"
        },
        {
          "output_type": "display_data",
          "data": {
            "text/html": [
              "<font color = green>Positive (100%)</font> --> <font color = red>[FAILED]</font><br>a gorgeous , high-spirited musical from india that exquisitely blends music , dance , song , and high drama . "
            ],
            "text/plain": [
              "<IPython.core.display.HTML object>"
            ]
          },
          "metadata": {
            "tags": []
          }
        },
        {
          "output_type": "stream",
          "text": [
            "[Succeeded / Failed / Total] 4 / 12 / 16:  64%|██████▍   | 16/25 [01:10<00:39,  4.40s/it]"
          ],
          "name": "stderr"
        },
        {
          "output_type": "display_data",
          "data": {
            "text/html": [
              "<font color = green>Positive (100%)</font> --> <font color = red>[FAILED]</font><br>the emotions are raw and will strike a nerve with anyone who 's ever had family trauma . "
            ],
            "text/plain": [
              "<IPython.core.display.HTML object>"
            ]
          },
          "metadata": {
            "tags": []
          }
        },
        {
          "output_type": "stream",
          "text": [
            "[Succeeded / Failed / Total] 4 / 13 / 17:  68%|██████▊   | 17/25 [01:14<00:35,  4.40s/it]"
          ],
          "name": "stderr"
        },
        {
          "output_type": "display_data",
          "data": {
            "text/html": [
              "<font color = green>Positive (100%)</font> --> <font color = red>[FAILED]</font><br>audrey tatou has a knack for picking roles that magnify her outrageous charm , and in this literate french comedy , she 's as morning-glory exuberant as she was in amélie . "
            ],
            "text/plain": [
              "<IPython.core.display.HTML object>"
            ]
          },
          "metadata": {
            "tags": []
          }
        },
        {
          "output_type": "stream",
          "text": [
            "[Succeeded / Failed / Total] 4 / 14 / 18:  72%|███████▏  | 18/25 [01:24<00:32,  4.70s/it]"
          ],
          "name": "stderr"
        },
        {
          "output_type": "display_data",
          "data": {
            "text/html": [
              "<font color = red>Negative (100%)</font> --> <font color = red>[FAILED]</font><br>... the movie is just a plain old monster . "
            ],
            "text/plain": [
              "<IPython.core.display.HTML object>"
            ]
          },
          "metadata": {
            "tags": []
          }
        },
        {
          "output_type": "stream",
          "text": [
            "[Succeeded / Failed / Total] 4 / 15 / 19:  76%|███████▌  | 19/25 [01:25<00:26,  4.49s/it]"
          ],
          "name": "stderr"
        },
        {
          "output_type": "display_data",
          "data": {
            "text/html": [
              "<font color = red>Negative (100%)</font> --> <font color = green>Positive (92%)</font><br>in its best moments , resembles a <font color = red>bad</font> high school production of grease , without benefit of song . <br>in its best moments , resembles a <font color = green>good</font> high school production of grease , without benefit of song . "
            ],
            "text/plain": [
              "<IPython.core.display.HTML object>"
            ]
          },
          "metadata": {
            "tags": []
          }
        },
        {
          "output_type": "stream",
          "text": [
            "[Succeeded / Failed / Total] 5 / 15 / 20:  80%|████████  | 20/25 [01:25<00:21,  4.29s/it]"
          ],
          "name": "stderr"
        },
        {
          "output_type": "display_data",
          "data": {
            "text/html": [
              "<font color = red>Negative (96%)</font> --> <font color = green>Positive (84%)</font><br>pumpkin takes an admirable look at the hypocrisy of political correctness , but it does so with such an <font color = red>uneven</font> tone that you never know when humor ends and tragedy begins . <br>pumpkin takes an admirable look at the hypocrisy of political correctness , but it does so with such an <font color = green>unheated</font> tone that you never know when humor ends and tragedy begins . "
            ],
            "text/plain": [
              "<IPython.core.display.HTML object>"
            ]
          },
          "metadata": {
            "tags": []
          }
        },
        {
          "output_type": "stream",
          "text": [
            "[Succeeded / Failed / Total] 6 / 15 / 21:  84%|████████▍ | 21/25 [01:26<00:16,  4.11s/it]"
          ],
          "name": "stderr"
        },
        {
          "output_type": "display_data",
          "data": {
            "text/html": [
              "<font color = green>Positive (71%)</font> --> <font color = gray>[SKIPPED]</font><br>the iditarod lasts for days - this just felt like it did . "
            ],
            "text/plain": [
              "<IPython.core.display.HTML object>"
            ]
          },
          "metadata": {
            "tags": []
          }
        },
        {
          "output_type": "stream",
          "text": [
            "\r[Succeeded / Failed / Total] 6 / 15 / 22:  88%|████████▊ | 22/25 [01:26<00:11,  3.92s/it]"
          ],
          "name": "stderr"
        },
        {
          "output_type": "display_data",
          "data": {
            "text/html": [
              "<font color = green>Positive (64%)</font> --> <font color = gray>[SKIPPED]</font><br>holden caulfield did it better . "
            ],
            "text/plain": [
              "<IPython.core.display.HTML object>"
            ]
          },
          "metadata": {
            "tags": []
          }
        },
        {
          "output_type": "stream",
          "text": [
            "\r[Succeeded / Failed / Total] 6 / 15 / 23:  92%|█████████▏| 23/25 [01:26<00:07,  3.75s/it]"
          ],
          "name": "stderr"
        },
        {
          "output_type": "display_data",
          "data": {
            "text/html": [
              "<font color = green>Positive (100%)</font> --> <font color = red>[FAILED]</font><br>a delectable and intriguing thriller filled with surprises , read my lips is an original . "
            ],
            "text/plain": [
              "<IPython.core.display.HTML object>"
            ]
          },
          "metadata": {
            "tags": []
          }
        },
        {
          "output_type": "stream",
          "text": [
            "[Succeeded / Failed / Total] 6 / 16 / 24:  96%|█████████▌| 24/25 [01:30<00:03,  3.76s/it]"
          ],
          "name": "stderr"
        },
        {
          "output_type": "display_data",
          "data": {
            "text/html": [
              "<font color = green>Positive (100%)</font> --> <font color = red>Negative (96%)</font><br><font color = green>seldom</font> has a movie so <font color = green>closely</font> <font color = green>matched</font> the spirit of a <font color = green>man</font> and his <font color = green>work</font> . <br><font color = red>rarely</font> has a movie so <font color = red>loosely</font> <font color = red>scored</font> the spirit of a <font color = red>girl</font> and his <font color = red>treatise</font> . "
            ],
            "text/plain": [
              "<IPython.core.display.HTML object>"
            ]
          },
          "metadata": {
            "tags": []
          }
        },
        {
          "output_type": "stream",
          "text": [
            "\r[Succeeded / Failed / Total] 7 / 16 / 25: 100%|██████████| 25/25 [01:31<00:00,  3.65s/it]"
          ],
          "name": "stderr"
        },
        {
          "output_type": "display_data",
          "data": {
            "text/html": [
              "<font color = red>Negative (100%)</font> --> <font color = red>[FAILED]</font><br>nicks , seemingly uncertain what 's going to make people laugh , runs the gamut from stale parody to raunchy sex gags to formula romantic comedy . "
            ],
            "text/plain": [
              "<IPython.core.display.HTML object>"
            ]
          },
          "metadata": {
            "tags": []
          }
        },
        {
          "output_type": "stream",
          "text": [
            "[Succeeded / Failed / Total] 7 / 17 / 26: : 26it [01:50,  4.23s/it]"
          ],
          "name": "stderr"
        },
        {
          "output_type": "display_data",
          "data": {
            "text/html": [
              "<font color = red>Negative (99%)</font> --> <font color = red>[FAILED]</font><br>the action switches between past and present , but the material link is too tenuous to anchor the emotional connections that purport to span a 125-year divide . "
            ],
            "text/plain": [
              "<IPython.core.display.HTML object>"
            ]
          },
          "metadata": {
            "tags": []
          }
        },
        {
          "output_type": "stream",
          "text": [
            "[Succeeded / Failed / Total] 7 / 18 / 27: : 27it [01:58,  4.39s/it]"
          ],
          "name": "stderr"
        },
        {
          "output_type": "stream",
          "text": [
            "+-------------------------------+--------+\n",
            "| Attack Results                |        |\n",
            "+-------------------------------+--------+\n",
            "| Number of successful attacks: | 7      |\n",
            "| Number of failed attacks:     | 18     |\n",
            "| Number of skipped attacks:    | 2      |\n",
            "| Original accuracy:            | 92.59% |\n",
            "| Accuracy under attack:        | 66.67% |\n",
            "| Attack success rate:          | 28.0%  |\n",
            "| Average perturbed word %:     | 22.34% |\n",
            "| Average num. words per input: | 16.33  |\n",
            "| Avg num queries:              | 257.08 |\n",
            "+-------------------------------+--------+"
          ],
          "name": "stdout"
        },
        {
          "output_type": "stream",
          "text": [
            "\n",
            "\u001b[34;1mtextattack\u001b[0m: Attack time: 118.46835923194885s\n"
          ],
          "name": "stderr"
        }
      ]
    },
    {
      "cell_type": "markdown",
      "metadata": {
        "id": "uTFqDVMctjIF"
      },
      "source": [
        "### Word2Vec, ParticleSwarmOptimization, RepeatModification, StopwordModification"
      ]
    },
    {
      "cell_type": "code",
      "metadata": {
        "colab": {
          "base_uri": "https://localhost:8080/"
        },
        "id": "nGlixEC_n5vA",
        "outputId": "b151ced1-8b36-45be-fa8c-b3a142486354"
      },
      "source": [
        "# We're going to use our word swap class as the attack transformation.\n",
        "transformation = Swapper_()\n",
        "\n",
        "constraints = [RepeatModification(),\n",
        "               StopwordModification()]\n",
        "\n",
        "search_method = ParticleSwarmOptimization(pop_size=10,max_iters=5,post_turn_check=True)\n",
        "\n",
        "goal_function = UntargetedClassification(model_wrapper)\n",
        "\n",
        "# Now, let's make the attack from the 4 components:\n",
        "attack = Attack(goal_function, constraints, transformation, search_method)"
      ],
      "execution_count": 34,
      "outputs": [
        {
          "output_type": "stream",
          "text": [
            "\u001b[34;1mtextattack\u001b[0m: Unknown if model of class <class 'transformers.models.distilbert.modeling_distilbert.DistilBertForSequenceClassification'> compatible with goal function <class 'textattack.goal_functions.classification.untargeted_classification.UntargetedClassification'>.\n"
          ],
          "name": "stderr"
        }
      ]
    },
    {
      "cell_type": "code",
      "metadata": {
        "colab": {
          "base_uri": "https://localhost:8080/"
        },
        "id": "xnYmPzWPpj7Q",
        "outputId": "5ba653ac-042b-498e-e659-7a1b94f6588e"
      },
      "source": [
        "print(attack)"
      ],
      "execution_count": 35,
      "outputs": [
        {
          "output_type": "stream",
          "text": [
            "Attack(\n",
            "  (search_method): ParticleSwarmOptimization(\n",
            "    (pop_size):  10\n",
            "    (max_iters):  5\n",
            "    (post_turn_check):  True\n",
            "    (max_turn_retries):  20\n",
            "  )\n",
            "  (goal_function):  UntargetedClassification\n",
            "  (transformation):  Swapper_\n",
            "  (constraints): \n",
            "    (0): RepeatModification\n",
            "    (1): StopwordModification\n",
            "  (is_black_box):  True\n",
            ")\n"
          ],
          "name": "stdout"
        }
      ]
    },
    {
      "cell_type": "code",
      "metadata": {
        "colab": {
          "base_uri": "https://localhost:8080/",
          "height": 1000
        },
        "id": "UpPST74lpyiu",
        "outputId": "4c436c99-4410-4e51-87ad-c38b83775132"
      },
      "source": [
        "attack_stats(attack, dataset, 25)"
      ],
      "execution_count": 36,
      "outputs": [
        {
          "output_type": "stream",
          "text": [
            "\r  0%|          | 0/25 [00:00<?, ?it/s]"
          ],
          "name": "stderr"
        },
        {
          "output_type": "stream",
          "text": [
            "Attack(\n",
            "  (search_method): ParticleSwarmOptimization(\n",
            "    (pop_size):  10\n",
            "    (max_iters):  5\n",
            "    (post_turn_check):  True\n",
            "    (max_turn_retries):  20\n",
            "  )\n",
            "  (goal_function):  UntargetedClassification\n",
            "  (transformation):  Swapper_\n",
            "  (constraints): \n",
            "    (0): RepeatModification\n",
            "    (1): StopwordModification\n",
            "  (is_black_box):  True\n",
            ")\n"
          ],
          "name": "stdout"
        },
        {
          "output_type": "display_data",
          "data": {
            "text/html": [
              "<font color = green>Positive (100%)</font> --> <font color = red>Negative (100%)</font><br>it 's a <font color = green>charming</font> and often <font color = green>affecting</font> journey . <br>it 's a <font color = red>laconic</font> and often <font color = red>wasting</font> journey . "
            ],
            "text/plain": [
              "<IPython.core.display.HTML object>"
            ]
          },
          "metadata": {
            "tags": []
          }
        },
        {
          "output_type": "stream",
          "text": [
            "[Succeeded / Failed / Total] 1 / 0 / 1:   4%|▍         | 1/25 [00:00<00:08,  2.84it/s]"
          ],
          "name": "stderr"
        },
        {
          "output_type": "display_data",
          "data": {
            "text/html": [
              "<font color = red>Negative (99%)</font> --> <font color = red>[FAILED]</font><br>unflinchingly bleak and desperate "
            ],
            "text/plain": [
              "<IPython.core.display.HTML object>"
            ]
          },
          "metadata": {
            "tags": []
          }
        },
        {
          "output_type": "stream",
          "text": [
            "[Succeeded / Failed / Total] 1 / 1 / 2:   8%|▊         | 2/25 [00:00<00:07,  2.92it/s]"
          ],
          "name": "stderr"
        },
        {
          "output_type": "display_data",
          "data": {
            "text/html": [
              "<font color = green>Positive (100%)</font> --> <font color = red>[FAILED]</font><br>allows us to hope that nolan is poised to embark a major career as a commercial yet inventive filmmaker . "
            ],
            "text/plain": [
              "<IPython.core.display.HTML object>"
            ]
          },
          "metadata": {
            "tags": []
          }
        },
        {
          "output_type": "stream",
          "text": [
            "[Succeeded / Failed / Total] 1 / 2 / 3:  12%|█▏        | 3/25 [00:11<01:21,  3.70s/it]"
          ],
          "name": "stderr"
        },
        {
          "output_type": "display_data",
          "data": {
            "text/html": [
              "<font color = green>Positive (100%)</font> --> <font color = red>[FAILED]</font><br>the acting , costumes , music , cinematography and sound are all astounding given the production 's austere locales . "
            ],
            "text/plain": [
              "<IPython.core.display.HTML object>"
            ]
          },
          "metadata": {
            "tags": []
          }
        },
        {
          "output_type": "stream",
          "text": [
            "[Succeeded / Failed / Total] 1 / 3 / 4:  16%|█▌        | 4/25 [00:16<01:24,  4.03s/it]"
          ],
          "name": "stderr"
        },
        {
          "output_type": "display_data",
          "data": {
            "text/html": [
              "<font color = red>Negative (100%)</font> --> <font color = red>[FAILED]</font><br>it 's slow -- very , very slow . "
            ],
            "text/plain": [
              "<IPython.core.display.HTML object>"
            ]
          },
          "metadata": {
            "tags": []
          }
        },
        {
          "output_type": "stream",
          "text": [
            "[Succeeded / Failed / Total] 1 / 4 / 5:  20%|██        | 5/25 [00:16<01:05,  3.26s/it]"
          ],
          "name": "stderr"
        },
        {
          "output_type": "display_data",
          "data": {
            "text/html": [
              "<font color = green>Positive (100%)</font> --> <font color = red>[FAILED]</font><br>although laced with humor and a few fanciful touches , the film is a refreshingly serious look at young women . "
            ],
            "text/plain": [
              "<IPython.core.display.HTML object>"
            ]
          },
          "metadata": {
            "tags": []
          }
        },
        {
          "output_type": "stream",
          "text": [
            "[Succeeded / Failed / Total] 1 / 5 / 6:  24%|██▍       | 6/25 [00:21<01:07,  3.55s/it]"
          ],
          "name": "stderr"
        },
        {
          "output_type": "display_data",
          "data": {
            "text/html": [
              "<font color = red>Negative (99%)</font> --> <font color = green>Positive (80%)</font><br>a sometimes <font color = red>tedious</font> film . <br>a sometimes <font color = green>computationally</font> film . "
            ],
            "text/plain": [
              "<IPython.core.display.HTML object>"
            ]
          },
          "metadata": {
            "tags": []
          }
        },
        {
          "output_type": "stream",
          "text": [
            "[Succeeded / Failed / Total] 2 / 5 / 7:  28%|██▊       | 7/25 [00:21<00:55,  3.06s/it]"
          ],
          "name": "stderr"
        },
        {
          "output_type": "display_data",
          "data": {
            "text/html": [
              "<font color = red>Negative (98%)</font> --> <font color = red>[FAILED]</font><br>or doing last year 's taxes with your ex-wife . "
            ],
            "text/plain": [
              "<IPython.core.display.HTML object>"
            ]
          },
          "metadata": {
            "tags": []
          }
        },
        {
          "output_type": "stream",
          "text": [
            "[Succeeded / Failed / Total] 2 / 6 / 8:  32%|███▏      | 8/25 [00:22<00:46,  2.75s/it]"
          ],
          "name": "stderr"
        },
        {
          "output_type": "display_data",
          "data": {
            "text/html": [
              "<font color = green>Positive (100%)</font> --> <font color = red>Negative (58%)</font><br>you do n't have to know about music to <font color = green>appreciate</font> the film 's easygoing blend of comedy and romance . <br>you do n't have to know about music to <font color = red>undo</font> the film 's easygoing blend of comedy and romance . "
            ],
            "text/plain": [
              "<IPython.core.display.HTML object>"
            ]
          },
          "metadata": {
            "tags": []
          }
        },
        {
          "output_type": "stream",
          "text": [
            "[Succeeded / Failed / Total] 3 / 6 / 9:  36%|███▌      | 9/25 [00:22<00:39,  2.48s/it]"
          ],
          "name": "stderr"
        },
        {
          "output_type": "display_data",
          "data": {
            "text/html": [
              "<font color = red>Negative (100%)</font> --> <font color = red>[FAILED]</font><br>in exactly 89 minutes , most of which passed as slowly as if i 'd been sitting naked on an igloo , formula 51 sank from quirky to jerky to utter turkey . "
            ],
            "text/plain": [
              "<IPython.core.display.HTML object>"
            ]
          },
          "metadata": {
            "tags": []
          }
        },
        {
          "output_type": "stream",
          "text": [
            "[Succeeded / Failed / Total] 3 / 7 / 10:  40%|████      | 10/25 [00:29<00:44,  3.00s/it]"
          ],
          "name": "stderr"
        },
        {
          "output_type": "display_data",
          "data": {
            "text/html": [
              "<font color = green>Positive (100%)</font> --> <font color = red>[FAILED]</font><br>the mesmerizing performances of the leads keep the film grounded and keep the audience riveted . "
            ],
            "text/plain": [
              "<IPython.core.display.HTML object>"
            ]
          },
          "metadata": {
            "tags": []
          }
        },
        {
          "output_type": "stream",
          "text": [
            "[Succeeded / Failed / Total] 3 / 8 / 11:  44%|████▍     | 11/25 [00:34<00:43,  3.13s/it]"
          ],
          "name": "stderr"
        },
        {
          "output_type": "display_data",
          "data": {
            "text/html": [
              "<font color = red>Negative (100%)</font> --> <font color = green>Positive (87%)</font><br>it takes a strange kind of <font color = red>laziness</font> to <font color = red>waste</font> the talents of <font color = red>robert</font> forster , anne meara , eugene levy , and reginald veljohnson all in the same movie . <br>it takes a strange kind of <font color = green>shadowing</font> to <font color = green>potable</font> the talents of <font color = green>richard</font> forster , anne meara , eugene levy , and reginald veljohnson all in the same movie . "
            ],
            "text/plain": [
              "<IPython.core.display.HTML object>"
            ]
          },
          "metadata": {
            "tags": []
          }
        },
        {
          "output_type": "stream",
          "text": [
            "[Succeeded / Failed / Total] 4 / 8 / 12:  48%|████▊     | 12/25 [00:35<00:38,  2.96s/it]"
          ],
          "name": "stderr"
        },
        {
          "output_type": "display_data",
          "data": {
            "text/html": [
              "<font color = red>Negative (100%)</font> --> <font color = red>[FAILED]</font><br>... the film suffers from a lack of humor ( something needed to balance out the violence ) ... "
            ],
            "text/plain": [
              "<IPython.core.display.HTML object>"
            ]
          },
          "metadata": {
            "tags": []
          }
        },
        {
          "output_type": "stream",
          "text": [
            "[Succeeded / Failed / Total] 4 / 9 / 13:  52%|█████▏    | 13/25 [00:38<00:35,  2.93s/it]"
          ],
          "name": "stderr"
        },
        {
          "output_type": "display_data",
          "data": {
            "text/html": [
              "<font color = green>Positive (91%)</font> --> <font color = red>Negative (87%)</font><br>we root for ( clara and paul ) , even like them , though perhaps it 's an emotion closer to <font color = green>pity</font> . <br>we root for ( clara and paul ) , even like them , though perhaps it 's an emotion closer to <font color = red>thine</font> . "
            ],
            "text/plain": [
              "<IPython.core.display.HTML object>"
            ]
          },
          "metadata": {
            "tags": []
          }
        },
        {
          "output_type": "stream",
          "text": [
            "[Succeeded / Failed / Total] 5 / 9 / 14:  56%|█████▌    | 14/25 [00:38<00:30,  2.74s/it]"
          ],
          "name": "stderr"
        },
        {
          "output_type": "display_data",
          "data": {
            "text/html": [
              "<font color = red>Negative (100%)</font> --> <font color = green>Positive (100%)</font><br>even horror fans will most likely not find what they 're seeking with trouble every day ; the movie <font color = red>lacks</font> both thrills and humor . <br>even horror fans will most likely not find what they 're seeking with trouble every day ; the movie <font color = green>renders</font> both thrills and humor . "
            ],
            "text/plain": [
              "<IPython.core.display.HTML object>"
            ]
          },
          "metadata": {
            "tags": []
          }
        },
        {
          "output_type": "stream",
          "text": [
            "[Succeeded / Failed / Total] 6 / 9 / 15:  60%|██████    | 15/25 [00:38<00:25,  2.59s/it]"
          ],
          "name": "stderr"
        },
        {
          "output_type": "display_data",
          "data": {
            "text/html": [
              "<font color = green>Positive (100%)</font> --> <font color = red>[FAILED]</font><br>a gorgeous , high-spirited musical from india that exquisitely blends music , dance , song , and high drama . "
            ],
            "text/plain": [
              "<IPython.core.display.HTML object>"
            ]
          },
          "metadata": {
            "tags": []
          }
        },
        {
          "output_type": "stream",
          "text": [
            "[Succeeded / Failed / Total] 6 / 10 / 16:  64%|██████▍   | 16/25 [00:42<00:24,  2.68s/it]"
          ],
          "name": "stderr"
        },
        {
          "output_type": "display_data",
          "data": {
            "text/html": [
              "<font color = green>Positive (100%)</font> --> <font color = red>Negative (89%)</font><br>the <font color = green>emotions</font> are <font color = green>raw</font> and will <font color = green>strike</font> a <font color = green>nerve</font> with <font color = green>anyone</font> who 's <font color = green>ever</font> had family trauma . <br>the <font color = red>emotion</font> are <font color = red>perishable</font> and will <font color = red>downed</font> a <font color = red>axon</font> with <font color = red>anybody</font> who 's <font color = red>hardly</font> had family trauma . "
            ],
            "text/plain": [
              "<IPython.core.display.HTML object>"
            ]
          },
          "metadata": {
            "tags": []
          }
        },
        {
          "output_type": "stream",
          "text": [
            "[Succeeded / Failed / Total] 7 / 10 / 17:  68%|██████▊   | 17/25 [00:44<00:21,  2.63s/it]"
          ],
          "name": "stderr"
        },
        {
          "output_type": "display_data",
          "data": {
            "text/html": [
              "<font color = green>Positive (100%)</font> --> <font color = red>Negative (65%)</font><br>audrey tatou has a knack for <font color = green>picking</font> roles that <font color = green>magnify</font> her outrageous <font color = green>charm</font> , and in this <font color = green>literate</font> french comedy , she 's as morning-glory <font color = green>exuberant</font> as she was in amélie . <br>audrey tatou has a knack for <font color = red>slap</font> roles that <font color = red>quantize</font> her outrageous <font color = red>whiteness</font> , and in this <font color = red>sedentary</font> french comedy , she 's as morning-glory <font color = red>nightmarish</font> as she was in amélie . "
            ],
            "text/plain": [
              "<IPython.core.display.HTML object>"
            ]
          },
          "metadata": {
            "tags": []
          }
        },
        {
          "output_type": "stream",
          "text": [
            "[Succeeded / Failed / Total] 8 / 10 / 18:  72%|███████▏  | 18/25 [00:46<00:18,  2.58s/it]"
          ],
          "name": "stderr"
        },
        {
          "output_type": "display_data",
          "data": {
            "text/html": [
              "<font color = red>Negative (100%)</font> --> <font color = red>[FAILED]</font><br>... the movie is just a plain old monster . "
            ],
            "text/plain": [
              "<IPython.core.display.HTML object>"
            ]
          },
          "metadata": {
            "tags": []
          }
        },
        {
          "output_type": "stream",
          "text": [
            "[Succeeded / Failed / Total] 8 / 11 / 19:  76%|███████▌  | 19/25 [00:47<00:14,  2.48s/it]"
          ],
          "name": "stderr"
        },
        {
          "output_type": "display_data",
          "data": {
            "text/html": [
              "<font color = red>Negative (100%)</font> --> <font color = green>Positive (92%)</font><br>in its best moments , resembles a <font color = red>bad</font> high school production of grease , without benefit of song . <br>in its best moments , resembles a <font color = green>good</font> high school production of grease , without benefit of song . "
            ],
            "text/plain": [
              "<IPython.core.display.HTML object>"
            ]
          },
          "metadata": {
            "tags": []
          }
        },
        {
          "output_type": "stream",
          "text": [
            "[Succeeded / Failed / Total] 9 / 11 / 20:  80%|████████  | 20/25 [00:47<00:11,  2.37s/it]"
          ],
          "name": "stderr"
        },
        {
          "output_type": "display_data",
          "data": {
            "text/html": [
              "<font color = red>Negative (96%)</font> --> <font color = green>Positive (79%)</font><br>pumpkin takes an admirable look at the hypocrisy of political correctness , but it does so with such an <font color = red>uneven</font> tone that you never know when humor ends and tragedy begins . <br>pumpkin takes an admirable look at the hypocrisy of political correctness , but it does so with such an <font color = green>precipitous</font> tone that you never know when humor ends and tragedy begins . "
            ],
            "text/plain": [
              "<IPython.core.display.HTML object>"
            ]
          },
          "metadata": {
            "tags": []
          }
        },
        {
          "output_type": "stream",
          "text": [
            "[Succeeded / Failed / Total] 10 / 11 / 21:  84%|████████▍ | 21/25 [00:47<00:09,  2.28s/it]"
          ],
          "name": "stderr"
        },
        {
          "output_type": "display_data",
          "data": {
            "text/html": [
              "<font color = green>Positive (71%)</font> --> <font color = gray>[SKIPPED]</font><br>the iditarod lasts for days - this just felt like it did . "
            ],
            "text/plain": [
              "<IPython.core.display.HTML object>"
            ]
          },
          "metadata": {
            "tags": []
          }
        },
        {
          "output_type": "stream",
          "text": [
            "\r[Succeeded / Failed / Total] 10 / 11 / 22:  88%|████████▊ | 22/25 [00:47<00:06,  2.18s/it]"
          ],
          "name": "stderr"
        },
        {
          "output_type": "display_data",
          "data": {
            "text/html": [
              "<font color = green>Positive (64%)</font> --> <font color = gray>[SKIPPED]</font><br>holden caulfield did it better . "
            ],
            "text/plain": [
              "<IPython.core.display.HTML object>"
            ]
          },
          "metadata": {
            "tags": []
          }
        },
        {
          "output_type": "stream",
          "text": [
            "\r[Succeeded / Failed / Total] 10 / 11 / 23:  92%|█████████▏| 23/25 [00:48<00:04,  2.09s/it]"
          ],
          "name": "stderr"
        },
        {
          "output_type": "display_data",
          "data": {
            "text/html": [
              "<font color = green>Positive (100%)</font> --> <font color = red>[FAILED]</font><br>a delectable and intriguing thriller filled with surprises , read my lips is an original . "
            ],
            "text/plain": [
              "<IPython.core.display.HTML object>"
            ]
          },
          "metadata": {
            "tags": []
          }
        },
        {
          "output_type": "stream",
          "text": [
            "[Succeeded / Failed / Total] 10 / 12 / 24:  96%|█████████▌| 24/25 [00:50<00:02,  2.10s/it]"
          ],
          "name": "stderr"
        },
        {
          "output_type": "display_data",
          "data": {
            "text/html": [
              "<font color = green>Positive (100%)</font> --> <font color = red>[FAILED]</font><br>seldom has a movie so closely matched the spirit of a man and his work . "
            ],
            "text/plain": [
              "<IPython.core.display.HTML object>"
            ]
          },
          "metadata": {
            "tags": []
          }
        },
        {
          "output_type": "stream",
          "text": [
            "\r[Succeeded / Failed / Total] 10 / 13 / 25: 100%|██████████| 25/25 [00:53<00:00,  2.13s/it]"
          ],
          "name": "stderr"
        },
        {
          "output_type": "display_data",
          "data": {
            "text/html": [
              "<font color = red>Negative (100%)</font> --> <font color = green>Positive (77%)</font><br><font color = red>nicks</font> , <font color = red>seemingly</font> uncertain what 's <font color = red>going</font> to <font color = red>make</font> <font color = red>people</font> laugh , runs the gamut from <font color = red>stale</font> <font color = red>parody</font> to raunchy sex <font color = red>gags</font> to <font color = red>formula</font> romantic <font color = red>comedy</font> . <br><font color = green>stevie</font> , <font color = green>unrealistic</font> uncertain what 's <font color = green>go</font> to <font color = green>give</font> <font color = green>residents</font> laugh , runs the gamut from <font color = green>leaky</font> <font color = green>spoof</font> to raunchy sex <font color = green>extras</font> to <font color = green>equation</font> romantic <font color = green>drama</font> . "
            ],
            "text/plain": [
              "<IPython.core.display.HTML object>"
            ]
          },
          "metadata": {
            "tags": []
          }
        },
        {
          "output_type": "stream",
          "text": [
            "[Succeeded / Failed / Total] 11 / 13 / 26: : 26it [01:10,  2.69s/it]"
          ],
          "name": "stderr"
        },
        {
          "output_type": "display_data",
          "data": {
            "text/html": [
              "<font color = red>Negative (99%)</font> --> <font color = red>[FAILED]</font><br>the action switches between past and present , but the material link is too tenuous to anchor the emotional connections that purport to span a 125-year divide . "
            ],
            "text/plain": [
              "<IPython.core.display.HTML object>"
            ]
          },
          "metadata": {
            "tags": []
          }
        },
        {
          "output_type": "stream",
          "text": [
            "[Succeeded / Failed / Total] 11 / 14 / 27: : 27it [01:11,  2.63s/it]"
          ],
          "name": "stderr"
        },
        {
          "output_type": "stream",
          "text": [
            "+-------------------------------+--------+\n",
            "| Attack Results                |        |\n",
            "+-------------------------------+--------+\n",
            "| Number of successful attacks: | 11     |\n",
            "| Number of failed attacks:     | 14     |\n",
            "| Number of skipped attacks:    | 2      |\n",
            "| Original accuracy:            | 92.59% |\n",
            "| Accuracy under attack:        | 51.85% |\n",
            "| Attack success rate:          | 44.0%  |\n",
            "| Average perturbed word %:     | 16.41% |\n",
            "| Average num. words per input: | 16.33  |\n",
            "| Avg num queries:              | 182.84 |\n",
            "+-------------------------------+--------+"
          ],
          "name": "stdout"
        },
        {
          "output_type": "stream",
          "text": [
            "\n",
            "\u001b[34;1mtextattack\u001b[0m: Attack time: 71.10034513473511s\n"
          ],
          "name": "stderr"
        }
      ]
    },
    {
      "cell_type": "markdown",
      "metadata": {
        "id": "lcHSAh5htm4o"
      },
      "source": [
        "### Glove, ParticleSwarmOptimization, RepeatModification, StopwordModification"
      ]
    },
    {
      "cell_type": "code",
      "metadata": {
        "colab": {
          "base_uri": "https://localhost:8080/"
        },
        "id": "F-sjXP8rPBE9",
        "outputId": "1be1b7eb-6dc6-4c6e-ca05-f0c7ae18ebb0"
      },
      "source": [
        "# We're going to use our word swap class as the attack transformation.\n",
        "transformation = Swapper__()\n",
        "\n",
        "constraints = [RepeatModification(),\n",
        "               StopwordModification()]\n",
        "\n",
        "search_method = ParticleSwarmOptimization(pop_size=10,max_iters=5,post_turn_check=True)\n",
        "\n",
        "goal_function = UntargetedClassification(model_wrapper)\n",
        "\n",
        "# Now, let's make the attack from the 4 components:\n",
        "attack = Attack(goal_function, constraints, transformation, search_method)"
      ],
      "execution_count": 37,
      "outputs": [
        {
          "output_type": "stream",
          "text": [
            "\u001b[34;1mtextattack\u001b[0m: Unknown if model of class <class 'transformers.models.distilbert.modeling_distilbert.DistilBertForSequenceClassification'> compatible with goal function <class 'textattack.goal_functions.classification.untargeted_classification.UntargetedClassification'>.\n"
          ],
          "name": "stderr"
        }
      ]
    },
    {
      "cell_type": "code",
      "metadata": {
        "colab": {
          "base_uri": "https://localhost:8080/"
        },
        "id": "8201a0SkPEc4",
        "outputId": "e02d18a8-062f-41ee-bc01-9d48cf5f36b6"
      },
      "source": [
        "print(attack)"
      ],
      "execution_count": 38,
      "outputs": [
        {
          "output_type": "stream",
          "text": [
            "Attack(\n",
            "  (search_method): ParticleSwarmOptimization(\n",
            "    (pop_size):  10\n",
            "    (max_iters):  5\n",
            "    (post_turn_check):  True\n",
            "    (max_turn_retries):  20\n",
            "  )\n",
            "  (goal_function):  UntargetedClassification\n",
            "  (transformation):  Swapper__\n",
            "  (constraints): \n",
            "    (0): RepeatModification\n",
            "    (1): StopwordModification\n",
            "  (is_black_box):  True\n",
            ")\n"
          ],
          "name": "stdout"
        }
      ]
    },
    {
      "cell_type": "code",
      "metadata": {
        "colab": {
          "base_uri": "https://localhost:8080/",
          "height": 1000
        },
        "id": "EVzPBCjRPGR9",
        "outputId": "45a0f608-d8e6-44cd-8c78-fa0452958272"
      },
      "source": [
        "attack_stats(attack, dataset, 25)"
      ],
      "execution_count": 39,
      "outputs": [
        {
          "output_type": "stream",
          "text": [
            "\r  0%|          | 0/25 [00:00<?, ?it/s]"
          ],
          "name": "stderr"
        },
        {
          "output_type": "stream",
          "text": [
            "Attack(\n",
            "  (search_method): ParticleSwarmOptimization(\n",
            "    (pop_size):  10\n",
            "    (max_iters):  5\n",
            "    (post_turn_check):  True\n",
            "    (max_turn_retries):  20\n",
            "  )\n",
            "  (goal_function):  UntargetedClassification\n",
            "  (transformation):  Swapper__\n",
            "  (constraints): \n",
            "    (0): RepeatModification\n",
            "    (1): StopwordModification\n",
            "  (is_black_box):  True\n",
            ")\n"
          ],
          "name": "stdout"
        },
        {
          "output_type": "display_data",
          "data": {
            "text/html": [
              "<font color = green>Positive (100%)</font> --> <font color = red>Negative (70%)</font><br>it 's a <font color = green>charming</font> and often <font color = green>affecting</font> journey . <br>it 's a <font color = red>pedantic</font> and often <font color = red>destructive</font> journey . "
            ],
            "text/plain": [
              "<IPython.core.display.HTML object>"
            ]
          },
          "metadata": {
            "tags": []
          }
        },
        {
          "output_type": "stream",
          "text": [
            "[Succeeded / Failed / Total] 1 / 0 / 1:   4%|▍         | 1/25 [00:00<00:13,  1.73it/s]"
          ],
          "name": "stderr"
        },
        {
          "output_type": "display_data",
          "data": {
            "text/html": [
              "<font color = red>Negative (99%)</font> --> <font color = red>[FAILED]</font><br>unflinchingly bleak and desperate "
            ],
            "text/plain": [
              "<IPython.core.display.HTML object>"
            ]
          },
          "metadata": {
            "tags": []
          }
        },
        {
          "output_type": "stream",
          "text": [
            "[Succeeded / Failed / Total] 1 / 1 / 2:   8%|▊         | 2/25 [00:01<00:12,  1.88it/s]"
          ],
          "name": "stderr"
        },
        {
          "output_type": "display_data",
          "data": {
            "text/html": [
              "<font color = green>Positive (100%)</font> --> <font color = red>Negative (56%)</font><br><font color = green>allows</font> us to <font color = green>hope</font> that <font color = green>nolan</font> is <font color = green>poised</font> to <font color = green>embark</font> a major career as a commercial <font color = green>yet</font> <font color = green>inventive</font> <font color = green>filmmaker</font> . <br><font color = red>allow</font> us to <font color = red>tykkum</font> that <font color = red>fogelin</font> is <font color = red>transfered</font> to <font color = red>capitalize</font> a major career as a commercial <font color = red>though</font> <font color = red>ingenious</font> <font color = red>screenwriter</font> . "
            ],
            "text/plain": [
              "<IPython.core.display.HTML object>"
            ]
          },
          "metadata": {
            "tags": []
          }
        },
        {
          "output_type": "stream",
          "text": [
            "[Succeeded / Failed / Total] 2 / 1 / 3:  12%|█▏        | 3/25 [00:16<01:59,  5.45s/it]"
          ],
          "name": "stderr"
        },
        {
          "output_type": "display_data",
          "data": {
            "text/html": [
              "<font color = green>Positive (100%)</font> --> <font color = red>Negative (81%)</font><br>the acting , costumes , music , cinematography and sound are all <font color = green>astounding</font> given the production 's austere locales . <br>the acting , costumes , music , cinematography and sound are all <font color = red>review</font> given the production 's austere locales . "
            ],
            "text/plain": [
              "<IPython.core.display.HTML object>"
            ]
          },
          "metadata": {
            "tags": []
          }
        },
        {
          "output_type": "stream",
          "text": [
            "[Succeeded / Failed / Total] 3 / 1 / 4:  16%|█▌        | 4/25 [00:16<01:28,  4.23s/it]"
          ],
          "name": "stderr"
        },
        {
          "output_type": "display_data",
          "data": {
            "text/html": [
              "<font color = red>Negative (100%)</font> --> <font color = green>Positive (99%)</font><br>it 's <font color = red>slow</font> -- very , very <font color = red>slow</font> . <br>it 's <font color = green>fast</font> -- very , very <font color = green>fast</font> . "
            ],
            "text/plain": [
              "<IPython.core.display.HTML object>"
            ]
          },
          "metadata": {
            "tags": []
          }
        },
        {
          "output_type": "stream",
          "text": [
            "[Succeeded / Failed / Total] 4 / 1 / 5:  20%|██        | 5/25 [00:17<01:08,  3.43s/it]"
          ],
          "name": "stderr"
        },
        {
          "output_type": "display_data",
          "data": {
            "text/html": [
              "<font color = green>Positive (100%)</font> --> <font color = red>Negative (96%)</font><br>although laced with humor and a few fanciful <font color = green>touches</font> , the film is a <font color = green>refreshingly</font> <font color = green>serious</font> <font color = green>look</font> at young women . <br>although laced with humor and a few fanciful <font color = red>exiting</font> , the film is a <font color = red>alacran</font> <font color = red>severe</font> <font color = red>find</font> at young women . "
            ],
            "text/plain": [
              "<IPython.core.display.HTML object>"
            ]
          },
          "metadata": {
            "tags": []
          }
        },
        {
          "output_type": "stream",
          "text": [
            "[Succeeded / Failed / Total] 5 / 1 / 6:  24%|██▍       | 6/25 [00:19<01:02,  3.29s/it]"
          ],
          "name": "stderr"
        },
        {
          "output_type": "display_data",
          "data": {
            "text/html": [
              "<font color = red>Negative (99%)</font> --> <font color = green>Positive (80%)</font><br>a sometimes <font color = red>tedious</font> film . <br>a sometimes <font color = green>computationally</font> film . "
            ],
            "text/plain": [
              "<IPython.core.display.HTML object>"
            ]
          },
          "metadata": {
            "tags": []
          }
        },
        {
          "output_type": "stream",
          "text": [
            "[Succeeded / Failed / Total] 6 / 1 / 7:  28%|██▊       | 7/25 [00:19<00:51,  2.85s/it]"
          ],
          "name": "stderr"
        },
        {
          "output_type": "display_data",
          "data": {
            "text/html": [
              "<font color = red>Negative (98%)</font> --> <font color = red>[FAILED]</font><br>or doing last year 's taxes with your ex-wife . "
            ],
            "text/plain": [
              "<IPython.core.display.HTML object>"
            ]
          },
          "metadata": {
            "tags": []
          }
        },
        {
          "output_type": "stream",
          "text": [
            "[Succeeded / Failed / Total] 6 / 2 / 8:  32%|███▏      | 8/25 [00:20<00:43,  2.55s/it]"
          ],
          "name": "stderr"
        },
        {
          "output_type": "display_data",
          "data": {
            "text/html": [
              "<font color = green>Positive (100%)</font> --> <font color = red>Negative (95%)</font><br>you do n't have to know about music to <font color = green>appreciate</font> the film 's easygoing blend of comedy and romance . <br>you do n't have to know about music to <font color = red>hamper</font> the film 's easygoing blend of comedy and romance . "
            ],
            "text/plain": [
              "<IPython.core.display.HTML object>"
            ]
          },
          "metadata": {
            "tags": []
          }
        },
        {
          "output_type": "stream",
          "text": [
            "[Succeeded / Failed / Total] 7 / 2 / 9:  36%|███▌      | 9/25 [00:20<00:37,  2.32s/it]"
          ],
          "name": "stderr"
        },
        {
          "output_type": "display_data",
          "data": {
            "text/html": [
              "<font color = red>Negative (100%)</font> --> <font color = red>[FAILED]</font><br>in exactly 89 minutes , most of which passed as slowly as if i 'd been sitting naked on an igloo , formula 51 sank from quirky to jerky to utter turkey . "
            ],
            "text/plain": [
              "<IPython.core.display.HTML object>"
            ]
          },
          "metadata": {
            "tags": []
          }
        },
        {
          "output_type": "stream",
          "text": [
            "[Succeeded / Failed / Total] 7 / 3 / 10:  40%|████      | 10/25 [00:41<01:01,  4.13s/it]"
          ],
          "name": "stderr"
        },
        {
          "output_type": "display_data",
          "data": {
            "text/html": [
              "<font color = green>Positive (100%)</font> --> <font color = red>[FAILED]</font><br>the mesmerizing performances of the leads keep the film grounded and keep the audience riveted . "
            ],
            "text/plain": [
              "<IPython.core.display.HTML object>"
            ]
          },
          "metadata": {
            "tags": []
          }
        },
        {
          "output_type": "stream",
          "text": [
            "[Succeeded / Failed / Total] 7 / 4 / 11:  44%|████▍     | 11/25 [00:50<01:04,  4.57s/it]"
          ],
          "name": "stderr"
        },
        {
          "output_type": "display_data",
          "data": {
            "text/html": [
              "<font color = red>Negative (100%)</font> --> <font color = green>Positive (99%)</font><br>it takes a <font color = red>strange</font> kind of <font color = red>laziness</font> to <font color = red>waste</font> the talents of <font color = red>robert</font> forster , anne meara , eugene levy , and reginald veljohnson all in the same <font color = red>movie</font> . <br>it takes a <font color = green>abeillei</font> kind of <font color = green>margarine</font> to <font color = green>raw</font> the talents of <font color = green>sproull</font> forster , anne meara , eugene levy , and reginald veljohnson all in the same <font color = green>film</font> . "
            ],
            "text/plain": [
              "<IPython.core.display.HTML object>"
            ]
          },
          "metadata": {
            "tags": []
          }
        },
        {
          "output_type": "stream",
          "text": [
            "[Succeeded / Failed / Total] 8 / 4 / 12:  48%|████▊     | 12/25 [00:53<00:58,  4.47s/it]"
          ],
          "name": "stderr"
        },
        {
          "output_type": "display_data",
          "data": {
            "text/html": [
              "<font color = red>Negative (100%)</font> --> <font color = green>Positive (56%)</font><br>... the film <font color = red>suffers</font> from a <font color = red>lack</font> of <font color = red>humor</font> ( something needed to balance out the violence ) ... <br>... the film <font color = green>benefited</font> from a <font color = green>absence</font> of <font color = green>labvakar</font> ( something needed to balance out the violence ) ... "
            ],
            "text/plain": [
              "<IPython.core.display.HTML object>"
            ]
          },
          "metadata": {
            "tags": []
          }
        },
        {
          "output_type": "stream",
          "text": [
            "[Succeeded / Failed / Total] 9 / 4 / 13:  52%|█████▏    | 13/25 [00:55<00:50,  4.24s/it]"
          ],
          "name": "stderr"
        },
        {
          "output_type": "display_data",
          "data": {
            "text/html": [
              "<font color = green>Positive (91%)</font> --> <font color = red>Negative (84%)</font><br>we root for ( clara and paul ) , even like them , <font color = green>though</font> perhaps it 's an emotion closer to pity . <br>we root for ( clara and paul ) , even like them , <font color = red>however</font> perhaps it 's an emotion closer to pity . "
            ],
            "text/plain": [
              "<IPython.core.display.HTML object>"
            ]
          },
          "metadata": {
            "tags": []
          }
        },
        {
          "output_type": "stream",
          "text": [
            "[Succeeded / Failed / Total] 10 / 4 / 14:  56%|█████▌    | 14/25 [00:55<00:43,  3.98s/it]"
          ],
          "name": "stderr"
        },
        {
          "output_type": "display_data",
          "data": {
            "text/html": [
              "<font color = red>Negative (100%)</font> --> <font color = green>Positive (100%)</font><br>even horror fans will most likely not find what they 're seeking with trouble every day ; the movie <font color = red>lacks</font> both thrills and humor . <br>even horror fans will most likely not find what they 're seeking with trouble every day ; the movie <font color = green>possesses</font> both thrills and humor . "
            ],
            "text/plain": [
              "<IPython.core.display.HTML object>"
            ]
          },
          "metadata": {
            "tags": []
          }
        },
        {
          "output_type": "stream",
          "text": [
            "[Succeeded / Failed / Total] 11 / 4 / 15:  60%|██████    | 15/25 [00:56<00:37,  3.76s/it]"
          ],
          "name": "stderr"
        },
        {
          "output_type": "display_data",
          "data": {
            "text/html": [
              "<font color = green>Positive (100%)</font> --> <font color = red>Negative (98%)</font><br>a <font color = green>gorgeous</font> , high-spirited musical from <font color = green>india</font> that <font color = green>exquisitely</font> <font color = green>blends</font> music , dance , song , and <font color = green>high</font> drama . <br>a <font color = red>dumb</font> , high-spirited musical from <font color = red>pakistan</font> that <font color = red>wisher</font> <font color = red>epochs</font> music , dance , song , and <font color = red>low</font> drama . "
            ],
            "text/plain": [
              "<IPython.core.display.HTML object>"
            ]
          },
          "metadata": {
            "tags": []
          }
        },
        {
          "output_type": "stream",
          "text": [
            "[Succeeded / Failed / Total] 12 / 4 / 16:  64%|██████▍   | 16/25 [00:58<00:32,  3.66s/it]"
          ],
          "name": "stderr"
        },
        {
          "output_type": "display_data",
          "data": {
            "text/html": [
              "<font color = green>Positive (100%)</font> --> <font color = red>Negative (99%)</font><br>the <font color = green>emotions</font> are <font color = green>raw</font> and will <font color = green>strike</font> a <font color = green>nerve</font> with anyone who 's ever had <font color = green>family</font> <font color = green>trauma</font> . <br>the <font color = red>desires</font> are <font color = red>materials</font> and will <font color = red>counter</font> a <font color = red>adhesion</font> with anyone who 's ever had <font color = red>pantolambdodontidae</font> <font color = red>inhuman</font> . "
            ],
            "text/plain": [
              "<IPython.core.display.HTML object>"
            ]
          },
          "metadata": {
            "tags": []
          }
        },
        {
          "output_type": "stream",
          "text": [
            "[Succeeded / Failed / Total] 13 / 4 / 17:  68%|██████▊   | 17/25 [01:05<00:30,  3.85s/it]"
          ],
          "name": "stderr"
        },
        {
          "output_type": "display_data",
          "data": {
            "text/html": [
              "<font color = green>Positive (100%)</font> --> <font color = red>Negative (96%)</font><br>audrey tatou has a knack for <font color = green>picking</font> roles that <font color = green>magnify</font> her <font color = green>outrageous</font> charm , and in this <font color = green>literate</font> french comedy , she 's as morning-glory <font color = green>exuberant</font> as she was in amélie . <br>audrey tatou has a knack for <font color = red>speeding</font> roles that <font color = red>overwhelm</font> her <font color = red>suspicious</font> charm , and in this <font color = red>functional</font> french comedy , she 's as morning-glory <font color = red>interrogative</font> as she was in amélie . "
            ],
            "text/plain": [
              "<IPython.core.display.HTML object>"
            ]
          },
          "metadata": {
            "tags": []
          }
        },
        {
          "output_type": "stream",
          "text": [
            "[Succeeded / Failed / Total] 14 / 4 / 18:  72%|███████▏  | 18/25 [01:08<00:26,  3.81s/it]"
          ],
          "name": "stderr"
        },
        {
          "output_type": "display_data",
          "data": {
            "text/html": [
              "<font color = red>Negative (100%)</font> --> <font color = red>[FAILED]</font><br>... the movie is just a plain old monster . "
            ],
            "text/plain": [
              "<IPython.core.display.HTML object>"
            ]
          },
          "metadata": {
            "tags": []
          }
        },
        {
          "output_type": "stream",
          "text": [
            "[Succeeded / Failed / Total] 14 / 5 / 19:  76%|███████▌  | 19/25 [01:09<00:22,  3.68s/it]"
          ],
          "name": "stderr"
        },
        {
          "output_type": "display_data",
          "data": {
            "text/html": [
              "<font color = red>Negative (100%)</font> --> <font color = green>Positive (92%)</font><br>in its best moments , resembles a <font color = red>bad</font> high school production of grease , without benefit of song . <br>in its best moments , resembles a <font color = green>good</font> high school production of grease , without benefit of song . "
            ],
            "text/plain": [
              "<IPython.core.display.HTML object>"
            ]
          },
          "metadata": {
            "tags": []
          }
        },
        {
          "output_type": "stream",
          "text": [
            "[Succeeded / Failed / Total] 15 / 5 / 20:  80%|████████  | 20/25 [01:10<00:17,  3.53s/it]"
          ],
          "name": "stderr"
        },
        {
          "output_type": "display_data",
          "data": {
            "text/html": [
              "<font color = red>Negative (96%)</font> --> <font color = green>Positive (100%)</font><br>pumpkin takes an admirable look at the hypocrisy of political correctness , but it does so with such an <font color = red>uneven</font> tone that you never know when humor ends and tragedy begins . <br>pumpkin takes an admirable look at the hypocrisy of political correctness , but it does so with such an <font color = green>astonishing</font> tone that you never know when humor ends and tragedy begins . "
            ],
            "text/plain": [
              "<IPython.core.display.HTML object>"
            ]
          },
          "metadata": {
            "tags": []
          }
        },
        {
          "output_type": "stream",
          "text": [
            "[Succeeded / Failed / Total] 16 / 5 / 21:  84%|████████▍ | 21/25 [01:11<00:13,  3.40s/it]"
          ],
          "name": "stderr"
        },
        {
          "output_type": "display_data",
          "data": {
            "text/html": [
              "<font color = green>Positive (71%)</font> --> <font color = gray>[SKIPPED]</font><br>the iditarod lasts for days - this just felt like it did . "
            ],
            "text/plain": [
              "<IPython.core.display.HTML object>"
            ]
          },
          "metadata": {
            "tags": []
          }
        },
        {
          "output_type": "stream",
          "text": [
            "\r[Succeeded / Failed / Total] 16 / 5 / 22:  88%|████████▊ | 22/25 [01:11<00:09,  3.25s/it]"
          ],
          "name": "stderr"
        },
        {
          "output_type": "display_data",
          "data": {
            "text/html": [
              "<font color = green>Positive (64%)</font> --> <font color = gray>[SKIPPED]</font><br>holden caulfield did it better . "
            ],
            "text/plain": [
              "<IPython.core.display.HTML object>"
            ]
          },
          "metadata": {
            "tags": []
          }
        },
        {
          "output_type": "stream",
          "text": [
            "\r[Succeeded / Failed / Total] 16 / 5 / 23:  92%|█████████▏| 23/25 [01:11<00:06,  3.11s/it]"
          ],
          "name": "stderr"
        },
        {
          "output_type": "display_data",
          "data": {
            "text/html": [
              "<font color = green>Positive (100%)</font> --> <font color = red>[FAILED]</font><br>a delectable and intriguing thriller filled with surprises , read my lips is an original . "
            ],
            "text/plain": [
              "<IPython.core.display.HTML object>"
            ]
          },
          "metadata": {
            "tags": []
          }
        },
        {
          "output_type": "stream",
          "text": [
            "[Succeeded / Failed / Total] 16 / 6 / 24:  96%|█████████▌| 24/25 [01:16<00:03,  3.20s/it]"
          ],
          "name": "stderr"
        },
        {
          "output_type": "display_data",
          "data": {
            "text/html": [
              "<font color = green>Positive (100%)</font> --> <font color = red>[FAILED]</font><br>seldom has a movie so closely matched the spirit of a man and his work . "
            ],
            "text/plain": [
              "<IPython.core.display.HTML object>"
            ]
          },
          "metadata": {
            "tags": []
          }
        },
        {
          "output_type": "stream",
          "text": [
            "[Succeeded / Failed / Total] 16 / 7 / 25: 100%|██████████| 25/25 [01:29<00:00,  3.60s/it]"
          ],
          "name": "stderr"
        },
        {
          "output_type": "display_data",
          "data": {
            "text/html": [
              "<font color = red>Negative (100%)</font> --> <font color = green>Positive (57%)</font><br>nicks , <font color = red>seemingly</font> uncertain what 's going to make people laugh , runs the gamut from <font color = red>stale</font> <font color = red>parody</font> to raunchy sex gags to formula romantic comedy . <br>nicks , <font color = green>equalized</font> uncertain what 's going to make people laugh , runs the gamut from <font color = green>moist</font> <font color = green>spoof</font> to raunchy sex gags to formula romantic comedy . "
            ],
            "text/plain": [
              "<IPython.core.display.HTML object>"
            ]
          },
          "metadata": {
            "tags": []
          }
        },
        {
          "output_type": "stream",
          "text": [
            "[Succeeded / Failed / Total] 17 / 7 / 26: : 26it [01:30,  3.47s/it]"
          ],
          "name": "stderr"
        },
        {
          "output_type": "display_data",
          "data": {
            "text/html": [
              "<font color = red>Negative (99%)</font> --> <font color = red>[FAILED]</font><br>the action switches between past and present , but the material link is too tenuous to anchor the emotional connections that purport to span a 125-year divide . "
            ],
            "text/plain": [
              "<IPython.core.display.HTML object>"
            ]
          },
          "metadata": {
            "tags": []
          }
        },
        {
          "output_type": "stream",
          "text": [
            "[Succeeded / Failed / Total] 17 / 8 / 27: : 27it [01:43,  3.82s/it]"
          ],
          "name": "stderr"
        },
        {
          "output_type": "stream",
          "text": [
            "+-------------------------------+--------+\n",
            "| Attack Results                |        |\n",
            "+-------------------------------+--------+\n",
            "| Number of successful attacks: | 17     |\n",
            "| Number of failed attacks:     | 8      |\n",
            "| Number of skipped attacks:    | 2      |\n",
            "| Original accuracy:            | 92.59% |\n",
            "| Accuracy under attack:        | 29.63% |\n",
            "| Attack success rate:          | 68.0%  |\n",
            "| Average perturbed word %:     | 18.53% |\n",
            "| Average num. words per input: | 16.33  |\n",
            "| Avg num queries:              | 143.76 |\n",
            "+-------------------------------+--------+"
          ],
          "name": "stdout"
        },
        {
          "output_type": "stream",
          "text": [
            "\n",
            "\u001b[34;1mtextattack\u001b[0m: Attack time: 103.02463483810425s\n"
          ],
          "name": "stderr"
        }
      ]
    },
    {
      "cell_type": "markdown",
      "metadata": {
        "id": "q7n4M02gtr2D"
      },
      "source": [
        "### FastText, GreedyWordSwapWIR, PartsofSpeech"
      ]
    },
    {
      "cell_type": "code",
      "metadata": {
        "colab": {
          "base_uri": "https://localhost:8080/"
        },
        "id": "9jwrvRfhqKVj",
        "outputId": "435cd0f7-fd9a-4500-f5d1-9ccdf93a5f47"
      },
      "source": [
        "# We're going to use our word swap class as the attack transformation.\n",
        "transformation = Swapper()\n",
        "\n",
        "constraints = [PartOfSpeech()]\n",
        "\n",
        "search_method = GreedyWordSwapWIR()\n",
        "\n",
        "goal_function = UntargetedClassification(model_wrapper)\n",
        "\n",
        "# Now, let's make the attack from the 4 components:\n",
        "attack = Attack(goal_function, constraints, transformation, search_method)"
      ],
      "execution_count": 43,
      "outputs": [
        {
          "output_type": "stream",
          "text": [
            "\u001b[34;1mtextattack\u001b[0m: Unknown if model of class <class 'transformers.models.distilbert.modeling_distilbert.DistilBertForSequenceClassification'> compatible with goal function <class 'textattack.goal_functions.classification.untargeted_classification.UntargetedClassification'>.\n"
          ],
          "name": "stderr"
        }
      ]
    },
    {
      "cell_type": "code",
      "metadata": {
        "colab": {
          "base_uri": "https://localhost:8080/"
        },
        "id": "eCV5etswrzVY",
        "outputId": "7d9581fe-1318-4e3c-b4f3-2a99072caad0"
      },
      "source": [
        "print(attack)"
      ],
      "execution_count": 44,
      "outputs": [
        {
          "output_type": "stream",
          "text": [
            "Attack(\n",
            "  (search_method): GreedyWordSwapWIR(\n",
            "    (wir_method):  unk\n",
            "  )\n",
            "  (goal_function):  UntargetedClassification\n",
            "  (transformation):  Swapper\n",
            "  (constraints): \n",
            "    (0): PartOfSpeech(\n",
            "        (tagger_type):  nltk\n",
            "        (tagset):  universal\n",
            "        (allow_verb_noun_swap):  True\n",
            "        (compare_against_original):  True\n",
            "      )\n",
            "  (is_black_box):  True\n",
            ")\n"
          ],
          "name": "stdout"
        }
      ]
    },
    {
      "cell_type": "code",
      "metadata": {
        "colab": {
          "base_uri": "https://localhost:8080/",
          "height": 1000
        },
        "id": "fQ4LYaHlsN4e",
        "outputId": "61f74d56-a1ef-4a96-fd73-a049c2487f56"
      },
      "source": [
        "attack_stats(attack, dataset, 25)"
      ],
      "execution_count": 45,
      "outputs": [
        {
          "output_type": "stream",
          "text": [
            "\n",
            "  0%|          | 0/25 [00:00<?, ?it/s]\u001b[A"
          ],
          "name": "stderr"
        },
        {
          "output_type": "stream",
          "text": [
            "Attack(\n",
            "  (search_method): GreedyWordSwapWIR(\n",
            "    (wir_method):  unk\n",
            "  )\n",
            "  (goal_function):  UntargetedClassification\n",
            "  (transformation):  Swapper\n",
            "  (constraints): \n",
            "    (0): PartOfSpeech(\n",
            "        (tagger_type):  nltk\n",
            "        (tagset):  universal\n",
            "        (allow_verb_noun_swap):  True\n",
            "        (compare_against_original):  True\n",
            "      )\n",
            "  (is_black_box):  True\n",
            ")\n"
          ],
          "name": "stdout"
        },
        {
          "output_type": "display_data",
          "data": {
            "text/html": [
              "<font color = green>Positive (100%)</font> --> <font color = red>[FAILED]</font><br>it 's a charming and often affecting journey . "
            ],
            "text/plain": [
              "<IPython.core.display.HTML object>"
            ]
          },
          "metadata": {
            "tags": []
          }
        },
        {
          "output_type": "stream",
          "text": [
            "\n",
            "  4%|▍         | 1/25 [00:00<00:09,  2.47it/s]\u001b[A\n",
            "[Succeeded / Failed / Total] 0 / 1 / 1:   4%|▍         | 1/25 [00:00<00:09,  2.42it/s]\u001b[A"
          ],
          "name": "stderr"
        },
        {
          "output_type": "display_data",
          "data": {
            "text/html": [
              "<font color = red>Negative (99%)</font> --> <font color = red>[FAILED]</font><br>unflinchingly bleak and desperate "
            ],
            "text/plain": [
              "<IPython.core.display.HTML object>"
            ]
          },
          "metadata": {
            "tags": []
          }
        },
        {
          "output_type": "stream",
          "text": [
            "\n",
            "[Succeeded / Failed / Total] 0 / 1 / 1:   8%|▊         | 2/25 [00:00<00:06,  3.30it/s]\u001b[A\n",
            "[Succeeded / Failed / Total] 0 / 2 / 2:   8%|▊         | 2/25 [00:00<00:07,  3.24it/s]\u001b[A"
          ],
          "name": "stderr"
        },
        {
          "output_type": "display_data",
          "data": {
            "text/html": [
              "<font color = green>Positive (100%)</font> --> <font color = red>Negative (63%)</font><br>allows us to <font color = green>hope</font> that nolan <font color = green>is</font> <font color = green>poised</font> to <font color = green>embark</font> <font color = green>a</font> major career as <font color = green>a</font> commercial <font color = green>yet</font> inventive <font color = green>filmmaker</font> . <br>allows us to <font color = red>feelgood</font> that nolan <font color = red>was</font> <font color = red>gassed</font> to <font color = red>embargo</font> <font color = red>the</font> major career as <font color = red>the</font> commercial <font color = red>obviously</font> inventive <font color = red>screenwriter</font> . "
            ],
            "text/plain": [
              "<IPython.core.display.HTML object>"
            ]
          },
          "metadata": {
            "tags": []
          }
        },
        {
          "output_type": "stream",
          "text": [
            "\n",
            "[Succeeded / Failed / Total] 0 / 2 / 2:  12%|█▏        | 3/25 [00:01<00:10,  2.02it/s]\u001b[A\n",
            "[Succeeded / Failed / Total] 1 / 2 / 3:  12%|█▏        | 3/25 [00:01<00:10,  2.00it/s]\u001b[A"
          ],
          "name": "stderr"
        },
        {
          "output_type": "display_data",
          "data": {
            "text/html": [
              "<font color = green>Positive (100%)</font> --> <font color = red>[FAILED]</font><br>the acting , costumes , music , cinematography and sound are all astounding given the production 's austere locales . "
            ],
            "text/plain": [
              "<IPython.core.display.HTML object>"
            ]
          },
          "metadata": {
            "tags": []
          }
        },
        {
          "output_type": "stream",
          "text": [
            "\n",
            "[Succeeded / Failed / Total] 1 / 2 / 3:  16%|█▌        | 4/25 [00:02<00:11,  1.80it/s]\u001b[A\n",
            "[Succeeded / Failed / Total] 1 / 3 / 4:  16%|█▌        | 4/25 [00:02<00:11,  1.79it/s]\u001b[A"
          ],
          "name": "stderr"
        },
        {
          "output_type": "display_data",
          "data": {
            "text/html": [
              "<font color = red>Negative (100%)</font> --> <font color = red>[FAILED]</font><br>it 's slow -- very , very slow . "
            ],
            "text/plain": [
              "<IPython.core.display.HTML object>"
            ]
          },
          "metadata": {
            "tags": []
          }
        },
        {
          "output_type": "stream",
          "text": [
            "\n",
            "[Succeeded / Failed / Total] 1 / 3 / 4:  20%|██        | 5/25 [00:02<00:10,  1.95it/s]\u001b[A\n",
            "[Succeeded / Failed / Total] 1 / 4 / 5:  20%|██        | 5/25 [00:02<00:10,  1.94it/s]\u001b[A"
          ],
          "name": "stderr"
        },
        {
          "output_type": "display_data",
          "data": {
            "text/html": [
              "<font color = green>Positive (100%)</font> --> <font color = red>[FAILED]</font><br>although laced with humor and a few fanciful touches , the film is a refreshingly serious look at young women . "
            ],
            "text/plain": [
              "<IPython.core.display.HTML object>"
            ]
          },
          "metadata": {
            "tags": []
          }
        },
        {
          "output_type": "stream",
          "text": [
            "\n",
            "[Succeeded / Failed / Total] 1 / 4 / 5:  24%|██▍       | 6/25 [00:03<00:10,  1.73it/s]\u001b[A\n",
            "[Succeeded / Failed / Total] 1 / 5 / 6:  24%|██▍       | 6/25 [00:03<00:11,  1.72it/s]\u001b[A"
          ],
          "name": "stderr"
        },
        {
          "output_type": "display_data",
          "data": {
            "text/html": [
              "<font color = red>Negative (99%)</font> --> <font color = red>[FAILED]</font><br>a sometimes tedious film . "
            ],
            "text/plain": [
              "<IPython.core.display.HTML object>"
            ]
          },
          "metadata": {
            "tags": []
          }
        },
        {
          "output_type": "stream",
          "text": [
            "\n",
            "[Succeeded / Failed / Total] 1 / 5 / 6:  28%|██▊       | 7/25 [00:03<00:09,  1.89it/s]\u001b[A\n",
            "[Succeeded / Failed / Total] 1 / 6 / 7:  28%|██▊       | 7/25 [00:03<00:09,  1.89it/s]\u001b[A"
          ],
          "name": "stderr"
        },
        {
          "output_type": "display_data",
          "data": {
            "text/html": [
              "<font color = red>Negative (98%)</font> --> <font color = red>[FAILED]</font><br>or doing last year 's taxes with your ex-wife . "
            ],
            "text/plain": [
              "<IPython.core.display.HTML object>"
            ]
          },
          "metadata": {
            "tags": []
          }
        },
        {
          "output_type": "stream",
          "text": [
            "\n",
            "[Succeeded / Failed / Total] 1 / 6 / 7:  32%|███▏      | 8/25 [00:04<00:08,  1.95it/s]\u001b[A\n",
            "[Succeeded / Failed / Total] 1 / 7 / 8:  32%|███▏      | 8/25 [00:04<00:08,  1.94it/s]\u001b[A"
          ],
          "name": "stderr"
        },
        {
          "output_type": "display_data",
          "data": {
            "text/html": [
              "<font color = green>Positive (100%)</font> --> <font color = red>Negative (90%)</font><br><font color = green>you</font> <font color = green>do</font> n't have to know about music to <font color = green>appreciate</font> the film 's <font color = green>easygoing</font> <font color = green>blend</font> of <font color = green>comedy</font> and <font color = green>romance</font> . <br><font color = red>we</font> <font color = red>want</font> n't have to know about music to <font color = red>appreciating</font> the film 's <font color = red>foregoing</font> <font color = red>texture</font> of <font color = red>comedies</font> and <font color = red>romanic</font> . "
            ],
            "text/plain": [
              "<IPython.core.display.HTML object>"
            ]
          },
          "metadata": {
            "tags": []
          }
        },
        {
          "output_type": "stream",
          "text": [
            "\n",
            "[Succeeded / Failed / Total] 1 / 7 / 8:  36%|███▌      | 9/25 [00:04<00:08,  1.87it/s]\u001b[A\n",
            "[Succeeded / Failed / Total] 2 / 7 / 9:  36%|███▌      | 9/25 [00:04<00:08,  1.86it/s]\u001b[A"
          ],
          "name": "stderr"
        },
        {
          "output_type": "display_data",
          "data": {
            "text/html": [
              "<font color = red>Negative (100%)</font> --> <font color = red>[FAILED]</font><br>in exactly 89 minutes , most of which passed as slowly as if i 'd been sitting naked on an igloo , formula 51 sank from quirky to jerky to utter turkey . "
            ],
            "text/plain": [
              "<IPython.core.display.HTML object>"
            ]
          },
          "metadata": {
            "tags": []
          }
        },
        {
          "output_type": "stream",
          "text": [
            "\n",
            "[Succeeded / Failed / Total] 2 / 7 / 9:  40%|████      | 10/25 [00:06<00:09,  1.61it/s]\u001b[A\n",
            "[Succeeded / Failed / Total] 2 / 8 / 10:  40%|████      | 10/25 [00:06<00:09,  1.61it/s]\u001b[A"
          ],
          "name": "stderr"
        },
        {
          "output_type": "display_data",
          "data": {
            "text/html": [
              "<font color = green>Positive (100%)</font> --> <font color = red>[FAILED]</font><br>the mesmerizing performances of the leads keep the film grounded and keep the audience riveted . "
            ],
            "text/plain": [
              "<IPython.core.display.HTML object>"
            ]
          },
          "metadata": {
            "tags": []
          }
        },
        {
          "output_type": "stream",
          "text": [
            "\n",
            "[Succeeded / Failed / Total] 2 / 8 / 10:  44%|████▍     | 11/25 [00:06<00:08,  1.61it/s]\u001b[A\n",
            "[Succeeded / Failed / Total] 2 / 9 / 11:  44%|████▍     | 11/25 [00:06<00:08,  1.61it/s]\u001b[A"
          ],
          "name": "stderr"
        },
        {
          "output_type": "display_data",
          "data": {
            "text/html": [
              "<font color = red>Negative (100%)</font> --> <font color = red>[FAILED]</font><br>it takes a strange kind of laziness to waste the talents of robert forster , anne meara , eugene levy , and reginald veljohnson all in the same movie . "
            ],
            "text/plain": [
              "<IPython.core.display.HTML object>"
            ]
          },
          "metadata": {
            "tags": []
          }
        },
        {
          "output_type": "stream",
          "text": [
            "\n",
            "[Succeeded / Failed / Total] 2 / 9 / 11:  48%|████▊     | 12/25 [00:08<00:08,  1.49it/s]\u001b[A\n",
            "[Succeeded / Failed / Total] 2 / 10 / 12:  48%|████▊     | 12/25 [00:08<00:08,  1.49it/s]\u001b[A"
          ],
          "name": "stderr"
        },
        {
          "output_type": "display_data",
          "data": {
            "text/html": [
              "<font color = red>Negative (100%)</font> --> <font color = red>[FAILED]</font><br>... the film suffers from a lack of humor ( something needed to balance out the violence ) ... "
            ],
            "text/plain": [
              "<IPython.core.display.HTML object>"
            ]
          },
          "metadata": {
            "tags": []
          }
        },
        {
          "output_type": "stream",
          "text": [
            "\n",
            "[Succeeded / Failed / Total] 2 / 10 / 12:  52%|█████▏    | 13/25 [00:08<00:08,  1.49it/s]\u001b[A\n",
            "[Succeeded / Failed / Total] 2 / 11 / 13:  52%|█████▏    | 13/25 [00:08<00:08,  1.49it/s]\u001b[A"
          ],
          "name": "stderr"
        },
        {
          "output_type": "display_data",
          "data": {
            "text/html": [
              "<font color = green>Positive (91%)</font> --> <font color = red>Negative (69%)</font><br><font color = green>we</font> <font color = green>root</font> for ( clara and paul ) , even like them , though perhaps it 's an emotion closer to pity . <br><font color = red>you</font> <font color = red>adjectival</font> for ( clara and paul ) , even like them , though perhaps it 's an emotion closer to pity . "
            ],
            "text/plain": [
              "<IPython.core.display.HTML object>"
            ]
          },
          "metadata": {
            "tags": []
          }
        },
        {
          "output_type": "stream",
          "text": [
            "\n",
            "[Succeeded / Failed / Total] 2 / 11 / 13:  56%|█████▌    | 14/25 [00:09<00:07,  1.52it/s]\u001b[A\n",
            "[Succeeded / Failed / Total] 3 / 11 / 14:  56%|█████▌    | 14/25 [00:09<00:07,  1.52it/s]\u001b[A"
          ],
          "name": "stderr"
        },
        {
          "output_type": "display_data",
          "data": {
            "text/html": [
              "<font color = red>Negative (100%)</font> --> <font color = red>[FAILED]</font><br>even horror fans will most likely not find what they 're seeking with trouble every day ; the movie lacks both thrills and humor . "
            ],
            "text/plain": [
              "<IPython.core.display.HTML object>"
            ]
          },
          "metadata": {
            "tags": []
          }
        },
        {
          "output_type": "stream",
          "text": [
            "\n",
            "[Succeeded / Failed / Total] 3 / 11 / 14:  60%|██████    | 15/25 [00:10<00:06,  1.48it/s]\u001b[A\n",
            "[Succeeded / Failed / Total] 3 / 12 / 15:  60%|██████    | 15/25 [00:10<00:06,  1.47it/s]\u001b[A"
          ],
          "name": "stderr"
        },
        {
          "output_type": "display_data",
          "data": {
            "text/html": [
              "<font color = green>Positive (100%)</font> --> <font color = red>[FAILED]</font><br>a gorgeous , high-spirited musical from india that exquisitely blends music , dance , song , and high drama . "
            ],
            "text/plain": [
              "<IPython.core.display.HTML object>"
            ]
          },
          "metadata": {
            "tags": []
          }
        },
        {
          "output_type": "stream",
          "text": [
            "\n",
            "[Succeeded / Failed / Total] 3 / 12 / 15:  64%|██████▍   | 16/25 [00:10<00:06,  1.46it/s]\u001b[A\n",
            "[Succeeded / Failed / Total] 3 / 13 / 16:  64%|██████▍   | 16/25 [00:10<00:06,  1.45it/s]\u001b[A"
          ],
          "name": "stderr"
        },
        {
          "output_type": "display_data",
          "data": {
            "text/html": [
              "<font color = green>Positive (100%)</font> --> <font color = red>Negative (63%)</font><br>the <font color = green>emotions</font> <font color = green>are</font> raw and <font color = green>will</font> <font color = green>strike</font> a <font color = green>nerve</font> with <font color = green>anyone</font> who 's <font color = green>ever</font> <font color = green>had</font> <font color = green>family</font> <font color = green>trauma</font> . <br>the <font color = red>emotion</font> <font color = red>were</font> raw and <font color = red>would</font> <font color = red>shootout</font> a <font color = red>muscle</font> with <font color = red>anybody</font> who 's <font color = red>hardly</font> <font color = red>has</font> <font color = red>families</font> <font color = red>malignancy</font> . "
            ],
            "text/plain": [
              "<IPython.core.display.HTML object>"
            ]
          },
          "metadata": {
            "tags": []
          }
        },
        {
          "output_type": "stream",
          "text": [
            "\n",
            "[Succeeded / Failed / Total] 3 / 13 / 16:  68%|██████▊   | 17/25 [00:11<00:05,  1.45it/s]\u001b[A\n",
            "[Succeeded / Failed / Total] 4 / 13 / 17:  68%|██████▊   | 17/25 [00:11<00:05,  1.45it/s]\u001b[A"
          ],
          "name": "stderr"
        },
        {
          "output_type": "display_data",
          "data": {
            "text/html": [
              "<font color = green>Positive (100%)</font> --> <font color = red>[FAILED]</font><br>audrey tatou has a knack for picking roles that magnify her outrageous charm , and in this literate french comedy , she 's as morning-glory exuberant as she was in amélie . "
            ],
            "text/plain": [
              "<IPython.core.display.HTML object>"
            ]
          },
          "metadata": {
            "tags": []
          }
        },
        {
          "output_type": "stream",
          "text": [
            "\n",
            "[Succeeded / Failed / Total] 4 / 13 / 17:  72%|███████▏  | 18/25 [00:13<00:05,  1.37it/s]\u001b[A\n",
            "[Succeeded / Failed / Total] 4 / 14 / 18:  72%|███████▏  | 18/25 [00:13<00:05,  1.37it/s]\u001b[A"
          ],
          "name": "stderr"
        },
        {
          "output_type": "display_data",
          "data": {
            "text/html": [
              "<font color = red>Negative (100%)</font> --> <font color = red>[FAILED]</font><br>... the movie is just a plain old monster . "
            ],
            "text/plain": [
              "<IPython.core.display.HTML object>"
            ]
          },
          "metadata": {
            "tags": []
          }
        },
        {
          "output_type": "stream",
          "text": [
            "\n",
            "[Succeeded / Failed / Total] 4 / 14 / 18:  76%|███████▌  | 19/25 [00:13<00:04,  1.40it/s]\u001b[A\n",
            "[Succeeded / Failed / Total] 4 / 15 / 19:  76%|███████▌  | 19/25 [00:13<00:04,  1.40it/s]\u001b[A"
          ],
          "name": "stderr"
        },
        {
          "output_type": "display_data",
          "data": {
            "text/html": [
              "<font color = red>Negative (100%)</font> --> <font color = green>Positive (92%)</font><br>in its best moments , resembles a <font color = red>bad</font> high school production of grease , without benefit of song . <br>in its best moments , resembles a <font color = green>good</font> high school production of grease , without benefit of song . "
            ],
            "text/plain": [
              "<IPython.core.display.HTML object>"
            ]
          },
          "metadata": {
            "tags": []
          }
        },
        {
          "output_type": "stream",
          "text": [
            "\n",
            "[Succeeded / Failed / Total] 4 / 15 / 19:  80%|████████  | 20/25 [00:13<00:03,  1.44it/s]\u001b[A\n",
            "[Succeeded / Failed / Total] 5 / 15 / 20:  80%|████████  | 20/25 [00:13<00:03,  1.44it/s]\u001b[A"
          ],
          "name": "stderr"
        },
        {
          "output_type": "display_data",
          "data": {
            "text/html": [
              "<font color = red>Negative (96%)</font> --> <font color = green>Positive (84%)</font><br>pumpkin takes an admirable look at the hypocrisy of political correctness , but it does so with such an <font color = red>uneven</font> tone that you never know when humor ends and tragedy begins . <br>pumpkin takes an admirable look at the hypocrisy of political correctness , but it does so with such an <font color = green>unheated</font> tone that you never know when humor ends and tragedy begins . "
            ],
            "text/plain": [
              "<IPython.core.display.HTML object>"
            ]
          },
          "metadata": {
            "tags": []
          }
        },
        {
          "output_type": "stream",
          "text": [
            "\n",
            "[Succeeded / Failed / Total] 5 / 15 / 20:  84%|████████▍ | 21/25 [00:14<00:02,  1.45it/s]\u001b[A\n",
            "[Succeeded / Failed / Total] 6 / 15 / 21:  84%|████████▍ | 21/25 [00:14<00:02,  1.45it/s]\u001b[A"
          ],
          "name": "stderr"
        },
        {
          "output_type": "display_data",
          "data": {
            "text/html": [
              "<font color = green>Positive (71%)</font> --> <font color = gray>[SKIPPED]</font><br>the iditarod lasts for days - this just felt like it did . "
            ],
            "text/plain": [
              "<IPython.core.display.HTML object>"
            ]
          },
          "metadata": {
            "tags": []
          }
        },
        {
          "output_type": "stream",
          "text": [
            "\n",
            "[Succeeded / Failed / Total] 6 / 15 / 22:  88%|████████▊ | 22/25 [00:14<00:01,  1.51it/s]\u001b[A"
          ],
          "name": "stderr"
        },
        {
          "output_type": "display_data",
          "data": {
            "text/html": [
              "<font color = green>Positive (64%)</font> --> <font color = gray>[SKIPPED]</font><br>holden caulfield did it better . "
            ],
            "text/plain": [
              "<IPython.core.display.HTML object>"
            ]
          },
          "metadata": {
            "tags": []
          }
        },
        {
          "output_type": "stream",
          "text": [
            "\n",
            "[Succeeded / Failed / Total] 6 / 15 / 23:  92%|█████████▏| 23/25 [00:14<00:01,  1.58it/s]\u001b[A"
          ],
          "name": "stderr"
        },
        {
          "output_type": "display_data",
          "data": {
            "text/html": [
              "<font color = green>Positive (100%)</font> --> <font color = red>[FAILED]</font><br>a delectable and intriguing thriller filled with surprises , read my lips is an original . "
            ],
            "text/plain": [
              "<IPython.core.display.HTML object>"
            ]
          },
          "metadata": {
            "tags": []
          }
        },
        {
          "output_type": "stream",
          "text": [
            "\n",
            "[Succeeded / Failed / Total] 6 / 15 / 23:  96%|█████████▌| 24/25 [00:15<00:00,  1.57it/s]\u001b[A\n",
            "[Succeeded / Failed / Total] 6 / 16 / 24:  96%|█████████▌| 24/25 [00:15<00:00,  1.57it/s]\u001b[A"
          ],
          "name": "stderr"
        },
        {
          "output_type": "display_data",
          "data": {
            "text/html": [
              "<font color = green>Positive (100%)</font> --> <font color = red>Negative (96%)</font><br>seldom has <font color = green>a</font> movie <font color = green>so</font> <font color = green>closely</font> <font color = green>matched</font> the <font color = green>spirit</font> of <font color = green>a</font> <font color = green>man</font> and his <font color = green>work</font> . <br>seldom has <font color = red>the</font> movie <font color = red>knowingly</font> <font color = red>loosely</font> <font color = red>scored</font> the <font color = red>divine</font> of <font color = red>the</font> <font color = red>girl</font> and his <font color = red>treatise</font> . "
            ],
            "text/plain": [
              "<IPython.core.display.HTML object>"
            ]
          },
          "metadata": {
            "tags": []
          }
        },
        {
          "output_type": "stream",
          "text": [
            "\n",
            "[Succeeded / Failed / Total] 7 / 16 / 25: 100%|██████████| 25/25 [00:16<00:00,  1.56it/s]\u001b[A"
          ],
          "name": "stderr"
        },
        {
          "output_type": "display_data",
          "data": {
            "text/html": [
              "<font color = red>Negative (100%)</font> --> <font color = red>[FAILED]</font><br>nicks , seemingly uncertain what 's going to make people laugh , runs the gamut from stale parody to raunchy sex gags to formula romantic comedy . "
            ],
            "text/plain": [
              "<IPython.core.display.HTML object>"
            ]
          },
          "metadata": {
            "tags": []
          }
        },
        {
          "output_type": "stream",
          "text": [
            "\n",
            "[Succeeded / Failed / Total] 7 / 17 / 26: : 26it [00:17,  1.51it/s]                      \u001b[A"
          ],
          "name": "stderr"
        },
        {
          "output_type": "display_data",
          "data": {
            "text/html": [
              "<font color = red>Negative (99%)</font> --> <font color = green>Positive (100%)</font><br>the action switches between past and present , but the material link is <font color = red>too</font> tenuous to anchor the emotional connections that purport to span a 125-year divide . <br>the action switches between past and present , but the material link is <font color = green>very</font> tenuous to anchor the emotional connections that purport to span a 125-year divide . "
            ],
            "text/plain": [
              "<IPython.core.display.HTML object>"
            ]
          },
          "metadata": {
            "tags": []
          }
        },
        {
          "output_type": "stream",
          "text": [
            "\n",
            "[Succeeded / Failed / Total] 7 / 17 / 26: : 27it [00:17,  1.53it/s]\u001b[A\n",
            "[Succeeded / Failed / Total] 8 / 17 / 27: : 27it [00:17,  1.52it/s]"
          ],
          "name": "stderr"
        },
        {
          "output_type": "stream",
          "text": [
            "+-------------------------------+--------+\n",
            "| Attack Results                |        |\n",
            "+-------------------------------+--------+\n",
            "| Number of successful attacks: | 8      |\n",
            "| Number of failed attacks:     | 17     |\n",
            "| Number of skipped attacks:    | 2      |\n",
            "| Original accuracy:            | 92.59% |\n",
            "| Accuracy under attack:        | 62.96% |\n",
            "| Attack success rate:          | 32.0%  |\n",
            "| Average perturbed word %:     | 26.96% |\n",
            "| Average num. words per input: | 16.33  |\n",
            "| Avg num queries:              | 27.04  |\n",
            "+-------------------------------+--------+"
          ],
          "name": "stdout"
        },
        {
          "output_type": "stream",
          "text": [
            "\n",
            "\u001b[34;1mtextattack\u001b[0m: Attack time: 17.74280333518982s\n"
          ],
          "name": "stderr"
        }
      ]
    },
    {
      "cell_type": "markdown",
      "metadata": {
        "id": "BIlCdyXet2mk"
      },
      "source": [
        "### Word2Vec, GreedyWordSwapWIR, PartsofSpeech"
      ]
    },
    {
      "cell_type": "code",
      "metadata": {
        "colab": {
          "base_uri": "https://localhost:8080/"
        },
        "id": "YX8hOBEXsRu2",
        "outputId": "d68e98d1-8d08-4a6f-e30f-e094de924074"
      },
      "source": [
        "# We're going to use our word swap class as the attack transformation.\n",
        "transformation = Swapper_()\n",
        "\n",
        "constraints = [PartOfSpeech()]\n",
        "\n",
        "search_method = GreedyWordSwapWIR()\n",
        "\n",
        "goal_function = UntargetedClassification(model_wrapper)\n",
        "\n",
        "# Now, let's make the attack from the 4 components:\n",
        "attack = Attack(goal_function, constraints, transformation, search_method)"
      ],
      "execution_count": 46,
      "outputs": [
        {
          "output_type": "stream",
          "text": [
            "\u001b[34;1mtextattack\u001b[0m: Unknown if model of class <class 'transformers.models.distilbert.modeling_distilbert.DistilBertForSequenceClassification'> compatible with goal function <class 'textattack.goal_functions.classification.untargeted_classification.UntargetedClassification'>.\n"
          ],
          "name": "stderr"
        }
      ]
    },
    {
      "cell_type": "code",
      "metadata": {
        "colab": {
          "base_uri": "https://localhost:8080/"
        },
        "id": "z3sSVm0q1F8F",
        "outputId": "be4f129d-b180-4dfc-d89a-28a265d89378"
      },
      "source": [
        "print(attack)"
      ],
      "execution_count": 47,
      "outputs": [
        {
          "output_type": "stream",
          "text": [
            "Attack(\n",
            "  (search_method): GreedyWordSwapWIR(\n",
            "    (wir_method):  unk\n",
            "  )\n",
            "  (goal_function):  UntargetedClassification\n",
            "  (transformation):  Swapper_\n",
            "  (constraints): \n",
            "    (0): PartOfSpeech(\n",
            "        (tagger_type):  nltk\n",
            "        (tagset):  universal\n",
            "        (allow_verb_noun_swap):  True\n",
            "        (compare_against_original):  True\n",
            "      )\n",
            "  (is_black_box):  True\n",
            ")\n"
          ],
          "name": "stdout"
        }
      ]
    },
    {
      "cell_type": "code",
      "metadata": {
        "colab": {
          "base_uri": "https://localhost:8080/",
          "height": 1000
        },
        "id": "78FFw18K1Hkb",
        "outputId": "c6c2ef97-5f1e-446b-d10c-6aa0e84ca074"
      },
      "source": [
        "attack_stats(attack, dataset, 25)"
      ],
      "execution_count": 48,
      "outputs": [
        {
          "output_type": "stream",
          "text": [
            "\n",
            "  0%|          | 0/25 [00:00<?, ?it/s]\u001b[A"
          ],
          "name": "stderr"
        },
        {
          "output_type": "stream",
          "text": [
            "Attack(\n",
            "  (search_method): GreedyWordSwapWIR(\n",
            "    (wir_method):  unk\n",
            "  )\n",
            "  (goal_function):  UntargetedClassification\n",
            "  (transformation):  Swapper_\n",
            "  (constraints): \n",
            "    (0): PartOfSpeech(\n",
            "        (tagger_type):  nltk\n",
            "        (tagset):  universal\n",
            "        (allow_verb_noun_swap):  True\n",
            "        (compare_against_original):  True\n",
            "      )\n",
            "  (is_black_box):  True\n",
            ")\n"
          ],
          "name": "stdout"
        },
        {
          "output_type": "display_data",
          "data": {
            "text/html": [
              "<font color = green>Positive (100%)</font> --> <font color = red>[FAILED]</font><br>it 's a charming and often affecting journey . "
            ],
            "text/plain": [
              "<IPython.core.display.HTML object>"
            ]
          },
          "metadata": {
            "tags": []
          }
        },
        {
          "output_type": "stream",
          "text": [
            "\n",
            "  4%|▍         | 1/25 [00:00<00:09,  2.65it/s]\u001b[A\n",
            "[Succeeded / Failed / Total] 0 / 1 / 1:   4%|▍         | 1/25 [00:00<00:09,  2.60it/s]\u001b[A"
          ],
          "name": "stderr"
        },
        {
          "output_type": "display_data",
          "data": {
            "text/html": [
              "<font color = red>Negative (99%)</font> --> <font color = red>[FAILED]</font><br>unflinchingly bleak and desperate "
            ],
            "text/plain": [
              "<IPython.core.display.HTML object>"
            ]
          },
          "metadata": {
            "tags": []
          }
        },
        {
          "output_type": "stream",
          "text": [
            "\n",
            "[Succeeded / Failed / Total] 0 / 1 / 1:   8%|▊         | 2/25 [00:00<00:06,  3.70it/s]\u001b[A\n",
            "[Succeeded / Failed / Total] 0 / 2 / 2:   8%|▊         | 2/25 [00:00<00:06,  3.65it/s]\u001b[A"
          ],
          "name": "stderr"
        },
        {
          "output_type": "display_data",
          "data": {
            "text/html": [
              "<font color = green>Positive (100%)</font> --> <font color = red>[FAILED]</font><br>allows us to hope that nolan is poised to embark a major career as a commercial yet inventive filmmaker . "
            ],
            "text/plain": [
              "<IPython.core.display.HTML object>"
            ]
          },
          "metadata": {
            "tags": []
          }
        },
        {
          "output_type": "stream",
          "text": [
            "\n",
            "[Succeeded / Failed / Total] 0 / 2 / 2:  12%|█▏        | 3/25 [00:01<00:10,  2.15it/s]\u001b[A\n",
            "[Succeeded / Failed / Total] 0 / 3 / 3:  12%|█▏        | 3/25 [00:01<00:10,  2.13it/s]\u001b[A"
          ],
          "name": "stderr"
        },
        {
          "output_type": "display_data",
          "data": {
            "text/html": [
              "<font color = green>Positive (100%)</font> --> <font color = red>[FAILED]</font><br>the acting , costumes , music , cinematography and sound are all astounding given the production 's austere locales . "
            ],
            "text/plain": [
              "<IPython.core.display.HTML object>"
            ]
          },
          "metadata": {
            "tags": []
          }
        },
        {
          "output_type": "stream",
          "text": [
            "\n",
            "[Succeeded / Failed / Total] 0 / 3 / 3:  16%|█▌        | 4/25 [00:02<00:10,  1.93it/s]\u001b[A\n",
            "[Succeeded / Failed / Total] 0 / 4 / 4:  16%|█▌        | 4/25 [00:02<00:10,  1.92it/s]\u001b[A"
          ],
          "name": "stderr"
        },
        {
          "output_type": "display_data",
          "data": {
            "text/html": [
              "<font color = red>Negative (100%)</font> --> <font color = red>[FAILED]</font><br>it 's slow -- very , very slow . "
            ],
            "text/plain": [
              "<IPython.core.display.HTML object>"
            ]
          },
          "metadata": {
            "tags": []
          }
        },
        {
          "output_type": "stream",
          "text": [
            "\n",
            "[Succeeded / Failed / Total] 0 / 4 / 4:  20%|██        | 5/25 [00:02<00:09,  2.08it/s]\u001b[A\n",
            "[Succeeded / Failed / Total] 0 / 5 / 5:  20%|██        | 5/25 [00:02<00:09,  2.08it/s]\u001b[A"
          ],
          "name": "stderr"
        },
        {
          "output_type": "display_data",
          "data": {
            "text/html": [
              "<font color = green>Positive (100%)</font> --> <font color = red>[FAILED]</font><br>although laced with humor and a few fanciful touches , the film is a refreshingly serious look at young women . "
            ],
            "text/plain": [
              "<IPython.core.display.HTML object>"
            ]
          },
          "metadata": {
            "tags": []
          }
        },
        {
          "output_type": "stream",
          "text": [
            "\n",
            "[Succeeded / Failed / Total] 0 / 5 / 5:  24%|██▍       | 6/25 [00:03<00:10,  1.84it/s]\u001b[A\n",
            "[Succeeded / Failed / Total] 0 / 6 / 6:  24%|██▍       | 6/25 [00:03<00:10,  1.84it/s]\u001b[A"
          ],
          "name": "stderr"
        },
        {
          "output_type": "display_data",
          "data": {
            "text/html": [
              "<font color = red>Negative (99%)</font> --> <font color = red>[FAILED]</font><br>a sometimes tedious film . "
            ],
            "text/plain": [
              "<IPython.core.display.HTML object>"
            ]
          },
          "metadata": {
            "tags": []
          }
        },
        {
          "output_type": "stream",
          "text": [
            "\n",
            "[Succeeded / Failed / Total] 0 / 6 / 6:  28%|██▊       | 7/25 [00:03<00:08,  2.02it/s]\u001b[A\n",
            "[Succeeded / Failed / Total] 0 / 7 / 7:  28%|██▊       | 7/25 [00:03<00:08,  2.02it/s]\u001b[A"
          ],
          "name": "stderr"
        },
        {
          "output_type": "display_data",
          "data": {
            "text/html": [
              "<font color = red>Negative (98%)</font> --> <font color = red>[FAILED]</font><br>or doing last year 's taxes with your ex-wife . "
            ],
            "text/plain": [
              "<IPython.core.display.HTML object>"
            ]
          },
          "metadata": {
            "tags": []
          }
        },
        {
          "output_type": "stream",
          "text": [
            "\n",
            "[Succeeded / Failed / Total] 0 / 7 / 7:  32%|███▏      | 8/25 [00:03<00:08,  2.08it/s]\u001b[A\n",
            "[Succeeded / Failed / Total] 0 / 8 / 8:  32%|███▏      | 8/25 [00:03<00:08,  2.08it/s]\u001b[A"
          ],
          "name": "stderr"
        },
        {
          "output_type": "display_data",
          "data": {
            "text/html": [
              "<font color = green>Positive (100%)</font> --> <font color = red>Negative (90%)</font><br><font color = green>you</font> do n't have to know about music to <font color = green>appreciate</font> the film 's easygoing blend of comedy and romance . <br><font color = red>we</font> do n't have to know about music to <font color = red>undo</font> the film 's easygoing blend of comedy and romance . "
            ],
            "text/plain": [
              "<IPython.core.display.HTML object>"
            ]
          },
          "metadata": {
            "tags": []
          }
        },
        {
          "output_type": "stream",
          "text": [
            "\n",
            "[Succeeded / Failed / Total] 0 / 8 / 8:  36%|███▌      | 9/25 [00:04<00:07,  2.11it/s]\u001b[A\n",
            "[Succeeded / Failed / Total] 1 / 8 / 9:  36%|███▌      | 9/25 [00:04<00:07,  2.09it/s]\u001b[A"
          ],
          "name": "stderr"
        },
        {
          "output_type": "display_data",
          "data": {
            "text/html": [
              "<font color = red>Negative (100%)</font> --> <font color = red>[FAILED]</font><br>in exactly 89 minutes , most of which passed as slowly as if i 'd been sitting naked on an igloo , formula 51 sank from quirky to jerky to utter turkey . "
            ],
            "text/plain": [
              "<IPython.core.display.HTML object>"
            ]
          },
          "metadata": {
            "tags": []
          }
        },
        {
          "output_type": "stream",
          "text": [
            "\n",
            "[Succeeded / Failed / Total] 1 / 8 / 9:  40%|████      | 10/25 [00:05<00:08,  1.78it/s]\u001b[A\n",
            "[Succeeded / Failed / Total] 1 / 9 / 10:  40%|████      | 10/25 [00:05<00:08,  1.78it/s]\u001b[A"
          ],
          "name": "stderr"
        },
        {
          "output_type": "display_data",
          "data": {
            "text/html": [
              "<font color = green>Positive (100%)</font> --> <font color = red>[FAILED]</font><br>the mesmerizing performances of the leads keep the film grounded and keep the audience riveted . "
            ],
            "text/plain": [
              "<IPython.core.display.HTML object>"
            ]
          },
          "metadata": {
            "tags": []
          }
        },
        {
          "output_type": "stream",
          "text": [
            "\n",
            "[Succeeded / Failed / Total] 1 / 9 / 10:  44%|████▍     | 11/25 [00:06<00:07,  1.77it/s]\u001b[A\n",
            "[Succeeded / Failed / Total] 1 / 10 / 11:  44%|████▍     | 11/25 [00:06<00:07,  1.77it/s]\u001b[A"
          ],
          "name": "stderr"
        },
        {
          "output_type": "display_data",
          "data": {
            "text/html": [
              "<font color = red>Negative (100%)</font> --> <font color = green>Positive (100%)</font><br>it takes a <font color = red>strange</font> kind of <font color = red>laziness</font> to <font color = red>waste</font> the talents of robert <font color = red>forster</font> , <font color = red>anne</font> meara , eugene levy , and reginald veljohnson all <font color = red>in</font> the <font color = red>same</font> <font color = red>movie</font> . <br>it takes a <font color = green>mysterious</font> kind of <font color = green>shadowing</font> to <font color = green>potable</font> the talents of robert <font color = green>sidgwick</font> , <font color = green>boleyn</font> meara , eugene levy , and reginald veljohnson all <font color = green>throughout</font> the <font color = green>planckian</font> <font color = green>film</font> . "
            ],
            "text/plain": [
              "<IPython.core.display.HTML object>"
            ]
          },
          "metadata": {
            "tags": []
          }
        },
        {
          "output_type": "stream",
          "text": [
            "\n",
            "[Succeeded / Failed / Total] 1 / 10 / 11:  48%|████▊     | 12/25 [00:07<00:07,  1.65it/s]\u001b[A\n",
            "[Succeeded / Failed / Total] 2 / 10 / 12:  48%|████▊     | 12/25 [00:07<00:07,  1.65it/s]\u001b[A"
          ],
          "name": "stderr"
        },
        {
          "output_type": "display_data",
          "data": {
            "text/html": [
              "<font color = red>Negative (100%)</font> --> <font color = red>[FAILED]</font><br>... the film suffers from a lack of humor ( something needed to balance out the violence ) ... "
            ],
            "text/plain": [
              "<IPython.core.display.HTML object>"
            ]
          },
          "metadata": {
            "tags": []
          }
        },
        {
          "output_type": "stream",
          "text": [
            "\n",
            "[Succeeded / Failed / Total] 2 / 10 / 12:  52%|█████▏    | 13/25 [00:07<00:07,  1.63it/s]\u001b[A\n",
            "[Succeeded / Failed / Total] 2 / 11 / 13:  52%|█████▏    | 13/25 [00:07<00:07,  1.63it/s]\u001b[A"
          ],
          "name": "stderr"
        },
        {
          "output_type": "display_data",
          "data": {
            "text/html": [
              "<font color = green>Positive (91%)</font> --> <font color = red>Negative (73%)</font><br><font color = green>we</font> <font color = green>root</font> for ( clara and paul ) , even like them , though perhaps it '<font color = green>s</font> an emotion closer to pity . <br><font color = red>you</font> <font color = red>untie</font> for ( clara and paul ) , even like them , though perhaps it '<font color = red>huizenga</font> an emotion closer to pity . "
            ],
            "text/plain": [
              "<IPython.core.display.HTML object>"
            ]
          },
          "metadata": {
            "tags": []
          }
        },
        {
          "output_type": "stream",
          "text": [
            "\n",
            "[Succeeded / Failed / Total] 2 / 11 / 13:  56%|█████▌    | 14/25 [00:08<00:06,  1.66it/s]\u001b[A\n",
            "[Succeeded / Failed / Total] 3 / 11 / 14:  56%|█████▌    | 14/25 [00:08<00:06,  1.66it/s]\u001b[A"
          ],
          "name": "stderr"
        },
        {
          "output_type": "display_data",
          "data": {
            "text/html": [
              "<font color = red>Negative (100%)</font> --> <font color = green>Positive (100%)</font><br>even horror fans will most likely not find what they 're seeking with trouble every day ; the movie <font color = red>lacks</font> both thrills and humor . <br>even horror fans will most likely not find what they 're seeking with trouble every day ; the movie <font color = green>renders</font> both thrills and humor . "
            ],
            "text/plain": [
              "<IPython.core.display.HTML object>"
            ]
          },
          "metadata": {
            "tags": []
          }
        },
        {
          "output_type": "stream",
          "text": [
            "\n",
            "[Succeeded / Failed / Total] 3 / 11 / 14:  60%|██████    | 15/25 [00:08<00:05,  1.68it/s]\u001b[A\n",
            "[Succeeded / Failed / Total] 4 / 11 / 15:  60%|██████    | 15/25 [00:08<00:05,  1.68it/s]\u001b[A"
          ],
          "name": "stderr"
        },
        {
          "output_type": "display_data",
          "data": {
            "text/html": [
              "<font color = green>Positive (100%)</font> --> <font color = red>[FAILED]</font><br>a gorgeous , high-spirited musical from india that exquisitely blends music , dance , song , and high drama . "
            ],
            "text/plain": [
              "<IPython.core.display.HTML object>"
            ]
          },
          "metadata": {
            "tags": []
          }
        },
        {
          "output_type": "stream",
          "text": [
            "\n",
            "[Succeeded / Failed / Total] 4 / 11 / 15:  64%|██████▍   | 16/25 [00:09<00:05,  1.66it/s]\u001b[A\n",
            "[Succeeded / Failed / Total] 4 / 12 / 16:  64%|██████▍   | 16/25 [00:09<00:05,  1.66it/s]\u001b[A"
          ],
          "name": "stderr"
        },
        {
          "output_type": "display_data",
          "data": {
            "text/html": [
              "<font color = green>Positive (100%)</font> --> <font color = red>Negative (71%)</font><br>the <font color = green>emotions</font> <font color = green>are</font> raw and <font color = green>will</font> <font color = green>strike</font> a <font color = green>nerve</font> with anyone who 's <font color = green>ever</font> had family trauma . <br>the <font color = red>emotion</font> <font color = red>were</font> raw and <font color = red>would</font> <font color = red>downed</font> a <font color = red>axon</font> with anyone who 's <font color = red>hardly</font> had family trauma . "
            ],
            "text/plain": [
              "<IPython.core.display.HTML object>"
            ]
          },
          "metadata": {
            "tags": []
          }
        },
        {
          "output_type": "stream",
          "text": [
            "\n",
            "[Succeeded / Failed / Total] 4 / 12 / 16:  68%|██████▊   | 17/25 [00:10<00:04,  1.67it/s]\u001b[A\n",
            "[Succeeded / Failed / Total] 5 / 12 / 17:  68%|██████▊   | 17/25 [00:10<00:04,  1.67it/s]\u001b[A"
          ],
          "name": "stderr"
        },
        {
          "output_type": "display_data",
          "data": {
            "text/html": [
              "<font color = green>Positive (100%)</font> --> <font color = red>[FAILED]</font><br>audrey tatou has a knack for picking roles that magnify her outrageous charm , and in this literate french comedy , she 's as morning-glory exuberant as she was in amélie . "
            ],
            "text/plain": [
              "<IPython.core.display.HTML object>"
            ]
          },
          "metadata": {
            "tags": []
          }
        },
        {
          "output_type": "stream",
          "text": [
            "\n",
            "[Succeeded / Failed / Total] 5 / 12 / 17:  72%|███████▏  | 18/25 [00:11<00:04,  1.57it/s]\u001b[A\n",
            "[Succeeded / Failed / Total] 5 / 13 / 18:  72%|███████▏  | 18/25 [00:11<00:04,  1.57it/s]\u001b[A"
          ],
          "name": "stderr"
        },
        {
          "output_type": "display_data",
          "data": {
            "text/html": [
              "<font color = red>Negative (100%)</font> --> <font color = red>[FAILED]</font><br>... the movie is just a plain old monster . "
            ],
            "text/plain": [
              "<IPython.core.display.HTML object>"
            ]
          },
          "metadata": {
            "tags": []
          }
        },
        {
          "output_type": "stream",
          "text": [
            "\n",
            "[Succeeded / Failed / Total] 5 / 13 / 18:  76%|███████▌  | 19/25 [00:11<00:03,  1.61it/s]\u001b[A\n",
            "[Succeeded / Failed / Total] 5 / 14 / 19:  76%|███████▌  | 19/25 [00:11<00:03,  1.60it/s]\u001b[A"
          ],
          "name": "stderr"
        },
        {
          "output_type": "display_data",
          "data": {
            "text/html": [
              "<font color = red>Negative (100%)</font> --> <font color = green>Positive (92%)</font><br>in its best moments , resembles a <font color = red>bad</font> high school production of grease , without benefit of song . <br>in its best moments , resembles a <font color = green>good</font> high school production of grease , without benefit of song . "
            ],
            "text/plain": [
              "<IPython.core.display.HTML object>"
            ]
          },
          "metadata": {
            "tags": []
          }
        },
        {
          "output_type": "stream",
          "text": [
            "\n",
            "[Succeeded / Failed / Total] 5 / 14 / 19:  80%|████████  | 20/25 [00:12<00:03,  1.64it/s]\u001b[A\n",
            "[Succeeded / Failed / Total] 6 / 14 / 20:  80%|████████  | 20/25 [00:12<00:03,  1.64it/s]\u001b[A"
          ],
          "name": "stderr"
        },
        {
          "output_type": "display_data",
          "data": {
            "text/html": [
              "<font color = red>Negative (96%)</font> --> <font color = green>Positive (79%)</font><br>pumpkin takes an admirable look at the hypocrisy of political correctness , but it does so with such an <font color = red>uneven</font> tone that you never know when humor ends and tragedy begins . <br>pumpkin takes an admirable look at the hypocrisy of political correctness , but it does so with such an <font color = green>precipitous</font> tone that you never know when humor ends and tragedy begins . "
            ],
            "text/plain": [
              "<IPython.core.display.HTML object>"
            ]
          },
          "metadata": {
            "tags": []
          }
        },
        {
          "output_type": "stream",
          "text": [
            "\n",
            "[Succeeded / Failed / Total] 6 / 14 / 20:  84%|████████▍ | 21/25 [00:12<00:02,  1.65it/s]\u001b[A\n",
            "[Succeeded / Failed / Total] 7 / 14 / 21:  84%|████████▍ | 21/25 [00:12<00:02,  1.64it/s]\u001b[A"
          ],
          "name": "stderr"
        },
        {
          "output_type": "display_data",
          "data": {
            "text/html": [
              "<font color = green>Positive (71%)</font> --> <font color = gray>[SKIPPED]</font><br>the iditarod lasts for days - this just felt like it did . "
            ],
            "text/plain": [
              "<IPython.core.display.HTML object>"
            ]
          },
          "metadata": {
            "tags": []
          }
        },
        {
          "output_type": "stream",
          "text": [
            "\n",
            "[Succeeded / Failed / Total] 7 / 14 / 22:  88%|████████▊ | 22/25 [00:12<00:01,  1.72it/s]\u001b[A"
          ],
          "name": "stderr"
        },
        {
          "output_type": "display_data",
          "data": {
            "text/html": [
              "<font color = green>Positive (64%)</font> --> <font color = gray>[SKIPPED]</font><br>holden caulfield did it better . "
            ],
            "text/plain": [
              "<IPython.core.display.HTML object>"
            ]
          },
          "metadata": {
            "tags": []
          }
        },
        {
          "output_type": "stream",
          "text": [
            "\n",
            "[Succeeded / Failed / Total] 7 / 14 / 23:  92%|█████████▏| 23/25 [00:12<00:01,  1.79it/s]\u001b[A"
          ],
          "name": "stderr"
        },
        {
          "output_type": "display_data",
          "data": {
            "text/html": [
              "<font color = green>Positive (100%)</font> --> <font color = red>[FAILED]</font><br>a delectable and intriguing thriller filled with surprises , read my lips is an original . "
            ],
            "text/plain": [
              "<IPython.core.display.HTML object>"
            ]
          },
          "metadata": {
            "tags": []
          }
        },
        {
          "output_type": "stream",
          "text": [
            "\n",
            "[Succeeded / Failed / Total] 7 / 14 / 23:  96%|█████████▌| 24/25 [00:13<00:00,  1.78it/s]\u001b[A\n",
            "[Succeeded / Failed / Total] 7 / 15 / 24:  96%|█████████▌| 24/25 [00:13<00:00,  1.78it/s]\u001b[A"
          ],
          "name": "stderr"
        },
        {
          "output_type": "display_data",
          "data": {
            "text/html": [
              "<font color = green>Positive (100%)</font> --> <font color = red>[FAILED]</font><br>seldom has a movie so closely matched the spirit of a man and his work . "
            ],
            "text/plain": [
              "<IPython.core.display.HTML object>"
            ]
          },
          "metadata": {
            "tags": []
          }
        },
        {
          "output_type": "stream",
          "text": [
            "\n",
            "[Succeeded / Failed / Total] 7 / 16 / 25: 100%|██████████| 25/25 [00:14<00:00,  1.77it/s]\u001b[A"
          ],
          "name": "stderr"
        },
        {
          "output_type": "display_data",
          "data": {
            "text/html": [
              "<font color = red>Negative (100%)</font> --> <font color = red>[FAILED]</font><br>nicks , seemingly uncertain what 's going to make people laugh , runs the gamut from stale parody to raunchy sex gags to formula romantic comedy . "
            ],
            "text/plain": [
              "<IPython.core.display.HTML object>"
            ]
          },
          "metadata": {
            "tags": []
          }
        },
        {
          "output_type": "stream",
          "text": [
            "\n",
            "[Succeeded / Failed / Total] 7 / 17 / 26: : 26it [00:15,  1.71it/s]                      \u001b[A"
          ],
          "name": "stderr"
        },
        {
          "output_type": "display_data",
          "data": {
            "text/html": [
              "<font color = red>Negative (99%)</font> --> <font color = green>Positive (100%)</font><br>the action switches between past and present , but the material link is <font color = red>too</font> tenuous to anchor the emotional connections that purport to span a 125-year divide . <br>the action switches between past and present , but the material link is <font color = green>very</font> tenuous to anchor the emotional connections that purport to span a 125-year divide . "
            ],
            "text/plain": [
              "<IPython.core.display.HTML object>"
            ]
          },
          "metadata": {
            "tags": []
          }
        },
        {
          "output_type": "stream",
          "text": [
            "\n",
            "[Succeeded / Failed / Total] 7 / 17 / 26: : 27it [00:15,  1.72it/s]\u001b[A\n",
            "[Succeeded / Failed / Total] 8 / 17 / 27: : 27it [00:15,  1.72it/s]"
          ],
          "name": "stderr"
        },
        {
          "output_type": "stream",
          "text": [
            "+-------------------------------+--------+\n",
            "| Attack Results                |        |\n",
            "+-------------------------------+--------+\n",
            "| Number of successful attacks: | 8      |\n",
            "| Number of failed attacks:     | 17     |\n",
            "| Number of skipped attacks:    | 2      |\n",
            "| Original accuracy:            | 92.59% |\n",
            "| Accuracy under attack:        | 62.96% |\n",
            "| Attack success rate:          | 32.0%  |\n",
            "| Average perturbed word %:     | 13.88% |\n",
            "| Average num. words per input: | 16.33  |\n",
            "| Avg num queries:              | 25.2   |\n",
            "+-------------------------------+--------+"
          ],
          "name": "stdout"
        },
        {
          "output_type": "stream",
          "text": [
            "\n",
            "\u001b[34;1mtextattack\u001b[0m: Attack time: 15.725313425064087s\n"
          ],
          "name": "stderr"
        }
      ]
    },
    {
      "cell_type": "markdown",
      "metadata": {
        "id": "ZEuoCcfXt7pK"
      },
      "source": [
        "### Glove, GreedyWordSwapWIR, PartsofSpeech"
      ]
    },
    {
      "cell_type": "code",
      "metadata": {
        "colab": {
          "base_uri": "https://localhost:8080/"
        },
        "id": "qDpOZWJXPe_o",
        "outputId": "baa263c3-ca88-40b1-e80f-c7c87bb65a1f"
      },
      "source": [
        "# We're going to use our word swap class as the attack transformation.\n",
        "transformation = Swapper__()\n",
        "\n",
        "constraints = [PartOfSpeech()]\n",
        "\n",
        "search_method = GreedyWordSwapWIR()\n",
        "\n",
        "goal_function = UntargetedClassification(model_wrapper)\n",
        "\n",
        "# Now, let's make the attack from the 4 components:\n",
        "attack = Attack(goal_function, constraints, transformation, search_method)"
      ],
      "execution_count": 49,
      "outputs": [
        {
          "output_type": "stream",
          "text": [
            "\u001b[34;1mtextattack\u001b[0m: Unknown if model of class <class 'transformers.models.distilbert.modeling_distilbert.DistilBertForSequenceClassification'> compatible with goal function <class 'textattack.goal_functions.classification.untargeted_classification.UntargetedClassification'>.\n"
          ],
          "name": "stderr"
        }
      ]
    },
    {
      "cell_type": "code",
      "metadata": {
        "colab": {
          "base_uri": "https://localhost:8080/"
        },
        "id": "ir08WYOBQmjK",
        "outputId": "1b635a26-9418-47c7-b5f5-4db920a9eaea"
      },
      "source": [
        "print(attack)"
      ],
      "execution_count": 50,
      "outputs": [
        {
          "output_type": "stream",
          "text": [
            "Attack(\n",
            "  (search_method): GreedyWordSwapWIR(\n",
            "    (wir_method):  unk\n",
            "  )\n",
            "  (goal_function):  UntargetedClassification\n",
            "  (transformation):  Swapper__\n",
            "  (constraints): \n",
            "    (0): PartOfSpeech(\n",
            "        (tagger_type):  nltk\n",
            "        (tagset):  universal\n",
            "        (allow_verb_noun_swap):  True\n",
            "        (compare_against_original):  True\n",
            "      )\n",
            "  (is_black_box):  True\n",
            ")\n"
          ],
          "name": "stdout"
        }
      ]
    },
    {
      "cell_type": "code",
      "metadata": {
        "colab": {
          "base_uri": "https://localhost:8080/",
          "height": 1000
        },
        "id": "R4Pio6_BQoS6",
        "outputId": "dbefedec-d4de-43a2-b4a9-56654589b2c9"
      },
      "source": [
        "attack_stats(attack, dataset, 25)"
      ],
      "execution_count": 51,
      "outputs": [
        {
          "output_type": "stream",
          "text": [
            "\n",
            "  0%|          | 0/25 [00:00<?, ?it/s]\u001b[A"
          ],
          "name": "stderr"
        },
        {
          "output_type": "stream",
          "text": [
            "Attack(\n",
            "  (search_method): GreedyWordSwapWIR(\n",
            "    (wir_method):  unk\n",
            "  )\n",
            "  (goal_function):  UntargetedClassification\n",
            "  (transformation):  Swapper__\n",
            "  (constraints): \n",
            "    (0): PartOfSpeech(\n",
            "        (tagger_type):  nltk\n",
            "        (tagset):  universal\n",
            "        (allow_verb_noun_swap):  True\n",
            "        (compare_against_original):  True\n",
            "      )\n",
            "  (is_black_box):  True\n",
            ")\n"
          ],
          "name": "stdout"
        },
        {
          "output_type": "display_data",
          "data": {
            "text/html": [
              "<font color = green>Positive (100%)</font> --> <font color = red>[FAILED]</font><br>it 's a charming and often affecting journey . "
            ],
            "text/plain": [
              "<IPython.core.display.HTML object>"
            ]
          },
          "metadata": {
            "tags": []
          }
        },
        {
          "output_type": "stream",
          "text": [
            "\n",
            "  4%|▍         | 1/25 [00:00<00:14,  1.65it/s]\u001b[A\n",
            "[Succeeded / Failed / Total] 0 / 1 / 1:   4%|▍         | 1/25 [00:00<00:14,  1.62it/s]\u001b[A"
          ],
          "name": "stderr"
        },
        {
          "output_type": "display_data",
          "data": {
            "text/html": [
              "<font color = red>Negative (99%)</font> --> <font color = red>[FAILED]</font><br>unflinchingly bleak and desperate "
            ],
            "text/plain": [
              "<IPython.core.display.HTML object>"
            ]
          },
          "metadata": {
            "tags": []
          }
        },
        {
          "output_type": "stream",
          "text": [
            "\n",
            "[Succeeded / Failed / Total] 0 / 1 / 1:   8%|▊         | 2/25 [00:00<00:10,  2.26it/s]\u001b[A\n",
            "[Succeeded / Failed / Total] 0 / 2 / 2:   8%|▊         | 2/25 [00:00<00:10,  2.24it/s]\u001b[A"
          ],
          "name": "stderr"
        },
        {
          "output_type": "display_data",
          "data": {
            "text/html": [
              "<font color = green>Positive (100%)</font> --> <font color = red>[FAILED]</font><br>allows us to hope that nolan is poised to embark a major career as a commercial yet inventive filmmaker . "
            ],
            "text/plain": [
              "<IPython.core.display.HTML object>"
            ]
          },
          "metadata": {
            "tags": []
          }
        },
        {
          "output_type": "stream",
          "text": [
            "\n",
            "[Succeeded / Failed / Total] 0 / 2 / 2:  12%|█▏        | 3/25 [00:02<00:16,  1.33it/s]\u001b[A\n",
            "[Succeeded / Failed / Total] 0 / 3 / 3:  12%|█▏        | 3/25 [00:02<00:16,  1.33it/s]\u001b[A"
          ],
          "name": "stderr"
        },
        {
          "output_type": "display_data",
          "data": {
            "text/html": [
              "<font color = green>Positive (100%)</font> --> <font color = red>Negative (81%)</font><br>the acting , costumes , music , cinematography and sound are all <font color = green>astounding</font> given the production 's austere locales . <br>the acting , costumes , music , cinematography and sound are all <font color = red>review</font> given the production 's austere locales . "
            ],
            "text/plain": [
              "<IPython.core.display.HTML object>"
            ]
          },
          "metadata": {
            "tags": []
          }
        },
        {
          "output_type": "stream",
          "text": [
            "\n",
            "[Succeeded / Failed / Total] 0 / 3 / 3:  16%|█▌        | 4/25 [00:02<00:13,  1.53it/s]\u001b[A\n",
            "[Succeeded / Failed / Total] 1 / 3 / 4:  16%|█▌        | 4/25 [00:02<00:13,  1.52it/s]\u001b[A"
          ],
          "name": "stderr"
        },
        {
          "output_type": "display_data",
          "data": {
            "text/html": [
              "<font color = red>Negative (100%)</font> --> <font color = red>[FAILED]</font><br>it 's slow -- very , very slow . "
            ],
            "text/plain": [
              "<IPython.core.display.HTML object>"
            ]
          },
          "metadata": {
            "tags": []
          }
        },
        {
          "output_type": "stream",
          "text": [
            "\n",
            "[Succeeded / Failed / Total] 1 / 3 / 4:  20%|██        | 5/25 [00:03<00:12,  1.63it/s]\u001b[A\n",
            "[Succeeded / Failed / Total] 1 / 4 / 5:  20%|██        | 5/25 [00:03<00:12,  1.62it/s]\u001b[A"
          ],
          "name": "stderr"
        },
        {
          "output_type": "display_data",
          "data": {
            "text/html": [
              "<font color = green>Positive (100%)</font> --> <font color = red>[FAILED]</font><br>although laced with humor and a few fanciful touches , the film is a refreshingly serious look at young women . "
            ],
            "text/plain": [
              "<IPython.core.display.HTML object>"
            ]
          },
          "metadata": {
            "tags": []
          }
        },
        {
          "output_type": "stream",
          "text": [
            "\n",
            "[Succeeded / Failed / Total] 1 / 4 / 5:  24%|██▍       | 6/25 [00:04<00:14,  1.35it/s]\u001b[A\n",
            "[Succeeded / Failed / Total] 1 / 5 / 6:  24%|██▍       | 6/25 [00:04<00:14,  1.35it/s]\u001b[A"
          ],
          "name": "stderr"
        },
        {
          "output_type": "display_data",
          "data": {
            "text/html": [
              "<font color = red>Negative (99%)</font> --> <font color = red>[FAILED]</font><br>a sometimes tedious film . "
            ],
            "text/plain": [
              "<IPython.core.display.HTML object>"
            ]
          },
          "metadata": {
            "tags": []
          }
        },
        {
          "output_type": "stream",
          "text": [
            "\n",
            "[Succeeded / Failed / Total] 1 / 5 / 6:  28%|██▊       | 7/25 [00:04<00:12,  1.45it/s]\u001b[A\n",
            "[Succeeded / Failed / Total] 1 / 6 / 7:  28%|██▊       | 7/25 [00:04<00:12,  1.45it/s]\u001b[A"
          ],
          "name": "stderr"
        },
        {
          "output_type": "display_data",
          "data": {
            "text/html": [
              "<font color = red>Negative (98%)</font> --> <font color = red>[FAILED]</font><br>or doing last year 's taxes with your ex-wife . "
            ],
            "text/plain": [
              "<IPython.core.display.HTML object>"
            ]
          },
          "metadata": {
            "tags": []
          }
        },
        {
          "output_type": "stream",
          "text": [
            "\n",
            "[Succeeded / Failed / Total] 1 / 6 / 7:  32%|███▏      | 8/25 [00:05<00:11,  1.50it/s]\u001b[A\n",
            "[Succeeded / Failed / Total] 1 / 7 / 8:  32%|███▏      | 8/25 [00:05<00:11,  1.50it/s]\u001b[A"
          ],
          "name": "stderr"
        },
        {
          "output_type": "display_data",
          "data": {
            "text/html": [
              "<font color = green>Positive (100%)</font> --> <font color = red>Negative (95%)</font><br>you do n't have to know about music to <font color = green>appreciate</font> the film 's easygoing blend of comedy and romance . <br>you do n't have to know about music to <font color = red>hamper</font> the film 's easygoing blend of comedy and romance . "
            ],
            "text/plain": [
              "<IPython.core.display.HTML object>"
            ]
          },
          "metadata": {
            "tags": []
          }
        },
        {
          "output_type": "stream",
          "text": [
            "\n",
            "[Succeeded / Failed / Total] 1 / 7 / 8:  36%|███▌      | 9/25 [00:05<00:10,  1.56it/s]\u001b[A\n",
            "[Succeeded / Failed / Total] 2 / 7 / 9:  36%|███▌      | 9/25 [00:05<00:10,  1.55it/s]\u001b[A"
          ],
          "name": "stderr"
        },
        {
          "output_type": "display_data",
          "data": {
            "text/html": [
              "<font color = red>Negative (100%)</font> --> <font color = red>[FAILED]</font><br>in exactly 89 minutes , most of which passed as slowly as if i 'd been sitting naked on an igloo , formula 51 sank from quirky to jerky to utter turkey . "
            ],
            "text/plain": [
              "<IPython.core.display.HTML object>"
            ]
          },
          "metadata": {
            "tags": []
          }
        },
        {
          "output_type": "stream",
          "text": [
            "\n",
            "[Succeeded / Failed / Total] 2 / 7 / 9:  40%|████      | 10/25 [00:07<00:11,  1.30it/s]\u001b[A\n",
            "[Succeeded / Failed / Total] 2 / 8 / 10:  40%|████      | 10/25 [00:07<00:11,  1.30it/s]\u001b[A"
          ],
          "name": "stderr"
        },
        {
          "output_type": "display_data",
          "data": {
            "text/html": [
              "<font color = green>Positive (100%)</font> --> <font color = red>[FAILED]</font><br>the mesmerizing performances of the leads keep the film grounded and keep the audience riveted . "
            ],
            "text/plain": [
              "<IPython.core.display.HTML object>"
            ]
          },
          "metadata": {
            "tags": []
          }
        },
        {
          "output_type": "stream",
          "text": [
            "\n",
            "[Succeeded / Failed / Total] 2 / 8 / 10:  44%|████▍     | 11/25 [00:08<00:11,  1.27it/s]\u001b[A\n",
            "[Succeeded / Failed / Total] 2 / 9 / 11:  44%|████▍     | 11/25 [00:08<00:11,  1.27it/s]\u001b[A"
          ],
          "name": "stderr"
        },
        {
          "output_type": "display_data",
          "data": {
            "text/html": [
              "<font color = red>Negative (100%)</font> --> <font color = green>Positive (100%)</font><br>it takes a strange kind of <font color = red>laziness</font> to <font color = red>waste</font> the talents of <font color = red>robert</font> <font color = red>forster</font> , <font color = red>anne</font> meara , eugene levy , and reginald veljohnson all in the <font color = red>same</font> <font color = red>movie</font> . <br>it takes a strange kind of <font color = green>margarine</font> to <font color = green>raw</font> the talents of <font color = green>sproull</font> <font color = green>clynes</font> , <font color = green>boleyn</font> meara , eugene levy , and reginald veljohnson all in the <font color = green>particular</font> <font color = green>film</font> . "
            ],
            "text/plain": [
              "<IPython.core.display.HTML object>"
            ]
          },
          "metadata": {
            "tags": []
          }
        },
        {
          "output_type": "stream",
          "text": [
            "\n",
            "[Succeeded / Failed / Total] 2 / 9 / 11:  48%|████▊     | 12/25 [00:10<00:11,  1.16it/s]\u001b[A\n",
            "[Succeeded / Failed / Total] 3 / 9 / 12:  48%|████▊     | 12/25 [00:10<00:11,  1.16it/s]\u001b[A"
          ],
          "name": "stderr"
        },
        {
          "output_type": "display_data",
          "data": {
            "text/html": [
              "<font color = red>Negative (100%)</font> --> <font color = green>Positive (56%)</font><br>... the film <font color = red>suffers</font> from a <font color = red>lack</font> of <font color = red>humor</font> ( something needed to balance out the violence ) ... <br>... the film <font color = green>benefited</font> from a <font color = green>absence</font> of <font color = green>labvakar</font> ( something needed to balance out the violence ) ... "
            ],
            "text/plain": [
              "<IPython.core.display.HTML object>"
            ]
          },
          "metadata": {
            "tags": []
          }
        },
        {
          "output_type": "stream",
          "text": [
            "\n",
            "[Succeeded / Failed / Total] 3 / 9 / 12:  52%|█████▏    | 13/25 [00:10<00:10,  1.20it/s]\u001b[A\n",
            "[Succeeded / Failed / Total] 4 / 9 / 13:  52%|█████▏    | 13/25 [00:10<00:10,  1.20it/s]\u001b[A"
          ],
          "name": "stderr"
        },
        {
          "output_type": "display_data",
          "data": {
            "text/html": [
              "<font color = green>Positive (91%)</font> --> <font color = red>Negative (82%)</font><br><font color = green>we</font> <font color = green>root</font> for ( clara and paul ) , even like them , though perhaps it '<font color = green>s</font> an emotion closer to pity . <br><font color = red>you</font> <font color = red>endodontics</font> for ( clara and paul ) , even like them , though perhaps it '<font color = red>ridgwayi</font> an emotion closer to pity . "
            ],
            "text/plain": [
              "<IPython.core.display.HTML object>"
            ]
          },
          "metadata": {
            "tags": []
          }
        },
        {
          "output_type": "stream",
          "text": [
            "\n",
            "[Succeeded / Failed / Total] 4 / 9 / 13:  56%|█████▌    | 14/25 [00:11<00:09,  1.22it/s]\u001b[A\n",
            "[Succeeded / Failed / Total] 5 / 9 / 14:  56%|█████▌    | 14/25 [00:11<00:09,  1.22it/s]\u001b[A"
          ],
          "name": "stderr"
        },
        {
          "output_type": "display_data",
          "data": {
            "text/html": [
              "<font color = red>Negative (100%)</font> --> <font color = green>Positive (100%)</font><br>even horror fans will most likely not find what they 're seeking with trouble every day ; the movie <font color = red>lacks</font> both thrills and humor . <br>even horror fans will most likely not find what they 're seeking with trouble every day ; the movie <font color = green>possesses</font> both thrills and humor . "
            ],
            "text/plain": [
              "<IPython.core.display.HTML object>"
            ]
          },
          "metadata": {
            "tags": []
          }
        },
        {
          "output_type": "stream",
          "text": [
            "\n",
            "[Succeeded / Failed / Total] 5 / 9 / 14:  60%|██████    | 15/25 [00:11<00:07,  1.25it/s]\u001b[A\n",
            "[Succeeded / Failed / Total] 6 / 9 / 15:  60%|██████    | 15/25 [00:11<00:07,  1.25it/s]\u001b[A"
          ],
          "name": "stderr"
        },
        {
          "output_type": "display_data",
          "data": {
            "text/html": [
              "<font color = green>Positive (100%)</font> --> <font color = red>[FAILED]</font><br>a gorgeous , high-spirited musical from india that exquisitely blends music , dance , song , and high drama . "
            ],
            "text/plain": [
              "<IPython.core.display.HTML object>"
            ]
          },
          "metadata": {
            "tags": []
          }
        },
        {
          "output_type": "stream",
          "text": [
            "\n",
            "[Succeeded / Failed / Total] 6 / 9 / 15:  64%|██████▍   | 16/25 [00:13<00:07,  1.23it/s]\u001b[A\n",
            "[Succeeded / Failed / Total] 6 / 10 / 16:  64%|██████▍   | 16/25 [00:13<00:07,  1.23it/s]\u001b[A"
          ],
          "name": "stderr"
        },
        {
          "output_type": "display_data",
          "data": {
            "text/html": [
              "<font color = green>Positive (100%)</font> --> <font color = red>Negative (55%)</font><br>the emotions are raw and <font color = green>will</font> <font color = green>strike</font> a <font color = green>nerve</font> with anyone who 's <font color = green>ever</font> had family trauma . <br>the emotions are raw and <font color = red>would</font> <font color = red>counter</font> a <font color = red>adhesion</font> with anyone who 's <font color = red>once</font> had family trauma . "
            ],
            "text/plain": [
              "<IPython.core.display.HTML object>"
            ]
          },
          "metadata": {
            "tags": []
          }
        },
        {
          "output_type": "stream",
          "text": [
            "\n",
            "[Succeeded / Failed / Total] 6 / 10 / 16:  68%|██████▊   | 17/25 [00:13<00:06,  1.25it/s]\u001b[A\n",
            "[Succeeded / Failed / Total] 7 / 10 / 17:  68%|██████▊   | 17/25 [00:13<00:06,  1.25it/s]\u001b[A"
          ],
          "name": "stderr"
        },
        {
          "output_type": "display_data",
          "data": {
            "text/html": [
              "<font color = green>Positive (100%)</font> --> <font color = red>Negative (87%)</font><br>audrey tatou <font color = green>has</font> a <font color = green>knack</font> for picking roles that <font color = green>magnify</font> her outrageous charm , and in this <font color = green>literate</font> french <font color = green>comedy</font> , she '<font color = green>s</font> as morning-glory exuberant as she was in amélie . <br>audrey tatou <font color = red>viestimies</font> a <font color = red>transcribing</font> for picking roles that <font color = red>overwhelm</font> her outrageous charm , and in this <font color = red>functional</font> french <font color = red>drama</font> , she '<font color = red>ridgwayi</font> as morning-glory exuberant as she was in amélie . "
            ],
            "text/plain": [
              "<IPython.core.display.HTML object>"
            ]
          },
          "metadata": {
            "tags": []
          }
        },
        {
          "output_type": "stream",
          "text": [
            "\n",
            "[Succeeded / Failed / Total] 7 / 10 / 17:  72%|███████▏  | 18/25 [00:14<00:05,  1.21it/s]\u001b[A\n",
            "[Succeeded / Failed / Total] 8 / 10 / 18:  72%|███████▏  | 18/25 [00:14<00:05,  1.21it/s]\u001b[A"
          ],
          "name": "stderr"
        },
        {
          "output_type": "display_data",
          "data": {
            "text/html": [
              "<font color = red>Negative (100%)</font> --> <font color = red>[FAILED]</font><br>... the movie is just a plain old monster . "
            ],
            "text/plain": [
              "<IPython.core.display.HTML object>"
            ]
          },
          "metadata": {
            "tags": []
          }
        },
        {
          "output_type": "stream",
          "text": [
            "\n",
            "[Succeeded / Failed / Total] 8 / 10 / 18:  76%|███████▌  | 19/25 [00:15<00:04,  1.23it/s]\u001b[A\n",
            "[Succeeded / Failed / Total] 8 / 11 / 19:  76%|███████▌  | 19/25 [00:15<00:04,  1.22it/s]\u001b[A"
          ],
          "name": "stderr"
        },
        {
          "output_type": "display_data",
          "data": {
            "text/html": [
              "<font color = red>Negative (100%)</font> --> <font color = green>Positive (92%)</font><br>in its best moments , resembles a <font color = red>bad</font> high school production of grease , without benefit of song . <br>in its best moments , resembles a <font color = green>good</font> high school production of grease , without benefit of song . "
            ],
            "text/plain": [
              "<IPython.core.display.HTML object>"
            ]
          },
          "metadata": {
            "tags": []
          }
        },
        {
          "output_type": "stream",
          "text": [
            "\n",
            "[Succeeded / Failed / Total] 8 / 11 / 19:  80%|████████  | 20/25 [00:15<00:03,  1.26it/s]\u001b[A\n",
            "[Succeeded / Failed / Total] 9 / 11 / 20:  80%|████████  | 20/25 [00:15<00:03,  1.26it/s]\u001b[A"
          ],
          "name": "stderr"
        },
        {
          "output_type": "display_data",
          "data": {
            "text/html": [
              "<font color = red>Negative (96%)</font> --> <font color = red>[FAILED]</font><br>pumpkin takes an admirable look at the hypocrisy of political correctness , but it does so with such an uneven tone that you never know when humor ends and tragedy begins . "
            ],
            "text/plain": [
              "<IPython.core.display.HTML object>"
            ]
          },
          "metadata": {
            "tags": []
          }
        },
        {
          "output_type": "stream",
          "text": [
            "\n",
            "[Succeeded / Failed / Total] 9 / 11 / 20:  84%|████████▍ | 21/25 [00:17<00:03,  1.18it/s]\u001b[A\n",
            "[Succeeded / Failed / Total] 9 / 12 / 21:  84%|████████▍ | 21/25 [00:17<00:03,  1.18it/s]\u001b[A"
          ],
          "name": "stderr"
        },
        {
          "output_type": "display_data",
          "data": {
            "text/html": [
              "<font color = green>Positive (71%)</font> --> <font color = gray>[SKIPPED]</font><br>the iditarod lasts for days - this just felt like it did . "
            ],
            "text/plain": [
              "<IPython.core.display.HTML object>"
            ]
          },
          "metadata": {
            "tags": []
          }
        },
        {
          "output_type": "stream",
          "text": [
            "\n",
            "[Succeeded / Failed / Total] 9 / 12 / 22:  88%|████████▊ | 22/25 [00:17<00:02,  1.24it/s]\u001b[A"
          ],
          "name": "stderr"
        },
        {
          "output_type": "display_data",
          "data": {
            "text/html": [
              "<font color = green>Positive (64%)</font> --> <font color = gray>[SKIPPED]</font><br>holden caulfield did it better . "
            ],
            "text/plain": [
              "<IPython.core.display.HTML object>"
            ]
          },
          "metadata": {
            "tags": []
          }
        },
        {
          "output_type": "stream",
          "text": [
            "\n",
            "[Succeeded / Failed / Total] 9 / 12 / 23:  92%|█████████▏| 23/25 [00:17<00:01,  1.29it/s]\u001b[A"
          ],
          "name": "stderr"
        },
        {
          "output_type": "display_data",
          "data": {
            "text/html": [
              "<font color = green>Positive (100%)</font> --> <font color = red>[FAILED]</font><br>a delectable and intriguing thriller filled with surprises , read my lips is an original . "
            ],
            "text/plain": [
              "<IPython.core.display.HTML object>"
            ]
          },
          "metadata": {
            "tags": []
          }
        },
        {
          "output_type": "stream",
          "text": [
            "\n",
            "[Succeeded / Failed / Total] 9 / 12 / 23:  96%|█████████▌| 24/25 [00:18<00:00,  1.28it/s]\u001b[A\n",
            "[Succeeded / Failed / Total] 9 / 13 / 24:  96%|█████████▌| 24/25 [00:18<00:00,  1.28it/s]\u001b[A"
          ],
          "name": "stderr"
        },
        {
          "output_type": "display_data",
          "data": {
            "text/html": [
              "<font color = green>Positive (100%)</font> --> <font color = red>[FAILED]</font><br>seldom has a movie so closely matched the spirit of a man and his work . "
            ],
            "text/plain": [
              "<IPython.core.display.HTML object>"
            ]
          },
          "metadata": {
            "tags": []
          }
        },
        {
          "output_type": "stream",
          "text": [
            "\n",
            "[Succeeded / Failed / Total] 9 / 14 / 25: 100%|██████████| 25/25 [00:19<00:00,  1.26it/s]\u001b[A"
          ],
          "name": "stderr"
        },
        {
          "output_type": "display_data",
          "data": {
            "text/html": [
              "<font color = red>Negative (100%)</font> --> <font color = red>[FAILED]</font><br>nicks , seemingly uncertain what 's going to make people laugh , runs the gamut from stale parody to raunchy sex gags to formula romantic comedy . "
            ],
            "text/plain": [
              "<IPython.core.display.HTML object>"
            ]
          },
          "metadata": {
            "tags": []
          }
        },
        {
          "output_type": "stream",
          "text": [
            "\n",
            "[Succeeded / Failed / Total] 9 / 15 / 26: : 26it [00:21,  1.22it/s]                      \u001b[A"
          ],
          "name": "stderr"
        },
        {
          "output_type": "display_data",
          "data": {
            "text/html": [
              "<font color = red>Negative (99%)</font> --> <font color = green>Positive (100%)</font><br>the action switches between past and present , but the material link is <font color = red>too</font> tenuous to anchor the emotional connections that purport to span a 125-year divide . <br>the action switches between past and present , but the material link is <font color = green>very</font> tenuous to anchor the emotional connections that purport to span a 125-year divide . "
            ],
            "text/plain": [
              "<IPython.core.display.HTML object>"
            ]
          },
          "metadata": {
            "tags": []
          }
        },
        {
          "output_type": "stream",
          "text": [
            "\n",
            "[Succeeded / Failed / Total] 9 / 15 / 26: : 27it [00:21,  1.23it/s]\u001b[A\n",
            "[Succeeded / Failed / Total] 10 / 15 / 27: : 27it [00:21,  1.23it/s]"
          ],
          "name": "stderr"
        },
        {
          "output_type": "stream",
          "text": [
            "+-------------------------------+--------+\n",
            "| Attack Results                |        |\n",
            "+-------------------------------+--------+\n",
            "| Number of successful attacks: | 10     |\n",
            "| Number of failed attacks:     | 15     |\n",
            "| Number of skipped attacks:    | 2      |\n",
            "| Original accuracy:            | 92.59% |\n",
            "| Accuracy under attack:        | 55.56% |\n",
            "| Attack success rate:          | 40.0%  |\n",
            "| Average perturbed word %:     | 13.38% |\n",
            "| Average num. words per input: | 16.33  |\n",
            "| Avg num queries:              | 23.6   |\n",
            "+-------------------------------+--------+"
          ],
          "name": "stdout"
        },
        {
          "output_type": "stream",
          "text": [
            "\n",
            "\u001b[34;1mtextattack\u001b[0m: Attack time: 21.926517963409424s\n"
          ],
          "name": "stderr"
        }
      ]
    },
    {
      "cell_type": "markdown",
      "metadata": {
        "id": "qKxnejySt_p8"
      },
      "source": [
        "### FastText, ParticleSwarmOptimization, PartsofSpeech"
      ]
    },
    {
      "cell_type": "code",
      "metadata": {
        "colab": {
          "base_uri": "https://localhost:8080/"
        },
        "id": "wr5Yq7uz1Kq9",
        "outputId": "93050f5e-8480-46e8-dfad-5b170021bece"
      },
      "source": [
        "from textattack.constraints.grammaticality import PartOfSpeech\n",
        "# We're going to use our word swap class as the attack transformation.\n",
        "transformation = Swapper()\n",
        "\n",
        "constraints = [PartOfSpeech()]\n",
        "\n",
        "search_method = ParticleSwarmOptimization(pop_size=10,max_iters=5)\n",
        "\n",
        "goal_function = UntargetedClassification(model_wrapper)\n",
        "\n",
        "# Now, let's make the attack from the 4 components:\n",
        "attack = Attack(goal_function, constraints, transformation, search_method)"
      ],
      "execution_count": 52,
      "outputs": [
        {
          "output_type": "stream",
          "text": [
            "\u001b[34;1mtextattack\u001b[0m: Unknown if model of class <class 'transformers.models.distilbert.modeling_distilbert.DistilBertForSequenceClassification'> compatible with goal function <class 'textattack.goal_functions.classification.untargeted_classification.UntargetedClassification'>.\n"
          ],
          "name": "stderr"
        }
      ]
    },
    {
      "cell_type": "code",
      "metadata": {
        "colab": {
          "base_uri": "https://localhost:8080/"
        },
        "id": "XpkxiVj02xk-",
        "outputId": "393a4cce-ab4b-470c-c1ba-77cdcdd26574"
      },
      "source": [
        "print(attack)"
      ],
      "execution_count": 53,
      "outputs": [
        {
          "output_type": "stream",
          "text": [
            "Attack(\n",
            "  (search_method): ParticleSwarmOptimization(\n",
            "    (pop_size):  10\n",
            "    (max_iters):  5\n",
            "    (post_turn_check):  True\n",
            "    (max_turn_retries):  20\n",
            "  )\n",
            "  (goal_function):  UntargetedClassification\n",
            "  (transformation):  Swapper\n",
            "  (constraints): \n",
            "    (0): PartOfSpeech(\n",
            "        (tagger_type):  nltk\n",
            "        (tagset):  universal\n",
            "        (allow_verb_noun_swap):  True\n",
            "        (compare_against_original):  True\n",
            "      )\n",
            "  (is_black_box):  True\n",
            ")\n"
          ],
          "name": "stdout"
        }
      ]
    },
    {
      "cell_type": "code",
      "metadata": {
        "colab": {
          "base_uri": "https://localhost:8080/",
          "height": 1000
        },
        "id": "LGbTuwOQ24BO",
        "outputId": "be9cd66d-7dcc-4e5e-e66c-8bb6c4588fe8"
      },
      "source": [
        "attack_stats(attack, dataset, 25)"
      ],
      "execution_count": 54,
      "outputs": [
        {
          "output_type": "stream",
          "text": [
            "\n",
            "  0%|          | 0/25 [00:00<?, ?it/s]\u001b[A"
          ],
          "name": "stderr"
        },
        {
          "output_type": "stream",
          "text": [
            "Attack(\n",
            "  (search_method): ParticleSwarmOptimization(\n",
            "    (pop_size):  10\n",
            "    (max_iters):  5\n",
            "    (post_turn_check):  True\n",
            "    (max_turn_retries):  20\n",
            "  )\n",
            "  (goal_function):  UntargetedClassification\n",
            "  (transformation):  Swapper\n",
            "  (constraints): \n",
            "    (0): PartOfSpeech(\n",
            "        (tagger_type):  nltk\n",
            "        (tagset):  universal\n",
            "        (allow_verb_noun_swap):  True\n",
            "        (compare_against_original):  True\n",
            "      )\n",
            "  (is_black_box):  True\n",
            ")\n"
          ],
          "name": "stdout"
        },
        {
          "output_type": "display_data",
          "data": {
            "text/html": [
              "<font color = green>Positive (100%)</font> --> <font color = red>Negative (82%)</font><br>it 's <font color = green>a</font> <font color = green>charming</font> and <font color = green>often</font> affecting <font color = green>journey</font> . <br>it 's <font color = red>the</font> <font color = red>harming</font> and <font color = red>sometimes</font> affecting <font color = red>beausejour</font> . "
            ],
            "text/plain": [
              "<IPython.core.display.HTML object>"
            ]
          },
          "metadata": {
            "tags": []
          }
        },
        {
          "output_type": "stream",
          "text": [
            "\n",
            "  4%|▍         | 1/25 [00:01<00:32,  1.34s/it]\u001b[A\n",
            "[Succeeded / Failed / Total] 1 / 0 / 1:   4%|▍         | 1/25 [00:01<00:32,  1.35s/it]\u001b[A"
          ],
          "name": "stderr"
        },
        {
          "output_type": "display_data",
          "data": {
            "text/html": [
              "<font color = red>Negative (99%)</font> --> <font color = red>[FAILED]</font><br>unflinchingly bleak and desperate "
            ],
            "text/plain": [
              "<IPython.core.display.HTML object>"
            ]
          },
          "metadata": {
            "tags": []
          }
        },
        {
          "output_type": "stream",
          "text": [
            "\n",
            "[Succeeded / Failed / Total] 1 / 0 / 1:   8%|▊         | 2/25 [00:01<00:20,  1.14it/s]\u001b[A\n",
            "[Succeeded / Failed / Total] 1 / 1 / 2:   8%|▊         | 2/25 [00:01<00:20,  1.14it/s]\u001b[A"
          ],
          "name": "stderr"
        },
        {
          "output_type": "display_data",
          "data": {
            "text/html": [
              "<font color = green>Positive (100%)</font> --> <font color = red>Negative (74%)</font><br>allows us to <font color = green>hope</font> that nolan <font color = green>is</font> poised to embark a major <font color = green>career</font> as a commercial <font color = green>yet</font> inventive <font color = green>filmmaker</font> . <br>allows us to <font color = red>feelgood</font> that nolan <font color = red>was</font> poised to embark a major <font color = red>retirement</font> as a commercial <font color = red>actually</font> inventive <font color = red>screenwriter</font> . "
            ],
            "text/plain": [
              "<IPython.core.display.HTML object>"
            ]
          },
          "metadata": {
            "tags": []
          }
        },
        {
          "output_type": "stream",
          "text": [
            "\n",
            "[Succeeded / Failed / Total] 1 / 1 / 2:  12%|█▏        | 3/25 [00:11<01:22,  3.73s/it]\u001b[A\n",
            "[Succeeded / Failed / Total] 2 / 1 / 3:  12%|█▏        | 3/25 [00:11<01:22,  3.73s/it]\u001b[A"
          ],
          "name": "stderr"
        },
        {
          "output_type": "display_data",
          "data": {
            "text/html": [
              "<font color = green>Positive (100%)</font> --> <font color = red>[FAILED]</font><br>the acting , costumes , music , cinematography and sound are all astounding given the production 's austere locales . "
            ],
            "text/plain": [
              "<IPython.core.display.HTML object>"
            ]
          },
          "metadata": {
            "tags": []
          }
        },
        {
          "output_type": "stream",
          "text": [
            "\n",
            "[Succeeded / Failed / Total] 2 / 1 / 3:  16%|█▌        | 4/25 [00:20<01:49,  5.22s/it]\u001b[A\n",
            "[Succeeded / Failed / Total] 2 / 2 / 4:  16%|█▌        | 4/25 [00:20<01:49,  5.22s/it]\u001b[A"
          ],
          "name": "stderr"
        },
        {
          "output_type": "display_data",
          "data": {
            "text/html": [
              "<font color = red>Negative (100%)</font> --> <font color = green>Positive (50%)</font><br>it 's <font color = red>slow</font> -- <font color = red>very</font> , <font color = red>very</font> <font color = red>slow</font> . <br>it 's <font color = green>quickened</font> -- <font color = green>quite</font> , <font color = green>quite</font> <font color = green>quickened</font> . "
            ],
            "text/plain": [
              "<IPython.core.display.HTML object>"
            ]
          },
          "metadata": {
            "tags": []
          }
        },
        {
          "output_type": "stream",
          "text": [
            "\n",
            "[Succeeded / Failed / Total] 2 / 2 / 4:  20%|██        | 5/25 [00:22<01:28,  4.43s/it]\u001b[A\n",
            "[Succeeded / Failed / Total] 3 / 2 / 5:  20%|██        | 5/25 [00:22<01:28,  4.43s/it]\u001b[A"
          ],
          "name": "stderr"
        },
        {
          "output_type": "display_data",
          "data": {
            "text/html": [
              "<font color = green>Positive (100%)</font> --> <font color = red>[FAILED]</font><br>although laced with humor and a few fanciful touches , the film is a refreshingly serious look at young women . "
            ],
            "text/plain": [
              "<IPython.core.display.HTML object>"
            ]
          },
          "metadata": {
            "tags": []
          }
        },
        {
          "output_type": "stream",
          "text": [
            "\n",
            "[Succeeded / Failed / Total] 3 / 2 / 5:  24%|██▍       | 6/25 [00:37<01:59,  6.27s/it]\u001b[A\n",
            "[Succeeded / Failed / Total] 3 / 3 / 6:  24%|██▍       | 6/25 [00:37<01:59,  6.27s/it]\u001b[A"
          ],
          "name": "stderr"
        },
        {
          "output_type": "display_data",
          "data": {
            "text/html": [
              "<font color = red>Negative (99%)</font> --> <font color = green>Positive (100%)</font><br>a sometimes <font color = red>tedious</font> film . <br>a sometimes <font color = green>audacious</font> film . "
            ],
            "text/plain": [
              "<IPython.core.display.HTML object>"
            ]
          },
          "metadata": {
            "tags": []
          }
        },
        {
          "output_type": "stream",
          "text": [
            "\n",
            "[Succeeded / Failed / Total] 3 / 3 / 6:  28%|██▊       | 7/25 [00:38<01:37,  5.43s/it]\u001b[A\n",
            "[Succeeded / Failed / Total] 4 / 3 / 7:  28%|██▊       | 7/25 [00:38<01:37,  5.44s/it]\u001b[A"
          ],
          "name": "stderr"
        },
        {
          "output_type": "display_data",
          "data": {
            "text/html": [
              "<font color = red>Negative (98%)</font> --> <font color = red>[FAILED]</font><br>or doing last year 's taxes with your ex-wife . "
            ],
            "text/plain": [
              "<IPython.core.display.HTML object>"
            ]
          },
          "metadata": {
            "tags": []
          }
        },
        {
          "output_type": "stream",
          "text": [
            "\n",
            "[Succeeded / Failed / Total] 4 / 3 / 7:  32%|███▏      | 8/25 [00:42<01:31,  5.36s/it]\u001b[A\n",
            "[Succeeded / Failed / Total] 4 / 4 / 8:  32%|███▏      | 8/25 [00:42<01:31,  5.36s/it]\u001b[A"
          ],
          "name": "stderr"
        },
        {
          "output_type": "display_data",
          "data": {
            "text/html": [
              "<font color = green>Positive (100%)</font> --> <font color = red>Negative (97%)</font><br><font color = green>you</font> <font color = green>do</font> n't have to know about music to <font color = green>appreciate</font> the film 's <font color = green>easygoing</font> <font color = green>blend</font> of <font color = green>comedy</font> and <font color = green>romance</font> . <br><font color = red>we</font> <font color = red>wish</font> n't have to know about music to <font color = red>appreciating</font> the film 's <font color = red>foregoing</font> <font color = red>texture</font> of <font color = red>comedies</font> and <font color = red>germanic</font> . "
            ],
            "text/plain": [
              "<IPython.core.display.HTML object>"
            ]
          },
          "metadata": {
            "tags": []
          }
        },
        {
          "output_type": "stream",
          "text": [
            "\n",
            "[Succeeded / Failed / Total] 4 / 4 / 8:  36%|███▌      | 9/25 [00:50<01:29,  5.61s/it]\u001b[A\n",
            "[Succeeded / Failed / Total] 5 / 4 / 9:  36%|███▌      | 9/25 [00:50<01:29,  5.61s/it]\u001b[A"
          ],
          "name": "stderr"
        },
        {
          "output_type": "display_data",
          "data": {
            "text/html": [
              "<font color = red>Negative (100%)</font> --> <font color = red>[FAILED]</font><br>in exactly 89 minutes , most of which passed as slowly as if i 'd been sitting naked on an igloo , formula 51 sank from quirky to jerky to utter turkey . "
            ],
            "text/plain": [
              "<IPython.core.display.HTML object>"
            ]
          },
          "metadata": {
            "tags": []
          }
        },
        {
          "output_type": "stream",
          "text": [
            "\n",
            "[Succeeded / Failed / Total] 5 / 4 / 9:  40%|████      | 10/25 [01:19<01:58,  7.91s/it]\u001b[A\n",
            "[Succeeded / Failed / Total] 5 / 5 / 10:  40%|████      | 10/25 [01:19<01:58,  7.91s/it]\u001b[A"
          ],
          "name": "stderr"
        },
        {
          "output_type": "display_data",
          "data": {
            "text/html": [
              "<font color = green>Positive (100%)</font> --> <font color = red>[FAILED]</font><br>the mesmerizing performances of the leads keep the film grounded and keep the audience riveted . "
            ],
            "text/plain": [
              "<IPython.core.display.HTML object>"
            ]
          },
          "metadata": {
            "tags": []
          }
        },
        {
          "output_type": "stream",
          "text": [
            "\n",
            "[Succeeded / Failed / Total] 5 / 5 / 10:  44%|████▍     | 11/25 [01:29<01:53,  8.11s/it]\u001b[A\n",
            "[Succeeded / Failed / Total] 5 / 6 / 11:  44%|████▍     | 11/25 [01:29<01:53,  8.12s/it]\u001b[A"
          ],
          "name": "stderr"
        },
        {
          "output_type": "display_data",
          "data": {
            "text/html": [
              "<font color = red>Negative (100%)</font> --> <font color = green>Positive (69%)</font><br>it takes <font color = red>a</font> <font color = red>strange</font> kind of <font color = red>laziness</font> to <font color = red>waste</font> the talents of robert forster , anne meara , eugene levy , and <font color = red>reginald</font> veljohnson all in the <font color = red>same</font> <font color = red>movie</font> . <br>it takes <font color = green>the</font> <font color = green>dreamy</font> kind of <font color = green>drowsiness</font> to <font color = green>sewage</font> the talents of robert forster , anne meara , eugene levy , and <font color = green>henley</font> veljohnson all in the <font color = green>usual</font> <font color = green>film</font> . "
            ],
            "text/plain": [
              "<IPython.core.display.HTML object>"
            ]
          },
          "metadata": {
            "tags": []
          }
        },
        {
          "output_type": "stream",
          "text": [
            "\n",
            "[Succeeded / Failed / Total] 5 / 6 / 11:  48%|████▊     | 12/25 [01:35<01:42,  7.92s/it]\u001b[A\n",
            "[Succeeded / Failed / Total] 6 / 6 / 12:  48%|████▊     | 12/25 [01:35<01:42,  7.92s/it]\u001b[A"
          ],
          "name": "stderr"
        },
        {
          "output_type": "display_data",
          "data": {
            "text/html": [
              "<font color = red>Negative (100%)</font> --> <font color = green>Positive (91%)</font><br>... the film <font color = red>suffers</font> <font color = red>from</font> a <font color = red>lack</font> of humor ( something <font color = red>needed</font> to <font color = red>balance</font> out the violence ) ... <br>... the film <font color = green>suffect</font> <font color = green>through</font> a <font color = green>presence</font> of humor ( something <font color = green>required</font> to <font color = green>balancing</font> out the violence ) ... "
            ],
            "text/plain": [
              "<IPython.core.display.HTML object>"
            ]
          },
          "metadata": {
            "tags": []
          }
        },
        {
          "output_type": "stream",
          "text": [
            "\n",
            "[Succeeded / Failed / Total] 6 / 6 / 12:  52%|█████▏    | 13/25 [01:40<01:32,  7.74s/it]\u001b[A\n",
            "[Succeeded / Failed / Total] 7 / 6 / 13:  52%|█████▏    | 13/25 [01:40<01:32,  7.74s/it]\u001b[A"
          ],
          "name": "stderr"
        },
        {
          "output_type": "display_data",
          "data": {
            "text/html": [
              "<font color = green>Positive (91%)</font> --> <font color = red>Negative (75%)</font><br>we <font color = green>root</font> for ( clara and paul ) , even like them , though perhaps it 's an emotion closer to pity . <br>we <font color = red>adjectival</font> for ( clara and paul ) , even like them , though perhaps it 's an emotion closer to pity . "
            ],
            "text/plain": [
              "<IPython.core.display.HTML object>"
            ]
          },
          "metadata": {
            "tags": []
          }
        },
        {
          "output_type": "stream",
          "text": [
            "\n",
            "[Succeeded / Failed / Total] 7 / 6 / 13:  56%|█████▌    | 14/25 [01:41<01:19,  7.22s/it]\u001b[A\n",
            "[Succeeded / Failed / Total] 8 / 6 / 14:  56%|█████▌    | 14/25 [01:41<01:19,  7.22s/it]\u001b[A"
          ],
          "name": "stderr"
        },
        {
          "output_type": "display_data",
          "data": {
            "text/html": [
              "<font color = red>Negative (100%)</font> --> <font color = green>Positive (100%)</font><br>even horror fans will most likely not find what they 're seeking with trouble every day ; the <font color = red>movie</font> <font color = red>lacks</font> both thrills and humor . <br>even horror fans will most likely not find what they 're seeking with trouble every day ; the <font color = green>film</font> <font color = green>minding</font> both thrills and humor . "
            ],
            "text/plain": [
              "<IPython.core.display.HTML object>"
            ]
          },
          "metadata": {
            "tags": []
          }
        },
        {
          "output_type": "stream",
          "text": [
            "\n",
            "[Succeeded / Failed / Total] 8 / 6 / 14:  60%|██████    | 15/25 [01:43<01:09,  6.92s/it]\u001b[A\n",
            "[Succeeded / Failed / Total] 9 / 6 / 15:  60%|██████    | 15/25 [01:43<01:09,  6.93s/it]\u001b[A"
          ],
          "name": "stderr"
        },
        {
          "output_type": "display_data",
          "data": {
            "text/html": [
              "<font color = green>Positive (100%)</font> --> <font color = red>[FAILED]</font><br>a gorgeous , high-spirited musical from india that exquisitely blends music , dance , song , and high drama . "
            ],
            "text/plain": [
              "<IPython.core.display.HTML object>"
            ]
          },
          "metadata": {
            "tags": []
          }
        },
        {
          "output_type": "stream",
          "text": [
            "\n",
            "[Succeeded / Failed / Total] 9 / 6 / 15:  64%|██████▍   | 16/25 [01:57<01:05,  7.32s/it]\u001b[A\n",
            "[Succeeded / Failed / Total] 9 / 7 / 16:  64%|██████▍   | 16/25 [01:57<01:05,  7.32s/it]\u001b[A"
          ],
          "name": "stderr"
        },
        {
          "output_type": "display_data",
          "data": {
            "text/html": [
              "<font color = green>Positive (100%)</font> --> <font color = red>Negative (97%)</font><br>the emotions are raw and <font color = green>will</font> <font color = green>strike</font> <font color = green>a</font> nerve with anyone who 's ever had family trauma . <br>the emotions are raw and <font color = red>would</font> <font color = red>shutout</font> <font color = red>the</font> nerve with anyone who 's ever had family trauma . "
            ],
            "text/plain": [
              "<IPython.core.display.HTML object>"
            ]
          },
          "metadata": {
            "tags": []
          }
        },
        {
          "output_type": "stream",
          "text": [
            "\n",
            "[Succeeded / Failed / Total] 9 / 7 / 16:  68%|██████▊   | 17/25 [01:59<00:56,  7.06s/it]\u001b[A\n",
            "[Succeeded / Failed / Total] 10 / 7 / 17:  68%|██████▊   | 17/25 [01:59<00:56,  7.06s/it]\u001b[A"
          ],
          "name": "stderr"
        },
        {
          "output_type": "display_data",
          "data": {
            "text/html": [
              "<font color = green>Positive (100%)</font> --> <font color = red>[FAILED]</font><br>audrey tatou has a knack for picking roles that magnify her outrageous charm , and in this literate french comedy , she 's as morning-glory exuberant as she was in amélie . "
            ],
            "text/plain": [
              "<IPython.core.display.HTML object>"
            ]
          },
          "metadata": {
            "tags": []
          }
        },
        {
          "output_type": "stream",
          "text": [
            "\n",
            "[Succeeded / Failed / Total] 10 / 7 / 17:  72%|███████▏  | 18/25 [02:29<00:58,  8.30s/it]\u001b[A\n",
            "[Succeeded / Failed / Total] 10 / 8 / 18:  72%|███████▏  | 18/25 [02:29<00:58,  8.30s/it]\u001b[A"
          ],
          "name": "stderr"
        },
        {
          "output_type": "display_data",
          "data": {
            "text/html": [
              "<font color = red>Negative (100%)</font> --> <font color = red>[FAILED]</font><br>... the movie is just a plain old monster . "
            ],
            "text/plain": [
              "<IPython.core.display.HTML object>"
            ]
          },
          "metadata": {
            "tags": []
          }
        },
        {
          "output_type": "stream",
          "text": [
            "\n",
            "[Succeeded / Failed / Total] 10 / 8 / 18:  76%|███████▌  | 19/25 [02:33<00:48,  8.07s/it]\u001b[A\n",
            "[Succeeded / Failed / Total] 10 / 9 / 19:  76%|███████▌  | 19/25 [02:33<00:48,  8.07s/it]\u001b[A"
          ],
          "name": "stderr"
        },
        {
          "output_type": "display_data",
          "data": {
            "text/html": [
              "<font color = red>Negative (100%)</font> --> <font color = green>Positive (92%)</font><br>in its best moments , resembles a <font color = red>bad</font> high school production of grease , without benefit of song . <br>in its best moments , resembles a <font color = green>good</font> high school production of grease , without benefit of song . "
            ],
            "text/plain": [
              "<IPython.core.display.HTML object>"
            ]
          },
          "metadata": {
            "tags": []
          }
        },
        {
          "output_type": "stream",
          "text": [
            "\n",
            "[Succeeded / Failed / Total] 10 / 9 / 19:  80%|████████  | 20/25 [02:33<00:38,  7.69s/it]\u001b[A\n",
            "[Succeeded / Failed / Total] 11 / 9 / 20:  80%|████████  | 20/25 [02:33<00:38,  7.69s/it]\u001b[A"
          ],
          "name": "stderr"
        },
        {
          "output_type": "display_data",
          "data": {
            "text/html": [
              "<font color = red>Negative (96%)</font> --> <font color = green>Positive (84%)</font><br>pumpkin takes an admirable look at the hypocrisy of political correctness , but it does so with such an <font color = red>uneven</font> tone that you never know when humor ends and tragedy begins . <br>pumpkin takes an admirable look at the hypocrisy of political correctness , but it does so with such an <font color = green>unheated</font> tone that you never know when humor ends and tragedy begins . "
            ],
            "text/plain": [
              "<IPython.core.display.HTML object>"
            ]
          },
          "metadata": {
            "tags": []
          }
        },
        {
          "output_type": "stream",
          "text": [
            "\n",
            "[Succeeded / Failed / Total] 11 / 9 / 20:  84%|████████▍ | 21/25 [02:34<00:29,  7.36s/it]\u001b[A\n",
            "[Succeeded / Failed / Total] 12 / 9 / 21:  84%|████████▍ | 21/25 [02:34<00:29,  7.37s/it]\u001b[A"
          ],
          "name": "stderr"
        },
        {
          "output_type": "display_data",
          "data": {
            "text/html": [
              "<font color = green>Positive (71%)</font> --> <font color = gray>[SKIPPED]</font><br>the iditarod lasts for days - this just felt like it did . "
            ],
            "text/plain": [
              "<IPython.core.display.HTML object>"
            ]
          },
          "metadata": {
            "tags": []
          }
        },
        {
          "output_type": "stream",
          "text": [
            "\n",
            "[Succeeded / Failed / Total] 12 / 9 / 22:  88%|████████▊ | 22/25 [02:34<00:21,  7.03s/it]\u001b[A"
          ],
          "name": "stderr"
        },
        {
          "output_type": "display_data",
          "data": {
            "text/html": [
              "<font color = green>Positive (64%)</font> --> <font color = gray>[SKIPPED]</font><br>holden caulfield did it better . "
            ],
            "text/plain": [
              "<IPython.core.display.HTML object>"
            ]
          },
          "metadata": {
            "tags": []
          }
        },
        {
          "output_type": "stream",
          "text": [
            "\n",
            "[Succeeded / Failed / Total] 12 / 9 / 23:  92%|█████████▏| 23/25 [02:34<00:13,  6.73s/it]\u001b[A"
          ],
          "name": "stderr"
        },
        {
          "output_type": "display_data",
          "data": {
            "text/html": [
              "<font color = green>Positive (100%)</font> --> <font color = red>Negative (65%)</font><br>a <font color = green>delectable</font> and <font color = green>intriguing</font> thriller <font color = green>filled</font> with <font color = green>surprises</font> , read my <font color = green>lips</font> <font color = green>is</font> an original . <br>a <font color = red>detectable</font> and <font color = red>intrigue</font> thriller <font color = red>grilled</font> with <font color = red>surprise</font> , read my <font color = red>fingering</font> <font color = red>was</font> an original . "
            ],
            "text/plain": [
              "<IPython.core.display.HTML object>"
            ]
          },
          "metadata": {
            "tags": []
          }
        },
        {
          "output_type": "stream",
          "text": [
            "\n",
            "[Succeeded / Failed / Total] 12 / 9 / 23:  96%|█████████▌| 24/25 [02:46<00:06,  6.94s/it]\u001b[A\n",
            "[Succeeded / Failed / Total] 13 / 9 / 24:  96%|█████████▌| 24/25 [02:46<00:06,  6.94s/it]\u001b[A"
          ],
          "name": "stderr"
        },
        {
          "output_type": "display_data",
          "data": {
            "text/html": [
              "<font color = green>Positive (100%)</font> --> <font color = red>Negative (99%)</font><br>seldom has a movie so <font color = green>closely</font> <font color = green>matched</font> the spirit of a man and his work . <br>seldom has a movie so <font color = red>loosely</font> <font color = red>missed</font> the spirit of a man and his work . "
            ],
            "text/plain": [
              "<IPython.core.display.HTML object>"
            ]
          },
          "metadata": {
            "tags": []
          }
        },
        {
          "output_type": "stream",
          "text": [
            "\n",
            "[Succeeded / Failed / Total] 13 / 9 / 24: 100%|██████████| 25/25 [02:48<00:00,  6.72s/it]\u001b[A\n",
            "[Succeeded / Failed / Total] 14 / 9 / 25: 100%|██████████| 25/25 [02:48<00:00,  6.72s/it]\u001b[A"
          ],
          "name": "stderr"
        },
        {
          "output_type": "display_data",
          "data": {
            "text/html": [
              "<font color = red>Negative (100%)</font> --> <font color = red>[FAILED]</font><br>nicks , seemingly uncertain what 's going to make people laugh , runs the gamut from stale parody to raunchy sex gags to formula romantic comedy . "
            ],
            "text/plain": [
              "<IPython.core.display.HTML object>"
            ]
          },
          "metadata": {
            "tags": []
          }
        },
        {
          "output_type": "stream",
          "text": [
            "\n",
            "[Succeeded / Failed / Total] 14 / 9 / 25: : 26it [03:09,  7.30s/it]                      \u001b[A\n",
            "[Succeeded / Failed / Total] 14 / 10 / 26: : 26it [03:09,  7.30s/it]\u001b[A"
          ],
          "name": "stderr"
        },
        {
          "output_type": "display_data",
          "data": {
            "text/html": [
              "<font color = red>Negative (99%)</font> --> <font color = green>Positive (100%)</font><br>the action switches between past and present , but the material link is <font color = red>too</font> tenuous to anchor the emotional connections that purport to span a 125-year divide . <br>the action switches between past and present , but the material link is <font color = green>very</font> tenuous to anchor the emotional connections that purport to span a 125-year divide . "
            ],
            "text/plain": [
              "<IPython.core.display.HTML object>"
            ]
          },
          "metadata": {
            "tags": []
          }
        },
        {
          "output_type": "stream",
          "text": [
            "\n",
            "[Succeeded / Failed / Total] 14 / 10 / 26: : 27it [03:10,  7.05s/it]\u001b[A\n",
            "[Succeeded / Failed / Total] 15 / 10 / 27: : 27it [03:10,  7.05s/it]"
          ],
          "name": "stderr"
        },
        {
          "output_type": "stream",
          "text": [
            "+-------------------------------+--------+\n",
            "| Attack Results                |        |\n",
            "+-------------------------------+--------+\n",
            "| Number of successful attacks: | 15     |\n",
            "| Number of failed attacks:     | 10     |\n",
            "| Number of skipped attacks:    | 2      |\n",
            "| Original accuracy:            | 92.59% |\n",
            "| Accuracy under attack:        | 37.04% |\n",
            "| Attack success rate:          | 60.0%  |\n",
            "| Average perturbed word %:     | 24.44% |\n",
            "| Average num. words per input: | 16.33  |\n",
            "| Avg num queries:              | 318.6  |\n",
            "+-------------------------------+--------+"
          ],
          "name": "stdout"
        },
        {
          "output_type": "stream",
          "text": [
            "\n",
            "\u001b[34;1mtextattack\u001b[0m: Attack time: 190.43144178390503s\n"
          ],
          "name": "stderr"
        }
      ]
    },
    {
      "cell_type": "markdown",
      "metadata": {
        "id": "Ms2AfPa9uIL4"
      },
      "source": [
        "### Word2Vec, ParticleSwarmOptimization, PartsofSpeech"
      ]
    },
    {
      "cell_type": "code",
      "metadata": {
        "colab": {
          "base_uri": "https://localhost:8080/"
        },
        "id": "HRcvfqDK27ON",
        "outputId": "d3d1ecd4-3a05-4a16-b241-3fc85d5ddde3"
      },
      "source": [
        "# We're going to use our word swap class as the attack transformation.\n",
        "transformation = Swapper_()\n",
        "\n",
        "constraints = [PartOfSpeech()]\n",
        "\n",
        "search_method = ParticleSwarmOptimization(pop_size=10,max_iters=5)\n",
        "\n",
        "goal_function = UntargetedClassification(model_wrapper)\n",
        "\n",
        "# Now, let's make the attack from the 4 components:\n",
        "attack = Attack(goal_function, constraints, transformation, search_method)"
      ],
      "execution_count": 55,
      "outputs": [
        {
          "output_type": "stream",
          "text": [
            "\u001b[34;1mtextattack\u001b[0m: Unknown if model of class <class 'transformers.models.distilbert.modeling_distilbert.DistilBertForSequenceClassification'> compatible with goal function <class 'textattack.goal_functions.classification.untargeted_classification.UntargetedClassification'>.\n"
          ],
          "name": "stderr"
        }
      ]
    },
    {
      "cell_type": "code",
      "metadata": {
        "colab": {
          "base_uri": "https://localhost:8080/"
        },
        "id": "BjK9n6ac5NqI",
        "outputId": "2b2c8b5e-bd07-4d24-c95d-3ee4475907ad"
      },
      "source": [
        "print(attack)"
      ],
      "execution_count": 56,
      "outputs": [
        {
          "output_type": "stream",
          "text": [
            "Attack(\n",
            "  (search_method): ParticleSwarmOptimization(\n",
            "    (pop_size):  10\n",
            "    (max_iters):  5\n",
            "    (post_turn_check):  True\n",
            "    (max_turn_retries):  20\n",
            "  )\n",
            "  (goal_function):  UntargetedClassification\n",
            "  (transformation):  Swapper_\n",
            "  (constraints): \n",
            "    (0): PartOfSpeech(\n",
            "        (tagger_type):  nltk\n",
            "        (tagset):  universal\n",
            "        (allow_verb_noun_swap):  True\n",
            "        (compare_against_original):  True\n",
            "      )\n",
            "  (is_black_box):  True\n",
            ")\n"
          ],
          "name": "stdout"
        }
      ]
    },
    {
      "cell_type": "code",
      "metadata": {
        "colab": {
          "base_uri": "https://localhost:8080/",
          "height": 1000
        },
        "id": "heD59UeC5Pgs",
        "outputId": "14c8d3f1-f43c-4a96-eff9-f5c74c5fc9d4"
      },
      "source": [
        "attack_stats(attack, dataset, 25)"
      ],
      "execution_count": 57,
      "outputs": [
        {
          "output_type": "stream",
          "text": [
            "\n",
            "  0%|          | 0/25 [00:00<?, ?it/s]\u001b[A"
          ],
          "name": "stderr"
        },
        {
          "output_type": "stream",
          "text": [
            "Attack(\n",
            "  (search_method): ParticleSwarmOptimization(\n",
            "    (pop_size):  10\n",
            "    (max_iters):  5\n",
            "    (post_turn_check):  True\n",
            "    (max_turn_retries):  20\n",
            "  )\n",
            "  (goal_function):  UntargetedClassification\n",
            "  (transformation):  Swapper_\n",
            "  (constraints): \n",
            "    (0): PartOfSpeech(\n",
            "        (tagger_type):  nltk\n",
            "        (tagset):  universal\n",
            "        (allow_verb_noun_swap):  True\n",
            "        (compare_against_original):  True\n",
            "      )\n",
            "  (is_black_box):  True\n",
            ")\n"
          ],
          "name": "stdout"
        },
        {
          "output_type": "display_data",
          "data": {
            "text/html": [
              "<font color = green>Positive (100%)</font> --> <font color = red>[FAILED]</font><br>it 's a charming and often affecting journey . "
            ],
            "text/plain": [
              "<IPython.core.display.HTML object>"
            ]
          },
          "metadata": {
            "tags": []
          }
        },
        {
          "output_type": "stream",
          "text": [
            "\n",
            "  4%|▍         | 1/25 [00:01<00:43,  1.81s/it]\u001b[A\n",
            "[Succeeded / Failed / Total] 0 / 1 / 1:   4%|▍         | 1/25 [00:01<00:43,  1.81s/it]\u001b[A"
          ],
          "name": "stderr"
        },
        {
          "output_type": "display_data",
          "data": {
            "text/html": [
              "<font color = red>Negative (99%)</font> --> <font color = red>[FAILED]</font><br>unflinchingly bleak and desperate "
            ],
            "text/plain": [
              "<IPython.core.display.HTML object>"
            ]
          },
          "metadata": {
            "tags": []
          }
        },
        {
          "output_type": "stream",
          "text": [
            "\n",
            "[Succeeded / Failed / Total] 0 / 1 / 1:   8%|▊         | 2/25 [00:02<00:23,  1.01s/it]\u001b[A\n",
            "[Succeeded / Failed / Total] 0 / 2 / 2:   8%|▊         | 2/25 [00:02<00:23,  1.02s/it]\u001b[A"
          ],
          "name": "stderr"
        },
        {
          "output_type": "display_data",
          "data": {
            "text/html": [
              "<font color = green>Positive (100%)</font> --> <font color = red>Negative (66%)</font><br>allows us to hope that nolan <font color = green>is</font> poised to <font color = green>embark</font> a major career as a commercial <font color = green>yet</font> <font color = green>inventive</font> <font color = green>filmmaker</font> . <br>allows us to hope that nolan <font color = red>was</font> poised to <font color = red>capitalize</font> a major career as a commercial <font color = red>plausibly</font> <font color = red>introspective</font> <font color = red>screenwriter</font> . "
            ],
            "text/plain": [
              "<IPython.core.display.HTML object>"
            ]
          },
          "metadata": {
            "tags": []
          }
        },
        {
          "output_type": "stream",
          "text": [
            "\n",
            "[Succeeded / Failed / Total] 0 / 2 / 2:  12%|█▏        | 3/25 [00:13<01:36,  4.38s/it]\u001b[A\n",
            "[Succeeded / Failed / Total] 1 / 2 / 3:  12%|█▏        | 3/25 [00:13<01:36,  4.39s/it]\u001b[A"
          ],
          "name": "stderr"
        },
        {
          "output_type": "display_data",
          "data": {
            "text/html": [
              "<font color = green>Positive (100%)</font> --> <font color = red>[FAILED]</font><br>the acting , costumes , music , cinematography and sound are all astounding given the production 's austere locales . "
            ],
            "text/plain": [
              "<IPython.core.display.HTML object>"
            ]
          },
          "metadata": {
            "tags": []
          }
        },
        {
          "output_type": "stream",
          "text": [
            "\n",
            "[Succeeded / Failed / Total] 1 / 2 / 3:  16%|█▌        | 4/25 [00:20<01:49,  5.23s/it]\u001b[A\n",
            "[Succeeded / Failed / Total] 1 / 3 / 4:  16%|█▌        | 4/25 [00:20<01:49,  5.24s/it]\u001b[A"
          ],
          "name": "stderr"
        },
        {
          "output_type": "display_data",
          "data": {
            "text/html": [
              "<font color = red>Negative (100%)</font> --> <font color = red>[FAILED]</font><br>it 's slow -- very , very slow . "
            ],
            "text/plain": [
              "<IPython.core.display.HTML object>"
            ]
          },
          "metadata": {
            "tags": []
          }
        },
        {
          "output_type": "stream",
          "text": [
            "\n",
            "[Succeeded / Failed / Total] 1 / 3 / 4:  20%|██        | 5/25 [00:24<01:36,  4.83s/it]\u001b[A\n",
            "[Succeeded / Failed / Total] 1 / 4 / 5:  20%|██        | 5/25 [00:24<01:36,  4.84s/it]\u001b[A"
          ],
          "name": "stderr"
        },
        {
          "output_type": "display_data",
          "data": {
            "text/html": [
              "<font color = green>Positive (100%)</font> --> <font color = red>Negative (55%)</font><br>although <font color = green>laced</font> with <font color = green>humor</font> and a few <font color = green>fanciful</font> <font color = green>touches</font> , the <font color = green>film</font> <font color = green>is</font> a refreshingly <font color = green>serious</font> <font color = green>look</font> <font color = green>at</font> <font color = green>young</font> women . <br>although <font color = red>cigar</font> with <font color = red>slapstick</font> and a few <font color = red>whimsical</font> <font color = red>bounces</font> , the <font color = red>movie</font> <font color = red>was</font> a refreshingly <font color = red>severe</font> <font color = red>fucked</font> <font color = red>near</font> <font color = red>talented</font> women . "
            ],
            "text/plain": [
              "<IPython.core.display.HTML object>"
            ]
          },
          "metadata": {
            "tags": []
          }
        },
        {
          "output_type": "stream",
          "text": [
            "\n",
            "[Succeeded / Failed / Total] 1 / 4 / 5:  24%|██▍       | 6/25 [00:38<02:02,  6.42s/it]\u001b[A\n",
            "[Succeeded / Failed / Total] 2 / 4 / 6:  24%|██▍       | 6/25 [00:38<02:02,  6.42s/it]\u001b[A"
          ],
          "name": "stderr"
        },
        {
          "output_type": "display_data",
          "data": {
            "text/html": [
              "<font color = red>Negative (99%)</font> --> <font color = red>[FAILED]</font><br>a sometimes tedious film . "
            ],
            "text/plain": [
              "<IPython.core.display.HTML object>"
            ]
          },
          "metadata": {
            "tags": []
          }
        },
        {
          "output_type": "stream",
          "text": [
            "\n",
            "[Succeeded / Failed / Total] 2 / 4 / 6:  28%|██▊       | 7/25 [00:40<01:43,  5.76s/it]\u001b[A\n",
            "[Succeeded / Failed / Total] 2 / 5 / 7:  28%|██▊       | 7/25 [00:40<01:43,  5.76s/it]\u001b[A"
          ],
          "name": "stderr"
        },
        {
          "output_type": "display_data",
          "data": {
            "text/html": [
              "<font color = red>Negative (98%)</font> --> <font color = red>[FAILED]</font><br>or doing last year 's taxes with your ex-wife . "
            ],
            "text/plain": [
              "<IPython.core.display.HTML object>"
            ]
          },
          "metadata": {
            "tags": []
          }
        },
        {
          "output_type": "stream",
          "text": [
            "\n",
            "[Succeeded / Failed / Total] 2 / 5 / 7:  32%|███▏      | 8/25 [00:42<01:30,  5.33s/it]\u001b[A\n",
            "[Succeeded / Failed / Total] 2 / 6 / 8:  32%|███▏      | 8/25 [00:42<01:30,  5.33s/it]\u001b[A"
          ],
          "name": "stderr"
        },
        {
          "output_type": "display_data",
          "data": {
            "text/html": [
              "<font color = green>Positive (100%)</font> --> <font color = red>Negative (58%)</font><br>you do n't have to know about music to <font color = green>appreciate</font> the film 's easygoing blend of comedy and romance . <br>you do n't have to know about music to <font color = red>undo</font> the film 's easygoing blend of comedy and romance . "
            ],
            "text/plain": [
              "<IPython.core.display.HTML object>"
            ]
          },
          "metadata": {
            "tags": []
          }
        },
        {
          "output_type": "stream",
          "text": [
            "\n",
            "[Succeeded / Failed / Total] 2 / 6 / 8:  36%|███▌      | 9/25 [00:43<01:16,  4.78s/it]\u001b[A\n",
            "[Succeeded / Failed / Total] 3 / 6 / 9:  36%|███▌      | 9/25 [00:43<01:16,  4.79s/it]\u001b[A"
          ],
          "name": "stderr"
        },
        {
          "output_type": "display_data",
          "data": {
            "text/html": [
              "<font color = red>Negative (100%)</font> --> <font color = red>[FAILED]</font><br>in exactly 89 minutes , most of which passed as slowly as if i 'd been sitting naked on an igloo , formula 51 sank from quirky to jerky to utter turkey . "
            ],
            "text/plain": [
              "<IPython.core.display.HTML object>"
            ]
          },
          "metadata": {
            "tags": []
          }
        },
        {
          "output_type": "stream",
          "text": [
            "\n",
            "[Succeeded / Failed / Total] 3 / 6 / 9:  40%|████      | 10/25 [01:08<01:42,  6.85s/it]\u001b[A\n",
            "[Succeeded / Failed / Total] 3 / 7 / 10:  40%|████      | 10/25 [01:08<01:42,  6.85s/it]\u001b[A"
          ],
          "name": "stderr"
        },
        {
          "output_type": "display_data",
          "data": {
            "text/html": [
              "<font color = green>Positive (100%)</font> --> <font color = red>Negative (71%)</font><br>the mesmerizing <font color = green>performances</font> of the <font color = green>leads</font> keep the <font color = green>film</font> <font color = green>grounded</font> and keep the audience <font color = green>riveted</font> . <br>the mesmerizing <font color = red>concerts</font> of the <font color = red>causes</font> keep the <font color = red>movie</font> <font color = red>explicated</font> and keep the audience <font color = red>tongs</font> . "
            ],
            "text/plain": [
              "<IPython.core.display.HTML object>"
            ]
          },
          "metadata": {
            "tags": []
          }
        },
        {
          "output_type": "stream",
          "text": [
            "\n",
            "[Succeeded / Failed / Total] 3 / 7 / 10:  44%|████▍     | 11/25 [01:18<01:39,  7.11s/it]\u001b[A\n",
            "[Succeeded / Failed / Total] 4 / 7 / 11:  44%|████▍     | 11/25 [01:18<01:39,  7.11s/it]\u001b[A"
          ],
          "name": "stderr"
        },
        {
          "output_type": "display_data",
          "data": {
            "text/html": [
              "<font color = red>Negative (100%)</font> --> <font color = green>Positive (84%)</font><br>it takes a strange kind of <font color = red>laziness</font> to <font color = red>waste</font> the talents of robert forster , anne meara , eugene levy , and reginald veljohnson all in the same movie . <br>it takes a strange kind of <font color = green>shadowing</font> to <font color = green>potable</font> the talents of robert forster , anne meara , eugene levy , and reginald veljohnson all in the same movie . "
            ],
            "text/plain": [
              "<IPython.core.display.HTML object>"
            ]
          },
          "metadata": {
            "tags": []
          }
        },
        {
          "output_type": "stream",
          "text": [
            "\n",
            "[Succeeded / Failed / Total] 4 / 7 / 11:  48%|████▊     | 12/25 [01:19<01:25,  6.61s/it]\u001b[A\n",
            "[Succeeded / Failed / Total] 5 / 7 / 12:  48%|████▊     | 12/25 [01:19<01:25,  6.61s/it]\u001b[A"
          ],
          "name": "stderr"
        },
        {
          "output_type": "display_data",
          "data": {
            "text/html": [
              "<font color = red>Negative (100%)</font> --> <font color = red>[FAILED]</font><br>... the film suffers from a lack of humor ( something needed to balance out the violence ) ... "
            ],
            "text/plain": [
              "<IPython.core.display.HTML object>"
            ]
          },
          "metadata": {
            "tags": []
          }
        },
        {
          "output_type": "stream",
          "text": [
            "\n",
            "[Succeeded / Failed / Total] 5 / 7 / 12:  52%|█████▏    | 13/25 [01:32<01:25,  7.15s/it]\u001b[A\n",
            "[Succeeded / Failed / Total] 5 / 8 / 13:  52%|█████▏    | 13/25 [01:32<01:25,  7.15s/it]\u001b[A"
          ],
          "name": "stderr"
        },
        {
          "output_type": "display_data",
          "data": {
            "text/html": [
              "<font color = green>Positive (91%)</font> --> <font color = red>Negative (87%)</font><br>we root for ( clara and paul ) , even like them , though perhaps it 's an emotion closer to <font color = green>pity</font> . <br>we root for ( clara and paul ) , even like them , though perhaps it 's an emotion closer to <font color = red>thine</font> . "
            ],
            "text/plain": [
              "<IPython.core.display.HTML object>"
            ]
          },
          "metadata": {
            "tags": []
          }
        },
        {
          "output_type": "stream",
          "text": [
            "\n",
            "[Succeeded / Failed / Total] 5 / 8 / 13:  56%|█████▌    | 14/25 [01:33<01:13,  6.67s/it]\u001b[A\n",
            "[Succeeded / Failed / Total] 6 / 8 / 14:  56%|█████▌    | 14/25 [01:33<01:13,  6.67s/it]\u001b[A"
          ],
          "name": "stderr"
        },
        {
          "output_type": "display_data",
          "data": {
            "text/html": [
              "<font color = red>Negative (100%)</font> --> <font color = green>Positive (100%)</font><br>even horror fans will most likely not find what they 're seeking with trouble every day ; the movie <font color = red>lacks</font> both thrills and humor . <br>even horror fans will most likely not find what they 're seeking with trouble every day ; the movie <font color = green>renders</font> both thrills and humor . "
            ],
            "text/plain": [
              "<IPython.core.display.HTML object>"
            ]
          },
          "metadata": {
            "tags": []
          }
        },
        {
          "output_type": "stream",
          "text": [
            "\n",
            "[Succeeded / Failed / Total] 6 / 8 / 14:  60%|██████    | 15/25 [01:33<01:02,  6.26s/it]\u001b[A\n",
            "[Succeeded / Failed / Total] 7 / 8 / 15:  60%|██████    | 15/25 [01:33<01:02,  6.26s/it]\u001b[A"
          ],
          "name": "stderr"
        },
        {
          "output_type": "display_data",
          "data": {
            "text/html": [
              "<font color = green>Positive (100%)</font> --> <font color = red>[FAILED]</font><br>a gorgeous , high-spirited musical from india that exquisitely blends music , dance , song , and high drama . "
            ],
            "text/plain": [
              "<IPython.core.display.HTML object>"
            ]
          },
          "metadata": {
            "tags": []
          }
        },
        {
          "output_type": "stream",
          "text": [
            "\n",
            "[Succeeded / Failed / Total] 7 / 8 / 15:  64%|██████▍   | 16/25 [01:42<00:57,  6.41s/it]\u001b[A\n",
            "[Succeeded / Failed / Total] 7 / 9 / 16:  64%|██████▍   | 16/25 [01:42<00:57,  6.41s/it]\u001b[A"
          ],
          "name": "stderr"
        },
        {
          "output_type": "display_data",
          "data": {
            "text/html": [
              "<font color = green>Positive (100%)</font> --> <font color = red>Negative (88%)</font><br>the emotions <font color = green>are</font> <font color = green>raw</font> and <font color = green>will</font> <font color = green>strike</font> a nerve with <font color = green>anyone</font> who '<font color = green>s</font> <font color = green>ever</font> had family trauma . <br>the emotions <font color = red>were</font> <font color = red>perishable</font> and <font color = red>would</font> <font color = red>downed</font> a nerve with <font color = red>anybody</font> who '<font color = red>huizenga</font> <font color = red>hardly</font> had family trauma . "
            ],
            "text/plain": [
              "<IPython.core.display.HTML object>"
            ]
          },
          "metadata": {
            "tags": []
          }
        },
        {
          "output_type": "stream",
          "text": [
            "\n",
            "[Succeeded / Failed / Total] 7 / 9 / 16:  68%|██████▊   | 17/25 [01:46<00:50,  6.28s/it]\u001b[A\n",
            "[Succeeded / Failed / Total] 8 / 9 / 17:  68%|██████▊   | 17/25 [01:46<00:50,  6.28s/it]\u001b[A"
          ],
          "name": "stderr"
        },
        {
          "output_type": "display_data",
          "data": {
            "text/html": [
              "<font color = green>Positive (100%)</font> --> <font color = red>Negative (51%)</font><br>audrey tatou <font color = green>has</font> a knack for picking <font color = green>roles</font> <font color = green>that</font> <font color = green>magnify</font> <font color = green>her</font> <font color = green>outrageous</font> charm , and in <font color = green>this</font> <font color = green>literate</font> french comedy , <font color = green>she</font> '<font color = green>s</font> as morning-glory exuberant as she was in amélie . <br>audrey tatou <font color = red>had</font> a knack for picking <font color = red>role</font> <font color = red>which</font> <font color = red>bifurcations</font> <font color = red>his</font> <font color = red>extroverted</font> charm , and in <font color = red>which</font> <font color = red>sedentary</font> french comedy , <font color = red>he</font> '<font color = red>huizenga</font> as morning-glory exuberant as she was in amélie . "
            ],
            "text/plain": [
              "<IPython.core.display.HTML object>"
            ]
          },
          "metadata": {
            "tags": []
          }
        },
        {
          "output_type": "stream",
          "text": [
            "\n",
            "[Succeeded / Failed / Total] 8 / 9 / 17:  72%|███████▏  | 18/25 [02:07<00:49,  7.08s/it]\u001b[A\n",
            "[Succeeded / Failed / Total] 9 / 9 / 18:  72%|███████▏  | 18/25 [02:07<00:49,  7.08s/it]\u001b[A"
          ],
          "name": "stderr"
        },
        {
          "output_type": "display_data",
          "data": {
            "text/html": [
              "<font color = red>Negative (100%)</font> --> <font color = red>[FAILED]</font><br>... the movie is just a plain old monster . "
            ],
            "text/plain": [
              "<IPython.core.display.HTML object>"
            ]
          },
          "metadata": {
            "tags": []
          }
        },
        {
          "output_type": "stream",
          "text": [
            "\n",
            "[Succeeded / Failed / Total] 9 / 9 / 18:  76%|███████▌  | 19/25 [02:10<00:41,  6.86s/it]\u001b[A\n",
            "[Succeeded / Failed / Total] 9 / 10 / 19:  76%|███████▌  | 19/25 [02:10<00:41,  6.86s/it]\u001b[A"
          ],
          "name": "stderr"
        },
        {
          "output_type": "display_data",
          "data": {
            "text/html": [
              "<font color = red>Negative (100%)</font> --> <font color = green>Positive (92%)</font><br>in its best moments , resembles a <font color = red>bad</font> high school production of grease , without benefit of song . <br>in its best moments , resembles a <font color = green>good</font> high school production of grease , without benefit of song . "
            ],
            "text/plain": [
              "<IPython.core.display.HTML object>"
            ]
          },
          "metadata": {
            "tags": []
          }
        },
        {
          "output_type": "stream",
          "text": [
            "\n",
            "[Succeeded / Failed / Total] 9 / 10 / 19:  80%|████████  | 20/25 [02:10<00:32,  6.54s/it]\u001b[A\n",
            "[Succeeded / Failed / Total] 10 / 10 / 20:  80%|████████  | 20/25 [02:10<00:32,  6.54s/it]\u001b[A"
          ],
          "name": "stderr"
        },
        {
          "output_type": "display_data",
          "data": {
            "text/html": [
              "<font color = red>Negative (96%)</font> --> <font color = green>Positive (79%)</font><br>pumpkin takes an admirable look at the hypocrisy of political correctness , but it does so with such an <font color = red>uneven</font> tone that you never know when humor ends and tragedy begins . <br>pumpkin takes an admirable look at the hypocrisy of political correctness , but it does so with such an <font color = green>precipitous</font> tone that you never know when humor ends and tragedy begins . "
            ],
            "text/plain": [
              "<IPython.core.display.HTML object>"
            ]
          },
          "metadata": {
            "tags": []
          }
        },
        {
          "output_type": "stream",
          "text": [
            "\n",
            "[Succeeded / Failed / Total] 10 / 10 / 20:  84%|████████▍ | 21/25 [02:11<00:25,  6.27s/it]\u001b[A\n",
            "[Succeeded / Failed / Total] 11 / 10 / 21:  84%|████████▍ | 21/25 [02:11<00:25,  6.27s/it]\u001b[A"
          ],
          "name": "stderr"
        },
        {
          "output_type": "display_data",
          "data": {
            "text/html": [
              "<font color = green>Positive (71%)</font> --> <font color = gray>[SKIPPED]</font><br>the iditarod lasts for days - this just felt like it did . "
            ],
            "text/plain": [
              "<IPython.core.display.HTML object>"
            ]
          },
          "metadata": {
            "tags": []
          }
        },
        {
          "output_type": "stream",
          "text": [
            "\n",
            "[Succeeded / Failed / Total] 11 / 10 / 22:  88%|████████▊ | 22/25 [02:11<00:17,  5.99s/it]\u001b[A"
          ],
          "name": "stderr"
        },
        {
          "output_type": "display_data",
          "data": {
            "text/html": [
              "<font color = green>Positive (64%)</font> --> <font color = gray>[SKIPPED]</font><br>holden caulfield did it better . "
            ],
            "text/plain": [
              "<IPython.core.display.HTML object>"
            ]
          },
          "metadata": {
            "tags": []
          }
        },
        {
          "output_type": "stream",
          "text": [
            "\n",
            "[Succeeded / Failed / Total] 11 / 10 / 23:  92%|█████████▏| 23/25 [02:11<00:11,  5.73s/it]\u001b[A"
          ],
          "name": "stderr"
        },
        {
          "output_type": "display_data",
          "data": {
            "text/html": [
              "<font color = green>Positive (100%)</font> --> <font color = red>Negative (76%)</font><br>a delectable and <font color = green>intriguing</font> thriller filled with surprises , read my <font color = green>lips</font> is an <font color = green>original</font> . <br>a delectable and <font color = red>disinterested</font> thriller filled with surprises , read my <font color = red>knees</font> is an <font color = red>colorized</font> . "
            ],
            "text/plain": [
              "<IPython.core.display.HTML object>"
            ]
          },
          "metadata": {
            "tags": []
          }
        },
        {
          "output_type": "stream",
          "text": [
            "\n",
            "[Succeeded / Failed / Total] 11 / 10 / 23:  96%|█████████▌| 24/25 [02:15<00:05,  5.67s/it]\u001b[A\n",
            "[Succeeded / Failed / Total] 12 / 10 / 24:  96%|█████████▌| 24/25 [02:15<00:05,  5.67s/it]\u001b[A"
          ],
          "name": "stderr"
        },
        {
          "output_type": "display_data",
          "data": {
            "text/html": [
              "<font color = green>Positive (100%)</font> --> <font color = red>Negative (91%)</font><br>seldom <font color = green>has</font> a movie so closely <font color = green>matched</font> the spirit of a <font color = green>man</font> and his <font color = green>work</font> . <br>seldom <font color = red>had</font> a movie so closely <font color = red>saddled</font> the spirit of a <font color = red>totoro</font> and his <font color = red>expository</font> . "
            ],
            "text/plain": [
              "<IPython.core.display.HTML object>"
            ]
          },
          "metadata": {
            "tags": []
          }
        },
        {
          "output_type": "stream",
          "text": [
            "\n",
            "[Succeeded / Failed / Total] 13 / 10 / 25: 100%|██████████| 25/25 [02:24<00:00,  5.80s/it]\u001b[A\n",
            "[Succeeded / Failed / Total] 13 / 10 / 25: 100%|██████████| 25/25 [02:33<00:00,  6.14s/it]\u001b[A"
          ],
          "name": "stderr"
        },
        {
          "output_type": "display_data",
          "data": {
            "text/html": [
              "<font color = red>Negative (100%)</font> --> <font color = red>[FAILED]</font><br>nicks , seemingly uncertain what 's going to make people laugh , runs the gamut from stale parody to raunchy sex gags to formula romantic comedy . "
            ],
            "text/plain": [
              "<IPython.core.display.HTML object>"
            ]
          },
          "metadata": {
            "tags": []
          }
        },
        {
          "output_type": "stream",
          "text": [
            "\n",
            "[Succeeded / Failed / Total] 13 / 10 / 25: : 26it [02:45,  6.35s/it]                      \u001b[A\n",
            "[Succeeded / Failed / Total] 13 / 11 / 26: : 26it [02:45,  6.35s/it]\u001b[A"
          ],
          "name": "stderr"
        },
        {
          "output_type": "display_data",
          "data": {
            "text/html": [
              "<font color = red>Negative (99%)</font> --> <font color = green>Positive (100%)</font><br>the action switches between past and present , but the material link is <font color = red>too</font> tenuous to anchor the emotional connections that purport to span a 125-year divide . <br>the action switches between past and present , but the material link is <font color = green>very</font> tenuous to anchor the emotional connections that purport to span a 125-year divide . "
            ],
            "text/plain": [
              "<IPython.core.display.HTML object>"
            ]
          },
          "metadata": {
            "tags": []
          }
        },
        {
          "output_type": "stream",
          "text": [
            "\n",
            "[Succeeded / Failed / Total] 13 / 11 / 26: : 27it [02:45,  6.14s/it]\u001b[A\n",
            "[Succeeded / Failed / Total] 14 / 11 / 27: : 27it [02:45,  6.14s/it]"
          ],
          "name": "stderr"
        },
        {
          "output_type": "stream",
          "text": [
            "+-------------------------------+--------+\n",
            "| Attack Results                |        |\n",
            "+-------------------------------+--------+\n",
            "| Number of successful attacks: | 14     |\n",
            "| Number of failed attacks:     | 11     |\n",
            "| Number of skipped attacks:    | 2      |\n",
            "| Original accuracy:            | 92.59% |\n",
            "| Accuracy under attack:        | 40.74% |\n",
            "| Attack success rate:          | 56.0%  |\n",
            "| Average perturbed word %:     | 19.45% |\n",
            "| Average num. words per input: | 16.33  |\n",
            "| Avg num queries:              | 290.6  |\n",
            "+-------------------------------+--------+"
          ],
          "name": "stdout"
        },
        {
          "output_type": "stream",
          "text": [
            "\n",
            "\u001b[34;1mtextattack\u001b[0m: Attack time: 165.748841047287s\n"
          ],
          "name": "stderr"
        }
      ]
    },
    {
      "cell_type": "markdown",
      "metadata": {
        "id": "SViaJK80uMrl"
      },
      "source": [
        "### Glove, ParticleSwarmOptimization, PartsofSpeech"
      ]
    },
    {
      "cell_type": "code",
      "metadata": {
        "colab": {
          "base_uri": "https://localhost:8080/"
        },
        "id": "O7zg-_zFQwyV",
        "outputId": "cbe5a011-99cf-4ffe-cff3-ff39cea34183"
      },
      "source": [
        "# We're going to use our word swap class as the attack transformation.\n",
        "transformation = Swapper__()\n",
        "\n",
        "constraints = [PartOfSpeech()]\n",
        "\n",
        "search_method = ParticleSwarmOptimization(pop_size=10,max_iters=5)\n",
        "\n",
        "goal_function = UntargetedClassification(model_wrapper)\n",
        "\n",
        "# Now, let's make the attack from the 4 components:\n",
        "attack = Attack(goal_function, constraints, transformation, search_method)"
      ],
      "execution_count": 58,
      "outputs": [
        {
          "output_type": "stream",
          "text": [
            "\u001b[34;1mtextattack\u001b[0m: Unknown if model of class <class 'transformers.models.distilbert.modeling_distilbert.DistilBertForSequenceClassification'> compatible with goal function <class 'textattack.goal_functions.classification.untargeted_classification.UntargetedClassification'>.\n"
          ],
          "name": "stderr"
        }
      ]
    },
    {
      "cell_type": "code",
      "metadata": {
        "colab": {
          "base_uri": "https://localhost:8080/"
        },
        "id": "PKAKnXjcQzEL",
        "outputId": "ca3b9388-4628-40a1-fbdc-792c20070a3d"
      },
      "source": [
        "print(attack)"
      ],
      "execution_count": 59,
      "outputs": [
        {
          "output_type": "stream",
          "text": [
            "Attack(\n",
            "  (search_method): ParticleSwarmOptimization(\n",
            "    (pop_size):  10\n",
            "    (max_iters):  5\n",
            "    (post_turn_check):  True\n",
            "    (max_turn_retries):  20\n",
            "  )\n",
            "  (goal_function):  UntargetedClassification\n",
            "  (transformation):  Swapper__\n",
            "  (constraints): \n",
            "    (0): PartOfSpeech(\n",
            "        (tagger_type):  nltk\n",
            "        (tagset):  universal\n",
            "        (allow_verb_noun_swap):  True\n",
            "        (compare_against_original):  True\n",
            "      )\n",
            "  (is_black_box):  True\n",
            ")\n"
          ],
          "name": "stdout"
        }
      ]
    },
    {
      "cell_type": "code",
      "metadata": {
        "colab": {
          "base_uri": "https://localhost:8080/",
          "height": 1000
        },
        "id": "1ORBY3voQ1TT",
        "outputId": "4fcef615-a43f-4a1e-e88a-37f6e6b91f31"
      },
      "source": [
        "attack_stats(attack, dataset, 25)"
      ],
      "execution_count": 60,
      "outputs": [
        {
          "output_type": "stream",
          "text": [
            "\n",
            "  0%|          | 0/25 [00:00<?, ?it/s]\u001b[A"
          ],
          "name": "stderr"
        },
        {
          "output_type": "stream",
          "text": [
            "Attack(\n",
            "  (search_method): ParticleSwarmOptimization(\n",
            "    (pop_size):  10\n",
            "    (max_iters):  5\n",
            "    (post_turn_check):  True\n",
            "    (max_turn_retries):  20\n",
            "  )\n",
            "  (goal_function):  UntargetedClassification\n",
            "  (transformation):  Swapper__\n",
            "  (constraints): \n",
            "    (0): PartOfSpeech(\n",
            "        (tagger_type):  nltk\n",
            "        (tagset):  universal\n",
            "        (allow_verb_noun_swap):  True\n",
            "        (compare_against_original):  True\n",
            "      )\n",
            "  (is_black_box):  True\n",
            ")\n"
          ],
          "name": "stdout"
        },
        {
          "output_type": "display_data",
          "data": {
            "text/html": [
              "<font color = green>Positive (100%)</font> --> <font color = red>[FAILED]</font><br>it 's a charming and often affecting journey . "
            ],
            "text/plain": [
              "<IPython.core.display.HTML object>"
            ]
          },
          "metadata": {
            "tags": []
          }
        },
        {
          "output_type": "stream",
          "text": [
            "\n",
            "  4%|▍         | 1/25 [00:05<02:14,  5.59s/it]\u001b[A\n",
            "[Succeeded / Failed / Total] 0 / 1 / 1:   4%|▍         | 1/25 [00:05<02:14,  5.60s/it]\u001b[A"
          ],
          "name": "stderr"
        },
        {
          "output_type": "display_data",
          "data": {
            "text/html": [
              "<font color = red>Negative (99%)</font> --> <font color = red>[FAILED]</font><br>unflinchingly bleak and desperate "
            ],
            "text/plain": [
              "<IPython.core.display.HTML object>"
            ]
          },
          "metadata": {
            "tags": []
          }
        },
        {
          "output_type": "stream",
          "text": [
            "\n",
            "[Succeeded / Failed / Total] 0 / 1 / 1:   8%|▊         | 2/25 [00:06<01:14,  3.25s/it]\u001b[A\n",
            "[Succeeded / Failed / Total] 0 / 2 / 2:   8%|▊         | 2/25 [00:06<01:14,  3.26s/it]\u001b[A"
          ],
          "name": "stderr"
        },
        {
          "output_type": "display_data",
          "data": {
            "text/html": [
              "<font color = green>Positive (100%)</font> --> <font color = red>Negative (51%)</font><br><font color = green>allows</font> us to <font color = green>hope</font> that <font color = green>nolan</font> <font color = green>is</font> <font color = green>poised</font> to <font color = green>embark</font> a major career as a commercial yet <font color = green>inventive</font> <font color = green>filmmaker</font> . <br><font color = red>allow</font> us to <font color = red>tykkum</font> that <font color = red>seznec</font> <font color = red>polylogarithm</font> <font color = red>transfered</font> to <font color = red>capitalize</font> a major career as a commercial yet <font color = red>ingenious</font> <font color = red>screenwriter</font> . "
            ],
            "text/plain": [
              "<IPython.core.display.HTML object>"
            ]
          },
          "metadata": {
            "tags": []
          }
        },
        {
          "output_type": "stream",
          "text": [
            "\n",
            "[Succeeded / Failed / Total] 0 / 2 / 2:  12%|█▏        | 3/25 [00:33<04:02, 11.02s/it]\u001b[A\n",
            "[Succeeded / Failed / Total] 1 / 2 / 3:  12%|█▏        | 3/25 [00:33<04:02, 11.02s/it]\u001b[A"
          ],
          "name": "stderr"
        },
        {
          "output_type": "display_data",
          "data": {
            "text/html": [
              "<font color = green>Positive (100%)</font> --> <font color = red>Negative (81%)</font><br>the acting , costumes , music , cinematography and sound are all <font color = green>astounding</font> given the production 's austere locales . <br>the acting , costumes , music , cinematography and sound are all <font color = red>review</font> given the production 's austere locales . "
            ],
            "text/plain": [
              "<IPython.core.display.HTML object>"
            ]
          },
          "metadata": {
            "tags": []
          }
        },
        {
          "output_type": "stream",
          "text": [
            "\n",
            "[Succeeded / Failed / Total] 1 / 2 / 3:  16%|█▌        | 4/25 [00:33<02:57,  8.46s/it]\u001b[A\n",
            "[Succeeded / Failed / Total] 2 / 2 / 4:  16%|█▌        | 4/25 [00:33<02:57,  8.47s/it]\u001b[A"
          ],
          "name": "stderr"
        },
        {
          "output_type": "display_data",
          "data": {
            "text/html": [
              "<font color = red>Negative (100%)</font> --> <font color = red>[FAILED]</font><br>it 's slow -- very , very slow . "
            ],
            "text/plain": [
              "<IPython.core.display.HTML object>"
            ]
          },
          "metadata": {
            "tags": []
          }
        },
        {
          "output_type": "stream",
          "text": [
            "\n",
            "[Succeeded / Failed / Total] 2 / 2 / 4:  20%|██        | 5/25 [00:38<02:35,  7.77s/it]\u001b[A\n",
            "[Succeeded / Failed / Total] 2 / 3 / 5:  20%|██        | 5/25 [00:38<02:35,  7.78s/it]\u001b[A"
          ],
          "name": "stderr"
        },
        {
          "output_type": "display_data",
          "data": {
            "text/html": [
              "<font color = green>Positive (100%)</font> --> <font color = red>[FAILED]</font><br>although laced with humor and a few fanciful touches , the film is a refreshingly serious look at young women . "
            ],
            "text/plain": [
              "<IPython.core.display.HTML object>"
            ]
          },
          "metadata": {
            "tags": []
          }
        },
        {
          "output_type": "stream",
          "text": [
            "\n",
            "[Succeeded / Failed / Total] 2 / 3 / 5:  24%|██▍       | 6/25 [01:02<03:18, 10.46s/it]\u001b[A\n",
            "[Succeeded / Failed / Total] 2 / 4 / 6:  24%|██▍       | 6/25 [01:02<03:18, 10.46s/it]\u001b[A"
          ],
          "name": "stderr"
        },
        {
          "output_type": "display_data",
          "data": {
            "text/html": [
              "<font color = red>Negative (99%)</font> --> <font color = red>[FAILED]</font><br>a sometimes tedious film . "
            ],
            "text/plain": [
              "<IPython.core.display.HTML object>"
            ]
          },
          "metadata": {
            "tags": []
          }
        },
        {
          "output_type": "stream",
          "text": [
            "\n",
            "[Succeeded / Failed / Total] 2 / 4 / 6:  28%|██▊       | 7/25 [01:04<02:46,  9.27s/it]\u001b[A\n",
            "[Succeeded / Failed / Total] 2 / 5 / 7:  28%|██▊       | 7/25 [01:04<02:46,  9.27s/it]\u001b[A"
          ],
          "name": "stderr"
        },
        {
          "output_type": "display_data",
          "data": {
            "text/html": [
              "<font color = red>Negative (98%)</font> --> <font color = red>[FAILED]</font><br>or doing last year 's taxes with your ex-wife . "
            ],
            "text/plain": [
              "<IPython.core.display.HTML object>"
            ]
          },
          "metadata": {
            "tags": []
          }
        },
        {
          "output_type": "stream",
          "text": [
            "\n",
            "[Succeeded / Failed / Total] 2 / 5 / 7:  32%|███▏      | 8/25 [01:07<02:23,  8.46s/it]\u001b[A\n",
            "[Succeeded / Failed / Total] 2 / 6 / 8:  32%|███▏      | 8/25 [01:07<02:23,  8.46s/it]\u001b[A"
          ],
          "name": "stderr"
        },
        {
          "output_type": "display_data",
          "data": {
            "text/html": [
              "<font color = green>Positive (100%)</font> --> <font color = red>Negative (95%)</font><br>you do n't have to know about music to <font color = green>appreciate</font> the film 's easygoing blend of comedy and romance . <br>you do n't have to know about music to <font color = red>hamper</font> the film 's easygoing blend of comedy and romance . "
            ],
            "text/plain": [
              "<IPython.core.display.HTML object>"
            ]
          },
          "metadata": {
            "tags": []
          }
        },
        {
          "output_type": "stream",
          "text": [
            "\n",
            "[Succeeded / Failed / Total] 2 / 6 / 8:  36%|███▌      | 9/25 [01:08<02:01,  7.62s/it]\u001b[A\n",
            "[Succeeded / Failed / Total] 3 / 6 / 9:  36%|███▌      | 9/25 [01:08<02:01,  7.62s/it]\u001b[A"
          ],
          "name": "stderr"
        },
        {
          "output_type": "display_data",
          "data": {
            "text/html": [
              "<font color = red>Negative (100%)</font> --> <font color = red>[FAILED]</font><br>in exactly 89 minutes , most of which passed as slowly as if i 'd been sitting naked on an igloo , formula 51 sank from quirky to jerky to utter turkey . "
            ],
            "text/plain": [
              "<IPython.core.display.HTML object>"
            ]
          },
          "metadata": {
            "tags": []
          }
        },
        {
          "output_type": "stream",
          "text": [
            "\n",
            "[Succeeded / Failed / Total] 3 / 6 / 9:  40%|████      | 10/25 [01:57<02:56, 11.80s/it]\u001b[A\n",
            "[Succeeded / Failed / Total] 3 / 7 / 10:  40%|████      | 10/25 [01:57<02:56, 11.80s/it]\u001b[A"
          ],
          "name": "stderr"
        },
        {
          "output_type": "display_data",
          "data": {
            "text/html": [
              "<font color = green>Positive (100%)</font> --> <font color = red>[FAILED]</font><br>the mesmerizing performances of the leads keep the film grounded and keep the audience riveted . "
            ],
            "text/plain": [
              "<IPython.core.display.HTML object>"
            ]
          },
          "metadata": {
            "tags": []
          }
        },
        {
          "output_type": "stream",
          "text": [
            "\n",
            "[Succeeded / Failed / Total] 3 / 7 / 10:  44%|████▍     | 11/25 [02:19<02:57, 12.68s/it]\u001b[A\n",
            "[Succeeded / Failed / Total] 3 / 8 / 11:  44%|████▍     | 11/25 [02:19<02:57, 12.68s/it]\u001b[A"
          ],
          "name": "stderr"
        },
        {
          "output_type": "display_data",
          "data": {
            "text/html": [
              "<font color = red>Negative (100%)</font> --> <font color = green>Positive (99%)</font><br>it takes a strange <font color = red>kind</font> of <font color = red>laziness</font> to <font color = red>waste</font> the talents of robert forster , anne meara , eugene levy , and reginald veljohnson all in the same movie . <br>it takes a strange <font color = green>particular</font> of <font color = green>margarine</font> to <font color = green>raw</font> the talents of robert forster , anne meara , eugene levy , and reginald veljohnson all in the same movie . "
            ],
            "text/plain": [
              "<IPython.core.display.HTML object>"
            ]
          },
          "metadata": {
            "tags": []
          }
        },
        {
          "output_type": "stream",
          "text": [
            "\n",
            "[Succeeded / Failed / Total] 3 / 8 / 11:  48%|████▊     | 12/25 [02:23<02:34, 11.92s/it]\u001b[A\n",
            "[Succeeded / Failed / Total] 4 / 8 / 12:  48%|████▊     | 12/25 [02:23<02:34, 11.92s/it]\u001b[A"
          ],
          "name": "stderr"
        },
        {
          "output_type": "display_data",
          "data": {
            "text/html": [
              "<font color = red>Negative (100%)</font> --> <font color = green>Positive (100%)</font><br>... the film <font color = red>suffers</font> from a <font color = red>lack</font> of <font color = red>humor</font> ( something needed to balance out the violence ) ... <br>... the film <font color = green>benefited</font> from a <font color = green>presence</font> of <font color = green>labvakar</font> ( something needed to balance out the violence ) ... "
            ],
            "text/plain": [
              "<IPython.core.display.HTML object>"
            ]
          },
          "metadata": {
            "tags": []
          }
        },
        {
          "output_type": "stream",
          "text": [
            "\n",
            "[Succeeded / Failed / Total] 4 / 8 / 12:  52%|█████▏    | 13/25 [02:27<02:15, 11.32s/it]\u001b[A\n",
            "[Succeeded / Failed / Total] 5 / 8 / 13:  52%|█████▏    | 13/25 [02:27<02:15, 11.32s/it]\u001b[A"
          ],
          "name": "stderr"
        },
        {
          "output_type": "display_data",
          "data": {
            "text/html": [
              "<font color = green>Positive (91%)</font> --> <font color = red>Negative (51%)</font><br>we <font color = green>root</font> for ( clara and paul ) , even like them , though <font color = green>perhaps</font> it 's an emotion closer to pity . <br>we <font color = red>endodontics</font> for ( clara and paul ) , even like them , though <font color = red>probably</font> it 's an emotion closer to pity . "
            ],
            "text/plain": [
              "<IPython.core.display.HTML object>"
            ]
          },
          "metadata": {
            "tags": []
          }
        },
        {
          "output_type": "stream",
          "text": [
            "\n",
            "[Succeeded / Failed / Total] 5 / 8 / 13:  56%|█████▌    | 14/25 [02:27<01:56, 10.57s/it]\u001b[A\n",
            "[Succeeded / Failed / Total] 6 / 8 / 14:  56%|█████▌    | 14/25 [02:27<01:56, 10.57s/it]\u001b[A"
          ],
          "name": "stderr"
        },
        {
          "output_type": "display_data",
          "data": {
            "text/html": [
              "<font color = red>Negative (100%)</font> --> <font color = green>Positive (100%)</font><br>even horror fans will most likely not find what they 're seeking with trouble every day ; the movie <font color = red>lacks</font> both thrills and humor . <br>even horror fans will most likely not find what they 're seeking with trouble every day ; the movie <font color = green>possesses</font> both thrills and humor . "
            ],
            "text/plain": [
              "<IPython.core.display.HTML object>"
            ]
          },
          "metadata": {
            "tags": []
          }
        },
        {
          "output_type": "stream",
          "text": [
            "\n",
            "[Succeeded / Failed / Total] 6 / 8 / 14:  60%|██████    | 15/25 [02:28<01:39,  9.93s/it]\u001b[A\n",
            "[Succeeded / Failed / Total] 7 / 8 / 15:  60%|██████    | 15/25 [02:29<01:39,  9.93s/it]\u001b[A"
          ],
          "name": "stderr"
        },
        {
          "output_type": "display_data",
          "data": {
            "text/html": [
              "<font color = green>Positive (100%)</font> --> <font color = red>[FAILED]</font><br>a gorgeous , high-spirited musical from india that exquisitely blends music , dance , song , and high drama . "
            ],
            "text/plain": [
              "<IPython.core.display.HTML object>"
            ]
          },
          "metadata": {
            "tags": []
          }
        },
        {
          "output_type": "stream",
          "text": [
            "\n",
            "[Succeeded / Failed / Total] 7 / 8 / 15:  64%|██████▍   | 16/25 [02:49<01:35, 10.57s/it]\u001b[A\n",
            "[Succeeded / Failed / Total] 7 / 9 / 16:  64%|██████▍   | 16/25 [02:49<01:35, 10.57s/it]\u001b[A"
          ],
          "name": "stderr"
        },
        {
          "output_type": "display_data",
          "data": {
            "text/html": [
              "<font color = green>Positive (100%)</font> --> <font color = red>Negative (99%)</font><br>the emotions <font color = green>are</font> raw and <font color = green>will</font> <font color = green>strike</font> a <font color = green>nerve</font> with anyone who 's ever had <font color = green>family</font> <font color = green>trauma</font> . <br>the emotions <font color = red>washerwomen</font> raw and <font color = red>would</font> <font color = red>counter</font> a <font color = red>adhesion</font> with anyone who 's ever had <font color = red>pantolambdodontidae</font> <font color = red>inhuman</font> . "
            ],
            "text/plain": [
              "<IPython.core.display.HTML object>"
            ]
          },
          "metadata": {
            "tags": []
          }
        },
        {
          "output_type": "stream",
          "text": [
            "\n",
            "[Succeeded / Failed / Total] 7 / 9 / 16:  68%|██████▊   | 17/25 [03:06<01:27, 10.97s/it]\u001b[A\n",
            "[Succeeded / Failed / Total] 8 / 9 / 17:  68%|██████▊   | 17/25 [03:06<01:27, 10.97s/it]\u001b[A"
          ],
          "name": "stderr"
        },
        {
          "output_type": "display_data",
          "data": {
            "text/html": [
              "<font color = green>Positive (100%)</font> --> <font color = red>Negative (66%)</font><br>audrey tatou has a <font color = green>knack</font> for picking roles that <font color = green>magnify</font> her outrageous charm , and in this literate french comedy , she 's as morning-glory <font color = green>exuberant</font> as she was in amélie . <br>audrey tatou has a <font color = red>transcribing</font> for picking roles that <font color = red>overwhelm</font> her outrageous charm , and in this literate french comedy , she 's as morning-glory <font color = red>interrogative</font> as she was in amélie . "
            ],
            "text/plain": [
              "<IPython.core.display.HTML object>"
            ]
          },
          "metadata": {
            "tags": []
          }
        },
        {
          "output_type": "stream",
          "text": [
            "\n",
            "[Succeeded / Failed / Total] 8 / 9 / 17:  72%|███████▏  | 18/25 [03:12<01:14, 10.70s/it]\u001b[A\n",
            "[Succeeded / Failed / Total] 9 / 9 / 18:  72%|███████▏  | 18/25 [03:12<01:14, 10.70s/it]\u001b[A"
          ],
          "name": "stderr"
        },
        {
          "output_type": "display_data",
          "data": {
            "text/html": [
              "<font color = red>Negative (100%)</font> --> <font color = red>[FAILED]</font><br>... the movie is just a plain old monster . "
            ],
            "text/plain": [
              "<IPython.core.display.HTML object>"
            ]
          },
          "metadata": {
            "tags": []
          }
        },
        {
          "output_type": "stream",
          "text": [
            "\n",
            "[Succeeded / Failed / Total] 9 / 9 / 18:  76%|███████▌  | 19/25 [03:21<01:03, 10.59s/it]\u001b[A\n",
            "[Succeeded / Failed / Total] 9 / 10 / 19:  76%|███████▌  | 19/25 [03:21<01:03, 10.59s/it]\u001b[A"
          ],
          "name": "stderr"
        },
        {
          "output_type": "display_data",
          "data": {
            "text/html": [
              "<font color = red>Negative (100%)</font> --> <font color = green>Positive (92%)</font><br>in its best moments , resembles a <font color = red>bad</font> high school production of grease , without benefit of song . <br>in its best moments , resembles a <font color = green>good</font> high school production of grease , without benefit of song . "
            ],
            "text/plain": [
              "<IPython.core.display.HTML object>"
            ]
          },
          "metadata": {
            "tags": []
          }
        },
        {
          "output_type": "stream",
          "text": [
            "\n",
            "[Succeeded / Failed / Total] 9 / 10 / 19:  80%|████████  | 20/25 [03:22<00:50, 10.10s/it]\u001b[A\n",
            "[Succeeded / Failed / Total] 10 / 10 / 20:  80%|████████  | 20/25 [03:22<00:50, 10.10s/it]\u001b[A"
          ],
          "name": "stderr"
        },
        {
          "output_type": "display_data",
          "data": {
            "text/html": [
              "<font color = red>Negative (96%)</font> --> <font color = red>[FAILED]</font><br>pumpkin takes an admirable look at the hypocrisy of political correctness , but it does so with such an uneven tone that you never know when humor ends and tragedy begins . "
            ],
            "text/plain": [
              "<IPython.core.display.HTML object>"
            ]
          },
          "metadata": {
            "tags": []
          }
        },
        {
          "output_type": "stream",
          "text": [
            "\n",
            "[Succeeded / Failed / Total] 10 / 10 / 20:  84%|████████▍ | 21/25 [03:54<00:44, 11.17s/it]\u001b[A\n",
            "[Succeeded / Failed / Total] 10 / 11 / 21:  84%|████████▍ | 21/25 [03:54<00:44, 11.17s/it]\u001b[A"
          ],
          "name": "stderr"
        },
        {
          "output_type": "display_data",
          "data": {
            "text/html": [
              "<font color = green>Positive (71%)</font> --> <font color = gray>[SKIPPED]</font><br>the iditarod lasts for days - this just felt like it did . "
            ],
            "text/plain": [
              "<IPython.core.display.HTML object>"
            ]
          },
          "metadata": {
            "tags": []
          }
        },
        {
          "output_type": "stream",
          "text": [
            "\n",
            "[Succeeded / Failed / Total] 10 / 11 / 22:  88%|████████▊ | 22/25 [03:54<00:31, 10.66s/it]\u001b[A"
          ],
          "name": "stderr"
        },
        {
          "output_type": "display_data",
          "data": {
            "text/html": [
              "<font color = green>Positive (64%)</font> --> <font color = gray>[SKIPPED]</font><br>holden caulfield did it better . "
            ],
            "text/plain": [
              "<IPython.core.display.HTML object>"
            ]
          },
          "metadata": {
            "tags": []
          }
        },
        {
          "output_type": "stream",
          "text": [
            "\n",
            "[Succeeded / Failed / Total] 10 / 11 / 23:  92%|█████████▏| 23/25 [03:54<00:20, 10.20s/it]\u001b[A"
          ],
          "name": "stderr"
        },
        {
          "output_type": "display_data",
          "data": {
            "text/html": [
              "<font color = green>Positive (100%)</font> --> <font color = red>[FAILED]</font><br>a delectable and intriguing thriller filled with surprises , read my lips is an original . "
            ],
            "text/plain": [
              "<IPython.core.display.HTML object>"
            ]
          },
          "metadata": {
            "tags": []
          }
        },
        {
          "output_type": "stream",
          "text": [
            "\n",
            "[Succeeded / Failed / Total] 10 / 11 / 23:  96%|█████████▌| 24/25 [04:13<00:10, 10.56s/it]\u001b[A\n",
            "[Succeeded / Failed / Total] 10 / 12 / 24:  96%|█████████▌| 24/25 [04:13<00:10, 10.56s/it]\u001b[A"
          ],
          "name": "stderr"
        },
        {
          "output_type": "display_data",
          "data": {
            "text/html": [
              "<font color = green>Positive (100%)</font> --> <font color = red>Negative (51%)</font><br>seldom has a <font color = green>movie</font> so closely matched the <font color = green>spirit</font> of a <font color = green>man</font> and his <font color = green>work</font> . <br>seldom has a <font color = red>film</font> so closely matched the <font color = red>kukulcan</font> of a <font color = red>terc</font> and his <font color = red>ultimatte</font> . "
            ],
            "text/plain": [
              "<IPython.core.display.HTML object>"
            ]
          },
          "metadata": {
            "tags": []
          }
        },
        {
          "output_type": "stream",
          "text": [
            "\n",
            "[Succeeded / Failed / Total] 10 / 12 / 24: 100%|██████████| 25/25 [04:18<00:00, 10.34s/it]\u001b[A\n",
            "[Succeeded / Failed / Total] 11 / 12 / 25: 100%|██████████| 25/25 [04:18<00:00, 10.34s/it]\u001b[A"
          ],
          "name": "stderr"
        },
        {
          "output_type": "display_data",
          "data": {
            "text/html": [
              "<font color = red>Negative (100%)</font> --> <font color = red>[FAILED]</font><br>nicks , seemingly uncertain what 's going to make people laugh , runs the gamut from stale parody to raunchy sex gags to formula romantic comedy . "
            ],
            "text/plain": [
              "<IPython.core.display.HTML object>"
            ]
          },
          "metadata": {
            "tags": []
          }
        },
        {
          "output_type": "stream",
          "text": [
            "\n",
            "[Succeeded / Failed / Total] 11 / 12 / 25: : 26it [04:53, 11.29s/it]                      \u001b[A\n",
            "[Succeeded / Failed / Total] 11 / 13 / 26: : 26it [04:53, 11.29s/it]\u001b[A"
          ],
          "name": "stderr"
        },
        {
          "output_type": "display_data",
          "data": {
            "text/html": [
              "<font color = red>Negative (99%)</font> --> <font color = green>Positive (100%)</font><br>the action switches between past and present , but the material link is <font color = red>too</font> tenuous to anchor the emotional connections that purport to span a 125-year divide . <br>the action switches between past and present , but the material link is <font color = green>very</font> tenuous to anchor the emotional connections that purport to span a 125-year divide . "
            ],
            "text/plain": [
              "<IPython.core.display.HTML object>"
            ]
          },
          "metadata": {
            "tags": []
          }
        },
        {
          "output_type": "stream",
          "text": [
            "\n",
            "[Succeeded / Failed / Total] 11 / 13 / 26: : 27it [04:54, 10.92s/it]\u001b[A\n",
            "[Succeeded / Failed / Total] 12 / 13 / 27: : 27it [04:54, 10.92s/it]"
          ],
          "name": "stderr"
        },
        {
          "output_type": "stream",
          "text": [
            "+-------------------------------+--------+\n",
            "| Attack Results                |        |\n",
            "+-------------------------------+--------+\n",
            "| Number of successful attacks: | 12     |\n",
            "| Number of failed attacks:     | 13     |\n",
            "| Number of skipped attacks:    | 2      |\n",
            "| Original accuracy:            | 92.59% |\n",
            "| Accuracy under attack:        | 48.15% |\n",
            "| Attack success rate:          | 48.0%  |\n",
            "| Average perturbed word %:     | 15.25% |\n",
            "| Average num. words per input: | 16.33  |\n",
            "| Avg num queries:              | 229.36 |\n",
            "+-------------------------------+--------+"
          ],
          "name": "stdout"
        },
        {
          "output_type": "stream",
          "text": [
            "\n",
            "\u001b[34;1mtextattack\u001b[0m: Attack time: 294.806645154953s\n"
          ],
          "name": "stderr"
        }
      ]
    },
    {
      "cell_type": "code",
      "metadata": {
        "id": "PDxxIItFhgBB"
      },
      "source": [
        ""
      ],
      "execution_count": 60,
      "outputs": []
    }
  ]
}