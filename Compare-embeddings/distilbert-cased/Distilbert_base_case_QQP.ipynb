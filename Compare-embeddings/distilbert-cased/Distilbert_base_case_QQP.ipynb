{
  "nbformat": 4,
  "nbformat_minor": 0,
  "metadata": {
    "colab": {
      "name": "Distilbert_base_case_QQP.ipynb",
      "provenance": [],
      "collapsed_sections": []
    },
    "kernelspec": {
      "name": "python3",
      "display_name": "Python 3"
    },
    "language_info": {
      "name": "python"
    },
    "widgets": {
      "application/vnd.jupyter.widget-state+json": {
        "d5df20317385408289649e74f839e85c": {
          "model_module": "@jupyter-widgets/controls",
          "model_name": "HBoxModel",
          "state": {
            "_view_name": "HBoxView",
            "_dom_classes": [],
            "_model_name": "HBoxModel",
            "_view_module": "@jupyter-widgets/controls",
            "_model_module_version": "1.5.0",
            "_view_count": null,
            "_view_module_version": "1.5.0",
            "box_style": "",
            "layout": "IPY_MODEL_a277537309c24fac9c6da24dbe59b611",
            "_model_module": "@jupyter-widgets/controls",
            "children": [
              "IPY_MODEL_d13d84b2f7474b0ea4de4fe8003a0ac8",
              "IPY_MODEL_4ffd11e2d8c640edac367724e3b88e45"
            ]
          }
        },
        "a277537309c24fac9c6da24dbe59b611": {
          "model_module": "@jupyter-widgets/base",
          "model_name": "LayoutModel",
          "state": {
            "_view_name": "LayoutView",
            "grid_template_rows": null,
            "right": null,
            "justify_content": null,
            "_view_module": "@jupyter-widgets/base",
            "overflow": null,
            "_model_module_version": "1.2.0",
            "_view_count": null,
            "flex_flow": null,
            "width": null,
            "min_width": null,
            "border": null,
            "align_items": null,
            "bottom": null,
            "_model_module": "@jupyter-widgets/base",
            "top": null,
            "grid_column": null,
            "overflow_y": null,
            "overflow_x": null,
            "grid_auto_flow": null,
            "grid_area": null,
            "grid_template_columns": null,
            "flex": null,
            "_model_name": "LayoutModel",
            "justify_items": null,
            "grid_row": null,
            "max_height": null,
            "align_content": null,
            "visibility": null,
            "align_self": null,
            "height": null,
            "min_height": null,
            "padding": null,
            "grid_auto_rows": null,
            "grid_gap": null,
            "max_width": null,
            "order": null,
            "_view_module_version": "1.2.0",
            "grid_template_areas": null,
            "object_position": null,
            "object_fit": null,
            "grid_auto_columns": null,
            "margin": null,
            "display": null,
            "left": null
          }
        },
        "d13d84b2f7474b0ea4de4fe8003a0ac8": {
          "model_module": "@jupyter-widgets/controls",
          "model_name": "FloatProgressModel",
          "state": {
            "_view_name": "ProgressView",
            "style": "IPY_MODEL_9e76c84d4abb40e999d2f7cddb2558c3",
            "_dom_classes": [],
            "description": "Downloading: 100%",
            "_model_name": "FloatProgressModel",
            "bar_style": "success",
            "max": 507,
            "_view_module": "@jupyter-widgets/controls",
            "_model_module_version": "1.5.0",
            "value": 507,
            "_view_count": null,
            "_view_module_version": "1.5.0",
            "orientation": "horizontal",
            "min": 0,
            "description_tooltip": null,
            "_model_module": "@jupyter-widgets/controls",
            "layout": "IPY_MODEL_a552ac5a8eed418f9aebae85e4d968ba"
          }
        },
        "4ffd11e2d8c640edac367724e3b88e45": {
          "model_module": "@jupyter-widgets/controls",
          "model_name": "HTMLModel",
          "state": {
            "_view_name": "HTMLView",
            "style": "IPY_MODEL_5280f694e0d0470a9c00b630181aabd0",
            "_dom_classes": [],
            "description": "",
            "_model_name": "HTMLModel",
            "placeholder": "​",
            "_view_module": "@jupyter-widgets/controls",
            "_model_module_version": "1.5.0",
            "value": " 507/507 [00:00&lt;00:00, 2.37kB/s]",
            "_view_count": null,
            "_view_module_version": "1.5.0",
            "description_tooltip": null,
            "_model_module": "@jupyter-widgets/controls",
            "layout": "IPY_MODEL_6607beb6d1a44eb4a3a07f95c15ccf1b"
          }
        },
        "9e76c84d4abb40e999d2f7cddb2558c3": {
          "model_module": "@jupyter-widgets/controls",
          "model_name": "ProgressStyleModel",
          "state": {
            "_view_name": "StyleView",
            "_model_name": "ProgressStyleModel",
            "description_width": "initial",
            "_view_module": "@jupyter-widgets/base",
            "_model_module_version": "1.5.0",
            "_view_count": null,
            "_view_module_version": "1.2.0",
            "bar_color": null,
            "_model_module": "@jupyter-widgets/controls"
          }
        },
        "a552ac5a8eed418f9aebae85e4d968ba": {
          "model_module": "@jupyter-widgets/base",
          "model_name": "LayoutModel",
          "state": {
            "_view_name": "LayoutView",
            "grid_template_rows": null,
            "right": null,
            "justify_content": null,
            "_view_module": "@jupyter-widgets/base",
            "overflow": null,
            "_model_module_version": "1.2.0",
            "_view_count": null,
            "flex_flow": null,
            "width": null,
            "min_width": null,
            "border": null,
            "align_items": null,
            "bottom": null,
            "_model_module": "@jupyter-widgets/base",
            "top": null,
            "grid_column": null,
            "overflow_y": null,
            "overflow_x": null,
            "grid_auto_flow": null,
            "grid_area": null,
            "grid_template_columns": null,
            "flex": null,
            "_model_name": "LayoutModel",
            "justify_items": null,
            "grid_row": null,
            "max_height": null,
            "align_content": null,
            "visibility": null,
            "align_self": null,
            "height": null,
            "min_height": null,
            "padding": null,
            "grid_auto_rows": null,
            "grid_gap": null,
            "max_width": null,
            "order": null,
            "_view_module_version": "1.2.0",
            "grid_template_areas": null,
            "object_position": null,
            "object_fit": null,
            "grid_auto_columns": null,
            "margin": null,
            "display": null,
            "left": null
          }
        },
        "5280f694e0d0470a9c00b630181aabd0": {
          "model_module": "@jupyter-widgets/controls",
          "model_name": "DescriptionStyleModel",
          "state": {
            "_view_name": "StyleView",
            "_model_name": "DescriptionStyleModel",
            "description_width": "",
            "_view_module": "@jupyter-widgets/base",
            "_model_module_version": "1.5.0",
            "_view_count": null,
            "_view_module_version": "1.2.0",
            "_model_module": "@jupyter-widgets/controls"
          }
        },
        "6607beb6d1a44eb4a3a07f95c15ccf1b": {
          "model_module": "@jupyter-widgets/base",
          "model_name": "LayoutModel",
          "state": {
            "_view_name": "LayoutView",
            "grid_template_rows": null,
            "right": null,
            "justify_content": null,
            "_view_module": "@jupyter-widgets/base",
            "overflow": null,
            "_model_module_version": "1.2.0",
            "_view_count": null,
            "flex_flow": null,
            "width": null,
            "min_width": null,
            "border": null,
            "align_items": null,
            "bottom": null,
            "_model_module": "@jupyter-widgets/base",
            "top": null,
            "grid_column": null,
            "overflow_y": null,
            "overflow_x": null,
            "grid_auto_flow": null,
            "grid_area": null,
            "grid_template_columns": null,
            "flex": null,
            "_model_name": "LayoutModel",
            "justify_items": null,
            "grid_row": null,
            "max_height": null,
            "align_content": null,
            "visibility": null,
            "align_self": null,
            "height": null,
            "min_height": null,
            "padding": null,
            "grid_auto_rows": null,
            "grid_gap": null,
            "max_width": null,
            "order": null,
            "_view_module_version": "1.2.0",
            "grid_template_areas": null,
            "object_position": null,
            "object_fit": null,
            "grid_auto_columns": null,
            "margin": null,
            "display": null,
            "left": null
          }
        },
        "0f37ed2a9dfe46c0bb800e419f3ece47": {
          "model_module": "@jupyter-widgets/controls",
          "model_name": "HBoxModel",
          "state": {
            "_view_name": "HBoxView",
            "_dom_classes": [],
            "_model_name": "HBoxModel",
            "_view_module": "@jupyter-widgets/controls",
            "_model_module_version": "1.5.0",
            "_view_count": null,
            "_view_module_version": "1.5.0",
            "box_style": "",
            "layout": "IPY_MODEL_e800743c21824c25b83ced65607717bf",
            "_model_module": "@jupyter-widgets/controls",
            "children": [
              "IPY_MODEL_9402e9d08fa945a58db9a2e70c0b8038",
              "IPY_MODEL_d916754396264d5baf7141c5bd616b14"
            ]
          }
        },
        "e800743c21824c25b83ced65607717bf": {
          "model_module": "@jupyter-widgets/base",
          "model_name": "LayoutModel",
          "state": {
            "_view_name": "LayoutView",
            "grid_template_rows": null,
            "right": null,
            "justify_content": null,
            "_view_module": "@jupyter-widgets/base",
            "overflow": null,
            "_model_module_version": "1.2.0",
            "_view_count": null,
            "flex_flow": null,
            "width": null,
            "min_width": null,
            "border": null,
            "align_items": null,
            "bottom": null,
            "_model_module": "@jupyter-widgets/base",
            "top": null,
            "grid_column": null,
            "overflow_y": null,
            "overflow_x": null,
            "grid_auto_flow": null,
            "grid_area": null,
            "grid_template_columns": null,
            "flex": null,
            "_model_name": "LayoutModel",
            "justify_items": null,
            "grid_row": null,
            "max_height": null,
            "align_content": null,
            "visibility": null,
            "align_self": null,
            "height": null,
            "min_height": null,
            "padding": null,
            "grid_auto_rows": null,
            "grid_gap": null,
            "max_width": null,
            "order": null,
            "_view_module_version": "1.2.0",
            "grid_template_areas": null,
            "object_position": null,
            "object_fit": null,
            "grid_auto_columns": null,
            "margin": null,
            "display": null,
            "left": null
          }
        },
        "9402e9d08fa945a58db9a2e70c0b8038": {
          "model_module": "@jupyter-widgets/controls",
          "model_name": "FloatProgressModel",
          "state": {
            "_view_name": "ProgressView",
            "style": "IPY_MODEL_080d1b6846da438e88279b2d1239850d",
            "_dom_classes": [],
            "description": "Downloading: 100%",
            "_model_name": "FloatProgressModel",
            "bar_style": "success",
            "max": 263157278,
            "_view_module": "@jupyter-widgets/controls",
            "_model_module_version": "1.5.0",
            "value": 263157278,
            "_view_count": null,
            "_view_module_version": "1.5.0",
            "orientation": "horizontal",
            "min": 0,
            "description_tooltip": null,
            "_model_module": "@jupyter-widgets/controls",
            "layout": "IPY_MODEL_e29c19b2f33447d187717eb937459ea7"
          }
        },
        "d916754396264d5baf7141c5bd616b14": {
          "model_module": "@jupyter-widgets/controls",
          "model_name": "HTMLModel",
          "state": {
            "_view_name": "HTMLView",
            "style": "IPY_MODEL_f2d50c681e1a4f89ae0a79a44f5ab6f8",
            "_dom_classes": [],
            "description": "",
            "_model_name": "HTMLModel",
            "placeholder": "​",
            "_view_module": "@jupyter-widgets/controls",
            "_model_module_version": "1.5.0",
            "value": " 263M/263M [00:07&lt;00:00, 35.5MB/s]",
            "_view_count": null,
            "_view_module_version": "1.5.0",
            "description_tooltip": null,
            "_model_module": "@jupyter-widgets/controls",
            "layout": "IPY_MODEL_be2dccd065be4fb4ac5796c014b815a6"
          }
        },
        "080d1b6846da438e88279b2d1239850d": {
          "model_module": "@jupyter-widgets/controls",
          "model_name": "ProgressStyleModel",
          "state": {
            "_view_name": "StyleView",
            "_model_name": "ProgressStyleModel",
            "description_width": "initial",
            "_view_module": "@jupyter-widgets/base",
            "_model_module_version": "1.5.0",
            "_view_count": null,
            "_view_module_version": "1.2.0",
            "bar_color": null,
            "_model_module": "@jupyter-widgets/controls"
          }
        },
        "e29c19b2f33447d187717eb937459ea7": {
          "model_module": "@jupyter-widgets/base",
          "model_name": "LayoutModel",
          "state": {
            "_view_name": "LayoutView",
            "grid_template_rows": null,
            "right": null,
            "justify_content": null,
            "_view_module": "@jupyter-widgets/base",
            "overflow": null,
            "_model_module_version": "1.2.0",
            "_view_count": null,
            "flex_flow": null,
            "width": null,
            "min_width": null,
            "border": null,
            "align_items": null,
            "bottom": null,
            "_model_module": "@jupyter-widgets/base",
            "top": null,
            "grid_column": null,
            "overflow_y": null,
            "overflow_x": null,
            "grid_auto_flow": null,
            "grid_area": null,
            "grid_template_columns": null,
            "flex": null,
            "_model_name": "LayoutModel",
            "justify_items": null,
            "grid_row": null,
            "max_height": null,
            "align_content": null,
            "visibility": null,
            "align_self": null,
            "height": null,
            "min_height": null,
            "padding": null,
            "grid_auto_rows": null,
            "grid_gap": null,
            "max_width": null,
            "order": null,
            "_view_module_version": "1.2.0",
            "grid_template_areas": null,
            "object_position": null,
            "object_fit": null,
            "grid_auto_columns": null,
            "margin": null,
            "display": null,
            "left": null
          }
        },
        "f2d50c681e1a4f89ae0a79a44f5ab6f8": {
          "model_module": "@jupyter-widgets/controls",
          "model_name": "DescriptionStyleModel",
          "state": {
            "_view_name": "StyleView",
            "_model_name": "DescriptionStyleModel",
            "description_width": "",
            "_view_module": "@jupyter-widgets/base",
            "_model_module_version": "1.5.0",
            "_view_count": null,
            "_view_module_version": "1.2.0",
            "_model_module": "@jupyter-widgets/controls"
          }
        },
        "be2dccd065be4fb4ac5796c014b815a6": {
          "model_module": "@jupyter-widgets/base",
          "model_name": "LayoutModel",
          "state": {
            "_view_name": "LayoutView",
            "grid_template_rows": null,
            "right": null,
            "justify_content": null,
            "_view_module": "@jupyter-widgets/base",
            "overflow": null,
            "_model_module_version": "1.2.0",
            "_view_count": null,
            "flex_flow": null,
            "width": null,
            "min_width": null,
            "border": null,
            "align_items": null,
            "bottom": null,
            "_model_module": "@jupyter-widgets/base",
            "top": null,
            "grid_column": null,
            "overflow_y": null,
            "overflow_x": null,
            "grid_auto_flow": null,
            "grid_area": null,
            "grid_template_columns": null,
            "flex": null,
            "_model_name": "LayoutModel",
            "justify_items": null,
            "grid_row": null,
            "max_height": null,
            "align_content": null,
            "visibility": null,
            "align_self": null,
            "height": null,
            "min_height": null,
            "padding": null,
            "grid_auto_rows": null,
            "grid_gap": null,
            "max_width": null,
            "order": null,
            "_view_module_version": "1.2.0",
            "grid_template_areas": null,
            "object_position": null,
            "object_fit": null,
            "grid_auto_columns": null,
            "margin": null,
            "display": null,
            "left": null
          }
        },
        "a4085528b46f49cdaba9e612290024fd": {
          "model_module": "@jupyter-widgets/controls",
          "model_name": "HBoxModel",
          "state": {
            "_view_name": "HBoxView",
            "_dom_classes": [],
            "_model_name": "HBoxModel",
            "_view_module": "@jupyter-widgets/controls",
            "_model_module_version": "1.5.0",
            "_view_count": null,
            "_view_module_version": "1.5.0",
            "box_style": "",
            "layout": "IPY_MODEL_6e1ad04e74da460287f9b4badad96e63",
            "_model_module": "@jupyter-widgets/controls",
            "children": [
              "IPY_MODEL_a6deabf2b3c44ea68b7fd34bb4d4ed74",
              "IPY_MODEL_65cf314d29f8478d8e18f8ea27b51c4c"
            ]
          }
        },
        "6e1ad04e74da460287f9b4badad96e63": {
          "model_module": "@jupyter-widgets/base",
          "model_name": "LayoutModel",
          "state": {
            "_view_name": "LayoutView",
            "grid_template_rows": null,
            "right": null,
            "justify_content": null,
            "_view_module": "@jupyter-widgets/base",
            "overflow": null,
            "_model_module_version": "1.2.0",
            "_view_count": null,
            "flex_flow": null,
            "width": null,
            "min_width": null,
            "border": null,
            "align_items": null,
            "bottom": null,
            "_model_module": "@jupyter-widgets/base",
            "top": null,
            "grid_column": null,
            "overflow_y": null,
            "overflow_x": null,
            "grid_auto_flow": null,
            "grid_area": null,
            "grid_template_columns": null,
            "flex": null,
            "_model_name": "LayoutModel",
            "justify_items": null,
            "grid_row": null,
            "max_height": null,
            "align_content": null,
            "visibility": null,
            "align_self": null,
            "height": null,
            "min_height": null,
            "padding": null,
            "grid_auto_rows": null,
            "grid_gap": null,
            "max_width": null,
            "order": null,
            "_view_module_version": "1.2.0",
            "grid_template_areas": null,
            "object_position": null,
            "object_fit": null,
            "grid_auto_columns": null,
            "margin": null,
            "display": null,
            "left": null
          }
        },
        "a6deabf2b3c44ea68b7fd34bb4d4ed74": {
          "model_module": "@jupyter-widgets/controls",
          "model_name": "FloatProgressModel",
          "state": {
            "_view_name": "ProgressView",
            "style": "IPY_MODEL_f78b1a12ff86416b8ca3d6240c14d927",
            "_dom_classes": [],
            "description": "Downloading: 100%",
            "_model_name": "FloatProgressModel",
            "bar_style": "success",
            "max": 213450,
            "_view_module": "@jupyter-widgets/controls",
            "_model_module_version": "1.5.0",
            "value": 213450,
            "_view_count": null,
            "_view_module_version": "1.5.0",
            "orientation": "horizontal",
            "min": 0,
            "description_tooltip": null,
            "_model_module": "@jupyter-widgets/controls",
            "layout": "IPY_MODEL_ed63ae3283c54e08bce01a0839aa50d5"
          }
        },
        "65cf314d29f8478d8e18f8ea27b51c4c": {
          "model_module": "@jupyter-widgets/controls",
          "model_name": "HTMLModel",
          "state": {
            "_view_name": "HTMLView",
            "style": "IPY_MODEL_3722559a7eb44a17a31a96fd2b67baca",
            "_dom_classes": [],
            "description": "",
            "_model_name": "HTMLModel",
            "placeholder": "​",
            "_view_module": "@jupyter-widgets/controls",
            "_model_module_version": "1.5.0",
            "value": " 213k/213k [00:01&lt;00:00, 118kB/s]",
            "_view_count": null,
            "_view_module_version": "1.5.0",
            "description_tooltip": null,
            "_model_module": "@jupyter-widgets/controls",
            "layout": "IPY_MODEL_e088c45b6a304655b00b102b32e8fdf1"
          }
        },
        "f78b1a12ff86416b8ca3d6240c14d927": {
          "model_module": "@jupyter-widgets/controls",
          "model_name": "ProgressStyleModel",
          "state": {
            "_view_name": "StyleView",
            "_model_name": "ProgressStyleModel",
            "description_width": "initial",
            "_view_module": "@jupyter-widgets/base",
            "_model_module_version": "1.5.0",
            "_view_count": null,
            "_view_module_version": "1.2.0",
            "bar_color": null,
            "_model_module": "@jupyter-widgets/controls"
          }
        },
        "ed63ae3283c54e08bce01a0839aa50d5": {
          "model_module": "@jupyter-widgets/base",
          "model_name": "LayoutModel",
          "state": {
            "_view_name": "LayoutView",
            "grid_template_rows": null,
            "right": null,
            "justify_content": null,
            "_view_module": "@jupyter-widgets/base",
            "overflow": null,
            "_model_module_version": "1.2.0",
            "_view_count": null,
            "flex_flow": null,
            "width": null,
            "min_width": null,
            "border": null,
            "align_items": null,
            "bottom": null,
            "_model_module": "@jupyter-widgets/base",
            "top": null,
            "grid_column": null,
            "overflow_y": null,
            "overflow_x": null,
            "grid_auto_flow": null,
            "grid_area": null,
            "grid_template_columns": null,
            "flex": null,
            "_model_name": "LayoutModel",
            "justify_items": null,
            "grid_row": null,
            "max_height": null,
            "align_content": null,
            "visibility": null,
            "align_self": null,
            "height": null,
            "min_height": null,
            "padding": null,
            "grid_auto_rows": null,
            "grid_gap": null,
            "max_width": null,
            "order": null,
            "_view_module_version": "1.2.0",
            "grid_template_areas": null,
            "object_position": null,
            "object_fit": null,
            "grid_auto_columns": null,
            "margin": null,
            "display": null,
            "left": null
          }
        },
        "3722559a7eb44a17a31a96fd2b67baca": {
          "model_module": "@jupyter-widgets/controls",
          "model_name": "DescriptionStyleModel",
          "state": {
            "_view_name": "StyleView",
            "_model_name": "DescriptionStyleModel",
            "description_width": "",
            "_view_module": "@jupyter-widgets/base",
            "_model_module_version": "1.5.0",
            "_view_count": null,
            "_view_module_version": "1.2.0",
            "_model_module": "@jupyter-widgets/controls"
          }
        },
        "e088c45b6a304655b00b102b32e8fdf1": {
          "model_module": "@jupyter-widgets/base",
          "model_name": "LayoutModel",
          "state": {
            "_view_name": "LayoutView",
            "grid_template_rows": null,
            "right": null,
            "justify_content": null,
            "_view_module": "@jupyter-widgets/base",
            "overflow": null,
            "_model_module_version": "1.2.0",
            "_view_count": null,
            "flex_flow": null,
            "width": null,
            "min_width": null,
            "border": null,
            "align_items": null,
            "bottom": null,
            "_model_module": "@jupyter-widgets/base",
            "top": null,
            "grid_column": null,
            "overflow_y": null,
            "overflow_x": null,
            "grid_auto_flow": null,
            "grid_area": null,
            "grid_template_columns": null,
            "flex": null,
            "_model_name": "LayoutModel",
            "justify_items": null,
            "grid_row": null,
            "max_height": null,
            "align_content": null,
            "visibility": null,
            "align_self": null,
            "height": null,
            "min_height": null,
            "padding": null,
            "grid_auto_rows": null,
            "grid_gap": null,
            "max_width": null,
            "order": null,
            "_view_module_version": "1.2.0",
            "grid_template_areas": null,
            "object_position": null,
            "object_fit": null,
            "grid_auto_columns": null,
            "margin": null,
            "display": null,
            "left": null
          }
        },
        "b7fa6c0929824429a06a435fde83cfec": {
          "model_module": "@jupyter-widgets/controls",
          "model_name": "HBoxModel",
          "state": {
            "_view_name": "HBoxView",
            "_dom_classes": [],
            "_model_name": "HBoxModel",
            "_view_module": "@jupyter-widgets/controls",
            "_model_module_version": "1.5.0",
            "_view_count": null,
            "_view_module_version": "1.5.0",
            "box_style": "",
            "layout": "IPY_MODEL_3640f5b296a042abaa89db7175d466ba",
            "_model_module": "@jupyter-widgets/controls",
            "children": [
              "IPY_MODEL_84879f6d99f84fd7afad6460f87bb516",
              "IPY_MODEL_557333fe26b74da2bdbc82d0a4647a74"
            ]
          }
        },
        "3640f5b296a042abaa89db7175d466ba": {
          "model_module": "@jupyter-widgets/base",
          "model_name": "LayoutModel",
          "state": {
            "_view_name": "LayoutView",
            "grid_template_rows": null,
            "right": null,
            "justify_content": null,
            "_view_module": "@jupyter-widgets/base",
            "overflow": null,
            "_model_module_version": "1.2.0",
            "_view_count": null,
            "flex_flow": null,
            "width": null,
            "min_width": null,
            "border": null,
            "align_items": null,
            "bottom": null,
            "_model_module": "@jupyter-widgets/base",
            "top": null,
            "grid_column": null,
            "overflow_y": null,
            "overflow_x": null,
            "grid_auto_flow": null,
            "grid_area": null,
            "grid_template_columns": null,
            "flex": null,
            "_model_name": "LayoutModel",
            "justify_items": null,
            "grid_row": null,
            "max_height": null,
            "align_content": null,
            "visibility": null,
            "align_self": null,
            "height": null,
            "min_height": null,
            "padding": null,
            "grid_auto_rows": null,
            "grid_gap": null,
            "max_width": null,
            "order": null,
            "_view_module_version": "1.2.0",
            "grid_template_areas": null,
            "object_position": null,
            "object_fit": null,
            "grid_auto_columns": null,
            "margin": null,
            "display": null,
            "left": null
          }
        },
        "84879f6d99f84fd7afad6460f87bb516": {
          "model_module": "@jupyter-widgets/controls",
          "model_name": "FloatProgressModel",
          "state": {
            "_view_name": "ProgressView",
            "style": "IPY_MODEL_f2ff4bb97eb342c09c54ed7d86157ac0",
            "_dom_classes": [],
            "description": "Downloading: 100%",
            "_model_name": "FloatProgressModel",
            "bar_style": "success",
            "max": 112,
            "_view_module": "@jupyter-widgets/controls",
            "_model_module_version": "1.5.0",
            "value": 112,
            "_view_count": null,
            "_view_module_version": "1.5.0",
            "orientation": "horizontal",
            "min": 0,
            "description_tooltip": null,
            "_model_module": "@jupyter-widgets/controls",
            "layout": "IPY_MODEL_dace0aad20cc4373a67b8917ded3c7a1"
          }
        },
        "557333fe26b74da2bdbc82d0a4647a74": {
          "model_module": "@jupyter-widgets/controls",
          "model_name": "HTMLModel",
          "state": {
            "_view_name": "HTMLView",
            "style": "IPY_MODEL_d5e1f4f9a3d740ba97e0838408ca2517",
            "_dom_classes": [],
            "description": "",
            "_model_name": "HTMLModel",
            "placeholder": "​",
            "_view_module": "@jupyter-widgets/controls",
            "_model_module_version": "1.5.0",
            "value": " 112/112 [00:00&lt;00:00, 332B/s]",
            "_view_count": null,
            "_view_module_version": "1.5.0",
            "description_tooltip": null,
            "_model_module": "@jupyter-widgets/controls",
            "layout": "IPY_MODEL_63840997c3b54ea7bec06bad07075521"
          }
        },
        "f2ff4bb97eb342c09c54ed7d86157ac0": {
          "model_module": "@jupyter-widgets/controls",
          "model_name": "ProgressStyleModel",
          "state": {
            "_view_name": "StyleView",
            "_model_name": "ProgressStyleModel",
            "description_width": "initial",
            "_view_module": "@jupyter-widgets/base",
            "_model_module_version": "1.5.0",
            "_view_count": null,
            "_view_module_version": "1.2.0",
            "bar_color": null,
            "_model_module": "@jupyter-widgets/controls"
          }
        },
        "dace0aad20cc4373a67b8917ded3c7a1": {
          "model_module": "@jupyter-widgets/base",
          "model_name": "LayoutModel",
          "state": {
            "_view_name": "LayoutView",
            "grid_template_rows": null,
            "right": null,
            "justify_content": null,
            "_view_module": "@jupyter-widgets/base",
            "overflow": null,
            "_model_module_version": "1.2.0",
            "_view_count": null,
            "flex_flow": null,
            "width": null,
            "min_width": null,
            "border": null,
            "align_items": null,
            "bottom": null,
            "_model_module": "@jupyter-widgets/base",
            "top": null,
            "grid_column": null,
            "overflow_y": null,
            "overflow_x": null,
            "grid_auto_flow": null,
            "grid_area": null,
            "grid_template_columns": null,
            "flex": null,
            "_model_name": "LayoutModel",
            "justify_items": null,
            "grid_row": null,
            "max_height": null,
            "align_content": null,
            "visibility": null,
            "align_self": null,
            "height": null,
            "min_height": null,
            "padding": null,
            "grid_auto_rows": null,
            "grid_gap": null,
            "max_width": null,
            "order": null,
            "_view_module_version": "1.2.0",
            "grid_template_areas": null,
            "object_position": null,
            "object_fit": null,
            "grid_auto_columns": null,
            "margin": null,
            "display": null,
            "left": null
          }
        },
        "d5e1f4f9a3d740ba97e0838408ca2517": {
          "model_module": "@jupyter-widgets/controls",
          "model_name": "DescriptionStyleModel",
          "state": {
            "_view_name": "StyleView",
            "_model_name": "DescriptionStyleModel",
            "description_width": "",
            "_view_module": "@jupyter-widgets/base",
            "_model_module_version": "1.5.0",
            "_view_count": null,
            "_view_module_version": "1.2.0",
            "_model_module": "@jupyter-widgets/controls"
          }
        },
        "63840997c3b54ea7bec06bad07075521": {
          "model_module": "@jupyter-widgets/base",
          "model_name": "LayoutModel",
          "state": {
            "_view_name": "LayoutView",
            "grid_template_rows": null,
            "right": null,
            "justify_content": null,
            "_view_module": "@jupyter-widgets/base",
            "overflow": null,
            "_model_module_version": "1.2.0",
            "_view_count": null,
            "flex_flow": null,
            "width": null,
            "min_width": null,
            "border": null,
            "align_items": null,
            "bottom": null,
            "_model_module": "@jupyter-widgets/base",
            "top": null,
            "grid_column": null,
            "overflow_y": null,
            "overflow_x": null,
            "grid_auto_flow": null,
            "grid_area": null,
            "grid_template_columns": null,
            "flex": null,
            "_model_name": "LayoutModel",
            "justify_items": null,
            "grid_row": null,
            "max_height": null,
            "align_content": null,
            "visibility": null,
            "align_self": null,
            "height": null,
            "min_height": null,
            "padding": null,
            "grid_auto_rows": null,
            "grid_gap": null,
            "max_width": null,
            "order": null,
            "_view_module_version": "1.2.0",
            "grid_template_areas": null,
            "object_position": null,
            "object_fit": null,
            "grid_auto_columns": null,
            "margin": null,
            "display": null,
            "left": null
          }
        },
        "f48487f024b84eb696458695e6fda787": {
          "model_module": "@jupyter-widgets/controls",
          "model_name": "HBoxModel",
          "state": {
            "_view_name": "HBoxView",
            "_dom_classes": [],
            "_model_name": "HBoxModel",
            "_view_module": "@jupyter-widgets/controls",
            "_model_module_version": "1.5.0",
            "_view_count": null,
            "_view_module_version": "1.5.0",
            "box_style": "",
            "layout": "IPY_MODEL_388c4e99410c4eba9e88d687fdb98a80",
            "_model_module": "@jupyter-widgets/controls",
            "children": [
              "IPY_MODEL_ac8d80a5067a490cadffa6207c0aee17",
              "IPY_MODEL_412f03f5b12c4b6bacc98c89e39750d8"
            ]
          }
        },
        "388c4e99410c4eba9e88d687fdb98a80": {
          "model_module": "@jupyter-widgets/base",
          "model_name": "LayoutModel",
          "state": {
            "_view_name": "LayoutView",
            "grid_template_rows": null,
            "right": null,
            "justify_content": null,
            "_view_module": "@jupyter-widgets/base",
            "overflow": null,
            "_model_module_version": "1.2.0",
            "_view_count": null,
            "flex_flow": null,
            "width": null,
            "min_width": null,
            "border": null,
            "align_items": null,
            "bottom": null,
            "_model_module": "@jupyter-widgets/base",
            "top": null,
            "grid_column": null,
            "overflow_y": null,
            "overflow_x": null,
            "grid_auto_flow": null,
            "grid_area": null,
            "grid_template_columns": null,
            "flex": null,
            "_model_name": "LayoutModel",
            "justify_items": null,
            "grid_row": null,
            "max_height": null,
            "align_content": null,
            "visibility": null,
            "align_self": null,
            "height": null,
            "min_height": null,
            "padding": null,
            "grid_auto_rows": null,
            "grid_gap": null,
            "max_width": null,
            "order": null,
            "_view_module_version": "1.2.0",
            "grid_template_areas": null,
            "object_position": null,
            "object_fit": null,
            "grid_auto_columns": null,
            "margin": null,
            "display": null,
            "left": null
          }
        },
        "ac8d80a5067a490cadffa6207c0aee17": {
          "model_module": "@jupyter-widgets/controls",
          "model_name": "FloatProgressModel",
          "state": {
            "_view_name": "ProgressView",
            "style": "IPY_MODEL_5f00afacf5e64ef6a057afc046eb2276",
            "_dom_classes": [],
            "description": "Downloading: 100%",
            "_model_name": "FloatProgressModel",
            "bar_style": "success",
            "max": 49,
            "_view_module": "@jupyter-widgets/controls",
            "_model_module_version": "1.5.0",
            "value": 49,
            "_view_count": null,
            "_view_module_version": "1.5.0",
            "orientation": "horizontal",
            "min": 0,
            "description_tooltip": null,
            "_model_module": "@jupyter-widgets/controls",
            "layout": "IPY_MODEL_59d77beadf654ff78f8023d4e8495e01"
          }
        },
        "412f03f5b12c4b6bacc98c89e39750d8": {
          "model_module": "@jupyter-widgets/controls",
          "model_name": "HTMLModel",
          "state": {
            "_view_name": "HTMLView",
            "style": "IPY_MODEL_1eafe36a5d63472984d215fbf780782b",
            "_dom_classes": [],
            "description": "",
            "_model_name": "HTMLModel",
            "placeholder": "​",
            "_view_module": "@jupyter-widgets/controls",
            "_model_module_version": "1.5.0",
            "value": " 49.0/49.0 [00:00&lt;00:00, 711B/s]",
            "_view_count": null,
            "_view_module_version": "1.5.0",
            "description_tooltip": null,
            "_model_module": "@jupyter-widgets/controls",
            "layout": "IPY_MODEL_94af780e57804bae99171a253458e471"
          }
        },
        "5f00afacf5e64ef6a057afc046eb2276": {
          "model_module": "@jupyter-widgets/controls",
          "model_name": "ProgressStyleModel",
          "state": {
            "_view_name": "StyleView",
            "_model_name": "ProgressStyleModel",
            "description_width": "initial",
            "_view_module": "@jupyter-widgets/base",
            "_model_module_version": "1.5.0",
            "_view_count": null,
            "_view_module_version": "1.2.0",
            "bar_color": null,
            "_model_module": "@jupyter-widgets/controls"
          }
        },
        "59d77beadf654ff78f8023d4e8495e01": {
          "model_module": "@jupyter-widgets/base",
          "model_name": "LayoutModel",
          "state": {
            "_view_name": "LayoutView",
            "grid_template_rows": null,
            "right": null,
            "justify_content": null,
            "_view_module": "@jupyter-widgets/base",
            "overflow": null,
            "_model_module_version": "1.2.0",
            "_view_count": null,
            "flex_flow": null,
            "width": null,
            "min_width": null,
            "border": null,
            "align_items": null,
            "bottom": null,
            "_model_module": "@jupyter-widgets/base",
            "top": null,
            "grid_column": null,
            "overflow_y": null,
            "overflow_x": null,
            "grid_auto_flow": null,
            "grid_area": null,
            "grid_template_columns": null,
            "flex": null,
            "_model_name": "LayoutModel",
            "justify_items": null,
            "grid_row": null,
            "max_height": null,
            "align_content": null,
            "visibility": null,
            "align_self": null,
            "height": null,
            "min_height": null,
            "padding": null,
            "grid_auto_rows": null,
            "grid_gap": null,
            "max_width": null,
            "order": null,
            "_view_module_version": "1.2.0",
            "grid_template_areas": null,
            "object_position": null,
            "object_fit": null,
            "grid_auto_columns": null,
            "margin": null,
            "display": null,
            "left": null
          }
        },
        "1eafe36a5d63472984d215fbf780782b": {
          "model_module": "@jupyter-widgets/controls",
          "model_name": "DescriptionStyleModel",
          "state": {
            "_view_name": "StyleView",
            "_model_name": "DescriptionStyleModel",
            "description_width": "",
            "_view_module": "@jupyter-widgets/base",
            "_model_module_version": "1.5.0",
            "_view_count": null,
            "_view_module_version": "1.2.0",
            "_model_module": "@jupyter-widgets/controls"
          }
        },
        "94af780e57804bae99171a253458e471": {
          "model_module": "@jupyter-widgets/base",
          "model_name": "LayoutModel",
          "state": {
            "_view_name": "LayoutView",
            "grid_template_rows": null,
            "right": null,
            "justify_content": null,
            "_view_module": "@jupyter-widgets/base",
            "overflow": null,
            "_model_module_version": "1.2.0",
            "_view_count": null,
            "flex_flow": null,
            "width": null,
            "min_width": null,
            "border": null,
            "align_items": null,
            "bottom": null,
            "_model_module": "@jupyter-widgets/base",
            "top": null,
            "grid_column": null,
            "overflow_y": null,
            "overflow_x": null,
            "grid_auto_flow": null,
            "grid_area": null,
            "grid_template_columns": null,
            "flex": null,
            "_model_name": "LayoutModel",
            "justify_items": null,
            "grid_row": null,
            "max_height": null,
            "align_content": null,
            "visibility": null,
            "align_self": null,
            "height": null,
            "min_height": null,
            "padding": null,
            "grid_auto_rows": null,
            "grid_gap": null,
            "max_width": null,
            "order": null,
            "_view_module_version": "1.2.0",
            "grid_template_areas": null,
            "object_position": null,
            "object_fit": null,
            "grid_auto_columns": null,
            "margin": null,
            "display": null,
            "left": null
          }
        }
      }
    },
    "accelerator": "GPU"
  },
  "cells": [
    {
      "cell_type": "code",
      "metadata": {
        "colab": {
          "base_uri": "https://localhost:8080/"
        },
        "id": "Tjsl5_TPD5p-",
        "outputId": "950fba33-285c-4fae-bd0d-a9f838a00092"
      },
      "source": [
        "from google.colab import drive\n",
        "drive.mount('/content/drive')"
      ],
      "execution_count": 1,
      "outputs": [
        {
          "output_type": "stream",
          "text": [
            "Mounted at /content/drive\n"
          ],
          "name": "stdout"
        }
      ]
    },
    {
      "cell_type": "markdown",
      "metadata": {
        "id": "35YsotQWRREJ"
      },
      "source": [
        "#Installing libraries"
      ]
    },
    {
      "cell_type": "code",
      "metadata": {
        "id": "hZeIFn6iC9FF",
        "colab": {
          "base_uri": "https://localhost:8080/",
          "height": 1000
        },
        "outputId": "3ee040e4-72e1-4b39-e5ab-128d28d6aa67"
      },
      "source": [
        "!pip install textattack\n",
        "!pip install -U gensim==4.0.0\n",
        "!pip install python-Levenshtein"
      ],
      "execution_count": 2,
      "outputs": [
        {
          "output_type": "stream",
          "text": [
            "Collecting textattack\n",
            "\u001b[?25l  Downloading https://files.pythonhosted.org/packages/0f/82/2f16ef7f22f19b3a49bbcd079dc31e53d362e1ef1299298c3eda05cf2b3a/textattack-0.2.15-py3-none-any.whl (349kB)\n",
            "\u001b[K     |████████████████████████████████| 358kB 17.3MB/s \n",
            "\u001b[?25hCollecting num2words\n",
            "\u001b[?25l  Downloading https://files.pythonhosted.org/packages/eb/a2/ea800689730732e27711c41beed4b2a129b34974435bdc450377ec407738/num2words-0.5.10-py3-none-any.whl (101kB)\n",
            "\u001b[K     |████████████████████████████████| 102kB 12.0MB/s \n",
            "\u001b[?25hCollecting word2number\n",
            "  Downloading https://files.pythonhosted.org/packages/4a/29/a31940c848521f0725f0df6b25dca8917f13a2025b0e8fcbe5d0457e45e6/word2number-1.1.zip\n",
            "Collecting transformers>=3.3.0\n",
            "\u001b[?25l  Downloading https://files.pythonhosted.org/packages/d8/b2/57495b5309f09fa501866e225c84532d1fd89536ea62406b2181933fb418/transformers-4.5.1-py3-none-any.whl (2.1MB)\n",
            "\u001b[K     |████████████████████████████████| 2.1MB 29.1MB/s \n",
            "\u001b[?25hCollecting numpy<1.19.0\n",
            "\u001b[?25l  Downloading https://files.pythonhosted.org/packages/d6/c6/58e517e8b1fb192725cfa23c01c2e60e4e6699314ee9684a1c5f5c9b27e1/numpy-1.18.5-cp37-cp37m-manylinux1_x86_64.whl (20.1MB)\n",
            "\u001b[K     |████████████████████████████████| 20.1MB 1.5MB/s \n",
            "\u001b[?25hRequirement already satisfied: PySocks!=1.5.7,>=1.5.6 in /usr/local/lib/python3.7/dist-packages (from textattack) (1.7.1)\n",
            "Requirement already satisfied: editdistance in /usr/local/lib/python3.7/dist-packages (from textattack) (0.5.3)\n",
            "Collecting lru-dict\n",
            "  Downloading https://files.pythonhosted.org/packages/68/ea/997af58d4e6da019ad825a412f93081d9df67e9dda11cfb026a3d7cd0b6c/lru-dict-1.1.7.tar.gz\n",
            "Collecting datasets\n",
            "\u001b[?25l  Downloading https://files.pythonhosted.org/packages/46/1a/b9f9b3bfef624686ae81c070f0a6bb635047b17cdb3698c7ad01281e6f9a/datasets-1.6.2-py3-none-any.whl (221kB)\n",
            "\u001b[K     |████████████████████████████████| 225kB 53.7MB/s \n",
            "\u001b[?25hRequirement already satisfied: more-itertools in /usr/local/lib/python3.7/dist-packages (from textattack) (8.7.0)\n",
            "Collecting flair==0.6.1.post1\n",
            "\u001b[?25l  Downloading https://files.pythonhosted.org/packages/4a/49/a812ed93088ba9519cbb40eb9f52341694b31cfa126bfddcd9db3761f3ac/flair-0.6.1.post1-py3-none-any.whl (337kB)\n",
            "\u001b[K     |████████████████████████████████| 337kB 55.9MB/s \n",
            "\u001b[?25hCollecting terminaltables\n",
            "  Downloading https://files.pythonhosted.org/packages/9b/c4/4a21174f32f8a7e1104798c445dacdc1d4df86f2f26722767034e4de4bff/terminaltables-3.1.0.tar.gz\n",
            "Requirement already satisfied: torch in /usr/local/lib/python3.7/dist-packages (from textattack) (1.8.1+cu101)\n",
            "Requirement already satisfied: pandas>=1.0.1 in /usr/local/lib/python3.7/dist-packages (from textattack) (1.1.5)\n",
            "Collecting lemminflect\n",
            "\u001b[?25l  Downloading https://files.pythonhosted.org/packages/4b/67/d04ca98b661d4ad52b9b965c9dabb1f1a2c85541d20f8decb9a9df4e4b32/lemminflect-0.2.2-py3-none-any.whl (769kB)\n",
            "\u001b[K     |████████████████████████████████| 778kB 47.0MB/s \n",
            "\u001b[?25hCollecting language-tool-python\n",
            "  Downloading https://files.pythonhosted.org/packages/37/26/48b22ad565fd372edec3577218fb817e0e6626bf4e658033197470ad92b3/language_tool_python-2.5.3-py3-none-any.whl\n",
            "Requirement already satisfied: filelock in /usr/local/lib/python3.7/dist-packages (from textattack) (3.0.12)\n",
            "Requirement already satisfied: tqdm<4.50.0,>=4.27 in /usr/local/lib/python3.7/dist-packages (from textattack) (4.41.1)\n",
            "Collecting bert-score>=0.3.5\n",
            "\u001b[?25l  Downloading https://files.pythonhosted.org/packages/38/fb/e63e7e231a79db0489dbf7e7d0ebfb279ccb3d8216aa0d133572f784f3fa/bert_score-0.3.9-py3-none-any.whl (59kB)\n",
            "\u001b[K     |████████████████████████████████| 61kB 10.4MB/s \n",
            "\u001b[?25hRequirement already satisfied: nltk in /usr/local/lib/python3.7/dist-packages (from textattack) (3.2.5)\n",
            "Requirement already satisfied: scipy==1.4.1 in /usr/local/lib/python3.7/dist-packages (from textattack) (1.4.1)\n",
            "Requirement already satisfied: docopt>=0.6.2 in /usr/local/lib/python3.7/dist-packages (from num2words->textattack) (0.6.2)\n",
            "Requirement already satisfied: importlib-metadata; python_version < \"3.8\" in /usr/local/lib/python3.7/dist-packages (from transformers>=3.3.0->textattack) (3.10.1)\n",
            "Requirement already satisfied: requests in /usr/local/lib/python3.7/dist-packages (from transformers>=3.3.0->textattack) (2.23.0)\n",
            "Requirement already satisfied: regex!=2019.12.17 in /usr/local/lib/python3.7/dist-packages (from transformers>=3.3.0->textattack) (2019.12.20)\n",
            "Requirement already satisfied: packaging in /usr/local/lib/python3.7/dist-packages (from transformers>=3.3.0->textattack) (20.9)\n",
            "Collecting tokenizers<0.11,>=0.10.1\n",
            "\u001b[?25l  Downloading https://files.pythonhosted.org/packages/ae/04/5b870f26a858552025a62f1649c20d29d2672c02ff3c3fb4c688ca46467a/tokenizers-0.10.2-cp37-cp37m-manylinux2010_x86_64.whl (3.3MB)\n",
            "\u001b[K     |████████████████████████████████| 3.3MB 26.7MB/s \n",
            "\u001b[?25hCollecting sacremoses\n",
            "\u001b[?25l  Downloading https://files.pythonhosted.org/packages/75/ee/67241dc87f266093c533a2d4d3d69438e57d7a90abb216fa076e7d475d4a/sacremoses-0.0.45-py3-none-any.whl (895kB)\n",
            "\u001b[K     |████████████████████████████████| 901kB 49.4MB/s \n",
            "\u001b[?25hRequirement already satisfied: dill in /usr/local/lib/python3.7/dist-packages (from datasets->textattack) (0.3.3)\n",
            "Collecting xxhash\n",
            "\u001b[?25l  Downloading https://files.pythonhosted.org/packages/7d/4f/0a862cad26aa2ed7a7cd87178cbbfa824fc1383e472d63596a0d018374e7/xxhash-2.0.2-cp37-cp37m-manylinux2010_x86_64.whl (243kB)\n",
            "\u001b[K     |████████████████████████████████| 245kB 60.3MB/s \n",
            "\u001b[?25hRequirement already satisfied: pyarrow>=1.0.0<4.0.0 in /usr/local/lib/python3.7/dist-packages (from datasets->textattack) (3.0.0)\n",
            "Requirement already satisfied: multiprocess in /usr/local/lib/python3.7/dist-packages (from datasets->textattack) (0.70.11.1)\n",
            "Collecting fsspec\n",
            "\u001b[?25l  Downloading https://files.pythonhosted.org/packages/e9/91/2ef649137816850fa4f4c97c6f2eabb1a79bf0aa2c8ed198e387e373455e/fsspec-2021.4.0-py3-none-any.whl (108kB)\n",
            "\u001b[K     |████████████████████████████████| 112kB 61.6MB/s \n",
            "\u001b[?25hCollecting huggingface-hub<0.1.0\n",
            "  Downloading https://files.pythonhosted.org/packages/a1/88/7b1e45720ecf59c6c6737ff332f41c955963090a18e72acbcbeac6b25e86/huggingface_hub-0.0.8-py3-none-any.whl\n",
            "Requirement already satisfied: matplotlib>=2.2.3 in /usr/local/lib/python3.7/dist-packages (from flair==0.6.1.post1->textattack) (3.2.2)\n",
            "Requirement already satisfied: gdown in /usr/local/lib/python3.7/dist-packages (from flair==0.6.1.post1->textattack) (3.6.4)\n",
            "Collecting segtok>=1.5.7\n",
            "  Downloading https://files.pythonhosted.org/packages/41/08/582dab5f4b1d5ca23bc6927b4bb977c8ff7f3a87a3b98844ef833e2f5623/segtok-1.5.10.tar.gz\n",
            "Collecting sqlitedict>=1.6.0\n",
            "  Downloading https://files.pythonhosted.org/packages/5c/2d/b1d99e9ad157dd7de9cd0d36a8a5876b13b55e4b75f7498bc96035fb4e96/sqlitedict-1.7.0.tar.gz\n",
            "Requirement already satisfied: python-dateutil>=2.6.1 in /usr/local/lib/python3.7/dist-packages (from flair==0.6.1.post1->textattack) (2.8.1)\n",
            "Collecting deprecated>=1.2.4\n",
            "  Downloading https://files.pythonhosted.org/packages/fb/73/994edfcba74443146c84b91921fcc269374354118d4f452fb0c54c1cbb12/Deprecated-1.2.12-py2.py3-none-any.whl\n",
            "Collecting konoha<5.0.0,>=4.0.0\n",
            "  Downloading https://files.pythonhosted.org/packages/02/be/4dd30d56a0a19619deb9bf41ba8202709fa83b1b301b876572cd6dc38117/konoha-4.6.4-py3-none-any.whl\n",
            "Requirement already satisfied: scikit-learn>=0.21.3 in /usr/local/lib/python3.7/dist-packages (from flair==0.6.1.post1->textattack) (0.22.2.post1)\n",
            "Collecting ftfy\n",
            "\u001b[?25l  Downloading https://files.pythonhosted.org/packages/ce/b5/5da463f9c7823e0e575e9908d004e2af4b36efa8d02d3d6dad57094fcb11/ftfy-6.0.1.tar.gz (63kB)\n",
            "\u001b[K     |████████████████████████████████| 71kB 10.5MB/s \n",
            "\u001b[?25hRequirement already satisfied: hyperopt>=0.1.1 in /usr/local/lib/python3.7/dist-packages (from flair==0.6.1.post1->textattack) (0.1.2)\n",
            "Collecting mpld3==0.3\n",
            "\u001b[?25l  Downloading https://files.pythonhosted.org/packages/91/95/a52d3a83d0a29ba0d6898f6727e9858fe7a43f6c2ce81a5fe7e05f0f4912/mpld3-0.3.tar.gz (788kB)\n",
            "\u001b[K     |████████████████████████████████| 798kB 45.0MB/s \n",
            "\u001b[?25hCollecting sentencepiece!=0.1.92\n",
            "\u001b[?25l  Downloading https://files.pythonhosted.org/packages/f5/99/e0808cb947ba10f575839c43e8fafc9cc44e4a7a2c8f79c60db48220a577/sentencepiece-0.1.95-cp37-cp37m-manylinux2014_x86_64.whl (1.2MB)\n",
            "\u001b[K     |████████████████████████████████| 1.2MB 44.9MB/s \n",
            "\u001b[?25hRequirement already satisfied: tabulate in /usr/local/lib/python3.7/dist-packages (from flair==0.6.1.post1->textattack) (0.8.9)\n",
            "Collecting langdetect\n",
            "\u001b[?25l  Downloading https://files.pythonhosted.org/packages/0e/72/a3add0e4eec4eb9e2569554f7c70f4a3c27712f40e3284d483e88094cc0e/langdetect-1.0.9.tar.gz (981kB)\n",
            "\u001b[K     |████████████████████████████████| 983kB 44.0MB/s \n",
            "\u001b[?25hRequirement already satisfied: lxml in /usr/local/lib/python3.7/dist-packages (from flair==0.6.1.post1->textattack) (4.2.6)\n",
            "Requirement already satisfied: gensim>=3.4.0 in /usr/local/lib/python3.7/dist-packages (from flair==0.6.1.post1->textattack) (3.6.0)\n",
            "Collecting janome\n",
            "\u001b[?25l  Downloading https://files.pythonhosted.org/packages/a8/63/98858cbead27df7536c7e300c169da0999e9704d02220dc6700b804eeff0/Janome-0.4.1-py2.py3-none-any.whl (19.7MB)\n",
            "\u001b[K     |████████████████████████████████| 19.7MB 164kB/s \n",
            "\u001b[?25hCollecting bpemb>=0.3.2\n",
            "  Downloading https://files.pythonhosted.org/packages/f2/6f/9191b85109772636a8f8accb122900c34db26c091d2793218aa94954524c/bpemb-0.3.3-py3-none-any.whl\n",
            "Requirement already satisfied: typing-extensions in /usr/local/lib/python3.7/dist-packages (from torch->textattack) (3.7.4.3)\n",
            "Requirement already satisfied: pytz>=2017.2 in /usr/local/lib/python3.7/dist-packages (from pandas>=1.0.1->textattack) (2018.9)\n",
            "Requirement already satisfied: six in /usr/local/lib/python3.7/dist-packages (from nltk->textattack) (1.15.0)\n",
            "Requirement already satisfied: zipp>=0.5 in /usr/local/lib/python3.7/dist-packages (from importlib-metadata; python_version < \"3.8\"->transformers>=3.3.0->textattack) (3.4.1)\n",
            "Requirement already satisfied: certifi>=2017.4.17 in /usr/local/lib/python3.7/dist-packages (from requests->transformers>=3.3.0->textattack) (2020.12.5)\n",
            "Requirement already satisfied: idna<3,>=2.5 in /usr/local/lib/python3.7/dist-packages (from requests->transformers>=3.3.0->textattack) (2.10)\n",
            "Requirement already satisfied: chardet<4,>=3.0.2 in /usr/local/lib/python3.7/dist-packages (from requests->transformers>=3.3.0->textattack) (3.0.4)\n",
            "Requirement already satisfied: urllib3!=1.25.0,!=1.25.1,<1.26,>=1.21.1 in /usr/local/lib/python3.7/dist-packages (from requests->transformers>=3.3.0->textattack) (1.24.3)\n",
            "Requirement already satisfied: pyparsing>=2.0.2 in /usr/local/lib/python3.7/dist-packages (from packaging->transformers>=3.3.0->textattack) (2.4.7)\n",
            "Requirement already satisfied: joblib in /usr/local/lib/python3.7/dist-packages (from sacremoses->transformers>=3.3.0->textattack) (1.0.1)\n",
            "Requirement already satisfied: click in /usr/local/lib/python3.7/dist-packages (from sacremoses->transformers>=3.3.0->textattack) (7.1.2)\n",
            "Requirement already satisfied: kiwisolver>=1.0.1 in /usr/local/lib/python3.7/dist-packages (from matplotlib>=2.2.3->flair==0.6.1.post1->textattack) (1.3.1)\n",
            "Requirement already satisfied: cycler>=0.10 in /usr/local/lib/python3.7/dist-packages (from matplotlib>=2.2.3->flair==0.6.1.post1->textattack) (0.10.0)\n",
            "Requirement already satisfied: wrapt<2,>=1.10 in /usr/local/lib/python3.7/dist-packages (from deprecated>=1.2.4->flair==0.6.1.post1->textattack) (1.12.1)\n",
            "Collecting overrides<4.0.0,>=3.0.0\n",
            "  Downloading https://files.pythonhosted.org/packages/ff/b1/10f69c00947518e6676bbd43e739733048de64b8dd998e9c2d5a71f44c5d/overrides-3.1.0.tar.gz\n",
            "Requirement already satisfied: wcwidth in /usr/local/lib/python3.7/dist-packages (from ftfy->flair==0.6.1.post1->textattack) (0.2.5)\n",
            "Requirement already satisfied: networkx in /usr/local/lib/python3.7/dist-packages (from hyperopt>=0.1.1->flair==0.6.1.post1->textattack) (2.5.1)\n",
            "Requirement already satisfied: pymongo in /usr/local/lib/python3.7/dist-packages (from hyperopt>=0.1.1->flair==0.6.1.post1->textattack) (3.11.3)\n",
            "Requirement already satisfied: future in /usr/local/lib/python3.7/dist-packages (from hyperopt>=0.1.1->flair==0.6.1.post1->textattack) (0.16.0)\n",
            "Requirement already satisfied: smart-open>=1.2.1 in /usr/local/lib/python3.7/dist-packages (from gensim>=3.4.0->flair==0.6.1.post1->textattack) (5.0.0)\n",
            "Requirement already satisfied: decorator<5,>=4.3 in /usr/local/lib/python3.7/dist-packages (from networkx->hyperopt>=0.1.1->flair==0.6.1.post1->textattack) (4.4.2)\n",
            "Building wheels for collected packages: word2number, lru-dict, terminaltables, segtok, sqlitedict, ftfy, mpld3, langdetect, overrides\n",
            "  Building wheel for word2number (setup.py) ... \u001b[?25l\u001b[?25hdone\n",
            "  Created wheel for word2number: filename=word2number-1.1-cp37-none-any.whl size=5589 sha256=900b8388d67504f36000cc817e7ce9c5a41ae94b90d2544977280a3203dc5f86\n",
            "  Stored in directory: /root/.cache/pip/wheels/46/2f/53/5f5c1d275492f2fce1cdab9a9bb12d49286dead829a4078e0e\n",
            "  Building wheel for lru-dict (setup.py) ... \u001b[?25l\u001b[?25hdone\n",
            "  Created wheel for lru-dict: filename=lru_dict-1.1.7-cp37-cp37m-linux_x86_64.whl size=28377 sha256=f14008773611267a19d626c612b3aae632c654ad6800fe3622411a8a2db2fc15\n",
            "  Stored in directory: /root/.cache/pip/wheels/ae/51/23/0a416781dead9225c7d66d25b9f223c7e32304e99a0b01d566\n",
            "  Building wheel for terminaltables (setup.py) ... \u001b[?25l\u001b[?25hdone\n",
            "  Created wheel for terminaltables: filename=terminaltables-3.1.0-cp37-none-any.whl size=15356 sha256=334476502b1c8b1208badbcee0081b1c7032d6cd1a67d959e726fe32c392e770\n",
            "  Stored in directory: /root/.cache/pip/wheels/30/6b/50/6c75775b681fb36cdfac7f19799888ef9d8813aff9e379663e\n",
            "  Building wheel for segtok (setup.py) ... \u001b[?25l\u001b[?25hdone\n",
            "  Created wheel for segtok: filename=segtok-1.5.10-cp37-none-any.whl size=25019 sha256=8317d34371299eeb1551ae90bc0c9e86484409bf12255a18af1af1f1ce90b7ab\n",
            "  Stored in directory: /root/.cache/pip/wheels/b4/39/f6/9ca1c5cabde964d728023b5751c3a206a5c8cc40252321fb6b\n",
            "  Building wheel for sqlitedict (setup.py) ... \u001b[?25l\u001b[?25hdone\n",
            "  Created wheel for sqlitedict: filename=sqlitedict-1.7.0-cp37-none-any.whl size=14376 sha256=7ea99911d061391bd04d3175250fc07709aa61d598d4182a00111990337666b0\n",
            "  Stored in directory: /root/.cache/pip/wheels/cf/c6/4f/2c64a43f041415eb8b8740bd80e15e92f0d46c5e464d8e4b9b\n",
            "  Building wheel for ftfy (setup.py) ... \u001b[?25l\u001b[?25hdone\n",
            "  Created wheel for ftfy: filename=ftfy-6.0.1-cp37-none-any.whl size=41573 sha256=d8772a45e1d6d2e67f75f1e6280730c38efb9e6d4c544d53e11de553d2179dcf\n",
            "  Stored in directory: /root/.cache/pip/wheels/ae/73/c7/9056e14b04919e5c262fe80b54133b1a88d73683d05d7ac65c\n",
            "  Building wheel for mpld3 (setup.py) ... \u001b[?25l\u001b[?25hdone\n",
            "  Created wheel for mpld3: filename=mpld3-0.3-cp37-none-any.whl size=116679 sha256=d34556456267417afbd8ff3ca3409ba08691fdde70394d3f1e9d143f8aabc2fb\n",
            "  Stored in directory: /root/.cache/pip/wheels/c0/47/fb/8a64f89aecfe0059830479308ad42d62e898a3e3cefdf6ba28\n",
            "  Building wheel for langdetect (setup.py) ... \u001b[?25l\u001b[?25hdone\n",
            "  Created wheel for langdetect: filename=langdetect-1.0.9-cp37-none-any.whl size=993223 sha256=cfefd039c64f8a229ad1feda4c48aec5cec15a4dcb34805cd9848bd11eaec5ad\n",
            "  Stored in directory: /root/.cache/pip/wheels/7e/18/13/038c34057808931c7ddc6c92d3aa015cf1a498df5a70268996\n",
            "  Building wheel for overrides (setup.py) ... \u001b[?25l\u001b[?25hdone\n",
            "  Created wheel for overrides: filename=overrides-3.1.0-cp37-none-any.whl size=10174 sha256=50ec217de87662c2bf1254156f5d48b56e560f68f74fd09738b885d000bb5646\n",
            "  Stored in directory: /root/.cache/pip/wheels/5c/24/13/6ef8600e6f147c95e595f1289a86a3cc82ed65df57582c65a9\n",
            "Successfully built word2number lru-dict terminaltables segtok sqlitedict ftfy mpld3 langdetect overrides\n",
            "\u001b[31mERROR: tensorflow 2.4.1 has requirement numpy~=1.19.2, but you'll have numpy 1.18.5 which is incompatible.\u001b[0m\n",
            "\u001b[31mERROR: datascience 0.10.6 has requirement folium==0.2.1, but you'll have folium 0.8.3 which is incompatible.\u001b[0m\n",
            "\u001b[31mERROR: albumentations 0.1.12 has requirement imgaug<0.2.7,>=0.2.5, but you'll have imgaug 0.2.9 which is incompatible.\u001b[0m\n",
            "\u001b[31mERROR: konoha 4.6.4 has requirement requests<3.0.0,>=2.25.1, but you'll have requests 2.23.0 which is incompatible.\u001b[0m\n",
            "Installing collected packages: num2words, word2number, tokenizers, numpy, sacremoses, transformers, lru-dict, xxhash, fsspec, huggingface-hub, datasets, segtok, sqlitedict, deprecated, overrides, konoha, ftfy, mpld3, sentencepiece, langdetect, janome, bpemb, flair, terminaltables, lemminflect, language-tool-python, bert-score, textattack\n",
            "  Found existing installation: numpy 1.19.5\n",
            "    Uninstalling numpy-1.19.5:\n",
            "      Successfully uninstalled numpy-1.19.5\n",
            "Successfully installed bert-score-0.3.9 bpemb-0.3.3 datasets-1.6.2 deprecated-1.2.12 flair-0.6.1.post1 fsspec-2021.4.0 ftfy-6.0.1 huggingface-hub-0.0.8 janome-0.4.1 konoha-4.6.4 langdetect-1.0.9 language-tool-python-2.5.3 lemminflect-0.2.2 lru-dict-1.1.7 mpld3-0.3 num2words-0.5.10 numpy-1.18.5 overrides-3.1.0 sacremoses-0.0.45 segtok-1.5.10 sentencepiece-0.1.95 sqlitedict-1.7.0 terminaltables-3.1.0 textattack-0.2.15 tokenizers-0.10.2 transformers-4.5.1 word2number-1.1 xxhash-2.0.2\n"
          ],
          "name": "stdout"
        },
        {
          "output_type": "display_data",
          "data": {
            "application/vnd.colab-display-data+json": {
              "pip_warning": {
                "packages": [
                  "numpy"
                ]
              }
            }
          },
          "metadata": {
            "tags": []
          }
        },
        {
          "output_type": "stream",
          "text": [
            "Collecting gensim==4.0.0\n",
            "\u001b[?25l  Downloading https://files.pythonhosted.org/packages/c3/dd/5e00b6e788a9c522b48f9df10472b2017102ffa65b10bc657471e0713542/gensim-4.0.0-cp37-cp37m-manylinux1_x86_64.whl (23.9MB)\n",
            "\u001b[K     |████████████████████████████████| 23.9MB 1.5MB/s \n",
            "\u001b[?25hRequirement already satisfied, skipping upgrade: scipy>=0.18.1 in /usr/local/lib/python3.7/dist-packages (from gensim==4.0.0) (1.4.1)\n",
            "Requirement already satisfied, skipping upgrade: numpy>=1.11.3 in /usr/local/lib/python3.7/dist-packages (from gensim==4.0.0) (1.18.5)\n",
            "Requirement already satisfied, skipping upgrade: smart-open>=1.8.1 in /usr/local/lib/python3.7/dist-packages (from gensim==4.0.0) (5.0.0)\n",
            "Installing collected packages: gensim\n",
            "  Found existing installation: gensim 3.6.0\n",
            "    Uninstalling gensim-3.6.0:\n",
            "      Successfully uninstalled gensim-3.6.0\n",
            "Successfully installed gensim-4.0.0\n",
            "Collecting python-Levenshtein\n",
            "\u001b[?25l  Downloading https://files.pythonhosted.org/packages/2a/dc/97f2b63ef0fa1fd78dcb7195aca577804f6b2b51e712516cc0e902a9a201/python-Levenshtein-0.12.2.tar.gz (50kB)\n",
            "\u001b[K     |████████████████████████████████| 51kB 5.9MB/s \n",
            "\u001b[?25hRequirement already satisfied: setuptools in /usr/local/lib/python3.7/dist-packages (from python-Levenshtein) (56.0.0)\n",
            "Building wheels for collected packages: python-Levenshtein\n",
            "  Building wheel for python-Levenshtein (setup.py) ... \u001b[?25l\u001b[?25hdone\n",
            "  Created wheel for python-Levenshtein: filename=python_Levenshtein-0.12.2-cp37-cp37m-linux_x86_64.whl size=149825 sha256=21e414edcb55d12f0a350a776df9f2ba0fae7bccc45cf2cc5ec065215df3a466\n",
            "  Stored in directory: /root/.cache/pip/wheels/b3/26/73/4b48503bac73f01cf18e52cd250947049a7f339e940c5df8fc\n",
            "Successfully built python-Levenshtein\n",
            "Installing collected packages: python-Levenshtein\n",
            "Successfully installed python-Levenshtein-0.12.2\n"
          ],
          "name": "stdout"
        }
      ]
    },
    {
      "cell_type": "code",
      "metadata": {
        "id": "cO7MgIfVqRWg"
      },
      "source": [
        "import gensim.downloader as api\n",
        "from gensim.models.word2vec import Word2Vec\n",
        "from gensim.models.fasttext import FastText\n",
        "from gensim.models import Phrases\n",
        "from gensim.test.utils import get_tmpfile\n",
        "import transformers\n",
        "from textattack.models.tokenizers import AutoTokenizer\n",
        "from textattack.models.wrappers import HuggingFaceModelWrapper\n",
        "from textattack.transformations import WordSwap\n",
        "from textattack.search_methods import GreedySearch, GreedyWordSwapWIR\n",
        "from textattack.constraints.overlap import LevenshteinEditDistance\n",
        "from textattack.constraints.pre_transformation import RepeatModification, StopwordModification\n",
        "from textattack.search_methods import ParticleSwarmOptimization\n",
        "from textattack.constraints.grammaticality import PartOfSpeech\n",
        "from textattack.shared import Attack\n",
        "from textattack.goal_functions import UntargetedClassification\n",
        "from textattack.datasets import HuggingFaceDataset\n",
        "from collections import deque\n",
        "\n",
        "import textattack\n",
        "import tqdm\n",
        "import time\n",
        "from IPython.display import display, HTML"
      ],
      "execution_count": 12,
      "outputs": []
    },
    {
      "cell_type": "code",
      "metadata": {
        "id": "XbSBo02xDGO2"
      },
      "source": [
        "# import gensim.downloader as api\n",
        "# corpus = api.load('text8')\n",
        "# from gensim.models.fasttext import FastText\n",
        "# model1 = FastText(corpus, sample = 0, sg = 1)"
      ],
      "execution_count": 3,
      "outputs": []
    },
    {
      "cell_type": "code",
      "metadata": {
        "id": "jLiSrpmTErOs"
      },
      "source": [
        "# import gensim.downloader as api\n",
        "# corpus = api.load('text8')\n",
        "# from gensim.models.word2vec import Word2Vec\n",
        "# model2 = Word2Vec(corpus, sample = 0, sg = 1)"
      ],
      "execution_count": null,
      "outputs": []
    },
    {
      "cell_type": "markdown",
      "metadata": {
        "id": "d-SeQSyZRVZk"
      },
      "source": [
        "# Loading FastText, Word2Vec and Glove"
      ]
    },
    {
      "cell_type": "code",
      "metadata": {
        "id": "ZCLiyaHYDBk1"
      },
      "source": [
        "from gensim.test.utils import get_tmpfile\n",
        "from gensim.models.fasttext import FastText\n",
        "#fname = get_tmpfile(\"/models/fasttext.model\") \n",
        "model1 = FastText.load(\"/content/drive/MyDrive/models/fasttext.model\") # Change this location"
      ],
      "execution_count": 4,
      "outputs": []
    },
    {
      "cell_type": "code",
      "metadata": {
        "id": "e4jwSL5YDvPy"
      },
      "source": [
        "from gensim.test.utils import get_tmpfile\n",
        "from gensim.models.word2vec import Word2Vec\n",
        "#fname1 = get_tmpfile(\"/models/word2vec.model\") \n",
        "model2 = Word2Vec.load(\"/content/drive/MyDrive/models/word2vec.model\") # Change this location"
      ],
      "execution_count": 5,
      "outputs": []
    },
    {
      "cell_type": "code",
      "metadata": {
        "id": "NC2kXo7wLsAd"
      },
      "source": [
        "from gensim.models import KeyedVectors\n",
        "model3=KeyedVectors.load('/content/drive/MyDrive/models/gloveKeyVectors.kv')"
      ],
      "execution_count": 6,
      "outputs": []
    },
    {
      "cell_type": "markdown",
      "metadata": {
        "id": "aTtS6UrJRc4S"
      },
      "source": [
        "Example demonstration"
      ]
    },
    {
      "cell_type": "code",
      "metadata": {
        "id": "l1xXXw5tFbuM",
        "colab": {
          "base_uri": "https://localhost:8080/"
        },
        "outputId": "e8d0cdd5-e261-46d0-8f48-a4edfdd7c6a5"
      },
      "source": [
        "print(model1.wv.most_similar('cat'))\n",
        "print(model2.wv.most_similar('cat'))\n",
        "print(model3.most_similar('cat'))"
      ],
      "execution_count": 7,
      "outputs": [
        {
          "output_type": "stream",
          "text": [
            "[('bobcat', 0.759185791015625), ('dog', 0.7208123803138733), ('foxglove', 0.7110776901245117), ('pig', 0.7088143229484558), ('goose', 0.7069101333618164), ('cats', 0.702387273311615), ('beak', 0.7008379697799683), ('catfish', 0.6987316608428955), ('foxhound', 0.696578860282898), ('catnip', 0.6960986852645874)]\n",
            "[('dog', 0.7193913459777832), ('squirrel', 0.696162760257721), ('leopardus', 0.6945451498031616), ('prionailurus', 0.688106894493103), ('albino', 0.6880608201026917), ('bird', 0.6836060285568237), ('eared', 0.6803243160247803), ('rhinoceros', 0.6769237518310547), ('hyena', 0.6756084561347961), ('badger', 0.6752869486808777)]\n",
            "[('cats', 0.7006820440292358), ('dog', 0.698471188545227), ('dogs', 0.6442825198173523), ('tervueren', 0.619421660900116), ('laekenois', 0.5972026586532593), ('lica', 0.5956287980079651), ('feral', 0.5899650454521179), ('goat', 0.5861616134643555), ('fish', 0.5746133327484131), ('malinois', 0.5737614631652832)]\n"
          ],
          "name": "stdout"
        }
      ]
    },
    {
      "cell_type": "code",
      "metadata": {
        "colab": {
          "base_uri": "https://localhost:8080/"
        },
        "id": "Z0RyPQdKNH2u",
        "outputId": "161b1e9c-b5f7-420b-fd88-bd76ed748179"
      },
      "source": [
        "if 'cat' in model3.key_to_index:\n",
        "  print('present')"
      ],
      "execution_count": 8,
      "outputs": [
        {
          "output_type": "stream",
          "text": [
            "present\n"
          ],
          "name": "stdout"
        }
      ]
    },
    {
      "cell_type": "markdown",
      "metadata": {
        "id": "0h_EeHEKRhYs"
      },
      "source": [
        "# Distilbert Base Cased-QQP"
      ]
    },
    {
      "cell_type": "code",
      "metadata": {
        "id": "QfecgI6BExUJ",
        "colab": {
          "base_uri": "https://localhost:8080/",
          "height": 592,
          "referenced_widgets": [
            "d5df20317385408289649e74f839e85c",
            "a277537309c24fac9c6da24dbe59b611",
            "d13d84b2f7474b0ea4de4fe8003a0ac8",
            "4ffd11e2d8c640edac367724e3b88e45",
            "9e76c84d4abb40e999d2f7cddb2558c3",
            "a552ac5a8eed418f9aebae85e4d968ba",
            "5280f694e0d0470a9c00b630181aabd0",
            "6607beb6d1a44eb4a3a07f95c15ccf1b",
            "0f37ed2a9dfe46c0bb800e419f3ece47",
            "e800743c21824c25b83ced65607717bf",
            "9402e9d08fa945a58db9a2e70c0b8038",
            "d916754396264d5baf7141c5bd616b14",
            "080d1b6846da438e88279b2d1239850d",
            "e29c19b2f33447d187717eb937459ea7",
            "f2d50c681e1a4f89ae0a79a44f5ab6f8",
            "be2dccd065be4fb4ac5796c014b815a6",
            "a4085528b46f49cdaba9e612290024fd",
            "6e1ad04e74da460287f9b4badad96e63",
            "a6deabf2b3c44ea68b7fd34bb4d4ed74",
            "65cf314d29f8478d8e18f8ea27b51c4c",
            "f78b1a12ff86416b8ca3d6240c14d927",
            "ed63ae3283c54e08bce01a0839aa50d5",
            "3722559a7eb44a17a31a96fd2b67baca",
            "e088c45b6a304655b00b102b32e8fdf1",
            "b7fa6c0929824429a06a435fde83cfec",
            "3640f5b296a042abaa89db7175d466ba",
            "84879f6d99f84fd7afad6460f87bb516",
            "557333fe26b74da2bdbc82d0a4647a74",
            "f2ff4bb97eb342c09c54ed7d86157ac0",
            "dace0aad20cc4373a67b8917ded3c7a1",
            "d5e1f4f9a3d740ba97e0838408ca2517",
            "63840997c3b54ea7bec06bad07075521",
            "f48487f024b84eb696458695e6fda787",
            "388c4e99410c4eba9e88d687fdb98a80",
            "ac8d80a5067a490cadffa6207c0aee17",
            "412f03f5b12c4b6bacc98c89e39750d8",
            "5f00afacf5e64ef6a057afc046eb2276",
            "59d77beadf654ff78f8023d4e8495e01",
            "1eafe36a5d63472984d215fbf780782b",
            "94af780e57804bae99171a253458e471"
          ]
        },
        "outputId": "ad9d0065-c63d-430c-b2fe-2d7ae834fa65"
      },
      "source": [
        "# Import the model\n",
        "import transformers\n",
        "from textattack.models.tokenizers import AutoTokenizer\n",
        "from textattack.models.wrappers import HuggingFaceModelWrapper\n",
        "\n",
        "model = transformers.AutoModelForSequenceClassification.from_pretrained(\"textattack/distilbert-base-cased-QQP\")\n",
        "tokenizer = AutoTokenizer(\"textattack/distilbert-base-cased-QQP\")\n",
        "# Change these\n",
        "\n",
        "model_wrapper = HuggingFaceModelWrapper(model, tokenizer)"
      ],
      "execution_count": 9,
      "outputs": [
        {
          "output_type": "stream",
          "text": [
            "\u001b[34;1mtextattack\u001b[0m: Updating TextAttack package dependencies.\n",
            "\u001b[34;1mtextattack\u001b[0m: Downloading NLTK required packages.\n"
          ],
          "name": "stderr"
        },
        {
          "output_type": "stream",
          "text": [
            "[nltk_data] Downloading package averaged_perceptron_tagger to\n",
            "[nltk_data]     /root/nltk_data...\n",
            "[nltk_data]   Unzipping taggers/averaged_perceptron_tagger.zip.\n",
            "[nltk_data] Downloading package stopwords to /root/nltk_data...\n",
            "[nltk_data]   Unzipping corpora/stopwords.zip.\n",
            "[nltk_data] Downloading package omw to /root/nltk_data...\n",
            "[nltk_data]   Unzipping corpora/omw.zip.\n",
            "[nltk_data] Downloading package universal_tagset to /root/nltk_data...\n",
            "[nltk_data]   Unzipping taggers/universal_tagset.zip.\n",
            "[nltk_data] Downloading package wordnet to /root/nltk_data...\n",
            "[nltk_data]   Unzipping corpora/wordnet.zip.\n",
            "[nltk_data] Downloading package punkt to /root/nltk_data...\n",
            "[nltk_data]   Unzipping tokenizers/punkt.zip.\n"
          ],
          "name": "stdout"
        },
        {
          "output_type": "stream",
          "text": [
            "\u001b[34;1mtextattack\u001b[0m: Downloading https://textattack.s3.amazonaws.com/word_embeddings/paragramcf.\n",
            "100%|██████████| 481M/481M [00:15<00:00, 32.0MB/s]\n",
            "\u001b[34;1mtextattack\u001b[0m: Unzipping file /root/.cache/textattack/tmpl4tbs52f.zip to /root/.cache/textattack/word_embeddings/paragramcf.\n",
            "\u001b[34;1mtextattack\u001b[0m: Successfully saved word_embeddings/paragramcf to cache.\n"
          ],
          "name": "stderr"
        },
        {
          "output_type": "display_data",
          "data": {
            "application/vnd.jupyter.widget-view+json": {
              "model_id": "d5df20317385408289649e74f839e85c",
              "version_minor": 0,
              "version_major": 2
            },
            "text/plain": [
              "HBox(children=(FloatProgress(value=0.0, description='Downloading', max=507.0, style=ProgressStyle(description_…"
            ]
          },
          "metadata": {
            "tags": []
          }
        },
        {
          "output_type": "stream",
          "text": [
            "\n"
          ],
          "name": "stdout"
        },
        {
          "output_type": "display_data",
          "data": {
            "application/vnd.jupyter.widget-view+json": {
              "model_id": "0f37ed2a9dfe46c0bb800e419f3ece47",
              "version_minor": 0,
              "version_major": 2
            },
            "text/plain": [
              "HBox(children=(FloatProgress(value=0.0, description='Downloading', max=263157278.0, style=ProgressStyle(descri…"
            ]
          },
          "metadata": {
            "tags": []
          }
        },
        {
          "output_type": "stream",
          "text": [
            "\n"
          ],
          "name": "stdout"
        },
        {
          "output_type": "display_data",
          "data": {
            "application/vnd.jupyter.widget-view+json": {
              "model_id": "a4085528b46f49cdaba9e612290024fd",
              "version_minor": 0,
              "version_major": 2
            },
            "text/plain": [
              "HBox(children=(FloatProgress(value=0.0, description='Downloading', max=213450.0, style=ProgressStyle(descripti…"
            ]
          },
          "metadata": {
            "tags": []
          }
        },
        {
          "output_type": "stream",
          "text": [
            "\n"
          ],
          "name": "stdout"
        },
        {
          "output_type": "display_data",
          "data": {
            "application/vnd.jupyter.widget-view+json": {
              "model_id": "b7fa6c0929824429a06a435fde83cfec",
              "version_minor": 0,
              "version_major": 2
            },
            "text/plain": [
              "HBox(children=(FloatProgress(value=0.0, description='Downloading', max=112.0, style=ProgressStyle(description_…"
            ]
          },
          "metadata": {
            "tags": []
          }
        },
        {
          "output_type": "stream",
          "text": [
            "\n"
          ],
          "name": "stdout"
        },
        {
          "output_type": "display_data",
          "data": {
            "application/vnd.jupyter.widget-view+json": {
              "model_id": "f48487f024b84eb696458695e6fda787",
              "version_minor": 0,
              "version_major": 2
            },
            "text/plain": [
              "HBox(children=(FloatProgress(value=0.0, description='Downloading', max=49.0, style=ProgressStyle(description_w…"
            ]
          },
          "metadata": {
            "tags": []
          }
        },
        {
          "output_type": "stream",
          "text": [
            "\n"
          ],
          "name": "stdout"
        }
      ]
    },
    {
      "cell_type": "markdown",
      "metadata": {
        "id": "HPj8fvaOFDAD"
      },
      "source": [
        "# Framing fasttext attack"
      ]
    },
    {
      "cell_type": "code",
      "metadata": {
        "id": "SHezFH9jE3Z2"
      },
      "source": [
        "from textattack.transformations import WordSwap\n",
        "\n",
        "class Swapper(WordSwap): # For fasttext\n",
        "    \"\"\" Transforms an input by replacing any word with its most similar counterpart\n",
        "    \"\"\"\n",
        "\n",
        "    # We don't need a constructor, since our class doesn't require any parameters.\n",
        "\n",
        "    def _get_replacement_words(self, word):\n",
        "        for i in range(10):\n",
        "            if word.lower() in model1.wv.most_similar(word)[i][0].lower():\n",
        "                continue # Don't return the exact word\n",
        "            elif word.isupper():\n",
        "                return [model1.wv.most_similar(word)[i][0].upper()] # Preserving case\n",
        "            elif word[0].isupper():\n",
        "                return [model1.wv.most_similar(word)[i][0].capitalize()] # Preserving Capitalization in words\n",
        "            else:\n",
        "                return [model1.wv.most_similar(word)[i][0]]\n",
        "            \n",
        "        return [model1.wv.most_similar(word)[0][0]]"
      ],
      "execution_count": 10,
      "outputs": []
    },
    {
      "cell_type": "code",
      "metadata": {
        "id": "GHt_A9Sril_j"
      },
      "source": [
        "def attack_stats(attack, dataset, num_of_examples=25):\n",
        "  print(attack)\n",
        "  num_examples = num_of_examples\n",
        "  num_remaining_attacks = num_examples\n",
        "  pbar = tqdm.tqdm(total=num_remaining_attacks, smoothing=0)\n",
        "\n",
        "  worklist = deque(range(0, num_examples))\n",
        "  worklist_tail = worklist[-1]\n",
        "\n",
        "  attack_log_manager = textattack.loggers.AttackLogManager()\n",
        "\n",
        "  load_time = time.time()\n",
        "        \n",
        "  num_results = 0\n",
        "  num_failures = 0\n",
        "  num_successes = 0\n",
        "  for result in attack.attack_dataset(dataset, indices=worklist):\n",
        "      result_html_str = result.__str__(color_method=\"html\").replace(\"\\n\\n\", \"<br>\")\n",
        "      display(HTML(result_html_str))\n",
        "      attack_log_manager.log_result(result)\n",
        "            \n",
        "      if not isinstance(result, textattack.attack_results.SkippedAttackResult):\n",
        "          pbar.update(1)\n",
        "      else:\n",
        "          worklist_tail += 1\n",
        "          pbar.update(1)\n",
        "          worklist.append(worklist_tail)\n",
        "\n",
        "      num_results += 1\n",
        "\n",
        "      if (type(result) == textattack.attack_results.SuccessfulAttackResult\n",
        "        or type(result) == textattack.attack_results.MaximizedAttackResult):\n",
        "          num_successes += 1\n",
        "                \n",
        "      if type(result) == textattack.attack_results.FailedAttackResult:\n",
        "          num_failures += 1\n",
        "      pbar.set_description(\n",
        "          \"[Succeeded / Failed / Total] {} / {} / {}\".format(\n",
        "            num_successes, num_failures, num_results\n",
        "        )\n",
        "      )\n",
        "\n",
        "  pbar.close()\n",
        "\n",
        "  attack_log_manager.enable_stdout()\n",
        "  attack_log_manager.log_summary()\n",
        "  attack_log_manager.flush()\n",
        "        \n",
        "  textattack.shared.logger.info(f\"Attack time: {time.time() - load_time}s\")"
      ],
      "execution_count": 13,
      "outputs": []
    },
    {
      "cell_type": "markdown",
      "metadata": {
        "id": "B3wNfSaqsoXo"
      },
      "source": [
        "### FastText, GreedySearch, RepeatModification, StopwordModification"
      ]
    },
    {
      "cell_type": "code",
      "metadata": {
        "id": "Sm04Ri8WFGHy",
        "colab": {
          "base_uri": "https://localhost:8080/"
        },
        "outputId": "80397f63-92b4-42ff-fb0d-fcc0a92919b4"
      },
      "source": [
        "\n",
        "# We're going to use our word swap class as the attack transformation.\n",
        "transformation = Swapper()\n",
        "\n",
        "constraints = [RepeatModification(),\n",
        "               StopwordModification()]\n",
        "\n",
        "search_method = GreedySearch()\n",
        "\n",
        "goal_function = UntargetedClassification(model_wrapper)\n",
        "\n",
        "# Now, let's make the attack from the 4 components:\n",
        "attack = Attack(goal_function, constraints, transformation, search_method)\n",
        "\n",
        "dataset = HuggingFaceDataset(\"glue\", \"qqp\", \"validation\") # Change the dataset"
      ],
      "execution_count": 20,
      "outputs": [
        {
          "output_type": "stream",
          "text": [
            "\u001b[34;1mtextattack\u001b[0m: Unknown if model of class <class 'transformers.models.distilbert.modeling_distilbert.DistilBertForSequenceClassification'> compatible with goal function <class 'textattack.goal_functions.classification.untargeted_classification.UntargetedClassification'>.\n",
            "Reusing dataset glue (/root/.cache/huggingface/datasets/glue/qqp/1.0.0/dacbe3125aa31d7f70367a07a8a9e72a5a0bfeb5fc42e75c9db75b96da6053ad)\n",
            "\u001b[34;1mtextattack\u001b[0m: Loading \u001b[94mdatasets\u001b[0m dataset \u001b[94mglue\u001b[0m, subset \u001b[94mqqp\u001b[0m, split \u001b[94mvalidation\u001b[0m.\n"
          ],
          "name": "stderr"
        }
      ]
    },
    {
      "cell_type": "code",
      "metadata": {
        "id": "fClGtuFxFM5f",
        "colab": {
          "base_uri": "https://localhost:8080/",
          "height": 1000
        },
        "outputId": "b6846a51-d043-4b38-a49a-e28b1c8ed560"
      },
      "source": [
        "attack_stats(attack, dataset, 25)"
      ],
      "execution_count": 17,
      "outputs": [
        {
          "output_type": "stream",
          "text": [
            "\n",
            "  0%|          | 0/25 [00:00<?, ?it/s]\u001b[A"
          ],
          "name": "stderr"
        },
        {
          "output_type": "stream",
          "text": [
            "Attack(\n",
            "  (search_method): GreedySearch\n",
            "  (goal_function):  UntargetedClassification\n",
            "  (transformation):  Swapper\n",
            "  (constraints): \n",
            "    (0): RepeatModification\n",
            "    (1): StopwordModification\n",
            "  (is_black_box):  True\n",
            ")\n"
          ],
          "name": "stdout"
        },
        {
          "output_type": "display_data",
          "data": {
            "text/html": [
              "<font color = red>Not_duplicate (99%)</font> --> <font color = green>Duplicate (52%)</font><br><font color = bold><font color = underline>Question1</font></font>: <font color = red>Why</font> are <font color = red>African-Americans</font> so <font color = red>beautiful</font>?\n",
              "<font color = bold><font color = underline>Question2</font></font>: <font color = red>Why</font> are <font color = red>hispanics</font> so <font color = red>beautiful</font>?<br><font color = bold><font color = underline>Question1</font></font>: <font color = green>Modesty</font> are <font color = green>Americans</font> so <font color = green>dutiful</font>?\n",
              "<font color = bold><font color = underline>Question2</font></font>: <font color = green>Modesty</font> are <font color = green>hispanic</font> so <font color = green>dutiful</font>?"
            ],
            "text/plain": [
              "<IPython.core.display.HTML object>"
            ]
          },
          "metadata": {
            "tags": []
          }
        },
        {
          "output_type": "stream",
          "text": [
            "\n",
            "  4%|▍         | 1/25 [00:00<00:12,  1.88it/s]\u001b[A\n",
            "[Succeeded / Failed / Total] 1 / 0 / 1:   4%|▍         | 1/25 [00:00<00:13,  1.85it/s]\u001b[A"
          ],
          "name": "stderr"
        },
        {
          "output_type": "display_data",
          "data": {
            "text/html": [
              "<font color = red>Not_duplicate (100%)</font> --> <font color = red>[FAILED]</font><br><font color = bold><font color = underline>Question1</font></font>: I want to pursue PhD in Computer Science about social network,what is the open problem in social networks?\n",
              "<font color = bold><font color = underline>Question2</font></font>: I handle social media for a non-profit. Should I start going to social media networking events? Are there any good ones in the bay area?"
            ],
            "text/plain": [
              "<IPython.core.display.HTML object>"
            ]
          },
          "metadata": {
            "tags": []
          }
        },
        {
          "output_type": "stream",
          "text": [
            "\n",
            "[Succeeded / Failed / Total] 1 / 0 / 1:   8%|▊         | 2/25 [00:07<01:28,  3.84s/it]\u001b[A\n",
            "[Succeeded / Failed / Total] 1 / 1 / 2:   8%|▊         | 2/25 [00:07<01:28,  3.84s/it]\u001b[A"
          ],
          "name": "stderr"
        },
        {
          "output_type": "display_data",
          "data": {
            "text/html": [
              "<font color = green>Duplicate (92%)</font> --> <font color = red>Not_duplicate (92%)</font><br><font color = bold><font color = underline>Question1</font></font>: <font color = green>Is</font> there a reason why we should <font color = green>travel</font> <font color = green>alone</font>?\n",
              "<font color = bold><font color = underline>Question2</font></font>: What are some reasons to travel alone?<br><font color = bold><font color = underline>Question1</font></font>: <font color = red>Larva</font> there a reason why we should <font color = red>travelling</font> <font color = red>someone</font>?\n",
              "<font color = bold><font color = underline>Question2</font></font>: What are some reasons to travel alone?"
            ],
            "text/plain": [
              "<IPython.core.display.HTML object>"
            ]
          },
          "metadata": {
            "tags": []
          }
        },
        {
          "output_type": "stream",
          "text": [
            "\n",
            "[Succeeded / Failed / Total] 1 / 1 / 2:  12%|█▏        | 3/25 [00:08<00:59,  2.71s/it]\u001b[A\n",
            "[Succeeded / Failed / Total] 2 / 1 / 3:  12%|█▏        | 3/25 [00:08<00:59,  2.71s/it]\u001b[A"
          ],
          "name": "stderr"
        },
        {
          "output_type": "display_data",
          "data": {
            "text/html": [
              "<font color = red>Not_duplicate (100%)</font> --> <font color = red>[FAILED]</font><br><font color = bold><font color = underline>Question1</font></font>: Why are people so obsessed with having a girlfriend/boyfriend?\n",
              "<font color = bold><font color = underline>Question2</font></font>: How can a single male have a child?"
            ],
            "text/plain": [
              "<IPython.core.display.HTML object>"
            ]
          },
          "metadata": {
            "tags": []
          }
        },
        {
          "output_type": "stream",
          "text": [
            "\n",
            "[Succeeded / Failed / Total] 2 / 1 / 3:  16%|█▌        | 4/25 [00:08<00:46,  2.20s/it]\u001b[A\n",
            "[Succeeded / Failed / Total] 2 / 2 / 4:  16%|█▌        | 4/25 [00:08<00:46,  2.21s/it]\u001b[A"
          ],
          "name": "stderr"
        },
        {
          "output_type": "display_data",
          "data": {
            "text/html": [
              "<font color = red>Not_duplicate (99%)</font> --> <font color = green>Duplicate (56%)</font><br><font color = bold><font color = underline>Question1</font></font>: <font color = red>What</font> are some good baby girl names <font color = red>starting</font> with D?\n",
              "<font color = bold><font color = underline>Question2</font></font>: <font color = red>What</font> are some good baby girl names starting with D or H?<br><font color = bold><font color = underline>Question1</font></font>: <font color = green>Hihat</font> are some good baby girl names <font color = green>farting</font> with D?\n",
              "<font color = bold><font color = underline>Question2</font></font>: <font color = green>Hihat</font> are some good baby girl names starting with D or H?"
            ],
            "text/plain": [
              "<IPython.core.display.HTML object>"
            ]
          },
          "metadata": {
            "tags": []
          }
        },
        {
          "output_type": "stream",
          "text": [
            "\n",
            "[Succeeded / Failed / Total] 2 / 2 / 4:  20%|██        | 5/25 [00:09<00:37,  1.89s/it]\u001b[A\n",
            "[Succeeded / Failed / Total] 3 / 2 / 5:  20%|██        | 5/25 [00:09<00:37,  1.90s/it]\u001b[A"
          ],
          "name": "stderr"
        },
        {
          "output_type": "display_data",
          "data": {
            "text/html": [
              "<font color = green>Duplicate (97%)</font> --> <font color = red>Not_duplicate (91%)</font><br><font color = bold><font color = underline>Question1</font></font>: I am <font color = green>25</font> year old guy and never had a girlfriend. Is this weird?\n",
              "<font color = bold><font color = underline>Question2</font></font>: I am 25 years old. I have never had a girlfriend. Is something wrong with me?<br><font color = bold><font color = underline>Question1</font></font>: I am <font color = red>chmielnicki</font> year old guy and never had a girlfriend. Is this weird?\n",
              "<font color = bold><font color = underline>Question2</font></font>: I am 25 years old. I have never had a girlfriend. Is something wrong with me?"
            ],
            "text/plain": [
              "<IPython.core.display.HTML object>"
            ]
          },
          "metadata": {
            "tags": []
          }
        },
        {
          "output_type": "stream",
          "text": [
            "\n",
            "[Succeeded / Failed / Total] 3 / 2 / 5:  24%|██▍       | 6/25 [00:09<00:30,  1.63s/it]\u001b[A\n",
            "[Succeeded / Failed / Total] 4 / 2 / 6:  24%|██▍       | 6/25 [00:09<00:30,  1.63s/it]\u001b[A"
          ],
          "name": "stderr"
        },
        {
          "output_type": "display_data",
          "data": {
            "text/html": [
              "<font color = green>Duplicate (60%)</font> --> <font color = red>Not_duplicate (100%)</font><br><font color = bold><font color = underline>Question1</font></font>: \"What does a good <font color = green>answer</font> on Quora look like? What does it mean to \"\"be helpful\"\"?\"\n",
              "<font color = bold><font color = underline>Question2</font></font>: How do you write a good answer on Quora?<br><font color = bold><font color = underline>Question1</font></font>: \"What does a good <font color = red>question</font> on Quora look like? What does it mean to \"\"be helpful\"\"?\"\n",
              "<font color = bold><font color = underline>Question2</font></font>: How do you write a good answer on Quora?"
            ],
            "text/plain": [
              "<IPython.core.display.HTML object>"
            ]
          },
          "metadata": {
            "tags": []
          }
        },
        {
          "output_type": "stream",
          "text": [
            "\n",
            "[Succeeded / Failed / Total] 4 / 2 / 6:  28%|██▊       | 7/25 [00:10<00:25,  1.43s/it]\u001b[A\n",
            "[Succeeded / Failed / Total] 5 / 2 / 7:  28%|██▊       | 7/25 [00:10<00:25,  1.43s/it]\u001b[A"
          ],
          "name": "stderr"
        },
        {
          "output_type": "display_data",
          "data": {
            "text/html": [
              "<font color = green>Duplicate (58%)</font> --> <font color = red>Not_duplicate (96%)</font><br><font color = bold><font color = underline>Question1</font></font>: What are the best things to do in <font color = green>Hong</font> Kong?\n",
              "<font color = bold><font color = underline>Question2</font></font>: What is the best thing in Hong Kong?<br><font color = bold><font color = underline>Question1</font></font>: What are the best things to do in <font color = red>Yong</font> Kong?\n",
              "<font color = bold><font color = underline>Question2</font></font>: What is the best thing in Hong Kong?"
            ],
            "text/plain": [
              "<IPython.core.display.HTML object>"
            ]
          },
          "metadata": {
            "tags": []
          }
        },
        {
          "output_type": "stream",
          "text": [
            "\n",
            "[Succeeded / Failed / Total] 5 / 2 / 7:  32%|███▏      | 8/25 [00:10<00:21,  1.27s/it]\u001b[A\n",
            "[Succeeded / Failed / Total] 6 / 2 / 8:  32%|███▏      | 8/25 [00:10<00:21,  1.28s/it]\u001b[A"
          ],
          "name": "stderr"
        },
        {
          "output_type": "display_data",
          "data": {
            "text/html": [
              "<font color = green>Duplicate (88%)</font> --> <font color = gray>[SKIPPED]</font><br><font color = bold><font color = underline>Question1</font></font>: Why is my life getting so complicated?\n",
              "<font color = bold><font color = underline>Question2</font></font>: Why is my life so complicated?"
            ],
            "text/plain": [
              "<IPython.core.display.HTML object>"
            ]
          },
          "metadata": {
            "tags": []
          }
        },
        {
          "output_type": "stream",
          "text": [
            "\n",
            "[Succeeded / Failed / Total] 6 / 2 / 9:  36%|███▌      | 9/25 [00:10<00:18,  1.14s/it]\u001b[A"
          ],
          "name": "stderr"
        },
        {
          "output_type": "display_data",
          "data": {
            "text/html": [
              "<font color = red>Not_duplicate (100%)</font> --> <font color = red>[FAILED]</font><br><font color = bold><font color = underline>Question1</font></font>: Why should I crack Jee?\n",
              "<font color = bold><font color = underline>Question2</font></font>: Is it possible to get into IIMs with low marks in graduation and 12th?"
            ],
            "text/plain": [
              "<IPython.core.display.HTML object>"
            ]
          },
          "metadata": {
            "tags": []
          }
        },
        {
          "output_type": "stream",
          "text": [
            "\n",
            "[Succeeded / Failed / Total] 6 / 2 / 9:  40%|████      | 10/25 [00:11<00:16,  1.12s/it]\u001b[A\n",
            "[Succeeded / Failed / Total] 6 / 3 / 10:  40%|████      | 10/25 [00:11<00:16,  1.12s/it]\u001b[A"
          ],
          "name": "stderr"
        },
        {
          "output_type": "display_data",
          "data": {
            "text/html": [
              "<font color = red>Not_duplicate (99%)</font> --> <font color = green>Duplicate (80%)</font><br><font color = bold><font color = underline>Question1</font></font>: Can you TRANSLATE these to English <font color = red>language</font>?\n",
              "<font color = bold><font color = underline>Question2</font></font>: Can you translate this from Bengali to <font color = red>English</font> <font color = red>language</font>?<br><font color = bold><font color = underline>Question1</font></font>: Can you TRANSLATE these to English <font color = green>anguage</font>?\n",
              "<font color = bold><font color = underline>Question2</font></font>: Can you translate this from Bengali to <font color = green>Welsh</font> <font color = green>anguage</font>?"
            ],
            "text/plain": [
              "<IPython.core.display.HTML object>"
            ]
          },
          "metadata": {
            "tags": []
          }
        },
        {
          "output_type": "stream",
          "text": [
            "\n",
            "[Succeeded / Failed / Total] 7 / 3 / 11:  44%|████▍     | 11/25 [00:11<00:14,  1.05s/it]\u001b[A"
          ],
          "name": "stderr"
        },
        {
          "output_type": "display_data",
          "data": {
            "text/html": [
              "<font color = red>Not_duplicate (100%)</font> --> <font color = red>[FAILED]</font><br><font color = bold><font color = underline>Question1</font></font>: Can anyone tell shall mi mix mobile should be purchased or not?\n",
              "<font color = bold><font color = underline>Question2</font></font>: \"What did Voltaire mean when he said, \"\"God is a comedian playing to an audience that is too afraid to laugh\"\"?\""
            ],
            "text/plain": [
              "<IPython.core.display.HTML object>"
            ]
          },
          "metadata": {
            "tags": []
          }
        },
        {
          "output_type": "stream",
          "text": [
            "\n",
            "[Succeeded / Failed / Total] 7 / 3 / 11:  48%|████▊     | 12/25 [00:14<00:15,  1.18s/it]\u001b[A\n",
            "[Succeeded / Failed / Total] 7 / 4 / 12:  48%|████▊     | 12/25 [00:14<00:15,  1.18s/it]\u001b[A"
          ],
          "name": "stderr"
        },
        {
          "output_type": "display_data",
          "data": {
            "text/html": [
              "<font color = green>Duplicate (97%)</font> --> <font color = red>Not_duplicate (100%)</font><br><font color = bold><font color = underline>Question1</font></font>: Which is the best gaming laptop under 40k?\n",
              "<font color = bold><font color = underline>Question2</font></font>: Which is the best gaming laptop under <font color = green>40</font>,000 rs?<br><font color = bold><font color = underline>Question1</font></font>: Which is the best gaming laptop under 40k?\n",
              "<font color = bold><font color = underline>Question2</font></font>: Which is the best gaming laptop under <font color = red>undo</font>,000 rs?"
            ],
            "text/plain": [
              "<IPython.core.display.HTML object>"
            ]
          },
          "metadata": {
            "tags": []
          }
        },
        {
          "output_type": "stream",
          "text": [
            "\n",
            "[Succeeded / Failed / Total] 8 / 4 / 13:  52%|█████▏    | 13/25 [00:14<00:13,  1.10s/it]\u001b[A"
          ],
          "name": "stderr"
        },
        {
          "output_type": "display_data",
          "data": {
            "text/html": [
              "<font color = red>Not_duplicate (100%)</font> --> <font color = red>[FAILED]</font><br><font color = bold><font color = underline>Question1</font></font>: Why Tamil Nadu Universities are no good?\n",
              "<font color = bold><font color = underline>Question2</font></font>: Why are the 10th students able to score 100% in Tamil Nadu?"
            ],
            "text/plain": [
              "<IPython.core.display.HTML object>"
            ]
          },
          "metadata": {
            "tags": []
          }
        },
        {
          "output_type": "stream",
          "text": [
            "\n",
            "[Succeeded / Failed / Total] 8 / 4 / 13:  56%|█████▌    | 14/25 [00:15<00:12,  1.12s/it]\u001b[A\n",
            "[Succeeded / Failed / Total] 8 / 5 / 14:  56%|█████▌    | 14/25 [00:15<00:12,  1.12s/it]\u001b[A"
          ],
          "name": "stderr"
        },
        {
          "output_type": "display_data",
          "data": {
            "text/html": [
              "<font color = red>Not_duplicate (100%)</font> --> <font color = red>[FAILED]</font><br><font color = bold><font color = underline>Question1</font></font>: What is an easy way to clean toothpaste stains from a shirt without washing it?\n",
              "<font color = bold><font color = underline>Question2</font></font>: What are some ways to remove hard water stains from dishes?"
            ],
            "text/plain": [
              "<IPython.core.display.HTML object>"
            ]
          },
          "metadata": {
            "tags": []
          }
        },
        {
          "output_type": "stream",
          "text": [
            "\n",
            "[Succeeded / Failed / Total] 8 / 6 / 15:  60%|██████    | 15/25 [00:17<00:11,  1.18s/it]\u001b[A"
          ],
          "name": "stderr"
        },
        {
          "output_type": "display_data",
          "data": {
            "text/html": [
              "<font color = green>Duplicate (84%)</font> --> <font color = red>Not_duplicate (100%)</font><br><font color = bold><font color = underline>Question1</font></font>: What was the deadliest <font color = green>battle</font> in history?\n",
              "<font color = bold><font color = underline>Question2</font></font>: What was the bloodiest battle in history?<br><font color = bold><font color = underline>Question1</font></font>: What was the deadliest <font color = red>battlezone</font> in history?\n",
              "<font color = bold><font color = underline>Question2</font></font>: What was the bloodiest battle in history?"
            ],
            "text/plain": [
              "<IPython.core.display.HTML object>"
            ]
          },
          "metadata": {
            "tags": []
          }
        },
        {
          "output_type": "stream",
          "text": [
            "\n",
            "[Succeeded / Failed / Total] 8 / 6 / 15:  64%|██████▍   | 16/25 [00:17<00:10,  1.11s/it]\u001b[A\n",
            "[Succeeded / Failed / Total] 9 / 6 / 16:  64%|██████▍   | 16/25 [00:17<00:10,  1.11s/it]\u001b[A"
          ],
          "name": "stderr"
        },
        {
          "output_type": "display_data",
          "data": {
            "text/html": [
              "<font color = green>Duplicate (100%)</font> --> <font color = red>Not_duplicate (76%)</font><br><font color = bold><font color = underline>Question1</font></font>: What are your views about demonetisation in India?\n",
              "<font color = bold><font color = underline>Question2</font></font>: What do you <font color = green>think</font> about the ban on <font color = green>500</font> and <font color = green>1000</font> denomination notes in India?<br><font color = bold><font color = underline>Question1</font></font>: What are your views about demonetisation in India?\n",
              "<font color = bold><font color = underline>Question2</font></font>: What do you <font color = red>say</font> about the ban on <font color = red>adrenal</font> and <font color = red>papadopoulos</font> denomination notes in India?"
            ],
            "text/plain": [
              "<IPython.core.display.HTML object>"
            ]
          },
          "metadata": {
            "tags": []
          }
        },
        {
          "output_type": "stream",
          "text": [
            "\n",
            "[Succeeded / Failed / Total] 10 / 6 / 17:  68%|██████▊   | 17/25 [00:18<00:08,  1.08s/it]\u001b[A"
          ],
          "name": "stderr"
        },
        {
          "output_type": "display_data",
          "data": {
            "text/html": [
              "<font color = red>Not_duplicate (100%)</font> --> <font color = green>Duplicate (58%)</font><br><font color = bold><font color = underline>Question1</font></font>: What are the difference between polyester 210T and 210D?\n",
              "<font color = bold><font color = underline>Question2</font></font>: What is the difference between <font color = red>cotton</font> and polyester?<br><font color = bold><font color = underline>Question1</font></font>: What are the difference between polyester 210T and 210D?\n",
              "<font color = bold><font color = underline>Question2</font></font>: What is the difference between <font color = green>wootton</font> and polyester?"
            ],
            "text/plain": [
              "<IPython.core.display.HTML object>"
            ]
          },
          "metadata": {
            "tags": []
          }
        },
        {
          "output_type": "stream",
          "text": [
            "\n",
            "[Succeeded / Failed / Total] 10 / 6 / 17:  72%|███████▏  | 18/25 [00:18<00:07,  1.02s/it]\u001b[A\n",
            "[Succeeded / Failed / Total] 11 / 6 / 18:  72%|███████▏  | 18/25 [00:18<00:07,  1.03s/it]\u001b[A"
          ],
          "name": "stderr"
        },
        {
          "output_type": "display_data",
          "data": {
            "text/html": [
              "<font color = red>Not_duplicate (92%)</font> --> <font color = green>Duplicate (55%)</font><br><font color = bold><font color = underline>Question1</font></font>: Is FMS Delhi a good option for a MBA executive <font color = red>program</font>?\n",
              "<font color = bold><font color = underline>Question2</font></font>: Is FMS a good <font color = red>choice</font> for an MBA in <font color = red>HR</font>? <font color = red>Why</font> and why not?<br><font color = bold><font color = underline>Question1</font></font>: Is FMS Delhi a good option for a MBA executive <font color = green>prog</font>?\n",
              "<font color = bold><font color = underline>Question2</font></font>: Is FMS a good <font color = green>preference</font> for an MBA in <font color = green>GLORY</font>? <font color = green>Modesty</font> and why not?"
            ],
            "text/plain": [
              "<IPython.core.display.HTML object>"
            ]
          },
          "metadata": {
            "tags": []
          }
        },
        {
          "output_type": "stream",
          "text": [
            "\n",
            "[Succeeded / Failed / Total] 12 / 6 / 19:  76%|███████▌  | 19/25 [00:19<00:06,  1.01s/it]\u001b[A"
          ],
          "name": "stderr"
        },
        {
          "output_type": "display_data",
          "data": {
            "text/html": [
              "<font color = green>Duplicate (57%)</font> --> <font color = red>Not_duplicate (97%)</font><br><font color = bold><font color = underline>Question1</font></font>: Is it a bad time to buy a <font color = green>condo</font> or a house in the Bay Area in 2017?\n",
              "<font color = bold><font color = underline>Question2</font></font>: Would 2017 be a good time to buy a house in Bay Area?<br><font color = bold><font color = underline>Question1</font></font>: Is it a bad time to buy a <font color = red>mondo</font> or a house in the Bay Area in 2017?\n",
              "<font color = bold><font color = underline>Question2</font></font>: Would 2017 be a good time to buy a house in Bay Area?"
            ],
            "text/plain": [
              "<IPython.core.display.HTML object>"
            ]
          },
          "metadata": {
            "tags": []
          }
        },
        {
          "output_type": "stream",
          "text": [
            "\n",
            "[Succeeded / Failed / Total] 12 / 6 / 19:  80%|████████  | 20/25 [00:19<00:04,  1.03it/s]\u001b[A\n",
            "[Succeeded / Failed / Total] 13 / 6 / 20:  80%|████████  | 20/25 [00:19<00:04,  1.03it/s]\u001b[A"
          ],
          "name": "stderr"
        },
        {
          "output_type": "display_data",
          "data": {
            "text/html": [
              "<font color = red>Not_duplicate (100%)</font> --> <font color = red>[FAILED]</font><br><font color = bold><font color = underline>Question1</font></font>: How is vanilla extract made?\n",
              "<font color = bold><font color = underline>Question2</font></font>: How do you make sugar cookies without vanilla extract?"
            ],
            "text/plain": [
              "<IPython.core.display.HTML object>"
            ]
          },
          "metadata": {
            "tags": []
          }
        },
        {
          "output_type": "stream",
          "text": [
            "\n",
            "[Succeeded / Failed / Total] 13 / 7 / 21:  84%|████████▍ | 21/25 [00:20<00:03,  1.03it/s]\u001b[A"
          ],
          "name": "stderr"
        },
        {
          "output_type": "display_data",
          "data": {
            "text/html": [
              "<font color = green>Duplicate (100%)</font> --> <font color = red>Not_duplicate (75%)</font><br><font color = bold><font color = underline>Question1</font></font>: What is the <font color = green>Sahara</font>, and how do the average <font color = green>temperatures</font> there <font color = green>compare</font> to the <font color = green>ones</font> in the <font color = green>Patagonian</font> <font color = green>Desert</font>?\n",
              "<font color = bold><font color = underline>Question2</font></font>: What is the <font color = green>Sahara</font>, and how do the average <font color = green>temperatures</font> there <font color = green>compare</font> to the <font color = green>ones</font> in the <font color = green>Registan</font> <font color = green>Desert</font>?<br><font color = bold><font color = underline>Question1</font></font>: What is the <font color = red>Zahara</font>, and how do the average <font color = red>temperature</font> there <font color = red>comparing</font> to the <font color = red>cpes</font> in the <font color = red>Curonian</font> <font color = red>Savannas</font>?\n",
              "<font color = bold><font color = underline>Question2</font></font>: What is the <font color = red>Zahara</font>, and how do the average <font color = red>temperature</font> there <font color = red>comparing</font> to the <font color = red>cpes</font> in the <font color = red>Waziristan</font> <font color = red>Savannas</font>?"
            ],
            "text/plain": [
              "<IPython.core.display.HTML object>"
            ]
          },
          "metadata": {
            "tags": []
          }
        },
        {
          "output_type": "stream",
          "text": [
            "\n",
            "[Succeeded / Failed / Total] 13 / 7 / 21:  88%|████████▊ | 22/25 [00:22<00:03,  1.01s/it]\u001b[A\n",
            "[Succeeded / Failed / Total] 14 / 7 / 22:  88%|████████▊ | 22/25 [00:22<00:03,  1.01s/it]\u001b[A"
          ],
          "name": "stderr"
        },
        {
          "output_type": "display_data",
          "data": {
            "text/html": [
              "<font color = red>Not_duplicate (100%)</font> --> <font color = red>[FAILED]</font><br><font color = bold><font color = underline>Question1</font></font>: Why was the Roman Empire so successful?\n",
              "<font color = bold><font color = underline>Question2</font></font>: What are some of the rarely known facts about the Roman Empire?"
            ],
            "text/plain": [
              "<IPython.core.display.HTML object>"
            ]
          },
          "metadata": {
            "tags": []
          }
        },
        {
          "output_type": "stream",
          "text": [
            "\n",
            "[Succeeded / Failed / Total] 14 / 8 / 23:  92%|█████████▏| 23/25 [00:22<00:01,  1.01it/s]\u001b[A"
          ],
          "name": "stderr"
        },
        {
          "output_type": "display_data",
          "data": {
            "text/html": [
              "<font color = red>Not_duplicate (97%)</font> --> <font color = green>Duplicate (55%)</font><br><font color = bold><font color = underline>Question1</font></font>: Is it advisable to sent your cv to a professor with whom you are trying to make contact for graduate admission?\n",
              "<font color = bold><font color = underline>Question2</font></font>: <font color = red>How</font> does <font color = red>contacting</font> a professor before applying factor into graduate admissions?<br><font color = bold><font color = underline>Question1</font></font>: Is it advisable to sent your cv to a professor with whom you are trying to make contact for graduate admission?\n",
              "<font color = bold><font color = underline>Question2</font></font>: <font color = green>Kowtow</font> does <font color = green>contact</font> a professor before applying factor into graduate admissions?"
            ],
            "text/plain": [
              "<IPython.core.display.HTML object>"
            ]
          },
          "metadata": {
            "tags": []
          }
        },
        {
          "output_type": "stream",
          "text": [
            "\n",
            "[Succeeded / Failed / Total] 14 / 8 / 23:  96%|█████████▌| 24/25 [00:23<00:00,  1.03it/s]\u001b[A\n",
            "[Succeeded / Failed / Total] 15 / 8 / 24:  96%|█████████▌| 24/25 [00:23<00:00,  1.02it/s]\u001b[A"
          ],
          "name": "stderr"
        },
        {
          "output_type": "display_data",
          "data": {
            "text/html": [
              "<font color = red>Not_duplicate (100%)</font> --> <font color = red>[FAILED]</font><br><font color = bold><font color = underline>Question1</font></font>: Does a RainTPL syntax extension for Sublime Text exist? Where can I download it?\n",
              "<font color = bold><font color = underline>Question2</font></font>: How do I hide the find/replace bar in Sublime Text 2?"
            ],
            "text/plain": [
              "<IPython.core.display.HTML object>"
            ]
          },
          "metadata": {
            "tags": []
          }
        },
        {
          "output_type": "stream",
          "text": [
            "\n",
            "[Succeeded / Failed / Total] 15 / 9 / 25: 100%|██████████| 25/25 [00:26<00:00,  1.05s/it]\u001b[A"
          ],
          "name": "stderr"
        },
        {
          "output_type": "display_data",
          "data": {
            "text/html": [
              "<font color = red>Not_duplicate (100%)</font> --> <font color = green>Duplicate (84%)</font><br><font color = bold><font color = underline>Question1</font></font>: What is the average <font color = red>salary</font> of a <font color = red>microbiologist</font> in India?\n",
              "<font color = bold><font color = underline>Question2</font></font>: What is the <font color = red>salary</font> for a <font color = red>psychologist</font> in <font color = red>india</font>?<br><font color = bold><font color = underline>Question1</font></font>: What is the average <font color = green>spending</font> of a <font color = green>neurobiologist</font> in India?\n",
              "<font color = bold><font color = underline>Question2</font></font>: What is the <font color = green>spending</font> for a <font color = green>pathologist</font> in <font color = green>pakistan</font>?"
            ],
            "text/plain": [
              "<IPython.core.display.HTML object>"
            ]
          },
          "metadata": {
            "tags": []
          }
        },
        {
          "output_type": "stream",
          "text": [
            "\n",
            "[Succeeded / Failed / Total] 15 / 9 / 25: : 26it [00:26,  1.03s/it]                      \u001b[A\n",
            "[Succeeded / Failed / Total] 16 / 9 / 26: : 26it [00:26,  1.03s/it]"
          ],
          "name": "stderr"
        },
        {
          "output_type": "stream",
          "text": [
            "+-------------------------------+--------+\n",
            "| Attack Results                |        |\n",
            "+-------------------------------+--------+\n",
            "| Number of successful attacks: | 16     |\n",
            "| Number of failed attacks:     | 9      |\n",
            "| Number of skipped attacks:    | 1      |\n",
            "| Original accuracy:            | 96.15% |\n",
            "| Accuracy under attack:        | 34.62% |\n",
            "| Attack success rate:          | 64.0%  |\n",
            "| Average perturbed word %:     | 14.94% |\n",
            "| Average num. words per input: | 22.5   |\n",
            "| Avg num queries:              | 72.0   |\n",
            "+-------------------------------+--------+"
          ],
          "name": "stdout"
        },
        {
          "output_type": "stream",
          "text": [
            "\n",
            "\u001b[34;1mtextattack\u001b[0m: Attack time: 26.786608934402466s\n"
          ],
          "name": "stderr"
        }
      ]
    },
    {
      "cell_type": "markdown",
      "metadata": {
        "id": "JjjKuY91FPqf"
      },
      "source": [
        "# Framing word2vec attack"
      ]
    },
    {
      "cell_type": "code",
      "metadata": {
        "id": "pp7L4aR6FRVP"
      },
      "source": [
        "class Swapper_(WordSwap): # For word2vec\n",
        "    \"\"\" Transforms an input by replacing any word with its most similar counterpart\n",
        "    \"\"\"\n",
        "\n",
        "    # We don't need a constructor, since our class doesn't require any parameters.\n",
        "\n",
        "    def _get_replacement_words(self, word):\n",
        "        \"\"\" Returns 'banana', no matter what 'word' was originally.\n",
        "\n",
        "            Returns a list with one item, since `_get_replacement_words` is intended to\n",
        "                return a list of candidate replacement words.\n",
        "        \"\"\"\n",
        "        if word in model2.wv.key_to_index:\n",
        "            for i in range(10):\n",
        "                if word.lower() in model2.wv.most_similar(word)[i][0].lower():\n",
        "                    continue\n",
        "                elif word.isupper():\n",
        "                    return [model2.wv.most_similar(word)[i][0].upper()]\n",
        "                elif word[0].isupper():\n",
        "                    return [model2.wv.most_similar(word)[i][0].capitalize()]\n",
        "                else:\n",
        "                    return [model2.wv.most_similar(word)[i][0]]\n",
        "        else:\n",
        "            return [word]"
      ],
      "execution_count": 18,
      "outputs": []
    },
    {
      "cell_type": "markdown",
      "metadata": {
        "id": "ZPjjq1FGs0Vs"
      },
      "source": [
        "### Word2vec, GreedySearch, RepeatModification, StopwordModification"
      ]
    },
    {
      "cell_type": "code",
      "metadata": {
        "id": "enY5C3DDBwlo",
        "colab": {
          "base_uri": "https://localhost:8080/"
        },
        "outputId": "940010ef-0f80-4ed4-8b77-9db5b20c7a3d"
      },
      "source": [
        "# We're going to use our word swap class as the attack transformation.\n",
        "transformation = Swapper_()\n",
        "\n",
        "constraints = [RepeatModification(),\n",
        "               StopwordModification()]\n",
        "\n",
        "search_method = GreedySearch()\n",
        "\n",
        "goal_function = UntargetedClassification(model_wrapper)\n",
        "\n",
        "# Now, let's make the attack from the 4 components:\n",
        "attack = Attack(goal_function, constraints, transformation, search_method)\n"
      ],
      "execution_count": 21,
      "outputs": [
        {
          "output_type": "stream",
          "text": [
            "\u001b[34;1mtextattack\u001b[0m: Unknown if model of class <class 'transformers.models.distilbert.modeling_distilbert.DistilBertForSequenceClassification'> compatible with goal function <class 'textattack.goal_functions.classification.untargeted_classification.UntargetedClassification'>.\n"
          ],
          "name": "stderr"
        }
      ]
    },
    {
      "cell_type": "code",
      "metadata": {
        "colab": {
          "base_uri": "https://localhost:8080/"
        },
        "id": "axfmmqOUlwtU",
        "outputId": "1e901585-1381-4b52-e7cc-dbc848d3dd2c"
      },
      "source": [
        "print(attack)"
      ],
      "execution_count": 22,
      "outputs": [
        {
          "output_type": "stream",
          "text": [
            "Attack(\n",
            "  (search_method): GreedySearch\n",
            "  (goal_function):  UntargetedClassification\n",
            "  (transformation):  Swapper_\n",
            "  (constraints): \n",
            "    (0): RepeatModification\n",
            "    (1): StopwordModification\n",
            "  (is_black_box):  True\n",
            ")\n"
          ],
          "name": "stdout"
        }
      ]
    },
    {
      "cell_type": "code",
      "metadata": {
        "id": "FhK7my9wFTcj",
        "colab": {
          "base_uri": "https://localhost:8080/",
          "height": 1000
        },
        "outputId": "e7932953-0b80-43ba-a790-7ca509b31c54"
      },
      "source": [
        "attack_stats(attack, dataset, 25)"
      ],
      "execution_count": 23,
      "outputs": [
        {
          "output_type": "stream",
          "text": [
            "\n",
            "  0%|          | 0/25 [00:00<?, ?it/s]\u001b[A"
          ],
          "name": "stderr"
        },
        {
          "output_type": "stream",
          "text": [
            "Attack(\n",
            "  (search_method): GreedySearch\n",
            "  (goal_function):  UntargetedClassification\n",
            "  (transformation):  Swapper_\n",
            "  (constraints): \n",
            "    (0): RepeatModification\n",
            "    (1): StopwordModification\n",
            "  (is_black_box):  True\n",
            ")\n"
          ],
          "name": "stdout"
        },
        {
          "output_type": "display_data",
          "data": {
            "text/html": [
              "<font color = red>Not_duplicate (99%)</font> --> <font color = green>Duplicate (88%)</font><br><font color = bold><font color = underline>Question1</font></font>: Why are African-Americans so beautiful?\n",
              "<font color = bold><font color = underline>Question2</font></font>: Why are <font color = red>hispanics</font> so beautiful?<br><font color = bold><font color = underline>Question1</font></font>: Why are African-Americans so beautiful?\n",
              "<font color = bold><font color = underline>Question2</font></font>: Why are <font color = green>colombians</font> so beautiful?"
            ],
            "text/plain": [
              "<IPython.core.display.HTML object>"
            ]
          },
          "metadata": {
            "tags": []
          }
        },
        {
          "output_type": "stream",
          "text": [
            "\n",
            "[Succeeded / Failed / Total] 1 / 0 / 1:   4%|▍         | 1/25 [00:00<00:01, 17.64it/s]\u001b[A"
          ],
          "name": "stderr"
        },
        {
          "output_type": "display_data",
          "data": {
            "text/html": [
              "<font color = red>Not_duplicate (100%)</font> --> <font color = red>[FAILED]</font><br><font color = bold><font color = underline>Question1</font></font>: I want to pursue PhD in Computer Science about social network,what is the open problem in social networks?\n",
              "<font color = bold><font color = underline>Question2</font></font>: I handle social media for a non-profit. Should I start going to social media networking events? Are there any good ones in the bay area?"
            ],
            "text/plain": [
              "<IPython.core.display.HTML object>"
            ]
          },
          "metadata": {
            "tags": []
          }
        },
        {
          "output_type": "stream",
          "text": [
            "\n",
            "[Succeeded / Failed / Total] 1 / 0 / 1:   8%|▊         | 2/25 [00:02<00:32,  1.43s/it]\u001b[A\n",
            "[Succeeded / Failed / Total] 1 / 1 / 2:   8%|▊         | 2/25 [00:02<00:32,  1.43s/it]\u001b[A"
          ],
          "name": "stderr"
        },
        {
          "output_type": "display_data",
          "data": {
            "text/html": [
              "<font color = green>Duplicate (92%)</font> --> <font color = red>Not_duplicate (100%)</font><br><font color = bold><font color = underline>Question1</font></font>: Is there a reason why we should <font color = green>travel</font> <font color = green>alone</font>?\n",
              "<font color = bold><font color = underline>Question2</font></font>: What are some reasons to travel alone?<br><font color = bold><font color = underline>Question1</font></font>: Is there a reason why we should <font color = red>interplanetary</font> <font color = red>eternally</font>?\n",
              "<font color = bold><font color = underline>Question2</font></font>: What are some reasons to travel alone?"
            ],
            "text/plain": [
              "<IPython.core.display.HTML object>"
            ]
          },
          "metadata": {
            "tags": []
          }
        },
        {
          "output_type": "stream",
          "text": [
            "\n",
            "[Succeeded / Failed / Total] 2 / 1 / 3:  12%|█▏        | 3/25 [00:03<00:22,  1.01s/it]\u001b[A"
          ],
          "name": "stderr"
        },
        {
          "output_type": "display_data",
          "data": {
            "text/html": [
              "<font color = red>Not_duplicate (100%)</font> --> <font color = red>[FAILED]</font><br><font color = bold><font color = underline>Question1</font></font>: Why are people so obsessed with having a girlfriend/boyfriend?\n",
              "<font color = bold><font color = underline>Question2</font></font>: How can a single male have a child?"
            ],
            "text/plain": [
              "<IPython.core.display.HTML object>"
            ]
          },
          "metadata": {
            "tags": []
          }
        },
        {
          "output_type": "stream",
          "text": [
            "\n",
            "[Succeeded / Failed / Total] 2 / 1 / 3:  16%|█▌        | 4/25 [00:03<00:17,  1.18it/s]\u001b[A\n",
            "[Succeeded / Failed / Total] 2 / 2 / 4:  16%|█▌        | 4/25 [00:03<00:17,  1.18it/s]\u001b[A"
          ],
          "name": "stderr"
        },
        {
          "output_type": "display_data",
          "data": {
            "text/html": [
              "<font color = red>Not_duplicate (99%)</font> --> <font color = red>[FAILED]</font><br><font color = bold><font color = underline>Question1</font></font>: What are some good baby girl names starting with D?\n",
              "<font color = bold><font color = underline>Question2</font></font>: What are some good baby girl names starting with D or H?"
            ],
            "text/plain": [
              "<IPython.core.display.HTML object>"
            ]
          },
          "metadata": {
            "tags": []
          }
        },
        {
          "output_type": "stream",
          "text": [
            "\n",
            "[Succeeded / Failed / Total] 2 / 3 / 5:  20%|██        | 5/25 [00:04<00:16,  1.23it/s]\u001b[A"
          ],
          "name": "stderr"
        },
        {
          "output_type": "display_data",
          "data": {
            "text/html": [
              "<font color = green>Duplicate (97%)</font> --> <font color = red>Not_duplicate (72%)</font><br><font color = bold><font color = underline>Question1</font></font>: I am 25 year old guy and never had a girlfriend. Is this <font color = green>weird</font>?\n",
              "<font color = bold><font color = underline>Question2</font></font>: I am 25 years old. I have never had a girlfriend. Is something wrong with me?<br><font color = bold><font color = underline>Question1</font></font>: I am 25 year old guy and never had a girlfriend. Is this <font color = red>yankovic</font>?\n",
              "<font color = bold><font color = underline>Question2</font></font>: I am 25 years old. I have never had a girlfriend. Is something wrong with me?"
            ],
            "text/plain": [
              "<IPython.core.display.HTML object>"
            ]
          },
          "metadata": {
            "tags": []
          }
        },
        {
          "output_type": "stream",
          "text": [
            "\n",
            "[Succeeded / Failed / Total] 2 / 3 / 5:  24%|██▍       | 6/25 [00:04<00:13,  1.42it/s]\u001b[A\n",
            "[Succeeded / Failed / Total] 3 / 3 / 6:  24%|██▍       | 6/25 [00:04<00:13,  1.42it/s]\u001b[A"
          ],
          "name": "stderr"
        },
        {
          "output_type": "display_data",
          "data": {
            "text/html": [
              "<font color = green>Duplicate (60%)</font> --> <font color = red>Not_duplicate (100%)</font><br><font color = bold><font color = underline>Question1</font></font>: \"What does a good answer on Quora look like? What does it mean to \"\"be helpful\"\"?\"\n",
              "<font color = bold><font color = underline>Question2</font></font>: How do you write a good <font color = green>answer</font> on Quora?<br><font color = bold><font color = underline>Question1</font></font>: \"What does a good answer on Quora look like? What does it mean to \"\"be helpful\"\"?\"\n",
              "<font color = bold><font color = underline>Question2</font></font>: How do you write a good <font color = red>preclear</font> on Quora?"
            ],
            "text/plain": [
              "<IPython.core.display.HTML object>"
            ]
          },
          "metadata": {
            "tags": []
          }
        },
        {
          "output_type": "stream",
          "text": [
            "\n",
            "[Succeeded / Failed / Total] 4 / 3 / 7:  28%|██▊       | 7/25 [00:04<00:11,  1.61it/s]\u001b[A"
          ],
          "name": "stderr"
        },
        {
          "output_type": "display_data",
          "data": {
            "text/html": [
              "<font color = green>Duplicate (58%)</font> --> <font color = red>Not_duplicate (98%)</font><br><font color = bold><font color = underline>Question1</font></font>: What are the best things to do in Hong Kong?\n",
              "<font color = bold><font color = underline>Question2</font></font>: What is the <font color = green>best</font> thing in Hong Kong?<br><font color = bold><font color = underline>Question1</font></font>: What are the best things to do in Hong Kong?\n",
              "<font color = bold><font color = underline>Question2</font></font>: What is the <font color = red>filmfare</font> thing in Hong Kong?"
            ],
            "text/plain": [
              "<IPython.core.display.HTML object>"
            ]
          },
          "metadata": {
            "tags": []
          }
        },
        {
          "output_type": "stream",
          "text": [
            "\n",
            "[Succeeded / Failed / Total] 4 / 3 / 7:  32%|███▏      | 8/25 [00:04<00:09,  1.81it/s]\u001b[A\n",
            "[Succeeded / Failed / Total] 5 / 3 / 8:  32%|███▏      | 8/25 [00:04<00:09,  1.81it/s]\u001b[A"
          ],
          "name": "stderr"
        },
        {
          "output_type": "display_data",
          "data": {
            "text/html": [
              "<font color = green>Duplicate (88%)</font> --> <font color = gray>[SKIPPED]</font><br><font color = bold><font color = underline>Question1</font></font>: Why is my life getting so complicated?\n",
              "<font color = bold><font color = underline>Question2</font></font>: Why is my life so complicated?"
            ],
            "text/plain": [
              "<IPython.core.display.HTML object>"
            ]
          },
          "metadata": {
            "tags": []
          }
        },
        {
          "output_type": "stream",
          "text": [
            "\n",
            "[Succeeded / Failed / Total] 5 / 3 / 9:  36%|███▌      | 9/25 [00:04<00:07,  2.02it/s]\u001b[A"
          ],
          "name": "stderr"
        },
        {
          "output_type": "display_data",
          "data": {
            "text/html": [
              "<font color = red>Not_duplicate (100%)</font> --> <font color = red>[FAILED]</font><br><font color = bold><font color = underline>Question1</font></font>: Why should I crack Jee?\n",
              "<font color = bold><font color = underline>Question2</font></font>: Is it possible to get into IIMs with low marks in graduation and 12th?"
            ],
            "text/plain": [
              "<IPython.core.display.HTML object>"
            ]
          },
          "metadata": {
            "tags": []
          }
        },
        {
          "output_type": "stream",
          "text": [
            "\n",
            "[Succeeded / Failed / Total] 5 / 3 / 9:  40%|████      | 10/25 [00:04<00:07,  2.12it/s]\u001b[A\n",
            "[Succeeded / Failed / Total] 5 / 4 / 10:  40%|████      | 10/25 [00:04<00:07,  2.11it/s]\u001b[A"
          ],
          "name": "stderr"
        },
        {
          "output_type": "display_data",
          "data": {
            "text/html": [
              "<font color = red>Not_duplicate (99%)</font> --> <font color = red>[FAILED]</font><br><font color = bold><font color = underline>Question1</font></font>: Can you TRANSLATE these to English language?\n",
              "<font color = bold><font color = underline>Question2</font></font>: Can you translate this from Bengali to English language?"
            ],
            "text/plain": [
              "<IPython.core.display.HTML object>"
            ]
          },
          "metadata": {
            "tags": []
          }
        },
        {
          "output_type": "stream",
          "text": [
            "\n",
            "[Succeeded / Failed / Total] 5 / 5 / 11:  44%|████▍     | 11/25 [00:04<00:06,  2.27it/s]\u001b[A"
          ],
          "name": "stderr"
        },
        {
          "output_type": "display_data",
          "data": {
            "text/html": [
              "<font color = red>Not_duplicate (100%)</font> --> <font color = red>[FAILED]</font><br><font color = bold><font color = underline>Question1</font></font>: Can anyone tell shall mi mix mobile should be purchased or not?\n",
              "<font color = bold><font color = underline>Question2</font></font>: \"What did Voltaire mean when he said, \"\"God is a comedian playing to an audience that is too afraid to laugh\"\"?\""
            ],
            "text/plain": [
              "<IPython.core.display.HTML object>"
            ]
          },
          "metadata": {
            "tags": []
          }
        },
        {
          "output_type": "stream",
          "text": [
            "\n",
            "[Succeeded / Failed / Total] 5 / 5 / 11:  48%|████▊     | 12/25 [00:06<00:06,  1.95it/s]\u001b[A\n",
            "[Succeeded / Failed / Total] 5 / 6 / 12:  48%|████▊     | 12/25 [00:06<00:06,  1.95it/s]\u001b[A"
          ],
          "name": "stderr"
        },
        {
          "output_type": "display_data",
          "data": {
            "text/html": [
              "<font color = green>Duplicate (97%)</font> --> <font color = red>Not_duplicate (53%)</font><br><font color = bold><font color = underline>Question1</font></font>: Which is the <font color = green>best</font> gaming laptop under 40k?\n",
              "<font color = bold><font color = underline>Question2</font></font>: Which is the best gaming laptop under 40,000 <font color = green>rs</font>?<br><font color = bold><font color = underline>Question1</font></font>: Which is the <font color = red>filmfare</font> gaming laptop under 40k?\n",
              "<font color = bold><font color = underline>Question2</font></font>: Which is the best gaming laptop under 40,000 <font color = red>kbyte</font>?"
            ],
            "text/plain": [
              "<IPython.core.display.HTML object>"
            ]
          },
          "metadata": {
            "tags": []
          }
        },
        {
          "output_type": "stream",
          "text": [
            "\n",
            "[Succeeded / Failed / Total] 6 / 6 / 13:  52%|█████▏    | 13/25 [00:06<00:05,  2.06it/s]\u001b[A"
          ],
          "name": "stderr"
        },
        {
          "output_type": "display_data",
          "data": {
            "text/html": [
              "<font color = red>Not_duplicate (100%)</font> --> <font color = red>[FAILED]</font><br><font color = bold><font color = underline>Question1</font></font>: Why Tamil Nadu Universities are no good?\n",
              "<font color = bold><font color = underline>Question2</font></font>: Why are the 10th students able to score 100% in Tamil Nadu?"
            ],
            "text/plain": [
              "<IPython.core.display.HTML object>"
            ]
          },
          "metadata": {
            "tags": []
          }
        },
        {
          "output_type": "stream",
          "text": [
            "\n",
            "[Succeeded / Failed / Total] 6 / 6 / 13:  56%|█████▌    | 14/25 [00:06<00:05,  2.17it/s]\u001b[A\n",
            "[Succeeded / Failed / Total] 6 / 7 / 14:  56%|█████▌    | 14/25 [00:06<00:05,  2.16it/s]\u001b[A"
          ],
          "name": "stderr"
        },
        {
          "output_type": "display_data",
          "data": {
            "text/html": [
              "<font color = red>Not_duplicate (100%)</font> --> <font color = red>[FAILED]</font><br><font color = bold><font color = underline>Question1</font></font>: What is an easy way to clean toothpaste stains from a shirt without washing it?\n",
              "<font color = bold><font color = underline>Question2</font></font>: What are some ways to remove hard water stains from dishes?"
            ],
            "text/plain": [
              "<IPython.core.display.HTML object>"
            ]
          },
          "metadata": {
            "tags": []
          }
        },
        {
          "output_type": "stream",
          "text": [
            "\n",
            "[Succeeded / Failed / Total] 6 / 8 / 15:  60%|██████    | 15/25 [00:07<00:05,  1.95it/s]\u001b[A"
          ],
          "name": "stderr"
        },
        {
          "output_type": "display_data",
          "data": {
            "text/html": [
              "<font color = green>Duplicate (84%)</font> --> <font color = red>Not_duplicate (100%)</font><br><font color = bold><font color = underline>Question1</font></font>: What was the deadliest battle in history?\n",
              "<font color = bold><font color = underline>Question2</font></font>: What was the bloodiest <font color = green>battle</font> in history?<br><font color = bold><font color = underline>Question1</font></font>: What was the deadliest battle in history?\n",
              "<font color = bold><font color = underline>Question2</font></font>: What was the bloodiest <font color = red>chancellorsville</font> in history?"
            ],
            "text/plain": [
              "<IPython.core.display.HTML object>"
            ]
          },
          "metadata": {
            "tags": []
          }
        },
        {
          "output_type": "stream",
          "text": [
            "\n",
            "[Succeeded / Failed / Total] 6 / 8 / 15:  64%|██████▍   | 16/25 [00:07<00:04,  2.05it/s]\u001b[A\n",
            "[Succeeded / Failed / Total] 7 / 8 / 16:  64%|██████▍   | 16/25 [00:07<00:04,  2.05it/s]\u001b[A"
          ],
          "name": "stderr"
        },
        {
          "output_type": "display_data",
          "data": {
            "text/html": [
              "<font color = green>Duplicate (100%)</font> --> <font color = red>[FAILED]</font><br><font color = bold><font color = underline>Question1</font></font>: What are your views about demonetisation in India?\n",
              "<font color = bold><font color = underline>Question2</font></font>: What do you think about the ban on 500 and 1000 denomination notes in India?"
            ],
            "text/plain": [
              "<IPython.core.display.HTML object>"
            ]
          },
          "metadata": {
            "tags": []
          }
        },
        {
          "output_type": "stream",
          "text": [
            "\n",
            "[Succeeded / Failed / Total] 7 / 9 / 17:  68%|██████▊   | 17/25 [00:08<00:03,  2.12it/s]\u001b[A"
          ],
          "name": "stderr"
        },
        {
          "output_type": "display_data",
          "data": {
            "text/html": [
              "<font color = red>Not_duplicate (100%)</font> --> <font color = red>[FAILED]</font><br><font color = bold><font color = underline>Question1</font></font>: What are the difference between polyester 210T and 210D?\n",
              "<font color = bold><font color = underline>Question2</font></font>: What is the difference between cotton and polyester?"
            ],
            "text/plain": [
              "<IPython.core.display.HTML object>"
            ]
          },
          "metadata": {
            "tags": []
          }
        },
        {
          "output_type": "stream",
          "text": [
            "\n",
            "[Succeeded / Failed / Total] 7 / 9 / 17:  72%|███████▏  | 18/25 [00:08<00:03,  2.18it/s]\u001b[A\n",
            "[Succeeded / Failed / Total] 7 / 10 / 18:  72%|███████▏  | 18/25 [00:08<00:03,  2.18it/s]\u001b[A"
          ],
          "name": "stderr"
        },
        {
          "output_type": "display_data",
          "data": {
            "text/html": [
              "<font color = red>Not_duplicate (92%)</font> --> <font color = red>[FAILED]</font><br><font color = bold><font color = underline>Question1</font></font>: Is FMS Delhi a good option for a MBA executive program?\n",
              "<font color = bold><font color = underline>Question2</font></font>: Is FMS a good choice for an MBA in HR? Why and why not?"
            ],
            "text/plain": [
              "<IPython.core.display.HTML object>"
            ]
          },
          "metadata": {
            "tags": []
          }
        },
        {
          "output_type": "stream",
          "text": [
            "\n",
            "[Succeeded / Failed / Total] 7 / 11 / 19:  76%|███████▌  | 19/25 [00:08<00:02,  2.22it/s]\u001b[A"
          ],
          "name": "stderr"
        },
        {
          "output_type": "display_data",
          "data": {
            "text/html": [
              "<font color = green>Duplicate (57%)</font> --> <font color = red>Not_duplicate (91%)</font><br><font color = bold><font color = underline>Question1</font></font>: Is it a bad time to buy a condo or a <font color = green>house</font> in the Bay Area in 2017?\n",
              "<font color = bold><font color = underline>Question2</font></font>: Would 2017 be a good time to buy a house in Bay Area?<br><font color = bold><font color = underline>Question1</font></font>: Is it a bad time to buy a condo or a <font color = red>commons</font> in the Bay Area in 2017?\n",
              "<font color = bold><font color = underline>Question2</font></font>: Would 2017 be a good time to buy a house in Bay Area?"
            ],
            "text/plain": [
              "<IPython.core.display.HTML object>"
            ]
          },
          "metadata": {
            "tags": []
          }
        },
        {
          "output_type": "stream",
          "text": [
            "\n",
            "[Succeeded / Failed / Total] 7 / 11 / 19:  80%|████████  | 20/25 [00:08<00:02,  2.31it/s]\u001b[A\n",
            "[Succeeded / Failed / Total] 8 / 11 / 20:  80%|████████  | 20/25 [00:08<00:02,  2.30it/s]\u001b[A"
          ],
          "name": "stderr"
        },
        {
          "output_type": "display_data",
          "data": {
            "text/html": [
              "<font color = red>Not_duplicate (100%)</font> --> <font color = red>[FAILED]</font><br><font color = bold><font color = underline>Question1</font></font>: How is vanilla extract made?\n",
              "<font color = bold><font color = underline>Question2</font></font>: How do you make sugar cookies without vanilla extract?"
            ],
            "text/plain": [
              "<IPython.core.display.HTML object>"
            ]
          },
          "metadata": {
            "tags": []
          }
        },
        {
          "output_type": "stream",
          "text": [
            "\n",
            "[Succeeded / Failed / Total] 8 / 12 / 21:  84%|████████▍ | 21/25 [00:09<00:01,  2.27it/s]\u001b[A"
          ],
          "name": "stderr"
        },
        {
          "output_type": "display_data",
          "data": {
            "text/html": [
              "<font color = green>Duplicate (100%)</font> --> <font color = red>[FAILED]</font><br><font color = bold><font color = underline>Question1</font></font>: What is the Sahara, and how do the average temperatures there compare to the ones in the Patagonian Desert?\n",
              "<font color = bold><font color = underline>Question2</font></font>: What is the Sahara, and how do the average temperatures there compare to the ones in the Registan Desert?"
            ],
            "text/plain": [
              "<IPython.core.display.HTML object>"
            ]
          },
          "metadata": {
            "tags": []
          }
        },
        {
          "output_type": "stream",
          "text": [
            "\n",
            "[Succeeded / Failed / Total] 8 / 12 / 21:  88%|████████▊ | 22/25 [00:09<00:01,  2.26it/s]\u001b[A\n",
            "[Succeeded / Failed / Total] 8 / 13 / 22:  88%|████████▊ | 22/25 [00:09<00:01,  2.26it/s]\u001b[A"
          ],
          "name": "stderr"
        },
        {
          "output_type": "display_data",
          "data": {
            "text/html": [
              "<font color = red>Not_duplicate (100%)</font> --> <font color = red>[FAILED]</font><br><font color = bold><font color = underline>Question1</font></font>: Why was the Roman Empire so successful?\n",
              "<font color = bold><font color = underline>Question2</font></font>: What are some of the rarely known facts about the Roman Empire?"
            ],
            "text/plain": [
              "<IPython.core.display.HTML object>"
            ]
          },
          "metadata": {
            "tags": []
          }
        },
        {
          "output_type": "stream",
          "text": [
            "\n",
            "[Succeeded / Failed / Total] 8 / 14 / 23:  92%|█████████▏| 23/25 [00:09<00:00,  2.32it/s]\u001b[A"
          ],
          "name": "stderr"
        },
        {
          "output_type": "display_data",
          "data": {
            "text/html": [
              "<font color = red>Not_duplicate (97%)</font> --> <font color = red>[FAILED]</font><br><font color = bold><font color = underline>Question1</font></font>: Is it advisable to sent your cv to a professor with whom you are trying to make contact for graduate admission?\n",
              "<font color = bold><font color = underline>Question2</font></font>: How does contacting a professor before applying factor into graduate admissions?"
            ],
            "text/plain": [
              "<IPython.core.display.HTML object>"
            ]
          },
          "metadata": {
            "tags": []
          }
        },
        {
          "output_type": "stream",
          "text": [
            "\n",
            "[Succeeded / Failed / Total] 8 / 14 / 23:  96%|█████████▌| 24/25 [00:11<00:00,  2.09it/s]\u001b[A\n",
            "[Succeeded / Failed / Total] 8 / 15 / 24:  96%|█████████▌| 24/25 [00:11<00:00,  2.09it/s]\u001b[A"
          ],
          "name": "stderr"
        },
        {
          "output_type": "display_data",
          "data": {
            "text/html": [
              "<font color = red>Not_duplicate (100%)</font> --> <font color = red>[FAILED]</font><br><font color = bold><font color = underline>Question1</font></font>: Does a RainTPL syntax extension for Sublime Text exist? Where can I download it?\n",
              "<font color = bold><font color = underline>Question2</font></font>: How do I hide the find/replace bar in Sublime Text 2?"
            ],
            "text/plain": [
              "<IPython.core.display.HTML object>"
            ]
          },
          "metadata": {
            "tags": []
          }
        },
        {
          "output_type": "stream",
          "text": [
            "\n",
            "[Succeeded / Failed / Total] 8 / 16 / 25: 100%|██████████| 25/25 [00:11<00:00,  2.09it/s]\u001b[A"
          ],
          "name": "stderr"
        },
        {
          "output_type": "display_data",
          "data": {
            "text/html": [
              "<font color = red>Not_duplicate (100%)</font> --> <font color = red>[FAILED]</font><br><font color = bold><font color = underline>Question1</font></font>: What is the average salary of a microbiologist in India?\n",
              "<font color = bold><font color = underline>Question2</font></font>: What is the salary for a psychologist in india?"
            ],
            "text/plain": [
              "<IPython.core.display.HTML object>"
            ]
          },
          "metadata": {
            "tags": []
          }
        },
        {
          "output_type": "stream",
          "text": [
            "\n",
            "[Succeeded / Failed / Total] 8 / 16 / 25: : 26it [00:12,  2.13it/s]                      \u001b[A\n",
            "[Succeeded / Failed / Total] 8 / 17 / 26: : 26it [00:12,  2.13it/s]"
          ],
          "name": "stderr"
        },
        {
          "output_type": "stream",
          "text": [
            "+-------------------------------+--------+\n",
            "| Attack Results                |        |\n",
            "+-------------------------------+--------+\n",
            "| Number of successful attacks: | 8      |\n",
            "| Number of failed attacks:     | 17     |\n",
            "| Number of skipped attacks:    | 1      |\n",
            "| Original accuracy:            | 96.15% |\n",
            "| Accuracy under attack:        | 65.38% |\n",
            "| Attack success rate:          | 32.0%  |\n",
            "| Average perturbed word %:     | 7.11%  |\n",
            "| Average num. words per input: | 22.5   |\n",
            "| Avg num queries:              | 38.84  |\n",
            "+-------------------------------+--------+"
          ],
          "name": "stdout"
        },
        {
          "output_type": "stream",
          "text": [
            "\n",
            "\u001b[34;1mtextattack\u001b[0m: Attack time: 12.236904859542847s\n"
          ],
          "name": "stderr"
        }
      ]
    },
    {
      "cell_type": "markdown",
      "metadata": {
        "id": "Q8odOqt_MctY"
      },
      "source": [
        "### Framing Glove attack"
      ]
    },
    {
      "cell_type": "code",
      "metadata": {
        "id": "d4dI_hK_MXdH"
      },
      "source": [
        "from textattack.transformations import WordSwap\n",
        "\n",
        "class Swapper__(WordSwap): # For glove\n",
        "    \"\"\" Transforms an input by replacing any word with its most similar counterpart\n",
        "    \"\"\"\n",
        "\n",
        "    # We don't need a constructor, since our class doesn't require any parameters.\n",
        "\n",
        "    def _get_replacement_words(self, word):\n",
        "        \"\"\" Returns 'banana', no matter what 'word' was originally.\n",
        "\n",
        "            Returns a list with one item, since `_get_replacement_words` is intended to\n",
        "                return a list of candidate replacement words.\n",
        "        \"\"\"\n",
        "        if word in model3.key_to_index:\n",
        "            for i in range(10):\n",
        "                if word.lower() in model3.most_similar(word)[i][0].lower():\n",
        "                    continue\n",
        "                elif word.isupper():\n",
        "                    return [model3.most_similar(word)[i][0].upper()]\n",
        "                elif word[0].isupper():\n",
        "                    return [model3.most_similar(word)[i][0].capitalize()]\n",
        "                else:\n",
        "                    return [model3.most_similar(word)[i][0]]\n",
        "        else:\n",
        "            return [word]"
      ],
      "execution_count": 24,
      "outputs": []
    },
    {
      "cell_type": "markdown",
      "metadata": {
        "id": "fh2g_oH5s9cK"
      },
      "source": [
        "### Glove, GreedySearch, RepeatModification, StopwordModification"
      ]
    },
    {
      "cell_type": "code",
      "metadata": {
        "colab": {
          "base_uri": "https://localhost:8080/"
        },
        "id": "TSxsdoTqNmYM",
        "outputId": "0def7dbd-ab93-4bfb-bf0a-83442ff198b2"
      },
      "source": [
        "# We're going to use our word swap class as the attack transformation.\n",
        "transformation = Swapper__()\n",
        "\n",
        "constraints = [RepeatModification(),\n",
        "               StopwordModification()]\n",
        "\n",
        "search_method = GreedySearch()\n",
        "\n",
        "goal_function = UntargetedClassification(model_wrapper)\n",
        "\n",
        "# Now, let's make the attack from the 4 components:\n",
        "attack = Attack(goal_function, constraints, transformation, search_method)"
      ],
      "execution_count": 25,
      "outputs": [
        {
          "output_type": "stream",
          "text": [
            "\u001b[34;1mtextattack\u001b[0m: Unknown if model of class <class 'transformers.models.distilbert.modeling_distilbert.DistilBertForSequenceClassification'> compatible with goal function <class 'textattack.goal_functions.classification.untargeted_classification.UntargetedClassification'>.\n"
          ],
          "name": "stderr"
        }
      ]
    },
    {
      "cell_type": "code",
      "metadata": {
        "colab": {
          "base_uri": "https://localhost:8080/"
        },
        "id": "yipMMe1VNuRP",
        "outputId": "6b3d20ff-3dcd-4f1a-a2d0-bb9370efff6b"
      },
      "source": [
        "print(attack)"
      ],
      "execution_count": 26,
      "outputs": [
        {
          "output_type": "stream",
          "text": [
            "Attack(\n",
            "  (search_method): GreedySearch\n",
            "  (goal_function):  UntargetedClassification\n",
            "  (transformation):  Swapper__\n",
            "  (constraints): \n",
            "    (0): RepeatModification\n",
            "    (1): StopwordModification\n",
            "  (is_black_box):  True\n",
            ")\n"
          ],
          "name": "stdout"
        }
      ]
    },
    {
      "cell_type": "code",
      "metadata": {
        "colab": {
          "base_uri": "https://localhost:8080/",
          "height": 1000
        },
        "id": "cpWQXGpDN1SB",
        "outputId": "db2df947-1c81-4afa-ad80-56986b5606cd"
      },
      "source": [
        "attack_stats(attack, dataset, 25)"
      ],
      "execution_count": 27,
      "outputs": [
        {
          "output_type": "stream",
          "text": [
            "\n",
            "  0%|          | 0/25 [00:00<?, ?it/s]\u001b[A"
          ],
          "name": "stderr"
        },
        {
          "output_type": "stream",
          "text": [
            "Attack(\n",
            "  (search_method): GreedySearch\n",
            "  (goal_function):  UntargetedClassification\n",
            "  (transformation):  Swapper__\n",
            "  (constraints): \n",
            "    (0): RepeatModification\n",
            "    (1): StopwordModification\n",
            "  (is_black_box):  True\n",
            ")\n"
          ],
          "name": "stdout"
        },
        {
          "output_type": "display_data",
          "data": {
            "text/html": [
              "<font color = red>Not_duplicate (99%)</font> --> <font color = red>[FAILED]</font><br><font color = bold><font color = underline>Question1</font></font>: Why are African-Americans so beautiful?\n",
              "<font color = bold><font color = underline>Question2</font></font>: Why are hispanics so beautiful?"
            ],
            "text/plain": [
              "<IPython.core.display.HTML object>"
            ]
          },
          "metadata": {
            "tags": []
          }
        },
        {
          "output_type": "stream",
          "text": [
            "\n",
            "  4%|▍         | 1/25 [00:00<00:04,  5.13it/s]\u001b[A\n",
            "[Succeeded / Failed / Total] 0 / 1 / 1:   4%|▍         | 1/25 [00:00<00:04,  4.98it/s]\u001b[A"
          ],
          "name": "stderr"
        },
        {
          "output_type": "display_data",
          "data": {
            "text/html": [
              "<font color = red>Not_duplicate (100%)</font> --> <font color = red>[FAILED]</font><br><font color = bold><font color = underline>Question1</font></font>: I want to pursue PhD in Computer Science about social network,what is the open problem in social networks?\n",
              "<font color = bold><font color = underline>Question2</font></font>: I handle social media for a non-profit. Should I start going to social media networking events? Are there any good ones in the bay area?"
            ],
            "text/plain": [
              "<IPython.core.display.HTML object>"
            ]
          },
          "metadata": {
            "tags": []
          }
        },
        {
          "output_type": "stream",
          "text": [
            "\n",
            "[Succeeded / Failed / Total] 0 / 1 / 1:   8%|▊         | 2/25 [00:07<01:20,  3.51s/it]\u001b[A\n",
            "[Succeeded / Failed / Total] 0 / 2 / 2:   8%|▊         | 2/25 [00:07<01:20,  3.52s/it]\u001b[A"
          ],
          "name": "stderr"
        },
        {
          "output_type": "display_data",
          "data": {
            "text/html": [
              "<font color = green>Duplicate (92%)</font> --> <font color = red>Not_duplicate (100%)</font><br><font color = bold><font color = underline>Question1</font></font>: Is there a reason why we should travel <font color = green>alone</font>?\n",
              "<font color = bold><font color = underline>Question2</font></font>: What are some reasons to travel alone?<br><font color = bold><font color = underline>Question1</font></font>: Is there a reason why we should travel <font color = red>kukulcan</font>?\n",
              "<font color = bold><font color = underline>Question2</font></font>: What are some reasons to travel alone?"
            ],
            "text/plain": [
              "<IPython.core.display.HTML object>"
            ]
          },
          "metadata": {
            "tags": []
          }
        },
        {
          "output_type": "stream",
          "text": [
            "\n",
            "[Succeeded / Failed / Total] 0 / 2 / 2:  12%|█▏        | 3/25 [00:07<00:52,  2.41s/it]\u001b[A\n",
            "[Succeeded / Failed / Total] 1 / 2 / 3:  12%|█▏        | 3/25 [00:07<00:53,  2.41s/it]\u001b[A"
          ],
          "name": "stderr"
        },
        {
          "output_type": "display_data",
          "data": {
            "text/html": [
              "<font color = red>Not_duplicate (100%)</font> --> <font color = red>[FAILED]</font><br><font color = bold><font color = underline>Question1</font></font>: Why are people so obsessed with having a girlfriend/boyfriend?\n",
              "<font color = bold><font color = underline>Question2</font></font>: How can a single male have a child?"
            ],
            "text/plain": [
              "<IPython.core.display.HTML object>"
            ]
          },
          "metadata": {
            "tags": []
          }
        },
        {
          "output_type": "stream",
          "text": [
            "\n",
            "[Succeeded / Failed / Total] 1 / 2 / 3:  16%|█▌        | 4/25 [00:08<00:42,  2.02s/it]\u001b[A\n",
            "[Succeeded / Failed / Total] 1 / 3 / 4:  16%|█▌        | 4/25 [00:08<00:42,  2.03s/it]\u001b[A"
          ],
          "name": "stderr"
        },
        {
          "output_type": "display_data",
          "data": {
            "text/html": [
              "<font color = red>Not_duplicate (99%)</font> --> <font color = green>Duplicate (54%)</font><br><font color = bold><font color = underline>Question1</font></font>: What are some good baby girl names <font color = red>starting</font> with D?\n",
              "<font color = bold><font color = underline>Question2</font></font>: What are some <font color = red>good</font> baby girl <font color = red>names</font> starting with D or H?<br><font color = bold><font color = underline>Question1</font></font>: What are some good baby girl names <font color = green>bedard</font> with D?\n",
              "<font color = bold><font color = underline>Question2</font></font>: What are some <font color = green>benimens</font> baby girl <font color = green>name</font> starting with D or H?"
            ],
            "text/plain": [
              "<IPython.core.display.HTML object>"
            ]
          },
          "metadata": {
            "tags": []
          }
        },
        {
          "output_type": "stream",
          "text": [
            "\n",
            "[Succeeded / Failed / Total] 1 / 3 / 4:  20%|██        | 5/25 [00:08<00:35,  1.77s/it]\u001b[A\n",
            "[Succeeded / Failed / Total] 2 / 3 / 5:  20%|██        | 5/25 [00:08<00:35,  1.78s/it]\u001b[A"
          ],
          "name": "stderr"
        },
        {
          "output_type": "display_data",
          "data": {
            "text/html": [
              "<font color = green>Duplicate (97%)</font> --> <font color = red>Not_duplicate (96%)</font><br><font color = bold><font color = underline>Question1</font></font>: I am 25 year old guy and <font color = green>never</font> had a <font color = green>girlfriend</font>. Is this weird?\n",
              "<font color = bold><font color = underline>Question2</font></font>: I am 25 years old. I have never had a girlfriend. Is something wrong with me?<br><font color = bold><font color = underline>Question1</font></font>: I am 25 year old guy and <font color = red>actually</font> had a <font color = red>boyfriend</font>. Is this weird?\n",
              "<font color = bold><font color = underline>Question2</font></font>: I am 25 years old. I have never had a girlfriend. Is something wrong with me?"
            ],
            "text/plain": [
              "<IPython.core.display.HTML object>"
            ]
          },
          "metadata": {
            "tags": []
          }
        },
        {
          "output_type": "stream",
          "text": [
            "\n",
            "[Succeeded / Failed / Total] 2 / 3 / 5:  24%|██▍       | 6/25 [00:09<00:30,  1.59s/it]\u001b[A\n",
            "[Succeeded / Failed / Total] 3 / 3 / 6:  24%|██▍       | 6/25 [00:09<00:30,  1.59s/it]\u001b[A"
          ],
          "name": "stderr"
        },
        {
          "output_type": "display_data",
          "data": {
            "text/html": [
              "<font color = green>Duplicate (60%)</font> --> <font color = red>Not_duplicate (100%)</font><br><font color = bold><font color = underline>Question1</font></font>: \"What does a good <font color = green>answer</font> on Quora look like? What does it mean to \"\"be helpful\"\"?\"\n",
              "<font color = bold><font color = underline>Question2</font></font>: How do you write a good answer on Quora?<br><font color = bold><font color = underline>Question1</font></font>: \"What does a good <font color = red>questions</font> on Quora look like? What does it mean to \"\"be helpful\"\"?\"\n",
              "<font color = bold><font color = underline>Question2</font></font>: How do you write a good answer on Quora?"
            ],
            "text/plain": [
              "<IPython.core.display.HTML object>"
            ]
          },
          "metadata": {
            "tags": []
          }
        },
        {
          "output_type": "stream",
          "text": [
            "\n",
            "[Succeeded / Failed / Total] 3 / 3 / 6:  28%|██▊       | 7/25 [00:09<00:25,  1.40s/it]\u001b[A\n",
            "[Succeeded / Failed / Total] 4 / 3 / 7:  28%|██▊       | 7/25 [00:09<00:25,  1.41s/it]\u001b[A"
          ],
          "name": "stderr"
        },
        {
          "output_type": "display_data",
          "data": {
            "text/html": [
              "<font color = green>Duplicate (58%)</font> --> <font color = red>Not_duplicate (99%)</font><br><font color = bold><font color = underline>Question1</font></font>: What are the best things to do in Hong Kong?\n",
              "<font color = bold><font color = underline>Question2</font></font>: What is the <font color = green>best</font> thing in Hong Kong?<br><font color = bold><font color = underline>Question1</font></font>: What are the best things to do in Hong Kong?\n",
              "<font color = bold><font color = underline>Question2</font></font>: What is the <font color = red>rnb</font> thing in Hong Kong?"
            ],
            "text/plain": [
              "<IPython.core.display.HTML object>"
            ]
          },
          "metadata": {
            "tags": []
          }
        },
        {
          "output_type": "stream",
          "text": [
            "\n",
            "[Succeeded / Failed / Total] 4 / 3 / 7:  32%|███▏      | 8/25 [00:09<00:21,  1.25s/it]\u001b[A\n",
            "[Succeeded / Failed / Total] 5 / 3 / 8:  32%|███▏      | 8/25 [00:09<00:21,  1.25s/it]\u001b[A"
          ],
          "name": "stderr"
        },
        {
          "output_type": "display_data",
          "data": {
            "text/html": [
              "<font color = green>Duplicate (88%)</font> --> <font color = gray>[SKIPPED]</font><br><font color = bold><font color = underline>Question1</font></font>: Why is my life getting so complicated?\n",
              "<font color = bold><font color = underline>Question2</font></font>: Why is my life so complicated?"
            ],
            "text/plain": [
              "<IPython.core.display.HTML object>"
            ]
          },
          "metadata": {
            "tags": []
          }
        },
        {
          "output_type": "stream",
          "text": [
            "\n",
            "[Succeeded / Failed / Total] 5 / 3 / 9:  36%|███▌      | 9/25 [00:10<00:17,  1.11s/it]\u001b[A"
          ],
          "name": "stderr"
        },
        {
          "output_type": "display_data",
          "data": {
            "text/html": [
              "<font color = red>Not_duplicate (100%)</font> --> <font color = red>[FAILED]</font><br><font color = bold><font color = underline>Question1</font></font>: Why should I crack Jee?\n",
              "<font color = bold><font color = underline>Question2</font></font>: Is it possible to get into IIMs with low marks in graduation and 12th?"
            ],
            "text/plain": [
              "<IPython.core.display.HTML object>"
            ]
          },
          "metadata": {
            "tags": []
          }
        },
        {
          "output_type": "stream",
          "text": [
            "\n",
            "[Succeeded / Failed / Total] 5 / 3 / 9:  40%|████      | 10/25 [00:10<00:15,  1.07s/it]\u001b[A\n",
            "[Succeeded / Failed / Total] 5 / 4 / 10:  40%|████      | 10/25 [00:10<00:15,  1.07s/it]\u001b[A"
          ],
          "name": "stderr"
        },
        {
          "output_type": "display_data",
          "data": {
            "text/html": [
              "<font color = red>Not_duplicate (99%)</font> --> <font color = red>[FAILED]</font><br><font color = bold><font color = underline>Question1</font></font>: Can you TRANSLATE these to English language?\n",
              "<font color = bold><font color = underline>Question2</font></font>: Can you translate this from Bengali to English language?"
            ],
            "text/plain": [
              "<IPython.core.display.HTML object>"
            ]
          },
          "metadata": {
            "tags": []
          }
        },
        {
          "output_type": "stream",
          "text": [
            "\n",
            "[Succeeded / Failed / Total] 5 / 5 / 11:  44%|████▍     | 11/25 [00:10<00:13,  1.01it/s]\u001b[A"
          ],
          "name": "stderr"
        },
        {
          "output_type": "display_data",
          "data": {
            "text/html": [
              "<font color = red>Not_duplicate (100%)</font> --> <font color = red>[FAILED]</font><br><font color = bold><font color = underline>Question1</font></font>: Can anyone tell shall mi mix mobile should be purchased or not?\n",
              "<font color = bold><font color = underline>Question2</font></font>: \"What did Voltaire mean when he said, \"\"God is a comedian playing to an audience that is too afraid to laugh\"\"?\""
            ],
            "text/plain": [
              "<IPython.core.display.HTML object>"
            ]
          },
          "metadata": {
            "tags": []
          }
        },
        {
          "output_type": "stream",
          "text": [
            "\n",
            "[Succeeded / Failed / Total] 5 / 5 / 11:  48%|████▊     | 12/25 [00:13<00:15,  1.16s/it]\u001b[A\n",
            "[Succeeded / Failed / Total] 5 / 6 / 12:  48%|████▊     | 12/25 [00:13<00:15,  1.16s/it]\u001b[A"
          ],
          "name": "stderr"
        },
        {
          "output_type": "display_data",
          "data": {
            "text/html": [
              "<font color = green>Duplicate (97%)</font> --> <font color = red>Not_duplicate (95%)</font><br><font color = bold><font color = underline>Question1</font></font>: Which is the best gaming <font color = green>laptop</font> under 40k?\n",
              "<font color = bold><font color = underline>Question2</font></font>: Which is the best gaming laptop under 40,000 rs?<br><font color = bold><font color = underline>Question1</font></font>: Which is the best gaming <font color = red>confetti</font> under 40k?\n",
              "<font color = bold><font color = underline>Question2</font></font>: Which is the best gaming laptop under 40,000 rs?"
            ],
            "text/plain": [
              "<IPython.core.display.HTML object>"
            ]
          },
          "metadata": {
            "tags": []
          }
        },
        {
          "output_type": "stream",
          "text": [
            "\n",
            "[Succeeded / Failed / Total] 6 / 6 / 13:  52%|█████▏    | 13/25 [00:14<00:13,  1.09s/it]\u001b[A"
          ],
          "name": "stderr"
        },
        {
          "output_type": "display_data",
          "data": {
            "text/html": [
              "<font color = red>Not_duplicate (100%)</font> --> <font color = red>[FAILED]</font><br><font color = bold><font color = underline>Question1</font></font>: Why Tamil Nadu Universities are no good?\n",
              "<font color = bold><font color = underline>Question2</font></font>: Why are the 10th students able to score 100% in Tamil Nadu?"
            ],
            "text/plain": [
              "<IPython.core.display.HTML object>"
            ]
          },
          "metadata": {
            "tags": []
          }
        },
        {
          "output_type": "stream",
          "text": [
            "\n",
            "[Succeeded / Failed / Total] 6 / 6 / 13:  56%|█████▌    | 14/25 [00:14<00:11,  1.04s/it]\u001b[A\n",
            "[Succeeded / Failed / Total] 6 / 7 / 14:  56%|█████▌    | 14/25 [00:14<00:11,  1.04s/it]\u001b[A"
          ],
          "name": "stderr"
        },
        {
          "output_type": "display_data",
          "data": {
            "text/html": [
              "<font color = red>Not_duplicate (100%)</font> --> <font color = red>[FAILED]</font><br><font color = bold><font color = underline>Question1</font></font>: What is an easy way to clean toothpaste stains from a shirt without washing it?\n",
              "<font color = bold><font color = underline>Question2</font></font>: What are some ways to remove hard water stains from dishes?"
            ],
            "text/plain": [
              "<IPython.core.display.HTML object>"
            ]
          },
          "metadata": {
            "tags": []
          }
        },
        {
          "output_type": "stream",
          "text": [
            "\n",
            "[Succeeded / Failed / Total] 6 / 8 / 15:  60%|██████    | 15/25 [00:17<00:11,  1.17s/it]\u001b[A"
          ],
          "name": "stderr"
        },
        {
          "output_type": "display_data",
          "data": {
            "text/html": [
              "<font color = green>Duplicate (84%)</font> --> <font color = red>Not_duplicate (100%)</font><br><font color = bold><font color = underline>Question1</font></font>: What was the deadliest <font color = green>battle</font> in history?\n",
              "<font color = bold><font color = underline>Question2</font></font>: What was the bloodiest battle in history?<br><font color = bold><font color = underline>Question1</font></font>: What was the deadliest <font color = red>agincourt</font> in history?\n",
              "<font color = bold><font color = underline>Question2</font></font>: What was the bloodiest battle in history?"
            ],
            "text/plain": [
              "<IPython.core.display.HTML object>"
            ]
          },
          "metadata": {
            "tags": []
          }
        },
        {
          "output_type": "stream",
          "text": [
            "\n",
            "[Succeeded / Failed / Total] 6 / 8 / 15:  64%|██████▍   | 16/25 [00:17<00:09,  1.11s/it]\u001b[A\n",
            "[Succeeded / Failed / Total] 7 / 8 / 16:  64%|██████▍   | 16/25 [00:17<00:09,  1.11s/it]\u001b[A"
          ],
          "name": "stderr"
        },
        {
          "output_type": "display_data",
          "data": {
            "text/html": [
              "<font color = green>Duplicate (100%)</font> --> <font color = red>Not_duplicate (70%)</font><br><font color = bold><font color = underline>Question1</font></font>: What are your <font color = green>views</font> about demonetisation in India?\n",
              "<font color = bold><font color = underline>Question2</font></font>: What do you <font color = green>think</font> about the <font color = green>ban</font> on 500 and 1000 <font color = green>denomination</font> <font color = green>notes</font> in India?<br><font color = bold><font color = underline>Question1</font></font>: What are your <font color = red>beliefs</font> about demonetisation in India?\n",
              "<font color = bold><font color = underline>Question2</font></font>: What do you <font color = red>want</font> about the <font color = red>ozone</font> on 500 and 1000 <font color = red>highest</font> <font color = red>note</font> in India?"
            ],
            "text/plain": [
              "<IPython.core.display.HTML object>"
            ]
          },
          "metadata": {
            "tags": []
          }
        },
        {
          "output_type": "stream",
          "text": [
            "\n",
            "[Succeeded / Failed / Total] 8 / 8 / 17:  68%|██████▊   | 17/25 [00:18<00:08,  1.07s/it]\u001b[A"
          ],
          "name": "stderr"
        },
        {
          "output_type": "display_data",
          "data": {
            "text/html": [
              "<font color = red>Not_duplicate (100%)</font> --> <font color = red>[FAILED]</font><br><font color = bold><font color = underline>Question1</font></font>: What are the difference between polyester 210T and 210D?\n",
              "<font color = bold><font color = underline>Question2</font></font>: What is the difference between cotton and polyester?"
            ],
            "text/plain": [
              "<IPython.core.display.HTML object>"
            ]
          },
          "metadata": {
            "tags": []
          }
        },
        {
          "output_type": "stream",
          "text": [
            "\n",
            "[Succeeded / Failed / Total] 8 / 8 / 17:  72%|███████▏  | 18/25 [00:18<00:07,  1.04s/it]\u001b[A\n",
            "[Succeeded / Failed / Total] 8 / 9 / 18:  72%|███████▏  | 18/25 [00:18<00:07,  1.04s/it]\u001b[A"
          ],
          "name": "stderr"
        },
        {
          "output_type": "display_data",
          "data": {
            "text/html": [
              "<font color = red>Not_duplicate (92%)</font> --> <font color = green>Duplicate (52%)</font><br><font color = bold><font color = underline>Question1</font></font>: Is FMS Delhi a <font color = red>good</font> <font color = red>option</font> for a MBA executive program?\n",
              "<font color = bold><font color = underline>Question2</font></font>: Is FMS a <font color = red>good</font> <font color = red>choice</font> for an MBA in HR? Why and why not?<br><font color = bold><font color = underline>Question1</font></font>: Is FMS Delhi a <font color = green>benimens</font> <font color = green>dhcp</font> for a MBA executive program?\n",
              "<font color = bold><font color = underline>Question2</font></font>: Is FMS a <font color = green>benimens</font> <font color = green>uhijini</font> for an MBA in HR? Why and why not?"
            ],
            "text/plain": [
              "<IPython.core.display.HTML object>"
            ]
          },
          "metadata": {
            "tags": []
          }
        },
        {
          "output_type": "stream",
          "text": [
            "\n",
            "[Succeeded / Failed / Total] 9 / 9 / 19:  76%|███████▌  | 19/25 [00:19<00:06,  1.01s/it]\u001b[A"
          ],
          "name": "stderr"
        },
        {
          "output_type": "display_data",
          "data": {
            "text/html": [
              "<font color = green>Duplicate (57%)</font> --> <font color = red>Not_duplicate (99%)</font><br><font color = bold><font color = underline>Question1</font></font>: Is it a bad time to buy a condo or a house in the Bay Area in 2017?\n",
              "<font color = bold><font color = underline>Question2</font></font>: Would 2017 be a good time to buy a <font color = green>house</font> in Bay Area?<br><font color = bold><font color = underline>Question1</font></font>: Is it a bad time to buy a condo or a house in the Bay Area in 2017?\n",
              "<font color = bold><font color = underline>Question2</font></font>: Would 2017 be a good time to buy a <font color = red>ajidica</font> in Bay Area?"
            ],
            "text/plain": [
              "<IPython.core.display.HTML object>"
            ]
          },
          "metadata": {
            "tags": []
          }
        },
        {
          "output_type": "stream",
          "text": [
            "\n",
            "[Succeeded / Failed / Total] 9 / 9 / 19:  80%|████████  | 20/25 [00:19<00:04,  1.03it/s]\u001b[A\n",
            "[Succeeded / Failed / Total] 10 / 9 / 20:  80%|████████  | 20/25 [00:19<00:04,  1.03it/s]\u001b[A"
          ],
          "name": "stderr"
        },
        {
          "output_type": "display_data",
          "data": {
            "text/html": [
              "<font color = red>Not_duplicate (100%)</font> --> <font color = red>[FAILED]</font><br><font color = bold><font color = underline>Question1</font></font>: How is vanilla extract made?\n",
              "<font color = bold><font color = underline>Question2</font></font>: How do you make sugar cookies without vanilla extract?"
            ],
            "text/plain": [
              "<IPython.core.display.HTML object>"
            ]
          },
          "metadata": {
            "tags": []
          }
        },
        {
          "output_type": "stream",
          "text": [
            "\n",
            "[Succeeded / Failed / Total] 10 / 10 / 21:  84%|████████▍ | 21/25 [00:20<00:03,  1.01it/s]\u001b[A"
          ],
          "name": "stderr"
        },
        {
          "output_type": "display_data",
          "data": {
            "text/html": [
              "<font color = green>Duplicate (100%)</font> --> <font color = red>[FAILED]</font><br><font color = bold><font color = underline>Question1</font></font>: What is the Sahara, and how do the average temperatures there compare to the ones in the Patagonian Desert?\n",
              "<font color = bold><font color = underline>Question2</font></font>: What is the Sahara, and how do the average temperatures there compare to the ones in the Registan Desert?"
            ],
            "text/plain": [
              "<IPython.core.display.HTML object>"
            ]
          },
          "metadata": {
            "tags": []
          }
        },
        {
          "output_type": "stream",
          "text": [
            "\n",
            "[Succeeded / Failed / Total] 10 / 10 / 21:  88%|████████▊ | 22/25 [00:21<00:02,  1.01it/s]\u001b[A\n",
            "[Succeeded / Failed / Total] 10 / 11 / 22:  88%|████████▊ | 22/25 [00:21<00:02,  1.01it/s]\u001b[A"
          ],
          "name": "stderr"
        },
        {
          "output_type": "display_data",
          "data": {
            "text/html": [
              "<font color = red>Not_duplicate (100%)</font> --> <font color = red>[FAILED]</font><br><font color = bold><font color = underline>Question1</font></font>: Why was the Roman Empire so successful?\n",
              "<font color = bold><font color = underline>Question2</font></font>: What are some of the rarely known facts about the Roman Empire?"
            ],
            "text/plain": [
              "<IPython.core.display.HTML object>"
            ]
          },
          "metadata": {
            "tags": []
          }
        },
        {
          "output_type": "stream",
          "text": [
            "\n",
            "[Succeeded / Failed / Total] 10 / 12 / 23:  92%|█████████▏| 23/25 [00:22<00:01,  1.04it/s]\u001b[A"
          ],
          "name": "stderr"
        },
        {
          "output_type": "display_data",
          "data": {
            "text/html": [
              "<font color = red>Not_duplicate (97%)</font> --> <font color = red>[FAILED]</font><br><font color = bold><font color = underline>Question1</font></font>: Is it advisable to sent your cv to a professor with whom you are trying to make contact for graduate admission?\n",
              "<font color = bold><font color = underline>Question2</font></font>: How does contacting a professor before applying factor into graduate admissions?"
            ],
            "text/plain": [
              "<IPython.core.display.HTML object>"
            ]
          },
          "metadata": {
            "tags": []
          }
        },
        {
          "output_type": "stream",
          "text": [
            "\n",
            "[Succeeded / Failed / Total] 10 / 12 / 23:  96%|█████████▌| 24/25 [00:26<00:01,  1.08s/it]\u001b[A\n",
            "[Succeeded / Failed / Total] 10 / 13 / 24:  96%|█████████▌| 24/25 [00:26<00:01,  1.09s/it]\u001b[A"
          ],
          "name": "stderr"
        },
        {
          "output_type": "display_data",
          "data": {
            "text/html": [
              "<font color = red>Not_duplicate (100%)</font> --> <font color = red>[FAILED]</font><br><font color = bold><font color = underline>Question1</font></font>: Does a RainTPL syntax extension for Sublime Text exist? Where can I download it?\n",
              "<font color = bold><font color = underline>Question2</font></font>: How do I hide the find/replace bar in Sublime Text 2?"
            ],
            "text/plain": [
              "<IPython.core.display.HTML object>"
            ]
          },
          "metadata": {
            "tags": []
          }
        },
        {
          "output_type": "stream",
          "text": [
            "\n",
            "[Succeeded / Failed / Total] 10 / 14 / 25: 100%|██████████| 25/25 [00:27<00:00,  1.09s/it]\u001b[A"
          ],
          "name": "stderr"
        },
        {
          "output_type": "display_data",
          "data": {
            "text/html": [
              "<font color = red>Not_duplicate (100%)</font> --> <font color = green>Duplicate (52%)</font><br><font color = bold><font color = underline>Question1</font></font>: What is the average salary of a microbiologist in India?\n",
              "<font color = bold><font color = underline>Question2</font></font>: What is the salary for a <font color = red>psychologist</font> in <font color = red>india</font>?<br><font color = bold><font color = underline>Question1</font></font>: What is the average salary of a microbiologist in India?\n",
              "<font color = bold><font color = underline>Question2</font></font>: What is the salary for a <font color = green>zoologist</font> in <font color = green>pakistan</font>?"
            ],
            "text/plain": [
              "<IPython.core.display.HTML object>"
            ]
          },
          "metadata": {
            "tags": []
          }
        },
        {
          "output_type": "stream",
          "text": [
            "\n",
            "[Succeeded / Failed / Total] 10 / 14 / 25: : 26it [00:27,  1.06s/it]                      \u001b[A\n",
            "[Succeeded / Failed / Total] 11 / 14 / 26: : 26it [00:27,  1.06s/it]"
          ],
          "name": "stderr"
        },
        {
          "output_type": "stream",
          "text": [
            "+-------------------------------+--------+\n",
            "| Attack Results                |        |\n",
            "+-------------------------------+--------+\n",
            "| Number of successful attacks: | 11     |\n",
            "| Number of failed attacks:     | 14     |\n",
            "| Number of skipped attacks:    | 1      |\n",
            "| Original accuracy:            | 96.15% |\n",
            "| Accuracy under attack:        | 53.85% |\n",
            "| Attack success rate:          | 44.0%  |\n",
            "| Average perturbed word %:     | 9.12%  |\n",
            "| Average num. words per input: | 22.5   |\n",
            "| Avg num queries:              | 37.36  |\n",
            "+-------------------------------+--------+"
          ],
          "name": "stdout"
        },
        {
          "output_type": "stream",
          "text": [
            "\n",
            "\u001b[34;1mtextattack\u001b[0m: Attack time: 27.587904930114746s\n"
          ],
          "name": "stderr"
        }
      ]
    },
    {
      "cell_type": "markdown",
      "metadata": {
        "id": "6Q2O4pIYtHCH"
      },
      "source": [
        "### FastText, GreedyWordSwapWIR, RepeatModification, StopwordModification"
      ]
    },
    {
      "cell_type": "code",
      "metadata": {
        "colab": {
          "base_uri": "https://localhost:8080/"
        },
        "id": "GKzdReqjl3GW",
        "outputId": "49fdc34d-1dfd-4d35-d016-cb7b6cb418ee"
      },
      "source": [
        "# We're going to use our word swap class as the attack transformation.\n",
        "transformation = Swapper()\n",
        "\n",
        "constraints = [RepeatModification(),\n",
        "               StopwordModification()]\n",
        "\n",
        "search_method = GreedyWordSwapWIR()\n",
        "\n",
        "goal_function = UntargetedClassification(model_wrapper)\n",
        "\n",
        "# Now, let's make the attack from the 4 components:\n",
        "attack = Attack(goal_function, constraints, transformation, search_method)"
      ],
      "execution_count": 28,
      "outputs": [
        {
          "output_type": "stream",
          "text": [
            "\u001b[34;1mtextattack\u001b[0m: Unknown if model of class <class 'transformers.models.distilbert.modeling_distilbert.DistilBertForSequenceClassification'> compatible with goal function <class 'textattack.goal_functions.classification.untargeted_classification.UntargetedClassification'>.\n"
          ],
          "name": "stderr"
        }
      ]
    },
    {
      "cell_type": "code",
      "metadata": {
        "colab": {
          "base_uri": "https://localhost:8080/"
        },
        "id": "pSqav791mqYf",
        "outputId": "554aaff0-bf3d-404f-840b-e4c253c63ed4"
      },
      "source": [
        "print(attack)"
      ],
      "execution_count": 29,
      "outputs": [
        {
          "output_type": "stream",
          "text": [
            "Attack(\n",
            "  (search_method): GreedyWordSwapWIR(\n",
            "    (wir_method):  unk\n",
            "  )\n",
            "  (goal_function):  UntargetedClassification\n",
            "  (transformation):  Swapper\n",
            "  (constraints): \n",
            "    (0): RepeatModification\n",
            "    (1): StopwordModification\n",
            "  (is_black_box):  True\n",
            ")\n"
          ],
          "name": "stdout"
        }
      ]
    },
    {
      "cell_type": "code",
      "metadata": {
        "colab": {
          "base_uri": "https://localhost:8080/",
          "height": 1000
        },
        "id": "7u4kS3Mjmxkf",
        "outputId": "d4c78079-3a0d-4b71-8f62-ff4163ebe26b"
      },
      "source": [
        "attack_stats(attack, dataset, 25)"
      ],
      "execution_count": 30,
      "outputs": [
        {
          "output_type": "stream",
          "text": [
            "\n",
            "  0%|          | 0/25 [00:00<?, ?it/s]\u001b[A"
          ],
          "name": "stderr"
        },
        {
          "output_type": "stream",
          "text": [
            "Attack(\n",
            "  (search_method): GreedyWordSwapWIR(\n",
            "    (wir_method):  unk\n",
            "  )\n",
            "  (goal_function):  UntargetedClassification\n",
            "  (transformation):  Swapper\n",
            "  (constraints): \n",
            "    (0): RepeatModification\n",
            "    (1): StopwordModification\n",
            "  (is_black_box):  True\n",
            ")\n"
          ],
          "name": "stdout"
        },
        {
          "output_type": "display_data",
          "data": {
            "text/html": [
              "<font color = red>Not_duplicate (99%)</font> --> <font color = red>[FAILED]</font><br><font color = bold><font color = underline>Question1</font></font>: Why are African-Americans so beautiful?\n",
              "<font color = bold><font color = underline>Question2</font></font>: Why are hispanics so beautiful?"
            ],
            "text/plain": [
              "<IPython.core.display.HTML object>"
            ]
          },
          "metadata": {
            "tags": []
          }
        },
        {
          "output_type": "stream",
          "text": [
            "\n",
            "  4%|▍         | 1/25 [00:00<00:04,  5.76it/s]\u001b[A\n",
            "[Succeeded / Failed / Total] 0 / 1 / 1:   4%|▍         | 1/25 [00:00<00:04,  5.48it/s]\u001b[A"
          ],
          "name": "stderr"
        },
        {
          "output_type": "display_data",
          "data": {
            "text/html": [
              "<font color = red>Not_duplicate (100%)</font> --> <font color = red>[FAILED]</font><br><font color = bold><font color = underline>Question1</font></font>: I want to pursue PhD in Computer Science about social network,what is the open problem in social networks?\n",
              "<font color = bold><font color = underline>Question2</font></font>: I handle social media for a non-profit. Should I start going to social media networking events? Are there any good ones in the bay area?"
            ],
            "text/plain": [
              "<IPython.core.display.HTML object>"
            ]
          },
          "metadata": {
            "tags": []
          }
        },
        {
          "output_type": "stream",
          "text": [
            "\n",
            "[Succeeded / Failed / Total] 0 / 1 / 1:   8%|▊         | 2/25 [00:01<00:11,  1.97it/s]\u001b[A\n",
            "[Succeeded / Failed / Total] 0 / 2 / 2:   8%|▊         | 2/25 [00:01<00:11,  1.96it/s]\u001b[A"
          ],
          "name": "stderr"
        },
        {
          "output_type": "display_data",
          "data": {
            "text/html": [
              "<font color = green>Duplicate (92%)</font> --> <font color = red>Not_duplicate (94%)</font><br><font color = bold><font color = underline>Question1</font></font>: <font color = green>Is</font> there a <font color = green>reason</font> why we should <font color = green>travel</font> <font color = green>alone</font>?\n",
              "<font color = bold><font color = underline>Question2</font></font>: What are some <font color = green>reasons</font> to travel alone?<br><font color = bold><font color = underline>Question1</font></font>: <font color = red>Larva</font> there a <font color = red>justification</font> why we should <font color = red>travelling</font> <font color = red>someone</font>?\n",
              "<font color = bold><font color = underline>Question2</font></font>: What are some <font color = red>reason</font> to travel alone?"
            ],
            "text/plain": [
              "<IPython.core.display.HTML object>"
            ]
          },
          "metadata": {
            "tags": []
          }
        },
        {
          "output_type": "stream",
          "text": [
            "\n",
            "[Succeeded / Failed / Total] 0 / 2 / 2:  12%|█▏        | 3/25 [00:01<00:09,  2.30it/s]\u001b[A\n",
            "[Succeeded / Failed / Total] 1 / 2 / 3:  12%|█▏        | 3/25 [00:01<00:09,  2.29it/s]\u001b[A"
          ],
          "name": "stderr"
        },
        {
          "output_type": "display_data",
          "data": {
            "text/html": [
              "<font color = red>Not_duplicate (100%)</font> --> <font color = red>[FAILED]</font><br><font color = bold><font color = underline>Question1</font></font>: Why are people so obsessed with having a girlfriend/boyfriend?\n",
              "<font color = bold><font color = underline>Question2</font></font>: How can a single male have a child?"
            ],
            "text/plain": [
              "<IPython.core.display.HTML object>"
            ]
          },
          "metadata": {
            "tags": []
          }
        },
        {
          "output_type": "stream",
          "text": [
            "\n",
            "[Succeeded / Failed / Total] 1 / 2 / 3:  16%|█▌        | 4/25 [00:01<00:08,  2.53it/s]\u001b[A\n",
            "[Succeeded / Failed / Total] 1 / 3 / 4:  16%|█▌        | 4/25 [00:01<00:08,  2.51it/s]\u001b[A"
          ],
          "name": "stderr"
        },
        {
          "output_type": "display_data",
          "data": {
            "text/html": [
              "<font color = red>Not_duplicate (99%)</font> --> <font color = green>Duplicate (72%)</font><br><font color = bold><font color = underline>Question1</font></font>: What are some good baby girl names <font color = red>starting</font> with D?\n",
              "<font color = bold><font color = underline>Question2</font></font>: <font color = red>What</font> are some good baby girl <font color = red>names</font> <font color = red>starting</font> with D or <font color = red>H</font>?<br><font color = bold><font color = underline>Question1</font></font>: What are some good baby girl names <font color = green>farting</font> with D?\n",
              "<font color = bold><font color = underline>Question2</font></font>: <font color = green>Hihat</font> are some good baby girl <font color = green>name</font> <font color = green>farting</font> with D or <font color = green>QUE</font>?"
            ],
            "text/plain": [
              "<IPython.core.display.HTML object>"
            ]
          },
          "metadata": {
            "tags": []
          }
        },
        {
          "output_type": "stream",
          "text": [
            "\n",
            "[Succeeded / Failed / Total] 1 / 3 / 4:  20%|██        | 5/25 [00:01<00:07,  2.76it/s]\u001b[A\n",
            "[Succeeded / Failed / Total] 2 / 3 / 5:  20%|██        | 5/25 [00:01<00:07,  2.75it/s]\u001b[A"
          ],
          "name": "stderr"
        },
        {
          "output_type": "display_data",
          "data": {
            "text/html": [
              "<font color = green>Duplicate (97%)</font> --> <font color = red>Not_duplicate (91%)</font><br><font color = bold><font color = underline>Question1</font></font>: I am <font color = green>25</font> year old guy and never had a girlfriend. Is this weird?\n",
              "<font color = bold><font color = underline>Question2</font></font>: I am 25 years old. I have never had a girlfriend. Is something wrong with me?<br><font color = bold><font color = underline>Question1</font></font>: I am <font color = red>chmielnicki</font> year old guy and never had a girlfriend. Is this weird?\n",
              "<font color = bold><font color = underline>Question2</font></font>: I am 25 years old. I have never had a girlfriend. Is something wrong with me?"
            ],
            "text/plain": [
              "<IPython.core.display.HTML object>"
            ]
          },
          "metadata": {
            "tags": []
          }
        },
        {
          "output_type": "stream",
          "text": [
            "\n",
            "[Succeeded / Failed / Total] 2 / 3 / 5:  24%|██▍       | 6/25 [00:02<00:06,  2.98it/s]\u001b[A\n",
            "[Succeeded / Failed / Total] 3 / 3 / 6:  24%|██▍       | 6/25 [00:02<00:06,  2.97it/s]\u001b[A"
          ],
          "name": "stderr"
        },
        {
          "output_type": "display_data",
          "data": {
            "text/html": [
              "<font color = green>Duplicate (60%)</font> --> <font color = red>Not_duplicate (100%)</font><br><font color = bold><font color = underline>Question1</font></font>: \"What does a good answer on Quora look like? What does it mean to \"\"be helpful\"\"?\"\n",
              "<font color = bold><font color = underline>Question2</font></font>: How do you write a good <font color = green>answer</font> on Quora?<br><font color = bold><font color = underline>Question1</font></font>: \"What does a good answer on Quora look like? What does it mean to \"\"be helpful\"\"?\"\n",
              "<font color = bold><font color = underline>Question2</font></font>: How do you write a good <font color = red>question</font> on Quora?"
            ],
            "text/plain": [
              "<IPython.core.display.HTML object>"
            ]
          },
          "metadata": {
            "tags": []
          }
        },
        {
          "output_type": "stream",
          "text": [
            "\n",
            "[Succeeded / Failed / Total] 3 / 3 / 6:  28%|██▊       | 7/25 [00:02<00:05,  3.18it/s]\u001b[A\n",
            "[Succeeded / Failed / Total] 4 / 3 / 7:  28%|██▊       | 7/25 [00:02<00:05,  3.16it/s]\u001b[A"
          ],
          "name": "stderr"
        },
        {
          "output_type": "display_data",
          "data": {
            "text/html": [
              "<font color = green>Duplicate (58%)</font> --> <font color = red>Not_duplicate (84%)</font><br><font color = bold><font color = underline>Question1</font></font>: What are the best <font color = green>things</font> to do in Hong Kong?\n",
              "<font color = bold><font color = underline>Question2</font></font>: What is the best thing in Hong Kong?<br><font color = bold><font color = underline>Question1</font></font>: What are the best <font color = red>thing</font> to do in Hong Kong?\n",
              "<font color = bold><font color = underline>Question2</font></font>: What is the best thing in Hong Kong?"
            ],
            "text/plain": [
              "<IPython.core.display.HTML object>"
            ]
          },
          "metadata": {
            "tags": []
          }
        },
        {
          "output_type": "stream",
          "text": [
            "\n",
            "[Succeeded / Failed / Total] 4 / 3 / 7:  32%|███▏      | 8/25 [00:02<00:04,  3.42it/s]\u001b[A\n",
            "[Succeeded / Failed / Total] 5 / 3 / 8:  32%|███▏      | 8/25 [00:02<00:04,  3.41it/s]\u001b[A"
          ],
          "name": "stderr"
        },
        {
          "output_type": "display_data",
          "data": {
            "text/html": [
              "<font color = green>Duplicate (88%)</font> --> <font color = gray>[SKIPPED]</font><br><font color = bold><font color = underline>Question1</font></font>: Why is my life getting so complicated?\n",
              "<font color = bold><font color = underline>Question2</font></font>: Why is my life so complicated?"
            ],
            "text/plain": [
              "<IPython.core.display.HTML object>"
            ]
          },
          "metadata": {
            "tags": []
          }
        },
        {
          "output_type": "stream",
          "text": [
            "\n",
            "[Succeeded / Failed / Total] 5 / 3 / 9:  36%|███▌      | 9/25 [00:02<00:04,  3.77it/s]\u001b[A"
          ],
          "name": "stderr"
        },
        {
          "output_type": "display_data",
          "data": {
            "text/html": [
              "<font color = red>Not_duplicate (100%)</font> --> <font color = red>[FAILED]</font><br><font color = bold><font color = underline>Question1</font></font>: Why should I crack Jee?\n",
              "<font color = bold><font color = underline>Question2</font></font>: Is it possible to get into IIMs with low marks in graduation and 12th?"
            ],
            "text/plain": [
              "<IPython.core.display.HTML object>"
            ]
          },
          "metadata": {
            "tags": []
          }
        },
        {
          "output_type": "stream",
          "text": [
            "\n",
            "[Succeeded / Failed / Total] 5 / 3 / 9:  40%|████      | 10/25 [00:02<00:04,  3.69it/s]\u001b[A\n",
            "[Succeeded / Failed / Total] 5 / 4 / 10:  40%|████      | 10/25 [00:02<00:04,  3.68it/s]\u001b[A"
          ],
          "name": "stderr"
        },
        {
          "output_type": "display_data",
          "data": {
            "text/html": [
              "<font color = red>Not_duplicate (99%)</font> --> <font color = green>Duplicate (59%)</font><br><font color = bold><font color = underline>Question1</font></font>: <font color = red>Can</font> you TRANSLATE these to English <font color = red>language</font>?\n",
              "<font color = bold><font color = underline>Question2</font></font>: <font color = red>Can</font> you <font color = red>translate</font> this from Bengali to English <font color = red>language</font>?<br><font color = bold><font color = underline>Question1</font></font>: <font color = green>Yan</font> you TRANSLATE these to English <font color = green>anguage</font>?\n",
              "<font color = bold><font color = underline>Question2</font></font>: <font color = green>Yan</font> you <font color = green>translating</font> this from Bengali to English <font color = green>anguage</font>?"
            ],
            "text/plain": [
              "<IPython.core.display.HTML object>"
            ]
          },
          "metadata": {
            "tags": []
          }
        },
        {
          "output_type": "stream",
          "text": [
            "\n",
            "[Succeeded / Failed / Total] 6 / 4 / 11:  44%|████▍     | 11/25 [00:02<00:03,  3.79it/s]\u001b[A"
          ],
          "name": "stderr"
        },
        {
          "output_type": "display_data",
          "data": {
            "text/html": [
              "<font color = red>Not_duplicate (100%)</font> --> <font color = red>[FAILED]</font><br><font color = bold><font color = underline>Question1</font></font>: Can anyone tell shall mi mix mobile should be purchased or not?\n",
              "<font color = bold><font color = underline>Question2</font></font>: \"What did Voltaire mean when he said, \"\"God is a comedian playing to an audience that is too afraid to laugh\"\"?\""
            ],
            "text/plain": [
              "<IPython.core.display.HTML object>"
            ]
          },
          "metadata": {
            "tags": []
          }
        },
        {
          "output_type": "stream",
          "text": [
            "\n",
            "[Succeeded / Failed / Total] 6 / 4 / 11:  48%|████▊     | 12/25 [00:03<00:03,  3.54it/s]\u001b[A\n",
            "[Succeeded / Failed / Total] 6 / 5 / 12:  48%|████▊     | 12/25 [00:03<00:03,  3.53it/s]\u001b[A"
          ],
          "name": "stderr"
        },
        {
          "output_type": "display_data",
          "data": {
            "text/html": [
              "<font color = green>Duplicate (97%)</font> --> <font color = red>Not_duplicate (100%)</font><br><font color = bold><font color = underline>Question1</font></font>: Which is the best gaming laptop under 40k?\n",
              "<font color = bold><font color = underline>Question2</font></font>: Which is the best gaming laptop under <font color = green>40</font>,000 rs?<br><font color = bold><font color = underline>Question1</font></font>: Which is the best gaming laptop under 40k?\n",
              "<font color = bold><font color = underline>Question2</font></font>: Which is the best gaming laptop under <font color = red>undo</font>,000 rs?"
            ],
            "text/plain": [
              "<IPython.core.display.HTML object>"
            ]
          },
          "metadata": {
            "tags": []
          }
        },
        {
          "output_type": "stream",
          "text": [
            "\n",
            "[Succeeded / Failed / Total] 7 / 5 / 13:  52%|█████▏    | 13/25 [00:03<00:03,  3.69it/s]\u001b[A"
          ],
          "name": "stderr"
        },
        {
          "output_type": "display_data",
          "data": {
            "text/html": [
              "<font color = red>Not_duplicate (100%)</font> --> <font color = red>[FAILED]</font><br><font color = bold><font color = underline>Question1</font></font>: Why Tamil Nadu Universities are no good?\n",
              "<font color = bold><font color = underline>Question2</font></font>: Why are the 10th students able to score 100% in Tamil Nadu?"
            ],
            "text/plain": [
              "<IPython.core.display.HTML object>"
            ]
          },
          "metadata": {
            "tags": []
          }
        },
        {
          "output_type": "stream",
          "text": [
            "\n",
            "[Succeeded / Failed / Total] 7 / 5 / 13:  56%|█████▌    | 14/25 [00:03<00:03,  3.59it/s]\u001b[A\n",
            "[Succeeded / Failed / Total] 7 / 6 / 14:  56%|█████▌    | 14/25 [00:03<00:03,  3.58it/s]\u001b[A"
          ],
          "name": "stderr"
        },
        {
          "output_type": "display_data",
          "data": {
            "text/html": [
              "<font color = red>Not_duplicate (100%)</font> --> <font color = red>[FAILED]</font><br><font color = bold><font color = underline>Question1</font></font>: What is an easy way to clean toothpaste stains from a shirt without washing it?\n",
              "<font color = bold><font color = underline>Question2</font></font>: What are some ways to remove hard water stains from dishes?"
            ],
            "text/plain": [
              "<IPython.core.display.HTML object>"
            ]
          },
          "metadata": {
            "tags": []
          }
        },
        {
          "output_type": "stream",
          "text": [
            "\n",
            "[Succeeded / Failed / Total] 7 / 7 / 15:  60%|██████    | 15/25 [00:04<00:02,  3.43it/s]\u001b[A"
          ],
          "name": "stderr"
        },
        {
          "output_type": "display_data",
          "data": {
            "text/html": [
              "<font color = green>Duplicate (84%)</font> --> <font color = red>Not_duplicate (76%)</font><br><font color = bold><font color = underline>Question1</font></font>: What was the deadliest battle in <font color = green>history</font>?\n",
              "<font color = bold><font color = underline>Question2</font></font>: What was the bloodiest battle in <font color = green>history</font>?<br><font color = bold><font color = underline>Question1</font></font>: What was the deadliest battle in <font color = red>timeline</font>?\n",
              "<font color = bold><font color = underline>Question2</font></font>: What was the bloodiest battle in <font color = red>timeline</font>?"
            ],
            "text/plain": [
              "<IPython.core.display.HTML object>"
            ]
          },
          "metadata": {
            "tags": []
          }
        },
        {
          "output_type": "stream",
          "text": [
            "\n",
            "[Succeeded / Failed / Total] 7 / 7 / 15:  64%|██████▍   | 16/25 [00:04<00:02,  3.55it/s]\u001b[A\n",
            "[Succeeded / Failed / Total] 8 / 7 / 16:  64%|██████▍   | 16/25 [00:04<00:02,  3.55it/s]\u001b[A"
          ],
          "name": "stderr"
        },
        {
          "output_type": "display_data",
          "data": {
            "text/html": [
              "<font color = green>Duplicate (100%)</font> --> <font color = red>Not_duplicate (69%)</font><br><font color = bold><font color = underline>Question1</font></font>: What are your <font color = green>views</font> about demonetisation in <font color = green>India</font>?\n",
              "<font color = bold><font color = underline>Question2</font></font>: <font color = green>What</font> do you think about the ban on <font color = green>500</font> and <font color = green>1000</font> denomination notes in India?<br><font color = bold><font color = underline>Question1</font></font>: What are your <font color = red>viewpoints</font> about demonetisation in <font color = red>Ndia</font>?\n",
              "<font color = bold><font color = underline>Question2</font></font>: <font color = red>Hihat</font> do you think about the ban on <font color = red>adrenal</font> and <font color = red>papadopoulos</font> denomination notes in India?"
            ],
            "text/plain": [
              "<IPython.core.display.HTML object>"
            ]
          },
          "metadata": {
            "tags": []
          }
        },
        {
          "output_type": "stream",
          "text": [
            "\n",
            "[Succeeded / Failed / Total] 9 / 7 / 17:  68%|██████▊   | 17/25 [00:04<00:02,  3.56it/s]\u001b[A"
          ],
          "name": "stderr"
        },
        {
          "output_type": "display_data",
          "data": {
            "text/html": [
              "<font color = red>Not_duplicate (100%)</font> --> <font color = green>Duplicate (58%)</font><br><font color = bold><font color = underline>Question1</font></font>: What are the difference between polyester 210T and 210D?\n",
              "<font color = bold><font color = underline>Question2</font></font>: What is the difference between <font color = red>cotton</font> and polyester?<br><font color = bold><font color = underline>Question1</font></font>: What are the difference between polyester 210T and 210D?\n",
              "<font color = bold><font color = underline>Question2</font></font>: What is the difference between <font color = green>wootton</font> and polyester?"
            ],
            "text/plain": [
              "<IPython.core.display.HTML object>"
            ]
          },
          "metadata": {
            "tags": []
          }
        },
        {
          "output_type": "stream",
          "text": [
            "\n",
            "[Succeeded / Failed / Total] 9 / 7 / 17:  72%|███████▏  | 18/25 [00:04<00:01,  3.68it/s]\u001b[A\n",
            "[Succeeded / Failed / Total] 10 / 7 / 18:  72%|███████▏  | 18/25 [00:04<00:01,  3.67it/s]\u001b[A"
          ],
          "name": "stderr"
        },
        {
          "output_type": "display_data",
          "data": {
            "text/html": [
              "<font color = red>Not_duplicate (92%)</font> --> <font color = red>[FAILED]</font><br><font color = bold><font color = underline>Question1</font></font>: Is FMS Delhi a good option for a MBA executive program?\n",
              "<font color = bold><font color = underline>Question2</font></font>: Is FMS a good choice for an MBA in HR? Why and why not?"
            ],
            "text/plain": [
              "<IPython.core.display.HTML object>"
            ]
          },
          "metadata": {
            "tags": []
          }
        },
        {
          "output_type": "stream",
          "text": [
            "\n",
            "[Succeeded / Failed / Total] 10 / 8 / 19:  76%|███████▌  | 19/25 [00:05<00:01,  3.59it/s]\u001b[A"
          ],
          "name": "stderr"
        },
        {
          "output_type": "display_data",
          "data": {
            "text/html": [
              "<font color = green>Duplicate (57%)</font> --> <font color = red>Not_duplicate (90%)</font><br><font color = bold><font color = underline>Question1</font></font>: Is it a bad time to buy a condo or a house in the Bay Area in <font color = green>2017</font>?\n",
              "<font color = bold><font color = underline>Question2</font></font>: Would 2017 be a good time to buy a house in Bay Area?<br><font color = bold><font color = underline>Question1</font></font>: Is it a bad time to buy a condo or a house in the Bay Area in <font color = red>prosecute</font>?\n",
              "<font color = bold><font color = underline>Question2</font></font>: Would 2017 be a good time to buy a house in Bay Area?"
            ],
            "text/plain": [
              "<IPython.core.display.HTML object>"
            ]
          },
          "metadata": {
            "tags": []
          }
        },
        {
          "output_type": "stream",
          "text": [
            "\n",
            "[Succeeded / Failed / Total] 10 / 8 / 19:  80%|████████  | 20/25 [00:05<00:01,  3.65it/s]\u001b[A\n",
            "[Succeeded / Failed / Total] 11 / 8 / 20:  80%|████████  | 20/25 [00:05<00:01,  3.64it/s]\u001b[A"
          ],
          "name": "stderr"
        },
        {
          "output_type": "display_data",
          "data": {
            "text/html": [
              "<font color = red>Not_duplicate (100%)</font> --> <font color = red>[FAILED]</font><br><font color = bold><font color = underline>Question1</font></font>: How is vanilla extract made?\n",
              "<font color = bold><font color = underline>Question2</font></font>: How do you make sugar cookies without vanilla extract?"
            ],
            "text/plain": [
              "<IPython.core.display.HTML object>"
            ]
          },
          "metadata": {
            "tags": []
          }
        },
        {
          "output_type": "stream",
          "text": [
            "\n",
            "[Succeeded / Failed / Total] 11 / 9 / 21:  84%|████████▍ | 21/25 [00:05<00:01,  3.64it/s]\u001b[A"
          ],
          "name": "stderr"
        },
        {
          "output_type": "display_data",
          "data": {
            "text/html": [
              "<font color = green>Duplicate (100%)</font> --> <font color = red>[FAILED]</font><br><font color = bold><font color = underline>Question1</font></font>: What is the Sahara, and how do the average temperatures there compare to the ones in the Patagonian Desert?\n",
              "<font color = bold><font color = underline>Question2</font></font>: What is the Sahara, and how do the average temperatures there compare to the ones in the Registan Desert?"
            ],
            "text/plain": [
              "<IPython.core.display.HTML object>"
            ]
          },
          "metadata": {
            "tags": []
          }
        },
        {
          "output_type": "stream",
          "text": [
            "\n",
            "[Succeeded / Failed / Total] 11 / 9 / 21:  88%|████████▊ | 22/25 [00:06<00:00,  3.52it/s]\u001b[A\n",
            "[Succeeded / Failed / Total] 11 / 10 / 22:  88%|████████▊ | 22/25 [00:06<00:00,  3.52it/s]\u001b[A"
          ],
          "name": "stderr"
        },
        {
          "output_type": "display_data",
          "data": {
            "text/html": [
              "<font color = red>Not_duplicate (100%)</font> --> <font color = red>[FAILED]</font><br><font color = bold><font color = underline>Question1</font></font>: Why was the Roman Empire so successful?\n",
              "<font color = bold><font color = underline>Question2</font></font>: What are some of the rarely known facts about the Roman Empire?"
            ],
            "text/plain": [
              "<IPython.core.display.HTML object>"
            ]
          },
          "metadata": {
            "tags": []
          }
        },
        {
          "output_type": "stream",
          "text": [
            "\n",
            "[Succeeded / Failed / Total] 11 / 11 / 23:  92%|█████████▏| 23/25 [00:06<00:00,  3.53it/s]\u001b[A"
          ],
          "name": "stderr"
        },
        {
          "output_type": "display_data",
          "data": {
            "text/html": [
              "<font color = red>Not_duplicate (97%)</font> --> <font color = green>Duplicate (77%)</font><br><font color = bold><font color = underline>Question1</font></font>: Is it advisable to <font color = red>sent</font> your cv to a professor with whom you are <font color = red>trying</font> to <font color = red>make</font> contact for graduate admission?\n",
              "<font color = bold><font color = underline>Question2</font></font>: <font color = red>How</font> does <font color = red>contacting</font> a professor before <font color = red>applying</font> factor into graduate admissions?<br><font color = bold><font color = underline>Question1</font></font>: Is it advisable to <font color = green>alerted</font> your cv to a professor with whom you are <font color = green>attempting</font> to <font color = green>give</font> contact for graduate admission?\n",
              "<font color = bold><font color = underline>Question2</font></font>: <font color = green>Kowtow</font> does <font color = green>contact</font> a professor before <font color = green>normalizing</font> factor into graduate admissions?"
            ],
            "text/plain": [
              "<IPython.core.display.HTML object>"
            ]
          },
          "metadata": {
            "tags": []
          }
        },
        {
          "output_type": "stream",
          "text": [
            "\n",
            "[Succeeded / Failed / Total] 11 / 11 / 23:  96%|█████████▌| 24/25 [00:06<00:00,  3.44it/s]\u001b[A\n",
            "[Succeeded / Failed / Total] 12 / 11 / 24:  96%|█████████▌| 24/25 [00:06<00:00,  3.44it/s]\u001b[A"
          ],
          "name": "stderr"
        },
        {
          "output_type": "display_data",
          "data": {
            "text/html": [
              "<font color = red>Not_duplicate (100%)</font> --> <font color = red>[FAILED]</font><br><font color = bold><font color = underline>Question1</font></font>: Does a RainTPL syntax extension for Sublime Text exist? Where can I download it?\n",
              "<font color = bold><font color = underline>Question2</font></font>: How do I hide the find/replace bar in Sublime Text 2?"
            ],
            "text/plain": [
              "<IPython.core.display.HTML object>"
            ]
          },
          "metadata": {
            "tags": []
          }
        },
        {
          "output_type": "stream",
          "text": [
            "\n",
            "[Succeeded / Failed / Total] 12 / 12 / 25: 100%|██████████| 25/25 [00:07<00:00,  3.35it/s]\u001b[A"
          ],
          "name": "stderr"
        },
        {
          "output_type": "display_data",
          "data": {
            "text/html": [
              "<font color = red>Not_duplicate (100%)</font> --> <font color = red>[FAILED]</font><br><font color = bold><font color = underline>Question1</font></font>: What is the average salary of a microbiologist in India?\n",
              "<font color = bold><font color = underline>Question2</font></font>: What is the salary for a psychologist in india?"
            ],
            "text/plain": [
              "<IPython.core.display.HTML object>"
            ]
          },
          "metadata": {
            "tags": []
          }
        },
        {
          "output_type": "stream",
          "text": [
            "\n",
            "[Succeeded / Failed / Total] 12 / 12 / 25: : 26it [00:07,  3.37it/s]                      \u001b[A\n",
            "[Succeeded / Failed / Total] 12 / 13 / 26: : 26it [00:07,  3.36it/s]"
          ],
          "name": "stderr"
        },
        {
          "output_type": "stream",
          "text": [
            "+-------------------------------+--------+\n",
            "| Attack Results                |        |\n",
            "+-------------------------------+--------+\n",
            "| Number of successful attacks: | 12     |\n",
            "| Number of failed attacks:     | 13     |\n",
            "| Number of skipped attacks:    | 1      |\n",
            "| Original accuracy:            | 96.15% |\n",
            "| Accuracy under attack:        | 50.0%  |\n",
            "| Attack success rate:          | 48.0%  |\n",
            "| Average perturbed word %:     | 13.96% |\n",
            "| Average num. words per input: | 22.5   |\n",
            "| Avg num queries:              | 33.2   |\n",
            "+-------------------------------+--------+"
          ],
          "name": "stdout"
        },
        {
          "output_type": "stream",
          "text": [
            "\n",
            "\u001b[34;1mtextattack\u001b[0m: Attack time: 7.749867677688599s\n"
          ],
          "name": "stderr"
        }
      ]
    },
    {
      "cell_type": "markdown",
      "metadata": {
        "id": "IofoqE0CtMZC"
      },
      "source": [
        "### Word2Vec, GreedyWordSwapWIR, RepeatModification, StopwordModification"
      ]
    },
    {
      "cell_type": "code",
      "metadata": {
        "colab": {
          "base_uri": "https://localhost:8080/"
        },
        "id": "DLok3tKPm08j",
        "outputId": "7296fa6c-34e1-4c05-c391-ce9ca7b0f7a9"
      },
      "source": [
        "# We're going to use our word swap class as the attack transformation.\n",
        "transformation = Swapper_()\n",
        "\n",
        "constraints = [RepeatModification(),\n",
        "               StopwordModification()]\n",
        "\n",
        "search_method = GreedyWordSwapWIR()\n",
        "\n",
        "goal_function = UntargetedClassification(model_wrapper)\n",
        "\n",
        "# Now, let's make the attack from the 4 components:\n",
        "attack = Attack(goal_function, constraints, transformation, search_method)\n"
      ],
      "execution_count": 31,
      "outputs": [
        {
          "output_type": "stream",
          "text": [
            "\u001b[34;1mtextattack\u001b[0m: Unknown if model of class <class 'transformers.models.distilbert.modeling_distilbert.DistilBertForSequenceClassification'> compatible with goal function <class 'textattack.goal_functions.classification.untargeted_classification.UntargetedClassification'>.\n"
          ],
          "name": "stderr"
        }
      ]
    },
    {
      "cell_type": "code",
      "metadata": {
        "colab": {
          "base_uri": "https://localhost:8080/"
        },
        "id": "c8G-gxlXm-At",
        "outputId": "0d729add-9ac0-4d71-e4a5-74debc930c7f"
      },
      "source": [
        "print(attack)"
      ],
      "execution_count": 32,
      "outputs": [
        {
          "output_type": "stream",
          "text": [
            "Attack(\n",
            "  (search_method): GreedyWordSwapWIR(\n",
            "    (wir_method):  unk\n",
            "  )\n",
            "  (goal_function):  UntargetedClassification\n",
            "  (transformation):  Swapper_\n",
            "  (constraints): \n",
            "    (0): RepeatModification\n",
            "    (1): StopwordModification\n",
            "  (is_black_box):  True\n",
            ")\n"
          ],
          "name": "stdout"
        }
      ]
    },
    {
      "cell_type": "code",
      "metadata": {
        "colab": {
          "base_uri": "https://localhost:8080/",
          "height": 1000
        },
        "id": "FgHOKJd7m_Wm",
        "outputId": "9b22c312-1bf9-41d8-bff1-bfb0dbbcc2a4"
      },
      "source": [
        "attack_stats(attack, dataset, 25)"
      ],
      "execution_count": 33,
      "outputs": [
        {
          "output_type": "stream",
          "text": [
            "\n",
            "  0%|          | 0/25 [00:00<?, ?it/s]\u001b[A"
          ],
          "name": "stderr"
        },
        {
          "output_type": "stream",
          "text": [
            "Attack(\n",
            "  (search_method): GreedyWordSwapWIR(\n",
            "    (wir_method):  unk\n",
            "  )\n",
            "  (goal_function):  UntargetedClassification\n",
            "  (transformation):  Swapper_\n",
            "  (constraints): \n",
            "    (0): RepeatModification\n",
            "    (1): StopwordModification\n",
            "  (is_black_box):  True\n",
            ")\n"
          ],
          "name": "stdout"
        },
        {
          "output_type": "display_data",
          "data": {
            "text/html": [
              "<font color = red>Not_duplicate (99%)</font> --> <font color = green>Duplicate (93%)</font><br><font color = bold><font color = underline>Question1</font></font>: Why are African-Americans so <font color = red>beautiful</font>?\n",
              "<font color = bold><font color = underline>Question2</font></font>: Why are <font color = red>hispanics</font> so <font color = red>beautiful</font>?<br><font color = bold><font color = underline>Question1</font></font>: Why are African-Americans so <font color = green>lovely</font>?\n",
              "<font color = bold><font color = underline>Question2</font></font>: Why are <font color = green>colombians</font> so <font color = green>lovely</font>?"
            ],
            "text/plain": [
              "<IPython.core.display.HTML object>"
            ]
          },
          "metadata": {
            "tags": []
          }
        },
        {
          "output_type": "stream",
          "text": [
            "\n",
            "  4%|▍         | 1/25 [00:00<00:02,  8.74it/s]\u001b[A\n",
            "[Succeeded / Failed / Total] 1 / 0 / 1:   4%|▍         | 1/25 [00:00<00:02,  8.26it/s]\u001b[A"
          ],
          "name": "stderr"
        },
        {
          "output_type": "display_data",
          "data": {
            "text/html": [
              "<font color = red>Not_duplicate (100%)</font> --> <font color = red>[FAILED]</font><br><font color = bold><font color = underline>Question1</font></font>: I want to pursue PhD in Computer Science about social network,what is the open problem in social networks?\n",
              "<font color = bold><font color = underline>Question2</font></font>: I handle social media for a non-profit. Should I start going to social media networking events? Are there any good ones in the bay area?"
            ],
            "text/plain": [
              "<IPython.core.display.HTML object>"
            ]
          },
          "metadata": {
            "tags": []
          }
        },
        {
          "output_type": "stream",
          "text": [
            "\n",
            "[Succeeded / Failed / Total] 1 / 0 / 1:   8%|▊         | 2/25 [00:00<00:07,  2.99it/s]\u001b[A\n",
            "[Succeeded / Failed / Total] 1 / 1 / 2:   8%|▊         | 2/25 [00:00<00:07,  2.96it/s]\u001b[A"
          ],
          "name": "stderr"
        },
        {
          "output_type": "display_data",
          "data": {
            "text/html": [
              "<font color = green>Duplicate (92%)</font> --> <font color = red>Not_duplicate (54%)</font><br><font color = bold><font color = underline>Question1</font></font>: Is there a reason why we should <font color = green>travel</font> alone?\n",
              "<font color = bold><font color = underline>Question2</font></font>: What are some <font color = green>reasons</font> to travel alone?<br><font color = bold><font color = underline>Question1</font></font>: Is there a reason why we should <font color = red>interplanetary</font> alone?\n",
              "<font color = bold><font color = underline>Question2</font></font>: What are some <font color = red>purposes</font> to travel alone?"
            ],
            "text/plain": [
              "<IPython.core.display.HTML object>"
            ]
          },
          "metadata": {
            "tags": []
          }
        },
        {
          "output_type": "stream",
          "text": [
            "\n",
            "[Succeeded / Failed / Total] 1 / 1 / 2:  12%|█▏        | 3/25 [00:00<00:05,  3.72it/s]\u001b[A\n",
            "[Succeeded / Failed / Total] 2 / 1 / 3:  12%|█▏        | 3/25 [00:00<00:05,  3.70it/s]\u001b[A"
          ],
          "name": "stderr"
        },
        {
          "output_type": "display_data",
          "data": {
            "text/html": [
              "<font color = red>Not_duplicate (100%)</font> --> <font color = red>[FAILED]</font><br><font color = bold><font color = underline>Question1</font></font>: Why are people so obsessed with having a girlfriend/boyfriend?\n",
              "<font color = bold><font color = underline>Question2</font></font>: How can a single male have a child?"
            ],
            "text/plain": [
              "<IPython.core.display.HTML object>"
            ]
          },
          "metadata": {
            "tags": []
          }
        },
        {
          "output_type": "stream",
          "text": [
            "\n",
            "[Succeeded / Failed / Total] 2 / 1 / 3:  16%|█▌        | 4/25 [00:01<00:05,  3.93it/s]\u001b[A\n",
            "[Succeeded / Failed / Total] 2 / 2 / 4:  16%|█▌        | 4/25 [00:01<00:05,  3.91it/s]\u001b[A"
          ],
          "name": "stderr"
        },
        {
          "output_type": "display_data",
          "data": {
            "text/html": [
              "<font color = red>Not_duplicate (99%)</font> --> <font color = red>[FAILED]</font><br><font color = bold><font color = underline>Question1</font></font>: What are some good baby girl names starting with D?\n",
              "<font color = bold><font color = underline>Question2</font></font>: What are some good baby girl names starting with D or H?"
            ],
            "text/plain": [
              "<IPython.core.display.HTML object>"
            ]
          },
          "metadata": {
            "tags": []
          }
        },
        {
          "output_type": "stream",
          "text": [
            "\n",
            "[Succeeded / Failed / Total] 2 / 2 / 4:  20%|██        | 5/25 [00:01<00:05,  3.72it/s]\u001b[A\n",
            "[Succeeded / Failed / Total] 2 / 3 / 5:  20%|██        | 5/25 [00:01<00:05,  3.70it/s]\u001b[A"
          ],
          "name": "stderr"
        },
        {
          "output_type": "display_data",
          "data": {
            "text/html": [
              "<font color = green>Duplicate (97%)</font> --> <font color = red>Not_duplicate (97%)</font><br><font color = bold><font color = underline>Question1</font></font>: I am 25 year old guy and never had a <font color = green>girlfriend</font>. Is this weird?\n",
              "<font color = bold><font color = underline>Question2</font></font>: I am 25 years old. I have <font color = green>never</font> had a girlfriend. Is something wrong with me?<br><font color = bold><font color = underline>Question1</font></font>: I am 25 year old guy and never had a <font color = red>boyfriend</font>. Is this weird?\n",
              "<font color = bold><font color = underline>Question2</font></font>: I am 25 years old. I have <font color = red>already</font> had a girlfriend. Is something wrong with me?"
            ],
            "text/plain": [
              "<IPython.core.display.HTML object>"
            ]
          },
          "metadata": {
            "tags": []
          }
        },
        {
          "output_type": "stream",
          "text": [
            "\n",
            "[Succeeded / Failed / Total] 2 / 3 / 5:  24%|██▍       | 6/25 [00:01<00:04,  3.90it/s]\u001b[A\n",
            "[Succeeded / Failed / Total] 3 / 3 / 6:  24%|██▍       | 6/25 [00:01<00:04,  3.89it/s]\u001b[A"
          ],
          "name": "stderr"
        },
        {
          "output_type": "display_data",
          "data": {
            "text/html": [
              "<font color = green>Duplicate (60%)</font> --> <font color = red>Not_duplicate (100%)</font><br><font color = bold><font color = underline>Question1</font></font>: \"What does a good answer on Quora look like? What does it mean to \"\"be helpful\"\"?\"\n",
              "<font color = bold><font color = underline>Question2</font></font>: How do you write a good <font color = green>answer</font> on Quora?<br><font color = bold><font color = underline>Question1</font></font>: \"What does a good answer on Quora look like? What does it mean to \"\"be helpful\"\"?\"\n",
              "<font color = bold><font color = underline>Question2</font></font>: How do you write a good <font color = red>preclear</font> on Quora?"
            ],
            "text/plain": [
              "<IPython.core.display.HTML object>"
            ]
          },
          "metadata": {
            "tags": []
          }
        },
        {
          "output_type": "stream",
          "text": [
            "\n",
            "[Succeeded / Failed / Total] 3 / 3 / 6:  28%|██▊       | 7/25 [00:01<00:04,  4.13it/s]\u001b[A\n",
            "[Succeeded / Failed / Total] 4 / 3 / 7:  28%|██▊       | 7/25 [00:01<00:04,  4.12it/s]\u001b[A"
          ],
          "name": "stderr"
        },
        {
          "output_type": "display_data",
          "data": {
            "text/html": [
              "<font color = green>Duplicate (58%)</font> --> <font color = red>Not_duplicate (57%)</font><br><font color = bold><font color = underline>Question1</font></font>: What are the best things to do in Hong Kong?\n",
              "<font color = bold><font color = underline>Question2</font></font>: What is the best <font color = green>thing</font> in Hong Kong?<br><font color = bold><font color = underline>Question1</font></font>: What are the best things to do in Hong Kong?\n",
              "<font color = bold><font color = underline>Question2</font></font>: What is the best <font color = red>damn</font> in Hong Kong?"
            ],
            "text/plain": [
              "<IPython.core.display.HTML object>"
            ]
          },
          "metadata": {
            "tags": []
          }
        },
        {
          "output_type": "stream",
          "text": [
            "\n",
            "[Succeeded / Failed / Total] 4 / 3 / 7:  32%|███▏      | 8/25 [00:01<00:03,  4.37it/s]\u001b[A\n",
            "[Succeeded / Failed / Total] 5 / 3 / 8:  32%|███▏      | 8/25 [00:01<00:03,  4.35it/s]\u001b[A"
          ],
          "name": "stderr"
        },
        {
          "output_type": "display_data",
          "data": {
            "text/html": [
              "<font color = green>Duplicate (88%)</font> --> <font color = gray>[SKIPPED]</font><br><font color = bold><font color = underline>Question1</font></font>: Why is my life getting so complicated?\n",
              "<font color = bold><font color = underline>Question2</font></font>: Why is my life so complicated?"
            ],
            "text/plain": [
              "<IPython.core.display.HTML object>"
            ]
          },
          "metadata": {
            "tags": []
          }
        },
        {
          "output_type": "stream",
          "text": [
            "\n",
            "[Succeeded / Failed / Total] 5 / 3 / 9:  36%|███▌      | 9/25 [00:01<00:03,  4.85it/s]\u001b[A"
          ],
          "name": "stderr"
        },
        {
          "output_type": "display_data",
          "data": {
            "text/html": [
              "<font color = red>Not_duplicate (100%)</font> --> <font color = red>[FAILED]</font><br><font color = bold><font color = underline>Question1</font></font>: Why should I crack Jee?\n",
              "<font color = bold><font color = underline>Question2</font></font>: Is it possible to get into IIMs with low marks in graduation and 12th?"
            ],
            "text/plain": [
              "<IPython.core.display.HTML object>"
            ]
          },
          "metadata": {
            "tags": []
          }
        },
        {
          "output_type": "stream",
          "text": [
            "\n",
            "[Succeeded / Failed / Total] 5 / 3 / 9:  40%|████      | 10/25 [00:02<00:03,  4.88it/s]\u001b[A\n",
            "[Succeeded / Failed / Total] 5 / 4 / 10:  40%|████      | 10/25 [00:02<00:03,  4.86it/s]\u001b[A"
          ],
          "name": "stderr"
        },
        {
          "output_type": "display_data",
          "data": {
            "text/html": [
              "<font color = red>Not_duplicate (99%)</font> --> <font color = red>[FAILED]</font><br><font color = bold><font color = underline>Question1</font></font>: Can you TRANSLATE these to English language?\n",
              "<font color = bold><font color = underline>Question2</font></font>: Can you translate this from Bengali to English language?"
            ],
            "text/plain": [
              "<IPython.core.display.HTML object>"
            ]
          },
          "metadata": {
            "tags": []
          }
        },
        {
          "output_type": "stream",
          "text": [
            "\n",
            "[Succeeded / Failed / Total] 5 / 5 / 11:  44%|████▍     | 11/25 [00:02<00:02,  5.00it/s]\u001b[A"
          ],
          "name": "stderr"
        },
        {
          "output_type": "display_data",
          "data": {
            "text/html": [
              "<font color = red>Not_duplicate (100%)</font> --> <font color = red>[FAILED]</font><br><font color = bold><font color = underline>Question1</font></font>: Can anyone tell shall mi mix mobile should be purchased or not?\n",
              "<font color = bold><font color = underline>Question2</font></font>: \"What did Voltaire mean when he said, \"\"God is a comedian playing to an audience that is too afraid to laugh\"\"?\""
            ],
            "text/plain": [
              "<IPython.core.display.HTML object>"
            ]
          },
          "metadata": {
            "tags": []
          }
        },
        {
          "output_type": "stream",
          "text": [
            "\n",
            "[Succeeded / Failed / Total] 5 / 5 / 11:  48%|████▊     | 12/25 [00:02<00:02,  4.61it/s]\u001b[A\n",
            "[Succeeded / Failed / Total] 5 / 6 / 12:  48%|████▊     | 12/25 [00:02<00:02,  4.59it/s]\u001b[A"
          ],
          "name": "stderr"
        },
        {
          "output_type": "display_data",
          "data": {
            "text/html": [
              "<font color = green>Duplicate (97%)</font> --> <font color = red>Not_duplicate (88%)</font><br><font color = bold><font color = underline>Question1</font></font>: Which is the <font color = green>best</font> gaming <font color = green>laptop</font> under 40k?\n",
              "<font color = bold><font color = underline>Question2</font></font>: Which is the best gaming laptop under 40,000 <font color = green>rs</font>?<br><font color = bold><font color = underline>Question1</font></font>: Which is the <font color = red>filmfare</font> gaming <font color = red>xt</font> under 40k?\n",
              "<font color = bold><font color = underline>Question2</font></font>: Which is the best gaming laptop under 40,000 <font color = red>kbyte</font>?"
            ],
            "text/plain": [
              "<IPython.core.display.HTML object>"
            ]
          },
          "metadata": {
            "tags": []
          }
        },
        {
          "output_type": "stream",
          "text": [
            "\n",
            "[Succeeded / Failed / Total] 6 / 6 / 13:  52%|█████▏    | 13/25 [00:02<00:02,  4.64it/s]\u001b[A"
          ],
          "name": "stderr"
        },
        {
          "output_type": "display_data",
          "data": {
            "text/html": [
              "<font color = red>Not_duplicate (100%)</font> --> <font color = red>[FAILED]</font><br><font color = bold><font color = underline>Question1</font></font>: Why Tamil Nadu Universities are no good?\n",
              "<font color = bold><font color = underline>Question2</font></font>: Why are the 10th students able to score 100% in Tamil Nadu?"
            ],
            "text/plain": [
              "<IPython.core.display.HTML object>"
            ]
          },
          "metadata": {
            "tags": []
          }
        },
        {
          "output_type": "stream",
          "text": [
            "\n",
            "[Succeeded / Failed / Total] 6 / 6 / 13:  56%|█████▌    | 14/25 [00:02<00:02,  4.68it/s]\u001b[A\n",
            "[Succeeded / Failed / Total] 6 / 7 / 14:  56%|█████▌    | 14/25 [00:03<00:02,  4.66it/s]\u001b[A"
          ],
          "name": "stderr"
        },
        {
          "output_type": "display_data",
          "data": {
            "text/html": [
              "<font color = red>Not_duplicate (100%)</font> --> <font color = red>[FAILED]</font><br><font color = bold><font color = underline>Question1</font></font>: What is an easy way to clean toothpaste stains from a shirt without washing it?\n",
              "<font color = bold><font color = underline>Question2</font></font>: What are some ways to remove hard water stains from dishes?"
            ],
            "text/plain": [
              "<IPython.core.display.HTML object>"
            ]
          },
          "metadata": {
            "tags": []
          }
        },
        {
          "output_type": "stream",
          "text": [
            "\n",
            "[Succeeded / Failed / Total] 6 / 8 / 15:  60%|██████    | 15/25 [00:03<00:02,  4.46it/s]\u001b[A"
          ],
          "name": "stderr"
        },
        {
          "output_type": "display_data",
          "data": {
            "text/html": [
              "<font color = green>Duplicate (84%)</font> --> <font color = red>Not_duplicate (76%)</font><br><font color = bold><font color = underline>Question1</font></font>: What was the deadliest battle in <font color = green>history</font>?\n",
              "<font color = bold><font color = underline>Question2</font></font>: What was the bloodiest battle in <font color = green>history</font>?<br><font color = bold><font color = underline>Question1</font></font>: What was the deadliest battle in <font color = red>timeline</font>?\n",
              "<font color = bold><font color = underline>Question2</font></font>: What was the bloodiest battle in <font color = red>timeline</font>?"
            ],
            "text/plain": [
              "<IPython.core.display.HTML object>"
            ]
          },
          "metadata": {
            "tags": []
          }
        },
        {
          "output_type": "stream",
          "text": [
            "\n",
            "[Succeeded / Failed / Total] 6 / 8 / 15:  64%|██████▍   | 16/25 [00:03<00:01,  4.60it/s]\u001b[A\n",
            "[Succeeded / Failed / Total] 7 / 8 / 16:  64%|██████▍   | 16/25 [00:03<00:01,  4.60it/s]\u001b[A"
          ],
          "name": "stderr"
        },
        {
          "output_type": "display_data",
          "data": {
            "text/html": [
              "<font color = green>Duplicate (100%)</font> --> <font color = red>[FAILED]</font><br><font color = bold><font color = underline>Question1</font></font>: What are your views about demonetisation in India?\n",
              "<font color = bold><font color = underline>Question2</font></font>: What do you think about the ban on 500 and 1000 denomination notes in India?"
            ],
            "text/plain": [
              "<IPython.core.display.HTML object>"
            ]
          },
          "metadata": {
            "tags": []
          }
        },
        {
          "output_type": "stream",
          "text": [
            "\n",
            "[Succeeded / Failed / Total] 7 / 9 / 17:  68%|██████▊   | 17/25 [00:03<00:01,  4.61it/s]\u001b[A"
          ],
          "name": "stderr"
        },
        {
          "output_type": "display_data",
          "data": {
            "text/html": [
              "<font color = red>Not_duplicate (100%)</font> --> <font color = red>[FAILED]</font><br><font color = bold><font color = underline>Question1</font></font>: What are the difference between polyester 210T and 210D?\n",
              "<font color = bold><font color = underline>Question2</font></font>: What is the difference between cotton and polyester?"
            ],
            "text/plain": [
              "<IPython.core.display.HTML object>"
            ]
          },
          "metadata": {
            "tags": []
          }
        },
        {
          "output_type": "stream",
          "text": [
            "\n",
            "[Succeeded / Failed / Total] 7 / 9 / 17:  72%|███████▏  | 18/25 [00:03<00:01,  4.66it/s]\u001b[A\n",
            "[Succeeded / Failed / Total] 7 / 10 / 18:  72%|███████▏  | 18/25 [00:03<00:01,  4.65it/s]\u001b[A"
          ],
          "name": "stderr"
        },
        {
          "output_type": "display_data",
          "data": {
            "text/html": [
              "<font color = red>Not_duplicate (92%)</font> --> <font color = red>[FAILED]</font><br><font color = bold><font color = underline>Question1</font></font>: Is FMS Delhi a good option for a MBA executive program?\n",
              "<font color = bold><font color = underline>Question2</font></font>: Is FMS a good choice for an MBA in HR? Why and why not?"
            ],
            "text/plain": [
              "<IPython.core.display.HTML object>"
            ]
          },
          "metadata": {
            "tags": []
          }
        },
        {
          "output_type": "stream",
          "text": [
            "\n",
            "[Succeeded / Failed / Total] 7 / 11 / 19:  76%|███████▌  | 19/25 [00:04<00:01,  4.63it/s]\u001b[A"
          ],
          "name": "stderr"
        },
        {
          "output_type": "display_data",
          "data": {
            "text/html": [
              "<font color = green>Duplicate (57%)</font> --> <font color = red>Not_duplicate (55%)</font><br><font color = bold><font color = underline>Question1</font></font>: Is it a bad <font color = green>time</font> to buy a condo or a house in the Bay Area in 2017?\n",
              "<font color = bold><font color = underline>Question2</font></font>: Would 2017 be a good time to buy a house in Bay Area?<br><font color = bold><font color = underline>Question1</font></font>: Is it a bad <font color = red>moment</font> to buy a condo or a house in the Bay Area in 2017?\n",
              "<font color = bold><font color = underline>Question2</font></font>: Would 2017 be a good time to buy a house in Bay Area?"
            ],
            "text/plain": [
              "<IPython.core.display.HTML object>"
            ]
          },
          "metadata": {
            "tags": []
          }
        },
        {
          "output_type": "stream",
          "text": [
            "\n",
            "[Succeeded / Failed / Total] 7 / 11 / 19:  80%|████████  | 20/25 [00:04<00:01,  4.65it/s]\u001b[A\n",
            "[Succeeded / Failed / Total] 8 / 11 / 20:  80%|████████  | 20/25 [00:04<00:01,  4.64it/s]\u001b[A"
          ],
          "name": "stderr"
        },
        {
          "output_type": "display_data",
          "data": {
            "text/html": [
              "<font color = red>Not_duplicate (100%)</font> --> <font color = red>[FAILED]</font><br><font color = bold><font color = underline>Question1</font></font>: How is vanilla extract made?\n",
              "<font color = bold><font color = underline>Question2</font></font>: How do you make sugar cookies without vanilla extract?"
            ],
            "text/plain": [
              "<IPython.core.display.HTML object>"
            ]
          },
          "metadata": {
            "tags": []
          }
        },
        {
          "output_type": "stream",
          "text": [
            "\n",
            "[Succeeded / Failed / Total] 8 / 12 / 21:  84%|████████▍ | 21/25 [00:04<00:00,  4.63it/s]\u001b[A"
          ],
          "name": "stderr"
        },
        {
          "output_type": "display_data",
          "data": {
            "text/html": [
              "<font color = green>Duplicate (100%)</font> --> <font color = red>[FAILED]</font><br><font color = bold><font color = underline>Question1</font></font>: What is the Sahara, and how do the average temperatures there compare to the ones in the Patagonian Desert?\n",
              "<font color = bold><font color = underline>Question2</font></font>: What is the Sahara, and how do the average temperatures there compare to the ones in the Registan Desert?"
            ],
            "text/plain": [
              "<IPython.core.display.HTML object>"
            ]
          },
          "metadata": {
            "tags": []
          }
        },
        {
          "output_type": "stream",
          "text": [
            "\n",
            "[Succeeded / Failed / Total] 8 / 12 / 21:  88%|████████▊ | 22/25 [00:04<00:00,  4.51it/s]\u001b[A\n",
            "[Succeeded / Failed / Total] 8 / 13 / 22:  88%|████████▊ | 22/25 [00:04<00:00,  4.50it/s]\u001b[A"
          ],
          "name": "stderr"
        },
        {
          "output_type": "display_data",
          "data": {
            "text/html": [
              "<font color = red>Not_duplicate (100%)</font> --> <font color = red>[FAILED]</font><br><font color = bold><font color = underline>Question1</font></font>: Why was the Roman Empire so successful?\n",
              "<font color = bold><font color = underline>Question2</font></font>: What are some of the rarely known facts about the Roman Empire?"
            ],
            "text/plain": [
              "<IPython.core.display.HTML object>"
            ]
          },
          "metadata": {
            "tags": []
          }
        },
        {
          "output_type": "stream",
          "text": [
            "\n",
            "[Succeeded / Failed / Total] 8 / 14 / 23:  92%|█████████▏| 23/25 [00:05<00:00,  4.53it/s]\u001b[A"
          ],
          "name": "stderr"
        },
        {
          "output_type": "display_data",
          "data": {
            "text/html": [
              "<font color = red>Not_duplicate (97%)</font> --> <font color = red>[FAILED]</font><br><font color = bold><font color = underline>Question1</font></font>: Is it advisable to sent your cv to a professor with whom you are trying to make contact for graduate admission?\n",
              "<font color = bold><font color = underline>Question2</font></font>: How does contacting a professor before applying factor into graduate admissions?"
            ],
            "text/plain": [
              "<IPython.core.display.HTML object>"
            ]
          },
          "metadata": {
            "tags": []
          }
        },
        {
          "output_type": "stream",
          "text": [
            "\n",
            "[Succeeded / Failed / Total] 8 / 14 / 23:  96%|█████████▌| 24/25 [00:05<00:00,  4.37it/s]\u001b[A\n",
            "[Succeeded / Failed / Total] 8 / 15 / 24:  96%|█████████▌| 24/25 [00:05<00:00,  4.36it/s]\u001b[A"
          ],
          "name": "stderr"
        },
        {
          "output_type": "display_data",
          "data": {
            "text/html": [
              "<font color = red>Not_duplicate (100%)</font> --> <font color = red>[FAILED]</font><br><font color = bold><font color = underline>Question1</font></font>: Does a RainTPL syntax extension for Sublime Text exist? Where can I download it?\n",
              "<font color = bold><font color = underline>Question2</font></font>: How do I hide the find/replace bar in Sublime Text 2?"
            ],
            "text/plain": [
              "<IPython.core.display.HTML object>"
            ]
          },
          "metadata": {
            "tags": []
          }
        },
        {
          "output_type": "stream",
          "text": [
            "\n",
            "[Succeeded / Failed / Total] 8 / 16 / 25: 100%|██████████| 25/25 [00:05<00:00,  4.33it/s]\u001b[A"
          ],
          "name": "stderr"
        },
        {
          "output_type": "display_data",
          "data": {
            "text/html": [
              "<font color = red>Not_duplicate (100%)</font> --> <font color = red>[FAILED]</font><br><font color = bold><font color = underline>Question1</font></font>: What is the average salary of a microbiologist in India?\n",
              "<font color = bold><font color = underline>Question2</font></font>: What is the salary for a psychologist in india?"
            ],
            "text/plain": [
              "<IPython.core.display.HTML object>"
            ]
          },
          "metadata": {
            "tags": []
          }
        },
        {
          "output_type": "stream",
          "text": [
            "\n",
            "[Succeeded / Failed / Total] 8 / 16 / 25: : 26it [00:05,  4.35it/s]                      \u001b[A\n",
            "[Succeeded / Failed / Total] 8 / 17 / 26: : 26it [00:05,  4.34it/s]"
          ],
          "name": "stderr"
        },
        {
          "output_type": "stream",
          "text": [
            "+-------------------------------+--------+\n",
            "| Attack Results                |        |\n",
            "+-------------------------------+--------+\n",
            "| Number of successful attacks: | 8      |\n",
            "| Number of failed attacks:     | 17     |\n",
            "| Number of skipped attacks:    | 1      |\n",
            "| Original accuracy:            | 96.15% |\n",
            "| Accuracy under attack:        | 65.38% |\n",
            "| Attack success rate:          | 32.0%  |\n",
            "| Average perturbed word %:     | 11.61% |\n",
            "| Average num. words per input: | 22.5   |\n",
            "| Avg num queries:              | 30.4   |\n",
            "+-------------------------------+--------+"
          ],
          "name": "stdout"
        },
        {
          "output_type": "stream",
          "text": [
            "\n",
            "\u001b[34;1mtextattack\u001b[0m: Attack time: 6.0062010288238525s\n"
          ],
          "name": "stderr"
        }
      ]
    },
    {
      "cell_type": "markdown",
      "metadata": {
        "id": "10S6S32rtXtL"
      },
      "source": [
        "### Glove, GreedyWordSwapWIR RepeatModification, StopwordModification"
      ]
    },
    {
      "cell_type": "code",
      "metadata": {
        "colab": {
          "base_uri": "https://localhost:8080/"
        },
        "id": "STAeDRN6Obr_",
        "outputId": "b26863b7-c90e-4e7a-aae2-1df0c00a257e"
      },
      "source": [
        "# We're going to use our word swap class as the attack transformation.\n",
        "transformation = Swapper__()\n",
        "\n",
        "constraints = [RepeatModification(),\n",
        "               StopwordModification()]\n",
        "\n",
        "search_method = GreedyWordSwapWIR()\n",
        "\n",
        "goal_function = UntargetedClassification(model_wrapper)\n",
        "\n",
        "# Now, let's make the attack from the 4 components:\n",
        "attack = Attack(goal_function, constraints, transformation, search_method)"
      ],
      "execution_count": 34,
      "outputs": [
        {
          "output_type": "stream",
          "text": [
            "\u001b[34;1mtextattack\u001b[0m: Unknown if model of class <class 'transformers.models.distilbert.modeling_distilbert.DistilBertForSequenceClassification'> compatible with goal function <class 'textattack.goal_functions.classification.untargeted_classification.UntargetedClassification'>.\n"
          ],
          "name": "stderr"
        }
      ]
    },
    {
      "cell_type": "code",
      "metadata": {
        "colab": {
          "base_uri": "https://localhost:8080/"
        },
        "id": "gQ_bQqzYO2Zb",
        "outputId": "3e12074e-3f80-4600-dd4f-60e3443983f8"
      },
      "source": [
        "print(attack)"
      ],
      "execution_count": 35,
      "outputs": [
        {
          "output_type": "stream",
          "text": [
            "Attack(\n",
            "  (search_method): GreedyWordSwapWIR(\n",
            "    (wir_method):  unk\n",
            "  )\n",
            "  (goal_function):  UntargetedClassification\n",
            "  (transformation):  Swapper__\n",
            "  (constraints): \n",
            "    (0): RepeatModification\n",
            "    (1): StopwordModification\n",
            "  (is_black_box):  True\n",
            ")\n"
          ],
          "name": "stdout"
        }
      ]
    },
    {
      "cell_type": "code",
      "metadata": {
        "colab": {
          "base_uri": "https://localhost:8080/",
          "height": 1000
        },
        "id": "B7aWCrzTO4xp",
        "outputId": "8e89c726-4dfe-43f0-be43-05e51a8655eb"
      },
      "source": [
        "attack_stats(attack, dataset, 25)"
      ],
      "execution_count": 36,
      "outputs": [
        {
          "output_type": "stream",
          "text": [
            "\n",
            "  0%|          | 0/25 [00:00<?, ?it/s]\u001b[A"
          ],
          "name": "stderr"
        },
        {
          "output_type": "stream",
          "text": [
            "Attack(\n",
            "  (search_method): GreedyWordSwapWIR(\n",
            "    (wir_method):  unk\n",
            "  )\n",
            "  (goal_function):  UntargetedClassification\n",
            "  (transformation):  Swapper__\n",
            "  (constraints): \n",
            "    (0): RepeatModification\n",
            "    (1): StopwordModification\n",
            "  (is_black_box):  True\n",
            ")\n"
          ],
          "name": "stdout"
        },
        {
          "output_type": "display_data",
          "data": {
            "text/html": [
              "<font color = red>Not_duplicate (99%)</font> --> <font color = red>[FAILED]</font><br><font color = bold><font color = underline>Question1</font></font>: Why are African-Americans so beautiful?\n",
              "<font color = bold><font color = underline>Question2</font></font>: Why are hispanics so beautiful?"
            ],
            "text/plain": [
              "<IPython.core.display.HTML object>"
            ]
          },
          "metadata": {
            "tags": []
          }
        },
        {
          "output_type": "stream",
          "text": [
            "\n",
            "  4%|▍         | 1/25 [00:00<00:04,  5.82it/s]\u001b[A\n",
            "[Succeeded / Failed / Total] 0 / 1 / 1:   4%|▍         | 1/25 [00:00<00:04,  5.39it/s]\u001b[A"
          ],
          "name": "stderr"
        },
        {
          "output_type": "display_data",
          "data": {
            "text/html": [
              "<font color = red>Not_duplicate (100%)</font> --> <font color = red>[FAILED]</font><br><font color = bold><font color = underline>Question1</font></font>: I want to pursue PhD in Computer Science about social network,what is the open problem in social networks?\n",
              "<font color = bold><font color = underline>Question2</font></font>: I handle social media for a non-profit. Should I start going to social media networking events? Are there any good ones in the bay area?"
            ],
            "text/plain": [
              "<IPython.core.display.HTML object>"
            ]
          },
          "metadata": {
            "tags": []
          }
        },
        {
          "output_type": "stream",
          "text": [
            "\n",
            "[Succeeded / Failed / Total] 0 / 1 / 1:   8%|▊         | 2/25 [00:01<00:12,  1.78it/s]\u001b[A\n",
            "[Succeeded / Failed / Total] 0 / 2 / 2:   8%|▊         | 2/25 [00:01<00:12,  1.77it/s]\u001b[A"
          ],
          "name": "stderr"
        },
        {
          "output_type": "display_data",
          "data": {
            "text/html": [
              "<font color = green>Duplicate (92%)</font> --> <font color = red>Not_duplicate (97%)</font><br><font color = bold><font color = underline>Question1</font></font>: Is there a reason why we should <font color = green>travel</font> alone?\n",
              "<font color = bold><font color = underline>Question2</font></font>: What are some reasons to travel alone?<br><font color = bold><font color = underline>Question1</font></font>: Is there a reason why we should <font color = red>interstellar</font> alone?\n",
              "<font color = bold><font color = underline>Question2</font></font>: What are some reasons to travel alone?"
            ],
            "text/plain": [
              "<IPython.core.display.HTML object>"
            ]
          },
          "metadata": {
            "tags": []
          }
        },
        {
          "output_type": "stream",
          "text": [
            "\n",
            "[Succeeded / Failed / Total] 0 / 2 / 2:  12%|█▏        | 3/25 [00:01<00:09,  2.39it/s]\u001b[A\n",
            "[Succeeded / Failed / Total] 1 / 2 / 3:  12%|█▏        | 3/25 [00:01<00:09,  2.33it/s]\u001b[A"
          ],
          "name": "stderr"
        },
        {
          "output_type": "display_data",
          "data": {
            "text/html": [
              "<font color = red>Not_duplicate (100%)</font> --> <font color = red>[FAILED]</font><br><font color = bold><font color = underline>Question1</font></font>: Why are people so obsessed with having a girlfriend/boyfriend?\n",
              "<font color = bold><font color = underline>Question2</font></font>: How can a single male have a child?"
            ],
            "text/plain": [
              "<IPython.core.display.HTML object>"
            ]
          },
          "metadata": {
            "tags": []
          }
        },
        {
          "output_type": "stream",
          "text": [
            "\n",
            "[Succeeded / Failed / Total] 1 / 2 / 3:  16%|█▌        | 4/25 [00:01<00:08,  2.44it/s]\u001b[A\n",
            "[Succeeded / Failed / Total] 1 / 3 / 4:  16%|█▌        | 4/25 [00:01<00:08,  2.43it/s]\u001b[A"
          ],
          "name": "stderr"
        },
        {
          "output_type": "display_data",
          "data": {
            "text/html": [
              "<font color = red>Not_duplicate (99%)</font> --> <font color = red>[FAILED]</font><br><font color = bold><font color = underline>Question1</font></font>: What are some good baby girl names starting with D?\n",
              "<font color = bold><font color = underline>Question2</font></font>: What are some good baby girl names starting with D or H?"
            ],
            "text/plain": [
              "<IPython.core.display.HTML object>"
            ]
          },
          "metadata": {
            "tags": []
          }
        },
        {
          "output_type": "stream",
          "text": [
            "\n",
            "[Succeeded / Failed / Total] 1 / 3 / 4:  20%|██        | 5/25 [00:02<00:08,  2.40it/s]\u001b[A\n",
            "[Succeeded / Failed / Total] 1 / 4 / 5:  20%|██        | 5/25 [00:02<00:08,  2.39it/s]\u001b[A"
          ],
          "name": "stderr"
        },
        {
          "output_type": "display_data",
          "data": {
            "text/html": [
              "<font color = green>Duplicate (97%)</font> --> <font color = red>Not_duplicate (91%)</font><br><font color = bold><font color = underline>Question1</font></font>: I am 25 year old guy and never had a <font color = green>girlfriend</font>. Is this weird?\n",
              "<font color = bold><font color = underline>Question2</font></font>: I am 25 years old. I have <font color = green>never</font> had a girlfriend. Is something wrong with me?<br><font color = bold><font color = underline>Question1</font></font>: I am 25 year old guy and never had a <font color = red>boyfriend</font>. Is this weird?\n",
              "<font color = bold><font color = underline>Question2</font></font>: I am 25 years old. I have <font color = red>actually</font> had a girlfriend. Is something wrong with me?"
            ],
            "text/plain": [
              "<IPython.core.display.HTML object>"
            ]
          },
          "metadata": {
            "tags": []
          }
        },
        {
          "output_type": "stream",
          "text": [
            "\n",
            "[Succeeded / Failed / Total] 1 / 4 / 5:  24%|██▍       | 6/25 [00:02<00:07,  2.59it/s]\u001b[A\n",
            "[Succeeded / Failed / Total] 2 / 4 / 6:  24%|██▍       | 6/25 [00:02<00:07,  2.59it/s]\u001b[A"
          ],
          "name": "stderr"
        },
        {
          "output_type": "display_data",
          "data": {
            "text/html": [
              "<font color = green>Duplicate (60%)</font> --> <font color = red>Not_duplicate (100%)</font><br><font color = bold><font color = underline>Question1</font></font>: \"What does a good answer on Quora look like? What does it mean to \"\"be helpful\"\"?\"\n",
              "<font color = bold><font color = underline>Question2</font></font>: How do you write a good <font color = green>answer</font> on Quora?<br><font color = bold><font color = underline>Question1</font></font>: \"What does a good answer on Quora look like? What does it mean to \"\"be helpful\"\"?\"\n",
              "<font color = bold><font color = underline>Question2</font></font>: How do you write a good <font color = red>questions</font> on Quora?"
            ],
            "text/plain": [
              "<IPython.core.display.HTML object>"
            ]
          },
          "metadata": {
            "tags": []
          }
        },
        {
          "output_type": "stream",
          "text": [
            "\n",
            "[Succeeded / Failed / Total] 2 / 4 / 6:  28%|██▊       | 7/25 [00:02<00:06,  2.81it/s]\u001b[A\n",
            "[Succeeded / Failed / Total] 3 / 4 / 7:  28%|██▊       | 7/25 [00:02<00:06,  2.81it/s]\u001b[A"
          ],
          "name": "stderr"
        },
        {
          "output_type": "display_data",
          "data": {
            "text/html": [
              "<font color = green>Duplicate (58%)</font> --> <font color = red>Not_duplicate (98%)</font><br><font color = bold><font color = underline>Question1</font></font>: What are the best <font color = green>things</font> to do in Hong Kong?\n",
              "<font color = bold><font color = underline>Question2</font></font>: What is the best thing in Hong Kong?<br><font color = bold><font color = underline>Question1</font></font>: What are the best <font color = red>endureth</font> to do in Hong Kong?\n",
              "<font color = bold><font color = underline>Question2</font></font>: What is the best thing in Hong Kong?"
            ],
            "text/plain": [
              "<IPython.core.display.HTML object>"
            ]
          },
          "metadata": {
            "tags": []
          }
        },
        {
          "output_type": "stream",
          "text": [
            "\n",
            "[Succeeded / Failed / Total] 3 / 4 / 7:  32%|███▏      | 8/25 [00:02<00:05,  3.05it/s]\u001b[A\n",
            "[Succeeded / Failed / Total] 4 / 4 / 8:  32%|███▏      | 8/25 [00:02<00:05,  3.05it/s]\u001b[A"
          ],
          "name": "stderr"
        },
        {
          "output_type": "display_data",
          "data": {
            "text/html": [
              "<font color = green>Duplicate (88%)</font> --> <font color = gray>[SKIPPED]</font><br><font color = bold><font color = underline>Question1</font></font>: Why is my life getting so complicated?\n",
              "<font color = bold><font color = underline>Question2</font></font>: Why is my life so complicated?"
            ],
            "text/plain": [
              "<IPython.core.display.HTML object>"
            ]
          },
          "metadata": {
            "tags": []
          }
        },
        {
          "output_type": "stream",
          "text": [
            "\n",
            "[Succeeded / Failed / Total] 4 / 4 / 9:  36%|███▌      | 9/25 [00:02<00:04,  3.41it/s]\u001b[A"
          ],
          "name": "stderr"
        },
        {
          "output_type": "display_data",
          "data": {
            "text/html": [
              "<font color = red>Not_duplicate (100%)</font> --> <font color = red>[FAILED]</font><br><font color = bold><font color = underline>Question1</font></font>: Why should I crack Jee?\n",
              "<font color = bold><font color = underline>Question2</font></font>: Is it possible to get into IIMs with low marks in graduation and 12th?"
            ],
            "text/plain": [
              "<IPython.core.display.HTML object>"
            ]
          },
          "metadata": {
            "tags": []
          }
        },
        {
          "output_type": "stream",
          "text": [
            "\n",
            "[Succeeded / Failed / Total] 4 / 4 / 9:  40%|████      | 10/25 [00:02<00:04,  3.40it/s]\u001b[A\n",
            "[Succeeded / Failed / Total] 4 / 5 / 10:  40%|████      | 10/25 [00:02<00:04,  3.39it/s]\u001b[A"
          ],
          "name": "stderr"
        },
        {
          "output_type": "display_data",
          "data": {
            "text/html": [
              "<font color = red>Not_duplicate (99%)</font> --> <font color = red>[FAILED]</font><br><font color = bold><font color = underline>Question1</font></font>: Can you TRANSLATE these to English language?\n",
              "<font color = bold><font color = underline>Question2</font></font>: Can you translate this from Bengali to English language?"
            ],
            "text/plain": [
              "<IPython.core.display.HTML object>"
            ]
          },
          "metadata": {
            "tags": []
          }
        },
        {
          "output_type": "stream",
          "text": [
            "\n",
            "[Succeeded / Failed / Total] 4 / 6 / 11:  44%|████▍     | 11/25 [00:03<00:03,  3.51it/s]\u001b[A"
          ],
          "name": "stderr"
        },
        {
          "output_type": "display_data",
          "data": {
            "text/html": [
              "<font color = red>Not_duplicate (100%)</font> --> <font color = red>[FAILED]</font><br><font color = bold><font color = underline>Question1</font></font>: Can anyone tell shall mi mix mobile should be purchased or not?\n",
              "<font color = bold><font color = underline>Question2</font></font>: \"What did Voltaire mean when he said, \"\"God is a comedian playing to an audience that is too afraid to laugh\"\"?\""
            ],
            "text/plain": [
              "<IPython.core.display.HTML object>"
            ]
          },
          "metadata": {
            "tags": []
          }
        },
        {
          "output_type": "stream",
          "text": [
            "\n",
            "[Succeeded / Failed / Total] 4 / 6 / 11:  48%|████▊     | 12/25 [00:03<00:04,  3.19it/s]\u001b[A\n",
            "[Succeeded / Failed / Total] 4 / 7 / 12:  48%|████▊     | 12/25 [00:03<00:04,  3.18it/s]\u001b[A"
          ],
          "name": "stderr"
        },
        {
          "output_type": "display_data",
          "data": {
            "text/html": [
              "<font color = green>Duplicate (97%)</font> --> <font color = red>Not_duplicate (95%)</font><br><font color = bold><font color = underline>Question1</font></font>: Which is the best gaming <font color = green>laptop</font> under 40k?\n",
              "<font color = bold><font color = underline>Question2</font></font>: Which is the best gaming laptop under 40,000 rs?<br><font color = bold><font color = underline>Question1</font></font>: Which is the best gaming <font color = red>confetti</font> under 40k?\n",
              "<font color = bold><font color = underline>Question2</font></font>: Which is the best gaming laptop under 40,000 rs?"
            ],
            "text/plain": [
              "<IPython.core.display.HTML object>"
            ]
          },
          "metadata": {
            "tags": []
          }
        },
        {
          "output_type": "stream",
          "text": [
            "\n",
            "[Succeeded / Failed / Total] 5 / 7 / 13:  52%|█████▏    | 13/25 [00:03<00:03,  3.33it/s]\u001b[A"
          ],
          "name": "stderr"
        },
        {
          "output_type": "display_data",
          "data": {
            "text/html": [
              "<font color = red>Not_duplicate (100%)</font> --> <font color = red>[FAILED]</font><br><font color = bold><font color = underline>Question1</font></font>: Why Tamil Nadu Universities are no good?\n",
              "<font color = bold><font color = underline>Question2</font></font>: Why are the 10th students able to score 100% in Tamil Nadu?"
            ],
            "text/plain": [
              "<IPython.core.display.HTML object>"
            ]
          },
          "metadata": {
            "tags": []
          }
        },
        {
          "output_type": "stream",
          "text": [
            "\n",
            "[Succeeded / Failed / Total] 5 / 7 / 13:  56%|█████▌    | 14/25 [00:04<00:03,  3.37it/s]\u001b[A\n",
            "[Succeeded / Failed / Total] 5 / 8 / 14:  56%|█████▌    | 14/25 [00:04<00:03,  3.37it/s]\u001b[A"
          ],
          "name": "stderr"
        },
        {
          "output_type": "display_data",
          "data": {
            "text/html": [
              "<font color = red>Not_duplicate (100%)</font> --> <font color = red>[FAILED]</font><br><font color = bold><font color = underline>Question1</font></font>: What is an easy way to clean toothpaste stains from a shirt without washing it?\n",
              "<font color = bold><font color = underline>Question2</font></font>: What are some ways to remove hard water stains from dishes?"
            ],
            "text/plain": [
              "<IPython.core.display.HTML object>"
            ]
          },
          "metadata": {
            "tags": []
          }
        },
        {
          "output_type": "stream",
          "text": [
            "\n",
            "[Succeeded / Failed / Total] 5 / 9 / 15:  60%|██████    | 15/25 [00:04<00:03,  3.16it/s]\u001b[A"
          ],
          "name": "stderr"
        },
        {
          "output_type": "display_data",
          "data": {
            "text/html": [
              "<font color = green>Duplicate (84%)</font> --> <font color = red>Not_duplicate (92%)</font><br><font color = bold><font color = underline>Question1</font></font>: What was the deadliest battle in <font color = green>history</font>?\n",
              "<font color = bold><font color = underline>Question2</font></font>: What was the bloodiest battle in history?<br><font color = bold><font color = underline>Question1</font></font>: What was the deadliest battle in <font color = red>cmessier</font>?\n",
              "<font color = bold><font color = underline>Question2</font></font>: What was the bloodiest battle in history?"
            ],
            "text/plain": [
              "<IPython.core.display.HTML object>"
            ]
          },
          "metadata": {
            "tags": []
          }
        },
        {
          "output_type": "stream",
          "text": [
            "\n",
            "[Succeeded / Failed / Total] 5 / 9 / 15:  64%|██████▍   | 16/25 [00:04<00:02,  3.28it/s]\u001b[A\n",
            "[Succeeded / Failed / Total] 6 / 9 / 16:  64%|██████▍   | 16/25 [00:04<00:02,  3.28it/s]\u001b[A"
          ],
          "name": "stderr"
        },
        {
          "output_type": "display_data",
          "data": {
            "text/html": [
              "<font color = green>Duplicate (100%)</font> --> <font color = red>[FAILED]</font><br><font color = bold><font color = underline>Question1</font></font>: What are your views about demonetisation in India?\n",
              "<font color = bold><font color = underline>Question2</font></font>: What do you think about the ban on 500 and 1000 denomination notes in India?"
            ],
            "text/plain": [
              "<IPython.core.display.HTML object>"
            ]
          },
          "metadata": {
            "tags": []
          }
        },
        {
          "output_type": "stream",
          "text": [
            "\n",
            "[Succeeded / Failed / Total] 6 / 10 / 17:  68%|██████▊   | 17/25 [00:05<00:02,  3.29it/s]\u001b[A"
          ],
          "name": "stderr"
        },
        {
          "output_type": "display_data",
          "data": {
            "text/html": [
              "<font color = red>Not_duplicate (100%)</font> --> <font color = red>[FAILED]</font><br><font color = bold><font color = underline>Question1</font></font>: What are the difference between polyester 210T and 210D?\n",
              "<font color = bold><font color = underline>Question2</font></font>: What is the difference between cotton and polyester?"
            ],
            "text/plain": [
              "<IPython.core.display.HTML object>"
            ]
          },
          "metadata": {
            "tags": []
          }
        },
        {
          "output_type": "stream",
          "text": [
            "\n",
            "[Succeeded / Failed / Total] 6 / 10 / 17:  72%|███████▏  | 18/25 [00:05<00:02,  3.31it/s]\u001b[A\n",
            "[Succeeded / Failed / Total] 6 / 11 / 18:  72%|███████▏  | 18/25 [00:05<00:02,  3.30it/s]\u001b[A"
          ],
          "name": "stderr"
        },
        {
          "output_type": "display_data",
          "data": {
            "text/html": [
              "<font color = red>Not_duplicate (92%)</font> --> <font color = red>[FAILED]</font><br><font color = bold><font color = underline>Question1</font></font>: Is FMS Delhi a good option for a MBA executive program?\n",
              "<font color = bold><font color = underline>Question2</font></font>: Is FMS a good choice for an MBA in HR? Why and why not?"
            ],
            "text/plain": [
              "<IPython.core.display.HTML object>"
            ]
          },
          "metadata": {
            "tags": []
          }
        },
        {
          "output_type": "stream",
          "text": [
            "\n",
            "[Succeeded / Failed / Total] 6 / 12 / 19:  76%|███████▌  | 19/25 [00:05<00:01,  3.29it/s]\u001b[A"
          ],
          "name": "stderr"
        },
        {
          "output_type": "display_data",
          "data": {
            "text/html": [
              "<font color = green>Duplicate (57%)</font> --> <font color = red>Not_duplicate (91%)</font><br><font color = bold><font color = underline>Question1</font></font>: Is it a bad <font color = green>time</font> to buy a condo or a house in the Bay Area in 2017?\n",
              "<font color = bold><font color = underline>Question2</font></font>: Would 2017 be a good time to buy a house in Bay Area?<br><font color = bold><font color = underline>Question1</font></font>: Is it a bad <font color = red>trialling</font> to buy a condo or a house in the Bay Area in 2017?\n",
              "<font color = bold><font color = underline>Question2</font></font>: Would 2017 be a good time to buy a house in Bay Area?"
            ],
            "text/plain": [
              "<IPython.core.display.HTML object>"
            ]
          },
          "metadata": {
            "tags": []
          }
        },
        {
          "output_type": "stream",
          "text": [
            "\n",
            "[Succeeded / Failed / Total] 6 / 12 / 19:  80%|████████  | 20/25 [00:05<00:01,  3.36it/s]\u001b[A\n",
            "[Succeeded / Failed / Total] 7 / 12 / 20:  80%|████████  | 20/25 [00:05<00:01,  3.35it/s]\u001b[A"
          ],
          "name": "stderr"
        },
        {
          "output_type": "display_data",
          "data": {
            "text/html": [
              "<font color = red>Not_duplicate (100%)</font> --> <font color = red>[FAILED]</font><br><font color = bold><font color = underline>Question1</font></font>: How is vanilla extract made?\n",
              "<font color = bold><font color = underline>Question2</font></font>: How do you make sugar cookies without vanilla extract?"
            ],
            "text/plain": [
              "<IPython.core.display.HTML object>"
            ]
          },
          "metadata": {
            "tags": []
          }
        },
        {
          "output_type": "stream",
          "text": [
            "\n",
            "[Succeeded / Failed / Total] 7 / 13 / 21:  84%|████████▍ | 21/25 [00:06<00:01,  3.32it/s]\u001b[A"
          ],
          "name": "stderr"
        },
        {
          "output_type": "display_data",
          "data": {
            "text/html": [
              "<font color = green>Duplicate (100%)</font> --> <font color = red>[FAILED]</font><br><font color = bold><font color = underline>Question1</font></font>: What is the Sahara, and how do the average temperatures there compare to the ones in the Patagonian Desert?\n",
              "<font color = bold><font color = underline>Question2</font></font>: What is the Sahara, and how do the average temperatures there compare to the ones in the Registan Desert?"
            ],
            "text/plain": [
              "<IPython.core.display.HTML object>"
            ]
          },
          "metadata": {
            "tags": []
          }
        },
        {
          "output_type": "stream",
          "text": [
            "\n",
            "[Succeeded / Failed / Total] 7 / 13 / 21:  88%|████████▊ | 22/25 [00:06<00:00,  3.24it/s]\u001b[A\n",
            "[Succeeded / Failed / Total] 7 / 14 / 22:  88%|████████▊ | 22/25 [00:06<00:00,  3.24it/s]\u001b[A"
          ],
          "name": "stderr"
        },
        {
          "output_type": "display_data",
          "data": {
            "text/html": [
              "<font color = red>Not_duplicate (100%)</font> --> <font color = red>[FAILED]</font><br><font color = bold><font color = underline>Question1</font></font>: Why was the Roman Empire so successful?\n",
              "<font color = bold><font color = underline>Question2</font></font>: What are some of the rarely known facts about the Roman Empire?"
            ],
            "text/plain": [
              "<IPython.core.display.HTML object>"
            ]
          },
          "metadata": {
            "tags": []
          }
        },
        {
          "output_type": "stream",
          "text": [
            "\n",
            "[Succeeded / Failed / Total] 7 / 15 / 23:  92%|█████████▏| 23/25 [00:07<00:00,  3.27it/s]\u001b[A"
          ],
          "name": "stderr"
        },
        {
          "output_type": "display_data",
          "data": {
            "text/html": [
              "<font color = red>Not_duplicate (97%)</font> --> <font color = red>[FAILED]</font><br><font color = bold><font color = underline>Question1</font></font>: Is it advisable to sent your cv to a professor with whom you are trying to make contact for graduate admission?\n",
              "<font color = bold><font color = underline>Question2</font></font>: How does contacting a professor before applying factor into graduate admissions?"
            ],
            "text/plain": [
              "<IPython.core.display.HTML object>"
            ]
          },
          "metadata": {
            "tags": []
          }
        },
        {
          "output_type": "stream",
          "text": [
            "\n",
            "[Succeeded / Failed / Total] 7 / 15 / 23:  96%|█████████▌| 24/25 [00:07<00:00,  3.12it/s]\u001b[A\n",
            "[Succeeded / Failed / Total] 7 / 16 / 24:  96%|█████████▌| 24/25 [00:07<00:00,  3.11it/s]\u001b[A"
          ],
          "name": "stderr"
        },
        {
          "output_type": "display_data",
          "data": {
            "text/html": [
              "<font color = red>Not_duplicate (100%)</font> --> <font color = red>[FAILED]</font><br><font color = bold><font color = underline>Question1</font></font>: Does a RainTPL syntax extension for Sublime Text exist? Where can I download it?\n",
              "<font color = bold><font color = underline>Question2</font></font>: How do I hide the find/replace bar in Sublime Text 2?"
            ],
            "text/plain": [
              "<IPython.core.display.HTML object>"
            ]
          },
          "metadata": {
            "tags": []
          }
        },
        {
          "output_type": "stream",
          "text": [
            "\n",
            "[Succeeded / Failed / Total] 7 / 17 / 25: 100%|██████████| 25/25 [00:08<00:00,  3.07it/s]\u001b[A"
          ],
          "name": "stderr"
        },
        {
          "output_type": "display_data",
          "data": {
            "text/html": [
              "<font color = red>Not_duplicate (100%)</font> --> <font color = green>Duplicate (52%)</font><br><font color = bold><font color = underline>Question1</font></font>: What is the average salary of a microbiologist in India?\n",
              "<font color = bold><font color = underline>Question2</font></font>: What is the salary for a <font color = red>psychologist</font> in <font color = red>india</font>?<br><font color = bold><font color = underline>Question1</font></font>: What is the average salary of a microbiologist in India?\n",
              "<font color = bold><font color = underline>Question2</font></font>: What is the salary for a <font color = green>zoologist</font> in <font color = green>pakistan</font>?"
            ],
            "text/plain": [
              "<IPython.core.display.HTML object>"
            ]
          },
          "metadata": {
            "tags": []
          }
        },
        {
          "output_type": "stream",
          "text": [
            "\n",
            "[Succeeded / Failed / Total] 7 / 17 / 25: : 26it [00:08,  3.08it/s]                      \u001b[A\n",
            "[Succeeded / Failed / Total] 8 / 17 / 26: : 26it [00:08,  3.07it/s]"
          ],
          "name": "stderr"
        },
        {
          "output_type": "stream",
          "text": [
            "+-------------------------------+--------+\n",
            "| Attack Results                |        |\n",
            "+-------------------------------+--------+\n",
            "| Number of successful attacks: | 8      |\n",
            "| Number of failed attacks:     | 17     |\n",
            "| Number of skipped attacks:    | 1      |\n",
            "| Original accuracy:            | 96.15% |\n",
            "| Accuracy under attack:        | 65.38% |\n",
            "| Attack success rate:          | 32.0%  |\n",
            "| Average perturbed word %:     | 6.12%  |\n",
            "| Average num. words per input: | 22.5   |\n",
            "| Avg num queries:              | 30.12  |\n",
            "+-------------------------------+--------+"
          ],
          "name": "stdout"
        },
        {
          "output_type": "stream",
          "text": [
            "\n",
            "\u001b[34;1mtextattack\u001b[0m: Attack time: 8.466029405593872s\n"
          ],
          "name": "stderr"
        }
      ]
    },
    {
      "cell_type": "markdown",
      "metadata": {
        "id": "DFoHgnBPtcAh"
      },
      "source": [
        "### FastText, ParticleSwarmOptimization, RepeatModification, StopwordModification"
      ]
    },
    {
      "cell_type": "code",
      "metadata": {
        "colab": {
          "base_uri": "https://localhost:8080/"
        },
        "id": "8rK5QW2hnCiI",
        "outputId": "f3d75ba3-f44c-4229-bf0f-c7d946c387b0"
      },
      "source": [
        "from textattack.search_methods import ParticleSwarmOptimization\n",
        "\n",
        "\n",
        "# We're going to use our word swap class as the attack transformation.\n",
        "transformation = Swapper()\n",
        "\n",
        "constraints = [RepeatModification(),\n",
        "               StopwordModification()]\n",
        "\n",
        "search_method = ParticleSwarmOptimization(pop_size=10,max_iters=5,post_turn_check=True)\n",
        "\n",
        "goal_function = UntargetedClassification(model_wrapper)\n",
        "\n",
        "# Now, let's make the attack from the 4 components:\n",
        "attack = Attack(goal_function, constraints, transformation, search_method)"
      ],
      "execution_count": 37,
      "outputs": [
        {
          "output_type": "stream",
          "text": [
            "\u001b[34;1mtextattack\u001b[0m: Unknown if model of class <class 'transformers.models.distilbert.modeling_distilbert.DistilBertForSequenceClassification'> compatible with goal function <class 'textattack.goal_functions.classification.untargeted_classification.UntargetedClassification'>.\n"
          ],
          "name": "stderr"
        }
      ]
    },
    {
      "cell_type": "code",
      "metadata": {
        "colab": {
          "base_uri": "https://localhost:8080/"
        },
        "id": "gUWI3gs9nzz2",
        "outputId": "c8888d6e-c50c-41da-bec9-5e024ab9f3b4"
      },
      "source": [
        "print(attack)"
      ],
      "execution_count": 38,
      "outputs": [
        {
          "output_type": "stream",
          "text": [
            "Attack(\n",
            "  (search_method): ParticleSwarmOptimization(\n",
            "    (pop_size):  10\n",
            "    (max_iters):  5\n",
            "    (post_turn_check):  True\n",
            "    (max_turn_retries):  20\n",
            "  )\n",
            "  (goal_function):  UntargetedClassification\n",
            "  (transformation):  Swapper\n",
            "  (constraints): \n",
            "    (0): RepeatModification\n",
            "    (1): StopwordModification\n",
            "  (is_black_box):  True\n",
            ")\n"
          ],
          "name": "stdout"
        }
      ]
    },
    {
      "cell_type": "code",
      "metadata": {
        "colab": {
          "base_uri": "https://localhost:8080/",
          "height": 1000
        },
        "id": "eynxLKPCn2c7",
        "outputId": "16c96d62-d9af-4cf6-94a5-4196093474da"
      },
      "source": [
        "attack_stats(attack, dataset, 25)"
      ],
      "execution_count": 39,
      "outputs": [
        {
          "output_type": "stream",
          "text": [
            "\n",
            "  0%|          | 0/25 [00:00<?, ?it/s]\u001b[A"
          ],
          "name": "stderr"
        },
        {
          "output_type": "stream",
          "text": [
            "Attack(\n",
            "  (search_method): ParticleSwarmOptimization(\n",
            "    (pop_size):  10\n",
            "    (max_iters):  5\n",
            "    (post_turn_check):  True\n",
            "    (max_turn_retries):  20\n",
            "  )\n",
            "  (goal_function):  UntargetedClassification\n",
            "  (transformation):  Swapper\n",
            "  (constraints): \n",
            "    (0): RepeatModification\n",
            "    (1): StopwordModification\n",
            "  (is_black_box):  True\n",
            ")\n"
          ],
          "name": "stdout"
        },
        {
          "output_type": "display_data",
          "data": {
            "text/html": [
              "<font color = red>Not_duplicate (99%)</font> --> <font color = green>Duplicate (52%)</font><br><font color = bold><font color = underline>Question1</font></font>: <font color = red>Why</font> are <font color = red>African-Americans</font> so <font color = red>beautiful</font>?\n",
              "<font color = bold><font color = underline>Question2</font></font>: <font color = red>Why</font> are <font color = red>hispanics</font> so <font color = red>beautiful</font>?<br><font color = bold><font color = underline>Question1</font></font>: <font color = green>Modesty</font> are <font color = green>Americans</font> so <font color = green>dutiful</font>?\n",
              "<font color = bold><font color = underline>Question2</font></font>: <font color = green>Modesty</font> are <font color = green>hispanic</font> so <font color = green>dutiful</font>?"
            ],
            "text/plain": [
              "<IPython.core.display.HTML object>"
            ]
          },
          "metadata": {
            "tags": []
          }
        },
        {
          "output_type": "stream",
          "text": [
            "\n",
            "  4%|▍         | 1/25 [00:01<00:26,  1.12s/it]\u001b[A\n",
            "[Succeeded / Failed / Total] 1 / 0 / 1:   4%|▍         | 1/25 [00:01<00:27,  1.13s/it]\u001b[A"
          ],
          "name": "stderr"
        },
        {
          "output_type": "display_data",
          "data": {
            "text/html": [
              "<font color = red>Not_duplicate (100%)</font> --> <font color = red>[FAILED]</font><br><font color = bold><font color = underline>Question1</font></font>: I want to pursue PhD in Computer Science about social network,what is the open problem in social networks?\n",
              "<font color = bold><font color = underline>Question2</font></font>: I handle social media for a non-profit. Should I start going to social media networking events? Are there any good ones in the bay area?"
            ],
            "text/plain": [
              "<IPython.core.display.HTML object>"
            ]
          },
          "metadata": {
            "tags": []
          }
        },
        {
          "output_type": "stream",
          "text": [
            "\n",
            "[Succeeded / Failed / Total] 1 / 0 / 1:   8%|▊         | 2/25 [00:19<03:40,  9.58s/it]\u001b[A\n",
            "[Succeeded / Failed / Total] 1 / 1 / 2:   8%|▊         | 2/25 [00:19<03:40,  9.59s/it]\u001b[A"
          ],
          "name": "stderr"
        },
        {
          "output_type": "display_data",
          "data": {
            "text/html": [
              "<font color = green>Duplicate (92%)</font> --> <font color = red>Not_duplicate (92%)</font><br><font color = bold><font color = underline>Question1</font></font>: <font color = green>Is</font> there a reason why we should <font color = green>travel</font> <font color = green>alone</font>?\n",
              "<font color = bold><font color = underline>Question2</font></font>: What are some reasons to travel alone?<br><font color = bold><font color = underline>Question1</font></font>: <font color = red>Larva</font> there a reason why we should <font color = red>travelling</font> <font color = red>someone</font>?\n",
              "<font color = bold><font color = underline>Question2</font></font>: What are some reasons to travel alone?"
            ],
            "text/plain": [
              "<IPython.core.display.HTML object>"
            ]
          },
          "metadata": {
            "tags": []
          }
        },
        {
          "output_type": "stream",
          "text": [
            "\n",
            "[Succeeded / Failed / Total] 1 / 1 / 2:  12%|█▏        | 3/25 [00:20<02:27,  6.70s/it]\u001b[A\n",
            "[Succeeded / Failed / Total] 2 / 1 / 3:  12%|█▏        | 3/25 [00:20<02:27,  6.70s/it]\u001b[A"
          ],
          "name": "stderr"
        },
        {
          "output_type": "display_data",
          "data": {
            "text/html": [
              "<font color = red>Not_duplicate (100%)</font> --> <font color = red>[FAILED]</font><br><font color = bold><font color = underline>Question1</font></font>: Why are people so obsessed with having a girlfriend/boyfriend?\n",
              "<font color = bold><font color = underline>Question2</font></font>: How can a single male have a child?"
            ],
            "text/plain": [
              "<IPython.core.display.HTML object>"
            ]
          },
          "metadata": {
            "tags": []
          }
        },
        {
          "output_type": "stream",
          "text": [
            "\n",
            "[Succeeded / Failed / Total] 2 / 1 / 3:  16%|█▌        | 4/25 [00:23<02:01,  5.80s/it]\u001b[A\n",
            "[Succeeded / Failed / Total] 2 / 2 / 4:  16%|█▌        | 4/25 [00:23<02:01,  5.80s/it]\u001b[A"
          ],
          "name": "stderr"
        },
        {
          "output_type": "display_data",
          "data": {
            "text/html": [
              "<font color = red>Not_duplicate (99%)</font> --> <font color = green>Duplicate (56%)</font><br><font color = bold><font color = underline>Question1</font></font>: <font color = red>What</font> are some good baby girl names <font color = red>starting</font> with D?\n",
              "<font color = bold><font color = underline>Question2</font></font>: <font color = red>What</font> are some good baby girl names starting with D or H?<br><font color = bold><font color = underline>Question1</font></font>: <font color = green>Hihat</font> are some good baby girl names <font color = green>farting</font> with D?\n",
              "<font color = bold><font color = underline>Question2</font></font>: <font color = green>Hihat</font> are some good baby girl names starting with D or H?"
            ],
            "text/plain": [
              "<IPython.core.display.HTML object>"
            ]
          },
          "metadata": {
            "tags": []
          }
        },
        {
          "output_type": "stream",
          "text": [
            "\n",
            "[Succeeded / Failed / Total] 2 / 2 / 4:  20%|██        | 5/25 [00:25<01:43,  5.16s/it]\u001b[A\n",
            "[Succeeded / Failed / Total] 3 / 2 / 5:  20%|██        | 5/25 [00:25<01:43,  5.16s/it]\u001b[A"
          ],
          "name": "stderr"
        },
        {
          "output_type": "display_data",
          "data": {
            "text/html": [
              "<font color = green>Duplicate (97%)</font> --> <font color = red>Not_duplicate (91%)</font><br><font color = bold><font color = underline>Question1</font></font>: I am <font color = green>25</font> year old guy and never had a girlfriend. Is this weird?\n",
              "<font color = bold><font color = underline>Question2</font></font>: I am 25 years old. I have never had a girlfriend. Is something wrong with me?<br><font color = bold><font color = underline>Question1</font></font>: I am <font color = red>chmielnicki</font> year old guy and never had a girlfriend. Is this weird?\n",
              "<font color = bold><font color = underline>Question2</font></font>: I am 25 years old. I have never had a girlfriend. Is something wrong with me?"
            ],
            "text/plain": [
              "<IPython.core.display.HTML object>"
            ]
          },
          "metadata": {
            "tags": []
          }
        },
        {
          "output_type": "stream",
          "text": [
            "\n",
            "[Succeeded / Failed / Total] 3 / 2 / 5:  24%|██▍       | 6/25 [00:26<01:22,  4.36s/it]\u001b[A\n",
            "[Succeeded / Failed / Total] 4 / 2 / 6:  24%|██▍       | 6/25 [00:26<01:22,  4.36s/it]\u001b[A"
          ],
          "name": "stderr"
        },
        {
          "output_type": "display_data",
          "data": {
            "text/html": [
              "<font color = green>Duplicate (60%)</font> --> <font color = red>Not_duplicate (100%)</font><br><font color = bold><font color = underline>Question1</font></font>: \"What does a good <font color = green>answer</font> on Quora look like? What does it mean to \"\"be helpful\"\"?\"\n",
              "<font color = bold><font color = underline>Question2</font></font>: How do you write a good answer on Quora?<br><font color = bold><font color = underline>Question1</font></font>: \"What does a good <font color = red>question</font> on Quora look like? What does it mean to \"\"be helpful\"\"?\"\n",
              "<font color = bold><font color = underline>Question2</font></font>: How do you write a good answer on Quora?"
            ],
            "text/plain": [
              "<IPython.core.display.HTML object>"
            ]
          },
          "metadata": {
            "tags": []
          }
        },
        {
          "output_type": "stream",
          "text": [
            "\n",
            "[Succeeded / Failed / Total] 4 / 2 / 6:  28%|██▊       | 7/25 [00:26<01:08,  3.78s/it]\u001b[A\n",
            "[Succeeded / Failed / Total] 5 / 2 / 7:  28%|██▊       | 7/25 [00:26<01:08,  3.78s/it]\u001b[A"
          ],
          "name": "stderr"
        },
        {
          "output_type": "display_data",
          "data": {
            "text/html": [
              "<font color = green>Duplicate (58%)</font> --> <font color = red>Not_duplicate (96%)</font><br><font color = bold><font color = underline>Question1</font></font>: What are the best things to do in <font color = green>Hong</font> Kong?\n",
              "<font color = bold><font color = underline>Question2</font></font>: What is the best thing in Hong Kong?<br><font color = bold><font color = underline>Question1</font></font>: What are the best things to do in <font color = red>Yong</font> Kong?\n",
              "<font color = bold><font color = underline>Question2</font></font>: What is the best thing in Hong Kong?"
            ],
            "text/plain": [
              "<IPython.core.display.HTML object>"
            ]
          },
          "metadata": {
            "tags": []
          }
        },
        {
          "output_type": "stream",
          "text": [
            "\n",
            "[Succeeded / Failed / Total] 5 / 2 / 7:  32%|███▏      | 8/25 [00:26<00:56,  3.33s/it]\u001b[A\n",
            "[Succeeded / Failed / Total] 6 / 2 / 8:  32%|███▏      | 8/25 [00:26<00:56,  3.33s/it]\u001b[A"
          ],
          "name": "stderr"
        },
        {
          "output_type": "display_data",
          "data": {
            "text/html": [
              "<font color = green>Duplicate (88%)</font> --> <font color = gray>[SKIPPED]</font><br><font color = bold><font color = underline>Question1</font></font>: Why is my life getting so complicated?\n",
              "<font color = bold><font color = underline>Question2</font></font>: Why is my life so complicated?"
            ],
            "text/plain": [
              "<IPython.core.display.HTML object>"
            ]
          },
          "metadata": {
            "tags": []
          }
        },
        {
          "output_type": "stream",
          "text": [
            "\n",
            "[Succeeded / Failed / Total] 6 / 2 / 9:  36%|███▌      | 9/25 [00:26<00:47,  2.96s/it]\u001b[A"
          ],
          "name": "stderr"
        },
        {
          "output_type": "display_data",
          "data": {
            "text/html": [
              "<font color = red>Not_duplicate (100%)</font> --> <font color = red>[FAILED]</font><br><font color = bold><font color = underline>Question1</font></font>: Why should I crack Jee?\n",
              "<font color = bold><font color = underline>Question2</font></font>: Is it possible to get into IIMs with low marks in graduation and 12th?"
            ],
            "text/plain": [
              "<IPython.core.display.HTML object>"
            ]
          },
          "metadata": {
            "tags": []
          }
        },
        {
          "output_type": "stream",
          "text": [
            "\n",
            "[Succeeded / Failed / Total] 6 / 2 / 9:  40%|████      | 10/25 [00:30<00:45,  3.01s/it]\u001b[A\n",
            "[Succeeded / Failed / Total] 6 / 3 / 10:  40%|████      | 10/25 [00:30<00:45,  3.01s/it]\u001b[A"
          ],
          "name": "stderr"
        },
        {
          "output_type": "display_data",
          "data": {
            "text/html": [
              "<font color = red>Not_duplicate (99%)</font> --> <font color = green>Duplicate (84%)</font><br><font color = bold><font color = underline>Question1</font></font>: Can you TRANSLATE these to English <font color = red>language</font>?\n",
              "<font color = bold><font color = underline>Question2</font></font>: <font color = red>Can</font> you translate this from Bengali to <font color = red>English</font> <font color = red>language</font>?<br><font color = bold><font color = underline>Question1</font></font>: Can you TRANSLATE these to English <font color = green>anguage</font>?\n",
              "<font color = bold><font color = underline>Question2</font></font>: <font color = green>Yan</font> you translate this from Bengali to <font color = green>Welsh</font> <font color = green>anguage</font>?"
            ],
            "text/plain": [
              "<IPython.core.display.HTML object>"
            ]
          },
          "metadata": {
            "tags": []
          }
        },
        {
          "output_type": "stream",
          "text": [
            "\n",
            "[Succeeded / Failed / Total] 7 / 3 / 11:  44%|████▍     | 11/25 [00:30<00:39,  2.80s/it]\u001b[A"
          ],
          "name": "stderr"
        },
        {
          "output_type": "display_data",
          "data": {
            "text/html": [
              "<font color = red>Not_duplicate (100%)</font> --> <font color = red>[FAILED]</font><br><font color = bold><font color = underline>Question1</font></font>: Can anyone tell shall mi mix mobile should be purchased or not?\n",
              "<font color = bold><font color = underline>Question2</font></font>: \"What did Voltaire mean when he said, \"\"God is a comedian playing to an audience that is too afraid to laugh\"\"?\""
            ],
            "text/plain": [
              "<IPython.core.display.HTML object>"
            ]
          },
          "metadata": {
            "tags": []
          }
        },
        {
          "output_type": "stream",
          "text": [
            "\n",
            "[Succeeded / Failed / Total] 7 / 3 / 11:  48%|████▊     | 12/25 [00:37<00:40,  3.13s/it]\u001b[A\n",
            "[Succeeded / Failed / Total] 7 / 4 / 12:  48%|████▊     | 12/25 [00:37<00:40,  3.14s/it]\u001b[A"
          ],
          "name": "stderr"
        },
        {
          "output_type": "display_data",
          "data": {
            "text/html": [
              "<font color = green>Duplicate (97%)</font> --> <font color = red>Not_duplicate (100%)</font><br><font color = bold><font color = underline>Question1</font></font>: Which is the best gaming laptop under 40k?\n",
              "<font color = bold><font color = underline>Question2</font></font>: Which is the best gaming laptop under <font color = green>40</font>,000 rs?<br><font color = bold><font color = underline>Question1</font></font>: Which is the best gaming laptop under 40k?\n",
              "<font color = bold><font color = underline>Question2</font></font>: Which is the best gaming laptop under <font color = red>undo</font>,000 rs?"
            ],
            "text/plain": [
              "<IPython.core.display.HTML object>"
            ]
          },
          "metadata": {
            "tags": []
          }
        },
        {
          "output_type": "stream",
          "text": [
            "\n",
            "[Succeeded / Failed / Total] 8 / 4 / 13:  52%|█████▏    | 13/25 [00:37<00:34,  2.91s/it]\u001b[A"
          ],
          "name": "stderr"
        },
        {
          "output_type": "display_data",
          "data": {
            "text/html": [
              "<font color = red>Not_duplicate (100%)</font> --> <font color = red>[FAILED]</font><br><font color = bold><font color = underline>Question1</font></font>: Why Tamil Nadu Universities are no good?\n",
              "<font color = bold><font color = underline>Question2</font></font>: Why are the 10th students able to score 100% in Tamil Nadu?"
            ],
            "text/plain": [
              "<IPython.core.display.HTML object>"
            ]
          },
          "metadata": {
            "tags": []
          }
        },
        {
          "output_type": "stream",
          "text": [
            "\n",
            "[Succeeded / Failed / Total] 8 / 4 / 13:  56%|█████▌    | 14/25 [00:40<00:31,  2.91s/it]\u001b[A\n",
            "[Succeeded / Failed / Total] 8 / 5 / 14:  56%|█████▌    | 14/25 [00:40<00:31,  2.91s/it]\u001b[A"
          ],
          "name": "stderr"
        },
        {
          "output_type": "display_data",
          "data": {
            "text/html": [
              "<font color = red>Not_duplicate (100%)</font> --> <font color = red>[FAILED]</font><br><font color = bold><font color = underline>Question1</font></font>: What is an easy way to clean toothpaste stains from a shirt without washing it?\n",
              "<font color = bold><font color = underline>Question2</font></font>: What are some ways to remove hard water stains from dishes?"
            ],
            "text/plain": [
              "<IPython.core.display.HTML object>"
            ]
          },
          "metadata": {
            "tags": []
          }
        },
        {
          "output_type": "stream",
          "text": [
            "\n",
            "[Succeeded / Failed / Total] 8 / 6 / 15:  60%|██████    | 15/25 [00:46<00:30,  3.07s/it]\u001b[A"
          ],
          "name": "stderr"
        },
        {
          "output_type": "display_data",
          "data": {
            "text/html": [
              "<font color = green>Duplicate (84%)</font> --> <font color = red>Not_duplicate (100%)</font><br><font color = bold><font color = underline>Question1</font></font>: What was the deadliest <font color = green>battle</font> in history?\n",
              "<font color = bold><font color = underline>Question2</font></font>: What was the bloodiest battle in history?<br><font color = bold><font color = underline>Question1</font></font>: What was the deadliest <font color = red>battlezone</font> in history?\n",
              "<font color = bold><font color = underline>Question2</font></font>: What was the bloodiest battle in history?"
            ],
            "text/plain": [
              "<IPython.core.display.HTML object>"
            ]
          },
          "metadata": {
            "tags": []
          }
        },
        {
          "output_type": "stream",
          "text": [
            "\n",
            "[Succeeded / Failed / Total] 8 / 6 / 15:  64%|██████▍   | 16/25 [00:46<00:26,  2.89s/it]\u001b[A\n",
            "[Succeeded / Failed / Total] 9 / 6 / 16:  64%|██████▍   | 16/25 [00:46<00:26,  2.89s/it]\u001b[A"
          ],
          "name": "stderr"
        },
        {
          "output_type": "display_data",
          "data": {
            "text/html": [
              "<font color = green>Duplicate (100%)</font> --> <font color = red>Not_duplicate (76%)</font><br><font color = bold><font color = underline>Question1</font></font>: What are your views about demonetisation in India?\n",
              "<font color = bold><font color = underline>Question2</font></font>: What do you <font color = green>think</font> about the ban on <font color = green>500</font> and <font color = green>1000</font> denomination notes in India?<br><font color = bold><font color = underline>Question1</font></font>: What are your views about demonetisation in India?\n",
              "<font color = bold><font color = underline>Question2</font></font>: What do you <font color = red>say</font> about the ban on <font color = red>adrenal</font> and <font color = red>papadopoulos</font> denomination notes in India?"
            ],
            "text/plain": [
              "<IPython.core.display.HTML object>"
            ]
          },
          "metadata": {
            "tags": []
          }
        },
        {
          "output_type": "stream",
          "text": [
            "\n",
            "[Succeeded / Failed / Total] 10 / 6 / 17:  68%|██████▊   | 17/25 [00:47<00:22,  2.79s/it]\u001b[A"
          ],
          "name": "stderr"
        },
        {
          "output_type": "display_data",
          "data": {
            "text/html": [
              "<font color = red>Not_duplicate (100%)</font> --> <font color = green>Duplicate (58%)</font><br><font color = bold><font color = underline>Question1</font></font>: What are the difference between polyester 210T and 210D?\n",
              "<font color = bold><font color = underline>Question2</font></font>: What is the difference between <font color = red>cotton</font> and polyester?<br><font color = bold><font color = underline>Question1</font></font>: What are the difference between polyester 210T and 210D?\n",
              "<font color = bold><font color = underline>Question2</font></font>: What is the difference between <font color = green>wootton</font> and polyester?"
            ],
            "text/plain": [
              "<IPython.core.display.HTML object>"
            ]
          },
          "metadata": {
            "tags": []
          }
        },
        {
          "output_type": "stream",
          "text": [
            "\n",
            "[Succeeded / Failed / Total] 10 / 6 / 17:  72%|███████▏  | 18/25 [00:47<00:18,  2.64s/it]\u001b[A\n",
            "[Succeeded / Failed / Total] 11 / 6 / 18:  72%|███████▏  | 18/25 [00:47<00:18,  2.64s/it]\u001b[A"
          ],
          "name": "stderr"
        },
        {
          "output_type": "display_data",
          "data": {
            "text/html": [
              "<font color = red>Not_duplicate (92%)</font> --> <font color = green>Duplicate (55%)</font><br><font color = bold><font color = underline>Question1</font></font>: Is FMS Delhi a good option for a MBA executive <font color = red>program</font>?\n",
              "<font color = bold><font color = underline>Question2</font></font>: Is FMS a good <font color = red>choice</font> for an MBA in <font color = red>HR</font>? <font color = red>Why</font> and why not?<br><font color = bold><font color = underline>Question1</font></font>: Is FMS Delhi a good option for a MBA executive <font color = green>prog</font>?\n",
              "<font color = bold><font color = underline>Question2</font></font>: Is FMS a good <font color = green>preference</font> for an MBA in <font color = green>GLORY</font>? <font color = green>Modesty</font> and why not?"
            ],
            "text/plain": [
              "<IPython.core.display.HTML object>"
            ]
          },
          "metadata": {
            "tags": []
          }
        },
        {
          "output_type": "stream",
          "text": [
            "\n",
            "[Succeeded / Failed / Total] 12 / 6 / 19:  76%|███████▌  | 19/25 [00:50<00:15,  2.67s/it]\u001b[A"
          ],
          "name": "stderr"
        },
        {
          "output_type": "display_data",
          "data": {
            "text/html": [
              "<font color = green>Duplicate (57%)</font> --> <font color = red>Not_duplicate (97%)</font><br><font color = bold><font color = underline>Question1</font></font>: Is it a bad time to buy a <font color = green>condo</font> or a house in the Bay Area in 2017?\n",
              "<font color = bold><font color = underline>Question2</font></font>: Would 2017 be a good time to buy a house in Bay Area?<br><font color = bold><font color = underline>Question1</font></font>: Is it a bad time to buy a <font color = red>mondo</font> or a house in the Bay Area in 2017?\n",
              "<font color = bold><font color = underline>Question2</font></font>: Would 2017 be a good time to buy a house in Bay Area?"
            ],
            "text/plain": [
              "<IPython.core.display.HTML object>"
            ]
          },
          "metadata": {
            "tags": []
          }
        },
        {
          "output_type": "stream",
          "text": [
            "\n",
            "[Succeeded / Failed / Total] 12 / 6 / 19:  80%|████████  | 20/25 [00:50<00:12,  2.55s/it]\u001b[A\n",
            "[Succeeded / Failed / Total] 13 / 6 / 20:  80%|████████  | 20/25 [00:50<00:12,  2.55s/it]\u001b[A"
          ],
          "name": "stderr"
        },
        {
          "output_type": "display_data",
          "data": {
            "text/html": [
              "<font color = red>Not_duplicate (100%)</font> --> <font color = red>[FAILED]</font><br><font color = bold><font color = underline>Question1</font></font>: How is vanilla extract made?\n",
              "<font color = bold><font color = underline>Question2</font></font>: How do you make sugar cookies without vanilla extract?"
            ],
            "text/plain": [
              "<IPython.core.display.HTML object>"
            ]
          },
          "metadata": {
            "tags": []
          }
        },
        {
          "output_type": "stream",
          "text": [
            "\n",
            "[Succeeded / Failed / Total] 13 / 7 / 21:  84%|████████▍ | 21/25 [00:55<00:10,  2.62s/it]\u001b[A"
          ],
          "name": "stderr"
        },
        {
          "output_type": "display_data",
          "data": {
            "text/html": [
              "<font color = green>Duplicate (100%)</font> --> <font color = red>[FAILED]</font><br><font color = bold><font color = underline>Question1</font></font>: What is the Sahara, and how do the average temperatures there compare to the ones in the Patagonian Desert?\n",
              "<font color = bold><font color = underline>Question2</font></font>: What is the Sahara, and how do the average temperatures there compare to the ones in the Registan Desert?"
            ],
            "text/plain": [
              "<IPython.core.display.HTML object>"
            ]
          },
          "metadata": {
            "tags": []
          }
        },
        {
          "output_type": "stream",
          "text": [
            "\n",
            "[Succeeded / Failed / Total] 13 / 7 / 21:  88%|████████▊ | 22/25 [01:00<00:08,  2.73s/it]\u001b[A\n",
            "[Succeeded / Failed / Total] 13 / 8 / 22:  88%|████████▊ | 22/25 [01:00<00:08,  2.73s/it]\u001b[A"
          ],
          "name": "stderr"
        },
        {
          "output_type": "display_data",
          "data": {
            "text/html": [
              "<font color = red>Not_duplicate (100%)</font> --> <font color = red>[FAILED]</font><br><font color = bold><font color = underline>Question1</font></font>: Why was the Roman Empire so successful?\n",
              "<font color = bold><font color = underline>Question2</font></font>: What are some of the rarely known facts about the Roman Empire?"
            ],
            "text/plain": [
              "<IPython.core.display.HTML object>"
            ]
          },
          "metadata": {
            "tags": []
          }
        },
        {
          "output_type": "stream",
          "text": [
            "\n",
            "[Succeeded / Failed / Total] 13 / 9 / 23:  92%|█████████▏| 23/25 [01:01<00:05,  2.66s/it]\u001b[A"
          ],
          "name": "stderr"
        },
        {
          "output_type": "display_data",
          "data": {
            "text/html": [
              "<font color = red>Not_duplicate (97%)</font> --> <font color = green>Duplicate (75%)</font><br><font color = bold><font color = underline>Question1</font></font>: Is it advisable to sent your cv to a professor with whom you are trying to make contact for graduate admission?\n",
              "<font color = bold><font color = underline>Question2</font></font>: <font color = red>How</font> does <font color = red>contacting</font> a professor before applying <font color = red>factor</font> into graduate admissions?<br><font color = bold><font color = underline>Question1</font></font>: Is it advisable to sent your cv to a professor with whom you are trying to make contact for graduate admission?\n",
              "<font color = bold><font color = underline>Question2</font></font>: <font color = green>Kowtow</font> does <font color = green>contact</font> a professor before applying <font color = green>inhibitor</font> into graduate admissions?"
            ],
            "text/plain": [
              "<IPython.core.display.HTML object>"
            ]
          },
          "metadata": {
            "tags": []
          }
        },
        {
          "output_type": "stream",
          "text": [
            "\n",
            "[Succeeded / Failed / Total] 13 / 9 / 23:  96%|█████████▌| 24/25 [01:02<00:02,  2.60s/it]\u001b[A\n",
            "[Succeeded / Failed / Total] 14 / 9 / 24:  96%|█████████▌| 24/25 [01:02<00:02,  2.60s/it]\u001b[A"
          ],
          "name": "stderr"
        },
        {
          "output_type": "display_data",
          "data": {
            "text/html": [
              "<font color = red>Not_duplicate (100%)</font> --> <font color = red>[FAILED]</font><br><font color = bold><font color = underline>Question1</font></font>: Does a RainTPL syntax extension for Sublime Text exist? Where can I download it?\n",
              "<font color = bold><font color = underline>Question2</font></font>: How do I hide the find/replace bar in Sublime Text 2?"
            ],
            "text/plain": [
              "<IPython.core.display.HTML object>"
            ]
          },
          "metadata": {
            "tags": []
          }
        },
        {
          "output_type": "stream",
          "text": [
            "\n",
            "[Succeeded / Failed / Total] 14 / 10 / 25: 100%|██████████| 25/25 [01:12<00:00,  2.90s/it]\u001b[A"
          ],
          "name": "stderr"
        },
        {
          "output_type": "display_data",
          "data": {
            "text/html": [
              "<font color = red>Not_duplicate (100%)</font> --> <font color = green>Duplicate (88%)</font><br><font color = bold><font color = underline>Question1</font></font>: What is the average <font color = red>salary</font> of a microbiologist in India?\n",
              "<font color = bold><font color = underline>Question2</font></font>: What is the <font color = red>salary</font> for a <font color = red>psychologist</font> in <font color = red>india</font>?<br><font color = bold><font color = underline>Question1</font></font>: What is the average <font color = green>spending</font> of a microbiologist in India?\n",
              "<font color = bold><font color = underline>Question2</font></font>: What is the <font color = green>spending</font> for a <font color = green>pathologist</font> in <font color = green>pakistan</font>?"
            ],
            "text/plain": [
              "<IPython.core.display.HTML object>"
            ]
          },
          "metadata": {
            "tags": []
          }
        },
        {
          "output_type": "stream",
          "text": [
            "\n",
            "[Succeeded / Failed / Total] 14 / 10 / 25: : 26it [01:14,  2.85s/it]                      \u001b[A\n",
            "[Succeeded / Failed / Total] 15 / 10 / 26: : 26it [01:14,  2.85s/it]"
          ],
          "name": "stderr"
        },
        {
          "output_type": "stream",
          "text": [
            "+-------------------------------+--------+\n",
            "| Attack Results                |        |\n",
            "+-------------------------------+--------+\n",
            "| Number of successful attacks: | 15     |\n",
            "| Number of failed attacks:     | 10     |\n",
            "| Number of skipped attacks:    | 1      |\n",
            "| Original accuracy:            | 96.15% |\n",
            "| Accuracy under attack:        | 38.46% |\n",
            "| Attack success rate:          | 60.0%  |\n",
            "| Average perturbed word %:     | 14.1%  |\n",
            "| Average num. words per input: | 22.5   |\n",
            "| Avg num queries:              | 300.16 |\n",
            "+-------------------------------+--------+"
          ],
          "name": "stdout"
        },
        {
          "output_type": "stream",
          "text": [
            "\n",
            "\u001b[34;1mtextattack\u001b[0m: Attack time: 74.10370635986328s\n"
          ],
          "name": "stderr"
        }
      ]
    },
    {
      "cell_type": "markdown",
      "metadata": {
        "id": "uTFqDVMctjIF"
      },
      "source": [
        "### Word2Vec, ParticleSwarmOptimization, RepeatModification, StopwordModification"
      ]
    },
    {
      "cell_type": "code",
      "metadata": {
        "colab": {
          "base_uri": "https://localhost:8080/"
        },
        "id": "nGlixEC_n5vA",
        "outputId": "cc444a1c-1786-4b52-b332-1fde12ac8591"
      },
      "source": [
        "# We're going to use our word swap class as the attack transformation.\n",
        "transformation = Swapper_()\n",
        "\n",
        "constraints = [RepeatModification(),\n",
        "               StopwordModification()]\n",
        "\n",
        "search_method = ParticleSwarmOptimization(pop_size=10,max_iters=5,post_turn_check=True)\n",
        "\n",
        "goal_function = UntargetedClassification(model_wrapper)\n",
        "\n",
        "# Now, let's make the attack from the 4 components:\n",
        "attack = Attack(goal_function, constraints, transformation, search_method)"
      ],
      "execution_count": 40,
      "outputs": [
        {
          "output_type": "stream",
          "text": [
            "\u001b[34;1mtextattack\u001b[0m: Unknown if model of class <class 'transformers.models.distilbert.modeling_distilbert.DistilBertForSequenceClassification'> compatible with goal function <class 'textattack.goal_functions.classification.untargeted_classification.UntargetedClassification'>.\n"
          ],
          "name": "stderr"
        }
      ]
    },
    {
      "cell_type": "code",
      "metadata": {
        "colab": {
          "base_uri": "https://localhost:8080/"
        },
        "id": "xnYmPzWPpj7Q",
        "outputId": "1a6e152a-a16a-4a7c-8fe0-03a6d39990ca"
      },
      "source": [
        "print(attack)"
      ],
      "execution_count": 41,
      "outputs": [
        {
          "output_type": "stream",
          "text": [
            "Attack(\n",
            "  (search_method): ParticleSwarmOptimization(\n",
            "    (pop_size):  10\n",
            "    (max_iters):  5\n",
            "    (post_turn_check):  True\n",
            "    (max_turn_retries):  20\n",
            "  )\n",
            "  (goal_function):  UntargetedClassification\n",
            "  (transformation):  Swapper_\n",
            "  (constraints): \n",
            "    (0): RepeatModification\n",
            "    (1): StopwordModification\n",
            "  (is_black_box):  True\n",
            ")\n"
          ],
          "name": "stdout"
        }
      ]
    },
    {
      "cell_type": "code",
      "metadata": {
        "colab": {
          "base_uri": "https://localhost:8080/",
          "height": 1000
        },
        "id": "UpPST74lpyiu",
        "outputId": "3f21eb07-5315-4d36-ec3c-ef969a2dcada"
      },
      "source": [
        "attack_stats(attack, dataset, 25)"
      ],
      "execution_count": 42,
      "outputs": [
        {
          "output_type": "stream",
          "text": [
            "\n",
            "  0%|          | 0/25 [00:00<?, ?it/s]\u001b[A"
          ],
          "name": "stderr"
        },
        {
          "output_type": "stream",
          "text": [
            "Attack(\n",
            "  (search_method): ParticleSwarmOptimization(\n",
            "    (pop_size):  10\n",
            "    (max_iters):  5\n",
            "    (post_turn_check):  True\n",
            "    (max_turn_retries):  20\n",
            "  )\n",
            "  (goal_function):  UntargetedClassification\n",
            "  (transformation):  Swapper_\n",
            "  (constraints): \n",
            "    (0): RepeatModification\n",
            "    (1): StopwordModification\n",
            "  (is_black_box):  True\n",
            ")\n"
          ],
          "name": "stdout"
        },
        {
          "output_type": "display_data",
          "data": {
            "text/html": [
              "<font color = red>Not_duplicate (99%)</font> --> <font color = green>Duplicate (88%)</font><br><font color = bold><font color = underline>Question1</font></font>: Why are African-Americans so beautiful?\n",
              "<font color = bold><font color = underline>Question2</font></font>: Why are <font color = red>hispanics</font> so beautiful?<br><font color = bold><font color = underline>Question1</font></font>: Why are African-Americans so beautiful?\n",
              "<font color = bold><font color = underline>Question2</font></font>: Why are <font color = green>colombians</font> so beautiful?"
            ],
            "text/plain": [
              "<IPython.core.display.HTML object>"
            ]
          },
          "metadata": {
            "tags": []
          }
        },
        {
          "output_type": "stream",
          "text": [
            "\n",
            "[Succeeded / Failed / Total] 1 / 0 / 1:   4%|▍         | 1/25 [00:00<00:01, 15.72it/s]\u001b[A"
          ],
          "name": "stderr"
        },
        {
          "output_type": "display_data",
          "data": {
            "text/html": [
              "<font color = red>Not_duplicate (100%)</font> --> <font color = red>[FAILED]</font><br><font color = bold><font color = underline>Question1</font></font>: I want to pursue PhD in Computer Science about social network,what is the open problem in social networks?\n",
              "<font color = bold><font color = underline>Question2</font></font>: I handle social media for a non-profit. Should I start going to social media networking events? Are there any good ones in the bay area?"
            ],
            "text/plain": [
              "<IPython.core.display.HTML object>"
            ]
          },
          "metadata": {
            "tags": []
          }
        },
        {
          "output_type": "stream",
          "text": [
            "\n",
            "[Succeeded / Failed / Total] 1 / 0 / 1:   8%|▊         | 2/25 [00:05<00:59,  2.59s/it]\u001b[A\n",
            "[Succeeded / Failed / Total] 1 / 1 / 2:   8%|▊         | 2/25 [00:05<00:59,  2.60s/it]\u001b[A"
          ],
          "name": "stderr"
        },
        {
          "output_type": "display_data",
          "data": {
            "text/html": [
              "<font color = green>Duplicate (92%)</font> --> <font color = red>Not_duplicate (100%)</font><br><font color = bold><font color = underline>Question1</font></font>: Is there a reason why we should <font color = green>travel</font> <font color = green>alone</font>?\n",
              "<font color = bold><font color = underline>Question2</font></font>: What are some reasons to travel alone?<br><font color = bold><font color = underline>Question1</font></font>: Is there a reason why we should <font color = red>interplanetary</font> <font color = red>eternally</font>?\n",
              "<font color = bold><font color = underline>Question2</font></font>: What are some reasons to travel alone?"
            ],
            "text/plain": [
              "<IPython.core.display.HTML object>"
            ]
          },
          "metadata": {
            "tags": []
          }
        },
        {
          "output_type": "stream",
          "text": [
            "\n",
            "[Succeeded / Failed / Total] 2 / 1 / 3:  12%|█▏        | 3/25 [00:05<00:41,  1.88s/it]\u001b[A"
          ],
          "name": "stderr"
        },
        {
          "output_type": "display_data",
          "data": {
            "text/html": [
              "<font color = red>Not_duplicate (100%)</font> --> <font color = red>[FAILED]</font><br><font color = bold><font color = underline>Question1</font></font>: Why are people so obsessed with having a girlfriend/boyfriend?\n",
              "<font color = bold><font color = underline>Question2</font></font>: How can a single male have a child?"
            ],
            "text/plain": [
              "<IPython.core.display.HTML object>"
            ]
          },
          "metadata": {
            "tags": []
          }
        },
        {
          "output_type": "stream",
          "text": [
            "\n",
            "[Succeeded / Failed / Total] 2 / 1 / 3:  16%|█▌        | 4/25 [00:07<00:37,  1.78s/it]\u001b[A\n",
            "[Succeeded / Failed / Total] 2 / 2 / 4:  16%|█▌        | 4/25 [00:07<00:37,  1.78s/it]\u001b[A"
          ],
          "name": "stderr"
        },
        {
          "output_type": "display_data",
          "data": {
            "text/html": [
              "<font color = red>Not_duplicate (99%)</font> --> <font color = red>[FAILED]</font><br><font color = bold><font color = underline>Question1</font></font>: What are some good baby girl names starting with D?\n",
              "<font color = bold><font color = underline>Question2</font></font>: What are some good baby girl names starting with D or H?"
            ],
            "text/plain": [
              "<IPython.core.display.HTML object>"
            ]
          },
          "metadata": {
            "tags": []
          }
        },
        {
          "output_type": "stream",
          "text": [
            "\n",
            "[Succeeded / Failed / Total] 2 / 3 / 5:  20%|██        | 5/25 [00:09<00:38,  1.91s/it]\u001b[A"
          ],
          "name": "stderr"
        },
        {
          "output_type": "display_data",
          "data": {
            "text/html": [
              "<font color = green>Duplicate (97%)</font> --> <font color = red>Not_duplicate (72%)</font><br><font color = bold><font color = underline>Question1</font></font>: I am 25 year old guy and never had a girlfriend. Is this <font color = green>weird</font>?\n",
              "<font color = bold><font color = underline>Question2</font></font>: I am 25 years old. I have never had a girlfriend. Is something wrong with me?<br><font color = bold><font color = underline>Question1</font></font>: I am 25 year old guy and never had a girlfriend. Is this <font color = red>yankovic</font>?\n",
              "<font color = bold><font color = underline>Question2</font></font>: I am 25 years old. I have never had a girlfriend. Is something wrong with me?"
            ],
            "text/plain": [
              "<IPython.core.display.HTML object>"
            ]
          },
          "metadata": {
            "tags": []
          }
        },
        {
          "output_type": "stream",
          "text": [
            "\n",
            "[Succeeded / Failed / Total] 2 / 3 / 5:  24%|██▍       | 6/25 [00:09<00:30,  1.62s/it]\u001b[A\n",
            "[Succeeded / Failed / Total] 3 / 3 / 6:  24%|██▍       | 6/25 [00:09<00:30,  1.62s/it]\u001b[A"
          ],
          "name": "stderr"
        },
        {
          "output_type": "display_data",
          "data": {
            "text/html": [
              "<font color = green>Duplicate (60%)</font> --> <font color = red>Not_duplicate (100%)</font><br><font color = bold><font color = underline>Question1</font></font>: \"What does a good answer on Quora look like? What does it mean to \"\"be helpful\"\"?\"\n",
              "<font color = bold><font color = underline>Question2</font></font>: How do you write a good <font color = green>answer</font> on Quora?<br><font color = bold><font color = underline>Question1</font></font>: \"What does a good answer on Quora look like? What does it mean to \"\"be helpful\"\"?\"\n",
              "<font color = bold><font color = underline>Question2</font></font>: How do you write a good <font color = red>preclear</font> on Quora?"
            ],
            "text/plain": [
              "<IPython.core.display.HTML object>"
            ]
          },
          "metadata": {
            "tags": []
          }
        },
        {
          "output_type": "stream",
          "text": [
            "\n",
            "[Succeeded / Failed / Total] 4 / 3 / 7:  28%|██▊       | 7/25 [00:09<00:25,  1.42s/it]\u001b[A"
          ],
          "name": "stderr"
        },
        {
          "output_type": "display_data",
          "data": {
            "text/html": [
              "<font color = green>Duplicate (58%)</font> --> <font color = red>Not_duplicate (98%)</font><br><font color = bold><font color = underline>Question1</font></font>: What are the best things to do in Hong Kong?\n",
              "<font color = bold><font color = underline>Question2</font></font>: What is the <font color = green>best</font> thing in Hong Kong?<br><font color = bold><font color = underline>Question1</font></font>: What are the best things to do in Hong Kong?\n",
              "<font color = bold><font color = underline>Question2</font></font>: What is the <font color = red>filmfare</font> thing in Hong Kong?"
            ],
            "text/plain": [
              "<IPython.core.display.HTML object>"
            ]
          },
          "metadata": {
            "tags": []
          }
        },
        {
          "output_type": "stream",
          "text": [
            "\n",
            "[Succeeded / Failed / Total] 4 / 3 / 7:  32%|███▏      | 8/25 [00:09<00:21,  1.25s/it]\u001b[A\n",
            "[Succeeded / Failed / Total] 5 / 3 / 8:  32%|███▏      | 8/25 [00:09<00:21,  1.25s/it]\u001b[A"
          ],
          "name": "stderr"
        },
        {
          "output_type": "display_data",
          "data": {
            "text/html": [
              "<font color = green>Duplicate (88%)</font> --> <font color = gray>[SKIPPED]</font><br><font color = bold><font color = underline>Question1</font></font>: Why is my life getting so complicated?\n",
              "<font color = bold><font color = underline>Question2</font></font>: Why is my life so complicated?"
            ],
            "text/plain": [
              "<IPython.core.display.HTML object>"
            ]
          },
          "metadata": {
            "tags": []
          }
        },
        {
          "output_type": "stream",
          "text": [
            "\n",
            "[Succeeded / Failed / Total] 5 / 3 / 9:  36%|███▌      | 9/25 [00:10<00:17,  1.11s/it]\u001b[A"
          ],
          "name": "stderr"
        },
        {
          "output_type": "display_data",
          "data": {
            "text/html": [
              "<font color = red>Not_duplicate (100%)</font> --> <font color = red>[FAILED]</font><br><font color = bold><font color = underline>Question1</font></font>: Why should I crack Jee?\n",
              "<font color = bold><font color = underline>Question2</font></font>: Is it possible to get into IIMs with low marks in graduation and 12th?"
            ],
            "text/plain": [
              "<IPython.core.display.HTML object>"
            ]
          },
          "metadata": {
            "tags": []
          }
        },
        {
          "output_type": "stream",
          "text": [
            "\n",
            "[Succeeded / Failed / Total] 5 / 3 / 9:  40%|████      | 10/25 [00:10<00:15,  1.06s/it]\u001b[A\n",
            "[Succeeded / Failed / Total] 5 / 4 / 10:  40%|████      | 10/25 [00:10<00:15,  1.06s/it]\u001b[A"
          ],
          "name": "stderr"
        },
        {
          "output_type": "display_data",
          "data": {
            "text/html": [
              "<font color = red>Not_duplicate (99%)</font> --> <font color = red>[FAILED]</font><br><font color = bold><font color = underline>Question1</font></font>: Can you TRANSLATE these to English language?\n",
              "<font color = bold><font color = underline>Question2</font></font>: Can you translate this from Bengali to English language?"
            ],
            "text/plain": [
              "<IPython.core.display.HTML object>"
            ]
          },
          "metadata": {
            "tags": []
          }
        },
        {
          "output_type": "stream",
          "text": [
            "\n",
            "[Succeeded / Failed / Total] 5 / 5 / 11:  44%|████▍     | 11/25 [00:11<00:14,  1.00s/it]\u001b[A"
          ],
          "name": "stderr"
        },
        {
          "output_type": "display_data",
          "data": {
            "text/html": [
              "<font color = red>Not_duplicate (100%)</font> --> <font color = red>[FAILED]</font><br><font color = bold><font color = underline>Question1</font></font>: Can anyone tell shall mi mix mobile should be purchased or not?\n",
              "<font color = bold><font color = underline>Question2</font></font>: \"What did Voltaire mean when he said, \"\"God is a comedian playing to an audience that is too afraid to laugh\"\"?\""
            ],
            "text/plain": [
              "<IPython.core.display.HTML object>"
            ]
          },
          "metadata": {
            "tags": []
          }
        },
        {
          "output_type": "stream",
          "text": [
            "\n",
            "[Succeeded / Failed / Total] 5 / 5 / 11:  48%|████▊     | 12/25 [00:15<00:16,  1.27s/it]\u001b[A\n",
            "[Succeeded / Failed / Total] 5 / 6 / 12:  48%|████▊     | 12/25 [00:15<00:16,  1.27s/it]\u001b[A"
          ],
          "name": "stderr"
        },
        {
          "output_type": "display_data",
          "data": {
            "text/html": [
              "<font color = green>Duplicate (97%)</font> --> <font color = red>Not_duplicate (68%)</font><br><font color = bold><font color = underline>Question1</font></font>: Which is the <font color = green>best</font> gaming laptop under 40k?\n",
              "<font color = bold><font color = underline>Question2</font></font>: Which is the best gaming <font color = green>laptop</font> under 40,000 <font color = green>rs</font>?<br><font color = bold><font color = underline>Question1</font></font>: Which is the <font color = red>filmfare</font> gaming laptop under 40k?\n",
              "<font color = bold><font color = underline>Question2</font></font>: Which is the best gaming <font color = red>xt</font> under 40,000 <font color = red>kbyte</font>?"
            ],
            "text/plain": [
              "<IPython.core.display.HTML object>"
            ]
          },
          "metadata": {
            "tags": []
          }
        },
        {
          "output_type": "stream",
          "text": [
            "\n",
            "[Succeeded / Failed / Total] 6 / 6 / 13:  52%|█████▏    | 13/25 [00:15<00:14,  1.20s/it]\u001b[A"
          ],
          "name": "stderr"
        },
        {
          "output_type": "display_data",
          "data": {
            "text/html": [
              "<font color = red>Not_duplicate (100%)</font> --> <font color = red>[FAILED]</font><br><font color = bold><font color = underline>Question1</font></font>: Why Tamil Nadu Universities are no good?\n",
              "<font color = bold><font color = underline>Question2</font></font>: Why are the 10th students able to score 100% in Tamil Nadu?"
            ],
            "text/plain": [
              "<IPython.core.display.HTML object>"
            ]
          },
          "metadata": {
            "tags": []
          }
        },
        {
          "output_type": "stream",
          "text": [
            "\n",
            "[Succeeded / Failed / Total] 6 / 6 / 13:  56%|█████▌    | 14/25 [00:15<00:12,  1.13s/it]\u001b[A\n",
            "[Succeeded / Failed / Total] 6 / 7 / 14:  56%|█████▌    | 14/25 [00:15<00:12,  1.14s/it]\u001b[A"
          ],
          "name": "stderr"
        },
        {
          "output_type": "display_data",
          "data": {
            "text/html": [
              "<font color = red>Not_duplicate (100%)</font> --> <font color = red>[FAILED]</font><br><font color = bold><font color = underline>Question1</font></font>: What is an easy way to clean toothpaste stains from a shirt without washing it?\n",
              "<font color = bold><font color = underline>Question2</font></font>: What are some ways to remove hard water stains from dishes?"
            ],
            "text/plain": [
              "<IPython.core.display.HTML object>"
            ]
          },
          "metadata": {
            "tags": []
          }
        },
        {
          "output_type": "stream",
          "text": [
            "\n",
            "[Succeeded / Failed / Total] 6 / 8 / 15:  60%|██████    | 15/25 [00:19<00:13,  1.32s/it]\u001b[A"
          ],
          "name": "stderr"
        },
        {
          "output_type": "display_data",
          "data": {
            "text/html": [
              "<font color = green>Duplicate (84%)</font> --> <font color = red>Not_duplicate (100%)</font><br><font color = bold><font color = underline>Question1</font></font>: What was the deadliest battle in history?\n",
              "<font color = bold><font color = underline>Question2</font></font>: What was the bloodiest <font color = green>battle</font> in history?<br><font color = bold><font color = underline>Question1</font></font>: What was the deadliest battle in history?\n",
              "<font color = bold><font color = underline>Question2</font></font>: What was the bloodiest <font color = red>chancellorsville</font> in history?"
            ],
            "text/plain": [
              "<IPython.core.display.HTML object>"
            ]
          },
          "metadata": {
            "tags": []
          }
        },
        {
          "output_type": "stream",
          "text": [
            "\n",
            "[Succeeded / Failed / Total] 6 / 8 / 15:  64%|██████▍   | 16/25 [00:19<00:11,  1.24s/it]\u001b[A\n",
            "[Succeeded / Failed / Total] 7 / 8 / 16:  64%|██████▍   | 16/25 [00:19<00:11,  1.24s/it]\u001b[A"
          ],
          "name": "stderr"
        },
        {
          "output_type": "display_data",
          "data": {
            "text/html": [
              "<font color = green>Duplicate (100%)</font> --> <font color = red>[FAILED]</font><br><font color = bold><font color = underline>Question1</font></font>: What are your views about demonetisation in India?\n",
              "<font color = bold><font color = underline>Question2</font></font>: What do you think about the ban on 500 and 1000 denomination notes in India?"
            ],
            "text/plain": [
              "<IPython.core.display.HTML object>"
            ]
          },
          "metadata": {
            "tags": []
          }
        },
        {
          "output_type": "stream",
          "text": [
            "\n",
            "[Succeeded / Failed / Total] 7 / 9 / 17:  68%|██████▊   | 17/25 [00:20<00:09,  1.21s/it]\u001b[A"
          ],
          "name": "stderr"
        },
        {
          "output_type": "display_data",
          "data": {
            "text/html": [
              "<font color = red>Not_duplicate (100%)</font> --> <font color = red>[FAILED]</font><br><font color = bold><font color = underline>Question1</font></font>: What are the difference between polyester 210T and 210D?\n",
              "<font color = bold><font color = underline>Question2</font></font>: What is the difference between cotton and polyester?"
            ],
            "text/plain": [
              "<IPython.core.display.HTML object>"
            ]
          },
          "metadata": {
            "tags": []
          }
        },
        {
          "output_type": "stream",
          "text": [
            "\n",
            "[Succeeded / Failed / Total] 7 / 9 / 17:  72%|███████▏  | 18/25 [00:21<00:08,  1.18s/it]\u001b[A\n",
            "[Succeeded / Failed / Total] 7 / 10 / 18:  72%|███████▏  | 18/25 [00:21<00:08,  1.18s/it]\u001b[A"
          ],
          "name": "stderr"
        },
        {
          "output_type": "display_data",
          "data": {
            "text/html": [
              "<font color = red>Not_duplicate (92%)</font> --> <font color = green>Duplicate (57%)</font><br><font color = bold><font color = underline>Question1</font></font>: Is FMS Delhi a <font color = red>good</font> option for a MBA executive program?\n",
              "<font color = bold><font color = underline>Question2</font></font>: Is FMS a <font color = red>good</font> <font color = red>choice</font> for an MBA in HR? Why and why not?<br><font color = bold><font color = underline>Question1</font></font>: Is FMS Delhi a <font color = green>bad</font> option for a MBA executive program?\n",
              "<font color = bold><font color = underline>Question2</font></font>: Is FMS a <font color = green>bad</font> <font color = green>tallied</font> for an MBA in HR? Why and why not?"
            ],
            "text/plain": [
              "<IPython.core.display.HTML object>"
            ]
          },
          "metadata": {
            "tags": []
          }
        },
        {
          "output_type": "stream",
          "text": [
            "\n",
            "[Succeeded / Failed / Total] 8 / 10 / 19:  76%|███████▌  | 19/25 [00:21<00:06,  1.14s/it]\u001b[A"
          ],
          "name": "stderr"
        },
        {
          "output_type": "display_data",
          "data": {
            "text/html": [
              "<font color = green>Duplicate (57%)</font> --> <font color = red>Not_duplicate (91%)</font><br><font color = bold><font color = underline>Question1</font></font>: Is it a bad time to buy a condo or a <font color = green>house</font> in the Bay Area in 2017?\n",
              "<font color = bold><font color = underline>Question2</font></font>: Would 2017 be a good time to buy a house in Bay Area?<br><font color = bold><font color = underline>Question1</font></font>: Is it a bad time to buy a condo or a <font color = red>commons</font> in the Bay Area in 2017?\n",
              "<font color = bold><font color = underline>Question2</font></font>: Would 2017 be a good time to buy a house in Bay Area?"
            ],
            "text/plain": [
              "<IPython.core.display.HTML object>"
            ]
          },
          "metadata": {
            "tags": []
          }
        },
        {
          "output_type": "stream",
          "text": [
            "\n",
            "[Succeeded / Failed / Total] 8 / 10 / 19:  80%|████████  | 20/25 [00:21<00:05,  1.09s/it]\u001b[A\n",
            "[Succeeded / Failed / Total] 9 / 10 / 20:  80%|████████  | 20/25 [00:21<00:05,  1.09s/it]\u001b[A"
          ],
          "name": "stderr"
        },
        {
          "output_type": "display_data",
          "data": {
            "text/html": [
              "<font color = red>Not_duplicate (100%)</font> --> <font color = red>[FAILED]</font><br><font color = bold><font color = underline>Question1</font></font>: How is vanilla extract made?\n",
              "<font color = bold><font color = underline>Question2</font></font>: How do you make sugar cookies without vanilla extract?"
            ],
            "text/plain": [
              "<IPython.core.display.HTML object>"
            ]
          },
          "metadata": {
            "tags": []
          }
        },
        {
          "output_type": "stream",
          "text": [
            "\n",
            "[Succeeded / Failed / Total] 9 / 11 / 21:  84%|████████▍ | 21/25 [00:23<00:04,  1.12s/it]\u001b[A"
          ],
          "name": "stderr"
        },
        {
          "output_type": "display_data",
          "data": {
            "text/html": [
              "<font color = green>Duplicate (100%)</font> --> <font color = red>[FAILED]</font><br><font color = bold><font color = underline>Question1</font></font>: What is the Sahara, and how do the average temperatures there compare to the ones in the Patagonian Desert?\n",
              "<font color = bold><font color = underline>Question2</font></font>: What is the Sahara, and how do the average temperatures there compare to the ones in the Registan Desert?"
            ],
            "text/plain": [
              "<IPython.core.display.HTML object>"
            ]
          },
          "metadata": {
            "tags": []
          }
        },
        {
          "output_type": "stream",
          "text": [
            "\n",
            "[Succeeded / Failed / Total] 9 / 11 / 21:  88%|████████▊ | 22/25 [00:25<00:03,  1.14s/it]\u001b[A\n",
            "[Succeeded / Failed / Total] 9 / 12 / 22:  88%|████████▊ | 22/25 [00:25<00:03,  1.14s/it]\u001b[A"
          ],
          "name": "stderr"
        },
        {
          "output_type": "display_data",
          "data": {
            "text/html": [
              "<font color = red>Not_duplicate (100%)</font> --> <font color = red>[FAILED]</font><br><font color = bold><font color = underline>Question1</font></font>: Why was the Roman Empire so successful?\n",
              "<font color = bold><font color = underline>Question2</font></font>: What are some of the rarely known facts about the Roman Empire?"
            ],
            "text/plain": [
              "<IPython.core.display.HTML object>"
            ]
          },
          "metadata": {
            "tags": []
          }
        },
        {
          "output_type": "stream",
          "text": [
            "\n",
            "[Succeeded / Failed / Total] 9 / 13 / 23:  92%|█████████▏| 23/25 [00:25<00:02,  1.11s/it]\u001b[A"
          ],
          "name": "stderr"
        },
        {
          "output_type": "display_data",
          "data": {
            "text/html": [
              "<font color = red>Not_duplicate (97%)</font> --> <font color = red>[FAILED]</font><br><font color = bold><font color = underline>Question1</font></font>: Is it advisable to sent your cv to a professor with whom you are trying to make contact for graduate admission?\n",
              "<font color = bold><font color = underline>Question2</font></font>: How does contacting a professor before applying factor into graduate admissions?"
            ],
            "text/plain": [
              "<IPython.core.display.HTML object>"
            ]
          },
          "metadata": {
            "tags": []
          }
        },
        {
          "output_type": "stream",
          "text": [
            "\n",
            "[Succeeded / Failed / Total] 9 / 13 / 23:  96%|█████████▌| 24/25 [00:27<00:01,  1.16s/it]\u001b[A\n",
            "[Succeeded / Failed / Total] 9 / 14 / 24:  96%|█████████▌| 24/25 [00:27<00:01,  1.16s/it]\u001b[A"
          ],
          "name": "stderr"
        },
        {
          "output_type": "display_data",
          "data": {
            "text/html": [
              "<font color = red>Not_duplicate (100%)</font> --> <font color = red>[FAILED]</font><br><font color = bold><font color = underline>Question1</font></font>: Does a RainTPL syntax extension for Sublime Text exist? Where can I download it?\n",
              "<font color = bold><font color = underline>Question2</font></font>: How do I hide the find/replace bar in Sublime Text 2?"
            ],
            "text/plain": [
              "<IPython.core.display.HTML object>"
            ]
          },
          "metadata": {
            "tags": []
          }
        },
        {
          "output_type": "stream",
          "text": [
            "\n",
            "[Succeeded / Failed / Total] 9 / 15 / 25: 100%|██████████| 25/25 [00:28<00:00,  1.15s/it]\u001b[A"
          ],
          "name": "stderr"
        },
        {
          "output_type": "display_data",
          "data": {
            "text/html": [
              "<font color = red>Not_duplicate (100%)</font> --> <font color = red>[FAILED]</font><br><font color = bold><font color = underline>Question1</font></font>: What is the average salary of a microbiologist in India?\n",
              "<font color = bold><font color = underline>Question2</font></font>: What is the salary for a psychologist in india?"
            ],
            "text/plain": [
              "<IPython.core.display.HTML object>"
            ]
          },
          "metadata": {
            "tags": []
          }
        },
        {
          "output_type": "stream",
          "text": [
            "\n",
            "[Succeeded / Failed / Total] 9 / 15 / 25: : 26it [00:29,  1.13s/it]                      \u001b[A\n",
            "[Succeeded / Failed / Total] 9 / 16 / 26: : 26it [00:29,  1.13s/it]"
          ],
          "name": "stderr"
        },
        {
          "output_type": "stream",
          "text": [
            "+-------------------------------+--------+\n",
            "| Attack Results                |        |\n",
            "+-------------------------------+--------+\n",
            "| Number of successful attacks: | 9      |\n",
            "| Number of failed attacks:     | 16     |\n",
            "| Number of skipped attacks:    | 1      |\n",
            "| Original accuracy:            | 96.15% |\n",
            "| Accuracy under attack:        | 61.54% |\n",
            "| Attack success rate:          | 36.0%  |\n",
            "| Average perturbed word %:     | 8.27%  |\n",
            "| Average num. words per input: | 22.5   |\n",
            "| Avg num queries:              | 226.96 |\n",
            "+-------------------------------+--------+"
          ],
          "name": "stdout"
        },
        {
          "output_type": "stream",
          "text": [
            "\n",
            "\u001b[34;1mtextattack\u001b[0m: Attack time: 29.320940732955933s\n"
          ],
          "name": "stderr"
        }
      ]
    },
    {
      "cell_type": "markdown",
      "metadata": {
        "id": "lcHSAh5htm4o"
      },
      "source": [
        "### Glove, ParticleSwarmOptimization, RepeatModification, StopwordModification"
      ]
    },
    {
      "cell_type": "code",
      "metadata": {
        "colab": {
          "base_uri": "https://localhost:8080/"
        },
        "id": "F-sjXP8rPBE9",
        "outputId": "8b498e56-0e37-46fd-e95f-c3d0d29450ee"
      },
      "source": [
        "# We're going to use our word swap class as the attack transformation.\n",
        "transformation = Swapper__()\n",
        "\n",
        "constraints = [RepeatModification(),\n",
        "               StopwordModification()]\n",
        "\n",
        "search_method = ParticleSwarmOptimization(pop_size=10,max_iters=5,post_turn_check=True)\n",
        "\n",
        "goal_function = UntargetedClassification(model_wrapper)\n",
        "\n",
        "# Now, let's make the attack from the 4 components:\n",
        "attack = Attack(goal_function, constraints, transformation, search_method)"
      ],
      "execution_count": 43,
      "outputs": [
        {
          "output_type": "stream",
          "text": [
            "\u001b[34;1mtextattack\u001b[0m: Unknown if model of class <class 'transformers.models.distilbert.modeling_distilbert.DistilBertForSequenceClassification'> compatible with goal function <class 'textattack.goal_functions.classification.untargeted_classification.UntargetedClassification'>.\n"
          ],
          "name": "stderr"
        }
      ]
    },
    {
      "cell_type": "code",
      "metadata": {
        "colab": {
          "base_uri": "https://localhost:8080/"
        },
        "id": "8201a0SkPEc4",
        "outputId": "68aa8ec4-5f68-481c-b1e1-aab1dbf80c9b"
      },
      "source": [
        "print(attack)"
      ],
      "execution_count": 44,
      "outputs": [
        {
          "output_type": "stream",
          "text": [
            "Attack(\n",
            "  (search_method): ParticleSwarmOptimization(\n",
            "    (pop_size):  10\n",
            "    (max_iters):  5\n",
            "    (post_turn_check):  True\n",
            "    (max_turn_retries):  20\n",
            "  )\n",
            "  (goal_function):  UntargetedClassification\n",
            "  (transformation):  Swapper__\n",
            "  (constraints): \n",
            "    (0): RepeatModification\n",
            "    (1): StopwordModification\n",
            "  (is_black_box):  True\n",
            ")\n"
          ],
          "name": "stdout"
        }
      ]
    },
    {
      "cell_type": "code",
      "metadata": {
        "colab": {
          "base_uri": "https://localhost:8080/",
          "height": 1000
        },
        "id": "EVzPBCjRPGR9",
        "outputId": "45fce3e9-0544-4628-8878-c917b39ca41d"
      },
      "source": [
        "attack_stats(attack, dataset, 25)"
      ],
      "execution_count": 45,
      "outputs": [
        {
          "output_type": "stream",
          "text": [
            "\n",
            "  0%|          | 0/25 [00:00<?, ?it/s]\u001b[A"
          ],
          "name": "stderr"
        },
        {
          "output_type": "stream",
          "text": [
            "Attack(\n",
            "  (search_method): ParticleSwarmOptimization(\n",
            "    (pop_size):  10\n",
            "    (max_iters):  5\n",
            "    (post_turn_check):  True\n",
            "    (max_turn_retries):  20\n",
            "  )\n",
            "  (goal_function):  UntargetedClassification\n",
            "  (transformation):  Swapper__\n",
            "  (constraints): \n",
            "    (0): RepeatModification\n",
            "    (1): StopwordModification\n",
            "  (is_black_box):  True\n",
            ")\n"
          ],
          "name": "stdout"
        },
        {
          "output_type": "display_data",
          "data": {
            "text/html": [
              "<font color = red>Not_duplicate (99%)</font> --> <font color = red>[FAILED]</font><br><font color = bold><font color = underline>Question1</font></font>: Why are African-Americans so beautiful?\n",
              "<font color = bold><font color = underline>Question2</font></font>: Why are hispanics so beautiful?"
            ],
            "text/plain": [
              "<IPython.core.display.HTML object>"
            ]
          },
          "metadata": {
            "tags": []
          }
        },
        {
          "output_type": "stream",
          "text": [
            "\n",
            "  4%|▍         | 1/25 [00:00<00:13,  1.82it/s]\u001b[A\n",
            "[Succeeded / Failed / Total] 0 / 1 / 1:   4%|▍         | 1/25 [00:00<00:13,  1.80it/s]\u001b[A"
          ],
          "name": "stderr"
        },
        {
          "output_type": "display_data",
          "data": {
            "text/html": [
              "<font color = red>Not_duplicate (100%)</font> --> <font color = red>[FAILED]</font><br><font color = bold><font color = underline>Question1</font></font>: I want to pursue PhD in Computer Science about social network,what is the open problem in social networks?\n",
              "<font color = bold><font color = underline>Question2</font></font>: I handle social media for a non-profit. Should I start going to social media networking events? Are there any good ones in the bay area?"
            ],
            "text/plain": [
              "<IPython.core.display.HTML object>"
            ]
          },
          "metadata": {
            "tags": []
          }
        },
        {
          "output_type": "stream",
          "text": [
            "\n",
            "[Succeeded / Failed / Total] 0 / 1 / 1:   8%|▊         | 2/25 [00:15<02:59,  7.80s/it]\u001b[A\n",
            "[Succeeded / Failed / Total] 0 / 2 / 2:   8%|▊         | 2/25 [00:15<02:59,  7.80s/it]\u001b[A"
          ],
          "name": "stderr"
        },
        {
          "output_type": "display_data",
          "data": {
            "text/html": [
              "<font color = green>Duplicate (92%)</font> --> <font color = red>Not_duplicate (100%)</font><br><font color = bold><font color = underline>Question1</font></font>: Is there a reason why we should travel <font color = green>alone</font>?\n",
              "<font color = bold><font color = underline>Question2</font></font>: What are some reasons to travel alone?<br><font color = bold><font color = underline>Question1</font></font>: Is there a reason why we should travel <font color = red>kukulcan</font>?\n",
              "<font color = bold><font color = underline>Question2</font></font>: What are some reasons to travel alone?"
            ],
            "text/plain": [
              "<IPython.core.display.HTML object>"
            ]
          },
          "metadata": {
            "tags": []
          }
        },
        {
          "output_type": "stream",
          "text": [
            "\n",
            "[Succeeded / Failed / Total] 0 / 2 / 2:  12%|█▏        | 3/25 [00:15<01:55,  5.27s/it]\u001b[A\n",
            "[Succeeded / Failed / Total] 1 / 2 / 3:  12%|█▏        | 3/25 [00:15<01:55,  5.27s/it]\u001b[A"
          ],
          "name": "stderr"
        },
        {
          "output_type": "display_data",
          "data": {
            "text/html": [
              "<font color = red>Not_duplicate (100%)</font> --> <font color = red>[FAILED]</font><br><font color = bold><font color = underline>Question1</font></font>: Why are people so obsessed with having a girlfriend/boyfriend?\n",
              "<font color = bold><font color = underline>Question2</font></font>: How can a single male have a child?"
            ],
            "text/plain": [
              "<IPython.core.display.HTML object>"
            ]
          },
          "metadata": {
            "tags": []
          }
        },
        {
          "output_type": "stream",
          "text": [
            "\n",
            "[Succeeded / Failed / Total] 1 / 2 / 3:  16%|█▌        | 4/25 [00:17<01:33,  4.46s/it]\u001b[A\n",
            "[Succeeded / Failed / Total] 1 / 3 / 4:  16%|█▌        | 4/25 [00:17<01:33,  4.46s/it]\u001b[A"
          ],
          "name": "stderr"
        },
        {
          "output_type": "display_data",
          "data": {
            "text/html": [
              "<font color = red>Not_duplicate (99%)</font> --> <font color = green>Duplicate (80%)</font><br><font color = bold><font color = underline>Question1</font></font>: What are some good baby <font color = red>girl</font> names <font color = red>starting</font> with D?\n",
              "<font color = bold><font color = underline>Question2</font></font>: What are some good <font color = red>baby</font> <font color = red>girl</font> names starting with D or H?<br><font color = bold><font color = underline>Question1</font></font>: What are some good baby <font color = green>boys</font> names <font color = green>bedard</font> with D?\n",
              "<font color = bold><font color = underline>Question2</font></font>: What are some good <font color = green>dear</font> <font color = green>boys</font> names starting with D or H?"
            ],
            "text/plain": [
              "<IPython.core.display.HTML object>"
            ]
          },
          "metadata": {
            "tags": []
          }
        },
        {
          "output_type": "stream",
          "text": [
            "\n",
            "[Succeeded / Failed / Total] 1 / 3 / 4:  20%|██        | 5/25 [00:21<01:24,  4.21s/it]\u001b[A\n",
            "[Succeeded / Failed / Total] 2 / 3 / 5:  20%|██        | 5/25 [00:21<01:24,  4.21s/it]\u001b[A"
          ],
          "name": "stderr"
        },
        {
          "output_type": "display_data",
          "data": {
            "text/html": [
              "<font color = green>Duplicate (97%)</font> --> <font color = red>Not_duplicate (96%)</font><br><font color = bold><font color = underline>Question1</font></font>: I am 25 year old guy and <font color = green>never</font> had a <font color = green>girlfriend</font>. Is this weird?\n",
              "<font color = bold><font color = underline>Question2</font></font>: I am 25 years old. I have never had a girlfriend. Is something wrong with me?<br><font color = bold><font color = underline>Question1</font></font>: I am 25 year old guy and <font color = red>actually</font> had a <font color = red>boyfriend</font>. Is this weird?\n",
              "<font color = bold><font color = underline>Question2</font></font>: I am 25 years old. I have never had a girlfriend. Is something wrong with me?"
            ],
            "text/plain": [
              "<IPython.core.display.HTML object>"
            ]
          },
          "metadata": {
            "tags": []
          }
        },
        {
          "output_type": "stream",
          "text": [
            "\n",
            "[Succeeded / Failed / Total] 2 / 3 / 5:  24%|██▍       | 6/25 [00:22<01:11,  3.75s/it]\u001b[A\n",
            "[Succeeded / Failed / Total] 3 / 3 / 6:  24%|██▍       | 6/25 [00:22<01:11,  3.75s/it]\u001b[A"
          ],
          "name": "stderr"
        },
        {
          "output_type": "display_data",
          "data": {
            "text/html": [
              "<font color = green>Duplicate (60%)</font> --> <font color = red>Not_duplicate (100%)</font><br><font color = bold><font color = underline>Question1</font></font>: \"What does a good <font color = green>answer</font> on Quora look like? What does it mean to \"\"be helpful\"\"?\"\n",
              "<font color = bold><font color = underline>Question2</font></font>: How do you write a good answer on Quora?<br><font color = bold><font color = underline>Question1</font></font>: \"What does a good <font color = red>questions</font> on Quora look like? What does it mean to \"\"be helpful\"\"?\"\n",
              "<font color = bold><font color = underline>Question2</font></font>: How do you write a good answer on Quora?"
            ],
            "text/plain": [
              "<IPython.core.display.HTML object>"
            ]
          },
          "metadata": {
            "tags": []
          }
        },
        {
          "output_type": "stream",
          "text": [
            "\n",
            "[Succeeded / Failed / Total] 3 / 3 / 6:  28%|██▊       | 7/25 [00:22<00:58,  3.26s/it]\u001b[A\n",
            "[Succeeded / Failed / Total] 4 / 3 / 7:  28%|██▊       | 7/25 [00:22<00:58,  3.26s/it]\u001b[A"
          ],
          "name": "stderr"
        },
        {
          "output_type": "display_data",
          "data": {
            "text/html": [
              "<font color = green>Duplicate (58%)</font> --> <font color = red>Not_duplicate (99%)</font><br><font color = bold><font color = underline>Question1</font></font>: What are the best things to do in Hong Kong?\n",
              "<font color = bold><font color = underline>Question2</font></font>: What is the <font color = green>best</font> thing in Hong Kong?<br><font color = bold><font color = underline>Question1</font></font>: What are the best things to do in Hong Kong?\n",
              "<font color = bold><font color = underline>Question2</font></font>: What is the <font color = red>rnb</font> thing in Hong Kong?"
            ],
            "text/plain": [
              "<IPython.core.display.HTML object>"
            ]
          },
          "metadata": {
            "tags": []
          }
        },
        {
          "output_type": "stream",
          "text": [
            "\n",
            "[Succeeded / Failed / Total] 4 / 3 / 7:  32%|███▏      | 8/25 [00:22<00:48,  2.87s/it]\u001b[A\n",
            "[Succeeded / Failed / Total] 5 / 3 / 8:  32%|███▏      | 8/25 [00:22<00:48,  2.87s/it]\u001b[A"
          ],
          "name": "stderr"
        },
        {
          "output_type": "display_data",
          "data": {
            "text/html": [
              "<font color = green>Duplicate (88%)</font> --> <font color = gray>[SKIPPED]</font><br><font color = bold><font color = underline>Question1</font></font>: Why is my life getting so complicated?\n",
              "<font color = bold><font color = underline>Question2</font></font>: Why is my life so complicated?"
            ],
            "text/plain": [
              "<IPython.core.display.HTML object>"
            ]
          },
          "metadata": {
            "tags": []
          }
        },
        {
          "output_type": "stream",
          "text": [
            "\n",
            "[Succeeded / Failed / Total] 5 / 3 / 9:  36%|███▌      | 9/25 [00:22<00:40,  2.55s/it]\u001b[A"
          ],
          "name": "stderr"
        },
        {
          "output_type": "display_data",
          "data": {
            "text/html": [
              "<font color = red>Not_duplicate (100%)</font> --> <font color = red>[FAILED]</font><br><font color = bold><font color = underline>Question1</font></font>: Why should I crack Jee?\n",
              "<font color = bold><font color = underline>Question2</font></font>: Is it possible to get into IIMs with low marks in graduation and 12th?"
            ],
            "text/plain": [
              "<IPython.core.display.HTML object>"
            ]
          },
          "metadata": {
            "tags": []
          }
        },
        {
          "output_type": "stream",
          "text": [
            "\n",
            "[Succeeded / Failed / Total] 5 / 3 / 9:  40%|████      | 10/25 [00:24<00:37,  2.50s/it]\u001b[A\n",
            "[Succeeded / Failed / Total] 5 / 4 / 10:  40%|████      | 10/25 [00:24<00:37,  2.50s/it]\u001b[A"
          ],
          "name": "stderr"
        },
        {
          "output_type": "display_data",
          "data": {
            "text/html": [
              "<font color = red>Not_duplicate (99%)</font> --> <font color = red>[FAILED]</font><br><font color = bold><font color = underline>Question1</font></font>: Can you TRANSLATE these to English language?\n",
              "<font color = bold><font color = underline>Question2</font></font>: Can you translate this from Bengali to English language?"
            ],
            "text/plain": [
              "<IPython.core.display.HTML object>"
            ]
          },
          "metadata": {
            "tags": []
          }
        },
        {
          "output_type": "stream",
          "text": [
            "\n",
            "[Succeeded / Failed / Total] 5 / 5 / 11:  44%|████▍     | 11/25 [00:25<00:32,  2.32s/it]\u001b[A"
          ],
          "name": "stderr"
        },
        {
          "output_type": "display_data",
          "data": {
            "text/html": [
              "<font color = red>Not_duplicate (100%)</font> --> <font color = red>[FAILED]</font><br><font color = bold><font color = underline>Question1</font></font>: Can anyone tell shall mi mix mobile should be purchased or not?\n",
              "<font color = bold><font color = underline>Question2</font></font>: \"What did Voltaire mean when he said, \"\"God is a comedian playing to an audience that is too afraid to laugh\"\"?\""
            ],
            "text/plain": [
              "<IPython.core.display.HTML object>"
            ]
          },
          "metadata": {
            "tags": []
          }
        },
        {
          "output_type": "stream",
          "text": [
            "\n",
            "[Succeeded / Failed / Total] 5 / 5 / 11:  48%|████▊     | 12/25 [00:37<00:40,  3.13s/it]\u001b[A\n",
            "[Succeeded / Failed / Total] 5 / 6 / 12:  48%|████▊     | 12/25 [00:37<00:40,  3.13s/it]\u001b[A"
          ],
          "name": "stderr"
        },
        {
          "output_type": "display_data",
          "data": {
            "text/html": [
              "<font color = green>Duplicate (97%)</font> --> <font color = red>Not_duplicate (95%)</font><br><font color = bold><font color = underline>Question1</font></font>: Which is the best gaming <font color = green>laptop</font> under 40k?\n",
              "<font color = bold><font color = underline>Question2</font></font>: Which is the best gaming laptop under 40,000 rs?<br><font color = bold><font color = underline>Question1</font></font>: Which is the best gaming <font color = red>confetti</font> under 40k?\n",
              "<font color = bold><font color = underline>Question2</font></font>: Which is the best gaming laptop under 40,000 rs?"
            ],
            "text/plain": [
              "<IPython.core.display.HTML object>"
            ]
          },
          "metadata": {
            "tags": []
          }
        },
        {
          "output_type": "stream",
          "text": [
            "\n",
            "[Succeeded / Failed / Total] 5 / 6 / 12:  52%|█████▏    | 13/25 [00:37<00:34,  2.91s/it]\u001b[A\n",
            "[Succeeded / Failed / Total] 6 / 6 / 13:  52%|█████▏    | 13/25 [00:37<00:34,  2.91s/it]\u001b[A"
          ],
          "name": "stderr"
        },
        {
          "output_type": "display_data",
          "data": {
            "text/html": [
              "<font color = red>Not_duplicate (100%)</font> --> <font color = red>[FAILED]</font><br><font color = bold><font color = underline>Question1</font></font>: Why Tamil Nadu Universities are no good?\n",
              "<font color = bold><font color = underline>Question2</font></font>: Why are the 10th students able to score 100% in Tamil Nadu?"
            ],
            "text/plain": [
              "<IPython.core.display.HTML object>"
            ]
          },
          "metadata": {
            "tags": []
          }
        },
        {
          "output_type": "stream",
          "text": [
            "\n",
            "[Succeeded / Failed / Total] 6 / 6 / 13:  56%|█████▌    | 14/25 [00:38<00:30,  2.75s/it]\u001b[A\n",
            "[Succeeded / Failed / Total] 6 / 7 / 14:  56%|█████▌    | 14/25 [00:38<00:30,  2.75s/it]\u001b[A"
          ],
          "name": "stderr"
        },
        {
          "output_type": "display_data",
          "data": {
            "text/html": [
              "<font color = red>Not_duplicate (100%)</font> --> <font color = red>[FAILED]</font><br><font color = bold><font color = underline>Question1</font></font>: What is an easy way to clean toothpaste stains from a shirt without washing it?\n",
              "<font color = bold><font color = underline>Question2</font></font>: What are some ways to remove hard water stains from dishes?"
            ],
            "text/plain": [
              "<IPython.core.display.HTML object>"
            ]
          },
          "metadata": {
            "tags": []
          }
        },
        {
          "output_type": "stream",
          "text": [
            "\n",
            "[Succeeded / Failed / Total] 6 / 7 / 14:  60%|██████    | 15/25 [00:48<00:32,  3.23s/it]\u001b[A\n",
            "[Succeeded / Failed / Total] 6 / 8 / 15:  60%|██████    | 15/25 [00:48<00:32,  3.23s/it]\u001b[A"
          ],
          "name": "stderr"
        },
        {
          "output_type": "display_data",
          "data": {
            "text/html": [
              "<font color = green>Duplicate (84%)</font> --> <font color = red>Not_duplicate (99%)</font><br><font color = bold><font color = underline>Question1</font></font>: What was the deadliest battle in history?\n",
              "<font color = bold><font color = underline>Question2</font></font>: What was the bloodiest <font color = green>battle</font> in history?<br><font color = bold><font color = underline>Question1</font></font>: What was the deadliest battle in history?\n",
              "<font color = bold><font color = underline>Question2</font></font>: What was the bloodiest <font color = red>agincourt</font> in history?"
            ],
            "text/plain": [
              "<IPython.core.display.HTML object>"
            ]
          },
          "metadata": {
            "tags": []
          }
        },
        {
          "output_type": "stream",
          "text": [
            "\n",
            "[Succeeded / Failed / Total] 6 / 8 / 15:  64%|██████▍   | 16/25 [00:48<00:27,  3.04s/it]\u001b[A\n",
            "[Succeeded / Failed / Total] 7 / 8 / 16:  64%|██████▍   | 16/25 [00:48<00:27,  3.04s/it]\u001b[A"
          ],
          "name": "stderr"
        },
        {
          "output_type": "display_data",
          "data": {
            "text/html": [
              "<font color = green>Duplicate (100%)</font> --> <font color = red>Not_duplicate (70%)</font><br><font color = bold><font color = underline>Question1</font></font>: What are your <font color = green>views</font> about demonetisation in India?\n",
              "<font color = bold><font color = underline>Question2</font></font>: What do you <font color = green>think</font> about the <font color = green>ban</font> on 500 and 1000 <font color = green>denomination</font> <font color = green>notes</font> in India?<br><font color = bold><font color = underline>Question1</font></font>: What are your <font color = red>beliefs</font> about demonetisation in India?\n",
              "<font color = bold><font color = underline>Question2</font></font>: What do you <font color = red>want</font> about the <font color = red>ozone</font> on 500 and 1000 <font color = red>highest</font> <font color = red>note</font> in India?"
            ],
            "text/plain": [
              "<IPython.core.display.HTML object>"
            ]
          },
          "metadata": {
            "tags": []
          }
        },
        {
          "output_type": "stream",
          "text": [
            "\n",
            "[Succeeded / Failed / Total] 7 / 8 / 16:  68%|██████▊   | 17/25 [00:49<00:23,  2.90s/it]\u001b[A\n",
            "[Succeeded / Failed / Total] 8 / 8 / 17:  68%|██████▊   | 17/25 [00:49<00:23,  2.90s/it]\u001b[A"
          ],
          "name": "stderr"
        },
        {
          "output_type": "display_data",
          "data": {
            "text/html": [
              "<font color = red>Not_duplicate (100%)</font> --> <font color = red>[FAILED]</font><br><font color = bold><font color = underline>Question1</font></font>: What are the difference between polyester 210T and 210D?\n",
              "<font color = bold><font color = underline>Question2</font></font>: What is the difference between cotton and polyester?"
            ],
            "text/plain": [
              "<IPython.core.display.HTML object>"
            ]
          },
          "metadata": {
            "tags": []
          }
        },
        {
          "output_type": "stream",
          "text": [
            "\n",
            "[Succeeded / Failed / Total] 8 / 8 / 17:  72%|███████▏  | 18/25 [00:50<00:19,  2.78s/it]\u001b[A\n",
            "[Succeeded / Failed / Total] 8 / 9 / 18:  72%|███████▏  | 18/25 [00:50<00:19,  2.78s/it]\u001b[A"
          ],
          "name": "stderr"
        },
        {
          "output_type": "display_data",
          "data": {
            "text/html": [
              "<font color = red>Not_duplicate (92%)</font> --> <font color = green>Duplicate (58%)</font><br><font color = bold><font color = underline>Question1</font></font>: Is FMS Delhi a good <font color = red>option</font> for a MBA executive program?\n",
              "<font color = bold><font color = underline>Question2</font></font>: Is FMS a good <font color = red>choice</font> for an MBA in HR? Why and why not?<br><font color = bold><font color = underline>Question1</font></font>: Is FMS Delhi a good <font color = green>dhcp</font> for a MBA executive program?\n",
              "<font color = bold><font color = underline>Question2</font></font>: Is FMS a good <font color = green>uhijini</font> for an MBA in HR? Why and why not?"
            ],
            "text/plain": [
              "<IPython.core.display.HTML object>"
            ]
          },
          "metadata": {
            "tags": []
          }
        },
        {
          "output_type": "stream",
          "text": [
            "\n",
            "[Succeeded / Failed / Total] 8 / 9 / 18:  76%|███████▌  | 19/25 [00:50<00:15,  2.67s/it]\u001b[A\n",
            "[Succeeded / Failed / Total] 9 / 9 / 19:  76%|███████▌  | 19/25 [00:50<00:16,  2.67s/it]\u001b[A"
          ],
          "name": "stderr"
        },
        {
          "output_type": "display_data",
          "data": {
            "text/html": [
              "<font color = green>Duplicate (57%)</font> --> <font color = red>Not_duplicate (99%)</font><br><font color = bold><font color = underline>Question1</font></font>: Is it a bad time to buy a condo or a house in the Bay Area in 2017?\n",
              "<font color = bold><font color = underline>Question2</font></font>: Would 2017 be a good time to buy a <font color = green>house</font> in Bay Area?<br><font color = bold><font color = underline>Question1</font></font>: Is it a bad time to buy a condo or a house in the Bay Area in 2017?\n",
              "<font color = bold><font color = underline>Question2</font></font>: Would 2017 be a good time to buy a <font color = red>ajidica</font> in Bay Area?"
            ],
            "text/plain": [
              "<IPython.core.display.HTML object>"
            ]
          },
          "metadata": {
            "tags": []
          }
        },
        {
          "output_type": "stream",
          "text": [
            "\n",
            "[Succeeded / Failed / Total] 9 / 9 / 19:  80%|████████  | 20/25 [00:50<00:12,  2.55s/it]\u001b[A\n",
            "[Succeeded / Failed / Total] 10 / 9 / 20:  80%|████████  | 20/25 [00:50<00:12,  2.55s/it]\u001b[A"
          ],
          "name": "stderr"
        },
        {
          "output_type": "display_data",
          "data": {
            "text/html": [
              "<font color = red>Not_duplicate (100%)</font> --> <font color = red>[FAILED]</font><br><font color = bold><font color = underline>Question1</font></font>: How is vanilla extract made?\n",
              "<font color = bold><font color = underline>Question2</font></font>: How do you make sugar cookies without vanilla extract?"
            ],
            "text/plain": [
              "<IPython.core.display.HTML object>"
            ]
          },
          "metadata": {
            "tags": []
          }
        },
        {
          "output_type": "stream",
          "text": [
            "\n",
            "[Succeeded / Failed / Total] 10 / 9 / 20:  84%|████████▍ | 21/25 [00:54<00:10,  2.57s/it]\u001b[A\n",
            "[Succeeded / Failed / Total] 10 / 10 / 21:  84%|████████▍ | 21/25 [00:54<00:10,  2.57s/it]\u001b[A"
          ],
          "name": "stderr"
        },
        {
          "output_type": "display_data",
          "data": {
            "text/html": [
              "<font color = green>Duplicate (100%)</font> --> <font color = red>[FAILED]</font><br><font color = bold><font color = underline>Question1</font></font>: What is the Sahara, and how do the average temperatures there compare to the ones in the Patagonian Desert?\n",
              "<font color = bold><font color = underline>Question2</font></font>: What is the Sahara, and how do the average temperatures there compare to the ones in the Registan Desert?"
            ],
            "text/plain": [
              "<IPython.core.display.HTML object>"
            ]
          },
          "metadata": {
            "tags": []
          }
        },
        {
          "output_type": "stream",
          "text": [
            "\n",
            "[Succeeded / Failed / Total] 10 / 10 / 21:  88%|████████▊ | 22/25 [00:56<00:07,  2.57s/it]\u001b[A\n",
            "[Succeeded / Failed / Total] 10 / 11 / 22:  88%|████████▊ | 22/25 [00:56<00:07,  2.57s/it]\u001b[A"
          ],
          "name": "stderr"
        },
        {
          "output_type": "display_data",
          "data": {
            "text/html": [
              "<font color = red>Not_duplicate (100%)</font> --> <font color = red>[FAILED]</font><br><font color = bold><font color = underline>Question1</font></font>: Why was the Roman Empire so successful?\n",
              "<font color = bold><font color = underline>Question2</font></font>: What are some of the rarely known facts about the Roman Empire?"
            ],
            "text/plain": [
              "<IPython.core.display.HTML object>"
            ]
          },
          "metadata": {
            "tags": []
          }
        },
        {
          "output_type": "stream",
          "text": [
            "\n",
            "[Succeeded / Failed / Total] 10 / 11 / 22:  92%|█████████▏| 23/25 [00:57<00:04,  2.49s/it]\u001b[A\n",
            "[Succeeded / Failed / Total] 10 / 12 / 23:  92%|█████████▏| 23/25 [00:57<00:04,  2.49s/it]\u001b[A"
          ],
          "name": "stderr"
        },
        {
          "output_type": "display_data",
          "data": {
            "text/html": [
              "<font color = red>Not_duplicate (97%)</font> --> <font color = green>Duplicate (64%)</font><br><font color = bold><font color = underline>Question1</font></font>: Is it <font color = red>advisable</font> to sent your <font color = red>cv</font> to a <font color = red>professor</font> with whom you are <font color = red>trying</font> to <font color = red>make</font> <font color = red>contact</font> for graduate admission?\n",
              "<font color = bold><font color = underline>Question2</font></font>: How does <font color = red>contacting</font> a <font color = red>professor</font> before <font color = red>applying</font> <font color = red>factor</font> into graduate admissions?<br><font color = bold><font color = underline>Question1</font></font>: Is it <font color = green>unwise</font> to sent your <font color = green>psalm</font> to a <font color = green>emeritus</font> with whom you are <font color = green>attempting</font> to <font color = green>making</font> <font color = green>encounters</font> for graduate admission?\n",
              "<font color = bold><font color = underline>Question2</font></font>: How does <font color = green>bypassing</font> a <font color = green>emeritus</font> before <font color = green>solving</font> <font color = green>contributing</font> into graduate admissions?"
            ],
            "text/plain": [
              "<IPython.core.display.HTML object>"
            ]
          },
          "metadata": {
            "tags": []
          }
        },
        {
          "output_type": "stream",
          "text": [
            "\n",
            "[Succeeded / Failed / Total] 10 / 12 / 23:  96%|█████████▌| 24/25 [01:09<00:02,  2.88s/it]\u001b[A\n",
            "[Succeeded / Failed / Total] 11 / 12 / 24:  96%|█████████▌| 24/25 [01:09<00:02,  2.88s/it]\u001b[A"
          ],
          "name": "stderr"
        },
        {
          "output_type": "display_data",
          "data": {
            "text/html": [
              "<font color = red>Not_duplicate (100%)</font> --> <font color = red>[FAILED]</font><br><font color = bold><font color = underline>Question1</font></font>: Does a RainTPL syntax extension for Sublime Text exist? Where can I download it?\n",
              "<font color = bold><font color = underline>Question2</font></font>: How do I hide the find/replace bar in Sublime Text 2?"
            ],
            "text/plain": [
              "<IPython.core.display.HTML object>"
            ]
          },
          "metadata": {
            "tags": []
          }
        },
        {
          "output_type": "stream",
          "text": [
            "\n",
            "[Succeeded / Failed / Total] 11 / 12 / 24: 100%|██████████| 25/25 [01:13<00:00,  2.92s/it]\u001b[A\n",
            "[Succeeded / Failed / Total] 11 / 13 / 25: 100%|██████████| 25/25 [01:13<00:00,  2.92s/it]\u001b[A"
          ],
          "name": "stderr"
        },
        {
          "output_type": "display_data",
          "data": {
            "text/html": [
              "<font color = red>Not_duplicate (100%)</font> --> <font color = green>Duplicate (52%)</font><br><font color = bold><font color = underline>Question1</font></font>: What is the average salary of a microbiologist in India?\n",
              "<font color = bold><font color = underline>Question2</font></font>: What is the salary for a <font color = red>psychologist</font> in <font color = red>india</font>?<br><font color = bold><font color = underline>Question1</font></font>: What is the average salary of a microbiologist in India?\n",
              "<font color = bold><font color = underline>Question2</font></font>: What is the salary for a <font color = green>zoologist</font> in <font color = green>pakistan</font>?"
            ],
            "text/plain": [
              "<IPython.core.display.HTML object>"
            ]
          },
          "metadata": {
            "tags": []
          }
        },
        {
          "output_type": "stream",
          "text": [
            "\n",
            "[Succeeded / Failed / Total] 11 / 13 / 25: : 26it [01:13,  2.83s/it]                      \u001b[A\n",
            "[Succeeded / Failed / Total] 12 / 13 / 26: : 26it [01:13,  2.83s/it]"
          ],
          "name": "stderr"
        },
        {
          "output_type": "stream",
          "text": [
            "+-------------------------------+--------+\n",
            "| Attack Results                |        |\n",
            "+-------------------------------+--------+\n",
            "| Number of successful attacks: | 12     |\n",
            "| Number of failed attacks:     | 13     |\n",
            "| Number of skipped attacks:    | 1      |\n",
            "| Original accuracy:            | 96.15% |\n",
            "| Accuracy under attack:        | 50.0%  |\n",
            "| Attack success rate:          | 48.0%  |\n",
            "| Average perturbed word %:     | 10.67% |\n",
            "| Average num. words per input: | 22.5   |\n",
            "| Avg num queries:              | 212.48 |\n",
            "+-------------------------------+--------+"
          ],
          "name": "stdout"
        },
        {
          "output_type": "stream",
          "text": [
            "\n",
            "\u001b[34;1mtextattack\u001b[0m: Attack time: 73.5627110004425s\n"
          ],
          "name": "stderr"
        }
      ]
    },
    {
      "cell_type": "markdown",
      "metadata": {
        "id": "q7n4M02gtr2D"
      },
      "source": [
        "### FastText, GreedyWordSwapWIR, PartsofSpeech"
      ]
    },
    {
      "cell_type": "code",
      "metadata": {
        "colab": {
          "base_uri": "https://localhost:8080/"
        },
        "id": "9jwrvRfhqKVj",
        "outputId": "bf7e76ca-a1ce-4da0-8b21-fe9f4928e6d2"
      },
      "source": [
        "# We're going to use our word swap class as the attack transformation.\n",
        "transformation = Swapper()\n",
        "\n",
        "constraints = [PartOfSpeech()]\n",
        "\n",
        "search_method = GreedyWordSwapWIR()\n",
        "\n",
        "goal_function = UntargetedClassification(model_wrapper)\n",
        "\n",
        "# Now, let's make the attack from the 4 components:\n",
        "attack = Attack(goal_function, constraints, transformation, search_method)"
      ],
      "execution_count": 46,
      "outputs": [
        {
          "output_type": "stream",
          "text": [
            "\u001b[34;1mtextattack\u001b[0m: Unknown if model of class <class 'transformers.models.distilbert.modeling_distilbert.DistilBertForSequenceClassification'> compatible with goal function <class 'textattack.goal_functions.classification.untargeted_classification.UntargetedClassification'>.\n"
          ],
          "name": "stderr"
        }
      ]
    },
    {
      "cell_type": "code",
      "metadata": {
        "colab": {
          "base_uri": "https://localhost:8080/"
        },
        "id": "eCV5etswrzVY",
        "outputId": "c50275fe-d12f-451c-d515-5edf24af23c1"
      },
      "source": [
        "print(attack)"
      ],
      "execution_count": 47,
      "outputs": [
        {
          "output_type": "stream",
          "text": [
            "Attack(\n",
            "  (search_method): GreedyWordSwapWIR(\n",
            "    (wir_method):  unk\n",
            "  )\n",
            "  (goal_function):  UntargetedClassification\n",
            "  (transformation):  Swapper\n",
            "  (constraints): \n",
            "    (0): PartOfSpeech(\n",
            "        (tagger_type):  nltk\n",
            "        (tagset):  universal\n",
            "        (allow_verb_noun_swap):  True\n",
            "        (compare_against_original):  True\n",
            "      )\n",
            "  (is_black_box):  True\n",
            ")\n"
          ],
          "name": "stdout"
        }
      ]
    },
    {
      "cell_type": "code",
      "metadata": {
        "colab": {
          "base_uri": "https://localhost:8080/",
          "height": 1000
        },
        "id": "fQ4LYaHlsN4e",
        "outputId": "3d287a39-430e-4bb1-9b24-2411d79fea2f"
      },
      "source": [
        "attack_stats(attack, dataset, 25)"
      ],
      "execution_count": 48,
      "outputs": [
        {
          "output_type": "stream",
          "text": [
            "\n",
            "  0%|          | 0/25 [00:00<?, ?it/s]\u001b[A"
          ],
          "name": "stderr"
        },
        {
          "output_type": "stream",
          "text": [
            "Attack(\n",
            "  (search_method): GreedyWordSwapWIR(\n",
            "    (wir_method):  unk\n",
            "  )\n",
            "  (goal_function):  UntargetedClassification\n",
            "  (transformation):  Swapper\n",
            "  (constraints): \n",
            "    (0): PartOfSpeech(\n",
            "        (tagger_type):  nltk\n",
            "        (tagset):  universal\n",
            "        (allow_verb_noun_swap):  True\n",
            "        (compare_against_original):  True\n",
            "      )\n",
            "  (is_black_box):  True\n",
            ")\n"
          ],
          "name": "stdout"
        },
        {
          "output_type": "display_data",
          "data": {
            "text/html": [
              "<font color = red>Not_duplicate (99%)</font> --> <font color = red>[FAILED]</font><br><font color = bold><font color = underline>Question1</font></font>: Why are African-Americans so beautiful?\n",
              "<font color = bold><font color = underline>Question2</font></font>: Why are hispanics so beautiful?"
            ],
            "text/plain": [
              "<IPython.core.display.HTML object>"
            ]
          },
          "metadata": {
            "tags": []
          }
        },
        {
          "output_type": "stream",
          "text": [
            "\n",
            "  4%|▍         | 1/25 [00:00<00:09,  2.60it/s]\u001b[A\n",
            "[Succeeded / Failed / Total] 0 / 1 / 1:   4%|▍         | 1/25 [00:00<00:09,  2.54it/s]\u001b[A"
          ],
          "name": "stderr"
        },
        {
          "output_type": "display_data",
          "data": {
            "text/html": [
              "<font color = red>Not_duplicate (100%)</font> --> <font color = red>[FAILED]</font><br><font color = bold><font color = underline>Question1</font></font>: I want to pursue PhD in Computer Science about social network,what is the open problem in social networks?\n",
              "<font color = bold><font color = underline>Question2</font></font>: I handle social media for a non-profit. Should I start going to social media networking events? Are there any good ones in the bay area?"
            ],
            "text/plain": [
              "<IPython.core.display.HTML object>"
            ]
          },
          "metadata": {
            "tags": []
          }
        },
        {
          "output_type": "stream",
          "text": [
            "\n",
            "[Succeeded / Failed / Total] 0 / 1 / 1:   8%|▊         | 2/25 [00:01<00:16,  1.44it/s]\u001b[A\n",
            "[Succeeded / Failed / Total] 0 / 2 / 2:   8%|▊         | 2/25 [00:01<00:16,  1.43it/s]\u001b[A"
          ],
          "name": "stderr"
        },
        {
          "output_type": "display_data",
          "data": {
            "text/html": [
              "<font color = green>Duplicate (92%)</font> --> <font color = red>Not_duplicate (86%)</font><br><font color = bold><font color = underline>Question1</font></font>: <font color = green>Is</font> there <font color = green>a</font> reason why <font color = green>we</font> should <font color = green>travel</font> alone?\n",
              "<font color = bold><font color = underline>Question2</font></font>: What are some <font color = green>reasons</font> to travel alone?<br><font color = bold><font color = underline>Question1</font></font>: <font color = red>Larva</font> there <font color = red>the</font> reason why <font color = red>you</font> should <font color = red>travelling</font> alone?\n",
              "<font color = bold><font color = underline>Question2</font></font>: What are some <font color = red>reason</font> to travel alone?"
            ],
            "text/plain": [
              "<IPython.core.display.HTML object>"
            ]
          },
          "metadata": {
            "tags": []
          }
        },
        {
          "output_type": "stream",
          "text": [
            "\n",
            "[Succeeded / Failed / Total] 0 / 2 / 2:  12%|█▏        | 3/25 [00:01<00:12,  1.72it/s]\u001b[A\n",
            "[Succeeded / Failed / Total] 1 / 2 / 3:  12%|█▏        | 3/25 [00:01<00:12,  1.71it/s]\u001b[A"
          ],
          "name": "stderr"
        },
        {
          "output_type": "display_data",
          "data": {
            "text/html": [
              "<font color = red>Not_duplicate (100%)</font> --> <font color = red>[FAILED]</font><br><font color = bold><font color = underline>Question1</font></font>: Why are people so obsessed with having a girlfriend/boyfriend?\n",
              "<font color = bold><font color = underline>Question2</font></font>: How can a single male have a child?"
            ],
            "text/plain": [
              "<IPython.core.display.HTML object>"
            ]
          },
          "metadata": {
            "tags": []
          }
        },
        {
          "output_type": "stream",
          "text": [
            "\n",
            "[Succeeded / Failed / Total] 1 / 2 / 3:  16%|█▌        | 4/25 [00:02<00:11,  1.84it/s]\u001b[A\n",
            "[Succeeded / Failed / Total] 1 / 3 / 4:  16%|█▌        | 4/25 [00:02<00:11,  1.83it/s]\u001b[A"
          ],
          "name": "stderr"
        },
        {
          "output_type": "display_data",
          "data": {
            "text/html": [
              "<font color = red>Not_duplicate (99%)</font> --> <font color = green>Duplicate (62%)</font><br><font color = bold><font color = underline>Question1</font></font>: What <font color = red>are</font> some good baby girl names <font color = red>starting</font> with D?\n",
              "<font color = bold><font color = underline>Question2</font></font>: What <font color = red>are</font> some good baby girl <font color = red>names</font> <font color = red>starting</font> with D or <font color = red>H</font>?<br><font color = bold><font color = underline>Question1</font></font>: What <font color = green>were</font> some good baby girl names <font color = green>farting</font> with D?\n",
              "<font color = bold><font color = underline>Question2</font></font>: What <font color = green>were</font> some good baby girl <font color = green>name</font> <font color = green>farting</font> with D or <font color = green>QUE</font>?"
            ],
            "text/plain": [
              "<IPython.core.display.HTML object>"
            ]
          },
          "metadata": {
            "tags": []
          }
        },
        {
          "output_type": "stream",
          "text": [
            "\n",
            "[Succeeded / Failed / Total] 1 / 3 / 4:  20%|██        | 5/25 [00:02<00:09,  2.05it/s]\u001b[A\n",
            "[Succeeded / Failed / Total] 2 / 3 / 5:  20%|██        | 5/25 [00:02<00:09,  2.04it/s]\u001b[A"
          ],
          "name": "stderr"
        },
        {
          "output_type": "display_data",
          "data": {
            "text/html": [
              "<font color = green>Duplicate (97%)</font> --> <font color = red>Not_duplicate (85%)</font><br><font color = bold><font color = underline>Question1</font></font>: I am 25 year old guy and never had a <font color = green>girlfriend</font>. Is this weird?\n",
              "<font color = bold><font color = underline>Question2</font></font>: I am 25 years old. I have <font color = green>never</font> had a girlfriend. Is something wrong with me?<br><font color = bold><font color = underline>Question1</font></font>: I am 25 year old guy and never had a <font color = red>boyfriend</font>. Is this weird?\n",
              "<font color = bold><font color = underline>Question2</font></font>: I am 25 years old. I have <font color = red>ever</font> had a girlfriend. Is something wrong with me?"
            ],
            "text/plain": [
              "<IPython.core.display.HTML object>"
            ]
          },
          "metadata": {
            "tags": []
          }
        },
        {
          "output_type": "stream",
          "text": [
            "\n",
            "[Succeeded / Failed / Total] 2 / 3 / 5:  24%|██▍       | 6/25 [00:02<00:08,  2.24it/s]\u001b[A\n",
            "[Succeeded / Failed / Total] 3 / 3 / 6:  24%|██▍       | 6/25 [00:02<00:08,  2.24it/s]\u001b[A"
          ],
          "name": "stderr"
        },
        {
          "output_type": "display_data",
          "data": {
            "text/html": [
              "<font color = green>Duplicate (60%)</font> --> <font color = red>Not_duplicate (100%)</font><br><font color = bold><font color = underline>Question1</font></font>: \"What does a good answer on Quora look like? What does it mean to \"\"be helpful\"\"?\"\n",
              "<font color = bold><font color = underline>Question2</font></font>: How do you write a good <font color = green>answer</font> on Quora?<br><font color = bold><font color = underline>Question1</font></font>: \"What does a good answer on Quora look like? What does it mean to \"\"be helpful\"\"?\"\n",
              "<font color = bold><font color = underline>Question2</font></font>: How do you write a good <font color = red>question</font> on Quora?"
            ],
            "text/plain": [
              "<IPython.core.display.HTML object>"
            ]
          },
          "metadata": {
            "tags": []
          }
        },
        {
          "output_type": "stream",
          "text": [
            "\n",
            "[Succeeded / Failed / Total] 3 / 3 / 6:  28%|██▊       | 7/25 [00:02<00:07,  2.46it/s]\u001b[A\n",
            "[Succeeded / Failed / Total] 4 / 3 / 7:  28%|██▊       | 7/25 [00:02<00:07,  2.45it/s]\u001b[A"
          ],
          "name": "stderr"
        },
        {
          "output_type": "display_data",
          "data": {
            "text/html": [
              "<font color = green>Duplicate (58%)</font> --> <font color = red>Not_duplicate (87%)</font><br><font color = bold><font color = underline>Question1</font></font>: What are the best things to <font color = green>do</font> in Hong Kong?\n",
              "<font color = bold><font color = underline>Question2</font></font>: What is the best thing in Hong Kong?<br><font color = bold><font color = underline>Question1</font></font>: What are the best things to <font color = red>want</font> in Hong Kong?\n",
              "<font color = bold><font color = underline>Question2</font></font>: What is the best thing in Hong Kong?"
            ],
            "text/plain": [
              "<IPython.core.display.HTML object>"
            ]
          },
          "metadata": {
            "tags": []
          }
        },
        {
          "output_type": "stream",
          "text": [
            "\n",
            "[Succeeded / Failed / Total] 4 / 3 / 7:  32%|███▏      | 8/25 [00:02<00:06,  2.70it/s]\u001b[A\n",
            "[Succeeded / Failed / Total] 5 / 3 / 8:  32%|███▏      | 8/25 [00:02<00:06,  2.69it/s]\u001b[A"
          ],
          "name": "stderr"
        },
        {
          "output_type": "display_data",
          "data": {
            "text/html": [
              "<font color = green>Duplicate (88%)</font> --> <font color = gray>[SKIPPED]</font><br><font color = bold><font color = underline>Question1</font></font>: Why is my life getting so complicated?\n",
              "<font color = bold><font color = underline>Question2</font></font>: Why is my life so complicated?"
            ],
            "text/plain": [
              "<IPython.core.display.HTML object>"
            ]
          },
          "metadata": {
            "tags": []
          }
        },
        {
          "output_type": "stream",
          "text": [
            "\n",
            "[Succeeded / Failed / Total] 5 / 3 / 9:  36%|███▌      | 9/25 [00:02<00:05,  3.01it/s]\u001b[A"
          ],
          "name": "stderr"
        },
        {
          "output_type": "display_data",
          "data": {
            "text/html": [
              "<font color = red>Not_duplicate (100%)</font> --> <font color = red>[FAILED]</font><br><font color = bold><font color = underline>Question1</font></font>: Why should I crack Jee?\n",
              "<font color = bold><font color = underline>Question2</font></font>: Is it possible to get into IIMs with low marks in graduation and 12th?"
            ],
            "text/plain": [
              "<IPython.core.display.HTML object>"
            ]
          },
          "metadata": {
            "tags": []
          }
        },
        {
          "output_type": "stream",
          "text": [
            "\n",
            "[Succeeded / Failed / Total] 5 / 3 / 9:  40%|████      | 10/25 [00:03<00:05,  2.97it/s]\u001b[A\n",
            "[Succeeded / Failed / Total] 5 / 4 / 10:  40%|████      | 10/25 [00:03<00:05,  2.96it/s]\u001b[A"
          ],
          "name": "stderr"
        },
        {
          "output_type": "display_data",
          "data": {
            "text/html": [
              "<font color = red>Not_duplicate (99%)</font> --> <font color = green>Duplicate (82%)</font><br><font color = bold><font color = underline>Question1</font></font>: <font color = red>Can</font> you TRANSLATE <font color = red>these</font> to English language?\n",
              "<font color = bold><font color = underline>Question2</font></font>: <font color = red>Can</font> you <font color = red>translate</font> this from Bengali to English <font color = red>language</font>?<br><font color = bold><font color = underline>Question1</font></font>: <font color = green>Yan</font> you TRANSLATE <font color = green>some</font> to English language?\n",
              "<font color = bold><font color = underline>Question2</font></font>: <font color = green>Yan</font> you <font color = green>translating</font> this from Bengali to English <font color = green>anguage</font>?"
            ],
            "text/plain": [
              "<IPython.core.display.HTML object>"
            ]
          },
          "metadata": {
            "tags": []
          }
        },
        {
          "output_type": "stream",
          "text": [
            "\n",
            "[Succeeded / Failed / Total] 6 / 4 / 11:  44%|████▍     | 11/25 [00:03<00:04,  3.07it/s]\u001b[A"
          ],
          "name": "stderr"
        },
        {
          "output_type": "display_data",
          "data": {
            "text/html": [
              "<font color = red>Not_duplicate (100%)</font> --> <font color = red>[FAILED]</font><br><font color = bold><font color = underline>Question1</font></font>: Can anyone tell shall mi mix mobile should be purchased or not?\n",
              "<font color = bold><font color = underline>Question2</font></font>: \"What did Voltaire mean when he said, \"\"God is a comedian playing to an audience that is too afraid to laugh\"\"?\""
            ],
            "text/plain": [
              "<IPython.core.display.HTML object>"
            ]
          },
          "metadata": {
            "tags": []
          }
        },
        {
          "output_type": "stream",
          "text": [
            "\n",
            "[Succeeded / Failed / Total] 6 / 4 / 11:  48%|████▊     | 12/25 [00:04<00:04,  2.77it/s]\u001b[A\n",
            "[Succeeded / Failed / Total] 6 / 5 / 12:  48%|████▊     | 12/25 [00:04<00:04,  2.76it/s]\u001b[A"
          ],
          "name": "stderr"
        },
        {
          "output_type": "display_data",
          "data": {
            "text/html": [
              "<font color = green>Duplicate (97%)</font> --> <font color = red>[FAILED]</font><br><font color = bold><font color = underline>Question1</font></font>: Which is the best gaming laptop under 40k?\n",
              "<font color = bold><font color = underline>Question2</font></font>: Which is the best gaming laptop under 40,000 rs?"
            ],
            "text/plain": [
              "<IPython.core.display.HTML object>"
            ]
          },
          "metadata": {
            "tags": []
          }
        },
        {
          "output_type": "stream",
          "text": [
            "\n",
            "[Succeeded / Failed / Total] 6 / 6 / 13:  52%|█████▏    | 13/25 [00:04<00:04,  2.74it/s]\u001b[A"
          ],
          "name": "stderr"
        },
        {
          "output_type": "display_data",
          "data": {
            "text/html": [
              "<font color = red>Not_duplicate (100%)</font> --> <font color = red>[FAILED]</font><br><font color = bold><font color = underline>Question1</font></font>: Why Tamil Nadu Universities are no good?\n",
              "<font color = bold><font color = underline>Question2</font></font>: Why are the 10th students able to score 100% in Tamil Nadu?"
            ],
            "text/plain": [
              "<IPython.core.display.HTML object>"
            ]
          },
          "metadata": {
            "tags": []
          }
        },
        {
          "output_type": "stream",
          "text": [
            "\n",
            "[Succeeded / Failed / Total] 6 / 6 / 13:  56%|█████▌    | 14/25 [00:05<00:04,  2.70it/s]\u001b[A\n",
            "[Succeeded / Failed / Total] 6 / 7 / 14:  56%|█████▌    | 14/25 [00:05<00:04,  2.70it/s]\u001b[A"
          ],
          "name": "stderr"
        },
        {
          "output_type": "display_data",
          "data": {
            "text/html": [
              "<font color = red>Not_duplicate (100%)</font> --> <font color = red>[FAILED]</font><br><font color = bold><font color = underline>Question1</font></font>: What is an easy way to clean toothpaste stains from a shirt without washing it?\n",
              "<font color = bold><font color = underline>Question2</font></font>: What are some ways to remove hard water stains from dishes?"
            ],
            "text/plain": [
              "<IPython.core.display.HTML object>"
            ]
          },
          "metadata": {
            "tags": []
          }
        },
        {
          "output_type": "stream",
          "text": [
            "\n",
            "[Succeeded / Failed / Total] 6 / 8 / 15:  60%|██████    | 15/25 [00:05<00:03,  2.60it/s]\u001b[A"
          ],
          "name": "stderr"
        },
        {
          "output_type": "display_data",
          "data": {
            "text/html": [
              "<font color = green>Duplicate (84%)</font> --> <font color = red>Not_duplicate (76%)</font><br><font color = bold><font color = underline>Question1</font></font>: What was the deadliest battle in <font color = green>history</font>?\n",
              "<font color = bold><font color = underline>Question2</font></font>: What was the bloodiest battle in <font color = green>history</font>?<br><font color = bold><font color = underline>Question1</font></font>: What was the deadliest battle in <font color = red>timeline</font>?\n",
              "<font color = bold><font color = underline>Question2</font></font>: What was the bloodiest battle in <font color = red>timeline</font>?"
            ],
            "text/plain": [
              "<IPython.core.display.HTML object>"
            ]
          },
          "metadata": {
            "tags": []
          }
        },
        {
          "output_type": "stream",
          "text": [
            "\n",
            "[Succeeded / Failed / Total] 6 / 8 / 15:  64%|██████▍   | 16/25 [00:05<00:03,  2.72it/s]\u001b[A\n",
            "[Succeeded / Failed / Total] 7 / 8 / 16:  64%|██████▍   | 16/25 [00:05<00:03,  2.71it/s]\u001b[A"
          ],
          "name": "stderr"
        },
        {
          "output_type": "display_data",
          "data": {
            "text/html": [
              "<font color = green>Duplicate (100%)</font> --> <font color = red>Not_duplicate (98%)</font><br><font color = bold><font color = underline>Question1</font></font>: What are <font color = green>your</font> <font color = green>views</font> about demonetisation in India?\n",
              "<font color = bold><font color = underline>Question2</font></font>: What do <font color = green>you</font> think <font color = green>about</font> the ban on 500 and 1000 denomination <font color = green>notes</font> in India?<br><font color = bold><font color = underline>Question1</font></font>: What are <font color = red>my</font> <font color = red>viewpoints</font> about demonetisation in India?\n",
              "<font color = bold><font color = underline>Question2</font></font>: What do <font color = red>we</font> think <font color = red>abound</font> the ban on 500 and 1000 denomination <font color = red>note</font> in India?"
            ],
            "text/plain": [
              "<IPython.core.display.HTML object>"
            ]
          },
          "metadata": {
            "tags": []
          }
        },
        {
          "output_type": "stream",
          "text": [
            "\n",
            "[Succeeded / Failed / Total] 8 / 8 / 17:  68%|██████▊   | 17/25 [00:06<00:02,  2.77it/s]\u001b[A"
          ],
          "name": "stderr"
        },
        {
          "output_type": "display_data",
          "data": {
            "text/html": [
              "<font color = red>Not_duplicate (100%)</font> --> <font color = green>Duplicate (58%)</font><br><font color = bold><font color = underline>Question1</font></font>: What are the difference between polyester 210T and 210D?\n",
              "<font color = bold><font color = underline>Question2</font></font>: What is the difference between <font color = red>cotton</font> and polyester?<br><font color = bold><font color = underline>Question1</font></font>: What are the difference between polyester 210T and 210D?\n",
              "<font color = bold><font color = underline>Question2</font></font>: What is the difference between <font color = green>wootton</font> and polyester?"
            ],
            "text/plain": [
              "<IPython.core.display.HTML object>"
            ]
          },
          "metadata": {
            "tags": []
          }
        },
        {
          "output_type": "stream",
          "text": [
            "\n",
            "[Succeeded / Failed / Total] 8 / 8 / 17:  72%|███████▏  | 18/25 [00:06<00:02,  2.87it/s]\u001b[A\n",
            "[Succeeded / Failed / Total] 9 / 8 / 18:  72%|███████▏  | 18/25 [00:06<00:02,  2.87it/s]\u001b[A"
          ],
          "name": "stderr"
        },
        {
          "output_type": "display_data",
          "data": {
            "text/html": [
              "<font color = red>Not_duplicate (92%)</font> --> <font color = green>Duplicate (76%)</font><br><font color = bold><font color = underline>Question1</font></font>: Is FMS Delhi <font color = red>a</font> good option for <font color = red>a</font> MBA executive <font color = red>program</font>?\n",
              "<font color = bold><font color = underline>Question2</font></font>: Is FMS <font color = red>a</font> good choice for an MBA in <font color = red>HR</font>? Why and why <font color = red>not</font>?<br><font color = bold><font color = underline>Question1</font></font>: Is FMS Delhi <font color = green>the</font> good option for <font color = green>the</font> MBA executive <font color = green>prog</font>?\n",
              "<font color = bold><font color = underline>Question2</font></font>: Is FMS <font color = green>the</font> good choice for an MBA in <font color = green>GLORY</font>? Why and why <font color = green>never</font>?"
            ],
            "text/plain": [
              "<IPython.core.display.HTML object>"
            ]
          },
          "metadata": {
            "tags": []
          }
        },
        {
          "output_type": "stream",
          "text": [
            "\n",
            "[Succeeded / Failed / Total] 10 / 8 / 19:  76%|███████▌  | 19/25 [00:06<00:02,  2.81it/s]\u001b[A"
          ],
          "name": "stderr"
        },
        {
          "output_type": "display_data",
          "data": {
            "text/html": [
              "<font color = green>Duplicate (57%)</font> --> <font color = red>Not_duplicate (99%)</font><br><font color = bold><font color = underline>Question1</font></font>: Is it a bad time to buy a condo <font color = green>or</font> a house in the Bay Area in 2017?\n",
              "<font color = bold><font color = underline>Question2</font></font>: Would 2017 be a good time to buy a house in Bay Area?<br><font color = bold><font color = underline>Question1</font></font>: Is it a bad time to buy a condo <font color = red>either</font> a house in the Bay Area in 2017?\n",
              "<font color = bold><font color = underline>Question2</font></font>: Would 2017 be a good time to buy a house in Bay Area?"
            ],
            "text/plain": [
              "<IPython.core.display.HTML object>"
            ]
          },
          "metadata": {
            "tags": []
          }
        },
        {
          "output_type": "stream",
          "text": [
            "\n",
            "[Succeeded / Failed / Total] 10 / 8 / 19:  80%|████████  | 20/25 [00:06<00:01,  2.88it/s]\u001b[A\n",
            "[Succeeded / Failed / Total] 11 / 8 / 20:  80%|████████  | 20/25 [00:06<00:01,  2.88it/s]\u001b[A"
          ],
          "name": "stderr"
        },
        {
          "output_type": "display_data",
          "data": {
            "text/html": [
              "<font color = red>Not_duplicate (100%)</font> --> <font color = red>[FAILED]</font><br><font color = bold><font color = underline>Question1</font></font>: How is vanilla extract made?\n",
              "<font color = bold><font color = underline>Question2</font></font>: How do you make sugar cookies without vanilla extract?"
            ],
            "text/plain": [
              "<IPython.core.display.HTML object>"
            ]
          },
          "metadata": {
            "tags": []
          }
        },
        {
          "output_type": "stream",
          "text": [
            "\n",
            "[Succeeded / Failed / Total] 11 / 9 / 21:  84%|████████▍ | 21/25 [00:07<00:01,  2.88it/s]\u001b[A"
          ],
          "name": "stderr"
        },
        {
          "output_type": "display_data",
          "data": {
            "text/html": [
              "<font color = green>Duplicate (100%)</font> --> <font color = red>[FAILED]</font><br><font color = bold><font color = underline>Question1</font></font>: What is the Sahara, and how do the average temperatures there compare to the ones in the Patagonian Desert?\n",
              "<font color = bold><font color = underline>Question2</font></font>: What is the Sahara, and how do the average temperatures there compare to the ones in the Registan Desert?"
            ],
            "text/plain": [
              "<IPython.core.display.HTML object>"
            ]
          },
          "metadata": {
            "tags": []
          }
        },
        {
          "output_type": "stream",
          "text": [
            "\n",
            "[Succeeded / Failed / Total] 11 / 9 / 21:  88%|████████▊ | 22/25 [00:08<00:01,  2.75it/s]\u001b[A\n",
            "[Succeeded / Failed / Total] 11 / 10 / 22:  88%|████████▊ | 22/25 [00:08<00:01,  2.74it/s]\u001b[A"
          ],
          "name": "stderr"
        },
        {
          "output_type": "display_data",
          "data": {
            "text/html": [
              "<font color = red>Not_duplicate (100%)</font> --> <font color = red>[FAILED]</font><br><font color = bold><font color = underline>Question1</font></font>: Why was the Roman Empire so successful?\n",
              "<font color = bold><font color = underline>Question2</font></font>: What are some of the rarely known facts about the Roman Empire?"
            ],
            "text/plain": [
              "<IPython.core.display.HTML object>"
            ]
          },
          "metadata": {
            "tags": []
          }
        },
        {
          "output_type": "stream",
          "text": [
            "\n",
            "[Succeeded / Failed / Total] 11 / 11 / 23:  92%|█████████▏| 23/25 [00:08<00:00,  2.75it/s]\u001b[A"
          ],
          "name": "stderr"
        },
        {
          "output_type": "display_data",
          "data": {
            "text/html": [
              "<font color = red>Not_duplicate (97%)</font> --> <font color = green>Duplicate (53%)</font><br><font color = bold><font color = underline>Question1</font></font>: Is it advisable to <font color = red>sent</font> your cv to a professor with whom you are <font color = red>trying</font> to <font color = red>make</font> contact for graduate admission?\n",
              "<font color = bold><font color = underline>Question2</font></font>: <font color = red>How</font> does contacting a professor before <font color = red>applying</font> factor <font color = red>into</font> graduate admissions?<br><font color = bold><font color = underline>Question1</font></font>: Is it advisable to <font color = green>alerted</font> your cv to a professor with whom you are <font color = green>attempting</font> to <font color = green>give</font> contact for graduate admission?\n",
              "<font color = bold><font color = underline>Question2</font></font>: <font color = green>Kowtow</font> does contacting a professor before <font color = green>normalizing</font> factor <font color = green>onto</font> graduate admissions?"
            ],
            "text/plain": [
              "<IPython.core.display.HTML object>"
            ]
          },
          "metadata": {
            "tags": []
          }
        },
        {
          "output_type": "stream",
          "text": [
            "\n",
            "[Succeeded / Failed / Total] 11 / 11 / 23:  96%|█████████▌| 24/25 [00:08<00:00,  2.73it/s]\u001b[A\n",
            "[Succeeded / Failed / Total] 12 / 11 / 24:  96%|█████████▌| 24/25 [00:08<00:00,  2.73it/s]\u001b[A"
          ],
          "name": "stderr"
        },
        {
          "output_type": "display_data",
          "data": {
            "text/html": [
              "<font color = red>Not_duplicate (100%)</font> --> <font color = red>[FAILED]</font><br><font color = bold><font color = underline>Question1</font></font>: Does a RainTPL syntax extension for Sublime Text exist? Where can I download it?\n",
              "<font color = bold><font color = underline>Question2</font></font>: How do I hide the find/replace bar in Sublime Text 2?"
            ],
            "text/plain": [
              "<IPython.core.display.HTML object>"
            ]
          },
          "metadata": {
            "tags": []
          }
        },
        {
          "output_type": "stream",
          "text": [
            "\n",
            "[Succeeded / Failed / Total] 12 / 12 / 25: 100%|██████████| 25/25 [00:09<00:00,  2.66it/s]\u001b[A"
          ],
          "name": "stderr"
        },
        {
          "output_type": "display_data",
          "data": {
            "text/html": [
              "<font color = red>Not_duplicate (100%)</font> --> <font color = green>Duplicate (51%)</font><br><font color = bold><font color = underline>Question1</font></font>: What <font color = red>is</font> the average <font color = red>salary</font> of <font color = red>a</font> microbiologist <font color = red>in</font> <font color = red>India</font>?\n",
              "<font color = bold><font color = underline>Question2</font></font>: What <font color = red>is</font> the salary for <font color = red>a</font> <font color = red>psychologist</font> <font color = red>in</font> india?<br><font color = bold><font color = underline>Question1</font></font>: What <font color = green>was</font> the average <font color = green>spending</font> of <font color = green>the</font> microbiologist <font color = green>of</font> <font color = green>Ndia</font>?\n",
              "<font color = bold><font color = underline>Question2</font></font>: What <font color = green>was</font> the salary for <font color = green>the</font> <font color = green>pathologist</font> <font color = green>of</font> india?"
            ],
            "text/plain": [
              "<IPython.core.display.HTML object>"
            ]
          },
          "metadata": {
            "tags": []
          }
        },
        {
          "output_type": "stream",
          "text": [
            "\n",
            "[Succeeded / Failed / Total] 12 / 12 / 25: : 26it [00:09,  2.67it/s]                      \u001b[A\n",
            "[Succeeded / Failed / Total] 13 / 12 / 26: : 26it [00:09,  2.67it/s]"
          ],
          "name": "stderr"
        },
        {
          "output_type": "stream",
          "text": [
            "+-------------------------------+--------+\n",
            "| Attack Results                |        |\n",
            "+-------------------------------+--------+\n",
            "| Number of successful attacks: | 13     |\n",
            "| Number of failed attacks:     | 12     |\n",
            "| Number of skipped attacks:    | 1      |\n",
            "| Original accuracy:            | 96.15% |\n",
            "| Accuracy under attack:        | 46.15% |\n",
            "| Attack success rate:          | 52.0%  |\n",
            "| Average perturbed word %:     | 18.56% |\n",
            "| Average num. words per input: | 22.5   |\n",
            "| Avg num queries:              | 34.16  |\n",
            "+-------------------------------+--------+"
          ],
          "name": "stdout"
        },
        {
          "output_type": "stream",
          "text": [
            "\n",
            "\u001b[34;1mtextattack\u001b[0m: Attack time: 9.754418134689331s\n"
          ],
          "name": "stderr"
        }
      ]
    },
    {
      "cell_type": "markdown",
      "metadata": {
        "id": "BIlCdyXet2mk"
      },
      "source": [
        "### Word2Vec, GreedyWordSwapWIR, PartsofSpeech"
      ]
    },
    {
      "cell_type": "code",
      "metadata": {
        "colab": {
          "base_uri": "https://localhost:8080/"
        },
        "id": "YX8hOBEXsRu2",
        "outputId": "91c5fa76-912a-4a0a-c5fa-b594b1f8a644"
      },
      "source": [
        "# We're going to use our word swap class as the attack transformation.\n",
        "transformation = Swapper_()\n",
        "\n",
        "constraints = [PartOfSpeech()]\n",
        "\n",
        "search_method = GreedyWordSwapWIR()\n",
        "\n",
        "goal_function = UntargetedClassification(model_wrapper)\n",
        "\n",
        "# Now, let's make the attack from the 4 components:\n",
        "attack = Attack(goal_function, constraints, transformation, search_method)"
      ],
      "execution_count": 49,
      "outputs": [
        {
          "output_type": "stream",
          "text": [
            "\u001b[34;1mtextattack\u001b[0m: Unknown if model of class <class 'transformers.models.distilbert.modeling_distilbert.DistilBertForSequenceClassification'> compatible with goal function <class 'textattack.goal_functions.classification.untargeted_classification.UntargetedClassification'>.\n"
          ],
          "name": "stderr"
        }
      ]
    },
    {
      "cell_type": "code",
      "metadata": {
        "colab": {
          "base_uri": "https://localhost:8080/"
        },
        "id": "z3sSVm0q1F8F",
        "outputId": "4ece3702-84e6-4a68-bdbf-a91d4fc8cc45"
      },
      "source": [
        "print(attack)"
      ],
      "execution_count": 50,
      "outputs": [
        {
          "output_type": "stream",
          "text": [
            "Attack(\n",
            "  (search_method): GreedyWordSwapWIR(\n",
            "    (wir_method):  unk\n",
            "  )\n",
            "  (goal_function):  UntargetedClassification\n",
            "  (transformation):  Swapper_\n",
            "  (constraints): \n",
            "    (0): PartOfSpeech(\n",
            "        (tagger_type):  nltk\n",
            "        (tagset):  universal\n",
            "        (allow_verb_noun_swap):  True\n",
            "        (compare_against_original):  True\n",
            "      )\n",
            "  (is_black_box):  True\n",
            ")\n"
          ],
          "name": "stdout"
        }
      ]
    },
    {
      "cell_type": "code",
      "metadata": {
        "colab": {
          "base_uri": "https://localhost:8080/",
          "height": 1000
        },
        "id": "78FFw18K1Hkb",
        "outputId": "37e89e6c-ab7d-42ed-8755-eaf0ecb7eca3"
      },
      "source": [
        "attack_stats(attack, dataset, 25)"
      ],
      "execution_count": 51,
      "outputs": [
        {
          "output_type": "stream",
          "text": [
            "\n",
            "  0%|          | 0/25 [00:00<?, ?it/s]\u001b[A"
          ],
          "name": "stderr"
        },
        {
          "output_type": "stream",
          "text": [
            "Attack(\n",
            "  (search_method): GreedyWordSwapWIR(\n",
            "    (wir_method):  unk\n",
            "  )\n",
            "  (goal_function):  UntargetedClassification\n",
            "  (transformation):  Swapper_\n",
            "  (constraints): \n",
            "    (0): PartOfSpeech(\n",
            "        (tagger_type):  nltk\n",
            "        (tagset):  universal\n",
            "        (allow_verb_noun_swap):  True\n",
            "        (compare_against_original):  True\n",
            "      )\n",
            "  (is_black_box):  True\n",
            ")\n"
          ],
          "name": "stdout"
        },
        {
          "output_type": "display_data",
          "data": {
            "text/html": [
              "<font color = red>Not_duplicate (99%)</font> --> <font color = green>Duplicate (92%)</font><br><font color = bold><font color = underline>Question1</font></font>: Why <font color = red>are</font> African-Americans so beautiful?\n",
              "<font color = bold><font color = underline>Question2</font></font>: Why <font color = red>are</font> <font color = red>hispanics</font> so beautiful?<br><font color = bold><font color = underline>Question1</font></font>: Why <font color = green>were</font> African-Americans so beautiful?\n",
              "<font color = bold><font color = underline>Question2</font></font>: Why <font color = green>were</font> <font color = green>colombians</font> so beautiful?"
            ],
            "text/plain": [
              "<IPython.core.display.HTML object>"
            ]
          },
          "metadata": {
            "tags": []
          }
        },
        {
          "output_type": "stream",
          "text": [
            "\n",
            "  4%|▍         | 1/25 [00:00<00:04,  5.70it/s]\u001b[A\n",
            "[Succeeded / Failed / Total] 1 / 0 / 1:   4%|▍         | 1/25 [00:00<00:04,  5.53it/s]\u001b[A"
          ],
          "name": "stderr"
        },
        {
          "output_type": "display_data",
          "data": {
            "text/html": [
              "<font color = red>Not_duplicate (100%)</font> --> <font color = red>[FAILED]</font><br><font color = bold><font color = underline>Question1</font></font>: I want to pursue PhD in Computer Science about social network,what is the open problem in social networks?\n",
              "<font color = bold><font color = underline>Question2</font></font>: I handle social media for a non-profit. Should I start going to social media networking events? Are there any good ones in the bay area?"
            ],
            "text/plain": [
              "<IPython.core.display.HTML object>"
            ]
          },
          "metadata": {
            "tags": []
          }
        },
        {
          "output_type": "stream",
          "text": [
            "\n",
            "[Succeeded / Failed / Total] 1 / 0 / 1:   8%|▊         | 2/25 [00:00<00:10,  2.25it/s]\u001b[A\n",
            "[Succeeded / Failed / Total] 1 / 1 / 2:   8%|▊         | 2/25 [00:00<00:10,  2.24it/s]\u001b[A"
          ],
          "name": "stderr"
        },
        {
          "output_type": "display_data",
          "data": {
            "text/html": [
              "<font color = green>Duplicate (92%)</font> --> <font color = red>Not_duplicate (52%)</font><br><font color = bold><font color = underline>Question1</font></font>: Is there a reason why <font color = green>we</font> should <font color = green>travel</font> alone?\n",
              "<font color = bold><font color = underline>Question2</font></font>: What are some reasons to travel alone?<br><font color = bold><font color = underline>Question1</font></font>: Is there a reason why <font color = red>you</font> should <font color = red>interplanetary</font> alone?\n",
              "<font color = bold><font color = underline>Question2</font></font>: What are some reasons to travel alone?"
            ],
            "text/plain": [
              "<IPython.core.display.HTML object>"
            ]
          },
          "metadata": {
            "tags": []
          }
        },
        {
          "output_type": "stream",
          "text": [
            "\n",
            "[Succeeded / Failed / Total] 1 / 1 / 2:  12%|█▏        | 3/25 [00:01<00:07,  2.88it/s]\u001b[A\n",
            "[Succeeded / Failed / Total] 2 / 1 / 3:  12%|█▏        | 3/25 [00:01<00:07,  2.87it/s]\u001b[A"
          ],
          "name": "stderr"
        },
        {
          "output_type": "display_data",
          "data": {
            "text/html": [
              "<font color = red>Not_duplicate (100%)</font> --> <font color = red>[FAILED]</font><br><font color = bold><font color = underline>Question1</font></font>: Why are people so obsessed with having a girlfriend/boyfriend?\n",
              "<font color = bold><font color = underline>Question2</font></font>: How can a single male have a child?"
            ],
            "text/plain": [
              "<IPython.core.display.HTML object>"
            ]
          },
          "metadata": {
            "tags": []
          }
        },
        {
          "output_type": "stream",
          "text": [
            "\n",
            "[Succeeded / Failed / Total] 2 / 1 / 3:  16%|█▌        | 4/25 [00:01<00:07,  2.82it/s]\u001b[A\n",
            "[Succeeded / Failed / Total] 2 / 2 / 4:  16%|█▌        | 4/25 [00:01<00:07,  2.81it/s]\u001b[A"
          ],
          "name": "stderr"
        },
        {
          "output_type": "display_data",
          "data": {
            "text/html": [
              "<font color = red>Not_duplicate (99%)</font> --> <font color = red>[FAILED]</font><br><font color = bold><font color = underline>Question1</font></font>: What are some good baby girl names starting with D?\n",
              "<font color = bold><font color = underline>Question2</font></font>: What are some good baby girl names starting with D or H?"
            ],
            "text/plain": [
              "<IPython.core.display.HTML object>"
            ]
          },
          "metadata": {
            "tags": []
          }
        },
        {
          "output_type": "stream",
          "text": [
            "\n",
            "[Succeeded / Failed / Total] 2 / 2 / 4:  20%|██        | 5/25 [00:01<00:07,  2.79it/s]\u001b[A\n",
            "[Succeeded / Failed / Total] 2 / 3 / 5:  20%|██        | 5/25 [00:01<00:07,  2.78it/s]\u001b[A"
          ],
          "name": "stderr"
        },
        {
          "output_type": "display_data",
          "data": {
            "text/html": [
              "<font color = green>Duplicate (97%)</font> --> <font color = red>Not_duplicate (97%)</font><br><font color = bold><font color = underline>Question1</font></font>: I am 25 year old guy and never had a <font color = green>girlfriend</font>. Is this weird?\n",
              "<font color = bold><font color = underline>Question2</font></font>: I am 25 years old. I have <font color = green>never</font> had a girlfriend. Is something wrong with me?<br><font color = bold><font color = underline>Question1</font></font>: I am 25 year old guy and never had a <font color = red>boyfriend</font>. Is this weird?\n",
              "<font color = bold><font color = underline>Question2</font></font>: I am 25 years old. I have <font color = red>already</font> had a girlfriend. Is something wrong with me?"
            ],
            "text/plain": [
              "<IPython.core.display.HTML object>"
            ]
          },
          "metadata": {
            "tags": []
          }
        },
        {
          "output_type": "stream",
          "text": [
            "\n",
            "[Succeeded / Failed / Total] 2 / 3 / 5:  24%|██▍       | 6/25 [00:01<00:06,  3.01it/s]\u001b[A\n",
            "[Succeeded / Failed / Total] 3 / 3 / 6:  24%|██▍       | 6/25 [00:01<00:06,  3.00it/s]\u001b[A"
          ],
          "name": "stderr"
        },
        {
          "output_type": "display_data",
          "data": {
            "text/html": [
              "<font color = green>Duplicate (60%)</font> --> <font color = red>Not_duplicate (100%)</font><br><font color = bold><font color = underline>Question1</font></font>: \"What does a good answer on Quora look like? What does it mean to \"\"be helpful\"\"?\"\n",
              "<font color = bold><font color = underline>Question2</font></font>: How do you write a good <font color = green>answer</font> on Quora?<br><font color = bold><font color = underline>Question1</font></font>: \"What does a good answer on Quora look like? What does it mean to \"\"be helpful\"\"?\"\n",
              "<font color = bold><font color = underline>Question2</font></font>: How do you write a good <font color = red>preclear</font> on Quora?"
            ],
            "text/plain": [
              "<IPython.core.display.HTML object>"
            ]
          },
          "metadata": {
            "tags": []
          }
        },
        {
          "output_type": "stream",
          "text": [
            "\n",
            "[Succeeded / Failed / Total] 3 / 3 / 6:  28%|██▊       | 7/25 [00:02<00:05,  3.25it/s]\u001b[A\n",
            "[Succeeded / Failed / Total] 4 / 3 / 7:  28%|██▊       | 7/25 [00:02<00:05,  3.24it/s]\u001b[A"
          ],
          "name": "stderr"
        },
        {
          "output_type": "display_data",
          "data": {
            "text/html": [
              "<font color = green>Duplicate (58%)</font> --> <font color = red>Not_duplicate (87%)</font><br><font color = bold><font color = underline>Question1</font></font>: What are the best things to <font color = green>do</font> in Hong Kong?\n",
              "<font color = bold><font color = underline>Question2</font></font>: What is the best thing in Hong Kong?<br><font color = bold><font color = underline>Question1</font></font>: What are the best things to <font color = red>want</font> in Hong Kong?\n",
              "<font color = bold><font color = underline>Question2</font></font>: What is the best thing in Hong Kong?"
            ],
            "text/plain": [
              "<IPython.core.display.HTML object>"
            ]
          },
          "metadata": {
            "tags": []
          }
        },
        {
          "output_type": "stream",
          "text": [
            "\n",
            "[Succeeded / Failed / Total] 4 / 3 / 7:  32%|███▏      | 8/25 [00:02<00:04,  3.51it/s]\u001b[A\n",
            "[Succeeded / Failed / Total] 5 / 3 / 8:  32%|███▏      | 8/25 [00:02<00:04,  3.51it/s]\u001b[A"
          ],
          "name": "stderr"
        },
        {
          "output_type": "display_data",
          "data": {
            "text/html": [
              "<font color = green>Duplicate (88%)</font> --> <font color = gray>[SKIPPED]</font><br><font color = bold><font color = underline>Question1</font></font>: Why is my life getting so complicated?\n",
              "<font color = bold><font color = underline>Question2</font></font>: Why is my life so complicated?"
            ],
            "text/plain": [
              "<IPython.core.display.HTML object>"
            ]
          },
          "metadata": {
            "tags": []
          }
        },
        {
          "output_type": "stream",
          "text": [
            "\n",
            "[Succeeded / Failed / Total] 5 / 3 / 9:  36%|███▌      | 9/25 [00:02<00:04,  3.91it/s]\u001b[A"
          ],
          "name": "stderr"
        },
        {
          "output_type": "display_data",
          "data": {
            "text/html": [
              "<font color = red>Not_duplicate (100%)</font> --> <font color = red>[FAILED]</font><br><font color = bold><font color = underline>Question1</font></font>: Why should I crack Jee?\n",
              "<font color = bold><font color = underline>Question2</font></font>: Is it possible to get into IIMs with low marks in graduation and 12th?"
            ],
            "text/plain": [
              "<IPython.core.display.HTML object>"
            ]
          },
          "metadata": {
            "tags": []
          }
        },
        {
          "output_type": "stream",
          "text": [
            "\n",
            "[Succeeded / Failed / Total] 5 / 3 / 9:  40%|████      | 10/25 [00:02<00:03,  3.88it/s]\u001b[A\n",
            "[Succeeded / Failed / Total] 5 / 4 / 10:  40%|████      | 10/25 [00:02<00:03,  3.87it/s]\u001b[A"
          ],
          "name": "stderr"
        },
        {
          "output_type": "display_data",
          "data": {
            "text/html": [
              "<font color = red>Not_duplicate (99%)</font> --> <font color = green>Duplicate (50%)</font><br><font color = bold><font color = underline>Question1</font></font>: Can you TRANSLATE <font color = red>these</font> to English language?\n",
              "<font color = bold><font color = underline>Question2</font></font>: Can you <font color = red>translate</font> this from Bengali to English <font color = red>language</font>?<br><font color = bold><font color = underline>Question1</font></font>: Can you TRANSLATE <font color = green>some</font> to English language?\n",
              "<font color = bold><font color = underline>Question2</font></font>: Can you <font color = green>transcribe</font> this from Bengali to English <font color = green>patois</font>?"
            ],
            "text/plain": [
              "<IPython.core.display.HTML object>"
            ]
          },
          "metadata": {
            "tags": []
          }
        },
        {
          "output_type": "stream",
          "text": [
            "\n",
            "[Succeeded / Failed / Total] 6 / 4 / 11:  44%|████▍     | 11/25 [00:02<00:03,  4.03it/s]\u001b[A"
          ],
          "name": "stderr"
        },
        {
          "output_type": "display_data",
          "data": {
            "text/html": [
              "<font color = red>Not_duplicate (100%)</font> --> <font color = red>[FAILED]</font><br><font color = bold><font color = underline>Question1</font></font>: Can anyone tell shall mi mix mobile should be purchased or not?\n",
              "<font color = bold><font color = underline>Question2</font></font>: \"What did Voltaire mean when he said, \"\"God is a comedian playing to an audience that is too afraid to laugh\"\"?\""
            ],
            "text/plain": [
              "<IPython.core.display.HTML object>"
            ]
          },
          "metadata": {
            "tags": []
          }
        },
        {
          "output_type": "stream",
          "text": [
            "\n",
            "[Succeeded / Failed / Total] 6 / 4 / 11:  48%|████▊     | 12/25 [00:03<00:03,  3.59it/s]\u001b[A\n",
            "[Succeeded / Failed / Total] 6 / 5 / 12:  48%|████▊     | 12/25 [00:03<00:03,  3.59it/s]\u001b[A"
          ],
          "name": "stderr"
        },
        {
          "output_type": "display_data",
          "data": {
            "text/html": [
              "<font color = green>Duplicate (97%)</font> --> <font color = red>[FAILED]</font><br><font color = bold><font color = underline>Question1</font></font>: Which is the best gaming laptop under 40k?\n",
              "<font color = bold><font color = underline>Question2</font></font>: Which is the best gaming laptop under 40,000 rs?"
            ],
            "text/plain": [
              "<IPython.core.display.HTML object>"
            ]
          },
          "metadata": {
            "tags": []
          }
        },
        {
          "output_type": "stream",
          "text": [
            "\n",
            "[Succeeded / Failed / Total] 6 / 6 / 13:  52%|█████▏    | 13/25 [00:03<00:03,  3.62it/s]\u001b[A"
          ],
          "name": "stderr"
        },
        {
          "output_type": "display_data",
          "data": {
            "text/html": [
              "<font color = red>Not_duplicate (100%)</font> --> <font color = red>[FAILED]</font><br><font color = bold><font color = underline>Question1</font></font>: Why Tamil Nadu Universities are no good?\n",
              "<font color = bold><font color = underline>Question2</font></font>: Why are the 10th students able to score 100% in Tamil Nadu?"
            ],
            "text/plain": [
              "<IPython.core.display.HTML object>"
            ]
          },
          "metadata": {
            "tags": []
          }
        },
        {
          "output_type": "stream",
          "text": [
            "\n",
            "[Succeeded / Failed / Total] 6 / 6 / 13:  56%|█████▌    | 14/25 [00:03<00:03,  3.65it/s]\u001b[A\n",
            "[Succeeded / Failed / Total] 6 / 7 / 14:  56%|█████▌    | 14/25 [00:03<00:03,  3.65it/s]\u001b[A"
          ],
          "name": "stderr"
        },
        {
          "output_type": "display_data",
          "data": {
            "text/html": [
              "<font color = red>Not_duplicate (100%)</font> --> <font color = red>[FAILED]</font><br><font color = bold><font color = underline>Question1</font></font>: What is an easy way to clean toothpaste stains from a shirt without washing it?\n",
              "<font color = bold><font color = underline>Question2</font></font>: What are some ways to remove hard water stains from dishes?"
            ],
            "text/plain": [
              "<IPython.core.display.HTML object>"
            ]
          },
          "metadata": {
            "tags": []
          }
        },
        {
          "output_type": "stream",
          "text": [
            "\n",
            "[Succeeded / Failed / Total] 6 / 8 / 15:  60%|██████    | 15/25 [00:04<00:02,  3.46it/s]\u001b[A"
          ],
          "name": "stderr"
        },
        {
          "output_type": "display_data",
          "data": {
            "text/html": [
              "<font color = green>Duplicate (84%)</font> --> <font color = red>Not_duplicate (76%)</font><br><font color = bold><font color = underline>Question1</font></font>: What was the deadliest battle in <font color = green>history</font>?\n",
              "<font color = bold><font color = underline>Question2</font></font>: What was the bloodiest battle in <font color = green>history</font>?<br><font color = bold><font color = underline>Question1</font></font>: What was the deadliest battle in <font color = red>timeline</font>?\n",
              "<font color = bold><font color = underline>Question2</font></font>: What was the bloodiest battle in <font color = red>timeline</font>?"
            ],
            "text/plain": [
              "<IPython.core.display.HTML object>"
            ]
          },
          "metadata": {
            "tags": []
          }
        },
        {
          "output_type": "stream",
          "text": [
            "\n",
            "[Succeeded / Failed / Total] 6 / 8 / 15:  64%|██████▍   | 16/25 [00:04<00:02,  3.59it/s]\u001b[A\n",
            "[Succeeded / Failed / Total] 7 / 8 / 16:  64%|██████▍   | 16/25 [00:04<00:02,  3.59it/s]\u001b[A"
          ],
          "name": "stderr"
        },
        {
          "output_type": "display_data",
          "data": {
            "text/html": [
              "<font color = green>Duplicate (100%)</font> --> <font color = red>Not_duplicate (87%)</font><br><font color = bold><font color = underline>Question1</font></font>: What are <font color = green>your</font> <font color = green>views</font> about demonetisation in India?\n",
              "<font color = bold><font color = underline>Question2</font></font>: What do <font color = green>you</font> think about the ban on 500 and 1000 <font color = green>denomination</font> notes in India?<br><font color = bold><font color = underline>Question1</font></font>: What are <font color = red>my</font> <font color = red>viewpoints</font> about demonetisation in India?\n",
              "<font color = bold><font color = underline>Question2</font></font>: What do <font color = red>we</font> think about the ban on 500 and 1000 <font color = red>mennonite</font> notes in India?"
            ],
            "text/plain": [
              "<IPython.core.display.HTML object>"
            ]
          },
          "metadata": {
            "tags": []
          }
        },
        {
          "output_type": "stream",
          "text": [
            "\n",
            "[Succeeded / Failed / Total] 8 / 8 / 17:  68%|██████▊   | 17/25 [00:04<00:02,  3.60it/s]\u001b[A"
          ],
          "name": "stderr"
        },
        {
          "output_type": "display_data",
          "data": {
            "text/html": [
              "<font color = red>Not_duplicate (100%)</font> --> <font color = red>[FAILED]</font><br><font color = bold><font color = underline>Question1</font></font>: What are the difference between polyester 210T and 210D?\n",
              "<font color = bold><font color = underline>Question2</font></font>: What is the difference between cotton and polyester?"
            ],
            "text/plain": [
              "<IPython.core.display.HTML object>"
            ]
          },
          "metadata": {
            "tags": []
          }
        },
        {
          "output_type": "stream",
          "text": [
            "\n",
            "[Succeeded / Failed / Total] 8 / 8 / 17:  72%|███████▏  | 18/25 [00:04<00:01,  3.61it/s]\u001b[A\n",
            "[Succeeded / Failed / Total] 8 / 9 / 18:  72%|███████▏  | 18/25 [00:04<00:01,  3.61it/s]\u001b[A"
          ],
          "name": "stderr"
        },
        {
          "output_type": "display_data",
          "data": {
            "text/html": [
              "<font color = red>Not_duplicate (92%)</font> --> <font color = red>[FAILED]</font><br><font color = bold><font color = underline>Question1</font></font>: Is FMS Delhi a good option for a MBA executive program?\n",
              "<font color = bold><font color = underline>Question2</font></font>: Is FMS a good choice for an MBA in HR? Why and why not?"
            ],
            "text/plain": [
              "<IPython.core.display.HTML object>"
            ]
          },
          "metadata": {
            "tags": []
          }
        },
        {
          "output_type": "stream",
          "text": [
            "\n",
            "[Succeeded / Failed / Total] 8 / 10 / 19:  76%|███████▌  | 19/25 [00:05<00:01,  3.54it/s]\u001b[A"
          ],
          "name": "stderr"
        },
        {
          "output_type": "display_data",
          "data": {
            "text/html": [
              "<font color = green>Duplicate (57%)</font> --> <font color = red>Not_duplicate (99%)</font><br><font color = bold><font color = underline>Question1</font></font>: Is it a bad time to buy a condo <font color = green>or</font> a house in the Bay Area in 2017?\n",
              "<font color = bold><font color = underline>Question2</font></font>: Would 2017 be a good time to buy a house in Bay Area?<br><font color = bold><font color = underline>Question1</font></font>: Is it a bad time to buy a condo <font color = red>either</font> a house in the Bay Area in 2017?\n",
              "<font color = bold><font color = underline>Question2</font></font>: Would 2017 be a good time to buy a house in Bay Area?"
            ],
            "text/plain": [
              "<IPython.core.display.HTML object>"
            ]
          },
          "metadata": {
            "tags": []
          }
        },
        {
          "output_type": "stream",
          "text": [
            "\n",
            "[Succeeded / Failed / Total] 8 / 10 / 19:  80%|████████  | 20/25 [00:05<00:01,  3.61it/s]\u001b[A\n",
            "[Succeeded / Failed / Total] 9 / 10 / 20:  80%|████████  | 20/25 [00:05<00:01,  3.60it/s]\u001b[A"
          ],
          "name": "stderr"
        },
        {
          "output_type": "display_data",
          "data": {
            "text/html": [
              "<font color = red>Not_duplicate (100%)</font> --> <font color = red>[FAILED]</font><br><font color = bold><font color = underline>Question1</font></font>: How is vanilla extract made?\n",
              "<font color = bold><font color = underline>Question2</font></font>: How do you make sugar cookies without vanilla extract?"
            ],
            "text/plain": [
              "<IPython.core.display.HTML object>"
            ]
          },
          "metadata": {
            "tags": []
          }
        },
        {
          "output_type": "stream",
          "text": [
            "\n",
            "[Succeeded / Failed / Total] 9 / 11 / 21:  84%|████████▍ | 21/25 [00:05<00:01,  3.59it/s]\u001b[A"
          ],
          "name": "stderr"
        },
        {
          "output_type": "display_data",
          "data": {
            "text/html": [
              "<font color = green>Duplicate (100%)</font> --> <font color = red>[FAILED]</font><br><font color = bold><font color = underline>Question1</font></font>: What is the Sahara, and how do the average temperatures there compare to the ones in the Patagonian Desert?\n",
              "<font color = bold><font color = underline>Question2</font></font>: What is the Sahara, and how do the average temperatures there compare to the ones in the Registan Desert?"
            ],
            "text/plain": [
              "<IPython.core.display.HTML object>"
            ]
          },
          "metadata": {
            "tags": []
          }
        },
        {
          "output_type": "stream",
          "text": [
            "\n",
            "[Succeeded / Failed / Total] 9 / 11 / 21:  88%|████████▊ | 22/25 [00:06<00:00,  3.43it/s]\u001b[A\n",
            "[Succeeded / Failed / Total] 9 / 12 / 22:  88%|████████▊ | 22/25 [00:06<00:00,  3.42it/s]\u001b[A"
          ],
          "name": "stderr"
        },
        {
          "output_type": "display_data",
          "data": {
            "text/html": [
              "<font color = red>Not_duplicate (100%)</font> --> <font color = red>[FAILED]</font><br><font color = bold><font color = underline>Question1</font></font>: Why was the Roman Empire so successful?\n",
              "<font color = bold><font color = underline>Question2</font></font>: What are some of the rarely known facts about the Roman Empire?"
            ],
            "text/plain": [
              "<IPython.core.display.HTML object>"
            ]
          },
          "metadata": {
            "tags": []
          }
        },
        {
          "output_type": "stream",
          "text": [
            "\n",
            "[Succeeded / Failed / Total] 9 / 13 / 23:  92%|█████████▏| 23/25 [00:06<00:00,  3.44it/s]\u001b[A"
          ],
          "name": "stderr"
        },
        {
          "output_type": "display_data",
          "data": {
            "text/html": [
              "<font color = red>Not_duplicate (97%)</font> --> <font color = red>[FAILED]</font><br><font color = bold><font color = underline>Question1</font></font>: Is it advisable to sent your cv to a professor with whom you are trying to make contact for graduate admission?\n",
              "<font color = bold><font color = underline>Question2</font></font>: How does contacting a professor before applying factor into graduate admissions?"
            ],
            "text/plain": [
              "<IPython.core.display.HTML object>"
            ]
          },
          "metadata": {
            "tags": []
          }
        },
        {
          "output_type": "stream",
          "text": [
            "\n",
            "[Succeeded / Failed / Total] 9 / 13 / 23:  96%|█████████▌| 24/25 [00:07<00:00,  3.26it/s]\u001b[A\n",
            "[Succeeded / Failed / Total] 9 / 14 / 24:  96%|█████████▌| 24/25 [00:07<00:00,  3.26it/s]\u001b[A"
          ],
          "name": "stderr"
        },
        {
          "output_type": "display_data",
          "data": {
            "text/html": [
              "<font color = red>Not_duplicate (100%)</font> --> <font color = red>[FAILED]</font><br><font color = bold><font color = underline>Question1</font></font>: Does a RainTPL syntax extension for Sublime Text exist? Where can I download it?\n",
              "<font color = bold><font color = underline>Question2</font></font>: How do I hide the find/replace bar in Sublime Text 2?"
            ],
            "text/plain": [
              "<IPython.core.display.HTML object>"
            ]
          },
          "metadata": {
            "tags": []
          }
        },
        {
          "output_type": "stream",
          "text": [
            "\n",
            "[Succeeded / Failed / Total] 9 / 15 / 25: 100%|██████████| 25/25 [00:07<00:00,  3.23it/s]\u001b[A"
          ],
          "name": "stderr"
        },
        {
          "output_type": "display_data",
          "data": {
            "text/html": [
              "<font color = red>Not_duplicate (100%)</font> --> <font color = red>[FAILED]</font><br><font color = bold><font color = underline>Question1</font></font>: What is the average salary of a microbiologist in India?\n",
              "<font color = bold><font color = underline>Question2</font></font>: What is the salary for a psychologist in india?"
            ],
            "text/plain": [
              "<IPython.core.display.HTML object>"
            ]
          },
          "metadata": {
            "tags": []
          }
        },
        {
          "output_type": "stream",
          "text": [
            "\n",
            "[Succeeded / Failed / Total] 9 / 15 / 25: : 26it [00:08,  3.21it/s]                      \u001b[A\n",
            "[Succeeded / Failed / Total] 9 / 16 / 26: : 26it [00:08,  3.21it/s]"
          ],
          "name": "stderr"
        },
        {
          "output_type": "stream",
          "text": [
            "+-------------------------------+--------+\n",
            "| Attack Results                |        |\n",
            "+-------------------------------+--------+\n",
            "| Number of successful attacks: | 9      |\n",
            "| Number of failed attacks:     | 16     |\n",
            "| Number of skipped attacks:    | 1      |\n",
            "| Original accuracy:            | 96.15% |\n",
            "| Accuracy under attack:        | 61.54% |\n",
            "| Attack success rate:          | 36.0%  |\n",
            "| Average perturbed word %:     | 12.49% |\n",
            "| Average num. words per input: | 22.5   |\n",
            "| Avg num queries:              | 32.16  |\n",
            "+-------------------------------+--------+"
          ],
          "name": "stdout"
        },
        {
          "output_type": "stream",
          "text": [
            "\n",
            "\u001b[34;1mtextattack\u001b[0m: Attack time: 8.110139846801758s\n"
          ],
          "name": "stderr"
        }
      ]
    },
    {
      "cell_type": "markdown",
      "metadata": {
        "id": "ZEuoCcfXt7pK"
      },
      "source": [
        "### Glove, GreedyWordSwapWIR, PartsofSpeech"
      ]
    },
    {
      "cell_type": "code",
      "metadata": {
        "colab": {
          "base_uri": "https://localhost:8080/"
        },
        "id": "qDpOZWJXPe_o",
        "outputId": "198b6992-b6a5-4f65-8c5b-bcede7f25009"
      },
      "source": [
        "# We're going to use our word swap class as the attack transformation.\n",
        "transformation = Swapper__()\n",
        "\n",
        "constraints = [PartOfSpeech()]\n",
        "\n",
        "search_method = GreedyWordSwapWIR()\n",
        "\n",
        "goal_function = UntargetedClassification(model_wrapper)\n",
        "\n",
        "# Now, let's make the attack from the 4 components:\n",
        "attack = Attack(goal_function, constraints, transformation, search_method)"
      ],
      "execution_count": 52,
      "outputs": [
        {
          "output_type": "stream",
          "text": [
            "\u001b[34;1mtextattack\u001b[0m: Unknown if model of class <class 'transformers.models.distilbert.modeling_distilbert.DistilBertForSequenceClassification'> compatible with goal function <class 'textattack.goal_functions.classification.untargeted_classification.UntargetedClassification'>.\n"
          ],
          "name": "stderr"
        }
      ]
    },
    {
      "cell_type": "code",
      "metadata": {
        "colab": {
          "base_uri": "https://localhost:8080/"
        },
        "id": "ir08WYOBQmjK",
        "outputId": "e333da09-d7f4-4a84-cd87-d7ba4f393fc7"
      },
      "source": [
        "print(attack)"
      ],
      "execution_count": 53,
      "outputs": [
        {
          "output_type": "stream",
          "text": [
            "Attack(\n",
            "  (search_method): GreedyWordSwapWIR(\n",
            "    (wir_method):  unk\n",
            "  )\n",
            "  (goal_function):  UntargetedClassification\n",
            "  (transformation):  Swapper__\n",
            "  (constraints): \n",
            "    (0): PartOfSpeech(\n",
            "        (tagger_type):  nltk\n",
            "        (tagset):  universal\n",
            "        (allow_verb_noun_swap):  True\n",
            "        (compare_against_original):  True\n",
            "      )\n",
            "  (is_black_box):  True\n",
            ")\n"
          ],
          "name": "stdout"
        }
      ]
    },
    {
      "cell_type": "code",
      "metadata": {
        "colab": {
          "base_uri": "https://localhost:8080/",
          "height": 1000
        },
        "id": "R4Pio6_BQoS6",
        "outputId": "cc848c69-dab4-4c2a-f9b0-f4231959e2f2"
      },
      "source": [
        "attack_stats(attack, dataset, 25)"
      ],
      "execution_count": 54,
      "outputs": [
        {
          "output_type": "stream",
          "text": [
            "\n",
            "  0%|          | 0/25 [00:00<?, ?it/s]\u001b[A"
          ],
          "name": "stderr"
        },
        {
          "output_type": "stream",
          "text": [
            "Attack(\n",
            "  (search_method): GreedyWordSwapWIR(\n",
            "    (wir_method):  unk\n",
            "  )\n",
            "  (goal_function):  UntargetedClassification\n",
            "  (transformation):  Swapper__\n",
            "  (constraints): \n",
            "    (0): PartOfSpeech(\n",
            "        (tagger_type):  nltk\n",
            "        (tagset):  universal\n",
            "        (allow_verb_noun_swap):  True\n",
            "        (compare_against_original):  True\n",
            "      )\n",
            "  (is_black_box):  True\n",
            ")\n"
          ],
          "name": "stdout"
        },
        {
          "output_type": "display_data",
          "data": {
            "text/html": [
              "<font color = red>Not_duplicate (99%)</font> --> <font color = green>Duplicate (59%)</font><br><font color = bold><font color = underline>Question1</font></font>: Why <font color = red>are</font> African-Americans so beautiful?\n",
              "<font color = bold><font color = underline>Question2</font></font>: Why <font color = red>are</font> hispanics so <font color = red>beautiful</font>?<br><font color = bold><font color = underline>Question1</font></font>: Why <font color = green>washerwomen</font> African-Americans so beautiful?\n",
              "<font color = bold><font color = underline>Question2</font></font>: Why <font color = green>washerwomen</font> hispanics so <font color = green>girl</font>?"
            ],
            "text/plain": [
              "<IPython.core.display.HTML object>"
            ]
          },
          "metadata": {
            "tags": []
          }
        },
        {
          "output_type": "stream",
          "text": [
            "\n",
            "  4%|▍         | 1/25 [00:00<00:05,  4.34it/s]\u001b[A\n",
            "[Succeeded / Failed / Total] 1 / 0 / 1:   4%|▍         | 1/25 [00:00<00:05,  4.18it/s]\u001b[A"
          ],
          "name": "stderr"
        },
        {
          "output_type": "display_data",
          "data": {
            "text/html": [
              "<font color = red>Not_duplicate (100%)</font> --> <font color = red>[FAILED]</font><br><font color = bold><font color = underline>Question1</font></font>: I want to pursue PhD in Computer Science about social network,what is the open problem in social networks?\n",
              "<font color = bold><font color = underline>Question2</font></font>: I handle social media for a non-profit. Should I start going to social media networking events? Are there any good ones in the bay area?"
            ],
            "text/plain": [
              "<IPython.core.display.HTML object>"
            ]
          },
          "metadata": {
            "tags": []
          }
        },
        {
          "output_type": "stream",
          "text": [
            "\n",
            "[Succeeded / Failed / Total] 1 / 0 / 1:   8%|▊         | 2/25 [00:01<00:17,  1.29it/s]\u001b[A\n",
            "[Succeeded / Failed / Total] 1 / 1 / 2:   8%|▊         | 2/25 [00:01<00:17,  1.28it/s]\u001b[A"
          ],
          "name": "stderr"
        },
        {
          "output_type": "display_data",
          "data": {
            "text/html": [
              "<font color = green>Duplicate (92%)</font> --> <font color = red>Not_duplicate (98%)</font><br><font color = bold><font color = underline>Question1</font></font>: Is there a reason why <font color = green>we</font> should <font color = green>travel</font> alone?\n",
              "<font color = bold><font color = underline>Question2</font></font>: What are some reasons to travel alone?<br><font color = bold><font color = underline>Question1</font></font>: Is there a reason why <font color = red>you</font> should <font color = red>interstellar</font> alone?\n",
              "<font color = bold><font color = underline>Question2</font></font>: What are some reasons to travel alone?"
            ],
            "text/plain": [
              "<IPython.core.display.HTML object>"
            ]
          },
          "metadata": {
            "tags": []
          }
        },
        {
          "output_type": "stream",
          "text": [
            "\n",
            "[Succeeded / Failed / Total] 1 / 1 / 2:  12%|█▏        | 3/25 [00:01<00:12,  1.72it/s]\u001b[A\n",
            "[Succeeded / Failed / Total] 2 / 1 / 3:  12%|█▏        | 3/25 [00:01<00:12,  1.71it/s]\u001b[A"
          ],
          "name": "stderr"
        },
        {
          "output_type": "display_data",
          "data": {
            "text/html": [
              "<font color = red>Not_duplicate (100%)</font> --> <font color = red>[FAILED]</font><br><font color = bold><font color = underline>Question1</font></font>: Why are people so obsessed with having a girlfriend/boyfriend?\n",
              "<font color = bold><font color = underline>Question2</font></font>: How can a single male have a child?"
            ],
            "text/plain": [
              "<IPython.core.display.HTML object>"
            ]
          },
          "metadata": {
            "tags": []
          }
        },
        {
          "output_type": "stream",
          "text": [
            "\n",
            "[Succeeded / Failed / Total] 2 / 1 / 3:  16%|█▌        | 4/25 [00:02<00:13,  1.59it/s]\u001b[A\n",
            "[Succeeded / Failed / Total] 2 / 2 / 4:  16%|█▌        | 4/25 [00:02<00:13,  1.58it/s]\u001b[A"
          ],
          "name": "stderr"
        },
        {
          "output_type": "display_data",
          "data": {
            "text/html": [
              "<font color = red>Not_duplicate (99%)</font> --> <font color = red>[FAILED]</font><br><font color = bold><font color = underline>Question1</font></font>: What are some good baby girl names starting with D?\n",
              "<font color = bold><font color = underline>Question2</font></font>: What are some good baby girl names starting with D or H?"
            ],
            "text/plain": [
              "<IPython.core.display.HTML object>"
            ]
          },
          "metadata": {
            "tags": []
          }
        },
        {
          "output_type": "stream",
          "text": [
            "\n",
            "[Succeeded / Failed / Total] 2 / 2 / 4:  20%|██        | 5/25 [00:03<00:12,  1.60it/s]\u001b[A\n",
            "[Succeeded / Failed / Total] 2 / 3 / 5:  20%|██        | 5/25 [00:03<00:12,  1.60it/s]\u001b[A"
          ],
          "name": "stderr"
        },
        {
          "output_type": "display_data",
          "data": {
            "text/html": [
              "<font color = green>Duplicate (97%)</font> --> <font color = red>Not_duplicate (91%)</font><br><font color = bold><font color = underline>Question1</font></font>: I am 25 year old guy and never had a <font color = green>girlfriend</font>. Is this weird?\n",
              "<font color = bold><font color = underline>Question2</font></font>: I am 25 years old. I have <font color = green>never</font> had a girlfriend. Is something wrong with me?<br><font color = bold><font color = underline>Question1</font></font>: I am 25 year old guy and never had a <font color = red>boyfriend</font>. Is this weird?\n",
              "<font color = bold><font color = underline>Question2</font></font>: I am 25 years old. I have <font color = red>actually</font> had a girlfriend. Is something wrong with me?"
            ],
            "text/plain": [
              "<IPython.core.display.HTML object>"
            ]
          },
          "metadata": {
            "tags": []
          }
        },
        {
          "output_type": "stream",
          "text": [
            "\n",
            "[Succeeded / Failed / Total] 2 / 3 / 5:  24%|██▍       | 6/25 [00:03<00:10,  1.79it/s]\u001b[A\n",
            "[Succeeded / Failed / Total] 3 / 3 / 6:  24%|██▍       | 6/25 [00:03<00:10,  1.78it/s]\u001b[A"
          ],
          "name": "stderr"
        },
        {
          "output_type": "display_data",
          "data": {
            "text/html": [
              "<font color = green>Duplicate (60%)</font> --> <font color = red>Not_duplicate (100%)</font><br><font color = bold><font color = underline>Question1</font></font>: \"What does a good answer on Quora look like? What does it mean to \"\"be helpful\"\"?\"\n",
              "<font color = bold><font color = underline>Question2</font></font>: How do you write a good <font color = green>answer</font> on Quora?<br><font color = bold><font color = underline>Question1</font></font>: \"What does a good answer on Quora look like? What does it mean to \"\"be helpful\"\"?\"\n",
              "<font color = bold><font color = underline>Question2</font></font>: How do you write a good <font color = red>questions</font> on Quora?"
            ],
            "text/plain": [
              "<IPython.core.display.HTML object>"
            ]
          },
          "metadata": {
            "tags": []
          }
        },
        {
          "output_type": "stream",
          "text": [
            "\n",
            "[Succeeded / Failed / Total] 3 / 3 / 6:  28%|██▊       | 7/25 [00:03<00:09,  1.97it/s]\u001b[A\n",
            "[Succeeded / Failed / Total] 4 / 3 / 7:  28%|██▊       | 7/25 [00:03<00:09,  1.97it/s]\u001b[A"
          ],
          "name": "stderr"
        },
        {
          "output_type": "display_data",
          "data": {
            "text/html": [
              "<font color = green>Duplicate (58%)</font> --> <font color = red>Not_duplicate (98%)</font><br><font color = bold><font color = underline>Question1</font></font>: What are the best <font color = green>things</font> to do in Hong Kong?\n",
              "<font color = bold><font color = underline>Question2</font></font>: What is the best thing in Hong Kong?<br><font color = bold><font color = underline>Question1</font></font>: What are the best <font color = red>endureth</font> to do in Hong Kong?\n",
              "<font color = bold><font color = underline>Question2</font></font>: What is the best thing in Hong Kong?"
            ],
            "text/plain": [
              "<IPython.core.display.HTML object>"
            ]
          },
          "metadata": {
            "tags": []
          }
        },
        {
          "output_type": "stream",
          "text": [
            "\n",
            "[Succeeded / Failed / Total] 4 / 3 / 7:  32%|███▏      | 8/25 [00:03<00:07,  2.13it/s]\u001b[A\n",
            "[Succeeded / Failed / Total] 5 / 3 / 8:  32%|███▏      | 8/25 [00:03<00:07,  2.13it/s]\u001b[A"
          ],
          "name": "stderr"
        },
        {
          "output_type": "display_data",
          "data": {
            "text/html": [
              "<font color = green>Duplicate (88%)</font> --> <font color = gray>[SKIPPED]</font><br><font color = bold><font color = underline>Question1</font></font>: Why is my life getting so complicated?\n",
              "<font color = bold><font color = underline>Question2</font></font>: Why is my life so complicated?"
            ],
            "text/plain": [
              "<IPython.core.display.HTML object>"
            ]
          },
          "metadata": {
            "tags": []
          }
        },
        {
          "output_type": "stream",
          "text": [
            "\n",
            "[Succeeded / Failed / Total] 5 / 3 / 9:  36%|███▌      | 9/25 [00:03<00:06,  2.38it/s]\u001b[A"
          ],
          "name": "stderr"
        },
        {
          "output_type": "display_data",
          "data": {
            "text/html": [
              "<font color = red>Not_duplicate (100%)</font> --> <font color = red>[FAILED]</font><br><font color = bold><font color = underline>Question1</font></font>: Why should I crack Jee?\n",
              "<font color = bold><font color = underline>Question2</font></font>: Is it possible to get into IIMs with low marks in graduation and 12th?"
            ],
            "text/plain": [
              "<IPython.core.display.HTML object>"
            ]
          },
          "metadata": {
            "tags": []
          }
        },
        {
          "output_type": "stream",
          "text": [
            "\n",
            "[Succeeded / Failed / Total] 5 / 3 / 9:  40%|████      | 10/25 [00:04<00:06,  2.33it/s]\u001b[A\n",
            "[Succeeded / Failed / Total] 5 / 4 / 10:  40%|████      | 10/25 [00:04<00:06,  2.33it/s]\u001b[A"
          ],
          "name": "stderr"
        },
        {
          "output_type": "display_data",
          "data": {
            "text/html": [
              "<font color = red>Not_duplicate (99%)</font> --> <font color = red>[FAILED]</font><br><font color = bold><font color = underline>Question1</font></font>: Can you TRANSLATE these to English language?\n",
              "<font color = bold><font color = underline>Question2</font></font>: Can you translate this from Bengali to English language?"
            ],
            "text/plain": [
              "<IPython.core.display.HTML object>"
            ]
          },
          "metadata": {
            "tags": []
          }
        },
        {
          "output_type": "stream",
          "text": [
            "\n",
            "[Succeeded / Failed / Total] 5 / 5 / 11:  44%|████▍     | 11/25 [00:04<00:05,  2.36it/s]\u001b[A"
          ],
          "name": "stderr"
        },
        {
          "output_type": "display_data",
          "data": {
            "text/html": [
              "<font color = red>Not_duplicate (100%)</font> --> <font color = red>[FAILED]</font><br><font color = bold><font color = underline>Question1</font></font>: Can anyone tell shall mi mix mobile should be purchased or not?\n",
              "<font color = bold><font color = underline>Question2</font></font>: \"What did Voltaire mean when he said, \"\"God is a comedian playing to an audience that is too afraid to laugh\"\"?\""
            ],
            "text/plain": [
              "<IPython.core.display.HTML object>"
            ]
          },
          "metadata": {
            "tags": []
          }
        },
        {
          "output_type": "stream",
          "text": [
            "\n",
            "[Succeeded / Failed / Total] 5 / 5 / 11:  48%|████▊     | 12/25 [00:05<00:06,  2.08it/s]\u001b[A\n",
            "[Succeeded / Failed / Total] 5 / 6 / 12:  48%|████▊     | 12/25 [00:05<00:06,  2.08it/s]\u001b[A"
          ],
          "name": "stderr"
        },
        {
          "output_type": "display_data",
          "data": {
            "text/html": [
              "<font color = green>Duplicate (97%)</font> --> <font color = red>Not_duplicate (95%)</font><br><font color = bold><font color = underline>Question1</font></font>: Which is the best gaming <font color = green>laptop</font> under 40k?\n",
              "<font color = bold><font color = underline>Question2</font></font>: Which is the best gaming laptop under 40,000 rs?<br><font color = bold><font color = underline>Question1</font></font>: Which is the best gaming <font color = red>confetti</font> under 40k?\n",
              "<font color = bold><font color = underline>Question2</font></font>: Which is the best gaming laptop under 40,000 rs?"
            ],
            "text/plain": [
              "<IPython.core.display.HTML object>"
            ]
          },
          "metadata": {
            "tags": []
          }
        },
        {
          "output_type": "stream",
          "text": [
            "\n",
            "[Succeeded / Failed / Total] 6 / 6 / 13:  52%|█████▏    | 13/25 [00:05<00:05,  2.20it/s]\u001b[A"
          ],
          "name": "stderr"
        },
        {
          "output_type": "display_data",
          "data": {
            "text/html": [
              "<font color = red>Not_duplicate (100%)</font> --> <font color = red>[FAILED]</font><br><font color = bold><font color = underline>Question1</font></font>: Why Tamil Nadu Universities are no good?\n",
              "<font color = bold><font color = underline>Question2</font></font>: Why are the 10th students able to score 100% in Tamil Nadu?"
            ],
            "text/plain": [
              "<IPython.core.display.HTML object>"
            ]
          },
          "metadata": {
            "tags": []
          }
        },
        {
          "output_type": "stream",
          "text": [
            "\n",
            "[Succeeded / Failed / Total] 6 / 6 / 13:  56%|█████▌    | 14/25 [00:06<00:04,  2.22it/s]\u001b[A\n",
            "[Succeeded / Failed / Total] 6 / 7 / 14:  56%|█████▌    | 14/25 [00:06<00:04,  2.22it/s]\u001b[A"
          ],
          "name": "stderr"
        },
        {
          "output_type": "display_data",
          "data": {
            "text/html": [
              "<font color = red>Not_duplicate (100%)</font> --> <font color = red>[FAILED]</font><br><font color = bold><font color = underline>Question1</font></font>: What is an easy way to clean toothpaste stains from a shirt without washing it?\n",
              "<font color = bold><font color = underline>Question2</font></font>: What are some ways to remove hard water stains from dishes?"
            ],
            "text/plain": [
              "<IPython.core.display.HTML object>"
            ]
          },
          "metadata": {
            "tags": []
          }
        },
        {
          "output_type": "stream",
          "text": [
            "\n",
            "[Succeeded / Failed / Total] 6 / 8 / 15:  60%|██████    | 15/25 [00:07<00:04,  2.09it/s]\u001b[A"
          ],
          "name": "stderr"
        },
        {
          "output_type": "display_data",
          "data": {
            "text/html": [
              "<font color = green>Duplicate (84%)</font> --> <font color = red>Not_duplicate (81%)</font><br><font color = bold><font color = underline>Question1</font></font>: What was the deadliest battle in history?\n",
              "<font color = bold><font color = underline>Question2</font></font>: What was the bloodiest battle in <font color = green>history</font>?<br><font color = bold><font color = underline>Question1</font></font>: What was the deadliest battle in history?\n",
              "<font color = bold><font color = underline>Question2</font></font>: What was the bloodiest battle in <font color = red>cmessier</font>?"
            ],
            "text/plain": [
              "<IPython.core.display.HTML object>"
            ]
          },
          "metadata": {
            "tags": []
          }
        },
        {
          "output_type": "stream",
          "text": [
            "\n",
            "[Succeeded / Failed / Total] 6 / 8 / 15:  64%|██████▍   | 16/25 [00:07<00:04,  2.18it/s]\u001b[A\n",
            "[Succeeded / Failed / Total] 7 / 8 / 16:  64%|██████▍   | 16/25 [00:07<00:04,  2.18it/s]\u001b[A"
          ],
          "name": "stderr"
        },
        {
          "output_type": "display_data",
          "data": {
            "text/html": [
              "<font color = green>Duplicate (100%)</font> --> <font color = red>Not_duplicate (58%)</font><br><font color = bold><font color = underline>Question1</font></font>: What <font color = green>are</font> <font color = green>your</font> <font color = green>views</font> about demonetisation in India?\n",
              "<font color = bold><font color = underline>Question2</font></font>: What do you think about the <font color = green>ban</font> on 500 and 1000 denomination <font color = green>notes</font> in India?<br><font color = bold><font color = underline>Question1</font></font>: What <font color = red>washerwomen</font> <font color = red>my</font> <font color = red>beliefs</font> about demonetisation in India?\n",
              "<font color = bold><font color = underline>Question2</font></font>: What do you think about the <font color = red>ozone</font> on 500 and 1000 denomination <font color = red>note</font> in India?"
            ],
            "text/plain": [
              "<IPython.core.display.HTML object>"
            ]
          },
          "metadata": {
            "tags": []
          }
        },
        {
          "output_type": "stream",
          "text": [
            "\n",
            "[Succeeded / Failed / Total] 8 / 8 / 17:  68%|██████▊   | 17/25 [00:07<00:03,  2.19it/s]\u001b[A"
          ],
          "name": "stderr"
        },
        {
          "output_type": "display_data",
          "data": {
            "text/html": [
              "<font color = red>Not_duplicate (100%)</font> --> <font color = red>[FAILED]</font><br><font color = bold><font color = underline>Question1</font></font>: What are the difference between polyester 210T and 210D?\n",
              "<font color = bold><font color = underline>Question2</font></font>: What is the difference between cotton and polyester?"
            ],
            "text/plain": [
              "<IPython.core.display.HTML object>"
            ]
          },
          "metadata": {
            "tags": []
          }
        },
        {
          "output_type": "stream",
          "text": [
            "\n",
            "[Succeeded / Failed / Total] 8 / 8 / 17:  72%|███████▏  | 18/25 [00:08<00:03,  2.19it/s]\u001b[A\n",
            "[Succeeded / Failed / Total] 8 / 9 / 18:  72%|███████▏  | 18/25 [00:08<00:03,  2.18it/s]\u001b[A"
          ],
          "name": "stderr"
        },
        {
          "output_type": "display_data",
          "data": {
            "text/html": [
              "<font color = red>Not_duplicate (92%)</font> --> <font color = red>[FAILED]</font><br><font color = bold><font color = underline>Question1</font></font>: Is FMS Delhi a good option for a MBA executive program?\n",
              "<font color = bold><font color = underline>Question2</font></font>: Is FMS a good choice for an MBA in HR? Why and why not?"
            ],
            "text/plain": [
              "<IPython.core.display.HTML object>"
            ]
          },
          "metadata": {
            "tags": []
          }
        },
        {
          "output_type": "stream",
          "text": [
            "\n",
            "[Succeeded / Failed / Total] 8 / 10 / 19:  76%|███████▌  | 19/25 [00:08<00:02,  2.12it/s]\u001b[A"
          ],
          "name": "stderr"
        },
        {
          "output_type": "display_data",
          "data": {
            "text/html": [
              "<font color = green>Duplicate (57%)</font> --> <font color = red>Not_duplicate (91%)</font><br><font color = bold><font color = underline>Question1</font></font>: Is it a bad <font color = green>time</font> to buy a condo or a house in the Bay Area in 2017?\n",
              "<font color = bold><font color = underline>Question2</font></font>: Would 2017 be a good time to buy a house in Bay Area?<br><font color = bold><font color = underline>Question1</font></font>: Is it a bad <font color = red>trialling</font> to buy a condo or a house in the Bay Area in 2017?\n",
              "<font color = bold><font color = underline>Question2</font></font>: Would 2017 be a good time to buy a house in Bay Area?"
            ],
            "text/plain": [
              "<IPython.core.display.HTML object>"
            ]
          },
          "metadata": {
            "tags": []
          }
        },
        {
          "output_type": "stream",
          "text": [
            "\n",
            "[Succeeded / Failed / Total] 8 / 10 / 19:  80%|████████  | 20/25 [00:09<00:02,  2.16it/s]\u001b[A\n",
            "[Succeeded / Failed / Total] 9 / 10 / 20:  80%|████████  | 20/25 [00:09<00:02,  2.16it/s]\u001b[A"
          ],
          "name": "stderr"
        },
        {
          "output_type": "display_data",
          "data": {
            "text/html": [
              "<font color = red>Not_duplicate (100%)</font> --> <font color = red>[FAILED]</font><br><font color = bold><font color = underline>Question1</font></font>: How is vanilla extract made?\n",
              "<font color = bold><font color = underline>Question2</font></font>: How do you make sugar cookies without vanilla extract?"
            ],
            "text/plain": [
              "<IPython.core.display.HTML object>"
            ]
          },
          "metadata": {
            "tags": []
          }
        },
        {
          "output_type": "stream",
          "text": [
            "\n",
            "[Succeeded / Failed / Total] 9 / 11 / 21:  84%|████████▍ | 21/25 [00:09<00:01,  2.16it/s]\u001b[A"
          ],
          "name": "stderr"
        },
        {
          "output_type": "display_data",
          "data": {
            "text/html": [
              "<font color = green>Duplicate (100%)</font> --> <font color = red>[FAILED]</font><br><font color = bold><font color = underline>Question1</font></font>: What is the Sahara, and how do the average temperatures there compare to the ones in the Patagonian Desert?\n",
              "<font color = bold><font color = underline>Question2</font></font>: What is the Sahara, and how do the average temperatures there compare to the ones in the Registan Desert?"
            ],
            "text/plain": [
              "<IPython.core.display.HTML object>"
            ]
          },
          "metadata": {
            "tags": []
          }
        },
        {
          "output_type": "stream",
          "text": [
            "\n",
            "[Succeeded / Failed / Total] 9 / 11 / 21:  88%|████████▊ | 22/25 [00:10<00:01,  2.05it/s]\u001b[A\n",
            "[Succeeded / Failed / Total] 9 / 12 / 22:  88%|████████▊ | 22/25 [00:10<00:01,  2.05it/s]\u001b[A"
          ],
          "name": "stderr"
        },
        {
          "output_type": "display_data",
          "data": {
            "text/html": [
              "<font color = red>Not_duplicate (100%)</font> --> <font color = red>[FAILED]</font><br><font color = bold><font color = underline>Question1</font></font>: Why was the Roman Empire so successful?\n",
              "<font color = bold><font color = underline>Question2</font></font>: What are some of the rarely known facts about the Roman Empire?"
            ],
            "text/plain": [
              "<IPython.core.display.HTML object>"
            ]
          },
          "metadata": {
            "tags": []
          }
        },
        {
          "output_type": "stream",
          "text": [
            "\n",
            "[Succeeded / Failed / Total] 9 / 13 / 23:  92%|█████████▏| 23/25 [00:11<00:00,  2.05it/s]\u001b[A"
          ],
          "name": "stderr"
        },
        {
          "output_type": "display_data",
          "data": {
            "text/html": [
              "<font color = red>Not_duplicate (97%)</font> --> <font color = green>Duplicate (59%)</font><br><font color = bold><font color = underline>Question1</font></font>: Is it <font color = red>advisable</font> to sent your cv to a professor with whom you are trying to <font color = red>make</font> contact for graduate admission?\n",
              "<font color = bold><font color = underline>Question2</font></font>: How <font color = red>does</font> contacting a professor before <font color = red>applying</font> <font color = red>factor</font> into graduate admissions?<br><font color = bold><font color = underline>Question1</font></font>: Is it <font color = green>unwise</font> to sent your cv to a professor with whom you are trying to <font color = green>making</font> contact for graduate admission?\n",
              "<font color = bold><font color = underline>Question2</font></font>: How <font color = green>do</font> contacting a professor before <font color = green>solving</font> <font color = green>contributing</font> into graduate admissions?"
            ],
            "text/plain": [
              "<IPython.core.display.HTML object>"
            ]
          },
          "metadata": {
            "tags": []
          }
        },
        {
          "output_type": "stream",
          "text": [
            "\n",
            "[Succeeded / Failed / Total] 9 / 13 / 23:  96%|█████████▌| 24/25 [00:12<00:00,  1.98it/s]\u001b[A\n",
            "[Succeeded / Failed / Total] 10 / 13 / 24:  96%|█████████▌| 24/25 [00:12<00:00,  1.98it/s]\u001b[A"
          ],
          "name": "stderr"
        },
        {
          "output_type": "display_data",
          "data": {
            "text/html": [
              "<font color = red>Not_duplicate (100%)</font> --> <font color = red>[FAILED]</font><br><font color = bold><font color = underline>Question1</font></font>: Does a RainTPL syntax extension for Sublime Text exist? Where can I download it?\n",
              "<font color = bold><font color = underline>Question2</font></font>: How do I hide the find/replace bar in Sublime Text 2?"
            ],
            "text/plain": [
              "<IPython.core.display.HTML object>"
            ]
          },
          "metadata": {
            "tags": []
          }
        },
        {
          "output_type": "stream",
          "text": [
            "\n",
            "[Succeeded / Failed / Total] 10 / 14 / 25: 100%|██████████| 25/25 [00:12<00:00,  1.95it/s]\u001b[A"
          ],
          "name": "stderr"
        },
        {
          "output_type": "display_data",
          "data": {
            "text/html": [
              "<font color = red>Not_duplicate (100%)</font> --> <font color = green>Duplicate (52%)</font><br><font color = bold><font color = underline>Question1</font></font>: What is the average salary of a microbiologist in India?\n",
              "<font color = bold><font color = underline>Question2</font></font>: What is the salary for a <font color = red>psychologist</font> in <font color = red>india</font>?<br><font color = bold><font color = underline>Question1</font></font>: What is the average salary of a microbiologist in India?\n",
              "<font color = bold><font color = underline>Question2</font></font>: What is the salary for a <font color = green>zoologist</font> in <font color = green>pakistan</font>?"
            ],
            "text/plain": [
              "<IPython.core.display.HTML object>"
            ]
          },
          "metadata": {
            "tags": []
          }
        },
        {
          "output_type": "stream",
          "text": [
            "\n",
            "[Succeeded / Failed / Total] 10 / 14 / 25: : 26it [00:13,  1.93it/s]                      \u001b[A\n",
            "[Succeeded / Failed / Total] 11 / 14 / 26: : 26it [00:13,  1.93it/s]"
          ],
          "name": "stderr"
        },
        {
          "output_type": "stream",
          "text": [
            "+-------------------------------+--------+\n",
            "| Attack Results                |        |\n",
            "+-------------------------------+--------+\n",
            "| Number of successful attacks: | 11     |\n",
            "| Number of failed attacks:     | 14     |\n",
            "| Number of skipped attacks:    | 1      |\n",
            "| Original accuracy:            | 96.15% |\n",
            "| Accuracy under attack:        | 53.85% |\n",
            "| Attack success rate:          | 44.0%  |\n",
            "| Average perturbed word %:     | 11.14% |\n",
            "| Average num. words per input: | 22.5   |\n",
            "| Avg num queries:              | 30.16  |\n",
            "+-------------------------------+--------+"
          ],
          "name": "stdout"
        },
        {
          "output_type": "stream",
          "text": [
            "\n",
            "\u001b[34;1mtextattack\u001b[0m: Attack time: 13.488104343414307s\n"
          ],
          "name": "stderr"
        }
      ]
    },
    {
      "cell_type": "markdown",
      "metadata": {
        "id": "qKxnejySt_p8"
      },
      "source": [
        "### FastText, ParticleSwarmOptimization, PartsofSpeech"
      ]
    },
    {
      "cell_type": "code",
      "metadata": {
        "colab": {
          "base_uri": "https://localhost:8080/"
        },
        "id": "wr5Yq7uz1Kq9",
        "outputId": "3eade078-940f-40c2-88f1-197f1a27d664"
      },
      "source": [
        "from textattack.constraints.grammaticality import PartOfSpeech\n",
        "# We're going to use our word swap class as the attack transformation.\n",
        "transformation = Swapper()\n",
        "\n",
        "constraints = [PartOfSpeech()]\n",
        "\n",
        "search_method = ParticleSwarmOptimization(pop_size=10,max_iters=5)\n",
        "\n",
        "goal_function = UntargetedClassification(model_wrapper)\n",
        "\n",
        "# Now, let's make the attack from the 4 components:\n",
        "attack = Attack(goal_function, constraints, transformation, search_method)"
      ],
      "execution_count": 55,
      "outputs": [
        {
          "output_type": "stream",
          "text": [
            "\u001b[34;1mtextattack\u001b[0m: Unknown if model of class <class 'transformers.models.distilbert.modeling_distilbert.DistilBertForSequenceClassification'> compatible with goal function <class 'textattack.goal_functions.classification.untargeted_classification.UntargetedClassification'>.\n"
          ],
          "name": "stderr"
        }
      ]
    },
    {
      "cell_type": "code",
      "metadata": {
        "colab": {
          "base_uri": "https://localhost:8080/"
        },
        "id": "XpkxiVj02xk-",
        "outputId": "eda6b04b-6564-44c7-f233-68117d4a884b"
      },
      "source": [
        "print(attack)"
      ],
      "execution_count": 56,
      "outputs": [
        {
          "output_type": "stream",
          "text": [
            "Attack(\n",
            "  (search_method): ParticleSwarmOptimization(\n",
            "    (pop_size):  10\n",
            "    (max_iters):  5\n",
            "    (post_turn_check):  True\n",
            "    (max_turn_retries):  20\n",
            "  )\n",
            "  (goal_function):  UntargetedClassification\n",
            "  (transformation):  Swapper\n",
            "  (constraints): \n",
            "    (0): PartOfSpeech(\n",
            "        (tagger_type):  nltk\n",
            "        (tagset):  universal\n",
            "        (allow_verb_noun_swap):  True\n",
            "        (compare_against_original):  True\n",
            "      )\n",
            "  (is_black_box):  True\n",
            ")\n"
          ],
          "name": "stdout"
        }
      ]
    },
    {
      "cell_type": "code",
      "metadata": {
        "colab": {
          "base_uri": "https://localhost:8080/",
          "height": 1000
        },
        "id": "LGbTuwOQ24BO",
        "outputId": "a85d598f-6801-4300-8f1a-30fea88f4774"
      },
      "source": [
        "attack_stats(attack, dataset, 25)"
      ],
      "execution_count": 57,
      "outputs": [
        {
          "output_type": "stream",
          "text": [
            "\n",
            "  0%|          | 0/25 [00:00<?, ?it/s]\u001b[A"
          ],
          "name": "stderr"
        },
        {
          "output_type": "stream",
          "text": [
            "Attack(\n",
            "  (search_method): ParticleSwarmOptimization(\n",
            "    (pop_size):  10\n",
            "    (max_iters):  5\n",
            "    (post_turn_check):  True\n",
            "    (max_turn_retries):  20\n",
            "  )\n",
            "  (goal_function):  UntargetedClassification\n",
            "  (transformation):  Swapper\n",
            "  (constraints): \n",
            "    (0): PartOfSpeech(\n",
            "        (tagger_type):  nltk\n",
            "        (tagset):  universal\n",
            "        (allow_verb_noun_swap):  True\n",
            "        (compare_against_original):  True\n",
            "      )\n",
            "  (is_black_box):  True\n",
            ")\n"
          ],
          "name": "stdout"
        },
        {
          "output_type": "display_data",
          "data": {
            "text/html": [
              "<font color = red>Not_duplicate (99%)</font> --> <font color = green>Duplicate (68%)</font><br><font color = bold><font color = underline>Question1</font></font>: Why are <font color = red>African-Americans</font> so beautiful?\n",
              "<font color = bold><font color = underline>Question2</font></font>: Why are hispanics so beautiful?<br><font color = bold><font color = underline>Question1</font></font>: Why are <font color = green>Ricans</font> so beautiful?\n",
              "<font color = bold><font color = underline>Question2</font></font>: Why are hispanics so beautiful?"
            ],
            "text/plain": [
              "<IPython.core.display.HTML object>"
            ]
          },
          "metadata": {
            "tags": []
          }
        },
        {
          "output_type": "stream",
          "text": [
            "\n",
            "  4%|▍         | 1/25 [00:00<00:12,  1.87it/s]\u001b[A\n",
            "[Succeeded / Failed / Total] 1 / 0 / 1:   4%|▍         | 1/25 [00:00<00:13,  1.84it/s]\u001b[A"
          ],
          "name": "stderr"
        },
        {
          "output_type": "display_data",
          "data": {
            "text/html": [
              "<font color = red>Not_duplicate (100%)</font> --> <font color = red>[FAILED]</font><br><font color = bold><font color = underline>Question1</font></font>: I want to pursue PhD in Computer Science about social network,what is the open problem in social networks?\n",
              "<font color = bold><font color = underline>Question2</font></font>: I handle social media for a non-profit. Should I start going to social media networking events? Are there any good ones in the bay area?"
            ],
            "text/plain": [
              "<IPython.core.display.HTML object>"
            ]
          },
          "metadata": {
            "tags": []
          }
        },
        {
          "output_type": "stream",
          "text": [
            "\n",
            "[Succeeded / Failed / Total] 1 / 0 / 1:   8%|▊         | 2/25 [00:23<04:27, 11.64s/it]\u001b[A\n",
            "[Succeeded / Failed / Total] 1 / 1 / 2:   8%|▊         | 2/25 [00:23<04:27, 11.65s/it]\u001b[A"
          ],
          "name": "stderr"
        },
        {
          "output_type": "display_data",
          "data": {
            "text/html": [
              "<font color = green>Duplicate (92%)</font> --> <font color = red>Not_duplicate (84%)</font><br><font color = bold><font color = underline>Question1</font></font>: <font color = green>Is</font> there a reason why we should <font color = green>travel</font> alone?\n",
              "<font color = bold><font color = underline>Question2</font></font>: What are some reasons to travel alone?<br><font color = bold><font color = underline>Question1</font></font>: <font color = red>Larva</font> there a reason why we should <font color = red>travelling</font> alone?\n",
              "<font color = bold><font color = underline>Question2</font></font>: What are some reasons to travel alone?"
            ],
            "text/plain": [
              "<IPython.core.display.HTML object>"
            ]
          },
          "metadata": {
            "tags": []
          }
        },
        {
          "output_type": "stream",
          "text": [
            "\n",
            "[Succeeded / Failed / Total] 1 / 1 / 2:  12%|█▏        | 3/25 [00:24<03:00,  8.23s/it]\u001b[A\n",
            "[Succeeded / Failed / Total] 2 / 1 / 3:  12%|█▏        | 3/25 [00:24<03:01,  8.23s/it]\u001b[A"
          ],
          "name": "stderr"
        },
        {
          "output_type": "display_data",
          "data": {
            "text/html": [
              "<font color = red>Not_duplicate (100%)</font> --> <font color = red>[FAILED]</font><br><font color = bold><font color = underline>Question1</font></font>: Why are people so obsessed with having a girlfriend/boyfriend?\n",
              "<font color = bold><font color = underline>Question2</font></font>: How can a single male have a child?"
            ],
            "text/plain": [
              "<IPython.core.display.HTML object>"
            ]
          },
          "metadata": {
            "tags": []
          }
        },
        {
          "output_type": "stream",
          "text": [
            "\n",
            "[Succeeded / Failed / Total] 2 / 1 / 3:  16%|█▌        | 4/25 [00:32<02:52,  8.22s/it]\u001b[A\n",
            "[Succeeded / Failed / Total] 2 / 2 / 4:  16%|█▌        | 4/25 [00:32<02:52,  8.22s/it]\u001b[A"
          ],
          "name": "stderr"
        },
        {
          "output_type": "display_data",
          "data": {
            "text/html": [
              "<font color = red>Not_duplicate (99%)</font> --> <font color = green>Duplicate (69%)</font><br><font color = bold><font color = underline>Question1</font></font>: What are some good baby girl names starting with D?\n",
              "<font color = bold><font color = underline>Question2</font></font>: What are some good baby girl names starting with D or <font color = red>H</font>?<br><font color = bold><font color = underline>Question1</font></font>: What are some good baby girl names starting with D?\n",
              "<font color = bold><font color = underline>Question2</font></font>: What are some good baby girl names starting with D or <font color = green>CONSUMPTION</font>?"
            ],
            "text/plain": [
              "<IPython.core.display.HTML object>"
            ]
          },
          "metadata": {
            "tags": []
          }
        },
        {
          "output_type": "stream",
          "text": [
            "\n",
            "[Succeeded / Failed / Total] 2 / 2 / 4:  20%|██        | 5/25 [00:34<02:19,  6.96s/it]\u001b[A\n",
            "[Succeeded / Failed / Total] 3 / 2 / 5:  20%|██        | 5/25 [00:34<02:19,  6.96s/it]\u001b[A"
          ],
          "name": "stderr"
        },
        {
          "output_type": "display_data",
          "data": {
            "text/html": [
              "<font color = green>Duplicate (97%)</font> --> <font color = red>Not_duplicate (96%)</font><br><font color = bold><font color = underline>Question1</font></font>: I am 25 year old guy and <font color = green>never</font> had a <font color = green>girlfriend</font>. Is this weird?\n",
              "<font color = bold><font color = underline>Question2</font></font>: I am 25 years old. I have never had a girlfriend. Is something wrong with me?<br><font color = bold><font color = underline>Question1</font></font>: I am 25 year old guy and <font color = red>ever</font> had a <font color = red>boyfriend</font>. Is this weird?\n",
              "<font color = bold><font color = underline>Question2</font></font>: I am 25 years old. I have never had a girlfriend. Is something wrong with me?"
            ],
            "text/plain": [
              "<IPython.core.display.HTML object>"
            ]
          },
          "metadata": {
            "tags": []
          }
        },
        {
          "output_type": "stream",
          "text": [
            "\n",
            "[Succeeded / Failed / Total] 3 / 2 / 5:  24%|██▍       | 6/25 [00:37<02:00,  6.32s/it]\u001b[A\n",
            "[Succeeded / Failed / Total] 4 / 2 / 6:  24%|██▍       | 6/25 [00:37<02:00,  6.32s/it]\u001b[A"
          ],
          "name": "stderr"
        },
        {
          "output_type": "display_data",
          "data": {
            "text/html": [
              "<font color = green>Duplicate (60%)</font> --> <font color = red>Not_duplicate (100%)</font><br><font color = bold><font color = underline>Question1</font></font>: \"What does a good <font color = green>answer</font> on Quora look like? What does it mean to \"\"be helpful\"\"?\"\n",
              "<font color = bold><font color = underline>Question2</font></font>: How do you write a good answer on Quora?<br><font color = bold><font color = underline>Question1</font></font>: \"What does a good <font color = red>question</font> on Quora look like? What does it mean to \"\"be helpful\"\"?\"\n",
              "<font color = bold><font color = underline>Question2</font></font>: How do you write a good answer on Quora?"
            ],
            "text/plain": [
              "<IPython.core.display.HTML object>"
            ]
          },
          "metadata": {
            "tags": []
          }
        },
        {
          "output_type": "stream",
          "text": [
            "\n",
            "[Succeeded / Failed / Total] 4 / 2 / 6:  28%|██▊       | 7/25 [00:38<01:38,  5.48s/it]\u001b[A\n",
            "[Succeeded / Failed / Total] 5 / 2 / 7:  28%|██▊       | 7/25 [00:38<01:38,  5.48s/it]\u001b[A"
          ],
          "name": "stderr"
        },
        {
          "output_type": "display_data",
          "data": {
            "text/html": [
              "<font color = green>Duplicate (58%)</font> --> <font color = red>Not_duplicate (96%)</font><br><font color = bold><font color = underline>Question1</font></font>: What are the best things to do in <font color = green>Hong</font> Kong?\n",
              "<font color = bold><font color = underline>Question2</font></font>: What is the best thing in Hong Kong?<br><font color = bold><font color = underline>Question1</font></font>: What are the best things to do in <font color = red>Yong</font> Kong?\n",
              "<font color = bold><font color = underline>Question2</font></font>: What is the best thing in Hong Kong?"
            ],
            "text/plain": [
              "<IPython.core.display.HTML object>"
            ]
          },
          "metadata": {
            "tags": []
          }
        },
        {
          "output_type": "stream",
          "text": [
            "\n",
            "[Succeeded / Failed / Total] 5 / 2 / 7:  32%|███▏      | 8/25 [00:38<01:22,  4.83s/it]\u001b[A\n",
            "[Succeeded / Failed / Total] 6 / 2 / 8:  32%|███▏      | 8/25 [00:38<01:22,  4.83s/it]\u001b[A"
          ],
          "name": "stderr"
        },
        {
          "output_type": "display_data",
          "data": {
            "text/html": [
              "<font color = green>Duplicate (88%)</font> --> <font color = gray>[SKIPPED]</font><br><font color = bold><font color = underline>Question1</font></font>: Why is my life getting so complicated?\n",
              "<font color = bold><font color = underline>Question2</font></font>: Why is my life so complicated?"
            ],
            "text/plain": [
              "<IPython.core.display.HTML object>"
            ]
          },
          "metadata": {
            "tags": []
          }
        },
        {
          "output_type": "stream",
          "text": [
            "\n",
            "[Succeeded / Failed / Total] 6 / 2 / 9:  36%|███▌      | 9/25 [00:38<01:08,  4.30s/it]\u001b[A"
          ],
          "name": "stderr"
        },
        {
          "output_type": "display_data",
          "data": {
            "text/html": [
              "<font color = red>Not_duplicate (100%)</font> --> <font color = red>[FAILED]</font><br><font color = bold><font color = underline>Question1</font></font>: Why should I crack Jee?\n",
              "<font color = bold><font color = underline>Question2</font></font>: Is it possible to get into IIMs with low marks in graduation and 12th?"
            ],
            "text/plain": [
              "<IPython.core.display.HTML object>"
            ]
          },
          "metadata": {
            "tags": []
          }
        },
        {
          "output_type": "stream",
          "text": [
            "\n",
            "[Succeeded / Failed / Total] 6 / 2 / 9:  40%|████      | 10/25 [00:44<01:06,  4.41s/it]\u001b[A\n",
            "[Succeeded / Failed / Total] 6 / 3 / 10:  40%|████      | 10/25 [00:44<01:06,  4.41s/it]\u001b[A"
          ],
          "name": "stderr"
        },
        {
          "output_type": "display_data",
          "data": {
            "text/html": [
              "<font color = red>Not_duplicate (99%)</font> --> <font color = green>Duplicate (80%)</font><br><font color = bold><font color = underline>Question1</font></font>: Can you TRANSLATE these to English <font color = red>language</font>?\n",
              "<font color = bold><font color = underline>Question2</font></font>: Can you translate this from Bengali to <font color = red>English</font> <font color = red>language</font>?<br><font color = bold><font color = underline>Question1</font></font>: Can you TRANSLATE these to English <font color = green>anguage</font>?\n",
              "<font color = bold><font color = underline>Question2</font></font>: Can you translate this from Bengali to <font color = green>Welsh</font> <font color = green>anguage</font>?"
            ],
            "text/plain": [
              "<IPython.core.display.HTML object>"
            ]
          },
          "metadata": {
            "tags": []
          }
        },
        {
          "output_type": "stream",
          "text": [
            "\n",
            "[Succeeded / Failed / Total] 7 / 3 / 11:  44%|████▍     | 11/25 [00:47<01:00,  4.32s/it]\u001b[A\n",
            "[Succeeded / Failed / Total] 7 / 3 / 11:  44%|████▍     | 11/25 [00:56<01:12,  5.17s/it]\u001b[A"
          ],
          "name": "stderr"
        },
        {
          "output_type": "display_data",
          "data": {
            "text/html": [
              "<font color = red>Not_duplicate (100%)</font> --> <font color = red>[FAILED]</font><br><font color = bold><font color = underline>Question1</font></font>: Can anyone tell shall mi mix mobile should be purchased or not?\n",
              "<font color = bold><font color = underline>Question2</font></font>: \"What did Voltaire mean when he said, \"\"God is a comedian playing to an audience that is too afraid to laugh\"\"?\""
            ],
            "text/plain": [
              "<IPython.core.display.HTML object>"
            ]
          },
          "metadata": {
            "tags": []
          }
        },
        {
          "output_type": "stream",
          "text": [
            "\n",
            "[Succeeded / Failed / Total] 7 / 3 / 11:  48%|████▊     | 12/25 [01:02<01:07,  5.22s/it]\u001b[A\n",
            "[Succeeded / Failed / Total] 7 / 4 / 12:  48%|████▊     | 12/25 [01:02<01:07,  5.22s/it]\u001b[A"
          ],
          "name": "stderr"
        },
        {
          "output_type": "display_data",
          "data": {
            "text/html": [
              "<font color = green>Duplicate (97%)</font> --> <font color = red>[FAILED]</font><br><font color = bold><font color = underline>Question1</font></font>: Which is the best gaming laptop under 40k?\n",
              "<font color = bold><font color = underline>Question2</font></font>: Which is the best gaming laptop under 40,000 rs?"
            ],
            "text/plain": [
              "<IPython.core.display.HTML object>"
            ]
          },
          "metadata": {
            "tags": []
          }
        },
        {
          "output_type": "stream",
          "text": [
            "\n",
            "[Succeeded / Failed / Total] 7 / 4 / 12:  52%|█████▏    | 13/25 [01:08<01:03,  5.28s/it]\u001b[A\n",
            "[Succeeded / Failed / Total] 7 / 5 / 13:  52%|█████▏    | 13/25 [01:08<01:03,  5.28s/it]\u001b[A"
          ],
          "name": "stderr"
        },
        {
          "output_type": "display_data",
          "data": {
            "text/html": [
              "<font color = red>Not_duplicate (100%)</font> --> <font color = red>[FAILED]</font><br><font color = bold><font color = underline>Question1</font></font>: Why Tamil Nadu Universities are no good?\n",
              "<font color = bold><font color = underline>Question2</font></font>: Why are the 10th students able to score 100% in Tamil Nadu?"
            ],
            "text/plain": [
              "<IPython.core.display.HTML object>"
            ]
          },
          "metadata": {
            "tags": []
          }
        },
        {
          "output_type": "stream",
          "text": [
            "\n",
            "[Succeeded / Failed / Total] 7 / 5 / 13:  56%|█████▌    | 14/25 [01:15<00:59,  5.41s/it]\u001b[A\n",
            "[Succeeded / Failed / Total] 7 / 6 / 14:  56%|█████▌    | 14/25 [01:15<00:59,  5.41s/it]\u001b[A"
          ],
          "name": "stderr"
        },
        {
          "output_type": "display_data",
          "data": {
            "text/html": [
              "<font color = red>Not_duplicate (100%)</font> --> <font color = red>[FAILED]</font><br><font color = bold><font color = underline>Question1</font></font>: What is an easy way to clean toothpaste stains from a shirt without washing it?\n",
              "<font color = bold><font color = underline>Question2</font></font>: What are some ways to remove hard water stains from dishes?"
            ],
            "text/plain": [
              "<IPython.core.display.HTML object>"
            ]
          },
          "metadata": {
            "tags": []
          }
        },
        {
          "output_type": "stream",
          "text": [
            "\n",
            "[Succeeded / Failed / Total] 7 / 6 / 14:  60%|██████    | 15/25 [01:29<00:59,  5.95s/it]\u001b[A\n",
            "[Succeeded / Failed / Total] 7 / 7 / 15:  60%|██████    | 15/25 [01:29<00:59,  5.95s/it]\u001b[A"
          ],
          "name": "stderr"
        },
        {
          "output_type": "display_data",
          "data": {
            "text/html": [
              "<font color = green>Duplicate (84%)</font> --> <font color = red>Not_duplicate (100%)</font><br><font color = bold><font color = underline>Question1</font></font>: What was the deadliest <font color = green>battle</font> in history?\n",
              "<font color = bold><font color = underline>Question2</font></font>: What was the bloodiest battle in history?<br><font color = bold><font color = underline>Question1</font></font>: What was the deadliest <font color = red>battlezone</font> in history?\n",
              "<font color = bold><font color = underline>Question2</font></font>: What was the bloodiest battle in history?"
            ],
            "text/plain": [
              "<IPython.core.display.HTML object>"
            ]
          },
          "metadata": {
            "tags": []
          }
        },
        {
          "output_type": "stream",
          "text": [
            "\n",
            "[Succeeded / Failed / Total] 7 / 7 / 15:  64%|██████▍   | 16/25 [01:29<00:50,  5.60s/it]\u001b[A\n",
            "[Succeeded / Failed / Total] 8 / 7 / 16:  64%|██████▍   | 16/25 [01:29<00:50,  5.60s/it]\u001b[A"
          ],
          "name": "stderr"
        },
        {
          "output_type": "display_data",
          "data": {
            "text/html": [
              "<font color = green>Duplicate (100%)</font> --> <font color = red>Not_duplicate (87%)</font><br><font color = bold><font color = underline>Question1</font></font>: What are your views about demonetisation in India?\n",
              "<font color = bold><font color = underline>Question2</font></font>: What do <font color = green>you</font> think <font color = green>about</font> the ban on 500 and 1000 denomination notes in <font color = green>India</font>?<br><font color = bold><font color = underline>Question1</font></font>: What are your views about demonetisation in India?\n",
              "<font color = bold><font color = underline>Question2</font></font>: What do <font color = red>we</font> think <font color = red>abound</font> the ban on 500 and 1000 denomination notes in <font color = red>Ndia</font>?"
            ],
            "text/plain": [
              "<IPython.core.display.HTML object>"
            ]
          },
          "metadata": {
            "tags": []
          }
        },
        {
          "output_type": "stream",
          "text": [
            "\n",
            "[Succeeded / Failed / Total] 8 / 7 / 16:  68%|██████▊   | 17/25 [01:31<00:43,  5.39s/it]\u001b[A\n",
            "[Succeeded / Failed / Total] 9 / 7 / 17:  68%|██████▊   | 17/25 [01:31<00:43,  5.39s/it]\u001b[A"
          ],
          "name": "stderr"
        },
        {
          "output_type": "display_data",
          "data": {
            "text/html": [
              "<font color = red>Not_duplicate (100%)</font> --> <font color = green>Duplicate (58%)</font><br><font color = bold><font color = underline>Question1</font></font>: What are the difference between polyester 210T and 210D?\n",
              "<font color = bold><font color = underline>Question2</font></font>: What is the difference between <font color = red>cotton</font> and polyester?<br><font color = bold><font color = underline>Question1</font></font>: What are the difference between polyester 210T and 210D?\n",
              "<font color = bold><font color = underline>Question2</font></font>: What is the difference between <font color = green>wootton</font> and polyester?"
            ],
            "text/plain": [
              "<IPython.core.display.HTML object>"
            ]
          },
          "metadata": {
            "tags": []
          }
        },
        {
          "output_type": "stream",
          "text": [
            "\n",
            "[Succeeded / Failed / Total] 9 / 7 / 17:  72%|███████▏  | 18/25 [01:31<00:35,  5.11s/it]\u001b[A\n",
            "[Succeeded / Failed / Total] 10 / 7 / 18:  72%|███████▏  | 18/25 [01:31<00:35,  5.11s/it]\u001b[A"
          ],
          "name": "stderr"
        },
        {
          "output_type": "display_data",
          "data": {
            "text/html": [
              "<font color = red>Not_duplicate (92%)</font> --> <font color = green>Duplicate (66%)</font><br><font color = bold><font color = underline>Question1</font></font>: Is FMS Delhi <font color = red>a</font> good option for a MBA executive <font color = red>program</font>?\n",
              "<font color = bold><font color = underline>Question2</font></font>: Is FMS <font color = red>a</font> good choice for an MBA in <font color = red>HR</font>? Why and why not?<br><font color = bold><font color = underline>Question1</font></font>: Is FMS Delhi <font color = green>the</font> good option for a MBA executive <font color = green>prog</font>?\n",
              "<font color = bold><font color = underline>Question2</font></font>: Is FMS <font color = green>the</font> good choice for an MBA in <font color = green>GLORY</font>? Why and why not?"
            ],
            "text/plain": [
              "<IPython.core.display.HTML object>"
            ]
          },
          "metadata": {
            "tags": []
          }
        },
        {
          "output_type": "stream",
          "text": [
            "\n",
            "[Succeeded / Failed / Total] 10 / 7 / 18:  76%|███████▌  | 19/25 [01:34<00:29,  4.97s/it]\u001b[A\n",
            "[Succeeded / Failed / Total] 11 / 7 / 19:  76%|███████▌  | 19/25 [01:34<00:29,  4.97s/it]\u001b[A"
          ],
          "name": "stderr"
        },
        {
          "output_type": "display_data",
          "data": {
            "text/html": [
              "<font color = green>Duplicate (57%)</font> --> <font color = red>Not_duplicate (99%)</font><br><font color = bold><font color = underline>Question1</font></font>: Is it a bad time to buy a condo <font color = green>or</font> a house in the Bay Area in 2017?\n",
              "<font color = bold><font color = underline>Question2</font></font>: Would 2017 be a good time to buy a house in Bay Area?<br><font color = bold><font color = underline>Question1</font></font>: Is it a bad time to buy a condo <font color = red>either</font> a house in the Bay Area in 2017?\n",
              "<font color = bold><font color = underline>Question2</font></font>: Would 2017 be a good time to buy a house in Bay Area?"
            ],
            "text/plain": [
              "<IPython.core.display.HTML object>"
            ]
          },
          "metadata": {
            "tags": []
          }
        },
        {
          "output_type": "stream",
          "text": [
            "\n",
            "[Succeeded / Failed / Total] 11 / 7 / 19:  80%|████████  | 20/25 [01:34<00:23,  4.75s/it]\u001b[A\n",
            "[Succeeded / Failed / Total] 12 / 7 / 20:  80%|████████  | 20/25 [01:34<00:23,  4.75s/it]\u001b[A"
          ],
          "name": "stderr"
        },
        {
          "output_type": "display_data",
          "data": {
            "text/html": [
              "<font color = red>Not_duplicate (100%)</font> --> <font color = red>[FAILED]</font><br><font color = bold><font color = underline>Question1</font></font>: How is vanilla extract made?\n",
              "<font color = bold><font color = underline>Question2</font></font>: How do you make sugar cookies without vanilla extract?"
            ],
            "text/plain": [
              "<IPython.core.display.HTML object>"
            ]
          },
          "metadata": {
            "tags": []
          }
        },
        {
          "output_type": "stream",
          "text": [
            "\n",
            "[Succeeded / Failed / Total] 12 / 7 / 20:  84%|████████▍ | 21/25 [01:39<00:18,  4.74s/it]\u001b[A\n",
            "[Succeeded / Failed / Total] 12 / 8 / 21:  84%|████████▍ | 21/25 [01:39<00:18,  4.74s/it]\u001b[A"
          ],
          "name": "stderr"
        },
        {
          "output_type": "display_data",
          "data": {
            "text/html": [
              "<font color = green>Duplicate (100%)</font> --> <font color = red>Not_duplicate (96%)</font><br><font color = bold><font color = underline>Question1</font></font>: What is the Sahara, and how do the average <font color = green>temperatures</font> there compare to the ones in the Patagonian Desert?\n",
              "<font color = bold><font color = underline>Question2</font></font>: What is the <font color = green>Sahara</font>, and how do the average <font color = green>temperatures</font> there compare to the ones in the <font color = green>Registan</font> Desert?<br><font color = bold><font color = underline>Question1</font></font>: What is the Sahara, and how do the average <font color = red>temperate</font> there compare to the ones in the Patagonian Desert?\n",
              "<font color = bold><font color = underline>Question2</font></font>: What is the <font color = red>Zahara</font>, and how do the average <font color = red>temperate</font> there compare to the ones in the <font color = red>Waziristan</font> Desert?"
            ],
            "text/plain": [
              "<IPython.core.display.HTML object>"
            ]
          },
          "metadata": {
            "tags": []
          }
        },
        {
          "output_type": "stream",
          "text": [
            "\n",
            "[Succeeded / Failed / Total] 12 / 8 / 21:  88%|████████▊ | 22/25 [01:54<00:15,  5.18s/it]\u001b[A\n",
            "[Succeeded / Failed / Total] 13 / 8 / 22:  88%|████████▊ | 22/25 [01:54<00:15,  5.18s/it]\u001b[A"
          ],
          "name": "stderr"
        },
        {
          "output_type": "display_data",
          "data": {
            "text/html": [
              "<font color = red>Not_duplicate (100%)</font> --> <font color = red>[FAILED]</font><br><font color = bold><font color = underline>Question1</font></font>: Why was the Roman Empire so successful?\n",
              "<font color = bold><font color = underline>Question2</font></font>: What are some of the rarely known facts about the Roman Empire?"
            ],
            "text/plain": [
              "<IPython.core.display.HTML object>"
            ]
          },
          "metadata": {
            "tags": []
          }
        },
        {
          "output_type": "stream",
          "text": [
            "\n",
            "[Succeeded / Failed / Total] 13 / 8 / 22:  92%|█████████▏| 23/25 [01:59<00:10,  5.20s/it]\u001b[A\n",
            "[Succeeded / Failed / Total] 13 / 9 / 23:  92%|█████████▏| 23/25 [01:59<00:10,  5.20s/it]\u001b[A"
          ],
          "name": "stderr"
        },
        {
          "output_type": "display_data",
          "data": {
            "text/html": [
              "<font color = red>Not_duplicate (97%)</font> --> <font color = green>Duplicate (55%)</font><br><font color = bold><font color = underline>Question1</font></font>: Is it advisable to sent your cv to a professor with whom you are trying to make contact for graduate admission?\n",
              "<font color = bold><font color = underline>Question2</font></font>: <font color = red>How</font> does <font color = red>contacting</font> a professor before applying factor into graduate admissions?<br><font color = bold><font color = underline>Question1</font></font>: Is it advisable to sent your cv to a professor with whom you are trying to make contact for graduate admission?\n",
              "<font color = bold><font color = underline>Question2</font></font>: <font color = green>Kowtow</font> does <font color = green>contact</font> a professor before applying factor into graduate admissions?"
            ],
            "text/plain": [
              "<IPython.core.display.HTML object>"
            ]
          },
          "metadata": {
            "tags": []
          }
        },
        {
          "output_type": "stream",
          "text": [
            "\n",
            "[Succeeded / Failed / Total] 13 / 9 / 23:  96%|█████████▌| 24/25 [02:01<00:05,  5.06s/it]\u001b[A\n",
            "[Succeeded / Failed / Total] 14 / 9 / 24:  96%|█████████▌| 24/25 [02:01<00:05,  5.06s/it]\u001b[A"
          ],
          "name": "stderr"
        },
        {
          "output_type": "display_data",
          "data": {
            "text/html": [
              "<font color = red>Not_duplicate (100%)</font> --> <font color = red>[FAILED]</font><br><font color = bold><font color = underline>Question1</font></font>: Does a RainTPL syntax extension for Sublime Text exist? Where can I download it?\n",
              "<font color = bold><font color = underline>Question2</font></font>: How do I hide the find/replace bar in Sublime Text 2?"
            ],
            "text/plain": [
              "<IPython.core.display.HTML object>"
            ]
          },
          "metadata": {
            "tags": []
          }
        },
        {
          "output_type": "stream",
          "text": [
            "\n",
            "[Succeeded / Failed / Total] 14 / 9 / 24: 100%|██████████| 25/25 [02:15<00:00,  5.41s/it]\u001b[A\n",
            "[Succeeded / Failed / Total] 14 / 10 / 25: 100%|██████████| 25/25 [02:15<00:00,  5.41s/it]\u001b[A"
          ],
          "name": "stderr"
        },
        {
          "output_type": "display_data",
          "data": {
            "text/html": [
              "<font color = red>Not_duplicate (100%)</font> --> <font color = green>Duplicate (69%)</font><br><font color = bold><font color = underline>Question1</font></font>: What is the average salary of <font color = red>a</font> microbiologist <font color = red>in</font> India?\n",
              "<font color = bold><font color = underline>Question2</font></font>: What is the salary for a <font color = red>psychologist</font> in <font color = red>india</font>?<br><font color = bold><font color = underline>Question1</font></font>: What is the average salary of <font color = green>the</font> microbiologist <font color = green>of</font> India?\n",
              "<font color = bold><font color = underline>Question2</font></font>: What is the salary for a <font color = green>pathologist</font> in <font color = green>pakistan</font>?"
            ],
            "text/plain": [
              "<IPython.core.display.HTML object>"
            ]
          },
          "metadata": {
            "tags": []
          }
        },
        {
          "output_type": "stream",
          "text": [
            "\n",
            "[Succeeded / Failed / Total] 14 / 10 / 25: : 26it [02:17,  5.30s/it]                      \u001b[A\n",
            "[Succeeded / Failed / Total] 15 / 10 / 26: : 26it [02:17,  5.30s/it]"
          ],
          "name": "stderr"
        },
        {
          "output_type": "stream",
          "text": [
            "+-------------------------------+--------+\n",
            "| Attack Results                |        |\n",
            "+-------------------------------+--------+\n",
            "| Number of successful attacks: | 15     |\n",
            "| Number of failed attacks:     | 10     |\n",
            "| Number of skipped attacks:    | 1      |\n",
            "| Original accuracy:            | 96.15% |\n",
            "| Accuracy under attack:        | 38.46% |\n",
            "| Attack success rate:          | 60.0%  |\n",
            "| Average perturbed word %:     | 9.68%  |\n",
            "| Average num. words per input: | 22.5   |\n",
            "| Avg num queries:              | 406.2  |\n",
            "+-------------------------------+--------+"
          ],
          "name": "stdout"
        },
        {
          "output_type": "stream",
          "text": [
            "\n",
            "\u001b[34;1mtextattack\u001b[0m: Attack time: 137.79554057121277s\n"
          ],
          "name": "stderr"
        }
      ]
    },
    {
      "cell_type": "markdown",
      "metadata": {
        "id": "Ms2AfPa9uIL4"
      },
      "source": [
        "### Word2Vec, ParticleSwarmOptimization, PartsofSpeech"
      ]
    },
    {
      "cell_type": "code",
      "metadata": {
        "colab": {
          "base_uri": "https://localhost:8080/"
        },
        "id": "HRcvfqDK27ON",
        "outputId": "2a240e81-86d7-4172-b76f-da211e545c58"
      },
      "source": [
        "# We're going to use our word swap class as the attack transformation.\n",
        "transformation = Swapper_()\n",
        "\n",
        "constraints = [PartOfSpeech()]\n",
        "\n",
        "search_method = ParticleSwarmOptimization(pop_size=10,max_iters=5)\n",
        "\n",
        "goal_function = UntargetedClassification(model_wrapper)\n",
        "\n",
        "# Now, let's make the attack from the 4 components:\n",
        "attack = Attack(goal_function, constraints, transformation, search_method)"
      ],
      "execution_count": 58,
      "outputs": [
        {
          "output_type": "stream",
          "text": [
            "\u001b[34;1mtextattack\u001b[0m: Unknown if model of class <class 'transformers.models.distilbert.modeling_distilbert.DistilBertForSequenceClassification'> compatible with goal function <class 'textattack.goal_functions.classification.untargeted_classification.UntargetedClassification'>.\n"
          ],
          "name": "stderr"
        }
      ]
    },
    {
      "cell_type": "code",
      "metadata": {
        "colab": {
          "base_uri": "https://localhost:8080/"
        },
        "id": "BjK9n6ac5NqI",
        "outputId": "2352622d-fc32-487f-a0b9-8b147d648259"
      },
      "source": [
        "print(attack)"
      ],
      "execution_count": 59,
      "outputs": [
        {
          "output_type": "stream",
          "text": [
            "Attack(\n",
            "  (search_method): ParticleSwarmOptimization(\n",
            "    (pop_size):  10\n",
            "    (max_iters):  5\n",
            "    (post_turn_check):  True\n",
            "    (max_turn_retries):  20\n",
            "  )\n",
            "  (goal_function):  UntargetedClassification\n",
            "  (transformation):  Swapper_\n",
            "  (constraints): \n",
            "    (0): PartOfSpeech(\n",
            "        (tagger_type):  nltk\n",
            "        (tagset):  universal\n",
            "        (allow_verb_noun_swap):  True\n",
            "        (compare_against_original):  True\n",
            "      )\n",
            "  (is_black_box):  True\n",
            ")\n"
          ],
          "name": "stdout"
        }
      ]
    },
    {
      "cell_type": "code",
      "metadata": {
        "colab": {
          "base_uri": "https://localhost:8080/",
          "height": 1000
        },
        "id": "heD59UeC5Pgs",
        "outputId": "784e02bb-6128-40ca-c72f-7a051e69afc5"
      },
      "source": [
        "attack_stats(attack, dataset, 25)"
      ],
      "execution_count": 60,
      "outputs": [
        {
          "output_type": "stream",
          "text": [
            "\n",
            "  0%|          | 0/25 [00:00<?, ?it/s]\u001b[A"
          ],
          "name": "stderr"
        },
        {
          "output_type": "stream",
          "text": [
            "Attack(\n",
            "  (search_method): ParticleSwarmOptimization(\n",
            "    (pop_size):  10\n",
            "    (max_iters):  5\n",
            "    (post_turn_check):  True\n",
            "    (max_turn_retries):  20\n",
            "  )\n",
            "  (goal_function):  UntargetedClassification\n",
            "  (transformation):  Swapper_\n",
            "  (constraints): \n",
            "    (0): PartOfSpeech(\n",
            "        (tagger_type):  nltk\n",
            "        (tagset):  universal\n",
            "        (allow_verb_noun_swap):  True\n",
            "        (compare_against_original):  True\n",
            "      )\n",
            "  (is_black_box):  True\n",
            ")\n"
          ],
          "name": "stdout"
        },
        {
          "output_type": "display_data",
          "data": {
            "text/html": [
              "<font color = red>Not_duplicate (99%)</font> --> <font color = green>Duplicate (88%)</font><br><font color = bold><font color = underline>Question1</font></font>: Why are African-Americans so beautiful?\n",
              "<font color = bold><font color = underline>Question2</font></font>: Why are <font color = red>hispanics</font> so beautiful?<br><font color = bold><font color = underline>Question1</font></font>: Why are African-Americans so beautiful?\n",
              "<font color = bold><font color = underline>Question2</font></font>: Why are <font color = green>colombians</font> so beautiful?"
            ],
            "text/plain": [
              "<IPython.core.display.HTML object>"
            ]
          },
          "metadata": {
            "tags": []
          }
        },
        {
          "output_type": "stream",
          "text": [
            "\n",
            "  4%|▍         | 1/25 [00:00<00:02,  8.50it/s]\u001b[A\n",
            "[Succeeded / Failed / Total] 1 / 0 / 1:   4%|▍         | 1/25 [00:00<00:02,  8.13it/s]\u001b[A"
          ],
          "name": "stderr"
        },
        {
          "output_type": "display_data",
          "data": {
            "text/html": [
              "<font color = red>Not_duplicate (100%)</font> --> <font color = red>[FAILED]</font><br><font color = bold><font color = underline>Question1</font></font>: I want to pursue PhD in Computer Science about social network,what is the open problem in social networks?\n",
              "<font color = bold><font color = underline>Question2</font></font>: I handle social media for a non-profit. Should I start going to social media networking events? Are there any good ones in the bay area?"
            ],
            "text/plain": [
              "<IPython.core.display.HTML object>"
            ]
          },
          "metadata": {
            "tags": []
          }
        },
        {
          "output_type": "stream",
          "text": [
            "\n",
            "[Succeeded / Failed / Total] 1 / 0 / 1:   8%|▊         | 2/25 [00:14<02:51,  7.45s/it]\u001b[A\n",
            "[Succeeded / Failed / Total] 1 / 1 / 2:   8%|▊         | 2/25 [00:14<02:51,  7.46s/it]\u001b[A"
          ],
          "name": "stderr"
        },
        {
          "output_type": "display_data",
          "data": {
            "text/html": [
              "<font color = green>Duplicate (92%)</font> --> <font color = red>Not_duplicate (100%)</font><br><font color = bold><font color = underline>Question1</font></font>: Is there a reason why we should <font color = green>travel</font> <font color = green>alone</font>?\n",
              "<font color = bold><font color = underline>Question2</font></font>: What are some <font color = green>reasons</font> to travel alone?<br><font color = bold><font color = underline>Question1</font></font>: Is there a reason why we should <font color = red>interplanetary</font> <font color = red>eternally</font>?\n",
              "<font color = bold><font color = underline>Question2</font></font>: What are some <font color = red>purposes</font> to travel alone?"
            ],
            "text/plain": [
              "<IPython.core.display.HTML object>"
            ]
          },
          "metadata": {
            "tags": []
          }
        },
        {
          "output_type": "stream",
          "text": [
            "\n",
            "[Succeeded / Failed / Total] 1 / 1 / 2:  12%|█▏        | 3/25 [00:16<01:58,  5.41s/it]\u001b[A\n",
            "[Succeeded / Failed / Total] 2 / 1 / 3:  12%|█▏        | 3/25 [00:16<01:59,  5.41s/it]\u001b[A"
          ],
          "name": "stderr"
        },
        {
          "output_type": "display_data",
          "data": {
            "text/html": [
              "<font color = red>Not_duplicate (100%)</font> --> <font color = red>[FAILED]</font><br><font color = bold><font color = underline>Question1</font></font>: Why are people so obsessed with having a girlfriend/boyfriend?\n",
              "<font color = bold><font color = underline>Question2</font></font>: How can a single male have a child?"
            ],
            "text/plain": [
              "<IPython.core.display.HTML object>"
            ]
          },
          "metadata": {
            "tags": []
          }
        },
        {
          "output_type": "stream",
          "text": [
            "\n",
            "[Succeeded / Failed / Total] 2 / 1 / 3:  16%|█▌        | 4/25 [00:21<01:54,  5.45s/it]\u001b[A\n",
            "[Succeeded / Failed / Total] 2 / 2 / 4:  16%|█▌        | 4/25 [00:21<01:54,  5.45s/it]\u001b[A"
          ],
          "name": "stderr"
        },
        {
          "output_type": "display_data",
          "data": {
            "text/html": [
              "<font color = red>Not_duplicate (99%)</font> --> <font color = green>Duplicate (97%)</font><br><font color = bold><font color = underline>Question1</font></font>: What <font color = red>are</font> some <font color = red>good</font> baby girl <font color = red>names</font> <font color = red>starting</font> with D?\n",
              "<font color = bold><font color = underline>Question2</font></font>: What <font color = red>are</font> some <font color = red>good</font> baby girl <font color = red>names</font> <font color = red>starting</font> with D <font color = red>or</font> H?<br><font color = bold><font color = underline>Question1</font></font>: What <font color = green>were</font> some <font color = green>bad</font> baby girl <font color = green>anglicised</font> <font color = green>end</font> with D?\n",
              "<font color = bold><font color = underline>Question2</font></font>: What <font color = green>were</font> some <font color = green>bad</font> baby girl <font color = green>name</font> <font color = green>beginning</font> with D <font color = green>either</font> H?"
            ],
            "text/plain": [
              "<IPython.core.display.HTML object>"
            ]
          },
          "metadata": {
            "tags": []
          }
        },
        {
          "output_type": "stream",
          "text": [
            "\n",
            "[Succeeded / Failed / Total] 2 / 2 / 4:  20%|██        | 5/25 [00:28<01:52,  5.62s/it]\u001b[A\n",
            "[Succeeded / Failed / Total] 3 / 2 / 5:  20%|██        | 5/25 [00:28<01:52,  5.62s/it]\u001b[A"
          ],
          "name": "stderr"
        },
        {
          "output_type": "display_data",
          "data": {
            "text/html": [
              "<font color = green>Duplicate (97%)</font> --> <font color = red>Not_duplicate (97%)</font><br><font color = bold><font color = underline>Question1</font></font>: I am 25 year old guy and never had a <font color = green>girlfriend</font>. Is this weird?\n",
              "<font color = bold><font color = underline>Question2</font></font>: I am 25 years old. I have <font color = green>never</font> had a girlfriend. Is something wrong with me?<br><font color = bold><font color = underline>Question1</font></font>: I am 25 year old guy and never had a <font color = red>boyfriend</font>. Is this weird?\n",
              "<font color = bold><font color = underline>Question2</font></font>: I am 25 years old. I have <font color = red>already</font> had a girlfriend. Is something wrong with me?"
            ],
            "text/plain": [
              "<IPython.core.display.HTML object>"
            ]
          },
          "metadata": {
            "tags": []
          }
        },
        {
          "output_type": "stream",
          "text": [
            "\n",
            "[Succeeded / Failed / Total] 3 / 2 / 5:  24%|██▍       | 6/25 [00:28<01:30,  4.74s/it]\u001b[A\n",
            "[Succeeded / Failed / Total] 4 / 2 / 6:  24%|██▍       | 6/25 [00:28<01:30,  4.74s/it]\u001b[A"
          ],
          "name": "stderr"
        },
        {
          "output_type": "display_data",
          "data": {
            "text/html": [
              "<font color = green>Duplicate (60%)</font> --> <font color = red>Not_duplicate (100%)</font><br><font color = bold><font color = underline>Question1</font></font>: \"What does a good answer on Quora look like? What does it mean to \"\"be helpful\"\"?\"\n",
              "<font color = bold><font color = underline>Question2</font></font>: How do you write a good <font color = green>answer</font> on Quora?<br><font color = bold><font color = underline>Question1</font></font>: \"What does a good answer on Quora look like? What does it mean to \"\"be helpful\"\"?\"\n",
              "<font color = bold><font color = underline>Question2</font></font>: How do you write a good <font color = red>preclear</font> on Quora?"
            ],
            "text/plain": [
              "<IPython.core.display.HTML object>"
            ]
          },
          "metadata": {
            "tags": []
          }
        },
        {
          "output_type": "stream",
          "text": [
            "\n",
            "[Succeeded / Failed / Total] 4 / 2 / 6:  28%|██▊       | 7/25 [00:28<01:14,  4.11s/it]\u001b[A\n",
            "[Succeeded / Failed / Total] 5 / 2 / 7:  28%|██▊       | 7/25 [00:28<01:14,  4.11s/it]\u001b[A"
          ],
          "name": "stderr"
        },
        {
          "output_type": "display_data",
          "data": {
            "text/html": [
              "<font color = green>Duplicate (58%)</font> --> <font color = red>Not_duplicate (98%)</font><br><font color = bold><font color = underline>Question1</font></font>: What are the best things to do in Hong Kong?\n",
              "<font color = bold><font color = underline>Question2</font></font>: What is the <font color = green>best</font> thing in Hong Kong?<br><font color = bold><font color = underline>Question1</font></font>: What are the best things to do in Hong Kong?\n",
              "<font color = bold><font color = underline>Question2</font></font>: What is the <font color = red>filmfare</font> thing in Hong Kong?"
            ],
            "text/plain": [
              "<IPython.core.display.HTML object>"
            ]
          },
          "metadata": {
            "tags": []
          }
        },
        {
          "output_type": "stream",
          "text": [
            "\n",
            "[Succeeded / Failed / Total] 5 / 2 / 7:  32%|███▏      | 8/25 [00:28<01:01,  3.62s/it]\u001b[A\n",
            "[Succeeded / Failed / Total] 6 / 2 / 8:  32%|███▏      | 8/25 [00:28<01:01,  3.62s/it]\u001b[A"
          ],
          "name": "stderr"
        },
        {
          "output_type": "display_data",
          "data": {
            "text/html": [
              "<font color = green>Duplicate (88%)</font> --> <font color = gray>[SKIPPED]</font><br><font color = bold><font color = underline>Question1</font></font>: Why is my life getting so complicated?\n",
              "<font color = bold><font color = underline>Question2</font></font>: Why is my life so complicated?"
            ],
            "text/plain": [
              "<IPython.core.display.HTML object>"
            ]
          },
          "metadata": {
            "tags": []
          }
        },
        {
          "output_type": "stream",
          "text": [
            "\n",
            "[Succeeded / Failed / Total] 6 / 2 / 9:  36%|███▌      | 9/25 [00:28<00:51,  3.22s/it]\u001b[A"
          ],
          "name": "stderr"
        },
        {
          "output_type": "display_data",
          "data": {
            "text/html": [
              "<font color = red>Not_duplicate (100%)</font> --> <font color = red>[FAILED]</font><br><font color = bold><font color = underline>Question1</font></font>: Why should I crack Jee?\n",
              "<font color = bold><font color = underline>Question2</font></font>: Is it possible to get into IIMs with low marks in graduation and 12th?"
            ],
            "text/plain": [
              "<IPython.core.display.HTML object>"
            ]
          },
          "metadata": {
            "tags": []
          }
        },
        {
          "output_type": "stream",
          "text": [
            "\n",
            "[Succeeded / Failed / Total] 6 / 2 / 9:  40%|████      | 10/25 [00:33<00:50,  3.40s/it]\u001b[A\n",
            "[Succeeded / Failed / Total] 6 / 3 / 10:  40%|████      | 10/25 [00:33<00:50,  3.40s/it]\u001b[A"
          ],
          "name": "stderr"
        },
        {
          "output_type": "display_data",
          "data": {
            "text/html": [
              "<font color = red>Not_duplicate (99%)</font> --> <font color = green>Duplicate (51%)</font><br><font color = bold><font color = underline>Question1</font></font>: Can <font color = red>you</font> TRANSLATE these to English language?\n",
              "<font color = bold><font color = underline>Question2</font></font>: Can <font color = red>you</font> <font color = red>translate</font> this from Bengali to English <font color = red>language</font>?<br><font color = bold><font color = underline>Question1</font></font>: Can <font color = green>we</font> TRANSLATE these to English language?\n",
              "<font color = bold><font color = underline>Question2</font></font>: Can <font color = green>we</font> <font color = green>transcribe</font> this from Bengali to English <font color = green>patois</font>?"
            ],
            "text/plain": [
              "<IPython.core.display.HTML object>"
            ]
          },
          "metadata": {
            "tags": []
          }
        },
        {
          "output_type": "stream",
          "text": [
            "\n",
            "[Succeeded / Failed / Total] 7 / 3 / 11:  44%|████▍     | 11/25 [00:34<00:44,  3.15s/it]\u001b[A"
          ],
          "name": "stderr"
        },
        {
          "output_type": "display_data",
          "data": {
            "text/html": [
              "<font color = red>Not_duplicate (100%)</font> --> <font color = red>[FAILED]</font><br><font color = bold><font color = underline>Question1</font></font>: Can anyone tell shall mi mix mobile should be purchased or not?\n",
              "<font color = bold><font color = underline>Question2</font></font>: \"What did Voltaire mean when he said, \"\"God is a comedian playing to an audience that is too afraid to laugh\"\"?\""
            ],
            "text/plain": [
              "<IPython.core.display.HTML object>"
            ]
          },
          "metadata": {
            "tags": []
          }
        },
        {
          "output_type": "stream",
          "text": [
            "\n",
            "[Succeeded / Failed / Total] 7 / 3 / 11:  48%|████▊     | 12/25 [00:44<00:48,  3.71s/it]\u001b[A\n",
            "[Succeeded / Failed / Total] 7 / 4 / 12:  48%|████▊     | 12/25 [00:44<00:48,  3.71s/it]\u001b[A"
          ],
          "name": "stderr"
        },
        {
          "output_type": "display_data",
          "data": {
            "text/html": [
              "<font color = green>Duplicate (97%)</font> --> <font color = red>[FAILED]</font><br><font color = bold><font color = underline>Question1</font></font>: Which is the best gaming laptop under 40k?\n",
              "<font color = bold><font color = underline>Question2</font></font>: Which is the best gaming laptop under 40,000 rs?"
            ],
            "text/plain": [
              "<IPython.core.display.HTML object>"
            ]
          },
          "metadata": {
            "tags": []
          }
        },
        {
          "output_type": "stream",
          "text": [
            "\n",
            "[Succeeded / Failed / Total] 7 / 4 / 12:  52%|█████▏    | 13/25 [00:46<00:42,  3.56s/it]\u001b[A\n",
            "[Succeeded / Failed / Total] 7 / 5 / 13:  52%|█████▏    | 13/25 [00:46<00:42,  3.56s/it]\u001b[A"
          ],
          "name": "stderr"
        },
        {
          "output_type": "display_data",
          "data": {
            "text/html": [
              "<font color = red>Not_duplicate (100%)</font> --> <font color = red>[FAILED]</font><br><font color = bold><font color = underline>Question1</font></font>: Why Tamil Nadu Universities are no good?\n",
              "<font color = bold><font color = underline>Question2</font></font>: Why are the 10th students able to score 100% in Tamil Nadu?"
            ],
            "text/plain": [
              "<IPython.core.display.HTML object>"
            ]
          },
          "metadata": {
            "tags": []
          }
        },
        {
          "output_type": "stream",
          "text": [
            "\n",
            "[Succeeded / Failed / Total] 7 / 5 / 13:  56%|█████▌    | 14/25 [00:48<00:38,  3.49s/it]\u001b[A\n",
            "[Succeeded / Failed / Total] 7 / 6 / 14:  56%|█████▌    | 14/25 [00:48<00:38,  3.49s/it]\u001b[A"
          ],
          "name": "stderr"
        },
        {
          "output_type": "display_data",
          "data": {
            "text/html": [
              "<font color = red>Not_duplicate (100%)</font> --> <font color = red>[FAILED]</font><br><font color = bold><font color = underline>Question1</font></font>: What is an easy way to clean toothpaste stains from a shirt without washing it?\n",
              "<font color = bold><font color = underline>Question2</font></font>: What are some ways to remove hard water stains from dishes?"
            ],
            "text/plain": [
              "<IPython.core.display.HTML object>"
            ]
          },
          "metadata": {
            "tags": []
          }
        },
        {
          "output_type": "stream",
          "text": [
            "\n",
            "[Succeeded / Failed / Total] 7 / 6 / 14:  60%|██████    | 15/25 [00:56<00:37,  3.76s/it]\u001b[A\n",
            "[Succeeded / Failed / Total] 7 / 7 / 15:  60%|██████    | 15/25 [00:56<00:37,  3.76s/it]\u001b[A"
          ],
          "name": "stderr"
        },
        {
          "output_type": "display_data",
          "data": {
            "text/html": [
              "<font color = green>Duplicate (84%)</font> --> <font color = red>Not_duplicate (100%)</font><br><font color = bold><font color = underline>Question1</font></font>: What was the deadliest battle in history?\n",
              "<font color = bold><font color = underline>Question2</font></font>: What was the bloodiest <font color = green>battle</font> in history?<br><font color = bold><font color = underline>Question1</font></font>: What was the deadliest battle in history?\n",
              "<font color = bold><font color = underline>Question2</font></font>: What was the bloodiest <font color = red>chancellorsville</font> in history?"
            ],
            "text/plain": [
              "<IPython.core.display.HTML object>"
            ]
          },
          "metadata": {
            "tags": []
          }
        },
        {
          "output_type": "stream",
          "text": [
            "\n",
            "[Succeeded / Failed / Total] 7 / 7 / 15:  64%|██████▍   | 16/25 [00:56<00:31,  3.54s/it]\u001b[A\n",
            "[Succeeded / Failed / Total] 8 / 7 / 16:  64%|██████▍   | 16/25 [00:56<00:31,  3.54s/it]\u001b[A"
          ],
          "name": "stderr"
        },
        {
          "output_type": "display_data",
          "data": {
            "text/html": [
              "<font color = green>Duplicate (100%)</font> --> <font color = red>Not_duplicate (57%)</font><br><font color = bold><font color = underline>Question1</font></font>: What are your <font color = green>views</font> about demonetisation in India?\n",
              "<font color = bold><font color = underline>Question2</font></font>: What do <font color = green>you</font> think about the ban on 500 and 1000 denomination notes <font color = green>in</font> India?<br><font color = bold><font color = underline>Question1</font></font>: What are your <font color = red>viewpoints</font> about demonetisation in India?\n",
              "<font color = bold><font color = underline>Question2</font></font>: What do <font color = red>we</font> think about the ban on 500 and 1000 denomination notes <font color = red>throughout</font> India?"
            ],
            "text/plain": [
              "<IPython.core.display.HTML object>"
            ]
          },
          "metadata": {
            "tags": []
          }
        },
        {
          "output_type": "stream",
          "text": [
            "\n",
            "[Succeeded / Failed / Total] 8 / 7 / 16:  68%|██████▊   | 17/25 [00:57<00:27,  3.40s/it]\u001b[A\n",
            "[Succeeded / Failed / Total] 9 / 7 / 17:  68%|██████▊   | 17/25 [00:57<00:27,  3.40s/it]\u001b[A"
          ],
          "name": "stderr"
        },
        {
          "output_type": "display_data",
          "data": {
            "text/html": [
              "<font color = red>Not_duplicate (100%)</font> --> <font color = red>[FAILED]</font><br><font color = bold><font color = underline>Question1</font></font>: What are the difference between polyester 210T and 210D?\n",
              "<font color = bold><font color = underline>Question2</font></font>: What is the difference between cotton and polyester?"
            ],
            "text/plain": [
              "<IPython.core.display.HTML object>"
            ]
          },
          "metadata": {
            "tags": []
          }
        },
        {
          "output_type": "stream",
          "text": [
            "\n",
            "[Succeeded / Failed / Total] 9 / 7 / 17:  72%|███████▏  | 18/25 [01:01<00:23,  3.41s/it]\u001b[A\n",
            "[Succeeded / Failed / Total] 9 / 8 / 18:  72%|███████▏  | 18/25 [01:01<00:23,  3.41s/it]\u001b[A"
          ],
          "name": "stderr"
        },
        {
          "output_type": "display_data",
          "data": {
            "text/html": [
              "<font color = red>Not_duplicate (92%)</font> --> <font color = green>Duplicate (58%)</font><br><font color = bold><font color = underline>Question1</font></font>: Is FMS Delhi a good option for a MBA executive program?\n",
              "<font color = bold><font color = underline>Question2</font></font>: Is FMS a good <font color = red>choice</font> for an MBA <font color = red>in</font> HR? Why and why not?<br><font color = bold><font color = underline>Question1</font></font>: Is FMS Delhi a good option for a MBA executive program?\n",
              "<font color = bold><font color = underline>Question2</font></font>: Is FMS a good <font color = green>tallied</font> for an MBA <font color = green>during</font> HR? Why and why not?"
            ],
            "text/plain": [
              "<IPython.core.display.HTML object>"
            ]
          },
          "metadata": {
            "tags": []
          }
        },
        {
          "output_type": "stream",
          "text": [
            "\n",
            "[Succeeded / Failed / Total] 9 / 8 / 18:  76%|███████▌  | 19/25 [01:02<00:19,  3.31s/it]\u001b[A\n",
            "[Succeeded / Failed / Total] 10 / 8 / 19:  76%|███████▌  | 19/25 [01:02<00:19,  3.31s/it]\u001b[A"
          ],
          "name": "stderr"
        },
        {
          "output_type": "display_data",
          "data": {
            "text/html": [
              "<font color = green>Duplicate (57%)</font> --> <font color = red>Not_duplicate (99%)</font><br><font color = bold><font color = underline>Question1</font></font>: Is it a bad time to buy a condo <font color = green>or</font> a house in the Bay Area in 2017?\n",
              "<font color = bold><font color = underline>Question2</font></font>: Would 2017 be a good time to buy a house in Bay Area?<br><font color = bold><font color = underline>Question1</font></font>: Is it a bad time to buy a condo <font color = red>either</font> a house in the Bay Area in 2017?\n",
              "<font color = bold><font color = underline>Question2</font></font>: Would 2017 be a good time to buy a house in Bay Area?"
            ],
            "text/plain": [
              "<IPython.core.display.HTML object>"
            ]
          },
          "metadata": {
            "tags": []
          }
        },
        {
          "output_type": "stream",
          "text": [
            "\n",
            "[Succeeded / Failed / Total] 10 / 8 / 19:  80%|████████  | 20/25 [01:03<00:15,  3.16s/it]\u001b[A\n",
            "[Succeeded / Failed / Total] 11 / 8 / 20:  80%|████████  | 20/25 [01:03<00:15,  3.16s/it]\u001b[A"
          ],
          "name": "stderr"
        },
        {
          "output_type": "display_data",
          "data": {
            "text/html": [
              "<font color = red>Not_duplicate (100%)</font> --> <font color = red>[FAILED]</font><br><font color = bold><font color = underline>Question1</font></font>: How is vanilla extract made?\n",
              "<font color = bold><font color = underline>Question2</font></font>: How do you make sugar cookies without vanilla extract?"
            ],
            "text/plain": [
              "<IPython.core.display.HTML object>"
            ]
          },
          "metadata": {
            "tags": []
          }
        },
        {
          "output_type": "stream",
          "text": [
            "\n",
            "[Succeeded / Failed / Total] 11 / 8 / 20:  84%|████████▍ | 21/25 [01:06<00:12,  3.18s/it]\u001b[A\n",
            "[Succeeded / Failed / Total] 11 / 9 / 21:  84%|████████▍ | 21/25 [01:06<00:12,  3.18s/it]\u001b[A"
          ],
          "name": "stderr"
        },
        {
          "output_type": "display_data",
          "data": {
            "text/html": [
              "<font color = green>Duplicate (100%)</font> --> <font color = red>Not_duplicate (53%)</font><br><font color = bold><font color = underline>Question1</font></font>: What is the Sahara, and how do the average <font color = green>temperatures</font> there compare to the ones in the Patagonian Desert?\n",
              "<font color = bold><font color = underline>Question2</font></font>: What is the Sahara, and how do the average <font color = green>temperatures</font> there compare to the ones in the Registan Desert?<br><font color = bold><font color = underline>Question1</font></font>: What is the Sahara, and how do the average <font color = red>rainfall</font> there compare to the ones in the Patagonian Desert?\n",
              "<font color = bold><font color = underline>Question2</font></font>: What is the Sahara, and how do the average <font color = red>humidity</font> there compare to the ones in the Registan Desert?"
            ],
            "text/plain": [
              "<IPython.core.display.HTML object>"
            ]
          },
          "metadata": {
            "tags": []
          }
        },
        {
          "output_type": "stream",
          "text": [
            "\n",
            "[Succeeded / Failed / Total] 11 / 9 / 21:  88%|████████▊ | 22/25 [01:19<00:10,  3.61s/it]\u001b[A\n",
            "[Succeeded / Failed / Total] 12 / 9 / 22:  88%|████████▊ | 22/25 [01:19<00:10,  3.61s/it]\u001b[A"
          ],
          "name": "stderr"
        },
        {
          "output_type": "display_data",
          "data": {
            "text/html": [
              "<font color = red>Not_duplicate (100%)</font> --> <font color = red>[FAILED]</font><br><font color = bold><font color = underline>Question1</font></font>: Why was the Roman Empire so successful?\n",
              "<font color = bold><font color = underline>Question2</font></font>: What are some of the rarely known facts about the Roman Empire?"
            ],
            "text/plain": [
              "<IPython.core.display.HTML object>"
            ]
          },
          "metadata": {
            "tags": []
          }
        },
        {
          "output_type": "stream",
          "text": [
            "\n",
            "[Succeeded / Failed / Total] 12 / 9 / 22:  92%|█████████▏| 23/25 [01:21<00:07,  3.52s/it]\u001b[A\n",
            "[Succeeded / Failed / Total] 12 / 10 / 23:  92%|█████████▏| 23/25 [01:21<00:07,  3.52s/it]\u001b[A"
          ],
          "name": "stderr"
        },
        {
          "output_type": "display_data",
          "data": {
            "text/html": [
              "<font color = red>Not_duplicate (97%)</font> --> <font color = green>Duplicate (93%)</font><br><font color = bold><font color = underline>Question1</font></font>: Is it <font color = red>advisable</font> to <font color = red>sent</font> <font color = red>your</font> <font color = red>cv</font> to a <font color = red>professor</font> with whom <font color = red>you</font> are trying to <font color = red>make</font> contact for graduate admission?\n",
              "<font color = bold><font color = underline>Question2</font></font>: How does contacting a <font color = red>professor</font> before applying factor <font color = red>into</font> graduate admissions?<br><font color = bold><font color = underline>Question1</font></font>: Is it <font color = green>unwise</font> to <font color = green>relayed</font> <font color = green>my</font> <font color = green>aam</font> to a <font color = green>emeritus</font> with whom <font color = green>we</font> are trying to <font color = green>give</font> contact for graduate admission?\n",
              "<font color = bold><font color = underline>Question2</font></font>: How does contacting a <font color = green>emeritus</font> before applying factor <font color = green>onto</font> graduate admissions?"
            ],
            "text/plain": [
              "<IPython.core.display.HTML object>"
            ]
          },
          "metadata": {
            "tags": []
          }
        },
        {
          "output_type": "stream",
          "text": [
            "\n",
            "[Succeeded / Failed / Total] 12 / 10 / 23:  96%|█████████▌| 24/25 [01:31<00:03,  3.81s/it]\u001b[A\n",
            "[Succeeded / Failed / Total] 13 / 10 / 24:  96%|█████████▌| 24/25 [01:31<00:03,  3.81s/it]\u001b[A"
          ],
          "name": "stderr"
        },
        {
          "output_type": "display_data",
          "data": {
            "text/html": [
              "<font color = red>Not_duplicate (100%)</font> --> <font color = red>[FAILED]</font><br><font color = bold><font color = underline>Question1</font></font>: Does a RainTPL syntax extension for Sublime Text exist? Where can I download it?\n",
              "<font color = bold><font color = underline>Question2</font></font>: How do I hide the find/replace bar in Sublime Text 2?"
            ],
            "text/plain": [
              "<IPython.core.display.HTML object>"
            ]
          },
          "metadata": {
            "tags": []
          }
        },
        {
          "output_type": "stream",
          "text": [
            "\n",
            "[Succeeded / Failed / Total] 13 / 10 / 24: 100%|██████████| 25/25 [01:36<00:00,  3.86s/it]\u001b[A\n",
            "[Succeeded / Failed / Total] 13 / 11 / 25: 100%|██████████| 25/25 [01:36<00:00,  3.86s/it]\u001b[A"
          ],
          "name": "stderr"
        },
        {
          "output_type": "display_data",
          "data": {
            "text/html": [
              "<font color = red>Not_duplicate (100%)</font> --> <font color = red>[FAILED]</font><br><font color = bold><font color = underline>Question1</font></font>: What is the average salary of a microbiologist in India?\n",
              "<font color = bold><font color = underline>Question2</font></font>: What is the salary for a psychologist in india?"
            ],
            "text/plain": [
              "<IPython.core.display.HTML object>"
            ]
          },
          "metadata": {
            "tags": []
          }
        },
        {
          "output_type": "stream",
          "text": [
            "\n",
            "[Succeeded / Failed / Total] 13 / 11 / 25: : 26it [01:42,  3.93s/it]                      \u001b[A\n",
            "[Succeeded / Failed / Total] 13 / 12 / 26: : 26it [01:42,  3.93s/it]"
          ],
          "name": "stderr"
        },
        {
          "output_type": "stream",
          "text": [
            "+-------------------------------+--------+\n",
            "| Attack Results                |        |\n",
            "+-------------------------------+--------+\n",
            "| Number of successful attacks: | 13     |\n",
            "| Number of failed attacks:     | 12     |\n",
            "| Number of skipped attacks:    | 1      |\n",
            "| Original accuracy:            | 96.15% |\n",
            "| Accuracy under attack:        | 46.15% |\n",
            "| Attack success rate:          | 52.0%  |\n",
            "| Average perturbed word %:     | 13.51% |\n",
            "| Average num. words per input: | 22.5   |\n",
            "| Avg num queries:              | 364.56 |\n",
            "+-------------------------------+--------+"
          ],
          "name": "stdout"
        },
        {
          "output_type": "stream",
          "text": [
            "\n",
            "\u001b[34;1mtextattack\u001b[0m: Attack time: 102.11563754081726s\n"
          ],
          "name": "stderr"
        }
      ]
    },
    {
      "cell_type": "markdown",
      "metadata": {
        "id": "SViaJK80uMrl"
      },
      "source": [
        "### Glove, ParticleSwarmOptimization, PartsofSpeech"
      ]
    },
    {
      "cell_type": "code",
      "metadata": {
        "colab": {
          "base_uri": "https://localhost:8080/"
        },
        "id": "O7zg-_zFQwyV",
        "outputId": "cca8d4b2-600f-4503-af8e-f6d80ba769a1"
      },
      "source": [
        "# We're going to use our word swap class as the attack transformation.\n",
        "transformation = Swapper__()\n",
        "\n",
        "constraints = [PartOfSpeech()]\n",
        "\n",
        "search_method = ParticleSwarmOptimization(pop_size=10,max_iters=5)\n",
        "\n",
        "goal_function = UntargetedClassification(model_wrapper)\n",
        "\n",
        "# Now, let's make the attack from the 4 components:\n",
        "attack = Attack(goal_function, constraints, transformation, search_method)"
      ],
      "execution_count": 61,
      "outputs": [
        {
          "output_type": "stream",
          "text": [
            "\u001b[34;1mtextattack\u001b[0m: Unknown if model of class <class 'transformers.models.distilbert.modeling_distilbert.DistilBertForSequenceClassification'> compatible with goal function <class 'textattack.goal_functions.classification.untargeted_classification.UntargetedClassification'>.\n"
          ],
          "name": "stderr"
        }
      ]
    },
    {
      "cell_type": "code",
      "metadata": {
        "colab": {
          "base_uri": "https://localhost:8080/"
        },
        "id": "PKAKnXjcQzEL",
        "outputId": "3c1d0d7d-91ec-4a76-eb0f-5d6188a4009b"
      },
      "source": [
        "print(attack)"
      ],
      "execution_count": 62,
      "outputs": [
        {
          "output_type": "stream",
          "text": [
            "Attack(\n",
            "  (search_method): ParticleSwarmOptimization(\n",
            "    (pop_size):  10\n",
            "    (max_iters):  5\n",
            "    (post_turn_check):  True\n",
            "    (max_turn_retries):  20\n",
            "  )\n",
            "  (goal_function):  UntargetedClassification\n",
            "  (transformation):  Swapper__\n",
            "  (constraints): \n",
            "    (0): PartOfSpeech(\n",
            "        (tagger_type):  nltk\n",
            "        (tagset):  universal\n",
            "        (allow_verb_noun_swap):  True\n",
            "        (compare_against_original):  True\n",
            "      )\n",
            "  (is_black_box):  True\n",
            ")\n"
          ],
          "name": "stdout"
        }
      ]
    },
    {
      "cell_type": "code",
      "metadata": {
        "colab": {
          "base_uri": "https://localhost:8080/",
          "height": 1000
        },
        "id": "1ORBY3voQ1TT",
        "outputId": "96259921-b619-4edb-995b-3c188558b5c0"
      },
      "source": [
        "attack_stats(attack, dataset, 25)"
      ],
      "execution_count": 63,
      "outputs": [
        {
          "output_type": "stream",
          "text": [
            "\n",
            "  0%|          | 0/25 [00:00<?, ?it/s]\u001b[A"
          ],
          "name": "stderr"
        },
        {
          "output_type": "stream",
          "text": [
            "Attack(\n",
            "  (search_method): ParticleSwarmOptimization(\n",
            "    (pop_size):  10\n",
            "    (max_iters):  5\n",
            "    (post_turn_check):  True\n",
            "    (max_turn_retries):  20\n",
            "  )\n",
            "  (goal_function):  UntargetedClassification\n",
            "  (transformation):  Swapper__\n",
            "  (constraints): \n",
            "    (0): PartOfSpeech(\n",
            "        (tagger_type):  nltk\n",
            "        (tagset):  universal\n",
            "        (allow_verb_noun_swap):  True\n",
            "        (compare_against_original):  True\n",
            "      )\n",
            "  (is_black_box):  True\n",
            ")\n"
          ],
          "name": "stdout"
        },
        {
          "output_type": "display_data",
          "data": {
            "text/html": [
              "<font color = red>Not_duplicate (99%)</font> --> <font color = green>Duplicate (59%)</font><br><font color = bold><font color = underline>Question1</font></font>: Why <font color = red>are</font> African-Americans so beautiful?\n",
              "<font color = bold><font color = underline>Question2</font></font>: Why <font color = red>are</font> hispanics so <font color = red>beautiful</font>?<br><font color = bold><font color = underline>Question1</font></font>: Why <font color = green>washerwomen</font> African-Americans so beautiful?\n",
              "<font color = bold><font color = underline>Question2</font></font>: Why <font color = green>washerwomen</font> hispanics so <font color = green>girl</font>?"
            ],
            "text/plain": [
              "<IPython.core.display.HTML object>"
            ]
          },
          "metadata": {
            "tags": []
          }
        },
        {
          "output_type": "stream",
          "text": [
            "\n",
            "  4%|▍         | 1/25 [00:00<00:15,  1.54it/s]\u001b[A\n",
            "[Succeeded / Failed / Total] 1 / 0 / 1:   4%|▍         | 1/25 [00:00<00:15,  1.52it/s]\u001b[A"
          ],
          "name": "stderr"
        },
        {
          "output_type": "display_data",
          "data": {
            "text/html": [
              "<font color = red>Not_duplicate (100%)</font> --> <font color = red>[FAILED]</font><br><font color = bold><font color = underline>Question1</font></font>: I want to pursue PhD in Computer Science about social network,what is the open problem in social networks?\n",
              "<font color = bold><font color = underline>Question2</font></font>: I handle social media for a non-profit. Should I start going to social media networking events? Are there any good ones in the bay area?"
            ],
            "text/plain": [
              "<IPython.core.display.HTML object>"
            ]
          },
          "metadata": {
            "tags": []
          }
        },
        {
          "output_type": "stream",
          "text": [
            "\n",
            "[Succeeded / Failed / Total] 1 / 0 / 1:   8%|▊         | 2/25 [00:26<05:04, 13.23s/it]\u001b[A\n",
            "[Succeeded / Failed / Total] 1 / 1 / 2:   8%|▊         | 2/25 [00:26<05:04, 13.24s/it]\u001b[A"
          ],
          "name": "stderr"
        },
        {
          "output_type": "display_data",
          "data": {
            "text/html": [
              "<font color = green>Duplicate (92%)</font> --> <font color = red>Not_duplicate (100%)</font><br><font color = bold><font color = underline>Question1</font></font>: Is <font color = green>there</font> a reason why we should travel alone?\n",
              "<font color = bold><font color = underline>Question2</font></font>: What are some reasons to travel alone?<br><font color = bold><font color = underline>Question1</font></font>: Is <font color = red>syslisp</font> a reason why we should travel alone?\n",
              "<font color = bold><font color = underline>Question2</font></font>: What are some reasons to travel alone?"
            ],
            "text/plain": [
              "<IPython.core.display.HTML object>"
            ]
          },
          "metadata": {
            "tags": []
          }
        },
        {
          "output_type": "stream",
          "text": [
            "\n",
            "[Succeeded / Failed / Total] 1 / 1 / 2:  12%|█▏        | 3/25 [00:26<03:17,  8.97s/it]\u001b[A\n",
            "[Succeeded / Failed / Total] 2 / 1 / 3:  12%|█▏        | 3/25 [00:26<03:17,  8.97s/it]\u001b[A"
          ],
          "name": "stderr"
        },
        {
          "output_type": "display_data",
          "data": {
            "text/html": [
              "<font color = red>Not_duplicate (100%)</font> --> <font color = red>[FAILED]</font><br><font color = bold><font color = underline>Question1</font></font>: Why are people so obsessed with having a girlfriend/boyfriend?\n",
              "<font color = bold><font color = underline>Question2</font></font>: How can a single male have a child?"
            ],
            "text/plain": [
              "<IPython.core.display.HTML object>"
            ]
          },
          "metadata": {
            "tags": []
          }
        },
        {
          "output_type": "stream",
          "text": [
            "\n",
            "[Succeeded / Failed / Total] 2 / 1 / 3:  16%|█▌        | 4/25 [00:38<03:23,  9.71s/it]\u001b[A\n",
            "[Succeeded / Failed / Total] 2 / 2 / 4:  16%|█▌        | 4/25 [00:38<03:23,  9.71s/it]\u001b[A"
          ],
          "name": "stderr"
        },
        {
          "output_type": "display_data",
          "data": {
            "text/html": [
              "<font color = red>Not_duplicate (99%)</font> --> <font color = red>[FAILED]</font><br><font color = bold><font color = underline>Question1</font></font>: What are some good baby girl names starting with D?\n",
              "<font color = bold><font color = underline>Question2</font></font>: What are some good baby girl names starting with D or H?"
            ],
            "text/plain": [
              "<IPython.core.display.HTML object>"
            ]
          },
          "metadata": {
            "tags": []
          }
        },
        {
          "output_type": "stream",
          "text": [
            "\n",
            "[Succeeded / Failed / Total] 2 / 2 / 4:  20%|██        | 5/25 [00:47<03:08,  9.45s/it]\u001b[A\n",
            "[Succeeded / Failed / Total] 2 / 3 / 5:  20%|██        | 5/25 [00:47<03:09,  9.45s/it]\u001b[A"
          ],
          "name": "stderr"
        },
        {
          "output_type": "display_data",
          "data": {
            "text/html": [
              "<font color = green>Duplicate (97%)</font> --> <font color = red>Not_duplicate (96%)</font><br><font color = bold><font color = underline>Question1</font></font>: I am 25 year old guy and <font color = green>never</font> had a <font color = green>girlfriend</font>. Is this weird?\n",
              "<font color = bold><font color = underline>Question2</font></font>: I am 25 years old. I have never had a girlfriend. Is something wrong with me?<br><font color = bold><font color = underline>Question1</font></font>: I am 25 year old guy and <font color = red>actually</font> had a <font color = red>boyfriend</font>. Is this weird?\n",
              "<font color = bold><font color = underline>Question2</font></font>: I am 25 years old. I have never had a girlfriend. Is something wrong with me?"
            ],
            "text/plain": [
              "<IPython.core.display.HTML object>"
            ]
          },
          "metadata": {
            "tags": []
          }
        },
        {
          "output_type": "stream",
          "text": [
            "\n",
            "[Succeeded / Failed / Total] 2 / 3 / 5:  24%|██▍       | 6/25 [00:50<02:39,  8.37s/it]\u001b[A\n",
            "[Succeeded / Failed / Total] 3 / 3 / 6:  24%|██▍       | 6/25 [00:50<02:39,  8.37s/it]\u001b[A"
          ],
          "name": "stderr"
        },
        {
          "output_type": "display_data",
          "data": {
            "text/html": [
              "<font color = green>Duplicate (60%)</font> --> <font color = red>Not_duplicate (100%)</font><br><font color = bold><font color = underline>Question1</font></font>: \"What does a good <font color = green>answer</font> on Quora look like? What does it mean to \"\"be helpful\"\"?\"\n",
              "<font color = bold><font color = underline>Question2</font></font>: How do you write a good answer on Quora?<br><font color = bold><font color = underline>Question1</font></font>: \"What does a good <font color = red>questions</font> on Quora look like? What does it mean to \"\"be helpful\"\"?\"\n",
              "<font color = bold><font color = underline>Question2</font></font>: How do you write a good answer on Quora?"
            ],
            "text/plain": [
              "<IPython.core.display.HTML object>"
            ]
          },
          "metadata": {
            "tags": []
          }
        },
        {
          "output_type": "stream",
          "text": [
            "\n",
            "[Succeeded / Failed / Total] 3 / 3 / 6:  28%|██▊       | 7/25 [00:50<02:10,  7.28s/it]\u001b[A\n",
            "[Succeeded / Failed / Total] 4 / 3 / 7:  28%|██▊       | 7/25 [00:50<02:11,  7.28s/it]\u001b[A"
          ],
          "name": "stderr"
        },
        {
          "output_type": "display_data",
          "data": {
            "text/html": [
              "<font color = green>Duplicate (58%)</font> --> <font color = red>Not_duplicate (100%)</font><br><font color = bold><font color = underline>Question1</font></font>: What are the best things to do in Hong Kong?\n",
              "<font color = bold><font color = underline>Question2</font></font>: What <font color = green>is</font> the best thing in Hong Kong?<br><font color = bold><font color = underline>Question1</font></font>: What are the best things to do in Hong Kong?\n",
              "<font color = bold><font color = underline>Question2</font></font>: What <font color = red>polylogarithm</font> the best thing in Hong Kong?"
            ],
            "text/plain": [
              "<IPython.core.display.HTML object>"
            ]
          },
          "metadata": {
            "tags": []
          }
        },
        {
          "output_type": "stream",
          "text": [
            "\n",
            "[Succeeded / Failed / Total] 4 / 3 / 7:  32%|███▏      | 8/25 [00:51<01:48,  6.41s/it]\u001b[A\n",
            "[Succeeded / Failed / Total] 5 / 3 / 8:  32%|███▏      | 8/25 [00:51<01:49,  6.41s/it]\u001b[A"
          ],
          "name": "stderr"
        },
        {
          "output_type": "display_data",
          "data": {
            "text/html": [
              "<font color = green>Duplicate (88%)</font> --> <font color = gray>[SKIPPED]</font><br><font color = bold><font color = underline>Question1</font></font>: Why is my life getting so complicated?\n",
              "<font color = bold><font color = underline>Question2</font></font>: Why is my life so complicated?"
            ],
            "text/plain": [
              "<IPython.core.display.HTML object>"
            ]
          },
          "metadata": {
            "tags": []
          }
        },
        {
          "output_type": "stream",
          "text": [
            "\n",
            "[Succeeded / Failed / Total] 5 / 3 / 9:  36%|███▌      | 9/25 [00:51<01:31,  5.70s/it]\u001b[A"
          ],
          "name": "stderr"
        },
        {
          "output_type": "display_data",
          "data": {
            "text/html": [
              "<font color = red>Not_duplicate (100%)</font> --> <font color = red>[FAILED]</font><br><font color = bold><font color = underline>Question1</font></font>: Why should I crack Jee?\n",
              "<font color = bold><font color = underline>Question2</font></font>: Is it possible to get into IIMs with low marks in graduation and 12th?"
            ],
            "text/plain": [
              "<IPython.core.display.HTML object>"
            ]
          },
          "metadata": {
            "tags": []
          }
        },
        {
          "output_type": "stream",
          "text": [
            "\n",
            "[Succeeded / Failed / Total] 5 / 3 / 9:  40%|████      | 10/25 [01:01<01:31,  6.11s/it]\u001b[A\n",
            "[Succeeded / Failed / Total] 5 / 4 / 10:  40%|████      | 10/25 [01:01<01:31,  6.11s/it]\u001b[A"
          ],
          "name": "stderr"
        },
        {
          "output_type": "display_data",
          "data": {
            "text/html": [
              "<font color = red>Not_duplicate (99%)</font> --> <font color = red>[FAILED]</font><br><font color = bold><font color = underline>Question1</font></font>: Can you TRANSLATE these to English language?\n",
              "<font color = bold><font color = underline>Question2</font></font>: Can you translate this from Bengali to English language?"
            ],
            "text/plain": [
              "<IPython.core.display.HTML object>"
            ]
          },
          "metadata": {
            "tags": []
          }
        },
        {
          "output_type": "stream",
          "text": [
            "\n",
            "[Succeeded / Failed / Total] 5 / 5 / 11:  44%|████▍     | 11/25 [01:05<01:23,  5.96s/it]\u001b[A\n",
            "[Succeeded / Failed / Total] 5 / 5 / 11:  44%|████▍     | 11/25 [01:13<01:33,  6.69s/it]\u001b[A"
          ],
          "name": "stderr"
        },
        {
          "output_type": "display_data",
          "data": {
            "text/html": [
              "<font color = red>Not_duplicate (100%)</font> --> <font color = red>[FAILED]</font><br><font color = bold><font color = underline>Question1</font></font>: Can anyone tell shall mi mix mobile should be purchased or not?\n",
              "<font color = bold><font color = underline>Question2</font></font>: \"What did Voltaire mean when he said, \"\"God is a comedian playing to an audience that is too afraid to laugh\"\"?\""
            ],
            "text/plain": [
              "<IPython.core.display.HTML object>"
            ]
          },
          "metadata": {
            "tags": []
          }
        },
        {
          "output_type": "stream",
          "text": [
            "\n",
            "[Succeeded / Failed / Total] 5 / 5 / 11:  48%|████▊     | 12/25 [01:40<01:48,  8.33s/it]\u001b[A\n",
            "[Succeeded / Failed / Total] 5 / 6 / 12:  48%|████▊     | 12/25 [01:40<01:48,  8.33s/it]\u001b[A"
          ],
          "name": "stderr"
        },
        {
          "output_type": "display_data",
          "data": {
            "text/html": [
              "<font color = green>Duplicate (97%)</font> --> <font color = red>Not_duplicate (100%)</font><br><font color = bold><font color = underline>Question1</font></font>: Which <font color = green>is</font> the best gaming laptop under 40k?\n",
              "<font color = bold><font color = underline>Question2</font></font>: Which is the best gaming laptop under 40,000 rs?<br><font color = bold><font color = underline>Question1</font></font>: Which <font color = red>polylogarithm</font> the best gaming laptop under 40k?\n",
              "<font color = bold><font color = underline>Question2</font></font>: Which is the best gaming laptop under 40,000 rs?"
            ],
            "text/plain": [
              "<IPython.core.display.HTML object>"
            ]
          },
          "metadata": {
            "tags": []
          }
        },
        {
          "output_type": "stream",
          "text": [
            "\n",
            "[Succeeded / Failed / Total] 5 / 6 / 12:  52%|█████▏    | 13/25 [01:40<01:32,  7.72s/it]\u001b[A\n",
            "[Succeeded / Failed / Total] 6 / 6 / 13:  52%|█████▏    | 13/25 [01:40<01:32,  7.72s/it]\u001b[A"
          ],
          "name": "stderr"
        },
        {
          "output_type": "display_data",
          "data": {
            "text/html": [
              "<font color = red>Not_duplicate (100%)</font> --> <font color = red>[FAILED]</font><br><font color = bold><font color = underline>Question1</font></font>: Why Tamil Nadu Universities are no good?\n",
              "<font color = bold><font color = underline>Question2</font></font>: Why are the 10th students able to score 100% in Tamil Nadu?"
            ],
            "text/plain": [
              "<IPython.core.display.HTML object>"
            ]
          },
          "metadata": {
            "tags": []
          }
        },
        {
          "output_type": "stream",
          "text": [
            "\n",
            "[Succeeded / Failed / Total] 6 / 6 / 13:  56%|█████▌    | 14/25 [01:48<01:25,  7.75s/it]\u001b[A\n",
            "[Succeeded / Failed / Total] 6 / 7 / 14:  56%|█████▌    | 14/25 [01:48<01:25,  7.75s/it]\u001b[A"
          ],
          "name": "stderr"
        },
        {
          "output_type": "display_data",
          "data": {
            "text/html": [
              "<font color = red>Not_duplicate (100%)</font> --> <font color = red>[FAILED]</font><br><font color = bold><font color = underline>Question1</font></font>: What is an easy way to clean toothpaste stains from a shirt without washing it?\n",
              "<font color = bold><font color = underline>Question2</font></font>: What are some ways to remove hard water stains from dishes?"
            ],
            "text/plain": [
              "<IPython.core.display.HTML object>"
            ]
          },
          "metadata": {
            "tags": []
          }
        },
        {
          "output_type": "stream",
          "text": [
            "\n",
            "[Succeeded / Failed / Total] 6 / 7 / 14:  60%|██████    | 15/25 [02:10<01:27,  8.70s/it]\u001b[A\n",
            "[Succeeded / Failed / Total] 6 / 8 / 15:  60%|██████    | 15/25 [02:10<01:27,  8.70s/it]\u001b[A"
          ],
          "name": "stderr"
        },
        {
          "output_type": "display_data",
          "data": {
            "text/html": [
              "<font color = green>Duplicate (84%)</font> --> <font color = red>Not_duplicate (100%)</font><br><font color = bold><font color = underline>Question1</font></font>: What was the deadliest <font color = green>battle</font> in history?\n",
              "<font color = bold><font color = underline>Question2</font></font>: What was the bloodiest battle in history?<br><font color = bold><font color = underline>Question1</font></font>: What was the deadliest <font color = red>agincourt</font> in history?\n",
              "<font color = bold><font color = underline>Question2</font></font>: What was the bloodiest battle in history?"
            ],
            "text/plain": [
              "<IPython.core.display.HTML object>"
            ]
          },
          "metadata": {
            "tags": []
          }
        },
        {
          "output_type": "stream",
          "text": [
            "\n",
            "[Succeeded / Failed / Total] 6 / 8 / 15:  64%|██████▍   | 16/25 [02:10<01:13,  8.18s/it]\u001b[A\n",
            "[Succeeded / Failed / Total] 7 / 8 / 16:  64%|██████▍   | 16/25 [02:10<01:13,  8.18s/it]\u001b[A"
          ],
          "name": "stderr"
        },
        {
          "output_type": "display_data",
          "data": {
            "text/html": [
              "<font color = green>Duplicate (100%)</font> --> <font color = red>Not_duplicate (87%)</font><br><font color = bold><font color = underline>Question1</font></font>: What <font color = green>are</font> <font color = green>your</font> <font color = green>views</font> about demonetisation in India?\n",
              "<font color = bold><font color = underline>Question2</font></font>: What do you think about the ban on 500 and 1000 denomination notes in India?<br><font color = bold><font color = underline>Question1</font></font>: What <font color = red>coppersmiths</font> <font color = red>my</font> <font color = red>beliefs</font> about demonetisation in India?\n",
              "<font color = bold><font color = underline>Question2</font></font>: What do you think about the ban on 500 and 1000 denomination notes in India?"
            ],
            "text/plain": [
              "<IPython.core.display.HTML object>"
            ]
          },
          "metadata": {
            "tags": []
          }
        },
        {
          "output_type": "stream",
          "text": [
            "\n",
            "[Succeeded / Failed / Total] 7 / 8 / 16:  68%|██████▊   | 17/25 [02:12<01:02,  7.82s/it]\u001b[A\n",
            "[Succeeded / Failed / Total] 8 / 8 / 17:  68%|██████▊   | 17/25 [02:13<01:02,  7.82s/it]\u001b[A"
          ],
          "name": "stderr"
        },
        {
          "output_type": "display_data",
          "data": {
            "text/html": [
              "<font color = red>Not_duplicate (100%)</font> --> <font color = green>Duplicate (76%)</font><br><font color = bold><font color = underline>Question1</font></font>: What <font color = red>are</font> the <font color = red>difference</font> between polyester 210T and 210D?\n",
              "<font color = bold><font color = underline>Question2</font></font>: What is the <font color = red>difference</font> between <font color = red>cotton</font> and polyester?<br><font color = bold><font color = underline>Question1</font></font>: What <font color = green>washerwomen</font> the <font color = green>electronegativity</font> between polyester 210T and 210D?\n",
              "<font color = bold><font color = underline>Question2</font></font>: What is the <font color = green>alternation</font> between <font color = green>tobacco</font> and polyester?"
            ],
            "text/plain": [
              "<IPython.core.display.HTML object>"
            ]
          },
          "metadata": {
            "tags": []
          }
        },
        {
          "output_type": "stream",
          "text": [
            "\n",
            "[Succeeded / Failed / Total] 8 / 8 / 17:  72%|███████▏  | 18/25 [02:16<00:52,  7.57s/it]\u001b[A\n",
            "[Succeeded / Failed / Total] 9 / 8 / 18:  72%|███████▏  | 18/25 [02:16<00:52,  7.57s/it]\u001b[A"
          ],
          "name": "stderr"
        },
        {
          "output_type": "display_data",
          "data": {
            "text/html": [
              "<font color = red>Not_duplicate (92%)</font> --> <font color = green>Duplicate (58%)</font><br><font color = bold><font color = underline>Question1</font></font>: Is FMS Delhi a good <font color = red>option</font> for a MBA executive program?\n",
              "<font color = bold><font color = underline>Question2</font></font>: Is FMS a good <font color = red>choice</font> for an MBA in HR? Why and why not?<br><font color = bold><font color = underline>Question1</font></font>: Is FMS Delhi a good <font color = green>dhcp</font> for a MBA executive program?\n",
              "<font color = bold><font color = underline>Question2</font></font>: Is FMS a good <font color = green>uhijini</font> for an MBA in HR? Why and why not?"
            ],
            "text/plain": [
              "<IPython.core.display.HTML object>"
            ]
          },
          "metadata": {
            "tags": []
          }
        },
        {
          "output_type": "stream",
          "text": [
            "\n",
            "[Succeeded / Failed / Total] 9 / 8 / 18:  76%|███████▌  | 19/25 [02:19<00:43,  7.32s/it]\u001b[A\n",
            "[Succeeded / Failed / Total] 10 / 8 / 19:  76%|███████▌  | 19/25 [02:19<00:43,  7.32s/it]\u001b[A"
          ],
          "name": "stderr"
        },
        {
          "output_type": "display_data",
          "data": {
            "text/html": [
              "<font color = green>Duplicate (57%)</font> --> <font color = red>Not_duplicate (99%)</font><br><font color = bold><font color = underline>Question1</font></font>: Is it a bad time to buy a condo or a house in the Bay Area in 2017?\n",
              "<font color = bold><font color = underline>Question2</font></font>: Would 2017 be a good time to buy a <font color = green>house</font> in Bay Area?<br><font color = bold><font color = underline>Question1</font></font>: Is it a bad time to buy a condo or a house in the Bay Area in 2017?\n",
              "<font color = bold><font color = underline>Question2</font></font>: Would 2017 be a good time to buy a <font color = red>ajidica</font> in Bay Area?"
            ],
            "text/plain": [
              "<IPython.core.display.HTML object>"
            ]
          },
          "metadata": {
            "tags": []
          }
        },
        {
          "output_type": "stream",
          "text": [
            "\n",
            "[Succeeded / Failed / Total] 10 / 8 / 19:  80%|████████  | 20/25 [02:19<00:34,  7.00s/it]\u001b[A\n",
            "[Succeeded / Failed / Total] 11 / 8 / 20:  80%|████████  | 20/25 [02:19<00:34,  7.00s/it]\u001b[A"
          ],
          "name": "stderr"
        },
        {
          "output_type": "display_data",
          "data": {
            "text/html": [
              "<font color = red>Not_duplicate (100%)</font> --> <font color = red>[FAILED]</font><br><font color = bold><font color = underline>Question1</font></font>: How is vanilla extract made?\n",
              "<font color = bold><font color = underline>Question2</font></font>: How do you make sugar cookies without vanilla extract?"
            ],
            "text/plain": [
              "<IPython.core.display.HTML object>"
            ]
          },
          "metadata": {
            "tags": []
          }
        },
        {
          "output_type": "stream",
          "text": [
            "\n",
            "[Succeeded / Failed / Total] 11 / 8 / 20:  84%|████████▍ | 21/25 [02:30<00:28,  7.16s/it]\u001b[A\n",
            "[Succeeded / Failed / Total] 11 / 9 / 21:  84%|████████▍ | 21/25 [02:30<00:28,  7.16s/it]\u001b[A"
          ],
          "name": "stderr"
        },
        {
          "output_type": "display_data",
          "data": {
            "text/html": [
              "<font color = green>Duplicate (100%)</font> --> <font color = red>Not_duplicate (96%)</font><br><font color = bold><font color = underline>Question1</font></font>: What is the Sahara, and how do the average <font color = green>temperatures</font> there compare to the ones in the Patagonian Desert?\n",
              "<font color = bold><font color = underline>Question2</font></font>: What is the Sahara, and how do the average <font color = green>temperatures</font> there compare to the ones in the Registan Desert?<br><font color = bold><font color = underline>Question1</font></font>: What is the Sahara, and how do the average <font color = red>voltages</font> there compare to the ones in the Patagonian Desert?\n",
              "<font color = bold><font color = underline>Question2</font></font>: What is the Sahara, and how do the average <font color = red>pressures</font> there compare to the ones in the Registan Desert?"
            ],
            "text/plain": [
              "<IPython.core.display.HTML object>"
            ]
          },
          "metadata": {
            "tags": []
          }
        },
        {
          "output_type": "stream",
          "text": [
            "\n",
            "[Succeeded / Failed / Total] 11 / 9 / 21:  88%|████████▊ | 22/25 [02:33<00:20,  6.98s/it]\u001b[A\n",
            "[Succeeded / Failed / Total] 12 / 9 / 22:  88%|████████▊ | 22/25 [02:33<00:20,  6.98s/it]\u001b[A"
          ],
          "name": "stderr"
        },
        {
          "output_type": "display_data",
          "data": {
            "text/html": [
              "<font color = red>Not_duplicate (100%)</font> --> <font color = red>[FAILED]</font><br><font color = bold><font color = underline>Question1</font></font>: Why was the Roman Empire so successful?\n",
              "<font color = bold><font color = underline>Question2</font></font>: What are some of the rarely known facts about the Roman Empire?"
            ],
            "text/plain": [
              "<IPython.core.display.HTML object>"
            ]
          },
          "metadata": {
            "tags": []
          }
        },
        {
          "output_type": "stream",
          "text": [
            "\n",
            "[Succeeded / Failed / Total] 12 / 9 / 22:  92%|█████████▏| 23/25 [02:38<00:13,  6.91s/it]\u001b[A\n",
            "[Succeeded / Failed / Total] 12 / 10 / 23:  92%|█████████▏| 23/25 [02:38<00:13,  6.91s/it]\u001b[A"
          ],
          "name": "stderr"
        },
        {
          "output_type": "display_data",
          "data": {
            "text/html": [
              "<font color = red>Not_duplicate (97%)</font> --> <font color = green>Duplicate (55%)</font><br><font color = bold><font color = underline>Question1</font></font>: Is it <font color = red>advisable</font> to sent <font color = red>your</font> cv to a professor with whom you are trying to make contact for graduate admission?\n",
              "<font color = bold><font color = underline>Question2</font></font>: How <font color = red>does</font> contacting a professor before <font color = red>applying</font> factor into graduate admissions?<br><font color = bold><font color = underline>Question1</font></font>: Is it <font color = green>unwise</font> to sent <font color = green>my</font> cv to a professor with whom you are trying to make contact for graduate admission?\n",
              "<font color = bold><font color = underline>Question2</font></font>: How <font color = green>thoil</font> contacting a professor before <font color = green>solving</font> factor into graduate admissions?"
            ],
            "text/plain": [
              "<IPython.core.display.HTML object>"
            ]
          },
          "metadata": {
            "tags": []
          }
        },
        {
          "output_type": "stream",
          "text": [
            "\n",
            "[Succeeded / Failed / Total] 12 / 10 / 23:  96%|█████████▌| 24/25 [02:57<00:07,  7.41s/it]\u001b[A\n",
            "[Succeeded / Failed / Total] 13 / 10 / 24:  96%|█████████▌| 24/25 [02:57<00:07,  7.41s/it]\u001b[A"
          ],
          "name": "stderr"
        },
        {
          "output_type": "display_data",
          "data": {
            "text/html": [
              "<font color = red>Not_duplicate (100%)</font> --> <font color = red>[FAILED]</font><br><font color = bold><font color = underline>Question1</font></font>: Does a RainTPL syntax extension for Sublime Text exist? Where can I download it?\n",
              "<font color = bold><font color = underline>Question2</font></font>: How do I hide the find/replace bar in Sublime Text 2?"
            ],
            "text/plain": [
              "<IPython.core.display.HTML object>"
            ]
          },
          "metadata": {
            "tags": []
          }
        },
        {
          "output_type": "stream",
          "text": [
            "\n",
            "[Succeeded / Failed / Total] 13 / 10 / 24: 100%|██████████| 25/25 [03:08<00:00,  7.54s/it]\u001b[A\n",
            "[Succeeded / Failed / Total] 13 / 11 / 25: 100%|██████████| 25/25 [03:08<00:00,  7.54s/it]\u001b[A"
          ],
          "name": "stderr"
        },
        {
          "output_type": "display_data",
          "data": {
            "text/html": [
              "<font color = red>Not_duplicate (100%)</font> --> <font color = green>Duplicate (74%)</font><br><font color = bold><font color = underline>Question1</font></font>: What is the average <font color = red>salary</font> of a microbiologist in India?\n",
              "<font color = bold><font color = underline>Question2</font></font>: What is the <font color = red>salary</font> for a <font color = red>psychologist</font> in <font color = red>india</font>?<br><font color = bold><font color = underline>Question1</font></font>: What is the average <font color = green>infant</font> of a microbiologist in India?\n",
              "<font color = bold><font color = underline>Question2</font></font>: What is the <font color = green>infant</font> for a <font color = green>zoologist</font> in <font color = green>pakistan</font>?"
            ],
            "text/plain": [
              "<IPython.core.display.HTML object>"
            ]
          },
          "metadata": {
            "tags": []
          }
        },
        {
          "output_type": "stream",
          "text": [
            "\n",
            "[Succeeded / Failed / Total] 13 / 11 / 25: : 26it [03:11,  7.35s/it]                      \u001b[A\n",
            "[Succeeded / Failed / Total] 14 / 11 / 26: : 26it [03:11,  7.35s/it]"
          ],
          "name": "stderr"
        },
        {
          "output_type": "stream",
          "text": [
            "+-------------------------------+--------+\n",
            "| Attack Results                |        |\n",
            "+-------------------------------+--------+\n",
            "| Number of successful attacks: | 14     |\n",
            "| Number of failed attacks:     | 11     |\n",
            "| Number of skipped attacks:    | 1      |\n",
            "| Original accuracy:            | 96.15% |\n",
            "| Accuracy under attack:        | 42.31% |\n",
            "| Attack success rate:          | 56.0%  |\n",
            "| Average perturbed word %:     | 10.84% |\n",
            "| Average num. words per input: | 22.5   |\n",
            "| Avg num queries:              | 251.64 |\n",
            "+-------------------------------+--------+"
          ],
          "name": "stdout"
        },
        {
          "output_type": "stream",
          "text": [
            "\n",
            "\u001b[34;1mtextattack\u001b[0m: Attack time: 191.17765712738037s\n"
          ],
          "name": "stderr"
        }
      ]
    },
    {
      "cell_type": "code",
      "metadata": {
        "id": "PDxxIItFhgBB"
      },
      "source": [
        ""
      ],
      "execution_count": null,
      "outputs": []
    }
  ]
}