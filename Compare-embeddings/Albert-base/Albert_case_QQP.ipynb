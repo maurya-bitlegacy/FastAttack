{
  "nbformat": 4,
  "nbformat_minor": 0,
  "metadata": {
    "colab": {
      "name": "Albert_case_QQP.ipynb",
      "provenance": [],
      "collapsed_sections": [],
      "toc_visible": true
    },
    "kernelspec": {
      "name": "python3",
      "display_name": "Python 3"
    },
    "language_info": {
      "name": "python"
    },
    "accelerator": "GPU"
  },
  "cells": [
    {
      "cell_type": "code",
      "metadata": {
        "colab": {
          "base_uri": "https://localhost:8080/"
        },
        "id": "Tjsl5_TPD5p-",
        "outputId": "83a3683d-8f63-4b5f-81b7-055c79ab0e39"
      },
      "source": [
        "from google.colab import drive\n",
        "drive.mount('/content/drive')"
      ],
      "execution_count": 1,
      "outputs": [
        {
          "output_type": "stream",
          "text": [
            "Drive already mounted at /content/drive; to attempt to forcibly remount, call drive.mount(\"/content/drive\", force_remount=True).\n"
          ],
          "name": "stdout"
        }
      ]
    },
    {
      "cell_type": "markdown",
      "metadata": {
        "id": "35YsotQWRREJ"
      },
      "source": [
        "#Installing libraries"
      ]
    },
    {
      "cell_type": "code",
      "metadata": {
        "id": "hZeIFn6iC9FF",
        "colab": {
          "base_uri": "https://localhost:8080/"
        },
        "outputId": "16496603-4a38-4a30-bbdf-6101e4964e23"
      },
      "source": [
        "!pip install textattack\n",
        "!pip install -U gensim==4.0.0\n",
        "!pip install python-Levenshtein"
      ],
      "execution_count": 2,
      "outputs": [
        {
          "output_type": "stream",
          "text": [
            "Requirement already satisfied: textattack in /usr/local/lib/python3.7/dist-packages (0.2.15)\n",
            "Requirement already satisfied: bert-score>=0.3.5 in /usr/local/lib/python3.7/dist-packages (from textattack) (0.3.9)\n",
            "Requirement already satisfied: datasets in /usr/local/lib/python3.7/dist-packages (from textattack) (1.6.2)\n",
            "Requirement already satisfied: transformers>=3.3.0 in /usr/local/lib/python3.7/dist-packages (from textattack) (4.5.1)\n",
            "Requirement already satisfied: torch in /usr/local/lib/python3.7/dist-packages (from textattack) (1.8.1+cu101)\n",
            "Requirement already satisfied: language-tool-python in /usr/local/lib/python3.7/dist-packages (from textattack) (2.5.3)\n",
            "Requirement already satisfied: num2words in /usr/local/lib/python3.7/dist-packages (from textattack) (0.5.10)\n",
            "Requirement already satisfied: editdistance in /usr/local/lib/python3.7/dist-packages (from textattack) (0.5.3)\n",
            "Requirement already satisfied: numpy<1.19.0 in /usr/local/lib/python3.7/dist-packages (from textattack) (1.18.5)\n",
            "Requirement already satisfied: more-itertools in /usr/local/lib/python3.7/dist-packages (from textattack) (8.7.0)\n",
            "Requirement already satisfied: lru-dict in /usr/local/lib/python3.7/dist-packages (from textattack) (1.1.7)\n",
            "Requirement already satisfied: scipy==1.4.1 in /usr/local/lib/python3.7/dist-packages (from textattack) (1.4.1)\n",
            "Requirement already satisfied: terminaltables in /usr/local/lib/python3.7/dist-packages (from textattack) (3.1.0)\n",
            "Requirement already satisfied: nltk in /usr/local/lib/python3.7/dist-packages (from textattack) (3.2.5)\n",
            "Requirement already satisfied: PySocks!=1.5.7,>=1.5.6 in /usr/local/lib/python3.7/dist-packages (from textattack) (1.7.1)\n",
            "Requirement already satisfied: pandas>=1.0.1 in /usr/local/lib/python3.7/dist-packages (from textattack) (1.1.5)\n",
            "Requirement already satisfied: tqdm<4.50.0,>=4.27 in /usr/local/lib/python3.7/dist-packages (from textattack) (4.41.1)\n",
            "Requirement already satisfied: filelock in /usr/local/lib/python3.7/dist-packages (from textattack) (3.0.12)\n",
            "Requirement already satisfied: word2number in /usr/local/lib/python3.7/dist-packages (from textattack) (1.1)\n",
            "Requirement already satisfied: lemminflect in /usr/local/lib/python3.7/dist-packages (from textattack) (0.2.2)\n",
            "Requirement already satisfied: flair==0.6.1.post1 in /usr/local/lib/python3.7/dist-packages (from textattack) (0.6.1.post1)\n",
            "Requirement already satisfied: requests in /usr/local/lib/python3.7/dist-packages (from bert-score>=0.3.5->textattack) (2.23.0)\n",
            "Requirement already satisfied: matplotlib in /usr/local/lib/python3.7/dist-packages (from bert-score>=0.3.5->textattack) (3.2.2)\n",
            "Requirement already satisfied: multiprocess in /usr/local/lib/python3.7/dist-packages (from datasets->textattack) (0.70.11.1)\n",
            "Requirement already satisfied: packaging in /usr/local/lib/python3.7/dist-packages (from datasets->textattack) (20.9)\n",
            "Requirement already satisfied: dill in /usr/local/lib/python3.7/dist-packages (from datasets->textattack) (0.3.3)\n",
            "Requirement already satisfied: xxhash in /usr/local/lib/python3.7/dist-packages (from datasets->textattack) (2.0.2)\n",
            "Requirement already satisfied: huggingface-hub<0.1.0 in /usr/local/lib/python3.7/dist-packages (from datasets->textattack) (0.0.8)\n",
            "Requirement already satisfied: pyarrow>=1.0.0<4.0.0 in /usr/local/lib/python3.7/dist-packages (from datasets->textattack) (3.0.0)\n",
            "Requirement already satisfied: importlib-metadata; python_version < \"3.8\" in /usr/local/lib/python3.7/dist-packages (from datasets->textattack) (3.10.1)\n",
            "Requirement already satisfied: fsspec in /usr/local/lib/python3.7/dist-packages (from datasets->textattack) (2021.4.0)\n",
            "Requirement already satisfied: tokenizers<0.11,>=0.10.1 in /usr/local/lib/python3.7/dist-packages (from transformers>=3.3.0->textattack) (0.10.2)\n",
            "Requirement already satisfied: regex!=2019.12.17 in /usr/local/lib/python3.7/dist-packages (from transformers>=3.3.0->textattack) (2019.12.20)\n",
            "Requirement already satisfied: sacremoses in /usr/local/lib/python3.7/dist-packages (from transformers>=3.3.0->textattack) (0.0.45)\n",
            "Requirement already satisfied: typing-extensions in /usr/local/lib/python3.7/dist-packages (from torch->textattack) (3.7.4.3)\n",
            "Requirement already satisfied: docopt>=0.6.2 in /usr/local/lib/python3.7/dist-packages (from num2words->textattack) (0.6.2)\n",
            "Requirement already satisfied: six in /usr/local/lib/python3.7/dist-packages (from nltk->textattack) (1.15.0)\n",
            "Requirement already satisfied: python-dateutil>=2.7.3 in /usr/local/lib/python3.7/dist-packages (from pandas>=1.0.1->textattack) (2.8.1)\n",
            "Requirement already satisfied: pytz>=2017.2 in /usr/local/lib/python3.7/dist-packages (from pandas>=1.0.1->textattack) (2018.9)\n",
            "Requirement already satisfied: gdown in /usr/local/lib/python3.7/dist-packages (from flair==0.6.1.post1->textattack) (3.6.4)\n",
            "Requirement already satisfied: janome in /usr/local/lib/python3.7/dist-packages (from flair==0.6.1.post1->textattack) (0.4.1)\n",
            "Requirement already satisfied: gensim>=3.4.0 in /usr/local/lib/python3.7/dist-packages (from flair==0.6.1.post1->textattack) (4.0.0)\n",
            "Requirement already satisfied: scikit-learn>=0.21.3 in /usr/local/lib/python3.7/dist-packages (from flair==0.6.1.post1->textattack) (0.22.2.post1)\n",
            "Requirement already satisfied: mpld3==0.3 in /usr/local/lib/python3.7/dist-packages (from flair==0.6.1.post1->textattack) (0.3)\n",
            "Requirement already satisfied: ftfy in /usr/local/lib/python3.7/dist-packages (from flair==0.6.1.post1->textattack) (6.0.1)\n",
            "Requirement already satisfied: tabulate in /usr/local/lib/python3.7/dist-packages (from flair==0.6.1.post1->textattack) (0.8.9)\n",
            "Requirement already satisfied: lxml in /usr/local/lib/python3.7/dist-packages (from flair==0.6.1.post1->textattack) (4.2.6)\n",
            "Requirement already satisfied: segtok>=1.5.7 in /usr/local/lib/python3.7/dist-packages (from flair==0.6.1.post1->textattack) (1.5.10)\n",
            "Requirement already satisfied: bpemb>=0.3.2 in /usr/local/lib/python3.7/dist-packages (from flair==0.6.1.post1->textattack) (0.3.3)\n",
            "Requirement already satisfied: konoha<5.0.0,>=4.0.0 in /usr/local/lib/python3.7/dist-packages (from flair==0.6.1.post1->textattack) (4.6.4)\n",
            "Requirement already satisfied: hyperopt>=0.1.1 in /usr/local/lib/python3.7/dist-packages (from flair==0.6.1.post1->textattack) (0.1.2)\n",
            "Requirement already satisfied: deprecated>=1.2.4 in /usr/local/lib/python3.7/dist-packages (from flair==0.6.1.post1->textattack) (1.2.12)\n",
            "Requirement already satisfied: sentencepiece!=0.1.92 in /usr/local/lib/python3.7/dist-packages (from flair==0.6.1.post1->textattack) (0.1.95)\n",
            "Requirement already satisfied: sqlitedict>=1.6.0 in /usr/local/lib/python3.7/dist-packages (from flair==0.6.1.post1->textattack) (1.7.0)\n",
            "Requirement already satisfied: langdetect in /usr/local/lib/python3.7/dist-packages (from flair==0.6.1.post1->textattack) (1.0.9)\n",
            "Requirement already satisfied: certifi>=2017.4.17 in /usr/local/lib/python3.7/dist-packages (from requests->bert-score>=0.3.5->textattack) (2020.12.5)\n",
            "Requirement already satisfied: urllib3!=1.25.0,!=1.25.1,<1.26,>=1.21.1 in /usr/local/lib/python3.7/dist-packages (from requests->bert-score>=0.3.5->textattack) (1.24.3)\n",
            "Requirement already satisfied: idna<3,>=2.5 in /usr/local/lib/python3.7/dist-packages (from requests->bert-score>=0.3.5->textattack) (2.10)\n",
            "Requirement already satisfied: chardet<4,>=3.0.2 in /usr/local/lib/python3.7/dist-packages (from requests->bert-score>=0.3.5->textattack) (3.0.4)\n",
            "Requirement already satisfied: pyparsing!=2.0.4,!=2.1.2,!=2.1.6,>=2.0.1 in /usr/local/lib/python3.7/dist-packages (from matplotlib->bert-score>=0.3.5->textattack) (2.4.7)\n",
            "Requirement already satisfied: cycler>=0.10 in /usr/local/lib/python3.7/dist-packages (from matplotlib->bert-score>=0.3.5->textattack) (0.10.0)\n",
            "Requirement already satisfied: kiwisolver>=1.0.1 in /usr/local/lib/python3.7/dist-packages (from matplotlib->bert-score>=0.3.5->textattack) (1.3.1)\n",
            "Requirement already satisfied: zipp>=0.5 in /usr/local/lib/python3.7/dist-packages (from importlib-metadata; python_version < \"3.8\"->datasets->textattack) (3.4.1)\n",
            "Requirement already satisfied: joblib in /usr/local/lib/python3.7/dist-packages (from sacremoses->transformers>=3.3.0->textattack) (1.0.1)\n",
            "Requirement already satisfied: click in /usr/local/lib/python3.7/dist-packages (from sacremoses->transformers>=3.3.0->textattack) (7.1.2)\n",
            "Requirement already satisfied: smart-open>=1.8.1 in /usr/local/lib/python3.7/dist-packages (from gensim>=3.4.0->flair==0.6.1.post1->textattack) (5.0.0)\n",
            "Requirement already satisfied: wcwidth in /usr/local/lib/python3.7/dist-packages (from ftfy->flair==0.6.1.post1->textattack) (0.2.5)\n",
            "Requirement already satisfied: overrides<4.0.0,>=3.0.0 in /usr/local/lib/python3.7/dist-packages (from konoha<5.0.0,>=4.0.0->flair==0.6.1.post1->textattack) (3.1.0)\n",
            "Requirement already satisfied: future in /usr/local/lib/python3.7/dist-packages (from hyperopt>=0.1.1->flair==0.6.1.post1->textattack) (0.16.0)\n",
            "Requirement already satisfied: networkx in /usr/local/lib/python3.7/dist-packages (from hyperopt>=0.1.1->flair==0.6.1.post1->textattack) (2.5.1)\n",
            "Requirement already satisfied: pymongo in /usr/local/lib/python3.7/dist-packages (from hyperopt>=0.1.1->flair==0.6.1.post1->textattack) (3.11.3)\n",
            "Requirement already satisfied: wrapt<2,>=1.10 in /usr/local/lib/python3.7/dist-packages (from deprecated>=1.2.4->flair==0.6.1.post1->textattack) (1.12.1)\n",
            "Requirement already satisfied: decorator<5,>=4.3 in /usr/local/lib/python3.7/dist-packages (from networkx->hyperopt>=0.1.1->flair==0.6.1.post1->textattack) (4.4.2)\n",
            "Requirement already up-to-date: gensim==4.0.0 in /usr/local/lib/python3.7/dist-packages (4.0.0)\n",
            "Requirement already satisfied, skipping upgrade: scipy>=0.18.1 in /usr/local/lib/python3.7/dist-packages (from gensim==4.0.0) (1.4.1)\n",
            "Requirement already satisfied, skipping upgrade: smart-open>=1.8.1 in /usr/local/lib/python3.7/dist-packages (from gensim==4.0.0) (5.0.0)\n",
            "Requirement already satisfied, skipping upgrade: numpy>=1.11.3 in /usr/local/lib/python3.7/dist-packages (from gensim==4.0.0) (1.18.5)\n",
            "Requirement already satisfied: python-Levenshtein in /usr/local/lib/python3.7/dist-packages (0.12.2)\n",
            "Requirement already satisfied: setuptools in /usr/local/lib/python3.7/dist-packages (from python-Levenshtein) (56.0.0)\n"
          ],
          "name": "stdout"
        }
      ]
    },
    {
      "cell_type": "code",
      "metadata": {
        "id": "XbSBo02xDGO2"
      },
      "source": [
        "# import gensim.downloader as api\n",
        "# corpus = api.load('text8')\n",
        "# from gensim.models.fasttext import FastText\n",
        "# model1 = FastText(corpus, sample = 0, sg = 1)"
      ],
      "execution_count": 3,
      "outputs": []
    },
    {
      "cell_type": "code",
      "metadata": {
        "id": "jLiSrpmTErOs"
      },
      "source": [
        "# import gensim.downloader as api\n",
        "# corpus = api.load('text8')\n",
        "# from gensim.models.word2vec import Word2Vec\n",
        "# model2 = Word2Vec(corpus, sample = 0, sg = 1)"
      ],
      "execution_count": 4,
      "outputs": []
    },
    {
      "cell_type": "markdown",
      "metadata": {
        "id": "d-SeQSyZRVZk"
      },
      "source": [
        "# Loading FastText, Word2Vec and Glove"
      ]
    },
    {
      "cell_type": "code",
      "metadata": {
        "id": "ZCLiyaHYDBk1"
      },
      "source": [
        "from gensim.test.utils import get_tmpfile\n",
        "from gensim.models.fasttext import FastText\n",
        "#fname = get_tmpfile(\"/models/fasttext.model\") \n",
        "model1 = FastText.load(\"/content/drive/MyDrive/models/fasttext.model\") # Change this location"
      ],
      "execution_count": 5,
      "outputs": []
    },
    {
      "cell_type": "code",
      "metadata": {
        "id": "e4jwSL5YDvPy"
      },
      "source": [
        "from gensim.test.utils import get_tmpfile\n",
        "from gensim.models.word2vec import Word2Vec\n",
        "#fname1 = get_tmpfile(\"/models/word2vec.model\") \n",
        "model2 = Word2Vec.load(\"/content/drive/MyDrive/models/word2vec.model\") # Change this location"
      ],
      "execution_count": 6,
      "outputs": []
    },
    {
      "cell_type": "code",
      "metadata": {
        "id": "NC2kXo7wLsAd"
      },
      "source": [
        "from gensim.models import KeyedVectors\n",
        "model3=KeyedVectors.load('/content/drive/MyDrive/models/gloveKeyVectors.kv')"
      ],
      "execution_count": 7,
      "outputs": []
    },
    {
      "cell_type": "markdown",
      "metadata": {
        "id": "aTtS6UrJRc4S"
      },
      "source": [
        "Example demonstration"
      ]
    },
    {
      "cell_type": "code",
      "metadata": {
        "id": "l1xXXw5tFbuM",
        "colab": {
          "base_uri": "https://localhost:8080/"
        },
        "outputId": "02f937df-a383-425b-d7cb-9d7240759ffa"
      },
      "source": [
        "print(model1.wv.most_similar('cat'))\n",
        "print(model2.wv.most_similar('cat'))\n",
        "print(model3.most_similar('cat'))"
      ],
      "execution_count": 8,
      "outputs": [
        {
          "output_type": "stream",
          "text": [
            "[('bobcat', 0.759185791015625), ('dog', 0.7208123803138733), ('foxglove', 0.7110776901245117), ('pig', 0.7088143229484558), ('goose', 0.7069101333618164), ('cats', 0.702387273311615), ('beak', 0.7008379697799683), ('catfish', 0.6987316608428955), ('foxhound', 0.696578860282898), ('catnip', 0.6960986852645874)]\n",
            "[('dog', 0.7193913459777832), ('squirrel', 0.696162760257721), ('leopardus', 0.6945451498031616), ('prionailurus', 0.688106894493103), ('albino', 0.6880608201026917), ('bird', 0.6836060285568237), ('eared', 0.6803243160247803), ('rhinoceros', 0.6769237518310547), ('hyena', 0.6756084561347961), ('badger', 0.6752869486808777)]\n",
            "[('cats', 0.7006820440292358), ('dog', 0.698471188545227), ('dogs', 0.6442825198173523), ('tervueren', 0.619421660900116), ('laekenois', 0.5972026586532593), ('lica', 0.5956287980079651), ('feral', 0.5899650454521179), ('goat', 0.5861616134643555), ('fish', 0.5746133327484131), ('malinois', 0.5737614631652832)]\n"
          ],
          "name": "stdout"
        }
      ]
    },
    {
      "cell_type": "code",
      "metadata": {
        "colab": {
          "base_uri": "https://localhost:8080/"
        },
        "id": "Z0RyPQdKNH2u",
        "outputId": "89ff0b45-f72c-4efd-ef74-92cf576b5cbc"
      },
      "source": [
        "if 'cat' in model3.key_to_index:\n",
        "  print('present')"
      ],
      "execution_count": 9,
      "outputs": [
        {
          "output_type": "stream",
          "text": [
            "present\n"
          ],
          "name": "stdout"
        }
      ]
    },
    {
      "cell_type": "markdown",
      "metadata": {
        "id": "0h_EeHEKRhYs"
      },
      "source": [
        "# Albert Base QQP"
      ]
    },
    {
      "cell_type": "code",
      "metadata": {
        "id": "QfecgI6BExUJ"
      },
      "source": [
        "# Import the model\n",
        "import transformers\n",
        "from textattack.models.tokenizers import AutoTokenizer\n",
        "from textattack.models.wrappers import HuggingFaceModelWrapper\n",
        "\n",
        "model = transformers.AutoModelForSequenceClassification.from_pretrained(\"textattack/albert-base-v2-QQP\")\n",
        "tokenizer = AutoTokenizer(\"textattack/albert-base-v2-QQP\")\n",
        "# Change these\n",
        "\n",
        "model_wrapper = HuggingFaceModelWrapper(model, tokenizer)"
      ],
      "execution_count": 10,
      "outputs": []
    },
    {
      "cell_type": "markdown",
      "metadata": {
        "id": "HPj8fvaOFDAD"
      },
      "source": [
        "# Framing fasttext attack"
      ]
    },
    {
      "cell_type": "code",
      "metadata": {
        "id": "SHezFH9jE3Z2"
      },
      "source": [
        "from textattack.transformations import WordSwap\n",
        "\n",
        "class Swapper(WordSwap): # For fasttext\n",
        "    \"\"\" Transforms an input by replacing any word with its most similar counterpart\n",
        "    \"\"\"\n",
        "\n",
        "    # We don't need a constructor, since our class doesn't require any parameters.\n",
        "\n",
        "    def _get_replacement_words(self, word):\n",
        "        for i in range(10):\n",
        "            if word.lower() in model1.wv.most_similar(word)[i][0].lower():\n",
        "                continue # Don't return the exact word\n",
        "            elif word.isupper():\n",
        "                return [model1.wv.most_similar(word)[i][0].upper()] # Preserving case\n",
        "            elif word[0].isupper():\n",
        "                return [model1.wv.most_similar(word)[i][0].capitalize()] # Preserving Capitalization in words\n",
        "            else:\n",
        "                return [model1.wv.most_similar(word)[i][0]]\n",
        "            \n",
        "        return [model1.wv.most_similar(word)[0][0]]"
      ],
      "execution_count": 11,
      "outputs": []
    },
    {
      "cell_type": "code",
      "metadata": {
        "id": "GHt_A9Sril_j"
      },
      "source": [
        "def printexample(attack):\n",
        "  print(attack)\n",
        "  from collections import deque\n",
        "\n",
        "  import textattack\n",
        "  import tqdm\n",
        "  import time\n",
        "  from IPython.display import display, HTML\n",
        "  num_examples = 25\n",
        "  num_remaining_attacks = num_examples\n",
        "  pbar = tqdm.tqdm(total=num_remaining_attacks, smoothing=0)\n",
        "\n",
        "  worklist = deque(range(0, num_examples))\n",
        "  worklist_tail = worklist[-1]\n",
        "\n",
        "  attack_log_manager = textattack.loggers.AttackLogManager()\n",
        "\n",
        "  load_time = time.time()\n",
        "        \n",
        "  num_results = 0\n",
        "  num_failures = 0\n",
        "  num_successes = 0\n",
        "  for result in attack.attack_dataset(dataset, indices=worklist):\n",
        "      result_html_str = result.__str__(color_method=\"html\").replace(\"\\n\\n\", \"<br>\")\n",
        "      display(HTML(result_html_str))\n",
        "      attack_log_manager.log_result(result)\n",
        "            \n",
        "      if not isinstance(result, textattack.attack_results.SkippedAttackResult):\n",
        "          pbar.update(1)\n",
        "      else:\n",
        "          worklist_tail += 1\n",
        "          pbar.update(1)\n",
        "          worklist.append(worklist_tail)\n",
        "\n",
        "      num_results += 1\n",
        "\n",
        "      if (type(result) == textattack.attack_results.SuccessfulAttackResult\n",
        "        or type(result) == textattack.attack_results.MaximizedAttackResult):\n",
        "          num_successes += 1\n",
        "                \n",
        "      if type(result) == textattack.attack_results.FailedAttackResult:\n",
        "          num_failures += 1\n",
        "      pbar.set_description(\n",
        "          \"[Succeeded / Failed / Total] {} / {} / {}\".format(\n",
        "            num_successes, num_failures, num_results\n",
        "        )\n",
        "      )\n",
        "\n",
        "  pbar.close()\n",
        "\n",
        "  attack_log_manager.enable_stdout()\n",
        "  attack_log_manager.log_summary()\n",
        "  attack_log_manager.flush()\n",
        "        \n",
        "  textattack.shared.logger.info(f\"Attack time: {time.time() - load_time}s\")"
      ],
      "execution_count": 12,
      "outputs": []
    },
    {
      "cell_type": "code",
      "metadata": {
        "id": "Sm04Ri8WFGHy",
        "colab": {
          "base_uri": "https://localhost:8080/"
        },
        "outputId": "00c5431b-70c6-477a-b0d5-50da75dce5ba"
      },
      "source": [
        "from textattack.search_methods import GreedySearch\n",
        "from textattack.constraints.pre_transformation import RepeatModification, StopwordModification\n",
        "from textattack.shared import Attack\n",
        "from textattack.goal_functions import UntargetedClassification\n",
        "from textattack.datasets import HuggingFaceDataset\n",
        "\n",
        "# We're going to use our word swap class as the attack transformation.\n",
        "transformation = Swapper()\n",
        "\n",
        "constraints = [RepeatModification(),\n",
        "               StopwordModification()]\n",
        "\n",
        "search_method = GreedySearch()\n",
        "\n",
        "goal_function = UntargetedClassification(model_wrapper)\n",
        "\n",
        "# Now, let's make the attack from the 4 components:\n",
        "attack = Attack(goal_function, constraints, transformation, search_method)\n",
        "\n",
        "dataset = HuggingFaceDataset(\"glue\", \"qqp\", \"validation\") # Change the dataset"
      ],
      "execution_count": 13,
      "outputs": [
        {
          "output_type": "stream",
          "text": [
            "\u001b[34;1mtextattack\u001b[0m: Unknown if model of class <class 'transformers.models.albert.modeling_albert.AlbertForSequenceClassification'> compatible with goal function <class 'textattack.goal_functions.classification.untargeted_classification.UntargetedClassification'>.\n",
            "Reusing dataset glue (/root/.cache/huggingface/datasets/glue/qqp/1.0.0/dacbe3125aa31d7f70367a07a8a9e72a5a0bfeb5fc42e75c9db75b96da6053ad)\n",
            "\u001b[34;1mtextattack\u001b[0m: Loading \u001b[94mdatasets\u001b[0m dataset \u001b[94mglue\u001b[0m, subset \u001b[94mqqp\u001b[0m, split \u001b[94mvalidation\u001b[0m.\n"
          ],
          "name": "stderr"
        }
      ]
    },
    {
      "cell_type": "code",
      "metadata": {
        "id": "a578fNbVFII3",
        "colab": {
          "base_uri": "https://localhost:8080/"
        },
        "outputId": "ea5a8712-e9f3-4bbe-a591-7b5ab1c86b4c"
      },
      "source": [
        "print(attack)"
      ],
      "execution_count": 14,
      "outputs": [
        {
          "output_type": "stream",
          "text": [
            "Attack(\n",
            "  (search_method): GreedySearch\n",
            "  (goal_function):  UntargetedClassification\n",
            "  (transformation):  Swapper\n",
            "  (constraints): \n",
            "    (0): RepeatModification\n",
            "    (1): StopwordModification\n",
            "  (is_black_box):  True\n",
            ")\n"
          ],
          "name": "stdout"
        }
      ]
    },
    {
      "cell_type": "code",
      "metadata": {
        "id": "fClGtuFxFM5f",
        "colab": {
          "base_uri": "https://localhost:8080/",
          "height": 1000
        },
        "outputId": "23a9000a-95ab-4985-8a3d-759901bf48cc"
      },
      "source": [
        "printexample(attack)"
      ],
      "execution_count": 15,
      "outputs": [
        {
          "output_type": "stream",
          "text": [
            "\r  0%|          | 0/25 [00:00<?, ?it/s]"
          ],
          "name": "stderr"
        },
        {
          "output_type": "stream",
          "text": [
            "Attack(\n",
            "  (search_method): GreedySearch\n",
            "  (goal_function):  UntargetedClassification\n",
            "  (transformation):  Swapper\n",
            "  (constraints): \n",
            "    (0): RepeatModification\n",
            "    (1): StopwordModification\n",
            "  (is_black_box):  True\n",
            ")\n"
          ],
          "name": "stdout"
        },
        {
          "output_type": "display_data",
          "data": {
            "text/html": [
              "<font color = red>Not_duplicate (89%)</font> --> <font color = red>[FAILED]</font><br><font color = bold><font color = underline>Question1</font></font>: Why are African-Americans so beautiful?\n",
              "<font color = bold><font color = underline>Question2</font></font>: Why are hispanics so beautiful?"
            ],
            "text/plain": [
              "<IPython.core.display.HTML object>"
            ]
          },
          "metadata": {
            "tags": []
          }
        },
        {
          "output_type": "stream",
          "text": [
            "[Succeeded / Failed / Total] 0 / 1 / 1:   4%|▍         | 1/25 [00:00<00:19,  1.23it/s]"
          ],
          "name": "stderr"
        },
        {
          "output_type": "display_data",
          "data": {
            "text/html": [
              "<font color = red>Not_duplicate (100%)</font> --> <font color = red>[FAILED]</font><br><font color = bold><font color = underline>Question1</font></font>: I want to pursue PhD in Computer Science about social network,what is the open problem in social networks?\n",
              "<font color = bold><font color = underline>Question2</font></font>: I handle social media for a non-profit. Should I start going to social media networking events? Are there any good ones in the bay area?"
            ],
            "text/plain": [
              "<IPython.core.display.HTML object>"
            ]
          },
          "metadata": {
            "tags": []
          }
        },
        {
          "output_type": "stream",
          "text": [
            "[Succeeded / Failed / Total] 0 / 2 / 2:   8%|▊         | 2/25 [00:13<02:35,  6.74s/it]"
          ],
          "name": "stderr"
        },
        {
          "output_type": "display_data",
          "data": {
            "text/html": [
              "<font color = green>Duplicate (97%)</font> --> <font color = red>Not_duplicate (81%)</font><br><font color = bold><font color = underline>Question1</font></font>: Is there a reason why we should travel alone?\n",
              "<font color = bold><font color = underline>Question2</font></font>: <font color = green>What</font> are some reasons to travel alone?<br><font color = bold><font color = underline>Question1</font></font>: Is there a reason why we should travel alone?\n",
              "<font color = bold><font color = underline>Question2</font></font>: <font color = red>Hihat</font> are some reasons to travel alone?"
            ],
            "text/plain": [
              "<IPython.core.display.HTML object>"
            ]
          },
          "metadata": {
            "tags": []
          }
        },
        {
          "output_type": "stream",
          "text": [
            "[Succeeded / Failed / Total] 1 / 2 / 3:  12%|█▏        | 3/25 [00:13<01:40,  4.58s/it]"
          ],
          "name": "stderr"
        },
        {
          "output_type": "display_data",
          "data": {
            "text/html": [
              "<font color = red>Not_duplicate (100%)</font> --> <font color = red>[FAILED]</font><br><font color = bold><font color = underline>Question1</font></font>: Why are people so obsessed with having a girlfriend/boyfriend?\n",
              "<font color = bold><font color = underline>Question2</font></font>: How can a single male have a child?"
            ],
            "text/plain": [
              "<IPython.core.display.HTML object>"
            ]
          },
          "metadata": {
            "tags": []
          }
        },
        {
          "output_type": "stream",
          "text": [
            "[Succeeded / Failed / Total] 1 / 3 / 4:  16%|█▌        | 4/25 [00:15<01:19,  3.77s/it]"
          ],
          "name": "stderr"
        },
        {
          "output_type": "display_data",
          "data": {
            "text/html": [
              "<font color = red>Not_duplicate (81%)</font> --> <font color = green>Duplicate (94%)</font><br><font color = bold><font color = underline>Question1</font></font>: What are some good baby girl names starting with D?\n",
              "<font color = bold><font color = underline>Question2</font></font>: What are some good baby girl names starting with D or <font color = red>H</font>?<br><font color = bold><font color = underline>Question1</font></font>: What are some good baby girl names starting with D?\n",
              "<font color = bold><font color = underline>Question2</font></font>: What are some good baby girl names starting with D or <font color = green>QUE</font>?"
            ],
            "text/plain": [
              "<IPython.core.display.HTML object>"
            ]
          },
          "metadata": {
            "tags": []
          }
        },
        {
          "output_type": "stream",
          "text": [
            "[Succeeded / Failed / Total] 2 / 3 / 5:  20%|██        | 5/25 [00:15<01:01,  3.10s/it]"
          ],
          "name": "stderr"
        },
        {
          "output_type": "display_data",
          "data": {
            "text/html": [
              "<font color = green>Duplicate (96%)</font> --> <font color = red>Not_duplicate (85%)</font><br><font color = bold><font color = underline>Question1</font></font>: I am <font color = green>25</font> year old guy and never had a girlfriend. Is this weird?\n",
              "<font color = bold><font color = underline>Question2</font></font>: I am 25 years old. I have never had a girlfriend. Is something wrong with me?<br><font color = bold><font color = underline>Question1</font></font>: I am <font color = red>chmielnicki</font> year old guy and never had a girlfriend. Is this weird?\n",
              "<font color = bold><font color = underline>Question2</font></font>: I am 25 years old. I have never had a girlfriend. Is something wrong with me?"
            ],
            "text/plain": [
              "<IPython.core.display.HTML object>"
            ]
          },
          "metadata": {
            "tags": []
          }
        },
        {
          "output_type": "stream",
          "text": [
            "[Succeeded / Failed / Total] 3 / 3 / 6:  24%|██▍       | 6/25 [00:15<00:50,  2.66s/it]"
          ],
          "name": "stderr"
        },
        {
          "output_type": "display_data",
          "data": {
            "text/html": [
              "<font color = red>Not_duplicate (100%)</font> --> <font color = gray>[SKIPPED]</font><br><font color = bold><font color = underline>Question1</font></font>: \"What does a good answer on Quora look like? What does it mean to \"\"be helpful\"\"?\"\n",
              "<font color = bold><font color = underline>Question2</font></font>: How do you write a good answer on Quora?"
            ],
            "text/plain": [
              "<IPython.core.display.HTML object>"
            ]
          },
          "metadata": {
            "tags": []
          }
        },
        {
          "output_type": "stream",
          "text": [
            "\r[Succeeded / Failed / Total] 3 / 3 / 7:  28%|██▊       | 7/25 [00:16<00:41,  2.29s/it]"
          ],
          "name": "stderr"
        },
        {
          "output_type": "display_data",
          "data": {
            "text/html": [
              "<font color = green>Duplicate (82%)</font> --> <font color = red>Not_duplicate (100%)</font><br><font color = bold><font color = underline>Question1</font></font>: What are the best things to do in Hong Kong?\n",
              "<font color = bold><font color = underline>Question2</font></font>: <font color = green>What</font> is the best thing in Hong Kong?<br><font color = bold><font color = underline>Question1</font></font>: What are the best things to do in Hong Kong?\n",
              "<font color = bold><font color = underline>Question2</font></font>: <font color = red>Hihat</font> is the best thing in Hong Kong?"
            ],
            "text/plain": [
              "<IPython.core.display.HTML object>"
            ]
          },
          "metadata": {
            "tags": []
          }
        },
        {
          "output_type": "stream",
          "text": [
            "[Succeeded / Failed / Total] 4 / 3 / 8:  32%|███▏      | 8/25 [00:16<00:34,  2.03s/it]"
          ],
          "name": "stderr"
        },
        {
          "output_type": "display_data",
          "data": {
            "text/html": [
              "<font color = green>Duplicate (54%)</font> --> <font color = gray>[SKIPPED]</font><br><font color = bold><font color = underline>Question1</font></font>: Why is my life getting so complicated?\n",
              "<font color = bold><font color = underline>Question2</font></font>: Why is my life so complicated?"
            ],
            "text/plain": [
              "<IPython.core.display.HTML object>"
            ]
          },
          "metadata": {
            "tags": []
          }
        },
        {
          "output_type": "stream",
          "text": [
            "\r[Succeeded / Failed / Total] 4 / 3 / 9:  36%|███▌      | 9/25 [00:16<00:28,  1.81s/it]"
          ],
          "name": "stderr"
        },
        {
          "output_type": "display_data",
          "data": {
            "text/html": [
              "<font color = red>Not_duplicate (100%)</font> --> <font color = red>[FAILED]</font><br><font color = bold><font color = underline>Question1</font></font>: Why should I crack Jee?\n",
              "<font color = bold><font color = underline>Question2</font></font>: Is it possible to get into IIMs with low marks in graduation and 12th?"
            ],
            "text/plain": [
              "<IPython.core.display.HTML object>"
            ]
          },
          "metadata": {
            "tags": []
          }
        },
        {
          "output_type": "stream",
          "text": [
            "[Succeeded / Failed / Total] 4 / 4 / 10:  40%|████      | 10/25 [00:18<00:27,  1.82s/it]"
          ],
          "name": "stderr"
        },
        {
          "output_type": "display_data",
          "data": {
            "text/html": [
              "<font color = red>Not_duplicate (100%)</font> --> <font color = red>[FAILED]</font><br><font color = bold><font color = underline>Question1</font></font>: Can you TRANSLATE these to English language?\n",
              "<font color = bold><font color = underline>Question2</font></font>: Can you translate this from Bengali to English language?"
            ],
            "text/plain": [
              "<IPython.core.display.HTML object>"
            ]
          },
          "metadata": {
            "tags": []
          }
        },
        {
          "output_type": "stream",
          "text": [
            "\r[Succeeded / Failed / Total] 4 / 5 / 11:  44%|████▍     | 11/25 [00:19<00:24,  1.76s/it]"
          ],
          "name": "stderr"
        },
        {
          "output_type": "display_data",
          "data": {
            "text/html": [
              "<font color = red>Not_duplicate (100%)</font> --> <font color = red>[FAILED]</font><br><font color = bold><font color = underline>Question1</font></font>: Can anyone tell shall mi mix mobile should be purchased or not?\n",
              "<font color = bold><font color = underline>Question2</font></font>: \"What did Voltaire mean when he said, \"\"God is a comedian playing to an audience that is too afraid to laugh\"\"?\""
            ],
            "text/plain": [
              "<IPython.core.display.HTML object>"
            ]
          },
          "metadata": {
            "tags": []
          }
        },
        {
          "output_type": "stream",
          "text": [
            "[Succeeded / Failed / Total] 4 / 6 / 12:  48%|████▊     | 12/25 [00:23<00:25,  1.98s/it]"
          ],
          "name": "stderr"
        },
        {
          "output_type": "display_data",
          "data": {
            "text/html": [
              "<font color = green>Duplicate (100%)</font> --> <font color = red>Not_duplicate (100%)</font><br><font color = bold><font color = underline>Question1</font></font>: Which is the best gaming laptop under <font color = green>40k</font>?\n",
              "<font color = bold><font color = underline>Question2</font></font>: Which is the best gaming laptop under 40,000 rs?<br><font color = bold><font color = underline>Question1</font></font>: Which is the best gaming laptop under <font color = red>asexually</font>?\n",
              "<font color = bold><font color = underline>Question2</font></font>: Which is the best gaming laptop under 40,000 rs?"
            ],
            "text/plain": [
              "<IPython.core.display.HTML object>"
            ]
          },
          "metadata": {
            "tags": []
          }
        },
        {
          "output_type": "stream",
          "text": [
            "\r[Succeeded / Failed / Total] 5 / 6 / 13:  52%|█████▏    | 13/25 [00:24<00:22,  1.85s/it]"
          ],
          "name": "stderr"
        },
        {
          "output_type": "display_data",
          "data": {
            "text/html": [
              "<font color = red>Not_duplicate (100%)</font> --> <font color = red>[FAILED]</font><br><font color = bold><font color = underline>Question1</font></font>: Why Tamil Nadu Universities are no good?\n",
              "<font color = bold><font color = underline>Question2</font></font>: Why are the 10th students able to score 100% in Tamil Nadu?"
            ],
            "text/plain": [
              "<IPython.core.display.HTML object>"
            ]
          },
          "metadata": {
            "tags": []
          }
        },
        {
          "output_type": "stream",
          "text": [
            "[Succeeded / Failed / Total] 5 / 7 / 14:  56%|█████▌    | 14/25 [00:26<00:20,  1.90s/it]"
          ],
          "name": "stderr"
        },
        {
          "output_type": "display_data",
          "data": {
            "text/html": [
              "<font color = red>Not_duplicate (100%)</font> --> <font color = red>[FAILED]</font><br><font color = bold><font color = underline>Question1</font></font>: What is an easy way to clean toothpaste stains from a shirt without washing it?\n",
              "<font color = bold><font color = underline>Question2</font></font>: What are some ways to remove hard water stains from dishes?"
            ],
            "text/plain": [
              "<IPython.core.display.HTML object>"
            ]
          },
          "metadata": {
            "tags": []
          }
        },
        {
          "output_type": "stream",
          "text": [
            "\r[Succeeded / Failed / Total] 5 / 8 / 15:  60%|██████    | 15/25 [00:30<00:20,  2.01s/it]"
          ],
          "name": "stderr"
        },
        {
          "output_type": "display_data",
          "data": {
            "text/html": [
              "<font color = green>Duplicate (89%)</font> --> <font color = red>Not_duplicate (100%)</font><br><font color = bold><font color = underline>Question1</font></font>: What was the deadliest <font color = green>battle</font> in history?\n",
              "<font color = bold><font color = underline>Question2</font></font>: What was the bloodiest battle in history?<br><font color = bold><font color = underline>Question1</font></font>: What was the deadliest <font color = red>battlezone</font> in history?\n",
              "<font color = bold><font color = underline>Question2</font></font>: What was the bloodiest battle in history?"
            ],
            "text/plain": [
              "<IPython.core.display.HTML object>"
            ]
          },
          "metadata": {
            "tags": []
          }
        },
        {
          "output_type": "stream",
          "text": [
            "[Succeeded / Failed / Total] 6 / 8 / 16:  64%|██████▍   | 16/25 [00:30<00:17,  1.90s/it]"
          ],
          "name": "stderr"
        },
        {
          "output_type": "display_data",
          "data": {
            "text/html": [
              "<font color = green>Duplicate (100%)</font> --> <font color = red>Not_duplicate (59%)</font><br><font color = bold><font color = underline>Question1</font></font>: What are your views about demonetisation in India?\n",
              "<font color = bold><font color = underline>Question2</font></font>: What do you think about the ban on 500 and <font color = green>1000</font> denomination notes in India?<br><font color = bold><font color = underline>Question1</font></font>: What are your views about demonetisation in India?\n",
              "<font color = bold><font color = underline>Question2</font></font>: What do you think about the ban on 500 and <font color = red>papadopoulos</font> denomination notes in India?"
            ],
            "text/plain": [
              "<IPython.core.display.HTML object>"
            ]
          },
          "metadata": {
            "tags": []
          }
        },
        {
          "output_type": "stream",
          "text": [
            "\r[Succeeded / Failed / Total] 7 / 8 / 17:  68%|██████▊   | 17/25 [00:30<00:14,  1.81s/it]"
          ],
          "name": "stderr"
        },
        {
          "output_type": "display_data",
          "data": {
            "text/html": [
              "<font color = red>Not_duplicate (100%)</font> --> <font color = red>[FAILED]</font><br><font color = bold><font color = underline>Question1</font></font>: What are the difference between polyester 210T and 210D?\n",
              "<font color = bold><font color = underline>Question2</font></font>: What is the difference between cotton and polyester?"
            ],
            "text/plain": [
              "<IPython.core.display.HTML object>"
            ]
          },
          "metadata": {
            "tags": []
          }
        },
        {
          "output_type": "stream",
          "text": [
            "[Succeeded / Failed / Total] 7 / 9 / 18:  72%|███████▏  | 18/25 [00:31<00:12,  1.78s/it]"
          ],
          "name": "stderr"
        },
        {
          "output_type": "display_data",
          "data": {
            "text/html": [
              "<font color = red>Not_duplicate (82%)</font> --> <font color = green>Duplicate (59%)</font><br><font color = bold><font color = underline>Question1</font></font>: Is FMS Delhi a good option for a MBA executive program?\n",
              "<font color = bold><font color = underline>Question2</font></font>: Is FMS a good <font color = red>choice</font> for an MBA in <font color = red>HR</font>? Why and why not?<br><font color = bold><font color = underline>Question1</font></font>: Is FMS Delhi a good option for a MBA executive program?\n",
              "<font color = bold><font color = underline>Question2</font></font>: Is FMS a good <font color = green>preference</font> for an MBA in <font color = green>GLORY</font>? Why and why not?"
            ],
            "text/plain": [
              "<IPython.core.display.HTML object>"
            ]
          },
          "metadata": {
            "tags": []
          }
        },
        {
          "output_type": "stream",
          "text": [
            "\r[Succeeded / Failed / Total] 8 / 9 / 19:  76%|███████▌  | 19/25 [00:32<00:10,  1.72s/it]"
          ],
          "name": "stderr"
        },
        {
          "output_type": "display_data",
          "data": {
            "text/html": [
              "<font color = red>Not_duplicate (63%)</font> --> <font color = gray>[SKIPPED]</font><br><font color = bold><font color = underline>Question1</font></font>: Is it a bad time to buy a condo or a house in the Bay Area in 2017?\n",
              "<font color = bold><font color = underline>Question2</font></font>: Would 2017 be a good time to buy a house in Bay Area?"
            ],
            "text/plain": [
              "<IPython.core.display.HTML object>"
            ]
          },
          "metadata": {
            "tags": []
          }
        },
        {
          "output_type": "stream",
          "text": [
            "[Succeeded / Failed / Total] 8 / 9 / 20:  80%|████████  | 20/25 [00:32<00:08,  1.64s/it]"
          ],
          "name": "stderr"
        },
        {
          "output_type": "display_data",
          "data": {
            "text/html": [
              "<font color = red>Not_duplicate (100%)</font> --> <font color = green>Duplicate (78%)</font><br><font color = bold><font color = underline>Question1</font></font>: <font color = red>How</font> is vanilla extract made?\n",
              "<font color = bold><font color = underline>Question2</font></font>: <font color = red>How</font> do you make sugar <font color = red>cookies</font> <font color = red>without</font> vanilla <font color = red>extract</font>?<br><font color = bold><font color = underline>Question1</font></font>: <font color = green>Kowtow</font> is vanilla extract made?\n",
              "<font color = bold><font color = underline>Question2</font></font>: <font color = green>Kowtow</font> do you make sugar <font color = green>cookie</font> <font color = green>any</font> vanilla <font color = green>extracode</font>?"
            ],
            "text/plain": [
              "<IPython.core.display.HTML object>"
            ]
          },
          "metadata": {
            "tags": []
          }
        },
        {
          "output_type": "stream",
          "text": [
            "\r[Succeeded / Failed / Total] 9 / 9 / 21:  84%|████████▍ | 21/25 [00:33<00:06,  1.62s/it]"
          ],
          "name": "stderr"
        },
        {
          "output_type": "display_data",
          "data": {
            "text/html": [
              "<font color = green>Duplicate (100%)</font> --> <font color = red>Not_duplicate (81%)</font><br><font color = bold><font color = underline>Question1</font></font>: What is the Sahara, and how do the average <font color = green>temperatures</font> there compare to the ones in the Patagonian Desert?\n",
              "<font color = bold><font color = underline>Question2</font></font>: What is the <font color = green>Sahara</font>, and how do the average temperatures there compare to the ones in the Registan Desert?<br><font color = bold><font color = underline>Question1</font></font>: What is the Sahara, and how do the average <font color = red>temperature</font> there compare to the ones in the Patagonian Desert?\n",
              "<font color = bold><font color = underline>Question2</font></font>: What is the <font color = red>Zahara</font>, and how do the average temperatures there compare to the ones in the Registan Desert?"
            ],
            "text/plain": [
              "<IPython.core.display.HTML object>"
            ]
          },
          "metadata": {
            "tags": []
          }
        },
        {
          "output_type": "stream",
          "text": [
            "[Succeeded / Failed / Total] 10 / 9 / 22:  88%|████████▊ | 22/25 [00:34<00:04,  1.58s/it]"
          ],
          "name": "stderr"
        },
        {
          "output_type": "display_data",
          "data": {
            "text/html": [
              "<font color = red>Not_duplicate (100%)</font> --> <font color = red>[FAILED]</font><br><font color = bold><font color = underline>Question1</font></font>: Why was the Roman Empire so successful?\n",
              "<font color = bold><font color = underline>Question2</font></font>: What are some of the rarely known facts about the Roman Empire?"
            ],
            "text/plain": [
              "<IPython.core.display.HTML object>"
            ]
          },
          "metadata": {
            "tags": []
          }
        },
        {
          "output_type": "stream",
          "text": [
            "\r[Succeeded / Failed / Total] 10 / 10 / 23:  92%|█████████▏| 23/25 [00:36<00:03,  1.57s/it]"
          ],
          "name": "stderr"
        },
        {
          "output_type": "display_data",
          "data": {
            "text/html": [
              "<font color = red>Not_duplicate (100%)</font> --> <font color = green>Duplicate (66%)</font><br><font color = bold><font color = underline>Question1</font></font>: <font color = red>Is</font> it <font color = red>advisable</font> to sent your cv to a professor with whom you are trying to make contact for graduate <font color = red>admission</font>?\n",
              "<font color = bold><font color = underline>Question2</font></font>: How does <font color = red>contacting</font> a professor before applying factor into graduate admissions?<br><font color = bold><font color = underline>Question1</font></font>: <font color = green>Larva</font> it <font color = green>disable</font> to sent your cv to a professor with whom you are trying to make contact for graduate <font color = green>admittance</font>?\n",
              "<font color = bold><font color = underline>Question2</font></font>: How does <font color = green>contact</font> a professor before applying factor into graduate admissions?"
            ],
            "text/plain": [
              "<IPython.core.display.HTML object>"
            ]
          },
          "metadata": {
            "tags": []
          }
        },
        {
          "output_type": "stream",
          "text": [
            "[Succeeded / Failed / Total] 11 / 10 / 24:  96%|█████████▌| 24/25 [00:37<00:01,  1.58s/it]"
          ],
          "name": "stderr"
        },
        {
          "output_type": "display_data",
          "data": {
            "text/html": [
              "<font color = red>Not_duplicate (100%)</font> --> <font color = red>[FAILED]</font><br><font color = bold><font color = underline>Question1</font></font>: Does a RainTPL syntax extension for Sublime Text exist? Where can I download it?\n",
              "<font color = bold><font color = underline>Question2</font></font>: How do I hide the find/replace bar in Sublime Text 2?"
            ],
            "text/plain": [
              "<IPython.core.display.HTML object>"
            ]
          },
          "metadata": {
            "tags": []
          }
        },
        {
          "output_type": "stream",
          "text": [
            "\r[Succeeded / Failed / Total] 11 / 11 / 25: 100%|██████████| 25/25 [00:42<00:00,  1.71s/it]"
          ],
          "name": "stderr"
        },
        {
          "output_type": "display_data",
          "data": {
            "text/html": [
              "<font color = red>Not_duplicate (99%)</font> --> <font color = red>[FAILED]</font><br><font color = bold><font color = underline>Question1</font></font>: What is the average salary of a microbiologist in India?\n",
              "<font color = bold><font color = underline>Question2</font></font>: What is the salary for a psychologist in india?"
            ],
            "text/plain": [
              "<IPython.core.display.HTML object>"
            ]
          },
          "metadata": {
            "tags": []
          }
        },
        {
          "output_type": "stream",
          "text": [
            "[Succeeded / Failed / Total] 11 / 12 / 26: : 26it [00:43,  1.69s/it]"
          ],
          "name": "stderr"
        },
        {
          "output_type": "display_data",
          "data": {
            "text/html": [
              "<font color = red>Not_duplicate (100%)</font> --> <font color = green>Duplicate (85%)</font><br><font color = bold><font color = underline>Question1</font></font>: How do you close a Bank of <font color = red>America</font> <font color = red>account</font>?\n",
              "<font color = bold><font color = underline>Question2</font></font>: How can one close a bank <font color = red>account</font> online?<br><font color = bold><font color = underline>Question1</font></font>: How do you close a Bank of <font color = green>Comerica</font> <font color = green>recount</font>?\n",
              "<font color = bold><font color = underline>Question2</font></font>: How can one close a bank <font color = green>recount</font> online?"
            ],
            "text/plain": [
              "<IPython.core.display.HTML object>"
            ]
          },
          "metadata": {
            "tags": []
          }
        },
        {
          "output_type": "stream",
          "text": [
            "\r[Succeeded / Failed / Total] 12 / 12 / 27: : 27it [00:44,  1.66s/it]"
          ],
          "name": "stderr"
        },
        {
          "output_type": "display_data",
          "data": {
            "text/html": [
              "<font color = red>Not_duplicate (71%)</font> --> <font color = green>Duplicate (90%)</font><br><font color = bold><font color = underline>Question1</font></font>: How can I create the most popular question on Quora?\n",
              "<font color = bold><font color = underline>Question2</font></font>: Which are the most popular questions on <font color = red>Quora</font> presently that also create the most discussions?<br><font color = bold><font color = underline>Question1</font></font>: How can I create the most popular question on Quora?\n",
              "<font color = bold><font color = underline>Question2</font></font>: Which are the most popular questions on <font color = green>Ora</font> presently that also create the most discussions?"
            ],
            "text/plain": [
              "<IPython.core.display.HTML object>"
            ]
          },
          "metadata": {
            "tags": []
          }
        },
        {
          "output_type": "stream",
          "text": [
            "[Succeeded / Failed / Total] 13 / 12 / 28: : 28it [00:45,  1.62s/it]"
          ],
          "name": "stderr"
        },
        {
          "output_type": "stream",
          "text": [
            "+-------------------------------+--------+\n",
            "| Attack Results                |        |\n",
            "+-------------------------------+--------+\n",
            "| Number of successful attacks: | 13     |\n",
            "| Number of failed attacks:     | 12     |\n",
            "| Number of skipped attacks:    | 3      |\n",
            "| Original accuracy:            | 89.29% |\n",
            "| Accuracy under attack:        | 42.86% |\n",
            "| Attack success rate:          | 52.0%  |\n",
            "| Average perturbed word %:     | 9.22%  |\n",
            "| Average num. words per input: | 22.39  |\n",
            "| Avg num queries:              | 68.28  |\n",
            "+-------------------------------+--------+"
          ],
          "name": "stdout"
        },
        {
          "output_type": "stream",
          "text": [
            "\n",
            "\u001b[34;1mtextattack\u001b[0m: Attack time: 45.2330002784729s\n"
          ],
          "name": "stderr"
        }
      ]
    },
    {
      "cell_type": "markdown",
      "metadata": {
        "id": "JjjKuY91FPqf"
      },
      "source": [
        "# Framing word2vec attack"
      ]
    },
    {
      "cell_type": "code",
      "metadata": {
        "id": "pp7L4aR6FRVP"
      },
      "source": [
        "from textattack.transformations import WordSwap\n",
        "\n",
        "class Swapper_(WordSwap): # For word2vec\n",
        "    \"\"\" Transforms an input by replacing any word with its most similar counterpart\n",
        "    \"\"\"\n",
        "\n",
        "    # We don't need a constructor, since our class doesn't require any parameters.\n",
        "\n",
        "    def _get_replacement_words(self, word):\n",
        "        \"\"\" Returns 'banana', no matter what 'word' was originally.\n",
        "\n",
        "            Returns a list with one item, since `_get_replacement_words` is intended to\n",
        "                return a list of candidate replacement words.\n",
        "        \"\"\"\n",
        "        if word in model2.wv.key_to_index:\n",
        "            for i in range(10):\n",
        "                if word.lower() in model2.wv.most_similar(word)[i][0].lower():\n",
        "                    continue\n",
        "                elif word.isupper():\n",
        "                    return [model2.wv.most_similar(word)[i][0].upper()]\n",
        "                elif word[0].isupper():\n",
        "                    return [model2.wv.most_similar(word)[i][0].capitalize()]\n",
        "                else:\n",
        "                    return [model2.wv.most_similar(word)[i][0]]\n",
        "        else:\n",
        "            return [word]"
      ],
      "execution_count": 16,
      "outputs": []
    },
    {
      "cell_type": "code",
      "metadata": {
        "id": "enY5C3DDBwlo",
        "colab": {
          "base_uri": "https://localhost:8080/"
        },
        "outputId": "7cc148fd-de79-41d2-8f4f-f6af6a8a96d6"
      },
      "source": [
        "from textattack.search_methods import GreedySearch\n",
        "from textattack.constraints.pre_transformation import RepeatModification, StopwordModification\n",
        "from textattack.shared import Attack\n",
        "from textattack.goal_functions import UntargetedClassification\n",
        "from textattack.datasets import HuggingFaceDataset\n",
        "\n",
        "# We're going to use our word swap class as the attack transformation.\n",
        "transformation = Swapper_()\n",
        "\n",
        "constraints = [RepeatModification(),\n",
        "               StopwordModification()]\n",
        "\n",
        "search_method = GreedySearch()\n",
        "\n",
        "goal_function = UntargetedClassification(model_wrapper)\n",
        "\n",
        "# Now, let's make the attack from the 4 components:\n",
        "attack = Attack(goal_function, constraints, transformation, search_method)\n",
        "\n",
        "dataset = HuggingFaceDataset(\"glue\", \"qqp\", \"validation\") # Change the dataset"
      ],
      "execution_count": 17,
      "outputs": [
        {
          "output_type": "stream",
          "text": [
            "\u001b[34;1mtextattack\u001b[0m: Unknown if model of class <class 'transformers.models.albert.modeling_albert.AlbertForSequenceClassification'> compatible with goal function <class 'textattack.goal_functions.classification.untargeted_classification.UntargetedClassification'>.\n",
            "Reusing dataset glue (/root/.cache/huggingface/datasets/glue/qqp/1.0.0/dacbe3125aa31d7f70367a07a8a9e72a5a0bfeb5fc42e75c9db75b96da6053ad)\n",
            "\u001b[34;1mtextattack\u001b[0m: Loading \u001b[94mdatasets\u001b[0m dataset \u001b[94mglue\u001b[0m, subset \u001b[94mqqp\u001b[0m, split \u001b[94mvalidation\u001b[0m.\n"
          ],
          "name": "stderr"
        }
      ]
    },
    {
      "cell_type": "code",
      "metadata": {
        "colab": {
          "base_uri": "https://localhost:8080/"
        },
        "id": "axfmmqOUlwtU",
        "outputId": "ba2fdbfc-d4dd-430e-ddd8-eb02204d14c2"
      },
      "source": [
        "print(attack)"
      ],
      "execution_count": 18,
      "outputs": [
        {
          "output_type": "stream",
          "text": [
            "Attack(\n",
            "  (search_method): GreedySearch\n",
            "  (goal_function):  UntargetedClassification\n",
            "  (transformation):  Swapper_\n",
            "  (constraints): \n",
            "    (0): RepeatModification\n",
            "    (1): StopwordModification\n",
            "  (is_black_box):  True\n",
            ")\n"
          ],
          "name": "stdout"
        }
      ]
    },
    {
      "cell_type": "code",
      "metadata": {
        "id": "FhK7my9wFTcj",
        "colab": {
          "base_uri": "https://localhost:8080/",
          "height": 1000
        },
        "outputId": "425d771a-d283-48d1-e3ac-31086a42d2ee"
      },
      "source": [
        "printexample(attack)"
      ],
      "execution_count": 19,
      "outputs": [
        {
          "output_type": "stream",
          "text": [
            "\r  0%|          | 0/25 [00:00<?, ?it/s]"
          ],
          "name": "stderr"
        },
        {
          "output_type": "stream",
          "text": [
            "Attack(\n",
            "  (search_method): GreedySearch\n",
            "  (goal_function):  UntargetedClassification\n",
            "  (transformation):  Swapper_\n",
            "  (constraints): \n",
            "    (0): RepeatModification\n",
            "    (1): StopwordModification\n",
            "  (is_black_box):  True\n",
            ")\n"
          ],
          "name": "stdout"
        },
        {
          "output_type": "display_data",
          "data": {
            "text/html": [
              "<font color = red>Not_duplicate (89%)</font> --> <font color = red>[FAILED]</font><br><font color = bold><font color = underline>Question1</font></font>: Why are African-Americans so beautiful?\n",
              "<font color = bold><font color = underline>Question2</font></font>: Why are hispanics so beautiful?"
            ],
            "text/plain": [
              "<IPython.core.display.HTML object>"
            ]
          },
          "metadata": {
            "tags": []
          }
        },
        {
          "output_type": "stream",
          "text": [
            "[Succeeded / Failed / Total] 0 / 1 / 1:   4%|▍         | 1/25 [00:00<00:06,  3.99it/s]"
          ],
          "name": "stderr"
        },
        {
          "output_type": "display_data",
          "data": {
            "text/html": [
              "<font color = red>Not_duplicate (100%)</font> --> <font color = red>[FAILED]</font><br><font color = bold><font color = underline>Question1</font></font>: I want to pursue PhD in Computer Science about social network,what is the open problem in social networks?\n",
              "<font color = bold><font color = underline>Question2</font></font>: I handle social media for a non-profit. Should I start going to social media networking events? Are there any good ones in the bay area?"
            ],
            "text/plain": [
              "<IPython.core.display.HTML object>"
            ]
          },
          "metadata": {
            "tags": []
          }
        },
        {
          "output_type": "stream",
          "text": [
            "[Succeeded / Failed / Total] 0 / 2 / 2:   8%|▊         | 2/25 [00:05<01:06,  2.91s/it]"
          ],
          "name": "stderr"
        },
        {
          "output_type": "display_data",
          "data": {
            "text/html": [
              "<font color = green>Duplicate (97%)</font> --> <font color = red>Not_duplicate (97%)</font><br><font color = bold><font color = underline>Question1</font></font>: Is there a reason why we should <font color = green>travel</font> alone?\n",
              "<font color = bold><font color = underline>Question2</font></font>: What are some reasons to travel alone?<br><font color = bold><font color = underline>Question1</font></font>: Is there a reason why we should <font color = red>interplanetary</font> alone?\n",
              "<font color = bold><font color = underline>Question2</font></font>: What are some reasons to travel alone?"
            ],
            "text/plain": [
              "<IPython.core.display.HTML object>"
            ]
          },
          "metadata": {
            "tags": []
          }
        },
        {
          "output_type": "stream",
          "text": [
            "[Succeeded / Failed / Total] 1 / 2 / 3:  12%|█▏        | 3/25 [00:05<00:43,  2.00s/it]"
          ],
          "name": "stderr"
        },
        {
          "output_type": "display_data",
          "data": {
            "text/html": [
              "<font color = red>Not_duplicate (100%)</font> --> <font color = red>[FAILED]</font><br><font color = bold><font color = underline>Question1</font></font>: Why are people so obsessed with having a girlfriend/boyfriend?\n",
              "<font color = bold><font color = underline>Question2</font></font>: How can a single male have a child?"
            ],
            "text/plain": [
              "<IPython.core.display.HTML object>"
            ]
          },
          "metadata": {
            "tags": []
          }
        },
        {
          "output_type": "stream",
          "text": [
            "[Succeeded / Failed / Total] 1 / 3 / 4:  16%|█▌        | 4/25 [00:06<00:35,  1.68s/it]"
          ],
          "name": "stderr"
        },
        {
          "output_type": "display_data",
          "data": {
            "text/html": [
              "<font color = red>Not_duplicate (81%)</font> --> <font color = green>Duplicate (67%)</font><br><font color = bold><font color = underline>Question1</font></font>: What are some good baby girl names <font color = red>starting</font> with D?\n",
              "<font color = bold><font color = underline>Question2</font></font>: What are some good baby girl names starting with D or H?<br><font color = bold><font color = underline>Question1</font></font>: What are some good baby girl names <font color = green>beginning</font> with D?\n",
              "<font color = bold><font color = underline>Question2</font></font>: What are some good baby girl names starting with D or H?"
            ],
            "text/plain": [
              "<IPython.core.display.HTML object>"
            ]
          },
          "metadata": {
            "tags": []
          }
        },
        {
          "output_type": "stream",
          "text": [
            "[Succeeded / Failed / Total] 2 / 3 / 5:  20%|██        | 5/25 [00:06<00:27,  1.40s/it]"
          ],
          "name": "stderr"
        },
        {
          "output_type": "display_data",
          "data": {
            "text/html": [
              "<font color = green>Duplicate (96%)</font> --> <font color = red>Not_duplicate (99%)</font><br><font color = bold><font color = underline>Question1</font></font>: I am 25 year old guy and never had a girlfriend. Is this <font color = green>weird</font>?\n",
              "<font color = bold><font color = underline>Question2</font></font>: I am 25 years old. I have never had a girlfriend. Is something wrong with me?<br><font color = bold><font color = underline>Question1</font></font>: I am 25 year old guy and never had a girlfriend. Is this <font color = red>yankovic</font>?\n",
              "<font color = bold><font color = underline>Question2</font></font>: I am 25 years old. I have never had a girlfriend. Is something wrong with me?"
            ],
            "text/plain": [
              "<IPython.core.display.HTML object>"
            ]
          },
          "metadata": {
            "tags": []
          }
        },
        {
          "output_type": "stream",
          "text": [
            "[Succeeded / Failed / Total] 3 / 3 / 6:  24%|██▍       | 6/25 [00:07<00:23,  1.22s/it]"
          ],
          "name": "stderr"
        },
        {
          "output_type": "display_data",
          "data": {
            "text/html": [
              "<font color = red>Not_duplicate (100%)</font> --> <font color = gray>[SKIPPED]</font><br><font color = bold><font color = underline>Question1</font></font>: \"What does a good answer on Quora look like? What does it mean to \"\"be helpful\"\"?\"\n",
              "<font color = bold><font color = underline>Question2</font></font>: How do you write a good answer on Quora?"
            ],
            "text/plain": [
              "<IPython.core.display.HTML object>"
            ]
          },
          "metadata": {
            "tags": []
          }
        },
        {
          "output_type": "stream",
          "text": [
            "\r[Succeeded / Failed / Total] 3 / 3 / 7:  28%|██▊       | 7/25 [00:07<00:18,  1.05s/it]"
          ],
          "name": "stderr"
        },
        {
          "output_type": "display_data",
          "data": {
            "text/html": [
              "<font color = green>Duplicate (82%)</font> --> <font color = red>Not_duplicate (100%)</font><br><font color = bold><font color = underline>Question1</font></font>: What are the best things to do in Hong Kong?\n",
              "<font color = bold><font color = underline>Question2</font></font>: What is the <font color = green>best</font> thing in Hong Kong?<br><font color = bold><font color = underline>Question1</font></font>: What are the best things to do in Hong Kong?\n",
              "<font color = bold><font color = underline>Question2</font></font>: What is the <font color = red>filmfare</font> thing in Hong Kong?"
            ],
            "text/plain": [
              "<IPython.core.display.HTML object>"
            ]
          },
          "metadata": {
            "tags": []
          }
        },
        {
          "output_type": "stream",
          "text": [
            "[Succeeded / Failed / Total] 4 / 3 / 8:  32%|███▏      | 8/25 [00:07<00:15,  1.07it/s]"
          ],
          "name": "stderr"
        },
        {
          "output_type": "display_data",
          "data": {
            "text/html": [
              "<font color = green>Duplicate (54%)</font> --> <font color = gray>[SKIPPED]</font><br><font color = bold><font color = underline>Question1</font></font>: Why is my life getting so complicated?\n",
              "<font color = bold><font color = underline>Question2</font></font>: Why is my life so complicated?"
            ],
            "text/plain": [
              "<IPython.core.display.HTML object>"
            ]
          },
          "metadata": {
            "tags": []
          }
        },
        {
          "output_type": "stream",
          "text": [
            "\r[Succeeded / Failed / Total] 4 / 3 / 9:  36%|███▌      | 9/25 [00:07<00:13,  1.20it/s]"
          ],
          "name": "stderr"
        },
        {
          "output_type": "display_data",
          "data": {
            "text/html": [
              "<font color = red>Not_duplicate (100%)</font> --> <font color = red>[FAILED]</font><br><font color = bold><font color = underline>Question1</font></font>: Why should I crack Jee?\n",
              "<font color = bold><font color = underline>Question2</font></font>: Is it possible to get into IIMs with low marks in graduation and 12th?"
            ],
            "text/plain": [
              "<IPython.core.display.HTML object>"
            ]
          },
          "metadata": {
            "tags": []
          }
        },
        {
          "output_type": "stream",
          "text": [
            "[Succeeded / Failed / Total] 4 / 4 / 10:  40%|████      | 10/25 [00:08<00:12,  1.25it/s]"
          ],
          "name": "stderr"
        },
        {
          "output_type": "display_data",
          "data": {
            "text/html": [
              "<font color = red>Not_duplicate (100%)</font> --> <font color = red>[FAILED]</font><br><font color = bold><font color = underline>Question1</font></font>: Can you TRANSLATE these to English language?\n",
              "<font color = bold><font color = underline>Question2</font></font>: Can you translate this from Bengali to English language?"
            ],
            "text/plain": [
              "<IPython.core.display.HTML object>"
            ]
          },
          "metadata": {
            "tags": []
          }
        },
        {
          "output_type": "stream",
          "text": [
            "\r[Succeeded / Failed / Total] 4 / 5 / 11:  44%|████▍     | 11/25 [00:08<00:10,  1.34it/s]"
          ],
          "name": "stderr"
        },
        {
          "output_type": "display_data",
          "data": {
            "text/html": [
              "<font color = red>Not_duplicate (100%)</font> --> <font color = red>[FAILED]</font><br><font color = bold><font color = underline>Question1</font></font>: Can anyone tell shall mi mix mobile should be purchased or not?\n",
              "<font color = bold><font color = underline>Question2</font></font>: \"What did Voltaire mean when he said, \"\"God is a comedian playing to an audience that is too afraid to laugh\"\"?\""
            ],
            "text/plain": [
              "<IPython.core.display.HTML object>"
            ]
          },
          "metadata": {
            "tags": []
          }
        },
        {
          "output_type": "stream",
          "text": [
            "[Succeeded / Failed / Total] 4 / 6 / 12:  48%|████▊     | 12/25 [00:10<00:11,  1.12it/s]"
          ],
          "name": "stderr"
        },
        {
          "output_type": "display_data",
          "data": {
            "text/html": [
              "<font color = green>Duplicate (100%)</font> --> <font color = red>Not_duplicate (98%)</font><br><font color = bold><font color = underline>Question1</font></font>: Which is the <font color = green>best</font> gaming laptop under 40k?\n",
              "<font color = bold><font color = underline>Question2</font></font>: Which is the best gaming laptop under 40,000 rs?<br><font color = bold><font color = underline>Question1</font></font>: Which is the <font color = red>filmfare</font> gaming laptop under 40k?\n",
              "<font color = bold><font color = underline>Question2</font></font>: Which is the best gaming laptop under 40,000 rs?"
            ],
            "text/plain": [
              "<IPython.core.display.HTML object>"
            ]
          },
          "metadata": {
            "tags": []
          }
        },
        {
          "output_type": "stream",
          "text": [
            "\r[Succeeded / Failed / Total] 5 / 6 / 13:  52%|█████▏    | 13/25 [00:10<00:10,  1.19it/s]"
          ],
          "name": "stderr"
        },
        {
          "output_type": "display_data",
          "data": {
            "text/html": [
              "<font color = red>Not_duplicate (100%)</font> --> <font color = red>[FAILED]</font><br><font color = bold><font color = underline>Question1</font></font>: Why Tamil Nadu Universities are no good?\n",
              "<font color = bold><font color = underline>Question2</font></font>: Why are the 10th students able to score 100% in Tamil Nadu?"
            ],
            "text/plain": [
              "<IPython.core.display.HTML object>"
            ]
          },
          "metadata": {
            "tags": []
          }
        },
        {
          "output_type": "stream",
          "text": [
            "[Succeeded / Failed / Total] 5 / 7 / 14:  56%|█████▌    | 14/25 [00:11<00:08,  1.25it/s]"
          ],
          "name": "stderr"
        },
        {
          "output_type": "display_data",
          "data": {
            "text/html": [
              "<font color = red>Not_duplicate (100%)</font> --> <font color = red>[FAILED]</font><br><font color = bold><font color = underline>Question1</font></font>: What is an easy way to clean toothpaste stains from a shirt without washing it?\n",
              "<font color = bold><font color = underline>Question2</font></font>: What are some ways to remove hard water stains from dishes?"
            ],
            "text/plain": [
              "<IPython.core.display.HTML object>"
            ]
          },
          "metadata": {
            "tags": []
          }
        },
        {
          "output_type": "stream",
          "text": [
            "\r[Succeeded / Failed / Total] 5 / 8 / 15:  60%|██████    | 15/25 [00:13<00:09,  1.09it/s]"
          ],
          "name": "stderr"
        },
        {
          "output_type": "display_data",
          "data": {
            "text/html": [
              "<font color = green>Duplicate (89%)</font> --> <font color = red>Not_duplicate (100%)</font><br><font color = bold><font color = underline>Question1</font></font>: What was the deadliest battle in history?\n",
              "<font color = bold><font color = underline>Question2</font></font>: What was the bloodiest <font color = green>battle</font> in history?<br><font color = bold><font color = underline>Question1</font></font>: What was the deadliest battle in history?\n",
              "<font color = bold><font color = underline>Question2</font></font>: What was the bloodiest <font color = red>chancellorsville</font> in history?"
            ],
            "text/plain": [
              "<IPython.core.display.HTML object>"
            ]
          },
          "metadata": {
            "tags": []
          }
        },
        {
          "output_type": "stream",
          "text": [
            "[Succeeded / Failed / Total] 6 / 8 / 16:  64%|██████▍   | 16/25 [00:13<00:07,  1.15it/s]"
          ],
          "name": "stderr"
        },
        {
          "output_type": "display_data",
          "data": {
            "text/html": [
              "<font color = green>Duplicate (100%)</font> --> <font color = red>Not_duplicate (76%)</font><br><font color = bold><font color = underline>Question1</font></font>: What are your views about demonetisation in India?\n",
              "<font color = bold><font color = underline>Question2</font></font>: What do you think about the ban on 500 and 1000 <font color = green>denomination</font> notes in India?<br><font color = bold><font color = underline>Question1</font></font>: What are your views about demonetisation in India?\n",
              "<font color = bold><font color = underline>Question2</font></font>: What do you think about the ban on 500 and 1000 <font color = red>mennonite</font> notes in India?"
            ],
            "text/plain": [
              "<IPython.core.display.HTML object>"
            ]
          },
          "metadata": {
            "tags": []
          }
        },
        {
          "output_type": "stream",
          "text": [
            "\r[Succeeded / Failed / Total] 7 / 8 / 17:  68%|██████▊   | 17/25 [00:14<00:06,  1.21it/s]"
          ],
          "name": "stderr"
        },
        {
          "output_type": "display_data",
          "data": {
            "text/html": [
              "<font color = red>Not_duplicate (100%)</font> --> <font color = red>[FAILED]</font><br><font color = bold><font color = underline>Question1</font></font>: What are the difference between polyester 210T and 210D?\n",
              "<font color = bold><font color = underline>Question2</font></font>: What is the difference between cotton and polyester?"
            ],
            "text/plain": [
              "<IPython.core.display.HTML object>"
            ]
          },
          "metadata": {
            "tags": []
          }
        },
        {
          "output_type": "stream",
          "text": [
            "[Succeeded / Failed / Total] 7 / 9 / 18:  72%|███████▏  | 18/25 [00:14<00:05,  1.24it/s]"
          ],
          "name": "stderr"
        },
        {
          "output_type": "display_data",
          "data": {
            "text/html": [
              "<font color = red>Not_duplicate (82%)</font> --> <font color = green>Duplicate (65%)</font><br><font color = bold><font color = underline>Question1</font></font>: Is FMS Delhi a good option for a MBA <font color = red>executive</font> program?\n",
              "<font color = bold><font color = underline>Question2</font></font>: Is FMS a good choice for an MBA in HR? Why and why not?<br><font color = bold><font color = underline>Question1</font></font>: Is FMS Delhi a good option for a MBA <font color = green>legislative</font> program?\n",
              "<font color = bold><font color = underline>Question2</font></font>: Is FMS a good choice for an MBA in HR? Why and why not?"
            ],
            "text/plain": [
              "<IPython.core.display.HTML object>"
            ]
          },
          "metadata": {
            "tags": []
          }
        },
        {
          "output_type": "stream",
          "text": [
            "\r[Succeeded / Failed / Total] 8 / 9 / 19:  76%|███████▌  | 19/25 [00:14<00:04,  1.30it/s]"
          ],
          "name": "stderr"
        },
        {
          "output_type": "display_data",
          "data": {
            "text/html": [
              "<font color = red>Not_duplicate (63%)</font> --> <font color = gray>[SKIPPED]</font><br><font color = bold><font color = underline>Question1</font></font>: Is it a bad time to buy a condo or a house in the Bay Area in 2017?\n",
              "<font color = bold><font color = underline>Question2</font></font>: Would 2017 be a good time to buy a house in Bay Area?"
            ],
            "text/plain": [
              "<IPython.core.display.HTML object>"
            ]
          },
          "metadata": {
            "tags": []
          }
        },
        {
          "output_type": "stream",
          "text": [
            "[Succeeded / Failed / Total] 8 / 9 / 20:  80%|████████  | 20/25 [00:14<00:03,  1.36it/s]"
          ],
          "name": "stderr"
        },
        {
          "output_type": "display_data",
          "data": {
            "text/html": [
              "<font color = red>Not_duplicate (100%)</font> --> <font color = red>[FAILED]</font><br><font color = bold><font color = underline>Question1</font></font>: How is vanilla extract made?\n",
              "<font color = bold><font color = underline>Question2</font></font>: How do you make sugar cookies without vanilla extract?"
            ],
            "text/plain": [
              "<IPython.core.display.HTML object>"
            ]
          },
          "metadata": {
            "tags": []
          }
        },
        {
          "output_type": "stream",
          "text": [
            "\r[Succeeded / Failed / Total] 8 / 10 / 21:  84%|████████▍ | 21/25 [00:15<00:03,  1.33it/s]"
          ],
          "name": "stderr"
        },
        {
          "output_type": "display_data",
          "data": {
            "text/html": [
              "<font color = green>Duplicate (100%)</font> --> <font color = red>Not_duplicate (80%)</font><br><font color = bold><font color = underline>Question1</font></font>: What is the Sahara, and how do the average <font color = green>temperatures</font> there compare to the <font color = green>ones</font> in the Patagonian Desert?\n",
              "<font color = bold><font color = underline>Question2</font></font>: What is the Sahara, and how do the average <font color = green>temperatures</font> there compare to the ones in the Registan Desert?<br><font color = bold><font color = underline>Question1</font></font>: What is the Sahara, and how do the average <font color = red>temperature</font> there compare to the <font color = red>embellishments</font> in the Patagonian Desert?\n",
              "<font color = bold><font color = underline>Question2</font></font>: What is the Sahara, and how do the average <font color = red>temperature</font> there compare to the ones in the Registan Desert?"
            ],
            "text/plain": [
              "<IPython.core.display.HTML object>"
            ]
          },
          "metadata": {
            "tags": []
          }
        },
        {
          "output_type": "stream",
          "text": [
            "[Succeeded / Failed / Total] 9 / 10 / 22:  88%|████████▊ | 22/25 [00:16<00:02,  1.35it/s]"
          ],
          "name": "stderr"
        },
        {
          "output_type": "display_data",
          "data": {
            "text/html": [
              "<font color = red>Not_duplicate (100%)</font> --> <font color = red>[FAILED]</font><br><font color = bold><font color = underline>Question1</font></font>: Why was the Roman Empire so successful?\n",
              "<font color = bold><font color = underline>Question2</font></font>: What are some of the rarely known facts about the Roman Empire?"
            ],
            "text/plain": [
              "<IPython.core.display.HTML object>"
            ]
          },
          "metadata": {
            "tags": []
          }
        },
        {
          "output_type": "stream",
          "text": [
            "\r[Succeeded / Failed / Total] 9 / 11 / 23:  92%|█████████▏| 23/25 [00:16<00:01,  1.38it/s]"
          ],
          "name": "stderr"
        },
        {
          "output_type": "display_data",
          "data": {
            "text/html": [
              "<font color = red>Not_duplicate (100%)</font> --> <font color = red>[FAILED]</font><br><font color = bold><font color = underline>Question1</font></font>: Is it advisable to sent your cv to a professor with whom you are trying to make contact for graduate admission?\n",
              "<font color = bold><font color = underline>Question2</font></font>: How does contacting a professor before applying factor into graduate admissions?"
            ],
            "text/plain": [
              "<IPython.core.display.HTML object>"
            ]
          },
          "metadata": {
            "tags": []
          }
        },
        {
          "output_type": "stream",
          "text": [
            "[Succeeded / Failed / Total] 9 / 12 / 24:  96%|█████████▌| 24/25 [00:19<00:00,  1.22it/s]"
          ],
          "name": "stderr"
        },
        {
          "output_type": "display_data",
          "data": {
            "text/html": [
              "<font color = red>Not_duplicate (100%)</font> --> <font color = red>[FAILED]</font><br><font color = bold><font color = underline>Question1</font></font>: Does a RainTPL syntax extension for Sublime Text exist? Where can I download it?\n",
              "<font color = bold><font color = underline>Question2</font></font>: How do I hide the find/replace bar in Sublime Text 2?"
            ],
            "text/plain": [
              "<IPython.core.display.HTML object>"
            ]
          },
          "metadata": {
            "tags": []
          }
        },
        {
          "output_type": "stream",
          "text": [
            "\r[Succeeded / Failed / Total] 9 / 13 / 25: 100%|██████████| 25/25 [00:20<00:00,  1.22it/s]"
          ],
          "name": "stderr"
        },
        {
          "output_type": "display_data",
          "data": {
            "text/html": [
              "<font color = red>Not_duplicate (99%)</font> --> <font color = green>Duplicate (86%)</font><br><font color = bold><font color = underline>Question1</font></font>: What is the <font color = red>average</font> <font color = red>salary</font> of a microbiologist in India?\n",
              "<font color = bold><font color = underline>Question2</font></font>: What is the <font color = red>salary</font> for a <font color = red>psychologist</font> in india?<br><font color = bold><font color = underline>Question1</font></font>: What is the <font color = green>totals</font> <font color = green>eitc</font> of a microbiologist in India?\n",
              "<font color = bold><font color = underline>Question2</font></font>: What is the <font color = green>eitc</font> for a <font color = green>educator</font> in india?"
            ],
            "text/plain": [
              "<IPython.core.display.HTML object>"
            ]
          },
          "metadata": {
            "tags": []
          }
        },
        {
          "output_type": "stream",
          "text": [
            "[Succeeded / Failed / Total] 10 / 13 / 26: : 26it [00:21,  1.24it/s]"
          ],
          "name": "stderr"
        },
        {
          "output_type": "display_data",
          "data": {
            "text/html": [
              "<font color = red>Not_duplicate (100%)</font> --> <font color = red>[FAILED]</font><br><font color = bold><font color = underline>Question1</font></font>: How do you close a Bank of America account?\n",
              "<font color = bold><font color = underline>Question2</font></font>: How can one close a bank account online?"
            ],
            "text/plain": [
              "<IPython.core.display.HTML object>"
            ]
          },
          "metadata": {
            "tags": []
          }
        },
        {
          "output_type": "stream",
          "text": [
            "\r[Succeeded / Failed / Total] 10 / 14 / 27: : 27it [00:21,  1.24it/s]"
          ],
          "name": "stderr"
        },
        {
          "output_type": "display_data",
          "data": {
            "text/html": [
              "<font color = red>Not_duplicate (71%)</font> --> <font color = green>Duplicate (63%)</font><br><font color = bold><font color = underline>Question1</font></font>: How can I create the most popular question on Quora?\n",
              "<font color = bold><font color = underline>Question2</font></font>: Which are the most popular questions on Quora presently that <font color = red>also</font> create the most discussions?<br><font color = bold><font color = underline>Question1</font></font>: How can I create the most popular question on Quora?\n",
              "<font color = bold><font color = underline>Question2</font></font>: Which are the most popular questions on Quora presently that <font color = green>which</font> create the most discussions?"
            ],
            "text/plain": [
              "<IPython.core.display.HTML object>"
            ]
          },
          "metadata": {
            "tags": []
          }
        },
        {
          "output_type": "stream",
          "text": [
            "[Succeeded / Failed / Total] 11 / 14 / 28: : 28it [00:22,  1.27it/s]"
          ],
          "name": "stderr"
        },
        {
          "output_type": "stream",
          "text": [
            "+-------------------------------+--------+\n",
            "| Attack Results                |        |\n",
            "+-------------------------------+--------+\n",
            "| Number of successful attacks: | 11     |\n",
            "| Number of failed attacks:     | 14     |\n",
            "| Number of skipped attacks:    | 3      |\n",
            "| Original accuracy:            | 89.29% |\n",
            "| Accuracy under attack:        | 50.0%  |\n",
            "| Attack success rate:          | 44.0%  |\n",
            "| Average perturbed word %:     | 6.7%   |\n",
            "| Average num. words per input: | 22.39  |\n",
            "| Avg num queries:              | 35.8   |\n",
            "+-------------------------------+--------+"
          ],
          "name": "stdout"
        },
        {
          "output_type": "stream",
          "text": [
            "\n",
            "\u001b[34;1mtextattack\u001b[0m: Attack time: 22.078614950180054s\n"
          ],
          "name": "stderr"
        }
      ]
    },
    {
      "cell_type": "markdown",
      "metadata": {
        "id": "Q8odOqt_MctY"
      },
      "source": [
        "# Framing Glove attack"
      ]
    },
    {
      "cell_type": "code",
      "metadata": {
        "id": "d4dI_hK_MXdH"
      },
      "source": [
        "from textattack.transformations import WordSwap\n",
        "\n",
        "class Swapper__(WordSwap): # For glove\n",
        "    \"\"\" Transforms an input by replacing any word with its most similar counterpart\n",
        "    \"\"\"\n",
        "\n",
        "    # We don't need a constructor, since our class doesn't require any parameters.\n",
        "\n",
        "    def _get_replacement_words(self, word):\n",
        "        \"\"\" Returns 'banana', no matter what 'word' was originally.\n",
        "\n",
        "            Returns a list with one item, since `_get_replacement_words` is intended to\n",
        "                return a list of candidate replacement words.\n",
        "        \"\"\"\n",
        "        if word in model3.key_to_index:\n",
        "            for i in range(10):\n",
        "                if word.lower() in model3.most_similar(word)[i][0].lower():\n",
        "                    continue\n",
        "                elif word.isupper():\n",
        "                    return [model3.most_similar(word)[i][0].upper()]\n",
        "                elif word[0].isupper():\n",
        "                    return [model3.most_similar(word)[i][0].capitalize()]\n",
        "                else:\n",
        "                    return [model3.most_similar(word)[i][0]]\n",
        "        else:\n",
        "            return [word]"
      ],
      "execution_count": 20,
      "outputs": []
    },
    {
      "cell_type": "code",
      "metadata": {
        "colab": {
          "base_uri": "https://localhost:8080/"
        },
        "id": "TSxsdoTqNmYM",
        "outputId": "ad67476f-7727-4cf9-cf12-2fbcb3b8a793"
      },
      "source": [
        "from textattack.search_methods import GreedySearch\n",
        "from textattack.constraints.pre_transformation import RepeatModification, StopwordModification\n",
        "from textattack.shared import Attack\n",
        "from textattack.goal_functions import UntargetedClassification\n",
        "from textattack.datasets import HuggingFaceDataset\n",
        "\n",
        "# We're going to use our word swap class as the attack transformation.\n",
        "transformation = Swapper__()\n",
        "\n",
        "constraints = [RepeatModification(),\n",
        "               StopwordModification()]\n",
        "\n",
        "search_method = GreedySearch()\n",
        "\n",
        "goal_function = UntargetedClassification(model_wrapper)\n",
        "\n",
        "# Now, let's make the attack from the 4 components:\n",
        "attack = Attack(goal_function, constraints, transformation, search_method)\n",
        "\n",
        "dataset = HuggingFaceDataset(\"glue\", \"qqp\", \"validation\") # Change the dataset"
      ],
      "execution_count": 21,
      "outputs": [
        {
          "output_type": "stream",
          "text": [
            "\u001b[34;1mtextattack\u001b[0m: Unknown if model of class <class 'transformers.models.albert.modeling_albert.AlbertForSequenceClassification'> compatible with goal function <class 'textattack.goal_functions.classification.untargeted_classification.UntargetedClassification'>.\n",
            "Reusing dataset glue (/root/.cache/huggingface/datasets/glue/qqp/1.0.0/dacbe3125aa31d7f70367a07a8a9e72a5a0bfeb5fc42e75c9db75b96da6053ad)\n",
            "\u001b[34;1mtextattack\u001b[0m: Loading \u001b[94mdatasets\u001b[0m dataset \u001b[94mglue\u001b[0m, subset \u001b[94mqqp\u001b[0m, split \u001b[94mvalidation\u001b[0m.\n"
          ],
          "name": "stderr"
        }
      ]
    },
    {
      "cell_type": "code",
      "metadata": {
        "colab": {
          "base_uri": "https://localhost:8080/"
        },
        "id": "yipMMe1VNuRP",
        "outputId": "ef46760e-353b-4d5c-cea4-165051d6acb2"
      },
      "source": [
        "print(attack)"
      ],
      "execution_count": 22,
      "outputs": [
        {
          "output_type": "stream",
          "text": [
            "Attack(\n",
            "  (search_method): GreedySearch\n",
            "  (goal_function):  UntargetedClassification\n",
            "  (transformation):  Swapper__\n",
            "  (constraints): \n",
            "    (0): RepeatModification\n",
            "    (1): StopwordModification\n",
            "  (is_black_box):  True\n",
            ")\n"
          ],
          "name": "stdout"
        }
      ]
    },
    {
      "cell_type": "code",
      "metadata": {
        "colab": {
          "base_uri": "https://localhost:8080/",
          "height": 1000
        },
        "id": "cpWQXGpDN1SB",
        "outputId": "69c7b6e5-9980-4232-d09f-cf94f60c08ee"
      },
      "source": [
        "printexample(attack)"
      ],
      "execution_count": 23,
      "outputs": [
        {
          "output_type": "stream",
          "text": [
            "\r  0%|          | 0/25 [00:00<?, ?it/s]"
          ],
          "name": "stderr"
        },
        {
          "output_type": "stream",
          "text": [
            "Attack(\n",
            "  (search_method): GreedySearch\n",
            "  (goal_function):  UntargetedClassification\n",
            "  (transformation):  Swapper__\n",
            "  (constraints): \n",
            "    (0): RepeatModification\n",
            "    (1): StopwordModification\n",
            "  (is_black_box):  True\n",
            ")\n"
          ],
          "name": "stdout"
        },
        {
          "output_type": "display_data",
          "data": {
            "text/html": [
              "<font color = red>Not_duplicate (89%)</font> --> <font color = red>[FAILED]</font><br><font color = bold><font color = underline>Question1</font></font>: Why are African-Americans so beautiful?\n",
              "<font color = bold><font color = underline>Question2</font></font>: Why are hispanics so beautiful?"
            ],
            "text/plain": [
              "<IPython.core.display.HTML object>"
            ]
          },
          "metadata": {
            "tags": []
          }
        },
        {
          "output_type": "stream",
          "text": [
            "[Succeeded / Failed / Total] 0 / 1 / 1:   4%|▍         | 1/25 [00:00<00:08,  2.84it/s]"
          ],
          "name": "stderr"
        },
        {
          "output_type": "display_data",
          "data": {
            "text/html": [
              "<font color = red>Not_duplicate (100%)</font> --> <font color = red>[FAILED]</font><br><font color = bold><font color = underline>Question1</font></font>: I want to pursue PhD in Computer Science about social network,what is the open problem in social networks?\n",
              "<font color = bold><font color = underline>Question2</font></font>: I handle social media for a non-profit. Should I start going to social media networking events? Are there any good ones in the bay area?"
            ],
            "text/plain": [
              "<IPython.core.display.HTML object>"
            ]
          },
          "metadata": {
            "tags": []
          }
        },
        {
          "output_type": "stream",
          "text": [
            "[Succeeded / Failed / Total] 0 / 2 / 2:   8%|▊         | 2/25 [00:09<01:52,  4.87s/it]"
          ],
          "name": "stderr"
        },
        {
          "output_type": "display_data",
          "data": {
            "text/html": [
              "<font color = green>Duplicate (97%)</font> --> <font color = red>Not_duplicate (100%)</font><br><font color = bold><font color = underline>Question1</font></font>: Is there a reason why we should <font color = green>travel</font> alone?\n",
              "<font color = bold><font color = underline>Question2</font></font>: What are some reasons to travel alone?<br><font color = bold><font color = underline>Question1</font></font>: Is there a reason why we should <font color = red>interstellar</font> alone?\n",
              "<font color = bold><font color = underline>Question2</font></font>: What are some reasons to travel alone?"
            ],
            "text/plain": [
              "<IPython.core.display.HTML object>"
            ]
          },
          "metadata": {
            "tags": []
          }
        },
        {
          "output_type": "stream",
          "text": [
            "[Succeeded / Failed / Total] 1 / 2 / 3:  12%|█▏        | 3/25 [00:09<01:13,  3.33s/it]"
          ],
          "name": "stderr"
        },
        {
          "output_type": "display_data",
          "data": {
            "text/html": [
              "<font color = red>Not_duplicate (100%)</font> --> <font color = red>[FAILED]</font><br><font color = bold><font color = underline>Question1</font></font>: Why are people so obsessed with having a girlfriend/boyfriend?\n",
              "<font color = bold><font color = underline>Question2</font></font>: How can a single male have a child?"
            ],
            "text/plain": [
              "<IPython.core.display.HTML object>"
            ]
          },
          "metadata": {
            "tags": []
          }
        },
        {
          "output_type": "stream",
          "text": [
            "[Succeeded / Failed / Total] 1 / 3 / 4:  16%|█▌        | 4/25 [00:11<00:58,  2.79s/it]"
          ],
          "name": "stderr"
        },
        {
          "output_type": "display_data",
          "data": {
            "text/html": [
              "<font color = red>Not_duplicate (81%)</font> --> <font color = green>Duplicate (85%)</font><br><font color = bold><font color = underline>Question1</font></font>: What are some good <font color = red>baby</font> girl names starting with D?\n",
              "<font color = bold><font color = underline>Question2</font></font>: What are some good baby girl names starting with D or H?<br><font color = bold><font color = underline>Question1</font></font>: What are some good <font color = green>dear</font> girl names starting with D?\n",
              "<font color = bold><font color = underline>Question2</font></font>: What are some good baby girl names starting with D or H?"
            ],
            "text/plain": [
              "<IPython.core.display.HTML object>"
            ]
          },
          "metadata": {
            "tags": []
          }
        },
        {
          "output_type": "stream",
          "text": [
            "[Succeeded / Failed / Total] 2 / 3 / 5:  20%|██        | 5/25 [00:11<00:46,  2.32s/it]"
          ],
          "name": "stderr"
        },
        {
          "output_type": "display_data",
          "data": {
            "text/html": [
              "<font color = green>Duplicate (96%)</font> --> <font color = red>Not_duplicate (55%)</font><br><font color = bold><font color = underline>Question1</font></font>: I am 25 year <font color = green>old</font> guy and never had a girlfriend. Is this weird?\n",
              "<font color = bold><font color = underline>Question2</font></font>: I am 25 years old. I have never had a girlfriend. Is something wrong with me?<br><font color = bold><font color = underline>Question1</font></font>: I am 25 year <font color = red>devonien</font> guy and never had a girlfriend. Is this weird?\n",
              "<font color = bold><font color = underline>Question2</font></font>: I am 25 years old. I have never had a girlfriend. Is something wrong with me?"
            ],
            "text/plain": [
              "<IPython.core.display.HTML object>"
            ]
          },
          "metadata": {
            "tags": []
          }
        },
        {
          "output_type": "stream",
          "text": [
            "[Succeeded / Failed / Total] 3 / 3 / 6:  24%|██▍       | 6/25 [00:12<00:38,  2.02s/it]"
          ],
          "name": "stderr"
        },
        {
          "output_type": "display_data",
          "data": {
            "text/html": [
              "<font color = red>Not_duplicate (100%)</font> --> <font color = gray>[SKIPPED]</font><br><font color = bold><font color = underline>Question1</font></font>: \"What does a good answer on Quora look like? What does it mean to \"\"be helpful\"\"?\"\n",
              "<font color = bold><font color = underline>Question2</font></font>: How do you write a good answer on Quora?"
            ],
            "text/plain": [
              "<IPython.core.display.HTML object>"
            ]
          },
          "metadata": {
            "tags": []
          }
        },
        {
          "output_type": "stream",
          "text": [
            "\r[Succeeded / Failed / Total] 3 / 3 / 7:  28%|██▊       | 7/25 [00:12<00:31,  1.73s/it]"
          ],
          "name": "stderr"
        },
        {
          "output_type": "display_data",
          "data": {
            "text/html": [
              "<font color = green>Duplicate (82%)</font> --> <font color = red>Not_duplicate (100%)</font><br><font color = bold><font color = underline>Question1</font></font>: What are the <font color = green>best</font> things to do in Hong Kong?\n",
              "<font color = bold><font color = underline>Question2</font></font>: What is the best thing in Hong Kong?<br><font color = bold><font color = underline>Question1</font></font>: What are the <font color = red>rnb</font> things to do in Hong Kong?\n",
              "<font color = bold><font color = underline>Question2</font></font>: What is the best thing in Hong Kong?"
            ],
            "text/plain": [
              "<IPython.core.display.HTML object>"
            ]
          },
          "metadata": {
            "tags": []
          }
        },
        {
          "output_type": "stream",
          "text": [
            "[Succeeded / Failed / Total] 4 / 3 / 8:  32%|███▏      | 8/25 [00:12<00:26,  1.54s/it]"
          ],
          "name": "stderr"
        },
        {
          "output_type": "display_data",
          "data": {
            "text/html": [
              "<font color = green>Duplicate (54%)</font> --> <font color = gray>[SKIPPED]</font><br><font color = bold><font color = underline>Question1</font></font>: Why is my life getting so complicated?\n",
              "<font color = bold><font color = underline>Question2</font></font>: Why is my life so complicated?"
            ],
            "text/plain": [
              "<IPython.core.display.HTML object>"
            ]
          },
          "metadata": {
            "tags": []
          }
        },
        {
          "output_type": "stream",
          "text": [
            "\r[Succeeded / Failed / Total] 4 / 3 / 9:  36%|███▌      | 9/25 [00:12<00:21,  1.37s/it]"
          ],
          "name": "stderr"
        },
        {
          "output_type": "display_data",
          "data": {
            "text/html": [
              "<font color = red>Not_duplicate (100%)</font> --> <font color = red>[FAILED]</font><br><font color = bold><font color = underline>Question1</font></font>: Why should I crack Jee?\n",
              "<font color = bold><font color = underline>Question2</font></font>: Is it possible to get into IIMs with low marks in graduation and 12th?"
            ],
            "text/plain": [
              "<IPython.core.display.HTML object>"
            ]
          },
          "metadata": {
            "tags": []
          }
        },
        {
          "output_type": "stream",
          "text": [
            "[Succeeded / Failed / Total] 4 / 4 / 10:  40%|████      | 10/25 [00:13<00:19,  1.32s/it]"
          ],
          "name": "stderr"
        },
        {
          "output_type": "display_data",
          "data": {
            "text/html": [
              "<font color = red>Not_duplicate (100%)</font> --> <font color = red>[FAILED]</font><br><font color = bold><font color = underline>Question1</font></font>: Can you TRANSLATE these to English language?\n",
              "<font color = bold><font color = underline>Question2</font></font>: Can you translate this from Bengali to English language?"
            ],
            "text/plain": [
              "<IPython.core.display.HTML object>"
            ]
          },
          "metadata": {
            "tags": []
          }
        },
        {
          "output_type": "stream",
          "text": [
            "\r[Succeeded / Failed / Total] 4 / 5 / 11:  44%|████▍     | 11/25 [00:13<00:17,  1.22s/it]"
          ],
          "name": "stderr"
        },
        {
          "output_type": "display_data",
          "data": {
            "text/html": [
              "<font color = red>Not_duplicate (100%)</font> --> <font color = red>[FAILED]</font><br><font color = bold><font color = underline>Question1</font></font>: Can anyone tell shall mi mix mobile should be purchased or not?\n",
              "<font color = bold><font color = underline>Question2</font></font>: \"What did Voltaire mean when he said, \"\"God is a comedian playing to an audience that is too afraid to laugh\"\"?\""
            ],
            "text/plain": [
              "<IPython.core.display.HTML object>"
            ]
          },
          "metadata": {
            "tags": []
          }
        },
        {
          "output_type": "stream",
          "text": [
            "[Succeeded / Failed / Total] 4 / 6 / 12:  48%|████▊     | 12/25 [00:17<00:19,  1.47s/it]"
          ],
          "name": "stderr"
        },
        {
          "output_type": "display_data",
          "data": {
            "text/html": [
              "<font color = green>Duplicate (100%)</font> --> <font color = red>Not_duplicate (100%)</font><br><font color = bold><font color = underline>Question1</font></font>: Which is the best gaming laptop under 40k?\n",
              "<font color = bold><font color = underline>Question2</font></font>: Which is the best <font color = green>gaming</font> <font color = green>laptop</font> under 40,000 rs?<br><font color = bold><font color = underline>Question1</font></font>: Which is the best gaming laptop under 40k?\n",
              "<font color = bold><font color = underline>Question2</font></font>: Which is the best <font color = red>multiplayer</font> <font color = red>confetti</font> under 40,000 rs?"
            ],
            "text/plain": [
              "<IPython.core.display.HTML object>"
            ]
          },
          "metadata": {
            "tags": []
          }
        },
        {
          "output_type": "stream",
          "text": [
            "\r[Succeeded / Failed / Total] 5 / 6 / 13:  52%|█████▏    | 13/25 [00:18<00:16,  1.40s/it]"
          ],
          "name": "stderr"
        },
        {
          "output_type": "display_data",
          "data": {
            "text/html": [
              "<font color = red>Not_duplicate (100%)</font> --> <font color = red>[FAILED]</font><br><font color = bold><font color = underline>Question1</font></font>: Why Tamil Nadu Universities are no good?\n",
              "<font color = bold><font color = underline>Question2</font></font>: Why are the 10th students able to score 100% in Tamil Nadu?"
            ],
            "text/plain": [
              "<IPython.core.display.HTML object>"
            ]
          },
          "metadata": {
            "tags": []
          }
        },
        {
          "output_type": "stream",
          "text": [
            "[Succeeded / Failed / Total] 5 / 7 / 14:  56%|█████▌    | 14/25 [00:18<00:14,  1.33s/it]"
          ],
          "name": "stderr"
        },
        {
          "output_type": "display_data",
          "data": {
            "text/html": [
              "<font color = red>Not_duplicate (100%)</font> --> <font color = red>[FAILED]</font><br><font color = bold><font color = underline>Question1</font></font>: What is an easy way to clean toothpaste stains from a shirt without washing it?\n",
              "<font color = bold><font color = underline>Question2</font></font>: What are some ways to remove hard water stains from dishes?"
            ],
            "text/plain": [
              "<IPython.core.display.HTML object>"
            ]
          },
          "metadata": {
            "tags": []
          }
        },
        {
          "output_type": "stream",
          "text": [
            "\r[Succeeded / Failed / Total] 5 / 8 / 15:  60%|██████    | 15/25 [00:22<00:15,  1.52s/it]"
          ],
          "name": "stderr"
        },
        {
          "output_type": "display_data",
          "data": {
            "text/html": [
              "<font color = green>Duplicate (89%)</font> --> <font color = red>Not_duplicate (100%)</font><br><font color = bold><font color = underline>Question1</font></font>: What was the deadliest <font color = green>battle</font> in history?\n",
              "<font color = bold><font color = underline>Question2</font></font>: What was the bloodiest battle in history?<br><font color = bold><font color = underline>Question1</font></font>: What was the deadliest <font color = red>agincourt</font> in history?\n",
              "<font color = bold><font color = underline>Question2</font></font>: What was the bloodiest battle in history?"
            ],
            "text/plain": [
              "<IPython.core.display.HTML object>"
            ]
          },
          "metadata": {
            "tags": []
          }
        },
        {
          "output_type": "stream",
          "text": [
            "[Succeeded / Failed / Total] 6 / 8 / 16:  64%|██████▍   | 16/25 [00:23<00:13,  1.44s/it]"
          ],
          "name": "stderr"
        },
        {
          "output_type": "display_data",
          "data": {
            "text/html": [
              "<font color = green>Duplicate (100%)</font> --> <font color = red>Not_duplicate (57%)</font><br><font color = bold><font color = underline>Question1</font></font>: What are your views about demonetisation in India?\n",
              "<font color = bold><font color = underline>Question2</font></font>: What do you think about the <font color = green>ban</font> on 500 and 1000 denomination notes in India?<br><font color = bold><font color = underline>Question1</font></font>: What are your views about demonetisation in India?\n",
              "<font color = bold><font color = underline>Question2</font></font>: What do you think about the <font color = red>ozone</font> on 500 and 1000 denomination notes in India?"
            ],
            "text/plain": [
              "<IPython.core.display.HTML object>"
            ]
          },
          "metadata": {
            "tags": []
          }
        },
        {
          "output_type": "stream",
          "text": [
            "\r[Succeeded / Failed / Total] 7 / 8 / 17:  68%|██████▊   | 17/25 [00:23<00:10,  1.37s/it]"
          ],
          "name": "stderr"
        },
        {
          "output_type": "display_data",
          "data": {
            "text/html": [
              "<font color = red>Not_duplicate (100%)</font> --> <font color = red>[FAILED]</font><br><font color = bold><font color = underline>Question1</font></font>: What are the difference between polyester 210T and 210D?\n",
              "<font color = bold><font color = underline>Question2</font></font>: What is the difference between cotton and polyester?"
            ],
            "text/plain": [
              "<IPython.core.display.HTML object>"
            ]
          },
          "metadata": {
            "tags": []
          }
        },
        {
          "output_type": "stream",
          "text": [
            "[Succeeded / Failed / Total] 7 / 9 / 18:  72%|███████▏  | 18/25 [00:23<00:09,  1.33s/it]"
          ],
          "name": "stderr"
        },
        {
          "output_type": "display_data",
          "data": {
            "text/html": [
              "<font color = red>Not_duplicate (82%)</font> --> <font color = red>[FAILED]</font><br><font color = bold><font color = underline>Question1</font></font>: Is FMS Delhi a good option for a MBA executive program?\n",
              "<font color = bold><font color = underline>Question2</font></font>: Is FMS a good choice for an MBA in HR? Why and why not?"
            ],
            "text/plain": [
              "<IPython.core.display.HTML object>"
            ]
          },
          "metadata": {
            "tags": []
          }
        },
        {
          "output_type": "stream",
          "text": [
            "\r[Succeeded / Failed / Total] 7 / 10 / 19:  76%|███████▌  | 19/25 [00:24<00:07,  1.31s/it]"
          ],
          "name": "stderr"
        },
        {
          "output_type": "display_data",
          "data": {
            "text/html": [
              "<font color = red>Not_duplicate (63%)</font> --> <font color = gray>[SKIPPED]</font><br><font color = bold><font color = underline>Question1</font></font>: Is it a bad time to buy a condo or a house in the Bay Area in 2017?\n",
              "<font color = bold><font color = underline>Question2</font></font>: Would 2017 be a good time to buy a house in Bay Area?"
            ],
            "text/plain": [
              "<IPython.core.display.HTML object>"
            ]
          },
          "metadata": {
            "tags": []
          }
        },
        {
          "output_type": "stream",
          "text": [
            "[Succeeded / Failed / Total] 7 / 10 / 20:  80%|████████  | 20/25 [00:24<00:06,  1.24s/it]"
          ],
          "name": "stderr"
        },
        {
          "output_type": "display_data",
          "data": {
            "text/html": [
              "<font color = red>Not_duplicate (100%)</font> --> <font color = red>[FAILED]</font><br><font color = bold><font color = underline>Question1</font></font>: How is vanilla extract made?\n",
              "<font color = bold><font color = underline>Question2</font></font>: How do you make sugar cookies without vanilla extract?"
            ],
            "text/plain": [
              "<IPython.core.display.HTML object>"
            ]
          },
          "metadata": {
            "tags": []
          }
        },
        {
          "output_type": "stream",
          "text": [
            "\r[Succeeded / Failed / Total] 7 / 11 / 21:  84%|████████▍ | 21/25 [00:26<00:05,  1.27s/it]"
          ],
          "name": "stderr"
        },
        {
          "output_type": "display_data",
          "data": {
            "text/html": [
              "<font color = green>Duplicate (100%)</font> --> <font color = red>Not_duplicate (98%)</font><br><font color = bold><font color = underline>Question1</font></font>: What is the Sahara, and how do the average temperatures there compare to the ones in the Patagonian Desert?\n",
              "<font color = bold><font color = underline>Question2</font></font>: What is the Sahara, and how do the average <font color = green>temperatures</font> there compare to the ones in the Registan Desert?<br><font color = bold><font color = underline>Question1</font></font>: What is the Sahara, and how do the average temperatures there compare to the ones in the Patagonian Desert?\n",
              "<font color = bold><font color = underline>Question2</font></font>: What is the Sahara, and how do the average <font color = red>pressures</font> there compare to the ones in the Registan Desert?"
            ],
            "text/plain": [
              "<IPython.core.display.HTML object>"
            ]
          },
          "metadata": {
            "tags": []
          }
        },
        {
          "output_type": "stream",
          "text": [
            "[Succeeded / Failed / Total] 8 / 11 / 22:  88%|████████▊ | 22/25 [00:27<00:03,  1.23s/it]"
          ],
          "name": "stderr"
        },
        {
          "output_type": "display_data",
          "data": {
            "text/html": [
              "<font color = red>Not_duplicate (100%)</font> --> <font color = red>[FAILED]</font><br><font color = bold><font color = underline>Question1</font></font>: Why was the Roman Empire so successful?\n",
              "<font color = bold><font color = underline>Question2</font></font>: What are some of the rarely known facts about the Roman Empire?"
            ],
            "text/plain": [
              "<IPython.core.display.HTML object>"
            ]
          },
          "metadata": {
            "tags": []
          }
        },
        {
          "output_type": "stream",
          "text": [
            "\r[Succeeded / Failed / Total] 8 / 12 / 23:  92%|█████████▏| 23/25 [00:27<00:02,  1.19s/it]"
          ],
          "name": "stderr"
        },
        {
          "output_type": "display_data",
          "data": {
            "text/html": [
              "<font color = red>Not_duplicate (100%)</font> --> <font color = red>[FAILED]</font><br><font color = bold><font color = underline>Question1</font></font>: Is it advisable to sent your cv to a professor with whom you are trying to make contact for graduate admission?\n",
              "<font color = bold><font color = underline>Question2</font></font>: How does contacting a professor before applying factor into graduate admissions?"
            ],
            "text/plain": [
              "<IPython.core.display.HTML object>"
            ]
          },
          "metadata": {
            "tags": []
          }
        },
        {
          "output_type": "stream",
          "text": [
            "[Succeeded / Failed / Total] 8 / 13 / 24:  96%|█████████▌| 24/25 [00:32<00:01,  1.36s/it]"
          ],
          "name": "stderr"
        },
        {
          "output_type": "display_data",
          "data": {
            "text/html": [
              "<font color = red>Not_duplicate (100%)</font> --> <font color = red>[FAILED]</font><br><font color = bold><font color = underline>Question1</font></font>: Does a RainTPL syntax extension for Sublime Text exist? Where can I download it?\n",
              "<font color = bold><font color = underline>Question2</font></font>: How do I hide the find/replace bar in Sublime Text 2?"
            ],
            "text/plain": [
              "<IPython.core.display.HTML object>"
            ]
          },
          "metadata": {
            "tags": []
          }
        },
        {
          "output_type": "stream",
          "text": [
            "\r[Succeeded / Failed / Total] 8 / 14 / 25: 100%|██████████| 25/25 [00:34<00:00,  1.37s/it]"
          ],
          "name": "stderr"
        },
        {
          "output_type": "display_data",
          "data": {
            "text/html": [
              "<font color = red>Not_duplicate (99%)</font> --> <font color = green>Duplicate (51%)</font><br><font color = bold><font color = underline>Question1</font></font>: What is the average salary of a microbiologist in India?\n",
              "<font color = bold><font color = underline>Question2</font></font>: What is the salary for a <font color = red>psychologist</font> in india?<br><font color = bold><font color = underline>Question1</font></font>: What is the average salary of a microbiologist in India?\n",
              "<font color = bold><font color = underline>Question2</font></font>: What is the salary for a <font color = green>zoologist</font> in india?"
            ],
            "text/plain": [
              "<IPython.core.display.HTML object>"
            ]
          },
          "metadata": {
            "tags": []
          }
        },
        {
          "output_type": "stream",
          "text": [
            "[Succeeded / Failed / Total] 9 / 14 / 26: : 26it [00:34,  1.32s/it]"
          ],
          "name": "stderr"
        },
        {
          "output_type": "display_data",
          "data": {
            "text/html": [
              "<font color = red>Not_duplicate (100%)</font> --> <font color = red>[FAILED]</font><br><font color = bold><font color = underline>Question1</font></font>: How do you close a Bank of America account?\n",
              "<font color = bold><font color = underline>Question2</font></font>: How can one close a bank account online?"
            ],
            "text/plain": [
              "<IPython.core.display.HTML object>"
            ]
          },
          "metadata": {
            "tags": []
          }
        },
        {
          "output_type": "stream",
          "text": [
            "\r[Succeeded / Failed / Total] 9 / 15 / 27: : 27it [00:35,  1.32s/it]"
          ],
          "name": "stderr"
        },
        {
          "output_type": "display_data",
          "data": {
            "text/html": [
              "<font color = red>Not_duplicate (71%)</font> --> <font color = green>Duplicate (91%)</font><br><font color = bold><font color = underline>Question1</font></font>: How can I create the most popular question on Quora?\n",
              "<font color = bold><font color = underline>Question2</font></font>: Which are the most popular questions on Quora presently that <font color = red>also</font> create the most discussions?<br><font color = bold><font color = underline>Question1</font></font>: How can I create the most popular question on Quora?\n",
              "<font color = bold><font color = underline>Question2</font></font>: Which are the most popular questions on Quora presently that <font color = green>mokhlos</font> create the most discussions?"
            ],
            "text/plain": [
              "<IPython.core.display.HTML object>"
            ]
          },
          "metadata": {
            "tags": []
          }
        },
        {
          "output_type": "stream",
          "text": [
            "[Succeeded / Failed / Total] 10 / 15 / 28: : 28it [00:35,  1.28s/it]"
          ],
          "name": "stderr"
        },
        {
          "output_type": "stream",
          "text": [
            "+-------------------------------+--------+\n",
            "| Attack Results                |        |\n",
            "+-------------------------------+--------+\n",
            "| Number of successful attacks: | 10     |\n",
            "| Number of failed attacks:     | 15     |\n",
            "| Number of skipped attacks:    | 3      |\n",
            "| Original accuracy:            | 89.29% |\n",
            "| Accuracy under attack:        | 53.57% |\n",
            "| Attack success rate:          | 40.0%  |\n",
            "| Average perturbed word %:     | 5.42%  |\n",
            "| Average num. words per input: | 22.39  |\n",
            "| Avg num queries:              | 35.64  |\n",
            "+-------------------------------+--------+"
          ],
          "name": "stdout"
        },
        {
          "output_type": "stream",
          "text": [
            "\n",
            "\u001b[34;1mtextattack\u001b[0m: Attack time: 35.9875693321228s\n"
          ],
          "name": "stderr"
        }
      ]
    },
    {
      "cell_type": "code",
      "metadata": {
        "colab": {
          "base_uri": "https://localhost:8080/"
        },
        "id": "GKzdReqjl3GW",
        "outputId": "7f68022e-33c2-4b81-c9cb-5e9b9bb455c2"
      },
      "source": [
        "from textattack.search_methods import GreedyWordSwapWIR\n",
        "from textattack.constraints.pre_transformation import RepeatModification, StopwordModification\n",
        "from textattack.shared import Attack\n",
        "from textattack.goal_functions import UntargetedClassification\n",
        "from textattack.datasets import HuggingFaceDataset\n",
        "\n",
        "# We're going to use our word swap class as the attack transformation.\n",
        "transformation = Swapper()\n",
        "\n",
        "constraints = [RepeatModification(),\n",
        "               StopwordModification()]\n",
        "\n",
        "search_method = GreedyWordSwapWIR()\n",
        "\n",
        "goal_function = UntargetedClassification(model_wrapper)\n",
        "\n",
        "# Now, let's make the attack from the 4 components:\n",
        "attack = Attack(goal_function, constraints, transformation, search_method)\n",
        "\n",
        "dataset = HuggingFaceDataset(\"glue\", \"qqp\", \"validation\") # Change the dataset"
      ],
      "execution_count": 24,
      "outputs": [
        {
          "output_type": "stream",
          "text": [
            "\u001b[34;1mtextattack\u001b[0m: Unknown if model of class <class 'transformers.models.albert.modeling_albert.AlbertForSequenceClassification'> compatible with goal function <class 'textattack.goal_functions.classification.untargeted_classification.UntargetedClassification'>.\n",
            "Reusing dataset glue (/root/.cache/huggingface/datasets/glue/qqp/1.0.0/dacbe3125aa31d7f70367a07a8a9e72a5a0bfeb5fc42e75c9db75b96da6053ad)\n",
            "\u001b[34;1mtextattack\u001b[0m: Loading \u001b[94mdatasets\u001b[0m dataset \u001b[94mglue\u001b[0m, subset \u001b[94mqqp\u001b[0m, split \u001b[94mvalidation\u001b[0m.\n"
          ],
          "name": "stderr"
        }
      ]
    },
    {
      "cell_type": "code",
      "metadata": {
        "colab": {
          "base_uri": "https://localhost:8080/"
        },
        "id": "pSqav791mqYf",
        "outputId": "d5a0eee4-17f7-4285-c5ec-4163466654c3"
      },
      "source": [
        "print(attack)"
      ],
      "execution_count": 25,
      "outputs": [
        {
          "output_type": "stream",
          "text": [
            "Attack(\n",
            "  (search_method): GreedyWordSwapWIR(\n",
            "    (wir_method):  unk\n",
            "  )\n",
            "  (goal_function):  UntargetedClassification\n",
            "  (transformation):  Swapper\n",
            "  (constraints): \n",
            "    (0): RepeatModification\n",
            "    (1): StopwordModification\n",
            "  (is_black_box):  True\n",
            ")\n"
          ],
          "name": "stdout"
        }
      ]
    },
    {
      "cell_type": "code",
      "metadata": {
        "colab": {
          "base_uri": "https://localhost:8080/",
          "height": 1000
        },
        "id": "7u4kS3Mjmxkf",
        "outputId": "4d8d3c8c-a6dd-4f8f-8fcf-4f3e43308e15"
      },
      "source": [
        "printexample(attack)"
      ],
      "execution_count": 26,
      "outputs": [
        {
          "output_type": "stream",
          "text": [
            "\r  0%|          | 0/25 [00:00<?, ?it/s]"
          ],
          "name": "stderr"
        },
        {
          "output_type": "stream",
          "text": [
            "Attack(\n",
            "  (search_method): GreedyWordSwapWIR(\n",
            "    (wir_method):  unk\n",
            "  )\n",
            "  (goal_function):  UntargetedClassification\n",
            "  (transformation):  Swapper\n",
            "  (constraints): \n",
            "    (0): RepeatModification\n",
            "    (1): StopwordModification\n",
            "  (is_black_box):  True\n",
            ")\n"
          ],
          "name": "stdout"
        },
        {
          "output_type": "display_data",
          "data": {
            "text/html": [
              "<font color = red>Not_duplicate (89%)</font> --> <font color = red>[FAILED]</font><br><font color = bold><font color = underline>Question1</font></font>: Why are African-Americans so beautiful?\n",
              "<font color = bold><font color = underline>Question2</font></font>: Why are hispanics so beautiful?"
            ],
            "text/plain": [
              "<IPython.core.display.HTML object>"
            ]
          },
          "metadata": {
            "tags": []
          }
        },
        {
          "output_type": "stream",
          "text": [
            "[Succeeded / Failed / Total] 0 / 1 / 1:   4%|▍         | 1/25 [00:00<00:09,  2.42it/s]"
          ],
          "name": "stderr"
        },
        {
          "output_type": "display_data",
          "data": {
            "text/html": [
              "<font color = red>Not_duplicate (100%)</font> --> <font color = red>[FAILED]</font><br><font color = bold><font color = underline>Question1</font></font>: I want to pursue PhD in Computer Science about social network,what is the open problem in social networks?\n",
              "<font color = bold><font color = underline>Question2</font></font>: I handle social media for a non-profit. Should I start going to social media networking events? Are there any good ones in the bay area?"
            ],
            "text/plain": [
              "<IPython.core.display.HTML object>"
            ]
          },
          "metadata": {
            "tags": []
          }
        },
        {
          "output_type": "stream",
          "text": [
            "[Succeeded / Failed / Total] 0 / 2 / 2:   8%|▊         | 2/25 [00:02<00:24,  1.07s/it]"
          ],
          "name": "stderr"
        },
        {
          "output_type": "display_data",
          "data": {
            "text/html": [
              "<font color = green>Duplicate (97%)</font> --> <font color = red>Not_duplicate (100%)</font><br><font color = bold><font color = underline>Question1</font></font>: Is there a reason why we should <font color = green>travel</font> <font color = green>alone</font>?\n",
              "<font color = bold><font color = underline>Question2</font></font>: What are some reasons to travel alone?<br><font color = bold><font color = underline>Question1</font></font>: Is there a reason why we should <font color = red>travelling</font> <font color = red>someone</font>?\n",
              "<font color = bold><font color = underline>Question2</font></font>: What are some reasons to travel alone?"
            ],
            "text/plain": [
              "<IPython.core.display.HTML object>"
            ]
          },
          "metadata": {
            "tags": []
          }
        },
        {
          "output_type": "stream",
          "text": [
            "[Succeeded / Failed / Total] 1 / 2 / 3:  12%|█▏        | 3/25 [00:02<00:18,  1.16it/s]"
          ],
          "name": "stderr"
        },
        {
          "output_type": "display_data",
          "data": {
            "text/html": [
              "<font color = red>Not_duplicate (100%)</font> --> <font color = red>[FAILED]</font><br><font color = bold><font color = underline>Question1</font></font>: Why are people so obsessed with having a girlfriend/boyfriend?\n",
              "<font color = bold><font color = underline>Question2</font></font>: How can a single male have a child?"
            ],
            "text/plain": [
              "<IPython.core.display.HTML object>"
            ]
          },
          "metadata": {
            "tags": []
          }
        },
        {
          "output_type": "stream",
          "text": [
            "[Succeeded / Failed / Total] 1 / 3 / 4:  16%|█▌        | 4/25 [00:03<00:16,  1.25it/s]"
          ],
          "name": "stderr"
        },
        {
          "output_type": "display_data",
          "data": {
            "text/html": [
              "<font color = red>Not_duplicate (81%)</font> --> <font color = green>Duplicate (94%)</font><br><font color = bold><font color = underline>Question1</font></font>: What are some good baby girl names starting with D?\n",
              "<font color = bold><font color = underline>Question2</font></font>: What are some good baby girl names starting with D or <font color = red>H</font>?<br><font color = bold><font color = underline>Question1</font></font>: What are some good baby girl names starting with D?\n",
              "<font color = bold><font color = underline>Question2</font></font>: What are some good baby girl names starting with D or <font color = green>QUE</font>?"
            ],
            "text/plain": [
              "<IPython.core.display.HTML object>"
            ]
          },
          "metadata": {
            "tags": []
          }
        },
        {
          "output_type": "stream",
          "text": [
            "[Succeeded / Failed / Total] 2 / 3 / 5:  20%|██        | 5/25 [00:03<00:14,  1.36it/s]"
          ],
          "name": "stderr"
        },
        {
          "output_type": "display_data",
          "data": {
            "text/html": [
              "<font color = green>Duplicate (96%)</font> --> <font color = red>Not_duplicate (85%)</font><br><font color = bold><font color = underline>Question1</font></font>: I am <font color = green>25</font> year old guy and never had a girlfriend. Is this weird?\n",
              "<font color = bold><font color = underline>Question2</font></font>: I am 25 years old. I have never had a girlfriend. Is something wrong with me?<br><font color = bold><font color = underline>Question1</font></font>: I am <font color = red>chmielnicki</font> year old guy and never had a girlfriend. Is this weird?\n",
              "<font color = bold><font color = underline>Question2</font></font>: I am 25 years old. I have never had a girlfriend. Is something wrong with me?"
            ],
            "text/plain": [
              "<IPython.core.display.HTML object>"
            ]
          },
          "metadata": {
            "tags": []
          }
        },
        {
          "output_type": "stream",
          "text": [
            "[Succeeded / Failed / Total] 3 / 3 / 6:  24%|██▍       | 6/25 [00:04<00:13,  1.41it/s]"
          ],
          "name": "stderr"
        },
        {
          "output_type": "display_data",
          "data": {
            "text/html": [
              "<font color = red>Not_duplicate (100%)</font> --> <font color = gray>[SKIPPED]</font><br><font color = bold><font color = underline>Question1</font></font>: \"What does a good answer on Quora look like? What does it mean to \"\"be helpful\"\"?\"\n",
              "<font color = bold><font color = underline>Question2</font></font>: How do you write a good answer on Quora?"
            ],
            "text/plain": [
              "<IPython.core.display.HTML object>"
            ]
          },
          "metadata": {
            "tags": []
          }
        },
        {
          "output_type": "stream",
          "text": [
            "\r[Succeeded / Failed / Total] 3 / 3 / 7:  28%|██▊       | 7/25 [00:04<00:11,  1.63it/s]"
          ],
          "name": "stderr"
        },
        {
          "output_type": "display_data",
          "data": {
            "text/html": [
              "<font color = green>Duplicate (82%)</font> --> <font color = red>Not_duplicate (100%)</font><br><font color = bold><font color = underline>Question1</font></font>: What are the best things to do in <font color = green>Hong</font> Kong?\n",
              "<font color = bold><font color = underline>Question2</font></font>: What is the <font color = green>best</font> thing in Hong Kong?<br><font color = bold><font color = underline>Question1</font></font>: What are the best things to do in <font color = red>Yong</font> Kong?\n",
              "<font color = bold><font color = underline>Question2</font></font>: What is the <font color = red>finest</font> thing in Hong Kong?"
            ],
            "text/plain": [
              "<IPython.core.display.HTML object>"
            ]
          },
          "metadata": {
            "tags": []
          }
        },
        {
          "output_type": "stream",
          "text": [
            "[Succeeded / Failed / Total] 4 / 3 / 8:  32%|███▏      | 8/25 [00:04<00:10,  1.68it/s]"
          ],
          "name": "stderr"
        },
        {
          "output_type": "display_data",
          "data": {
            "text/html": [
              "<font color = green>Duplicate (54%)</font> --> <font color = gray>[SKIPPED]</font><br><font color = bold><font color = underline>Question1</font></font>: Why is my life getting so complicated?\n",
              "<font color = bold><font color = underline>Question2</font></font>: Why is my life so complicated?"
            ],
            "text/plain": [
              "<IPython.core.display.HTML object>"
            ]
          },
          "metadata": {
            "tags": []
          }
        },
        {
          "output_type": "stream",
          "text": [
            "\r[Succeeded / Failed / Total] 4 / 3 / 9:  36%|███▌      | 9/25 [00:04<00:08,  1.88it/s]"
          ],
          "name": "stderr"
        },
        {
          "output_type": "display_data",
          "data": {
            "text/html": [
              "<font color = red>Not_duplicate (100%)</font> --> <font color = red>[FAILED]</font><br><font color = bold><font color = underline>Question1</font></font>: Why should I crack Jee?\n",
              "<font color = bold><font color = underline>Question2</font></font>: Is it possible to get into IIMs with low marks in graduation and 12th?"
            ],
            "text/plain": [
              "<IPython.core.display.HTML object>"
            ]
          },
          "metadata": {
            "tags": []
          }
        },
        {
          "output_type": "stream",
          "text": [
            "[Succeeded / Failed / Total] 4 / 4 / 10:  40%|████      | 10/25 [00:05<00:08,  1.83it/s]"
          ],
          "name": "stderr"
        },
        {
          "output_type": "display_data",
          "data": {
            "text/html": [
              "<font color = red>Not_duplicate (100%)</font> --> <font color = red>[FAILED]</font><br><font color = bold><font color = underline>Question1</font></font>: Can you TRANSLATE these to English language?\n",
              "<font color = bold><font color = underline>Question2</font></font>: Can you translate this from Bengali to English language?"
            ],
            "text/plain": [
              "<IPython.core.display.HTML object>"
            ]
          },
          "metadata": {
            "tags": []
          }
        },
        {
          "output_type": "stream",
          "text": [
            "\r[Succeeded / Failed / Total] 4 / 5 / 11:  44%|████▍     | 11/25 [00:06<00:07,  1.82it/s]"
          ],
          "name": "stderr"
        },
        {
          "output_type": "display_data",
          "data": {
            "text/html": [
              "<font color = red>Not_duplicate (100%)</font> --> <font color = red>[FAILED]</font><br><font color = bold><font color = underline>Question1</font></font>: Can anyone tell shall mi mix mobile should be purchased or not?\n",
              "<font color = bold><font color = underline>Question2</font></font>: \"What did Voltaire mean when he said, \"\"God is a comedian playing to an audience that is too afraid to laugh\"\"?\""
            ],
            "text/plain": [
              "<IPython.core.display.HTML object>"
            ]
          },
          "metadata": {
            "tags": []
          }
        },
        {
          "output_type": "stream",
          "text": [
            "[Succeeded / Failed / Total] 4 / 6 / 12:  48%|████▊     | 12/25 [00:07<00:07,  1.67it/s]"
          ],
          "name": "stderr"
        },
        {
          "output_type": "display_data",
          "data": {
            "text/html": [
              "<font color = green>Duplicate (100%)</font> --> <font color = red>Not_duplicate (98%)</font><br><font color = bold><font color = underline>Question1</font></font>: Which is the best gaming laptop under 40k?\n",
              "<font color = bold><font color = underline>Question2</font></font>: Which is the best gaming laptop under <font color = green>40</font>,000 rs?<br><font color = bold><font color = underline>Question1</font></font>: Which is the best gaming laptop under 40k?\n",
              "<font color = bold><font color = underline>Question2</font></font>: Which is the best gaming laptop under <font color = red>undo</font>,000 rs?"
            ],
            "text/plain": [
              "<IPython.core.display.HTML object>"
            ]
          },
          "metadata": {
            "tags": []
          }
        },
        {
          "output_type": "stream",
          "text": [
            "\r[Succeeded / Failed / Total] 5 / 6 / 13:  52%|█████▏    | 13/25 [00:07<00:06,  1.73it/s]"
          ],
          "name": "stderr"
        },
        {
          "output_type": "display_data",
          "data": {
            "text/html": [
              "<font color = red>Not_duplicate (100%)</font> --> <font color = red>[FAILED]</font><br><font color = bold><font color = underline>Question1</font></font>: Why Tamil Nadu Universities are no good?\n",
              "<font color = bold><font color = underline>Question2</font></font>: Why are the 10th students able to score 100% in Tamil Nadu?"
            ],
            "text/plain": [
              "<IPython.core.display.HTML object>"
            ]
          },
          "metadata": {
            "tags": []
          }
        },
        {
          "output_type": "stream",
          "text": [
            "[Succeeded / Failed / Total] 5 / 7 / 14:  56%|█████▌    | 14/25 [00:08<00:06,  1.69it/s]"
          ],
          "name": "stderr"
        },
        {
          "output_type": "display_data",
          "data": {
            "text/html": [
              "<font color = red>Not_duplicate (100%)</font> --> <font color = red>[FAILED]</font><br><font color = bold><font color = underline>Question1</font></font>: What is an easy way to clean toothpaste stains from a shirt without washing it?\n",
              "<font color = bold><font color = underline>Question2</font></font>: What are some ways to remove hard water stains from dishes?"
            ],
            "text/plain": [
              "<IPython.core.display.HTML object>"
            ]
          },
          "metadata": {
            "tags": []
          }
        },
        {
          "output_type": "stream",
          "text": [
            "\r[Succeeded / Failed / Total] 5 / 8 / 15:  60%|██████    | 15/25 [00:09<00:06,  1.62it/s]"
          ],
          "name": "stderr"
        },
        {
          "output_type": "display_data",
          "data": {
            "text/html": [
              "<font color = green>Duplicate (89%)</font> --> <font color = red>Not_duplicate (99%)</font><br><font color = bold><font color = underline>Question1</font></font>: What was the deadliest battle in history?\n",
              "<font color = bold><font color = underline>Question2</font></font>: What was the bloodiest <font color = green>battle</font> in history?<br><font color = bold><font color = underline>Question1</font></font>: What was the deadliest battle in history?\n",
              "<font color = bold><font color = underline>Question2</font></font>: What was the bloodiest <font color = red>battlezone</font> in history?"
            ],
            "text/plain": [
              "<IPython.core.display.HTML object>"
            ]
          },
          "metadata": {
            "tags": []
          }
        },
        {
          "output_type": "stream",
          "text": [
            "[Succeeded / Failed / Total] 6 / 8 / 16:  64%|██████▍   | 16/25 [00:09<00:05,  1.67it/s]"
          ],
          "name": "stderr"
        },
        {
          "output_type": "display_data",
          "data": {
            "text/html": [
              "<font color = green>Duplicate (100%)</font> --> <font color = red>Not_duplicate (73%)</font><br><font color = bold><font color = underline>Question1</font></font>: What are your views about demonetisation in <font color = green>India</font>?\n",
              "<font color = bold><font color = underline>Question2</font></font>: What do you <font color = green>think</font> about the ban on 500 and 1000 denomination notes in India?<br><font color = bold><font color = underline>Question1</font></font>: What are your views about demonetisation in <font color = red>Ndia</font>?\n",
              "<font color = bold><font color = underline>Question2</font></font>: What do you <font color = red>say</font> about the ban on 500 and 1000 denomination notes in India?"
            ],
            "text/plain": [
              "<IPython.core.display.HTML object>"
            ]
          },
          "metadata": {
            "tags": []
          }
        },
        {
          "output_type": "stream",
          "text": [
            "\r[Succeeded / Failed / Total] 7 / 8 / 17:  68%|██████▊   | 17/25 [00:10<00:04,  1.69it/s]"
          ],
          "name": "stderr"
        },
        {
          "output_type": "display_data",
          "data": {
            "text/html": [
              "<font color = red>Not_duplicate (100%)</font> --> <font color = red>[FAILED]</font><br><font color = bold><font color = underline>Question1</font></font>: What are the difference between polyester 210T and 210D?\n",
              "<font color = bold><font color = underline>Question2</font></font>: What is the difference between cotton and polyester?"
            ],
            "text/plain": [
              "<IPython.core.display.HTML object>"
            ]
          },
          "metadata": {
            "tags": []
          }
        },
        {
          "output_type": "stream",
          "text": [
            "[Succeeded / Failed / Total] 7 / 9 / 18:  72%|███████▏  | 18/25 [00:10<00:04,  1.69it/s]"
          ],
          "name": "stderr"
        },
        {
          "output_type": "display_data",
          "data": {
            "text/html": [
              "<font color = red>Not_duplicate (82%)</font> --> <font color = green>Duplicate (66%)</font><br><font color = bold><font color = underline>Question1</font></font>: <font color = red>Is</font> FMS Delhi a good option for a MBA executive <font color = red>program</font>?\n",
              "<font color = bold><font color = underline>Question2</font></font>: <font color = red>Is</font> FMS a good choice for an MBA in HR? Why and why not?<br><font color = bold><font color = underline>Question1</font></font>: <font color = green>Larva</font> FMS Delhi a good option for a MBA executive <font color = green>prog</font>?\n",
              "<font color = bold><font color = underline>Question2</font></font>: <font color = green>Larva</font> FMS a good choice for an MBA in HR? Why and why not?"
            ],
            "text/plain": [
              "<IPython.core.display.HTML object>"
            ]
          },
          "metadata": {
            "tags": []
          }
        },
        {
          "output_type": "stream",
          "text": [
            "\r[Succeeded / Failed / Total] 8 / 9 / 19:  76%|███████▌  | 19/25 [00:11<00:03,  1.66it/s]"
          ],
          "name": "stderr"
        },
        {
          "output_type": "display_data",
          "data": {
            "text/html": [
              "<font color = red>Not_duplicate (63%)</font> --> <font color = gray>[SKIPPED]</font><br><font color = bold><font color = underline>Question1</font></font>: Is it a bad time to buy a condo or a house in the Bay Area in 2017?\n",
              "<font color = bold><font color = underline>Question2</font></font>: Would 2017 be a good time to buy a house in Bay Area?"
            ],
            "text/plain": [
              "<IPython.core.display.HTML object>"
            ]
          },
          "metadata": {
            "tags": []
          }
        },
        {
          "output_type": "stream",
          "text": [
            "[Succeeded / Failed / Total] 8 / 9 / 20:  80%|████████  | 20/25 [00:11<00:02,  1.75it/s]"
          ],
          "name": "stderr"
        },
        {
          "output_type": "display_data",
          "data": {
            "text/html": [
              "<font color = red>Not_duplicate (100%)</font> --> <font color = red>[FAILED]</font><br><font color = bold><font color = underline>Question1</font></font>: How is vanilla extract made?\n",
              "<font color = bold><font color = underline>Question2</font></font>: How do you make sugar cookies without vanilla extract?"
            ],
            "text/plain": [
              "<IPython.core.display.HTML object>"
            ]
          },
          "metadata": {
            "tags": []
          }
        },
        {
          "output_type": "stream",
          "text": [
            "\r[Succeeded / Failed / Total] 8 / 10 / 21:  84%|████████▍ | 21/25 [00:12<00:02,  1.74it/s]"
          ],
          "name": "stderr"
        },
        {
          "output_type": "display_data",
          "data": {
            "text/html": [
              "<font color = green>Duplicate (100%)</font> --> <font color = red>Not_duplicate (58%)</font><br><font color = bold><font color = underline>Question1</font></font>: What is the <font color = green>Sahara</font>, and how do the average temperatures there compare to the ones in the Patagonian Desert?\n",
              "<font color = bold><font color = underline>Question2</font></font>: What is the Sahara, and how do the average <font color = green>temperatures</font> there compare to the ones in the Registan Desert?<br><font color = bold><font color = underline>Question1</font></font>: What is the <font color = red>Zahara</font>, and how do the average temperatures there compare to the ones in the Patagonian Desert?\n",
              "<font color = bold><font color = underline>Question2</font></font>: What is the Sahara, and how do the average <font color = red>temperature</font> there compare to the ones in the Registan Desert?"
            ],
            "text/plain": [
              "<IPython.core.display.HTML object>"
            ]
          },
          "metadata": {
            "tags": []
          }
        },
        {
          "output_type": "stream",
          "text": [
            "[Succeeded / Failed / Total] 9 / 10 / 22:  88%|████████▊ | 22/25 [00:12<00:01,  1.71it/s]"
          ],
          "name": "stderr"
        },
        {
          "output_type": "display_data",
          "data": {
            "text/html": [
              "<font color = red>Not_duplicate (100%)</font> --> <font color = red>[FAILED]</font><br><font color = bold><font color = underline>Question1</font></font>: Why was the Roman Empire so successful?\n",
              "<font color = bold><font color = underline>Question2</font></font>: What are some of the rarely known facts about the Roman Empire?"
            ],
            "text/plain": [
              "<IPython.core.display.HTML object>"
            ]
          },
          "metadata": {
            "tags": []
          }
        },
        {
          "output_type": "stream",
          "text": [
            "\r[Succeeded / Failed / Total] 9 / 11 / 23:  92%|█████████▏| 23/25 [00:13<00:01,  1.71it/s]"
          ],
          "name": "stderr"
        },
        {
          "output_type": "display_data",
          "data": {
            "text/html": [
              "<font color = red>Not_duplicate (100%)</font> --> <font color = red>[FAILED]</font><br><font color = bold><font color = underline>Question1</font></font>: Is it advisable to sent your cv to a professor with whom you are trying to make contact for graduate admission?\n",
              "<font color = bold><font color = underline>Question2</font></font>: How does contacting a professor before applying factor into graduate admissions?"
            ],
            "text/plain": [
              "<IPython.core.display.HTML object>"
            ]
          },
          "metadata": {
            "tags": []
          }
        },
        {
          "output_type": "stream",
          "text": [
            "[Succeeded / Failed / Total] 9 / 12 / 24:  96%|█████████▌| 24/25 [00:14<00:00,  1.65it/s]"
          ],
          "name": "stderr"
        },
        {
          "output_type": "display_data",
          "data": {
            "text/html": [
              "<font color = red>Not_duplicate (100%)</font> --> <font color = red>[FAILED]</font><br><font color = bold><font color = underline>Question1</font></font>: Does a RainTPL syntax extension for Sublime Text exist? Where can I download it?\n",
              "<font color = bold><font color = underline>Question2</font></font>: How do I hide the find/replace bar in Sublime Text 2?"
            ],
            "text/plain": [
              "<IPython.core.display.HTML object>"
            ]
          },
          "metadata": {
            "tags": []
          }
        },
        {
          "output_type": "stream",
          "text": [
            "\r[Succeeded / Failed / Total] 9 / 13 / 25: 100%|██████████| 25/25 [00:15<00:00,  1.60it/s]"
          ],
          "name": "stderr"
        },
        {
          "output_type": "display_data",
          "data": {
            "text/html": [
              "<font color = red>Not_duplicate (99%)</font> --> <font color = red>[FAILED]</font><br><font color = bold><font color = underline>Question1</font></font>: What is the average salary of a microbiologist in India?\n",
              "<font color = bold><font color = underline>Question2</font></font>: What is the salary for a psychologist in india?"
            ],
            "text/plain": [
              "<IPython.core.display.HTML object>"
            ]
          },
          "metadata": {
            "tags": []
          }
        },
        {
          "output_type": "stream",
          "text": [
            "[Succeeded / Failed / Total] 9 / 14 / 26: : 26it [00:16,  1.60it/s]"
          ],
          "name": "stderr"
        },
        {
          "output_type": "display_data",
          "data": {
            "text/html": [
              "<font color = red>Not_duplicate (100%)</font> --> <font color = green>Duplicate (85%)</font><br><font color = bold><font color = underline>Question1</font></font>: How do you close a Bank of <font color = red>America</font> <font color = red>account</font>?\n",
              "<font color = bold><font color = underline>Question2</font></font>: How can one close a bank <font color = red>account</font> online?<br><font color = bold><font color = underline>Question1</font></font>: How do you close a Bank of <font color = green>Comerica</font> <font color = green>recount</font>?\n",
              "<font color = bold><font color = underline>Question2</font></font>: How can one close a bank <font color = green>recount</font> online?"
            ],
            "text/plain": [
              "<IPython.core.display.HTML object>"
            ]
          },
          "metadata": {
            "tags": []
          }
        },
        {
          "output_type": "stream",
          "text": [
            "\r[Succeeded / Failed / Total] 10 / 14 / 27: : 27it [00:16,  1.62it/s]"
          ],
          "name": "stderr"
        },
        {
          "output_type": "display_data",
          "data": {
            "text/html": [
              "<font color = red>Not_duplicate (71%)</font> --> <font color = green>Duplicate (64%)</font><br><font color = bold><font color = underline>Question1</font></font>: How can I create the most popular question on Quora?\n",
              "<font color = bold><font color = underline>Question2</font></font>: Which are the most popular questions on Quora presently that <font color = red>also</font> create the most discussions?<br><font color = bold><font color = underline>Question1</font></font>: How can I create the most popular question on Quora?\n",
              "<font color = bold><font color = underline>Question2</font></font>: Which are the most popular questions on Quora presently that <font color = green>sometimes</font> create the most discussions?"
            ],
            "text/plain": [
              "<IPython.core.display.HTML object>"
            ]
          },
          "metadata": {
            "tags": []
          }
        },
        {
          "output_type": "stream",
          "text": [
            "[Succeeded / Failed / Total] 11 / 14 / 28: : 28it [00:17,  1.63it/s]"
          ],
          "name": "stderr"
        },
        {
          "output_type": "stream",
          "text": [
            "+-------------------------------+--------+\n",
            "| Attack Results                |        |\n",
            "+-------------------------------+--------+\n",
            "| Number of successful attacks: | 11     |\n",
            "| Number of failed attacks:     | 14     |\n",
            "| Number of skipped attacks:    | 3      |\n",
            "| Original accuracy:            | 89.29% |\n",
            "| Accuracy under attack:        | 50.0%  |\n",
            "| Attack success rate:          | 44.0%  |\n",
            "| Average perturbed word %:     | 8.34%  |\n",
            "| Average num. words per input: | 22.39  |\n",
            "| Avg num queries:              | 31.96  |\n",
            "+-------------------------------+--------+"
          ],
          "name": "stdout"
        },
        {
          "output_type": "stream",
          "text": [
            "\n",
            "\u001b[34;1mtextattack\u001b[0m: Attack time: 17.217236042022705s\n"
          ],
          "name": "stderr"
        }
      ]
    },
    {
      "cell_type": "code",
      "metadata": {
        "colab": {
          "base_uri": "https://localhost:8080/"
        },
        "id": "DLok3tKPm08j",
        "outputId": "d0bb59ac-65d8-45c6-d86e-57ad0f7b4274"
      },
      "source": [
        "from textattack.search_methods import GreedyWordSwapWIR\n",
        "from textattack.constraints.pre_transformation import RepeatModification, StopwordModification\n",
        "from textattack.shared import Attack\n",
        "from textattack.goal_functions import UntargetedClassification\n",
        "from textattack.datasets import HuggingFaceDataset\n",
        "\n",
        "# We're going to use our word swap class as the attack transformation.\n",
        "transformation = Swapper_()\n",
        "\n",
        "constraints = [RepeatModification(),\n",
        "               StopwordModification()]\n",
        "\n",
        "search_method = GreedyWordSwapWIR()\n",
        "\n",
        "goal_function = UntargetedClassification(model_wrapper)\n",
        "\n",
        "# Now, let's make the attack from the 4 components:\n",
        "attack = Attack(goal_function, constraints, transformation, search_method)\n",
        "\n",
        "dataset = HuggingFaceDataset(\"glue\", \"qqp\", \"validation\") # Change the dataset"
      ],
      "execution_count": 27,
      "outputs": [
        {
          "output_type": "stream",
          "text": [
            "\u001b[34;1mtextattack\u001b[0m: Unknown if model of class <class 'transformers.models.albert.modeling_albert.AlbertForSequenceClassification'> compatible with goal function <class 'textattack.goal_functions.classification.untargeted_classification.UntargetedClassification'>.\n",
            "Reusing dataset glue (/root/.cache/huggingface/datasets/glue/qqp/1.0.0/dacbe3125aa31d7f70367a07a8a9e72a5a0bfeb5fc42e75c9db75b96da6053ad)\n",
            "\u001b[34;1mtextattack\u001b[0m: Loading \u001b[94mdatasets\u001b[0m dataset \u001b[94mglue\u001b[0m, subset \u001b[94mqqp\u001b[0m, split \u001b[94mvalidation\u001b[0m.\n"
          ],
          "name": "stderr"
        }
      ]
    },
    {
      "cell_type": "code",
      "metadata": {
        "colab": {
          "base_uri": "https://localhost:8080/"
        },
        "id": "c8G-gxlXm-At",
        "outputId": "95bab9cc-e56c-47f3-b332-0efd95c59392"
      },
      "source": [
        "print(attack)"
      ],
      "execution_count": 28,
      "outputs": [
        {
          "output_type": "stream",
          "text": [
            "Attack(\n",
            "  (search_method): GreedyWordSwapWIR(\n",
            "    (wir_method):  unk\n",
            "  )\n",
            "  (goal_function):  UntargetedClassification\n",
            "  (transformation):  Swapper_\n",
            "  (constraints): \n",
            "    (0): RepeatModification\n",
            "    (1): StopwordModification\n",
            "  (is_black_box):  True\n",
            ")\n"
          ],
          "name": "stdout"
        }
      ]
    },
    {
      "cell_type": "code",
      "metadata": {
        "colab": {
          "base_uri": "https://localhost:8080/",
          "height": 1000
        },
        "id": "FgHOKJd7m_Wm",
        "outputId": "abf6b220-d8d4-49a8-d07c-b589a91a54f2"
      },
      "source": [
        "printexample(attack)"
      ],
      "execution_count": 29,
      "outputs": [
        {
          "output_type": "stream",
          "text": [
            "\r  0%|          | 0/25 [00:00<?, ?it/s]"
          ],
          "name": "stderr"
        },
        {
          "output_type": "stream",
          "text": [
            "Attack(\n",
            "  (search_method): GreedyWordSwapWIR(\n",
            "    (wir_method):  unk\n",
            "  )\n",
            "  (goal_function):  UntargetedClassification\n",
            "  (transformation):  Swapper_\n",
            "  (constraints): \n",
            "    (0): RepeatModification\n",
            "    (1): StopwordModification\n",
            "  (is_black_box):  True\n",
            ")\n"
          ],
          "name": "stdout"
        },
        {
          "output_type": "display_data",
          "data": {
            "text/html": [
              "<font color = red>Not_duplicate (89%)</font> --> <font color = red>[FAILED]</font><br><font color = bold><font color = underline>Question1</font></font>: Why are African-Americans so beautiful?\n",
              "<font color = bold><font color = underline>Question2</font></font>: Why are hispanics so beautiful?"
            ],
            "text/plain": [
              "<IPython.core.display.HTML object>"
            ]
          },
          "metadata": {
            "tags": []
          }
        },
        {
          "output_type": "stream",
          "text": [
            "[Succeeded / Failed / Total] 0 / 1 / 1:   4%|▍         | 1/25 [00:00<00:08,  2.99it/s]"
          ],
          "name": "stderr"
        },
        {
          "output_type": "display_data",
          "data": {
            "text/html": [
              "<font color = red>Not_duplicate (100%)</font> --> <font color = red>[FAILED]</font><br><font color = bold><font color = underline>Question1</font></font>: I want to pursue PhD in Computer Science about social network,what is the open problem in social networks?\n",
              "<font color = bold><font color = underline>Question2</font></font>: I handle social media for a non-profit. Should I start going to social media networking events? Are there any good ones in the bay area?"
            ],
            "text/plain": [
              "<IPython.core.display.HTML object>"
            ]
          },
          "metadata": {
            "tags": []
          }
        },
        {
          "output_type": "stream",
          "text": [
            "[Succeeded / Failed / Total] 0 / 2 / 2:   8%|▊         | 2/25 [00:01<00:19,  1.16it/s]"
          ],
          "name": "stderr"
        },
        {
          "output_type": "display_data",
          "data": {
            "text/html": [
              "<font color = green>Duplicate (97%)</font> --> <font color = red>Not_duplicate (97%)</font><br><font color = bold><font color = underline>Question1</font></font>: Is there a reason why we should <font color = green>travel</font> alone?\n",
              "<font color = bold><font color = underline>Question2</font></font>: What are some reasons to travel alone?<br><font color = bold><font color = underline>Question1</font></font>: Is there a reason why we should <font color = red>interplanetary</font> alone?\n",
              "<font color = bold><font color = underline>Question2</font></font>: What are some reasons to travel alone?"
            ],
            "text/plain": [
              "<IPython.core.display.HTML object>"
            ]
          },
          "metadata": {
            "tags": []
          }
        },
        {
          "output_type": "stream",
          "text": [
            "[Succeeded / Failed / Total] 1 / 2 / 3:  12%|█▏        | 3/25 [00:02<00:15,  1.45it/s]"
          ],
          "name": "stderr"
        },
        {
          "output_type": "display_data",
          "data": {
            "text/html": [
              "<font color = red>Not_duplicate (100%)</font> --> <font color = red>[FAILED]</font><br><font color = bold><font color = underline>Question1</font></font>: Why are people so obsessed with having a girlfriend/boyfriend?\n",
              "<font color = bold><font color = underline>Question2</font></font>: How can a single male have a child?"
            ],
            "text/plain": [
              "<IPython.core.display.HTML object>"
            ]
          },
          "metadata": {
            "tags": []
          }
        },
        {
          "output_type": "stream",
          "text": [
            "[Succeeded / Failed / Total] 1 / 3 / 4:  16%|█▌        | 4/25 [00:02<00:13,  1.53it/s]"
          ],
          "name": "stderr"
        },
        {
          "output_type": "display_data",
          "data": {
            "text/html": [
              "<font color = red>Not_duplicate (81%)</font> --> <font color = green>Duplicate (52%)</font><br><font color = bold><font color = underline>Question1</font></font>: What are some good baby girl names starting with D?\n",
              "<font color = bold><font color = underline>Question2</font></font>: What are some good baby girl <font color = red>names</font> starting with D or H?<br><font color = bold><font color = underline>Question1</font></font>: What are some good baby girl names starting with D?\n",
              "<font color = bold><font color = underline>Question2</font></font>: What are some good baby girl <font color = green>name</font> starting with D or H?"
            ],
            "text/plain": [
              "<IPython.core.display.HTML object>"
            ]
          },
          "metadata": {
            "tags": []
          }
        },
        {
          "output_type": "stream",
          "text": [
            "[Succeeded / Failed / Total] 2 / 3 / 5:  20%|██        | 5/25 [00:03<00:12,  1.64it/s]"
          ],
          "name": "stderr"
        },
        {
          "output_type": "display_data",
          "data": {
            "text/html": [
              "<font color = green>Duplicate (96%)</font> --> <font color = red>Not_duplicate (99%)</font><br><font color = bold><font color = underline>Question1</font></font>: I am 25 year <font color = green>old</font> guy and <font color = green>never</font> had a girlfriend. Is this weird?\n",
              "<font color = bold><font color = underline>Question2</font></font>: I am 25 years old. I have never had a <font color = green>girlfriend</font>. Is something wrong with me?<br><font color = bold><font color = underline>Question1</font></font>: I am 25 year <font color = red>harrow</font> guy and <font color = red>already</font> had a girlfriend. Is this weird?\n",
              "<font color = bold><font color = underline>Question2</font></font>: I am 25 years old. I have never had a <font color = red>boyfriend</font>. Is something wrong with me?"
            ],
            "text/plain": [
              "<IPython.core.display.HTML object>"
            ]
          },
          "metadata": {
            "tags": []
          }
        },
        {
          "output_type": "stream",
          "text": [
            "[Succeeded / Failed / Total] 3 / 3 / 6:  24%|██▍       | 6/25 [00:03<00:11,  1.60it/s]"
          ],
          "name": "stderr"
        },
        {
          "output_type": "display_data",
          "data": {
            "text/html": [
              "<font color = red>Not_duplicate (100%)</font> --> <font color = gray>[SKIPPED]</font><br><font color = bold><font color = underline>Question1</font></font>: \"What does a good answer on Quora look like? What does it mean to \"\"be helpful\"\"?\"\n",
              "<font color = bold><font color = underline>Question2</font></font>: How do you write a good answer on Quora?"
            ],
            "text/plain": [
              "<IPython.core.display.HTML object>"
            ]
          },
          "metadata": {
            "tags": []
          }
        },
        {
          "output_type": "stream",
          "text": [
            "\r[Succeeded / Failed / Total] 3 / 3 / 7:  28%|██▊       | 7/25 [00:03<00:09,  1.85it/s]"
          ],
          "name": "stderr"
        },
        {
          "output_type": "display_data",
          "data": {
            "text/html": [
              "<font color = green>Duplicate (82%)</font> --> <font color = red>Not_duplicate (100%)</font><br><font color = bold><font color = underline>Question1</font></font>: What are the best things to do in Hong Kong?\n",
              "<font color = bold><font color = underline>Question2</font></font>: What is the <font color = green>best</font> thing in Hong Kong?<br><font color = bold><font color = underline>Question1</font></font>: What are the best things to do in Hong Kong?\n",
              "<font color = bold><font color = underline>Question2</font></font>: What is the <font color = red>filmfare</font> thing in Hong Kong?"
            ],
            "text/plain": [
              "<IPython.core.display.HTML object>"
            ]
          },
          "metadata": {
            "tags": []
          }
        },
        {
          "output_type": "stream",
          "text": [
            "[Succeeded / Failed / Total] 4 / 3 / 8:  32%|███▏      | 8/25 [00:04<00:08,  1.92it/s]"
          ],
          "name": "stderr"
        },
        {
          "output_type": "display_data",
          "data": {
            "text/html": [
              "<font color = green>Duplicate (54%)</font> --> <font color = gray>[SKIPPED]</font><br><font color = bold><font color = underline>Question1</font></font>: Why is my life getting so complicated?\n",
              "<font color = bold><font color = underline>Question2</font></font>: Why is my life so complicated?"
            ],
            "text/plain": [
              "<IPython.core.display.HTML object>"
            ]
          },
          "metadata": {
            "tags": []
          }
        },
        {
          "output_type": "stream",
          "text": [
            "\r[Succeeded / Failed / Total] 4 / 3 / 9:  36%|███▌      | 9/25 [00:04<00:07,  2.14it/s]"
          ],
          "name": "stderr"
        },
        {
          "output_type": "display_data",
          "data": {
            "text/html": [
              "<font color = red>Not_duplicate (100%)</font> --> <font color = red>[FAILED]</font><br><font color = bold><font color = underline>Question1</font></font>: Why should I crack Jee?\n",
              "<font color = bold><font color = underline>Question2</font></font>: Is it possible to get into IIMs with low marks in graduation and 12th?"
            ],
            "text/plain": [
              "<IPython.core.display.HTML object>"
            ]
          },
          "metadata": {
            "tags": []
          }
        },
        {
          "output_type": "stream",
          "text": [
            "[Succeeded / Failed / Total] 4 / 4 / 10:  40%|████      | 10/25 [00:04<00:07,  2.12it/s]"
          ],
          "name": "stderr"
        },
        {
          "output_type": "display_data",
          "data": {
            "text/html": [
              "<font color = red>Not_duplicate (100%)</font> --> <font color = red>[FAILED]</font><br><font color = bold><font color = underline>Question1</font></font>: Can you TRANSLATE these to English language?\n",
              "<font color = bold><font color = underline>Question2</font></font>: Can you translate this from Bengali to English language?"
            ],
            "text/plain": [
              "<IPython.core.display.HTML object>"
            ]
          },
          "metadata": {
            "tags": []
          }
        },
        {
          "output_type": "stream",
          "text": [
            "\r[Succeeded / Failed / Total] 4 / 5 / 11:  44%|████▍     | 11/25 [00:05<00:06,  2.15it/s]"
          ],
          "name": "stderr"
        },
        {
          "output_type": "display_data",
          "data": {
            "text/html": [
              "<font color = red>Not_duplicate (100%)</font> --> <font color = red>[FAILED]</font><br><font color = bold><font color = underline>Question1</font></font>: Can anyone tell shall mi mix mobile should be purchased or not?\n",
              "<font color = bold><font color = underline>Question2</font></font>: \"What did Voltaire mean when he said, \"\"God is a comedian playing to an audience that is too afraid to laugh\"\"?\""
            ],
            "text/plain": [
              "<IPython.core.display.HTML object>"
            ]
          },
          "metadata": {
            "tags": []
          }
        },
        {
          "output_type": "stream",
          "text": [
            "[Succeeded / Failed / Total] 4 / 6 / 12:  48%|████▊     | 12/25 [00:06<00:06,  1.96it/s]"
          ],
          "name": "stderr"
        },
        {
          "output_type": "display_data",
          "data": {
            "text/html": [
              "<font color = green>Duplicate (100%)</font> --> <font color = red>Not_duplicate (98%)</font><br><font color = bold><font color = underline>Question1</font></font>: Which is the <font color = green>best</font> gaming laptop under 40k?\n",
              "<font color = bold><font color = underline>Question2</font></font>: Which is the best gaming laptop under 40,000 rs?<br><font color = bold><font color = underline>Question1</font></font>: Which is the <font color = red>filmfare</font> gaming laptop under 40k?\n",
              "<font color = bold><font color = underline>Question2</font></font>: Which is the best gaming laptop under 40,000 rs?"
            ],
            "text/plain": [
              "<IPython.core.display.HTML object>"
            ]
          },
          "metadata": {
            "tags": []
          }
        },
        {
          "output_type": "stream",
          "text": [
            "\r[Succeeded / Failed / Total] 5 / 6 / 13:  52%|█████▏    | 13/25 [00:06<00:05,  2.00it/s]"
          ],
          "name": "stderr"
        },
        {
          "output_type": "display_data",
          "data": {
            "text/html": [
              "<font color = red>Not_duplicate (100%)</font> --> <font color = red>[FAILED]</font><br><font color = bold><font color = underline>Question1</font></font>: Why Tamil Nadu Universities are no good?\n",
              "<font color = bold><font color = underline>Question2</font></font>: Why are the 10th students able to score 100% in Tamil Nadu?"
            ],
            "text/plain": [
              "<IPython.core.display.HTML object>"
            ]
          },
          "metadata": {
            "tags": []
          }
        },
        {
          "output_type": "stream",
          "text": [
            "[Succeeded / Failed / Total] 5 / 7 / 14:  56%|█████▌    | 14/25 [00:06<00:05,  2.01it/s]"
          ],
          "name": "stderr"
        },
        {
          "output_type": "display_data",
          "data": {
            "text/html": [
              "<font color = red>Not_duplicate (100%)</font> --> <font color = red>[FAILED]</font><br><font color = bold><font color = underline>Question1</font></font>: What is an easy way to clean toothpaste stains from a shirt without washing it?\n",
              "<font color = bold><font color = underline>Question2</font></font>: What are some ways to remove hard water stains from dishes?"
            ],
            "text/plain": [
              "<IPython.core.display.HTML object>"
            ]
          },
          "metadata": {
            "tags": []
          }
        },
        {
          "output_type": "stream",
          "text": [
            "\r[Succeeded / Failed / Total] 5 / 8 / 15:  60%|██████    | 15/25 [00:07<00:05,  1.92it/s]"
          ],
          "name": "stderr"
        },
        {
          "output_type": "display_data",
          "data": {
            "text/html": [
              "<font color = green>Duplicate (89%)</font> --> <font color = red>Not_duplicate (100%)</font><br><font color = bold><font color = underline>Question1</font></font>: What was the deadliest battle in history?\n",
              "<font color = bold><font color = underline>Question2</font></font>: What was the bloodiest <font color = green>battle</font> in history?<br><font color = bold><font color = underline>Question1</font></font>: What was the deadliest battle in history?\n",
              "<font color = bold><font color = underline>Question2</font></font>: What was the bloodiest <font color = red>chancellorsville</font> in history?"
            ],
            "text/plain": [
              "<IPython.core.display.HTML object>"
            ]
          },
          "metadata": {
            "tags": []
          }
        },
        {
          "output_type": "stream",
          "text": [
            "[Succeeded / Failed / Total] 6 / 8 / 16:  64%|██████▍   | 16/25 [00:08<00:04,  1.97it/s]"
          ],
          "name": "stderr"
        },
        {
          "output_type": "display_data",
          "data": {
            "text/html": [
              "<font color = green>Duplicate (100%)</font> --> <font color = red>Not_duplicate (85%)</font><br><font color = bold><font color = underline>Question1</font></font>: What are your views about demonetisation in India?\n",
              "<font color = bold><font color = underline>Question2</font></font>: What do you <font color = green>think</font> about the <font color = green>ban</font> on 500 and 1000 denomination notes in India?<br><font color = bold><font color = underline>Question1</font></font>: What are your views about demonetisation in India?\n",
              "<font color = bold><font color = underline>Question2</font></font>: What do you <font color = red>know</font> about the <font color = red>dumping</font> on 500 and 1000 denomination notes in India?"
            ],
            "text/plain": [
              "<IPython.core.display.HTML object>"
            ]
          },
          "metadata": {
            "tags": []
          }
        },
        {
          "output_type": "stream",
          "text": [
            "\r[Succeeded / Failed / Total] 7 / 8 / 17:  68%|██████▊   | 17/25 [00:08<00:04,  1.97it/s]"
          ],
          "name": "stderr"
        },
        {
          "output_type": "display_data",
          "data": {
            "text/html": [
              "<font color = red>Not_duplicate (100%)</font> --> <font color = red>[FAILED]</font><br><font color = bold><font color = underline>Question1</font></font>: What are the difference between polyester 210T and 210D?\n",
              "<font color = bold><font color = underline>Question2</font></font>: What is the difference between cotton and polyester?"
            ],
            "text/plain": [
              "<IPython.core.display.HTML object>"
            ]
          },
          "metadata": {
            "tags": []
          }
        },
        {
          "output_type": "stream",
          "text": [
            "[Succeeded / Failed / Total] 7 / 9 / 18:  72%|███████▏  | 18/25 [00:09<00:03,  1.98it/s]"
          ],
          "name": "stderr"
        },
        {
          "output_type": "display_data",
          "data": {
            "text/html": [
              "<font color = red>Not_duplicate (82%)</font> --> <font color = green>Duplicate (65%)</font><br><font color = bold><font color = underline>Question1</font></font>: Is FMS Delhi a good option for a MBA <font color = red>executive</font> program?\n",
              "<font color = bold><font color = underline>Question2</font></font>: Is FMS a good choice for an MBA in HR? Why and why not?<br><font color = bold><font color = underline>Question1</font></font>: Is FMS Delhi a good option for a MBA <font color = green>legislative</font> program?\n",
              "<font color = bold><font color = underline>Question2</font></font>: Is FMS a good choice for an MBA in HR? Why and why not?"
            ],
            "text/plain": [
              "<IPython.core.display.HTML object>"
            ]
          },
          "metadata": {
            "tags": []
          }
        },
        {
          "output_type": "stream",
          "text": [
            "\r[Succeeded / Failed / Total] 8 / 9 / 19:  76%|███████▌  | 19/25 [00:09<00:03,  1.96it/s]"
          ],
          "name": "stderr"
        },
        {
          "output_type": "display_data",
          "data": {
            "text/html": [
              "<font color = red>Not_duplicate (63%)</font> --> <font color = gray>[SKIPPED]</font><br><font color = bold><font color = underline>Question1</font></font>: Is it a bad time to buy a condo or a house in the Bay Area in 2017?\n",
              "<font color = bold><font color = underline>Question2</font></font>: Would 2017 be a good time to buy a house in Bay Area?"
            ],
            "text/plain": [
              "<IPython.core.display.HTML object>"
            ]
          },
          "metadata": {
            "tags": []
          }
        },
        {
          "output_type": "stream",
          "text": [
            "[Succeeded / Failed / Total] 8 / 9 / 20:  80%|████████  | 20/25 [00:09<00:02,  2.06it/s]"
          ],
          "name": "stderr"
        },
        {
          "output_type": "display_data",
          "data": {
            "text/html": [
              "<font color = red>Not_duplicate (100%)</font> --> <font color = red>[FAILED]</font><br><font color = bold><font color = underline>Question1</font></font>: How is vanilla extract made?\n",
              "<font color = bold><font color = underline>Question2</font></font>: How do you make sugar cookies without vanilla extract?"
            ],
            "text/plain": [
              "<IPython.core.display.HTML object>"
            ]
          },
          "metadata": {
            "tags": []
          }
        },
        {
          "output_type": "stream",
          "text": [
            "\r[Succeeded / Failed / Total] 8 / 10 / 21:  84%|████████▍ | 21/25 [00:10<00:01,  2.05it/s]"
          ],
          "name": "stderr"
        },
        {
          "output_type": "display_data",
          "data": {
            "text/html": [
              "<font color = green>Duplicate (100%)</font> --> <font color = red>Not_duplicate (80%)</font><br><font color = bold><font color = underline>Question1</font></font>: What is the Sahara, and how do the average <font color = green>temperatures</font> there compare to the <font color = green>ones</font> in the Patagonian Desert?\n",
              "<font color = bold><font color = underline>Question2</font></font>: What is the Sahara, and how do the average <font color = green>temperatures</font> there compare to the ones in the Registan Desert?<br><font color = bold><font color = underline>Question1</font></font>: What is the Sahara, and how do the average <font color = red>temperature</font> there compare to the <font color = red>embellishments</font> in the Patagonian Desert?\n",
              "<font color = bold><font color = underline>Question2</font></font>: What is the Sahara, and how do the average <font color = red>temperature</font> there compare to the ones in the Registan Desert?"
            ],
            "text/plain": [
              "<IPython.core.display.HTML object>"
            ]
          },
          "metadata": {
            "tags": []
          }
        },
        {
          "output_type": "stream",
          "text": [
            "[Succeeded / Failed / Total] 9 / 10 / 22:  88%|████████▊ | 22/25 [00:11<00:01,  1.99it/s]"
          ],
          "name": "stderr"
        },
        {
          "output_type": "display_data",
          "data": {
            "text/html": [
              "<font color = red>Not_duplicate (100%)</font> --> <font color = red>[FAILED]</font><br><font color = bold><font color = underline>Question1</font></font>: Why was the Roman Empire so successful?\n",
              "<font color = bold><font color = underline>Question2</font></font>: What are some of the rarely known facts about the Roman Empire?"
            ],
            "text/plain": [
              "<IPython.core.display.HTML object>"
            ]
          },
          "metadata": {
            "tags": []
          }
        },
        {
          "output_type": "stream",
          "text": [
            "\r[Succeeded / Failed / Total] 9 / 11 / 23:  92%|█████████▏| 23/25 [00:11<00:01,  2.00it/s]"
          ],
          "name": "stderr"
        },
        {
          "output_type": "display_data",
          "data": {
            "text/html": [
              "<font color = red>Not_duplicate (100%)</font> --> <font color = red>[FAILED]</font><br><font color = bold><font color = underline>Question1</font></font>: Is it advisable to sent your cv to a professor with whom you are trying to make contact for graduate admission?\n",
              "<font color = bold><font color = underline>Question2</font></font>: How does contacting a professor before applying factor into graduate admissions?"
            ],
            "text/plain": [
              "<IPython.core.display.HTML object>"
            ]
          },
          "metadata": {
            "tags": []
          }
        },
        {
          "output_type": "stream",
          "text": [
            "[Succeeded / Failed / Total] 9 / 12 / 24:  96%|█████████▌| 24/25 [00:12<00:00,  1.92it/s]"
          ],
          "name": "stderr"
        },
        {
          "output_type": "display_data",
          "data": {
            "text/html": [
              "<font color = red>Not_duplicate (100%)</font> --> <font color = red>[FAILED]</font><br><font color = bold><font color = underline>Question1</font></font>: Does a RainTPL syntax extension for Sublime Text exist? Where can I download it?\n",
              "<font color = bold><font color = underline>Question2</font></font>: How do I hide the find/replace bar in Sublime Text 2?"
            ],
            "text/plain": [
              "<IPython.core.display.HTML object>"
            ]
          },
          "metadata": {
            "tags": []
          }
        },
        {
          "output_type": "stream",
          "text": [
            "\r[Succeeded / Failed / Total] 9 / 13 / 25: 100%|██████████| 25/25 [00:13<00:00,  1.89it/s]"
          ],
          "name": "stderr"
        },
        {
          "output_type": "display_data",
          "data": {
            "text/html": [
              "<font color = red>Not_duplicate (99%)</font> --> <font color = red>[FAILED]</font><br><font color = bold><font color = underline>Question1</font></font>: What is the average salary of a microbiologist in India?\n",
              "<font color = bold><font color = underline>Question2</font></font>: What is the salary for a psychologist in india?"
            ],
            "text/plain": [
              "<IPython.core.display.HTML object>"
            ]
          },
          "metadata": {
            "tags": []
          }
        },
        {
          "output_type": "stream",
          "text": [
            "[Succeeded / Failed / Total] 9 / 14 / 26: : 26it [00:13,  1.89it/s]"
          ],
          "name": "stderr"
        },
        {
          "output_type": "display_data",
          "data": {
            "text/html": [
              "<font color = red>Not_duplicate (100%)</font> --> <font color = red>[FAILED]</font><br><font color = bold><font color = underline>Question1</font></font>: How do you close a Bank of America account?\n",
              "<font color = bold><font color = underline>Question2</font></font>: How can one close a bank account online?"
            ],
            "text/plain": [
              "<IPython.core.display.HTML object>"
            ]
          },
          "metadata": {
            "tags": []
          }
        },
        {
          "output_type": "stream",
          "text": [
            "\r[Succeeded / Failed / Total] 9 / 15 / 27: : 27it [00:14,  1.89it/s]"
          ],
          "name": "stderr"
        },
        {
          "output_type": "display_data",
          "data": {
            "text/html": [
              "<font color = red>Not_duplicate (71%)</font> --> <font color = green>Duplicate (63%)</font><br><font color = bold><font color = underline>Question1</font></font>: How can I create the most popular question on Quora?\n",
              "<font color = bold><font color = underline>Question2</font></font>: Which are the most popular questions on Quora presently that <font color = red>also</font> create the most discussions?<br><font color = bold><font color = underline>Question1</font></font>: How can I create the most popular question on Quora?\n",
              "<font color = bold><font color = underline>Question2</font></font>: Which are the most popular questions on Quora presently that <font color = green>which</font> create the most discussions?"
            ],
            "text/plain": [
              "<IPython.core.display.HTML object>"
            ]
          },
          "metadata": {
            "tags": []
          }
        },
        {
          "output_type": "stream",
          "text": [
            "[Succeeded / Failed / Total] 10 / 15 / 28: : 28it [00:14,  1.89it/s]"
          ],
          "name": "stderr"
        },
        {
          "output_type": "stream",
          "text": [
            "+-------------------------------+--------+\n",
            "| Attack Results                |        |\n",
            "+-------------------------------+--------+\n",
            "| Number of successful attacks: | 10     |\n",
            "| Number of failed attacks:     | 15     |\n",
            "| Number of skipped attacks:    | 3      |\n",
            "| Original accuracy:            | 89.29% |\n",
            "| Accuracy under attack:        | 53.57% |\n",
            "| Attack success rate:          | 40.0%  |\n",
            "| Average perturbed word %:     | 6.36%  |\n",
            "| Average num. words per input: | 22.39  |\n",
            "| Avg num queries:              | 29.16  |\n",
            "+-------------------------------+--------+"
          ],
          "name": "stdout"
        },
        {
          "output_type": "stream",
          "text": [
            "\n",
            "\u001b[34;1mtextattack\u001b[0m: Attack time: 14.823155641555786s\n"
          ],
          "name": "stderr"
        }
      ]
    },
    {
      "cell_type": "code",
      "metadata": {
        "colab": {
          "base_uri": "https://localhost:8080/"
        },
        "id": "STAeDRN6Obr_",
        "outputId": "a7ef073f-6782-4de1-a44c-bc5c4e0dbe66"
      },
      "source": [
        "from textattack.search_methods import GreedyWordSwapWIR\n",
        "from textattack.constraints.pre_transformation import RepeatModification, StopwordModification\n",
        "from textattack.shared import Attack\n",
        "from textattack.goal_functions import UntargetedClassification\n",
        "from textattack.datasets import HuggingFaceDataset\n",
        "\n",
        "# We're going to use our word swap class as the attack transformation.\n",
        "transformation = Swapper__()\n",
        "\n",
        "constraints = [RepeatModification(),\n",
        "               StopwordModification()]\n",
        "\n",
        "search_method = GreedyWordSwapWIR()\n",
        "\n",
        "goal_function = UntargetedClassification(model_wrapper)\n",
        "\n",
        "# Now, let's make the attack from the 4 components:\n",
        "attack = Attack(goal_function, constraints, transformation, search_method)\n",
        "\n",
        "dataset = HuggingFaceDataset(\"glue\", \"qqp\", \"validation\") # Change the dataset"
      ],
      "execution_count": 30,
      "outputs": [
        {
          "output_type": "stream",
          "text": [
            "\u001b[34;1mtextattack\u001b[0m: Unknown if model of class <class 'transformers.models.albert.modeling_albert.AlbertForSequenceClassification'> compatible with goal function <class 'textattack.goal_functions.classification.untargeted_classification.UntargetedClassification'>.\n",
            "Reusing dataset glue (/root/.cache/huggingface/datasets/glue/qqp/1.0.0/dacbe3125aa31d7f70367a07a8a9e72a5a0bfeb5fc42e75c9db75b96da6053ad)\n",
            "\u001b[34;1mtextattack\u001b[0m: Loading \u001b[94mdatasets\u001b[0m dataset \u001b[94mglue\u001b[0m, subset \u001b[94mqqp\u001b[0m, split \u001b[94mvalidation\u001b[0m.\n"
          ],
          "name": "stderr"
        }
      ]
    },
    {
      "cell_type": "code",
      "metadata": {
        "colab": {
          "base_uri": "https://localhost:8080/"
        },
        "id": "gQ_bQqzYO2Zb",
        "outputId": "30d0b76d-d869-41ef-c4fc-0715d959a00f"
      },
      "source": [
        "print(attack)"
      ],
      "execution_count": 31,
      "outputs": [
        {
          "output_type": "stream",
          "text": [
            "Attack(\n",
            "  (search_method): GreedyWordSwapWIR(\n",
            "    (wir_method):  unk\n",
            "  )\n",
            "  (goal_function):  UntargetedClassification\n",
            "  (transformation):  Swapper__\n",
            "  (constraints): \n",
            "    (0): RepeatModification\n",
            "    (1): StopwordModification\n",
            "  (is_black_box):  True\n",
            ")\n"
          ],
          "name": "stdout"
        }
      ]
    },
    {
      "cell_type": "code",
      "metadata": {
        "colab": {
          "base_uri": "https://localhost:8080/",
          "height": 1000
        },
        "id": "B7aWCrzTO4xp",
        "outputId": "2f75fe3c-1143-4e77-c1da-3eaa6ea6d31b"
      },
      "source": [
        "printexample(attack)"
      ],
      "execution_count": 32,
      "outputs": [
        {
          "output_type": "stream",
          "text": [
            "\r  0%|          | 0/25 [00:00<?, ?it/s]"
          ],
          "name": "stderr"
        },
        {
          "output_type": "stream",
          "text": [
            "Attack(\n",
            "  (search_method): GreedyWordSwapWIR(\n",
            "    (wir_method):  unk\n",
            "  )\n",
            "  (goal_function):  UntargetedClassification\n",
            "  (transformation):  Swapper__\n",
            "  (constraints): \n",
            "    (0): RepeatModification\n",
            "    (1): StopwordModification\n",
            "  (is_black_box):  True\n",
            ")\n"
          ],
          "name": "stdout"
        },
        {
          "output_type": "display_data",
          "data": {
            "text/html": [
              "<font color = red>Not_duplicate (89%)</font> --> <font color = red>[FAILED]</font><br><font color = bold><font color = underline>Question1</font></font>: Why are African-Americans so beautiful?\n",
              "<font color = bold><font color = underline>Question2</font></font>: Why are hispanics so beautiful?"
            ],
            "text/plain": [
              "<IPython.core.display.HTML object>"
            ]
          },
          "metadata": {
            "tags": []
          }
        },
        {
          "output_type": "stream",
          "text": [
            "[Succeeded / Failed / Total] 0 / 1 / 1:   4%|▍         | 1/25 [00:00<00:09,  2.66it/s]"
          ],
          "name": "stderr"
        },
        {
          "output_type": "display_data",
          "data": {
            "text/html": [
              "<font color = red>Not_duplicate (100%)</font> --> <font color = red>[FAILED]</font><br><font color = bold><font color = underline>Question1</font></font>: I want to pursue PhD in Computer Science about social network,what is the open problem in social networks?\n",
              "<font color = bold><font color = underline>Question2</font></font>: I handle social media for a non-profit. Should I start going to social media networking events? Are there any good ones in the bay area?"
            ],
            "text/plain": [
              "<IPython.core.display.HTML object>"
            ]
          },
          "metadata": {
            "tags": []
          }
        },
        {
          "output_type": "stream",
          "text": [
            "[Succeeded / Failed / Total] 0 / 2 / 2:   8%|▊         | 2/25 [00:02<00:23,  1.04s/it]"
          ],
          "name": "stderr"
        },
        {
          "output_type": "display_data",
          "data": {
            "text/html": [
              "<font color = green>Duplicate (97%)</font> --> <font color = red>Not_duplicate (100%)</font><br><font color = bold><font color = underline>Question1</font></font>: Is there a reason why we should <font color = green>travel</font> alone?\n",
              "<font color = bold><font color = underline>Question2</font></font>: What are some reasons to travel alone?<br><font color = bold><font color = underline>Question1</font></font>: Is there a reason why we should <font color = red>interstellar</font> alone?\n",
              "<font color = bold><font color = underline>Question2</font></font>: What are some reasons to travel alone?"
            ],
            "text/plain": [
              "<IPython.core.display.HTML object>"
            ]
          },
          "metadata": {
            "tags": []
          }
        },
        {
          "output_type": "stream",
          "text": [
            "[Succeeded / Failed / Total] 1 / 2 / 3:  12%|█▏        | 3/25 [00:02<00:17,  1.24it/s]"
          ],
          "name": "stderr"
        },
        {
          "output_type": "display_data",
          "data": {
            "text/html": [
              "<font color = red>Not_duplicate (100%)</font> --> <font color = red>[FAILED]</font><br><font color = bold><font color = underline>Question1</font></font>: Why are people so obsessed with having a girlfriend/boyfriend?\n",
              "<font color = bold><font color = underline>Question2</font></font>: How can a single male have a child?"
            ],
            "text/plain": [
              "<IPython.core.display.HTML object>"
            ]
          },
          "metadata": {
            "tags": []
          }
        },
        {
          "output_type": "stream",
          "text": [
            "[Succeeded / Failed / Total] 1 / 3 / 4:  16%|█▌        | 4/25 [00:03<00:16,  1.31it/s]"
          ],
          "name": "stderr"
        },
        {
          "output_type": "display_data",
          "data": {
            "text/html": [
              "<font color = red>Not_duplicate (81%)</font> --> <font color = green>Duplicate (52%)</font><br><font color = bold><font color = underline>Question1</font></font>: What are some good baby girl names starting with D?\n",
              "<font color = bold><font color = underline>Question2</font></font>: What are some good baby girl <font color = red>names</font> starting with D or H?<br><font color = bold><font color = underline>Question1</font></font>: What are some good baby girl names starting with D?\n",
              "<font color = bold><font color = underline>Question2</font></font>: What are some good baby girl <font color = green>name</font> starting with D or H?"
            ],
            "text/plain": [
              "<IPython.core.display.HTML object>"
            ]
          },
          "metadata": {
            "tags": []
          }
        },
        {
          "output_type": "stream",
          "text": [
            "[Succeeded / Failed / Total] 2 / 3 / 5:  20%|██        | 5/25 [00:03<00:14,  1.42it/s]"
          ],
          "name": "stderr"
        },
        {
          "output_type": "display_data",
          "data": {
            "text/html": [
              "<font color = green>Duplicate (96%)</font> --> <font color = red>Not_duplicate (98%)</font><br><font color = bold><font color = underline>Question1</font></font>: I am 25 year <font color = green>old</font> guy and <font color = green>never</font> had a girlfriend. Is this weird?\n",
              "<font color = bold><font color = underline>Question2</font></font>: I am 25 years old. I have never had a <font color = green>girlfriend</font>. Is something wrong with me?<br><font color = bold><font color = underline>Question1</font></font>: I am 25 year <font color = red>devonien</font> guy and <font color = red>actually</font> had a girlfriend. Is this weird?\n",
              "<font color = bold><font color = underline>Question2</font></font>: I am 25 years old. I have never had a <font color = red>boyfriend</font>. Is something wrong with me?"
            ],
            "text/plain": [
              "<IPython.core.display.HTML object>"
            ]
          },
          "metadata": {
            "tags": []
          }
        },
        {
          "output_type": "stream",
          "text": [
            "[Succeeded / Failed / Total] 3 / 3 / 6:  24%|██▍       | 6/25 [00:04<00:13,  1.39it/s]"
          ],
          "name": "stderr"
        },
        {
          "output_type": "display_data",
          "data": {
            "text/html": [
              "<font color = red>Not_duplicate (100%)</font> --> <font color = gray>[SKIPPED]</font><br><font color = bold><font color = underline>Question1</font></font>: \"What does a good answer on Quora look like? What does it mean to \"\"be helpful\"\"?\"\n",
              "<font color = bold><font color = underline>Question2</font></font>: How do you write a good answer on Quora?"
            ],
            "text/plain": [
              "<IPython.core.display.HTML object>"
            ]
          },
          "metadata": {
            "tags": []
          }
        },
        {
          "output_type": "stream",
          "text": [
            "\r[Succeeded / Failed / Total] 3 / 3 / 7:  28%|██▊       | 7/25 [00:04<00:11,  1.61it/s]"
          ],
          "name": "stderr"
        },
        {
          "output_type": "display_data",
          "data": {
            "text/html": [
              "<font color = green>Duplicate (82%)</font> --> <font color = red>Not_duplicate (100%)</font><br><font color = bold><font color = underline>Question1</font></font>: What are the best things to do in Hong Kong?\n",
              "<font color = bold><font color = underline>Question2</font></font>: What is the <font color = green>best</font> thing in Hong Kong?<br><font color = bold><font color = underline>Question1</font></font>: What are the best things to do in Hong Kong?\n",
              "<font color = bold><font color = underline>Question2</font></font>: What is the <font color = red>rnb</font> thing in Hong Kong?"
            ],
            "text/plain": [
              "<IPython.core.display.HTML object>"
            ]
          },
          "metadata": {
            "tags": []
          }
        },
        {
          "output_type": "stream",
          "text": [
            "[Succeeded / Failed / Total] 4 / 3 / 8:  32%|███▏      | 8/25 [00:04<00:10,  1.70it/s]"
          ],
          "name": "stderr"
        },
        {
          "output_type": "display_data",
          "data": {
            "text/html": [
              "<font color = green>Duplicate (54%)</font> --> <font color = gray>[SKIPPED]</font><br><font color = bold><font color = underline>Question1</font></font>: Why is my life getting so complicated?\n",
              "<font color = bold><font color = underline>Question2</font></font>: Why is my life so complicated?"
            ],
            "text/plain": [
              "<IPython.core.display.HTML object>"
            ]
          },
          "metadata": {
            "tags": []
          }
        },
        {
          "output_type": "stream",
          "text": [
            "\r[Succeeded / Failed / Total] 4 / 3 / 9:  36%|███▌      | 9/25 [00:04<00:08,  1.90it/s]"
          ],
          "name": "stderr"
        },
        {
          "output_type": "display_data",
          "data": {
            "text/html": [
              "<font color = red>Not_duplicate (100%)</font> --> <font color = red>[FAILED]</font><br><font color = bold><font color = underline>Question1</font></font>: Why should I crack Jee?\n",
              "<font color = bold><font color = underline>Question2</font></font>: Is it possible to get into IIMs with low marks in graduation and 12th?"
            ],
            "text/plain": [
              "<IPython.core.display.HTML object>"
            ]
          },
          "metadata": {
            "tags": []
          }
        },
        {
          "output_type": "stream",
          "text": [
            "[Succeeded / Failed / Total] 4 / 4 / 10:  40%|████      | 10/25 [00:05<00:08,  1.86it/s]"
          ],
          "name": "stderr"
        },
        {
          "output_type": "display_data",
          "data": {
            "text/html": [
              "<font color = red>Not_duplicate (100%)</font> --> <font color = red>[FAILED]</font><br><font color = bold><font color = underline>Question1</font></font>: Can you TRANSLATE these to English language?\n",
              "<font color = bold><font color = underline>Question2</font></font>: Can you translate this from Bengali to English language?"
            ],
            "text/plain": [
              "<IPython.core.display.HTML object>"
            ]
          },
          "metadata": {
            "tags": []
          }
        },
        {
          "output_type": "stream",
          "text": [
            "\r[Succeeded / Failed / Total] 4 / 5 / 11:  44%|████▍     | 11/25 [00:05<00:07,  1.90it/s]"
          ],
          "name": "stderr"
        },
        {
          "output_type": "display_data",
          "data": {
            "text/html": [
              "<font color = red>Not_duplicate (100%)</font> --> <font color = red>[FAILED]</font><br><font color = bold><font color = underline>Question1</font></font>: Can anyone tell shall mi mix mobile should be purchased or not?\n",
              "<font color = bold><font color = underline>Question2</font></font>: \"What did Voltaire mean when he said, \"\"God is a comedian playing to an audience that is too afraid to laugh\"\"?\""
            ],
            "text/plain": [
              "<IPython.core.display.HTML object>"
            ]
          },
          "metadata": {
            "tags": []
          }
        },
        {
          "output_type": "stream",
          "text": [
            "[Succeeded / Failed / Total] 4 / 6 / 12:  48%|████▊     | 12/25 [00:07<00:07,  1.71it/s]"
          ],
          "name": "stderr"
        },
        {
          "output_type": "display_data",
          "data": {
            "text/html": [
              "<font color = green>Duplicate (100%)</font> --> <font color = red>Not_duplicate (56%)</font><br><font color = bold><font color = underline>Question1</font></font>: Which is the <font color = green>best</font> gaming laptop under 40k?\n",
              "<font color = bold><font color = underline>Question2</font></font>: Which is the best <font color = green>gaming</font> laptop under 40,000 rs?<br><font color = bold><font color = underline>Question1</font></font>: Which is the <font color = red>rnb</font> gaming laptop under 40k?\n",
              "<font color = bold><font color = underline>Question2</font></font>: Which is the best <font color = red>multiplayer</font> laptop under 40,000 rs?"
            ],
            "text/plain": [
              "<IPython.core.display.HTML object>"
            ]
          },
          "metadata": {
            "tags": []
          }
        },
        {
          "output_type": "stream",
          "text": [
            "\r[Succeeded / Failed / Total] 5 / 6 / 13:  52%|█████▏    | 13/25 [00:07<00:06,  1.75it/s]"
          ],
          "name": "stderr"
        },
        {
          "output_type": "display_data",
          "data": {
            "text/html": [
              "<font color = red>Not_duplicate (100%)</font> --> <font color = red>[FAILED]</font><br><font color = bold><font color = underline>Question1</font></font>: Why Tamil Nadu Universities are no good?\n",
              "<font color = bold><font color = underline>Question2</font></font>: Why are the 10th students able to score 100% in Tamil Nadu?"
            ],
            "text/plain": [
              "<IPython.core.display.HTML object>"
            ]
          },
          "metadata": {
            "tags": []
          }
        },
        {
          "output_type": "stream",
          "text": [
            "[Succeeded / Failed / Total] 5 / 7 / 14:  56%|█████▌    | 14/25 [00:07<00:06,  1.76it/s]"
          ],
          "name": "stderr"
        },
        {
          "output_type": "display_data",
          "data": {
            "text/html": [
              "<font color = red>Not_duplicate (100%)</font> --> <font color = red>[FAILED]</font><br><font color = bold><font color = underline>Question1</font></font>: What is an easy way to clean toothpaste stains from a shirt without washing it?\n",
              "<font color = bold><font color = underline>Question2</font></font>: What are some ways to remove hard water stains from dishes?"
            ],
            "text/plain": [
              "<IPython.core.display.HTML object>"
            ]
          },
          "metadata": {
            "tags": []
          }
        },
        {
          "output_type": "stream",
          "text": [
            "\r[Succeeded / Failed / Total] 5 / 8 / 15:  60%|██████    | 15/25 [00:09<00:06,  1.66it/s]"
          ],
          "name": "stderr"
        },
        {
          "output_type": "display_data",
          "data": {
            "text/html": [
              "<font color = green>Duplicate (89%)</font> --> <font color = red>Not_duplicate (100%)</font><br><font color = bold><font color = underline>Question1</font></font>: What was the deadliest battle in history?\n",
              "<font color = bold><font color = underline>Question2</font></font>: What was the bloodiest <font color = green>battle</font> in history?<br><font color = bold><font color = underline>Question1</font></font>: What was the deadliest battle in history?\n",
              "<font color = bold><font color = underline>Question2</font></font>: What was the bloodiest <font color = red>agincourt</font> in history?"
            ],
            "text/plain": [
              "<IPython.core.display.HTML object>"
            ]
          },
          "metadata": {
            "tags": []
          }
        },
        {
          "output_type": "stream",
          "text": [
            "[Succeeded / Failed / Total] 6 / 8 / 16:  64%|██████▍   | 16/25 [00:09<00:05,  1.71it/s]"
          ],
          "name": "stderr"
        },
        {
          "output_type": "display_data",
          "data": {
            "text/html": [
              "<font color = green>Duplicate (100%)</font> --> <font color = red>Not_duplicate (99%)</font><br><font color = bold><font color = underline>Question1</font></font>: What are your views about demonetisation in India?\n",
              "<font color = bold><font color = underline>Question2</font></font>: What do you <font color = green>think</font> about the <font color = green>ban</font> on 500 and 1000 denomination notes in India?<br><font color = bold><font color = underline>Question1</font></font>: What are your views about demonetisation in India?\n",
              "<font color = bold><font color = underline>Question2</font></font>: What do you <font color = red>want</font> about the <font color = red>ozone</font> on 500 and 1000 denomination notes in India?"
            ],
            "text/plain": [
              "<IPython.core.display.HTML object>"
            ]
          },
          "metadata": {
            "tags": []
          }
        },
        {
          "output_type": "stream",
          "text": [
            "\r[Succeeded / Failed / Total] 7 / 8 / 17:  68%|██████▊   | 17/25 [00:09<00:04,  1.72it/s]"
          ],
          "name": "stderr"
        },
        {
          "output_type": "display_data",
          "data": {
            "text/html": [
              "<font color = red>Not_duplicate (100%)</font> --> <font color = red>[FAILED]</font><br><font color = bold><font color = underline>Question1</font></font>: What are the difference between polyester 210T and 210D?\n",
              "<font color = bold><font color = underline>Question2</font></font>: What is the difference between cotton and polyester?"
            ],
            "text/plain": [
              "<IPython.core.display.HTML object>"
            ]
          },
          "metadata": {
            "tags": []
          }
        },
        {
          "output_type": "stream",
          "text": [
            "[Succeeded / Failed / Total] 7 / 9 / 18:  72%|███████▏  | 18/25 [00:10<00:04,  1.73it/s]"
          ],
          "name": "stderr"
        },
        {
          "output_type": "display_data",
          "data": {
            "text/html": [
              "<font color = red>Not_duplicate (82%)</font> --> <font color = red>[FAILED]</font><br><font color = bold><font color = underline>Question1</font></font>: Is FMS Delhi a good option for a MBA executive program?\n",
              "<font color = bold><font color = underline>Question2</font></font>: Is FMS a good choice for an MBA in HR? Why and why not?"
            ],
            "text/plain": [
              "<IPython.core.display.HTML object>"
            ]
          },
          "metadata": {
            "tags": []
          }
        },
        {
          "output_type": "stream",
          "text": [
            "\r[Succeeded / Failed / Total] 7 / 10 / 19:  76%|███████▌  | 19/25 [00:11<00:03,  1.71it/s]"
          ],
          "name": "stderr"
        },
        {
          "output_type": "display_data",
          "data": {
            "text/html": [
              "<font color = red>Not_duplicate (63%)</font> --> <font color = gray>[SKIPPED]</font><br><font color = bold><font color = underline>Question1</font></font>: Is it a bad time to buy a condo or a house in the Bay Area in 2017?\n",
              "<font color = bold><font color = underline>Question2</font></font>: Would 2017 be a good time to buy a house in Bay Area?"
            ],
            "text/plain": [
              "<IPython.core.display.HTML object>"
            ]
          },
          "metadata": {
            "tags": []
          }
        },
        {
          "output_type": "stream",
          "text": [
            "[Succeeded / Failed / Total] 7 / 10 / 20:  80%|████████  | 20/25 [00:11<00:02,  1.79it/s]"
          ],
          "name": "stderr"
        },
        {
          "output_type": "display_data",
          "data": {
            "text/html": [
              "<font color = red>Not_duplicate (100%)</font> --> <font color = red>[FAILED]</font><br><font color = bold><font color = underline>Question1</font></font>: How is vanilla extract made?\n",
              "<font color = bold><font color = underline>Question2</font></font>: How do you make sugar cookies without vanilla extract?"
            ],
            "text/plain": [
              "<IPython.core.display.HTML object>"
            ]
          },
          "metadata": {
            "tags": []
          }
        },
        {
          "output_type": "stream",
          "text": [
            "\r[Succeeded / Failed / Total] 7 / 11 / 21:  84%|████████▍ | 21/25 [00:11<00:02,  1.78it/s]"
          ],
          "name": "stderr"
        },
        {
          "output_type": "display_data",
          "data": {
            "text/html": [
              "<font color = green>Duplicate (100%)</font> --> <font color = red>Not_duplicate (98%)</font><br><font color = bold><font color = underline>Question1</font></font>: What is the Sahara, and how do the average temperatures there compare to the ones in the Patagonian Desert?\n",
              "<font color = bold><font color = underline>Question2</font></font>: What is the Sahara, and how do the average <font color = green>temperatures</font> there compare to the ones in the Registan Desert?<br><font color = bold><font color = underline>Question1</font></font>: What is the Sahara, and how do the average temperatures there compare to the ones in the Patagonian Desert?\n",
              "<font color = bold><font color = underline>Question2</font></font>: What is the Sahara, and how do the average <font color = red>pressures</font> there compare to the ones in the Registan Desert?"
            ],
            "text/plain": [
              "<IPython.core.display.HTML object>"
            ]
          },
          "metadata": {
            "tags": []
          }
        },
        {
          "output_type": "stream",
          "text": [
            "[Succeeded / Failed / Total] 8 / 11 / 22:  88%|████████▊ | 22/25 [00:12<00:01,  1.75it/s]"
          ],
          "name": "stderr"
        },
        {
          "output_type": "display_data",
          "data": {
            "text/html": [
              "<font color = red>Not_duplicate (100%)</font> --> <font color = red>[FAILED]</font><br><font color = bold><font color = underline>Question1</font></font>: Why was the Roman Empire so successful?\n",
              "<font color = bold><font color = underline>Question2</font></font>: What are some of the rarely known facts about the Roman Empire?"
            ],
            "text/plain": [
              "<IPython.core.display.HTML object>"
            ]
          },
          "metadata": {
            "tags": []
          }
        },
        {
          "output_type": "stream",
          "text": [
            "\r[Succeeded / Failed / Total] 8 / 12 / 23:  92%|█████████▏| 23/25 [00:13<00:01,  1.76it/s]"
          ],
          "name": "stderr"
        },
        {
          "output_type": "display_data",
          "data": {
            "text/html": [
              "<font color = red>Not_duplicate (100%)</font> --> <font color = red>[FAILED]</font><br><font color = bold><font color = underline>Question1</font></font>: Is it advisable to sent your cv to a professor with whom you are trying to make contact for graduate admission?\n",
              "<font color = bold><font color = underline>Question2</font></font>: How does contacting a professor before applying factor into graduate admissions?"
            ],
            "text/plain": [
              "<IPython.core.display.HTML object>"
            ]
          },
          "metadata": {
            "tags": []
          }
        },
        {
          "output_type": "stream",
          "text": [
            "[Succeeded / Failed / Total] 8 / 13 / 24:  96%|█████████▌| 24/25 [00:14<00:00,  1.67it/s]"
          ],
          "name": "stderr"
        },
        {
          "output_type": "display_data",
          "data": {
            "text/html": [
              "<font color = red>Not_duplicate (100%)</font> --> <font color = red>[FAILED]</font><br><font color = bold><font color = underline>Question1</font></font>: Does a RainTPL syntax extension for Sublime Text exist? Where can I download it?\n",
              "<font color = bold><font color = underline>Question2</font></font>: How do I hide the find/replace bar in Sublime Text 2?"
            ],
            "text/plain": [
              "<IPython.core.display.HTML object>"
            ]
          },
          "metadata": {
            "tags": []
          }
        },
        {
          "output_type": "stream",
          "text": [
            "\r[Succeeded / Failed / Total] 8 / 14 / 25: 100%|██████████| 25/25 [00:15<00:00,  1.65it/s]"
          ],
          "name": "stderr"
        },
        {
          "output_type": "display_data",
          "data": {
            "text/html": [
              "<font color = red>Not_duplicate (99%)</font> --> <font color = green>Duplicate (51%)</font><br><font color = bold><font color = underline>Question1</font></font>: What is the average salary of a microbiologist in India?\n",
              "<font color = bold><font color = underline>Question2</font></font>: What is the salary for a <font color = red>psychologist</font> in india?<br><font color = bold><font color = underline>Question1</font></font>: What is the average salary of a microbiologist in India?\n",
              "<font color = bold><font color = underline>Question2</font></font>: What is the salary for a <font color = green>zoologist</font> in india?"
            ],
            "text/plain": [
              "<IPython.core.display.HTML object>"
            ]
          },
          "metadata": {
            "tags": []
          }
        },
        {
          "output_type": "stream",
          "text": [
            "[Succeeded / Failed / Total] 9 / 14 / 26: : 26it [00:15,  1.66it/s]"
          ],
          "name": "stderr"
        },
        {
          "output_type": "display_data",
          "data": {
            "text/html": [
              "<font color = red>Not_duplicate (100%)</font> --> <font color = red>[FAILED]</font><br><font color = bold><font color = underline>Question1</font></font>: How do you close a Bank of America account?\n",
              "<font color = bold><font color = underline>Question2</font></font>: How can one close a bank account online?"
            ],
            "text/plain": [
              "<IPython.core.display.HTML object>"
            ]
          },
          "metadata": {
            "tags": []
          }
        },
        {
          "output_type": "stream",
          "text": [
            "\r[Succeeded / Failed / Total] 9 / 15 / 27: : 27it [00:16,  1.65it/s]"
          ],
          "name": "stderr"
        },
        {
          "output_type": "display_data",
          "data": {
            "text/html": [
              "<font color = red>Not_duplicate (71%)</font> --> <font color = green>Duplicate (91%)</font><br><font color = bold><font color = underline>Question1</font></font>: How can I create the most popular question on Quora?\n",
              "<font color = bold><font color = underline>Question2</font></font>: Which are the most popular questions on Quora presently that <font color = red>also</font> create the most discussions?<br><font color = bold><font color = underline>Question1</font></font>: How can I create the most popular question on Quora?\n",
              "<font color = bold><font color = underline>Question2</font></font>: Which are the most popular questions on Quora presently that <font color = green>mokhlos</font> create the most discussions?"
            ],
            "text/plain": [
              "<IPython.core.display.HTML object>"
            ]
          },
          "metadata": {
            "tags": []
          }
        },
        {
          "output_type": "stream",
          "text": [
            "[Succeeded / Failed / Total] 10 / 15 / 28: : 28it [00:16,  1.66it/s]"
          ],
          "name": "stderr"
        },
        {
          "output_type": "stream",
          "text": [
            "+-------------------------------+--------+\n",
            "| Attack Results                |        |\n",
            "+-------------------------------+--------+\n",
            "| Number of successful attacks: | 10     |\n",
            "| Number of failed attacks:     | 15     |\n",
            "| Number of skipped attacks:    | 3      |\n",
            "| Original accuracy:            | 89.29% |\n",
            "| Accuracy under attack:        | 53.57% |\n",
            "| Attack success rate:          | 40.0%  |\n",
            "| Average perturbed word %:     | 6.52%  |\n",
            "| Average num. words per input: | 22.39  |\n",
            "| Avg num queries:              | 29.12  |\n",
            "+-------------------------------+--------+"
          ],
          "name": "stdout"
        },
        {
          "output_type": "stream",
          "text": [
            "\n",
            "\u001b[34;1mtextattack\u001b[0m: Attack time: 16.853304624557495s\n"
          ],
          "name": "stderr"
        }
      ]
    },
    {
      "cell_type": "code",
      "metadata": {
        "colab": {
          "base_uri": "https://localhost:8080/"
        },
        "id": "8rK5QW2hnCiI",
        "outputId": "87cdc4a2-5333-4b63-e2e8-ce87f6ad74ea"
      },
      "source": [
        "from textattack.search_methods import ParticleSwarmOptimization\n",
        "from textattack.constraints.pre_transformation import RepeatModification, StopwordModification\n",
        "from textattack.shared import Attack\n",
        "from textattack.goal_functions import UntargetedClassification\n",
        "from textattack.datasets import HuggingFaceDataset\n",
        "\n",
        "# We're going to use our word swap class as the attack transformation.\n",
        "transformation = Swapper()\n",
        "\n",
        "constraints = [RepeatModification(),\n",
        "               StopwordModification()]\n",
        "\n",
        "search_method = ParticleSwarmOptimization(pop_size=10,max_iters=5,post_turn_check=True)\n",
        "\n",
        "goal_function = UntargetedClassification(model_wrapper)\n",
        "\n",
        "# Now, let's make the attack from the 4 components:\n",
        "attack = Attack(goal_function, constraints, transformation, search_method)\n",
        "\n",
        "dataset = HuggingFaceDataset(\"glue\", \"qqp\", \"validation\") # Change the dataset"
      ],
      "execution_count": 33,
      "outputs": [
        {
          "output_type": "stream",
          "text": [
            "\u001b[34;1mtextattack\u001b[0m: Unknown if model of class <class 'transformers.models.albert.modeling_albert.AlbertForSequenceClassification'> compatible with goal function <class 'textattack.goal_functions.classification.untargeted_classification.UntargetedClassification'>.\n",
            "Reusing dataset glue (/root/.cache/huggingface/datasets/glue/qqp/1.0.0/dacbe3125aa31d7f70367a07a8a9e72a5a0bfeb5fc42e75c9db75b96da6053ad)\n",
            "\u001b[34;1mtextattack\u001b[0m: Loading \u001b[94mdatasets\u001b[0m dataset \u001b[94mglue\u001b[0m, subset \u001b[94mqqp\u001b[0m, split \u001b[94mvalidation\u001b[0m.\n"
          ],
          "name": "stderr"
        }
      ]
    },
    {
      "cell_type": "code",
      "metadata": {
        "colab": {
          "base_uri": "https://localhost:8080/"
        },
        "id": "gUWI3gs9nzz2",
        "outputId": "745f5263-a705-496a-94ff-e8568177f72e"
      },
      "source": [
        "print(attack)"
      ],
      "execution_count": 34,
      "outputs": [
        {
          "output_type": "stream",
          "text": [
            "Attack(\n",
            "  (search_method): ParticleSwarmOptimization(\n",
            "    (pop_size):  10\n",
            "    (max_iters):  5\n",
            "    (post_turn_check):  True\n",
            "    (max_turn_retries):  20\n",
            "  )\n",
            "  (goal_function):  UntargetedClassification\n",
            "  (transformation):  Swapper\n",
            "  (constraints): \n",
            "    (0): RepeatModification\n",
            "    (1): StopwordModification\n",
            "  (is_black_box):  True\n",
            ")\n"
          ],
          "name": "stdout"
        }
      ]
    },
    {
      "cell_type": "code",
      "metadata": {
        "colab": {
          "base_uri": "https://localhost:8080/",
          "height": 1000
        },
        "id": "eynxLKPCn2c7",
        "outputId": "e95d7ae1-22f4-4026-ead2-bfa542beaf0f"
      },
      "source": [
        "printexample(attack)"
      ],
      "execution_count": 35,
      "outputs": [
        {
          "output_type": "stream",
          "text": [
            "\r  0%|          | 0/25 [00:00<?, ?it/s]"
          ],
          "name": "stderr"
        },
        {
          "output_type": "stream",
          "text": [
            "Attack(\n",
            "  (search_method): ParticleSwarmOptimization(\n",
            "    (pop_size):  10\n",
            "    (max_iters):  5\n",
            "    (post_turn_check):  True\n",
            "    (max_turn_retries):  20\n",
            "  )\n",
            "  (goal_function):  UntargetedClassification\n",
            "  (transformation):  Swapper\n",
            "  (constraints): \n",
            "    (0): RepeatModification\n",
            "    (1): StopwordModification\n",
            "  (is_black_box):  True\n",
            ")\n"
          ],
          "name": "stdout"
        },
        {
          "output_type": "display_data",
          "data": {
            "text/html": [
              "<font color = red>Not_duplicate (89%)</font> --> <font color = red>[FAILED]</font><br><font color = bold><font color = underline>Question1</font></font>: Why are African-Americans so beautiful?\n",
              "<font color = bold><font color = underline>Question2</font></font>: Why are hispanics so beautiful?"
            ],
            "text/plain": [
              "<IPython.core.display.HTML object>"
            ]
          },
          "metadata": {
            "tags": []
          }
        },
        {
          "output_type": "stream",
          "text": [
            "[Succeeded / Failed / Total] 0 / 1 / 1:   4%|▍         | 1/25 [00:02<00:51,  2.16s/it]"
          ],
          "name": "stderr"
        },
        {
          "output_type": "display_data",
          "data": {
            "text/html": [
              "<font color = red>Not_duplicate (100%)</font> --> <font color = red>[FAILED]</font><br><font color = bold><font color = underline>Question1</font></font>: I want to pursue PhD in Computer Science about social network,what is the open problem in social networks?\n",
              "<font color = bold><font color = underline>Question2</font></font>: I handle social media for a non-profit. Should I start going to social media networking events? Are there any good ones in the bay area?"
            ],
            "text/plain": [
              "<IPython.core.display.HTML object>"
            ]
          },
          "metadata": {
            "tags": []
          }
        },
        {
          "output_type": "stream",
          "text": [
            "[Succeeded / Failed / Total] 0 / 2 / 2:   8%|▊         | 2/25 [00:34<06:35, 17.20s/it]"
          ],
          "name": "stderr"
        },
        {
          "output_type": "display_data",
          "data": {
            "text/html": [
              "<font color = green>Duplicate (97%)</font> --> <font color = red>Not_duplicate (81%)</font><br><font color = bold><font color = underline>Question1</font></font>: Is there a reason why we should travel alone?\n",
              "<font color = bold><font color = underline>Question2</font></font>: <font color = green>What</font> are some reasons to travel alone?<br><font color = bold><font color = underline>Question1</font></font>: Is there a reason why we should travel alone?\n",
              "<font color = bold><font color = underline>Question2</font></font>: <font color = red>Hihat</font> are some reasons to travel alone?"
            ],
            "text/plain": [
              "<IPython.core.display.HTML object>"
            ]
          },
          "metadata": {
            "tags": []
          }
        },
        {
          "output_type": "stream",
          "text": [
            "[Succeeded / Failed / Total] 1 / 2 / 3:  12%|█▏        | 3/25 [00:34<04:14, 11.57s/it]"
          ],
          "name": "stderr"
        },
        {
          "output_type": "display_data",
          "data": {
            "text/html": [
              "<font color = red>Not_duplicate (100%)</font> --> <font color = red>[FAILED]</font><br><font color = bold><font color = underline>Question1</font></font>: Why are people so obsessed with having a girlfriend/boyfriend?\n",
              "<font color = bold><font color = underline>Question2</font></font>: How can a single male have a child?"
            ],
            "text/plain": [
              "<IPython.core.display.HTML object>"
            ]
          },
          "metadata": {
            "tags": []
          }
        },
        {
          "output_type": "stream",
          "text": [
            "[Succeeded / Failed / Total] 1 / 3 / 4:  16%|█▌        | 4/25 [00:39<03:24,  9.76s/it]"
          ],
          "name": "stderr"
        },
        {
          "output_type": "display_data",
          "data": {
            "text/html": [
              "<font color = red>Not_duplicate (81%)</font> --> <font color = green>Duplicate (94%)</font><br><font color = bold><font color = underline>Question1</font></font>: What are some good baby girl names starting with D?\n",
              "<font color = bold><font color = underline>Question2</font></font>: What are some good baby girl names starting with D or <font color = red>H</font>?<br><font color = bold><font color = underline>Question1</font></font>: What are some good baby girl names starting with D?\n",
              "<font color = bold><font color = underline>Question2</font></font>: What are some good baby girl names starting with D or <font color = green>QUE</font>?"
            ],
            "text/plain": [
              "<IPython.core.display.HTML object>"
            ]
          },
          "metadata": {
            "tags": []
          }
        },
        {
          "output_type": "stream",
          "text": [
            "[Succeeded / Failed / Total] 2 / 3 / 5:  20%|██        | 5/25 [00:39<02:38,  7.90s/it]"
          ],
          "name": "stderr"
        },
        {
          "output_type": "display_data",
          "data": {
            "text/html": [
              "<font color = green>Duplicate (96%)</font> --> <font color = red>Not_duplicate (85%)</font><br><font color = bold><font color = underline>Question1</font></font>: I am <font color = green>25</font> year old guy and never had a girlfriend. Is this weird?\n",
              "<font color = bold><font color = underline>Question2</font></font>: I am 25 years old. I have never had a girlfriend. Is something wrong with me?<br><font color = bold><font color = underline>Question1</font></font>: I am <font color = red>chmielnicki</font> year old guy and never had a girlfriend. Is this weird?\n",
              "<font color = bold><font color = underline>Question2</font></font>: I am 25 years old. I have never had a girlfriend. Is something wrong with me?"
            ],
            "text/plain": [
              "<IPython.core.display.HTML object>"
            ]
          },
          "metadata": {
            "tags": []
          }
        },
        {
          "output_type": "stream",
          "text": [
            "[Succeeded / Failed / Total] 3 / 3 / 6:  24%|██▍       | 6/25 [00:40<02:06,  6.68s/it]"
          ],
          "name": "stderr"
        },
        {
          "output_type": "display_data",
          "data": {
            "text/html": [
              "<font color = red>Not_duplicate (100%)</font> --> <font color = gray>[SKIPPED]</font><br><font color = bold><font color = underline>Question1</font></font>: \"What does a good answer on Quora look like? What does it mean to \"\"be helpful\"\"?\"\n",
              "<font color = bold><font color = underline>Question2</font></font>: How do you write a good answer on Quora?"
            ],
            "text/plain": [
              "<IPython.core.display.HTML object>"
            ]
          },
          "metadata": {
            "tags": []
          }
        },
        {
          "output_type": "stream",
          "text": [
            "\r[Succeeded / Failed / Total] 3 / 3 / 7:  28%|██▊       | 7/25 [00:40<01:43,  5.73s/it]"
          ],
          "name": "stderr"
        },
        {
          "output_type": "display_data",
          "data": {
            "text/html": [
              "<font color = green>Duplicate (82%)</font> --> <font color = red>Not_duplicate (100%)</font><br><font color = bold><font color = underline>Question1</font></font>: What are the best things to do in <font color = green>Hong</font> Kong?\n",
              "<font color = bold><font color = underline>Question2</font></font>: What is the best thing in Hong Kong?<br><font color = bold><font color = underline>Question1</font></font>: What are the best things to do in <font color = red>Yong</font> Kong?\n",
              "<font color = bold><font color = underline>Question2</font></font>: What is the best thing in Hong Kong?"
            ],
            "text/plain": [
              "<IPython.core.display.HTML object>"
            ]
          },
          "metadata": {
            "tags": []
          }
        },
        {
          "output_type": "stream",
          "text": [
            "[Succeeded / Failed / Total] 4 / 3 / 8:  32%|███▏      | 8/25 [00:40<01:25,  5.05s/it]"
          ],
          "name": "stderr"
        },
        {
          "output_type": "display_data",
          "data": {
            "text/html": [
              "<font color = green>Duplicate (54%)</font> --> <font color = gray>[SKIPPED]</font><br><font color = bold><font color = underline>Question1</font></font>: Why is my life getting so complicated?\n",
              "<font color = bold><font color = underline>Question2</font></font>: Why is my life so complicated?"
            ],
            "text/plain": [
              "<IPython.core.display.HTML object>"
            ]
          },
          "metadata": {
            "tags": []
          }
        },
        {
          "output_type": "stream",
          "text": [
            "\r[Succeeded / Failed / Total] 4 / 3 / 9:  36%|███▌      | 9/25 [00:40<01:11,  4.50s/it]"
          ],
          "name": "stderr"
        },
        {
          "output_type": "display_data",
          "data": {
            "text/html": [
              "<font color = red>Not_duplicate (100%)</font> --> <font color = red>[FAILED]</font><br><font color = bold><font color = underline>Question1</font></font>: Why should I crack Jee?\n",
              "<font color = bold><font color = underline>Question2</font></font>: Is it possible to get into IIMs with low marks in graduation and 12th?"
            ],
            "text/plain": [
              "<IPython.core.display.HTML object>"
            ]
          },
          "metadata": {
            "tags": []
          }
        },
        {
          "output_type": "stream",
          "text": [
            "[Succeeded / Failed / Total] 4 / 4 / 10:  40%|████      | 10/25 [00:47<01:11,  4.75s/it]"
          ],
          "name": "stderr"
        },
        {
          "output_type": "display_data",
          "data": {
            "text/html": [
              "<font color = red>Not_duplicate (100%)</font> --> <font color = red>[FAILED]</font><br><font color = bold><font color = underline>Question1</font></font>: Can you TRANSLATE these to English language?\n",
              "<font color = bold><font color = underline>Question2</font></font>: Can you translate this from Bengali to English language?"
            ],
            "text/plain": [
              "<IPython.core.display.HTML object>"
            ]
          },
          "metadata": {
            "tags": []
          }
        },
        {
          "output_type": "stream",
          "text": [
            "[Succeeded / Failed / Total] 4 / 5 / 11:  44%|████▍     | 11/25 [01:07<01:25,  6.12s/it]"
          ],
          "name": "stderr"
        },
        {
          "output_type": "display_data",
          "data": {
            "text/html": [
              "<font color = red>Not_duplicate (100%)</font> --> <font color = red>[FAILED]</font><br><font color = bold><font color = underline>Question1</font></font>: Can anyone tell shall mi mix mobile should be purchased or not?\n",
              "<font color = bold><font color = underline>Question2</font></font>: \"What did Voltaire mean when he said, \"\"God is a comedian playing to an audience that is too afraid to laugh\"\"?\""
            ],
            "text/plain": [
              "<IPython.core.display.HTML object>"
            ]
          },
          "metadata": {
            "tags": []
          }
        },
        {
          "output_type": "stream",
          "text": [
            "[Succeeded / Failed / Total] 4 / 6 / 12:  48%|████▊     | 12/25 [01:09<01:15,  5.80s/it]"
          ],
          "name": "stderr"
        },
        {
          "output_type": "display_data",
          "data": {
            "text/html": [
              "<font color = green>Duplicate (100%)</font> --> <font color = red>Not_duplicate (100%)</font><br><font color = bold><font color = underline>Question1</font></font>: Which is the best gaming laptop under <font color = green>40k</font>?\n",
              "<font color = bold><font color = underline>Question2</font></font>: Which is the best gaming laptop under 40,000 rs?<br><font color = bold><font color = underline>Question1</font></font>: Which is the best gaming laptop under <font color = red>asexually</font>?\n",
              "<font color = bold><font color = underline>Question2</font></font>: Which is the best gaming laptop under 40,000 rs?"
            ],
            "text/plain": [
              "<IPython.core.display.HTML object>"
            ]
          },
          "metadata": {
            "tags": []
          }
        },
        {
          "output_type": "stream",
          "text": [
            "[Succeeded / Failed / Total] 5 / 6 / 13:  52%|█████▏    | 13/25 [01:09<01:04,  5.38s/it]"
          ],
          "name": "stderr"
        },
        {
          "output_type": "display_data",
          "data": {
            "text/html": [
              "<font color = red>Not_duplicate (100%)</font> --> <font color = red>[FAILED]</font><br><font color = bold><font color = underline>Question1</font></font>: Why Tamil Nadu Universities are no good?\n",
              "<font color = bold><font color = underline>Question2</font></font>: Why are the 10th students able to score 100% in Tamil Nadu?"
            ],
            "text/plain": [
              "<IPython.core.display.HTML object>"
            ]
          },
          "metadata": {
            "tags": []
          }
        },
        {
          "output_type": "stream",
          "text": [
            "[Succeeded / Failed / Total] 5 / 7 / 14:  56%|█████▌    | 14/25 [01:16<01:00,  5.49s/it]"
          ],
          "name": "stderr"
        },
        {
          "output_type": "display_data",
          "data": {
            "text/html": [
              "<font color = red>Not_duplicate (100%)</font> --> <font color = red>[FAILED]</font><br><font color = bold><font color = underline>Question1</font></font>: What is an easy way to clean toothpaste stains from a shirt without washing it?\n",
              "<font color = bold><font color = underline>Question2</font></font>: What are some ways to remove hard water stains from dishes?"
            ],
            "text/plain": [
              "<IPython.core.display.HTML object>"
            ]
          },
          "metadata": {
            "tags": []
          }
        },
        {
          "output_type": "stream",
          "text": [
            "[Succeeded / Failed / Total] 5 / 8 / 15:  60%|██████    | 15/25 [01:24<00:56,  5.66s/it]"
          ],
          "name": "stderr"
        },
        {
          "output_type": "display_data",
          "data": {
            "text/html": [
              "<font color = green>Duplicate (89%)</font> --> <font color = red>Not_duplicate (100%)</font><br><font color = bold><font color = underline>Question1</font></font>: What was the deadliest <font color = green>battle</font> in history?\n",
              "<font color = bold><font color = underline>Question2</font></font>: What was the bloodiest battle in history?<br><font color = bold><font color = underline>Question1</font></font>: What was the deadliest <font color = red>battlezone</font> in history?\n",
              "<font color = bold><font color = underline>Question2</font></font>: What was the bloodiest battle in history?"
            ],
            "text/plain": [
              "<IPython.core.display.HTML object>"
            ]
          },
          "metadata": {
            "tags": []
          }
        },
        {
          "output_type": "stream",
          "text": [
            "[Succeeded / Failed / Total] 6 / 8 / 16:  64%|██████▍   | 16/25 [01:25<00:47,  5.32s/it]"
          ],
          "name": "stderr"
        },
        {
          "output_type": "display_data",
          "data": {
            "text/html": [
              "<font color = green>Duplicate (100%)</font> --> <font color = red>Not_duplicate (59%)</font><br><font color = bold><font color = underline>Question1</font></font>: What are your views about demonetisation in India?\n",
              "<font color = bold><font color = underline>Question2</font></font>: What do you think about the ban on 500 and <font color = green>1000</font> denomination notes in India?<br><font color = bold><font color = underline>Question1</font></font>: What are your views about demonetisation in India?\n",
              "<font color = bold><font color = underline>Question2</font></font>: What do you think about the ban on 500 and <font color = red>papadopoulos</font> denomination notes in India?"
            ],
            "text/plain": [
              "<IPython.core.display.HTML object>"
            ]
          },
          "metadata": {
            "tags": []
          }
        },
        {
          "output_type": "stream",
          "text": [
            "[Succeeded / Failed / Total] 7 / 8 / 17:  68%|██████▊   | 17/25 [01:25<00:40,  5.03s/it]"
          ],
          "name": "stderr"
        },
        {
          "output_type": "display_data",
          "data": {
            "text/html": [
              "<font color = red>Not_duplicate (100%)</font> --> <font color = red>[FAILED]</font><br><font color = bold><font color = underline>Question1</font></font>: What are the difference between polyester 210T and 210D?\n",
              "<font color = bold><font color = underline>Question2</font></font>: What is the difference between cotton and polyester?"
            ],
            "text/plain": [
              "<IPython.core.display.HTML object>"
            ]
          },
          "metadata": {
            "tags": []
          }
        },
        {
          "output_type": "stream",
          "text": [
            "[Succeeded / Failed / Total] 7 / 9 / 18:  72%|███████▏  | 18/25 [01:28<00:34,  4.93s/it]"
          ],
          "name": "stderr"
        },
        {
          "output_type": "display_data",
          "data": {
            "text/html": [
              "<font color = red>Not_duplicate (82%)</font> --> <font color = green>Duplicate (96%)</font><br><font color = bold><font color = underline>Question1</font></font>: <font color = red>Is</font> FMS Delhi a good option for a MBA executive program?\n",
              "<font color = bold><font color = underline>Question2</font></font>: <font color = red>Is</font> FMS a good <font color = red>choice</font> for an MBA in HR? Why and why not?<br><font color = bold><font color = underline>Question1</font></font>: <font color = green>Larva</font> FMS Delhi a good option for a MBA executive program?\n",
              "<font color = bold><font color = underline>Question2</font></font>: <font color = green>Larva</font> FMS a good <font color = green>preference</font> for an MBA in HR? Why and why not?"
            ],
            "text/plain": [
              "<IPython.core.display.HTML object>"
            ]
          },
          "metadata": {
            "tags": []
          }
        },
        {
          "output_type": "stream",
          "text": [
            "[Succeeded / Failed / Total] 8 / 9 / 19:  76%|███████▌  | 19/25 [01:30<00:28,  4.78s/it]"
          ],
          "name": "stderr"
        },
        {
          "output_type": "display_data",
          "data": {
            "text/html": [
              "<font color = red>Not_duplicate (63%)</font> --> <font color = gray>[SKIPPED]</font><br><font color = bold><font color = underline>Question1</font></font>: Is it a bad time to buy a condo or a house in the Bay Area in 2017?\n",
              "<font color = bold><font color = underline>Question2</font></font>: Would 2017 be a good time to buy a house in Bay Area?"
            ],
            "text/plain": [
              "<IPython.core.display.HTML object>"
            ]
          },
          "metadata": {
            "tags": []
          }
        },
        {
          "output_type": "stream",
          "text": [
            "\r[Succeeded / Failed / Total] 8 / 9 / 20:  80%|████████  | 20/25 [01:30<00:22,  4.54s/it]"
          ],
          "name": "stderr"
        },
        {
          "output_type": "display_data",
          "data": {
            "text/html": [
              "<font color = red>Not_duplicate (100%)</font> --> <font color = green>Duplicate (78%)</font><br><font color = bold><font color = underline>Question1</font></font>: <font color = red>How</font> is vanilla extract made?\n",
              "<font color = bold><font color = underline>Question2</font></font>: <font color = red>How</font> do you make sugar <font color = red>cookies</font> <font color = red>without</font> vanilla <font color = red>extract</font>?<br><font color = bold><font color = underline>Question1</font></font>: <font color = green>Kowtow</font> is vanilla extract made?\n",
              "<font color = bold><font color = underline>Question2</font></font>: <font color = green>Kowtow</font> do you make sugar <font color = green>cookie</font> <font color = green>any</font> vanilla <font color = green>extracode</font>?"
            ],
            "text/plain": [
              "<IPython.core.display.HTML object>"
            ]
          },
          "metadata": {
            "tags": []
          }
        },
        {
          "output_type": "stream",
          "text": [
            "[Succeeded / Failed / Total] 9 / 9 / 21:  84%|████████▍ | 21/25 [01:33<00:17,  4.44s/it]"
          ],
          "name": "stderr"
        },
        {
          "output_type": "display_data",
          "data": {
            "text/html": [
              "<font color = green>Duplicate (100%)</font> --> <font color = red>Not_duplicate (99%)</font><br><font color = bold><font color = underline>Question1</font></font>: What is the Sahara, and how do the average <font color = green>temperatures</font> there compare to the ones in the Patagonian Desert?\n",
              "<font color = bold><font color = underline>Question2</font></font>: What is the <font color = green>Sahara</font>, and how do the average temperatures there compare to the ones in the <font color = green>Registan</font> Desert?<br><font color = bold><font color = underline>Question1</font></font>: What is the Sahara, and how do the average <font color = red>temperature</font> there compare to the ones in the Patagonian Desert?\n",
              "<font color = bold><font color = underline>Question2</font></font>: What is the <font color = red>Zahara</font>, and how do the average temperatures there compare to the ones in the <font color = red>Waziristan</font> Desert?"
            ],
            "text/plain": [
              "<IPython.core.display.HTML object>"
            ]
          },
          "metadata": {
            "tags": []
          }
        },
        {
          "output_type": "stream",
          "text": [
            "\r[Succeeded / Failed / Total] 10 / 9 / 22:  88%|████████▊ | 22/25 [01:34<00:12,  4.32s/it]"
          ],
          "name": "stderr"
        },
        {
          "output_type": "display_data",
          "data": {
            "text/html": [
              "<font color = red>Not_duplicate (100%)</font> --> <font color = red>[FAILED]</font><br><font color = bold><font color = underline>Question1</font></font>: Why was the Roman Empire so successful?\n",
              "<font color = bold><font color = underline>Question2</font></font>: What are some of the rarely known facts about the Roman Empire?"
            ],
            "text/plain": [
              "<IPython.core.display.HTML object>"
            ]
          },
          "metadata": {
            "tags": []
          }
        },
        {
          "output_type": "stream",
          "text": [
            "[Succeeded / Failed / Total] 10 / 10 / 23:  92%|█████████▏| 23/25 [01:40<00:08,  4.37s/it]"
          ],
          "name": "stderr"
        },
        {
          "output_type": "display_data",
          "data": {
            "text/html": [
              "<font color = red>Not_duplicate (100%)</font> --> <font color = green>Duplicate (57%)</font><br><font color = bold><font color = underline>Question1</font></font>: <font color = red>Is</font> it <font color = red>advisable</font> to sent your <font color = red>cv</font> to a professor with whom you are trying to make contact for graduate <font color = red>admission</font>?\n",
              "<font color = bold><font color = underline>Question2</font></font>: How does <font color = red>contacting</font> a professor before applying factor into graduate admissions?<br><font color = bold><font color = underline>Question1</font></font>: <font color = green>Larva</font> it <font color = green>disable</font> to sent your <font color = green>ddg</font> to a professor with whom you are trying to make contact for graduate <font color = green>admittance</font>?\n",
              "<font color = bold><font color = underline>Question2</font></font>: How does <font color = green>contact</font> a professor before applying factor into graduate admissions?"
            ],
            "text/plain": [
              "<IPython.core.display.HTML object>"
            ]
          },
          "metadata": {
            "tags": []
          }
        },
        {
          "output_type": "stream",
          "text": [
            "[Succeeded / Failed / Total] 11 / 10 / 24:  96%|█████████▌| 24/25 [01:57<00:04,  4.89s/it]"
          ],
          "name": "stderr"
        },
        {
          "output_type": "display_data",
          "data": {
            "text/html": [
              "<font color = red>Not_duplicate (100%)</font> --> <font color = red>[FAILED]</font><br><font color = bold><font color = underline>Question1</font></font>: Does a RainTPL syntax extension for Sublime Text exist? Where can I download it?\n",
              "<font color = bold><font color = underline>Question2</font></font>: How do I hide the find/replace bar in Sublime Text 2?"
            ],
            "text/plain": [
              "<IPython.core.display.HTML object>"
            ]
          },
          "metadata": {
            "tags": []
          }
        },
        {
          "output_type": "stream",
          "text": [
            "[Succeeded / Failed / Total] 11 / 11 / 25: 100%|██████████| 25/25 [01:59<00:00,  4.79s/it]"
          ],
          "name": "stderr"
        },
        {
          "output_type": "display_data",
          "data": {
            "text/html": [
              "<font color = red>Not_duplicate (99%)</font> --> <font color = green>Duplicate (69%)</font><br><font color = bold><font color = underline>Question1</font></font>: <font color = red>What</font> is the average <font color = red>salary</font> of a <font color = red>microbiologist</font> in India?\n",
              "<font color = bold><font color = underline>Question2</font></font>: <font color = red>What</font> is the <font color = red>salary</font> for a psychologist in india?<br><font color = bold><font color = underline>Question1</font></font>: <font color = green>Hihat</font> is the average <font color = green>spending</font> of a <font color = green>neurobiologist</font> in India?\n",
              "<font color = bold><font color = underline>Question2</font></font>: <font color = green>Hihat</font> is the <font color = green>spending</font> for a psychologist in india?"
            ],
            "text/plain": [
              "<IPython.core.display.HTML object>"
            ]
          },
          "metadata": {
            "tags": []
          }
        },
        {
          "output_type": "stream",
          "text": [
            "[Succeeded / Failed / Total] 12 / 11 / 26: : 26it [02:01,  4.68s/it]"
          ],
          "name": "stderr"
        },
        {
          "output_type": "display_data",
          "data": {
            "text/html": [
              "<font color = red>Not_duplicate (100%)</font> --> <font color = green>Duplicate (93%)</font><br><font color = bold><font color = underline>Question1</font></font>: How do you close a Bank of <font color = red>America</font> <font color = red>account</font>?\n",
              "<font color = bold><font color = underline>Question2</font></font>: How can <font color = red>one</font> close a bank <font color = red>account</font> online?<br><font color = bold><font color = underline>Question1</font></font>: How do you close a Bank of <font color = green>Comerica</font> <font color = green>recount</font>?\n",
              "<font color = bold><font color = underline>Question2</font></font>: How can <font color = green>nine</font> close a bank <font color = green>recount</font> online?"
            ],
            "text/plain": [
              "<IPython.core.display.HTML object>"
            ]
          },
          "metadata": {
            "tags": []
          }
        },
        {
          "output_type": "stream",
          "text": [
            "[Succeeded / Failed / Total] 13 / 11 / 27: : 27it [02:03,  4.56s/it]"
          ],
          "name": "stderr"
        },
        {
          "output_type": "display_data",
          "data": {
            "text/html": [
              "<font color = red>Not_duplicate (71%)</font> --> <font color = green>Duplicate (90%)</font><br><font color = bold><font color = underline>Question1</font></font>: How can I create the most popular question on Quora?\n",
              "<font color = bold><font color = underline>Question2</font></font>: Which are the most popular questions on <font color = red>Quora</font> presently that also create the most discussions?<br><font color = bold><font color = underline>Question1</font></font>: How can I create the most popular question on Quora?\n",
              "<font color = bold><font color = underline>Question2</font></font>: Which are the most popular questions on <font color = green>Ora</font> presently that also create the most discussions?"
            ],
            "text/plain": [
              "<IPython.core.display.HTML object>"
            ]
          },
          "metadata": {
            "tags": []
          }
        },
        {
          "output_type": "stream",
          "text": [
            "[Succeeded / Failed / Total] 14 / 11 / 28: : 28it [02:03,  4.42s/it]"
          ],
          "name": "stderr"
        },
        {
          "output_type": "stream",
          "text": [
            "+-------------------------------+--------+\n",
            "| Attack Results                |        |\n",
            "+-------------------------------+--------+\n",
            "| Number of successful attacks: | 14     |\n",
            "| Number of failed attacks:     | 11     |\n",
            "| Number of skipped attacks:    | 3      |\n",
            "| Original accuracy:            | 89.29% |\n",
            "| Accuracy under attack:        | 39.29% |\n",
            "| Attack success rate:          | 56.0%  |\n",
            "| Average perturbed word %:     | 11.56% |\n",
            "| Average num. words per input: | 22.39  |\n",
            "| Avg num queries:              | 280.52 |\n",
            "+-------------------------------+--------+"
          ],
          "name": "stdout"
        },
        {
          "output_type": "stream",
          "text": [
            "\n",
            "\u001b[34;1mtextattack\u001b[0m: Attack time: 123.72418212890625s\n"
          ],
          "name": "stderr"
        }
      ]
    },
    {
      "cell_type": "code",
      "metadata": {
        "colab": {
          "base_uri": "https://localhost:8080/"
        },
        "id": "nGlixEC_n5vA",
        "outputId": "5d625463-c9b8-40a1-ccf7-7ff6a2ddd38b"
      },
      "source": [
        "from textattack.search_methods import ParticleSwarmOptimization\n",
        "from textattack.constraints.pre_transformation import RepeatModification, StopwordModification\n",
        "from textattack.shared import Attack\n",
        "from textattack.goal_functions import UntargetedClassification\n",
        "from textattack.datasets import HuggingFaceDataset\n",
        "\n",
        "# We're going to use our word swap class as the attack transformation.\n",
        "transformation = Swapper_()\n",
        "\n",
        "constraints = [RepeatModification(),\n",
        "               StopwordModification()]\n",
        "\n",
        "search_method = ParticleSwarmOptimization(pop_size=10,max_iters=5,post_turn_check=True)\n",
        "\n",
        "goal_function = UntargetedClassification(model_wrapper)\n",
        "\n",
        "# Now, let's make the attack from the 4 components:\n",
        "attack = Attack(goal_function, constraints, transformation, search_method)\n",
        "\n",
        "dataset = HuggingFaceDataset(\"glue\", \"qqp\", \"validation\") # Change the dataset"
      ],
      "execution_count": 36,
      "outputs": [
        {
          "output_type": "stream",
          "text": [
            "\u001b[34;1mtextattack\u001b[0m: Unknown if model of class <class 'transformers.models.albert.modeling_albert.AlbertForSequenceClassification'> compatible with goal function <class 'textattack.goal_functions.classification.untargeted_classification.UntargetedClassification'>.\n",
            "Reusing dataset glue (/root/.cache/huggingface/datasets/glue/qqp/1.0.0/dacbe3125aa31d7f70367a07a8a9e72a5a0bfeb5fc42e75c9db75b96da6053ad)\n",
            "\u001b[34;1mtextattack\u001b[0m: Loading \u001b[94mdatasets\u001b[0m dataset \u001b[94mglue\u001b[0m, subset \u001b[94mqqp\u001b[0m, split \u001b[94mvalidation\u001b[0m.\n"
          ],
          "name": "stderr"
        }
      ]
    },
    {
      "cell_type": "code",
      "metadata": {
        "colab": {
          "base_uri": "https://localhost:8080/"
        },
        "id": "xnYmPzWPpj7Q",
        "outputId": "b157c0d1-e1b7-4000-cdca-6e483bf7f70c"
      },
      "source": [
        "print(attack)"
      ],
      "execution_count": 37,
      "outputs": [
        {
          "output_type": "stream",
          "text": [
            "Attack(\n",
            "  (search_method): ParticleSwarmOptimization(\n",
            "    (pop_size):  10\n",
            "    (max_iters):  5\n",
            "    (post_turn_check):  True\n",
            "    (max_turn_retries):  20\n",
            "  )\n",
            "  (goal_function):  UntargetedClassification\n",
            "  (transformation):  Swapper_\n",
            "  (constraints): \n",
            "    (0): RepeatModification\n",
            "    (1): StopwordModification\n",
            "  (is_black_box):  True\n",
            ")\n"
          ],
          "name": "stdout"
        }
      ]
    },
    {
      "cell_type": "code",
      "metadata": {
        "colab": {
          "base_uri": "https://localhost:8080/",
          "height": 1000
        },
        "id": "UpPST74lpyiu",
        "outputId": "84404469-51ca-4827-fe31-7920b1c2e92e"
      },
      "source": [
        "printexample(attack)"
      ],
      "execution_count": 38,
      "outputs": [
        {
          "output_type": "stream",
          "text": [
            "\r  0%|          | 0/25 [00:00<?, ?it/s]"
          ],
          "name": "stderr"
        },
        {
          "output_type": "stream",
          "text": [
            "Attack(\n",
            "  (search_method): ParticleSwarmOptimization(\n",
            "    (pop_size):  10\n",
            "    (max_iters):  5\n",
            "    (post_turn_check):  True\n",
            "    (max_turn_retries):  20\n",
            "  )\n",
            "  (goal_function):  UntargetedClassification\n",
            "  (transformation):  Swapper_\n",
            "  (constraints): \n",
            "    (0): RepeatModification\n",
            "    (1): StopwordModification\n",
            "  (is_black_box):  True\n",
            ")\n"
          ],
          "name": "stdout"
        },
        {
          "output_type": "display_data",
          "data": {
            "text/html": [
              "<font color = red>Not_duplicate (89%)</font> --> <font color = red>[FAILED]</font><br><font color = bold><font color = underline>Question1</font></font>: Why are African-Americans so beautiful?\n",
              "<font color = bold><font color = underline>Question2</font></font>: Why are hispanics so beautiful?"
            ],
            "text/plain": [
              "<IPython.core.display.HTML object>"
            ]
          },
          "metadata": {
            "tags": []
          }
        },
        {
          "output_type": "stream",
          "text": [
            "[Succeeded / Failed / Total] 0 / 1 / 1:   4%|▍         | 1/25 [00:00<00:08,  3.00it/s]"
          ],
          "name": "stderr"
        },
        {
          "output_type": "display_data",
          "data": {
            "text/html": [
              "<font color = red>Not_duplicate (100%)</font> --> <font color = red>[FAILED]</font><br><font color = bold><font color = underline>Question1</font></font>: I want to pursue PhD in Computer Science about social network,what is the open problem in social networks?\n",
              "<font color = bold><font color = underline>Question2</font></font>: I handle social media for a non-profit. Should I start going to social media networking events? Are there any good ones in the bay area?"
            ],
            "text/plain": [
              "<IPython.core.display.HTML object>"
            ]
          },
          "metadata": {
            "tags": []
          }
        },
        {
          "output_type": "stream",
          "text": [
            "[Succeeded / Failed / Total] 0 / 2 / 2:   8%|▊         | 2/25 [00:16<03:12,  8.39s/it]"
          ],
          "name": "stderr"
        },
        {
          "output_type": "display_data",
          "data": {
            "text/html": [
              "<font color = green>Duplicate (97%)</font> --> <font color = red>Not_duplicate (97%)</font><br><font color = bold><font color = underline>Question1</font></font>: Is there a reason why we should <font color = green>travel</font> alone?\n",
              "<font color = bold><font color = underline>Question2</font></font>: What are some reasons to travel alone?<br><font color = bold><font color = underline>Question1</font></font>: Is there a reason why we should <font color = red>interplanetary</font> alone?\n",
              "<font color = bold><font color = underline>Question2</font></font>: What are some reasons to travel alone?"
            ],
            "text/plain": [
              "<IPython.core.display.HTML object>"
            ]
          },
          "metadata": {
            "tags": []
          }
        },
        {
          "output_type": "stream",
          "text": [
            "[Succeeded / Failed / Total] 1 / 2 / 3:  12%|█▏        | 3/25 [00:16<02:04,  5.66s/it]"
          ],
          "name": "stderr"
        },
        {
          "output_type": "display_data",
          "data": {
            "text/html": [
              "<font color = red>Not_duplicate (100%)</font> --> <font color = red>[FAILED]</font><br><font color = bold><font color = underline>Question1</font></font>: Why are people so obsessed with having a girlfriend/boyfriend?\n",
              "<font color = bold><font color = underline>Question2</font></font>: How can a single male have a child?"
            ],
            "text/plain": [
              "<IPython.core.display.HTML object>"
            ]
          },
          "metadata": {
            "tags": []
          }
        },
        {
          "output_type": "stream",
          "text": [
            "[Succeeded / Failed / Total] 1 / 3 / 4:  16%|█▌        | 4/25 [00:19<01:43,  4.93s/it]"
          ],
          "name": "stderr"
        },
        {
          "output_type": "display_data",
          "data": {
            "text/html": [
              "<font color = red>Not_duplicate (81%)</font> --> <font color = green>Duplicate (67%)</font><br><font color = bold><font color = underline>Question1</font></font>: What are some good baby girl names <font color = red>starting</font> with D?\n",
              "<font color = bold><font color = underline>Question2</font></font>: What are some good baby girl names starting with D or H?<br><font color = bold><font color = underline>Question1</font></font>: What are some good baby girl names <font color = green>beginning</font> with D?\n",
              "<font color = bold><font color = underline>Question2</font></font>: What are some good baby girl names starting with D or H?"
            ],
            "text/plain": [
              "<IPython.core.display.HTML object>"
            ]
          },
          "metadata": {
            "tags": []
          }
        },
        {
          "output_type": "stream",
          "text": [
            "[Succeeded / Failed / Total] 2 / 3 / 5:  20%|██        | 5/25 [00:20<01:20,  4.01s/it]"
          ],
          "name": "stderr"
        },
        {
          "output_type": "display_data",
          "data": {
            "text/html": [
              "<font color = green>Duplicate (96%)</font> --> <font color = red>Not_duplicate (99%)</font><br><font color = bold><font color = underline>Question1</font></font>: I am 25 year old guy and never had a girlfriend. Is this <font color = green>weird</font>?\n",
              "<font color = bold><font color = underline>Question2</font></font>: I am 25 years old. I have never had a girlfriend. Is something wrong with me?<br><font color = bold><font color = underline>Question1</font></font>: I am 25 year old guy and never had a girlfriend. Is this <font color = red>yankovic</font>?\n",
              "<font color = bold><font color = underline>Question2</font></font>: I am 25 years old. I have never had a girlfriend. Is something wrong with me?"
            ],
            "text/plain": [
              "<IPython.core.display.HTML object>"
            ]
          },
          "metadata": {
            "tags": []
          }
        },
        {
          "output_type": "stream",
          "text": [
            "[Succeeded / Failed / Total] 3 / 3 / 6:  24%|██▍       | 6/25 [00:20<01:04,  3.40s/it]"
          ],
          "name": "stderr"
        },
        {
          "output_type": "display_data",
          "data": {
            "text/html": [
              "<font color = red>Not_duplicate (100%)</font> --> <font color = gray>[SKIPPED]</font><br><font color = bold><font color = underline>Question1</font></font>: \"What does a good answer on Quora look like? What does it mean to \"\"be helpful\"\"?\"\n",
              "<font color = bold><font color = underline>Question2</font></font>: How do you write a good answer on Quora?"
            ],
            "text/plain": [
              "<IPython.core.display.HTML object>"
            ]
          },
          "metadata": {
            "tags": []
          }
        },
        {
          "output_type": "stream",
          "text": [
            "\r[Succeeded / Failed / Total] 3 / 3 / 7:  28%|██▊       | 7/25 [00:20<00:52,  2.92s/it]"
          ],
          "name": "stderr"
        },
        {
          "output_type": "display_data",
          "data": {
            "text/html": [
              "<font color = green>Duplicate (82%)</font> --> <font color = red>Not_duplicate (100%)</font><br><font color = bold><font color = underline>Question1</font></font>: What are the best things to do in Hong Kong?\n",
              "<font color = bold><font color = underline>Question2</font></font>: What is the <font color = green>best</font> thing in Hong Kong?<br><font color = bold><font color = underline>Question1</font></font>: What are the best things to do in Hong Kong?\n",
              "<font color = bold><font color = underline>Question2</font></font>: What is the <font color = red>filmfare</font> thing in Hong Kong?"
            ],
            "text/plain": [
              "<IPython.core.display.HTML object>"
            ]
          },
          "metadata": {
            "tags": []
          }
        },
        {
          "output_type": "stream",
          "text": [
            "[Succeeded / Failed / Total] 4 / 3 / 8:  32%|███▏      | 8/25 [00:20<00:43,  2.57s/it]"
          ],
          "name": "stderr"
        },
        {
          "output_type": "display_data",
          "data": {
            "text/html": [
              "<font color = green>Duplicate (54%)</font> --> <font color = gray>[SKIPPED]</font><br><font color = bold><font color = underline>Question1</font></font>: Why is my life getting so complicated?\n",
              "<font color = bold><font color = underline>Question2</font></font>: Why is my life so complicated?"
            ],
            "text/plain": [
              "<IPython.core.display.HTML object>"
            ]
          },
          "metadata": {
            "tags": []
          }
        },
        {
          "output_type": "stream",
          "text": [
            "\r[Succeeded / Failed / Total] 4 / 3 / 9:  36%|███▌      | 9/25 [00:20<00:36,  2.29s/it]"
          ],
          "name": "stderr"
        },
        {
          "output_type": "display_data",
          "data": {
            "text/html": [
              "<font color = red>Not_duplicate (100%)</font> --> <font color = red>[FAILED]</font><br><font color = bold><font color = underline>Question1</font></font>: Why should I crack Jee?\n",
              "<font color = bold><font color = underline>Question2</font></font>: Is it possible to get into IIMs with low marks in graduation and 12th?"
            ],
            "text/plain": [
              "<IPython.core.display.HTML object>"
            ]
          },
          "metadata": {
            "tags": []
          }
        },
        {
          "output_type": "stream",
          "text": [
            "[Succeeded / Failed / Total] 4 / 4 / 10:  40%|████      | 10/25 [00:21<00:32,  2.16s/it]"
          ],
          "name": "stderr"
        },
        {
          "output_type": "display_data",
          "data": {
            "text/html": [
              "<font color = red>Not_duplicate (100%)</font> --> <font color = red>[FAILED]</font><br><font color = bold><font color = underline>Question1</font></font>: Can you TRANSLATE these to English language?\n",
              "<font color = bold><font color = underline>Question2</font></font>: Can you translate this from Bengali to English language?"
            ],
            "text/plain": [
              "<IPython.core.display.HTML object>"
            ]
          },
          "metadata": {
            "tags": []
          }
        },
        {
          "output_type": "stream",
          "text": [
            "\r[Succeeded / Failed / Total] 4 / 5 / 11:  44%|████▍     | 11/25 [00:21<00:27,  1.99s/it]"
          ],
          "name": "stderr"
        },
        {
          "output_type": "display_data",
          "data": {
            "text/html": [
              "<font color = red>Not_duplicate (100%)</font> --> <font color = red>[FAILED]</font><br><font color = bold><font color = underline>Question1</font></font>: Can anyone tell shall mi mix mobile should be purchased or not?\n",
              "<font color = bold><font color = underline>Question2</font></font>: \"What did Voltaire mean when he said, \"\"God is a comedian playing to an audience that is too afraid to laugh\"\"?\""
            ],
            "text/plain": [
              "<IPython.core.display.HTML object>"
            ]
          },
          "metadata": {
            "tags": []
          }
        },
        {
          "output_type": "stream",
          "text": [
            "[Succeeded / Failed / Total] 4 / 6 / 12:  48%|████▊     | 12/25 [00:31<00:34,  2.63s/it]"
          ],
          "name": "stderr"
        },
        {
          "output_type": "display_data",
          "data": {
            "text/html": [
              "<font color = green>Duplicate (100%)</font> --> <font color = red>Not_duplicate (98%)</font><br><font color = bold><font color = underline>Question1</font></font>: Which is the <font color = green>best</font> gaming laptop under 40k?\n",
              "<font color = bold><font color = underline>Question2</font></font>: Which is the best gaming laptop under 40,000 rs?<br><font color = bold><font color = underline>Question1</font></font>: Which is the <font color = red>filmfare</font> gaming laptop under 40k?\n",
              "<font color = bold><font color = underline>Question2</font></font>: Which is the best gaming laptop under 40,000 rs?"
            ],
            "text/plain": [
              "<IPython.core.display.HTML object>"
            ]
          },
          "metadata": {
            "tags": []
          }
        },
        {
          "output_type": "stream",
          "text": [
            "\r[Succeeded / Failed / Total] 5 / 6 / 13:  52%|█████▏    | 13/25 [00:31<00:29,  2.44s/it]"
          ],
          "name": "stderr"
        },
        {
          "output_type": "display_data",
          "data": {
            "text/html": [
              "<font color = red>Not_duplicate (100%)</font> --> <font color = red>[FAILED]</font><br><font color = bold><font color = underline>Question1</font></font>: Why Tamil Nadu Universities are no good?\n",
              "<font color = bold><font color = underline>Question2</font></font>: Why are the 10th students able to score 100% in Tamil Nadu?"
            ],
            "text/plain": [
              "<IPython.core.display.HTML object>"
            ]
          },
          "metadata": {
            "tags": []
          }
        },
        {
          "output_type": "stream",
          "text": [
            "[Succeeded / Failed / Total] 5 / 7 / 14:  56%|█████▌    | 14/25 [00:32<00:25,  2.30s/it]"
          ],
          "name": "stderr"
        },
        {
          "output_type": "display_data",
          "data": {
            "text/html": [
              "<font color = red>Not_duplicate (100%)</font> --> <font color = red>[FAILED]</font><br><font color = bold><font color = underline>Question1</font></font>: What is an easy way to clean toothpaste stains from a shirt without washing it?\n",
              "<font color = bold><font color = underline>Question2</font></font>: What are some ways to remove hard water stains from dishes?"
            ],
            "text/plain": [
              "<IPython.core.display.HTML object>"
            ]
          },
          "metadata": {
            "tags": []
          }
        },
        {
          "output_type": "stream",
          "text": [
            "\r[Succeeded / Failed / Total] 5 / 8 / 15:  60%|██████    | 15/25 [00:38<00:25,  2.58s/it]"
          ],
          "name": "stderr"
        },
        {
          "output_type": "display_data",
          "data": {
            "text/html": [
              "<font color = green>Duplicate (89%)</font> --> <font color = red>Not_duplicate (100%)</font><br><font color = bold><font color = underline>Question1</font></font>: What was the deadliest battle in history?\n",
              "<font color = bold><font color = underline>Question2</font></font>: What was the bloodiest <font color = green>battle</font> in history?<br><font color = bold><font color = underline>Question1</font></font>: What was the deadliest battle in history?\n",
              "<font color = bold><font color = underline>Question2</font></font>: What was the bloodiest <font color = red>chancellorsville</font> in history?"
            ],
            "text/plain": [
              "<IPython.core.display.HTML object>"
            ]
          },
          "metadata": {
            "tags": []
          }
        },
        {
          "output_type": "stream",
          "text": [
            "[Succeeded / Failed / Total] 6 / 8 / 16:  64%|██████▍   | 16/25 [00:38<00:21,  2.43s/it]"
          ],
          "name": "stderr"
        },
        {
          "output_type": "display_data",
          "data": {
            "text/html": [
              "<font color = green>Duplicate (100%)</font> --> <font color = red>Not_duplicate (76%)</font><br><font color = bold><font color = underline>Question1</font></font>: What are your views about demonetisation in India?\n",
              "<font color = bold><font color = underline>Question2</font></font>: What do you think about the ban on 500 and 1000 <font color = green>denomination</font> notes in India?<br><font color = bold><font color = underline>Question1</font></font>: What are your views about demonetisation in India?\n",
              "<font color = bold><font color = underline>Question2</font></font>: What do you think about the ban on 500 and 1000 <font color = red>mennonite</font> notes in India?"
            ],
            "text/plain": [
              "<IPython.core.display.HTML object>"
            ]
          },
          "metadata": {
            "tags": []
          }
        },
        {
          "output_type": "stream",
          "text": [
            "\r[Succeeded / Failed / Total] 7 / 8 / 17:  68%|██████▊   | 17/25 [00:39<00:18,  2.30s/it]"
          ],
          "name": "stderr"
        },
        {
          "output_type": "display_data",
          "data": {
            "text/html": [
              "<font color = red>Not_duplicate (100%)</font> --> <font color = red>[FAILED]</font><br><font color = bold><font color = underline>Question1</font></font>: What are the difference between polyester 210T and 210D?\n",
              "<font color = bold><font color = underline>Question2</font></font>: What is the difference between cotton and polyester?"
            ],
            "text/plain": [
              "<IPython.core.display.HTML object>"
            ]
          },
          "metadata": {
            "tags": []
          }
        },
        {
          "output_type": "stream",
          "text": [
            "[Succeeded / Failed / Total] 7 / 9 / 18:  72%|███████▏  | 18/25 [00:39<00:15,  2.20s/it]"
          ],
          "name": "stderr"
        },
        {
          "output_type": "display_data",
          "data": {
            "text/html": [
              "<font color = red>Not_duplicate (82%)</font> --> <font color = green>Duplicate (65%)</font><br><font color = bold><font color = underline>Question1</font></font>: Is FMS Delhi a good option for a MBA <font color = red>executive</font> program?\n",
              "<font color = bold><font color = underline>Question2</font></font>: Is FMS a good choice for an MBA in HR? Why and why not?<br><font color = bold><font color = underline>Question1</font></font>: Is FMS Delhi a good option for a MBA <font color = green>legislative</font> program?\n",
              "<font color = bold><font color = underline>Question2</font></font>: Is FMS a good choice for an MBA in HR? Why and why not?"
            ],
            "text/plain": [
              "<IPython.core.display.HTML object>"
            ]
          },
          "metadata": {
            "tags": []
          }
        },
        {
          "output_type": "stream",
          "text": [
            "\r[Succeeded / Failed / Total] 8 / 9 / 19:  76%|███████▌  | 19/25 [00:39<00:12,  2.10s/it]"
          ],
          "name": "stderr"
        },
        {
          "output_type": "display_data",
          "data": {
            "text/html": [
              "<font color = red>Not_duplicate (63%)</font> --> <font color = gray>[SKIPPED]</font><br><font color = bold><font color = underline>Question1</font></font>: Is it a bad time to buy a condo or a house in the Bay Area in 2017?\n",
              "<font color = bold><font color = underline>Question2</font></font>: Would 2017 be a good time to buy a house in Bay Area?"
            ],
            "text/plain": [
              "<IPython.core.display.HTML object>"
            ]
          },
          "metadata": {
            "tags": []
          }
        },
        {
          "output_type": "stream",
          "text": [
            "[Succeeded / Failed / Total] 8 / 9 / 20:  80%|████████  | 20/25 [00:39<00:09,  1.99s/it]"
          ],
          "name": "stderr"
        },
        {
          "output_type": "display_data",
          "data": {
            "text/html": [
              "<font color = red>Not_duplicate (100%)</font> --> <font color = red>[FAILED]</font><br><font color = bold><font color = underline>Question1</font></font>: How is vanilla extract made?\n",
              "<font color = bold><font color = underline>Question2</font></font>: How do you make sugar cookies without vanilla extract?"
            ],
            "text/plain": [
              "<IPython.core.display.HTML object>"
            ]
          },
          "metadata": {
            "tags": []
          }
        },
        {
          "output_type": "stream",
          "text": [
            "\r[Succeeded / Failed / Total] 8 / 10 / 21:  84%|████████▍ | 21/25 [00:45<00:08,  2.16s/it]"
          ],
          "name": "stderr"
        },
        {
          "output_type": "display_data",
          "data": {
            "text/html": [
              "<font color = green>Duplicate (100%)</font> --> <font color = red>Not_duplicate (80%)</font><br><font color = bold><font color = underline>Question1</font></font>: What is the Sahara, and how do the average <font color = green>temperatures</font> there compare to the <font color = green>ones</font> in the Patagonian Desert?\n",
              "<font color = bold><font color = underline>Question2</font></font>: What is the Sahara, and how do the average <font color = green>temperatures</font> there compare to the ones in the Registan Desert?<br><font color = bold><font color = underline>Question1</font></font>: What is the Sahara, and how do the average <font color = red>temperature</font> there compare to the <font color = red>embellishments</font> in the Patagonian Desert?\n",
              "<font color = bold><font color = underline>Question2</font></font>: What is the Sahara, and how do the average <font color = red>temperature</font> there compare to the ones in the Registan Desert?"
            ],
            "text/plain": [
              "<IPython.core.display.HTML object>"
            ]
          },
          "metadata": {
            "tags": []
          }
        },
        {
          "output_type": "stream",
          "text": [
            "[Succeeded / Failed / Total] 9 / 10 / 22:  88%|████████▊ | 22/25 [00:46<00:06,  2.10s/it]"
          ],
          "name": "stderr"
        },
        {
          "output_type": "display_data",
          "data": {
            "text/html": [
              "<font color = red>Not_duplicate (100%)</font> --> <font color = red>[FAILED]</font><br><font color = bold><font color = underline>Question1</font></font>: Why was the Roman Empire so successful?\n",
              "<font color = bold><font color = underline>Question2</font></font>: What are some of the rarely known facts about the Roman Empire?"
            ],
            "text/plain": [
              "<IPython.core.display.HTML object>"
            ]
          },
          "metadata": {
            "tags": []
          }
        },
        {
          "output_type": "stream",
          "text": [
            "\r[Succeeded / Failed / Total] 9 / 11 / 23:  92%|█████████▏| 23/25 [00:46<00:04,  2.04s/it]"
          ],
          "name": "stderr"
        },
        {
          "output_type": "display_data",
          "data": {
            "text/html": [
              "<font color = red>Not_duplicate (100%)</font> --> <font color = red>[FAILED]</font><br><font color = bold><font color = underline>Question1</font></font>: Is it advisable to sent your cv to a professor with whom you are trying to make contact for graduate admission?\n",
              "<font color = bold><font color = underline>Question2</font></font>: How does contacting a professor before applying factor into graduate admissions?"
            ],
            "text/plain": [
              "<IPython.core.display.HTML object>"
            ]
          },
          "metadata": {
            "tags": []
          }
        },
        {
          "output_type": "stream",
          "text": [
            "[Succeeded / Failed / Total] 9 / 12 / 24:  96%|█████████▌| 24/25 [00:54<00:02,  2.28s/it]"
          ],
          "name": "stderr"
        },
        {
          "output_type": "display_data",
          "data": {
            "text/html": [
              "<font color = red>Not_duplicate (100%)</font> --> <font color = red>[FAILED]</font><br><font color = bold><font color = underline>Question1</font></font>: Does a RainTPL syntax extension for Sublime Text exist? Where can I download it?\n",
              "<font color = bold><font color = underline>Question2</font></font>: How do I hide the find/replace bar in Sublime Text 2?"
            ],
            "text/plain": [
              "<IPython.core.display.HTML object>"
            ]
          },
          "metadata": {
            "tags": []
          }
        },
        {
          "output_type": "stream",
          "text": [
            "\r[Succeeded / Failed / Total] 9 / 13 / 25: 100%|██████████| 25/25 [00:57<00:00,  2.28s/it]"
          ],
          "name": "stderr"
        },
        {
          "output_type": "display_data",
          "data": {
            "text/html": [
              "<font color = red>Not_duplicate (99%)</font> --> <font color = green>Duplicate (89%)</font><br><font color = bold><font color = underline>Question1</font></font>: What is the <font color = red>average</font> <font color = red>salary</font> of a microbiologist in India?\n",
              "<font color = bold><font color = underline>Question2</font></font>: What is the <font color = red>salary</font> for a psychologist in india?<br><font color = bold><font color = underline>Question1</font></font>: What is the <font color = green>totals</font> <font color = green>eitc</font> of a microbiologist in India?\n",
              "<font color = bold><font color = underline>Question2</font></font>: What is the <font color = green>eitc</font> for a psychologist in india?"
            ],
            "text/plain": [
              "<IPython.core.display.HTML object>"
            ]
          },
          "metadata": {
            "tags": []
          }
        },
        {
          "output_type": "stream",
          "text": [
            "[Succeeded / Failed / Total] 10 / 13 / 26: : 26it [00:57,  2.22s/it]"
          ],
          "name": "stderr"
        },
        {
          "output_type": "display_data",
          "data": {
            "text/html": [
              "<font color = red>Not_duplicate (100%)</font> --> <font color = red>[FAILED]</font><br><font color = bold><font color = underline>Question1</font></font>: How do you close a Bank of America account?\n",
              "<font color = bold><font color = underline>Question2</font></font>: How can one close a bank account online?"
            ],
            "text/plain": [
              "<IPython.core.display.HTML object>"
            ]
          },
          "metadata": {
            "tags": []
          }
        },
        {
          "output_type": "stream",
          "text": [
            "\r[Succeeded / Failed / Total] 10 / 14 / 27: : 27it [01:00,  2.24s/it]"
          ],
          "name": "stderr"
        },
        {
          "output_type": "display_data",
          "data": {
            "text/html": [
              "<font color = red>Not_duplicate (71%)</font> --> <font color = green>Duplicate (63%)</font><br><font color = bold><font color = underline>Question1</font></font>: How can I create the most popular question on Quora?\n",
              "<font color = bold><font color = underline>Question2</font></font>: Which are the most popular questions on Quora presently that <font color = red>also</font> create the most discussions?<br><font color = bold><font color = underline>Question1</font></font>: How can I create the most popular question on Quora?\n",
              "<font color = bold><font color = underline>Question2</font></font>: Which are the most popular questions on Quora presently that <font color = green>which</font> create the most discussions?"
            ],
            "text/plain": [
              "<IPython.core.display.HTML object>"
            ]
          },
          "metadata": {
            "tags": []
          }
        },
        {
          "output_type": "stream",
          "text": [
            "[Succeeded / Failed / Total] 11 / 14 / 28: : 28it [01:00,  2.17s/it]"
          ],
          "name": "stderr"
        },
        {
          "output_type": "stream",
          "text": [
            "+-------------------------------+--------+\n",
            "| Attack Results                |        |\n",
            "+-------------------------------+--------+\n",
            "| Number of successful attacks: | 11     |\n",
            "| Number of failed attacks:     | 14     |\n",
            "| Number of skipped attacks:    | 3      |\n",
            "| Original accuracy:            | 89.29% |\n",
            "| Accuracy under attack:        | 50.0%  |\n",
            "| Attack success rate:          | 44.0%  |\n",
            "| Average perturbed word %:     | 6.22%  |\n",
            "| Average num. words per input: | 22.39  |\n",
            "| Avg num queries:              | 192.04 |\n",
            "+-------------------------------+--------+"
          ],
          "name": "stdout"
        },
        {
          "output_type": "stream",
          "text": [
            "\n",
            "\u001b[34;1mtextattack\u001b[0m: Attack time: 60.694385290145874s\n"
          ],
          "name": "stderr"
        }
      ]
    },
    {
      "cell_type": "code",
      "metadata": {
        "colab": {
          "base_uri": "https://localhost:8080/"
        },
        "id": "F-sjXP8rPBE9",
        "outputId": "f1fa7e78-0111-46f3-c814-4a5ab1f4f11d"
      },
      "source": [
        "from textattack.search_methods import ParticleSwarmOptimization\n",
        "from textattack.constraints.pre_transformation import RepeatModification, StopwordModification\n",
        "from textattack.shared import Attack\n",
        "from textattack.goal_functions import UntargetedClassification\n",
        "from textattack.datasets import HuggingFaceDataset\n",
        "\n",
        "# We're going to use our word swap class as the attack transformation.\n",
        "transformation = Swapper__()\n",
        "\n",
        "constraints = [RepeatModification(),\n",
        "               StopwordModification()]\n",
        "\n",
        "search_method = ParticleSwarmOptimization(pop_size=10,max_iters=5,post_turn_check=True)\n",
        "\n",
        "goal_function = UntargetedClassification(model_wrapper)\n",
        "\n",
        "# Now, let's make the attack from the 4 components:\n",
        "attack = Attack(goal_function, constraints, transformation, search_method)\n",
        "\n",
        "dataset = HuggingFaceDataset(\"glue\", \"qqp\", \"validation\") # Change the dataset"
      ],
      "execution_count": 39,
      "outputs": [
        {
          "output_type": "stream",
          "text": [
            "\u001b[34;1mtextattack\u001b[0m: Unknown if model of class <class 'transformers.models.albert.modeling_albert.AlbertForSequenceClassification'> compatible with goal function <class 'textattack.goal_functions.classification.untargeted_classification.UntargetedClassification'>.\n",
            "Reusing dataset glue (/root/.cache/huggingface/datasets/glue/qqp/1.0.0/dacbe3125aa31d7f70367a07a8a9e72a5a0bfeb5fc42e75c9db75b96da6053ad)\n",
            "\u001b[34;1mtextattack\u001b[0m: Loading \u001b[94mdatasets\u001b[0m dataset \u001b[94mglue\u001b[0m, subset \u001b[94mqqp\u001b[0m, split \u001b[94mvalidation\u001b[0m.\n"
          ],
          "name": "stderr"
        }
      ]
    },
    {
      "cell_type": "code",
      "metadata": {
        "colab": {
          "base_uri": "https://localhost:8080/"
        },
        "id": "8201a0SkPEc4",
        "outputId": "f0e63013-3f74-45ba-97bd-bed9bd0139b0"
      },
      "source": [
        "print(attack)"
      ],
      "execution_count": 40,
      "outputs": [
        {
          "output_type": "stream",
          "text": [
            "Attack(\n",
            "  (search_method): ParticleSwarmOptimization(\n",
            "    (pop_size):  10\n",
            "    (max_iters):  5\n",
            "    (post_turn_check):  True\n",
            "    (max_turn_retries):  20\n",
            "  )\n",
            "  (goal_function):  UntargetedClassification\n",
            "  (transformation):  Swapper__\n",
            "  (constraints): \n",
            "    (0): RepeatModification\n",
            "    (1): StopwordModification\n",
            "  (is_black_box):  True\n",
            ")\n"
          ],
          "name": "stdout"
        }
      ]
    },
    {
      "cell_type": "code",
      "metadata": {
        "colab": {
          "base_uri": "https://localhost:8080/",
          "height": 1000
        },
        "id": "EVzPBCjRPGR9",
        "outputId": "dfad6d6f-6af0-46cf-d605-8c666fd060b6"
      },
      "source": [
        "printexample(attack)"
      ],
      "execution_count": 41,
      "outputs": [
        {
          "output_type": "stream",
          "text": [
            "\r  0%|          | 0/25 [00:00<?, ?it/s]"
          ],
          "name": "stderr"
        },
        {
          "output_type": "stream",
          "text": [
            "Attack(\n",
            "  (search_method): ParticleSwarmOptimization(\n",
            "    (pop_size):  10\n",
            "    (max_iters):  5\n",
            "    (post_turn_check):  True\n",
            "    (max_turn_retries):  20\n",
            "  )\n",
            "  (goal_function):  UntargetedClassification\n",
            "  (transformation):  Swapper__\n",
            "  (constraints): \n",
            "    (0): RepeatModification\n",
            "    (1): StopwordModification\n",
            "  (is_black_box):  True\n",
            ")\n"
          ],
          "name": "stdout"
        },
        {
          "output_type": "display_data",
          "data": {
            "text/html": [
              "<font color = red>Not_duplicate (89%)</font> --> <font color = red>[FAILED]</font><br><font color = bold><font color = underline>Question1</font></font>: Why are African-Americans so beautiful?\n",
              "<font color = bold><font color = underline>Question2</font></font>: Why are hispanics so beautiful?"
            ],
            "text/plain": [
              "<IPython.core.display.HTML object>"
            ]
          },
          "metadata": {
            "tags": []
          }
        },
        {
          "output_type": "stream",
          "text": [
            "[Succeeded / Failed / Total] 0 / 1 / 1:   4%|▍         | 1/25 [00:00<00:17,  1.37it/s]"
          ],
          "name": "stderr"
        },
        {
          "output_type": "display_data",
          "data": {
            "text/html": [
              "<font color = red>Not_duplicate (100%)</font> --> <font color = red>[FAILED]</font><br><font color = bold><font color = underline>Question1</font></font>: I want to pursue PhD in Computer Science about social network,what is the open problem in social networks?\n",
              "<font color = bold><font color = underline>Question2</font></font>: I handle social media for a non-profit. Should I start going to social media networking events? Are there any good ones in the bay area?"
            ],
            "text/plain": [
              "<IPython.core.display.HTML object>"
            ]
          },
          "metadata": {
            "tags": []
          }
        },
        {
          "output_type": "stream",
          "text": [
            "[Succeeded / Failed / Total] 0 / 2 / 2:   8%|▊         | 2/25 [00:29<05:44, 14.96s/it]"
          ],
          "name": "stderr"
        },
        {
          "output_type": "display_data",
          "data": {
            "text/html": [
              "<font color = green>Duplicate (97%)</font> --> <font color = red>Not_duplicate (100%)</font><br><font color = bold><font color = underline>Question1</font></font>: Is there a reason why we should <font color = green>travel</font> alone?\n",
              "<font color = bold><font color = underline>Question2</font></font>: What are some reasons to travel alone?<br><font color = bold><font color = underline>Question1</font></font>: Is there a reason why we should <font color = red>interstellar</font> alone?\n",
              "<font color = bold><font color = underline>Question2</font></font>: What are some reasons to travel alone?"
            ],
            "text/plain": [
              "<IPython.core.display.HTML object>"
            ]
          },
          "metadata": {
            "tags": []
          }
        },
        {
          "output_type": "stream",
          "text": [
            "[Succeeded / Failed / Total] 1 / 2 / 3:  12%|█▏        | 3/25 [00:30<03:41, 10.07s/it]"
          ],
          "name": "stderr"
        },
        {
          "output_type": "display_data",
          "data": {
            "text/html": [
              "<font color = red>Not_duplicate (100%)</font> --> <font color = red>[FAILED]</font><br><font color = bold><font color = underline>Question1</font></font>: Why are people so obsessed with having a girlfriend/boyfriend?\n",
              "<font color = bold><font color = underline>Question2</font></font>: How can a single male have a child?"
            ],
            "text/plain": [
              "<IPython.core.display.HTML object>"
            ]
          },
          "metadata": {
            "tags": []
          }
        },
        {
          "output_type": "stream",
          "text": [
            "[Succeeded / Failed / Total] 1 / 3 / 4:  16%|█▌        | 4/25 [00:33<02:58,  8.48s/it]"
          ],
          "name": "stderr"
        },
        {
          "output_type": "display_data",
          "data": {
            "text/html": [
              "<font color = red>Not_duplicate (81%)</font> --> <font color = green>Duplicate (85%)</font><br><font color = bold><font color = underline>Question1</font></font>: What are some good <font color = red>baby</font> girl names starting with D?\n",
              "<font color = bold><font color = underline>Question2</font></font>: What are some good baby girl names starting with D or H?<br><font color = bold><font color = underline>Question1</font></font>: What are some good <font color = green>dear</font> girl names starting with D?\n",
              "<font color = bold><font color = underline>Question2</font></font>: What are some good baby girl names starting with D or H?"
            ],
            "text/plain": [
              "<IPython.core.display.HTML object>"
            ]
          },
          "metadata": {
            "tags": []
          }
        },
        {
          "output_type": "stream",
          "text": [
            "[Succeeded / Failed / Total] 2 / 3 / 5:  20%|██        | 5/25 [00:34<02:17,  6.87s/it]"
          ],
          "name": "stderr"
        },
        {
          "output_type": "display_data",
          "data": {
            "text/html": [
              "<font color = green>Duplicate (96%)</font> --> <font color = red>Not_duplicate (55%)</font><br><font color = bold><font color = underline>Question1</font></font>: I am 25 year <font color = green>old</font> guy and never had a girlfriend. Is this weird?\n",
              "<font color = bold><font color = underline>Question2</font></font>: I am 25 years old. I have never had a girlfriend. Is something wrong with me?<br><font color = bold><font color = underline>Question1</font></font>: I am 25 year <font color = red>devonien</font> guy and never had a girlfriend. Is this weird?\n",
              "<font color = bold><font color = underline>Question2</font></font>: I am 25 years old. I have never had a girlfriend. Is something wrong with me?"
            ],
            "text/plain": [
              "<IPython.core.display.HTML object>"
            ]
          },
          "metadata": {
            "tags": []
          }
        },
        {
          "output_type": "stream",
          "text": [
            "[Succeeded / Failed / Total] 3 / 3 / 6:  24%|██▍       | 6/25 [00:34<01:50,  5.82s/it]"
          ],
          "name": "stderr"
        },
        {
          "output_type": "display_data",
          "data": {
            "text/html": [
              "<font color = red>Not_duplicate (100%)</font> --> <font color = gray>[SKIPPED]</font><br><font color = bold><font color = underline>Question1</font></font>: \"What does a good answer on Quora look like? What does it mean to \"\"be helpful\"\"?\"\n",
              "<font color = bold><font color = underline>Question2</font></font>: How do you write a good answer on Quora?"
            ],
            "text/plain": [
              "<IPython.core.display.HTML object>"
            ]
          },
          "metadata": {
            "tags": []
          }
        },
        {
          "output_type": "stream",
          "text": [
            "\r[Succeeded / Failed / Total] 3 / 3 / 7:  28%|██▊       | 7/25 [00:34<01:29,  4.99s/it]"
          ],
          "name": "stderr"
        },
        {
          "output_type": "display_data",
          "data": {
            "text/html": [
              "<font color = green>Duplicate (82%)</font> --> <font color = red>Not_duplicate (100%)</font><br><font color = bold><font color = underline>Question1</font></font>: What are the <font color = green>best</font> things to do in Hong Kong?\n",
              "<font color = bold><font color = underline>Question2</font></font>: What is the best thing in Hong Kong?<br><font color = bold><font color = underline>Question1</font></font>: What are the <font color = red>rnb</font> things to do in Hong Kong?\n",
              "<font color = bold><font color = underline>Question2</font></font>: What is the best thing in Hong Kong?"
            ],
            "text/plain": [
              "<IPython.core.display.HTML object>"
            ]
          },
          "metadata": {
            "tags": []
          }
        },
        {
          "output_type": "stream",
          "text": [
            "[Succeeded / Failed / Total] 4 / 3 / 8:  32%|███▏      | 8/25 [00:35<01:14,  4.39s/it]"
          ],
          "name": "stderr"
        },
        {
          "output_type": "display_data",
          "data": {
            "text/html": [
              "<font color = green>Duplicate (54%)</font> --> <font color = gray>[SKIPPED]</font><br><font color = bold><font color = underline>Question1</font></font>: Why is my life getting so complicated?\n",
              "<font color = bold><font color = underline>Question2</font></font>: Why is my life so complicated?"
            ],
            "text/plain": [
              "<IPython.core.display.HTML object>"
            ]
          },
          "metadata": {
            "tags": []
          }
        },
        {
          "output_type": "stream",
          "text": [
            "\r[Succeeded / Failed / Total] 4 / 3 / 9:  36%|███▌      | 9/25 [00:35<01:02,  3.91s/it]"
          ],
          "name": "stderr"
        },
        {
          "output_type": "display_data",
          "data": {
            "text/html": [
              "<font color = red>Not_duplicate (100%)</font> --> <font color = red>[FAILED]</font><br><font color = bold><font color = underline>Question1</font></font>: Why should I crack Jee?\n",
              "<font color = bold><font color = underline>Question2</font></font>: Is it possible to get into IIMs with low marks in graduation and 12th?"
            ],
            "text/plain": [
              "<IPython.core.display.HTML object>"
            ]
          },
          "metadata": {
            "tags": []
          }
        },
        {
          "output_type": "stream",
          "text": [
            "[Succeeded / Failed / Total] 4 / 4 / 10:  40%|████      | 10/25 [00:39<00:58,  3.90s/it]"
          ],
          "name": "stderr"
        },
        {
          "output_type": "display_data",
          "data": {
            "text/html": [
              "<font color = red>Not_duplicate (100%)</font> --> <font color = red>[FAILED]</font><br><font color = bold><font color = underline>Question1</font></font>: Can you TRANSLATE these to English language?\n",
              "<font color = bold><font color = underline>Question2</font></font>: Can you translate this from Bengali to English language?"
            ],
            "text/plain": [
              "<IPython.core.display.HTML object>"
            ]
          },
          "metadata": {
            "tags": []
          }
        },
        {
          "output_type": "stream",
          "text": [
            "\r[Succeeded / Failed / Total] 4 / 5 / 11:  44%|████▍     | 11/25 [00:39<00:50,  3.59s/it]"
          ],
          "name": "stderr"
        },
        {
          "output_type": "display_data",
          "data": {
            "text/html": [
              "<font color = red>Not_duplicate (100%)</font> --> <font color = red>[FAILED]</font><br><font color = bold><font color = underline>Question1</font></font>: Can anyone tell shall mi mix mobile should be purchased or not?\n",
              "<font color = bold><font color = underline>Question2</font></font>: \"What did Voltaire mean when he said, \"\"God is a comedian playing to an audience that is too afraid to laugh\"\"?\""
            ],
            "text/plain": [
              "<IPython.core.display.HTML object>"
            ]
          },
          "metadata": {
            "tags": []
          }
        },
        {
          "output_type": "stream",
          "text": [
            "[Succeeded / Failed / Total] 4 / 6 / 12:  48%|████▊     | 12/25 [00:53<00:58,  4.48s/it]"
          ],
          "name": "stderr"
        },
        {
          "output_type": "display_data",
          "data": {
            "text/html": [
              "<font color = green>Duplicate (100%)</font> --> <font color = red>Not_duplicate (100%)</font><br><font color = bold><font color = underline>Question1</font></font>: Which is the <font color = green>best</font> gaming laptop under 40k?\n",
              "<font color = bold><font color = underline>Question2</font></font>: Which is the best <font color = green>gaming</font> <font color = green>laptop</font> under 40,000 <font color = green>rs</font>?<br><font color = bold><font color = underline>Question1</font></font>: Which is the <font color = red>rnb</font> gaming laptop under 40k?\n",
              "<font color = bold><font color = underline>Question2</font></font>: Which is the best <font color = red>multiplayer</font> <font color = red>confetti</font> under 40,000 <font color = red>stm</font>?"
            ],
            "text/plain": [
              "<IPython.core.display.HTML object>"
            ]
          },
          "metadata": {
            "tags": []
          }
        },
        {
          "output_type": "stream",
          "text": [
            "[Succeeded / Failed / Total] 5 / 6 / 13:  52%|█████▏    | 13/25 [00:55<00:51,  4.27s/it]"
          ],
          "name": "stderr"
        },
        {
          "output_type": "display_data",
          "data": {
            "text/html": [
              "<font color = red>Not_duplicate (100%)</font> --> <font color = red>[FAILED]</font><br><font color = bold><font color = underline>Question1</font></font>: Why Tamil Nadu Universities are no good?\n",
              "<font color = bold><font color = underline>Question2</font></font>: Why are the 10th students able to score 100% in Tamil Nadu?"
            ],
            "text/plain": [
              "<IPython.core.display.HTML object>"
            ]
          },
          "metadata": {
            "tags": []
          }
        },
        {
          "output_type": "stream",
          "text": [
            "[Succeeded / Failed / Total] 5 / 7 / 14:  56%|█████▌    | 14/25 [00:56<00:44,  4.06s/it]"
          ],
          "name": "stderr"
        },
        {
          "output_type": "display_data",
          "data": {
            "text/html": [
              "<font color = red>Not_duplicate (100%)</font> --> <font color = red>[FAILED]</font><br><font color = bold><font color = underline>Question1</font></font>: What is an easy way to clean toothpaste stains from a shirt without washing it?\n",
              "<font color = bold><font color = underline>Question2</font></font>: What are some ways to remove hard water stains from dishes?"
            ],
            "text/plain": [
              "<IPython.core.display.HTML object>"
            ]
          },
          "metadata": {
            "tags": []
          }
        },
        {
          "output_type": "stream",
          "text": [
            "[Succeeded / Failed / Total] 5 / 8 / 15:  60%|██████    | 15/25 [01:08<00:45,  4.56s/it]"
          ],
          "name": "stderr"
        },
        {
          "output_type": "display_data",
          "data": {
            "text/html": [
              "<font color = green>Duplicate (89%)</font> --> <font color = red>Not_duplicate (100%)</font><br><font color = bold><font color = underline>Question1</font></font>: What was the deadliest <font color = green>battle</font> in history?\n",
              "<font color = bold><font color = underline>Question2</font></font>: What was the bloodiest battle in history?<br><font color = bold><font color = underline>Question1</font></font>: What was the deadliest <font color = red>agincourt</font> in history?\n",
              "<font color = bold><font color = underline>Question2</font></font>: What was the bloodiest battle in history?"
            ],
            "text/plain": [
              "<IPython.core.display.HTML object>"
            ]
          },
          "metadata": {
            "tags": []
          }
        },
        {
          "output_type": "stream",
          "text": [
            "[Succeeded / Failed / Total] 6 / 8 / 16:  64%|██████▍   | 16/25 [01:08<00:38,  4.30s/it]"
          ],
          "name": "stderr"
        },
        {
          "output_type": "display_data",
          "data": {
            "text/html": [
              "<font color = green>Duplicate (100%)</font> --> <font color = red>Not_duplicate (57%)</font><br><font color = bold><font color = underline>Question1</font></font>: What are your views about demonetisation in India?\n",
              "<font color = bold><font color = underline>Question2</font></font>: What do you think about the <font color = green>ban</font> on 500 and 1000 denomination notes in India?<br><font color = bold><font color = underline>Question1</font></font>: What are your views about demonetisation in India?\n",
              "<font color = bold><font color = underline>Question2</font></font>: What do you think about the <font color = red>ozone</font> on 500 and 1000 denomination notes in India?"
            ],
            "text/plain": [
              "<IPython.core.display.HTML object>"
            ]
          },
          "metadata": {
            "tags": []
          }
        },
        {
          "output_type": "stream",
          "text": [
            "[Succeeded / Failed / Total] 7 / 8 / 17:  68%|██████▊   | 17/25 [01:08<00:32,  4.06s/it]"
          ],
          "name": "stderr"
        },
        {
          "output_type": "display_data",
          "data": {
            "text/html": [
              "<font color = red>Not_duplicate (100%)</font> --> <font color = red>[FAILED]</font><br><font color = bold><font color = underline>Question1</font></font>: What are the difference between polyester 210T and 210D?\n",
              "<font color = bold><font color = underline>Question2</font></font>: What is the difference between cotton and polyester?"
            ],
            "text/plain": [
              "<IPython.core.display.HTML object>"
            ]
          },
          "metadata": {
            "tags": []
          }
        },
        {
          "output_type": "stream",
          "text": [
            "[Succeeded / Failed / Total] 7 / 9 / 18:  72%|███████▏  | 18/25 [01:11<00:27,  3.96s/it]"
          ],
          "name": "stderr"
        },
        {
          "output_type": "display_data",
          "data": {
            "text/html": [
              "<font color = red>Not_duplicate (82%)</font> --> <font color = green>Duplicate (72%)</font><br><font color = bold><font color = underline>Question1</font></font>: Is FMS Delhi a <font color = red>good</font> option for a MBA <font color = red>executive</font> program?\n",
              "<font color = bold><font color = underline>Question2</font></font>: Is FMS a <font color = red>good</font> <font color = red>choice</font> for an MBA in HR? Why and why not?<br><font color = bold><font color = underline>Question1</font></font>: Is FMS Delhi a <font color = green>benimens</font> option for a MBA <font color = green>eberts</font> program?\n",
              "<font color = bold><font color = underline>Question2</font></font>: Is FMS a <font color = green>benimens</font> <font color = green>uhijini</font> for an MBA in HR? Why and why not?"
            ],
            "text/plain": [
              "<IPython.core.display.HTML object>"
            ]
          },
          "metadata": {
            "tags": []
          }
        },
        {
          "output_type": "stream",
          "text": [
            "[Succeeded / Failed / Total] 8 / 9 / 19:  76%|███████▌  | 19/25 [01:13<00:23,  3.84s/it]"
          ],
          "name": "stderr"
        },
        {
          "output_type": "display_data",
          "data": {
            "text/html": [
              "<font color = red>Not_duplicate (63%)</font> --> <font color = gray>[SKIPPED]</font><br><font color = bold><font color = underline>Question1</font></font>: Is it a bad time to buy a condo or a house in the Bay Area in 2017?\n",
              "<font color = bold><font color = underline>Question2</font></font>: Would 2017 be a good time to buy a house in Bay Area?"
            ],
            "text/plain": [
              "<IPython.core.display.HTML object>"
            ]
          },
          "metadata": {
            "tags": []
          }
        },
        {
          "output_type": "stream",
          "text": [
            "\r[Succeeded / Failed / Total] 8 / 9 / 20:  80%|████████  | 20/25 [01:13<00:18,  3.65s/it]"
          ],
          "name": "stderr"
        },
        {
          "output_type": "display_data",
          "data": {
            "text/html": [
              "<font color = red>Not_duplicate (100%)</font> --> <font color = red>[FAILED]</font><br><font color = bold><font color = underline>Question1</font></font>: How is vanilla extract made?\n",
              "<font color = bold><font color = underline>Question2</font></font>: How do you make sugar cookies without vanilla extract?"
            ],
            "text/plain": [
              "<IPython.core.display.HTML object>"
            ]
          },
          "metadata": {
            "tags": []
          }
        },
        {
          "output_type": "stream",
          "text": [
            "[Succeeded / Failed / Total] 8 / 10 / 21:  84%|████████▍ | 21/25 [01:19<00:15,  3.79s/it]"
          ],
          "name": "stderr"
        },
        {
          "output_type": "display_data",
          "data": {
            "text/html": [
              "<font color = green>Duplicate (100%)</font> --> <font color = red>Not_duplicate (98%)</font><br><font color = bold><font color = underline>Question1</font></font>: What is the Sahara, and how do the average temperatures there compare to the ones in the Patagonian Desert?\n",
              "<font color = bold><font color = underline>Question2</font></font>: What is the Sahara, and how do the average <font color = green>temperatures</font> there compare to the ones in the Registan Desert?<br><font color = bold><font color = underline>Question1</font></font>: What is the Sahara, and how do the average temperatures there compare to the ones in the Patagonian Desert?\n",
              "<font color = bold><font color = underline>Question2</font></font>: What is the Sahara, and how do the average <font color = red>pressures</font> there compare to the ones in the Registan Desert?"
            ],
            "text/plain": [
              "<IPython.core.display.HTML object>"
            ]
          },
          "metadata": {
            "tags": []
          }
        },
        {
          "output_type": "stream",
          "text": [
            "\r[Succeeded / Failed / Total] 9 / 10 / 22:  88%|████████▊ | 22/25 [01:20<00:10,  3.64s/it]"
          ],
          "name": "stderr"
        },
        {
          "output_type": "display_data",
          "data": {
            "text/html": [
              "<font color = red>Not_duplicate (100%)</font> --> <font color = red>[FAILED]</font><br><font color = bold><font color = underline>Question1</font></font>: Why was the Roman Empire so successful?\n",
              "<font color = bold><font color = underline>Question2</font></font>: What are some of the rarely known facts about the Roman Empire?"
            ],
            "text/plain": [
              "<IPython.core.display.HTML object>"
            ]
          },
          "metadata": {
            "tags": []
          }
        },
        {
          "output_type": "stream",
          "text": [
            "[Succeeded / Failed / Total] 9 / 11 / 23:  92%|█████████▏| 23/25 [01:20<00:07,  3.51s/it]"
          ],
          "name": "stderr"
        },
        {
          "output_type": "display_data",
          "data": {
            "text/html": [
              "<font color = red>Not_duplicate (100%)</font> --> <font color = red>[FAILED]</font><br><font color = bold><font color = underline>Question1</font></font>: Is it advisable to sent your cv to a professor with whom you are trying to make contact for graduate admission?\n",
              "<font color = bold><font color = underline>Question2</font></font>: How does contacting a professor before applying factor into graduate admissions?"
            ],
            "text/plain": [
              "<IPython.core.display.HTML object>"
            ]
          },
          "metadata": {
            "tags": []
          }
        },
        {
          "output_type": "stream",
          "text": [
            "\r[Succeeded / Failed / Total] 9 / 12 / 24:  96%|█████████▌| 24/25 [01:33<00:03,  3.91s/it]"
          ],
          "name": "stderr"
        },
        {
          "output_type": "display_data",
          "data": {
            "text/html": [
              "<font color = red>Not_duplicate (100%)</font> --> <font color = red>[FAILED]</font><br><font color = bold><font color = underline>Question1</font></font>: Does a RainTPL syntax extension for Sublime Text exist? Where can I download it?\n",
              "<font color = bold><font color = underline>Question2</font></font>: How do I hide the find/replace bar in Sublime Text 2?"
            ],
            "text/plain": [
              "<IPython.core.display.HTML object>"
            ]
          },
          "metadata": {
            "tags": []
          }
        },
        {
          "output_type": "stream",
          "text": [
            "[Succeeded / Failed / Total] 9 / 13 / 25: 100%|██████████| 25/25 [01:36<00:00,  3.87s/it]"
          ],
          "name": "stderr"
        },
        {
          "output_type": "display_data",
          "data": {
            "text/html": [
              "<font color = red>Not_duplicate (99%)</font> --> <font color = green>Duplicate (51%)</font><br><font color = bold><font color = underline>Question1</font></font>: What is the average salary of a microbiologist in India?\n",
              "<font color = bold><font color = underline>Question2</font></font>: What is the salary for a <font color = red>psychologist</font> in india?<br><font color = bold><font color = underline>Question1</font></font>: What is the average salary of a microbiologist in India?\n",
              "<font color = bold><font color = underline>Question2</font></font>: What is the salary for a <font color = green>zoologist</font> in india?"
            ],
            "text/plain": [
              "<IPython.core.display.HTML object>"
            ]
          },
          "metadata": {
            "tags": []
          }
        },
        {
          "output_type": "stream",
          "text": [
            "[Succeeded / Failed / Total] 10 / 13 / 26: : 26it [01:37,  3.74s/it]"
          ],
          "name": "stderr"
        },
        {
          "output_type": "display_data",
          "data": {
            "text/html": [
              "<font color = red>Not_duplicate (100%)</font> --> <font color = red>[FAILED]</font><br><font color = bold><font color = underline>Question1</font></font>: How do you close a Bank of America account?\n",
              "<font color = bold><font color = underline>Question2</font></font>: How can one close a bank account online?"
            ],
            "text/plain": [
              "<IPython.core.display.HTML object>"
            ]
          },
          "metadata": {
            "tags": []
          }
        },
        {
          "output_type": "stream",
          "text": [
            "[Succeeded / Failed / Total] 10 / 14 / 27: : 27it [01:39,  3.67s/it]"
          ],
          "name": "stderr"
        },
        {
          "output_type": "display_data",
          "data": {
            "text/html": [
              "<font color = red>Not_duplicate (71%)</font> --> <font color = green>Duplicate (91%)</font><br><font color = bold><font color = underline>Question1</font></font>: How can I create the most popular question on Quora?\n",
              "<font color = bold><font color = underline>Question2</font></font>: Which are the most popular questions on Quora presently that <font color = red>also</font> create the most discussions?<br><font color = bold><font color = underline>Question1</font></font>: How can I create the most popular question on Quora?\n",
              "<font color = bold><font color = underline>Question2</font></font>: Which are the most popular questions on Quora presently that <font color = green>mokhlos</font> create the most discussions?"
            ],
            "text/plain": [
              "<IPython.core.display.HTML object>"
            ]
          },
          "metadata": {
            "tags": []
          }
        },
        {
          "output_type": "stream",
          "text": [
            "[Succeeded / Failed / Total] 11 / 14 / 28: : 28it [01:39,  3.55s/it]"
          ],
          "name": "stderr"
        },
        {
          "output_type": "stream",
          "text": [
            "+-------------------------------+--------+\n",
            "| Attack Results                |        |\n",
            "+-------------------------------+--------+\n",
            "| Number of successful attacks: | 11     |\n",
            "| Number of failed attacks:     | 14     |\n",
            "| Number of skipped attacks:    | 3      |\n",
            "| Original accuracy:            | 89.29% |\n",
            "| Accuracy under attack:        | 50.0%  |\n",
            "| Attack success rate:          | 44.0%  |\n",
            "| Average perturbed word %:     | 7.39%  |\n",
            "| Average num. words per input: | 22.39  |\n",
            "| Avg num queries:              | 195.4  |\n",
            "+-------------------------------+--------+"
          ],
          "name": "stdout"
        },
        {
          "output_type": "stream",
          "text": [
            "\n",
            "\u001b[34;1mtextattack\u001b[0m: Attack time: 99.47751069068909s\n"
          ],
          "name": "stderr"
        }
      ]
    },
    {
      "cell_type": "code",
      "metadata": {
        "colab": {
          "base_uri": "https://localhost:8080/"
        },
        "id": "9jwrvRfhqKVj",
        "outputId": "3f4ae87a-b48b-439a-c54e-674d6739f833"
      },
      "source": [
        "from textattack.search_methods import GreedyWordSwapWIR\n",
        "from textattack.constraints.grammaticality import PartOfSpeech\n",
        "from textattack.shared import Attack\n",
        "from textattack.goal_functions import UntargetedClassification\n",
        "from textattack.datasets import HuggingFaceDataset\n",
        "\n",
        "# We're going to use our word swap class as the attack transformation.\n",
        "transformation = Swapper()\n",
        "\n",
        "constraints = [PartOfSpeech()]\n",
        "\n",
        "search_method = GreedyWordSwapWIR()\n",
        "\n",
        "goal_function = UntargetedClassification(model_wrapper)\n",
        "\n",
        "# Now, let's make the attack from the 4 components:\n",
        "attack = Attack(goal_function, constraints, transformation, search_method)\n",
        "\n",
        "dataset = HuggingFaceDataset(\"glue\", \"qqp\", \"validation\") # Change the dataset"
      ],
      "execution_count": 42,
      "outputs": [
        {
          "output_type": "stream",
          "text": [
            "\u001b[34;1mtextattack\u001b[0m: Unknown if model of class <class 'transformers.models.albert.modeling_albert.AlbertForSequenceClassification'> compatible with goal function <class 'textattack.goal_functions.classification.untargeted_classification.UntargetedClassification'>.\n",
            "Reusing dataset glue (/root/.cache/huggingface/datasets/glue/qqp/1.0.0/dacbe3125aa31d7f70367a07a8a9e72a5a0bfeb5fc42e75c9db75b96da6053ad)\n",
            "\u001b[34;1mtextattack\u001b[0m: Loading \u001b[94mdatasets\u001b[0m dataset \u001b[94mglue\u001b[0m, subset \u001b[94mqqp\u001b[0m, split \u001b[94mvalidation\u001b[0m.\n"
          ],
          "name": "stderr"
        }
      ]
    },
    {
      "cell_type": "code",
      "metadata": {
        "colab": {
          "base_uri": "https://localhost:8080/"
        },
        "id": "eCV5etswrzVY",
        "outputId": "b57af18f-86d9-487a-ec69-920963d18024"
      },
      "source": [
        "print(attack)"
      ],
      "execution_count": 43,
      "outputs": [
        {
          "output_type": "stream",
          "text": [
            "Attack(\n",
            "  (search_method): GreedyWordSwapWIR(\n",
            "    (wir_method):  unk\n",
            "  )\n",
            "  (goal_function):  UntargetedClassification\n",
            "  (transformation):  Swapper\n",
            "  (constraints): \n",
            "    (0): PartOfSpeech(\n",
            "        (tagger_type):  nltk\n",
            "        (tagset):  universal\n",
            "        (allow_verb_noun_swap):  True\n",
            "        (compare_against_original):  True\n",
            "      )\n",
            "  (is_black_box):  True\n",
            ")\n"
          ],
          "name": "stdout"
        }
      ]
    },
    {
      "cell_type": "code",
      "metadata": {
        "colab": {
          "base_uri": "https://localhost:8080/",
          "height": 1000
        },
        "id": "fQ4LYaHlsN4e",
        "outputId": "2c2c076b-693a-4681-fe44-50e6e04d03f6"
      },
      "source": [
        "printexample(attack)"
      ],
      "execution_count": 44,
      "outputs": [
        {
          "output_type": "stream",
          "text": [
            "\r  0%|          | 0/25 [00:00<?, ?it/s]"
          ],
          "name": "stderr"
        },
        {
          "output_type": "stream",
          "text": [
            "Attack(\n",
            "  (search_method): GreedyWordSwapWIR(\n",
            "    (wir_method):  unk\n",
            "  )\n",
            "  (goal_function):  UntargetedClassification\n",
            "  (transformation):  Swapper\n",
            "  (constraints): \n",
            "    (0): PartOfSpeech(\n",
            "        (tagger_type):  nltk\n",
            "        (tagset):  universal\n",
            "        (allow_verb_noun_swap):  True\n",
            "        (compare_against_original):  True\n",
            "      )\n",
            "  (is_black_box):  True\n",
            ")\n"
          ],
          "name": "stdout"
        },
        {
          "output_type": "display_data",
          "data": {
            "text/html": [
              "<font color = red>Not_duplicate (89%)</font> --> <font color = red>[FAILED]</font><br><font color = bold><font color = underline>Question1</font></font>: Why are African-Americans so beautiful?\n",
              "<font color = bold><font color = underline>Question2</font></font>: Why are hispanics so beautiful?"
            ],
            "text/plain": [
              "<IPython.core.display.HTML object>"
            ]
          },
          "metadata": {
            "tags": []
          }
        },
        {
          "output_type": "stream",
          "text": [
            "[Succeeded / Failed / Total] 0 / 1 / 1:   4%|▍         | 1/25 [00:00<00:14,  1.61it/s]"
          ],
          "name": "stderr"
        },
        {
          "output_type": "display_data",
          "data": {
            "text/html": [
              "<font color = red>Not_duplicate (100%)</font> --> <font color = red>[FAILED]</font><br><font color = bold><font color = underline>Question1</font></font>: I want to pursue PhD in Computer Science about social network,what is the open problem in social networks?\n",
              "<font color = bold><font color = underline>Question2</font></font>: I handle social media for a non-profit. Should I start going to social media networking events? Are there any good ones in the bay area?"
            ],
            "text/plain": [
              "<IPython.core.display.HTML object>"
            ]
          },
          "metadata": {
            "tags": []
          }
        },
        {
          "output_type": "stream",
          "text": [
            "[Succeeded / Failed / Total] 0 / 2 / 2:   8%|▊         | 2/25 [00:02<00:28,  1.25s/it]"
          ],
          "name": "stderr"
        },
        {
          "output_type": "display_data",
          "data": {
            "text/html": [
              "<font color = green>Duplicate (97%)</font> --> <font color = red>Not_duplicate (79%)</font><br><font color = bold><font color = underline>Question1</font></font>: <font color = green>Is</font> there a reason <font color = green>why</font> <font color = green>we</font> should <font color = green>travel</font> alone?\n",
              "<font color = bold><font color = underline>Question2</font></font>: What are some reasons to travel alone?<br><font color = bold><font color = underline>Question1</font></font>: <font color = red>Larva</font> there a reason <font color = red>how</font> <font color = red>you</font> should <font color = red>travelling</font> alone?\n",
              "<font color = bold><font color = underline>Question2</font></font>: What are some reasons to travel alone?"
            ],
            "text/plain": [
              "<IPython.core.display.HTML object>"
            ]
          },
          "metadata": {
            "tags": []
          }
        },
        {
          "output_type": "stream",
          "text": [
            "[Succeeded / Failed / Total] 1 / 2 / 3:  12%|█▏        | 3/25 [00:03<00:22,  1.02s/it]"
          ],
          "name": "stderr"
        },
        {
          "output_type": "display_data",
          "data": {
            "text/html": [
              "<font color = red>Not_duplicate (100%)</font> --> <font color = red>[FAILED]</font><br><font color = bold><font color = underline>Question1</font></font>: Why are people so obsessed with having a girlfriend/boyfriend?\n",
              "<font color = bold><font color = underline>Question2</font></font>: How can a single male have a child?"
            ],
            "text/plain": [
              "<IPython.core.display.HTML object>"
            ]
          },
          "metadata": {
            "tags": []
          }
        },
        {
          "output_type": "stream",
          "text": [
            "[Succeeded / Failed / Total] 1 / 3 / 4:  16%|█▌        | 4/25 [00:03<00:20,  1.04it/s]"
          ],
          "name": "stderr"
        },
        {
          "output_type": "display_data",
          "data": {
            "text/html": [
              "<font color = red>Not_duplicate (81%)</font> --> <font color = green>Duplicate (94%)</font><br><font color = bold><font color = underline>Question1</font></font>: What are some good baby girl names starting with D?\n",
              "<font color = bold><font color = underline>Question2</font></font>: What are some good baby girl names starting with D or <font color = red>H</font>?<br><font color = bold><font color = underline>Question1</font></font>: What are some good baby girl names starting with D?\n",
              "<font color = bold><font color = underline>Question2</font></font>: What are some good baby girl names starting with D or <font color = green>QUE</font>?"
            ],
            "text/plain": [
              "<IPython.core.display.HTML object>"
            ]
          },
          "metadata": {
            "tags": []
          }
        },
        {
          "output_type": "stream",
          "text": [
            "[Succeeded / Failed / Total] 2 / 3 / 5:  20%|██        | 5/25 [00:04<00:17,  1.16it/s]"
          ],
          "name": "stderr"
        },
        {
          "output_type": "display_data",
          "data": {
            "text/html": [
              "<font color = green>Duplicate (96%)</font> --> <font color = red>Not_duplicate (98%)</font><br><font color = bold><font color = underline>Question1</font></font>: I am 25 year old guy and <font color = green>never</font> had a girlfriend. Is this weird?\n",
              "<font color = bold><font color = underline>Question2</font></font>: I am 25 years old. I have never <font color = green>had</font> a <font color = green>girlfriend</font>. Is something wrong with me?<br><font color = bold><font color = underline>Question1</font></font>: I am 25 year old guy and <font color = red>ever</font> had a girlfriend. Is this weird?\n",
              "<font color = bold><font color = underline>Question2</font></font>: I am 25 years old. I have never <font color = red>has</font> a <font color = red>boyfriend</font>. Is something wrong with me?"
            ],
            "text/plain": [
              "<IPython.core.display.HTML object>"
            ]
          },
          "metadata": {
            "tags": []
          }
        },
        {
          "output_type": "stream",
          "text": [
            "[Succeeded / Failed / Total] 3 / 3 / 6:  24%|██▍       | 6/25 [00:05<00:15,  1.19it/s]"
          ],
          "name": "stderr"
        },
        {
          "output_type": "display_data",
          "data": {
            "text/html": [
              "<font color = red>Not_duplicate (100%)</font> --> <font color = gray>[SKIPPED]</font><br><font color = bold><font color = underline>Question1</font></font>: \"What does a good answer on Quora look like? What does it mean to \"\"be helpful\"\"?\"\n",
              "<font color = bold><font color = underline>Question2</font></font>: How do you write a good answer on Quora?"
            ],
            "text/plain": [
              "<IPython.core.display.HTML object>"
            ]
          },
          "metadata": {
            "tags": []
          }
        },
        {
          "output_type": "stream",
          "text": [
            "\r[Succeeded / Failed / Total] 3 / 3 / 7:  28%|██▊       | 7/25 [00:05<00:12,  1.39it/s]"
          ],
          "name": "stderr"
        },
        {
          "output_type": "display_data",
          "data": {
            "text/html": [
              "<font color = green>Duplicate (82%)</font> --> <font color = red>Not_duplicate (100%)</font><br><font color = bold><font color = underline>Question1</font></font>: What are the best things to do in <font color = green>Hong</font> Kong?\n",
              "<font color = bold><font color = underline>Question2</font></font>: What is the <font color = green>best</font> thing in Hong Kong?<br><font color = bold><font color = underline>Question1</font></font>: What are the best things to do in <font color = red>Yong</font> Kong?\n",
              "<font color = bold><font color = underline>Question2</font></font>: What is the <font color = red>finest</font> thing in Hong Kong?"
            ],
            "text/plain": [
              "<IPython.core.display.HTML object>"
            ]
          },
          "metadata": {
            "tags": []
          }
        },
        {
          "output_type": "stream",
          "text": [
            "[Succeeded / Failed / Total] 4 / 3 / 8:  32%|███▏      | 8/25 [00:05<00:11,  1.46it/s]"
          ],
          "name": "stderr"
        },
        {
          "output_type": "display_data",
          "data": {
            "text/html": [
              "<font color = green>Duplicate (54%)</font> --> <font color = gray>[SKIPPED]</font><br><font color = bold><font color = underline>Question1</font></font>: Why is my life getting so complicated?\n",
              "<font color = bold><font color = underline>Question2</font></font>: Why is my life so complicated?"
            ],
            "text/plain": [
              "<IPython.core.display.HTML object>"
            ]
          },
          "metadata": {
            "tags": []
          }
        },
        {
          "output_type": "stream",
          "text": [
            "\r[Succeeded / Failed / Total] 4 / 3 / 9:  36%|███▌      | 9/25 [00:05<00:09,  1.64it/s]"
          ],
          "name": "stderr"
        },
        {
          "output_type": "display_data",
          "data": {
            "text/html": [
              "<font color = red>Not_duplicate (100%)</font> --> <font color = red>[FAILED]</font><br><font color = bold><font color = underline>Question1</font></font>: Why should I crack Jee?\n",
              "<font color = bold><font color = underline>Question2</font></font>: Is it possible to get into IIMs with low marks in graduation and 12th?"
            ],
            "text/plain": [
              "<IPython.core.display.HTML object>"
            ]
          },
          "metadata": {
            "tags": []
          }
        },
        {
          "output_type": "stream",
          "text": [
            "[Succeeded / Failed / Total] 4 / 4 / 10:  40%|████      | 10/25 [00:06<00:09,  1.60it/s]"
          ],
          "name": "stderr"
        },
        {
          "output_type": "display_data",
          "data": {
            "text/html": [
              "<font color = red>Not_duplicate (100%)</font> --> <font color = red>[FAILED]</font><br><font color = bold><font color = underline>Question1</font></font>: Can you TRANSLATE these to English language?\n",
              "<font color = bold><font color = underline>Question2</font></font>: Can you translate this from Bengali to English language?"
            ],
            "text/plain": [
              "<IPython.core.display.HTML object>"
            ]
          },
          "metadata": {
            "tags": []
          }
        },
        {
          "output_type": "stream",
          "text": [
            "\r[Succeeded / Failed / Total] 4 / 5 / 11:  44%|████▍     | 11/25 [00:06<00:08,  1.58it/s]"
          ],
          "name": "stderr"
        },
        {
          "output_type": "display_data",
          "data": {
            "text/html": [
              "<font color = red>Not_duplicate (100%)</font> --> <font color = red>[FAILED]</font><br><font color = bold><font color = underline>Question1</font></font>: Can anyone tell shall mi mix mobile should be purchased or not?\n",
              "<font color = bold><font color = underline>Question2</font></font>: \"What did Voltaire mean when he said, \"\"God is a comedian playing to an audience that is too afraid to laugh\"\"?\""
            ],
            "text/plain": [
              "<IPython.core.display.HTML object>"
            ]
          },
          "metadata": {
            "tags": []
          }
        },
        {
          "output_type": "stream",
          "text": [
            "[Succeeded / Failed / Total] 4 / 6 / 12:  48%|████▊     | 12/25 [00:08<00:09,  1.43it/s]"
          ],
          "name": "stderr"
        },
        {
          "output_type": "display_data",
          "data": {
            "text/html": [
              "<font color = green>Duplicate (100%)</font> --> <font color = red>[FAILED]</font><br><font color = bold><font color = underline>Question1</font></font>: Which is the best gaming laptop under 40k?\n",
              "<font color = bold><font color = underline>Question2</font></font>: Which is the best gaming laptop under 40,000 rs?"
            ],
            "text/plain": [
              "<IPython.core.display.HTML object>"
            ]
          },
          "metadata": {
            "tags": []
          }
        },
        {
          "output_type": "stream",
          "text": [
            "\r[Succeeded / Failed / Total] 4 / 7 / 13:  52%|█████▏    | 13/25 [00:09<00:08,  1.43it/s]"
          ],
          "name": "stderr"
        },
        {
          "output_type": "display_data",
          "data": {
            "text/html": [
              "<font color = red>Not_duplicate (100%)</font> --> <font color = red>[FAILED]</font><br><font color = bold><font color = underline>Question1</font></font>: Why Tamil Nadu Universities are no good?\n",
              "<font color = bold><font color = underline>Question2</font></font>: Why are the 10th students able to score 100% in Tamil Nadu?"
            ],
            "text/plain": [
              "<IPython.core.display.HTML object>"
            ]
          },
          "metadata": {
            "tags": []
          }
        },
        {
          "output_type": "stream",
          "text": [
            "[Succeeded / Failed / Total] 4 / 8 / 14:  56%|█████▌    | 14/25 [00:09<00:07,  1.42it/s]"
          ],
          "name": "stderr"
        },
        {
          "output_type": "display_data",
          "data": {
            "text/html": [
              "<font color = red>Not_duplicate (100%)</font> --> <font color = red>[FAILED]</font><br><font color = bold><font color = underline>Question1</font></font>: What is an easy way to clean toothpaste stains from a shirt without washing it?\n",
              "<font color = bold><font color = underline>Question2</font></font>: What are some ways to remove hard water stains from dishes?"
            ],
            "text/plain": [
              "<IPython.core.display.HTML object>"
            ]
          },
          "metadata": {
            "tags": []
          }
        },
        {
          "output_type": "stream",
          "text": [
            "\r[Succeeded / Failed / Total] 4 / 9 / 15:  60%|██████    | 15/25 [00:10<00:07,  1.37it/s]"
          ],
          "name": "stderr"
        },
        {
          "output_type": "display_data",
          "data": {
            "text/html": [
              "<font color = green>Duplicate (89%)</font> --> <font color = red>Not_duplicate (99%)</font><br><font color = bold><font color = underline>Question1</font></font>: What was the deadliest battle in history?\n",
              "<font color = bold><font color = underline>Question2</font></font>: What was the bloodiest <font color = green>battle</font> in history?<br><font color = bold><font color = underline>Question1</font></font>: What was the deadliest battle in history?\n",
              "<font color = bold><font color = underline>Question2</font></font>: What was the bloodiest <font color = red>battlezone</font> in history?"
            ],
            "text/plain": [
              "<IPython.core.display.HTML object>"
            ]
          },
          "metadata": {
            "tags": []
          }
        },
        {
          "output_type": "stream",
          "text": [
            "[Succeeded / Failed / Total] 5 / 9 / 16:  64%|██████▍   | 16/25 [00:11<00:06,  1.42it/s]"
          ],
          "name": "stderr"
        },
        {
          "output_type": "display_data",
          "data": {
            "text/html": [
              "<font color = green>Duplicate (100%)</font> --> <font color = red>Not_duplicate (64%)</font><br><font color = bold><font color = underline>Question1</font></font>: What are your views about demonetisation in India?\n",
              "<font color = bold><font color = underline>Question2</font></font>: What do you think <font color = green>about</font> the ban on 500 and 1000 denomination notes in India?<br><font color = bold><font color = underline>Question1</font></font>: What are your views about demonetisation in India?\n",
              "<font color = bold><font color = underline>Question2</font></font>: What do you think <font color = red>abound</font> the ban on 500 and 1000 denomination notes in India?"
            ],
            "text/plain": [
              "<IPython.core.display.HTML object>"
            ]
          },
          "metadata": {
            "tags": []
          }
        },
        {
          "output_type": "stream",
          "text": [
            "\r[Succeeded / Failed / Total] 6 / 9 / 17:  68%|██████▊   | 17/25 [00:11<00:05,  1.44it/s]"
          ],
          "name": "stderr"
        },
        {
          "output_type": "display_data",
          "data": {
            "text/html": [
              "<font color = red>Not_duplicate (100%)</font> --> <font color = red>[FAILED]</font><br><font color = bold><font color = underline>Question1</font></font>: What are the difference between polyester 210T and 210D?\n",
              "<font color = bold><font color = underline>Question2</font></font>: What is the difference between cotton and polyester?"
            ],
            "text/plain": [
              "<IPython.core.display.HTML object>"
            ]
          },
          "metadata": {
            "tags": []
          }
        },
        {
          "output_type": "stream",
          "text": [
            "[Succeeded / Failed / Total] 6 / 10 / 18:  72%|███████▏  | 18/25 [00:12<00:04,  1.45it/s]"
          ],
          "name": "stderr"
        },
        {
          "output_type": "display_data",
          "data": {
            "text/html": [
              "<font color = red>Not_duplicate (82%)</font> --> <font color = green>Duplicate (72%)</font><br><font color = bold><font color = underline>Question1</font></font>: Is FMS Delhi a good option for a MBA executive program?\n",
              "<font color = bold><font color = underline>Question2</font></font>: Is FMS <font color = red>a</font> good <font color = red>choice</font> for an MBA <font color = red>in</font> HR? Why and why <font color = red>not</font>?<br><font color = bold><font color = underline>Question1</font></font>: Is FMS Delhi a good option for a MBA executive program?\n",
              "<font color = bold><font color = underline>Question2</font></font>: Is FMS <font color = green>the</font> good <font color = green>preference</font> for an MBA <font color = green>of</font> HR? Why and why <font color = green>never</font>?"
            ],
            "text/plain": [
              "<IPython.core.display.HTML object>"
            ]
          },
          "metadata": {
            "tags": []
          }
        },
        {
          "output_type": "stream",
          "text": [
            "\r[Succeeded / Failed / Total] 7 / 10 / 19:  76%|███████▌  | 19/25 [00:13<00:04,  1.45it/s]"
          ],
          "name": "stderr"
        },
        {
          "output_type": "display_data",
          "data": {
            "text/html": [
              "<font color = red>Not_duplicate (63%)</font> --> <font color = gray>[SKIPPED]</font><br><font color = bold><font color = underline>Question1</font></font>: Is it a bad time to buy a condo or a house in the Bay Area in 2017?\n",
              "<font color = bold><font color = underline>Question2</font></font>: Would 2017 be a good time to buy a house in Bay Area?"
            ],
            "text/plain": [
              "<IPython.core.display.HTML object>"
            ]
          },
          "metadata": {
            "tags": []
          }
        },
        {
          "output_type": "stream",
          "text": [
            "[Succeeded / Failed / Total] 7 / 10 / 20:  80%|████████  | 20/25 [00:13<00:03,  1.52it/s]"
          ],
          "name": "stderr"
        },
        {
          "output_type": "display_data",
          "data": {
            "text/html": [
              "<font color = red>Not_duplicate (100%)</font> --> <font color = red>[FAILED]</font><br><font color = bold><font color = underline>Question1</font></font>: How is vanilla extract made?\n",
              "<font color = bold><font color = underline>Question2</font></font>: How do you make sugar cookies without vanilla extract?"
            ],
            "text/plain": [
              "<IPython.core.display.HTML object>"
            ]
          },
          "metadata": {
            "tags": []
          }
        },
        {
          "output_type": "stream",
          "text": [
            "\r[Succeeded / Failed / Total] 7 / 11 / 21:  84%|████████▍ | 21/25 [00:13<00:02,  1.52it/s]"
          ],
          "name": "stderr"
        },
        {
          "output_type": "display_data",
          "data": {
            "text/html": [
              "<font color = green>Duplicate (100%)</font> --> <font color = red>Not_duplicate (58%)</font><br><font color = bold><font color = underline>Question1</font></font>: What is the <font color = green>Sahara</font>, and how do the average temperatures there compare to the ones in the Patagonian Desert?\n",
              "<font color = bold><font color = underline>Question2</font></font>: What is the Sahara, and how do the average <font color = green>temperatures</font> there compare to the ones in the Registan Desert?<br><font color = bold><font color = underline>Question1</font></font>: What is the <font color = red>Zahara</font>, and how do the average temperatures there compare to the ones in the Patagonian Desert?\n",
              "<font color = bold><font color = underline>Question2</font></font>: What is the Sahara, and how do the average <font color = red>temperature</font> there compare to the ones in the Registan Desert?"
            ],
            "text/plain": [
              "<IPython.core.display.HTML object>"
            ]
          },
          "metadata": {
            "tags": []
          }
        },
        {
          "output_type": "stream",
          "text": [
            "[Succeeded / Failed / Total] 8 / 11 / 22:  88%|████████▊ | 22/25 [00:14<00:01,  1.51it/s]"
          ],
          "name": "stderr"
        },
        {
          "output_type": "display_data",
          "data": {
            "text/html": [
              "<font color = red>Not_duplicate (100%)</font> --> <font color = red>[FAILED]</font><br><font color = bold><font color = underline>Question1</font></font>: Why was the Roman Empire so successful?\n",
              "<font color = bold><font color = underline>Question2</font></font>: What are some of the rarely known facts about the Roman Empire?"
            ],
            "text/plain": [
              "<IPython.core.display.HTML object>"
            ]
          },
          "metadata": {
            "tags": []
          }
        },
        {
          "output_type": "stream",
          "text": [
            "\r[Succeeded / Failed / Total] 8 / 12 / 23:  92%|█████████▏| 23/25 [00:15<00:01,  1.51it/s]"
          ],
          "name": "stderr"
        },
        {
          "output_type": "display_data",
          "data": {
            "text/html": [
              "<font color = red>Not_duplicate (100%)</font> --> <font color = green>Duplicate (68%)</font><br><font color = bold><font color = underline>Question1</font></font>: <font color = red>Is</font> it <font color = red>advisable</font> to sent <font color = red>your</font> cv to a professor with <font color = red>whom</font> <font color = red>you</font> are <font color = red>trying</font> to make contact for graduate admission?\n",
              "<font color = bold><font color = underline>Question2</font></font>: How does contacting a professor before applying <font color = red>factor</font> <font color = red>into</font> graduate <font color = red>admissions</font>?<br><font color = bold><font color = underline>Question1</font></font>: <font color = green>Larva</font> it <font color = green>disable</font> to sent <font color = green>my</font> cv to a professor with <font color = green>who</font> <font color = green>we</font> are <font color = green>attempting</font> to make contact for graduate admission?\n",
              "<font color = bold><font color = underline>Question2</font></font>: How does contacting a professor before applying <font color = green>inhibitor</font> <font color = green>onto</font> graduate <font color = green>admission</font>?"
            ],
            "text/plain": [
              "<IPython.core.display.HTML object>"
            ]
          },
          "metadata": {
            "tags": []
          }
        },
        {
          "output_type": "stream",
          "text": [
            "[Succeeded / Failed / Total] 9 / 12 / 24:  96%|█████████▌| 24/25 [00:16<00:00,  1.47it/s]"
          ],
          "name": "stderr"
        },
        {
          "output_type": "display_data",
          "data": {
            "text/html": [
              "<font color = red>Not_duplicate (100%)</font> --> <font color = red>[FAILED]</font><br><font color = bold><font color = underline>Question1</font></font>: Does a RainTPL syntax extension for Sublime Text exist? Where can I download it?\n",
              "<font color = bold><font color = underline>Question2</font></font>: How do I hide the find/replace bar in Sublime Text 2?"
            ],
            "text/plain": [
              "<IPython.core.display.HTML object>"
            ]
          },
          "metadata": {
            "tags": []
          }
        },
        {
          "output_type": "stream",
          "text": [
            "\r[Succeeded / Failed / Total] 9 / 13 / 25: 100%|██████████| 25/25 [00:17<00:00,  1.43it/s]"
          ],
          "name": "stderr"
        },
        {
          "output_type": "display_data",
          "data": {
            "text/html": [
              "<font color = red>Not_duplicate (99%)</font> --> <font color = red>[FAILED]</font><br><font color = bold><font color = underline>Question1</font></font>: What is the average salary of a microbiologist in India?\n",
              "<font color = bold><font color = underline>Question2</font></font>: What is the salary for a psychologist in india?"
            ],
            "text/plain": [
              "<IPython.core.display.HTML object>"
            ]
          },
          "metadata": {
            "tags": []
          }
        },
        {
          "output_type": "stream",
          "text": [
            "[Succeeded / Failed / Total] 9 / 14 / 26: : 26it [00:18,  1.43it/s]"
          ],
          "name": "stderr"
        },
        {
          "output_type": "display_data",
          "data": {
            "text/html": [
              "<font color = red>Not_duplicate (100%)</font> --> <font color = green>Duplicate (85%)</font><br><font color = bold><font color = underline>Question1</font></font>: How do you close a Bank of <font color = red>America</font> <font color = red>account</font>?\n",
              "<font color = bold><font color = underline>Question2</font></font>: How can one close a bank <font color = red>account</font> online?<br><font color = bold><font color = underline>Question1</font></font>: How do you close a Bank of <font color = green>Comerica</font> <font color = green>recount</font>?\n",
              "<font color = bold><font color = underline>Question2</font></font>: How can one close a bank <font color = green>recount</font> online?"
            ],
            "text/plain": [
              "<IPython.core.display.HTML object>"
            ]
          },
          "metadata": {
            "tags": []
          }
        },
        {
          "output_type": "stream",
          "text": [
            "\r[Succeeded / Failed / Total] 10 / 14 / 27: : 27it [00:18,  1.45it/s]"
          ],
          "name": "stderr"
        },
        {
          "output_type": "display_data",
          "data": {
            "text/html": [
              "<font color = red>Not_duplicate (71%)</font> --> <font color = green>Duplicate (64%)</font><br><font color = bold><font color = underline>Question1</font></font>: How can I create the most popular question on Quora?\n",
              "<font color = bold><font color = underline>Question2</font></font>: Which are the most popular questions on Quora presently that <font color = red>also</font> create the most discussions?<br><font color = bold><font color = underline>Question1</font></font>: How can I create the most popular question on Quora?\n",
              "<font color = bold><font color = underline>Question2</font></font>: Which are the most popular questions on Quora presently that <font color = green>sometimes</font> create the most discussions?"
            ],
            "text/plain": [
              "<IPython.core.display.HTML object>"
            ]
          },
          "metadata": {
            "tags": []
          }
        },
        {
          "output_type": "stream",
          "text": [
            "[Succeeded / Failed / Total] 11 / 14 / 28: : 28it [00:19,  1.46it/s]"
          ],
          "name": "stderr"
        },
        {
          "output_type": "stream",
          "text": [
            "+-------------------------------+--------+\n",
            "| Attack Results                |        |\n",
            "+-------------------------------+--------+\n",
            "| Number of successful attacks: | 11     |\n",
            "| Number of failed attacks:     | 14     |\n",
            "| Number of skipped attacks:    | 3      |\n",
            "| Original accuracy:            | 89.29% |\n",
            "| Accuracy under attack:        | 50.0%  |\n",
            "| Attack success rate:          | 44.0%  |\n",
            "| Average perturbed word %:     | 12.11% |\n",
            "| Average num. words per input: | 22.39  |\n",
            "| Avg num queries:              | 33.08  |\n",
            "+-------------------------------+--------+"
          ],
          "name": "stdout"
        },
        {
          "output_type": "stream",
          "text": [
            "\n",
            "\u001b[34;1mtextattack\u001b[0m: Attack time: 19.17942500114441s\n"
          ],
          "name": "stderr"
        }
      ]
    },
    {
      "cell_type": "code",
      "metadata": {
        "colab": {
          "base_uri": "https://localhost:8080/"
        },
        "id": "YX8hOBEXsRu2",
        "outputId": "a4e0c1d2-49b1-4a33-9f54-11eb1059319b"
      },
      "source": [
        "from textattack.search_methods import GreedyWordSwapWIR\n",
        "from textattack.constraints.grammaticality import PartOfSpeech\n",
        "from textattack.shared import Attack\n",
        "from textattack.goal_functions import UntargetedClassification\n",
        "from textattack.datasets import HuggingFaceDataset\n",
        "\n",
        "# We're going to use our word swap class as the attack transformation.\n",
        "transformation = Swapper_()\n",
        "\n",
        "constraints = [PartOfSpeech()]\n",
        "\n",
        "search_method = GreedyWordSwapWIR()\n",
        "\n",
        "goal_function = UntargetedClassification(model_wrapper)\n",
        "\n",
        "# Now, let's make the attack from the 4 components:\n",
        "attack = Attack(goal_function, constraints, transformation, search_method)\n",
        "\n",
        "dataset = HuggingFaceDataset(\"glue\", \"qqp\", \"validation\") # Change the dataset"
      ],
      "execution_count": 45,
      "outputs": [
        {
          "output_type": "stream",
          "text": [
            "\u001b[34;1mtextattack\u001b[0m: Unknown if model of class <class 'transformers.models.albert.modeling_albert.AlbertForSequenceClassification'> compatible with goal function <class 'textattack.goal_functions.classification.untargeted_classification.UntargetedClassification'>.\n",
            "Reusing dataset glue (/root/.cache/huggingface/datasets/glue/qqp/1.0.0/dacbe3125aa31d7f70367a07a8a9e72a5a0bfeb5fc42e75c9db75b96da6053ad)\n",
            "\u001b[34;1mtextattack\u001b[0m: Loading \u001b[94mdatasets\u001b[0m dataset \u001b[94mglue\u001b[0m, subset \u001b[94mqqp\u001b[0m, split \u001b[94mvalidation\u001b[0m.\n"
          ],
          "name": "stderr"
        }
      ]
    },
    {
      "cell_type": "code",
      "metadata": {
        "colab": {
          "base_uri": "https://localhost:8080/"
        },
        "id": "z3sSVm0q1F8F",
        "outputId": "4bd541cd-1fcb-483e-821c-ce48d90ce092"
      },
      "source": [
        "print(attack)"
      ],
      "execution_count": 46,
      "outputs": [
        {
          "output_type": "stream",
          "text": [
            "Attack(\n",
            "  (search_method): GreedyWordSwapWIR(\n",
            "    (wir_method):  unk\n",
            "  )\n",
            "  (goal_function):  UntargetedClassification\n",
            "  (transformation):  Swapper_\n",
            "  (constraints): \n",
            "    (0): PartOfSpeech(\n",
            "        (tagger_type):  nltk\n",
            "        (tagset):  universal\n",
            "        (allow_verb_noun_swap):  True\n",
            "        (compare_against_original):  True\n",
            "      )\n",
            "  (is_black_box):  True\n",
            ")\n"
          ],
          "name": "stdout"
        }
      ]
    },
    {
      "cell_type": "code",
      "metadata": {
        "colab": {
          "base_uri": "https://localhost:8080/",
          "height": 1000
        },
        "id": "78FFw18K1Hkb",
        "outputId": "32f49168-eaf0-4ca9-8b5f-e711a08b660e"
      },
      "source": [
        "printexample(attack)"
      ],
      "execution_count": 47,
      "outputs": [
        {
          "output_type": "stream",
          "text": [
            "\r  0%|          | 0/25 [00:00<?, ?it/s]"
          ],
          "name": "stderr"
        },
        {
          "output_type": "stream",
          "text": [
            "Attack(\n",
            "  (search_method): GreedyWordSwapWIR(\n",
            "    (wir_method):  unk\n",
            "  )\n",
            "  (goal_function):  UntargetedClassification\n",
            "  (transformation):  Swapper_\n",
            "  (constraints): \n",
            "    (0): PartOfSpeech(\n",
            "        (tagger_type):  nltk\n",
            "        (tagset):  universal\n",
            "        (allow_verb_noun_swap):  True\n",
            "        (compare_against_original):  True\n",
            "      )\n",
            "  (is_black_box):  True\n",
            ")\n"
          ],
          "name": "stdout"
        },
        {
          "output_type": "display_data",
          "data": {
            "text/html": [
              "<font color = red>Not_duplicate (89%)</font> --> <font color = red>[FAILED]</font><br><font color = bold><font color = underline>Question1</font></font>: Why are African-Americans so beautiful?\n",
              "<font color = bold><font color = underline>Question2</font></font>: Why are hispanics so beautiful?"
            ],
            "text/plain": [
              "<IPython.core.display.HTML object>"
            ]
          },
          "metadata": {
            "tags": []
          }
        },
        {
          "output_type": "stream",
          "text": [
            "[Succeeded / Failed / Total] 0 / 1 / 1:   4%|▍         | 1/25 [00:00<00:08,  2.80it/s]"
          ],
          "name": "stderr"
        },
        {
          "output_type": "display_data",
          "data": {
            "text/html": [
              "<font color = red>Not_duplicate (100%)</font> --> <font color = red>[FAILED]</font><br><font color = bold><font color = underline>Question1</font></font>: I want to pursue PhD in Computer Science about social network,what is the open problem in social networks?\n",
              "<font color = bold><font color = underline>Question2</font></font>: I handle social media for a non-profit. Should I start going to social media networking events? Are there any good ones in the bay area?"
            ],
            "text/plain": [
              "<IPython.core.display.HTML object>"
            ]
          },
          "metadata": {
            "tags": []
          }
        },
        {
          "output_type": "stream",
          "text": [
            "[Succeeded / Failed / Total] 0 / 2 / 2:   8%|▊         | 2/25 [00:01<00:21,  1.07it/s]"
          ],
          "name": "stderr"
        },
        {
          "output_type": "display_data",
          "data": {
            "text/html": [
              "<font color = green>Duplicate (97%)</font> --> <font color = red>Not_duplicate (97%)</font><br><font color = bold><font color = underline>Question1</font></font>: Is there a reason why we should <font color = green>travel</font> alone?\n",
              "<font color = bold><font color = underline>Question2</font></font>: What are some reasons to travel alone?<br><font color = bold><font color = underline>Question1</font></font>: Is there a reason why we should <font color = red>interplanetary</font> alone?\n",
              "<font color = bold><font color = underline>Question2</font></font>: What are some reasons to travel alone?"
            ],
            "text/plain": [
              "<IPython.core.display.HTML object>"
            ]
          },
          "metadata": {
            "tags": []
          }
        },
        {
          "output_type": "stream",
          "text": [
            "[Succeeded / Failed / Total] 1 / 2 / 3:  12%|█▏        | 3/25 [00:02<00:16,  1.36it/s]"
          ],
          "name": "stderr"
        },
        {
          "output_type": "display_data",
          "data": {
            "text/html": [
              "<font color = red>Not_duplicate (100%)</font> --> <font color = red>[FAILED]</font><br><font color = bold><font color = underline>Question1</font></font>: Why are people so obsessed with having a girlfriend/boyfriend?\n",
              "<font color = bold><font color = underline>Question2</font></font>: How can a single male have a child?"
            ],
            "text/plain": [
              "<IPython.core.display.HTML object>"
            ]
          },
          "metadata": {
            "tags": []
          }
        },
        {
          "output_type": "stream",
          "text": [
            "[Succeeded / Failed / Total] 1 / 3 / 4:  16%|█▌        | 4/25 [00:02<00:15,  1.37it/s]"
          ],
          "name": "stderr"
        },
        {
          "output_type": "display_data",
          "data": {
            "text/html": [
              "<font color = red>Not_duplicate (81%)</font> --> <font color = green>Duplicate (52%)</font><br><font color = bold><font color = underline>Question1</font></font>: What are some good baby girl names starting with D?\n",
              "<font color = bold><font color = underline>Question2</font></font>: What are some good baby girl <font color = red>names</font> starting with D or H?<br><font color = bold><font color = underline>Question1</font></font>: What are some good baby girl names starting with D?\n",
              "<font color = bold><font color = underline>Question2</font></font>: What are some good baby girl <font color = green>name</font> starting with D or H?"
            ],
            "text/plain": [
              "<IPython.core.display.HTML object>"
            ]
          },
          "metadata": {
            "tags": []
          }
        },
        {
          "output_type": "stream",
          "text": [
            "[Succeeded / Failed / Total] 2 / 3 / 5:  20%|██        | 5/25 [00:03<00:13,  1.48it/s]"
          ],
          "name": "stderr"
        },
        {
          "output_type": "display_data",
          "data": {
            "text/html": [
              "<font color = green>Duplicate (96%)</font> --> <font color = red>Not_duplicate (99%)</font><br><font color = bold><font color = underline>Question1</font></font>: I am 25 year old guy and <font color = green>never</font> had a girlfriend. Is this weird?\n",
              "<font color = bold><font color = underline>Question2</font></font>: I am 25 years old. I have never <font color = green>had</font> a <font color = green>girlfriend</font>. Is something wrong with me?<br><font color = bold><font color = underline>Question1</font></font>: I am 25 year old guy and <font color = red>already</font> had a girlfriend. Is this weird?\n",
              "<font color = bold><font color = underline>Question2</font></font>: I am 25 years old. I have never <font color = red>has</font> a <font color = red>boyfriend</font>. Is something wrong with me?"
            ],
            "text/plain": [
              "<IPython.core.display.HTML object>"
            ]
          },
          "metadata": {
            "tags": []
          }
        },
        {
          "output_type": "stream",
          "text": [
            "[Succeeded / Failed / Total] 3 / 3 / 6:  24%|██▍       | 6/25 [00:04<00:12,  1.47it/s]"
          ],
          "name": "stderr"
        },
        {
          "output_type": "display_data",
          "data": {
            "text/html": [
              "<font color = red>Not_duplicate (100%)</font> --> <font color = gray>[SKIPPED]</font><br><font color = bold><font color = underline>Question1</font></font>: \"What does a good answer on Quora look like? What does it mean to \"\"be helpful\"\"?\"\n",
              "<font color = bold><font color = underline>Question2</font></font>: How do you write a good answer on Quora?"
            ],
            "text/plain": [
              "<IPython.core.display.HTML object>"
            ]
          },
          "metadata": {
            "tags": []
          }
        },
        {
          "output_type": "stream",
          "text": [
            "\r[Succeeded / Failed / Total] 3 / 3 / 7:  28%|██▊       | 7/25 [00:04<00:10,  1.71it/s]"
          ],
          "name": "stderr"
        },
        {
          "output_type": "display_data",
          "data": {
            "text/html": [
              "<font color = green>Duplicate (82%)</font> --> <font color = red>Not_duplicate (100%)</font><br><font color = bold><font color = underline>Question1</font></font>: What are the best things to do in Hong Kong?\n",
              "<font color = bold><font color = underline>Question2</font></font>: What is the <font color = green>best</font> thing in Hong Kong?<br><font color = bold><font color = underline>Question1</font></font>: What are the best things to do in Hong Kong?\n",
              "<font color = bold><font color = underline>Question2</font></font>: What is the <font color = red>filmfare</font> thing in Hong Kong?"
            ],
            "text/plain": [
              "<IPython.core.display.HTML object>"
            ]
          },
          "metadata": {
            "tags": []
          }
        },
        {
          "output_type": "stream",
          "text": [
            "[Succeeded / Failed / Total] 4 / 3 / 8:  32%|███▏      | 8/25 [00:04<00:09,  1.79it/s]"
          ],
          "name": "stderr"
        },
        {
          "output_type": "display_data",
          "data": {
            "text/html": [
              "<font color = green>Duplicate (54%)</font> --> <font color = gray>[SKIPPED]</font><br><font color = bold><font color = underline>Question1</font></font>: Why is my life getting so complicated?\n",
              "<font color = bold><font color = underline>Question2</font></font>: Why is my life so complicated?"
            ],
            "text/plain": [
              "<IPython.core.display.HTML object>"
            ]
          },
          "metadata": {
            "tags": []
          }
        },
        {
          "output_type": "stream",
          "text": [
            "\r[Succeeded / Failed / Total] 4 / 3 / 9:  36%|███▌      | 9/25 [00:04<00:08,  2.00it/s]"
          ],
          "name": "stderr"
        },
        {
          "output_type": "display_data",
          "data": {
            "text/html": [
              "<font color = red>Not_duplicate (100%)</font> --> <font color = red>[FAILED]</font><br><font color = bold><font color = underline>Question1</font></font>: Why should I crack Jee?\n",
              "<font color = bold><font color = underline>Question2</font></font>: Is it possible to get into IIMs with low marks in graduation and 12th?"
            ],
            "text/plain": [
              "<IPython.core.display.HTML object>"
            ]
          },
          "metadata": {
            "tags": []
          }
        },
        {
          "output_type": "stream",
          "text": [
            "[Succeeded / Failed / Total] 4 / 4 / 10:  40%|████      | 10/25 [00:05<00:07,  1.95it/s]"
          ],
          "name": "stderr"
        },
        {
          "output_type": "display_data",
          "data": {
            "text/html": [
              "<font color = red>Not_duplicate (100%)</font> --> <font color = red>[FAILED]</font><br><font color = bold><font color = underline>Question1</font></font>: Can you TRANSLATE these to English language?\n",
              "<font color = bold><font color = underline>Question2</font></font>: Can you translate this from Bengali to English language?"
            ],
            "text/plain": [
              "<IPython.core.display.HTML object>"
            ]
          },
          "metadata": {
            "tags": []
          }
        },
        {
          "output_type": "stream",
          "text": [
            "\r[Succeeded / Failed / Total] 4 / 5 / 11:  44%|████▍     | 11/25 [00:05<00:07,  1.94it/s]"
          ],
          "name": "stderr"
        },
        {
          "output_type": "display_data",
          "data": {
            "text/html": [
              "<font color = red>Not_duplicate (100%)</font> --> <font color = red>[FAILED]</font><br><font color = bold><font color = underline>Question1</font></font>: Can anyone tell shall mi mix mobile should be purchased or not?\n",
              "<font color = bold><font color = underline>Question2</font></font>: \"What did Voltaire mean when he said, \"\"God is a comedian playing to an audience that is too afraid to laugh\"\"?\""
            ],
            "text/plain": [
              "<IPython.core.display.HTML object>"
            ]
          },
          "metadata": {
            "tags": []
          }
        },
        {
          "output_type": "stream",
          "text": [
            "[Succeeded / Failed / Total] 4 / 6 / 12:  48%|████▊     | 12/25 [00:06<00:07,  1.74it/s]"
          ],
          "name": "stderr"
        },
        {
          "output_type": "display_data",
          "data": {
            "text/html": [
              "<font color = green>Duplicate (100%)</font> --> <font color = red>[FAILED]</font><br><font color = bold><font color = underline>Question1</font></font>: Which is the best gaming laptop under 40k?\n",
              "<font color = bold><font color = underline>Question2</font></font>: Which is the best gaming laptop under 40,000 rs?"
            ],
            "text/plain": [
              "<IPython.core.display.HTML object>"
            ]
          },
          "metadata": {
            "tags": []
          }
        },
        {
          "output_type": "stream",
          "text": [
            "\r[Succeeded / Failed / Total] 4 / 7 / 13:  52%|█████▏    | 13/25 [00:07<00:06,  1.75it/s]"
          ],
          "name": "stderr"
        },
        {
          "output_type": "display_data",
          "data": {
            "text/html": [
              "<font color = red>Not_duplicate (100%)</font> --> <font color = red>[FAILED]</font><br><font color = bold><font color = underline>Question1</font></font>: Why Tamil Nadu Universities are no good?\n",
              "<font color = bold><font color = underline>Question2</font></font>: Why are the 10th students able to score 100% in Tamil Nadu?"
            ],
            "text/plain": [
              "<IPython.core.display.HTML object>"
            ]
          },
          "metadata": {
            "tags": []
          }
        },
        {
          "output_type": "stream",
          "text": [
            "[Succeeded / Failed / Total] 4 / 8 / 14:  56%|█████▌    | 14/25 [00:08<00:06,  1.75it/s]"
          ],
          "name": "stderr"
        },
        {
          "output_type": "display_data",
          "data": {
            "text/html": [
              "<font color = red>Not_duplicate (100%)</font> --> <font color = red>[FAILED]</font><br><font color = bold><font color = underline>Question1</font></font>: What is an easy way to clean toothpaste stains from a shirt without washing it?\n",
              "<font color = bold><font color = underline>Question2</font></font>: What are some ways to remove hard water stains from dishes?"
            ],
            "text/plain": [
              "<IPython.core.display.HTML object>"
            ]
          },
          "metadata": {
            "tags": []
          }
        },
        {
          "output_type": "stream",
          "text": [
            "\r[Succeeded / Failed / Total] 4 / 9 / 15:  60%|██████    | 15/25 [00:08<00:05,  1.67it/s]"
          ],
          "name": "stderr"
        },
        {
          "output_type": "display_data",
          "data": {
            "text/html": [
              "<font color = green>Duplicate (89%)</font> --> <font color = red>Not_duplicate (100%)</font><br><font color = bold><font color = underline>Question1</font></font>: What was the deadliest battle in history?\n",
              "<font color = bold><font color = underline>Question2</font></font>: What was the bloodiest <font color = green>battle</font> in history?<br><font color = bold><font color = underline>Question1</font></font>: What was the deadliest battle in history?\n",
              "<font color = bold><font color = underline>Question2</font></font>: What was the bloodiest <font color = red>chancellorsville</font> in history?"
            ],
            "text/plain": [
              "<IPython.core.display.HTML object>"
            ]
          },
          "metadata": {
            "tags": []
          }
        },
        {
          "output_type": "stream",
          "text": [
            "[Succeeded / Failed / Total] 5 / 9 / 16:  64%|██████▍   | 16/25 [00:09<00:05,  1.72it/s]"
          ],
          "name": "stderr"
        },
        {
          "output_type": "display_data",
          "data": {
            "text/html": [
              "<font color = green>Duplicate (100%)</font> --> <font color = red>Not_duplicate (85%)</font><br><font color = bold><font color = underline>Question1</font></font>: What are your views about demonetisation in India?\n",
              "<font color = bold><font color = underline>Question2</font></font>: What do you <font color = green>think</font> about the <font color = green>ban</font> on 500 and 1000 denomination notes in India?<br><font color = bold><font color = underline>Question1</font></font>: What are your views about demonetisation in India?\n",
              "<font color = bold><font color = underline>Question2</font></font>: What do you <font color = red>know</font> about the <font color = red>dumping</font> on 500 and 1000 denomination notes in India?"
            ],
            "text/plain": [
              "<IPython.core.display.HTML object>"
            ]
          },
          "metadata": {
            "tags": []
          }
        },
        {
          "output_type": "stream",
          "text": [
            "\r[Succeeded / Failed / Total] 6 / 9 / 17:  68%|██████▊   | 17/25 [00:09<00:04,  1.73it/s]"
          ],
          "name": "stderr"
        },
        {
          "output_type": "display_data",
          "data": {
            "text/html": [
              "<font color = red>Not_duplicate (100%)</font> --> <font color = red>[FAILED]</font><br><font color = bold><font color = underline>Question1</font></font>: What are the difference between polyester 210T and 210D?\n",
              "<font color = bold><font color = underline>Question2</font></font>: What is the difference between cotton and polyester?"
            ],
            "text/plain": [
              "<IPython.core.display.HTML object>"
            ]
          },
          "metadata": {
            "tags": []
          }
        },
        {
          "output_type": "stream",
          "text": [
            "[Succeeded / Failed / Total] 6 / 10 / 18:  72%|███████▏  | 18/25 [00:10<00:04,  1.73it/s]"
          ],
          "name": "stderr"
        },
        {
          "output_type": "display_data",
          "data": {
            "text/html": [
              "<font color = red>Not_duplicate (82%)</font> --> <font color = red>[FAILED]</font><br><font color = bold><font color = underline>Question1</font></font>: Is FMS Delhi a good option for a MBA executive program?\n",
              "<font color = bold><font color = underline>Question2</font></font>: Is FMS a good choice for an MBA in HR? Why and why not?"
            ],
            "text/plain": [
              "<IPython.core.display.HTML object>"
            ]
          },
          "metadata": {
            "tags": []
          }
        },
        {
          "output_type": "stream",
          "text": [
            "\r[Succeeded / Failed / Total] 6 / 11 / 19:  76%|███████▌  | 19/25 [00:11<00:03,  1.70it/s]"
          ],
          "name": "stderr"
        },
        {
          "output_type": "display_data",
          "data": {
            "text/html": [
              "<font color = red>Not_duplicate (63%)</font> --> <font color = gray>[SKIPPED]</font><br><font color = bold><font color = underline>Question1</font></font>: Is it a bad time to buy a condo or a house in the Bay Area in 2017?\n",
              "<font color = bold><font color = underline>Question2</font></font>: Would 2017 be a good time to buy a house in Bay Area?"
            ],
            "text/plain": [
              "<IPython.core.display.HTML object>"
            ]
          },
          "metadata": {
            "tags": []
          }
        },
        {
          "output_type": "stream",
          "text": [
            "[Succeeded / Failed / Total] 6 / 11 / 20:  80%|████████  | 20/25 [00:11<00:02,  1.79it/s]"
          ],
          "name": "stderr"
        },
        {
          "output_type": "display_data",
          "data": {
            "text/html": [
              "<font color = red>Not_duplicate (100%)</font> --> <font color = red>[FAILED]</font><br><font color = bold><font color = underline>Question1</font></font>: How is vanilla extract made?\n",
              "<font color = bold><font color = underline>Question2</font></font>: How do you make sugar cookies without vanilla extract?"
            ],
            "text/plain": [
              "<IPython.core.display.HTML object>"
            ]
          },
          "metadata": {
            "tags": []
          }
        },
        {
          "output_type": "stream",
          "text": [
            "\r[Succeeded / Failed / Total] 6 / 12 / 21:  84%|████████▍ | 21/25 [00:11<00:02,  1.79it/s]"
          ],
          "name": "stderr"
        },
        {
          "output_type": "display_data",
          "data": {
            "text/html": [
              "<font color = green>Duplicate (100%)</font> --> <font color = red>Not_duplicate (80%)</font><br><font color = bold><font color = underline>Question1</font></font>: What is the Sahara, and how do the average <font color = green>temperatures</font> there compare to the <font color = green>ones</font> in the Patagonian Desert?\n",
              "<font color = bold><font color = underline>Question2</font></font>: What is the Sahara, and how do the average <font color = green>temperatures</font> there compare to the ones in the Registan Desert?<br><font color = bold><font color = underline>Question1</font></font>: What is the Sahara, and how do the average <font color = red>temperature</font> there compare to the <font color = red>embellishments</font> in the Patagonian Desert?\n",
              "<font color = bold><font color = underline>Question2</font></font>: What is the Sahara, and how do the average <font color = red>temperature</font> there compare to the ones in the Registan Desert?"
            ],
            "text/plain": [
              "<IPython.core.display.HTML object>"
            ]
          },
          "metadata": {
            "tags": []
          }
        },
        {
          "output_type": "stream",
          "text": [
            "[Succeeded / Failed / Total] 7 / 12 / 22:  88%|████████▊ | 22/25 [00:12<00:01,  1.75it/s]"
          ],
          "name": "stderr"
        },
        {
          "output_type": "display_data",
          "data": {
            "text/html": [
              "<font color = red>Not_duplicate (100%)</font> --> <font color = red>[FAILED]</font><br><font color = bold><font color = underline>Question1</font></font>: Why was the Roman Empire so successful?\n",
              "<font color = bold><font color = underline>Question2</font></font>: What are some of the rarely known facts about the Roman Empire?"
            ],
            "text/plain": [
              "<IPython.core.display.HTML object>"
            ]
          },
          "metadata": {
            "tags": []
          }
        },
        {
          "output_type": "stream",
          "text": [
            "\r[Succeeded / Failed / Total] 7 / 13 / 23:  92%|█████████▏| 23/25 [00:13<00:01,  1.75it/s]"
          ],
          "name": "stderr"
        },
        {
          "output_type": "display_data",
          "data": {
            "text/html": [
              "<font color = red>Not_duplicate (100%)</font> --> <font color = red>[FAILED]</font><br><font color = bold><font color = underline>Question1</font></font>: Is it advisable to sent your cv to a professor with whom you are trying to make contact for graduate admission?\n",
              "<font color = bold><font color = underline>Question2</font></font>: How does contacting a professor before applying factor into graduate admissions?"
            ],
            "text/plain": [
              "<IPython.core.display.HTML object>"
            ]
          },
          "metadata": {
            "tags": []
          }
        },
        {
          "output_type": "stream",
          "text": [
            "[Succeeded / Failed / Total] 7 / 14 / 24:  96%|█████████▌| 24/25 [00:14<00:00,  1.67it/s]"
          ],
          "name": "stderr"
        },
        {
          "output_type": "display_data",
          "data": {
            "text/html": [
              "<font color = red>Not_duplicate (100%)</font> --> <font color = red>[FAILED]</font><br><font color = bold><font color = underline>Question1</font></font>: Does a RainTPL syntax extension for Sublime Text exist? Where can I download it?\n",
              "<font color = bold><font color = underline>Question2</font></font>: How do I hide the find/replace bar in Sublime Text 2?"
            ],
            "text/plain": [
              "<IPython.core.display.HTML object>"
            ]
          },
          "metadata": {
            "tags": []
          }
        },
        {
          "output_type": "stream",
          "text": [
            "\r[Succeeded / Failed / Total] 7 / 15 / 25: 100%|██████████| 25/25 [00:15<00:00,  1.64it/s]"
          ],
          "name": "stderr"
        },
        {
          "output_type": "display_data",
          "data": {
            "text/html": [
              "<font color = red>Not_duplicate (99%)</font> --> <font color = red>[FAILED]</font><br><font color = bold><font color = underline>Question1</font></font>: What is the average salary of a microbiologist in India?\n",
              "<font color = bold><font color = underline>Question2</font></font>: What is the salary for a psychologist in india?"
            ],
            "text/plain": [
              "<IPython.core.display.HTML object>"
            ]
          },
          "metadata": {
            "tags": []
          }
        },
        {
          "output_type": "stream",
          "text": [
            "[Succeeded / Failed / Total] 7 / 16 / 26: : 26it [00:15,  1.64it/s]"
          ],
          "name": "stderr"
        },
        {
          "output_type": "display_data",
          "data": {
            "text/html": [
              "<font color = red>Not_duplicate (100%)</font> --> <font color = red>[FAILED]</font><br><font color = bold><font color = underline>Question1</font></font>: How do you close a Bank of America account?\n",
              "<font color = bold><font color = underline>Question2</font></font>: How can one close a bank account online?"
            ],
            "text/plain": [
              "<IPython.core.display.HTML object>"
            ]
          },
          "metadata": {
            "tags": []
          }
        },
        {
          "output_type": "stream",
          "text": [
            "\r[Succeeded / Failed / Total] 7 / 17 / 27: : 27it [00:16,  1.64it/s]"
          ],
          "name": "stderr"
        },
        {
          "output_type": "display_data",
          "data": {
            "text/html": [
              "<font color = red>Not_duplicate (71%)</font> --> <font color = red>[FAILED]</font><br><font color = bold><font color = underline>Question1</font></font>: How can I create the most popular question on Quora?\n",
              "<font color = bold><font color = underline>Question2</font></font>: Which are the most popular questions on Quora presently that also create the most discussions?"
            ],
            "text/plain": [
              "<IPython.core.display.HTML object>"
            ]
          },
          "metadata": {
            "tags": []
          }
        },
        {
          "output_type": "stream",
          "text": [
            "[Succeeded / Failed / Total] 7 / 18 / 28: : 28it [00:17,  1.61it/s]"
          ],
          "name": "stderr"
        },
        {
          "output_type": "stream",
          "text": [
            "+-------------------------------+--------+\n",
            "| Attack Results                |        |\n",
            "+-------------------------------+--------+\n",
            "| Number of successful attacks: | 7      |\n",
            "| Number of failed attacks:     | 18     |\n",
            "| Number of skipped attacks:    | 3      |\n",
            "| Original accuracy:            | 89.29% |\n",
            "| Accuracy under attack:        | 64.29% |\n",
            "| Attack success rate:          | 28.0%  |\n",
            "| Average perturbed word %:     | 7.15%  |\n",
            "| Average num. words per input: | 22.39  |\n",
            "| Avg num queries:              | 31.32  |\n",
            "+-------------------------------+--------+"
          ],
          "name": "stdout"
        },
        {
          "output_type": "stream",
          "text": [
            "\n",
            "\u001b[34;1mtextattack\u001b[0m: Attack time: 17.388423681259155s\n"
          ],
          "name": "stderr"
        }
      ]
    },
    {
      "cell_type": "code",
      "metadata": {
        "colab": {
          "base_uri": "https://localhost:8080/"
        },
        "id": "qDpOZWJXPe_o",
        "outputId": "b2a993a1-0382-4538-c8bd-00ce04faf35e"
      },
      "source": [
        "from textattack.search_methods import GreedyWordSwapWIR\n",
        "from textattack.constraints.grammaticality import PartOfSpeech\n",
        "from textattack.shared import Attack\n",
        "from textattack.goal_functions import UntargetedClassification\n",
        "from textattack.datasets import HuggingFaceDataset\n",
        "\n",
        "# We're going to use our word swap class as the attack transformation.\n",
        "transformation = Swapper__()\n",
        "\n",
        "constraints = [PartOfSpeech()]\n",
        "\n",
        "search_method = GreedyWordSwapWIR()\n",
        "\n",
        "goal_function = UntargetedClassification(model_wrapper)\n",
        "\n",
        "# Now, let's make the attack from the 4 components:\n",
        "attack = Attack(goal_function, constraints, transformation, search_method)\n",
        "\n",
        "dataset = HuggingFaceDataset(\"glue\", \"qqp\", \"validation\") # Change the dataset"
      ],
      "execution_count": 48,
      "outputs": [
        {
          "output_type": "stream",
          "text": [
            "\u001b[34;1mtextattack\u001b[0m: Unknown if model of class <class 'transformers.models.albert.modeling_albert.AlbertForSequenceClassification'> compatible with goal function <class 'textattack.goal_functions.classification.untargeted_classification.UntargetedClassification'>.\n",
            "Reusing dataset glue (/root/.cache/huggingface/datasets/glue/qqp/1.0.0/dacbe3125aa31d7f70367a07a8a9e72a5a0bfeb5fc42e75c9db75b96da6053ad)\n",
            "\u001b[34;1mtextattack\u001b[0m: Loading \u001b[94mdatasets\u001b[0m dataset \u001b[94mglue\u001b[0m, subset \u001b[94mqqp\u001b[0m, split \u001b[94mvalidation\u001b[0m.\n"
          ],
          "name": "stderr"
        }
      ]
    },
    {
      "cell_type": "code",
      "metadata": {
        "colab": {
          "base_uri": "https://localhost:8080/"
        },
        "id": "ir08WYOBQmjK",
        "outputId": "7aa9d149-36ec-4103-c453-8070581d870a"
      },
      "source": [
        "print(attack)"
      ],
      "execution_count": 49,
      "outputs": [
        {
          "output_type": "stream",
          "text": [
            "Attack(\n",
            "  (search_method): GreedyWordSwapWIR(\n",
            "    (wir_method):  unk\n",
            "  )\n",
            "  (goal_function):  UntargetedClassification\n",
            "  (transformation):  Swapper__\n",
            "  (constraints): \n",
            "    (0): PartOfSpeech(\n",
            "        (tagger_type):  nltk\n",
            "        (tagset):  universal\n",
            "        (allow_verb_noun_swap):  True\n",
            "        (compare_against_original):  True\n",
            "      )\n",
            "  (is_black_box):  True\n",
            ")\n"
          ],
          "name": "stdout"
        }
      ]
    },
    {
      "cell_type": "code",
      "metadata": {
        "colab": {
          "base_uri": "https://localhost:8080/",
          "height": 1000
        },
        "id": "R4Pio6_BQoS6",
        "outputId": "17fa1de5-8ad2-452b-93ec-4d9b3b4b1384"
      },
      "source": [
        "printexample(attack)"
      ],
      "execution_count": 50,
      "outputs": [
        {
          "output_type": "stream",
          "text": [
            "\r  0%|          | 0/25 [00:00<?, ?it/s]"
          ],
          "name": "stderr"
        },
        {
          "output_type": "stream",
          "text": [
            "Attack(\n",
            "  (search_method): GreedyWordSwapWIR(\n",
            "    (wir_method):  unk\n",
            "  )\n",
            "  (goal_function):  UntargetedClassification\n",
            "  (transformation):  Swapper__\n",
            "  (constraints): \n",
            "    (0): PartOfSpeech(\n",
            "        (tagger_type):  nltk\n",
            "        (tagset):  universal\n",
            "        (allow_verb_noun_swap):  True\n",
            "        (compare_against_original):  True\n",
            "      )\n",
            "  (is_black_box):  True\n",
            ")\n"
          ],
          "name": "stdout"
        },
        {
          "output_type": "display_data",
          "data": {
            "text/html": [
              "<font color = red>Not_duplicate (89%)</font> --> <font color = red>[FAILED]</font><br><font color = bold><font color = underline>Question1</font></font>: Why are African-Americans so beautiful?\n",
              "<font color = bold><font color = underline>Question2</font></font>: Why are hispanics so beautiful?"
            ],
            "text/plain": [
              "<IPython.core.display.HTML object>"
            ]
          },
          "metadata": {
            "tags": []
          }
        },
        {
          "output_type": "stream",
          "text": [
            "[Succeeded / Failed / Total] 0 / 1 / 1:   4%|▍         | 1/25 [00:00<00:12,  1.96it/s]"
          ],
          "name": "stderr"
        },
        {
          "output_type": "display_data",
          "data": {
            "text/html": [
              "<font color = red>Not_duplicate (100%)</font> --> <font color = red>[FAILED]</font><br><font color = bold><font color = underline>Question1</font></font>: I want to pursue PhD in Computer Science about social network,what is the open problem in social networks?\n",
              "<font color = bold><font color = underline>Question2</font></font>: I handle social media for a non-profit. Should I start going to social media networking events? Are there any good ones in the bay area?"
            ],
            "text/plain": [
              "<IPython.core.display.HTML object>"
            ]
          },
          "metadata": {
            "tags": []
          }
        },
        {
          "output_type": "stream",
          "text": [
            "[Succeeded / Failed / Total] 0 / 2 / 2:   8%|▊         | 2/25 [00:02<00:28,  1.25s/it]"
          ],
          "name": "stderr"
        },
        {
          "output_type": "display_data",
          "data": {
            "text/html": [
              "<font color = green>Duplicate (97%)</font> --> <font color = red>Not_duplicate (100%)</font><br><font color = bold><font color = underline>Question1</font></font>: Is there a reason why we should <font color = green>travel</font> alone?\n",
              "<font color = bold><font color = underline>Question2</font></font>: What are some reasons to travel alone?<br><font color = bold><font color = underline>Question1</font></font>: Is there a reason why we should <font color = red>interstellar</font> alone?\n",
              "<font color = bold><font color = underline>Question2</font></font>: What are some reasons to travel alone?"
            ],
            "text/plain": [
              "<IPython.core.display.HTML object>"
            ]
          },
          "metadata": {
            "tags": []
          }
        },
        {
          "output_type": "stream",
          "text": [
            "[Succeeded / Failed / Total] 1 / 2 / 3:  12%|█▏        | 3/25 [00:02<00:20,  1.05it/s]"
          ],
          "name": "stderr"
        },
        {
          "output_type": "display_data",
          "data": {
            "text/html": [
              "<font color = red>Not_duplicate (100%)</font> --> <font color = red>[FAILED]</font><br><font color = bold><font color = underline>Question1</font></font>: Why are people so obsessed with having a girlfriend/boyfriend?\n",
              "<font color = bold><font color = underline>Question2</font></font>: How can a single male have a child?"
            ],
            "text/plain": [
              "<IPython.core.display.HTML object>"
            ]
          },
          "metadata": {
            "tags": []
          }
        },
        {
          "output_type": "stream",
          "text": [
            "[Succeeded / Failed / Total] 1 / 3 / 4:  16%|█▌        | 4/25 [00:03<00:20,  1.03it/s]"
          ],
          "name": "stderr"
        },
        {
          "output_type": "display_data",
          "data": {
            "text/html": [
              "<font color = red>Not_duplicate (81%)</font> --> <font color = green>Duplicate (52%)</font><br><font color = bold><font color = underline>Question1</font></font>: What are some good baby girl names starting with D?\n",
              "<font color = bold><font color = underline>Question2</font></font>: What are some good baby girl <font color = red>names</font> starting with D or H?<br><font color = bold><font color = underline>Question1</font></font>: What are some good baby girl names starting with D?\n",
              "<font color = bold><font color = underline>Question2</font></font>: What are some good baby girl <font color = green>name</font> starting with D or H?"
            ],
            "text/plain": [
              "<IPython.core.display.HTML object>"
            ]
          },
          "metadata": {
            "tags": []
          }
        },
        {
          "output_type": "stream",
          "text": [
            "[Succeeded / Failed / Total] 2 / 3 / 5:  20%|██        | 5/25 [00:04<00:17,  1.15it/s]"
          ],
          "name": "stderr"
        },
        {
          "output_type": "display_data",
          "data": {
            "text/html": [
              "<font color = green>Duplicate (96%)</font> --> <font color = red>Not_duplicate (99%)</font><br><font color = bold><font color = underline>Question1</font></font>: I am 25 year old guy and <font color = green>never</font> had a girlfriend. Is this weird?\n",
              "<font color = bold><font color = underline>Question2</font></font>: I am 25 years old. I have never <font color = green>had</font> a <font color = green>girlfriend</font>. Is something wrong with me?<br><font color = bold><font color = underline>Question1</font></font>: I am 25 year old guy and <font color = red>actually</font> had a girlfriend. Is this weird?\n",
              "<font color = bold><font color = underline>Question2</font></font>: I am 25 years old. I have never <font color = red>having</font> a <font color = red>boyfriend</font>. Is something wrong with me?"
            ],
            "text/plain": [
              "<IPython.core.display.HTML object>"
            ]
          },
          "metadata": {
            "tags": []
          }
        },
        {
          "output_type": "stream",
          "text": [
            "[Succeeded / Failed / Total] 3 / 3 / 6:  24%|██▍       | 6/25 [00:05<00:16,  1.18it/s]"
          ],
          "name": "stderr"
        },
        {
          "output_type": "display_data",
          "data": {
            "text/html": [
              "<font color = red>Not_duplicate (100%)</font> --> <font color = gray>[SKIPPED]</font><br><font color = bold><font color = underline>Question1</font></font>: \"What does a good answer on Quora look like? What does it mean to \"\"be helpful\"\"?\"\n",
              "<font color = bold><font color = underline>Question2</font></font>: How do you write a good answer on Quora?"
            ],
            "text/plain": [
              "<IPython.core.display.HTML object>"
            ]
          },
          "metadata": {
            "tags": []
          }
        },
        {
          "output_type": "stream",
          "text": [
            "\r[Succeeded / Failed / Total] 3 / 3 / 7:  28%|██▊       | 7/25 [00:05<00:13,  1.37it/s]"
          ],
          "name": "stderr"
        },
        {
          "output_type": "display_data",
          "data": {
            "text/html": [
              "<font color = green>Duplicate (82%)</font> --> <font color = red>Not_duplicate (100%)</font><br><font color = bold><font color = underline>Question1</font></font>: What are the best things to do in Hong Kong?\n",
              "<font color = bold><font color = underline>Question2</font></font>: What is the <font color = green>best</font> thing in Hong Kong?<br><font color = bold><font color = underline>Question1</font></font>: What are the best things to do in Hong Kong?\n",
              "<font color = bold><font color = underline>Question2</font></font>: What is the <font color = red>rnb</font> thing in Hong Kong?"
            ],
            "text/plain": [
              "<IPython.core.display.HTML object>"
            ]
          },
          "metadata": {
            "tags": []
          }
        },
        {
          "output_type": "stream",
          "text": [
            "[Succeeded / Failed / Total] 4 / 3 / 8:  32%|███▏      | 8/25 [00:05<00:11,  1.46it/s]"
          ],
          "name": "stderr"
        },
        {
          "output_type": "display_data",
          "data": {
            "text/html": [
              "<font color = green>Duplicate (54%)</font> --> <font color = gray>[SKIPPED]</font><br><font color = bold><font color = underline>Question1</font></font>: Why is my life getting so complicated?\n",
              "<font color = bold><font color = underline>Question2</font></font>: Why is my life so complicated?"
            ],
            "text/plain": [
              "<IPython.core.display.HTML object>"
            ]
          },
          "metadata": {
            "tags": []
          }
        },
        {
          "output_type": "stream",
          "text": [
            "\r[Succeeded / Failed / Total] 4 / 3 / 9:  36%|███▌      | 9/25 [00:05<00:09,  1.63it/s]"
          ],
          "name": "stderr"
        },
        {
          "output_type": "display_data",
          "data": {
            "text/html": [
              "<font color = red>Not_duplicate (100%)</font> --> <font color = red>[FAILED]</font><br><font color = bold><font color = underline>Question1</font></font>: Why should I crack Jee?\n",
              "<font color = bold><font color = underline>Question2</font></font>: Is it possible to get into IIMs with low marks in graduation and 12th?"
            ],
            "text/plain": [
              "<IPython.core.display.HTML object>"
            ]
          },
          "metadata": {
            "tags": []
          }
        },
        {
          "output_type": "stream",
          "text": [
            "[Succeeded / Failed / Total] 4 / 4 / 10:  40%|████      | 10/25 [00:06<00:09,  1.58it/s]"
          ],
          "name": "stderr"
        },
        {
          "output_type": "display_data",
          "data": {
            "text/html": [
              "<font color = red>Not_duplicate (100%)</font> --> <font color = red>[FAILED]</font><br><font color = bold><font color = underline>Question1</font></font>: Can you TRANSLATE these to English language?\n",
              "<font color = bold><font color = underline>Question2</font></font>: Can you translate this from Bengali to English language?"
            ],
            "text/plain": [
              "<IPython.core.display.HTML object>"
            ]
          },
          "metadata": {
            "tags": []
          }
        },
        {
          "output_type": "stream",
          "text": [
            "\r[Succeeded / Failed / Total] 4 / 5 / 11:  44%|████▍     | 11/25 [00:06<00:08,  1.59it/s]"
          ],
          "name": "stderr"
        },
        {
          "output_type": "display_data",
          "data": {
            "text/html": [
              "<font color = red>Not_duplicate (100%)</font> --> <font color = red>[FAILED]</font><br><font color = bold><font color = underline>Question1</font></font>: Can anyone tell shall mi mix mobile should be purchased or not?\n",
              "<font color = bold><font color = underline>Question2</font></font>: \"What did Voltaire mean when he said, \"\"God is a comedian playing to an audience that is too afraid to laugh\"\"?\""
            ],
            "text/plain": [
              "<IPython.core.display.HTML object>"
            ]
          },
          "metadata": {
            "tags": []
          }
        },
        {
          "output_type": "stream",
          "text": [
            "[Succeeded / Failed / Total] 4 / 6 / 12:  48%|████▊     | 12/25 [00:08<00:09,  1.41it/s]"
          ],
          "name": "stderr"
        },
        {
          "output_type": "display_data",
          "data": {
            "text/html": [
              "<font color = green>Duplicate (100%)</font> --> <font color = red>Not_duplicate (89%)</font><br><font color = bold><font color = underline>Question1</font></font>: Which <font color = green>is</font> the best gaming laptop under 40k?\n",
              "<font color = bold><font color = underline>Question2</font></font>: Which is the best gaming laptop under 40,000 rs?<br><font color = bold><font color = underline>Question1</font></font>: Which <font color = red>polylogarithm</font> the best gaming laptop under 40k?\n",
              "<font color = bold><font color = underline>Question2</font></font>: Which is the best gaming laptop under 40,000 rs?"
            ],
            "text/plain": [
              "<IPython.core.display.HTML object>"
            ]
          },
          "metadata": {
            "tags": []
          }
        },
        {
          "output_type": "stream",
          "text": [
            "\r[Succeeded / Failed / Total] 5 / 6 / 13:  52%|█████▏    | 13/25 [00:08<00:08,  1.46it/s]"
          ],
          "name": "stderr"
        },
        {
          "output_type": "display_data",
          "data": {
            "text/html": [
              "<font color = red>Not_duplicate (100%)</font> --> <font color = red>[FAILED]</font><br><font color = bold><font color = underline>Question1</font></font>: Why Tamil Nadu Universities are no good?\n",
              "<font color = bold><font color = underline>Question2</font></font>: Why are the 10th students able to score 100% in Tamil Nadu?"
            ],
            "text/plain": [
              "<IPython.core.display.HTML object>"
            ]
          },
          "metadata": {
            "tags": []
          }
        },
        {
          "output_type": "stream",
          "text": [
            "[Succeeded / Failed / Total] 5 / 7 / 14:  56%|█████▌    | 14/25 [00:09<00:07,  1.46it/s]"
          ],
          "name": "stderr"
        },
        {
          "output_type": "display_data",
          "data": {
            "text/html": [
              "<font color = red>Not_duplicate (100%)</font> --> <font color = red>[FAILED]</font><br><font color = bold><font color = underline>Question1</font></font>: What is an easy way to clean toothpaste stains from a shirt without washing it?\n",
              "<font color = bold><font color = underline>Question2</font></font>: What are some ways to remove hard water stains from dishes?"
            ],
            "text/plain": [
              "<IPython.core.display.HTML object>"
            ]
          },
          "metadata": {
            "tags": []
          }
        },
        {
          "output_type": "stream",
          "text": [
            "\r[Succeeded / Failed / Total] 5 / 8 / 15:  60%|██████    | 15/25 [00:10<00:07,  1.38it/s]"
          ],
          "name": "stderr"
        },
        {
          "output_type": "display_data",
          "data": {
            "text/html": [
              "<font color = green>Duplicate (89%)</font> --> <font color = red>Not_duplicate (100%)</font><br><font color = bold><font color = underline>Question1</font></font>: What was the deadliest battle in history?\n",
              "<font color = bold><font color = underline>Question2</font></font>: What was the bloodiest <font color = green>battle</font> in history?<br><font color = bold><font color = underline>Question1</font></font>: What was the deadliest battle in history?\n",
              "<font color = bold><font color = underline>Question2</font></font>: What was the bloodiest <font color = red>agincourt</font> in history?"
            ],
            "text/plain": [
              "<IPython.core.display.HTML object>"
            ]
          },
          "metadata": {
            "tags": []
          }
        },
        {
          "output_type": "stream",
          "text": [
            "[Succeeded / Failed / Total] 6 / 8 / 16:  64%|██████▍   | 16/25 [00:11<00:06,  1.43it/s]"
          ],
          "name": "stderr"
        },
        {
          "output_type": "display_data",
          "data": {
            "text/html": [
              "<font color = green>Duplicate (100%)</font> --> <font color = red>Not_duplicate (99%)</font><br><font color = bold><font color = underline>Question1</font></font>: What are your views about demonetisation in India?\n",
              "<font color = bold><font color = underline>Question2</font></font>: What do you <font color = green>think</font> about the <font color = green>ban</font> on 500 and 1000 denomination notes in India?<br><font color = bold><font color = underline>Question1</font></font>: What are your views about demonetisation in India?\n",
              "<font color = bold><font color = underline>Question2</font></font>: What do you <font color = red>want</font> about the <font color = red>ozone</font> on 500 and 1000 denomination notes in India?"
            ],
            "text/plain": [
              "<IPython.core.display.HTML object>"
            ]
          },
          "metadata": {
            "tags": []
          }
        },
        {
          "output_type": "stream",
          "text": [
            "\r[Succeeded / Failed / Total] 7 / 8 / 17:  68%|██████▊   | 17/25 [00:11<00:05,  1.44it/s]"
          ],
          "name": "stderr"
        },
        {
          "output_type": "display_data",
          "data": {
            "text/html": [
              "<font color = red>Not_duplicate (100%)</font> --> <font color = red>[FAILED]</font><br><font color = bold><font color = underline>Question1</font></font>: What are the difference between polyester 210T and 210D?\n",
              "<font color = bold><font color = underline>Question2</font></font>: What is the difference between cotton and polyester?"
            ],
            "text/plain": [
              "<IPython.core.display.HTML object>"
            ]
          },
          "metadata": {
            "tags": []
          }
        },
        {
          "output_type": "stream",
          "text": [
            "[Succeeded / Failed / Total] 7 / 9 / 18:  72%|███████▏  | 18/25 [00:12<00:04,  1.44it/s]"
          ],
          "name": "stderr"
        },
        {
          "output_type": "display_data",
          "data": {
            "text/html": [
              "<font color = red>Not_duplicate (82%)</font> --> <font color = red>[FAILED]</font><br><font color = bold><font color = underline>Question1</font></font>: Is FMS Delhi a good option for a MBA executive program?\n",
              "<font color = bold><font color = underline>Question2</font></font>: Is FMS a good choice for an MBA in HR? Why and why not?"
            ],
            "text/plain": [
              "<IPython.core.display.HTML object>"
            ]
          },
          "metadata": {
            "tags": []
          }
        },
        {
          "output_type": "stream",
          "text": [
            "\r[Succeeded / Failed / Total] 7 / 10 / 19:  76%|███████▌  | 19/25 [00:13<00:04,  1.40it/s]"
          ],
          "name": "stderr"
        },
        {
          "output_type": "display_data",
          "data": {
            "text/html": [
              "<font color = red>Not_duplicate (63%)</font> --> <font color = gray>[SKIPPED]</font><br><font color = bold><font color = underline>Question1</font></font>: Is it a bad time to buy a condo or a house in the Bay Area in 2017?\n",
              "<font color = bold><font color = underline>Question2</font></font>: Would 2017 be a good time to buy a house in Bay Area?"
            ],
            "text/plain": [
              "<IPython.core.display.HTML object>"
            ]
          },
          "metadata": {
            "tags": []
          }
        },
        {
          "output_type": "stream",
          "text": [
            "[Succeeded / Failed / Total] 7 / 10 / 20:  80%|████████  | 20/25 [00:13<00:03,  1.47it/s]"
          ],
          "name": "stderr"
        },
        {
          "output_type": "display_data",
          "data": {
            "text/html": [
              "<font color = red>Not_duplicate (100%)</font> --> <font color = red>[FAILED]</font><br><font color = bold><font color = underline>Question1</font></font>: How is vanilla extract made?\n",
              "<font color = bold><font color = underline>Question2</font></font>: How do you make sugar cookies without vanilla extract?"
            ],
            "text/plain": [
              "<IPython.core.display.HTML object>"
            ]
          },
          "metadata": {
            "tags": []
          }
        },
        {
          "output_type": "stream",
          "text": [
            "\r[Succeeded / Failed / Total] 7 / 11 / 21:  84%|████████▍ | 21/25 [00:14<00:02,  1.47it/s]"
          ],
          "name": "stderr"
        },
        {
          "output_type": "display_data",
          "data": {
            "text/html": [
              "<font color = green>Duplicate (100%)</font> --> <font color = red>Not_duplicate (98%)</font><br><font color = bold><font color = underline>Question1</font></font>: What is the Sahara, and how do the average temperatures there compare to the ones in the Patagonian Desert?\n",
              "<font color = bold><font color = underline>Question2</font></font>: What is the Sahara, and how do the average <font color = green>temperatures</font> there compare to the ones in the Registan Desert?<br><font color = bold><font color = underline>Question1</font></font>: What is the Sahara, and how do the average temperatures there compare to the ones in the Patagonian Desert?\n",
              "<font color = bold><font color = underline>Question2</font></font>: What is the Sahara, and how do the average <font color = red>pressures</font> there compare to the ones in the Registan Desert?"
            ],
            "text/plain": [
              "<IPython.core.display.HTML object>"
            ]
          },
          "metadata": {
            "tags": []
          }
        },
        {
          "output_type": "stream",
          "text": [
            "[Succeeded / Failed / Total] 8 / 11 / 22:  88%|████████▊ | 22/25 [00:15<00:02,  1.46it/s]"
          ],
          "name": "stderr"
        },
        {
          "output_type": "display_data",
          "data": {
            "text/html": [
              "<font color = red>Not_duplicate (100%)</font> --> <font color = red>[FAILED]</font><br><font color = bold><font color = underline>Question1</font></font>: Why was the Roman Empire so successful?\n",
              "<font color = bold><font color = underline>Question2</font></font>: What are some of the rarely known facts about the Roman Empire?"
            ],
            "text/plain": [
              "<IPython.core.display.HTML object>"
            ]
          },
          "metadata": {
            "tags": []
          }
        },
        {
          "output_type": "stream",
          "text": [
            "\r[Succeeded / Failed / Total] 8 / 12 / 23:  92%|█████████▏| 23/25 [00:15<00:01,  1.46it/s]"
          ],
          "name": "stderr"
        },
        {
          "output_type": "display_data",
          "data": {
            "text/html": [
              "<font color = red>Not_duplicate (100%)</font> --> <font color = red>[FAILED]</font><br><font color = bold><font color = underline>Question1</font></font>: Is it advisable to sent your cv to a professor with whom you are trying to make contact for graduate admission?\n",
              "<font color = bold><font color = underline>Question2</font></font>: How does contacting a professor before applying factor into graduate admissions?"
            ],
            "text/plain": [
              "<IPython.core.display.HTML object>"
            ]
          },
          "metadata": {
            "tags": []
          }
        },
        {
          "output_type": "stream",
          "text": [
            "[Succeeded / Failed / Total] 8 / 13 / 24:  96%|█████████▌| 24/25 [00:17<00:00,  1.36it/s]"
          ],
          "name": "stderr"
        },
        {
          "output_type": "display_data",
          "data": {
            "text/html": [
              "<font color = red>Not_duplicate (100%)</font> --> <font color = red>[FAILED]</font><br><font color = bold><font color = underline>Question1</font></font>: Does a RainTPL syntax extension for Sublime Text exist? Where can I download it?\n",
              "<font color = bold><font color = underline>Question2</font></font>: How do I hide the find/replace bar in Sublime Text 2?"
            ],
            "text/plain": [
              "<IPython.core.display.HTML object>"
            ]
          },
          "metadata": {
            "tags": []
          }
        },
        {
          "output_type": "stream",
          "text": [
            "\r[Succeeded / Failed / Total] 8 / 14 / 25: 100%|██████████| 25/25 [00:18<00:00,  1.34it/s]"
          ],
          "name": "stderr"
        },
        {
          "output_type": "display_data",
          "data": {
            "text/html": [
              "<font color = red>Not_duplicate (99%)</font> --> <font color = green>Duplicate (51%)</font><br><font color = bold><font color = underline>Question1</font></font>: What is the average salary of a microbiologist in India?\n",
              "<font color = bold><font color = underline>Question2</font></font>: What is the salary for a <font color = red>psychologist</font> in india?<br><font color = bold><font color = underline>Question1</font></font>: What is the average salary of a microbiologist in India?\n",
              "<font color = bold><font color = underline>Question2</font></font>: What is the salary for a <font color = green>zoologist</font> in india?"
            ],
            "text/plain": [
              "<IPython.core.display.HTML object>"
            ]
          },
          "metadata": {
            "tags": []
          }
        },
        {
          "output_type": "stream",
          "text": [
            "[Succeeded / Failed / Total] 9 / 14 / 26: : 26it [00:19,  1.33it/s]"
          ],
          "name": "stderr"
        },
        {
          "output_type": "display_data",
          "data": {
            "text/html": [
              "<font color = red>Not_duplicate (100%)</font> --> <font color = red>[FAILED]</font><br><font color = bold><font color = underline>Question1</font></font>: How do you close a Bank of America account?\n",
              "<font color = bold><font color = underline>Question2</font></font>: How can one close a bank account online?"
            ],
            "text/plain": [
              "<IPython.core.display.HTML object>"
            ]
          },
          "metadata": {
            "tags": []
          }
        },
        {
          "output_type": "stream",
          "text": [
            "\r[Succeeded / Failed / Total] 9 / 15 / 27: : 27it [00:20,  1.33it/s]"
          ],
          "name": "stderr"
        },
        {
          "output_type": "display_data",
          "data": {
            "text/html": [
              "<font color = red>Not_duplicate (71%)</font> --> <font color = red>[FAILED]</font><br><font color = bold><font color = underline>Question1</font></font>: How can I create the most popular question on Quora?\n",
              "<font color = bold><font color = underline>Question2</font></font>: Which are the most popular questions on Quora presently that also create the most discussions?"
            ],
            "text/plain": [
              "<IPython.core.display.HTML object>"
            ]
          },
          "metadata": {
            "tags": []
          }
        },
        {
          "output_type": "stream",
          "text": [
            "[Succeeded / Failed / Total] 9 / 16 / 28: : 28it [00:21,  1.31it/s]"
          ],
          "name": "stderr"
        },
        {
          "output_type": "stream",
          "text": [
            "+-------------------------------+--------+\n",
            "| Attack Results                |        |\n",
            "+-------------------------------+--------+\n",
            "| Number of successful attacks: | 9      |\n",
            "| Number of failed attacks:     | 16     |\n",
            "| Number of skipped attacks:    | 3      |\n",
            "| Original accuracy:            | 89.29% |\n",
            "| Accuracy under attack:        | 57.14% |\n",
            "| Attack success rate:          | 36.0%  |\n",
            "| Average perturbed word %:     | 6.18%  |\n",
            "| Average num. words per input: | 22.39  |\n",
            "| Avg num queries:              | 29.56  |\n",
            "+-------------------------------+--------+"
          ],
          "name": "stdout"
        },
        {
          "output_type": "stream",
          "text": [
            "\n",
            "\u001b[34;1mtextattack\u001b[0m: Attack time: 21.40609383583069s\n"
          ],
          "name": "stderr"
        }
      ]
    },
    {
      "cell_type": "code",
      "metadata": {
        "colab": {
          "base_uri": "https://localhost:8080/"
        },
        "id": "wr5Yq7uz1Kq9",
        "outputId": "a355d52b-6479-449b-b859-c9ab1c02cb2f"
      },
      "source": [
        "from textattack.search_methods import ParticleSwarmOptimization\n",
        "from textattack.constraints.grammaticality import PartOfSpeech\n",
        "from textattack.shared import Attack\n",
        "from textattack.goal_functions import UntargetedClassification\n",
        "from textattack.datasets import HuggingFaceDataset\n",
        "\n",
        "# We're going to use our word swap class as the attack transformation.\n",
        "transformation = Swapper()\n",
        "\n",
        "constraints = [PartOfSpeech()]\n",
        "\n",
        "search_method = ParticleSwarmOptimization(pop_size=10,max_iters=5)\n",
        "\n",
        "goal_function = UntargetedClassification(model_wrapper)\n",
        "\n",
        "# Now, let's make the attack from the 4 components:\n",
        "attack = Attack(goal_function, constraints, transformation, search_method)\n",
        "\n",
        "dataset = HuggingFaceDataset(\"glue\", \"qqp\", \"validation\") # Change the dataset"
      ],
      "execution_count": 51,
      "outputs": [
        {
          "output_type": "stream",
          "text": [
            "\u001b[34;1mtextattack\u001b[0m: Unknown if model of class <class 'transformers.models.albert.modeling_albert.AlbertForSequenceClassification'> compatible with goal function <class 'textattack.goal_functions.classification.untargeted_classification.UntargetedClassification'>.\n",
            "Reusing dataset glue (/root/.cache/huggingface/datasets/glue/qqp/1.0.0/dacbe3125aa31d7f70367a07a8a9e72a5a0bfeb5fc42e75c9db75b96da6053ad)\n",
            "\u001b[34;1mtextattack\u001b[0m: Loading \u001b[94mdatasets\u001b[0m dataset \u001b[94mglue\u001b[0m, subset \u001b[94mqqp\u001b[0m, split \u001b[94mvalidation\u001b[0m.\n"
          ],
          "name": "stderr"
        }
      ]
    },
    {
      "cell_type": "code",
      "metadata": {
        "colab": {
          "base_uri": "https://localhost:8080/"
        },
        "id": "XpkxiVj02xk-",
        "outputId": "8078b3a8-529f-4974-affb-3af60f965e73"
      },
      "source": [
        "print(attack)"
      ],
      "execution_count": 52,
      "outputs": [
        {
          "output_type": "stream",
          "text": [
            "Attack(\n",
            "  (search_method): ParticleSwarmOptimization(\n",
            "    (pop_size):  10\n",
            "    (max_iters):  5\n",
            "    (post_turn_check):  True\n",
            "    (max_turn_retries):  20\n",
            "  )\n",
            "  (goal_function):  UntargetedClassification\n",
            "  (transformation):  Swapper\n",
            "  (constraints): \n",
            "    (0): PartOfSpeech(\n",
            "        (tagger_type):  nltk\n",
            "        (tagset):  universal\n",
            "        (allow_verb_noun_swap):  True\n",
            "        (compare_against_original):  True\n",
            "      )\n",
            "  (is_black_box):  True\n",
            ")\n"
          ],
          "name": "stdout"
        }
      ]
    },
    {
      "cell_type": "code",
      "metadata": {
        "colab": {
          "base_uri": "https://localhost:8080/",
          "height": 1000
        },
        "id": "LGbTuwOQ24BO",
        "outputId": "ab23a550-3a4e-4e0b-ef10-a84bce98e154"
      },
      "source": [
        "printexample(attack)"
      ],
      "execution_count": 53,
      "outputs": [
        {
          "output_type": "stream",
          "text": [
            "\r  0%|          | 0/25 [00:00<?, ?it/s]"
          ],
          "name": "stderr"
        },
        {
          "output_type": "stream",
          "text": [
            "Attack(\n",
            "  (search_method): ParticleSwarmOptimization(\n",
            "    (pop_size):  10\n",
            "    (max_iters):  5\n",
            "    (post_turn_check):  True\n",
            "    (max_turn_retries):  20\n",
            "  )\n",
            "  (goal_function):  UntargetedClassification\n",
            "  (transformation):  Swapper\n",
            "  (constraints): \n",
            "    (0): PartOfSpeech(\n",
            "        (tagger_type):  nltk\n",
            "        (tagset):  universal\n",
            "        (allow_verb_noun_swap):  True\n",
            "        (compare_against_original):  True\n",
            "      )\n",
            "  (is_black_box):  True\n",
            ")\n"
          ],
          "name": "stdout"
        },
        {
          "output_type": "display_data",
          "data": {
            "text/html": [
              "<font color = red>Not_duplicate (89%)</font> --> <font color = red>[FAILED]</font><br><font color = bold><font color = underline>Question1</font></font>: Why are African-Americans so beautiful?\n",
              "<font color = bold><font color = underline>Question2</font></font>: Why are hispanics so beautiful?"
            ],
            "text/plain": [
              "<IPython.core.display.HTML object>"
            ]
          },
          "metadata": {
            "tags": []
          }
        },
        {
          "output_type": "stream",
          "text": [
            "[Succeeded / Failed / Total] 0 / 1 / 1:   4%|▍         | 1/25 [00:06<02:34,  6.43s/it]"
          ],
          "name": "stderr"
        },
        {
          "output_type": "display_data",
          "data": {
            "text/html": [
              "<font color = red>Not_duplicate (100%)</font> --> <font color = red>[FAILED]</font><br><font color = bold><font color = underline>Question1</font></font>: I want to pursue PhD in Computer Science about social network,what is the open problem in social networks?\n",
              "<font color = bold><font color = underline>Question2</font></font>: I handle social media for a non-profit. Should I start going to social media networking events? Are there any good ones in the bay area?"
            ],
            "text/plain": [
              "<IPython.core.display.HTML object>"
            ]
          },
          "metadata": {
            "tags": []
          }
        },
        {
          "output_type": "stream",
          "text": [
            "[Succeeded / Failed / Total] 0 / 2 / 2:   8%|▊         | 2/25 [00:42<08:08, 21.25s/it]"
          ],
          "name": "stderr"
        },
        {
          "output_type": "display_data",
          "data": {
            "text/html": [
              "<font color = green>Duplicate (97%)</font> --> <font color = red>Not_duplicate (52%)</font><br><font color = bold><font color = underline>Question1</font></font>: Is there a reason <font color = green>why</font> <font color = green>we</font> should travel alone?\n",
              "<font color = bold><font color = underline>Question2</font></font>: What are some reasons to travel alone?<br><font color = bold><font color = underline>Question1</font></font>: Is there a reason <font color = red>how</font> <font color = red>you</font> should travel alone?\n",
              "<font color = bold><font color = underline>Question2</font></font>: What are some reasons to travel alone?"
            ],
            "text/plain": [
              "<IPython.core.display.HTML object>"
            ]
          },
          "metadata": {
            "tags": []
          }
        },
        {
          "output_type": "stream",
          "text": [
            "[Succeeded / Failed / Total] 1 / 2 / 3:  12%|█▏        | 3/25 [00:42<05:14, 14.31s/it]"
          ],
          "name": "stderr"
        },
        {
          "output_type": "display_data",
          "data": {
            "text/html": [
              "<font color = red>Not_duplicate (100%)</font> --> <font color = red>[FAILED]</font><br><font color = bold><font color = underline>Question1</font></font>: Why are people so obsessed with having a girlfriend/boyfriend?\n",
              "<font color = bold><font color = underline>Question2</font></font>: How can a single male have a child?"
            ],
            "text/plain": [
              "<IPython.core.display.HTML object>"
            ]
          },
          "metadata": {
            "tags": []
          }
        },
        {
          "output_type": "stream",
          "text": [
            "[Succeeded / Failed / Total] 1 / 3 / 4:  16%|█▌        | 4/25 [00:56<04:58, 14.20s/it]"
          ],
          "name": "stderr"
        },
        {
          "output_type": "display_data",
          "data": {
            "text/html": [
              "<font color = red>Not_duplicate (81%)</font> --> <font color = green>Duplicate (94%)</font><br><font color = bold><font color = underline>Question1</font></font>: What are some good baby girl names starting with D?\n",
              "<font color = bold><font color = underline>Question2</font></font>: What are some good baby girl names starting with D or <font color = red>H</font>?<br><font color = bold><font color = underline>Question1</font></font>: What are some good baby girl names starting with D?\n",
              "<font color = bold><font color = underline>Question2</font></font>: What are some good baby girl names starting with D or <font color = green>QUE</font>?"
            ],
            "text/plain": [
              "<IPython.core.display.HTML object>"
            ]
          },
          "metadata": {
            "tags": []
          }
        },
        {
          "output_type": "stream",
          "text": [
            "[Succeeded / Failed / Total] 2 / 3 / 5:  20%|██        | 5/25 [00:57<03:49, 11.47s/it]"
          ],
          "name": "stderr"
        },
        {
          "output_type": "display_data",
          "data": {
            "text/html": [
              "<font color = green>Duplicate (96%)</font> --> <font color = red>Not_duplicate (74%)</font><br><font color = bold><font color = underline>Question1</font></font>: I am 25 year old guy and never had a <font color = green>girlfriend</font>. Is <font color = green>this</font> weird?\n",
              "<font color = bold><font color = underline>Question2</font></font>: I am 25 years old. I have never had a girlfriend. Is something wrong with me?<br><font color = bold><font color = underline>Question1</font></font>: I am 25 year old guy and never had a <font color = red>boyfriend</font>. Is <font color = red>which</font> weird?\n",
              "<font color = bold><font color = underline>Question2</font></font>: I am 25 years old. I have never had a girlfriend. Is something wrong with me?"
            ],
            "text/plain": [
              "<IPython.core.display.HTML object>"
            ]
          },
          "metadata": {
            "tags": []
          }
        },
        {
          "output_type": "stream",
          "text": [
            "[Succeeded / Failed / Total] 3 / 3 / 6:  24%|██▍       | 6/25 [00:58<03:03,  9.68s/it]"
          ],
          "name": "stderr"
        },
        {
          "output_type": "display_data",
          "data": {
            "text/html": [
              "<font color = red>Not_duplicate (100%)</font> --> <font color = gray>[SKIPPED]</font><br><font color = bold><font color = underline>Question1</font></font>: \"What does a good answer on Quora look like? What does it mean to \"\"be helpful\"\"?\"\n",
              "<font color = bold><font color = underline>Question2</font></font>: How do you write a good answer on Quora?"
            ],
            "text/plain": [
              "<IPython.core.display.HTML object>"
            ]
          },
          "metadata": {
            "tags": []
          }
        },
        {
          "output_type": "stream",
          "text": [
            "\r[Succeeded / Failed / Total] 3 / 3 / 7:  28%|██▊       | 7/25 [00:58<02:29,  8.30s/it]"
          ],
          "name": "stderr"
        },
        {
          "output_type": "display_data",
          "data": {
            "text/html": [
              "<font color = green>Duplicate (82%)</font> --> <font color = red>Not_duplicate (100%)</font><br><font color = bold><font color = underline>Question1</font></font>: What are the best things to do in <font color = green>Hong</font> Kong?\n",
              "<font color = bold><font color = underline>Question2</font></font>: What is the best thing in Hong Kong?<br><font color = bold><font color = underline>Question1</font></font>: What are the best things to do in <font color = red>Yong</font> Kong?\n",
              "<font color = bold><font color = underline>Question2</font></font>: What is the best thing in Hong Kong?"
            ],
            "text/plain": [
              "<IPython.core.display.HTML object>"
            ]
          },
          "metadata": {
            "tags": []
          }
        },
        {
          "output_type": "stream",
          "text": [
            "[Succeeded / Failed / Total] 4 / 3 / 8:  32%|███▏      | 8/25 [00:58<02:04,  7.31s/it]"
          ],
          "name": "stderr"
        },
        {
          "output_type": "display_data",
          "data": {
            "text/html": [
              "<font color = green>Duplicate (54%)</font> --> <font color = gray>[SKIPPED]</font><br><font color = bold><font color = underline>Question1</font></font>: Why is my life getting so complicated?\n",
              "<font color = bold><font color = underline>Question2</font></font>: Why is my life so complicated?"
            ],
            "text/plain": [
              "<IPython.core.display.HTML object>"
            ]
          },
          "metadata": {
            "tags": []
          }
        },
        {
          "output_type": "stream",
          "text": [
            "\r[Succeeded / Failed / Total] 4 / 3 / 9:  36%|███▌      | 9/25 [00:58<01:44,  6.50s/it]"
          ],
          "name": "stderr"
        },
        {
          "output_type": "display_data",
          "data": {
            "text/html": [
              "<font color = red>Not_duplicate (100%)</font> --> <font color = red>[FAILED]</font><br><font color = bold><font color = underline>Question1</font></font>: Why should I crack Jee?\n",
              "<font color = bold><font color = underline>Question2</font></font>: Is it possible to get into IIMs with low marks in graduation and 12th?"
            ],
            "text/plain": [
              "<IPython.core.display.HTML object>"
            ]
          },
          "metadata": {
            "tags": []
          }
        },
        {
          "output_type": "stream",
          "text": [
            "[Succeeded / Failed / Total] 4 / 4 / 10:  40%|████      | 10/25 [01:08<01:42,  6.81s/it]"
          ],
          "name": "stderr"
        },
        {
          "output_type": "display_data",
          "data": {
            "text/html": [
              "<font color = red>Not_duplicate (100%)</font> --> <font color = green>Duplicate (87%)</font><br><font color = bold><font color = underline>Question1</font></font>: Can <font color = red>you</font> TRANSLATE <font color = red>these</font> to English language?\n",
              "<font color = bold><font color = underline>Question2</font></font>: Can <font color = red>you</font> <font color = red>translate</font> <font color = red>this</font> from <font color = red>Bengali</font> to English language?<br><font color = bold><font color = underline>Question1</font></font>: Can <font color = green>we</font> TRANSLATE <font color = green>some</font> to English language?\n",
              "<font color = bold><font color = underline>Question2</font></font>: Can <font color = green>we</font> <font color = green>translating</font> <font color = green>which</font> from <font color = green>Arakan</font> to English language?"
            ],
            "text/plain": [
              "<IPython.core.display.HTML object>"
            ]
          },
          "metadata": {
            "tags": []
          }
        },
        {
          "output_type": "stream",
          "text": [
            "[Succeeded / Failed / Total] 5 / 4 / 11:  44%|████▍     | 11/25 [01:27<01:51,  7.94s/it]"
          ],
          "name": "stderr"
        },
        {
          "output_type": "display_data",
          "data": {
            "text/html": [
              "<font color = red>Not_duplicate (100%)</font> --> <font color = red>[FAILED]</font><br><font color = bold><font color = underline>Question1</font></font>: Can anyone tell shall mi mix mobile should be purchased or not?\n",
              "<font color = bold><font color = underline>Question2</font></font>: \"What did Voltaire mean when he said, \"\"God is a comedian playing to an audience that is too afraid to laugh\"\"?\""
            ],
            "text/plain": [
              "<IPython.core.display.HTML object>"
            ]
          },
          "metadata": {
            "tags": []
          }
        },
        {
          "output_type": "stream",
          "text": [
            "[Succeeded / Failed / Total] 5 / 5 / 12:  48%|████▊     | 12/25 [01:52<02:02,  9.40s/it]"
          ],
          "name": "stderr"
        },
        {
          "output_type": "display_data",
          "data": {
            "text/html": [
              "<font color = green>Duplicate (100%)</font> --> <font color = red>[FAILED]</font><br><font color = bold><font color = underline>Question1</font></font>: Which is the best gaming laptop under 40k?\n",
              "<font color = bold><font color = underline>Question2</font></font>: Which is the best gaming laptop under 40,000 rs?"
            ],
            "text/plain": [
              "<IPython.core.display.HTML object>"
            ]
          },
          "metadata": {
            "tags": []
          }
        },
        {
          "output_type": "stream",
          "text": [
            "[Succeeded / Failed / Total] 5 / 6 / 13:  52%|█████▏    | 13/25 [02:01<01:52,  9.36s/it]"
          ],
          "name": "stderr"
        },
        {
          "output_type": "display_data",
          "data": {
            "text/html": [
              "<font color = red>Not_duplicate (100%)</font> --> <font color = red>[FAILED]</font><br><font color = bold><font color = underline>Question1</font></font>: Why Tamil Nadu Universities are no good?\n",
              "<font color = bold><font color = underline>Question2</font></font>: Why are the 10th students able to score 100% in Tamil Nadu?"
            ],
            "text/plain": [
              "<IPython.core.display.HTML object>"
            ]
          },
          "metadata": {
            "tags": []
          }
        },
        {
          "output_type": "stream",
          "text": [
            "[Succeeded / Failed / Total] 5 / 7 / 14:  56%|█████▌    | 14/25 [02:15<01:46,  9.65s/it]"
          ],
          "name": "stderr"
        },
        {
          "output_type": "display_data",
          "data": {
            "text/html": [
              "<font color = red>Not_duplicate (100%)</font> --> <font color = red>[FAILED]</font><br><font color = bold><font color = underline>Question1</font></font>: What is an easy way to clean toothpaste stains from a shirt without washing it?\n",
              "<font color = bold><font color = underline>Question2</font></font>: What are some ways to remove hard water stains from dishes?"
            ],
            "text/plain": [
              "<IPython.core.display.HTML object>"
            ]
          },
          "metadata": {
            "tags": []
          }
        },
        {
          "output_type": "stream",
          "text": [
            "[Succeeded / Failed / Total] 5 / 8 / 15:  60%|██████    | 15/25 [02:31<01:41, 10.11s/it]"
          ],
          "name": "stderr"
        },
        {
          "output_type": "display_data",
          "data": {
            "text/html": [
              "<font color = green>Duplicate (89%)</font> --> <font color = red>Not_duplicate (100%)</font><br><font color = bold><font color = underline>Question1</font></font>: What was the deadliest <font color = green>battle</font> in history?\n",
              "<font color = bold><font color = underline>Question2</font></font>: What was the bloodiest battle in history?<br><font color = bold><font color = underline>Question1</font></font>: What was the deadliest <font color = red>battlezone</font> in history?\n",
              "<font color = bold><font color = underline>Question2</font></font>: What was the bloodiest battle in history?"
            ],
            "text/plain": [
              "<IPython.core.display.HTML object>"
            ]
          },
          "metadata": {
            "tags": []
          }
        },
        {
          "output_type": "stream",
          "text": [
            "[Succeeded / Failed / Total] 6 / 8 / 16:  64%|██████▍   | 16/25 [02:32<01:25,  9.50s/it]"
          ],
          "name": "stderr"
        },
        {
          "output_type": "display_data",
          "data": {
            "text/html": [
              "<font color = green>Duplicate (100%)</font> --> <font color = red>Not_duplicate (64%)</font><br><font color = bold><font color = underline>Question1</font></font>: What are your views about demonetisation in India?\n",
              "<font color = bold><font color = underline>Question2</font></font>: What do you think <font color = green>about</font> the ban on 500 and 1000 denomination notes in India?<br><font color = bold><font color = underline>Question1</font></font>: What are your views about demonetisation in India?\n",
              "<font color = bold><font color = underline>Question2</font></font>: What do you think <font color = red>abound</font> the ban on 500 and 1000 denomination notes in India?"
            ],
            "text/plain": [
              "<IPython.core.display.HTML object>"
            ]
          },
          "metadata": {
            "tags": []
          }
        },
        {
          "output_type": "stream",
          "text": [
            "[Succeeded / Failed / Total] 7 / 8 / 17:  68%|██████▊   | 17/25 [02:32<01:11,  8.98s/it]"
          ],
          "name": "stderr"
        },
        {
          "output_type": "display_data",
          "data": {
            "text/html": [
              "<font color = red>Not_duplicate (100%)</font> --> <font color = red>[FAILED]</font><br><font color = bold><font color = underline>Question1</font></font>: What are the difference between polyester 210T and 210D?\n",
              "<font color = bold><font color = underline>Question2</font></font>: What is the difference between cotton and polyester?"
            ],
            "text/plain": [
              "<IPython.core.display.HTML object>"
            ]
          },
          "metadata": {
            "tags": []
          }
        },
        {
          "output_type": "stream",
          "text": [
            "[Succeeded / Failed / Total] 7 / 9 / 18:  72%|███████▏  | 18/25 [02:38<01:01,  8.80s/it]"
          ],
          "name": "stderr"
        },
        {
          "output_type": "display_data",
          "data": {
            "text/html": [
              "<font color = red>Not_duplicate (82%)</font> --> <font color = green>Duplicate (63%)</font><br><font color = bold><font color = underline>Question1</font></font>: Is FMS Delhi a good option for a MBA executive program?\n",
              "<font color = bold><font color = underline>Question2</font></font>: Is FMS <font color = red>a</font> good <font color = red>choice</font> for an MBA in HR? Why and why not?<br><font color = bold><font color = underline>Question1</font></font>: Is FMS Delhi a good option for a MBA executive program?\n",
              "<font color = bold><font color = underline>Question2</font></font>: Is FMS <font color = green>the</font> good <font color = green>preference</font> for an MBA in HR? Why and why not?"
            ],
            "text/plain": [
              "<IPython.core.display.HTML object>"
            ]
          },
          "metadata": {
            "tags": []
          }
        },
        {
          "output_type": "stream",
          "text": [
            "[Succeeded / Failed / Total] 8 / 9 / 19:  76%|███████▌  | 19/25 [02:39<00:50,  8.37s/it]"
          ],
          "name": "stderr"
        },
        {
          "output_type": "display_data",
          "data": {
            "text/html": [
              "<font color = red>Not_duplicate (63%)</font> --> <font color = gray>[SKIPPED]</font><br><font color = bold><font color = underline>Question1</font></font>: Is it a bad time to buy a condo or a house in the Bay Area in 2017?\n",
              "<font color = bold><font color = underline>Question2</font></font>: Would 2017 be a good time to buy a house in Bay Area?"
            ],
            "text/plain": [
              "<IPython.core.display.HTML object>"
            ]
          },
          "metadata": {
            "tags": []
          }
        },
        {
          "output_type": "stream",
          "text": [
            "\r[Succeeded / Failed / Total] 8 / 9 / 20:  80%|████████  | 20/25 [02:39<00:39,  7.96s/it]"
          ],
          "name": "stderr"
        },
        {
          "output_type": "display_data",
          "data": {
            "text/html": [
              "<font color = red>Not_duplicate (100%)</font> --> <font color = red>[FAILED]</font><br><font color = bold><font color = underline>Question1</font></font>: How is vanilla extract made?\n",
              "<font color = bold><font color = underline>Question2</font></font>: How do you make sugar cookies without vanilla extract?"
            ],
            "text/plain": [
              "<IPython.core.display.HTML object>"
            ]
          },
          "metadata": {
            "tags": []
          }
        },
        {
          "output_type": "stream",
          "text": [
            "[Succeeded / Failed / Total] 8 / 10 / 21:  84%|████████▍ | 21/25 [02:47<00:31,  7.96s/it]"
          ],
          "name": "stderr"
        },
        {
          "output_type": "display_data",
          "data": {
            "text/html": [
              "<font color = green>Duplicate (100%)</font> --> <font color = red>Not_duplicate (97%)</font><br><font color = bold><font color = underline>Question1</font></font>: What is the Sahara, and how do the average temperatures there compare to the ones in the Patagonian Desert?\n",
              "<font color = bold><font color = underline>Question2</font></font>: What is the <font color = green>Sahara</font>, and how do the average temperatures there compare to the ones in the Registan Desert?<br><font color = bold><font color = underline>Question1</font></font>: What is the Sahara, and how do the average temperatures there compare to the ones in the Patagonian Desert?\n",
              "<font color = bold><font color = underline>Question2</font></font>: What is the <font color = red>Maharaja</font>, and how do the average temperatures there compare to the ones in the Registan Desert?"
            ],
            "text/plain": [
              "<IPython.core.display.HTML object>"
            ]
          },
          "metadata": {
            "tags": []
          }
        },
        {
          "output_type": "stream",
          "text": [
            "[Succeeded / Failed / Total] 9 / 10 / 22:  88%|████████▊ | 22/25 [02:57<00:24,  8.06s/it]"
          ],
          "name": "stderr"
        },
        {
          "output_type": "display_data",
          "data": {
            "text/html": [
              "<font color = red>Not_duplicate (100%)</font> --> <font color = red>[FAILED]</font><br><font color = bold><font color = underline>Question1</font></font>: Why was the Roman Empire so successful?\n",
              "<font color = bold><font color = underline>Question2</font></font>: What are some of the rarely known facts about the Roman Empire?"
            ],
            "text/plain": [
              "<IPython.core.display.HTML object>"
            ]
          },
          "metadata": {
            "tags": []
          }
        },
        {
          "output_type": "stream",
          "text": [
            "[Succeeded / Failed / Total] 9 / 11 / 23:  92%|█████████▏| 23/25 [02:59<00:15,  7.79s/it]"
          ],
          "name": "stderr"
        },
        {
          "output_type": "display_data",
          "data": {
            "text/html": [
              "<font color = red>Not_duplicate (100%)</font> --> <font color = green>Duplicate (67%)</font><br><font color = bold><font color = underline>Question1</font></font>: <font color = red>Is</font> it <font color = red>advisable</font> to sent your cv to a professor with whom you are trying to make contact for graduate <font color = red>admission</font>?\n",
              "<font color = bold><font color = underline>Question2</font></font>: How does <font color = red>contacting</font> a professor before applying factor into graduate <font color = red>admissions</font>?<br><font color = bold><font color = underline>Question1</font></font>: <font color = green>Larva</font> it <font color = green>disable</font> to sent your cv to a professor with whom you are trying to make contact for graduate <font color = green>admittance</font>?\n",
              "<font color = bold><font color = underline>Question2</font></font>: How does <font color = green>contact</font> a professor before applying factor into graduate <font color = green>admission</font>?"
            ],
            "text/plain": [
              "<IPython.core.display.HTML object>"
            ]
          },
          "metadata": {
            "tags": []
          }
        },
        {
          "output_type": "stream",
          "text": [
            "[Succeeded / Failed / Total] 10 / 11 / 24:  96%|█████████▌| 24/25 [03:06<00:07,  7.79s/it]"
          ],
          "name": "stderr"
        },
        {
          "output_type": "display_data",
          "data": {
            "text/html": [
              "<font color = red>Not_duplicate (100%)</font> --> <font color = red>[FAILED]</font><br><font color = bold><font color = underline>Question1</font></font>: Does a RainTPL syntax extension for Sublime Text exist? Where can I download it?\n",
              "<font color = bold><font color = underline>Question2</font></font>: How do I hide the find/replace bar in Sublime Text 2?"
            ],
            "text/plain": [
              "<IPython.core.display.HTML object>"
            ]
          },
          "metadata": {
            "tags": []
          }
        },
        {
          "output_type": "stream",
          "text": [
            "[Succeeded / Failed / Total] 10 / 12 / 25: 100%|██████████| 25/25 [03:28<00:00,  8.33s/it]"
          ],
          "name": "stderr"
        },
        {
          "output_type": "display_data",
          "data": {
            "text/html": [
              "<font color = red>Not_duplicate (99%)</font> --> <font color = green>Duplicate (58%)</font><br><font color = bold><font color = underline>Question1</font></font>: What is the average <font color = red>salary</font> of a <font color = red>microbiologist</font> <font color = red>in</font> India?\n",
              "<font color = bold><font color = underline>Question2</font></font>: What <font color = red>is</font> the <font color = red>salary</font> for a psychologist in india?<br><font color = bold><font color = underline>Question1</font></font>: What is the average <font color = green>spending</font> of a <font color = green>neurobiologist</font> <font color = green>of</font> India?\n",
              "<font color = bold><font color = underline>Question2</font></font>: What <font color = green>was</font> the <font color = green>spending</font> for a psychologist in india?"
            ],
            "text/plain": [
              "<IPython.core.display.HTML object>"
            ]
          },
          "metadata": {
            "tags": []
          }
        },
        {
          "output_type": "stream",
          "text": [
            "[Succeeded / Failed / Total] 11 / 12 / 26: : 26it [03:31,  8.15s/it]"
          ],
          "name": "stderr"
        },
        {
          "output_type": "display_data",
          "data": {
            "text/html": [
              "<font color = red>Not_duplicate (100%)</font> --> <font color = green>Duplicate (99%)</font><br><font color = bold><font color = underline>Question1</font></font>: How do you close a Bank of America <font color = red>account</font>?\n",
              "<font color = bold><font color = underline>Question2</font></font>: How can one close a bank account <font color = red>online</font>?<br><font color = bold><font color = underline>Question1</font></font>: How do you close a Bank of America <font color = green>recount</font>?\n",
              "<font color = bold><font color = underline>Question2</font></font>: How can one close a bank account <font color = green>wikibooks</font>?"
            ],
            "text/plain": [
              "<IPython.core.display.HTML object>"
            ]
          },
          "metadata": {
            "tags": []
          }
        },
        {
          "output_type": "stream",
          "text": [
            "[Succeeded / Failed / Total] 12 / 12 / 27: : 27it [03:34,  7.94s/it]"
          ],
          "name": "stderr"
        },
        {
          "output_type": "display_data",
          "data": {
            "text/html": [
              "<font color = red>Not_duplicate (71%)</font> --> <font color = green>Duplicate (90%)</font><br><font color = bold><font color = underline>Question1</font></font>: How can I create the most popular question on Quora?\n",
              "<font color = bold><font color = underline>Question2</font></font>: Which are the most popular questions on <font color = red>Quora</font> presently that also create the most discussions?<br><font color = bold><font color = underline>Question1</font></font>: How can I create the most popular question on Quora?\n",
              "<font color = bold><font color = underline>Question2</font></font>: Which are the most popular questions on <font color = green>Ora</font> presently that also create the most discussions?"
            ],
            "text/plain": [
              "<IPython.core.display.HTML object>"
            ]
          },
          "metadata": {
            "tags": []
          }
        },
        {
          "output_type": "stream",
          "text": [
            "[Succeeded / Failed / Total] 13 / 12 / 28: : 28it [03:34,  7.67s/it]"
          ],
          "name": "stderr"
        },
        {
          "output_type": "stream",
          "text": [
            "+-------------------------------+--------+\n",
            "| Attack Results                |        |\n",
            "+-------------------------------+--------+\n",
            "| Number of successful attacks: | 13     |\n",
            "| Number of failed attacks:     | 12     |\n",
            "| Number of skipped attacks:    | 3      |\n",
            "| Original accuracy:            | 89.29% |\n",
            "| Accuracy under attack:        | 42.86% |\n",
            "| Attack success rate:          | 52.0%  |\n",
            "| Average perturbed word %:     | 11.28% |\n",
            "| Average num. words per input: | 22.39  |\n",
            "| Avg num queries:              | 411.16 |\n",
            "+-------------------------------+--------+"
          ],
          "name": "stdout"
        },
        {
          "output_type": "stream",
          "text": [
            "\n",
            "\u001b[34;1mtextattack\u001b[0m: Attack time: 214.88902258872986s\n"
          ],
          "name": "stderr"
        }
      ]
    },
    {
      "cell_type": "code",
      "metadata": {
        "colab": {
          "base_uri": "https://localhost:8080/"
        },
        "id": "HRcvfqDK27ON",
        "outputId": "2eb120b8-4a02-40ca-eeac-469d7df919f0"
      },
      "source": [
        "from textattack.search_methods import ParticleSwarmOptimization\n",
        "from textattack.constraints.grammaticality import PartOfSpeech\n",
        "from textattack.shared import Attack\n",
        "from textattack.goal_functions import UntargetedClassification\n",
        "from textattack.datasets import HuggingFaceDataset\n",
        "\n",
        "# We're going to use our word swap class as the attack transformation.\n",
        "transformation = Swapper_()\n",
        "\n",
        "constraints = [PartOfSpeech()]\n",
        "\n",
        "search_method = ParticleSwarmOptimization(pop_size=10,max_iters=5)\n",
        "\n",
        "goal_function = UntargetedClassification(model_wrapper)\n",
        "\n",
        "# Now, let's make the attack from the 4 components:\n",
        "attack = Attack(goal_function, constraints, transformation, search_method)\n",
        "\n",
        "dataset = HuggingFaceDataset(\"glue\", \"qqp\", \"validation\") # Change the dataset"
      ],
      "execution_count": 54,
      "outputs": [
        {
          "output_type": "stream",
          "text": [
            "\u001b[34;1mtextattack\u001b[0m: Unknown if model of class <class 'transformers.models.albert.modeling_albert.AlbertForSequenceClassification'> compatible with goal function <class 'textattack.goal_functions.classification.untargeted_classification.UntargetedClassification'>.\n",
            "Reusing dataset glue (/root/.cache/huggingface/datasets/glue/qqp/1.0.0/dacbe3125aa31d7f70367a07a8a9e72a5a0bfeb5fc42e75c9db75b96da6053ad)\n",
            "\u001b[34;1mtextattack\u001b[0m: Loading \u001b[94mdatasets\u001b[0m dataset \u001b[94mglue\u001b[0m, subset \u001b[94mqqp\u001b[0m, split \u001b[94mvalidation\u001b[0m.\n"
          ],
          "name": "stderr"
        }
      ]
    },
    {
      "cell_type": "code",
      "metadata": {
        "colab": {
          "base_uri": "https://localhost:8080/"
        },
        "id": "BjK9n6ac5NqI",
        "outputId": "8cb47e0f-ad91-4deb-b3aa-40c2df79ba72"
      },
      "source": [
        "print(attack)"
      ],
      "execution_count": 55,
      "outputs": [
        {
          "output_type": "stream",
          "text": [
            "Attack(\n",
            "  (search_method): ParticleSwarmOptimization(\n",
            "    (pop_size):  10\n",
            "    (max_iters):  5\n",
            "    (post_turn_check):  True\n",
            "    (max_turn_retries):  20\n",
            "  )\n",
            "  (goal_function):  UntargetedClassification\n",
            "  (transformation):  Swapper_\n",
            "  (constraints): \n",
            "    (0): PartOfSpeech(\n",
            "        (tagger_type):  nltk\n",
            "        (tagset):  universal\n",
            "        (allow_verb_noun_swap):  True\n",
            "        (compare_against_original):  True\n",
            "      )\n",
            "  (is_black_box):  True\n",
            ")\n"
          ],
          "name": "stdout"
        }
      ]
    },
    {
      "cell_type": "code",
      "metadata": {
        "colab": {
          "base_uri": "https://localhost:8080/",
          "height": 1000
        },
        "id": "heD59UeC5Pgs",
        "outputId": "c5dcd819-32c4-4f39-9f68-1e3dc0bfdab8"
      },
      "source": [
        "printexample(attack)"
      ],
      "execution_count": 56,
      "outputs": [
        {
          "output_type": "stream",
          "text": [
            "\r  0%|          | 0/25 [00:00<?, ?it/s]"
          ],
          "name": "stderr"
        },
        {
          "output_type": "stream",
          "text": [
            "Attack(\n",
            "  (search_method): ParticleSwarmOptimization(\n",
            "    (pop_size):  10\n",
            "    (max_iters):  5\n",
            "    (post_turn_check):  True\n",
            "    (max_turn_retries):  20\n",
            "  )\n",
            "  (goal_function):  UntargetedClassification\n",
            "  (transformation):  Swapper_\n",
            "  (constraints): \n",
            "    (0): PartOfSpeech(\n",
            "        (tagger_type):  nltk\n",
            "        (tagset):  universal\n",
            "        (allow_verb_noun_swap):  True\n",
            "        (compare_against_original):  True\n",
            "      )\n",
            "  (is_black_box):  True\n",
            ")\n"
          ],
          "name": "stdout"
        },
        {
          "output_type": "display_data",
          "data": {
            "text/html": [
              "<font color = red>Not_duplicate (89%)</font> --> <font color = red>[FAILED]</font><br><font color = bold><font color = underline>Question1</font></font>: Why are African-Americans so beautiful?\n",
              "<font color = bold><font color = underline>Question2</font></font>: Why are hispanics so beautiful?"
            ],
            "text/plain": [
              "<IPython.core.display.HTML object>"
            ]
          },
          "metadata": {
            "tags": []
          }
        },
        {
          "output_type": "stream",
          "text": [
            "[Succeeded / Failed / Total] 0 / 1 / 1:   4%|▍         | 1/25 [00:01<00:46,  1.93s/it]"
          ],
          "name": "stderr"
        },
        {
          "output_type": "display_data",
          "data": {
            "text/html": [
              "<font color = red>Not_duplicate (100%)</font> --> <font color = red>[FAILED]</font><br><font color = bold><font color = underline>Question1</font></font>: I want to pursue PhD in Computer Science about social network,what is the open problem in social networks?\n",
              "<font color = bold><font color = underline>Question2</font></font>: I handle social media for a non-profit. Should I start going to social media networking events? Are there any good ones in the bay area?"
            ],
            "text/plain": [
              "<IPython.core.display.HTML object>"
            ]
          },
          "metadata": {
            "tags": []
          }
        },
        {
          "output_type": "stream",
          "text": [
            "[Succeeded / Failed / Total] 0 / 2 / 2:   8%|▊         | 2/25 [00:31<05:59, 15.62s/it]"
          ],
          "name": "stderr"
        },
        {
          "output_type": "display_data",
          "data": {
            "text/html": [
              "<font color = green>Duplicate (97%)</font> --> <font color = red>Not_duplicate (97%)</font><br><font color = bold><font color = underline>Question1</font></font>: Is there a reason why we should <font color = green>travel</font> alone?\n",
              "<font color = bold><font color = underline>Question2</font></font>: What are some reasons to travel alone?<br><font color = bold><font color = underline>Question1</font></font>: Is there a reason why we should <font color = red>interplanetary</font> alone?\n",
              "<font color = bold><font color = underline>Question2</font></font>: What are some reasons to travel alone?"
            ],
            "text/plain": [
              "<IPython.core.display.HTML object>"
            ]
          },
          "metadata": {
            "tags": []
          }
        },
        {
          "output_type": "stream",
          "text": [
            "[Succeeded / Failed / Total] 1 / 2 / 3:  12%|█▏        | 3/25 [00:31<03:51, 10.52s/it]"
          ],
          "name": "stderr"
        },
        {
          "output_type": "display_data",
          "data": {
            "text/html": [
              "<font color = red>Not_duplicate (100%)</font> --> <font color = red>[FAILED]</font><br><font color = bold><font color = underline>Question1</font></font>: Why are people so obsessed with having a girlfriend/boyfriend?\n",
              "<font color = bold><font color = underline>Question2</font></font>: How can a single male have a child?"
            ],
            "text/plain": [
              "<IPython.core.display.HTML object>"
            ]
          },
          "metadata": {
            "tags": []
          }
        },
        {
          "output_type": "stream",
          "text": [
            "[Succeeded / Failed / Total] 1 / 3 / 4:  16%|█▌        | 4/25 [00:43<03:47, 10.82s/it]"
          ],
          "name": "stderr"
        },
        {
          "output_type": "display_data",
          "data": {
            "text/html": [
              "<font color = red>Not_duplicate (81%)</font> --> <font color = green>Duplicate (67%)</font><br><font color = bold><font color = underline>Question1</font></font>: What are some good baby girl names <font color = red>starting</font> with D?\n",
              "<font color = bold><font color = underline>Question2</font></font>: What are some good baby girl names starting with D or H?<br><font color = bold><font color = underline>Question1</font></font>: What are some good baby girl names <font color = green>beginning</font> with D?\n",
              "<font color = bold><font color = underline>Question2</font></font>: What are some good baby girl names starting with D or H?"
            ],
            "text/plain": [
              "<IPython.core.display.HTML object>"
            ]
          },
          "metadata": {
            "tags": []
          }
        },
        {
          "output_type": "stream",
          "text": [
            "[Succeeded / Failed / Total] 2 / 3 / 5:  20%|██        | 5/25 [00:43<02:54,  8.75s/it]"
          ],
          "name": "stderr"
        },
        {
          "output_type": "display_data",
          "data": {
            "text/html": [
              "<font color = green>Duplicate (96%)</font> --> <font color = red>Not_duplicate (95%)</font><br><font color = bold><font color = underline>Question1</font></font>: I am 25 year old guy and never had a <font color = green>girlfriend</font>. Is this weird?\n",
              "<font color = bold><font color = underline>Question2</font></font>: I am 25 years old. I have <font color = green>never</font> had a girlfriend. Is something wrong with me?<br><font color = bold><font color = underline>Question1</font></font>: I am 25 year old guy and never had a <font color = red>boyfriend</font>. Is this weird?\n",
              "<font color = bold><font color = underline>Question2</font></font>: I am 25 years old. I have <font color = red>already</font> had a girlfriend. Is something wrong with me?"
            ],
            "text/plain": [
              "<IPython.core.display.HTML object>"
            ]
          },
          "metadata": {
            "tags": []
          }
        },
        {
          "output_type": "stream",
          "text": [
            "[Succeeded / Failed / Total] 3 / 3 / 6:  24%|██▍       | 6/25 [00:44<02:20,  7.38s/it]"
          ],
          "name": "stderr"
        },
        {
          "output_type": "display_data",
          "data": {
            "text/html": [
              "<font color = red>Not_duplicate (100%)</font> --> <font color = gray>[SKIPPED]</font><br><font color = bold><font color = underline>Question1</font></font>: \"What does a good answer on Quora look like? What does it mean to \"\"be helpful\"\"?\"\n",
              "<font color = bold><font color = underline>Question2</font></font>: How do you write a good answer on Quora?"
            ],
            "text/plain": [
              "<IPython.core.display.HTML object>"
            ]
          },
          "metadata": {
            "tags": []
          }
        },
        {
          "output_type": "stream",
          "text": [
            "\r[Succeeded / Failed / Total] 3 / 3 / 7:  28%|██▊       | 7/25 [00:44<01:54,  6.33s/it]"
          ],
          "name": "stderr"
        },
        {
          "output_type": "display_data",
          "data": {
            "text/html": [
              "<font color = green>Duplicate (82%)</font> --> <font color = red>Not_duplicate (100%)</font><br><font color = bold><font color = underline>Question1</font></font>: What are the best things to do in Hong Kong?\n",
              "<font color = bold><font color = underline>Question2</font></font>: What is the <font color = green>best</font> thing in Hong Kong?<br><font color = bold><font color = underline>Question1</font></font>: What are the best things to do in Hong Kong?\n",
              "<font color = bold><font color = underline>Question2</font></font>: What is the <font color = red>filmfare</font> thing in Hong Kong?"
            ],
            "text/plain": [
              "<IPython.core.display.HTML object>"
            ]
          },
          "metadata": {
            "tags": []
          }
        },
        {
          "output_type": "stream",
          "text": [
            "[Succeeded / Failed / Total] 4 / 3 / 8:  32%|███▏      | 8/25 [00:44<01:34,  5.58s/it]"
          ],
          "name": "stderr"
        },
        {
          "output_type": "display_data",
          "data": {
            "text/html": [
              "<font color = green>Duplicate (54%)</font> --> <font color = gray>[SKIPPED]</font><br><font color = bold><font color = underline>Question1</font></font>: Why is my life getting so complicated?\n",
              "<font color = bold><font color = underline>Question2</font></font>: Why is my life so complicated?"
            ],
            "text/plain": [
              "<IPython.core.display.HTML object>"
            ]
          },
          "metadata": {
            "tags": []
          }
        },
        {
          "output_type": "stream",
          "text": [
            "\r[Succeeded / Failed / Total] 4 / 3 / 9:  36%|███▌      | 9/25 [00:44<01:19,  4.96s/it]"
          ],
          "name": "stderr"
        },
        {
          "output_type": "display_data",
          "data": {
            "text/html": [
              "<font color = red>Not_duplicate (100%)</font> --> <font color = red>[FAILED]</font><br><font color = bold><font color = underline>Question1</font></font>: Why should I crack Jee?\n",
              "<font color = bold><font color = underline>Question2</font></font>: Is it possible to get into IIMs with low marks in graduation and 12th?"
            ],
            "text/plain": [
              "<IPython.core.display.HTML object>"
            ]
          },
          "metadata": {
            "tags": []
          }
        },
        {
          "output_type": "stream",
          "text": [
            "[Succeeded / Failed / Total] 4 / 4 / 10:  40%|████      | 10/25 [00:48<01:13,  4.87s/it]"
          ],
          "name": "stderr"
        },
        {
          "output_type": "display_data",
          "data": {
            "text/html": [
              "<font color = red>Not_duplicate (100%)</font> --> <font color = red>[FAILED]</font><br><font color = bold><font color = underline>Question1</font></font>: Can you TRANSLATE these to English language?\n",
              "<font color = bold><font color = underline>Question2</font></font>: Can you translate this from Bengali to English language?"
            ],
            "text/plain": [
              "<IPython.core.display.HTML object>"
            ]
          },
          "metadata": {
            "tags": []
          }
        },
        {
          "output_type": "stream",
          "text": [
            "[Succeeded / Failed / Total] 4 / 5 / 11:  44%|████▍     | 11/25 [01:07<01:25,  6.12s/it]"
          ],
          "name": "stderr"
        },
        {
          "output_type": "display_data",
          "data": {
            "text/html": [
              "<font color = red>Not_duplicate (100%)</font> --> <font color = red>[FAILED]</font><br><font color = bold><font color = underline>Question1</font></font>: Can anyone tell shall mi mix mobile should be purchased or not?\n",
              "<font color = bold><font color = underline>Question2</font></font>: \"What did Voltaire mean when he said, \"\"God is a comedian playing to an audience that is too afraid to laugh\"\"?\""
            ],
            "text/plain": [
              "<IPython.core.display.HTML object>"
            ]
          },
          "metadata": {
            "tags": []
          }
        },
        {
          "output_type": "stream",
          "text": [
            "[Succeeded / Failed / Total] 4 / 6 / 12:  48%|████▊     | 12/25 [01:18<01:25,  6.55s/it]"
          ],
          "name": "stderr"
        },
        {
          "output_type": "display_data",
          "data": {
            "text/html": [
              "<font color = green>Duplicate (100%)</font> --> <font color = red>Not_duplicate (55%)</font><br><font color = bold><font color = underline>Question1</font></font>: Which is the best gaming <font color = green>laptop</font> under 40k?\n",
              "<font color = bold><font color = underline>Question2</font></font>: Which is the best gaming <font color = green>laptop</font> under 40,000 <font color = green>rs</font>?<br><font color = bold><font color = underline>Question1</font></font>: Which is the best gaming <font color = red>vesa</font> under 40k?\n",
              "<font color = bold><font color = underline>Question2</font></font>: Which is the best gaming <font color = red>vesa</font> under 40,000 <font color = red>kbyte</font>?"
            ],
            "text/plain": [
              "<IPython.core.display.HTML object>"
            ]
          },
          "metadata": {
            "tags": []
          }
        },
        {
          "output_type": "stream",
          "text": [
            "[Succeeded / Failed / Total] 5 / 6 / 13:  52%|█████▏    | 13/25 [01:23<01:16,  6.41s/it]"
          ],
          "name": "stderr"
        },
        {
          "output_type": "display_data",
          "data": {
            "text/html": [
              "<font color = red>Not_duplicate (100%)</font> --> <font color = red>[FAILED]</font><br><font color = bold><font color = underline>Question1</font></font>: Why Tamil Nadu Universities are no good?\n",
              "<font color = bold><font color = underline>Question2</font></font>: Why are the 10th students able to score 100% in Tamil Nadu?"
            ],
            "text/plain": [
              "<IPython.core.display.HTML object>"
            ]
          },
          "metadata": {
            "tags": []
          }
        },
        {
          "output_type": "stream",
          "text": [
            "[Succeeded / Failed / Total] 5 / 7 / 14:  56%|█████▌    | 14/25 [01:27<01:08,  6.26s/it]"
          ],
          "name": "stderr"
        },
        {
          "output_type": "display_data",
          "data": {
            "text/html": [
              "<font color = red>Not_duplicate (100%)</font> --> <font color = red>[FAILED]</font><br><font color = bold><font color = underline>Question1</font></font>: What is an easy way to clean toothpaste stains from a shirt without washing it?\n",
              "<font color = bold><font color = underline>Question2</font></font>: What are some ways to remove hard water stains from dishes?"
            ],
            "text/plain": [
              "<IPython.core.display.HTML object>"
            ]
          },
          "metadata": {
            "tags": []
          }
        },
        {
          "output_type": "stream",
          "text": [
            "[Succeeded / Failed / Total] 5 / 8 / 15:  60%|██████    | 15/25 [01:38<01:05,  6.60s/it]"
          ],
          "name": "stderr"
        },
        {
          "output_type": "display_data",
          "data": {
            "text/html": [
              "<font color = green>Duplicate (89%)</font> --> <font color = red>Not_duplicate (100%)</font><br><font color = bold><font color = underline>Question1</font></font>: What was the deadliest <font color = green>battle</font> in history?\n",
              "<font color = bold><font color = underline>Question2</font></font>: What was the bloodiest battle in history?<br><font color = bold><font color = underline>Question1</font></font>: What was the deadliest <font color = red>chancellorsville</font> in history?\n",
              "<font color = bold><font color = underline>Question2</font></font>: What was the bloodiest battle in history?"
            ],
            "text/plain": [
              "<IPython.core.display.HTML object>"
            ]
          },
          "metadata": {
            "tags": []
          }
        },
        {
          "output_type": "stream",
          "text": [
            "[Succeeded / Failed / Total] 6 / 8 / 16:  64%|██████▍   | 16/25 [01:39<00:55,  6.20s/it]"
          ],
          "name": "stderr"
        },
        {
          "output_type": "display_data",
          "data": {
            "text/html": [
              "<font color = green>Duplicate (100%)</font> --> <font color = red>Not_duplicate (76%)</font><br><font color = bold><font color = underline>Question1</font></font>: What are your views about demonetisation in India?\n",
              "<font color = bold><font color = underline>Question2</font></font>: What do you think about the ban on 500 and 1000 <font color = green>denomination</font> notes in India?<br><font color = bold><font color = underline>Question1</font></font>: What are your views about demonetisation in India?\n",
              "<font color = bold><font color = underline>Question2</font></font>: What do you think about the ban on 500 and 1000 <font color = red>mennonite</font> notes in India?"
            ],
            "text/plain": [
              "<IPython.core.display.HTML object>"
            ]
          },
          "metadata": {
            "tags": []
          }
        },
        {
          "output_type": "stream",
          "text": [
            "[Succeeded / Failed / Total] 7 / 8 / 17:  68%|██████▊   | 17/25 [01:39<00:46,  5.86s/it]"
          ],
          "name": "stderr"
        },
        {
          "output_type": "display_data",
          "data": {
            "text/html": [
              "<font color = red>Not_duplicate (100%)</font> --> <font color = red>[FAILED]</font><br><font color = bold><font color = underline>Question1</font></font>: What are the difference between polyester 210T and 210D?\n",
              "<font color = bold><font color = underline>Question2</font></font>: What is the difference between cotton and polyester?"
            ],
            "text/plain": [
              "<IPython.core.display.HTML object>"
            ]
          },
          "metadata": {
            "tags": []
          }
        },
        {
          "output_type": "stream",
          "text": [
            "[Succeeded / Failed / Total] 7 / 9 / 18:  72%|███████▏  | 18/25 [01:44<00:40,  5.82s/it]"
          ],
          "name": "stderr"
        },
        {
          "output_type": "display_data",
          "data": {
            "text/html": [
              "<font color = red>Not_duplicate (82%)</font> --> <font color = green>Duplicate (62%)</font><br><font color = bold><font color = underline>Question1</font></font>: Is FMS Delhi a <font color = red>good</font> <font color = red>option</font> for a MBA executive program?\n",
              "<font color = bold><font color = underline>Question2</font></font>: Is FMS a <font color = red>good</font> <font color = red>choice</font> for an MBA in HR? Why and <font color = red>why</font> <font color = red>not</font>?<br><font color = bold><font color = underline>Question1</font></font>: Is FMS Delhi a <font color = green>bad</font> <font color = green>vendor</font> for a MBA executive program?\n",
              "<font color = bold><font color = underline>Question2</font></font>: Is FMS a <font color = green>bad</font> <font color = green>tallied</font> for an MBA in HR? Why and <font color = green>how</font> <font color = green>necessarily</font>?"
            ],
            "text/plain": [
              "<IPython.core.display.HTML object>"
            ]
          },
          "metadata": {
            "tags": []
          }
        },
        {
          "output_type": "stream",
          "text": [
            "[Succeeded / Failed / Total] 8 / 9 / 19:  76%|███████▌  | 19/25 [01:48<00:34,  5.71s/it]"
          ],
          "name": "stderr"
        },
        {
          "output_type": "display_data",
          "data": {
            "text/html": [
              "<font color = red>Not_duplicate (63%)</font> --> <font color = gray>[SKIPPED]</font><br><font color = bold><font color = underline>Question1</font></font>: Is it a bad time to buy a condo or a house in the Bay Area in 2017?\n",
              "<font color = bold><font color = underline>Question2</font></font>: Would 2017 be a good time to buy a house in Bay Area?"
            ],
            "text/plain": [
              "<IPython.core.display.HTML object>"
            ]
          },
          "metadata": {
            "tags": []
          }
        },
        {
          "output_type": "stream",
          "text": [
            "\r[Succeeded / Failed / Total] 8 / 9 / 20:  80%|████████  | 20/25 [01:48<00:27,  5.42s/it]"
          ],
          "name": "stderr"
        },
        {
          "output_type": "display_data",
          "data": {
            "text/html": [
              "<font color = red>Not_duplicate (100%)</font> --> <font color = red>[FAILED]</font><br><font color = bold><font color = underline>Question1</font></font>: How is vanilla extract made?\n",
              "<font color = bold><font color = underline>Question2</font></font>: How do you make sugar cookies without vanilla extract?"
            ],
            "text/plain": [
              "<IPython.core.display.HTML object>"
            ]
          },
          "metadata": {
            "tags": []
          }
        },
        {
          "output_type": "stream",
          "text": [
            "[Succeeded / Failed / Total] 8 / 10 / 21:  84%|████████▍ | 21/25 [01:56<00:22,  5.55s/it]"
          ],
          "name": "stderr"
        },
        {
          "output_type": "display_data",
          "data": {
            "text/html": [
              "<font color = green>Duplicate (100%)</font> --> <font color = red>Not_duplicate (86%)</font><br><font color = bold><font color = underline>Question1</font></font>: What <font color = green>is</font> the Sahara, and how do the average <font color = green>temperatures</font> there compare to the <font color = green>ones</font> in the Patagonian Desert?\n",
              "<font color = bold><font color = underline>Question2</font></font>: What is the Sahara, and how do the average <font color = green>temperatures</font> there <font color = green>compare</font> to the ones in the Registan Desert?<br><font color = bold><font color = underline>Question1</font></font>: What <font color = red>was</font> the Sahara, and how do the average <font color = red>temperature</font> there compare to the <font color = red>embellishments</font> in the Patagonian Desert?\n",
              "<font color = bold><font color = underline>Question2</font></font>: What is the Sahara, and how do the average <font color = red>temperature</font> there <font color = red>vso</font> to the ones in the Registan Desert?"
            ],
            "text/plain": [
              "<IPython.core.display.HTML object>"
            ]
          },
          "metadata": {
            "tags": []
          }
        },
        {
          "output_type": "stream",
          "text": [
            "\r[Succeeded / Failed / Total] 9 / 10 / 22:  88%|████████▊ | 22/25 [02:00<00:16,  5.46s/it]"
          ],
          "name": "stderr"
        },
        {
          "output_type": "display_data",
          "data": {
            "text/html": [
              "<font color = red>Not_duplicate (100%)</font> --> <font color = red>[FAILED]</font><br><font color = bold><font color = underline>Question1</font></font>: Why was the Roman Empire so successful?\n",
              "<font color = bold><font color = underline>Question2</font></font>: What are some of the rarely known facts about the Roman Empire?"
            ],
            "text/plain": [
              "<IPython.core.display.HTML object>"
            ]
          },
          "metadata": {
            "tags": []
          }
        },
        {
          "output_type": "stream",
          "text": [
            "[Succeeded / Failed / Total] 9 / 11 / 23:  92%|█████████▏| 23/25 [02:17<00:11,  5.97s/it]"
          ],
          "name": "stderr"
        },
        {
          "output_type": "display_data",
          "data": {
            "text/html": [
              "<font color = red>Not_duplicate (100%)</font> --> <font color = red>[FAILED]</font><br><font color = bold><font color = underline>Question1</font></font>: Is it advisable to sent your cv to a professor with whom you are trying to make contact for graduate admission?\n",
              "<font color = bold><font color = underline>Question2</font></font>: How does contacting a professor before applying factor into graduate admissions?"
            ],
            "text/plain": [
              "<IPython.core.display.HTML object>"
            ]
          },
          "metadata": {
            "tags": []
          }
        },
        {
          "output_type": "stream",
          "text": [
            "[Succeeded / Failed / Total] 9 / 12 / 24:  96%|█████████▌| 24/25 [02:24<00:06,  6.02s/it]"
          ],
          "name": "stderr"
        },
        {
          "output_type": "display_data",
          "data": {
            "text/html": [
              "<font color = red>Not_duplicate (100%)</font> --> <font color = red>[FAILED]</font><br><font color = bold><font color = underline>Question1</font></font>: Does a RainTPL syntax extension for Sublime Text exist? Where can I download it?\n",
              "<font color = bold><font color = underline>Question2</font></font>: How do I hide the find/replace bar in Sublime Text 2?"
            ],
            "text/plain": [
              "<IPython.core.display.HTML object>"
            ]
          },
          "metadata": {
            "tags": []
          }
        },
        {
          "output_type": "stream",
          "text": [
            "[Succeeded / Failed / Total] 9 / 13 / 25: 100%|██████████| 25/25 [02:33<00:00,  6.15s/it]"
          ],
          "name": "stderr"
        },
        {
          "output_type": "display_data",
          "data": {
            "text/html": [
              "<font color = red>Not_duplicate (99%)</font> --> <font color = red>[FAILED]</font><br><font color = bold><font color = underline>Question1</font></font>: What is the average salary of a microbiologist in India?\n",
              "<font color = bold><font color = underline>Question2</font></font>: What is the salary for a psychologist in india?"
            ],
            "text/plain": [
              "<IPython.core.display.HTML object>"
            ]
          },
          "metadata": {
            "tags": []
          }
        },
        {
          "output_type": "stream",
          "text": [
            "[Succeeded / Failed / Total] 9 / 14 / 26: : 26it [02:39,  6.15s/it]"
          ],
          "name": "stderr"
        },
        {
          "output_type": "display_data",
          "data": {
            "text/html": [
              "<font color = red>Not_duplicate (100%)</font> --> <font color = green>Duplicate (62%)</font><br><font color = bold><font color = underline>Question1</font></font>: How do you close a Bank of America <font color = red>account</font>?\n",
              "<font color = bold><font color = underline>Question2</font></font>: How can one close a bank <font color = red>account</font> online?<br><font color = bold><font color = underline>Question1</font></font>: How do you close a Bank of America <font color = green>explanation</font>?\n",
              "<font color = bold><font color = underline>Question2</font></font>: How can one close a bank <font color = green>neogrammarians</font> online?"
            ],
            "text/plain": [
              "<IPython.core.display.HTML object>"
            ]
          },
          "metadata": {
            "tags": []
          }
        },
        {
          "output_type": "stream",
          "text": [
            "[Succeeded / Failed / Total] 10 / 14 / 27: : 27it [02:43,  6.07s/it]"
          ],
          "name": "stderr"
        },
        {
          "output_type": "display_data",
          "data": {
            "text/html": [
              "<font color = red>Not_duplicate (71%)</font> --> <font color = green>Duplicate (73%)</font><br><font color = bold><font color = underline>Question1</font></font>: How can I <font color = red>create</font> the most popular <font color = red>question</font> on Quora?\n",
              "<font color = bold><font color = underline>Question2</font></font>: Which are the most popular questions on Quora presently that also create the most <font color = red>discussions</font>?<br><font color = bold><font color = underline>Question1</font></font>: How can I <font color = green>generate</font> the most popular <font color = green>debate</font> on Quora?\n",
              "<font color = bold><font color = underline>Question2</font></font>: Which are the most popular questions on Quora presently that also create the most <font color = green>debates</font>?"
            ],
            "text/plain": [
              "<IPython.core.display.HTML object>"
            ]
          },
          "metadata": {
            "tags": []
          }
        },
        {
          "output_type": "stream",
          "text": [
            "[Succeeded / Failed / Total] 11 / 14 / 28: : 28it [02:48,  6.03s/it]"
          ],
          "name": "stderr"
        },
        {
          "output_type": "stream",
          "text": [
            "+-------------------------------+--------+\n",
            "| Attack Results                |        |\n",
            "+-------------------------------+--------+\n",
            "| Number of successful attacks: | 11     |\n",
            "| Number of failed attacks:     | 14     |\n",
            "| Number of skipped attacks:    | 3      |\n",
            "| Original accuracy:            | 89.29% |\n",
            "| Accuracy under attack:        | 50.0%  |\n",
            "| Attack success rate:          | 44.0%  |\n",
            "| Average perturbed word %:     | 10.19% |\n",
            "| Average num. words per input: | 22.39  |\n",
            "| Avg num queries:              | 364.2  |\n",
            "+-------------------------------+--------+"
          ],
          "name": "stdout"
        },
        {
          "output_type": "stream",
          "text": [
            "\n",
            "\u001b[34;1mtextattack\u001b[0m: Attack time: 168.72592687606812s\n"
          ],
          "name": "stderr"
        }
      ]
    },
    {
      "cell_type": "code",
      "metadata": {
        "colab": {
          "base_uri": "https://localhost:8080/"
        },
        "id": "O7zg-_zFQwyV",
        "outputId": "03531990-8cf5-418f-8ef7-aae6c29288a9"
      },
      "source": [
        "from textattack.search_methods import ParticleSwarmOptimization\n",
        "from textattack.constraints.grammaticality import PartOfSpeech\n",
        "from textattack.shared import Attack\n",
        "from textattack.goal_functions import UntargetedClassification\n",
        "from textattack.datasets import HuggingFaceDataset\n",
        "\n",
        "# We're going to use our word swap class as the attack transformation.\n",
        "transformation = Swapper__()\n",
        "\n",
        "constraints = [PartOfSpeech()]\n",
        "\n",
        "search_method = ParticleSwarmOptimization(pop_size=10,max_iters=5)\n",
        "\n",
        "goal_function = UntargetedClassification(model_wrapper)\n",
        "\n",
        "# Now, let's make the attack from the 4 components:\n",
        "attack = Attack(goal_function, constraints, transformation, search_method)\n",
        "\n",
        "dataset = HuggingFaceDataset(\"glue\", \"qqp\", \"validation\") # Change the dataset"
      ],
      "execution_count": 57,
      "outputs": [
        {
          "output_type": "stream",
          "text": [
            "\u001b[34;1mtextattack\u001b[0m: Unknown if model of class <class 'transformers.models.albert.modeling_albert.AlbertForSequenceClassification'> compatible with goal function <class 'textattack.goal_functions.classification.untargeted_classification.UntargetedClassification'>.\n",
            "Reusing dataset glue (/root/.cache/huggingface/datasets/glue/qqp/1.0.0/dacbe3125aa31d7f70367a07a8a9e72a5a0bfeb5fc42e75c9db75b96da6053ad)\n",
            "\u001b[34;1mtextattack\u001b[0m: Loading \u001b[94mdatasets\u001b[0m dataset \u001b[94mglue\u001b[0m, subset \u001b[94mqqp\u001b[0m, split \u001b[94mvalidation\u001b[0m.\n"
          ],
          "name": "stderr"
        }
      ]
    },
    {
      "cell_type": "code",
      "metadata": {
        "colab": {
          "base_uri": "https://localhost:8080/"
        },
        "id": "PKAKnXjcQzEL",
        "outputId": "c3afde43-a965-47e6-d8b9-872cfdb366d8"
      },
      "source": [
        "print(attack)"
      ],
      "execution_count": 58,
      "outputs": [
        {
          "output_type": "stream",
          "text": [
            "Attack(\n",
            "  (search_method): ParticleSwarmOptimization(\n",
            "    (pop_size):  10\n",
            "    (max_iters):  5\n",
            "    (post_turn_check):  True\n",
            "    (max_turn_retries):  20\n",
            "  )\n",
            "  (goal_function):  UntargetedClassification\n",
            "  (transformation):  Swapper__\n",
            "  (constraints): \n",
            "    (0): PartOfSpeech(\n",
            "        (tagger_type):  nltk\n",
            "        (tagset):  universal\n",
            "        (allow_verb_noun_swap):  True\n",
            "        (compare_against_original):  True\n",
            "      )\n",
            "  (is_black_box):  True\n",
            ")\n"
          ],
          "name": "stdout"
        }
      ]
    },
    {
      "cell_type": "code",
      "metadata": {
        "colab": {
          "base_uri": "https://localhost:8080/",
          "height": 1000
        },
        "id": "1ORBY3voQ1TT",
        "outputId": "0b87a4ee-f391-4559-95fc-e4906ae258ca"
      },
      "source": [
        "printexample(attack)"
      ],
      "execution_count": 59,
      "outputs": [
        {
          "output_type": "stream",
          "text": [
            "\r  0%|          | 0/25 [00:00<?, ?it/s]"
          ],
          "name": "stderr"
        },
        {
          "output_type": "stream",
          "text": [
            "Attack(\n",
            "  (search_method): ParticleSwarmOptimization(\n",
            "    (pop_size):  10\n",
            "    (max_iters):  5\n",
            "    (post_turn_check):  True\n",
            "    (max_turn_retries):  20\n",
            "  )\n",
            "  (goal_function):  UntargetedClassification\n",
            "  (transformation):  Swapper__\n",
            "  (constraints): \n",
            "    (0): PartOfSpeech(\n",
            "        (tagger_type):  nltk\n",
            "        (tagset):  universal\n",
            "        (allow_verb_noun_swap):  True\n",
            "        (compare_against_original):  True\n",
            "      )\n",
            "  (is_black_box):  True\n",
            ")\n"
          ],
          "name": "stdout"
        },
        {
          "output_type": "display_data",
          "data": {
            "text/html": [
              "<font color = red>Not_duplicate (89%)</font> --> <font color = red>[FAILED]</font><br><font color = bold><font color = underline>Question1</font></font>: Why are African-Americans so beautiful?\n",
              "<font color = bold><font color = underline>Question2</font></font>: Why are hispanics so beautiful?"
            ],
            "text/plain": [
              "<IPython.core.display.HTML object>"
            ]
          },
          "metadata": {
            "tags": []
          }
        },
        {
          "output_type": "stream",
          "text": [
            "[Succeeded / Failed / Total] 0 / 1 / 1:   4%|▍         | 1/25 [00:08<03:13,  8.07s/it]"
          ],
          "name": "stderr"
        },
        {
          "output_type": "display_data",
          "data": {
            "text/html": [
              "<font color = red>Not_duplicate (100%)</font> --> <font color = red>[FAILED]</font><br><font color = bold><font color = underline>Question1</font></font>: I want to pursue PhD in Computer Science about social network,what is the open problem in social networks?\n",
              "<font color = bold><font color = underline>Question2</font></font>: I handle social media for a non-profit. Should I start going to social media networking events? Are there any good ones in the bay area?"
            ],
            "text/plain": [
              "<IPython.core.display.HTML object>"
            ]
          },
          "metadata": {
            "tags": []
          }
        },
        {
          "output_type": "stream",
          "text": [
            "[Succeeded / Failed / Total] 0 / 2 / 2:   8%|▊         | 2/25 [00:44<08:35, 22.43s/it]"
          ],
          "name": "stderr"
        },
        {
          "output_type": "display_data",
          "data": {
            "text/html": [
              "<font color = green>Duplicate (97%)</font> --> <font color = red>Not_duplicate (100%)</font><br><font color = bold><font color = underline>Question1</font></font>: Is there a reason why we should <font color = green>travel</font> alone?\n",
              "<font color = bold><font color = underline>Question2</font></font>: What are some reasons to travel alone?<br><font color = bold><font color = underline>Question1</font></font>: Is there a reason why we should <font color = red>interstellar</font> alone?\n",
              "<font color = bold><font color = underline>Question2</font></font>: What are some reasons to travel alone?"
            ],
            "text/plain": [
              "<IPython.core.display.HTML object>"
            ]
          },
          "metadata": {
            "tags": []
          }
        },
        {
          "output_type": "stream",
          "text": [
            "[Succeeded / Failed / Total] 1 / 2 / 3:  12%|█▏        | 3/25 [00:45<05:32, 15.13s/it]"
          ],
          "name": "stderr"
        },
        {
          "output_type": "display_data",
          "data": {
            "text/html": [
              "<font color = red>Not_duplicate (100%)</font> --> <font color = red>[FAILED]</font><br><font color = bold><font color = underline>Question1</font></font>: Why are people so obsessed with having a girlfriend/boyfriend?\n",
              "<font color = bold><font color = underline>Question2</font></font>: How can a single male have a child?"
            ],
            "text/plain": [
              "<IPython.core.display.HTML object>"
            ]
          },
          "metadata": {
            "tags": []
          }
        },
        {
          "output_type": "stream",
          "text": [
            "[Succeeded / Failed / Total] 1 / 3 / 4:  16%|█▌        | 4/25 [01:07<05:55, 16.91s/it]"
          ],
          "name": "stderr"
        },
        {
          "output_type": "display_data",
          "data": {
            "text/html": [
              "<font color = red>Not_duplicate (81%)</font> --> <font color = green>Duplicate (52%)</font><br><font color = bold><font color = underline>Question1</font></font>: What are some good baby girl names starting with D?\n",
              "<font color = bold><font color = underline>Question2</font></font>: What are some good baby girl <font color = red>names</font> starting with D or H?<br><font color = bold><font color = underline>Question1</font></font>: What are some good baby girl names starting with D?\n",
              "<font color = bold><font color = underline>Question2</font></font>: What are some good baby girl <font color = green>name</font> starting with D or H?"
            ],
            "text/plain": [
              "<IPython.core.display.HTML object>"
            ]
          },
          "metadata": {
            "tags": []
          }
        },
        {
          "output_type": "stream",
          "text": [
            "[Succeeded / Failed / Total] 2 / 3 / 5:  20%|██        | 5/25 [01:08<04:32, 13.64s/it]"
          ],
          "name": "stderr"
        },
        {
          "output_type": "display_data",
          "data": {
            "text/html": [
              "<font color = green>Duplicate (96%)</font> --> <font color = red>Not_duplicate (88%)</font><br><font color = bold><font color = underline>Question1</font></font>: I am 25 year old <font color = green>guy</font> and never had a <font color = green>girlfriend</font>. Is this weird?\n",
              "<font color = bold><font color = underline>Question2</font></font>: I am 25 years old. I have never had a girlfriend. Is something wrong with me?<br><font color = bold><font color = underline>Question1</font></font>: I am 25 year old <font color = red>steele</font> and never had a <font color = red>boyfriend</font>. Is this weird?\n",
              "<font color = bold><font color = underline>Question2</font></font>: I am 25 years old. I have never had a girlfriend. Is something wrong with me?"
            ],
            "text/plain": [
              "<IPython.core.display.HTML object>"
            ]
          },
          "metadata": {
            "tags": []
          }
        },
        {
          "output_type": "stream",
          "text": [
            "[Succeeded / Failed / Total] 3 / 3 / 6:  24%|██▍       | 6/25 [01:09<03:38, 11.52s/it]"
          ],
          "name": "stderr"
        },
        {
          "output_type": "display_data",
          "data": {
            "text/html": [
              "<font color = red>Not_duplicate (100%)</font> --> <font color = gray>[SKIPPED]</font><br><font color = bold><font color = underline>Question1</font></font>: \"What does a good answer on Quora look like? What does it mean to \"\"be helpful\"\"?\"\n",
              "<font color = bold><font color = underline>Question2</font></font>: How do you write a good answer on Quora?"
            ],
            "text/plain": [
              "<IPython.core.display.HTML object>"
            ]
          },
          "metadata": {
            "tags": []
          }
        },
        {
          "output_type": "stream",
          "text": [
            "\r[Succeeded / Failed / Total] 3 / 3 / 7:  28%|██▊       | 7/25 [01:09<02:57,  9.88s/it]"
          ],
          "name": "stderr"
        },
        {
          "output_type": "display_data",
          "data": {
            "text/html": [
              "<font color = green>Duplicate (82%)</font> --> <font color = red>Not_duplicate (100%)</font><br><font color = bold><font color = underline>Question1</font></font>: What are the best things to do in Hong Kong?\n",
              "<font color = bold><font color = underline>Question2</font></font>: What <font color = green>is</font> the best thing in Hong Kong?<br><font color = bold><font color = underline>Question1</font></font>: What are the best things to do in Hong Kong?\n",
              "<font color = bold><font color = underline>Question2</font></font>: What <font color = red>polylogarithm</font> the best thing in Hong Kong?"
            ],
            "text/plain": [
              "<IPython.core.display.HTML object>"
            ]
          },
          "metadata": {
            "tags": []
          }
        },
        {
          "output_type": "stream",
          "text": [
            "[Succeeded / Failed / Total] 4 / 3 / 8:  32%|███▏      | 8/25 [01:09<02:27,  8.70s/it]"
          ],
          "name": "stderr"
        },
        {
          "output_type": "display_data",
          "data": {
            "text/html": [
              "<font color = green>Duplicate (54%)</font> --> <font color = gray>[SKIPPED]</font><br><font color = bold><font color = underline>Question1</font></font>: Why is my life getting so complicated?\n",
              "<font color = bold><font color = underline>Question2</font></font>: Why is my life so complicated?"
            ],
            "text/plain": [
              "<IPython.core.display.HTML object>"
            ]
          },
          "metadata": {
            "tags": []
          }
        },
        {
          "output_type": "stream",
          "text": [
            "\r[Succeeded / Failed / Total] 4 / 3 / 9:  36%|███▌      | 9/25 [01:09<02:03,  7.73s/it]"
          ],
          "name": "stderr"
        },
        {
          "output_type": "display_data",
          "data": {
            "text/html": [
              "<font color = red>Not_duplicate (100%)</font> --> <font color = red>[FAILED]</font><br><font color = bold><font color = underline>Question1</font></font>: Why should I crack Jee?\n",
              "<font color = bold><font color = underline>Question2</font></font>: Is it possible to get into IIMs with low marks in graduation and 12th?"
            ],
            "text/plain": [
              "<IPython.core.display.HTML object>"
            ]
          },
          "metadata": {
            "tags": []
          }
        },
        {
          "output_type": "stream",
          "text": [
            "[Succeeded / Failed / Total] 4 / 4 / 10:  40%|████      | 10/25 [01:16<01:54,  7.60s/it]"
          ],
          "name": "stderr"
        },
        {
          "output_type": "display_data",
          "data": {
            "text/html": [
              "<font color = red>Not_duplicate (100%)</font> --> <font color = red>[FAILED]</font><br><font color = bold><font color = underline>Question1</font></font>: Can you TRANSLATE these to English language?\n",
              "<font color = bold><font color = underline>Question2</font></font>: Can you translate this from Bengali to English language?"
            ],
            "text/plain": [
              "<IPython.core.display.HTML object>"
            ]
          },
          "metadata": {
            "tags": []
          }
        },
        {
          "output_type": "stream",
          "text": [
            "[Succeeded / Failed / Total] 4 / 5 / 11:  44%|████▍     | 11/25 [01:27<01:51,  7.95s/it]"
          ],
          "name": "stderr"
        },
        {
          "output_type": "display_data",
          "data": {
            "text/html": [
              "<font color = red>Not_duplicate (100%)</font> --> <font color = red>[FAILED]</font><br><font color = bold><font color = underline>Question1</font></font>: Can anyone tell shall mi mix mobile should be purchased or not?\n",
              "<font color = bold><font color = underline>Question2</font></font>: \"What did Voltaire mean when he said, \"\"God is a comedian playing to an audience that is too afraid to laugh\"\"?\""
            ],
            "text/plain": [
              "<IPython.core.display.HTML object>"
            ]
          },
          "metadata": {
            "tags": []
          }
        },
        {
          "output_type": "stream",
          "text": [
            "[Succeeded / Failed / Total] 4 / 6 / 12:  48%|████▊     | 12/25 [02:02<02:12, 10.17s/it]"
          ],
          "name": "stderr"
        },
        {
          "output_type": "display_data",
          "data": {
            "text/html": [
              "<font color = green>Duplicate (100%)</font> --> <font color = red>Not_duplicate (89%)</font><br><font color = bold><font color = underline>Question1</font></font>: Which <font color = green>is</font> the best gaming laptop under 40k?\n",
              "<font color = bold><font color = underline>Question2</font></font>: Which is the best gaming laptop under 40,000 rs?<br><font color = bold><font color = underline>Question1</font></font>: Which <font color = red>polylogarithm</font> the best gaming laptop under 40k?\n",
              "<font color = bold><font color = underline>Question2</font></font>: Which is the best gaming laptop under 40,000 rs?"
            ],
            "text/plain": [
              "<IPython.core.display.HTML object>"
            ]
          },
          "metadata": {
            "tags": []
          }
        },
        {
          "output_type": "stream",
          "text": [
            "[Succeeded / Failed / Total] 5 / 6 / 13:  52%|█████▏    | 13/25 [02:02<01:53,  9.42s/it]"
          ],
          "name": "stderr"
        },
        {
          "output_type": "display_data",
          "data": {
            "text/html": [
              "<font color = red>Not_duplicate (100%)</font> --> <font color = red>[FAILED]</font><br><font color = bold><font color = underline>Question1</font></font>: Why Tamil Nadu Universities are no good?\n",
              "<font color = bold><font color = underline>Question2</font></font>: Why are the 10th students able to score 100% in Tamil Nadu?"
            ],
            "text/plain": [
              "<IPython.core.display.HTML object>"
            ]
          },
          "metadata": {
            "tags": []
          }
        },
        {
          "output_type": "stream",
          "text": [
            "[Succeeded / Failed / Total] 5 / 7 / 14:  56%|█████▌    | 14/25 [02:07<01:39,  9.09s/it]"
          ],
          "name": "stderr"
        },
        {
          "output_type": "display_data",
          "data": {
            "text/html": [
              "<font color = red>Not_duplicate (100%)</font> --> <font color = red>[FAILED]</font><br><font color = bold><font color = underline>Question1</font></font>: What is an easy way to clean toothpaste stains from a shirt without washing it?\n",
              "<font color = bold><font color = underline>Question2</font></font>: What are some ways to remove hard water stains from dishes?"
            ],
            "text/plain": [
              "<IPython.core.display.HTML object>"
            ]
          },
          "metadata": {
            "tags": []
          }
        },
        {
          "output_type": "stream",
          "text": [
            "[Succeeded / Failed / Total] 5 / 8 / 15:  60%|██████    | 15/25 [02:28<01:39,  9.93s/it]"
          ],
          "name": "stderr"
        },
        {
          "output_type": "display_data",
          "data": {
            "text/html": [
              "<font color = green>Duplicate (89%)</font> --> <font color = red>Not_duplicate (100%)</font><br><font color = bold><font color = underline>Question1</font></font>: What was the deadliest <font color = green>battle</font> in history?\n",
              "<font color = bold><font color = underline>Question2</font></font>: What was the bloodiest battle in history?<br><font color = bold><font color = underline>Question1</font></font>: What was the deadliest <font color = red>agincourt</font> in history?\n",
              "<font color = bold><font color = underline>Question2</font></font>: What was the bloodiest battle in history?"
            ],
            "text/plain": [
              "<IPython.core.display.HTML object>"
            ]
          },
          "metadata": {
            "tags": []
          }
        },
        {
          "output_type": "stream",
          "text": [
            "[Succeeded / Failed / Total] 6 / 8 / 16:  64%|██████▍   | 16/25 [02:29<01:24,  9.34s/it]"
          ],
          "name": "stderr"
        },
        {
          "output_type": "display_data",
          "data": {
            "text/html": [
              "<font color = green>Duplicate (100%)</font> --> <font color = red>Not_duplicate (57%)</font><br><font color = bold><font color = underline>Question1</font></font>: What are your views about demonetisation in India?\n",
              "<font color = bold><font color = underline>Question2</font></font>: What do you think about the <font color = green>ban</font> on 500 and 1000 denomination notes in India?<br><font color = bold><font color = underline>Question1</font></font>: What are your views about demonetisation in India?\n",
              "<font color = bold><font color = underline>Question2</font></font>: What do you think about the <font color = red>ozone</font> on 500 and 1000 denomination notes in India?"
            ],
            "text/plain": [
              "<IPython.core.display.HTML object>"
            ]
          },
          "metadata": {
            "tags": []
          }
        },
        {
          "output_type": "stream",
          "text": [
            "[Succeeded / Failed / Total] 7 / 8 / 17:  68%|██████▊   | 17/25 [02:29<01:10,  8.82s/it]"
          ],
          "name": "stderr"
        },
        {
          "output_type": "display_data",
          "data": {
            "text/html": [
              "<font color = red>Not_duplicate (100%)</font> --> <font color = red>[FAILED]</font><br><font color = bold><font color = underline>Question1</font></font>: What are the difference between polyester 210T and 210D?\n",
              "<font color = bold><font color = underline>Question2</font></font>: What is the difference between cotton and polyester?"
            ],
            "text/plain": [
              "<IPython.core.display.HTML object>"
            ]
          },
          "metadata": {
            "tags": []
          }
        },
        {
          "output_type": "stream",
          "text": [
            "[Succeeded / Failed / Total] 7 / 9 / 18:  72%|███████▏  | 18/25 [02:39<01:01,  8.84s/it]"
          ],
          "name": "stderr"
        },
        {
          "output_type": "display_data",
          "data": {
            "text/html": [
              "<font color = red>Not_duplicate (82%)</font> --> <font color = green>Duplicate (51%)</font><br><font color = bold><font color = underline>Question1</font></font>: Is FMS Delhi a good <font color = red>option</font> for a MBA executive program?\n",
              "<font color = bold><font color = underline>Question2</font></font>: Is FMS a good <font color = red>choice</font> for an MBA in HR? Why and why not?<br><font color = bold><font color = underline>Question1</font></font>: Is FMS Delhi a good <font color = green>fathom</font> for a MBA executive program?\n",
              "<font color = bold><font color = underline>Question2</font></font>: Is FMS a good <font color = green>uhijini</font> for an MBA in HR? Why and why not?"
            ],
            "text/plain": [
              "<IPython.core.display.HTML object>"
            ]
          },
          "metadata": {
            "tags": []
          }
        },
        {
          "output_type": "stream",
          "text": [
            "[Succeeded / Failed / Total] 8 / 9 / 19:  76%|███████▌  | 19/25 [02:40<00:50,  8.47s/it]"
          ],
          "name": "stderr"
        },
        {
          "output_type": "display_data",
          "data": {
            "text/html": [
              "<font color = red>Not_duplicate (63%)</font> --> <font color = gray>[SKIPPED]</font><br><font color = bold><font color = underline>Question1</font></font>: Is it a bad time to buy a condo or a house in the Bay Area in 2017?\n",
              "<font color = bold><font color = underline>Question2</font></font>: Would 2017 be a good time to buy a house in Bay Area?"
            ],
            "text/plain": [
              "<IPython.core.display.HTML object>"
            ]
          },
          "metadata": {
            "tags": []
          }
        },
        {
          "output_type": "stream",
          "text": [
            "\r[Succeeded / Failed / Total] 8 / 9 / 20:  80%|████████  | 20/25 [02:40<00:40,  8.04s/it]"
          ],
          "name": "stderr"
        },
        {
          "output_type": "display_data",
          "data": {
            "text/html": [
              "<font color = red>Not_duplicate (100%)</font> --> <font color = red>[FAILED]</font><br><font color = bold><font color = underline>Question1</font></font>: How is vanilla extract made?\n",
              "<font color = bold><font color = underline>Question2</font></font>: How do you make sugar cookies without vanilla extract?"
            ],
            "text/plain": [
              "<IPython.core.display.HTML object>"
            ]
          },
          "metadata": {
            "tags": []
          }
        },
        {
          "output_type": "stream",
          "text": [
            "[Succeeded / Failed / Total] 8 / 10 / 21:  84%|████████▍ | 21/25 [02:51<00:32,  8.16s/it]"
          ],
          "name": "stderr"
        },
        {
          "output_type": "display_data",
          "data": {
            "text/html": [
              "<font color = green>Duplicate (100%)</font> --> <font color = red>Not_duplicate (98%)</font><br><font color = bold><font color = underline>Question1</font></font>: What is the Sahara, and how do the average temperatures there compare to the ones in the Patagonian Desert?\n",
              "<font color = bold><font color = underline>Question2</font></font>: What is the Sahara, and how do the average <font color = green>temperatures</font> there compare to the ones in the Registan Desert?<br><font color = bold><font color = underline>Question1</font></font>: What is the Sahara, and how do the average temperatures there compare to the ones in the Patagonian Desert?\n",
              "<font color = bold><font color = underline>Question2</font></font>: What is the Sahara, and how do the average <font color = red>pressures</font> there compare to the ones in the Registan Desert?"
            ],
            "text/plain": [
              "<IPython.core.display.HTML object>"
            ]
          },
          "metadata": {
            "tags": []
          }
        },
        {
          "output_type": "stream",
          "text": [
            "[Succeeded / Failed / Total] 9 / 10 / 22:  88%|████████▊ | 22/25 [02:52<00:23,  7.83s/it]"
          ],
          "name": "stderr"
        },
        {
          "output_type": "display_data",
          "data": {
            "text/html": [
              "<font color = red>Not_duplicate (100%)</font> --> <font color = red>[FAILED]</font><br><font color = bold><font color = underline>Question1</font></font>: Why was the Roman Empire so successful?\n",
              "<font color = bold><font color = underline>Question2</font></font>: What are some of the rarely known facts about the Roman Empire?"
            ],
            "text/plain": [
              "<IPython.core.display.HTML object>"
            ]
          },
          "metadata": {
            "tags": []
          }
        },
        {
          "output_type": "stream",
          "text": [
            "[Succeeded / Failed / Total] 9 / 11 / 23:  92%|█████████▏| 23/25 [02:54<00:15,  7.61s/it]"
          ],
          "name": "stderr"
        },
        {
          "output_type": "display_data",
          "data": {
            "text/html": [
              "<font color = red>Not_duplicate (100%)</font> --> <font color = red>[FAILED]</font><br><font color = bold><font color = underline>Question1</font></font>: Is it advisable to sent your cv to a professor with whom you are trying to make contact for graduate admission?\n",
              "<font color = bold><font color = underline>Question2</font></font>: How does contacting a professor before applying factor into graduate admissions?"
            ],
            "text/plain": [
              "<IPython.core.display.HTML object>"
            ]
          },
          "metadata": {
            "tags": []
          }
        },
        {
          "output_type": "stream",
          "text": [
            "[Succeeded / Failed / Total] 9 / 12 / 24:  96%|█████████▌| 24/25 [03:34<00:08,  8.94s/it]"
          ],
          "name": "stderr"
        },
        {
          "output_type": "display_data",
          "data": {
            "text/html": [
              "<font color = red>Not_duplicate (100%)</font> --> <font color = red>[FAILED]</font><br><font color = bold><font color = underline>Question1</font></font>: Does a RainTPL syntax extension for Sublime Text exist? Where can I download it?\n",
              "<font color = bold><font color = underline>Question2</font></font>: How do I hide the find/replace bar in Sublime Text 2?"
            ],
            "text/plain": [
              "<IPython.core.display.HTML object>"
            ]
          },
          "metadata": {
            "tags": []
          }
        },
        {
          "output_type": "stream",
          "text": [
            "[Succeeded / Failed / Total] 9 / 13 / 25: 100%|██████████| 25/25 [03:48<00:00,  9.13s/it]"
          ],
          "name": "stderr"
        },
        {
          "output_type": "display_data",
          "data": {
            "text/html": [
              "<font color = red>Not_duplicate (99%)</font> --> <font color = green>Duplicate (51%)</font><br><font color = bold><font color = underline>Question1</font></font>: What is the average salary of a microbiologist in India?\n",
              "<font color = bold><font color = underline>Question2</font></font>: What is the salary for a <font color = red>psychologist</font> in india?<br><font color = bold><font color = underline>Question1</font></font>: What is the average salary of a microbiologist in India?\n",
              "<font color = bold><font color = underline>Question2</font></font>: What is the salary for a <font color = green>zoologist</font> in india?"
            ],
            "text/plain": [
              "<IPython.core.display.HTML object>"
            ]
          },
          "metadata": {
            "tags": []
          }
        },
        {
          "output_type": "stream",
          "text": [
            "[Succeeded / Failed / Total] 10 / 13 / 26: : 26it [03:48,  8.80s/it]"
          ],
          "name": "stderr"
        },
        {
          "output_type": "display_data",
          "data": {
            "text/html": [
              "<font color = red>Not_duplicate (100%)</font> --> <font color = red>[FAILED]</font><br><font color = bold><font color = underline>Question1</font></font>: How do you close a Bank of America account?\n",
              "<font color = bold><font color = underline>Question2</font></font>: How can one close a bank account online?"
            ],
            "text/plain": [
              "<IPython.core.display.HTML object>"
            ]
          },
          "metadata": {
            "tags": []
          }
        },
        {
          "output_type": "stream",
          "text": [
            "[Succeeded / Failed / Total] 10 / 14 / 27: : 27it [03:57,  8.80s/it]"
          ],
          "name": "stderr"
        },
        {
          "output_type": "display_data",
          "data": {
            "text/html": [
              "<font color = red>Not_duplicate (71%)</font> --> <font color = green>Duplicate (97%)</font><br><font color = bold><font color = underline>Question1</font></font>: How can I create the most <font color = red>popular</font> question on Quora?\n",
              "<font color = bold><font color = underline>Question2</font></font>: Which are the most <font color = red>popular</font> questions on Quora presently that also create the most <font color = red>discussions</font>?<br><font color = bold><font color = underline>Question1</font></font>: How can I create the most <font color = green>imagination</font> question on Quora?\n",
              "<font color = bold><font color = underline>Question2</font></font>: Which are the most <font color = green>imagination</font> questions on Quora presently that also create the most <font color = green>debates</font>?"
            ],
            "text/plain": [
              "<IPython.core.display.HTML object>"
            ]
          },
          "metadata": {
            "tags": []
          }
        },
        {
          "output_type": "stream",
          "text": [
            "[Succeeded / Failed / Total] 11 / 14 / 28: : 28it [04:01,  8.63s/it]"
          ],
          "name": "stderr"
        },
        {
          "output_type": "stream",
          "text": [
            "+-------------------------------+--------+\n",
            "| Attack Results                |        |\n",
            "+-------------------------------+--------+\n",
            "| Number of successful attacks: | 11     |\n",
            "| Number of failed attacks:     | 14     |\n",
            "| Number of skipped attacks:    | 3      |\n",
            "| Original accuracy:            | 89.29% |\n",
            "| Accuracy under attack:        | 50.0%  |\n",
            "| Attack success rate:          | 44.0%  |\n",
            "| Average perturbed word %:     | 6.18%  |\n",
            "| Average num. words per input: | 22.39  |\n",
            "| Avg num queries:              | 277.72 |\n",
            "+-------------------------------+--------+"
          ],
          "name": "stdout"
        },
        {
          "output_type": "stream",
          "text": [
            "\n",
            "\u001b[34;1mtextattack\u001b[0m: Attack time: 241.60128211975098s\n"
          ],
          "name": "stderr"
        }
      ]
    }
  ]
}