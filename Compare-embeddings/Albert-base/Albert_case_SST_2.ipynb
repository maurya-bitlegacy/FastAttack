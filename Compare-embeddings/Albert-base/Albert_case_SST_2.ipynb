{
  "nbformat": 4,
  "nbformat_minor": 0,
  "metadata": {
    "colab": {
      "name": "Albert_case_SST-2ipynb",
      "provenance": [],
      "collapsed_sections": [],
      "toc_visible": true
    },
    "kernelspec": {
      "name": "python3",
      "display_name": "Python 3"
    },
    "language_info": {
      "name": "python"
    },
    "accelerator": "GPU",
    "widgets": {
      "application/vnd.jupyter.widget-state+json": {
        "ca95227dbba54cedb8a0ede650077b04": {
          "model_module": "@jupyter-widgets/controls",
          "model_name": "HBoxModel",
          "state": {
            "_view_name": "HBoxView",
            "_dom_classes": [],
            "_model_name": "HBoxModel",
            "_view_module": "@jupyter-widgets/controls",
            "_model_module_version": "1.5.0",
            "_view_count": null,
            "_view_module_version": "1.5.0",
            "box_style": "",
            "layout": "IPY_MODEL_f3de01bdb68443aaa032041776d50cc2",
            "_model_module": "@jupyter-widgets/controls",
            "children": [
              "IPY_MODEL_08065f71da5741a7a7b994b2c24cc33d",
              "IPY_MODEL_73459aa1711c42bbbf1a73926aeb096c"
            ]
          }
        },
        "f3de01bdb68443aaa032041776d50cc2": {
          "model_module": "@jupyter-widgets/base",
          "model_name": "LayoutModel",
          "state": {
            "_view_name": "LayoutView",
            "grid_template_rows": null,
            "right": null,
            "justify_content": null,
            "_view_module": "@jupyter-widgets/base",
            "overflow": null,
            "_model_module_version": "1.2.0",
            "_view_count": null,
            "flex_flow": null,
            "width": null,
            "min_width": null,
            "border": null,
            "align_items": null,
            "bottom": null,
            "_model_module": "@jupyter-widgets/base",
            "top": null,
            "grid_column": null,
            "overflow_y": null,
            "overflow_x": null,
            "grid_auto_flow": null,
            "grid_area": null,
            "grid_template_columns": null,
            "flex": null,
            "_model_name": "LayoutModel",
            "justify_items": null,
            "grid_row": null,
            "max_height": null,
            "align_content": null,
            "visibility": null,
            "align_self": null,
            "height": null,
            "min_height": null,
            "padding": null,
            "grid_auto_rows": null,
            "grid_gap": null,
            "max_width": null,
            "order": null,
            "_view_module_version": "1.2.0",
            "grid_template_areas": null,
            "object_position": null,
            "object_fit": null,
            "grid_auto_columns": null,
            "margin": null,
            "display": null,
            "left": null
          }
        },
        "08065f71da5741a7a7b994b2c24cc33d": {
          "model_module": "@jupyter-widgets/controls",
          "model_name": "FloatProgressModel",
          "state": {
            "_view_name": "ProgressView",
            "style": "IPY_MODEL_171554b9ce8d4e96a9a0401e19ff44d9",
            "_dom_classes": [],
            "description": "Downloading: 100%",
            "_model_name": "FloatProgressModel",
            "bar_style": "success",
            "max": 732,
            "_view_module": "@jupyter-widgets/controls",
            "_model_module_version": "1.5.0",
            "value": 732,
            "_view_count": null,
            "_view_module_version": "1.5.0",
            "orientation": "horizontal",
            "min": 0,
            "description_tooltip": null,
            "_model_module": "@jupyter-widgets/controls",
            "layout": "IPY_MODEL_f8f671d02ea2404a9c7f99926661cfdc"
          }
        },
        "73459aa1711c42bbbf1a73926aeb096c": {
          "model_module": "@jupyter-widgets/controls",
          "model_name": "HTMLModel",
          "state": {
            "_view_name": "HTMLView",
            "style": "IPY_MODEL_fb37773309864b20856f496f488cdfc2",
            "_dom_classes": [],
            "description": "",
            "_model_name": "HTMLModel",
            "placeholder": "​",
            "_view_module": "@jupyter-widgets/controls",
            "_model_module_version": "1.5.0",
            "value": " 732/732 [00:00&lt;00:00, 3.01kB/s]",
            "_view_count": null,
            "_view_module_version": "1.5.0",
            "description_tooltip": null,
            "_model_module": "@jupyter-widgets/controls",
            "layout": "IPY_MODEL_2bbb75d26d7145c786c855ad8d416bb1"
          }
        },
        "171554b9ce8d4e96a9a0401e19ff44d9": {
          "model_module": "@jupyter-widgets/controls",
          "model_name": "ProgressStyleModel",
          "state": {
            "_view_name": "StyleView",
            "_model_name": "ProgressStyleModel",
            "description_width": "initial",
            "_view_module": "@jupyter-widgets/base",
            "_model_module_version": "1.5.0",
            "_view_count": null,
            "_view_module_version": "1.2.0",
            "bar_color": null,
            "_model_module": "@jupyter-widgets/controls"
          }
        },
        "f8f671d02ea2404a9c7f99926661cfdc": {
          "model_module": "@jupyter-widgets/base",
          "model_name": "LayoutModel",
          "state": {
            "_view_name": "LayoutView",
            "grid_template_rows": null,
            "right": null,
            "justify_content": null,
            "_view_module": "@jupyter-widgets/base",
            "overflow": null,
            "_model_module_version": "1.2.0",
            "_view_count": null,
            "flex_flow": null,
            "width": null,
            "min_width": null,
            "border": null,
            "align_items": null,
            "bottom": null,
            "_model_module": "@jupyter-widgets/base",
            "top": null,
            "grid_column": null,
            "overflow_y": null,
            "overflow_x": null,
            "grid_auto_flow": null,
            "grid_area": null,
            "grid_template_columns": null,
            "flex": null,
            "_model_name": "LayoutModel",
            "justify_items": null,
            "grid_row": null,
            "max_height": null,
            "align_content": null,
            "visibility": null,
            "align_self": null,
            "height": null,
            "min_height": null,
            "padding": null,
            "grid_auto_rows": null,
            "grid_gap": null,
            "max_width": null,
            "order": null,
            "_view_module_version": "1.2.0",
            "grid_template_areas": null,
            "object_position": null,
            "object_fit": null,
            "grid_auto_columns": null,
            "margin": null,
            "display": null,
            "left": null
          }
        },
        "fb37773309864b20856f496f488cdfc2": {
          "model_module": "@jupyter-widgets/controls",
          "model_name": "DescriptionStyleModel",
          "state": {
            "_view_name": "StyleView",
            "_model_name": "DescriptionStyleModel",
            "description_width": "",
            "_view_module": "@jupyter-widgets/base",
            "_model_module_version": "1.5.0",
            "_view_count": null,
            "_view_module_version": "1.2.0",
            "_model_module": "@jupyter-widgets/controls"
          }
        },
        "2bbb75d26d7145c786c855ad8d416bb1": {
          "model_module": "@jupyter-widgets/base",
          "model_name": "LayoutModel",
          "state": {
            "_view_name": "LayoutView",
            "grid_template_rows": null,
            "right": null,
            "justify_content": null,
            "_view_module": "@jupyter-widgets/base",
            "overflow": null,
            "_model_module_version": "1.2.0",
            "_view_count": null,
            "flex_flow": null,
            "width": null,
            "min_width": null,
            "border": null,
            "align_items": null,
            "bottom": null,
            "_model_module": "@jupyter-widgets/base",
            "top": null,
            "grid_column": null,
            "overflow_y": null,
            "overflow_x": null,
            "grid_auto_flow": null,
            "grid_area": null,
            "grid_template_columns": null,
            "flex": null,
            "_model_name": "LayoutModel",
            "justify_items": null,
            "grid_row": null,
            "max_height": null,
            "align_content": null,
            "visibility": null,
            "align_self": null,
            "height": null,
            "min_height": null,
            "padding": null,
            "grid_auto_rows": null,
            "grid_gap": null,
            "max_width": null,
            "order": null,
            "_view_module_version": "1.2.0",
            "grid_template_areas": null,
            "object_position": null,
            "object_fit": null,
            "grid_auto_columns": null,
            "margin": null,
            "display": null,
            "left": null
          }
        },
        "0c03c92e4cfa487ea7af5aea86e287a6": {
          "model_module": "@jupyter-widgets/controls",
          "model_name": "HBoxModel",
          "state": {
            "_view_name": "HBoxView",
            "_dom_classes": [],
            "_model_name": "HBoxModel",
            "_view_module": "@jupyter-widgets/controls",
            "_model_module_version": "1.5.0",
            "_view_count": null,
            "_view_module_version": "1.5.0",
            "box_style": "",
            "layout": "IPY_MODEL_1ef1417fbecb48509f44c1d6e8702878",
            "_model_module": "@jupyter-widgets/controls",
            "children": [
              "IPY_MODEL_095ba8aaf1194d59987e3d53b5ad83ad",
              "IPY_MODEL_b335f9b114ba4ce3affd36c676faf929"
            ]
          }
        },
        "1ef1417fbecb48509f44c1d6e8702878": {
          "model_module": "@jupyter-widgets/base",
          "model_name": "LayoutModel",
          "state": {
            "_view_name": "LayoutView",
            "grid_template_rows": null,
            "right": null,
            "justify_content": null,
            "_view_module": "@jupyter-widgets/base",
            "overflow": null,
            "_model_module_version": "1.2.0",
            "_view_count": null,
            "flex_flow": null,
            "width": null,
            "min_width": null,
            "border": null,
            "align_items": null,
            "bottom": null,
            "_model_module": "@jupyter-widgets/base",
            "top": null,
            "grid_column": null,
            "overflow_y": null,
            "overflow_x": null,
            "grid_auto_flow": null,
            "grid_area": null,
            "grid_template_columns": null,
            "flex": null,
            "_model_name": "LayoutModel",
            "justify_items": null,
            "grid_row": null,
            "max_height": null,
            "align_content": null,
            "visibility": null,
            "align_self": null,
            "height": null,
            "min_height": null,
            "padding": null,
            "grid_auto_rows": null,
            "grid_gap": null,
            "max_width": null,
            "order": null,
            "_view_module_version": "1.2.0",
            "grid_template_areas": null,
            "object_position": null,
            "object_fit": null,
            "grid_auto_columns": null,
            "margin": null,
            "display": null,
            "left": null
          }
        },
        "095ba8aaf1194d59987e3d53b5ad83ad": {
          "model_module": "@jupyter-widgets/controls",
          "model_name": "FloatProgressModel",
          "state": {
            "_view_name": "ProgressView",
            "style": "IPY_MODEL_7ee70a2bc07e4c17accfd54f1c39ee37",
            "_dom_classes": [],
            "description": "Downloading: 100%",
            "_model_name": "FloatProgressModel",
            "bar_style": "success",
            "max": 46747112,
            "_view_module": "@jupyter-widgets/controls",
            "_model_module_version": "1.5.0",
            "value": 46747112,
            "_view_count": null,
            "_view_module_version": "1.5.0",
            "orientation": "horizontal",
            "min": 0,
            "description_tooltip": null,
            "_model_module": "@jupyter-widgets/controls",
            "layout": "IPY_MODEL_9084547ed4bc4e568598d0afb463f20c"
          }
        },
        "b335f9b114ba4ce3affd36c676faf929": {
          "model_module": "@jupyter-widgets/controls",
          "model_name": "HTMLModel",
          "state": {
            "_view_name": "HTMLView",
            "style": "IPY_MODEL_bf40d10a98e643b2a70a36121fd5f81a",
            "_dom_classes": [],
            "description": "",
            "_model_name": "HTMLModel",
            "placeholder": "​",
            "_view_module": "@jupyter-widgets/controls",
            "_model_module_version": "1.5.0",
            "value": " 46.7M/46.7M [00:01&lt;00:00, 41.0MB/s]",
            "_view_count": null,
            "_view_module_version": "1.5.0",
            "description_tooltip": null,
            "_model_module": "@jupyter-widgets/controls",
            "layout": "IPY_MODEL_4dabd88b30524264bacf4c20ce619b43"
          }
        },
        "7ee70a2bc07e4c17accfd54f1c39ee37": {
          "model_module": "@jupyter-widgets/controls",
          "model_name": "ProgressStyleModel",
          "state": {
            "_view_name": "StyleView",
            "_model_name": "ProgressStyleModel",
            "description_width": "initial",
            "_view_module": "@jupyter-widgets/base",
            "_model_module_version": "1.5.0",
            "_view_count": null,
            "_view_module_version": "1.2.0",
            "bar_color": null,
            "_model_module": "@jupyter-widgets/controls"
          }
        },
        "9084547ed4bc4e568598d0afb463f20c": {
          "model_module": "@jupyter-widgets/base",
          "model_name": "LayoutModel",
          "state": {
            "_view_name": "LayoutView",
            "grid_template_rows": null,
            "right": null,
            "justify_content": null,
            "_view_module": "@jupyter-widgets/base",
            "overflow": null,
            "_model_module_version": "1.2.0",
            "_view_count": null,
            "flex_flow": null,
            "width": null,
            "min_width": null,
            "border": null,
            "align_items": null,
            "bottom": null,
            "_model_module": "@jupyter-widgets/base",
            "top": null,
            "grid_column": null,
            "overflow_y": null,
            "overflow_x": null,
            "grid_auto_flow": null,
            "grid_area": null,
            "grid_template_columns": null,
            "flex": null,
            "_model_name": "LayoutModel",
            "justify_items": null,
            "grid_row": null,
            "max_height": null,
            "align_content": null,
            "visibility": null,
            "align_self": null,
            "height": null,
            "min_height": null,
            "padding": null,
            "grid_auto_rows": null,
            "grid_gap": null,
            "max_width": null,
            "order": null,
            "_view_module_version": "1.2.0",
            "grid_template_areas": null,
            "object_position": null,
            "object_fit": null,
            "grid_auto_columns": null,
            "margin": null,
            "display": null,
            "left": null
          }
        },
        "bf40d10a98e643b2a70a36121fd5f81a": {
          "model_module": "@jupyter-widgets/controls",
          "model_name": "DescriptionStyleModel",
          "state": {
            "_view_name": "StyleView",
            "_model_name": "DescriptionStyleModel",
            "description_width": "",
            "_view_module": "@jupyter-widgets/base",
            "_model_module_version": "1.5.0",
            "_view_count": null,
            "_view_module_version": "1.2.0",
            "_model_module": "@jupyter-widgets/controls"
          }
        },
        "4dabd88b30524264bacf4c20ce619b43": {
          "model_module": "@jupyter-widgets/base",
          "model_name": "LayoutModel",
          "state": {
            "_view_name": "LayoutView",
            "grid_template_rows": null,
            "right": null,
            "justify_content": null,
            "_view_module": "@jupyter-widgets/base",
            "overflow": null,
            "_model_module_version": "1.2.0",
            "_view_count": null,
            "flex_flow": null,
            "width": null,
            "min_width": null,
            "border": null,
            "align_items": null,
            "bottom": null,
            "_model_module": "@jupyter-widgets/base",
            "top": null,
            "grid_column": null,
            "overflow_y": null,
            "overflow_x": null,
            "grid_auto_flow": null,
            "grid_area": null,
            "grid_template_columns": null,
            "flex": null,
            "_model_name": "LayoutModel",
            "justify_items": null,
            "grid_row": null,
            "max_height": null,
            "align_content": null,
            "visibility": null,
            "align_self": null,
            "height": null,
            "min_height": null,
            "padding": null,
            "grid_auto_rows": null,
            "grid_gap": null,
            "max_width": null,
            "order": null,
            "_view_module_version": "1.2.0",
            "grid_template_areas": null,
            "object_position": null,
            "object_fit": null,
            "grid_auto_columns": null,
            "margin": null,
            "display": null,
            "left": null
          }
        },
        "0bd7cbf5fbd849a1a129643c03ce6575": {
          "model_module": "@jupyter-widgets/controls",
          "model_name": "HBoxModel",
          "state": {
            "_view_name": "HBoxView",
            "_dom_classes": [],
            "_model_name": "HBoxModel",
            "_view_module": "@jupyter-widgets/controls",
            "_model_module_version": "1.5.0",
            "_view_count": null,
            "_view_module_version": "1.5.0",
            "box_style": "",
            "layout": "IPY_MODEL_07ee510929b84608980500ccc1208ffa",
            "_model_module": "@jupyter-widgets/controls",
            "children": [
              "IPY_MODEL_d05279efb1354a6d9bab070ccdaf2cf7",
              "IPY_MODEL_f4fdf78cd4a5418cbddcb82d6cb3877f"
            ]
          }
        },
        "07ee510929b84608980500ccc1208ffa": {
          "model_module": "@jupyter-widgets/base",
          "model_name": "LayoutModel",
          "state": {
            "_view_name": "LayoutView",
            "grid_template_rows": null,
            "right": null,
            "justify_content": null,
            "_view_module": "@jupyter-widgets/base",
            "overflow": null,
            "_model_module_version": "1.2.0",
            "_view_count": null,
            "flex_flow": null,
            "width": null,
            "min_width": null,
            "border": null,
            "align_items": null,
            "bottom": null,
            "_model_module": "@jupyter-widgets/base",
            "top": null,
            "grid_column": null,
            "overflow_y": null,
            "overflow_x": null,
            "grid_auto_flow": null,
            "grid_area": null,
            "grid_template_columns": null,
            "flex": null,
            "_model_name": "LayoutModel",
            "justify_items": null,
            "grid_row": null,
            "max_height": null,
            "align_content": null,
            "visibility": null,
            "align_self": null,
            "height": null,
            "min_height": null,
            "padding": null,
            "grid_auto_rows": null,
            "grid_gap": null,
            "max_width": null,
            "order": null,
            "_view_module_version": "1.2.0",
            "grid_template_areas": null,
            "object_position": null,
            "object_fit": null,
            "grid_auto_columns": null,
            "margin": null,
            "display": null,
            "left": null
          }
        },
        "d05279efb1354a6d9bab070ccdaf2cf7": {
          "model_module": "@jupyter-widgets/controls",
          "model_name": "FloatProgressModel",
          "state": {
            "_view_name": "ProgressView",
            "style": "IPY_MODEL_167c3de0d28847a8b5400b8c8628cd52",
            "_dom_classes": [],
            "description": "Downloading: 100%",
            "_model_name": "FloatProgressModel",
            "bar_style": "success",
            "max": 760289,
            "_view_module": "@jupyter-widgets/controls",
            "_model_module_version": "1.5.0",
            "value": 760289,
            "_view_count": null,
            "_view_module_version": "1.5.0",
            "orientation": "horizontal",
            "min": 0,
            "description_tooltip": null,
            "_model_module": "@jupyter-widgets/controls",
            "layout": "IPY_MODEL_e39c22f57d604844aede1d51f6e93cf9"
          }
        },
        "f4fdf78cd4a5418cbddcb82d6cb3877f": {
          "model_module": "@jupyter-widgets/controls",
          "model_name": "HTMLModel",
          "state": {
            "_view_name": "HTMLView",
            "style": "IPY_MODEL_6c19d611acaf4d3d942bcb5745f28b2d",
            "_dom_classes": [],
            "description": "",
            "_model_name": "HTMLModel",
            "placeholder": "​",
            "_view_module": "@jupyter-widgets/controls",
            "_model_module_version": "1.5.0",
            "value": " 760k/760k [00:01&lt;00:00, 661kB/s]",
            "_view_count": null,
            "_view_module_version": "1.5.0",
            "description_tooltip": null,
            "_model_module": "@jupyter-widgets/controls",
            "layout": "IPY_MODEL_6087414cb5f24445b3b564256ffc3291"
          }
        },
        "167c3de0d28847a8b5400b8c8628cd52": {
          "model_module": "@jupyter-widgets/controls",
          "model_name": "ProgressStyleModel",
          "state": {
            "_view_name": "StyleView",
            "_model_name": "ProgressStyleModel",
            "description_width": "initial",
            "_view_module": "@jupyter-widgets/base",
            "_model_module_version": "1.5.0",
            "_view_count": null,
            "_view_module_version": "1.2.0",
            "bar_color": null,
            "_model_module": "@jupyter-widgets/controls"
          }
        },
        "e39c22f57d604844aede1d51f6e93cf9": {
          "model_module": "@jupyter-widgets/base",
          "model_name": "LayoutModel",
          "state": {
            "_view_name": "LayoutView",
            "grid_template_rows": null,
            "right": null,
            "justify_content": null,
            "_view_module": "@jupyter-widgets/base",
            "overflow": null,
            "_model_module_version": "1.2.0",
            "_view_count": null,
            "flex_flow": null,
            "width": null,
            "min_width": null,
            "border": null,
            "align_items": null,
            "bottom": null,
            "_model_module": "@jupyter-widgets/base",
            "top": null,
            "grid_column": null,
            "overflow_y": null,
            "overflow_x": null,
            "grid_auto_flow": null,
            "grid_area": null,
            "grid_template_columns": null,
            "flex": null,
            "_model_name": "LayoutModel",
            "justify_items": null,
            "grid_row": null,
            "max_height": null,
            "align_content": null,
            "visibility": null,
            "align_self": null,
            "height": null,
            "min_height": null,
            "padding": null,
            "grid_auto_rows": null,
            "grid_gap": null,
            "max_width": null,
            "order": null,
            "_view_module_version": "1.2.0",
            "grid_template_areas": null,
            "object_position": null,
            "object_fit": null,
            "grid_auto_columns": null,
            "margin": null,
            "display": null,
            "left": null
          }
        },
        "6c19d611acaf4d3d942bcb5745f28b2d": {
          "model_module": "@jupyter-widgets/controls",
          "model_name": "DescriptionStyleModel",
          "state": {
            "_view_name": "StyleView",
            "_model_name": "DescriptionStyleModel",
            "description_width": "",
            "_view_module": "@jupyter-widgets/base",
            "_model_module_version": "1.5.0",
            "_view_count": null,
            "_view_module_version": "1.2.0",
            "_model_module": "@jupyter-widgets/controls"
          }
        },
        "6087414cb5f24445b3b564256ffc3291": {
          "model_module": "@jupyter-widgets/base",
          "model_name": "LayoutModel",
          "state": {
            "_view_name": "LayoutView",
            "grid_template_rows": null,
            "right": null,
            "justify_content": null,
            "_view_module": "@jupyter-widgets/base",
            "overflow": null,
            "_model_module_version": "1.2.0",
            "_view_count": null,
            "flex_flow": null,
            "width": null,
            "min_width": null,
            "border": null,
            "align_items": null,
            "bottom": null,
            "_model_module": "@jupyter-widgets/base",
            "top": null,
            "grid_column": null,
            "overflow_y": null,
            "overflow_x": null,
            "grid_auto_flow": null,
            "grid_area": null,
            "grid_template_columns": null,
            "flex": null,
            "_model_name": "LayoutModel",
            "justify_items": null,
            "grid_row": null,
            "max_height": null,
            "align_content": null,
            "visibility": null,
            "align_self": null,
            "height": null,
            "min_height": null,
            "padding": null,
            "grid_auto_rows": null,
            "grid_gap": null,
            "max_width": null,
            "order": null,
            "_view_module_version": "1.2.0",
            "grid_template_areas": null,
            "object_position": null,
            "object_fit": null,
            "grid_auto_columns": null,
            "margin": null,
            "display": null,
            "left": null
          }
        },
        "06de43da8b5f4b8d9092ff70a545ce32": {
          "model_module": "@jupyter-widgets/controls",
          "model_name": "HBoxModel",
          "state": {
            "_view_name": "HBoxView",
            "_dom_classes": [],
            "_model_name": "HBoxModel",
            "_view_module": "@jupyter-widgets/controls",
            "_model_module_version": "1.5.0",
            "_view_count": null,
            "_view_module_version": "1.5.0",
            "box_style": "",
            "layout": "IPY_MODEL_4d6bf83e99a445d5ba2fe5a32d3d30e8",
            "_model_module": "@jupyter-widgets/controls",
            "children": [
              "IPY_MODEL_58a5d213724540fb8691afc9b4411563",
              "IPY_MODEL_fff6a27901694dfd9155e7eed7188e04"
            ]
          }
        },
        "4d6bf83e99a445d5ba2fe5a32d3d30e8": {
          "model_module": "@jupyter-widgets/base",
          "model_name": "LayoutModel",
          "state": {
            "_view_name": "LayoutView",
            "grid_template_rows": null,
            "right": null,
            "justify_content": null,
            "_view_module": "@jupyter-widgets/base",
            "overflow": null,
            "_model_module_version": "1.2.0",
            "_view_count": null,
            "flex_flow": null,
            "width": null,
            "min_width": null,
            "border": null,
            "align_items": null,
            "bottom": null,
            "_model_module": "@jupyter-widgets/base",
            "top": null,
            "grid_column": null,
            "overflow_y": null,
            "overflow_x": null,
            "grid_auto_flow": null,
            "grid_area": null,
            "grid_template_columns": null,
            "flex": null,
            "_model_name": "LayoutModel",
            "justify_items": null,
            "grid_row": null,
            "max_height": null,
            "align_content": null,
            "visibility": null,
            "align_self": null,
            "height": null,
            "min_height": null,
            "padding": null,
            "grid_auto_rows": null,
            "grid_gap": null,
            "max_width": null,
            "order": null,
            "_view_module_version": "1.2.0",
            "grid_template_areas": null,
            "object_position": null,
            "object_fit": null,
            "grid_auto_columns": null,
            "margin": null,
            "display": null,
            "left": null
          }
        },
        "58a5d213724540fb8691afc9b4411563": {
          "model_module": "@jupyter-widgets/controls",
          "model_name": "FloatProgressModel",
          "state": {
            "_view_name": "ProgressView",
            "style": "IPY_MODEL_076e49030e2a4e43a01e4bfd2cda600a",
            "_dom_classes": [],
            "description": "Downloading: 100%",
            "_model_name": "FloatProgressModel",
            "bar_style": "success",
            "max": 156,
            "_view_module": "@jupyter-widgets/controls",
            "_model_module_version": "1.5.0",
            "value": 156,
            "_view_count": null,
            "_view_module_version": "1.5.0",
            "orientation": "horizontal",
            "min": 0,
            "description_tooltip": null,
            "_model_module": "@jupyter-widgets/controls",
            "layout": "IPY_MODEL_b17c2cf5b0614724b0ecbfeaebca9b76"
          }
        },
        "fff6a27901694dfd9155e7eed7188e04": {
          "model_module": "@jupyter-widgets/controls",
          "model_name": "HTMLModel",
          "state": {
            "_view_name": "HTMLView",
            "style": "IPY_MODEL_89568c36a2564c16b3f8521cd937d958",
            "_dom_classes": [],
            "description": "",
            "_model_name": "HTMLModel",
            "placeholder": "​",
            "_view_module": "@jupyter-widgets/controls",
            "_model_module_version": "1.5.0",
            "value": " 156/156 [00:00&lt;00:00, 272B/s]",
            "_view_count": null,
            "_view_module_version": "1.5.0",
            "description_tooltip": null,
            "_model_module": "@jupyter-widgets/controls",
            "layout": "IPY_MODEL_c77415eab1c44a6f8ada767060c7c689"
          }
        },
        "076e49030e2a4e43a01e4bfd2cda600a": {
          "model_module": "@jupyter-widgets/controls",
          "model_name": "ProgressStyleModel",
          "state": {
            "_view_name": "StyleView",
            "_model_name": "ProgressStyleModel",
            "description_width": "initial",
            "_view_module": "@jupyter-widgets/base",
            "_model_module_version": "1.5.0",
            "_view_count": null,
            "_view_module_version": "1.2.0",
            "bar_color": null,
            "_model_module": "@jupyter-widgets/controls"
          }
        },
        "b17c2cf5b0614724b0ecbfeaebca9b76": {
          "model_module": "@jupyter-widgets/base",
          "model_name": "LayoutModel",
          "state": {
            "_view_name": "LayoutView",
            "grid_template_rows": null,
            "right": null,
            "justify_content": null,
            "_view_module": "@jupyter-widgets/base",
            "overflow": null,
            "_model_module_version": "1.2.0",
            "_view_count": null,
            "flex_flow": null,
            "width": null,
            "min_width": null,
            "border": null,
            "align_items": null,
            "bottom": null,
            "_model_module": "@jupyter-widgets/base",
            "top": null,
            "grid_column": null,
            "overflow_y": null,
            "overflow_x": null,
            "grid_auto_flow": null,
            "grid_area": null,
            "grid_template_columns": null,
            "flex": null,
            "_model_name": "LayoutModel",
            "justify_items": null,
            "grid_row": null,
            "max_height": null,
            "align_content": null,
            "visibility": null,
            "align_self": null,
            "height": null,
            "min_height": null,
            "padding": null,
            "grid_auto_rows": null,
            "grid_gap": null,
            "max_width": null,
            "order": null,
            "_view_module_version": "1.2.0",
            "grid_template_areas": null,
            "object_position": null,
            "object_fit": null,
            "grid_auto_columns": null,
            "margin": null,
            "display": null,
            "left": null
          }
        },
        "89568c36a2564c16b3f8521cd937d958": {
          "model_module": "@jupyter-widgets/controls",
          "model_name": "DescriptionStyleModel",
          "state": {
            "_view_name": "StyleView",
            "_model_name": "DescriptionStyleModel",
            "description_width": "",
            "_view_module": "@jupyter-widgets/base",
            "_model_module_version": "1.5.0",
            "_view_count": null,
            "_view_module_version": "1.2.0",
            "_model_module": "@jupyter-widgets/controls"
          }
        },
        "c77415eab1c44a6f8ada767060c7c689": {
          "model_module": "@jupyter-widgets/base",
          "model_name": "LayoutModel",
          "state": {
            "_view_name": "LayoutView",
            "grid_template_rows": null,
            "right": null,
            "justify_content": null,
            "_view_module": "@jupyter-widgets/base",
            "overflow": null,
            "_model_module_version": "1.2.0",
            "_view_count": null,
            "flex_flow": null,
            "width": null,
            "min_width": null,
            "border": null,
            "align_items": null,
            "bottom": null,
            "_model_module": "@jupyter-widgets/base",
            "top": null,
            "grid_column": null,
            "overflow_y": null,
            "overflow_x": null,
            "grid_auto_flow": null,
            "grid_area": null,
            "grid_template_columns": null,
            "flex": null,
            "_model_name": "LayoutModel",
            "justify_items": null,
            "grid_row": null,
            "max_height": null,
            "align_content": null,
            "visibility": null,
            "align_self": null,
            "height": null,
            "min_height": null,
            "padding": null,
            "grid_auto_rows": null,
            "grid_gap": null,
            "max_width": null,
            "order": null,
            "_view_module_version": "1.2.0",
            "grid_template_areas": null,
            "object_position": null,
            "object_fit": null,
            "grid_auto_columns": null,
            "margin": null,
            "display": null,
            "left": null
          }
        },
        "631af7e5937a40ceb2dcccc570e69819": {
          "model_module": "@jupyter-widgets/controls",
          "model_name": "HBoxModel",
          "state": {
            "_view_name": "HBoxView",
            "_dom_classes": [],
            "_model_name": "HBoxModel",
            "_view_module": "@jupyter-widgets/controls",
            "_model_module_version": "1.5.0",
            "_view_count": null,
            "_view_module_version": "1.5.0",
            "box_style": "",
            "layout": "IPY_MODEL_47d13e53ca974360b7e2feba793a9746",
            "_model_module": "@jupyter-widgets/controls",
            "children": [
              "IPY_MODEL_91d39b07369d452f936bf5f74c1e8ab4",
              "IPY_MODEL_f42f38080f154226b15b19f23664236c"
            ]
          }
        },
        "47d13e53ca974360b7e2feba793a9746": {
          "model_module": "@jupyter-widgets/base",
          "model_name": "LayoutModel",
          "state": {
            "_view_name": "LayoutView",
            "grid_template_rows": null,
            "right": null,
            "justify_content": null,
            "_view_module": "@jupyter-widgets/base",
            "overflow": null,
            "_model_module_version": "1.2.0",
            "_view_count": null,
            "flex_flow": null,
            "width": null,
            "min_width": null,
            "border": null,
            "align_items": null,
            "bottom": null,
            "_model_module": "@jupyter-widgets/base",
            "top": null,
            "grid_column": null,
            "overflow_y": null,
            "overflow_x": null,
            "grid_auto_flow": null,
            "grid_area": null,
            "grid_template_columns": null,
            "flex": null,
            "_model_name": "LayoutModel",
            "justify_items": null,
            "grid_row": null,
            "max_height": null,
            "align_content": null,
            "visibility": null,
            "align_self": null,
            "height": null,
            "min_height": null,
            "padding": null,
            "grid_auto_rows": null,
            "grid_gap": null,
            "max_width": null,
            "order": null,
            "_view_module_version": "1.2.0",
            "grid_template_areas": null,
            "object_position": null,
            "object_fit": null,
            "grid_auto_columns": null,
            "margin": null,
            "display": null,
            "left": null
          }
        },
        "91d39b07369d452f936bf5f74c1e8ab4": {
          "model_module": "@jupyter-widgets/controls",
          "model_name": "FloatProgressModel",
          "state": {
            "_view_name": "ProgressView",
            "style": "IPY_MODEL_fff22a78ab884398830005806191ab38",
            "_dom_classes": [],
            "description": "Downloading: 100%",
            "_model_name": "FloatProgressModel",
            "bar_style": "success",
            "max": 25,
            "_view_module": "@jupyter-widgets/controls",
            "_model_module_version": "1.5.0",
            "value": 25,
            "_view_count": null,
            "_view_module_version": "1.5.0",
            "orientation": "horizontal",
            "min": 0,
            "description_tooltip": null,
            "_model_module": "@jupyter-widgets/controls",
            "layout": "IPY_MODEL_b6262ff13b8f416ca58f85f67698575a"
          }
        },
        "f42f38080f154226b15b19f23664236c": {
          "model_module": "@jupyter-widgets/controls",
          "model_name": "HTMLModel",
          "state": {
            "_view_name": "HTMLView",
            "style": "IPY_MODEL_81a4fde398f94282b4dafc130ac28fd6",
            "_dom_classes": [],
            "description": "",
            "_model_name": "HTMLModel",
            "placeholder": "​",
            "_view_module": "@jupyter-widgets/controls",
            "_model_module_version": "1.5.0",
            "value": " 25.0/25.0 [00:00&lt;00:00, 213B/s]",
            "_view_count": null,
            "_view_module_version": "1.5.0",
            "description_tooltip": null,
            "_model_module": "@jupyter-widgets/controls",
            "layout": "IPY_MODEL_e298c04555654070a98cead2ef888396"
          }
        },
        "fff22a78ab884398830005806191ab38": {
          "model_module": "@jupyter-widgets/controls",
          "model_name": "ProgressStyleModel",
          "state": {
            "_view_name": "StyleView",
            "_model_name": "ProgressStyleModel",
            "description_width": "initial",
            "_view_module": "@jupyter-widgets/base",
            "_model_module_version": "1.5.0",
            "_view_count": null,
            "_view_module_version": "1.2.0",
            "bar_color": null,
            "_model_module": "@jupyter-widgets/controls"
          }
        },
        "b6262ff13b8f416ca58f85f67698575a": {
          "model_module": "@jupyter-widgets/base",
          "model_name": "LayoutModel",
          "state": {
            "_view_name": "LayoutView",
            "grid_template_rows": null,
            "right": null,
            "justify_content": null,
            "_view_module": "@jupyter-widgets/base",
            "overflow": null,
            "_model_module_version": "1.2.0",
            "_view_count": null,
            "flex_flow": null,
            "width": null,
            "min_width": null,
            "border": null,
            "align_items": null,
            "bottom": null,
            "_model_module": "@jupyter-widgets/base",
            "top": null,
            "grid_column": null,
            "overflow_y": null,
            "overflow_x": null,
            "grid_auto_flow": null,
            "grid_area": null,
            "grid_template_columns": null,
            "flex": null,
            "_model_name": "LayoutModel",
            "justify_items": null,
            "grid_row": null,
            "max_height": null,
            "align_content": null,
            "visibility": null,
            "align_self": null,
            "height": null,
            "min_height": null,
            "padding": null,
            "grid_auto_rows": null,
            "grid_gap": null,
            "max_width": null,
            "order": null,
            "_view_module_version": "1.2.0",
            "grid_template_areas": null,
            "object_position": null,
            "object_fit": null,
            "grid_auto_columns": null,
            "margin": null,
            "display": null,
            "left": null
          }
        },
        "81a4fde398f94282b4dafc130ac28fd6": {
          "model_module": "@jupyter-widgets/controls",
          "model_name": "DescriptionStyleModel",
          "state": {
            "_view_name": "StyleView",
            "_model_name": "DescriptionStyleModel",
            "description_width": "",
            "_view_module": "@jupyter-widgets/base",
            "_model_module_version": "1.5.0",
            "_view_count": null,
            "_view_module_version": "1.2.0",
            "_model_module": "@jupyter-widgets/controls"
          }
        },
        "e298c04555654070a98cead2ef888396": {
          "model_module": "@jupyter-widgets/base",
          "model_name": "LayoutModel",
          "state": {
            "_view_name": "LayoutView",
            "grid_template_rows": null,
            "right": null,
            "justify_content": null,
            "_view_module": "@jupyter-widgets/base",
            "overflow": null,
            "_model_module_version": "1.2.0",
            "_view_count": null,
            "flex_flow": null,
            "width": null,
            "min_width": null,
            "border": null,
            "align_items": null,
            "bottom": null,
            "_model_module": "@jupyter-widgets/base",
            "top": null,
            "grid_column": null,
            "overflow_y": null,
            "overflow_x": null,
            "grid_auto_flow": null,
            "grid_area": null,
            "grid_template_columns": null,
            "flex": null,
            "_model_name": "LayoutModel",
            "justify_items": null,
            "grid_row": null,
            "max_height": null,
            "align_content": null,
            "visibility": null,
            "align_self": null,
            "height": null,
            "min_height": null,
            "padding": null,
            "grid_auto_rows": null,
            "grid_gap": null,
            "max_width": null,
            "order": null,
            "_view_module_version": "1.2.0",
            "grid_template_areas": null,
            "object_position": null,
            "object_fit": null,
            "grid_auto_columns": null,
            "margin": null,
            "display": null,
            "left": null
          }
        },
        "44453db0fb02409a8a34e39f77e68e71": {
          "model_module": "@jupyter-widgets/controls",
          "model_name": "HBoxModel",
          "state": {
            "_view_name": "HBoxView",
            "_dom_classes": [],
            "_model_name": "HBoxModel",
            "_view_module": "@jupyter-widgets/controls",
            "_model_module_version": "1.5.0",
            "_view_count": null,
            "_view_module_version": "1.5.0",
            "box_style": "",
            "layout": "IPY_MODEL_e6144d1d356d4ef7b6a548910522e129",
            "_model_module": "@jupyter-widgets/controls",
            "children": [
              "IPY_MODEL_8b159900a8bf47f99497876f3fd27807",
              "IPY_MODEL_f0ff6e13194b4c57ab34e8102a21c978"
            ]
          }
        },
        "e6144d1d356d4ef7b6a548910522e129": {
          "model_module": "@jupyter-widgets/base",
          "model_name": "LayoutModel",
          "state": {
            "_view_name": "LayoutView",
            "grid_template_rows": null,
            "right": null,
            "justify_content": null,
            "_view_module": "@jupyter-widgets/base",
            "overflow": null,
            "_model_module_version": "1.2.0",
            "_view_count": null,
            "flex_flow": null,
            "width": null,
            "min_width": null,
            "border": null,
            "align_items": null,
            "bottom": null,
            "_model_module": "@jupyter-widgets/base",
            "top": null,
            "grid_column": null,
            "overflow_y": null,
            "overflow_x": null,
            "grid_auto_flow": null,
            "grid_area": null,
            "grid_template_columns": null,
            "flex": null,
            "_model_name": "LayoutModel",
            "justify_items": null,
            "grid_row": null,
            "max_height": null,
            "align_content": null,
            "visibility": null,
            "align_self": null,
            "height": null,
            "min_height": null,
            "padding": null,
            "grid_auto_rows": null,
            "grid_gap": null,
            "max_width": null,
            "order": null,
            "_view_module_version": "1.2.0",
            "grid_template_areas": null,
            "object_position": null,
            "object_fit": null,
            "grid_auto_columns": null,
            "margin": null,
            "display": null,
            "left": null
          }
        },
        "8b159900a8bf47f99497876f3fd27807": {
          "model_module": "@jupyter-widgets/controls",
          "model_name": "FloatProgressModel",
          "state": {
            "_view_name": "ProgressView",
            "style": "IPY_MODEL_5d27b8bbdab149dca294d6a403a76c51",
            "_dom_classes": [],
            "description": "Downloading: ",
            "_model_name": "FloatProgressModel",
            "bar_style": "success",
            "max": 7777,
            "_view_module": "@jupyter-widgets/controls",
            "_model_module_version": "1.5.0",
            "value": 7777,
            "_view_count": null,
            "_view_module_version": "1.5.0",
            "orientation": "horizontal",
            "min": 0,
            "description_tooltip": null,
            "_model_module": "@jupyter-widgets/controls",
            "layout": "IPY_MODEL_d663a32f969645818fdbdc6b0b82b17d"
          }
        },
        "f0ff6e13194b4c57ab34e8102a21c978": {
          "model_module": "@jupyter-widgets/controls",
          "model_name": "HTMLModel",
          "state": {
            "_view_name": "HTMLView",
            "style": "IPY_MODEL_86dd3961f66545b78e6f00015754f65d",
            "_dom_classes": [],
            "description": "",
            "_model_name": "HTMLModel",
            "placeholder": "​",
            "_view_module": "@jupyter-widgets/controls",
            "_model_module_version": "1.5.0",
            "value": " 28.8k/? [00:01&lt;00:00, 15.6kB/s]",
            "_view_count": null,
            "_view_module_version": "1.5.0",
            "description_tooltip": null,
            "_model_module": "@jupyter-widgets/controls",
            "layout": "IPY_MODEL_ea37efd8d69d4007b333948439edb393"
          }
        },
        "5d27b8bbdab149dca294d6a403a76c51": {
          "model_module": "@jupyter-widgets/controls",
          "model_name": "ProgressStyleModel",
          "state": {
            "_view_name": "StyleView",
            "_model_name": "ProgressStyleModel",
            "description_width": "initial",
            "_view_module": "@jupyter-widgets/base",
            "_model_module_version": "1.5.0",
            "_view_count": null,
            "_view_module_version": "1.2.0",
            "bar_color": null,
            "_model_module": "@jupyter-widgets/controls"
          }
        },
        "d663a32f969645818fdbdc6b0b82b17d": {
          "model_module": "@jupyter-widgets/base",
          "model_name": "LayoutModel",
          "state": {
            "_view_name": "LayoutView",
            "grid_template_rows": null,
            "right": null,
            "justify_content": null,
            "_view_module": "@jupyter-widgets/base",
            "overflow": null,
            "_model_module_version": "1.2.0",
            "_view_count": null,
            "flex_flow": null,
            "width": null,
            "min_width": null,
            "border": null,
            "align_items": null,
            "bottom": null,
            "_model_module": "@jupyter-widgets/base",
            "top": null,
            "grid_column": null,
            "overflow_y": null,
            "overflow_x": null,
            "grid_auto_flow": null,
            "grid_area": null,
            "grid_template_columns": null,
            "flex": null,
            "_model_name": "LayoutModel",
            "justify_items": null,
            "grid_row": null,
            "max_height": null,
            "align_content": null,
            "visibility": null,
            "align_self": null,
            "height": null,
            "min_height": null,
            "padding": null,
            "grid_auto_rows": null,
            "grid_gap": null,
            "max_width": null,
            "order": null,
            "_view_module_version": "1.2.0",
            "grid_template_areas": null,
            "object_position": null,
            "object_fit": null,
            "grid_auto_columns": null,
            "margin": null,
            "display": null,
            "left": null
          }
        },
        "86dd3961f66545b78e6f00015754f65d": {
          "model_module": "@jupyter-widgets/controls",
          "model_name": "DescriptionStyleModel",
          "state": {
            "_view_name": "StyleView",
            "_model_name": "DescriptionStyleModel",
            "description_width": "",
            "_view_module": "@jupyter-widgets/base",
            "_model_module_version": "1.5.0",
            "_view_count": null,
            "_view_module_version": "1.2.0",
            "_model_module": "@jupyter-widgets/controls"
          }
        },
        "ea37efd8d69d4007b333948439edb393": {
          "model_module": "@jupyter-widgets/base",
          "model_name": "LayoutModel",
          "state": {
            "_view_name": "LayoutView",
            "grid_template_rows": null,
            "right": null,
            "justify_content": null,
            "_view_module": "@jupyter-widgets/base",
            "overflow": null,
            "_model_module_version": "1.2.0",
            "_view_count": null,
            "flex_flow": null,
            "width": null,
            "min_width": null,
            "border": null,
            "align_items": null,
            "bottom": null,
            "_model_module": "@jupyter-widgets/base",
            "top": null,
            "grid_column": null,
            "overflow_y": null,
            "overflow_x": null,
            "grid_auto_flow": null,
            "grid_area": null,
            "grid_template_columns": null,
            "flex": null,
            "_model_name": "LayoutModel",
            "justify_items": null,
            "grid_row": null,
            "max_height": null,
            "align_content": null,
            "visibility": null,
            "align_self": null,
            "height": null,
            "min_height": null,
            "padding": null,
            "grid_auto_rows": null,
            "grid_gap": null,
            "max_width": null,
            "order": null,
            "_view_module_version": "1.2.0",
            "grid_template_areas": null,
            "object_position": null,
            "object_fit": null,
            "grid_auto_columns": null,
            "margin": null,
            "display": null,
            "left": null
          }
        },
        "c6edf9f03c984c57a234f22de3fcfd8a": {
          "model_module": "@jupyter-widgets/controls",
          "model_name": "HBoxModel",
          "state": {
            "_view_name": "HBoxView",
            "_dom_classes": [],
            "_model_name": "HBoxModel",
            "_view_module": "@jupyter-widgets/controls",
            "_model_module_version": "1.5.0",
            "_view_count": null,
            "_view_module_version": "1.5.0",
            "box_style": "",
            "layout": "IPY_MODEL_24f2eddb27814240b3fb26e11294d13e",
            "_model_module": "@jupyter-widgets/controls",
            "children": [
              "IPY_MODEL_9ec5e4ea502149709f501748f0808b41",
              "IPY_MODEL_74815fcc458f4371a9cfa6e73964fc23"
            ]
          }
        },
        "24f2eddb27814240b3fb26e11294d13e": {
          "model_module": "@jupyter-widgets/base",
          "model_name": "LayoutModel",
          "state": {
            "_view_name": "LayoutView",
            "grid_template_rows": null,
            "right": null,
            "justify_content": null,
            "_view_module": "@jupyter-widgets/base",
            "overflow": null,
            "_model_module_version": "1.2.0",
            "_view_count": null,
            "flex_flow": null,
            "width": null,
            "min_width": null,
            "border": null,
            "align_items": null,
            "bottom": null,
            "_model_module": "@jupyter-widgets/base",
            "top": null,
            "grid_column": null,
            "overflow_y": null,
            "overflow_x": null,
            "grid_auto_flow": null,
            "grid_area": null,
            "grid_template_columns": null,
            "flex": null,
            "_model_name": "LayoutModel",
            "justify_items": null,
            "grid_row": null,
            "max_height": null,
            "align_content": null,
            "visibility": null,
            "align_self": null,
            "height": null,
            "min_height": null,
            "padding": null,
            "grid_auto_rows": null,
            "grid_gap": null,
            "max_width": null,
            "order": null,
            "_view_module_version": "1.2.0",
            "grid_template_areas": null,
            "object_position": null,
            "object_fit": null,
            "grid_auto_columns": null,
            "margin": null,
            "display": null,
            "left": null
          }
        },
        "9ec5e4ea502149709f501748f0808b41": {
          "model_module": "@jupyter-widgets/controls",
          "model_name": "FloatProgressModel",
          "state": {
            "_view_name": "ProgressView",
            "style": "IPY_MODEL_cf8c9a83c7db41faae7a3efedc607b39",
            "_dom_classes": [],
            "description": "Downloading: ",
            "_model_name": "FloatProgressModel",
            "bar_style": "success",
            "max": 4473,
            "_view_module": "@jupyter-widgets/controls",
            "_model_module_version": "1.5.0",
            "value": 4473,
            "_view_count": null,
            "_view_module_version": "1.5.0",
            "orientation": "horizontal",
            "min": 0,
            "description_tooltip": null,
            "_model_module": "@jupyter-widgets/controls",
            "layout": "IPY_MODEL_9f305bed1b724fbba7896c3b0290435b"
          }
        },
        "74815fcc458f4371a9cfa6e73964fc23": {
          "model_module": "@jupyter-widgets/controls",
          "model_name": "HTMLModel",
          "state": {
            "_view_name": "HTMLView",
            "style": "IPY_MODEL_eb028412fb3e417790f45235df5ecfda",
            "_dom_classes": [],
            "description": "",
            "_model_name": "HTMLModel",
            "placeholder": "​",
            "_view_module": "@jupyter-widgets/controls",
            "_model_module_version": "1.5.0",
            "value": " 28.7k/? [00:00&lt;00:00, 339kB/s]",
            "_view_count": null,
            "_view_module_version": "1.5.0",
            "description_tooltip": null,
            "_model_module": "@jupyter-widgets/controls",
            "layout": "IPY_MODEL_76686b1409cd4fb9901078eb9932af0c"
          }
        },
        "cf8c9a83c7db41faae7a3efedc607b39": {
          "model_module": "@jupyter-widgets/controls",
          "model_name": "ProgressStyleModel",
          "state": {
            "_view_name": "StyleView",
            "_model_name": "ProgressStyleModel",
            "description_width": "initial",
            "_view_module": "@jupyter-widgets/base",
            "_model_module_version": "1.5.0",
            "_view_count": null,
            "_view_module_version": "1.2.0",
            "bar_color": null,
            "_model_module": "@jupyter-widgets/controls"
          }
        },
        "9f305bed1b724fbba7896c3b0290435b": {
          "model_module": "@jupyter-widgets/base",
          "model_name": "LayoutModel",
          "state": {
            "_view_name": "LayoutView",
            "grid_template_rows": null,
            "right": null,
            "justify_content": null,
            "_view_module": "@jupyter-widgets/base",
            "overflow": null,
            "_model_module_version": "1.2.0",
            "_view_count": null,
            "flex_flow": null,
            "width": null,
            "min_width": null,
            "border": null,
            "align_items": null,
            "bottom": null,
            "_model_module": "@jupyter-widgets/base",
            "top": null,
            "grid_column": null,
            "overflow_y": null,
            "overflow_x": null,
            "grid_auto_flow": null,
            "grid_area": null,
            "grid_template_columns": null,
            "flex": null,
            "_model_name": "LayoutModel",
            "justify_items": null,
            "grid_row": null,
            "max_height": null,
            "align_content": null,
            "visibility": null,
            "align_self": null,
            "height": null,
            "min_height": null,
            "padding": null,
            "grid_auto_rows": null,
            "grid_gap": null,
            "max_width": null,
            "order": null,
            "_view_module_version": "1.2.0",
            "grid_template_areas": null,
            "object_position": null,
            "object_fit": null,
            "grid_auto_columns": null,
            "margin": null,
            "display": null,
            "left": null
          }
        },
        "eb028412fb3e417790f45235df5ecfda": {
          "model_module": "@jupyter-widgets/controls",
          "model_name": "DescriptionStyleModel",
          "state": {
            "_view_name": "StyleView",
            "_model_name": "DescriptionStyleModel",
            "description_width": "",
            "_view_module": "@jupyter-widgets/base",
            "_model_module_version": "1.5.0",
            "_view_count": null,
            "_view_module_version": "1.2.0",
            "_model_module": "@jupyter-widgets/controls"
          }
        },
        "76686b1409cd4fb9901078eb9932af0c": {
          "model_module": "@jupyter-widgets/base",
          "model_name": "LayoutModel",
          "state": {
            "_view_name": "LayoutView",
            "grid_template_rows": null,
            "right": null,
            "justify_content": null,
            "_view_module": "@jupyter-widgets/base",
            "overflow": null,
            "_model_module_version": "1.2.0",
            "_view_count": null,
            "flex_flow": null,
            "width": null,
            "min_width": null,
            "border": null,
            "align_items": null,
            "bottom": null,
            "_model_module": "@jupyter-widgets/base",
            "top": null,
            "grid_column": null,
            "overflow_y": null,
            "overflow_x": null,
            "grid_auto_flow": null,
            "grid_area": null,
            "grid_template_columns": null,
            "flex": null,
            "_model_name": "LayoutModel",
            "justify_items": null,
            "grid_row": null,
            "max_height": null,
            "align_content": null,
            "visibility": null,
            "align_self": null,
            "height": null,
            "min_height": null,
            "padding": null,
            "grid_auto_rows": null,
            "grid_gap": null,
            "max_width": null,
            "order": null,
            "_view_module_version": "1.2.0",
            "grid_template_areas": null,
            "object_position": null,
            "object_fit": null,
            "grid_auto_columns": null,
            "margin": null,
            "display": null,
            "left": null
          }
        },
        "84b01d6be54b4d0c9c729b69550fe6d6": {
          "model_module": "@jupyter-widgets/controls",
          "model_name": "HBoxModel",
          "state": {
            "_view_name": "HBoxView",
            "_dom_classes": [],
            "_model_name": "HBoxModel",
            "_view_module": "@jupyter-widgets/controls",
            "_model_module_version": "1.5.0",
            "_view_count": null,
            "_view_module_version": "1.5.0",
            "box_style": "",
            "layout": "IPY_MODEL_e8c4a26c733d4a48830b2dceff721764",
            "_model_module": "@jupyter-widgets/controls",
            "children": [
              "IPY_MODEL_c82e43336d5b41d6850b2cf71d38ffda",
              "IPY_MODEL_43e3a77c396c4cae9b5842d7dd9ff262"
            ]
          }
        },
        "e8c4a26c733d4a48830b2dceff721764": {
          "model_module": "@jupyter-widgets/base",
          "model_name": "LayoutModel",
          "state": {
            "_view_name": "LayoutView",
            "grid_template_rows": null,
            "right": null,
            "justify_content": null,
            "_view_module": "@jupyter-widgets/base",
            "overflow": null,
            "_model_module_version": "1.2.0",
            "_view_count": null,
            "flex_flow": null,
            "width": null,
            "min_width": null,
            "border": null,
            "align_items": null,
            "bottom": null,
            "_model_module": "@jupyter-widgets/base",
            "top": null,
            "grid_column": null,
            "overflow_y": null,
            "overflow_x": null,
            "grid_auto_flow": null,
            "grid_area": null,
            "grid_template_columns": null,
            "flex": null,
            "_model_name": "LayoutModel",
            "justify_items": null,
            "grid_row": null,
            "max_height": null,
            "align_content": null,
            "visibility": null,
            "align_self": null,
            "height": null,
            "min_height": null,
            "padding": null,
            "grid_auto_rows": null,
            "grid_gap": null,
            "max_width": null,
            "order": null,
            "_view_module_version": "1.2.0",
            "grid_template_areas": null,
            "object_position": null,
            "object_fit": null,
            "grid_auto_columns": null,
            "margin": null,
            "display": null,
            "left": null
          }
        },
        "c82e43336d5b41d6850b2cf71d38ffda": {
          "model_module": "@jupyter-widgets/controls",
          "model_name": "FloatProgressModel",
          "state": {
            "_view_name": "ProgressView",
            "style": "IPY_MODEL_9cbb24b027b94e96bb395eba9e890c27",
            "_dom_classes": [],
            "description": "Downloading: 100%",
            "_model_name": "FloatProgressModel",
            "bar_style": "success",
            "max": 7439277,
            "_view_module": "@jupyter-widgets/controls",
            "_model_module_version": "1.5.0",
            "value": 7439277,
            "_view_count": null,
            "_view_module_version": "1.5.0",
            "orientation": "horizontal",
            "min": 0,
            "description_tooltip": null,
            "_model_module": "@jupyter-widgets/controls",
            "layout": "IPY_MODEL_4c61dcad224e448aa86bfedae4dc1794"
          }
        },
        "43e3a77c396c4cae9b5842d7dd9ff262": {
          "model_module": "@jupyter-widgets/controls",
          "model_name": "HTMLModel",
          "state": {
            "_view_name": "HTMLView",
            "style": "IPY_MODEL_c0383d9d602645af846a16bd98f3b945",
            "_dom_classes": [],
            "description": "",
            "_model_name": "HTMLModel",
            "placeholder": "​",
            "_view_module": "@jupyter-widgets/controls",
            "_model_module_version": "1.5.0",
            "value": " 7.44M/7.44M [00:00&lt;00:00, 13.9MB/s]",
            "_view_count": null,
            "_view_module_version": "1.5.0",
            "description_tooltip": null,
            "_model_module": "@jupyter-widgets/controls",
            "layout": "IPY_MODEL_e95e03e55e794b0d9f6758472a201b95"
          }
        },
        "9cbb24b027b94e96bb395eba9e890c27": {
          "model_module": "@jupyter-widgets/controls",
          "model_name": "ProgressStyleModel",
          "state": {
            "_view_name": "StyleView",
            "_model_name": "ProgressStyleModel",
            "description_width": "initial",
            "_view_module": "@jupyter-widgets/base",
            "_model_module_version": "1.5.0",
            "_view_count": null,
            "_view_module_version": "1.2.0",
            "bar_color": null,
            "_model_module": "@jupyter-widgets/controls"
          }
        },
        "4c61dcad224e448aa86bfedae4dc1794": {
          "model_module": "@jupyter-widgets/base",
          "model_name": "LayoutModel",
          "state": {
            "_view_name": "LayoutView",
            "grid_template_rows": null,
            "right": null,
            "justify_content": null,
            "_view_module": "@jupyter-widgets/base",
            "overflow": null,
            "_model_module_version": "1.2.0",
            "_view_count": null,
            "flex_flow": null,
            "width": null,
            "min_width": null,
            "border": null,
            "align_items": null,
            "bottom": null,
            "_model_module": "@jupyter-widgets/base",
            "top": null,
            "grid_column": null,
            "overflow_y": null,
            "overflow_x": null,
            "grid_auto_flow": null,
            "grid_area": null,
            "grid_template_columns": null,
            "flex": null,
            "_model_name": "LayoutModel",
            "justify_items": null,
            "grid_row": null,
            "max_height": null,
            "align_content": null,
            "visibility": null,
            "align_self": null,
            "height": null,
            "min_height": null,
            "padding": null,
            "grid_auto_rows": null,
            "grid_gap": null,
            "max_width": null,
            "order": null,
            "_view_module_version": "1.2.0",
            "grid_template_areas": null,
            "object_position": null,
            "object_fit": null,
            "grid_auto_columns": null,
            "margin": null,
            "display": null,
            "left": null
          }
        },
        "c0383d9d602645af846a16bd98f3b945": {
          "model_module": "@jupyter-widgets/controls",
          "model_name": "DescriptionStyleModel",
          "state": {
            "_view_name": "StyleView",
            "_model_name": "DescriptionStyleModel",
            "description_width": "",
            "_view_module": "@jupyter-widgets/base",
            "_model_module_version": "1.5.0",
            "_view_count": null,
            "_view_module_version": "1.2.0",
            "_model_module": "@jupyter-widgets/controls"
          }
        },
        "e95e03e55e794b0d9f6758472a201b95": {
          "model_module": "@jupyter-widgets/base",
          "model_name": "LayoutModel",
          "state": {
            "_view_name": "LayoutView",
            "grid_template_rows": null,
            "right": null,
            "justify_content": null,
            "_view_module": "@jupyter-widgets/base",
            "overflow": null,
            "_model_module_version": "1.2.0",
            "_view_count": null,
            "flex_flow": null,
            "width": null,
            "min_width": null,
            "border": null,
            "align_items": null,
            "bottom": null,
            "_model_module": "@jupyter-widgets/base",
            "top": null,
            "grid_column": null,
            "overflow_y": null,
            "overflow_x": null,
            "grid_auto_flow": null,
            "grid_area": null,
            "grid_template_columns": null,
            "flex": null,
            "_model_name": "LayoutModel",
            "justify_items": null,
            "grid_row": null,
            "max_height": null,
            "align_content": null,
            "visibility": null,
            "align_self": null,
            "height": null,
            "min_height": null,
            "padding": null,
            "grid_auto_rows": null,
            "grid_gap": null,
            "max_width": null,
            "order": null,
            "_view_module_version": "1.2.0",
            "grid_template_areas": null,
            "object_position": null,
            "object_fit": null,
            "grid_auto_columns": null,
            "margin": null,
            "display": null,
            "left": null
          }
        },
        "ea1b0d0498a142108e62a984596b2461": {
          "model_module": "@jupyter-widgets/controls",
          "model_name": "HBoxModel",
          "state": {
            "_view_name": "HBoxView",
            "_dom_classes": [],
            "_model_name": "HBoxModel",
            "_view_module": "@jupyter-widgets/controls",
            "_model_module_version": "1.5.0",
            "_view_count": null,
            "_view_module_version": "1.5.0",
            "box_style": "",
            "layout": "IPY_MODEL_a5e0f78e212449ba8f0f3dfe7a11813f",
            "_model_module": "@jupyter-widgets/controls",
            "children": [
              "IPY_MODEL_1cb24c2af867469195eeefc8b260140c",
              "IPY_MODEL_e4e88b666a3e4423a7c27cdac935db03"
            ]
          }
        },
        "a5e0f78e212449ba8f0f3dfe7a11813f": {
          "model_module": "@jupyter-widgets/base",
          "model_name": "LayoutModel",
          "state": {
            "_view_name": "LayoutView",
            "grid_template_rows": null,
            "right": null,
            "justify_content": null,
            "_view_module": "@jupyter-widgets/base",
            "overflow": null,
            "_model_module_version": "1.2.0",
            "_view_count": null,
            "flex_flow": null,
            "width": null,
            "min_width": null,
            "border": null,
            "align_items": null,
            "bottom": null,
            "_model_module": "@jupyter-widgets/base",
            "top": null,
            "grid_column": null,
            "overflow_y": null,
            "overflow_x": null,
            "grid_auto_flow": null,
            "grid_area": null,
            "grid_template_columns": null,
            "flex": null,
            "_model_name": "LayoutModel",
            "justify_items": null,
            "grid_row": null,
            "max_height": null,
            "align_content": null,
            "visibility": null,
            "align_self": null,
            "height": null,
            "min_height": null,
            "padding": null,
            "grid_auto_rows": null,
            "grid_gap": null,
            "max_width": null,
            "order": null,
            "_view_module_version": "1.2.0",
            "grid_template_areas": null,
            "object_position": null,
            "object_fit": null,
            "grid_auto_columns": null,
            "margin": null,
            "display": null,
            "left": null
          }
        },
        "1cb24c2af867469195eeefc8b260140c": {
          "model_module": "@jupyter-widgets/controls",
          "model_name": "FloatProgressModel",
          "state": {
            "_view_name": "ProgressView",
            "style": "IPY_MODEL_5c4c983eae7a4c3abe7b393d095c314c",
            "_dom_classes": [],
            "description": "",
            "_model_name": "FloatProgressModel",
            "bar_style": "info",
            "max": 1,
            "_view_module": "@jupyter-widgets/controls",
            "_model_module_version": "1.5.0",
            "value": 1,
            "_view_count": null,
            "_view_module_version": "1.5.0",
            "orientation": "horizontal",
            "min": 0,
            "description_tooltip": null,
            "_model_module": "@jupyter-widgets/controls",
            "layout": "IPY_MODEL_2c6144f01a754890adb185abc1ef30bd"
          }
        },
        "e4e88b666a3e4423a7c27cdac935db03": {
          "model_module": "@jupyter-widgets/controls",
          "model_name": "HTMLModel",
          "state": {
            "_view_name": "HTMLView",
            "style": "IPY_MODEL_7705f1ee1ec34fd0a34a931263860b2a",
            "_dom_classes": [],
            "description": "",
            "_model_name": "HTMLModel",
            "placeholder": "​",
            "_view_module": "@jupyter-widgets/controls",
            "_model_module_version": "1.5.0",
            "value": " 67349/0 [00:03&lt;00:00, 138.63 examples/s]",
            "_view_count": null,
            "_view_module_version": "1.5.0",
            "description_tooltip": null,
            "_model_module": "@jupyter-widgets/controls",
            "layout": "IPY_MODEL_b88d6142506b4e2583caf0ddf1faa31c"
          }
        },
        "5c4c983eae7a4c3abe7b393d095c314c": {
          "model_module": "@jupyter-widgets/controls",
          "model_name": "ProgressStyleModel",
          "state": {
            "_view_name": "StyleView",
            "_model_name": "ProgressStyleModel",
            "description_width": "initial",
            "_view_module": "@jupyter-widgets/base",
            "_model_module_version": "1.5.0",
            "_view_count": null,
            "_view_module_version": "1.2.0",
            "bar_color": null,
            "_model_module": "@jupyter-widgets/controls"
          }
        },
        "2c6144f01a754890adb185abc1ef30bd": {
          "model_module": "@jupyter-widgets/base",
          "model_name": "LayoutModel",
          "state": {
            "_view_name": "LayoutView",
            "grid_template_rows": null,
            "right": null,
            "justify_content": null,
            "_view_module": "@jupyter-widgets/base",
            "overflow": null,
            "_model_module_version": "1.2.0",
            "_view_count": null,
            "flex_flow": null,
            "width": null,
            "min_width": null,
            "border": null,
            "align_items": null,
            "bottom": null,
            "_model_module": "@jupyter-widgets/base",
            "top": null,
            "grid_column": null,
            "overflow_y": null,
            "overflow_x": null,
            "grid_auto_flow": null,
            "grid_area": null,
            "grid_template_columns": null,
            "flex": null,
            "_model_name": "LayoutModel",
            "justify_items": null,
            "grid_row": null,
            "max_height": null,
            "align_content": null,
            "visibility": null,
            "align_self": null,
            "height": null,
            "min_height": null,
            "padding": null,
            "grid_auto_rows": null,
            "grid_gap": null,
            "max_width": null,
            "order": null,
            "_view_module_version": "1.2.0",
            "grid_template_areas": null,
            "object_position": null,
            "object_fit": null,
            "grid_auto_columns": null,
            "margin": null,
            "display": null,
            "left": null
          }
        },
        "7705f1ee1ec34fd0a34a931263860b2a": {
          "model_module": "@jupyter-widgets/controls",
          "model_name": "DescriptionStyleModel",
          "state": {
            "_view_name": "StyleView",
            "_model_name": "DescriptionStyleModel",
            "description_width": "",
            "_view_module": "@jupyter-widgets/base",
            "_model_module_version": "1.5.0",
            "_view_count": null,
            "_view_module_version": "1.2.0",
            "_model_module": "@jupyter-widgets/controls"
          }
        },
        "b88d6142506b4e2583caf0ddf1faa31c": {
          "model_module": "@jupyter-widgets/base",
          "model_name": "LayoutModel",
          "state": {
            "_view_name": "LayoutView",
            "grid_template_rows": null,
            "right": null,
            "justify_content": null,
            "_view_module": "@jupyter-widgets/base",
            "overflow": null,
            "_model_module_version": "1.2.0",
            "_view_count": null,
            "flex_flow": null,
            "width": null,
            "min_width": null,
            "border": null,
            "align_items": null,
            "bottom": null,
            "_model_module": "@jupyter-widgets/base",
            "top": null,
            "grid_column": null,
            "overflow_y": null,
            "overflow_x": null,
            "grid_auto_flow": null,
            "grid_area": null,
            "grid_template_columns": null,
            "flex": null,
            "_model_name": "LayoutModel",
            "justify_items": null,
            "grid_row": null,
            "max_height": null,
            "align_content": null,
            "visibility": null,
            "align_self": null,
            "height": null,
            "min_height": null,
            "padding": null,
            "grid_auto_rows": null,
            "grid_gap": null,
            "max_width": null,
            "order": null,
            "_view_module_version": "1.2.0",
            "grid_template_areas": null,
            "object_position": null,
            "object_fit": null,
            "grid_auto_columns": null,
            "margin": null,
            "display": null,
            "left": null
          }
        },
        "ac8fcd921609448989b7047a913d96b2": {
          "model_module": "@jupyter-widgets/controls",
          "model_name": "HBoxModel",
          "state": {
            "_view_name": "HBoxView",
            "_dom_classes": [],
            "_model_name": "HBoxModel",
            "_view_module": "@jupyter-widgets/controls",
            "_model_module_version": "1.5.0",
            "_view_count": null,
            "_view_module_version": "1.5.0",
            "box_style": "",
            "layout": "IPY_MODEL_dcb505e61fad47a591fba74c094dadea",
            "_model_module": "@jupyter-widgets/controls",
            "children": [
              "IPY_MODEL_656457864b0f4061a89228fec09cfee3",
              "IPY_MODEL_f348b43a6d2542b6bea085d01712dfab"
            ]
          }
        },
        "dcb505e61fad47a591fba74c094dadea": {
          "model_module": "@jupyter-widgets/base",
          "model_name": "LayoutModel",
          "state": {
            "_view_name": "LayoutView",
            "grid_template_rows": null,
            "right": null,
            "justify_content": null,
            "_view_module": "@jupyter-widgets/base",
            "overflow": null,
            "_model_module_version": "1.2.0",
            "_view_count": null,
            "flex_flow": null,
            "width": null,
            "min_width": null,
            "border": null,
            "align_items": null,
            "bottom": null,
            "_model_module": "@jupyter-widgets/base",
            "top": null,
            "grid_column": null,
            "overflow_y": null,
            "overflow_x": null,
            "grid_auto_flow": null,
            "grid_area": null,
            "grid_template_columns": null,
            "flex": null,
            "_model_name": "LayoutModel",
            "justify_items": null,
            "grid_row": null,
            "max_height": null,
            "align_content": null,
            "visibility": null,
            "align_self": null,
            "height": null,
            "min_height": null,
            "padding": null,
            "grid_auto_rows": null,
            "grid_gap": null,
            "max_width": null,
            "order": null,
            "_view_module_version": "1.2.0",
            "grid_template_areas": null,
            "object_position": null,
            "object_fit": null,
            "grid_auto_columns": null,
            "margin": null,
            "display": null,
            "left": null
          }
        },
        "656457864b0f4061a89228fec09cfee3": {
          "model_module": "@jupyter-widgets/controls",
          "model_name": "FloatProgressModel",
          "state": {
            "_view_name": "ProgressView",
            "style": "IPY_MODEL_e9fe4330124c417dbe5dae273007551f",
            "_dom_classes": [],
            "description": "",
            "_model_name": "FloatProgressModel",
            "bar_style": "info",
            "max": 1,
            "_view_module": "@jupyter-widgets/controls",
            "_model_module_version": "1.5.0",
            "value": 1,
            "_view_count": null,
            "_view_module_version": "1.5.0",
            "orientation": "horizontal",
            "min": 0,
            "description_tooltip": null,
            "_model_module": "@jupyter-widgets/controls",
            "layout": "IPY_MODEL_6d1d8e4cc7cf4ce9ad4696632f0c8649"
          }
        },
        "f348b43a6d2542b6bea085d01712dfab": {
          "model_module": "@jupyter-widgets/controls",
          "model_name": "HTMLModel",
          "state": {
            "_view_name": "HTMLView",
            "style": "IPY_MODEL_b52242a98e1b494fb40631977414b3b9",
            "_dom_classes": [],
            "description": "",
            "_model_name": "HTMLModel",
            "placeholder": "​",
            "_view_module": "@jupyter-widgets/controls",
            "_model_module_version": "1.5.0",
            "value": " 872/0 [00:00&lt;00:00, 11691.55 examples/s]",
            "_view_count": null,
            "_view_module_version": "1.5.0",
            "description_tooltip": null,
            "_model_module": "@jupyter-widgets/controls",
            "layout": "IPY_MODEL_c5c96628ce81412bb48dd65cdbf543c4"
          }
        },
        "e9fe4330124c417dbe5dae273007551f": {
          "model_module": "@jupyter-widgets/controls",
          "model_name": "ProgressStyleModel",
          "state": {
            "_view_name": "StyleView",
            "_model_name": "ProgressStyleModel",
            "description_width": "initial",
            "_view_module": "@jupyter-widgets/base",
            "_model_module_version": "1.5.0",
            "_view_count": null,
            "_view_module_version": "1.2.0",
            "bar_color": null,
            "_model_module": "@jupyter-widgets/controls"
          }
        },
        "6d1d8e4cc7cf4ce9ad4696632f0c8649": {
          "model_module": "@jupyter-widgets/base",
          "model_name": "LayoutModel",
          "state": {
            "_view_name": "LayoutView",
            "grid_template_rows": null,
            "right": null,
            "justify_content": null,
            "_view_module": "@jupyter-widgets/base",
            "overflow": null,
            "_model_module_version": "1.2.0",
            "_view_count": null,
            "flex_flow": null,
            "width": null,
            "min_width": null,
            "border": null,
            "align_items": null,
            "bottom": null,
            "_model_module": "@jupyter-widgets/base",
            "top": null,
            "grid_column": null,
            "overflow_y": null,
            "overflow_x": null,
            "grid_auto_flow": null,
            "grid_area": null,
            "grid_template_columns": null,
            "flex": null,
            "_model_name": "LayoutModel",
            "justify_items": null,
            "grid_row": null,
            "max_height": null,
            "align_content": null,
            "visibility": null,
            "align_self": null,
            "height": null,
            "min_height": null,
            "padding": null,
            "grid_auto_rows": null,
            "grid_gap": null,
            "max_width": null,
            "order": null,
            "_view_module_version": "1.2.0",
            "grid_template_areas": null,
            "object_position": null,
            "object_fit": null,
            "grid_auto_columns": null,
            "margin": null,
            "display": null,
            "left": null
          }
        },
        "b52242a98e1b494fb40631977414b3b9": {
          "model_module": "@jupyter-widgets/controls",
          "model_name": "DescriptionStyleModel",
          "state": {
            "_view_name": "StyleView",
            "_model_name": "DescriptionStyleModel",
            "description_width": "",
            "_view_module": "@jupyter-widgets/base",
            "_model_module_version": "1.5.0",
            "_view_count": null,
            "_view_module_version": "1.2.0",
            "_model_module": "@jupyter-widgets/controls"
          }
        },
        "c5c96628ce81412bb48dd65cdbf543c4": {
          "model_module": "@jupyter-widgets/base",
          "model_name": "LayoutModel",
          "state": {
            "_view_name": "LayoutView",
            "grid_template_rows": null,
            "right": null,
            "justify_content": null,
            "_view_module": "@jupyter-widgets/base",
            "overflow": null,
            "_model_module_version": "1.2.0",
            "_view_count": null,
            "flex_flow": null,
            "width": null,
            "min_width": null,
            "border": null,
            "align_items": null,
            "bottom": null,
            "_model_module": "@jupyter-widgets/base",
            "top": null,
            "grid_column": null,
            "overflow_y": null,
            "overflow_x": null,
            "grid_auto_flow": null,
            "grid_area": null,
            "grid_template_columns": null,
            "flex": null,
            "_model_name": "LayoutModel",
            "justify_items": null,
            "grid_row": null,
            "max_height": null,
            "align_content": null,
            "visibility": null,
            "align_self": null,
            "height": null,
            "min_height": null,
            "padding": null,
            "grid_auto_rows": null,
            "grid_gap": null,
            "max_width": null,
            "order": null,
            "_view_module_version": "1.2.0",
            "grid_template_areas": null,
            "object_position": null,
            "object_fit": null,
            "grid_auto_columns": null,
            "margin": null,
            "display": null,
            "left": null
          }
        },
        "e4f8111b0eaa43b5800910c114941348": {
          "model_module": "@jupyter-widgets/controls",
          "model_name": "HBoxModel",
          "state": {
            "_view_name": "HBoxView",
            "_dom_classes": [],
            "_model_name": "HBoxModel",
            "_view_module": "@jupyter-widgets/controls",
            "_model_module_version": "1.5.0",
            "_view_count": null,
            "_view_module_version": "1.5.0",
            "box_style": "",
            "layout": "IPY_MODEL_d61a3d50e40149e7834fadffb98ff940",
            "_model_module": "@jupyter-widgets/controls",
            "children": [
              "IPY_MODEL_fcf19ccd3cf3499e8a0e5414eb4cf569",
              "IPY_MODEL_c3f311b3ab7447d187d359d22188f668"
            ]
          }
        },
        "d61a3d50e40149e7834fadffb98ff940": {
          "model_module": "@jupyter-widgets/base",
          "model_name": "LayoutModel",
          "state": {
            "_view_name": "LayoutView",
            "grid_template_rows": null,
            "right": null,
            "justify_content": null,
            "_view_module": "@jupyter-widgets/base",
            "overflow": null,
            "_model_module_version": "1.2.0",
            "_view_count": null,
            "flex_flow": null,
            "width": null,
            "min_width": null,
            "border": null,
            "align_items": null,
            "bottom": null,
            "_model_module": "@jupyter-widgets/base",
            "top": null,
            "grid_column": null,
            "overflow_y": null,
            "overflow_x": null,
            "grid_auto_flow": null,
            "grid_area": null,
            "grid_template_columns": null,
            "flex": null,
            "_model_name": "LayoutModel",
            "justify_items": null,
            "grid_row": null,
            "max_height": null,
            "align_content": null,
            "visibility": null,
            "align_self": null,
            "height": null,
            "min_height": null,
            "padding": null,
            "grid_auto_rows": null,
            "grid_gap": null,
            "max_width": null,
            "order": null,
            "_view_module_version": "1.2.0",
            "grid_template_areas": null,
            "object_position": null,
            "object_fit": null,
            "grid_auto_columns": null,
            "margin": null,
            "display": null,
            "left": null
          }
        },
        "fcf19ccd3cf3499e8a0e5414eb4cf569": {
          "model_module": "@jupyter-widgets/controls",
          "model_name": "FloatProgressModel",
          "state": {
            "_view_name": "ProgressView",
            "style": "IPY_MODEL_50642e57113f4b0bb11d5086aaf477d5",
            "_dom_classes": [],
            "description": "",
            "_model_name": "FloatProgressModel",
            "bar_style": "info",
            "max": 1,
            "_view_module": "@jupyter-widgets/controls",
            "_model_module_version": "1.5.0",
            "value": 1,
            "_view_count": null,
            "_view_module_version": "1.5.0",
            "orientation": "horizontal",
            "min": 0,
            "description_tooltip": null,
            "_model_module": "@jupyter-widgets/controls",
            "layout": "IPY_MODEL_45543c21a4ca4fec8fa16a7de990ceb6"
          }
        },
        "c3f311b3ab7447d187d359d22188f668": {
          "model_module": "@jupyter-widgets/controls",
          "model_name": "HTMLModel",
          "state": {
            "_view_name": "HTMLView",
            "style": "IPY_MODEL_f27ce02655774aea8e9bad469d1fa588",
            "_dom_classes": [],
            "description": "",
            "_model_name": "HTMLModel",
            "placeholder": "​",
            "_view_module": "@jupyter-widgets/controls",
            "_model_module_version": "1.5.0",
            "value": " 1821/0 [00:00&lt;00:00, 19722.38 examples/s]",
            "_view_count": null,
            "_view_module_version": "1.5.0",
            "description_tooltip": null,
            "_model_module": "@jupyter-widgets/controls",
            "layout": "IPY_MODEL_080686f102e046ba8c3c8fc54a929b50"
          }
        },
        "50642e57113f4b0bb11d5086aaf477d5": {
          "model_module": "@jupyter-widgets/controls",
          "model_name": "ProgressStyleModel",
          "state": {
            "_view_name": "StyleView",
            "_model_name": "ProgressStyleModel",
            "description_width": "initial",
            "_view_module": "@jupyter-widgets/base",
            "_model_module_version": "1.5.0",
            "_view_count": null,
            "_view_module_version": "1.2.0",
            "bar_color": null,
            "_model_module": "@jupyter-widgets/controls"
          }
        },
        "45543c21a4ca4fec8fa16a7de990ceb6": {
          "model_module": "@jupyter-widgets/base",
          "model_name": "LayoutModel",
          "state": {
            "_view_name": "LayoutView",
            "grid_template_rows": null,
            "right": null,
            "justify_content": null,
            "_view_module": "@jupyter-widgets/base",
            "overflow": null,
            "_model_module_version": "1.2.0",
            "_view_count": null,
            "flex_flow": null,
            "width": null,
            "min_width": null,
            "border": null,
            "align_items": null,
            "bottom": null,
            "_model_module": "@jupyter-widgets/base",
            "top": null,
            "grid_column": null,
            "overflow_y": null,
            "overflow_x": null,
            "grid_auto_flow": null,
            "grid_area": null,
            "grid_template_columns": null,
            "flex": null,
            "_model_name": "LayoutModel",
            "justify_items": null,
            "grid_row": null,
            "max_height": null,
            "align_content": null,
            "visibility": null,
            "align_self": null,
            "height": null,
            "min_height": null,
            "padding": null,
            "grid_auto_rows": null,
            "grid_gap": null,
            "max_width": null,
            "order": null,
            "_view_module_version": "1.2.0",
            "grid_template_areas": null,
            "object_position": null,
            "object_fit": null,
            "grid_auto_columns": null,
            "margin": null,
            "display": null,
            "left": null
          }
        },
        "f27ce02655774aea8e9bad469d1fa588": {
          "model_module": "@jupyter-widgets/controls",
          "model_name": "DescriptionStyleModel",
          "state": {
            "_view_name": "StyleView",
            "_model_name": "DescriptionStyleModel",
            "description_width": "",
            "_view_module": "@jupyter-widgets/base",
            "_model_module_version": "1.5.0",
            "_view_count": null,
            "_view_module_version": "1.2.0",
            "_model_module": "@jupyter-widgets/controls"
          }
        },
        "080686f102e046ba8c3c8fc54a929b50": {
          "model_module": "@jupyter-widgets/base",
          "model_name": "LayoutModel",
          "state": {
            "_view_name": "LayoutView",
            "grid_template_rows": null,
            "right": null,
            "justify_content": null,
            "_view_module": "@jupyter-widgets/base",
            "overflow": null,
            "_model_module_version": "1.2.0",
            "_view_count": null,
            "flex_flow": null,
            "width": null,
            "min_width": null,
            "border": null,
            "align_items": null,
            "bottom": null,
            "_model_module": "@jupyter-widgets/base",
            "top": null,
            "grid_column": null,
            "overflow_y": null,
            "overflow_x": null,
            "grid_auto_flow": null,
            "grid_area": null,
            "grid_template_columns": null,
            "flex": null,
            "_model_name": "LayoutModel",
            "justify_items": null,
            "grid_row": null,
            "max_height": null,
            "align_content": null,
            "visibility": null,
            "align_self": null,
            "height": null,
            "min_height": null,
            "padding": null,
            "grid_auto_rows": null,
            "grid_gap": null,
            "max_width": null,
            "order": null,
            "_view_module_version": "1.2.0",
            "grid_template_areas": null,
            "object_position": null,
            "object_fit": null,
            "grid_auto_columns": null,
            "margin": null,
            "display": null,
            "left": null
          }
        }
      }
    }
  },
  "cells": [
    {
      "cell_type": "code",
      "metadata": {
        "colab": {
          "base_uri": "https://localhost:8080/"
        },
        "id": "Tjsl5_TPD5p-",
        "outputId": "78281e12-6254-4ec8-aee3-7f7c48d24775"
      },
      "source": [
        "from google.colab import drive\n",
        "drive.mount('/content/drive')"
      ],
      "execution_count": 1,
      "outputs": [
        {
          "output_type": "stream",
          "text": [
            "Drive already mounted at /content/drive; to attempt to forcibly remount, call drive.mount(\"/content/drive\", force_remount=True).\n"
          ],
          "name": "stdout"
        }
      ]
    },
    {
      "cell_type": "markdown",
      "metadata": {
        "id": "35YsotQWRREJ"
      },
      "source": [
        "#Installing libraries"
      ]
    },
    {
      "cell_type": "code",
      "metadata": {
        "id": "hZeIFn6iC9FF",
        "colab": {
          "base_uri": "https://localhost:8080/"
        },
        "outputId": "66fb9b49-ad3e-4945-b4d2-e93c70d4a2b7"
      },
      "source": [
        "!pip install textattack\n",
        "!pip install -U gensim==4.0.0\n",
        "!pip install python-Levenshtein"
      ],
      "execution_count": 2,
      "outputs": [
        {
          "output_type": "stream",
          "text": [
            "Requirement already satisfied: textattack in /usr/local/lib/python3.7/dist-packages (0.2.15)\n",
            "Requirement already satisfied: language-tool-python in /usr/local/lib/python3.7/dist-packages (from textattack) (2.5.3)\n",
            "Requirement already satisfied: transformers>=3.3.0 in /usr/local/lib/python3.7/dist-packages (from textattack) (4.5.1)\n",
            "Requirement already satisfied: num2words in /usr/local/lib/python3.7/dist-packages (from textattack) (0.5.10)\n",
            "Requirement already satisfied: torch in /usr/local/lib/python3.7/dist-packages (from textattack) (1.8.1+cu101)\n",
            "Requirement already satisfied: scipy==1.4.1 in /usr/local/lib/python3.7/dist-packages (from textattack) (1.4.1)\n",
            "Requirement already satisfied: PySocks!=1.5.7,>=1.5.6 in /usr/local/lib/python3.7/dist-packages (from textattack) (1.7.1)\n",
            "Requirement already satisfied: pandas>=1.0.1 in /usr/local/lib/python3.7/dist-packages (from textattack) (1.1.5)\n",
            "Requirement already satisfied: filelock in /usr/local/lib/python3.7/dist-packages (from textattack) (3.0.12)\n",
            "Requirement already satisfied: numpy<1.19.0 in /usr/local/lib/python3.7/dist-packages (from textattack) (1.18.5)\n",
            "Requirement already satisfied: tqdm<4.50.0,>=4.27 in /usr/local/lib/python3.7/dist-packages (from textattack) (4.41.1)\n",
            "Requirement already satisfied: editdistance in /usr/local/lib/python3.7/dist-packages (from textattack) (0.5.3)\n",
            "Requirement already satisfied: nltk in /usr/local/lib/python3.7/dist-packages (from textattack) (3.2.5)\n",
            "Requirement already satisfied: lemminflect in /usr/local/lib/python3.7/dist-packages (from textattack) (0.2.2)\n",
            "Requirement already satisfied: more-itertools in /usr/local/lib/python3.7/dist-packages (from textattack) (8.7.0)\n",
            "Requirement already satisfied: datasets in /usr/local/lib/python3.7/dist-packages (from textattack) (1.6.2)\n",
            "Requirement already satisfied: terminaltables in /usr/local/lib/python3.7/dist-packages (from textattack) (3.1.0)\n",
            "Requirement already satisfied: lru-dict in /usr/local/lib/python3.7/dist-packages (from textattack) (1.1.7)\n",
            "Requirement already satisfied: word2number in /usr/local/lib/python3.7/dist-packages (from textattack) (1.1)\n",
            "Requirement already satisfied: flair==0.6.1.post1 in /usr/local/lib/python3.7/dist-packages (from textattack) (0.6.1.post1)\n",
            "Requirement already satisfied: bert-score>=0.3.5 in /usr/local/lib/python3.7/dist-packages (from textattack) (0.3.9)\n",
            "Requirement already satisfied: requests in /usr/local/lib/python3.7/dist-packages (from language-tool-python->textattack) (2.23.0)\n",
            "Requirement already satisfied: importlib-metadata; python_version < \"3.8\" in /usr/local/lib/python3.7/dist-packages (from transformers>=3.3.0->textattack) (3.10.1)\n",
            "Requirement already satisfied: tokenizers<0.11,>=0.10.1 in /usr/local/lib/python3.7/dist-packages (from transformers>=3.3.0->textattack) (0.10.2)\n",
            "Requirement already satisfied: packaging in /usr/local/lib/python3.7/dist-packages (from transformers>=3.3.0->textattack) (20.9)\n",
            "Requirement already satisfied: regex!=2019.12.17 in /usr/local/lib/python3.7/dist-packages (from transformers>=3.3.0->textattack) (2019.12.20)\n",
            "Requirement already satisfied: sacremoses in /usr/local/lib/python3.7/dist-packages (from transformers>=3.3.0->textattack) (0.0.45)\n",
            "Requirement already satisfied: docopt>=0.6.2 in /usr/local/lib/python3.7/dist-packages (from num2words->textattack) (0.6.2)\n",
            "Requirement already satisfied: typing-extensions in /usr/local/lib/python3.7/dist-packages (from torch->textattack) (3.7.4.3)\n",
            "Requirement already satisfied: pytz>=2017.2 in /usr/local/lib/python3.7/dist-packages (from pandas>=1.0.1->textattack) (2018.9)\n",
            "Requirement already satisfied: python-dateutil>=2.7.3 in /usr/local/lib/python3.7/dist-packages (from pandas>=1.0.1->textattack) (2.8.1)\n",
            "Requirement already satisfied: six in /usr/local/lib/python3.7/dist-packages (from nltk->textattack) (1.15.0)\n",
            "Requirement already satisfied: dill in /usr/local/lib/python3.7/dist-packages (from datasets->textattack) (0.3.3)\n",
            "Requirement already satisfied: huggingface-hub<0.1.0 in /usr/local/lib/python3.7/dist-packages (from datasets->textattack) (0.0.8)\n",
            "Requirement already satisfied: pyarrow>=1.0.0<4.0.0 in /usr/local/lib/python3.7/dist-packages (from datasets->textattack) (3.0.0)\n",
            "Requirement already satisfied: multiprocess in /usr/local/lib/python3.7/dist-packages (from datasets->textattack) (0.70.11.1)\n",
            "Requirement already satisfied: fsspec in /usr/local/lib/python3.7/dist-packages (from datasets->textattack) (2021.4.0)\n",
            "Requirement already satisfied: xxhash in /usr/local/lib/python3.7/dist-packages (from datasets->textattack) (2.0.2)\n",
            "Requirement already satisfied: bpemb>=0.3.2 in /usr/local/lib/python3.7/dist-packages (from flair==0.6.1.post1->textattack) (0.3.3)\n",
            "Requirement already satisfied: gdown in /usr/local/lib/python3.7/dist-packages (from flair==0.6.1.post1->textattack) (3.6.4)\n",
            "Requirement already satisfied: hyperopt>=0.1.1 in /usr/local/lib/python3.7/dist-packages (from flair==0.6.1.post1->textattack) (0.1.2)\n",
            "Requirement already satisfied: segtok>=1.5.7 in /usr/local/lib/python3.7/dist-packages (from flair==0.6.1.post1->textattack) (1.5.10)\n",
            "Requirement already satisfied: tabulate in /usr/local/lib/python3.7/dist-packages (from flair==0.6.1.post1->textattack) (0.8.9)\n",
            "Requirement already satisfied: deprecated>=1.2.4 in /usr/local/lib/python3.7/dist-packages (from flair==0.6.1.post1->textattack) (1.2.12)\n",
            "Requirement already satisfied: mpld3==0.3 in /usr/local/lib/python3.7/dist-packages (from flair==0.6.1.post1->textattack) (0.3)\n",
            "Requirement already satisfied: sentencepiece!=0.1.92 in /usr/local/lib/python3.7/dist-packages (from flair==0.6.1.post1->textattack) (0.1.95)\n",
            "Requirement already satisfied: matplotlib>=2.2.3 in /usr/local/lib/python3.7/dist-packages (from flair==0.6.1.post1->textattack) (3.2.2)\n",
            "Requirement already satisfied: langdetect in /usr/local/lib/python3.7/dist-packages (from flair==0.6.1.post1->textattack) (1.0.9)\n",
            "Requirement already satisfied: janome in /usr/local/lib/python3.7/dist-packages (from flair==0.6.1.post1->textattack) (0.4.1)\n",
            "Requirement already satisfied: konoha<5.0.0,>=4.0.0 in /usr/local/lib/python3.7/dist-packages (from flair==0.6.1.post1->textattack) (4.6.4)\n",
            "Requirement already satisfied: ftfy in /usr/local/lib/python3.7/dist-packages (from flair==0.6.1.post1->textattack) (6.0.1)\n",
            "Requirement already satisfied: sqlitedict>=1.6.0 in /usr/local/lib/python3.7/dist-packages (from flair==0.6.1.post1->textattack) (1.7.0)\n",
            "Requirement already satisfied: gensim>=3.4.0 in /usr/local/lib/python3.7/dist-packages (from flair==0.6.1.post1->textattack) (4.0.0)\n",
            "Requirement already satisfied: lxml in /usr/local/lib/python3.7/dist-packages (from flair==0.6.1.post1->textattack) (4.2.6)\n",
            "Requirement already satisfied: scikit-learn>=0.21.3 in /usr/local/lib/python3.7/dist-packages (from flair==0.6.1.post1->textattack) (0.22.2.post1)\n",
            "Requirement already satisfied: certifi>=2017.4.17 in /usr/local/lib/python3.7/dist-packages (from requests->language-tool-python->textattack) (2020.12.5)\n",
            "Requirement already satisfied: urllib3!=1.25.0,!=1.25.1,<1.26,>=1.21.1 in /usr/local/lib/python3.7/dist-packages (from requests->language-tool-python->textattack) (1.24.3)\n",
            "Requirement already satisfied: chardet<4,>=3.0.2 in /usr/local/lib/python3.7/dist-packages (from requests->language-tool-python->textattack) (3.0.4)\n",
            "Requirement already satisfied: idna<3,>=2.5 in /usr/local/lib/python3.7/dist-packages (from requests->language-tool-python->textattack) (2.10)\n",
            "Requirement already satisfied: zipp>=0.5 in /usr/local/lib/python3.7/dist-packages (from importlib-metadata; python_version < \"3.8\"->transformers>=3.3.0->textattack) (3.4.1)\n",
            "Requirement already satisfied: pyparsing>=2.0.2 in /usr/local/lib/python3.7/dist-packages (from packaging->transformers>=3.3.0->textattack) (2.4.7)\n",
            "Requirement already satisfied: joblib in /usr/local/lib/python3.7/dist-packages (from sacremoses->transformers>=3.3.0->textattack) (1.0.1)\n",
            "Requirement already satisfied: click in /usr/local/lib/python3.7/dist-packages (from sacremoses->transformers>=3.3.0->textattack) (7.1.2)\n",
            "Requirement already satisfied: pymongo in /usr/local/lib/python3.7/dist-packages (from hyperopt>=0.1.1->flair==0.6.1.post1->textattack) (3.11.3)\n",
            "Requirement already satisfied: future in /usr/local/lib/python3.7/dist-packages (from hyperopt>=0.1.1->flair==0.6.1.post1->textattack) (0.16.0)\n",
            "Requirement already satisfied: networkx in /usr/local/lib/python3.7/dist-packages (from hyperopt>=0.1.1->flair==0.6.1.post1->textattack) (2.5.1)\n",
            "Requirement already satisfied: wrapt<2,>=1.10 in /usr/local/lib/python3.7/dist-packages (from deprecated>=1.2.4->flair==0.6.1.post1->textattack) (1.12.1)\n",
            "Requirement already satisfied: kiwisolver>=1.0.1 in /usr/local/lib/python3.7/dist-packages (from matplotlib>=2.2.3->flair==0.6.1.post1->textattack) (1.3.1)\n",
            "Requirement already satisfied: cycler>=0.10 in /usr/local/lib/python3.7/dist-packages (from matplotlib>=2.2.3->flair==0.6.1.post1->textattack) (0.10.0)\n",
            "Requirement already satisfied: overrides<4.0.0,>=3.0.0 in /usr/local/lib/python3.7/dist-packages (from konoha<5.0.0,>=4.0.0->flair==0.6.1.post1->textattack) (3.1.0)\n",
            "Requirement already satisfied: wcwidth in /usr/local/lib/python3.7/dist-packages (from ftfy->flair==0.6.1.post1->textattack) (0.2.5)\n",
            "Requirement already satisfied: smart-open>=1.8.1 in /usr/local/lib/python3.7/dist-packages (from gensim>=3.4.0->flair==0.6.1.post1->textattack) (5.0.0)\n",
            "Requirement already satisfied: decorator<5,>=4.3 in /usr/local/lib/python3.7/dist-packages (from networkx->hyperopt>=0.1.1->flair==0.6.1.post1->textattack) (4.4.2)\n",
            "Requirement already up-to-date: gensim==4.0.0 in /usr/local/lib/python3.7/dist-packages (4.0.0)\n",
            "Requirement already satisfied, skipping upgrade: smart-open>=1.8.1 in /usr/local/lib/python3.7/dist-packages (from gensim==4.0.0) (5.0.0)\n",
            "Requirement already satisfied, skipping upgrade: numpy>=1.11.3 in /usr/local/lib/python3.7/dist-packages (from gensim==4.0.0) (1.18.5)\n",
            "Requirement already satisfied, skipping upgrade: scipy>=0.18.1 in /usr/local/lib/python3.7/dist-packages (from gensim==4.0.0) (1.4.1)\n",
            "Requirement already satisfied: python-Levenshtein in /usr/local/lib/python3.7/dist-packages (0.12.2)\n",
            "Requirement already satisfied: setuptools in /usr/local/lib/python3.7/dist-packages (from python-Levenshtein) (56.1.0)\n"
          ],
          "name": "stdout"
        }
      ]
    },
    {
      "cell_type": "code",
      "metadata": {
        "id": "XbSBo02xDGO2"
      },
      "source": [
        "# import gensim.downloader as api\n",
        "# corpus = api.load('text8')\n",
        "# from gensim.models.fasttext import FastText\n",
        "# model1 = FastText(corpus, sample = 0, sg = 1)"
      ],
      "execution_count": 3,
      "outputs": []
    },
    {
      "cell_type": "code",
      "metadata": {
        "id": "jLiSrpmTErOs"
      },
      "source": [
        "# import gensim.downloader as api\n",
        "# corpus = api.load('text8')\n",
        "# from gensim.models.word2vec import Word2Vec\n",
        "# model2 = Word2Vec(corpus, sample = 0, sg = 1)"
      ],
      "execution_count": 4,
      "outputs": []
    },
    {
      "cell_type": "markdown",
      "metadata": {
        "id": "d-SeQSyZRVZk"
      },
      "source": [
        "# Loading FastText, Word2Vec and Glove"
      ]
    },
    {
      "cell_type": "code",
      "metadata": {
        "id": "ZCLiyaHYDBk1"
      },
      "source": [
        "from gensim.test.utils import get_tmpfile\n",
        "from gensim.models.fasttext import FastText\n",
        "#fname = get_tmpfile(\"/models/fasttext.model\") \n",
        "model1 = FastText.load(\"/content/drive/MyDrive/models/fasttext.model\") # Change this location"
      ],
      "execution_count": 5,
      "outputs": []
    },
    {
      "cell_type": "code",
      "metadata": {
        "id": "e4jwSL5YDvPy"
      },
      "source": [
        "from gensim.test.utils import get_tmpfile\n",
        "from gensim.models.word2vec import Word2Vec\n",
        "#fname1 = get_tmpfile(\"/models/word2vec.model\") \n",
        "model2 = Word2Vec.load(\"/content/drive/MyDrive/models/word2vec.model\") # Change this location"
      ],
      "execution_count": 6,
      "outputs": []
    },
    {
      "cell_type": "code",
      "metadata": {
        "id": "NC2kXo7wLsAd"
      },
      "source": [
        "from gensim.models import KeyedVectors\n",
        "model3=KeyedVectors.load('/content/drive/MyDrive/models/gloveKeyVectors.kv')"
      ],
      "execution_count": 7,
      "outputs": []
    },
    {
      "cell_type": "markdown",
      "metadata": {
        "id": "aTtS6UrJRc4S"
      },
      "source": [
        "Example demonstration"
      ]
    },
    {
      "cell_type": "code",
      "metadata": {
        "id": "l1xXXw5tFbuM",
        "colab": {
          "base_uri": "https://localhost:8080/"
        },
        "outputId": "c21c1a4f-6e28-4231-a418-b0870a29b82e"
      },
      "source": [
        "print(model1.wv.most_similar('cat'))\n",
        "print(model2.wv.most_similar('cat'))\n",
        "print(model3.most_similar('cat'))"
      ],
      "execution_count": 8,
      "outputs": [
        {
          "output_type": "stream",
          "text": [
            "[('bobcat', 0.759185791015625), ('dog', 0.7208123803138733), ('foxglove', 0.7110776901245117), ('pig', 0.7088143229484558), ('goose', 0.7069101333618164), ('cats', 0.702387273311615), ('beak', 0.7008379697799683), ('catfish', 0.6987316608428955), ('foxhound', 0.696578860282898), ('catnip', 0.6960986852645874)]\n",
            "[('dog', 0.7193913459777832), ('squirrel', 0.696162760257721), ('leopardus', 0.6945451498031616), ('prionailurus', 0.688106894493103), ('albino', 0.6880608201026917), ('bird', 0.6836060285568237), ('eared', 0.6803243160247803), ('rhinoceros', 0.6769237518310547), ('hyena', 0.6756084561347961), ('badger', 0.6752869486808777)]\n",
            "[('cats', 0.7006820440292358), ('dog', 0.698471188545227), ('dogs', 0.6442825198173523), ('tervueren', 0.619421660900116), ('laekenois', 0.5972026586532593), ('lica', 0.5956287980079651), ('feral', 0.5899650454521179), ('goat', 0.5861616134643555), ('fish', 0.5746133327484131), ('malinois', 0.5737614631652832)]\n"
          ],
          "name": "stdout"
        }
      ]
    },
    {
      "cell_type": "code",
      "metadata": {
        "colab": {
          "base_uri": "https://localhost:8080/"
        },
        "id": "Z0RyPQdKNH2u",
        "outputId": "2eb47839-74f8-47b0-b128-74f3cacd949c"
      },
      "source": [
        "if 'cat' in model3.key_to_index:\n",
        "  print('present')"
      ],
      "execution_count": 9,
      "outputs": [
        {
          "output_type": "stream",
          "text": [
            "present\n"
          ],
          "name": "stdout"
        }
      ]
    },
    {
      "cell_type": "markdown",
      "metadata": {
        "id": "0h_EeHEKRhYs"
      },
      "source": [
        "# Albert Base SST-2"
      ]
    },
    {
      "cell_type": "code",
      "metadata": {
        "id": "QfecgI6BExUJ",
        "colab": {
          "base_uri": "https://localhost:8080/",
          "height": 614,
          "referenced_widgets": [
            "ca95227dbba54cedb8a0ede650077b04",
            "f3de01bdb68443aaa032041776d50cc2",
            "08065f71da5741a7a7b994b2c24cc33d",
            "73459aa1711c42bbbf1a73926aeb096c",
            "171554b9ce8d4e96a9a0401e19ff44d9",
            "f8f671d02ea2404a9c7f99926661cfdc",
            "fb37773309864b20856f496f488cdfc2",
            "2bbb75d26d7145c786c855ad8d416bb1",
            "0c03c92e4cfa487ea7af5aea86e287a6",
            "1ef1417fbecb48509f44c1d6e8702878",
            "095ba8aaf1194d59987e3d53b5ad83ad",
            "b335f9b114ba4ce3affd36c676faf929",
            "7ee70a2bc07e4c17accfd54f1c39ee37",
            "9084547ed4bc4e568598d0afb463f20c",
            "bf40d10a98e643b2a70a36121fd5f81a",
            "4dabd88b30524264bacf4c20ce619b43",
            "0bd7cbf5fbd849a1a129643c03ce6575",
            "07ee510929b84608980500ccc1208ffa",
            "d05279efb1354a6d9bab070ccdaf2cf7",
            "f4fdf78cd4a5418cbddcb82d6cb3877f",
            "167c3de0d28847a8b5400b8c8628cd52",
            "e39c22f57d604844aede1d51f6e93cf9",
            "6c19d611acaf4d3d942bcb5745f28b2d",
            "6087414cb5f24445b3b564256ffc3291",
            "06de43da8b5f4b8d9092ff70a545ce32",
            "4d6bf83e99a445d5ba2fe5a32d3d30e8",
            "58a5d213724540fb8691afc9b4411563",
            "fff6a27901694dfd9155e7eed7188e04",
            "076e49030e2a4e43a01e4bfd2cda600a",
            "b17c2cf5b0614724b0ecbfeaebca9b76",
            "89568c36a2564c16b3f8521cd937d958",
            "c77415eab1c44a6f8ada767060c7c689",
            "631af7e5937a40ceb2dcccc570e69819",
            "47d13e53ca974360b7e2feba793a9746",
            "91d39b07369d452f936bf5f74c1e8ab4",
            "f42f38080f154226b15b19f23664236c",
            "fff22a78ab884398830005806191ab38",
            "b6262ff13b8f416ca58f85f67698575a",
            "81a4fde398f94282b4dafc130ac28fd6",
            "e298c04555654070a98cead2ef888396"
          ]
        },
        "outputId": "79fd7a8c-c7f1-46b9-ccde-69e4865ab3cd"
      },
      "source": [
        "# Import the model\n",
        "import transformers\n",
        "from textattack.models.tokenizers import AutoTokenizer\n",
        "from textattack.models.wrappers import HuggingFaceModelWrapper\n",
        "\n",
        "model = transformers.AutoModelForSequenceClassification.from_pretrained(\"textattack/albert-base-v2-SST-2\")\n",
        "tokenizer = AutoTokenizer(\"textattack/albert-base-v2-SST-2\")\n",
        "# Change these\n",
        "\n",
        "model_wrapper = HuggingFaceModelWrapper(model, tokenizer)"
      ],
      "execution_count": 10,
      "outputs": [
        {
          "output_type": "stream",
          "text": [
            "\u001b[34;1mtextattack\u001b[0m: Updating TextAttack package dependencies.\n",
            "\u001b[34;1mtextattack\u001b[0m: Downloading NLTK required packages.\n"
          ],
          "name": "stderr"
        },
        {
          "output_type": "stream",
          "text": [
            "[nltk_data] Downloading package averaged_perceptron_tagger to\n",
            "[nltk_data]     /root/nltk_data...\n",
            "[nltk_data]   Unzipping taggers/averaged_perceptron_tagger.zip.\n",
            "[nltk_data] Downloading package stopwords to /root/nltk_data...\n",
            "[nltk_data]   Unzipping corpora/stopwords.zip.\n",
            "[nltk_data] Downloading package omw to /root/nltk_data...\n",
            "[nltk_data]   Unzipping corpora/omw.zip.\n",
            "[nltk_data] Downloading package universal_tagset to /root/nltk_data...\n",
            "[nltk_data]   Unzipping taggers/universal_tagset.zip.\n",
            "[nltk_data] Downloading package wordnet to /root/nltk_data...\n",
            "[nltk_data]   Unzipping corpora/wordnet.zip.\n",
            "[nltk_data] Downloading package punkt to /root/nltk_data...\n",
            "[nltk_data]   Unzipping tokenizers/punkt.zip.\n"
          ],
          "name": "stdout"
        },
        {
          "output_type": "stream",
          "text": [
            "\u001b[34;1mtextattack\u001b[0m: Downloading https://textattack.s3.amazonaws.com/word_embeddings/paragramcf.\n",
            "100%|██████████| 481M/481M [00:13<00:00, 35.6MB/s]\n",
            "\u001b[34;1mtextattack\u001b[0m: Unzipping file /root/.cache/textattack/tmpp4afmvxg.zip to /root/.cache/textattack/word_embeddings/paragramcf.\n",
            "\u001b[34;1mtextattack\u001b[0m: Successfully saved word_embeddings/paragramcf to cache.\n"
          ],
          "name": "stderr"
        },
        {
          "output_type": "display_data",
          "data": {
            "application/vnd.jupyter.widget-view+json": {
              "model_id": "ca95227dbba54cedb8a0ede650077b04",
              "version_minor": 0,
              "version_major": 2
            },
            "text/plain": [
              "HBox(children=(FloatProgress(value=0.0, description='Downloading', max=732.0, style=ProgressStyle(description_…"
            ]
          },
          "metadata": {
            "tags": []
          }
        },
        {
          "output_type": "stream",
          "text": [
            "\n"
          ],
          "name": "stdout"
        },
        {
          "output_type": "display_data",
          "data": {
            "application/vnd.jupyter.widget-view+json": {
              "model_id": "0c03c92e4cfa487ea7af5aea86e287a6",
              "version_minor": 0,
              "version_major": 2
            },
            "text/plain": [
              "HBox(children=(FloatProgress(value=0.0, description='Downloading', max=46747112.0, style=ProgressStyle(descrip…"
            ]
          },
          "metadata": {
            "tags": []
          }
        },
        {
          "output_type": "stream",
          "text": [
            "\n"
          ],
          "name": "stdout"
        },
        {
          "output_type": "display_data",
          "data": {
            "application/vnd.jupyter.widget-view+json": {
              "model_id": "0bd7cbf5fbd849a1a129643c03ce6575",
              "version_minor": 0,
              "version_major": 2
            },
            "text/plain": [
              "HBox(children=(FloatProgress(value=0.0, description='Downloading', max=760289.0, style=ProgressStyle(descripti…"
            ]
          },
          "metadata": {
            "tags": []
          }
        },
        {
          "output_type": "stream",
          "text": [
            "\n"
          ],
          "name": "stdout"
        },
        {
          "output_type": "display_data",
          "data": {
            "application/vnd.jupyter.widget-view+json": {
              "model_id": "06de43da8b5f4b8d9092ff70a545ce32",
              "version_minor": 0,
              "version_major": 2
            },
            "text/plain": [
              "HBox(children=(FloatProgress(value=0.0, description='Downloading', max=156.0, style=ProgressStyle(description_…"
            ]
          },
          "metadata": {
            "tags": []
          }
        },
        {
          "output_type": "stream",
          "text": [
            "\n"
          ],
          "name": "stdout"
        },
        {
          "output_type": "display_data",
          "data": {
            "application/vnd.jupyter.widget-view+json": {
              "model_id": "631af7e5937a40ceb2dcccc570e69819",
              "version_minor": 0,
              "version_major": 2
            },
            "text/plain": [
              "HBox(children=(FloatProgress(value=0.0, description='Downloading', max=25.0, style=ProgressStyle(description_w…"
            ]
          },
          "metadata": {
            "tags": []
          }
        },
        {
          "output_type": "stream",
          "text": [
            "\n"
          ],
          "name": "stdout"
        }
      ]
    },
    {
      "cell_type": "markdown",
      "metadata": {
        "id": "HPj8fvaOFDAD"
      },
      "source": [
        "# Framing fasttext attack"
      ]
    },
    {
      "cell_type": "code",
      "metadata": {
        "id": "SHezFH9jE3Z2"
      },
      "source": [
        "from textattack.transformations import WordSwap\n",
        "\n",
        "class Swapper(WordSwap): # For fasttext\n",
        "    \"\"\" Transforms an input by replacing any word with its most similar counterpart\n",
        "    \"\"\"\n",
        "\n",
        "    # We don't need a constructor, since our class doesn't require any parameters.\n",
        "\n",
        "    def _get_replacement_words(self, word):\n",
        "        for i in range(10):\n",
        "            if word.lower() in model1.wv.most_similar(word)[i][0].lower():\n",
        "                continue # Don't return the exact word\n",
        "            elif word.isupper():\n",
        "                return [model1.wv.most_similar(word)[i][0].upper()] # Preserving case\n",
        "            elif word[0].isupper():\n",
        "                return [model1.wv.most_similar(word)[i][0].capitalize()] # Preserving Capitalization in words\n",
        "            else:\n",
        "                return [model1.wv.most_similar(word)[i][0]]\n",
        "            \n",
        "        return [model1.wv.most_similar(word)[0][0]]"
      ],
      "execution_count": 11,
      "outputs": []
    },
    {
      "cell_type": "code",
      "metadata": {
        "id": "GHt_A9Sril_j"
      },
      "source": [
        "def printexample(attack):\n",
        "  print(attack)\n",
        "  from collections import deque\n",
        "\n",
        "  import textattack\n",
        "  import tqdm\n",
        "  import time\n",
        "  from IPython.display import display, HTML\n",
        "  num_examples = 25\n",
        "  num_remaining_attacks = num_examples\n",
        "  pbar = tqdm.tqdm(total=num_remaining_attacks, smoothing=0)\n",
        "\n",
        "  worklist = deque(range(0, num_examples))\n",
        "  worklist_tail = worklist[-1]\n",
        "\n",
        "  attack_log_manager = textattack.loggers.AttackLogManager()\n",
        "\n",
        "  load_time = time.time()\n",
        "        \n",
        "  num_results = 0\n",
        "  num_failures = 0\n",
        "  num_successes = 0\n",
        "  for result in attack.attack_dataset(dataset, indices=worklist):\n",
        "      result_html_str = result.__str__(color_method=\"html\").replace(\"\\n\\n\", \"<br>\")\n",
        "      display(HTML(result_html_str))\n",
        "      attack_log_manager.log_result(result)\n",
        "            \n",
        "      if not isinstance(result, textattack.attack_results.SkippedAttackResult):\n",
        "          pbar.update(1)\n",
        "      else:\n",
        "          worklist_tail += 1\n",
        "          pbar.update(1)\n",
        "          worklist.append(worklist_tail)\n",
        "\n",
        "      num_results += 1\n",
        "\n",
        "      if (type(result) == textattack.attack_results.SuccessfulAttackResult\n",
        "        or type(result) == textattack.attack_results.MaximizedAttackResult):\n",
        "          num_successes += 1\n",
        "                \n",
        "      if type(result) == textattack.attack_results.FailedAttackResult:\n",
        "          num_failures += 1\n",
        "      pbar.set_description(\n",
        "          \"[Succeeded / Failed / Total] {} / {} / {}\".format(\n",
        "            num_successes, num_failures, num_results\n",
        "        )\n",
        "      )\n",
        "\n",
        "  pbar.close()\n",
        "\n",
        "  attack_log_manager.enable_stdout()\n",
        "  attack_log_manager.log_summary()\n",
        "  attack_log_manager.flush()\n",
        "        \n",
        "  textattack.shared.logger.info(f\"Attack time: {time.time() - load_time}s\")"
      ],
      "execution_count": 12,
      "outputs": []
    },
    {
      "cell_type": "code",
      "metadata": {
        "id": "Sm04Ri8WFGHy",
        "colab": {
          "base_uri": "https://localhost:8080/",
          "height": 260,
          "referenced_widgets": [
            "44453db0fb02409a8a34e39f77e68e71",
            "e6144d1d356d4ef7b6a548910522e129",
            "8b159900a8bf47f99497876f3fd27807",
            "f0ff6e13194b4c57ab34e8102a21c978",
            "5d27b8bbdab149dca294d6a403a76c51",
            "d663a32f969645818fdbdc6b0b82b17d",
            "86dd3961f66545b78e6f00015754f65d",
            "ea37efd8d69d4007b333948439edb393",
            "c6edf9f03c984c57a234f22de3fcfd8a",
            "24f2eddb27814240b3fb26e11294d13e",
            "9ec5e4ea502149709f501748f0808b41",
            "74815fcc458f4371a9cfa6e73964fc23",
            "cf8c9a83c7db41faae7a3efedc607b39",
            "9f305bed1b724fbba7896c3b0290435b",
            "eb028412fb3e417790f45235df5ecfda",
            "76686b1409cd4fb9901078eb9932af0c",
            "84b01d6be54b4d0c9c729b69550fe6d6",
            "e8c4a26c733d4a48830b2dceff721764",
            "c82e43336d5b41d6850b2cf71d38ffda",
            "43e3a77c396c4cae9b5842d7dd9ff262",
            "9cbb24b027b94e96bb395eba9e890c27",
            "4c61dcad224e448aa86bfedae4dc1794",
            "c0383d9d602645af846a16bd98f3b945",
            "e95e03e55e794b0d9f6758472a201b95",
            "ea1b0d0498a142108e62a984596b2461",
            "a5e0f78e212449ba8f0f3dfe7a11813f",
            "1cb24c2af867469195eeefc8b260140c",
            "e4e88b666a3e4423a7c27cdac935db03",
            "5c4c983eae7a4c3abe7b393d095c314c",
            "2c6144f01a754890adb185abc1ef30bd",
            "7705f1ee1ec34fd0a34a931263860b2a",
            "b88d6142506b4e2583caf0ddf1faa31c",
            "ac8fcd921609448989b7047a913d96b2",
            "dcb505e61fad47a591fba74c094dadea",
            "656457864b0f4061a89228fec09cfee3",
            "f348b43a6d2542b6bea085d01712dfab",
            "e9fe4330124c417dbe5dae273007551f",
            "6d1d8e4cc7cf4ce9ad4696632f0c8649",
            "b52242a98e1b494fb40631977414b3b9",
            "c5c96628ce81412bb48dd65cdbf543c4",
            "e4f8111b0eaa43b5800910c114941348",
            "d61a3d50e40149e7834fadffb98ff940",
            "fcf19ccd3cf3499e8a0e5414eb4cf569",
            "c3f311b3ab7447d187d359d22188f668",
            "50642e57113f4b0bb11d5086aaf477d5",
            "45543c21a4ca4fec8fa16a7de990ceb6",
            "f27ce02655774aea8e9bad469d1fa588",
            "080686f102e046ba8c3c8fc54a929b50"
          ]
        },
        "outputId": "c23df980-7596-4a9e-a84a-0dcc6c5b8236"
      },
      "source": [
        "from textattack.search_methods import GreedySearch\n",
        "from textattack.constraints.pre_transformation import RepeatModification, StopwordModification\n",
        "from textattack.shared import Attack\n",
        "from textattack.goal_functions import UntargetedClassification\n",
        "from textattack.datasets import HuggingFaceDataset\n",
        "\n",
        "# We're going to use our word swap class as the attack transformation.\n",
        "transformation = Swapper()\n",
        "\n",
        "constraints = [RepeatModification(),\n",
        "               StopwordModification()]\n",
        "\n",
        "search_method = GreedySearch()\n",
        "\n",
        "goal_function = UntargetedClassification(model_wrapper)\n",
        "\n",
        "# Now, let's make the attack from the 4 components:\n",
        "attack = Attack(goal_function, constraints, transformation, search_method)\n",
        "\n",
        "dataset = HuggingFaceDataset(\"glue\", \"sst2\", \"validation\") # Change the dataset"
      ],
      "execution_count": 13,
      "outputs": [
        {
          "output_type": "stream",
          "text": [
            "\u001b[34;1mtextattack\u001b[0m: Unknown if model of class <class 'transformers.models.albert.modeling_albert.AlbertForSequenceClassification'> compatible with goal function <class 'textattack.goal_functions.classification.untargeted_classification.UntargetedClassification'>.\n"
          ],
          "name": "stderr"
        },
        {
          "output_type": "display_data",
          "data": {
            "application/vnd.jupyter.widget-view+json": {
              "model_id": "44453db0fb02409a8a34e39f77e68e71",
              "version_minor": 0,
              "version_major": 2
            },
            "text/plain": [
              "HBox(children=(FloatProgress(value=0.0, description='Downloading', max=7777.0, style=ProgressStyle(description…"
            ]
          },
          "metadata": {
            "tags": []
          }
        },
        {
          "output_type": "stream",
          "text": [
            "\n"
          ],
          "name": "stdout"
        },
        {
          "output_type": "display_data",
          "data": {
            "application/vnd.jupyter.widget-view+json": {
              "model_id": "c6edf9f03c984c57a234f22de3fcfd8a",
              "version_minor": 0,
              "version_major": 2
            },
            "text/plain": [
              "HBox(children=(FloatProgress(value=0.0, description='Downloading', max=4473.0, style=ProgressStyle(description…"
            ]
          },
          "metadata": {
            "tags": []
          }
        },
        {
          "output_type": "stream",
          "text": [
            "\n",
            "Downloading and preparing dataset glue/sst2 (download: 7.09 MiB, generated: 4.81 MiB, post-processed: Unknown size, total: 11.90 MiB) to /root/.cache/huggingface/datasets/glue/sst2/1.0.0/dacbe3125aa31d7f70367a07a8a9e72a5a0bfeb5fc42e75c9db75b96da6053ad...\n"
          ],
          "name": "stdout"
        },
        {
          "output_type": "display_data",
          "data": {
            "application/vnd.jupyter.widget-view+json": {
              "model_id": "84b01d6be54b4d0c9c729b69550fe6d6",
              "version_minor": 0,
              "version_major": 2
            },
            "text/plain": [
              "HBox(children=(FloatProgress(value=0.0, description='Downloading', max=7439277.0, style=ProgressStyle(descript…"
            ]
          },
          "metadata": {
            "tags": []
          }
        },
        {
          "output_type": "stream",
          "text": [
            "\n"
          ],
          "name": "stdout"
        },
        {
          "output_type": "display_data",
          "data": {
            "application/vnd.jupyter.widget-view+json": {
              "model_id": "ea1b0d0498a142108e62a984596b2461",
              "version_minor": 0,
              "version_major": 2
            },
            "text/plain": [
              "HBox(children=(FloatProgress(value=1.0, bar_style='info', max=1.0), HTML(value='')))"
            ]
          },
          "metadata": {
            "tags": []
          }
        },
        {
          "output_type": "stream",
          "text": [
            "\r"
          ],
          "name": "stdout"
        },
        {
          "output_type": "display_data",
          "data": {
            "application/vnd.jupyter.widget-view+json": {
              "model_id": "ac8fcd921609448989b7047a913d96b2",
              "version_minor": 0,
              "version_major": 2
            },
            "text/plain": [
              "HBox(children=(FloatProgress(value=1.0, bar_style='info', max=1.0), HTML(value='')))"
            ]
          },
          "metadata": {
            "tags": []
          }
        },
        {
          "output_type": "stream",
          "text": [
            "\r"
          ],
          "name": "stdout"
        },
        {
          "output_type": "display_data",
          "data": {
            "application/vnd.jupyter.widget-view+json": {
              "model_id": "e4f8111b0eaa43b5800910c114941348",
              "version_minor": 0,
              "version_major": 2
            },
            "text/plain": [
              "HBox(children=(FloatProgress(value=1.0, bar_style='info', max=1.0), HTML(value='')))"
            ]
          },
          "metadata": {
            "tags": []
          }
        },
        {
          "output_type": "stream",
          "text": [
            "\u001b[34;1mtextattack\u001b[0m: Loading \u001b[94mdatasets\u001b[0m dataset \u001b[94mglue\u001b[0m, subset \u001b[94msst2\u001b[0m, split \u001b[94mvalidation\u001b[0m.\n"
          ],
          "name": "stderr"
        },
        {
          "output_type": "stream",
          "text": [
            "\rDataset glue downloaded and prepared to /root/.cache/huggingface/datasets/glue/sst2/1.0.0/dacbe3125aa31d7f70367a07a8a9e72a5a0bfeb5fc42e75c9db75b96da6053ad. Subsequent calls will reuse this data.\n"
          ],
          "name": "stdout"
        }
      ]
    },
    {
      "cell_type": "code",
      "metadata": {
        "id": "a578fNbVFII3",
        "colab": {
          "base_uri": "https://localhost:8080/"
        },
        "outputId": "abcc532a-0794-46eb-b357-99e02189e3e5"
      },
      "source": [
        "print(attack)"
      ],
      "execution_count": 14,
      "outputs": [
        {
          "output_type": "stream",
          "text": [
            "Attack(\n",
            "  (search_method): GreedySearch\n",
            "  (goal_function):  UntargetedClassification\n",
            "  (transformation):  Swapper\n",
            "  (constraints): \n",
            "    (0): RepeatModification\n",
            "    (1): StopwordModification\n",
            "  (is_black_box):  True\n",
            ")\n"
          ],
          "name": "stdout"
        }
      ]
    },
    {
      "cell_type": "code",
      "metadata": {
        "id": "fClGtuFxFM5f",
        "colab": {
          "base_uri": "https://localhost:8080/",
          "height": 1000
        },
        "outputId": "5fd58bae-08ae-4ccd-eb2e-8b88dd0c3926"
      },
      "source": [
        "printexample(attack)"
      ],
      "execution_count": 15,
      "outputs": [
        {
          "output_type": "stream",
          "text": [
            "\r  0%|          | 0/25 [00:00<?, ?it/s]"
          ],
          "name": "stderr"
        },
        {
          "output_type": "stream",
          "text": [
            "Attack(\n",
            "  (search_method): GreedySearch\n",
            "  (goal_function):  UntargetedClassification\n",
            "  (transformation):  Swapper\n",
            "  (constraints): \n",
            "    (0): RepeatModification\n",
            "    (1): StopwordModification\n",
            "  (is_black_box):  True\n",
            ")\n"
          ],
          "name": "stdout"
        },
        {
          "output_type": "display_data",
          "data": {
            "text/html": [
              "<font color = green>Positive (100%)</font> --> <font color = red>Negative (64%)</font><br>it 's a <font color = green>charming</font> and <font color = green>often</font> affecting journey . <br>it 's a <font color = red>harming</font> and <font color = red>sometimes</font> affecting journey . "
            ],
            "text/plain": [
              "<IPython.core.display.HTML object>"
            ]
          },
          "metadata": {
            "tags": []
          }
        },
        {
          "output_type": "stream",
          "text": [
            "[Succeeded / Failed / Total] 1 / 0 / 1:   4%|▍         | 1/25 [00:00<00:11,  2.13it/s]"
          ],
          "name": "stderr"
        },
        {
          "output_type": "display_data",
          "data": {
            "text/html": [
              "<font color = red>Negative (92%)</font> --> <font color = green>Positive (69%)</font><br><font color = red>unflinchingly</font> bleak and <font color = red>desperate</font> <br><font color = green>stunningly</font> bleak and <font color = green>recuperate</font> "
            ],
            "text/plain": [
              "<IPython.core.display.HTML object>"
            ]
          },
          "metadata": {
            "tags": []
          }
        },
        {
          "output_type": "stream",
          "text": [
            "[Succeeded / Failed / Total] 2 / 0 / 2:   8%|▊         | 2/25 [00:00<00:07,  3.12it/s]"
          ],
          "name": "stderr"
        },
        {
          "output_type": "display_data",
          "data": {
            "text/html": [
              "<font color = green>Positive (100%)</font> --> <font color = red>Negative (82%)</font><br>allows <font color = green>us</font> to hope that nolan is <font color = green>poised</font> to <font color = green>embark</font> a major career as a commercial yet inventive filmmaker . <br>allows <font color = red>united</font> to hope that nolan is <font color = red>gassed</font> to <font color = red>embargo</font> a major career as a commercial yet inventive filmmaker . "
            ],
            "text/plain": [
              "<IPython.core.display.HTML object>"
            ]
          },
          "metadata": {
            "tags": []
          }
        },
        {
          "output_type": "stream",
          "text": [
            "[Succeeded / Failed / Total] 3 / 0 / 3:  12%|█▏        | 3/25 [00:01<00:11,  1.99it/s]"
          ],
          "name": "stderr"
        },
        {
          "output_type": "display_data",
          "data": {
            "text/html": [
              "<font color = green>Positive (99%)</font> --> <font color = red>Negative (54%)</font><br>the acting , costumes , music , <font color = green>cinematography</font> and sound are all <font color = green>astounding</font> given the production 's austere locales . <br>the acting , costumes , music , <font color = red>cinematograph</font> and sound are all <font color = red>astounded</font> given the production 's austere locales . "
            ],
            "text/plain": [
              "<IPython.core.display.HTML object>"
            ]
          },
          "metadata": {
            "tags": []
          }
        },
        {
          "output_type": "stream",
          "text": [
            "[Succeeded / Failed / Total] 4 / 0 / 4:  16%|█▌        | 4/25 [00:02<00:10,  1.95it/s]"
          ],
          "name": "stderr"
        },
        {
          "output_type": "display_data",
          "data": {
            "text/html": [
              "<font color = red>Negative (99%)</font> --> <font color = red>[FAILED]</font><br>it 's slow -- very , very slow . "
            ],
            "text/plain": [
              "<IPython.core.display.HTML object>"
            ]
          },
          "metadata": {
            "tags": []
          }
        },
        {
          "output_type": "stream",
          "text": [
            "[Succeeded / Failed / Total] 4 / 1 / 5:  20%|██        | 5/25 [00:02<00:08,  2.29it/s]"
          ],
          "name": "stderr"
        },
        {
          "output_type": "display_data",
          "data": {
            "text/html": [
              "<font color = green>Positive (100%)</font> --> <font color = red>[FAILED]</font><br>although laced with humor and a few fanciful touches , the film is a refreshingly serious look at young women . "
            ],
            "text/plain": [
              "<IPython.core.display.HTML object>"
            ]
          },
          "metadata": {
            "tags": []
          }
        },
        {
          "output_type": "stream",
          "text": [
            "[Succeeded / Failed / Total] 4 / 2 / 6:  24%|██▍       | 6/25 [00:03<00:11,  1.59it/s]"
          ],
          "name": "stderr"
        },
        {
          "output_type": "display_data",
          "data": {
            "text/html": [
              "<font color = red>Negative (95%)</font> --> <font color = green>Positive (66%)</font><br>a <font color = red>sometimes</font> <font color = red>tedious</font> film . <br>a <font color = green>often</font> <font color = green>sidious</font> film . "
            ],
            "text/plain": [
              "<IPython.core.display.HTML object>"
            ]
          },
          "metadata": {
            "tags": []
          }
        },
        {
          "output_type": "stream",
          "text": [
            "[Succeeded / Failed / Total] 5 / 2 / 7:  28%|██▊       | 7/25 [00:03<00:10,  1.79it/s]"
          ],
          "name": "stderr"
        },
        {
          "output_type": "display_data",
          "data": {
            "text/html": [
              "<font color = red>Negative (90%)</font> --> <font color = red>[FAILED]</font><br>or doing last year 's taxes with your ex-wife . "
            ],
            "text/plain": [
              "<IPython.core.display.HTML object>"
            ]
          },
          "metadata": {
            "tags": []
          }
        },
        {
          "output_type": "stream",
          "text": [
            "[Succeeded / Failed / Total] 5 / 3 / 8:  32%|███▏      | 8/25 [00:04<00:08,  1.93it/s]"
          ],
          "name": "stderr"
        },
        {
          "output_type": "display_data",
          "data": {
            "text/html": [
              "<font color = green>Positive (80%)</font> --> <font color = red>Negative (69%)</font><br>you do n't have to know about music to <font color = green>appreciate</font> the film 's <font color = green>easygoing</font> blend of comedy and romance . <br>you do n't have to know about music to <font color = red>appreciating</font> the film 's <font color = red>foregoing</font> blend of comedy and romance . "
            ],
            "text/plain": [
              "<IPython.core.display.HTML object>"
            ]
          },
          "metadata": {
            "tags": []
          }
        },
        {
          "output_type": "stream",
          "text": [
            "[Succeeded / Failed / Total] 6 / 3 / 9:  36%|███▌      | 9/25 [00:04<00:08,  1.95it/s]"
          ],
          "name": "stderr"
        },
        {
          "output_type": "display_data",
          "data": {
            "text/html": [
              "<font color = red>Negative (97%)</font> --> <font color = red>[FAILED]</font><br>in exactly 89 minutes , most of which passed as slowly as if i 'd been sitting naked on an igloo , formula 51 sank from quirky to jerky to utter turkey . "
            ],
            "text/plain": [
              "<IPython.core.display.HTML object>"
            ]
          },
          "metadata": {
            "tags": []
          }
        },
        {
          "output_type": "stream",
          "text": [
            "[Succeeded / Failed / Total] 6 / 4 / 10:  40%|████      | 10/25 [00:07<00:11,  1.32it/s]"
          ],
          "name": "stderr"
        },
        {
          "output_type": "display_data",
          "data": {
            "text/html": [
              "<font color = green>Positive (100%)</font> --> <font color = red>[FAILED]</font><br>the mesmerizing performances of the leads keep the film grounded and keep the audience riveted . "
            ],
            "text/plain": [
              "<IPython.core.display.HTML object>"
            ]
          },
          "metadata": {
            "tags": []
          }
        },
        {
          "output_type": "stream",
          "text": [
            "[Succeeded / Failed / Total] 6 / 5 / 11:  44%|████▍     | 11/25 [00:08<00:10,  1.28it/s]"
          ],
          "name": "stderr"
        },
        {
          "output_type": "display_data",
          "data": {
            "text/html": [
              "<font color = red>Negative (100%)</font> --> <font color = red>[FAILED]</font><br>it takes a strange kind of laziness to waste the talents of robert forster , anne meara , eugene levy , and reginald veljohnson all in the same movie . "
            ],
            "text/plain": [
              "<IPython.core.display.HTML object>"
            ]
          },
          "metadata": {
            "tags": []
          }
        },
        {
          "output_type": "stream",
          "text": [
            "[Succeeded / Failed / Total] 6 / 6 / 12:  48%|████▊     | 12/25 [00:11<00:12,  1.06it/s]"
          ],
          "name": "stderr"
        },
        {
          "output_type": "display_data",
          "data": {
            "text/html": [
              "<font color = red>Negative (100%)</font> --> <font color = red>[FAILED]</font><br>... the film suffers from a lack of humor ( something needed to balance out the violence ) ... "
            ],
            "text/plain": [
              "<IPython.core.display.HTML object>"
            ]
          },
          "metadata": {
            "tags": []
          }
        },
        {
          "output_type": "stream",
          "text": [
            "[Succeeded / Failed / Total] 6 / 7 / 13:  52%|█████▏    | 13/25 [00:12<00:11,  1.06it/s]"
          ],
          "name": "stderr"
        },
        {
          "output_type": "display_data",
          "data": {
            "text/html": [
              "<font color = green>Positive (72%)</font> --> <font color = red>Negative (92%)</font><br>we <font color = green>root</font> for ( clara and paul ) , even like them , though perhaps it 's an emotion closer to pity . <br>we <font color = red>adjectival</font> for ( clara and paul ) , even like them , though perhaps it 's an emotion closer to pity . "
            ],
            "text/plain": [
              "<IPython.core.display.HTML object>"
            ]
          },
          "metadata": {
            "tags": []
          }
        },
        {
          "output_type": "stream",
          "text": [
            "[Succeeded / Failed / Total] 7 / 7 / 14:  56%|█████▌    | 14/25 [00:12<00:09,  1.12it/s]"
          ],
          "name": "stderr"
        },
        {
          "output_type": "display_data",
          "data": {
            "text/html": [
              "<font color = red>Negative (100%)</font> --> <font color = red>[FAILED]</font><br>even horror fans will most likely not find what they 're seeking with trouble every day ; the movie lacks both thrills and humor . "
            ],
            "text/plain": [
              "<IPython.core.display.HTML object>"
            ]
          },
          "metadata": {
            "tags": []
          }
        },
        {
          "output_type": "stream",
          "text": [
            "[Succeeded / Failed / Total] 7 / 8 / 15:  60%|██████    | 15/25 [00:14<00:09,  1.02it/s]"
          ],
          "name": "stderr"
        },
        {
          "output_type": "display_data",
          "data": {
            "text/html": [
              "<font color = green>Positive (100%)</font> --> <font color = red>[FAILED]</font><br>a gorgeous , high-spirited musical from india that exquisitely blends music , dance , song , and high drama . "
            ],
            "text/plain": [
              "<IPython.core.display.HTML object>"
            ]
          },
          "metadata": {
            "tags": []
          }
        },
        {
          "output_type": "stream",
          "text": [
            "[Succeeded / Failed / Total] 7 / 9 / 16:  64%|██████▍   | 16/25 [00:16<00:09,  1.02s/it]"
          ],
          "name": "stderr"
        },
        {
          "output_type": "display_data",
          "data": {
            "text/html": [
              "<font color = green>Positive (98%)</font> --> <font color = red>Negative (54%)</font><br>the emotions are <font color = green>raw</font> and will strike a nerve with anyone who 's ever had family trauma . <br>the emotions are <font color = red>grain</font> and will strike a nerve with anyone who 's ever had family trauma . "
            ],
            "text/plain": [
              "<IPython.core.display.HTML object>"
            ]
          },
          "metadata": {
            "tags": []
          }
        },
        {
          "output_type": "stream",
          "text": [
            "[Succeeded / Failed / Total] 8 / 9 / 17:  68%|██████▊   | 17/25 [00:16<00:07,  1.03it/s]"
          ],
          "name": "stderr"
        },
        {
          "output_type": "display_data",
          "data": {
            "text/html": [
              "<font color = green>Positive (100%)</font> --> <font color = red>[FAILED]</font><br>audrey tatou has a knack for picking roles that magnify her outrageous charm , and in this literate french comedy , she 's as morning-glory exuberant as she was in amélie . "
            ],
            "text/plain": [
              "<IPython.core.display.HTML object>"
            ]
          },
          "metadata": {
            "tags": []
          }
        },
        {
          "output_type": "stream",
          "text": [
            "[Succeeded / Failed / Total] 8 / 10 / 18:  72%|███████▏  | 18/25 [00:19<00:07,  1.06s/it]"
          ],
          "name": "stderr"
        },
        {
          "output_type": "display_data",
          "data": {
            "text/html": [
              "<font color = red>Negative (99%)</font> --> <font color = red>[FAILED]</font><br>... the movie is just a plain old monster . "
            ],
            "text/plain": [
              "<IPython.core.display.HTML object>"
            ]
          },
          "metadata": {
            "tags": []
          }
        },
        {
          "output_type": "stream",
          "text": [
            "[Succeeded / Failed / Total] 8 / 11 / 19:  76%|███████▌  | 19/25 [00:19<00:06,  1.02s/it]"
          ],
          "name": "stderr"
        },
        {
          "output_type": "display_data",
          "data": {
            "text/html": [
              "<font color = red>Negative (99%)</font> --> <font color = green>Positive (81%)</font><br>in its best moments , resembles a <font color = red>bad</font> high school production of <font color = red>grease</font> , <font color = red>without</font> <font color = red>benefit</font> of song . <br>in its best moments , resembles a <font color = green>good</font> high school production of <font color = green>crease</font> , <font color = green>any</font> <font color = green>beneficiaries</font> of song . "
            ],
            "text/plain": [
              "<IPython.core.display.HTML object>"
            ]
          },
          "metadata": {
            "tags": []
          }
        },
        {
          "output_type": "stream",
          "text": [
            "[Succeeded / Failed / Total] 9 / 11 / 20:  80%|████████  | 20/25 [00:20<00:05,  1.02s/it]"
          ],
          "name": "stderr"
        },
        {
          "output_type": "display_data",
          "data": {
            "text/html": [
              "<font color = red>Negative (63%)</font> --> <font color = green>Positive (55%)</font><br>pumpkin takes an admirable look at the hypocrisy of political correctness , but it does so with such an <font color = red>uneven</font> tone that you never know when humor ends and tragedy begins . <br>pumpkin takes an admirable look at the hypocrisy of political correctness , but it does so with such an <font color = green>unheated</font> tone that you never know when humor ends and tragedy begins . "
            ],
            "text/plain": [
              "<IPython.core.display.HTML object>"
            ]
          },
          "metadata": {
            "tags": []
          }
        },
        {
          "output_type": "stream",
          "text": [
            "[Succeeded / Failed / Total] 10 / 11 / 21:  84%|████████▍ | 21/25 [00:20<00:03,  1.01it/s]"
          ],
          "name": "stderr"
        },
        {
          "output_type": "display_data",
          "data": {
            "text/html": [
              "<font color = red>Negative (97%)</font> --> <font color = red>[FAILED]</font><br>the iditarod lasts for days - this just felt like it did . "
            ],
            "text/plain": [
              "<IPython.core.display.HTML object>"
            ]
          },
          "metadata": {
            "tags": []
          }
        },
        {
          "output_type": "stream",
          "text": [
            "[Succeeded / Failed / Total] 10 / 12 / 22:  88%|████████▊ | 22/25 [00:21<00:02,  1.04it/s]"
          ],
          "name": "stderr"
        },
        {
          "output_type": "display_data",
          "data": {
            "text/html": [
              "<font color = red>Negative (66%)</font> --> <font color = red>[FAILED]</font><br>holden caulfield did it better . "
            ],
            "text/plain": [
              "<IPython.core.display.HTML object>"
            ]
          },
          "metadata": {
            "tags": []
          }
        },
        {
          "output_type": "stream",
          "text": [
            "[Succeeded / Failed / Total] 10 / 13 / 23:  92%|█████████▏| 23/25 [00:21<00:01,  1.08it/s]"
          ],
          "name": "stderr"
        },
        {
          "output_type": "display_data",
          "data": {
            "text/html": [
              "<font color = green>Positive (100%)</font> --> <font color = red>[FAILED]</font><br>a delectable and intriguing thriller filled with surprises , read my lips is an original . "
            ],
            "text/plain": [
              "<IPython.core.display.HTML object>"
            ]
          },
          "metadata": {
            "tags": []
          }
        },
        {
          "output_type": "stream",
          "text": [
            "[Succeeded / Failed / Total] 10 / 14 / 24:  96%|█████████▌| 24/25 [00:22<00:00,  1.08it/s]"
          ],
          "name": "stderr"
        },
        {
          "output_type": "display_data",
          "data": {
            "text/html": [
              "<font color = green>Positive (92%)</font> --> <font color = red>Negative (73%)</font><br>seldom has a movie so <font color = green>closely</font> matched the spirit of a man and his work . <br>seldom has a movie so <font color = red>loosely</font> matched the spirit of a man and his work . "
            ],
            "text/plain": [
              "<IPython.core.display.HTML object>"
            ]
          },
          "metadata": {
            "tags": []
          }
        },
        {
          "output_type": "stream",
          "text": [
            "[Succeeded / Failed / Total] 11 / 14 / 25: 100%|██████████| 25/25 [00:22<00:00,  1.12it/s]"
          ],
          "name": "stderr"
        },
        {
          "output_type": "stream",
          "text": [
            "+-------------------------------+--------+\n",
            "| Attack Results                |        |\n",
            "+-------------------------------+--------+\n",
            "| Number of successful attacks: | 11     |\n",
            "| Number of failed attacks:     | 14     |\n",
            "| Number of skipped attacks:    | 0      |\n",
            "| Original accuracy:            | 100.0% |\n",
            "| Accuracy under attack:        | 56.0%  |\n",
            "| Attack success rate:          | 44.0%  |\n",
            "| Average perturbed word %:     | 19.11% |\n",
            "| Average num. words per input: | 15.64  |\n",
            "| Avg num queries:              | 36.72  |\n",
            "+-------------------------------+--------+"
          ],
          "name": "stdout"
        },
        {
          "output_type": "stream",
          "text": [
            "\n",
            "\u001b[34;1mtextattack\u001b[0m: Attack time: 22.334629774093628s\n"
          ],
          "name": "stderr"
        }
      ]
    },
    {
      "cell_type": "markdown",
      "metadata": {
        "id": "JjjKuY91FPqf"
      },
      "source": [
        "# Framing word2vec attack"
      ]
    },
    {
      "cell_type": "code",
      "metadata": {
        "id": "pp7L4aR6FRVP"
      },
      "source": [
        "from textattack.transformations import WordSwap\n",
        "\n",
        "class Swapper_(WordSwap): # For word2vec\n",
        "    \"\"\" Transforms an input by replacing any word with its most similar counterpart\n",
        "    \"\"\"\n",
        "\n",
        "    # We don't need a constructor, since our class doesn't require any parameters.\n",
        "\n",
        "    def _get_replacement_words(self, word):\n",
        "        \"\"\" Returns 'banana', no matter what 'word' was originally.\n",
        "\n",
        "            Returns a list with one item, since `_get_replacement_words` is intended to\n",
        "                return a list of candidate replacement words.\n",
        "        \"\"\"\n",
        "        if word in model2.wv.key_to_index:\n",
        "            for i in range(10):\n",
        "                if word.lower() in model2.wv.most_similar(word)[i][0].lower():\n",
        "                    continue\n",
        "                elif word.isupper():\n",
        "                    return [model2.wv.most_similar(word)[i][0].upper()]\n",
        "                elif word[0].isupper():\n",
        "                    return [model2.wv.most_similar(word)[i][0].capitalize()]\n",
        "                else:\n",
        "                    return [model2.wv.most_similar(word)[i][0]]\n",
        "        else:\n",
        "            return [word]"
      ],
      "execution_count": 16,
      "outputs": []
    },
    {
      "cell_type": "code",
      "metadata": {
        "id": "enY5C3DDBwlo",
        "colab": {
          "base_uri": "https://localhost:8080/"
        },
        "outputId": "efe040a4-dbd7-43d8-dad7-562abace208a"
      },
      "source": [
        "from textattack.search_methods import GreedySearch\n",
        "from textattack.constraints.pre_transformation import RepeatModification, StopwordModification\n",
        "from textattack.shared import Attack\n",
        "from textattack.goal_functions import UntargetedClassification\n",
        "from textattack.datasets import HuggingFaceDataset\n",
        "\n",
        "# We're going to use our word swap class as the attack transformation.\n",
        "transformation = Swapper_()\n",
        "\n",
        "constraints = [RepeatModification(),\n",
        "               StopwordModification()]\n",
        "\n",
        "search_method = GreedySearch()\n",
        "\n",
        "goal_function = UntargetedClassification(model_wrapper)\n",
        "\n",
        "# Now, let's make the attack from the 4 components:\n",
        "attack = Attack(goal_function, constraints, transformation, search_method)\n",
        "\n",
        "dataset = HuggingFaceDataset(\"glue\", \"sst2\", \"validation\") # Change the dataset"
      ],
      "execution_count": 17,
      "outputs": [
        {
          "output_type": "stream",
          "text": [
            "\u001b[34;1mtextattack\u001b[0m: Unknown if model of class <class 'transformers.models.albert.modeling_albert.AlbertForSequenceClassification'> compatible with goal function <class 'textattack.goal_functions.classification.untargeted_classification.UntargetedClassification'>.\n",
            "Reusing dataset glue (/root/.cache/huggingface/datasets/glue/sst2/1.0.0/dacbe3125aa31d7f70367a07a8a9e72a5a0bfeb5fc42e75c9db75b96da6053ad)\n",
            "\u001b[34;1mtextattack\u001b[0m: Loading \u001b[94mdatasets\u001b[0m dataset \u001b[94mglue\u001b[0m, subset \u001b[94msst2\u001b[0m, split \u001b[94mvalidation\u001b[0m.\n"
          ],
          "name": "stderr"
        }
      ]
    },
    {
      "cell_type": "code",
      "metadata": {
        "colab": {
          "base_uri": "https://localhost:8080/"
        },
        "id": "axfmmqOUlwtU",
        "outputId": "ad3a525d-ec8c-42d6-d042-272bcc3c5cb9"
      },
      "source": [
        "print(attack)"
      ],
      "execution_count": 18,
      "outputs": [
        {
          "output_type": "stream",
          "text": [
            "Attack(\n",
            "  (search_method): GreedySearch\n",
            "  (goal_function):  UntargetedClassification\n",
            "  (transformation):  Swapper_\n",
            "  (constraints): \n",
            "    (0): RepeatModification\n",
            "    (1): StopwordModification\n",
            "  (is_black_box):  True\n",
            ")\n"
          ],
          "name": "stdout"
        }
      ]
    },
    {
      "cell_type": "code",
      "metadata": {
        "id": "FhK7my9wFTcj",
        "colab": {
          "base_uri": "https://localhost:8080/",
          "height": 1000
        },
        "outputId": "db2d5c91-988e-41ab-e553-ffffaf4c6532"
      },
      "source": [
        "printexample(attack)"
      ],
      "execution_count": 19,
      "outputs": [
        {
          "output_type": "stream",
          "text": [
            "\r  0%|          | 0/25 [00:00<?, ?it/s]"
          ],
          "name": "stderr"
        },
        {
          "output_type": "stream",
          "text": [
            "Attack(\n",
            "  (search_method): GreedySearch\n",
            "  (goal_function):  UntargetedClassification\n",
            "  (transformation):  Swapper_\n",
            "  (constraints): \n",
            "    (0): RepeatModification\n",
            "    (1): StopwordModification\n",
            "  (is_black_box):  True\n",
            ")\n"
          ],
          "name": "stdout"
        },
        {
          "output_type": "display_data",
          "data": {
            "text/html": [
              "<font color = green>Positive (100%)</font> --> <font color = red>Negative (97%)</font><br>it 's a <font color = green>charming</font> and often <font color = green>affecting</font> journey . <br>it 's a <font color = red>laconic</font> and often <font color = red>wasting</font> journey . "
            ],
            "text/plain": [
              "<IPython.core.display.HTML object>"
            ]
          },
          "metadata": {
            "tags": []
          }
        },
        {
          "output_type": "stream",
          "text": [
            "[Succeeded / Failed / Total] 1 / 0 / 1:   4%|▍         | 1/25 [00:00<00:04,  5.60it/s]"
          ],
          "name": "stderr"
        },
        {
          "output_type": "display_data",
          "data": {
            "text/html": [
              "<font color = red>Negative (92%)</font> --> <font color = red>[FAILED]</font><br>unflinchingly bleak and desperate "
            ],
            "text/plain": [
              "<IPython.core.display.HTML object>"
            ]
          },
          "metadata": {
            "tags": []
          }
        },
        {
          "output_type": "stream",
          "text": [
            "\r[Succeeded / Failed / Total] 1 / 1 / 2:   8%|▊         | 2/25 [00:00<00:03,  7.25it/s]"
          ],
          "name": "stderr"
        },
        {
          "output_type": "display_data",
          "data": {
            "text/html": [
              "<font color = green>Positive (100%)</font> --> <font color = red>[FAILED]</font><br>allows us to hope that nolan is poised to embark a major career as a commercial yet inventive filmmaker . "
            ],
            "text/plain": [
              "<IPython.core.display.HTML object>"
            ]
          },
          "metadata": {
            "tags": []
          }
        },
        {
          "output_type": "stream",
          "text": [
            "[Succeeded / Failed / Total] 1 / 2 / 3:  12%|█▏        | 3/25 [00:02<00:14,  1.48it/s]"
          ],
          "name": "stderr"
        },
        {
          "output_type": "display_data",
          "data": {
            "text/html": [
              "<font color = green>Positive (99%)</font> --> <font color = red>Negative (65%)</font><br>the acting , costumes , music , <font color = green>cinematography</font> and <font color = green>sound</font> are all astounding <font color = green>given</font> the production 's austere <font color = green>locales</font> . <br>the acting , costumes , music , <font color = red>cine</font> and <font color = red>percussive</font> are all astounding <font color = red>assigning</font> the production 's austere <font color = red>idiosyncrasies</font> . "
            ],
            "text/plain": [
              "<IPython.core.display.HTML object>"
            ]
          },
          "metadata": {
            "tags": []
          }
        },
        {
          "output_type": "stream",
          "text": [
            "\r[Succeeded / Failed / Total] 2 / 2 / 4:  16%|█▌        | 4/25 [00:02<00:14,  1.43it/s]"
          ],
          "name": "stderr"
        },
        {
          "output_type": "display_data",
          "data": {
            "text/html": [
              "<font color = red>Negative (99%)</font> --> <font color = red>[FAILED]</font><br>it 's slow -- very , very slow . "
            ],
            "text/plain": [
              "<IPython.core.display.HTML object>"
            ]
          },
          "metadata": {
            "tags": []
          }
        },
        {
          "output_type": "stream",
          "text": [
            "[Succeeded / Failed / Total] 2 / 3 / 5:  20%|██        | 5/25 [00:02<00:11,  1.73it/s]"
          ],
          "name": "stderr"
        },
        {
          "output_type": "display_data",
          "data": {
            "text/html": [
              "<font color = green>Positive (100%)</font> --> <font color = red>[FAILED]</font><br>although laced with humor and a few fanciful touches , the film is a refreshingly serious look at young women . "
            ],
            "text/plain": [
              "<IPython.core.display.HTML object>"
            ]
          },
          "metadata": {
            "tags": []
          }
        },
        {
          "output_type": "stream",
          "text": [
            "\r[Succeeded / Failed / Total] 2 / 4 / 6:  24%|██▍       | 6/25 [00:04<00:13,  1.45it/s]"
          ],
          "name": "stderr"
        },
        {
          "output_type": "display_data",
          "data": {
            "text/html": [
              "<font color = red>Negative (95%)</font> --> <font color = red>[FAILED]</font><br>a sometimes tedious film . "
            ],
            "text/plain": [
              "<IPython.core.display.HTML object>"
            ]
          },
          "metadata": {
            "tags": []
          }
        },
        {
          "output_type": "stream",
          "text": [
            "[Succeeded / Failed / Total] 2 / 5 / 7:  28%|██▊       | 7/25 [00:04<00:11,  1.63it/s]"
          ],
          "name": "stderr"
        },
        {
          "output_type": "display_data",
          "data": {
            "text/html": [
              "<font color = red>Negative (90%)</font> --> <font color = red>[FAILED]</font><br>or doing last year 's taxes with your ex-wife . "
            ],
            "text/plain": [
              "<IPython.core.display.HTML object>"
            ]
          },
          "metadata": {
            "tags": []
          }
        },
        {
          "output_type": "stream",
          "text": [
            "\r[Succeeded / Failed / Total] 2 / 6 / 8:  32%|███▏      | 8/25 [00:04<00:09,  1.80it/s]"
          ],
          "name": "stderr"
        },
        {
          "output_type": "display_data",
          "data": {
            "text/html": [
              "<font color = green>Positive (80%)</font> --> <font color = red>Negative (63%)</font><br>you do n't have to know about music to <font color = green>appreciate</font> the film 's easygoing blend of comedy and romance . <br>you do n't have to know about music to <font color = red>undo</font> the film 's easygoing blend of comedy and romance . "
            ],
            "text/plain": [
              "<IPython.core.display.HTML object>"
            ]
          },
          "metadata": {
            "tags": []
          }
        },
        {
          "output_type": "stream",
          "text": [
            "[Succeeded / Failed / Total] 3 / 6 / 9:  36%|███▌      | 9/25 [00:04<00:08,  1.94it/s]"
          ],
          "name": "stderr"
        },
        {
          "output_type": "display_data",
          "data": {
            "text/html": [
              "<font color = red>Negative (97%)</font> --> <font color = red>[FAILED]</font><br>in exactly 89 minutes , most of which passed as slowly as if i 'd been sitting naked on an igloo , formula 51 sank from quirky to jerky to utter turkey . "
            ],
            "text/plain": [
              "<IPython.core.display.HTML object>"
            ]
          },
          "metadata": {
            "tags": []
          }
        },
        {
          "output_type": "stream",
          "text": [
            "\r[Succeeded / Failed / Total] 3 / 7 / 10:  40%|████      | 10/25 [00:06<00:09,  1.57it/s]"
          ],
          "name": "stderr"
        },
        {
          "output_type": "display_data",
          "data": {
            "text/html": [
              "<font color = green>Positive (100%)</font> --> <font color = red>[FAILED]</font><br>the mesmerizing performances of the leads keep the film grounded and keep the audience riveted . "
            ],
            "text/plain": [
              "<IPython.core.display.HTML object>"
            ]
          },
          "metadata": {
            "tags": []
          }
        },
        {
          "output_type": "stream",
          "text": [
            "[Succeeded / Failed / Total] 3 / 8 / 11:  44%|████▍     | 11/25 [00:07<00:09,  1.53it/s]"
          ],
          "name": "stderr"
        },
        {
          "output_type": "display_data",
          "data": {
            "text/html": [
              "<font color = red>Negative (100%)</font> --> <font color = green>Positive (60%)</font><br>it takes a strange kind of <font color = red>laziness</font> to <font color = red>waste</font> the talents of robert forster , anne meara , eugene levy , and reginald veljohnson all in the same movie . <br>it takes a strange kind of <font color = green>shadowing</font> to <font color = green>potable</font> the talents of robert forster , anne meara , eugene levy , and reginald veljohnson all in the same movie . "
            ],
            "text/plain": [
              "<IPython.core.display.HTML object>"
            ]
          },
          "metadata": {
            "tags": []
          }
        },
        {
          "output_type": "stream",
          "text": [
            "\r[Succeeded / Failed / Total] 4 / 8 / 12:  48%|████▊     | 12/25 [00:07<00:08,  1.54it/s]"
          ],
          "name": "stderr"
        },
        {
          "output_type": "display_data",
          "data": {
            "text/html": [
              "<font color = red>Negative (100%)</font> --> <font color = red>[FAILED]</font><br>... the film suffers from a lack of humor ( something needed to balance out the violence ) ... "
            ],
            "text/plain": [
              "<IPython.core.display.HTML object>"
            ]
          },
          "metadata": {
            "tags": []
          }
        },
        {
          "output_type": "stream",
          "text": [
            "[Succeeded / Failed / Total] 4 / 9 / 13:  52%|█████▏    | 13/25 [00:08<00:07,  1.51it/s]"
          ],
          "name": "stderr"
        },
        {
          "output_type": "display_data",
          "data": {
            "text/html": [
              "<font color = green>Positive (72%)</font> --> <font color = red>Negative (80%)</font><br>we root for ( clara and paul ) , even <font color = green>like</font> them , though perhaps it 's an emotion closer to pity . <br>we root for ( clara and paul ) , even <font color = red>resemble</font> them , though perhaps it 's an emotion closer to pity . "
            ],
            "text/plain": [
              "<IPython.core.display.HTML object>"
            ]
          },
          "metadata": {
            "tags": []
          }
        },
        {
          "output_type": "stream",
          "text": [
            "\r[Succeeded / Failed / Total] 5 / 9 / 14:  56%|█████▌    | 14/25 [00:08<00:06,  1.58it/s]"
          ],
          "name": "stderr"
        },
        {
          "output_type": "display_data",
          "data": {
            "text/html": [
              "<font color = red>Negative (100%)</font> --> <font color = green>Positive (98%)</font><br>even horror fans will most likely not find what they 're seeking with trouble every day ; the movie <font color = red>lacks</font> both thrills and humor . <br>even horror fans will most likely not find what they 're seeking with trouble every day ; the movie <font color = green>renders</font> both thrills and humor . "
            ],
            "text/plain": [
              "<IPython.core.display.HTML object>"
            ]
          },
          "metadata": {
            "tags": []
          }
        },
        {
          "output_type": "stream",
          "text": [
            "[Succeeded / Failed / Total] 6 / 9 / 15:  60%|██████    | 15/25 [00:09<00:06,  1.64it/s]"
          ],
          "name": "stderr"
        },
        {
          "output_type": "display_data",
          "data": {
            "text/html": [
              "<font color = green>Positive (100%)</font> --> <font color = red>[FAILED]</font><br>a gorgeous , high-spirited musical from india that exquisitely blends music , dance , song , and high drama . "
            ],
            "text/plain": [
              "<IPython.core.display.HTML object>"
            ]
          },
          "metadata": {
            "tags": []
          }
        },
        {
          "output_type": "stream",
          "text": [
            "\r[Succeeded / Failed / Total] 6 / 10 / 16:  64%|██████▍   | 16/25 [00:10<00:05,  1.56it/s]"
          ],
          "name": "stderr"
        },
        {
          "output_type": "display_data",
          "data": {
            "text/html": [
              "<font color = green>Positive (98%)</font> --> <font color = red>Negative (52%)</font><br>the emotions are <font color = green>raw</font> and will <font color = green>strike</font> a nerve with anyone who 's ever had family trauma . <br>the emotions are <font color = red>perishable</font> and will <font color = red>downed</font> a nerve with anyone who 's ever had family trauma . "
            ],
            "text/plain": [
              "<IPython.core.display.HTML object>"
            ]
          },
          "metadata": {
            "tags": []
          }
        },
        {
          "output_type": "stream",
          "text": [
            "[Succeeded / Failed / Total] 7 / 10 / 17:  68%|██████▊   | 17/25 [00:10<00:04,  1.60it/s]"
          ],
          "name": "stderr"
        },
        {
          "output_type": "display_data",
          "data": {
            "text/html": [
              "<font color = green>Positive (100%)</font> --> <font color = red>[FAILED]</font><br>audrey tatou has a knack for picking roles that magnify her outrageous charm , and in this literate french comedy , she 's as morning-glory exuberant as she was in amélie . "
            ],
            "text/plain": [
              "<IPython.core.display.HTML object>"
            ]
          },
          "metadata": {
            "tags": []
          }
        },
        {
          "output_type": "stream",
          "text": [
            "\r[Succeeded / Failed / Total] 7 / 11 / 18:  72%|███████▏  | 18/25 [00:12<00:04,  1.49it/s]"
          ],
          "name": "stderr"
        },
        {
          "output_type": "display_data",
          "data": {
            "text/html": [
              "<font color = red>Negative (99%)</font> --> <font color = green>Positive (81%)</font><br>... the movie is just a plain <font color = red>old</font> <font color = red>monster</font> . <br>... the movie is just a plain <font color = green>harrow</font> <font color = green>ness</font> . "
            ],
            "text/plain": [
              "<IPython.core.display.HTML object>"
            ]
          },
          "metadata": {
            "tags": []
          }
        },
        {
          "output_type": "stream",
          "text": [
            "[Succeeded / Failed / Total] 8 / 11 / 19:  76%|███████▌  | 19/25 [00:12<00:03,  1.54it/s]"
          ],
          "name": "stderr"
        },
        {
          "output_type": "display_data",
          "data": {
            "text/html": [
              "<font color = red>Negative (99%)</font> --> <font color = green>Positive (58%)</font><br>in its best moments , resembles a <font color = red>bad</font> high school production of <font color = red>grease</font> , without <font color = red>benefit</font> of song . <br>in its best moments , resembles a <font color = green>good</font> high school production of <font color = green>leaded</font> , without <font color = green>accrue</font> of song . "
            ],
            "text/plain": [
              "<IPython.core.display.HTML object>"
            ]
          },
          "metadata": {
            "tags": []
          }
        },
        {
          "output_type": "stream",
          "text": [
            "\r[Succeeded / Failed / Total] 9 / 11 / 20:  80%|████████  | 20/25 [00:13<00:03,  1.54it/s]"
          ],
          "name": "stderr"
        },
        {
          "output_type": "display_data",
          "data": {
            "text/html": [
              "<font color = red>Negative (63%)</font> --> <font color = green>Positive (93%)</font><br>pumpkin takes an admirable look at the hypocrisy of political correctness , but it does so with such an <font color = red>uneven</font> tone that you never know when humor ends and tragedy begins . <br>pumpkin takes an admirable look at the hypocrisy of political correctness , but it does so with such an <font color = green>precipitous</font> tone that you never know when humor ends and tragedy begins . "
            ],
            "text/plain": [
              "<IPython.core.display.HTML object>"
            ]
          },
          "metadata": {
            "tags": []
          }
        },
        {
          "output_type": "stream",
          "text": [
            "[Succeeded / Failed / Total] 10 / 11 / 21:  84%|████████▍ | 21/25 [00:13<00:02,  1.57it/s]"
          ],
          "name": "stderr"
        },
        {
          "output_type": "display_data",
          "data": {
            "text/html": [
              "<font color = red>Negative (97%)</font> --> <font color = red>[FAILED]</font><br>the iditarod lasts for days - this just felt like it did . "
            ],
            "text/plain": [
              "<IPython.core.display.HTML object>"
            ]
          },
          "metadata": {
            "tags": []
          }
        },
        {
          "output_type": "stream",
          "text": [
            "\r[Succeeded / Failed / Total] 10 / 12 / 22:  88%|████████▊ | 22/25 [00:13<00:01,  1.60it/s]"
          ],
          "name": "stderr"
        },
        {
          "output_type": "display_data",
          "data": {
            "text/html": [
              "<font color = red>Negative (66%)</font> --> <font color = red>[FAILED]</font><br>holden caulfield did it better . "
            ],
            "text/plain": [
              "<IPython.core.display.HTML object>"
            ]
          },
          "metadata": {
            "tags": []
          }
        },
        {
          "output_type": "stream",
          "text": [
            "[Succeeded / Failed / Total] 10 / 13 / 23:  92%|█████████▏| 23/25 [00:13<00:01,  1.65it/s]"
          ],
          "name": "stderr"
        },
        {
          "output_type": "display_data",
          "data": {
            "text/html": [
              "<font color = green>Positive (100%)</font> --> <font color = red>[FAILED]</font><br>a delectable and intriguing thriller filled with surprises , read my lips is an original . "
            ],
            "text/plain": [
              "<IPython.core.display.HTML object>"
            ]
          },
          "metadata": {
            "tags": []
          }
        },
        {
          "output_type": "stream",
          "text": [
            "\r[Succeeded / Failed / Total] 10 / 14 / 24:  96%|█████████▌| 24/25 [00:14<00:00,  1.65it/s]"
          ],
          "name": "stderr"
        },
        {
          "output_type": "display_data",
          "data": {
            "text/html": [
              "<font color = green>Positive (92%)</font> --> <font color = red>Negative (64%)</font><br>seldom has a movie so closely <font color = green>matched</font> the spirit of a man and his work . <br>seldom has a movie so closely <font color = red>rivaled</font> the spirit of a man and his work . "
            ],
            "text/plain": [
              "<IPython.core.display.HTML object>"
            ]
          },
          "metadata": {
            "tags": []
          }
        },
        {
          "output_type": "stream",
          "text": [
            "[Succeeded / Failed / Total] 11 / 14 / 25: 100%|██████████| 25/25 [00:14<00:00,  1.70it/s]"
          ],
          "name": "stderr"
        },
        {
          "output_type": "stream",
          "text": [
            "+-------------------------------+--------+\n",
            "| Attack Results                |        |\n",
            "+-------------------------------+--------+\n",
            "| Number of successful attacks: | 11     |\n",
            "| Number of failed attacks:     | 14     |\n",
            "| Number of skipped attacks:    | 0      |\n",
            "| Original accuracy:            | 100.0% |\n",
            "| Accuracy under attack:        | 56.0%  |\n",
            "| Attack success rate:          | 44.0%  |\n",
            "| Average perturbed word %:     | 12.58% |\n",
            "| Average num. words per input: | 15.64  |\n",
            "| Avg num queries:              | 26.24  |\n",
            "+-------------------------------+--------+"
          ],
          "name": "stdout"
        },
        {
          "output_type": "stream",
          "text": [
            "\n",
            "\u001b[34;1mtextattack\u001b[0m: Attack time: 14.748628616333008s\n"
          ],
          "name": "stderr"
        }
      ]
    },
    {
      "cell_type": "markdown",
      "metadata": {
        "id": "Q8odOqt_MctY"
      },
      "source": [
        "# Framing Glove attack"
      ]
    },
    {
      "cell_type": "code",
      "metadata": {
        "id": "d4dI_hK_MXdH"
      },
      "source": [
        "from textattack.transformations import WordSwap\n",
        "\n",
        "class Swapper__(WordSwap): # For glove\n",
        "    \"\"\" Transforms an input by replacing any word with its most similar counterpart\n",
        "    \"\"\"\n",
        "\n",
        "    # We don't need a constructor, since our class doesn't require any parameters.\n",
        "\n",
        "    def _get_replacement_words(self, word):\n",
        "        \"\"\" Returns 'banana', no matter what 'word' was originally.\n",
        "\n",
        "            Returns a list with one item, since `_get_replacement_words` is intended to\n",
        "                return a list of candidate replacement words.\n",
        "        \"\"\"\n",
        "        if word in model3.key_to_index:\n",
        "            for i in range(10):\n",
        "                if word.lower() in model3.most_similar(word)[i][0].lower():\n",
        "                    continue\n",
        "                elif word.isupper():\n",
        "                    return [model3.most_similar(word)[i][0].upper()]\n",
        "                elif word[0].isupper():\n",
        "                    return [model3.most_similar(word)[i][0].capitalize()]\n",
        "                else:\n",
        "                    return [model3.most_similar(word)[i][0]]\n",
        "        else:\n",
        "            return [word]"
      ],
      "execution_count": 20,
      "outputs": []
    },
    {
      "cell_type": "code",
      "metadata": {
        "colab": {
          "base_uri": "https://localhost:8080/"
        },
        "id": "TSxsdoTqNmYM",
        "outputId": "6bd62ea9-14c2-4671-ec32-804441f2a9a6"
      },
      "source": [
        "from textattack.search_methods import GreedySearch\n",
        "from textattack.constraints.pre_transformation import RepeatModification, StopwordModification\n",
        "from textattack.shared import Attack\n",
        "from textattack.goal_functions import UntargetedClassification\n",
        "from textattack.datasets import HuggingFaceDataset\n",
        "\n",
        "# We're going to use our word swap class as the attack transformation.\n",
        "transformation = Swapper__()\n",
        "\n",
        "constraints = [RepeatModification(),\n",
        "               StopwordModification()]\n",
        "\n",
        "search_method = GreedySearch()\n",
        "\n",
        "goal_function = UntargetedClassification(model_wrapper)\n",
        "\n",
        "# Now, let's make the attack from the 4 components:\n",
        "attack = Attack(goal_function, constraints, transformation, search_method)\n",
        "\n",
        "dataset = HuggingFaceDataset(\"glue\", \"sst2\", \"validation\") # Change the dataset"
      ],
      "execution_count": 21,
      "outputs": [
        {
          "output_type": "stream",
          "text": [
            "\u001b[34;1mtextattack\u001b[0m: Unknown if model of class <class 'transformers.models.albert.modeling_albert.AlbertForSequenceClassification'> compatible with goal function <class 'textattack.goal_functions.classification.untargeted_classification.UntargetedClassification'>.\n",
            "Reusing dataset glue (/root/.cache/huggingface/datasets/glue/sst2/1.0.0/dacbe3125aa31d7f70367a07a8a9e72a5a0bfeb5fc42e75c9db75b96da6053ad)\n",
            "\u001b[34;1mtextattack\u001b[0m: Loading \u001b[94mdatasets\u001b[0m dataset \u001b[94mglue\u001b[0m, subset \u001b[94msst2\u001b[0m, split \u001b[94mvalidation\u001b[0m.\n"
          ],
          "name": "stderr"
        }
      ]
    },
    {
      "cell_type": "code",
      "metadata": {
        "colab": {
          "base_uri": "https://localhost:8080/"
        },
        "id": "yipMMe1VNuRP",
        "outputId": "a80e88f5-56c6-47e9-ea4d-abeb514acbd3"
      },
      "source": [
        "print(attack)"
      ],
      "execution_count": 22,
      "outputs": [
        {
          "output_type": "stream",
          "text": [
            "Attack(\n",
            "  (search_method): GreedySearch\n",
            "  (goal_function):  UntargetedClassification\n",
            "  (transformation):  Swapper__\n",
            "  (constraints): \n",
            "    (0): RepeatModification\n",
            "    (1): StopwordModification\n",
            "  (is_black_box):  True\n",
            ")\n"
          ],
          "name": "stdout"
        }
      ]
    },
    {
      "cell_type": "code",
      "metadata": {
        "colab": {
          "base_uri": "https://localhost:8080/",
          "height": 1000
        },
        "id": "cpWQXGpDN1SB",
        "outputId": "40bfc559-7685-4746-abc8-d9f7e27e712b"
      },
      "source": [
        "printexample(attack)"
      ],
      "execution_count": 23,
      "outputs": [
        {
          "output_type": "stream",
          "text": [
            "\r  0%|          | 0/25 [00:00<?, ?it/s]"
          ],
          "name": "stderr"
        },
        {
          "output_type": "stream",
          "text": [
            "Attack(\n",
            "  (search_method): GreedySearch\n",
            "  (goal_function):  UntargetedClassification\n",
            "  (transformation):  Swapper__\n",
            "  (constraints): \n",
            "    (0): RepeatModification\n",
            "    (1): StopwordModification\n",
            "  (is_black_box):  True\n",
            ")\n"
          ],
          "name": "stdout"
        },
        {
          "output_type": "display_data",
          "data": {
            "text/html": [
              "<font color = green>Positive (100%)</font> --> <font color = red>Negative (99%)</font><br>it 's a <font color = green>charming</font> and often <font color = green>affecting</font> journey . <br>it 's a <font color = red>pedantic</font> and often <font color = red>destructive</font> journey . "
            ],
            "text/plain": [
              "<IPython.core.display.HTML object>"
            ]
          },
          "metadata": {
            "tags": []
          }
        },
        {
          "output_type": "stream",
          "text": [
            "[Succeeded / Failed / Total] 1 / 0 / 1:   4%|▍         | 1/25 [00:00<00:06,  3.46it/s]"
          ],
          "name": "stderr"
        },
        {
          "output_type": "display_data",
          "data": {
            "text/html": [
              "<font color = red>Negative (92%)</font> --> <font color = red>[FAILED]</font><br>unflinchingly bleak and desperate "
            ],
            "text/plain": [
              "<IPython.core.display.HTML object>"
            ]
          },
          "metadata": {
            "tags": []
          }
        },
        {
          "output_type": "stream",
          "text": [
            "[Succeeded / Failed / Total] 1 / 1 / 2:   8%|▊         | 2/25 [00:00<00:06,  3.65it/s]"
          ],
          "name": "stderr"
        },
        {
          "output_type": "display_data",
          "data": {
            "text/html": [
              "<font color = green>Positive (100%)</font> --> <font color = red>Negative (51%)</font><br><font color = green>allows</font> <font color = green>us</font> to hope that nolan is <font color = green>poised</font> to embark a major career as a commercial <font color = green>yet</font> inventive filmmaker . <br><font color = red>allow</font> <font color = red>karamursel</font> to hope that nolan is <font color = red>transfered</font> to embark a major career as a commercial <font color = red>though</font> inventive filmmaker . "
            ],
            "text/plain": [
              "<IPython.core.display.HTML object>"
            ]
          },
          "metadata": {
            "tags": []
          }
        },
        {
          "output_type": "stream",
          "text": [
            "[Succeeded / Failed / Total] 2 / 1 / 3:  12%|█▏        | 3/25 [00:02<00:15,  1.41it/s]"
          ],
          "name": "stderr"
        },
        {
          "output_type": "display_data",
          "data": {
            "text/html": [
              "<font color = green>Positive (99%)</font> --> <font color = red>Negative (52%)</font><br>the acting , costumes , music , cinematography and sound are all <font color = green>astounding</font> given the production 's austere locales . <br>the acting , costumes , music , cinematography and sound are all <font color = red>review</font> given the production 's austere locales . "
            ],
            "text/plain": [
              "<IPython.core.display.HTML object>"
            ]
          },
          "metadata": {
            "tags": []
          }
        },
        {
          "output_type": "stream",
          "text": [
            "[Succeeded / Failed / Total] 3 / 1 / 4:  16%|█▌        | 4/25 [00:02<00:13,  1.58it/s]"
          ],
          "name": "stderr"
        },
        {
          "output_type": "display_data",
          "data": {
            "text/html": [
              "<font color = red>Negative (99%)</font> --> <font color = green>Positive (98%)</font><br>it 's <font color = red>slow</font> -- very , very <font color = red>slow</font> . <br>it 's <font color = green>fast</font> -- very , very <font color = green>fast</font> . "
            ],
            "text/plain": [
              "<IPython.core.display.HTML object>"
            ]
          },
          "metadata": {
            "tags": []
          }
        },
        {
          "output_type": "stream",
          "text": [
            "[Succeeded / Failed / Total] 4 / 1 / 5:  20%|██        | 5/25 [00:02<00:10,  1.87it/s]"
          ],
          "name": "stderr"
        },
        {
          "output_type": "display_data",
          "data": {
            "text/html": [
              "<font color = green>Positive (100%)</font> --> <font color = red>Negative (55%)</font><br>although laced with humor and a few fanciful touches , the film is a <font color = green>refreshingly</font> serious look at young women . <br>although laced with humor and a few fanciful touches , the film is a <font color = red>alacran</font> serious look at young women . "
            ],
            "text/plain": [
              "<IPython.core.display.HTML object>"
            ]
          },
          "metadata": {
            "tags": []
          }
        },
        {
          "output_type": "stream",
          "text": [
            "[Succeeded / Failed / Total] 5 / 1 / 6:  24%|██▍       | 6/25 [00:03<00:09,  1.92it/s]"
          ],
          "name": "stderr"
        },
        {
          "output_type": "display_data",
          "data": {
            "text/html": [
              "<font color = red>Negative (95%)</font> --> <font color = green>Positive (53%)</font><br>a <font color = red>sometimes</font> <font color = red>tedious</font> <font color = red>film</font> . <br>a <font color = green>often</font> <font color = green>computationally</font> <font color = green>remodernist</font> . "
            ],
            "text/plain": [
              "<IPython.core.display.HTML object>"
            ]
          },
          "metadata": {
            "tags": []
          }
        },
        {
          "output_type": "stream",
          "text": [
            "[Succeeded / Failed / Total] 6 / 1 / 7:  28%|██▊       | 7/25 [00:03<00:08,  2.07it/s]"
          ],
          "name": "stderr"
        },
        {
          "output_type": "display_data",
          "data": {
            "text/html": [
              "<font color = red>Negative (90%)</font> --> <font color = red>[FAILED]</font><br>or doing last year 's taxes with your ex-wife . "
            ],
            "text/plain": [
              "<IPython.core.display.HTML object>"
            ]
          },
          "metadata": {
            "tags": []
          }
        },
        {
          "output_type": "stream",
          "text": [
            "[Succeeded / Failed / Total] 6 / 2 / 8:  32%|███▏      | 8/25 [00:03<00:07,  2.21it/s]"
          ],
          "name": "stderr"
        },
        {
          "output_type": "display_data",
          "data": {
            "text/html": [
              "<font color = green>Positive (80%)</font> --> <font color = red>Negative (72%)</font><br>you do n't have to know about music to <font color = green>appreciate</font> the film 's <font color = green>easygoing</font> blend of comedy and romance . <br>you do n't have to know about music to <font color = red>hamper</font> the film 's <font color = red>kangilinnguit</font> blend of comedy and romance . "
            ],
            "text/plain": [
              "<IPython.core.display.HTML object>"
            ]
          },
          "metadata": {
            "tags": []
          }
        },
        {
          "output_type": "stream",
          "text": [
            "[Succeeded / Failed / Total] 7 / 2 / 9:  36%|███▌      | 9/25 [00:04<00:07,  2.13it/s]"
          ],
          "name": "stderr"
        },
        {
          "output_type": "display_data",
          "data": {
            "text/html": [
              "<font color = red>Negative (97%)</font> --> <font color = red>[FAILED]</font><br>in exactly 89 minutes , most of which passed as slowly as if i 'd been sitting naked on an igloo , formula 51 sank from quirky to jerky to utter turkey . "
            ],
            "text/plain": [
              "<IPython.core.display.HTML object>"
            ]
          },
          "metadata": {
            "tags": []
          }
        },
        {
          "output_type": "stream",
          "text": [
            "[Succeeded / Failed / Total] 7 / 3 / 10:  40%|████      | 10/25 [00:07<00:11,  1.30it/s]"
          ],
          "name": "stderr"
        },
        {
          "output_type": "display_data",
          "data": {
            "text/html": [
              "<font color = green>Positive (100%)</font> --> <font color = red>[FAILED]</font><br>the mesmerizing performances of the leads keep the film grounded and keep the audience riveted . "
            ],
            "text/plain": [
              "<IPython.core.display.HTML object>"
            ]
          },
          "metadata": {
            "tags": []
          }
        },
        {
          "output_type": "stream",
          "text": [
            "[Succeeded / Failed / Total] 7 / 4 / 11:  44%|████▍     | 11/25 [00:09<00:11,  1.22it/s]"
          ],
          "name": "stderr"
        },
        {
          "output_type": "display_data",
          "data": {
            "text/html": [
              "<font color = red>Negative (100%)</font> --> <font color = green>Positive (50%)</font><br>it takes a strange kind of <font color = red>laziness</font> to <font color = red>waste</font> the talents of robert forster , anne meara , eugene levy , and reginald veljohnson all in the same movie . <br>it takes a strange kind of <font color = green>margarine</font> to <font color = green>raw</font> the talents of robert forster , anne meara , eugene levy , and reginald veljohnson all in the same movie . "
            ],
            "text/plain": [
              "<IPython.core.display.HTML object>"
            ]
          },
          "metadata": {
            "tags": []
          }
        },
        {
          "output_type": "stream",
          "text": [
            "[Succeeded / Failed / Total] 8 / 4 / 12:  48%|████▊     | 12/25 [00:10<00:10,  1.19it/s]"
          ],
          "name": "stderr"
        },
        {
          "output_type": "display_data",
          "data": {
            "text/html": [
              "<font color = red>Negative (100%)</font> --> <font color = red>[FAILED]</font><br>... the film suffers from a lack of humor ( something needed to balance out the violence ) ... "
            ],
            "text/plain": [
              "<IPython.core.display.HTML object>"
            ]
          },
          "metadata": {
            "tags": []
          }
        },
        {
          "output_type": "stream",
          "text": [
            "[Succeeded / Failed / Total] 8 / 5 / 13:  52%|█████▏    | 13/25 [00:11<00:10,  1.14it/s]"
          ],
          "name": "stderr"
        },
        {
          "output_type": "display_data",
          "data": {
            "text/html": [
              "<font color = green>Positive (72%)</font> --> <font color = red>Negative (87%)</font><br>we <font color = green>root</font> for ( clara and paul ) , even like them , though perhaps it 's an emotion closer to pity . <br>we <font color = red>endodontics</font> for ( clara and paul ) , even like them , though perhaps it 's an emotion closer to pity . "
            ],
            "text/plain": [
              "<IPython.core.display.HTML object>"
            ]
          },
          "metadata": {
            "tags": []
          }
        },
        {
          "output_type": "stream",
          "text": [
            "[Succeeded / Failed / Total] 9 / 5 / 14:  56%|█████▌    | 14/25 [00:11<00:09,  1.18it/s]"
          ],
          "name": "stderr"
        },
        {
          "output_type": "display_data",
          "data": {
            "text/html": [
              "<font color = red>Negative (100%)</font> --> <font color = green>Positive (99%)</font><br>even horror fans will most likely not find what they 're seeking with trouble every day ; the movie <font color = red>lacks</font> both thrills and humor . <br>even horror fans will most likely not find what they 're seeking with trouble every day ; the movie <font color = green>possesses</font> both thrills and humor . "
            ],
            "text/plain": [
              "<IPython.core.display.HTML object>"
            ]
          },
          "metadata": {
            "tags": []
          }
        },
        {
          "output_type": "stream",
          "text": [
            "[Succeeded / Failed / Total] 10 / 5 / 15:  60%|██████    | 15/25 [00:12<00:08,  1.22it/s]"
          ],
          "name": "stderr"
        },
        {
          "output_type": "display_data",
          "data": {
            "text/html": [
              "<font color = green>Positive (100%)</font> --> <font color = red>Negative (77%)</font><br>a <font color = green>gorgeous</font> , high-spirited <font color = green>musical</font> from india that <font color = green>exquisitely</font> <font color = green>blends</font> music , dance , song , and high drama . <br>a <font color = red>dumb</font> , high-spirited <font color = red>genres</font> from india that <font color = red>wisher</font> <font color = red>epochs</font> music , dance , song , and high drama . "
            ],
            "text/plain": [
              "<IPython.core.display.HTML object>"
            ]
          },
          "metadata": {
            "tags": []
          }
        },
        {
          "output_type": "stream",
          "text": [
            "[Succeeded / Failed / Total] 11 / 5 / 16:  64%|██████▍   | 16/25 [00:13<00:07,  1.17it/s]"
          ],
          "name": "stderr"
        },
        {
          "output_type": "display_data",
          "data": {
            "text/html": [
              "<font color = green>Positive (98%)</font> --> <font color = red>Negative (53%)</font><br>the emotions are <font color = green>raw</font> and will strike a nerve with anyone who 's ever had <font color = green>family</font> trauma . <br>the emotions are <font color = red>materials</font> and will strike a nerve with anyone who 's ever had <font color = red>pantolambdodontidae</font> trauma . "
            ],
            "text/plain": [
              "<IPython.core.display.HTML object>"
            ]
          },
          "metadata": {
            "tags": []
          }
        },
        {
          "output_type": "stream",
          "text": [
            "[Succeeded / Failed / Total] 12 / 5 / 17:  68%|██████▊   | 17/25 [00:14<00:06,  1.19it/s]"
          ],
          "name": "stderr"
        },
        {
          "output_type": "display_data",
          "data": {
            "text/html": [
              "<font color = green>Positive (100%)</font> --> <font color = red>Negative (69%)</font><br>audrey tatou has a <font color = green>knack</font> for picking roles that <font color = green>magnify</font> her outrageous charm , and in this literate french comedy , she 's as morning-glory <font color = green>exuberant</font> as she was in amélie . <br>audrey tatou has a <font color = red>transcribing</font> for picking roles that <font color = red>overwhelm</font> her outrageous charm , and in this literate french comedy , she 's as morning-glory <font color = red>interrogative</font> as she was in amélie . "
            ],
            "text/plain": [
              "<IPython.core.display.HTML object>"
            ]
          },
          "metadata": {
            "tags": []
          }
        },
        {
          "output_type": "stream",
          "text": [
            "[Succeeded / Failed / Total] 13 / 5 / 18:  72%|███████▏  | 18/25 [00:15<00:06,  1.16it/s]"
          ],
          "name": "stderr"
        },
        {
          "output_type": "display_data",
          "data": {
            "text/html": [
              "<font color = red>Negative (99%)</font> --> <font color = red>[FAILED]</font><br>... the movie is just a plain old monster . "
            ],
            "text/plain": [
              "<IPython.core.display.HTML object>"
            ]
          },
          "metadata": {
            "tags": []
          }
        },
        {
          "output_type": "stream",
          "text": [
            "[Succeeded / Failed / Total] 13 / 6 / 19:  76%|███████▌  | 19/25 [00:15<00:05,  1.20it/s]"
          ],
          "name": "stderr"
        },
        {
          "output_type": "display_data",
          "data": {
            "text/html": [
              "<font color = red>Negative (99%)</font> --> <font color = green>Positive (58%)</font><br>in its best <font color = red>moments</font> , <font color = red>resembles</font> a <font color = red>bad</font> high school production of <font color = red>grease</font> , <font color = red>without</font> benefit of song . <br>in its best <font color = green>memorable</font> , <font color = green>resembled</font> a <font color = green>good</font> high school production of <font color = green>centimeter</font> , <font color = green>any</font> benefit of song . "
            ],
            "text/plain": [
              "<IPython.core.display.HTML object>"
            ]
          },
          "metadata": {
            "tags": []
          }
        },
        {
          "output_type": "stream",
          "text": [
            "[Succeeded / Failed / Total] 14 / 6 / 20:  80%|████████  | 20/25 [00:17<00:04,  1.13it/s]"
          ],
          "name": "stderr"
        },
        {
          "output_type": "display_data",
          "data": {
            "text/html": [
              "<font color = red>Negative (63%)</font> --> <font color = green>Positive (96%)</font><br>pumpkin takes an admirable look at the hypocrisy of political correctness , but it does so with such an <font color = red>uneven</font> tone that you never know when humor ends and tragedy begins . <br>pumpkin takes an admirable look at the hypocrisy of political correctness , but it does so with such an <font color = green>astonishing</font> tone that you never know when humor ends and tragedy begins . "
            ],
            "text/plain": [
              "<IPython.core.display.HTML object>"
            ]
          },
          "metadata": {
            "tags": []
          }
        },
        {
          "output_type": "stream",
          "text": [
            "[Succeeded / Failed / Total] 15 / 6 / 21:  84%|████████▍ | 21/25 [00:18<00:03,  1.15it/s]"
          ],
          "name": "stderr"
        },
        {
          "output_type": "display_data",
          "data": {
            "text/html": [
              "<font color = red>Negative (97%)</font> --> <font color = red>[FAILED]</font><br>the iditarod lasts for days - this just felt like it did . "
            ],
            "text/plain": [
              "<IPython.core.display.HTML object>"
            ]
          },
          "metadata": {
            "tags": []
          }
        },
        {
          "output_type": "stream",
          "text": [
            "[Succeeded / Failed / Total] 15 / 7 / 22:  88%|████████▊ | 22/25 [00:18<00:02,  1.17it/s]"
          ],
          "name": "stderr"
        },
        {
          "output_type": "display_data",
          "data": {
            "text/html": [
              "<font color = red>Negative (66%)</font> --> <font color = green>Positive (58%)</font><br>holden <font color = red>caulfield</font> did it <font color = red>better</font> . <br>holden <font color = green>blumenthal</font> did it <font color = green>eret</font> . "
            ],
            "text/plain": [
              "<IPython.core.display.HTML object>"
            ]
          },
          "metadata": {
            "tags": []
          }
        },
        {
          "output_type": "stream",
          "text": [
            "[Succeeded / Failed / Total] 16 / 7 / 23:  92%|█████████▏| 23/25 [00:19<00:01,  1.21it/s]"
          ],
          "name": "stderr"
        },
        {
          "output_type": "display_data",
          "data": {
            "text/html": [
              "<font color = green>Positive (100%)</font> --> <font color = red>[FAILED]</font><br>a delectable and intriguing thriller filled with surprises , read my lips is an original . "
            ],
            "text/plain": [
              "<IPython.core.display.HTML object>"
            ]
          },
          "metadata": {
            "tags": []
          }
        },
        {
          "output_type": "stream",
          "text": [
            "[Succeeded / Failed / Total] 16 / 8 / 24:  96%|█████████▌| 24/25 [00:20<00:00,  1.19it/s]"
          ],
          "name": "stderr"
        },
        {
          "output_type": "display_data",
          "data": {
            "text/html": [
              "<font color = green>Positive (92%)</font> --> <font color = red>[FAILED]</font><br>seldom has a movie so closely matched the spirit of a man and his work . "
            ],
            "text/plain": [
              "<IPython.core.display.HTML object>"
            ]
          },
          "metadata": {
            "tags": []
          }
        },
        {
          "output_type": "stream",
          "text": [
            "[Succeeded / Failed / Total] 16 / 9 / 25: 100%|██████████| 25/25 [00:21<00:00,  1.18it/s]"
          ],
          "name": "stderr"
        },
        {
          "output_type": "stream",
          "text": [
            "+-------------------------------+--------+\n",
            "| Attack Results                |        |\n",
            "+-------------------------------+--------+\n",
            "| Number of successful attacks: | 16     |\n",
            "| Number of failed attacks:     | 9      |\n",
            "| Number of skipped attacks:    | 0      |\n",
            "| Original accuracy:            | 100.0% |\n",
            "| Accuracy under attack:        | 36.0%  |\n",
            "| Attack success rate:          | 64.0%  |\n",
            "| Average perturbed word %:     | 19.84% |\n",
            "| Average num. words per input: | 15.64  |\n",
            "| Avg num queries:              | 22.76  |\n",
            "+-------------------------------+--------+"
          ],
          "name": "stdout"
        },
        {
          "output_type": "stream",
          "text": [
            "\n",
            "\u001b[34;1mtextattack\u001b[0m: Attack time: 21.196707725524902s\n"
          ],
          "name": "stderr"
        }
      ]
    },
    {
      "cell_type": "code",
      "metadata": {
        "colab": {
          "base_uri": "https://localhost:8080/"
        },
        "id": "GKzdReqjl3GW",
        "outputId": "896332e9-317d-444a-d4bd-521bf7a07e33"
      },
      "source": [
        "from textattack.search_methods import GreedyWordSwapWIR\n",
        "from textattack.constraints.pre_transformation import RepeatModification, StopwordModification\n",
        "from textattack.shared import Attack\n",
        "from textattack.goal_functions import UntargetedClassification\n",
        "from textattack.datasets import HuggingFaceDataset\n",
        "\n",
        "# We're going to use our word swap class as the attack transformation.\n",
        "transformation = Swapper()\n",
        "\n",
        "constraints = [RepeatModification(),\n",
        "               StopwordModification()]\n",
        "\n",
        "search_method = GreedyWordSwapWIR()\n",
        "\n",
        "goal_function = UntargetedClassification(model_wrapper)\n",
        "\n",
        "# Now, let's make the attack from the 4 components:\n",
        "attack = Attack(goal_function, constraints, transformation, search_method)\n",
        "\n",
        "dataset = HuggingFaceDataset(\"glue\", \"sst2\", \"validation\") # Change the dataset"
      ],
      "execution_count": 24,
      "outputs": [
        {
          "output_type": "stream",
          "text": [
            "\u001b[34;1mtextattack\u001b[0m: Unknown if model of class <class 'transformers.models.albert.modeling_albert.AlbertForSequenceClassification'> compatible with goal function <class 'textattack.goal_functions.classification.untargeted_classification.UntargetedClassification'>.\n",
            "Reusing dataset glue (/root/.cache/huggingface/datasets/glue/sst2/1.0.0/dacbe3125aa31d7f70367a07a8a9e72a5a0bfeb5fc42e75c9db75b96da6053ad)\n",
            "\u001b[34;1mtextattack\u001b[0m: Loading \u001b[94mdatasets\u001b[0m dataset \u001b[94mglue\u001b[0m, subset \u001b[94msst2\u001b[0m, split \u001b[94mvalidation\u001b[0m.\n"
          ],
          "name": "stderr"
        }
      ]
    },
    {
      "cell_type": "code",
      "metadata": {
        "colab": {
          "base_uri": "https://localhost:8080/"
        },
        "id": "pSqav791mqYf",
        "outputId": "58f31dce-a436-4c76-c7fd-a21a9756a081"
      },
      "source": [
        "print(attack)"
      ],
      "execution_count": 25,
      "outputs": [
        {
          "output_type": "stream",
          "text": [
            "Attack(\n",
            "  (search_method): GreedyWordSwapWIR(\n",
            "    (wir_method):  unk\n",
            "  )\n",
            "  (goal_function):  UntargetedClassification\n",
            "  (transformation):  Swapper\n",
            "  (constraints): \n",
            "    (0): RepeatModification\n",
            "    (1): StopwordModification\n",
            "  (is_black_box):  True\n",
            ")\n"
          ],
          "name": "stdout"
        }
      ]
    },
    {
      "cell_type": "code",
      "metadata": {
        "colab": {
          "base_uri": "https://localhost:8080/",
          "height": 1000
        },
        "id": "7u4kS3Mjmxkf",
        "outputId": "88450edf-e264-4b3d-82d6-3a0015a56810"
      },
      "source": [
        "printexample(attack)"
      ],
      "execution_count": 26,
      "outputs": [
        {
          "output_type": "stream",
          "text": [
            "\r  0%|          | 0/25 [00:00<?, ?it/s]"
          ],
          "name": "stderr"
        },
        {
          "output_type": "stream",
          "text": [
            "Attack(\n",
            "  (search_method): GreedyWordSwapWIR(\n",
            "    (wir_method):  unk\n",
            "  )\n",
            "  (goal_function):  UntargetedClassification\n",
            "  (transformation):  Swapper\n",
            "  (constraints): \n",
            "    (0): RepeatModification\n",
            "    (1): StopwordModification\n",
            "  (is_black_box):  True\n",
            ")\n"
          ],
          "name": "stdout"
        },
        {
          "output_type": "display_data",
          "data": {
            "text/html": [
              "<font color = green>Positive (100%)</font> --> <font color = red>Negative (64%)</font><br>it 's a <font color = green>charming</font> and <font color = green>often</font> affecting journey . <br>it 's a <font color = red>harming</font> and <font color = red>sometimes</font> affecting journey . "
            ],
            "text/plain": [
              "<IPython.core.display.HTML object>"
            ]
          },
          "metadata": {
            "tags": []
          }
        },
        {
          "output_type": "stream",
          "text": [
            "[Succeeded / Failed / Total] 1 / 0 / 1:   4%|▍         | 1/25 [00:00<00:05,  4.19it/s]"
          ],
          "name": "stderr"
        },
        {
          "output_type": "display_data",
          "data": {
            "text/html": [
              "<font color = red>Negative (92%)</font> --> <font color = green>Positive (61%)</font><br><font color = red>unflinchingly</font> <font color = red>bleak</font> and <font color = red>desperate</font> <br><font color = green>stunningly</font> <font color = green>bleach</font> and <font color = green>recuperate</font> "
            ],
            "text/plain": [
              "<IPython.core.display.HTML object>"
            ]
          },
          "metadata": {
            "tags": []
          }
        },
        {
          "output_type": "stream",
          "text": [
            "[Succeeded / Failed / Total] 2 / 0 / 2:   8%|▊         | 2/25 [00:00<00:04,  4.73it/s]"
          ],
          "name": "stderr"
        },
        {
          "output_type": "display_data",
          "data": {
            "text/html": [
              "<font color = green>Positive (100%)</font> --> <font color = red>Negative (60%)</font><br>allows <font color = green>us</font> to hope that <font color = green>nolan</font> is <font color = green>poised</font> to embark a major <font color = green>career</font> as a commercial <font color = green>yet</font> <font color = green>inventive</font> filmmaker . <br>allows <font color = red>united</font> to hope that <font color = red>colan</font> is <font color = red>gassed</font> to embark a major <font color = red>retirement</font> as a commercial <font color = red>obviously</font> <font color = red>inventing</font> filmmaker . "
            ],
            "text/plain": [
              "<IPython.core.display.HTML object>"
            ]
          },
          "metadata": {
            "tags": []
          }
        },
        {
          "output_type": "stream",
          "text": [
            "[Succeeded / Failed / Total] 3 / 0 / 3:  12%|█▏        | 3/25 [00:00<00:07,  3.09it/s]"
          ],
          "name": "stderr"
        },
        {
          "output_type": "display_data",
          "data": {
            "text/html": [
              "<font color = green>Positive (99%)</font> --> <font color = red>Negative (57%)</font><br>the acting , costumes , music , cinematography and sound are all <font color = green>astounding</font> <font color = green>given</font> the production 's austere <font color = green>locales</font> . <br>the acting , costumes , music , cinematography and sound are all <font color = red>astounded</font> <font color = red>ascertained</font> the production 's austere <font color = red>locale</font> . "
            ],
            "text/plain": [
              "<IPython.core.display.HTML object>"
            ]
          },
          "metadata": {
            "tags": []
          }
        },
        {
          "output_type": "stream",
          "text": [
            "[Succeeded / Failed / Total] 4 / 0 / 4:  16%|█▌        | 4/25 [00:01<00:07,  2.98it/s]"
          ],
          "name": "stderr"
        },
        {
          "output_type": "display_data",
          "data": {
            "text/html": [
              "<font color = red>Negative (99%)</font> --> <font color = red>[FAILED]</font><br>it 's slow -- very , very slow . "
            ],
            "text/plain": [
              "<IPython.core.display.HTML object>"
            ]
          },
          "metadata": {
            "tags": []
          }
        },
        {
          "output_type": "stream",
          "text": [
            "[Succeeded / Failed / Total] 4 / 1 / 5:  20%|██        | 5/25 [00:01<00:06,  3.20it/s]"
          ],
          "name": "stderr"
        },
        {
          "output_type": "display_data",
          "data": {
            "text/html": [
              "<font color = green>Positive (100%)</font> --> <font color = red>[FAILED]</font><br>although laced with humor and a few fanciful touches , the film is a refreshingly serious look at young women . "
            ],
            "text/plain": [
              "<IPython.core.display.HTML object>"
            ]
          },
          "metadata": {
            "tags": []
          }
        },
        {
          "output_type": "stream",
          "text": [
            "[Succeeded / Failed / Total] 4 / 2 / 6:  24%|██▍       | 6/25 [00:02<00:06,  2.72it/s]"
          ],
          "name": "stderr"
        },
        {
          "output_type": "display_data",
          "data": {
            "text/html": [
              "<font color = red>Negative (95%)</font> --> <font color = green>Positive (66%)</font><br>a <font color = red>sometimes</font> <font color = red>tedious</font> film . <br>a <font color = green>often</font> <font color = green>sidious</font> film . "
            ],
            "text/plain": [
              "<IPython.core.display.HTML object>"
            ]
          },
          "metadata": {
            "tags": []
          }
        },
        {
          "output_type": "stream",
          "text": [
            "[Succeeded / Failed / Total] 5 / 2 / 7:  28%|██▊       | 7/25 [00:02<00:06,  2.93it/s]"
          ],
          "name": "stderr"
        },
        {
          "output_type": "display_data",
          "data": {
            "text/html": [
              "<font color = red>Negative (90%)</font> --> <font color = red>[FAILED]</font><br>or doing last year 's taxes with your ex-wife . "
            ],
            "text/plain": [
              "<IPython.core.display.HTML object>"
            ]
          },
          "metadata": {
            "tags": []
          }
        },
        {
          "output_type": "stream",
          "text": [
            "[Succeeded / Failed / Total] 5 / 3 / 8:  32%|███▏      | 8/25 [00:02<00:05,  2.99it/s]"
          ],
          "name": "stderr"
        },
        {
          "output_type": "display_data",
          "data": {
            "text/html": [
              "<font color = green>Positive (80%)</font> --> <font color = red>Negative (69%)</font><br>you do n't have to know about music to <font color = green>appreciate</font> the film 's <font color = green>easygoing</font> blend of comedy and romance . <br>you do n't have to know about music to <font color = red>appreciating</font> the film 's <font color = red>foregoing</font> blend of comedy and romance . "
            ],
            "text/plain": [
              "<IPython.core.display.HTML object>"
            ]
          },
          "metadata": {
            "tags": []
          }
        },
        {
          "output_type": "stream",
          "text": [
            "[Succeeded / Failed / Total] 6 / 3 / 9:  36%|███▌      | 9/25 [00:03<00:05,  2.85it/s]"
          ],
          "name": "stderr"
        },
        {
          "output_type": "display_data",
          "data": {
            "text/html": [
              "<font color = red>Negative (97%)</font> --> <font color = red>[FAILED]</font><br>in exactly 89 minutes , most of which passed as slowly as if i 'd been sitting naked on an igloo , formula 51 sank from quirky to jerky to utter turkey . "
            ],
            "text/plain": [
              "<IPython.core.display.HTML object>"
            ]
          },
          "metadata": {
            "tags": []
          }
        },
        {
          "output_type": "stream",
          "text": [
            "[Succeeded / Failed / Total] 6 / 4 / 10:  40%|████      | 10/25 [00:04<00:06,  2.43it/s]"
          ],
          "name": "stderr"
        },
        {
          "output_type": "display_data",
          "data": {
            "text/html": [
              "<font color = green>Positive (100%)</font> --> <font color = red>[FAILED]</font><br>the mesmerizing performances of the leads keep the film grounded and keep the audience riveted . "
            ],
            "text/plain": [
              "<IPython.core.display.HTML object>"
            ]
          },
          "metadata": {
            "tags": []
          }
        },
        {
          "output_type": "stream",
          "text": [
            "[Succeeded / Failed / Total] 6 / 5 / 11:  44%|████▍     | 11/25 [00:04<00:05,  2.38it/s]"
          ],
          "name": "stderr"
        },
        {
          "output_type": "display_data",
          "data": {
            "text/html": [
              "<font color = red>Negative (100%)</font> --> <font color = red>[FAILED]</font><br>it takes a strange kind of laziness to waste the talents of robert forster , anne meara , eugene levy , and reginald veljohnson all in the same movie . "
            ],
            "text/plain": [
              "<IPython.core.display.HTML object>"
            ]
          },
          "metadata": {
            "tags": []
          }
        },
        {
          "output_type": "stream",
          "text": [
            "[Succeeded / Failed / Total] 6 / 6 / 12:  48%|████▊     | 12/25 [00:05<00:05,  2.17it/s]"
          ],
          "name": "stderr"
        },
        {
          "output_type": "display_data",
          "data": {
            "text/html": [
              "<font color = red>Negative (100%)</font> --> <font color = red>[FAILED]</font><br>... the film suffers from a lack of humor ( something needed to balance out the violence ) ... "
            ],
            "text/plain": [
              "<IPython.core.display.HTML object>"
            ]
          },
          "metadata": {
            "tags": []
          }
        },
        {
          "output_type": "stream",
          "text": [
            "[Succeeded / Failed / Total] 6 / 7 / 13:  52%|█████▏    | 13/25 [00:06<00:05,  2.16it/s]"
          ],
          "name": "stderr"
        },
        {
          "output_type": "display_data",
          "data": {
            "text/html": [
              "<font color = green>Positive (72%)</font> --> <font color = red>Negative (92%)</font><br>we <font color = green>root</font> for ( clara and paul ) , even like them , though perhaps it 's an emotion closer to pity . <br>we <font color = red>adjectival</font> for ( clara and paul ) , even like them , though perhaps it 's an emotion closer to pity . "
            ],
            "text/plain": [
              "<IPython.core.display.HTML object>"
            ]
          },
          "metadata": {
            "tags": []
          }
        },
        {
          "output_type": "stream",
          "text": [
            "[Succeeded / Failed / Total] 7 / 7 / 14:  56%|█████▌    | 14/25 [00:06<00:05,  2.19it/s]"
          ],
          "name": "stderr"
        },
        {
          "output_type": "display_data",
          "data": {
            "text/html": [
              "<font color = red>Negative (100%)</font> --> <font color = red>[FAILED]</font><br>even horror fans will most likely not find what they 're seeking with trouble every day ; the movie lacks both thrills and humor . "
            ],
            "text/plain": [
              "<IPython.core.display.HTML object>"
            ]
          },
          "metadata": {
            "tags": []
          }
        },
        {
          "output_type": "stream",
          "text": [
            "[Succeeded / Failed / Total] 7 / 8 / 15:  60%|██████    | 15/25 [00:07<00:04,  2.10it/s]"
          ],
          "name": "stderr"
        },
        {
          "output_type": "display_data",
          "data": {
            "text/html": [
              "<font color = green>Positive (100%)</font> --> <font color = red>[FAILED]</font><br>a gorgeous , high-spirited musical from india that exquisitely blends music , dance , song , and high drama . "
            ],
            "text/plain": [
              "<IPython.core.display.HTML object>"
            ]
          },
          "metadata": {
            "tags": []
          }
        },
        {
          "output_type": "stream",
          "text": [
            "[Succeeded / Failed / Total] 7 / 9 / 16:  64%|██████▍   | 16/25 [00:07<00:04,  2.07it/s]"
          ],
          "name": "stderr"
        },
        {
          "output_type": "display_data",
          "data": {
            "text/html": [
              "<font color = green>Positive (98%)</font> --> <font color = red>Negative (54%)</font><br>the emotions are <font color = green>raw</font> and will strike a nerve with anyone who 's ever had family trauma . <br>the emotions are <font color = red>grain</font> and will strike a nerve with anyone who 's ever had family trauma . "
            ],
            "text/plain": [
              "<IPython.core.display.HTML object>"
            ]
          },
          "metadata": {
            "tags": []
          }
        },
        {
          "output_type": "stream",
          "text": [
            "[Succeeded / Failed / Total] 8 / 9 / 17:  68%|██████▊   | 17/25 [00:08<00:03,  2.11it/s]"
          ],
          "name": "stderr"
        },
        {
          "output_type": "display_data",
          "data": {
            "text/html": [
              "<font color = green>Positive (100%)</font> --> <font color = red>[FAILED]</font><br>audrey tatou has a knack for picking roles that magnify her outrageous charm , and in this literate french comedy , she 's as morning-glory exuberant as she was in amélie . "
            ],
            "text/plain": [
              "<IPython.core.display.HTML object>"
            ]
          },
          "metadata": {
            "tags": []
          }
        },
        {
          "output_type": "stream",
          "text": [
            "[Succeeded / Failed / Total] 8 / 10 / 18:  72%|███████▏  | 18/25 [00:08<00:03,  2.01it/s]"
          ],
          "name": "stderr"
        },
        {
          "output_type": "display_data",
          "data": {
            "text/html": [
              "<font color = red>Negative (99%)</font> --> <font color = red>[FAILED]</font><br>... the movie is just a plain old monster . "
            ],
            "text/plain": [
              "<IPython.core.display.HTML object>"
            ]
          },
          "metadata": {
            "tags": []
          }
        },
        {
          "output_type": "stream",
          "text": [
            "[Succeeded / Failed / Total] 8 / 11 / 19:  76%|███████▌  | 19/25 [00:09<00:02,  2.06it/s]"
          ],
          "name": "stderr"
        },
        {
          "output_type": "display_data",
          "data": {
            "text/html": [
              "<font color = red>Negative (99%)</font> --> <font color = green>Positive (81%)</font><br>in its best moments , resembles a <font color = red>bad</font> high school production of <font color = red>grease</font> , <font color = red>without</font> <font color = red>benefit</font> of song . <br>in its best moments , resembles a <font color = green>good</font> high school production of <font color = green>crease</font> , <font color = green>any</font> <font color = green>beneficiaries</font> of song . "
            ],
            "text/plain": [
              "<IPython.core.display.HTML object>"
            ]
          },
          "metadata": {
            "tags": []
          }
        },
        {
          "output_type": "stream",
          "text": [
            "[Succeeded / Failed / Total] 9 / 11 / 20:  80%|████████  | 20/25 [00:09<00:02,  2.07it/s]"
          ],
          "name": "stderr"
        },
        {
          "output_type": "display_data",
          "data": {
            "text/html": [
              "<font color = red>Negative (63%)</font> --> <font color = green>Positive (55%)</font><br>pumpkin takes an admirable look at the hypocrisy of political correctness , but it does so with such an <font color = red>uneven</font> tone that you never know when humor ends and tragedy begins . <br>pumpkin takes an admirable look at the hypocrisy of political correctness , but it does so with such an <font color = green>unheated</font> tone that you never know when humor ends and tragedy begins . "
            ],
            "text/plain": [
              "<IPython.core.display.HTML object>"
            ]
          },
          "metadata": {
            "tags": []
          }
        },
        {
          "output_type": "stream",
          "text": [
            "[Succeeded / Failed / Total] 10 / 11 / 21:  84%|████████▍ | 21/25 [00:10<00:01,  2.05it/s]"
          ],
          "name": "stderr"
        },
        {
          "output_type": "display_data",
          "data": {
            "text/html": [
              "<font color = red>Negative (97%)</font> --> <font color = red>[FAILED]</font><br>the iditarod lasts for days - this just felt like it did . "
            ],
            "text/plain": [
              "<IPython.core.display.HTML object>"
            ]
          },
          "metadata": {
            "tags": []
          }
        },
        {
          "output_type": "stream",
          "text": [
            "[Succeeded / Failed / Total] 10 / 12 / 22:  88%|████████▊ | 22/25 [00:10<00:01,  2.08it/s]"
          ],
          "name": "stderr"
        },
        {
          "output_type": "display_data",
          "data": {
            "text/html": [
              "<font color = red>Negative (66%)</font> --> <font color = red>[FAILED]</font><br>holden caulfield did it better . "
            ],
            "text/plain": [
              "<IPython.core.display.HTML object>"
            ]
          },
          "metadata": {
            "tags": []
          }
        },
        {
          "output_type": "stream",
          "text": [
            "[Succeeded / Failed / Total] 10 / 13 / 23:  92%|█████████▏| 23/25 [00:10<00:00,  2.13it/s]"
          ],
          "name": "stderr"
        },
        {
          "output_type": "display_data",
          "data": {
            "text/html": [
              "<font color = green>Positive (100%)</font> --> <font color = red>[FAILED]</font><br>a delectable and intriguing thriller filled with surprises , read my lips is an original . "
            ],
            "text/plain": [
              "<IPython.core.display.HTML object>"
            ]
          },
          "metadata": {
            "tags": []
          }
        },
        {
          "output_type": "stream",
          "text": [
            "[Succeeded / Failed / Total] 10 / 14 / 24:  96%|█████████▌| 24/25 [00:11<00:00,  2.13it/s]"
          ],
          "name": "stderr"
        },
        {
          "output_type": "display_data",
          "data": {
            "text/html": [
              "<font color = green>Positive (92%)</font> --> <font color = red>Negative (73%)</font><br>seldom has a movie so <font color = green>closely</font> matched the spirit of a man and his work . <br>seldom has a movie so <font color = red>loosely</font> matched the spirit of a man and his work . "
            ],
            "text/plain": [
              "<IPython.core.display.HTML object>"
            ]
          },
          "metadata": {
            "tags": []
          }
        },
        {
          "output_type": "stream",
          "text": [
            "[Succeeded / Failed / Total] 11 / 14 / 25: 100%|██████████| 25/25 [00:11<00:00,  2.16it/s]"
          ],
          "name": "stderr"
        },
        {
          "output_type": "stream",
          "text": [
            "+-------------------------------+--------+\n",
            "| Attack Results                |        |\n",
            "+-------------------------------+--------+\n",
            "| Number of successful attacks: | 11     |\n",
            "| Number of failed attacks:     | 14     |\n",
            "| Number of skipped attacks:    | 0      |\n",
            "| Original accuracy:            | 100.0% |\n",
            "| Accuracy under attack:        | 56.0%  |\n",
            "| Attack success rate:          | 44.0%  |\n",
            "| Average perturbed word %:     | 23.39% |\n",
            "| Average num. words per input: | 15.64  |\n",
            "| Avg num queries:              | 22.96  |\n",
            "+-------------------------------+--------+"
          ],
          "name": "stdout"
        },
        {
          "output_type": "stream",
          "text": [
            "\n",
            "\u001b[34;1mtextattack\u001b[0m: Attack time: 11.604121685028076s\n"
          ],
          "name": "stderr"
        }
      ]
    },
    {
      "cell_type": "code",
      "metadata": {
        "colab": {
          "base_uri": "https://localhost:8080/"
        },
        "id": "DLok3tKPm08j",
        "outputId": "57afc082-63c2-43bd-ec0a-440e6555cd9d"
      },
      "source": [
        "from textattack.search_methods import GreedyWordSwapWIR\n",
        "from textattack.constraints.pre_transformation import RepeatModification, StopwordModification\n",
        "from textattack.shared import Attack\n",
        "from textattack.goal_functions import UntargetedClassification\n",
        "from textattack.datasets import HuggingFaceDataset\n",
        "\n",
        "# We're going to use our word swap class as the attack transformation.\n",
        "transformation = Swapper_()\n",
        "\n",
        "constraints = [RepeatModification(),\n",
        "               StopwordModification()]\n",
        "\n",
        "search_method = GreedyWordSwapWIR()\n",
        "\n",
        "goal_function = UntargetedClassification(model_wrapper)\n",
        "\n",
        "# Now, let's make the attack from the 4 components:\n",
        "attack = Attack(goal_function, constraints, transformation, search_method)\n",
        "\n",
        "dataset = HuggingFaceDataset(\"glue\", \"sst2\", \"validation\") # Change the dataset"
      ],
      "execution_count": 27,
      "outputs": [
        {
          "output_type": "stream",
          "text": [
            "\u001b[34;1mtextattack\u001b[0m: Unknown if model of class <class 'transformers.models.albert.modeling_albert.AlbertForSequenceClassification'> compatible with goal function <class 'textattack.goal_functions.classification.untargeted_classification.UntargetedClassification'>.\n",
            "Reusing dataset glue (/root/.cache/huggingface/datasets/glue/sst2/1.0.0/dacbe3125aa31d7f70367a07a8a9e72a5a0bfeb5fc42e75c9db75b96da6053ad)\n",
            "\u001b[34;1mtextattack\u001b[0m: Loading \u001b[94mdatasets\u001b[0m dataset \u001b[94mglue\u001b[0m, subset \u001b[94msst2\u001b[0m, split \u001b[94mvalidation\u001b[0m.\n"
          ],
          "name": "stderr"
        }
      ]
    },
    {
      "cell_type": "code",
      "metadata": {
        "colab": {
          "base_uri": "https://localhost:8080/"
        },
        "id": "c8G-gxlXm-At",
        "outputId": "6fbf151c-db36-4793-993d-8965e5358968"
      },
      "source": [
        "print(attack)"
      ],
      "execution_count": 28,
      "outputs": [
        {
          "output_type": "stream",
          "text": [
            "Attack(\n",
            "  (search_method): GreedyWordSwapWIR(\n",
            "    (wir_method):  unk\n",
            "  )\n",
            "  (goal_function):  UntargetedClassification\n",
            "  (transformation):  Swapper_\n",
            "  (constraints): \n",
            "    (0): RepeatModification\n",
            "    (1): StopwordModification\n",
            "  (is_black_box):  True\n",
            ")\n"
          ],
          "name": "stdout"
        }
      ]
    },
    {
      "cell_type": "code",
      "metadata": {
        "colab": {
          "base_uri": "https://localhost:8080/",
          "height": 1000
        },
        "id": "FgHOKJd7m_Wm",
        "outputId": "1c8aebd3-f325-4fd7-979e-77edeef15810"
      },
      "source": [
        "printexample(attack)"
      ],
      "execution_count": 29,
      "outputs": [
        {
          "output_type": "stream",
          "text": [
            "\r  0%|          | 0/25 [00:00<?, ?it/s]"
          ],
          "name": "stderr"
        },
        {
          "output_type": "stream",
          "text": [
            "Attack(\n",
            "  (search_method): GreedyWordSwapWIR(\n",
            "    (wir_method):  unk\n",
            "  )\n",
            "  (goal_function):  UntargetedClassification\n",
            "  (transformation):  Swapper_\n",
            "  (constraints): \n",
            "    (0): RepeatModification\n",
            "    (1): StopwordModification\n",
            "  (is_black_box):  True\n",
            ")\n"
          ],
          "name": "stdout"
        },
        {
          "output_type": "display_data",
          "data": {
            "text/html": [
              "<font color = green>Positive (100%)</font> --> <font color = red>Negative (97%)</font><br>it 's a <font color = green>charming</font> and often <font color = green>affecting</font> journey . <br>it 's a <font color = red>laconic</font> and often <font color = red>wasting</font> journey . "
            ],
            "text/plain": [
              "<IPython.core.display.HTML object>"
            ]
          },
          "metadata": {
            "tags": []
          }
        },
        {
          "output_type": "stream",
          "text": [
            "[Succeeded / Failed / Total] 1 / 0 / 1:   4%|▍         | 1/25 [00:00<00:05,  4.44it/s]"
          ],
          "name": "stderr"
        },
        {
          "output_type": "display_data",
          "data": {
            "text/html": [
              "<font color = red>Negative (92%)</font> --> <font color = red>[FAILED]</font><br>unflinchingly bleak and desperate "
            ],
            "text/plain": [
              "<IPython.core.display.HTML object>"
            ]
          },
          "metadata": {
            "tags": []
          }
        },
        {
          "output_type": "stream",
          "text": [
            "[Succeeded / Failed / Total] 1 / 1 / 2:   8%|▊         | 2/25 [00:00<00:04,  5.23it/s]"
          ],
          "name": "stderr"
        },
        {
          "output_type": "display_data",
          "data": {
            "text/html": [
              "<font color = green>Positive (100%)</font> --> <font color = red>[FAILED]</font><br>allows us to hope that nolan is poised to embark a major career as a commercial yet inventive filmmaker . "
            ],
            "text/plain": [
              "<IPython.core.display.HTML object>"
            ]
          },
          "metadata": {
            "tags": []
          }
        },
        {
          "output_type": "stream",
          "text": [
            "[Succeeded / Failed / Total] 1 / 2 / 3:  12%|█▏        | 3/25 [00:01<00:07,  2.90it/s]"
          ],
          "name": "stderr"
        },
        {
          "output_type": "display_data",
          "data": {
            "text/html": [
              "<font color = green>Positive (99%)</font> --> <font color = red>Negative (55%)</font><br>the acting , <font color = green>costumes</font> , music , <font color = green>cinematography</font> and <font color = green>sound</font> are all astounding <font color = green>given</font> the production 's austere <font color = green>locales</font> . <br>the acting , <font color = red>outfits</font> , music , <font color = red>cine</font> and <font color = red>percussive</font> are all astounding <font color = red>assigning</font> the production 's austere <font color = red>idiosyncrasies</font> . "
            ],
            "text/plain": [
              "<IPython.core.display.HTML object>"
            ]
          },
          "metadata": {
            "tags": []
          }
        },
        {
          "output_type": "stream",
          "text": [
            "[Succeeded / Failed / Total] 2 / 2 / 4:  16%|█▌        | 4/25 [00:01<00:08,  2.60it/s]"
          ],
          "name": "stderr"
        },
        {
          "output_type": "display_data",
          "data": {
            "text/html": [
              "<font color = red>Negative (99%)</font> --> <font color = red>[FAILED]</font><br>it 's slow -- very , very slow . "
            ],
            "text/plain": [
              "<IPython.core.display.HTML object>"
            ]
          },
          "metadata": {
            "tags": []
          }
        },
        {
          "output_type": "stream",
          "text": [
            "[Succeeded / Failed / Total] 2 / 3 / 5:  20%|██        | 5/25 [00:01<00:06,  2.92it/s]"
          ],
          "name": "stderr"
        },
        {
          "output_type": "display_data",
          "data": {
            "text/html": [
              "<font color = green>Positive (100%)</font> --> <font color = red>[FAILED]</font><br>although laced with humor and a few fanciful touches , the film is a refreshingly serious look at young women . "
            ],
            "text/plain": [
              "<IPython.core.display.HTML object>"
            ]
          },
          "metadata": {
            "tags": []
          }
        },
        {
          "output_type": "stream",
          "text": [
            "[Succeeded / Failed / Total] 2 / 4 / 6:  24%|██▍       | 6/25 [00:02<00:07,  2.61it/s]"
          ],
          "name": "stderr"
        },
        {
          "output_type": "display_data",
          "data": {
            "text/html": [
              "<font color = red>Negative (95%)</font> --> <font color = red>[FAILED]</font><br>a sometimes tedious film . "
            ],
            "text/plain": [
              "<IPython.core.display.HTML object>"
            ]
          },
          "metadata": {
            "tags": []
          }
        },
        {
          "output_type": "stream",
          "text": [
            "[Succeeded / Failed / Total] 2 / 5 / 7:  28%|██▊       | 7/25 [00:02<00:06,  2.81it/s]"
          ],
          "name": "stderr"
        },
        {
          "output_type": "display_data",
          "data": {
            "text/html": [
              "<font color = red>Negative (90%)</font> --> <font color = red>[FAILED]</font><br>or doing last year 's taxes with your ex-wife . "
            ],
            "text/plain": [
              "<IPython.core.display.HTML object>"
            ]
          },
          "metadata": {
            "tags": []
          }
        },
        {
          "output_type": "stream",
          "text": [
            "[Succeeded / Failed / Total] 2 / 6 / 8:  32%|███▏      | 8/25 [00:02<00:05,  2.91it/s]"
          ],
          "name": "stderr"
        },
        {
          "output_type": "display_data",
          "data": {
            "text/html": [
              "<font color = green>Positive (80%)</font> --> <font color = red>Negative (77%)</font><br>you do n't have to know about music to <font color = green>appreciate</font> the film 's easygoing blend of <font color = green>comedy</font> and romance . <br>you do n't have to know about music to <font color = red>undo</font> the film 's easygoing blend of <font color = red>drama</font> and romance . "
            ],
            "text/plain": [
              "<IPython.core.display.HTML object>"
            ]
          },
          "metadata": {
            "tags": []
          }
        },
        {
          "output_type": "stream",
          "text": [
            "[Succeeded / Failed / Total] 3 / 6 / 9:  36%|███▌      | 9/25 [00:03<00:05,  2.82it/s]"
          ],
          "name": "stderr"
        },
        {
          "output_type": "display_data",
          "data": {
            "text/html": [
              "<font color = red>Negative (97%)</font> --> <font color = red>[FAILED]</font><br>in exactly 89 minutes , most of which passed as slowly as if i 'd been sitting naked on an igloo , formula 51 sank from quirky to jerky to utter turkey . "
            ],
            "text/plain": [
              "<IPython.core.display.HTML object>"
            ]
          },
          "metadata": {
            "tags": []
          }
        },
        {
          "output_type": "stream",
          "text": [
            "[Succeeded / Failed / Total] 3 / 7 / 10:  40%|████      | 10/25 [00:04<00:06,  2.47it/s]"
          ],
          "name": "stderr"
        },
        {
          "output_type": "display_data",
          "data": {
            "text/html": [
              "<font color = green>Positive (100%)</font> --> <font color = red>[FAILED]</font><br>the mesmerizing performances of the leads keep the film grounded and keep the audience riveted . "
            ],
            "text/plain": [
              "<IPython.core.display.HTML object>"
            ]
          },
          "metadata": {
            "tags": []
          }
        },
        {
          "output_type": "stream",
          "text": [
            "[Succeeded / Failed / Total] 3 / 8 / 11:  44%|████▍     | 11/25 [00:04<00:05,  2.43it/s]"
          ],
          "name": "stderr"
        },
        {
          "output_type": "display_data",
          "data": {
            "text/html": [
              "<font color = red>Negative (100%)</font> --> <font color = green>Positive (60%)</font><br>it takes a strange kind of <font color = red>laziness</font> to <font color = red>waste</font> the talents of robert forster , anne meara , eugene levy , and reginald veljohnson all in the same movie . <br>it takes a strange kind of <font color = green>shadowing</font> to <font color = green>potable</font> the talents of robert forster , anne meara , eugene levy , and reginald veljohnson all in the same movie . "
            ],
            "text/plain": [
              "<IPython.core.display.HTML object>"
            ]
          },
          "metadata": {
            "tags": []
          }
        },
        {
          "output_type": "stream",
          "text": [
            "[Succeeded / Failed / Total] 4 / 8 / 12:  48%|████▊     | 12/25 [00:05<00:05,  2.37it/s]"
          ],
          "name": "stderr"
        },
        {
          "output_type": "display_data",
          "data": {
            "text/html": [
              "<font color = red>Negative (100%)</font> --> <font color = red>[FAILED]</font><br>... the film suffers from a lack of humor ( something needed to balance out the violence ) ... "
            ],
            "text/plain": [
              "<IPython.core.display.HTML object>"
            ]
          },
          "metadata": {
            "tags": []
          }
        },
        {
          "output_type": "stream",
          "text": [
            "[Succeeded / Failed / Total] 4 / 9 / 13:  52%|█████▏    | 13/25 [00:05<00:05,  2.34it/s]"
          ],
          "name": "stderr"
        },
        {
          "output_type": "display_data",
          "data": {
            "text/html": [
              "<font color = green>Positive (72%)</font> --> <font color = red>Negative (69%)</font><br>we <font color = green>root</font> for ( clara and paul ) , even like them , though perhaps it 's an emotion closer to pity . <br>we <font color = red>untie</font> for ( clara and paul ) , even like them , though perhaps it 's an emotion closer to pity . "
            ],
            "text/plain": [
              "<IPython.core.display.HTML object>"
            ]
          },
          "metadata": {
            "tags": []
          }
        },
        {
          "output_type": "stream",
          "text": [
            "[Succeeded / Failed / Total] 5 / 9 / 14:  56%|█████▌    | 14/25 [00:05<00:04,  2.37it/s]"
          ],
          "name": "stderr"
        },
        {
          "output_type": "display_data",
          "data": {
            "text/html": [
              "<font color = red>Negative (100%)</font> --> <font color = green>Positive (98%)</font><br>even horror fans will most likely not find what they 're seeking with trouble every day ; the movie <font color = red>lacks</font> both thrills and humor . <br>even horror fans will most likely not find what they 're seeking with trouble every day ; the movie <font color = green>renders</font> both thrills and humor . "
            ],
            "text/plain": [
              "<IPython.core.display.HTML object>"
            ]
          },
          "metadata": {
            "tags": []
          }
        },
        {
          "output_type": "stream",
          "text": [
            "[Succeeded / Failed / Total] 6 / 9 / 15:  60%|██████    | 15/25 [00:06<00:04,  2.36it/s]"
          ],
          "name": "stderr"
        },
        {
          "output_type": "display_data",
          "data": {
            "text/html": [
              "<font color = green>Positive (100%)</font> --> <font color = red>[FAILED]</font><br>a gorgeous , high-spirited musical from india that exquisitely blends music , dance , song , and high drama . "
            ],
            "text/plain": [
              "<IPython.core.display.HTML object>"
            ]
          },
          "metadata": {
            "tags": []
          }
        },
        {
          "output_type": "stream",
          "text": [
            "[Succeeded / Failed / Total] 6 / 10 / 16:  64%|██████▍   | 16/25 [00:06<00:03,  2.33it/s]"
          ],
          "name": "stderr"
        },
        {
          "output_type": "display_data",
          "data": {
            "text/html": [
              "<font color = green>Positive (98%)</font> --> <font color = red>Negative (66%)</font><br>the <font color = green>emotions</font> are <font color = green>raw</font> and will <font color = green>strike</font> a <font color = green>nerve</font> with anyone who 's ever had <font color = green>family</font> trauma . <br>the <font color = red>emotion</font> are <font color = red>perishable</font> and will <font color = red>downed</font> a <font color = red>axon</font> with anyone who 's ever had <font color = red>families</font> trauma . "
            ],
            "text/plain": [
              "<IPython.core.display.HTML object>"
            ]
          },
          "metadata": {
            "tags": []
          }
        },
        {
          "output_type": "stream",
          "text": [
            "[Succeeded / Failed / Total] 7 / 10 / 17:  68%|██████▊   | 17/25 [00:07<00:03,  2.32it/s]"
          ],
          "name": "stderr"
        },
        {
          "output_type": "display_data",
          "data": {
            "text/html": [
              "<font color = green>Positive (100%)</font> --> <font color = red>[FAILED]</font><br>audrey tatou has a knack for picking roles that magnify her outrageous charm , and in this literate french comedy , she 's as morning-glory exuberant as she was in amélie . "
            ],
            "text/plain": [
              "<IPython.core.display.HTML object>"
            ]
          },
          "metadata": {
            "tags": []
          }
        },
        {
          "output_type": "stream",
          "text": [
            "[Succeeded / Failed / Total] 7 / 11 / 18:  72%|███████▏  | 18/25 [00:08<00:03,  2.21it/s]"
          ],
          "name": "stderr"
        },
        {
          "output_type": "display_data",
          "data": {
            "text/html": [
              "<font color = red>Negative (99%)</font> --> <font color = green>Positive (56%)</font><br>... the <font color = red>movie</font> is just a <font color = red>plain</font> <font color = red>old</font> <font color = red>monster</font> . <br>... the <font color = green>film</font> is just a <font color = green>gangetic</font> <font color = green>harrow</font> <font color = green>ness</font> . "
            ],
            "text/plain": [
              "<IPython.core.display.HTML object>"
            ]
          },
          "metadata": {
            "tags": []
          }
        },
        {
          "output_type": "stream",
          "text": [
            "[Succeeded / Failed / Total] 8 / 11 / 19:  76%|███████▌  | 19/25 [00:08<00:02,  2.26it/s]"
          ],
          "name": "stderr"
        },
        {
          "output_type": "display_data",
          "data": {
            "text/html": [
              "<font color = red>Negative (99%)</font> --> <font color = green>Positive (58%)</font><br>in its best moments , resembles a <font color = red>bad</font> high school production of <font color = red>grease</font> , without <font color = red>benefit</font> of song . <br>in its best moments , resembles a <font color = green>good</font> high school production of <font color = green>leaded</font> , without <font color = green>accrue</font> of song . "
            ],
            "text/plain": [
              "<IPython.core.display.HTML object>"
            ]
          },
          "metadata": {
            "tags": []
          }
        },
        {
          "output_type": "stream",
          "text": [
            "[Succeeded / Failed / Total] 9 / 11 / 20:  80%|████████  | 20/25 [00:08<00:02,  2.26it/s]"
          ],
          "name": "stderr"
        },
        {
          "output_type": "display_data",
          "data": {
            "text/html": [
              "<font color = red>Negative (63%)</font> --> <font color = green>Positive (93%)</font><br>pumpkin takes an admirable look at the hypocrisy of political correctness , but it does so with such an <font color = red>uneven</font> tone that you never know when humor ends and tragedy begins . <br>pumpkin takes an admirable look at the hypocrisy of political correctness , but it does so with such an <font color = green>precipitous</font> tone that you never know when humor ends and tragedy begins . "
            ],
            "text/plain": [
              "<IPython.core.display.HTML object>"
            ]
          },
          "metadata": {
            "tags": []
          }
        },
        {
          "output_type": "stream",
          "text": [
            "[Succeeded / Failed / Total] 10 / 11 / 21:  84%|████████▍ | 21/25 [00:09<00:01,  2.23it/s]"
          ],
          "name": "stderr"
        },
        {
          "output_type": "display_data",
          "data": {
            "text/html": [
              "<font color = red>Negative (97%)</font> --> <font color = red>[FAILED]</font><br>the iditarod lasts for days - this just felt like it did . "
            ],
            "text/plain": [
              "<IPython.core.display.HTML object>"
            ]
          },
          "metadata": {
            "tags": []
          }
        },
        {
          "output_type": "stream",
          "text": [
            "[Succeeded / Failed / Total] 10 / 12 / 22:  88%|████████▊ | 22/25 [00:09<00:01,  2.25it/s]"
          ],
          "name": "stderr"
        },
        {
          "output_type": "display_data",
          "data": {
            "text/html": [
              "<font color = red>Negative (66%)</font> --> <font color = red>[FAILED]</font><br>holden caulfield did it better . "
            ],
            "text/plain": [
              "<IPython.core.display.HTML object>"
            ]
          },
          "metadata": {
            "tags": []
          }
        },
        {
          "output_type": "stream",
          "text": [
            "[Succeeded / Failed / Total] 10 / 13 / 23:  92%|█████████▏| 23/25 [00:09<00:00,  2.31it/s]"
          ],
          "name": "stderr"
        },
        {
          "output_type": "display_data",
          "data": {
            "text/html": [
              "<font color = green>Positive (100%)</font> --> <font color = red>[FAILED]</font><br>a delectable and intriguing thriller filled with surprises , read my lips is an original . "
            ],
            "text/plain": [
              "<IPython.core.display.HTML object>"
            ]
          },
          "metadata": {
            "tags": []
          }
        },
        {
          "output_type": "stream",
          "text": [
            "[Succeeded / Failed / Total] 10 / 14 / 24:  96%|█████████▌| 24/25 [00:10<00:00,  2.31it/s]"
          ],
          "name": "stderr"
        },
        {
          "output_type": "display_data",
          "data": {
            "text/html": [
              "<font color = green>Positive (92%)</font> --> <font color = red>Negative (58%)</font><br>seldom has a movie so closely matched the <font color = green>spirit</font> of a <font color = green>man</font> and his <font color = green>work</font> . <br>seldom has a movie so closely matched the <font color = red>incarnate</font> of a <font color = red>girl</font> and his <font color = red>aphorism</font> . "
            ],
            "text/plain": [
              "<IPython.core.display.HTML object>"
            ]
          },
          "metadata": {
            "tags": []
          }
        },
        {
          "output_type": "stream",
          "text": [
            "[Succeeded / Failed / Total] 11 / 14 / 25: 100%|██████████| 25/25 [00:10<00:00,  2.31it/s]"
          ],
          "name": "stderr"
        },
        {
          "output_type": "stream",
          "text": [
            "+-------------------------------+--------+\n",
            "| Attack Results                |        |\n",
            "+-------------------------------+--------+\n",
            "| Number of successful attacks: | 11     |\n",
            "| Number of failed attacks:     | 14     |\n",
            "| Number of skipped attacks:    | 0      |\n",
            "| Original accuracy:            | 100.0% |\n",
            "| Accuracy under attack:        | 56.0%  |\n",
            "| Attack success rate:          | 44.0%  |\n",
            "| Average perturbed word %:     | 18.72% |\n",
            "| Average num. words per input: | 15.64  |\n",
            "| Avg num queries:              | 21.92  |\n",
            "+-------------------------------+--------+"
          ],
          "name": "stdout"
        },
        {
          "output_type": "stream",
          "text": [
            "\n",
            "\u001b[34;1mtextattack\u001b[0m: Attack time: 10.8262460231781s\n"
          ],
          "name": "stderr"
        }
      ]
    },
    {
      "cell_type": "code",
      "metadata": {
        "colab": {
          "base_uri": "https://localhost:8080/"
        },
        "id": "STAeDRN6Obr_",
        "outputId": "41386fea-24c0-4916-812c-8b88cdb0f433"
      },
      "source": [
        "from textattack.search_methods import GreedyWordSwapWIR\n",
        "from textattack.constraints.pre_transformation import RepeatModification, StopwordModification\n",
        "from textattack.shared import Attack\n",
        "from textattack.goal_functions import UntargetedClassification\n",
        "from textattack.datasets import HuggingFaceDataset\n",
        "\n",
        "# We're going to use our word swap class as the attack transformation.\n",
        "transformation = Swapper__()\n",
        "\n",
        "constraints = [RepeatModification(),\n",
        "               StopwordModification()]\n",
        "\n",
        "search_method = GreedyWordSwapWIR()\n",
        "\n",
        "goal_function = UntargetedClassification(model_wrapper)\n",
        "\n",
        "# Now, let's make the attack from the 4 components:\n",
        "attack = Attack(goal_function, constraints, transformation, search_method)\n",
        "\n",
        "dataset = HuggingFaceDataset(\"glue\", \"sst2\", \"validation\") # Change the dataset"
      ],
      "execution_count": 30,
      "outputs": [
        {
          "output_type": "stream",
          "text": [
            "\u001b[34;1mtextattack\u001b[0m: Unknown if model of class <class 'transformers.models.albert.modeling_albert.AlbertForSequenceClassification'> compatible with goal function <class 'textattack.goal_functions.classification.untargeted_classification.UntargetedClassification'>.\n",
            "Reusing dataset glue (/root/.cache/huggingface/datasets/glue/sst2/1.0.0/dacbe3125aa31d7f70367a07a8a9e72a5a0bfeb5fc42e75c9db75b96da6053ad)\n",
            "\u001b[34;1mtextattack\u001b[0m: Loading \u001b[94mdatasets\u001b[0m dataset \u001b[94mglue\u001b[0m, subset \u001b[94msst2\u001b[0m, split \u001b[94mvalidation\u001b[0m.\n"
          ],
          "name": "stderr"
        }
      ]
    },
    {
      "cell_type": "code",
      "metadata": {
        "colab": {
          "base_uri": "https://localhost:8080/"
        },
        "id": "gQ_bQqzYO2Zb",
        "outputId": "61d05e1b-ccb0-4a5d-8970-0353677a01f9"
      },
      "source": [
        "print(attack)"
      ],
      "execution_count": 31,
      "outputs": [
        {
          "output_type": "stream",
          "text": [
            "Attack(\n",
            "  (search_method): GreedyWordSwapWIR(\n",
            "    (wir_method):  unk\n",
            "  )\n",
            "  (goal_function):  UntargetedClassification\n",
            "  (transformation):  Swapper__\n",
            "  (constraints): \n",
            "    (0): RepeatModification\n",
            "    (1): StopwordModification\n",
            "  (is_black_box):  True\n",
            ")\n"
          ],
          "name": "stdout"
        }
      ]
    },
    {
      "cell_type": "code",
      "metadata": {
        "colab": {
          "base_uri": "https://localhost:8080/",
          "height": 1000
        },
        "id": "B7aWCrzTO4xp",
        "outputId": "b53d4982-d180-445f-b643-7128ec5f00f8"
      },
      "source": [
        "printexample(attack)"
      ],
      "execution_count": 32,
      "outputs": [
        {
          "output_type": "stream",
          "text": [
            "\r  0%|          | 0/25 [00:00<?, ?it/s]"
          ],
          "name": "stderr"
        },
        {
          "output_type": "stream",
          "text": [
            "Attack(\n",
            "  (search_method): GreedyWordSwapWIR(\n",
            "    (wir_method):  unk\n",
            "  )\n",
            "  (goal_function):  UntargetedClassification\n",
            "  (transformation):  Swapper__\n",
            "  (constraints): \n",
            "    (0): RepeatModification\n",
            "    (1): StopwordModification\n",
            "  (is_black_box):  True\n",
            ")\n"
          ],
          "name": "stdout"
        },
        {
          "output_type": "display_data",
          "data": {
            "text/html": [
              "<font color = green>Positive (100%)</font> --> <font color = red>Negative (99%)</font><br>it 's a <font color = green>charming</font> and often <font color = green>affecting</font> journey . <br>it 's a <font color = red>pedantic</font> and often <font color = red>destructive</font> journey . "
            ],
            "text/plain": [
              "<IPython.core.display.HTML object>"
            ]
          },
          "metadata": {
            "tags": []
          }
        },
        {
          "output_type": "stream",
          "text": [
            "[Succeeded / Failed / Total] 1 / 0 / 1:   4%|▍         | 1/25 [00:00<00:06,  3.75it/s]"
          ],
          "name": "stderr"
        },
        {
          "output_type": "display_data",
          "data": {
            "text/html": [
              "<font color = red>Negative (92%)</font> --> <font color = red>[FAILED]</font><br>unflinchingly bleak and desperate "
            ],
            "text/plain": [
              "<IPython.core.display.HTML object>"
            ]
          },
          "metadata": {
            "tags": []
          }
        },
        {
          "output_type": "stream",
          "text": [
            "[Succeeded / Failed / Total] 1 / 1 / 2:   8%|▊         | 2/25 [00:00<00:05,  4.12it/s]"
          ],
          "name": "stderr"
        },
        {
          "output_type": "display_data",
          "data": {
            "text/html": [
              "<font color = green>Positive (100%)</font> --> <font color = red>[FAILED]</font><br>allows us to hope that nolan is poised to embark a major career as a commercial yet inventive filmmaker . "
            ],
            "text/plain": [
              "<IPython.core.display.HTML object>"
            ]
          },
          "metadata": {
            "tags": []
          }
        },
        {
          "output_type": "stream",
          "text": [
            "[Succeeded / Failed / Total] 1 / 2 / 3:  12%|█▏        | 3/25 [00:01<00:09,  2.31it/s]"
          ],
          "name": "stderr"
        },
        {
          "output_type": "display_data",
          "data": {
            "text/html": [
              "<font color = green>Positive (99%)</font> --> <font color = red>Negative (52%)</font><br>the acting , costumes , music , cinematography and sound are all <font color = green>astounding</font> given the production 's austere locales . <br>the acting , costumes , music , cinematography and sound are all <font color = red>review</font> given the production 's austere locales . "
            ],
            "text/plain": [
              "<IPython.core.display.HTML object>"
            ]
          },
          "metadata": {
            "tags": []
          }
        },
        {
          "output_type": "stream",
          "text": [
            "[Succeeded / Failed / Total] 2 / 2 / 4:  16%|█▌        | 4/25 [00:01<00:08,  2.44it/s]"
          ],
          "name": "stderr"
        },
        {
          "output_type": "display_data",
          "data": {
            "text/html": [
              "<font color = red>Negative (99%)</font> --> <font color = green>Positive (98%)</font><br>it 's <font color = red>slow</font> -- very , very <font color = red>slow</font> . <br>it 's <font color = green>fast</font> -- very , very <font color = green>fast</font> . "
            ],
            "text/plain": [
              "<IPython.core.display.HTML object>"
            ]
          },
          "metadata": {
            "tags": []
          }
        },
        {
          "output_type": "stream",
          "text": [
            "[Succeeded / Failed / Total] 3 / 2 / 5:  20%|██        | 5/25 [00:01<00:07,  2.69it/s]"
          ],
          "name": "stderr"
        },
        {
          "output_type": "display_data",
          "data": {
            "text/html": [
              "<font color = green>Positive (100%)</font> --> <font color = red>Negative (55%)</font><br>although laced with humor and a few fanciful touches , the film is a <font color = green>refreshingly</font> serious look at young women . <br>although laced with humor and a few fanciful touches , the film is a <font color = red>alacran</font> serious look at young women . "
            ],
            "text/plain": [
              "<IPython.core.display.HTML object>"
            ]
          },
          "metadata": {
            "tags": []
          }
        },
        {
          "output_type": "stream",
          "text": [
            "[Succeeded / Failed / Total] 4 / 2 / 6:  24%|██▍       | 6/25 [00:02<00:07,  2.63it/s]"
          ],
          "name": "stderr"
        },
        {
          "output_type": "display_data",
          "data": {
            "text/html": [
              "<font color = red>Negative (95%)</font> --> <font color = red>[FAILED]</font><br>a sometimes tedious film . "
            ],
            "text/plain": [
              "<IPython.core.display.HTML object>"
            ]
          },
          "metadata": {
            "tags": []
          }
        },
        {
          "output_type": "stream",
          "text": [
            "[Succeeded / Failed / Total] 4 / 3 / 7:  28%|██▊       | 7/25 [00:02<00:06,  2.80it/s]"
          ],
          "name": "stderr"
        },
        {
          "output_type": "display_data",
          "data": {
            "text/html": [
              "<font color = red>Negative (90%)</font> --> <font color = red>[FAILED]</font><br>or doing last year 's taxes with your ex-wife . "
            ],
            "text/plain": [
              "<IPython.core.display.HTML object>"
            ]
          },
          "metadata": {
            "tags": []
          }
        },
        {
          "output_type": "stream",
          "text": [
            "[Succeeded / Failed / Total] 4 / 4 / 8:  32%|███▏      | 8/25 [00:02<00:05,  2.85it/s]"
          ],
          "name": "stderr"
        },
        {
          "output_type": "display_data",
          "data": {
            "text/html": [
              "<font color = green>Positive (80%)</font> --> <font color = red>Negative (90%)</font><br>you do n't have to know about music to <font color = green>appreciate</font> the film 's <font color = green>easygoing</font> <font color = green>blend</font> of <font color = green>comedy</font> and romance . <br>you do n't have to know about music to <font color = red>hamper</font> the film 's <font color = red>kangilinnguit</font> <font color = red>alignment</font> of <font color = red>drama</font> and romance . "
            ],
            "text/plain": [
              "<IPython.core.display.HTML object>"
            ]
          },
          "metadata": {
            "tags": []
          }
        },
        {
          "output_type": "stream",
          "text": [
            "[Succeeded / Failed / Total] 5 / 4 / 9:  36%|███▌      | 9/25 [00:03<00:05,  2.68it/s]"
          ],
          "name": "stderr"
        },
        {
          "output_type": "display_data",
          "data": {
            "text/html": [
              "<font color = red>Negative (97%)</font> --> <font color = red>[FAILED]</font><br>in exactly 89 minutes , most of which passed as slowly as if i 'd been sitting naked on an igloo , formula 51 sank from quirky to jerky to utter turkey . "
            ],
            "text/plain": [
              "<IPython.core.display.HTML object>"
            ]
          },
          "metadata": {
            "tags": []
          }
        },
        {
          "output_type": "stream",
          "text": [
            "[Succeeded / Failed / Total] 5 / 5 / 10:  40%|████      | 10/25 [00:04<00:06,  2.26it/s]"
          ],
          "name": "stderr"
        },
        {
          "output_type": "display_data",
          "data": {
            "text/html": [
              "<font color = green>Positive (100%)</font> --> <font color = red>[FAILED]</font><br>the mesmerizing performances of the leads keep the film grounded and keep the audience riveted . "
            ],
            "text/plain": [
              "<IPython.core.display.HTML object>"
            ]
          },
          "metadata": {
            "tags": []
          }
        },
        {
          "output_type": "stream",
          "text": [
            "[Succeeded / Failed / Total] 5 / 6 / 11:  44%|████▍     | 11/25 [00:05<00:06,  2.19it/s]"
          ],
          "name": "stderr"
        },
        {
          "output_type": "display_data",
          "data": {
            "text/html": [
              "<font color = red>Negative (100%)</font> --> <font color = green>Positive (50%)</font><br>it takes a strange kind of <font color = red>laziness</font> to <font color = red>waste</font> the talents of robert forster , anne meara , eugene levy , and reginald veljohnson all in the same movie . <br>it takes a strange kind of <font color = green>margarine</font> to <font color = green>raw</font> the talents of robert forster , anne meara , eugene levy , and reginald veljohnson all in the same movie . "
            ],
            "text/plain": [
              "<IPython.core.display.HTML object>"
            ]
          },
          "metadata": {
            "tags": []
          }
        },
        {
          "output_type": "stream",
          "text": [
            "[Succeeded / Failed / Total] 6 / 6 / 12:  48%|████▊     | 12/25 [00:05<00:06,  2.15it/s]"
          ],
          "name": "stderr"
        },
        {
          "output_type": "display_data",
          "data": {
            "text/html": [
              "<font color = red>Negative (100%)</font> --> <font color = red>[FAILED]</font><br>... the film suffers from a lack of humor ( something needed to balance out the violence ) ... "
            ],
            "text/plain": [
              "<IPython.core.display.HTML object>"
            ]
          },
          "metadata": {
            "tags": []
          }
        },
        {
          "output_type": "stream",
          "text": [
            "[Succeeded / Failed / Total] 6 / 7 / 13:  52%|█████▏    | 13/25 [00:06<00:05,  2.11it/s]"
          ],
          "name": "stderr"
        },
        {
          "output_type": "display_data",
          "data": {
            "text/html": [
              "<font color = green>Positive (72%)</font> --> <font color = red>Negative (87%)</font><br>we <font color = green>root</font> for ( clara and paul ) , even like them , though perhaps it 's an emotion closer to pity . <br>we <font color = red>endodontics</font> for ( clara and paul ) , even like them , though perhaps it 's an emotion closer to pity . "
            ],
            "text/plain": [
              "<IPython.core.display.HTML object>"
            ]
          },
          "metadata": {
            "tags": []
          }
        },
        {
          "output_type": "stream",
          "text": [
            "[Succeeded / Failed / Total] 7 / 7 / 14:  56%|█████▌    | 14/25 [00:06<00:05,  2.14it/s]"
          ],
          "name": "stderr"
        },
        {
          "output_type": "display_data",
          "data": {
            "text/html": [
              "<font color = red>Negative (100%)</font> --> <font color = green>Positive (99%)</font><br>even horror fans will most likely not find what they 're seeking with trouble every day ; the movie <font color = red>lacks</font> both thrills and humor . <br>even horror fans will most likely not find what they 're seeking with trouble every day ; the movie <font color = green>possesses</font> both thrills and humor . "
            ],
            "text/plain": [
              "<IPython.core.display.HTML object>"
            ]
          },
          "metadata": {
            "tags": []
          }
        },
        {
          "output_type": "stream",
          "text": [
            "[Succeeded / Failed / Total] 8 / 7 / 15:  60%|██████    | 15/25 [00:07<00:04,  2.14it/s]"
          ],
          "name": "stderr"
        },
        {
          "output_type": "display_data",
          "data": {
            "text/html": [
              "<font color = green>Positive (100%)</font> --> <font color = red>Negative (77%)</font><br>a <font color = green>gorgeous</font> , high-spirited musical from india that <font color = green>exquisitely</font> blends <font color = green>music</font> , dance , song , and <font color = green>high</font> drama . <br>a <font color = red>dumb</font> , high-spirited musical from india that <font color = red>wisher</font> blends <font color = red>carnatic</font> , dance , song , and <font color = red>low</font> drama . "
            ],
            "text/plain": [
              "<IPython.core.display.HTML object>"
            ]
          },
          "metadata": {
            "tags": []
          }
        },
        {
          "output_type": "stream",
          "text": [
            "[Succeeded / Failed / Total] 9 / 7 / 16:  64%|██████▍   | 16/25 [00:07<00:04,  2.14it/s]"
          ],
          "name": "stderr"
        },
        {
          "output_type": "display_data",
          "data": {
            "text/html": [
              "<font color = green>Positive (98%)</font> --> <font color = red>Negative (72%)</font><br>the <font color = green>emotions</font> are <font color = green>raw</font> and will strike a <font color = green>nerve</font> with anyone who 's ever had <font color = green>family</font> trauma . <br>the <font color = red>desires</font> are <font color = red>materials</font> and will strike a <font color = red>adhesion</font> with anyone who 's ever had <font color = red>pantolambdodontidae</font> trauma . "
            ],
            "text/plain": [
              "<IPython.core.display.HTML object>"
            ]
          },
          "metadata": {
            "tags": []
          }
        },
        {
          "output_type": "stream",
          "text": [
            "[Succeeded / Failed / Total] 10 / 7 / 17:  68%|██████▊   | 17/25 [00:07<00:03,  2.14it/s]"
          ],
          "name": "stderr"
        },
        {
          "output_type": "display_data",
          "data": {
            "text/html": [
              "<font color = green>Positive (100%)</font> --> <font color = red>Negative (69%)</font><br>audrey tatou has a <font color = green>knack</font> for picking roles that <font color = green>magnify</font> her outrageous charm , and in this literate french comedy , she 's as morning-glory <font color = green>exuberant</font> as she was in amélie . <br>audrey tatou has a <font color = red>transcribing</font> for picking roles that <font color = red>overwhelm</font> her outrageous charm , and in this literate french comedy , she 's as morning-glory <font color = red>interrogative</font> as she was in amélie . "
            ],
            "text/plain": [
              "<IPython.core.display.HTML object>"
            ]
          },
          "metadata": {
            "tags": []
          }
        },
        {
          "output_type": "stream",
          "text": [
            "[Succeeded / Failed / Total] 11 / 7 / 18:  72%|███████▏  | 18/25 [00:08<00:03,  2.09it/s]"
          ],
          "name": "stderr"
        },
        {
          "output_type": "display_data",
          "data": {
            "text/html": [
              "<font color = red>Negative (99%)</font> --> <font color = red>[FAILED]</font><br>... the movie is just a plain old monster . "
            ],
            "text/plain": [
              "<IPython.core.display.HTML object>"
            ]
          },
          "metadata": {
            "tags": []
          }
        },
        {
          "output_type": "stream",
          "text": [
            "[Succeeded / Failed / Total] 11 / 8 / 19:  76%|███████▌  | 19/25 [00:08<00:02,  2.13it/s]"
          ],
          "name": "stderr"
        },
        {
          "output_type": "display_data",
          "data": {
            "text/html": [
              "<font color = red>Negative (99%)</font> --> <font color = green>Positive (56%)</font><br>in its best moments , <font color = red>resembles</font> a <font color = red>bad</font> high school production of <font color = red>grease</font> , <font color = red>without</font> <font color = red>benefit</font> of song . <br>in its best moments , <font color = green>resembled</font> a <font color = green>good</font> high school production of <font color = green>centimeter</font> , <font color = green>any</font> <font color = green>almos</font> of song . "
            ],
            "text/plain": [
              "<IPython.core.display.HTML object>"
            ]
          },
          "metadata": {
            "tags": []
          }
        },
        {
          "output_type": "stream",
          "text": [
            "[Succeeded / Failed / Total] 12 / 8 / 20:  80%|████████  | 20/25 [00:09<00:02,  2.10it/s]"
          ],
          "name": "stderr"
        },
        {
          "output_type": "display_data",
          "data": {
            "text/html": [
              "<font color = red>Negative (63%)</font> --> <font color = green>Positive (96%)</font><br>pumpkin takes an admirable look at the hypocrisy of political correctness , but it does so with such an <font color = red>uneven</font> tone that you never know when humor ends and tragedy begins . <br>pumpkin takes an admirable look at the hypocrisy of political correctness , but it does so with such an <font color = green>astonishing</font> tone that you never know when humor ends and tragedy begins . "
            ],
            "text/plain": [
              "<IPython.core.display.HTML object>"
            ]
          },
          "metadata": {
            "tags": []
          }
        },
        {
          "output_type": "stream",
          "text": [
            "[Succeeded / Failed / Total] 13 / 8 / 21:  84%|████████▍ | 21/25 [00:10<00:01,  2.08it/s]"
          ],
          "name": "stderr"
        },
        {
          "output_type": "display_data",
          "data": {
            "text/html": [
              "<font color = red>Negative (97%)</font> --> <font color = red>[FAILED]</font><br>the iditarod lasts for days - this just felt like it did . "
            ],
            "text/plain": [
              "<IPython.core.display.HTML object>"
            ]
          },
          "metadata": {
            "tags": []
          }
        },
        {
          "output_type": "stream",
          "text": [
            "[Succeeded / Failed / Total] 13 / 9 / 22:  88%|████████▊ | 22/25 [00:10<00:01,  2.09it/s]"
          ],
          "name": "stderr"
        },
        {
          "output_type": "display_data",
          "data": {
            "text/html": [
              "<font color = red>Negative (66%)</font> --> <font color = green>Positive (58%)</font><br>holden <font color = red>caulfield</font> did it <font color = red>better</font> . <br>holden <font color = green>blumenthal</font> did it <font color = green>eret</font> . "
            ],
            "text/plain": [
              "<IPython.core.display.HTML object>"
            ]
          },
          "metadata": {
            "tags": []
          }
        },
        {
          "output_type": "stream",
          "text": [
            "[Succeeded / Failed / Total] 14 / 9 / 23:  92%|█████████▏| 23/25 [00:10<00:00,  2.14it/s]"
          ],
          "name": "stderr"
        },
        {
          "output_type": "display_data",
          "data": {
            "text/html": [
              "<font color = green>Positive (100%)</font> --> <font color = red>[FAILED]</font><br>a delectable and intriguing thriller filled with surprises , read my lips is an original . "
            ],
            "text/plain": [
              "<IPython.core.display.HTML object>"
            ]
          },
          "metadata": {
            "tags": []
          }
        },
        {
          "output_type": "stream",
          "text": [
            "[Succeeded / Failed / Total] 14 / 10 / 24:  96%|█████████▌| 24/25 [00:11<00:00,  2.12it/s]"
          ],
          "name": "stderr"
        },
        {
          "output_type": "display_data",
          "data": {
            "text/html": [
              "<font color = green>Positive (92%)</font> --> <font color = red>[FAILED]</font><br>seldom has a movie so closely matched the spirit of a man and his work . "
            ],
            "text/plain": [
              "<IPython.core.display.HTML object>"
            ]
          },
          "metadata": {
            "tags": []
          }
        },
        {
          "output_type": "stream",
          "text": [
            "[Succeeded / Failed / Total] 14 / 11 / 25: 100%|██████████| 25/25 [00:11<00:00,  2.11it/s]"
          ],
          "name": "stderr"
        },
        {
          "output_type": "stream",
          "text": [
            "+-------------------------------+--------+\n",
            "| Attack Results                |        |\n",
            "+-------------------------------+--------+\n",
            "| Number of successful attacks: | 14     |\n",
            "| Number of failed attacks:     | 11     |\n",
            "| Number of skipped attacks:    | 0      |\n",
            "| Original accuracy:            | 100.0% |\n",
            "| Accuracy under attack:        | 44.0%  |\n",
            "| Attack success rate:          | 56.0%  |\n",
            "| Average perturbed word %:     | 17.4%  |\n",
            "| Average num. words per input: | 15.64  |\n",
            "| Avg num queries:              | 21.04  |\n",
            "+-------------------------------+--------+"
          ],
          "name": "stdout"
        },
        {
          "output_type": "stream",
          "text": [
            "\n",
            "\u001b[34;1mtextattack\u001b[0m: Attack time: 11.88192892074585s\n"
          ],
          "name": "stderr"
        }
      ]
    },
    {
      "cell_type": "code",
      "metadata": {
        "colab": {
          "base_uri": "https://localhost:8080/"
        },
        "id": "8rK5QW2hnCiI",
        "outputId": "954936cb-ecab-4b0b-92b9-d01d20578b0e"
      },
      "source": [
        "from textattack.search_methods import ParticleSwarmOptimization\n",
        "from textattack.constraints.pre_transformation import RepeatModification, StopwordModification\n",
        "from textattack.shared import Attack\n",
        "from textattack.goal_functions import UntargetedClassification\n",
        "from textattack.datasets import HuggingFaceDataset\n",
        "\n",
        "# We're going to use our word swap class as the attack transformation.\n",
        "transformation = Swapper()\n",
        "\n",
        "constraints = [RepeatModification(),\n",
        "               StopwordModification()]\n",
        "\n",
        "search_method = ParticleSwarmOptimization(pop_size=10,max_iters=5,post_turn_check=True)\n",
        "\n",
        "goal_function = UntargetedClassification(model_wrapper)\n",
        "\n",
        "# Now, let's make the attack from the 4 components:\n",
        "attack = Attack(goal_function, constraints, transformation, search_method)\n",
        "\n",
        "dataset = HuggingFaceDataset(\"glue\", \"sst2\", \"validation\") # Change the dataset"
      ],
      "execution_count": 33,
      "outputs": [
        {
          "output_type": "stream",
          "text": [
            "\u001b[34;1mtextattack\u001b[0m: Unknown if model of class <class 'transformers.models.albert.modeling_albert.AlbertForSequenceClassification'> compatible with goal function <class 'textattack.goal_functions.classification.untargeted_classification.UntargetedClassification'>.\n",
            "Reusing dataset glue (/root/.cache/huggingface/datasets/glue/sst2/1.0.0/dacbe3125aa31d7f70367a07a8a9e72a5a0bfeb5fc42e75c9db75b96da6053ad)\n",
            "\u001b[34;1mtextattack\u001b[0m: Loading \u001b[94mdatasets\u001b[0m dataset \u001b[94mglue\u001b[0m, subset \u001b[94msst2\u001b[0m, split \u001b[94mvalidation\u001b[0m.\n"
          ],
          "name": "stderr"
        }
      ]
    },
    {
      "cell_type": "code",
      "metadata": {
        "colab": {
          "base_uri": "https://localhost:8080/"
        },
        "id": "gUWI3gs9nzz2",
        "outputId": "43dc8e9a-76ff-488e-9467-272446e3516b"
      },
      "source": [
        "print(attack)"
      ],
      "execution_count": 34,
      "outputs": [
        {
          "output_type": "stream",
          "text": [
            "Attack(\n",
            "  (search_method): ParticleSwarmOptimization(\n",
            "    (pop_size):  10\n",
            "    (max_iters):  5\n",
            "    (post_turn_check):  True\n",
            "    (max_turn_retries):  20\n",
            "  )\n",
            "  (goal_function):  UntargetedClassification\n",
            "  (transformation):  Swapper\n",
            "  (constraints): \n",
            "    (0): RepeatModification\n",
            "    (1): StopwordModification\n",
            "  (is_black_box):  True\n",
            ")\n"
          ],
          "name": "stdout"
        }
      ]
    },
    {
      "cell_type": "code",
      "metadata": {
        "colab": {
          "base_uri": "https://localhost:8080/",
          "height": 1000
        },
        "id": "eynxLKPCn2c7",
        "outputId": "393e6a1b-53e2-4533-bdc3-553d451e912d"
      },
      "source": [
        "printexample(attack)"
      ],
      "execution_count": 35,
      "outputs": [
        {
          "output_type": "stream",
          "text": [
            "\r  0%|          | 0/25 [00:00<?, ?it/s]"
          ],
          "name": "stderr"
        },
        {
          "output_type": "stream",
          "text": [
            "Attack(\n",
            "  (search_method): ParticleSwarmOptimization(\n",
            "    (pop_size):  10\n",
            "    (max_iters):  5\n",
            "    (post_turn_check):  True\n",
            "    (max_turn_retries):  20\n",
            "  )\n",
            "  (goal_function):  UntargetedClassification\n",
            "  (transformation):  Swapper\n",
            "  (constraints): \n",
            "    (0): RepeatModification\n",
            "    (1): StopwordModification\n",
            "  (is_black_box):  True\n",
            ")\n"
          ],
          "name": "stdout"
        },
        {
          "output_type": "display_data",
          "data": {
            "text/html": [
              "<font color = green>Positive (100%)</font> --> <font color = red>Negative (64%)</font><br>it 's a <font color = green>charming</font> and <font color = green>often</font> affecting journey . <br>it 's a <font color = red>harming</font> and <font color = red>sometimes</font> affecting journey . "
            ],
            "text/plain": [
              "<IPython.core.display.HTML object>"
            ]
          },
          "metadata": {
            "tags": []
          }
        },
        {
          "output_type": "stream",
          "text": [
            "[Succeeded / Failed / Total] 1 / 0 / 1:   4%|▍         | 1/25 [00:00<00:06,  3.79it/s]"
          ],
          "name": "stderr"
        },
        {
          "output_type": "display_data",
          "data": {
            "text/html": [
              "<font color = red>Negative (92%)</font> --> <font color = green>Positive (69%)</font><br><font color = red>unflinchingly</font> bleak and <font color = red>desperate</font> <br><font color = green>stunningly</font> bleak and <font color = green>recuperate</font> "
            ],
            "text/plain": [
              "<IPython.core.display.HTML object>"
            ]
          },
          "metadata": {
            "tags": []
          }
        },
        {
          "output_type": "stream",
          "text": [
            "[Succeeded / Failed / Total] 2 / 0 / 2:   8%|▊         | 2/25 [00:00<00:05,  4.50it/s]"
          ],
          "name": "stderr"
        },
        {
          "output_type": "display_data",
          "data": {
            "text/html": [
              "<font color = green>Positive (100%)</font> --> <font color = red>Negative (82%)</font><br>allows <font color = green>us</font> to hope that nolan is <font color = green>poised</font> to <font color = green>embark</font> a major career as a commercial yet inventive filmmaker . <br>allows <font color = red>united</font> to hope that nolan is <font color = red>gassed</font> to <font color = red>embargo</font> a major career as a commercial yet inventive filmmaker . "
            ],
            "text/plain": [
              "<IPython.core.display.HTML object>"
            ]
          },
          "metadata": {
            "tags": []
          }
        },
        {
          "output_type": "stream",
          "text": [
            "[Succeeded / Failed / Total] 3 / 0 / 3:  12%|█▏        | 3/25 [00:01<00:10,  2.10it/s]"
          ],
          "name": "stderr"
        },
        {
          "output_type": "display_data",
          "data": {
            "text/html": [
              "<font color = green>Positive (99%)</font> --> <font color = red>Negative (93%)</font><br>the acting , costumes , <font color = green>music</font> , <font color = green>cinematography</font> and sound are all <font color = green>astounding</font> <font color = green>given</font> the production 's <font color = green>austere</font> <font color = green>locales</font> . <br>the acting , costumes , <font color = red>dance</font> , <font color = red>cinematograph</font> and sound are all <font color = red>astounded</font> <font color = red>ascertained</font> the production 's <font color = red>auster</font> <font color = red>locale</font> . "
            ],
            "text/plain": [
              "<IPython.core.display.HTML object>"
            ]
          },
          "metadata": {
            "tags": []
          }
        },
        {
          "output_type": "stream",
          "text": [
            "[Succeeded / Failed / Total] 4 / 0 / 4:  16%|█▌        | 4/25 [00:03<00:17,  1.23it/s]"
          ],
          "name": "stderr"
        },
        {
          "output_type": "display_data",
          "data": {
            "text/html": [
              "<font color = red>Negative (99%)</font> --> <font color = red>[FAILED]</font><br>it 's slow -- very , very slow . "
            ],
            "text/plain": [
              "<IPython.core.display.HTML object>"
            ]
          },
          "metadata": {
            "tags": []
          }
        },
        {
          "output_type": "stream",
          "text": [
            "[Succeeded / Failed / Total] 4 / 1 / 5:  20%|██        | 5/25 [00:03<00:14,  1.42it/s]"
          ],
          "name": "stderr"
        },
        {
          "output_type": "display_data",
          "data": {
            "text/html": [
              "<font color = green>Positive (100%)</font> --> <font color = red>[FAILED]</font><br>although laced with humor and a few fanciful touches , the film is a refreshingly serious look at young women . "
            ],
            "text/plain": [
              "<IPython.core.display.HTML object>"
            ]
          },
          "metadata": {
            "tags": []
          }
        },
        {
          "output_type": "stream",
          "text": [
            "[Succeeded / Failed / Total] 4 / 2 / 6:  24%|██▍       | 6/25 [00:09<00:31,  1.64s/it]"
          ],
          "name": "stderr"
        },
        {
          "output_type": "display_data",
          "data": {
            "text/html": [
              "<font color = red>Negative (95%)</font> --> <font color = green>Positive (66%)</font><br>a <font color = red>sometimes</font> <font color = red>tedious</font> film . <br>a <font color = green>often</font> <font color = green>sidious</font> film . "
            ],
            "text/plain": [
              "<IPython.core.display.HTML object>"
            ]
          },
          "metadata": {
            "tags": []
          }
        },
        {
          "output_type": "stream",
          "text": [
            "[Succeeded / Failed / Total] 5 / 2 / 7:  28%|██▊       | 7/25 [00:10<00:25,  1.43s/it]"
          ],
          "name": "stderr"
        },
        {
          "output_type": "display_data",
          "data": {
            "text/html": [
              "<font color = red>Negative (90%)</font> --> <font color = red>[FAILED]</font><br>or doing last year 's taxes with your ex-wife . "
            ],
            "text/plain": [
              "<IPython.core.display.HTML object>"
            ]
          },
          "metadata": {
            "tags": []
          }
        },
        {
          "output_type": "stream",
          "text": [
            "[Succeeded / Failed / Total] 5 / 3 / 8:  32%|███▏      | 8/25 [00:10<00:22,  1.33s/it]"
          ],
          "name": "stderr"
        },
        {
          "output_type": "display_data",
          "data": {
            "text/html": [
              "<font color = green>Positive (80%)</font> --> <font color = red>Negative (69%)</font><br>you do n't have to know about music to <font color = green>appreciate</font> the film 's <font color = green>easygoing</font> blend of comedy and romance . <br>you do n't have to know about music to <font color = red>appreciating</font> the film 's <font color = red>foregoing</font> blend of comedy and romance . "
            ],
            "text/plain": [
              "<IPython.core.display.HTML object>"
            ]
          },
          "metadata": {
            "tags": []
          }
        },
        {
          "output_type": "stream",
          "text": [
            "[Succeeded / Failed / Total] 6 / 3 / 9:  36%|███▌      | 9/25 [00:11<00:21,  1.32s/it]"
          ],
          "name": "stderr"
        },
        {
          "output_type": "display_data",
          "data": {
            "text/html": [
              "<font color = red>Negative (97%)</font> --> <font color = red>[FAILED]</font><br>in exactly 89 minutes , most of which passed as slowly as if i 'd been sitting naked on an igloo , formula 51 sank from quirky to jerky to utter turkey . "
            ],
            "text/plain": [
              "<IPython.core.display.HTML object>"
            ]
          },
          "metadata": {
            "tags": []
          }
        },
        {
          "output_type": "stream",
          "text": [
            "[Succeeded / Failed / Total] 6 / 4 / 10:  40%|████      | 10/25 [00:21<00:32,  2.16s/it]"
          ],
          "name": "stderr"
        },
        {
          "output_type": "display_data",
          "data": {
            "text/html": [
              "<font color = green>Positive (100%)</font> --> <font color = red>[FAILED]</font><br>the mesmerizing performances of the leads keep the film grounded and keep the audience riveted . "
            ],
            "text/plain": [
              "<IPython.core.display.HTML object>"
            ]
          },
          "metadata": {
            "tags": []
          }
        },
        {
          "output_type": "stream",
          "text": [
            "[Succeeded / Failed / Total] 6 / 5 / 11:  44%|████▍     | 11/25 [00:25<00:32,  2.31s/it]"
          ],
          "name": "stderr"
        },
        {
          "output_type": "display_data",
          "data": {
            "text/html": [
              "<font color = red>Negative (100%)</font> --> <font color = red>[FAILED]</font><br>it takes a strange kind of laziness to waste the talents of robert forster , anne meara , eugene levy , and reginald veljohnson all in the same movie . "
            ],
            "text/plain": [
              "<IPython.core.display.HTML object>"
            ]
          },
          "metadata": {
            "tags": []
          }
        },
        {
          "output_type": "stream",
          "text": [
            "[Succeeded / Failed / Total] 6 / 6 / 12:  48%|████▊     | 12/25 [00:33<00:35,  2.77s/it]"
          ],
          "name": "stderr"
        },
        {
          "output_type": "display_data",
          "data": {
            "text/html": [
              "<font color = red>Negative (100%)</font> --> <font color = red>[FAILED]</font><br>... the film suffers from a lack of humor ( something needed to balance out the violence ) ... "
            ],
            "text/plain": [
              "<IPython.core.display.HTML object>"
            ]
          },
          "metadata": {
            "tags": []
          }
        },
        {
          "output_type": "stream",
          "text": [
            "[Succeeded / Failed / Total] 6 / 7 / 13:  52%|█████▏    | 13/25 [00:36<00:33,  2.79s/it]"
          ],
          "name": "stderr"
        },
        {
          "output_type": "display_data",
          "data": {
            "text/html": [
              "<font color = green>Positive (72%)</font> --> <font color = red>Negative (92%)</font><br>we <font color = green>root</font> for ( clara and paul ) , even like them , though perhaps it 's an emotion closer to pity . <br>we <font color = red>adjectival</font> for ( clara and paul ) , even like them , though perhaps it 's an emotion closer to pity . "
            ],
            "text/plain": [
              "<IPython.core.display.HTML object>"
            ]
          },
          "metadata": {
            "tags": []
          }
        },
        {
          "output_type": "stream",
          "text": [
            "[Succeeded / Failed / Total] 7 / 7 / 14:  56%|█████▌    | 14/25 [00:36<00:28,  2.62s/it]"
          ],
          "name": "stderr"
        },
        {
          "output_type": "display_data",
          "data": {
            "text/html": [
              "<font color = red>Negative (100%)</font> --> <font color = red>[FAILED]</font><br>even horror fans will most likely not find what they 're seeking with trouble every day ; the movie lacks both thrills and humor . "
            ],
            "text/plain": [
              "<IPython.core.display.HTML object>"
            ]
          },
          "metadata": {
            "tags": []
          }
        },
        {
          "output_type": "stream",
          "text": [
            "[Succeeded / Failed / Total] 7 / 8 / 15:  60%|██████    | 15/25 [00:45<00:30,  3.05s/it]"
          ],
          "name": "stderr"
        },
        {
          "output_type": "display_data",
          "data": {
            "text/html": [
              "<font color = green>Positive (100%)</font> --> <font color = red>[FAILED]</font><br>a gorgeous , high-spirited musical from india that exquisitely blends music , dance , song , and high drama . "
            ],
            "text/plain": [
              "<IPython.core.display.HTML object>"
            ]
          },
          "metadata": {
            "tags": []
          }
        },
        {
          "output_type": "stream",
          "text": [
            "[Succeeded / Failed / Total] 7 / 9 / 16:  64%|██████▍   | 16/25 [00:50<00:28,  3.13s/it]"
          ],
          "name": "stderr"
        },
        {
          "output_type": "display_data",
          "data": {
            "text/html": [
              "<font color = green>Positive (98%)</font> --> <font color = red>Negative (54%)</font><br>the emotions are <font color = green>raw</font> and will strike a nerve with anyone who 's ever had family trauma . <br>the emotions are <font color = red>grain</font> and will strike a nerve with anyone who 's ever had family trauma . "
            ],
            "text/plain": [
              "<IPython.core.display.HTML object>"
            ]
          },
          "metadata": {
            "tags": []
          }
        },
        {
          "output_type": "stream",
          "text": [
            "[Succeeded / Failed / Total] 8 / 9 / 17:  68%|██████▊   | 17/25 [00:50<00:23,  2.96s/it]"
          ],
          "name": "stderr"
        },
        {
          "output_type": "display_data",
          "data": {
            "text/html": [
              "<font color = green>Positive (100%)</font> --> <font color = red>[FAILED]</font><br>audrey tatou has a knack for picking roles that magnify her outrageous charm , and in this literate french comedy , she 's as morning-glory exuberant as she was in amélie . "
            ],
            "text/plain": [
              "<IPython.core.display.HTML object>"
            ]
          },
          "metadata": {
            "tags": []
          }
        },
        {
          "output_type": "stream",
          "text": [
            "[Succeeded / Failed / Total] 8 / 10 / 18:  72%|███████▏  | 18/25 [01:00<00:23,  3.37s/it]"
          ],
          "name": "stderr"
        },
        {
          "output_type": "display_data",
          "data": {
            "text/html": [
              "<font color = red>Negative (99%)</font> --> <font color = red>[FAILED]</font><br>... the movie is just a plain old monster . "
            ],
            "text/plain": [
              "<IPython.core.display.HTML object>"
            ]
          },
          "metadata": {
            "tags": []
          }
        },
        {
          "output_type": "stream",
          "text": [
            "[Succeeded / Failed / Total] 8 / 11 / 19:  76%|███████▌  | 19/25 [01:01<00:19,  3.21s/it]"
          ],
          "name": "stderr"
        },
        {
          "output_type": "display_data",
          "data": {
            "text/html": [
              "<font color = red>Negative (99%)</font> --> <font color = green>Positive (91%)</font><br>in its <font color = red>best</font> moments , <font color = red>resembles</font> a <font color = red>bad</font> high school production of <font color = red>grease</font> , <font color = red>without</font> <font color = red>benefit</font> of song . <br>in its <font color = green>finest</font> moments , <font color = green>resemble</font> a <font color = green>good</font> high school production of <font color = green>crease</font> , <font color = green>any</font> <font color = green>beneficiaries</font> of song . "
            ],
            "text/plain": [
              "<IPython.core.display.HTML object>"
            ]
          },
          "metadata": {
            "tags": []
          }
        },
        {
          "output_type": "stream",
          "text": [
            "[Succeeded / Failed / Total] 9 / 11 / 20:  80%|████████  | 20/25 [01:04<00:16,  3.23s/it]"
          ],
          "name": "stderr"
        },
        {
          "output_type": "display_data",
          "data": {
            "text/html": [
              "<font color = red>Negative (63%)</font> --> <font color = green>Positive (55%)</font><br>pumpkin takes an admirable look at the hypocrisy of political correctness , but it does so with such an <font color = red>uneven</font> tone that you never know when humor ends and tragedy begins . <br>pumpkin takes an admirable look at the hypocrisy of political correctness , but it does so with such an <font color = green>unheated</font> tone that you never know when humor ends and tragedy begins . "
            ],
            "text/plain": [
              "<IPython.core.display.HTML object>"
            ]
          },
          "metadata": {
            "tags": []
          }
        },
        {
          "output_type": "stream",
          "text": [
            "[Succeeded / Failed / Total] 10 / 11 / 21:  84%|████████▍ | 21/25 [01:05<00:12,  3.10s/it]"
          ],
          "name": "stderr"
        },
        {
          "output_type": "display_data",
          "data": {
            "text/html": [
              "<font color = red>Negative (97%)</font> --> <font color = red>[FAILED]</font><br>the iditarod lasts for days - this just felt like it did . "
            ],
            "text/plain": [
              "<IPython.core.display.HTML object>"
            ]
          },
          "metadata": {
            "tags": []
          }
        },
        {
          "output_type": "stream",
          "text": [
            "[Succeeded / Failed / Total] 10 / 12 / 22:  88%|████████▊ | 22/25 [01:06<00:09,  3.00s/it]"
          ],
          "name": "stderr"
        },
        {
          "output_type": "display_data",
          "data": {
            "text/html": [
              "<font color = red>Negative (66%)</font> --> <font color = red>[FAILED]</font><br>holden caulfield did it better . "
            ],
            "text/plain": [
              "<IPython.core.display.HTML object>"
            ]
          },
          "metadata": {
            "tags": []
          }
        },
        {
          "output_type": "stream",
          "text": [
            "[Succeeded / Failed / Total] 10 / 13 / 23:  92%|█████████▏| 23/25 [01:06<00:05,  2.88s/it]"
          ],
          "name": "stderr"
        },
        {
          "output_type": "display_data",
          "data": {
            "text/html": [
              "<font color = green>Positive (100%)</font> --> <font color = red>[FAILED]</font><br>a delectable and intriguing thriller filled with surprises , read my lips is an original . "
            ],
            "text/plain": [
              "<IPython.core.display.HTML object>"
            ]
          },
          "metadata": {
            "tags": []
          }
        },
        {
          "output_type": "stream",
          "text": [
            "[Succeeded / Failed / Total] 10 / 14 / 24:  96%|█████████▌| 24/25 [01:09<00:02,  2.91s/it]"
          ],
          "name": "stderr"
        },
        {
          "output_type": "display_data",
          "data": {
            "text/html": [
              "<font color = green>Positive (92%)</font> --> <font color = red>Negative (73%)</font><br>seldom has a movie so <font color = green>closely</font> matched the spirit of a man and his work . <br>seldom has a movie so <font color = red>loosely</font> matched the spirit of a man and his work . "
            ],
            "text/plain": [
              "<IPython.core.display.HTML object>"
            ]
          },
          "metadata": {
            "tags": []
          }
        },
        {
          "output_type": "stream",
          "text": [
            "[Succeeded / Failed / Total] 11 / 14 / 25: 100%|██████████| 25/25 [01:10<00:00,  2.80s/it]"
          ],
          "name": "stderr"
        },
        {
          "output_type": "stream",
          "text": [
            "+-------------------------------+--------+\n",
            "| Attack Results                |        |\n",
            "+-------------------------------+--------+\n",
            "| Number of successful attacks: | 11     |\n",
            "| Number of failed attacks:     | 14     |\n",
            "| Number of skipped attacks:    | 0      |\n",
            "| Original accuracy:            | 100.0% |\n",
            "| Accuracy under attack:        | 56.0%  |\n",
            "| Attack success rate:          | 44.0%  |\n",
            "| Average perturbed word %:     | 22.52% |\n",
            "| Average num. words per input: | 15.64  |\n",
            "| Avg num queries:              | 192.72 |\n",
            "+-------------------------------+--------+"
          ],
          "name": "stdout"
        },
        {
          "output_type": "stream",
          "text": [
            "\n",
            "\u001b[34;1mtextattack\u001b[0m: Attack time: 70.10544896125793s\n"
          ],
          "name": "stderr"
        }
      ]
    },
    {
      "cell_type": "code",
      "metadata": {
        "colab": {
          "base_uri": "https://localhost:8080/"
        },
        "id": "nGlixEC_n5vA",
        "outputId": "9ac56af8-2ee6-41d6-d257-08fa52252e5b"
      },
      "source": [
        "from textattack.search_methods import ParticleSwarmOptimization\n",
        "from textattack.constraints.pre_transformation import RepeatModification, StopwordModification\n",
        "from textattack.shared import Attack\n",
        "from textattack.goal_functions import UntargetedClassification\n",
        "from textattack.datasets import HuggingFaceDataset\n",
        "\n",
        "# We're going to use our word swap class as the attack transformation.\n",
        "transformation = Swapper_()\n",
        "\n",
        "constraints = [RepeatModification(),\n",
        "               StopwordModification()]\n",
        "\n",
        "search_method = ParticleSwarmOptimization(pop_size=10,max_iters=5,post_turn_check=True)\n",
        "\n",
        "goal_function = UntargetedClassification(model_wrapper)\n",
        "\n",
        "# Now, let's make the attack from the 4 components:\n",
        "attack = Attack(goal_function, constraints, transformation, search_method)\n",
        "\n",
        "dataset = HuggingFaceDataset(\"glue\", \"sst2\", \"validation\") # Change the dataset"
      ],
      "execution_count": 36,
      "outputs": [
        {
          "output_type": "stream",
          "text": [
            "\u001b[34;1mtextattack\u001b[0m: Unknown if model of class <class 'transformers.models.albert.modeling_albert.AlbertForSequenceClassification'> compatible with goal function <class 'textattack.goal_functions.classification.untargeted_classification.UntargetedClassification'>.\n",
            "Reusing dataset glue (/root/.cache/huggingface/datasets/glue/sst2/1.0.0/dacbe3125aa31d7f70367a07a8a9e72a5a0bfeb5fc42e75c9db75b96da6053ad)\n",
            "\u001b[34;1mtextattack\u001b[0m: Loading \u001b[94mdatasets\u001b[0m dataset \u001b[94mglue\u001b[0m, subset \u001b[94msst2\u001b[0m, split \u001b[94mvalidation\u001b[0m.\n"
          ],
          "name": "stderr"
        }
      ]
    },
    {
      "cell_type": "code",
      "metadata": {
        "colab": {
          "base_uri": "https://localhost:8080/"
        },
        "id": "xnYmPzWPpj7Q",
        "outputId": "6149fda3-526a-43ed-fa84-56974e217b27"
      },
      "source": [
        "print(attack)"
      ],
      "execution_count": 37,
      "outputs": [
        {
          "output_type": "stream",
          "text": [
            "Attack(\n",
            "  (search_method): ParticleSwarmOptimization(\n",
            "    (pop_size):  10\n",
            "    (max_iters):  5\n",
            "    (post_turn_check):  True\n",
            "    (max_turn_retries):  20\n",
            "  )\n",
            "  (goal_function):  UntargetedClassification\n",
            "  (transformation):  Swapper_\n",
            "  (constraints): \n",
            "    (0): RepeatModification\n",
            "    (1): StopwordModification\n",
            "  (is_black_box):  True\n",
            ")\n"
          ],
          "name": "stdout"
        }
      ]
    },
    {
      "cell_type": "code",
      "metadata": {
        "colab": {
          "base_uri": "https://localhost:8080/",
          "height": 1000
        },
        "id": "UpPST74lpyiu",
        "outputId": "7a0aab59-c03e-4c9d-c178-9836882cf932"
      },
      "source": [
        "printexample(attack)"
      ],
      "execution_count": 38,
      "outputs": [
        {
          "output_type": "stream",
          "text": [
            "\r  0%|          | 0/25 [00:00<?, ?it/s]"
          ],
          "name": "stderr"
        },
        {
          "output_type": "stream",
          "text": [
            "Attack(\n",
            "  (search_method): ParticleSwarmOptimization(\n",
            "    (pop_size):  10\n",
            "    (max_iters):  5\n",
            "    (post_turn_check):  True\n",
            "    (max_turn_retries):  20\n",
            "  )\n",
            "  (goal_function):  UntargetedClassification\n",
            "  (transformation):  Swapper_\n",
            "  (constraints): \n",
            "    (0): RepeatModification\n",
            "    (1): StopwordModification\n",
            "  (is_black_box):  True\n",
            ")\n"
          ],
          "name": "stdout"
        },
        {
          "output_type": "display_data",
          "data": {
            "text/html": [
              "<font color = green>Positive (100%)</font> --> <font color = red>Negative (97%)</font><br>it 's a <font color = green>charming</font> and often <font color = green>affecting</font> journey . <br>it 's a <font color = red>laconic</font> and often <font color = red>wasting</font> journey . "
            ],
            "text/plain": [
              "<IPython.core.display.HTML object>"
            ]
          },
          "metadata": {
            "tags": []
          }
        },
        {
          "output_type": "stream",
          "text": [
            "[Succeeded / Failed / Total] 1 / 0 / 1:   4%|▍         | 1/25 [00:00<00:06,  3.82it/s]"
          ],
          "name": "stderr"
        },
        {
          "output_type": "display_data",
          "data": {
            "text/html": [
              "<font color = red>Negative (92%)</font> --> <font color = red>[FAILED]</font><br>unflinchingly bleak and desperate "
            ],
            "text/plain": [
              "<IPython.core.display.HTML object>"
            ]
          },
          "metadata": {
            "tags": []
          }
        },
        {
          "output_type": "stream",
          "text": [
            "[Succeeded / Failed / Total] 1 / 1 / 2:   8%|▊         | 2/25 [00:00<00:04,  5.06it/s]"
          ],
          "name": "stderr"
        },
        {
          "output_type": "display_data",
          "data": {
            "text/html": [
              "<font color = green>Positive (100%)</font> --> <font color = red>[FAILED]</font><br>allows us to hope that nolan is poised to embark a major career as a commercial yet inventive filmmaker . "
            ],
            "text/plain": [
              "<IPython.core.display.HTML object>"
            ]
          },
          "metadata": {
            "tags": []
          }
        },
        {
          "output_type": "stream",
          "text": [
            "[Succeeded / Failed / Total] 1 / 2 / 3:  12%|█▏        | 3/25 [00:06<00:46,  2.13s/it]"
          ],
          "name": "stderr"
        },
        {
          "output_type": "display_data",
          "data": {
            "text/html": [
              "<font color = green>Positive (99%)</font> --> <font color = red>Negative (65%)</font><br>the acting , costumes , music , <font color = green>cinematography</font> and <font color = green>sound</font> are all astounding <font color = green>given</font> the production 's austere <font color = green>locales</font> . <br>the acting , costumes , music , <font color = red>cine</font> and <font color = red>percussive</font> are all astounding <font color = red>assigning</font> the production 's austere <font color = red>idiosyncrasies</font> . "
            ],
            "text/plain": [
              "<IPython.core.display.HTML object>"
            ]
          },
          "metadata": {
            "tags": []
          }
        },
        {
          "output_type": "stream",
          "text": [
            "[Succeeded / Failed / Total] 2 / 2 / 4:  16%|█▌        | 4/25 [00:07<00:40,  1.95s/it]"
          ],
          "name": "stderr"
        },
        {
          "output_type": "display_data",
          "data": {
            "text/html": [
              "<font color = red>Negative (99%)</font> --> <font color = red>[FAILED]</font><br>it 's slow -- very , very slow . "
            ],
            "text/plain": [
              "<IPython.core.display.HTML object>"
            ]
          },
          "metadata": {
            "tags": []
          }
        },
        {
          "output_type": "stream",
          "text": [
            "[Succeeded / Failed / Total] 2 / 3 / 5:  20%|██        | 5/25 [00:08<00:32,  1.63s/it]"
          ],
          "name": "stderr"
        },
        {
          "output_type": "display_data",
          "data": {
            "text/html": [
              "<font color = green>Positive (100%)</font> --> <font color = red>[FAILED]</font><br>although laced with humor and a few fanciful touches , the film is a refreshingly serious look at young women . "
            ],
            "text/plain": [
              "<IPython.core.display.HTML object>"
            ]
          },
          "metadata": {
            "tags": []
          }
        },
        {
          "output_type": "stream",
          "text": [
            "[Succeeded / Failed / Total] 2 / 4 / 6:  24%|██▍       | 6/25 [00:12<00:39,  2.08s/it]"
          ],
          "name": "stderr"
        },
        {
          "output_type": "display_data",
          "data": {
            "text/html": [
              "<font color = red>Negative (95%)</font> --> <font color = red>[FAILED]</font><br>a sometimes tedious film . "
            ],
            "text/plain": [
              "<IPython.core.display.HTML object>"
            ]
          },
          "metadata": {
            "tags": []
          }
        },
        {
          "output_type": "stream",
          "text": [
            "[Succeeded / Failed / Total] 2 / 5 / 7:  28%|██▊       | 7/25 [00:12<00:32,  1.82s/it]"
          ],
          "name": "stderr"
        },
        {
          "output_type": "display_data",
          "data": {
            "text/html": [
              "<font color = red>Negative (90%)</font> --> <font color = red>[FAILED]</font><br>or doing last year 's taxes with your ex-wife . "
            ],
            "text/plain": [
              "<IPython.core.display.HTML object>"
            ]
          },
          "metadata": {
            "tags": []
          }
        },
        {
          "output_type": "stream",
          "text": [
            "[Succeeded / Failed / Total] 2 / 6 / 8:  32%|███▏      | 8/25 [00:13<00:27,  1.63s/it]"
          ],
          "name": "stderr"
        },
        {
          "output_type": "display_data",
          "data": {
            "text/html": [
              "<font color = green>Positive (80%)</font> --> <font color = red>Negative (63%)</font><br>you do n't have to know about music to <font color = green>appreciate</font> the film 's easygoing blend of comedy and romance . <br>you do n't have to know about music to <font color = red>undo</font> the film 's easygoing blend of comedy and romance . "
            ],
            "text/plain": [
              "<IPython.core.display.HTML object>"
            ]
          },
          "metadata": {
            "tags": []
          }
        },
        {
          "output_type": "stream",
          "text": [
            "[Succeeded / Failed / Total] 3 / 6 / 9:  36%|███▌      | 9/25 [00:13<00:23,  1.48s/it]"
          ],
          "name": "stderr"
        },
        {
          "output_type": "display_data",
          "data": {
            "text/html": [
              "<font color = red>Negative (97%)</font> --> <font color = red>[FAILED]</font><br>in exactly 89 minutes , most of which passed as slowly as if i 'd been sitting naked on an igloo , formula 51 sank from quirky to jerky to utter turkey . "
            ],
            "text/plain": [
              "<IPython.core.display.HTML object>"
            ]
          },
          "metadata": {
            "tags": []
          }
        },
        {
          "output_type": "stream",
          "text": [
            "[Succeeded / Failed / Total] 3 / 7 / 10:  40%|████      | 10/25 [00:20<00:30,  2.05s/it]"
          ],
          "name": "stderr"
        },
        {
          "output_type": "display_data",
          "data": {
            "text/html": [
              "<font color = green>Positive (100%)</font> --> <font color = red>[FAILED]</font><br>the mesmerizing performances of the leads keep the film grounded and keep the audience riveted . "
            ],
            "text/plain": [
              "<IPython.core.display.HTML object>"
            ]
          },
          "metadata": {
            "tags": []
          }
        },
        {
          "output_type": "stream",
          "text": [
            "[Succeeded / Failed / Total] 3 / 8 / 11:  44%|████▍     | 11/25 [00:22<00:29,  2.09s/it]"
          ],
          "name": "stderr"
        },
        {
          "output_type": "display_data",
          "data": {
            "text/html": [
              "<font color = red>Negative (100%)</font> --> <font color = green>Positive (81%)</font><br>it takes a <font color = red>strange</font> kind of <font color = red>laziness</font> to <font color = red>waste</font> the talents of robert forster , anne meara , eugene levy , and reginald veljohnson all in the same movie . <br>it takes a <font color = green>mysterious</font> kind of <font color = green>shadowing</font> to <font color = green>potable</font> the talents of robert forster , anne meara , eugene levy , and reginald veljohnson all in the same movie . "
            ],
            "text/plain": [
              "<IPython.core.display.HTML object>"
            ]
          },
          "metadata": {
            "tags": []
          }
        },
        {
          "output_type": "stream",
          "text": [
            "[Succeeded / Failed / Total] 4 / 8 / 12:  48%|████▊     | 12/25 [00:23<00:25,  2.00s/it]"
          ],
          "name": "stderr"
        },
        {
          "output_type": "display_data",
          "data": {
            "text/html": [
              "<font color = red>Negative (100%)</font> --> <font color = red>[FAILED]</font><br>... the film suffers from a lack of humor ( something needed to balance out the violence ) ... "
            ],
            "text/plain": [
              "<IPython.core.display.HTML object>"
            ]
          },
          "metadata": {
            "tags": []
          }
        },
        {
          "output_type": "stream",
          "text": [
            "[Succeeded / Failed / Total] 4 / 9 / 13:  52%|█████▏    | 13/25 [00:28<00:25,  2.16s/it]"
          ],
          "name": "stderr"
        },
        {
          "output_type": "display_data",
          "data": {
            "text/html": [
              "<font color = green>Positive (72%)</font> --> <font color = red>Negative (80%)</font><br>we root for ( clara and paul ) , even <font color = green>like</font> them , though perhaps it 's an emotion closer to pity . <br>we root for ( clara and paul ) , even <font color = red>resemble</font> them , though perhaps it 's an emotion closer to pity . "
            ],
            "text/plain": [
              "<IPython.core.display.HTML object>"
            ]
          },
          "metadata": {
            "tags": []
          }
        },
        {
          "output_type": "stream",
          "text": [
            "[Succeeded / Failed / Total] 5 / 9 / 14:  56%|█████▌    | 14/25 [00:28<00:22,  2.03s/it]"
          ],
          "name": "stderr"
        },
        {
          "output_type": "display_data",
          "data": {
            "text/html": [
              "<font color = red>Negative (100%)</font> --> <font color = green>Positive (98%)</font><br>even horror fans will most likely not find what they 're seeking with trouble every day ; the movie <font color = red>lacks</font> both thrills and humor . <br>even horror fans will most likely not find what they 're seeking with trouble every day ; the movie <font color = green>renders</font> both thrills and humor . "
            ],
            "text/plain": [
              "<IPython.core.display.HTML object>"
            ]
          },
          "metadata": {
            "tags": []
          }
        },
        {
          "output_type": "stream",
          "text": [
            "[Succeeded / Failed / Total] 6 / 9 / 15:  60%|██████    | 15/25 [00:28<00:19,  1.92s/it]"
          ],
          "name": "stderr"
        },
        {
          "output_type": "display_data",
          "data": {
            "text/html": [
              "<font color = green>Positive (100%)</font> --> <font color = red>[FAILED]</font><br>a gorgeous , high-spirited musical from india that exquisitely blends music , dance , song , and high drama . "
            ],
            "text/plain": [
              "<IPython.core.display.HTML object>"
            ]
          },
          "metadata": {
            "tags": []
          }
        },
        {
          "output_type": "stream",
          "text": [
            "[Succeeded / Failed / Total] 6 / 10 / 16:  64%|██████▍   | 16/25 [00:31<00:17,  1.97s/it]"
          ],
          "name": "stderr"
        },
        {
          "output_type": "display_data",
          "data": {
            "text/html": [
              "<font color = green>Positive (98%)</font> --> <font color = red>Negative (60%)</font><br>the emotions are <font color = green>raw</font> and will <font color = green>strike</font> a nerve with <font color = green>anyone</font> who 's ever had family trauma . <br>the emotions are <font color = red>perishable</font> and will <font color = red>downed</font> a nerve with <font color = red>anybody</font> who 's ever had family trauma . "
            ],
            "text/plain": [
              "<IPython.core.display.HTML object>"
            ]
          },
          "metadata": {
            "tags": []
          }
        },
        {
          "output_type": "stream",
          "text": [
            "[Succeeded / Failed / Total] 7 / 10 / 17:  68%|██████▊   | 17/25 [00:32<00:15,  1.90s/it]"
          ],
          "name": "stderr"
        },
        {
          "output_type": "display_data",
          "data": {
            "text/html": [
              "<font color = green>Positive (100%)</font> --> <font color = red>[FAILED]</font><br>audrey tatou has a knack for picking roles that magnify her outrageous charm , and in this literate french comedy , she 's as morning-glory exuberant as she was in amélie . "
            ],
            "text/plain": [
              "<IPython.core.display.HTML object>"
            ]
          },
          "metadata": {
            "tags": []
          }
        },
        {
          "output_type": "stream",
          "text": [
            "[Succeeded / Failed / Total] 7 / 11 / 18:  72%|███████▏  | 18/25 [00:36<00:14,  2.05s/it]"
          ],
          "name": "stderr"
        },
        {
          "output_type": "display_data",
          "data": {
            "text/html": [
              "<font color = red>Negative (99%)</font> --> <font color = green>Positive (81%)</font><br>... the movie is just a plain <font color = red>old</font> <font color = red>monster</font> . <br>... the movie is just a plain <font color = green>harrow</font> <font color = green>ness</font> . "
            ],
            "text/plain": [
              "<IPython.core.display.HTML object>"
            ]
          },
          "metadata": {
            "tags": []
          }
        },
        {
          "output_type": "stream",
          "text": [
            "[Succeeded / Failed / Total] 8 / 11 / 19:  76%|███████▌  | 19/25 [00:37<00:11,  1.95s/it]"
          ],
          "name": "stderr"
        },
        {
          "output_type": "display_data",
          "data": {
            "text/html": [
              "<font color = red>Negative (99%)</font> --> <font color = green>Positive (60%)</font><br>in its best moments , <font color = red>resembles</font> a <font color = red>bad</font> high school production of <font color = red>grease</font> , without <font color = red>benefit</font> of <font color = red>song</font> . <br>in its best moments , <font color = green>resembled</font> a <font color = green>good</font> high school production of <font color = green>leaded</font> , without <font color = green>accrue</font> of <font color = green>album</font> . "
            ],
            "text/plain": [
              "<IPython.core.display.HTML object>"
            ]
          },
          "metadata": {
            "tags": []
          }
        },
        {
          "output_type": "stream",
          "text": [
            "[Succeeded / Failed / Total] 9 / 11 / 20:  80%|████████  | 20/25 [00:40<00:10,  2.03s/it]"
          ],
          "name": "stderr"
        },
        {
          "output_type": "display_data",
          "data": {
            "text/html": [
              "<font color = red>Negative (63%)</font> --> <font color = green>Positive (93%)</font><br>pumpkin takes an admirable look at the hypocrisy of political correctness , but it does so with such an <font color = red>uneven</font> tone that you never know when humor ends and tragedy begins . <br>pumpkin takes an admirable look at the hypocrisy of political correctness , but it does so with such an <font color = green>precipitous</font> tone that you never know when humor ends and tragedy begins . "
            ],
            "text/plain": [
              "<IPython.core.display.HTML object>"
            ]
          },
          "metadata": {
            "tags": []
          }
        },
        {
          "output_type": "stream",
          "text": [
            "[Succeeded / Failed / Total] 10 / 11 / 21:  84%|████████▍ | 21/25 [00:41<00:07,  1.95s/it]"
          ],
          "name": "stderr"
        },
        {
          "output_type": "display_data",
          "data": {
            "text/html": [
              "<font color = red>Negative (97%)</font> --> <font color = red>[FAILED]</font><br>the iditarod lasts for days - this just felt like it did . "
            ],
            "text/plain": [
              "<IPython.core.display.HTML object>"
            ]
          },
          "metadata": {
            "tags": []
          }
        },
        {
          "output_type": "stream",
          "text": [
            "[Succeeded / Failed / Total] 10 / 12 / 22:  88%|████████▊ | 22/25 [00:42<00:05,  1.92s/it]"
          ],
          "name": "stderr"
        },
        {
          "output_type": "display_data",
          "data": {
            "text/html": [
              "<font color = red>Negative (66%)</font> --> <font color = red>[FAILED]</font><br>holden caulfield did it better . "
            ],
            "text/plain": [
              "<IPython.core.display.HTML object>"
            ]
          },
          "metadata": {
            "tags": []
          }
        },
        {
          "output_type": "stream",
          "text": [
            "[Succeeded / Failed / Total] 10 / 13 / 23:  92%|█████████▏| 23/25 [00:42<00:03,  1.85s/it]"
          ],
          "name": "stderr"
        },
        {
          "output_type": "display_data",
          "data": {
            "text/html": [
              "<font color = green>Positive (100%)</font> --> <font color = red>[FAILED]</font><br>a delectable and intriguing thriller filled with surprises , read my lips is an original . "
            ],
            "text/plain": [
              "<IPython.core.display.HTML object>"
            ]
          },
          "metadata": {
            "tags": []
          }
        },
        {
          "output_type": "stream",
          "text": [
            "[Succeeded / Failed / Total] 10 / 14 / 24:  96%|█████████▌| 24/25 [00:44<00:01,  1.87s/it]"
          ],
          "name": "stderr"
        },
        {
          "output_type": "display_data",
          "data": {
            "text/html": [
              "<font color = green>Positive (92%)</font> --> <font color = red>Negative (64%)</font><br>seldom has a movie so closely <font color = green>matched</font> the spirit of a man and his work . <br>seldom has a movie so closely <font color = red>rivaled</font> the spirit of a man and his work . "
            ],
            "text/plain": [
              "<IPython.core.display.HTML object>"
            ]
          },
          "metadata": {
            "tags": []
          }
        },
        {
          "output_type": "stream",
          "text": [
            "[Succeeded / Failed / Total] 11 / 14 / 25: 100%|██████████| 25/25 [00:45<00:00,  1.81s/it]"
          ],
          "name": "stderr"
        },
        {
          "output_type": "stream",
          "text": [
            "+-------------------------------+--------+\n",
            "| Attack Results                |        |\n",
            "+-------------------------------+--------+\n",
            "| Number of successful attacks: | 11     |\n",
            "| Number of failed attacks:     | 14     |\n",
            "| Number of skipped attacks:    | 0      |\n",
            "| Original accuracy:            | 100.0% |\n",
            "| Accuracy under attack:        | 56.0%  |\n",
            "| Attack success rate:          | 44.0%  |\n",
            "| Average perturbed word %:     | 14.6%  |\n",
            "| Average num. words per input: | 15.64  |\n",
            "| Avg num queries:              | 154.36 |\n",
            "+-------------------------------+--------+"
          ],
          "name": "stdout"
        },
        {
          "output_type": "stream",
          "text": [
            "\n",
            "\u001b[34;1mtextattack\u001b[0m: Attack time: 45.144060373306274s\n"
          ],
          "name": "stderr"
        }
      ]
    },
    {
      "cell_type": "code",
      "metadata": {
        "colab": {
          "base_uri": "https://localhost:8080/"
        },
        "id": "F-sjXP8rPBE9",
        "outputId": "d81a720b-ce96-45ec-cf82-02a0ae5435c8"
      },
      "source": [
        "from textattack.search_methods import ParticleSwarmOptimization\n",
        "from textattack.constraints.pre_transformation import RepeatModification, StopwordModification\n",
        "from textattack.shared import Attack\n",
        "from textattack.goal_functions import UntargetedClassification\n",
        "from textattack.datasets import HuggingFaceDataset\n",
        "\n",
        "# We're going to use our word swap class as the attack transformation.\n",
        "transformation = Swapper__()\n",
        "\n",
        "constraints = [RepeatModification(),\n",
        "               StopwordModification()]\n",
        "\n",
        "search_method = ParticleSwarmOptimization(pop_size=10,max_iters=5,post_turn_check=True)\n",
        "\n",
        "goal_function = UntargetedClassification(model_wrapper)\n",
        "\n",
        "# Now, let's make the attack from the 4 components:\n",
        "attack = Attack(goal_function, constraints, transformation, search_method)\n",
        "\n",
        "dataset = HuggingFaceDataset(\"glue\", \"sst2\", \"validation\") # Change the dataset"
      ],
      "execution_count": 39,
      "outputs": [
        {
          "output_type": "stream",
          "text": [
            "\u001b[34;1mtextattack\u001b[0m: Unknown if model of class <class 'transformers.models.albert.modeling_albert.AlbertForSequenceClassification'> compatible with goal function <class 'textattack.goal_functions.classification.untargeted_classification.UntargetedClassification'>.\n",
            "Reusing dataset glue (/root/.cache/huggingface/datasets/glue/sst2/1.0.0/dacbe3125aa31d7f70367a07a8a9e72a5a0bfeb5fc42e75c9db75b96da6053ad)\n",
            "\u001b[34;1mtextattack\u001b[0m: Loading \u001b[94mdatasets\u001b[0m dataset \u001b[94mglue\u001b[0m, subset \u001b[94msst2\u001b[0m, split \u001b[94mvalidation\u001b[0m.\n"
          ],
          "name": "stderr"
        }
      ]
    },
    {
      "cell_type": "code",
      "metadata": {
        "colab": {
          "base_uri": "https://localhost:8080/"
        },
        "id": "8201a0SkPEc4",
        "outputId": "15d3d008-8361-4455-8f94-350ff70318a1"
      },
      "source": [
        "print(attack)"
      ],
      "execution_count": 40,
      "outputs": [
        {
          "output_type": "stream",
          "text": [
            "Attack(\n",
            "  (search_method): ParticleSwarmOptimization(\n",
            "    (pop_size):  10\n",
            "    (max_iters):  5\n",
            "    (post_turn_check):  True\n",
            "    (max_turn_retries):  20\n",
            "  )\n",
            "  (goal_function):  UntargetedClassification\n",
            "  (transformation):  Swapper__\n",
            "  (constraints): \n",
            "    (0): RepeatModification\n",
            "    (1): StopwordModification\n",
            "  (is_black_box):  True\n",
            ")\n"
          ],
          "name": "stdout"
        }
      ]
    },
    {
      "cell_type": "code",
      "metadata": {
        "colab": {
          "base_uri": "https://localhost:8080/",
          "height": 1000
        },
        "id": "EVzPBCjRPGR9",
        "outputId": "59323bf9-0731-4180-dea7-4ec0b63eeb91"
      },
      "source": [
        "printexample(attack)"
      ],
      "execution_count": 41,
      "outputs": [
        {
          "output_type": "stream",
          "text": [
            "\r  0%|          | 0/25 [00:00<?, ?it/s]"
          ],
          "name": "stderr"
        },
        {
          "output_type": "stream",
          "text": [
            "Attack(\n",
            "  (search_method): ParticleSwarmOptimization(\n",
            "    (pop_size):  10\n",
            "    (max_iters):  5\n",
            "    (post_turn_check):  True\n",
            "    (max_turn_retries):  20\n",
            "  )\n",
            "  (goal_function):  UntargetedClassification\n",
            "  (transformation):  Swapper__\n",
            "  (constraints): \n",
            "    (0): RepeatModification\n",
            "    (1): StopwordModification\n",
            "  (is_black_box):  True\n",
            ")\n"
          ],
          "name": "stdout"
        },
        {
          "output_type": "display_data",
          "data": {
            "text/html": [
              "<font color = green>Positive (100%)</font> --> <font color = red>Negative (99%)</font><br>it 's a <font color = green>charming</font> and often <font color = green>affecting</font> journey . <br>it 's a <font color = red>pedantic</font> and often <font color = red>destructive</font> journey . "
            ],
            "text/plain": [
              "<IPython.core.display.HTML object>"
            ]
          },
          "metadata": {
            "tags": []
          }
        },
        {
          "output_type": "stream",
          "text": [
            "[Succeeded / Failed / Total] 1 / 0 / 1:   4%|▍         | 1/25 [00:00<00:07,  3.09it/s]"
          ],
          "name": "stderr"
        },
        {
          "output_type": "display_data",
          "data": {
            "text/html": [
              "<font color = red>Negative (92%)</font> --> <font color = red>[FAILED]</font><br>unflinchingly bleak and desperate "
            ],
            "text/plain": [
              "<IPython.core.display.HTML object>"
            ]
          },
          "metadata": {
            "tags": []
          }
        },
        {
          "output_type": "stream",
          "text": [
            "[Succeeded / Failed / Total] 1 / 1 / 2:   8%|▊         | 2/25 [00:00<00:07,  2.89it/s]"
          ],
          "name": "stderr"
        },
        {
          "output_type": "display_data",
          "data": {
            "text/html": [
              "<font color = green>Positive (100%)</font> --> <font color = red>Negative (51%)</font><br><font color = green>allows</font> <font color = green>us</font> to hope that nolan is <font color = green>poised</font> to embark a major career as a commercial <font color = green>yet</font> inventive filmmaker . <br><font color = red>allow</font> <font color = red>karamursel</font> to hope that nolan is <font color = red>transfered</font> to embark a major career as a commercial <font color = red>though</font> inventive filmmaker . "
            ],
            "text/plain": [
              "<IPython.core.display.HTML object>"
            ]
          },
          "metadata": {
            "tags": []
          }
        },
        {
          "output_type": "stream",
          "text": [
            "[Succeeded / Failed / Total] 2 / 1 / 3:  12%|█▏        | 3/25 [00:07<00:52,  2.39s/it]"
          ],
          "name": "stderr"
        },
        {
          "output_type": "display_data",
          "data": {
            "text/html": [
              "<font color = green>Positive (99%)</font> --> <font color = red>Negative (52%)</font><br>the acting , costumes , music , cinematography and sound are all <font color = green>astounding</font> given the production 's austere locales . <br>the acting , costumes , music , cinematography and sound are all <font color = red>review</font> given the production 's austere locales . "
            ],
            "text/plain": [
              "<IPython.core.display.HTML object>"
            ]
          },
          "metadata": {
            "tags": []
          }
        },
        {
          "output_type": "stream",
          "text": [
            "[Succeeded / Failed / Total] 3 / 1 / 4:  16%|█▌        | 4/25 [00:07<00:39,  1.90s/it]"
          ],
          "name": "stderr"
        },
        {
          "output_type": "display_data",
          "data": {
            "text/html": [
              "<font color = red>Negative (99%)</font> --> <font color = green>Positive (98%)</font><br>it 's <font color = red>slow</font> -- very , very <font color = red>slow</font> . <br>it 's <font color = green>fast</font> -- very , very <font color = green>fast</font> . "
            ],
            "text/plain": [
              "<IPython.core.display.HTML object>"
            ]
          },
          "metadata": {
            "tags": []
          }
        },
        {
          "output_type": "stream",
          "text": [
            "[Succeeded / Failed / Total] 4 / 1 / 5:  20%|██        | 5/25 [00:07<00:31,  1.55s/it]"
          ],
          "name": "stderr"
        },
        {
          "output_type": "display_data",
          "data": {
            "text/html": [
              "<font color = green>Positive (100%)</font> --> <font color = red>Negative (55%)</font><br>although laced with humor and a few fanciful touches , the film is a <font color = green>refreshingly</font> serious look at young women . <br>although laced with humor and a few fanciful touches , the film is a <font color = red>alacran</font> serious look at young women . "
            ],
            "text/plain": [
              "<IPython.core.display.HTML object>"
            ]
          },
          "metadata": {
            "tags": []
          }
        },
        {
          "output_type": "stream",
          "text": [
            "[Succeeded / Failed / Total] 5 / 1 / 6:  24%|██▍       | 6/25 [00:08<00:26,  1.37s/it]"
          ],
          "name": "stderr"
        },
        {
          "output_type": "display_data",
          "data": {
            "text/html": [
              "<font color = red>Negative (95%)</font> --> <font color = green>Positive (53%)</font><br>a <font color = red>sometimes</font> <font color = red>tedious</font> <font color = red>film</font> . <br>a <font color = green>often</font> <font color = green>computationally</font> <font color = green>remodernist</font> . "
            ],
            "text/plain": [
              "<IPython.core.display.HTML object>"
            ]
          },
          "metadata": {
            "tags": []
          }
        },
        {
          "output_type": "stream",
          "text": [
            "[Succeeded / Failed / Total] 6 / 1 / 7:  28%|██▊       | 7/25 [00:08<00:21,  1.22s/it]"
          ],
          "name": "stderr"
        },
        {
          "output_type": "display_data",
          "data": {
            "text/html": [
              "<font color = red>Negative (90%)</font> --> <font color = red>[FAILED]</font><br>or doing last year 's taxes with your ex-wife . "
            ],
            "text/plain": [
              "<IPython.core.display.HTML object>"
            ]
          },
          "metadata": {
            "tags": []
          }
        },
        {
          "output_type": "stream",
          "text": [
            "[Succeeded / Failed / Total] 6 / 2 / 8:  32%|███▏      | 8/25 [00:08<00:19,  1.12s/it]"
          ],
          "name": "stderr"
        },
        {
          "output_type": "display_data",
          "data": {
            "text/html": [
              "<font color = green>Positive (80%)</font> --> <font color = red>Negative (90%)</font><br>you do n't have to know about music to <font color = green>appreciate</font> the film 's <font color = green>easygoing</font> <font color = green>blend</font> of <font color = green>comedy</font> and romance . <br>you do n't have to know about music to <font color = red>hamper</font> the film 's <font color = red>kangilinnguit</font> <font color = red>alignment</font> of <font color = red>drama</font> and romance . "
            ],
            "text/plain": [
              "<IPython.core.display.HTML object>"
            ]
          },
          "metadata": {
            "tags": []
          }
        },
        {
          "output_type": "stream",
          "text": [
            "[Succeeded / Failed / Total] 7 / 2 / 9:  36%|███▌      | 9/25 [00:10<00:18,  1.18s/it]"
          ],
          "name": "stderr"
        },
        {
          "output_type": "display_data",
          "data": {
            "text/html": [
              "<font color = red>Negative (97%)</font> --> <font color = red>[FAILED]</font><br>in exactly 89 minutes , most of which passed as slowly as if i 'd been sitting naked on an igloo , formula 51 sank from quirky to jerky to utter turkey . "
            ],
            "text/plain": [
              "<IPython.core.display.HTML object>"
            ]
          },
          "metadata": {
            "tags": []
          }
        },
        {
          "output_type": "stream",
          "text": [
            "[Succeeded / Failed / Total] 7 / 3 / 10:  40%|████      | 10/25 [00:23<00:35,  2.38s/it]"
          ],
          "name": "stderr"
        },
        {
          "output_type": "display_data",
          "data": {
            "text/html": [
              "<font color = green>Positive (100%)</font> --> <font color = red>[FAILED]</font><br>the mesmerizing performances of the leads keep the film grounded and keep the audience riveted . "
            ],
            "text/plain": [
              "<IPython.core.display.HTML object>"
            ]
          },
          "metadata": {
            "tags": []
          }
        },
        {
          "output_type": "stream",
          "text": [
            "[Succeeded / Failed / Total] 7 / 4 / 11:  44%|████▍     | 11/25 [00:30<00:38,  2.73s/it]"
          ],
          "name": "stderr"
        },
        {
          "output_type": "display_data",
          "data": {
            "text/html": [
              "<font color = red>Negative (100%)</font> --> <font color = green>Positive (89%)</font><br>it takes a strange <font color = red>kind</font> of <font color = red>laziness</font> to <font color = red>waste</font> the talents of robert forster , anne meara , eugene <font color = red>levy</font> , and reginald veljohnson all in the same <font color = red>movie</font> . <br>it takes a strange <font color = green>particular</font> of <font color = green>margarine</font> to <font color = green>raw</font> the talents of robert forster , anne meara , eugene <font color = green>shoemaker</font> , and reginald veljohnson all in the same <font color = green>film</font> . "
            ],
            "text/plain": [
              "<IPython.core.display.HTML object>"
            ]
          },
          "metadata": {
            "tags": []
          }
        },
        {
          "output_type": "stream",
          "text": [
            "[Succeeded / Failed / Total] 8 / 4 / 12:  48%|████▊     | 12/25 [00:32<00:35,  2.72s/it]"
          ],
          "name": "stderr"
        },
        {
          "output_type": "display_data",
          "data": {
            "text/html": [
              "<font color = red>Negative (100%)</font> --> <font color = red>[FAILED]</font><br>... the film suffers from a lack of humor ( something needed to balance out the violence ) ... "
            ],
            "text/plain": [
              "<IPython.core.display.HTML object>"
            ]
          },
          "metadata": {
            "tags": []
          }
        },
        {
          "output_type": "stream",
          "text": [
            "[Succeeded / Failed / Total] 8 / 5 / 13:  52%|█████▏    | 13/25 [00:36<00:33,  2.79s/it]"
          ],
          "name": "stderr"
        },
        {
          "output_type": "display_data",
          "data": {
            "text/html": [
              "<font color = green>Positive (72%)</font> --> <font color = red>Negative (87%)</font><br>we <font color = green>root</font> for ( clara and paul ) , even like them , though perhaps it 's an emotion closer to pity . <br>we <font color = red>endodontics</font> for ( clara and paul ) , even like them , though perhaps it 's an emotion closer to pity . "
            ],
            "text/plain": [
              "<IPython.core.display.HTML object>"
            ]
          },
          "metadata": {
            "tags": []
          }
        },
        {
          "output_type": "stream",
          "text": [
            "[Succeeded / Failed / Total] 9 / 5 / 14:  56%|█████▌    | 14/25 [00:36<00:28,  2.62s/it]"
          ],
          "name": "stderr"
        },
        {
          "output_type": "display_data",
          "data": {
            "text/html": [
              "<font color = red>Negative (100%)</font> --> <font color = green>Positive (99%)</font><br>even horror fans will most likely not find what they 're seeking with trouble every day ; the movie <font color = red>lacks</font> both thrills and humor . <br>even horror fans will most likely not find what they 're seeking with trouble every day ; the movie <font color = green>possesses</font> both thrills and humor . "
            ],
            "text/plain": [
              "<IPython.core.display.HTML object>"
            ]
          },
          "metadata": {
            "tags": []
          }
        },
        {
          "output_type": "stream",
          "text": [
            "[Succeeded / Failed / Total] 10 / 5 / 15:  60%|██████    | 15/25 [00:37<00:24,  2.48s/it]"
          ],
          "name": "stderr"
        },
        {
          "output_type": "display_data",
          "data": {
            "text/html": [
              "<font color = green>Positive (100%)</font> --> <font color = red>Negative (68%)</font><br>a <font color = green>gorgeous</font> , high-spirited <font color = green>musical</font> from india that <font color = green>exquisitely</font> blends music , dance , song , and <font color = green>high</font> drama . <br>a <font color = red>dumb</font> , high-spirited <font color = red>genres</font> from india that <font color = red>wisher</font> blends music , dance , song , and <font color = red>low</font> drama . "
            ],
            "text/plain": [
              "<IPython.core.display.HTML object>"
            ]
          },
          "metadata": {
            "tags": []
          }
        },
        {
          "output_type": "stream",
          "text": [
            "[Succeeded / Failed / Total] 11 / 5 / 16:  64%|██████▍   | 16/25 [00:38<00:21,  2.42s/it]"
          ],
          "name": "stderr"
        },
        {
          "output_type": "display_data",
          "data": {
            "text/html": [
              "<font color = green>Positive (98%)</font> --> <font color = red>Negative (56%)</font><br>the emotions are <font color = green>raw</font> and will strike a nerve with <font color = green>anyone</font> who 's ever had <font color = green>family</font> trauma . <br>the emotions are <font color = red>materials</font> and will strike a nerve with <font color = red>anybody</font> who 's ever had <font color = red>pantolambdodontidae</font> trauma . "
            ],
            "text/plain": [
              "<IPython.core.display.HTML object>"
            ]
          },
          "metadata": {
            "tags": []
          }
        },
        {
          "output_type": "stream",
          "text": [
            "[Succeeded / Failed / Total] 12 / 5 / 17:  68%|██████▊   | 17/25 [00:40<00:19,  2.39s/it]"
          ],
          "name": "stderr"
        },
        {
          "output_type": "display_data",
          "data": {
            "text/html": [
              "<font color = green>Positive (100%)</font> --> <font color = red>Negative (78%)</font><br>audrey tatou has a <font color = green>knack</font> for picking <font color = green>roles</font> that <font color = green>magnify</font> her outrageous charm , and in this literate french comedy , she 's as morning-glory <font color = green>exuberant</font> as she was in amélie . <br>audrey tatou has a <font color = red>transcribing</font> for picking <font color = red>supporting</font> that <font color = red>overwhelm</font> her outrageous charm , and in this literate french comedy , she 's as morning-glory <font color = red>interrogative</font> as she was in amélie . "
            ],
            "text/plain": [
              "<IPython.core.display.HTML object>"
            ]
          },
          "metadata": {
            "tags": []
          }
        },
        {
          "output_type": "stream",
          "text": [
            "[Succeeded / Failed / Total] 13 / 5 / 18:  72%|███████▏  | 18/25 [00:47<00:18,  2.66s/it]"
          ],
          "name": "stderr"
        },
        {
          "output_type": "display_data",
          "data": {
            "text/html": [
              "<font color = red>Negative (99%)</font> --> <font color = red>[FAILED]</font><br>... the movie is just a plain old monster . "
            ],
            "text/plain": [
              "<IPython.core.display.HTML object>"
            ]
          },
          "metadata": {
            "tags": []
          }
        },
        {
          "output_type": "stream",
          "text": [
            "[Succeeded / Failed / Total] 13 / 6 / 19:  76%|███████▌  | 19/25 [00:48<00:15,  2.55s/it]"
          ],
          "name": "stderr"
        },
        {
          "output_type": "display_data",
          "data": {
            "text/html": [
              "<font color = red>Negative (99%)</font> --> <font color = green>Positive (68%)</font><br>in its best <font color = red>moments</font> , <font color = red>resembles</font> a <font color = red>bad</font> high school <font color = red>production</font> of <font color = red>grease</font> , <font color = red>without</font> <font color = red>benefit</font> of <font color = red>song</font> . <br>in its best <font color = green>memorable</font> , <font color = green>resembled</font> a <font color = green>good</font> high school <font color = green>industry</font> of <font color = green>centimeter</font> , <font color = green>any</font> <font color = green>almos</font> of <font color = green>album</font> . "
            ],
            "text/plain": [
              "<IPython.core.display.HTML object>"
            ]
          },
          "metadata": {
            "tags": []
          }
        },
        {
          "output_type": "stream",
          "text": [
            "[Succeeded / Failed / Total] 14 / 6 / 20:  80%|████████  | 20/25 [00:54<00:13,  2.73s/it]"
          ],
          "name": "stderr"
        },
        {
          "output_type": "display_data",
          "data": {
            "text/html": [
              "<font color = red>Negative (63%)</font> --> <font color = green>Positive (96%)</font><br>pumpkin takes an admirable look at the hypocrisy of political correctness , but it does so with such an <font color = red>uneven</font> tone that you never know when humor ends and tragedy begins . <br>pumpkin takes an admirable look at the hypocrisy of political correctness , but it does so with such an <font color = green>astonishing</font> tone that you never know when humor ends and tragedy begins . "
            ],
            "text/plain": [
              "<IPython.core.display.HTML object>"
            ]
          },
          "metadata": {
            "tags": []
          }
        },
        {
          "output_type": "stream",
          "text": [
            "[Succeeded / Failed / Total] 15 / 6 / 21:  84%|████████▍ | 21/25 [00:55<00:10,  2.63s/it]"
          ],
          "name": "stderr"
        },
        {
          "output_type": "display_data",
          "data": {
            "text/html": [
              "<font color = red>Negative (97%)</font> --> <font color = red>[FAILED]</font><br>the iditarod lasts for days - this just felt like it did . "
            ],
            "text/plain": [
              "<IPython.core.display.HTML object>"
            ]
          },
          "metadata": {
            "tags": []
          }
        },
        {
          "output_type": "stream",
          "text": [
            "[Succeeded / Failed / Total] 15 / 7 / 22:  88%|████████▊ | 22/25 [00:56<00:07,  2.59s/it]"
          ],
          "name": "stderr"
        },
        {
          "output_type": "display_data",
          "data": {
            "text/html": [
              "<font color = red>Negative (66%)</font> --> <font color = green>Positive (58%)</font><br>holden <font color = red>caulfield</font> did it <font color = red>better</font> . <br>holden <font color = green>blumenthal</font> did it <font color = green>eret</font> . "
            ],
            "text/plain": [
              "<IPython.core.display.HTML object>"
            ]
          },
          "metadata": {
            "tags": []
          }
        },
        {
          "output_type": "stream",
          "text": [
            "[Succeeded / Failed / Total] 16 / 7 / 23:  92%|█████████▏| 23/25 [00:57<00:04,  2.49s/it]"
          ],
          "name": "stderr"
        },
        {
          "output_type": "display_data",
          "data": {
            "text/html": [
              "<font color = green>Positive (100%)</font> --> <font color = red>[FAILED]</font><br>a delectable and intriguing thriller filled with surprises , read my lips is an original . "
            ],
            "text/plain": [
              "<IPython.core.display.HTML object>"
            ]
          },
          "metadata": {
            "tags": []
          }
        },
        {
          "output_type": "stream",
          "text": [
            "[Succeeded / Failed / Total] 16 / 8 / 24:  96%|█████████▌| 24/25 [01:00<00:02,  2.53s/it]"
          ],
          "name": "stderr"
        },
        {
          "output_type": "display_data",
          "data": {
            "text/html": [
              "<font color = green>Positive (92%)</font> --> <font color = red>[FAILED]</font><br>seldom has a movie so closely matched the spirit of a man and his work . "
            ],
            "text/plain": [
              "<IPython.core.display.HTML object>"
            ]
          },
          "metadata": {
            "tags": []
          }
        },
        {
          "output_type": "stream",
          "text": [
            "[Succeeded / Failed / Total] 16 / 9 / 25: 100%|██████████| 25/25 [01:05<00:00,  2.61s/it]"
          ],
          "name": "stderr"
        },
        {
          "output_type": "stream",
          "text": [
            "+-------------------------------+--------+\n",
            "| Attack Results                |        |\n",
            "+-------------------------------+--------+\n",
            "| Number of successful attacks: | 16     |\n",
            "| Number of failed attacks:     | 9      |\n",
            "| Number of skipped attacks:    | 0      |\n",
            "| Original accuracy:            | 100.0% |\n",
            "| Accuracy under attack:        | 36.0%  |\n",
            "| Attack success rate:          | 64.0%  |\n",
            "| Average perturbed word %:     | 22.97% |\n",
            "| Average num. words per input: | 15.64  |\n",
            "| Avg num queries:              | 126.44 |\n",
            "+-------------------------------+--------+"
          ],
          "name": "stdout"
        },
        {
          "output_type": "stream",
          "text": [
            "\n",
            "\u001b[34;1mtextattack\u001b[0m: Attack time: 65.23223805427551s\n"
          ],
          "name": "stderr"
        }
      ]
    },
    {
      "cell_type": "code",
      "metadata": {
        "colab": {
          "base_uri": "https://localhost:8080/"
        },
        "id": "9jwrvRfhqKVj",
        "outputId": "40991a66-8b4d-4904-a286-c322ed4d7ec9"
      },
      "source": [
        "from textattack.search_methods import GreedyWordSwapWIR\n",
        "from textattack.constraints.grammaticality import PartOfSpeech\n",
        "from textattack.shared import Attack\n",
        "from textattack.goal_functions import UntargetedClassification\n",
        "from textattack.datasets import HuggingFaceDataset\n",
        "\n",
        "# We're going to use our word swap class as the attack transformation.\n",
        "transformation = Swapper()\n",
        "\n",
        "constraints = [PartOfSpeech()]\n",
        "\n",
        "search_method = GreedyWordSwapWIR()\n",
        "\n",
        "goal_function = UntargetedClassification(model_wrapper)\n",
        "\n",
        "# Now, let's make the attack from the 4 components:\n",
        "attack = Attack(goal_function, constraints, transformation, search_method)\n",
        "\n",
        "dataset = HuggingFaceDataset(\"glue\", \"sst2\", \"validation\") # Change the dataset"
      ],
      "execution_count": 42,
      "outputs": [
        {
          "output_type": "stream",
          "text": [
            "\u001b[34;1mtextattack\u001b[0m: Unknown if model of class <class 'transformers.models.albert.modeling_albert.AlbertForSequenceClassification'> compatible with goal function <class 'textattack.goal_functions.classification.untargeted_classification.UntargetedClassification'>.\n",
            "Reusing dataset glue (/root/.cache/huggingface/datasets/glue/sst2/1.0.0/dacbe3125aa31d7f70367a07a8a9e72a5a0bfeb5fc42e75c9db75b96da6053ad)\n",
            "\u001b[34;1mtextattack\u001b[0m: Loading \u001b[94mdatasets\u001b[0m dataset \u001b[94mglue\u001b[0m, subset \u001b[94msst2\u001b[0m, split \u001b[94mvalidation\u001b[0m.\n"
          ],
          "name": "stderr"
        }
      ]
    },
    {
      "cell_type": "code",
      "metadata": {
        "colab": {
          "base_uri": "https://localhost:8080/"
        },
        "id": "eCV5etswrzVY",
        "outputId": "ec4add43-7957-479c-b79e-2937e989b597"
      },
      "source": [
        "print(attack)"
      ],
      "execution_count": 43,
      "outputs": [
        {
          "output_type": "stream",
          "text": [
            "Attack(\n",
            "  (search_method): GreedyWordSwapWIR(\n",
            "    (wir_method):  unk\n",
            "  )\n",
            "  (goal_function):  UntargetedClassification\n",
            "  (transformation):  Swapper\n",
            "  (constraints): \n",
            "    (0): PartOfSpeech(\n",
            "        (tagger_type):  nltk\n",
            "        (tagset):  universal\n",
            "        (allow_verb_noun_swap):  True\n",
            "        (compare_against_original):  True\n",
            "      )\n",
            "  (is_black_box):  True\n",
            ")\n"
          ],
          "name": "stdout"
        }
      ]
    },
    {
      "cell_type": "code",
      "metadata": {
        "colab": {
          "base_uri": "https://localhost:8080/",
          "height": 1000
        },
        "id": "fQ4LYaHlsN4e",
        "outputId": "24d20035-f2d9-4be8-a472-c1ded69faa9a"
      },
      "source": [
        "printexample(attack)"
      ],
      "execution_count": 44,
      "outputs": [
        {
          "output_type": "stream",
          "text": [
            "\r  0%|          | 0/25 [00:00<?, ?it/s]"
          ],
          "name": "stderr"
        },
        {
          "output_type": "stream",
          "text": [
            "Attack(\n",
            "  (search_method): GreedyWordSwapWIR(\n",
            "    (wir_method):  unk\n",
            "  )\n",
            "  (goal_function):  UntargetedClassification\n",
            "  (transformation):  Swapper\n",
            "  (constraints): \n",
            "    (0): PartOfSpeech(\n",
            "        (tagger_type):  nltk\n",
            "        (tagset):  universal\n",
            "        (allow_verb_noun_swap):  True\n",
            "        (compare_against_original):  True\n",
            "      )\n",
            "  (is_black_box):  True\n",
            ")\n"
          ],
          "name": "stdout"
        },
        {
          "output_type": "display_data",
          "data": {
            "text/html": [
              "<font color = green>Positive (100%)</font> --> <font color = red>Negative (64%)</font><br>it 's a <font color = green>charming</font> and <font color = green>often</font> affecting journey . <br>it 's a <font color = red>harming</font> and <font color = red>sometimes</font> affecting journey . "
            ],
            "text/plain": [
              "<IPython.core.display.HTML object>"
            ]
          },
          "metadata": {
            "tags": []
          }
        },
        {
          "output_type": "stream",
          "text": [
            "[Succeeded / Failed / Total] 1 / 0 / 1:   4%|▍         | 1/25 [00:00<00:09,  2.41it/s]"
          ],
          "name": "stderr"
        },
        {
          "output_type": "display_data",
          "data": {
            "text/html": [
              "<font color = red>Negative (92%)</font> --> <font color = red>[FAILED]</font><br>unflinchingly bleak and desperate "
            ],
            "text/plain": [
              "<IPython.core.display.HTML object>"
            ]
          },
          "metadata": {
            "tags": []
          }
        },
        {
          "output_type": "stream",
          "text": [
            "[Succeeded / Failed / Total] 1 / 1 / 2:   8%|▊         | 2/25 [00:00<00:06,  3.57it/s]"
          ],
          "name": "stderr"
        },
        {
          "output_type": "display_data",
          "data": {
            "text/html": [
              "<font color = green>Positive (100%)</font> --> <font color = red>Negative (63%)</font><br>allows us to <font color = green>hope</font> <font color = green>that</font> <font color = green>nolan</font> is <font color = green>poised</font> to <font color = green>embark</font> a major <font color = green>career</font> as <font color = green>a</font> commercial <font color = green>yet</font> inventive filmmaker . <br>allows us to <font color = red>feelgood</font> <font color = red>which</font> <font color = red>colan</font> is <font color = red>gassed</font> to <font color = red>embargo</font> a major <font color = red>retirement</font> as <font color = red>the</font> commercial <font color = red>obviously</font> inventive filmmaker . "
            ],
            "text/plain": [
              "<IPython.core.display.HTML object>"
            ]
          },
          "metadata": {
            "tags": []
          }
        },
        {
          "output_type": "stream",
          "text": [
            "[Succeeded / Failed / Total] 2 / 1 / 3:  12%|█▏        | 3/25 [00:01<00:09,  2.33it/s]"
          ],
          "name": "stderr"
        },
        {
          "output_type": "display_data",
          "data": {
            "text/html": [
              "<font color = green>Positive (99%)</font> --> <font color = red>Negative (71%)</font><br>the acting , costumes , music , cinematography and sound <font color = green>are</font> all <font color = green>astounding</font> <font color = green>given</font> the production 's austere locales . <br>the acting , costumes , music , cinematography and sound <font color = red>were</font> all <font color = red>astounded</font> <font color = red>ascertained</font> the production 's austere locales . "
            ],
            "text/plain": [
              "<IPython.core.display.HTML object>"
            ]
          },
          "metadata": {
            "tags": []
          }
        },
        {
          "output_type": "stream",
          "text": [
            "[Succeeded / Failed / Total] 3 / 1 / 4:  16%|█▌        | 4/25 [00:01<00:08,  2.35it/s]"
          ],
          "name": "stderr"
        },
        {
          "output_type": "display_data",
          "data": {
            "text/html": [
              "<font color = red>Negative (99%)</font> --> <font color = red>[FAILED]</font><br>it 's slow -- very , very slow . "
            ],
            "text/plain": [
              "<IPython.core.display.HTML object>"
            ]
          },
          "metadata": {
            "tags": []
          }
        },
        {
          "output_type": "stream",
          "text": [
            "[Succeeded / Failed / Total] 3 / 2 / 5:  20%|██        | 5/25 [00:01<00:07,  2.52it/s]"
          ],
          "name": "stderr"
        },
        {
          "output_type": "display_data",
          "data": {
            "text/html": [
              "<font color = green>Positive (100%)</font> --> <font color = red>[FAILED]</font><br>although laced with humor and a few fanciful touches , the film is a refreshingly serious look at young women . "
            ],
            "text/plain": [
              "<IPython.core.display.HTML object>"
            ]
          },
          "metadata": {
            "tags": []
          }
        },
        {
          "output_type": "stream",
          "text": [
            "[Succeeded / Failed / Total] 3 / 3 / 6:  24%|██▍       | 6/25 [00:02<00:08,  2.16it/s]"
          ],
          "name": "stderr"
        },
        {
          "output_type": "display_data",
          "data": {
            "text/html": [
              "<font color = red>Negative (95%)</font> --> <font color = green>Positive (66%)</font><br>a <font color = red>sometimes</font> <font color = red>tedious</font> film . <br>a <font color = green>often</font> <font color = green>sidious</font> film . "
            ],
            "text/plain": [
              "<IPython.core.display.HTML object>"
            ]
          },
          "metadata": {
            "tags": []
          }
        },
        {
          "output_type": "stream",
          "text": [
            "[Succeeded / Failed / Total] 4 / 3 / 7:  28%|██▊       | 7/25 [00:02<00:07,  2.34it/s]"
          ],
          "name": "stderr"
        },
        {
          "output_type": "display_data",
          "data": {
            "text/html": [
              "<font color = red>Negative (90%)</font> --> <font color = red>[FAILED]</font><br>or doing last year 's taxes with your ex-wife . "
            ],
            "text/plain": [
              "<IPython.core.display.HTML object>"
            ]
          },
          "metadata": {
            "tags": []
          }
        },
        {
          "output_type": "stream",
          "text": [
            "[Succeeded / Failed / Total] 4 / 4 / 8:  32%|███▏      | 8/25 [00:03<00:07,  2.37it/s]"
          ],
          "name": "stderr"
        },
        {
          "output_type": "display_data",
          "data": {
            "text/html": [
              "<font color = green>Positive (80%)</font> --> <font color = red>Negative (60%)</font><br><font color = green>you</font> do n't have to know about music to appreciate the film 's <font color = green>easygoing</font> blend of comedy and romance . <br><font color = red>we</font> do n't have to know about music to appreciate the film 's <font color = red>foregoing</font> blend of comedy and romance . "
            ],
            "text/plain": [
              "<IPython.core.display.HTML object>"
            ]
          },
          "metadata": {
            "tags": []
          }
        },
        {
          "output_type": "stream",
          "text": [
            "[Succeeded / Failed / Total] 5 / 4 / 9:  36%|███▌      | 9/25 [00:03<00:06,  2.34it/s]"
          ],
          "name": "stderr"
        },
        {
          "output_type": "display_data",
          "data": {
            "text/html": [
              "<font color = red>Negative (97%)</font> --> <font color = red>[FAILED]</font><br>in exactly 89 minutes , most of which passed as slowly as if i 'd been sitting naked on an igloo , formula 51 sank from quirky to jerky to utter turkey . "
            ],
            "text/plain": [
              "<IPython.core.display.HTML object>"
            ]
          },
          "metadata": {
            "tags": []
          }
        },
        {
          "output_type": "stream",
          "text": [
            "[Succeeded / Failed / Total] 5 / 5 / 10:  40%|████      | 10/25 [00:05<00:07,  1.96it/s]"
          ],
          "name": "stderr"
        },
        {
          "output_type": "display_data",
          "data": {
            "text/html": [
              "<font color = green>Positive (100%)</font> --> <font color = red>[FAILED]</font><br>the mesmerizing performances of the leads keep the film grounded and keep the audience riveted . "
            ],
            "text/plain": [
              "<IPython.core.display.HTML object>"
            ]
          },
          "metadata": {
            "tags": []
          }
        },
        {
          "output_type": "stream",
          "text": [
            "[Succeeded / Failed / Total] 5 / 6 / 11:  44%|████▍     | 11/25 [00:05<00:07,  1.93it/s]"
          ],
          "name": "stderr"
        },
        {
          "output_type": "display_data",
          "data": {
            "text/html": [
              "<font color = red>Negative (100%)</font> --> <font color = green>Positive (51%)</font><br>it takes <font color = red>a</font> <font color = red>strange</font> kind of <font color = red>laziness</font> to <font color = red>waste</font> the talents of robert <font color = red>forster</font> , anne meara , eugene levy , and reginald veljohnson all in the <font color = red>same</font> movie . <br>it takes <font color = green>the</font> <font color = green>dreamy</font> kind of <font color = green>dizziness</font> to <font color = green>sewage</font> the talents of robert <font color = green>rster</font> , anne meara , eugene levy , and reginald veljohnson all in the <font color = green>usual</font> movie . "
            ],
            "text/plain": [
              "<IPython.core.display.HTML object>"
            ]
          },
          "metadata": {
            "tags": []
          }
        },
        {
          "output_type": "stream",
          "text": [
            "[Succeeded / Failed / Total] 6 / 6 / 12:  48%|████▊     | 12/25 [00:06<00:07,  1.83it/s]"
          ],
          "name": "stderr"
        },
        {
          "output_type": "display_data",
          "data": {
            "text/html": [
              "<font color = red>Negative (100%)</font> --> <font color = red>[FAILED]</font><br>... the film suffers from a lack of humor ( something needed to balance out the violence ) ... "
            ],
            "text/plain": [
              "<IPython.core.display.HTML object>"
            ]
          },
          "metadata": {
            "tags": []
          }
        },
        {
          "output_type": "stream",
          "text": [
            "[Succeeded / Failed / Total] 6 / 7 / 13:  52%|█████▏    | 13/25 [00:07<00:06,  1.81it/s]"
          ],
          "name": "stderr"
        },
        {
          "output_type": "display_data",
          "data": {
            "text/html": [
              "<font color = green>Positive (72%)</font> --> <font color = red>Negative (92%)</font><br>we <font color = green>root</font> for ( clara and paul ) , even like them , though perhaps it 's an emotion closer to pity . <br>we <font color = red>adjectival</font> for ( clara and paul ) , even like them , though perhaps it 's an emotion closer to pity . "
            ],
            "text/plain": [
              "<IPython.core.display.HTML object>"
            ]
          },
          "metadata": {
            "tags": []
          }
        },
        {
          "output_type": "stream",
          "text": [
            "[Succeeded / Failed / Total] 7 / 7 / 14:  56%|█████▌    | 14/25 [00:07<00:05,  1.85it/s]"
          ],
          "name": "stderr"
        },
        {
          "output_type": "display_data",
          "data": {
            "text/html": [
              "<font color = red>Negative (100%)</font> --> <font color = red>[FAILED]</font><br>even horror fans will most likely not find what they 're seeking with trouble every day ; the movie lacks both thrills and humor . "
            ],
            "text/plain": [
              "<IPython.core.display.HTML object>"
            ]
          },
          "metadata": {
            "tags": []
          }
        },
        {
          "output_type": "stream",
          "text": [
            "[Succeeded / Failed / Total] 7 / 8 / 15:  60%|██████    | 15/25 [00:08<00:05,  1.78it/s]"
          ],
          "name": "stderr"
        },
        {
          "output_type": "display_data",
          "data": {
            "text/html": [
              "<font color = green>Positive (100%)</font> --> <font color = red>[FAILED]</font><br>a gorgeous , high-spirited musical from india that exquisitely blends music , dance , song , and high drama . "
            ],
            "text/plain": [
              "<IPython.core.display.HTML object>"
            ]
          },
          "metadata": {
            "tags": []
          }
        },
        {
          "output_type": "stream",
          "text": [
            "[Succeeded / Failed / Total] 7 / 9 / 16:  64%|██████▍   | 16/25 [00:09<00:05,  1.75it/s]"
          ],
          "name": "stderr"
        },
        {
          "output_type": "display_data",
          "data": {
            "text/html": [
              "<font color = green>Positive (98%)</font> --> <font color = red>Negative (63%)</font><br>the <font color = green>emotions</font> <font color = green>are</font> raw and <font color = green>will</font> strike a <font color = green>nerve</font> with anyone who 's ever had family trauma . <br>the <font color = red>emotion</font> <font color = red>were</font> raw and <font color = red>would</font> strike a <font color = red>muscle</font> with anyone who 's ever had family trauma . "
            ],
            "text/plain": [
              "<IPython.core.display.HTML object>"
            ]
          },
          "metadata": {
            "tags": []
          }
        },
        {
          "output_type": "stream",
          "text": [
            "[Succeeded / Failed / Total] 8 / 9 / 17:  68%|██████▊   | 17/25 [00:09<00:04,  1.77it/s]"
          ],
          "name": "stderr"
        },
        {
          "output_type": "display_data",
          "data": {
            "text/html": [
              "<font color = green>Positive (100%)</font> --> <font color = red>[FAILED]</font><br>audrey tatou has a knack for picking roles that magnify her outrageous charm , and in this literate french comedy , she 's as morning-glory exuberant as she was in amélie . "
            ],
            "text/plain": [
              "<IPython.core.display.HTML object>"
            ]
          },
          "metadata": {
            "tags": []
          }
        },
        {
          "output_type": "stream",
          "text": [
            "[Succeeded / Failed / Total] 8 / 10 / 18:  72%|███████▏  | 18/25 [00:10<00:04,  1.66it/s]"
          ],
          "name": "stderr"
        },
        {
          "output_type": "display_data",
          "data": {
            "text/html": [
              "<font color = red>Negative (99%)</font> --> <font color = red>[FAILED]</font><br>... the movie is just a plain old monster . "
            ],
            "text/plain": [
              "<IPython.core.display.HTML object>"
            ]
          },
          "metadata": {
            "tags": []
          }
        },
        {
          "output_type": "stream",
          "text": [
            "[Succeeded / Failed / Total] 8 / 11 / 19:  76%|███████▌  | 19/25 [00:11<00:03,  1.70it/s]"
          ],
          "name": "stderr"
        },
        {
          "output_type": "display_data",
          "data": {
            "text/html": [
              "<font color = red>Negative (99%)</font> --> <font color = red>[FAILED]</font><br>in its best moments , resembles a bad high school production of grease , without benefit of song . "
            ],
            "text/plain": [
              "<IPython.core.display.HTML object>"
            ]
          },
          "metadata": {
            "tags": []
          }
        },
        {
          "output_type": "stream",
          "text": [
            "[Succeeded / Failed / Total] 8 / 12 / 20:  80%|████████  | 20/25 [00:11<00:02,  1.68it/s]"
          ],
          "name": "stderr"
        },
        {
          "output_type": "display_data",
          "data": {
            "text/html": [
              "<font color = red>Negative (63%)</font> --> <font color = green>Positive (55%)</font><br>pumpkin takes an admirable look at the hypocrisy of political correctness , but it does so with such an <font color = red>uneven</font> tone that you never know when humor ends and tragedy begins . <br>pumpkin takes an admirable look at the hypocrisy of political correctness , but it does so with such an <font color = green>unheated</font> tone that you never know when humor ends and tragedy begins . "
            ],
            "text/plain": [
              "<IPython.core.display.HTML object>"
            ]
          },
          "metadata": {
            "tags": []
          }
        },
        {
          "output_type": "stream",
          "text": [
            "[Succeeded / Failed / Total] 9 / 12 / 21:  84%|████████▍ | 21/25 [00:12<00:02,  1.68it/s]"
          ],
          "name": "stderr"
        },
        {
          "output_type": "display_data",
          "data": {
            "text/html": [
              "<font color = red>Negative (97%)</font> --> <font color = red>[FAILED]</font><br>the iditarod lasts for days - this just felt like it did . "
            ],
            "text/plain": [
              "<IPython.core.display.HTML object>"
            ]
          },
          "metadata": {
            "tags": []
          }
        },
        {
          "output_type": "stream",
          "text": [
            "[Succeeded / Failed / Total] 9 / 13 / 22:  88%|████████▊ | 22/25 [00:12<00:01,  1.70it/s]"
          ],
          "name": "stderr"
        },
        {
          "output_type": "display_data",
          "data": {
            "text/html": [
              "<font color = red>Negative (66%)</font> --> <font color = green>Positive (61%)</font><br>holden caulfield <font color = red>did</font> it better . <br>holden caulfield <font color = green>does</font> it better . "
            ],
            "text/plain": [
              "<IPython.core.display.HTML object>"
            ]
          },
          "metadata": {
            "tags": []
          }
        },
        {
          "output_type": "stream",
          "text": [
            "[Succeeded / Failed / Total] 10 / 13 / 23:  92%|█████████▏| 23/25 [00:13<00:01,  1.76it/s]"
          ],
          "name": "stderr"
        },
        {
          "output_type": "display_data",
          "data": {
            "text/html": [
              "<font color = green>Positive (100%)</font> --> <font color = red>[FAILED]</font><br>a delectable and intriguing thriller filled with surprises , read my lips is an original . "
            ],
            "text/plain": [
              "<IPython.core.display.HTML object>"
            ]
          },
          "metadata": {
            "tags": []
          }
        },
        {
          "output_type": "stream",
          "text": [
            "[Succeeded / Failed / Total] 10 / 14 / 24:  96%|█████████▌| 24/25 [00:13<00:00,  1.75it/s]"
          ],
          "name": "stderr"
        },
        {
          "output_type": "display_data",
          "data": {
            "text/html": [
              "<font color = green>Positive (92%)</font> --> <font color = red>Negative (61%)</font><br>seldom has a movie <font color = green>so</font> <font color = green>closely</font> matched the spirit of a man and his work . <br>seldom has a movie <font color = red>knowingly</font> <font color = red>loosely</font> matched the spirit of a man and his work . "
            ],
            "text/plain": [
              "<IPython.core.display.HTML object>"
            ]
          },
          "metadata": {
            "tags": []
          }
        },
        {
          "output_type": "stream",
          "text": [
            "[Succeeded / Failed / Total] 11 / 14 / 25: 100%|██████████| 25/25 [00:14<00:00,  1.77it/s]"
          ],
          "name": "stderr"
        },
        {
          "output_type": "stream",
          "text": [
            "+-------------------------------+--------+\n",
            "| Attack Results                |        |\n",
            "+-------------------------------+--------+\n",
            "| Number of successful attacks: | 11     |\n",
            "| Number of failed attacks:     | 14     |\n",
            "| Number of skipped attacks:    | 0      |\n",
            "| Original accuracy:            | 100.0% |\n",
            "| Accuracy under attack:        | 56.0%  |\n",
            "| Attack success rate:          | 44.0%  |\n",
            "| Average perturbed word %:     | 21.38% |\n",
            "| Average num. words per input: | 15.64  |\n",
            "| Avg num queries:              | 24.28  |\n",
            "+-------------------------------+--------+"
          ],
          "name": "stdout"
        },
        {
          "output_type": "stream",
          "text": [
            "\n",
            "\u001b[34;1mtextattack\u001b[0m: Attack time: 14.156710863113403s\n"
          ],
          "name": "stderr"
        }
      ]
    },
    {
      "cell_type": "code",
      "metadata": {
        "colab": {
          "base_uri": "https://localhost:8080/"
        },
        "id": "YX8hOBEXsRu2",
        "outputId": "42fd520f-b55a-435d-9482-6afcff188713"
      },
      "source": [
        "from textattack.search_methods import GreedyWordSwapWIR\n",
        "from textattack.constraints.grammaticality import PartOfSpeech\n",
        "from textattack.shared import Attack\n",
        "from textattack.goal_functions import UntargetedClassification\n",
        "from textattack.datasets import HuggingFaceDataset\n",
        "\n",
        "# We're going to use our word swap class as the attack transformation.\n",
        "transformation = Swapper_()\n",
        "\n",
        "constraints = [PartOfSpeech()]\n",
        "\n",
        "search_method = GreedyWordSwapWIR()\n",
        "\n",
        "goal_function = UntargetedClassification(model_wrapper)\n",
        "\n",
        "# Now, let's make the attack from the 4 components:\n",
        "attack = Attack(goal_function, constraints, transformation, search_method)\n",
        "\n",
        "dataset = HuggingFaceDataset(\"glue\", \"sst2\", \"validation\") # Change the dataset"
      ],
      "execution_count": 45,
      "outputs": [
        {
          "output_type": "stream",
          "text": [
            "\u001b[34;1mtextattack\u001b[0m: Unknown if model of class <class 'transformers.models.albert.modeling_albert.AlbertForSequenceClassification'> compatible with goal function <class 'textattack.goal_functions.classification.untargeted_classification.UntargetedClassification'>.\n",
            "Reusing dataset glue (/root/.cache/huggingface/datasets/glue/sst2/1.0.0/dacbe3125aa31d7f70367a07a8a9e72a5a0bfeb5fc42e75c9db75b96da6053ad)\n",
            "\u001b[34;1mtextattack\u001b[0m: Loading \u001b[94mdatasets\u001b[0m dataset \u001b[94mglue\u001b[0m, subset \u001b[94msst2\u001b[0m, split \u001b[94mvalidation\u001b[0m.\n"
          ],
          "name": "stderr"
        }
      ]
    },
    {
      "cell_type": "code",
      "metadata": {
        "colab": {
          "base_uri": "https://localhost:8080/"
        },
        "id": "z3sSVm0q1F8F",
        "outputId": "9b6462e2-1f3b-4573-adb9-311f0f20c3a9"
      },
      "source": [
        "print(attack)"
      ],
      "execution_count": 46,
      "outputs": [
        {
          "output_type": "stream",
          "text": [
            "Attack(\n",
            "  (search_method): GreedyWordSwapWIR(\n",
            "    (wir_method):  unk\n",
            "  )\n",
            "  (goal_function):  UntargetedClassification\n",
            "  (transformation):  Swapper_\n",
            "  (constraints): \n",
            "    (0): PartOfSpeech(\n",
            "        (tagger_type):  nltk\n",
            "        (tagset):  universal\n",
            "        (allow_verb_noun_swap):  True\n",
            "        (compare_against_original):  True\n",
            "      )\n",
            "  (is_black_box):  True\n",
            ")\n"
          ],
          "name": "stdout"
        }
      ]
    },
    {
      "cell_type": "code",
      "metadata": {
        "colab": {
          "base_uri": "https://localhost:8080/",
          "height": 1000
        },
        "id": "78FFw18K1Hkb",
        "outputId": "0f3105a0-3b2c-4532-cb8e-00456a5771a0"
      },
      "source": [
        "printexample(attack)"
      ],
      "execution_count": 47,
      "outputs": [
        {
          "output_type": "stream",
          "text": [
            "\r  0%|          | 0/25 [00:00<?, ?it/s]"
          ],
          "name": "stderr"
        },
        {
          "output_type": "stream",
          "text": [
            "Attack(\n",
            "  (search_method): GreedyWordSwapWIR(\n",
            "    (wir_method):  unk\n",
            "  )\n",
            "  (goal_function):  UntargetedClassification\n",
            "  (transformation):  Swapper_\n",
            "  (constraints): \n",
            "    (0): PartOfSpeech(\n",
            "        (tagger_type):  nltk\n",
            "        (tagset):  universal\n",
            "        (allow_verb_noun_swap):  True\n",
            "        (compare_against_original):  True\n",
            "      )\n",
            "  (is_black_box):  True\n",
            ")\n"
          ],
          "name": "stdout"
        },
        {
          "output_type": "display_data",
          "data": {
            "text/html": [
              "<font color = green>Positive (100%)</font> --> <font color = red>[FAILED]</font><br>it 's a charming and often affecting journey . "
            ],
            "text/plain": [
              "<IPython.core.display.HTML object>"
            ]
          },
          "metadata": {
            "tags": []
          }
        },
        {
          "output_type": "stream",
          "text": [
            "[Succeeded / Failed / Total] 0 / 1 / 1:   4%|▍         | 1/25 [00:00<00:07,  3.07it/s]"
          ],
          "name": "stderr"
        },
        {
          "output_type": "display_data",
          "data": {
            "text/html": [
              "<font color = red>Negative (92%)</font> --> <font color = red>[FAILED]</font><br>unflinchingly bleak and desperate "
            ],
            "text/plain": [
              "<IPython.core.display.HTML object>"
            ]
          },
          "metadata": {
            "tags": []
          }
        },
        {
          "output_type": "stream",
          "text": [
            "[Succeeded / Failed / Total] 0 / 2 / 2:   8%|▊         | 2/25 [00:00<00:05,  4.32it/s]"
          ],
          "name": "stderr"
        },
        {
          "output_type": "display_data",
          "data": {
            "text/html": [
              "<font color = green>Positive (100%)</font> --> <font color = red>[FAILED]</font><br>allows us to hope that nolan is poised to embark a major career as a commercial yet inventive filmmaker . "
            ],
            "text/plain": [
              "<IPython.core.display.HTML object>"
            ]
          },
          "metadata": {
            "tags": []
          }
        },
        {
          "output_type": "stream",
          "text": [
            "[Succeeded / Failed / Total] 0 / 3 / 3:  12%|█▏        | 3/25 [00:01<00:08,  2.50it/s]"
          ],
          "name": "stderr"
        },
        {
          "output_type": "display_data",
          "data": {
            "text/html": [
              "<font color = green>Positive (99%)</font> --> <font color = red>Negative (72%)</font><br>the acting , <font color = green>costumes</font> , music , <font color = green>cinematography</font> and sound <font color = green>are</font> all astounding <font color = green>given</font> the production 's austere <font color = green>locales</font> . <br>the acting , <font color = red>outfits</font> , music , <font color = red>cine</font> and sound <font color = red>were</font> all astounding <font color = red>assigning</font> the production 's austere <font color = red>idiosyncrasies</font> . "
            ],
            "text/plain": [
              "<IPython.core.display.HTML object>"
            ]
          },
          "metadata": {
            "tags": []
          }
        },
        {
          "output_type": "stream",
          "text": [
            "[Succeeded / Failed / Total] 1 / 3 / 4:  16%|█▌        | 4/25 [00:01<00:09,  2.32it/s]"
          ],
          "name": "stderr"
        },
        {
          "output_type": "display_data",
          "data": {
            "text/html": [
              "<font color = red>Negative (99%)</font> --> <font color = red>[FAILED]</font><br>it 's slow -- very , very slow . "
            ],
            "text/plain": [
              "<IPython.core.display.HTML object>"
            ]
          },
          "metadata": {
            "tags": []
          }
        },
        {
          "output_type": "stream",
          "text": [
            "[Succeeded / Failed / Total] 1 / 4 / 5:  20%|██        | 5/25 [00:02<00:08,  2.48it/s]"
          ],
          "name": "stderr"
        },
        {
          "output_type": "display_data",
          "data": {
            "text/html": [
              "<font color = green>Positive (100%)</font> --> <font color = red>[FAILED]</font><br>although laced with humor and a few fanciful touches , the film is a refreshingly serious look at young women . "
            ],
            "text/plain": [
              "<IPython.core.display.HTML object>"
            ]
          },
          "metadata": {
            "tags": []
          }
        },
        {
          "output_type": "stream",
          "text": [
            "[Succeeded / Failed / Total] 1 / 5 / 6:  24%|██▍       | 6/25 [00:02<00:08,  2.17it/s]"
          ],
          "name": "stderr"
        },
        {
          "output_type": "display_data",
          "data": {
            "text/html": [
              "<font color = red>Negative (95%)</font> --> <font color = red>[FAILED]</font><br>a sometimes tedious film . "
            ],
            "text/plain": [
              "<IPython.core.display.HTML object>"
            ]
          },
          "metadata": {
            "tags": []
          }
        },
        {
          "output_type": "stream",
          "text": [
            "[Succeeded / Failed / Total] 1 / 6 / 7:  28%|██▊       | 7/25 [00:02<00:07,  2.38it/s]"
          ],
          "name": "stderr"
        },
        {
          "output_type": "display_data",
          "data": {
            "text/html": [
              "<font color = red>Negative (90%)</font> --> <font color = red>[FAILED]</font><br>or doing last year 's taxes with your ex-wife . "
            ],
            "text/plain": [
              "<IPython.core.display.HTML object>"
            ]
          },
          "metadata": {
            "tags": []
          }
        },
        {
          "output_type": "stream",
          "text": [
            "[Succeeded / Failed / Total] 1 / 7 / 8:  32%|███▏      | 8/25 [00:03<00:06,  2.44it/s]"
          ],
          "name": "stderr"
        },
        {
          "output_type": "display_data",
          "data": {
            "text/html": [
              "<font color = green>Positive (80%)</font> --> <font color = red>Negative (91%)</font><br><font color = green>you</font> do n't have to know about music to <font color = green>appreciate</font> the film 's easygoing blend of <font color = green>comedy</font> and romance . <br><font color = red>we</font> do n't have to know about music to <font color = red>undo</font> the film 's easygoing blend of <font color = red>drama</font> and romance . "
            ],
            "text/plain": [
              "<IPython.core.display.HTML object>"
            ]
          },
          "metadata": {
            "tags": []
          }
        },
        {
          "output_type": "stream",
          "text": [
            "[Succeeded / Failed / Total] 2 / 7 / 9:  36%|███▌      | 9/25 [00:03<00:06,  2.36it/s]"
          ],
          "name": "stderr"
        },
        {
          "output_type": "display_data",
          "data": {
            "text/html": [
              "<font color = red>Negative (97%)</font> --> <font color = red>[FAILED]</font><br>in exactly 89 minutes , most of which passed as slowly as if i 'd been sitting naked on an igloo , formula 51 sank from quirky to jerky to utter turkey . "
            ],
            "text/plain": [
              "<IPython.core.display.HTML object>"
            ]
          },
          "metadata": {
            "tags": []
          }
        },
        {
          "output_type": "stream",
          "text": [
            "[Succeeded / Failed / Total] 2 / 8 / 10:  40%|████      | 10/25 [00:04<00:07,  2.01it/s]"
          ],
          "name": "stderr"
        },
        {
          "output_type": "display_data",
          "data": {
            "text/html": [
              "<font color = green>Positive (100%)</font> --> <font color = red>[FAILED]</font><br>the mesmerizing performances of the leads keep the film grounded and keep the audience riveted . "
            ],
            "text/plain": [
              "<IPython.core.display.HTML object>"
            ]
          },
          "metadata": {
            "tags": []
          }
        },
        {
          "output_type": "stream",
          "text": [
            "[Succeeded / Failed / Total] 2 / 9 / 11:  44%|████▍     | 11/25 [00:05<00:07,  1.99it/s]"
          ],
          "name": "stderr"
        },
        {
          "output_type": "display_data",
          "data": {
            "text/html": [
              "<font color = red>Negative (100%)</font> --> <font color = green>Positive (60%)</font><br>it takes a strange kind of <font color = red>laziness</font> to <font color = red>waste</font> the talents of robert forster , anne meara , eugene levy , and reginald veljohnson all in the same movie . <br>it takes a strange kind of <font color = green>shadowing</font> to <font color = green>potable</font> the talents of robert forster , anne meara , eugene levy , and reginald veljohnson all in the same movie . "
            ],
            "text/plain": [
              "<IPython.core.display.HTML object>"
            ]
          },
          "metadata": {
            "tags": []
          }
        },
        {
          "output_type": "stream",
          "text": [
            "[Succeeded / Failed / Total] 3 / 9 / 12:  48%|████▊     | 12/25 [00:06<00:06,  1.96it/s]"
          ],
          "name": "stderr"
        },
        {
          "output_type": "display_data",
          "data": {
            "text/html": [
              "<font color = red>Negative (100%)</font> --> <font color = red>[FAILED]</font><br>... the film suffers from a lack of humor ( something needed to balance out the violence ) ... "
            ],
            "text/plain": [
              "<IPython.core.display.HTML object>"
            ]
          },
          "metadata": {
            "tags": []
          }
        },
        {
          "output_type": "stream",
          "text": [
            "[Succeeded / Failed / Total] 3 / 10 / 13:  52%|█████▏    | 13/25 [00:06<00:06,  1.93it/s]"
          ],
          "name": "stderr"
        },
        {
          "output_type": "display_data",
          "data": {
            "text/html": [
              "<font color = green>Positive (72%)</font> --> <font color = red>Negative (69%)</font><br>we <font color = green>root</font> for ( clara and paul ) , even like them , though perhaps it 's an emotion closer to pity . <br>we <font color = red>untie</font> for ( clara and paul ) , even like them , though perhaps it 's an emotion closer to pity . "
            ],
            "text/plain": [
              "<IPython.core.display.HTML object>"
            ]
          },
          "metadata": {
            "tags": []
          }
        },
        {
          "output_type": "stream",
          "text": [
            "[Succeeded / Failed / Total] 4 / 10 / 14:  56%|█████▌    | 14/25 [00:07<00:05,  1.96it/s]"
          ],
          "name": "stderr"
        },
        {
          "output_type": "display_data",
          "data": {
            "text/html": [
              "<font color = red>Negative (100%)</font> --> <font color = green>Positive (98%)</font><br>even horror fans will most likely not find what they 're seeking with trouble every day ; the movie <font color = red>lacks</font> both thrills and humor . <br>even horror fans will most likely not find what they 're seeking with trouble every day ; the movie <font color = green>renders</font> both thrills and humor . "
            ],
            "text/plain": [
              "<IPython.core.display.HTML object>"
            ]
          },
          "metadata": {
            "tags": []
          }
        },
        {
          "output_type": "stream",
          "text": [
            "[Succeeded / Failed / Total] 5 / 10 / 15:  60%|██████    | 15/25 [00:07<00:05,  1.97it/s]"
          ],
          "name": "stderr"
        },
        {
          "output_type": "display_data",
          "data": {
            "text/html": [
              "<font color = green>Positive (100%)</font> --> <font color = red>[FAILED]</font><br>a gorgeous , high-spirited musical from india that exquisitely blends music , dance , song , and high drama . "
            ],
            "text/plain": [
              "<IPython.core.display.HTML object>"
            ]
          },
          "metadata": {
            "tags": []
          }
        },
        {
          "output_type": "stream",
          "text": [
            "[Succeeded / Failed / Total] 5 / 11 / 16:  64%|██████▍   | 16/25 [00:08<00:04,  1.95it/s]"
          ],
          "name": "stderr"
        },
        {
          "output_type": "display_data",
          "data": {
            "text/html": [
              "<font color = green>Positive (98%)</font> --> <font color = red>Negative (50%)</font><br>the <font color = green>emotions</font> <font color = green>are</font> <font color = green>raw</font> and <font color = green>will</font> strike a nerve with anyone who 's ever had family trauma . <br>the <font color = red>emotion</font> <font color = red>were</font> <font color = red>perishable</font> and <font color = red>would</font> strike a nerve with anyone who 's ever had family trauma . "
            ],
            "text/plain": [
              "<IPython.core.display.HTML object>"
            ]
          },
          "metadata": {
            "tags": []
          }
        },
        {
          "output_type": "stream",
          "text": [
            "[Succeeded / Failed / Total] 6 / 11 / 17:  68%|██████▊   | 17/25 [00:08<00:04,  1.96it/s]"
          ],
          "name": "stderr"
        },
        {
          "output_type": "display_data",
          "data": {
            "text/html": [
              "<font color = green>Positive (100%)</font> --> <font color = red>[FAILED]</font><br>audrey tatou has a knack for picking roles that magnify her outrageous charm , and in this literate french comedy , she 's as morning-glory exuberant as she was in amélie . "
            ],
            "text/plain": [
              "<IPython.core.display.HTML object>"
            ]
          },
          "metadata": {
            "tags": []
          }
        },
        {
          "output_type": "stream",
          "text": [
            "[Succeeded / Failed / Total] 6 / 12 / 18:  72%|███████▏  | 18/25 [00:09<00:03,  1.84it/s]"
          ],
          "name": "stderr"
        },
        {
          "output_type": "display_data",
          "data": {
            "text/html": [
              "<font color = red>Negative (99%)</font> --> <font color = red>[FAILED]</font><br>... the movie is just a plain old monster . "
            ],
            "text/plain": [
              "<IPython.core.display.HTML object>"
            ]
          },
          "metadata": {
            "tags": []
          }
        },
        {
          "output_type": "stream",
          "text": [
            "[Succeeded / Failed / Total] 6 / 13 / 19:  76%|███████▌  | 19/25 [00:10<00:03,  1.88it/s]"
          ],
          "name": "stderr"
        },
        {
          "output_type": "display_data",
          "data": {
            "text/html": [
              "<font color = red>Negative (99%)</font> --> <font color = green>Positive (65%)</font><br><font color = red>in</font> its best moments , resembles a <font color = red>bad</font> high school production of <font color = red>grease</font> , without <font color = red>benefit</font> of song . <br><font color = green>throughout</font> its best moments , resembles a <font color = green>good</font> high school production of <font color = green>leaded</font> , without <font color = green>accrue</font> of song . "
            ],
            "text/plain": [
              "<IPython.core.display.HTML object>"
            ]
          },
          "metadata": {
            "tags": []
          }
        },
        {
          "output_type": "stream",
          "text": [
            "[Succeeded / Failed / Total] 7 / 13 / 20:  80%|████████  | 20/25 [00:10<00:02,  1.88it/s]"
          ],
          "name": "stderr"
        },
        {
          "output_type": "display_data",
          "data": {
            "text/html": [
              "<font color = red>Negative (63%)</font> --> <font color = green>Positive (93%)</font><br>pumpkin takes an admirable look at the hypocrisy of political correctness , but it does so with such an <font color = red>uneven</font> tone that you never know when humor ends and tragedy begins . <br>pumpkin takes an admirable look at the hypocrisy of political correctness , but it does so with such an <font color = green>precipitous</font> tone that you never know when humor ends and tragedy begins . "
            ],
            "text/plain": [
              "<IPython.core.display.HTML object>"
            ]
          },
          "metadata": {
            "tags": []
          }
        },
        {
          "output_type": "stream",
          "text": [
            "[Succeeded / Failed / Total] 8 / 13 / 21:  84%|████████▍ | 21/25 [00:11<00:02,  1.87it/s]"
          ],
          "name": "stderr"
        },
        {
          "output_type": "display_data",
          "data": {
            "text/html": [
              "<font color = red>Negative (97%)</font> --> <font color = red>[FAILED]</font><br>the iditarod lasts for days - this just felt like it did . "
            ],
            "text/plain": [
              "<IPython.core.display.HTML object>"
            ]
          },
          "metadata": {
            "tags": []
          }
        },
        {
          "output_type": "stream",
          "text": [
            "[Succeeded / Failed / Total] 8 / 14 / 22:  88%|████████▊ | 22/25 [00:11<00:01,  1.88it/s]"
          ],
          "name": "stderr"
        },
        {
          "output_type": "display_data",
          "data": {
            "text/html": [
              "<font color = red>Negative (66%)</font> --> <font color = green>Positive (61%)</font><br>holden caulfield <font color = red>did</font> it better . <br>holden caulfield <font color = green>does</font> it better . "
            ],
            "text/plain": [
              "<IPython.core.display.HTML object>"
            ]
          },
          "metadata": {
            "tags": []
          }
        },
        {
          "output_type": "stream",
          "text": [
            "[Succeeded / Failed / Total] 9 / 14 / 23:  92%|█████████▏| 23/25 [00:11<00:01,  1.94it/s]"
          ],
          "name": "stderr"
        },
        {
          "output_type": "display_data",
          "data": {
            "text/html": [
              "<font color = green>Positive (100%)</font> --> <font color = red>[FAILED]</font><br>a delectable and intriguing thriller filled with surprises , read my lips is an original . "
            ],
            "text/plain": [
              "<IPython.core.display.HTML object>"
            ]
          },
          "metadata": {
            "tags": []
          }
        },
        {
          "output_type": "stream",
          "text": [
            "[Succeeded / Failed / Total] 9 / 15 / 24:  96%|█████████▌| 24/25 [00:12<00:00,  1.94it/s]"
          ],
          "name": "stderr"
        },
        {
          "output_type": "display_data",
          "data": {
            "text/html": [
              "<font color = green>Positive (92%)</font> --> <font color = red>Negative (58%)</font><br>seldom has a movie so closely matched the <font color = green>spirit</font> of a <font color = green>man</font> and his <font color = green>work</font> . <br>seldom has a movie so closely matched the <font color = red>incarnate</font> of a <font color = red>girl</font> and his <font color = red>aphorism</font> . "
            ],
            "text/plain": [
              "<IPython.core.display.HTML object>"
            ]
          },
          "metadata": {
            "tags": []
          }
        },
        {
          "output_type": "stream",
          "text": [
            "[Succeeded / Failed / Total] 10 / 15 / 25: 100%|██████████| 25/25 [00:12<00:00,  1.94it/s]"
          ],
          "name": "stderr"
        },
        {
          "output_type": "stream",
          "text": [
            "+-------------------------------+--------+\n",
            "| Attack Results                |        |\n",
            "+-------------------------------+--------+\n",
            "| Number of successful attacks: | 10     |\n",
            "| Number of failed attacks:     | 15     |\n",
            "| Number of skipped attacks:    | 0      |\n",
            "| Original accuracy:            | 100.0% |\n",
            "| Accuracy under attack:        | 60.0%  |\n",
            "| Attack success rate:          | 40.0%  |\n",
            "| Average perturbed word %:     | 15.65% |\n",
            "| Average num. words per input: | 15.64  |\n",
            "| Avg num queries:              | 23.04  |\n",
            "+-------------------------------+--------+"
          ],
          "name": "stdout"
        },
        {
          "output_type": "stream",
          "text": [
            "\n",
            "\u001b[34;1mtextattack\u001b[0m: Attack time: 12.871306896209717s\n"
          ],
          "name": "stderr"
        }
      ]
    },
    {
      "cell_type": "code",
      "metadata": {
        "colab": {
          "base_uri": "https://localhost:8080/"
        },
        "id": "qDpOZWJXPe_o",
        "outputId": "75de4aa8-9019-452d-fe9d-a415b6540f9c"
      },
      "source": [
        "from textattack.search_methods import GreedyWordSwapWIR\n",
        "from textattack.constraints.grammaticality import PartOfSpeech\n",
        "from textattack.shared import Attack\n",
        "from textattack.goal_functions import UntargetedClassification\n",
        "from textattack.datasets import HuggingFaceDataset\n",
        "\n",
        "# We're going to use our word swap class as the attack transformation.\n",
        "transformation = Swapper__()\n",
        "\n",
        "constraints = [PartOfSpeech()]\n",
        "\n",
        "search_method = GreedyWordSwapWIR()\n",
        "\n",
        "goal_function = UntargetedClassification(model_wrapper)\n",
        "\n",
        "# Now, let's make the attack from the 4 components:\n",
        "attack = Attack(goal_function, constraints, transformation, search_method)\n",
        "\n",
        "dataset = HuggingFaceDataset(\"glue\", \"sst2\", \"validation\") # Change the dataset"
      ],
      "execution_count": 48,
      "outputs": [
        {
          "output_type": "stream",
          "text": [
            "\u001b[34;1mtextattack\u001b[0m: Unknown if model of class <class 'transformers.models.albert.modeling_albert.AlbertForSequenceClassification'> compatible with goal function <class 'textattack.goal_functions.classification.untargeted_classification.UntargetedClassification'>.\n",
            "Reusing dataset glue (/root/.cache/huggingface/datasets/glue/sst2/1.0.0/dacbe3125aa31d7f70367a07a8a9e72a5a0bfeb5fc42e75c9db75b96da6053ad)\n",
            "\u001b[34;1mtextattack\u001b[0m: Loading \u001b[94mdatasets\u001b[0m dataset \u001b[94mglue\u001b[0m, subset \u001b[94msst2\u001b[0m, split \u001b[94mvalidation\u001b[0m.\n"
          ],
          "name": "stderr"
        }
      ]
    },
    {
      "cell_type": "code",
      "metadata": {
        "colab": {
          "base_uri": "https://localhost:8080/"
        },
        "id": "ir08WYOBQmjK",
        "outputId": "58e95bba-367a-4ad0-c6c0-189e04302a18"
      },
      "source": [
        "print(attack)"
      ],
      "execution_count": 49,
      "outputs": [
        {
          "output_type": "stream",
          "text": [
            "Attack(\n",
            "  (search_method): GreedyWordSwapWIR(\n",
            "    (wir_method):  unk\n",
            "  )\n",
            "  (goal_function):  UntargetedClassification\n",
            "  (transformation):  Swapper__\n",
            "  (constraints): \n",
            "    (0): PartOfSpeech(\n",
            "        (tagger_type):  nltk\n",
            "        (tagset):  universal\n",
            "        (allow_verb_noun_swap):  True\n",
            "        (compare_against_original):  True\n",
            "      )\n",
            "  (is_black_box):  True\n",
            ")\n"
          ],
          "name": "stdout"
        }
      ]
    },
    {
      "cell_type": "code",
      "metadata": {
        "colab": {
          "base_uri": "https://localhost:8080/",
          "height": 1000
        },
        "id": "R4Pio6_BQoS6",
        "outputId": "85867973-3f16-4441-f972-e5e999f20220"
      },
      "source": [
        "printexample(attack)"
      ],
      "execution_count": 50,
      "outputs": [
        {
          "output_type": "stream",
          "text": [
            "\r  0%|          | 0/25 [00:00<?, ?it/s]"
          ],
          "name": "stderr"
        },
        {
          "output_type": "stream",
          "text": [
            "Attack(\n",
            "  (search_method): GreedyWordSwapWIR(\n",
            "    (wir_method):  unk\n",
            "  )\n",
            "  (goal_function):  UntargetedClassification\n",
            "  (transformation):  Swapper__\n",
            "  (constraints): \n",
            "    (0): PartOfSpeech(\n",
            "        (tagger_type):  nltk\n",
            "        (tagset):  universal\n",
            "        (allow_verb_noun_swap):  True\n",
            "        (compare_against_original):  True\n",
            "      )\n",
            "  (is_black_box):  True\n",
            ")\n"
          ],
          "name": "stdout"
        },
        {
          "output_type": "display_data",
          "data": {
            "text/html": [
              "<font color = green>Positive (100%)</font> --> <font color = red>[FAILED]</font><br>it 's a charming and often affecting journey . "
            ],
            "text/plain": [
              "<IPython.core.display.HTML object>"
            ]
          },
          "metadata": {
            "tags": []
          }
        },
        {
          "output_type": "stream",
          "text": [
            "[Succeeded / Failed / Total] 0 / 1 / 1:   4%|▍         | 1/25 [00:00<00:10,  2.24it/s]"
          ],
          "name": "stderr"
        },
        {
          "output_type": "display_data",
          "data": {
            "text/html": [
              "<font color = red>Negative (92%)</font> --> <font color = red>[FAILED]</font><br>unflinchingly bleak and desperate "
            ],
            "text/plain": [
              "<IPython.core.display.HTML object>"
            ]
          },
          "metadata": {
            "tags": []
          }
        },
        {
          "output_type": "stream",
          "text": [
            "[Succeeded / Failed / Total] 0 / 2 / 2:   8%|▊         | 2/25 [00:00<00:07,  3.04it/s]"
          ],
          "name": "stderr"
        },
        {
          "output_type": "display_data",
          "data": {
            "text/html": [
              "<font color = green>Positive (100%)</font> --> <font color = red>[FAILED]</font><br>allows us to hope that nolan is poised to embark a major career as a commercial yet inventive filmmaker . "
            ],
            "text/plain": [
              "<IPython.core.display.HTML object>"
            ]
          },
          "metadata": {
            "tags": []
          }
        },
        {
          "output_type": "stream",
          "text": [
            "[Succeeded / Failed / Total] 0 / 3 / 3:  12%|█▏        | 3/25 [00:01<00:12,  1.73it/s]"
          ],
          "name": "stderr"
        },
        {
          "output_type": "display_data",
          "data": {
            "text/html": [
              "<font color = green>Positive (99%)</font> --> <font color = red>Negative (52%)</font><br>the acting , costumes , music , cinematography and sound are all <font color = green>astounding</font> given the production 's austere locales . <br>the acting , costumes , music , cinematography and sound are all <font color = red>review</font> given the production 's austere locales . "
            ],
            "text/plain": [
              "<IPython.core.display.HTML object>"
            ]
          },
          "metadata": {
            "tags": []
          }
        },
        {
          "output_type": "stream",
          "text": [
            "[Succeeded / Failed / Total] 1 / 3 / 4:  16%|█▌        | 4/25 [00:02<00:10,  1.92it/s]"
          ],
          "name": "stderr"
        },
        {
          "output_type": "display_data",
          "data": {
            "text/html": [
              "<font color = red>Negative (99%)</font> --> <font color = red>[FAILED]</font><br>it 's slow -- very , very slow . "
            ],
            "text/plain": [
              "<IPython.core.display.HTML object>"
            ]
          },
          "metadata": {
            "tags": []
          }
        },
        {
          "output_type": "stream",
          "text": [
            "[Succeeded / Failed / Total] 1 / 4 / 5:  20%|██        | 5/25 [00:02<00:09,  2.07it/s]"
          ],
          "name": "stderr"
        },
        {
          "output_type": "display_data",
          "data": {
            "text/html": [
              "<font color = green>Positive (100%)</font> --> <font color = red>[FAILED]</font><br>although laced with humor and a few fanciful touches , the film is a refreshingly serious look at young women . "
            ],
            "text/plain": [
              "<IPython.core.display.HTML object>"
            ]
          },
          "metadata": {
            "tags": []
          }
        },
        {
          "output_type": "stream",
          "text": [
            "[Succeeded / Failed / Total] 1 / 5 / 6:  24%|██▍       | 6/25 [00:03<00:11,  1.72it/s]"
          ],
          "name": "stderr"
        },
        {
          "output_type": "display_data",
          "data": {
            "text/html": [
              "<font color = red>Negative (95%)</font> --> <font color = red>[FAILED]</font><br>a sometimes tedious film . "
            ],
            "text/plain": [
              "<IPython.core.display.HTML object>"
            ]
          },
          "metadata": {
            "tags": []
          }
        },
        {
          "output_type": "stream",
          "text": [
            "[Succeeded / Failed / Total] 1 / 6 / 7:  28%|██▊       | 7/25 [00:03<00:09,  1.86it/s]"
          ],
          "name": "stderr"
        },
        {
          "output_type": "display_data",
          "data": {
            "text/html": [
              "<font color = red>Negative (90%)</font> --> <font color = red>[FAILED]</font><br>or doing last year 's taxes with your ex-wife . "
            ],
            "text/plain": [
              "<IPython.core.display.HTML object>"
            ]
          },
          "metadata": {
            "tags": []
          }
        },
        {
          "output_type": "stream",
          "text": [
            "[Succeeded / Failed / Total] 1 / 7 / 8:  32%|███▏      | 8/25 [00:04<00:08,  1.92it/s]"
          ],
          "name": "stderr"
        },
        {
          "output_type": "display_data",
          "data": {
            "text/html": [
              "<font color = green>Positive (80%)</font> --> <font color = red>Negative (90%)</font><br>you do n't have to know about music to <font color = green>appreciate</font> the film 's <font color = green>easygoing</font> <font color = green>blend</font> of <font color = green>comedy</font> and romance . <br>you do n't have to know about music to <font color = red>hamper</font> the film 's <font color = red>kangilinnguit</font> <font color = red>alignment</font> of <font color = red>drama</font> and romance . "
            ],
            "text/plain": [
              "<IPython.core.display.HTML object>"
            ]
          },
          "metadata": {
            "tags": []
          }
        },
        {
          "output_type": "stream",
          "text": [
            "[Succeeded / Failed / Total] 2 / 7 / 9:  36%|███▌      | 9/25 [00:04<00:08,  1.86it/s]"
          ],
          "name": "stderr"
        },
        {
          "output_type": "display_data",
          "data": {
            "text/html": [
              "<font color = red>Negative (97%)</font> --> <font color = red>[FAILED]</font><br>in exactly 89 minutes , most of which passed as slowly as if i 'd been sitting naked on an igloo , formula 51 sank from quirky to jerky to utter turkey . "
            ],
            "text/plain": [
              "<IPython.core.display.HTML object>"
            ]
          },
          "metadata": {
            "tags": []
          }
        },
        {
          "output_type": "stream",
          "text": [
            "[Succeeded / Failed / Total] 2 / 8 / 10:  40%|████      | 10/25 [00:06<00:09,  1.58it/s]"
          ],
          "name": "stderr"
        },
        {
          "output_type": "display_data",
          "data": {
            "text/html": [
              "<font color = green>Positive (100%)</font> --> <font color = red>[FAILED]</font><br>the mesmerizing performances of the leads keep the film grounded and keep the audience riveted . "
            ],
            "text/plain": [
              "<IPython.core.display.HTML object>"
            ]
          },
          "metadata": {
            "tags": []
          }
        },
        {
          "output_type": "stream",
          "text": [
            "[Succeeded / Failed / Total] 2 / 9 / 11:  44%|████▍     | 11/25 [00:07<00:09,  1.55it/s]"
          ],
          "name": "stderr"
        },
        {
          "output_type": "display_data",
          "data": {
            "text/html": [
              "<font color = red>Negative (100%)</font> --> <font color = green>Positive (50%)</font><br>it takes a strange kind of <font color = red>laziness</font> to <font color = red>waste</font> the talents of robert forster , anne meara , eugene levy , and reginald veljohnson all in the same movie . <br>it takes a strange kind of <font color = green>margarine</font> to <font color = green>raw</font> the talents of robert forster , anne meara , eugene levy , and reginald veljohnson all in the same movie . "
            ],
            "text/plain": [
              "<IPython.core.display.HTML object>"
            ]
          },
          "metadata": {
            "tags": []
          }
        },
        {
          "output_type": "stream",
          "text": [
            "[Succeeded / Failed / Total] 3 / 9 / 12:  48%|████▊     | 12/25 [00:07<00:08,  1.56it/s]"
          ],
          "name": "stderr"
        },
        {
          "output_type": "display_data",
          "data": {
            "text/html": [
              "<font color = red>Negative (100%)</font> --> <font color = red>[FAILED]</font><br>... the film suffers from a lack of humor ( something needed to balance out the violence ) ... "
            ],
            "text/plain": [
              "<IPython.core.display.HTML object>"
            ]
          },
          "metadata": {
            "tags": []
          }
        },
        {
          "output_type": "stream",
          "text": [
            "[Succeeded / Failed / Total] 3 / 10 / 13:  52%|█████▏    | 13/25 [00:08<00:07,  1.52it/s]"
          ],
          "name": "stderr"
        },
        {
          "output_type": "display_data",
          "data": {
            "text/html": [
              "<font color = green>Positive (72%)</font> --> <font color = red>Negative (87%)</font><br>we <font color = green>root</font> for ( clara and paul ) , even like them , though perhaps it 's an emotion closer to pity . <br>we <font color = red>endodontics</font> for ( clara and paul ) , even like them , though perhaps it 's an emotion closer to pity . "
            ],
            "text/plain": [
              "<IPython.core.display.HTML object>"
            ]
          },
          "metadata": {
            "tags": []
          }
        },
        {
          "output_type": "stream",
          "text": [
            "[Succeeded / Failed / Total] 4 / 10 / 14:  56%|█████▌    | 14/25 [00:08<00:07,  1.56it/s]"
          ],
          "name": "stderr"
        },
        {
          "output_type": "display_data",
          "data": {
            "text/html": [
              "<font color = red>Negative (100%)</font> --> <font color = green>Positive (99%)</font><br>even horror fans will most likely not find what they 're seeking with trouble every day ; the movie <font color = red>lacks</font> both thrills and humor . <br>even horror fans will most likely not find what they 're seeking with trouble every day ; the movie <font color = green>possesses</font> both thrills and humor . "
            ],
            "text/plain": [
              "<IPython.core.display.HTML object>"
            ]
          },
          "metadata": {
            "tags": []
          }
        },
        {
          "output_type": "stream",
          "text": [
            "[Succeeded / Failed / Total] 5 / 10 / 15:  60%|██████    | 15/25 [00:09<00:06,  1.59it/s]"
          ],
          "name": "stderr"
        },
        {
          "output_type": "display_data",
          "data": {
            "text/html": [
              "<font color = green>Positive (100%)</font> --> <font color = red>[FAILED]</font><br>a gorgeous , high-spirited musical from india that exquisitely blends music , dance , song , and high drama . "
            ],
            "text/plain": [
              "<IPython.core.display.HTML object>"
            ]
          },
          "metadata": {
            "tags": []
          }
        },
        {
          "output_type": "stream",
          "text": [
            "[Succeeded / Failed / Total] 5 / 11 / 16:  64%|██████▍   | 16/25 [00:10<00:05,  1.56it/s]"
          ],
          "name": "stderr"
        },
        {
          "output_type": "display_data",
          "data": {
            "text/html": [
              "<font color = green>Positive (98%)</font> --> <font color = red>Negative (87%)</font><br>the <font color = green>emotions</font> <font color = green>are</font> raw and <font color = green>will</font> strike a <font color = green>nerve</font> with anyone who 's ever had family trauma . <br>the <font color = red>desires</font> <font color = red>washerwomen</font> raw and <font color = red>would</font> strike a <font color = red>adhesion</font> with anyone who 's ever had family trauma . "
            ],
            "text/plain": [
              "<IPython.core.display.HTML object>"
            ]
          },
          "metadata": {
            "tags": []
          }
        },
        {
          "output_type": "stream",
          "text": [
            "[Succeeded / Failed / Total] 6 / 11 / 17:  68%|██████▊   | 17/25 [00:10<00:05,  1.57it/s]"
          ],
          "name": "stderr"
        },
        {
          "output_type": "display_data",
          "data": {
            "text/html": [
              "<font color = green>Positive (100%)</font> --> <font color = red>Negative (78%)</font><br>audrey tatou has a <font color = green>knack</font> for picking roles that <font color = green>magnify</font> her outrageous charm , and in this literate french comedy , she '<font color = green>s</font> as morning-glory <font color = green>exuberant</font> as she was in amélie . <br>audrey tatou has a <font color = red>transcribing</font> for picking roles that <font color = red>overwhelm</font> her outrageous charm , and in this literate french comedy , she '<font color = red>ridgwayi</font> as morning-glory <font color = red>interrogative</font> as she was in amélie . "
            ],
            "text/plain": [
              "<IPython.core.display.HTML object>"
            ]
          },
          "metadata": {
            "tags": []
          }
        },
        {
          "output_type": "stream",
          "text": [
            "[Succeeded / Failed / Total] 7 / 11 / 18:  72%|███████▏  | 18/25 [00:11<00:04,  1.56it/s]"
          ],
          "name": "stderr"
        },
        {
          "output_type": "display_data",
          "data": {
            "text/html": [
              "<font color = red>Negative (99%)</font> --> <font color = red>[FAILED]</font><br>... the movie is just a plain old monster . "
            ],
            "text/plain": [
              "<IPython.core.display.HTML object>"
            ]
          },
          "metadata": {
            "tags": []
          }
        },
        {
          "output_type": "stream",
          "text": [
            "[Succeeded / Failed / Total] 7 / 12 / 19:  76%|███████▌  | 19/25 [00:12<00:03,  1.58it/s]"
          ],
          "name": "stderr"
        },
        {
          "output_type": "display_data",
          "data": {
            "text/html": [
              "<font color = red>Negative (99%)</font> --> <font color = red>[FAILED]</font><br>in its best moments , resembles a bad high school production of grease , without benefit of song . "
            ],
            "text/plain": [
              "<IPython.core.display.HTML object>"
            ]
          },
          "metadata": {
            "tags": []
          }
        },
        {
          "output_type": "stream",
          "text": [
            "[Succeeded / Failed / Total] 7 / 13 / 20:  80%|████████  | 20/25 [00:12<00:03,  1.55it/s]"
          ],
          "name": "stderr"
        },
        {
          "output_type": "display_data",
          "data": {
            "text/html": [
              "<font color = red>Negative (63%)</font> --> <font color = green>Positive (68%)</font><br>pumpkin <font color = red>takes</font> an admirable look at the hypocrisy of political correctness , but it does so with such an uneven <font color = red>tone</font> that you never <font color = red>know</font> when humor ends and tragedy begins . <br>pumpkin <font color = green>taking</font> an admirable look at the hypocrisy of political correctness , but it does so with such an uneven <font color = green>temperament</font> that you never <font color = green>nuitte</font> when humor ends and tragedy begins . "
            ],
            "text/plain": [
              "<IPython.core.display.HTML object>"
            ]
          },
          "metadata": {
            "tags": []
          }
        },
        {
          "output_type": "stream",
          "text": [
            "[Succeeded / Failed / Total] 8 / 13 / 21:  84%|████████▍ | 21/25 [00:13<00:02,  1.54it/s]"
          ],
          "name": "stderr"
        },
        {
          "output_type": "display_data",
          "data": {
            "text/html": [
              "<font color = red>Negative (97%)</font> --> <font color = red>[FAILED]</font><br>the iditarod lasts for days - this just felt like it did . "
            ],
            "text/plain": [
              "<IPython.core.display.HTML object>"
            ]
          },
          "metadata": {
            "tags": []
          }
        },
        {
          "output_type": "stream",
          "text": [
            "[Succeeded / Failed / Total] 8 / 14 / 22:  88%|████████▊ | 22/25 [00:14<00:01,  1.54it/s]"
          ],
          "name": "stderr"
        },
        {
          "output_type": "display_data",
          "data": {
            "text/html": [
              "<font color = red>Negative (66%)</font> --> <font color = red>[FAILED]</font><br>holden caulfield did it better . "
            ],
            "text/plain": [
              "<IPython.core.display.HTML object>"
            ]
          },
          "metadata": {
            "tags": []
          }
        },
        {
          "output_type": "stream",
          "text": [
            "[Succeeded / Failed / Total] 8 / 15 / 23:  92%|█████████▏| 23/25 [00:14<00:01,  1.58it/s]"
          ],
          "name": "stderr"
        },
        {
          "output_type": "display_data",
          "data": {
            "text/html": [
              "<font color = green>Positive (100%)</font> --> <font color = red>[FAILED]</font><br>a delectable and intriguing thriller filled with surprises , read my lips is an original . "
            ],
            "text/plain": [
              "<IPython.core.display.HTML object>"
            ]
          },
          "metadata": {
            "tags": []
          }
        },
        {
          "output_type": "stream",
          "text": [
            "[Succeeded / Failed / Total] 8 / 16 / 24:  96%|█████████▌| 24/25 [00:15<00:00,  1.57it/s]"
          ],
          "name": "stderr"
        },
        {
          "output_type": "display_data",
          "data": {
            "text/html": [
              "<font color = green>Positive (92%)</font> --> <font color = red>Negative (59%)</font><br>seldom <font color = green>has</font> a movie so closely matched the <font color = green>spirit</font> of a <font color = green>man</font> and his <font color = green>work</font> . <br>seldom <font color = red>viestimies</font> a movie so closely matched the <font color = red>god</font> of a <font color = red>terc</font> and his <font color = red>ultimatte</font> . "
            ],
            "text/plain": [
              "<IPython.core.display.HTML object>"
            ]
          },
          "metadata": {
            "tags": []
          }
        },
        {
          "output_type": "stream",
          "text": [
            "[Succeeded / Failed / Total] 9 / 16 / 25: 100%|██████████| 25/25 [00:16<00:00,  1.56it/s]"
          ],
          "name": "stderr"
        },
        {
          "output_type": "stream",
          "text": [
            "+-------------------------------+--------+\n",
            "| Attack Results                |        |\n",
            "+-------------------------------+--------+\n",
            "| Number of successful attacks: | 9      |\n",
            "| Number of failed attacks:     | 16     |\n",
            "| Number of skipped attacks:    | 0      |\n",
            "| Original accuracy:            | 100.0% |\n",
            "| Accuracy under attack:        | 64.0%  |\n",
            "| Attack success rate:          | 36.0%  |\n",
            "| Average perturbed word %:     | 13.21% |\n",
            "| Average num. words per input: | 15.64  |\n",
            "| Avg num queries:              | 21.76  |\n",
            "+-------------------------------+--------+"
          ],
          "name": "stdout"
        },
        {
          "output_type": "stream",
          "text": [
            "\n",
            "\u001b[34;1mtextattack\u001b[0m: Attack time: 16.025426626205444s\n"
          ],
          "name": "stderr"
        }
      ]
    },
    {
      "cell_type": "code",
      "metadata": {
        "id": "wr5Yq7uz1Kq9",
        "colab": {
          "base_uri": "https://localhost:8080/"
        },
        "outputId": "85b162c9-c167-45c6-ca92-7801ad6ef987"
      },
      "source": [
        "from textattack.search_methods import ParticleSwarmOptimization\n",
        "from textattack.constraints.grammaticality import PartOfSpeech\n",
        "from textattack.shared import Attack\n",
        "from textattack.goal_functions import UntargetedClassification\n",
        "from textattack.datasets import HuggingFaceDataset\n",
        "\n",
        "# We're going to use our word swap class as the attack transformation.\n",
        "transformation = Swapper()\n",
        "\n",
        "constraints = [PartOfSpeech()]\n",
        "\n",
        "search_method = ParticleSwarmOptimization(pop_size=10,max_iters=5)\n",
        "\n",
        "goal_function = UntargetedClassification(model_wrapper)\n",
        "\n",
        "# Now, let's make the attack from the 4 components:\n",
        "attack = Attack(goal_function, constraints, transformation, search_method)\n",
        "\n",
        "dataset = HuggingFaceDataset(\"glue\", \"sst2\", \"validation\") # Change the dataset"
      ],
      "execution_count": 51,
      "outputs": [
        {
          "output_type": "stream",
          "text": [
            "\u001b[34;1mtextattack\u001b[0m: Unknown if model of class <class 'transformers.models.albert.modeling_albert.AlbertForSequenceClassification'> compatible with goal function <class 'textattack.goal_functions.classification.untargeted_classification.UntargetedClassification'>.\n",
            "Reusing dataset glue (/root/.cache/huggingface/datasets/glue/sst2/1.0.0/dacbe3125aa31d7f70367a07a8a9e72a5a0bfeb5fc42e75c9db75b96da6053ad)\n",
            "\u001b[34;1mtextattack\u001b[0m: Loading \u001b[94mdatasets\u001b[0m dataset \u001b[94mglue\u001b[0m, subset \u001b[94msst2\u001b[0m, split \u001b[94mvalidation\u001b[0m.\n"
          ],
          "name": "stderr"
        }
      ]
    },
    {
      "cell_type": "code",
      "metadata": {
        "id": "XpkxiVj02xk-",
        "colab": {
          "base_uri": "https://localhost:8080/"
        },
        "outputId": "ca6a1039-ef5e-46e3-c361-051bdfcc8e5b"
      },
      "source": [
        "print(attack)"
      ],
      "execution_count": 52,
      "outputs": [
        {
          "output_type": "stream",
          "text": [
            "Attack(\n",
            "  (search_method): ParticleSwarmOptimization(\n",
            "    (pop_size):  10\n",
            "    (max_iters):  5\n",
            "    (post_turn_check):  True\n",
            "    (max_turn_retries):  20\n",
            "  )\n",
            "  (goal_function):  UntargetedClassification\n",
            "  (transformation):  Swapper\n",
            "  (constraints): \n",
            "    (0): PartOfSpeech(\n",
            "        (tagger_type):  nltk\n",
            "        (tagset):  universal\n",
            "        (allow_verb_noun_swap):  True\n",
            "        (compare_against_original):  True\n",
            "      )\n",
            "  (is_black_box):  True\n",
            ")\n"
          ],
          "name": "stdout"
        }
      ]
    },
    {
      "cell_type": "code",
      "metadata": {
        "id": "LGbTuwOQ24BO",
        "colab": {
          "base_uri": "https://localhost:8080/",
          "height": 1000
        },
        "outputId": "ae3113fd-f173-46c2-8de5-253e632d0b01"
      },
      "source": [
        "printexample(attack)"
      ],
      "execution_count": 53,
      "outputs": [
        {
          "output_type": "stream",
          "text": [
            "\r  0%|          | 0/25 [00:00<?, ?it/s]"
          ],
          "name": "stderr"
        },
        {
          "output_type": "stream",
          "text": [
            "Attack(\n",
            "  (search_method): ParticleSwarmOptimization(\n",
            "    (pop_size):  10\n",
            "    (max_iters):  5\n",
            "    (post_turn_check):  True\n",
            "    (max_turn_retries):  20\n",
            "  )\n",
            "  (goal_function):  UntargetedClassification\n",
            "  (transformation):  Swapper\n",
            "  (constraints): \n",
            "    (0): PartOfSpeech(\n",
            "        (tagger_type):  nltk\n",
            "        (tagset):  universal\n",
            "        (allow_verb_noun_swap):  True\n",
            "        (compare_against_original):  True\n",
            "      )\n",
            "  (is_black_box):  True\n",
            ")\n"
          ],
          "name": "stdout"
        },
        {
          "output_type": "display_data",
          "data": {
            "text/html": [
              "<font color = green>Positive (100%)</font> --> <font color = red>Negative (84%)</font><br>it 's a <font color = green>charming</font> and <font color = green>often</font> affecting <font color = green>journey</font> . <br>it 's a <font color = red>harming</font> and <font color = red>sometimes</font> affecting <font color = red>journ</font> . "
            ],
            "text/plain": [
              "<IPython.core.display.HTML object>"
            ]
          },
          "metadata": {
            "tags": []
          }
        },
        {
          "output_type": "stream",
          "text": [
            "[Succeeded / Failed / Total] 1 / 0 / 1:   4%|▍         | 1/25 [00:00<00:10,  2.21it/s]"
          ],
          "name": "stderr"
        },
        {
          "output_type": "display_data",
          "data": {
            "text/html": [
              "<font color = red>Negative (92%)</font> --> <font color = red>[FAILED]</font><br>unflinchingly bleak and desperate "
            ],
            "text/plain": [
              "<IPython.core.display.HTML object>"
            ]
          },
          "metadata": {
            "tags": []
          }
        },
        {
          "output_type": "stream",
          "text": [
            "[Succeeded / Failed / Total] 1 / 1 / 2:   8%|▊         | 2/25 [00:00<00:07,  2.95it/s]"
          ],
          "name": "stderr"
        },
        {
          "output_type": "display_data",
          "data": {
            "text/html": [
              "<font color = green>Positive (100%)</font> --> <font color = red>Negative (74%)</font><br>allows us to hope <font color = green>that</font> nolan is <font color = green>poised</font> to <font color = green>embark</font> <font color = green>a</font> major career as <font color = green>a</font> commercial yet inventive filmmaker . <br>allows us to hope <font color = red>which</font> nolan is <font color = red>gassed</font> to <font color = red>embargo</font> <font color = red>the</font> major career as <font color = red>the</font> commercial yet inventive filmmaker . "
            ],
            "text/plain": [
              "<IPython.core.display.HTML object>"
            ]
          },
          "metadata": {
            "tags": []
          }
        },
        {
          "output_type": "stream",
          "text": [
            "[Succeeded / Failed / Total] 2 / 1 / 3:  12%|█▏        | 3/25 [00:03<00:22,  1.04s/it]"
          ],
          "name": "stderr"
        },
        {
          "output_type": "display_data",
          "data": {
            "text/html": [
              "<font color = green>Positive (99%)</font> --> <font color = red>Negative (92%)</font><br>the acting , costumes , music , <font color = green>cinematography</font> and sound <font color = green>are</font> all <font color = green>astounding</font> <font color = green>given</font> the production 's austere locales . <br>the acting , costumes , music , <font color = red>cinematograph</font> and sound <font color = red>were</font> all <font color = red>astounded</font> <font color = red>ascertained</font> the production 's austere locales . "
            ],
            "text/plain": [
              "<IPython.core.display.HTML object>"
            ]
          },
          "metadata": {
            "tags": []
          }
        },
        {
          "output_type": "stream",
          "text": [
            "[Succeeded / Failed / Total] 3 / 1 / 4:  16%|█▌        | 4/25 [00:04<00:23,  1.12s/it]"
          ],
          "name": "stderr"
        },
        {
          "output_type": "display_data",
          "data": {
            "text/html": [
              "<font color = red>Negative (99%)</font> --> <font color = red>[FAILED]</font><br>it 's slow -- very , very slow . "
            ],
            "text/plain": [
              "<IPython.core.display.HTML object>"
            ]
          },
          "metadata": {
            "tags": []
          }
        },
        {
          "output_type": "stream",
          "text": [
            "[Succeeded / Failed / Total] 3 / 2 / 5:  20%|██        | 5/25 [00:07<00:29,  1.45s/it]"
          ],
          "name": "stderr"
        },
        {
          "output_type": "display_data",
          "data": {
            "text/html": [
              "<font color = green>Positive (100%)</font> --> <font color = red>[FAILED]</font><br>although laced with humor and a few fanciful touches , the film is a refreshingly serious look at young women . "
            ],
            "text/plain": [
              "<IPython.core.display.HTML object>"
            ]
          },
          "metadata": {
            "tags": []
          }
        },
        {
          "output_type": "stream",
          "text": [
            "[Succeeded / Failed / Total] 3 / 3 / 6:  24%|██▍       | 6/25 [00:21<01:07,  3.56s/it]"
          ],
          "name": "stderr"
        },
        {
          "output_type": "display_data",
          "data": {
            "text/html": [
              "<font color = red>Negative (95%)</font> --> <font color = green>Positive (99%)</font><br>a <font color = red>sometimes</font> <font color = red>tedious</font> film . <br>a <font color = green>often</font> <font color = green>audacious</font> film . "
            ],
            "text/plain": [
              "<IPython.core.display.HTML object>"
            ]
          },
          "metadata": {
            "tags": []
          }
        },
        {
          "output_type": "stream",
          "text": [
            "[Succeeded / Failed / Total] 4 / 3 / 7:  28%|██▊       | 7/25 [00:21<00:56,  3.11s/it]"
          ],
          "name": "stderr"
        },
        {
          "output_type": "display_data",
          "data": {
            "text/html": [
              "<font color = red>Negative (90%)</font> --> <font color = red>[FAILED]</font><br>or doing last year 's taxes with your ex-wife . "
            ],
            "text/plain": [
              "<IPython.core.display.HTML object>"
            ]
          },
          "metadata": {
            "tags": []
          }
        },
        {
          "output_type": "stream",
          "text": [
            "[Succeeded / Failed / Total] 4 / 4 / 8:  32%|███▏      | 8/25 [00:26<00:55,  3.28s/it]"
          ],
          "name": "stderr"
        },
        {
          "output_type": "display_data",
          "data": {
            "text/html": [
              "<font color = green>Positive (80%)</font> --> <font color = red>Negative (69%)</font><br>you do n't have to know about music to <font color = green>appreciate</font> the film 's <font color = green>easygoing</font> blend of comedy and romance . <br>you do n't have to know about music to <font color = red>appreciating</font> the film 's <font color = red>foregoing</font> blend of comedy and romance . "
            ],
            "text/plain": [
              "<IPython.core.display.HTML object>"
            ]
          },
          "metadata": {
            "tags": []
          }
        },
        {
          "output_type": "stream",
          "text": [
            "[Succeeded / Failed / Total] 5 / 4 / 9:  36%|███▌      | 9/25 [00:26<00:47,  2.97s/it]"
          ],
          "name": "stderr"
        },
        {
          "output_type": "display_data",
          "data": {
            "text/html": [
              "<font color = red>Negative (97%)</font> --> <font color = red>[FAILED]</font><br>in exactly 89 minutes , most of which passed as slowly as if i 'd been sitting naked on an igloo , formula 51 sank from quirky to jerky to utter turkey . "
            ],
            "text/plain": [
              "<IPython.core.display.HTML object>"
            ]
          },
          "metadata": {
            "tags": []
          }
        },
        {
          "output_type": "stream",
          "text": [
            "[Succeeded / Failed / Total] 5 / 5 / 10:  40%|████      | 10/25 [00:51<01:16,  5.11s/it]"
          ],
          "name": "stderr"
        },
        {
          "output_type": "display_data",
          "data": {
            "text/html": [
              "<font color = green>Positive (100%)</font> --> <font color = red>[FAILED]</font><br>the mesmerizing performances of the leads keep the film grounded and keep the audience riveted . "
            ],
            "text/plain": [
              "<IPython.core.display.HTML object>"
            ]
          },
          "metadata": {
            "tags": []
          }
        },
        {
          "output_type": "stream",
          "text": [
            "[Succeeded / Failed / Total] 5 / 6 / 11:  44%|████▍     | 11/25 [00:59<01:15,  5.39s/it]"
          ],
          "name": "stderr"
        },
        {
          "output_type": "display_data",
          "data": {
            "text/html": [
              "<font color = red>Negative (100%)</font> --> <font color = green>Positive (83%)</font><br>it takes <font color = red>a</font> <font color = red>strange</font> kind of <font color = red>laziness</font> to <font color = red>waste</font> the talents of robert forster , anne meara , eugene levy , and reginald veljohnson all <font color = red>in</font> the <font color = red>same</font> movie . <br>it takes <font color = green>the</font> <font color = green>dreamy</font> kind of <font color = green>drowsiness</font> to <font color = green>rosewater</font> the talents of robert forster , anne meara , eugene levy , and reginald veljohnson all <font color = green>of</font> the <font color = green>usual</font> movie . "
            ],
            "text/plain": [
              "<IPython.core.display.HTML object>"
            ]
          },
          "metadata": {
            "tags": []
          }
        },
        {
          "output_type": "stream",
          "text": [
            "[Succeeded / Failed / Total] 6 / 6 / 12:  48%|████▊     | 12/25 [01:05<01:11,  5.48s/it]"
          ],
          "name": "stderr"
        },
        {
          "output_type": "display_data",
          "data": {
            "text/html": [
              "<font color = red>Negative (100%)</font> --> <font color = red>[FAILED]</font><br>... the film suffers from a lack of humor ( something needed to balance out the violence ) ... "
            ],
            "text/plain": [
              "<IPython.core.display.HTML object>"
            ]
          },
          "metadata": {
            "tags": []
          }
        },
        {
          "output_type": "stream",
          "text": [
            "[Succeeded / Failed / Total] 6 / 7 / 13:  52%|█████▏    | 13/25 [01:18<01:12,  6.04s/it]"
          ],
          "name": "stderr"
        },
        {
          "output_type": "display_data",
          "data": {
            "text/html": [
              "<font color = green>Positive (72%)</font> --> <font color = red>Negative (92%)</font><br>we <font color = green>root</font> for ( clara and paul ) , even like them , though perhaps it 's an emotion closer to pity . <br>we <font color = red>adjectival</font> for ( clara and paul ) , even like them , though perhaps it 's an emotion closer to pity . "
            ],
            "text/plain": [
              "<IPython.core.display.HTML object>"
            ]
          },
          "metadata": {
            "tags": []
          }
        },
        {
          "output_type": "stream",
          "text": [
            "[Succeeded / Failed / Total] 7 / 7 / 14:  56%|█████▌    | 14/25 [01:18<01:02,  5.64s/it]"
          ],
          "name": "stderr"
        },
        {
          "output_type": "display_data",
          "data": {
            "text/html": [
              "<font color = red>Negative (100%)</font> --> <font color = green>Positive (98%)</font><br>even horror fans will most likely not find what they 're seeking with trouble every day ; the movie <font color = red>lacks</font> both <font color = red>thrills</font> and humor . <br>even horror fans will most likely not find what they 're seeking with trouble every day ; the movie <font color = green>vying</font> both <font color = green>thrill</font> and humor . "
            ],
            "text/plain": [
              "<IPython.core.display.HTML object>"
            ]
          },
          "metadata": {
            "tags": []
          }
        },
        {
          "output_type": "stream",
          "text": [
            "[Succeeded / Failed / Total] 8 / 7 / 15:  60%|██████    | 15/25 [01:22<00:54,  5.48s/it]"
          ],
          "name": "stderr"
        },
        {
          "output_type": "display_data",
          "data": {
            "text/html": [
              "<font color = green>Positive (100%)</font> --> <font color = red>[FAILED]</font><br>a gorgeous , high-spirited musical from india that exquisitely blends music , dance , song , and high drama . "
            ],
            "text/plain": [
              "<IPython.core.display.HTML object>"
            ]
          },
          "metadata": {
            "tags": []
          }
        },
        {
          "output_type": "stream",
          "text": [
            "[Succeeded / Failed / Total] 8 / 8 / 16:  64%|██████▍   | 16/25 [01:35<00:53,  5.94s/it]"
          ],
          "name": "stderr"
        },
        {
          "output_type": "display_data",
          "data": {
            "text/html": [
              "<font color = green>Positive (98%)</font> --> <font color = red>Negative (96%)</font><br>the <font color = green>emotions</font> <font color = green>are</font> raw and <font color = green>will</font> strike a <font color = green>nerve</font> with anyone who 's ever <font color = green>had</font> family trauma . <br>the <font color = red>imagination</font> <font color = red>were</font> raw and <font color = red>would</font> strike a <font color = red>musculoskeletal</font> with anyone who 's ever <font color = red>has</font> family trauma . "
            ],
            "text/plain": [
              "<IPython.core.display.HTML object>"
            ]
          },
          "metadata": {
            "tags": []
          }
        },
        {
          "output_type": "stream",
          "text": [
            "[Succeeded / Failed / Total] 9 / 8 / 17:  68%|██████▊   | 17/25 [01:39<00:46,  5.87s/it]"
          ],
          "name": "stderr"
        },
        {
          "output_type": "display_data",
          "data": {
            "text/html": [
              "<font color = green>Positive (100%)</font> --> <font color = red>Negative (55%)</font><br>audrey tatou has a <font color = green>knack</font> for <font color = green>picking</font> <font color = green>roles</font> that <font color = green>magnify</font> her outrageous <font color = green>charm</font> , and in <font color = green>this</font> <font color = green>literate</font> french comedy , <font color = green>she</font> 's as morning-glory exuberant as she was in amélie . <br>audrey tatou has a <font color = red>spoof</font> for <font color = red>sticking</font> <font color = red>role</font> that <font color = red>magnified</font> her outrageous <font color = red>whimsy</font> , and in <font color = red>which</font> <font color = red>literati</font> french comedy , <font color = red>he</font> 's as morning-glory exuberant as she was in amélie . "
            ],
            "text/plain": [
              "<IPython.core.display.HTML object>"
            ]
          },
          "metadata": {
            "tags": []
          }
        },
        {
          "output_type": "stream",
          "text": [
            "[Succeeded / Failed / Total] 10 / 8 / 18:  72%|███████▏  | 18/25 [01:59<00:46,  6.66s/it]"
          ],
          "name": "stderr"
        },
        {
          "output_type": "display_data",
          "data": {
            "text/html": [
              "<font color = red>Negative (99%)</font> --> <font color = red>[FAILED]</font><br>... the movie is just a plain old monster . "
            ],
            "text/plain": [
              "<IPython.core.display.HTML object>"
            ]
          },
          "metadata": {
            "tags": []
          }
        },
        {
          "output_type": "stream",
          "text": [
            "[Succeeded / Failed / Total] 10 / 9 / 19:  76%|███████▌  | 19/25 [02:02<00:38,  6.47s/it]"
          ],
          "name": "stderr"
        },
        {
          "output_type": "display_data",
          "data": {
            "text/html": [
              "<font color = red>Negative (99%)</font> --> <font color = green>Positive (74%)</font><br>in its <font color = red>best</font> moments , <font color = red>resembles</font> <font color = red>a</font> <font color = red>bad</font> high school <font color = red>production</font> of <font color = red>grease</font> , without benefit of song . <br>in its <font color = green>finest</font> moments , <font color = green>resembling</font> <font color = green>the</font> <font color = green>good</font> high school <font color = green>productivity</font> of <font color = green>crease</font> , without benefit of song . "
            ],
            "text/plain": [
              "<IPython.core.display.HTML object>"
            ]
          },
          "metadata": {
            "tags": []
          }
        },
        {
          "output_type": "stream",
          "text": [
            "[Succeeded / Failed / Total] 11 / 9 / 20:  80%|████████  | 20/25 [02:10<00:32,  6.53s/it]"
          ],
          "name": "stderr"
        },
        {
          "output_type": "display_data",
          "data": {
            "text/html": [
              "<font color = red>Negative (63%)</font> --> <font color = green>Positive (81%)</font><br>pumpkin takes an admirable look at the hypocrisy of political correctness , but it does <font color = red>so</font> with such an uneven tone that you never know when humor ends and tragedy begins . <br>pumpkin takes an admirable look at the hypocrisy of political correctness , but it does <font color = green>knowingly</font> with such an uneven tone that you never know when humor ends and tragedy begins . "
            ],
            "text/plain": [
              "<IPython.core.display.HTML object>"
            ]
          },
          "metadata": {
            "tags": []
          }
        },
        {
          "output_type": "stream",
          "text": [
            "[Succeeded / Failed / Total] 12 / 9 / 21:  84%|████████▍ | 21/25 [02:11<00:25,  6.25s/it]"
          ],
          "name": "stderr"
        },
        {
          "output_type": "display_data",
          "data": {
            "text/html": [
              "<font color = red>Negative (97%)</font> --> <font color = red>[FAILED]</font><br>the iditarod lasts for days - this just felt like it did . "
            ],
            "text/plain": [
              "<IPython.core.display.HTML object>"
            ]
          },
          "metadata": {
            "tags": []
          }
        },
        {
          "output_type": "stream",
          "text": [
            "[Succeeded / Failed / Total] 12 / 10 / 22:  88%|████████▊ | 22/25 [02:15<00:18,  6.16s/it]"
          ],
          "name": "stderr"
        },
        {
          "output_type": "display_data",
          "data": {
            "text/html": [
              "<font color = red>Negative (66%)</font> --> <font color = green>Positive (61%)</font><br>holden caulfield <font color = red>did</font> it better . <br>holden caulfield <font color = green>does</font> it better . "
            ],
            "text/plain": [
              "<IPython.core.display.HTML object>"
            ]
          },
          "metadata": {
            "tags": []
          }
        },
        {
          "output_type": "stream",
          "text": [
            "[Succeeded / Failed / Total] 13 / 10 / 23:  92%|█████████▏| 23/25 [02:15<00:11,  5.90s/it]"
          ],
          "name": "stderr"
        },
        {
          "output_type": "display_data",
          "data": {
            "text/html": [
              "<font color = green>Positive (100%)</font> --> <font color = red>Negative (60%)</font><br><font color = green>a</font> <font color = green>delectable</font> and <font color = green>intriguing</font> thriller <font color = green>filled</font> with <font color = green>surprises</font> , <font color = green>read</font> my <font color = green>lips</font> <font color = green>is</font> <font color = green>an</font> original . <br><font color = red>the</font> <font color = red>selectable</font> and <font color = red>intrigue</font> thriller <font color = red>drilled</font> with <font color = red>surprise</font> , <font color = red>write</font> my <font color = red>fingerings</font> <font color = red>was</font> <font color = red>which</font> original . "
            ],
            "text/plain": [
              "<IPython.core.display.HTML object>"
            ]
          },
          "metadata": {
            "tags": []
          }
        },
        {
          "output_type": "stream",
          "text": [
            "[Succeeded / Failed / Total] 14 / 10 / 24:  96%|█████████▌| 24/25 [02:25<00:06,  6.05s/it]"
          ],
          "name": "stderr"
        },
        {
          "output_type": "display_data",
          "data": {
            "text/html": [
              "<font color = green>Positive (92%)</font> --> <font color = red>Negative (73%)</font><br>seldom has a movie so <font color = green>closely</font> matched the spirit of a man and his work . <br>seldom has a movie so <font color = red>loosely</font> matched the spirit of a man and his work . "
            ],
            "text/plain": [
              "<IPython.core.display.HTML object>"
            ]
          },
          "metadata": {
            "tags": []
          }
        },
        {
          "output_type": "stream",
          "text": [
            "[Succeeded / Failed / Total] 15 / 10 / 25: 100%|██████████| 25/25 [02:25<00:00,  5.82s/it]"
          ],
          "name": "stderr"
        },
        {
          "output_type": "stream",
          "text": [
            "+-------------------------------+--------+\n",
            "| Attack Results                |        |\n",
            "+-------------------------------+--------+\n",
            "| Number of successful attacks: | 15     |\n",
            "| Number of failed attacks:     | 10     |\n",
            "| Number of skipped attacks:    | 0      |\n",
            "| Original accuracy:            | 100.0% |\n",
            "| Accuracy under attack:        | 40.0%  |\n",
            "| Attack success rate:          | 60.0%  |\n",
            "| Average perturbed word %:     | 25.03% |\n",
            "| Average num. words per input: | 15.64  |\n",
            "| Avg num queries:              | 282.84 |\n",
            "+-------------------------------+--------+"
          ],
          "name": "stdout"
        },
        {
          "output_type": "stream",
          "text": [
            "\n",
            "\u001b[34;1mtextattack\u001b[0m: Attack time: 145.51263284683228s\n"
          ],
          "name": "stderr"
        }
      ]
    },
    {
      "cell_type": "code",
      "metadata": {
        "id": "HRcvfqDK27ON",
        "colab": {
          "base_uri": "https://localhost:8080/"
        },
        "outputId": "a77b4a3a-b811-4f1c-c0db-9da7841fc5ca"
      },
      "source": [
        "from textattack.search_methods import ParticleSwarmOptimization\n",
        "from textattack.constraints.grammaticality import PartOfSpeech\n",
        "from textattack.shared import Attack\n",
        "from textattack.goal_functions import UntargetedClassification\n",
        "from textattack.datasets import HuggingFaceDataset\n",
        "\n",
        "# We're going to use our word swap class as the attack transformation.\n",
        "transformation = Swapper_()\n",
        "\n",
        "constraints = [PartOfSpeech()]\n",
        "\n",
        "search_method = ParticleSwarmOptimization(pop_size=10,max_iters=5)\n",
        "\n",
        "goal_function = UntargetedClassification(model_wrapper)\n",
        "\n",
        "# Now, let's make the attack from the 4 components:\n",
        "attack = Attack(goal_function, constraints, transformation, search_method)\n",
        "\n",
        "dataset = HuggingFaceDataset(\"glue\", \"sst2\", \"validation\") # Change the dataset"
      ],
      "execution_count": 55,
      "outputs": [
        {
          "output_type": "stream",
          "text": [
            "\u001b[34;1mtextattack\u001b[0m: Unknown if model of class <class 'transformers.models.albert.modeling_albert.AlbertForSequenceClassification'> compatible with goal function <class 'textattack.goal_functions.classification.untargeted_classification.UntargetedClassification'>.\n",
            "Reusing dataset glue (/root/.cache/huggingface/datasets/glue/sst2/1.0.0/dacbe3125aa31d7f70367a07a8a9e72a5a0bfeb5fc42e75c9db75b96da6053ad)\n",
            "\u001b[34;1mtextattack\u001b[0m: Loading \u001b[94mdatasets\u001b[0m dataset \u001b[94mglue\u001b[0m, subset \u001b[94msst2\u001b[0m, split \u001b[94mvalidation\u001b[0m.\n"
          ],
          "name": "stderr"
        }
      ]
    },
    {
      "cell_type": "code",
      "metadata": {
        "id": "BjK9n6ac5NqI",
        "colab": {
          "base_uri": "https://localhost:8080/"
        },
        "outputId": "7b4548fa-bb9a-44d1-d01b-e58405b601e8"
      },
      "source": [
        "print(attack)"
      ],
      "execution_count": 56,
      "outputs": [
        {
          "output_type": "stream",
          "text": [
            "Attack(\n",
            "  (search_method): ParticleSwarmOptimization(\n",
            "    (pop_size):  10\n",
            "    (max_iters):  5\n",
            "    (post_turn_check):  True\n",
            "    (max_turn_retries):  20\n",
            "  )\n",
            "  (goal_function):  UntargetedClassification\n",
            "  (transformation):  Swapper_\n",
            "  (constraints): \n",
            "    (0): PartOfSpeech(\n",
            "        (tagger_type):  nltk\n",
            "        (tagset):  universal\n",
            "        (allow_verb_noun_swap):  True\n",
            "        (compare_against_original):  True\n",
            "      )\n",
            "  (is_black_box):  True\n",
            ")\n"
          ],
          "name": "stdout"
        }
      ]
    },
    {
      "cell_type": "code",
      "metadata": {
        "id": "heD59UeC5Pgs",
        "colab": {
          "base_uri": "https://localhost:8080/",
          "height": 1000
        },
        "outputId": "4036d4d2-4a5f-4d8c-94e5-c62d84045565"
      },
      "source": [
        "printexample(attack)"
      ],
      "execution_count": 57,
      "outputs": [
        {
          "output_type": "stream",
          "text": [
            "\r  0%|          | 0/25 [00:00<?, ?it/s]"
          ],
          "name": "stderr"
        },
        {
          "output_type": "stream",
          "text": [
            "Attack(\n",
            "  (search_method): ParticleSwarmOptimization(\n",
            "    (pop_size):  10\n",
            "    (max_iters):  5\n",
            "    (post_turn_check):  True\n",
            "    (max_turn_retries):  20\n",
            "  )\n",
            "  (goal_function):  UntargetedClassification\n",
            "  (transformation):  Swapper_\n",
            "  (constraints): \n",
            "    (0): PartOfSpeech(\n",
            "        (tagger_type):  nltk\n",
            "        (tagset):  universal\n",
            "        (allow_verb_noun_swap):  True\n",
            "        (compare_against_original):  True\n",
            "      )\n",
            "  (is_black_box):  True\n",
            ")\n"
          ],
          "name": "stdout"
        },
        {
          "output_type": "display_data",
          "data": {
            "text/html": [
              "<font color = green>Positive (100%)</font> --> <font color = red>[FAILED]</font><br>it 's a charming and often affecting journey . "
            ],
            "text/plain": [
              "<IPython.core.display.HTML object>"
            ]
          },
          "metadata": {
            "tags": []
          }
        },
        {
          "output_type": "stream",
          "text": [
            "[Succeeded / Failed / Total] 0 / 1 / 1:   4%|▍         | 1/25 [00:01<00:46,  1.96s/it]"
          ],
          "name": "stderr"
        },
        {
          "output_type": "display_data",
          "data": {
            "text/html": [
              "<font color = red>Negative (92%)</font> --> <font color = red>[FAILED]</font><br>unflinchingly bleak and desperate "
            ],
            "text/plain": [
              "<IPython.core.display.HTML object>"
            ]
          },
          "metadata": {
            "tags": []
          }
        },
        {
          "output_type": "stream",
          "text": [
            "[Succeeded / Failed / Total] 0 / 2 / 2:   8%|▊         | 2/25 [00:02<00:24,  1.06s/it]"
          ],
          "name": "stderr"
        },
        {
          "output_type": "display_data",
          "data": {
            "text/html": [
              "<font color = green>Positive (100%)</font> --> <font color = red>Negative (63%)</font><br>allows us to hope <font color = green>that</font> nolan <font color = green>is</font> poised to <font color = green>embark</font> a <font color = green>major</font> <font color = green>career</font> as a commercial <font color = green>yet</font> <font color = green>inventive</font> <font color = green>filmmaker</font> . <br>allows us to hope <font color = red>which</font> nolan <font color = red>was</font> poised to <font color = red>capitalize</font> a <font color = red>substantial</font> <font color = red>stint</font> as a commercial <font color = red>satisfactorily</font> <font color = red>introspective</font> <font color = red>stapleton</font> . "
            ],
            "text/plain": [
              "<IPython.core.display.HTML object>"
            ]
          },
          "metadata": {
            "tags": []
          }
        },
        {
          "output_type": "stream",
          "text": [
            "[Succeeded / Failed / Total] 1 / 2 / 3:  12%|█▏        | 3/25 [00:10<01:19,  3.60s/it]"
          ],
          "name": "stderr"
        },
        {
          "output_type": "display_data",
          "data": {
            "text/html": [
              "<font color = green>Positive (99%)</font> --> <font color = red>Negative (93%)</font><br>the acting , costumes , music , cinematography and <font color = green>sound</font> <font color = green>are</font> all astounding <font color = green>given</font> the production 's austere locales . <br>the acting , costumes , music , cinematography and <font color = red>percussive</font> <font color = red>were</font> all astounding <font color = red>assigning</font> the production 's austere locales . "
            ],
            "text/plain": [
              "<IPython.core.display.HTML object>"
            ]
          },
          "metadata": {
            "tags": []
          }
        },
        {
          "output_type": "stream",
          "text": [
            "[Succeeded / Failed / Total] 2 / 2 / 4:  16%|█▌        | 4/25 [00:13<01:08,  3.27s/it]"
          ],
          "name": "stderr"
        },
        {
          "output_type": "display_data",
          "data": {
            "text/html": [
              "<font color = red>Negative (99%)</font> --> <font color = red>[FAILED]</font><br>it 's slow -- very , very slow . "
            ],
            "text/plain": [
              "<IPython.core.display.HTML object>"
            ]
          },
          "metadata": {
            "tags": []
          }
        },
        {
          "output_type": "stream",
          "text": [
            "[Succeeded / Failed / Total] 2 / 3 / 5:  20%|██        | 5/25 [00:15<01:02,  3.15s/it]"
          ],
          "name": "stderr"
        },
        {
          "output_type": "display_data",
          "data": {
            "text/html": [
              "<font color = green>Positive (100%)</font> --> <font color = red>[FAILED]</font><br>although laced with humor and a few fanciful touches , the film is a refreshingly serious look at young women . "
            ],
            "text/plain": [
              "<IPython.core.display.HTML object>"
            ]
          },
          "metadata": {
            "tags": []
          }
        },
        {
          "output_type": "stream",
          "text": [
            "[Succeeded / Failed / Total] 2 / 4 / 6:  24%|██▍       | 6/25 [00:26<01:25,  4.48s/it]"
          ],
          "name": "stderr"
        },
        {
          "output_type": "display_data",
          "data": {
            "text/html": [
              "<font color = red>Negative (95%)</font> --> <font color = red>[FAILED]</font><br>a sometimes tedious film . "
            ],
            "text/plain": [
              "<IPython.core.display.HTML object>"
            ]
          },
          "metadata": {
            "tags": []
          }
        },
        {
          "output_type": "stream",
          "text": [
            "[Succeeded / Failed / Total] 2 / 5 / 7:  28%|██▊       | 7/25 [00:27<01:11,  3.96s/it]"
          ],
          "name": "stderr"
        },
        {
          "output_type": "display_data",
          "data": {
            "text/html": [
              "<font color = red>Negative (90%)</font> --> <font color = red>[FAILED]</font><br>or doing last year 's taxes with your ex-wife . "
            ],
            "text/plain": [
              "<IPython.core.display.HTML object>"
            ]
          },
          "metadata": {
            "tags": []
          }
        },
        {
          "output_type": "stream",
          "text": [
            "[Succeeded / Failed / Total] 2 / 6 / 8:  32%|███▏      | 8/25 [00:30<01:05,  3.86s/it]"
          ],
          "name": "stderr"
        },
        {
          "output_type": "display_data",
          "data": {
            "text/html": [
              "<font color = green>Positive (80%)</font> --> <font color = red>Negative (63%)</font><br>you do n't have to know about music to <font color = green>appreciate</font> the film 's easygoing blend of comedy and romance . <br>you do n't have to know about music to <font color = red>undo</font> the film 's easygoing blend of comedy and romance . "
            ],
            "text/plain": [
              "<IPython.core.display.HTML object>"
            ]
          },
          "metadata": {
            "tags": []
          }
        },
        {
          "output_type": "stream",
          "text": [
            "[Succeeded / Failed / Total] 3 / 6 / 9:  36%|███▌      | 9/25 [00:31<00:55,  3.47s/it]"
          ],
          "name": "stderr"
        },
        {
          "output_type": "display_data",
          "data": {
            "text/html": [
              "<font color = red>Negative (97%)</font> --> <font color = red>[FAILED]</font><br>in exactly 89 minutes , most of which passed as slowly as if i 'd been sitting naked on an igloo , formula 51 sank from quirky to jerky to utter turkey . "
            ],
            "text/plain": [
              "<IPython.core.display.HTML object>"
            ]
          },
          "metadata": {
            "tags": []
          }
        },
        {
          "output_type": "stream",
          "text": [
            "[Succeeded / Failed / Total] 3 / 7 / 10:  40%|████      | 10/25 [00:54<01:22,  5.48s/it]"
          ],
          "name": "stderr"
        },
        {
          "output_type": "display_data",
          "data": {
            "text/html": [
              "<font color = green>Positive (100%)</font> --> <font color = red>[FAILED]</font><br>the mesmerizing performances of the leads keep the film grounded and keep the audience riveted . "
            ],
            "text/plain": [
              "<IPython.core.display.HTML object>"
            ]
          },
          "metadata": {
            "tags": []
          }
        },
        {
          "output_type": "stream",
          "text": [
            "[Succeeded / Failed / Total] 3 / 8 / 11:  44%|████▍     | 11/25 [01:02<01:19,  5.70s/it]"
          ],
          "name": "stderr"
        },
        {
          "output_type": "display_data",
          "data": {
            "text/html": [
              "<font color = red>Negative (100%)</font> --> <font color = green>Positive (88%)</font><br>it takes a <font color = red>strange</font> kind of <font color = red>laziness</font> to <font color = red>waste</font> the talents of robert forster , anne meara , eugene levy , and reginald veljohnson all <font color = red>in</font> the same movie . <br>it takes a <font color = green>mysterious</font> kind of <font color = green>shadowing</font> to <font color = green>potable</font> the talents of robert forster , anne meara , eugene levy , and reginald veljohnson all <font color = green>throughout</font> the same movie . "
            ],
            "text/plain": [
              "<IPython.core.display.HTML object>"
            ]
          },
          "metadata": {
            "tags": []
          }
        },
        {
          "output_type": "stream",
          "text": [
            "[Succeeded / Failed / Total] 4 / 8 / 12:  48%|████▊     | 12/25 [01:04<01:10,  5.41s/it]"
          ],
          "name": "stderr"
        },
        {
          "output_type": "display_data",
          "data": {
            "text/html": [
              "<font color = red>Negative (100%)</font> --> <font color = red>[FAILED]</font><br>... the film suffers from a lack of humor ( something needed to balance out the violence ) ... "
            ],
            "text/plain": [
              "<IPython.core.display.HTML object>"
            ]
          },
          "metadata": {
            "tags": []
          }
        },
        {
          "output_type": "stream",
          "text": [
            "[Succeeded / Failed / Total] 4 / 9 / 13:  52%|█████▏    | 13/25 [01:14<01:08,  5.74s/it]"
          ],
          "name": "stderr"
        },
        {
          "output_type": "display_data",
          "data": {
            "text/html": [
              "<font color = green>Positive (72%)</font> --> <font color = red>Negative (69%)</font><br>we <font color = green>root</font> for ( clara and paul ) , even like them , though perhaps it 's an emotion closer to pity . <br>we <font color = red>untie</font> for ( clara and paul ) , even like them , though perhaps it 's an emotion closer to pity . "
            ],
            "text/plain": [
              "<IPython.core.display.HTML object>"
            ]
          },
          "metadata": {
            "tags": []
          }
        },
        {
          "output_type": "stream",
          "text": [
            "[Succeeded / Failed / Total] 5 / 9 / 14:  56%|█████▌    | 14/25 [01:14<00:58,  5.36s/it]"
          ],
          "name": "stderr"
        },
        {
          "output_type": "display_data",
          "data": {
            "text/html": [
              "<font color = red>Negative (100%)</font> --> <font color = green>Positive (98%)</font><br>even horror fans will most likely not find what they 're seeking with trouble every day ; the movie <font color = red>lacks</font> both thrills and humor . <br>even horror fans will most likely not find what they 're seeking with trouble every day ; the movie <font color = green>renders</font> both thrills and humor . "
            ],
            "text/plain": [
              "<IPython.core.display.HTML object>"
            ]
          },
          "metadata": {
            "tags": []
          }
        },
        {
          "output_type": "stream",
          "text": [
            "[Succeeded / Failed / Total] 6 / 9 / 15:  60%|██████    | 15/25 [01:15<00:50,  5.03s/it]"
          ],
          "name": "stderr"
        },
        {
          "output_type": "display_data",
          "data": {
            "text/html": [
              "<font color = green>Positive (100%)</font> --> <font color = red>[FAILED]</font><br>a gorgeous , high-spirited musical from india that exquisitely blends music , dance , song , and high drama . "
            ],
            "text/plain": [
              "<IPython.core.display.HTML object>"
            ]
          },
          "metadata": {
            "tags": []
          }
        },
        {
          "output_type": "stream",
          "text": [
            "[Succeeded / Failed / Total] 6 / 10 / 16:  64%|██████▍   | 16/25 [01:24<00:47,  5.30s/it]"
          ],
          "name": "stderr"
        },
        {
          "output_type": "display_data",
          "data": {
            "text/html": [
              "<font color = green>Positive (98%)</font> --> <font color = red>Negative (62%)</font><br>the <font color = green>emotions</font> are <font color = green>raw</font> and will <font color = green>strike</font> a nerve with anyone who 's ever had family trauma . <br>the <font color = red>emotion</font> are <font color = red>perishable</font> and will <font color = red>downed</font> a nerve with anyone who 's ever had family trauma . "
            ],
            "text/plain": [
              "<IPython.core.display.HTML object>"
            ]
          },
          "metadata": {
            "tags": []
          }
        },
        {
          "output_type": "stream",
          "text": [
            "[Succeeded / Failed / Total] 7 / 10 / 17:  68%|██████▊   | 17/25 [01:26<00:40,  5.10s/it]"
          ],
          "name": "stderr"
        },
        {
          "output_type": "display_data",
          "data": {
            "text/html": [
              "<font color = green>Positive (100%)</font> --> <font color = red>[FAILED]</font><br>audrey tatou has a knack for picking roles that magnify her outrageous charm , and in this literate french comedy , she 's as morning-glory exuberant as she was in amélie . "
            ],
            "text/plain": [
              "<IPython.core.display.HTML object>"
            ]
          },
          "metadata": {
            "tags": []
          }
        },
        {
          "output_type": "stream",
          "text": [
            "[Succeeded / Failed / Total] 7 / 11 / 18:  72%|███████▏  | 18/25 [01:49<00:42,  6.06s/it]"
          ],
          "name": "stderr"
        },
        {
          "output_type": "display_data",
          "data": {
            "text/html": [
              "<font color = red>Negative (99%)</font> --> <font color = red>[FAILED]</font><br>... the movie is just a plain old monster . "
            ],
            "text/plain": [
              "<IPython.core.display.HTML object>"
            ]
          },
          "metadata": {
            "tags": []
          }
        },
        {
          "output_type": "stream",
          "text": [
            "[Succeeded / Failed / Total] 7 / 12 / 19:  76%|███████▌  | 19/25 [01:51<00:35,  5.85s/it]"
          ],
          "name": "stderr"
        },
        {
          "output_type": "display_data",
          "data": {
            "text/html": [
              "<font color = red>Negative (99%)</font> --> <font color = green>Positive (58%)</font><br>in its best moments , resembles a <font color = red>bad</font> high school production of <font color = red>grease</font> , without <font color = red>benefit</font> of song . <br>in its best moments , resembles a <font color = green>good</font> high school production of <font color = green>leaded</font> , without <font color = green>accrue</font> of song . "
            ],
            "text/plain": [
              "<IPython.core.display.HTML object>"
            ]
          },
          "metadata": {
            "tags": []
          }
        },
        {
          "output_type": "stream",
          "text": [
            "[Succeeded / Failed / Total] 8 / 12 / 20:  80%|████████  | 20/25 [01:52<00:28,  5.64s/it]"
          ],
          "name": "stderr"
        },
        {
          "output_type": "display_data",
          "data": {
            "text/html": [
              "<font color = red>Negative (63%)</font> --> <font color = green>Positive (93%)</font><br>pumpkin takes an admirable look at the hypocrisy of political correctness , but it does so with such an <font color = red>uneven</font> tone that you never know when humor ends and tragedy begins . <br>pumpkin takes an admirable look at the hypocrisy of political correctness , but it does so with such an <font color = green>precipitous</font> tone that you never know when humor ends and tragedy begins . "
            ],
            "text/plain": [
              "<IPython.core.display.HTML object>"
            ]
          },
          "metadata": {
            "tags": []
          }
        },
        {
          "output_type": "stream",
          "text": [
            "[Succeeded / Failed / Total] 9 / 12 / 21:  84%|████████▍ | 21/25 [01:53<00:21,  5.40s/it]"
          ],
          "name": "stderr"
        },
        {
          "output_type": "display_data",
          "data": {
            "text/html": [
              "<font color = red>Negative (97%)</font> --> <font color = red>[FAILED]</font><br>the iditarod lasts for days - this just felt like it did . "
            ],
            "text/plain": [
              "<IPython.core.display.HTML object>"
            ]
          },
          "metadata": {
            "tags": []
          }
        },
        {
          "output_type": "stream",
          "text": [
            "[Succeeded / Failed / Total] 9 / 13 / 22:  88%|████████▊ | 22/25 [01:58<00:16,  5.40s/it]"
          ],
          "name": "stderr"
        },
        {
          "output_type": "display_data",
          "data": {
            "text/html": [
              "<font color = red>Negative (66%)</font> --> <font color = green>Positive (61%)</font><br>holden caulfield <font color = red>did</font> it better . <br>holden caulfield <font color = green>does</font> it better . "
            ],
            "text/plain": [
              "<IPython.core.display.HTML object>"
            ]
          },
          "metadata": {
            "tags": []
          }
        },
        {
          "output_type": "stream",
          "text": [
            "[Succeeded / Failed / Total] 10 / 13 / 23:  92%|█████████▏| 23/25 [01:58<00:10,  5.17s/it]"
          ],
          "name": "stderr"
        },
        {
          "output_type": "display_data",
          "data": {
            "text/html": [
              "<font color = green>Positive (100%)</font> --> <font color = red>Negative (81%)</font><br>a delectable and <font color = green>intriguing</font> thriller <font color = green>filled</font> with <font color = green>surprises</font> , <font color = green>read</font> my <font color = green>lips</font> <font color = green>is</font> an <font color = green>original</font> . <br>a delectable and <font color = red>disinterested</font> thriller <font color = red>filling</font> with <font color = red>mothmen</font> , <font color = red>write</font> my <font color = red>knees</font> <font color = red>was</font> an <font color = red>colorized</font> . "
            ],
            "text/plain": [
              "<IPython.core.display.HTML object>"
            ]
          },
          "metadata": {
            "tags": []
          }
        },
        {
          "output_type": "stream",
          "text": [
            "[Succeeded / Failed / Total] 11 / 13 / 24:  96%|█████████▌| 24/25 [02:04<00:05,  5.18s/it]"
          ],
          "name": "stderr"
        },
        {
          "output_type": "display_data",
          "data": {
            "text/html": [
              "<font color = green>Positive (92%)</font> --> <font color = red>Negative (64%)</font><br>seldom has a movie so closely <font color = green>matched</font> the spirit of a man and his work . <br>seldom has a movie so closely <font color = red>rivaled</font> the spirit of a man and his work . "
            ],
            "text/plain": [
              "<IPython.core.display.HTML object>"
            ]
          },
          "metadata": {
            "tags": []
          }
        },
        {
          "output_type": "stream",
          "text": [
            "[Succeeded / Failed / Total] 12 / 13 / 25: 100%|██████████| 25/25 [02:04<00:00,  4.98s/it]"
          ],
          "name": "stderr"
        },
        {
          "output_type": "stream",
          "text": [
            "+-------------------------------+--------+\n",
            "| Attack Results                |        |\n",
            "+-------------------------------+--------+\n",
            "| Number of successful attacks: | 12     |\n",
            "| Number of failed attacks:     | 13     |\n",
            "| Number of skipped attacks:    | 0      |\n",
            "| Original accuracy:            | 100.0% |\n",
            "| Accuracy under attack:        | 52.0%  |\n",
            "| Attack success rate:          | 48.0%  |\n",
            "| Average perturbed word %:     | 17.32% |\n",
            "| Average num. words per input: | 15.64  |\n",
            "| Avg num queries:              | 255.56 |\n",
            "+-------------------------------+--------+"
          ],
          "name": "stdout"
        },
        {
          "output_type": "stream",
          "text": [
            "\n",
            "\u001b[34;1mtextattack\u001b[0m: Attack time: 124.56935739517212s\n"
          ],
          "name": "stderr"
        }
      ]
    },
    {
      "cell_type": "code",
      "metadata": {
        "id": "O7zg-_zFQwyV",
        "colab": {
          "base_uri": "https://localhost:8080/"
        },
        "outputId": "1aed0f17-b1c1-43bc-ce4a-96a2ebb442f0"
      },
      "source": [
        "from textattack.search_methods import ParticleSwarmOptimization\n",
        "from textattack.constraints.grammaticality import PartOfSpeech\n",
        "from textattack.shared import Attack\n",
        "from textattack.goal_functions import UntargetedClassification\n",
        "from textattack.datasets import HuggingFaceDataset\n",
        "\n",
        "# We're going to use our word swap class as the attack transformation.\n",
        "transformation = Swapper__()\n",
        "\n",
        "constraints = [PartOfSpeech()]\n",
        "\n",
        "search_method = ParticleSwarmOptimization(pop_size=10,max_iters=5)\n",
        "\n",
        "goal_function = UntargetedClassification(model_wrapper)\n",
        "\n",
        "# Now, let's make the attack from the 4 components:\n",
        "attack = Attack(goal_function, constraints, transformation, search_method)\n",
        "\n",
        "dataset = HuggingFaceDataset(\"glue\", \"sst2\", \"validation\") # Change the dataset"
      ],
      "execution_count": 58,
      "outputs": [
        {
          "output_type": "stream",
          "text": [
            "\u001b[34;1mtextattack\u001b[0m: Unknown if model of class <class 'transformers.models.albert.modeling_albert.AlbertForSequenceClassification'> compatible with goal function <class 'textattack.goal_functions.classification.untargeted_classification.UntargetedClassification'>.\n",
            "Reusing dataset glue (/root/.cache/huggingface/datasets/glue/sst2/1.0.0/dacbe3125aa31d7f70367a07a8a9e72a5a0bfeb5fc42e75c9db75b96da6053ad)\n",
            "\u001b[34;1mtextattack\u001b[0m: Loading \u001b[94mdatasets\u001b[0m dataset \u001b[94mglue\u001b[0m, subset \u001b[94msst2\u001b[0m, split \u001b[94mvalidation\u001b[0m.\n"
          ],
          "name": "stderr"
        }
      ]
    },
    {
      "cell_type": "code",
      "metadata": {
        "id": "PKAKnXjcQzEL",
        "colab": {
          "base_uri": "https://localhost:8080/"
        },
        "outputId": "98644293-bde3-43cd-c883-ab3b3f1bb534"
      },
      "source": [
        "print(attack)"
      ],
      "execution_count": 59,
      "outputs": [
        {
          "output_type": "stream",
          "text": [
            "Attack(\n",
            "  (search_method): ParticleSwarmOptimization(\n",
            "    (pop_size):  10\n",
            "    (max_iters):  5\n",
            "    (post_turn_check):  True\n",
            "    (max_turn_retries):  20\n",
            "  )\n",
            "  (goal_function):  UntargetedClassification\n",
            "  (transformation):  Swapper__\n",
            "  (constraints): \n",
            "    (0): PartOfSpeech(\n",
            "        (tagger_type):  nltk\n",
            "        (tagset):  universal\n",
            "        (allow_verb_noun_swap):  True\n",
            "        (compare_against_original):  True\n",
            "      )\n",
            "  (is_black_box):  True\n",
            ")\n"
          ],
          "name": "stdout"
        }
      ]
    },
    {
      "cell_type": "code",
      "metadata": {
        "id": "1ORBY3voQ1TT",
        "colab": {
          "base_uri": "https://localhost:8080/",
          "height": 1000
        },
        "outputId": "25083aff-714e-40cc-aaed-6ce52a15a83c"
      },
      "source": [
        "printexample(attack)"
      ],
      "execution_count": 60,
      "outputs": [
        {
          "output_type": "stream",
          "text": [
            "\r  0%|          | 0/25 [00:00<?, ?it/s]"
          ],
          "name": "stderr"
        },
        {
          "output_type": "stream",
          "text": [
            "Attack(\n",
            "  (search_method): ParticleSwarmOptimization(\n",
            "    (pop_size):  10\n",
            "    (max_iters):  5\n",
            "    (post_turn_check):  True\n",
            "    (max_turn_retries):  20\n",
            "  )\n",
            "  (goal_function):  UntargetedClassification\n",
            "  (transformation):  Swapper__\n",
            "  (constraints): \n",
            "    (0): PartOfSpeech(\n",
            "        (tagger_type):  nltk\n",
            "        (tagset):  universal\n",
            "        (allow_verb_noun_swap):  True\n",
            "        (compare_against_original):  True\n",
            "      )\n",
            "  (is_black_box):  True\n",
            ")\n"
          ],
          "name": "stdout"
        },
        {
          "output_type": "display_data",
          "data": {
            "text/html": [
              "<font color = green>Positive (100%)</font> --> <font color = red>[FAILED]</font><br>it 's a charming and often affecting journey . "
            ],
            "text/plain": [
              "<IPython.core.display.HTML object>"
            ]
          },
          "metadata": {
            "tags": []
          }
        },
        {
          "output_type": "stream",
          "text": [
            "[Succeeded / Failed / Total] 0 / 1 / 1:   4%|▍         | 1/25 [00:05<02:13,  5.54s/it]"
          ],
          "name": "stderr"
        },
        {
          "output_type": "display_data",
          "data": {
            "text/html": [
              "<font color = red>Negative (92%)</font> --> <font color = red>[FAILED]</font><br>unflinchingly bleak and desperate "
            ],
            "text/plain": [
              "<IPython.core.display.HTML object>"
            ]
          },
          "metadata": {
            "tags": []
          }
        },
        {
          "output_type": "stream",
          "text": [
            "[Succeeded / Failed / Total] 0 / 2 / 2:   8%|▊         | 2/25 [00:06<01:12,  3.14s/it]"
          ],
          "name": "stderr"
        },
        {
          "output_type": "display_data",
          "data": {
            "text/html": [
              "<font color = green>Positive (100%)</font> --> <font color = red>Negative (52%)</font><br><font color = green>allows</font> us to <font color = green>hope</font> that nolan <font color = green>is</font> <font color = green>poised</font> to <font color = green>embark</font> a major <font color = green>career</font> as a commercial yet inventive <font color = green>filmmaker</font> . <br><font color = red>provide</font> us to <font color = red>tykkum</font> that nolan <font color = red>polylogarithm</font> <font color = red>transfered</font> to <font color = red>capitalize</font> a major <font color = red>walloper</font> as a commercial yet inventive <font color = red>yasuyoshi</font> . "
            ],
            "text/plain": [
              "<IPython.core.display.HTML object>"
            ]
          },
          "metadata": {
            "tags": []
          }
        },
        {
          "output_type": "stream",
          "text": [
            "[Succeeded / Failed / Total] 1 / 2 / 3:  12%|█▏        | 3/25 [00:15<01:55,  5.26s/it]"
          ],
          "name": "stderr"
        },
        {
          "output_type": "display_data",
          "data": {
            "text/html": [
              "<font color = green>Positive (99%)</font> --> <font color = red>Negative (52%)</font><br>the acting , costumes , music , cinematography and sound are all <font color = green>astounding</font> given the production 's austere locales . <br>the acting , costumes , music , cinematography and sound are all <font color = red>review</font> given the production 's austere locales . "
            ],
            "text/plain": [
              "<IPython.core.display.HTML object>"
            ]
          },
          "metadata": {
            "tags": []
          }
        },
        {
          "output_type": "stream",
          "text": [
            "[Succeeded / Failed / Total] 2 / 2 / 4:  16%|█▌        | 4/25 [00:16<01:25,  4.09s/it]"
          ],
          "name": "stderr"
        },
        {
          "output_type": "display_data",
          "data": {
            "text/html": [
              "<font color = red>Negative (99%)</font> --> <font color = red>[FAILED]</font><br>it 's slow -- very , very slow . "
            ],
            "text/plain": [
              "<IPython.core.display.HTML object>"
            ]
          },
          "metadata": {
            "tags": []
          }
        },
        {
          "output_type": "stream",
          "text": [
            "[Succeeded / Failed / Total] 2 / 3 / 5:  20%|██        | 5/25 [00:20<01:21,  4.06s/it]"
          ],
          "name": "stderr"
        },
        {
          "output_type": "display_data",
          "data": {
            "text/html": [
              "<font color = green>Positive (100%)</font> --> <font color = red>[FAILED]</font><br>although laced with humor and a few fanciful touches , the film is a refreshingly serious look at young women . "
            ],
            "text/plain": [
              "<IPython.core.display.HTML object>"
            ]
          },
          "metadata": {
            "tags": []
          }
        },
        {
          "output_type": "stream",
          "text": [
            "[Succeeded / Failed / Total] 2 / 4 / 6:  24%|██▍       | 6/25 [00:39<02:05,  6.59s/it]"
          ],
          "name": "stderr"
        },
        {
          "output_type": "display_data",
          "data": {
            "text/html": [
              "<font color = red>Negative (95%)</font> --> <font color = red>[FAILED]</font><br>a sometimes tedious film . "
            ],
            "text/plain": [
              "<IPython.core.display.HTML object>"
            ]
          },
          "metadata": {
            "tags": []
          }
        },
        {
          "output_type": "stream",
          "text": [
            "[Succeeded / Failed / Total] 2 / 5 / 7:  28%|██▊       | 7/25 [00:41<01:46,  5.89s/it]"
          ],
          "name": "stderr"
        },
        {
          "output_type": "display_data",
          "data": {
            "text/html": [
              "<font color = red>Negative (90%)</font> --> <font color = red>[FAILED]</font><br>or doing last year 's taxes with your ex-wife . "
            ],
            "text/plain": [
              "<IPython.core.display.HTML object>"
            ]
          },
          "metadata": {
            "tags": []
          }
        },
        {
          "output_type": "stream",
          "text": [
            "[Succeeded / Failed / Total] 2 / 6 / 8:  32%|███▏      | 8/25 [00:43<01:33,  5.49s/it]"
          ],
          "name": "stderr"
        },
        {
          "output_type": "display_data",
          "data": {
            "text/html": [
              "<font color = green>Positive (80%)</font> --> <font color = red>Negative (72%)</font><br>you do n't have to know about music to <font color = green>appreciate</font> the film 's <font color = green>easygoing</font> blend of comedy and romance . <br>you do n't have to know about music to <font color = red>hamper</font> the film 's <font color = red>kangilinnguit</font> blend of comedy and romance . "
            ],
            "text/plain": [
              "<IPython.core.display.HTML object>"
            ]
          },
          "metadata": {
            "tags": []
          }
        },
        {
          "output_type": "stream",
          "text": [
            "[Succeeded / Failed / Total] 3 / 6 / 9:  36%|███▌      | 9/25 [00:46<01:22,  5.15s/it]"
          ],
          "name": "stderr"
        },
        {
          "output_type": "display_data",
          "data": {
            "text/html": [
              "<font color = red>Negative (97%)</font> --> <font color = green>Positive (50%)</font><br>in <font color = red>exactly</font> 89 <font color = red>minutes</font> , most of which passed as <font color = red>slowly</font> as if i 'd been sitting <font color = red>naked</font> on an <font color = red>igloo</font> , <font color = red>formula</font> 51 sank from quirky to <font color = red>jerky</font> to <font color = red>utter</font> <font color = red>turkey</font> . <br>in <font color = green>accurately</font> 89 <font color = green>hours</font> , most of which passed as <font color = green>rapidly</font> as if i 'd been sitting <font color = green>eye</font> on an <font color = green>norseman</font> , <font color = green>euler</font> 51 sank from quirky to <font color = green>revivalist</font> to <font color = green>autograph</font> <font color = green>greece</font> . "
            ],
            "text/plain": [
              "<IPython.core.display.HTML object>"
            ]
          },
          "metadata": {
            "tags": []
          }
        },
        {
          "output_type": "stream",
          "text": [
            "[Succeeded / Failed / Total] 4 / 6 / 10:  40%|████      | 10/25 [01:17<01:56,  7.75s/it]"
          ],
          "name": "stderr"
        },
        {
          "output_type": "display_data",
          "data": {
            "text/html": [
              "<font color = green>Positive (100%)</font> --> <font color = red>[FAILED]</font><br>the mesmerizing performances of the leads keep the film grounded and keep the audience riveted . "
            ],
            "text/plain": [
              "<IPython.core.display.HTML object>"
            ]
          },
          "metadata": {
            "tags": []
          }
        },
        {
          "output_type": "stream",
          "text": [
            "[Succeeded / Failed / Total] 4 / 7 / 11:  44%|████▍     | 11/25 [01:31<01:55,  8.28s/it]"
          ],
          "name": "stderr"
        },
        {
          "output_type": "display_data",
          "data": {
            "text/html": [
              "<font color = red>Negative (100%)</font> --> <font color = green>Positive (92%)</font><br>it takes a strange <font color = red>kind</font> of <font color = red>laziness</font> to <font color = red>waste</font> the talents of robert forster , anne meara , eugene <font color = red>levy</font> , and reginald veljohnson all in the <font color = red>same</font> movie . <br>it takes a strange <font color = green>particular</font> of <font color = green>margarine</font> to <font color = green>raw</font> the talents of robert forster , anne meara , eugene <font color = green>shoemaker</font> , and reginald veljohnson all in the <font color = green>particular</font> movie . "
            ],
            "text/plain": [
              "<IPython.core.display.HTML object>"
            ]
          },
          "metadata": {
            "tags": []
          }
        },
        {
          "output_type": "stream",
          "text": [
            "[Succeeded / Failed / Total] 5 / 7 / 12:  48%|████▊     | 12/25 [01:38<01:47,  8.25s/it]"
          ],
          "name": "stderr"
        },
        {
          "output_type": "display_data",
          "data": {
            "text/html": [
              "<font color = red>Negative (100%)</font> --> <font color = green>Positive (97%)</font><br>... the film <font color = red>suffers</font> from a <font color = red>lack</font> of humor ( something <font color = red>needed</font> to balance out the <font color = red>violence</font> ) ... <br>... the film <font color = green>benefited</font> from a <font color = green>presence</font> of humor ( something <font color = green>required</font> to balance out the <font color = green>violent</font> ) ... "
            ],
            "text/plain": [
              "<IPython.core.display.HTML object>"
            ]
          },
          "metadata": {
            "tags": []
          }
        },
        {
          "output_type": "stream",
          "text": [
            "[Succeeded / Failed / Total] 6 / 7 / 13:  52%|█████▏    | 13/25 [01:42<01:34,  7.89s/it]"
          ],
          "name": "stderr"
        },
        {
          "output_type": "display_data",
          "data": {
            "text/html": [
              "<font color = green>Positive (72%)</font> --> <font color = red>Negative (87%)</font><br>we <font color = green>root</font> for ( clara and paul ) , even like them , though perhaps it 's an emotion closer to pity . <br>we <font color = red>endodontics</font> for ( clara and paul ) , even like them , though perhaps it 's an emotion closer to pity . "
            ],
            "text/plain": [
              "<IPython.core.display.HTML object>"
            ]
          },
          "metadata": {
            "tags": []
          }
        },
        {
          "output_type": "stream",
          "text": [
            "[Succeeded / Failed / Total] 7 / 7 / 14:  56%|█████▌    | 14/25 [01:43<01:21,  7.37s/it]"
          ],
          "name": "stderr"
        },
        {
          "output_type": "display_data",
          "data": {
            "text/html": [
              "<font color = red>Negative (100%)</font> --> <font color = green>Positive (99%)</font><br>even horror fans will most likely not find what they 're seeking with trouble every day ; the movie <font color = red>lacks</font> both thrills and humor . <br>even horror fans will most likely not find what they 're seeking with trouble every day ; the movie <font color = green>possesses</font> both thrills and humor . "
            ],
            "text/plain": [
              "<IPython.core.display.HTML object>"
            ]
          },
          "metadata": {
            "tags": []
          }
        },
        {
          "output_type": "stream",
          "text": [
            "[Succeeded / Failed / Total] 8 / 7 / 15:  60%|██████    | 15/25 [01:44<01:09,  6.93s/it]"
          ],
          "name": "stderr"
        },
        {
          "output_type": "display_data",
          "data": {
            "text/html": [
              "<font color = green>Positive (100%)</font> --> <font color = red>Negative (83%)</font><br>a <font color = green>gorgeous</font> , high-spirited <font color = green>musical</font> from <font color = green>india</font> that exquisitely <font color = green>blends</font> music , <font color = green>dance</font> , <font color = green>song</font> , and <font color = green>high</font> drama . <br>a <font color = red>dumb</font> , high-spirited <font color = red>genres</font> from <font color = red>pakistan</font> that exquisitely <font color = red>compartments</font> music , <font color = red>carnatic</font> , <font color = red>compilation</font> , and <font color = red>low</font> drama . "
            ],
            "text/plain": [
              "<IPython.core.display.HTML object>"
            ]
          },
          "metadata": {
            "tags": []
          }
        },
        {
          "output_type": "stream",
          "text": [
            "[Succeeded / Failed / Total] 9 / 7 / 16:  64%|██████▍   | 16/25 [01:50<01:02,  6.93s/it]"
          ],
          "name": "stderr"
        },
        {
          "output_type": "display_data",
          "data": {
            "text/html": [
              "<font color = green>Positive (98%)</font> --> <font color = red>Negative (83%)</font><br>the emotions <font color = green>are</font> raw and will strike a <font color = green>nerve</font> with anyone who 's ever had <font color = green>family</font> trauma . <br>the emotions <font color = red>washerwomen</font> raw and will strike a <font color = red>adhesion</font> with anyone who 's ever had <font color = red>pantolambdodontidae</font> trauma . "
            ],
            "text/plain": [
              "<IPython.core.display.HTML object>"
            ]
          },
          "metadata": {
            "tags": []
          }
        },
        {
          "output_type": "stream",
          "text": [
            "[Succeeded / Failed / Total] 10 / 7 / 17:  68%|██████▊   | 17/25 [01:54<00:54,  6.75s/it]"
          ],
          "name": "stderr"
        },
        {
          "output_type": "display_data",
          "data": {
            "text/html": [
              "<font color = green>Positive (100%)</font> --> <font color = red>Negative (69%)</font><br>audrey tatou has a <font color = green>knack</font> for picking roles that <font color = green>magnify</font> her outrageous charm , and in this literate french comedy , she 's as morning-glory <font color = green>exuberant</font> as she was in amélie . <br>audrey tatou has a <font color = red>transcribing</font> for picking roles that <font color = red>overwhelm</font> her outrageous charm , and in this literate french comedy , she 's as morning-glory <font color = red>interrogative</font> as she was in amélie . "
            ],
            "text/plain": [
              "<IPython.core.display.HTML object>"
            ]
          },
          "metadata": {
            "tags": []
          }
        },
        {
          "output_type": "stream",
          "text": [
            "[Succeeded / Failed / Total] 11 / 7 / 18:  72%|███████▏  | 18/25 [02:06<00:49,  7.01s/it]"
          ],
          "name": "stderr"
        },
        {
          "output_type": "display_data",
          "data": {
            "text/html": [
              "<font color = red>Negative (99%)</font> --> <font color = red>[FAILED]</font><br>... the movie is just a plain old monster . "
            ],
            "text/plain": [
              "<IPython.core.display.HTML object>"
            ]
          },
          "metadata": {
            "tags": []
          }
        },
        {
          "output_type": "stream",
          "text": [
            "[Succeeded / Failed / Total] 11 / 8 / 19:  76%|███████▌  | 19/25 [02:11<00:41,  6.91s/it]"
          ],
          "name": "stderr"
        },
        {
          "output_type": "display_data",
          "data": {
            "text/html": [
              "<font color = red>Negative (99%)</font> --> <font color = green>Positive (79%)</font><br>in its best moments , resembles a <font color = red>bad</font> high school <font color = red>production</font> of <font color = red>grease</font> , without <font color = red>benefit</font> of <font color = red>song</font> . <br>in its best moments , resembles a <font color = green>good</font> high school <font color = green>industry</font> of <font color = green>pounder</font> , without <font color = green>almos</font> of <font color = green>album</font> . "
            ],
            "text/plain": [
              "<IPython.core.display.HTML object>"
            ]
          },
          "metadata": {
            "tags": []
          }
        },
        {
          "output_type": "stream",
          "text": [
            "[Succeeded / Failed / Total] 12 / 8 / 20:  80%|████████  | 20/25 [02:23<00:35,  7.16s/it]"
          ],
          "name": "stderr"
        },
        {
          "output_type": "display_data",
          "data": {
            "text/html": [
              "<font color = red>Negative (63%)</font> --> <font color = green>Positive (66%)</font><br>pumpkin takes an admirable look at the hypocrisy of political correctness , but it does so with such an uneven tone that you never <font color = red>know</font> when humor ends and tragedy begins . <br>pumpkin takes an admirable look at the hypocrisy of political correctness , but it does so with such an uneven tone that you never <font color = green>nuitte</font> when humor ends and tragedy begins . "
            ],
            "text/plain": [
              "<IPython.core.display.HTML object>"
            ]
          },
          "metadata": {
            "tags": []
          }
        },
        {
          "output_type": "stream",
          "text": [
            "[Succeeded / Failed / Total] 13 / 8 / 21:  84%|████████▍ | 21/25 [02:24<00:27,  6.87s/it]"
          ],
          "name": "stderr"
        },
        {
          "output_type": "display_data",
          "data": {
            "text/html": [
              "<font color = red>Negative (97%)</font> --> <font color = green>Positive (59%)</font><br>the iditarod lasts for <font color = red>days</font> - this <font color = red>just</font> <font color = red>felt</font> like it did . <br>the iditarod lasts for <font color = green>mordad</font> - this <font color = green>so</font> <font color = green>persuaded</font> like it did . "
            ],
            "text/plain": [
              "<IPython.core.display.HTML object>"
            ]
          },
          "metadata": {
            "tags": []
          }
        },
        {
          "output_type": "stream",
          "text": [
            "[Succeeded / Failed / Total] 14 / 8 / 22:  88%|████████▊ | 22/25 [02:27<00:20,  6.68s/it]"
          ],
          "name": "stderr"
        },
        {
          "output_type": "display_data",
          "data": {
            "text/html": [
              "<font color = red>Negative (66%)</font> --> <font color = red>[FAILED]</font><br>holden caulfield did it better . "
            ],
            "text/plain": [
              "<IPython.core.display.HTML object>"
            ]
          },
          "metadata": {
            "tags": []
          }
        },
        {
          "output_type": "stream",
          "text": [
            "[Succeeded / Failed / Total] 14 / 9 / 23:  92%|█████████▏| 23/25 [02:28<00:12,  6.47s/it]"
          ],
          "name": "stderr"
        },
        {
          "output_type": "display_data",
          "data": {
            "text/html": [
              "<font color = green>Positive (100%)</font> --> <font color = red>[FAILED]</font><br>a delectable and intriguing thriller filled with surprises , read my lips is an original . "
            ],
            "text/plain": [
              "<IPython.core.display.HTML object>"
            ]
          },
          "metadata": {
            "tags": []
          }
        },
        {
          "output_type": "stream",
          "text": [
            "[Succeeded / Failed / Total] 14 / 10 / 24:  96%|█████████▌| 24/25 [02:45<00:06,  6.88s/it]"
          ],
          "name": "stderr"
        },
        {
          "output_type": "display_data",
          "data": {
            "text/html": [
              "<font color = green>Positive (92%)</font> --> <font color = red>Negative (59%)</font><br>seldom <font color = green>has</font> a movie so closely matched the <font color = green>spirit</font> of a <font color = green>man</font> and his <font color = green>work</font> . <br>seldom <font color = red>viestimies</font> a movie so closely matched the <font color = red>god</font> of a <font color = red>terc</font> and his <font color = red>ultimatte</font> . "
            ],
            "text/plain": [
              "<IPython.core.display.HTML object>"
            ]
          },
          "metadata": {
            "tags": []
          }
        },
        {
          "output_type": "stream",
          "text": [
            "[Succeeded / Failed / Total] 15 / 10 / 25: 100%|██████████| 25/25 [02:49<00:00,  6.77s/it]"
          ],
          "name": "stderr"
        },
        {
          "output_type": "stream",
          "text": [
            "+-------------------------------+--------+\n",
            "| Attack Results                |        |\n",
            "+-------------------------------+--------+\n",
            "| Number of successful attacks: | 15     |\n",
            "| Number of failed attacks:     | 10     |\n",
            "| Number of skipped attacks:    | 0      |\n",
            "| Original accuracy:            | 100.0% |\n",
            "| Accuracy under attack:        | 40.0%  |\n",
            "| Attack success rate:          | 60.0%  |\n",
            "| Average perturbed word %:     | 20.17% |\n",
            "| Average num. words per input: | 15.64  |\n",
            "| Avg num queries:              | 189.04 |\n",
            "+-------------------------------+--------+"
          ],
          "name": "stdout"
        },
        {
          "output_type": "stream",
          "text": [
            "\n",
            "\u001b[34;1mtextattack\u001b[0m: Attack time: 169.29934740066528s\n"
          ],
          "name": "stderr"
        }
      ]
    }
  ]
}