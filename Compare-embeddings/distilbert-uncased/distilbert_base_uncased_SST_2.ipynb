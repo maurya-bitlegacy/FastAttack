{
  "nbformat": 4,
  "nbformat_minor": 0,
  "metadata": {
    "colab": {
      "name": "distilbert-base-uncased-SST-2.ipynb",
      "provenance": [],
      "collapsed_sections": []
    },
    "kernelspec": {
      "display_name": "Python 3",
      "name": "python3"
    },
    "language_info": {
      "name": "python"
    },
    "accelerator": "GPU",
    "widgets": {
      "application/vnd.jupyter.widget-state+json": {
        "f14e115d41ab433587e305be71ef41ba": {
          "model_module": "@jupyter-widgets/controls",
          "model_name": "HBoxModel",
          "state": {
            "_view_name": "HBoxView",
            "_dom_classes": [],
            "_model_name": "HBoxModel",
            "_view_module": "@jupyter-widgets/controls",
            "_model_module_version": "1.5.0",
            "_view_count": null,
            "_view_module_version": "1.5.0",
            "box_style": "",
            "layout": "IPY_MODEL_f51cae4da6e64b23b68337fc45a88735",
            "_model_module": "@jupyter-widgets/controls",
            "children": [
              "IPY_MODEL_b206f5ad376f4ca291341407729bed92",
              "IPY_MODEL_121d9894d08043fcb71c30e89115325f"
            ]
          }
        },
        "f51cae4da6e64b23b68337fc45a88735": {
          "model_module": "@jupyter-widgets/base",
          "model_name": "LayoutModel",
          "state": {
            "_view_name": "LayoutView",
            "grid_template_rows": null,
            "right": null,
            "justify_content": null,
            "_view_module": "@jupyter-widgets/base",
            "overflow": null,
            "_model_module_version": "1.2.0",
            "_view_count": null,
            "flex_flow": null,
            "width": null,
            "min_width": null,
            "border": null,
            "align_items": null,
            "bottom": null,
            "_model_module": "@jupyter-widgets/base",
            "top": null,
            "grid_column": null,
            "overflow_y": null,
            "overflow_x": null,
            "grid_auto_flow": null,
            "grid_area": null,
            "grid_template_columns": null,
            "flex": null,
            "_model_name": "LayoutModel",
            "justify_items": null,
            "grid_row": null,
            "max_height": null,
            "align_content": null,
            "visibility": null,
            "align_self": null,
            "height": null,
            "min_height": null,
            "padding": null,
            "grid_auto_rows": null,
            "grid_gap": null,
            "max_width": null,
            "order": null,
            "_view_module_version": "1.2.0",
            "grid_template_areas": null,
            "object_position": null,
            "object_fit": null,
            "grid_auto_columns": null,
            "margin": null,
            "display": null,
            "left": null
          }
        },
        "b206f5ad376f4ca291341407729bed92": {
          "model_module": "@jupyter-widgets/controls",
          "model_name": "FloatProgressModel",
          "state": {
            "_view_name": "ProgressView",
            "style": "IPY_MODEL_ecd8f45ff65f4f6e951e5faa2fd77583",
            "_dom_classes": [],
            "description": "Downloading: 100%",
            "_model_name": "FloatProgressModel",
            "bar_style": "success",
            "max": 486,
            "_view_module": "@jupyter-widgets/controls",
            "_model_module_version": "1.5.0",
            "value": 486,
            "_view_count": null,
            "_view_module_version": "1.5.0",
            "orientation": "horizontal",
            "min": 0,
            "description_tooltip": null,
            "_model_module": "@jupyter-widgets/controls",
            "layout": "IPY_MODEL_bade7b0c2ca84afbaae3b7538631bf93"
          }
        },
        "121d9894d08043fcb71c30e89115325f": {
          "model_module": "@jupyter-widgets/controls",
          "model_name": "HTMLModel",
          "state": {
            "_view_name": "HTMLView",
            "style": "IPY_MODEL_a5992f3c08b64385a78daee3927ae346",
            "_dom_classes": [],
            "description": "",
            "_model_name": "HTMLModel",
            "placeholder": "​",
            "_view_module": "@jupyter-widgets/controls",
            "_model_module_version": "1.5.0",
            "value": " 486/486 [00:18&lt;00:00, 27.0B/s]",
            "_view_count": null,
            "_view_module_version": "1.5.0",
            "description_tooltip": null,
            "_model_module": "@jupyter-widgets/controls",
            "layout": "IPY_MODEL_25c2391305c3425793ee0c9ac8990de7"
          }
        },
        "ecd8f45ff65f4f6e951e5faa2fd77583": {
          "model_module": "@jupyter-widgets/controls",
          "model_name": "ProgressStyleModel",
          "state": {
            "_view_name": "StyleView",
            "_model_name": "ProgressStyleModel",
            "description_width": "initial",
            "_view_module": "@jupyter-widgets/base",
            "_model_module_version": "1.5.0",
            "_view_count": null,
            "_view_module_version": "1.2.0",
            "bar_color": null,
            "_model_module": "@jupyter-widgets/controls"
          }
        },
        "bade7b0c2ca84afbaae3b7538631bf93": {
          "model_module": "@jupyter-widgets/base",
          "model_name": "LayoutModel",
          "state": {
            "_view_name": "LayoutView",
            "grid_template_rows": null,
            "right": null,
            "justify_content": null,
            "_view_module": "@jupyter-widgets/base",
            "overflow": null,
            "_model_module_version": "1.2.0",
            "_view_count": null,
            "flex_flow": null,
            "width": null,
            "min_width": null,
            "border": null,
            "align_items": null,
            "bottom": null,
            "_model_module": "@jupyter-widgets/base",
            "top": null,
            "grid_column": null,
            "overflow_y": null,
            "overflow_x": null,
            "grid_auto_flow": null,
            "grid_area": null,
            "grid_template_columns": null,
            "flex": null,
            "_model_name": "LayoutModel",
            "justify_items": null,
            "grid_row": null,
            "max_height": null,
            "align_content": null,
            "visibility": null,
            "align_self": null,
            "height": null,
            "min_height": null,
            "padding": null,
            "grid_auto_rows": null,
            "grid_gap": null,
            "max_width": null,
            "order": null,
            "_view_module_version": "1.2.0",
            "grid_template_areas": null,
            "object_position": null,
            "object_fit": null,
            "grid_auto_columns": null,
            "margin": null,
            "display": null,
            "left": null
          }
        },
        "a5992f3c08b64385a78daee3927ae346": {
          "model_module": "@jupyter-widgets/controls",
          "model_name": "DescriptionStyleModel",
          "state": {
            "_view_name": "StyleView",
            "_model_name": "DescriptionStyleModel",
            "description_width": "",
            "_view_module": "@jupyter-widgets/base",
            "_model_module_version": "1.5.0",
            "_view_count": null,
            "_view_module_version": "1.2.0",
            "_model_module": "@jupyter-widgets/controls"
          }
        },
        "25c2391305c3425793ee0c9ac8990de7": {
          "model_module": "@jupyter-widgets/base",
          "model_name": "LayoutModel",
          "state": {
            "_view_name": "LayoutView",
            "grid_template_rows": null,
            "right": null,
            "justify_content": null,
            "_view_module": "@jupyter-widgets/base",
            "overflow": null,
            "_model_module_version": "1.2.0",
            "_view_count": null,
            "flex_flow": null,
            "width": null,
            "min_width": null,
            "border": null,
            "align_items": null,
            "bottom": null,
            "_model_module": "@jupyter-widgets/base",
            "top": null,
            "grid_column": null,
            "overflow_y": null,
            "overflow_x": null,
            "grid_auto_flow": null,
            "grid_area": null,
            "grid_template_columns": null,
            "flex": null,
            "_model_name": "LayoutModel",
            "justify_items": null,
            "grid_row": null,
            "max_height": null,
            "align_content": null,
            "visibility": null,
            "align_self": null,
            "height": null,
            "min_height": null,
            "padding": null,
            "grid_auto_rows": null,
            "grid_gap": null,
            "max_width": null,
            "order": null,
            "_view_module_version": "1.2.0",
            "grid_template_areas": null,
            "object_position": null,
            "object_fit": null,
            "grid_auto_columns": null,
            "margin": null,
            "display": null,
            "left": null
          }
        },
        "9dd79d38883640f28f8cbcd1f664fa0c": {
          "model_module": "@jupyter-widgets/controls",
          "model_name": "HBoxModel",
          "state": {
            "_view_name": "HBoxView",
            "_dom_classes": [],
            "_model_name": "HBoxModel",
            "_view_module": "@jupyter-widgets/controls",
            "_model_module_version": "1.5.0",
            "_view_count": null,
            "_view_module_version": "1.5.0",
            "box_style": "",
            "layout": "IPY_MODEL_047a74f1f80c4df3ad3e98c40fc32f28",
            "_model_module": "@jupyter-widgets/controls",
            "children": [
              "IPY_MODEL_019c7a79b3d24c3a9cec553955224741",
              "IPY_MODEL_39bbf040d7f3439d8a52f7bebd3a27f7"
            ]
          }
        },
        "047a74f1f80c4df3ad3e98c40fc32f28": {
          "model_module": "@jupyter-widgets/base",
          "model_name": "LayoutModel",
          "state": {
            "_view_name": "LayoutView",
            "grid_template_rows": null,
            "right": null,
            "justify_content": null,
            "_view_module": "@jupyter-widgets/base",
            "overflow": null,
            "_model_module_version": "1.2.0",
            "_view_count": null,
            "flex_flow": null,
            "width": null,
            "min_width": null,
            "border": null,
            "align_items": null,
            "bottom": null,
            "_model_module": "@jupyter-widgets/base",
            "top": null,
            "grid_column": null,
            "overflow_y": null,
            "overflow_x": null,
            "grid_auto_flow": null,
            "grid_area": null,
            "grid_template_columns": null,
            "flex": null,
            "_model_name": "LayoutModel",
            "justify_items": null,
            "grid_row": null,
            "max_height": null,
            "align_content": null,
            "visibility": null,
            "align_self": null,
            "height": null,
            "min_height": null,
            "padding": null,
            "grid_auto_rows": null,
            "grid_gap": null,
            "max_width": null,
            "order": null,
            "_view_module_version": "1.2.0",
            "grid_template_areas": null,
            "object_position": null,
            "object_fit": null,
            "grid_auto_columns": null,
            "margin": null,
            "display": null,
            "left": null
          }
        },
        "019c7a79b3d24c3a9cec553955224741": {
          "model_module": "@jupyter-widgets/controls",
          "model_name": "FloatProgressModel",
          "state": {
            "_view_name": "ProgressView",
            "style": "IPY_MODEL_c5ee4cb487504be2b7ae222681145a5d",
            "_dom_classes": [],
            "description": "Downloading: 100%",
            "_model_name": "FloatProgressModel",
            "bar_style": "success",
            "max": 267845150,
            "_view_module": "@jupyter-widgets/controls",
            "_model_module_version": "1.5.0",
            "value": 267845150,
            "_view_count": null,
            "_view_module_version": "1.5.0",
            "orientation": "horizontal",
            "min": 0,
            "description_tooltip": null,
            "_model_module": "@jupyter-widgets/controls",
            "layout": "IPY_MODEL_d3a5cd19ac72422f8f9c6d807eaf488d"
          }
        },
        "39bbf040d7f3439d8a52f7bebd3a27f7": {
          "model_module": "@jupyter-widgets/controls",
          "model_name": "HTMLModel",
          "state": {
            "_view_name": "HTMLView",
            "style": "IPY_MODEL_d6c08cfaa8fc4fe1a8997d1771669b57",
            "_dom_classes": [],
            "description": "",
            "_model_name": "HTMLModel",
            "placeholder": "​",
            "_view_module": "@jupyter-widgets/controls",
            "_model_module_version": "1.5.0",
            "value": " 268M/268M [00:08&lt;00:00, 31.5MB/s]",
            "_view_count": null,
            "_view_module_version": "1.5.0",
            "description_tooltip": null,
            "_model_module": "@jupyter-widgets/controls",
            "layout": "IPY_MODEL_58ca6ae3cbfc46f493dddee611566b49"
          }
        },
        "c5ee4cb487504be2b7ae222681145a5d": {
          "model_module": "@jupyter-widgets/controls",
          "model_name": "ProgressStyleModel",
          "state": {
            "_view_name": "StyleView",
            "_model_name": "ProgressStyleModel",
            "description_width": "initial",
            "_view_module": "@jupyter-widgets/base",
            "_model_module_version": "1.5.0",
            "_view_count": null,
            "_view_module_version": "1.2.0",
            "bar_color": null,
            "_model_module": "@jupyter-widgets/controls"
          }
        },
        "d3a5cd19ac72422f8f9c6d807eaf488d": {
          "model_module": "@jupyter-widgets/base",
          "model_name": "LayoutModel",
          "state": {
            "_view_name": "LayoutView",
            "grid_template_rows": null,
            "right": null,
            "justify_content": null,
            "_view_module": "@jupyter-widgets/base",
            "overflow": null,
            "_model_module_version": "1.2.0",
            "_view_count": null,
            "flex_flow": null,
            "width": null,
            "min_width": null,
            "border": null,
            "align_items": null,
            "bottom": null,
            "_model_module": "@jupyter-widgets/base",
            "top": null,
            "grid_column": null,
            "overflow_y": null,
            "overflow_x": null,
            "grid_auto_flow": null,
            "grid_area": null,
            "grid_template_columns": null,
            "flex": null,
            "_model_name": "LayoutModel",
            "justify_items": null,
            "grid_row": null,
            "max_height": null,
            "align_content": null,
            "visibility": null,
            "align_self": null,
            "height": null,
            "min_height": null,
            "padding": null,
            "grid_auto_rows": null,
            "grid_gap": null,
            "max_width": null,
            "order": null,
            "_view_module_version": "1.2.0",
            "grid_template_areas": null,
            "object_position": null,
            "object_fit": null,
            "grid_auto_columns": null,
            "margin": null,
            "display": null,
            "left": null
          }
        },
        "d6c08cfaa8fc4fe1a8997d1771669b57": {
          "model_module": "@jupyter-widgets/controls",
          "model_name": "DescriptionStyleModel",
          "state": {
            "_view_name": "StyleView",
            "_model_name": "DescriptionStyleModel",
            "description_width": "",
            "_view_module": "@jupyter-widgets/base",
            "_model_module_version": "1.5.0",
            "_view_count": null,
            "_view_module_version": "1.2.0",
            "_model_module": "@jupyter-widgets/controls"
          }
        },
        "58ca6ae3cbfc46f493dddee611566b49": {
          "model_module": "@jupyter-widgets/base",
          "model_name": "LayoutModel",
          "state": {
            "_view_name": "LayoutView",
            "grid_template_rows": null,
            "right": null,
            "justify_content": null,
            "_view_module": "@jupyter-widgets/base",
            "overflow": null,
            "_model_module_version": "1.2.0",
            "_view_count": null,
            "flex_flow": null,
            "width": null,
            "min_width": null,
            "border": null,
            "align_items": null,
            "bottom": null,
            "_model_module": "@jupyter-widgets/base",
            "top": null,
            "grid_column": null,
            "overflow_y": null,
            "overflow_x": null,
            "grid_auto_flow": null,
            "grid_area": null,
            "grid_template_columns": null,
            "flex": null,
            "_model_name": "LayoutModel",
            "justify_items": null,
            "grid_row": null,
            "max_height": null,
            "align_content": null,
            "visibility": null,
            "align_self": null,
            "height": null,
            "min_height": null,
            "padding": null,
            "grid_auto_rows": null,
            "grid_gap": null,
            "max_width": null,
            "order": null,
            "_view_module_version": "1.2.0",
            "grid_template_areas": null,
            "object_position": null,
            "object_fit": null,
            "grid_auto_columns": null,
            "margin": null,
            "display": null,
            "left": null
          }
        },
        "11f29a2fff5f47e2a34789d714104c4e": {
          "model_module": "@jupyter-widgets/controls",
          "model_name": "HBoxModel",
          "state": {
            "_view_name": "HBoxView",
            "_dom_classes": [],
            "_model_name": "HBoxModel",
            "_view_module": "@jupyter-widgets/controls",
            "_model_module_version": "1.5.0",
            "_view_count": null,
            "_view_module_version": "1.5.0",
            "box_style": "",
            "layout": "IPY_MODEL_5b3942fab38146ceb1a7ceda9cd818a5",
            "_model_module": "@jupyter-widgets/controls",
            "children": [
              "IPY_MODEL_f0e9d215d89f40d0b76b996d764328bb",
              "IPY_MODEL_6feb25692cfe47f3b0023e826bb5b0b5"
            ]
          }
        },
        "5b3942fab38146ceb1a7ceda9cd818a5": {
          "model_module": "@jupyter-widgets/base",
          "model_name": "LayoutModel",
          "state": {
            "_view_name": "LayoutView",
            "grid_template_rows": null,
            "right": null,
            "justify_content": null,
            "_view_module": "@jupyter-widgets/base",
            "overflow": null,
            "_model_module_version": "1.2.0",
            "_view_count": null,
            "flex_flow": null,
            "width": null,
            "min_width": null,
            "border": null,
            "align_items": null,
            "bottom": null,
            "_model_module": "@jupyter-widgets/base",
            "top": null,
            "grid_column": null,
            "overflow_y": null,
            "overflow_x": null,
            "grid_auto_flow": null,
            "grid_area": null,
            "grid_template_columns": null,
            "flex": null,
            "_model_name": "LayoutModel",
            "justify_items": null,
            "grid_row": null,
            "max_height": null,
            "align_content": null,
            "visibility": null,
            "align_self": null,
            "height": null,
            "min_height": null,
            "padding": null,
            "grid_auto_rows": null,
            "grid_gap": null,
            "max_width": null,
            "order": null,
            "_view_module_version": "1.2.0",
            "grid_template_areas": null,
            "object_position": null,
            "object_fit": null,
            "grid_auto_columns": null,
            "margin": null,
            "display": null,
            "left": null
          }
        },
        "f0e9d215d89f40d0b76b996d764328bb": {
          "model_module": "@jupyter-widgets/controls",
          "model_name": "FloatProgressModel",
          "state": {
            "_view_name": "ProgressView",
            "style": "IPY_MODEL_c25477c719184dcbb8ef7e697f660f74",
            "_dom_classes": [],
            "description": "Downloading: 100%",
            "_model_name": "FloatProgressModel",
            "bar_style": "success",
            "max": 231508,
            "_view_module": "@jupyter-widgets/controls",
            "_model_module_version": "1.5.0",
            "value": 231508,
            "_view_count": null,
            "_view_module_version": "1.5.0",
            "orientation": "horizontal",
            "min": 0,
            "description_tooltip": null,
            "_model_module": "@jupyter-widgets/controls",
            "layout": "IPY_MODEL_6ce80c17777f424ca4b618cf368d507b"
          }
        },
        "6feb25692cfe47f3b0023e826bb5b0b5": {
          "model_module": "@jupyter-widgets/controls",
          "model_name": "HTMLModel",
          "state": {
            "_view_name": "HTMLView",
            "style": "IPY_MODEL_8500ff0fa37544a29ee78befdcdec046",
            "_dom_classes": [],
            "description": "",
            "_model_name": "HTMLModel",
            "placeholder": "​",
            "_view_module": "@jupyter-widgets/controls",
            "_model_module_version": "1.5.0",
            "value": " 232k/232k [00:04&lt;00:00, 51.4kB/s]",
            "_view_count": null,
            "_view_module_version": "1.5.0",
            "description_tooltip": null,
            "_model_module": "@jupyter-widgets/controls",
            "layout": "IPY_MODEL_c70381bc6aa4490782e4a04657207f96"
          }
        },
        "c25477c719184dcbb8ef7e697f660f74": {
          "model_module": "@jupyter-widgets/controls",
          "model_name": "ProgressStyleModel",
          "state": {
            "_view_name": "StyleView",
            "_model_name": "ProgressStyleModel",
            "description_width": "initial",
            "_view_module": "@jupyter-widgets/base",
            "_model_module_version": "1.5.0",
            "_view_count": null,
            "_view_module_version": "1.2.0",
            "bar_color": null,
            "_model_module": "@jupyter-widgets/controls"
          }
        },
        "6ce80c17777f424ca4b618cf368d507b": {
          "model_module": "@jupyter-widgets/base",
          "model_name": "LayoutModel",
          "state": {
            "_view_name": "LayoutView",
            "grid_template_rows": null,
            "right": null,
            "justify_content": null,
            "_view_module": "@jupyter-widgets/base",
            "overflow": null,
            "_model_module_version": "1.2.0",
            "_view_count": null,
            "flex_flow": null,
            "width": null,
            "min_width": null,
            "border": null,
            "align_items": null,
            "bottom": null,
            "_model_module": "@jupyter-widgets/base",
            "top": null,
            "grid_column": null,
            "overflow_y": null,
            "overflow_x": null,
            "grid_auto_flow": null,
            "grid_area": null,
            "grid_template_columns": null,
            "flex": null,
            "_model_name": "LayoutModel",
            "justify_items": null,
            "grid_row": null,
            "max_height": null,
            "align_content": null,
            "visibility": null,
            "align_self": null,
            "height": null,
            "min_height": null,
            "padding": null,
            "grid_auto_rows": null,
            "grid_gap": null,
            "max_width": null,
            "order": null,
            "_view_module_version": "1.2.0",
            "grid_template_areas": null,
            "object_position": null,
            "object_fit": null,
            "grid_auto_columns": null,
            "margin": null,
            "display": null,
            "left": null
          }
        },
        "8500ff0fa37544a29ee78befdcdec046": {
          "model_module": "@jupyter-widgets/controls",
          "model_name": "DescriptionStyleModel",
          "state": {
            "_view_name": "StyleView",
            "_model_name": "DescriptionStyleModel",
            "description_width": "",
            "_view_module": "@jupyter-widgets/base",
            "_model_module_version": "1.5.0",
            "_view_count": null,
            "_view_module_version": "1.2.0",
            "_model_module": "@jupyter-widgets/controls"
          }
        },
        "c70381bc6aa4490782e4a04657207f96": {
          "model_module": "@jupyter-widgets/base",
          "model_name": "LayoutModel",
          "state": {
            "_view_name": "LayoutView",
            "grid_template_rows": null,
            "right": null,
            "justify_content": null,
            "_view_module": "@jupyter-widgets/base",
            "overflow": null,
            "_model_module_version": "1.2.0",
            "_view_count": null,
            "flex_flow": null,
            "width": null,
            "min_width": null,
            "border": null,
            "align_items": null,
            "bottom": null,
            "_model_module": "@jupyter-widgets/base",
            "top": null,
            "grid_column": null,
            "overflow_y": null,
            "overflow_x": null,
            "grid_auto_flow": null,
            "grid_area": null,
            "grid_template_columns": null,
            "flex": null,
            "_model_name": "LayoutModel",
            "justify_items": null,
            "grid_row": null,
            "max_height": null,
            "align_content": null,
            "visibility": null,
            "align_self": null,
            "height": null,
            "min_height": null,
            "padding": null,
            "grid_auto_rows": null,
            "grid_gap": null,
            "max_width": null,
            "order": null,
            "_view_module_version": "1.2.0",
            "grid_template_areas": null,
            "object_position": null,
            "object_fit": null,
            "grid_auto_columns": null,
            "margin": null,
            "display": null,
            "left": null
          }
        },
        "905ce82a1b1d4c079853d510fe6073b4": {
          "model_module": "@jupyter-widgets/controls",
          "model_name": "HBoxModel",
          "state": {
            "_view_name": "HBoxView",
            "_dom_classes": [],
            "_model_name": "HBoxModel",
            "_view_module": "@jupyter-widgets/controls",
            "_model_module_version": "1.5.0",
            "_view_count": null,
            "_view_module_version": "1.5.0",
            "box_style": "",
            "layout": "IPY_MODEL_ad1490b4e4464e0cb7d894820b939435",
            "_model_module": "@jupyter-widgets/controls",
            "children": [
              "IPY_MODEL_b3faf913c82f48dd90beba8db690c792",
              "IPY_MODEL_4492dfff6e9b45c49958f8e4ca687993"
            ]
          }
        },
        "ad1490b4e4464e0cb7d894820b939435": {
          "model_module": "@jupyter-widgets/base",
          "model_name": "LayoutModel",
          "state": {
            "_view_name": "LayoutView",
            "grid_template_rows": null,
            "right": null,
            "justify_content": null,
            "_view_module": "@jupyter-widgets/base",
            "overflow": null,
            "_model_module_version": "1.2.0",
            "_view_count": null,
            "flex_flow": null,
            "width": null,
            "min_width": null,
            "border": null,
            "align_items": null,
            "bottom": null,
            "_model_module": "@jupyter-widgets/base",
            "top": null,
            "grid_column": null,
            "overflow_y": null,
            "overflow_x": null,
            "grid_auto_flow": null,
            "grid_area": null,
            "grid_template_columns": null,
            "flex": null,
            "_model_name": "LayoutModel",
            "justify_items": null,
            "grid_row": null,
            "max_height": null,
            "align_content": null,
            "visibility": null,
            "align_self": null,
            "height": null,
            "min_height": null,
            "padding": null,
            "grid_auto_rows": null,
            "grid_gap": null,
            "max_width": null,
            "order": null,
            "_view_module_version": "1.2.0",
            "grid_template_areas": null,
            "object_position": null,
            "object_fit": null,
            "grid_auto_columns": null,
            "margin": null,
            "display": null,
            "left": null
          }
        },
        "b3faf913c82f48dd90beba8db690c792": {
          "model_module": "@jupyter-widgets/controls",
          "model_name": "FloatProgressModel",
          "state": {
            "_view_name": "ProgressView",
            "style": "IPY_MODEL_116340de9fb241809d2b98c039a3361c",
            "_dom_classes": [],
            "description": "Downloading: 100%",
            "_model_name": "FloatProgressModel",
            "bar_style": "success",
            "max": 112,
            "_view_module": "@jupyter-widgets/controls",
            "_model_module_version": "1.5.0",
            "value": 112,
            "_view_count": null,
            "_view_module_version": "1.5.0",
            "orientation": "horizontal",
            "min": 0,
            "description_tooltip": null,
            "_model_module": "@jupyter-widgets/controls",
            "layout": "IPY_MODEL_2966dea8e7354ae68d94dd7e99d0aa12"
          }
        },
        "4492dfff6e9b45c49958f8e4ca687993": {
          "model_module": "@jupyter-widgets/controls",
          "model_name": "HTMLModel",
          "state": {
            "_view_name": "HTMLView",
            "style": "IPY_MODEL_ddfd9e6d50d34cd191b66ed91a415d51",
            "_dom_classes": [],
            "description": "",
            "_model_name": "HTMLModel",
            "placeholder": "​",
            "_view_module": "@jupyter-widgets/controls",
            "_model_module_version": "1.5.0",
            "value": " 112/112 [00:01&lt;00:00, 73.0B/s]",
            "_view_count": null,
            "_view_module_version": "1.5.0",
            "description_tooltip": null,
            "_model_module": "@jupyter-widgets/controls",
            "layout": "IPY_MODEL_8d5f5d3ecd7c4fb98298bc6e32c2c935"
          }
        },
        "116340de9fb241809d2b98c039a3361c": {
          "model_module": "@jupyter-widgets/controls",
          "model_name": "ProgressStyleModel",
          "state": {
            "_view_name": "StyleView",
            "_model_name": "ProgressStyleModel",
            "description_width": "initial",
            "_view_module": "@jupyter-widgets/base",
            "_model_module_version": "1.5.0",
            "_view_count": null,
            "_view_module_version": "1.2.0",
            "bar_color": null,
            "_model_module": "@jupyter-widgets/controls"
          }
        },
        "2966dea8e7354ae68d94dd7e99d0aa12": {
          "model_module": "@jupyter-widgets/base",
          "model_name": "LayoutModel",
          "state": {
            "_view_name": "LayoutView",
            "grid_template_rows": null,
            "right": null,
            "justify_content": null,
            "_view_module": "@jupyter-widgets/base",
            "overflow": null,
            "_model_module_version": "1.2.0",
            "_view_count": null,
            "flex_flow": null,
            "width": null,
            "min_width": null,
            "border": null,
            "align_items": null,
            "bottom": null,
            "_model_module": "@jupyter-widgets/base",
            "top": null,
            "grid_column": null,
            "overflow_y": null,
            "overflow_x": null,
            "grid_auto_flow": null,
            "grid_area": null,
            "grid_template_columns": null,
            "flex": null,
            "_model_name": "LayoutModel",
            "justify_items": null,
            "grid_row": null,
            "max_height": null,
            "align_content": null,
            "visibility": null,
            "align_self": null,
            "height": null,
            "min_height": null,
            "padding": null,
            "grid_auto_rows": null,
            "grid_gap": null,
            "max_width": null,
            "order": null,
            "_view_module_version": "1.2.0",
            "grid_template_areas": null,
            "object_position": null,
            "object_fit": null,
            "grid_auto_columns": null,
            "margin": null,
            "display": null,
            "left": null
          }
        },
        "ddfd9e6d50d34cd191b66ed91a415d51": {
          "model_module": "@jupyter-widgets/controls",
          "model_name": "DescriptionStyleModel",
          "state": {
            "_view_name": "StyleView",
            "_model_name": "DescriptionStyleModel",
            "description_width": "",
            "_view_module": "@jupyter-widgets/base",
            "_model_module_version": "1.5.0",
            "_view_count": null,
            "_view_module_version": "1.2.0",
            "_model_module": "@jupyter-widgets/controls"
          }
        },
        "8d5f5d3ecd7c4fb98298bc6e32c2c935": {
          "model_module": "@jupyter-widgets/base",
          "model_name": "LayoutModel",
          "state": {
            "_view_name": "LayoutView",
            "grid_template_rows": null,
            "right": null,
            "justify_content": null,
            "_view_module": "@jupyter-widgets/base",
            "overflow": null,
            "_model_module_version": "1.2.0",
            "_view_count": null,
            "flex_flow": null,
            "width": null,
            "min_width": null,
            "border": null,
            "align_items": null,
            "bottom": null,
            "_model_module": "@jupyter-widgets/base",
            "top": null,
            "grid_column": null,
            "overflow_y": null,
            "overflow_x": null,
            "grid_auto_flow": null,
            "grid_area": null,
            "grid_template_columns": null,
            "flex": null,
            "_model_name": "LayoutModel",
            "justify_items": null,
            "grid_row": null,
            "max_height": null,
            "align_content": null,
            "visibility": null,
            "align_self": null,
            "height": null,
            "min_height": null,
            "padding": null,
            "grid_auto_rows": null,
            "grid_gap": null,
            "max_width": null,
            "order": null,
            "_view_module_version": "1.2.0",
            "grid_template_areas": null,
            "object_position": null,
            "object_fit": null,
            "grid_auto_columns": null,
            "margin": null,
            "display": null,
            "left": null
          }
        },
        "e85c800569064a6193486cd3a9674a7f": {
          "model_module": "@jupyter-widgets/controls",
          "model_name": "HBoxModel",
          "state": {
            "_view_name": "HBoxView",
            "_dom_classes": [],
            "_model_name": "HBoxModel",
            "_view_module": "@jupyter-widgets/controls",
            "_model_module_version": "1.5.0",
            "_view_count": null,
            "_view_module_version": "1.5.0",
            "box_style": "",
            "layout": "IPY_MODEL_a79ad704d77b4206bb55db938c7bf4d3",
            "_model_module": "@jupyter-widgets/controls",
            "children": [
              "IPY_MODEL_72a6b1bc2c494f1686b3573748ed4491",
              "IPY_MODEL_6a5021f43ac04b419ef7f0c72ab66b87"
            ]
          }
        },
        "a79ad704d77b4206bb55db938c7bf4d3": {
          "model_module": "@jupyter-widgets/base",
          "model_name": "LayoutModel",
          "state": {
            "_view_name": "LayoutView",
            "grid_template_rows": null,
            "right": null,
            "justify_content": null,
            "_view_module": "@jupyter-widgets/base",
            "overflow": null,
            "_model_module_version": "1.2.0",
            "_view_count": null,
            "flex_flow": null,
            "width": null,
            "min_width": null,
            "border": null,
            "align_items": null,
            "bottom": null,
            "_model_module": "@jupyter-widgets/base",
            "top": null,
            "grid_column": null,
            "overflow_y": null,
            "overflow_x": null,
            "grid_auto_flow": null,
            "grid_area": null,
            "grid_template_columns": null,
            "flex": null,
            "_model_name": "LayoutModel",
            "justify_items": null,
            "grid_row": null,
            "max_height": null,
            "align_content": null,
            "visibility": null,
            "align_self": null,
            "height": null,
            "min_height": null,
            "padding": null,
            "grid_auto_rows": null,
            "grid_gap": null,
            "max_width": null,
            "order": null,
            "_view_module_version": "1.2.0",
            "grid_template_areas": null,
            "object_position": null,
            "object_fit": null,
            "grid_auto_columns": null,
            "margin": null,
            "display": null,
            "left": null
          }
        },
        "72a6b1bc2c494f1686b3573748ed4491": {
          "model_module": "@jupyter-widgets/controls",
          "model_name": "FloatProgressModel",
          "state": {
            "_view_name": "ProgressView",
            "style": "IPY_MODEL_7a9fd25a17e54687a894b0d1c4c3cb7b",
            "_dom_classes": [],
            "description": "Downloading: 100%",
            "_model_name": "FloatProgressModel",
            "bar_style": "success",
            "max": 48,
            "_view_module": "@jupyter-widgets/controls",
            "_model_module_version": "1.5.0",
            "value": 48,
            "_view_count": null,
            "_view_module_version": "1.5.0",
            "orientation": "horizontal",
            "min": 0,
            "description_tooltip": null,
            "_model_module": "@jupyter-widgets/controls",
            "layout": "IPY_MODEL_adafe8ead6a34558b1e09bc1db2c4d51"
          }
        },
        "6a5021f43ac04b419ef7f0c72ab66b87": {
          "model_module": "@jupyter-widgets/controls",
          "model_name": "HTMLModel",
          "state": {
            "_view_name": "HTMLView",
            "style": "IPY_MODEL_e386e14648744d54874dc7c3230edfd9",
            "_dom_classes": [],
            "description": "",
            "_model_name": "HTMLModel",
            "placeholder": "​",
            "_view_module": "@jupyter-widgets/controls",
            "_model_module_version": "1.5.0",
            "value": " 48.0/48.0 [00:00&lt;00:00, 550B/s]",
            "_view_count": null,
            "_view_module_version": "1.5.0",
            "description_tooltip": null,
            "_model_module": "@jupyter-widgets/controls",
            "layout": "IPY_MODEL_44ad910cf303424ea57578b4df66f777"
          }
        },
        "7a9fd25a17e54687a894b0d1c4c3cb7b": {
          "model_module": "@jupyter-widgets/controls",
          "model_name": "ProgressStyleModel",
          "state": {
            "_view_name": "StyleView",
            "_model_name": "ProgressStyleModel",
            "description_width": "initial",
            "_view_module": "@jupyter-widgets/base",
            "_model_module_version": "1.5.0",
            "_view_count": null,
            "_view_module_version": "1.2.0",
            "bar_color": null,
            "_model_module": "@jupyter-widgets/controls"
          }
        },
        "adafe8ead6a34558b1e09bc1db2c4d51": {
          "model_module": "@jupyter-widgets/base",
          "model_name": "LayoutModel",
          "state": {
            "_view_name": "LayoutView",
            "grid_template_rows": null,
            "right": null,
            "justify_content": null,
            "_view_module": "@jupyter-widgets/base",
            "overflow": null,
            "_model_module_version": "1.2.0",
            "_view_count": null,
            "flex_flow": null,
            "width": null,
            "min_width": null,
            "border": null,
            "align_items": null,
            "bottom": null,
            "_model_module": "@jupyter-widgets/base",
            "top": null,
            "grid_column": null,
            "overflow_y": null,
            "overflow_x": null,
            "grid_auto_flow": null,
            "grid_area": null,
            "grid_template_columns": null,
            "flex": null,
            "_model_name": "LayoutModel",
            "justify_items": null,
            "grid_row": null,
            "max_height": null,
            "align_content": null,
            "visibility": null,
            "align_self": null,
            "height": null,
            "min_height": null,
            "padding": null,
            "grid_auto_rows": null,
            "grid_gap": null,
            "max_width": null,
            "order": null,
            "_view_module_version": "1.2.0",
            "grid_template_areas": null,
            "object_position": null,
            "object_fit": null,
            "grid_auto_columns": null,
            "margin": null,
            "display": null,
            "left": null
          }
        },
        "e386e14648744d54874dc7c3230edfd9": {
          "model_module": "@jupyter-widgets/controls",
          "model_name": "DescriptionStyleModel",
          "state": {
            "_view_name": "StyleView",
            "_model_name": "DescriptionStyleModel",
            "description_width": "",
            "_view_module": "@jupyter-widgets/base",
            "_model_module_version": "1.5.0",
            "_view_count": null,
            "_view_module_version": "1.2.0",
            "_model_module": "@jupyter-widgets/controls"
          }
        },
        "44ad910cf303424ea57578b4df66f777": {
          "model_module": "@jupyter-widgets/base",
          "model_name": "LayoutModel",
          "state": {
            "_view_name": "LayoutView",
            "grid_template_rows": null,
            "right": null,
            "justify_content": null,
            "_view_module": "@jupyter-widgets/base",
            "overflow": null,
            "_model_module_version": "1.2.0",
            "_view_count": null,
            "flex_flow": null,
            "width": null,
            "min_width": null,
            "border": null,
            "align_items": null,
            "bottom": null,
            "_model_module": "@jupyter-widgets/base",
            "top": null,
            "grid_column": null,
            "overflow_y": null,
            "overflow_x": null,
            "grid_auto_flow": null,
            "grid_area": null,
            "grid_template_columns": null,
            "flex": null,
            "_model_name": "LayoutModel",
            "justify_items": null,
            "grid_row": null,
            "max_height": null,
            "align_content": null,
            "visibility": null,
            "align_self": null,
            "height": null,
            "min_height": null,
            "padding": null,
            "grid_auto_rows": null,
            "grid_gap": null,
            "max_width": null,
            "order": null,
            "_view_module_version": "1.2.0",
            "grid_template_areas": null,
            "object_position": null,
            "object_fit": null,
            "grid_auto_columns": null,
            "margin": null,
            "display": null,
            "left": null
          }
        },
        "572f11a884e5431aa415e4b702563cec": {
          "model_module": "@jupyter-widgets/controls",
          "model_name": "HBoxModel",
          "state": {
            "_view_name": "HBoxView",
            "_dom_classes": [],
            "_model_name": "HBoxModel",
            "_view_module": "@jupyter-widgets/controls",
            "_model_module_version": "1.5.0",
            "_view_count": null,
            "_view_module_version": "1.5.0",
            "box_style": "",
            "layout": "IPY_MODEL_493463d34e8b448fb206a9f39d99b6e0",
            "_model_module": "@jupyter-widgets/controls",
            "children": [
              "IPY_MODEL_9bdf90ec42a44e10be42bb8274aaeaf5",
              "IPY_MODEL_499beaa8e8204c14ad1fd09900362f9e"
            ]
          }
        },
        "493463d34e8b448fb206a9f39d99b6e0": {
          "model_module": "@jupyter-widgets/base",
          "model_name": "LayoutModel",
          "state": {
            "_view_name": "LayoutView",
            "grid_template_rows": null,
            "right": null,
            "justify_content": null,
            "_view_module": "@jupyter-widgets/base",
            "overflow": null,
            "_model_module_version": "1.2.0",
            "_view_count": null,
            "flex_flow": null,
            "width": null,
            "min_width": null,
            "border": null,
            "align_items": null,
            "bottom": null,
            "_model_module": "@jupyter-widgets/base",
            "top": null,
            "grid_column": null,
            "overflow_y": null,
            "overflow_x": null,
            "grid_auto_flow": null,
            "grid_area": null,
            "grid_template_columns": null,
            "flex": null,
            "_model_name": "LayoutModel",
            "justify_items": null,
            "grid_row": null,
            "max_height": null,
            "align_content": null,
            "visibility": null,
            "align_self": null,
            "height": null,
            "min_height": null,
            "padding": null,
            "grid_auto_rows": null,
            "grid_gap": null,
            "max_width": null,
            "order": null,
            "_view_module_version": "1.2.0",
            "grid_template_areas": null,
            "object_position": null,
            "object_fit": null,
            "grid_auto_columns": null,
            "margin": null,
            "display": null,
            "left": null
          }
        },
        "9bdf90ec42a44e10be42bb8274aaeaf5": {
          "model_module": "@jupyter-widgets/controls",
          "model_name": "FloatProgressModel",
          "state": {
            "_view_name": "ProgressView",
            "style": "IPY_MODEL_943ef4e9f51349e1b56c72e438331aef",
            "_dom_classes": [],
            "description": "Downloading: ",
            "_model_name": "FloatProgressModel",
            "bar_style": "success",
            "max": 7777,
            "_view_module": "@jupyter-widgets/controls",
            "_model_module_version": "1.5.0",
            "value": 7777,
            "_view_count": null,
            "_view_module_version": "1.5.0",
            "orientation": "horizontal",
            "min": 0,
            "description_tooltip": null,
            "_model_module": "@jupyter-widgets/controls",
            "layout": "IPY_MODEL_f7e37d424224441da215ea27ff08e6f0"
          }
        },
        "499beaa8e8204c14ad1fd09900362f9e": {
          "model_module": "@jupyter-widgets/controls",
          "model_name": "HTMLModel",
          "state": {
            "_view_name": "HTMLView",
            "style": "IPY_MODEL_4a0332f8575348568aa4136452eb449f",
            "_dom_classes": [],
            "description": "",
            "_model_name": "HTMLModel",
            "placeholder": "​",
            "_view_module": "@jupyter-widgets/controls",
            "_model_module_version": "1.5.0",
            "value": " 28.8k/? [00:00&lt;00:00, 55.6kB/s]",
            "_view_count": null,
            "_view_module_version": "1.5.0",
            "description_tooltip": null,
            "_model_module": "@jupyter-widgets/controls",
            "layout": "IPY_MODEL_631badf742c64c449fbf0ca70b1889b6"
          }
        },
        "943ef4e9f51349e1b56c72e438331aef": {
          "model_module": "@jupyter-widgets/controls",
          "model_name": "ProgressStyleModel",
          "state": {
            "_view_name": "StyleView",
            "_model_name": "ProgressStyleModel",
            "description_width": "initial",
            "_view_module": "@jupyter-widgets/base",
            "_model_module_version": "1.5.0",
            "_view_count": null,
            "_view_module_version": "1.2.0",
            "bar_color": null,
            "_model_module": "@jupyter-widgets/controls"
          }
        },
        "f7e37d424224441da215ea27ff08e6f0": {
          "model_module": "@jupyter-widgets/base",
          "model_name": "LayoutModel",
          "state": {
            "_view_name": "LayoutView",
            "grid_template_rows": null,
            "right": null,
            "justify_content": null,
            "_view_module": "@jupyter-widgets/base",
            "overflow": null,
            "_model_module_version": "1.2.0",
            "_view_count": null,
            "flex_flow": null,
            "width": null,
            "min_width": null,
            "border": null,
            "align_items": null,
            "bottom": null,
            "_model_module": "@jupyter-widgets/base",
            "top": null,
            "grid_column": null,
            "overflow_y": null,
            "overflow_x": null,
            "grid_auto_flow": null,
            "grid_area": null,
            "grid_template_columns": null,
            "flex": null,
            "_model_name": "LayoutModel",
            "justify_items": null,
            "grid_row": null,
            "max_height": null,
            "align_content": null,
            "visibility": null,
            "align_self": null,
            "height": null,
            "min_height": null,
            "padding": null,
            "grid_auto_rows": null,
            "grid_gap": null,
            "max_width": null,
            "order": null,
            "_view_module_version": "1.2.0",
            "grid_template_areas": null,
            "object_position": null,
            "object_fit": null,
            "grid_auto_columns": null,
            "margin": null,
            "display": null,
            "left": null
          }
        },
        "4a0332f8575348568aa4136452eb449f": {
          "model_module": "@jupyter-widgets/controls",
          "model_name": "DescriptionStyleModel",
          "state": {
            "_view_name": "StyleView",
            "_model_name": "DescriptionStyleModel",
            "description_width": "",
            "_view_module": "@jupyter-widgets/base",
            "_model_module_version": "1.5.0",
            "_view_count": null,
            "_view_module_version": "1.2.0",
            "_model_module": "@jupyter-widgets/controls"
          }
        },
        "631badf742c64c449fbf0ca70b1889b6": {
          "model_module": "@jupyter-widgets/base",
          "model_name": "LayoutModel",
          "state": {
            "_view_name": "LayoutView",
            "grid_template_rows": null,
            "right": null,
            "justify_content": null,
            "_view_module": "@jupyter-widgets/base",
            "overflow": null,
            "_model_module_version": "1.2.0",
            "_view_count": null,
            "flex_flow": null,
            "width": null,
            "min_width": null,
            "border": null,
            "align_items": null,
            "bottom": null,
            "_model_module": "@jupyter-widgets/base",
            "top": null,
            "grid_column": null,
            "overflow_y": null,
            "overflow_x": null,
            "grid_auto_flow": null,
            "grid_area": null,
            "grid_template_columns": null,
            "flex": null,
            "_model_name": "LayoutModel",
            "justify_items": null,
            "grid_row": null,
            "max_height": null,
            "align_content": null,
            "visibility": null,
            "align_self": null,
            "height": null,
            "min_height": null,
            "padding": null,
            "grid_auto_rows": null,
            "grid_gap": null,
            "max_width": null,
            "order": null,
            "_view_module_version": "1.2.0",
            "grid_template_areas": null,
            "object_position": null,
            "object_fit": null,
            "grid_auto_columns": null,
            "margin": null,
            "display": null,
            "left": null
          }
        },
        "18762eb076cc490192b03cd760c7b069": {
          "model_module": "@jupyter-widgets/controls",
          "model_name": "HBoxModel",
          "state": {
            "_view_name": "HBoxView",
            "_dom_classes": [],
            "_model_name": "HBoxModel",
            "_view_module": "@jupyter-widgets/controls",
            "_model_module_version": "1.5.0",
            "_view_count": null,
            "_view_module_version": "1.5.0",
            "box_style": "",
            "layout": "IPY_MODEL_1bf4c768b9b444e6bbca70e28b15d57a",
            "_model_module": "@jupyter-widgets/controls",
            "children": [
              "IPY_MODEL_c8056fc560a240b98ddaae4ff801c52a",
              "IPY_MODEL_ff60413be0d64acbba538776eedd6b6a"
            ]
          }
        },
        "1bf4c768b9b444e6bbca70e28b15d57a": {
          "model_module": "@jupyter-widgets/base",
          "model_name": "LayoutModel",
          "state": {
            "_view_name": "LayoutView",
            "grid_template_rows": null,
            "right": null,
            "justify_content": null,
            "_view_module": "@jupyter-widgets/base",
            "overflow": null,
            "_model_module_version": "1.2.0",
            "_view_count": null,
            "flex_flow": null,
            "width": null,
            "min_width": null,
            "border": null,
            "align_items": null,
            "bottom": null,
            "_model_module": "@jupyter-widgets/base",
            "top": null,
            "grid_column": null,
            "overflow_y": null,
            "overflow_x": null,
            "grid_auto_flow": null,
            "grid_area": null,
            "grid_template_columns": null,
            "flex": null,
            "_model_name": "LayoutModel",
            "justify_items": null,
            "grid_row": null,
            "max_height": null,
            "align_content": null,
            "visibility": null,
            "align_self": null,
            "height": null,
            "min_height": null,
            "padding": null,
            "grid_auto_rows": null,
            "grid_gap": null,
            "max_width": null,
            "order": null,
            "_view_module_version": "1.2.0",
            "grid_template_areas": null,
            "object_position": null,
            "object_fit": null,
            "grid_auto_columns": null,
            "margin": null,
            "display": null,
            "left": null
          }
        },
        "c8056fc560a240b98ddaae4ff801c52a": {
          "model_module": "@jupyter-widgets/controls",
          "model_name": "FloatProgressModel",
          "state": {
            "_view_name": "ProgressView",
            "style": "IPY_MODEL_961dcb1b96524eb8bc0b9521162044a3",
            "_dom_classes": [],
            "description": "Downloading: ",
            "_model_name": "FloatProgressModel",
            "bar_style": "success",
            "max": 4473,
            "_view_module": "@jupyter-widgets/controls",
            "_model_module_version": "1.5.0",
            "value": 4473,
            "_view_count": null,
            "_view_module_version": "1.5.0",
            "orientation": "horizontal",
            "min": 0,
            "description_tooltip": null,
            "_model_module": "@jupyter-widgets/controls",
            "layout": "IPY_MODEL_989985bf9333454ba6e8efdf56fed5d0"
          }
        },
        "ff60413be0d64acbba538776eedd6b6a": {
          "model_module": "@jupyter-widgets/controls",
          "model_name": "HTMLModel",
          "state": {
            "_view_name": "HTMLView",
            "style": "IPY_MODEL_306edbf0807041f399a403268e5a8f18",
            "_dom_classes": [],
            "description": "",
            "_model_name": "HTMLModel",
            "placeholder": "​",
            "_view_module": "@jupyter-widgets/controls",
            "_model_module_version": "1.5.0",
            "value": " 28.7k/? [00:04&lt;00:00, 6.76kB/s]",
            "_view_count": null,
            "_view_module_version": "1.5.0",
            "description_tooltip": null,
            "_model_module": "@jupyter-widgets/controls",
            "layout": "IPY_MODEL_c293026aa1324b7c92c4e5de51684dcf"
          }
        },
        "961dcb1b96524eb8bc0b9521162044a3": {
          "model_module": "@jupyter-widgets/controls",
          "model_name": "ProgressStyleModel",
          "state": {
            "_view_name": "StyleView",
            "_model_name": "ProgressStyleModel",
            "description_width": "initial",
            "_view_module": "@jupyter-widgets/base",
            "_model_module_version": "1.5.0",
            "_view_count": null,
            "_view_module_version": "1.2.0",
            "bar_color": null,
            "_model_module": "@jupyter-widgets/controls"
          }
        },
        "989985bf9333454ba6e8efdf56fed5d0": {
          "model_module": "@jupyter-widgets/base",
          "model_name": "LayoutModel",
          "state": {
            "_view_name": "LayoutView",
            "grid_template_rows": null,
            "right": null,
            "justify_content": null,
            "_view_module": "@jupyter-widgets/base",
            "overflow": null,
            "_model_module_version": "1.2.0",
            "_view_count": null,
            "flex_flow": null,
            "width": null,
            "min_width": null,
            "border": null,
            "align_items": null,
            "bottom": null,
            "_model_module": "@jupyter-widgets/base",
            "top": null,
            "grid_column": null,
            "overflow_y": null,
            "overflow_x": null,
            "grid_auto_flow": null,
            "grid_area": null,
            "grid_template_columns": null,
            "flex": null,
            "_model_name": "LayoutModel",
            "justify_items": null,
            "grid_row": null,
            "max_height": null,
            "align_content": null,
            "visibility": null,
            "align_self": null,
            "height": null,
            "min_height": null,
            "padding": null,
            "grid_auto_rows": null,
            "grid_gap": null,
            "max_width": null,
            "order": null,
            "_view_module_version": "1.2.0",
            "grid_template_areas": null,
            "object_position": null,
            "object_fit": null,
            "grid_auto_columns": null,
            "margin": null,
            "display": null,
            "left": null
          }
        },
        "306edbf0807041f399a403268e5a8f18": {
          "model_module": "@jupyter-widgets/controls",
          "model_name": "DescriptionStyleModel",
          "state": {
            "_view_name": "StyleView",
            "_model_name": "DescriptionStyleModel",
            "description_width": "",
            "_view_module": "@jupyter-widgets/base",
            "_model_module_version": "1.5.0",
            "_view_count": null,
            "_view_module_version": "1.2.0",
            "_model_module": "@jupyter-widgets/controls"
          }
        },
        "c293026aa1324b7c92c4e5de51684dcf": {
          "model_module": "@jupyter-widgets/base",
          "model_name": "LayoutModel",
          "state": {
            "_view_name": "LayoutView",
            "grid_template_rows": null,
            "right": null,
            "justify_content": null,
            "_view_module": "@jupyter-widgets/base",
            "overflow": null,
            "_model_module_version": "1.2.0",
            "_view_count": null,
            "flex_flow": null,
            "width": null,
            "min_width": null,
            "border": null,
            "align_items": null,
            "bottom": null,
            "_model_module": "@jupyter-widgets/base",
            "top": null,
            "grid_column": null,
            "overflow_y": null,
            "overflow_x": null,
            "grid_auto_flow": null,
            "grid_area": null,
            "grid_template_columns": null,
            "flex": null,
            "_model_name": "LayoutModel",
            "justify_items": null,
            "grid_row": null,
            "max_height": null,
            "align_content": null,
            "visibility": null,
            "align_self": null,
            "height": null,
            "min_height": null,
            "padding": null,
            "grid_auto_rows": null,
            "grid_gap": null,
            "max_width": null,
            "order": null,
            "_view_module_version": "1.2.0",
            "grid_template_areas": null,
            "object_position": null,
            "object_fit": null,
            "grid_auto_columns": null,
            "margin": null,
            "display": null,
            "left": null
          }
        },
        "5f30b5ab5ee141e0a19fc9642e9c667d": {
          "model_module": "@jupyter-widgets/controls",
          "model_name": "HBoxModel",
          "state": {
            "_view_name": "HBoxView",
            "_dom_classes": [],
            "_model_name": "HBoxModel",
            "_view_module": "@jupyter-widgets/controls",
            "_model_module_version": "1.5.0",
            "_view_count": null,
            "_view_module_version": "1.5.0",
            "box_style": "",
            "layout": "IPY_MODEL_bf2e835d6b3544319ff47d0cc072be57",
            "_model_module": "@jupyter-widgets/controls",
            "children": [
              "IPY_MODEL_bc8bfbef2b714ed58fc2c714509f875d",
              "IPY_MODEL_1e69526ec1b24b72994df49686af494a"
            ]
          }
        },
        "bf2e835d6b3544319ff47d0cc072be57": {
          "model_module": "@jupyter-widgets/base",
          "model_name": "LayoutModel",
          "state": {
            "_view_name": "LayoutView",
            "grid_template_rows": null,
            "right": null,
            "justify_content": null,
            "_view_module": "@jupyter-widgets/base",
            "overflow": null,
            "_model_module_version": "1.2.0",
            "_view_count": null,
            "flex_flow": null,
            "width": null,
            "min_width": null,
            "border": null,
            "align_items": null,
            "bottom": null,
            "_model_module": "@jupyter-widgets/base",
            "top": null,
            "grid_column": null,
            "overflow_y": null,
            "overflow_x": null,
            "grid_auto_flow": null,
            "grid_area": null,
            "grid_template_columns": null,
            "flex": null,
            "_model_name": "LayoutModel",
            "justify_items": null,
            "grid_row": null,
            "max_height": null,
            "align_content": null,
            "visibility": null,
            "align_self": null,
            "height": null,
            "min_height": null,
            "padding": null,
            "grid_auto_rows": null,
            "grid_gap": null,
            "max_width": null,
            "order": null,
            "_view_module_version": "1.2.0",
            "grid_template_areas": null,
            "object_position": null,
            "object_fit": null,
            "grid_auto_columns": null,
            "margin": null,
            "display": null,
            "left": null
          }
        },
        "bc8bfbef2b714ed58fc2c714509f875d": {
          "model_module": "@jupyter-widgets/controls",
          "model_name": "FloatProgressModel",
          "state": {
            "_view_name": "ProgressView",
            "style": "IPY_MODEL_5d855e7dd9ea4324b1ca5b90deb98c30",
            "_dom_classes": [],
            "description": "Downloading: 100%",
            "_model_name": "FloatProgressModel",
            "bar_style": "success",
            "max": 7439277,
            "_view_module": "@jupyter-widgets/controls",
            "_model_module_version": "1.5.0",
            "value": 7439277,
            "_view_count": null,
            "_view_module_version": "1.5.0",
            "orientation": "horizontal",
            "min": 0,
            "description_tooltip": null,
            "_model_module": "@jupyter-widgets/controls",
            "layout": "IPY_MODEL_df7853346aa446aaba1ee9a31054b7c2"
          }
        },
        "1e69526ec1b24b72994df49686af494a": {
          "model_module": "@jupyter-widgets/controls",
          "model_name": "HTMLModel",
          "state": {
            "_view_name": "HTMLView",
            "style": "IPY_MODEL_b6af864c344c4b84b2b2f512de5fc742",
            "_dom_classes": [],
            "description": "",
            "_model_name": "HTMLModel",
            "placeholder": "​",
            "_view_module": "@jupyter-widgets/controls",
            "_model_module_version": "1.5.0",
            "value": " 7.44M/7.44M [00:02&lt;00:00, 3.37MB/s]",
            "_view_count": null,
            "_view_module_version": "1.5.0",
            "description_tooltip": null,
            "_model_module": "@jupyter-widgets/controls",
            "layout": "IPY_MODEL_e0d9cf57e3e44096b41fc4657d35dd49"
          }
        },
        "5d855e7dd9ea4324b1ca5b90deb98c30": {
          "model_module": "@jupyter-widgets/controls",
          "model_name": "ProgressStyleModel",
          "state": {
            "_view_name": "StyleView",
            "_model_name": "ProgressStyleModel",
            "description_width": "initial",
            "_view_module": "@jupyter-widgets/base",
            "_model_module_version": "1.5.0",
            "_view_count": null,
            "_view_module_version": "1.2.0",
            "bar_color": null,
            "_model_module": "@jupyter-widgets/controls"
          }
        },
        "df7853346aa446aaba1ee9a31054b7c2": {
          "model_module": "@jupyter-widgets/base",
          "model_name": "LayoutModel",
          "state": {
            "_view_name": "LayoutView",
            "grid_template_rows": null,
            "right": null,
            "justify_content": null,
            "_view_module": "@jupyter-widgets/base",
            "overflow": null,
            "_model_module_version": "1.2.0",
            "_view_count": null,
            "flex_flow": null,
            "width": null,
            "min_width": null,
            "border": null,
            "align_items": null,
            "bottom": null,
            "_model_module": "@jupyter-widgets/base",
            "top": null,
            "grid_column": null,
            "overflow_y": null,
            "overflow_x": null,
            "grid_auto_flow": null,
            "grid_area": null,
            "grid_template_columns": null,
            "flex": null,
            "_model_name": "LayoutModel",
            "justify_items": null,
            "grid_row": null,
            "max_height": null,
            "align_content": null,
            "visibility": null,
            "align_self": null,
            "height": null,
            "min_height": null,
            "padding": null,
            "grid_auto_rows": null,
            "grid_gap": null,
            "max_width": null,
            "order": null,
            "_view_module_version": "1.2.0",
            "grid_template_areas": null,
            "object_position": null,
            "object_fit": null,
            "grid_auto_columns": null,
            "margin": null,
            "display": null,
            "left": null
          }
        },
        "b6af864c344c4b84b2b2f512de5fc742": {
          "model_module": "@jupyter-widgets/controls",
          "model_name": "DescriptionStyleModel",
          "state": {
            "_view_name": "StyleView",
            "_model_name": "DescriptionStyleModel",
            "description_width": "",
            "_view_module": "@jupyter-widgets/base",
            "_model_module_version": "1.5.0",
            "_view_count": null,
            "_view_module_version": "1.2.0",
            "_model_module": "@jupyter-widgets/controls"
          }
        },
        "e0d9cf57e3e44096b41fc4657d35dd49": {
          "model_module": "@jupyter-widgets/base",
          "model_name": "LayoutModel",
          "state": {
            "_view_name": "LayoutView",
            "grid_template_rows": null,
            "right": null,
            "justify_content": null,
            "_view_module": "@jupyter-widgets/base",
            "overflow": null,
            "_model_module_version": "1.2.0",
            "_view_count": null,
            "flex_flow": null,
            "width": null,
            "min_width": null,
            "border": null,
            "align_items": null,
            "bottom": null,
            "_model_module": "@jupyter-widgets/base",
            "top": null,
            "grid_column": null,
            "overflow_y": null,
            "overflow_x": null,
            "grid_auto_flow": null,
            "grid_area": null,
            "grid_template_columns": null,
            "flex": null,
            "_model_name": "LayoutModel",
            "justify_items": null,
            "grid_row": null,
            "max_height": null,
            "align_content": null,
            "visibility": null,
            "align_self": null,
            "height": null,
            "min_height": null,
            "padding": null,
            "grid_auto_rows": null,
            "grid_gap": null,
            "max_width": null,
            "order": null,
            "_view_module_version": "1.2.0",
            "grid_template_areas": null,
            "object_position": null,
            "object_fit": null,
            "grid_auto_columns": null,
            "margin": null,
            "display": null,
            "left": null
          }
        },
        "3016ba2b945c48fb87cdc4779f0654f3": {
          "model_module": "@jupyter-widgets/controls",
          "model_name": "HBoxModel",
          "state": {
            "_view_name": "HBoxView",
            "_dom_classes": [],
            "_model_name": "HBoxModel",
            "_view_module": "@jupyter-widgets/controls",
            "_model_module_version": "1.5.0",
            "_view_count": null,
            "_view_module_version": "1.5.0",
            "box_style": "",
            "layout": "IPY_MODEL_3f5615b01b87412cbb2b56d078db3496",
            "_model_module": "@jupyter-widgets/controls",
            "children": [
              "IPY_MODEL_1b18e52bade1420a942c57ddc130e150",
              "IPY_MODEL_5fb1fb5e208745ad8fa0d1ec18e2cf3a"
            ]
          }
        },
        "3f5615b01b87412cbb2b56d078db3496": {
          "model_module": "@jupyter-widgets/base",
          "model_name": "LayoutModel",
          "state": {
            "_view_name": "LayoutView",
            "grid_template_rows": null,
            "right": null,
            "justify_content": null,
            "_view_module": "@jupyter-widgets/base",
            "overflow": null,
            "_model_module_version": "1.2.0",
            "_view_count": null,
            "flex_flow": null,
            "width": null,
            "min_width": null,
            "border": null,
            "align_items": null,
            "bottom": null,
            "_model_module": "@jupyter-widgets/base",
            "top": null,
            "grid_column": null,
            "overflow_y": null,
            "overflow_x": null,
            "grid_auto_flow": null,
            "grid_area": null,
            "grid_template_columns": null,
            "flex": null,
            "_model_name": "LayoutModel",
            "justify_items": null,
            "grid_row": null,
            "max_height": null,
            "align_content": null,
            "visibility": null,
            "align_self": null,
            "height": null,
            "min_height": null,
            "padding": null,
            "grid_auto_rows": null,
            "grid_gap": null,
            "max_width": null,
            "order": null,
            "_view_module_version": "1.2.0",
            "grid_template_areas": null,
            "object_position": null,
            "object_fit": null,
            "grid_auto_columns": null,
            "margin": null,
            "display": null,
            "left": null
          }
        },
        "1b18e52bade1420a942c57ddc130e150": {
          "model_module": "@jupyter-widgets/controls",
          "model_name": "FloatProgressModel",
          "state": {
            "_view_name": "ProgressView",
            "style": "IPY_MODEL_e6f2af03fef4475496d2e7c4a6bd3c2d",
            "_dom_classes": [],
            "description": "",
            "_model_name": "FloatProgressModel",
            "bar_style": "info",
            "max": 1,
            "_view_module": "@jupyter-widgets/controls",
            "_model_module_version": "1.5.0",
            "value": 1,
            "_view_count": null,
            "_view_module_version": "1.5.0",
            "orientation": "horizontal",
            "min": 0,
            "description_tooltip": null,
            "_model_module": "@jupyter-widgets/controls",
            "layout": "IPY_MODEL_de791a6a29fc4acabbe4d180e1a67fac"
          }
        },
        "5fb1fb5e208745ad8fa0d1ec18e2cf3a": {
          "model_module": "@jupyter-widgets/controls",
          "model_name": "HTMLModel",
          "state": {
            "_view_name": "HTMLView",
            "style": "IPY_MODEL_c4cee1e7e8544ba2b4aaaedf7ec4156b",
            "_dom_classes": [],
            "description": "",
            "_model_name": "HTMLModel",
            "placeholder": "​",
            "_view_module": "@jupyter-widgets/controls",
            "_model_module_version": "1.5.0",
            "value": " 67349/0 [00:04&lt;00:00, 561.82 examples/s]",
            "_view_count": null,
            "_view_module_version": "1.5.0",
            "description_tooltip": null,
            "_model_module": "@jupyter-widgets/controls",
            "layout": "IPY_MODEL_dea4e1e1cae341d790b6e88cfd5829cd"
          }
        },
        "e6f2af03fef4475496d2e7c4a6bd3c2d": {
          "model_module": "@jupyter-widgets/controls",
          "model_name": "ProgressStyleModel",
          "state": {
            "_view_name": "StyleView",
            "_model_name": "ProgressStyleModel",
            "description_width": "initial",
            "_view_module": "@jupyter-widgets/base",
            "_model_module_version": "1.5.0",
            "_view_count": null,
            "_view_module_version": "1.2.0",
            "bar_color": null,
            "_model_module": "@jupyter-widgets/controls"
          }
        },
        "de791a6a29fc4acabbe4d180e1a67fac": {
          "model_module": "@jupyter-widgets/base",
          "model_name": "LayoutModel",
          "state": {
            "_view_name": "LayoutView",
            "grid_template_rows": null,
            "right": null,
            "justify_content": null,
            "_view_module": "@jupyter-widgets/base",
            "overflow": null,
            "_model_module_version": "1.2.0",
            "_view_count": null,
            "flex_flow": null,
            "width": null,
            "min_width": null,
            "border": null,
            "align_items": null,
            "bottom": null,
            "_model_module": "@jupyter-widgets/base",
            "top": null,
            "grid_column": null,
            "overflow_y": null,
            "overflow_x": null,
            "grid_auto_flow": null,
            "grid_area": null,
            "grid_template_columns": null,
            "flex": null,
            "_model_name": "LayoutModel",
            "justify_items": null,
            "grid_row": null,
            "max_height": null,
            "align_content": null,
            "visibility": null,
            "align_self": null,
            "height": null,
            "min_height": null,
            "padding": null,
            "grid_auto_rows": null,
            "grid_gap": null,
            "max_width": null,
            "order": null,
            "_view_module_version": "1.2.0",
            "grid_template_areas": null,
            "object_position": null,
            "object_fit": null,
            "grid_auto_columns": null,
            "margin": null,
            "display": null,
            "left": null
          }
        },
        "c4cee1e7e8544ba2b4aaaedf7ec4156b": {
          "model_module": "@jupyter-widgets/controls",
          "model_name": "DescriptionStyleModel",
          "state": {
            "_view_name": "StyleView",
            "_model_name": "DescriptionStyleModel",
            "description_width": "",
            "_view_module": "@jupyter-widgets/base",
            "_model_module_version": "1.5.0",
            "_view_count": null,
            "_view_module_version": "1.2.0",
            "_model_module": "@jupyter-widgets/controls"
          }
        },
        "dea4e1e1cae341d790b6e88cfd5829cd": {
          "model_module": "@jupyter-widgets/base",
          "model_name": "LayoutModel",
          "state": {
            "_view_name": "LayoutView",
            "grid_template_rows": null,
            "right": null,
            "justify_content": null,
            "_view_module": "@jupyter-widgets/base",
            "overflow": null,
            "_model_module_version": "1.2.0",
            "_view_count": null,
            "flex_flow": null,
            "width": null,
            "min_width": null,
            "border": null,
            "align_items": null,
            "bottom": null,
            "_model_module": "@jupyter-widgets/base",
            "top": null,
            "grid_column": null,
            "overflow_y": null,
            "overflow_x": null,
            "grid_auto_flow": null,
            "grid_area": null,
            "grid_template_columns": null,
            "flex": null,
            "_model_name": "LayoutModel",
            "justify_items": null,
            "grid_row": null,
            "max_height": null,
            "align_content": null,
            "visibility": null,
            "align_self": null,
            "height": null,
            "min_height": null,
            "padding": null,
            "grid_auto_rows": null,
            "grid_gap": null,
            "max_width": null,
            "order": null,
            "_view_module_version": "1.2.0",
            "grid_template_areas": null,
            "object_position": null,
            "object_fit": null,
            "grid_auto_columns": null,
            "margin": null,
            "display": null,
            "left": null
          }
        },
        "aa763c6bb3cf4ac498d9abfb8740cade": {
          "model_module": "@jupyter-widgets/controls",
          "model_name": "HBoxModel",
          "state": {
            "_view_name": "HBoxView",
            "_dom_classes": [],
            "_model_name": "HBoxModel",
            "_view_module": "@jupyter-widgets/controls",
            "_model_module_version": "1.5.0",
            "_view_count": null,
            "_view_module_version": "1.5.0",
            "box_style": "",
            "layout": "IPY_MODEL_1e157e410a4e4197a7a4c0ffd646b5b1",
            "_model_module": "@jupyter-widgets/controls",
            "children": [
              "IPY_MODEL_94127cdca8c9471d86e78d70bb8aba10",
              "IPY_MODEL_617436c4fb1b45158a024c5c5e08784d"
            ]
          }
        },
        "1e157e410a4e4197a7a4c0ffd646b5b1": {
          "model_module": "@jupyter-widgets/base",
          "model_name": "LayoutModel",
          "state": {
            "_view_name": "LayoutView",
            "grid_template_rows": null,
            "right": null,
            "justify_content": null,
            "_view_module": "@jupyter-widgets/base",
            "overflow": null,
            "_model_module_version": "1.2.0",
            "_view_count": null,
            "flex_flow": null,
            "width": null,
            "min_width": null,
            "border": null,
            "align_items": null,
            "bottom": null,
            "_model_module": "@jupyter-widgets/base",
            "top": null,
            "grid_column": null,
            "overflow_y": null,
            "overflow_x": null,
            "grid_auto_flow": null,
            "grid_area": null,
            "grid_template_columns": null,
            "flex": null,
            "_model_name": "LayoutModel",
            "justify_items": null,
            "grid_row": null,
            "max_height": null,
            "align_content": null,
            "visibility": null,
            "align_self": null,
            "height": null,
            "min_height": null,
            "padding": null,
            "grid_auto_rows": null,
            "grid_gap": null,
            "max_width": null,
            "order": null,
            "_view_module_version": "1.2.0",
            "grid_template_areas": null,
            "object_position": null,
            "object_fit": null,
            "grid_auto_columns": null,
            "margin": null,
            "display": null,
            "left": null
          }
        },
        "94127cdca8c9471d86e78d70bb8aba10": {
          "model_module": "@jupyter-widgets/controls",
          "model_name": "FloatProgressModel",
          "state": {
            "_view_name": "ProgressView",
            "style": "IPY_MODEL_ef9689b191d049d8846636c8fb45221a",
            "_dom_classes": [],
            "description": "",
            "_model_name": "FloatProgressModel",
            "bar_style": "info",
            "max": 1,
            "_view_module": "@jupyter-widgets/controls",
            "_model_module_version": "1.5.0",
            "value": 1,
            "_view_count": null,
            "_view_module_version": "1.5.0",
            "orientation": "horizontal",
            "min": 0,
            "description_tooltip": null,
            "_model_module": "@jupyter-widgets/controls",
            "layout": "IPY_MODEL_b80362930b03417a874d71c527da8430"
          }
        },
        "617436c4fb1b45158a024c5c5e08784d": {
          "model_module": "@jupyter-widgets/controls",
          "model_name": "HTMLModel",
          "state": {
            "_view_name": "HTMLView",
            "style": "IPY_MODEL_2e9b3bc28561478e97bfc807a8e724c7",
            "_dom_classes": [],
            "description": "",
            "_model_name": "HTMLModel",
            "placeholder": "​",
            "_view_module": "@jupyter-widgets/controls",
            "_model_module_version": "1.5.0",
            "value": " 872/0 [00:00&lt;00:00, 7088.27 examples/s]",
            "_view_count": null,
            "_view_module_version": "1.5.0",
            "description_tooltip": null,
            "_model_module": "@jupyter-widgets/controls",
            "layout": "IPY_MODEL_c5d1d32505c647e6a5fe46ae770529c1"
          }
        },
        "ef9689b191d049d8846636c8fb45221a": {
          "model_module": "@jupyter-widgets/controls",
          "model_name": "ProgressStyleModel",
          "state": {
            "_view_name": "StyleView",
            "_model_name": "ProgressStyleModel",
            "description_width": "initial",
            "_view_module": "@jupyter-widgets/base",
            "_model_module_version": "1.5.0",
            "_view_count": null,
            "_view_module_version": "1.2.0",
            "bar_color": null,
            "_model_module": "@jupyter-widgets/controls"
          }
        },
        "b80362930b03417a874d71c527da8430": {
          "model_module": "@jupyter-widgets/base",
          "model_name": "LayoutModel",
          "state": {
            "_view_name": "LayoutView",
            "grid_template_rows": null,
            "right": null,
            "justify_content": null,
            "_view_module": "@jupyter-widgets/base",
            "overflow": null,
            "_model_module_version": "1.2.0",
            "_view_count": null,
            "flex_flow": null,
            "width": null,
            "min_width": null,
            "border": null,
            "align_items": null,
            "bottom": null,
            "_model_module": "@jupyter-widgets/base",
            "top": null,
            "grid_column": null,
            "overflow_y": null,
            "overflow_x": null,
            "grid_auto_flow": null,
            "grid_area": null,
            "grid_template_columns": null,
            "flex": null,
            "_model_name": "LayoutModel",
            "justify_items": null,
            "grid_row": null,
            "max_height": null,
            "align_content": null,
            "visibility": null,
            "align_self": null,
            "height": null,
            "min_height": null,
            "padding": null,
            "grid_auto_rows": null,
            "grid_gap": null,
            "max_width": null,
            "order": null,
            "_view_module_version": "1.2.0",
            "grid_template_areas": null,
            "object_position": null,
            "object_fit": null,
            "grid_auto_columns": null,
            "margin": null,
            "display": null,
            "left": null
          }
        },
        "2e9b3bc28561478e97bfc807a8e724c7": {
          "model_module": "@jupyter-widgets/controls",
          "model_name": "DescriptionStyleModel",
          "state": {
            "_view_name": "StyleView",
            "_model_name": "DescriptionStyleModel",
            "description_width": "",
            "_view_module": "@jupyter-widgets/base",
            "_model_module_version": "1.5.0",
            "_view_count": null,
            "_view_module_version": "1.2.0",
            "_model_module": "@jupyter-widgets/controls"
          }
        },
        "c5d1d32505c647e6a5fe46ae770529c1": {
          "model_module": "@jupyter-widgets/base",
          "model_name": "LayoutModel",
          "state": {
            "_view_name": "LayoutView",
            "grid_template_rows": null,
            "right": null,
            "justify_content": null,
            "_view_module": "@jupyter-widgets/base",
            "overflow": null,
            "_model_module_version": "1.2.0",
            "_view_count": null,
            "flex_flow": null,
            "width": null,
            "min_width": null,
            "border": null,
            "align_items": null,
            "bottom": null,
            "_model_module": "@jupyter-widgets/base",
            "top": null,
            "grid_column": null,
            "overflow_y": null,
            "overflow_x": null,
            "grid_auto_flow": null,
            "grid_area": null,
            "grid_template_columns": null,
            "flex": null,
            "_model_name": "LayoutModel",
            "justify_items": null,
            "grid_row": null,
            "max_height": null,
            "align_content": null,
            "visibility": null,
            "align_self": null,
            "height": null,
            "min_height": null,
            "padding": null,
            "grid_auto_rows": null,
            "grid_gap": null,
            "max_width": null,
            "order": null,
            "_view_module_version": "1.2.0",
            "grid_template_areas": null,
            "object_position": null,
            "object_fit": null,
            "grid_auto_columns": null,
            "margin": null,
            "display": null,
            "left": null
          }
        },
        "58bdc2b035854ce0bd5719f62cff5f33": {
          "model_module": "@jupyter-widgets/controls",
          "model_name": "HBoxModel",
          "state": {
            "_view_name": "HBoxView",
            "_dom_classes": [],
            "_model_name": "HBoxModel",
            "_view_module": "@jupyter-widgets/controls",
            "_model_module_version": "1.5.0",
            "_view_count": null,
            "_view_module_version": "1.5.0",
            "box_style": "",
            "layout": "IPY_MODEL_1f583b0e718b4f70a4ad9f10c77f5e5a",
            "_model_module": "@jupyter-widgets/controls",
            "children": [
              "IPY_MODEL_5ec7505dcda04b24b65549a55fa5f489",
              "IPY_MODEL_c1a1fdb717804934bf3fa090bdd56973"
            ]
          }
        },
        "1f583b0e718b4f70a4ad9f10c77f5e5a": {
          "model_module": "@jupyter-widgets/base",
          "model_name": "LayoutModel",
          "state": {
            "_view_name": "LayoutView",
            "grid_template_rows": null,
            "right": null,
            "justify_content": null,
            "_view_module": "@jupyter-widgets/base",
            "overflow": null,
            "_model_module_version": "1.2.0",
            "_view_count": null,
            "flex_flow": null,
            "width": null,
            "min_width": null,
            "border": null,
            "align_items": null,
            "bottom": null,
            "_model_module": "@jupyter-widgets/base",
            "top": null,
            "grid_column": null,
            "overflow_y": null,
            "overflow_x": null,
            "grid_auto_flow": null,
            "grid_area": null,
            "grid_template_columns": null,
            "flex": null,
            "_model_name": "LayoutModel",
            "justify_items": null,
            "grid_row": null,
            "max_height": null,
            "align_content": null,
            "visibility": null,
            "align_self": null,
            "height": null,
            "min_height": null,
            "padding": null,
            "grid_auto_rows": null,
            "grid_gap": null,
            "max_width": null,
            "order": null,
            "_view_module_version": "1.2.0",
            "grid_template_areas": null,
            "object_position": null,
            "object_fit": null,
            "grid_auto_columns": null,
            "margin": null,
            "display": null,
            "left": null
          }
        },
        "5ec7505dcda04b24b65549a55fa5f489": {
          "model_module": "@jupyter-widgets/controls",
          "model_name": "FloatProgressModel",
          "state": {
            "_view_name": "ProgressView",
            "style": "IPY_MODEL_dab0216c01984434b4746b98d70258ae",
            "_dom_classes": [],
            "description": "",
            "_model_name": "FloatProgressModel",
            "bar_style": "info",
            "max": 1,
            "_view_module": "@jupyter-widgets/controls",
            "_model_module_version": "1.5.0",
            "value": 1,
            "_view_count": null,
            "_view_module_version": "1.5.0",
            "orientation": "horizontal",
            "min": 0,
            "description_tooltip": null,
            "_model_module": "@jupyter-widgets/controls",
            "layout": "IPY_MODEL_d8ddea93dbb14b9caf38fddc75b45003"
          }
        },
        "c1a1fdb717804934bf3fa090bdd56973": {
          "model_module": "@jupyter-widgets/controls",
          "model_name": "HTMLModel",
          "state": {
            "_view_name": "HTMLView",
            "style": "IPY_MODEL_8266df6e3174436a865d28f88941af84",
            "_dom_classes": [],
            "description": "",
            "_model_name": "HTMLModel",
            "placeholder": "​",
            "_view_module": "@jupyter-widgets/controls",
            "_model_module_version": "1.5.0",
            "value": " 1821/0 [00:00&lt;00:00, 5309.38 examples/s]",
            "_view_count": null,
            "_view_module_version": "1.5.0",
            "description_tooltip": null,
            "_model_module": "@jupyter-widgets/controls",
            "layout": "IPY_MODEL_73d2d1fddcb8408eaa3b5d91dfb46060"
          }
        },
        "dab0216c01984434b4746b98d70258ae": {
          "model_module": "@jupyter-widgets/controls",
          "model_name": "ProgressStyleModel",
          "state": {
            "_view_name": "StyleView",
            "_model_name": "ProgressStyleModel",
            "description_width": "initial",
            "_view_module": "@jupyter-widgets/base",
            "_model_module_version": "1.5.0",
            "_view_count": null,
            "_view_module_version": "1.2.0",
            "bar_color": null,
            "_model_module": "@jupyter-widgets/controls"
          }
        },
        "d8ddea93dbb14b9caf38fddc75b45003": {
          "model_module": "@jupyter-widgets/base",
          "model_name": "LayoutModel",
          "state": {
            "_view_name": "LayoutView",
            "grid_template_rows": null,
            "right": null,
            "justify_content": null,
            "_view_module": "@jupyter-widgets/base",
            "overflow": null,
            "_model_module_version": "1.2.0",
            "_view_count": null,
            "flex_flow": null,
            "width": null,
            "min_width": null,
            "border": null,
            "align_items": null,
            "bottom": null,
            "_model_module": "@jupyter-widgets/base",
            "top": null,
            "grid_column": null,
            "overflow_y": null,
            "overflow_x": null,
            "grid_auto_flow": null,
            "grid_area": null,
            "grid_template_columns": null,
            "flex": null,
            "_model_name": "LayoutModel",
            "justify_items": null,
            "grid_row": null,
            "max_height": null,
            "align_content": null,
            "visibility": null,
            "align_self": null,
            "height": null,
            "min_height": null,
            "padding": null,
            "grid_auto_rows": null,
            "grid_gap": null,
            "max_width": null,
            "order": null,
            "_view_module_version": "1.2.0",
            "grid_template_areas": null,
            "object_position": null,
            "object_fit": null,
            "grid_auto_columns": null,
            "margin": null,
            "display": null,
            "left": null
          }
        },
        "8266df6e3174436a865d28f88941af84": {
          "model_module": "@jupyter-widgets/controls",
          "model_name": "DescriptionStyleModel",
          "state": {
            "_view_name": "StyleView",
            "_model_name": "DescriptionStyleModel",
            "description_width": "",
            "_view_module": "@jupyter-widgets/base",
            "_model_module_version": "1.5.0",
            "_view_count": null,
            "_view_module_version": "1.2.0",
            "_model_module": "@jupyter-widgets/controls"
          }
        },
        "73d2d1fddcb8408eaa3b5d91dfb46060": {
          "model_module": "@jupyter-widgets/base",
          "model_name": "LayoutModel",
          "state": {
            "_view_name": "LayoutView",
            "grid_template_rows": null,
            "right": null,
            "justify_content": null,
            "_view_module": "@jupyter-widgets/base",
            "overflow": null,
            "_model_module_version": "1.2.0",
            "_view_count": null,
            "flex_flow": null,
            "width": null,
            "min_width": null,
            "border": null,
            "align_items": null,
            "bottom": null,
            "_model_module": "@jupyter-widgets/base",
            "top": null,
            "grid_column": null,
            "overflow_y": null,
            "overflow_x": null,
            "grid_auto_flow": null,
            "grid_area": null,
            "grid_template_columns": null,
            "flex": null,
            "_model_name": "LayoutModel",
            "justify_items": null,
            "grid_row": null,
            "max_height": null,
            "align_content": null,
            "visibility": null,
            "align_self": null,
            "height": null,
            "min_height": null,
            "padding": null,
            "grid_auto_rows": null,
            "grid_gap": null,
            "max_width": null,
            "order": null,
            "_view_module_version": "1.2.0",
            "grid_template_areas": null,
            "object_position": null,
            "object_fit": null,
            "grid_auto_columns": null,
            "margin": null,
            "display": null,
            "left": null
          }
        }
      }
    }
  },
  "cells": [
    {
      "cell_type": "code",
      "metadata": {
        "colab": {
          "base_uri": "https://localhost:8080/"
        },
        "id": "087j9OnNZAHJ",
        "outputId": "697a51bb-29e9-4ef5-dff2-dfff68c2b454"
      },
      "source": [
        "!pip install textattack"
      ],
      "execution_count": 2,
      "outputs": [
        {
          "output_type": "stream",
          "text": [
            "Requirement already satisfied: textattack in /usr/local/lib/python3.7/dist-packages (0.2.15)\n",
            "Requirement already satisfied: transformers>=3.3.0 in /usr/local/lib/python3.7/dist-packages (from textattack) (4.5.1)\n",
            "Requirement already satisfied: tqdm<4.50.0,>=4.27 in /usr/local/lib/python3.7/dist-packages (from textattack) (4.41.1)\n",
            "Requirement already satisfied: word2number in /usr/local/lib/python3.7/dist-packages (from textattack) (1.1)\n",
            "Requirement already satisfied: pandas>=1.0.1 in /usr/local/lib/python3.7/dist-packages (from textattack) (1.1.5)\n",
            "Requirement already satisfied: lemminflect in /usr/local/lib/python3.7/dist-packages (from textattack) (0.2.2)\n",
            "Requirement already satisfied: num2words in /usr/local/lib/python3.7/dist-packages (from textattack) (0.5.10)\n",
            "Requirement already satisfied: language-tool-python in /usr/local/lib/python3.7/dist-packages (from textattack) (2.5.3)\n",
            "Requirement already satisfied: more-itertools in /usr/local/lib/python3.7/dist-packages (from textattack) (8.7.0)\n",
            "Requirement already satisfied: PySocks!=1.5.7,>=1.5.6 in /usr/local/lib/python3.7/dist-packages (from textattack) (1.7.1)\n",
            "Requirement already satisfied: scipy==1.4.1 in /usr/local/lib/python3.7/dist-packages (from textattack) (1.4.1)\n",
            "Requirement already satisfied: nltk in /usr/local/lib/python3.7/dist-packages (from textattack) (3.2.5)\n",
            "Requirement already satisfied: lru-dict in /usr/local/lib/python3.7/dist-packages (from textattack) (1.1.7)\n",
            "Requirement already satisfied: torch in /usr/local/lib/python3.7/dist-packages (from textattack) (1.8.1+cu101)\n",
            "Requirement already satisfied: filelock in /usr/local/lib/python3.7/dist-packages (from textattack) (3.0.12)\n",
            "Requirement already satisfied: terminaltables in /usr/local/lib/python3.7/dist-packages (from textattack) (3.1.0)\n",
            "Requirement already satisfied: editdistance in /usr/local/lib/python3.7/dist-packages (from textattack) (0.5.3)\n",
            "Requirement already satisfied: bert-score>=0.3.5 in /usr/local/lib/python3.7/dist-packages (from textattack) (0.3.9)\n",
            "Requirement already satisfied: datasets in /usr/local/lib/python3.7/dist-packages (from textattack) (1.6.2)\n",
            "Requirement already satisfied: numpy<1.19.0 in /usr/local/lib/python3.7/dist-packages (from textattack) (1.18.5)\n",
            "Requirement already satisfied: flair==0.6.1.post1 in /usr/local/lib/python3.7/dist-packages (from textattack) (0.6.1.post1)\n",
            "Requirement already satisfied: regex!=2019.12.17 in /usr/local/lib/python3.7/dist-packages (from transformers>=3.3.0->textattack) (2019.12.20)\n",
            "Requirement already satisfied: importlib-metadata; python_version < \"3.8\" in /usr/local/lib/python3.7/dist-packages (from transformers>=3.3.0->textattack) (3.10.1)\n",
            "Requirement already satisfied: packaging in /usr/local/lib/python3.7/dist-packages (from transformers>=3.3.0->textattack) (20.9)\n",
            "Requirement already satisfied: sacremoses in /usr/local/lib/python3.7/dist-packages (from transformers>=3.3.0->textattack) (0.0.45)\n",
            "Requirement already satisfied: requests in /usr/local/lib/python3.7/dist-packages (from transformers>=3.3.0->textattack) (2.23.0)\n",
            "Requirement already satisfied: tokenizers<0.11,>=0.10.1 in /usr/local/lib/python3.7/dist-packages (from transformers>=3.3.0->textattack) (0.10.2)\n",
            "Requirement already satisfied: pytz>=2017.2 in /usr/local/lib/python3.7/dist-packages (from pandas>=1.0.1->textattack) (2018.9)\n",
            "Requirement already satisfied: python-dateutil>=2.7.3 in /usr/local/lib/python3.7/dist-packages (from pandas>=1.0.1->textattack) (2.8.1)\n",
            "Requirement already satisfied: docopt>=0.6.2 in /usr/local/lib/python3.7/dist-packages (from num2words->textattack) (0.6.2)\n",
            "Requirement already satisfied: six in /usr/local/lib/python3.7/dist-packages (from nltk->textattack) (1.15.0)\n",
            "Requirement already satisfied: typing-extensions in /usr/local/lib/python3.7/dist-packages (from torch->textattack) (3.7.4.3)\n",
            "Requirement already satisfied: matplotlib in /usr/local/lib/python3.7/dist-packages (from bert-score>=0.3.5->textattack) (3.2.2)\n",
            "Requirement already satisfied: xxhash in /usr/local/lib/python3.7/dist-packages (from datasets->textattack) (2.0.2)\n",
            "Requirement already satisfied: dill in /usr/local/lib/python3.7/dist-packages (from datasets->textattack) (0.3.3)\n",
            "Requirement already satisfied: multiprocess in /usr/local/lib/python3.7/dist-packages (from datasets->textattack) (0.70.11.1)\n",
            "Requirement already satisfied: huggingface-hub<0.1.0 in /usr/local/lib/python3.7/dist-packages (from datasets->textattack) (0.0.8)\n",
            "Requirement already satisfied: fsspec in /usr/local/lib/python3.7/dist-packages (from datasets->textattack) (2021.4.0)\n",
            "Requirement already satisfied: pyarrow>=1.0.0<4.0.0 in /usr/local/lib/python3.7/dist-packages (from datasets->textattack) (3.0.0)\n",
            "Requirement already satisfied: janome in /usr/local/lib/python3.7/dist-packages (from flair==0.6.1.post1->textattack) (0.4.1)\n",
            "Requirement already satisfied: lxml in /usr/local/lib/python3.7/dist-packages (from flair==0.6.1.post1->textattack) (4.2.6)\n",
            "Requirement already satisfied: ftfy in /usr/local/lib/python3.7/dist-packages (from flair==0.6.1.post1->textattack) (6.0.1)\n",
            "Requirement already satisfied: sqlitedict>=1.6.0 in /usr/local/lib/python3.7/dist-packages (from flair==0.6.1.post1->textattack) (1.7.0)\n",
            "Requirement already satisfied: konoha<5.0.0,>=4.0.0 in /usr/local/lib/python3.7/dist-packages (from flair==0.6.1.post1->textattack) (4.6.4)\n",
            "Requirement already satisfied: segtok>=1.5.7 in /usr/local/lib/python3.7/dist-packages (from flair==0.6.1.post1->textattack) (1.5.10)\n",
            "Requirement already satisfied: scikit-learn>=0.21.3 in /usr/local/lib/python3.7/dist-packages (from flair==0.6.1.post1->textattack) (0.22.2.post1)\n",
            "Requirement already satisfied: hyperopt>=0.1.1 in /usr/local/lib/python3.7/dist-packages (from flair==0.6.1.post1->textattack) (0.1.2)\n",
            "Requirement already satisfied: deprecated>=1.2.4 in /usr/local/lib/python3.7/dist-packages (from flair==0.6.1.post1->textattack) (1.2.12)\n",
            "Requirement already satisfied: mpld3==0.3 in /usr/local/lib/python3.7/dist-packages (from flair==0.6.1.post1->textattack) (0.3)\n",
            "Requirement already satisfied: gdown in /usr/local/lib/python3.7/dist-packages (from flair==0.6.1.post1->textattack) (3.6.4)\n",
            "Requirement already satisfied: sentencepiece!=0.1.92 in /usr/local/lib/python3.7/dist-packages (from flair==0.6.1.post1->textattack) (0.1.95)\n",
            "Requirement already satisfied: langdetect in /usr/local/lib/python3.7/dist-packages (from flair==0.6.1.post1->textattack) (1.0.9)\n",
            "Requirement already satisfied: tabulate in /usr/local/lib/python3.7/dist-packages (from flair==0.6.1.post1->textattack) (0.8.9)\n",
            "Requirement already satisfied: gensim>=3.4.0 in /usr/local/lib/python3.7/dist-packages (from flair==0.6.1.post1->textattack) (3.6.0)\n",
            "Requirement already satisfied: bpemb>=0.3.2 in /usr/local/lib/python3.7/dist-packages (from flair==0.6.1.post1->textattack) (0.3.3)\n",
            "Requirement already satisfied: zipp>=0.5 in /usr/local/lib/python3.7/dist-packages (from importlib-metadata; python_version < \"3.8\"->transformers>=3.3.0->textattack) (3.4.1)\n",
            "Requirement already satisfied: pyparsing>=2.0.2 in /usr/local/lib/python3.7/dist-packages (from packaging->transformers>=3.3.0->textattack) (2.4.7)\n",
            "Requirement already satisfied: joblib in /usr/local/lib/python3.7/dist-packages (from sacremoses->transformers>=3.3.0->textattack) (1.0.1)\n",
            "Requirement already satisfied: click in /usr/local/lib/python3.7/dist-packages (from sacremoses->transformers>=3.3.0->textattack) (7.1.2)\n",
            "Requirement already satisfied: certifi>=2017.4.17 in /usr/local/lib/python3.7/dist-packages (from requests->transformers>=3.3.0->textattack) (2020.12.5)\n",
            "Requirement already satisfied: chardet<4,>=3.0.2 in /usr/local/lib/python3.7/dist-packages (from requests->transformers>=3.3.0->textattack) (3.0.4)\n",
            "Requirement already satisfied: idna<3,>=2.5 in /usr/local/lib/python3.7/dist-packages (from requests->transformers>=3.3.0->textattack) (2.10)\n",
            "Requirement already satisfied: urllib3!=1.25.0,!=1.25.1,<1.26,>=1.21.1 in /usr/local/lib/python3.7/dist-packages (from requests->transformers>=3.3.0->textattack) (1.24.3)\n",
            "Requirement already satisfied: kiwisolver>=1.0.1 in /usr/local/lib/python3.7/dist-packages (from matplotlib->bert-score>=0.3.5->textattack) (1.3.1)\n",
            "Requirement already satisfied: cycler>=0.10 in /usr/local/lib/python3.7/dist-packages (from matplotlib->bert-score>=0.3.5->textattack) (0.10.0)\n",
            "Requirement already satisfied: wcwidth in /usr/local/lib/python3.7/dist-packages (from ftfy->flair==0.6.1.post1->textattack) (0.2.5)\n",
            "Requirement already satisfied: overrides<4.0.0,>=3.0.0 in /usr/local/lib/python3.7/dist-packages (from konoha<5.0.0,>=4.0.0->flair==0.6.1.post1->textattack) (3.1.0)\n",
            "Requirement already satisfied: future in /usr/local/lib/python3.7/dist-packages (from hyperopt>=0.1.1->flair==0.6.1.post1->textattack) (0.16.0)\n",
            "Requirement already satisfied: pymongo in /usr/local/lib/python3.7/dist-packages (from hyperopt>=0.1.1->flair==0.6.1.post1->textattack) (3.11.3)\n",
            "Requirement already satisfied: networkx in /usr/local/lib/python3.7/dist-packages (from hyperopt>=0.1.1->flair==0.6.1.post1->textattack) (2.5.1)\n",
            "Requirement already satisfied: wrapt<2,>=1.10 in /usr/local/lib/python3.7/dist-packages (from deprecated>=1.2.4->flair==0.6.1.post1->textattack) (1.12.1)\n",
            "Requirement already satisfied: smart-open>=1.2.1 in /usr/local/lib/python3.7/dist-packages (from gensim>=3.4.0->flair==0.6.1.post1->textattack) (5.0.0)\n",
            "Requirement already satisfied: decorator<5,>=4.3 in /usr/local/lib/python3.7/dist-packages (from networkx->hyperopt>=0.1.1->flair==0.6.1.post1->textattack) (4.4.2)\n"
          ],
          "name": "stdout"
        }
      ]
    },
    {
      "cell_type": "code",
      "metadata": {
        "colab": {
          "base_uri": "https://localhost:8080/"
        },
        "id": "2HvizblyaVeQ",
        "outputId": "34dc1626-bc74-4675-826b-e92078920c1d"
      },
      "source": [
        "!pip install -U gensim==4.0.0"
      ],
      "execution_count": 3,
      "outputs": [
        {
          "output_type": "stream",
          "text": [
            "Collecting gensim==4.0.0\n",
            "\u001b[?25l  Downloading https://files.pythonhosted.org/packages/c3/dd/5e00b6e788a9c522b48f9df10472b2017102ffa65b10bc657471e0713542/gensim-4.0.0-cp37-cp37m-manylinux1_x86_64.whl (23.9MB)\n",
            "\u001b[K     |████████████████████████████████| 23.9MB 29.2MB/s \n",
            "\u001b[?25hRequirement already satisfied, skipping upgrade: smart-open>=1.8.1 in /usr/local/lib/python3.7/dist-packages (from gensim==4.0.0) (5.0.0)\n",
            "Requirement already satisfied, skipping upgrade: scipy>=0.18.1 in /usr/local/lib/python3.7/dist-packages (from gensim==4.0.0) (1.4.1)\n",
            "Requirement already satisfied, skipping upgrade: numpy>=1.11.3 in /usr/local/lib/python3.7/dist-packages (from gensim==4.0.0) (1.18.5)\n",
            "Installing collected packages: gensim\n",
            "  Found existing installation: gensim 3.6.0\n",
            "    Uninstalling gensim-3.6.0:\n",
            "      Successfully uninstalled gensim-3.6.0\n",
            "Successfully installed gensim-4.0.0\n"
          ],
          "name": "stdout"
        }
      ]
    },
    {
      "cell_type": "code",
      "metadata": {
        "colab": {
          "base_uri": "https://localhost:8080/"
        },
        "id": "SdMzwxOlZZZf",
        "outputId": "6bf91c13-1fc2-4930-ce34-ce4a71dde6f6"
      },
      "source": [
        "from google.colab import drive\n",
        "drive.mount('/content/drive')"
      ],
      "execution_count": 4,
      "outputs": [
        {
          "output_type": "stream",
          "text": [
            "Mounted at /content/drive\n"
          ],
          "name": "stdout"
        }
      ]
    },
    {
      "cell_type": "markdown",
      "metadata": {
        "id": "hUZ0RwpLoNUO"
      },
      "source": [
        "FastText Embedding\n"
      ]
    },
    {
      "cell_type": "code",
      "metadata": {
        "id": "69vzXAiPaQ6A",
        "colab": {
          "base_uri": "https://localhost:8080/"
        },
        "outputId": "9ab0013e-0178-4a66-9d5f-c7fba372f941"
      },
      "source": [
        "from gensim.models.fasttext import FastText\n",
        "from gensim.test.utils import get_tmpfile  \n",
        "fname = get_tmpfile(\"/content/drive/MyDrive/NLP/fasttext.model\")\n",
        "model1 = FastText.load(fname)"
      ],
      "execution_count": 5,
      "outputs": [
        {
          "output_type": "stream",
          "text": [
            "/usr/local/lib/python3.7/dist-packages/gensim/similarities/__init__.py:15: UserWarning: The gensim.similarities.levenshtein submodule is disabled, because the optional Levenshtein package <https://pypi.org/project/python-Levenshtein/> is unavailable. Install Levenhstein (e.g. `pip install python-Levenshtein`) to suppress this warning.\n",
            "  warnings.warn(msg)\n"
          ],
          "name": "stderr"
        }
      ]
    },
    {
      "cell_type": "markdown",
      "metadata": {
        "id": "lInJ7PRNoVBP"
      },
      "source": [
        "Word2Vec Embedding"
      ]
    },
    {
      "cell_type": "code",
      "metadata": {
        "id": "rCV4IH9JaUwq"
      },
      "source": [
        "from gensim.models.word2vec import Word2Vec\n",
        "from gensim.test.utils import get_tmpfile\n",
        "fname1 = get_tmpfile(\"/content/drive/MyDrive/NLP/word2vec.model\")\n",
        "model2 = Word2Vec.load(fname1)"
      ],
      "execution_count": 6,
      "outputs": []
    },
    {
      "cell_type": "markdown",
      "metadata": {
        "id": "1dQm3atwobAA"
      },
      "source": [
        "Glove Embedding"
      ]
    },
    {
      "cell_type": "code",
      "metadata": {
        "id": "6Ap9OTsIIu8o"
      },
      "source": [
        "from gensim.models import KeyedVectors\n",
        "model3=KeyedVectors.load('/content/drive/MyDrive/NLP/gloveKeyVectors.kv')"
      ],
      "execution_count": 7,
      "outputs": []
    },
    {
      "cell_type": "code",
      "metadata": {
        "colab": {
          "base_uri": "https://localhost:8080/"
        },
        "id": "EbRdy8Hxai1C",
        "outputId": "fb40a471-7f9b-4207-a195-39ff234445c8"
      },
      "source": [
        "print(model1.wv.most_similar(positive=['cat']))\n",
        "print(model2.wv.most_similar(positive=['cat']))\n",
        "print(model3.most_similar(positive=['cat']))"
      ],
      "execution_count": 8,
      "outputs": [
        {
          "output_type": "stream",
          "text": [
            "[('bobcat', 0.759185791015625), ('dog', 0.7208123803138733), ('foxglove', 0.7110776901245117), ('pig', 0.7088143229484558), ('goose', 0.7069101333618164), ('cats', 0.702387273311615), ('beak', 0.7008379697799683), ('catfish', 0.6987316608428955), ('foxhound', 0.696578860282898), ('catnip', 0.6960986852645874)]\n",
            "[('dog', 0.7193913459777832), ('squirrel', 0.696162760257721), ('leopardus', 0.6945451498031616), ('prionailurus', 0.688106894493103), ('albino', 0.6880608201026917), ('bird', 0.6836060285568237), ('eared', 0.6803243160247803), ('rhinoceros', 0.6769237518310547), ('hyena', 0.6756084561347961), ('badger', 0.6752869486808777)]\n",
            "[('cats', 0.7006820440292358), ('dog', 0.698471188545227), ('dogs', 0.6442825198173523), ('tervueren', 0.619421660900116), ('laekenois', 0.5972026586532593), ('lica', 0.5956287980079651), ('feral', 0.5899650454521179), ('goat', 0.5861616134643555), ('fish', 0.5746133327484131), ('malinois', 0.5737614631652832)]\n"
          ],
          "name": "stdout"
        }
      ]
    },
    {
      "cell_type": "code",
      "metadata": {
        "id": "rHJKpChOZByK",
        "colab": {
          "base_uri": "https://localhost:8080/",
          "height": 585,
          "referenced_widgets": [
            "f14e115d41ab433587e305be71ef41ba",
            "f51cae4da6e64b23b68337fc45a88735",
            "b206f5ad376f4ca291341407729bed92",
            "121d9894d08043fcb71c30e89115325f",
            "ecd8f45ff65f4f6e951e5faa2fd77583",
            "bade7b0c2ca84afbaae3b7538631bf93",
            "a5992f3c08b64385a78daee3927ae346",
            "25c2391305c3425793ee0c9ac8990de7",
            "9dd79d38883640f28f8cbcd1f664fa0c",
            "047a74f1f80c4df3ad3e98c40fc32f28",
            "019c7a79b3d24c3a9cec553955224741",
            "39bbf040d7f3439d8a52f7bebd3a27f7",
            "c5ee4cb487504be2b7ae222681145a5d",
            "d3a5cd19ac72422f8f9c6d807eaf488d",
            "d6c08cfaa8fc4fe1a8997d1771669b57",
            "58ca6ae3cbfc46f493dddee611566b49",
            "11f29a2fff5f47e2a34789d714104c4e",
            "5b3942fab38146ceb1a7ceda9cd818a5",
            "f0e9d215d89f40d0b76b996d764328bb",
            "6feb25692cfe47f3b0023e826bb5b0b5",
            "c25477c719184dcbb8ef7e697f660f74",
            "6ce80c17777f424ca4b618cf368d507b",
            "8500ff0fa37544a29ee78befdcdec046",
            "c70381bc6aa4490782e4a04657207f96",
            "905ce82a1b1d4c079853d510fe6073b4",
            "ad1490b4e4464e0cb7d894820b939435",
            "b3faf913c82f48dd90beba8db690c792",
            "4492dfff6e9b45c49958f8e4ca687993",
            "116340de9fb241809d2b98c039a3361c",
            "2966dea8e7354ae68d94dd7e99d0aa12",
            "ddfd9e6d50d34cd191b66ed91a415d51",
            "8d5f5d3ecd7c4fb98298bc6e32c2c935",
            "e85c800569064a6193486cd3a9674a7f",
            "a79ad704d77b4206bb55db938c7bf4d3",
            "72a6b1bc2c494f1686b3573748ed4491",
            "6a5021f43ac04b419ef7f0c72ab66b87",
            "7a9fd25a17e54687a894b0d1c4c3cb7b",
            "adafe8ead6a34558b1e09bc1db2c4d51",
            "e386e14648744d54874dc7c3230edfd9",
            "44ad910cf303424ea57578b4df66f777"
          ]
        },
        "outputId": "dc9cf23d-abd9-4ecb-c1ef-a9ba5aa34842"
      },
      "source": [
        "# Import the model\n",
        "import transformers\n",
        "from textattack.models.tokenizers import AutoTokenizer\n",
        "from textattack.models.wrappers import HuggingFaceModelWrapper\n",
        "\n",
        "model = transformers.AutoModelForSequenceClassification.from_pretrained(\"textattack/distilbert-base-uncased-SST-2\")\n",
        "tokenizer = AutoTokenizer(\"textattack/distilbert-base-uncased-SST-2\")\n",
        "\n",
        "model_wrapper = HuggingFaceModelWrapper(model, tokenizer)"
      ],
      "execution_count": 9,
      "outputs": [
        {
          "output_type": "stream",
          "text": [
            "\u001b[34;1mtextattack\u001b[0m: Updating TextAttack package dependencies.\n",
            "\u001b[34;1mtextattack\u001b[0m: Downloading NLTK required packages.\n"
          ],
          "name": "stderr"
        },
        {
          "output_type": "stream",
          "text": [
            "[nltk_data] Downloading package averaged_perceptron_tagger to\n",
            "[nltk_data]     /root/nltk_data...\n",
            "[nltk_data]   Unzipping taggers/averaged_perceptron_tagger.zip.\n",
            "[nltk_data] Downloading package stopwords to /root/nltk_data...\n",
            "[nltk_data]   Unzipping corpora/stopwords.zip.\n",
            "[nltk_data] Downloading package omw to /root/nltk_data...\n",
            "[nltk_data]   Unzipping corpora/omw.zip.\n",
            "[nltk_data] Downloading package universal_tagset to /root/nltk_data...\n",
            "[nltk_data]   Unzipping taggers/universal_tagset.zip.\n",
            "[nltk_data] Downloading package wordnet to /root/nltk_data...\n",
            "[nltk_data]   Unzipping corpora/wordnet.zip.\n",
            "[nltk_data] Downloading package punkt to /root/nltk_data...\n",
            "[nltk_data]   Unzipping tokenizers/punkt.zip.\n"
          ],
          "name": "stdout"
        },
        {
          "output_type": "stream",
          "text": [
            "\u001b[34;1mtextattack\u001b[0m: Downloading https://textattack.s3.amazonaws.com/word_embeddings/paragramcf.\n",
            "100%|██████████| 481M/481M [00:37<00:00, 12.9MB/s]\n",
            "\u001b[34;1mtextattack\u001b[0m: Unzipping file /root/.cache/textattack/tmpvy0xggku.zip to /root/.cache/textattack/word_embeddings/paragramcf.\n",
            "\u001b[34;1mtextattack\u001b[0m: Successfully saved word_embeddings/paragramcf to cache.\n"
          ],
          "name": "stderr"
        },
        {
          "output_type": "display_data",
          "data": {
            "application/vnd.jupyter.widget-view+json": {
              "model_id": "f14e115d41ab433587e305be71ef41ba",
              "version_minor": 0,
              "version_major": 2
            },
            "text/plain": [
              "HBox(children=(FloatProgress(value=0.0, description='Downloading', max=486.0, style=ProgressStyle(description_…"
            ]
          },
          "metadata": {
            "tags": []
          }
        },
        {
          "output_type": "stream",
          "text": [
            "\n"
          ],
          "name": "stdout"
        },
        {
          "output_type": "display_data",
          "data": {
            "application/vnd.jupyter.widget-view+json": {
              "model_id": "9dd79d38883640f28f8cbcd1f664fa0c",
              "version_minor": 0,
              "version_major": 2
            },
            "text/plain": [
              "HBox(children=(FloatProgress(value=0.0, description='Downloading', max=267845150.0, style=ProgressStyle(descri…"
            ]
          },
          "metadata": {
            "tags": []
          }
        },
        {
          "output_type": "stream",
          "text": [
            "\n"
          ],
          "name": "stdout"
        },
        {
          "output_type": "display_data",
          "data": {
            "application/vnd.jupyter.widget-view+json": {
              "model_id": "11f29a2fff5f47e2a34789d714104c4e",
              "version_minor": 0,
              "version_major": 2
            },
            "text/plain": [
              "HBox(children=(FloatProgress(value=0.0, description='Downloading', max=231508.0, style=ProgressStyle(descripti…"
            ]
          },
          "metadata": {
            "tags": []
          }
        },
        {
          "output_type": "stream",
          "text": [
            "\n"
          ],
          "name": "stdout"
        },
        {
          "output_type": "display_data",
          "data": {
            "application/vnd.jupyter.widget-view+json": {
              "model_id": "905ce82a1b1d4c079853d510fe6073b4",
              "version_minor": 0,
              "version_major": 2
            },
            "text/plain": [
              "HBox(children=(FloatProgress(value=0.0, description='Downloading', max=112.0, style=ProgressStyle(description_…"
            ]
          },
          "metadata": {
            "tags": []
          }
        },
        {
          "output_type": "stream",
          "text": [
            "\n"
          ],
          "name": "stdout"
        },
        {
          "output_type": "display_data",
          "data": {
            "application/vnd.jupyter.widget-view+json": {
              "model_id": "e85c800569064a6193486cd3a9674a7f",
              "version_minor": 0,
              "version_major": 2
            },
            "text/plain": [
              "HBox(children=(FloatProgress(value=0.0, description='Downloading', max=48.0, style=ProgressStyle(description_w…"
            ]
          },
          "metadata": {
            "tags": []
          }
        },
        {
          "output_type": "stream",
          "text": [
            "\n"
          ],
          "name": "stdout"
        }
      ]
    },
    {
      "cell_type": "code",
      "metadata": {
        "colab": {
          "base_uri": "https://localhost:8080/"
        },
        "id": "hv_-nMrzZLDs",
        "outputId": "32600fc7-aa69-4566-8426-22896bd362f6"
      },
      "source": [
        "print([model1.wv.most_similar(positive=['science'])[0][0]])\n",
        "print([model2.wv.most_similar(positive=['science'])[0][0]])\n",
        "print([model3.most_similar(positive=['science'])[0][0]])"
      ],
      "execution_count": 10,
      "outputs": [
        {
          "output_type": "stream",
          "text": [
            "['geoscience']\n",
            "['fiction']\n",
            "['fiction']\n"
          ],
          "name": "stdout"
        }
      ]
    },
    {
      "cell_type": "code",
      "metadata": {
        "colab": {
          "base_uri": "https://localhost:8080/",
          "height": 340
        },
        "id": "LikFPi4Rd4pz",
        "outputId": "09e151f6-279f-4437-b2d7-5c92dfc043e9"
      },
      "source": [
        "print([model1.wv.most_similar(positive=['Fears'])[0][0]])\n",
        "print([model2.wv.most_similar(positive=['Fears'])[0][0]])"
      ],
      "execution_count": null,
      "outputs": [
        {
          "output_type": "stream",
          "text": [
            "['ears']\n"
          ],
          "name": "stdout"
        },
        {
          "output_type": "error",
          "ename": "KeyError",
          "evalue": "ignored",
          "traceback": [
            "\u001b[0;31m---------------------------------------------------------------------------\u001b[0m",
            "\u001b[0;31mKeyError\u001b[0m                                  Traceback (most recent call last)",
            "\u001b[0;32m<ipython-input-10-1c965b45cc3f>\u001b[0m in \u001b[0;36m<module>\u001b[0;34m()\u001b[0m\n\u001b[1;32m      1\u001b[0m \u001b[0mprint\u001b[0m\u001b[0;34m(\u001b[0m\u001b[0;34m[\u001b[0m\u001b[0mmodel1\u001b[0m\u001b[0;34m.\u001b[0m\u001b[0mwv\u001b[0m\u001b[0;34m.\u001b[0m\u001b[0mmost_similar\u001b[0m\u001b[0;34m(\u001b[0m\u001b[0mpositive\u001b[0m\u001b[0;34m=\u001b[0m\u001b[0;34m[\u001b[0m\u001b[0;34m'Fears'\u001b[0m\u001b[0;34m]\u001b[0m\u001b[0;34m)\u001b[0m\u001b[0;34m[\u001b[0m\u001b[0;36m0\u001b[0m\u001b[0;34m]\u001b[0m\u001b[0;34m[\u001b[0m\u001b[0;36m0\u001b[0m\u001b[0;34m]\u001b[0m\u001b[0;34m]\u001b[0m\u001b[0;34m)\u001b[0m\u001b[0;34m\u001b[0m\u001b[0;34m\u001b[0m\u001b[0m\n\u001b[0;32m----> 2\u001b[0;31m \u001b[0mprint\u001b[0m\u001b[0;34m(\u001b[0m\u001b[0;34m[\u001b[0m\u001b[0mmodel2\u001b[0m\u001b[0;34m.\u001b[0m\u001b[0mwv\u001b[0m\u001b[0;34m.\u001b[0m\u001b[0mmost_similar\u001b[0m\u001b[0;34m(\u001b[0m\u001b[0mpositive\u001b[0m\u001b[0;34m=\u001b[0m\u001b[0;34m[\u001b[0m\u001b[0;34m'Fears'\u001b[0m\u001b[0;34m]\u001b[0m\u001b[0;34m)\u001b[0m\u001b[0;34m[\u001b[0m\u001b[0;36m0\u001b[0m\u001b[0;34m]\u001b[0m\u001b[0;34m[\u001b[0m\u001b[0;36m0\u001b[0m\u001b[0;34m]\u001b[0m\u001b[0;34m]\u001b[0m\u001b[0;34m)\u001b[0m\u001b[0;34m\u001b[0m\u001b[0;34m\u001b[0m\u001b[0m\n\u001b[0m",
            "\u001b[0;32m/usr/local/lib/python3.7/dist-packages/gensim/models/keyedvectors.py\u001b[0m in \u001b[0;36mmost_similar\u001b[0;34m(self, positive, negative, topn, clip_start, clip_end, restrict_vocab, indexer)\u001b[0m\n\u001b[1;32m    760\u001b[0m                 \u001b[0mmean\u001b[0m\u001b[0;34m.\u001b[0m\u001b[0mappend\u001b[0m\u001b[0;34m(\u001b[0m\u001b[0mweight\u001b[0m \u001b[0;34m*\u001b[0m \u001b[0mkey\u001b[0m\u001b[0;34m)\u001b[0m\u001b[0;34m\u001b[0m\u001b[0;34m\u001b[0m\u001b[0m\n\u001b[1;32m    761\u001b[0m             \u001b[0;32melse\u001b[0m\u001b[0;34m:\u001b[0m\u001b[0;34m\u001b[0m\u001b[0;34m\u001b[0m\u001b[0m\n\u001b[0;32m--> 762\u001b[0;31m                 \u001b[0mmean\u001b[0m\u001b[0;34m.\u001b[0m\u001b[0mappend\u001b[0m\u001b[0;34m(\u001b[0m\u001b[0mweight\u001b[0m \u001b[0;34m*\u001b[0m \u001b[0mself\u001b[0m\u001b[0;34m.\u001b[0m\u001b[0mget_vector\u001b[0m\u001b[0;34m(\u001b[0m\u001b[0mkey\u001b[0m\u001b[0;34m,\u001b[0m \u001b[0mnorm\u001b[0m\u001b[0;34m=\u001b[0m\u001b[0;32mTrue\u001b[0m\u001b[0;34m)\u001b[0m\u001b[0;34m)\u001b[0m\u001b[0;34m\u001b[0m\u001b[0;34m\u001b[0m\u001b[0m\n\u001b[0m\u001b[1;32m    763\u001b[0m                 \u001b[0;32mif\u001b[0m \u001b[0mself\u001b[0m\u001b[0;34m.\u001b[0m\u001b[0mhas_index_for\u001b[0m\u001b[0;34m(\u001b[0m\u001b[0mkey\u001b[0m\u001b[0;34m)\u001b[0m\u001b[0;34m:\u001b[0m\u001b[0;34m\u001b[0m\u001b[0;34m\u001b[0m\u001b[0m\n\u001b[1;32m    764\u001b[0m                     \u001b[0mall_keys\u001b[0m\u001b[0;34m.\u001b[0m\u001b[0madd\u001b[0m\u001b[0;34m(\u001b[0m\u001b[0mself\u001b[0m\u001b[0;34m.\u001b[0m\u001b[0mget_index\u001b[0m\u001b[0;34m(\u001b[0m\u001b[0mkey\u001b[0m\u001b[0;34m)\u001b[0m\u001b[0;34m)\u001b[0m\u001b[0;34m\u001b[0m\u001b[0;34m\u001b[0m\u001b[0m\n",
            "\u001b[0;32m/usr/local/lib/python3.7/dist-packages/gensim/models/keyedvectors.py\u001b[0m in \u001b[0;36mget_vector\u001b[0;34m(self, key, norm)\u001b[0m\n\u001b[1;32m    420\u001b[0m \u001b[0;34m\u001b[0m\u001b[0m\n\u001b[1;32m    421\u001b[0m         \"\"\"\n\u001b[0;32m--> 422\u001b[0;31m         \u001b[0mindex\u001b[0m \u001b[0;34m=\u001b[0m \u001b[0mself\u001b[0m\u001b[0;34m.\u001b[0m\u001b[0mget_index\u001b[0m\u001b[0;34m(\u001b[0m\u001b[0mkey\u001b[0m\u001b[0;34m)\u001b[0m\u001b[0;34m\u001b[0m\u001b[0;34m\u001b[0m\u001b[0m\n\u001b[0m\u001b[1;32m    423\u001b[0m         \u001b[0;32mif\u001b[0m \u001b[0mnorm\u001b[0m\u001b[0;34m:\u001b[0m\u001b[0;34m\u001b[0m\u001b[0;34m\u001b[0m\u001b[0m\n\u001b[1;32m    424\u001b[0m             \u001b[0mself\u001b[0m\u001b[0;34m.\u001b[0m\u001b[0mfill_norms\u001b[0m\u001b[0;34m(\u001b[0m\u001b[0;34m)\u001b[0m\u001b[0;34m\u001b[0m\u001b[0;34m\u001b[0m\u001b[0m\n",
            "\u001b[0;32m/usr/local/lib/python3.7/dist-packages/gensim/models/keyedvectors.py\u001b[0m in \u001b[0;36mget_index\u001b[0;34m(self, key, default)\u001b[0m\n\u001b[1;32m    394\u001b[0m             \u001b[0;32mreturn\u001b[0m \u001b[0mdefault\u001b[0m\u001b[0;34m\u001b[0m\u001b[0;34m\u001b[0m\u001b[0m\n\u001b[1;32m    395\u001b[0m         \u001b[0;32melse\u001b[0m\u001b[0;34m:\u001b[0m\u001b[0;34m\u001b[0m\u001b[0;34m\u001b[0m\u001b[0m\n\u001b[0;32m--> 396\u001b[0;31m             \u001b[0;32mraise\u001b[0m \u001b[0mKeyError\u001b[0m\u001b[0;34m(\u001b[0m\u001b[0;34mf\"Key '{key}' not present\"\u001b[0m\u001b[0;34m)\u001b[0m\u001b[0;34m\u001b[0m\u001b[0;34m\u001b[0m\u001b[0m\n\u001b[0m\u001b[1;32m    397\u001b[0m \u001b[0;34m\u001b[0m\u001b[0m\n\u001b[1;32m    398\u001b[0m     \u001b[0;32mdef\u001b[0m \u001b[0mget_vector\u001b[0m\u001b[0;34m(\u001b[0m\u001b[0mself\u001b[0m\u001b[0;34m,\u001b[0m \u001b[0mkey\u001b[0m\u001b[0;34m,\u001b[0m \u001b[0mnorm\u001b[0m\u001b[0;34m=\u001b[0m\u001b[0;32mFalse\u001b[0m\u001b[0;34m)\u001b[0m\u001b[0;34m:\u001b[0m\u001b[0;34m\u001b[0m\u001b[0;34m\u001b[0m\u001b[0m\n",
            "\u001b[0;31mKeyError\u001b[0m: \"Key 'Fears' not present\""
          ]
        }
      ]
    },
    {
      "cell_type": "code",
      "metadata": {
        "id": "-Jfy0PqnZQqP"
      },
      "source": [
        "from textattack.transformations import WordSwap\n",
        "\n",
        "class Swapper(WordSwap):\n",
        "    \"\"\" Transforms an input by replacing any word with 'banana'.\n",
        "    \"\"\"\n",
        "\n",
        "    # We don't need a constructor, since our class doesn't require any parameters.\n",
        "\n",
        "    def _get_replacement_words(self, word):\n",
        "        \"\"\" Returns 'banana', no matter what 'word' was originally.\n",
        "\n",
        "            Returns a list with one item, since `_get_replacement_words` is intended to\n",
        "                return a list of candidate replacement words.\n",
        "        \"\"\"\n",
        "        for i in range(10):\n",
        "            if model1.wv.most_similar(word)[i][0].lower() == word.lower():\n",
        "                continue\n",
        "            elif word.isupper():\n",
        "                return [model1.wv.most_similar(word)[i][0].upper()]\n",
        "            elif word[0].isupper():\n",
        "                return [model1.wv.most_similar(word)[i][0].capitalize()]\n",
        "            else:\n",
        "                return [model1.wv.most_similar(word)[i][0]]\n",
        "            \n",
        "        return [model1.wv.most_similar(word)[0][0]]"
      ],
      "execution_count": 11,
      "outputs": []
    },
    {
      "cell_type": "code",
      "metadata": {
        "id": "AZCo-YWScEBH"
      },
      "source": [
        "#using word2vec similar word\n",
        "from textattack.transformations import WordSwap\n",
        "\n",
        "class Swapper_(WordSwap):\n",
        "    \"\"\" Transforms an input by replacing any word with 'banana'.\n",
        "    \"\"\"\n",
        "\n",
        "    # We don't need a constructor, since our class doesn't require any parameters.\n",
        "\n",
        "    def _get_replacement_words(self, word):\n",
        "        \"\"\" Returns 'banana', no matter what 'word' was originally.\n",
        "\n",
        "            Returns a list with one item, since `_get_replacement_words` is intended to\n",
        "                return a list of candidate replacement words.\n",
        "        \"\"\"\n",
        "        if word in model2.wv.key_to_index:\n",
        "            for i in range(10):\n",
        "                if model2.wv.most_similar(word)[i][0].lower() == word.lower():\n",
        "                    continue\n",
        "                elif word.isupper():\n",
        "                    return [model2.wv.most_similar(word)[i][0].upper()]\n",
        "                elif word[0].isupper():\n",
        "                    return [model2.wv.most_similar(word)[i][0].capitalize()]\n",
        "                else:\n",
        "                    return [model2.wv.most_similar(word)[i][0]]\n",
        "        else:\n",
        "            return [word]"
      ],
      "execution_count": 12,
      "outputs": []
    },
    {
      "cell_type": "code",
      "metadata": {
        "id": "cDXnRn0CJMS2"
      },
      "source": [
        "#using Glove similar word\n",
        "\n",
        "from textattack.transformations import WordSwap\n",
        "\n",
        "class Swapper_G(WordSwap):\n",
        "    \"\"\" Transforms an input by replacing any word with 'banana'.\n",
        "    \"\"\"\n",
        "\n",
        "    # We don't need a constructor, since our class doesn't require any parameters.\n",
        "\n",
        "    def _get_replacement_words(self, word):\n",
        "        \"\"\" Returns 'banana', no matter what 'word' was originally.\n",
        "\n",
        "            Returns a list with one item, since `_get_replacement_words` is intended to\n",
        "                return a list of candidate replacement words.\n",
        "        \"\"\"\n",
        "        if word in model3.key_to_index:\n",
        "            for i in range(10):\n",
        "                if model3.most_similar(word)[i][0].lower() == word.lower():\n",
        "                    continue\n",
        "                elif word.isupper():\n",
        "                    return [model3.most_similar(word)[i][0].upper()]\n",
        "                elif word[0].isupper():\n",
        "                    return [model3.most_similar(word)[i][0].capitalize()]\n",
        "                else:\n",
        "                    return [model3.most_similar(word)[i][0]]\n",
        "        else:\n",
        "            return [word]"
      ],
      "execution_count": 13,
      "outputs": []
    },
    {
      "cell_type": "code",
      "metadata": {
        "colab": {
          "base_uri": "https://localhost:8080/",
          "height": 252,
          "referenced_widgets": [
            "572f11a884e5431aa415e4b702563cec",
            "493463d34e8b448fb206a9f39d99b6e0",
            "9bdf90ec42a44e10be42bb8274aaeaf5",
            "499beaa8e8204c14ad1fd09900362f9e",
            "943ef4e9f51349e1b56c72e438331aef",
            "f7e37d424224441da215ea27ff08e6f0",
            "4a0332f8575348568aa4136452eb449f",
            "631badf742c64c449fbf0ca70b1889b6",
            "18762eb076cc490192b03cd760c7b069",
            "1bf4c768b9b444e6bbca70e28b15d57a",
            "c8056fc560a240b98ddaae4ff801c52a",
            "ff60413be0d64acbba538776eedd6b6a",
            "961dcb1b96524eb8bc0b9521162044a3",
            "989985bf9333454ba6e8efdf56fed5d0",
            "306edbf0807041f399a403268e5a8f18",
            "c293026aa1324b7c92c4e5de51684dcf",
            "5f30b5ab5ee141e0a19fc9642e9c667d",
            "bf2e835d6b3544319ff47d0cc072be57",
            "bc8bfbef2b714ed58fc2c714509f875d",
            "1e69526ec1b24b72994df49686af494a",
            "5d855e7dd9ea4324b1ca5b90deb98c30",
            "df7853346aa446aaba1ee9a31054b7c2",
            "b6af864c344c4b84b2b2f512de5fc742",
            "e0d9cf57e3e44096b41fc4657d35dd49",
            "3016ba2b945c48fb87cdc4779f0654f3",
            "3f5615b01b87412cbb2b56d078db3496",
            "1b18e52bade1420a942c57ddc130e150",
            "5fb1fb5e208745ad8fa0d1ec18e2cf3a",
            "e6f2af03fef4475496d2e7c4a6bd3c2d",
            "de791a6a29fc4acabbe4d180e1a67fac",
            "c4cee1e7e8544ba2b4aaaedf7ec4156b",
            "dea4e1e1cae341d790b6e88cfd5829cd",
            "aa763c6bb3cf4ac498d9abfb8740cade",
            "1e157e410a4e4197a7a4c0ffd646b5b1",
            "94127cdca8c9471d86e78d70bb8aba10",
            "617436c4fb1b45158a024c5c5e08784d",
            "ef9689b191d049d8846636c8fb45221a",
            "b80362930b03417a874d71c527da8430",
            "2e9b3bc28561478e97bfc807a8e724c7",
            "c5d1d32505c647e6a5fe46ae770529c1",
            "58bdc2b035854ce0bd5719f62cff5f33",
            "1f583b0e718b4f70a4ad9f10c77f5e5a",
            "5ec7505dcda04b24b65549a55fa5f489",
            "c1a1fdb717804934bf3fa090bdd56973",
            "dab0216c01984434b4746b98d70258ae",
            "d8ddea93dbb14b9caf38fddc75b45003",
            "8266df6e3174436a865d28f88941af84",
            "73d2d1fddcb8408eaa3b5d91dfb46060"
          ]
        },
        "id": "NZnnDcpFZVGc",
        "outputId": "142af966-93a1-4f17-e6e1-efa5b160a9ae"
      },
      "source": [
        "from textattack.search_methods import GreedySearch\n",
        "from textattack.constraints.pre_transformation import RepeatModification, StopwordModification\n",
        "from textattack.shared import Attack\n",
        "from textattack.goal_functions import UntargetedClassification\n",
        "from textattack.datasets import HuggingFaceDataset\n",
        "\n",
        "# We're going to use our word swap class as the attack transformation.\n",
        "transformation = Swapper()\n",
        "# We'll constrain modification of already modified indices and stopwords\n",
        "constraints = [RepeatModification(),\n",
        "               StopwordModification()]\n",
        "# We'll use the Greedy search method\n",
        "search_method = GreedySearch()\n",
        "# Create the goal function using the model\n",
        "\n",
        "goal_function = UntargetedClassification(model_wrapper)\n",
        "\n",
        "# Now, let's make the attack from the 4 components:\n",
        "attack = Attack(goal_function, constraints, transformation, search_method)\n",
        "\n",
        "dataset = HuggingFaceDataset(\"glue\",\"sst2\", \"validation\")"
      ],
      "execution_count": 14,
      "outputs": [
        {
          "output_type": "stream",
          "text": [
            "\u001b[34;1mtextattack\u001b[0m: Unknown if model of class <class 'transformers.models.distilbert.modeling_distilbert.DistilBertForSequenceClassification'> compatible with goal function <class 'textattack.goal_functions.classification.untargeted_classification.UntargetedClassification'>.\n"
          ],
          "name": "stderr"
        },
        {
          "output_type": "display_data",
          "data": {
            "application/vnd.jupyter.widget-view+json": {
              "model_id": "572f11a884e5431aa415e4b702563cec",
              "version_minor": 0,
              "version_major": 2
            },
            "text/plain": [
              "HBox(children=(FloatProgress(value=0.0, description='Downloading', max=7777.0, style=ProgressStyle(description…"
            ]
          },
          "metadata": {
            "tags": []
          }
        },
        {
          "output_type": "stream",
          "text": [
            "\n"
          ],
          "name": "stdout"
        },
        {
          "output_type": "display_data",
          "data": {
            "application/vnd.jupyter.widget-view+json": {
              "model_id": "18762eb076cc490192b03cd760c7b069",
              "version_minor": 0,
              "version_major": 2
            },
            "text/plain": [
              "HBox(children=(FloatProgress(value=0.0, description='Downloading', max=4473.0, style=ProgressStyle(description…"
            ]
          },
          "metadata": {
            "tags": []
          }
        },
        {
          "output_type": "stream",
          "text": [
            "\n",
            "Downloading and preparing dataset glue/sst2 (download: 7.09 MiB, generated: 4.81 MiB, post-processed: Unknown size, total: 11.90 MiB) to /root/.cache/huggingface/datasets/glue/sst2/1.0.0/dacbe3125aa31d7f70367a07a8a9e72a5a0bfeb5fc42e75c9db75b96da6053ad...\n"
          ],
          "name": "stdout"
        },
        {
          "output_type": "display_data",
          "data": {
            "application/vnd.jupyter.widget-view+json": {
              "model_id": "5f30b5ab5ee141e0a19fc9642e9c667d",
              "version_minor": 0,
              "version_major": 2
            },
            "text/plain": [
              "HBox(children=(FloatProgress(value=0.0, description='Downloading', max=7439277.0, style=ProgressStyle(descript…"
            ]
          },
          "metadata": {
            "tags": []
          }
        },
        {
          "output_type": "stream",
          "text": [
            "\n"
          ],
          "name": "stdout"
        },
        {
          "output_type": "display_data",
          "data": {
            "application/vnd.jupyter.widget-view+json": {
              "model_id": "3016ba2b945c48fb87cdc4779f0654f3",
              "version_minor": 0,
              "version_major": 2
            },
            "text/plain": [
              "HBox(children=(FloatProgress(value=1.0, bar_style='info', max=1.0), HTML(value='')))"
            ]
          },
          "metadata": {
            "tags": []
          }
        },
        {
          "output_type": "stream",
          "text": [
            "\r"
          ],
          "name": "stdout"
        },
        {
          "output_type": "display_data",
          "data": {
            "application/vnd.jupyter.widget-view+json": {
              "model_id": "aa763c6bb3cf4ac498d9abfb8740cade",
              "version_minor": 0,
              "version_major": 2
            },
            "text/plain": [
              "HBox(children=(FloatProgress(value=1.0, bar_style='info', max=1.0), HTML(value='')))"
            ]
          },
          "metadata": {
            "tags": []
          }
        },
        {
          "output_type": "stream",
          "text": [
            "\r"
          ],
          "name": "stdout"
        },
        {
          "output_type": "display_data",
          "data": {
            "application/vnd.jupyter.widget-view+json": {
              "model_id": "58bdc2b035854ce0bd5719f62cff5f33",
              "version_minor": 0,
              "version_major": 2
            },
            "text/plain": [
              "HBox(children=(FloatProgress(value=1.0, bar_style='info', max=1.0), HTML(value='')))"
            ]
          },
          "metadata": {
            "tags": []
          }
        },
        {
          "output_type": "stream",
          "text": [
            "\u001b[34;1mtextattack\u001b[0m: Loading \u001b[94mdatasets\u001b[0m dataset \u001b[94mglue\u001b[0m, subset \u001b[94msst2\u001b[0m, split \u001b[94mvalidation\u001b[0m.\n"
          ],
          "name": "stderr"
        },
        {
          "output_type": "stream",
          "text": [
            "\rDataset glue downloaded and prepared to /root/.cache/huggingface/datasets/glue/sst2/1.0.0/dacbe3125aa31d7f70367a07a8a9e72a5a0bfeb5fc42e75c9db75b96da6053ad. Subsequent calls will reuse this data.\n"
          ],
          "name": "stdout"
        }
      ]
    },
    {
      "cell_type": "code",
      "metadata": {
        "colab": {
          "base_uri": "https://localhost:8080/"
        },
        "id": "Mxjp9fH1Au3Y",
        "outputId": "68be5a28-0c7e-4aa0-c17d-70d831fd2434"
      },
      "source": [
        "print(attack)"
      ],
      "execution_count": 15,
      "outputs": [
        {
          "output_type": "stream",
          "text": [
            "Attack(\n",
            "  (search_method): GreedySearch\n",
            "  (goal_function):  UntargetedClassification\n",
            "  (transformation):  Swapper\n",
            "  (constraints): \n",
            "    (0): RepeatModification\n",
            "    (1): StopwordModification\n",
            "  (is_black_box):  True\n",
            ")\n"
          ],
          "name": "stdout"
        }
      ]
    },
    {
      "cell_type": "code",
      "metadata": {
        "colab": {
          "base_uri": "https://localhost:8080/",
          "height": 1000
        },
        "id": "R7FBaqkHAm7D",
        "outputId": "5d2cf0e9-908f-475f-f062-ad6f13a98cd0"
      },
      "source": [
        "from collections import deque\n",
        "\n",
        "import textattack\n",
        "import tqdm\n",
        "import time\n",
        "from IPython.display import display, HTML\n",
        "num_examples = 25\n",
        "num_remaining_attacks = num_examples\n",
        "pbar = tqdm.tqdm(total=num_remaining_attacks, smoothing=0)\n",
        "\n",
        "worklist = deque(range(0, num_examples))\n",
        "worklist_tail = worklist[-1]\n",
        "\n",
        "attack_log_manager = textattack.loggers.AttackLogManager()\n",
        "\n",
        "load_time = time.time()\n",
        "        \n",
        "num_results = 0\n",
        "num_failures = 0\n",
        "num_successes = 0\n",
        "for result in attack.attack_dataset(dataset, indices=worklist):\n",
        "    result_html_str = result.__str__(color_method=\"html\").replace(\"\\n\\n\", \"<br>\")\n",
        "    display(HTML(result_html_str))\n",
        "    attack_log_manager.log_result(result)\n",
        "            \n",
        "    if not isinstance(result, textattack.attack_results.SkippedAttackResult):\n",
        "        pbar.update(1)\n",
        "    else:\n",
        "        worklist_tail += 1\n",
        "        pbar.update(1)\n",
        "        worklist.append(worklist_tail)\n",
        "\n",
        "    num_results += 1\n",
        "\n",
        "    if (\n",
        "        type(result) == textattack.attack_results.SuccessfulAttackResult\n",
        "        or type(result) == textattack.attack_results.MaximizedAttackResult\n",
        "    ):\n",
        "        num_successes += 1\n",
        "                \n",
        "    if type(result) == textattack.attack_results.FailedAttackResult:\n",
        "        num_failures += 1\n",
        "    pbar.set_description(\n",
        "        \"[Succeeded / Failed / Total] {} / {} / {}\".format(\n",
        "            num_successes, num_failures, num_results\n",
        "        )\n",
        "    )\n",
        "\n",
        "pbar.close()\n",
        "\n",
        "attack_log_manager.enable_stdout()\n",
        "attack_log_manager.log_summary()\n",
        "attack_log_manager.flush()\n",
        "        \n",
        "textattack.shared.logger.info(f\"Attack time: {time.time() - load_time}s\")"
      ],
      "execution_count": 16,
      "outputs": [
        {
          "output_type": "stream",
          "text": [
            "\r  0%|          | 0/25 [00:00<?, ?it/s]"
          ],
          "name": "stderr"
        },
        {
          "output_type": "display_data",
          "data": {
            "text/html": [
              "<font color = red>Negative (84%)</font> --> <font color = gray>[SKIPPED]</font><br>it 's a charming and often affecting journey . "
            ],
            "text/plain": [
              "<IPython.core.display.HTML object>"
            ]
          },
          "metadata": {
            "tags": []
          }
        },
        {
          "output_type": "stream",
          "text": [
            "[Succeeded / Failed / Total] 0 / 0 / 1:   4%|▍         | 1/25 [00:00<00:03,  6.63it/s]"
          ],
          "name": "stderr"
        },
        {
          "output_type": "display_data",
          "data": {
            "text/html": [
              "<font color = red>Negative (79%)</font> --> <font color = red>[FAILED]</font><br>unflinchingly bleak and desperate "
            ],
            "text/plain": [
              "<IPython.core.display.HTML object>"
            ]
          },
          "metadata": {
            "tags": []
          }
        },
        {
          "output_type": "stream",
          "text": [
            "[Succeeded / Failed / Total] 0 / 1 / 2:   8%|▊         | 2/25 [00:00<00:03,  7.66it/s]"
          ],
          "name": "stderr"
        },
        {
          "output_type": "display_data",
          "data": {
            "text/html": [
              "<font color = green>Positive (67%)</font> --> <font color = red>Negative (51%)</font><br>allows us to <font color = green>hope</font> that <font color = green>nolan</font> is poised to embark a <font color = green>major</font> career as a commercial <font color = green>yet</font> <font color = green>inventive</font> filmmaker . <br>allows us to <font color = red>hopeful</font> that <font color = red>colan</font> is poised to embark a <font color = red>minor</font> career as a commercial <font color = red>obviously</font> <font color = red>inventing</font> filmmaker . "
            ],
            "text/plain": [
              "<IPython.core.display.HTML object>"
            ]
          },
          "metadata": {
            "tags": []
          }
        },
        {
          "output_type": "stream",
          "text": [
            "[Succeeded / Failed / Total] 1 / 1 / 3:  12%|█▏        | 3/25 [00:00<00:06,  3.33it/s]"
          ],
          "name": "stderr"
        },
        {
          "output_type": "display_data",
          "data": {
            "text/html": [
              "<font color = green>Positive (68%)</font> --> <font color = red>Negative (54%)</font><br>the acting , costumes , music , cinematography and <font color = green>sound</font> are all astounding <font color = green>given</font> the <font color = green>production</font> 's austere locales . <br>the acting , costumes , music , cinematography and <font color = red>csound</font> are all astounding <font color = red>givens</font> the <font color = red>overproduction</font> 's austere locales . "
            ],
            "text/plain": [
              "<IPython.core.display.HTML object>"
            ]
          },
          "metadata": {
            "tags": []
          }
        },
        {
          "output_type": "stream",
          "text": [
            "[Succeeded / Failed / Total] 2 / 1 / 4:  16%|█▌        | 4/25 [00:01<00:06,  3.15it/s]"
          ],
          "name": "stderr"
        },
        {
          "output_type": "display_data",
          "data": {
            "text/html": [
              "<font color = red>Negative (66%)</font> --> <font color = red>[FAILED]</font><br>it 's slow -- very , very slow . "
            ],
            "text/plain": [
              "<IPython.core.display.HTML object>"
            ]
          },
          "metadata": {
            "tags": []
          }
        },
        {
          "output_type": "stream",
          "text": [
            "[Succeeded / Failed / Total] 2 / 2 / 5:  20%|██        | 5/25 [00:01<00:05,  3.64it/s]"
          ],
          "name": "stderr"
        },
        {
          "output_type": "display_data",
          "data": {
            "text/html": [
              "<font color = red>Negative (61%)</font> --> <font color = gray>[SKIPPED]</font><br>although laced with humor and a few fanciful touches , the film is a refreshingly serious look at young women . "
            ],
            "text/plain": [
              "<IPython.core.display.HTML object>"
            ]
          },
          "metadata": {
            "tags": []
          }
        },
        {
          "output_type": "stream",
          "text": [
            "\r[Succeeded / Failed / Total] 2 / 2 / 6:  24%|██▍       | 6/25 [00:01<00:04,  4.30it/s]"
          ],
          "name": "stderr"
        },
        {
          "output_type": "display_data",
          "data": {
            "text/html": [
              "<font color = green>Positive (66%)</font> --> <font color = gray>[SKIPPED]</font><br>a sometimes tedious film . "
            ],
            "text/plain": [
              "<IPython.core.display.HTML object>"
            ]
          },
          "metadata": {
            "tags": []
          }
        },
        {
          "output_type": "stream",
          "text": [
            "\r[Succeeded / Failed / Total] 2 / 2 / 7:  28%|██▊       | 7/25 [00:01<00:03,  4.95it/s]"
          ],
          "name": "stderr"
        },
        {
          "output_type": "display_data",
          "data": {
            "text/html": [
              "<font color = green>Positive (78%)</font> --> <font color = gray>[SKIPPED]</font><br>or doing last year 's taxes with your ex-wife . "
            ],
            "text/plain": [
              "<IPython.core.display.HTML object>"
            ]
          },
          "metadata": {
            "tags": []
          }
        },
        {
          "output_type": "stream",
          "text": [
            "\r[Succeeded / Failed / Total] 2 / 2 / 8:  32%|███▏      | 8/25 [00:01<00:03,  5.58it/s]"
          ],
          "name": "stderr"
        },
        {
          "output_type": "display_data",
          "data": {
            "text/html": [
              "<font color = red>Negative (68%)</font> --> <font color = gray>[SKIPPED]</font><br>you do n't have to know about music to appreciate the film 's easygoing blend of comedy and romance . "
            ],
            "text/plain": [
              "<IPython.core.display.HTML object>"
            ]
          },
          "metadata": {
            "tags": []
          }
        },
        {
          "output_type": "stream",
          "text": [
            "\r[Succeeded / Failed / Total] 2 / 2 / 9:  36%|███▌      | 9/25 [00:01<00:02,  6.21it/s]"
          ],
          "name": "stderr"
        },
        {
          "output_type": "display_data",
          "data": {
            "text/html": [
              "<font color = red>Negative (66%)</font> --> <font color = green>Positive (65%)</font><br>in exactly 89 minutes , most of which passed as slowly as if i 'd been sitting naked on an igloo , <font color = red>formula</font> 51 sank from <font color = red>quirky</font> to jerky to utter turkey . <br>in exactly 89 minutes , most of which passed as slowly as if i 'd been sitting naked on an igloo , <font color = green>formulas</font> 51 sank from <font color = green>quirk</font> to jerky to utter turkey . "
            ],
            "text/plain": [
              "<IPython.core.display.HTML object>"
            ]
          },
          "metadata": {
            "tags": []
          }
        },
        {
          "output_type": "stream",
          "text": [
            "[Succeeded / Failed / Total] 3 / 2 / 10:  40%|████      | 10/25 [00:01<00:02,  5.48it/s]"
          ],
          "name": "stderr"
        },
        {
          "output_type": "display_data",
          "data": {
            "text/html": [
              "<font color = green>Positive (57%)</font> --> <font color = red>Negative (51%)</font><br>the mesmerizing performances of the leads keep the film <font color = green>grounded</font> and keep the audience <font color = green>riveted</font> . <br>the mesmerizing performances of the leads keep the film <font color = red>ungrounded</font> and keep the audience <font color = red>coveted</font> . "
            ],
            "text/plain": [
              "<IPython.core.display.HTML object>"
            ]
          },
          "metadata": {
            "tags": []
          }
        },
        {
          "output_type": "stream",
          "text": [
            "\r[Succeeded / Failed / Total] 4 / 2 / 11:  44%|████▍     | 11/25 [00:02<00:02,  5.39it/s]"
          ],
          "name": "stderr"
        },
        {
          "output_type": "display_data",
          "data": {
            "text/html": [
              "<font color = green>Positive (59%)</font> --> <font color = gray>[SKIPPED]</font><br>it takes a strange kind of laziness to waste the talents of robert forster , anne meara , eugene levy , and reginald veljohnson all in the same movie . "
            ],
            "text/plain": [
              "<IPython.core.display.HTML object>"
            ]
          },
          "metadata": {
            "tags": []
          }
        },
        {
          "output_type": "stream",
          "text": [
            "\r[Succeeded / Failed / Total] 4 / 2 / 12:  48%|████▊     | 12/25 [00:02<00:02,  5.82it/s]"
          ],
          "name": "stderr"
        },
        {
          "output_type": "display_data",
          "data": {
            "text/html": [
              "<font color = red>Negative (51%)</font> --> <font color = green>Positive (63%)</font><br>... the film suffers from a lack of humor ( <font color = red>something</font> needed to balance out the violence ) ... <br>... the film suffers from a lack of humor ( <font color = green>dosomething</font> needed to balance out the violence ) ... "
            ],
            "text/plain": [
              "<IPython.core.display.HTML object>"
            ]
          },
          "metadata": {
            "tags": []
          }
        },
        {
          "output_type": "stream",
          "text": [
            "\r[Succeeded / Failed / Total] 5 / 2 / 13:  52%|█████▏    | 13/25 [00:02<00:02,  5.96it/s]"
          ],
          "name": "stderr"
        },
        {
          "output_type": "display_data",
          "data": {
            "text/html": [
              "<font color = red>Negative (84%)</font> --> <font color = gray>[SKIPPED]</font><br>we root for ( clara and paul ) , even like them , though perhaps it 's an emotion closer to pity . "
            ],
            "text/plain": [
              "<IPython.core.display.HTML object>"
            ]
          },
          "metadata": {
            "tags": []
          }
        },
        {
          "output_type": "stream",
          "text": [
            "\r[Succeeded / Failed / Total] 5 / 2 / 14:  56%|█████▌    | 14/25 [00:02<00:01,  6.36it/s]"
          ],
          "name": "stderr"
        },
        {
          "output_type": "display_data",
          "data": {
            "text/html": [
              "<font color = red>Negative (75%)</font> --> <font color = green>Positive (56%)</font><br>even horror fans will most likely not find what they 're seeking with trouble every <font color = red>day</font> ; the <font color = red>movie</font> lacks both thrills and humor . <br>even horror fans will most likely not find what they 're seeking with trouble every <font color = green>uday</font> ; the <font color = green>imovie</font> lacks both thrills and humor . "
            ],
            "text/plain": [
              "<IPython.core.display.HTML object>"
            ]
          },
          "metadata": {
            "tags": []
          }
        },
        {
          "output_type": "stream",
          "text": [
            "[Succeeded / Failed / Total] 6 / 2 / 15:  60%|██████    | 15/25 [00:02<00:01,  5.93it/s]"
          ],
          "name": "stderr"
        },
        {
          "output_type": "display_data",
          "data": {
            "text/html": [
              "<font color = red>Negative (65%)</font> --> <font color = gray>[SKIPPED]</font><br>a gorgeous , high-spirited musical from india that exquisitely blends music , dance , song , and high drama . "
            ],
            "text/plain": [
              "<IPython.core.display.HTML object>"
            ]
          },
          "metadata": {
            "tags": []
          }
        },
        {
          "output_type": "stream",
          "text": [
            "\r[Succeeded / Failed / Total] 6 / 2 / 16:  64%|██████▍   | 16/25 [00:02<00:01,  6.27it/s]"
          ],
          "name": "stderr"
        },
        {
          "output_type": "display_data",
          "data": {
            "text/html": [
              "<font color = red>Negative (69%)</font> --> <font color = gray>[SKIPPED]</font><br>the emotions are raw and will strike a nerve with anyone who 's ever had family trauma . "
            ],
            "text/plain": [
              "<IPython.core.display.HTML object>"
            ]
          },
          "metadata": {
            "tags": []
          }
        },
        {
          "output_type": "stream",
          "text": [
            "\r[Succeeded / Failed / Total] 6 / 2 / 17:  68%|██████▊   | 17/25 [00:02<00:01,  6.61it/s]"
          ],
          "name": "stderr"
        },
        {
          "output_type": "display_data",
          "data": {
            "text/html": [
              "<font color = red>Negative (67%)</font> --> <font color = gray>[SKIPPED]</font><br>audrey tatou has a knack for picking roles that magnify her outrageous charm , and in this literate french comedy , she 's as morning-glory exuberant as she was in amélie . "
            ],
            "text/plain": [
              "<IPython.core.display.HTML object>"
            ]
          },
          "metadata": {
            "tags": []
          }
        },
        {
          "output_type": "stream",
          "text": [
            "\r[Succeeded / Failed / Total] 6 / 2 / 18:  72%|███████▏  | 18/25 [00:02<00:01,  6.95it/s]"
          ],
          "name": "stderr"
        },
        {
          "output_type": "display_data",
          "data": {
            "text/html": [
              "<font color = green>Positive (52%)</font> --> <font color = gray>[SKIPPED]</font><br>... the movie is just a plain old monster . "
            ],
            "text/plain": [
              "<IPython.core.display.HTML object>"
            ]
          },
          "metadata": {
            "tags": []
          }
        },
        {
          "output_type": "stream",
          "text": [
            "\r[Succeeded / Failed / Total] 6 / 2 / 19:  76%|███████▌  | 19/25 [00:02<00:00,  7.28it/s]"
          ],
          "name": "stderr"
        },
        {
          "output_type": "display_data",
          "data": {
            "text/html": [
              "<font color = red>Negative (90%)</font> --> <font color = green>Positive (62%)</font><br>in its best <font color = red>moments</font> , <font color = red>resembles</font> a bad high <font color = red>school</font> production of grease , <font color = red>without</font> benefit of song . <br>in its best <font color = green>motions</font> , <font color = green>resemble</font> a bad high <font color = green>schoolboy</font> production of grease , <font color = green>any</font> benefit of song . "
            ],
            "text/plain": [
              "<IPython.core.display.HTML object>"
            ]
          },
          "metadata": {
            "tags": []
          }
        },
        {
          "output_type": "stream",
          "text": [
            "[Succeeded / Failed / Total] 7 / 2 / 20:  80%|████████  | 20/25 [00:03<00:00,  6.52it/s]"
          ],
          "name": "stderr"
        },
        {
          "output_type": "display_data",
          "data": {
            "text/html": [
              "<font color = red>Negative (79%)</font> --> <font color = green>Positive (52%)</font><br><font color = red>pumpkin</font> takes an admirable look at the hypocrisy of political correctness , but it does so with such an uneven tone that you never know when <font color = red>humor</font> ends and tragedy begins . <br><font color = green>pumpkins</font> takes an admirable look at the hypocrisy of political correctness , but it does so with such an uneven tone that you never know when <font color = green>humour</font> ends and tragedy begins . "
            ],
            "text/plain": [
              "<IPython.core.display.HTML object>"
            ]
          },
          "metadata": {
            "tags": []
          }
        },
        {
          "output_type": "stream",
          "text": [
            "\r[Succeeded / Failed / Total] 8 / 2 / 21:  84%|████████▍ | 21/25 [00:03<00:00,  6.12it/s]"
          ],
          "name": "stderr"
        },
        {
          "output_type": "display_data",
          "data": {
            "text/html": [
              "<font color = red>Negative (78%)</font> --> <font color = green>Positive (53%)</font><br>the iditarod <font color = red>lasts</font> for days - this just <font color = red>felt</font> like it did . <br>the iditarod <font color = green>lasted</font> for days - this just <font color = green>disbelieved</font> like it did . "
            ],
            "text/plain": [
              "<IPython.core.display.HTML object>"
            ]
          },
          "metadata": {
            "tags": []
          }
        },
        {
          "output_type": "stream",
          "text": [
            "\r[Succeeded / Failed / Total] 9 / 2 / 22:  88%|████████▊ | 22/25 [00:03<00:00,  6.18it/s]"
          ],
          "name": "stderr"
        },
        {
          "output_type": "display_data",
          "data": {
            "text/html": [
              "<font color = red>Negative (73%)</font> --> <font color = red>[FAILED]</font><br>holden caulfield did it better . "
            ],
            "text/plain": [
              "<IPython.core.display.HTML object>"
            ]
          },
          "metadata": {
            "tags": []
          }
        },
        {
          "output_type": "stream",
          "text": [
            "\r[Succeeded / Failed / Total] 9 / 3 / 23:  92%|█████████▏| 23/25 [00:03<00:00,  6.28it/s]"
          ],
          "name": "stderr"
        },
        {
          "output_type": "display_data",
          "data": {
            "text/html": [
              "<font color = green>Positive (59%)</font> --> <font color = red>Negative (67%)</font><br>a delectable and intriguing <font color = green>thriller</font> filled with surprises , read my lips is an original . <br>a delectable and intriguing <font color = red>thrill</font> filled with surprises , read my lips is an original . "
            ],
            "text/plain": [
              "<IPython.core.display.HTML object>"
            ]
          },
          "metadata": {
            "tags": []
          }
        },
        {
          "output_type": "stream",
          "text": [
            "\r[Succeeded / Failed / Total] 10 / 3 / 24:  96%|█████████▌| 24/25 [00:03<00:00,  6.36it/s]"
          ],
          "name": "stderr"
        },
        {
          "output_type": "display_data",
          "data": {
            "text/html": [
              "<font color = green>Positive (72%)</font> --> <font color = red>Negative (53%)</font><br><font color = green>seldom</font> has a movie so <font color = green>closely</font> matched the <font color = green>spirit</font> of a man and his <font color = green>work</font> . <br><font color = red>rarely</font> has a movie so <font color = red>loosely</font> matched the <font color = red>spirits</font> of a man and his <font color = red>works</font> . "
            ],
            "text/plain": [
              "<IPython.core.display.HTML object>"
            ]
          },
          "metadata": {
            "tags": []
          }
        },
        {
          "output_type": "stream",
          "text": [
            "[Succeeded / Failed / Total] 11 / 3 / 25: 100%|██████████| 25/25 [00:04<00:00,  6.16it/s]"
          ],
          "name": "stderr"
        },
        {
          "output_type": "display_data",
          "data": {
            "text/html": [
              "<font color = red>Negative (76%)</font> --> <font color = green>Positive (52%)</font><br><font color = red>nicks</font> , <font color = red>seemingly</font> uncertain what 's going to make <font color = red>people</font> laugh , <font color = red>runs</font> the gamut from stale parody to raunchy sex gags to formula romantic comedy . <br><font color = green>knicks</font> , <font color = green>stunningly</font> uncertain what 's going to make <font color = green>laypeople</font> laugh , <font color = green>running</font> the gamut from stale parody to raunchy sex gags to formula romantic comedy . "
            ],
            "text/plain": [
              "<IPython.core.display.HTML object>"
            ]
          },
          "metadata": {
            "tags": []
          }
        },
        {
          "output_type": "stream",
          "text": [
            "\r[Succeeded / Failed / Total] 12 / 3 / 26: : 26it [00:04,  5.43it/s]                      "
          ],
          "name": "stderr"
        },
        {
          "output_type": "display_data",
          "data": {
            "text/html": [
              "<font color = red>Negative (74%)</font> --> <font color = red>[FAILED]</font><br>the action switches between past and present , but the material link is too tenuous to anchor the emotional connections that purport to span a 125-year divide . "
            ],
            "text/plain": [
              "<IPython.core.display.HTML object>"
            ]
          },
          "metadata": {
            "tags": []
          }
        },
        {
          "output_type": "stream",
          "text": [
            "\r[Succeeded / Failed / Total] 12 / 4 / 27: : 27it [00:06,  4.47it/s]"
          ],
          "name": "stderr"
        },
        {
          "output_type": "display_data",
          "data": {
            "text/html": [
              "<font color = red>Negative (67%)</font> --> <font color = gray>[SKIPPED]</font><br>it 's an offbeat treat that pokes fun at the democratic exercise while also examining its significance for those who take part . "
            ],
            "text/plain": [
              "<IPython.core.display.HTML object>"
            ]
          },
          "metadata": {
            "tags": []
          }
        },
        {
          "output_type": "stream",
          "text": [
            "\r[Succeeded / Failed / Total] 12 / 4 / 28: : 28it [00:06,  4.62it/s]"
          ],
          "name": "stderr"
        },
        {
          "output_type": "display_data",
          "data": {
            "text/html": [
              "<font color = red>Negative (59%)</font> --> <font color = green>Positive (56%)</font><br>it 's a cookie-cutter <font color = red>movie</font> , a cut-and-paste job . <br>it 's a cookie-cutter <font color = green>imovie</font> , a cut-and-paste job . "
            ],
            "text/plain": [
              "<IPython.core.display.HTML object>"
            ]
          },
          "metadata": {
            "tags": []
          }
        },
        {
          "output_type": "stream",
          "text": [
            "\r[Succeeded / Failed / Total] 13 / 4 / 29: : 29it [00:06,  4.72it/s]"
          ],
          "name": "stderr"
        },
        {
          "output_type": "display_data",
          "data": {
            "text/html": [
              "<font color = red>Negative (64%)</font> --> <font color = green>Positive (52%)</font><br>i had to <font color = red>look</font> <font color = red>away</font> - this was god <font color = red>awful</font> . <br>i had to <font color = green>looks</font> <font color = green>apart</font> - this was god <font color = green>lawful</font> . "
            ],
            "text/plain": [
              "<IPython.core.display.HTML object>"
            ]
          },
          "metadata": {
            "tags": []
          }
        },
        {
          "output_type": "stream",
          "text": [
            "[Succeeded / Failed / Total] 14 / 4 / 30: : 30it [00:06,  4.77it/s]"
          ],
          "name": "stderr"
        },
        {
          "output_type": "display_data",
          "data": {
            "text/html": [
              "<font color = red>Negative (58%)</font> --> <font color = gray>[SKIPPED]</font><br>thanks to scott 's charismatic roger and eisenberg 's sweet nephew , roger dodger is one of the most compelling variations on in the company of men . "
            ],
            "text/plain": [
              "<IPython.core.display.HTML object>"
            ]
          },
          "metadata": {
            "tags": []
          }
        },
        {
          "output_type": "stream",
          "text": [
            "\r[Succeeded / Failed / Total] 14 / 4 / 31: : 31it [00:06,  4.90it/s]"
          ],
          "name": "stderr"
        },
        {
          "output_type": "display_data",
          "data": {
            "text/html": [
              "<font color = red>Negative (85%)</font> --> <font color = green>Positive (61%)</font><br>... designed to provide a mix of smiles and tears , `` crossroads '' instead <font color = red>provokes</font> a handful of unintentional <font color = red>howlers</font> and numerous yawns . <br>... designed to provide a mix of smiles and tears , `` crossroads '' instead <font color = green>provoke</font> a handful of unintentional <font color = green>bowlers</font> and numerous yawns . "
            ],
            "text/plain": [
              "<IPython.core.display.HTML object>"
            ]
          },
          "metadata": {
            "tags": []
          }
        },
        {
          "output_type": "stream",
          "text": [
            "\r[Succeeded / Failed / Total] 15 / 4 / 32: : 32it [00:06,  4.79it/s]"
          ],
          "name": "stderr"
        },
        {
          "output_type": "display_data",
          "data": {
            "text/html": [
              "<font color = red>Negative (66%)</font> --> <font color = gray>[SKIPPED]</font><br>a gorgeous , witty , seductive movie . "
            ],
            "text/plain": [
              "<IPython.core.display.HTML object>"
            ]
          },
          "metadata": {
            "tags": []
          }
        },
        {
          "output_type": "stream",
          "text": [
            "\r[Succeeded / Failed / Total] 15 / 4 / 33: : 33it [00:06,  4.93it/s]"
          ],
          "name": "stderr"
        },
        {
          "output_type": "display_data",
          "data": {
            "text/html": [
              "<font color = green>Positive (57%)</font> --> <font color = gray>[SKIPPED]</font><br>if the movie succeeds in instilling a wary sense of ` there but for the grace of god , ' it is far too self-conscious to draw you deeply into its world . "
            ],
            "text/plain": [
              "<IPython.core.display.HTML object>"
            ]
          },
          "metadata": {
            "tags": []
          }
        },
        {
          "output_type": "stream",
          "text": [
            "\r[Succeeded / Failed / Total] 15 / 4 / 34: : 34it [00:06,  5.06it/s]"
          ],
          "name": "stderr"
        },
        {
          "output_type": "display_data",
          "data": {
            "text/html": [
              "<font color = red>Negative (87%)</font> --> <font color = red>[FAILED]</font><br>it does n't believe in itself , it has no sense of humor ... it 's just plain bored . "
            ],
            "text/plain": [
              "<IPython.core.display.HTML object>"
            ]
          },
          "metadata": {
            "tags": []
          }
        },
        {
          "output_type": "stream",
          "text": [
            "[Succeeded / Failed / Total] 15 / 5 / 35: : 35it [00:07,  4.99it/s]"
          ],
          "name": "stderr"
        },
        {
          "output_type": "display_data",
          "data": {
            "text/html": [
              "<font color = green>Positive (67%)</font> --> <font color = gray>[SKIPPED]</font><br>a sequence of ridiculous shoot - 'em - up scenes . "
            ],
            "text/plain": [
              "<IPython.core.display.HTML object>"
            ]
          },
          "metadata": {
            "tags": []
          }
        },
        {
          "output_type": "stream",
          "text": [
            "\r[Succeeded / Failed / Total] 15 / 5 / 36: : 36it [00:07,  5.11it/s]"
          ],
          "name": "stderr"
        },
        {
          "output_type": "display_data",
          "data": {
            "text/html": [
              "<font color = green>Positive (55%)</font> --> <font color = red>Negative (54%)</font><br>the weight of the piece , the unerring professionalism of the <font color = green>chilly</font> production , and the fascination embedded in the lurid topic prove recommendation enough . <br>the weight of the piece , the unerring professionalism of the <font color = red>chill</font> production , and the fascination embedded in the lurid topic prove recommendation enough . "
            ],
            "text/plain": [
              "<IPython.core.display.HTML object>"
            ]
          },
          "metadata": {
            "tags": []
          }
        },
        {
          "output_type": "stream",
          "text": [
            "\r[Succeeded / Failed / Total] 16 / 5 / 37: : 37it [00:07,  5.13it/s]"
          ],
          "name": "stderr"
        },
        {
          "output_type": "display_data",
          "data": {
            "text/html": [
              "<font color = green>Positive (89%)</font> --> <font color = gray>[SKIPPED]</font><br>( w ) hile long on amiable monkeys and worthy environmentalism , jane goodall 's wild chimpanzees is short on the thrills the oversize medium demands . "
            ],
            "text/plain": [
              "<IPython.core.display.HTML object>"
            ]
          },
          "metadata": {
            "tags": []
          }
        },
        {
          "output_type": "stream",
          "text": [
            "\r[Succeeded / Failed / Total] 16 / 5 / 38: : 38it [00:07,  5.25it/s]"
          ],
          "name": "stderr"
        },
        {
          "output_type": "display_data",
          "data": {
            "text/html": [
              "<font color = red>Negative (54%)</font> --> <font color = gray>[SKIPPED]</font><br>as surreal as a dream and as detailed as a photograph , as visually dexterous as it is at times imaginatively overwhelming . "
            ],
            "text/plain": [
              "<IPython.core.display.HTML object>"
            ]
          },
          "metadata": {
            "tags": []
          }
        },
        {
          "output_type": "stream",
          "text": [
            "\r[Succeeded / Failed / Total] 16 / 5 / 39: : 39it [00:07,  5.37it/s]"
          ],
          "name": "stderr"
        },
        {
          "output_type": "display_data",
          "data": {
            "text/html": [
              "<font color = red>Negative (56%)</font> --> <font color = gray>[SKIPPED]</font><br>escaping the studio , piccoli is warmly affecting and so is this adroitly minimalist movie . "
            ],
            "text/plain": [
              "<IPython.core.display.HTML object>"
            ]
          },
          "metadata": {
            "tags": []
          }
        },
        {
          "output_type": "stream",
          "text": [
            "[Succeeded / Failed / Total] 16 / 5 / 40: : 40it [00:07,  5.50it/s]"
          ],
          "name": "stderr"
        },
        {
          "output_type": "display_data",
          "data": {
            "text/html": [
              "<font color = red>Negative (51%)</font> --> <font color = gray>[SKIPPED]</font><br>there 's ... tremendous energy from the cast , a sense of playfulness and excitement that seems appropriate . "
            ],
            "text/plain": [
              "<IPython.core.display.HTML object>"
            ]
          },
          "metadata": {
            "tags": []
          }
        },
        {
          "output_type": "stream",
          "text": [
            "\r[Succeeded / Failed / Total] 16 / 5 / 41: : 41it [00:07,  5.62it/s]"
          ],
          "name": "stderr"
        },
        {
          "output_type": "display_data",
          "data": {
            "text/html": [
              "<font color = green>Positive (65%)</font> --> <font color = red>Negative (55%)</font><br>this illuminating <font color = green>documentary</font> transcends our preconceived vision of the holy land and its inhabitants , revealing the human complexities beneath . <br>this illuminating <font color = red>mockumentary</font> transcends our preconceived vision of the holy land and its inhabitants , revealing the human complexities beneath . "
            ],
            "text/plain": [
              "<IPython.core.display.HTML object>"
            ]
          },
          "metadata": {
            "tags": []
          }
        },
        {
          "output_type": "stream",
          "text": [
            "\r[Succeeded / Failed / Total] 17 / 5 / 42: : 42it [00:07,  5.63it/s]"
          ],
          "name": "stderr"
        },
        {
          "output_type": "display_data",
          "data": {
            "text/html": [
              "<font color = red>Negative (54%)</font> --> <font color = gray>[SKIPPED]</font><br>the subtle strength of `` elling '' is that it never loses touch with the reality of the grim situation . "
            ],
            "text/plain": [
              "<IPython.core.display.HTML object>"
            ]
          },
          "metadata": {
            "tags": []
          }
        },
        {
          "output_type": "stream",
          "text": [
            "\r[Succeeded / Failed / Total] 17 / 5 / 43: : 43it [00:07,  5.74it/s]"
          ],
          "name": "stderr"
        },
        {
          "output_type": "display_data",
          "data": {
            "text/html": [
              "<font color = red>Negative (68%)</font> --> <font color = gray>[SKIPPED]</font><br>holm ... embodies the character with an effortlessly regal charisma . "
            ],
            "text/plain": [
              "<IPython.core.display.HTML object>"
            ]
          },
          "metadata": {
            "tags": []
          }
        },
        {
          "output_type": "stream",
          "text": [
            "\r[Succeeded / Failed / Total] 17 / 5 / 44: : 44it [00:07,  5.85it/s]"
          ],
          "name": "stderr"
        },
        {
          "output_type": "display_data",
          "data": {
            "text/html": [
              "<font color = red>Negative (75%)</font> --> <font color = green>Positive (54%)</font><br>the title not only <font color = red>describes</font> its main <font color = red>characters</font> , but the lazy <font color = red>people</font> behind the camera as well . <br>the title not only <font color = green>describing</font> its main <font color = green>character</font> , but the lazy <font color = green>laypeople</font> behind the camera as well . "
            ],
            "text/plain": [
              "<IPython.core.display.HTML object>"
            ]
          },
          "metadata": {
            "tags": []
          }
        },
        {
          "output_type": "stream",
          "text": [
            "[Succeeded / Failed / Total] 18 / 5 / 45: : 45it [00:07,  5.76it/s]"
          ],
          "name": "stderr"
        },
        {
          "output_type": "display_data",
          "data": {
            "text/html": [
              "<font color = red>Negative (83%)</font> --> <font color = red>[FAILED]</font><br>it offers little beyond the momentary joys of pretty and weightless intellectual entertainment . "
            ],
            "text/plain": [
              "<IPython.core.display.HTML object>"
            ]
          },
          "metadata": {
            "tags": []
          }
        },
        {
          "output_type": "stream",
          "text": [
            "\r[Succeeded / Failed / Total] 18 / 6 / 46: : 46it [00:08,  5.49it/s]"
          ],
          "name": "stderr"
        },
        {
          "output_type": "display_data",
          "data": {
            "text/html": [
              "<font color = red>Negative (67%)</font> --> <font color = green>Positive (51%)</font><br>a <font color = red>synthesis</font> of <font color = red>cliches</font> and absurdities that <font color = red>seems</font> positively decadent in its cinematic flash and <font color = red>emptiness</font> . <br>a <font color = green>synthesise</font> of <font color = green>niches</font> and absurdities that <font color = green>seem</font> positively decadent in its cinematic flash and <font color = green>godliness</font> . "
            ],
            "text/plain": [
              "<IPython.core.display.HTML object>"
            ]
          },
          "metadata": {
            "tags": []
          }
        },
        {
          "output_type": "stream",
          "text": [
            "[Succeeded / Failed / Total] 19 / 6 / 47: : 47it [00:08,  5.37it/s]"
          ],
          "name": "stderr"
        },
        {
          "output_type": "stream",
          "text": [
            "+-------------------------------+--------+\n",
            "| Attack Results                |        |\n",
            "+-------------------------------+--------+\n",
            "| Number of successful attacks: | 19     |\n",
            "| Number of failed attacks:     | 6      |\n",
            "| Number of skipped attacks:    | 22     |\n",
            "| Original accuracy:            | 53.19% |\n",
            "| Accuracy under attack:        | 12.77% |\n",
            "| Attack success rate:          | 76.0%  |\n",
            "| Average perturbed word %:     | 15.18% |\n",
            "| Average num. words per input: | 16.53  |\n",
            "| Avg num queries:              | 26.16  |\n",
            "+-------------------------------+--------+"
          ],
          "name": "stdout"
        },
        {
          "output_type": "stream",
          "text": [
            "\n",
            "\u001b[34;1mtextattack\u001b[0m: Attack time: 8.753884553909302s\n"
          ],
          "name": "stderr"
        }
      ]
    },
    {
      "cell_type": "code",
      "metadata": {
        "colab": {
          "base_uri": "https://localhost:8080/"
        },
        "id": "UhtEwGJjk2z2",
        "outputId": "87cbc9c9-7faa-43ec-8615-4b11fbcbd7fc"
      },
      "source": [
        "from textattack.search_methods import GreedySearch\n",
        "from textattack.constraints.pre_transformation import RepeatModification, StopwordModification\n",
        "from textattack.shared import Attack\n",
        "from textattack.goal_functions import UntargetedClassification\n",
        "from textattack.datasets import HuggingFaceDataset\n",
        "\n",
        "# We're going to use our word swap class as the attack transformation.\n",
        "transformation = Swapper_()\n",
        "# We'll constrain modification of already modified indices and stopwords\n",
        "constraints = [RepeatModification(),\n",
        "               StopwordModification()]\n",
        "# We'll use the Greedy search method\n",
        "search_method = GreedySearch()\n",
        "# Create the goal function using the model\n",
        "\n",
        "goal_function = UntargetedClassification(model_wrapper)\n",
        "\n",
        "# Now, let's make the attack from the 4 components:\n",
        "attack = Attack(goal_function, constraints, transformation, search_method)\n",
        "\n",
        "dataset = HuggingFaceDataset(\"glue\",\"sst2\", \"validation\")"
      ],
      "execution_count": 17,
      "outputs": [
        {
          "output_type": "stream",
          "text": [
            "\u001b[34;1mtextattack\u001b[0m: Unknown if model of class <class 'transformers.models.distilbert.modeling_distilbert.DistilBertForSequenceClassification'> compatible with goal function <class 'textattack.goal_functions.classification.untargeted_classification.UntargetedClassification'>.\n",
            "Reusing dataset glue (/root/.cache/huggingface/datasets/glue/sst2/1.0.0/dacbe3125aa31d7f70367a07a8a9e72a5a0bfeb5fc42e75c9db75b96da6053ad)\n",
            "\u001b[34;1mtextattack\u001b[0m: Loading \u001b[94mdatasets\u001b[0m dataset \u001b[94mglue\u001b[0m, subset \u001b[94msst2\u001b[0m, split \u001b[94mvalidation\u001b[0m.\n"
          ],
          "name": "stderr"
        }
      ]
    },
    {
      "cell_type": "code",
      "metadata": {
        "colab": {
          "base_uri": "https://localhost:8080/"
        },
        "id": "jZT70ENcnESm",
        "outputId": "019c80d0-208f-4805-8add-26cbfb2cacf2"
      },
      "source": [
        "print(attack)"
      ],
      "execution_count": 18,
      "outputs": [
        {
          "output_type": "stream",
          "text": [
            "Attack(\n",
            "  (search_method): GreedySearch\n",
            "  (goal_function):  UntargetedClassification\n",
            "  (transformation):  Swapper_\n",
            "  (constraints): \n",
            "    (0): RepeatModification\n",
            "    (1): StopwordModification\n",
            "  (is_black_box):  True\n",
            ")\n"
          ],
          "name": "stdout"
        }
      ]
    },
    {
      "cell_type": "code",
      "metadata": {
        "colab": {
          "base_uri": "https://localhost:8080/",
          "height": 1000
        },
        "id": "w4D6aDCYnRge",
        "outputId": "b4289f69-9702-4e5f-8e95-fd782c5861e3"
      },
      "source": [
        "from collections import deque\n",
        "\n",
        "import textattack\n",
        "import tqdm\n",
        "import time\n",
        "from IPython.display import display, HTML\n",
        "num_examples = 25\n",
        "num_remaining_attacks = num_examples\n",
        "pbar = tqdm.tqdm(total=num_remaining_attacks, smoothing=0)\n",
        "\n",
        "worklist = deque(range(0, num_examples))\n",
        "worklist_tail = worklist[-1]\n",
        "\n",
        "attack_log_manager = textattack.loggers.AttackLogManager()\n",
        "\n",
        "load_time = time.time()\n",
        "        \n",
        "num_results = 0\n",
        "num_failures = 0\n",
        "num_successes = 0\n",
        "for result in attack.attack_dataset(dataset, indices=worklist):\n",
        "    result_html_str = result.__str__(color_method=\"html\").replace(\"\\n\\n\", \"<br>\")\n",
        "    display(HTML(result_html_str))\n",
        "    attack_log_manager.log_result(result)\n",
        "            \n",
        "    if not isinstance(result, textattack.attack_results.SkippedAttackResult):\n",
        "        pbar.update(1)\n",
        "    else:\n",
        "        worklist_tail += 1\n",
        "        pbar.update(1)\n",
        "        worklist.append(worklist_tail)\n",
        "\n",
        "    num_results += 1\n",
        "\n",
        "    if (\n",
        "        type(result) == textattack.attack_results.SuccessfulAttackResult\n",
        "        or type(result) == textattack.attack_results.MaximizedAttackResult\n",
        "    ):\n",
        "        num_successes += 1\n",
        "                \n",
        "    if type(result) == textattack.attack_results.FailedAttackResult:\n",
        "        num_failures += 1\n",
        "    pbar.set_description(\n",
        "        \"[Succeeded / Failed / Total] {} / {} / {}\".format(\n",
        "            num_successes, num_failures, num_results\n",
        "        )\n",
        "    )\n",
        "\n",
        "pbar.close()\n",
        "\n",
        "attack_log_manager.enable_stdout()\n",
        "attack_log_manager.log_summary()\n",
        "attack_log_manager.flush()\n",
        "        \n",
        "textattack.shared.logger.info(f\"Attack time: {time.time() - load_time}s\")"
      ],
      "execution_count": 19,
      "outputs": [
        {
          "output_type": "stream",
          "text": [
            "\r  0%|          | 0/25 [00:00<?, ?it/s]"
          ],
          "name": "stderr"
        },
        {
          "output_type": "display_data",
          "data": {
            "text/html": [
              "<font color = red>Negative (84%)</font> --> <font color = gray>[SKIPPED]</font><br>it 's a charming and often affecting journey . "
            ],
            "text/plain": [
              "<IPython.core.display.HTML object>"
            ]
          },
          "metadata": {
            "tags": []
          }
        },
        {
          "output_type": "stream",
          "text": [
            "\r[Succeeded / Failed / Total] 0 / 0 / 1:   4%|▍         | 1/25 [00:00<00:00, 60.95it/s]"
          ],
          "name": "stderr"
        },
        {
          "output_type": "display_data",
          "data": {
            "text/html": [
              "<font color = red>Negative (79%)</font> --> <font color = red>[FAILED]</font><br>unflinchingly bleak and desperate "
            ],
            "text/plain": [
              "<IPython.core.display.HTML object>"
            ]
          },
          "metadata": {
            "tags": []
          }
        },
        {
          "output_type": "stream",
          "text": [
            "\r[Succeeded / Failed / Total] 0 / 1 / 2:   8%|▊         | 2/25 [00:00<00:01, 22.89it/s]"
          ],
          "name": "stderr"
        },
        {
          "output_type": "display_data",
          "data": {
            "text/html": [
              "<font color = green>Positive (67%)</font> --> <font color = red>Negative (51%)</font><br>allows <font color = green>us</font> to hope that nolan is poised to embark a major career as a commercial yet inventive filmmaker . <br>allows <font color = red>states</font> to hope that nolan is poised to embark a major career as a commercial yet inventive filmmaker . "
            ],
            "text/plain": [
              "<IPython.core.display.HTML object>"
            ]
          },
          "metadata": {
            "tags": []
          }
        },
        {
          "output_type": "stream",
          "text": [
            "[Succeeded / Failed / Total] 1 / 1 / 3:  12%|█▏        | 3/25 [00:00<00:01, 11.60it/s]"
          ],
          "name": "stderr"
        },
        {
          "output_type": "display_data",
          "data": {
            "text/html": [
              "<font color = green>Positive (68%)</font> --> <font color = red>Negative (55%)</font><br>the acting , <font color = green>costumes</font> , music , cinematography and sound are all astounding given the production 's <font color = green>austere</font> locales . <br>the acting , <font color = red>outfits</font> , music , cinematography and sound are all astounding given the production 's <font color = red>philanthropy</font> locales . "
            ],
            "text/plain": [
              "<IPython.core.display.HTML object>"
            ]
          },
          "metadata": {
            "tags": []
          }
        },
        {
          "output_type": "stream",
          "text": [
            "\r[Succeeded / Failed / Total] 2 / 1 / 4:  16%|█▌        | 4/25 [00:00<00:02,  7.71it/s]"
          ],
          "name": "stderr"
        },
        {
          "output_type": "display_data",
          "data": {
            "text/html": [
              "<font color = red>Negative (66%)</font> --> <font color = red>[FAILED]</font><br>it 's slow -- very , very slow . "
            ],
            "text/plain": [
              "<IPython.core.display.HTML object>"
            ]
          },
          "metadata": {
            "tags": []
          }
        },
        {
          "output_type": "stream",
          "text": [
            "\r[Succeeded / Failed / Total] 2 / 2 / 5:  20%|██        | 5/25 [00:00<00:02,  8.54it/s]"
          ],
          "name": "stderr"
        },
        {
          "output_type": "display_data",
          "data": {
            "text/html": [
              "<font color = red>Negative (61%)</font> --> <font color = gray>[SKIPPED]</font><br>although laced with humor and a few fanciful touches , the film is a refreshingly serious look at young women . "
            ],
            "text/plain": [
              "<IPython.core.display.HTML object>"
            ]
          },
          "metadata": {
            "tags": []
          }
        },
        {
          "output_type": "stream",
          "text": [
            "[Succeeded / Failed / Total] 2 / 2 / 6:  24%|██▍       | 6/25 [00:00<00:01,  9.88it/s]"
          ],
          "name": "stderr"
        },
        {
          "output_type": "display_data",
          "data": {
            "text/html": [
              "<font color = green>Positive (66%)</font> --> <font color = gray>[SKIPPED]</font><br>a sometimes tedious film . "
            ],
            "text/plain": [
              "<IPython.core.display.HTML object>"
            ]
          },
          "metadata": {
            "tags": []
          }
        },
        {
          "output_type": "stream",
          "text": [
            "\r[Succeeded / Failed / Total] 2 / 2 / 7:  28%|██▊       | 7/25 [00:00<00:01, 11.18it/s]"
          ],
          "name": "stderr"
        },
        {
          "output_type": "display_data",
          "data": {
            "text/html": [
              "<font color = green>Positive (78%)</font> --> <font color = gray>[SKIPPED]</font><br>or doing last year 's taxes with your ex-wife . "
            ],
            "text/plain": [
              "<IPython.core.display.HTML object>"
            ]
          },
          "metadata": {
            "tags": []
          }
        },
        {
          "output_type": "stream",
          "text": [
            "\r[Succeeded / Failed / Total] 2 / 2 / 8:  32%|███▏      | 8/25 [00:00<00:01, 12.36it/s]"
          ],
          "name": "stderr"
        },
        {
          "output_type": "display_data",
          "data": {
            "text/html": [
              "<font color = red>Negative (68%)</font> --> <font color = gray>[SKIPPED]</font><br>you do n't have to know about music to appreciate the film 's easygoing blend of comedy and romance . "
            ],
            "text/plain": [
              "<IPython.core.display.HTML object>"
            ]
          },
          "metadata": {
            "tags": []
          }
        },
        {
          "output_type": "stream",
          "text": [
            "\r[Succeeded / Failed / Total] 2 / 2 / 9:  36%|███▌      | 9/25 [00:00<00:01, 13.53it/s]"
          ],
          "name": "stderr"
        },
        {
          "output_type": "display_data",
          "data": {
            "text/html": [
              "<font color = red>Negative (66%)</font> --> <font color = green>Positive (52%)</font><br>in exactly 89 minutes , most of which <font color = red>passed</font> as slowly as if i 'd been sitting naked on an igloo , formula 51 sank from quirky to jerky to <font color = red>utter</font> turkey . <br>in exactly 89 minutes , most of which <font color = green>enacted</font> as slowly as if i 'd been sitting naked on an igloo , formula 51 sank from quirky to jerky to <font color = green>shameful</font> turkey . "
            ],
            "text/plain": [
              "<IPython.core.display.HTML object>"
            ]
          },
          "metadata": {
            "tags": []
          }
        },
        {
          "output_type": "stream",
          "text": [
            "[Succeeded / Failed / Total] 3 / 2 / 10:  40%|████      | 10/25 [00:00<00:01, 10.27it/s]"
          ],
          "name": "stderr"
        },
        {
          "output_type": "display_data",
          "data": {
            "text/html": [
              "<font color = green>Positive (57%)</font> --> <font color = red>Negative (60%)</font><br>the mesmerizing <font color = green>performances</font> of the leads keep the film grounded and keep the audience riveted . <br>the mesmerizing <font color = red>concerts</font> of the leads keep the film grounded and keep the audience riveted . "
            ],
            "text/plain": [
              "<IPython.core.display.HTML object>"
            ]
          },
          "metadata": {
            "tags": []
          }
        },
        {
          "output_type": "stream",
          "text": [
            "\r[Succeeded / Failed / Total] 4 / 2 / 11:  44%|████▍     | 11/25 [00:01<00:01, 10.10it/s]"
          ],
          "name": "stderr"
        },
        {
          "output_type": "display_data",
          "data": {
            "text/html": [
              "<font color = green>Positive (59%)</font> --> <font color = gray>[SKIPPED]</font><br>it takes a strange kind of laziness to waste the talents of robert forster , anne meara , eugene levy , and reginald veljohnson all in the same movie . "
            ],
            "text/plain": [
              "<IPython.core.display.HTML object>"
            ]
          },
          "metadata": {
            "tags": []
          }
        },
        {
          "output_type": "stream",
          "text": [
            "\r[Succeeded / Failed / Total] 4 / 2 / 12:  48%|████▊     | 12/25 [00:01<00:01, 10.82it/s]"
          ],
          "name": "stderr"
        },
        {
          "output_type": "display_data",
          "data": {
            "text/html": [
              "<font color = red>Negative (51%)</font> --> <font color = green>Positive (66%)</font><br>... the film <font color = red>suffers</font> from a lack of humor ( something needed to balance out the violence ) ... <br>... the film <font color = green>suffered</font> from a lack of humor ( something needed to balance out the violence ) ... "
            ],
            "text/plain": [
              "<IPython.core.display.HTML object>"
            ]
          },
          "metadata": {
            "tags": []
          }
        },
        {
          "output_type": "stream",
          "text": [
            "\r[Succeeded / Failed / Total] 5 / 2 / 13:  52%|█████▏    | 13/25 [00:01<00:01, 10.68it/s]"
          ],
          "name": "stderr"
        },
        {
          "output_type": "display_data",
          "data": {
            "text/html": [
              "<font color = red>Negative (84%)</font> --> <font color = gray>[SKIPPED]</font><br>we root for ( clara and paul ) , even like them , though perhaps it 's an emotion closer to pity . "
            ],
            "text/plain": [
              "<IPython.core.display.HTML object>"
            ]
          },
          "metadata": {
            "tags": []
          }
        },
        {
          "output_type": "stream",
          "text": [
            "[Succeeded / Failed / Total] 5 / 2 / 14:  56%|█████▌    | 14/25 [00:01<00:00, 11.26it/s]"
          ],
          "name": "stderr"
        },
        {
          "output_type": "display_data",
          "data": {
            "text/html": [
              "<font color = red>Negative (75%)</font> --> <font color = green>Positive (53%)</font><br><font color = red>even</font> <font color = red>horror</font> <font color = red>fans</font> will most likely not find what they 're seeking with trouble every <font color = red>day</font> ; the <font color = red>movie</font> lacks both thrills and <font color = red>humor</font> . <br><font color = green>indeed</font> <font color = green>suspense</font> <font color = green>pundits</font> will most likely not find what they 're seeking with trouble every <font color = green>candlemas</font> ; the <font color = green>film</font> lacks both thrills and <font color = green>humour</font> . "
            ],
            "text/plain": [
              "<IPython.core.display.HTML object>"
            ]
          },
          "metadata": {
            "tags": []
          }
        },
        {
          "output_type": "stream",
          "text": [
            "\r[Succeeded / Failed / Total] 6 / 2 / 15:  60%|██████    | 15/25 [00:02<00:01,  7.49it/s]"
          ],
          "name": "stderr"
        },
        {
          "output_type": "display_data",
          "data": {
            "text/html": [
              "<font color = red>Negative (65%)</font> --> <font color = gray>[SKIPPED]</font><br>a gorgeous , high-spirited musical from india that exquisitely blends music , dance , song , and high drama . "
            ],
            "text/plain": [
              "<IPython.core.display.HTML object>"
            ]
          },
          "metadata": {
            "tags": []
          }
        },
        {
          "output_type": "stream",
          "text": [
            "\r[Succeeded / Failed / Total] 6 / 2 / 16:  64%|██████▍   | 16/25 [00:02<00:01,  7.92it/s]"
          ],
          "name": "stderr"
        },
        {
          "output_type": "display_data",
          "data": {
            "text/html": [
              "<font color = red>Negative (69%)</font> --> <font color = gray>[SKIPPED]</font><br>the emotions are raw and will strike a nerve with anyone who 's ever had family trauma . "
            ],
            "text/plain": [
              "<IPython.core.display.HTML object>"
            ]
          },
          "metadata": {
            "tags": []
          }
        },
        {
          "output_type": "stream",
          "text": [
            "\r[Succeeded / Failed / Total] 6 / 2 / 17:  68%|██████▊   | 17/25 [00:02<00:00,  8.34it/s]"
          ],
          "name": "stderr"
        },
        {
          "output_type": "display_data",
          "data": {
            "text/html": [
              "<font color = red>Negative (67%)</font> --> <font color = gray>[SKIPPED]</font><br>audrey tatou has a knack for picking roles that magnify her outrageous charm , and in this literate french comedy , she 's as morning-glory exuberant as she was in amélie . "
            ],
            "text/plain": [
              "<IPython.core.display.HTML object>"
            ]
          },
          "metadata": {
            "tags": []
          }
        },
        {
          "output_type": "stream",
          "text": [
            "[Succeeded / Failed / Total] 6 / 2 / 18:  72%|███████▏  | 18/25 [00:02<00:00,  8.74it/s]"
          ],
          "name": "stderr"
        },
        {
          "output_type": "display_data",
          "data": {
            "text/html": [
              "<font color = green>Positive (52%)</font> --> <font color = gray>[SKIPPED]</font><br>... the movie is just a plain old monster . "
            ],
            "text/plain": [
              "<IPython.core.display.HTML object>"
            ]
          },
          "metadata": {
            "tags": []
          }
        },
        {
          "output_type": "stream",
          "text": [
            "\r[Succeeded / Failed / Total] 6 / 2 / 19:  76%|███████▌  | 19/25 [00:02<00:00,  9.14it/s]"
          ],
          "name": "stderr"
        },
        {
          "output_type": "display_data",
          "data": {
            "text/html": [
              "<font color = red>Negative (90%)</font> --> <font color = green>Positive (54%)</font><br>in its best <font color = red>moments</font> , <font color = red>resembles</font> a <font color = red>bad</font> <font color = red>high</font> school production of grease , <font color = red>without</font> benefit of song . <br>in its best <font color = green>moment</font> , <font color = green>resembled</font> a <font color = green>good</font> <font color = green>low</font> school production of grease , <font color = green>whatsoever</font> benefit of song . "
            ],
            "text/plain": [
              "<IPython.core.display.HTML object>"
            ]
          },
          "metadata": {
            "tags": []
          }
        },
        {
          "output_type": "stream",
          "text": [
            "\r[Succeeded / Failed / Total] 7 / 2 / 20:  80%|████████  | 20/25 [00:02<00:00,  7.67it/s]"
          ],
          "name": "stderr"
        },
        {
          "output_type": "display_data",
          "data": {
            "text/html": [
              "<font color = red>Negative (79%)</font> --> <font color = green>Positive (51%)</font><br>pumpkin <font color = red>takes</font> an admirable look at the hypocrisy of political correctness , but it does so with such an uneven tone that you never know when <font color = red>humor</font> ends and tragedy begins . <br>pumpkin <font color = green>took</font> an admirable look at the hypocrisy of political correctness , but it does so with such an uneven tone that you never know when <font color = green>humour</font> ends and tragedy begins . "
            ],
            "text/plain": [
              "<IPython.core.display.HTML object>"
            ]
          },
          "metadata": {
            "tags": []
          }
        },
        {
          "output_type": "stream",
          "text": [
            "\r[Succeeded / Failed / Total] 8 / 2 / 21:  84%|████████▍ | 21/25 [00:02<00:00,  7.08it/s]"
          ],
          "name": "stderr"
        },
        {
          "output_type": "display_data",
          "data": {
            "text/html": [
              "<font color = red>Negative (78%)</font> --> <font color = green>Positive (51%)</font><br>the <font color = red>iditarod</font> <font color = red>lasts</font> for days - this just felt like it did . <br>the <font color = green>burro</font> <font color = green>lasted</font> for days - this just felt like it did . "
            ],
            "text/plain": [
              "<IPython.core.display.HTML object>"
            ]
          },
          "metadata": {
            "tags": []
          }
        },
        {
          "output_type": "stream",
          "text": [
            "[Succeeded / Failed / Total] 9 / 2 / 22:  88%|████████▊ | 22/25 [00:03<00:00,  7.10it/s]"
          ],
          "name": "stderr"
        },
        {
          "output_type": "display_data",
          "data": {
            "text/html": [
              "<font color = red>Negative (73%)</font> --> <font color = green>Positive (72%)</font><br><font color = red>holden</font> <font color = red>caulfield</font> did it better . <br><font color = green>opel</font> <font color = green>metzger</font> did it better . "
            ],
            "text/plain": [
              "<IPython.core.display.HTML object>"
            ]
          },
          "metadata": {
            "tags": []
          }
        },
        {
          "output_type": "stream",
          "text": [
            "\r[Succeeded / Failed / Total] 10 / 2 / 23:  92%|█████████▏| 23/25 [00:03<00:00,  7.24it/s]"
          ],
          "name": "stderr"
        },
        {
          "output_type": "display_data",
          "data": {
            "text/html": [
              "<font color = green>Positive (59%)</font> --> <font color = red>Negative (71%)</font><br>a delectable and intriguing thriller filled with surprises , read my lips is an <font color = green>original</font> . <br>a delectable and intriguing thriller filled with surprises , read my lips is an <font color = red>colorized</font> . "
            ],
            "text/plain": [
              "<IPython.core.display.HTML object>"
            ]
          },
          "metadata": {
            "tags": []
          }
        },
        {
          "output_type": "stream",
          "text": [
            "\r[Succeeded / Failed / Total] 11 / 2 / 24:  96%|█████████▌| 24/25 [00:03<00:00,  7.32it/s]"
          ],
          "name": "stderr"
        },
        {
          "output_type": "display_data",
          "data": {
            "text/html": [
              "<font color = green>Positive (72%)</font> --> <font color = red>[FAILED]</font><br>seldom has a movie so closely matched the spirit of a man and his work . "
            ],
            "text/plain": [
              "<IPython.core.display.HTML object>"
            ]
          },
          "metadata": {
            "tags": []
          }
        },
        {
          "output_type": "stream",
          "text": [
            "\r[Succeeded / Failed / Total] 11 / 3 / 25: 100%|██████████| 25/25 [00:03<00:00,  6.84it/s]"
          ],
          "name": "stderr"
        },
        {
          "output_type": "display_data",
          "data": {
            "text/html": [
              "<font color = red>Negative (76%)</font> --> <font color = red>[FAILED]</font><br>nicks , seemingly uncertain what 's going to make people laugh , runs the gamut from stale parody to raunchy sex gags to formula romantic comedy . "
            ],
            "text/plain": [
              "<IPython.core.display.HTML object>"
            ]
          },
          "metadata": {
            "tags": []
          }
        },
        {
          "output_type": "stream",
          "text": [
            "[Succeeded / Failed / Total] 11 / 4 / 26: : 26it [00:05,  4.92it/s]"
          ],
          "name": "stderr"
        },
        {
          "output_type": "display_data",
          "data": {
            "text/html": [
              "<font color = red>Negative (74%)</font> --> <font color = green>Positive (52%)</font><br>the action switches between <font color = red>past</font> and present , but the material link is too tenuous to anchor the emotional connections that purport to span a 125-year divide . <br>the action switches between <font color = green>hodiernal</font> and present , but the material link is too tenuous to anchor the emotional connections that purport to span a 125-year divide . "
            ],
            "text/plain": [
              "<IPython.core.display.HTML object>"
            ]
          },
          "metadata": {
            "tags": []
          }
        },
        {
          "output_type": "stream",
          "text": [
            "\r[Succeeded / Failed / Total] 12 / 4 / 27: : 27it [00:05,  4.95it/s]"
          ],
          "name": "stderr"
        },
        {
          "output_type": "display_data",
          "data": {
            "text/html": [
              "<font color = red>Negative (67%)</font> --> <font color = gray>[SKIPPED]</font><br>it 's an offbeat treat that pokes fun at the democratic exercise while also examining its significance for those who take part . "
            ],
            "text/plain": [
              "<IPython.core.display.HTML object>"
            ]
          },
          "metadata": {
            "tags": []
          }
        },
        {
          "output_type": "stream",
          "text": [
            "\r[Succeeded / Failed / Total] 12 / 4 / 28: : 28it [00:05,  5.12it/s]"
          ],
          "name": "stderr"
        },
        {
          "output_type": "display_data",
          "data": {
            "text/html": [
              "<font color = red>Negative (59%)</font> --> <font color = red>[FAILED]</font><br>it 's a cookie-cutter movie , a cut-and-paste job . "
            ],
            "text/plain": [
              "<IPython.core.display.HTML object>"
            ]
          },
          "metadata": {
            "tags": []
          }
        },
        {
          "output_type": "stream",
          "text": [
            "\r[Succeeded / Failed / Total] 12 / 5 / 29: : 29it [00:05,  5.24it/s]"
          ],
          "name": "stderr"
        },
        {
          "output_type": "display_data",
          "data": {
            "text/html": [
              "<font color = red>Negative (64%)</font> --> <font color = red>[FAILED]</font><br>i had to look away - this was god awful . "
            ],
            "text/plain": [
              "<IPython.core.display.HTML object>"
            ]
          },
          "metadata": {
            "tags": []
          }
        },
        {
          "output_type": "stream",
          "text": [
            "[Succeeded / Failed / Total] 12 / 6 / 30: : 30it [00:05,  5.27it/s]"
          ],
          "name": "stderr"
        },
        {
          "output_type": "display_data",
          "data": {
            "text/html": [
              "<font color = red>Negative (58%)</font> --> <font color = gray>[SKIPPED]</font><br>thanks to scott 's charismatic roger and eisenberg 's sweet nephew , roger dodger is one of the most compelling variations on in the company of men . "
            ],
            "text/plain": [
              "<IPython.core.display.HTML object>"
            ]
          },
          "metadata": {
            "tags": []
          }
        },
        {
          "output_type": "stream",
          "text": [
            "\r[Succeeded / Failed / Total] 12 / 6 / 31: : 31it [00:05,  5.43it/s]"
          ],
          "name": "stderr"
        },
        {
          "output_type": "display_data",
          "data": {
            "text/html": [
              "<font color = red>Negative (85%)</font> --> <font color = green>Positive (53%)</font><br>... <font color = red>designed</font> to provide a mix of <font color = red>smiles</font> and <font color = red>tears</font> , `` crossroads '' instead provokes a handful of unintentional howlers and numerous yawns . <br>... <font color = green>intended</font> to provide a mix of <font color = green>ninotchka</font> and <font color = green>cries</font> , `` crossroads '' instead provokes a handful of unintentional howlers and numerous yawns . "
            ],
            "text/plain": [
              "<IPython.core.display.HTML object>"
            ]
          },
          "metadata": {
            "tags": []
          }
        },
        {
          "output_type": "stream",
          "text": [
            "\r[Succeeded / Failed / Total] 13 / 6 / 32: : 32it [00:06,  5.21it/s]"
          ],
          "name": "stderr"
        },
        {
          "output_type": "display_data",
          "data": {
            "text/html": [
              "<font color = red>Negative (66%)</font> --> <font color = gray>[SKIPPED]</font><br>a gorgeous , witty , seductive movie . "
            ],
            "text/plain": [
              "<IPython.core.display.HTML object>"
            ]
          },
          "metadata": {
            "tags": []
          }
        },
        {
          "output_type": "stream",
          "text": [
            "\r[Succeeded / Failed / Total] 13 / 6 / 33: : 33it [00:06,  5.36it/s]"
          ],
          "name": "stderr"
        },
        {
          "output_type": "display_data",
          "data": {
            "text/html": [
              "<font color = green>Positive (57%)</font> --> <font color = gray>[SKIPPED]</font><br>if the movie succeeds in instilling a wary sense of ` there but for the grace of god , ' it is far too self-conscious to draw you deeply into its world . "
            ],
            "text/plain": [
              "<IPython.core.display.HTML object>"
            ]
          },
          "metadata": {
            "tags": []
          }
        },
        {
          "output_type": "stream",
          "text": [
            "[Succeeded / Failed / Total] 13 / 6 / 34: : 34it [00:06,  5.50it/s]"
          ],
          "name": "stderr"
        },
        {
          "output_type": "display_data",
          "data": {
            "text/html": [
              "<font color = red>Negative (87%)</font> --> <font color = green>Positive (51%)</font><br>it does n't <font color = red>believe</font> in itself , it has no <font color = red>sense</font> of humor ... it 's just plain <font color = red>bored</font> . <br>it does n't <font color = green>contend</font> in itself , it has no <font color = green>manner</font> of humor ... it 's just plain <font color = green>unattractive</font> . "
            ],
            "text/plain": [
              "<IPython.core.display.HTML object>"
            ]
          },
          "metadata": {
            "tags": []
          }
        },
        {
          "output_type": "stream",
          "text": [
            "\r[Succeeded / Failed / Total] 14 / 6 / 35: : 35it [00:06,  5.51it/s]"
          ],
          "name": "stderr"
        },
        {
          "output_type": "display_data",
          "data": {
            "text/html": [
              "<font color = green>Positive (67%)</font> --> <font color = gray>[SKIPPED]</font><br>a sequence of ridiculous shoot - 'em - up scenes . "
            ],
            "text/plain": [
              "<IPython.core.display.HTML object>"
            ]
          },
          "metadata": {
            "tags": []
          }
        },
        {
          "output_type": "stream",
          "text": [
            "\r[Succeeded / Failed / Total] 14 / 6 / 36: : 36it [00:06,  5.65it/s]"
          ],
          "name": "stderr"
        },
        {
          "output_type": "display_data",
          "data": {
            "text/html": [
              "<font color = green>Positive (55%)</font> --> <font color = red>Negative (52%)</font><br>the weight of the <font color = green>piece</font> , the unerring professionalism of the chilly production , and the fascination <font color = green>embedded</font> in the lurid topic prove recommendation enough . <br>the weight of the <font color = red>pieces</font> , the unerring professionalism of the chilly production , and the fascination <font color = red>pda</font> in the lurid topic prove recommendation enough . "
            ],
            "text/plain": [
              "<IPython.core.display.HTML object>"
            ]
          },
          "metadata": {
            "tags": []
          }
        },
        {
          "output_type": "stream",
          "text": [
            "\r[Succeeded / Failed / Total] 15 / 6 / 37: : 37it [00:06,  5.55it/s]"
          ],
          "name": "stderr"
        },
        {
          "output_type": "display_data",
          "data": {
            "text/html": [
              "<font color = green>Positive (89%)</font> --> <font color = gray>[SKIPPED]</font><br>( w ) hile long on amiable monkeys and worthy environmentalism , jane goodall 's wild chimpanzees is short on the thrills the oversize medium demands . "
            ],
            "text/plain": [
              "<IPython.core.display.HTML object>"
            ]
          },
          "metadata": {
            "tags": []
          }
        },
        {
          "output_type": "stream",
          "text": [
            "[Succeeded / Failed / Total] 15 / 6 / 38: : 38it [00:06,  5.68it/s]"
          ],
          "name": "stderr"
        },
        {
          "output_type": "display_data",
          "data": {
            "text/html": [
              "<font color = red>Negative (54%)</font> --> <font color = gray>[SKIPPED]</font><br>as surreal as a dream and as detailed as a photograph , as visually dexterous as it is at times imaginatively overwhelming . "
            ],
            "text/plain": [
              "<IPython.core.display.HTML object>"
            ]
          },
          "metadata": {
            "tags": []
          }
        },
        {
          "output_type": "stream",
          "text": [
            "\r[Succeeded / Failed / Total] 15 / 6 / 39: : 39it [00:06,  5.80it/s]"
          ],
          "name": "stderr"
        },
        {
          "output_type": "display_data",
          "data": {
            "text/html": [
              "<font color = red>Negative (56%)</font> --> <font color = gray>[SKIPPED]</font><br>escaping the studio , piccoli is warmly affecting and so is this adroitly minimalist movie . "
            ],
            "text/plain": [
              "<IPython.core.display.HTML object>"
            ]
          },
          "metadata": {
            "tags": []
          }
        },
        {
          "output_type": "stream",
          "text": [
            "\r[Succeeded / Failed / Total] 15 / 6 / 40: : 40it [00:06,  5.94it/s]"
          ],
          "name": "stderr"
        },
        {
          "output_type": "display_data",
          "data": {
            "text/html": [
              "<font color = red>Negative (51%)</font> --> <font color = gray>[SKIPPED]</font><br>there 's ... tremendous energy from the cast , a sense of playfulness and excitement that seems appropriate . "
            ],
            "text/plain": [
              "<IPython.core.display.HTML object>"
            ]
          },
          "metadata": {
            "tags": []
          }
        },
        {
          "output_type": "stream",
          "text": [
            "\r[Succeeded / Failed / Total] 15 / 6 / 41: : 41it [00:06,  6.07it/s]"
          ],
          "name": "stderr"
        },
        {
          "output_type": "display_data",
          "data": {
            "text/html": [
              "<font color = green>Positive (65%)</font> --> <font color = red>Negative (62%)</font><br>this illuminating documentary transcends our <font color = green>preconceived</font> vision of the holy land and its inhabitants , revealing the human complexities beneath . <br>this illuminating documentary transcends our <font color = red>demonized</font> vision of the holy land and its inhabitants , revealing the human complexities beneath . "
            ],
            "text/plain": [
              "<IPython.core.display.HTML object>"
            ]
          },
          "metadata": {
            "tags": []
          }
        },
        {
          "output_type": "stream",
          "text": [
            "[Succeeded / Failed / Total] 16 / 6 / 42: : 42it [00:06,  6.07it/s]"
          ],
          "name": "stderr"
        },
        {
          "output_type": "display_data",
          "data": {
            "text/html": [
              "<font color = red>Negative (54%)</font> --> <font color = gray>[SKIPPED]</font><br>the subtle strength of `` elling '' is that it never loses touch with the reality of the grim situation . "
            ],
            "text/plain": [
              "<IPython.core.display.HTML object>"
            ]
          },
          "metadata": {
            "tags": []
          }
        },
        {
          "output_type": "stream",
          "text": [
            "\r[Succeeded / Failed / Total] 16 / 6 / 43: : 43it [00:06,  6.19it/s]"
          ],
          "name": "stderr"
        },
        {
          "output_type": "display_data",
          "data": {
            "text/html": [
              "<font color = red>Negative (68%)</font> --> <font color = gray>[SKIPPED]</font><br>holm ... embodies the character with an effortlessly regal charisma . "
            ],
            "text/plain": [
              "<IPython.core.display.HTML object>"
            ]
          },
          "metadata": {
            "tags": []
          }
        },
        {
          "output_type": "stream",
          "text": [
            "\r[Succeeded / Failed / Total] 16 / 6 / 44: : 44it [00:06,  6.31it/s]"
          ],
          "name": "stderr"
        },
        {
          "output_type": "display_data",
          "data": {
            "text/html": [
              "<font color = red>Negative (75%)</font> --> <font color = red>[FAILED]</font><br>the title not only describes its main characters , but the lazy people behind the camera as well . "
            ],
            "text/plain": [
              "<IPython.core.display.HTML object>"
            ]
          },
          "metadata": {
            "tags": []
          }
        },
        {
          "output_type": "stream",
          "text": [
            "\r[Succeeded / Failed / Total] 16 / 7 / 45: : 45it [00:07,  5.98it/s]"
          ],
          "name": "stderr"
        },
        {
          "output_type": "display_data",
          "data": {
            "text/html": [
              "<font color = red>Negative (83%)</font> --> <font color = red>[FAILED]</font><br>it offers little beyond the momentary joys of pretty and weightless intellectual entertainment . "
            ],
            "text/plain": [
              "<IPython.core.display.HTML object>"
            ]
          },
          "metadata": {
            "tags": []
          }
        },
        {
          "output_type": "stream",
          "text": [
            "[Succeeded / Failed / Total] 16 / 8 / 46: : 46it [00:08,  5.74it/s]"
          ],
          "name": "stderr"
        },
        {
          "output_type": "display_data",
          "data": {
            "text/html": [
              "<font color = red>Negative (67%)</font> --> <font color = green>Positive (56%)</font><br>a synthesis of cliches and absurdities that <font color = red>seems</font> positively decadent in its cinematic flash and <font color = red>emptiness</font> . <br>a synthesis of cliches and absurdities that <font color = green>seemed</font> positively decadent in its cinematic flash and <font color = green>pantheistic</font> . "
            ],
            "text/plain": [
              "<IPython.core.display.HTML object>"
            ]
          },
          "metadata": {
            "tags": []
          }
        },
        {
          "output_type": "stream",
          "text": [
            "[Succeeded / Failed / Total] 17 / 8 / 47: : 47it [00:08,  5.71it/s]"
          ],
          "name": "stderr"
        },
        {
          "output_type": "stream",
          "text": [
            "+-------------------------------+--------+\n",
            "| Attack Results                |        |\n",
            "+-------------------------------+--------+\n",
            "| Number of successful attacks: | 17     |\n",
            "| Number of failed attacks:     | 8      |\n",
            "| Number of skipped attacks:    | 22     |\n",
            "| Original accuracy:            | 53.19% |\n",
            "| Accuracy under attack:        | 17.02% |\n",
            "| Attack success rate:          | 68.0%  |\n",
            "| Average perturbed word %:     | 13.49% |\n",
            "| Average num. words per input: | 16.53  |\n",
            "| Avg num queries:              | 24.96  |\n",
            "+-------------------------------+--------+"
          ],
          "name": "stdout"
        },
        {
          "output_type": "stream",
          "text": [
            "\n",
            "\u001b[34;1mtextattack\u001b[0m: Attack time: 8.241315126419067s\n"
          ],
          "name": "stderr"
        }
      ]
    },
    {
      "cell_type": "code",
      "metadata": {
        "colab": {
          "base_uri": "https://localhost:8080/"
        },
        "id": "T3tvU0NWJXLW",
        "outputId": "98c7e5c3-0f32-4fbf-ff36-5f52aeedc3a0"
      },
      "source": [
        "from textattack.search_methods import GreedySearch\n",
        "from textattack.constraints.pre_transformation import RepeatModification, StopwordModification\n",
        "from textattack.shared import Attack\n",
        "from textattack.goal_functions import UntargetedClassification\n",
        "from textattack.datasets import HuggingFaceDataset\n",
        "\n",
        "# We're going to use our word swap class as the attack transformation.\n",
        "transformation = Swapper_G()\n",
        "# We'll constrain modification of already modified indices and stopwords\n",
        "constraints = [RepeatModification(),\n",
        "               StopwordModification()]\n",
        "# We'll use the Greedy search method\n",
        "search_method = GreedySearch()\n",
        "# Create the goal function using the model\n",
        "\n",
        "goal_function = UntargetedClassification(model_wrapper)\n",
        "\n",
        "# Now, let's make the attack from the 4 components:\n",
        "attack = Attack(goal_function, constraints, transformation, search_method)\n",
        "\n",
        "dataset = HuggingFaceDataset(\"glue\",\"sst2\", \"validation\")"
      ],
      "execution_count": 20,
      "outputs": [
        {
          "output_type": "stream",
          "text": [
            "\u001b[34;1mtextattack\u001b[0m: Unknown if model of class <class 'transformers.models.distilbert.modeling_distilbert.DistilBertForSequenceClassification'> compatible with goal function <class 'textattack.goal_functions.classification.untargeted_classification.UntargetedClassification'>.\n",
            "Reusing dataset glue (/root/.cache/huggingface/datasets/glue/sst2/1.0.0/dacbe3125aa31d7f70367a07a8a9e72a5a0bfeb5fc42e75c9db75b96da6053ad)\n",
            "\u001b[34;1mtextattack\u001b[0m: Loading \u001b[94mdatasets\u001b[0m dataset \u001b[94mglue\u001b[0m, subset \u001b[94msst2\u001b[0m, split \u001b[94mvalidation\u001b[0m.\n"
          ],
          "name": "stderr"
        }
      ]
    },
    {
      "cell_type": "code",
      "metadata": {
        "colab": {
          "base_uri": "https://localhost:8080/"
        },
        "id": "TwUy7D8eJcWZ",
        "outputId": "c1fa72ee-a6e7-4feb-cfde-c16b6575fcf9"
      },
      "source": [
        "print(attack)"
      ],
      "execution_count": 21,
      "outputs": [
        {
          "output_type": "stream",
          "text": [
            "Attack(\n",
            "  (search_method): GreedySearch\n",
            "  (goal_function):  UntargetedClassification\n",
            "  (transformation):  Swapper_G\n",
            "  (constraints): \n",
            "    (0): RepeatModification\n",
            "    (1): StopwordModification\n",
            "  (is_black_box):  True\n",
            ")\n"
          ],
          "name": "stdout"
        }
      ]
    },
    {
      "cell_type": "code",
      "metadata": {
        "colab": {
          "base_uri": "https://localhost:8080/",
          "height": 1000
        },
        "id": "TYEq-ZXqJefe",
        "outputId": "44b84237-8d5c-4876-cc3b-9e03789182aa"
      },
      "source": [
        "from collections import deque\n",
        "\n",
        "import textattack\n",
        "import tqdm\n",
        "import time\n",
        "from IPython.display import display, HTML\n",
        "num_examples = 25\n",
        "num_remaining_attacks = num_examples\n",
        "pbar = tqdm.tqdm(total=num_remaining_attacks, smoothing=0)\n",
        "\n",
        "worklist = deque(range(0, num_examples))\n",
        "worklist_tail = worklist[-1]\n",
        "\n",
        "attack_log_manager = textattack.loggers.AttackLogManager()\n",
        "\n",
        "load_time = time.time()\n",
        "        \n",
        "num_results = 0\n",
        "num_failures = 0\n",
        "num_successes = 0\n",
        "for result in attack.attack_dataset(dataset, indices=worklist):\n",
        "    result_html_str = result.__str__(color_method=\"html\").replace(\"\\n\\n\", \"<br>\")\n",
        "    display(HTML(result_html_str))\n",
        "    attack_log_manager.log_result(result)\n",
        "            \n",
        "    if not isinstance(result, textattack.attack_results.SkippedAttackResult):\n",
        "        pbar.update(1)\n",
        "    else:\n",
        "        worklist_tail += 1\n",
        "        pbar.update(1)\n",
        "        worklist.append(worklist_tail)\n",
        "\n",
        "    num_results += 1\n",
        "\n",
        "    if (\n",
        "        type(result) == textattack.attack_results.SuccessfulAttackResult\n",
        "        or type(result) == textattack.attack_results.MaximizedAttackResult\n",
        "    ):\n",
        "        num_successes += 1\n",
        "                \n",
        "    if type(result) == textattack.attack_results.FailedAttackResult:\n",
        "        num_failures += 1\n",
        "    pbar.set_description(\n",
        "        \"[Succeeded / Failed / Total] {} / {} / {}\".format(\n",
        "            num_successes, num_failures, num_results\n",
        "        )\n",
        "    )\n",
        "\n",
        "pbar.close()\n",
        "\n",
        "attack_log_manager.enable_stdout()\n",
        "attack_log_manager.log_summary()\n",
        "attack_log_manager.flush()\n",
        "        \n",
        "textattack.shared.logger.info(f\"Attack time: {time.time() - load_time}s\")"
      ],
      "execution_count": 22,
      "outputs": [
        {
          "output_type": "stream",
          "text": [
            "\r  0%|          | 0/25 [00:00<?, ?it/s]"
          ],
          "name": "stderr"
        },
        {
          "output_type": "display_data",
          "data": {
            "text/html": [
              "<font color = red>Negative (84%)</font> --> <font color = gray>[SKIPPED]</font><br>it 's a charming and often affecting journey . "
            ],
            "text/plain": [
              "<IPython.core.display.HTML object>"
            ]
          },
          "metadata": {
            "tags": []
          }
        },
        {
          "output_type": "stream",
          "text": [
            "\r[Succeeded / Failed / Total] 0 / 0 / 1:   4%|▍         | 1/25 [00:00<00:00, 46.82it/s]"
          ],
          "name": "stderr"
        },
        {
          "output_type": "display_data",
          "data": {
            "text/html": [
              "<font color = red>Negative (79%)</font> --> <font color = green>Positive (60%)</font><br><font color = red>unflinchingly</font> <font color = red>bleak</font> and desperate <br><font color = green>aniosto</font> <font color = green>crowded</font> and desperate "
            ],
            "text/plain": [
              "<IPython.core.display.HTML object>"
            ]
          },
          "metadata": {
            "tags": []
          }
        },
        {
          "output_type": "stream",
          "text": [
            "[Succeeded / Failed / Total] 1 / 0 / 2:   8%|▊         | 2/25 [00:00<00:02,  8.55it/s]"
          ],
          "name": "stderr"
        },
        {
          "output_type": "display_data",
          "data": {
            "text/html": [
              "<font color = green>Positive (67%)</font> --> <font color = red>Negative (58%)</font><br>allows <font color = green>us</font> to hope that nolan is poised to embark a major career as a commercial yet inventive filmmaker . <br>allows <font color = red>karamursel</font> to hope that nolan is poised to embark a major career as a commercial yet inventive filmmaker . "
            ],
            "text/plain": [
              "<IPython.core.display.HTML object>"
            ]
          },
          "metadata": {
            "tags": []
          }
        },
        {
          "output_type": "stream",
          "text": [
            "\r[Succeeded / Failed / Total] 2 / 0 / 3:  12%|█▏        | 3/25 [00:00<00:05,  4.35it/s]"
          ],
          "name": "stderr"
        },
        {
          "output_type": "display_data",
          "data": {
            "text/html": [
              "<font color = green>Positive (68%)</font> --> <font color = red>Negative (58%)</font><br>the <font color = green>acting</font> , costumes , music , cinematography and sound are all astounding <font color = green>given</font> the production 's austere locales . <br>the <font color = red>hdx</font> , costumes , music , cinematography and sound are all astounding <font color = red>missiroli</font> the production 's austere locales . "
            ],
            "text/plain": [
              "<IPython.core.display.HTML object>"
            ]
          },
          "metadata": {
            "tags": []
          }
        },
        {
          "output_type": "stream",
          "text": [
            "[Succeeded / Failed / Total] 3 / 0 / 4:  16%|█▌        | 4/25 [00:01<00:07,  2.76it/s]"
          ],
          "name": "stderr"
        },
        {
          "output_type": "display_data",
          "data": {
            "text/html": [
              "<font color = red>Negative (66%)</font> --> <font color = red>[FAILED]</font><br>it 's slow -- very , very slow . "
            ],
            "text/plain": [
              "<IPython.core.display.HTML object>"
            ]
          },
          "metadata": {
            "tags": []
          }
        },
        {
          "output_type": "stream",
          "text": [
            "\r[Succeeded / Failed / Total] 3 / 1 / 5:  20%|██        | 5/25 [00:01<00:06,  3.13it/s]"
          ],
          "name": "stderr"
        },
        {
          "output_type": "display_data",
          "data": {
            "text/html": [
              "<font color = red>Negative (61%)</font> --> <font color = gray>[SKIPPED]</font><br>although laced with humor and a few fanciful touches , the film is a refreshingly serious look at young women . "
            ],
            "text/plain": [
              "<IPython.core.display.HTML object>"
            ]
          },
          "metadata": {
            "tags": []
          }
        },
        {
          "output_type": "stream",
          "text": [
            "[Succeeded / Failed / Total] 3 / 1 / 6:  24%|██▍       | 6/25 [00:01<00:05,  3.71it/s]"
          ],
          "name": "stderr"
        },
        {
          "output_type": "display_data",
          "data": {
            "text/html": [
              "<font color = green>Positive (66%)</font> --> <font color = gray>[SKIPPED]</font><br>a sometimes tedious film . "
            ],
            "text/plain": [
              "<IPython.core.display.HTML object>"
            ]
          },
          "metadata": {
            "tags": []
          }
        },
        {
          "output_type": "stream",
          "text": [
            "\r[Succeeded / Failed / Total] 3 / 1 / 7:  28%|██▊       | 7/25 [00:01<00:04,  4.27it/s]"
          ],
          "name": "stderr"
        },
        {
          "output_type": "display_data",
          "data": {
            "text/html": [
              "<font color = green>Positive (78%)</font> --> <font color = gray>[SKIPPED]</font><br>or doing last year 's taxes with your ex-wife . "
            ],
            "text/plain": [
              "<IPython.core.display.HTML object>"
            ]
          },
          "metadata": {
            "tags": []
          }
        },
        {
          "output_type": "stream",
          "text": [
            "\r[Succeeded / Failed / Total] 3 / 1 / 8:  32%|███▏      | 8/25 [00:01<00:03,  4.83it/s]"
          ],
          "name": "stderr"
        },
        {
          "output_type": "display_data",
          "data": {
            "text/html": [
              "<font color = red>Negative (68%)</font> --> <font color = gray>[SKIPPED]</font><br>you do n't have to know about music to appreciate the film 's easygoing blend of comedy and romance . "
            ],
            "text/plain": [
              "<IPython.core.display.HTML object>"
            ]
          },
          "metadata": {
            "tags": []
          }
        },
        {
          "output_type": "stream",
          "text": [
            "\r[Succeeded / Failed / Total] 3 / 1 / 9:  36%|███▌      | 9/25 [00:01<00:02,  5.37it/s]"
          ],
          "name": "stderr"
        },
        {
          "output_type": "display_data",
          "data": {
            "text/html": [
              "<font color = red>Negative (66%)</font> --> <font color = green>Positive (89%)</font><br>in exactly 89 minutes , most of which passed as slowly as if i 'd been sitting naked on an igloo , <font color = red>formula</font> 51 sank from quirky to jerky to utter turkey . <br>in exactly 89 minutes , most of which passed as slowly as if i 'd been sitting naked on an igloo , <font color = green>euler</font> 51 sank from quirky to jerky to utter turkey . "
            ],
            "text/plain": [
              "<IPython.core.display.HTML object>"
            ]
          },
          "metadata": {
            "tags": []
          }
        },
        {
          "output_type": "stream",
          "text": [
            "[Succeeded / Failed / Total] 4 / 1 / 10:  40%|████      | 10/25 [00:02<00:03,  4.51it/s]"
          ],
          "name": "stderr"
        },
        {
          "output_type": "display_data",
          "data": {
            "text/html": [
              "<font color = green>Positive (57%)</font> --> <font color = red>Negative (60%)</font><br>the mesmerizing <font color = green>performances</font> of the leads keep the film grounded and keep the audience riveted . <br>the mesmerizing <font color = red>concerts</font> of the leads keep the film grounded and keep the audience riveted . "
            ],
            "text/plain": [
              "<IPython.core.display.HTML object>"
            ]
          },
          "metadata": {
            "tags": []
          }
        },
        {
          "output_type": "stream",
          "text": [
            "\r[Succeeded / Failed / Total] 5 / 1 / 11:  44%|████▍     | 11/25 [00:02<00:03,  4.34it/s]"
          ],
          "name": "stderr"
        },
        {
          "output_type": "display_data",
          "data": {
            "text/html": [
              "<font color = green>Positive (59%)</font> --> <font color = gray>[SKIPPED]</font><br>it takes a strange kind of laziness to waste the talents of robert forster , anne meara , eugene levy , and reginald veljohnson all in the same movie . "
            ],
            "text/plain": [
              "<IPython.core.display.HTML object>"
            ]
          },
          "metadata": {
            "tags": []
          }
        },
        {
          "output_type": "stream",
          "text": [
            "\r[Succeeded / Failed / Total] 5 / 1 / 12:  48%|████▊     | 12/25 [00:02<00:02,  4.70it/s]"
          ],
          "name": "stderr"
        },
        {
          "output_type": "display_data",
          "data": {
            "text/html": [
              "<font color = red>Negative (51%)</font> --> <font color = green>Positive (68%)</font><br>... the film <font color = red>suffers</font> from a lack of humor ( something needed to balance out the violence ) ... <br>... the film <font color = green>benefited</font> from a lack of humor ( something needed to balance out the violence ) ... "
            ],
            "text/plain": [
              "<IPython.core.display.HTML object>"
            ]
          },
          "metadata": {
            "tags": []
          }
        },
        {
          "output_type": "stream",
          "text": [
            "\r[Succeeded / Failed / Total] 6 / 1 / 13:  52%|█████▏    | 13/25 [00:02<00:02,  4.52it/s]"
          ],
          "name": "stderr"
        },
        {
          "output_type": "display_data",
          "data": {
            "text/html": [
              "<font color = red>Negative (84%)</font> --> <font color = gray>[SKIPPED]</font><br>we root for ( clara and paul ) , even like them , though perhaps it 's an emotion closer to pity . "
            ],
            "text/plain": [
              "<IPython.core.display.HTML object>"
            ]
          },
          "metadata": {
            "tags": []
          }
        },
        {
          "output_type": "stream",
          "text": [
            "[Succeeded / Failed / Total] 6 / 1 / 14:  56%|█████▌    | 14/25 [00:02<00:02,  4.82it/s]"
          ],
          "name": "stderr"
        },
        {
          "output_type": "display_data",
          "data": {
            "text/html": [
              "<font color = red>Negative (75%)</font> --> <font color = green>Positive (52%)</font><br><font color = red>even</font> horror <font color = red>fans</font> will most likely not <font color = red>find</font> what they 're seeking with trouble every <font color = red>day</font> ; the movie lacks both thrills and humor . <br><font color = green>but</font> horror <font color = green>irishwoman</font> will most likely not <font color = green>icknield</font> what they 're seeking with trouble every <font color = green>septidi</font> ; the movie lacks both thrills and humor . "
            ],
            "text/plain": [
              "<IPython.core.display.HTML object>"
            ]
          },
          "metadata": {
            "tags": []
          }
        },
        {
          "output_type": "stream",
          "text": [
            "\r[Succeeded / Failed / Total] 7 / 1 / 15:  60%|██████    | 15/25 [00:04<00:03,  3.23it/s]"
          ],
          "name": "stderr"
        },
        {
          "output_type": "display_data",
          "data": {
            "text/html": [
              "<font color = red>Negative (65%)</font> --> <font color = gray>[SKIPPED]</font><br>a gorgeous , high-spirited musical from india that exquisitely blends music , dance , song , and high drama . "
            ],
            "text/plain": [
              "<IPython.core.display.HTML object>"
            ]
          },
          "metadata": {
            "tags": []
          }
        },
        {
          "output_type": "stream",
          "text": [
            "\r[Succeeded / Failed / Total] 7 / 1 / 16:  64%|██████▍   | 16/25 [00:04<00:02,  3.43it/s]"
          ],
          "name": "stderr"
        },
        {
          "output_type": "display_data",
          "data": {
            "text/html": [
              "<font color = red>Negative (69%)</font> --> <font color = gray>[SKIPPED]</font><br>the emotions are raw and will strike a nerve with anyone who 's ever had family trauma . "
            ],
            "text/plain": [
              "<IPython.core.display.HTML object>"
            ]
          },
          "metadata": {
            "tags": []
          }
        },
        {
          "output_type": "stream",
          "text": [
            "\r[Succeeded / Failed / Total] 7 / 1 / 17:  68%|██████▊   | 17/25 [00:04<00:02,  3.63it/s]"
          ],
          "name": "stderr"
        },
        {
          "output_type": "display_data",
          "data": {
            "text/html": [
              "<font color = red>Negative (67%)</font> --> <font color = gray>[SKIPPED]</font><br>audrey tatou has a knack for picking roles that magnify her outrageous charm , and in this literate french comedy , she 's as morning-glory exuberant as she was in amélie . "
            ],
            "text/plain": [
              "<IPython.core.display.HTML object>"
            ]
          },
          "metadata": {
            "tags": []
          }
        },
        {
          "output_type": "stream",
          "text": [
            "[Succeeded / Failed / Total] 7 / 1 / 18:  72%|███████▏  | 18/25 [00:04<00:01,  3.83it/s]"
          ],
          "name": "stderr"
        },
        {
          "output_type": "display_data",
          "data": {
            "text/html": [
              "<font color = green>Positive (52%)</font> --> <font color = gray>[SKIPPED]</font><br>... the movie is just a plain old monster . "
            ],
            "text/plain": [
              "<IPython.core.display.HTML object>"
            ]
          },
          "metadata": {
            "tags": []
          }
        },
        {
          "output_type": "stream",
          "text": [
            "\r[Succeeded / Failed / Total] 7 / 1 / 19:  76%|███████▌  | 19/25 [00:04<00:01,  4.02it/s]"
          ],
          "name": "stderr"
        },
        {
          "output_type": "display_data",
          "data": {
            "text/html": [
              "<font color = red>Negative (90%)</font> --> <font color = green>Positive (63%)</font><br>in its best <font color = red>moments</font> , resembles a bad high <font color = red>school</font> production of grease , without benefit of song . <br>in its best <font color = green>memorable</font> , resembles a bad high <font color = green>haggerty</font> production of grease , without benefit of song . "
            ],
            "text/plain": [
              "<IPython.core.display.HTML object>"
            ]
          },
          "metadata": {
            "tags": []
          }
        },
        {
          "output_type": "stream",
          "text": [
            "\r[Succeeded / Failed / Total] 8 / 1 / 20:  80%|████████  | 20/25 [00:05<00:01,  3.62it/s]"
          ],
          "name": "stderr"
        },
        {
          "output_type": "display_data",
          "data": {
            "text/html": [
              "<font color = red>Negative (79%)</font> --> <font color = green>Positive (61%)</font><br><font color = red>pumpkin</font> takes an admirable look at the hypocrisy of political correctness , but it does so with such an uneven tone that you never know when <font color = red>humor</font> ends and tragedy begins . <br><font color = green>synchromesh</font> takes an admirable look at the hypocrisy of political correctness , but it does so with such an uneven tone that you never know when <font color = green>labvakar</font> ends and tragedy begins . "
            ],
            "text/plain": [
              "<IPython.core.display.HTML object>"
            ]
          },
          "metadata": {
            "tags": []
          }
        },
        {
          "output_type": "stream",
          "text": [
            "\r[Succeeded / Failed / Total] 9 / 1 / 21:  84%|████████▍ | 21/25 [00:06<00:01,  3.15it/s]"
          ],
          "name": "stderr"
        },
        {
          "output_type": "display_data",
          "data": {
            "text/html": [
              "<font color = red>Negative (78%)</font> --> <font color = red>[FAILED]</font><br>the iditarod lasts for days - this just felt like it did . "
            ],
            "text/plain": [
              "<IPython.core.display.HTML object>"
            ]
          },
          "metadata": {
            "tags": []
          }
        },
        {
          "output_type": "stream",
          "text": [
            "[Succeeded / Failed / Total] 9 / 2 / 22:  88%|████████▊ | 22/25 [00:07<00:00,  3.03it/s]"
          ],
          "name": "stderr"
        },
        {
          "output_type": "display_data",
          "data": {
            "text/html": [
              "<font color = red>Negative (73%)</font> --> <font color = green>Positive (62%)</font><br><font color = red>holden</font> <font color = red>caulfield</font> did it better . <br><font color = green>brosnan</font> <font color = green>blumenthal</font> did it better . "
            ],
            "text/plain": [
              "<IPython.core.display.HTML object>"
            ]
          },
          "metadata": {
            "tags": []
          }
        },
        {
          "output_type": "stream",
          "text": [
            "\r[Succeeded / Failed / Total] 10 / 2 / 23:  92%|█████████▏| 23/25 [00:07<00:00,  3.07it/s]"
          ],
          "name": "stderr"
        },
        {
          "output_type": "display_data",
          "data": {
            "text/html": [
              "<font color = green>Positive (59%)</font> --> <font color = red>Negative (73%)</font><br>a delectable and intriguing <font color = green>thriller</font> filled with surprises , read my lips is an original . <br>a delectable and intriguing <font color = red>blaxploitation</font> filled with surprises , read my lips is an original . "
            ],
            "text/plain": [
              "<IPython.core.display.HTML object>"
            ]
          },
          "metadata": {
            "tags": []
          }
        },
        {
          "output_type": "stream",
          "text": [
            "\r[Succeeded / Failed / Total] 11 / 2 / 24:  96%|█████████▌| 24/25 [00:07<00:00,  3.09it/s]"
          ],
          "name": "stderr"
        },
        {
          "output_type": "display_data",
          "data": {
            "text/html": [
              "<font color = green>Positive (72%)</font> --> <font color = red>Negative (60%)</font><br>seldom has a movie so closely matched the <font color = green>spirit</font> of a man and his <font color = green>work</font> . <br>seldom has a movie so closely matched the <font color = red>god</font> of a man and his <font color = red>ultimatte</font> . "
            ],
            "text/plain": [
              "<IPython.core.display.HTML object>"
            ]
          },
          "metadata": {
            "tags": []
          }
        },
        {
          "output_type": "stream",
          "text": [
            "\r[Succeeded / Failed / Total] 12 / 2 / 25: 100%|██████████| 25/25 [00:08<00:00,  3.02it/s]"
          ],
          "name": "stderr"
        },
        {
          "output_type": "display_data",
          "data": {
            "text/html": [
              "<font color = red>Negative (76%)</font> --> <font color = green>Positive (51%)</font><br>nicks , <font color = red>seemingly</font> uncertain what 's going to make people laugh , <font color = red>runs</font> the gamut from stale parody to raunchy sex gags to formula romantic comedy . <br>nicks , <font color = green>equalized</font> uncertain what 's going to make people laugh , <font color = green>running</font> the gamut from stale parody to raunchy sex gags to formula romantic comedy . "
            ],
            "text/plain": [
              "<IPython.core.display.HTML object>"
            ]
          },
          "metadata": {
            "tags": []
          }
        },
        {
          "output_type": "stream",
          "text": [
            "[Succeeded / Failed / Total] 13 / 2 / 26: : 26it [00:09,  2.73it/s]"
          ],
          "name": "stderr"
        },
        {
          "output_type": "display_data",
          "data": {
            "text/html": [
              "<font color = red>Negative (74%)</font> --> <font color = green>Positive (50%)</font><br>the <font color = red>action</font> switches between past and present , but the material link is too tenuous to anchor the emotional connections that purport to span a 125-year divide . <br>the <font color = green>republicaine</font> switches between past and present , but the material link is too tenuous to anchor the emotional connections that purport to span a 125-year divide . "
            ],
            "text/plain": [
              "<IPython.core.display.HTML object>"
            ]
          },
          "metadata": {
            "tags": []
          }
        },
        {
          "output_type": "stream",
          "text": [
            "\r[Succeeded / Failed / Total] 14 / 2 / 27: : 27it [00:10,  2.69it/s]"
          ],
          "name": "stderr"
        },
        {
          "output_type": "display_data",
          "data": {
            "text/html": [
              "<font color = red>Negative (67%)</font> --> <font color = gray>[SKIPPED]</font><br>it 's an offbeat treat that pokes fun at the democratic exercise while also examining its significance for those who take part . "
            ],
            "text/plain": [
              "<IPython.core.display.HTML object>"
            ]
          },
          "metadata": {
            "tags": []
          }
        },
        {
          "output_type": "stream",
          "text": [
            "\r[Succeeded / Failed / Total] 14 / 2 / 28: : 28it [00:10,  2.78it/s]"
          ],
          "name": "stderr"
        },
        {
          "output_type": "display_data",
          "data": {
            "text/html": [
              "<font color = red>Negative (59%)</font> --> <font color = red>[FAILED]</font><br>it 's a cookie-cutter movie , a cut-and-paste job . "
            ],
            "text/plain": [
              "<IPython.core.display.HTML object>"
            ]
          },
          "metadata": {
            "tags": []
          }
        },
        {
          "output_type": "stream",
          "text": [
            "\r[Succeeded / Failed / Total] 14 / 3 / 29: : 29it [00:10,  2.83it/s]"
          ],
          "name": "stderr"
        },
        {
          "output_type": "display_data",
          "data": {
            "text/html": [
              "<font color = red>Negative (64%)</font> --> <font color = green>Positive (74%)</font><br>i had to look away - this was <font color = red>god</font> awful . <br>i had to look away - this was <font color = green>kukulcan</font> awful . "
            ],
            "text/plain": [
              "<IPython.core.display.HTML object>"
            ]
          },
          "metadata": {
            "tags": []
          }
        },
        {
          "output_type": "stream",
          "text": [
            "[Succeeded / Failed / Total] 15 / 3 / 30: : 30it [00:10,  2.88it/s]"
          ],
          "name": "stderr"
        },
        {
          "output_type": "display_data",
          "data": {
            "text/html": [
              "<font color = red>Negative (58%)</font> --> <font color = gray>[SKIPPED]</font><br>thanks to scott 's charismatic roger and eisenberg 's sweet nephew , roger dodger is one of the most compelling variations on in the company of men . "
            ],
            "text/plain": [
              "<IPython.core.display.HTML object>"
            ]
          },
          "metadata": {
            "tags": []
          }
        },
        {
          "output_type": "stream",
          "text": [
            "\r[Succeeded / Failed / Total] 15 / 3 / 31: : 31it [00:10,  2.97it/s]"
          ],
          "name": "stderr"
        },
        {
          "output_type": "display_data",
          "data": {
            "text/html": [
              "<font color = red>Negative (85%)</font> --> <font color = red>[FAILED]</font><br>... designed to provide a mix of smiles and tears , `` crossroads '' instead provokes a handful of unintentional howlers and numerous yawns . "
            ],
            "text/plain": [
              "<IPython.core.display.HTML object>"
            ]
          },
          "metadata": {
            "tags": []
          }
        },
        {
          "output_type": "stream",
          "text": [
            "\r[Succeeded / Failed / Total] 15 / 4 / 32: : 32it [00:13,  2.38it/s]"
          ],
          "name": "stderr"
        },
        {
          "output_type": "display_data",
          "data": {
            "text/html": [
              "<font color = red>Negative (66%)</font> --> <font color = gray>[SKIPPED]</font><br>a gorgeous , witty , seductive movie . "
            ],
            "text/plain": [
              "<IPython.core.display.HTML object>"
            ]
          },
          "metadata": {
            "tags": []
          }
        },
        {
          "output_type": "stream",
          "text": [
            "\r[Succeeded / Failed / Total] 15 / 4 / 33: : 33it [00:13,  2.45it/s]"
          ],
          "name": "stderr"
        },
        {
          "output_type": "display_data",
          "data": {
            "text/html": [
              "<font color = green>Positive (57%)</font> --> <font color = gray>[SKIPPED]</font><br>if the movie succeeds in instilling a wary sense of ` there but for the grace of god , ' it is far too self-conscious to draw you deeply into its world . "
            ],
            "text/plain": [
              "<IPython.core.display.HTML object>"
            ]
          },
          "metadata": {
            "tags": []
          }
        },
        {
          "output_type": "stream",
          "text": [
            "[Succeeded / Failed / Total] 15 / 4 / 34: : 34it [00:13,  2.52it/s]"
          ],
          "name": "stderr"
        },
        {
          "output_type": "display_data",
          "data": {
            "text/html": [
              "<font color = red>Negative (87%)</font> --> <font color = red>[FAILED]</font><br>it does n't believe in itself , it has no sense of humor ... it 's just plain bored . "
            ],
            "text/plain": [
              "<IPython.core.display.HTML object>"
            ]
          },
          "metadata": {
            "tags": []
          }
        },
        {
          "output_type": "stream",
          "text": [
            "\r[Succeeded / Failed / Total] 15 / 5 / 35: : 35it [00:14,  2.49it/s]"
          ],
          "name": "stderr"
        },
        {
          "output_type": "display_data",
          "data": {
            "text/html": [
              "<font color = green>Positive (67%)</font> --> <font color = gray>[SKIPPED]</font><br>a sequence of ridiculous shoot - 'em - up scenes . "
            ],
            "text/plain": [
              "<IPython.core.display.HTML object>"
            ]
          },
          "metadata": {
            "tags": []
          }
        },
        {
          "output_type": "stream",
          "text": [
            "\r[Succeeded / Failed / Total] 15 / 5 / 36: : 36it [00:14,  2.56it/s]"
          ],
          "name": "stderr"
        },
        {
          "output_type": "display_data",
          "data": {
            "text/html": [
              "<font color = green>Positive (55%)</font> --> <font color = red>Negative (79%)</font><br>the weight of the piece , the unerring professionalism of the chilly production , and the fascination <font color = green>embedded</font> in the lurid topic prove recommendation enough . <br>the weight of the piece , the unerring professionalism of the chilly production , and the fascination <font color = red>yonezawa</font> in the lurid topic prove recommendation enough . "
            ],
            "text/plain": [
              "<IPython.core.display.HTML object>"
            ]
          },
          "metadata": {
            "tags": []
          }
        },
        {
          "output_type": "stream",
          "text": [
            "\r[Succeeded / Failed / Total] 16 / 5 / 37: : 37it [00:14,  2.54it/s]"
          ],
          "name": "stderr"
        },
        {
          "output_type": "display_data",
          "data": {
            "text/html": [
              "<font color = green>Positive (89%)</font> --> <font color = gray>[SKIPPED]</font><br>( w ) hile long on amiable monkeys and worthy environmentalism , jane goodall 's wild chimpanzees is short on the thrills the oversize medium demands . "
            ],
            "text/plain": [
              "<IPython.core.display.HTML object>"
            ]
          },
          "metadata": {
            "tags": []
          }
        },
        {
          "output_type": "stream",
          "text": [
            "[Succeeded / Failed / Total] 16 / 5 / 38: : 38it [00:14,  2.60it/s]"
          ],
          "name": "stderr"
        },
        {
          "output_type": "display_data",
          "data": {
            "text/html": [
              "<font color = red>Negative (54%)</font> --> <font color = gray>[SKIPPED]</font><br>as surreal as a dream and as detailed as a photograph , as visually dexterous as it is at times imaginatively overwhelming . "
            ],
            "text/plain": [
              "<IPython.core.display.HTML object>"
            ]
          },
          "metadata": {
            "tags": []
          }
        },
        {
          "output_type": "stream",
          "text": [
            "\r[Succeeded / Failed / Total] 16 / 5 / 39: : 39it [00:14,  2.66it/s]"
          ],
          "name": "stderr"
        },
        {
          "output_type": "display_data",
          "data": {
            "text/html": [
              "<font color = red>Negative (56%)</font> --> <font color = gray>[SKIPPED]</font><br>escaping the studio , piccoli is warmly affecting and so is this adroitly minimalist movie . "
            ],
            "text/plain": [
              "<IPython.core.display.HTML object>"
            ]
          },
          "metadata": {
            "tags": []
          }
        },
        {
          "output_type": "stream",
          "text": [
            "\r[Succeeded / Failed / Total] 16 / 5 / 40: : 40it [00:14,  2.73it/s]"
          ],
          "name": "stderr"
        },
        {
          "output_type": "display_data",
          "data": {
            "text/html": [
              "<font color = red>Negative (51%)</font> --> <font color = gray>[SKIPPED]</font><br>there 's ... tremendous energy from the cast , a sense of playfulness and excitement that seems appropriate . "
            ],
            "text/plain": [
              "<IPython.core.display.HTML object>"
            ]
          },
          "metadata": {
            "tags": []
          }
        },
        {
          "output_type": "stream",
          "text": [
            "\r[Succeeded / Failed / Total] 16 / 5 / 41: : 41it [00:14,  2.79it/s]"
          ],
          "name": "stderr"
        },
        {
          "output_type": "display_data",
          "data": {
            "text/html": [
              "<font color = green>Positive (65%)</font> --> <font color = red>Negative (62%)</font><br>this illuminating <font color = green>documentary</font> transcends our preconceived vision of the holy land and its inhabitants , revealing the human complexities beneath . <br>this illuminating <font color = red>anthology</font> transcends our preconceived vision of the holy land and its inhabitants , revealing the human complexities beneath . "
            ],
            "text/plain": [
              "<IPython.core.display.HTML object>"
            ]
          },
          "metadata": {
            "tags": []
          }
        },
        {
          "output_type": "stream",
          "text": [
            "[Succeeded / Failed / Total] 17 / 5 / 42: : 42it [00:15,  2.77it/s]"
          ],
          "name": "stderr"
        },
        {
          "output_type": "display_data",
          "data": {
            "text/html": [
              "<font color = red>Negative (54%)</font> --> <font color = gray>[SKIPPED]</font><br>the subtle strength of `` elling '' is that it never loses touch with the reality of the grim situation . "
            ],
            "text/plain": [
              "<IPython.core.display.HTML object>"
            ]
          },
          "metadata": {
            "tags": []
          }
        },
        {
          "output_type": "stream",
          "text": [
            "\r[Succeeded / Failed / Total] 17 / 5 / 43: : 43it [00:15,  2.83it/s]"
          ],
          "name": "stderr"
        },
        {
          "output_type": "display_data",
          "data": {
            "text/html": [
              "<font color = red>Negative (68%)</font> --> <font color = gray>[SKIPPED]</font><br>holm ... embodies the character with an effortlessly regal charisma . "
            ],
            "text/plain": [
              "<IPython.core.display.HTML object>"
            ]
          },
          "metadata": {
            "tags": []
          }
        },
        {
          "output_type": "stream",
          "text": [
            "\r[Succeeded / Failed / Total] 17 / 5 / 44: : 44it [00:15,  2.89it/s]"
          ],
          "name": "stderr"
        },
        {
          "output_type": "display_data",
          "data": {
            "text/html": [
              "<font color = red>Negative (75%)</font> --> <font color = green>Positive (82%)</font><br>the title not only describes its main characters , but the <font color = red>lazy</font> people behind the camera as well . <br>the title not only describes its main characters , but the <font color = green>tamazight</font> people behind the camera as well . "
            ],
            "text/plain": [
              "<IPython.core.display.HTML object>"
            ]
          },
          "metadata": {
            "tags": []
          }
        },
        {
          "output_type": "stream",
          "text": [
            "\r[Succeeded / Failed / Total] 18 / 5 / 45: : 45it [00:15,  2.89it/s]"
          ],
          "name": "stderr"
        },
        {
          "output_type": "display_data",
          "data": {
            "text/html": [
              "<font color = red>Negative (83%)</font> --> <font color = red>[FAILED]</font><br>it offers little beyond the momentary joys of pretty and weightless intellectual entertainment . "
            ],
            "text/plain": [
              "<IPython.core.display.HTML object>"
            ]
          },
          "metadata": {
            "tags": []
          }
        },
        {
          "output_type": "stream",
          "text": [
            "[Succeeded / Failed / Total] 18 / 6 / 46: : 46it [00:17,  2.66it/s]"
          ],
          "name": "stderr"
        },
        {
          "output_type": "display_data",
          "data": {
            "text/html": [
              "<font color = red>Negative (67%)</font> --> <font color = green>Positive (50%)</font><br>a synthesis of <font color = red>cliches</font> and absurdities that seems positively decadent in its cinematic <font color = red>flash</font> and emptiness . <br>a synthesis of <font color = green>playmate</font> and absurdities that seems positively decadent in its cinematic <font color = green>flarp</font> and emptiness . "
            ],
            "text/plain": [
              "<IPython.core.display.HTML object>"
            ]
          },
          "metadata": {
            "tags": []
          }
        },
        {
          "output_type": "stream",
          "text": [
            "[Succeeded / Failed / Total] 19 / 6 / 47: : 47it [00:17,  2.61it/s]"
          ],
          "name": "stderr"
        },
        {
          "output_type": "stream",
          "text": [
            "+-------------------------------+--------+\n",
            "| Attack Results                |        |\n",
            "+-------------------------------+--------+\n",
            "| Number of successful attacks: | 19     |\n",
            "| Number of failed attacks:     | 6      |\n",
            "| Number of skipped attacks:    | 22     |\n",
            "| Original accuracy:            | 53.19% |\n",
            "| Accuracy under attack:        | 12.77% |\n",
            "| Attack success rate:          | 76.0%  |\n",
            "| Average perturbed word %:     | 12.25% |\n",
            "| Average num. words per input: | 16.53  |\n",
            "| Avg num queries:              | 18.84  |\n",
            "+-------------------------------+--------+"
          ],
          "name": "stdout"
        },
        {
          "output_type": "stream",
          "text": [
            "\n",
            "\u001b[34;1mtextattack\u001b[0m: Attack time: 17.9871027469635s\n"
          ],
          "name": "stderr"
        }
      ]
    },
    {
      "cell_type": "code",
      "metadata": {
        "colab": {
          "base_uri": "https://localhost:8080/"
        },
        "id": "YskxTOQMURi7",
        "outputId": "028a4bf7-73a4-4f62-fdd2-ba672d602959"
      },
      "source": [
        "from textattack.search_methods import GreedyWordSwapWIR\n",
        "from textattack.constraints.pre_transformation import RepeatModification, StopwordModification\n",
        "from textattack.shared import Attack\n",
        "from textattack.goal_functions import UntargetedClassification\n",
        "from textattack.datasets import HuggingFaceDataset\n",
        "\n",
        "# We're going to use our word swap class as the attack transformation.\n",
        "transformation = Swapper()\n",
        "# We'll constrain modification of already modified indices and stopwords\n",
        "constraints = [RepeatModification(),\n",
        "               StopwordModification()]\n",
        "#seach method\n",
        "search_method = GreedyWordSwapWIR()\n",
        "# Create the goal function using the model\n",
        "\n",
        "goal_function = UntargetedClassification(model_wrapper)\n",
        "\n",
        "# Now, let's make the attack from the 4 components:\n",
        "attack = Attack(goal_function, constraints, transformation, search_method)\n",
        "\n",
        "dataset = HuggingFaceDataset(\"glue\",\"sst2\", \"validation\")"
      ],
      "execution_count": 23,
      "outputs": [
        {
          "output_type": "stream",
          "text": [
            "\u001b[34;1mtextattack\u001b[0m: Unknown if model of class <class 'transformers.models.distilbert.modeling_distilbert.DistilBertForSequenceClassification'> compatible with goal function <class 'textattack.goal_functions.classification.untargeted_classification.UntargetedClassification'>.\n",
            "Reusing dataset glue (/root/.cache/huggingface/datasets/glue/sst2/1.0.0/dacbe3125aa31d7f70367a07a8a9e72a5a0bfeb5fc42e75c9db75b96da6053ad)\n",
            "\u001b[34;1mtextattack\u001b[0m: Loading \u001b[94mdatasets\u001b[0m dataset \u001b[94mglue\u001b[0m, subset \u001b[94msst2\u001b[0m, split \u001b[94mvalidation\u001b[0m.\n"
          ],
          "name": "stderr"
        }
      ]
    },
    {
      "cell_type": "code",
      "metadata": {
        "colab": {
          "base_uri": "https://localhost:8080/"
        },
        "id": "WCwMPGl8UUv0",
        "outputId": "1d16fdf1-2d65-478b-d484-bdd90e46cdd7"
      },
      "source": [
        "print(attack)"
      ],
      "execution_count": 24,
      "outputs": [
        {
          "output_type": "stream",
          "text": [
            "Attack(\n",
            "  (search_method): GreedyWordSwapWIR(\n",
            "    (wir_method):  unk\n",
            "  )\n",
            "  (goal_function):  UntargetedClassification\n",
            "  (transformation):  Swapper\n",
            "  (constraints): \n",
            "    (0): RepeatModification\n",
            "    (1): StopwordModification\n",
            "  (is_black_box):  True\n",
            ")\n"
          ],
          "name": "stdout"
        }
      ]
    },
    {
      "cell_type": "code",
      "metadata": {
        "colab": {
          "base_uri": "https://localhost:8080/",
          "height": 1000
        },
        "id": "-n-f1SB0UWCv",
        "outputId": "974864de-f925-4814-a311-9f4144dff45f"
      },
      "source": [
        "from collections import deque\n",
        "\n",
        "import textattack\n",
        "import tqdm\n",
        "import time\n",
        "from IPython.display import display, HTML\n",
        "num_examples = 25\n",
        "num_remaining_attacks = num_examples\n",
        "pbar = tqdm.tqdm(total=num_remaining_attacks, smoothing=0)\n",
        "\n",
        "worklist = deque(range(0, num_examples))\n",
        "worklist_tail = worklist[-1]\n",
        "\n",
        "attack_log_manager = textattack.loggers.AttackLogManager()\n",
        "\n",
        "load_time = time.time()\n",
        "        \n",
        "num_results = 0\n",
        "num_failures = 0\n",
        "num_successes = 0\n",
        "for result in attack.attack_dataset(dataset, indices=worklist):\n",
        "    result_html_str = result.__str__(color_method=\"html\").replace(\"\\n\\n\", \"<br>\")\n",
        "    display(HTML(result_html_str))\n",
        "    attack_log_manager.log_result(result)\n",
        "            \n",
        "    if not isinstance(result, textattack.attack_results.SkippedAttackResult):\n",
        "        pbar.update(1)\n",
        "    else:\n",
        "        worklist_tail += 1\n",
        "        pbar.update(1)\n",
        "        worklist.append(worklist_tail)\n",
        "\n",
        "    num_results += 1\n",
        "\n",
        "    if (\n",
        "        type(result) == textattack.attack_results.SuccessfulAttackResult\n",
        "        or type(result) == textattack.attack_results.MaximizedAttackResult\n",
        "    ):\n",
        "        num_successes += 1\n",
        "                \n",
        "    if type(result) == textattack.attack_results.FailedAttackResult:\n",
        "        num_failures += 1\n",
        "    pbar.set_description(\n",
        "        \"[Succeeded / Failed / Total] {} / {} / {}\".format(\n",
        "            num_successes, num_failures, num_results\n",
        "        )\n",
        "    )\n",
        "\n",
        "pbar.close()\n",
        "\n",
        "attack_log_manager.enable_stdout()\n",
        "attack_log_manager.log_summary()\n",
        "attack_log_manager.flush()\n",
        "        \n",
        "textattack.shared.logger.info(f\"Attack time: {time.time() - load_time}s\")"
      ],
      "execution_count": 25,
      "outputs": [
        {
          "output_type": "stream",
          "text": [
            "\r  0%|          | 0/25 [00:00<?, ?it/s]"
          ],
          "name": "stderr"
        },
        {
          "output_type": "display_data",
          "data": {
            "text/html": [
              "<font color = red>Negative (84%)</font> --> <font color = gray>[SKIPPED]</font><br>it 's a charming and often affecting journey . "
            ],
            "text/plain": [
              "<IPython.core.display.HTML object>"
            ]
          },
          "metadata": {
            "tags": []
          }
        },
        {
          "output_type": "stream",
          "text": [
            "\r[Succeeded / Failed / Total] 0 / 0 / 1:   4%|▍         | 1/25 [00:00<00:00, 56.79it/s]"
          ],
          "name": "stderr"
        },
        {
          "output_type": "display_data",
          "data": {
            "text/html": [
              "<font color = red>Negative (79%)</font> --> <font color = red>[FAILED]</font><br>unflinchingly bleak and desperate "
            ],
            "text/plain": [
              "<IPython.core.display.HTML object>"
            ]
          },
          "metadata": {
            "tags": []
          }
        },
        {
          "output_type": "stream",
          "text": [
            "[Succeeded / Failed / Total] 0 / 1 / 2:   8%|▊         | 2/25 [00:00<00:01, 17.41it/s]"
          ],
          "name": "stderr"
        },
        {
          "output_type": "display_data",
          "data": {
            "text/html": [
              "<font color = green>Positive (67%)</font> --> <font color = red>[FAILED]</font><br>allows us to hope that nolan is poised to embark a major career as a commercial yet inventive filmmaker . "
            ],
            "text/plain": [
              "<IPython.core.display.HTML object>"
            ]
          },
          "metadata": {
            "tags": []
          }
        },
        {
          "output_type": "stream",
          "text": [
            "\r[Succeeded / Failed / Total] 0 / 2 / 3:  12%|█▏        | 3/25 [00:00<00:03,  6.18it/s]"
          ],
          "name": "stderr"
        },
        {
          "output_type": "display_data",
          "data": {
            "text/html": [
              "<font color = green>Positive (68%)</font> --> <font color = red>Negative (50%)</font><br>the acting , costumes , music , cinematography and sound are all astounding <font color = green>given</font> the <font color = green>production</font> 's <font color = green>austere</font> locales . <br>the acting , costumes , music , cinematography and sound are all astounding <font color = red>givens</font> the <font color = red>overproduction</font> 's <font color = red>auster</font> locales . "
            ],
            "text/plain": [
              "<IPython.core.display.HTML object>"
            ]
          },
          "metadata": {
            "tags": []
          }
        },
        {
          "output_type": "stream",
          "text": [
            "[Succeeded / Failed / Total] 1 / 2 / 4:  16%|█▌        | 4/25 [00:00<00:03,  5.76it/s]"
          ],
          "name": "stderr"
        },
        {
          "output_type": "display_data",
          "data": {
            "text/html": [
              "<font color = red>Negative (66%)</font> --> <font color = red>[FAILED]</font><br>it 's slow -- very , very slow . "
            ],
            "text/plain": [
              "<IPython.core.display.HTML object>"
            ]
          },
          "metadata": {
            "tags": []
          }
        },
        {
          "output_type": "stream",
          "text": [
            "\r[Succeeded / Failed / Total] 1 / 3 / 5:  20%|██        | 5/25 [00:00<00:03,  6.36it/s]"
          ],
          "name": "stderr"
        },
        {
          "output_type": "display_data",
          "data": {
            "text/html": [
              "<font color = red>Negative (61%)</font> --> <font color = gray>[SKIPPED]</font><br>although laced with humor and a few fanciful touches , the film is a refreshingly serious look at young women . "
            ],
            "text/plain": [
              "<IPython.core.display.HTML object>"
            ]
          },
          "metadata": {
            "tags": []
          }
        },
        {
          "output_type": "stream",
          "text": [
            "[Succeeded / Failed / Total] 1 / 3 / 6:  24%|██▍       | 6/25 [00:00<00:02,  7.36it/s]"
          ],
          "name": "stderr"
        },
        {
          "output_type": "display_data",
          "data": {
            "text/html": [
              "<font color = green>Positive (66%)</font> --> <font color = gray>[SKIPPED]</font><br>a sometimes tedious film . "
            ],
            "text/plain": [
              "<IPython.core.display.HTML object>"
            ]
          },
          "metadata": {
            "tags": []
          }
        },
        {
          "output_type": "stream",
          "text": [
            "\r[Succeeded / Failed / Total] 1 / 3 / 7:  28%|██▊       | 7/25 [00:00<00:02,  8.36it/s]"
          ],
          "name": "stderr"
        },
        {
          "output_type": "display_data",
          "data": {
            "text/html": [
              "<font color = green>Positive (78%)</font> --> <font color = gray>[SKIPPED]</font><br>or doing last year 's taxes with your ex-wife . "
            ],
            "text/plain": [
              "<IPython.core.display.HTML object>"
            ]
          },
          "metadata": {
            "tags": []
          }
        },
        {
          "output_type": "stream",
          "text": [
            "\r[Succeeded / Failed / Total] 1 / 3 / 8:  32%|███▏      | 8/25 [00:00<00:01,  9.28it/s]"
          ],
          "name": "stderr"
        },
        {
          "output_type": "display_data",
          "data": {
            "text/html": [
              "<font color = red>Negative (68%)</font> --> <font color = gray>[SKIPPED]</font><br>you do n't have to know about music to appreciate the film 's easygoing blend of comedy and romance . "
            ],
            "text/plain": [
              "<IPython.core.display.HTML object>"
            ]
          },
          "metadata": {
            "tags": []
          }
        },
        {
          "output_type": "stream",
          "text": [
            "\r[Succeeded / Failed / Total] 1 / 3 / 9:  36%|███▌      | 9/25 [00:00<00:01, 10.18it/s]"
          ],
          "name": "stderr"
        },
        {
          "output_type": "display_data",
          "data": {
            "text/html": [
              "<font color = red>Negative (66%)</font> --> <font color = green>Positive (51%)</font><br>in exactly 89 minutes , most of which passed as slowly as if i 'd been <font color = red>sitting</font> naked on an igloo , formula 51 sank from <font color = red>quirky</font> to jerky to utter turkey . <br>in exactly 89 minutes , most of which passed as slowly as if i 'd been <font color = green>befitting</font> naked on an igloo , formula 51 sank from <font color = green>quirk</font> to jerky to utter turkey . "
            ],
            "text/plain": [
              "<IPython.core.display.HTML object>"
            ]
          },
          "metadata": {
            "tags": []
          }
        },
        {
          "output_type": "stream",
          "text": [
            "[Succeeded / Failed / Total] 2 / 3 / 10:  40%|████      | 10/25 [00:01<00:01,  9.27it/s]"
          ],
          "name": "stderr"
        },
        {
          "output_type": "display_data",
          "data": {
            "text/html": [
              "<font color = green>Positive (57%)</font> --> <font color = red>Negative (51%)</font><br>the mesmerizing performances of the leads keep the film <font color = green>grounded</font> and keep the audience <font color = green>riveted</font> . <br>the mesmerizing performances of the leads keep the film <font color = red>ungrounded</font> and keep the audience <font color = red>coveted</font> . "
            ],
            "text/plain": [
              "<IPython.core.display.HTML object>"
            ]
          },
          "metadata": {
            "tags": []
          }
        },
        {
          "output_type": "stream",
          "text": [
            "\r[Succeeded / Failed / Total] 3 / 3 / 11:  44%|████▍     | 11/25 [00:01<00:01,  8.49it/s]"
          ],
          "name": "stderr"
        },
        {
          "output_type": "display_data",
          "data": {
            "text/html": [
              "<font color = green>Positive (59%)</font> --> <font color = gray>[SKIPPED]</font><br>it takes a strange kind of laziness to waste the talents of robert forster , anne meara , eugene levy , and reginald veljohnson all in the same movie . "
            ],
            "text/plain": [
              "<IPython.core.display.HTML object>"
            ]
          },
          "metadata": {
            "tags": []
          }
        },
        {
          "output_type": "stream",
          "text": [
            "\r[Succeeded / Failed / Total] 3 / 3 / 12:  48%|████▊     | 12/25 [00:01<00:01,  9.08it/s]"
          ],
          "name": "stderr"
        },
        {
          "output_type": "display_data",
          "data": {
            "text/html": [
              "<font color = red>Negative (51%)</font> --> <font color = green>Positive (55%)</font><br>... the film suffers from a <font color = red>lack</font> of <font color = red>humor</font> ( something needed to balance out the violence ) ... <br>... the film suffers from a <font color = green>absence</font> of <font color = green>humour</font> ( something needed to balance out the violence ) ... "
            ],
            "text/plain": [
              "<IPython.core.display.HTML object>"
            ]
          },
          "metadata": {
            "tags": []
          }
        },
        {
          "output_type": "stream",
          "text": [
            "\r[Succeeded / Failed / Total] 4 / 3 / 13:  52%|█████▏    | 13/25 [00:01<00:01,  8.70it/s]"
          ],
          "name": "stderr"
        },
        {
          "output_type": "display_data",
          "data": {
            "text/html": [
              "<font color = red>Negative (84%)</font> --> <font color = gray>[SKIPPED]</font><br>we root for ( clara and paul ) , even like them , though perhaps it 's an emotion closer to pity . "
            ],
            "text/plain": [
              "<IPython.core.display.HTML object>"
            ]
          },
          "metadata": {
            "tags": []
          }
        },
        {
          "output_type": "stream",
          "text": [
            "[Succeeded / Failed / Total] 4 / 3 / 14:  56%|█████▌    | 14/25 [00:01<00:01,  9.19it/s]"
          ],
          "name": "stderr"
        },
        {
          "output_type": "display_data",
          "data": {
            "text/html": [
              "<font color = red>Negative (75%)</font> --> <font color = green>Positive (53%)</font><br>even horror <font color = red>fans</font> will most likely not <font color = red>find</font> what they 're seeking with trouble every <font color = red>day</font> ; the movie lacks both thrills and humor . <br>even horror <font color = green>playlists</font> will most likely not <font color = green>prove</font> what they 're seeking with trouble every <font color = green>uday</font> ; the movie lacks both thrills and humor . "
            ],
            "text/plain": [
              "<IPython.core.display.HTML object>"
            ]
          },
          "metadata": {
            "tags": []
          }
        },
        {
          "output_type": "stream",
          "text": [
            "\r[Succeeded / Failed / Total] 5 / 3 / 15:  60%|██████    | 15/25 [00:01<00:01,  8.56it/s]"
          ],
          "name": "stderr"
        },
        {
          "output_type": "display_data",
          "data": {
            "text/html": [
              "<font color = red>Negative (65%)</font> --> <font color = gray>[SKIPPED]</font><br>a gorgeous , high-spirited musical from india that exquisitely blends music , dance , song , and high drama . "
            ],
            "text/plain": [
              "<IPython.core.display.HTML object>"
            ]
          },
          "metadata": {
            "tags": []
          }
        },
        {
          "output_type": "stream",
          "text": [
            "\r[Succeeded / Failed / Total] 5 / 3 / 16:  64%|██████▍   | 16/25 [00:01<00:01,  9.00it/s]"
          ],
          "name": "stderr"
        },
        {
          "output_type": "display_data",
          "data": {
            "text/html": [
              "<font color = red>Negative (69%)</font> --> <font color = gray>[SKIPPED]</font><br>the emotions are raw and will strike a nerve with anyone who 's ever had family trauma . "
            ],
            "text/plain": [
              "<IPython.core.display.HTML object>"
            ]
          },
          "metadata": {
            "tags": []
          }
        },
        {
          "output_type": "stream",
          "text": [
            "\r[Succeeded / Failed / Total] 5 / 3 / 17:  68%|██████▊   | 17/25 [00:01<00:00,  9.43it/s]"
          ],
          "name": "stderr"
        },
        {
          "output_type": "display_data",
          "data": {
            "text/html": [
              "<font color = red>Negative (67%)</font> --> <font color = gray>[SKIPPED]</font><br>audrey tatou has a knack for picking roles that magnify her outrageous charm , and in this literate french comedy , she 's as morning-glory exuberant as she was in amélie . "
            ],
            "text/plain": [
              "<IPython.core.display.HTML object>"
            ]
          },
          "metadata": {
            "tags": []
          }
        },
        {
          "output_type": "stream",
          "text": [
            "[Succeeded / Failed / Total] 5 / 3 / 18:  72%|███████▏  | 18/25 [00:01<00:00,  9.83it/s]"
          ],
          "name": "stderr"
        },
        {
          "output_type": "display_data",
          "data": {
            "text/html": [
              "<font color = green>Positive (52%)</font> --> <font color = gray>[SKIPPED]</font><br>... the movie is just a plain old monster . "
            ],
            "text/plain": [
              "<IPython.core.display.HTML object>"
            ]
          },
          "metadata": {
            "tags": []
          }
        },
        {
          "output_type": "stream",
          "text": [
            "\r[Succeeded / Failed / Total] 5 / 3 / 19:  76%|███████▌  | 19/25 [00:01<00:00, 10.27it/s]"
          ],
          "name": "stderr"
        },
        {
          "output_type": "display_data",
          "data": {
            "text/html": [
              "<font color = red>Negative (90%)</font> --> <font color = green>Positive (61%)</font><br>in its best moments , <font color = red>resembles</font> a <font color = red>bad</font> high <font color = red>school</font> production of grease , <font color = red>without</font> benefit of song . <br>in its best moments , <font color = green>resemble</font> a <font color = green>good</font> high <font color = green>schoolboy</font> production of grease , <font color = green>any</font> benefit of song . "
            ],
            "text/plain": [
              "<IPython.core.display.HTML object>"
            ]
          },
          "metadata": {
            "tags": []
          }
        },
        {
          "output_type": "stream",
          "text": [
            "\r[Succeeded / Failed / Total] 6 / 3 / 20:  80%|████████  | 20/25 [00:02<00:00,  9.91it/s]"
          ],
          "name": "stderr"
        },
        {
          "output_type": "display_data",
          "data": {
            "text/html": [
              "<font color = red>Negative (79%)</font> --> <font color = green>Positive (51%)</font><br><font color = red>pumpkin</font> takes an admirable look at the hypocrisy of political correctness , but it does so with such an uneven tone that you never <font color = red>know</font> when <font color = red>humor</font> ends and tragedy begins . <br><font color = green>pumpkins</font> takes an admirable look at the hypocrisy of political correctness , but it does so with such an uneven tone that you never <font color = green>think</font> when <font color = green>humour</font> ends and tragedy begins . "
            ],
            "text/plain": [
              "<IPython.core.display.HTML object>"
            ]
          },
          "metadata": {
            "tags": []
          }
        },
        {
          "output_type": "stream",
          "text": [
            "\r[Succeeded / Failed / Total] 7 / 3 / 21:  84%|████████▍ | 21/25 [00:02<00:00,  9.07it/s]"
          ],
          "name": "stderr"
        },
        {
          "output_type": "display_data",
          "data": {
            "text/html": [
              "<font color = red>Negative (78%)</font> --> <font color = green>Positive (62%)</font><br>the iditarod <font color = red>lasts</font> for <font color = red>days</font> - this just <font color = red>felt</font> <font color = red>like</font> it did . <br>the iditarod <font color = green>lasted</font> for <font color = green>months</font> - this just <font color = green>disbelieved</font> <font color = green>unlike</font> it did . "
            ],
            "text/plain": [
              "<IPython.core.display.HTML object>"
            ]
          },
          "metadata": {
            "tags": []
          }
        },
        {
          "output_type": "stream",
          "text": [
            "[Succeeded / Failed / Total] 8 / 3 / 22:  88%|████████▊ | 22/25 [00:02<00:00,  8.84it/s]"
          ],
          "name": "stderr"
        },
        {
          "output_type": "display_data",
          "data": {
            "text/html": [
              "<font color = red>Negative (73%)</font> --> <font color = red>[FAILED]</font><br>holden caulfield did it better . "
            ],
            "text/plain": [
              "<IPython.core.display.HTML object>"
            ]
          },
          "metadata": {
            "tags": []
          }
        },
        {
          "output_type": "stream",
          "text": [
            "\r[Succeeded / Failed / Total] 8 / 4 / 23:  92%|█████████▏| 23/25 [00:02<00:00,  8.84it/s]"
          ],
          "name": "stderr"
        },
        {
          "output_type": "display_data",
          "data": {
            "text/html": [
              "<font color = green>Positive (59%)</font> --> <font color = red>Negative (67%)</font><br>a delectable and intriguing <font color = green>thriller</font> filled with surprises , read my lips is an original . <br>a delectable and intriguing <font color = red>thrill</font> filled with surprises , read my lips is an original . "
            ],
            "text/plain": [
              "<IPython.core.display.HTML object>"
            ]
          },
          "metadata": {
            "tags": []
          }
        },
        {
          "output_type": "stream",
          "text": [
            "\r[Succeeded / Failed / Total] 9 / 4 / 24:  96%|█████████▌| 24/25 [00:02<00:00,  8.85it/s]"
          ],
          "name": "stderr"
        },
        {
          "output_type": "display_data",
          "data": {
            "text/html": [
              "<font color = green>Positive (72%)</font> --> <font color = red>Negative (53%)</font><br><font color = green>seldom</font> has a movie so <font color = green>closely</font> matched the <font color = green>spirit</font> of a man and his <font color = green>work</font> . <br><font color = red>rarely</font> has a movie so <font color = red>loosely</font> matched the <font color = red>spirits</font> of a man and his <font color = red>works</font> . "
            ],
            "text/plain": [
              "<IPython.core.display.HTML object>"
            ]
          },
          "metadata": {
            "tags": []
          }
        },
        {
          "output_type": "stream",
          "text": [
            "\r[Succeeded / Failed / Total] 10 / 4 / 25: 100%|██████████| 25/25 [00:02<00:00,  8.68it/s]"
          ],
          "name": "stderr"
        },
        {
          "output_type": "display_data",
          "data": {
            "text/html": [
              "<font color = red>Negative (76%)</font> --> <font color = green>Positive (51%)</font><br>nicks , <font color = red>seemingly</font> uncertain what 's going to <font color = red>make</font> <font color = red>people</font> <font color = red>laugh</font> , <font color = red>runs</font> the gamut from <font color = red>stale</font> parody to raunchy sex gags to formula <font color = red>romantic</font> comedy . <br>nicks , <font color = green>stunningly</font> uncertain what 's going to <font color = green>give</font> <font color = green>laypeople</font> <font color = green>laughs</font> , <font color = green>running</font> the gamut from <font color = green>staleys</font> parody to raunchy sex gags to formula <font color = green>romantics</font> comedy . "
            ],
            "text/plain": [
              "<IPython.core.display.HTML object>"
            ]
          },
          "metadata": {
            "tags": []
          }
        },
        {
          "output_type": "stream",
          "text": [
            "[Succeeded / Failed / Total] 11 / 4 / 26: : 26it [00:03,  7.87it/s]"
          ],
          "name": "stderr"
        },
        {
          "output_type": "display_data",
          "data": {
            "text/html": [
              "<font color = red>Negative (74%)</font> --> <font color = red>[FAILED]</font><br>the action switches between past and present , but the material link is too tenuous to anchor the emotional connections that purport to span a 125-year divide . "
            ],
            "text/plain": [
              "<IPython.core.display.HTML object>"
            ]
          },
          "metadata": {
            "tags": []
          }
        },
        {
          "output_type": "stream",
          "text": [
            "\r[Succeeded / Failed / Total] 11 / 5 / 27: : 27it [00:03,  7.27it/s]"
          ],
          "name": "stderr"
        },
        {
          "output_type": "display_data",
          "data": {
            "text/html": [
              "<font color = red>Negative (67%)</font> --> <font color = gray>[SKIPPED]</font><br>it 's an offbeat treat that pokes fun at the democratic exercise while also examining its significance for those who take part . "
            ],
            "text/plain": [
              "<IPython.core.display.HTML object>"
            ]
          },
          "metadata": {
            "tags": []
          }
        },
        {
          "output_type": "stream",
          "text": [
            "\r[Succeeded / Failed / Total] 11 / 5 / 28: : 28it [00:03,  7.49it/s]"
          ],
          "name": "stderr"
        },
        {
          "output_type": "display_data",
          "data": {
            "text/html": [
              "<font color = red>Negative (59%)</font> --> <font color = green>Positive (58%)</font><br>it 's a <font color = red>cookie-cutter</font> <font color = red>movie</font> , a cut-and-paste job . <br>it 's a <font color = green>cookie</font> <font color = green>imovie</font> , a cut-and-paste job . "
            ],
            "text/plain": [
              "<IPython.core.display.HTML object>"
            ]
          },
          "metadata": {
            "tags": []
          }
        },
        {
          "output_type": "stream",
          "text": [
            "\r[Succeeded / Failed / Total] 12 / 5 / 29: : 29it [00:03,  7.52it/s]"
          ],
          "name": "stderr"
        },
        {
          "output_type": "display_data",
          "data": {
            "text/html": [
              "<font color = red>Negative (64%)</font> --> <font color = green>Positive (52%)</font><br>i had to <font color = red>look</font> <font color = red>away</font> - this was god <font color = red>awful</font> . <br>i had to <font color = green>looks</font> <font color = green>apart</font> - this was god <font color = green>lawful</font> . "
            ],
            "text/plain": [
              "<IPython.core.display.HTML object>"
            ]
          },
          "metadata": {
            "tags": []
          }
        },
        {
          "output_type": "stream",
          "text": [
            "[Succeeded / Failed / Total] 13 / 5 / 30: : 30it [00:04,  7.49it/s]"
          ],
          "name": "stderr"
        },
        {
          "output_type": "display_data",
          "data": {
            "text/html": [
              "<font color = red>Negative (58%)</font> --> <font color = gray>[SKIPPED]</font><br>thanks to scott 's charismatic roger and eisenberg 's sweet nephew , roger dodger is one of the most compelling variations on in the company of men . "
            ],
            "text/plain": [
              "<IPython.core.display.HTML object>"
            ]
          },
          "metadata": {
            "tags": []
          }
        },
        {
          "output_type": "stream",
          "text": [
            "\r[Succeeded / Failed / Total] 13 / 5 / 31: : 31it [00:04,  7.70it/s]"
          ],
          "name": "stderr"
        },
        {
          "output_type": "display_data",
          "data": {
            "text/html": [
              "<font color = red>Negative (85%)</font> --> <font color = green>Positive (56%)</font><br>... designed to provide a <font color = red>mix</font> of smiles and tears , `` <font color = red>crossroads</font> '' <font color = red>instead</font> provokes a <font color = red>handful</font> of unintentional <font color = red>howlers</font> and numerous yawns . <br>... designed to provide a <font color = green>mixup</font> of smiles and tears , `` <font color = green>crossroad</font> '' <font color = green>simply</font> provokes a <font color = green>mindful</font> of unintentional <font color = green>bowlers</font> and numerous yawns . "
            ],
            "text/plain": [
              "<IPython.core.display.HTML object>"
            ]
          },
          "metadata": {
            "tags": []
          }
        },
        {
          "output_type": "stream",
          "text": [
            "\r[Succeeded / Failed / Total] 14 / 5 / 32: : 32it [00:04,  7.45it/s]"
          ],
          "name": "stderr"
        },
        {
          "output_type": "display_data",
          "data": {
            "text/html": [
              "<font color = red>Negative (66%)</font> --> <font color = gray>[SKIPPED]</font><br>a gorgeous , witty , seductive movie . "
            ],
            "text/plain": [
              "<IPython.core.display.HTML object>"
            ]
          },
          "metadata": {
            "tags": []
          }
        },
        {
          "output_type": "stream",
          "text": [
            "\r[Succeeded / Failed / Total] 14 / 5 / 33: : 33it [00:04,  7.64it/s]"
          ],
          "name": "stderr"
        },
        {
          "output_type": "display_data",
          "data": {
            "text/html": [
              "<font color = green>Positive (57%)</font> --> <font color = gray>[SKIPPED]</font><br>if the movie succeeds in instilling a wary sense of ` there but for the grace of god , ' it is far too self-conscious to draw you deeply into its world . "
            ],
            "text/plain": [
              "<IPython.core.display.HTML object>"
            ]
          },
          "metadata": {
            "tags": []
          }
        },
        {
          "output_type": "stream",
          "text": [
            "[Succeeded / Failed / Total] 14 / 5 / 34: : 34it [00:04,  7.83it/s]"
          ],
          "name": "stderr"
        },
        {
          "output_type": "display_data",
          "data": {
            "text/html": [
              "<font color = red>Negative (87%)</font> --> <font color = red>[FAILED]</font><br>it does n't believe in itself , it has no sense of humor ... it 's just plain bored . "
            ],
            "text/plain": [
              "<IPython.core.display.HTML object>"
            ]
          },
          "metadata": {
            "tags": []
          }
        },
        {
          "output_type": "stream",
          "text": [
            "\r[Succeeded / Failed / Total] 14 / 6 / 35: : 35it [00:04,  7.66it/s]"
          ],
          "name": "stderr"
        },
        {
          "output_type": "display_data",
          "data": {
            "text/html": [
              "<font color = green>Positive (67%)</font> --> <font color = gray>[SKIPPED]</font><br>a sequence of ridiculous shoot - 'em - up scenes . "
            ],
            "text/plain": [
              "<IPython.core.display.HTML object>"
            ]
          },
          "metadata": {
            "tags": []
          }
        },
        {
          "output_type": "stream",
          "text": [
            "\r[Succeeded / Failed / Total] 14 / 6 / 36: : 36it [00:04,  7.85it/s]"
          ],
          "name": "stderr"
        },
        {
          "output_type": "display_data",
          "data": {
            "text/html": [
              "<font color = green>Positive (55%)</font> --> <font color = red>Negative (59%)</font><br>the weight of the piece , the <font color = green>unerring</font> <font color = green>professionalism</font> of the chilly <font color = green>production</font> , and the fascination embedded in the lurid topic prove recommendation enough . <br>the weight of the piece , the <font color = red>erring</font> <font color = red>smartism</font> of the chilly <font color = red>overproduction</font> , and the fascination embedded in the lurid topic prove recommendation enough . "
            ],
            "text/plain": [
              "<IPython.core.display.HTML object>"
            ]
          },
          "metadata": {
            "tags": []
          }
        },
        {
          "output_type": "stream",
          "text": [
            "\r[Succeeded / Failed / Total] 15 / 6 / 37: : 37it [00:04,  7.64it/s]"
          ],
          "name": "stderr"
        },
        {
          "output_type": "display_data",
          "data": {
            "text/html": [
              "<font color = green>Positive (89%)</font> --> <font color = gray>[SKIPPED]</font><br>( w ) hile long on amiable monkeys and worthy environmentalism , jane goodall 's wild chimpanzees is short on the thrills the oversize medium demands . "
            ],
            "text/plain": [
              "<IPython.core.display.HTML object>"
            ]
          },
          "metadata": {
            "tags": []
          }
        },
        {
          "output_type": "stream",
          "text": [
            "[Succeeded / Failed / Total] 15 / 6 / 38: : 38it [00:04,  7.80it/s]"
          ],
          "name": "stderr"
        },
        {
          "output_type": "display_data",
          "data": {
            "text/html": [
              "<font color = red>Negative (54%)</font> --> <font color = gray>[SKIPPED]</font><br>as surreal as a dream and as detailed as a photograph , as visually dexterous as it is at times imaginatively overwhelming . "
            ],
            "text/plain": [
              "<IPython.core.display.HTML object>"
            ]
          },
          "metadata": {
            "tags": []
          }
        },
        {
          "output_type": "stream",
          "text": [
            "\r[Succeeded / Failed / Total] 15 / 6 / 39: : 39it [00:04,  7.98it/s]"
          ],
          "name": "stderr"
        },
        {
          "output_type": "display_data",
          "data": {
            "text/html": [
              "<font color = red>Negative (56%)</font> --> <font color = gray>[SKIPPED]</font><br>escaping the studio , piccoli is warmly affecting and so is this adroitly minimalist movie . "
            ],
            "text/plain": [
              "<IPython.core.display.HTML object>"
            ]
          },
          "metadata": {
            "tags": []
          }
        },
        {
          "output_type": "stream",
          "text": [
            "\r[Succeeded / Failed / Total] 15 / 6 / 40: : 40it [00:04,  8.15it/s]"
          ],
          "name": "stderr"
        },
        {
          "output_type": "display_data",
          "data": {
            "text/html": [
              "<font color = red>Negative (51%)</font> --> <font color = gray>[SKIPPED]</font><br>there 's ... tremendous energy from the cast , a sense of playfulness and excitement that seems appropriate . "
            ],
            "text/plain": [
              "<IPython.core.display.HTML object>"
            ]
          },
          "metadata": {
            "tags": []
          }
        },
        {
          "output_type": "stream",
          "text": [
            "\r[Succeeded / Failed / Total] 15 / 6 / 41: : 41it [00:04,  8.31it/s]"
          ],
          "name": "stderr"
        },
        {
          "output_type": "display_data",
          "data": {
            "text/html": [
              "<font color = green>Positive (65%)</font> --> <font color = red>Negative (68%)</font><br>this <font color = green>illuminating</font> <font color = green>documentary</font> transcends our preconceived vision of the holy land and its inhabitants , revealing the human complexities beneath . <br>this <font color = red>illumination</font> <font color = red>mockumentary</font> transcends our preconceived vision of the holy land and its inhabitants , revealing the human complexities beneath . "
            ],
            "text/plain": [
              "<IPython.core.display.HTML object>"
            ]
          },
          "metadata": {
            "tags": []
          }
        },
        {
          "output_type": "stream",
          "text": [
            "[Succeeded / Failed / Total] 16 / 6 / 42: : 42it [00:05,  8.24it/s]"
          ],
          "name": "stderr"
        },
        {
          "output_type": "display_data",
          "data": {
            "text/html": [
              "<font color = red>Negative (54%)</font> --> <font color = gray>[SKIPPED]</font><br>the subtle strength of `` elling '' is that it never loses touch with the reality of the grim situation . "
            ],
            "text/plain": [
              "<IPython.core.display.HTML object>"
            ]
          },
          "metadata": {
            "tags": []
          }
        },
        {
          "output_type": "stream",
          "text": [
            "\r[Succeeded / Failed / Total] 16 / 6 / 43: : 43it [00:05,  8.40it/s]"
          ],
          "name": "stderr"
        },
        {
          "output_type": "display_data",
          "data": {
            "text/html": [
              "<font color = red>Negative (68%)</font> --> <font color = gray>[SKIPPED]</font><br>holm ... embodies the character with an effortlessly regal charisma . "
            ],
            "text/plain": [
              "<IPython.core.display.HTML object>"
            ]
          },
          "metadata": {
            "tags": []
          }
        },
        {
          "output_type": "stream",
          "text": [
            "\r[Succeeded / Failed / Total] 16 / 6 / 44: : 44it [00:05,  8.57it/s]"
          ],
          "name": "stderr"
        },
        {
          "output_type": "display_data",
          "data": {
            "text/html": [
              "<font color = red>Negative (75%)</font> --> <font color = green>Positive (63%)</font><br>the title not only <font color = red>describes</font> its main <font color = red>characters</font> , but the <font color = red>lazy</font> <font color = red>people</font> behind the <font color = red>camera</font> as <font color = red>well</font> . <br>the title not only <font color = green>describing</font> its main <font color = green>character</font> , but the <font color = green>buggy</font> <font color = green>laypeople</font> behind the <font color = green>cameras</font> as <font color = green>such</font> . "
            ],
            "text/plain": [
              "<IPython.core.display.HTML object>"
            ]
          },
          "metadata": {
            "tags": []
          }
        },
        {
          "output_type": "stream",
          "text": [
            "\r[Succeeded / Failed / Total] 17 / 6 / 45: : 45it [00:05,  8.32it/s]"
          ],
          "name": "stderr"
        },
        {
          "output_type": "display_data",
          "data": {
            "text/html": [
              "<font color = red>Negative (83%)</font> --> <font color = red>[FAILED]</font><br>it offers little beyond the momentary joys of pretty and weightless intellectual entertainment . "
            ],
            "text/plain": [
              "<IPython.core.display.HTML object>"
            ]
          },
          "metadata": {
            "tags": []
          }
        },
        {
          "output_type": "stream",
          "text": [
            "[Succeeded / Failed / Total] 17 / 7 / 46: : 46it [00:05,  8.10it/s]"
          ],
          "name": "stderr"
        },
        {
          "output_type": "display_data",
          "data": {
            "text/html": [
              "<font color = red>Negative (67%)</font> --> <font color = green>Positive (52%)</font><br>a <font color = red>synthesis</font> of cliches and <font color = red>absurdities</font> that <font color = red>seems</font> positively decadent in its cinematic <font color = red>flash</font> and <font color = red>emptiness</font> . <br>a <font color = green>synthesise</font> of cliches and <font color = green>absurdity</font> that <font color = green>seem</font> positively decadent in its cinematic <font color = green>flashy</font> and <font color = green>godliness</font> . "
            ],
            "text/plain": [
              "<IPython.core.display.HTML object>"
            ]
          },
          "metadata": {
            "tags": []
          }
        },
        {
          "output_type": "stream",
          "text": [
            "[Succeeded / Failed / Total] 18 / 7 / 47: : 47it [00:05,  7.90it/s]"
          ],
          "name": "stderr"
        },
        {
          "output_type": "stream",
          "text": [
            "+-------------------------------+--------+\n",
            "| Attack Results                |        |\n",
            "+-------------------------------+--------+\n",
            "| Number of successful attacks: | 18     |\n",
            "| Number of failed attacks:     | 7      |\n",
            "| Number of skipped attacks:    | 22     |\n",
            "| Original accuracy:            | 53.19% |\n",
            "| Accuracy under attack:        | 14.89% |\n",
            "| Attack success rate:          | 72.0%  |\n",
            "| Average perturbed word %:     | 20.65% |\n",
            "| Average num. words per input: | 16.53  |\n",
            "| Avg num queries:              | 23.2   |\n",
            "+-------------------------------+--------+"
          ],
          "name": "stdout"
        },
        {
          "output_type": "stream",
          "text": [
            "\n",
            "\u001b[34;1mtextattack\u001b[0m: Attack time: 5.962501049041748s\n"
          ],
          "name": "stderr"
        }
      ]
    },
    {
      "cell_type": "code",
      "metadata": {
        "colab": {
          "base_uri": "https://localhost:8080/"
        },
        "id": "2nClG5Y7UWeo",
        "outputId": "c85a4058-5fa0-47e5-e89c-4e4097eec56c"
      },
      "source": [
        "from textattack.search_methods import GreedyWordSwapWIR\n",
        "from textattack.constraints.pre_transformation import RepeatModification, StopwordModification\n",
        "from textattack.shared import Attack\n",
        "from textattack.goal_functions import UntargetedClassification\n",
        "from textattack.datasets import HuggingFaceDataset\n",
        "\n",
        "# We're going to use our word swap class as the attack transformation.\n",
        "transformation = Swapper_()\n",
        "# We'll constrain modification of already modified indices and stopwords\n",
        "constraints = [RepeatModification(),\n",
        "               StopwordModification()]\n",
        "#seach method\n",
        "search_method = GreedyWordSwapWIR()\n",
        "# Create the goal function using the model\n",
        "\n",
        "goal_function = UntargetedClassification(model_wrapper)\n",
        "\n",
        "# Now, let's make the attack from the 4 components:\n",
        "attack = Attack(goal_function, constraints, transformation, search_method)\n",
        "\n",
        "dataset = HuggingFaceDataset(\"glue\",\"sst2\", \"validation\")"
      ],
      "execution_count": 26,
      "outputs": [
        {
          "output_type": "stream",
          "text": [
            "\u001b[34;1mtextattack\u001b[0m: Unknown if model of class <class 'transformers.models.distilbert.modeling_distilbert.DistilBertForSequenceClassification'> compatible with goal function <class 'textattack.goal_functions.classification.untargeted_classification.UntargetedClassification'>.\n",
            "Reusing dataset glue (/root/.cache/huggingface/datasets/glue/sst2/1.0.0/dacbe3125aa31d7f70367a07a8a9e72a5a0bfeb5fc42e75c9db75b96da6053ad)\n",
            "\u001b[34;1mtextattack\u001b[0m: Loading \u001b[94mdatasets\u001b[0m dataset \u001b[94mglue\u001b[0m, subset \u001b[94msst2\u001b[0m, split \u001b[94mvalidation\u001b[0m.\n"
          ],
          "name": "stderr"
        }
      ]
    },
    {
      "cell_type": "code",
      "metadata": {
        "colab": {
          "base_uri": "https://localhost:8080/"
        },
        "id": "Lhib3wb0UXNp",
        "outputId": "c60d2a24-1f91-4304-e8aa-3602b0d29741"
      },
      "source": [
        "print(attack)"
      ],
      "execution_count": 27,
      "outputs": [
        {
          "output_type": "stream",
          "text": [
            "Attack(\n",
            "  (search_method): GreedyWordSwapWIR(\n",
            "    (wir_method):  unk\n",
            "  )\n",
            "  (goal_function):  UntargetedClassification\n",
            "  (transformation):  Swapper_\n",
            "  (constraints): \n",
            "    (0): RepeatModification\n",
            "    (1): StopwordModification\n",
            "  (is_black_box):  True\n",
            ")\n"
          ],
          "name": "stdout"
        }
      ]
    },
    {
      "cell_type": "code",
      "metadata": {
        "colab": {
          "base_uri": "https://localhost:8080/",
          "height": 1000
        },
        "id": "vcOLAVYdUYaj",
        "outputId": "06ed56da-a16e-427a-918c-15ae604a64c4"
      },
      "source": [
        "from collections import deque\n",
        "\n",
        "import textattack\n",
        "import tqdm\n",
        "import time\n",
        "from IPython.display import display, HTML\n",
        "num_examples = 25\n",
        "num_remaining_attacks = num_examples\n",
        "pbar = tqdm.tqdm(total=num_remaining_attacks, smoothing=0)\n",
        "\n",
        "worklist = deque(range(0, num_examples))\n",
        "worklist_tail = worklist[-1]\n",
        "\n",
        "attack_log_manager = textattack.loggers.AttackLogManager()\n",
        "\n",
        "load_time = time.time()\n",
        "        \n",
        "num_results = 0\n",
        "num_failures = 0\n",
        "num_successes = 0\n",
        "for result in attack.attack_dataset(dataset, indices=worklist):\n",
        "    result_html_str = result.__str__(color_method=\"html\").replace(\"\\n\\n\", \"<br>\")\n",
        "    display(HTML(result_html_str))\n",
        "    attack_log_manager.log_result(result)\n",
        "            \n",
        "    if not isinstance(result, textattack.attack_results.SkippedAttackResult):\n",
        "        pbar.update(1)\n",
        "    else:\n",
        "        worklist_tail += 1\n",
        "        pbar.update(1)\n",
        "        worklist.append(worklist_tail)\n",
        "\n",
        "    num_results += 1\n",
        "\n",
        "    if (\n",
        "        type(result) == textattack.attack_results.SuccessfulAttackResult\n",
        "        or type(result) == textattack.attack_results.MaximizedAttackResult\n",
        "    ):\n",
        "        num_successes += 1\n",
        "                \n",
        "    if type(result) == textattack.attack_results.FailedAttackResult:\n",
        "        num_failures += 1\n",
        "    pbar.set_description(\n",
        "        \"[Succeeded / Failed / Total] {} / {} / {}\".format(\n",
        "            num_successes, num_failures, num_results\n",
        "        )\n",
        "    )\n",
        "\n",
        "pbar.close()\n",
        "\n",
        "attack_log_manager.enable_stdout()\n",
        "attack_log_manager.log_summary()\n",
        "attack_log_manager.flush()\n",
        "        \n",
        "textattack.shared.logger.info(f\"Attack time: {time.time() - load_time}s\")"
      ],
      "execution_count": 28,
      "outputs": [
        {
          "output_type": "stream",
          "text": [
            "\r  0%|          | 0/25 [00:00<?, ?it/s]"
          ],
          "name": "stderr"
        },
        {
          "output_type": "display_data",
          "data": {
            "text/html": [
              "<font color = red>Negative (84%)</font> --> <font color = gray>[SKIPPED]</font><br>it 's a charming and often affecting journey . "
            ],
            "text/plain": [
              "<IPython.core.display.HTML object>"
            ]
          },
          "metadata": {
            "tags": []
          }
        },
        {
          "output_type": "stream",
          "text": [
            "\r[Succeeded / Failed / Total] 0 / 0 / 1:   4%|▍         | 1/25 [00:00<00:00, 61.76it/s]"
          ],
          "name": "stderr"
        },
        {
          "output_type": "display_data",
          "data": {
            "text/html": [
              "<font color = red>Negative (79%)</font> --> <font color = red>[FAILED]</font><br>unflinchingly bleak and desperate "
            ],
            "text/plain": [
              "<IPython.core.display.HTML object>"
            ]
          },
          "metadata": {
            "tags": []
          }
        },
        {
          "output_type": "stream",
          "text": [
            "\r[Succeeded / Failed / Total] 0 / 1 / 2:   8%|▊         | 2/25 [00:00<00:01, 21.06it/s]"
          ],
          "name": "stderr"
        },
        {
          "output_type": "display_data",
          "data": {
            "text/html": [
              "<font color = green>Positive (67%)</font> --> <font color = red>Negative (51%)</font><br>allows <font color = green>us</font> to hope that nolan is poised to embark a major career as a commercial yet inventive filmmaker . <br>allows <font color = red>states</font> to hope that nolan is poised to embark a major career as a commercial yet inventive filmmaker . "
            ],
            "text/plain": [
              "<IPython.core.display.HTML object>"
            ]
          },
          "metadata": {
            "tags": []
          }
        },
        {
          "output_type": "stream",
          "text": [
            "[Succeeded / Failed / Total] 1 / 1 / 3:  12%|█▏        | 3/25 [00:00<00:01, 12.18it/s]"
          ],
          "name": "stderr"
        },
        {
          "output_type": "display_data",
          "data": {
            "text/html": [
              "<font color = green>Positive (68%)</font> --> <font color = red>Negative (55%)</font><br>the acting , <font color = green>costumes</font> , music , cinematography and sound are all astounding given the production 's <font color = green>austere</font> locales . <br>the acting , <font color = red>outfits</font> , music , cinematography and sound are all astounding given the production 's <font color = red>philanthropy</font> locales . "
            ],
            "text/plain": [
              "<IPython.core.display.HTML object>"
            ]
          },
          "metadata": {
            "tags": []
          }
        },
        {
          "output_type": "stream",
          "text": [
            "\r[Succeeded / Failed / Total] 2 / 1 / 4:  16%|█▌        | 4/25 [00:00<00:02,  9.80it/s]"
          ],
          "name": "stderr"
        },
        {
          "output_type": "display_data",
          "data": {
            "text/html": [
              "<font color = red>Negative (66%)</font> --> <font color = red>[FAILED]</font><br>it 's slow -- very , very slow . "
            ],
            "text/plain": [
              "<IPython.core.display.HTML object>"
            ]
          },
          "metadata": {
            "tags": []
          }
        },
        {
          "output_type": "stream",
          "text": [
            "\r[Succeeded / Failed / Total] 2 / 2 / 5:  20%|██        | 5/25 [00:00<00:01, 10.10it/s]"
          ],
          "name": "stderr"
        },
        {
          "output_type": "display_data",
          "data": {
            "text/html": [
              "<font color = red>Negative (61%)</font> --> <font color = gray>[SKIPPED]</font><br>although laced with humor and a few fanciful touches , the film is a refreshingly serious look at young women . "
            ],
            "text/plain": [
              "<IPython.core.display.HTML object>"
            ]
          },
          "metadata": {
            "tags": []
          }
        },
        {
          "output_type": "stream",
          "text": [
            "[Succeeded / Failed / Total] 2 / 2 / 6:  24%|██▍       | 6/25 [00:00<00:01, 11.63it/s]"
          ],
          "name": "stderr"
        },
        {
          "output_type": "display_data",
          "data": {
            "text/html": [
              "<font color = green>Positive (66%)</font> --> <font color = gray>[SKIPPED]</font><br>a sometimes tedious film . "
            ],
            "text/plain": [
              "<IPython.core.display.HTML object>"
            ]
          },
          "metadata": {
            "tags": []
          }
        },
        {
          "output_type": "stream",
          "text": [
            "\r[Succeeded / Failed / Total] 2 / 2 / 7:  28%|██▊       | 7/25 [00:00<00:01, 13.09it/s]"
          ],
          "name": "stderr"
        },
        {
          "output_type": "display_data",
          "data": {
            "text/html": [
              "<font color = green>Positive (78%)</font> --> <font color = gray>[SKIPPED]</font><br>or doing last year 's taxes with your ex-wife . "
            ],
            "text/plain": [
              "<IPython.core.display.HTML object>"
            ]
          },
          "metadata": {
            "tags": []
          }
        },
        {
          "output_type": "stream",
          "text": [
            "\r[Succeeded / Failed / Total] 2 / 2 / 8:  32%|███▏      | 8/25 [00:00<00:01, 14.39it/s]"
          ],
          "name": "stderr"
        },
        {
          "output_type": "display_data",
          "data": {
            "text/html": [
              "<font color = red>Negative (68%)</font> --> <font color = gray>[SKIPPED]</font><br>you do n't have to know about music to appreciate the film 's easygoing blend of comedy and romance . "
            ],
            "text/plain": [
              "<IPython.core.display.HTML object>"
            ]
          },
          "metadata": {
            "tags": []
          }
        },
        {
          "output_type": "stream",
          "text": [
            "\r[Succeeded / Failed / Total] 2 / 2 / 9:  36%|███▌      | 9/25 [00:00<00:01, 15.23it/s]"
          ],
          "name": "stderr"
        },
        {
          "output_type": "display_data",
          "data": {
            "text/html": [
              "<font color = red>Negative (66%)</font> --> <font color = green>Positive (50%)</font><br>in exactly 89 minutes , most of which passed as <font color = red>slowly</font> as if i 'd been <font color = red>sitting</font> naked on an igloo , formula 51 sank from quirky to jerky to <font color = red>utter</font> turkey . <br>in exactly 89 minutes , most of which passed as <font color = green>rapidly</font> as if i 'd been <font color = green>seated</font> naked on an igloo , formula 51 sank from quirky to jerky to <font color = green>shameful</font> turkey . "
            ],
            "text/plain": [
              "<IPython.core.display.HTML object>"
            ]
          },
          "metadata": {
            "tags": []
          }
        },
        {
          "output_type": "stream",
          "text": [
            "[Succeeded / Failed / Total] 3 / 2 / 10:  40%|████      | 10/25 [00:00<00:01, 12.12it/s]"
          ],
          "name": "stderr"
        },
        {
          "output_type": "display_data",
          "data": {
            "text/html": [
              "<font color = green>Positive (57%)</font> --> <font color = red>Negative (60%)</font><br>the mesmerizing performances of the leads <font color = green>keep</font> the film grounded and keep the audience <font color = green>riveted</font> . <br>the mesmerizing performances of the leads <font color = red>bring</font> the film grounded and keep the audience <font color = red>tongs</font> . "
            ],
            "text/plain": [
              "<IPython.core.display.HTML object>"
            ]
          },
          "metadata": {
            "tags": []
          }
        },
        {
          "output_type": "stream",
          "text": [
            "\r[Succeeded / Failed / Total] 4 / 2 / 11:  44%|████▍     | 11/25 [00:00<00:01, 11.36it/s]"
          ],
          "name": "stderr"
        },
        {
          "output_type": "display_data",
          "data": {
            "text/html": [
              "<font color = green>Positive (59%)</font> --> <font color = gray>[SKIPPED]</font><br>it takes a strange kind of laziness to waste the talents of robert forster , anne meara , eugene levy , and reginald veljohnson all in the same movie . "
            ],
            "text/plain": [
              "<IPython.core.display.HTML object>"
            ]
          },
          "metadata": {
            "tags": []
          }
        },
        {
          "output_type": "stream",
          "text": [
            "\r[Succeeded / Failed / Total] 4 / 2 / 12:  48%|████▊     | 12/25 [00:00<00:01, 12.16it/s]"
          ],
          "name": "stderr"
        },
        {
          "output_type": "display_data",
          "data": {
            "text/html": [
              "<font color = red>Negative (51%)</font> --> <font color = green>Positive (55%)</font><br>... the film suffers from a <font color = red>lack</font> of <font color = red>humor</font> ( something needed to balance out the violence ) ... <br>... the film suffers from a <font color = green>absence</font> of <font color = green>humour</font> ( something needed to balance out the violence ) ... "
            ],
            "text/plain": [
              "<IPython.core.display.HTML object>"
            ]
          },
          "metadata": {
            "tags": []
          }
        },
        {
          "output_type": "stream",
          "text": [
            "\r[Succeeded / Failed / Total] 5 / 2 / 13:  52%|█████▏    | 13/25 [00:01<00:01, 11.39it/s]"
          ],
          "name": "stderr"
        },
        {
          "output_type": "display_data",
          "data": {
            "text/html": [
              "<font color = red>Negative (84%)</font> --> <font color = gray>[SKIPPED]</font><br>we root for ( clara and paul ) , even like them , though perhaps it 's an emotion closer to pity . "
            ],
            "text/plain": [
              "<IPython.core.display.HTML object>"
            ]
          },
          "metadata": {
            "tags": []
          }
        },
        {
          "output_type": "stream",
          "text": [
            "[Succeeded / Failed / Total] 5 / 2 / 14:  56%|█████▌    | 14/25 [00:01<00:00, 11.94it/s]"
          ],
          "name": "stderr"
        },
        {
          "output_type": "display_data",
          "data": {
            "text/html": [
              "<font color = red>Negative (75%)</font> --> <font color = green>Positive (53%)</font><br><font color = red>even</font> <font color = red>horror</font> <font color = red>fans</font> will most likely not <font color = red>find</font> what they 're seeking with trouble every <font color = red>day</font> ; the <font color = red>movie</font> lacks both thrills and <font color = red>humor</font> . <br><font color = green>indeed</font> <font color = green>suspense</font> <font color = green>pundits</font> will most likely not <font color = green>locate</font> what they 're seeking with trouble every <font color = green>candlemas</font> ; the <font color = green>film</font> lacks both thrills and <font color = green>humour</font> . "
            ],
            "text/plain": [
              "<IPython.core.display.HTML object>"
            ]
          },
          "metadata": {
            "tags": []
          }
        },
        {
          "output_type": "stream",
          "text": [
            "\r[Succeeded / Failed / Total] 6 / 2 / 15:  60%|██████    | 15/25 [00:01<00:01,  9.59it/s]"
          ],
          "name": "stderr"
        },
        {
          "output_type": "display_data",
          "data": {
            "text/html": [
              "<font color = red>Negative (65%)</font> --> <font color = gray>[SKIPPED]</font><br>a gorgeous , high-spirited musical from india that exquisitely blends music , dance , song , and high drama . "
            ],
            "text/plain": [
              "<IPython.core.display.HTML object>"
            ]
          },
          "metadata": {
            "tags": []
          }
        },
        {
          "output_type": "stream",
          "text": [
            "\r[Succeeded / Failed / Total] 6 / 2 / 16:  64%|██████▍   | 16/25 [00:01<00:00, 10.09it/s]"
          ],
          "name": "stderr"
        },
        {
          "output_type": "display_data",
          "data": {
            "text/html": [
              "<font color = red>Negative (69%)</font> --> <font color = gray>[SKIPPED]</font><br>the emotions are raw and will strike a nerve with anyone who 's ever had family trauma . "
            ],
            "text/plain": [
              "<IPython.core.display.HTML object>"
            ]
          },
          "metadata": {
            "tags": []
          }
        },
        {
          "output_type": "stream",
          "text": [
            "\r[Succeeded / Failed / Total] 6 / 2 / 17:  68%|██████▊   | 17/25 [00:01<00:00, 10.52it/s]"
          ],
          "name": "stderr"
        },
        {
          "output_type": "display_data",
          "data": {
            "text/html": [
              "<font color = red>Negative (67%)</font> --> <font color = gray>[SKIPPED]</font><br>audrey tatou has a knack for picking roles that magnify her outrageous charm , and in this literate french comedy , she 's as morning-glory exuberant as she was in amélie . "
            ],
            "text/plain": [
              "<IPython.core.display.HTML object>"
            ]
          },
          "metadata": {
            "tags": []
          }
        },
        {
          "output_type": "stream",
          "text": [
            "[Succeeded / Failed / Total] 6 / 2 / 18:  72%|███████▏  | 18/25 [00:01<00:00, 10.92it/s]"
          ],
          "name": "stderr"
        },
        {
          "output_type": "display_data",
          "data": {
            "text/html": [
              "<font color = green>Positive (52%)</font> --> <font color = gray>[SKIPPED]</font><br>... the movie is just a plain old monster . "
            ],
            "text/plain": [
              "<IPython.core.display.HTML object>"
            ]
          },
          "metadata": {
            "tags": []
          }
        },
        {
          "output_type": "stream",
          "text": [
            "\r[Succeeded / Failed / Total] 6 / 2 / 19:  76%|███████▌  | 19/25 [00:01<00:00, 11.40it/s]"
          ],
          "name": "stderr"
        },
        {
          "output_type": "display_data",
          "data": {
            "text/html": [
              "<font color = red>Negative (90%)</font> --> <font color = green>Positive (57%)</font><br>in its best <font color = red>moments</font> , <font color = red>resembles</font> a <font color = red>bad</font> <font color = red>high</font> <font color = red>school</font> production of grease , <font color = red>without</font> benefit of <font color = red>song</font> . <br>in its best <font color = green>moment</font> , <font color = green>resembled</font> a <font color = green>good</font> <font color = green>low</font> <font color = green>college</font> production of grease , <font color = green>whatsoever</font> benefit of <font color = green>songs</font> . "
            ],
            "text/plain": [
              "<IPython.core.display.HTML object>"
            ]
          },
          "metadata": {
            "tags": []
          }
        },
        {
          "output_type": "stream",
          "text": [
            "\r[Succeeded / Failed / Total] 7 / 2 / 20:  80%|████████  | 20/25 [00:01<00:00, 10.57it/s]"
          ],
          "name": "stderr"
        },
        {
          "output_type": "display_data",
          "data": {
            "text/html": [
              "<font color = red>Negative (79%)</font> --> <font color = green>Positive (55%)</font><br><font color = red>pumpkin</font> takes an admirable look at the hypocrisy of political correctness , but it does so with such an <font color = red>uneven</font> tone that you never <font color = red>know</font> when <font color = red>humor</font> ends and tragedy begins . <br><font color = green>cake</font> takes an admirable look at the hypocrisy of political correctness , but it does so with such an <font color = green>precipitous</font> tone that you never <font color = green>think</font> when <font color = green>humour</font> ends and tragedy begins . "
            ],
            "text/plain": [
              "<IPython.core.display.HTML object>"
            ]
          },
          "metadata": {
            "tags": []
          }
        },
        {
          "output_type": "stream",
          "text": [
            "\r[Succeeded / Failed / Total] 8 / 2 / 21:  84%|████████▍ | 21/25 [00:02<00:00,  9.55it/s]"
          ],
          "name": "stderr"
        },
        {
          "output_type": "display_data",
          "data": {
            "text/html": [
              "<font color = red>Negative (78%)</font> --> <font color = green>Positive (53%)</font><br>the <font color = red>iditarod</font> <font color = red>lasts</font> for <font color = red>days</font> - this just felt <font color = red>like</font> it did . <br>the <font color = green>burro</font> <font color = green>lasted</font> for <font color = green>months</font> - this just felt <font color = green>resemble</font> it did . "
            ],
            "text/plain": [
              "<IPython.core.display.HTML object>"
            ]
          },
          "metadata": {
            "tags": []
          }
        },
        {
          "output_type": "stream",
          "text": [
            "[Succeeded / Failed / Total] 9 / 2 / 22:  88%|████████▊ | 22/25 [00:02<00:00,  9.30it/s]"
          ],
          "name": "stderr"
        },
        {
          "output_type": "display_data",
          "data": {
            "text/html": [
              "<font color = red>Negative (73%)</font> --> <font color = green>Positive (61%)</font><br><font color = red>holden</font> caulfield did it <font color = red>better</font> . <br><font color = green>opel</font> caulfield did it <font color = green>safer</font> . "
            ],
            "text/plain": [
              "<IPython.core.display.HTML object>"
            ]
          },
          "metadata": {
            "tags": []
          }
        },
        {
          "output_type": "stream",
          "text": [
            "\r[Succeeded / Failed / Total] 10 / 2 / 23:  92%|█████████▏| 23/25 [00:02<00:00,  9.37it/s]"
          ],
          "name": "stderr"
        },
        {
          "output_type": "display_data",
          "data": {
            "text/html": [
              "<font color = green>Positive (59%)</font> --> <font color = red>Negative (70%)</font><br>a delectable and intriguing <font color = green>thriller</font> filled with surprises , read my lips is an original . <br>a delectable and intriguing <font color = red>suspense</font> filled with surprises , read my lips is an original . "
            ],
            "text/plain": [
              "<IPython.core.display.HTML object>"
            ]
          },
          "metadata": {
            "tags": []
          }
        },
        {
          "output_type": "stream",
          "text": [
            "\r[Succeeded / Failed / Total] 11 / 2 / 24:  96%|█████████▌| 24/25 [00:02<00:00,  9.34it/s]"
          ],
          "name": "stderr"
        },
        {
          "output_type": "display_data",
          "data": {
            "text/html": [
              "<font color = green>Positive (72%)</font> --> <font color = red>[FAILED]</font><br>seldom has a movie so closely matched the spirit of a man and his work . "
            ],
            "text/plain": [
              "<IPython.core.display.HTML object>"
            ]
          },
          "metadata": {
            "tags": []
          }
        },
        {
          "output_type": "stream",
          "text": [
            "\r[Succeeded / Failed / Total] 11 / 3 / 25: 100%|██████████| 25/25 [00:02<00:00,  8.92it/s]"
          ],
          "name": "stderr"
        },
        {
          "output_type": "display_data",
          "data": {
            "text/html": [
              "<font color = red>Negative (76%)</font> --> <font color = red>[FAILED]</font><br>nicks , seemingly uncertain what 's going to make people laugh , runs the gamut from stale parody to raunchy sex gags to formula romantic comedy . "
            ],
            "text/plain": [
              "<IPython.core.display.HTML object>"
            ]
          },
          "metadata": {
            "tags": []
          }
        },
        {
          "output_type": "stream",
          "text": [
            "[Succeeded / Failed / Total] 11 / 4 / 26: : 26it [00:03,  8.00it/s]"
          ],
          "name": "stderr"
        },
        {
          "output_type": "display_data",
          "data": {
            "text/html": [
              "<font color = red>Negative (74%)</font> --> <font color = green>Positive (59%)</font><br>the action <font color = red>switches</font> between <font color = red>past</font> and present , but the material <font color = red>link</font> is too tenuous to <font color = red>anchor</font> the emotional connections that purport to span a 125-year divide . <br>the action <font color = green>plugs</font> between <font color = green>hodiernal</font> and present , but the material <font color = green>linking</font> is too tenuous to <font color = green>trouser</font> the emotional connections that purport to span a 125-year divide . "
            ],
            "text/plain": [
              "<IPython.core.display.HTML object>"
            ]
          },
          "metadata": {
            "tags": []
          }
        },
        {
          "output_type": "stream",
          "text": [
            "\r[Succeeded / Failed / Total] 12 / 4 / 27: : 27it [00:03,  7.65it/s]"
          ],
          "name": "stderr"
        },
        {
          "output_type": "display_data",
          "data": {
            "text/html": [
              "<font color = red>Negative (67%)</font> --> <font color = gray>[SKIPPED]</font><br>it 's an offbeat treat that pokes fun at the democratic exercise while also examining its significance for those who take part . "
            ],
            "text/plain": [
              "<IPython.core.display.HTML object>"
            ]
          },
          "metadata": {
            "tags": []
          }
        },
        {
          "output_type": "stream",
          "text": [
            "\r[Succeeded / Failed / Total] 12 / 4 / 28: : 28it [00:03,  7.88it/s]"
          ],
          "name": "stderr"
        },
        {
          "output_type": "display_data",
          "data": {
            "text/html": [
              "<font color = red>Negative (59%)</font> --> <font color = red>[FAILED]</font><br>it 's a cookie-cutter movie , a cut-and-paste job . "
            ],
            "text/plain": [
              "<IPython.core.display.HTML object>"
            ]
          },
          "metadata": {
            "tags": []
          }
        },
        {
          "output_type": "stream",
          "text": [
            "\r[Succeeded / Failed / Total] 12 / 5 / 29: : 29it [00:03,  7.90it/s]"
          ],
          "name": "stderr"
        },
        {
          "output_type": "display_data",
          "data": {
            "text/html": [
              "<font color = red>Negative (64%)</font> --> <font color = red>[FAILED]</font><br>i had to look away - this was god awful . "
            ],
            "text/plain": [
              "<IPython.core.display.HTML object>"
            ]
          },
          "metadata": {
            "tags": []
          }
        },
        {
          "output_type": "stream",
          "text": [
            "[Succeeded / Failed / Total] 12 / 6 / 30: : 30it [00:03,  7.85it/s]"
          ],
          "name": "stderr"
        },
        {
          "output_type": "display_data",
          "data": {
            "text/html": [
              "<font color = red>Negative (58%)</font> --> <font color = gray>[SKIPPED]</font><br>thanks to scott 's charismatic roger and eisenberg 's sweet nephew , roger dodger is one of the most compelling variations on in the company of men . "
            ],
            "text/plain": [
              "<IPython.core.display.HTML object>"
            ]
          },
          "metadata": {
            "tags": []
          }
        },
        {
          "output_type": "stream",
          "text": [
            "\r[Succeeded / Failed / Total] 12 / 6 / 31: : 31it [00:03,  8.07it/s]"
          ],
          "name": "stderr"
        },
        {
          "output_type": "display_data",
          "data": {
            "text/html": [
              "<font color = red>Negative (85%)</font> --> <font color = green>Positive (64%)</font><br>... <font color = red>designed</font> to provide a <font color = red>mix</font> of <font color = red>smiles</font> and tears , `` <font color = red>crossroads</font> '' instead <font color = red>provokes</font> a <font color = red>handful</font> of <font color = red>unintentional</font> howlers and numerous yawns . <br>... <font color = green>intended</font> to provide a <font color = green>blend</font> of <font color = green>ninotchka</font> and tears , `` <font color = green>hellespont</font> '' instead <font color = green>uncaring</font> a <font color = green>few</font> of <font color = green>undesired</font> howlers and numerous yawns . "
            ],
            "text/plain": [
              "<IPython.core.display.HTML object>"
            ]
          },
          "metadata": {
            "tags": []
          }
        },
        {
          "output_type": "stream",
          "text": [
            "\r[Succeeded / Failed / Total] 13 / 6 / 32: : 32it [00:04,  7.66it/s]"
          ],
          "name": "stderr"
        },
        {
          "output_type": "display_data",
          "data": {
            "text/html": [
              "<font color = red>Negative (66%)</font> --> <font color = gray>[SKIPPED]</font><br>a gorgeous , witty , seductive movie . "
            ],
            "text/plain": [
              "<IPython.core.display.HTML object>"
            ]
          },
          "metadata": {
            "tags": []
          }
        },
        {
          "output_type": "stream",
          "text": [
            "\r[Succeeded / Failed / Total] 13 / 6 / 33: : 33it [00:04,  7.86it/s]"
          ],
          "name": "stderr"
        },
        {
          "output_type": "display_data",
          "data": {
            "text/html": [
              "<font color = green>Positive (57%)</font> --> <font color = gray>[SKIPPED]</font><br>if the movie succeeds in instilling a wary sense of ` there but for the grace of god , ' it is far too self-conscious to draw you deeply into its world . "
            ],
            "text/plain": [
              "<IPython.core.display.HTML object>"
            ]
          },
          "metadata": {
            "tags": []
          }
        },
        {
          "output_type": "stream",
          "text": [
            "[Succeeded / Failed / Total] 13 / 6 / 34: : 34it [00:04,  8.04it/s]"
          ],
          "name": "stderr"
        },
        {
          "output_type": "display_data",
          "data": {
            "text/html": [
              "<font color = red>Negative (87%)</font> --> <font color = green>Positive (51%)</font><br>it does n't <font color = red>believe</font> in itself , it has no <font color = red>sense</font> of humor ... it 's just plain <font color = red>bored</font> . <br>it does n't <font color = green>contend</font> in itself , it has no <font color = green>manner</font> of humor ... it 's just plain <font color = green>unattractive</font> . "
            ],
            "text/plain": [
              "<IPython.core.display.HTML object>"
            ]
          },
          "metadata": {
            "tags": []
          }
        },
        {
          "output_type": "stream",
          "text": [
            "\r[Succeeded / Failed / Total] 14 / 6 / 35: : 35it [00:04,  7.97it/s]"
          ],
          "name": "stderr"
        },
        {
          "output_type": "display_data",
          "data": {
            "text/html": [
              "<font color = green>Positive (67%)</font> --> <font color = gray>[SKIPPED]</font><br>a sequence of ridiculous shoot - 'em - up scenes . "
            ],
            "text/plain": [
              "<IPython.core.display.HTML object>"
            ]
          },
          "metadata": {
            "tags": []
          }
        },
        {
          "output_type": "stream",
          "text": [
            "\r[Succeeded / Failed / Total] 14 / 6 / 36: : 36it [00:04,  8.16it/s]"
          ],
          "name": "stderr"
        },
        {
          "output_type": "display_data",
          "data": {
            "text/html": [
              "<font color = green>Positive (55%)</font> --> <font color = red>Negative (51%)</font><br>the weight of the piece , the unerring professionalism of the chilly production , and the fascination <font color = green>embedded</font> in the <font color = green>lurid</font> topic prove recommendation enough . <br>the weight of the piece , the unerring professionalism of the chilly production , and the fascination <font color = red>pda</font> in the <font color = red>classist</font> topic prove recommendation enough . "
            ],
            "text/plain": [
              "<IPython.core.display.HTML object>"
            ]
          },
          "metadata": {
            "tags": []
          }
        },
        {
          "output_type": "stream",
          "text": [
            "\r[Succeeded / Failed / Total] 15 / 6 / 37: : 37it [00:04,  8.03it/s]"
          ],
          "name": "stderr"
        },
        {
          "output_type": "display_data",
          "data": {
            "text/html": [
              "<font color = green>Positive (89%)</font> --> <font color = gray>[SKIPPED]</font><br>( w ) hile long on amiable monkeys and worthy environmentalism , jane goodall 's wild chimpanzees is short on the thrills the oversize medium demands . "
            ],
            "text/plain": [
              "<IPython.core.display.HTML object>"
            ]
          },
          "metadata": {
            "tags": []
          }
        },
        {
          "output_type": "stream",
          "text": [
            "[Succeeded / Failed / Total] 15 / 6 / 38: : 38it [00:04,  8.20it/s]"
          ],
          "name": "stderr"
        },
        {
          "output_type": "display_data",
          "data": {
            "text/html": [
              "<font color = red>Negative (54%)</font> --> <font color = gray>[SKIPPED]</font><br>as surreal as a dream and as detailed as a photograph , as visually dexterous as it is at times imaginatively overwhelming . "
            ],
            "text/plain": [
              "<IPython.core.display.HTML object>"
            ]
          },
          "metadata": {
            "tags": []
          }
        },
        {
          "output_type": "stream",
          "text": [
            "\r[Succeeded / Failed / Total] 15 / 6 / 39: : 39it [00:04,  8.37it/s]"
          ],
          "name": "stderr"
        },
        {
          "output_type": "display_data",
          "data": {
            "text/html": [
              "<font color = red>Negative (56%)</font> --> <font color = gray>[SKIPPED]</font><br>escaping the studio , piccoli is warmly affecting and so is this adroitly minimalist movie . "
            ],
            "text/plain": [
              "<IPython.core.display.HTML object>"
            ]
          },
          "metadata": {
            "tags": []
          }
        },
        {
          "output_type": "stream",
          "text": [
            "\r[Succeeded / Failed / Total] 15 / 6 / 40: : 40it [00:04,  8.54it/s]"
          ],
          "name": "stderr"
        },
        {
          "output_type": "display_data",
          "data": {
            "text/html": [
              "<font color = red>Negative (51%)</font> --> <font color = gray>[SKIPPED]</font><br>there 's ... tremendous energy from the cast , a sense of playfulness and excitement that seems appropriate . "
            ],
            "text/plain": [
              "<IPython.core.display.HTML object>"
            ]
          },
          "metadata": {
            "tags": []
          }
        },
        {
          "output_type": "stream",
          "text": [
            "\r[Succeeded / Failed / Total] 15 / 6 / 41: : 41it [00:04,  8.72it/s]"
          ],
          "name": "stderr"
        },
        {
          "output_type": "display_data",
          "data": {
            "text/html": [
              "<font color = green>Positive (65%)</font> --> <font color = red>Negative (58%)</font><br>this illuminating <font color = green>documentary</font> transcends our preconceived vision of the holy land and its inhabitants , revealing the human complexities beneath . <br>this illuminating <font color = red>film</font> transcends our preconceived vision of the holy land and its inhabitants , revealing the human complexities beneath . "
            ],
            "text/plain": [
              "<IPython.core.display.HTML object>"
            ]
          },
          "metadata": {
            "tags": []
          }
        },
        {
          "output_type": "stream",
          "text": [
            "[Succeeded / Failed / Total] 16 / 6 / 42: : 42it [00:04,  8.66it/s]"
          ],
          "name": "stderr"
        },
        {
          "output_type": "display_data",
          "data": {
            "text/html": [
              "<font color = red>Negative (54%)</font> --> <font color = gray>[SKIPPED]</font><br>the subtle strength of `` elling '' is that it never loses touch with the reality of the grim situation . "
            ],
            "text/plain": [
              "<IPython.core.display.HTML object>"
            ]
          },
          "metadata": {
            "tags": []
          }
        },
        {
          "output_type": "stream",
          "text": [
            "\r[Succeeded / Failed / Total] 16 / 6 / 43: : 43it [00:04,  8.83it/s]"
          ],
          "name": "stderr"
        },
        {
          "output_type": "display_data",
          "data": {
            "text/html": [
              "<font color = red>Negative (68%)</font> --> <font color = gray>[SKIPPED]</font><br>holm ... embodies the character with an effortlessly regal charisma . "
            ],
            "text/plain": [
              "<IPython.core.display.HTML object>"
            ]
          },
          "metadata": {
            "tags": []
          }
        },
        {
          "output_type": "stream",
          "text": [
            "\r[Succeeded / Failed / Total] 16 / 6 / 44: : 44it [00:04,  9.00it/s]"
          ],
          "name": "stderr"
        },
        {
          "output_type": "display_data",
          "data": {
            "text/html": [
              "<font color = red>Negative (75%)</font> --> <font color = red>[FAILED]</font><br>the title not only describes its main characters , but the lazy people behind the camera as well . "
            ],
            "text/plain": [
              "<IPython.core.display.HTML object>"
            ]
          },
          "metadata": {
            "tags": []
          }
        },
        {
          "output_type": "stream",
          "text": [
            "\r[Succeeded / Failed / Total] 16 / 7 / 45: : 45it [00:05,  8.72it/s]"
          ],
          "name": "stderr"
        },
        {
          "output_type": "display_data",
          "data": {
            "text/html": [
              "<font color = red>Negative (83%)</font> --> <font color = red>[FAILED]</font><br>it offers little beyond the momentary joys of pretty and weightless intellectual entertainment . "
            ],
            "text/plain": [
              "<IPython.core.display.HTML object>"
            ]
          },
          "metadata": {
            "tags": []
          }
        },
        {
          "output_type": "stream",
          "text": [
            "[Succeeded / Failed / Total] 16 / 8 / 46: : 46it [00:05,  8.52it/s]"
          ],
          "name": "stderr"
        },
        {
          "output_type": "display_data",
          "data": {
            "text/html": [
              "<font color = red>Negative (67%)</font> --> <font color = green>Positive (57%)</font><br>a synthesis of cliches and <font color = red>absurdities</font> that <font color = red>seems</font> positively decadent in its cinematic flash and <font color = red>emptiness</font> . <br>a synthesis of cliches and <font color = green>psychokinesis</font> that <font color = green>seemed</font> positively decadent in its cinematic flash and <font color = green>pantheistic</font> . "
            ],
            "text/plain": [
              "<IPython.core.display.HTML object>"
            ]
          },
          "metadata": {
            "tags": []
          }
        },
        {
          "output_type": "stream",
          "text": [
            "[Succeeded / Failed / Total] 17 / 8 / 47: : 47it [00:05,  8.31it/s]"
          ],
          "name": "stderr"
        },
        {
          "output_type": "stream",
          "text": [
            "+-------------------------------+--------+\n",
            "| Attack Results                |        |\n",
            "+-------------------------------+--------+\n",
            "| Number of successful attacks: | 17     |\n",
            "| Number of failed attacks:     | 8      |\n",
            "| Number of skipped attacks:    | 22     |\n",
            "| Original accuracy:            | 53.19% |\n",
            "| Accuracy under attack:        | 17.02% |\n",
            "| Attack success rate:          | 68.0%  |\n",
            "| Average perturbed word %:     | 19.09% |\n",
            "| Average num. words per input: | 16.53  |\n",
            "| Avg num queries:              | 22.64  |\n",
            "+-------------------------------+--------+"
          ],
          "name": "stdout"
        },
        {
          "output_type": "stream",
          "text": [
            "\n",
            "\u001b[34;1mtextattack\u001b[0m: Attack time: 5.664034605026245s\n"
          ],
          "name": "stderr"
        }
      ]
    },
    {
      "cell_type": "code",
      "metadata": {
        "colab": {
          "base_uri": "https://localhost:8080/"
        },
        "id": "bZCgOihgUYpX",
        "outputId": "63b74078-b99a-45a6-cf2b-e1036d95392f"
      },
      "source": [
        "from textattack.search_methods import GreedyWordSwapWIR\n",
        "from textattack.constraints.pre_transformation import RepeatModification, StopwordModification\n",
        "from textattack.shared import Attack\n",
        "from textattack.goal_functions import UntargetedClassification\n",
        "from textattack.datasets import HuggingFaceDataset\n",
        "\n",
        "# We're going to use our word swap class as the attack transformation.\n",
        "transformation = Swapper_G()\n",
        "# We'll constrain modification of already modified indices and stopwords\n",
        "constraints = [RepeatModification(),\n",
        "               StopwordModification()]\n",
        "#seach method\n",
        "search_method = GreedyWordSwapWIR()\n",
        "# Create the goal function using the model\n",
        "\n",
        "goal_function = UntargetedClassification(model_wrapper)\n",
        "\n",
        "# Now, let's make the attack from the 4 components:\n",
        "attack = Attack(goal_function, constraints, transformation, search_method)\n",
        "\n",
        "dataset = HuggingFaceDataset(\"glue\",\"sst2\", \"validation\")"
      ],
      "execution_count": 29,
      "outputs": [
        {
          "output_type": "stream",
          "text": [
            "\u001b[34;1mtextattack\u001b[0m: Unknown if model of class <class 'transformers.models.distilbert.modeling_distilbert.DistilBertForSequenceClassification'> compatible with goal function <class 'textattack.goal_functions.classification.untargeted_classification.UntargetedClassification'>.\n",
            "Reusing dataset glue (/root/.cache/huggingface/datasets/glue/sst2/1.0.0/dacbe3125aa31d7f70367a07a8a9e72a5a0bfeb5fc42e75c9db75b96da6053ad)\n",
            "\u001b[34;1mtextattack\u001b[0m: Loading \u001b[94mdatasets\u001b[0m dataset \u001b[94mglue\u001b[0m, subset \u001b[94msst2\u001b[0m, split \u001b[94mvalidation\u001b[0m.\n"
          ],
          "name": "stderr"
        }
      ]
    },
    {
      "cell_type": "code",
      "metadata": {
        "colab": {
          "base_uri": "https://localhost:8080/"
        },
        "id": "dmWYDRNbUaLB",
        "outputId": "e0f79400-e3d2-4cfd-fad8-2838044b828c"
      },
      "source": [
        "print(attack)"
      ],
      "execution_count": 30,
      "outputs": [
        {
          "output_type": "stream",
          "text": [
            "Attack(\n",
            "  (search_method): GreedyWordSwapWIR(\n",
            "    (wir_method):  unk\n",
            "  )\n",
            "  (goal_function):  UntargetedClassification\n",
            "  (transformation):  Swapper_G\n",
            "  (constraints): \n",
            "    (0): RepeatModification\n",
            "    (1): StopwordModification\n",
            "  (is_black_box):  True\n",
            ")\n"
          ],
          "name": "stdout"
        }
      ]
    },
    {
      "cell_type": "code",
      "metadata": {
        "colab": {
          "base_uri": "https://localhost:8080/",
          "height": 1000
        },
        "id": "NJRMzySzUbXa",
        "outputId": "547b5014-a1ae-49ff-9510-8d152a065241"
      },
      "source": [
        "from collections import deque\n",
        "\n",
        "import textattack\n",
        "import tqdm\n",
        "import time\n",
        "from IPython.display import display, HTML\n",
        "num_examples = 25\n",
        "num_remaining_attacks = num_examples\n",
        "pbar = tqdm.tqdm(total=num_remaining_attacks, smoothing=0)\n",
        "\n",
        "worklist = deque(range(0, num_examples))\n",
        "worklist_tail = worklist[-1]\n",
        "\n",
        "attack_log_manager = textattack.loggers.AttackLogManager()\n",
        "\n",
        "load_time = time.time()\n",
        "        \n",
        "num_results = 0\n",
        "num_failures = 0\n",
        "num_successes = 0\n",
        "for result in attack.attack_dataset(dataset, indices=worklist):\n",
        "    result_html_str = result.__str__(color_method=\"html\").replace(\"\\n\\n\", \"<br>\")\n",
        "    display(HTML(result_html_str))\n",
        "    attack_log_manager.log_result(result)\n",
        "            \n",
        "    if not isinstance(result, textattack.attack_results.SkippedAttackResult):\n",
        "        pbar.update(1)\n",
        "    else:\n",
        "        worklist_tail += 1\n",
        "        pbar.update(1)\n",
        "        worklist.append(worklist_tail)\n",
        "\n",
        "    num_results += 1\n",
        "\n",
        "    if (\n",
        "        type(result) == textattack.attack_results.SuccessfulAttackResult\n",
        "        or type(result) == textattack.attack_results.MaximizedAttackResult\n",
        "    ):\n",
        "        num_successes += 1\n",
        "                \n",
        "    if type(result) == textattack.attack_results.FailedAttackResult:\n",
        "        num_failures += 1\n",
        "    pbar.set_description(\n",
        "        \"[Succeeded / Failed / Total] {} / {} / {}\".format(\n",
        "            num_successes, num_failures, num_results\n",
        "        )\n",
        "    )\n",
        "\n",
        "pbar.close()\n",
        "\n",
        "attack_log_manager.enable_stdout()\n",
        "attack_log_manager.log_summary()\n",
        "attack_log_manager.flush()\n",
        "        \n",
        "textattack.shared.logger.info(f\"Attack time: {time.time() - load_time}s\")"
      ],
      "execution_count": 31,
      "outputs": [
        {
          "output_type": "stream",
          "text": [
            "\r  0%|          | 0/25 [00:00<?, ?it/s]"
          ],
          "name": "stderr"
        },
        {
          "output_type": "display_data",
          "data": {
            "text/html": [
              "<font color = red>Negative (84%)</font> --> <font color = gray>[SKIPPED]</font><br>it 's a charming and often affecting journey . "
            ],
            "text/plain": [
              "<IPython.core.display.HTML object>"
            ]
          },
          "metadata": {
            "tags": []
          }
        },
        {
          "output_type": "stream",
          "text": [
            "\r[Succeeded / Failed / Total] 0 / 0 / 1:   4%|▍         | 1/25 [00:00<00:00, 52.60it/s]"
          ],
          "name": "stderr"
        },
        {
          "output_type": "display_data",
          "data": {
            "text/html": [
              "<font color = red>Negative (79%)</font> --> <font color = green>Positive (60%)</font><br><font color = red>unflinchingly</font> <font color = red>bleak</font> and desperate <br><font color = green>aniosto</font> <font color = green>crowded</font> and desperate "
            ],
            "text/plain": [
              "<IPython.core.display.HTML object>"
            ]
          },
          "metadata": {
            "tags": []
          }
        },
        {
          "output_type": "stream",
          "text": [
            "[Succeeded / Failed / Total] 1 / 0 / 2:   8%|▊         | 2/25 [00:00<00:02,  9.63it/s]"
          ],
          "name": "stderr"
        },
        {
          "output_type": "display_data",
          "data": {
            "text/html": [
              "<font color = green>Positive (67%)</font> --> <font color = red>Negative (58%)</font><br>allows <font color = green>us</font> to hope that nolan is poised to embark a major career as a commercial yet inventive filmmaker . <br>allows <font color = red>karamursel</font> to hope that nolan is poised to embark a major career as a commercial yet inventive filmmaker . "
            ],
            "text/plain": [
              "<IPython.core.display.HTML object>"
            ]
          },
          "metadata": {
            "tags": []
          }
        },
        {
          "output_type": "stream",
          "text": [
            "\r[Succeeded / Failed / Total] 2 / 0 / 3:  12%|█▏        | 3/25 [00:00<00:02,  7.76it/s]"
          ],
          "name": "stderr"
        },
        {
          "output_type": "display_data",
          "data": {
            "text/html": [
              "<font color = green>Positive (68%)</font> --> <font color = red>Negative (54%)</font><br>the acting , <font color = green>costumes</font> , music , cinematography and sound are all astounding given the <font color = green>production</font> 's <font color = green>austere</font> locales . <br>the acting , <font color = red>bosses</font> , music , cinematography and sound are all astounding given the <font color = red>industry</font> 's <font color = red>innovator</font> locales . "
            ],
            "text/plain": [
              "<IPython.core.display.HTML object>"
            ]
          },
          "metadata": {
            "tags": []
          }
        },
        {
          "output_type": "stream",
          "text": [
            "[Succeeded / Failed / Total] 3 / 0 / 4:  16%|█▌        | 4/25 [00:00<00:03,  6.35it/s]"
          ],
          "name": "stderr"
        },
        {
          "output_type": "display_data",
          "data": {
            "text/html": [
              "<font color = red>Negative (66%)</font> --> <font color = red>[FAILED]</font><br>it 's slow -- very , very slow . "
            ],
            "text/plain": [
              "<IPython.core.display.HTML object>"
            ]
          },
          "metadata": {
            "tags": []
          }
        },
        {
          "output_type": "stream",
          "text": [
            "\r[Succeeded / Failed / Total] 3 / 1 / 5:  20%|██        | 5/25 [00:00<00:03,  6.48it/s]"
          ],
          "name": "stderr"
        },
        {
          "output_type": "display_data",
          "data": {
            "text/html": [
              "<font color = red>Negative (61%)</font> --> <font color = gray>[SKIPPED]</font><br>although laced with humor and a few fanciful touches , the film is a refreshingly serious look at young women . "
            ],
            "text/plain": [
              "<IPython.core.display.HTML object>"
            ]
          },
          "metadata": {
            "tags": []
          }
        },
        {
          "output_type": "stream",
          "text": [
            "[Succeeded / Failed / Total] 3 / 1 / 6:  24%|██▍       | 6/25 [00:00<00:02,  7.51it/s]"
          ],
          "name": "stderr"
        },
        {
          "output_type": "display_data",
          "data": {
            "text/html": [
              "<font color = green>Positive (66%)</font> --> <font color = gray>[SKIPPED]</font><br>a sometimes tedious film . "
            ],
            "text/plain": [
              "<IPython.core.display.HTML object>"
            ]
          },
          "metadata": {
            "tags": []
          }
        },
        {
          "output_type": "stream",
          "text": [
            "\r[Succeeded / Failed / Total] 3 / 1 / 7:  28%|██▊       | 7/25 [00:00<00:02,  8.56it/s]"
          ],
          "name": "stderr"
        },
        {
          "output_type": "display_data",
          "data": {
            "text/html": [
              "<font color = green>Positive (78%)</font> --> <font color = gray>[SKIPPED]</font><br>or doing last year 's taxes with your ex-wife . "
            ],
            "text/plain": [
              "<IPython.core.display.HTML object>"
            ]
          },
          "metadata": {
            "tags": []
          }
        },
        {
          "output_type": "stream",
          "text": [
            "\r[Succeeded / Failed / Total] 3 / 1 / 8:  32%|███▏      | 8/25 [00:00<00:01,  9.55it/s]"
          ],
          "name": "stderr"
        },
        {
          "output_type": "display_data",
          "data": {
            "text/html": [
              "<font color = red>Negative (68%)</font> --> <font color = gray>[SKIPPED]</font><br>you do n't have to know about music to appreciate the film 's easygoing blend of comedy and romance . "
            ],
            "text/plain": [
              "<IPython.core.display.HTML object>"
            ]
          },
          "metadata": {
            "tags": []
          }
        },
        {
          "output_type": "stream",
          "text": [
            "\r[Succeeded / Failed / Total] 3 / 1 / 9:  36%|███▌      | 9/25 [00:00<00:01, 10.49it/s]"
          ],
          "name": "stderr"
        },
        {
          "output_type": "display_data",
          "data": {
            "text/html": [
              "<font color = red>Negative (66%)</font> --> <font color = green>Positive (64%)</font><br>in exactly 89 minutes , most of which passed as slowly as if i 'd been <font color = red>sitting</font> naked on an igloo , formula 51 sank from <font color = red>quirky</font> to jerky to utter turkey . <br>in exactly 89 minutes , most of which passed as slowly as if i 'd been <font color = green>hdx</font> naked on an igloo , formula 51 sank from <font color = green>debilitating</font> to jerky to utter turkey . "
            ],
            "text/plain": [
              "<IPython.core.display.HTML object>"
            ]
          },
          "metadata": {
            "tags": []
          }
        },
        {
          "output_type": "stream",
          "text": [
            "[Succeeded / Failed / Total] 4 / 1 / 10:  40%|████      | 10/25 [00:01<00:01,  8.94it/s]"
          ],
          "name": "stderr"
        },
        {
          "output_type": "display_data",
          "data": {
            "text/html": [
              "<font color = green>Positive (57%)</font> --> <font color = red>Negative (51%)</font><br>the mesmerizing performances of the <font color = green>leads</font> keep the film grounded and keep the audience <font color = green>riveted</font> . <br>the mesmerizing performances of the <font color = red>this</font> keep the film grounded and keep the audience <font color = red>kidaris</font> . "
            ],
            "text/plain": [
              "<IPython.core.display.HTML object>"
            ]
          },
          "metadata": {
            "tags": []
          }
        },
        {
          "output_type": "stream",
          "text": [
            "\r[Succeeded / Failed / Total] 5 / 1 / 11:  44%|████▍     | 11/25 [00:01<00:01,  8.21it/s]"
          ],
          "name": "stderr"
        },
        {
          "output_type": "display_data",
          "data": {
            "text/html": [
              "<font color = green>Positive (59%)</font> --> <font color = gray>[SKIPPED]</font><br>it takes a strange kind of laziness to waste the talents of robert forster , anne meara , eugene levy , and reginald veljohnson all in the same movie . "
            ],
            "text/plain": [
              "<IPython.core.display.HTML object>"
            ]
          },
          "metadata": {
            "tags": []
          }
        },
        {
          "output_type": "stream",
          "text": [
            "\r[Succeeded / Failed / Total] 5 / 1 / 12:  48%|████▊     | 12/25 [00:01<00:01,  8.81it/s]"
          ],
          "name": "stderr"
        },
        {
          "output_type": "display_data",
          "data": {
            "text/html": [
              "<font color = red>Negative (51%)</font> --> <font color = green>Positive (58%)</font><br>... the <font color = red>film</font> suffers from a <font color = red>lack</font> of humor ( something needed to balance out the violence ) ... <br>... the <font color = green>remodernist</font> suffers from a <font color = green>absence</font> of humor ( something needed to balance out the violence ) ... "
            ],
            "text/plain": [
              "<IPython.core.display.HTML object>"
            ]
          },
          "metadata": {
            "tags": []
          }
        },
        {
          "output_type": "stream",
          "text": [
            "\r[Succeeded / Failed / Total] 6 / 1 / 13:  52%|█████▏    | 13/25 [00:01<00:01,  7.96it/s]"
          ],
          "name": "stderr"
        },
        {
          "output_type": "display_data",
          "data": {
            "text/html": [
              "<font color = red>Negative (84%)</font> --> <font color = gray>[SKIPPED]</font><br>we root for ( clara and paul ) , even like them , though perhaps it 's an emotion closer to pity . "
            ],
            "text/plain": [
              "<IPython.core.display.HTML object>"
            ]
          },
          "metadata": {
            "tags": []
          }
        },
        {
          "output_type": "stream",
          "text": [
            "[Succeeded / Failed / Total] 6 / 1 / 14:  56%|█████▌    | 14/25 [00:01<00:01,  8.42it/s]"
          ],
          "name": "stderr"
        },
        {
          "output_type": "display_data",
          "data": {
            "text/html": [
              "<font color = red>Negative (75%)</font> --> <font color = green>Positive (53%)</font><br><font color = red>even</font> horror <font color = red>fans</font> will most likely not <font color = red>find</font> what they 're <font color = red>seeking</font> with <font color = red>trouble</font> every <font color = red>day</font> ; the movie lacks both thrills and humor . <br><font color = green>but</font> horror <font color = green>irishwoman</font> will most likely not <font color = green>icknield</font> what they 're <font color = green>seek</font> with <font color = green>wickmans</font> every <font color = green>septidi</font> ; the movie lacks both thrills and humor . "
            ],
            "text/plain": [
              "<IPython.core.display.HTML object>"
            ]
          },
          "metadata": {
            "tags": []
          }
        },
        {
          "output_type": "stream",
          "text": [
            "\r[Succeeded / Failed / Total] 7 / 1 / 15:  60%|██████    | 15/25 [00:02<00:01,  7.10it/s]"
          ],
          "name": "stderr"
        },
        {
          "output_type": "display_data",
          "data": {
            "text/html": [
              "<font color = red>Negative (65%)</font> --> <font color = gray>[SKIPPED]</font><br>a gorgeous , high-spirited musical from india that exquisitely blends music , dance , song , and high drama . "
            ],
            "text/plain": [
              "<IPython.core.display.HTML object>"
            ]
          },
          "metadata": {
            "tags": []
          }
        },
        {
          "output_type": "stream",
          "text": [
            "\r[Succeeded / Failed / Total] 7 / 1 / 16:  64%|██████▍   | 16/25 [00:02<00:01,  7.47it/s]"
          ],
          "name": "stderr"
        },
        {
          "output_type": "display_data",
          "data": {
            "text/html": [
              "<font color = red>Negative (69%)</font> --> <font color = gray>[SKIPPED]</font><br>the emotions are raw and will strike a nerve with anyone who 's ever had family trauma . "
            ],
            "text/plain": [
              "<IPython.core.display.HTML object>"
            ]
          },
          "metadata": {
            "tags": []
          }
        },
        {
          "output_type": "stream",
          "text": [
            "\r[Succeeded / Failed / Total] 7 / 1 / 17:  68%|██████▊   | 17/25 [00:02<00:01,  7.85it/s]"
          ],
          "name": "stderr"
        },
        {
          "output_type": "display_data",
          "data": {
            "text/html": [
              "<font color = red>Negative (67%)</font> --> <font color = gray>[SKIPPED]</font><br>audrey tatou has a knack for picking roles that magnify her outrageous charm , and in this literate french comedy , she 's as morning-glory exuberant as she was in amélie . "
            ],
            "text/plain": [
              "<IPython.core.display.HTML object>"
            ]
          },
          "metadata": {
            "tags": []
          }
        },
        {
          "output_type": "stream",
          "text": [
            "[Succeeded / Failed / Total] 7 / 1 / 18:  72%|███████▏  | 18/25 [00:02<00:00,  8.21it/s]"
          ],
          "name": "stderr"
        },
        {
          "output_type": "display_data",
          "data": {
            "text/html": [
              "<font color = green>Positive (52%)</font> --> <font color = gray>[SKIPPED]</font><br>... the movie is just a plain old monster . "
            ],
            "text/plain": [
              "<IPython.core.display.HTML object>"
            ]
          },
          "metadata": {
            "tags": []
          }
        },
        {
          "output_type": "stream",
          "text": [
            "\r[Succeeded / Failed / Total] 7 / 1 / 19:  76%|███████▌  | 19/25 [00:02<00:00,  8.58it/s]"
          ],
          "name": "stderr"
        },
        {
          "output_type": "display_data",
          "data": {
            "text/html": [
              "<font color = red>Negative (90%)</font> --> <font color = green>Positive (82%)</font><br>in its best moments , <font color = red>resembles</font> a <font color = red>bad</font> high <font color = red>school</font> production of grease , <font color = red>without</font> benefit of song . <br>in its best moments , <font color = green>resembled</font> a <font color = green>good</font> high <font color = green>haggerty</font> production of grease , <font color = green>any</font> benefit of song . "
            ],
            "text/plain": [
              "<IPython.core.display.HTML object>"
            ]
          },
          "metadata": {
            "tags": []
          }
        },
        {
          "output_type": "stream",
          "text": [
            "\r[Succeeded / Failed / Total] 8 / 1 / 20:  80%|████████  | 20/25 [00:02<00:00,  7.98it/s]"
          ],
          "name": "stderr"
        },
        {
          "output_type": "display_data",
          "data": {
            "text/html": [
              "<font color = red>Negative (79%)</font> --> <font color = green>Positive (51%)</font><br><font color = red>pumpkin</font> takes an admirable <font color = red>look</font> at the hypocrisy of political correctness , but it does so with such an uneven tone that you never know when humor ends and tragedy begins . <br><font color = green>synchromesh</font> takes an admirable <font color = green>find</font> at the hypocrisy of political correctness , but it does so with such an uneven tone that you never know when humor ends and tragedy begins . "
            ],
            "text/plain": [
              "<IPython.core.display.HTML object>"
            ]
          },
          "metadata": {
            "tags": []
          }
        },
        {
          "output_type": "stream",
          "text": [
            "\r[Succeeded / Failed / Total] 9 / 1 / 21:  84%|████████▍ | 21/25 [00:02<00:00,  7.60it/s]"
          ],
          "name": "stderr"
        },
        {
          "output_type": "display_data",
          "data": {
            "text/html": [
              "<font color = red>Negative (78%)</font> --> <font color = red>[FAILED]</font><br>the iditarod lasts for days - this just felt like it did . "
            ],
            "text/plain": [
              "<IPython.core.display.HTML object>"
            ]
          },
          "metadata": {
            "tags": []
          }
        },
        {
          "output_type": "stream",
          "text": [
            "[Succeeded / Failed / Total] 9 / 2 / 22:  88%|████████▊ | 22/25 [00:03<00:00,  7.18it/s]"
          ],
          "name": "stderr"
        },
        {
          "output_type": "display_data",
          "data": {
            "text/html": [
              "<font color = red>Negative (73%)</font> --> <font color = green>Positive (70%)</font><br><font color = red>holden</font> caulfield did it <font color = red>better</font> . <br><font color = green>brosnan</font> caulfield did it <font color = green>eret</font> . "
            ],
            "text/plain": [
              "<IPython.core.display.HTML object>"
            ]
          },
          "metadata": {
            "tags": []
          }
        },
        {
          "output_type": "stream",
          "text": [
            "\r[Succeeded / Failed / Total] 10 / 2 / 23:  92%|█████████▏| 23/25 [00:03<00:00,  7.16it/s]"
          ],
          "name": "stderr"
        },
        {
          "output_type": "display_data",
          "data": {
            "text/html": [
              "<font color = green>Positive (59%)</font> --> <font color = red>Negative (73%)</font><br>a delectable and intriguing <font color = green>thriller</font> filled with surprises , read my lips is an original . <br>a delectable and intriguing <font color = red>blaxploitation</font> filled with surprises , read my lips is an original . "
            ],
            "text/plain": [
              "<IPython.core.display.HTML object>"
            ]
          },
          "metadata": {
            "tags": []
          }
        },
        {
          "output_type": "stream",
          "text": [
            "\r[Succeeded / Failed / Total] 11 / 2 / 24:  96%|█████████▌| 24/25 [00:03<00:00,  7.16it/s]"
          ],
          "name": "stderr"
        },
        {
          "output_type": "display_data",
          "data": {
            "text/html": [
              "<font color = green>Positive (72%)</font> --> <font color = red>Negative (51%)</font><br><font color = green>seldom</font> has a movie so <font color = green>closely</font> matched the spirit of a man and his <font color = green>work</font> . <br><font color = red>rarely</font> has a movie so <font color = red>intimately</font> matched the spirit of a man and his <font color = red>ultimatte</font> . "
            ],
            "text/plain": [
              "<IPython.core.display.HTML object>"
            ]
          },
          "metadata": {
            "tags": []
          }
        },
        {
          "output_type": "stream",
          "text": [
            "\r[Succeeded / Failed / Total] 12 / 2 / 25: 100%|██████████| 25/25 [00:03<00:00,  7.00it/s]"
          ],
          "name": "stderr"
        },
        {
          "output_type": "display_data",
          "data": {
            "text/html": [
              "<font color = red>Negative (76%)</font> --> <font color = green>Positive (51%)</font><br>nicks , seemingly <font color = red>uncertain</font> what 's <font color = red>going</font> to <font color = red>make</font> people laugh , <font color = red>runs</font> the gamut from stale <font color = red>parody</font> to raunchy <font color = red>sex</font> <font color = red>gags</font> to formula romantic comedy . <br>nicks , seemingly <font color = green>unclear</font> what 's <font color = green>flatline</font> to <font color = green>making</font> people laugh , <font color = green>running</font> the gamut from stale <font color = green>spoof</font> to raunchy <font color = green>handballing</font> <font color = green>neuheisel</font> to formula romantic comedy . "
            ],
            "text/plain": [
              "<IPython.core.display.HTML object>"
            ]
          },
          "metadata": {
            "tags": []
          }
        },
        {
          "output_type": "stream",
          "text": [
            "[Succeeded / Failed / Total] 13 / 2 / 26: : 26it [00:04,  6.25it/s]"
          ],
          "name": "stderr"
        },
        {
          "output_type": "display_data",
          "data": {
            "text/html": [
              "<font color = red>Negative (74%)</font> --> <font color = green>Positive (53%)</font><br>the action <font color = red>switches</font> between <font color = red>past</font> and present , but the material <font color = red>link</font> is too <font color = red>tenuous</font> to anchor the <font color = red>emotional</font> connections that purport to span a 125-year divide . <br>the action <font color = green>surfaces</font> between <font color = green>prehodiernal</font> and present , but the material <font color = green>links</font> is too <font color = green>untenable</font> to anchor the <font color = green>psychological</font> connections that purport to span a 125-year divide . "
            ],
            "text/plain": [
              "<IPython.core.display.HTML object>"
            ]
          },
          "metadata": {
            "tags": []
          }
        },
        {
          "output_type": "stream",
          "text": [
            "\r[Succeeded / Failed / Total] 14 / 2 / 27: : 27it [00:04,  5.82it/s]"
          ],
          "name": "stderr"
        },
        {
          "output_type": "display_data",
          "data": {
            "text/html": [
              "<font color = red>Negative (67%)</font> --> <font color = gray>[SKIPPED]</font><br>it 's an offbeat treat that pokes fun at the democratic exercise while also examining its significance for those who take part . "
            ],
            "text/plain": [
              "<IPython.core.display.HTML object>"
            ]
          },
          "metadata": {
            "tags": []
          }
        },
        {
          "output_type": "stream",
          "text": [
            "\r[Succeeded / Failed / Total] 14 / 2 / 28: : 28it [00:04,  6.01it/s]"
          ],
          "name": "stderr"
        },
        {
          "output_type": "display_data",
          "data": {
            "text/html": [
              "<font color = red>Negative (59%)</font> --> <font color = red>[FAILED]</font><br>it 's a cookie-cutter movie , a cut-and-paste job . "
            ],
            "text/plain": [
              "<IPython.core.display.HTML object>"
            ]
          },
          "metadata": {
            "tags": []
          }
        },
        {
          "output_type": "stream",
          "text": [
            "\r[Succeeded / Failed / Total] 14 / 3 / 29: : 29it [00:04,  6.03it/s]"
          ],
          "name": "stderr"
        },
        {
          "output_type": "display_data",
          "data": {
            "text/html": [
              "<font color = red>Negative (64%)</font> --> <font color = green>Positive (76%)</font><br>i had to look <font color = red>away</font> - this was <font color = red>god</font> awful . <br>i had to look <font color = green>back</font> - this was <font color = green>kukulcan</font> awful . "
            ],
            "text/plain": [
              "<IPython.core.display.HTML object>"
            ]
          },
          "metadata": {
            "tags": []
          }
        },
        {
          "output_type": "stream",
          "text": [
            "[Succeeded / Failed / Total] 15 / 3 / 30: : 30it [00:05,  5.98it/s]"
          ],
          "name": "stderr"
        },
        {
          "output_type": "display_data",
          "data": {
            "text/html": [
              "<font color = red>Negative (58%)</font> --> <font color = gray>[SKIPPED]</font><br>thanks to scott 's charismatic roger and eisenberg 's sweet nephew , roger dodger is one of the most compelling variations on in the company of men . "
            ],
            "text/plain": [
              "<IPython.core.display.HTML object>"
            ]
          },
          "metadata": {
            "tags": []
          }
        },
        {
          "output_type": "stream",
          "text": [
            "\r[Succeeded / Failed / Total] 15 / 3 / 31: : 31it [00:05,  6.15it/s]"
          ],
          "name": "stderr"
        },
        {
          "output_type": "display_data",
          "data": {
            "text/html": [
              "<font color = red>Negative (85%)</font> --> <font color = red>[FAILED]</font><br>... designed to provide a mix of smiles and tears , `` crossroads '' instead provokes a handful of unintentional howlers and numerous yawns . "
            ],
            "text/plain": [
              "<IPython.core.display.HTML object>"
            ]
          },
          "metadata": {
            "tags": []
          }
        },
        {
          "output_type": "stream",
          "text": [
            "\r[Succeeded / Failed / Total] 15 / 4 / 32: : 32it [00:05,  5.60it/s]"
          ],
          "name": "stderr"
        },
        {
          "output_type": "display_data",
          "data": {
            "text/html": [
              "<font color = red>Negative (66%)</font> --> <font color = gray>[SKIPPED]</font><br>a gorgeous , witty , seductive movie . "
            ],
            "text/plain": [
              "<IPython.core.display.HTML object>"
            ]
          },
          "metadata": {
            "tags": []
          }
        },
        {
          "output_type": "stream",
          "text": [
            "\r[Succeeded / Failed / Total] 15 / 4 / 33: : 33it [00:05,  5.75it/s]"
          ],
          "name": "stderr"
        },
        {
          "output_type": "display_data",
          "data": {
            "text/html": [
              "<font color = green>Positive (57%)</font> --> <font color = gray>[SKIPPED]</font><br>if the movie succeeds in instilling a wary sense of ` there but for the grace of god , ' it is far too self-conscious to draw you deeply into its world . "
            ],
            "text/plain": [
              "<IPython.core.display.HTML object>"
            ]
          },
          "metadata": {
            "tags": []
          }
        },
        {
          "output_type": "stream",
          "text": [
            "[Succeeded / Failed / Total] 15 / 4 / 34: : 34it [00:05,  5.90it/s]"
          ],
          "name": "stderr"
        },
        {
          "output_type": "display_data",
          "data": {
            "text/html": [
              "<font color = red>Negative (87%)</font> --> <font color = red>[FAILED]</font><br>it does n't believe in itself , it has no sense of humor ... it 's just plain bored . "
            ],
            "text/plain": [
              "<IPython.core.display.HTML object>"
            ]
          },
          "metadata": {
            "tags": []
          }
        },
        {
          "output_type": "stream",
          "text": [
            "\r[Succeeded / Failed / Total] 15 / 5 / 35: : 35it [00:06,  5.75it/s]"
          ],
          "name": "stderr"
        },
        {
          "output_type": "display_data",
          "data": {
            "text/html": [
              "<font color = green>Positive (67%)</font> --> <font color = gray>[SKIPPED]</font><br>a sequence of ridiculous shoot - 'em - up scenes . "
            ],
            "text/plain": [
              "<IPython.core.display.HTML object>"
            ]
          },
          "metadata": {
            "tags": []
          }
        },
        {
          "output_type": "stream",
          "text": [
            "\r[Succeeded / Failed / Total] 15 / 5 / 36: : 36it [00:06,  5.89it/s]"
          ],
          "name": "stderr"
        },
        {
          "output_type": "display_data",
          "data": {
            "text/html": [
              "<font color = green>Positive (55%)</font> --> <font color = red>Negative (52%)</font><br>the weight of the piece , the unerring professionalism of the chilly <font color = green>production</font> , and the fascination embedded in the lurid topic prove recommendation enough . <br>the weight of the piece , the unerring professionalism of the chilly <font color = red>industry</font> , and the fascination embedded in the lurid topic prove recommendation enough . "
            ],
            "text/plain": [
              "<IPython.core.display.HTML object>"
            ]
          },
          "metadata": {
            "tags": []
          }
        },
        {
          "output_type": "stream",
          "text": [
            "\r[Succeeded / Failed / Total] 16 / 5 / 37: : 37it [00:06,  5.88it/s]"
          ],
          "name": "stderr"
        },
        {
          "output_type": "display_data",
          "data": {
            "text/html": [
              "<font color = green>Positive (89%)</font> --> <font color = gray>[SKIPPED]</font><br>( w ) hile long on amiable monkeys and worthy environmentalism , jane goodall 's wild chimpanzees is short on the thrills the oversize medium demands . "
            ],
            "text/plain": [
              "<IPython.core.display.HTML object>"
            ]
          },
          "metadata": {
            "tags": []
          }
        },
        {
          "output_type": "stream",
          "text": [
            "[Succeeded / Failed / Total] 16 / 5 / 38: : 38it [00:06,  6.02it/s]"
          ],
          "name": "stderr"
        },
        {
          "output_type": "display_data",
          "data": {
            "text/html": [
              "<font color = red>Negative (54%)</font> --> <font color = gray>[SKIPPED]</font><br>as surreal as a dream and as detailed as a photograph , as visually dexterous as it is at times imaginatively overwhelming . "
            ],
            "text/plain": [
              "<IPython.core.display.HTML object>"
            ]
          },
          "metadata": {
            "tags": []
          }
        },
        {
          "output_type": "stream",
          "text": [
            "\r[Succeeded / Failed / Total] 16 / 5 / 39: : 39it [00:06,  6.15it/s]"
          ],
          "name": "stderr"
        },
        {
          "output_type": "display_data",
          "data": {
            "text/html": [
              "<font color = red>Negative (56%)</font> --> <font color = gray>[SKIPPED]</font><br>escaping the studio , piccoli is warmly affecting and so is this adroitly minimalist movie . "
            ],
            "text/plain": [
              "<IPython.core.display.HTML object>"
            ]
          },
          "metadata": {
            "tags": []
          }
        },
        {
          "output_type": "stream",
          "text": [
            "\r[Succeeded / Failed / Total] 16 / 5 / 40: : 40it [00:06,  6.29it/s]"
          ],
          "name": "stderr"
        },
        {
          "output_type": "display_data",
          "data": {
            "text/html": [
              "<font color = red>Negative (51%)</font> --> <font color = gray>[SKIPPED]</font><br>there 's ... tremendous energy from the cast , a sense of playfulness and excitement that seems appropriate . "
            ],
            "text/plain": [
              "<IPython.core.display.HTML object>"
            ]
          },
          "metadata": {
            "tags": []
          }
        },
        {
          "output_type": "stream",
          "text": [
            "\r[Succeeded / Failed / Total] 16 / 5 / 41: : 41it [00:06,  6.42it/s]"
          ],
          "name": "stderr"
        },
        {
          "output_type": "display_data",
          "data": {
            "text/html": [
              "<font color = green>Positive (65%)</font> --> <font color = red>Negative (62%)</font><br>this illuminating <font color = green>documentary</font> transcends our preconceived vision of the holy land and its inhabitants , revealing the human complexities beneath . <br>this illuminating <font color = red>anthology</font> transcends our preconceived vision of the holy land and its inhabitants , revealing the human complexities beneath . "
            ],
            "text/plain": [
              "<IPython.core.display.HTML object>"
            ]
          },
          "metadata": {
            "tags": []
          }
        },
        {
          "output_type": "stream",
          "text": [
            "[Succeeded / Failed / Total] 17 / 5 / 42: : 42it [00:06,  6.38it/s]"
          ],
          "name": "stderr"
        },
        {
          "output_type": "display_data",
          "data": {
            "text/html": [
              "<font color = red>Negative (54%)</font> --> <font color = gray>[SKIPPED]</font><br>the subtle strength of `` elling '' is that it never loses touch with the reality of the grim situation . "
            ],
            "text/plain": [
              "<IPython.core.display.HTML object>"
            ]
          },
          "metadata": {
            "tags": []
          }
        },
        {
          "output_type": "stream",
          "text": [
            "\r[Succeeded / Failed / Total] 17 / 5 / 43: : 43it [00:06,  6.51it/s]"
          ],
          "name": "stderr"
        },
        {
          "output_type": "display_data",
          "data": {
            "text/html": [
              "<font color = red>Negative (68%)</font> --> <font color = gray>[SKIPPED]</font><br>holm ... embodies the character with an effortlessly regal charisma . "
            ],
            "text/plain": [
              "<IPython.core.display.HTML object>"
            ]
          },
          "metadata": {
            "tags": []
          }
        },
        {
          "output_type": "stream",
          "text": [
            "\r[Succeeded / Failed / Total] 17 / 5 / 44: : 44it [00:06,  6.64it/s]"
          ],
          "name": "stderr"
        },
        {
          "output_type": "display_data",
          "data": {
            "text/html": [
              "<font color = red>Negative (75%)</font> --> <font color = green>Positive (82%)</font><br>the title not only describes its main characters , but the <font color = red>lazy</font> people behind the camera as well . <br>the title not only describes its main characters , but the <font color = green>tamazight</font> people behind the camera as well . "
            ],
            "text/plain": [
              "<IPython.core.display.HTML object>"
            ]
          },
          "metadata": {
            "tags": []
          }
        },
        {
          "output_type": "stream",
          "text": [
            "\r[Succeeded / Failed / Total] 18 / 5 / 45: : 45it [00:06,  6.63it/s]"
          ],
          "name": "stderr"
        },
        {
          "output_type": "display_data",
          "data": {
            "text/html": [
              "<font color = red>Negative (83%)</font> --> <font color = red>[FAILED]</font><br>it offers little beyond the momentary joys of pretty and weightless intellectual entertainment . "
            ],
            "text/plain": [
              "<IPython.core.display.HTML object>"
            ]
          },
          "metadata": {
            "tags": []
          }
        },
        {
          "output_type": "stream",
          "text": [
            "[Succeeded / Failed / Total] 18 / 6 / 46: : 46it [00:07,  6.32it/s]"
          ],
          "name": "stderr"
        },
        {
          "output_type": "display_data",
          "data": {
            "text/html": [
              "<font color = red>Negative (67%)</font> --> <font color = green>Positive (50%)</font><br>a synthesis of <font color = red>cliches</font> and absurdities that seems positively decadent in its cinematic <font color = red>flash</font> and emptiness . <br>a synthesis of <font color = green>playmate</font> and absurdities that seems positively decadent in its cinematic <font color = green>flarp</font> and emptiness . "
            ],
            "text/plain": [
              "<IPython.core.display.HTML object>"
            ]
          },
          "metadata": {
            "tags": []
          }
        },
        {
          "output_type": "stream",
          "text": [
            "[Succeeded / Failed / Total] 19 / 6 / 47: : 47it [00:07,  6.29it/s]"
          ],
          "name": "stderr"
        },
        {
          "output_type": "stream",
          "text": [
            "+-------------------------------+--------+\n",
            "| Attack Results                |        |\n",
            "+-------------------------------+--------+\n",
            "| Number of successful attacks: | 19     |\n",
            "| Number of failed attacks:     | 6      |\n",
            "| Number of skipped attacks:    | 22     |\n",
            "| Original accuracy:            | 53.19% |\n",
            "| Accuracy under attack:        | 12.77% |\n",
            "| Attack success rate:          | 76.0%  |\n",
            "| Average perturbed word %:     | 17.41% |\n",
            "| Average num. words per input: | 16.53  |\n",
            "| Avg num queries:              | 21.32  |\n",
            "+-------------------------------+--------+"
          ],
          "name": "stdout"
        },
        {
          "output_type": "stream",
          "text": [
            "\n",
            "\u001b[34;1mtextattack\u001b[0m: Attack time: 7.4770238399505615s\n"
          ],
          "name": "stderr"
        }
      ]
    },
    {
      "cell_type": "code",
      "metadata": {
        "colab": {
          "base_uri": "https://localhost:8080/"
        },
        "id": "93uK-7YeVZik",
        "outputId": "5b608260-54ee-4b1c-e4a4-7b4471756f0b"
      },
      "source": [
        "from textattack.search_methods import ParticleSwarmOptimization\n",
        "from textattack.constraints.pre_transformation import RepeatModification, StopwordModification\n",
        "from textattack.shared import Attack\n",
        "from textattack.goal_functions import UntargetedClassification\n",
        "from textattack.datasets import HuggingFaceDataset\n",
        "\n",
        "# We're going to use our word swap class as the attack transformation.\n",
        "transformation = Swapper()\n",
        "# We'll constrain modification of already modified indices and stopwords\n",
        "constraints = [RepeatModification(),\n",
        "               StopwordModification()]\n",
        "#seach method\n",
        "search_method = ParticleSwarmOptimization(pop_size=10,max_iters=5,post_turn_check=True,max_turn_retries=5)\n",
        "# Create the goal function using the model\n",
        "\n",
        "goal_function = UntargetedClassification(model_wrapper)\n",
        "\n",
        "# Now, let's make the attack from the 4 components:\n",
        "attack = Attack(goal_function, constraints, transformation, search_method)\n",
        "\n",
        "dataset = HuggingFaceDataset(\"glue\",\"sst2\", \"validation\")"
      ],
      "execution_count": 32,
      "outputs": [
        {
          "output_type": "stream",
          "text": [
            "\u001b[34;1mtextattack\u001b[0m: Unknown if model of class <class 'transformers.models.distilbert.modeling_distilbert.DistilBertForSequenceClassification'> compatible with goal function <class 'textattack.goal_functions.classification.untargeted_classification.UntargetedClassification'>.\n",
            "Reusing dataset glue (/root/.cache/huggingface/datasets/glue/sst2/1.0.0/dacbe3125aa31d7f70367a07a8a9e72a5a0bfeb5fc42e75c9db75b96da6053ad)\n",
            "\u001b[34;1mtextattack\u001b[0m: Loading \u001b[94mdatasets\u001b[0m dataset \u001b[94mglue\u001b[0m, subset \u001b[94msst2\u001b[0m, split \u001b[94mvalidation\u001b[0m.\n"
          ],
          "name": "stderr"
        }
      ]
    },
    {
      "cell_type": "code",
      "metadata": {
        "colab": {
          "base_uri": "https://localhost:8080/"
        },
        "id": "sQ7iLuuNVbJe",
        "outputId": "31f30884-adba-4b09-eb71-99ecee398c68"
      },
      "source": [
        "print(attack)"
      ],
      "execution_count": 33,
      "outputs": [
        {
          "output_type": "stream",
          "text": [
            "Attack(\n",
            "  (search_method): ParticleSwarmOptimization(\n",
            "    (pop_size):  10\n",
            "    (max_iters):  5\n",
            "    (post_turn_check):  True\n",
            "    (max_turn_retries):  20\n",
            "  )\n",
            "  (goal_function):  UntargetedClassification\n",
            "  (transformation):  Swapper\n",
            "  (constraints): \n",
            "    (0): RepeatModification\n",
            "    (1): StopwordModification\n",
            "  (is_black_box):  True\n",
            ")\n"
          ],
          "name": "stdout"
        }
      ]
    },
    {
      "cell_type": "code",
      "metadata": {
        "colab": {
          "base_uri": "https://localhost:8080/",
          "height": 1000
        },
        "id": "3KUnOeoDVcjI",
        "outputId": "ce3f6291-e245-4a30-c7c6-9d6be837237b"
      },
      "source": [
        "from collections import deque\n",
        "\n",
        "import textattack\n",
        "import tqdm\n",
        "import time\n",
        "from IPython.display import display, HTML\n",
        "num_examples = 25\n",
        "num_remaining_attacks = num_examples\n",
        "pbar = tqdm.tqdm(total=num_remaining_attacks, smoothing=0)\n",
        "\n",
        "worklist = deque(range(0, num_examples))\n",
        "worklist_tail = worklist[-1]\n",
        "\n",
        "attack_log_manager = textattack.loggers.AttackLogManager()\n",
        "\n",
        "load_time = time.time()\n",
        "        \n",
        "num_results = 0\n",
        "num_failures = 0\n",
        "num_successes = 0\n",
        "for result in attack.attack_dataset(dataset, indices=worklist):\n",
        "    result_html_str = result.__str__(color_method=\"html\").replace(\"\\n\\n\", \"<br>\")\n",
        "    display(HTML(result_html_str))\n",
        "    attack_log_manager.log_result(result)\n",
        "            \n",
        "    if not isinstance(result, textattack.attack_results.SkippedAttackResult):\n",
        "        pbar.update(1)\n",
        "    else:\n",
        "        worklist_tail += 1\n",
        "        pbar.update(1)\n",
        "        worklist.append(worklist_tail)\n",
        "\n",
        "    num_results += 1\n",
        "\n",
        "    if (\n",
        "        type(result) == textattack.attack_results.SuccessfulAttackResult\n",
        "        or type(result) == textattack.attack_results.MaximizedAttackResult\n",
        "    ):\n",
        "        num_successes += 1\n",
        "                \n",
        "    if type(result) == textattack.attack_results.FailedAttackResult:\n",
        "        num_failures += 1\n",
        "    pbar.set_description(\n",
        "        \"[Succeeded / Failed / Total] {} / {} / {}\".format(\n",
        "            num_successes, num_failures, num_results\n",
        "        )\n",
        "    )\n",
        "\n",
        "pbar.close()\n",
        "\n",
        "attack_log_manager.enable_stdout()\n",
        "attack_log_manager.log_summary()\n",
        "attack_log_manager.flush()\n",
        "        \n",
        "textattack.shared.logger.info(f\"Attack time: {time.time() - load_time}s\")"
      ],
      "execution_count": 34,
      "outputs": [
        {
          "output_type": "stream",
          "text": [
            "\r  0%|          | 0/25 [00:00<?, ?it/s]"
          ],
          "name": "stderr"
        },
        {
          "output_type": "display_data",
          "data": {
            "text/html": [
              "<font color = red>Negative (84%)</font> --> <font color = gray>[SKIPPED]</font><br>it 's a charming and often affecting journey . "
            ],
            "text/plain": [
              "<IPython.core.display.HTML object>"
            ]
          },
          "metadata": {
            "tags": []
          }
        },
        {
          "output_type": "stream",
          "text": [
            "\r[Succeeded / Failed / Total] 0 / 0 / 1:   4%|▍         | 1/25 [00:00<00:00, 61.03it/s]"
          ],
          "name": "stderr"
        },
        {
          "output_type": "display_data",
          "data": {
            "text/html": [
              "<font color = red>Negative (79%)</font> --> <font color = red>[FAILED]</font><br>unflinchingly bleak and desperate "
            ],
            "text/plain": [
              "<IPython.core.display.HTML object>"
            ]
          },
          "metadata": {
            "tags": []
          }
        },
        {
          "output_type": "stream",
          "text": [
            "[Succeeded / Failed / Total] 0 / 1 / 2:   8%|▊         | 2/25 [00:00<00:04,  4.96it/s]"
          ],
          "name": "stderr"
        },
        {
          "output_type": "display_data",
          "data": {
            "text/html": [
              "<font color = green>Positive (67%)</font> --> <font color = red>Negative (51%)</font><br>allows us to <font color = green>hope</font> that <font color = green>nolan</font> is poised to embark a <font color = green>major</font> career as a commercial <font color = green>yet</font> <font color = green>inventive</font> filmmaker . <br>allows us to <font color = red>hopeful</font> that <font color = red>colan</font> is poised to embark a <font color = red>minor</font> career as a commercial <font color = red>obviously</font> <font color = red>inventing</font> filmmaker . "
            ],
            "text/plain": [
              "<IPython.core.display.HTML object>"
            ]
          },
          "metadata": {
            "tags": []
          }
        },
        {
          "output_type": "stream",
          "text": [
            "\r[Succeeded / Failed / Total] 1 / 1 / 3:  12%|█▏        | 3/25 [00:02<00:16,  1.37it/s]"
          ],
          "name": "stderr"
        },
        {
          "output_type": "display_data",
          "data": {
            "text/html": [
              "<font color = green>Positive (68%)</font> --> <font color = red>Negative (54%)</font><br>the acting , costumes , music , cinematography and <font color = green>sound</font> are all astounding <font color = green>given</font> the <font color = green>production</font> 's austere locales . <br>the acting , costumes , music , cinematography and <font color = red>csound</font> are all astounding <font color = red>givens</font> the <font color = red>overproduction</font> 's austere locales . "
            ],
            "text/plain": [
              "<IPython.core.display.HTML object>"
            ]
          },
          "metadata": {
            "tags": []
          }
        },
        {
          "output_type": "stream",
          "text": [
            "[Succeeded / Failed / Total] 2 / 1 / 4:  16%|█▌        | 4/25 [00:03<00:16,  1.30it/s]"
          ],
          "name": "stderr"
        },
        {
          "output_type": "display_data",
          "data": {
            "text/html": [
              "<font color = red>Negative (66%)</font> --> <font color = red>[FAILED]</font><br>it 's slow -- very , very slow . "
            ],
            "text/plain": [
              "<IPython.core.display.HTML object>"
            ]
          },
          "metadata": {
            "tags": []
          }
        },
        {
          "output_type": "stream",
          "text": [
            "\r[Succeeded / Failed / Total] 2 / 2 / 5:  20%|██        | 5/25 [00:03<00:13,  1.53it/s]"
          ],
          "name": "stderr"
        },
        {
          "output_type": "display_data",
          "data": {
            "text/html": [
              "<font color = red>Negative (61%)</font> --> <font color = gray>[SKIPPED]</font><br>although laced with humor and a few fanciful touches , the film is a refreshingly serious look at young women . "
            ],
            "text/plain": [
              "<IPython.core.display.HTML object>"
            ]
          },
          "metadata": {
            "tags": []
          }
        },
        {
          "output_type": "stream",
          "text": [
            "[Succeeded / Failed / Total] 2 / 2 / 6:  24%|██▍       | 6/25 [00:03<00:10,  1.82it/s]"
          ],
          "name": "stderr"
        },
        {
          "output_type": "display_data",
          "data": {
            "text/html": [
              "<font color = green>Positive (66%)</font> --> <font color = gray>[SKIPPED]</font><br>a sometimes tedious film . "
            ],
            "text/plain": [
              "<IPython.core.display.HTML object>"
            ]
          },
          "metadata": {
            "tags": []
          }
        },
        {
          "output_type": "stream",
          "text": [
            "\r[Succeeded / Failed / Total] 2 / 2 / 7:  28%|██▊       | 7/25 [00:03<00:08,  2.11it/s]"
          ],
          "name": "stderr"
        },
        {
          "output_type": "display_data",
          "data": {
            "text/html": [
              "<font color = green>Positive (78%)</font> --> <font color = gray>[SKIPPED]</font><br>or doing last year 's taxes with your ex-wife . "
            ],
            "text/plain": [
              "<IPython.core.display.HTML object>"
            ]
          },
          "metadata": {
            "tags": []
          }
        },
        {
          "output_type": "stream",
          "text": [
            "\r[Succeeded / Failed / Total] 2 / 2 / 8:  32%|███▏      | 8/25 [00:03<00:07,  2.40it/s]"
          ],
          "name": "stderr"
        },
        {
          "output_type": "display_data",
          "data": {
            "text/html": [
              "<font color = red>Negative (68%)</font> --> <font color = gray>[SKIPPED]</font><br>you do n't have to know about music to appreciate the film 's easygoing blend of comedy and romance . "
            ],
            "text/plain": [
              "<IPython.core.display.HTML object>"
            ]
          },
          "metadata": {
            "tags": []
          }
        },
        {
          "output_type": "stream",
          "text": [
            "\r[Succeeded / Failed / Total] 2 / 2 / 9:  36%|███▌      | 9/25 [00:03<00:05,  2.69it/s]"
          ],
          "name": "stderr"
        },
        {
          "output_type": "display_data",
          "data": {
            "text/html": [
              "<font color = red>Negative (66%)</font> --> <font color = green>Positive (58%)</font><br>in exactly 89 minutes , most of which <font color = red>passed</font> as slowly as if i 'd been sitting naked on an igloo , formula 51 sank from <font color = red>quirky</font> to jerky to utter turkey . <br>in exactly 89 minutes , most of which <font color = green>enacted</font> as slowly as if i 'd been sitting naked on an igloo , formula 51 sank from <font color = green>quirk</font> to jerky to utter turkey . "
            ],
            "text/plain": [
              "<IPython.core.display.HTML object>"
            ]
          },
          "metadata": {
            "tags": []
          }
        },
        {
          "output_type": "stream",
          "text": [
            "[Succeeded / Failed / Total] 3 / 2 / 10:  40%|████      | 10/25 [00:04<00:07,  2.04it/s]"
          ],
          "name": "stderr"
        },
        {
          "output_type": "display_data",
          "data": {
            "text/html": [
              "<font color = green>Positive (57%)</font> --> <font color = red>Negative (52%)</font><br>the mesmerizing performances of the leads keep the <font color = green>film</font> <font color = green>grounded</font> and keep the audience <font color = green>riveted</font> . <br>the mesmerizing performances of the leads keep the <font color = red>movie</font> <font color = red>ungrounded</font> and keep the audience <font color = red>coveted</font> . "
            ],
            "text/plain": [
              "<IPython.core.display.HTML object>"
            ]
          },
          "metadata": {
            "tags": []
          }
        },
        {
          "output_type": "stream",
          "text": [
            "\r[Succeeded / Failed / Total] 4 / 2 / 11:  44%|████▍     | 11/25 [00:05<00:07,  1.93it/s]"
          ],
          "name": "stderr"
        },
        {
          "output_type": "display_data",
          "data": {
            "text/html": [
              "<font color = green>Positive (59%)</font> --> <font color = gray>[SKIPPED]</font><br>it takes a strange kind of laziness to waste the talents of robert forster , anne meara , eugene levy , and reginald veljohnson all in the same movie . "
            ],
            "text/plain": [
              "<IPython.core.display.HTML object>"
            ]
          },
          "metadata": {
            "tags": []
          }
        },
        {
          "output_type": "stream",
          "text": [
            "\r[Succeeded / Failed / Total] 4 / 2 / 12:  48%|████▊     | 12/25 [00:05<00:06,  2.10it/s]"
          ],
          "name": "stderr"
        },
        {
          "output_type": "display_data",
          "data": {
            "text/html": [
              "<font color = red>Negative (51%)</font> --> <font color = green>Positive (63%)</font><br>... the film suffers from a lack of humor ( <font color = red>something</font> needed to balance out the violence ) ... <br>... the film suffers from a lack of humor ( <font color = green>dosomething</font> needed to balance out the violence ) ... "
            ],
            "text/plain": [
              "<IPython.core.display.HTML object>"
            ]
          },
          "metadata": {
            "tags": []
          }
        },
        {
          "output_type": "stream",
          "text": [
            "\r[Succeeded / Failed / Total] 5 / 2 / 13:  52%|█████▏    | 13/25 [00:05<00:05,  2.21it/s]"
          ],
          "name": "stderr"
        },
        {
          "output_type": "display_data",
          "data": {
            "text/html": [
              "<font color = red>Negative (84%)</font> --> <font color = gray>[SKIPPED]</font><br>we root for ( clara and paul ) , even like them , though perhaps it 's an emotion closer to pity . "
            ],
            "text/plain": [
              "<IPython.core.display.HTML object>"
            ]
          },
          "metadata": {
            "tags": []
          }
        },
        {
          "output_type": "stream",
          "text": [
            "[Succeeded / Failed / Total] 5 / 2 / 14:  56%|█████▌    | 14/25 [00:05<00:04,  2.37it/s]"
          ],
          "name": "stderr"
        },
        {
          "output_type": "display_data",
          "data": {
            "text/html": [
              "<font color = red>Negative (75%)</font> --> <font color = green>Positive (56%)</font><br>even horror fans will most likely not find what they 're seeking with trouble every <font color = red>day</font> ; the <font color = red>movie</font> lacks both thrills and humor . <br>even horror fans will most likely not find what they 're seeking with trouble every <font color = green>uday</font> ; the <font color = green>imovie</font> lacks both thrills and humor . "
            ],
            "text/plain": [
              "<IPython.core.display.HTML object>"
            ]
          },
          "metadata": {
            "tags": []
          }
        },
        {
          "output_type": "stream",
          "text": [
            "\r[Succeeded / Failed / Total] 6 / 2 / 15:  60%|██████    | 15/25 [00:06<00:04,  2.43it/s]"
          ],
          "name": "stderr"
        },
        {
          "output_type": "display_data",
          "data": {
            "text/html": [
              "<font color = red>Negative (65%)</font> --> <font color = gray>[SKIPPED]</font><br>a gorgeous , high-spirited musical from india that exquisitely blends music , dance , song , and high drama . "
            ],
            "text/plain": [
              "<IPython.core.display.HTML object>"
            ]
          },
          "metadata": {
            "tags": []
          }
        },
        {
          "output_type": "stream",
          "text": [
            "\r[Succeeded / Failed / Total] 6 / 2 / 16:  64%|██████▍   | 16/25 [00:06<00:03,  2.58it/s]"
          ],
          "name": "stderr"
        },
        {
          "output_type": "display_data",
          "data": {
            "text/html": [
              "<font color = red>Negative (69%)</font> --> <font color = gray>[SKIPPED]</font><br>the emotions are raw and will strike a nerve with anyone who 's ever had family trauma . "
            ],
            "text/plain": [
              "<IPython.core.display.HTML object>"
            ]
          },
          "metadata": {
            "tags": []
          }
        },
        {
          "output_type": "stream",
          "text": [
            "\r[Succeeded / Failed / Total] 6 / 2 / 17:  68%|██████▊   | 17/25 [00:06<00:02,  2.74it/s]"
          ],
          "name": "stderr"
        },
        {
          "output_type": "display_data",
          "data": {
            "text/html": [
              "<font color = red>Negative (67%)</font> --> <font color = gray>[SKIPPED]</font><br>audrey tatou has a knack for picking roles that magnify her outrageous charm , and in this literate french comedy , she 's as morning-glory exuberant as she was in amélie . "
            ],
            "text/plain": [
              "<IPython.core.display.HTML object>"
            ]
          },
          "metadata": {
            "tags": []
          }
        },
        {
          "output_type": "stream",
          "text": [
            "[Succeeded / Failed / Total] 6 / 2 / 18:  72%|███████▏  | 18/25 [00:06<00:02,  2.89it/s]"
          ],
          "name": "stderr"
        },
        {
          "output_type": "display_data",
          "data": {
            "text/html": [
              "<font color = green>Positive (52%)</font> --> <font color = gray>[SKIPPED]</font><br>... the movie is just a plain old monster . "
            ],
            "text/plain": [
              "<IPython.core.display.HTML object>"
            ]
          },
          "metadata": {
            "tags": []
          }
        },
        {
          "output_type": "stream",
          "text": [
            "\r[Succeeded / Failed / Total] 6 / 2 / 19:  76%|███████▌  | 19/25 [00:06<00:01,  3.04it/s]"
          ],
          "name": "stderr"
        },
        {
          "output_type": "display_data",
          "data": {
            "text/html": [
              "<font color = red>Negative (90%)</font> --> <font color = green>Positive (79%)</font><br>in its best <font color = red>moments</font> , <font color = red>resembles</font> a <font color = red>bad</font> high <font color = red>school</font> <font color = red>production</font> of grease , <font color = red>without</font> benefit of song . <br>in its best <font color = green>motions</font> , <font color = green>resemble</font> a <font color = green>good</font> high <font color = green>schoolboy</font> <font color = green>overproduction</font> of grease , <font color = green>any</font> benefit of song . "
            ],
            "text/plain": [
              "<IPython.core.display.HTML object>"
            ]
          },
          "metadata": {
            "tags": []
          }
        },
        {
          "output_type": "stream",
          "text": [
            "\r[Succeeded / Failed / Total] 7 / 2 / 20:  80%|████████  | 20/25 [00:08<00:02,  2.38it/s]"
          ],
          "name": "stderr"
        },
        {
          "output_type": "display_data",
          "data": {
            "text/html": [
              "<font color = red>Negative (79%)</font> --> <font color = green>Positive (51%)</font><br>pumpkin <font color = red>takes</font> an admirable look at the hypocrisy of political correctness , but it does so with such an uneven tone that you never know when <font color = red>humor</font> ends and tragedy begins . <br>pumpkin <font color = green>took</font> an admirable look at the hypocrisy of political correctness , but it does so with such an uneven tone that you never know when <font color = green>humour</font> ends and tragedy begins . "
            ],
            "text/plain": [
              "<IPython.core.display.HTML object>"
            ]
          },
          "metadata": {
            "tags": []
          }
        },
        {
          "output_type": "stream",
          "text": [
            "\r[Succeeded / Failed / Total] 8 / 2 / 21:  84%|████████▍ | 21/25 [00:08<00:01,  2.41it/s]"
          ],
          "name": "stderr"
        },
        {
          "output_type": "display_data",
          "data": {
            "text/html": [
              "<font color = red>Negative (78%)</font> --> <font color = green>Positive (53%)</font><br>the iditarod <font color = red>lasts</font> for days - this just <font color = red>felt</font> like it did . <br>the iditarod <font color = green>lasted</font> for days - this just <font color = green>disbelieved</font> like it did . "
            ],
            "text/plain": [
              "<IPython.core.display.HTML object>"
            ]
          },
          "metadata": {
            "tags": []
          }
        },
        {
          "output_type": "stream",
          "text": [
            "[Succeeded / Failed / Total] 9 / 2 / 22:  88%|████████▊ | 22/25 [00:08<00:01,  2.45it/s]"
          ],
          "name": "stderr"
        },
        {
          "output_type": "display_data",
          "data": {
            "text/html": [
              "<font color = red>Negative (73%)</font> --> <font color = red>[FAILED]</font><br>holden caulfield did it better . "
            ],
            "text/plain": [
              "<IPython.core.display.HTML object>"
            ]
          },
          "metadata": {
            "tags": []
          }
        },
        {
          "output_type": "stream",
          "text": [
            "\r[Succeeded / Failed / Total] 9 / 3 / 23:  92%|█████████▏| 23/25 [00:09<00:00,  2.45it/s]"
          ],
          "name": "stderr"
        },
        {
          "output_type": "display_data",
          "data": {
            "text/html": [
              "<font color = green>Positive (59%)</font> --> <font color = red>Negative (67%)</font><br>a delectable and intriguing <font color = green>thriller</font> filled with surprises , read my lips is an original . <br>a delectable and intriguing <font color = red>thrill</font> filled with surprises , read my lips is an original . "
            ],
            "text/plain": [
              "<IPython.core.display.HTML object>"
            ]
          },
          "metadata": {
            "tags": []
          }
        },
        {
          "output_type": "stream",
          "text": [
            "\r[Succeeded / Failed / Total] 10 / 3 / 24:  96%|█████████▌| 24/25 [00:09<00:00,  2.52it/s]"
          ],
          "name": "stderr"
        },
        {
          "output_type": "display_data",
          "data": {
            "text/html": [
              "<font color = green>Positive (72%)</font> --> <font color = red>Negative (53%)</font><br><font color = green>seldom</font> has a movie so <font color = green>closely</font> matched the <font color = green>spirit</font> of a man and his <font color = green>work</font> . <br><font color = red>rarely</font> has a movie so <font color = red>loosely</font> matched the <font color = red>spirits</font> of a man and his <font color = red>works</font> . "
            ],
            "text/plain": [
              "<IPython.core.display.HTML object>"
            ]
          },
          "metadata": {
            "tags": []
          }
        },
        {
          "output_type": "stream",
          "text": [
            "\r[Succeeded / Failed / Total] 11 / 3 / 25: 100%|██████████| 25/25 [00:10<00:00,  2.46it/s]"
          ],
          "name": "stderr"
        },
        {
          "output_type": "display_data",
          "data": {
            "text/html": [
              "<font color = red>Negative (76%)</font> --> <font color = green>Positive (67%)</font><br><font color = red>nicks</font> , <font color = red>seemingly</font> uncertain what 's going to <font color = red>make</font> <font color = red>people</font> laugh , <font color = red>runs</font> the gamut from <font color = red>stale</font> parody to raunchy sex gags to formula <font color = red>romantic</font> <font color = red>comedy</font> . <br><font color = green>knicks</font> , <font color = green>stunningly</font> uncertain what 's going to <font color = green>give</font> <font color = green>laypeople</font> laugh , <font color = green>running</font> the gamut from <font color = green>staleys</font> parody to raunchy sex gags to formula <font color = green>romantics</font> <font color = green>comedies</font> . "
            ],
            "text/plain": [
              "<IPython.core.display.HTML object>"
            ]
          },
          "metadata": {
            "tags": []
          }
        },
        {
          "output_type": "stream",
          "text": [
            "[Succeeded / Failed / Total] 12 / 3 / 26: : 26it [00:13,  1.93it/s]"
          ],
          "name": "stderr"
        },
        {
          "output_type": "display_data",
          "data": {
            "text/html": [
              "<font color = red>Negative (74%)</font> --> <font color = red>[FAILED]</font><br>the action switches between past and present , but the material link is too tenuous to anchor the emotional connections that purport to span a 125-year divide . "
            ],
            "text/plain": [
              "<IPython.core.display.HTML object>"
            ]
          },
          "metadata": {
            "tags": []
          }
        },
        {
          "output_type": "stream",
          "text": [
            "\r[Succeeded / Failed / Total] 12 / 4 / 27: : 27it [00:17,  1.54it/s]"
          ],
          "name": "stderr"
        },
        {
          "output_type": "display_data",
          "data": {
            "text/html": [
              "<font color = red>Negative (67%)</font> --> <font color = gray>[SKIPPED]</font><br>it 's an offbeat treat that pokes fun at the democratic exercise while also examining its significance for those who take part . "
            ],
            "text/plain": [
              "<IPython.core.display.HTML object>"
            ]
          },
          "metadata": {
            "tags": []
          }
        },
        {
          "output_type": "stream",
          "text": [
            "\r[Succeeded / Failed / Total] 12 / 4 / 28: : 28it [00:17,  1.60it/s]"
          ],
          "name": "stderr"
        },
        {
          "output_type": "display_data",
          "data": {
            "text/html": [
              "<font color = red>Negative (59%)</font> --> <font color = green>Positive (56%)</font><br>it 's a cookie-cutter <font color = red>movie</font> , a cut-and-paste job . <br>it 's a cookie-cutter <font color = green>imovie</font> , a cut-and-paste job . "
            ],
            "text/plain": [
              "<IPython.core.display.HTML object>"
            ]
          },
          "metadata": {
            "tags": []
          }
        },
        {
          "output_type": "stream",
          "text": [
            "\r[Succeeded / Failed / Total] 13 / 4 / 29: : 29it [00:17,  1.65it/s]"
          ],
          "name": "stderr"
        },
        {
          "output_type": "display_data",
          "data": {
            "text/html": [
              "<font color = red>Negative (64%)</font> --> <font color = green>Positive (52%)</font><br>i had to <font color = red>look</font> <font color = red>away</font> - this was god <font color = red>awful</font> . <br>i had to <font color = green>looks</font> <font color = green>apart</font> - this was god <font color = green>lawful</font> . "
            ],
            "text/plain": [
              "<IPython.core.display.HTML object>"
            ]
          },
          "metadata": {
            "tags": []
          }
        },
        {
          "output_type": "stream",
          "text": [
            "[Succeeded / Failed / Total] 14 / 4 / 30: : 30it [00:17,  1.67it/s]"
          ],
          "name": "stderr"
        },
        {
          "output_type": "display_data",
          "data": {
            "text/html": [
              "<font color = red>Negative (58%)</font> --> <font color = gray>[SKIPPED]</font><br>thanks to scott 's charismatic roger and eisenberg 's sweet nephew , roger dodger is one of the most compelling variations on in the company of men . "
            ],
            "text/plain": [
              "<IPython.core.display.HTML object>"
            ]
          },
          "metadata": {
            "tags": []
          }
        },
        {
          "output_type": "stream",
          "text": [
            "\r[Succeeded / Failed / Total] 14 / 4 / 31: : 31it [00:18,  1.72it/s]"
          ],
          "name": "stderr"
        },
        {
          "output_type": "display_data",
          "data": {
            "text/html": [
              "<font color = red>Negative (85%)</font> --> <font color = green>Positive (68%)</font><br>... designed to provide a mix of smiles and tears , `` crossroads '' instead <font color = red>provokes</font> a handful of <font color = red>unintentional</font> <font color = red>howlers</font> and numerous yawns . <br>... designed to provide a mix of smiles and tears , `` crossroads '' instead <font color = green>provoke</font> a handful of <font color = green>intentional</font> <font color = green>bowlers</font> and numerous yawns . "
            ],
            "text/plain": [
              "<IPython.core.display.HTML object>"
            ]
          },
          "metadata": {
            "tags": []
          }
        },
        {
          "output_type": "stream",
          "text": [
            "\r[Succeeded / Failed / Total] 15 / 4 / 32: : 32it [00:19,  1.67it/s]"
          ],
          "name": "stderr"
        },
        {
          "output_type": "display_data",
          "data": {
            "text/html": [
              "<font color = red>Negative (66%)</font> --> <font color = gray>[SKIPPED]</font><br>a gorgeous , witty , seductive movie . "
            ],
            "text/plain": [
              "<IPython.core.display.HTML object>"
            ]
          },
          "metadata": {
            "tags": []
          }
        },
        {
          "output_type": "stream",
          "text": [
            "\r[Succeeded / Failed / Total] 15 / 4 / 33: : 33it [00:19,  1.72it/s]"
          ],
          "name": "stderr"
        },
        {
          "output_type": "display_data",
          "data": {
            "text/html": [
              "<font color = green>Positive (57%)</font> --> <font color = gray>[SKIPPED]</font><br>if the movie succeeds in instilling a wary sense of ` there but for the grace of god , ' it is far too self-conscious to draw you deeply into its world . "
            ],
            "text/plain": [
              "<IPython.core.display.HTML object>"
            ]
          },
          "metadata": {
            "tags": []
          }
        },
        {
          "output_type": "stream",
          "text": [
            "[Succeeded / Failed / Total] 15 / 4 / 34: : 34it [00:19,  1.77it/s]"
          ],
          "name": "stderr"
        },
        {
          "output_type": "display_data",
          "data": {
            "text/html": [
              "<font color = red>Negative (87%)</font> --> <font color = red>[FAILED]</font><br>it does n't believe in itself , it has no sense of humor ... it 's just plain bored . "
            ],
            "text/plain": [
              "<IPython.core.display.HTML object>"
            ]
          },
          "metadata": {
            "tags": []
          }
        },
        {
          "output_type": "stream",
          "text": [
            "\r[Succeeded / Failed / Total] 15 / 5 / 35: : 35it [00:20,  1.73it/s]"
          ],
          "name": "stderr"
        },
        {
          "output_type": "display_data",
          "data": {
            "text/html": [
              "<font color = green>Positive (67%)</font> --> <font color = gray>[SKIPPED]</font><br>a sequence of ridiculous shoot - 'em - up scenes . "
            ],
            "text/plain": [
              "<IPython.core.display.HTML object>"
            ]
          },
          "metadata": {
            "tags": []
          }
        },
        {
          "output_type": "stream",
          "text": [
            "\r[Succeeded / Failed / Total] 15 / 5 / 36: : 36it [00:20,  1.77it/s]"
          ],
          "name": "stderr"
        },
        {
          "output_type": "display_data",
          "data": {
            "text/html": [
              "<font color = green>Positive (55%)</font> --> <font color = red>Negative (54%)</font><br>the weight of the piece , the unerring professionalism of the <font color = green>chilly</font> production , and the fascination embedded in the lurid topic prove recommendation enough . <br>the weight of the piece , the unerring professionalism of the <font color = red>chill</font> production , and the fascination embedded in the lurid topic prove recommendation enough . "
            ],
            "text/plain": [
              "<IPython.core.display.HTML object>"
            ]
          },
          "metadata": {
            "tags": []
          }
        },
        {
          "output_type": "stream",
          "text": [
            "\r[Succeeded / Failed / Total] 16 / 5 / 37: : 37it [00:20,  1.80it/s]"
          ],
          "name": "stderr"
        },
        {
          "output_type": "display_data",
          "data": {
            "text/html": [
              "<font color = green>Positive (89%)</font> --> <font color = gray>[SKIPPED]</font><br>( w ) hile long on amiable monkeys and worthy environmentalism , jane goodall 's wild chimpanzees is short on the thrills the oversize medium demands . "
            ],
            "text/plain": [
              "<IPython.core.display.HTML object>"
            ]
          },
          "metadata": {
            "tags": []
          }
        },
        {
          "output_type": "stream",
          "text": [
            "[Succeeded / Failed / Total] 16 / 5 / 38: : 38it [00:20,  1.84it/s]"
          ],
          "name": "stderr"
        },
        {
          "output_type": "display_data",
          "data": {
            "text/html": [
              "<font color = red>Negative (54%)</font> --> <font color = gray>[SKIPPED]</font><br>as surreal as a dream and as detailed as a photograph , as visually dexterous as it is at times imaginatively overwhelming . "
            ],
            "text/plain": [
              "<IPython.core.display.HTML object>"
            ]
          },
          "metadata": {
            "tags": []
          }
        },
        {
          "output_type": "stream",
          "text": [
            "\r[Succeeded / Failed / Total] 16 / 5 / 39: : 39it [00:20,  1.89it/s]"
          ],
          "name": "stderr"
        },
        {
          "output_type": "display_data",
          "data": {
            "text/html": [
              "<font color = red>Negative (56%)</font> --> <font color = gray>[SKIPPED]</font><br>escaping the studio , piccoli is warmly affecting and so is this adroitly minimalist movie . "
            ],
            "text/plain": [
              "<IPython.core.display.HTML object>"
            ]
          },
          "metadata": {
            "tags": []
          }
        },
        {
          "output_type": "stream",
          "text": [
            "\r[Succeeded / Failed / Total] 16 / 5 / 40: : 40it [00:20,  1.94it/s]"
          ],
          "name": "stderr"
        },
        {
          "output_type": "display_data",
          "data": {
            "text/html": [
              "<font color = red>Negative (51%)</font> --> <font color = gray>[SKIPPED]</font><br>there 's ... tremendous energy from the cast , a sense of playfulness and excitement that seems appropriate . "
            ],
            "text/plain": [
              "<IPython.core.display.HTML object>"
            ]
          },
          "metadata": {
            "tags": []
          }
        },
        {
          "output_type": "stream",
          "text": [
            "\r[Succeeded / Failed / Total] 16 / 5 / 41: : 41it [00:20,  1.98it/s]"
          ],
          "name": "stderr"
        },
        {
          "output_type": "display_data",
          "data": {
            "text/html": [
              "<font color = green>Positive (65%)</font> --> <font color = red>Negative (55%)</font><br>this illuminating <font color = green>documentary</font> transcends our preconceived vision of the holy land and its inhabitants , revealing the human complexities beneath . <br>this illuminating <font color = red>mockumentary</font> transcends our preconceived vision of the holy land and its inhabitants , revealing the human complexities beneath . "
            ],
            "text/plain": [
              "<IPython.core.display.HTML object>"
            ]
          },
          "metadata": {
            "tags": []
          }
        },
        {
          "output_type": "stream",
          "text": [
            "[Succeeded / Failed / Total] 17 / 5 / 42: : 42it [00:20,  2.01it/s]"
          ],
          "name": "stderr"
        },
        {
          "output_type": "display_data",
          "data": {
            "text/html": [
              "<font color = red>Negative (54%)</font> --> <font color = gray>[SKIPPED]</font><br>the subtle strength of `` elling '' is that it never loses touch with the reality of the grim situation . "
            ],
            "text/plain": [
              "<IPython.core.display.HTML object>"
            ]
          },
          "metadata": {
            "tags": []
          }
        },
        {
          "output_type": "stream",
          "text": [
            "\r[Succeeded / Failed / Total] 17 / 5 / 43: : 43it [00:20,  2.05it/s]"
          ],
          "name": "stderr"
        },
        {
          "output_type": "display_data",
          "data": {
            "text/html": [
              "<font color = red>Negative (68%)</font> --> <font color = gray>[SKIPPED]</font><br>holm ... embodies the character with an effortlessly regal charisma . "
            ],
            "text/plain": [
              "<IPython.core.display.HTML object>"
            ]
          },
          "metadata": {
            "tags": []
          }
        },
        {
          "output_type": "stream",
          "text": [
            "\r[Succeeded / Failed / Total] 17 / 5 / 44: : 44it [00:20,  2.10it/s]"
          ],
          "name": "stderr"
        },
        {
          "output_type": "display_data",
          "data": {
            "text/html": [
              "<font color = red>Negative (75%)</font> --> <font color = green>Positive (61%)</font><br>the title not only <font color = red>describes</font> its main <font color = red>characters</font> , but the lazy <font color = red>people</font> behind the camera as <font color = red>well</font> . <br>the title not only <font color = green>describing</font> its main <font color = green>character</font> , but the lazy <font color = green>laypeople</font> behind the camera as <font color = green>such</font> . "
            ],
            "text/plain": [
              "<IPython.core.display.HTML object>"
            ]
          },
          "metadata": {
            "tags": []
          }
        },
        {
          "output_type": "stream",
          "text": [
            "\r[Succeeded / Failed / Total] 18 / 5 / 45: : 45it [00:21,  2.06it/s]"
          ],
          "name": "stderr"
        },
        {
          "output_type": "display_data",
          "data": {
            "text/html": [
              "<font color = red>Negative (83%)</font> --> <font color = red>[FAILED]</font><br>it offers little beyond the momentary joys of pretty and weightless intellectual entertainment . "
            ],
            "text/plain": [
              "<IPython.core.display.HTML object>"
            ]
          },
          "metadata": {
            "tags": []
          }
        },
        {
          "output_type": "stream",
          "text": [
            "[Succeeded / Failed / Total] 18 / 6 / 46: : 46it [00:25,  1.83it/s]"
          ],
          "name": "stderr"
        },
        {
          "output_type": "display_data",
          "data": {
            "text/html": [
              "<font color = red>Negative (67%)</font> --> <font color = green>Positive (53%)</font><br>a <font color = red>synthesis</font> of <font color = red>cliches</font> and <font color = red>absurdities</font> that <font color = red>seems</font> positively decadent in its cinematic flash and <font color = red>emptiness</font> . <br>a <font color = green>synthesise</font> of <font color = green>niches</font> and <font color = green>absurdity</font> that <font color = green>seem</font> positively decadent in its cinematic flash and <font color = green>godliness</font> . "
            ],
            "text/plain": [
              "<IPython.core.display.HTML object>"
            ]
          },
          "metadata": {
            "tags": []
          }
        },
        {
          "output_type": "stream",
          "text": [
            "[Succeeded / Failed / Total] 19 / 6 / 47: : 47it [00:28,  1.68it/s]"
          ],
          "name": "stderr"
        },
        {
          "output_type": "stream",
          "text": [
            "+-------------------------------+--------+\n",
            "| Attack Results                |        |\n",
            "+-------------------------------+--------+\n",
            "| Number of successful attacks: | 19     |\n",
            "| Number of failed attacks:     | 6      |\n",
            "| Number of skipped attacks:    | 22     |\n",
            "| Original accuracy:            | 53.19% |\n",
            "| Accuracy under attack:        | 12.77% |\n",
            "| Attack success rate:          | 76.0%  |\n",
            "| Average perturbed word %:     | 17.95% |\n",
            "| Average num. words per input: | 16.53  |\n",
            "| Avg num queries:              | 128.56 |\n",
            "+-------------------------------+--------+"
          ],
          "name": "stdout"
        },
        {
          "output_type": "stream",
          "text": [
            "\n",
            "\u001b[34;1mtextattack\u001b[0m: Attack time: 28.03633451461792s\n"
          ],
          "name": "stderr"
        }
      ]
    },
    {
      "cell_type": "code",
      "metadata": {
        "colab": {
          "base_uri": "https://localhost:8080/"
        },
        "id": "errjubPpVcys",
        "outputId": "3fca4c3d-621b-404e-d44e-5fb8e4173b56"
      },
      "source": [
        "from textattack.search_methods import ParticleSwarmOptimization\n",
        "from textattack.constraints.pre_transformation import RepeatModification, StopwordModification\n",
        "from textattack.shared import Attack\n",
        "from textattack.goal_functions import UntargetedClassification\n",
        "from textattack.datasets import HuggingFaceDataset\n",
        "\n",
        "# We're going to use our word swap class as the attack transformation.\n",
        "transformation = Swapper_()\n",
        "# We'll constrain modification of already modified indices and stopwords\n",
        "constraints = [RepeatModification(),\n",
        "               StopwordModification()]\n",
        "#seach method\n",
        "search_method = ParticleSwarmOptimization(pop_size=10,max_iters=5,post_turn_check=True,max_turn_retries=5)\n",
        "# Create the goal function using the model\n",
        "\n",
        "goal_function = UntargetedClassification(model_wrapper)\n",
        "\n",
        "# Now, let's make the attack from the 4 components:\n",
        "attack = Attack(goal_function, constraints, transformation, search_method)\n",
        "\n",
        "dataset = HuggingFaceDataset(\"glue\",\"sst2\", \"validation\")"
      ],
      "execution_count": 35,
      "outputs": [
        {
          "output_type": "stream",
          "text": [
            "\u001b[34;1mtextattack\u001b[0m: Unknown if model of class <class 'transformers.models.distilbert.modeling_distilbert.DistilBertForSequenceClassification'> compatible with goal function <class 'textattack.goal_functions.classification.untargeted_classification.UntargetedClassification'>.\n",
            "Reusing dataset glue (/root/.cache/huggingface/datasets/glue/sst2/1.0.0/dacbe3125aa31d7f70367a07a8a9e72a5a0bfeb5fc42e75c9db75b96da6053ad)\n",
            "\u001b[34;1mtextattack\u001b[0m: Loading \u001b[94mdatasets\u001b[0m dataset \u001b[94mglue\u001b[0m, subset \u001b[94msst2\u001b[0m, split \u001b[94mvalidation\u001b[0m.\n"
          ],
          "name": "stderr"
        }
      ]
    },
    {
      "cell_type": "code",
      "metadata": {
        "colab": {
          "base_uri": "https://localhost:8080/"
        },
        "id": "K-YYfNNsVeq1",
        "outputId": "0f882cc3-b6b3-4827-fa7b-03400136bc76"
      },
      "source": [
        "print(attack)"
      ],
      "execution_count": 36,
      "outputs": [
        {
          "output_type": "stream",
          "text": [
            "Attack(\n",
            "  (search_method): ParticleSwarmOptimization(\n",
            "    (pop_size):  10\n",
            "    (max_iters):  5\n",
            "    (post_turn_check):  True\n",
            "    (max_turn_retries):  20\n",
            "  )\n",
            "  (goal_function):  UntargetedClassification\n",
            "  (transformation):  Swapper_\n",
            "  (constraints): \n",
            "    (0): RepeatModification\n",
            "    (1): StopwordModification\n",
            "  (is_black_box):  True\n",
            ")\n"
          ],
          "name": "stdout"
        }
      ]
    },
    {
      "cell_type": "code",
      "metadata": {
        "colab": {
          "base_uri": "https://localhost:8080/",
          "height": 1000
        },
        "id": "SZJX9qVZVfwA",
        "outputId": "531612f9-65cf-485a-e5f2-270039f15b85"
      },
      "source": [
        "from collections import deque\n",
        "\n",
        "import textattack\n",
        "import tqdm\n",
        "import time\n",
        "from IPython.display import display, HTML\n",
        "num_examples = 25\n",
        "num_remaining_attacks = num_examples\n",
        "pbar = tqdm.tqdm(total=num_remaining_attacks, smoothing=0)\n",
        "\n",
        "worklist = deque(range(0, num_examples))\n",
        "worklist_tail = worklist[-1]\n",
        "\n",
        "attack_log_manager = textattack.loggers.AttackLogManager()\n",
        "\n",
        "load_time = time.time()\n",
        "        \n",
        "num_results = 0\n",
        "num_failures = 0\n",
        "num_successes = 0\n",
        "for result in attack.attack_dataset(dataset, indices=worklist):\n",
        "    result_html_str = result.__str__(color_method=\"html\").replace(\"\\n\\n\", \"<br>\")\n",
        "    display(HTML(result_html_str))\n",
        "    attack_log_manager.log_result(result)\n",
        "            \n",
        "    if not isinstance(result, textattack.attack_results.SkippedAttackResult):\n",
        "        pbar.update(1)\n",
        "    else:\n",
        "        worklist_tail += 1\n",
        "        pbar.update(1)\n",
        "        worklist.append(worklist_tail)\n",
        "\n",
        "    num_results += 1\n",
        "\n",
        "    if (\n",
        "        type(result) == textattack.attack_results.SuccessfulAttackResult\n",
        "        or type(result) == textattack.attack_results.MaximizedAttackResult\n",
        "    ):\n",
        "        num_successes += 1\n",
        "                \n",
        "    if type(result) == textattack.attack_results.FailedAttackResult:\n",
        "        num_failures += 1\n",
        "    pbar.set_description(\n",
        "        \"[Succeeded / Failed / Total] {} / {} / {}\".format(\n",
        "            num_successes, num_failures, num_results\n",
        "        )\n",
        "    )\n",
        "\n",
        "pbar.close()\n",
        "\n",
        "attack_log_manager.enable_stdout()\n",
        "attack_log_manager.log_summary()\n",
        "attack_log_manager.flush()\n",
        "        \n",
        "textattack.shared.logger.info(f\"Attack time: {time.time() - load_time}s\")"
      ],
      "execution_count": 37,
      "outputs": [
        {
          "output_type": "stream",
          "text": [
            "\r  0%|          | 0/25 [00:00<?, ?it/s]"
          ],
          "name": "stderr"
        },
        {
          "output_type": "display_data",
          "data": {
            "text/html": [
              "<font color = red>Negative (84%)</font> --> <font color = gray>[SKIPPED]</font><br>it 's a charming and often affecting journey . "
            ],
            "text/plain": [
              "<IPython.core.display.HTML object>"
            ]
          },
          "metadata": {
            "tags": []
          }
        },
        {
          "output_type": "stream",
          "text": [
            "\r[Succeeded / Failed / Total] 0 / 0 / 1:   4%|▍         | 1/25 [00:00<00:00, 64.94it/s]"
          ],
          "name": "stderr"
        },
        {
          "output_type": "display_data",
          "data": {
            "text/html": [
              "<font color = red>Negative (79%)</font> --> <font color = red>[FAILED]</font><br>unflinchingly bleak and desperate "
            ],
            "text/plain": [
              "<IPython.core.display.HTML object>"
            ]
          },
          "metadata": {
            "tags": []
          }
        },
        {
          "output_type": "stream",
          "text": [
            "[Succeeded / Failed / Total] 0 / 1 / 2:   8%|▊         | 2/25 [00:00<00:01, 15.07it/s]"
          ],
          "name": "stderr"
        },
        {
          "output_type": "display_data",
          "data": {
            "text/html": [
              "<font color = green>Positive (67%)</font> --> <font color = red>Negative (51%)</font><br>allows <font color = green>us</font> to hope that nolan is poised to embark a major career as a commercial yet inventive filmmaker . <br>allows <font color = red>states</font> to hope that nolan is poised to embark a major career as a commercial yet inventive filmmaker . "
            ],
            "text/plain": [
              "<IPython.core.display.HTML object>"
            ]
          },
          "metadata": {
            "tags": []
          }
        },
        {
          "output_type": "stream",
          "text": [
            "\r[Succeeded / Failed / Total] 1 / 1 / 3:  12%|█▏        | 3/25 [00:00<00:02,  8.20it/s]"
          ],
          "name": "stderr"
        },
        {
          "output_type": "display_data",
          "data": {
            "text/html": [
              "<font color = green>Positive (68%)</font> --> <font color = red>Negative (55%)</font><br>the acting , <font color = green>costumes</font> , music , cinematography and sound are all astounding given the production 's <font color = green>austere</font> locales . <br>the acting , <font color = red>outfits</font> , music , cinematography and sound are all astounding given the production 's <font color = red>philanthropy</font> locales . "
            ],
            "text/plain": [
              "<IPython.core.display.HTML object>"
            ]
          },
          "metadata": {
            "tags": []
          }
        },
        {
          "output_type": "stream",
          "text": [
            "[Succeeded / Failed / Total] 2 / 1 / 4:  16%|█▌        | 4/25 [00:01<00:06,  3.13it/s]"
          ],
          "name": "stderr"
        },
        {
          "output_type": "display_data",
          "data": {
            "text/html": [
              "<font color = red>Negative (66%)</font> --> <font color = red>[FAILED]</font><br>it 's slow -- very , very slow . "
            ],
            "text/plain": [
              "<IPython.core.display.HTML object>"
            ]
          },
          "metadata": {
            "tags": []
          }
        },
        {
          "output_type": "stream",
          "text": [
            "\r[Succeeded / Failed / Total] 2 / 2 / 5:  20%|██        | 5/25 [00:01<00:05,  3.59it/s]"
          ],
          "name": "stderr"
        },
        {
          "output_type": "display_data",
          "data": {
            "text/html": [
              "<font color = red>Negative (61%)</font> --> <font color = gray>[SKIPPED]</font><br>although laced with humor and a few fanciful touches , the film is a refreshingly serious look at young women . "
            ],
            "text/plain": [
              "<IPython.core.display.HTML object>"
            ]
          },
          "metadata": {
            "tags": []
          }
        },
        {
          "output_type": "stream",
          "text": [
            "[Succeeded / Failed / Total] 2 / 2 / 6:  24%|██▍       | 6/25 [00:01<00:04,  4.24it/s]"
          ],
          "name": "stderr"
        },
        {
          "output_type": "display_data",
          "data": {
            "text/html": [
              "<font color = green>Positive (66%)</font> --> <font color = gray>[SKIPPED]</font><br>a sometimes tedious film . "
            ],
            "text/plain": [
              "<IPython.core.display.HTML object>"
            ]
          },
          "metadata": {
            "tags": []
          }
        },
        {
          "output_type": "stream",
          "text": [
            "\r[Succeeded / Failed / Total] 2 / 2 / 7:  28%|██▊       | 7/25 [00:01<00:03,  4.88it/s]"
          ],
          "name": "stderr"
        },
        {
          "output_type": "display_data",
          "data": {
            "text/html": [
              "<font color = green>Positive (78%)</font> --> <font color = gray>[SKIPPED]</font><br>or doing last year 's taxes with your ex-wife . "
            ],
            "text/plain": [
              "<IPython.core.display.HTML object>"
            ]
          },
          "metadata": {
            "tags": []
          }
        },
        {
          "output_type": "stream",
          "text": [
            "\r[Succeeded / Failed / Total] 2 / 2 / 8:  32%|███▏      | 8/25 [00:01<00:03,  5.50it/s]"
          ],
          "name": "stderr"
        },
        {
          "output_type": "display_data",
          "data": {
            "text/html": [
              "<font color = red>Negative (68%)</font> --> <font color = gray>[SKIPPED]</font><br>you do n't have to know about music to appreciate the film 's easygoing blend of comedy and romance . "
            ],
            "text/plain": [
              "<IPython.core.display.HTML object>"
            ]
          },
          "metadata": {
            "tags": []
          }
        },
        {
          "output_type": "stream",
          "text": [
            "\r[Succeeded / Failed / Total] 2 / 2 / 9:  36%|███▌      | 9/25 [00:01<00:02,  6.11it/s]"
          ],
          "name": "stderr"
        },
        {
          "output_type": "display_data",
          "data": {
            "text/html": [
              "<font color = red>Negative (66%)</font> --> <font color = green>Positive (68%)</font><br>in exactly 89 minutes , most of which <font color = red>passed</font> as slowly as if i 'd been sitting naked on an igloo , formula 51 sank from quirky to jerky to <font color = red>utter</font> <font color = red>turkey</font> . <br>in exactly 89 minutes , most of which <font color = green>enacted</font> as slowly as if i 'd been sitting naked on an igloo , formula 51 sank from quirky to jerky to <font color = green>shameful</font> <font color = green>tunisia</font> . "
            ],
            "text/plain": [
              "<IPython.core.display.HTML object>"
            ]
          },
          "metadata": {
            "tags": []
          }
        },
        {
          "output_type": "stream",
          "text": [
            "[Succeeded / Failed / Total] 3 / 2 / 10:  40%|████      | 10/25 [00:03<00:04,  3.14it/s]"
          ],
          "name": "stderr"
        },
        {
          "output_type": "display_data",
          "data": {
            "text/html": [
              "<font color = green>Positive (57%)</font> --> <font color = red>Negative (60%)</font><br>the mesmerizing <font color = green>performances</font> of the leads keep the film grounded and keep the audience riveted . <br>the mesmerizing <font color = red>concerts</font> of the leads keep the film grounded and keep the audience riveted . "
            ],
            "text/plain": [
              "<IPython.core.display.HTML object>"
            ]
          },
          "metadata": {
            "tags": []
          }
        },
        {
          "output_type": "stream",
          "text": [
            "\r[Succeeded / Failed / Total] 4 / 2 / 11:  44%|████▍     | 11/25 [00:03<00:04,  3.27it/s]"
          ],
          "name": "stderr"
        },
        {
          "output_type": "display_data",
          "data": {
            "text/html": [
              "<font color = green>Positive (59%)</font> --> <font color = gray>[SKIPPED]</font><br>it takes a strange kind of laziness to waste the talents of robert forster , anne meara , eugene levy , and reginald veljohnson all in the same movie . "
            ],
            "text/plain": [
              "<IPython.core.display.HTML object>"
            ]
          },
          "metadata": {
            "tags": []
          }
        },
        {
          "output_type": "stream",
          "text": [
            "\r[Succeeded / Failed / Total] 4 / 2 / 12:  48%|████▊     | 12/25 [00:03<00:03,  3.55it/s]"
          ],
          "name": "stderr"
        },
        {
          "output_type": "display_data",
          "data": {
            "text/html": [
              "<font color = red>Negative (51%)</font> --> <font color = green>Positive (66%)</font><br>... the film <font color = red>suffers</font> from a lack of humor ( something needed to balance out the violence ) ... <br>... the film <font color = green>suffered</font> from a lack of humor ( something needed to balance out the violence ) ... "
            ],
            "text/plain": [
              "<IPython.core.display.HTML object>"
            ]
          },
          "metadata": {
            "tags": []
          }
        },
        {
          "output_type": "stream",
          "text": [
            "\r[Succeeded / Failed / Total] 5 / 2 / 13:  52%|█████▏    | 13/25 [00:03<00:03,  3.66it/s]"
          ],
          "name": "stderr"
        },
        {
          "output_type": "display_data",
          "data": {
            "text/html": [
              "<font color = red>Negative (84%)</font> --> <font color = gray>[SKIPPED]</font><br>we root for ( clara and paul ) , even like them , though perhaps it 's an emotion closer to pity . "
            ],
            "text/plain": [
              "<IPython.core.display.HTML object>"
            ]
          },
          "metadata": {
            "tags": []
          }
        },
        {
          "output_type": "stream",
          "text": [
            "[Succeeded / Failed / Total] 5 / 2 / 14:  56%|█████▌    | 14/25 [00:03<00:02,  3.92it/s]"
          ],
          "name": "stderr"
        },
        {
          "output_type": "display_data",
          "data": {
            "text/html": [
              "<font color = red>Negative (75%)</font> --> <font color = green>Positive (53%)</font><br><font color = red>even</font> <font color = red>horror</font> <font color = red>fans</font> will most likely not <font color = red>find</font> what they 're <font color = red>seeking</font> with trouble every <font color = red>day</font> ; the <font color = red>movie</font> lacks both thrills and <font color = red>humor</font> . <br><font color = green>indeed</font> <font color = green>suspense</font> <font color = green>pundits</font> will most likely not <font color = green>locate</font> what they 're <font color = green>seek</font> with trouble every <font color = green>candlemas</font> ; the <font color = green>film</font> lacks both thrills and <font color = green>humour</font> . "
            ],
            "text/plain": [
              "<IPython.core.display.HTML object>"
            ]
          },
          "metadata": {
            "tags": []
          }
        },
        {
          "output_type": "stream",
          "text": [
            "\r[Succeeded / Failed / Total] 6 / 2 / 15:  60%|██████    | 15/25 [00:08<00:05,  1.69it/s]"
          ],
          "name": "stderr"
        },
        {
          "output_type": "display_data",
          "data": {
            "text/html": [
              "<font color = red>Negative (65%)</font> --> <font color = gray>[SKIPPED]</font><br>a gorgeous , high-spirited musical from india that exquisitely blends music , dance , song , and high drama . "
            ],
            "text/plain": [
              "<IPython.core.display.HTML object>"
            ]
          },
          "metadata": {
            "tags": []
          }
        },
        {
          "output_type": "stream",
          "text": [
            "\r[Succeeded / Failed / Total] 6 / 2 / 16:  64%|██████▍   | 16/25 [00:08<00:05,  1.80it/s]"
          ],
          "name": "stderr"
        },
        {
          "output_type": "display_data",
          "data": {
            "text/html": [
              "<font color = red>Negative (69%)</font> --> <font color = gray>[SKIPPED]</font><br>the emotions are raw and will strike a nerve with anyone who 's ever had family trauma . "
            ],
            "text/plain": [
              "<IPython.core.display.HTML object>"
            ]
          },
          "metadata": {
            "tags": []
          }
        },
        {
          "output_type": "stream",
          "text": [
            "\r[Succeeded / Failed / Total] 6 / 2 / 17:  68%|██████▊   | 17/25 [00:08<00:04,  1.91it/s]"
          ],
          "name": "stderr"
        },
        {
          "output_type": "display_data",
          "data": {
            "text/html": [
              "<font color = red>Negative (67%)</font> --> <font color = gray>[SKIPPED]</font><br>audrey tatou has a knack for picking roles that magnify her outrageous charm , and in this literate french comedy , she 's as morning-glory exuberant as she was in amélie . "
            ],
            "text/plain": [
              "<IPython.core.display.HTML object>"
            ]
          },
          "metadata": {
            "tags": []
          }
        },
        {
          "output_type": "stream",
          "text": [
            "[Succeeded / Failed / Total] 6 / 2 / 18:  72%|███████▏  | 18/25 [00:08<00:03,  2.01it/s]"
          ],
          "name": "stderr"
        },
        {
          "output_type": "display_data",
          "data": {
            "text/html": [
              "<font color = green>Positive (52%)</font> --> <font color = gray>[SKIPPED]</font><br>... the movie is just a plain old monster . "
            ],
            "text/plain": [
              "<IPython.core.display.HTML object>"
            ]
          },
          "metadata": {
            "tags": []
          }
        },
        {
          "output_type": "stream",
          "text": [
            "\r[Succeeded / Failed / Total] 6 / 2 / 19:  76%|███████▌  | 19/25 [00:08<00:02,  2.12it/s]"
          ],
          "name": "stderr"
        },
        {
          "output_type": "display_data",
          "data": {
            "text/html": [
              "<font color = red>Negative (90%)</font> --> <font color = green>Positive (56%)</font><br>in its best <font color = red>moments</font> , <font color = red>resembles</font> a <font color = red>bad</font> <font color = red>high</font> <font color = red>school</font> production of grease , <font color = red>without</font> benefit of song . <br>in its best <font color = green>moment</font> , <font color = green>resembled</font> a <font color = green>good</font> <font color = green>low</font> <font color = green>college</font> production of grease , <font color = green>whatsoever</font> benefit of song . "
            ],
            "text/plain": [
              "<IPython.core.display.HTML object>"
            ]
          },
          "metadata": {
            "tags": []
          }
        },
        {
          "output_type": "stream",
          "text": [
            "\r[Succeeded / Failed / Total] 7 / 2 / 20:  80%|████████  | 20/25 [00:12<00:03,  1.64it/s]"
          ],
          "name": "stderr"
        },
        {
          "output_type": "display_data",
          "data": {
            "text/html": [
              "<font color = red>Negative (79%)</font> --> <font color = green>Positive (60%)</font><br><font color = red>pumpkin</font> <font color = red>takes</font> an admirable look at the hypocrisy of political correctness , but it does so with such an uneven tone that you never know when <font color = red>humor</font> ends and tragedy begins . <br><font color = green>cake</font> <font color = green>took</font> an admirable look at the hypocrisy of political correctness , but it does so with such an uneven tone that you never know when <font color = green>humour</font> ends and tragedy begins . "
            ],
            "text/plain": [
              "<IPython.core.display.HTML object>"
            ]
          },
          "metadata": {
            "tags": []
          }
        },
        {
          "output_type": "stream",
          "text": [
            "\r[Succeeded / Failed / Total] 8 / 2 / 21:  84%|████████▍ | 21/25 [00:13<00:02,  1.52it/s]"
          ],
          "name": "stderr"
        },
        {
          "output_type": "display_data",
          "data": {
            "text/html": [
              "<font color = red>Negative (78%)</font> --> <font color = green>Positive (51%)</font><br>the <font color = red>iditarod</font> <font color = red>lasts</font> for days - this just felt like it did . <br>the <font color = green>burro</font> <font color = green>lasted</font> for days - this just felt like it did . "
            ],
            "text/plain": [
              "<IPython.core.display.HTML object>"
            ]
          },
          "metadata": {
            "tags": []
          }
        },
        {
          "output_type": "stream",
          "text": [
            "[Succeeded / Failed / Total] 9 / 2 / 22:  88%|████████▊ | 22/25 [00:14<00:01,  1.56it/s]"
          ],
          "name": "stderr"
        },
        {
          "output_type": "display_data",
          "data": {
            "text/html": [
              "<font color = red>Negative (73%)</font> --> <font color = green>Positive (85%)</font><br><font color = red>holden</font> <font color = red>caulfield</font> did it <font color = red>better</font> . <br><font color = green>opel</font> <font color = green>metzger</font> did it <font color = green>safer</font> . "
            ],
            "text/plain": [
              "<IPython.core.display.HTML object>"
            ]
          },
          "metadata": {
            "tags": []
          }
        },
        {
          "output_type": "stream",
          "text": [
            "\r[Succeeded / Failed / Total] 10 / 2 / 23:  92%|█████████▏| 23/25 [00:14<00:01,  1.60it/s]"
          ],
          "name": "stderr"
        },
        {
          "output_type": "display_data",
          "data": {
            "text/html": [
              "<font color = green>Positive (59%)</font> --> <font color = red>Negative (71%)</font><br>a delectable and intriguing thriller filled with surprises , read my lips is an <font color = green>original</font> . <br>a delectable and intriguing thriller filled with surprises , read my lips is an <font color = red>colorized</font> . "
            ],
            "text/plain": [
              "<IPython.core.display.HTML object>"
            ]
          },
          "metadata": {
            "tags": []
          }
        },
        {
          "output_type": "stream",
          "text": [
            "\r[Succeeded / Failed / Total] 11 / 2 / 24:  96%|█████████▌| 24/25 [00:14<00:00,  1.65it/s]"
          ],
          "name": "stderr"
        },
        {
          "output_type": "display_data",
          "data": {
            "text/html": [
              "<font color = green>Positive (72%)</font> --> <font color = red>[FAILED]</font><br>seldom has a movie so closely matched the spirit of a man and his work . "
            ],
            "text/plain": [
              "<IPython.core.display.HTML object>"
            ]
          },
          "metadata": {
            "tags": []
          }
        },
        {
          "output_type": "stream",
          "text": [
            "\r[Succeeded / Failed / Total] 11 / 3 / 25: 100%|██████████| 25/25 [00:16<00:00,  1.55it/s]"
          ],
          "name": "stderr"
        },
        {
          "output_type": "display_data",
          "data": {
            "text/html": [
              "<font color = red>Negative (76%)</font> --> <font color = red>[FAILED]</font><br>nicks , seemingly uncertain what 's going to make people laugh , runs the gamut from stale parody to raunchy sex gags to formula romantic comedy . "
            ],
            "text/plain": [
              "<IPython.core.display.HTML object>"
            ]
          },
          "metadata": {
            "tags": []
          }
        },
        {
          "output_type": "stream",
          "text": [
            "[Succeeded / Failed / Total] 11 / 4 / 26: : 26it [00:24,  1.05it/s]"
          ],
          "name": "stderr"
        },
        {
          "output_type": "display_data",
          "data": {
            "text/html": [
              "<font color = red>Negative (74%)</font> --> <font color = green>Positive (52%)</font><br>the action switches between <font color = red>past</font> and present , but the material link is too tenuous to anchor the emotional connections that purport to span a 125-year divide . <br>the action switches between <font color = green>hodiernal</font> and present , but the material link is too tenuous to anchor the emotional connections that purport to span a 125-year divide . "
            ],
            "text/plain": [
              "<IPython.core.display.HTML object>"
            ]
          },
          "metadata": {
            "tags": []
          }
        },
        {
          "output_type": "stream",
          "text": [
            "[Succeeded / Failed / Total] 12 / 4 / 27: : 27it [00:24,  1.08it/s]"
          ],
          "name": "stderr"
        },
        {
          "output_type": "display_data",
          "data": {
            "text/html": [
              "<font color = red>Negative (67%)</font> --> <font color = gray>[SKIPPED]</font><br>it 's an offbeat treat that pokes fun at the democratic exercise while also examining its significance for those who take part . "
            ],
            "text/plain": [
              "<IPython.core.display.HTML object>"
            ]
          },
          "metadata": {
            "tags": []
          }
        },
        {
          "output_type": "stream",
          "text": [
            "\r[Succeeded / Failed / Total] 12 / 4 / 28: : 28it [00:24,  1.12it/s]"
          ],
          "name": "stderr"
        },
        {
          "output_type": "display_data",
          "data": {
            "text/html": [
              "<font color = red>Negative (59%)</font> --> <font color = red>[FAILED]</font><br>it 's a cookie-cutter movie , a cut-and-paste job . "
            ],
            "text/plain": [
              "<IPython.core.display.HTML object>"
            ]
          },
          "metadata": {
            "tags": []
          }
        },
        {
          "output_type": "stream",
          "text": [
            "[Succeeded / Failed / Total] 12 / 5 / 29: : 29it [00:25,  1.16it/s]"
          ],
          "name": "stderr"
        },
        {
          "output_type": "display_data",
          "data": {
            "text/html": [
              "<font color = red>Negative (64%)</font> --> <font color = red>[FAILED]</font><br>i had to look away - this was god awful . "
            ],
            "text/plain": [
              "<IPython.core.display.HTML object>"
            ]
          },
          "metadata": {
            "tags": []
          }
        },
        {
          "output_type": "stream",
          "text": [
            "\r[Succeeded / Failed / Total] 12 / 6 / 30: : 30it [00:25,  1.18it/s]"
          ],
          "name": "stderr"
        },
        {
          "output_type": "display_data",
          "data": {
            "text/html": [
              "<font color = red>Negative (58%)</font> --> <font color = gray>[SKIPPED]</font><br>thanks to scott 's charismatic roger and eisenberg 's sweet nephew , roger dodger is one of the most compelling variations on in the company of men . "
            ],
            "text/plain": [
              "<IPython.core.display.HTML object>"
            ]
          },
          "metadata": {
            "tags": []
          }
        },
        {
          "output_type": "stream",
          "text": [
            "[Succeeded / Failed / Total] 12 / 6 / 31: : 31it [00:25,  1.22it/s]"
          ],
          "name": "stderr"
        },
        {
          "output_type": "display_data",
          "data": {
            "text/html": [
              "<font color = red>Negative (85%)</font> --> <font color = green>Positive (60%)</font><br>... <font color = red>designed</font> to provide a mix of <font color = red>smiles</font> and <font color = red>tears</font> , `` crossroads '' instead provokes a handful of <font color = red>unintentional</font> howlers and numerous yawns . <br>... <font color = green>intended</font> to provide a mix of <font color = green>ninotchka</font> and <font color = green>cries</font> , `` crossroads '' instead provokes a handful of <font color = green>undesired</font> howlers and numerous yawns . "
            ],
            "text/plain": [
              "<IPython.core.display.HTML object>"
            ]
          },
          "metadata": {
            "tags": []
          }
        },
        {
          "output_type": "stream",
          "text": [
            "\r[Succeeded / Failed / Total] 13 / 6 / 32: : 32it [00:26,  1.20it/s]"
          ],
          "name": "stderr"
        },
        {
          "output_type": "display_data",
          "data": {
            "text/html": [
              "<font color = red>Negative (66%)</font> --> <font color = gray>[SKIPPED]</font><br>a gorgeous , witty , seductive movie . "
            ],
            "text/plain": [
              "<IPython.core.display.HTML object>"
            ]
          },
          "metadata": {
            "tags": []
          }
        },
        {
          "output_type": "stream",
          "text": [
            "[Succeeded / Failed / Total] 13 / 6 / 33: : 33it [00:26,  1.23it/s]"
          ],
          "name": "stderr"
        },
        {
          "output_type": "display_data",
          "data": {
            "text/html": [
              "<font color = green>Positive (57%)</font> --> <font color = gray>[SKIPPED]</font><br>if the movie succeeds in instilling a wary sense of ` there but for the grace of god , ' it is far too self-conscious to draw you deeply into its world . "
            ],
            "text/plain": [
              "<IPython.core.display.HTML object>"
            ]
          },
          "metadata": {
            "tags": []
          }
        },
        {
          "output_type": "stream",
          "text": [
            "\r[Succeeded / Failed / Total] 13 / 6 / 34: : 34it [00:26,  1.27it/s]"
          ],
          "name": "stderr"
        },
        {
          "output_type": "display_data",
          "data": {
            "text/html": [
              "<font color = red>Negative (87%)</font> --> <font color = green>Positive (55%)</font><br>it does n't <font color = red>believe</font> in itself , it has no <font color = red>sense</font> of <font color = red>humor</font> ... it 's just plain <font color = red>bored</font> . <br>it does n't <font color = green>contend</font> in itself , it has no <font color = green>manner</font> of <font color = green>humour</font> ... it 's just plain <font color = green>unattractive</font> . "
            ],
            "text/plain": [
              "<IPython.core.display.HTML object>"
            ]
          },
          "metadata": {
            "tags": []
          }
        },
        {
          "output_type": "stream",
          "text": [
            "[Succeeded / Failed / Total] 14 / 6 / 35: : 35it [00:27,  1.27it/s]"
          ],
          "name": "stderr"
        },
        {
          "output_type": "display_data",
          "data": {
            "text/html": [
              "<font color = green>Positive (67%)</font> --> <font color = gray>[SKIPPED]</font><br>a sequence of ridiculous shoot - 'em - up scenes . "
            ],
            "text/plain": [
              "<IPython.core.display.HTML object>"
            ]
          },
          "metadata": {
            "tags": []
          }
        },
        {
          "output_type": "stream",
          "text": [
            "\r[Succeeded / Failed / Total] 14 / 6 / 36: : 36it [00:27,  1.31it/s]"
          ],
          "name": "stderr"
        },
        {
          "output_type": "display_data",
          "data": {
            "text/html": [
              "<font color = green>Positive (55%)</font> --> <font color = red>Negative (51%)</font><br>the weight of the <font color = green>piece</font> , the unerring professionalism of the chilly production , and the fascination embedded in the <font color = green>lurid</font> topic prove recommendation enough . <br>the weight of the <font color = red>pieces</font> , the unerring professionalism of the chilly production , and the fascination embedded in the <font color = red>classist</font> topic prove recommendation enough . "
            ],
            "text/plain": [
              "<IPython.core.display.HTML object>"
            ]
          },
          "metadata": {
            "tags": []
          }
        },
        {
          "output_type": "stream",
          "text": [
            "[Succeeded / Failed / Total] 15 / 6 / 37: : 37it [00:27,  1.33it/s]"
          ],
          "name": "stderr"
        },
        {
          "output_type": "display_data",
          "data": {
            "text/html": [
              "<font color = green>Positive (89%)</font> --> <font color = gray>[SKIPPED]</font><br>( w ) hile long on amiable monkeys and worthy environmentalism , jane goodall 's wild chimpanzees is short on the thrills the oversize medium demands . "
            ],
            "text/plain": [
              "<IPython.core.display.HTML object>"
            ]
          },
          "metadata": {
            "tags": []
          }
        },
        {
          "output_type": "stream",
          "text": [
            "\r[Succeeded / Failed / Total] 15 / 6 / 38: : 38it [00:27,  1.37it/s]"
          ],
          "name": "stderr"
        },
        {
          "output_type": "display_data",
          "data": {
            "text/html": [
              "<font color = red>Negative (54%)</font> --> <font color = gray>[SKIPPED]</font><br>as surreal as a dream and as detailed as a photograph , as visually dexterous as it is at times imaginatively overwhelming . "
            ],
            "text/plain": [
              "<IPython.core.display.HTML object>"
            ]
          },
          "metadata": {
            "tags": []
          }
        },
        {
          "output_type": "stream",
          "text": [
            "\r[Succeeded / Failed / Total] 15 / 6 / 39: : 39it [00:27,  1.40it/s]"
          ],
          "name": "stderr"
        },
        {
          "output_type": "display_data",
          "data": {
            "text/html": [
              "<font color = red>Negative (56%)</font> --> <font color = gray>[SKIPPED]</font><br>escaping the studio , piccoli is warmly affecting and so is this adroitly minimalist movie . "
            ],
            "text/plain": [
              "<IPython.core.display.HTML object>"
            ]
          },
          "metadata": {
            "tags": []
          }
        },
        {
          "output_type": "stream",
          "text": [
            "\r[Succeeded / Failed / Total] 15 / 6 / 40: : 40it [00:27,  1.44it/s]"
          ],
          "name": "stderr"
        },
        {
          "output_type": "display_data",
          "data": {
            "text/html": [
              "<font color = red>Negative (51%)</font> --> <font color = gray>[SKIPPED]</font><br>there 's ... tremendous energy from the cast , a sense of playfulness and excitement that seems appropriate . "
            ],
            "text/plain": [
              "<IPython.core.display.HTML object>"
            ]
          },
          "metadata": {
            "tags": []
          }
        },
        {
          "output_type": "stream",
          "text": [
            "\r[Succeeded / Failed / Total] 15 / 6 / 41: : 41it [00:27,  1.47it/s]"
          ],
          "name": "stderr"
        },
        {
          "output_type": "display_data",
          "data": {
            "text/html": [
              "<font color = green>Positive (65%)</font> --> <font color = red>Negative (62%)</font><br>this illuminating documentary transcends our <font color = green>preconceived</font> vision of the holy land and its inhabitants , revealing the human complexities beneath . <br>this illuminating documentary transcends our <font color = red>demonized</font> vision of the holy land and its inhabitants , revealing the human complexities beneath . "
            ],
            "text/plain": [
              "<IPython.core.display.HTML object>"
            ]
          },
          "metadata": {
            "tags": []
          }
        },
        {
          "output_type": "stream",
          "text": [
            "[Succeeded / Failed / Total] 16 / 6 / 42: : 42it [00:28,  1.49it/s]"
          ],
          "name": "stderr"
        },
        {
          "output_type": "display_data",
          "data": {
            "text/html": [
              "<font color = red>Negative (54%)</font> --> <font color = gray>[SKIPPED]</font><br>the subtle strength of `` elling '' is that it never loses touch with the reality of the grim situation . "
            ],
            "text/plain": [
              "<IPython.core.display.HTML object>"
            ]
          },
          "metadata": {
            "tags": []
          }
        },
        {
          "output_type": "stream",
          "text": [
            "\r[Succeeded / Failed / Total] 16 / 6 / 43: : 43it [00:28,  1.53it/s]"
          ],
          "name": "stderr"
        },
        {
          "output_type": "display_data",
          "data": {
            "text/html": [
              "<font color = red>Negative (68%)</font> --> <font color = gray>[SKIPPED]</font><br>holm ... embodies the character with an effortlessly regal charisma . "
            ],
            "text/plain": [
              "<IPython.core.display.HTML object>"
            ]
          },
          "metadata": {
            "tags": []
          }
        },
        {
          "output_type": "stream",
          "text": [
            "\r[Succeeded / Failed / Total] 16 / 6 / 44: : 44it [00:28,  1.56it/s]"
          ],
          "name": "stderr"
        },
        {
          "output_type": "display_data",
          "data": {
            "text/html": [
              "<font color = red>Negative (75%)</font> --> <font color = red>[FAILED]</font><br>the title not only describes its main characters , but the lazy people behind the camera as well . "
            ],
            "text/plain": [
              "<IPython.core.display.HTML object>"
            ]
          },
          "metadata": {
            "tags": []
          }
        },
        {
          "output_type": "stream",
          "text": [
            "\r[Succeeded / Failed / Total] 16 / 7 / 45: : 45it [00:31,  1.42it/s]"
          ],
          "name": "stderr"
        },
        {
          "output_type": "display_data",
          "data": {
            "text/html": [
              "<font color = red>Negative (83%)</font> --> <font color = red>[FAILED]</font><br>it offers little beyond the momentary joys of pretty and weightless intellectual entertainment . "
            ],
            "text/plain": [
              "<IPython.core.display.HTML object>"
            ]
          },
          "metadata": {
            "tags": []
          }
        },
        {
          "output_type": "stream",
          "text": [
            "\r[Succeeded / Failed / Total] 16 / 8 / 46: : 46it [00:33,  1.39it/s]"
          ],
          "name": "stderr"
        },
        {
          "output_type": "display_data",
          "data": {
            "text/html": [
              "<font color = red>Negative (67%)</font> --> <font color = green>Positive (59%)</font><br>a synthesis of cliches and <font color = red>absurdities</font> that <font color = red>seems</font> positively <font color = red>decadent</font> in its cinematic flash and <font color = red>emptiness</font> . <br>a synthesis of cliches and <font color = green>psychokinesis</font> that <font color = green>seemed</font> positively <font color = green>romanticized</font> in its cinematic flash and <font color = green>pantheistic</font> . "
            ],
            "text/plain": [
              "<IPython.core.display.HTML object>"
            ]
          },
          "metadata": {
            "tags": []
          }
        },
        {
          "output_type": "stream",
          "text": [
            "[Succeeded / Failed / Total] 17 / 8 / 47: : 47it [00:33,  1.39it/s]"
          ],
          "name": "stderr"
        },
        {
          "output_type": "stream",
          "text": [
            "+-------------------------------+--------+\n",
            "| Attack Results                |        |\n",
            "+-------------------------------+--------+\n",
            "| Number of successful attacks: | 17     |\n",
            "| Number of failed attacks:     | 8      |\n",
            "| Number of skipped attacks:    | 22     |\n",
            "| Original accuracy:            | 53.19% |\n",
            "| Accuracy under attack:        | 17.02% |\n",
            "| Attack success rate:          | 68.0%  |\n",
            "| Average perturbed word %:     | 17.3%  |\n",
            "| Average num. words per input: | 16.53  |\n",
            "| Avg num queries:              | 130.96 |\n",
            "+-------------------------------+--------+"
          ],
          "name": "stdout"
        },
        {
          "output_type": "stream",
          "text": [
            "\n",
            "\u001b[34;1mtextattack\u001b[0m: Attack time: 33.89896631240845s\n"
          ],
          "name": "stderr"
        }
      ]
    },
    {
      "cell_type": "code",
      "metadata": {
        "colab": {
          "base_uri": "https://localhost:8080/"
        },
        "id": "v-xQd-KOVf88",
        "outputId": "e8b197a0-6953-4dd7-da12-8b2606c17836"
      },
      "source": [
        "from textattack.search_methods import ParticleSwarmOptimization\n",
        "from textattack.constraints.pre_transformation import RepeatModification, StopwordModification\n",
        "from textattack.shared import Attack\n",
        "from textattack.goal_functions import UntargetedClassification\n",
        "from textattack.datasets import HuggingFaceDataset\n",
        "\n",
        "# We're going to use our word swap class as the attack transformation.\n",
        "transformation = Swapper_G()\n",
        "# We'll constrain modification of already modified indices and stopwords\n",
        "constraints = [RepeatModification(),\n",
        "               StopwordModification()]\n",
        "#seach method\n",
        "search_method = ParticleSwarmOptimization(pop_size=10,max_iters=5,post_turn_check=True,max_turn_retries=5)\n",
        "# Create the goal function using the model\n",
        "\n",
        "goal_function = UntargetedClassification(model_wrapper)\n",
        "\n",
        "# Now, let's make the attack from the 4 components:\n",
        "attack = Attack(goal_function, constraints, transformation, search_method)\n",
        "\n",
        "dataset = HuggingFaceDataset(\"glue\",\"sst2\", \"validation\")"
      ],
      "execution_count": 38,
      "outputs": [
        {
          "output_type": "stream",
          "text": [
            "\u001b[34;1mtextattack\u001b[0m: Unknown if model of class <class 'transformers.models.distilbert.modeling_distilbert.DistilBertForSequenceClassification'> compatible with goal function <class 'textattack.goal_functions.classification.untargeted_classification.UntargetedClassification'>.\n",
            "Reusing dataset glue (/root/.cache/huggingface/datasets/glue/sst2/1.0.0/dacbe3125aa31d7f70367a07a8a9e72a5a0bfeb5fc42e75c9db75b96da6053ad)\n",
            "\u001b[34;1mtextattack\u001b[0m: Loading \u001b[94mdatasets\u001b[0m dataset \u001b[94mglue\u001b[0m, subset \u001b[94msst2\u001b[0m, split \u001b[94mvalidation\u001b[0m.\n"
          ],
          "name": "stderr"
        }
      ]
    },
    {
      "cell_type": "code",
      "metadata": {
        "colab": {
          "base_uri": "https://localhost:8080/"
        },
        "id": "iPkMFM_fVht0",
        "outputId": "0d213351-8594-4533-c1f7-9ce41cd30441"
      },
      "source": [
        "print(attack)"
      ],
      "execution_count": 39,
      "outputs": [
        {
          "output_type": "stream",
          "text": [
            "Attack(\n",
            "  (search_method): ParticleSwarmOptimization(\n",
            "    (pop_size):  10\n",
            "    (max_iters):  5\n",
            "    (post_turn_check):  True\n",
            "    (max_turn_retries):  20\n",
            "  )\n",
            "  (goal_function):  UntargetedClassification\n",
            "  (transformation):  Swapper_G\n",
            "  (constraints): \n",
            "    (0): RepeatModification\n",
            "    (1): StopwordModification\n",
            "  (is_black_box):  True\n",
            ")\n"
          ],
          "name": "stdout"
        }
      ]
    },
    {
      "cell_type": "code",
      "metadata": {
        "colab": {
          "base_uri": "https://localhost:8080/",
          "height": 1000
        },
        "id": "Qkqnr3PJVs_E",
        "outputId": "32ce0f9b-23f2-46f4-e8e0-cf7ed112294b"
      },
      "source": [
        "from collections import deque\n",
        "\n",
        "import textattack\n",
        "import tqdm\n",
        "import time\n",
        "from IPython.display import display, HTML\n",
        "num_examples = 25\n",
        "num_remaining_attacks = num_examples\n",
        "pbar = tqdm.tqdm(total=num_remaining_attacks, smoothing=0)\n",
        "\n",
        "worklist = deque(range(0, num_examples))\n",
        "worklist_tail = worklist[-1]\n",
        "\n",
        "attack_log_manager = textattack.loggers.AttackLogManager()\n",
        "\n",
        "load_time = time.time()\n",
        "        \n",
        "num_results = 0\n",
        "num_failures = 0\n",
        "num_successes = 0\n",
        "for result in attack.attack_dataset(dataset, indices=worklist):\n",
        "    result_html_str = result.__str__(color_method=\"html\").replace(\"\\n\\n\", \"<br>\")\n",
        "    display(HTML(result_html_str))\n",
        "    attack_log_manager.log_result(result)\n",
        "            \n",
        "    if not isinstance(result, textattack.attack_results.SkippedAttackResult):\n",
        "        pbar.update(1)\n",
        "    else:\n",
        "        worklist_tail += 1\n",
        "        pbar.update(1)\n",
        "        worklist.append(worklist_tail)\n",
        "\n",
        "    num_results += 1\n",
        "\n",
        "    if (\n",
        "        type(result) == textattack.attack_results.SuccessfulAttackResult\n",
        "        or type(result) == textattack.attack_results.MaximizedAttackResult\n",
        "    ):\n",
        "        num_successes += 1\n",
        "                \n",
        "    if type(result) == textattack.attack_results.FailedAttackResult:\n",
        "        num_failures += 1\n",
        "    pbar.set_description(\n",
        "        \"[Succeeded / Failed / Total] {} / {} / {}\".format(\n",
        "            num_successes, num_failures, num_results\n",
        "        )\n",
        "    )\n",
        "\n",
        "pbar.close()\n",
        "\n",
        "attack_log_manager.enable_stdout()\n",
        "attack_log_manager.log_summary()\n",
        "attack_log_manager.flush()\n",
        "        \n",
        "textattack.shared.logger.info(f\"Attack time: {time.time() - load_time}s\")"
      ],
      "execution_count": 40,
      "outputs": [
        {
          "output_type": "stream",
          "text": [
            "\r  0%|          | 0/25 [00:00<?, ?it/s]"
          ],
          "name": "stderr"
        },
        {
          "output_type": "display_data",
          "data": {
            "text/html": [
              "<font color = red>Negative (84%)</font> --> <font color = gray>[SKIPPED]</font><br>it 's a charming and often affecting journey . "
            ],
            "text/plain": [
              "<IPython.core.display.HTML object>"
            ]
          },
          "metadata": {
            "tags": []
          }
        },
        {
          "output_type": "stream",
          "text": [
            "\r[Succeeded / Failed / Total] 0 / 0 / 1:   4%|▍         | 1/25 [00:00<00:00, 67.38it/s]"
          ],
          "name": "stderr"
        },
        {
          "output_type": "display_data",
          "data": {
            "text/html": [
              "<font color = red>Negative (79%)</font> --> <font color = green>Positive (60%)</font><br><font color = red>unflinchingly</font> <font color = red>bleak</font> and desperate <br><font color = green>aniosto</font> <font color = green>crowded</font> and desperate "
            ],
            "text/plain": [
              "<IPython.core.display.HTML object>"
            ]
          },
          "metadata": {
            "tags": []
          }
        },
        {
          "output_type": "stream",
          "text": [
            "[Succeeded / Failed / Total] 1 / 0 / 2:   8%|▊         | 2/25 [00:00<00:03,  5.83it/s]"
          ],
          "name": "stderr"
        },
        {
          "output_type": "display_data",
          "data": {
            "text/html": [
              "<font color = green>Positive (67%)</font> --> <font color = red>Negative (58%)</font><br>allows <font color = green>us</font> to hope that nolan is poised to embark a major career as a commercial yet inventive filmmaker . <br>allows <font color = red>karamursel</font> to hope that nolan is poised to embark a major career as a commercial yet inventive filmmaker . "
            ],
            "text/plain": [
              "<IPython.core.display.HTML object>"
            ]
          },
          "metadata": {
            "tags": []
          }
        },
        {
          "output_type": "stream",
          "text": [
            "\r[Succeeded / Failed / Total] 2 / 0 / 3:  12%|█▏        | 3/25 [00:00<00:06,  3.37it/s]"
          ],
          "name": "stderr"
        },
        {
          "output_type": "display_data",
          "data": {
            "text/html": [
              "<font color = green>Positive (68%)</font> --> <font color = red>Negative (58%)</font><br>the <font color = green>acting</font> , costumes , music , cinematography and sound are all astounding <font color = green>given</font> the production 's austere locales . <br>the <font color = red>hdx</font> , costumes , music , cinematography and sound are all astounding <font color = red>missiroli</font> the production 's austere locales . "
            ],
            "text/plain": [
              "<IPython.core.display.HTML object>"
            ]
          },
          "metadata": {
            "tags": []
          }
        },
        {
          "output_type": "stream",
          "text": [
            "[Succeeded / Failed / Total] 3 / 0 / 4:  16%|█▌        | 4/25 [00:03<00:19,  1.08it/s]"
          ],
          "name": "stderr"
        },
        {
          "output_type": "display_data",
          "data": {
            "text/html": [
              "<font color = red>Negative (66%)</font> --> <font color = red>[FAILED]</font><br>it 's slow -- very , very slow . "
            ],
            "text/plain": [
              "<IPython.core.display.HTML object>"
            ]
          },
          "metadata": {
            "tags": []
          }
        },
        {
          "output_type": "stream",
          "text": [
            "\r[Succeeded / Failed / Total] 3 / 1 / 5:  20%|██        | 5/25 [00:03<00:15,  1.29it/s]"
          ],
          "name": "stderr"
        },
        {
          "output_type": "display_data",
          "data": {
            "text/html": [
              "<font color = red>Negative (61%)</font> --> <font color = gray>[SKIPPED]</font><br>although laced with humor and a few fanciful touches , the film is a refreshingly serious look at young women . "
            ],
            "text/plain": [
              "<IPython.core.display.HTML object>"
            ]
          },
          "metadata": {
            "tags": []
          }
        },
        {
          "output_type": "stream",
          "text": [
            "[Succeeded / Failed / Total] 3 / 1 / 6:  24%|██▍       | 6/25 [00:03<00:12,  1.53it/s]"
          ],
          "name": "stderr"
        },
        {
          "output_type": "display_data",
          "data": {
            "text/html": [
              "<font color = green>Positive (66%)</font> --> <font color = gray>[SKIPPED]</font><br>a sometimes tedious film . "
            ],
            "text/plain": [
              "<IPython.core.display.HTML object>"
            ]
          },
          "metadata": {
            "tags": []
          }
        },
        {
          "output_type": "stream",
          "text": [
            "\r[Succeeded / Failed / Total] 3 / 1 / 7:  28%|██▊       | 7/25 [00:03<00:10,  1.78it/s]"
          ],
          "name": "stderr"
        },
        {
          "output_type": "display_data",
          "data": {
            "text/html": [
              "<font color = green>Positive (78%)</font> --> <font color = gray>[SKIPPED]</font><br>or doing last year 's taxes with your ex-wife . "
            ],
            "text/plain": [
              "<IPython.core.display.HTML object>"
            ]
          },
          "metadata": {
            "tags": []
          }
        },
        {
          "output_type": "stream",
          "text": [
            "\r[Succeeded / Failed / Total] 3 / 1 / 8:  32%|███▏      | 8/25 [00:03<00:08,  2.02it/s]"
          ],
          "name": "stderr"
        },
        {
          "output_type": "display_data",
          "data": {
            "text/html": [
              "<font color = red>Negative (68%)</font> --> <font color = gray>[SKIPPED]</font><br>you do n't have to know about music to appreciate the film 's easygoing blend of comedy and romance . "
            ],
            "text/plain": [
              "<IPython.core.display.HTML object>"
            ]
          },
          "metadata": {
            "tags": []
          }
        },
        {
          "output_type": "stream",
          "text": [
            "\r[Succeeded / Failed / Total] 3 / 1 / 9:  36%|███▌      | 9/25 [00:03<00:07,  2.27it/s]"
          ],
          "name": "stderr"
        },
        {
          "output_type": "display_data",
          "data": {
            "text/html": [
              "<font color = red>Negative (66%)</font> --> <font color = green>Positive (89%)</font><br>in exactly 89 minutes , most of which passed as slowly as if i 'd been sitting naked on an igloo , <font color = red>formula</font> 51 sank from quirky to jerky to utter turkey . <br>in exactly 89 minutes , most of which passed as slowly as if i 'd been sitting naked on an igloo , <font color = green>euler</font> 51 sank from quirky to jerky to utter turkey . "
            ],
            "text/plain": [
              "<IPython.core.display.HTML object>"
            ]
          },
          "metadata": {
            "tags": []
          }
        },
        {
          "output_type": "stream",
          "text": [
            "[Succeeded / Failed / Total] 4 / 1 / 10:  40%|████      | 10/25 [00:04<00:06,  2.20it/s]"
          ],
          "name": "stderr"
        },
        {
          "output_type": "display_data",
          "data": {
            "text/html": [
              "<font color = green>Positive (57%)</font> --> <font color = red>Negative (60%)</font><br>the mesmerizing <font color = green>performances</font> of the leads keep the film grounded and keep the audience riveted . <br>the mesmerizing <font color = red>concerts</font> of the leads keep the film grounded and keep the audience riveted . "
            ],
            "text/plain": [
              "<IPython.core.display.HTML object>"
            ]
          },
          "metadata": {
            "tags": []
          }
        },
        {
          "output_type": "stream",
          "text": [
            "\r[Succeeded / Failed / Total] 5 / 1 / 11:  44%|████▍     | 11/25 [00:04<00:06,  2.24it/s]"
          ],
          "name": "stderr"
        },
        {
          "output_type": "display_data",
          "data": {
            "text/html": [
              "<font color = green>Positive (59%)</font> --> <font color = gray>[SKIPPED]</font><br>it takes a strange kind of laziness to waste the talents of robert forster , anne meara , eugene levy , and reginald veljohnson all in the same movie . "
            ],
            "text/plain": [
              "<IPython.core.display.HTML object>"
            ]
          },
          "metadata": {
            "tags": []
          }
        },
        {
          "output_type": "stream",
          "text": [
            "\r[Succeeded / Failed / Total] 5 / 1 / 12:  48%|████▊     | 12/25 [00:04<00:05,  2.43it/s]"
          ],
          "name": "stderr"
        },
        {
          "output_type": "display_data",
          "data": {
            "text/html": [
              "<font color = red>Negative (51%)</font> --> <font color = green>Positive (68%)</font><br>... the film <font color = red>suffers</font> from a lack of humor ( something needed to balance out the violence ) ... <br>... the film <font color = green>benefited</font> from a lack of humor ( something needed to balance out the violence ) ... "
            ],
            "text/plain": [
              "<IPython.core.display.HTML object>"
            ]
          },
          "metadata": {
            "tags": []
          }
        },
        {
          "output_type": "stream",
          "text": [
            "\r[Succeeded / Failed / Total] 6 / 1 / 13:  52%|█████▏    | 13/25 [00:05<00:04,  2.45it/s]"
          ],
          "name": "stderr"
        },
        {
          "output_type": "display_data",
          "data": {
            "text/html": [
              "<font color = red>Negative (84%)</font> --> <font color = gray>[SKIPPED]</font><br>we root for ( clara and paul ) , even like them , though perhaps it 's an emotion closer to pity . "
            ],
            "text/plain": [
              "<IPython.core.display.HTML object>"
            ]
          },
          "metadata": {
            "tags": []
          }
        },
        {
          "output_type": "stream",
          "text": [
            "[Succeeded / Failed / Total] 6 / 1 / 14:  56%|█████▌    | 14/25 [00:05<00:04,  2.63it/s]"
          ],
          "name": "stderr"
        },
        {
          "output_type": "display_data",
          "data": {
            "text/html": [
              "<font color = red>Negative (75%)</font> --> <font color = green>Positive (54%)</font><br><font color = red>even</font> horror <font color = red>fans</font> will most likely not <font color = red>find</font> what they 're seeking with trouble every <font color = red>day</font> ; the <font color = red>movie</font> lacks both thrills and humor . <br><font color = green>but</font> horror <font color = green>irishwoman</font> will most likely not <font color = green>icknield</font> what they 're seeking with trouble every <font color = green>septidi</font> ; the <font color = green>film</font> lacks both thrills and humor . "
            ],
            "text/plain": [
              "<IPython.core.display.HTML object>"
            ]
          },
          "metadata": {
            "tags": []
          }
        },
        {
          "output_type": "stream",
          "text": [
            "\r[Succeeded / Failed / Total] 7 / 1 / 15:  60%|██████    | 15/25 [00:12<00:08,  1.18it/s]"
          ],
          "name": "stderr"
        },
        {
          "output_type": "display_data",
          "data": {
            "text/html": [
              "<font color = red>Negative (65%)</font> --> <font color = gray>[SKIPPED]</font><br>a gorgeous , high-spirited musical from india that exquisitely blends music , dance , song , and high drama . "
            ],
            "text/plain": [
              "<IPython.core.display.HTML object>"
            ]
          },
          "metadata": {
            "tags": []
          }
        },
        {
          "output_type": "stream",
          "text": [
            "\r[Succeeded / Failed / Total] 7 / 1 / 16:  64%|██████▍   | 16/25 [00:12<00:07,  1.26it/s]"
          ],
          "name": "stderr"
        },
        {
          "output_type": "display_data",
          "data": {
            "text/html": [
              "<font color = red>Negative (69%)</font> --> <font color = gray>[SKIPPED]</font><br>the emotions are raw and will strike a nerve with anyone who 's ever had family trauma . "
            ],
            "text/plain": [
              "<IPython.core.display.HTML object>"
            ]
          },
          "metadata": {
            "tags": []
          }
        },
        {
          "output_type": "stream",
          "text": [
            "\r[Succeeded / Failed / Total] 7 / 1 / 17:  68%|██████▊   | 17/25 [00:12<00:06,  1.33it/s]"
          ],
          "name": "stderr"
        },
        {
          "output_type": "display_data",
          "data": {
            "text/html": [
              "<font color = red>Negative (67%)</font> --> <font color = gray>[SKIPPED]</font><br>audrey tatou has a knack for picking roles that magnify her outrageous charm , and in this literate french comedy , she 's as morning-glory exuberant as she was in amélie . "
            ],
            "text/plain": [
              "<IPython.core.display.HTML object>"
            ]
          },
          "metadata": {
            "tags": []
          }
        },
        {
          "output_type": "stream",
          "text": [
            "[Succeeded / Failed / Total] 7 / 1 / 18:  72%|███████▏  | 18/25 [00:12<00:04,  1.41it/s]"
          ],
          "name": "stderr"
        },
        {
          "output_type": "display_data",
          "data": {
            "text/html": [
              "<font color = green>Positive (52%)</font> --> <font color = gray>[SKIPPED]</font><br>... the movie is just a plain old monster . "
            ],
            "text/plain": [
              "<IPython.core.display.HTML object>"
            ]
          },
          "metadata": {
            "tags": []
          }
        },
        {
          "output_type": "stream",
          "text": [
            "\r[Succeeded / Failed / Total] 7 / 1 / 19:  76%|███████▌  | 19/25 [00:12<00:04,  1.48it/s]"
          ],
          "name": "stderr"
        },
        {
          "output_type": "display_data",
          "data": {
            "text/html": [
              "<font color = red>Negative (90%)</font> --> <font color = green>Positive (73%)</font><br>in its best <font color = red>moments</font> , resembles a bad high <font color = red>school</font> production of grease , <font color = red>without</font> benefit of song . <br>in its best <font color = green>memorable</font> , resembles a bad high <font color = green>haggerty</font> production of grease , <font color = green>any</font> benefit of song . "
            ],
            "text/plain": [
              "<IPython.core.display.HTML object>"
            ]
          },
          "metadata": {
            "tags": []
          }
        },
        {
          "output_type": "stream",
          "text": [
            "\r[Succeeded / Failed / Total] 8 / 1 / 20:  80%|████████  | 20/25 [00:14<00:03,  1.33it/s]"
          ],
          "name": "stderr"
        },
        {
          "output_type": "display_data",
          "data": {
            "text/html": [
              "<font color = red>Negative (79%)</font> --> <font color = green>Positive (61%)</font><br><font color = red>pumpkin</font> takes an admirable look at the hypocrisy of political correctness , but it does so with such an uneven tone that you never know when <font color = red>humor</font> ends and tragedy begins . <br><font color = green>synchromesh</font> takes an admirable look at the hypocrisy of political correctness , but it does so with such an uneven tone that you never know when <font color = green>labvakar</font> ends and tragedy begins . "
            ],
            "text/plain": [
              "<IPython.core.display.HTML object>"
            ]
          },
          "metadata": {
            "tags": []
          }
        },
        {
          "output_type": "stream",
          "text": [
            "\r[Succeeded / Failed / Total] 9 / 1 / 21:  84%|████████▍ | 21/25 [00:16<00:03,  1.24it/s]"
          ],
          "name": "stderr"
        },
        {
          "output_type": "display_data",
          "data": {
            "text/html": [
              "<font color = red>Negative (78%)</font> --> <font color = red>[FAILED]</font><br>the iditarod lasts for days - this just felt like it did . "
            ],
            "text/plain": [
              "<IPython.core.display.HTML object>"
            ]
          },
          "metadata": {
            "tags": []
          }
        },
        {
          "output_type": "stream",
          "text": [
            "[Succeeded / Failed / Total] 9 / 2 / 22:  88%|████████▊ | 22/25 [00:18<00:02,  1.20it/s]"
          ],
          "name": "stderr"
        },
        {
          "output_type": "display_data",
          "data": {
            "text/html": [
              "<font color = red>Negative (73%)</font> --> <font color = green>Positive (82%)</font><br><font color = red>holden</font> <font color = red>caulfield</font> did it <font color = red>better</font> . <br><font color = green>brosnan</font> <font color = green>blumenthal</font> did it <font color = green>eret</font> . "
            ],
            "text/plain": [
              "<IPython.core.display.HTML object>"
            ]
          },
          "metadata": {
            "tags": []
          }
        },
        {
          "output_type": "stream",
          "text": [
            "\r[Succeeded / Failed / Total] 10 / 2 / 23:  92%|█████████▏| 23/25 [00:18<00:01,  1.23it/s]"
          ],
          "name": "stderr"
        },
        {
          "output_type": "display_data",
          "data": {
            "text/html": [
              "<font color = green>Positive (59%)</font> --> <font color = red>Negative (73%)</font><br>a delectable and intriguing <font color = green>thriller</font> filled with surprises , read my lips is an original . <br>a delectable and intriguing <font color = red>blaxploitation</font> filled with surprises , read my lips is an original . "
            ],
            "text/plain": [
              "<IPython.core.display.HTML object>"
            ]
          },
          "metadata": {
            "tags": []
          }
        },
        {
          "output_type": "stream",
          "text": [
            "\r[Succeeded / Failed / Total] 11 / 2 / 24:  96%|█████████▌| 24/25 [00:19<00:00,  1.26it/s]"
          ],
          "name": "stderr"
        },
        {
          "output_type": "display_data",
          "data": {
            "text/html": [
              "<font color = green>Positive (72%)</font> --> <font color = red>Negative (77%)</font><br><font color = green>seldom</font> has a movie so closely matched the <font color = green>spirit</font> of a <font color = green>man</font> and his <font color = green>work</font> . <br><font color = red>rarely</font> has a movie so closely matched the <font color = red>god</font> of a <font color = red>terc</font> and his <font color = red>ultimatte</font> . "
            ],
            "text/plain": [
              "<IPython.core.display.HTML object>"
            ]
          },
          "metadata": {
            "tags": []
          }
        },
        {
          "output_type": "stream",
          "text": [
            "\r[Succeeded / Failed / Total] 12 / 2 / 25: 100%|██████████| 25/25 [00:20<00:00,  1.22it/s]"
          ],
          "name": "stderr"
        },
        {
          "output_type": "display_data",
          "data": {
            "text/html": [
              "<font color = red>Negative (76%)</font> --> <font color = green>Positive (51%)</font><br>nicks , <font color = red>seemingly</font> uncertain what 's going to make people laugh , <font color = red>runs</font> the gamut from stale parody to raunchy sex gags to formula romantic comedy . <br>nicks , <font color = green>equalized</font> uncertain what 's going to make people laugh , <font color = green>running</font> the gamut from stale parody to raunchy sex gags to formula romantic comedy . "
            ],
            "text/plain": [
              "<IPython.core.display.HTML object>"
            ]
          },
          "metadata": {
            "tags": []
          }
        },
        {
          "output_type": "stream",
          "text": [
            "[Succeeded / Failed / Total] 13 / 2 / 26: : 26it [00:24,  1.05it/s]"
          ],
          "name": "stderr"
        },
        {
          "output_type": "display_data",
          "data": {
            "text/html": [
              "<font color = red>Negative (74%)</font> --> <font color = green>Positive (50%)</font><br>the <font color = red>action</font> switches between past and present , but the material link is too tenuous to anchor the emotional connections that purport to span a 125-year divide . <br>the <font color = green>republicaine</font> switches between past and present , but the material link is too tenuous to anchor the emotional connections that purport to span a 125-year divide . "
            ],
            "text/plain": [
              "<IPython.core.display.HTML object>"
            ]
          },
          "metadata": {
            "tags": []
          }
        },
        {
          "output_type": "stream",
          "text": [
            "\r[Succeeded / Failed / Total] 14 / 2 / 27: : 27it [00:25,  1.07it/s]"
          ],
          "name": "stderr"
        },
        {
          "output_type": "display_data",
          "data": {
            "text/html": [
              "<font color = red>Negative (67%)</font> --> <font color = gray>[SKIPPED]</font><br>it 's an offbeat treat that pokes fun at the democratic exercise while also examining its significance for those who take part . "
            ],
            "text/plain": [
              "<IPython.core.display.HTML object>"
            ]
          },
          "metadata": {
            "tags": []
          }
        },
        {
          "output_type": "stream",
          "text": [
            "\r[Succeeded / Failed / Total] 14 / 2 / 28: : 28it [00:25,  1.11it/s]"
          ],
          "name": "stderr"
        },
        {
          "output_type": "display_data",
          "data": {
            "text/html": [
              "<font color = red>Negative (59%)</font> --> <font color = red>[FAILED]</font><br>it 's a cookie-cutter movie , a cut-and-paste job . "
            ],
            "text/plain": [
              "<IPython.core.display.HTML object>"
            ]
          },
          "metadata": {
            "tags": []
          }
        },
        {
          "output_type": "stream",
          "text": [
            "\r[Succeeded / Failed / Total] 14 / 3 / 29: : 29it [00:25,  1.14it/s]"
          ],
          "name": "stderr"
        },
        {
          "output_type": "display_data",
          "data": {
            "text/html": [
              "<font color = red>Negative (64%)</font> --> <font color = green>Positive (74%)</font><br>i had to look away - this was <font color = red>god</font> awful . <br>i had to look away - this was <font color = green>kukulcan</font> awful . "
            ],
            "text/plain": [
              "<IPython.core.display.HTML object>"
            ]
          },
          "metadata": {
            "tags": []
          }
        },
        {
          "output_type": "stream",
          "text": [
            "[Succeeded / Failed / Total] 15 / 3 / 30: : 30it [00:25,  1.17it/s]"
          ],
          "name": "stderr"
        },
        {
          "output_type": "display_data",
          "data": {
            "text/html": [
              "<font color = red>Negative (58%)</font> --> <font color = gray>[SKIPPED]</font><br>thanks to scott 's charismatic roger and eisenberg 's sweet nephew , roger dodger is one of the most compelling variations on in the company of men . "
            ],
            "text/plain": [
              "<IPython.core.display.HTML object>"
            ]
          },
          "metadata": {
            "tags": []
          }
        },
        {
          "output_type": "stream",
          "text": [
            "\r[Succeeded / Failed / Total] 15 / 3 / 31: : 31it [00:25,  1.21it/s]"
          ],
          "name": "stderr"
        },
        {
          "output_type": "display_data",
          "data": {
            "text/html": [
              "<font color = red>Negative (85%)</font> --> <font color = red>[FAILED]</font><br>... designed to provide a mix of smiles and tears , `` crossroads '' instead provokes a handful of unintentional howlers and numerous yawns . "
            ],
            "text/plain": [
              "<IPython.core.display.HTML object>"
            ]
          },
          "metadata": {
            "tags": []
          }
        },
        {
          "output_type": "stream",
          "text": [
            "\r[Succeeded / Failed / Total] 15 / 4 / 32: : 32it [00:33,  1.05s/it]"
          ],
          "name": "stderr"
        },
        {
          "output_type": "display_data",
          "data": {
            "text/html": [
              "<font color = red>Negative (66%)</font> --> <font color = gray>[SKIPPED]</font><br>a gorgeous , witty , seductive movie . "
            ],
            "text/plain": [
              "<IPython.core.display.HTML object>"
            ]
          },
          "metadata": {
            "tags": []
          }
        },
        {
          "output_type": "stream",
          "text": [
            "\r[Succeeded / Failed / Total] 15 / 4 / 33: : 33it [00:33,  1.02s/it]"
          ],
          "name": "stderr"
        },
        {
          "output_type": "display_data",
          "data": {
            "text/html": [
              "<font color = green>Positive (57%)</font> --> <font color = gray>[SKIPPED]</font><br>if the movie succeeds in instilling a wary sense of ` there but for the grace of god , ' it is far too self-conscious to draw you deeply into its world . "
            ],
            "text/plain": [
              "<IPython.core.display.HTML object>"
            ]
          },
          "metadata": {
            "tags": []
          }
        },
        {
          "output_type": "stream",
          "text": [
            "[Succeeded / Failed / Total] 15 / 4 / 34: : 34it [00:33,  1.01it/s]"
          ],
          "name": "stderr"
        },
        {
          "output_type": "display_data",
          "data": {
            "text/html": [
              "<font color = red>Negative (87%)</font> --> <font color = red>[FAILED]</font><br>it does n't believe in itself , it has no sense of humor ... it 's just plain bored . "
            ],
            "text/plain": [
              "<IPython.core.display.HTML object>"
            ]
          },
          "metadata": {
            "tags": []
          }
        },
        {
          "output_type": "stream",
          "text": [
            "\r[Succeeded / Failed / Total] 15 / 5 / 35: : 35it [00:35,  1.02s/it]"
          ],
          "name": "stderr"
        },
        {
          "output_type": "display_data",
          "data": {
            "text/html": [
              "<font color = green>Positive (67%)</font> --> <font color = gray>[SKIPPED]</font><br>a sequence of ridiculous shoot - 'em - up scenes . "
            ],
            "text/plain": [
              "<IPython.core.display.HTML object>"
            ]
          },
          "metadata": {
            "tags": []
          }
        },
        {
          "output_type": "stream",
          "text": [
            "\r[Succeeded / Failed / Total] 15 / 5 / 36: : 36it [00:35,  1.01it/s]"
          ],
          "name": "stderr"
        },
        {
          "output_type": "display_data",
          "data": {
            "text/html": [
              "<font color = green>Positive (55%)</font> --> <font color = red>Negative (79%)</font><br>the weight of the piece , the unerring professionalism of the chilly production , and the fascination <font color = green>embedded</font> in the lurid topic prove recommendation enough . <br>the weight of the piece , the unerring professionalism of the chilly production , and the fascination <font color = red>yonezawa</font> in the lurid topic prove recommendation enough . "
            ],
            "text/plain": [
              "<IPython.core.display.HTML object>"
            ]
          },
          "metadata": {
            "tags": []
          }
        },
        {
          "output_type": "stream",
          "text": [
            "\r[Succeeded / Failed / Total] 16 / 5 / 37: : 37it [00:36,  1.02it/s]"
          ],
          "name": "stderr"
        },
        {
          "output_type": "display_data",
          "data": {
            "text/html": [
              "<font color = green>Positive (89%)</font> --> <font color = gray>[SKIPPED]</font><br>( w ) hile long on amiable monkeys and worthy environmentalism , jane goodall 's wild chimpanzees is short on the thrills the oversize medium demands . "
            ],
            "text/plain": [
              "<IPython.core.display.HTML object>"
            ]
          },
          "metadata": {
            "tags": []
          }
        },
        {
          "output_type": "stream",
          "text": [
            "[Succeeded / Failed / Total] 16 / 5 / 38: : 38it [00:36,  1.05it/s]"
          ],
          "name": "stderr"
        },
        {
          "output_type": "display_data",
          "data": {
            "text/html": [
              "<font color = red>Negative (54%)</font> --> <font color = gray>[SKIPPED]</font><br>as surreal as a dream and as detailed as a photograph , as visually dexterous as it is at times imaginatively overwhelming . "
            ],
            "text/plain": [
              "<IPython.core.display.HTML object>"
            ]
          },
          "metadata": {
            "tags": []
          }
        },
        {
          "output_type": "stream",
          "text": [
            "\r[Succeeded / Failed / Total] 16 / 5 / 39: : 39it [00:36,  1.08it/s]"
          ],
          "name": "stderr"
        },
        {
          "output_type": "display_data",
          "data": {
            "text/html": [
              "<font color = red>Negative (56%)</font> --> <font color = gray>[SKIPPED]</font><br>escaping the studio , piccoli is warmly affecting and so is this adroitly minimalist movie . "
            ],
            "text/plain": [
              "<IPython.core.display.HTML object>"
            ]
          },
          "metadata": {
            "tags": []
          }
        },
        {
          "output_type": "stream",
          "text": [
            "\r[Succeeded / Failed / Total] 16 / 5 / 40: : 40it [00:36,  1.10it/s]"
          ],
          "name": "stderr"
        },
        {
          "output_type": "display_data",
          "data": {
            "text/html": [
              "<font color = red>Negative (51%)</font> --> <font color = gray>[SKIPPED]</font><br>there 's ... tremendous energy from the cast , a sense of playfulness and excitement that seems appropriate . "
            ],
            "text/plain": [
              "<IPython.core.display.HTML object>"
            ]
          },
          "metadata": {
            "tags": []
          }
        },
        {
          "output_type": "stream",
          "text": [
            "\r[Succeeded / Failed / Total] 16 / 5 / 41: : 41it [00:36,  1.13it/s]"
          ],
          "name": "stderr"
        },
        {
          "output_type": "display_data",
          "data": {
            "text/html": [
              "<font color = green>Positive (65%)</font> --> <font color = red>Negative (62%)</font><br>this illuminating <font color = green>documentary</font> transcends our preconceived vision of the holy land and its inhabitants , revealing the human complexities beneath . <br>this illuminating <font color = red>anthology</font> transcends our preconceived vision of the holy land and its inhabitants , revealing the human complexities beneath . "
            ],
            "text/plain": [
              "<IPython.core.display.HTML object>"
            ]
          },
          "metadata": {
            "tags": []
          }
        },
        {
          "output_type": "stream",
          "text": [
            "[Succeeded / Failed / Total] 17 / 5 / 42: : 42it [00:36,  1.14it/s]"
          ],
          "name": "stderr"
        },
        {
          "output_type": "display_data",
          "data": {
            "text/html": [
              "<font color = red>Negative (54%)</font> --> <font color = gray>[SKIPPED]</font><br>the subtle strength of `` elling '' is that it never loses touch with the reality of the grim situation . "
            ],
            "text/plain": [
              "<IPython.core.display.HTML object>"
            ]
          },
          "metadata": {
            "tags": []
          }
        },
        {
          "output_type": "stream",
          "text": [
            "\r[Succeeded / Failed / Total] 17 / 5 / 43: : 43it [00:36,  1.17it/s]"
          ],
          "name": "stderr"
        },
        {
          "output_type": "display_data",
          "data": {
            "text/html": [
              "<font color = red>Negative (68%)</font> --> <font color = gray>[SKIPPED]</font><br>holm ... embodies the character with an effortlessly regal charisma . "
            ],
            "text/plain": [
              "<IPython.core.display.HTML object>"
            ]
          },
          "metadata": {
            "tags": []
          }
        },
        {
          "output_type": "stream",
          "text": [
            "\r[Succeeded / Failed / Total] 17 / 5 / 44: : 44it [00:36,  1.19it/s]"
          ],
          "name": "stderr"
        },
        {
          "output_type": "display_data",
          "data": {
            "text/html": [
              "<font color = red>Negative (75%)</font> --> <font color = green>Positive (82%)</font><br>the title not only describes its main characters , but the <font color = red>lazy</font> people behind the camera as well . <br>the title not only describes its main characters , but the <font color = green>tamazight</font> people behind the camera as well . "
            ],
            "text/plain": [
              "<IPython.core.display.HTML object>"
            ]
          },
          "metadata": {
            "tags": []
          }
        },
        {
          "output_type": "stream",
          "text": [
            "\r[Succeeded / Failed / Total] 18 / 5 / 45: : 45it [00:37,  1.21it/s]"
          ],
          "name": "stderr"
        },
        {
          "output_type": "display_data",
          "data": {
            "text/html": [
              "<font color = red>Negative (83%)</font> --> <font color = red>[FAILED]</font><br>it offers little beyond the momentary joys of pretty and weightless intellectual entertainment . "
            ],
            "text/plain": [
              "<IPython.core.display.HTML object>"
            ]
          },
          "metadata": {
            "tags": []
          }
        },
        {
          "output_type": "stream",
          "text": [
            "[Succeeded / Failed / Total] 18 / 6 / 46: : 46it [00:45,  1.01it/s]"
          ],
          "name": "stderr"
        },
        {
          "output_type": "display_data",
          "data": {
            "text/html": [
              "<font color = red>Negative (67%)</font> --> <font color = green>Positive (58%)</font><br>a synthesis of <font color = red>cliches</font> and absurdities that seems positively decadent in its cinematic <font color = red>flash</font> and <font color = red>emptiness</font> . <br>a synthesis of <font color = green>playmate</font> and absurdities that seems positively decadent in its cinematic <font color = green>flarp</font> and <font color = green>deceleration</font> . "
            ],
            "text/plain": [
              "<IPython.core.display.HTML object>"
            ]
          },
          "metadata": {
            "tags": []
          }
        },
        {
          "output_type": "stream",
          "text": [
            "[Succeeded / Failed / Total] 19 / 6 / 47: : 47it [00:47,  1.02s/it]"
          ],
          "name": "stderr"
        },
        {
          "output_type": "stream",
          "text": [
            "+-------------------------------+--------+\n",
            "| Attack Results                |        |\n",
            "+-------------------------------+--------+\n",
            "| Number of successful attacks: | 19     |\n",
            "| Number of failed attacks:     | 6      |\n",
            "| Number of skipped attacks:    | 22     |\n",
            "| Original accuracy:            | 53.19% |\n",
            "| Accuracy under attack:        | 12.77% |\n",
            "| Attack success rate:          | 76.0%  |\n",
            "| Average perturbed word %:     | 14.89% |\n",
            "| Average num. words per input: | 16.53  |\n",
            "| Avg num queries:              | 88.28  |\n",
            "+-------------------------------+--------+"
          ],
          "name": "stdout"
        },
        {
          "output_type": "stream",
          "text": [
            "\n",
            "\u001b[34;1mtextattack\u001b[0m: Attack time: 47.7928683757782s\n"
          ],
          "name": "stderr"
        }
      ]
    }
  ]
}